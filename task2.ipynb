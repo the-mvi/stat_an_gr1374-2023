{
 "cells": [
  {
   "cell_type": "markdown",
   "id": "1b950f7c-cdf8-4dd6-93f7-0f9b27278b01",
   "metadata": {},
   "source": [
    "# Практическая работа №2: Классические методы математической статистики\n",
    "Выполнил студент гр. 1374 Москвин Сергей. Вариант №14"
   ]
  },
  {
   "cell_type": "markdown",
   "id": "fc1cb266-f22f-4963-821d-a87341a48893",
   "metadata": {},
   "source": [
    "## Цель работы\n",
    "Научится применять методы математической статистики для решения задач статистического анализа; сформировать навыки реализации методов с помощью прикладных программных пакетов."
   ]
  },
  {
   "cell_type": "markdown",
   "id": "51582cf6-0780-4a56-af76-2cdcce402adb",
   "metadata": {},
   "source": [
    "## Основные теоретические положения"
   ]
  },
  {
   "cell_type": "markdown",
   "id": "552bef4d-794d-432e-b4a6-fcb85666268c",
   "metadata": {},
   "source": [
    "Эмпирическое распределение : $F_n(x) = \\frac{1}{n}\\sum_{i=1}^{n}\\mathbb{I}_{\\{x_i < x\\}}$\n",
    "\n",
    "Вариационный ряд: $X_{(1)} \\le \\dots \\le X_{(n)}$\n",
    "\n",
    "Гистограмма - функция $H: K \\to \\mathbb{R}_+: H(x) = \\frac{n_i}{nh_i}$  \n",
    "$n_i$ - число элементов выборки, попавших в i-й интервал   \n",
    "h - размер интервала  \n",
    "\n",
    "Полигон частот - кусочно-линейно непрерывная функция совпадающая с гистограммой в середине каждого интервала  \n",
    "\n",
    "Выборочные числовые характеристики:\n",
    "1) Математическое ожидание $\\overline{X}=\\frac{1}{n}\\sum_{i=1}^{n}X_{i}$  \n",
    "2) Дисперсия $s^{2}=\\frac{1}{n}\\sum_{i=1}^{n}\\left( X_{i}-\\overline{X} \\right)^{2}=\\overline{X^{2}}-\\overline{X}^{2}$  \n",
    "3) Среднеквадратичное отклонение $s = \\sqrt{s^2} = \\sqrt{\\frac{1}{n}\\sum_{i=1}^{n}\\left( X_{i}-\\overline{X} \\right)^{2}}$  \n",
    "4) Медиана - p-квантиль при p = 1/2  \n",
    "5) p-квантиль $Z_{n,p} : X_{(\\left\\lfloor np\\right\\rfloor+1)}$ если $np \\notin \\mathbb{Z}$ и $\\left[X_{(np)},X_{(np+1)}\\right)$ иначе  \n",
    "6) коэффициент асимметрии (скошенности) $\\widehat{Skew_{F}}(X)=\\frac{\\frac{1}{n}\\sum_{i=1}^{n}\\left( X_{i}-\\overline{X} \\right)^{3}}{s^{3}}$  \n",
    "7) коэффициент эксцесса (островершинности) $\\widehat{Kurt_{F}}(X)=\\frac{\\frac{1}{n}\\sum_{i=1}^{n}\\left( X_{i}-\\overline{X}^{4} \\right)}{s^{4}}-3$  \n",
    "\n",
    "\n",
    "ОМП:\n",
    "Оценка $\\widehat{\\theta}(X)$, максимизирующая функцию правдоподобия $L(\\overrightarrow{X},\\theta)$ по $\\theta$ при любом фиксированном $X$  \n",
    "$L(\\overrightarrow{X}, \\widehat{\\theta}(X)) \\ge L(\\overrightarrow{X}, \\tilde{\\theta}(X))$ для любых $X \\in \\mathfrak{X}, \\tilde{\\theta}(x)$называется оценкой максимального правдоподобия  \n",
    "\n",
    "Функция правдоподобия распадается в произведения: $L(\\overrightarrow{X},\\theta)=\\prod_{i=1}^{n}p_{\\theta}(X_{i})$\n",
    "\n",
    "Логарифмическая функция правдоподобия: $LL(\\overrightarrow{X},\\theta)=\\ln L(\\overrightarrow{X},\\theta) = \\sum_{i=1}^{n}\\ln p_{\\theta}(X_{i})$\n",
    "\n",
    "ОММ:  \n",
    "\n",
    "Если существует единственное решение $\\tilde{\\theta}(X)$ системы уравнений $\\hat{\\mu_k}(\\tilde{\\theta}) = \\mu_k(\\tilde{\\theta})$ для $k = 1,\\dots,d$\n",
    "\n",
    "где $\\theta = (\\theta_1,\\dots,\\theta_d);\\ \\mu_k(\\theta) = \\mathbb{E}_{\\theta}X_1^k;\\  \\hat{\\mu_k}(\\theta) = \\frac{1}{n}\\sum_{i=1}^{n}X_1^k$ - выборочный момент k-ого порядка, то\n",
    "\n",
    "$\\tilde{\\theta}(X)$ - оценка по методу моментов\n",
    "\n",
    "Смещение оценки: $bias_{\\hat{\\theta}}(\\theta) = \\mathbb{E}\\hat{\\theta}(X) - \\theta$\n",
    "\n",
    "Асимптотическая нормальность в терминах сходимости: $\\sqrt{n}\\left( \\widehat{\\theta}(\\overrightarrow{X})-\\theta)\\right)\\sim \\mathcal{N}\\left(0,\\sigma^{2}(\\theta)\\right)$\n",
    "\n",
    "Статистика $\\hat{\\Theta}_n = \\left[T_{1,n}(\\overrightarrow{X}), T_{2,n}(\\overrightarrow{X})\\right]$ определенная при любом $n \\in \\mathbb{N}$ такая, что $lim_{n \\to \\infty}P_{\\theta}\\left(\\left[T_{1,n}(\\overrightarrow{X}), T_{2,n}(\\overrightarrow{X})\\right] \\ni \\theta \\right) \\ge 1 - \\alpha$, где $\\alpha \\in (0,1)$ - уровень значимости\n",
    "\n",
    "Метод построения на базе ОМП\n",
    "\n",
    "При выполнении определенных условий регулярности\n",
    "\n",
    "$\\sqrt{n}\\left( \\hat{\\theta}(\\overrightarrow{X})-\\theta)\\right)\\sim \\mathcal{N}\\left(0,\\frac{1}{I(\\theta)}\\right)$, где $I(\\theta) = \\lim_{n \\to \\infty}I_n(\\theta)/n$ - информация Фишера, а $ I_n(\\theta) = -\\mathbb{E} \\frac{\\partial^{2} LL}{\\partial \\theta^{2}}$\n",
    "\n",
    "Тогда $\\sqrt{nI\\left(\\hat{\\theta}(\\overrightarrow{X}) \\right)}\\ \\left( \\hat{\\theta}(\\overrightarrow{X})-\\theta \\right)\\sim \\mathcal{N}(0,1)$\n",
    "\n",
    "Выберем $x_{\\alpha} : \\Phi(x_{\\alpha}) = 1 - x_{\\alpha}/2$\n",
    "\n",
    "и получим асимптотический доверительный интервал $\\left[ \\hat{\\theta}(\\overrightarrow{X})-\\frac{X_{\\alpha}}{\\sqrt{n I\\left( \\hat{\\theta}(\\overrightarrow{X}) \\right)}};\\ \\hat{\\theta}(\\overrightarrow{X})+\\frac{X_{\\alpha}}{\\sqrt{n I\\left( \\hat{\\theta}(\\overrightarrow{X}) \\right)}} \\right] \\ni \\theta$\n",
    "\n",
    "Статистическая гипотеза - утверждение  о параметре вида $H: \\theta \\in \\Theta^* \\subseteq \\Theta$\n",
    "\n",
    "Если гипотеза вида $H: \\theta = \\theta^*$, то такая гипотеза называется простой, в ином случае она называется сложной\n",
    "\n",
    "Классическая постановка задачи\n",
    "- основная (нулевая) гипотеза: $H_0: \\theta \\in \\Theta_0$\n",
    "- альтернативная гипотеза: $H_A: \\theta \\in \\Theta_A$\n",
    "\n",
    "Статистический критрий (тест) - статистика $\\phi : \\mathfrak{X} \\to [0,1]$, которая определяет вероятность отвергнуть основную гипотезу\n",
    "\n",
    "Статистика отношения правдоподобия\n",
    "\n",
    "$H_0 : \\theta = \\theta_0;\\  H_A : \\theta = \\theta_1$\n",
    "\n",
    "$LR\\left(\\overrightarrow{X}, \\theta_1, \\theta_0\\right) = \\frac{L\\left(\\overrightarrow{X}, \\theta_1\\right)}{L\\left(\\overrightarrow{X}, \\theta_0\\right)}$\n",
    "\n",
    "Фундаментальная лемма Неймана - Пирсона\n",
    "\n",
    "Существует наиболее мощный критерий уровня значимости $\\alpha$:\n",
    "\n",
    "$\\phi(x) = 1$, при $LR(X) > c$, $\\phi(x) = p$, при $LR(X) = c$, $\\phi(x) = 0$, при $LR(X) < c$ где $c = const$ и $p \\in [0,1)$ определяются из уровнения $\\mathbb{E}_{\\theta_0}\\phi(X) = P_{\\theta_0}(LR(X) > c) + p*P_{\\theta_0}(LR(X) = c) = \\alpha$\n",
    "\n",
    "Статистика Колмогорова\n",
    "\n",
    "$D_{n}(\\overrightarrow{X}) = \\overset{}{\\underset{X \\in \\mathbb R}{sup}} |F_{0}(X) - F_{n}(X)|$\n",
    "\n",
    "Теорема Колмогорова\n",
    "\n",
    "Если гипотеза $H_{0}$ верна, и $F_{0}(X)$ - непрерывная, для любого $t > 0$:\n",
    "\n",
    "$P(\\sqrt{n} D_{n}(\\overrightarrow{X}) \\le t) \\xrightarrow[n \\rightarrow \\infty]{} K(t)$  \n",
    "\n",
    "$K(t)$ = функция распределения Колмогорова.\n",
    "\n",
    "Если $D_{n} \\lt t$, то гипотезу принимаем\n",
    "\n",
    "Если $D_{n} \\gt t$, то гипотезу отвергаем\n",
    "\n",
    "Критерий $\\chi^2$\n",
    "\n",
    "Cтатистика критерия $\\chi^2 = \\sum \\limits_{i=1}^{r} \\frac{(n_{i} - p_{i} n)^{2}}{n p_{i}}$  \n",
    "$r$ - число интервалов  \n",
    "$p_i = F_0(I_i)$ - гипотетическая вероятность попадания в интервал  \n",
    "$n_{i}$ - экспериментальная частота попадания в интервал  \n",
    "\n",
    "Если $x_\\alpha \\ge \\chi^2$, то гипотезу принимаем\n",
    "\n",
    "Если $x_\\alpha \\lt \\chi^2$, то гипотезу отвергаем\n",
    "\n",
    "$x_{\\alpha} : K_{r-1}(x_{\\alpha}) = 1 - \\alpha$, где $K_{r-1}$ - функция распределения $\\chi^2$\n"
   ]
  },
  {
   "cell_type": "markdown",
   "id": "dfc6418a-32f5-4e6d-a83f-302e7f2a7215",
   "metadata": {
    "jp-MarkdownHeadingCollapsed": true
   },
   "source": [
    "## Постановка задачи\n",
    "Для полученных в результате эксперимента наборов данных выполнить статистическую обработку. Полученные результаты содержательно проинтерпретировать."
   ]
  },
  {
   "cell_type": "markdown",
   "id": "09c562de-9253-4b6d-bb15-2dd645f5ff20",
   "metadata": {},
   "source": [
    "## Выполнение работы"
   ]
  },
  {
   "cell_type": "markdown",
   "id": "139e8b18-40eb-4d4f-9c06-fc9422b7ce0c",
   "metadata": {},
   "source": [
    "### Номер 1"
   ]
  },
  {
   "cell_type": "markdown",
   "id": "47c2e958-b60e-4456-8156-176a54295063",
   "metadata": {},
   "source": [
    "#### a) Построение вариационного ряда, эмпирической функции распределения и гистограммы частот"
   ]
  },
  {
   "cell_type": "code",
   "execution_count": 2,
   "id": "96ad4dc1-d7c3-4826-944c-68e7767c8c74",
   "metadata": {},
   "outputs": [
    {
     "name": "stdout",
     "output_type": "stream",
     "text": [
      "вариационный ряд: [1, 2, 2, 2, 2, 2, 3, 3, 3, 3, 3, 3, 3, 4, 4, 4, 4, 4, 5, 5, 5, 5, 5, 5, 5, 5, 5, 5, 5, 5, 5, 5, 5, 6, 6, 6, 6, 6, 6, 6, 7, 7, 7, 7, 8, 8, 8, 9, 9, 9]\n"
     ]
    },
    {
     "data": {
      "image/png": "[encoded data removed]",
      "text/plain": [
       "<Figure size 640x480 with 1 Axes>"
      ]
     },
     "metadata": {},
     "output_type": "display_data"
    },
    {
     "data": {
      "image/png": "[encoded data removed]",
      "text/plain": [
       "<Figure size 640x480 with 1 Axes>"
      ]
     },
     "metadata": {},
     "output_type": "display_data"
    }
   ],
   "source": [
    "import numpy as np\n",
    "import matplotlib.pyplot as plt\n",
    "from scipy import stats \n",
    "def plot_histogram(values):\n",
    "    plt.hist(values, bins = range(int(min(values)),int(max(values)) + 1),density= True)\n",
    "    plt.xlabel('Значения')\n",
    "    plt.ylabel('Частота')\n",
    "    plt.title('Гистограмма частот')\n",
    "    plt.show()\n",
    "def emp_dist_function(data, set_temp):\n",
    "    res = {}\n",
    "    final = []\n",
    "    for i in set_temp:\n",
    "        counter = 0\n",
    "        for j in data:\n",
    "            if i >= j:\n",
    "                counter+= 1\n",
    "        res[i]=counter\n",
    "    for i in res.values():\n",
    "        final.append(i/len(data))\n",
    "    return final      \n",
    "\n",
    "data = [5, 5, 5, 4, 4, 6, 3, 9, 6, 3, 4, 7, 5, 5, 4, 5, 9, 2, 6, 6, 5, 8, 1, 5, 3, 8, 8, 9, 5, 3, 6, 5, 3, 5, 3, 5, 6, 7, 5, 2, 2, 2, 3, 5, 7, 2, 7, 5, 6, 4]\n",
    "variation_series = sorted(data)\n",
    "print(f'вариационный ряд: {variation_series}')\n",
    "set_temp = set(variation_series)\n",
    "list_temp = list(set_temp)\n",
    "list_temp = sorted(list_temp)\n",
    "pr = emp_dist_function(variation_series,list_temp)\n",
    "for i in range(len(pr)-1):\n",
    "    plt.plot([list_temp[i], list_temp[i+1]],[pr[i], pr[i]],color='blue')\n",
    "plt.title('Эмпирическая функция распределения')\n",
    "plt.show()\n",
    "plot_histogram(data)"
   ]
  },
  {
   "cell_type": "markdown",
   "id": "bc420748-f4ed-408e-8648-6ad01993fff1",
   "metadata": {},
   "source": [
    "#### b) Вычислить выборочные аналоги следующих числовых характеристик: математическое ожидание; дисперсия; медианы; асимметрии; эксцесса; вероятности $\\mathbb{P}\\left(X \\in [a,b] \\right)$"
   ]
  },
  {
   "cell_type": "code",
   "execution_count": 3,
   "id": "94027d8c-1a36-41a7-9b65-8f7a021e62db",
   "metadata": {},
   "outputs": [
    {
     "name": "stdout",
     "output_type": "stream",
     "text": [
      "Математическое ожидание:4.96\n",
      "Дисперсия:3.838400000000001\n",
      "СКО:1.9591835034013534\n",
      "Медиана:5.0\n",
      "Асимметрия:0.19955399814774016\n",
      "Эксцесс:-0.46131420952978175\n",
      "Вероятность попадания в отрезок [3.66, 6.34]:0.54\n"
     ]
    }
   ],
   "source": [
    "mean = np.mean(data)\n",
    "print(f\"Математическое ожидание:{mean}\")\n",
    "var = np.var(data)\n",
    "print(f\"Дисперсия:{var}\")\n",
    "std = np.std(data)\n",
    "print(f\"СКО:{std}\")\n",
    "median = np.median(data)\n",
    "print(f\"Медиана:{median}\")\n",
    "skew = stats.skew(data)\n",
    "print(f\"Асимметрия:{skew}\")\n",
    "kurtosis = stats.kurtosis(data)\n",
    "print(f\"Эксцесс:{kurtosis}\")\n",
    "a = 3.66 \n",
    "b = 6.34\n",
    "hit_segment = (np.sum(np.array(data) <= b) - np.sum(np.array(data) <= a)) / len(data)\n",
    "print(f\"Вероятность попадания в отрезок [{a}, {b}]:{hit_segment}\") "
   ]
  },
  {
   "cell_type": "markdown",
   "id": "6d7e2f42-c1e7-4417-bf7d-06e3594c6950",
   "metadata": {},
   "source": [
    "#### c) В предположении, что исходные наблюдения являются выборкой из распределения Пуассона, построение ОМП и ОММ параметра $\\lambda$. Нахождение смещения оценок."
   ]
  },
  {
   "cell_type": "markdown",
   "id": "9fa37199-4c9c-4e01-b3cd-49a164600f0d",
   "metadata": {},
   "source": [
    "$X_1, X_2, \\dots, X_n$ выборка из распределения $Pois(\\lambda)$, $\\theta = \\lambda$  \n",
    "$q_{\\theta}(x) = \\frac{\\lambda^x}{x!}\\exp(-\\lambda)$  \n",
    "По методу максимального правдоподобия:  \n",
    "$L\\left(\\overrightarrow{X}, \\theta\\right) = \\prod_{i=1}^{n}\\frac{\\lambda^{x_i}}{x_i!}\\exp(-\\lambda) = \\lambda^{\\sum_{i=1}^{n}{x_i}}\\exp(-n\\lambda)\\prod_{i=1}^{n}\\frac{1}{x_i!}$  \n",
    "$LL\\left(\\overrightarrow{X}, \\theta\\right) = \\sum_{i=1}^{n}x_i\\ \\ln\\lambda - n\\lambda + \\ln\\prod_{i=1}^{n}\\frac{1}{x_i!}$  \n",
    "$\\frac{\\partial LL\\left(\\overrightarrow X,\\ \\theta\\right)}{\\partial \\theta} =  \\frac{\\sum_{i=1}^{n}x_i}{\\lambda} - n = 0$  \n",
    "$ \\lambda = \\frac{\\sum_{i=1}^nx_{i}}{n} = \\bar{X}$  \n",
    "$\\hat{\\theta} = \\hat{\\lambda} = \\bar{X}$  \n",
    "По методу моментов:  \n",
    "$\\mathbb{E}_\\theta X_1 = \\lambda$  \n",
    "Выборочный момент первого порядка: $M_1 = \\bar{X}$  \n",
    "Уравнение: $\\lambda = \\bar{X}$   \n",
    "$\\hat{\\lambda} = \\bar{X}$  \n",
    "ОММ совпала с ОМП  \n",
    "Смещение:  \n",
    "$\\mathbb{E}_\\theta\\hat{\\lambda} = \\mathbb{E}_\\theta\\bar{X}= \\mathbb{E}_\\theta\\frac{\\sum_{i=1}^nx_{i}}{n} = \\frac{1}{n}\\sum_{i=1}^{n}\\mathbb{E}_\\theta x_i = \\frac{1}{n} n \\lambda = \\lambda$ (оценка несмещенная)  \n",
    "Численное значение оценок: $\\bar{X} = 4.96$   "
   ]
  },
  {
   "cell_type": "markdown",
   "id": "b251b571-9052-4356-8572-1d0d8abc2d8f",
   "metadata": {},
   "source": [
    "#### d)  Построение асимптотического доверительного интервала уровня значимости $\\alpha_1$ для параметра $\\lambda$ на базе ОМП"
   ]
  },
  {
   "cell_type": "markdown",
   "id": "1fa8bcf3-0181-4f81-864d-508fc82a8b97",
   "metadata": {},
   "source": [
    "$\\hat{\\theta}\\left(\\overrightarrow{X}\\right) = \\bar{X}$ - ОМП   \n",
    "$\\sqrt{n}\\left(\\bar{X} - \\theta\\right) \\sim \\mathcal{N} \\left(0, \\frac{1}{I(\\theta))}\\right)$  \n",
    "$I_n(\\theta) = -\\mathbb{E}_{\\theta}\\frac{\\partial^2 LL\\left(\\overrightarrow X,\\ \\theta\\right)}{\\partial \\theta^2} = \\mathbb{E}_{\\theta}\\frac{\\sum_{i=1}^{n}{x_i}}{\\lambda^2} = \\frac{n}{\\lambda}$  \n",
    "$I(\\theta) = {\\lim_{n \\to \\infty}}\\frac{1}{\\lambda} = \\frac{1}{\\lambda}$    \n",
    "$\\sqrt{\\frac{n}{\\bar{X}}}\\left(\\bar{X} - \\theta\\right) \\sim \\mathcal{N} \\left(0, 1\\right)$  \n",
    "Возьмем такое $x_\\alpha$, что $\\Phi(x_\\alpha) = 1 - \\frac{\\alpha_1}{2} = 1 - 0.01 = 0.99$   \n",
    "$x_\\alpha = 2.326$  \n",
    "$P_\\theta\\left(-2.326 \\le \\sqrt{\\frac{50}{4.96}}\\left(4.96 - \\lambda\\right) \\le 2.326\\right) \\approx 1 - \\alpha_1 = 0.98$  \n",
    "$\\left[4.96 - 2.326\\sqrt{\\frac{4.96}{50}}, 4.96 + 2.326\\sqrt{\\frac{4.96}{50}}\\right] \\ni \\lambda$  \n",
    "$\\left[4.2274, 5.6926\\right] \\ni \\lambda$"
   ]
  },
  {
   "cell_type": "markdown",
   "id": "ab7318bc-ca74-4e87-afe8-109aca8f5b18",
   "metadata": {},
   "source": [
    "#### e) Построение критерия значимости $\\chi^2$ проверки простой гипотезы согласия с распределением Пуассона с параметром  $\\lambda_0$, используя гистограмму частот. Проверка гипотезы на уровне значимости $\\alpha_1$. Вычисление наибольшего значения уровня значимости, на котором ещё нет оснований отвергнуть данную гипотезу."
   ]
  },
  {
   "cell_type": "code",
   "execution_count": 4,
   "id": "9b1410ec-40f2-4130-9fca-a4889440c255",
   "metadata": {
    "scrolled": true
   },
   "outputs": [
    {
     "name": "stdout",
     "output_type": "stream",
     "text": [
      "Реальные частоты: [6, 7, 5, 15, 7, 10]\n",
      "Ожидаемые частоты: [0.6709252558050235, 1.4313072123840498, 2.8626144247681, 4.58018307962896, 6.106910772838602, 20.162499059530624]\n",
      "Статистика хи-квадрат равна: 94.54747154497535\n",
      "x_alpha_1 равен: 13.38822259903634\n",
      "Отвергаем гипотезу\n",
      "alpha должна быть очень мала, так как даже при 10^16 x_alpha = 84.1950322365213\n"
     ]
    }
   ],
   "source": [
    "lambda_val = 8\n",
    "intervals = [[1,2,3], [3,4], [4,5], [5,6], [6,7], [7,8,9]]\n",
    "real_fr = []\n",
    "theor_fr = []\n",
    "def Count_frec(a,c,b,fr):#рассчёт реальных частот \n",
    "    counter = 0\n",
    "    for i in c:\n",
    "        if b<len(intervals)-1:\n",
    "            if (i>=a[0]) and (i<a[-1]):\n",
    "                counter+=1\n",
    "        else:\n",
    "            if (i>=a[0]) and (i<=a[-1]):\n",
    "                counter+=1\n",
    "    fr.append(counter)\n",
    "def Exp_frec(a,c,fr):#рассчёт гипотетических частот \n",
    "    counter = 0\n",
    "    for i in range(len(a)-1):\n",
    "        counter += len(data)*stats.poisson.pmf(a[i], lambda_val)\n",
    "    if c == len(intervals)-1:\n",
    "        counter += len(data)*stats.poisson.pmf(a[len(a)-1], lambda_val)\n",
    "    fr.append(counter)\n",
    "for i in range(len(intervals)):\n",
    "    Count_frec(intervals[i],data,i,real_fr)\n",
    "    Exp_frec(intervals[i],i,theor_fr)\n",
    "print(f'Реальные частоты: {real_fr}')\n",
    "print(f'Ожидаемые частоты: {theor_fr}')\n",
    "\n",
    "for_chi = [];\n",
    "for i in range(len(real_fr)):\n",
    "    number = (real_fr[i]-theor_fr[i])**2 / theor_fr[i]\n",
    "    for_chi.append(number)\n",
    "chi_square = np.sum(for_chi)\n",
    "print(\"Статистика хи-квадрат равна:\", chi_square)\n",
    "alpha_1 = 0.02\n",
    "x_alpha_1 = stats.chi2.ppf(1 - alpha_1, df = len(real_fr) - 1)\n",
    "print(\"x_alpha_1 равен:\", x_alpha_1)\n",
    "if chi_square > x_alpha_1:\n",
    "    result = \"Отвергаем гипотезу\"\n",
    "else:\n",
    "    result = \"Принимаем гипотезу\"\n",
    "print(result)\n",
    "counter = 0\n",
    "while True:\n",
    "    counter += 1\n",
    "    alpha_1 = 10**(-counter)\n",
    "    x_alpha = stats.chi2.ppf(1 - alpha_1, df = len(real_fr) - 1)\n",
    "    if x_alpha > chi_square:\n",
    "        print(f\"x_alpha при уровне значимости alpha = {alpha_1} равен:{x_alpha}\")\n",
    "        break\n",
    "    if counter == 16:\n",
    "        print(f'alpha должна быть очень мала, так как даже при 10^{counter} x_alpha = {x_alpha}')\n",
    "        break\n",
    " "
   ]
  },
  {
   "cell_type": "markdown",
   "id": "2a6b85fa-52d5-48d0-bc4a-520d203d4fae",
   "metadata": {},
   "source": [
    "#### f) Построение критерия значимости $\\chi^2$ проверки сложной гипотезы согласия с распределением Пуассона. Проверка гипотезы на уровне значимости $\\alpha_1$. Вычисление наибольшего значения уровня значимости, на котором ещё нет оснований отвергнуть данную гипотезу."
   ]
  },
  {
   "cell_type": "code",
   "execution_count": 5,
   "id": "8a34b2ee-6af8-41d3-bd9c-bf3f2243daa9",
   "metadata": {},
   "outputs": [
    {
     "name": "stdout",
     "output_type": "stream",
     "text": [
      "Реальные частоты: [6, 7, 5, 15, 7, 10]\n",
      "Ожидаемые частоты: [6.052437236634523, 7.1312088084668535, 8.842698922498895, 8.771957331118916, 7.251484727058294, 10.079539829201131]\n",
      "Статистика хи-квадрат равна: 6.103984674137637\n",
      "x_alpha_1 равен: 11.667843403834778\n",
      "Принимаем гипотезу\n",
      "Наибольшее значение уровня значимости, на котором ещё нет оснований отвергнуть данную гипотезу: 0.1915100000000514\n",
      "x_maxalpha: 6.10406860985007\n"
     ]
    }
   ],
   "source": [
    "lambda_val = mean\n",
    "intervals = [[1,2,3], [3,4], [4,5], [5,6], [6,7], [7,8,9]]\n",
    "real_fr = []\n",
    "theor_fr = []\n",
    "def Count_frec(a,c,b,fr):\n",
    "    counter = 0\n",
    "    for i in c:\n",
    "        if b<len(intervals)-1:\n",
    "            if (i>=a[0]) and (i<a[-1]):\n",
    "                counter+=1\n",
    "        else:\n",
    "            if (i>=a[0]) and (i<=a[-1]):\n",
    "                counter+=1\n",
    "    fr.append(counter)\n",
    "def Exp_frec(a,c,fr): \n",
    "    counter = 0\n",
    "    for i in range(len(a)-1):\n",
    "        counter += len(data)*stats.poisson.pmf(a[i], lambda_val)\n",
    "    if c == len(intervals)-1:\n",
    "        counter += len(data)*stats.poisson.pmf(a[len(a)-1], lambda_val)\n",
    "    fr.append(counter)\n",
    "for i in range(len(intervals)):\n",
    "    Count_frec(intervals[i],data,i,real_fr)\n",
    "    Exp_frec(intervals[i],i,theor_fr)\n",
    "print(f'Реальные частоты: {real_fr}')\n",
    "print(f'Ожидаемые частоты: {theor_fr}')\n",
    "\n",
    "for_chi = [];\n",
    "for i in range(len(real_fr)):\n",
    "    number = (real_fr[i]-theor_fr[i])**2 / theor_fr[i]\n",
    "    for_chi.append(number)\n",
    "chi_square = np.sum(for_chi)\n",
    "print(\"Статистика хи-квадрат равна:\", chi_square)\n",
    "alpha_1 = 0.02\n",
    "x_alpha_1 = stats.chi2.ppf(1 - alpha_1, df = len(real_fr) - 2)\n",
    "print(\"x_alpha_1 равен:\", x_alpha_1)\n",
    "if chi_square > x_alpha_1:\n",
    "    result = \"Отвергаем гипотезу\"\n",
    "else:\n",
    "    result = \"Принимаем гипотезу\"\n",
    "print(result)\n",
    "alpha_1 = 0.02\n",
    "max_a = 0\n",
    "while True:\n",
    "    alpha_1 += 0.00001\n",
    "    x_alpha = stats.chi2.ppf(1 - alpha_1, df = len(real_fr) - 2)\n",
    "    if x_alpha > chi_square:\n",
    "        max_a = alpha_1\n",
    "    if x_alpha < chi_square:\n",
    "        print(f'Наибольшее значение уровня значимости, на котором ещё нет оснований отвергнуть данную гипотезу: {max_a}')\n",
    "        print(f'x_maxalpha: {stats.chi2.ppf(1 - max_a, df = len(real_fr) - 2)}')\n",
    "        break"
   ]
  },
  {
   "cell_type": "markdown",
   "id": "818dac3e-3037-42d3-b6c7-53e1a477d2d2",
   "metadata": {},
   "source": [
    "#### g) Построение наиболее мощного критерия проверки простой гипотезы пуассоновости с параметром $\\lambda = \\lambda_1$. Проверка гипотезы на уровне значимости $\\alpha_1$."
   ]
  },
  {
   "cell_type": "markdown",
   "id": "b9be83ad-a897-49f4-9767-281c204583ea",
   "metadata": {},
   "source": [
    "Основная гипотеза: $H_0 : \\lambda = \\lambda_0 = 8$  \n",
    "Альтернативная гипотеза: $H_A : \\lambda = \\lambda_1 = 5$  \n",
    "$L\\left(\\overrightarrow{X}, \\theta\\right) = \\prod_{i=1}^{n}\\frac{\\lambda^{x_i}}{x_i!}\\exp(-\\lambda) = \\exp(-n\\lambda)\\lambda^{\\sum_{i=1}^{n}{x_i}}\\prod_{i=1}^{n}\\frac{1}{x_i!}$\n",
    "\n",
    "$LR\\left(\\overrightarrow{X}, \\lambda_0, \\lambda_1\\right) = \\frac{L\\left(\\overrightarrow{X}, \\lambda_1\\right)}{L\\left(\\overrightarrow{X}, \\lambda_0\\right)} = \\left(\\frac{\\lambda_1}{\\lambda_0}\\right)^{\\sum_{i=1}^{n}{x_i}}\\exp(-n(\\lambda_1 - \\lambda_0))$\n",
    "\n",
    "$LR\\left(\\overrightarrow{X}, \\lambda_0, \\lambda_1\\right)$ монотонна отеносительно МДС $\\bar{X}$\n",
    "\n",
    "$LR\\left(\\overrightarrow{X}\\right) > c$  \n",
    "$\\bar{X} >c^*$  \n",
    "$c^* = \\frac{\\ln c + n(\\lambda_1 - \\lambda_0)}{n\\ln\\frac{\\lambda_1}{\\lambda_0}} $  \n",
    "Решим уравнение: $P_{\\lambda_0}\\left(LR(\\overrightarrow{X}) > c\\right) + pP_{\\lambda_0}\\left(LR(\\overrightarrow{X}) = c\\right) = \\alpha_1$\n",
    "\n",
    "$P_{\\lambda_0}\\left(n\\bar{X} > nc^*\\right) + pP_{\\lambda_0}\\left(n\\bar{X} = nc^*\\right) = \\alpha_1$\n",
    "\n",
    "Критерий не определен однозначно при $LR(\\overrightarrow{X}) = c$\n",
    "\n",
    "Пусть $LR(\\overrightarrow{X}) \\neq c$\n",
    "\n",
    "Тогда $P_{\\lambda_0}\\left(n\\bar{X} > nc^*\\right) = 1 - F_{Pois(n\\lambda_0)}\\left(nc^*\\right) = \\alpha_1$\n",
    "\n",
    "$F_{Pois(n\\lambda_0)}\\left(nc^*\\right) = 1 - \\alpha_1 = 0.98$\n"
   ]
  },
  {
   "cell_type": "code",
   "execution_count": 44,
   "id": "ce77fe93-2893-4643-a3d5-d51f60294f89",
   "metadata": {},
   "outputs": [
    {
     "name": "stdout",
     "output_type": "stream",
     "text": [
      "c^* = 1.8, sample_average = 4.96 \n",
      "не принимаем H0\n"
     ]
    }
   ],
   "source": [
    "с = stats.poisson.ppf(0.98, len(data)*8) / len(data)\n",
    "print(f\"c^* = {c}, sample_average = {mean} \")\n",
    "if c>mean:\n",
    "    print('принимаем H0')\n",
    "else:\n",
    "    print('не принимаем H0')"
   ]
  },
  {
   "cell_type": "markdown",
   "id": "e7e21c79-2c97-4717-9f83-db34a04360f7",
   "metadata": {},
   "source": [
    "Поменяем гипотезы местами  \n",
    "Основная гипотеза: $H_0 : \\lambda = \\lambda_1 = 5$  \n",
    "Альтернативная гипотеза: $H_A : \\lambda = \\lambda_0 = 8$\n",
    "\n",
    "$LR\\left(\\overrightarrow{X}, \\lambda_1, \\lambda_0\\right) = \\frac{L\\left(\\overrightarrow{X}, \\lambda_0\\right)}{L\\left(\\overrightarrow{X}, \\lambda_1\\right)} = \\left(\\frac{\\lambda_0}{\\lambda_1}\\right)^{\\sum_{i=1}^{n}{x_i}}\\exp(-n(\\lambda_0 - \\lambda_1))$\n",
    "\n",
    "$LR\\left(\\overrightarrow{X}, \\lambda_1, \\lambda_0\\right)$ монотонна относительно МДС $\\bar{X}$\n",
    "\n",
    "$LR\\left(\\overrightarrow{X}\\right) > c$  \n",
    "$\\bar{X} > c^*$   \n",
    "Решим уравнение: $P_{\\lambda_1}\\left(LR(\\overrightarrow{X}) > c\\right) + pP_{\\lambda_1}\\left(LR(\\overrightarrow{X}) = c\\right) = \\alpha_1$\n",
    "\n",
    "$P_{\\lambda_1}\\left(n\\bar{X} > nc^*\\right) + pP_{\\lambda_1}\\left(n\\bar{X} = nc^*\\right) = \\alpha_1$\n",
    "\n",
    "Критерий не определен однозначно при $LR(\\overrightarrow{X}) = c$\n",
    "\n",
    "Пусть $LR(\\overrightarrow{X}) \\neq c$\n",
    "\n",
    "Тогда $P_{\\lambda_1}\\left(n\\bar{X} > nc^*\\right) = 1 - F_{Pois(n\\lambda_1)}\\left(nc^*\\right) = \\alpha_1$\n",
    "\n",
    "$F_{Pois(n\\lambda_1)}\\left(nc^*\\right) = 1 - \\alpha_1 = 0.98$"
   ]
  },
  {
   "cell_type": "code",
   "execution_count": 47,
   "id": "578194c0-01fe-491e-8bf0-f612394c730d",
   "metadata": {},
   "outputs": [
    {
     "name": "stdout",
     "output_type": "stream",
     "text": [
      "c^* = 5.66, sample_average = 4.96 \n",
      "принимаем H0\n"
     ]
    }
   ],
   "source": [
    "c_2 = stats.poisson.ppf(0.98, len(data)*5) / len(data)\n",
    "print(f\"c^* = {c_2}, sample_average = {mean} \")\n",
    "if c_2>mean:\n",
    "    print('принимаем H0')\n",
    "else:\n",
    "    print('не принимаем H0')"
   ]
  },
  {
   "cell_type": "markdown",
   "id": "c381a383-146f-4db8-90ea-f45c4f958824",
   "metadata": {},
   "source": [
    "#### h) Замена семейства распределения Пуассона на семейство геометрических распределений: $\\mathbb{P}_{\\lambda}=\\frac{\\lambda^k}{(\\lambda+1)^{k+1}}, k \\in \\mathbb{Z}_+$ "
   ]
  },
  {
   "cell_type": "markdown",
   "id": "2141059a-6f19-41f9-a0a0-0744ae1a1aad",
   "metadata": {},
   "source": [
    "ОМП, ОММ, смещение  \n",
    "$q_{\\theta}(x) = \\frac{\\lambda^x}{(\\lambda + 1)^{x+1}}$, где $x \\in \\mathbb{Z}_{+}$, $\\theta = \\lambda$  \n",
    "ОМП:  \n",
    "$L\\left(\\overrightarrow{X}, \\theta\\right) = \\prod_{i=1}^{n}\\frac{\\lambda^{x_i}}{(\\lambda + 1)^{x_i+1}} = \\frac{\\lambda^{\\sum_{i=1}^{n}x_i}}{(\\lambda + 1)^{n + \\sum_{i=1}^{n}x_i}}$  \n",
    "$LL\\left(\\overrightarrow{X}, \\theta\\right) = \\sum_{i=1}^{n}x_i\\ \\ln\\lambda - \\left(n + \\sum_{i=1}^{n}x_i\\right)\\ln(\\lambda+1)$  \n",
    "$\\frac{\\partial LL\\left(\\overrightarrow X,\\ \\theta\\right)}{\\partial \\theta} = \\frac{\\sum_{i=1}^{n}x_i}{\\lambda} - \\frac{n + \\sum_{i=1}^{n}x_i}{\\lambda + 1} = 0 $  \n",
    "$n\\lambda+\\lambda\\sum_{i=1}^{n}x_i = \\lambda\\sum_{i=1}^{n}x_i + \\sum_{i=1}^{n}x_i$  \n",
    "$\\hat{\\theta} = \\hat{\\lambda} = \\bar{X}$  \n",
    "Оценка по методу моментов:\n",
    "$\\mathbb{E}_\\theta X_1 = \\lambda$  \n",
    "Выборочный момент первого порядка: $M_1 = \\frac{1}{n}\\sum_{i=1}^{n}x_i = \\bar{X}$  \n",
    "$\\lambda = \\bar{X}$     \n",
    "$\\hat{\\lambda} = \\bar{X}$  \n",
    "ОММ совпала с ОМП  \n",
    "Смещение:\n",
    "$\\mathbb{E}_\\theta\\hat{\\lambda} = \\mathbb{E}_\\theta\\bar{X} = \\frac{1}{n}\\mathbb{E}_\\theta\\sum_{i=1}^{n}x_i = \\frac{1}{n}\\sum_{i=1}^{n}\\mathbb{E}_\\theta x_i = \\mathbb{E}_\\theta x_1 =\\lambda $ (оценка несмещенная)  \n",
    "Численное значение оценок: $\\bar{X} = 4.96$"
   ]
  },
  {
   "cell_type": "markdown",
   "id": "3f0c6db2-4bb9-492d-8eb7-ccdbd6d5c168",
   "metadata": {},
   "source": [
    "Построение асимптотического доверительного интервала уровня значимости $\\alpha_1$ для параметра $\\lambda$ на базе ОМП  \n",
    "ОМП: $\\hat{\\theta}\\left(\\overrightarrow{X}\\right) = \\bar{X}$  \n",
    "$\\sqrt{n}\\left(\\bar{X} - \\theta\\right) \\sim \\mathcal{N} \\left(0, \\frac{1}{I(\\theta))}\\right)$\n",
    "$I_n(\\theta) = -\\mathbb{E}_{\\theta}\\frac{\\partial^2 LL\\left(\\overrightarrow X,\\ \\theta\\right)}{\\partial \\theta^2} = \\mathbb{E}_{\\theta}\\left(\\frac{\\sum_{i=1}^{n}{x_i}}{\\lambda^2} - \\frac{n + \\sum_{i=1}^{n}{x_i}}{(\\lambda + 1)^2}\\right) = \\frac{1}{\\lambda^2}\\sum_{i=1}^{n}\\mathbb{E}_{\\theta}{x_i} - \\frac{1}{(\\lambda+1)^2}\\sum_{i=1}^{n}\\mathbb{E}_{\\theta}{x_i} - \\frac{n}{(\\lambda+1)^2} = \\frac{n}{\\lambda} - \\frac{n\\lambda}{(\\lambda+1)^2} - \\frac{n}{(\\lambda+1)^2}$\n",
    "$I(\\theta) = {\\lim_{n \\to \\infty}}\\frac{1}{\\lambda} - \\frac{\\lambda}{(\\lambda+1)^2} - \\frac{1}{(\\lambda+1)^2} = \\frac{1}{\\lambda} - \\frac{1}{\\lambda+1}$  \n",
    "$I(\\hat{\\theta}) = \\frac{1}{\\bar{X}} - \\frac{1}{1 + \\bar{X}} = \\frac{1}{\\bar{X}(\\bar{X} + 1)}$  \n",
    "$\\sqrt{\\frac{n}{\\bar{X}(\\bar{X} + 1)}}\\left(\\bar{X} - \\theta\\right) \\sim \\mathcal{N} \\left(0, 1\\right)$  \n",
    "Возьмем такое $x_\\alpha$, что $\\Phi(x_\\alpha) = 1 - \\frac{\\alpha}{2} = 0.99$  \n",
    "$x_\\alpha = 2.326$  \n",
    "Тогда $P_\\theta\\left(-2.326 \\le \\sqrt{\\frac{50}{4.96(4.96 + 1)}}\\left(4.96 - \\theta\\right) \\le 2.326\\right) \\approx 1 - 0.02 = 0.98$\n",
    "$\\left[4.96 - 2.326\\sqrt{\\frac{4.96(4.96+1)}{50}}, 4.96 + 2.326\\sqrt{\\frac{4.96(4.96+1)}{50}}\\right] \\ni \\lambda$  \n",
    "$\\left[3.1715, 6.7485\\right] \\ni \\lambda$"
   ]
  },
  {
   "cell_type": "markdown",
   "id": "762e88af-612c-468b-8c20-8398c4adb358",
   "metadata": {},
   "source": [
    "Построение критерия значимости $\\chi^2$ проверки простой гипотезы согласия"
   ]
  },
  {
   "cell_type": "code",
   "execution_count": 5,
   "id": "6072e24d-c4de-46db-9f65-6a1a64fc973f",
   "metadata": {},
   "outputs": [
    {
     "name": "stdout",
     "output_type": "stream",
     "text": [
      "Реальные частоты: [6, 7, 5, 15, 7, 10]\n",
      "Ожидаемые частоты: [9.327846364883403, 3.9018442310623382, 3.468305983166523, 3.082938651703576, 2.7403899126254005, 6.52581191813127]\n",
      "Статистика хи-квадрат равна: 58.85958875870515\n",
      "x_alpha_1 равен: 13.38822259903634\n",
      "Отвергаем гипотезу\n",
      "x_alpha при уровне значимости alpha = 1e-11 равен:60.41000358417265\n"
     ]
    }
   ],
   "source": [
    "lambda_val = 8\n",
    "intervals = [[1,2,3], [3,4], [4,5], [5,6], [6,7], [7,8,9]]\n",
    "real_fr = []\n",
    "theor_fr = []\n",
    "def Count_frec(a,c,b,fr):#рассчёт реальных частот \n",
    "    counter = 0\n",
    "    for i in c:\n",
    "        if b<len(intervals)-1:\n",
    "            if (i>=a[0]) and (i<a[-1]):\n",
    "                counter+=1\n",
    "        else:\n",
    "            if (i>=a[0]) and (i<=a[-1]):\n",
    "                counter+=1\n",
    "    fr.append(counter)\n",
    "def Exp_frec(a,c,fr):#рассчёт гипотетических частот \n",
    "    counter = 0\n",
    "    for i in range(len(a)-1):\n",
    "        counter += len(data) * lambda_val ** a[i] / (1 + lambda_val) ** (a[i] + 1)\n",
    "    if c == len(intervals)-1:\n",
    "        counter += len(data)*lambda_val ** a[len(a)-1] / (1 + lambda_val) ** (a[len(a)-1] + 1)\n",
    "    fr.append(counter)\n",
    "for i in range(len(intervals)):\n",
    "    Count_frec(intervals[i],data,i,real_fr)\n",
    "    Exp_frec(intervals[i],i,theor_fr)\n",
    "print(f'Реальные частоты: {real_fr}')\n",
    "print(f'Ожидаемые частоты: {theor_fr}')\n",
    "\n",
    "for_chi = [];\n",
    "for i in range(len(real_fr)):\n",
    "    number = (real_fr[i]-theor_fr[i])**2 / theor_fr[i]\n",
    "    for_chi.append(number)\n",
    "chi_square = np.sum(for_chi)\n",
    "print(\"Статистика хи-квадрат равна:\", chi_square)\n",
    "alpha_1 = 0.02\n",
    "x_alpha_1 = stats.chi2.ppf(1 - alpha_1, df = len(real_fr) - 1)\n",
    "print(\"x_alpha_1 равен:\", x_alpha_1)\n",
    "if chi_square > x_alpha_1:\n",
    "    result = \"Отвергаем гипотезу\"\n",
    "else:\n",
    "    result = \"Принимаем гипотезу\"\n",
    "print(result)\n",
    "counter = 0\n",
    "while True:\n",
    "    counter += 1\n",
    "    alpha_1 = 10**(-counter)\n",
    "    x_alpha = stats.chi2.ppf(1 - alpha_1, df = len(real_fr) - 1)\n",
    "    if x_alpha > chi_square:\n",
    "        print(f\"x_alpha при уровне значимости alpha = {alpha_1} равен:{x_alpha}\")\n",
    "        break\n",
    "    if counter == 16:\n",
    "        print(f'alpha должна быть очень мала, так как даже при 10^{counter} x_alpha = {x_alpha}')\n",
    "        break\n",
    " "
   ]
  },
  {
   "cell_type": "markdown",
   "id": "4580d9db-cc35-4df3-8a2a-439a5e6d69d7",
   "metadata": {},
   "source": [
    "Построение критерия значимости $\\chi^2$ проверки сложной гипотезы"
   ]
  },
  {
   "cell_type": "code",
   "execution_count": 6,
   "id": "79152fe2-fdf0-4f54-9190-ee5fd3b6c3ce",
   "metadata": {},
   "outputs": [
    {
     "name": "stdout",
     "output_type": "stream",
     "text": [
      "Реальные частоты: [6, 7, 5, 15, 7, 10]\n",
      "Ожидаемые частоты: [12.79191426469997, 4.835373152740535, 4.024068932482056, 3.348889581394462, 2.786995356328278, 5.855958446706811]\n",
      "Статистика хи-квадрат равна: 54.64848052425507\n",
      "x_alpha_1 равен: 11.667843403834778\n",
      "Отвергаем гипотезу\n",
      "x_alpha при уровне значимости alpha = 1e-10 равен:55.562398343664846\n"
     ]
    }
   ],
   "source": [
    "lambda_val = mean\n",
    "intervals = [[1,2,3], [3,4], [4,5], [5,6], [6,7], [7,8,9]]\n",
    "real_fr = []\n",
    "theor_fr = []\n",
    "def Count_frec(a,c,b,fr):\n",
    "    counter = 0\n",
    "    for i in c:\n",
    "        if b<len(intervals)-1:\n",
    "            if (i>=a[0]) and (i<a[-1]):\n",
    "                counter+=1\n",
    "        else:\n",
    "            if (i>=a[0]) and (i<=a[-1]):\n",
    "                counter+=1\n",
    "    fr.append(counter)\n",
    "def Exp_frec(a,c,fr): \n",
    "    counter = 0\n",
    "    for i in range(len(a)-1):\n",
    "        counter += len(data)*lambda_val ** a[i] / (1 + lambda_val) ** (a[i] + 1)\n",
    "    if c == len(intervals)-1:\n",
    "        counter += len(data)*lambda_val ** a[len(a)-1] / (1 + lambda_val) ** (a[len(a)-1] + 1)\n",
    "    fr.append(counter)\n",
    "for i in range(len(intervals)):\n",
    "    Count_frec(intervals[i],data,i,real_fr)\n",
    "    Exp_frec(intervals[i],i,theor_fr)\n",
    "print(f'Реальные частоты: {real_fr}')\n",
    "print(f'Ожидаемые частоты: {theor_fr}')\n",
    "\n",
    "for_chi = [];\n",
    "for i in range(len(real_fr)):\n",
    "    number = (real_fr[i]-theor_fr[i])**2 / theor_fr[i]\n",
    "    for_chi.append(number)\n",
    "chi_square = np.sum(for_chi)\n",
    "print(\"Статистика хи-квадрат равна:\", chi_square)\n",
    "alpha_1 = 0.02\n",
    "x_alpha_1 = stats.chi2.ppf(1 - alpha_1, df = len(real_fr) - 2)\n",
    "print(\"x_alpha_1 равен:\", x_alpha_1)\n",
    "if chi_square > x_alpha_1:\n",
    "    result = \"Отвергаем гипотезу\"\n",
    "else:\n",
    "    result = \"Принимаем гипотезу\"\n",
    "print(result)\n",
    "counter = 0\n",
    "while True:\n",
    "    counter += 1\n",
    "    alpha_1 = 10**(-counter)\n",
    "    x_alpha = stats.chi2.ppf(1 - alpha_1, df = len(real_fr) - 1)\n",
    "    if x_alpha > chi_square:\n",
    "        print(f\"x_alpha при уровне значимости alpha = {alpha_1} равен:{x_alpha}\")\n",
    "        break\n",
    "    if counter == 16:\n",
    "        print(f'alpha должна быть очень мала, так как даже при 10^{counter} x_alpha = {x_alpha}')\n",
    "        break"
   ]
  },
  {
   "cell_type": "markdown",
   "id": "7af9a0d2-1a18-4bcc-a281-0dee95c7b3fc",
   "metadata": {},
   "source": [
    "### Задание 2"
   ]
  },
  {
   "cell_type": "markdown",
   "id": "dea2c307-e5fa-4668-b5ea-f0ff1b3bb972",
   "metadata": {},
   "source": [
    "#### a) Построение вариационного ряда, эмпирической функции распределения, гистограммы и полигона частот с шагом h."
   ]
  },
  {
   "cell_type": "code",
   "execution_count": 8,
   "id": "73a8d4e9-5895-4dbc-a3d8-57ee32a6ff49",
   "metadata": {},
   "outputs": [
    {
     "name": "stdout",
     "output_type": "stream",
     "text": [
      "вариационный ряд:[0.892, 1.051, 1.099, 1.283, 1.297, 1.346, 1.382, 1.431, 1.507, 1.526, 1.531, 1.557, 1.645, 1.685, 1.702, 1.727, 1.733, 1.821, 1.828, 1.844, 1.848, 1.875, 1.905, 1.928, 1.936, 1.941, 2.035, 2.066, 2.068, 2.069, 2.094, 2.122, 2.142, 2.203, 2.223, 2.242, 2.294, 2.295, 2.322, 2.341, 2.36, 2.442, 2.474, 2.515, 2.525, 2.555, 2.912, 2.954, 3.058, 3.256]\n"
     ]
    },
    {
     "data": {
      "image/png": "[encoded data removed]",
      "text/plain": [
       "<Figure size 640x480 with 1 Axes>"
      ]
     },
     "metadata": {},
     "output_type": "display_data"
    },
    {
     "data": {
      "image/png": "[encoded data removed]",
      "text/plain": [
       "<Figure size 640x480 with 1 Axes>"
      ]
     },
     "metadata": {},
     "output_type": "display_data"
    }
   ],
   "source": [
    "data_1 = [2.242, 2.069, 1.905, 1.727, 2.515, 1.828, 1.526, 1.645, 1.531, 1.875, 0.892, 2.223, 1.941, 1.431, 3.256, 2.341, 2.122, 2.360, 2.322, 1.297, 1.346, 2.295, 2.035, 1.685, 1.283, 1.844, 2.442, 2.094, 1.557, 2.474, 2.555, 2.954, 2.142, 2.525, 2.912, 1.507, 2.066, 1.848, 2.203, 1.928, 1.382, 2.294, 1.821, 1.051, 3.058, 1.099, 1.702, 1.936, 1.733, 2.068]\n",
    "variation_series_1 = sorted(data_1)\n",
    "print(f\"вариационный ряд:{variation_series_1}\")\n",
    "\n",
    "set_temp_1 = set(variation_series_1)\n",
    "pr_1 = list(set_temp_1)\n",
    "pr_1 = sorted(pr_1)\n",
    "rofl_1 = emp_dist_function(variation_series_1,pr_1)\n",
    "for i in range(len(rofl_1)-1):\n",
    "    plt.plot([pr_1[i], pr_1[i+1]],[rofl_1[i], rofl_1[i]],color='blue')\n",
    "plt.title('Эмпирическая функция распределения')\n",
    "plt.show()\n",
    "\n",
    "h=0.2\n",
    "bins=np.arange(min(data_1), max(data_1) + h, h)\n",
    "plt.title(\"Гистограмма и полигон частот\")\n",
    "plt.hist(data_1, bins=np.arange(min(data_1), max(data_1) + h, h),density= True)\n",
    "freq, _ = np.histogram(data_1, bins=bins,density= True)\n",
    "points = [] \n",
    "for i in range(len(bins)-1):\n",
    "    points.append((bins[i]+bins[i+1])/2)\n",
    "plt.plot(points, freq, marker='o', linestyle='-')\n",
    "plt.show()"
   ]
  },
  {
   "cell_type": "markdown",
   "id": "e7e53d56-3a4c-4bad-b089-f14aa4be4548",
   "metadata": {},
   "source": [
    "#### b) Вычислить выборочные аналоги следующих числовых характеристик: математическое ожидание; дисперсия; медианы; асимметрии; эксцесса; вероятности $\\mathbb{P}\\left(X \\in [c,d] \\right)$"
   ]
  },
  {
   "cell_type": "code",
   "execution_count": 9,
   "id": "ba83f8b4-bc5b-4be9-b207-7cb65a8a0747",
   "metadata": {},
   "outputs": [
    {
     "name": "stdout",
     "output_type": "stream",
     "text": [
      "Математическое ожидание:1.97774\n",
      "Дисперсия:0.2597265124\n",
      "СКО:0.5096337041444571\n",
      "Медиана:1.9385\n",
      "Асимметрия:0.2378013815120788\n",
      "Эксцесс:-0.05858756322893255\n",
      "Вероятность попадания в отрезок [1.8, 2.3]:0.42\n"
     ]
    }
   ],
   "source": [
    "mean_1 = np.mean(data_1)\n",
    "print(f\"Математическое ожидание:{mean_1}\")\n",
    "var_1 = np.var(data_1)\n",
    "print(f\"Дисперсия:{var_1}\")\n",
    "std_1 = np.std(data_1)\n",
    "print(f\"СКО:{std_1}\")\n",
    "median_1 = np.median(data_1)\n",
    "print(f\"Медиана:{median_1}\")\n",
    "skew_1 = stats.skew(data_1)\n",
    "print(f\"Асимметрия:{skew_1}\")\n",
    "kurtosis_1 = stats.kurtosis(data_1)\n",
    "print(f\"Эксцесс:{kurtosis_1}\")\n",
    "c = 1.8 \n",
    "d = 2.3\n",
    "hit_segment_1 = (np.sum(np.array(data_1) <= d) - np.sum(np.array(data_1) <= c)) / len(data_1)\n",
    "print(f\"Вероятность попадания в отрезок [{c}, {d}]:{hit_segment_1}\") "
   ]
  },
  {
   "cell_type": "markdown",
   "id": "7c8788af-ab10-4e88-8518-3803437817eb",
   "metadata": {},
   "source": [
    "#### c) В предположении, что исходные наблюдения являются выборкой из нормального распределения, построение ОМП и ОММ параметров $\\left(a,\\sigma^2 \\right)$. Нахождение смещения оценок."
   ]
  },
  {
   "cell_type": "markdown",
   "id": "a68a34fa-d851-40fc-85ec-0a6bbee0ee12",
   "metadata": {},
   "source": [
    "$X_1, X_2, \\dots, X_n$ выборка из распределения $\\mathcal{N}(a, \\sigma^2)$, $\\theta = (a, \\sigma^2)$  \n",
    "$q_{\\theta}(x) = \\frac{1}{\\sigma\\sqrt{2\\pi}}\\exp\\left(-\\frac{(x-a)^2}{2\\sigma^2}\\right)$  \n",
    "По методу максимального правдоподобия:  \n",
    "$L\\left(\\overrightarrow{X}, \\theta\\right) = \\prod_{i=1}^{n}\\frac{1}{\\sigma\\sqrt{2\\pi}}\\exp\\left(-\\frac{(x_i-a)^2}{2\\sigma^2}\\right) = (\\frac{1}{\\sigma\\sqrt{2\\pi}})^n\\exp\\left(-\\frac{1}{2\\sigma^2}\\sum^n_{i=1}(x_i-a)^2\\right)$  \n",
    "$LL\\left(\\overrightarrow{X}, \\theta\\right) = -\\frac{n}{2}ln(2\\pi)-nln(\\sigma)-\\frac{1}{2\\sigma^2}\\sum^n_{i=1}(x_i-a)^2$  \n",
    "$\\frac{\\partial LL\\left(\\overrightarrow X,\\ \\theta\\right)}{\\partial a} =  -\\frac{1}{2\\sigma^2}\\sum^n_{i=1}(-2)(x_i-a) = \\frac{1}{\\sigma^2}\\left(\\sum^n_{i=1}x_i-an\\right)=0$  \n",
    "$\\hat{a} = \\bar{X}$   \n",
    "$\\frac{\\partial LL\\left(\\overrightarrow X,\\ \\theta\\right)}{\\partial \\sigma} =  -\\frac{n}{\\sigma}+\\frac{1}{\\sigma^3}\\sum^n_{i=1}(x_i-a)^2 = 0$  \n",
    "$\\sigma^2 = \\frac{1}{n}\\sum^n_{i=1}(x_i-a)^2$  \n",
    "$\\hat{\\sigma^2} = s^2$   \n",
    "$\\hat{\\theta} = (\\hat{a},\\hat{\\sigma^2}) = (\\bar{X},s^2)$  \n",
    "По методу моментов:  \n",
    "$\\mathbb{E}_\\theta X_1 = a$  \n",
    "$M_1 = \\bar{X}$  \n",
    "$\\mathbb{E}_\\theta X_1^2 = a^2+\\sigma^2$  \n",
    "$M_2 = \\bar{X}^2$  \n",
    "Решаем: $\\begin{cases} a = \\bar{X} \\\\ a^2+\\sigma^2 = \\bar{X}^2 \\end{cases}$  $\\begin{cases} a = \\bar{X} \\\\ \\sigma^2 = s^2\\end{cases} $   \n",
    "ОММ совпала с ОМП  \n",
    "Смещение:  \n",
    "$\\mathbb{E}_\\theta\\hat{a} = \\mathbb{E}_\\theta\\bar{X}= \\mathbb{E}_\\theta\\frac{\\sum_{i=1}^nx_{i}}{n} = \\frac{1}{n}\\sum_{i=1}^{n}\\mathbb{E}_\\theta x_i = \\frac{1}{n} n a = a$ (оценка несмещенная)  \n",
    "$\\mathbb{E}_{\\theta}\\hat{\\sigma^{2}}=\\mathbb{E}_{\\theta}s^2=\\mathbb{E}_{\\theta}\\left(\\frac{1}{n}\\sum_{i=1}^{n}(X_{i}-\\bar{X})^{2}\\right)=\\left[Y_{i}=X_{i}-\\mathbb{E}_{\\theta}X_{i};\\begin{matrix} \\mathbb{E}_{\\theta}Y_{i}=0 \\\\ \\mathbb{D}_{\\theta}Y_{i}=\\sigma^{2} \\end{matrix}\\right]=\\mathbb{E}_{\\theta}\\bar{Y^{2}}-\\mathbb{E}_{\\theta}(\\bar{Y})^{2} = \\sigma^2 - \\frac{1}{n^{2}}\\sum_{i=1}^{n}\\sum_{j=1}^{n}\\mathbb{E}_{\\theta}Y_{i}Y_{j} = \\frac{(n-1)}{n}\\sigma^{2}$ (оценка смещенная)  \n",
    "$(S^\\prime)^{2}=\\frac{n}{n-1}S^{2};$  \n",
    "$\\mathbb{E}_{\\theta}(S^\\prime)^{2}=\\frac{n}{n-1} \\cdot \\frac{n-1}{n}\\sigma^{2}=\\sigma^{2}$ НРМД оценка   "
   ]
  },
  {
   "cell_type": "markdown",
   "id": "2c2d279b-678c-4ba3-b094-b8455af5fc60",
   "metadata": {},
   "source": [
    "#### d) Построение доверительных интервалов уровня значимости $\\alpha_2$ для параметров $\\left(a,\\sigma^2 \\right)$."
   ]
  },
  {
   "cell_type": "markdown",
   "id": "d7bba252-a495-4086-a09f-7ecaeb1eceee",
   "metadata": {},
   "source": [
    "Для параметра a:  \n",
    "$\\sqrt{n-1}\\frac{\\overline{X}-a}{S} \\sim S_{n-1}$  \n",
    "$\\mathbb{P}_{\\theta}\\left(\\sqrt{n-1}\\frac{\\overline{X}-a}{S} \\in [x_{1\\alpha},x_{2\\alpha}]\\right)=1-\\alpha$   \n",
    "$x_{\\alpha}: S_{n-1}(x_{\\alpha})=1-\\frac{0.05}{2}=0.975$  \n",
    "$x_{\\alpha} = 1.95 $  \n",
    "$\\mathbb{P}_{\\theta}\\left(-x_{\\alpha} \\leq \\sqrt{n-1}\\frac{\\overline{X}-a}{S} \\leq x_{\\alpha}\\right)=1-\\alpha$    \n",
    "$\\overline{X}-\\frac{x_{\\alpha}S}{\\sqrt{n-1}} \\leq a \\leq \\overline{X}+\\frac{x_{\\alpha}S}{\\sqrt{n-1}}$    \n",
    "$[1.83804;2.12196] \\ni a$  \n",
    "Для параметра $\\sigma^{2}$:\n",
    "$\\frac{nS^{2}}{\\sigma^{2}} \\sim \\chi_{n-1}^{2}$  \n",
    "$\\mathbb{P}_{\\theta}\\left(\\frac{nS^{2}}{\\sigma^{2}} \\in [x_{1\\alpha},x_{2\\alpha}]\\right)=1-\\alpha=\\chi_{n-1}^{2}(x_{2\\alpha})-\\chi_{n-1}^{2}(x_{1\\alpha})=1-\\frac{\\alpha}{2}-\\frac{\\alpha}{2}=1-\\alpha$  \n",
    "$x_{1\\alpha}: \\chi_{n-1}^{2}(x_{1\\alpha})=\\frac{\\alpha}{2}$  \n",
    "$x_{2\\alpha}: \\chi_{n-1}^{2}(x_{2\\alpha})=1-\\frac{\\alpha}{2}$   \n",
    "$\\mathbb{P}_{\\theta}\\left(x_{1\\alpha} \\leq \\frac{nS^{2}}{\\sigma^{2}} \\leq x_{2\\alpha}\\right)=1-\\alpha$  \n",
    "$\\frac{nS^{2}}{x_{2\\alpha}} \\leq \\sigma^{2} \\leq \\frac{nS^{2}}{x_{1\\alpha}}$    \n",
    "$[62.88;169.97] \\ni \\sigma^{2}$"
   ]
  },
  {
   "cell_type": "markdown",
   "id": "78594253-2ef5-4c3f-8245-232c82b41849",
   "metadata": {},
   "source": [
    "#### e) Построение критерия значимости проверки простой гипотезы согласия с нормальным распределением с параметрами  $\\left(a_0,\\sigma^2_0 \\right)$ с использованием теоремы Колмогорова. Проверка гипотезы на уровне значимости $\\alpha_2$. Вычисление наибольшего значения уровня значимости, на котором ещё нет оснований отвергнуть данную гипотезу."
   ]
  },
  {
   "cell_type": "code",
   "execution_count": 29,
   "id": "d7fbb496-96ab-48e5-8610-4cf24bf80053",
   "metadata": {
    "scrolled": true
   },
   "outputs": [
    {
     "name": "stdout",
     "output_type": "stream",
     "text": [
      "Статистика критерия Колмогорова Dn: 0.9405127178070735\n",
      "x_alpha_2: 0.19206415147703973\n",
      "гипотеза отвергается\n",
      "x_alpha при уровне значимости alpha = 1e-10 равен:1.2238478702170825\n"
     ]
    }
   ],
   "source": [
    "a_0 = 1.4\n",
    "sigma_0 = 0.5\n",
    "alpha_2 = 0.05\n",
    "empirical = []\n",
    "for i in variation_series_1:\n",
    "    empirical.append(i/len(variation_series_1))\n",
    "theoretical = stats.norm.cdf(variation_series_1, a_0, sigma_0)\n",
    "d_statistic = np.max(np.abs(empirical - theoretical))\n",
    "c_val = stats.kstwobign.ppf(1 -alpha_2) / np.sqrt(len(variation_series_1))\n",
    "print(\"Статистика критерия Колмогорова Dn:\", d_statistic)\n",
    "print(\"x_alpha_2:\", c_val)\n",
    "if d_statistic > c_val:\n",
    "    print(\"гипотеза отвергается\")\n",
    "else:\n",
    "    print(\"нет оснований отвергать гипотезу\")\n",
    "    \n",
    "counter = 0\n",
    "while True:\n",
    "    counter += 1\n",
    "    alpha_temp = 10**(-counter)\n",
    "    x_alpha = stats.kstwobign.ppf(1 - 10 ** (-power))\n",
    "    if x_alpha > d_statistic:\n",
    "        print(f\"x_alpha при уровне значимости alpha = {alpha_1} равен:{x_alpha}\")\n",
    "        break\n",
    "    if counter == 16:\n",
    "        print(f'alpha должна быть очень мала, так как даже при 10^{counter} x_alpha = {x_alpha}')\n",
    "        break      "
   ]
  },
  {
   "cell_type": "markdown",
   "id": "1305b026-e2ce-4ef2-b82c-9e08775066ce",
   "metadata": {},
   "source": [
    "#### f) Построение критерия значимости $\\chi^2$ проверки простой гипотезы согласия с нормальным распределением с параметрами  $\\left(a_0,\\sigma^2_0 \\right)$, используя гистограмму частот. Проверка гипотезы на уровне значимости $\\alpha_2$. Вычисление наибольшего значения уровня значимости, на котором ещё нет оснований отвергнуть данную гипотезу"
   ]
  },
  {
   "cell_type": "code",
   "execution_count": 58,
   "id": "5c86ba95-b9be-41cd-8a82-51b803559f76",
   "metadata": {},
   "outputs": [
    {
     "name": "stdout",
     "output_type": "stream",
     "text": [
      "Реальные частоты: [8, 6, 8, 8, 6, 7, 7]\n",
      "Ожидаемые частоты: [20.908928963214017, 7.3698285720850905, 5.852619978426238, 3.9689264540689995, 2.298369739487194, 1.1365354274750827, 0.723340141236628]\n",
      "Статистика хи-квадрат равна: 103.78282088743731\n",
      "x_alpha_1 равен: 12.591587243743977\n",
      "Отвергаем гипотезу\n",
      "alpha должна быть очень мала, так как даже при 10^16 x_alpha = 87.28296418230059\n"
     ]
    }
   ],
   "source": [
    "intervals = [[min(data_1),min(data_1)+3*h], [min(data_1)+3*h,min(data_1)+4*h], [min(data_1)+4*h,min(data_1)+5*h], [min(data_1)+5*h,min(data_1)+6*h], [min(data_1)+6*h,min(data_1)+7*h], [min(data_1)+7*h,min(data_1)+8*h],[min(data_1)+8*h,min(data_1)+13*h]]\n",
    "real_fr = []\n",
    "theor_fr = []\n",
    "def Count_frec(a,c,b,fr):#рассчёт реальных частот \n",
    "    counter = 0\n",
    "    for i in c:\n",
    "        if b<len(intervals)-1:\n",
    "            if (i>=a[0]) and (i<a[-1]):\n",
    "                counter+=1\n",
    "        else:\n",
    "            if (i>=a[0]) and (i<=a[-1]):\n",
    "                counter+=1\n",
    "    fr.append(counter)\n",
    "def Exp_frec(a,c,fr):#рассчёт гипотетических частот \n",
    "    counter = 0\n",
    "    counter = (stats.norm.cdf(a[-1],loc=a_0, scale=sigma_0)-stats.norm.cdf(a[0],loc=a_0, scale=sigma_0))*len(data_1)\n",
    "    fr.append(counter)\n",
    "for i in range(len(intervals)):\n",
    "    Count_frec(intervals[i],data_1,i,real_fr)\n",
    "    Exp_frec(intervals[i],i,theor_fr)\n",
    "print(f'Реальные частоты: {real_fr}')\n",
    "print(f'Ожидаемые частоты: {theor_fr}')\n",
    "\n",
    "for_chi = [];\n",
    "for i in range(len(real_fr)):\n",
    "    number = (real_fr[i]-theor_fr[i])**2 / theor_fr[i]\n",
    "    for_chi.append(number)\n",
    "chi_square = np.sum(for_chi)\n",
    "print(\"Статистика хи-квадрат равна:\", chi_square)\n",
    "\n",
    "x_alpha_1 = stats.chi2.ppf(1 - alpha_2, df = len(real_fr) - 1)\n",
    "print(\"x_alpha_1 равен:\", x_alpha_1)\n",
    "if chi_square > x_alpha_1:\n",
    "    result = \"Отвергаем гипотезу\"\n",
    "else:\n",
    "    result = \"Принимаем гипотезу\"\n",
    "print(result)\n",
    "counter = 0\n",
    "while True:\n",
    "    counter += 1\n",
    "    alpha_temp = 10**(-counter)\n",
    "    x_alpha = stats.chi2.ppf(1 - alpha_temp, df = len(real_fr) - 1)\n",
    "    if x_alpha > chi_square:\n",
    "        print(f\"x_alpha при уровне значимости alpha = {alpha_1} равен:{x_alpha}\")\n",
    "        break\n",
    "    if counter == 16:\n",
    "        print(f'alpha должна быть очень мала, так как даже при 10^{counter} x_alpha = {x_alpha}')\n",
    "        break"
   ]
  },
  {
   "cell_type": "markdown",
   "id": "f9beb661-4f3e-4259-b004-927e984340f8",
   "metadata": {},
   "source": [
    "#### g) Построение критерия значимости $\\chi^2$ проверки сложной гипотезы согласия с нормальным распределением. Проверка гипотезы на уровне значимости $\\alpha_2$. Вычисление наибольшего значения уровня значимости, на котором ещё нет оснований отвергнуть данную гипотезу"
   ]
  },
  {
   "cell_type": "code",
   "execution_count": 24,
   "id": "78973a5b-bbf8-4f18-a4be-80bf05f2061a",
   "metadata": {},
   "outputs": [
    {
     "name": "stdout",
     "output_type": "stream",
     "text": [
      "Реальные частоты: [8, 6, 8, 8, 6, 7, 7]\n",
      "Ожидаемые частоты: [1.5356804907914987, 5.245182331080804, 11.751208363243142, 14.967402391455064, 10.842490976784974, 4.464735765051259, 1.1925717961088211]\n",
      "Статистика хи-квадрат равна: 63.64309326513445\n",
      "x_alpha_1 равен: 11.070497693516351\n",
      "Отвергаем гипотезу\n",
      "x_alpha при уровне значимости alpha = 1e-12 равен:65.23868252258353\n"
     ]
    }
   ],
   "source": [
    "a_1 = mean_1\n",
    "sigma_1 = std_1**2\n",
    "intervals = [[min(data_1),min(data_1)+3*h], [min(data_1)+3*h,min(data_1)+4*h], [min(data_1)+4*h,min(data_1)+5*h], [min(data_1)+5*h,min(data_1)+6*h], [min(data_1)+6*h,min(data_1)+7*h], [min(data_1)+7*h,min(data_1)+8*h],[min(data_1)+8*h,min(data_1)+13*h]]\n",
    "real_fr = []\n",
    "theor_fr = []\n",
    "def Count_frec(a,c,b,fr):#рассчёт реальных частот \n",
    "    counter = 0\n",
    "    for i in c:\n",
    "        if b<len(intervals)-1:\n",
    "            if (i>=a[0]) and (i<a[-1]):\n",
    "                counter+=1\n",
    "        else:\n",
    "            if (i>=a[0]) and (i<=a[-1]):\n",
    "                counter+=1\n",
    "    fr.append(counter)\n",
    "def Exp_frec(a,c,fr):#рассчёт гипотетических частот \n",
    "    counter = 0\n",
    "    counter = (stats.norm.cdf(a[-1],loc=a_1, scale=sigma_1)-stats.norm.cdf(a[0],loc=a_1, scale=sigma_1))*len(data_1)\n",
    "    fr.append(counter)\n",
    "for i in range(len(intervals)):\n",
    "    Count_frec(intervals[i],data_1,i,real_fr)\n",
    "    Exp_frec(intervals[i],i,theor_fr)\n",
    "print(f'Реальные частоты: {real_fr}')\n",
    "print(f'Ожидаемые частоты: {theor_fr}')\n",
    "\n",
    "for_chi = [];\n",
    "for i in range(len(real_fr)):\n",
    "    number = (real_fr[i]-theor_fr[i])**2 / theor_fr[i]\n",
    "    for_chi.append(number)\n",
    "chi_square = np.sum(for_chi)\n",
    "print(\"Статистика хи-квадрат равна:\", chi_square)\n",
    "alpha_2 = 0.05\n",
    "x_alpha_1 = stats.chi2.ppf(1 - alpha_2, df = len(real_fr) - 2)\n",
    "print(\"x_alpha_1 равен:\", x_alpha_1)\n",
    "if chi_square > x_alpha_1:\n",
    "    result = \"Отвергаем гипотезу\"\n",
    "else:\n",
    "    result = \"Принимаем гипотезу\"\n",
    "print(result)\n",
    "counter = 0\n",
    "while True:\n",
    "    counter += 1\n",
    "    alpha_temp = 10**(-counter)\n",
    "    x_alpha = stats.chi2.ppf(1 - alpha_temp, df = len(real_fr) - 2)\n",
    "    if x_alpha > chi_square:\n",
    "        print(f\"x_alpha при уровне значимости alpha = {alpha_temp} равен:{x_alpha}\")\n",
    "        break\n",
    "    if counter == 16:\n",
    "        print(f'alpha должна быть очень мала, так как даже при 10^{-counter} x_alpha = {x_alpha}')\n",
    "        break"
   ]
  },
  {
   "cell_type": "markdown",
   "id": "fd50153f-d254-4885-aa28-c64f7f68e1fe",
   "metadata": {},
   "source": [
    "#### h) Построение наиболее мощного критерия проверки простой гипотезы о нормальности с параметрами  $\\left(a,\\sigma^2 \\right) = \\left(a_0,\\sigma^2_0 \\right)$ при альтернативе нормальности с параметрами $\\left(a,\\sigma^2 \\right) = \\left(a_1,\\sigma^2_1 \\right)$. Проверка гипотезы на уровне значимости $\\alpha_2$"
   ]
  },
  {
   "cell_type": "markdown",
   "id": "212e089b-2e5f-4229-99f5-6e55bd279fb6",
   "metadata": {},
   "source": [
    "Основная гипотеза $H_0: \\theta=\\left(a_0,\\sigma_0^2\\right)$   \n",
    "Альтернативная гипотеза $H_A: \\theta=\\left(a_1,\\sigma_1^2\\right)$  \n",
    "Функция правдоподобия: $L(X,\\theta)=(2\\pi\\sigma^2)^{-\\frac{n}{2}} \\exp\\left( -\\frac{\\sum_{i=1}^{n}(x_i-a)^2}{2\\sigma^2} \\right)$    \n",
    "$LR(X) = \\frac{L\\left( X,a_1,\\sigma^2_1 \\right)}{L\\left( X,a_0,\\sigma^2_0\\right)}= \\left(\\frac{\\sigma^2_1}{\\sigma^2_0}\\right)^{-\\frac{n}{2}}\\exp\\left( -\\frac{\\sum_{i=1}^{n}(x_i-a_1)^2}{2\\sigma^2_1}+\\frac{\\sum_{i=1}^{n}(x_i-a_0)^2}{2\\sigma^2_0}\\right) $\n",
    "\n",
    "Решим уравнение: $P_{(a_0,\\sigma^2_0)}\\left(LR(\\overrightarrow{X}) > c\\right) + pP_{(a_0,\\sigma^2_0)}\\left(LR(\\overrightarrow{X}) = c\\right) = \\alpha_2$    \n",
    " \n",
    "\n",
    "$P_{(a_0,\\sigma^2_0)}\\left(n\\bar{X} > nc^*\\right) + pP_{(a_0,\\sigma^2_0)}\\left(n\\bar{X} = nc^*\\right) = \\alpha_2$  \n",
    "Критерий не определен однозначно при $LR(\\overrightarrow{X}) = c$\n",
    "\n",
    "Пусть $LR(\\overrightarrow{X}) \\neq c$   \n",
    "$P_{(a_0,\\sigma^2_0)}\\left(n\\bar{X} > nc^*\\right) = 1 - F_{\\mathcal{N}(n a_0,n\\sigma^2_0)}\\left(nc^*\\right) = \\alpha_2$\n",
    "\n",
    "$F_{\\mathcal{N}(n a_0,n\\sigma^2_0)}\\left(nc^*\\right) = 1 - \\alpha_2 = 0.95$"
   ]
  },
  {
   "cell_type": "code",
   "execution_count": 62,
   "id": "2d21cf73-27d2-4657-ac7c-8e4eddaa0bc1",
   "metadata": {},
   "outputs": [
    {
     "name": "stdout",
     "output_type": "stream",
     "text": [
      "c^* = 0.04444853626951472, sample_average = 1.97774 \n",
      "не принимаем H0\n"
     ]
    }
   ],
   "source": [
    "c_2 = stats.norm.ppf(0.95, 1.4, 0.5) / len(data_1)\n",
    "print(f\"c^* = {c_2}, sample_average = {mean_1} \")\n",
    "if c_2>mean_1:\n",
    "    print('принимаем H0')\n",
    "else:\n",
    "    print('не принимаем H0')"
   ]
  },
  {
   "cell_type": "markdown",
   "id": "e5dbc0ce-6fea-489e-9941-16ec8b6ea130",
   "metadata": {},
   "source": [
    "Поменяем гипотезы \n",
    "\n",
    "Основная гипотеза: $H_{0}:(a,\\sigma^2)=(a_1,\\sigma^2_1)$\n",
    "\n",
    "Альтернативная гипотеза: $H_{A}:(a,\\sigma^2)=(a_0,\\sigma^2_0)$\n",
    "\n",
    "Функция правдоподобия: $L(X,\\theta)=(2\\pi\\sigma^2)^{-\\frac{n}{2}} \\exp\\left( -\\frac{\\sum_{i=1}^{n}(x_i-a)^2}{2\\sigma^2} \\right)$\n",
    "\n",
    "Статистика отношения правдоподобия равна:$LR(X) = \\frac{L\\left( X,a_0,\\sigma^2_0 \\right)}{L\\left( X,a_1,\\sigma^2_1\\right)}= \\left(\\frac{\\sigma^2_0}{\\sigma^2_1}\\right)^{-\\frac{n}{2}}\\exp\\left( -\\frac{\\sum_{i=1}^{n}(x_i-a_0)^2}{2\\sigma^2_0}+\\frac{\\sum_{i=1}^{n}(x_i-a_1)^2}{2\\sigma^2_1}\\right) $\n",
    "\n",
    "Решим уравнение: $P_{(a_1,\\sigma^2_1)}\\left(LR(\\overrightarrow{X}) > c\\right) + pP_{(a_1,\\sigma^2_1)}\\left(LR(\\overrightarrow{X}) = c\\right) = \\alpha_2$\n",
    "\n",
    "$P_{(a_1,\\sigma^2_1)}\\left(n\\bar{X} > nc^*\\right) + pP_{(a_1,\\sigma^2_1)}\\left(n\\bar{X} = nc^*\\right) = \\alpha_2$  \n",
    "Критерий не определен однозначно при $LR(\\overrightarrow{X}) = c$\n",
    "\n",
    "Пусть $LR(\\overrightarrow{X}) \\neq c$  \n",
    "$P_{(a_1,\\sigma^2_1)}\\left(n\\bar{X} > nc^*\\right) = 1 - F_{\\mathcal{N}(n a_1,n\\sigma^2_1)}\\left(nc^*\\right) = \\alpha_2$\n",
    "\n",
    "$F_{\\mathcal{N}(n a_1,n\\sigma^2_1)}\\left(nc^*\\right) = 1 - \\alpha_2 = 0.95$  "
   ]
  },
  {
   "cell_type": "code",
   "execution_count": 63,
   "id": "f8c01455-39d7-4342-989e-15ada1c27216",
   "metadata": {},
   "outputs": [
    {
     "name": "stdout",
     "output_type": "stream",
     "text": [
      "c^* = 0.056448536269514724, sample_average = 1.97774 \n",
      "не принимаем H0\n"
     ]
    }
   ],
   "source": [
    "c_2 = stats.norm.ppf(0.95, 2, 0.5) / len(data_1)\n",
    "print(f\"c^* = {c_2}, sample_average = {mean_1} \")\n",
    "if c_2 > mean_1:\n",
    "    print('принимаем H0')\n",
    "else:\n",
    "    print('не принимаем H0')"
   ]
  },
  {
   "cell_type": "markdown",
   "id": "04599381-58b3-4725-b997-64c1b7addf28",
   "metadata": {},
   "source": [
    "#### i) Замена семейства нормальных распределений на двухпараметрическое семейство распределений Лапласа с плотностью $p_{a,\\sigma} = \\frac{1}{\\sqrt{2}\\sigma}\\exp\\left(-\\frac{\\sqrt{2}}{\\sigma}|x-a|\\right)$ "
   ]
  },
  {
   "cell_type": "markdown",
   "id": "ec253e81-b22e-4b7d-8249-99108ee80ab3",
   "metadata": {
    "scrolled": true
   },
   "source": [
    "ОМП, ОММ\n",
    "Построим функцию правдоподобия:\n",
    "\n",
    "$L(\\overrightarrow{X},\\theta)=\\prod_{i=1}^{n}\\frac{1}{\\sqrt{2}\\sigma}exp\\left(-\\frac{\\sqrt{2}}{\\sigma}|x_i-a|\\right)=2^{-\\frac{n}{2}} \\cdot \\sigma^{-n} \\cdot exp\\left(-\\frac{\\sqrt{2}}{\\sigma}\\sum_{i=1}^{n}|x_{i}-a|\\right)$\n",
    "\n",
    "Прологарифмируем функцию правдоподобия:\n",
    "\n",
    "$LL(\\overrightarrow{X},\\theta)=-\\frac{n}{2}\\ln2-n\\ln\\sigma-\\frac{\\sqrt{2}}{\\sigma}\\sum_{i=1}^{n}|x_{i}-a|$\n",
    "\n",
    "Найдем частную производную по параметру $\\lambda$ и приравняем производную к нулю и тем самым найдем наш параметр:\n",
    "\n",
    "$\\frac{\\partial LL}{\\partial \\sigma}=-\\frac{n}{\\sigma}+\\frac{\\sqrt{2}}{\\sigma^{2}}\\sum_{i=1}^{n}|x_{i}-\\widehat{a}|=0 $   \n",
    "$\\frac{n}{\\sigma}=\\frac{\\sqrt{2}}{\\sigma^{2}}\\sum_{i=1}^{n}|x_{i}-\\widehat{a}|$\n",
    "\n",
    "$\\sigma^{2}=\\left(\\frac{\\sqrt{2}\\sum_{i=1}^{n}|x_{i}-\\widehat{a}|}{n}\\right)^{2}$\n",
    "\n",
    "$\\frac{\\partial LL}{\\partial a}=\\frac{\\sqrt{2}}{\\sigma^{2}}\\sum_{i=1}^{n}sign(x_{i}-a)=0$  \n",
    "$\\widehat{a}=Z_{n,\\frac{1}{2}}$  \n",
    "$\\widehat{\\theta}=(\\widehat{a},\\widehat{\\sigma^{2}})=\\left(Z_{n,\\frac{1}{2}};\\left(\\frac{\\sqrt{2}\\sum_{i=1}^{n}\\left|x_{i}-Z_{n,\\frac{1}{2}}\\right|}{n}\\right)^{2}\\right)$  \n",
    "$\\widehat{\\theta}=(1.9385,0.324)$  \n",
    "\n",
    "ОММ:  \n",
    "$\\hat{\\theta} = (\\hat{a},\\hat{\\sigma^2}) = (\\bar{X},s^2)$  \n",
    "По методу моментов:  \n",
    "$\\mathbb{E}_\\theta X_1 = a$  \n",
    "$M_1 = \\bar{X}$  \n",
    "$\\mathbb{E}_\\theta X_1^2 = a^2+\\sigma^2$  \n",
    "$M_2 = \\bar{X}^2$  \n",
    "Решаем: $\\begin{cases} a = \\bar{X} \\\\ a^2+\\sigma^2 = \\bar{X}^2 \\end{cases}$  $\\begin{cases} a = \\bar{X} \\\\ \\sigma = s\\end{cases} $"
   ]
  },
  {
   "cell_type": "markdown",
   "id": "36bf7651-3c84-4d21-9799-dfca70de2bd6",
   "metadata": {},
   "source": [
    "Построение доверительных интервалов уровня значимости $\\alpha_2$ для параметров $\\left(a,\\sigma^2 \\right)$."
   ]
  },
  {
   "cell_type": "markdown",
   "id": "e8a67985-b338-432f-944f-f3ba6abb4b49",
   "metadata": {},
   "source": [
    "$\\sqrt{n-1}\\frac{\\overline{x}-a}{s}\\sim S_{n-1}$\n",
    "\n",
    "$P_\\theta\\left(  \\sqrt{n-1}\\frac{\\overline{x}-a}{s}\\in\\left[ x_{1\\alpha};x_{2\\alpha} \\right]\\right)=1-\\alpha$\n",
    "\n",
    "$x_\\alpha:S_{n-1}(x_\\alpha)=1-\\frac{0.05}{2}=0.975$\n",
    "\n",
    "$x_\\alpha \\approx 1.95$\n",
    "\n",
    "$P_\\theta\\left(  -x_{\\alpha}\\le \\sqrt{n-1}\\frac{\\overline{x}-a}{s}\\le x_{\\alpha}\\right)=1-\\alpha$  \n",
    "$\\overline{x}-\\frac{x_\\alpha s}{\\sqrt{n-1}}\\le a \\le \\overline{x}+\\frac{x_\\alpha s}{\\sqrt{n-1}}$  \n",
    "\n",
    "$\\left[-3.042; -2.970\\right] \\ni a$\n",
    "\n",
    "$\\frac{ns^2}{\\sigma^2}\\sim \\chi_{n-1}^2$\n",
    "\n",
    "$P_\\theta\\left(  \\frac{ns^2}{\\sigma^2}\\in\\left[ x_{1\\alpha};x_{2\\alpha} \\right]\\right)=1-\\alpha$\n",
    "\n",
    "$x_{1\\alpha}:K_{n-1}(x_{1\\alpha})=\\frac{\\alpha}{2}=0.1$\n",
    "\n",
    "$x_{2\\alpha}:K_{n-1}(x_{2\\alpha})=1-\\frac{\\alpha}{2}=0.9$\n",
    "\n",
    "$\\mathbb{P}_{\\theta}\\left(31.555 \\leq \\frac{nS^{2}}{\\sigma^{2}} \\leq 70.222\\right)=1-\\alpha$  \n",
    "$\\frac{nS^{2}}{x_{2\\alpha}} \\leq \\sigma^{2} \\leq \\frac{nS^{2}}{x_{1\\alpha}}$    \n",
    "$[0.184914;0.411504] \\ni \\sigma^{2}$"
   ]
  },
  {
   "cell_type": "markdown",
   "id": "828fc840-99cd-4423-b85f-fca9b0be34da",
   "metadata": {},
   "source": [
    "Построение критерия значимости проверки простой гипотезы согласия с распределением Лапласа с параметрами  $\\left(a_0,\\sigma^2_0 \\right)$ с использованием теоремы Колмогорова."
   ]
  },
  {
   "cell_type": "code",
   "execution_count": 28,
   "id": "612bbf0a-6eff-4279-8926-f35744d480ba",
   "metadata": {},
   "outputs": [
    {
     "name": "stdout",
     "output_type": "stream",
     "text": [
      "Статистика критерия Колмогорова Dn: 0.9226656914262322\n",
      "x_alpha_2: 0.19206415147703973\n",
      "гипотеза отвергается\n",
      "x_alpha при уровне значимости alpha = 1e-10 равен: 1.2238478702170825\n"
     ]
    }
   ],
   "source": [
    "empirical = []\n",
    "for i in variation_series_1:\n",
    "    empirical.append(i/len(variation_series_1))\n",
    "theoretical = stats.laplace.cdf(variation_series_1, a_0, sigma_0)\n",
    "d_statistic = np.max(np.abs(empirical - theoretical))\n",
    "x_alpha_2 = stats.kstwobign.ppf(1 -alpha_2) / np.sqrt(len(variation_series_1))\n",
    "print(\"Статистика критерия Колмогорова Dn:\", d_statistic)\n",
    "print(\"x_alpha_2:\", x_alpha_2)\n",
    "if d_statistic > x_alpha_2:\n",
    "    print(\"гипотеза отвергается\")\n",
    "else:\n",
    "    print(\"нет оснований отвергать гипотезу\")\n",
    "counter = 0\n",
    "while True:\n",
    "    counter += 1\n",
    "    alpha_temp = 10**(-counter)\n",
    "    x_alpha = stats.kstwobign.ppf(1 - 10 ** (-power))\n",
    "    if x_alpha > d_statistic:\n",
    "        print(f\"x_alpha при уровне значимости alpha = {alpha_1} равен: {x_alpha}\")\n",
    "        break\n",
    "    if counter == 16:\n",
    "        print(f'alpha должна быть очень мала, так как даже при 10^{counter} x_alpha = {x_alpha}')\n",
    "        break      "
   ]
  },
  {
   "cell_type": "markdown",
   "id": "95ef0033-b3c7-4b93-9628-9a977a7d9a4a",
   "metadata": {},
   "source": [
    " Построение критерия значимости $\\chi^2$ проверки простой гипотезы согласия с распределением Лапласа с параметрами  $\\left(a_0,\\sigma^2_0 \\right)$"
   ]
  },
  {
   "cell_type": "code",
   "execution_count": 17,
   "id": "9e75e6e1-2094-4d07-8338-ab7c0e896925",
   "metadata": {},
   "outputs": [
    {
     "name": "stdout",
     "output_type": "stream",
     "text": [
      "Реальные частоты: [8, 6, 8, 8, 6, 7, 7]\n",
      "Ожидаемые частоты: [20.150599690746024, 6.856813937672013, 4.596259834358113, 3.0809651037586985, 2.0652326701857238, 1.3843668585531987, 2.433820797101588]\n",
      "Статистика хи-квадрат равна: 56.651116828569805\n",
      "x_alpha_1 равен: 12.591587243743977\n",
      "Отвергаем гипотезу\n",
      "x_alpha при уровне значимости alpha = 1e-10 равен:58.291802780433365\n"
     ]
    }
   ],
   "source": [
    "intervals = [[min(data_1),min(data_1)+3*h], [min(data_1)+3*h,min(data_1)+4*h], [min(data_1)+4*h,min(data_1)+5*h], [min(data_1)+5*h,min(data_1)+6*h], [min(data_1)+6*h,min(data_1)+7*h], [min(data_1)+7*h,min(data_1)+8*h],[min(data_1)+8*h,min(data_1)+13*h]]\n",
    "real_fr = []\n",
    "theor_fr = []\n",
    "def Count_frec(a,c,b,fr):#рассчёт реальных частот \n",
    "    counter = 0\n",
    "    for i in c:\n",
    "        if b<len(intervals)-1:\n",
    "            if (i>=a[0]) and (i<a[-1]):\n",
    "                counter+=1\n",
    "        else:\n",
    "            if (i>=a[0]) and (i<=a[-1]):\n",
    "                counter+=1\n",
    "    fr.append(counter)\n",
    "def Exp_frec(a,c,fr):#рассчёт гипотетических частот \n",
    "    counter = 0\n",
    "    counter = (stats.laplace.cdf(a[-1],loc=a_0, scale=sigma_0)-stats.laplace.cdf(a[0],loc=a_0, scale=sigma_0))*len(data_1)\n",
    "    fr.append(counter)\n",
    "for i in range(len(intervals)):\n",
    "    Count_frec(intervals[i],data_1,i,real_fr)\n",
    "    Exp_frec(intervals[i],i,theor_fr)\n",
    "print(f'Реальные частоты: {real_fr}')\n",
    "print(f'Ожидаемые частоты: {theor_fr}')\n",
    "\n",
    "for_chi = [];\n",
    "for i in range(len(real_fr)):\n",
    "    number = (real_fr[i]-theor_fr[i])**2 / theor_fr[i]\n",
    "    for_chi.append(number)\n",
    "chi_square = np.sum(for_chi)\n",
    "print(\"Статистика хи-квадрат равна:\", chi_square)\n",
    "\n",
    "x_alpha_1 = stats.chi2.ppf(1 - alpha_2, df = len(real_fr) - 1)\n",
    "print(\"x_alpha_1 равен:\", x_alpha_1)\n",
    "if chi_square > x_alpha_1:\n",
    "    result = \"Отвергаем гипотезу\"\n",
    "else:\n",
    "    result = \"Принимаем гипотезу\"\n",
    "print(result)\n",
    "counter = 0\n",
    "while True:\n",
    "    counter += 1\n",
    "    alpha_temp = 10**(-counter)\n",
    "    x_alpha = stats.chi2.ppf(1 - alpha_temp, df = len(real_fr) - 1)\n",
    "    if x_alpha > chi_square:\n",
    "        print(f\"x_alpha при уровне значимости alpha = {alpha_1} равен:{x_alpha}\")\n",
    "        break\n",
    "    if counter == 16:\n",
    "        print(f'alpha должна быть очень мала, так как даже при 10^{counter} x_alpha = {x_alpha}')\n",
    "        break"
   ]
  },
  {
   "cell_type": "markdown",
   "id": "dde7226e-a978-4257-825a-d7e05606cc4e",
   "metadata": {},
   "source": [
    "Построение критерия значимости $\\chi^2$ проверки сложной гипотезы согласия с распределением Лапласа."
   ]
  },
  {
   "cell_type": "code",
   "execution_count": 19,
   "id": "609a3938-8043-4ef4-82ef-481d56140e4b",
   "metadata": {},
   "outputs": [
    {
     "name": "stdout",
     "output_type": "stream",
     "text": [
      "Реальные частоты: [8, 6, 8, 8, 6, 7, 7]\n",
      "Ожидаемые частоты: [6.668797161701627, 4.632113191588709, 6.8582472058688335, 8.892316201734019, 6.48498910577695, 4.380011784712689, 7.832923206565296]\n",
      "Статистика хи-квадрат равна: 2.641329789510217\n",
      "x_alpha_1 равен: 11.070497693516351\n",
      "Принимаем гипотезу\n",
      "x_alpha при уровне значимости alpha = 0.1 равен:9.236356899781123\n"
     ]
    }
   ],
   "source": [
    "a_1 = mean_1\n",
    "sigma_1 = std_1\n",
    "intervals = [[min(data_1),min(data_1)+3*h], [min(data_1)+3*h,min(data_1)+4*h], [min(data_1)+4*h,min(data_1)+5*h], [min(data_1)+5*h,min(data_1)+6*h], [min(data_1)+6*h,min(data_1)+7*h], [min(data_1)+7*h,min(data_1)+8*h],[min(data_1)+8*h,min(data_1)+13*h]]\n",
    "real_fr = []\n",
    "theor_fr = []\n",
    "def Count_frec(a,c,b,fr):#рассчёт реальных частот \n",
    "    counter = 0\n",
    "    for i in c:\n",
    "        if b<len(intervals)-1:\n",
    "            if (i>=a[0]) and (i<a[-1]):\n",
    "                counter+=1\n",
    "        else:\n",
    "            if (i>=a[0]) and (i<=a[-1]):\n",
    "                counter+=1\n",
    "    fr.append(counter)\n",
    "def Exp_frec(a,c,fr):#рассчёт гипотетических частот \n",
    "    counter = 0\n",
    "    counter = (stats.laplace.cdf(a[-1],loc=a_1, scale=sigma_1)-stats.laplace.cdf(a[0],loc=a_1, scale=sigma_1))*len(data_1)\n",
    "    fr.append(counter)\n",
    "for i in range(len(intervals)):\n",
    "    Count_frec(intervals[i],data_1,i,real_fr)\n",
    "    Exp_frec(intervals[i],i,theor_fr)\n",
    "print(f'Реальные частоты: {real_fr}')\n",
    "print(f'Ожидаемые частоты: {theor_fr}')\n",
    "\n",
    "for_chi = [];\n",
    "for i in range(len(real_fr)):\n",
    "    number = (real_fr[i]-theor_fr[i])**2 / theor_fr[i]\n",
    "    for_chi.append(number)\n",
    "chi_square = np.sum(for_chi)\n",
    "print(\"Статистика хи-квадрат равна:\", chi_square)\n",
    "alpha_2 = 0.05\n",
    "x_alpha_1 = stats.chi2.ppf(1 - alpha_2, df = len(real_fr) - 2)\n",
    "print(\"x_alpha_1 равен:\", x_alpha_1)\n",
    "if chi_square > x_alpha_1:\n",
    "    result = \"Отвергаем гипотезу\"\n",
    "else:\n",
    "    result = \"Принимаем гипотезу\"\n",
    "print(result)\n",
    "counter = 0\n",
    "while True:\n",
    "    counter += 1\n",
    "    alpha_temp = 10**(-counter)\n",
    "    x_alpha = stats.chi2.ppf(1 - alpha_temp, df = len(real_fr) - 2)\n",
    "    if x_alpha > chi_square:\n",
    "        print(f\"x_alpha при уровне значимости alpha = {alpha_temp} равен:{x_alpha}\")\n",
    "        break\n",
    "    if counter == 40:\n",
    "        print(f'alpha должна быть очень мала, так как даже при 10^{counter} x_alpha = {x_alpha}')\n",
    "        break"
   ]
  },
  {
   "cell_type": "markdown",
   "id": "1ef15c57-debf-4560-932a-e57448976fed",
   "metadata": {},
   "source": [
    "Построение наиболее мощного критерия проверки простой гипотезы о нормальности с параметрами  $\\left(a,\\sigma \\right) = \\left(a_0,\\sigma_0 \\right)$ при альтернативе нормальности с параметрами $\\left(a,\\sigma \\right) = \\left(a_1,\\sigma_1 \\right)$."
   ]
  },
  {
   "cell_type": "markdown",
   "id": "d470c18a-a60c-4aa7-b514-e777b8d3b9bf",
   "metadata": {},
   "source": [
    "Основная гипотеза $H_0: \\theta=\\left(a_0,\\sigma_0\\right)$   \n",
    "Альтернативная гипотеза $H_A: \\theta=\\left(a_1,\\sigma_1\\right)$  \n",
    "Функция правдоподобия: $L(\\overrightarrow{X},\\theta)=\\prod_{i=1}^{n}\\frac{1}{\\sqrt{2}\\sigma}exp\\left(-\\frac{\\sqrt{2}}{\\sigma}|x_i-a|\\right)=2^{-\\frac{n}{2}} \\cdot \\sigma^{-n} \\cdot exp\\left(-\\frac{\\sqrt{2}}{\\sigma}\\sum_{i=1}^{n}|x_{i}-a|\\right)$      \n",
    "\n",
    "$LR(X) = \\frac{L\\left( X,a_1,\\sigma_1 \\right)}{L\\left( X,a_0,\\sigma_0\\right)}= \\left(\\frac{\\sigma_1}{\\sigma_0}\\right)^{-n}\\exp\\left( -\\frac{\\sqrt{2}\\sum_{i=1}^{n}|x_i-a_1|}{\\sigma_1}+\\frac{\\sqrt{2}\\sum_{i=1}^{n}|x_i-a_0|}{\\sigma_0}\\right) $\n",
    "\n",
    "Решим уравнение: $P_{(a_1,\\sigma_1)}\\left(LR(\\overrightarrow{X}) > c\\right) + pP_{(a_1,\\sigma_1)}\\left(LR(\\overrightarrow{X}) = c\\right) = \\alpha_2$    \n",
    " \n",
    "\n",
    "$P_{(a_0,\\sigma_0)}\\left(n\\bar{X} > nc^*\\right) + pP_{(a_0,\\sigma_0)}\\left(n\\bar{X} = nc^*\\right) = \\alpha_2$  \n",
    "Критерий не определен однозначно при $LR(\\overrightarrow{X}) = c$\n",
    "\n",
    "Пусть $LR(\\overrightarrow{X}) \\neq c$   \n",
    "$P_{(a_0,\\sigma_0)}\\left(n\\bar{X} > nc^*\\right) = 1 - F_{\\mathcal{L}(n a_0,n\\sigma_0)}\\left(nc^*\\right) = \\alpha_2$\n",
    "\n",
    "$F_{\\mathcal{L}(n a_0,n\\sigma_0)}\\left(nc^*\\right) = 1 - \\alpha_2 = 0.95$"
   ]
  },
  {
   "cell_type": "code",
   "execution_count": 20,
   "id": "aab79efe-f357-4939-be7a-2d011c209e48",
   "metadata": {},
   "outputs": [
    {
     "name": "stdout",
     "output_type": "stream",
     "text": [
      "c^* = 0.05102585092994045, sample_average = 1.97774 \n",
      "не принимаем H0\n"
     ]
    }
   ],
   "source": [
    "c_2 = stats.laplace.ppf(0.95, 1.4, 0.5) / len(data_1)\n",
    "print(f\"c^* = {c_2}, sample_average = {mean_1} \")\n",
    "if c_2>mean_1:\n",
    "    print('принимаем H0')\n",
    "else:\n",
    "    print('не принимаем H0')"
   ]
  },
  {
   "cell_type": "markdown",
   "id": "0a827b6b-7eef-4a92-87d3-f20e7b9b0a60",
   "metadata": {},
   "source": [
    "Поменяем гипотезы \n",
    "\n",
    "Основная гипотеза $H_0: \\theta=\\left(a_1,\\sigma_1\\right)$   \n",
    "Альтернативная гипотеза $H_A: \\theta=\\left(a_0,\\sigma_0\\right)$  \n",
    "Функция правдоподобия: $L(\\overrightarrow{X},\\theta)=\\prod_{i=1}^{n}\\frac{1}{\\sqrt{2}\\sigma}exp\\left(-\\frac{\\sqrt{2}}{\\sigma}|x_i-a|\\right)=2^{-\\frac{n}{2}} \\cdot \\sigma^{-n} \\cdot exp\\left(-\\frac{\\sqrt{2}}{\\sigma}\\sum_{i=1}^{n}|x_{i}-a|\\right)$      \n",
    "\n",
    "$LR(X) = \\frac{L\\left( X,a_0,\\sigma_0 \\right)}{L\\left( X,a_1,\\sigma_1\\right)}= \\left(\\frac{\\sigma_0}{\\sigma_1}\\right)^{-n}\\exp\\left( -\\frac{\\sqrt{2}\\sum_{i=1}^{n}|x_i-a_0|}{\\sigma_0}+\\frac{\\sqrt{2}\\sum_{i=1}^{n}|x_i-a_1|}{\\sigma_1}\\right) $\n",
    "\n",
    "Решим уравнение: $P_{(a_1,\\sigma_1)}\\left(LR(\\overrightarrow{X}) > c\\right) + pP_{(a_1,\\sigma_1)}\\left(LR(\\overrightarrow{X}) = c\\right) = \\alpha_2$    \n",
    " \n",
    "\n",
    "$P_{(a_1,\\sigma_1)}\\left(n\\bar{X} > nc^*\\right) + pP_{(a_1,\\sigma_1)}\\left(n\\bar{X} = nc^*\\right) = \\alpha_2$  \n",
    "Критерий не определен однозначно при $LR(\\overrightarrow{X}) = c$\n",
    "\n",
    "Пусть $LR(\\overrightarrow{X}) \\neq c$   \n",
    "$P_{(a_1,\\sigma_1)}\\left(n\\bar{X} > nc^*\\right) = 1 - F_{\\mathcal{L}(n a_1,n\\sigma_1)}\\left(nc^*\\right) = \\alpha_2$\n",
    "\n",
    "$F_{\\mathcal{L}(n a_1,n\\sigma_1)}\\left(nc^*\\right) = 1 - \\alpha_2 = 0.95$"
   ]
  },
  {
   "cell_type": "code",
   "execution_count": 21,
   "id": "ac6b2e62-0eb8-4ba0-a902-5916d3084f76",
   "metadata": {},
   "outputs": [
    {
     "name": "stdout",
     "output_type": "stream",
     "text": [
      "c^* = 0.056448536269514724, sample_average = 1.97774 \n",
      "не принимаем H0\n"
     ]
    }
   ],
   "source": [
    "c_2 = stats.norm.ppf(0.95, 2, 0.5) / len(data_1)\n",
    "print(f\"c^* = {c_2}, sample_average = {mean_1} \")\n",
    "if c_2 > mean_1:\n",
    "    print('принимаем H0')\n",
    "else:\n",
    "    print('не принимаем H0')"
   ]
  },
  {
   "cell_type": "markdown",
   "id": "5dbd9321-410f-475e-a441-270ffb7b0e38",
   "metadata": {},
   "source": [
    "## Выводы\n",
    "В ходе выполнения практической работы были изучены и использованы методы математической статистики для решения задач статистического анализа. Были получены навыки реализации этих методов с помощью прикладных программных пакетов. Получены навыки проведения анализа выборочных данных, построения доверительных интервалов, проверки различных статистических гипотез."
   ]
  }
 ],
 "metadata": {
  "kernelspec": {
   "display_name": "Python 3 (ipykernel)",
   "language": "python",
   "name": "python3"
  },
  "language_info": {
   "codemirror_mode": {
    "name": "ipython",
    "version": 3
   },
   "file_extension": ".py",
   "mimetype": "text/x-python",
   "name": "python",
   "nbconvert_exporter": "python",
   "pygments_lexer": "ipython3",
   "version": "3.11.5"
  }
 },
 "nbformat": 4,
 "nbformat_minor": 5
}
