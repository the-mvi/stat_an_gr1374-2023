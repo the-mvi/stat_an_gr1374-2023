{
 "cells": [
  {
   "cell_type": "markdown",
   "id": "93b3cc41",
   "metadata": {},
   "source": [
    "# Практическая работа №2: Классические методы математической статистики\n",
    "Выполнил студент гр.1374 Архипов Дмитрий. Вариант 1"
   ]
  },
  {
   "cell_type": "markdown",
   "id": "ed9cb0af",
   "metadata": {},
   "source": [
    "## Цель работы\n",
    "Научится применять методы математической статистики для решения задач статистического анализа; сформировать навыки реализации методов с помощью прикладных программных пакетов."
   ]
  },
  {
   "cell_type": "markdown",
   "id": "b4ed472b",
   "metadata": {},
   "source": [
    "## Основные теоретические положения\n",
    "**Выборочные числовые характеристики:**\n",
    "\n",
    "- Математическое ожидание $\\overline{X}=\\frac{1}{n}\\sum_{i=1}^{n}X_{i}$\n",
    "\n",
    "- Дисперсия $S^{2}=\\frac{1}{n}\\sum_{i=1}^{n}\\left( X_{i}-\\overline{X} \\right)^{2}=\\overline{X^{2}}-\\overline{X}^{2}$\n",
    "\n",
    "- Среднеквадратичное отклонение $S = \\sqrt{S^2} = \\sqrt{\\frac{1}{n}\\sum_{i=1}^{n}\\left( X_{i}-\\overline{X} \\right)^{2}}$\n",
    "\n",
    "- Коэф.асимметрии (скошености) $\\widehat{S_{kew}}X=\\frac{\\left(\\frac{1}{n}\\sum_{i=1}^{n}\\left( X_{i}-\\overline{X} \\right)^{3} \\right)}{S^{3}}$\n",
    "\n",
    "- Коэф.эксцесса (островершинности) $\\widehat{K_{urt}}X=\\frac{\\frac{1}{n}\\sum_{i=1}^{n}\\left( X_{i}-\\overline{X}^{4} \\right)}{S^{4}}-3$\n",
    "\n",
    "**Эмпирическое распределение :** $F_n(x) = \\frac{1}{n}\\sum_{i=1}^{n}\\mathbb{I}_{\\{x_i < x\\}}$\n",
    "\n",
    "**Вариационный ряд:** $X_{(1)} \\le \\dots \\le X_{(n)}$\n",
    "\n",
    "**Гистограмма - функция** $H: K \\to \\mathbb{R}_+: H(x) = \\frac{n_i}{nh_i}$, где $n_i$ - число элементов выборки, попавших в i-й интервал, h - размер интервала\n",
    "\n",
    "**Полигон частот** - кусочно-линейно непрерывная функция совпадающая с гистограммой в середине каждого интервала\n",
    "\n",
    "Функция правдоподобия $L : \\mathfrak{X} \\times \\Theta \\to (0; +\\infty)$\n",
    "\n",
    "$L(x,\\theta)=p_{\\theta}(x), x \\in \\mathfrak{X}, \\theta \\in \\Theta$\n",
    "\n",
    "**Оценка максимального правдоподобия (ОМП):**\n",
    "\n",
    "Метод оценивания неизвестного параметра путём максимизации функции правдоподобия $L(\\overrightarrow{X},\\theta)=\\prod_{i=1}^{n}P_{\\theta}(X_{i})$\n",
    "\n",
    "Оценка $\\widehat{\\theta}(X)$, максимизирующая функцию правдоподобия $L(\\overrightarrow{X},\\theta)$ по $\\theta$ при любом фиксированном $X$\n",
    "\n",
    "$L(\\overrightarrow{X}, \\widehat{\\theta}(X)) \\ge L(\\overrightarrow{X}, \\tilde{\\theta}(X))$ для любых $X \\in \\mathfrak{X}, \\tilde{\\theta}(x)$\n",
    "\n",
    "называется оценкой максимального правдоподобия\n",
    "\n",
    "Функция правдоподобия распадается в произведения: $L(\\overrightarrow{X},\\theta)=\\prod_{i=1}^{n}p_{\\theta}(X_{i})$\n",
    "\n",
    "Логарифмическая функция правдоподобия: $LL(\\overrightarrow{X},\\theta)=\\ln L(\\overrightarrow{X},\\theta) = \\sum_{i=1}^{n}\\ln p_{\\theta}(X_{i})$\n",
    "\n",
    "**Оценка по методу моментов**\n",
    "\n",
    "Метод оценки неизвестных параметров распределений, идея метода заключается в замене истинных соотношений выборочными аналогами.\n",
    "\n",
    "Если существует единственное решение $\\tilde{\\theta}(X)$ системы уравнений $\\hat{\\mu_k}(\\tilde{\\theta}) = \\mu_k(\\tilde{\\theta})$ для $k = 1,\\dots,d$\n",
    "\n",
    "где $\\theta = (\\theta_1,\\dots,\\theta_d);\\ \\mu_k(\\theta) = \\mathbb{E}_{\\theta}X_1^k;\\  \\hat{\\mu_k}(\\theta) = \\frac{1}{n}\\sum_{i=1}^{n}X_1^k$ - выборочный момент k-ого порядка, то\n",
    "\n",
    "$\\tilde{\\theta}(X)$ - оценка по методу моментов\n",
    "\n",
    "**Смещение оценки:** $bias_{\\hat{\\theta}}(\\theta) = \\mathbb{E}\\hat{\\theta}(X) - \\theta$\n",
    "\n",
    "**Асимптотический доверительный интервал:** $\\left[ \\widehat{\\theta}(\\overrightarrow{X})-\\frac{X_{\\alpha}}{\\sqrt{n\\cdot I\\left( \\widehat{\\theta}(\\overrightarrow{X}) \\right)}};\\widehat{\\theta}(\\overrightarrow{X})+\\frac{X_{\\alpha}}{\\sqrt{n\\cdot I\\left( \\widehat{\\theta}(\\overrightarrow{X}) \\right)}} \\right]$\n",
    "\n",
    "**Асимптотическая нормальность в терминах сходимости:** $\\sqrt{n}\\left( \\widehat{\\theta}(\\overrightarrow{X})-\\theta)\\right)\\sim \\mathcal{N}\\left(0,\\sigma^{2}(\\theta)\\right)$\n",
    "\n",
    "Статистика $\\hat{\\Theta}_n = \\left[T_{1,n}(\\overrightarrow{X}), T_{2,n}(\\overrightarrow{X})\\right]$ определенная при любом $n \\in \\mathbb{N}$ такая, что $lim_{n \\to \\infty}P_{\\theta}\\left(\\left[T_{1,n}(\\overrightarrow{X}), T_{2,n}(\\overrightarrow{X})\\right] \\ni \\theta \\right) \\ge 1 - \\alpha$, где $\\alpha \\in (0,1)$ - уровень значимости\n",
    "\n",
    "**Метод построения на базе ОМП**\n",
    "\n",
    "При выполнении определенных условий регулярности\n",
    "\n",
    "$\\sqrt{n}\\left( \\hat{\\theta}(\\overrightarrow{X})-\\theta)\\right)\\sim \\mathcal{N}\\left(0,\\frac{1}{I(\\theta)}\\right)$, где $I(\\theta) = \\lim_{n \\to \\infty}I_n(\\theta)/n$ - информация Фишера, а $ I_n(\\theta) = -\\mathbb{E} \\frac{\\partial^{2} LL}{\\partial \\theta^{2}}$\n",
    "\n",
    "Тогда $\\sqrt{nI\\left(\\hat{\\theta}(\\overrightarrow{X}) \\right)}\\ \\left( \\hat{\\theta}(\\overrightarrow{X})-\\theta \\right)\\sim \\mathcal{N}(0,1)$\n",
    "\n",
    "Выберем $x_{\\alpha} : \\Phi(x_{\\alpha}) = 1 - x_{\\alpha}/2$\n",
    "\n",
    "и получим асимптотический доверительный интервал $\\left[ \\hat{\\theta}(\\overrightarrow{X})-\\frac{X_{\\alpha}}{\\sqrt{n I\\left( \\hat{\\theta}(\\overrightarrow{X}) \\right)}};\\ \\hat{\\theta}(\\overrightarrow{X})+\\frac{X_{\\alpha}}{\\sqrt{n I\\left( \\hat{\\theta}(\\overrightarrow{X}) \\right)}} \\right] \\ni \\theta$\n",
    "\n",
    "**Проверка статистических гипотез**\n",
    "\n",
    "Статистическая гипотеза - утверждение  о параметре вида $H: \\theta \\in \\Theta^* \\subseteq \\Theta$\n",
    "\n",
    "Если гипотеза вида $H: \\theta = \\theta^*$, то такая гипотеза называется простой, в ином случае она называется сложной\n",
    "\n",
    "**Классическая постановка задачи**\n",
    "- основная (нулевая) гипотеза: $H_0: \\theta \\in \\Theta_0$\n",
    "- альтернативная гипотеза: $H_A: \\theta \\in \\Theta_A$\n",
    "\n",
    "**Статистический критерий (тест) - статистика** $\\phi : \\mathfrak{X} \\to [0,1]$, которая определяет вероятность отвергнуть основную гипотезу\n",
    "\n",
    "**Статистика отношения правдоподобия**\n",
    "\n",
    "$H_0 : \\theta = \\theta_0;\\  H_A : \\theta = \\theta_1$\n",
    "\n",
    "$LR\\left(\\overrightarrow{X}, \\theta_1, \\theta_0\\right) = \\frac{L\\left(\\overrightarrow{X}, \\theta_1\\right)}{L\\left(\\overrightarrow{X}, \\theta_0\\right)}$\n",
    "\n",
    "**Статистика Колмогорова**\n",
    "\n",
    "$D_{n}(\\overrightarrow{X}) = \\overset{}{\\underset{X \\in \\mathbb R}{sup}} |F_{0}(X) - F_{n}(X)|$\n",
    "\n",
    "**Теорема Колмогорова**\n",
    "\n",
    "$D_{n}(\\overrightarrow{X}) = \\overset{}{\\underset{X \\in \\mathbb R}{sup}} |F_{0}(X_{i}) - F_{n}(X_{i})|$\n",
    "\n",
    "Если гипотеза $H_{0}$ верна, и $F_{0}(X)$ - непрерывная ф-я на $\\mathbb R$, тогда имеет место сходимость\n",
    "\n",
    "$P(\\sqrt{n} D_{n}(\\overrightarrow{X}) < z) \\xrightarrow[n \\rightarrow \\infty]{} K(z)$, где\n",
    "\n",
    "$K(z)=1-\\alpha$ - ф-я распределения Колмогорова.\n",
    "\n",
    "Если $D_{n} \\lt z$, то гипотезу принимаем\n",
    "\n",
    "Если $D_{n} \\gt z$, то гипотезу отвергаем"
   ]
  },
  {
   "cell_type": "markdown",
   "id": "a89ebd1c",
   "metadata": {},
   "source": [
    "## Постановка задачи\n",
    "Для полученных в результате эксперимента наборов данных выполнить статистическую обработку. Полученные результаты содержательно проинтерпретировать."
   ]
  },
  {
   "cell_type": "markdown",
   "id": "7425a6f2",
   "metadata": {},
   "source": [
    "## Выполнение работы"
   ]
  },
  {
   "cell_type": "markdown",
   "id": "33361e2c",
   "metadata": {},
   "source": [
    "### Задание 1"
   ]
  },
  {
   "cell_type": "code",
   "execution_count": 256,
   "id": "d1660322",
   "metadata": {},
   "outputs": [
    {
     "name": "stdout",
     "output_type": "stream",
     "text": [
      "α₁ = 0.1, a = 0, b = 1.35, λ₀ = 2.8, λ₁ = 0.6, n = 50\n"
     ]
    }
   ],
   "source": [
    "import numpy as np\n",
    "import matplotlib.pyplot as plt\n",
    "from scipy import stats\n",
    "data = [0, 2, 0, 3, 2, 0, 1, 0, 1, 0, 0, 1, 1, 1, 3, 2, 0, 0, 0, 1, 2, 0, 0, 1, 0, 2, 1, 0, 0, 0, 1, 0, 0, 2, 1, 1, 0, 0, 0, 0, 1, 1, 0, 0, 2, 0, 1, 0, 0, 1]\n",
    "\n",
    "alpha1, a, b, lambda0, lambda1, n = 0.1, 0, 1.35, 2.8, 0.6, len(data)\n",
    "print(f\"α₁ = {alpha1}, a = {a}, b = {b}, λ₀ = {lambda0}, λ₁ = {lambda1}, n = {n}\")"
   ]
  },
  {
   "cell_type": "markdown",
   "id": "2dec38ce",
   "metadata": {},
   "source": [
    "#### a) Построить вариционный ряд, эмпирическую функцию распределения и гистограмму частот"
   ]
  },
  {
   "cell_type": "code",
   "execution_count": 265,
   "id": "06f2bd96",
   "metadata": {},
   "outputs": [
    {
     "name": "stdout",
     "output_type": "stream",
     "text": [
      "[0 0 0 0 0 0 0 0 0 0 0 0 0 0 0 0 0 0 0 0 0 0 0 0 0 0 1 1 1 1 1 1 1 1 1 1 1\n",
      " 1 1 1 1 2 2 2 2 2 2 2 3 3]\n"
     ]
    },
    {
     "data": {
      "image/png": "[encoded data removed]",
      "text/plain": [
       "<Figure size 640x480 with 1 Axes>"
      ]
     },
     "metadata": {},
     "output_type": "display_data"
    },
    {
     "data": {
      "image/png": "[encoded data removed]",
      "text/plain": [
       "<Figure size 640x480 with 1 Axes>"
      ]
     },
     "metadata": {},
     "output_type": "display_data"
    }
   ],
   "source": [
    "sorted_data = np.sort(data)\n",
    "n = len(data)\n",
    "variation_range = np.unique(sorted_data)\n",
    "empirical_function = np.cumsum(np.bincount(sorted_data)) / n\n",
    "print(sorted_data)\n",
    "\n",
    "\n",
    "plt.step(variation_range, empirical_function, color='g')\n",
    "plt.xlabel('Значения')\n",
    "plt.ylabel('Вероятность')\n",
    "plt.title('Эмпирическая функция')\n",
    "plt.show()\n",
    "\n",
    "plt.hist(sorted_data, bins=range(min(sorted_data), max(sorted_data) + 2), density=True, edgecolor='black')\n",
    "plt.xlabel('Значение')\n",
    "plt.ylabel('Относительная частота')\n",
    "plt.title('Гистограмма частот')\n",
    "plt.show()"
   ]
  },
  {
   "cell_type": "markdown",
   "id": "8516f2de",
   "metadata": {},
   "source": [
    "#### b) Вычислить выборочные аналоги следующих числовых характеристик: (i)математическое ожидание, (ii)дисперсия, (iii)медианы, (iv)асимметрии, (v)эксцесса (vi) вероятности $\\mathrm{P}(X\\in \\left[ a,b \\right])$"
   ]
  },
  {
   "cell_type": "code",
   "execution_count": 268,
   "id": "6bac1048",
   "metadata": {},
   "outputs": [
    {
     "name": "stdout",
     "output_type": "stream",
     "text": [
      "Мат.ожидание = 0.7\n",
      "Дисперсия = 0.73\n",
      "Выборочное стандартное отклонение = 0.8544\n",
      "Медиана = 0.0\n",
      "Асимметрия = 1.0005\n",
      "Эксцесс = 0.0897\n",
      "Вероятность попадания в промежуток = 0.82\n"
     ]
    }
   ],
   "source": [
    "mean = np.mean(data)  \n",
    "variance = np.var(data)  \n",
    "deviation = np.std(data)\n",
    "median = np.median(data)\n",
    "skewness = stats.skew(data) \n",
    "kurtosis = stats.kurtosis(data) \n",
    "probability = len([x for x in data if a <= x <= b]) / len(data)\n",
    "print(\"Мат.ожидание =\", mean)\n",
    "print(\"Дисперсия =\", round(variance, 4))\n",
    "print(\"Выборочное стандартное отклонение =\", round(deviation, 4))\n",
    "print(\"Медиана =\",median)\n",
    "print(\"Асимметрия =\", round(skewness, 4))\n",
    "print(\"Эксцесс =\", round(kurtosis, 4))\n",
    "print(\"Вероятность попадания в промежуток =\",probability)"
   ]
  },
  {
   "cell_type": "markdown",
   "id": "7bc687d9",
   "metadata": {},
   "source": [
    "#### c) В предположении, что исходные наблюдения являются выборкой из распределения Пуассона, построить ОМП и ОММ параметра $\\lambda$.Найти смещение оценки."
   ]
  },
  {
   "cell_type": "markdown",
   "id": "a52c363e",
   "metadata": {},
   "source": [
    "**Построим ОМП.**  \n",
    "Плотность распределения Пуассона: $P_{\\lambda}(X=k)=\\frac{\\lambda^{k}}{k!}\\cdot exp(-\\lambda)$\n",
    "\n",
    "Построим функцию правдоподобия:\n",
    "\n",
    "$L(\\overrightarrow{X};\\theta)=\\prod_{i=1}^{n}P_{\\lambda}(X_{i})=\\prod_{i=1}^{n}\\frac{\\lambda^{X_{i}}}{X_{i}!}\\cdot exp(-\\lambda)=\\frac{\\lambda^{\\sum_{i=1}^{n}X_{i}}}{\\prod_{i=1}^{n}(X_{i}!)}\\cdot exp(-n\\cdot \\lambda)$\n",
    "\n",
    "Прологарифмируем функцию правдоподобия:\n",
    "\n",
    "$LL(\\overrightarrow{X};\\theta)= \\sum_{i=1}^{n}X_{i}\\cdot \\ln(\\lambda)-\\ln(\\prod_{i=1}^{n}X_{i}!)-n\\cdot \\lambda$\n",
    "\n",
    "Найдем частную производную по параметру $\\lambda$ и приравняем производную к нулю и тем самым найдем наш параметр:\n",
    "\n",
    "$\\frac{\\partial LL(\\overrightarrow{X};\\theta)}{\\partial \\lambda} = \\frac{\\sum_{i=1}^{n}X_{i}}{\\lambda}-n=0\\to \\frac{\\sum_{i=1}^{n}X_{i}}{\\lambda}=n\\to \\lambda=\\frac{1}{n}\\cdot \\sum_{i=1}^{n}X_{i}\\to \\widehat{\\theta}=\\widehat{\\lambda}=\\overline{X}$.\n",
    "\n",
    "Выборка нам известна, и мы можем посчитать, чему равен параметр: $\\widehat{\\lambda}=\\overline{X}=0.7$\n",
    "\n",
    "\n",
    "**Построим по ОММ.**  \n",
    "Для закона Пуассона $P_{\\lambda}(X=k)=\\frac{\\lambda^{k}}{k!}\\cdot exp(-\\lambda)$\n",
    "\n",
    "нам известно, что первый момент $\\mathbb{E}X_{1}=\\lambda;M_{1}=\\overline{X}$\n",
    "равен нашему параметру, и поскольку у нас 1-но мерный параметр, то у нас будет система из одного уравнения.\n",
    "\n",
    "Тогда мы получим $\\widetilde{\\theta}=\\widetilde{\\lambda}=\\overline{X}=0.7$\n",
    "\n",
    "\n",
    "Осталось найти смещение оценки.\n",
    "\n",
    "Для нахождения НРМД-оценки нам понадобится ОМП, которое мы нашли.\n",
    "\n",
    "$g\\left(T(\\overrightarrow{X})\\right)=\\lambda^{\\sum_{i=1}^{n}X_{i}}\\cdot exp(-n\\cdot \\lambda)$\n",
    "\n",
    "$h(\\overrightarrow{X})=\\frac{1}{\\prod_{i=1}^{n}X_{i}!}$\n",
    "\n",
    "Достаточная минимальная статистика: $T=\\sum_{i=1}^{n}X_{i}=35$.\n",
    "\n",
    "Распределение Пуассона принадлежит экспоненциальному семейству распределения, следовательно, МДС будет являться ПДС.\n",
    "\n",
    "$\\mathbb{E}_{\\lambda}\\overline{X}=\\mathbb{E}_{\\lambda}\\frac{1}{n}\\cdot \\sum_{i=1}^{n}x_{i}=\\frac{1}{n}\\cdot \\mathbb{E_{\\lambda}}\\sum_{i=1}^{n}x_{i}=\\frac{1}{n}\\cdot \\sum_{i=1}^{n}\\mathbb{E_{\\lambda}}X_{1}=\\frac{1}{n}\\cdot n\\cdot \\mathbb{E}_{\\lambda}X_{1}=\\lambda=0.7$ - НРМД-оценка"
   ]
  },
  {
   "cell_type": "markdown",
   "id": "8b2ad4e8",
   "metadata": {},
   "source": [
    "#### d) Построить А.Д.И. уровня значимости $\\alpha_1$ для параметра $\\lambda$ на базе ОМП\n",
    " $\\alpha_1 = 0.1, n = 50$"
   ]
  },
  {
   "cell_type": "markdown",
   "id": "c6f37c11",
   "metadata": {},
   "source": [
    "**1. Построим на базе ОМП.**\n",
    "\n",
    "$\\sqrt{n}\\left( \\widehat{\\theta}(\\overrightarrow{X})-\\theta \\right)\\sim N\\left( 0, \\frac{1}{I(\\theta)} \\right)$\n",
    "\n",
    "ОМП $\\widehat{\\theta}=\\widehat{\\lambda}=\\overline{X}$\n",
    "\n",
    "Найдем информацию Фишера: $I(\\theta)=-\\mathbb{E}\\left( \\frac{\\partial^{2} LL}{\\partial \\lambda^{2}} \\right)=-\\mathbb{E}\\left( -\\frac{\\sum_{i=1}^{n}X_{i}}{\\lambda^{2}} \\right)=\\frac{n}{\\lambda}$\n",
    "\n",
    "Тогда $\\sqrt{n\\cdot I\\left(  \\widehat{\\theta}(\\overrightarrow{X})\\right)}\\left( \\widehat{\\theta}(\\overrightarrow{X})-\\theta \\right)\\sim N(0,1)$\n",
    "\n",
    "Выбираем $X_{\\alpha}$: $\\mathrm{Ф}(X_{\\alpha})=1-\\frac{\\alpha_{1}}{2}=1-\\frac{0.1}{2}=0.95 \\to X_{0.95}=1.65$\n",
    "\n",
    "$А.Д.И. \\left[ \\overline{X}-\\frac{X_{0.95}}{\\sqrt{n\\cdot \\frac{n}{\\overline{X}}}}; \\overline{X}+\\frac{X_{0.95}}{\\sqrt{n\\cdot \\frac{n}{\\overline{X}}}}\\right] \\Rightarrow 0.7-\\frac{1.65}{59.76}\\le \\lambda\\le 0.7+\\frac{1.65}{59.76} \\Rightarrow 0.672\\le \\lambda\\le 0.728$ - Асимп. довер. интервал параметра $\\lambda$.\n",
    "\n",
    "**2. Построим на безе асимтотической нормальной оценки $\\widehat{\\theta}$**\n",
    "\n",
    "$\\sqrt{n}\\left( \\widehat{\\theta}(\\overrightarrow{X})-\\theta \\right)\\sim N(0,\\sigma^{2}(\\theta))$\n",
    "\n",
    "$\\sqrt{n}\\frac{ \\widehat{\\theta}(\\overrightarrow{X})-\\theta}{\\sigma(\\widehat{\\theta})}\\sim N(0,1)$\n",
    "\n",
    "$X_{\\alpha}: \\mathrm{Ф(X_{\\alpha})}=0.95\\to X_{0.95}=1.65$\n",
    "\n",
    "$-X_{0.95}\\le \\sqrt{n}\\cdot \\frac{\\widehat{\\lambda}-\\lambda}{\\sqrt{\\widehat{\\lambda}}}\\le X_{0.95}$\n",
    "\n",
    "$0.7-\\frac{1.65\\cdot \\sqrt{0.7}}{\\sqrt{50}}\\le \\lambda\\le 0.7+\\frac{1.65\\cdot \\sqrt{0.7}}{\\sqrt{50}}\\to 0.505\\le \\lambda\\le 0.895$ - А.Д.И. параметра $\\lambda$"
   ]
  },
  {
   "cell_type": "markdown",
   "id": "9490784e",
   "metadata": {},
   "source": [
    "#### e) Используя гистограмму частот, построить критерий значимости $\\mathcal{X^{2}}$ проверки простой гипотезы согласия с распределением Пуассона с параметром $\\lambda_{0}$. Проверить гипотезу на урокень значимости $\\alpha_{1}$. Вычислить наибольшее значение уровня значимости, на котором ещё нет оснований отвергнуть данную гипотезу.\n",
    "$\\alpha_{1} = 0.1, \\lambda_{0} = 2.8, n = 50$"
   ]
  },
  {
   "cell_type": "code",
   "execution_count": 269,
   "id": "43494471",
   "metadata": {},
   "outputs": [
    {
     "data": {
      "image/png": "[encoded data removed]",
      "text/plain": [
       "<Figure size 640x480 with 1 Axes>"
      ]
     },
     "metadata": {},
     "output_type": "display_data"
    }
   ],
   "source": [
    "plt.hist(sorted_data, bins=range(min(sorted_data), max(sorted_data) + 2), density=True, edgecolor='black')\n",
    "plt.xlabel('Значение')\n",
    "plt.ylabel('Относительная частота')\n",
    "plt.title('Гистограмма частот')\n",
    "plt.show()"
   ]
  },
  {
   "cell_type": "code",
   "execution_count": 270,
   "id": "8f30a1c1",
   "metadata": {},
   "outputs": [
    {
     "name": "stdout",
     "output_type": "stream",
     "text": [
      "n₀ = 26\n",
      "n₁ = 15\n",
      "n₂ = 7\n",
      "n₃ = 2\n"
     ]
    }
   ],
   "source": [
    "print(f\"n₀ = {len([x for x in data if x == 0])}\\nn₁ = {len([x for x in data if x == 1])}\\nn₂ = {len([x for x in data if x == 2])}\\nn₃ = {len([x for x in data if x == 3])}\")"
   ]
  },
  {
   "cell_type": "markdown",
   "id": "a9bddc9b",
   "metadata": {},
   "source": [
    "$P_{i}=P_{H_{0}}=(X\\in I_{i})=\\sum_{k\\in I_{i}}^{}\\frac{\\alpha_1^{k}}{k!}exp(-\\alpha_1)$\n",
    "\n",
    "$I_{1}=\\left[ 0\\right], n_{1}=26$\n",
    "\n",
    "$P_{1}=\\frac{2.8^{0}}{0!}exp(-2.8)=0.06\\to nP_{1}=3.04$\n",
    "\n",
    "$I_{2}=\\left[ 1 \\right], n_{2}=15$\n",
    "\n",
    "$P_{2}=\\frac{2.8^{1}}{1!}exp(-2.8)=0.17\\to nP_{2}=8.51$\n",
    "\n",
    "$I_{3}=\\left[ 2 \\right], n_{3}=7$\n",
    "\n",
    "$P_{3}=\\frac{2.8^{2}}{2!}exp(-2.8)=0.24\\to nP_{3}=11.92$\n",
    "\n",
    "$I_{4}=\\left[ 3\\right], n_{4}=2$\n",
    "\n",
    "$P_{4}=\\frac{2.8^{3}}{3!}exp(-2.8)=0.22\\to nP_{4}=11.12$\n",
    "\n",
    "Критерий $\\mathcal{X}^{2}: \\mathcal{X}^{2}_{набл}=\\sum_{i=1}^{4}\\frac{(n_{i}-np_{i})^{2}}{np_{i}} = 187.87$"
   ]
  },
  {
   "cell_type": "markdown",
   "id": "83f66732",
   "metadata": {},
   "source": [
    "Вычислим с помощью python значение $\\mathcal{X}^{2}_{N-1,1-\\alpha_{1}}=\\mathcal{X}^{2}_{3, 0.9}$"
   ]
  },
  {
   "cell_type": "code",
   "execution_count": 271,
   "id": "be19b2dc",
   "metadata": {},
   "outputs": [
    {
     "data": {
      "text/plain": [
       "6.251388631170325"
      ]
     },
     "execution_count": 271,
     "metadata": {},
     "output_type": "execute_result"
    }
   ],
   "source": [
    "stats.chi2.ppf(0.9, 3)"
   ]
  },
  {
   "cell_type": "markdown",
   "id": "09b24dd4",
   "metadata": {},
   "source": [
    "$\\mathcal{X}^{2}_{3, 0.9}\\simeq 6.251$\n",
    "\n",
    "$\\mathcal{X}^{2}\\gt \\mathcal{X}^{2}_{3,0.9}\\to$ по критерию Пирсона мы отвергаем гипотезу, т.е в данном случае мы её отвергаем"
   ]
  },
  {
   "cell_type": "code",
   "execution_count": 272,
   "id": "914ed2dd",
   "metadata": {},
   "outputs": [
    {
     "data": {
      "text/plain": [
       "0"
      ]
     },
     "execution_count": 272,
     "metadata": {},
     "output_type": "execute_result"
    }
   ],
   "source": [
    "xi_2 = 187.87\n",
    "max_alpha = 0\n",
    "for i in range(1, 10000):\n",
    "    if (xi_2 <= stats.chi2.ppf(1 - i/10000, 3)):\n",
    "        max_alpha = i/10000\n",
    "max_alpha"
   ]
  },
  {
   "cell_type": "markdown",
   "id": "af2c24ed",
   "metadata": {},
   "source": [
    "Наибольшее значение уровня значимости, при котором нет еще оснований отвергнуть стремится к нулю"
   ]
  },
  {
   "cell_type": "markdown",
   "id": "61817609",
   "metadata": {},
   "source": [
    "#### f)Построить критерий значимости  $\\mathcal{X^{2}}$ проверки сложной гипотезы согласия с распределением Пуассона. Проверить гипотезу по уровню значимости $\\alpha_{1}$.Вычислить наибольшее значение уровня значимости, на котором ещё нет оснований отвергнуть данную гипотезу."
   ]
  },
  {
   "cell_type": "markdown",
   "id": "f2ebab20",
   "metadata": {},
   "source": [
    "$P_{i}=P_{H_{0}}=(X\\in I_{i})=\\sum_{k\\in I_{i}}^{}\\frac{\\overline{X}^{k}}{k!}exp(-\\overline{X})$\n",
    "\n",
    "$I_{1}=\\left[ 0\\right], n_{1}=26$\n",
    "\n",
    "$P_{1}=\\frac{0.7^{0}}{0!}exp(-0.7)=0.497\\to nP_{1}=24.829$\n",
    "\n",
    "$I_{2}=\\left[ 1 \\right], n_{2}=15$\n",
    "\n",
    "$P_{2}=\\frac{0.7^{1}}{1!}exp(-0.7)=0.348\\to nP_{2}=17.38$\n",
    "\n",
    "$I_{3}=\\left[ 2 \\right], n_{3}=7$\n",
    "\n",
    "$P_{3}=\\frac{0.7^{2}}{2!}exp(-0.7)=0.122\\to nP_{3}=6.083$\n",
    "\n",
    "$I_{4}=\\left[ 3\\right], n_{4}=2$\n",
    "\n",
    "$P_{4}=\\frac{0.7^{3}}{3!}exp(-0.7)=0.028\\to nP_{4}=1.419$\n",
    "\n",
    "Критерий $\\mathcal{X}^{2}: \\mathcal{X}^{2}_{набл}=\\sum_{i=1}^{4}\\frac{(n_{i}-np_{i})^{2}}{np_{i}} = 0.757$"
   ]
  },
  {
   "cell_type": "markdown",
   "id": "5c6f6fe1",
   "metadata": {},
   "source": [
    "Вычислим с помощью python значение $\\mathcal{X}^{2}_{N-2,1-\\alpha_{1}}=\\mathcal{X}^{2}_{2, 0.9}$"
   ]
  },
  {
   "cell_type": "code",
   "execution_count": 273,
   "id": "b4c76d36",
   "metadata": {},
   "outputs": [
    {
     "data": {
      "text/plain": [
       "4.605170185988092"
      ]
     },
     "execution_count": 273,
     "metadata": {},
     "output_type": "execute_result"
    }
   ],
   "source": [
    "stats.chi2.ppf(0.9, 2)"
   ]
  },
  {
   "cell_type": "markdown",
   "id": "fc43587f",
   "metadata": {},
   "source": [
    "$\\mathcal{X}^{2}_{2, 0.9}\\simeq 4.605$\n",
    "\n",
    "$\\mathcal{X}^{2}\\gt \\mathcal{X}^{2}_{2,0.9}\\to$ по критерию Пирсона мы отвергаем гипотезу, т.е в данном случае мы её принимаем"
   ]
  },
  {
   "cell_type": "code",
   "execution_count": 274,
   "id": "8cb25464",
   "metadata": {},
   "outputs": [
    {
     "data": {
      "text/plain": [
       "0.6848"
      ]
     },
     "execution_count": 274,
     "metadata": {},
     "output_type": "execute_result"
    }
   ],
   "source": [
    "xi_2 = 0.757\n",
    "max_alpha = 0\n",
    "for i in range(1, 10000):\n",
    "    if (xi_2 <= stats.chi2.ppf(1 - i/10000, 2)):\n",
    "        max_alpha = i/10000\n",
    "max_alpha"
   ]
  },
  {
   "cell_type": "markdown",
   "id": "f1eba91b",
   "metadata": {},
   "source": [
    "Наибольшее значение уровня значимости, при котором нет еще оснований отвергнуть данную гипотезу $\\simeq$ 0.6848"
   ]
  },
  {
   "cell_type": "markdown",
   "id": "dcd91e96",
   "metadata": {},
   "source": [
    "#### g) Построить наиболее мощный критерий проверки простой гипотезы пауссоновости с параметром $\\lambda=\\lambda_{0}$ при альтернативе пуассоновсти с параметром $\\lambda=\\lambda_{1}$. Проверить гипотезу на уровне значимости $\\alpha_{1}$. Что получится, если поменять местами основную и альтернативную гипотезы?\n",
    "\n",
    "$\\alpha_1 = 0.1, \\lambda_0 = 2.8, \\lambda_1 = 0.6$"
   ]
  },
  {
   "cell_type": "markdown",
   "id": "04b10178",
   "metadata": {},
   "source": [
    "$ H_ {0} :  \\lambda  =  \\lambda _ {0} $ \n",
    " \n",
    " $ H_ {1} :  \\lambda  =  \\lambda _ {1} $ \n",
    " \n",
    "Cтатистическое отношение правдоподобия:\n",
    "\n",
    "$$LR(\\overrightarrow{X},\\lambda_{1},\\lambda_{0}) = \\left(\\frac{\\lambda_{1}}{\\lambda_{0}}\\right)^{\\sum_{i=1}^{50}X_{i}} \\cdot exp^{-n\\cdot \\lambda_{1} + n\\cdot \\lambda_{0} }$$\n",
    "\n",
    "$LR(\\overrightarrow{X},\\lambda_{0},\\lambda_{1})\\gt c\\Leftrightarrow \\overline{X}\\gt c$\n",
    "\n",
    "$\\sqrt{n}\\frac{\\overline{X}-\\lambda_{0}}{\\sqrt{\\overline{X}}}\\sim N(0,1)$\n",
    "\n",
    "$P\\left(\\sqrt{n}\\frac{\\overline{X}-\\lambda_{0}}{\\sqrt{\\overline{X}}} \\right)\\gt \\sqrt{n}\\frac{\\overline{X}-\\lambda_{0}}{\\sqrt{\\overline{X}}}=1-\\Phi\\left(\\sqrt{n}\\frac{\\overline{X}-\\lambda_{0}}{\\sqrt{\\overline{X}}} \\right)=\\alpha_{1}$\n",
    "\n",
    "$\\Phi\\left(\\sqrt{n}\\frac{\\overline{X}-\\lambda_{0}}{\\sqrt{\\overline{X}}} \\right)=1-\\alpha_{1}=0.9$\n",
    "\n",
    "$\\sqrt{n}\\frac{\\overline{X}-\\lambda_{0}}{\\sqrt{\\overline{X}}}\\gt \\sqrt{n}\\frac{c-\\lambda_{0}}{\\sqrt{\\overline{X}}} = 1.29\\to c=2.953$\n",
    "\n",
    "$$ \\phi(x) =\\left\\{\n",
    "  \\begin{array}{l}\n",
    "    1, \\overline{X} > 2.953 \\\\\n",
    "    p, \\overline{X} = 2.953\\\\\n",
    "    0, \\overline{X} < 2.953\\\\\n",
    "  \\end{array}\\right.$$\n",
    "  \n",
    "$\\overline{X} = 0.7 < c = 2.953 \\to$ принимаем гипотезу"
   ]
  },
  {
   "cell_type": "markdown",
   "id": "d1bb42a7",
   "metadata": {},
   "source": [
    "**Меняем местами основную и альтернативную гипотезу:**\n",
    "\n",
    "$ H_ {0} :  \\lambda  =  \\lambda _ {0} $ \n",
    " \n",
    " $ H_ {1} :  \\lambda  =  \\lambda _ {1} $ \n",
    " \n",
    "Cтатистическое отношение правдоподобия:\n",
    "\n",
    "$$LR(\\overrightarrow{X},\\lambda_{1},\\lambda_{0}) = \\left(\\frac{\\lambda_{1}}{\\lambda_{0}}\\right)^{\\sum_{i=1}^{50}X_{i}} \\cdot exp^{-n\\cdot \\lambda_{1} + n\\cdot \\lambda_{0} }$$\n",
    "\n",
    "$LR(\\overrightarrow{X},\\lambda_{0},\\lambda_{1})\\gt c\\Leftrightarrow \\overline{X}\\gt c$\n",
    "\n",
    "$\\sqrt{n}\\frac{\\overline{X}-\\lambda_{1}}{\\sqrt{\\overline{X}}}\\sim N(0,1)$\n",
    "\n",
    "$P\\left(\\sqrt{n}\\frac{\\overline{X}-\\lambda_{1}}{\\sqrt{\\overline{X}}} \\right)\\gt \\sqrt{n}\\frac{\\overline{X}-\\lambda_{1}}{\\sqrt{\\overline{X}}}=1-\\Phi\\left(\\sqrt{n}\\frac{\\overline{X}-\\lambda_{1}}{\\sqrt{\\overline{X}}} \\right)=\\alpha_{1}$\n",
    "\n",
    "$\\Phi\\left(\\sqrt{n}\\frac{\\overline{X}-\\lambda_{1}}{\\sqrt{\\overline{X}}} \\right)=1-\\alpha_{1}=0.9$\n",
    "\n",
    "$\\sqrt{n}\\frac{\\overline{X}-\\lambda_{1}}{\\sqrt{\\overline{X}}}\\gt \\sqrt{n}\\frac{c-\\lambda_{1}}{\\sqrt{\\overline{X}}} = 1.29\\to c=0.753$\n",
    "\n",
    "$$ \\phi(x) =\\left\\{\n",
    "  \\begin{array}{l}\n",
    "    1, \\overline{X} > 0.753 \\\\\n",
    "    p, \\overline{X} = 0.753\\\\\n",
    "    0, \\overline{X} < 0.753\\\\\n",
    "  \\end{array}\\right.$$\n",
    "  \n",
    "$\\overline{X} = 0.7 < c = 0.753 \\to$ принимаем гипотезу  \n",
    "(видимо берем всё что дают, молодцы)"
   ]
  },
  {
   "cell_type": "markdown",
   "id": "03527cbe",
   "metadata": {},
   "source": [
    "#### h) В пунктах (c)-(f) заменить семейство распределение Пуассона на семейство геометрических распредленией $\\mathbb{P}_{\\lambda}(X=k)=\\frac{\\lambda^{k}}{(\\lambda+1)^{k+1}}, k\\in \\mathbb{Z_{+}}$"
   ]
  },
  {
   "cell_type": "markdown",
   "id": "7387c468",
   "metadata": {},
   "source": [
    "**Построим ОМП.**  \n",
    "Плотность распределения Пуассона: $P_{\\lambda}(X=k)=\\frac{\\lambda^{k}}{(\\lambda+1)^{k+1}}$\n",
    "\n",
    "Построим функцию правдоподобия:\n",
    "\n",
    "$L(\\overrightarrow{X};\\theta)=\\prod_{i=1}^{n}P_{\\lambda}(X_{i})=\\prod_{i=1}^{n}\\frac{\\lambda^{X_{i}}}{(\\lambda+1)^{X_{i}}}=\\frac{\\lambda^{\\sum_{i=1}^{n}X_{i}}}{(\\lambda+1)^{\\sum_{i=1}^{n}X_{i}+n}}$\n",
    "\n",
    "Прологарифмируем функцию правдоподобия:\n",
    "\n",
    "$LL(\\overrightarrow{X};\\theta)= \\sum_{i=1}^{n}X_{i}\\cdot \\ln(\\lambda)-(\\sum_{i=1}^{n}X_{i}+n)\\ln(\\lambda+1)$\n",
    "\n",
    "Найдем частную производную по параметру $\\lambda$ и приравняем производную к нулю и тем самым найдем наш параметр:\n",
    "\n",
    "$\\frac{\\partial LL(\\overrightarrow{X};\\theta)}{\\partial \\lambda} = \\frac{\\sum_{i=1}^{n}X_{i}}{\\lambda}-\\frac{\\sum_{i=1}^{50}X_{i}+n}{\\lambda+1}=0\\to \\frac{\\lambda}{\\sum_{i=1}^{50}X_{i}}=\\frac{\\lambda+1}{\\sum_{i=1}^{50}X_{i}+n}\\to \\lambda\\cdot \\sum_{i=1}^{n}X_{i}+\\lambda \\cdot n = \\lambda\\cdot \\sum_{i=1}^{n}X_{i}+\\sum_{i=1}^{n}X_{i}\\to \\lambda=\\overline{X}\\to \\widehat{\\theta}=\\widehat{\\lambda}=\\overline{X}=1$.\n",
    "\n",
    "\n",
    "\n",
    "**Построим по ОММ.**  \n",
    "Для геометрического распределения  $P_{\\lambda}(X=k)=\\frac{\\lambda^{k}}{(\\lambda +1)^{k+1}}$\n",
    "\n",
    "нам известно, что первый момент $\\mathbb{E}X=\\frac{1}{\\lambda};M=\\overline{X}$\n",
    "поскольку у нас 1-но мерный параметр, то у нас будет система из одного уравнения.\n",
    "\n",
    "Тогда мы получим $\\widetilde{\\theta}=\\widetilde{\\lambda}=\\frac{1}{\\overline{X}}=1.43$\n",
    "\n",
    "\n",
    "Осталось найти смещение оценки.\n",
    "\n",
    "Для нахождения НРМД-оценки нам понадобится ОМП, которое мы нашли.\n",
    "\n",
    "$g\\left(T(\\overrightarrow{X})\\right)=\\frac{\\lambda^{\\sum_{i=1}^{n}X_{i}}}{(\\lambda+1)^{\\sum_{i=1}^{n}X_{i}+n}}$\n",
    "\n",
    "$h(\\overrightarrow{X})=1$\n",
    "\n",
    "Достаточная минимальная статистика: $T=\\sum_{i=1}^{n}X_{i}=50$.\n",
    "\n",
    "\n",
    "$\\mathbb{E}_{\\lambda}\\widehat{\\lambda}=\\mathbb{E}_{\\lambda}\\overline{X}=\\mathbb{E}_{\\lambda}\\frac{1}{n}\\cdot \\sum_{i=1}^{n}x_{i}=\\frac{1}{n}\\cdot \\mathbb{E_{\\lambda}}\\sum_{i=1}^{n}x_{i}=\\frac{1}{n}\\cdot \\sum_{i=1}^{n}\\mathbb{E_{\\lambda}}X_{1}=\\frac{1}{n}\\cdot n\\cdot \\mathbb{E}_{\\lambda}X_{1}=\\lambda=1$-НРМД-оценка"
   ]
  },
  {
   "cell_type": "markdown",
   "id": "32ab78a1",
   "metadata": {},
   "source": [
    "#### h.d) Построить А.Д.И. уровня значимости $\\alpha_1$ для параметра $\\lambda$ на базе ОМП"
   ]
  },
  {
   "cell_type": "markdown",
   "id": "7dd72d73",
   "metadata": {},
   "source": [
    "**1. Построим на базе ОМП.**\n",
    "\n",
    "$\\sqrt{n}\\left( \\widehat{\\theta}(\\overrightarrow{X})-\\theta \\right)\\sim N\\left( 0, \\frac{1}{I(\\theta)} \\right)$\n",
    "\n",
    "ОМП $\\widehat{\\theta}=\\widehat{\\lambda}={\\overline{X}} = 0.7$\n",
    "\n",
    "Найдем информацию Фишера: $I(\\theta)=-\\mathbb{E}\\left( \\frac{\\partial^{2} LL}{\\partial \\lambda^{2}} \\right)=-\\mathbb{E}\\left( -\\frac{\\sum_{i=1}^{n}X_{i}}{\\lambda^{2}}+\\frac{\\sum_{i=1}^{n}X_{i}+n}{(\\lambda +1)^{2}} \\right)== \\frac{n}{\\lambda^{2}}-\\mathbb{E}\\left( \\frac{\\sum_{i=1}^{n}X_{i}}{(\\lambda+1)^{2}} \\right)-\\mathbb{E}\\left( \\frac{n}{(\\lambda+1)^{2}} \\right)=\\frac{n}{\\lambda^{2}}-\\frac{n}{(\\lambda+1)^{2}}-\\frac{n}{(\\lambda+1)^{2}}=\\frac{n(\\lambda^{2}+1)}{(\\lambda+1)^{2}\\cdot \\lambda^{2}}$\n",
    "\n",
    "Тогда $\\sqrt{n\\cdot I\\left(  \\widehat{\\theta}(\\overrightarrow{X})\\right)}\\left( \\widehat{\\theta}(\\overrightarrow{X})-\\theta \\right)\\sim N(0,1)$\n",
    "\n",
    "Выбираем $X_{\\alpha}$: $\\mathrm{Ф}(X_{\\alpha})=1-\\frac{\\alpha_{1}}{2}=1-\\frac{0.02}{2}=0.95 \\to X_{0.95}=1.65$\n",
    "\n",
    "$А.Д.И. \\left[ \\overline{X}-\\frac{X_{0.95}}{\\sqrt{n\\cdot \\frac{n(\\widehat{\\lambda^{2}}+1)}{(\\widehat{\\lambda}+1)^{2}\\cdot \\widehat{\\lambda^{2}}}}};{\\overline{X}}+\\frac{X_{0.95}}{\\sqrt{n\\cdot \\frac{n(\\widehat{\\lambda^{2}}+1)}{(\\widehat{\\lambda}+1)^{2}\\cdot \\widehat{\\lambda^{2}}}}} \\right]\\to 0.668\\le \\lambda\\le 0.732$\n",
    "\n",
    "$0.668\\le \\lambda\\le 0.732$ - Асимп. довер. интервал параметра $\\lambda$.\n",
    "\n",
    "**2. Построим на безе асимтотической нормальной оценки $\\widehat{\\theta}$**\n",
    "\n",
    "$\\sqrt{n}\\left( \\widehat{\\theta}(\\overrightarrow{X})-\\theta \\right)\\sim N(0,\\sigma^{2}(\\theta))$\n",
    "\n",
    "$\\sqrt{n}\\frac{ \\widehat{\\theta}(\\overrightarrow{X})-\\theta}{\\sigma(\\widehat{\\theta})}\\sim N(0,1)$\n",
    "\n",
    "$X_{\\alpha}: \\mathrm{Ф(X_{\\alpha})}=0.95\\to X_{0.95}=1.65$\n",
    "\n",
    "$-X_{0.95}\\le \\sqrt{n}\\cdot \\frac{\\widehat{\\lambda}-\\lambda}{\\sqrt{\\widehat{\\lambda}(\\widehat{\\lambda}+1)}}\\le X_{0.95}$\n",
    "\n",
    "$1-\\frac{1.65\\cdot \\sqrt{0.7(0.7+1)}}{\\sqrt{50}}\\le \\lambda\\le 1+\\frac{1.65\\cdot \\sqrt{0.7(0.7+1)}}{\\sqrt{50}}\\to 0.445\\le \\lambda\\le 0.955$ - А.Д.И. параметра $\\lambda$"
   ]
  },
  {
   "cell_type": "markdown",
   "id": "379e0ba7",
   "metadata": {},
   "source": [
    "#### h.e) Используя гистограмму частот, построить критерий значимости $\\mathcal{X^{2}}$ проверки простой гипотезы согласия с геометрическим распределением с параметром $\\lambda_{0}$. Проверить гипотезу на урокень значимости $\\alpha_{1}$. Вычислить наибольшее значение уровня значимости, на котором ещё нет оснований отвергнуть данную гипотезу.\n",
    "\n",
    "$\\alpha_1 = 0.1, \\lambda_0 = 2.8$"
   ]
  },
  {
   "cell_type": "code",
   "execution_count": 275,
   "id": "6440a504",
   "metadata": {},
   "outputs": [
    {
     "data": {
      "image/png": "[encoded data removed]",
      "text/plain": [
       "<Figure size 640x480 with 1 Axes>"
      ]
     },
     "metadata": {},
     "output_type": "display_data"
    }
   ],
   "source": [
    "plt.hist(sorted_data, bins=range(min(sorted_data), max(sorted_data) + 2), density=True, edgecolor='black')\n",
    "plt.xlabel('Значение')\n",
    "plt.ylabel('Относительная частота')\n",
    "plt.title('Гистограмма частот')\n",
    "plt.show()"
   ]
  },
  {
   "cell_type": "markdown",
   "id": "93e2ba16",
   "metadata": {},
   "source": [
    "$P_{i}=P_{H_{0}}=(X\\in I_{i})=\\sum_{k\\in I_{i}}^{}\\frac{\\lambda_{0}^{k}}{(\\lambda_{0}+1)^{k+1}}$\n",
    "\n",
    "$I_{1}=\\left[ 0\\right], n_{1}=26$\n",
    "\n",
    "$P_{1}=\\frac{2.8^0}{(2.8+1)^{0 + 1}}=0.263\\to nP_{1}=13.158$\n",
    "\n",
    "$I_{2}=\\left[ 1 \\right], n_{2}=15$\n",
    "\n",
    "$P_{2}=\\frac{2.8^1}{(2.8+1)^{1 + 1}}=0.194\\to nP_{2}=9.66$\n",
    "\n",
    "$I_{3}=\\left[ 2 \\right], n_{3}=7$\n",
    "\n",
    "$P_{3}=\\frac{2.8^2}{(2.8+1)^{2 + 1}}=0.143\\to nP_{3}=7.14$\n",
    "\n",
    "$I_{4}=\\left[ 3\\right], n_{4}=2$\n",
    "\n",
    "$P_{4}=\\frac{2.8^3}{(2.8+1)^{3 + 1}}=0.105\\to nP_{4}=5.264$\n",
    "\n",
    "Критерий $\\mathcal{X}^{2}: \\mathcal{X}^{2}_{набл}=\\sum_{i=1}^{4}\\frac{(n_{i}-np_{i})^{2}}{np_{i}} = 17.475$"
   ]
  },
  {
   "cell_type": "markdown",
   "id": "6eb1a72c",
   "metadata": {},
   "source": [
    "Вычислим с помощью python значение $\\mathcal{X}^{2}_{N-1,1-\\alpha_{1}}=\\mathcal{X}^{2}_{3, 0.9}$"
   ]
  },
  {
   "cell_type": "code",
   "execution_count": 276,
   "id": "4bdd3b8d",
   "metadata": {},
   "outputs": [
    {
     "data": {
      "text/plain": [
       "6.251388631170325"
      ]
     },
     "execution_count": 276,
     "metadata": {},
     "output_type": "execute_result"
    }
   ],
   "source": [
    "stats.chi2.ppf(0.9, 3)"
   ]
  },
  {
   "cell_type": "markdown",
   "id": "f652006d",
   "metadata": {},
   "source": [
    "$\\mathcal{X}^{2}_{3, 0.9}\\simeq 6.251$\n",
    "\n",
    "$\\mathcal{X}^{2}\\gt \\mathcal{X}^{2}_{3,0.9}\\to$ по критерию Пирсона мы отвергаем гипотезу, т.е в данном случае мы её отвергаем"
   ]
  },
  {
   "cell_type": "code",
   "execution_count": 277,
   "id": "6867febf",
   "metadata": {},
   "outputs": [
    {
     "data": {
      "text/plain": [
       "0.0005"
      ]
     },
     "execution_count": 277,
     "metadata": {},
     "output_type": "execute_result"
    }
   ],
   "source": [
    "xi_2 = 17.475\n",
    "max_alpha = 0\n",
    "for i in range(1, 10000):\n",
    "    if (xi_2 <= stats.chi2.ppf(1 - i/10000, 3)):\n",
    "        max_alpha = i/10000\n",
    "max_alpha"
   ]
  },
  {
   "cell_type": "markdown",
   "id": "7055657f",
   "metadata": {},
   "source": [
    "Наибольшее значение уровня значимости, при котором нет еще оснований отвергнуть данную гипотезу $\\simeq$ 0.005"
   ]
  },
  {
   "cell_type": "markdown",
   "id": "9b41b3e6",
   "metadata": {},
   "source": [
    "#### h.f)Построить критерий значимости  $\\mathcal{X^{2}}$ проверки сложной гипотезы согласия с геометрическим распределением. Проверить гипотезу по уровню значимости $\\alpha_{1}$.Вычислить наибольшее значение уровня значимости, на котором ещё нет оснований отвергнуть данную гипотезу."
   ]
  },
  {
   "cell_type": "markdown",
   "id": "697ff196",
   "metadata": {},
   "source": [
    "$P_{i}=P_{H_{0}}=(X\\in I_{i})=\\sum_{k\\in I_{i}}^{}\\frac{{\\overline{X}^{k}}}{\\left( {\\overline{X}} +1\\right)^{k+1}}$\n",
    "\n",
    "$I_{1}=\\left[ 0\\right], n_{1}=26$\n",
    "\n",
    "$P_{1}=\\frac{0.7^0}{(0.7+1)^{0 + 1}}=0.588\\to nP_{1}=29.412$\n",
    "\n",
    "$I_{2}=\\left[ 1 \\right], n_{2}=15$\n",
    "\n",
    "$P_{2}=\\frac{0.7^1}{(0.7+1)^{1 + 1}}=0.242\\to nP_{2}=12.11$\n",
    "\n",
    "$I_{3}=\\left[ 2 \\right], n_{3}=7$\n",
    "\n",
    "$P_{3}=\\frac{0.7^2}{(0.7+1)^{2 + 1}}=0.0997\\to nP_{3}=4.987$\n",
    "\n",
    "$I_{4}=\\left[ 3\\right], n_{4}=2$\n",
    "\n",
    "$P_{4}=\\frac{0.7^3}{(0.7+1)^{3 + 1}}=0.041\\to nP_{4}=2.053$\n",
    "\n",
    "Критерий $\\mathcal{X}^{2}: \\mathcal{X}^{2}_{набл}=\\sum_{i=1}^{4}\\frac{(n_{i}-np_{i})^{2}}{np_{i}} = 1.899$"
   ]
  },
  {
   "cell_type": "markdown",
   "id": "38a26be4",
   "metadata": {},
   "source": [
    "Вычислим с помощью python значение $\\mathcal{X}^{2}_{N-2,1-\\alpha_{1}}=\\mathcal{X}^{2}_{2, 0.9}$"
   ]
  },
  {
   "cell_type": "code",
   "execution_count": 278,
   "id": "b79c78d5",
   "metadata": {},
   "outputs": [
    {
     "data": {
      "text/plain": [
       "4.605170185988092"
      ]
     },
     "execution_count": 278,
     "metadata": {},
     "output_type": "execute_result"
    }
   ],
   "source": [
    "stats.chi2.ppf(0.9, 2)"
   ]
  },
  {
   "cell_type": "markdown",
   "id": "ab9f69a8",
   "metadata": {},
   "source": [
    "$\\mathcal{X}^{2}_{2, 0.9}\\simeq 4.605$\n",
    "\n",
    "$\\mathcal{X}^{2}\\gt \\mathcal{X}^{2}_{2,0.9}\\to$ по критерию Пирсона мы отвергаем гипотезу, т.е в данном случае мы её принимаем"
   ]
  },
  {
   "cell_type": "code",
   "execution_count": 279,
   "id": "8044ce9b",
   "metadata": {},
   "outputs": [
    {
     "data": {
      "text/plain": [
       "0.3869"
      ]
     },
     "execution_count": 279,
     "metadata": {},
     "output_type": "execute_result"
    }
   ],
   "source": [
    "xi_2 = 1.899\n",
    "max_alpha = 0\n",
    "for i in range(1, 10000):\n",
    "    if (xi_2 <= stats.chi2.ppf(1 - i/10000, 2)):\n",
    "        max_alpha = i/10000\n",
    "max_alpha"
   ]
  },
  {
   "cell_type": "markdown",
   "id": "6d85717d",
   "metadata": {},
   "source": [
    "Наибольшее значение уровня значимости, при котором нет еще оснований отвергнуть данную гипотезу $\\simeq$ 0.3869"
   ]
  },
  {
   "cell_type": "markdown",
   "id": "1492d7d1",
   "metadata": {},
   "source": [
    "### Задание 2"
   ]
  },
  {
   "cell_type": "code",
   "execution_count": 285,
   "id": "f7bd51d4",
   "metadata": {},
   "outputs": [
    {
     "name": "stdout",
     "output_type": "stream",
     "text": [
      "α₂ = 0.1, c = 0, h = 2, λ₀ = 0.13, λ₁ = 0.2, n = 50\n"
     ]
    }
   ],
   "source": [
    "data_2 = [2.97, 7.54, 1.67, 2.70, 5.97, 6.53, 5.71, 1.81, 17.78, 0.27, 5.67, 1.68, 1.79, 0.42, 0.41, 1.92, 3.15, 15.82, 0.11, 3.77, 2.64, 1.37, 9.00, 3.35, 14.86,0.32, 5.40, 2.88, 1.14, 8.55, 5.13, 1.66, 9.94, 0.22, 0.99, 12.94, 0.99, 17.28, 3.70, 1.61, 2.11, 14.93, 6.08, 0.11, 4.90, 6.29, 4.59, 18.39, 2.58, 0.78,]\n",
    "\n",
    "alpha2, c, d, h, lambda0, lambda1, n = 0.1, 0, 8, 2, 0.13, 0.2, len(data_2)\n",
    "print(f\"α₂ = {alpha2}, c = {c}, h = {h}, λ₀ = {lambda0}, λ₁ = {lambda1}, n = {n}\")"
   ]
  },
  {
   "cell_type": "markdown",
   "id": "0de0f5a8",
   "metadata": {},
   "source": [
    "#### a) Построить вариционный ряд, эмпирическую функцию распределения,гистограмму и полигон частот с шагом h."
   ]
  },
  {
   "cell_type": "code",
   "execution_count": 286,
   "id": "ed8a13ef",
   "metadata": {},
   "outputs": [
    {
     "name": "stdout",
     "output_type": "stream",
     "text": [
      "[ 0.11  0.11  0.22  0.27  0.32  0.41  0.42  0.78  0.99  0.99  1.14  1.37\n",
      "  1.61  1.66  1.67  1.68  1.79  1.81  1.92  2.11  2.58  2.64  2.7   2.88\n",
      "  2.97  3.15  3.35  3.7   3.77  4.59  4.9   5.13  5.4   5.67  5.71  5.97\n",
      "  6.08  6.29  6.53  7.54  8.55  9.    9.94 12.94 14.86 14.93 15.82 17.28\n",
      " 17.78 18.39]\n"
     ]
    },
    {
     "data": {
      "image/png": "[encoded data removed]",
      "text/plain": [
       "<Figure size 640x480 with 1 Axes>"
      ]
     },
     "metadata": {},
     "output_type": "display_data"
    },
    {
     "data": {
      "image/png": "[encoded data removed]",
      "text/plain": [
       "<Figure size 640x480 with 1 Axes>"
      ]
     },
     "metadata": {},
     "output_type": "display_data"
    }
   ],
   "source": [
    "sorted_data = np.sort(data_2)\n",
    "n = len(data_2)\n",
    "variation_range = np.unique(sorted_data)\n",
    "print(sorted_data)\n",
    "\n",
    "empirical_function = np.arange(1, n + 1) / n\n",
    "# Добавим нулевое значение в начало\n",
    "x = np.concatenate(([sorted_data[0]], sorted_data))\n",
    "y = np.concatenate(([0], empirical_function))\n",
    "# Построим эмпирическую функцию\n",
    "plt.step(x, y, color = 'g')\n",
    "plt.xlabel('Значение')\n",
    "plt.ylabel('Вероятность')\n",
    "plt.title('Эмпирическая функция')\n",
    "plt.show()\n",
    "\n",
    "bins = np.arange(min(data_2), max(data_2) + h, h)\n",
    "plt.hist(data_2, bins=bins, edgecolor='black', alpha=0.5, label='Гистограмма')\n",
    "plt.title(\"Гистограмма и полигон частот\")\n",
    "plt.xlabel(\"Интервалы\")\n",
    "plt.ylabel(\"Частота\")\n",
    "\n",
    "hist, _ = np.histogram(data_2, bins=bins)\n",
    "bin_centers = 0.5 * (bins[1:] + bins[:-1])\n",
    "plt.plot(bin_centers, hist, color='red', marker='o', linestyle='-', label='Полигон')\n",
    "\n",
    "plt.legend()\n",
    "plt.show()"
   ]
  },
  {
   "cell_type": "markdown",
   "id": "61d646b4",
   "metadata": {},
   "source": [
    "#### b) Вычислить выборочные аналоги следующих числовых характеристик: (i)математическое ожидание, (ii)дисперсия, (iii)медианы, (iv)асимметрии, (v)эксцесса (vi) вероятности $\\mathrm{P}(X\\in \\left[ c,d \\right])$"
   ]
  },
  {
   "cell_type": "code",
   "execution_count": 288,
   "id": "77dcab96",
   "metadata": {},
   "outputs": [
    {
     "name": "stdout",
     "output_type": "stream",
     "text": [
      "Мат.ожидание = 5.0484\n",
      "Дисперсия = 25.7783\n",
      "Выборочное стандартное отклонение = 5.0772\n",
      "Медиана = 3.06\n",
      "Асимметрия = 1.3321\n",
      "Эксцесс = 0.7187\n",
      "Вероятность попадания в промежуток = 0.8\n",
      "Сумма выборки 252.42\n"
     ]
    }
   ],
   "source": [
    "mean = np.mean(data_2)  \n",
    "variance = np.var(data_2)\n",
    "deviation = np.std(data_2)\n",
    "median = np.median(data_2)\n",
    "skewness = stats.skew(data_2)\n",
    "kurtosis = stats.kurtosis(data_2)\n",
    "probability = len([x for x in data_2 if c <= x <= d]) / len(data_2) \n",
    "print(\"Мат.ожидание =\", mean)\n",
    "print(\"Дисперсия =\", round(variance, 4))\n",
    "print(\"Выборочное стандартное отклонение =\", round(deviation, 4))\n",
    "print(\"Медиана =\", median)\n",
    "print(\"Асимметрия =\", round(skewness, 4))\n",
    "print(\"Эксцесс =\", round(kurtosis, 4))\n",
    "print(\"Вероятность попадания в промежуток =\", probability)\n",
    "\n",
    "print(f\"Сумма выборки {round(sum(data_2), 2)}\")"
   ]
  },
  {
   "cell_type": "markdown",
   "id": "ef284488",
   "metadata": {},
   "source": [
    "#### c) В предположении, что исходные наблюдения являются выборкой из показательного распределения, построить ОМП и ОММ параметра $\\lambda$.Найти смещение оценки."
   ]
  },
  {
   "cell_type": "markdown",
   "id": "221f46bb",
   "metadata": {},
   "source": [
    "**Построим ОМП.**  \n",
    "Плотность показательного распределения: $P(X)=\\lambda\\cdot exp(-\\lambda X)$, при условии, что $X\\ge 0$ для данной выборки это событие достоверное и всегда выполняется, так что можем индикатор у плотности распределения не писать\n",
    "\n",
    "Построим функцию правдоподобия:\n",
    "\n",
    "$L(\\overrightarrow{X},\\theta)=\\prod_{i=1}^{n}\\lambda\\cdot exp(-\\lambda\\cdot X_{i})=\\lambda^{n}\\cdot exp(-\\lambda\\cdot \\sum_{i=1}^{n}X_{i})$\n",
    "\n",
    "Прологарифмируем функцию правдоподобия:\n",
    "\n",
    "$LL(\\overrightarrow{X},\\theta)=n\\ln(\\lambda)-\\lambda\\cdot \\sum_{i=1}^{n}X_{i}$\n",
    "\n",
    "Найдем частную производную по параметру $\\lambda$ и приравняем производную к нулю и тем самым найдем наш параметр:\n",
    "\n",
    "$\\frac{\\partial LL}{\\partial \\lambda}=\\frac{n}{\\lambda}-\\sum_{i=1}^{n}X_{i}=0\\to \\lambda=\\frac{n}{\\sum_{i=1}^{n}X_{i}}=\\frac{1}{\\overline{X}}$.\n",
    "\n",
    "Выборка нам известна, и мы можем посчитать, чему равен параметр:$\\widehat{\\lambda}=\\frac{1}{\\overline{X}}=0.198$\n",
    "\n",
    "\n",
    "**Построим по ОММ.**  \n",
    "Для показательного распределения $P(X)=\\lambda\\cdot exp(-\\lambda X)$\n",
    "\n",
    "нам известно, что первый момент $\\mathbb{E}X_{1}=\\frac{1}{\\lambda};M_{1}=\\overline{X}$\n",
    "равен нашему параметру, и поскольку у нас 1-но мерный параметр, то у нас будет система из одного уравнения.\n",
    "\n",
    "Тогда мы получим $\\widetilde{\\theta}=\\widetilde{\\lambda}=\\frac{1}{\\overline{X}}=0.198$\n",
    "\n",
    "\n",
    "Осталось найти смещение оценки.\n",
    "\n",
    "Для нахождения НРМД-оценки нам понадобится ОМП, которое мы нашли.\n",
    "\n",
    "$g\\left(T(\\overrightarrow{X})\\right)=\\lambda\\cdot exp(-\\lambda X)$\n",
    "\n",
    "$h(\\overrightarrow{X})=1$\n",
    "\n",
    "Достаточная минимальная статистика: $T=\\sum_{i=1}^{n}X_{i}=252.42$.\n",
    "\n",
    "Показательное распределение принадлежит экспоненциальному семейству распределения, следовательно, МДС будет являться ПДС.\n",
    "\n",
    "$\\mathbb{E}_{\\lambda}\\frac{1}{\\overline{X}}=\\mathbb{E}_{\\lambda}\\frac{n}{\\sum_{i=1}^{n}x_{i}}=n\\cdot \\mathbb{E_{\\lambda}}\\frac{1}{\\sum_{i=1}^{n}x_{i}}=n\\cdot \\mathbb{E}_{\\lambda}(\\sum_{i=1}^{n}X_{i})^{-1}=n\\cdot \\left(\\frac{1}{\\lambda}\\right)^{-1}\\frac{\\Gamma (-1+n)}{\\Gamma (n)}=n\\cdot \\lambda\\frac{\\Gamma (-1+n)}{\\Gamma(-1+n)\\cdot (n-1)}=\\frac{n\\cdot \\lambda}{n-1}\\to смещенная-оценка$\n",
    "\n",
    "$\\widetilde{\\lambda}=\\widehat{\\lambda}\\frac{n-1}{n}$\n",
    "\n",
    "$\\mathbb{E}_{\\lambda}\\widetilde{\\lambda}=\\mathbb{E}_{\\lambda}\\widehat{\\lambda}\\frac{n-1}{n}=\\frac{n-1}{n}\\mathbb{E}_{\\lambda}\\widehat{\\lambda}=\\frac{n-1}{n}\\cdot \\frac{n\\cdot \\lambda}{n-1}=\\lambda$-НРМД-оценка\n",
    "\n",
    "$X_{i}\\sim Exp(\\lambda) \\to X_{i}\\sim Gamma(1,\\frac{1}{\\lambda})\\Rightarrow \\sum_{i=1}^{n}X_{i}\\sim Gamma(n,\\frac{1}{\\lambda})$\n",
    "\n",
    "Если $X_{i}\\sim Gamma(\\alpha,\\beta)$, где $\\alpha\\gt 0$ и $\\beta\\gt 0$, $\\gamma\\gt -\\alpha$, то $\\mathbb{E}X_{i}^{\\gamma}=\\beta^{\\gamma}\\frac{Г(\\gamma+\\alpha)}{Г(\\alpha)}$"
   ]
  },
  {
   "cell_type": "markdown",
   "id": "4a9e8bc9",
   "metadata": {},
   "source": [
    "#### d) Построить А.Д.И. уровня значимости $\\alpha_2$ для параметра $\\lambda$ на базе ОМП"
   ]
  },
  {
   "cell_type": "markdown",
   "id": "0735ffbd",
   "metadata": {},
   "source": [
    "**1. Построим на базе ОМП.**\n",
    "\n",
    "$\\sqrt{n}\\left( \\widehat{\\theta}(\\overrightarrow{X})-\\theta \\right)\\sim N\\left( 0, \\frac{1}{I(\\theta)} \\right)$\n",
    "\n",
    "ОМП $\\widehat{\\theta}=\\widehat{\\lambda}=\\frac{1}{\\overline{X}}$\n",
    "\n",
    "Найдем информацию Фишера: $I(\\theta)=-\\mathbb{E}\\left( \\frac{\\partial^{2} LL}{\\partial \\lambda^{2}} \\right)=-\\mathbb{E}\\left( -\\frac{\\sum_{i=1}^{n}X_{i}}{\\lambda^{2}} \\right)=\\frac{n}{\\lambda}$\n",
    "\n",
    "Тогда $\\sqrt{n\\cdot I\\left(  \\widehat{\\theta}(\\overrightarrow{X})\\right)}\\left( \\widehat{\\theta}(\\overrightarrow{X})-\\theta \\right)\\sim N(0,1)$\n",
    "\n",
    "Выбираем $X_{\\alpha}$: $\\mathrm{Ф}(X_{\\alpha})=1-\\frac{\\alpha_{2}}{2}=1-\\frac{0.1}{2}=0.95 \\to X_{0.95}=1.65$\n",
    "\n",
    "$А.Д.И. \\left[ \\frac{1}{\\overline{X}}-\\frac{X_{0.95}}{\\sqrt{n\\cdot \\frac{n}{\\frac{1}{\\overline{X}}}}}; \\frac{1}{\\overline{X}}+\\frac{X_{0.95}}{\\sqrt{n\\cdot \\frac{n}{\\frac{1}{\\overline{X}}}}}\\right] \\Rightarrow 0.198-\\frac{1.65}{112.34}\\le \\lambda\\le 0.198+\\frac{1.65}{112.34} \\Rightarrow 0.183\\le \\lambda\\le 0.213$ - А.Д.И параметра $\\lambda$.\n",
    "\n",
    "**2. Построим на безе асимтотической нормальной оценки $\\widehat{\\theta}$**\n",
    "\n",
    "$\\sqrt{n}\\left( \\widehat{\\theta}(\\overrightarrow{X})-\\theta \\right)\\sim N(0,\\sigma^{2}(\\theta))$\n",
    "\n",
    "$\\sqrt{n}\\frac{ \\widehat{\\theta}(\\overrightarrow{X})-\\theta}{\\sigma(\\widehat{\\theta})}\\sim N(0,1)$\n",
    "\n",
    "$X_{\\alpha}: \\mathrm{Ф(X_{\\alpha})}=0.95\\to X_{0.95}=1.65$\n",
    "\n",
    "$-X_{0.95}\\le \\sqrt{n}\\cdot \\frac{\\widehat{\\lambda}-\\lambda}{\\sqrt{\\widehat{\\lambda}}}\\le X_{0.95}$\n",
    "\n",
    "$0.198-\\frac{1.65\\cdot \\sqrt{0.198}}{\\sqrt{50}}\\le \\lambda\\le 0.198+\\frac{1.65\\cdot \\sqrt{0.198}}{\\sqrt{50}}\\to 0.094\\le \\lambda\\le 0.302$ - А.Д.И. параметра $\\lambda$"
   ]
  },
  {
   "cell_type": "markdown",
   "id": "fce9ce4b",
   "metadata": {},
   "source": [
    "#### e) Построение критерия значимости проверки простой гипотезы согласия с показательным распределением с параметром λ0 с использованием теоремы Колмогорова. Проверка гипотезы на уровне значимости α2. Вычисление наименьшее значения уровня значимости, на котором ещё нет оснований отвергнуть гипотезу.\n",
    "\n",
    "$\\lambda_0 = 0.13, \\alpha_2 = 0.1$"
   ]
  },
  {
   "cell_type": "markdown",
   "id": "0bedf7a9",
   "metadata": {},
   "source": [
    "Пусть данная выборка $X_1, X_2, \\dots, X_n$ - выборка из распределения с функцией распределения F.\n",
    "\n",
    "Основная гипотеза: $H_0 : F \\equiv Exp(\\lambda_0)$\n",
    "\n",
    "Альтернативная гипотеза: $H_A : \\exists x : F(x) \\neq F_{Exp(\\lambda_0)}(x)$\n",
    "\n",
    "Составим критерий уровня значимости $\\alpha_2$:\n",
    "\n",
    "$\\phi(x) = 0$, при $D_n \\le x_{\\alpha_2}$\n",
    "\n",
    "$\\phi(x) = 1$, при $D_n > x_{\\alpha_2}$\n",
    "\n",
    "где $x_{\\alpha_2} : K(x_{\\alpha_2} / \\sqrt{n}) = 1 - \\alpha_2$"
   ]
  },
  {
   "cell_type": "code",
   "execution_count": 213,
   "id": "db02acc3",
   "metadata": {},
   "outputs": [
    {
     "name": "stdout",
     "output_type": "stream",
     "text": [
      "Статистика критерия Колмогорова Dn: 0.2140007872793518\n",
      "x_alpha_2: 0.17307822563424255\n"
     ]
    }
   ],
   "source": [
    "values, edges = np.histogram(data_2, bins=len(data_2))\n",
    "Y = values.cumsum() / len(data_2)\n",
    "\n",
    "def F_n(x, Y, edges):\n",
    "  for i in range(len(Y)):\n",
    "    if (x > edges[i] and x <= edges[i+1]):\n",
    "      return Y[i]\n",
    "    elif (x > edges[-1]):\n",
    "      return 1\n",
    "    elif (x <= edges[0]):\n",
    "      return 0\n",
    "\n",
    "def F_0(x):\n",
    "  return 1 - np.exp(-x*lambda0)\n",
    "\n",
    "D = 0\n",
    "x = 0\n",
    "while (x <= 5):\n",
    "  if (D < np.abs(F_n(x, Y, edges) - F_0(x))):\n",
    "    D = np.abs(F_n(x, Y, edges) - F_0(x))\n",
    "  x += 0.0001\n",
    "\n",
    "print(\"Статистика критерия Колмогорова Dn:\", D)\n",
    "print(\"x_alpha_2:\", stats.kstwobign.ppf(1 - alpha2) / np.sqrt(len(data_2)))"
   ]
  },
  {
   "cell_type": "markdown",
   "id": "73efede1",
   "metadata": {},
   "source": [
    "$D_n \\approx 0.214$\n",
    "\n",
    "$x_{\\alpha_2} \\approx 0.173$\n",
    "\n",
    "$D_n > x_{\\alpha_2}$ следовательно принимаем гипотезу $H_1$"
   ]
  },
  {
   "cell_type": "code",
   "execution_count": 197,
   "id": "2d96bc49",
   "metadata": {},
   "outputs": [
    {
     "data": {
      "text/plain": [
       "0.020517284644960165"
      ]
     },
     "execution_count": 197,
     "metadata": {},
     "output_type": "execute_result"
    }
   ],
   "source": [
    "1 - stats.kstwobign.cdf(D*np.sqrt(len(data_2)))"
   ]
  },
  {
   "cell_type": "markdown",
   "id": "b15047c9",
   "metadata": {},
   "source": [
    "Наибольшее значение уровня значимости, на котором ещё нет оснований отвергнуть данную гипотезу $\\approx$ 0.02"
   ]
  },
  {
   "cell_type": "markdown",
   "id": "710fbc8c",
   "metadata": {},
   "source": [
    "#### f) Построение критерия значимости $\\chi^2$ проверки простой гипотезы согласия с показательным распределением с параметром  $\\lambda_0$. Проверка гипотезы на уровне значимости $\\alpha_2$. Вычисление наибольшего значения уровня значимости, на котором ещё нет оснований отвергнуть данную гипотезу\n",
    "\n",
    "$\\lambda_0 = 0.13, \\alpha_2 = 0.1$"
   ]
  },
  {
   "cell_type": "code",
   "execution_count": 289,
   "id": "90c42c7d",
   "metadata": {},
   "outputs": [
    {
     "data": {
      "image/png": "[encoded data removed]",
      "text/plain": [
       "<Figure size 640x480 with 1 Axes>"
      ]
     },
     "metadata": {},
     "output_type": "display_data"
    }
   ],
   "source": [
    "bins = np.arange(min(data_2), max(data_2) + h, h)\n",
    "plt.hist(data_2, bins=bins, edgecolor='black', alpha=0.5, label='Гистограмма')\n",
    "plt.title(\"Гистограмма и полигон частот\")\n",
    "plt.xlabel(\"Интервалы\")\n",
    "plt.ylabel(\"Частота\")\n",
    "\n",
    "hist, _ = np.histogram(data_2, bins=bins)\n",
    "bin_centers = 0.5 * (bins[1:] + bins[:-1])\n",
    "plt.plot(bin_centers, hist, color='red', marker='o', linestyle='-', label='Полигон')\n",
    "\n",
    "plt.legend()\n",
    "plt.show()"
   ]
  },
  {
   "cell_type": "code",
   "execution_count": 290,
   "id": "a45b39ab",
   "metadata": {},
   "outputs": [
    {
     "name": "stdout",
     "output_type": "stream",
     "text": [
      "n₁ = 31\n",
      "n₂ = 12\n",
      "n₃ = 3\n",
      "n₄ = 4\n"
     ]
    }
   ],
   "source": [
    "print(f\"n₁ = {len([x for x in data_2 if 0 <= x <= 5])}\\nn₂ = {len([x for x in data_2 if 5 < x <= 10])}\\nn₃ = {len([x for x in data_2 if 10 < x <= 15])}\\nn₄ = {len([x for x in data_2 if 15 < x <= 20])}\")"
   ]
  },
  {
   "cell_type": "markdown",
   "id": "fa687dce",
   "metadata": {},
   "source": [
    "$P_{i}=P_{H_{0}}=(X\\in I_{i})=\\sum_{k\\in I_{i}}^{}\\lambda_{0}\\cdot exp(-\\lambda_{0}\\cdot k)$\n",
    "\n",
    "$I_{1}=\\left[ 0,5 \\right], n_{1}=31$\n",
    "\n",
    "$P_{1}=0.13\\cdot exp(-0.13\\cdot 0)+0.13\\cdot exp(-0.13\\cdot 5)=0.198\\to nP_{1}=9.893$\n",
    "\n",
    "$I_{2}=\\left[ 5,10 \\right], n_{2}=12$\n",
    "\n",
    "$P_{2}=0.13\\cdot exp(-0.13\\cdot 5)+0.13\\cdot exp(-0.13\\cdot 10)=0.10\\to nP_{2}=5.165$\n",
    "\n",
    "$I_{3}=\\left[ 10,15 \\right], n_{3}=3$\n",
    "\n",
    "$P_{3}=0.13\\cdot exp(-0.13\\cdot 10)+0.13\\cdot exp(-0.13\\cdot 15)=0.054\\to nP_{3}=2.696$\n",
    "\n",
    "$I_{4}=\\left[ 15,20 \\right], n_{4}=4$\n",
    "\n",
    "$P_{4}=0.13\\cdot exp(-0.13\\cdot 15)+0.13\\cdot exp(-0.13\\cdot 20)=0.028\\to nP_{3}=1.408$\n",
    "\n",
    "Критерий $\\mathcal{X}^{2}: \\mathcal{X}^{2}_{набл}=\\sum_{i=1}^{4}\\frac{(n_{i}-np_{i})^{2}}{np_{i}} = 58.88$"
   ]
  },
  {
   "cell_type": "markdown",
   "id": "c83fcd4d",
   "metadata": {},
   "source": [
    "Вычислим с помощью python значение $\\mathcal{X}^{2}_{N-1,1-\\alpha_{2}}=\\mathcal{X}^{2}_{3, 0.87}$"
   ]
  },
  {
   "cell_type": "code",
   "execution_count": 291,
   "id": "3420125d",
   "metadata": {},
   "outputs": [
    {
     "data": {
      "text/plain": [
       "6.251388631170325"
      ]
     },
     "execution_count": 291,
     "metadata": {},
     "output_type": "execute_result"
    }
   ],
   "source": [
    "stats.chi2.ppf(0.9, 3)"
   ]
  },
  {
   "cell_type": "markdown",
   "id": "ea970d5b",
   "metadata": {},
   "source": [
    "$\\mathcal{X}^{2}_{3, 0.87}\\simeq 6.251$\n",
    "\n",
    "$\\mathcal{X}^{2}\\gt \\mathcal{X}^{2}_{3,0.9}\\to$ по критерию Пирсона мы отвергаем гипотезу, т.е в данном случае мы её отвергаем"
   ]
  },
  {
   "cell_type": "code",
   "execution_count": 292,
   "id": "815341bd",
   "metadata": {},
   "outputs": [
    {
     "data": {
      "text/plain": [
       "1.0607070777268746e-12"
      ]
     },
     "execution_count": 292,
     "metadata": {},
     "output_type": "execute_result"
    }
   ],
   "source": [
    "1 - stats.chi2.cdf(58.8, 3)"
   ]
  },
  {
   "cell_type": "markdown",
   "id": "e964fc49",
   "metadata": {},
   "source": [
    "Наибольшее значение уровня значимости, на котором ещё нет оснований отвергнуть данную гипотезу блико к нулю $\\approx 1.06\\cdot10^{-12}$ "
   ]
  },
  {
   "cell_type": "markdown",
   "id": "2c2337c3",
   "metadata": {},
   "source": [
    "#### g) Построить критерий значимости  $\\mathcal{X^{2}}$ проверки сложной гипотезы согласия с показательным распределением. Проверить гипотезу по уровню значимости $\\alpha_{2}$.Вычислить наибольшее значение уровня значимости, на котором ещё нет оснований отвергнуть данную гипотезу."
   ]
  },
  {
   "cell_type": "markdown",
   "id": "284e5e3b",
   "metadata": {},
   "source": [
    "$P_{i}=P_{H_{0}}=(X\\in I_{i})=\\sum_{k\\in I_{i}}{\\frac{1}{\\overline{X}}}\\cdot exp(-{\\frac{1}{\\overline{X}}}\\cdot k)$\n",
    "\n",
    "$I_{1}=\\left[ 0,5 \\right], n_{1}=31$\n",
    "\n",
    "$P_{1}=0.198\\cdot exp(-0.198\\cdot 0)+0.198\\cdot exp(-0.198\\cdot 5)=0.272\\to nP_{1}=13.579$\n",
    "\n",
    "$I_{2}=\\left[ 5,10 \\right], n_{2}=12$\n",
    "\n",
    "$P_{2}=0.198\\cdot exp(-0.198\\cdot 5)+0.198\\cdot exp(-0.198\\cdot 10)=0.101\\to nP_{2}=5.045$\n",
    "\n",
    "$I_{3}=\\left[ 10,15 \\right], n_{3}=3$\n",
    "\n",
    "$P_{3}=0.198\\cdot exp(-0.198\\cdot 10)+0.198\\cdot exp(-0.198\\cdot 15)=0.037\\to nP_{3}=1.875$\n",
    "\n",
    "$I_{4}=\\left[ 15,20 \\right], n_{4}=4$\n",
    "\n",
    "$P_{4}=0.198\\cdot exp(-0.198\\cdot 15)+0.198\\cdot exp(-0.198\\cdot 20)=0.014\\to nP_{3}=0.697$\n",
    "\n",
    "Критерий $\\mathcal{X}^{2}: \\mathcal{X}^{2}_{набл}=\\sum_{i=1}^{4}\\frac{(n_{i}-np_{i})^{2}}{np_{i}} = 48.266$"
   ]
  },
  {
   "cell_type": "markdown",
   "id": "03637e17",
   "metadata": {},
   "source": [
    "Вычислим с помощью python значение $\\mathcal{X}^{2}_{N-2,1-\\alpha_{2}}=\\mathcal{X}^{2}_{2, 0.9}$"
   ]
  },
  {
   "cell_type": "code",
   "execution_count": 293,
   "id": "d54146d7",
   "metadata": {},
   "outputs": [
    {
     "data": {
      "text/plain": [
       "4.605170185988092"
      ]
     },
     "execution_count": 293,
     "metadata": {},
     "output_type": "execute_result"
    }
   ],
   "source": [
    "stats.chi2.ppf(0.9, 2)"
   ]
  },
  {
   "cell_type": "markdown",
   "id": "6aabd563",
   "metadata": {},
   "source": [
    "$\\mathcal{X}^{2}_{3, 0.87}\\simeq 4.601$\n",
    "\n",
    "$\\mathcal{X}^{2}\\gt \\mathcal{X}^{2}_{2,0.9}\\to$ по критерию Пирсона мы отвергаем гипотезу, т.е в данном случае мы её отвергаем"
   ]
  },
  {
   "cell_type": "code",
   "execution_count": 294,
   "id": "389eedc3",
   "metadata": {},
   "outputs": [
    {
     "data": {
      "text/plain": [
       "3.305000717546136e-11"
      ]
     },
     "execution_count": 294,
     "metadata": {},
     "output_type": "execute_result"
    }
   ],
   "source": [
    "1 - stats.chi2.cdf(48.266, 2)"
   ]
  },
  {
   "cell_type": "markdown",
   "id": "cd8cf0e9",
   "metadata": {},
   "source": [
    "Наибольшее значение уровня значимости, на котором ещё нет оснований отвергнуть данную гипотезу блико к нулю $\\approx 3.305\\cdot10^{-11}$ "
   ]
  },
  {
   "cell_type": "markdown",
   "id": "e79bec32",
   "metadata": {},
   "source": [
    "#### h) Построение наиболее мощного критерия проверки простой гипотезы показательности с параметром $\\lambda_0$ при альтернативе показательности с параметром $\\lambda_1$. Проверка гипотезы на уровне значимости $\\alpha_2$. Что получится, если поменять местами основную и альтернативную гипотезу?\n",
    "$\\lambda_0 = 0.13, \\lambda_1 = 0.2, \\alpha_2 = 0.1$"
   ]
  },
  {
   "cell_type": "markdown",
   "id": "1d5a4ac9",
   "metadata": {},
   "source": [
    "$ H_ {0} :  \\lambda  =  \\lambda _ {0} $ \n",
    " \n",
    " $ H_ {1} :  \\lambda  =  \\lambda _ {1} $ \n",
    " \n",
    "Cтатистическое отношение правдоподобия:\n",
    "\n",
    "\n",
    "\n",
    "$$LR(\\overrightarrow{X},\\lambda_{1},\\lambda_{0}) = \\left(\\frac{\\lambda_{1}}{\\lambda_{0}}\\right)^n \\cdot exp^{-\\lambda_{1} \\cdot {\\sum_{i=1}^{50}X_{i}} + \\lambda_{0} \\cdot {\\sum_{i=1}^{50}X_{i}} }$$\n",
    "\n",
    "$LR(\\overrightarrow{X},\\lambda_{1},\\lambda_{0})>  c\\Leftrightarrow \\overline{X} < c^*$\n",
    "\n",
    "$LR(\\overrightarrow{X},\\lambda_{1},\\lambda_{0})<  c\\Leftrightarrow \\overline{X} > c^*$\n",
    "\n",
    "${exp}^{{\\sum_{i=1}^{50}X_{i}}\\cdot (-\\lambda_{1} + \\lambda_{0})}=\\left(\\frac{\\lambda_{0}}{\\lambda_{1}}\\right)^n c$\n",
    "\n",
    "Логарифмируем:\n",
    "\n",
    "(1)    $c* = {\\sum_{i=1}^{50}X_{i}}=n \\cdot ln\\left(\\left(\\frac{\\lambda_{0}}{\\lambda_{1}}\\right) c\\right)$\n",
    "\n",
    "$\\sum_{i=1}^{50}X_{i}\\sim \\Gamma \\left(n,\\frac{1}{\\lambda}\\right)$\n",
    "\n",
    "$1-\\Phi_{\\Gamma \\left(n,\\frac{1}{\\lambda}\\right)}(c)=\\alpha_{2}$\n",
    "\n",
    "$ c = \\Phi^{-1}_{\\Gamma \\left(n,\\frac{1}{\\lambda}\\right)}(1-\\alpha_{2})$\n"
   ]
  },
  {
   "cell_type": "code",
   "execution_count": 295,
   "id": "a50ac37a",
   "metadata": {},
   "outputs": [
    {
     "name": "stdout",
     "output_type": "stream",
     "text": [
      "c  = 455.7615531194696\n",
      "c* = 284.5593423415592\n"
     ]
    }
   ],
   "source": [
    "c = stats.gamma.ppf(0.9, a = 50, scale = 1/0.13)\n",
    "print('c  =', c)\n",
    "c_ = 50*np.log(0.13/0.2*c)\n",
    "print('c* =',c_)"
   ]
  },
  {
   "cell_type": "markdown",
   "id": "3147865a",
   "metadata": {},
   "source": [
    "$ c = 455.76$\n",
    "\n",
    "Найдем с* подставив значени в выражение (1):\n",
    "\n",
    "$ с* = 284.56$\n",
    "\n",
    "$LR(\\overrightarrow{X}, \\lambda_{0}, \\lambda_{1}) = \\left(\\frac{0.2}{0.13}\\right)^{50} \\cdot e^{(0.13-0.2) \\cdot 284.56} = 5.053$\n",
    "\n",
    "$$ \\phi(x) =\\left\\{\n",
    "  \\begin{array}{l}\n",
    "    1, LR(x) > 455.76 \\\\\n",
    "    p, LR(x) = 455.76\\\\\n",
    "    0, LR(x) < 455.76\\\\\n",
    "  \\end{array}\\right.$$\n",
    "\n",
    "<br><br>\n",
    "\n",
    "  $$LR < c \\to отвергаем\\,гипотезу H_0$$"
   ]
  },
  {
   "cell_type": "markdown",
   "id": "a29a83a5",
   "metadata": {},
   "source": [
    "**Меняем местами основную и альтернативную гипотезу:**\n",
    "\n",
    "$H_{0}=\\lambda_{1}$\n",
    "\n",
    "$H_{1}=\\lambda_{0}$\n",
    "\n",
    "Cтатистическое отношение правдоподобия:\n",
    "\n",
    "$$LR(\\overrightarrow{X},\\lambda_{0},\\lambda_{1}) = \\left(\\frac{\\lambda_{0}}{\\lambda_{1}}\\right)^n \\cdot exp^{-\\lambda_{0} \\cdot {\\sum_{i=1}^{50}X_{i}} + \\lambda_{1} \\cdot {\\sum_{i=1}^{50}X_{i}} }$$\n",
    "\n",
    "$LR(\\overrightarrow{X},\\lambda_{0},\\lambda_{1})>  c\\Leftrightarrow \\overline{X} < c^*$\n",
    "\n",
    "$LR(\\overrightarrow{X},\\lambda_{0},\\lambda_{1})<  c\\Leftrightarrow \\overline{X} > c^*$\n",
    "\n",
    "${exp}^{{\\sum_{i=1}^{50}X_{i}}\\cdot (-\\lambda_{0} + \\lambda_{1})}=\\left(\\frac{\\lambda_{1}}{\\lambda_{0}}\\right)^n c$\n",
    "\n",
    "$ c = \\Phi^{-1}_{\\Gamma \\left(n,\\frac{1}{\\lambda}\\right)}(1-\\alpha_{2})$"
   ]
  },
  {
   "cell_type": "code",
   "execution_count": 296,
   "id": "c85967aa",
   "metadata": {},
   "outputs": [
    {
     "name": "stdout",
     "output_type": "stream",
     "text": [
      "c  = 296.24500952765527\n",
      "c* = 306.098488146182\n"
     ]
    }
   ],
   "source": [
    "c = stats.gamma.ppf(0.9, a = 50, scale = 1/0.2)\n",
    "print('c  =', c)\n",
    "c_zv_1 = 50*np.log(0.2/0.13*c)\n",
    "print('c* =',c_zv_1)"
   ]
  },
  {
   "cell_type": "markdown",
   "id": "01abc870",
   "metadata": {},
   "source": [
    "$ c = 296.25$\n",
    "\n",
    "$ с* = 306.098$\n",
    "\n",
    "\n",
    "$LR(\\overrightarrow{X}, \\lambda_{0}, \\lambda_{1}) = \\left(\\frac{0.13}{0.2}\\right)^{50} \\cdot e^{(0.2-0.13) \\cdot 306.098} = 0.894$\n",
    "\n",
    "$$ \\phi(x) =\\left\\{\n",
    "  \\begin{array}{l}\n",
    "    1, LR(x) > 296.25 \\\\\n",
    "    p, LR(x) = 296.25\\\\\n",
    "    0, LR(x) < 296.25\\\\\n",
    "  \\end{array}\\right.$$\n",
    "\n",
    "<br><br>\n",
    "\n",
    "$$LR < c \\to отвергаем\\,гипотезу H_1$$"
   ]
  },
  {
   "cell_type": "markdown",
   "id": "b2e0fcb8",
   "metadata": {},
   "source": [
    "#### i) В пунктах (c)-(h) заменить семейство показательных распределений на гамма-распределений с плотностями $P_{\\lambda}(X)=\\frac{\\sqrt{\\lambda}\\cdot exp\\left( \\frac{-\\lambda\\cdot X}{2} \\right)}{\\sqrt{2\\cdot \\pi\\cdot X}}$"
   ]
  },
  {
   "cell_type": "markdown",
   "id": "34ff4541",
   "metadata": {},
   "source": [
    "#### i.c) В предположении, что исходные наблюдения являются выборкой из гамма-распределения, построить ОМП и ОММ параметра $\\lambda$.Найти смещение оценки.\n"
   ]
  },
  {
   "cell_type": "markdown",
   "id": "00d72a50",
   "metadata": {},
   "source": [
    "**Оценка максимального правдоподобия:**  \n",
    "$ L\\left(\\vec{X}, \\theta \\right) =\\prod_{i=1}^{n}\\frac{\\sqrt{\\lambda}\\cdot exp\\left( \\frac{-\\lambda\\cdot x}{2} \\right)}{\\sqrt{2\\cdot \\pi\\cdot x}}=\\lambda^{\\frac{n}{2}}\\cdot exp\\left( \\frac{-\\lambda}{2} \\cdot \\sum_{i=1}^{n}x_{i}\\right) \\cdot (2\\pi)^{-\\frac{n}{2}}\\cdot (\\prod_{i=1}^{n}x_{i})^{-\\frac{n}{2}}$ <br><br>\n",
    "\n",
    "\n",
    "$LL\\left(\\vec{X}, \\theta \\right) = \\frac{n}{2}\\ln(\\lambda)+\\frac{\\lambda\\cdot \\sum_{i=1}^{n}x_{i}}{2}-\\frac{n}{2}\\ln(2\\pi)-\\frac{n}{2}\\ln(\\prod_{i=1}^{n}x_{i})$ <br><br>\n",
    "\n",
    "$\\normalsize \\frac{\\partial LL}{\\partial \\lambda} = \\frac{n}{2\\lambda}-\\frac{\\sum_{i=1}^{n}X_{i}}{2}=0 => \\widehat{\\theta} = \\widehat{\\lambda}=\\frac{1}{\\overline{X}} - ОМП$\n",
    "\n",
    "$\\mathbb{E}_{\\theta}\\widehat{\\theta} = \\mathbb{E}_{\\theta}\\overline{X} = \\mathbb{E}_{\\theta} n\\cdot \\sum \\limits_{i=1}^{n}\\frac{1}{x_i} = \\normalsize n \\cdot\\frac{1}{n-1}   \\cdot \\lambda = \\frac{n\\cdot\\lambda}{n+1} \\Rightarrow$ смещённая оценка.\n",
    "\n",
    "МДС: $T=\\sum_{i=1}^{n}X_{i}$.\n",
    "\n",
    "Т.к. $q_{\\theta}$ из сем-ва экспоненциальных распределений $=>$ МДС =  ПДС.\n",
    "\n",
    "$\\mathbb{E}\\widetilde{\\theta} = \\mathbb{E} \\widehat{\\theta} \\cdot \\frac{n-1}{n} = \\frac{n\\cdot\\lambda}{n+1}\\cdot \\frac{n-1}{n} = \\lambda$\n",
    "\n",
    "$$ \\widetilde{\\theta} = \\widehat{\\theta} \\cdot \\frac{n-1}{n} - несмещенная \\, оценка$$\n",
    "**Оценка методом моментов:**  \n",
    "$\\mathbb{E}X = \\frac{1}{\\lambda}$ - математическое ожидание (теоретическая величина)<br><br> \n",
    "$\\mathrm{M} = \\overline{X}$ - выборочное среднее (выборочная величина)<br><br>\n",
    "Следовательно, $\\widetilde{\\theta} = \\widetilde{\\lambda} = \\frac{1}{\\overline{X}}$<br><br>"
   ]
  },
  {
   "cell_type": "markdown",
   "id": "be0a1d30",
   "metadata": {},
   "source": [
    "#### i.d) Построить А.Д.И. уровня значимости $\\alpha_2$ для параметра $\\lambda$ на базе ОМП\n",
    "$\\alpha_2 = 0.1$"
   ]
  },
  {
   "cell_type": "markdown",
   "id": "16280385",
   "metadata": {},
   "source": [
    "1. Построим на базе ОМП.\n",
    "\n",
    "$\\sqrt{n}\\left( \\widehat{\\theta}(\\overrightarrow{X})-\\theta \\right)\\sim N\\left( 0, \\frac{1}{I(\\theta)} \\right)$\n",
    "\n",
    "ОМП $\\widehat{\\theta}=\\widehat{\\lambda}=\\frac{1}{\\overline{X}}$\n",
    "\n",
    "Найдем информацию Фишера: $I(\\theta)=-\\mathbb{E}\\left( \\frac{\\partial^{2} LL}{\\partial \\lambda^{2}} \\right)=-\\mathbb{E}\\left( -\\frac{n}{2\\cdot \\lambda^{2}} \\right)=\\frac{n}{2\\cdot \\lambda^{2}}$\n",
    "\n",
    "Тогда $\\sqrt{n\\cdot I\\left(  \\widehat{\\theta}(\\overrightarrow{X})\\right)}\\left( \\widehat{\\theta}(\\overrightarrow{X})-\\theta \\right)\\sim N(0,1)$\n",
    "\n",
    "Выбираем $X_{\\alpha}$: $\\mathrm{Ф}(X_{\\alpha})=1-\\frac{\\alpha_{2}}{2}=1-\\frac{0.1}{2}=0.95 \\to X_{0.95}=1.65$\n",
    "\n",
    "$А.Д.И. \\left[ \\frac{1}{\\overline{X}}-\\frac{X_{0.95}}{\\sqrt{50\\cdot \\frac{50}{2\\cdot \\frac{1}{\\overline{X}}^{2}}}}; \\frac{1}{\\overline{X}}+\\frac{X_{0.95}}{\\sqrt{50\\cdot \\frac{50}{2\\cdot \\frac{1}{\\overline{X}}^{2}}}}\\right] \\to 0.198-\\frac{1.65}{178.56}\\le \\lambda\\le 0.269+\\frac{2.5\\cdot 0.269}{178.56}$\n",
    "\n",
    "$0.189\\le \\lambda\\le 0.207$- А.Д.И параметра $\\lambda$.\n",
    "\n",
    "2. Построим на безе асимтотической нормальной оценки $\\widehat{\\theta}$\n",
    "\n",
    "$\\sqrt{n}\\left( \\widehat{\\theta}(\\overrightarrow{X})-\\theta \\right)\\sim N(0,\\sigma^{2}(\\theta))$\n",
    "\n",
    "$\\sqrt{n}\\frac{ \\widehat{\\theta}(\\overrightarrow{X})-\\theta}{\\sigma(\\widehat{\\theta})}\\sim N(0,1)$\n",
    "\n",
    "$X_{\\alpha}: \\mathrm{Ф(X_{\\alpha})}=0.95\\to X_{0.95}=1.65$\n",
    "\n",
    "$-X_{0.95}\\le \\sqrt{n}\\cdot \\frac{\\widehat{\\lambda}-\\lambda}{\\sqrt{\\widehat{\\lambda}}}\\le X_{0.95}$\n",
    "\n",
    "$0.198-\\frac{1.65\\cdot 0.198}{\\sqrt{50}}\\le \\lambda\\le 0.198+\\frac{1.65\\cdot 0.198}{\\sqrt{50}}\\to 0.152\\le \\lambda\\le 0.244$ - А.Д.И. параметра $\\lambda$"
   ]
  },
  {
   "cell_type": "markdown",
   "id": "1068e724",
   "metadata": {},
   "source": [
    "#### i.e)Построение критерия значимости проверки простой гипотезы согласия с гамма-распределением с параметром λ0 с использованием теоремы Колмогорова. Проверка гипотезы на уровне значимости α2 . Вычисление наибольшее значения уровня значимости, на котором ещё нет оснований отвергнуть гипотезу.\n",
    "$\\lambda_0 = 0.13, \\alpha_2 = 0.1$"
   ]
  },
  {
   "cell_type": "markdown",
   "id": "fd4a03aa",
   "metadata": {},
   "source": [
    "Пусть данная выборка $X_1, X_2, \\dots, X_n$ - выборка из распределения с функцией распределения F.\n",
    "\n",
    "Основная гипотеза: $H_0 : F \\equiv F_{\\lambda_0}$\n",
    "\n",
    "Альтернативная гипотеза: $H_A : \\exists x : F(x) \\neq F_{\\lambda_0}(x)$\n",
    "\n",
    "Составим критерий уровня значимости $\\alpha_2$:\n",
    "\n",
    "$\\phi(x) = 0$, при $D_n \\le x_{\\alpha_2}$\n",
    "\n",
    "$\\phi(x) = 1$, при $D_n > x_{\\alpha_2}$\n",
    "\n",
    "где $x_{\\alpha_2} : K(x_{\\alpha_2} / \\sqrt{n}) = 1 - \\alpha_2$"
   ]
  },
  {
   "cell_type": "code",
   "execution_count": 297,
   "id": "da7c1062",
   "metadata": {},
   "outputs": [
    {
     "name": "stdout",
     "output_type": "stream",
     "text": [
      "Статистика критерия Колмогорова Dn: 0.9329518165235612\n",
      "x_alpha_2: 0.17307822563424255\n"
     ]
    }
   ],
   "source": [
    "values, edges = np.histogram(data_2, bins=len(data_2))\n",
    "Y = values.cumsum() / len(data_2)\n",
    "\n",
    "def F_n(x, Y, edges):\n",
    "  for i in range(len(Y)):\n",
    "    if (x > edges[i] and x <= edges[i+1]):\n",
    "      return Y[i]\n",
    "    elif (x > edges[-1]):\n",
    "      return 1\n",
    "    elif (x <= edges[0]):\n",
    "      return 0\n",
    "\n",
    "def F_0(x, lbd):\n",
    "  return stats.gamma.cdf(x, a = 1/2, scale = lbd/2)\n",
    "\n",
    "D = 0\n",
    "x = 0\n",
    "while (x <= 5):\n",
    "  if (D < np.abs(F_n(x, Y, edges) - F_0(x, lambda0))):\n",
    "    D = np.abs(F_n(x, Y, edges) - F_0(x, lambda0))\n",
    "  x += 0.001\n",
    "\n",
    "print(\"Статистика критерия Колмогорова Dn:\", D)\n",
    "print(\"x_alpha_2:\", stats.kstwobign.ppf(1 - alpha2) / np.sqrt(len(data_2)))"
   ]
  },
  {
   "cell_type": "markdown",
   "id": "9745966b",
   "metadata": {},
   "source": [
    "$D_n \\approx 0.933$\n",
    "\n",
    "$x_{\\alpha_2} \\approx 0.173$\n",
    "\n",
    "$D_n > x_{\\alpha_2}$ следовательно отвергаем гипотезу $H_0$"
   ]
  },
  {
   "cell_type": "code",
   "execution_count": 298,
   "id": "e7b330dd",
   "metadata": {},
   "outputs": [
    {
     "data": {
      "text/plain": [
       "0.0"
      ]
     },
     "execution_count": 298,
     "metadata": {},
     "output_type": "execute_result"
    }
   ],
   "source": [
    "1 - stats.kstwobign.cdf(D*np.sqrt(len(data_2)))"
   ]
  },
  {
   "cell_type": "markdown",
   "id": "c7fb8801",
   "metadata": {},
   "source": [
    "Наибольшее значение уровня значимости, на котором ещё нет оснований отвергнуть данную гипотезу стремится к нулю"
   ]
  },
  {
   "cell_type": "markdown",
   "id": "291d2250",
   "metadata": {},
   "source": [
    "#### i.f)Используя гистограмму частот, построить критерий значимости $\\mathcal{X^{2}}$ проверки простой гипотезы согласия с гамма-распределением с параметром $\\lambda_{0}$. Проверить гипотезу на урокень значимости $\\alpha_{2}$. Вычислить наибольшее значение уровня значимости, на котором ещё нет оснований отвергнуть данную гипотезу.\n",
    "$\\lambda_0 = 0.13, \\alpha_2 = 0.1$"
   ]
  },
  {
   "cell_type": "code",
   "execution_count": 299,
   "id": "79c7bad2",
   "metadata": {},
   "outputs": [
    {
     "data": {
      "image/png": "[encoded data removed]",
      "text/plain": [
       "<Figure size 640x480 with 1 Axes>"
      ]
     },
     "metadata": {},
     "output_type": "display_data"
    }
   ],
   "source": [
    "bins = np.arange(min(data_2), max(data_2) + h, h)\n",
    "plt.hist(data_2, bins=bins, edgecolor='black', alpha=0.5, label='Гистограмма')\n",
    "plt.title(\"Гистограмма и полигон частот\")\n",
    "plt.xlabel(\"Интервалы\")\n",
    "plt.ylabel(\"Частота\")\n",
    "\n",
    "hist, _ = np.histogram(data_2, bins=bins)\n",
    "bin_centers = 0.5 * (bins[1:] + bins[:-1])\n",
    "plt.plot(bin_centers, hist, color='red', marker='o', linestyle='-', label='Полигон')\n",
    "\n",
    "plt.legend()\n",
    "plt.show()"
   ]
  },
  {
   "cell_type": "markdown",
   "id": "8a01aac3",
   "metadata": {},
   "source": [
    "$P_{i}=P_{H_{0}}=(X\\in I_{i})=\\sum_{k\\in I_{i}}^{}\\frac{\\sqrt{\\lambda_{0}}\\cdot exp\\left( -\\frac{\\lambda_{0}\\cdot k}{2} \\right)}{\\sqrt{2\\pi\\cdot k}}$\n",
    "\n",
    "$I_{1}=\\left[ 0.001,5 \\right], n_{1}=31$\n",
    "\n",
    "$P_{1}=\\frac{\\sqrt{0.13}\\cdot exp\\left( -\\frac{0.13\\cdot 0.001}{2} \\right)}{\\sqrt{2\\pi\\cdot 0.001}}+\\frac{\\sqrt{0.13}\\cdot exp\\left( -\\frac{0.13\\cdot 5}{2} \\right)}{\\sqrt{2\\pi\\cdot 5}}=4.595\\to nP_{1}=229.741$\n",
    "\n",
    "$I_{2}=\\left[ 5,10 \\right], n_{2}=12$\n",
    "\n",
    "$P_{1}=\\frac{\\sqrt{0.13}\\cdot exp\\left( -\\frac{0.13\\cdot 5}{2} \\right)}{\\sqrt{2\\pi\\cdot 5}}+\\frac{\\sqrt{0.13}\\cdot exp\\left( -\\frac{0.13\\cdot 10}{2} \\right)}{\\sqrt{2\\pi\\cdot 10}}=0.07\\to nP_{2}=3.511$\n",
    "\n",
    "$I_{3}=\\left[ 10,15 \\right], n_{3}=3$\n",
    "\n",
    "$P_{1}=\\frac{\\sqrt{0.13}\\cdot exp\\left( -\\frac{0.13\\cdot 10}{2} \\right)}{\\sqrt{2\\pi\\cdot 10}}+\\frac{\\sqrt{0.13}\\cdot exp\\left( -\\frac{0.13\\cdot 15}{2} \\right)}{\\sqrt{2\\pi\\cdot 15}}=0.038\\to nP_{3}=1.888$\n",
    "\n",
    "$I_{4}=\\left[ 15,20 \\right], n_{4}=4$\n",
    "\n",
    "$P_{1}=\\frac{\\sqrt{0.13}\\cdot exp\\left( -\\frac{0.13\\cdot 15}{2} \\right)}{\\sqrt{2\\pi\\cdot 15}}+\\frac{\\sqrt{0.13}\\cdot exp\\left( -\\frac{0.13\\cdot 20}{2} \\right)}{\\sqrt{2\\pi\\cdot 20}}=0.023\\to nP_{3}=1.139$\n",
    "\n",
    "Критерий $\\mathcal{X}^{2}: \\mathcal{X}^{2}_{набл}=\\sum_{i=1}^{4}\\frac{(n_{i}-np_{i})^{2}}{np_{i}} = 200.29$"
   ]
  },
  {
   "cell_type": "markdown",
   "id": "59a979c1",
   "metadata": {},
   "source": [
    "Вычислим с помощью python значение $\\mathcal{X}^{2}_{N-1,1-\\alpha_{2}}=\\mathcal{X}^{2}_{3, 0.87}$"
   ]
  },
  {
   "cell_type": "code",
   "execution_count": 300,
   "id": "6f7d15ee",
   "metadata": {},
   "outputs": [
    {
     "data": {
      "text/plain": [
       "6.251388631170325"
      ]
     },
     "execution_count": 300,
     "metadata": {},
     "output_type": "execute_result"
    }
   ],
   "source": [
    "stats.chi2.ppf(0.9, 3)"
   ]
  },
  {
   "cell_type": "markdown",
   "id": "42cc9439",
   "metadata": {},
   "source": [
    "$\\mathcal{X}^{2}_{3, 0.87}\\simeq 6.251$\n",
    "\n",
    "$\\mathcal{X}^{2}\\gt \\mathcal{X}^{2}_{3,0.9}\\to$ по критерию Пирсона мы отвергаем гипотезу, т.е в данном случае мы её отвергаем"
   ]
  },
  {
   "cell_type": "code",
   "execution_count": 301,
   "id": "f38be20b",
   "metadata": {},
   "outputs": [
    {
     "data": {
      "text/plain": [
       "0.0"
      ]
     },
     "execution_count": 301,
     "metadata": {},
     "output_type": "execute_result"
    }
   ],
   "source": [
    "1 - stats.chi2.cdf(200.29, 3)"
   ]
  },
  {
   "cell_type": "markdown",
   "id": "3e08dce5",
   "metadata": {},
   "source": [
    "Наибольшее значение уровня значимости, на котором ещё нет оснований отвергнуть данную гипотезу блико стремится к нулю"
   ]
  },
  {
   "cell_type": "markdown",
   "id": "d0e0ea2c",
   "metadata": {},
   "source": [
    "#### i.g)Построить критерий значимости  $\\mathcal{X^{2}}$ проверки сложной гипотезы согласия с показательным распределением. Проверить гипотезу по уровню значимости $\\alpha_{2}$.Вычислить наибольшее значение уровня значимости, на котором ещё нет оснований отвергнуть данную гипотезу.\n",
    "$\\alpha_2 = 0.1$"
   ]
  },
  {
   "cell_type": "markdown",
   "id": "e61b0321",
   "metadata": {},
   "source": [
    "$P_{i}=P_{H_{0}}=(X\\in I_{i})=\\sum_{k\\in I_{i}}^{}\\frac{\\sqrt{\\lambda_{0}}\\cdot exp\\left( -\\frac{\\lambda_{0}\\cdot k}{2} \\right)}{\\sqrt{2\\pi\\cdot k}}$\n",
    "\n",
    "$I_{1}=\\left[ 0.001,5 \\right], n_{1}=31$\n",
    "\n",
    "$P_{1}=\\frac{\\sqrt{0.13}\\cdot exp\\left( -\\frac{0.13\\cdot 0.001}{2} \\right)}{\\sqrt{2\\pi\\cdot 0.001}}+\\frac{\\sqrt{0.13}\\cdot exp\\left( -\\frac{0.13\\cdot 5}{2} \\right)}{\\sqrt{2\\pi\\cdot 5}}=4.595\\to nP_{1}=229.741$\n",
    "\n",
    "$I_{2}=\\left[ 5,10 \\right], n_{2}=12$\n",
    "\n",
    "$P_{1}=\\frac{\\sqrt{0.13}\\cdot exp\\left( -\\frac{0.13\\cdot 5}{2} \\right)}{\\sqrt{2\\pi\\cdot 5}}+\\frac{\\sqrt{0.13}\\cdot exp\\left( -\\frac{0.13\\cdot 10}{2} \\right)}{\\sqrt{2\\pi\\cdot 10}}=0.07\\to nP_{2}=3.511$\n",
    "\n",
    "$I_{3}=\\left[ 10,15 \\right], n_{3}=3$\n",
    "\n",
    "$P_{1}=\\frac{\\sqrt{0.13}\\cdot exp\\left( -\\frac{0.13\\cdot 10}{2} \\right)}{\\sqrt{2\\pi\\cdot 10}}+\\frac{\\sqrt{0.13}\\cdot exp\\left( -\\frac{0.13\\cdot 15}{2} \\right)}{\\sqrt{2\\pi\\cdot 15}}=0.038\\to nP_{3}=1.888$\n",
    "\n",
    "$I_{4}=\\left[ 15,20 \\right], n_{4}=4$\n",
    "\n",
    "$P_{1}=\\frac{\\sqrt{0.13}\\cdot exp\\left( -\\frac{0.13\\cdot 15}{2} \\right)}{\\sqrt{2\\pi\\cdot 15}}+\\frac{\\sqrt{0.13}\\cdot exp\\left( -\\frac{0.13\\cdot 20}{2} \\right)}{\\sqrt{2\\pi\\cdot 20}}=0.023\\to nP_{3}=1.139$\n",
    "\n",
    "Критерий $\\mathcal{X}^{2}: \\mathcal{X}^{2}_{набл}=\\sum_{i=1}^{4}\\frac{(n_{i}-np_{i})^{2}}{np_{i}} = 200.29$"
   ]
  },
  {
   "cell_type": "markdown",
   "id": "a6861b08",
   "metadata": {},
   "source": [
    "Вычислим с помощью python значение $\\mathcal{X}^{2}_{N-2,1-\\alpha_{2}}=\\mathcal{X}^{2}_{2, 0.9}$"
   ]
  },
  {
   "cell_type": "code",
   "execution_count": 302,
   "id": "48804a01",
   "metadata": {},
   "outputs": [
    {
     "data": {
      "text/plain": [
       "4.605170185988092"
      ]
     },
     "execution_count": 302,
     "metadata": {},
     "output_type": "execute_result"
    }
   ],
   "source": [
    "stats.chi2.ppf(0.9, 2)"
   ]
  },
  {
   "cell_type": "markdown",
   "id": "a611163a",
   "metadata": {},
   "source": [
    "$\\mathcal{X}^{2}_{2, 0.9}\\simeq 4.605$\n",
    "\n",
    "$\\mathcal{X}^{2}\\gt \\mathcal{X}^{2}_{2,0.9}\\to$ по критерию Пирсона мы отвергаем гипотезу, т.е в данном случае мы её отвергаем"
   ]
  },
  {
   "cell_type": "code",
   "execution_count": 303,
   "id": "06872750",
   "metadata": {},
   "outputs": [
    {
     "data": {
      "text/plain": [
       "0.0"
      ]
     },
     "execution_count": 303,
     "metadata": {},
     "output_type": "execute_result"
    }
   ],
   "source": [
    "1 - stats.chi2.cdf(200.29, 2)"
   ]
  },
  {
   "cell_type": "markdown",
   "id": "508b4b71",
   "metadata": {},
   "source": [
    "Наибольшее значение уровня значимости, на котором ещё нет оснований отвергнуть данную гипотезу блико стремится к нулю"
   ]
  },
  {
   "cell_type": "markdown",
   "id": "4f8170e7",
   "metadata": {},
   "source": [
    "#### i.h) Для гамма-распределения $P_{\\lambda}(X)=\\frac{\\sqrt{\\lambda}\\cdot exp\\left( \\frac{-\\lambda\\cdot X}{2} \\right)}{\\sqrt{2\\cdot \\pi\\cdot X}}$ построить наиболее мощный критерий проверки гипотезы о показательности с параметром $\\lambda=\\lambda_{0}$ при альтернативе показательности с параметром $\\lambda=\\lambda_{1}$.\n",
    "$\\lambda_0 = 0.13, \\lambda_1 = 0.2$"
   ]
  },
  {
   "cell_type": "markdown",
   "id": "ee0dcdbb",
   "metadata": {},
   "source": [
    "$ H_ {0} :  \\lambda  =  \\lambda _ {0} $ \n",
    " \n",
    " $ H_ {1} :  \\lambda  =  \\lambda _ {1} $ \n",
    " \n",
    "Cтатистическое отношение правдоподобия:\n",
    "\n",
    "\n",
    "\n",
    "$$LR(\\overrightarrow{X},\\lambda_{1},\\lambda_{0}) =\\left(\\frac{\\lambda_{1}}{\\lambda_{0}}\\right)^{\\frac{n}{2}}\\cdot exp \\left(\\frac{(\\lambda_{0}-\\lambda_{1})\\cdot \\sum_{i=1}^{50}X_{i}}{2} \\right)$$\n",
    "\n",
    "$LR(\\overrightarrow{X},\\lambda_{1},\\lambda_{0})>  c\\Leftrightarrow \\overline{X} < c^*$\n",
    "\n",
    "$LR(\\overrightarrow{X},\\lambda_{1},\\lambda_{0})<  c\\Leftrightarrow \\overline{X} > c^*$\n",
    "\n",
    "${exp}^{{\\sum_{i=1}^{50}X_{i}}\\cdot (-\\lambda_{1} + \\lambda_{0})}=\\left(\\frac{\\lambda_{0}}{\\lambda_{1}}\\right)^n c$\n",
    "\n",
    "Логарифмируем:\n",
    "\n",
    "(1)    $c* = {\\sum_{i=1}^{50}X_{i}}=n \\cdot ln\\left(\\left(\\frac{\\lambda_{0}}{\\lambda_{1}}\\right) c\\right)$\n",
    "\n",
    "$\\sum_{i=1}^{50}X_{i}\\sim \\Gamma \\left(n,\\frac{1}{\\lambda}\\right)$\n",
    "\n",
    "$1-\\Phi_{\\Gamma \\left(n,\\frac{1}{\\lambda}\\right)}(c)=\\alpha_{2}$\n",
    "\n",
    "$ c = \\Phi^{-1}_{\\Gamma \\left(n,\\frac{1}{\\lambda}\\right)}(1-\\alpha_{2})$"
   ]
  },
  {
   "cell_type": "code",
   "execution_count": 304,
   "id": "a85608c0",
   "metadata": {},
   "outputs": [
    {
     "name": "stdout",
     "output_type": "stream",
     "text": [
      "c  = 242.95046540663967\n",
      "c* = 253.1037330202725\n"
     ]
    }
   ],
   "source": [
    "c = stats.gamma.ppf(0.9, a = 25, scale = 1/0.13)\n",
    "print('c  =', c)\n",
    "c_ = 50*np.log(0.13/0.2*c)\n",
    "print('c* =',c_)"
   ]
  },
  {
   "cell_type": "markdown",
   "id": "ea61be61",
   "metadata": {},
   "source": [
    "$ c = 242.95$\n",
    "\n",
    "Найдем с* подставив значени в выражение (1):\n",
    "\n",
    "$ с* = 253.10$\n",
    "\n",
    "$LR(\\overrightarrow{X}, \\lambda_{0}, \\lambda_{1}) = \\left(\\frac{0.13}{0.2}\\right)^{25} \\cdot exp \\left(\\frac{(0.2-0.13)\\cdot 253.10}{2} \\right) = 0.148$\n",
    "\n",
    "$$ \\phi(x) =\\left\\{\n",
    "  \\begin{array}{l}\n",
    "    1, LR(x) > 242.95 \\\\\n",
    "    p, LR(x) = 242.95\\\\\n",
    "    0, LR(x) < 242.95\\\\\n",
    "  \\end{array}\\right.$$\n",
    "\n",
    "<br><br>\n",
    "\n",
    "  $$LR < c  \\to отвергаем\\,гипотезу H_1$$"
   ]
  },
  {
   "cell_type": "markdown",
   "id": "fd35a286",
   "metadata": {},
   "source": [
    "**Меняем местами основную и альтернативную гипотезу:**\n",
    "\n",
    "$H_{0}=\\lambda_{1}$\n",
    "\n",
    "$H_{1}=\\lambda_{0}$\n",
    "\n",
    "Cтатистическое отношение правдоподобия:\n",
    "\n",
    "$$LR(\\overrightarrow{X},\\lambda_{0},\\lambda_{1}) = \\left(\\frac{\\lambda_{0}}{\\lambda_{1}}\\right)^n \\cdot exp \\left(\\frac{(\\lambda_{0}-\\lambda_{1})\\cdot \\sum_{i=1}^{50}X_{i}}{2} \\right)$$\n",
    "\n",
    "$LR(\\overrightarrow{X},\\lambda_{0},\\lambda_{1})>  c\\Leftrightarrow \\overline{X} < c^*$\n",
    "\n",
    "$LR(\\overrightarrow{X},\\lambda_{0},\\lambda_{1})<  c\\Leftrightarrow \\overline{X} > c^*$\n",
    "\n",
    "${exp}^{{\\sum_{i=1}^{50}X_{i}}\\cdot (-\\lambda_{0} + \\lambda_{1})}=\\left(\\frac{\\lambda_{0}}{\\lambda_{1}}\\right)^n c$\n",
    "\n",
    "$ c = \\Phi^{-1}_{\\Gamma \\left(n,\\frac{1}{\\lambda}\\right)}(1-\\alpha_{2})$"
   ]
  },
  {
   "cell_type": "code",
   "execution_count": 305,
   "id": "131be643",
   "metadata": {},
   "outputs": [
    {
     "name": "stdout",
     "output_type": "stream",
     "text": [
      "c  = 157.91780251431578\n",
      "c* = 274.6428788248952\n"
     ]
    }
   ],
   "source": [
    "c = stats.gamma.ppf(0.9, a = 25, scale = 1/0.2)\n",
    "print('c  =', c)\n",
    "c_ = 50*np.log(0.2/0.13*c)\n",
    "print('c* =',c_)"
   ]
  },
  {
   "cell_type": "markdown",
   "id": "b8d9841d",
   "metadata": {},
   "source": [
    "$ c = 157.92$\n",
    "\n",
    "$ с* = 274.64$\n",
    "\n",
    "\n",
    "$LR(\\overrightarrow{X}, \\lambda_{0}, \\lambda_{1}) = \\left(\\frac{0.2}{0.13}\\right)^{25} \\cdot exp \\left(\\frac{(0.13-0.2)\\cdot 274.64}{2} \\right) = 3.181$\n",
    "\n",
    "$$ \\phi(x) =\\left\\{\n",
    "  \\begin{array}{l}\n",
    "    1, LR(x) > 157.92 \\\\\n",
    "    p, LR(x) = 157.92\\\\\n",
    "    0, LR(x) < 157.92\\\\\n",
    "  \\end{array}\\right.$$\n",
    "\n",
    "\n",
    "\n",
    "   $$ LR < c \\to отвергаем\\,гипотезу H_0$$"
   ]
  },
  {
   "cell_type": "markdown",
   "id": "9ffc9c92",
   "metadata": {},
   "source": [
    "## Вывод\n",
    "В ходе исследования были освоены и применены методы математической статистики для решения различных задач статистического анализа. Результатом стало формирование навыков использования прикладных программных пакетов для реализации этих методов. Изучив основные концепции и методы, мы приобрели опыт в проведении статистических тестов, анализе выборочных данных, построении доверительных интервалов, проверке гипотез и других аспектах статистического анализа.\n",
    "\n",
    "На протяжении работы мы успешно применяли программные инструменты, такие как Python с библиотеками NumPy, Scipy с пакетами stats, expon и другими. Эти прикладные программные пакеты стали незаменимым помощником в реализации методов математической статистики, обеспечивая возможность проводить анализ данных, вычислять статистические характеристики выборок, создавать и тестировать статистические модели.\n",
    "\n",
    "В процессе исследования применялись различные статистические критерии, такие как критерий хи-квадрат, используемый для проверки гипотезы о соответствии выборки определенному распределению. Этот критерий позволяет оценить, насколько выборочные данные соответствуют ожидаемым значениям из предложенного теоретического распределения.\n",
    "\n",
    "Особое внимание уделено работе с различными семействами распределений. Мы строили оценки параметров, асимптотические интервалы и проверяли гипотезы о соответствии данных этим распределениям. Это позволило более глубоко понять особенности данных и выбрать наиболее подходящие статистические модели для анализа."
   ]
  }
 ],
 "metadata": {
  "kernelspec": {
   "display_name": "Python 3 (ipykernel)",
   "language": "python",
   "name": "python3"
  },
  "language_info": {
   "codemirror_mode": {
    "name": "ipython",
    "version": 3
   },
   "file_extension": ".py",
   "mimetype": "text/x-python",
   "name": "python",
   "nbconvert_exporter": "python",
   "pygments_lexer": "ipython3",
   "version": "3.10.11"
  }
 },
 "nbformat": 4,
 "nbformat_minor": 5
}
