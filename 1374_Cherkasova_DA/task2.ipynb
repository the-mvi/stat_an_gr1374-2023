{
  "nbformat": 4,
  "nbformat_minor": 0,
  "metadata": {
    "colab": {
      "provenance": []
    },
    "kernelspec": {
      "name": "ir",
      "display_name": "R"
    },
    "language_info": {
      "name": "R"
    }
  },
  "cells": [
    {
      "cell_type": "markdown",
      "source": [
        "# Практическая работа №2: Классические методы математической статистики\n",
        "Выполнила студентка гр. 1374 Черкасова Дарья. Вариант №25"
      ],
      "metadata": {
        "id": "N75bqErVYVDq"
      }
    },
    {
      "cell_type": "markdown",
      "source": [
        "## Цель работы\n",
        "Научится применять методы математической статистики для решения задач статистического анализа; сформировать навыки реализации методов с помощью прикладных программных пакетов."
      ],
      "metadata": {
        "id": "xKePtxNhYf3R"
      }
    },
    {
      "cell_type": "markdown",
      "source": [
        "## Основные теоретические положения\n",
        "\n",
        "1. Критерий $\\chi^2$ для проверки гипотез\n",
        "\n",
        "Разбиваем множество значений случайной величины на r непересекающихся интервалов, которые покроют все возможные значения СВ.\n",
        "\n",
        "$p_{i}$ - теоретическая вероятность попадания СВ в i-ый интервал при нулевой гипотезе.\n",
        "\n",
        "$n_{i}$ - количество значений выборки, попавших в i-ый интервал\n",
        "\n",
        "Сравниваем относительную и теоретическую частоты.\n",
        "\n",
        "$\\chi^{2}_в = \\sum_{i=1}^{N}  \\frac{(n_i-np_i)^2}{np_i}  $\n",
        "\n",
        "Если $\\chi^{2}_в >\\chi^2_{1 - \\alpha, r - 1}$, где\n",
        "\n",
        "$r$ - кол-во интервалов, то гипотезу отвергаем. Если $\\chi^{2}_в <\\chi^2_{1 - \\alpha, r - 1}$ - не отвергаем.\n",
        "\n",
        "\n",
        "2. Теорема Колмогорова\n",
        "\n",
        "$D_{n}(\\overrightarrow{X}) = \\overset{}{\\underset{X \\in \\mathbb R}{sup}} |F_{0}(X_{i}) - F_{n}(X_{i})|$\n",
        "\n",
        "Если гипотеза $H_{0}$ верна, и $F_{0}(X)$ - непрерывна на R, тогда $P(\\sqrt{n} D_{n}(\\overrightarrow{X}) < у) \\xrightarrow[n \\rightarrow \\infty]{} K(у)$\n",
        "\n",
        "где $K(у)=1-\\alpha$ - функция распределения Колмогорова.\n",
        "\n",
        "$D_{n} < у$ - гипотезу не отвергаем\n",
        "\n",
        " $D_{n} > y$ - гипотезу отвергаем\n",
        "\n",
        "\n",
        "3. Наиболее мощный критерий простой гипотезы\n",
        "\n",
        "Для нулевой гипотезы $H_{0}: \\theta=\\theta_{0}$ и альтернативной гипотезы $H_{А}: \\theta=\\theta_{A}$, где $\\theta_{0}$ и $\\theta_{A}$ - фиксированные параметры, строим статистику правдоподобия:\n",
        "\n",
        "$LR(\\overrightarrow{X},\\theta_{A},\\theta_{0})=\\frac{L(\\overrightarrow{X},\\theta_{A})}{L(\\overrightarrow{X},\\theta_{0})}$ - статистика отношений правдоподобия,$L(\\overrightarrow{X},\\theta)$ - соответствующие функции максимального правдоподобия.\n",
        "\n",
        "Наиболее мощный критерий представляется в виде\n",
        "\n",
        "\n",
        "$ ϕ(x)=  \\begin{Bmatrix} 1;  LR(X)>c \\\\\n",
        " p;  LR(X)=c ; \\\\0; LR(X)<c  \\end{Bmatrix} $\n",
        "\n",
        "где константа с и вероятность $ p \\in [0,1) $ находятся из уравнения\n",
        "\n",
        "$  E_{θ_0}ϕ(x)=P_{θ_0}(LR(X)>c)+pP_{θ_0}(LR(X)=c)=α$\n",
        "\n",
        "Причем:\n",
        "\n",
        "- константа с находится однозначно\n",
        "\n",
        "- если $ P_{θ_0}(LR(X)=c)>0 $, то $ p \\in [0,1) $ находится однозначно\n",
        "\n",
        "- в области $ LR(X) \\neq c $ критерий $ϕ$ определен однозначно"
      ],
      "metadata": {
        "id": "aG5OxkU4YuaE"
      }
    },
    {
      "cell_type": "markdown",
      "source": [
        "## Постановка задачи\n",
        "Для полученных в результате эксперимента наборов данных выполнить статистическую обработку. Полученные результаты содержательно проинтерпретировать."
      ],
      "metadata": {
        "id": "NQPUvUPeYxhU"
      }
    },
    {
      "cell_type": "markdown",
      "source": [
        "## Выполнение работы\n",
        "Таблица 1\n",
        "\n",
        "1 0 0 0 0 0 0 1 0 0 0 0 0 0 0 0 0 1 0 1 0 2 1 0 1 2 0 0 0 0 2 1 0 1 0 2 0 1 0 0 0 2 0 0 3 0 0\n",
        "1 0 2\n",
        "\n",
        "а) Вариационный ряд:\n",
        "\n",
        "0 0 0 0 0 0 0 0 0 0 0 0 0 0 0 0 0 0 0 0 0 0 0 0 0 0 0 0 0 0 0 0 0 1 1 1 1 1 1 1 1 1 1 2 2 2 2 2 2 3\n",
        "\n",
        "Частоты:\n",
        "\n",
        "для 0: 33\n",
        "\n",
        "для 1: 10\n",
        "\n",
        "для 2: 6\n",
        "\n",
        "для 3: 1\n",
        "\n",
        "Эмпирическая функция распределения:\n",
        "\n"
      ],
      "metadata": {
        "id": "-jHTaFf5Y348"
      }
    },
    {
      "cell_type": "markdown",
      "source": [
        "$ F_{n}(x)= \\begin{Bmatrix} 0;  - \\infty < x \\leq 0 \\\\\n",
        " 0.66;  0 < x \\leq 1 \\\\0.86;  1 < x \\leq 2 \\\\ 0.98;  2 < x \\leq 3 \\\\ 1;  3 < x \\leq + \\infty \\end{Bmatrix} $"
      ],
      "metadata": {
        "id": "n8A8u3hRd3uW"
      }
    },
    {
      "cell_type": "code",
      "source": [
        "data = c(0, 0, 0, 0, 0, 0, 0, 0, 0, 0, 0, 0, 0, 0, 0, 0, 0, 0, 0, 0, 0, 0, 0, 0, 0, 0, 0, 0, 0, 0, 0, 0, 0, 1, 1, 1, 1, 1, 1, 1, 1, 1, 1, 2, 2, 2, 2, 2, 2, 3)\n",
        "n1 = length(data)\n",
        "plot(data, (1:n1)/n1, type=\"S\", col=\"seagreen\", main=\"Эмпирическая функция распределения\")"
      ],
      "metadata": {
        "colab": {
          "base_uri": "https://localhost:8080/",
          "height": 437
        },
        "id": "hq5CkYfYPCAt",
        "outputId": "01f408dc-451f-4e15-b18d-2922e4278541"
      },
      "execution_count": 2,
      "outputs": [
        {
          "output_type": "display_data",
          "data": {
            "text/plain": [
              "Plot with title “Эмпирическая функция распределения”"
            ],
            "image/png": "[encoded data removed]"
          },
          "metadata": {
            "image/png": {
              "width": 420,
              "height": 420
            }
          }
        }
      ]
    },
    {
      "cell_type": "markdown",
      "source": [
        "Гистограмма частот"
      ],
      "metadata": {
        "id": "gOflev9UfCd6"
      }
    },
    {
      "cell_type": "code",
      "source": [
        "\n",
        "library(lattice)\n",
        "hist= hist(data, freq=FALSE)\n",
        "str(hist)"
      ],
      "metadata": {
        "colab": {
          "base_uri": "https://localhost:8080/",
          "height": 583
        },
        "id": "Vh8A_UT2grZr",
        "outputId": "731b0006-0085-4d04-9fb1-c5e9476cd019"
      },
      "execution_count": 3,
      "outputs": [
        {
          "output_type": "stream",
          "name": "stdout",
          "text": [
            "List of 6\n",
            " $ breaks  : num [1:7] 0 0.5 1 1.5 2 2.5 3\n",
            " $ counts  : int [1:6] 33 10 0 6 0 1\n",
            " $ density : num [1:6] 1.32 0.4 0 0.24 0 0.04\n",
            " $ mids    : num [1:6] 0.25 0.75 1.25 1.75 2.25 2.75\n",
            " $ xname   : chr \"data\"\n",
            " $ equidist: logi TRUE\n",
            " - attr(*, \"class\")= chr \"histogram\"\n"
          ]
        },
        {
          "output_type": "display_data",
          "data": {
            "text/plain": [
              "Plot with title “Histogram of data”"
            ],
            "image/png": "[encoded data removed]"
          },
          "metadata": {
            "image/png": {
              "width": 420,
              "height": 420
            }
          }
        }
      ]
    },
    {
      "cell_type": "markdown",
      "source": [
        "b) Математическое ожидание\n",
        "\n",
        "$ EX= \\frac1{50} (0 \\cdot 33 + 1 \\cdot 10 + 2 \\cdot 6 + 3 \\cdot 1)= \\frac1{2}$\n",
        "\n",
        "Дисперсия\n",
        "\n",
        "$ DX= E(X^2) - (EX)^2$\n",
        "\n",
        "$E(X^2)=\\frac1{50} (0 \\cdot 33 + 1 \\cdot 10 + 4 \\cdot 6 + 9 \\cdot 1)= 0,86$\n",
        "\n",
        "$ DX= 0,86 - 0,5^2=0,61$\n",
        "\n",
        "СКО\n",
        "\n",
        "$ s= \\sqrt{DX}=0,781025 $\n",
        "\n",
        "Медиана\n",
        "\n",
        "$ np=50 \\cdot \\frac1{2}=25  $ - целое\n",
        "\n",
        "$ [ X_{np};X_{np+1})=[ X_{25};X_{26})=0 $\n",
        "\n",
        "Ассиметрия\n",
        "\n",
        "$ S_{kew} = \\frac{E(X-EX)^3}{(s)^3} $\n",
        "\n",
        "$ E(X-EX)^3 = \\frac1{50} ((-0,5)^3 \\cdot 33 + (0,5)^3 \\cdot 10 + (1,5)^3 \\cdot 6 + (2,5)^3 \\cdot 1) =0,66 $\n",
        "\n",
        "$ S_{kew} = \\frac{0,66}{(0,781025)^3} = 1,38532 $\n",
        "\n",
        "Эксцесс\n",
        "\n",
        "$ k_{urt}=\\frac{E(X-EX)^4}{(s)^4} -3 $\n",
        "\n",
        "$ E(X-EX)^4 = \\frac1{50} ((-0,5)^4 \\cdot 33 + (0,5)^4 \\cdot 10 + (1,5)^4 \\cdot 6 + (2,5)^4 \\cdot 1) =1,4425 $\n",
        "\n",
        "$ k_{urt}=\\frac{1,4425}{(0,781025)^4} -3 = 0,876646 $\n",
        "\n",
        "Вероятность\n",
        "\n",
        "$ P(X \\in [a;b]) = P(X \\in [0;0,67]) = F(0,67) - F(0)= 0,66-0=0,66 $"
      ],
      "metadata": {
        "id": "6RiYSC_5jBtD"
      }
    },
    {
      "cell_type": "code",
      "source": [
        "print(\"Математическое ожидание\")\n",
        "mean(data)\n",
        "print(\"Дисперсия\")\n",
        "var(data)\n",
        "print(\"СКО\")\n",
        "sd(data)\n",
        "print(\"Ассиметрия\")\n",
        "install.packages(\"PerformanceAnalytics\")\n",
        "library(PerformanceAnalytics)\n",
        "skewness(data)\n",
        "print(\"Эксцесс\")\n",
        "kurtosis(data)\n",
        "print(\"Медиана\")\n",
        "median(data)\n",
        "print(\"Вероятность попадания в интервал\")\n",
        "f=ecdf(data)\n",
        "f(0.67)-f(0)"
      ],
      "metadata": {
        "colab": {
          "base_uri": "https://localhost:8080/",
          "height": 777
        },
        "id": "tn_jhQ_oiCvd",
        "outputId": "1925d7f0-04c0-47dd-df11-3fe9fa2eb668"
      },
      "execution_count": 4,
      "outputs": [
        {
          "output_type": "stream",
          "name": "stdout",
          "text": [
            "[1] \"Математическое ожидание\"\n"
          ]
        },
        {
          "output_type": "display_data",
          "data": {
            "text/html": [
              "0.5"
            ],
            "text/markdown": "0.5",
            "text/latex": "0.5",
            "text/plain": [
              "[1] 0.5"
            ]
          },
          "metadata": {}
        },
        {
          "output_type": "stream",
          "name": "stdout",
          "text": [
            "[1] \"Дисперсия\"\n"
          ]
        },
        {
          "output_type": "display_data",
          "data": {
            "text/html": [
              "0.622448979591837"
            ],
            "text/markdown": "0.622448979591837",
            "text/latex": "0.622448979591837",
            "text/plain": [
              "[1] 0.622449"
            ]
          },
          "metadata": {}
        },
        {
          "output_type": "stream",
          "name": "stdout",
          "text": [
            "[1] \"СКО\"\n"
          ]
        },
        {
          "output_type": "display_data",
          "data": {
            "text/html": [
              "0.788954358370519"
            ],
            "text/markdown": "0.788954358370519",
            "text/latex": "0.788954358370519",
            "text/plain": [
              "[1] 0.7889544"
            ]
          },
          "metadata": {}
        },
        {
          "output_type": "stream",
          "name": "stdout",
          "text": [
            "[1] \"Ассиметрия\"\n"
          ]
        },
        {
          "output_type": "stream",
          "name": "stderr",
          "text": [
            "Installing package into ‘/usr/local/lib/R/site-library’\n",
            "(as ‘lib’ is unspecified)\n",
            "\n",
            "also installing the dependencies ‘xts’, ‘quadprog’, ‘zoo’\n",
            "\n",
            "\n",
            "Loading required package: xts\n",
            "\n",
            "Loading required package: zoo\n",
            "\n",
            "\n",
            "Attaching package: ‘zoo’\n",
            "\n",
            "\n",
            "The following objects are masked from ‘package:base’:\n",
            "\n",
            "    as.Date, as.Date.numeric\n",
            "\n",
            "\n",
            "\n",
            "Attaching package: ‘PerformanceAnalytics’\n",
            "\n",
            "\n",
            "The following object is masked from ‘package:graphics’:\n",
            "\n",
            "    legend\n",
            "\n",
            "\n"
          ]
        },
        {
          "output_type": "display_data",
          "data": {
            "text/html": [
              "1.38531706156904"
            ],
            "text/markdown": "1.38531706156904",
            "text/latex": "1.38531706156904",
            "text/plain": [
              "[1] 1.385317"
            ]
          },
          "metadata": {}
        },
        {
          "output_type": "stream",
          "name": "stdout",
          "text": [
            "[1] \"Эксцесс\"\n"
          ]
        },
        {
          "output_type": "display_data",
          "data": {
            "text/html": [
              "0.876646062886321"
            ],
            "text/markdown": "0.876646062886321",
            "text/latex": "0.876646062886321",
            "text/plain": [
              "[1] 0.8766461"
            ]
          },
          "metadata": {}
        },
        {
          "output_type": "stream",
          "name": "stdout",
          "text": [
            "[1] \"Медиана\"\n"
          ]
        },
        {
          "output_type": "display_data",
          "data": {
            "text/html": [
              "0"
            ],
            "text/markdown": "0",
            "text/latex": "0",
            "text/plain": [
              "[1] 0"
            ]
          },
          "metadata": {}
        },
        {
          "output_type": "stream",
          "name": "stdout",
          "text": [
            "[1] \"Вероятность попадания в интервал\"\n"
          ]
        },
        {
          "output_type": "display_data",
          "data": {
            "text/html": [
              "0"
            ],
            "text/markdown": "0",
            "text/latex": "0",
            "text/plain": [
              "[1] 0"
            ]
          },
          "metadata": {}
        }
      ]
    },
    {
      "cell_type": "code",
      "source": [
        "summary(data)\n",
        "length(data)"
      ],
      "metadata": {
        "colab": {
          "base_uri": "https://localhost:8080/",
          "height": 71
        },
        "id": "Kd5fXARJrMv0",
        "outputId": "46e86dbb-6fcb-47ff-81e1-dbef34b689e9"
      },
      "execution_count": 5,
      "outputs": [
        {
          "output_type": "display_data",
          "data": {
            "text/plain": [
              "   Min. 1st Qu.  Median    Mean 3rd Qu.    Max. \n",
              "    0.0     0.0     0.0     0.5     1.0     3.0 "
            ]
          },
          "metadata": {}
        },
        {
          "output_type": "display_data",
          "data": {
            "text/html": [
              "50"
            ],
            "text/markdown": "50",
            "text/latex": "50",
            "text/plain": [
              "[1] 50"
            ]
          },
          "metadata": {}
        }
      ]
    },
    {
      "cell_type": "markdown",
      "source": [
        "c) $ f(x)= \\frac{ \\lambda^x}{x!}e^{- λ} $\n",
        "\n",
        "ОМП\n",
        "\n",
        "$ L( \\vec{X}, θ)= \\frac{ \\lambda^{\\sum_{i=1}^n X_i}}{X_1! \\cdot X_2! \\cdot ... \\cdot X_n!}e^{- nλ} $\n",
        "\n",
        "$ LL( \\vec{X}, θ)= \\sum_{i=1}^n X_i \\cdot ln λ -n λ - \\sum_{i=1}^n ln(X_i)! $\n",
        "\n",
        "$ \\frac{\\partial LL}{\\partial λ} = \\frac{\\sum_{i=1}^n X_i}{λ}-n=0 $\n",
        "\n",
        "$ \\hat{λ}=\\frac{\\sum_{i=1}^n X_i}{n}e^{- nλ} $\n",
        "\n",
        "$ h(X)=\\frac1{X_1! \\cdot X_2! \\cdot ... \\cdot X_n!} $\n",
        "\n",
        "$ g(T)=\\sum_{i=1}^n X_i e^{- nλ} $\n",
        "\n",
        "МДС=$ \\sum_{i=1}^n X_i $ =ПДС, т.к. семейство экспотенциальных\n",
        "\n",
        "$ E\\hat{λ}=E\\frac{\\sum_{i=1}^n X_i}{n}= \\frac1{n}\\sum_{i=1}^n E X_i=\\frac1{n} \\cdot n \\cdot λ=λ $ - оценка несмещенная\n",
        "\n",
        "ОММ\n",
        "\n",
        "$ EX_1=λ; M_1=λ= \\frac{\\sum_{i=1}^n X_i}{n} $\n",
        "\n",
        "$ \\hat{λ}= \\overline{X}=0,5 $"
      ],
      "metadata": {
        "id": "l4FZaj9qv_JV"
      }
    },
    {
      "cell_type": "markdown",
      "source": [
        "d)$ f(x)= \\frac{ \\lambda^x}{x!}e^{- λ} $\n",
        "\n",
        "ОМП\n",
        "\n",
        "$ L( \\vec{X}, θ)= \\frac{ \\lambda^{\\sum_{i=1}^n x_i}}{x_1! \\cdot x_2! \\cdot ... \\cdot x_n!}e^{- nλ} $\n",
        "\n",
        "$ LL( \\vec{X}, θ)= \\sum_{i=1}^n x_i \\cdot ln λ -n λ - \\sum_{i=1}^n ln(x_i)! $\n",
        "\n",
        "$ \\frac{\\partial LL}{\\partial λ} = \\frac{\\sum_{i=1}^n x_i}{λ}-n=0 $\n",
        "\n",
        "$ \\hat{λ}=\\frac{\\sum_{i=1}^n x_i}{n}=\\overline{X} $\n",
        "\n",
        "$ \\sqrt{nI(\\hat{λ})}(\\hat{λ}-λ) \\sim N(0,1) $\n",
        "\n",
        "$ \\frac{\\partial^2 LL}{\\partial λ^2} =- \\frac{\\sum_{i=1}^n x_i}{λ^2} $\n",
        "\n",
        "$ I(λ)=-E(- \\frac{\\sum_{i=1}^n x_i}{λ^2})= \\frac1{λ^2} \\sum_{i=1}^n E(X_i) =\\frac1{λ^2}  \\cdot n \\cdot λ =\\frac{n}{λ} $\n",
        "\n",
        "$ \\sqrt{n \\cdot (\\frac{n}{\\hat{λ}})}(\\hat{λ}-λ) \\sim N(0,1)  $\n",
        "\n",
        "$ \\sqrt{\\frac{n^2}{\\overline{X}}}(\\overline{X}-λ) \\sim N(0,1)  $\n",
        "\n",
        "$ x_{α}: Ф(x_{α})=1-\\frac{α}2=1-\\frac{0.1}2=0.95 $\n",
        "\n",
        "$ Ф(1,64)=0,9495 $ и $ Ф(1,65)=0,9505 $\n",
        "\n",
        "Возьмем $x_{α}=1.64$\n",
        "\n",
        "$ P(\\sqrt{\\frac{n^2}{\\overline{X}}}(\\overline{X}-λ) \\in [-x_{α};x_{α}] ) = 1- \\alpha = 0.9$\n",
        "\n",
        "$ -x_{α} \\sqrt{\\frac{\\overline{X}}{n^2}} \\leq \\overline{X}-λ \\leq x_{α} \\sqrt{\\frac{\\overline{X}}{n^2}}  $\n",
        "\n",
        "$ -x_{α} \\sqrt{\\frac{\\overline{X}}{n^2}}-\\overline{X} \\leq -λ \\leq x_{α} \\sqrt{\\frac{\\overline{X}}{n^2}} -\\overline{X} $\n",
        "\n",
        "$ -x_{α} \\sqrt{\\frac{\\overline{X}}{n^2}}+\\overline{X} \\leq λ \\leq x_{α} \\sqrt{\\frac{\\overline{X}}{n^2}} +\\overline{X} $\n",
        "\n",
        "$ -1.64 \\sqrt{\\frac{0,5}{50^2}}+0,5 \\leq λ \\leq 1.64 \\sqrt{\\frac{0,5}{50^2}} +0,5 $\n",
        "\n",
        "$ 0,476807 \\leq λ \\leq 0.523193$"
      ],
      "metadata": {
        "id": "ko0nmoOHjtWB"
      }
    },
    {
      "cell_type": "markdown",
      "source": [
        "e) $ H_0 ≡ Pois(2) $\n",
        "\n",
        "$ H_A \\neq  Pois(2) $\n",
        "\n",
        "Разобъем множество всех возможных значений СВ на интервалы\n",
        "\n",
        "$\\Delta_0 = 0, \\Delta_1 = 1, \\Delta_2 = 2, \\Delta_3 = [3, + \\infty)$\n",
        "\n",
        "Найдём верoятности попадания СВ в построенные интервалы.\n",
        "\n",
        "$p_k = P(\\xi = k) = \\frac{\\lambda^k}{k!} e^{- \\lambda}$\n",
        "\n",
        "$p_0 = 0.135, p_1 = 0.271, p_2 = 0.271, p_{\\geq 3} = 0.323$\n",
        "\n",
        "$\\sum \\limits_{i=0}^6 p_i = 1$\n",
        "\n",
        "$\\;\\;\\;\\;$ $\\Delta_0$, $\\Delta_1$, $\\Delta_2$, $\\Delta_{\\geq 3}$\n",
        "\n",
        "$i$ $\\;\\;$  0,  $\\;\\;$1,   $\\;\\;\\;$2,  $\\;\\geq3$\n",
        "\n",
        "$n_i$ $\\;$33, 10, 6, $\\;$1\n",
        "\n",
        "$p_i$ 0.135, 0.271, 0.271, 0.323\n",
        "\n",
        "$np_i$ 6.75, 13.55, 13.55, 16.15\n",
        "\n",
        "$\\frac{(n_i - np_i)^2}{np_i}$ 102.1, 0.93, 4.21, 14.2\n",
        "\n",
        "$\\chi^2_в = \\sum \\frac{(n_i - np_i)^2}{np_i} = 121.44$\n",
        "\n",
        "где\n",
        "\n",
        "$np_i$ ожидаемые частоты попадания в интервал.\n",
        "\n",
        "$\\alpha = 0.1$\n",
        "\n",
        "Найдём квантиль распределения $\\chi^2_{1 - \\alpha, r - 1}$, где\n",
        "\n",
        "$r$ - кол-во интервалов.\n",
        "\n",
        "$\\chi^2_{1 - 0.1, 4 - 1} = 6.251$\n",
        "\n",
        "$\\chi^2_в > \\chi^2_{0.9, 3}  \\Rightarrow H_0$  отвергается.\n",
        "\n"
      ],
      "metadata": {
        "id": "SXinkz1x3ppe"
      }
    },
    {
      "cell_type": "code",
      "source": [
        "print(qchisq(p = 0.9, df = 3))"
      ],
      "metadata": {
        "colab": {
          "base_uri": "https://localhost:8080/"
        },
        "id": "x63eyE1ivwXf",
        "outputId": "dff5c8d5-9268-403b-e495-b8a0a6b28289"
      },
      "execution_count": 6,
      "outputs": [
        {
          "output_type": "stream",
          "name": "stdout",
          "text": [
            "[1] 6.251389\n"
          ]
        }
      ]
    },
    {
      "cell_type": "code",
      "source": [
        "print('Наибольший уровень значимости, при котором еще нет оснований отвергнуть гипотезу')\n",
        "print(1-pchisq(121.44,3))\n",
        "print(qchisq(p = 1-10^(-16), df = 3))\n",
        "print(qchisq(p = 1-10^(-17), df = 3))"
      ],
      "metadata": {
        "colab": {
          "base_uri": "https://localhost:8080/"
        },
        "id": "pXvEOJggv4EF",
        "outputId": "bef2e53e-2f95-4414-b91d-40ab6478807f"
      },
      "execution_count": 7,
      "outputs": [
        {
          "output_type": "stream",
          "name": "stdout",
          "text": [
            "[1] \"Наибольший уровень значимости, при котором еще нет оснований отвергнуть гипотезу\"\n",
            "[1] 0\n",
            "[1] 77.39632\n",
            "[1] Inf\n"
          ]
        }
      ]
    },
    {
      "cell_type": "markdown",
      "source": [
        "Так как критическое значение распределения хи квадрат не доходит до 121.44 даже при уровне значимости 10^(-16), значит наибольший уровень значимости, при котором еще нет оснований отвергнуть гипотезу, очень сильно мало и близко к нулю."
      ],
      "metadata": {
        "id": "EWnIyk7ZEJO7"
      }
    },
    {
      "cell_type": "markdown",
      "source": [
        "f)$ H_0 ≡ Pois(\\lambda) $\n",
        "\n",
        "$ H_A \\neq  Pois(\\lambda) $\n",
        "\n",
        "Ожидаемые частоты зависят от параметра, который, в свою очередь, должен максимизировать функцию правдоподобия, следовательно за параметр возьмем оценку ОМП\n",
        "$ \\hat{λ}= \\overline{X}=0,5 $\n",
        "\n",
        "Разобъем множество всех возможных значений СВ на интервалы\n",
        "\n",
        "$\\Delta_0 = 0, \\Delta_1 = 1, \\Delta_2 = 2, \\Delta_3 = [3, + \\infty)$\n",
        "\n",
        "Найдём верoятности попадания СВ в построенные интервалы.\n",
        "\n",
        "$p_k = P(\\xi = k) = \\frac{\\lambda^k}{k!} e^{- \\lambda}$\n",
        "\n",
        "$p_0 = 0.6065, p_1 = 0.3033, p_2 = 0.07582, p_{\\geq 3} = 0.01438$\n",
        "\n",
        "$\\sum \\limits_{i=0}^6 p_i = 1$\n",
        "\n",
        "$\\;\\;\\;\\;$ $\\Delta_0$, $\\Delta_1$, $\\Delta_2$, $\\Delta_{\\geq 3}$\n",
        "\n",
        "$i$ $\\;\\;$  0,  $\\;\\;$1,   $\\;\\;\\;$2,  $\\;\\geq3$\n",
        "\n",
        "$n_i$ $\\;$33, 10, 6, $\\;$1\n",
        "\n",
        "$p_i$ 0.6065, 0.3033, 0.07582, 0.01438\n",
        "\n",
        "$np_i$ 30.3265, 15.1633, 3.7908, 0.719\n",
        "\n",
        "$\\frac{(n_i - np_i)^2}{np_i}$ 0.236, 1.758, 1.287, 0.1098\n",
        "\n",
        "$\\chi^2_в = \\sum \\frac{(n_i - np_i)^2}{np_i} = 3.3908$\n",
        "\n",
        "где\n",
        "\n",
        "$np_i$ ожидаемые частоты попадания в интервал.\n",
        "\n",
        "$\\alpha = 0.1$\n",
        "\n",
        "Найдём квантиль распределения $\\chi^2_{1 - \\alpha, r - 1-1}$, где\n",
        "\n",
        "$r$ - кол-во интервалов.\n",
        "\n",
        "$\\chi^2_{1 - 0.1, 4 - 1-1} = 4.60517$\n",
        "\n",
        "$\\chi^2_в < \\chi^2_{0.9, 2}  \\Rightarrow H_0$  не отвергается.\n"
      ],
      "metadata": {
        "id": "ELOjfRYiyXqr"
      }
    },
    {
      "cell_type": "code",
      "source": [
        "print('Наибольший уровень значимости, при котором еще нет оснований отвергнуть гипотезу')\n",
        "print(1-pchisq(3.3908,2))"
      ],
      "metadata": {
        "colab": {
          "base_uri": "https://localhost:8080/"
        },
        "id": "gsmPCXsC1_os",
        "outputId": "ab88dbb7-94ca-45cb-ddb0-366e7e8a0c7c"
      },
      "execution_count": 8,
      "outputs": [
        {
          "output_type": "stream",
          "name": "stdout",
          "text": [
            "[1] \"Наибольший уровень значимости, при котором еще нет оснований отвергнуть гипотезу\"\n",
            "[1] 0.1835258\n"
          ]
        }
      ]
    },
    {
      "cell_type": "markdown",
      "source": [
        "g) $ H_0 ≡ Pois(λ_0) $\n",
        "\n",
        "$ H_A ≡  Pois(λ_1) $\n",
        "\n",
        "$ L( \\vec{X}, θ)= \\frac{ \\lambda^{\\sum_{i=1}^n X_i}}{X_1! \\cdot X_2! \\cdot ... \\cdot X_n!}e^{- nλ} $\n",
        "\n",
        "$ LR( \\vec{X})= (\\frac{λ_1}{λ_0})^{\\sum_{i=1}^n X_i} e^{- nλ_1+nλ_0}= (\\frac{λ_1}{λ_0})^{\\sum_{i=1}^n X_i} e^{n(λ_0-λ_1)}>c$\n",
        "\n",
        "${\\sum_{i=1}^n X_i} \\cdot ln(\\frac{λ_1}{λ_0})+n(λ_0-λ_1)>c $\n",
        "\n",
        "${\\sum_{i=1}^n X_i} \\cdot ln(\\frac{λ_1}{λ_0})>c-n(λ_0-λ_1) $\n",
        "\n",
        "Так как $ λ_1<λ_0 $ и $ln(\\frac{λ_1}{λ_0}) $ - отрицательный, знак меняется\n",
        "\n",
        "${\\sum_{i=1}^n X_i} <\\frac{c-n(λ_0-λ_1)}{ln(\\frac{λ_1}{λ_0})} $\n",
        "\n",
        "$\\frac{{\\sum_{i=1}^n X_i}}{n} <\\frac{c-n(λ_0-λ_1)}{nln(\\frac{λ_1}{λ_0})} $\n",
        "\n",
        "В силу монотонности статистики LR относительно МДС $\\overline{X}$\n",
        "\n",
        "$LR(X)>c ⇔ \\overline{X}<c^* $\n",
        "\n",
        "$LR(X)<c ⇔ \\overline{X}>c^* $\n",
        "\n",
        "\n",
        "\n",
        "$ ϕ(x)=  \\begin{Bmatrix} 1;  \\overline{X}<c^* \\\\\n",
        " p;  \\overline{X}=c^*; \\\\0; \\overline{X}>c^* \\end{Bmatrix} $\n",
        "\n",
        "По ЦПТ:\n",
        "\n",
        "$ \\sqrt{n} \\frac{ \\overline{X}-EX}{DX} \\sim N(0,1) $\n",
        "\n",
        "$ EX=λ_0, DX=λ_0$\n",
        "\n",
        "$ \\sqrt{n} \\frac{ \\overline{X}-λ_0}{λ_0} \\sim N(0,1) $\n",
        "\n",
        "$ P(\\sqrt{n} \\frac{ \\overline{X}-λ_0}{λ_0} ≥\\sqrt{n} \\frac{ c^*-λ_0}{λ_0})=1-Ф(\\sqrt{n} \\frac{ c^*-λ_0}{λ_0})= α $\n",
        "\n",
        "$\\sqrt{n} \\frac{ c^*-λ_0}{λ_0}=x_α,  x_α: Ф(x_α)=1-α $\n",
        "\n"
      ],
      "metadata": {
        "id": "_hAPM_FhZjlF"
      }
    },
    {
      "cell_type": "code",
      "source": [
        "qnorm(p = 0.9,0,1)"
      ],
      "metadata": {
        "colab": {
          "base_uri": "https://localhost:8080/",
          "height": 34
        },
        "id": "nSvn5_X1w40x",
        "outputId": "ee9a1640-995e-44b9-d275-ef9ed80f5bf3"
      },
      "execution_count": 9,
      "outputs": [
        {
          "output_type": "display_data",
          "data": {
            "text/html": [
              "1.2815515655446"
            ],
            "text/markdown": "1.2815515655446",
            "text/latex": "1.2815515655446",
            "text/plain": [
              "[1] 1.281552"
            ]
          },
          "metadata": {}
        }
      ]
    },
    {
      "cell_type": "markdown",
      "source": [
        "$x_α=1.28$\n",
        "\n",
        "$\\sqrt{50} \\frac{ c^*-2}{2}=1.28$\n",
        "\n",
        "$ c^*=2,362 $\n",
        "\n",
        "$ \\overline{X} = 0.5 $\n",
        "\n",
        "$ \\overline{X}<c^* $ - значит $ H_0 $ отвергаем, $ H_A $ принимаем\n",
        "\n",
        "Меняем местами гипотезы:\n",
        "\n",
        "$ H_0 ≡ Pois(λ_1) $\n",
        "\n",
        "$ H_A ≡  Pois(λ_0) $\n",
        "\n",
        "$ L( \\vec{X}, θ)= \\frac{ \\lambda^{\\sum_{i=1}^n X_i}}{X_1! \\cdot X_2! \\cdot ... \\cdot X_n!}e^{- nλ} $\n",
        "\n",
        "$ LR( \\vec{X})= (\\frac{λ_0}{λ_1})^{\\sum_{i=1}^n X_i} e^{- nλ_0+nλ_1}= (\\frac{λ_0}{λ_1})^{\\sum_{i=1}^n X_i} e^{n(λ_1-λ_0)}$\n",
        "\n",
        "В силу монотонности статистики LR относительно МДС $\\overline{X}$\n",
        "\n",
        "\n",
        "$LR(X)>c ⇔ \\overline{X}<c^* $\n",
        "\n",
        "$LR(X)<c ⇔ \\overline{X}>c^* $\n",
        "\n",
        "\n",
        "\n",
        "$ ϕ(x)=  \\begin{Bmatrix} 1;  \\overline{X}<c^* \\\\\n",
        " p;  \\overline{X}=c^*; \\\\0; \\overline{X}>c^* \\end{Bmatrix} $\n",
        "\n",
        "По ЦПТ:\n",
        "\n",
        "$ \\sqrt{n} \\frac{ \\overline{X}-EX}{DX} \\sim N(0,1) $\n",
        "\n",
        "$ EX=λ_1, DX=λ_1$\n",
        "\n",
        "$ \\sqrt{n} \\frac{ \\overline{X}-λ_1}{λ_1} \\sim N(0,1) $\n",
        "\n",
        "$ P(\\sqrt{n} \\frac{ \\overline{X}-λ_1}{λ_1} ≥\\sqrt{n} \\frac{ c^*-λ_1}{λ_1})=1-Ф(\\sqrt{n} \\frac{ c^*-λ_1}{λ_1})= α $\n",
        "\n",
        "$\\sqrt{n} \\frac{ c^*-λ_1}{λ_1}=x_α,  x_α: Ф(x_α)=1-α $\n",
        "\n",
        "$x_α=1.28$\n",
        "\n",
        "$\\sqrt{50} \\frac{ c^*-0.5}{0.5}=1.28$\n",
        "\n",
        "$ c^*=0.59 $\n",
        "\n",
        "$ \\overline{X} = 0.5 $\n",
        "\n",
        "$ \\overline{X}>c^* $ - значит $ H_0 $ отвергаем, $ H_A $ принимаем"
      ],
      "metadata": {
        "id": "tuzZfgjtxYST"
      }
    },
    {
      "cell_type": "markdown",
      "source": [
        "h (c) $ f_λ(X=k)= \\frac{λ^k}{(λ+1)^{k+1}} ; k \\in Z_+$\n",
        "\n",
        "ОМП\n",
        "\n",
        "$ L( \\vec{X}, θ)= \\frac{λ^{\\sum_{i=1}^n X_i}}{(λ+1)^{\\sum_{i=1}^n X_i+n}}$\n",
        "\n",
        "$ LL( \\vec{X}, θ)= \\sum_{i=1}^n X_i  lnλ-(\\sum_{i=1}^n X_i+n)ln(λ+1)$\n",
        "\n",
        "$ \\frac{\\partial LL}{\\partial λ} = \\frac{\\sum_{i=1}^n X_i}{λ}-\\frac{\\sum_{i=1}^n X_i+n}{λ+1}=0 $\n",
        "\n",
        "$ \\frac{\\sum_{i=1}^n X_i}{λ}=\\frac{\\sum_{i=1}^n X_i+n}{λ+1} $\n",
        "\n",
        "$ λ\\sum_{i=1}^n X_i+\\lambda n=\\sum_{i=1}^n X_iλ+\\sum_{i=1}^n X_i $\n",
        "\n",
        "$ \\hat{λ}=\\frac{\\sum_{i=1}^n X_i}{n}=\\overline{X} $\n",
        "\n",
        "МДС=$ \\sum_{i=1}^n X_i $ =ПДС, т.к. семейство экспотенциальных\n",
        "\n",
        "$ E\\hat{λ}=E\\frac{\\sum_{i=1}^n x_i}{n}= \\frac1{n}\\sum_{i=1}^n E X_i=\\frac1{n} \\cdot n \\cdot λ=λ $- оценка несмещенная\n",
        "\n",
        "ОММ\n",
        "\n",
        "$ EX_1=λ; M_1=λ= \\frac{\\sum_{i=1}^n X_i}{n} $\n",
        "\n",
        "$ \\hat{λ}= \\overline{X}=0,5 $\n",
        "\n"
      ],
      "metadata": {
        "id": "3ABOfuTwkpWc"
      }
    },
    {
      "cell_type": "markdown",
      "source": [
        "h(d)$ f(x)= \\frac{ \\lambda^x}{x!}e^{- λ} $\n",
        "\n",
        "ОМП\n",
        "\n",
        "$ L( \\vec{X}, θ)= \\frac{λ^{\\sum_{i=1}^n X_i}}{(λ+1)^{\\sum_{i=1}^n X_i+n}}$\n",
        "\n",
        "$ LL( \\vec{X}, θ)= \\sum_{i=1}^n X_i  lnλ-(\\sum_{i=1}^n X_i+n)ln(λ+1)$\n",
        "\n",
        "$ \\frac{\\partial LL}{\\partial λ} = \\frac{\\sum_{i=1}^n X_i}{λ}-\\frac{\\sum_{i=1}^n X_i+n}{λ+1}=0 $\n",
        "\n",
        "$ \\frac{\\sum_{i=1}^n X_i}{λ}=\\frac{\\sum_{i=1}^n X_i+n}{λ+1} $\n",
        "\n",
        "$ λ\\sum_{i=1}^n X_i+\\lambda n=\\sum_{i=1}^n X_iλ+\\sum_{i=1}^n X_i $\n",
        "\n",
        "$ \\sqrt{nI(\\hat{λ})}(\\hat{λ}-λ) \\sim N(0,1) $\n",
        "\n",
        "$ \\frac{\\partial^2 LL}{\\partial λ^2} =- \\frac{\\sum_{i=1}^n x_i}{λ^2}+\\frac{\\sum_{i=1}^n X_i+n}{(λ+1)^2} $\n",
        "\n",
        "$ I(λ)=-E(- \\frac{\\sum_{i=1}^n x_i}{λ^2}+\\frac{\\sum_{i=1}^n X_i+n}{(λ+1)^2}) $\n",
        "\n",
        "$ I(λ)=\\frac1{λ^2} \\sum_{i=1}^n E(X_i) - \\frac1{(λ+1)^2}\\sum_{i=1}^nE( X_i)-\\frac{n}{(λ+1)^2} $\n",
        "\n",
        "$ I(λ)=\\frac{n}{λ} -\\frac{nλ}{(λ+1)^2}-\\frac{n}{(λ+1)^2}=\\frac{n}{λ} -\\frac{nλ+n}{(λ+1)^2}  $\n",
        "\n",
        "$ \\sqrt{n \\cdot (\\frac{n}{\\hat{λ}} -\\frac{n\\hat{λ}+n}{(\\hat{λ}+1)^2} )}(\\hat{λ}-λ) \\sim N(0,1)  $\n",
        "\n",
        "$ \\sqrt{n \\cdot (\\frac{n}{\\overline{X}} -\\frac{n\\overline{X}+n}{(\\overline{X}+1)^2} )}(\\overline{X}-λ) \\sim N(0,1)  $\n",
        "\n",
        "\n",
        "$ x_{α}: Ф(x_{α})=1-\\frac{α}2=1-\\frac{0.1}2=0.95 $\n",
        "\n",
        "$ Ф(1,64)=0,9495 $ и $ Ф(1,65)=0,9505 $\n",
        "\n",
        "Возьмем $x_{α}=1.64$\n",
        "\n",
        "$ P(\\sqrt{n \\cdot (\\frac{n}{\\overline{X}} -\\frac{n\\overline{X}+n}{(\\overline{X}+1)^2} )}(\\overline{X}-λ) \\in [-x_{α};x_{α}] ) = 1- \\alpha = 0.9$\n",
        "\n",
        "$ -x_{α} \\frac1{\\sqrt{n \\cdot (\\frac{n}{\\overline{X}} -\\frac{n\\overline{X}+n}{(\\overline{X}+1)^2} )}}\\leq \\overline{X}-λ \\leq x_{α} \\frac1{\\sqrt{n \\cdot (\\frac{n}{\\overline{X}} -\\frac{n\\overline{X}+n}{(\\overline{X}+1)^2} )}}  $\n",
        "\n",
        "$ -x_{α} \\frac1{\\sqrt{n \\cdot (\\frac{n}{\\overline{X}} -\\frac{n\\overline{X}+n}{(\\overline{X}+1)^2} )}}-\\overline{X} \\leq -λ \\leq x_{α} \\frac1{\\sqrt{n \\cdot (\\frac{n}{\\overline{X}} -\\frac{n\\overline{X}+n}{(\\overline{X}+1)^2} )}} -\\overline{X} $\n",
        "\n",
        "$ -x_{α} \\frac1{\\sqrt{n \\cdot (\\frac{n}{\\overline{X}} -\\frac{n\\overline{X}+n}{(\\overline{X}+1)^2} )}}+\\overline{X} \\leq λ \\leq x_{α} \\frac1{\\sqrt{n \\cdot (\\frac{n}{\\overline{X}} -\\frac{n\\overline{X}+n}{(\\overline{X}+1)^2} )}} +\\overline{X} $\n",
        "\n",
        "$ -1.64 \\frac1{\\sqrt{50 \\cdot (\\frac{50}{0.5} -\\frac{50\\cdot 0.5+50}{(0.5+1)^2} )}}+0.5 \\leq λ \\leq 1.64 \\frac1{\\sqrt{50 \\cdot (\\frac{50}{0.5} -\\frac{50\\cdot 0.5+50}{(0.5+1)^2} )}} +0.5 $\n",
        "\n",
        "$ 0,471594 \\leq λ \\leq 0.528406$"
      ],
      "metadata": {
        "id": "exMgJ9H4ZigW"
      }
    },
    {
      "cell_type": "markdown",
      "source": [
        "h(e) $ H_0 ≡  f_{λ=2}(X=k)= \\frac{2^k}{(2+1)^{k+1}} ; k \\in Z_+ $\n",
        "\n",
        "$ H_A \\neq  f_{λ=2}(X=k)= \\frac{2^k}{(2+1)^{k+1}} ; k \\in Z_+  $\n",
        "\n",
        "Разобъем множество всех возможных значений СВ на интервалы\n",
        "\n",
        "$\\Delta_0 = 0, \\Delta_1 = 1, \\Delta_2 = 2, \\Delta_3 = [3, + \\infty)$\n",
        "\n",
        "Найдём верoятности попадания СВ в построенные интервалы.\n",
        "\n",
        "\n",
        "$p_0 = \\frac1{3}, p_1 = \\frac2{9}, p_2 = \\frac4{27}, p_{\\geq 3} = \\frac8{81}$\n",
        "\n",
        "$\\sum \\limits_{i=0}^6 p_i = 1$\n",
        "\n",
        "$\\;\\;\\;\\;$ $\\Delta_0$, $\\Delta_1$, $\\Delta_2$, $\\Delta_{\\geq 3}$\n",
        "\n",
        "$i$ $\\;\\;$  0,  $\\;\\;$1,   $\\;\\;\\;$2,  $\\;\\geq3$\n",
        "\n",
        "$n_i$ $\\;$33, 10, 6, $\\;$1\n",
        "\n",
        "$p_i$ $ \\frac1{3}, \\frac2{9}, \\frac4{27}, \\frac8{81}$\n",
        "\n",
        "$np_i$ $\\frac{50}{3}, \\frac{100}{9}, \\frac{200}{27}, \\frac{400}{81}$\n",
        "\n",
        "$\\frac{(n_i - np_i)^2}{np_i}$ 16.006, 0.1, 0.267, 3.141\n",
        "\n",
        "$\\chi^2_в = \\sum \\frac{(n_i - np_i)^2}{np_i} = 19.514$\n",
        "\n",
        "где\n",
        "\n",
        "$np_i$ ожидаемые частоты попадания в интервал.\n",
        "\n",
        "$\\alpha = 0.1$\n",
        "\n",
        "Найдём квантиль распределения $\\chi^2_{1 - \\alpha, r - 1}$, где\n",
        "\n",
        "$r$ - кол-во интервалов.\n",
        "\n",
        "$\\chi^2_{1 - 0.1, 4 - 1} = 6.251$\n",
        "\n",
        "$\\chi^2_в > \\chi^2_{0.9, 3}  \\Rightarrow H_0$  отвергается.\n",
        "\n"
      ],
      "metadata": {
        "id": "CRMjpqGa9fJ_"
      }
    },
    {
      "cell_type": "code",
      "source": [
        "print('Наибольший уровень значимости, при котором еще нет оснований отвергнуть гипотезу')\n",
        "print(1-pchisq(19.514,3))"
      ],
      "metadata": {
        "colab": {
          "base_uri": "https://localhost:8080/"
        },
        "id": "nY0Jn9FjAG_F",
        "outputId": "924d1d3b-f295-44d9-dbe9-fbf4a5d0127e"
      },
      "execution_count": 10,
      "outputs": [
        {
          "output_type": "stream",
          "name": "stdout",
          "text": [
            "[1] \"Наибольший уровень значимости, при котором еще нет оснований отвергнуть гипотезу\"\n",
            "[1] 0.0002140202\n"
          ]
        }
      ]
    },
    {
      "cell_type": "markdown",
      "source": [
        "h(f) $ H_0 ≡  f_{λ}(X=k)= \\frac{λ^k}{(λ+1)^{k+1}} ; k \\in Z_+ $\n",
        "\n",
        "$ H_A \\neq  f_{λ}(X=k)= \\frac{λ^k}{(λ+1)^{k+1}} ; k \\in Z_+  $\n",
        "\n",
        "Ожидаемые частоты зависят от параметра, который, в свою очередь, должен максимизировать функцию правдоподобия, следовательно за параметр возьмем оценку ОМП\n",
        "$ \\hat{λ}= \\overline{X}=0,5 $\n",
        "\n",
        "\n",
        "Разобъем множество всех возможных значений СВ на интервалы\n",
        "\n",
        "$\\Delta_0 = 0, \\Delta_1 = 1, \\Delta_2 = 2, \\Delta_3 = [3, + \\infty)$\n",
        "\n",
        "Найдём верoятности попадания СВ в построенные интервалы.\n",
        "\n",
        "\n",
        "$p_0 = \\frac2{3}, p_1 = \\frac2{9}, p_2 = \\frac2{27}, p_{\\geq 3} = \\frac2{81}$\n",
        "\n",
        "$\\sum \\limits_{i=0}^6 p_i = 1$\n",
        "\n",
        "$\\;\\;\\;\\;$ $\\Delta_0$, $\\Delta_1$, $\\Delta_2$, $\\Delta_{\\geq 3}$\n",
        "\n",
        "$i$ $\\;\\;$  0,  $\\;\\;$1,   $\\;\\;\\;$2,  $\\;\\geq3$\n",
        "\n",
        "$n_i$ $\\;$33, 10, 6, $\\;$1\n",
        "\n",
        "$p_i$ $ \\frac2{3}, \\frac2{9}, \\frac2{27}, \\frac2{81}$\n",
        "\n",
        "$np_i$ $\\frac{100}{3}, \\frac{100}{9}, \\frac{100}{27}, \\frac{100}{81}$\n",
        "\n",
        "$\\frac{(n_i - np_i)^2}{np_i}$ 0.0033, 0.1111, 1.4237, 0.0446\n",
        "\n",
        "$\\chi^2_в = \\sum \\frac{(n_i - np_i)^2}{np_i} = 1.5827$\n",
        "\n",
        "где\n",
        "\n",
        "$np_i$ ожидаемые частоты попадания в интервал.\n",
        "\n",
        "$\\alpha = 0.1$\n",
        "\n",
        "Найдём квантиль распределения $\\chi^2_{1 - \\alpha, r - 1-1}$, где\n",
        "\n",
        "$r$ - кол-во интервалов.\n",
        "\n",
        "$\\chi^2_{1 - 0.1, 4 - 1-1} = 4.60517$\n",
        "\n",
        "$\\chi^2_в < \\chi^2_{0.9, 2}  \\Rightarrow H_0$  не отвергается.\n"
      ],
      "metadata": {
        "id": "FflZiozAAmUx"
      }
    },
    {
      "cell_type": "code",
      "source": [
        "print('Наибольший уровень значимости, при котором еще нет оснований отвергнуть гипотезу')\n",
        "print(1-pchisq(1.5827,2))"
      ],
      "metadata": {
        "colab": {
          "base_uri": "https://localhost:8080/"
        },
        "id": "EKFF3WU1Kw8N",
        "outputId": "0578630f-d34d-480d-d049-472a6fcb6549"
      },
      "execution_count": 11,
      "outputs": [
        {
          "output_type": "stream",
          "name": "stdout",
          "text": [
            "[1] \"Наибольший уровень значимости, при котором еще нет оснований отвергнуть гипотезу\"\n",
            "[1] 0.4532325\n"
          ]
        }
      ]
    },
    {
      "cell_type": "markdown",
      "source": [
        "Таблица 2\n",
        "\n",
        "0.383 1.104 0.479 1.581 0.912 7.931 0.350 5.848 4.563 1.085 3.565 2.239 0.346 2.382 0.851 0.444 0.243 6.016 0.399 0.211 4.298\n",
        "0.410 2.201 4.140 0.917 0.564 5.507 6.145 4.577 3.748 0.267 0.143 1.792 0.381 1.133 3.618 4.132 0.755 0.870 0.513 0.932 1.579\n",
        "0.337 0.699 0.302 0.527 1.205 0.771 4.475 3.864\n",
        "\n",
        "а) Вариационный ряд"
      ],
      "metadata": {
        "id": "wskyxJ_NM5TB"
      }
    },
    {
      "cell_type": "code",
      "source": [
        "data1 = c(0.383, 1.104, 0.479, 1.581, 0.912, 7.931, 0.350, 5.848, 4.563, 1.085, 3.565, 2.239, 0.346, 2.382, 0.851, 0.444, 0.243, 6.016, 0.399, 0.211, 4.298, 0.410, 2.201, 4.140, 0.917, 0.564, 5.507, 6.145, 4.577, 3.748, 0.267, 0.143, 1.792, 0.381, 1.133, 3.618, 4.132, 0.755, 0.870, 0.513, 0.932, 1.579, 0.337, 0.699, 0.302, 0.527, 1.205, 0.771, 4.475, 3.864)\n",
        "var_data=sort(data1)\n",
        "var_data"
      ],
      "metadata": {
        "colab": {
          "base_uri": "https://localhost:8080/",
          "height": 52
        },
        "id": "tNwonM1DNYQy",
        "outputId": "5b518a21-9578-4b1a-fd24-5798fdcab143"
      },
      "execution_count": 12,
      "outputs": [
        {
          "output_type": "display_data",
          "data": {
            "text/html": [
              "<style>\n",
              ".list-inline {list-style: none; margin:0; padding: 0}\n",
              ".list-inline>li {display: inline-block}\n",
              ".list-inline>li:not(:last-child)::after {content: \"\\00b7\"; padding: 0 .5ex}\n",
              "</style>\n",
              "<ol class=list-inline><li>0.143</li><li>0.211</li><li>0.243</li><li>0.267</li><li>0.302</li><li>0.337</li><li>0.346</li><li>0.35</li><li>0.381</li><li>0.383</li><li>0.399</li><li>0.41</li><li>0.444</li><li>0.479</li><li>0.513</li><li>0.527</li><li>0.564</li><li>0.699</li><li>0.755</li><li>0.771</li><li>0.851</li><li>0.87</li><li>0.912</li><li>0.917</li><li>0.932</li><li>1.085</li><li>1.104</li><li>1.133</li><li>1.205</li><li>1.579</li><li>1.581</li><li>1.792</li><li>2.201</li><li>2.239</li><li>2.382</li><li>3.565</li><li>3.618</li><li>3.748</li><li>3.864</li><li>4.132</li><li>4.14</li><li>4.298</li><li>4.475</li><li>4.563</li><li>4.577</li><li>5.507</li><li>5.848</li><li>6.016</li><li>6.145</li><li>7.931</li></ol>\n"
            ],
            "text/markdown": "1. 0.143\n2. 0.211\n3. 0.243\n4. 0.267\n5. 0.302\n6. 0.337\n7. 0.346\n8. 0.35\n9. 0.381\n10. 0.383\n11. 0.399\n12. 0.41\n13. 0.444\n14. 0.479\n15. 0.513\n16. 0.527\n17. 0.564\n18. 0.699\n19. 0.755\n20. 0.771\n21. 0.851\n22. 0.87\n23. 0.912\n24. 0.917\n25. 0.932\n26. 1.085\n27. 1.104\n28. 1.133\n29. 1.205\n30. 1.579\n31. 1.581\n32. 1.792\n33. 2.201\n34. 2.239\n35. 2.382\n36. 3.565\n37. 3.618\n38. 3.748\n39. 3.864\n40. 4.132\n41. 4.14\n42. 4.298\n43. 4.475\n44. 4.563\n45. 4.577\n46. 5.507\n47. 5.848\n48. 6.016\n49. 6.145\n50. 7.931\n\n\n",
            "text/latex": "\\begin{enumerate*}\n\\item 0.143\n\\item 0.211\n\\item 0.243\n\\item 0.267\n\\item 0.302\n\\item 0.337\n\\item 0.346\n\\item 0.35\n\\item 0.381\n\\item 0.383\n\\item 0.399\n\\item 0.41\n\\item 0.444\n\\item 0.479\n\\item 0.513\n\\item 0.527\n\\item 0.564\n\\item 0.699\n\\item 0.755\n\\item 0.771\n\\item 0.851\n\\item 0.87\n\\item 0.912\n\\item 0.917\n\\item 0.932\n\\item 1.085\n\\item 1.104\n\\item 1.133\n\\item 1.205\n\\item 1.579\n\\item 1.581\n\\item 1.792\n\\item 2.201\n\\item 2.239\n\\item 2.382\n\\item 3.565\n\\item 3.618\n\\item 3.748\n\\item 3.864\n\\item 4.132\n\\item 4.14\n\\item 4.298\n\\item 4.475\n\\item 4.563\n\\item 4.577\n\\item 5.507\n\\item 5.848\n\\item 6.016\n\\item 6.145\n\\item 7.931\n\\end{enumerate*}\n",
            "text/plain": [
              " [1] 0.143 0.211 0.243 0.267 0.302 0.337 0.346 0.350 0.381 0.383 0.399 0.410\n",
              "[13] 0.444 0.479 0.513 0.527 0.564 0.699 0.755 0.771 0.851 0.870 0.912 0.917\n",
              "[25] 0.932 1.085 1.104 1.133 1.205 1.579 1.581 1.792 2.201 2.239 2.382 3.565\n",
              "[37] 3.618 3.748 3.864 4.132 4.140 4.298 4.475 4.563 4.577 5.507 5.848 6.016\n",
              "[49] 6.145 7.931"
            ]
          },
          "metadata": {}
        }
      ]
    },
    {
      "cell_type": "markdown",
      "source": [
        "Эмпирическая функция распределения"
      ],
      "metadata": {
        "id": "gH-7n58UOM4m"
      }
    },
    {
      "cell_type": "code",
      "source": [
        "n1 = length(var_data)\n",
        "plot(var_data, (1:n1)/n1, type=\"S\", col=\"seagreen\", main=\"Эмпирическая функция распределения\")"
      ],
      "metadata": {
        "colab": {
          "base_uri": "https://localhost:8080/",
          "height": 437
        },
        "id": "RT21Qo6uOxie",
        "outputId": "a0fcff79-e27c-4d59-e884-c99c4d8b4b27"
      },
      "execution_count": 13,
      "outputs": [
        {
          "output_type": "display_data",
          "data": {
            "text/plain": [
              "Plot with title “Эмпирическая функция распределения”"
            ],
            "image/png": "[encoded data removed]"
          },
          "metadata": {
            "image/png": {
              "width": 420,
              "height": 420
            }
          }
        }
      ]
    },
    {
      "cell_type": "markdown",
      "source": [
        "Гистограмма"
      ],
      "metadata": {
        "id": "4cHosPACPT5v"
      }
    },
    {
      "cell_type": "code",
      "source": [
        "\n",
        "h=0.8\n",
        "count=(max(var_data)-min(var_data))/h\n",
        "library(lattice)\n",
        "hist= hist(var_data, breaks=count,freq=FALSE)\n",
        "str(hist)"
      ],
      "metadata": {
        "colab": {
          "base_uri": "https://localhost:8080/",
          "height": 583
        },
        "id": "jt86h4d5PMB6",
        "outputId": "7153e6de-e6b6-4480-e587-383261d8653c"
      },
      "execution_count": 31,
      "outputs": [
        {
          "output_type": "stream",
          "name": "stdout",
          "text": [
            "List of 6\n",
            " $ breaks  : num [1:9] 0 1 2 3 4 5 6 7 8\n",
            " $ counts  : int [1:8] 25 7 3 4 6 2 2 1\n",
            " $ density : num [1:8] 0.5 0.14 0.06 0.08 0.12 0.04 0.04 0.02\n",
            " $ mids    : num [1:8] 0.5 1.5 2.5 3.5 4.5 5.5 6.5 7.5\n",
            " $ xname   : chr \"var_data\"\n",
            " $ equidist: logi TRUE\n",
            " - attr(*, \"class\")= chr \"histogram\"\n"
          ]
        },
        {
          "output_type": "display_data",
          "data": {
            "text/plain": [
              "Plot with title “Histogram of var_data”"
            ],
            "image/png": "[encoded data removed]"
          },
          "metadata": {
            "image/png": {
              "width": 420,
              "height": 420
            }
          }
        }
      ]
    },
    {
      "cell_type": "markdown",
      "source": [
        "Полигон частот с шагом 0,8"
      ],
      "metadata": {
        "id": "n8bknZ_lPpib"
      }
    },
    {
      "cell_type": "code",
      "source": [
        "library(KernSmooth)\n",
        "\n",
        "nbins = seq(min(var_data), max(var_data) + 0.8, by = 0.8)\n",
        "\n",
        "h1=hist(var_data, breaks = nbins,plot=FALSE,freq=FALSE)\n",
        "plot(h1$counts ~ h1$mids, col=\"red\", type=\"l\", bty=\"n\", main=\"Полигон частот для x\", xlab=\"x\", ylab=\"Частота\")"
      ],
      "metadata": {
        "colab": {
          "base_uri": "https://localhost:8080/",
          "height": 473
        },
        "id": "zSZA7psmOFZ-",
        "outputId": "1466e793-22c2-497e-f26e-d6a9a9f8b6ab"
      },
      "execution_count": 32,
      "outputs": [
        {
          "output_type": "stream",
          "name": "stderr",
          "text": [
            "Warning message in hist.default(var_data, breaks = nbins, plot = FALSE, freq = FALSE):\n",
            "“argument ‘freq’ is not made use of”\n"
          ]
        },
        {
          "output_type": "display_data",
          "data": {
            "text/plain": [
              "Plot with title “Полигон частот для x”"
            ],
            "image/png": "[encoded data removed]"
          },
          "metadata": {
            "image/png": {
              "width": 420,
              "height": 420
            }
          }
        }
      ]
    },
    {
      "cell_type": "markdown",
      "source": [
        "b) Математическое ожидание, дисперсия, СКО, ассиметрия, эксцесс"
      ],
      "metadata": {
        "id": "CuG0km-TTxTk"
      }
    },
    {
      "cell_type": "code",
      "source": [
        "print(\"Математическое ожидание\")\n",
        "mean(var_data)\n",
        "print(\"Дисперсия\")\n",
        "var(var_data)\n",
        "print(\"СКО\")\n",
        "sd(var_data)\n",
        "print(\"Ассиметрия\")\n",
        "install.packages(\"PerformanceAnalytics\")\n",
        "library(PerformanceAnalytics)\n",
        "skewness(var_data)\n",
        "print(\"Эксцесс\")\n",
        "kurtosis(var_data)"
      ],
      "metadata": {
        "colab": {
          "base_uri": "https://localhost:8080/",
          "height": 250
        },
        "id": "kqmAKOnPUWYw",
        "outputId": "bb1ddc68-f546-410c-9b7e-6e4f8817d984"
      },
      "execution_count": 16,
      "outputs": [
        {
          "output_type": "stream",
          "name": "stdout",
          "text": [
            "[1] \"Математическое ожидание\"\n"
          ]
        },
        {
          "output_type": "display_data",
          "data": {
            "text/html": [
              "2.03468"
            ],
            "text/markdown": "2.03468",
            "text/latex": "2.03468",
            "text/plain": [
              "[1] 2.03468"
            ]
          },
          "metadata": {}
        },
        {
          "output_type": "stream",
          "name": "stdout",
          "text": [
            "[1] \"Дисперсия\"\n"
          ]
        },
        {
          "output_type": "display_data",
          "data": {
            "text/html": [
              "4.09657695673469"
            ],
            "text/markdown": "4.09657695673469",
            "text/latex": "4.09657695673469",
            "text/plain": [
              "[1] 4.096577"
            ]
          },
          "metadata": {}
        },
        {
          "output_type": "stream",
          "name": "stdout",
          "text": [
            "[1] \"СКО\"\n"
          ]
        },
        {
          "output_type": "display_data",
          "data": {
            "text/html": [
              "2.02400023634749"
            ],
            "text/markdown": "2.02400023634749",
            "text/latex": "2.02400023634749",
            "text/plain": [
              "[1] 2.024"
            ]
          },
          "metadata": {}
        },
        {
          "output_type": "stream",
          "name": "stdout",
          "text": [
            "[1] \"Ассиметрия\"\n"
          ]
        },
        {
          "output_type": "stream",
          "name": "stderr",
          "text": [
            "Installing package into ‘/usr/local/lib/R/site-library’\n",
            "(as ‘lib’ is unspecified)\n",
            "\n"
          ]
        },
        {
          "output_type": "display_data",
          "data": {
            "text/html": [
              "1.08013236616655"
            ],
            "text/markdown": "1.08013236616655",
            "text/latex": "1.08013236616655",
            "text/plain": [
              "[1] 1.080132"
            ]
          },
          "metadata": {}
        },
        {
          "output_type": "stream",
          "name": "stdout",
          "text": [
            "[1] \"Эксцесс\"\n"
          ]
        },
        {
          "output_type": "display_data",
          "data": {
            "text/html": [
              "0.0659440743089776"
            ],
            "text/markdown": "0.0659440743089776",
            "text/latex": "0.0659440743089776",
            "text/plain": [
              "[1] 0.06594407"
            ]
          },
          "metadata": {}
        }
      ]
    },
    {
      "cell_type": "markdown",
      "source": [
        "Медиана"
      ],
      "metadata": {
        "id": "qOqOmASMVymc"
      }
    },
    {
      "cell_type": "code",
      "source": [
        "median(var_data)"
      ],
      "metadata": {
        "colab": {
          "base_uri": "https://localhost:8080/",
          "height": 34
        },
        "id": "6kpCZ9yRV0k0",
        "outputId": "87d35533-aaa1-4481-fe2a-573f85d3527b"
      },
      "execution_count": 17,
      "outputs": [
        {
          "output_type": "display_data",
          "data": {
            "text/html": [
              "1.0085"
            ],
            "text/markdown": "1.0085",
            "text/latex": "1.0085",
            "text/plain": [
              "[1] 1.0085"
            ]
          },
          "metadata": {}
        }
      ]
    },
    {
      "cell_type": "markdown",
      "source": [
        "Вероятность попадания в интервал"
      ],
      "metadata": {
        "id": "7psvIk2kY2Ax"
      }
    },
    {
      "cell_type": "code",
      "source": [
        "print(\"Вероятность попадания в интервал\")\n",
        "f=ecdf(var_data)\n",
        "f(3.60)-f(1.20)\n"
      ],
      "metadata": {
        "colab": {
          "base_uri": "https://localhost:8080/",
          "height": 53
        },
        "id": "plW7FmK_XcFR",
        "outputId": "e9c304b4-0f4e-458f-dd4a-db4723bf5a6f"
      },
      "execution_count": 18,
      "outputs": [
        {
          "output_type": "stream",
          "name": "stdout",
          "text": [
            "[1] \"Вероятность попадания в интервал\"\n"
          ]
        },
        {
          "output_type": "display_data",
          "data": {
            "text/html": [
              "0.16"
            ],
            "text/markdown": "0.16",
            "text/latex": "0.16",
            "text/plain": [
              "[1] 0.16"
            ]
          },
          "metadata": {}
        }
      ]
    },
    {
      "cell_type": "code",
      "source": [
        "length(var_data)"
      ],
      "metadata": {
        "colab": {
          "base_uri": "https://localhost:8080/",
          "height": 34
        },
        "id": "xQqkc-y5smv4",
        "outputId": "786cae3d-2ac5-4eeb-a8ed-fc9d7957d743"
      },
      "execution_count": 19,
      "outputs": [
        {
          "output_type": "display_data",
          "data": {
            "text/html": [
              "50"
            ],
            "text/markdown": "50",
            "text/latex": "50",
            "text/plain": [
              "[1] 50"
            ]
          },
          "metadata": {}
        }
      ]
    },
    {
      "cell_type": "markdown",
      "source": [
        "c) $ f(x)= \\lambda e^{- λx} $ при $ x ≥0 $\n",
        "\n",
        "ОМП\n",
        "\n",
        "Учитывая $ x ≥0 $ пишем без индикатора\n",
        "\n",
        "$ L( \\vec{X}, θ)= λ^ne^{-λ\\sum_{i=1}^n X_i} $\n",
        "\n",
        "$ LL( \\vec{X}, θ)= nln( λ) - λ\\sum_{i=1}^n X_i $\n",
        "\n",
        "$ \\frac{\\partial LL}{\\partial λ} = \\frac{n}{λ}-\\sum_{i=1}^n X_i=0 $\n",
        "\n",
        "$ \\hat{λ}=\\frac{n}{\\sum_{i=1}^n X_i}=\\frac1{\\overline{X}}=0,4915 $\n",
        "\n",
        "\n",
        "МДС=$ \\sum_{i=1}^n X_i $ =ПДС, т.к. семейство экспотенциальных\n",
        "\n",
        "$ E\\hat{λ}=E\\frac{n}{\\sum_{i=1}^n X_i}= n E \\frac1{\\sum_{i=1}^n X_i} $\n",
        "\n",
        "$ \\sum_{i=1}^n X_i \\sim Gamma(n, \\frac1{λ}) $\n",
        "\n",
        "$ γ=-1, α=n, β= \\frac1{λ} $\n",
        "\n",
        "$ n E \\frac1{\\sum_{i=1}^n X_i}=n (\\frac1{λ})^{-1} \\frac{Г(-1+n)}{Г(n)}=\\frac{nλ}{n-1} =2.0762$ - оценка смещенная\n",
        "\n",
        "$ \\hat{\\hat{λ}}=\\frac{(n-1)\\hat{λ}}{n}=\\frac{(n-1)\\overline{X}}{n}=\\frac{(50-1)2.03468}{50}=1,994 $\n",
        "\n",
        "ОММ\n",
        "\n",
        "$ EX_1=\\frac1{λ}=M_1 $\n",
        "\n",
        "$ λ= \\frac1{\\overline{X}}=0,4915 $"
      ],
      "metadata": {
        "id": "uMWYeWyKZRaI"
      }
    },
    {
      "cell_type": "markdown",
      "source": [
        "d)$ f(x)= \\lambda e^{- λx} $ при $ x ≥0 $\n",
        "\n",
        "ОМП\n",
        "\n",
        "Учитывая $ x ≥0 $ пишем без индикатора\n",
        "\n",
        "$ L( \\vec{X}, θ)= λ^ne^{-λ\\sum_{i=1}^n X_i} $\n",
        "\n",
        "$ LL( \\vec{X}, θ)= nln( λ) - λ\\sum_{i=1}^n X_i $\n",
        "\n",
        "$ \\frac{\\partial LL}{\\partial λ} = \\frac{n}{λ}-\\sum_{i=1}^n X_i=0 $\n",
        "\n",
        "$ \\hat{λ}=\\frac{n}{\\sum_{i=1}^n X_i}=\\frac1{\\overline{X}} $\n",
        "\n",
        "\n",
        "$ \\sqrt{nI(\\hat{λ})}(\\hat{λ}-λ) \\sim N(0,1) $\n",
        "\n",
        "$ \\frac{\\partial^2 LL}{\\partial λ^2} =- \\frac{n}{λ^2} $\n",
        "\n",
        "$ I(λ)=-E(- \\frac{n}{λ^2})= \\frac{n}{λ^2} $\n",
        "\n",
        "$ \\sqrt{n \\cdot (\\frac{n}{\\hat{λ^2}})}(\\hat{λ}-λ) \\sim N(0,1)  $\n",
        "\n",
        "$ \\sqrt{\\frac{n^2}{(\\overline{X})^2}}(\\overline{X}-λ) \\sim N(0,1)  $\n",
        "\n",
        "$ x_{α}: Ф(x_{α})=1-\\frac{α}2=1-\\frac{0.05}2=0.975 $\n",
        "\n",
        "$ Ф(1,96)=0,9750 $  \n",
        "\n",
        " $x_{α}=1.96$\n",
        "\n",
        "$ P(\\sqrt{\\frac{n^2}{(\\overline{X})^2}}(\\overline{X}-λ) \\in [-x_{α};x_{α}] ) = 1- \\alpha = 0.95$\n",
        "\n",
        "$ -x_{α} \\sqrt{\\frac{(\\overline{X})^2}{n^2}} \\leq \\overline{X}-λ \\leq x_{α} \\sqrt{\\frac{(\\overline{X})^2}{n^2}}  $\n",
        "\n",
        "$ -x_{α} \\sqrt{\\frac{(\\overline{X})^2}{n^2}}-\\overline{X} \\leq -λ \\leq x_{α} \\sqrt{\\frac{(\\overline{X})^2}{n^2}} -\\overline{X} $\n",
        "\n",
        "$ -x_{α} \\sqrt{\\frac{(\\overline{X})^2}{n^2}}+\\overline{X} \\leq λ \\leq x_{α} \\sqrt{\\frac{(\\overline{X})^2}{n^2}} +\\overline{X} $\n",
        "\n",
        "$ -1.96 \\sqrt{\\frac{2.03468^2}{50^2}}+2.03468 \\leq λ \\leq 1.96 \\sqrt{\\frac{2.03468^2}{50^2}} +2.03468 $\n",
        "\n",
        "$ 1,95492\\leq λ \\leq 2,11444$"
      ],
      "metadata": {
        "id": "zlLQWLYvr8vv"
      }
    },
    {
      "cell_type": "markdown",
      "source": [
        "e) $ λ_0=0.2$"
      ],
      "metadata": {
        "id": "As2C5fT_vqgG"
      }
    },
    {
      "cell_type": "code",
      "source": [
        "ks.test(var_data, \"pexp\",0.2)"
      ],
      "metadata": {
        "colab": {
          "base_uri": "https://localhost:8080/",
          "height": 126
        },
        "id": "WjISCrWbvw3n",
        "outputId": "8e2c3862-8f05-4c4f-8431-768242b54d85"
      },
      "execution_count": 20,
      "outputs": [
        {
          "output_type": "display_data",
          "data": {
            "text/plain": [
              "\n",
              "\tExact one-sample Kolmogorov-Smirnov test\n",
              "\n",
              "data:  var_data\n",
              "D = 0.36584, p-value = 1.659e-06\n",
              "alternative hypothesis: two-sided\n"
            ]
          },
          "metadata": {}
        }
      ]
    },
    {
      "cell_type": "markdown",
      "source": [
        "Поскольку p-value = 1.659e-06 сильно меньше уровня значимости 0.05, то гипотезу отвергаем.\n",
        "\n",
        "Наибольший уровень значимости, при котором нет основания отвергнуть гипотезу 1.659e-06\n",
        "\n"
      ],
      "metadata": {
        "id": "SjKw2HWeypeA"
      }
    },
    {
      "cell_type": "markdown",
      "source": [
        "$\\;\\;\\;\\;$ $\\Delta_0$, $\\Delta_1$, $\\Delta_2$, $\\Delta_3$, $\\Delta_4$\n",
        "\n",
        "$i$ $  [0,1],  (1,2],   (2,4] ,(4, 5], (5,+∞)$\n",
        "\n",
        "$n_i$ $25, 7, 7, 6, 5$\n",
        "\n",
        "$p_i0$ $  0.1813,  0.1484,  0.220,  0.0814, 0.3689$\n",
        "\n",
        "$p_i$ $  0.5,  0.14,  0.14,  0.12, 0.1$\n",
        "\n",
        "\n",
        "$f_i0$ $ 0, 0.1813,  0.3297,  0.5497,  0.6311, 1$\n",
        "\n",
        "$f_i$ $  0, 0.5,  0.64,  0.78,  0.9, 1$\n",
        "\n",
        "$d_i$ $ 0.3187, 0.3103, 0.2303, 0.2689, 0$\n",
        "\n",
        "$ D_n= 0.3187$ (несильно, но отличается от программной функции, скорее всего засчет разного разбиения на интервалы)\n",
        "\n",
        "$ \\sqrt{n} D_n= \\sqrt{50} \\cdot 0.3187=2.25355$\n",
        "\n",
        "Квантиль Колмагорова $ d_{0.95}=1.36 $\n",
        "\n",
        "2.25355>1.36 - гипотеза отвергается"
      ],
      "metadata": {
        "id": "4oPXR5BR1jkX"
      }
    },
    {
      "cell_type": "markdown",
      "source": [
        "f)$ H_0 ≡ 0.2 e^{- 0.2x} $\n",
        "\n",
        "$ H_A \\neq  0.2 e^{- 0.2x} $\n",
        "\n",
        "Разобъем множество всех возможных значений СВ на интервалы\n",
        "\n",
        "$\\Delta_0 = [0,1], \\Delta_1 = (1,2], \\Delta_2 = (2,4] \\Delta_3 = (4, 5], \\Delta_4 = (5,+∞)$\n",
        "\n",
        "Найдём верoятности попадания СВ в построенные интервалы.\n",
        "\n",
        "$p_k = P(x_1<\\xi <x_2 ) =  e^{- 0.2x_1}- e^{- 0.2x_2}$\n",
        "\n",
        "$p_0 = 0.1813, p_1 = 0.1484, p_2 = 0.220, p_3 = 0.0814, p_4=0.3689$\n",
        "\n",
        "$\\sum \\limits_{i=0}^6 p_i = 1$\n",
        "\n",
        "$\\;\\;\\;\\;$ $\\Delta_0$, $\\Delta_1$, $\\Delta_2$, $\\Delta_3$, $\\Delta_4$\n",
        "\n",
        "$i$ $  [0,1],  (1,2],   (2,4] ,(4, 5], (5,+∞)$\n",
        "\n",
        "$n_i$ $25, 7, 7, 6, 5$\n",
        "\n",
        "$p_i$ $  0.1813,  0.1484,  0.220,  0.0814, 0.3689$\n",
        "\n",
        "$np_i$ 9.065, 7.42, 11, 4.07, 18.445\n",
        "\n",
        "$\\frac{(n_i - np_i)^2}{np_i}$ 28,01, 0.02, 1.45, 0.915, 9.8\n",
        "\n",
        "$\\chi^2_в = \\sum \\frac{(n_i - np_i)^2}{np_i} = 40,195$\n",
        "\n",
        "где\n",
        "\n",
        "$np_i$ ожидаемые частоты попадания в интервал.\n",
        "\n",
        "$\\alpha = 0.05$\n",
        "\n",
        "Найдём квантиль распределения $\\chi^2_{1 - \\alpha, r - 1}$, где\n",
        "\n",
        "$r$ - кол-во интервалов.\n",
        "\n",
        "$\\chi^2_{1 - 0.05, 5- 1} = 9.487729$\n",
        "\n",
        "$\\chi^2_в > \\chi^2_{0.95, 4}  \\Rightarrow H_0$  отвергается.\n",
        "\n"
      ],
      "metadata": {
        "id": "UcTzhcUdEoBe"
      }
    },
    {
      "cell_type": "code",
      "source": [
        "print(qchisq(p = 0.95, df = 4))"
      ],
      "metadata": {
        "colab": {
          "base_uri": "https://localhost:8080/"
        },
        "id": "WwrbqW24MCaK",
        "outputId": "8677e3ba-f494-47bf-b62e-f6c7b56d578a"
      },
      "execution_count": 21,
      "outputs": [
        {
          "output_type": "stream",
          "name": "stdout",
          "text": [
            "[1] 9.487729\n"
          ]
        }
      ]
    },
    {
      "cell_type": "code",
      "source": [
        "print('Наибольший уровень значимости, при котором еще нет оснований отвергнуть гипотезу')\n",
        "print(1-pchisq(40.195,4))"
      ],
      "metadata": {
        "colab": {
          "base_uri": "https://localhost:8080/"
        },
        "id": "EfmGzMHuMTJb",
        "outputId": "0454941d-dfb4-4051-f1be-aa3f133e3137"
      },
      "execution_count": 22,
      "outputs": [
        {
          "output_type": "stream",
          "name": "stdout",
          "text": [
            "[1] \"Наибольший уровень значимости, при котором еще нет оснований отвергнуть гипотезу\"\n",
            "[1] 3.944552e-08\n"
          ]
        }
      ]
    },
    {
      "cell_type": "markdown",
      "source": [
        "g)$ H_0 ≡ λ e^{- λx} $\n",
        "\n",
        "$ H_A \\neq  λ e^{- λx} $\n",
        "\n",
        "Ожидаемые частоты зависят от параметра, который, в свою очередь, должен максимизировать функцию правдоподобия, следовательно за параметр возьмем оценку ОМП $ \\hat{λ}=\\frac1{\\overline{X}}=0,4915 $\n",
        "\n",
        "Разобъем множество всех возможных значений СВ на интервалы\n",
        "\n",
        "$\\Delta_0 = [0,1], \\Delta_1 = (1,2], \\Delta_2 = (2,4] \\Delta_3 = (4, 5], \\Delta_4 = (5,+∞)$\n",
        "\n",
        "Найдём верoятности попадания СВ в построенные интервалы.\n",
        "\n",
        "$p_k = P(x_1<\\xi <x_2 ) =  e^{- 0,4915x_1}- e^{- 0,4915x_2}$\n",
        "\n",
        "$p_0 = 0.388, p_1 = 0.237, p_2 = 0.234, p_3 = 0.054, p_4=0.087$\n",
        "\n",
        "$\\sum \\limits_{i=0}^6 p_i = 1$\n",
        "\n",
        "$\\;\\;\\;\\;$ $\\Delta_0$, $\\Delta_1$, $\\Delta_2$, $\\Delta_3$, $\\Delta_4$\n",
        "\n",
        "$i$ $  [0,1],  (1,2],   (2,4] ,(4, 5], (5,+∞)$\n",
        "\n",
        "$n_i$ $25, 7, 7, 6, 5$\n",
        "\n",
        "$p_i$ $   0.388,  0.237,  0.234,  0.054, 0.087$\n",
        "\n",
        "$np_i$ 19.4, 11.85, 11.7, 2.7, 4.35\n",
        "\n",
        "$\\frac{(n_i - np_i)^2}{np_i}$ 1,61, 1.985, 1.889, 4.03, 0.097\n",
        "\n",
        "$\\chi^2_в = \\sum \\frac{(n_i - np_i)^2}{np_i} = 9,611$\n",
        "\n",
        "где\n",
        "\n",
        "$np_i$ ожидаемые частоты попадания в интервал.\n",
        "\n",
        "$\\alpha = 0.05$\n",
        "\n",
        "Найдём квантиль распределения $\\chi^2_{1 - \\alpha, r - 1-1}$, где\n",
        "\n",
        "$r$ - кол-во интервалов.\n",
        "\n",
        "$\\chi^2_{1 - 0.05, 5- 1-1} = 7.814728$\n",
        "\n",
        "$\\chi^2_в > \\chi^2_{0.95, 3}  \\Rightarrow H_0$  отвергается.\n",
        "\n"
      ],
      "metadata": {
        "id": "6mnGJqIrMe9h"
      }
    },
    {
      "cell_type": "code",
      "source": [
        "print(qchisq(p = 0.95, df = 3))"
      ],
      "metadata": {
        "colab": {
          "base_uri": "https://localhost:8080/"
        },
        "id": "DA9bFJz0Oof0",
        "outputId": "1c139e73-17d0-473c-d506-c989bf559805"
      },
      "execution_count": 23,
      "outputs": [
        {
          "output_type": "stream",
          "name": "stdout",
          "text": [
            "[1] 7.814728\n"
          ]
        }
      ]
    },
    {
      "cell_type": "code",
      "source": [
        "print('Наибольший уровень значимости, при котором еще нет оснований отвергнуть гипотезу')\n",
        "print(1-pchisq(9.611,3))"
      ],
      "metadata": {
        "colab": {
          "base_uri": "https://localhost:8080/"
        },
        "id": "d-oXrWf3Oipj",
        "outputId": "3684e9fa-f777-40b5-900c-53b242fcd29e"
      },
      "execution_count": 24,
      "outputs": [
        {
          "output_type": "stream",
          "name": "stdout",
          "text": [
            "[1] \"Наибольший уровень значимости, при котором еще нет оснований отвергнуть гипотезу\"\n",
            "[1] 0.02217936\n"
          ]
        }
      ]
    },
    {
      "cell_type": "markdown",
      "source": [
        "h) $ H_0 ≡ λ^0 e^{- λ^0x} $\n",
        "\n",
        "$ H_A ≡  λ^1 e^{- λ^1x} $\n",
        "\n",
        "$ L( \\vec{X}, θ)= λ^ne^{-λ\\sum_{i=1}^n X_i} $\n",
        "\n",
        "$ LR( \\vec{X}, θ)=(\\frac{ λ_1}{λ_0})^ne^{-λ_1\\sum_{i=1}^n X_i+λ_0\\sum_{i=1}^n X_i} $\n",
        "\n",
        "$ LR( \\vec{X}, θ)=(\\frac{ λ_1}{λ_0})^ne^{\\sum_{i=1}^n X_i\n",
        "(λ_0-λ_1)}>c $\n",
        "\n",
        "$ (\\frac{ λ_1}{λ_0})^ne^{\\sum_{i=1}^n X_i\n",
        "(λ_0-λ_1)}>c $\n",
        "\n",
        "$ nln(\\frac{ λ_1}{λ_0})+{\\sum_{i=1}^n X_i\n",
        "(λ_0-λ_1)}>c $\n",
        "\n",
        "$ {\\sum_{i=1}^n X_i\n",
        "(λ_0-λ_1)}>c-nln(\\frac{ λ_1}{λ_0})$\n",
        "\n",
        "Так как $ (λ_0-λ_1)<0 $, знак меняется\n",
        "\n",
        "$ {\\sum_{i=1}^n X_i\n",
        "}<\\frac{c-nln(\\frac{ λ_1}{λ_0})}{(λ_0-λ_1)}$\n",
        "\n",
        "$ \\frac{{\\sum_{i=1}^n X_i\n",
        "}}{n}<\\frac{c-nln(\\frac{ λ_1}{λ_0})}{n(λ_0-λ_1)}$\n",
        "\n",
        "В силу монотонности статистики LR относительно МДС $\\overline{X}$\n",
        "\n",
        "$LR(X)>c ⇔ \\overline{X}<c^* $\n",
        "\n",
        "$LR(X)<c ⇔ \\overline{X}>c^* $\n",
        "\n",
        "\n",
        "\n",
        "$ ϕ(x)=  \\begin{Bmatrix} 1;  \\overline{X}<c^* \\\\\n",
        " p;  \\overline{X}=c^*; \\\\0; \\overline{X}>c^* \\end{Bmatrix} $\n",
        "\n",
        "По ЦПТ:\n",
        "\n",
        "$ \\sqrt{n} \\frac{ \\overline{X}-EX}{DX} \\sim N(0,1) $\n",
        "\n",
        "$ EX=\\frac1{λ_0}, DX=\\frac1{(λ_0)^2}$\n",
        "\n",
        "$ \\sqrt{n} \\frac{ \\overline{X}-\\frac1{λ_0}}{\\frac1{(λ_0)^2}} \\sim N(0,1) $\n",
        "\n",
        "$ P(\\sqrt{n} \\frac{ \\overline{X}-\\frac1{λ_0}}{\\frac1{(λ_0)^2}} ≥\\sqrt{n} \\frac{ c^*-\\frac1{λ_0}}{\\frac1{(λ_0)^2}})=1-Ф(\\sqrt{n} \\frac{ c^*-\\frac1{λ_0}}{\\frac1{(λ_0)^2}})= α $\n",
        "\n",
        "$\\sqrt{n} \\frac{ c^*-\\frac1{λ_0}}{\\frac1{(λ_0)^2}}=x_α,  x_α: Ф(x_α)=1-α $"
      ],
      "metadata": {
        "id": "FrdeRK96Hwe5"
      }
    },
    {
      "cell_type": "code",
      "source": [
        "qnorm(p = 0.95,0,1)"
      ],
      "metadata": {
        "colab": {
          "base_uri": "https://localhost:8080/",
          "height": 34
        },
        "id": "sL3ZA7psNnR9",
        "outputId": "f769e880-89dd-4034-c6d0-601ab06ec821"
      },
      "execution_count": 25,
      "outputs": [
        {
          "output_type": "display_data",
          "data": {
            "text/html": [
              "1.64485362695147"
            ],
            "text/markdown": "1.64485362695147",
            "text/latex": "1.64485362695147",
            "text/plain": [
              "[1] 1.644854"
            ]
          },
          "metadata": {}
        }
      ]
    },
    {
      "cell_type": "markdown",
      "source": [
        "$x_α=1.64$\n",
        "\n",
        "$\\sqrt{50} \\frac{ c^*-\\frac1{0.2}}{\\frac1{(0.2)^2}}=1.64$\n",
        "\n",
        "\n",
        "$ c^*=10.8 $\n",
        "\n",
        "$ \\overline{X} = 2.03468 $\n",
        "\n",
        "$ \\overline{X}<c^* $ - значит $ H_0 $ отвергаем, $ H_A $ принимаем\n",
        "\n",
        "Меняем местами гипотезы:\n",
        "\n",
        "$ H_0 ≡ λ^1 e^{- λ^1x} $\n",
        "\n",
        "$ H_A ≡  λ^0 e^{- λ^0x} $\n",
        "\n",
        "$ L( \\vec{X}, θ)= λ^ne^{-λ\\sum_{i=1}^n X_i} $\n",
        "\n",
        "$ LR( \\vec{X}, θ)=(\\frac{ λ_0}{λ_1})^ne^{-λ_0\\sum_{i=1}^n X_i+λ_1\\sum_{i=1}^n X_i} $\n",
        "\n",
        "В силу монотонности статистики LR относительно МДС $\\overline{X}$\n",
        "\n",
        "\n",
        "$LR(X)>c ⇔ \\overline{X}<c^* $\n",
        "\n",
        "$LR(X)<c ⇔ \\overline{X}>c^* $\n",
        "\n",
        "\n",
        "$ ϕ(x)=  \\begin{Bmatrix} 1;  \\overline{X}<c^* \\\\\n",
        " p;  \\overline{X}=c^*; \\\\0; \\overline{X}>c^* \\end{Bmatrix} $\n",
        "\n",
        "По ЦПТ:\n",
        "\n",
        "$ \\sqrt{n} \\frac{ \\overline{X}-EX}{DX} \\sim N(0,1) $\n",
        "\n",
        "$ EX=\\frac1{λ_1}, DX=\\frac1{(λ_1)^2}$\n",
        "\n",
        "$ \\sqrt{n} \\frac{ \\overline{X}-\\frac1{λ_1}}{\\frac1{(λ_1)^2}} \\sim N(0,1) $\n",
        "\n",
        "$ P(\\sqrt{n} \\frac{ \\overline{X}-\\frac1{λ_1}}{\\frac1{(λ_1)^2}} ≥\\sqrt{n} \\frac{ c^*-\\frac1{λ_1}}{\\frac1{(λ_1)^2}})=1-Ф(\\sqrt{n} \\frac{ c^*-\\frac1{λ_1}}{\\frac1{(λ_1)^2}})= α $\n",
        "\n",
        "$\\sqrt{n} \\frac{ c^*-\\frac1{λ_1}}{\\frac1{(λ_1)^2}}=x_α,  x_α: Ф(x_α)=1-α $\n",
        "\n",
        "$x_α=1.64$\n",
        "\n",
        "$\\sqrt{50} \\frac{ c^*-\\frac1{0.5}}{\\frac1{(0.5)^2}}=1.64$\n",
        "\n",
        "\n",
        "$ c^*=2.93 $\n",
        "\n",
        "$ \\overline{X} = 2.03468 $\n",
        "\n",
        "$ \\overline{X}<c^* $ - значит $ H_0 $ отвергаем, $ H_A $ принимаем"
      ],
      "metadata": {
        "id": "HPpwGwNUNzTi"
      }
    },
    {
      "cell_type": "markdown",
      "source": [
        "i(c) $ f(x)= \\frac{ \\sqrt{\\lambda}e^{-λ\\frac{x}2}}{\\sqrt{2 πx}} $\n",
        "\n",
        "ОМП\n",
        "\n",
        "$ L( \\vec{X}, θ)= \\frac{λ^{n/2}e^{-\\frac{λ}2\\sum_{i=1}^n X_i}}{2 π^{n/2}\\prod_{i=1}^n \\sqrt{X_i}} $\n",
        "\n",
        "$ LL( \\vec{X}, θ)= \\frac{n}2lnλ-\\frac{λ}2\\sum_{i=1}^n X_i-\\frac{n}2ln(2 π)-\\frac1{2}\\sum_{i=1}^n ln(X_i)  $\n",
        "\n",
        "$ \\frac{\\partial LL}{\\partial λ} = \\frac{n}{2λ}-\\frac1{2}\\sum_{i=1}^n X_i=0 $\n",
        "\n",
        "$ \\hat{λ}=\\frac{n}{\\sum_{i=1}^n X_i}=\\frac1{\\overline{X}}=0,4915 $\n",
        "\n",
        "\n",
        "МДС=$ \\sum_{i=1}^n X_i $ =ПДС, т.к. семейство экспотенциальных\n",
        "\n",
        "$ E\\hat{λ}=E\\frac{n}{\\sum_{i=1}^n X_i}= n E \\frac1{\\sum_{i=1}^n X_i} $\n",
        "\n",
        "$ \\sum_{i=1}^n X_i \\sim Gamma(n, \\frac1{λ}) $\n",
        "\n",
        "$ γ=-1, α=n, β= \\frac1{λ} $\n",
        "\n",
        "$ n E \\frac1{\\sum_{i=1}^n X_i}=n (\\frac1{λ})^{-1} \\frac{Г(-1+n)}{Г(n)}=\\frac{nλ}{n-1}=2.0762 $ - оценка смещенная\n",
        "\n",
        "$ \\hat{\\hat{λ}}=\\frac{(n-1)\\hat{λ}}{n}=\\frac{(n-1)\\overline{X}}{n}=\\frac{(50-1)2.03468}{50}=1,994 $\n",
        "\n",
        "ОММ\n",
        "\n",
        "$ EX_1=\\frac1{λ}=M_1 $\n",
        "\n",
        "$ λ= \\frac1{\\overline{X}}=0,4915 $"
      ],
      "metadata": {
        "id": "zNcpXNBFvoZt"
      }
    },
    {
      "cell_type": "markdown",
      "source": [
        "i(d)$ f(x)= \\frac{ \\sqrt{\\lambda}e^{-λ\\frac{x}2}}{\\sqrt{2 πx}} $\n",
        "\n",
        "ОМП\n",
        "\n",
        "$ L( \\vec{X}, θ)= \\frac{λ^{n/2}e^{-\\frac{λ}2\\sum_{i=1}^n X_i}}{2 π^{n/2}\\prod_{i=1}^n \\sqrt{X_i}} $\n",
        "\n",
        "$ LL( \\vec{X}, θ)= \\frac{n}2lnλ-\\frac{λ}2\\sum_{i=1}^n X_i-\\frac{n}2ln(2 π)-\\frac1{2}\\sum_{i=1}^n ln(X_i)  $\n",
        "\n",
        "$ \\frac{\\partial LL}{\\partial λ} = \\frac{n}{2λ}-\\frac1{2}\\sum_{i=1}^n X_i=0 $\n",
        "\n",
        "$ \\hat{λ}=\\frac{n}{\\sum_{i=1}^n X_i}=\\frac1{\\overline{X}} $\n",
        "\n",
        "\n",
        "\n",
        "$ \\sqrt{nI(\\hat{λ})}(\\hat{λ}-λ) \\sim N(0,1) $\n",
        "\n",
        "$ \\frac{\\partial^2 LL}{\\partial λ^2} =- \\frac{n}{2λ^2} $\n",
        "\n",
        "$ I(λ)=-E(- \\frac{n}{2λ^2})= \\frac{n}{2λ^2} $\n",
        "\n",
        "$ \\sqrt{n \\cdot (\\frac{n}{2\\hat{λ^2}})}(\\hat{λ}-λ) \\sim N(0,1)  $\n",
        "\n",
        "$ \\sqrt{\\frac{n^2}{2(\\overline{X})^2}}(\\overline{X}-λ) \\sim N(0,1)  $\n",
        "\n",
        "$ x_{α}: Ф(x_{α})=1-\\frac{α}2=1-\\frac{0.05}2=0.975 $\n",
        "\n",
        "$ Ф(1,96)=0,9750 $  \n",
        "\n",
        " $x_{α}=1.96$\n",
        "\n",
        "$ P(\\sqrt{\\frac{n^2}{2(\\overline{X})^2}}(\\overline{X}-λ) \\in [-x_{α};x_{α}] ) = 1- \\alpha = 0.95$\n",
        "\n",
        "$ -x_{α} \\sqrt{\\frac{2(\\overline{X})^2}{n^2}} \\leq \\overline{X}-λ \\leq x_{α} \\sqrt{\\frac{2(\\overline{X})^2}{n^2}}  $\n",
        "\n",
        "$ -x_{α} \\sqrt{\\frac{2(\\overline{X})^2}{n^2}}-\\overline{X} \\leq -λ \\leq x_{α} \\sqrt{\\frac{2(\\overline{X})^2}{n^2}} -\\overline{X} $\n",
        "\n",
        "$ -x_{α} \\sqrt{\\frac{2(\\overline{X})^2}{n^2}}+\\overline{X} \\leq λ \\leq x_{α} \\sqrt{\\frac{2(\\overline{X})^2}{n^2}} +\\overline{X} $\n",
        "\n",
        "$ -1.96 \\sqrt{\\frac{2 \\cdot 2.03468^2}{50^2}}+2.03468 \\leq λ \\leq 1.96 \\sqrt{\\frac{2 \\cdot 2.03468^2}{50^2}} +2.03468 $\n",
        "\n",
        "$ 1,92188\\leq λ \\leq 2,14748$"
      ],
      "metadata": {
        "id": "Om5dhTJfLfPy"
      }
    },
    {
      "cell_type": "markdown",
      "source": [
        "i(e) Используем распределение хи квадрат с 1 степенью свободы."
      ],
      "metadata": {
        "id": "_Kfie8WTsNwy"
      }
    },
    {
      "cell_type": "code",
      "source": [
        "ks.test(var_data, \"pchisq\",1,0.2)"
      ],
      "metadata": {
        "colab": {
          "base_uri": "https://localhost:8080/",
          "height": 126
        },
        "id": "TwT1BJPwsNHV",
        "outputId": "8f8807a1-5a04-4ed6-e6c1-9eb6a5d403ea"
      },
      "execution_count": 26,
      "outputs": [
        {
          "output_type": "display_data",
          "data": {
            "text/plain": [
              "\n",
              "\tExact one-sample Kolmogorov-Smirnov test\n",
              "\n",
              "data:  var_data\n",
              "D = 0.30467, p-value = 0.0001289\n",
              "alternative hypothesis: two-sided\n"
            ]
          },
          "metadata": {}
        }
      ]
    },
    {
      "cell_type": "markdown",
      "source": [
        "Поскольку p-value = 0.0001289 сильно меньше уровня значимости 0.05, то гипотезу отвергаем.\n",
        "\n",
        "Наибольший уровень значимости, при котором нет основания отвергнуть гипотезу 0.0001289"
      ],
      "metadata": {
        "id": "P0S8IU6CsVDq"
      }
    },
    {
      "cell_type": "code",
      "source": [
        "x=c(0,1,2,4,5)\n",
        "xx=dchisq(x,1,0.2)\n",
        "print(xx)"
      ],
      "metadata": {
        "colab": {
          "base_uri": "https://localhost:8080/"
        },
        "id": "dBWDo1tr0pSn",
        "outputId": "07ab883a-2922-4c68-8fe7-9ba954a5d71c"
      },
      "execution_count": 27,
      "outputs": [
        {
          "output_type": "stream",
          "name": "stdout",
          "text": [
            "[1]        Inf 0.24120593 0.11331585 0.03486613 0.02044787\n"
          ]
        }
      ]
    },
    {
      "cell_type": "markdown",
      "source": [
        "i(f)$ H_0 ≡  \\frac{ \\sqrt{0.2}e^{-0.2\\frac{x}2}}{\\sqrt{2 πx}}  $\n",
        "\n",
        "$ H_A \\neq  \\frac{ \\sqrt{0.2}e^{-0.2\\frac{x}2}}{\\sqrt{2 πx}} $\n",
        "\n",
        "Разобъем множество всех возможных значений СВ на интервалы\n",
        "\n",
        "$\\Delta_0 = [0,1], \\Delta_1 = (1,2], \\Delta_2 = (2,4] \\Delta_3 = (4, 5], \\Delta_4 = (5,+∞)$\n",
        "\n",
        "\n",
        "$\\;\\;\\;\\;$ $\\Delta_0$, $\\Delta_1$, $\\Delta_2$, $\\Delta_3$, $\\Delta_4$\n",
        "\n",
        "$i$ $  [0,1],  (1,2],   (2,4] ,(4, 5], (5,+∞)$\n",
        "\n",
        "$n_i$ $25, 7, 7, 6, 5$\n",
        "\n",
        "$p_i$ $  0.2412,  0.1133,  0.035,  0.0204, 0.5901$\n",
        "\n",
        "$np_i 12.06, 5.665, 1.75, 1.02, 29.505$\n",
        "\n",
        "$ \\frac{(n_i - np_i)^2}{np_i} 13.88, 0.315, 15.75, 24.314, 20.35 $\n",
        "\n",
        "$\\chi^2_в = \\sum \\frac{(n_i - np_i)^2}{np_i} = 74.609$\n",
        "\n",
        "где\n",
        "\n",
        "$np_i$ ожидаемые частоты попадания в интервал.\n",
        "\n",
        "$\\alpha = 0.05$\n",
        "\n",
        "Найдём квантиль распределения $\\chi^2_{1 - \\alpha, r - 1}$, где\n",
        "\n",
        "$r$ - кол-во интервалов.\n",
        "\n",
        "$\\chi^2_{1 - 0.05, 5- 1} = 9.487729$\n",
        "\n",
        "$\\chi^2_в > \\chi^2_{0.95, 4}  \\Rightarrow H_0$  отвергается.\n"
      ],
      "metadata": {
        "id": "NTU_y9RNLfXw"
      }
    },
    {
      "cell_type": "code",
      "source": [
        "print('Наибольший уровень значимости, при котором еще нет оснований отвергнуть гипотезу')\n",
        "print(1-pchisq(74.609,4))"
      ],
      "metadata": {
        "colab": {
          "base_uri": "https://localhost:8080/"
        },
        "id": "q1OFrZzYn3FM",
        "outputId": "c9cda488-b1d3-4c84-a475-5dd182c68220"
      },
      "execution_count": 28,
      "outputs": [
        {
          "output_type": "stream",
          "name": "stdout",
          "text": [
            "[1] \"Наибольший уровень значимости, при котором еще нет оснований отвергнуть гипотезу\"\n",
            "[1] 2.442491e-15\n"
          ]
        }
      ]
    },
    {
      "cell_type": "markdown",
      "source": [
        "i(g)$ H_0 ≡  \\frac{ \\sqrt{λ}e^{-λ\\frac{x}2}}{\\sqrt{2 πx}}  $\n",
        "\n",
        "$ H_A \\neq  \\frac{ \\sqrt{λ}e^{-λ\\frac{x}2}}{\\sqrt{2 πx}} $\n",
        "\n",
        "Ожидаемые частоты зависят от параметра, который, в свою очередь, должен максимизировать функцию правдоподобия, следовательно за параметр возьмем оценку ОМП $ \\hat{λ}=\\frac1{\\overline{X}}=0,4915 $"
      ],
      "metadata": {
        "id": "1jpYyVzrn8Rr"
      }
    },
    {
      "cell_type": "code",
      "source": [
        "x2=c(0,1,2,4,5)\n",
        "xx=dchisq(x2,1,0.4915)\n",
        "print(xx)"
      ],
      "metadata": {
        "colab": {
          "base_uri": "https://localhost:8080/"
        },
        "id": "03glc3kJotBp",
        "outputId": "66f4736b-e400-4987-ac48-830017c9e043"
      },
      "execution_count": 29,
      "outputs": [
        {
          "output_type": "stream",
          "name": "stdout",
          "text": [
            "[1]        Inf 0.23769406 0.12443557 0.04549950 0.02865737\n"
          ]
        }
      ]
    },
    {
      "cell_type": "markdown",
      "source": [
        "Разобъем множество всех возможных значений СВ на интервалы\n",
        "\n",
        "$\\Delta_0 = [0,1], \\Delta_1 = (1,2], \\Delta_2 = (2,4] \\Delta_3 = (4, 5], \\Delta_4 = (5,+∞)$\n",
        "\n",
        "\n",
        "$\\;\\;\\;\\;$ $\\Delta_0$, $\\Delta_1$, $\\Delta_2$, $\\Delta_3$, $\\Delta_4$\n",
        "\n",
        "$i$ $  [0,1],  (1,2],   (2,4] ,(4, 5], (5,+∞)$\n",
        "\n",
        "$n_i$ $25, 7, 7, 6, 5$\n",
        "\n",
        "$p_i$ $  0.238, 0.124, 0.045, 0.029, 0.564$\n",
        "\n",
        "$np_i 11.9, 6.2, 2.25, 1.45, 28.2$\n",
        "\n",
        "$ \\frac{(n_i - np_i)^2}{np_i} 14.4, 0.1, 10, 14.3, 19.1 $\n",
        "\n",
        "$\\chi^2_в = \\sum \\frac{(n_i - np_i)^2}{np_i} = 57.9$\n",
        "\n",
        "где\n",
        "\n",
        "$np_i$ ожидаемые частоты попадания в интервал.\n",
        "\n",
        "$\\alpha = 0.05$\n",
        "\n",
        "Найдём квантиль распределения $\\chi^2_{1 - \\alpha, r - 1-1}$, где\n",
        "\n",
        "$r$ - кол-во интервалов.\n",
        "\n",
        "$\\chi^2_{1 - 0.05, 5- 1-1} = 7.814728$\n",
        "\n",
        "$\\chi^2_в > \\chi^2_{0.95, 3}  \\Rightarrow H_0$  отвергается.\n"
      ],
      "metadata": {
        "id": "XBjtlUQ2oqiS"
      }
    },
    {
      "cell_type": "code",
      "source": [
        "print('Наибольший уровень значимости, при котором еще нет оснований отвергнуть гипотезу')\n",
        "print(1-pchisq(57.9,3))"
      ],
      "metadata": {
        "colab": {
          "base_uri": "https://localhost:8080/"
        },
        "id": "EMCZhvLrp-xf",
        "outputId": "2e6ce5e9-3c86-4346-f267-7cae3147568e"
      },
      "execution_count": 30,
      "outputs": [
        {
          "output_type": "stream",
          "name": "stdout",
          "text": [
            "[1] \"Наибольший уровень значимости, при котором еще нет оснований отвергнуть гипотезу\"\n",
            "[1] 1.651124e-12\n"
          ]
        }
      ]
    },
    {
      "cell_type": "markdown",
      "source": [
        "i(h)  $ H_0 ≡f(x)= \\frac{ \\sqrt{\\lambda_0}e^{-λ_0\\frac{x}2}}{\\sqrt{2 πx}} $\n",
        "\n",
        "$ H_A ≡  f(x)= \\frac{ \\sqrt{\\lambda_1}e^{-λ_1\\frac{x}2}}{\\sqrt{2 πx}} $\n",
        "\n",
        "$ L( \\vec{X}, θ)= \\frac{λ^{n/2}e^{-\\frac{λ}2\\sum_{i=1}^n X_i}}{2 π^{n/2}\\prod_{i=1}^n \\sqrt{X_i}} $\n",
        "\n",
        "$ LR( \\vec{X}, θ)=(\\frac{ λ_1}{λ_0})^{\\frac{n}2}e^{\\frac{\\sum_{i=1}^n X_i}2(λ_0-λ_1)}>c$\n",
        "\n",
        "\n",
        "$ (\\frac{ λ_1}{λ_0})^{\\frac{n}2}e^{\\frac{\\sum_{i=1}^n X_i}2(λ_0-λ_1)}>c $\n",
        "\n",
        "$ \\frac{n}2ln(\\frac{ λ_1}{λ_0})+\\frac1{2}{\\sum_{i=1}^n X_i\n",
        "(λ_0-λ_1)}>c $\n",
        "\n",
        "$ \\frac1{2}{\\sum_{i=1}^n X_i\n",
        "(λ_0-λ_1)}>c-\\frac{n}2ln(\\frac{ λ_1}{λ_0})$\n",
        "\n",
        "Так как $ (λ_0-λ_1)<0 $, знак меняется\n",
        "\n",
        "$ {\\sum_{i=1}^n X_i\n",
        "}<\\frac{c-\\frac{n}2ln(\\frac{ λ_1}{λ_0})}{\\frac1{2}(λ_0-λ_1)}$\n",
        "\n",
        "$ \\frac{{\\sum_{i=1}^n X_i\n",
        "}}{n}<\\frac{c-\\frac{n}2ln(\\frac{ λ_1}{λ_0})}{\\frac{n}{2}(λ_0-λ_1)}$\n",
        "\n",
        "В силу монотонности статистики LR относительно МДС $\\overline{X}$\n",
        "\n",
        "$LR(X)>c ⇔ \\overline{X}<c^* $\n",
        "\n",
        "$LR(X)<c ⇔ \\overline{X}>c^* $\n",
        "\n",
        "\n",
        "\n",
        "$ ϕ(x)=  \\begin{Bmatrix} 1;  \\overline{X}<c^* \\\\\n",
        " p;  \\overline{X}=c^*; \\\\0; \\overline{X}>c^* \\end{Bmatrix} $\n",
        "\n",
        "По ЦПТ:\n",
        "\n",
        "$ \\sqrt{n} \\frac{ \\overline{X}-EX}{DX} \\sim N(0,1) $\n",
        "\n",
        "У Гамма-распределения $EX=аb, DX=ab^2$\n",
        "\n",
        "У нас частный случай гамма распределения, где $ a=\\frac1{2}, b=\\frac2{λ} $\n",
        "\n",
        "Тогда\n",
        "\n",
        "$ EX=\\frac1{λ_0}, DX=\\frac2{(λ_0)^2}$\n",
        "\n",
        "$ \\sqrt{n} \\frac{ \\overline{X}-\\frac1{λ_0}}{\\frac2{(λ_0)^2}} \\sim N(0,1) $\n",
        "\n",
        "$ P(\\sqrt{n} \\frac{ \\overline{X}-\\frac1{λ_0}}{\\frac2{(λ_0)^2}} ≥\\sqrt{n} \\frac{ c^*-\\frac1{λ_0}}{\\frac2{(λ_0)^2}})=1-Ф(\\sqrt{n} \\frac{ c^*-\\frac1{λ_0}}{\\frac2{(λ_0)^2}})= α $\n",
        "\n",
        "$\\sqrt{n} \\frac{ c^*-\\frac1{λ_0}}{\\frac2{(λ_0)^2}}=x_α,  x_α: Ф(x_α)=1-α $\n",
        "\n",
        "$x_α=1.64$\n",
        "\n",
        "$\\sqrt{50} \\frac{ c^*-\\frac1{0.2}}{\\frac2{(0.2)^2}}=1.64$\n",
        "\n",
        "\n",
        "$ c^*=16.6 $\n",
        "\n",
        "$ \\overline{X} = 2.03468 $\n",
        "\n",
        "$ \\overline{X}<c^* $ - значит $ H_0 $ отвергаем, $ H_A $ принимаем\n",
        "\n",
        "Меняем местами гипотезы:\n",
        "\n",
        "$ H_0 ≡ λ^1 e^{- λ^1x} $\n",
        "\n",
        "$ H_A ≡  λ^0 e^{- λ^0x} $\n",
        "\n",
        "$ L( \\vec{X}, θ)= \\frac{λ^{n/2}e^{-\\frac{λ}2\\sum_{i=1}^n X_i}}{2 π^{n/2}\\prod_{i=1}^n \\sqrt{X_i}} $\n",
        "\n",
        "$ LR( \\vec{X}, θ)=(\\frac{ λ_0}{λ_1})^{\\frac{n}2}e^{\\frac{\\sum_{i=1}^n X_i}2(λ_1-λ_0)}>c$\n",
        "\n",
        "\n",
        "\n",
        "В силу монотонности статистики LR относительно МДС $\\overline{X}$\n",
        "\n",
        "\n",
        "$LR(X)>c ⇔ \\overline{X}<c^* $\n",
        "\n",
        "$LR(X)<c ⇔ \\overline{X}>c^* $\n",
        "\n",
        "\n",
        "$ ϕ(x)=  \\begin{Bmatrix} 1;  \\overline{X}<c^* \\\\\n",
        " p;  \\overline{X}=c^*; \\\\0; \\overline{X}>c^* \\end{Bmatrix} $\n",
        "\n",
        "По ЦПТ:\n",
        "\n",
        "$ \\sqrt{n} \\frac{ \\overline{X}-EX}{DX} \\sim N(0,1) $\n",
        "\n",
        "$ EX=\\frac1{λ_1}, DX=\\frac2{(λ_1)^2}$\n",
        "\n",
        "$ \\sqrt{n} \\frac{ \\overline{X}-\\frac1{λ_1}}{\\frac2{(λ_1)^2}} \\sim N(0,1) $\n",
        "\n",
        "$ P(\\sqrt{n} \\frac{ \\overline{X}-\\frac1{λ_1}}{\\frac2{(λ_1)^2}} ≥\\sqrt{n} \\frac{ c^*-\\frac1{λ_1}}{\\frac2{(λ_1)^2}})=1-Ф(\\sqrt{n} \\frac{ c^*-\\frac1{λ_1}}{\\frac2{(λ_1)^2}})= α $\n",
        "\n",
        "$\\sqrt{n} \\frac{ c^*-\\frac1{λ_1}}{\\frac2{(λ_1)^2}}=x_α,  x_α: Ф(x_α)=1-α $\n",
        "\n",
        "$x_α=1.64$\n",
        "\n",
        "$\\sqrt{50} \\frac{ c^*-\\frac1{0.5}}{\\frac2{(0.5)^2}}=1.64$\n",
        "\n",
        "\n",
        "$ c^*=3.86 $\n",
        "\n",
        "$ \\overline{X} = 2.03468 $\n",
        "\n",
        "$ \\overline{X}<c^* $ - значит $ H_0 $ отвергаем, $ H_A $ принимаем"
      ],
      "metadata": {
        "id": "v0V65d-PWmAZ"
      }
    },
    {
      "cell_type": "markdown",
      "source": [
        "## Выводы\n",
        "\n",
        "Научились применять методы математической статистики для решения задач статистического анализа; сформировали навыки реализации методов с помощью прикладных программных пакетов.Изучили различные критерии для проверки гипотез, такие как критерий хи-квадрат, критерий Колмогорова, наиболее мощный критерий. Посчитали выборочные характеристики вариационного ряда как вручную, так и через программные функции. Познакомились с языком программирования R. Научились строить асимптотический доверительный интервал."
      ],
      "metadata": {
        "id": "WBX9361cY-4U"
      }
    }
  ]
}