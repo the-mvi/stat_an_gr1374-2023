{
  "nbformat": 4,
  "nbformat_minor": 0,
  "metadata": {
    "colab": {
      "provenance": []
    },
    "kernelspec": {
      "name": "ir",
      "display_name": "R"
    },
    "language_info": {
      "name": "R"
    }
  },
  "cells": [
    {
      "cell_type": "markdown",
      "source": [
        "# Практическая работа №3: Регрессионный анализ\n",
        "Выполнила студентка гр. 1374 Черкасова Дарья. Вариант №25"
      ],
      "metadata": {
        "id": "qO0LhrrF522G"
      }
    },
    {
      "cell_type": "markdown",
      "source": [
        "## Цель работы\n",
        "Ознакомление с основными положениями метода наименьших квадратов (МНК), со статистическими свойствами МНК-оценок, с понятием функции регрессии и роли МНК в регрессионном анализе."
      ],
      "metadata": {
        "id": "3BUZ52GR54JF"
      }
    },
    {
      "cell_type": "markdown",
      "source": [
        "## Основные теоретические положения\n",
        "\n",
        "Регрессионная модель: $ E(Y|z)=f_ϴ(z) $\n",
        "\n",
        "Линейная регрессионная модель: $ E_ϴ(Y|z)=x(z)^\\intercalβ $\n",
        "\n",
        "z-ковариата\n",
        "\n",
        "x(z) - вектор регрессоров\n",
        "\n",
        "$ β $ - вектор параметров\n",
        "\n",
        "Линейная регрессия У по  Х: $У =\\beta_0  + \\beta_1x_1 + ⋯ + \\beta_nx_n + 𝜀$\n",
        "\n",
        " МНК (Метод Наименьших Квадратов)\n",
        "\n",
        "$RSS(\\beta)=\\left\\| Y-X^\\intercal\\beta \\right\\|^2=(Y-X^\\intercal\\beta)^\\intercal(Y-X^\\intercal\\beta)\\to min $(по $ \\beta)$\n",
        "\n",
        "Нормальные уравнения: $XX^\\intercal\\beta=XY$\n",
        "\n",
        "\n",
        "Решение системы нормальных уравнений в регулярном случае: $\\hat{\\beta}=(XX^\\intercal)^{-1}XY$\n",
        "\n",
        " Несмещённая оценка дисперсии $s^{2}$\n",
        "\n",
        "$S^{2} =\\frac{SS_e}{n-r} =\\frac{RSS(\\hat{\\beta})}{n-r}$\n",
        "\n",
        " r-ранг матрицы X\n",
        "\n",
        "ДНО функции:$\\psi=C^\\intercal\\beta$\n",
        "\n",
        "Доверительное оценивание\n",
        "\n",
        "Классическое предположение: $ Y \\sim N(X^\\intercalβ,σ^2E) $\n",
        "\n",
        "Эквивалентное предположение об остатках:  $ ε \\sim N(0,σ^2E) $\n",
        "\n",
        "Доверительный эллипс уровня доверия $1- α$ для $ (β_0,β_1) $\n",
        "\n",
        "Проверка гипотез\n",
        "\n",
        "$ H_0:Ψ=0 $\n",
        "\n",
        "$ F-статистика: F=\\frac{SS_H/q}{SS_e/(n-r)} $\n",
        "\n",
        "$ SS_H=RSS(\\hat{\\beta_H})-RSS(\\hat{\\beta}) $\n",
        "\n",
        "$ \\hat{\\beta_H}$ - МНК при условии  $Ψ=0$\n",
        "\n",
        "F-статистика при $ H_0 \\sim F_{q,n-r} $, где - $ F_{q,n-r} $ распределение Фишера Снедекора с q и (n-r) степенями свободы\n",
        "\n",
        "$ x_α: F_{q,n-r}(x_α)=1-α $\n"
      ],
      "metadata": {
        "id": "2aHmePyW56BV"
      }
    },
    {
      "cell_type": "markdown",
      "source": [
        "## Постановка задачи\n",
        "Результаты статистического эксперимента представлены в виде двух переменных. Требуется оценить характер (случайной) зависимости переменной Y от переменной X. Полученные результаты содержательно проинтерпретировать."
      ],
      "metadata": {
        "id": "yV0JeVsn57yd"
      }
    },
    {
      "cell_type": "markdown",
      "source": [
        "## Выполнение работы\n"
      ],
      "metadata": {
        "id": "nBYUPnCO5-39"
      }
    },
    {
      "cell_type": "markdown",
      "source": [
        "1.Рез-ты эксп-та графически"
      ],
      "metadata": {
        "id": "RWZM37dtiyjj"
      }
    },
    {
      "cell_type": "code",
      "source": [
        "vec_x=c(5,6,4,5,4,3,4,5,4,5,3,4,3,2,2,4,5,2,1,4,3,3,3,5,4,1,6,2,5,6,3,5,3,2,3,7,2,2,3,5,2,6,2,6,5,3,2,4,3,4)\n",
        "vec_y=c(6.25,2.16,7.81,8.08,19.97,9.74,7.08,13.23,16.07,4.88,6.62,5.66,6.91,7.4,9.09,12.63,2.59,9.0,6.65,13.43,8.27,14.5,11.88,5.57,11.63,6.04,20.29,15.25,11.54,6.81,9.59,19.11,5.07,10.16,3.68,6.98,10.06,1.84,12.11,12.57,5.83,11.8,12.07,15.91,5.61,10.62,8.55,8.36,9.07,10.31)\n",
        "df=data.frame(vec_x,vec_y)\n",
        "head(df)\n",
        "scatter.smooth(vec_x, vec_y) # диаграммa рассеяния , чтобы просмотреть взаимосвязь между двумя переменными"
      ],
      "metadata": {
        "colab": {
          "base_uri": "https://localhost:8080/",
          "height": 706
        },
        "id": "g-6x9jXk63s2",
        "outputId": "9bd5c03f-e8f0-43f3-beac-0bf2f76ed1d4"
      },
      "execution_count": 535,
      "outputs": [
        {
          "output_type": "display_data",
          "data": {
            "text/html": [
              "<table class=\"dataframe\">\n",
              "<caption>A data.frame: 6 × 2</caption>\n",
              "<thead>\n",
              "\t<tr><th></th><th scope=col>vec_x</th><th scope=col>vec_y</th></tr>\n",
              "\t<tr><th></th><th scope=col>&lt;dbl&gt;</th><th scope=col>&lt;dbl&gt;</th></tr>\n",
              "</thead>\n",
              "<tbody>\n",
              "\t<tr><th scope=row>1</th><td>5</td><td> 6.25</td></tr>\n",
              "\t<tr><th scope=row>2</th><td>6</td><td> 2.16</td></tr>\n",
              "\t<tr><th scope=row>3</th><td>4</td><td> 7.81</td></tr>\n",
              "\t<tr><th scope=row>4</th><td>5</td><td> 8.08</td></tr>\n",
              "\t<tr><th scope=row>5</th><td>4</td><td>19.97</td></tr>\n",
              "\t<tr><th scope=row>6</th><td>3</td><td> 9.74</td></tr>\n",
              "</tbody>\n",
              "</table>\n"
            ],
            "text/markdown": "\nA data.frame: 6 × 2\n\n| <!--/--> | vec_x &lt;dbl&gt; | vec_y &lt;dbl&gt; |\n|---|---|---|\n| 1 | 5 |  6.25 |\n| 2 | 6 |  2.16 |\n| 3 | 4 |  7.81 |\n| 4 | 5 |  8.08 |\n| 5 | 4 | 19.97 |\n| 6 | 3 |  9.74 |\n\n",
            "text/latex": "A data.frame: 6 × 2\n\\begin{tabular}{r|ll}\n  & vec\\_x & vec\\_y\\\\\n  & <dbl> & <dbl>\\\\\n\\hline\n\t1 & 5 &  6.25\\\\\n\t2 & 6 &  2.16\\\\\n\t3 & 4 &  7.81\\\\\n\t4 & 5 &  8.08\\\\\n\t5 & 4 & 19.97\\\\\n\t6 & 3 &  9.74\\\\\n\\end{tabular}\n",
            "text/plain": [
              "  vec_x vec_y\n",
              "1 5      6.25\n",
              "2 6      2.16\n",
              "3 4      7.81\n",
              "4 5      8.08\n",
              "5 4     19.97\n",
              "6 3      9.74"
            ]
          },
          "metadata": {}
        },
        {
          "output_type": "display_data",
          "data": {
            "text/plain": [
              "plot without title"
            ],
            "image/png": "[encoded data removed]"
          },
          "metadata": {
            "image/png": {
              "width": 420,
              "height": 420
            }
          }
        }
      ]
    },
    {
      "cell_type": "markdown",
      "source": [
        "Линейная регрессионная модель переменной У по переменной Х\n",
        "\n",
        "$ Y=β_0+β_1X+ε $\n",
        "\n",
        "$ E_ϴ(ε)=0 $\n",
        "\n",
        "$ Y=\\begin{pmatrix} 1 & x \\end{pmatrix} \\begin{pmatrix} β_0 \\\\ β_1 \\end{pmatrix}$\n",
        "\n",
        "МНК оценки параметров сдвига и масштаба\n",
        "\n",
        "$ RSS(β)=||Y-X^{\\intercal}β||^2 → min $\n",
        "\n",
        "Нормальные уравнения\n",
        "\n",
        "$ XX^{\\intercal}β=XY $\n",
        "\n",
        "$ \\hat{β}=(XX^{\\intercal})^{-1}XY $\n",
        "\n"
      ],
      "metadata": {
        "id": "KW1tStgp9bmF"
      }
    },
    {
      "cell_type": "code",
      "source": [
        "one=rep(1, 50)\n",
        "x=rbind(one,vec_x)\n",
        "x"
      ],
      "metadata": {
        "colab": {
          "base_uri": "https://localhost:8080/",
          "height": 97
        },
        "id": "6DZ8ATJqXhqt",
        "outputId": "67632f10-467e-4d73-832e-53d2cb390175"
      },
      "execution_count": 536,
      "outputs": [
        {
          "output_type": "display_data",
          "data": {
            "text/html": [
              "<table class=\"dataframe\">\n",
              "<caption>A matrix: 2 × 50 of type dbl</caption>\n",
              "<tbody>\n",
              "\t<tr><th scope=row>one</th><td>1</td><td>1</td><td>1</td><td>1</td><td>1</td><td>1</td><td>1</td><td>1</td><td>1</td><td>1</td><td>⋯</td><td>1</td><td>1</td><td>1</td><td>1</td><td>1</td><td>1</td><td>1</td><td>1</td><td>1</td><td>1</td></tr>\n",
              "\t<tr><th scope=row>vec_x</th><td>5</td><td>6</td><td>4</td><td>5</td><td>4</td><td>3</td><td>4</td><td>5</td><td>4</td><td>5</td><td>⋯</td><td>2</td><td>6</td><td>2</td><td>6</td><td>5</td><td>3</td><td>2</td><td>4</td><td>3</td><td>4</td></tr>\n",
              "</tbody>\n",
              "</table>\n"
            ],
            "text/markdown": "\nA matrix: 2 × 50 of type dbl\n\n| one | 1 | 1 | 1 | 1 | 1 | 1 | 1 | 1 | 1 | 1 | ⋯ | 1 | 1 | 1 | 1 | 1 | 1 | 1 | 1 | 1 | 1 |\n| vec_x | 5 | 6 | 4 | 5 | 4 | 3 | 4 | 5 | 4 | 5 | ⋯ | 2 | 6 | 2 | 6 | 5 | 3 | 2 | 4 | 3 | 4 |\n\n",
            "text/latex": "A matrix: 2 × 50 of type dbl\n\\begin{tabular}{r|lllllllllllllllllllll}\n\tone & 1 & 1 & 1 & 1 & 1 & 1 & 1 & 1 & 1 & 1 & ⋯ & 1 & 1 & 1 & 1 & 1 & 1 & 1 & 1 & 1 & 1\\\\\n\tvec\\_x & 5 & 6 & 4 & 5 & 4 & 3 & 4 & 5 & 4 & 5 & ⋯ & 2 & 6 & 2 & 6 & 5 & 3 & 2 & 4 & 3 & 4\\\\\n\\end{tabular}\n",
            "text/plain": [
              "      [,1] [,2] [,3] [,4] [,5] [,6] [,7] [,8] [,9] [,10] [,11] [,12] [,13]\n",
              "one   1    1    1    1    1    1    1    1    1    1     ⋯     1     1    \n",
              "vec_x 5    6    4    5    4    3    4    5    4    5     ⋯     2     6    \n",
              "      [,14] [,15] [,16] [,17] [,18] [,19] [,20] [,21]\n",
              "one   1     1     1     1     1     1     1     1    \n",
              "vec_x 2     6     5     3     2     4     3     4    "
            ]
          },
          "metadata": {}
        }
      ]
    },
    {
      "cell_type": "code",
      "source": [
        "xx=x %*% t(x)\n",
        "det(xx)"
      ],
      "metadata": {
        "colab": {
          "base_uri": "https://localhost:8080/",
          "height": 34
        },
        "id": "7tIl02TBSUQe",
        "outputId": "b529659c-fe1a-48ec-b163-8355d9a03936"
      },
      "execution_count": 537,
      "outputs": [
        {
          "output_type": "display_data",
          "data": {
            "text/html": [
              "5225"
            ],
            "text/markdown": "5225",
            "text/latex": "5225",
            "text/plain": [
              "[1] 5225"
            ]
          },
          "metadata": {}
        }
      ]
    },
    {
      "cell_type": "markdown",
      "source": [
        "Определитель матрицы не равен нулю, следовательно можно найти обратную матрицу."
      ],
      "metadata": {
        "id": "kLhoE1sqU6Xl"
      }
    },
    {
      "cell_type": "code",
      "source": [
        "xx_1=solve(xx)\n",
        "xx_1"
      ],
      "metadata": {
        "colab": {
          "base_uri": "https://localhost:8080/",
          "height": 129
        },
        "id": "wUDiExT3YdOZ",
        "outputId": "0e3430de-0f32-423d-b873-d824b173bd9f"
      },
      "execution_count": 538,
      "outputs": [
        {
          "output_type": "display_data",
          "data": {
            "text/html": [
              "<table class=\"dataframe\">\n",
              "<caption>A matrix: 2 × 2 of type dbl</caption>\n",
              "<thead>\n",
              "\t<tr><th></th><th scope=col>one</th><th scope=col>vec_x</th></tr>\n",
              "</thead>\n",
              "<tbody>\n",
              "\t<tr><th scope=row>one</th><td> 0.1510048</td><td>-0.035406699</td></tr>\n",
              "\t<tr><th scope=row>vec_x</th><td>-0.0354067</td><td> 0.009569378</td></tr>\n",
              "</tbody>\n",
              "</table>\n"
            ],
            "text/markdown": "\nA matrix: 2 × 2 of type dbl\n\n| <!--/--> | one | vec_x |\n|---|---|---|\n| one |  0.1510048 | -0.035406699 |\n| vec_x | -0.0354067 |  0.009569378 |\n\n",
            "text/latex": "A matrix: 2 × 2 of type dbl\n\\begin{tabular}{r|ll}\n  & one & vec\\_x\\\\\n\\hline\n\tone &  0.1510048 & -0.035406699\\\\\n\tvec\\_x & -0.0354067 &  0.009569378\\\\\n\\end{tabular}\n",
            "text/plain": [
              "      one        vec_x       \n",
              "one    0.1510048 -0.035406699\n",
              "vec_x -0.0354067  0.009569378"
            ]
          },
          "metadata": {}
        }
      ]
    },
    {
      "cell_type": "code",
      "source": [
        "beta=xx_1 %*% x\n",
        "beta=beta %*% matrix(vec_y)\n",
        "beta\n"
      ],
      "metadata": {
        "colab": {
          "base_uri": "https://localhost:8080/",
          "height": 114
        },
        "id": "sCaiEWwiYtmo",
        "outputId": "4898e9e1-6267-41b0-b5f4-0a5646439c14"
      },
      "execution_count": 539,
      "outputs": [
        {
          "output_type": "display_data",
          "data": {
            "text/html": [
              "<table class=\"dataframe\">\n",
              "<caption>A matrix: 2 × 1 of type dbl</caption>\n",
              "<tbody>\n",
              "\t<tr><th scope=row>one</th><td>8.0190182</td></tr>\n",
              "\t<tr><th scope=row>vec_x</th><td>0.4074545</td></tr>\n",
              "</tbody>\n",
              "</table>\n"
            ],
            "text/markdown": "\nA matrix: 2 × 1 of type dbl\n\n| one | 8.0190182 |\n| vec_x | 0.4074545 |\n\n",
            "text/latex": "A matrix: 2 × 1 of type dbl\n\\begin{tabular}{r|l}\n\tone & 8.0190182\\\\\n\tvec\\_x & 0.4074545\\\\\n\\end{tabular}\n",
            "text/plain": [
              "      [,1]     \n",
              "one   8.0190182\n",
              "vec_x 0.4074545"
            ]
          },
          "metadata": {}
        }
      ]
    },
    {
      "cell_type": "markdown",
      "source": [
        "МНК оценки: $ β_0=8.01902, β_1=0.40746 $\n",
        "\n",
        "Проверим через встроенную функцию:"
      ],
      "metadata": {
        "id": "ALAOU6nJaEY0"
      }
    },
    {
      "cell_type": "code",
      "source": [
        "model = lm(vec_y ~ vec_x, data=df)\n",
        "\n",
        "summary(model)"
      ],
      "metadata": {
        "colab": {
          "base_uri": "https://localhost:8080/",
          "height": 345
        },
        "id": "lqOJw2LYQVt2",
        "outputId": "6437abc4-ffbf-415f-e4cd-ef8a032354f3"
      },
      "execution_count": 540,
      "outputs": [
        {
          "output_type": "display_data",
          "data": {
            "text/plain": [
              "\n",
              "Call:\n",
              "lm(formula = vec_y ~ vec_x, data = df)\n",
              "\n",
              "Residuals:\n",
              "    Min      1Q  Median      3Q     Max \n",
              "-8.3037 -2.9083 -0.0027  2.6074 10.3212 \n",
              "\n",
              "Coefficients:\n",
              "            Estimate Std. Error t value Pr(>|t|)    \n",
              "(Intercept)   8.0190     1.6830   4.765 1.79e-05 ***\n",
              "vec_x         0.4075     0.4237   0.962    0.341    \n",
              "---\n",
              "Signif. codes:  0 ‘***’ 0.001 ‘**’ 0.01 ‘*’ 0.05 ‘.’ 0.1 ‘ ’ 1\n",
              "\n",
              "Residual standard error: 4.331 on 48 degrees of freedom\n",
              "Multiple R-squared:  0.01891,\tAdjusted R-squared:  -0.001534 \n",
              "F-statistic: 0.9249 on 1 and 48 DF,  p-value: 0.341\n"
            ]
          },
          "metadata": {}
        }
      ]
    },
    {
      "cell_type": "markdown",
      "source": [
        "Y=8.0190+0.4075X+ε\n",
        "\n",
        "\n"
      ],
      "metadata": {
        "id": "qdsD30v8QuSy"
      }
    },
    {
      "cell_type": "code",
      "source": [
        "plot(vec_x, vec_y, col='red', xlab='x', ylab='y')\n",
        "\n",
        "x_s=seq(min(vec_x), max(vec_x), by=0.2)\n",
        "#add second line to plot\n",
        "lines(x_s, 8.0190+0.4075*x_s, col='blue')"
      ],
      "metadata": {
        "colab": {
          "base_uri": "https://localhost:8080/",
          "height": 437
        },
        "id": "dj-OAohDVxvh",
        "outputId": "9e430d2e-b441-42f2-db75-da75bb1b039d"
      },
      "execution_count": 541,
      "outputs": [
        {
          "output_type": "display_data",
          "data": {
            "text/plain": [
              "plot without title"
            ],
            "image/png": "[encoded data removed]"
          },
          "metadata": {
            "image/png": {
              "width": 420,
              "height": 420
            }
          }
        }
      ]
    },
    {
      "cell_type": "markdown",
      "source": [
        "По графику видно наличие сильных выбросов. Соответствие оценки и полученных данных не очень успешное."
      ],
      "metadata": {
        "id": "2I_-QEZWafnx"
      }
    },
    {
      "cell_type": "markdown",
      "source": [
        "2.Несмещенная оценка дисперсии\n",
        "\n",
        "$ s^2=\\frac{RSS(β)}{n-r} $"
      ],
      "metadata": {
        "id": "QqeiqXAvilIH"
      }
    },
    {
      "cell_type": "code",
      "source": [
        "library(Matrix)\n",
        "r=rankMatrix(x)\n",
        "n=50\n",
        "rss=t(matrix(vec_y)-(t(x) %*% beta)) %*% (matrix(vec_y)-(t(x) %*% beta))\n",
        "s2=rss/(n-r)\n",
        "s2\n",
        "mse=s2^0.5\n",
        "mse"
      ],
      "metadata": {
        "colab": {
          "base_uri": "https://localhost:8080/",
          "height": 184
        },
        "id": "sLQC7Aihjahg",
        "outputId": "6b216277-f83f-471b-87e7-3e7ae68d6a42"
      },
      "execution_count": 542,
      "outputs": [
        {
          "output_type": "display_data",
          "data": {
            "text/html": [
              "<table class=\"dataframe\">\n",
              "<caption>A matrix: 1 × 1 of type dbl</caption>\n",
              "<tbody>\n",
              "\t<tr><td>18.75704</td></tr>\n",
              "</tbody>\n",
              "</table>\n"
            ],
            "text/markdown": "\nA matrix: 1 × 1 of type dbl\n\n| 18.75704 |\n\n",
            "text/latex": "A matrix: 1 × 1 of type dbl\n\\begin{tabular}{l}\n\t 18.75704\\\\\n\\end{tabular}\n",
            "text/plain": [
              "     [,1]    \n",
              "[1,] 18.75704"
            ]
          },
          "metadata": {}
        },
        {
          "output_type": "display_data",
          "data": {
            "text/html": [
              "<table class=\"dataframe\">\n",
              "<caption>A matrix: 1 × 1 of type dbl</caption>\n",
              "<tbody>\n",
              "\t<tr><td>4.33094</td></tr>\n",
              "</tbody>\n",
              "</table>\n"
            ],
            "text/markdown": "\nA matrix: 1 × 1 of type dbl\n\n| 4.33094 |\n\n",
            "text/latex": "A matrix: 1 × 1 of type dbl\n\\begin{tabular}{l}\n\t 4.33094\\\\\n\\end{tabular}\n",
            "text/plain": [
              "     [,1]   \n",
              "[1,] 4.33094"
            ]
          },
          "metadata": {}
        }
      ]
    },
    {
      "cell_type": "markdown",
      "source": [
        "$ s^2=18.757 $\n",
        "\n",
        "MSE=4.331\n",
        "\n",
        "Гистограмма ошибок с шагом 2.1"
      ],
      "metadata": {
        "id": "jyK66i7OlUOI"
      }
    },
    {
      "cell_type": "code",
      "source": [
        "mistakes=matrix(vec_y)-(t(x) %*% beta)\n",
        "h=2.1\n",
        "count=(max(mistakes)-min(mistakes))/h\n",
        "library(lattice)\n",
        "hist= hist(mistakes, breaks=count)\n",
        "str(hist)"
      ],
      "metadata": {
        "colab": {
          "base_uri": "https://localhost:8080/",
          "height": 583
        },
        "id": "DfHV6UhJmKTe",
        "outputId": "0fbd045c-aa4a-4508-ed05-b5f4848cb7ff"
      },
      "execution_count": 543,
      "outputs": [
        {
          "output_type": "stream",
          "name": "stdout",
          "text": [
            "List of 6\n",
            " $ breaks  : num [1:12] -10 -8 -6 -4 -2 0 2 4 6 8 ...\n",
            " $ counts  : int [1:11] 1 2 5 9 8 11 7 2 2 2 ...\n",
            " $ density : num [1:11] 0.01 0.02 0.05 0.09 0.08 0.11 0.07 0.02 0.02 0.02 ...\n",
            " $ mids    : num [1:11] -9 -7 -5 -3 -1 1 3 5 7 9 ...\n",
            " $ xname   : chr \"mistakes\"\n",
            " $ equidist: logi TRUE\n",
            " - attr(*, \"class\")= chr \"histogram\"\n"
          ]
        },
        {
          "output_type": "display_data",
          "data": {
            "text/plain": [
              "Plot with title “Histogram of mistakes”"
            ],
            "image/png": "[encoded data removed]"
          },
          "metadata": {
            "image/png": {
              "width": 420,
              "height": 420
            }
          }
        }
      ]
    },
    {
      "cell_type": "markdown",
      "source": [
        "Проверка гипотезы нормальности через хи-квадрат с $ α=0.2 $\n",
        "\n",
        "$ H_0: ε ∼ N(0,\\sigma^2E) $\n",
        "\n",
        "$ H_A: ε \\nsim  N(0,\\sigma^2E) $\n",
        "\n",
        "Разобъем множество всех возможных значений СВ на интервалы\n",
        "\n"
      ],
      "metadata": {
        "id": "FFZJyB0Nngw3"
      }
    },
    {
      "cell_type": "code",
      "source": [
        "xi=sort(mistakes)\n",
        "xi\n",
        "sum(xi >= -10 & xi < -4)\n",
        "sum(xi >= -4 & xi < -2)\n",
        "sum(xi >= -2 & xi < 0)\n",
        "sum(xi >= 0 & xi < 2)\n",
        "sum(xi >= 2 & xi < 4)\n",
        "sum(xi >= 4 )"
      ],
      "metadata": {
        "colab": {
          "base_uri": "https://localhost:8080/",
          "height": 208
        },
        "id": "aeAPdrSXpPD_",
        "outputId": "6d6887d4-4b76-4a85-8dec-6c8c17f0ba1a"
      },
      "execution_count": 544,
      "outputs": [
        {
          "output_type": "display_data",
          "data": {
            "text/html": [
              "<style>\n",
              ".list-inline {list-style: none; margin:0; padding: 0}\n",
              ".list-inline>li {display: inline-block}\n",
              ".list-inline>li:not(:last-child)::after {content: \"\\00b7\"; padding: 0 .5ex}\n",
              "</style>\n",
              "<ol class=list-inline><li>-8.30374545454545</li><li>-7.46629090909091</li><li>-6.99392727272727</li><li>-5.56138181818181</li><li>-5.17629090909091</li><li>-4.48629090909091</li><li>-4.44629090909091</li><li>-4.17138181818181</li><li>-3.98883636363636</li><li>-3.8912</li><li>-3.80629090909091</li><li>-3.65374545454546</li><li>-3.00392727272727</li><li>-2.62138181818181</li><li>-2.56883636363636</li><li>-2.38647272727272</li><li>-2.33138181818181</li><li>-1.97629090909091</li><li>-1.83883636363636</li><li>-1.77647272727272</li><li>-1.43392727272727</li><li>-1.28883636363636</li><li>-0.971381818181813</li><li>-0.283927272727265</li><li>-0.171381818181812</li><li>0.166072727272734</li><li>0.256072727272734</li><li>0.348618181818187</li><li>0.498618181818188</li><li>0.661163636363641</li><li>1.22607272727273</li><li>1.32607272727273</li><li>1.33625454545455</li><li>1.37861818181819</li><li>1.48370909090909</li><li>1.98116363636364</li><li>2.51370909090909</li><li>2.63861818181819</li><li>2.86861818181819</li><li>2.98116363636364</li><li>3.17370909090909</li><li>3.23607272727273</li><li>3.78116363636364</li><li>5.25861818181819</li><li>5.44625454545455</li><li>6.41607272727273</li><li>6.42116363636364</li><li>9.05370909090909</li><li>9.82625454545454</li><li>10.3211636363636</li></ol>\n"
            ],
            "text/markdown": "1. -8.30374545454545\n2. -7.46629090909091\n3. -6.99392727272727\n4. -5.56138181818181\n5. -5.17629090909091\n6. -4.48629090909091\n7. -4.44629090909091\n8. -4.17138181818181\n9. -3.98883636363636\n10. -3.8912\n11. -3.80629090909091\n12. -3.65374545454546\n13. -3.00392727272727\n14. -2.62138181818181\n15. -2.56883636363636\n16. -2.38647272727272\n17. -2.33138181818181\n18. -1.97629090909091\n19. -1.83883636363636\n20. -1.77647272727272\n21. -1.43392727272727\n22. -1.28883636363636\n23. -0.971381818181813\n24. -0.283927272727265\n25. -0.171381818181812\n26. 0.166072727272734\n27. 0.256072727272734\n28. 0.348618181818187\n29. 0.498618181818188\n30. 0.661163636363641\n31. 1.22607272727273\n32. 1.32607272727273\n33. 1.33625454545455\n34. 1.37861818181819\n35. 1.48370909090909\n36. 1.98116363636364\n37. 2.51370909090909\n38. 2.63861818181819\n39. 2.86861818181819\n40. 2.98116363636364\n41. 3.17370909090909\n42. 3.23607272727273\n43. 3.78116363636364\n44. 5.25861818181819\n45. 5.44625454545455\n46. 6.41607272727273\n47. 6.42116363636364\n48. 9.05370909090909\n49. 9.82625454545454\n50. 10.3211636363636\n\n\n",
            "text/latex": "\\begin{enumerate*}\n\\item -8.30374545454545\n\\item -7.46629090909091\n\\item -6.99392727272727\n\\item -5.56138181818181\n\\item -5.17629090909091\n\\item -4.48629090909091\n\\item -4.44629090909091\n\\item -4.17138181818181\n\\item -3.98883636363636\n\\item -3.8912\n\\item -3.80629090909091\n\\item -3.65374545454546\n\\item -3.00392727272727\n\\item -2.62138181818181\n\\item -2.56883636363636\n\\item -2.38647272727272\n\\item -2.33138181818181\n\\item -1.97629090909091\n\\item -1.83883636363636\n\\item -1.77647272727272\n\\item -1.43392727272727\n\\item -1.28883636363636\n\\item -0.971381818181813\n\\item -0.283927272727265\n\\item -0.171381818181812\n\\item 0.166072727272734\n\\item 0.256072727272734\n\\item 0.348618181818187\n\\item 0.498618181818188\n\\item 0.661163636363641\n\\item 1.22607272727273\n\\item 1.32607272727273\n\\item 1.33625454545455\n\\item 1.37861818181819\n\\item 1.48370909090909\n\\item 1.98116363636364\n\\item 2.51370909090909\n\\item 2.63861818181819\n\\item 2.86861818181819\n\\item 2.98116363636364\n\\item 3.17370909090909\n\\item 3.23607272727273\n\\item 3.78116363636364\n\\item 5.25861818181819\n\\item 5.44625454545455\n\\item 6.41607272727273\n\\item 6.42116363636364\n\\item 9.05370909090909\n\\item 9.82625454545454\n\\item 10.3211636363636\n\\end{enumerate*}\n",
            "text/plain": [
              " [1] -8.3037455 -7.4662909 -6.9939273 -5.5613818 -5.1762909 -4.4862909\n",
              " [7] -4.4462909 -4.1713818 -3.9888364 -3.8912000 -3.8062909 -3.6537455\n",
              "[13] -3.0039273 -2.6213818 -2.5688364 -2.3864727 -2.3313818 -1.9762909\n",
              "[19] -1.8388364 -1.7764727 -1.4339273 -1.2888364 -0.9713818 -0.2839273\n",
              "[25] -0.1713818  0.1660727  0.2560727  0.3486182  0.4986182  0.6611636\n",
              "[31]  1.2260727  1.3260727  1.3362545  1.3786182  1.4837091  1.9811636\n",
              "[37]  2.5137091  2.6386182  2.8686182  2.9811636  3.1737091  3.2360727\n",
              "[43]  3.7811636  5.2586182  5.4462545  6.4160727  6.4211636  9.0537091\n",
              "[49]  9.8262545 10.3211636"
            ]
          },
          "metadata": {}
        },
        {
          "output_type": "display_data",
          "data": {
            "text/html": [
              "8"
            ],
            "text/markdown": "8",
            "text/latex": "8",
            "text/plain": [
              "[1] 8"
            ]
          },
          "metadata": {}
        },
        {
          "output_type": "display_data",
          "data": {
            "text/html": [
              "9"
            ],
            "text/markdown": "9",
            "text/latex": "9",
            "text/plain": [
              "[1] 9"
            ]
          },
          "metadata": {}
        },
        {
          "output_type": "display_data",
          "data": {
            "text/html": [
              "8"
            ],
            "text/markdown": "8",
            "text/latex": "8",
            "text/plain": [
              "[1] 8"
            ]
          },
          "metadata": {}
        },
        {
          "output_type": "display_data",
          "data": {
            "text/html": [
              "11"
            ],
            "text/markdown": "11",
            "text/latex": "11",
            "text/plain": [
              "[1] 11"
            ]
          },
          "metadata": {}
        },
        {
          "output_type": "display_data",
          "data": {
            "text/html": [
              "7"
            ],
            "text/markdown": "7",
            "text/latex": "7",
            "text/plain": [
              "[1] 7"
            ]
          },
          "metadata": {}
        },
        {
          "output_type": "display_data",
          "data": {
            "text/html": [
              "7"
            ],
            "text/markdown": "7",
            "text/latex": "7",
            "text/plain": [
              "[1] 7"
            ]
          },
          "metadata": {}
        }
      ]
    },
    {
      "cell_type": "markdown",
      "source": [
        "$\\Delta_0 = [-10,-4), \\Delta_1 = [-4,-2), \\Delta_2 = [-2,0), \\Delta_3 =[0,2),\\Delta_4 =[2,4),   \\Delta_5=[4, + \\infty)$\n",
        "\n",
        "Найдём верoятности попадания СВ в построенные интервалы.\n",
        "\n"
      ],
      "metadata": {
        "id": "z66VvZYXpPS2"
      }
    },
    {
      "cell_type": "markdown",
      "source": [
        "\n",
        "$p_0 = 0,16738, p_1 = 0.14426, p_2 = 0.17788, p_3 =  0.17788, p_4 =   0.14426, p_5 =  0,18834$\n",
        "\n",
        "$\\sum \\limits_{i=0}^6 p_i = 1$\n",
        "\n",
        "$\\;\\;\\;\\;$ $\\Delta_0$, $\\Delta_1$, $\\Delta_2$, $\\Delta_3$, $\\Delta_4$, $\\Delta_5$\n",
        "\n",
        "$i$ $\\;\\;$ $ 0, $ $\\;\\;1,$   $\\;\\;\\;2,$  $\\;3,$ $\\;4,$ $\\;5$\n",
        "\n",
        "$n_i$ $\\;8, 9, 8, 11,7,7\\;$\n",
        "\n",
        "$p_i$ $0,16738,  0.14426,  0.17788,   0.17788,   0.14426,  0,18834$\n",
        "\n",
        "$np_i$ $8.369, 7.213, 8.894, 8.894, 7.213, 9.417$\n",
        "\n",
        "$\\frac{(n_i - np_i)^2}{np_i}$ $ 0.0163, 0.443, 0.09, 0.5, 0.006, 0.62  $\n",
        "\n",
        "$\\chi^2_в = \\sum \\frac{(n_i - np_i)^2}{np_i} = 1.6753$\n",
        "\n",
        "где\n",
        "\n",
        "$np_i$ ожидаемые частоты попадания в интервал.\n",
        "\n",
        "$\\alpha = 0.2$\n",
        "\n",
        "Найдём квантиль распределения $\\chi^2_{1 - \\alpha, r - 1}$, где\n",
        "\n",
        "$r$ - кол-во интервалов.\n"
      ],
      "metadata": {
        "id": "y0Mqd-CXRony"
      }
    },
    {
      "cell_type": "code",
      "source": [
        "print(qchisq(p = 0.8, df = 5))"
      ],
      "metadata": {
        "colab": {
          "base_uri": "https://localhost:8080/"
        },
        "id": "NZFnkf0uZzVj",
        "outputId": "2cf18dab-90c0-43cf-c16e-d891f3cb6648"
      },
      "execution_count": 545,
      "outputs": [
        {
          "output_type": "stream",
          "name": "stdout",
          "text": [
            "[1] 7.289276\n"
          ]
        }
      ]
    },
    {
      "cell_type": "markdown",
      "source": [
        "\n",
        "$\\chi^2_{1 - 0.2, 6 - 1} =  7.289276$\n",
        "\n",
        "$\\chi^2_в < \\chi^2_{0.9, 3}  \\Rightarrow H_0$  не отвергается."
      ],
      "metadata": {
        "id": "TVa5pamQZ5ac"
      }
    },
    {
      "cell_type": "markdown",
      "source": [
        "Оценим расстояние полученной оценки до класса норм.распр. по Колмогорову"
      ],
      "metadata": {
        "id": "276ts0jSEasu"
      }
    },
    {
      "cell_type": "code",
      "source": [
        "ks.test(mistakes, \"pnorm\")"
      ],
      "metadata": {
        "colab": {
          "base_uri": "https://localhost:8080/",
          "height": 126
        },
        "id": "9FYNLGkWjwL7",
        "outputId": "daa649f6-a93c-4ea6-a723-5ea72b911e60"
      },
      "execution_count": 546,
      "outputs": [
        {
          "output_type": "display_data",
          "data": {
            "text/plain": [
              "\n",
              "\tExact one-sample Kolmogorov-Smirnov test\n",
              "\n",
              "data:  mistakes\n",
              "D = 0.36217, p-value = 2.208e-06\n",
              "alternative hypothesis: two-sided\n"
            ]
          },
          "metadata": {}
        }
      ]
    },
    {
      "cell_type": "markdown",
      "source": [
        "Поскольку p-value = 2.208e-06 сильно меньше уровня значимости 0.2, то гипотезу отвергаем.\n"
      ],
      "metadata": {
        "id": "kpxmtDOfoBDz"
      }
    },
    {
      "cell_type": "code",
      "source": [
        "h=2.1\n",
        "count=(max(mistakes)-min(mistakes))/h\n",
        "library(lattice)\n",
        "hist= hist(mistakes, breaks=count)\n",
        "str(hist)\n",
        "curve(dnorm, add = T,col='blue'  )"
      ],
      "metadata": {
        "colab": {
          "base_uri": "https://localhost:8080/",
          "height": 583
        },
        "id": "phRtnL3fqi9O",
        "outputId": "56c2e2af-34bb-4d7c-bccf-ff8726022626"
      },
      "execution_count": 547,
      "outputs": [
        {
          "output_type": "stream",
          "name": "stdout",
          "text": [
            "List of 6\n",
            " $ breaks  : num [1:12] -10 -8 -6 -4 -2 0 2 4 6 8 ...\n",
            " $ counts  : int [1:11] 1 2 5 9 8 11 7 2 2 2 ...\n",
            " $ density : num [1:11] 0.01 0.02 0.05 0.09 0.08 0.11 0.07 0.02 0.02 0.02 ...\n",
            " $ mids    : num [1:11] -9 -7 -5 -3 -1 1 3 5 7 9 ...\n",
            " $ xname   : chr \"mistakes\"\n",
            " $ equidist: logi TRUE\n",
            " - attr(*, \"class\")= chr \"histogram\"\n"
          ]
        },
        {
          "output_type": "display_data",
          "data": {
            "text/plain": [
              "Plot with title “Histogram of mistakes”"
            ],
            "image/png": "[encoded data removed]"
          },
          "metadata": {
            "image/png": {
              "width": 420,
              "height": 420
            }
          }
        }
      ]
    },
    {
      "cell_type": "markdown",
      "source": [
        "3.ДИ для $\\beta_0$:\n",
        "\n",
        "ДНО-функция: $\\psi(β) = C^\\intercal \\beta $\n",
        "\n",
        "$C = (1, 0)^\\intercal$\n",
        "\n",
        "НРМД оценка $\\hat{\\psi} = \\sum_{j=1}^m c_j\\hat{\\beta}_j=\\hat{β_0}$\n",
        "\n",
        "ДИ: $\\psi \\in \\left[\\hat{\\psi} - x_\\alpha S \\sqrt{b}; \\hat{\\psi} + x_\\alpha S \\sqrt{b}\\right] $,\n",
        "\n",
        "$x_\\alpha: S_{n-r}(x_\\alpha) = 1 - \\frac{\\alpha}{2}$\n",
        "\n",
        "$b = C^\\intercal(XX^\\intercal)^{-1}C$"
      ],
      "metadata": {
        "id": "fsYWH73caLT6"
      }
    },
    {
      "cell_type": "code",
      "source": [
        "x_a=qt(0.9,df=n-r)\n",
        "x_a\n",
        "C=c(1,0)\n",
        "C=matrix(C)\n",
        "b=t(matrix(C)) %*% xx_1 %*% C\n",
        "left=beta[1]-x_a*mse*sqrt(b)\n",
        "right=beta[1]+x_a*mse*sqrt(b)\n",
        "left\n",
        "right"
      ],
      "metadata": {
        "colab": {
          "base_uri": "https://localhost:8080/",
          "height": 201
        },
        "id": "SnHak7OHd9hf",
        "outputId": "fd582e21-8cab-4a7e-93bd-5fbb39dbf9ff"
      },
      "execution_count": 548,
      "outputs": [
        {
          "output_type": "display_data",
          "data": {
            "text/html": [
              "1.29943887867139"
            ],
            "text/markdown": "1.29943887867139",
            "text/latex": "1.29943887867139",
            "text/plain": [
              "[1] 1.299439"
            ]
          },
          "metadata": {}
        },
        {
          "output_type": "display_data",
          "data": {
            "text/html": [
              "<table class=\"dataframe\">\n",
              "<caption>A matrix: 1 × 1 of type dbl</caption>\n",
              "<tbody>\n",
              "\t<tr><td>5.832096</td></tr>\n",
              "</tbody>\n",
              "</table>\n"
            ],
            "text/markdown": "\nA matrix: 1 × 1 of type dbl\n\n| 5.832096 |\n\n",
            "text/latex": "A matrix: 1 × 1 of type dbl\n\\begin{tabular}{l}\n\t 5.832096\\\\\n\\end{tabular}\n",
            "text/plain": [
              "     [,1]    \n",
              "[1,] 5.832096"
            ]
          },
          "metadata": {}
        },
        {
          "output_type": "display_data",
          "data": {
            "text/html": [
              "<table class=\"dataframe\">\n",
              "<caption>A matrix: 1 × 1 of type dbl</caption>\n",
              "<tbody>\n",
              "\t<tr><td>10.20594</td></tr>\n",
              "</tbody>\n",
              "</table>\n"
            ],
            "text/markdown": "\nA matrix: 1 × 1 of type dbl\n\n| 10.20594 |\n\n",
            "text/latex": "A matrix: 1 × 1 of type dbl\n\\begin{tabular}{l}\n\t 10.20594\\\\\n\\end{tabular}\n",
            "text/plain": [
              "     [,1]    \n",
              "[1,] 10.20594"
            ]
          },
          "metadata": {}
        }
      ]
    },
    {
      "cell_type": "markdown",
      "source": [
        "$ β_0 \\in [5.832096,10.20594] $"
      ],
      "metadata": {
        "id": "gBZmEWcvgQ93"
      }
    },
    {
      "cell_type": "markdown",
      "source": [
        "ДИ для $\\beta_1$:\n",
        "\n",
        "ДНО-функция: $\\psi(β) = C^\\intercal \\beta $\n",
        "\n",
        "$C = (0, 1)^\\intercal$\n",
        "\n",
        "НРМД оценка $\\hat{\\psi} = \\sum_{j=1}^m c_j\\hat{\\beta}_j=\\hat{β_1}$\n",
        "\n",
        "ДИ: $\\psi \\in \\left[\\hat{\\psi} - x_\\alpha S \\sqrt{b}; \\hat{\\psi} + x_\\alpha S \\sqrt{b}\\right] $,\n",
        "\n",
        "$x_\\alpha: S_{n-r}(x_\\alpha) = 1 - \\frac{\\alpha}{2}$\n",
        "\n",
        "$b = C^\\intercal(XX^\\intercal)^{-1}C$"
      ],
      "metadata": {
        "id": "Hx0ximPHgd96"
      }
    },
    {
      "cell_type": "code",
      "source": [
        "C_2=c(0,1)\n",
        "C_2=matrix(C_2)\n",
        "b_2=t(matrix(C_2)) %*% xx_1 %*% C_2\n",
        "left_2=beta[2]-x_a*mse*sqrt(b_2)\n",
        "right_2=beta[2]+x_a*mse*sqrt(b_2)\n",
        "left_2\n",
        "right_2"
      ],
      "metadata": {
        "colab": {
          "base_uri": "https://localhost:8080/",
          "height": 149
        },
        "id": "00FKB9XBgoNX",
        "outputId": "d4b2a39c-9c01-4f20-9a80-5ee982a026e3"
      },
      "execution_count": 549,
      "outputs": [
        {
          "output_type": "display_data",
          "data": {
            "text/html": [
              "<table class=\"dataframe\">\n",
              "<caption>A matrix: 1 × 1 of type dbl</caption>\n",
              "<tbody>\n",
              "\t<tr><td>-0.1430741</td></tr>\n",
              "</tbody>\n",
              "</table>\n"
            ],
            "text/markdown": "\nA matrix: 1 × 1 of type dbl\n\n| -0.1430741 |\n\n",
            "text/latex": "A matrix: 1 × 1 of type dbl\n\\begin{tabular}{l}\n\t -0.1430741\\\\\n\\end{tabular}\n",
            "text/plain": [
              "     [,1]      \n",
              "[1,] -0.1430741"
            ]
          },
          "metadata": {}
        },
        {
          "output_type": "display_data",
          "data": {
            "text/html": [
              "<table class=\"dataframe\">\n",
              "<caption>A matrix: 1 × 1 of type dbl</caption>\n",
              "<tbody>\n",
              "\t<tr><td>0.9579832</td></tr>\n",
              "</tbody>\n",
              "</table>\n"
            ],
            "text/markdown": "\nA matrix: 1 × 1 of type dbl\n\n| 0.9579832 |\n\n",
            "text/latex": "A matrix: 1 × 1 of type dbl\n\\begin{tabular}{l}\n\t 0.9579832\\\\\n\\end{tabular}\n",
            "text/plain": [
              "     [,1]     \n",
              "[1,] 0.9579832"
            ]
          },
          "metadata": {}
        }
      ]
    },
    {
      "cell_type": "markdown",
      "source": [
        "$ β_1 \\in [-0.1430741,0.9579832] $"
      ],
      "metadata": {
        "id": "dKiNZFBuhM3c"
      }
    },
    {
      "cell_type": "markdown",
      "source": [
        "Доверительный эллипс уровня доверия $1- α$ для $ (β_0,β_1) $\n",
        "\n",
        "$ A_α =\\{ \\vec{x}: (\\vec{x}-\\hat{\\psi})^\\intercal B^{-1}(\\vec{x}-\\hat{\\psi}) \\leq qs^2x_α\\}$\n",
        "\n",
        "\n",
        "$x_\\alpha: F_{q,n-r}(x_\\alpha) = 1 - α$\n",
        "\n",
        "$ B= C^\\intercal(XX^\\intercal)^{-1}C $\n",
        "\n",
        "q - размер вектора $\\psi$, т.е. q=2\n",
        "\n",
        "$ C=\\begin{pmatrix} 1 & 0 \\\\ 0 & 1 \\end{pmatrix} $\n",
        "\n",
        "$\\hat{\\psi} = C^\\intercal \\beta=(β_0,β_1)$\n",
        "\n"
      ],
      "metadata": {
        "id": "XR5dtyvshSU6"
      }
    },
    {
      "cell_type": "code",
      "source": [
        "C=diag(2)\n",
        "B=t(C) %*% xx_1 %*% C\n",
        "B\n",
        "B=solve(B)\n",
        "B"
      ],
      "metadata": {
        "colab": {
          "base_uri": "https://localhost:8080/",
          "height": 212
        },
        "id": "zvasEuOGlWob",
        "outputId": "c0dcc695-e570-44f9-940f-52a31420e582"
      },
      "execution_count": 550,
      "outputs": [
        {
          "output_type": "display_data",
          "data": {
            "text/html": [
              "<table class=\"dataframe\">\n",
              "<caption>A matrix: 2 × 2 of type dbl</caption>\n",
              "<tbody>\n",
              "\t<tr><td> 0.1510048</td><td>-0.035406699</td></tr>\n",
              "\t<tr><td>-0.0354067</td><td> 0.009569378</td></tr>\n",
              "</tbody>\n",
              "</table>\n"
            ],
            "text/markdown": "\nA matrix: 2 × 2 of type dbl\n\n|  0.1510048 | -0.035406699 |\n| -0.0354067 |  0.009569378 |\n\n",
            "text/latex": "A matrix: 2 × 2 of type dbl\n\\begin{tabular}{ll}\n\t  0.1510048 & -0.035406699\\\\\n\t -0.0354067 &  0.009569378\\\\\n\\end{tabular}\n",
            "text/plain": [
              "     [,1]       [,2]        \n",
              "[1,]  0.1510048 -0.035406699\n",
              "[2,] -0.0354067  0.009569378"
            ]
          },
          "metadata": {}
        },
        {
          "output_type": "display_data",
          "data": {
            "text/html": [
              "<table class=\"dataframe\">\n",
              "<caption>A matrix: 2 × 2 of type dbl</caption>\n",
              "<tbody>\n",
              "\t<tr><td> 50</td><td>185</td></tr>\n",
              "\t<tr><td>185</td><td>789</td></tr>\n",
              "</tbody>\n",
              "</table>\n"
            ],
            "text/markdown": "\nA matrix: 2 × 2 of type dbl\n\n|  50 | 185 |\n| 185 | 789 |\n\n",
            "text/latex": "A matrix: 2 × 2 of type dbl\n\\begin{tabular}{ll}\n\t  50 & 185\\\\\n\t 185 & 789\\\\\n\\end{tabular}\n",
            "text/plain": [
              "     [,1] [,2]\n",
              "[1,]  50  185 \n",
              "[2,] 185  789 "
            ]
          },
          "metadata": {}
        }
      ]
    },
    {
      "cell_type": "code",
      "source": [
        "beta\n",
        "qf(0.8,2,48)"
      ],
      "metadata": {
        "colab": {
          "base_uri": "https://localhost:8080/",
          "height": 132
        },
        "id": "zJyeUKlGm_Hm",
        "outputId": "fd521e75-dc95-4714-d985-d3c48c32f8da"
      },
      "execution_count": 551,
      "outputs": [
        {
          "output_type": "display_data",
          "data": {
            "text/html": [
              "<table class=\"dataframe\">\n",
              "<caption>A matrix: 2 × 1 of type dbl</caption>\n",
              "<tbody>\n",
              "\t<tr><th scope=row>one</th><td>8.0190182</td></tr>\n",
              "\t<tr><th scope=row>vec_x</th><td>0.4074545</td></tr>\n",
              "</tbody>\n",
              "</table>\n"
            ],
            "text/markdown": "\nA matrix: 2 × 1 of type dbl\n\n| one | 8.0190182 |\n| vec_x | 0.4074545 |\n\n",
            "text/latex": "A matrix: 2 × 1 of type dbl\n\\begin{tabular}{r|l}\n\tone & 8.0190182\\\\\n\tvec\\_x & 0.4074545\\\\\n\\end{tabular}\n",
            "text/plain": [
              "      [,1]     \n",
              "one   8.0190182\n",
              "vec_x 0.4074545"
            ]
          },
          "metadata": {}
        },
        {
          "output_type": "display_data",
          "data": {
            "text/html": [
              "1.66462907551485"
            ],
            "text/markdown": "1.66462907551485",
            "text/latex": "1.66462907551485",
            "text/plain": [
              "[1] 1.664629"
            ]
          },
          "metadata": {}
        }
      ]
    },
    {
      "cell_type": "markdown",
      "source": [
        "$ \\left(\\begin{pmatrix} x \\\\ y  \\end{pmatrix}-\\begin{pmatrix} β_0 \\\\ β_1  \\end{pmatrix}\\right)^\\intercal B^{-1}\\left(\\begin{pmatrix} x \\\\ y  \\end{pmatrix}-\\begin{pmatrix} β_0 \\\\ β_1  \\end{pmatrix}\\right) \\leq qs^2x_α $\n",
        "\n",
        "$ \\left(\\begin{pmatrix} x \\\\ y  \\end{pmatrix}-\\begin{pmatrix} 8.019 \\\\ 0.40745  \\end{pmatrix}\\right)^\\intercal \\begin{pmatrix} 50 & 185 \\\\ 185 & 789  \\end{pmatrix}\\left(\\begin{pmatrix} x \\\\ y  \\end{pmatrix}-\\begin{pmatrix} 8.019 \\\\ 0.40745  \\end{pmatrix}\\right) \\leq 2 \\cdot 18.757 \\cdot 1.66 $\n",
        "\n",
        "$ \\begin{pmatrix} x-8.019 & y-0.40745   \\end{pmatrix}  \\begin{pmatrix} 50 & 185 \\\\ 185 & 789  \\end{pmatrix}\\begin{pmatrix} x-8.019 \\\\ y-0.40745   \\end{pmatrix} \\leq 62.273 $\n",
        "\n",
        "$50x^2-952,6565x+4555,12+370xy-3609,9861y+789y^2 \\leq 62.273 $\n",
        "\n",
        "Приведем уравнение (неравенство) эллипса к каноническому виду методом инвариантов.\n",
        "\n",
        "\n",
        " $50x^2-952,6565x+4555,12+370xy-3609,9861y+789y^2 = 62.273 $\n",
        "\n",
        "\n",
        " $50x^2-952,6565x+4492,847+370xy-3609,9861y+789y^2 = 0 $\n",
        "\n",
        "  $Аx^2+2Dx+F+2Bxy+2Ey+Cy^2 = 0 $\n",
        "\n",
        "  $ A=50,B=185,C=789, D=-476.32825, E=-1804.993, F=4492,847 $\n",
        "\n",
        "  Инварианты:\n",
        "\n",
        "  $ S=A+C=839 $\n",
        "\n",
        "  $δ=det\\begin{pmatrix} A & B \\\\ B & C   \\end{pmatrix}  = det B^{-1} $\n",
        "\n",
        "  $ Δ=det\\begin{pmatrix} A & B & D \\\\ B & C & E \\\\ D & E & F  \\end{pmatrix} $\n",
        "\n",
        "  Поскольку инварианты не зависят от коэффициентов того или иного уравнения, то справедливо:\n",
        "  $ S=A+C=A_1+C_1 $\n",
        "\n",
        "  $δ=det\\begin{pmatrix} A & B \\\\ B & C   \\end{pmatrix}  = det\\begin{pmatrix} A_1 & B_1 \\\\ B_1 & C_1   \\end{pmatrix}=det\\begin{pmatrix} A_1 & 0 \\\\ 0 & C_1   \\end{pmatrix} = A_1C_1 $\n",
        "\n",
        "  $ Δ=det\\begin{pmatrix} A & B & D \\\\ B & C & E \\\\ D & E & F  \\end{pmatrix}=det\\begin{pmatrix} A_1 & B_1 & D_1 \\\\ B_1 & C_1 & E_1 \\\\ D_1 & E_1 & F_1  \\end{pmatrix}=det\\begin{pmatrix} A_1 & 0 & 0 \\\\ 0 & C_1 & 0 \\\\ 0 & 0 & F_1  \\end{pmatrix}=A_1C_1F_1 $\n",
        "\n",
        "  Находим инварианты:\n",
        "\n",
        " $ S=A+C=839 $\n",
        "\n",
        "  $δ=det B^{-1} $\n",
        "\n"
      ],
      "metadata": {
        "id": "bV54n5DJl4O-"
      }
    },
    {
      "cell_type": "code",
      "source": [
        "\n",
        "det(B)"
      ],
      "metadata": {
        "colab": {
          "base_uri": "https://localhost:8080/",
          "height": 34
        },
        "id": "hXRsZe_ogTnM",
        "outputId": "96f0c85a-b54f-4ac4-d42e-1c182d0a1494"
      },
      "execution_count": 552,
      "outputs": [
        {
          "output_type": "display_data",
          "data": {
            "text/html": [
              "5225"
            ],
            "text/markdown": "5225",
            "text/latex": "5225",
            "text/plain": [
              "[1] 5225"
            ]
          },
          "metadata": {}
        }
      ]
    },
    {
      "cell_type": "markdown",
      "source": [
        " $δ=det B^{-1}=5225 $"
      ],
      "metadata": {
        "id": "mhJEnIXCg18m"
      }
    },
    {
      "cell_type": "code",
      "source": [
        "A=50\n",
        "B_=185\n",
        "C_=789\n",
        "D=-476.32825\n",
        "E=-1804.993\n",
        "F_=4492.847\n",
        "m1=c(A,B_,D)\n",
        "m2=c(B_,C_,E)\n",
        "m3=c(D,E,F_)\n",
        "M=rbind(m1,m2,m3)\n",
        "det(M)"
      ],
      "metadata": {
        "colab": {
          "base_uri": "https://localhost:8080/",
          "height": 34
        },
        "id": "1-69_WTHg2WT",
        "outputId": "aae03a39-8fa0-41b3-8dd1-6eb8098b0d4e"
      },
      "execution_count": 553,
      "outputs": [
        {
          "output_type": "display_data",
          "data": {
            "text/html": [
              "-325379.634338819"
            ],
            "text/markdown": "-325379.634338819",
            "text/latex": "-325379.634338819",
            "text/plain": [
              "[1] -325379.6"
            ]
          },
          "metadata": {}
        }
      ]
    },
    {
      "cell_type": "markdown",
      "source": [
        " $ Δ=-325379.634$\n",
        "\n",
        " Решаем систему\n",
        "\n",
        " $ \\begin{equation}\n",
        "\\left\\{\n",
        "\\begin{array}{ll}\n",
        "A_1+C_1=S\\\\\n",
        "A_1C_1=δ\\\\\n",
        "A_1C_1F_1=Δ\n",
        "\\end{array}\\right.\n",
        "\\end{equation} $\n",
        "\n",
        " $ \\begin{equation}\n",
        "\\left\\{\n",
        "\\begin{array}{ll}\n",
        "A_1+C_1=839\\\\\n",
        "A_1C_1=5225\\\\\n",
        "A_1C_1F_1=-325379.634=-62.2736 \\cdot 5225\n",
        "\\end{array}\\right.\n",
        "\\end{equation} $\n",
        "\n",
        "$ F_1= -62.2736$\n",
        "\n",
        "$A_1=S-C_1=839-C_1 $\n",
        "\n",
        "$ (839-C_1)C1=5225 $\n",
        "\n",
        "$ C_1^2-839C_1+5225=0 $\n",
        "\n",
        "$ C_1=6.27458 $ или $ C_1=832.72542 $\n",
        "\n",
        "$ А_1=839-6.27458=832.72542 $ или $ А_1=839-832.72542=6.27458 $\n",
        "\n",
        "Так как в каноническом уравнении эллипса a>b, то выбираем решение\n",
        "\n",
        " $ А_1=6.27458, C_1=832.72542,  F_1= -62.2736 $\n",
        "\n",
        "Уравнение линии принимает вид\n",
        "\n",
        "$ A_1\\widetilde{x}^2+C_1\\widetilde{y}^2+F_1=0 $\n",
        "\n",
        "$ 6.27458\\widetilde{x}^2+832.72542\\widetilde{y}^2-62.2736=0 $\n",
        "\n",
        "Координаты нового начала координат отыскиваются из СЛУ:\n",
        "\n",
        "$  \\begin{equation}\n",
        "\\left\\{\n",
        "\\begin{array}{ll}\n",
        "Ax_0+By_0+D=0\\\\\n",
        "Bx_0+Cy_0+E=0\n",
        "\\end{array}\\right.\n",
        "\\end{equation}  $\n",
        "\n",
        "$  \\begin{equation}\n",
        "\\left\\{\n",
        "\\begin{array}{ll}\n",
        "50x_0+185y_0-476.32825=0\\\\\n",
        "185x_0+789y_0-1804.993=0\n",
        "\\end{array}\\right.\n",
        "\\end{equation}  $\n",
        "\n",
        "$ x_0=8,019; y_0=0,40745 $\n",
        "\n",
        "Угол поворота новой системы координат отыскивается:\n",
        "\n",
        "$ tg(α_0)=\\frac{A_1-A}{B} $\n",
        "\n",
        "$  tg(α_0)=\\frac{6.27458-50}{185} $\n",
        "\n",
        "$ α_0=-0,232094+\\pi k $\n",
        "\n",
        "Приводим к каноническому виду:\n",
        "\n",
        "$ 6.27458\\widetilde{x}^2+832.72542\\widetilde{y}^2=62.2736 $\n",
        "\n",
        "$ \\frac{6.27458\\widetilde{x}^2}{62.2736}+\\frac{832.72542\\widetilde{y}^2}{62.2736}=1 $\n",
        "\n",
        "$ \\frac{\\widetilde{x}^2}{9,92474}+\\frac{\\widetilde{y}^2}{0,074783}=1 $\n"
      ],
      "metadata": {
        "id": "8oNOBaTJhddQ"
      }
    },
    {
      "cell_type": "code",
      "source": [
        "print(\"Полуоси: a=\")\n",
        " sqrt(9.92474)\n",
        " print(\"b=\")\n",
        "sqrt(0.074783)"
      ],
      "metadata": {
        "colab": {
          "base_uri": "https://localhost:8080/",
          "height": 88
        },
        "id": "mZW6jcQOCWaO",
        "outputId": "e22949b8-88e6-44dc-bbfd-ac38c545f230"
      },
      "execution_count": 554,
      "outputs": [
        {
          "output_type": "stream",
          "name": "stdout",
          "text": [
            "[1] \"Полуоси: a=\"\n"
          ]
        },
        {
          "output_type": "display_data",
          "data": {
            "text/html": [
              "3.15035553549119"
            ],
            "text/markdown": "3.15035553549119",
            "text/latex": "3.15035553549119",
            "text/plain": [
              "[1] 3.150356"
            ]
          },
          "metadata": {}
        },
        {
          "output_type": "stream",
          "name": "stdout",
          "text": [
            "[1] \"b=\"\n"
          ]
        },
        {
          "output_type": "display_data",
          "data": {
            "text/html": [
              "0.273464805779464"
            ],
            "text/markdown": "0.273464805779464",
            "text/latex": "0.273464805779464",
            "text/plain": [
              "[1] 0.2734648"
            ]
          },
          "metadata": {}
        }
      ]
    },
    {
      "cell_type": "markdown",
      "source": [
        "4. Гипотеза $ \\psi = 0 $, то есть $ β_1=0 $"
      ],
      "metadata": {
        "id": "Hs5U3odCG-uV"
      }
    },
    {
      "cell_type": "code",
      "source": [
        "beta_4=beta\n",
        "beta_4[2]=0\n",
        "beta_4\n",
        "rss_4=t(matrix(vec_y)-(t(x) %*% beta_4)) %*% (matrix(vec_y)-(t(x) %*% beta_4))\n",
        "ssn=rss_4-rss\n",
        "q=length(beta_4)\n",
        "f_stat=(ssn/q)/(rss/(n-r))\n",
        "f_stat\n",
        "qf(0.8,2,48)\n",
        "pv=1-pf(f_stat,2,48)\n",
        "pv"
      ],
      "metadata": {
        "colab": {
          "base_uri": "https://localhost:8080/",
          "height": 281
        },
        "id": "D5Sa-ItEHbja",
        "outputId": "5cabb216-e726-4b57-d26c-1d450ba6b21d"
      },
      "execution_count": 555,
      "outputs": [
        {
          "output_type": "display_data",
          "data": {
            "text/html": [
              "<table class=\"dataframe\">\n",
              "<caption>A matrix: 2 × 1 of type dbl</caption>\n",
              "<tbody>\n",
              "\t<tr><th scope=row>one</th><td>8.019018</td></tr>\n",
              "\t<tr><th scope=row>vec_x</th><td>0.000000</td></tr>\n",
              "</tbody>\n",
              "</table>\n"
            ],
            "text/markdown": "\nA matrix: 2 × 1 of type dbl\n\n| one | 8.019018 |\n| vec_x | 0.000000 |\n\n",
            "text/latex": "A matrix: 2 × 1 of type dbl\n\\begin{tabular}{r|l}\n\tone & 8.019018\\\\\n\tvec\\_x & 0.000000\\\\\n\\end{tabular}\n",
            "text/plain": [
              "      [,1]    \n",
              "one   8.019018\n",
              "vec_x 0.000000"
            ]
          },
          "metadata": {}
        },
        {
          "output_type": "display_data",
          "data": {
            "text/html": [
              "<table class=\"dataframe\">\n",
              "<caption>A matrix: 1 × 1 of type dbl</caption>\n",
              "<tbody>\n",
              "\t<tr><td>3.491732</td></tr>\n",
              "</tbody>\n",
              "</table>\n"
            ],
            "text/markdown": "\nA matrix: 1 × 1 of type dbl\n\n| 3.491732 |\n\n",
            "text/latex": "A matrix: 1 × 1 of type dbl\n\\begin{tabular}{l}\n\t 3.491732\\\\\n\\end{tabular}\n",
            "text/plain": [
              "     [,1]    \n",
              "[1,] 3.491732"
            ]
          },
          "metadata": {}
        },
        {
          "output_type": "display_data",
          "data": {
            "text/html": [
              "1.66462907551485"
            ],
            "text/markdown": "1.66462907551485",
            "text/latex": "1.66462907551485",
            "text/plain": [
              "[1] 1.664629"
            ]
          },
          "metadata": {}
        },
        {
          "output_type": "display_data",
          "data": {
            "text/html": [
              "<table class=\"dataframe\">\n",
              "<caption>A matrix: 1 × 1 of type dbl</caption>\n",
              "<tbody>\n",
              "\t<tr><td>0.0383901</td></tr>\n",
              "</tbody>\n",
              "</table>\n"
            ],
            "text/markdown": "\nA matrix: 1 × 1 of type dbl\n\n| 0.0383901 |\n\n",
            "text/latex": "A matrix: 1 × 1 of type dbl\n\\begin{tabular}{l}\n\t 0.0383901\\\\\n\\end{tabular}\n",
            "text/plain": [
              "     [,1]     \n",
              "[1,] 0.0383901"
            ]
          },
          "metadata": {}
        }
      ]
    },
    {
      "cell_type": "markdown",
      "source": [
        "F-статистика = 3.49\n",
        "\n",
        "$ x_α=1.665 $\n",
        "\n",
        "$F > x_{\\alpha_2}$ следовательно гипотеза о независимости отвергается"
      ],
      "metadata": {
        "id": "KipenfkrJlpx"
      }
    },
    {
      "cell_type": "markdown",
      "source": [
        "5. $ Y=β_0+β_1X+\\beta_2X^2+ε $\n",
        "\n",
        "$ E_ϴ(ε)=0 $\n",
        "\n",
        "$ Y=\\begin{pmatrix} 1 & x & x^2\\end{pmatrix} \\begin{pmatrix} β_0 \\\\ β_1 \\\\β_2 \\end{pmatrix}$\n",
        "\n",
        "МНК оценки параметров сдвига и масштаба\n",
        "\n",
        "$ RSS(β)=||Y-X^{\\intercal}β||^2 → min $\n",
        "\n",
        "Нормальные уравнения\n",
        "\n",
        "$ XX^{\\intercal}β=XY $\n",
        "\n",
        "$ \\hat{β}=(XX^{\\intercal})^{-1}XY $"
      ],
      "metadata": {
        "id": "gfJdrAzyJ8xx"
      }
    },
    {
      "cell_type": "code",
      "source": [
        "x2=vec_x^2\n",
        "x=rbind(x,x2)\n",
        "x"
      ],
      "metadata": {
        "colab": {
          "base_uri": "https://localhost:8080/",
          "height": 128
        },
        "id": "8XGoZd24Kt19",
        "outputId": "8e69f34e-f860-4128-c524-8bfa5ba7ddb3"
      },
      "execution_count": 556,
      "outputs": [
        {
          "output_type": "display_data",
          "data": {
            "text/html": [
              "<table class=\"dataframe\">\n",
              "<caption>A matrix: 3 × 50 of type dbl</caption>\n",
              "<tbody>\n",
              "\t<tr><th scope=row>one</th><td> 1</td><td> 1</td><td> 1</td><td> 1</td><td> 1</td><td>1</td><td> 1</td><td> 1</td><td> 1</td><td> 1</td><td>⋯</td><td>1</td><td> 1</td><td>1</td><td> 1</td><td> 1</td><td>1</td><td>1</td><td> 1</td><td>1</td><td> 1</td></tr>\n",
              "\t<tr><th scope=row>vec_x</th><td> 5</td><td> 6</td><td> 4</td><td> 5</td><td> 4</td><td>3</td><td> 4</td><td> 5</td><td> 4</td><td> 5</td><td>⋯</td><td>2</td><td> 6</td><td>2</td><td> 6</td><td> 5</td><td>3</td><td>2</td><td> 4</td><td>3</td><td> 4</td></tr>\n",
              "\t<tr><th scope=row>x2</th><td>25</td><td>36</td><td>16</td><td>25</td><td>16</td><td>9</td><td>16</td><td>25</td><td>16</td><td>25</td><td>⋯</td><td>4</td><td>36</td><td>4</td><td>36</td><td>25</td><td>9</td><td>4</td><td>16</td><td>9</td><td>16</td></tr>\n",
              "</tbody>\n",
              "</table>\n"
            ],
            "text/markdown": "\nA matrix: 3 × 50 of type dbl\n\n| one |  1 |  1 |  1 |  1 |  1 | 1 |  1 |  1 |  1 |  1 | ⋯ | 1 |  1 | 1 |  1 |  1 | 1 | 1 |  1 | 1 |  1 |\n| vec_x |  5 |  6 |  4 |  5 |  4 | 3 |  4 |  5 |  4 |  5 | ⋯ | 2 |  6 | 2 |  6 |  5 | 3 | 2 |  4 | 3 |  4 |\n| x2 | 25 | 36 | 16 | 25 | 16 | 9 | 16 | 25 | 16 | 25 | ⋯ | 4 | 36 | 4 | 36 | 25 | 9 | 4 | 16 | 9 | 16 |\n\n",
            "text/latex": "A matrix: 3 × 50 of type dbl\n\\begin{tabular}{r|lllllllllllllllllllll}\n\tone &  1 &  1 &  1 &  1 &  1 & 1 &  1 &  1 &  1 &  1 & ⋯ & 1 &  1 & 1 &  1 &  1 & 1 & 1 &  1 & 1 &  1\\\\\n\tvec\\_x &  5 &  6 &  4 &  5 &  4 & 3 &  4 &  5 &  4 &  5 & ⋯ & 2 &  6 & 2 &  6 &  5 & 3 & 2 &  4 & 3 &  4\\\\\n\tx2 & 25 & 36 & 16 & 25 & 16 & 9 & 16 & 25 & 16 & 25 & ⋯ & 4 & 36 & 4 & 36 & 25 & 9 & 4 & 16 & 9 & 16\\\\\n\\end{tabular}\n",
            "text/plain": [
              "      [,1] [,2] [,3] [,4] [,5] [,6] [,7] [,8] [,9] [,10] [,11] [,12] [,13]\n",
              "one    1    1    1    1    1   1     1    1    1    1    ⋯     1      1   \n",
              "vec_x  5    6    4    5    4   3     4    5    4    5    ⋯     2      6   \n",
              "x2    25   36   16   25   16   9    16   25   16   25    ⋯     4     36   \n",
              "      [,14] [,15] [,16] [,17] [,18] [,19] [,20] [,21]\n",
              "one   1      1     1    1     1      1    1      1   \n",
              "vec_x 2      6     5    3     2      4    3      4   \n",
              "x2    4     36    25    9     4     16    9     16   "
            ]
          },
          "metadata": {}
        }
      ]
    },
    {
      "cell_type": "code",
      "source": [
        "xx2=x %*% t(x)\n",
        "det(xx2)"
      ],
      "metadata": {
        "colab": {
          "base_uri": "https://localhost:8080/",
          "height": 34
        },
        "id": "XtqcfXUjK9RF",
        "outputId": "6813f4a2-f773-48bd-bb11-7e2d9f1df4ea"
      },
      "execution_count": 557,
      "outputs": [
        {
          "output_type": "display_data",
          "data": {
            "text/html": [
              "1331175.99999997"
            ],
            "text/markdown": "1331175.99999997",
            "text/latex": "1331175.99999997",
            "text/plain": [
              "[1] 1331176"
            ]
          },
          "metadata": {}
        }
      ]
    },
    {
      "cell_type": "markdown",
      "source": [
        "Определитель матрицы не равен нулю, следовательно можно найти обратную матрицу."
      ],
      "metadata": {
        "id": "0UKLK6h0LD-c"
      }
    },
    {
      "cell_type": "code",
      "source": [
        "xx_2=solve(xx2)\n",
        "xx_2"
      ],
      "metadata": {
        "colab": {
          "base_uri": "https://localhost:8080/",
          "height": 161
        },
        "id": "WBQcb2Q4LIKB",
        "outputId": "0ab25814-a6b7-440f-b02c-7bb0589112a6"
      },
      "execution_count": 558,
      "outputs": [
        {
          "output_type": "display_data",
          "data": {
            "text/html": [
              "<table class=\"dataframe\">\n",
              "<caption>A matrix: 3 × 3 of type dbl</caption>\n",
              "<thead>\n",
              "\t<tr><th></th><th scope=col>one</th><th scope=col>vec_x</th><th scope=col>x2</th></tr>\n",
              "</thead>\n",
              "<tbody>\n",
              "\t<tr><th scope=row>one</th><td> 0.76771516</td><td>-0.41191698</td><td> 0.049200106</td></tr>\n",
              "\t<tr><th scope=row>vec_x</th><td>-0.41191698</td><td> 0.23943415</td><td>-0.030037350</td></tr>\n",
              "\t<tr><th scope=row>x2</th><td> 0.04920011</td><td>-0.03003735</td><td> 0.003925101</td></tr>\n",
              "</tbody>\n",
              "</table>\n"
            ],
            "text/markdown": "\nA matrix: 3 × 3 of type dbl\n\n| <!--/--> | one | vec_x | x2 |\n|---|---|---|---|\n| one |  0.76771516 | -0.41191698 |  0.049200106 |\n| vec_x | -0.41191698 |  0.23943415 | -0.030037350 |\n| x2 |  0.04920011 | -0.03003735 |  0.003925101 |\n\n",
            "text/latex": "A matrix: 3 × 3 of type dbl\n\\begin{tabular}{r|lll}\n  & one & vec\\_x & x2\\\\\n\\hline\n\tone &  0.76771516 & -0.41191698 &  0.049200106\\\\\n\tvec\\_x & -0.41191698 &  0.23943415 & -0.030037350\\\\\n\tx2 &  0.04920011 & -0.03003735 &  0.003925101\\\\\n\\end{tabular}\n",
            "text/plain": [
              "      one         vec_x       x2          \n",
              "one    0.76771516 -0.41191698  0.049200106\n",
              "vec_x -0.41191698  0.23943415 -0.030037350\n",
              "x2     0.04920011 -0.03003735  0.003925101"
            ]
          },
          "metadata": {}
        }
      ]
    },
    {
      "cell_type": "code",
      "source": [
        "beta_2=xx_2 %*% x\n",
        "beta_2=beta_2 %*% matrix(vec_y)\n",
        "beta_2"
      ],
      "metadata": {
        "colab": {
          "base_uri": "https://localhost:8080/",
          "height": 146
        },
        "id": "easaJ7thLP_l",
        "outputId": "947ac9e1-8a00-4979-ea63-4ba68834d96c"
      },
      "execution_count": 559,
      "outputs": [
        {
          "output_type": "display_data",
          "data": {
            "text/html": [
              "<table class=\"dataframe\">\n",
              "<caption>A matrix: 3 × 1 of type dbl</caption>\n",
              "<tbody>\n",
              "\t<tr><th scope=row>one</th><td> 4.859938</td></tr>\n",
              "\t<tr><th scope=row>vec_x</th><td> 2.336117</td></tr>\n",
              "\t<tr><th scope=row>x2</th><td>-0.252026</td></tr>\n",
              "</tbody>\n",
              "</table>\n"
            ],
            "text/markdown": "\nA matrix: 3 × 1 of type dbl\n\n| one |  4.859938 |\n| vec_x |  2.336117 |\n| x2 | -0.252026 |\n\n",
            "text/latex": "A matrix: 3 × 1 of type dbl\n\\begin{tabular}{r|l}\n\tone &  4.859938\\\\\n\tvec\\_x &  2.336117\\\\\n\tx2 & -0.252026\\\\\n\\end{tabular}\n",
            "text/plain": [
              "      [,1]     \n",
              "one    4.859938\n",
              "vec_x  2.336117\n",
              "x2    -0.252026"
            ]
          },
          "metadata": {}
        }
      ]
    },
    {
      "cell_type": "markdown",
      "source": [
        "МНК оценки: $ β_0=4.859938, β_1=2.336117, β_2=-0.252026 $\n",
        "$ Y=4.859938+2.336117X-0.252026X^2+ε $"
      ],
      "metadata": {
        "id": "p8pZm8DwLa9a"
      }
    },
    {
      "cell_type": "code",
      "source": [
        "plot(vec_x, vec_y, col='red', xlab='x', ylab='y')\n",
        "x_sort=seq(min(vec_x), max(vec_x), by=0.2)\n",
        "#add second line to plot\n",
        "lines(x_sort, 4.859938+2.336117*x_sort - 0.252026*(x_sort^2), col='blue')"
      ],
      "metadata": {
        "colab": {
          "base_uri": "https://localhost:8080/",
          "height": 437
        },
        "id": "2LCZEN6MLysh",
        "outputId": "444b0cef-9f24-44f5-8c28-450f8424d728"
      },
      "execution_count": 560,
      "outputs": [
        {
          "output_type": "display_data",
          "data": {
            "text/plain": [
              "plot without title"
            ],
            "image/png": "[encoded data removed]"
          },
          "metadata": {
            "image/png": {
              "width": 420,
              "height": 420
            }
          }
        }
      ]
    },
    {
      "cell_type": "markdown",
      "source": [
        "6.Несмещенная оценка дисперсии\n",
        "\n",
        "$ s^2=\\frac{RSS(β)}{n-r} $"
      ],
      "metadata": {
        "id": "0txeckNGOrVV"
      }
    },
    {
      "cell_type": "code",
      "source": [
        "library(Matrix)\n",
        "r=rankMatrix(x)\n",
        "n=50\n",
        "rss=t(matrix(vec_y)-(t(x) %*% beta_2)) %*% (matrix(vec_y)-(t(x) %*% beta_2))\n",
        "s2=rss/(n-r)\n",
        "s2\n",
        "mse=s2^0.5\n",
        "mse"
      ],
      "metadata": {
        "colab": {
          "base_uri": "https://localhost:8080/",
          "height": 184
        },
        "id": "7mupYapfO8G1",
        "outputId": "76362cae-8c42-4ee9-af31-5124cbda69a4"
      },
      "execution_count": 561,
      "outputs": [
        {
          "output_type": "display_data",
          "data": {
            "text/html": [
              "<table class=\"dataframe\">\n",
              "<caption>A matrix: 1 × 1 of type dbl</caption>\n",
              "<tbody>\n",
              "\t<tr><td>18.81183</td></tr>\n",
              "</tbody>\n",
              "</table>\n"
            ],
            "text/markdown": "\nA matrix: 1 × 1 of type dbl\n\n| 18.81183 |\n\n",
            "text/latex": "A matrix: 1 × 1 of type dbl\n\\begin{tabular}{l}\n\t 18.81183\\\\\n\\end{tabular}\n",
            "text/plain": [
              "     [,1]    \n",
              "[1,] 18.81183"
            ]
          },
          "metadata": {}
        },
        {
          "output_type": "display_data",
          "data": {
            "text/html": [
              "<table class=\"dataframe\">\n",
              "<caption>A matrix: 1 × 1 of type dbl</caption>\n",
              "<tbody>\n",
              "\t<tr><td>4.33726</td></tr>\n",
              "</tbody>\n",
              "</table>\n"
            ],
            "text/markdown": "\nA matrix: 1 × 1 of type dbl\n\n| 4.33726 |\n\n",
            "text/latex": "A matrix: 1 × 1 of type dbl\n\\begin{tabular}{l}\n\t 4.33726\\\\\n\\end{tabular}\n",
            "text/plain": [
              "     [,1]   \n",
              "[1,] 4.33726"
            ]
          },
          "metadata": {}
        }
      ]
    },
    {
      "cell_type": "markdown",
      "source": [
        "$ s^2=18.81183 $\n",
        "\n",
        "MSE=4.33726\n",
        "\n",
        "Гистограмма ошибок с шагом 2.1"
      ],
      "metadata": {
        "id": "LwCToAlHPYoN"
      }
    },
    {
      "cell_type": "code",
      "source": [
        "mistakes=matrix(vec_y)-(t(x) %*% beta_2)\n",
        "h=2.1\n",
        "count=(max(mistakes)-min(mistakes))/h\n",
        "library(lattice)\n",
        "hist= hist(mistakes, breaks=count)\n",
        "str(hist)"
      ],
      "metadata": {
        "colab": {
          "base_uri": "https://localhost:8080/",
          "height": 583
        },
        "id": "sIsP8RG4PfuZ",
        "outputId": "11ee5246-b067-4f03-ebe4-3e602c9df200"
      },
      "execution_count": 562,
      "outputs": [
        {
          "output_type": "stream",
          "name": "stdout",
          "text": [
            "List of 6\n",
            " $ breaks  : num [1:11] -8 -6 -4 -2 0 2 4 6 8 10 ...\n",
            " $ counts  : int [1:10] 3 6 8 8 11 7 2 2 2 1\n",
            " $ density : num [1:10] 0.03 0.06 0.08 0.08 0.11 0.07 0.02 0.02 0.02 0.01\n",
            " $ mids    : num [1:10] -7 -5 -3 -1 1 3 5 7 9 11\n",
            " $ xname   : chr \"mistakes\"\n",
            " $ equidist: logi TRUE\n",
            " - attr(*, \"class\")= chr \"histogram\"\n"
          ]
        },
        {
          "output_type": "display_data",
          "data": {
            "text/plain": [
              "Plot with title “Histogram of mistakes”"
            ],
            "image/png": "[encoded data removed]"
          },
          "metadata": {
            "image/png": {
              "width": 420,
              "height": 420
            }
          }
        }
      ]
    },
    {
      "cell_type": "markdown",
      "source": [
        "Проверка гипотезы нормальности через хи-квадрат с $ α=0.2 $\n",
        "\n",
        "$ H_0: ε ∼ N(0,\\sigma^2E) $\n",
        "\n",
        "$ H_A: ε \\nsim  N(0,\\sigma^2E) $\n",
        "\n",
        "Разобъем множество всех возможных значений СВ на интервалы\n"
      ],
      "metadata": {
        "id": "oRoGBgXIP52c"
      }
    },
    {
      "cell_type": "code",
      "source": [
        "xi=sort(mistakes)\n",
        "xi\n",
        "sum(xi >= -10 & xi < -4)\n",
        "sum(xi >= -4 & xi < -2)\n",
        "sum(xi >= -2 & xi < 0)\n",
        "sum(xi >= 0 & xi < 2)\n",
        "sum(xi >= 2 & xi < 4)\n",
        "sum(xi >= 4 )"
      ],
      "metadata": {
        "colab": {
          "base_uri": "https://localhost:8080/",
          "height": 208
        },
        "id": "mlfQbIkaQAsT",
        "outputId": "2815757f-3479-4573-9ae5-598c001bc60c"
      },
      "execution_count": 563,
      "outputs": [
        {
          "output_type": "display_data",
          "data": {
            "text/html": [
              "<style>\n",
              ".list-inline {list-style: none; margin:0; padding: 0}\n",
              ".list-inline>li {display: inline-block}\n",
              ".list-inline>li:not(:last-child)::after {content: \"\\00b7\"; padding: 0 .5ex}\n",
              "</style>\n",
              "<ol class=list-inline><li>-7.64987196283572</li><li>-7.64370259079174</li><li>-6.68406792189745</li><li>-5.92005462838857</li><li>-5.35987196283572</li><li>-4.66987196283572</li><li>-4.62987196283572</li><li>-4.53005462838857</li><li>-4.51198930870133</li><li>-3.98987196283572</li><li>-3.09198930870133</li><li>-2.99370259079174</li><li>-2.98005462838857</li><li>-2.69406792189745</li><li>-2.69005462838857</li><li>-2.36198930870133</li><li>-2.15987196283572</li><li>-1.8834811925694</li><li>-1.81198930870133</li><li>-1.33005462838857</li><li>-1.12406792189745</li><li>-0.904029189227971</li><li>-0.530054628388573</li><li>-0.29402918922797</li><li>-0.0100546283885734</li><li>0.0259320781025476</li><li>0.138010691298673</li><li>0.139945371611427</li><li>0.475932078102547</li><li>0.565932078102547</li><li>1.01994537161143</li><li>1.30012803716428</li><li>1.45801069129867</li><li>1.53593207810255</li><li>1.63593207810255</li><li>1.99629740920826</li><li>2.27994537161143</li><li>2.33012803716428</li><li>2.45801069129867</li><li>2.50994537161143</li><li>2.99012803716428</li><li>3.25801069129867</li><li>3.54593207810255</li><li>4.89994537161143</li><li>5.89801069129867</li><li>6.10629740920826</li><li>6.72593207810255</li><li>8.87012803716428</li><li>9.79801069129867</li><li>10.4862974092083</li></ol>\n"
            ],
            "text/markdown": "1. -7.64987196283572\n2. -7.64370259079174\n3. -6.68406792189745\n4. -5.92005462838857\n5. -5.35987196283572\n6. -4.66987196283572\n7. -4.62987196283572\n8. -4.53005462838857\n9. -4.51198930870133\n10. -3.98987196283572\n11. -3.09198930870133\n12. -2.99370259079174\n13. -2.98005462838857\n14. -2.69406792189745\n15. -2.69005462838857\n16. -2.36198930870133\n17. -2.15987196283572\n18. -1.8834811925694\n19. -1.81198930870133\n20. -1.33005462838857\n21. -1.12406792189745\n22. -0.904029189227971\n23. -0.530054628388573\n24. -0.29402918922797\n25. -0.0100546283885734\n26. 0.0259320781025476\n27. 0.138010691298673\n28. 0.139945371611427\n29. 0.475932078102547\n30. 0.565932078102547\n31. 1.01994537161143\n32. 1.30012803716428\n33. 1.45801069129867\n34. 1.53593207810255\n35. 1.63593207810255\n36. 1.99629740920826\n37. 2.27994537161143\n38. 2.33012803716428\n39. 2.45801069129867\n40. 2.50994537161143\n41. 2.99012803716428\n42. 3.25801069129867\n43. 3.54593207810255\n44. 4.89994537161143\n45. 5.89801069129867\n46. 6.10629740920826\n47. 6.72593207810255\n48. 8.87012803716428\n49. 9.79801069129867\n50. 10.4862974092083\n\n\n",
            "text/latex": "\\begin{enumerate*}\n\\item -7.64987196283572\n\\item -7.64370259079174\n\\item -6.68406792189745\n\\item -5.92005462838857\n\\item -5.35987196283572\n\\item -4.66987196283572\n\\item -4.62987196283572\n\\item -4.53005462838857\n\\item -4.51198930870133\n\\item -3.98987196283572\n\\item -3.09198930870133\n\\item -2.99370259079174\n\\item -2.98005462838857\n\\item -2.69406792189745\n\\item -2.69005462838857\n\\item -2.36198930870133\n\\item -2.15987196283572\n\\item -1.8834811925694\n\\item -1.81198930870133\n\\item -1.33005462838857\n\\item -1.12406792189745\n\\item -0.904029189227971\n\\item -0.530054628388573\n\\item -0.29402918922797\n\\item -0.0100546283885734\n\\item 0.0259320781025476\n\\item 0.138010691298673\n\\item 0.139945371611427\n\\item 0.475932078102547\n\\item 0.565932078102547\n\\item 1.01994537161143\n\\item 1.30012803716428\n\\item 1.45801069129867\n\\item 1.53593207810255\n\\item 1.63593207810255\n\\item 1.99629740920826\n\\item 2.27994537161143\n\\item 2.33012803716428\n\\item 2.45801069129867\n\\item 2.50994537161143\n\\item 2.99012803716428\n\\item 3.25801069129867\n\\item 3.54593207810255\n\\item 4.89994537161143\n\\item 5.89801069129867\n\\item 6.10629740920826\n\\item 6.72593207810255\n\\item 8.87012803716428\n\\item 9.79801069129867\n\\item 10.4862974092083\n\\end{enumerate*}\n",
            "text/plain": [
              " [1] -7.64987196 -7.64370259 -6.68406792 -5.92005463 -5.35987196 -4.66987196\n",
              " [7] -4.62987196 -4.53005463 -4.51198931 -3.98987196 -3.09198931 -2.99370259\n",
              "[13] -2.98005463 -2.69406792 -2.69005463 -2.36198931 -2.15987196 -1.88348119\n",
              "[19] -1.81198931 -1.33005463 -1.12406792 -0.90402919 -0.53005463 -0.29402919\n",
              "[25] -0.01005463  0.02593208  0.13801069  0.13994537  0.47593208  0.56593208\n",
              "[31]  1.01994537  1.30012804  1.45801069  1.53593208  1.63593208  1.99629741\n",
              "[37]  2.27994537  2.33012804  2.45801069  2.50994537  2.99012804  3.25801069\n",
              "[43]  3.54593208  4.89994537  5.89801069  6.10629741  6.72593208  8.87012804\n",
              "[49]  9.79801069 10.48629741"
            ]
          },
          "metadata": {}
        },
        {
          "output_type": "display_data",
          "data": {
            "text/html": [
              "9"
            ],
            "text/markdown": "9",
            "text/latex": "9",
            "text/plain": [
              "[1] 9"
            ]
          },
          "metadata": {}
        },
        {
          "output_type": "display_data",
          "data": {
            "text/html": [
              "8"
            ],
            "text/markdown": "8",
            "text/latex": "8",
            "text/plain": [
              "[1] 8"
            ]
          },
          "metadata": {}
        },
        {
          "output_type": "display_data",
          "data": {
            "text/html": [
              "8"
            ],
            "text/markdown": "8",
            "text/latex": "8",
            "text/plain": [
              "[1] 8"
            ]
          },
          "metadata": {}
        },
        {
          "output_type": "display_data",
          "data": {
            "text/html": [
              "11"
            ],
            "text/markdown": "11",
            "text/latex": "11",
            "text/plain": [
              "[1] 11"
            ]
          },
          "metadata": {}
        },
        {
          "output_type": "display_data",
          "data": {
            "text/html": [
              "7"
            ],
            "text/markdown": "7",
            "text/latex": "7",
            "text/plain": [
              "[1] 7"
            ]
          },
          "metadata": {}
        },
        {
          "output_type": "display_data",
          "data": {
            "text/html": [
              "7"
            ],
            "text/markdown": "7",
            "text/latex": "7",
            "text/plain": [
              "[1] 7"
            ]
          },
          "metadata": {}
        }
      ]
    },
    {
      "cell_type": "markdown",
      "source": [
        "$\\Delta_0 = [-10,-4), \\Delta_1 = [-4,-2), \\Delta_2 = [-2,0), \\Delta_3 =[0,2),\\Delta_4 =[2,4),   \\Delta_5=[4, + \\infty)$\n",
        "\n",
        "Найдём верoятности попадания СВ в построенные интервалы."
      ],
      "metadata": {
        "id": "yOv8FIBYQHOh"
      }
    },
    {
      "cell_type": "markdown",
      "source": [
        "$p_0 = 0,16738, p_1 = 0.14426, p_2 = 0.17788, p_3 =  0.17788, p_4 =   0.14426, p_5 =  0,18834$\n",
        "\n",
        "$\\sum \\limits_{i=0}^6 p_i = 1$\n",
        "\n",
        "$\\;\\;\\;\\;$ $\\Delta_0$, $\\Delta_1$, $\\Delta_2$, $\\Delta_3$, $\\Delta_4$, $\\Delta_5$\n",
        "\n",
        "$i$ $\\;\\;$ $ 0, $ $\\;\\;1,$   $\\;\\;\\;2,$  $\\;3,$ $\\;4,$ $\\;5$\n",
        "\n",
        "$n_i$ $\\;9, 8, 8, 11,7,7\\;$\n",
        "\n",
        "$p_i$ $0,16738,  0.14426,  0.17788,   0.17788,   0.14426,  0,18834$\n",
        "\n",
        "$np_i$ $8.369, 7.213, 8.894, 8.894, 7.213, 9.417$\n",
        "\n",
        "$\\frac{(n_i - np_i)^2}{np_i}$ $ 0.0476, 0.086, 0.09, 0.5, 0.006, 0.62  $\n",
        "\n",
        "$\\chi^2_в = \\sum \\frac{(n_i - np_i)^2}{np_i} = 1.3496$\n",
        "\n",
        "где\n",
        "\n",
        "$np_i$ ожидаемые частоты попадания в интервал.\n",
        "\n",
        "$\\alpha = 0.2$\n",
        "\n",
        "Найдём квантиль распределения $\\chi^2_{1 - \\alpha, r - 1}$, где\n",
        "\n",
        "$r$ - кол-во интервалов.\n",
        "\n",
        "\n",
        "$\\chi^2_{1 - 0.2, 6 - 1} =  7.289276$\n",
        "\n",
        "$\\chi^2_в < \\chi^2_{0.9, 3}  \\Rightarrow H_0$  не отвергается."
      ],
      "metadata": {
        "id": "2mjlLRoyQMOg"
      }
    },
    {
      "cell_type": "markdown",
      "source": [
        "Оценим расстояние полученной оценки до класса норм.распр. по Колмогорову"
      ],
      "metadata": {
        "id": "OxSw-MCpoKl_"
      }
    },
    {
      "cell_type": "code",
      "source": [
        "ks.test(mistakes, \"pnorm\")"
      ],
      "metadata": {
        "colab": {
          "base_uri": "https://localhost:8080/",
          "height": 126
        },
        "id": "umTchDseoKzn",
        "outputId": "f9517f2f-5d8f-4556-c035-f407e4d942da"
      },
      "execution_count": 564,
      "outputs": [
        {
          "output_type": "display_data",
          "data": {
            "text/plain": [
              "\n",
              "\tExact one-sample Kolmogorov-Smirnov test\n",
              "\n",
              "data:  mistakes\n",
              "D = 0.34501, p-value = 8.066e-06\n",
              "alternative hypothesis: two-sided\n"
            ]
          },
          "metadata": {}
        }
      ]
    },
    {
      "cell_type": "markdown",
      "source": [
        "Поскольку p-value = 8.066e-06 сильно меньше уровня значимости 0.2, то гипотезу отвергаем."
      ],
      "metadata": {
        "id": "5-yYvguDohB_"
      }
    },
    {
      "cell_type": "code",
      "source": [
        "h=2.1\n",
        "count=(max(mistakes)-min(mistakes))/h\n",
        "library(lattice)\n",
        "hist= hist(mistakes, breaks=count)\n",
        "str(hist)\n",
        "curve(dnorm, add = T,col='blue'  )"
      ],
      "metadata": {
        "colab": {
          "base_uri": "https://localhost:8080/",
          "height": 583
        },
        "id": "nfkteEvJpAqF",
        "outputId": "b2c83942-8ae7-4d75-fcb7-c3b217e02ae8"
      },
      "execution_count": 565,
      "outputs": [
        {
          "output_type": "stream",
          "name": "stdout",
          "text": [
            "List of 6\n",
            " $ breaks  : num [1:11] -8 -6 -4 -2 0 2 4 6 8 10 ...\n",
            " $ counts  : int [1:10] 3 6 8 8 11 7 2 2 2 1\n",
            " $ density : num [1:10] 0.03 0.06 0.08 0.08 0.11 0.07 0.02 0.02 0.02 0.01\n",
            " $ mids    : num [1:10] -7 -5 -3 -1 1 3 5 7 9 11\n",
            " $ xname   : chr \"mistakes\"\n",
            " $ equidist: logi TRUE\n",
            " - attr(*, \"class\")= chr \"histogram\"\n"
          ]
        },
        {
          "output_type": "display_data",
          "data": {
            "text/plain": [
              "Plot with title “Histogram of mistakes”"
            ],
            "image/png": "[encoded data removed]"
          },
          "metadata": {
            "image/png": {
              "width": 420,
              "height": 420
            }
          }
        }
      ]
    },
    {
      "cell_type": "markdown",
      "source": [
        "7.ДИ для $\\beta_0$:\n",
        "\n",
        "ДНО-функция: $\\psi(β) = C^\\intercal \\beta $\n",
        "\n",
        "$C = (1, 0,0)^\\intercal$\n",
        "\n",
        "НРМД оценка $\\hat{\\psi} = \\sum_{j=1}^m c_j\\hat{\\beta}_j=\\hat{β_0}$\n",
        "\n",
        "ДИ: $\\psi \\in \\left[\\hat{\\psi} - x_\\alpha S \\sqrt{b}; \\hat{\\psi} + x_\\alpha S \\sqrt{b}\\right] $,\n",
        "\n",
        "$x_\\alpha: S_{n-r}(x_\\alpha) = 1 - \\frac{\\alpha}{2}$\n",
        "\n",
        "$b = C^\\intercal(XX^\\intercal)^{-1}C$"
      ],
      "metadata": {
        "id": "MvlhV45OVAdt"
      }
    },
    {
      "cell_type": "code",
      "source": [
        "x_a=qt(0.9,df=n-r)\n",
        "x_a\n",
        "C=c(1,0,0)\n",
        "C=matrix(C)\n",
        "b=t(matrix(C)) %*% xx_2 %*% C\n",
        "left=beta_2[1]-x_a*mse*sqrt(b)\n",
        "right=beta_2[1]+x_a*mse*sqrt(b)\n",
        "left\n",
        "right"
      ],
      "metadata": {
        "colab": {
          "base_uri": "https://localhost:8080/",
          "height": 184
        },
        "id": "VhL3GUe-VWLc",
        "outputId": "9db8e17c-c4cc-4111-f4cf-80a4b4a17f0b"
      },
      "execution_count": 566,
      "outputs": [
        {
          "output_type": "display_data",
          "data": {
            "text/html": [
              "1.29982494731166"
            ],
            "text/markdown": "1.29982494731166",
            "text/latex": "1.29982494731166",
            "text/plain": [
              "[1] 1.299825"
            ]
          },
          "metadata": {}
        },
        {
          "output_type": "display_data",
          "data": {
            "text/html": [
              "<table class=\"dataframe\">\n",
              "<caption>A matrix: 1 × 1 of type dbl</caption>\n",
              "<tbody>\n",
              "\t<tr><td>-0.07975965</td></tr>\n",
              "</tbody>\n",
              "</table>\n"
            ],
            "text/markdown": "\nA matrix: 1 × 1 of type dbl\n\n| -0.07975965 |\n\n",
            "text/latex": "A matrix: 1 × 1 of type dbl\n\\begin{tabular}{l}\n\t -0.07975965\\\\\n\\end{tabular}\n",
            "text/plain": [
              "     [,1]       \n",
              "[1,] -0.07975965"
            ]
          },
          "metadata": {}
        },
        {
          "output_type": "display_data",
          "data": {
            "text/html": [
              "<table class=\"dataframe\">\n",
              "<caption>A matrix: 1 × 1 of type dbl</caption>\n",
              "<tbody>\n",
              "\t<tr><td>9.799637</td></tr>\n",
              "</tbody>\n",
              "</table>\n"
            ],
            "text/markdown": "\nA matrix: 1 × 1 of type dbl\n\n| 9.799637 |\n\n",
            "text/latex": "A matrix: 1 × 1 of type dbl\n\\begin{tabular}{l}\n\t 9.799637\\\\\n\\end{tabular}\n",
            "text/plain": [
              "     [,1]    \n",
              "[1,] 9.799637"
            ]
          },
          "metadata": {}
        }
      ]
    },
    {
      "cell_type": "markdown",
      "source": [
        "$ β_0 \\in [-0.07975965,9.799637] $"
      ],
      "metadata": {
        "id": "0fX9vFOAWSUc"
      }
    },
    {
      "cell_type": "markdown",
      "source": [
        "ДИ для $\\beta_1$:\n",
        "\n",
        "ДНО-функция: $\\psi(β) = C^\\intercal \\beta $\n",
        "\n",
        "$C = (0, 1,0)^\\intercal$\n",
        "\n",
        "НРМД оценка $\\hat{\\psi} = \\sum_{j=1}^m c_j\\hat{\\beta}_j=\\hat{β_1}$\n",
        "\n",
        "ДИ: $\\psi \\in \\left[\\hat{\\psi} - x_\\alpha S \\sqrt{b}; \\hat{\\psi} + x_\\alpha S \\sqrt{b}\\right] $,\n",
        "\n",
        "$x_\\alpha: S_{n-r}(x_\\alpha) = 1 - \\frac{\\alpha}{2}$\n",
        "\n",
        "$b = C^\\intercal(XX^\\intercal)^{-1}C$"
      ],
      "metadata": {
        "id": "g_yV_VGJWcaY"
      }
    },
    {
      "cell_type": "code",
      "source": [
        "x_a=qt(0.9,df=n-r)\n",
        "x_a\n",
        "C=c(0,1,0)\n",
        "C=matrix(C)\n",
        "b=t(matrix(C)) %*% xx_2 %*% C\n",
        "left=beta_2[2]-x_a*mse*sqrt(b)\n",
        "right=beta_2[2]+x_a*mse*sqrt(b)\n",
        "left\n",
        "right"
      ],
      "metadata": {
        "colab": {
          "base_uri": "https://localhost:8080/",
          "height": 184
        },
        "id": "mGoS8nRzWgqk",
        "outputId": "f28a1fd9-22e4-480c-a571-ea730de6efa9"
      },
      "execution_count": 567,
      "outputs": [
        {
          "output_type": "display_data",
          "data": {
            "text/html": [
              "1.29982494731166"
            ],
            "text/markdown": "1.29982494731166",
            "text/latex": "1.29982494731166",
            "text/plain": [
              "[1] 1.299825"
            ]
          },
          "metadata": {}
        },
        {
          "output_type": "display_data",
          "data": {
            "text/html": [
              "<table class=\"dataframe\">\n",
              "<caption>A matrix: 1 × 1 of type dbl</caption>\n",
              "<tbody>\n",
              "\t<tr><td>-0.4225129</td></tr>\n",
              "</tbody>\n",
              "</table>\n"
            ],
            "text/markdown": "\nA matrix: 1 × 1 of type dbl\n\n| -0.4225129 |\n\n",
            "text/latex": "A matrix: 1 × 1 of type dbl\n\\begin{tabular}{l}\n\t -0.4225129\\\\\n\\end{tabular}\n",
            "text/plain": [
              "     [,1]      \n",
              "[1,] -0.4225129"
            ]
          },
          "metadata": {}
        },
        {
          "output_type": "display_data",
          "data": {
            "text/html": [
              "<table class=\"dataframe\">\n",
              "<caption>A matrix: 1 × 1 of type dbl</caption>\n",
              "<tbody>\n",
              "\t<tr><td>5.094746</td></tr>\n",
              "</tbody>\n",
              "</table>\n"
            ],
            "text/markdown": "\nA matrix: 1 × 1 of type dbl\n\n| 5.094746 |\n\n",
            "text/latex": "A matrix: 1 × 1 of type dbl\n\\begin{tabular}{l}\n\t 5.094746\\\\\n\\end{tabular}\n",
            "text/plain": [
              "     [,1]    \n",
              "[1,] 5.094746"
            ]
          },
          "metadata": {}
        }
      ]
    },
    {
      "cell_type": "markdown",
      "source": [
        "$ β_1 \\in [-0.4225129,5.094746] $"
      ],
      "metadata": {
        "id": "66K6I5rqWtUp"
      }
    },
    {
      "cell_type": "markdown",
      "source": [
        "ДИ для $\\beta_2$:\n",
        "\n",
        "ДНО-функция: $\\psi(β) = C^\\intercal \\beta $\n",
        "\n",
        "$C = (0, 0,1)^\\intercal$\n",
        "\n",
        "НРМД оценка $\\hat{\\psi} = \\sum_{j=1}^m c_j\\hat{\\beta}_j=\\hat{β_2}$\n",
        "\n",
        "ДИ: $\\psi \\in \\left[\\hat{\\psi} - x_\\alpha S \\sqrt{b}; \\hat{\\psi} + x_\\alpha S \\sqrt{b}\\right] $,\n",
        "\n",
        "$x_\\alpha: S_{n-r}(x_\\alpha) = 1 - \\frac{\\alpha}{2}$\n",
        "\n",
        "$b = C^\\intercal(XX^\\intercal)^{-1}C$"
      ],
      "metadata": {
        "id": "KLJqkc5DWzXL"
      }
    },
    {
      "cell_type": "code",
      "source": [
        "x_a=qt(0.9,df=n-r)\n",
        "x_a\n",
        "C=c(0,0,1)\n",
        "C=matrix(C)\n",
        "b=t(matrix(C)) %*% xx_2 %*% C\n",
        "left=beta_2[3]-x_a*mse*sqrt(b)\n",
        "right=beta_2[3]+x_a*mse*sqrt(b)\n",
        "left\n",
        "right"
      ],
      "metadata": {
        "colab": {
          "base_uri": "https://localhost:8080/",
          "height": 166
        },
        "id": "ae6z_BlGW6EQ",
        "outputId": "cf61554f-79e7-4ff8-8fd9-f68e57817836"
      },
      "execution_count": 568,
      "outputs": [
        {
          "output_type": "display_data",
          "data": {
            "text/html": [
              "1.29982494731166"
            ],
            "text/markdown": "1.29982494731166",
            "text/latex": "1.29982494731166",
            "text/plain": [
              "[1] 1.299825"
            ]
          },
          "metadata": {}
        },
        {
          "output_type": "display_data",
          "data": {
            "text/html": [
              "<table class=\"dataframe\">\n",
              "<caption>A matrix: 1 × 1 of type dbl</caption>\n",
              "<tbody>\n",
              "\t<tr><td>-0.6052301</td></tr>\n",
              "</tbody>\n",
              "</table>\n"
            ],
            "text/markdown": "\nA matrix: 1 × 1 of type dbl\n\n| -0.6052301 |\n\n",
            "text/latex": "A matrix: 1 × 1 of type dbl\n\\begin{tabular}{l}\n\t -0.6052301\\\\\n\\end{tabular}\n",
            "text/plain": [
              "     [,1]      \n",
              "[1,] -0.6052301"
            ]
          },
          "metadata": {}
        },
        {
          "output_type": "display_data",
          "data": {
            "text/html": [
              "<table class=\"dataframe\">\n",
              "<caption>A matrix: 1 × 1 of type dbl</caption>\n",
              "<tbody>\n",
              "\t<tr><td>0.1011781</td></tr>\n",
              "</tbody>\n",
              "</table>\n"
            ],
            "text/markdown": "\nA matrix: 1 × 1 of type dbl\n\n| 0.1011781 |\n\n",
            "text/latex": "A matrix: 1 × 1 of type dbl\n\\begin{tabular}{l}\n\t 0.1011781\\\\\n\\end{tabular}\n",
            "text/plain": [
              "     [,1]     \n",
              "[1,] 0.1011781"
            ]
          },
          "metadata": {}
        }
      ]
    },
    {
      "cell_type": "markdown",
      "source": [
        "$ β_2 \\in [-0.6052301,0.1011781] $"
      ],
      "metadata": {
        "id": "wg6n0Uu6XGvy"
      }
    },
    {
      "cell_type": "markdown",
      "source": [
        "Доверительный эллипсоид уровня доверия $1- α$ для $ (β_0,β_1) $\n",
        "\n",
        "$ A_α =\\{ \\vec{x}: (\\vec{x}-\\hat{\\psi})^\\intercal B^{-1}(\\vec{x}-\\hat{\\psi}) \\leq qs^2x_α\\}$\n",
        "\n",
        "\n",
        "$x_\\alpha: F_{q,n-r}(x_\\alpha) = 1 - α$\n",
        "\n",
        "$ B= C^\\intercal(XX^\\intercal)^{-1}C $\n",
        "\n",
        "q - размер вектора $\\psi$, т.е. q=3\n",
        "\n",
        "$ C=\\begin{pmatrix} 1 & 0&0 \\\\ 0 & 1&0 \\\\0&0&1 \\end{pmatrix} $\n",
        "\n",
        "$\\hat{\\psi} = C^\\intercal \\beta=(β_0,β_1,β_2)$\n"
      ],
      "metadata": {
        "id": "tQpZbCuEXp8U"
      }
    },
    {
      "cell_type": "code",
      "source": [
        "C=diag(3)\n",
        "B=t(C) %*% xx_2 %*% C\n",
        "B\n",
        "B=solve(B)\n",
        "B"
      ],
      "metadata": {
        "colab": {
          "base_uri": "https://localhost:8080/",
          "height": 257
        },
        "id": "E4GFLdJaX9Ej",
        "outputId": "2de18b6b-3475-4d67-ba90-64f9ce86777e"
      },
      "execution_count": 569,
      "outputs": [
        {
          "output_type": "display_data",
          "data": {
            "text/html": [
              "<table class=\"dataframe\">\n",
              "<caption>A matrix: 3 × 3 of type dbl</caption>\n",
              "<tbody>\n",
              "\t<tr><td> 0.76771516</td><td>-0.41191698</td><td> 0.049200106</td></tr>\n",
              "\t<tr><td>-0.41191698</td><td> 0.23943415</td><td>-0.030037350</td></tr>\n",
              "\t<tr><td> 0.04920011</td><td>-0.03003735</td><td> 0.003925101</td></tr>\n",
              "</tbody>\n",
              "</table>\n"
            ],
            "text/markdown": "\nA matrix: 3 × 3 of type dbl\n\n|  0.76771516 | -0.41191698 |  0.049200106 |\n| -0.41191698 |  0.23943415 | -0.030037350 |\n|  0.04920011 | -0.03003735 |  0.003925101 |\n\n",
            "text/latex": "A matrix: 3 × 3 of type dbl\n\\begin{tabular}{lll}\n\t  0.76771516 & -0.41191698 &  0.049200106\\\\\n\t -0.41191698 &  0.23943415 & -0.030037350\\\\\n\t  0.04920011 & -0.03003735 &  0.003925101\\\\\n\\end{tabular}\n",
            "text/plain": [
              "     [,1]        [,2]        [,3]        \n",
              "[1,]  0.76771516 -0.41191698  0.049200106\n",
              "[2,] -0.41191698  0.23943415 -0.030037350\n",
              "[3,]  0.04920011 -0.03003735  0.003925101"
            ]
          },
          "metadata": {}
        },
        {
          "output_type": "display_data",
          "data": {
            "text/html": [
              "<table class=\"dataframe\">\n",
              "<caption>A matrix: 3 × 3 of type dbl</caption>\n",
              "<tbody>\n",
              "\t<tr><td> 50</td><td> 185</td><td>  789</td></tr>\n",
              "\t<tr><td>185</td><td> 789</td><td> 3719</td></tr>\n",
              "\t<tr><td>789</td><td>3719</td><td>18825</td></tr>\n",
              "</tbody>\n",
              "</table>\n"
            ],
            "text/markdown": "\nA matrix: 3 × 3 of type dbl\n\n|  50 |  185 |   789 |\n| 185 |  789 |  3719 |\n| 789 | 3719 | 18825 |\n\n",
            "text/latex": "A matrix: 3 × 3 of type dbl\n\\begin{tabular}{lll}\n\t  50 &  185 &   789\\\\\n\t 185 &  789 &  3719\\\\\n\t 789 & 3719 & 18825\\\\\n\\end{tabular}\n",
            "text/plain": [
              "     [,1] [,2] [,3] \n",
              "[1,]  50   185   789\n",
              "[2,] 185   789  3719\n",
              "[3,] 789  3719 18825"
            ]
          },
          "metadata": {}
        }
      ]
    },
    {
      "cell_type": "code",
      "source": [
        "beta_2\n",
        "qf(0.8,2,48)"
      ],
      "metadata": {
        "colab": {
          "base_uri": "https://localhost:8080/",
          "height": 163
        },
        "id": "EvIv8DX-YUt3",
        "outputId": "c2592229-aea6-4f61-8016-b417345f35b7"
      },
      "execution_count": 570,
      "outputs": [
        {
          "output_type": "display_data",
          "data": {
            "text/html": [
              "<table class=\"dataframe\">\n",
              "<caption>A matrix: 3 × 1 of type dbl</caption>\n",
              "<tbody>\n",
              "\t<tr><th scope=row>one</th><td> 4.859938</td></tr>\n",
              "\t<tr><th scope=row>vec_x</th><td> 2.336117</td></tr>\n",
              "\t<tr><th scope=row>x2</th><td>-0.252026</td></tr>\n",
              "</tbody>\n",
              "</table>\n"
            ],
            "text/markdown": "\nA matrix: 3 × 1 of type dbl\n\n| one |  4.859938 |\n| vec_x |  2.336117 |\n| x2 | -0.252026 |\n\n",
            "text/latex": "A matrix: 3 × 1 of type dbl\n\\begin{tabular}{r|l}\n\tone &  4.859938\\\\\n\tvec\\_x &  2.336117\\\\\n\tx2 & -0.252026\\\\\n\\end{tabular}\n",
            "text/plain": [
              "      [,1]     \n",
              "one    4.859938\n",
              "vec_x  2.336117\n",
              "x2    -0.252026"
            ]
          },
          "metadata": {}
        },
        {
          "output_type": "display_data",
          "data": {
            "text/html": [
              "1.66462907551485"
            ],
            "text/markdown": "1.66462907551485",
            "text/latex": "1.66462907551485",
            "text/plain": [
              "[1] 1.664629"
            ]
          },
          "metadata": {}
        }
      ]
    },
    {
      "cell_type": "markdown",
      "source": [
        "$ \\left(\\begin{pmatrix} x \\\\ y \\\\z \\end{pmatrix}-\\begin{pmatrix} β_0 \\\\ β_1  \\\\ β_2\\end{pmatrix}\\right)^\\intercal B^{-1}\\left(\\begin{pmatrix} x \\\\ y \\\\z \\end{pmatrix}-\\begin{pmatrix} β_0 \\\\ β_1  \\\\ β_2\\end{pmatrix}\\right) \\leq qs^2x_α $\n",
        "\n",
        "$ \\left(\\begin{pmatrix} x \\\\ y \\\\z \\end{pmatrix}-\\begin{pmatrix} 4.859938 \\\\ 2.336117  \\\\ -0.252026\\end{pmatrix}\\right)^\\intercal \\begin{pmatrix} 50 & 185 &789 \\\\ 185&789&3719 \\\\ 789&3719&18825 \\end{pmatrix}\\left(\\begin{pmatrix} x \\\\ y \\\\z \\end{pmatrix}-\\begin{pmatrix} 4.859938 \\\\ 2.336117  \\\\ -0.252026\\end{pmatrix}\\right)  \\leq 3 \\cdot 18.81183 \\cdot 1.66 $\n",
        "\n",
        "$ \\begin{pmatrix} x-4.859938 \\\\ y-2.336117 \\\\z+0.252026 \\end{pmatrix}^\\intercal \\begin{pmatrix} 50 & 185 &789 \\\\ 185&789&3719 \\\\ 789&3719&18825 \\end{pmatrix} \\begin{pmatrix} x-4.859938 \\\\ y-2.336117 \\\\z+0.252026 \\end{pmatrix} \\leq 93.683 $"
      ],
      "metadata": {
        "id": "_WF5nGDyZHo9"
      }
    },
    {
      "cell_type": "code",
      "source": [
        "s2\n"
      ],
      "metadata": {
        "colab": {
          "base_uri": "https://localhost:8080/",
          "height": 100
        },
        "id": "5FW5iodyb1MU",
        "outputId": "bc5a14bb-fb21-4ee3-dfe0-84e35ade29e4"
      },
      "execution_count": 571,
      "outputs": [
        {
          "output_type": "display_data",
          "data": {
            "text/html": [
              "<table class=\"dataframe\">\n",
              "<caption>A matrix: 1 × 1 of type dbl</caption>\n",
              "<tbody>\n",
              "\t<tr><td>18.81183</td></tr>\n",
              "</tbody>\n",
              "</table>\n"
            ],
            "text/markdown": "\nA matrix: 1 × 1 of type dbl\n\n| 18.81183 |\n\n",
            "text/latex": "A matrix: 1 × 1 of type dbl\n\\begin{tabular}{l}\n\t 18.81183\\\\\n\\end{tabular}\n",
            "text/plain": [
              "     [,1]    \n",
              "[1,] 18.81183"
            ]
          },
          "metadata": {}
        }
      ]
    },
    {
      "cell_type": "code",
      "source": [
        "cov=B\n",
        "sch=eigen(cov)\n",
        "sch\n",
        "\n"
      ],
      "metadata": {
        "colab": {
          "base_uri": "https://localhost:8080/",
          "height": 181
        },
        "id": "uLwj1Bi0cYwU",
        "outputId": "a3892526-d70e-4765-bcaf-27e6b1f7e138"
      },
      "execution_count": 572,
      "outputs": [
        {
          "output_type": "display_data",
          "data": {
            "text/plain": [
              "eigen() decomposition\n",
              "$values\n",
              "[1] 19595.317773    67.678461     1.003766\n",
              "\n",
              "$vectors\n",
              "            [,1]       [,2]        [,3]\n",
              "[1,] -0.04140209 -0.4807357  0.87588757\n",
              "[2,] -0.19422145 -0.8560448 -0.47902548\n",
              "[3,] -0.98008362  0.1899488  0.05792715\n"
            ]
          },
          "metadata": {}
        }
      ]
    },
    {
      "cell_type": "code",
      "source": [
        "sc=c(19595.317773,67.678461,1.003766)"
      ],
      "metadata": {
        "id": "Tu9P9TgSgbBe"
      },
      "execution_count": 573,
      "outputs": []
    },
    {
      "cell_type": "code",
      "source": [
        "\n",
        "pv=pf(0.8,3,47)\n",
        "pv"
      ],
      "metadata": {
        "colab": {
          "base_uri": "https://localhost:8080/",
          "height": 34
        },
        "id": "FaYwFAMoe-hI",
        "outputId": "23c12845-5750-416b-c9f0-7b5590351689"
      },
      "execution_count": 574,
      "outputs": [
        {
          "output_type": "display_data",
          "data": {
            "text/html": [
              "0.499875617308063"
            ],
            "text/markdown": "0.499875617308063",
            "text/latex": "0.499875617308063",
            "text/plain": [
              "[1] 0.4998756"
            ]
          },
          "metadata": {}
        }
      ]
    },
    {
      "cell_type": "code",
      "source": [
        "osi=1/(sc/(pv*3*s2))\n",
        "osi=osi^0.5\n",
        "print(\"полуоси\")\n",
        "osi"
      ],
      "metadata": {
        "colab": {
          "base_uri": "https://localhost:8080/",
          "height": 126
        },
        "id": "e5CPTEi7ePtd",
        "outputId": "693a8d8a-049a-4b6d-d890-7c97a29c8860"
      },
      "execution_count": 575,
      "outputs": [
        {
          "output_type": "stream",
          "name": "stderr",
          "text": [
            "Warning message in sc/(pv * 3 * s2):\n",
            "“Recycling array of length 1 in vector-array arithmetic is deprecated.\n",
            "  Use c() or as.vector() instead.\n",
            "”\n"
          ]
        },
        {
          "output_type": "stream",
          "name": "stdout",
          "text": [
            "[1] \"полуоси\"\n"
          ]
        },
        {
          "output_type": "display_data",
          "data": {
            "text/html": [
              "<style>\n",
              ".list-inline {list-style: none; margin:0; padding: 0}\n",
              ".list-inline>li {display: inline-block}\n",
              ".list-inline>li:not(:last-child)::after {content: \"\\00b7\"; padding: 0 .5ex}\n",
              "</style>\n",
              "<ol class=list-inline><li>0.0379429354081423</li><li>0.645627238592594</li><li>5.30140326695306</li></ol>\n"
            ],
            "text/markdown": "1. 0.0379429354081423\n2. 0.645627238592594\n3. 5.30140326695306\n\n\n",
            "text/latex": "\\begin{enumerate*}\n\\item 0.0379429354081423\n\\item 0.645627238592594\n\\item 5.30140326695306\n\\end{enumerate*}\n",
            "text/plain": [
              "[1] 0.03794294 0.64562724 5.30140327"
            ]
          },
          "metadata": {}
        }
      ]
    },
    {
      "cell_type": "code",
      "source": [
        "beta_2"
      ],
      "metadata": {
        "colab": {
          "base_uri": "https://localhost:8080/",
          "height": 146
        },
        "id": "kKT2jcsxiJvA",
        "outputId": "be12f48c-9521-4fe2-a7ed-a76ca07178a3"
      },
      "execution_count": 576,
      "outputs": [
        {
          "output_type": "display_data",
          "data": {
            "text/html": [
              "<table class=\"dataframe\">\n",
              "<caption>A matrix: 3 × 1 of type dbl</caption>\n",
              "<tbody>\n",
              "\t<tr><th scope=row>one</th><td> 4.859938</td></tr>\n",
              "\t<tr><th scope=row>vec_x</th><td> 2.336117</td></tr>\n",
              "\t<tr><th scope=row>x2</th><td>-0.252026</td></tr>\n",
              "</tbody>\n",
              "</table>\n"
            ],
            "text/markdown": "\nA matrix: 3 × 1 of type dbl\n\n| one |  4.859938 |\n| vec_x |  2.336117 |\n| x2 | -0.252026 |\n\n",
            "text/latex": "A matrix: 3 × 1 of type dbl\n\\begin{tabular}{r|l}\n\tone &  4.859938\\\\\n\tvec\\_x &  2.336117\\\\\n\tx2 & -0.252026\\\\\n\\end{tabular}\n",
            "text/plain": [
              "      [,1]     \n",
              "one    4.859938\n",
              "vec_x  2.336117\n",
              "x2    -0.252026"
            ]
          },
          "metadata": {}
        }
      ]
    },
    {
      "cell_type": "markdown",
      "source": [
        "Уравнение эллипсоида:\n",
        "\n",
        "$ \\frac{\\widetilde{x}^2}{0.03794^2}+\\frac{\\widetilde{y}^2}{0.64563^2}+\\frac{\\widetilde{z}^2}{5.3014^2}=1  $\n",
        "\n",
        "с центром в точке (4.859938, 2.336117, -0.252026)"
      ],
      "metadata": {
        "id": "6U9pSsRciLzN"
      }
    },
    {
      "cell_type": "markdown",
      "source": [
        "8. Гипотеза $ \\psi = 0 $, то есть $ β_2=0 $"
      ],
      "metadata": {
        "id": "_NYZk-tCRlvS"
      }
    },
    {
      "cell_type": "code",
      "source": [
        "beta_8=beta_2\n",
        "beta_8[3]=0\n",
        "rss_8=t(matrix(vec_y)-(t(x) %*% beta_8)) %*% (matrix(vec_y)-(t(x) %*% beta_8))\n",
        "ssn=rss_8-rss\n",
        "q=length(beta_8)\n",
        "f_stat=(ssn/q)/(rss/(n-r))\n",
        "f_stat\n",
        "qf(0.8,3,47)\n",
        "pv=1-pf(f_stat,3,47)\n",
        "pv"
      ],
      "metadata": {
        "colab": {
          "base_uri": "https://localhost:8080/",
          "height": 184
        },
        "id": "NdU12gYdR0dF",
        "outputId": "bb30f308-9a24-490e-c9b4-0003e96adfb3"
      },
      "execution_count": 577,
      "outputs": [
        {
          "output_type": "display_data",
          "data": {
            "text/html": [
              "<table class=\"dataframe\">\n",
              "<caption>A matrix: 1 × 1 of type dbl</caption>\n",
              "<tbody>\n",
              "\t<tr><td>21.1872</td></tr>\n",
              "</tbody>\n",
              "</table>\n"
            ],
            "text/markdown": "\nA matrix: 1 × 1 of type dbl\n\n| 21.1872 |\n\n",
            "text/latex": "A matrix: 1 × 1 of type dbl\n\\begin{tabular}{l}\n\t 21.1872\\\\\n\\end{tabular}\n",
            "text/plain": [
              "     [,1]   \n",
              "[1,] 21.1872"
            ]
          },
          "metadata": {}
        },
        {
          "output_type": "display_data",
          "data": {
            "text/html": [
              "1.60852026390619"
            ],
            "text/markdown": "1.60852026390619",
            "text/latex": "1.60852026390619",
            "text/plain": [
              "[1] 1.60852"
            ]
          },
          "metadata": {}
        },
        {
          "output_type": "display_data",
          "data": {
            "text/html": [
              "<table class=\"dataframe\">\n",
              "<caption>A matrix: 1 × 1 of type dbl</caption>\n",
              "<tbody>\n",
              "\t<tr><td>7.954842e-09</td></tr>\n",
              "</tbody>\n",
              "</table>\n"
            ],
            "text/markdown": "\nA matrix: 1 × 1 of type dbl\n\n| 7.954842e-09 |\n\n",
            "text/latex": "A matrix: 1 × 1 of type dbl\n\\begin{tabular}{l}\n\t 7.954842e-09\\\\\n\\end{tabular}\n",
            "text/plain": [
              "     [,1]        \n",
              "[1,] 7.954842e-09"
            ]
          },
          "metadata": {}
        }
      ]
    },
    {
      "cell_type": "markdown",
      "source": [
        "F-статистика = 21.1872\n",
        "\n",
        "$ x_α=1.608 $\n",
        "\n",
        "$F > x_{\\alpha_2}$ следовательно гипотеза о независимости отвергается"
      ],
      "metadata": {
        "id": "ziLQ1pCuSQpI"
      }
    },
    {
      "cell_type": "markdown",
      "source": [
        "## Выводы\n",
        "\n",
        "Ознакомились с основными положениями метода наименьших квадратов (МНК), со статистическими свойствами МНК-оценок, с понятием функции регрессии и роли МНК в регрессионном анализе."
      ],
      "metadata": {
        "id": "tpB5rRNm6BGd"
      }
    }
  ]
}