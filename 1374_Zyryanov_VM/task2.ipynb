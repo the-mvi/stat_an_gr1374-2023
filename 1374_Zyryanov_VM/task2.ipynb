{
  "nbformat": 4,
  "nbformat_minor": 0,
  "metadata": {
    "colab": {
      "provenance": []
    },
    "kernelspec": {
      "name": "python3",
      "display_name": "Python 3"
    },
    "language_info": {
      "name": "python"
    }
  },
  "cells": [
    {
      "cell_type": "markdown",
      "source": [
        "# Практическая работа №2: Классические методы математической статистики\n",
        "Выполнил студент гр. 1374 Зырянов Виталий. Вариант №8"
      ],
      "metadata": {
        "id": "o8KEDb9sAshZ"
      }
    },
    {
      "cell_type": "markdown",
      "source": [
        "## Цель работы\n",
        "Научится применять методы математической статистики для решения задач статистического анализа; сформировать навыки реализации методов с помощью прикладных программных пакетов."
      ],
      "metadata": {
        "id": "rJbiXN_9Azw8"
      }
    },
    {
      "cell_type": "markdown",
      "source": [
        "## Основные теоретические положения\n",
        "\n",
        "1.Выборочные числовые характеристики:\n",
        "Мат.ожидание $\\overline{X}=\\frac{1}{n}\\sum_{i=1}^{n}X_{i}$\n",
        "\n",
        "Дисперсия $S^{2}=\\frac{1}{n}\\sum_{i=1}^{n}\\left( X_{i}-\\overline{X} \\right)^{2}=\\overline{X^{2}}-\\overline{X}^{2}$\n",
        "\n",
        "Коэф.асимметрии (скошености) $\\widehat{S_{kew}}X=\\frac{\\left(\\frac{1}{n}\\sum_{i=1}^{n}\\left( X_{i}-\\overline{X} \\right)^{3} \\right)}{S^{3}}$\n",
        "\n",
        "Коэф.эксцесса (островершинности) $\\widehat{K_{urt}}X=\\frac{\\frac{1}{n}\\sum_{i=1}^{n}\\left( X_{i}-\\overline{X}^{4} \\right)}{S^{4}}-3$\n",
        "\n",
        "2.Оценка Максимального Правдоподобия (ОМП):\n",
        "\n",
        "Если $X_{1},...,X_{n}$-выборка из распределения с плотностью распределения $P_{\\theta}, \\theta\\in \\Theta$, то\n",
        "\n",
        "2.1 Функция правдоподобия распадается в произведения $L(\\overrightarrow{X},\\theta)=\\prod_{i=1}^{n}P_{\\theta}(X_{i})$\n",
        "\n",
        "2.2 Логарифм функции правдоподобия представляется в виде суммы $LL(\\overrightarrow{X},\\theta)=\\ln L(\\overrightarrow{X},\\theta)=\\sum_{i=1}^{n}\\ln P_{\\theta}(X_{i})$\n",
        "\n",
        "2.3 В силу монотонности логарифма задача максимизации функции правдоподобия сводится к задаче максимизации ее логарифма по всем $\\theta\\in \\Theta  LL(\\overrightarrow{X}),\\theta=\\sum_{i=1}^{n}\\ln P_{\\theta}(X_{i})$\n",
        "\n",
        "2.4 Если \\theta - d-мерный параметр и $P_{\\theta}$ дифференцируема по $\\theta$, то для нахождения максимума надо найти решения системы уравнений: U$(\\overrightarrow{X},\\theta)=\\frac{\\partial }{\\partial \\theta}LL(\\overrightarrow{X},\\theta)=0, i=\\overline{1,d}$\n",
        "\n",
        "3. Оценка метода моментов (ОММ)\n",
        "\n",
        "Пусть $X_{1},...,X_{n}$-выбока из распределения $P_{\\theta}, \\theta=(\\theta_{1},...,\\theta_{d})$\n",
        "\n",
        "$\\exists \\mu_{k}(\\theta)=\\mathbb{E}X^{k}_{1}, k=\\overline{1,d}$\n",
        "\n",
        "Если $\\exists$ ! решение $\\widetilde{\\theta}(X)$ системы уравнений: $\\widehat{\\mu^{k}}(\\widetilde{\\theta})=\\mu_{k}(\\theta), k=\\overline{1,d}$, где $\\widetilde{\\theta}(X)=\\frac{1}{n}\\sum_{i=1}^{n}X^{k}_{i}$-выборочный момент k-го порядка, то $\\widetilde{\\theta}(X)$ называется оценкой по методу моментов\n",
        "\n",
        "4. НРМД-оценки (несмещенная оценка)\n",
        "\n",
        "Оценка $\\widehat{\\theta}(X)$ параметра $\\theta$ называется несмещенной, если при любом значении параметра $\\theta\\in \\Theta: \\mathbb{E}\\widehat{\\theta}(X)=\\theta$\n",
        "\n",
        "Смещением оценки называется величина: $bias_{\\widehat{\\theta}}(\\theta)=\\mathbb{E}_{\\theta}\\widehat{\\theta}(X)-\\theta$\n",
        "\n",
        "Алгоритм несмещенного оценивания:\n",
        "\n",
        "4.1 Найти оценку $\\widehat{\\theta}(T)$, являющуюся функцией от минимальной достаточной статистики T(e.g.ОМП)\n",
        "\n",
        "4.2 Доказать полноту МДС T\n",
        "\n",
        "4.3 Скорректировать смещение:$\\widetilde{\\theta}(T)=f(\\widehat{\\theta}(T),T): \\mathbb{E}_{\\theta}\\widetilde{\\theta}(T)=\\theta,\\forall \\theta\\in \\Theta$\n",
        "\n",
        "5. Асимптотический доверительный интервал (АДИ)\n",
        "\n",
        "5.1 На базе Асимптотической нормальности оценки $\\widehat{\\theta}$\n",
        "\n",
        "5.1.1 Асимптотическая нормальность $\\sqrt{n}\\left( \\widehat{\\theta}(\\overrightarrow{X})-\\theta)\\right)\\sim \\mathcal{N}\\left(0,\\sigma^{2}(\\theta)\\right)$\n",
        "\n",
        "5.1.2 Тогда $\\sqrt{n}\\frac{\\widehat{\\theta}(\\overrightarrow{X})-\\theta}{\\sigma\\left(\\widehat{\\theta}(\\overrightarrow{X})\\right)}$    \n",
        "\n",
        "5.1.3 Выбираем $X_{\\alpha}: \\Phi(X_{\\alpha})=1-\\frac{\\alpha}{2}$\n",
        "\n",
        "5.1.4 А.Д.И. $\\left[ \\widehat{\\theta}(\\overrightarrow{X})-\\frac{X_{\\alpha}\\cdot \\sigma\\left( \\widehat{\\theta}(\\overrightarrow{X}) \\right)}{\\sqrt{n}}; \\widehat{\\theta}(\\overrightarrow{X})+\\frac{X_{\\alpha}\\cdot \\sigma\\left( \\widehat{\\theta}(\\overrightarrow{X}) \\right)}{\\sqrt{n}}\\right]$\n",
        "\n",
        "5.2 на базе ОМП\n",
        "\n",
        "5.2.1 Пусть $\\widehat{\\theta}(\\overrightarrow{X})$-ОМП\n",
        "\n",
        "5.2.2 При выполнении опр.условий регулярности: $\\sqrt{n}\\left( \\widehat{\\theta}(\\overrightarrow{X})-\\theta)\\right)\\sim \\mathcal{N}\\left(0,\\frac{1}{I(\\theta)}\\right), I(\\theta)=-\\mathbb{E}\\left( \\frac{\\partial^{2} LL}{\\partial \\theta^{2}} \\right)$-информация Фишера\n",
        "\n",
        "5.2.3 Тогда $\\sqrt{n\\cdot I\\left( \\widehat{\\theta}(\\overrightarrow{X}) \\right)}\\cdot \\left( \\widehat{\\theta}(\\overrightarrow{X})-\\theta \\right)\\sim \\mathcal{N}(0,1)$\n",
        "\n",
        "5.2.4 Выбираем $X_{\\alpha}: \\Phi(X_{\\alpha})=1-\\frac{\\alpha}{2}$\n",
        "\n",
        "5.2.5 А.Д.И $\\left[ \\widehat{\\theta}(\\overrightarrow{X})-\\frac{X_{\\alpha}}{\\sqrt{n\\cdot I\\left( \\widehat{\\theta}(\\overrightarrow{X}) \\right)}};\\widehat{\\theta}(\\overrightarrow{X})+\\frac{X_{\\alpha}}{\\sqrt{n\\cdot I\\left( \\widehat{\\theta}(\\overrightarrow{X}) \\right)}} \\right]$\n",
        "\n",
        "6. Критерий $\\chi^2$ для проверки гипотез\n",
        "\n",
        "основан на справнении теоритической плотности распределения и гистограммы, либо теоритической вероятностной меры и полигона частот.\n",
        "\n",
        "Разобъем множество значений сл. вел. X на $N$ интервалов $I_{1}, ..., I_{N}:$ $I_{i} = (a_{i-1}, a_i], i = \\overline {1,N}$. данные интервалы не пересекаются и покрывают всё множество возможных значений сл. вел. X.\n",
        "\n",
        "Обозначим через $p_{i}$ теоритическую вероятность попадания сл. вел. X в интервал $I_{i}$, при условии, что справедлива $H_{0}$.\n",
        "\n",
        "$p_{i} = P(X \\in I_{i}|H_{0})$\n",
        "\n",
        "Через $n_{i}$ обозначим число наблюдений нашей выборки, попавших в соответветствующий интервал $I_{i}$.\n",
        "\n",
        "$n_{i} = num(x_{j} \\in I_{i})$\n",
        "\n",
        "Статистика критерия основана на сравнении относительной частоты и теоритической.\n",
        "\n",
        "$\\chi^{2}_{набл} = \\sum \\limits_{i=1}^{N} \\frac{n}{p_{i}} \\bigg ( \\frac{n_{i}}{n} - p_{i} \\bigg )^{2} = \\sum \\limits_{i=1}^{N} \\frac{(n_{i} - p_{i} n)^{2}}{n p_{i}} \\sim \\chi^{2}_{N-1}$\n",
        "\n",
        "Если $\\mathcal{X}^{2}_{N-1,1-\\alpha_{1}} \\lt \\chi^2_{набл}$, то гипотезу отвергаем\n",
        "\n",
        "Если $\\mathcal{X}^{2}_{N-1,1-\\alpha_{1}} \\gt \\chi^2_{набл}$, то гипотезу принимаем\n",
        "\n",
        "7. теорема Колмогорова\n",
        "\n",
        "$D_{n}(\\overrightarrow{X}) = \\overset{}{\\underset{X \\in \\mathbb R}{sup}} |F_{0}(X_{i}) - F_{n}(X_{i})|$\n",
        "\n",
        "Если гипотеза $H_{0}$ верна, и $F_{0}(X)$ - непрерывная ф-я на $\\mathbb R$, тогда имеет место сходимость\n",
        "\n",
        "$P(\\sqrt{n} D_{n}(\\overrightarrow{X}) < z) \\xrightarrow[n \\rightarrow \\infty]{} K(z)$, где\n",
        "\n",
        "$K(z)=1-\\alpha$ - ф-я распределения Колмогорова.\n",
        "\n",
        "Если $D_{n} \\lt z$, то гипотезу принимаем\n",
        "\n",
        "Если $D_{n} \\gt z$, то гипотезу отвергаем\n",
        "\n",
        "8. Наиболее мощный критерий простой гипотезы\n",
        "\n",
        "Для основной гипотезы $H_{0}: \\theta=\\theta_{0}$ и альтернативной гипотезы $H_{1}: \\theta=\\theta_{1}$, где $\\theta_{0}$ и $\\theta_{1}$ - фиксированные параметры, мы можем построить статистику правдоподобия:\n",
        "\n",
        "$LR(\\overrightarrow{X},\\theta_{1},\\theta_{0})=\\frac{L(\\overrightarrow{X},\\theta_{1})}{L(\\overrightarrow{X},\\theta_{0})}=\\frac{P_{\\theta_{1}}(X)}{P_{\\theta_{0}}(X)}$ - статистика отношений правдоподобия\n",
        "\n",
        "где $L(\\overrightarrow{X},\\theta_{1})$ - функция правдоподобия для альтернативной гипотезы, а $L(\\overrightarrow{X}\\theta_{0})$ - функция правдоподобия для основной гипотезы.\n",
        "\n",
        "Наиболее мощным критерием будет критическая область, в которой наблюдаемое значение статистики правдоподобия $LR(\\overrightarrow{X},\\theta_{1},\\theta_{0})$ будет отклоняться от значения 1 в сторону более высоких значений.\n",
        "\n",
        "Чтобы построить критическую область, мы должны задать уровень значимости $\\alpha$ - вероятность ошибки первого рода. Затем мы находим критическое значение $c$ такое, что $P\\left(LR(\\overrightarrow{X},\\theta_{1},\\theta_{0}) > c | H_{0} \\right) = \\alpha$, где $P\\left(LR(\\overrightarrow{X},\\theta_{1},\\theta_{0}) > c | H_{0}\\right)$ - вероятность получить наблюдаемое значение статистики правдоподобия, большее или равное $c$, при условии, что основная гипотеза верна.\n",
        "\n",
        "$LR(\\overrightarrow{X},\\theta_{1},\\theta_{0})\\gt c$, то принимаем основную гипотезу\n",
        "\n",
        "$LR(\\overrightarrow{X},\\theta_{1},\\theta_{0})\\lt c$, то отвергаем основную гипотезу"
      ],
      "metadata": {
        "id": "GVPf4M9bA2NI"
      }
    },
    {
      "cell_type": "markdown",
      "source": [
        "## Постановка задачи\n",
        "Для полученных в результате эксперимента наборов данных выполнить статистическую обработку. Полученные результаты содержательно проинтерпретировать."
      ],
      "metadata": {
        "id": "xi8e-q4CBRyT"
      }
    },
    {
      "cell_type": "markdown",
      "source": [
        "## Выполнение работы\n"
      ],
      "metadata": {
        "id": "MX6zWNNUBT9K"
      }
    },
    {
      "cell_type": "markdown",
      "source": [
        "### 1. В результате эксперимента получены данные, приведенные в таблице 1"
      ],
      "metadata": {
        "id": "MkhzQZwNB76_"
      }
    },
    {
      "cell_type": "markdown",
      "source": [
        "### a) Построить вариационный ряд, эмпирическую функцию распределения и гистограмму частот."
      ],
      "metadata": {
        "id": "z9n81r0mCADv"
      }
    },
    {
      "cell_type": "code",
      "source": [
        "import numpy as np\n",
        "import matplotlib.pyplot as plt\n",
        "import statsmodels.api as sm\n",
        "import seaborn as sns\n",
        "\n",
        "data = [2, 7, 3, 2, 5, 6, 4, 3, 4, 3, 3, 6, 4, 4, 2, 2, 10, 2, 9, 2, 4, 5, 4, 3, 5, 3, 2, 5, 4, 1, 7, 3, 4, 6, 5, 5, 2, 2, 2, 6, 3, 0, 3, 3, 3, 7, 4, 2, 8, 4]\n",
        "n = len(data)\n",
        "\n",
        "variation_data = np.sort(data)\n",
        "\n",
        "print('вариационный ряд - упорядоченная по невозрастанию выборка:')\n",
        "print(variation_data)\n",
        "\n",
        "# Построение гистограммы\n",
        "\n",
        "plt.hist(variation_data, bins=range(min(variation_data), max(variation_data) + 1), density=True, edgecolor='black')\n",
        "plt.xlabel('Значение')\n",
        "plt.ylabel('Относительная частота')\n",
        "plt.title('Гистограмма частот')\n",
        "plt.show()\n",
        "\n",
        "\n",
        "# Построение эмпирической функции распределения\n",
        "\n",
        "ecdf = np.arange(1, len(variation_data) + 1) / len(variation_data)\n",
        "\n",
        "# Построение графика\n",
        "plt.step(variation_data, ecdf, label='ECDF')\n",
        "plt.xlabel('Значения')\n",
        "plt.ylabel('Эмпирическая функция распределения')\n",
        "plt.title('Эмпирическая функция распределения')\n",
        "plt.legend()\n",
        "\n",
        "# Отображение графика\n",
        "plt.show()\n",
        "\n",
        "\n",
        "\n",
        "# i_1 = [i for i in (variation_data) if i < 3]\n",
        "# print(len(i_1))\n",
        "\n",
        "# i_2 = [i for i in (variation_data) if i > 2]\n",
        "# print(len(i_2))\n"
      ],
      "metadata": {
        "colab": {
          "base_uri": "https://localhost:8080/",
          "height": 996
        },
        "id": "5S6huHzeDKp1",
        "outputId": "7896391d-324a-4682-841c-4533a1715c68"
      },
      "execution_count": 2,
      "outputs": [
        {
          "output_type": "stream",
          "name": "stdout",
          "text": [
            "вариационный ряд - упорядоченная по невозрастанию выборка:\n",
            "[ 0  1  2  2  2  2  2  2  2  2  2  2  2  3  3  3  3  3  3  3  3  3  3  3\n",
            "  4  4  4  4  4  4  4  4  4  4  5  5  5  5  5  5  6  6  6  6  7  7  7  8\n",
            "  9 10]\n"
          ]
        },
        {
          "output_type": "display_data",
          "data": {
            "text/plain": [
              "<Figure size 640x480 with 1 Axes>"
            ],
            "image/png": "[encoded data removed]"
          },
          "metadata": {}
        },
        {
          "output_type": "display_data",
          "data": {
            "text/plain": [
              "<Figure size 640x480 with 1 Axes>"
            ],
            "image/png": "[encoded data removed]"
          },
          "metadata": {}
        }
      ]
    },
    {
      "cell_type": "markdown",
      "source": [
        "### b) Вычислить выборочные аналоги следующих числовых характеристик:"
      ],
      "metadata": {
        "id": "5U1OZubpNLTK"
      }
    },
    {
      "cell_type": "markdown",
      "source": [
        "### 1. Математического ожидания\n",
        "### 2. Дисперсии\n",
        "### 3. СКО\n",
        "### 4. Медианы\n",
        "### 5. Асимметрии\n",
        "### 6. Эксцесса\n",
        "### 7. Вероятности $\\mathbb{P}\\left(X\\in[a, b]\\right)$"
      ],
      "metadata": {
        "id": "xaDoTIEfNMN8"
      }
    },
    {
      "cell_type": "code",
      "source": [
        "from scipy.stats import skew, kurtosis\n",
        "\n",
        "mean_value = np.mean(data)\n",
        "\n",
        "variance_value = np.var(data, ddof=1)\n",
        "\n",
        "std_deviation = np.std(data, ddof=1)\n",
        "\n",
        "median_value = np.median(data)\n",
        "\n",
        "skewness = skew(data)\n",
        "\n",
        "kurtosis_value = kurtosis(data)\n",
        "\n",
        "\n",
        "a = 2.8\n",
        "b = 5.6\n",
        "\n",
        "P = len([x for x in data if(a <= x <= b)]) / len(data)\n",
        "\n",
        "print(\"1. Математическое ожидание:\", mean_value)\n",
        "print(\"2. Дисперсия:\", variance_value)\n",
        "print(\"3. Стандартное отклонение (СКО):\", std_deviation)\n",
        "print(\"4. Медиана:\", median_value)\n",
        "print(\"5. Асимметрия:\", skewness)\n",
        "print(\"6. Эксцесс:\", kurtosis_value)\n",
        "print(\"7. Вероятность попадания элемента выборки в промежуток [a, b]:\", P)"
      ],
      "metadata": {
        "colab": {
          "base_uri": "https://localhost:8080/"
        },
        "id": "_G7onf_ANQME",
        "outputId": "29c04940-35cd-4f97-e704-e7d7df6874b1"
      },
      "execution_count": 3,
      "outputs": [
        {
          "output_type": "stream",
          "name": "stdout",
          "text": [
            "1. Математическое ожидание: 3.96\n",
            "2. Дисперсия: 4.202448979591836\n",
            "3. Стандартное отклонение (СКО): 2.0499875559602394\n",
            "4. Медиана: 4.0\n",
            "5. Асимметрия: 0.8583907920951076\n",
            "6. Эксцесс: 0.6193357277273366\n",
            "7. Вероятность попадания элемента выборки в промежуток [a, b]: 0.54\n"
          ]
        }
      ]
    },
    {
      "cell_type": "markdown",
      "source": [
        "### c) В предположении, что исходные наблюдения являются выборкой из распределения Пуассона, построить оценку максимального правдоподобия параметра $\\lambda$, а также оценку $\\lambda$ по методу моментов. Найти смещение оценок."
      ],
      "metadata": {
        "id": "3bEqnqf3Nowx"
      }
    },
    {
      "cell_type": "markdown",
      "source": [
        "$\\begin{split}\n",
        "  &ОМП: \\\\\n",
        "  & \\mathbb{P}_{\\lambda}\\left(X = k\\right) = \\frac{\\lambda^x}{x!}\\cdot\\exp(-{\\lambda}) \\\\\n",
        "  & L\\left(\\vec{x},\\lambda\\right) = \\prod_{i=1}^{n} \\frac{\\lambda^x}{x!}\\cdot\\exp(-{\\lambda}) = \\exp(-n\\cdot\\lambda) \\cdot \\lambda^{\\sum_{i=1}^{n} x_i} \\cdot \\prod_{i=1}^{n} \\frac{1}{x_i!} \\\\\n",
        "  & LL\\left(\\vec{x},\\lambda\\right) = -n\\cdot\\lambda\\cdot\\ln\\left(\\exp\\right) + \\sum_{i=1}^{n}x_i\\cdot\\ln\\left(\\lambda\\right)+\\ln\\left(\\prod_{i=1}^{n} \\frac{1}{x_i!}\\right) \\\\\n",
        "  & \\frac{\\partial LL\\left(\\vec{x},\\lambda\\right)}{\\partial \\lambda} = -n + \\sum_{i=1}^{n} x_i \\cdot \\frac{1}{\\lambda} + 0 = 0 \\\\\n",
        "  & n = \\sum_{i=1}^{n} x_i \\cdot \\frac{1}{\\lambda} \\\\\n",
        "  & \\lambda  = \\frac{1}{n} \\cdot \\sum_{i=1}^{n} x_i \\\\\n",
        "  & \\lambda  = \\bar{x} - ОМП\n",
        "\\end{split}$"
      ],
      "metadata": {
        "id": "1gkXpn0SNu1b"
      }
    },
    {
      "cell_type": "markdown",
      "source": [
        "$\\begin{split}\n",
        "  & ОММ: \\\\\n",
        "  & Для\\ \\mathbb{P}_{\\lambda}\\left(X = k\\right) = \\frac{\\lambda^x}{x!}\\cdot\\exp(-{\\lambda}) \\ известно,\\ что\\ первый\\ момент\\ \\mathbb{E}X_1 = \\lambda; M_1 = \\bar{X} \\\\\n",
        "  & т.к. имеем\\ одномерный\\ параметр,\\ то\\ получаем\\ систему\\ из\\ одного\\ уравнения: \\\\\n",
        "  & \\tilde{\\theta} = \\tilde{\\lambda} = \\bar{x} = 3.96\\ (из\\ пункта\\ b\\ уже\\ рассчтано) \\\\\n",
        "  & найдем\\ смещение\\ оценки: \\\\\n",
        "  & g\\left(T\\left(\\vec{x}\\right)\\right) = \\frac{\\lambda^{\\sum_{i=1}^{n} x_i}}{\\sum_{i=1}^{n} x_i!} \\cdot \\exp(-\\lambda) \\\\\n",
        "  & h\\left(\\vec{x}\\right) = 1 \\\\\n",
        "  & Достаточная\\ минимальная\\ статистика: T = \\sum_{i=1}^{n} x_i = 198 \\\\\n",
        "  & \\mathbb{E}_\\lambda\\hat{\\lambda} = \\mathbb{E}_\\lambda\\vec{x} = \\mathbb{E}_\\lambda\\frac{1}{n} \\cdot \\sum_{i=1}^{n} x_i = \\frac{1}{n}\\mathbb{E}_\\lambda \\sum_{i=1}^{n} x_i = \\frac{1}{n}\\mathbb{E}_\\lambda \\sum_{i=1}^{n} X_1 = \\frac{1}{n} \\cdot n \\cdot \\mathbb{E}_\\lambda X_1 = 3.96 - НРМД\n",
        "\\end{split}$"
      ],
      "metadata": {
        "id": "_h72zTFMNyo9"
      }
    },
    {
      "cell_type": "code",
      "source": [
        "print(f\"сумма выборки = {np.sum(data)}\")"
      ],
      "metadata": {
        "colab": {
          "base_uri": "https://localhost:8080/"
        },
        "id": "mttdMPWzPWDW",
        "outputId": "f80c34f8-fb81-48d1-c3ca-d879fd443c81"
      },
      "execution_count": 4,
      "outputs": [
        {
          "output_type": "stream",
          "name": "stdout",
          "text": [
            "сумма выборки = 198\n"
          ]
        }
      ]
    },
    {
      "cell_type": "markdown",
      "source": [
        "### d) Построить асимптотический доверительный интервал уровня значимости $\\alpha_1$ для параметра $\\lambda$ на базе оценки максимального правдоподобия"
      ],
      "metadata": {
        "id": "ex7IY80KP3WT"
      }
    },
    {
      "cell_type": "markdown",
      "source": [
        "\n",
        "1. Построим на базе ОМП.\n",
        "\n",
        "$\\sqrt{n}\\left( \\widehat{\\theta}(\\overrightarrow{X})-\\theta \\right)\\sim N\\left( 0, \\frac{1}{I(\\theta)} \\right)$\n",
        "\n",
        "ОМП: $\\widehat{\\theta}=\\widehat{\\lambda}=\\overline{X}$\n",
        "\n",
        "Найдем информацию Фишера: $I(\\theta)=-\\mathbb{E}\\left( \\frac{\\partial^{2} LL}{\\partial \\lambda^{2}} \\right)=-\\mathbb{E}\\left( -\\frac{\\sum_{i=1}^{n}X_{i}}{\\lambda^{2}} \\right)=\\frac{n}{\\lambda^{2}}$\n",
        "\n",
        "Тогда $\\sqrt{n\\cdot I\\left(  \\widehat{\\theta}(\\overrightarrow{X})\\right)}\\left( \\widehat{\\theta}(\\overrightarrow{X})-\\theta \\right)\\sim N(0,1)$\n",
        "\n",
        "Выбираем $X_{\\alpha}$: $\\mathrm{Ф}(X_{\\alpha})=1-\\frac{\\alpha_{1}}{2}=1-\\frac{0,02}{2}=0,99 \\implies X_{0,99}=2,33$\n",
        "\n",
        "$\\left[ \\overline{X}-\\frac{X_{0.99}}{\\sqrt{50\\cdot \\frac{50}{\\overline{X}}}}; \\overline{X}+\\frac{X_{0.99}}{\\sqrt{50\\cdot \\frac{50}{\\overline{X}}}}\\right] \\implies 3.96-\\frac{2,33\\sqrt{3.96}}{50}\\le \\lambda\\le 3.96+\\frac{2,33\\sqrt{3.96}}{50}$\n",
        "\n",
        "$3.87\\le \\lambda\\le 4.05$ - АДИ параметра $\\lambda$.\n",
        "\n",
        "2. Построим на безе асимтотической нормальной оценки $\\widehat{\\theta}$\n",
        "\n",
        "$\\sqrt{n}\\left( \\widehat{\\theta}(\\overrightarrow{X})-\\theta \\right)\\sim N(0,\\sigma^{2}(\\theta))$\n",
        "\n",
        "$\\sqrt{n}\\frac{ \\widehat{\\theta}(\\overrightarrow{X})-\\theta}{\\sigma(\\widehat{\\theta})}\\sim N(0,1)$\n",
        "\n",
        "$X_{\\alpha}: \\mathrm{Ф(X_{\\alpha})}=0.99 \\implies X_{0.99}=2.33$\n",
        "\n",
        "$-X_{0.99}\\le \\sqrt{n}\\cdot \\frac{\\widehat{\\lambda}-\\lambda}{\\sqrt{\\widehat{\\lambda}}}\\le X_{0.99}$\n",
        "\n",
        "$3.96-\\frac{2.33\\cdot \\sqrt{3.96}}{\\sqrt{50}}\\le \\lambda\\le 3.96+\\frac{2.33\\cdot \\sqrt{3.96}}{\\sqrt{50}}\\implies 3.89\\le \\lambda\\le 4.03$ - АДИ параметра $\\lambda$"
      ],
      "metadata": {
        "id": "0IF1CrKWP7Ah"
      }
    },
    {
      "cell_type": "markdown",
      "source": [
        "### e) Используя гистограмму частот, построить критерий значимости $\\mathcal{X^{2}}$ проверки простой гипотезы согласия с распределением Пуассона с параметром $\\lambda_{0}$. Проверить гипотезу на уровень значимости $\\alpha_{1}$. Вычислить наибольшее значение уровня значимости, на котором ещё нет оснований отвергнуть данную гипотезу."
      ],
      "metadata": {
        "id": "x8p0JNZnR2ku"
      }
    },
    {
      "cell_type": "code",
      "source": [
        "from collections import Counter\n",
        "import scipy.stats as stats\n",
        "import math\n",
        "variation_series = list(Counter(variation_data).items())\n",
        "\n",
        "def hypothesisTest(lambda_0, alpha_1, df):\n",
        "    # Подсчет наблюдаемых частот был произведен ранее и записан в variation_series\n",
        "    print(f\"Наблюдаемые частоты: {variation_series}\")\n",
        "\n",
        "\n",
        "    # Подсчет ожидаемых частот для распределения Пуассона\n",
        "    # ожидаемые частоты еденичных интервалов вида [value, value + 1)\n",
        "    expected_freq = [math.exp(-lambda_0) * lambda_0**variation_series[i][0] / math.factorial(variation_series[i][0]) for i in range(len(variation_series) - 1)]\n",
        "\n",
        "    # ожидаемая частота последнего интервала [max_value, +inf)\n",
        "    expected_freq.append(1 - sum(expected_freq));\n",
        "\n",
        "    print(f\"Ожидаемые частоты: {expected_freq}\")\n",
        "    print(f\"Сумма частот: {sum(expected_freq)}\")\n",
        "\n",
        "    # Вычисление критерия chi^2\n",
        "    chi = 0\n",
        "    for i in range(len(variation_series)):\n",
        "        chi += ((variation_series[i][1] - len(data)*expected_freq[i])**2) / (len(data)*expected_freq[i])\n",
        "\n",
        "\n",
        "    # Критическое значение chi^2\n",
        "    x_alpha = stats.chi2.ppf(1 - alpha_1, df)\n",
        "\n",
        "\n",
        "    print(f\"Критерий X^2: {chi}\")\n",
        "    print(f\"Критическое значение: {x_alpha}\")\n",
        "\n",
        "\n",
        "    print(f\"p value= {1 - stats.chi2.cdf(chi, df)}\")\n",
        "    print(stats.chi2.ppf(1-10**(-14), df))\n",
        "\n",
        "hypothesisTest(lambda_0=6, alpha_1=0.02, df=len(variation_series) - 1)"
      ],
      "metadata": {
        "colab": {
          "base_uri": "https://localhost:8080/"
        },
        "id": "7Bt9WiqIkFoY",
        "outputId": "03c67a93-1d49-4c96-f370-0f72fcc5e20f"
      },
      "execution_count": 13,
      "outputs": [
        {
          "output_type": "stream",
          "name": "stdout",
          "text": [
            "Наблюдаемые частоты: [(0, 1), (1, 1), (2, 11), (3, 11), (4, 10), (5, 6), (6, 4), (7, 3), (8, 1), (9, 1), (10, 1)]\n",
            "Ожидаемые частоты: [0.0024787521766663585, 0.014872513059998151, 0.044617539179994455, 0.08923507835998891, 0.13385261753998337, 0.16062314104798003, 0.16062314104798003, 0.13767697804112575, 0.1032577335308443, 0.06883848902056287, 0.08392401699487573]\n",
            "Сумма частот: 1.0\n",
            "Критерий X^2: 64.21801297142365\n",
            "Критическое значение: 21.160767541304686\n",
            "p value= 5.718445716951237e-10\n",
            "88.63327895624195\n",
            "inf\n"
          ]
        }
      ]
    },
    {
      "cell_type": "markdown",
      "source": [
        "$\\mathcal{X^{2}} > \\mathcal{X_{0.05, 10}} \\rightarrow$ гипотеза отвергается.\n",
        "\n",
        "Критическое значение не доходит до значения критерия даже при уровне значимости $10^{-14}$, значит наибольший уровень значимости, при котором еще нет оснований отвергнуть гипотезу практически неотличим от нуля."
      ],
      "metadata": {
        "id": "HBQqh0emko67"
      }
    },
    {
      "cell_type": "markdown",
      "source": [
        "### f)Построить критерий значимости  $\\mathcal{X^{2}}$ проверки сложной гипотезы согласия с распределением Пуассона. Проверить гипотезу по уровню значимости $\\alpha_{1}$.Вычислить наибольшее значение уровня значимости, на котором ещё нет оснований отвергнуть данную гипотезу."
      ],
      "metadata": {
        "id": "5GYRNCmCrbSp"
      }
    },
    {
      "cell_type": "code",
      "source": [
        "hypothesisTest(lambda_0=4, alpha_1=0.02, df=len(variation_series) - 2)"
      ],
      "metadata": {
        "colab": {
          "base_uri": "https://localhost:8080/"
        },
        "id": "FN6XK6Vvk_1Y",
        "outputId": "f08b4205-94f9-476a-d1f7-94f7426605b3"
      },
      "execution_count": 14,
      "outputs": [
        {
          "output_type": "stream",
          "name": "stdout",
          "text": [
            "Наблюдаемые частоты: [(0, 1), (1, 1), (2, 11), (3, 11), (4, 10), (5, 6), (6, 4), (7, 3), (8, 1), (9, 1), (10, 1)]\n",
            "Ожидаемые частоты: [0.01831563888873418, 0.07326255555493671, 0.14652511110987343, 0.19536681481316456, 0.19536681481316456, 0.15629345185053165, 0.1041956345670211, 0.059540362609726345, 0.029770181304863173, 0.013231191691050298, 0.00813224279693403]\n",
            "Сумма частот: 1.0\n",
            "Критерий X^2: 5.8487656529177805\n",
            "Критическое значение: 19.679016094854546\n",
            "p value= 0.7549538953323117\n",
            "86.06566918592506\n",
            "inf\n"
          ]
        }
      ]
    },
    {
      "cell_type": "markdown",
      "source": [
        "Значение критерия получилось почти такое же, как в прошлом пункте, гипотеза отвергается. Наибольший уровень значимости, при котором еще нет оснований отвергнуть гипотезу очень близок к нулю"
      ],
      "metadata": {
        "id": "PJXaHSfvlTXq"
      }
    },
    {
      "cell_type": "markdown",
      "source": [
        "\\begin{split}\n",
        "& \\text { Из таблицы: }  : \\mathcal{X^{2}_{k-1,\\alpha_1}} = \\mathcal{X^{2}_{1,0.01}} \\approx 6,63 \\\\\n",
        "& \\mathcal{X^{2}_{набл}} > \\mathcal{X^{2}_{1,0.01}} \\Rightarrow \\text { по критерию Пирсона отвергаем гипотезу } \\\\\n",
        "& \\text { Наибольшее значение уровня значимости, при котором нет еще оснований отвергнуть данную гипотезу } \\approx 4e-05\n",
        "\\end{split}\n",
        "\n",
        "\n"
      ],
      "metadata": {
        "id": "8g02_wKUsvYk"
      }
    },
    {
      "cell_type": "markdown",
      "source": [
        "### g)Построить наиболее мощный критерий проверки простой гипотезы пауссоновости с параметром $\\lambda=\\lambda_{0}$ при альтернативе пуассоновсти с параметром $\\lambda=\\lambda_{1}$. Проверить гипотезу на уровне значимости $\\alpha_{1}$. Что получится, если поменять местами основную и альтернативную гипотезы?"
      ],
      "metadata": {
        "id": "ANmj1yYlx7kZ"
      }
    },
    {
      "cell_type": "markdown",
      "source": [
        "Основная гипотеза: $H_{0}=\\lambda_{0} = 6$\n",
        "\n",
        "Альтернативная гипотеза: $H_{A}=\\lambda_{1} = 4$\n",
        "\n",
        "$LR(\\overrightarrow{X},\\lambda_{1},\\lambda_{0}) = \\frac{L\\left( \\overrightarrow{X},\\lambda_{1} \\right)}{L\\left( \\overrightarrow{X},\\lambda_{0} \\right)}= \\frac{\\lambda_{1}^{\\sum_{i=1}^{n}X_{i}}\\cdot exp(-n\\cdot \\lambda_{1})}{\\lambda_{0}^{\\sum_{i=1}^{n}X_{i}}\\cdot exp(-n\\cdot \\lambda_{0})}$\n",
        "\n",
        "В силу монотонности статистики $LR(\\overrightarrow{X})$ относительно МДС $T(\\overrightarrow{X})=\\sum_{i=1}^{50}X_{i}$\n",
        "\n",
        "$LR(\\overrightarrow{X},\\lambda_{0},\\lambda_{1})\\gt c\\Leftrightarrow \\overline{X}\\gt c^{*}$\n",
        "\n",
        "$\\sqrt{n}\\frac{\\overline{X}-\\lambda_{0}}{\\sqrt{\\overline{X}}}\\sim N(0,1)$\n",
        "\n",
        "$P\\left(\\sqrt{n}\\frac{\\overline{X}-\\lambda_{0}}{\\sqrt{\\overline{X}}} \\right)\\gt \\sqrt{n}\\frac{\\overline{X}-\\lambda_{0}}{\\sqrt{\\overline{X}}}=1-\\Phi\\left(\\sqrt{n}\\frac{\\overline{X}-\\lambda_{0}}{\\sqrt{\\overline{X}}} \\right)=\\alpha_{1}$\n",
        "\n",
        "$\\Phi\\left(\\sqrt{n}\\frac{\\overline{X}-\\lambda_{0}}{\\sqrt{\\overline{X}}} \\right)=1-\\alpha_{1}=0.98$\n",
        "\n",
        "$\\sqrt{n}\\frac{\\overline{X}-\\lambda_{0}}{\\sqrt{\\overline{X}}}\\gt \\sqrt{n}\\frac{c-\\lambda_{0}}{\\sqrt{\\overline{X}}}=2.06 \\rightarrow c = 2.06 \\cdot \\frac{\\sqrt{\\bar{x}}}{\\sqrt{n}} + \\lambda_0 \\rightarrow c = 8.34 > \\overline{X} = 3.96 \\rightarrow \\text { Гипотезу отвергаем }$\n",
        "\n",
        "\n",
        "$\\text { Меняем местами основную и альтернативную гипотезу: }$\n",
        "\n",
        "\\begin{split}\n",
        "H_{0}=\\lambda_{1} = 4 \\\\\n",
        "H_{1}=\\lambda_{0} = 6\n",
        "\\end{split}\n",
        "\n",
        "$ \\text { Из статистического отношения правдоподобия: } $\n",
        "\n",
        "$LR(\\overrightarrow{X},\\lambda_{0},\\lambda_{1}) = \\frac{L\\left( \\overrightarrow{X},\\lambda_{0} \\right)}{L\\left( \\overrightarrow{X},\\lambda_{1} \\right)}= \\frac{\\lambda_{0}^{\\sum_{i=1}^{n}X_{i}}\\cdot exp(-n\\cdot \\lambda_{0})}{\\lambda_{1}^{\\sum_{i=1}^{n}X_{i}}\\cdot exp(-n\\cdot \\lambda_{1})}$\n",
        "\n",
        "В силу монотонности статистики $LR(\\overrightarrow{X})$ относительно МДС $T(\\overrightarrow{X})=\\sum_{i=1}^{50}X_{i}$\n",
        "\n",
        "$LR(\\overrightarrow{X},\\lambda_{0},\\lambda_{1})\\gt c\\Leftrightarrow \\overline{X}\\gt c$\n",
        "\n",
        "$\\sqrt{n}\\frac{\\overline{X}-\\lambda_{1}}{\\sqrt{\\overline{X}}}\\sim N(0,1)$\n",
        "\n",
        "$P\\left(\\sqrt{n}\\frac{\\overline{X}-\\lambda_{1}}{\\sqrt{\\overline{X}}} \\right)\\gt \\sqrt{n}\\frac{\\overline{X}-\\lambda_{1}}{\\sqrt{\\overline{X}}}=1-\\Phi\\left(\\sqrt{n}\\frac{\\overline{X}-\\lambda_{1}}{\\sqrt{\\overline{X}}} \\right)=\\alpha_{1}$\n",
        "\n",
        "$\\Phi\\left(\\sqrt{n}\\frac{\\overline{X}-\\lambda_{1}}{\\sqrt{\\overline{X}}} \\right)=1-\\alpha_{1}=0.9$\n",
        "\n",
        "$\\sqrt{n}\\frac{\\overline{X}-\\lambda_{1}}{\\sqrt{\\overline{X}}}\\gt \\sqrt{n}\\frac{c-\\lambda_{1}}{\\sqrt{\\overline{X}}}=1.19 \\rightarrow c = 2.06 \\cdot \\frac{\\sqrt{\\bar{x}}}{\\sqrt{n}} + \\lambda_1 \\rightarrow c = 6.34 > \\overline{X} = 3.96\\rightarrow \\text { Гипотезу отвергаем }$\n"
      ],
      "metadata": {
        "id": "T3jhX-YIx-Mk"
      }
    },
    {
      "cell_type": "markdown",
      "source": [
        "### h) В пунктах (c) - (f) заменить семейство распределение Пуассона на семейство геометрических распредленией $\\mathbb{P}_{\\lambda}(X=k)=\\frac{\\lambda^{k}}{(\\lambda+1)^{k+1}}, k\\in \\mathbb{Z_{+}}$"
      ],
      "metadata": {
        "id": "2fFSj4EZ3EpY"
      }
    },
    {
      "cell_type": "markdown",
      "source": [
        "###  h.c) В предположении, что исходные наблюдения являются выборкой из геометрического распределения, построить ОМП и ОММ параметра $\\lambda$. Найти смещение оценки."
      ],
      "metadata": {
        "id": "t_PxJqpy3Np-"
      }
    },
    {
      "cell_type": "markdown",
      "source": [
        "ОМП:\n",
        "Плотность распределения Пуассона: $P_{\\lambda}(X=k)=\\frac{\\lambda^{k}}{(\\lambda+1)^{k+1}}$\n",
        "\n",
        "Функция правдоподобия:\n",
        "\n",
        "$L(\\overrightarrow{X};\\theta)=\\prod_{i=1}^{n}P_{\\lambda}(X_{i})=\\prod_{i=1}^{n}\\frac{\\lambda^{X_{i}}}{(\\lambda+1)^{X_{i}}}=\\frac{\\lambda^{\\sum_{i=1}^{n}X_{i}}}{(\\lambda+1)^{\\sum_{i=1}^{n}X_{i}+n}}$\n",
        "\n",
        "Прологарифмируем функцию правдоподобия:\n",
        "\n",
        "$LL(\\overrightarrow{X};\\theta)= \\sum_{i=1}^{n}X_{i}\\cdot \\ln(\\lambda)-(\\sum_{i=1}^{n}X_{i}+n)\\ln(\\lambda+1)$\n",
        "\n",
        "Частная производная по $\\lambda$ и приравняем ее к нулю $\\rightarrow$:\n",
        "\n",
        "$\\frac{\\partial LL(\\overrightarrow{X};\\theta)}{\\partial \\lambda} = \\frac{\\sum_{i=1}^{n}X_{i}}{\\lambda}-\\frac{\\sum_{i=1}^{50}X_{i}+n}{\\lambda+1}=0\\implies \\frac{\\lambda}{\\sum_{i=1}^{50}X_{i}}=\\frac{\\lambda+1}{\\sum_{i=1}^{50}X_{i}+n}\\implies \\lambda\\cdot \\sum_{i=1}^{n}X_{i}+\\lambda \\cdot n = \\lambda\\cdot \\sum_{i=1}^{n}X_{i}+\\sum_{i=1}^{n}X_{i}\\implies \\lambda=\\overline{X}\\to \\widehat{\\theta}=\\widehat{\\lambda}=\\overline{X}=3.96$.\n",
        "\n",
        "ОММ:\n",
        "\n",
        "$P_{\\lambda}(X=k)=\\frac{\\lambda^{k}}{(\\lambda +1)^{k+1}}$\n",
        "\n",
        "Первый момент $\\mathbb{E}X_{1}=\\frac{1}{\\lambda};M_{1}=\\frac{1}{\\overline{X}}$\n",
        "\n",
        "Т.к. нас 1-но мерный параметр, то решим систему из одного уравнения.\n",
        "\n",
        "$\\widetilde{\\theta}=\\frac{1}{\\widetilde{\\lambda}}=\\frac{1}{\\overline{X}}=0.25$\n",
        "\n",
        "\n",
        "Cмещение оценки:\n",
        "\n",
        "Для нахождения НРМД-оценки воспользуемся ОМП, которое уже найдено.\n",
        "\n",
        "$g\\left(T(\\overrightarrow{X})\\right)=\\frac{\\lambda^{\\sum_{i=1}^{n}X_{i}}}{(\\lambda+1)^{\\sum_{i=1}^{n}X_{i}+n}}$\n",
        "\n",
        "$h(\\overrightarrow{X})=1$\n",
        "\n",
        "Минимальная достаточная статистика: $T=\\sum_{i=1}^{n}X_{i}=198$."
      ],
      "metadata": {
        "id": "np6XxZVw3Q0E"
      }
    },
    {
      "cell_type": "code",
      "source": [
        "import numpy as np\n",
        "\n",
        "data = [2, 7, 3, 2, 5, 6, 4, 3, 4, 3, 3, 6, 4, 4, 2, 2, 10, 2, 9, 2, 4, 5, 4, 3, 5, 3, 2, 5, 4, 1, 7, 3, 4, 6, 5, 5, 2, 2, 2, 6, 3, 0, 3, 3, 3, 7, 4, 2, 8, 4]\n",
        "dataSum = np.sum(data)\n",
        "print(dataSum)"
      ],
      "metadata": {
        "colab": {
          "base_uri": "https://localhost:8080/"
        },
        "id": "sSE8xepe3tZM",
        "outputId": "4a3ecc56-87c7-480d-a256-7c0448cff21c"
      },
      "execution_count": 9,
      "outputs": [
        {
          "output_type": "stream",
          "name": "stdout",
          "text": [
            "198\n"
          ]
        }
      ]
    },
    {
      "cell_type": "markdown",
      "source": [
        "$\\mathbb{E}_{\\lambda}\\widehat{\\lambda}=\\mathbb{E}_{\\lambda}\\overline{X}=\\mathbb{E}_{\\lambda}\\frac{1}{n}\\cdot \\sum_{i=1}^{n}x_{i}=\\frac{1}{n}\\cdot \\mathbb{E_{\\lambda}}\\sum_{i=1}^{n}x_{i}=\\frac{1}{n}\\cdot \\sum_{i=1}^{n}\\mathbb{E_{\\lambda}}X_{1}=\\frac{1}{n}\\cdot n\\cdot \\mathbb{E}_{\\lambda}X_{1}=\\lambda=0.25$ - НРМД-оценка"
      ],
      "metadata": {
        "id": "Dr4KDPlB353-"
      }
    },
    {
      "cell_type": "markdown",
      "source": [
        "### h.d) Построить АДИ уровня значимости $\\alpha_1$ для параметра $\\lambda$ на базе ОМП"
      ],
      "metadata": {
        "id": "QzZz6jrc4B_0"
      }
    },
    {
      "cell_type": "markdown",
      "source": [
        "Построим на базе ОМП.\n",
        "\n",
        "$\\sqrt{n}\\left( \\widehat{\\theta}(\\overrightarrow{X})-\\theta \\right)\\sim N\\left( 0, \\frac{1}{I(\\theta)} \\right)$\n",
        "\n",
        "ОМП:\n",
        "\n",
        "$\\widehat{\\theta}=\\widehat{\\lambda}=\\frac{1}{\\overline{X}}$\n",
        "\n",
        "Найдем информацию Фишера:\n",
        "\n",
        "$I(\\theta)=-\\mathbb{E}\\left( \\frac{\\partial^{2} LL}{\\partial \\lambda^{2}} \\right)=-\\mathbb{E}\\left( -\\frac{\\sum_{i=1}^{n}X_{i}}{\\lambda^{2}}+\\frac{\\sum_{i=1}^{n}X_{i}+n}{(\\lambda +1)^{2}} \\right)=\\frac{n}{\\lambda^{2}}-\\mathbb{E}\\left( \\frac{\\sum_{i=1}^{n}X_{i}+n}{(\\lambda+1)^{2}} \\right) = \\frac{n}{\\lambda^{2}}-\\mathbb{E}\\left( \\frac{\\sum_{i=1}^{n}X_{i}}{(\\lambda+1)^{2}} \\right)-\\mathbb{E}\\left( \\frac{n}{(\\lambda+1)^{2}} \\right)=\\frac{n}{\\lambda^{2}}-\\frac{n}{(\\lambda+1)^{2}}-\\frac{n}{(\\lambda+1)^{2}}=\\frac{n(\\lambda^{2}+1)}{(\\lambda+1)^{2}\\cdot \\lambda^{2}}$\n",
        "\n",
        "Тогда $\\sqrt{n\\cdot I\\left(  \\widehat{\\theta}(\\overrightarrow{X})\\right)}\\left( \\widehat{\\theta}(\\overrightarrow{X})-\\theta \\right)\\sim N(0,1)$\n",
        "\n",
        "Подберем $X_{\\alpha}$: $\\mathrm{Ф}(X_{\\alpha})=1-\\frac{\\alpha_{1}}{2}=1-\\frac{0.02}{2}=0.99 \\implies X_{0.975}=2.33$\n",
        "\n",
        "$\\left[ \\frac{1}{\\overline{X}}-\\frac{X_{0.975}}{\\sqrt{n\\cdot \\frac{n(\\widehat{\\lambda^{2}}+1)}{(\\widehat{\\lambda}+1)^{2}\\cdot \\widehat{\\lambda^{2}}}}};\\frac{1}{\\overline{X}}+\\frac{X_{0.975}}{\\sqrt{n\\cdot \\frac{n(\\widehat{\\lambda^{2}}+1)}{(\\widehat{\\lambda}+1)^{2}\\cdot \\widehat{\\lambda^{2}}}}} \\right] \\implies 0.251 \\leq \\lambda \\leq 0.254$ - АДИ параметра $\\lambda$\n",
        "\n"
      ],
      "metadata": {
        "id": "YRrjRG9q4EcW"
      }
    },
    {
      "cell_type": "code",
      "source": [
        "x_mean = 3.96 # считали ранее\n",
        "x_0_975 = 0.25\n",
        "lambda_OMP = 1 / x_mean\n",
        "n = 50\n",
        "\n",
        "left_range = (1 / x_mean) - (x_0_975 / (np.sqrt( n * (n*(lambda_OMP**2 + 1))/((lambda_OMP + 1)**2 * lambda_OMP**2) )))\n",
        "\n",
        "right_range = (1 / x_mean) + (x_0_975 / (np.sqrt( n * (n*(lambda_OMP**2 + 1))/((lambda_OMP + 1)**2 * lambda_OMP**2) )))\n",
        "\n",
        "print('левая граница АДИ -', left_range)\n",
        "print('правая граница АДИ -', right_range)"
      ],
      "metadata": {
        "colab": {
          "base_uri": "https://localhost:8080/"
        },
        "id": "zgUt8DJW5-md",
        "outputId": "e6eca3cb-3e50-41d0-ccc8-efb4931ca02c"
      },
      "execution_count": 10,
      "outputs": [
        {
          "output_type": "stream",
          "name": "stdout",
          "text": [
            "левая граница АДИ - 0.25099191542714916\n",
            "правая граница АДИ - 0.2540585896233559\n"
          ]
        }
      ]
    },
    {
      "cell_type": "markdown",
      "source": [
        "### h.e) Используя гистограмму частот, построить критерий значимости $\\mathcal{X^{2}}$ проверки простой гипотезы согласия с геометрическим распределением с параметром $\\lambda_{0}$. Проверить гипотезу на урокень значимости $\\alpha_{1}$. Вычислить наибольшее значение уровня значимости, на котором ещё нет оснований отвергнуть данную гипотезу."
      ],
      "metadata": {
        "id": "_UkaoAsK6OiE"
      }
    },
    {
      "cell_type": "code",
      "source": [
        "\n",
        "def hypothesisTestGeom(lambda_0, alpha_1, df):\n",
        "    # Подсчет наблюдаемых частот был произведен ранее и записан в variation_series\n",
        "    print(f\"Наблюдаемые частоты: {variation_series}\")\n",
        "\n",
        "\n",
        "    # Подсчет ожидаемых частот для геометрического распределения\n",
        "    # ожидаемые частоты еденичных интервалов вида [value, value + 1)\n",
        "    expected_freq = [lambda_0**variation_series[i][0] / (lambda_0 + 1)**(variation_series[i][0] + 1) for i in range(len(variation_series) - 1)]\n",
        "\n",
        "    # ожидаемая частота последнего интервала [max_value, +inf)\n",
        "    expected_freq.append(1 - sum(expected_freq));\n",
        "\n",
        "    print(f\"Ожидаемые частоты: {expected_freq}\")\n",
        "    print(f\"Сумма частот: {sum(expected_freq)}\")\n",
        "\n",
        "    # Вычисление критерия chi^2\n",
        "    chi = 0\n",
        "    for i in range(len(variation_series)):\n",
        "        chi += ((variation_series[i][1] - len(data)*expected_freq[i])**2) / (len(data)*expected_freq[i])\n",
        "\n",
        "\n",
        "    # Критическое значение chi^2\n",
        "    x_alpha = stats.chi2.ppf(1 - alpha_1, df)\n",
        "\n",
        "\n",
        "    print(f\"Критерий X^2: {chi}\")\n",
        "    print(f\"Критическое значение: {x_alpha}\")\n",
        "\n",
        "\n",
        "    print(f\"p value= {1 - stats.chi2.cdf(chi, df)}\")\n",
        "\n",
        "hypothesisTestGeom(lambda_0=6, alpha_1=0.02, df=len(variation_series) - 1)\n"
      ],
      "metadata": {
        "colab": {
          "base_uri": "https://localhost:8080/"
        },
        "id": "zpsYjZdbl7Na",
        "outputId": "2b2c3172-b46a-4173-dab2-18f2f8cf88cf"
      },
      "execution_count": 18,
      "outputs": [
        {
          "output_type": "stream",
          "name": "stdout",
          "text": [
            "Наблюдаемые частоты: [(0, 1), (1, 1), (2, 11), (3, 11), (4, 10), (5, 6), (6, 4), (7, 3), (8, 1), (9, 1), (10, 1)]\n",
            "Ожидаемые частоты: [0.14285714285714285, 0.12244897959183673, 0.10495626822157435, 0.08996251561849229, 0.0771107276729934, 0.06609490943399433, 0.05665277951485229, 0.048559525298444824, 0.041622450255809844, 0.0356763859335513, 0.21405831560130795]\n",
            "Сумма частот: 1.0\n",
            "Критерий X^2: 47.58057360564692\n",
            "Критическое значение: 21.160767541304686\n",
            "p value= 7.402530604050384e-07\n"
          ]
        }
      ]
    },
    {
      "cell_type": "markdown",
      "source": [
        "$\\mathcal{X^{2}} > \\mathcal{X_{0.05, 10}} \\rightarrow$ гипотеза отвергается\n",
        "\n",
        "Наибольший уровень значимости, при котором еще нет оснований отвергнуть гипотезу - 7.402530604050384e-07"
      ],
      "metadata": {
        "id": "VLatLgLSmUzF"
      }
    },
    {
      "cell_type": "markdown",
      "source": [
        "### h.f) Построить критерий значимости  $\\mathcal{X^{2}}$ проверки сложной гипотезы согласия с геометрическим распределением. Проверить гипотезу по уровню значимости $\\alpha_{1}$.Вычислить наибольшее значение уровня значимости, на котором ещё нет оснований отвергнуть данную гипотезу."
      ],
      "metadata": {
        "id": "tHUrVVA7moMv"
      }
    },
    {
      "cell_type": "markdown",
      "source": [
        "В качестве параметра возьмем оценку ОМП $ \\widehat{λ}= \\overline{X}=3,96 $"
      ],
      "metadata": {
        "id": "GwrY48kBmsch"
      }
    },
    {
      "cell_type": "code",
      "source": [
        "hypothesisTestGeom(lambda_0=3.96, alpha_1=0.02, df=len(variation_series) - 2)"
      ],
      "metadata": {
        "colab": {
          "base_uri": "https://localhost:8080/"
        },
        "id": "6OeZcM0vms_L",
        "outputId": "566c5c41-c01f-4ef9-ffe6-ab31e5e5ae82"
      },
      "execution_count": 19,
      "outputs": [
        {
          "output_type": "stream",
          "name": "stdout",
          "text": [
            "Наблюдаемые частоты: [(0, 1), (1, 1), (2, 11), (3, 11), (4, 10), (5, 6), (6, 4), (7, 3), (8, 1), (9, 1), (10, 1)]\n",
            "Ожидаемые частоты: [0.20161290322580647, 0.16096514047866806, 0.12851249118861402, 0.10260271473929669, 0.08191668354185783, 0.06540122315035422, 0.052215492676492496, 0.041688175604619, 0.03328330149078453, 0.02657295844828765, 0.10522891545521895]\n",
            "Сумма частот: 1.0\n",
            "Критерий X^2: 40.054273731858025\n",
            "Критическое значение: 19.679016094854546\n",
            "p value= 7.428396399444814e-06\n"
          ]
        }
      ]
    },
    {
      "cell_type": "markdown",
      "source": [
        "$\\mathcal{X^{2}} > \\mathcal{X_{0.05, 10}} \\rightarrow$ гипотеза отвергается\n",
        "\n",
        "Наибольший уровень значимости, при котором еще нет оснований отвергнуть гипотезу - 7.428396399444814e-06"
      ],
      "metadata": {
        "id": "IY0Cbt0Om2TO"
      }
    },
    {
      "cell_type": "markdown",
      "source": [
        "###  2. В результате эксперемента получены данные, приведенные в таблице 2"
      ],
      "metadata": {
        "id": "Per8VwrQm-Ov"
      }
    },
    {
      "cell_type": "markdown",
      "source": [
        "### a) Построить вариационный ряд, эмпирическую функцию распределения, гистограмму и полигон частот с шагом һ.\n"
      ],
      "metadata": {
        "id": "Ip84WvhVnB14"
      }
    },
    {
      "cell_type": "code",
      "source": [
        "import matplotlib.pyplot as plt\n",
        "\n",
        "import numpy as np\n",
        "\n",
        "data2 = [5.28, 6.79, 3.82, 5.86, -4.31, 4.86, 4.16, -1.04, 10.95, 3.88, 3.04, -0.31, 6.20, 5.59, 2.12, 1.19, 1.52, 7.79, 2.92, 6.83, 4.34, 4.45, 2.80, 7.22,\n",
        "        7.94, 3.97, 5.75, 6.31, 3.68, 4.86, 3.61, 5.42, -1.13, 6.16, 3.91, 6.14, 3.14, 3.94, 8.71, 4.96, 5.23, 0.76, 6.19, 6.41, 3.69, 1.32, -5.23, -0.76,\n",
        "        3.13, 3.26]\n",
        "\n",
        "\n",
        "print(data2)\n",
        "\n",
        "dataSorted2 = np.sort(data2)\n",
        "\n",
        "min_value = min(data2)\n",
        "max_value = max(data2)\n",
        "\n",
        "value_range = max_value - min_value\n",
        "\n",
        "bins = int(value_range)\n",
        "\n",
        "plt.hist(data, bins=bins, edgecolor='black', density=True)\n",
        "plt.title('Гистограмма частот')\n",
        "plt.xlabel('Значение')\n",
        "plt.ylabel('Частота')\n",
        "plt.show()\n",
        "\n",
        "\n",
        "# Построение эмпирической функции распределения\n",
        "\n",
        "ecdf = np.arange(1, len(dataSorted2) + 1) / len(dataSorted2)\n",
        "\n",
        "# Построение графика\n",
        "plt.step(dataSorted2, ecdf, label='ECDF')\n",
        "plt.xlabel('Значения')\n",
        "plt.ylabel('Эмпирическая функция распределения')\n",
        "plt.title('Эмпирическая функция распределения')\n",
        "plt.legend()\n",
        "\n",
        "# Отображение графика\n",
        "plt.show()\n",
        "\n",
        "\n",
        "# Полигон частот\n",
        "\n",
        "counts, bins = np.histogram(dataSorted2, bins=np.arange(min(dataSorted2), max(dataSorted2) + 2, 1.2))\n",
        "\n",
        "plt.plot(bins[:-1], counts, marker='o', linestyle='-', color='b')\n",
        "plt.title('Полигон частот для выборки с шагом h = 1,2')\n",
        "plt.xlabel('Значение')\n",
        "plt.ylabel('Частота')\n",
        "plt.grid(True)\n",
        "plt.show()\n"
      ],
      "metadata": {
        "colab": {
          "base_uri": "https://localhost:8080/",
          "height": 1000
        },
        "id": "nD0ym5AwnCRZ",
        "outputId": "3ba38bbb-85db-49d2-8e90-1784652e92d6"
      },
      "execution_count": 27,
      "outputs": [
        {
          "output_type": "stream",
          "name": "stdout",
          "text": [
            "[5.28, 6.79, 3.82, 5.86, -4.31, 4.86, 4.16, -1.04, 10.95, 3.88, 3.04, -0.31, 6.2, 5.59, 2.12, 1.19, 1.52, 7.79, 2.92, 6.83, 4.34, 4.45, 2.8, 7.22, 7.94, 3.97, 5.75, 6.31, 3.68, 4.86, 3.61, 5.42, -1.13, 6.16, 3.91, 6.14, 3.14, 3.94, 8.71, 4.96, 5.23, 0.76, 6.19, 6.41, 3.69, 1.32, -5.23, -0.76, 3.13, 3.26]\n"
          ]
        },
        {
          "output_type": "display_data",
          "data": {
            "text/plain": [
              "<Figure size 640x480 with 1 Axes>"
            ],
            "image/png": "[encoded data removed]"
          },
          "metadata": {}
        },
        {
          "output_type": "display_data",
          "data": {
            "text/plain": [
              "<Figure size 640x480 with 1 Axes>"
            ],
            "image/png": "[encoded data removed]"
          },
          "metadata": {}
        },
        {
          "output_type": "display_data",
          "data": {
            "text/plain": [
              "<Figure size 640x480 with 1 Axes>"
            ],
            "image/png": "[encoded data removed]"
          },
          "metadata": {}
        }
      ]
    },
    {
      "cell_type": "markdown",
      "source": [
        "###  b) Вычислить выборочные аналоги следующих числовых характеристик:"
      ],
      "metadata": {
        "id": "K_HCHiQapgWA"
      }
    },
    {
      "cell_type": "markdown",
      "source": [
        "### 1. Математического ожидания\n",
        "### 2. Дисперсии\n",
        "### 3. СКО\n",
        "### 4. Медианы\n",
        "### 5. Асимметрии\n",
        "### 6. Эксцесса\n",
        "### 7. Вероятности $\\mathbb{P}\\left(X\\in[c, d]\\right)$"
      ],
      "metadata": {
        "id": "wk4mIH4Sph92"
      }
    },
    {
      "cell_type": "code",
      "source": [
        "from scipy.stats import skew, kurtosis\n",
        "\n",
        "data2 = [5.28, 6.79, 3.82, 5.86, -4.31, 4.86, 4.16, -1.04, 10.95, 3.88, 3.04, -0.31, 6.20, 5.59, 2.12, 1.19, 1.52, 7.79, 2.92, 6.83, 4.34, 4.45, 2.80, 7.22,\n",
        "        7.94, 3.97, 5.75, 6.31, 3.68, 4.86, 3.61, 5.42, -1.13, 6.16, 3.91, 6.14, 3.14, 3.94, 8.71, 4.96, 5.23, 0.76, 6.19, 6.41, 3.69, 1.32, -5.23, -0.76,\n",
        "        3.13, 3.26]\n",
        "\n",
        "mean_value2 = np.mean(data2)\n",
        "\n",
        "variance_value2 = np.var(data2, ddof=1)\n",
        "\n",
        "std_deviation2 = np.std(data2, ddof=1)\n",
        "\n",
        "median_value2 = np.median(data2)\n",
        "\n",
        "skewness2 = skew(data2)\n",
        "\n",
        "kurtosis_value2 = kurtosis(data2)\n",
        "\n",
        "\n",
        "c = 1.6\n",
        "d = 7\n",
        "\n",
        "P2 = len([x for x in data2 if(c <= x <= d)]) / len(data2)\n",
        "\n",
        "print(\"1. Математическое ожидание:\", mean_value2)\n",
        "print(\"2. Дисперсия:\", variance_value2)\n",
        "print(\"3. Стандартное отклонение (СКО):\", std_deviation2)\n",
        "print(\"4. Медиана:\", median_value2)\n",
        "print(\"5. Асимметрия:\", skewness2)\n",
        "print(\"6. Эксцесс:\", kurtosis_value2)\n",
        "print(\"7. Вероятность попадания элемента выборки в промежуток [c, d]:\", P2)"
      ],
      "metadata": {
        "colab": {
          "base_uri": "https://localhost:8080/"
        },
        "id": "GLCm2DkGpknL",
        "outputId": "3832053b-46cf-4477-ce5d-55de1ad50341"
      },
      "execution_count": 96,
      "outputs": [
        {
          "output_type": "stream",
          "name": "stdout",
          "text": [
            "1. Математическое ожидание: 3.9463999999999997\n",
            "2. Дисперсия: 9.424982693877551\n",
            "3. Стандартное отклонение (СКО): 3.0700134680286912\n",
            "4. Медиана: 4.065\n",
            "5. Асимметрия: -0.7937466901695267\n",
            "6. Эксцесс: 1.2083305717574149\n",
            "7. Вероятность попадания элемента выборки в промежуток [c, d]: 0.7\n"
          ]
        }
      ]
    },
    {
      "cell_type": "markdown",
      "source": [
        "### c) В предположении, что исходные наблюдения являются выборкой из нормального распределения, построить оценку максимального правдоподобия параметров $\\left(a,\\sigma^2\\right)$ и соответствующие оценки по методу моментов. Найти смещение оценок."
      ],
      "metadata": {
        "id": "U-29206aqBPq"
      }
    },
    {
      "cell_type": "markdown",
      "source": [
        "$\\begin{split}\n",
        "&ОМП:\\\\\n",
        "& P_\\theta(x)=\\frac{1}{\\sqrt{2 \\pi \\sigma}} \\exp \\left(-\\frac{(x-a)^2}{2 \\sigma^2}\\right) \\\\\n",
        "& \\begin{split}\n",
        "& L(\\vec{X}, \\theta)= \\prod_{i=1}^n \\frac{1}{\\sqrt{2 \\pi \\sigma^2}} \\exp \\left(-\\frac{(x-a)^2}{2 \\sigma^2}\\right)=(2 \\pi)^{-\\frac{n}{2}} \\sigma^{-n} \\exp \\left(-\\frac{1}{2 \\sigma^2} \\sum_{i=1}^n\\left(x_i-a\\right)^2\\right) \\\\\n",
        "& L L(\\vec{X}, \\theta)=-\\frac{n}{2} \\ln (2 \\pi)-n \\ln (\\sigma)-\\frac{1}{2 \\sigma^2} \\sum_{i=1}^n\\left(x_i-a\\right)^2 \\\\\n",
        "& \\frac{\\partial L L}{\\partial a}=- \\frac{1}{\\sigma^2}\\left(\\sum_{i=1}^n x_i-n a\\right)=0 \\\\\n",
        "& \\sum_{i=1}^n x_i-n a=0 \\\\\n",
        "& a=\\sum_{i=1}^n x_i \\Rightarrow \\hat{\\theta}=\\hat{a}=\\bar{x} \\\\\n",
        "& \\frac{\\partial L L}{\\partial \\sigma}=-\\frac{n}{\\sigma}+\\frac{1}{\\sigma^3} \\sum_{i=1}^n\\left(x_i-a\\right)^2=0 \\\\\n",
        "& \\sigma^2=\\frac{1}{n} \\sum_{i=1}^n\\left(x_i-a\\right)^2 \\\\\n",
        "& \\hat{\\theta}= \\widehat{\\sigma}^2=S^2\n",
        "\\end{split}\n",
        "\\end{split}\n",
        "$"
      ],
      "metadata": {
        "id": "lGnSa_QuqDIB"
      }
    },
    {
      "cell_type": "markdown",
      "source": [
        "$\\begin{split}\n",
        "&ОММ:\\\\\n",
        "  & \\hat{\\theta}=\\left(\\hat{a}, \\widehat{\\sigma^2}\\right)=\\left(\\bar{X}, S^2\\right) \\\\\n",
        "  & \\mathbb{E} X_1=a \\quad M_1=\\bar{x} \\\\\n",
        "  & \\mathbb{E} X_2=a^2+\\sigma^2 \\quad M_2=\\frac{1}{n} \\sum_{i=1}^n x_i^2=\\overline{x^2} \\\\\n",
        "  & D X_1=\\sigma^2=\\mathbb{E} X_1^2-\\left(\\mathbb{E} X_1^2\\right) \\\\\n",
        "  & \\left\\{\\begin{array} { l }\n",
        "  { \\mathbb { E } X _ { 1 } = M _ { 1 } } \\\\\n",
        "  { \\mathbb { E } X _ { 1 } ^ { 2 } = M _ { 2 } }\n",
        "  \\end{array} \\Rightarrow \\left\\{\\begin{array}{l}\n",
        "  a=\\bar{X} \\\\\n",
        "  a^2+\\sigma^2=\\bar{x}^2\n",
        "  \\end{array} \\quad \\Rightarrow \\quad \\tilde{a}=\\bar{X}\\right.\\right. \\\\\n",
        "  & \\tilde{\\theta}=\\left(\\tilde{a}, \\tilde{\\sigma}^2\\right)=\\left(\\overline{X^2},S^2\\right).\n",
        "\\end{split}$\n",
        "\n",
        "Находим смещение каждой оценки\n",
        "\n",
        "$\\begin{split}\n",
        "\\mathbb{E}_\\theta \\bar{X}=\\mathbb{E}_\\theta\\left(\\frac{1}{n} \\sum_{i=1}^n x_i\\right)=\\frac{1}{n} \\sum_{i=1}^n \\mathbb{E}_\\theta x_1=a\n",
        "\\end{split}$\n",
        "\n",
        "Выборочное среднее несмещенная оценка, $\\hat{a}=\\overline{X} - НРМД\\ оценка\\\\\n",
        "$\n",
        "\\begin{split}\n",
        "& \\mathbb{E}_\\theta S^2=\\mathbb{E}\\left(\\frac{1}{n} \\sum_{i=1}^n\\left(x_i-\\bar{x}\\right)^2\\right)=\\left[\\begin{array}{ll}\n",
        "Y_i=X_i-\\mathbb{E}_{x_i} ; & \\mathbb{E}_\\theta Y_i=0 \\\\\n",
        "\\mathbb{D}_\\theta Y_i=\\sigma^2\n",
        "\\end{array}\\right]= \\\\\n",
        "& =\\mathbb{E}_\\theta\\left(\\bar{Y}^2-(\\bar{Y})^2\\right)=\\mathbb{E}_\\theta \\bar{Y}^2-\\mathbb{E}_\\theta\\left(\\overline{Y^2}\\right) \\\\\n",
        "& \\mathbb{E}_\\theta \\overline{Y^2}=\\mathbb{E}_\\theta\\left(\\frac{1}{n} \\sum_{i=1}^n Y_i^2\\right)=\\frac{1}{n} \\sum \\mathbb{E}_i^2=\\frac{1}{n} \\sum_{i=1}^n \\sigma^2=\\sigma^2 \\\\\n",
        "& \\mathbb{E}_\\theta(\\bar{Y})^2=\\mathbb{E}_\\theta\\left(\\frac{1}{n} \\sum_{i=1}^n Y_i\\right)^2=\\frac{1}{n^2} \\mathbb{E}_\\theta\\left(\\sum_{i=1}^n \\sum_{j=1}^n Y_i Y_j\\right)=\\frac{1}{n^2} \\sum_{i=1}^n \\sum_{j=1}^n \\mathbb{E}_\\theta Y_i Y_j \\\\\n",
        "& \\mathbb{E}_\\theta Y_i Y_i=\\left\\{\\begin{array}{l}\n",
        "i=j ; \\quad \\mathbb{E}_\\theta Y_i^2=\\sigma^2 \\\\\n",
        "i \\neq j ; \\quad \\mathbb{E}_\\theta Y_i \\mathbb{E}_\\theta Y_i=0\n",
        "\\end{array}\\right.\n",
        "\\end{split}\n",
        "$\n",
        "\\frac{1}{n^2}\\left(n \\sigma^2\\right)=\\frac{\\sigma^2}{n}=\\mathbb{E}_\\theta(\\bar{Y})^2$ смещенная оценка\n",
        "\n",
        "$\\mathbb{E}_\\theta S^2=\\sigma^2-\\frac{\\sigma^2}{n}=\\frac{(n-1)}{n} \\sigma^2$ смещенная оценка\n",
        "$\n",
        "\\left(S^{\\prime 2}\\right)=\\frac{n}{n-1} S^2 ; \\quad \\mathbb{E}_\\theta\\left(S^{\\prime}\\right)^2=\\mathbb{E}_0\\left(\\frac{n}{n-1} S^2\\right)=\\frac{n}{n-1} \\sigma^2=\\sigma^2\n",
        "$\n",
        "$\\left(S^{\\prime}\\right)^2=\\frac{1}{n-1} \\sum_{i=1}^n\\left(X_i-\\bar{X}\\right)^2$ НРМД оценка"
      ],
      "metadata": {
        "id": "s4GmxeimqFOk"
      }
    },
    {
      "cell_type": "markdown",
      "source": [
        "### d) Построить доверительные интервалы уровня значимости $\\alpha_2$ для параметров $(a,\\sigma^{2})$."
      ],
      "metadata": {
        "id": "TzXmEkVwqOzI"
      }
    },
    {
      "cell_type": "markdown",
      "source": [
        "1. Для параметра $a$:\n",
        "\n",
        "$G(\\overrightarrow{X},a)=\\sqrt{n-1}\\frac{\\overline{X}-a}{S} \\sim S_{n-1}$\n",
        "\n",
        "$\\mathbb{P}_{\\theta}\\left(\\sqrt{n-1}\\frac{\\overline{X}-a}{S} \\in [x_{1\\alpha},x_{2\\alpha}]\\right)=1-\\alpha=0.95$\n",
        "\n",
        "$x_{\\alpha}: S_{n-1}(x_{\\alpha})=1-\\frac{\\alpha}{2}$\n",
        "\n",
        "$\\mathbb{P}_{\\theta}\\left(-x_{\\alpha} \\leq \\sqrt{n-1}\\frac{\\overline{X}-a}{S} \\leq x_{\\alpha}\\right)=1-\\alpha=0.95$\n",
        "\n",
        "$\\mathbb{P}_{\\theta}\\left(\\overline{X}-\\frac{x_{\\alpha}S}{\\sqrt{n-1}} \\leq a \\leq \\overline{X}+\\frac{x_{\\alpha}S}{\\sqrt{n-1}}\\right)$\n",
        "\n",
        "$\\left[\\overline{X}-\\frac{x_{\\alpha}S}{\\sqrt{n-1}}; \\overline{X}+\\frac{x_{\\alpha}S}{\\sqrt{n-1}}\\right] \\ni a$\n",
        "\n"
      ],
      "metadata": {
        "id": "Olu-I59qqRJB"
      }
    },
    {
      "cell_type": "code",
      "source": [
        "X_alpha = stats.norm.ppf(0.95)\n",
        "\n",
        "print(f'X_{0.05} = {X_alpha:.2f}')"
      ],
      "metadata": {
        "colab": {
          "base_uri": "https://localhost:8080/"
        },
        "id": "7KzNySqFrPoc",
        "outputId": "0da0c6e8-7e80-4d67-a6ad-c0ae64b52bcd"
      },
      "execution_count": 30,
      "outputs": [
        {
          "output_type": "stream",
          "name": "stdout",
          "text": [
            "X_0.05 = 1.64\n"
          ]
        }
      ]
    },
    {
      "cell_type": "markdown",
      "source": [
        "Подставим значения:\n",
        "\n",
        "$\\left[3.95-\\frac{1.64\\cdot\\sqrt{9.42}}{\\sqrt{49}}; 3.95+\\frac{1.64\\cdot\\sqrt{9.42}}{\\sqrt{49}}\\right] \\implies [3.23\\ ;\\ 4.67] \\ni a$\n",
        "\n",
        "2. Теперь для параметра $\\sigma^{2}$:\n",
        "\n",
        "$G(\\overrightarrow{X},\\sigma^{2})=\\frac{nS^{2}}{\\sigma^{2}} \\sim \\chi_{n-1}^{2}$\n",
        "\n",
        "$\\mathbb{P}_{\\theta}\\left(\\frac{nS^{2}}{\\sigma^{2}} \\in [x_{1\\alpha},x_{2\\alpha}]\\right)=1-\\alpha=K_{n-1}(x_{2\\alpha})-K_{n-1}(x_{1\\alpha})=1-\\frac{\\alpha}{2}-\\frac{\\alpha}{2}=1-\\alpha$\n",
        "\n",
        "$\\begin{equation*} \\begin{cases}\n",
        "x_{1\\alpha}: K_{n-1}(x_{1\\alpha})=\\frac{\\alpha}{2} \\\\\n",
        "x_{2\\alpha}: K_{n-1}(x_{2\\alpha})=1-\\frac{\\alpha}{2}\n",
        "\\end{cases} \\end{equation*}$\n",
        "\n",
        "$\\mathbb{P}_{\\theta}\\left(x_{1\\alpha} \\leq \\frac{nS^{2}}{\\sigma^{2}} \\leq x_{2\\alpha}\\right)=1-\\alpha$\n",
        "\n",
        "$\\mathbb{P}_{\\theta}\\left(\\frac{nS^{2}}{x_{2\\alpha}} \\leq \\sigma^{2} \\leq \\frac{nS^{2}}{x_{1\\alpha}}\\right)$\n",
        "\n",
        "$\\left[\\frac{nS^{2}}{x_{2\\alpha}}; \\frac{nS^{2}}{x_{1\\alpha}}\\right] \\ni \\sigma^{2}$\n",
        "\n",
        "Подставим значения и посчитаем:\n",
        "\n",
        "$\\left[\\frac{50\\cdot9.42}{70.22};\\frac{50\\cdot9.42}{31.55}\\right] \\rightarrow [6.707\\ ;\\ 14.93] \\ni \\sigma^{2}$"
      ],
      "metadata": {
        "id": "6eKSVWGtroqQ"
      }
    },
    {
      "cell_type": "markdown",
      "source": [
        "###  e) С использованием теоремы Колмогорова построить критерий значимости проверки простой гипотезы согласия с нормальным распределением с параметрами $(a_{0},\\sigma_{0}^{2})$. Проверить гипотезу на уровне значимости $\\alpha_{2}$. Вычислить наибольшее значение уровня значимости, на котором еще нет оснований отвергнуть данную гипотезу."
      ],
      "metadata": {
        "id": "VryqBel-s-OG"
      }
    },
    {
      "cell_type": "code",
      "source": [
        "import scipy.stats as sp\n",
        "\n",
        "data2 = [5.28, 6.79, 3.82, 5.86, -4.31, 4.86, 4.16, -1.04, 10.95, 3.88, 3.04, -0.31, 6.20, 5.59, 2.12, 1.19, 1.52, 7.79, 2.92, 6.83, 4.34, 4.45, 2.80, 7.22,\n",
        "        7.94, 3.97, 5.75, 6.31, 3.68, 4.86, 3.61, 5.42, -1.13, 6.16, 3.91, 6.14, 3.14, 3.94, 8.71, 4.96, 5.23, 0.76, 6.19, 6.41, 3.69, 1.32, -5.23, -0.76,\n",
        "        3.13, 3.26]\n",
        "\n",
        "alpha_2 = 0.05\n",
        "a0 = -1.0\n",
        "sigma0 = 5.0\n",
        "sp.kstest(data2, 'norm', args=(a0, sigma0))"
      ],
      "metadata": {
        "colab": {
          "base_uri": "https://localhost:8080/"
        },
        "id": "aieTFuBYs_Du",
        "outputId": "1ee7adc4-020c-4eda-d014-7f546385e1fe"
      },
      "execution_count": 33,
      "outputs": [
        {
          "output_type": "execute_result",
          "data": {
            "text/plain": [
              "KstestResult(statistic=0.5563727075624006, pvalue=4.282215442363601e-15, statistic_location=2.8, statistic_sign=-1)"
            ]
          },
          "metadata": {},
          "execution_count": 33
        }
      ]
    },
    {
      "cell_type": "markdown",
      "source": [
        "Функция kstest позволяет выполнить выполнить тест Колмогорова-Смирнова для проверки того, является ли распределение нормальным.\n",
        "Т.к. значене p-value < $\\alpha_2$, то делаем вывод о отвержении гипотезы.\n",
        "Гипотеза не будет отвергнута при наибольшем уровне доверии - значение p-value, то есть на 4.282215442363601e-15."
      ],
      "metadata": {
        "id": "qQ2F6UJ6tEDq"
      }
    },
    {
      "cell_type": "markdown",
      "source": [
        "### f) Используя гистограмму частот, построить критерий значимости $\\mathcal{X^{2}}$ проверки простой гипотезы согласия с нормальным распределением с параметрами $(a_{0},\\sigma_{0}^{2})$. Проверить гипотезу на уровне значимости $\\alpha_{2}$. Вычислить наибольшее значение уровня значимости, на котором ещё нет оснований отвергнуть данную гипотезу.\n",
        "$P_{i}=P_{H_{0}}=(X\\in I_{i})=\\sum_{k\\in I_{i}}\\frac{1}{\\sqrt{2\\pi}\\sigma}\\cdot exp\\left(-\\frac{(x-a)^{2}}{2\\sigma^{2}}\\right)$"
      ],
      "metadata": {
        "id": "I2BZRa7uvM4t"
      }
    },
    {
      "cell_type": "code",
      "source": [
        "import scipy.stats as sps\n",
        "import numpy as np\n",
        "\n",
        "\n",
        "data2 = [5.28, 6.79, 3.82, 5.86, -4.31, 4.86, 4.16, -1.04, 10.95, 3.88, 3.04, -0.31, 6.20, 5.59, 2.12, 1.19, 1.52, 7.79, 2.92, 6.83, 4.34, 4.45, 2.80, 7.22,\n",
        "        7.94, 3.97, 5.75, 6.31, 3.68, 4.86, 3.61, 5.42, -1.13, 6.16, 3.91, 6.14, 3.14, 3.94, 8.71, 4.96, 5.23, 0.76, 6.19, 6.41, 3.69, 1.32, -5.23, -0.76,\n",
        "        3.13, 3.26]\n",
        "\n",
        "sorted_data2 = np.sort(data2)\n",
        "\n",
        "\n",
        "\n",
        "\n",
        "h = 5\n",
        "\n",
        "def hypothesisTestChi(sigma0, alpha_2, df):\n",
        "\n",
        "    # Интервалы (правый край включен)\n",
        "    bins = np.arange(min(sorted_data2), max(sorted_data2) + h  , h)\n",
        "    intervals = [(start, end) for start, end in zip(bins[:-1], bins[1:])]\n",
        "    intervals.pop()\n",
        "    # intervals.append((1.2, np.inf))\n",
        "    print(f\"Интервалы {intervals}\")\n",
        "\n",
        "    # Гистограмма частот\n",
        "    hist = np.histogram(sorted_data2, bins=bins)[0]\n",
        "    print(f\"Частоты {hist}\")\n",
        "\n",
        "    #Ожидаемые вероятности\n",
        "    expected_freq = [stats.chi2.cdf(intervals[i][1], df=1, scale=sigma0) - stats.chi2.cdf(intervals[i][0], df=1, scale=sigma0) for i in range(len(intervals) )]\n",
        "\n",
        "    expected_freq.append(1 - sum(expected_freq))\n",
        "    print(f\"Ожидаемые вероятности {expected_freq}\")\n",
        "    print(f\"Сумма вероятностей {sum(expected_freq)}\")\n",
        "\n",
        "\n",
        "    #Вычисление критерия chi^2\n",
        "    chi = 0\n",
        "    for i in range(len(intervals)):\n",
        "        if (len(data)*expected_freq[i]):\n",
        "            chi += ((bins[i] - len(data)*expected_freq[i])**2) / (len(data)*expected_freq[i])\n",
        "\n",
        "    x_alpha = stats.chi2.ppf(1 - alpha_2, df)\n",
        "\n",
        "    print(f\"Критерий X^2: {chi}\")\n",
        "    print(f\"Критическое значение: {x_alpha}\")\n",
        "\n",
        "\n",
        "    print(f\"p value= {1 - stats.chi2.cdf(chi, df)}\")\n",
        "\n",
        "\n",
        "hypothesisTestChi(sigma0=3, alpha_2=0.05, df= 3 - 1)\n"
      ],
      "metadata": {
        "colab": {
          "base_uri": "https://localhost:8080/"
        },
        "id": "lvwVkwztvTmc",
        "outputId": "48df7764-a488-4688-a5ac-9bf9bedc8f55"
      },
      "execution_count": 70,
      "outputs": [
        {
          "output_type": "stream",
          "name": "stdout",
          "text": [
            "Интервалы [(-5.23, -0.23000000000000043), (-0.23000000000000043, 4.77), (4.77, 9.77)]\n",
            "Частоты [ 6 22 21  1]\n",
            "Ожидаемые вероятности [0.0, 0.7926738661807524, 0.13619254560829852, 0.07113358821094906]\n",
            "Сумма вероятностей 1.0\n",
            "Критерий X^2: 40.705939506536076\n",
            "Критическое значение: 5.991464547107979\n",
            "p value= 1.448163367001598e-09\n"
          ]
        }
      ]
    },
    {
      "cell_type": "markdown",
      "source": [
        "$\\mathcal{X^{2}} > \\mathcal{X_{0.05, 2}} \\rightarrow$ гипотеза отвергается\n",
        "\n",
        "Наибольший уровень значимости, при котором еще нет оснований отвергнуть гипотезу 1.448163367001598e-09"
      ],
      "metadata": {
        "id": "WC2BI7iA0qZj"
      }
    },
    {
      "cell_type": "markdown",
      "source": [
        "### g) Построить критерий значимости  $\\mathcal{X^{2}}$ проверки сложной гипотезы согласия с нормальным распределением. Проверить гипотезу по уровню значимости $\\alpha_{2}$. Вычислить наибольшее значение уровня значимости, на котором ещё нет оснований отвергнуть данную гипотезу.\n"
      ],
      "metadata": {
        "id": "Hqy3zisT1dmY"
      }
    },
    {
      "cell_type": "code",
      "source": [
        "hypothesisTestChi(sigma0=9.42, alpha_2=0.05, df=3 - 1 - 1)"
      ],
      "metadata": {
        "colab": {
          "base_uri": "https://localhost:8080/"
        },
        "id": "2vTj3wMl1hnH",
        "outputId": "3fbfa543-f452-4cc6-9ce2-45b8bf8ebe3a"
      },
      "execution_count": 71,
      "outputs": [
        {
          "output_type": "stream",
          "name": "stdout",
          "text": [
            "Интервалы [(-5.23, -0.23000000000000043), (-0.23000000000000043, 4.77), (4.77, 9.77)]\n",
            "Частоты [ 6 22 21  1]\n",
            "Ожидаемые вероятности [0.0, 0.5232852588170972, 0.16823067073375486, 0.30848407044914794]\n",
            "Сумма вероятностей 1.0\n",
            "Критерий X^2: 28.202782866010182\n",
            "Критическое значение: 3.841458820694124\n",
            "p value= 1.0924738280682078e-07\n"
          ]
        }
      ]
    },
    {
      "cell_type": "markdown",
      "source": [
        "$\\mathcal{X^{2}} > \\mathcal{X_{0.05, 1}} \\rightarrow$ гипотеза отвергается\n",
        "\n",
        "Наибольший уровень значимости, при котором еще нет оснований отвергнуть гипотезу 1.0924738280682078e-07"
      ],
      "metadata": {
        "id": "iMjmzsol13pB"
      }
    },
    {
      "cell_type": "markdown",
      "source": [
        "###  h) Построить наиболее мощный критерий проверки простой гипотезы о нормальности с параметром $(a,\\sigma^{2})=(a_{0},\\sigma_{0}^{2})$ при альтернативе нормальности с параметром $(a,\\sigma^{2})=(a_{1},\\sigma_{1}^{2})$. Проверить гипотезу на уровне значимости $\\alpha_2$. Что получится, если поменять местами основную и альтернативную гипотезы?"
      ],
      "metadata": {
        "id": "xADLYsyl2K4o"
      }
    },
    {
      "cell_type": "markdown",
      "source": [
        "$\\alpha_2 = 0.05$ \\\\\n",
        "$\\mathcal{a}_0 = 14$ \\\\\n",
        "$\\mathcal{a}_1 = 4$ \\\\\n",
        "$\\sigma = \\sigma_0 = \\sigma_1 = 3$ \\\\\n",
        "\n",
        "Рассмотрим две гипотезы: \\\n",
        "$$\\begin{split}\n",
        "  & H_0: F(x)\\in N(a_0,\\sigma^2); - основная \\\\\n",
        "\\end{split}$$\n",
        "\n",
        "\n",
        "Функция правдоподобия \\\\\n",
        "$L(\\bar X,a)=(\\cfrac{1}{\\sqrt{2\\pi\\sigma^2}})^n\\cdot exp\\Biggl(-\\cfrac{1}{2\\sigma^2}\\sum_{i=1}^n(x_{(i)}-a)^2\\Biggr)$\n",
        "$LR(\\bar X)=\\cfrac{L(\\bar X,a_1)}{L(\\bar X,a_0)}=exp\\Biggl(\\cfrac{a_1-a_0}{\\sigma^2}(\\sum_{i=1}^n x_{(i)}-n\\cfrac{a_0+a_1}{2})\\Biggr)>c^{*}$ - $H_0$ принимается  \n",
        "$\\cfrac{a_1-a_0}{\\sigma^2}(\\sum_{i=1}^n x_{(i)}-n\\cfrac{a_0+a_1}{2})>\\ln c^{*}$  \n",
        "$\\sum_{i=1}^n x_{(i)}<\\cfrac{\\sigma^2}{a_1-a_0}+n\\cfrac{a_0+a_1}{2}=c^{*}$  \n",
        "$T(X_n)=\\sum_{i=1}^n x_{(i)}<c^{*}$  \n",
        "$\\alpha=P(T(X_n)<c^{*}|H_0)=1-\\Phi(c^{*};na_0,n\\sigma^2)=1-\\Phi\\Biggl(\\cfrac{c^{*}-na+0}{\\sqrt{n\\sigma^2}}\\Biggr) = 0.1$  \n",
        "$c^{*}=na_0+\\sqrt{n\\sigma^2}\\Phi^{-1}(1-\\alpha)$\n",
        "\n",
        "$$\\begin{split}\n",
        "  H_A:F(x)\\in N(a_1,\\sigma^2) - альтернативная \\\n",
        "\\end{split}$$\n",
        "\n",
        "Функция правдоподобия \\\\\n",
        "$L(\\bar X,a)=(\\cfrac{1}{\\sqrt{2\\pi\\sigma^2}})^n\\cdot exp\\Biggl(-\\cfrac{1}{2\\sigma^2}\\sum_{i=1}^n(x_{(i)}-a)^2\\Biggr)$\n",
        "$LR(\\bar X)=\\cfrac{L(\\bar X,a_1)}{L(\\bar X,a_0)}=exp\\Biggl(\\cfrac{a_1-a_0}{\\sigma^2}(\\sum_{i=1}^n x_{(i)}-n\\cfrac{a_0+a_1}{2})\\Biggr)<c$ - $H_A$ принимается  \n",
        "$\\cfrac{a_1-a_0}{\\sigma^2}(\\sum_{i=1}^n x_{(i)}-n\\cfrac{a_0+a_1}{2})<\\ln c$  \n",
        "$\\sum_{i=1}^n x_{(i)}<\\cfrac{\\sigma^2}{a_1-a_0}+n\\cfrac{a_0+a_1}{2}=c^{*}$  \n",
        "$T(X_n)=\\sum_{i=1}^n x_{(i)}>c^{*}$  \n",
        "$\\alpha=P(T(X_n)<c^{*}|H_A)=1-\\Phi(c^{*};na_0,n\\sigma^2)=1-\\Phi\\Biggl(\\cfrac{c^{*}-na+0}{\\sqrt{n\\sigma^2}}\\Biggr) = 0.1$  \n",
        "$c^{*}=na_0+\\sqrt{n\\sigma^2}\\Phi^{-1}(1-\\alpha)$\n",
        "\n",
        "Если поменять местами основную и альтернативную гипотезы, то вместо статистики отношения правдоподобия мы будем рассчитывать ее обратное значение. То есть, рассчитаем $LR(\\overrightarrow{X}, a_{1}, a_{0})$ и сравним его с критическим значением. В данном случае, так как $LR(\\overrightarrow{X}, a_{1}, a_{0})=1.0 < c = 2.28$, мы отвергаем гипотезу $H_{A}$"
      ],
      "metadata": {
        "id": "2K0UOkxn2M8d"
      }
    },
    {
      "cell_type": "code",
      "source": [
        "import numpy as np\n",
        "import math\n",
        "\n",
        "data2 = [5.28, 6.79, 3.82, 5.86, -4.31, 4.86, 4.16, -1.04, 10.95, 3.88, 3.04, -0.31, 6.20, 5.59, 2.12, 1.19, 1.52, 7.79, 2.92, 6.83, 4.34, 4.45, 2.80, 7.22,\n",
        "        7.94, 3.97, 5.75, 6.31, 3.68, 4.86, 3.61, 5.42, -1.13, 6.16, 3.91, 6.14, 3.14, 3.94, 8.71, 4.96, 5.23, 0.76, 6.19, 6.41, 3.69, 1.32, -5.23, -0.76,\n",
        "        3.13, 3.26]\n",
        "\n",
        "sorted_data2 = np.sort(data2)\n",
        "\n",
        "Summ = np.sum(data2)\n",
        "print('Summ =', Summ)\n",
        "\n",
        "n = 50\n",
        "a0 = 14\n",
        "s0 = 3\n",
        "s1 = 3\n",
        "a1 = 4\n",
        "\n",
        "## H_0\n",
        "\n",
        "print('\\n\\n# H_0\\n')\n",
        "\n",
        "c = norm.ppf(0.90, loc=a0, scale=s0)\n",
        "c_1 = norm.ppf(0.90, loc=a1, scale=s1)\n",
        "\n",
        "print('c =', c)\n",
        "F__0_9 = 0.8159\n",
        "с_star = n * a0 + (n * s0**2)**0.5 * F__0_9\n",
        "print('c* =', с_star)\n",
        "\n",
        "LR = math.exp( (a1 - a0)/(s0**2) * (Summ - n*(a0 + a1)/2) )\n",
        "print('LR =', LR)\n",
        "\n",
        "## H_1\n",
        "\n",
        "a0 = 4\n",
        "s0 = 3\n",
        "s1 = 3\n",
        "a1 = 14\n",
        "\n",
        "print('\\n\\n H_1\\n')\n",
        "print('c_1 =', c_1)\n",
        "F__0_9 = 0.8159\n",
        "с_star = n * a0 + (n * s0**2)**0.5 * F__0_9\n",
        "print('c* =', с_star)\n",
        "\n",
        "LR = math.exp( (a1 - a0)/(s0**2) * (Summ - n*(a0 + a1)/2) )\n",
        "print('LR =', LR)\n"
      ],
      "metadata": {
        "colab": {
          "base_uri": "https://localhost:8080/"
        },
        "id": "p_BPSA9i21EZ",
        "outputId": "b6328aeb-87fc-41d2-96cc-123ae16e71df"
      },
      "execution_count": 73,
      "outputs": [
        {
          "output_type": "stream",
          "name": "stdout",
          "text": [
            "Summ = 197.32\n",
            "\n",
            "\n",
            "# H_0\n",
            "\n",
            "c = 17.8446546966338\n",
            "c* = 717.3078526831031\n",
            "LR = 8.522922541077061e+121\n",
            "\n",
            "\n",
            " H_1\n",
            "\n",
            "c_1 = 7.8446546966338015\n",
            "c* = 217.30785268310314\n",
            "LR = 1.1733064511385643e-122\n"
          ]
        }
      ]
    },
    {
      "cell_type": "markdown",
      "source": [
        "### i) В пунктах (c)-(h) заменить семейство нормальных распределений на двухпараметрическое семейство распределений Лапласа с плотностями $p_{a,\\sigma}(x)=\\frac{1}{\\sqrt{2}\\sigma}exp\\left(-\\frac{\\sqrt{2}}{\\sigma}|x-a|\\right)$.\n"
      ],
      "metadata": {
        "id": "Or_wL3-g3vfI"
      }
    },
    {
      "cell_type": "markdown",
      "source": [
        "### i.c) В предположении, что исходные наблюдения являются выборкой из двухпараметрического распределения Лапласа, построить ОМП и ОММ параметров $(a,\\sigma^{2})$. Найти смещение оценки."
      ],
      "metadata": {
        "id": "f78zrrAs3xzn"
      }
    },
    {
      "cell_type": "markdown",
      "source": [
        "Расчёт ОМП\\\n",
        "$L(\\vec{X}, \\theta) = \\displaystyle \\prod_{i=1}^{n} \\frac{1}{\\sigma \\sqrt{2}} e^{(-\\frac{\\sqrt{2}}{\\sigma} |x-a|)} = (2 \\sigma^2)^{-\\frac{n}{2}} e^{(-\\frac{\\sqrt{2}}{\\sigma} \\displaystyle \\sum_{i=1}^{n} |x_i-a|)} $\n",
        "\n",
        "$LL(\\vec{X}, \\theta) = \\displaystyle -\\frac{n}{2} ln(2) - nln(\\sigma) -\\frac{\\sqrt{2}}{\\sigma} \\sum_{i=1}^{n} |x_i-a|$\n",
        "\n",
        "$ \\cfrac{\\partial LL(\\vec{X}, \\theta)}{\\partial a} = \\displaystyle  -\\frac{\\sqrt{2}}{\\sigma} \\sum_{i=1}^{n} sign(X_{(i)} - a) = 0$\n",
        "\n",
        "$ \\widehat{a} = z_{n, 0.5} = 4.065 $\n",
        "\n",
        "$ \\cfrac{ \\partial LL(\\vec{X}, \\theta)}{ \\partial \\sigma} = -\\frac{n}{\\sigma} + \\frac{\\sqrt{2}}{\\sigma^2} \\displaystyle \\sum_{i=1}^{n} |x_i-a| = 0$\n",
        "\n",
        "\n"
      ],
      "metadata": {
        "id": "TtTkXD7V3ziE"
      }
    },
    {
      "cell_type": "code",
      "source": [
        "import scipy.stats as sps\n",
        "import numpy as np\n",
        "import math\n",
        "\n",
        "n=50\n",
        "data2 = [5.28, 6.79, 3.82, 5.86, -4.31, 4.86, 4.16, -1.04, 10.95, 3.88, 3.04, -0.31, 6.20, 5.59, 2.12, 1.19, 1.52, 7.79, 2.92, 6.83, 4.34, 4.45, 2.80, 7.22,\n",
        "        7.94, 3.97, 5.75, 6.31, 3.68, 4.86, 3.61, 5.42, -1.13, 6.16, 3.91, 6.14, 3.14, 3.94, 8.71, 4.96, 5.23, 0.76, 6.19, 6.41, 3.69, 1.32, -5.23, -0.76,\n",
        "        3.13, 3.26]\n",
        "z_n = 4.065\n",
        "\n",
        "def SummDifference():\n",
        "  sum = 0\n",
        "  for i in range(n):\n",
        "    sum += abs(data2[i] - z_n)\n",
        "  return sum\n",
        "\n",
        "def result():\n",
        "  return (2**0.5 * ((SummDifference())/n))\n",
        "\n",
        "res = result()\n",
        "\n",
        "print('sigma_kolpak', res)"
      ],
      "metadata": {
        "colab": {
          "base_uri": "https://localhost:8080/"
        },
        "id": "TRadJlUv6APT",
        "outputId": "c5592418-19a0-4110-ce3b-330dc8ae770e"
      },
      "execution_count": 74,
      "outputs": [
        {
          "output_type": "stream",
          "name": "stdout",
          "text": [
            "sigma_kolpak 3.1531305586670535\n"
          ]
        }
      ]
    },
    {
      "cell_type": "markdown",
      "source": [
        "$\\widehat \\sigma = \\sqrt{2} \\cfrac{\\sum_{i=1}^{n} |x_i- z_{n, 0.5}|}{n} = 3.15$\n",
        "\n",
        "\n",
        "Расчёт ОММ для параметров а и $\\sigma^2$:   \n",
        "\n",
        "Теоретический момент первого порядка распределения: $\\mathbb{E}(X_1)=a$   \n",
        "\n",
        "Эмпирический момент первого порядка: $M_1=\\bar{x}=Z_{n,1/2}$  \n",
        "\n",
        "Теоретический момент второго порядка распределения: $\\mathbb{E}(X_2)=\\sigma^2$\n",
        "\n",
        "Эмпирический момент второго порядка: $M_2=\\bar {x^2}-\\bar x^2=\\cfrac{1}{n^2}\\sum_{i=1}^n|x_i-a|^2$  \n",
        "\n",
        "$\\widehat a=Z_{n,1/2}=4.065$    \n",
        "\n",
        "$\\widehat\\sigma^2=(\\cfrac{1}{n}\\sum_{i=1}^n|x_{(i)}-Z_{n,1/2}|)^2=3.15$     \n",
        "\n",
        "$T=(\\sum_{i=1}^nx_i)$ - МДС и ПДС, так как распределение из семейства Лапласа относится к экспоненциальному семейству.  \n",
        "\n",
        "$\\mathbb{E}_\\theta(Z_{n,1/2})= a = 4.065$ - НРМД    \n",
        "\n",
        "$\\mathbb{E}_\\theta(\\cfrac{1}{n}\\sum_{i=1}^n|x_{(i)}-Z_{n,1/2}|)^2)=\\sigma^2$ = 3.15 - НРМД   \n",
        "\n",
        "\\\n",
        "Расчёт смещенной оценки\\\n",
        "$ E \\hat{\\sigma^2} = E S^2 = E \\displaystyle \\sum_{i = 1}^{n} (X_i - \\bar{X})^2 = [ X_i - E_\\theta X_i = Y_i ] = $ \\\n",
        "\n",
        "$[ E_\\theta Y_i = 0 \\quad D_\\theta Y_i = \\sigma^2 ]$ \\\n",
        "\n",
        "$\\displaystyle = \\frac{1}{n} E_\\theta \\sum_{i = 1}^{n} (Y_i - \\bar{Y}) = \\frac{1}{n} $\n",
        "\n",
        "$ E\\bar {Y^2} = \\cfrac{1}{n} E_\\theta \\sum_{i=1}^{n} {(Y_i)^2} = \\sigma^2 $\n",
        "\n",
        "\n",
        "$E_\\theta (\\bar{Y} - (\\bar{Y})^2) = E \\bar{Y^2} - E(\\bar{Y})^2 $\\\n",
        "\n",
        "$ \\displaystyle E(\\bar{Y^2}) = \\frac{1}{n} E \\sum_{i=1}^{n} Y_i^2  = \\frac{1}{n} \\sum_{i=1}^{n} EY_i^2 = \\sigma^2 $\\\n",
        "\n",
        "$ \\displaystyle E(\\bar{Y})^2 = \\frac{1}{n^2} E( \\sum_{i=1}^{n} Y_i )^2 = \\frac{1}{n} \\sum_{i=1}^{n} \\sum_{j=1}^{n}EY_i Y_j$\\\n",
        "\n",
        "$ EY_i Y_j = \\begin{cases} \\sigma^2 \\quad i=j \\\\ 0 \\quad i \\neq j \\end{cases} $\\\n",
        "$ \\displaystyle E_\\theta S^2 = \\sigma^2 - \\frac{\\sigma^2}{n} = \\frac{n - 1}{n} \\sigma^2$\\\n",
        "\n",
        "Смещённая оценка\n",
        "\n",
        "$ S' = \\sqrt{\\frac{n}{n - 1} S^2 }$"
      ],
      "metadata": {
        "id": "hg_ZNMxG6XXB"
      }
    },
    {
      "cell_type": "markdown",
      "source": [
        "### i.d) Построить доверительные интервалы уровня значимости $\\alpha_2$ для параметров $(a,\\sigma^{2})$."
      ],
      "metadata": {
        "id": "CwB2B40B6eSq"
      }
    },
    {
      "cell_type": "markdown",
      "source": [
        "Для $a:$\n",
        "\n",
        "$ G(\\vec{X}, a) = \\sqrt{n - 1} \\frac{\\bar{X} - a}{S} \\sim S_{n - 1} $\\\n",
        "$ \\mathbb{P}_a \\left( \\sqrt{n - 1} \\frac{\\bar{X} - a}{S} \\in [-x_\\alpha; x_\\alpha] \\right) = 1 - \\alpha_2 $\\\n",
        "$ x_\\alpha : S_{n - 1}(x_\\alpha) = S_{49}(x_\\alpha) = 1 - \\frac{\\alpha_2}{2} = 0.975  $\n",
        "\n",
        "$ \\displaystyle a \\in \\left[  \\bar{X} - \\frac{x_\\alpha S}{\\sqrt{n-  1}}; \\bar{X} + \\frac{x_\\alpha S}{\\sqrt{n-  1}} \\right] = [1.24065; 6.6521]$\n"
      ],
      "metadata": {
        "id": "bjjrNl_v6f_a"
      }
    },
    {
      "cell_type": "code",
      "source": [
        "import scipy.stats as sps\n",
        "import numpy as np\n",
        "\n",
        "data2 = [5.28, 6.79, 3.82, 5.86, -4.31, 4.86, 4.16, -1.04, 10.95, 3.88, 3.04, -0.31, 6.20, 5.59, 2.12, 1.19, 1.52, 7.79, 2.92, 6.83, 4.34, 4.45, 2.80, 7.22,\n",
        "        7.94, 3.97, 5.75, 6.31, 3.68, 4.86, 3.61, 5.42, -1.13, 6.16, 3.91, 6.14, 3.14, 3.94, 8.71, 4.96, 5.23, 0.76, 6.19, 6.41, 3.69, 1.32, -5.23, -0.76,\n",
        "        3.13, 3.26]\n",
        "n = len(data2)\n",
        "fx = 0.975\n",
        "x_mean = np.mean(data2)\n",
        "x_a = sps.t.ppf(fx, 49)\n",
        "S = np.var(data2, ddof=1)\n",
        "\n",
        "print(\"Квантиль x_a =\", round(x_a, 4))\n",
        "\n",
        "left_edge = x_mean - (x_a*S)/(((n - 1))**0.5)\n",
        "right_edge = x_mean + (x_a*S)/(((n - 1))**0.5)\n",
        "\n",
        "print(f'доаверительный интервал для a: [{left_edge}; {right_edge}]' )"
      ],
      "metadata": {
        "colab": {
          "base_uri": "https://localhost:8080/"
        },
        "id": "vTv0jrY16kQP",
        "outputId": "5d87b804-4fb8-4cd8-9d5f-981e1d82cdc1"
      },
      "execution_count": 75,
      "outputs": [
        {
          "output_type": "stream",
          "name": "stdout",
          "text": [
            "Квантиль x_a = 2.0096\n",
            "доаверительный интервал для a: [1.2406554561277545; 6.652144543872245]\n"
          ]
        }
      ]
    },
    {
      "cell_type": "markdown",
      "source": [
        "Для $\\sigma^{2}:$\n",
        "\n",
        "$ \\displaystyle G(\\vec{X}, \\sigma^2) = \\frac{nS^2}{\\sigma^2} \\sim \\chi^2_{n - 1}$\n",
        "\n",
        "$ \\mathbb{P}_{\\sigma^2} \\left( \\frac{nS^2}{\\sigma^2} \\in [-x_\\alpha; x_\\alpha] \\right) = 1 - \\alpha_2 $\n",
        "\n",
        "$ x_{1\\alpha} : \\mathcal{K}_{n - 1}(x_{1\\alpha}) = \\mathcal{K}_{49}(x_{1\\alpha}) = \\frac{\\alpha_2}{2} = 0.025 $\n",
        "\n",
        "$ x_{2\\alpha} : \\mathcal{K}_{n - 1}(x_{2\\alpha}) = \\mathcal{K}_{49}(x_{2\\alpha}) = 1 - \\frac{\\alpha_2}{2} = 0.975 $\n",
        "\n",
        "$ \\displaystyle \\sigma^2 \\in \\left[  \\frac{n S^2}{x_{2\\alpha}}; \\frac{n S^2}{x_{1\\alpha}} \\right] = [63.249; 140.755]$\n"
      ],
      "metadata": {
        "id": "WW69tODk60rA"
      }
    },
    {
      "cell_type": "code",
      "source": [
        "import scipy.stats as sps\n",
        "import numpy as np\n",
        "\n",
        "data2 = [5.28, 6.79, 3.82, 5.86, -4.31, 4.86, 4.16, -1.04, 10.95, 3.88, 3.04, -0.31, 6.20, 5.59, 2.12, 1.19, 1.52, 7.79, 2.92, 6.83, 4.34, 4.45, 2.80, 7.22,\n",
        "        7.94, 3.97, 5.75, 6.31, 3.68, 4.86, 3.61, 5.42, -1.13, 6.16, 3.91, 6.14, 3.14, 3.94, 8.71, 4.96, 5.23, 0.76, 6.19, 6.41, 3.69, 1.32, -5.23, -0.76,\n",
        "        3.13, 3.26]\n",
        "n = len(data2)\n",
        "S = np.var(data2, ddof=1)\n",
        "\n",
        "x_1a = sps.chi2.ppf(0.025, 49)\n",
        "x_2a = sps.chi2.ppf(0.975, 49)\n",
        "\n",
        "\n",
        "print(\"Квантиль x_1a =\", round(x_1a, 3), \"Квантиль x_2a =\", round(x_2a, 3))\n",
        "\n",
        "left_edge = n * S**2 / x_2a\n",
        "right_edge = n * S**2 / x_1a\n",
        "\n",
        "print(f'доаверительный интервал для sigma: [{left_edge}; {right_edge}]' )"
      ],
      "metadata": {
        "colab": {
          "base_uri": "https://localhost:8080/"
        },
        "id": "d-sqLY5y65Qr",
        "outputId": "64050fe3-b462-45de-8894-7f00cb66a080"
      },
      "execution_count": 76,
      "outputs": [
        {
          "output_type": "stream",
          "name": "stdout",
          "text": [
            "Квантиль x_1a = 31.555 Квантиль x_2a = 70.222\n",
            "доаверительный интервал для sigma: [63.24924925561886; 140.75508468702046]\n"
          ]
        }
      ]
    },
    {
      "cell_type": "markdown",
      "source": [
        "### i.e) С использованием теоремы Колмогорова построить критерий значимости проверки простой гипотезы согласия с двухпараметрическим распределением Лапласа с параметрами  $(a_{0},\\sigma_{0}^{2})$. Проверить гипотезу на уровне значимости  α2 . Вычислить наибольшее значение уровня значимости, на котором еще нет оснований отвергнуть данную гипотезу."
      ],
      "metadata": {
        "id": "AIMNgkG27L6R"
      }
    },
    {
      "cell_type": "code",
      "source": [
        "import numpy as np\n",
        "import scipy.stats as sp\n",
        "\n",
        "data2 = [5.28, 6.79, 3.82, 5.86, -4.31, 4.86, 4.16, -1.04, 10.95, 3.88, 3.04, -0.31, 6.20, 5.59, 2.12, 1.19, 1.52, 7.79, 2.92, 6.83, 4.34, 4.45, 2.80, 7.22,\n",
        "        7.94, 3.97, 5.75, 6.31, 3.68, 4.86, 3.61, 5.42, -1.13, 6.16, 3.91, 6.14, 3.14, 3.94, 8.71, 4.96, 5.23, 0.76, 6.19, 6.41, 3.69, 1.32, -5.23, -0.76,\n",
        "        3.13, 3.26]\n",
        "data2_sorted = np.sort(data2)\n",
        "alpha_2 = 0.05\n",
        "a0 = 14\n",
        "sigma0 = 3\n",
        "\n",
        "sp.kstest(data2_sorted, 'laplace', args = (a0, sigma0))"
      ],
      "metadata": {
        "colab": {
          "base_uri": "https://localhost:8080/"
        },
        "id": "r8k01fXo7Ot4",
        "outputId": "74805a33-93d2-42b4-9e5f-1305bff8dce6"
      },
      "execution_count": 77,
      "outputs": [
        {
          "output_type": "execute_result",
          "data": {
            "text/plain": [
              "KstestResult(statistic=0.8942638321563408, pvalue=3.2999488335410944e-49, statistic_location=8.71, statistic_sign=1)"
            ]
          },
          "metadata": {},
          "execution_count": 77
        }
      ]
    },
    {
      "cell_type": "markdown",
      "source": [
        "Функция kstest позволяет выполнить выполнить тест Колмогорова-Смирнова для проверки того, является ли распределение нормальным.\n",
        "Т.к. значене p-value < $\\alpha_2$, то делаем вывод о отвержении гипотезы.\n",
        "наибольший уроевнь значимости при котором гипотеза будет выполняться = p-value = 3.2999488335410944e-49 (почти 0)"
      ],
      "metadata": {
        "id": "cZy_tD2l7cXi"
      }
    },
    {
      "cell_type": "markdown",
      "source": [
        "### i.f) Используя гистограмму частот, построить критерий значимости $\\mathcal{X^{2}}$ проверки простой гипотезы согласия с семейством двухпараметрических распределений Лапласа $(a_{0},\\sigma_{0}^{2})$. Проверить гипотезу на урокень значимости $\\alpha_{2}$. Вычислить наибольшее значение уровня значимости, на котором ещё нет оснований отвергнуть данную гипотезу.\n",
        "$P_{i}=P_{H_{0}}=(X\\in I_{i})=\\sum_{k\\in I_{i}}\\frac{1}{\\sqrt{2}\\sigma}exp\\left(-\\frac{\\sqrt{2}}{\\sigma}|x-a|\\right)$"
      ],
      "metadata": {
        "id": "_WItha0u7rIy"
      }
    },
    {
      "cell_type": "code",
      "source": [
        "import scipy.stats as sps\n",
        "import numpy as np\n",
        "\n",
        "\n",
        "data2 = [5.28, 6.79, 3.82, 5.86, -4.31, 4.86, 4.16, -1.04, 10.95, 3.88, 3.04, -0.31, 6.20, 5.59, 2.12, 1.19, 1.52, 7.79, 2.92, 6.83, 4.34, 4.45, 2.80, 7.22,\n",
        "        7.94, 3.97, 5.75, 6.31, 3.68, 4.86, 3.61, 5.42, -1.13, 6.16, 3.91, 6.14, 3.14, 3.94, 8.71, 4.96, 5.23, 0.76, 6.19, 6.41, 3.69, 1.32, -5.23, -0.76,\n",
        "        3.13, 3.26]\n",
        "\n",
        "sorted_data2 = np.sort(data2)\n",
        "\n",
        "h = 5\n",
        "\n",
        "def hypothesisTestChi(sigma0, alpha_2, df):\n",
        "\n",
        "    # Интервалы (правый край включен)\n",
        "    bins = np.arange(min(sorted_data2), max(sorted_data2) + h  , h)\n",
        "    intervals = [(start, end) for start, end in zip(bins[:-1], bins[1:])]\n",
        "    intervals.pop()\n",
        "    # intervals.append((1.2, np.inf))\n",
        "    print(f\"Интервалы {intervals}\")\n",
        "\n",
        "    # Гистограмма частот\n",
        "    hist = np.histogram(sorted_data2, bins=bins)[0]\n",
        "    print(f\"Частоты {hist}\")\n",
        "\n",
        "    #Ожидаемые вероятности\n",
        "    expected_freq = [stats.chi2.cdf(intervals[i][1], df=1, scale=sigma0) - stats.chi2.cdf(intervals[i][0], df=1, scale=sigma0) for i in range(len(intervals) )]\n",
        "\n",
        "    expected_freq.append(1 - sum(expected_freq))\n",
        "    print(f\"Ожидаемые вероятности {expected_freq}\")\n",
        "    print(f\"Сумма вероятностей {sum(expected_freq)}\")\n",
        "\n",
        "\n",
        "    #Вычисление критерия chi^2\n",
        "    chi = 0\n",
        "    for i in range(len(intervals)):\n",
        "        if (len(data)*expected_freq[i]):\n",
        "            chi += ((bins[i] - len(data)*expected_freq[i])**2) / (len(data)*expected_freq[i])\n",
        "\n",
        "    x_alpha = stats.chi2.ppf(1 - alpha_2, df)\n",
        "\n",
        "    print(f\"Критерий X^2: {chi}\")\n",
        "    print(f\"Критическое значение: {x_alpha}\")\n",
        "\n",
        "\n",
        "    print(f\"p value= {1 - stats.chi2.cdf(chi, df)}\")\n",
        "\n",
        "\n",
        "hypothesisTestChi(sigma0=3, alpha_2=0.05, df= 3 - 1)"
      ],
      "metadata": {
        "colab": {
          "base_uri": "https://localhost:8080/"
        },
        "id": "h-IIVxRY7y9P",
        "outputId": "5c181a23-1727-4a45-cb2d-b595c6170193"
      },
      "execution_count": 88,
      "outputs": [
        {
          "output_type": "stream",
          "name": "stdout",
          "text": [
            "Интервалы [(-5.23, -0.23000000000000043), (-0.23000000000000043, 4.77), (4.77, 9.77)]\n",
            "Частоты [ 6 22 21  1]\n",
            "Ожидаемые вероятности [0.0, 0.7926738661807524, 0.13619254560829852, 0.07113358821094906]\n",
            "Сумма вероятностей 1.0\n",
            "Критерий X^2: 40.705939506536076\n",
            "Критическое значение: 5.991464547107979\n",
            "p value= 1.448163367001598e-09\n"
          ]
        }
      ]
    },
    {
      "cell_type": "markdown",
      "source": [
        "Критерий $\\mathcal{X}^{2}: \\mathcal{X}^{2}_{набл}=\\sum_{i=1}^{12}\\frac{(n_{i}-np_{i})^{2}}{np_{i}} = 40.70$\n",
        "\n",
        "$\\mathcal{X}^{2}_{N-1,1-\\alpha_{2}}=\\mathcal{X}^{2}_{3,0.95}\\sim 7,81$\n",
        "\n",
        "$\\mathcal{X}^{2} > \\mathcal{X}^{2}_{11.0.95}\\implies$ по критерию Пирсона мы отвергаем гипотезу \\\\\n",
        "\n",
        "наибольший уроевнь значимости при котором гипотеза будет выполняться = p-value = 1.448163367001598e-09 (очень близко к 0)\n"
      ],
      "metadata": {
        "id": "VlfHRQtt9Lrp"
      }
    },
    {
      "cell_type": "markdown",
      "source": [
        "### i.g) Построить критерий значимости  $\\mathcal{X^{2}}$ проверки сложной гипотезы согласия с двухпараметрическим семейством распределений Лапласа. Проверить гипотезу по уровню значимости $\\alpha_{2}$.Вычислить наибольшее значение уровня значимости, на котором ещё нет оснований отвергнуть данную гипотезу."
      ],
      "metadata": {
        "id": "PLxHsv_N9p1i"
      }
    },
    {
      "cell_type": "code",
      "source": [
        "import scipy.stats as sps\n",
        "import numpy as np\n",
        "\n",
        "\n",
        "data2 = [5.28, 6.79, 3.82, 5.86, -4.31, 4.86, 4.16, -1.04, 10.95, 3.88, 3.04, -0.31, 6.20, 5.59, 2.12, 1.19, 1.52, 7.79, 2.92, 6.83, 4.34, 4.45, 2.80, 7.22,\n",
        "        7.94, 3.97, 5.75, 6.31, 3.68, 4.86, 3.61, 5.42, -1.13, 6.16, 3.91, 6.14, 3.14, 3.94, 8.71, 4.96, 5.23, 0.76, 6.19, 6.41, 3.69, 1.32, -5.23, -0.76,\n",
        "        3.13, 3.26]\n",
        "\n",
        "sorted_data2 = np.sort(data2)\n",
        "\n",
        "arr = [x for x in range(-6, 11, 4)]  # массив интервалов\n",
        "binsToCalc = [[] for i in range(len(arr) - 1)]\n",
        "VALUES_in_binsToCalc = [[] for i in range(len(arr) - 1)]\n",
        "\n",
        "print('len(binsToCalc) -', len(binsToCalc))\n",
        "\n",
        "for i in range(len(arr) - 1):\n",
        "    binsToCalc[i] = [arr[i], arr[i + 1]]\n",
        "\n",
        "print('\\nbinsToCalc конкретно интервалы:\\n', binsToCalc)\n",
        "\n",
        "for i in range(len(sorted_data2)):\n",
        "    for j in range(len(binsToCalc)):\n",
        "        if binsToCalc[j][0] < sorted_data2[i] < binsToCalc[j][1]:\n",
        "            VALUES_in_binsToCalc[j].append(sorted_data2[i])\n",
        "\n",
        "print('\\nVALUES_in_binsToCalc:\\n', VALUES_in_binsToCalc, '\\n')\n",
        "\n",
        "for i in range(len(binsToCalc)):\n",
        "    print(f'интервал[{i}] - {binsToCalc[i]} имеет {len(VALUES_in_binsToCalc[i])} значений: {VALUES_in_binsToCalc[i]}')\n",
        "\n",
        "\n",
        "## Рассчет вероятностей и ХИ-квадрат\n",
        "\n",
        "def CuclSum(a0, scale):\n",
        "    n = 50\n",
        "    P_array = [0] * (len(arr) -1)\n",
        "\n",
        "    # Вычисление P_i\n",
        "    P_array[0] = sps.laplace.cdf(arr[0], loc=a0, scale=scale)\n",
        "\n",
        "    for i in range(1, len(arr)- 1):\n",
        "        P_array[i] = sps.laplace.cdf(arr[i], loc=a0, scale=scale) - sps.laplace.cdf(arr[i - 1], loc=a0, scale=scale)\n",
        "    P_array[len(arr) -2] = 1 - sps.laplace.cdf(arr[-1], loc=a0, scale=scale)\n",
        "    P_array = [round(elem, 5) for elem in P_array]\n",
        "\n",
        "    print()\n",
        "    for i in range(len(P_array)):\n",
        "        print(f'P_{i + 1} = {P_array[i]}')\n",
        "    print()\n",
        "    print(\"Проверка результата. Сумма P_i =\", np.sum(P_array))\n",
        "\n",
        "    # Вычисление X^2\n",
        "    Summ = []\n",
        "\n",
        "    n_array = [len(VALUES_in_binsToCalc[i]) for i in range(len(VALUES_in_binsToCalc))]\n",
        "    print('\\n значений в каждом интервале соответственно -', n_array)  #\n",
        "\n",
        "    for i in range(len(n_array)):\n",
        "        Summ.append(((n_array[i] - n * P_array[i]) ** 2) / (n * P_array[i]))\n",
        "    print('\\nX^2 набл = ', np.sum(Summ))\n",
        "\n",
        "\n",
        "CuclSum(3.95, 9.42)\n"
      ],
      "metadata": {
        "colab": {
          "base_uri": "https://localhost:8080/"
        },
        "id": "EfPXPW71931n",
        "outputId": "6c0a0c93-1f03-40c5-eb23-f72bc67a264f"
      },
      "execution_count": 95,
      "outputs": [
        {
          "output_type": "stream",
          "name": "stdout",
          "text": [
            "len(binsToCalc) - 4\n",
            "\n",
            "binsToCalc конкретно интервалы:\n",
            " [[-6, -2], [-2, 2], [2, 6], [6, 10]]\n",
            "\n",
            "VALUES_in_binsToCalc:\n",
            " [[-5.23, -4.31], [-1.13, -1.04, -0.76, -0.31, 0.76, 1.19, 1.32, 1.52], [2.12, 2.8, 2.92, 3.04, 3.13, 3.14, 3.26, 3.61, 3.68, 3.69, 3.82, 3.88, 3.91, 3.94, 3.97, 4.16, 4.34, 4.45, 4.86, 4.86, 4.96, 5.23, 5.28, 5.42, 5.59, 5.75, 5.86], [6.14, 6.16, 6.19, 6.2, 6.31, 6.41, 6.79, 6.83, 7.22, 7.79, 7.94, 8.71]] \n",
            "\n",
            "интервал[0] - [-6, -2] имеет 2 значений: [-5.23, -4.31]\n",
            "интервал[1] - [-2, 2] имеет 8 значений: [-1.13, -1.04, -0.76, -0.31, 0.76, 1.19, 1.32, 1.52]\n",
            "интервал[2] - [2, 6] имеет 27 значений: [2.12, 2.8, 2.92, 3.04, 3.13, 3.14, 3.26, 3.61, 3.68, 3.69, 3.82, 3.88, 3.91, 3.94, 3.97, 4.16, 4.34, 4.45, 4.86, 4.86, 4.96, 5.23, 5.28, 5.42, 5.59, 5.75, 5.86]\n",
            "интервал[3] - [6, 10] имеет 12 значений: [6.14, 6.16, 6.19, 6.2, 6.31, 6.41, 6.79, 6.83, 7.22, 7.79, 7.94, 8.71]\n",
            "\n",
            "P_1 = 0.17388\n",
            "P_2 = 0.09198\n",
            "P_3 = 0.14065\n",
            "P_4 = 0.26305\n",
            "\n",
            "Проверка результата. Сумма P_i = 0.6695599999999999\n",
            "\n",
            " значений в каждом интервале соответственно - [2, 8, 27, 12]\n",
            "\n",
            "X^2 набл =  64.46421628385696\n"
          ]
        }
      ]
    },
    {
      "cell_type": "markdown",
      "source": [
        "Критерий $\\mathcal{X}^{2}: \\mathcal{X}^{2}_{набл}=\\sum_{i=1}^{12}\\frac{(n_{i}-np_{i})^{2}}{np_{i}} = 106.05$\n",
        "\n",
        "$\\mathcal{X}^{2}_{N-1,1-\\alpha_{2}}=\\mathcal{X}^{2}_{3,0.95}\\sim 7.81$\n",
        "\n",
        "$\\mathcal{X}^{2} > \\mathcal{X}^{2}_{3,0.95}\\implies$ по критерию Пирсона мы отвергаем гипотезу \\\\\n",
        "\n"
      ],
      "metadata": {
        "id": "7Zyls3A8-22h"
      }
    },
    {
      "cell_type": "markdown",
      "source": [
        "## Выводы\n",
        "\n",
        "В ходе практической работы успешно применили методы математической статистики для статистического анализа, используя программные пакеты, изучено применение выборочных числовых характеристик. Разобраны принципы и освоена работа с оценкой максимального правдоподобия (ОМП) и оценкой метода моментов (ОММ). Построены доверительные интервалы, основанные на построении генераторов по лемме Фишера, и асимптотические доверительные интервалы, основанные на асимптотической нормальности оценок и информации Фишера. Изучен критерий Колмогорова для проверки гипотезы о совпадении эмпирической и теоретической функций распределения. Рассмотрены критерии Хи-квадрат для проверки гипотез о распределении данных. Все это было реализовано с использованием Python с библиотеками NumPy, SciPy и другими, облегчающими анализ данных и моделирование.\n",
        "\n"
      ],
      "metadata": {
        "id": "06GWA0qE_I5m"
      }
    }
  ]
}