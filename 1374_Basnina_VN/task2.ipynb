{
 "cells": [
  {
   "cell_type": "markdown",
   "id": "50df6a69-b626-449c-85c2-fc057bcda23f",
   "metadata": {},
   "source": [
    "# Практическая работа №2: Классические методы математической статистики\n",
    "Выполнил студент гр.1374 Баснина Виктория. Вариант 2"
   ]
  },
  {
   "cell_type": "markdown",
   "id": "f86263e0-d01b-4165-a85d-179bc0c6e7d1",
   "metadata": {},
   "source": [
    "## Цель работы\n",
    "Научится применять методы математической статистики для решения задач статистического анализа; сформировать навыки реализации методов с помощью прикладных программных пакетов."
   ]
  },
  {
   "cell_type": "markdown",
   "id": "9b6005d0-4455-4298-84d9-5f6469a44768",
   "metadata": {},
   "source": [
    "## Основные теоретические положения  \n",
    "$\\mathbb{E}_\\xi=\\bar{x}=\\cfrac{1}{n}\\sum_{i=1}^nx_i$  \n",
    "$\\mathbb{D}_\\xi=S^2=\\cfrac{\\sum_{i=1}^n(x_i-\\bar x)^2}{n}$  \n",
    "$\\sigma=\\sqrt{S^2}$  \n",
    "$Me=\\cfrac{x_{\\cfrac{n}{2}}+x_{\\cfrac{n}{2}+1}}{2}$  \n",
    "$\\widehat{Skew}=\\cfrac{\\cfrac{\\sum_{i=1}^n(x_i-\\bar x)^3}{n}}{S^3}$    \n",
    "$\\widehat{Kurt}=\\cfrac{\\cfrac{\\sum_{i=1}^n(x_i-\\bar x)^4}{n}}{S^4}$   \n",
    "$\\mathbb{P}(X\\in[a,b])=F(b)-F(a)$  \n",
    "Оценка максимального правдоподобия (ОМП):  \n",
    "$X_{1},...,X_{n}$-выборка из распределения с плотностью распределения $P_{\\theta}, \\theta\\in \\Theta$  \n",
    "Функция правдоподобия:$L(\\bar{X},\\theta)=\\prod_{i=1}^{n}P_{\\theta}(X_{i})$  \n",
    "Логарифм функции правдоподобия:$LL(\\bar{X},\\theta)=\\ln L(\\bar{X},\\theta)=\\sum_{i=1}^{n}\\ln P_{\\theta}(X_{i})$\n",
    "$\\theta\\in \\Theta  LL(\\bar{X}),\\theta=\\sum_{i=1}^{n}\\ln P_{\\theta}(X_{i})$  \n",
    "При $\\theta$ - d-мерный параметр и $P_{\\theta}$ дифференцируема по $\\theta$: U$(\\bar{X},\\theta)=\\frac{\\partial }{\\partial \\theta}LL(\\bar{X},\\theta)=0, i=\\overline{1,d}$  \n",
    "Оценка метода моментов (ОММ)  \n",
    "$X_{1},...,X_{n}$-выбока из распределения $P_{\\theta}, \\theta=(\\theta_{1},...,\\theta_{d})$\n",
    "$\\exists \\mu_{k}(\\theta)=\\mathbb{E}X^{k}_{1}, k=\\overline{1,d}$  \n",
    "Если $\\exists$ ! решение $\\widetilde{\\theta}(X)$ системы уравнений: $\\widehat{\\mu^{k}}(\\widetilde{\\theta})=\\mu_{k}(\\theta), k=\\overline{1,d}$, где $\\widetilde{\\theta}(X)=\\frac{1}{n}\\sum_{i=1}^{n}X^{k}_{i}$-выборочный момент k-го порядка, то $\\widetilde{\\theta}(X)$ - оценкой по методу моментов  НРМД-оценки (несмещенная оценка)  \n",
    "Оценка $\\widehat{\\theta}(X)$ параметра $\\theta$ называется несмещенной, если при любом значении параметра $\\theta\\in \\Theta: \\mathbb{E}\\widehat{\\theta}(X)=\\theta$  \n",
    "Смещение оценки : $bias_{\\widehat{\\theta}}(\\theta)=\\mathbb{E}_{\\theta}\\widehat{\\theta}(X)-\\theta$  \n",
    "МДС является ПДС, когда распределение относится к экспоненциальному семейству.  \r",
    "$\\sqrt{n}\\left( \\widehat{\\theta}(\\overrightarrow{X})-\\theta \\right)\\sim N\\left( 0, \\frac{1}{I(\\theta)} \\right)$    \n",
    "$I(\\theta)=-\\mathbb{E}\\left( \\frac{\\partial^{2} LL}{\\partial \\lambda^{2}} \\right)=-\\mathbb{E}\\left( -\\frac{\\sum_{i=1}^{n}X_{i}}{\\lambda^{2}} \\right)=\\frac{n}{\\lambda^{2}}$      \n",
    "Критерий $\\chi^2$ для проверки гипотез:  \n",
    "$\\mathcal{X}^{2}_{набл}=\\sum_{i=1}^{len(I[i])}\\frac{(n_{i}-np_{i})^{2}}{np_{i}}$  \n",
    "Если $\\mathcal{X}^{2}_{N-1,1-\\alpha_{1}} \\lt \\chi^2_{набл}$, то гипотезу отвергаем  \n",
    "Если $\\mathcal{X}^{2}_{N-1,1-\\alpha_{1}} \\gt \\chi^2_{набл}$, то гипотезу принимаем    \n",
    "$X_{1},...,X_{n}$ - выборка объема n , порождённая случайной величиной, которая задаётся непрерывной функцией распределения F(x). Пусть $F_{n}(x)$ — выборочная функция распределения. Тогда $D_{n}(\\bar{X}) = \\overset{}{\\underset{X \\in \\mathbb R}{sup}} |F_{0}(X_{i}) - F_{n}(X_{i})|$  \n",
    "$P(\\sqrt{n} D_{n}(\\bar{X}) < z_{\\gamma}) \\xrightarrow[n \\rightarrow \\infty]{} K(z_{\\gamma})$, где  \n",
    "$z_{\\gamma}$- квантиль уровня $\\gamma$  закона распределения Колмогорова.     \n",
    "Вероятность $\\gamma$  называют уровнем значимости.нем з_{\\gamma}начимости.\n",
    "$K(z)=1-\\alpha$ - ф-я распределен  ия Если $D_{n} \\lt z_{\\gamma}$, то гипотезу принимаем  \n",
    "Если $D_{n} \\gt z_{\\gamma}$, то гипотезу отвергаемотезу отвергаемная величина, имеющая распределение Колмогорова.\n"
   ]
  },
  {
   "cell_type": "markdown",
   "id": "c0552151-4f2c-4802-9bb9-c6b5c897b2f0",
   "metadata": {},
   "source": [
    "## Постановка задачи\r\n",
    "Для полученных в результате эксперимента наборов данных выполнить статистическую обработку. Полученные результаты содержательно проинтерпретировать."
   ]
  },
  {
   "cell_type": "code",
   "execution_count": 32,
   "id": "9688bc4a-fc30-42c9-aec4-bf80696fc955",
   "metadata": {},
   "outputs": [],
   "source": [
    "import pandas as pd\n",
    "import numpy as np\n",
    "import matplotlib.pyplot as plt\n",
    "import math\n",
    "import scipy.stats as sp\n",
    "from scipy.stats import expon\n",
    "from scipy.stats import kstwobign\n",
    "from scipy.stats import kstest\n",
    "from scipy.stats import laplace\n",
    "from scipy.optimize import minimize"
   ]
  },
  {
   "cell_type": "markdown",
   "id": "0d4465e8-5ed7-443d-8faf-2d7cdef003d3",
   "metadata": {},
   "source": [
    "**Задание 1   \n",
    "Дано: 0 2 3 0 1 1 1 0 0 0 1 1 1 1 3 2 0 0 0 0 0 1 1 0 1 0 1 2 2 1 0 0 0 0 0 0 0 2 0 1 0 0 2 2 0 1 0 0 1 0     \n",
    "a) Построить вариационный ряд, эмпирическую функцию распределения и гистограмму частот**"
   ]
  },
  {
   "cell_type": "code",
   "execution_count": 3,
   "id": "f5eb33d0-a39b-4d98-88bd-8d854200c7db",
   "metadata": {},
   "outputs": [
    {
     "name": "stdout",
     "output_type": "stream",
     "text": [
      "Задание 1\n",
      "Дано: 0 2 3 0 1 1 1 0 0 0 1 1 1 1 3 2 0 0 0 0 0 1 1 0 1 0 1 2 2 1 0 0 0 0 0 0 0 2 0 1 0 0 2 2 0 1 0 0 1 0\n",
      "n = 50\n",
      "Вариационный ряд: 0 0 0 0 0 0 0 0 0 0 0 0 0 0 0 0 0 0 0 0 0 0 0 0 0 0 1 1 1 1 1 1 1 1 1 1 1 1 1 1 1 2 2 2 2 2 2 2 3 3\n",
      "0 1 2 3\n",
      "   Количество  Частота\n",
      "0          26     0.52\n",
      "1          15     0.30\n",
      "2           7     0.14\n",
      "3           2     0.04\n",
      "[0.52, 0.8200000000000001, 0.9600000000000001, 1.0]\n"
     ]
    }
   ],
   "source": [
    "def count_rate(data: list):\n",
    "    rate = {}\n",
    "    for i in data:\n",
    "        if i in rate:\n",
    "            continue\n",
    "        else:\n",
    "            rate[i] = data.count(i)\n",
    "    return rate\n",
    "def sort_rate(counted_rate: dict):\n",
    "    sorted_rate = {}\n",
    "    for key in sorted(counted_rate.keys()):\n",
    "        sorted_rate[key] = counted_rate[key]\n",
    "    return sorted_rate\n",
    "def crate_dataframe(sorted_date: dict):\n",
    "    df = pd.DataFrame(sorted_date, index=[0])\n",
    "    df = df.T\n",
    "    df = df.rename(columns={0: 'Количество'})\n",
    "    return df\n",
    "def probability_solving(dataframe: pd.DataFrame):\n",
    "    sum_rate = dataframe['Количество'].sum()\n",
    "    probability = []\n",
    "    for i in dataframe['Количество']:\n",
    "        probability.append(i / sum_rate)\n",
    "    dataframe['Частота'] = probability\n",
    "    return dataframe\n",
    "def empir_func(dataframe: pd.DataFrame):\n",
    "    sum_rate=0\n",
    "    empir = []\n",
    "    for i in dataframe['Частота']:\n",
    "        sum_rate+=i\n",
    "        empir.append(float(sum_rate))\n",
    "    return empir\n",
    "print(\"Задание 1\")\n",
    "a=[0, 2, 3, 0, 1, 1, 1, 0, 0, 0, 1, 1, 1, 1, 3, 2, 0, 0, 0, 0, 0, 1, 1, 0, 1, 0, 1, 2, 2, 1, 0, 0, 0, 0, 0, 0, 0, 2, 0, 1, 0, 0, 2, 2, 0, 1, 0,0, 1, 0]\n",
    "n=len(a)\n",
    "print(\"Дано:\",end=\" \")\n",
    "print(*a)\n",
    "print (\"n =\",n)\n",
    "asort=a.copy()\n",
    "asort.sort()\n",
    "print (\"Вариационный ряд:\", end=\" \")\n",
    "print(*asort)\n",
    "rate=count_rate(a)\n",
    "rate=sort_rate(rate)\n",
    "print(*rate)\n",
    "df=crate_dataframe(rate)\n",
    "df=probability_solving(df)\n",
    "empir=empir_func(df)\n",
    "print(df)\n",
    "print(empir)"
   ]
  },
  {
   "cell_type": "markdown",
   "id": "2539e002-1c95-4b43-92af-d4be24985604",
   "metadata": {},
   "source": [
    "Эмпирическая функция распределения\n",
    "$$ F(x) =\n",
    "\\begin{cases}\n",
    "0,\\; если\\; -\\infty < x \\leq 0 \\\\\n",
    "0.52,\\; если \\; 0 < x \\leq 1 \\\\\n",
    "0.82,\\; если \\; 1 < x \\leq 2 \\\\\n",
    "0.96,\\; если \\; 2 < x \\leq 3 \\\\\n",
    "1,\\; если\\; 3 < x \\leq +\\infty \\\\\n",
    "\\end{cases} $$"
   ]
  },
  {
   "cell_type": "code",
   "execution_count": 4,
   "id": "36a16a48-5587-4b8a-a92c-eba0b03ab5ed",
   "metadata": {},
   "outputs": [
    {
     "data": {
      "image/png": "[encoded data removed]",
      "text/plain": [
       "<Figure size 640x480 with 1 Axes>"
      ]
     },
     "metadata": {},
     "output_type": "display_data"
    }
   ],
   "source": [
    "df1={}\n",
    "for i in range(0, len(rate)):\n",
    " df1.update({i: float(empir[i])})\n",
    "df1.update({-2: 0})\n",
    "df1.update({7: 1})\n",
    "plt.xlim(-1, 7)\n",
    "plt.title('Эмпирическая функция распределения')\n",
    "plt.xticks([x for x in range(0, 7)])\n",
    "plt.grid()\n",
    "d1_un = [-2, *rate, 7]\n",
    "for i in range(0, len(rate)+1):\n",
    " plt.hlines(y=df1[d1_un[i]], xmin=d1_un[i], xmax=d1_un[i+1])\n",
    " plt.plot(d1_un[i], df1[d1_un[i]], marker='o',color='b')\n",
    "plt.show()"
   ]
  },
  {
   "cell_type": "code",
   "execution_count": 5,
   "id": "fa596352-07cb-43e8-bee0-235bba138cae",
   "metadata": {},
   "outputs": [
    {
     "data": {
      "text/plain": [
       "Text(0.5, 1.0, 'Гистограмма частот с h=1')"
      ]
     },
     "execution_count": 5,
     "metadata": {},
     "output_type": "execute_result"
    },
    {
     "data": {
      "image/png": "[encoded data removed]",
      "text/plain": [
       "<Figure size 640x480 with 1 Axes>"
      ]
     },
     "metadata": {},
     "output_type": "display_data"
    }
   ],
   "source": [
    "plt.hist(asort, bins=int((3-0)/1),weights=np.ones_like (asort) / len (asort),edgecolor='black')\n",
    "plt.title(\"Гистограмма частот с h=1\")"
   ]
  },
  {
   "cell_type": "markdown",
   "id": "004df756-de9b-40d1-8532-33caa145e9a9",
   "metadata": {},
   "source": [
    "**b) Вычислить выборочные аналоги следующих числовых характеристик: (i) математического ожидания, (ii)дисперсии, (iii) медианы, (iv)ассиметрии, (v)эксцесса, (vi)вероятности** $\\mathbb{P}(X\\in[a,b])$ **при** $a=0.00$ $b=1.20$ "
   ]
  },
  {
   "cell_type": "code",
   "execution_count": 6,
   "id": "e01926a6-92bb-49ea-9cc4-3ba004adac5c",
   "metadata": {},
   "outputs": [
    {
     "name": "stdout",
     "output_type": "stream",
     "text": [
      "0.7\n",
      "0.73\n",
      "0.8544003745317531\n",
      "0.0\n",
      "1.0004613130189788\n",
      "0.08969787952711572\n"
     ]
    }
   ],
   "source": [
    "E=sum(asort)/n\n",
    "print (E)\n",
    "deviations = [(x - E) ** 2 for x in asort] \n",
    "D = sum(deviations) / n \n",
    "print (D)\n",
    "SKO=D**(1/2)\n",
    "print (SKO)\n",
    "if n % 2: \n",
    "    Me=(asort)[n//2] \n",
    "else:\n",
    "    Me=sum((asort)[n//2 - 1:n//2 + 1]) / 2 \n",
    "print (Me)\n",
    "deviations = [(x - E) ** 3 for x in asort]\n",
    "Skew=sum(deviations) / (n *(SKO**3))\n",
    "print (Skew)\n",
    "deviations = [(x - E) ** 4 for x in asort]\n",
    "Kurt=sum(deviations) / (n *(SKO**4))-3\n",
    "print (Kurt)"
   ]
  },
  {
   "cell_type": "markdown",
   "id": "d72c96dd-9e33-4070-ba28-724df510798e",
   "metadata": {},
   "source": [
    "b)$\\mathbb{E}_\\xi=\\bar{x}=\\cfrac{1}{n}\\sum_{i=1}^nx_i=0.7$  \n",
    "$\\mathbb{D}_\\xi=S^2=\\cfrac{\\sum_{i=1}^n(x_i-\\bar x)^2}{n}=0.73$  \n",
    "$\\sigma=\\sqrt{S^2}=0.85$  \n",
    "$Me=\\cfrac{x_{\\cfrac{n}{2}}+x_{\\cfrac{n}{2}+1}}{2}=0$  \n",
    "$\\widehat{Skew}=\\cfrac{\\cfrac{\\sum_{i=1}^n(x_i-\\bar x)^3}{n}}{S^3}=1.0005$    \n",
    "$\\widehat{Kurt}=\\cfrac{\\cfrac{\\sum_{i=1}^n(x_i-\\bar x)^4}{n}}{S^4}-3=0.09$   \n",
    "$a=0.00$ $b=1.20$  \n",
    "$\\mathbb{P}(X\\in[a,b])=F(b)-F(a)=0.82-0=0.82$"
   ]
  },
  {
   "cell_type": "markdown",
   "id": "e5b61bc6-54c9-48a9-9c7b-ff3ead7a33d0",
   "metadata": {},
   "source": [
    "**c) В предположении, что исходные\n",
    "наблюдения являются выборкой из\n",
    "распределения Пуассона, построить\n",
    "оценку максимального правдоподобия\n",
    "параметра , а также оценку по\n",
    "методу моментов**"
   ]
  },
  {
   "cell_type": "markdown",
   "id": "1e5f3b90-2344-4a11-bcd9-2060bb0bb989",
   "metadata": {},
   "source": [
    "c) $x_1,\\cdots x_{50}\\sim \\mathcal{Pois}(\\lambda)$  \n",
    "$\\mathbb{P}_\\lambda(x=i)=\\cfrac{\\lambda^i}{i!}e^{-\\lambda}$  \n",
    "Оценка максимального правдоподобия параметра $\\lambda$:  \n",
    "$L(x_1, \\cdots, x_{50};\\lambda) =\\prod_{i=1}^{50}\\cfrac{\\lambda^x_i}{x_i!}e^{-\\lambda}$  \n",
    "$LL(x_1, \\cdots, x_{50};\\lambda)=\\ln e^{−nλ} +\\ln λ^{\\sum_{i=1}^{50}} − \\ln {\\sum_{i=1}^{50}x_i}$   \n",
    "$\\cfrac{\\delta LL(x_1, \\cdots, x_{50};\\lambda)}{\\delta\\lambda}=-n+\\cfrac{\\sum_{i=1}^{50}x_i}{\\lambda}=0$    \n",
    "$\\widehat{\\lambda}=\\bar{x}=0.7$  \n",
    "Оценка методом моментов параметра $\\lambda$:   \n",
    "Теоретический момент первого порядка в распределении Пуассона: $\\mathbb{E}(X_1)=\\lambda$  \n",
    "Эмпирический момент первого порядка: $M_1=\\bar{x}=\\cfrac{1}{n}\\sum_{i=1}^nx_i$  \n",
    "Тогда: $\\widehat{\\lambda}=\\bar{x}=0.7$   \n",
    "$\\widehat{\\lambda}=\\bar{x}$  - ОМП  \n",
    "$T=\\sum_{i=1}^nx_i$-МДС и ПДС, так как распределение Пуассона относится к экспоненциальному семейству.  \n",
    "$g\\left(T(\\overrightarrow{X})\\right)=\\lambda^{\\sum_{i=1}^{n}x_{i}}\\cdot exp(-n\\cdot \\lambda)$  \n",
    "$h(\\overrightarrow{X})=\\frac{1}{\\prod_{i=1}^{n}x_{i}!}$  \n",
    "$\\mathbb{E}_{\\lambda}(\\bar x)=\\mathbb{E}_{\\lambda}\\cfrac{1}{n}\\sum_{i=1}^nx_i=\\cfrac{1}{n}\\mathbb{E}_{\\lambda}\\sum_{i=1}^nx_i=\\cfrac{1}{n}\\cdot n\\lambda=\\lambda=0.7$ - НРМД"
   ]
  },
  {
   "cell_type": "markdown",
   "id": "50c9cba7-0a81-439a-a3be-8e9efd4824aa",
   "metadata": {},
   "source": [
    "**d) Построить асимптотический\n",
    "доверительный интервал уровня\n",
    "значимости для параметра на\n",
    "базе оценки максимального\n",
    "правдоподобия**"
   ]
  },
  {
   "cell_type": "code",
   "execution_count": 7,
   "id": "c7fa24c3-99fd-4b82-a126-a4b71823f3a6",
   "metadata": {},
   "outputs": [
    {
     "name": "stdout",
     "output_type": "stream",
     "text": [
      "0.661011642763512 0.7389883572364879\n"
     ]
    }
   ],
   "source": [
    "left_border = E - (2.33 * math.sqrt(E) / n)\n",
    "right_border = E + (2.33 * math.sqrt(E) / n)\n",
    "print(left_border,right_border)"
   ]
  },
  {
   "cell_type": "markdown",
   "id": "ae06c059-0549-4f88-b03c-84511f3fe561",
   "metadata": {},
   "source": [
    "d) $\\alpha_1=0.01$  \n",
    "$\\sqrt{n}\\left( \\widehat{\\theta}(\\overrightarrow{X})-\\theta \\right)\\sim N\\left( 0, \\frac{1}{I(\\theta)} \\right)$  \n",
    "$\\widehat{\\lambda}=\\overline{X}$  \n",
    "$I(\\theta)=-\\mathbb{E}\\left( \\frac{\\partial^{2} LL}{\\partial \\lambda^{2}} \\right)=-\\mathbb{E}\\left( -\\frac{\\sum_{i=1}^{n}X_{i}}{\\lambda^{2}} \\right)=\\frac{n}{\\lambda^{2}}$  \n",
    "Тогда $\\sqrt{n\\cdot I\\left(  \\widehat{\\theta}(\\overrightarrow{X})\\right)}\\left( \\widehat{\\theta}(\\overrightarrow{X})-\\theta \\right)\\sim N(0,1)$  \n",
    "$\\mathbb{P}(\\bar x-\\cfrac{x_\\alpha\\bar x}{\\sqrt{n}}\\leq\\lambda\\leq\\bar x+\\cfrac{x_\\alpha\\bar x}{\\sqrt{n}})=2\\Phi_0(x_\\alpha)=1-\\alpha_1$  \n",
    "$x_\\alpha=\\Phi^{-1}_0(\\cfrac{1-\\alpha_1}{2})=\\Phi^{-1}_0(0.49)\\approx2.33$  \n",
    "$\\left[ \\overline{X}-\\frac{X_{0.99}}{\\sqrt{50\\cdot \\frac{50}{\\overline{X}}}}; \\overline{X}+\\frac{X_{0.99}}{\\sqrt{50\\cdot \\frac{50}{\\overline{X}}}}\\right] $   \n",
    "$0.661\\le \\lambda\\le 0.739$ - АДИ параметра $\\lambda$."
   ]
  },
  {
   "cell_type": "markdown",
   "id": "6e767de8-8474-4167-987d-fd7556e3b7ff",
   "metadata": {},
   "source": [
    "**e)Используя гистограмму частот, построить критерий значимости** $\\mathcal{X^{2}}$ **проверки простой гипотезы согласия с распределением Пуассона с параметром** $\\lambda_{0}$. **Проверить гипотезу на урокень значимости $\\alpha_{1}$. Вычислить наибольшее значение уровня значимости, на котором ещё нет оснований отвергнуть данную гипотезу.**"
   ]
  },
  {
   "cell_type": "code",
   "execution_count": 8,
   "id": "97fb2ce4-434e-42c9-9dc8-3fe7ceabc7f9",
   "metadata": {},
   "outputs": [
    {
     "name": "stdout",
     "output_type": "stream",
     "text": [
      "[0.4966, 0.3476, 0.1217, 0.0284]\n",
      "[24.83, 17.38, 6.085, 1.42]\n",
      "[0.0551, 0.3259, 0.1376, 0.2369] 0.7555\n",
      "0.9443123708778196\n"
     ]
    }
   ],
   "source": [
    "lam0=0.7\n",
    "I = [(-math.inf, 0), (0, 1), (1, 2), (2, 3)]\n",
    "n_i = [26,15, 7, 2]\n",
    "p_i = []\n",
    "np_i = []\n",
    "n_i_np_i = []\n",
    "res = []\n",
    "for i in I:\n",
    " p_i.append(round(sp.poisson.cdf(i[1], lam0) - sp.poisson.cdf(i[0], lam0), 4))\n",
    "print(p_i)\n",
    "for i in range (4):\n",
    " np_i.append(round(n*p_i[i], 4))\n",
    "print(np_i)\n",
    "for i in range(len(n_i)):\n",
    " n_i_np_i.append(round(n_i[i] - np_i[i], 4))\n",
    "for i in range(len(n_i)):\n",
    " res.append(round((n_i_np_i[i] ** 2) / np_i[i] , 4))\n",
    "print(res, sum(res))\n",
    "print(1 - sp.chi2.cdf(sum(res), 4))"
   ]
  },
  {
   "cell_type": "markdown",
   "id": "b7422131-c167-45d2-9fcc-ad043efa63fb",
   "metadata": {},
   "source": [
    "e)$\\lambda_0=0.70 \\:\\alpha_1=0.01$  \n",
    "$I_{1}=\\left(-\\infty,0 \\right], n_{1}=26$  \n",
    "$P_{1}=\\frac{0.7^{0}}{0!}exp(-0.7)-\\frac{0.7^{-\\infty}}{-\\infty!}exp(-0.7)=0.497\\: nP_{1}=24.83$  \n",
    "$I_{2}=\\left(0,1\\right], n_{2}=15$  \n",
    "$P_{2}=\\frac{0.7^{1}}{1!}exp(-0.7)-\\frac{0.7^{0}}{0}exp(-0.7)=0.348\\: nP_{2}=17.38$  \n",
    "$I_{3}=\\left( 1,2 \\right], n_{3}=7$  \n",
    "$P_{3}=\\frac{0.7^{2}}{2!}exp(-0.7)-\\frac{0.7^{1}}{1!}exp(-0.7)=0.122\\: nP_{3}=6.085$  \n",
    "$I_{4}=\\left(2,3 \\right], n_{4}=2$  \n",
    "$P_{4}=\\frac{0.7^{3}}{3!}exp(-0.7)-\\frac{0.7^{2}}{2!}exp(-0.7)=0.028\\: nP_{4}=1.42$  \n",
    "Критерий $\\mathcal{X}^{2}: \\mathcal{X}^{2}_{набл}=\\sum_{i=1}^{4}\\frac{(n_{i}-np_{i})^{2}}{np_{i}} =0.755$  \n",
    "$\\mathcal{X}^{2}_{N-1,1-\\alpha_{1}}=\\mathcal{X}^{2}_{3,0.99}\\approx 11.34$  \n",
    "$\\mathcal{X}^{2} <\\mathcal{X}^{2}_{3,0.99}$ - нет оснований отвергнуть гипотезу (критерий Пирсона)  \n",
    "$F^{-1}_{\\mathcal{X}^{2}_{3}}(1-\\widehat\\alpha)=\\mathcal{X}^2$  \n",
    "$\\widehat\\alpha=1-F_{\\mathcal{X}^{2}_{3}}(\\mathcal{X}^{2})=0.944$  "
   ]
  },
  {
   "cell_type": "markdown",
   "id": "a920c401-aba8-4698-b33c-2f1c68bf3fec",
   "metadata": {},
   "source": [
    "**f)Построить критерий значимости**  $\\mathcal{X^{2}}$ **проверки сложной гипотезы согласия с распределением Пуассона. Проверить гипотезу по уровню значимости** $\\alpha_{1}$ **.Вычислить наибольшее значение уровня значимости, на котором ещё нет оснований отвергнуть данную гипотезу.**"
   ]
  },
  {
   "cell_type": "code",
   "execution_count": 9,
   "id": "1455f6ed-a742-4619-93c3-a0dff65bd1ee",
   "metadata": {},
   "outputs": [
    {
     "name": "stdout",
     "output_type": "stream",
     "text": [
      "0.7262963583535006 0.7058511681814481\n",
      "0.9506053972516936\n"
     ]
    },
    {
     "name": "stderr",
     "output_type": "stream",
     "text": [
      "C:\\Users\\asus\\AppData\\Local\\Temp\\ipykernel_10896\\1363335953.py:9: DeprecationWarning: Conversion of an array with ndim > 0 to a scalar is deprecated, and will error in future. Ensure you extract a single element from your array before performing this operation. (Deprecated NumPy 1.25.)\n",
      "  theta_minimized = float(minimize(chi_squared, lam0).x)\n"
     ]
    }
   ],
   "source": [
    "def chi_squared(x):\n",
    " p_min = []\n",
    " res_min = 0\n",
    " for i in I:\n",
    "     p_min.append(sp.poisson.cdf(i[1], x) - sp.poisson.cdf(i[0], x))\n",
    " for i in range(len(n_i)):\n",
    "     res_min += ((n_i[i]-n*p_min[i])**2)/(n*p_min[i])\n",
    " return res_min\n",
    "theta_minimized = float(minimize(chi_squared, lam0).x)\n",
    "print(theta_minimized, chi_squared(theta_minimized))\n",
    "print(1 - sp.chi2.cdf(chi_squared(theta_minimized), 4))"
   ]
  },
  {
   "cell_type": "markdown",
   "id": "b4900f86-cddf-47f7-9a9e-34dda4101de2",
   "metadata": {},
   "source": [
    "f) $\\lambda_0=0.70 \\:\\alpha_1=0.01$  \n",
    "Минимализируем функцию:$\\mathcal{X}^{2}(\\theta)=\\sum_{i=1}^{4}\\frac{(n_{i}-np_{i}(\\theta))^{2}}{np_{i}(\\theta)}$  \n",
    "$min(\\mathcal{X}^{2}(\\theta))= 0.706$ при $\\theta=0.726$  \n",
    "$\\mathcal{X}^{2}_{N-1,1-\\alpha_{1}}=\\mathcal{X}^{2}_{3,0.99}\\simeq 11.345>\\mathcal{X}^{2}(\\theta)$  - нулевую гипотезу нельзя отвергнуть.     Найдём значение уровня \n",
    "значимости, на котором ещё нет оснований отвергнуть данную гипотезу  \n",
    "$F^{-1}_{\\mathcal{X}^2_3}(1-\\alpha)=\\mathcal{X}^2$    \n",
    "$\\alpha=1-F_{\\mathcal{X}^2_3}(\\mathcal{X}^2)=0.95$ :"
   ]
  },
  {
   "cell_type": "markdown",
   "id": "f95548ee-916a-4685-89e6-6941f64292fc",
   "metadata": {},
   "source": [
    "**g)Построить наиболее мощный критерий проверки простой гипотезы пауссоновости с параметром** $\\lambda=\\lambda_{0}$ **при альтернативе пуассоновсти с параметром** $\\lambda=\\lambda_{1}$. **Проверить гипотезу на уровне значимости** $\\alpha_{1}$. **Что получится, если поменять местами основную и альтернативную гипотезы?**"
   ]
  },
  {
   "cell_type": "markdown",
   "id": "4d2565ef-cedf-4866-b6bb-9781b1924836",
   "metadata": {},
   "source": [
    "g) $\\lambda_0=0.7 \\:\\lambda_1=2.8 \\:\\alpha_1=0.01$  \n",
    "$H_{0}=\\lambda_{0}\\:H_{A}=\\lambda_{1}$  \n",
    "$LR(\\bar{X},\\lambda_{1},\\lambda_{0}) = \\frac{L\\left( \\bar{X},\\lambda_{1} \\right)}{L\\left( \\bar{X},\\lambda_{0} \\right)}= \\frac{\\lambda_{1}^{\\sum_{i=1}^{50}X_{i}}\\cdot exp(-n\\cdot \\lambda_{1})}{\\lambda_{0}^{\\sum_{i=1}^{50}X_{i}}\\cdot exp(-n\\cdot \\lambda_{0})}$    \n",
    "$LR(\\bar{X})$ монотонна относительно МДС $T(\\bar{X})=\\sum_{i=1}^{50}X_{i}$    \n",
    "$LR(\\bar{X},\\lambda_{0},\\lambda_{1})\\gt c$   \n",
    "$\\overline{X}\\gt c$  \n",
    "$\\sqrt{n}\\frac{\\overline{X}-\\lambda_{0}}{\\sqrt{\\overline{X}}}\\sim N(0,1)$  \n",
    "$P\\left(\\sqrt{n}\\frac{\\overline{X}-\\lambda_{0}}{\\sqrt{\\overline{X}}} \\right)\\gt \\sqrt{n}\\frac{\\overline{X}-\\lambda_{0}}{\\sqrt{\\overline{X}}}=1-\\Phi\\left(\\sqrt{n}\\frac{\\overline{X}-\\lambda_{0}}{\\sqrt{\\overline{X}}} \\right)=\\alpha_{1}$  \n",
    "$\\Phi\\left(\\sqrt{n}\\frac{\\overline{X}-\\lambda_{0}}{\\sqrt{\\overline{X}}} \\right)=1-\\alpha_{1}=0.99$    \n",
    "$$ \\phi(x) =\n",
    "\\begin{cases}\n",
    "0,\\; если\\: \\bar X>c, \\lambda_0=0.7\\\\\n",
    "1,\\; если\\: \\bar X<c, \\lambda_0=0.7\\\\\n",
    "\\end{cases} $$\n",
    "$\\sqrt{n}\\frac{\\overline{X}-\\lambda_{0}}{\\sqrt{\\overline{X}}}\\gt \\sqrt{n}\\frac{c-\\lambda_{0}}{\\sqrt{\\overline{X}}}=2.3\\: c=0.97\\gt \\overline{X}$ - гипотезу отвергаем    \n",
    "$H_{0}=\\lambda_{1}$\n",
    "$H_{A}=\\lambda_{0}$  \n",
    "$LR(\\bar{X},\\lambda_{0},\\lambda_{1}) = \\frac{L\\left( \\bar{X},\\lambda_{0} \\right)}{L\\left( \\bar{X},\\lambda_{1} \\right)}= \\frac{\\lambda_{0}^{\\sum_{i=1}^{50}X_{i}}\\cdot exp(-n\\cdot \\lambda_{0})}{\\lambda_{1}^{\\sum_{i=1}^{50}X_{i}}\\cdot exp(-n\\cdot \\lambda_{1})}$    \n",
    "$\\sqrt{n}\\frac{\\overline{X}-\\lambda_{1}}{\\sqrt{\\overline{X}}}\\sim N(0,1)$   \n",
    "$P\\left(\\sqrt{n}\\frac{\\overline{X}-\\lambda_{1}}{\\sqrt{\\overline{X}}} \\right)\\gt \\sqrt{n}\\frac{\\overline{X}-\\lambda_{1}}{\\sqrt{\\overline{X}}}=1-\\Phi\\left(\\sqrt{n}\\frac{\\overline{X}-\\lambda_{1}}{\\sqrt{\\overline{X}}} \\right)=\\alpha_{1}$  \n",
    "$\\Phi\\left(\\sqrt{n}\\frac{\\overline{X}-\\lambda_{1}}{\\sqrt{\\overline{X}}} \\right)=1-\\alpha_{1}=0.99$ \n",
    "$$ \\phi(x) =\n",
    "\\begin{cases}\n",
    "0,\\; если\\: \\bar X>c, \\lambda_1=2.8\\\\\n",
    "1,\\; если\\: \\bar X<c, \\lambda_1=2.8\\\\\n",
    "\\end{cases} $$\n",
    "$\\sqrt{n}\\frac{\\overline{X}-\\lambda_{1}}{\\sqrt{\\overline{X}}}\\gt \\sqrt{n}\\frac{c-\\lambda_{1}}{\\sqrt{\\overline{X}}}=2.3\\: c=3.07\\gt \\overline{X}$ - гипотезу отвергаем  \n",
    "Если поменять местами основную и альтернативную гипотезы, то вместо статистики отношения правдоподобия мы будем рассчитывать ее обратное значение."
   ]
  },
  {
   "cell_type": "markdown",
   "id": "e96f842c-8bed-4cd2-b9c8-d498d249ea0b",
   "metadata": {},
   "source": [
    "**h.c)В предположении, что исходные наблюдения являются выборкой из геометрического распределения, построить ОМП и ОММ параметра** $\\lambda$ **.Найти смещение оценки.**"
   ]
  },
  {
   "cell_type": "markdown",
   "id": "160e9d9b-a404-496d-8a4e-794e79bd3499",
   "metadata": {},
   "source": [
    "h.c) $x_1,\\cdots x_{50}\\sim \\mathcal{Geom}(\\lambda)$  \n",
    "$\\mathbb{P}_\\lambda(x=k)=\\cfrac{\\lambda^{k}}{(\\lambda+1)^{k+1}}, k\\in\\mathbb Z_+$   \n",
    "Оценка максимального правдоподобия параметра $\\lambda$:  \n",
    "$L(x_1, \\cdots, x_{50};\\lambda) =\\prod_{i=1}^{50}\\cfrac{\\lambda^{x_i}}{(\\lambda+1)^{x_i+1}}$  \n",
    "$LL(x_1, \\cdots, x_{50};\\lambda)=(x_1+ \\cdots+ x_{50})\\ln λ -(x_1+ \\cdots+ x_{50}+50)\\ln (λ+1)$  \n",
    "$\\cfrac{\\delta LL(x_1, \\cdots, x_{50};\\lambda)}{\\delta\\lambda}=\\cfrac{\\sum_{i=1}^{50}x_i}{\\lambda}-\\cfrac{\\sum_{i=1}^{50}x_i+50}{\\lambda+1}=\\cfrac{\\sum_{i=1}^{50}x_i-50\\lambda}{\\lambda^2+\\lambda}=\\cfrac{\\sum_{i=1}^{50}x_i}{\\lambda^2+\\lambda}-\\cfrac{50}{\\lambda+1}=0$  \n",
    "$\\widehat{\\lambda}=\\bar{x}=0.7$   \n",
    "Оценка методом моментов параметра $\\lambda$:  \n",
    "Теоретический момент первого порядка: $\\mathbb{E}(X_1)=\\cfrac{1}{\\lambda}$    \n",
    "Эмпирический момент первого порядка: $M_1=\\cfrac{1}{\\bar{x}}$  \n",
    "Тогда: $\\widehat{\\lambda}=\\bar{X}=0.7$  - ОММ   \n",
    "$\\widehat{\\lambda}=\\bar{x}$  - ОМП  \n",
    "$T=\\sum_{i=1}^nx_i$-МДС и ПДС, так как геометрическое распределение сходится к экспоненциальному.  \n",
    "$g\\left(T(\\overrightarrow{X})\\right)=\\frac{\\lambda^{\\sum_{i=1}^{n}x_{i}}}{(\\lambda+1)^{\\sum_{i=1}^{n}x_{i}+n}}$  \n",
    "$h(\\overrightarrow{X})=1$  \n",
    "$\\mathbb{E}_{\\lambda}(\\bar x)=\\mathbb{E}_{\\lambda}\\cfrac{1}{n}\\sum_{i=1}^nx_i=\\cfrac{1}{n}\\mathbb{E}_{\\lambda}\\sum_{i=1}^nx_i=\\cfrac{1}{n}\\cdot n\\lambda=\\lambda=0.7$ - НРМД"
   ]
  },
  {
   "cell_type": "markdown",
   "id": "9d7bea2f-2ad4-48ff-a62a-8f690dde6593",
   "metadata": {},
   "source": [
    "**h.d)Построить А.Д.И. уровня значимости** $\\alpha_1$ **для параметра** $\\lambda$ **на базе ОМП**"
   ]
  },
  {
   "cell_type": "markdown",
   "id": "1be8f2a7-a52b-4c20-a401-ab136a3edcbc",
   "metadata": {},
   "source": [
    "h.d) $\\alpha_1=0.01$   \n",
    "$\\widehat{\\lambda}=\\bar{X}=0.7$ -ОМП\n",
    "$\\sqrt{n}\\left( \\widehat{\\theta}(\\overrightarrow{X})-\\theta \\right)\\sim N\\left( 0, \\frac{1}{I(\\theta)} \\right)$  \n",
    "$\\sqrt{n\\cdot I\\left(  \\widehat{\\theta}(\\overrightarrow{X})\\right)}\\left( \\widehat{\\theta}(\\overrightarrow{X})-\\theta \\right)\\sim N(0,1)$\n",
    "$I(\\theta)=-\\mathbb{E}\\left( \\frac{\\partial^{2} LL}{\\partial \\lambda^{2}} \\right)=-\\mathbb{E}\\left( -\\frac{\\sum_{i=1}^{n}X_{i}}{\\lambda^{2}}+\\frac{\\sum_{i=1}^{n}X_{i}+n}{(\\lambda +1)^{2}} \\right)=\\frac{n}{\\lambda^{2}}-\\mathbb{E}\\left( \\frac{\\sum_{i=1}^{n}X_{i}+n}{(\\lambda+1)^{2}} \\right) = \\frac{n}{\\lambda^{2}}-\\mathbb{E}\\left( \\frac{\\sum_{i=1}^{n}X_{i}}{(\\lambda+1)^{2}} \\right)-\\mathbb{E}\\left( \\frac{n}{(\\lambda+1)^{2}} \\right)=\\frac{n}{\\lambda^{2}}-\\frac{n}{(\\lambda+1)^{2}}-\\frac{n}{(\\lambda+1)^{2}}=\\frac{n(\\lambda^{2}+1)}{(\\lambda+1)^{2}\\cdot \\lambda^{2}}$\n",
    "$x_\\alpha=S_{n-1}^{-1}(\\cfrac{1-\\alpha_1}{2})=S_{n-1}^{-1}(0.49)\\approx2.33$   \n",
    "$\\left[ \\bar{X}-\\frac{x_{\\alpha}}{\\sqrt{n\\cdot \\frac{n(\\widehat{\\lambda^{2}}+1)}{(\\widehat{\\lambda}+1)^{2}\\cdot \\widehat{\\lambda^{2}}}}};\\bar{X}+\\frac{x_{\\alpha}}{\\sqrt{n\\cdot \\frac{n(\\widehat{\\lambda^{2}}+1)}{(\\widehat{\\lambda}+1)^{2}\\cdot \\widehat{\\lambda^{2}}}}} \\right]$  \n",
    "$0.661\\le \\lambda\\le 0.739$ - АДИ параметра $\\lambda$."
   ]
  },
  {
   "cell_type": "code",
   "execution_count": 10,
   "id": "45ea94fa-f14b-4b94-b543-e95f5b2215dd",
   "metadata": {},
   "outputs": [
    {
     "name": "stdout",
     "output_type": "stream",
     "text": [
      "0.6611848584802962 0.7388151415197037\n"
     ]
    }
   ],
   "source": [
    "left_border = E - (2.33 * SKO / math.sqrt(n*n*(E**2+1)/((E+1)**2*(E**2))))\n",
    "right_border = E + (2.33 * SKO / math.sqrt(n*n*(E**2+1)/((E+1)**2*(E**2))))\n",
    "print(left_border,right_border)"
   ]
  },
  {
   "cell_type": "markdown",
   "id": "94f9ddb5-b16c-41e6-857a-df532fc7e892",
   "metadata": {},
   "source": [
    "**h.e)Используя гистограмму частот, построить критерий значимости** $\\mathcal{X^{2}}$ **проверки простой гипотезы согласия с геометрическим распределением с параметром** $\\lambda_{0}$. **Проверить гипотезу на урокень значимости** $\\alpha_{1}$. **Вычислить наибольшее значение уровня значимости, на котором ещё нет оснований отвергнуть данную гипотезу.**"
   ]
  },
  {
   "cell_type": "code",
   "execution_count": 11,
   "id": "83aca105-ea43-4c96-89b9-5b33e1167016",
   "metadata": {},
   "outputs": [
    {
     "name": "stdout",
     "output_type": "stream",
     "text": [
      "[0.5882352941176471, 0.2422, 0.0997, 0.0411]\n",
      "[29.4118, 12.11, 4.985, 2.055]\n",
      "[0.3958, 0.6897, 0.8145, 0.0015] 1.9015\n",
      "0.7538694373470622\n"
     ]
    }
   ],
   "source": [
    "def geom(x, lambd):\n",
    " res_g = 0\n",
    " for i in range(0, x + 1):\n",
    "     res_g += (lambd**i)/((lambd+1)**(i+1))\n",
    " return res_g\n",
    "I = [(-math.inf, 0), (0, 1), (1, 2), (2, 3)]\n",
    "n_i = [26,15,7,2]\n",
    "p_i = []\n",
    "np_i = []\n",
    "n_i_np_i = []\n",
    "res = []\n",
    "p_i.append(geom(0, lam0))\n",
    "for i in range(1, len(n_i)):\n",
    " p_i.append(round(geom(I[i][1], lam0) - geom(I[i][0], lam0), 4))\n",
    "print(p_i)\n",
    "for i in range(4):\n",
    " np_i.append(round(p_i[i]*n, 4))\n",
    "print(np_i)\n",
    "for i in range(len(n_i)):\n",
    " n_i_np_i.append(round(n_i[i] - np_i[i], 4))\n",
    "for i in range(len(n_i)):\n",
    " res.append(round((n_i_np_i[i] ** 2) / np_i[i] , 4))\n",
    "print(res, sum(res))\n",
    "print(1 - sp.chi2.cdf(sum(res), 4))"
   ]
  },
  {
   "cell_type": "markdown",
   "id": "61e54bed-b40d-41f8-995e-fe6d3e68457c",
   "metadata": {},
   "source": [
    "h.e) $\\lambda_0=0.70 \\:\\alpha_1=0.01$  \n",
    "$P_{i}=P_{H_{0}}=(X\\in I_{i})=\\sum_{k\\in I_{i}}^{}\\frac{\\lambda_{0}^{k}}{(\\lambda_{0}+1)^{k+1}}$  \n",
    "$I_{1}=\\left(-\\infty,0 \\right], n_{1}=26$  \n",
    "$P_{1}=\\frac{{0.7}^{0}}{({0.7}+1)^{0+1}}-\\frac{{0.7}^{-\\infty}}{({0.7}+1)^{-\\infty+1}}=0.588\\to nP_{1}=29.412$  \n",
    "$I_{2}=\\left(0,1\\right], n_{2}=15$  \n",
    "$P_{2}=\\frac{{0.7}^{1}}{({0.7}+1)^{1+1}}-\\frac{{0.7}^{0}}{({0.7}+1)^{0+1}}=0.242\\: nP_{2}=12.11$  \n",
    "$I_{3}=\\left( 1,2 \\right], n_{3}=7$  \n",
    "$P_{3}=\\frac{{0.7}^{2}}{({0.7}+1)^{2+1}}-\\frac{{0.7}^{1}}{({0.7}+1)^{1+1}}=0.099\\: nP_{3}=4.985$  \n",
    "$I_{4}=\\left(2,3 \\right], n_{4}=2$  \n",
    "$P_{4}=\\frac{{0.7}^{3}}{({0.7}+1)^{3+1}}-\\frac{{0.7}^{2}}{({0.7}+1)^{2+1}}=0.041\\: nP_{4}=2.055$  \n",
    "Критерий $\\mathcal{X}^{2}: \\mathcal{X}^{2}_{набл}=\\sum_{i=1}^{4}\\frac{(n_{i}-np_{i})^{2}}{np_{i}} =1.902$  \n",
    "$\\mathcal{X}^{2}_{N-1,1-\\alpha_{1}}=\\mathcal{X}^{2}_{3,0.99}\\approx 11.345$  \n",
    "$\\mathcal{X}^{2}< \\mathcal{X}^{2}_{3,0.99}$ - нет оснований отвергнуть гипотезу(критерий Пирсона) \n",
    "$F^{-1}_{\\mathcal{X}^2_3}(1-\\alpha)=\\mathcal{X}^2$    \n",
    "$\\alpha=1-F_{\\mathcal{X}^2_3}(\\mathcal{X}^2)\\approx 0.754$ :"
   ]
  },
  {
   "cell_type": "markdown",
   "id": "320f6d40-a5dd-4b23-9ada-7bc31ad844a9",
   "metadata": {},
   "source": [
    "**h.f)Построить критерий значимости**  $\\mathcal{X^{2}}$ **проверки сложной гипотезы согласия с геометрическим распределением. Проверить гипотезу по уровню значимости** $\\alpha_{1}$.**Вычислить наибольшее значение уровня значимости, на котором ещё нет оснований отвергнуть данную гипотезу.**"
   ]
  },
  {
   "cell_type": "code",
   "execution_count": 12,
   "id": "3ecedc22-1765-445b-afe0-ab212c3632d7",
   "metadata": {},
   "outputs": [
    {
     "name": "stdout",
     "output_type": "stream",
     "text": [
      "0.9172353372887041 0.9450147197216162\n",
      "0.9180157559891935\n"
     ]
    },
    {
     "name": "stderr",
     "output_type": "stream",
     "text": [
      "C:\\Users\\asus\\AppData\\Local\\Temp\\ipykernel_10896\\1636489139.py:8: DeprecationWarning: Conversion of an array with ndim > 0 to a scalar is deprecated, and will error in future. Ensure you extract a single element from your array before performing this operation. (Deprecated NumPy 1.25.)\n",
      "  theta_minimized = float(minimize(chi_squared, lam0).x)\n"
     ]
    }
   ],
   "source": [
    "def chi_squared(x):\n",
    " p_min = geom(0, x)\n",
    " res_f = ((n_i[0]-n*p_min)**2)/(n*p_min)\n",
    " for i in range(1, len(n_i)):\n",
    "     p_min = geom(I[i][1], x) - geom(I[i][0], x)\n",
    "     res_f += ((n_i[i]-n*p_min)**2)/(n*p_min)\n",
    " return res_f\n",
    "theta_minimized = float(minimize(chi_squared, lam0).x)\n",
    "print(theta_minimized, chi_squared(theta_minimized))\n",
    "print(1 - sp.chi2.cdf(chi_squared(theta_minimized), 4))"
   ]
  },
  {
   "cell_type": "markdown",
   "id": "7c193772-c04e-436f-9bdd-d1d7468cea73",
   "metadata": {},
   "source": [
    "h.f) $\\lambda_0=0.70 \\:\\alpha_1=0.01$  \n",
    "Минимализируем функцию:$\\mathcal{X}^{2}(\\theta)=\\sum_{i=1}^{4}\\frac{(n_{i}-np_{i}(\\theta))^{2}}{np_{i}(\\theta)}$  \n",
    "$min(\\mathcal{X}^{2}(\\theta))= 0.945$ при $\\theta=0.917$  \n",
    "$\\mathcal{X}^{2}_{N-1,1-\\alpha_{1}}=\\mathcal{X}^{2}_{3,0.99}\\approx 11.345>\\mathcal{X}^{2}(\\theta)$  \n",
    "Следовательно нулевую гипотезу нельзя отвергнуть. Найдём значение уровня\n",
    "значимости, на котором ещё нет оснований отвергнуть данную гипотезу:  \n",
    "$F^{-1}_{\\mathcal{X}^2_3}(1-\\alpha)=\\mathcal{X}^2$    \n",
    "$\\alpha=1-F_{\\mathcal{X}^2_3}(\\mathcal{X}^2)=0.918$ "
   ]
  },
  {
   "cell_type": "markdown",
   "id": "cff70eb4-c16d-468a-9ee6-b0ebfede4cff",
   "metadata": {},
   "source": [
    "**Задание 2  \n",
    "Дано: 2.885 3.276 2.277 5.621 2.38 1.092 2.935 1.508 4.027 3.691 4.022 2.416 1.857 2.312 2.372 1.679 2.233 2.839 4.865 3.2 2.371 4.502 2.547 2.107 3.353 2.544 4.214 1.656 2.869 2.831 2.45 1.912 4.334 3.692 2.74 0.878 2.673 3.34 3.331 4.203 4.25 2.549 4.355 2.468 2.51 2.696 3.95 4.802 2.892 3.37  \n",
    "a)Построить вариционный ряд, эмпирическую функцию распределения,гистограмму и полигон частот с шагом h=0.4.**"
   ]
  },
  {
   "cell_type": "code",
   "execution_count": 13,
   "id": "1bab55ed-f2fd-4962-9a3b-c144f346ba89",
   "metadata": {},
   "outputs": [
    {
     "name": "stdout",
     "output_type": "stream",
     "text": [
      "Задание 2\n",
      "Дано: 2.885 3.276 2.277 5.621 2.38 1.092 2.935 1.508 4.027 3.691 4.022 2.416 1.857 2.312 2.372 1.679 2.233 2.839 4.865 3.2 2.371 4.502 2.547 2.107 3.353 2.544 4.214 1.656 2.869 2.831 2.45 1.912 4.334 3.692 2.74 0.878 2.673 3.34 3.331 4.203 4.25 2.549 4.355 2.468 2.51 2.696 3.95 4.802 2.892 3.377\n",
      "n = 50\n",
      "Вариационный ряд: 0.878 1.092 1.508 1.656 1.679 1.857 1.912 2.107 2.233 2.277 2.312 2.371 2.372 2.38 2.416 2.45 2.468 2.51 2.544 2.547 2.549 2.673 2.696 2.74 2.831 2.839 2.869 2.885 2.892 2.935 3.2 3.276 3.331 3.34 3.353 3.377 3.691 3.692 3.95 4.022 4.027 4.203 4.214 4.25 4.334 4.355 4.502 4.802 4.865 5.621\n"
     ]
    }
   ],
   "source": [
    "print(\"Задание 2\")\n",
    "a2=[2.885, 3.276, 2.277, 5.621, 2.380, 1.092, 2.935, 1.508, 4.027, 3.691, 4.022, 2.416, 1.857, 2.312, 2.372, 1.679, 2.233, 2.839, 4.865, 3.200, 2.371,\n",
    "4.502, 2.547, 2.107, 3.353, 2.544, 4.214, 1.656, 2.869, 2.831, 2.450, 1.912, 4.334, 3.692, 2.740, 0.878, 2.673, 3.340, 3.331, 4.203, 4.250, 2.549,\n",
    "4.355, 2.468, 2.510, 2.696, 3.950, 4.802, 2.892, 3.377]\n",
    "n2=len(a2)\n",
    "print(\"Дано:\",end=\" \")\n",
    "print(*a2)\n",
    "print (\"n =\",n)\n",
    "asort2=a2.copy()\n",
    "asort2.sort()\n",
    "print (\"Вариационный ряд:\", end=\" \")\n",
    "print(*asort2)"
   ]
  },
  {
   "cell_type": "code",
   "execution_count": 14,
   "id": "8e0044c4-9977-435e-b056-29be8e459b40",
   "metadata": {},
   "outputs": [
    {
     "name": "stdout",
     "output_type": "stream",
     "text": [
      "{0.878: 0.02, 1.092: 0.04, 1.508: 0.06, 1.656: 0.08, 1.679: 0.1, 1.857: 0.12, 1.912: 0.14, 2.107: 0.16, 2.233: 0.18, 2.277: 0.2, 2.312: 0.22, 2.371: 0.24, 2.372: 0.26, 2.38: 0.28, 2.416: 0.3, 2.45: 0.32, 2.468: 0.34, 2.51: 0.36, 2.544: 0.38, 2.547: 0.4, 2.549: 0.42, 2.673: 0.44, 2.696: 0.46, 2.74: 0.48, 2.831: 0.5, 2.839: 0.52, 2.869: 0.54, 2.885: 0.56, 2.892: 0.58, 2.935: 0.6, 3.2: 0.62, 3.276: 0.64, 3.331: 0.66, 3.34: 0.68, 3.353: 0.7, 3.377: 0.72, 3.691: 0.74, 3.692: 0.76, 3.95: 0.78, 4.022: 0.8, 4.027: 0.82, 4.203: 0.84, 4.214: 0.86, 4.25: 0.88, 4.334: 0.9, 4.355: 0.92, 4.502: 0.94, 4.802: 0.96, 4.865: 0.98, 5.621: 1.0}\n"
     ]
    },
    {
     "data": {
      "image/png": "[encoded data removed]",
      "text/plain": [
       "<Figure size 640x480 with 1 Axes>"
      ]
     },
     "metadata": {},
     "output_type": "display_data"
    }
   ],
   "source": [
    "df2={}\n",
    "for i in range(0, len(asort2)):\n",
    " df2.update({asort2[i]: float((i + 1) / n2)})\n",
    "print(df2)\n",
    "df2.update({-1: 0})\n",
    "df2.update({7: 1})\n",
    "plt.xlim(0, 7)\n",
    "plt.title('Эмпирическая функция распределения')\n",
    "plt.xticks([x for x in range(0, 7)])\n",
    "plt.grid()\n",
    "d2_un = [-1, *asort2, 7]\n",
    "for i in range(0, n+1):\n",
    " plt.hlines(y=df2[d2_un[i]], xmin=d2_un[i], xmax=d2_un[i+1])\n",
    " plt.plot(d2_un[i], df2[d2_un[i]], marker='o', color='b')\n",
    "plt.show()"
   ]
  },
  {
   "cell_type": "code",
   "execution_count": 15,
   "id": "68fdf57a-9433-4387-b60f-eba1de0b7ca9",
   "metadata": {},
   "outputs": [
    {
     "data": {
      "text/plain": [
       "[<matplotlib.lines.Line2D at 0x24ad23e1410>]"
      ]
     },
     "execution_count": 15,
     "metadata": {},
     "output_type": "execute_result"
    },
    {
     "data": {
      "image/png": "[encoded data removed]",
      "text/plain": [
       "<Figure size 640x480 with 1 Axes>"
      ]
     },
     "metadata": {},
     "output_type": "display_data"
    }
   ],
   "source": [
    "h=0.4\n",
    "shag = np.arange(min(asort2), max(asort2) + h, h)\n",
    "plt.hist(asort2, bins=shag,color='b',edgecolor='black', alpha=0.5, label='Гистограмма')\n",
    "plt.title(\"Гистограмма и полигон частот с h=0.4\")\n",
    "hist, _ = np.histogram(asort2, bins=shag)\n",
    "centers = 0.5 * (shag[1:] + shag[:-1])\n",
    "plt.plot(centers, hist, color='red', marker='o', linestyle='-', label='Полигон')"
   ]
  },
  {
   "cell_type": "markdown",
   "id": "dc906c02-72fa-42f2-a608-48a9ab783e5a",
   "metadata": {},
   "source": [
    "**b) Вычислить выборочные аналоги следующих числовых характеристик: (i) математического ожидания, (ii)дисперсии, (iii) медианы, (iv)ассиметрии, (v)эксцесса, (vi)вероятности** $\\mathbb{P}(X\\in[c,d])$ **при** $c=2.60$ $d=3.20$"
   ]
  },
  {
   "cell_type": "code",
   "execution_count": 16,
   "id": "6a7d945d-2228-44c4-b420-9ce2beb00409",
   "metadata": {},
   "outputs": [
    {
     "name": "stdout",
     "output_type": "stream",
     "text": [
      "2.9976600000000007\n",
      "1.0126833044\n",
      "1.006321670441415\n",
      "2.835\n",
      "0.3406524429217586\n",
      "-0.2265474718127063\n",
      "1.033350310612245\n",
      "-0.0206670062122449\n"
     ]
    }
   ],
   "source": [
    "E2=sum(asort2)/n\n",
    "print (E2)\n",
    "deviations2 = [(x - E2) ** 2 for x in asort2] \n",
    "D2 = sum(deviations2) / n \n",
    "print (D2)\n",
    "SKO2=D2**(1/2)\n",
    "print (SKO2)\n",
    "if n % 2: \n",
    "    Me2=(asort2)[n//2] \n",
    "else:\n",
    "    Me2=sum((asort2)[n//2 - 1:n//2 + 1]) / 2 \n",
    "print (Me2)\n",
    "deviations2 = [(x - E2) ** 3 for x in asort2]\n",
    "Skew2=sum(deviations2) / (n *(SKO2**3))\n",
    "print (Skew2)\n",
    "deviations2 = [(x - E2) ** 4 for x in asort2]\n",
    "Kurt2=sum(deviations2) / (n *(SKO2**4))-3\n",
    "print (Kurt2)\n",
    "Sigma2=n*D2/(n-1)\n",
    "print(Sigma2)\n",
    "bias=-Sigma2/n\n",
    "print(bias)"
   ]
  },
  {
   "cell_type": "markdown",
   "id": "b7cc0e92-228b-4794-adb6-004d1959895e",
   "metadata": {},
   "source": [
    "b)$\\mathbb{E}_\\xi=\\bar{x}=\\cfrac{1}{n}\\sum_{i=1}^nx_i=2.998$  \n",
    "$\\mathbb{D}_\\xi=S^2=\\cfrac{\\sum_{i=1}^n(x_i-\\bar x)^2}{n}=1.01$  \n",
    "$\\sigma=\\sqrt{S^2}=1.006$  \n",
    "$Me=\\cfrac{x_{\\cfrac{n}{2}}+x_{\\cfrac{n}{2}+1}}{2}=2.835$  \n",
    "$\\widehat{Skew}=\\cfrac{\\cfrac{\\sum_{i=1}^n(x_i-\\bar x)^3}{n}}{S^3}=0.34$    \n",
    "$\\widehat{Kurt}=\\cfrac{\\cfrac{\\sum_{i=1}^n(x_i-\\bar x)^4}{n}}{S^4}-3=-0.227$   \n",
    "$c=2.60$ $d=3.20$  \n",
    "$\\mathbb{P}(X\\in[c,d])=F(d)-F(c)=0.62-0.42=0.2$"
   ]
  },
  {
   "cell_type": "markdown",
   "id": "7bb38a82-f5da-4215-b9e4-91fad0cf2d86",
   "metadata": {},
   "source": [
    "**c)В предположении, что исходные наблюдения являются выборкой из нормального распределения, построить ОМП и ОММ параметра $(a, \\sigma^2)$.Найти смещение оценки.**"
   ]
  },
  {
   "cell_type": "markdown",
   "id": "9c7a6f77-b7cd-4956-bc2a-693784b4d4cb",
   "metadata": {},
   "source": [
    "c) $x_1,\\cdots x_{50}\\sim \\mathscr{N}(a,\\sigma^2)$   \n",
    "Оценка максимального правдоподобия параметров а и $\\sigma^2$:  \n",
    "$L(x_1, \\cdots, x_{n};\\theta) =(2\\pi)^{-\\cfrac{n}{2}}\\sigma^{-n}exp(-\\cfrac{1}{2\\sigma^2}\\sum_{i=1}^{n}x_i^2+\\cfrac{a}{\\sigma^2}\\sum_{i=1}^{n}x_i-\\cfrac{n a^2}{2\\sigma^2})$  \n",
    "$LL(x_1, \\cdots, x_{n};\\theta)=-\\cfrac{n}{2}\\ln2\\pi-n \\ln\\sigma-(\\cfrac{1}{2\\sigma^2}\\sum_{i=1}^{n}x_i^2+\\cfrac{a}{\\sigma^2}\\sum_{i=1}^{n}x_i-\\cfrac{n a^2}{2\\sigma^2})$   \n",
    "$\\cfrac{\\delta LL(x_1, \\cdots, x_{n};\\lambda)}{\\delta a}=\\cfrac{1}{\\sigma^2}\\sum_{i=1}^{n}(x_i-na)=0$    \n",
    "$\\widehat{a}=\\bar{x}=2.998$  \n",
    "$\\cfrac{\\delta LL(x_1, \\cdots, x_{n};\\lambda)}{\\delta\\sigma}=\\cfrac{n}{\\sigma}+\\cfrac{1}{\\sigma^3}\\sum_{i=1}^{n}(x_i-na)^2=0$    \n",
    "$\\widehat{\\sigma^2}=\\cfrac{1}{n}\\sum_{i=1}^{n}(x_i-na)^2=S^2=1.01$   \n",
    "Оценка методом моментов параметров а и $\\sigma^2$:   \n",
    "Теоретический момент первого порядка нормального распределения: $\\mathbb{E}(X_1)=a$  \n",
    "Эмпирический момент первого порядка: $M_1=\\bar{x}=\\cfrac{1}{n}\\sum_{i=1}^nx_i$  \n",
    "Теоретический момент второго порядка нормального распределения: $\\mathbb{E}(X_2)=a^2+\\sigma^2$  \n",
    "Эмпирический момент второго порядка: $M_2=\\bar x^2=\\cfrac{1}{n}\\sum_{i=1}^{n}(x_i-na)^2$  \n",
    "Тогда: $\\widehat{a}=\\bar{x}=2.998$   \n",
    "$\\widehat{\\sigma^2}=\\bar{x^2}-\\bar x^2=S^2=1.01$  \n",
    "$\\widehat\\theta=(\\widehat{a},\\widehat{\\sigma^2})=(\\bar{x},S^2)=(2.998,1.01)$ - ОМП  \n",
    "$T=(\\sum_{i=1}^nx_i,\\sum_{i=1}^nx_i^2)$ - МДС и ПДС, так как нормальное распределение относится к экспоненциальному семейству.\n",
    "$\\mathbb{E}_\\theta(\\bar x)=\\mathbb{E}_\\theta\\cfrac{1}{n}\\sum_{i=1}^nx_i=\\cfrac{1}{n}\\mathbb{E}_{\\theta}\\sum_{i=1}^nx_1=\\cfrac{1}{n}\\cdot na=a=2.998$ - НРМД    \n",
    "$\\mathbb{E}_\\theta(S^2)=\\cfrac{1}{n}\\sum_{i=1}^{n}(x_i-na)^2=\\cfrac{na^2+n^2a^2+n^2a^2-na^2-n^2a^2}{n}=\\cfrac{(n-1)\\sigma^2}{n}$  \n",
    "$\\widetilde{\\sigma^2}=\\cfrac{n}{n-1}S^2=1.03$ - НРМД  \n",
    "$bias_{\\theta}(\\sigma^2)=\\mathbb{E}_\\Theta(S^2)-\\sigma^2=\\cfrac{(n-1)\\sigma^2}{n}-\\sigma^2=-\\cfrac{\\sigma^2}{n}=-0.02$"
   ]
  },
  {
   "cell_type": "markdown",
   "id": "cfc5d6a3-8889-40f9-8666-bec14d13113f",
   "metadata": {},
   "source": [
    "**d) Построить доверительные интервалы уровня значимости** $\\alpha_2\\:(a, \\sigma^2\n",
    ")$."
   ]
  },
  {
   "cell_type": "code",
   "execution_count": 17,
   "id": "57837864-8bfd-4bda-98e4-b96db7fe7c29",
   "metadata": {
    "scrolled": true
   },
   "outputs": [
    {
     "name": "stdout",
     "output_type": "stream",
     "text": [
      "2.7561427990940612 3.23917720090594\n",
      "0.7632524151341574 1.4923125617447688\n"
     ]
    }
   ],
   "source": [
    "left_bordera = E2 - (1.68 * SKO2/ math.sqrt(n-1))\n",
    "right_bordera = E2 + (1.68 * SKO2 / math.sqrt(n-1))\n",
    "print(left_bordera,right_bordera)\n",
    "right_borders = n*D2/33.93\n",
    "left_borders = n*D2/66.34\n",
    "print(left_borders,right_borders)"
   ]
  },
  {
   "cell_type": "markdown",
   "id": "4e7db232-078a-4e12-b5b0-62ee7dfd1e0f",
   "metadata": {},
   "source": [
    "d) $\\alpha_2=0.10$  \n",
    "$\\sqrt{n}\\cfrac{\\bar x-a}{S}\\sim   N (0,1)$  \n",
    "$G(\\bar X,a)=\\sqrt{n-1}\\cfrac{\\bar x-a}{S}\\sim  S_{n-1}$   \n",
    "$\\mathbb{P}(-x_\\alpha\\leq\\sqrt{n-1}\\cfrac{\\bar x-a}{S}\\leq x_\\alpha)=1-\\alpha_2=0.9$  \n",
    "$\\mathbb{P}(\\bar x-\\cfrac{x_\\alpha S}{\\sqrt{n-1}}\\leq a\\leq\\bar x+\\cfrac{x_\\alpha S}{\\sqrt{n-1}})=2S_{n-1}=1-\\alpha_2$  \n",
    "$x_\\alpha\\approx 1.68$  \n",
    "$[2.756, 3.239]\\ni a$  \n",
    "$G(\\bar X,\\sigma^2)=\\cfrac{nS^2}{\\sigma^2}\\sim \\mathscr X^2_{n-1}$  \n",
    "$\\mathbb{P}(x_{\\alpha_1}\\leq\\cfrac{nS^2}{\\sigma^2}\\leq x_{\\alpha_2})=1-\\alpha_2=0.9$  \n",
    "$\\mathbb{P}(\\cfrac{nS^2}{x_{\\alpha_1}}\\leq\\sigma^2\\leq\\cfrac{nS^2}{x_{\\alpha_2}})=1-\\alpha_2=0.9$  \n",
    "$x_{\\alpha_1}: K_{n-1}(x_{\\alpha_1})=\\cfrac{\\alpha}{2}   \\;x_{\\alpha_2}: K_{n-1}(x_{\\alpha_2})=1-\\cfrac{\\alpha}{2}$  \n",
    "$x_{\\alpha_1}\\approx 66.34$  $x_{\\alpha_2}\\approx33.93$  \n",
    "$[0.763,1.492]\\ni\\sigma^2$"
   ]
  },
  {
   "cell_type": "markdown",
   "id": "49c2a60f-d191-436a-8716-4242297c4da9",
   "metadata": {},
   "source": [
    "**e)Построение критерия значимости проверки простой гипотезы согласия с нормальным распределением с параметрами** $a_0=3.0 \\:\\sigma_0=1.0$ **с использованием теоремы Колмогорова. Проверка гипотезы на уровне значимости** $\\alpha_2=0.1$. **Вычисление наименьшее значения уровня значимости, на котором ещё нет оснований отвергнуть гипотезу.**"
   ]
  },
  {
   "cell_type": "code",
   "execution_count": 18,
   "id": "733bc37a-886c-4e80-9fb2-1391e4c1dd43",
   "metadata": {},
   "outputs": [
    {
     "data": {
      "text/plain": [
       "KstestResult(statistic=0.12591299987187377, pvalue=0.37483734456058604, statistic_location=2.935, statistic_sign=1)"
      ]
     },
     "execution_count": 18,
     "metadata": {},
     "output_type": "execute_result"
    }
   ],
   "source": [
    "alpha_2 = 0.1\n",
    "a0=3.0\n",
    "sigma0=1.0\n",
    "sp.kstest(asort2, 'norm',args=(a0,sigma0))"
   ]
  },
  {
   "cell_type": "markdown",
   "id": "4ca0511d-0dee-4992-b61f-f29f1bf02feb",
   "metadata": {},
   "source": [
    "Был применен Kolmogorov-Smirnov тест для проверки нормальности распределения.  \n",
    "Результат теста представляет собой кортеж, содержащий статистику теста и p-значение.  \n",
    "Если p-значение меньше уровня значимости, то гипотеза о том, что данные имеют заданное распределение, отвергается.  \n",
    "$p-value>\\alpha_2=0.1$ - гипотезу не отвергаем  \n",
    "$max \\alpha=0.1$"
   ]
  },
  {
   "cell_type": "markdown",
   "id": "cf64acb8-0d67-4248-9e6d-f362b080d11b",
   "metadata": {},
   "source": [
    "**f)Используя гистограмму частот, построить критерий значимости** $\\mathcal{X^{2}}$ **проверки простой гипотезы согласия с нормальным распределением с параметрами** $a_0=3.0 \\:\\sigma_0=1.0$. **Проверить гипотезу на урокень значимости** $\\alpha_{2}=0.1$. **Вычислить наибольшее значение уровня значимости, на котором ещё нет оснований отвергнуть данную гипотезу.**"
   ]
  },
  {
   "cell_type": "code",
   "execution_count": 19,
   "id": "56302210-5b23-4402-8562-f6002768cd52",
   "metadata": {},
   "outputs": [
    {
     "name": "stdout",
     "output_type": "stream",
     "text": [
      "[0.1573, 0.3413, 0.3413, 0.1573]\n",
      "[7.865, 17.065, 17.065, 7.865]\n",
      "[0.0951, 2.0641, 3.8116, 1.2496] 7.2204\n",
      "0.12468948403248625\n"
     ]
    }
   ],
   "source": [
    "I = [(0, 2), (2,3), (3,4), (4, 6)]\n",
    "a0=3.0\n",
    "sigma0=1.0\n",
    "n_i = [7,23, 9, 11]\n",
    "p_i = []\n",
    "np_i = []\n",
    "n_i_np_i = []\n",
    "res = []\n",
    "for i in I:\n",
    " p_i.append(round(sp.norm.cdf(i[1], loc=a0,scale=sigma0) - sp.norm.cdf(i[0], loc=a0,scale=sigma0), 4))\n",
    "print(p_i)\n",
    "for i in range (4):\n",
    " np_i.append(round(n*p_i[i], 4))\n",
    "print(np_i)\n",
    "for i in range(len(n_i)):\n",
    " n_i_np_i.append(round(n_i[i] - np_i[i], 4))\n",
    "for i in range(len(n_i)):\n",
    " res.append(round((n_i_np_i[i] ** 2) / np_i[i] , 4))\n",
    "print(res, sum(res))\n",
    "print(1 - sp.chi2.cdf(sum(res), 4))"
   ]
  },
  {
   "cell_type": "markdown",
   "id": "6ae4b9e4-df91-422a-b1aa-583781572f8c",
   "metadata": {},
   "source": [
    "f) $a_0=3.00 \\:\\sigma_0=1.00\\:\\alpha_2=0.1$  \n",
    "$I_{1}=\\left(0,2 \\right], n_{1}=7$  \n",
    "$P_{1}=\\frac{1}{\\sqrt{2\\pi}}exp\\Biggl(-\\frac{(2-3)^2}{2}\\Biggr)-\\frac{1}{\\sqrt{2\\pi}}exp\\Biggl(-\\frac{(0-3)^2}{2}\\Biggr)=0.157\\: nP_{1}=7.865$  \n",
    "$I_{2}=\\left(2,3\\right], n_{2}=23$  \n",
    "$P_{2}=\\frac{1}{\\sqrt{2\\pi}}exp\\Biggl(-\\frac{(3-3)^2}{2}\\Biggr)-\\frac{1}{\\sqrt{2\\pi}}exp\\Biggl(-\\frac{(2-3)^2}{2}\\Biggr)=0.341\\: nP_{2}=17.065$  \n",
    "$I_{3}=\\left( 3,4 \\right], n_{3}=9$  \n",
    "$P_{3}=\\frac{1}{\\sqrt{2\\pi}}exp\\Biggl(-\\frac{(4-3)^2}{2}\\Biggr)-\\frac{1}{\\sqrt{2\\pi}}exp\\Biggl(-\\frac{(3-3)^2}{2}\\Biggr)=0.341\\: nP_{3}=17.065$  \n",
    "$I_{4}=\\left(4,6\\right], n_{4}=11$  \n",
    "$P_{4}=\\frac{1}{\\sqrt{2\\pi}}exp\\Biggl(-\\frac{(6-3)^2}{2}\\Biggr)-\\frac{1}{\\sqrt{2\\pi}}exp\\Biggl(-\\frac{(4-3)^2}{2}\\Biggr)=0.157\\: nP_{4}=7.865$  \n",
    "Критерий $\\mathcal{X}^{2}: \\mathcal{X}^{2}_{набл}=\\sum_{i=1}^{4}\\frac{(n_{i}-np_{i})^{2}}{np_{i}} =7.22$  \n",
    "$\\mathcal{X}^{2}_{N-1,1-\\alpha_{1}}=\\mathcal{X}^{2}_{3,0.9}\\simeq 6.251$  \n",
    "$\\mathcal{X}^{2}> \\mathcal{X}^{2}_{3,0.9}$ - отвергаем гипотезу (критерий Пирсона)   \n",
    "$F^{-1}_{\\mathcal{X}^2_3}(1-\\alpha)=\\mathcal{X}^2$    \n",
    "$\\alpha=1-F_{\\mathcal{X}^2_3}(\\mathcal{X}^2)=0.125$ :"
   ]
  },
  {
   "cell_type": "markdown",
   "id": "8c4bc1bb-1aef-4f39-8ce5-1b7f804e9268",
   "metadata": {},
   "source": [
    "**g)Построить критерий значимости**  $\\mathcal{X^{2}}$ **проверки сложной гипотезы согласия с нормальным распределением. Проверить гипотезу по уровню значимости** $\\alpha_{2}=0.1$.**Вычислить наибольшее значение уровня значимости, на котором ещё нет оснований отвергнуть данную гипотезу.**"
   ]
  },
  {
   "cell_type": "code",
   "execution_count": 20,
   "id": "9a24694d-e634-44fb-b39f-d517d9c41269",
   "metadata": {},
   "outputs": [
    {
     "name": "stdout",
     "output_type": "stream",
     "text": [
      "[0.0949, 0.0617, -0.0621, -0.0946]\n",
      "[4.745, 3.085, -3.105, -4.73]\n",
      "[1.0717, 128.5599, -47.192, -52.3114] 30.128199999999985\n",
      "4.608938298900078e-06\n"
     ]
    }
   ],
   "source": [
    "I = [(0, 2), (2,3), (3,4), (4, 6)]\n",
    "n_i = [7,23, 9, 11]\n",
    "p_i = []\n",
    "np_i = []\n",
    "n_i_np_i = []\n",
    "res = []\n",
    "for i in range(4):\n",
    " p_i.append(round(1/(2*3.14*(1.01)**(0.5))*math.e**(-((float(I[i][1])-2.998)**2)/(2*1.01)) -1/(2*3.14*(1.01)**(0.5))*math.e**(-((I[i][0]-2.998)**2)/(2*1.01)), 4))\n",
    "print(p_i)\n",
    "for i in range (4):\n",
    " np_i.append(round(n*p_i[i], 4))\n",
    "print(np_i)\n",
    "for i in range(len(n_i)):\n",
    " n_i_np_i.append(round(n_i[i] - np_i[i], 4))\n",
    "for i in range(len(n_i)):\n",
    " res.append(round((n_i_np_i[i] ** 2) / np_i[i] , 4))\n",
    "print(res, sum(res))\n",
    "print(1 - sp.chi2.cdf(sum(res), 4))"
   ]
  },
  {
   "cell_type": "markdown",
   "id": "8c68bba4-6755-4d40-b910-e46095813089",
   "metadata": {},
   "source": [
    "$\\widehat a=\\bar x=2.998 \\:\\widehat=S^2=1.01 - ОМП\\:\\alpha_2=0.1$  \n",
    "$I_{1}=\\left(0,2 \\right], n_{1}=7$  \n",
    "$P_{1}=\\frac{1}{\\sqrt{2\\pi\\cdot 1.01}}exp\\Biggl(-\\frac{(2-2.998)^2}{2\\cdot 1.01}\\Biggr)-\\frac{1}{\\sqrt{2\\pi\\cdot1.01}}exp\\Biggl(-\\frac{(0-2.998)^2}{2\\cdot 1.01}\\Biggr)=0.095\\: nP_{1}=4.745$  \n",
    "$I_{2}=\\left(2,3\\right], n_{2}=23$  \n",
    "$P_{2}=\\frac{1}{\\sqrt{2\\pi\\cdot 1.01}}exp\\Biggl(-\\frac{(3-2.998)^2}{2\\cdot 1.01}\\Biggr)-\\frac{1}{\\sqrt{2\\pi\\cdot1.01}}exp\\Biggl(-\\frac{(3-2.998)^2}{2\\cdot 1.01}\\Biggr)=0.062\\: nP_{2}=3.085$  \n",
    "$I_{3}=\\left( 3,4 \\right], n_{3}=9$  \n",
    "$P_{3}=\\frac{1}{\\sqrt{2\\pi\\cdot 1.01}}exp\\Biggl(-\\frac{(4-2.998)^2}{2\\cdot 1.01}\\Biggr)-\\frac{1}{\\sqrt{2\\pi\\cdot1.01}}exp\\Biggl(-\\frac{(3-2.998)^2}{2\\cdot 1.01}\\Biggr)=-0.062\\: nP_{3}=-3.105$  \n",
    "$I_{4}=\\left(4,6\\right], n_{4}=11$  \n",
    "$P_{4}=\\frac{1}{\\sqrt{2\\pi\\cdot 1.01}}exp\\Biggl(-\\frac{(6-2.998)^2}{2\\cdot 1.01}\\Biggr)-\\frac{1}{\\sqrt{2\\pi\\cdot1.01}}exp\\Biggl(-\\frac{(4-2.998)^2}{2\\cdot 1.01}\\Biggr)=-0.095\\: nP_{4}=-4.73$  \n",
    "Критерий $\\mathcal{X}^{2}: \\mathcal{X}^{2}_{набл}=\\sum_{i=1}^{4}\\frac{(n_{i}-np_{i})^{2}}{np_{i}} =30.128$  \n",
    "$\\mathcal{X}^{2}_{N-1,1-\\alpha_{1}}=\\mathcal{X}^{2}_{3,0.9}\\simeq 6.251$  \n",
    "$\\mathcal{X}^{2}> \\mathcal{X}^{2}_{3,0.9}$ - отвергаем гипотезу (критерий Пирсона)   \n",
    "$F^{-1}_{\\mathcal{X}^2_3}(1-\\alpha)=\\mathcal{X}^2$    \n",
    "$\\alpha=1-F_{\\mathcal{X}^2_3}(\\mathcal{X}^2)=4.6\\cdot 10^{-6}$ "
   ]
  },
  {
   "cell_type": "markdown",
   "id": "ffdc3933-a639-4ae0-a7a0-ec0044bd10e5",
   "metadata": {},
   "source": [
    "**h)Построить наиболее мощный критерий проверки простой гипотезы о нормальности с параметрами**$a_0=3.0 \\:\\sigma_0=1.0$ **при альтернативе нормальности с параметром** $a_1=1.0 \\:\\sigma_0=1.0$. **Проверить гипотезу на уровне значимости** $\\alpha_2=0.1$"
   ]
  },
  {
   "cell_type": "markdown",
   "id": "f4518553-287f-470f-819a-ff177108b540",
   "metadata": {},
   "source": [
    "$H_0: F(x)\\in N(a_0,\\sigma^2);$  \n",
    "$H_1:F(x)\\in N(a_1,\\sigma^2)$  \n",
    "$L(\\bar X,a)=(\\cfrac{1}{\\sqrt{2\\pi\\sigma^2}})^n\\cdot exp\\Biggl(-\\cfrac{1}{2\\sigma^2}\\sum_{i=1}^n(x_{(i)}-a)^2\\Biggr)$ \n",
    "$\\Lambda(\\bar X)=\\cfrac{L(\\bar X,a_1)}{L(\\bar X,a_0)}=exp\\Biggl(\\cfrac{a_1-a_0}{\\sigma^2}(\\sum_{i=1}^n x_{(i)}-n\\cfrac{a_0+a_1}{2})\\Biggr)>c$ - $H_0$ отвергается  \n",
    "$\\cfrac{a_1-a_0}{\\sigma^2}(\\sum_{i=1}^n x_{(i)}-n\\cfrac{a_0+a_1}{2})>\\ln c$  \n",
    "$\\sum_{i=1}^n x_{(i)}<\\cfrac{\\sigma^2}{a_1-a_0}+n\\cfrac{a_0+a_1}{2}=c^{'}$  \n",
    "$T(X_n)=\\sum_{i=1}^n x_{(i)}<c^{'}$  \n",
    "$\\alpha=P(T(X_n)<c^{'}|H_0)=1-\\Phi(c^{'};na_0,n\\sigma^2)=1-\\Phi\\Biggl(\\cfrac{c^{'}-na+0}{\\sqrt{n\\sigma^2}}\\Biggr)$  \n",
    "$c^{'}=na_0+\\sqrt{n\\sigma^2}\\Phi^{-1}(1-\\alpha)$"
   ]
  },
  {
   "cell_type": "markdown",
   "id": "b98ba846-ef91-4eee-afe2-0e9299fa9486",
   "metadata": {},
   "source": [
    "**i.c)В предположении, что исходные наблюдения являются выборкой из распределения Лапласа, построить ОМП и ОММ параметров** $(a, \\sigma^2)$.**Найти смещение оценки.**"
   ]
  },
  {
   "cell_type": "markdown",
   "id": "2ddd3081-0b96-4484-a1f3-91ccc4f5cf3e",
   "metadata": {},
   "source": [
    "i.c)$p_{a,\\sigma}(x)=\\cfrac{1}{\\sqrt 2\\sigma}exp\\Biggl(-\\cfrac{\\sqrt 2}{\\sigma}|x-a|\\Biggr)$  \n",
    "$L(x_1, \\cdots, x_{n};\\theta) =(\\sqrt 2\\sigma)^{-n}exp\\Biggl(-\\cfrac{\\sqrt 2}{\\sigma}\\sum_{i=1}^n|x_{(i)}-a|\\Biggr)$  \n",
    "$L(x_1, \\cdots, x_{n};\\widehat a,\\sigma)=-n \\ln(\\sqrt 2\\sigma)(-\\cfrac{\\sqrt 2}{\\sigma}\\sum_{i=1}^n|x_{(i)}-a|)$  \n",
    "$\\cfrac{\\delta LL}{\\delta\\sigma}=-\\cfrac{n}{\\sigma}+\\cfrac{1}{\\sigma^2}\\sum_{i=1}^n|x_{(i)}-a|=0$  \n",
    "$\\widehat\\sigma=\\cfrac{1}{n}\\sum_{i=1}^n|x_{(i)}-a|$  \n",
    "$L(x_1, \\cdots, x_{n};a,\\widehat\\sigma)=-\\cfrac{1}{\\sigma}\\sum_{i=1}^n sign(x_{(i)}-a)=0$  \n",
    "$\\widehat a=Z_{n,\\cfrac{1}{2}}=2.835$  \n",
    "$\\widehat\\sigma^2=(\\cfrac{1}{n}\\sum_{i=1}^n|x_{(i)}-Z_{n,\\cfrac{1}{2}}|)^2=0.63$  \n",
    "Оценка методом моментов параметров а и $\\sigma^2$:   \n",
    "Теоретический момент первого порядка распределения: $\\mathbb{E}(X_1)=a$   \n",
    "Эмпирический момент первого порядка: $M_1=\\bar{x}=Z_{n,\\cfrac{1}{2}}$  \n",
    "Теоретический момент второго порядка распределения: $\\mathbb{E}(X_2)=\\sigma^2$  \n",
    "Эмпирический момент второго порядка: $M_2=\\bar {x^2}-\\bar x^2=\\cfrac{1}{n^2}\\sum_{i=1}^n|x_i-a|^2$  \n",
    "$\\widehat a=Z_{n,\\cfrac{1}{2}}=2.835$    \n",
    "$\\widehat\\sigma^2=(\\cfrac{1}{n}\\sum_{i=1}^n|x_{(i)}-Z_{n,\\cfrac{1}{2}}|)^2=0.63$     \n",
    "$T=(\\sum_{i=1}^nx_i)$ - МДС и ПДС, так как распределение из семейства Лапласа относится к экспоненциальному семейству.  \n",
    "$\\mathbb{E}_\\theta(Z_{n,\\cfrac{1}{2}})=a=2.835$ - НРМД        \n",
    "$\\mathbb{E}_\\theta(\\cfrac{1}{n}\\sum_{i=1}^n|x_{(i)}-Z_{n,\\cfrac{1}{2}}|)^2)=\\sigma^2$-нрмд   "
   ]
  },
  {
   "cell_type": "code",
   "execution_count": 34,
   "id": "95572ccd-7355-46a6-8faa-9d85be64b2ff",
   "metadata": {},
   "outputs": [
    {
     "name": "stdout",
     "output_type": "stream",
     "text": [
      "0.6325657155999999\n"
     ]
    }
   ],
   "source": [
    "deviations = [abs(x - Me2)  for x in asort2] \n",
    "sigma = sum(deviations) / n\n",
    "print(sigma**2)"
   ]
  },
  {
   "cell_type": "code",
   "execution_count": 22,
   "id": "23781871-7658-4d0f-bc06-e8f8b30f0d42",
   "metadata": {},
   "outputs": [
    {
     "name": "stdout",
     "output_type": "stream",
     "text": [
      "2.6445059056033493 3.0254940943966506\n",
      "0.4748266505878806 0.9283819628647215\n"
     ]
    }
   ],
   "source": [
    "left_bordera = 2.835 - (1.68 * (0.63)**(0.5)/ math.sqrt(n-1))\n",
    "right_bordera = 2.835 + (1.68 * (0.63)**(0.5) / math.sqrt(n-1))\n",
    "print(left_bordera,right_bordera)\n",
    "right_borders = n*0.63/33.93\n",
    "left_borders = n*0.63/66.34\n",
    "print(left_borders,right_borders)"
   ]
  },
  {
   "cell_type": "markdown",
   "id": "955ee5e6-b344-460b-9e2c-2dd5d854b118",
   "metadata": {},
   "source": [
    "**i.d) Построить доверительные интервалы уровня значимости** $\\alpha_2\\:(a, \\sigma^2).$"
   ]
  },
  {
   "cell_type": "markdown",
   "id": "ded6190e-4591-4544-a65f-cdbeb4fa5dac",
   "metadata": {},
   "source": [
    "$\\sqrt{n}\\cfrac{\\bar x-a}{S}\\sim   N (0,1)$  \n",
    "$G(\\bar X,a)=\\sqrt{n-1}\\cfrac{\\bar x-a}{S}\\sim  S_{n-1}$   \n",
    "$\\mathbb{P}(-x_\\alpha\\leq\\sqrt{n-1}\\cfrac{\\bar x-a}{S}\\leq x_\\alpha)=1-\\alpha_2=0.9$  \n",
    "$\\mathbb{P}(\\bar x-\\cfrac{x_\\alpha S}{\\sqrt{n-1}}\\leq a\\leq\\bar x+\\cfrac{x_\\alpha S}{\\sqrt{n-1}})=2S_{n-1}=1-\\alpha_2$  \n",
    "$x_\\alpha\\approx 1.68$  \n",
    "$[2.645, 3.025]\\ni a$  \n",
    "$G(\\bar X,\\sigma^2)=\\cfrac{nS^2}{\\sigma^2}\\sim \\mathscr X^2_{n-1}$  \n",
    "$\\mathbb{P}(x_{\\alpha_1}\\leq\\cfrac{nS^2}{\\sigma^2}\\leq x_{\\alpha_2})=1-\\alpha_2=0.9$  \n",
    "$\\mathbb{P}(\\cfrac{nS^2}{x_{\\alpha_1}}\\leq\\sigma^2\\leq\\cfrac{nS^2}{x_{\\alpha_2}})=1-\\alpha_2=0.9$  \n",
    "$x_{\\alpha_1}: K_{n-1}(x_{\\alpha_1})=\\cfrac{\\alpha}{2}   \\;x_{\\alpha_2}: K_{n-1}(x_{\\alpha_2})=1-\\cfrac{\\alpha}{2}$  \n",
    "$x_{\\alpha_1}\\approx 66.34$  $x_{\\alpha_2}\\approx33.93$  \n",
    "$[0.475,0.928]\\ni\\sigma^2$"
   ]
  },
  {
   "cell_type": "markdown",
   "id": "55a161e2-8a69-4123-b1ed-6344f99a6855",
   "metadata": {},
   "source": [
    "**i.e)Построение критерия значимости проверки простой гипотезы согласия с распределением Лапласа с параметрами** $a_0=3.0 \\:\\sigma_0=1.0$ **с использованием теоремы Колмогорова. Проверка гипотезы на уровне значимости** $\\alpha_2=0.1$. **Вычисление наибольшее значение уровня значимости, на котором ещё нет оснований отвергнуть гипотезу.**"
   ]
  },
  {
   "cell_type": "code",
   "execution_count": 33,
   "id": "7bb26182-1128-4a15-b1b1-1f34dd6fce28",
   "metadata": {},
   "outputs": [
    {
     "name": "stdout",
     "output_type": "stream",
     "text": [
      "0.19206415147703973\n"
     ]
    },
    {
     "data": {
      "text/plain": [
       "KstestResult(statistic=0.13146626831129826, pvalue=0.3243099003222637, statistic_location=2.935, statistic_sign=1)"
      ]
     },
     "execution_count": 33,
     "metadata": {},
     "output_type": "execute_result"
    }
   ],
   "source": [
    "alpha_2 = 0.1\n",
    "a0=3.0\n",
    "sigma0=1.0\n",
    "critic_value = kstwobign.ppf(1 - alpha_2/2) / np.sqrt(len(a2))\n",
    "print(critic_value)\n",
    "sp.kstest(asort2, 'laplace',args=(a0,sigma0))  "
   ]
  },
  {
   "cell_type": "markdown",
   "id": "7b01c7f4-4ab4-48e7-83b3-77be8448859b",
   "metadata": {},
   "source": [
    "Был применен Kolmogorov-Smirnov тест для проверки нормальности распределения.  \n",
    "Результат теста представляет собой кортеж, содержащий статистику теста и p-значение.  \n",
    "Если p-значение меньше уровня значимости, то гипотеза о том, что данные имеют заданное распределение, отвергается.  \n",
    "$p-value>\\alpha_2=0.1$ - гипотезу не отвергаем  \n",
    "$max \\alpha=0.1$"
   ]
  },
  {
   "cell_type": "markdown",
   "id": "bf93782f-45d5-4763-9daf-c1781993538f",
   "metadata": {},
   "source": [
    "**i.f)Построить критерий значимости** $\\mathcal{X^{2}}$ **проверки простой гипотезы согласия с распределением Лапласа с параметрами** $a_0=3.0 \\:\\sigma_0=1.0$. **Проверить гипотезу на урокень значимости** $\\alpha_{2}=0.1$. **Вычислить наибольшее значение уровня значимости, на котором ещё нет оснований отвергнуть данную гипотезу.**"
   ]
  },
  {
   "cell_type": "code",
   "execution_count": 25,
   "id": "91e7344d-7794-4514-ba48-133e32957f9e",
   "metadata": {},
   "outputs": [
    {
     "name": "stdout",
     "output_type": "stream",
     "text": [
      "[0.005734093087438325, 0.399, 0.097, 0.0293]\n",
      "[0.2867, 19.95, 4.85, 1.465]\n",
      "[157.1971, 0.4663, 3.551, 62.0589]\n",
      "223.27329999999998\n",
      "0.0\n"
     ]
    }
   ],
   "source": [
    "def lapl(x, a,sigma):\n",
    " res_g = 0\n",
    " for i in range(0, x + 1):\n",
    "     res_g += 1/(((2*3.14)**(0.5))*sigma)*math.e**(-((2**(0.5))*abs(i-a))/sigma)\n",
    " return res_g\n",
    "[(0, 2), (2,3), (3,4), (4, 6)]\n",
    "a0=3.0\n",
    "sigma0=1.0\n",
    "n_i = [7,23, 9, 11]\n",
    "p_i = []\n",
    "np_i = []\n",
    "n_i_np_i = []\n",
    "res = []\n",
    "p_i.append(lapl(0, a0,sigma0))\n",
    "for i in range(1, len(n_i)):\n",
    " p_i.append(round(lapl(I[i][1], a0,sigma0) - lapl(I[i][0], a0,sigma0), 4))\n",
    "print(p_i)\n",
    "for i in range(4):\n",
    " np_i.append(round(p_i[i]*n, 4))\n",
    "print(np_i)\n",
    "for i in range(len(n_i)):\n",
    " n_i_np_i.append(round(n_i[i] - np_i[i], 4))\n",
    "for i in range(len(n_i)):\n",
    " res.append(round((n_i_np_i[i] ** 2) / np_i[i] , 4))\n",
    "res, sum(res)\n",
    "print(res)\n",
    "print(sum(res))\n",
    "print(1 - sp.chi2.cdf(sum(res), 4))"
   ]
  },
  {
   "cell_type": "markdown",
   "id": "1796ef7d-c11d-4875-80fc-d744f7813c3f",
   "metadata": {},
   "source": [
    "i.f) $a_0=3.00 \\:\\sigma_0=1.00\\:\\alpha_2=0.1$  \n",
    "$I_{1}=\\left(0,2 \\right], n_{1}=7$  \n",
    "$P_{1}=\\frac{1}{\\sqrt{2}}exp\\Biggl(-\\sqrt2|2-3|)\\Biggr)-\\frac{1}{\\sqrt{2}}exp\\Biggl(-\\sqrt2|0-3|)\\Biggr)=0.006\\: nP_{1}=0.287$  \n",
    "$I_{2}=\\left(2,3\\right], n_{2}=23$  \n",
    "$P_{2}=\\frac{1}{\\sqrt{2}}exp\\Biggl(-\\sqrt2|3-3|)\\Biggr)-\\frac{1}{\\sqrt{2}}exp\\Biggl(-\\sqrt2|2-3|)\\Biggr)=0.024\\: nP_{2}=1.18$  \n",
    "$I_{3}=\\left( 3,4 \\right], n_{3}=9$  \n",
    "$P_{3}=\\frac{1}{\\sqrt{2}}exp\\Biggl(-\\sqrt2|4-3|)\\Biggr)-\\frac{1}{\\sqrt{2}}exp\\Biggl(-\\sqrt2|3-3|)\\Biggr)=0.097\\: nP_{3}=4.85$  \n",
    "$I_{4}=\\left(4,6\\right], n_{4}=11$  \n",
    "$P_{4}=\\frac{1}{\\sqrt{2}}exp\\Biggl(-\\sqrt2|6-3|)\\Biggr)-\\frac{1}{\\sqrt{2}}exp\\Biggl(-\\sqrt2|4-3|)\\Biggr)=0.399\\: nP_{4}=19.95$  \n",
    "Критерий $\\mathcal{X}^{2}: \\mathcal{X}^{2}_{набл}=\\sum_{i=1}^{4}\\frac{(n_{i}-np_{i})^{2}}{np_{i}} =568.248$  \n",
    "$\\mathcal{X}^{2}_{N-1,1-\\alpha_{1}}=\\mathcal{X}^{2}_{3,0.9}\\simeq 16.27$  \n",
    "$\\mathcal{X}^{2}\\gg \\mathcal{X}^{2}_{3,0.9}$ - отвергаем гипотезу (критерий Пирсона)   \n",
    "$F^{-1}_{\\mathcal{X}^2_3}(1-\\alpha)=\\mathcal{X}^2$    \n",
    "$\\alpha=1-F_{\\mathcal{X}^2_3}(\\mathcal{X}^2)\\ll 0.0$ :"
   ]
  },
  {
   "cell_type": "markdown",
   "id": "73bdaa32-1499-4562-94a6-a19fda3cc766",
   "metadata": {},
   "source": [
    "**i.g)Построить критерий значимости**  $\\mathcal{X^{2}}$ **проверки сложной гипотезы согласия с распределением Лапласа. Проверить гипотезу по уровню значимости** $\\alpha_{2}=0.1$.**Вычислить наибольшее значение уровня значимости, на котором ещё нет оснований отвергнуть данную гипотезу.**"
   ]
  },
  {
   "cell_type": "code",
   "execution_count": 23,
   "id": "d1f37a5e-3d7a-47bf-a36b-66a5b0c372dc",
   "metadata": {},
   "outputs": [
    {
     "name": "stdout",
     "output_type": "stream",
     "text": [
      "[0.1132, 0.3345, 0.0434, 0.0017]\n",
      "[5.66, 16.725, 2.17, 0.085]\n",
      "[0.3172, 2.3543, 21.4972, 1401.6144] 1425.7830999999999\n",
      "0.0\n"
     ]
    }
   ],
   "source": [
    "I = [(0, 2), (2,3), (3,4), (4, 6)]\n",
    "n_i = [7,23, 9, 11]\n",
    "p_i = []\n",
    "np_i = []\n",
    "n_i_np_i = []\n",
    "res = []\n",
    "for i in range(4):\n",
    " p_i.append(round(1/((2*3.14*0.63)**(0.5))*math.e**(-((2**(0.5))*abs(I[i][1]-2.835))/((0.63)**(0.5)) -1/((2*3.14*0.63)**(0.5))*math.e**(-((2**(0.5))*abs(I[i][0]-2.835))/((0.63)**(0.5)))), 4))\n",
    "print(p_i)\n",
    "for i in range (4):\n",
    " np_i.append(round(n*p_i[i], 4))\n",
    "print(np_i)\n",
    "for i in range(len(n_i)):\n",
    " n_i_np_i.append(round(n_i[i] - np_i[i], 4))\n",
    "for i in range(len(n_i)):\n",
    " res.append(round((n_i_np_i[i] ** 2) / np_i[i] , 4))\n",
    "print(res, sum(res))\n",
    "print(1 - sp.chi2.cdf(sum(res), 4))"
   ]
  },
  {
   "cell_type": "markdown",
   "id": "281de5c8-254d-4bda-aeb0-874c9c451c57",
   "metadata": {},
   "source": [
    "$\\widehat a=Z_{n,\\cfrac{1}{2}}=2.835\\:\\widehat\\sigma^2=(\\cfrac{1}{n}\\sum_{i=1}^n|x_{(i)}-Z_{n,\\cfrac{1}{2}}|)^2=0.63 - ОМП\\:\\alpha_2=0.1$  \n",
    "$I_{1}=\\left(0,2 \\right], n_{1}=7$  \n",
    "$P_{1}=\\frac{1}{\\sqrt{2\\cdot 0.63}}exp\\Biggl(-\\cfrac{\\sqrt2|2-2.835|}{\\sqrt {0.63}})\\Biggr)-\\frac{1}{\\sqrt{2\\cdot 0.63}}exp\\Biggl(-\\cfrac{\\sqrt2|0-2.835|}{\\sqrt {0.63}})\\Biggr)=0.113\\: nP_{1}=5.66$  \n",
    "$I_{2}=\\left(2,3\\right], n_{2}=23$  \n",
    "$P_{2}=\\frac{1}{\\sqrt{2\\cdot 0.63}}exp\\Biggl(-\\cfrac{\\sqrt2|3-2.835|}{\\sqrt {0.63}})\\Biggr)-\\frac{1}{\\sqrt{2\\cdot 0.63}}exp\\Biggl(-\\cfrac{\\sqrt2|2-2.835|}{\\sqrt {0.63}})\\Biggr)=0.335\\: nP_{2}=16.725$  \n",
    "$I_{3}=\\left( 3,4 \\right], n_{3}=9$  \n",
    "$P_{3}=\\frac{1}{\\sqrt{2\\cdot 0.63}}exp\\Biggl(-\\cfrac{\\sqrt2|4-2.835|}{\\sqrt {0.63}})\\Biggr)-\\frac{1}{\\sqrt{2\\cdot 0.63}}exp\\Biggl(-\\cfrac{\\sqrt2|3-2.835|}{\\sqrt {0.63}})\\Biggr)=0.043\\: nP_{3}=2.17$  \n",
    "$I_{4}=\\left(4,6\\right], n_{4}=11$  \n",
    "$P_{4}=\\frac{1}{\\sqrt{2\\cdot 0.63}}exp\\Biggl(-\\cfrac{\\sqrt2|6-2.835|}{\\sqrt{0.63}})\\Biggr)-\\frac{1}{\\sqrt{2\\cdot 0.63}}exp\\Biggl(-\\cfrac{\\sqrt2|4-2.835|}{\\sqrt {0.63}})\\Biggr)=0.002\\: nP_{4}=0.085$  \n",
    "Критерий $\\mathcal{X}^{2}: \\mathcal{X}^{2}_{набл}=\\sum_{i=1}^{4}\\frac{(n_{i}-np_{i})^{2}}{np_{i}} =1425.783$  \n",
    "$\\mathcal{X}^{2}_{N-1,1-\\alpha_{1}}=\\mathcal{X}^{2}_{3,0.9}\\simeq 16.27$  \n",
    "$\\mathcal{X}^{2}\\gg \\mathcal{X}^{2}_{3,0.9}$ - отвергаем гипотезу (критерий Пирсона)   \n",
    "$F^{-1}_{\\mathcal{X}^2_3}(1-\\alpha)=\\mathcal{X}^2$    \n",
    "$\\alpha=1-F_{\\mathcal{X}^2_3}(\\mathcal{X}^2)\\ll 0.0$ :"
   ]
  },
  {
   "cell_type": "markdown",
   "id": "8246be3c-dc30-47aa-a21e-7b352bb560ef",
   "metadata": {},
   "source": [
    "## Выводы\r\n",
    "Врезультате выполненияе практической работ №2ымною были изучены  метоыв математической статистики для решения задач статистического анализатакже были ,сформировныь навыки реализацииэтих  методов с помощью средств языка Pythonв. Изучив основные концепции и метод,овладелаи навыками проведения статистических тестов, анализа выборочных данных, построения доверительных интервалов, проверки гипотезc помощью различных критериево.Для разных семейств распределенийбыли по стреныи оценки, асимптотические интервалы, гипотезы. Одновременно с этим, на практике применяли программные пакеты, такие как Python с библиотеками NumPy, Scip, Mathplot...."
   ]
  }
 ],
 "metadata": {
  "kernelspec": {
   "display_name": "Python 3 (ipykernel)",
   "language": "python",
   "name": "python3"
  },
  "language_info": {
   "codemirror_mode": {
    "name": "ipython",
    "version": 3
   },
   "file_extension": ".py",
   "mimetype": "text/x-python",
   "name": "python",
   "nbconvert_exporter": "python",
   "pygments_lexer": "ipython3",
   "version": "3.11.5"
  }
 },
 "nbformat": 4,
 "nbformat_minor": 5
}
