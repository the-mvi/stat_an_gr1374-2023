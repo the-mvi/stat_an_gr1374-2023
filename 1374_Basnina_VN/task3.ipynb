{
 "cells": [
  {
   "cell_type": "markdown",
   "id": "d12b2dc1-8ae5-41b7-8c30-e6a0f37d1ff4",
   "metadata": {},
   "source": [
    "# Практическая работа №3: Регрессионный анализ\n",
    "Выполнил студент гр.1374 Баснина Виктория. Вариант 2"
   ]
  },
  {
   "cell_type": "markdown",
   "id": "2cf92f29-ccc5-4afe-adc3-2e7d272f079e",
   "metadata": {},
   "source": [
    "## Цель работы\n",
    "Ознакомление с основными положениями метода наименьших квадратов (МНК), со статистическими свойствами МНК-оценок, с понятием функции регрессии и роли МНК в регрессионном анализе."
   ]
  },
  {
   "cell_type": "markdown",
   "id": "e4c291e3-74eb-4995-83fe-6c1d8968961f",
   "metadata": {},
   "source": [
    "## Основные теоретические положения\n",
    "Введем матрицы \n",
    "$$\n",
    "X = \n",
    "\\left(\n",
    "\\begin{array}{cc}\n",
    "f_1(x_1) & f_2(x_1) & \\dots & f_n(x_1) \\\\\n",
    "f_1(x_2) & f_2(x_2) & \\dots & f_n(x_2) \\\\\n",
    "\\dots \\\\\n",
    "f_1(x_m) & f_2(x_m) & \\dots & f_n(x_m) \\\\\n",
    "\\end{array}\n",
    "\\right),\n",
    "\\qquad\n",
    "y =\n",
    "\\left(\n",
    "\\begin{array}{c}\n",
    "y_1 \\\\\n",
    "y_2 \\\\\n",
    "\\vdots \\\\\n",
    "y_m \\\\\n",
    "\\end{array}\n",
    "\\right),\n",
    "\\qquad\n",
    "\\beta =\n",
    "\\left(\n",
    "\\begin{array}{c}\n",
    "\\beta_1 \\\\\n",
    "\\beta_2 \\\\\n",
    "\\vdots \\\\\n",
    "\\beta_n\n",
    "\\end{array}\n",
    "\\right).\n",
    "$$\n",
    "\n",
    "\n",
    "\n",
    "\n",
    "$$\n",
    "X\\beta \\approx y\n",
    "$$\n",
    "$$\n",
    "\\|X\\beta - y\\|_2^2 \\to \\min_{\\beta}.\n",
    "$$\n",
    "Минимум нормы $\\|X\\beta - y\\|_2$ совпадает с минимумом ее квадрата $\\|X\\beta - y\\|_2^2$ (так как квадрат - функция монотонная для неотрицательного аргумента), но с $\\|X\\beta - y\\|_2^2$ работать проще, так как здесь отсутствуют радикалы.\n",
    "\n",
    "Равенство $X\\beta \\approx y$ означает, что мы желаем приближенно представить столбец $y$ в виде линейной комбинации столбцов матрицы $X$. Требование $\\|X\\beta - y\\|_2 \\to \\min_{\\beta}$ специфицирует, *что конкретно* означает здесь это *приближение* - минимизацию евклидовой нормы невязки $X\\beta - y$.\n",
    "\n",
    "Если бы систему $X\\beta = y$ удавалось решить точно, то норма невязки равнялась бы нулю.\n",
    "В этом случае график модельной зависимости проходил бы точно через заданные точки.\n",
    "Однако, как правило, при аппроксимации данных получаемая с.л.у. $X\\beta = y$ переопределена, т.е. не имеет решений.\n",
    "Вектор $\\beta$, на котором минимизируется евклидова норма  $\\|X\\beta - y\\|_2$ называется *псевдорешением* системы $X\\beta = y$.\n",
    "Итак, решение линейной задачи наименьших квадратов есть псевдорешение системы $X\\beta = y$.\n",
    "\n",
    "Для нахождения решения задачи наименьших квадратов можно также найти все частные производные по каждому неизвестному параметру $\\beta_1, \\beta_2, \\dots, \\beta_n$ и приравнять их к нулю, как мы это делали для частного случая. Оказывается, мы придем к *системе нормальных уравнений* того же вида ($**$)\n",
    "$$\n",
    "(X^{\\rm T} X)\\, \\beta = X^{\\rm T} y. \\tag{**}\n",
    "$$\n",
    "Псевдорешение системы $X\\beta = y$ есть решение системы нормальных уравнений. \n",
    "\n",
    "\n",
    "По данным выборки отклонения $\\varepsilon_i$, а, следовательно, и их дисперсия $\\sigma^2$ неизвестны. Поэтому они заменяются наблюдаемыми остатками и их выборочной дисперсией. Несмещённой оценкой $\\sigma^2$ является остаточная дисперсия $S^2=\\cfrac{\\sum_{i=1}^{n} e_i}{n-2}$\n",
    "\n",
    "По выборке вычисляется $t_{набл}$.\n",
    "Тогда  \n",
    "‒ если $t_{набл}=0$ , то нет оснований для отклонения $H_0$ - основания считать, что величина Y не зависит от X (точнее связь\n",
    "между этими двумя переменными далека от линейной зависимости);  \n",
    "‒ иначе, $H_0$ отвергается в пользу $H_1$, что указывает на наличие определенной\n",
    "линейной зависимости между Y и X."
   ]
  },
  {
   "cell_type": "markdown",
   "id": "0f7ba81f-5830-496f-8420-448822b7728d",
   "metadata": {},
   "source": [
    "## Постановка задачи\n",
    "Результаты статистического эксперимента представлены в виде двух переменных. Требуется оценить характер (случайной) зависимости переменной Y от переменной X. Полученные результаты содержательно проинтерпретировать."
   ]
  },
  {
   "cell_type": "markdown",
   "id": "bd1b4d8c-f578-45c6-bb99-4e1b031a1d3b",
   "metadata": {},
   "source": [
    "## Выполнение работы"
   ]
  },
  {
   "cell_type": "code",
   "execution_count": 49,
   "id": "d331424d-144d-4db3-aae2-55b46f081d8e",
   "metadata": {},
   "outputs": [],
   "source": [
    "import pandas as pd\n",
    "import numpy as np\n",
    "from matplotlib import pyplot as plt\n",
    "import statistics as st\n",
    "import scipy.stats as sc\n",
    "from scipy.stats import chi2"
   ]
  },
  {
   "cell_type": "markdown",
   "id": "90c0de9e-c283-40dd-a354-e7570cdb437e",
   "metadata": {},
   "source": [
    "**1) Построить графически результаты эксперимента. Сформулировать линейную регрессионую модель переменной Y по переменной X. Построить МНК оценки параметров сдвига $\\beta_0$ и масштаба $\\beta_1$. Построить полученную линию регрессии.**"
   ]
  },
  {
   "cell_type": "code",
   "execution_count": 50,
   "id": "e4c909a7-6cbd-40ee-bb44-f6f96c95b721",
   "metadata": {
    "scrolled": true
   },
   "outputs": [
    {
     "name": "stdout",
     "output_type": "stream",
     "text": [
      "50\n",
      "b1= -0.20382600278298868    b0= 14.547662290519694\n",
      "x_sr= 3.78\n",
      "x_sr^2= 20.9\n",
      "y_sr= 13.777200000000002\n",
      "xy_sr= 50.7302\n",
      "y* =  14.547662290519694   -0.20382600278298868 x\n"
     ]
    },
    {
     "data": {
      "image/png": "[encoded data removed]",
      "text/plain": [
       "<Figure size 640x480 with 1 Axes>"
      ]
     },
     "metadata": {},
     "output_type": "display_data"
    }
   ],
   "source": [
    "x = np.array([4, 8, 6, 7, 4, 5, 1, 2, 0, 6, 3, 1, 7, 4, 3, 2, 2, 8, 8, 6, 0, 3, 3, 8, 4, 3, 0, 6, 6, 0, 2, 5, 0, 6, 2, 0, 5, 3, 2, 8, 8, 1, 6, 1, 4, 2, 6, 3, 5, 0])\n",
    "y=np.array([13.28, 14.52, 14.10, 15.01, 14.59, 13.73, 11.87, 12.08, 15.68, 14.39, 11.54, 13.37, 14.60, 13.53, 15.03, 15.03, 13.96,12.12, 9.35, 13.28, 12.72, 15.76, 14.92, 13.58, 13.62, 14.55, 13.97, 12.86, 14.17, 13.89, 14.41, 13.06, 14.42, 11.95, 15.26, 14.92, 13.16, 13.56, 15.78, 12.96, 11.62, 14.38, 11.49, 15.61, 12.47, 14.81, 14.17, 14.05, 14.35, 15.33])\n",
    "alpha=0.1\n",
    "n=len(x)\n",
    "print(n)\n",
    "x2=np.square(x)\n",
    "xy=[a * b for a, b in zip(x, y)]\n",
    "S1=np.sum(x)\n",
    "S2=np.sum(x2)\n",
    "sy=np.sum(y)\n",
    "sxy=np.sum(xy)\n",
    "X=np.array([[n,S1],[S1,S2]])\n",
    "Y=np.array([sy,sxy])\n",
    "X_obr=np.linalg.inv (X)\n",
    "B=np.dot(X_obr, Y)\n",
    "b0,b1=B\n",
    "print ('b1=',b1, '   b0=',b0)\n",
    "x_sr=S1/n\n",
    "x_sr2=S2/n\n",
    "y_sr=sy/n\n",
    "xy_sr=sxy/n\n",
    "print('x_sr=',x_sr)\n",
    "print('x_sr^2=',x_sr2)\n",
    "print('y_sr=',y_sr)\n",
    "print('xy_sr=',xy_sr)\n",
    "print ('y* = ',b0,' ',b1,'x')\n",
    "y_new=[b0+b1*a for a in x]\n",
    "plt.scatter(x,y,color='b')\n",
    "plt.plot(x,y_new, color='green')\n",
    "y_new_sr = np.sum(y_new)/n"
   ]
  },
  {
   "cell_type": "markdown",
   "id": "b5d65962-0f36-4810-8cb9-193dfa6dabd2",
   "metadata": {},
   "source": [
    "**2) Построить и интерпретировать несмещенную оценку дисперсии. На базе ошибок построить гистограмму с шагом** $h=1.0$ **Проверить гипотезу нормальности ошибок на уровне значимости** $\\alpha=0.1$ **по** $\\mathcal{X^{2}}$ **Оценить расстояние полученной оценки до класса нормальных распределений по Колмогорову**"
   ]
  },
  {
   "cell_type": "code",
   "execution_count": 51,
   "id": "a3f577e5-c2e2-4a66-ab13-973cb837f73a",
   "metadata": {},
   "outputs": [
    {
     "name": "stdout",
     "output_type": "stream",
     "text": [
      "sigma_square= 1.5048260181600017\n"
     ]
    }
   ],
   "source": [
    "sigma_square = np.sum((y - y_new)**2)/(n-2)\n",
    "print('sigma_square=',sigma_square)"
   ]
  },
  {
   "cell_type": "markdown",
   "id": "f444db9d-88bc-41a6-83dc-5a1224fc963f",
   "metadata": {},
   "source": [
    "По данным выборки отклонения $\\varepsilon_i$, а, следовательно, и их дисперсия $\\sigma^2$ неизвестны. Поэтому они заменяются наблюдаемыми остатками и их выборочной дисперсией. Несмещённой оценкой $\\sigma^2$ является остаточная дисперсия $S^2=\\cfrac{\\sum_{i=1}^{n} e_i}{n-2}=1.505$.  "
   ]
  },
  {
   "cell_type": "code",
   "execution_count": 52,
   "id": "ed05f429-8ef8-470e-98f6-2d808aae7443",
   "metadata": {},
   "outputs": [
    {
     "data": {
      "text/plain": [
       "<matplotlib.legend.Legend at 0x1a0d655ab50>"
      ]
     },
     "execution_count": 52,
     "metadata": {},
     "output_type": "execute_result"
    },
    {
     "data": {
      "image/png": "[encoded data removed]",
      "text/plain": [
       "<Figure size 640x480 with 1 Axes>"
      ]
     },
     "metadata": {},
     "output_type": "display_data"
    }
   ],
   "source": [
    "h=1.0\n",
    "err=[]\n",
    "for i in range(n-1):\n",
    "    err.append(y[i]-y_new[i])\n",
    "shag = np.arange(min(err), max(err) + h, h)\n",
    "plt.hist(err, bins=shag,color='r',edgecolor='black', alpha=0.1, label='Гистограмма на базе ошибок')\n",
    "k = np.linspace(min(err), max(err), 1000)\n",
    "plt.plot(k, sc.norm.pdf(k, np.mean(err), np.std(err)), 'b',label='Функция плотности нормального распределения')\n",
    "plt.legend()"
   ]
  },
  {
   "cell_type": "code",
   "execution_count": 53,
   "id": "010fc59b-bbc7-4d7c-af8d-ea85144c3339",
   "metadata": {},
   "outputs": [
    {
     "name": "stdout",
     "output_type": "stream",
     "text": [
      "[0.033654, 0.101831, 0.201205, 0.259728, 0.496067, 0.120734]\n",
      "[1.6827, 5.09155, 10.06025, 12.9864, 24.80335, 6.0367]\n",
      "[0.276983, 0.001646, 0.930904, 0.69933, 3.874705] 5.783568\n",
      "chi2_val_5_09= 9.236356899781123\n",
      "0.3278515959424133\n"
     ]
    },
    {
     "data": {
      "text/plain": [
       "KstestResult(statistic=0.11247365158523243, pvalue=0.5281209922647778, statistic_location=-0.4685322766047495, statistic_sign=-1)"
      ]
     },
     "execution_count": 53,
     "metadata": {},
     "output_type": "execute_result"
    }
   ],
   "source": [
    "I = [(-3.6, -2.6), (-2.6,-1.6), (-1.6,-0.6), (-0.6, 0.4),(0,4, 1.4),(1.4, 2.4)]\n",
    "a0=0\n",
    "sigma0=1.505\n",
    "n_i = [1,5,7,16,15,5]\n",
    "p_i = []\n",
    "np_i = []\n",
    "n_i_np_i = []\n",
    "res = []\n",
    "for i in I:\n",
    " p_i.append(round(sc.norm.cdf(i[1], loc=a0,scale=sigma0) - sc.norm.cdf(i[0], loc=a0,scale=sigma0), 6))\n",
    "print(p_i)\n",
    "for i in range (6):\n",
    " np_i.append(round(n*p_i[i],6))\n",
    "print(np_i)\n",
    "for i in range(6):\n",
    " n_i_np_i.append(round(n_i[i] - np_i[i], 6))\n",
    "for i in range(5):\n",
    " res.append(round((n_i_np_i[i] ** 2) / np_i[i] , 6))\n",
    "print(res, sum(res))\n",
    "chi2_val_5_09 = chi2.ppf(1-alpha, 5)\n",
    "print('chi2_val_5_09=',chi2_val_5_09)\n",
    "print(1 - sc.chi2.cdf(sum(res), 5))\n",
    "#lam=np.max(err)\n",
    "#print ('lam_exp=',lam)\n",
    "#print(1.22/np.sqrt(n))\n",
    "sc.kstest(err, 'norm',args=(a0,sigma0))"
   ]
  },
  {
   "cell_type": "markdown",
   "id": "e6512436-fcdf-4bc3-8ffa-4ba9c7b6019d",
   "metadata": {},
   "source": [
    "$a_0=0.00 \\:\\sigma_0=1.505\\:\\alpha_2=0.1$  \n",
    "$I_{1}=\\left(-3.6, -2.6 \\right], n_{1}=1$  \n",
    "$P_{1}=0.034\\: nP_{1}=1.683$  \n",
    "$I_{2}=\\left(-2.6,-1.6 \\right], n_{2}=5$  \n",
    "$P_{2}=0.102\\: nP_{2}=5.092$  \n",
    "$I_{3}=\\left(-1.6,-0.6 \\right], n_{3}=7$  \n",
    "$P_{3}=0.201\\: nP_{3}=10.060$  \n",
    "$I_{4}=\\left(-0.6, 0.4\\right], n_{4}=16$  \n",
    "$P_{4}=0.260\\: nP_{4}=12.986$  \n",
    "$I_{5}=\\left(0,4, 1.4\\right], n_{5}=15$  \n",
    "$P_{5}=0.496\\: nP_{5}=24.803$  \n",
    "$I_{6}=\\left(1.4, 2.4\\right], n_{6}=5$  \n",
    "$P_{6}=0.121\\: nP_{6}=6.037$  \n",
    "$\\mathcal{X}^{2}_{N-1,1-\\alpha_{1}}=\\mathcal{X}^{2}_{5,0.9}\\simeq 9.236$    \n",
    "Критерий $\\mathcal{X}^{2}: \\mathcal{X}^{2}_{набл}=\\sum_{i=1}^{6}\\frac{(n_{i}-np_{i})^{2}}{np_{i}} =5.784$  \n",
    "$\\mathcal{X}^{2}< \\mathcal{X}^{2}_{5,0.9}$ - гипотезу  не отвергаем (критерий Пирсона) - распределение нормальное   \n",
    "$F^{-1}_{\\mathcal{X}^2_5}(1-\\alpha)=\\mathcal{X}^2$    \n",
    "$\\alpha=1-F_{\\mathcal{X}^2_5}(\\mathcal{X}^2)=0.173$   \n",
    "Был применен Kolmogorov-Smirnov тест для проверки нормальности распределения.  \n",
    "Результат теста представляет собой кортеж, содержащий статистику теста и p-значение.  \n",
    "Если p-значение меньше уровня значимости, то гипотеза о том, что данные имеют заданное распределение, отвергается.  \n",
    "$p-value=0.528>\\alpha_2=0.1$ - гипотезу не отвергаем  "
   ]
  },
  {
   "cell_type": "markdown",
   "id": "5850b4a5-f67d-446a-bc2d-4cbc3ea73bde",
   "metadata": {},
   "source": [
    "**3) В предположении нормальности ошибок построить доверительные интервалы для параметров сдвига $\\beta_0$ и масштаба $\\beta_1$ уровня доверия $1-\\alpha$. Построить доверительный эллипс уровня $1-\\alpha$ (вычислить его полуоси)**"
   ]
  },
  {
   "cell_type": "code",
   "execution_count": 54,
   "id": "48e0f409-5829-4226-910a-9a8af27c3070",
   "metadata": {},
   "outputs": [
    {
     "name": "stdout",
     "output_type": "stream",
     "text": [
      "b1 = -0.2038, α=10% [-0.3170 ; -0.0907]\n",
      "b0 = 14.5477, α=10% [14.4872 ; 14.6082]\n",
      "chi2_val_2_0.9= 4.605170185988092\n",
      "Значение полуосей доверительного эллипса\n",
      "a= 0j b= (12.994739701484491+0j)\n"
     ]
    }
   ],
   "source": [
    "dx_square = np.sum((x-x_sr)**2)\n",
    "b1_err = np.sqrt(sigma_square/dx_square)\n",
    "b0_err = np.sqrt(sigma_square*(x_sr**2/(n*dx_square)))\n",
    "b1_conf = sc.t.interval(1-alpha, df = n-2, loc=b1, scale=b1_err)\n",
    "b0_conf = sc.t.interval(1-alpha, df = n-2, loc=b0, scale=b0_err)\n",
    "print(f\"b1 = {b1:0.4f}, α=10% [{b1_conf[0]:0.4f} ; {b1_conf[1]:0.4f}]\")\n",
    "print(f\"b0 = {b0:0.4f}, α=10% [{b0_conf[0]:0.4f} ; {b0_conf[1]:0.4f}]\")\n",
    "b1 = np.repeat(b1, len(err))\n",
    "cov_matrix = np.cov(np.column_stack((err, b1)))\n",
    "eigenvalues, eigenvectors = np.linalg.eig(cov_matrix)\n",
    "cov = np.cov(x, y)\n",
    "chi2_val = chi2.ppf(1-alpha, 2)\n",
    "print('chi2_val_2_0.9=',chi2_val)\n",
    "a = np.sqrt(eigenvalues[0] * chi2_val)\n",
    "b = np.sqrt(eigenvalues[1] * chi2_val)\n",
    "print ('Значение полуосей доверительного эллипса')\n",
    "print('a=',a,'b=',b)"
   ]
  },
  {
   "cell_type": "markdown",
   "id": "f783bbe6-af8c-43c7-bee4-93255a819f15",
   "metadata": {},
   "source": [
    "**4) Cформулировать гипотезу независимости переменной Y от X. Провести проверку значимости.**"
   ]
  },
  {
   "cell_type": "code",
   "execution_count": 55,
   "id": "5837ef7f-a91a-4fd0-a5e9-7c6257ca3df0",
   "metadata": {},
   "outputs": [
    {
     "name": "stdout",
     "output_type": "stream",
     "text": [
      "t_b1_0= 3.021027854457437\n"
     ]
    }
   ],
   "source": [
    "t_b1_0=abs(b1/b1_err)\n",
    "print ('t_b1_0=',t_b1_0[0])"
   ]
  },
  {
   "cell_type": "markdown",
   "id": "db48b169-8cfe-4132-8c49-d0a259245811",
   "metadata": {},
   "source": [
    "По выборке вычисляется $t_{набл}=\\cfrac{b_1}{S_{b1}}$.\n",
    "Тогда  \n",
    "‒ если $t_{набл}=0$ , то нет оснований для отклонения $H_0$ - основания считать, что величина Y не зависит от X (точнее связь\n",
    "между этими двумя переменными далека от линейной зависимости);  \n",
    "‒ иначе, $H_0$ отвергается в пользу $H_1$, что указывает на наличие определенной\n",
    "линейной зависимости между Y и X.  \n",
    "$3.021\\neq 0$ $H_0$ отвергается в пользу $H_1$, а именно, Y зависит от X."
   ]
  },
  {
   "cell_type": "markdown",
   "id": "ce128296-9fb2-4ab7-a494-2e5d62a02a70",
   "metadata": {},
   "source": [
    "**5) Сформулировать модель, включающую дополнительный член $X^2$. Построить МНК оценки параметров  $\\beta_0$, $\\beta_1$ и $\\beta_2$. Изобразить графически полученную регрессионную зависимость**"
   ]
  },
  {
   "cell_type": "code",
   "execution_count": 56,
   "id": "3955d584-421a-4544-86e7-8dc87232d3b8",
   "metadata": {},
   "outputs": [
    {
     "name": "stdout",
     "output_type": "stream",
     "text": [
      "beta0= 14.323899197129796 beta1= -0.005391849459805443 beta2= -0.025182679721136095\n",
      "y* =  14.323899197129796   -0.005391849459805443 x  -0.025182679721136095 x^2\n"
     ]
    },
    {
     "data": {
      "image/png": "[encoded data removed]",
      "text/plain": [
       "<Figure size 640x480 with 1 Axes>"
      ]
     },
     "metadata": {},
     "output_type": "display_data"
    }
   ],
   "source": [
    "x3=[]\n",
    "x4=[]\n",
    "for i in x:\n",
    "    x3.append(i**3)\n",
    "    x4.append(i**4)\n",
    "S3=np.sum(x3)\n",
    "S4=np.sum(x4)\n",
    "sy=np.sum(y)\n",
    "sxy=np.sum(xy)\n",
    "xy2=[a * b for a, b in zip(x2, y)]\n",
    "sxy2=np.sum(xy2)\n",
    "X=np.array([[n,S1,S2],[S1,S2,S3],[S2,S3,S4]])\n",
    "Y=np.array([sy,sxy,sxy2])\n",
    "X_obr=np.linalg.inv (X)\n",
    "B=np.dot(X_obr, Y)\n",
    "beta0, beta1,beta2 = B\n",
    "print('beta0=',beta0,'beta1=',beta1,'beta2=',beta2)\n",
    "xx = np.linspace(0, 8, 1000)\n",
    "y_new_2=[beta0+beta1*a+beta2*a*a for a in x]\n",
    "plt.scatter(x,y,color='b')\n",
    "plt.plot(xx,beta0+beta1*xx+beta2*xx**2, color='green')\n",
    "print ('y* = ',beta0,' ',beta1,'x ',beta2, 'x^2')"
   ]
  },
  {
   "cell_type": "markdown",
   "id": "0cc81f53-3479-4e96-a7ef-b4bd7752dccf",
   "metadata": {},
   "source": [
    "**6) Построить и интерпретировать несмещенную оценку дисперсии. На базе ошибок построить гистограмму с шагом** $h=1.0$ **Проверить гипотезу нормальности ошибок на уровне значимости** $\\alpha=0.1$ **по** $\\mathcal{X^{2}}$ **Оценить расстояние полученной оценки до класса нормальных распределений по Колмогорову**"
   ]
  },
  {
   "cell_type": "code",
   "execution_count": 57,
   "id": "5e5b17dd-c256-4204-9776-c800f8636681",
   "metadata": {},
   "outputs": [
    {
     "name": "stdout",
     "output_type": "stream",
     "text": [
      "sigma_square= 1.5119836559361959\n"
     ]
    }
   ],
   "source": [
    "sigma_square_2 = np.sum((y - y_new_2)**2)/(n-3)\n",
    "print('sigma_square=',sigma_square_2)"
   ]
  },
  {
   "cell_type": "markdown",
   "id": "91e70652-29ce-4b63-9ad2-40afd4669452",
   "metadata": {},
   "source": [
    "По данным выборки отклонения $\\varepsilon_i$, а, следовательно, и их дисперсия $\\sigma^2$ неизвестны. Поэтому они заменяются наблюдаемыми остатками и их выборочной дисперсией. Несмещённой оценкой $\\sigma^2$ является остаточная дисперсия $S^2=\\cfrac{\\sum_{i=1}^{n} e_i}{n-3}=1.511$. "
   ]
  },
  {
   "cell_type": "code",
   "execution_count": 58,
   "id": "000152ad-3bbd-405d-bb8f-24b0291e5f6b",
   "metadata": {},
   "outputs": [
    {
     "data": {
      "text/plain": [
       "<matplotlib.legend.Legend at 0x1a0d6481450>"
      ]
     },
     "execution_count": 58,
     "metadata": {},
     "output_type": "execute_result"
    },
    {
     "data": {
      "image/png": "[encoded data removed]",
      "text/plain": [
       "<Figure size 640x480 with 1 Axes>"
      ]
     },
     "metadata": {},
     "output_type": "display_data"
    }
   ],
   "source": [
    "err_2=[]\n",
    "for i in range(n-1):\n",
    "    err_2.append(y[i]-y_new_2[i])\n",
    "shag = np.arange(min(err_2), max(err_2) + h, h)\n",
    "plt.hist(err_2, bins=shag,color='r',edgecolor='black', alpha=0.1, label='Гистограмма на базе ошибок')\n",
    "k = np.linspace(min(err_2), max(err_2), 1000)\n",
    "plt.plot(k, sc.norm.pdf(k, np.mean(err_2), np.std(err_2)), 'b',label='Функция плотности нормального распределения')\n",
    "plt.legend()"
   ]
  },
  {
   "cell_type": "code",
   "execution_count": 59,
   "id": "845a7786-2d41-4549-813a-34c0fa3949fd",
   "metadata": {},
   "outputs": [
    {
     "name": "stdout",
     "output_type": "stream",
     "text": [
      "[0.0035984, 0.0202123, 0.0730246, 0.1698438, 0.2568864, 0.2450933, 0.1518594]\n",
      "[0.17992, 1.010615, 3.65123, 8.49219, 12.84432, 12.254665, 7.59297]\n",
      "[3.7379458, 1.010615, 3.0713651, 0.0303657, 0.1039834, 0.2485743, 1.7001823] 9.903031599999998\n",
      "chi2_val_6_09= 10.644640675668422\n",
      "0.12879541411659556\n"
     ]
    },
    {
     "data": {
      "text/plain": [
       "KstestResult(statistic=0.13868520756880054, pvalue=0.27624710934069774, statistic_location=-0.6194089237523972, statistic_sign=-1)"
      ]
     },
     "execution_count": 59,
     "metadata": {},
     "output_type": "execute_result"
    }
   ],
   "source": [
    "I = [(-4.94, -3.94), (-3.94,-2.94), (-2.94,-1.94), (-1.94, -0.94),(-0.94, 0.069),(0.069, 1.069),(1.069,2.069)]\n",
    "a0=np.sum(err_2)/n\n",
    "sigma0=1.48\n",
    "n_i = [1,0,7,9,14,14,4]\n",
    "p_i = []\n",
    "np_i = []\n",
    "n_i_np_i = []\n",
    "res = []\n",
    "for i in I:\n",
    " p_i.append(round(sc.norm.cdf(i[1], loc=a0,scale=sigma0) - sc.norm.cdf(i[0], loc=a0,scale=sigma0), 7))\n",
    "print(p_i)\n",
    "for i in range (7):\n",
    " np_i.append(round(n*p_i[i],7))\n",
    "print(np_i)\n",
    "for i in range(7):\n",
    " n_i_np_i.append(round(n_i[i] - np_i[i], 7))\n",
    "for i in range(7):\n",
    " res.append(round((n_i_np_i[i] ** 2) / np_i[i] , 7))\n",
    "print(res, sum(res))\n",
    "chi2_val_6_09 = chi2.ppf(1-alpha, 6)\n",
    "print('chi2_val_6_09=',chi2_val_6_09)\n",
    "print(1 - sc.chi2.cdf(sum(res), 6))\n",
    "#lam=np.max(err_2)/np.sqrt(n)\n",
    "#print ('lam=',lam)\n",
    "#print(1.22/np.sqrt(n))\n",
    "sc.kstest(err_2, 'norm',args=(a0,sigma0))"
   ]
  },
  {
   "cell_type": "markdown",
   "id": "399da803-b13b-4ff7-b2e3-dc85e6aa648d",
   "metadata": {},
   "source": [
    "$a_0=0.00 \\:\\sigma_0=1.48\\:\\alpha_2=0.1$  \n",
    "$I_{1}=\\left(-4.94, -3.94 \\right], n_{1}=1$  \n",
    "$P_{1}=0.004\\: nP_{1}=0.180$  \n",
    "$I_{2}=\\left(-3.94,-2.94 \\right], n_{2}=0$  \n",
    "$P_{2}=0.020\\: nP_{2}=1.011$  \n",
    "$I_{3}=\\left(-2.94,-1.94 \\right], n_{3}=7$  \n",
    "$P_{3}=0.073\\: nP_{3}=3.651$  \n",
    "$I_{4}=\\left(-1.94, -0.94\\right], n_{4}=9$  \n",
    "$P_{4}=0.170\\: nP_{4}=8.492$  \n",
    "$I_{5}=\\left(-0.94, 0.069\\right], n_{5}=14$  \n",
    "$P_{5}=0.257\\: nP_{5}=12.844$  \n",
    "$I_{6}=\\left(0.069, 1.069\\right], n_{6}=14$  \n",
    "$P_{6}=0.245\\: nP_{6}=12.255$  \n",
    "$I_{7}=\\left(1.069,2.069\\right], n_{}=4$  \n",
    "$P_{7}=0.152\\: nP_{7}=7.593$  \n",
    "$\\mathcal{X}^{2}_{N-1,1-\\alpha_{1}}=\\mathcal{X}^{2}_{6,0.9}\\simeq 10.645$    \n",
    "Критерий $\\mathcal{X}^{2}: \\mathcal{X}^{2}_{набл}=\\sum_{i=1}^{7}\\frac{(n_{i}-np_{i})^{2}}{np_{i}} =9.903$  \n",
    "$\\mathcal{X}^{2}< \\mathcal{X}^{2}_{6,0.9}$ - гипотезу  не отвергаем (критерий Пирсона) - распределение нормальное   \n",
    "$F^{-1}_{\\mathcal{X}^2_6}(1-\\alpha)=\\mathcal{X}^2$    \n",
    "$\\alpha=1-F_{\\mathcal{X}^2_6}(\\mathcal{X}^2)=0.129$   \n",
    "Был применен Kolmogorov-Smirnov тест для проверки нормальности распределения.  \n",
    "Результат теста представляет собой кортеж, содержащий статистику теста и p-значение.  \n",
    "Если p-значение меньше уровня значимости, то гипотеза о том, что данные имеют заданное распределение, отвергается.  \n",
    "$p-value=0.276>\\alpha_2=0.1$ - гипотезу не отвергаем  "
   ]
  },
  {
   "cell_type": "markdown",
   "id": "b03741a6-fb1c-4eed-a821-bbcc2c227be9",
   "metadata": {},
   "source": [
    "**7 В предположении нормальности ошибок построить доверительные интервалы для параметров сдвига $\\beta_0$,$\\beta_1$,$\\beta_2$ уровня доверия $1-\\alpha$. Написать уравнение доверительный эллипсоида уровня $1-\\alpha$**"
   ]
  },
  {
   "cell_type": "code",
   "execution_count": 60,
   "id": "9ae85532-58ad-42ae-bb5e-04c0b44cfe43",
   "metadata": {},
   "outputs": [
    {
     "name": "stdout",
     "output_type": "stream",
     "text": [
      "b1 = -0.0054, α=10% [-0.3997 ; 0.3889]\n",
      "b0 = 14.3239, α=10% [13.6538 ; 14.9940]\n",
      "b2 = -0.0252, α=10% [-0.0731 ; 0.0228]\n",
      "Уравнение доверительного эллипсоида:\n",
      "((14.323899197129796 - x) / 0.5931621451587805)**2+(-0.005391849459805443 - y) / 0.3490197907836035)**2 + ((-0.025182679721136095 - z) / 0.04242969506383638)**2 = 1\n"
     ]
    }
   ],
   "source": [
    "X = np.column_stack((np.ones_like(x), x, x2))\n",
    "cov_matrix = sigma_square * np.linalg.inv(X.T @ X)\n",
    "std_err = np.sqrt(np.diag(cov_matrix))\n",
    "beta1_conf = sc.t.interval(1-alpha, df = n-2, loc=beta1, scale=std_err[1])\n",
    "beta0_conf = sc.t.interval(1-alpha, df = n-2, loc=beta0, scale=std_err[0])\n",
    "beta2_conf = sc.t.interval(1-alpha, df = n-2, loc=beta2, scale=std_err[2])\n",
    "print(f\"b1 = {beta1:0.4f}, α=10% [{beta1_conf[0]:0.4f} ; {beta1_conf[1]:0.4f}]\")\n",
    "print(f\"b0 = {beta0:0.4f}, α=10% [{beta0_conf[0]:0.4f} ; {beta0_conf[1]:0.4f}]\")\n",
    "print(f\"b2 = {beta2:0.4f}, α=10% [{beta2_conf[0]:0.4f} ; {beta2_conf[1]:0.4f}]\")\n",
    "F_value = sc.f.ppf(1 - alpha, 3, n - 3)\n",
    "polyosi = np.sqrt(F_value) * np.sqrt(np.diag(cov_matrix))\n",
    "print(\"Уравнение доверительного эллипсоида:\")\n",
    "print(f\"(({beta0} - x) / {polyosi[0]})**2+({beta1} - y) / {polyosi[1]})**2 + (({beta2} - z) / {polyosi[2]})**2 = 1\")"
   ]
  },
  {
   "cell_type": "markdown",
   "id": "58506a06-3984-4060-99f7-2e8696310449",
   "metadata": {},
   "source": [
    "Уравнение доверительного эллипсоида:  \n",
    "$\\cfrac{(14.3239-x)^2}{0.5931^2}+\\cfrac{(-0.0054-y)^2}{0.3490^2}+\\cfrac{(-0.0252-z)^2}{0.0424^2} = 1$"
   ]
  },
  {
   "cell_type": "markdown",
   "id": "24733b59-e195-49e0-bae6-99542af9d672",
   "metadata": {},
   "source": [
    "**8) Cформулировать гипотезу независимости переменной Y от X. Провести проверку значимости.**"
   ]
  },
  {
   "cell_type": "code",
   "execution_count": 61,
   "id": "d2a6f3dc-1e70-45d7-8693-15f4c0492573",
   "metadata": {},
   "outputs": [
    {
     "name": "stdout",
     "output_type": "stream",
     "text": [
      "t_b1_0= 0.022935671970755103 t_b2_0= 0.8811620726048058\n"
     ]
    }
   ],
   "source": [
    "t_b1_0=abs(beta1/std_err[1])\n",
    "t_b2_0=abs(beta2/std_err[2])\n",
    "print ('t_b1_0=',t_b1_0,'t_b2_0=',t_b2_0)"
   ]
  },
  {
   "cell_type": "markdown",
   "id": "9ef5dc2e-9539-4d91-ad9f-e45a6473282d",
   "metadata": {},
   "source": [
    "По выборке вычисляется $t_{b1}=\\cfrac{b_1}{S_{b1}}$, $t_{b2}=\\cfrac{b_2}{S_{b2}}$.\n",
    "Тогда  \n",
    "‒ если $t_{b1}=0$ и $t_{b2}=0$  , то нет оснований для отклонения $H_0$ - основания считать, что величина Y не зависит от X (точнее связь\n",
    "между этими двумя переменными далека от линейной зависимости);  \n",
    "‒ иначе, $H_0$ отвергается в пользу $H_1$, что указывает на наличие определенной\n",
    "линейной зависимости между Y и X.  \n",
    "$0.0229\\neq 0$, $0.8812\\neq 0$ -  $H_0$ отвергается в пользу $H_1$, а именно, Y зависит от X."
   ]
  },
  {
   "cell_type": "markdown",
   "id": "a689e03c-5bf4-47d3-bea7-9930980c9531",
   "metadata": {},
   "source": [
    "## Выводы\n",
    "В ходе выполнения практической работы ознакомились с основными положениями метода наименьших квадратов (МНК), со статистическими свойствами МНК-оценок, с понятием функции регрессии и роли МНК в регрессионном анализе. Также изучили некоторые функции библиотек Scipy, Matplotlib языка Python."
   ]
  }
 ],
 "metadata": {
  "kernelspec": {
   "display_name": "Python 3 (ipykernel)",
   "language": "python",
   "name": "python3"
  },
  "language_info": {
   "codemirror_mode": {
    "name": "ipython",
    "version": 3
   },
   "file_extension": ".py",
   "mimetype": "text/x-python",
   "name": "python",
   "nbconvert_exporter": "python",
   "pygments_lexer": "ipython3",
   "version": "3.11.5"
  }
 },
 "nbformat": 4,
 "nbformat_minor": 5
}
