{
 "cells": [
  {
   "cell_type": "markdown",
   "metadata": {},
   "source": [
    "# Практическая работа №1: Регрессионный анализ\n",
    "Выполнил студент гр. 1374 Сабанов Петр. Вариант №20"
   ]
  },
  {
   "cell_type": "markdown",
   "metadata": {},
   "source": [
    "## Цель работы\n",
    "Ознакомление с основными положениями метода наименьших квадратов (МНК), со статистическими свойствами МНК-оценок, с понятием функции регрессии и роли МНК в регрессионном анализе."
   ]
  },
  {
   "cell_type": "markdown",
   "metadata": {},
   "source": [
    "## Основные теоретические положения\n",
    "\n",
    "1) Линейная регрессия:\n",
    "   $Y = X \\cdot \\beta + \\epsilon$\n",
    "   Где:\n",
    "   - $Y$ - вектор наблюдений,\n",
    "   - $X$ - матрица регрессоров,\n",
    "   - $\\beta$ - вектор параметров,\n",
    "   - $\\epsilon$ - вектор случайных ошибок.  \n",
    "\n",
    "2) Метод наименьших квадратов (МНК) в линейной регрессии:\n",
    "   $\\hat{\\beta} = (X^T X)^{-1} X^T Y$\n",
    "   Минимизация суммы квадратов остатков:\n",
    "   $S = \\sum_{i=1}^{n} (Y_i - \\hat{Y_i})^2$\n",
    "\n",
    "3) Оценка хи-квадрат:\n",
    "   $\\chi^2 = \\sum_{i=1}^{k} \\frac{(O_i - E_i)^2}{E_i}$\n",
    "   Где:\n",
    "   - $O_i$ - наблюдаемая частота,\n",
    "   - $E_i$ - ожидаемая частота.  \n",
    "\n",
    "4) Доверительные интервалы и доверительный эллипсоид:\n",
    "   Доверительный интервал для параметра $\\beta_j$:\n",
    "   $\\hat{\\beta_j} \\pm t_{\\alpha/2, n-p} \\cdot SE(\\hat{\\beta_j})$\n",
    "   \n",
    "   Уравнение доверительного эллипсоида:\n",
    "   $\\left(\\frac{\\hat{\\beta_1} - \\beta_1}{SE(\\hat{\\beta_1})}\\right)^2 + \\left(\\frac{\\hat{\\beta_2} - \\beta_2}{SE(\\hat{\\beta_2})}\\right)^2 = \\chi^2_{\\alpha,2}$\n",
    "\n",
    "5) Несмещённая оценка дисперсии:\n",
    "   $\\hat{\\sigma}^2 = \\frac{1}{n-p} \\sum_{i=1}^{n} (Y_i - \\hat{Y_i})^2$\n",
    "   Где:\n",
    "   - $n$ - количество наблюдений,\n",
    "   - $p$ - количество параметров."
   ]
  },
  {
   "cell_type": "markdown",
   "metadata": {},
   "source": [
    "## Постановка задачи\n",
    "Результаты статистического эксперимента представлены в виде двух переменных. Требуется оценить характер (случайной) зависимости переменной Y от переменной X. Полученные результаты содержательно проинтерпретировать."
   ]
  },
  {
   "cell_type": "markdown",
   "metadata": {},
   "source": [
    "## Выполнение работы"
   ]
  },
  {
   "cell_type": "markdown",
   "metadata": {},
   "source": [
    "### Данные"
   ]
  },
  {
   "cell_type": "code",
   "execution_count": 8,
   "metadata": {},
   "outputs": [
    {
     "name": "stdout",
     "output_type": "stream",
     "text": [
      "Массив X: [3, 3, 3, 2, 2, 1, 1, 1, 0, 2, 3, 0, 1, 2, 0, 0, 3, 2, 2, 1, 1, 0, 3, 0, 3, 3, 0, 0, 1, 0, 1, 2, 3, 0, 3, 0, 2, 2, 1, 3, 0, 0, 2, 3, 1, 3, 0, 3, 3, 0]\n",
      "Массив Y: [14.48, 20.38, 14.72, 14.98, 10.34, 13.82, 9.91, 12.98, 10.95, 13.4, 9.72, 13.91, 9.43, 14.07, 16.59, 12.99, 7.93, 8.6, 15.92, 11.62, 16.21, 10.72, 14.07, 10.72, 13.48, 11.9, 8.55, 12.51, 12.59, 13.41, 10.76, 10.35, 14.93, 11.3, 12.8, 14.32, 11.33, 14.23, 19.49, 10.08, 15.68, 16.68, 13.17, 9.62, 9.29, 14.53, 10.17, 12.07, 12.44, 11.31]\n",
      "50 50\n"
     ]
    }
   ],
   "source": [
    "import numpy as np\n",
    "import matplotlib.pyplot as plt\n",
    "from scipy import stats\n",
    "import pandas as pd\n",
    "\n",
    "# Данные из таблицы\n",
    "X = [3, 3, 3, 2, 2, 1, 1, 1, 0, 2, 3, 0, 1, 2, 0, 0, 3, 2, 2, 1, 1, 0, 3, 0, 3, 3, 0, 0, 1, 0, 1, 2, 3, 0, 3, 0, 2, 2, 1, 3, 0, 0, 2, 3, 1, 3, 0, 3, 3, 0]\n",
    "Y = [14.48, 20.38, 14.72, 14.98, 10.34, 13.82, 9.91, 12.98, 10.95, 13.40, 9.72, 13.91, 9.43, 14.07, 16.59, 12.99, 7.93, 8.60, 15.92, 11.62, 16.21, 10.72, 14.07, 10.72, 13.48, 11.90, 8.55, 12.51, 12.59, 13.41, 10.76, 10.35, 14.93, 11.30, 12.80, 14.32, 11.33, 14.23, 19.49, 10.08, 15.68, 16.68, 13.17, 9.62, 9.29, 14.53, 10.17, 12.07, 12.44, 11.31]\n",
    "\n",
    "print(\"Массив X:\", X)\n",
    "print(\"Массив Y:\", Y)\n",
    "\n",
    "# Проверка длины массивов X и Y\n",
    "print(len(X), len(Y))"
   ]
  },
  {
   "cell_type": "markdown",
   "metadata": {},
   "source": [
    "#### Задание 1. Построить графически результаты эксперимента. Сформулировать линейную регрессионную модель переменной Y по переменной X. Построить МНК оценки параметров сдвига b0 и b1. Построить полученную линию регрессии. Оценить визуально соответствие полученных данных и построенной оценки."
   ]
  },
  {
   "cell_type": "markdown",
   "metadata": {},
   "source": [
    "Построение графика"
   ]
  },
  {
   "cell_type": "code",
   "execution_count": 18,
   "metadata": {},
   "outputs": [
    {
     "data": {
      "image/png": "[encoded data removed]",
      "text/plain": [
       "<Figure size 640x480 with 1 Axes>"
      ]
     },
     "metadata": {},
     "output_type": "display_data"
    },
    {
     "name": "stdout",
     "output_type": "stream",
     "text": [
      "Уравнение линейной регрессии: Y = 12.6023 + 0.0711 * X\n"
     ]
    }
   ],
   "source": [
    "# Вычисление МНК оценок параметров\n",
    "slope, intercept, r_value, p_value, std_err = stats.linregress(X, Y)\n",
    "\n",
    "# Построение линии регрессии\n",
    "plt.scatter(X, Y, label='Данные')\n",
    "plt.plot(X, intercept + slope * np.array(X), color='red', label='Линия регрессии')\n",
    "plt.xlabel('X')\n",
    "plt.ylabel('Y')\n",
    "plt.title('Линейная регрессия Y относительно X')\n",
    "plt.legend()\n",
    "plt.show()\n",
    "\n",
    "print(f\"Уравнение линейной регрессии: Y = {intercept:.4f} + {slope:.4f} * X\")"
   ]
  },
  {
   "cell_type": "markdown",
   "metadata": {},
   "source": [
    "Видно, что отклонение данных от графика очень большое."
   ]
  },
  {
   "cell_type": "markdown",
   "metadata": {},
   "source": [
    "#### Задание 2. Построить и интерпретировать несмещённую оценку дисперсии. На базе ошибок построить гистограмму с шагом h. Проверить гипотезу нормальности ошибок на уровне значимости $\\alpha$ по $\\chi^2$. Оценить расстояние полученной оценки до класса нормальных распределений по Колмогорову. Визуально оценить данный факт."
   ]
  },
  {
   "cell_type": "code",
   "execution_count": 19,
   "metadata": {},
   "outputs": [
    {
     "data": {
      "image/png": "[encoded data removed]",
      "text/plain": [
       "<Figure size 640x480 with 1 Axes>"
      ]
     },
     "metadata": {},
     "output_type": "display_data"
    },
    {
     "name": "stdout",
     "output_type": "stream",
     "text": [
      "Статистика хи-квадрат: 26.524444444444445\n",
      "Критическое значение хи-квадрат при alpha=0.2: 11.03009143030311\n",
      "Гипотеза о нормальности отклоняется\n",
      "Значение статистики Колмогорова: 0.28188112288192524\n",
      "p-value: 0.0005238186457026117\n",
      "Гипотеза о нормальности отклоняется\n"
     ]
    }
   ],
   "source": [
    "from scipy.stats import chi2, kstest\n",
    "\n",
    "# Остатки (ошибки) регрессии\n",
    "errors = np.array(Y) - (intercept + slope * np.array(X))\n",
    "\n",
    "# Оценка несмещённой дисперсии\n",
    "unbiased_variance = np.var(errors, ddof=1)  # ddof=1 для несмещённой оценки дисперсии\n",
    "\n",
    "# Построение гистограммы ошибок с шагом 1.6\n",
    "plt.hist(errors, bins=np.arange(min(errors), max(errors) + 1.6, 1.6), edgecolor='black')\n",
    "plt.xlabel('Ошибки')\n",
    "plt.ylabel('Частота')\n",
    "plt.title('Гистограмма ошибок с шагом 1.6')\n",
    "plt.show()\n",
    "\n",
    "# Проверка гипотезы нормальности ошибок с помощью теста хи-квадрат\n",
    "alpha = 0.2\n",
    "hist, bin_edges = np.histogram(errors, bins=np.arange(min(errors), max(errors) + 1.6, 1.6))\n",
    "expected = len(errors) / len(bin_edges)  # Ожидаемое количество значений в каждом бине\n",
    "chi_square_stat = np.sum(((hist - expected) ** 2) / expected)\n",
    "chi_square_critical = chi2.ppf(1 - alpha, len(bin_edges) - 1)  # Критическое значение хи-квадрат\n",
    "\n",
    "print(f\"Статистика хи-квадрат: {chi_square_stat}\")\n",
    "print(f\"Критическое значение хи-квадрат при alpha={alpha}: {chi_square_critical}\")\n",
    "if chi_square_stat > chi_square_critical:\n",
    "    print(\"Гипотеза о нормальности отклоняется\")\n",
    "else:\n",
    "    print(\"Нет оснований отклонить гипотезу о нормальности\")\n",
    "\n",
    "# Оценка расстояния между полученной оценкой и классом нормальных распределений по Колмогорову\n",
    "k_statistic, p_value = kstest(errors, 'norm')\n",
    "print(f\"Значение статистики Колмогорова: {k_statistic}\")\n",
    "print(f\"p-value: {p_value}\")\n",
    "if p_value < alpha:\n",
    "    print(\"Гипотеза о нормальности отклоняется\")\n",
    "else:\n",
    "    print(\"Нет оснований отклонить гипотезу о нормальности\")"
   ]
  },
  {
   "cell_type": "markdown",
   "metadata": {},
   "source": [
    "Визуально видно, что  распределение не совпадает с нормальным, однако некоторые очертания разглядеть можно. Возможно, нужна большая выборка для более точных результатов."
   ]
  },
  {
   "cell_type": "markdown",
   "metadata": {},
   "source": [
    "#### Задание 3. В предположении нормальности ошибок построить доверительные интервалы для параметров $\\beta_0$ и $\\beta_1$ уровня доверия $1-\\alpha$. Построить доверительный эллипс уровня доверия $1-\\alpha$ для $(\\beta_0,\\beta_1)$ (вычислить его полуоси)."
   ]
  },
  {
   "cell_type": "markdown",
   "metadata": {},
   "source": [
    "При предположении нормальности ошибок, построим доверительные интервалы для параметров $\\beta_0$ и $\\beta_1$ уровня доверия $1-\\alpha$.\n",
    "\n",
    "Формула для доверительного интервала параметров регрессии:\n",
    "\n",
    "Для $\\beta_0$:\n",
    "$$\n",
    "CI_{\\beta_0} = \\hat{\\beta_0} \\pm t_{\\alpha/2, n-2} \\cdot SE(\\hat{\\beta_0})\n",
    "$$\n",
    "\n",
    "Для $\\beta_1$:\n",
    "$$\n",
    "CI_{\\beta_1} = \\hat{\\beta_1} \\pm t_{\\alpha/2, n-2} \\cdot SE(\\hat{\\beta_1})\n",
    "$$\n",
    "\n",
    "Доверительный эллипс для $(\\beta_0, \\beta_1)$ с уровнем доверия $1-\\alpha$ строится на основе ковариационной матрицы оценок коэффициентов.\n",
    "\n",
    "Ковариационная матрица:\n",
    "$$\n",
    "Cov(\\hat{\\beta_0}, \\hat{\\beta_1}) = \\frac{\\hat{\\sigma}^2}{S_{XX}}\n",
    "\\begin{bmatrix}\n",
    "\\frac{\\sum X_i^2}{n} & -\\bar{X}\\sum X_i \\\\\n",
    "-\\bar{X}\\sum X_i & \\sum X_i^2\n",
    "\\end{bmatrix}\n",
    "$$\n",
    "\n",
    "Полуоси доверительного эллипса можно вычислить как корни из собственных значений ковариационной матрицы, умноженные на соответствующее квантильное значение хи-квадрат распределения для двух измерений:\n",
    "\n",
    "$$\n",
    "\\text{semi\\_axes} = \\sqrt{\\chi^2_{1-\\alpha} \\cdot \\text{eigenvalues}}\n",
    "$$"
   ]
  },
  {
   "cell_type": "code",
   "execution_count": 21,
   "metadata": {},
   "outputs": [
    {
     "name": "stdout",
     "output_type": "stream",
     "text": [
      "Доверительный интервал для beta_0: (11.381771063859983, 13.822918591312426)\n",
      "Доверительный интервал для beta_1: (-0.5634426360720722, 0.7056495326237963)\n",
      "Полуоси доверительного эллипса: [ 5.46932047 11.93818786]\n"
     ]
    }
   ],
   "source": [
    "from scipy.stats import t\n",
    "\n",
    "# Оценки коэффициентов регрессии\n",
    "beta_0 = intercept\n",
    "beta_1 = slope\n",
    "\n",
    "# Размер выборки\n",
    "n = len(X)\n",
    "\n",
    "# Стандартные ошибки оценок коэффициентов\n",
    "SE_beta_0 = np.sqrt(unbiased_variance * ((1 / n) + (np.mean(X) ** 2) / np.sum((np.array(X) - np.mean(X)) ** 2)))\n",
    "SE_beta_1 = np.sqrt(unbiased_variance / np.sum((np.array(X) - np.mean(X)) ** 2))\n",
    "\n",
    "# Критическое значение t-распределения\n",
    "alpha = 0.05\n",
    "t_critical = t.ppf(1 - alpha / 2, df=n - 2)\n",
    "\n",
    "# Доверительные интервалы для beta_0 и beta_1\n",
    "CI_beta_0 = (beta_0 - t_critical * SE_beta_0, beta_0 + t_critical * SE_beta_0)\n",
    "CI_beta_1 = (beta_1 - t_critical * SE_beta_1, beta_1 + t_critical * SE_beta_1)\n",
    "\n",
    "print(f\"Доверительный интервал для beta_0: {CI_beta_0}\")\n",
    "print(f\"Доверительный интервал для beta_1: {CI_beta_1}\")\n",
    "\n",
    "# Доверительный эллипс\n",
    "covariance_matrix = unbiased_variance / np.sum((np.array(X) - np.mean(X)) ** 2) * np.array([[np.sum(np.array(X) ** 2) / n, -np.mean(X) * np.sum(np.array(X))],\n",
    "                                                                                             [-np.mean(X) * np.sum(np.array(X)), np.sum(np.array(X) ** 2)]])\n",
    "eigenvalues, eigenvectors = np.linalg.eig(covariance_matrix)\n",
    "semi_axes = np.sqrt(np.abs(chi2.ppf(1 - alpha, df=2) * eigenvalues))\n",
    "\n",
    "print(f\"Полуоси доверительного эллипса: {semi_axes}\")"
   ]
  },
  {
   "cell_type": "markdown",
   "metadata": {},
   "source": [
    "#### Задание 4. Сформулировать гипотезу независимости переменной Y от переменной X. Провести проверку значимости."
   ]
  },
  {
   "cell_type": "markdown",
   "metadata": {},
   "source": [
    "Выясним коэффициент корреляции Пирсона между переменными X и Y.\n",
    "\n",
    "Коэффициент корреляции Пирсона определяется следующим образом:\n",
    "\n",
    "$$ r = \\frac{\\sum_{i=1}^{n} (X_i - \\bar{X})(Y_i - \\bar{Y})}{\\sqrt{\\sum_{i=1}^{n} (X_i - \\bar{X})^2 \\sum_{i=1}^{n} (Y_i - \\bar{Y})^2}} $$\n",
    "\n",
    "Проведём проверку значимости коэффициента корреляции для оценки статистической значимости."
   ]
  },
  {
   "cell_type": "code",
   "execution_count": 22,
   "metadata": {},
   "outputs": [
    {
     "name": "stdout",
     "output_type": "stream",
     "text": [
      "Коэффициент корреляции Пирсона: 0.03216901843017694\n",
      "p-value: 0.8244903713508994\n",
      "Нет достаточных доказательств для отклонения нулевой гипотезы: переменные X и Y, вероятно, независимы.\n"
     ]
    }
   ],
   "source": [
    "from scipy.stats import pearsonr\n",
    "\n",
    "# Вычисление коэффициента корреляции Пирсона и p-value\n",
    "correlation_coefficient, p_value = pearsonr(X, Y)\n",
    "\n",
    "print(f\"Коэффициент корреляции Пирсона: {correlation_coefficient}\")\n",
    "print(f\"p-value: {p_value}\")\n",
    "\n",
    "alpha = 0.05  # Уровень значимости\n",
    "\n",
    "if p_value < alpha:\n",
    "    print(\"Отклоняем нулевую гипотезу в пользу альтернативной: существует зависимость между переменными X и Y.\")\n",
    "else:\n",
    "    print(\"Нет достаточных доказательств для отклонения нулевой гипотезы: переменные X и Y, вероятно, независимы.\")"
   ]
  },
  {
   "cell_type": "markdown",
   "metadata": {},
   "source": [
    "#### Задание 5. Сформулировать модель, включающую дополнительный член с $X^2$. Построить МНК оценки параметров $\\beta_0$, $\\beta_1$, $\\beta_2$ в данной модели. Изобразить графически полученную регрессионную зависимость."
   ]
  },
  {
   "cell_type": "markdown",
   "metadata": {},
   "source": [
    "Мы рассматриваем модель вида:\n",
    "\n",
    "$$ Y = \\beta_0 + \\beta_1 \\cdot X + \\beta_2 \\cdot X^2 + \\varepsilon $$\n",
    "\n",
    "Для получения МНК оценок параметров $\\beta_0$, $\\beta_1$, $\\beta_2$ в данной модели, используем библиотеку `numpy` для выполнения линейной регрессии с дополнительным членом $X^2$."
   ]
  },
  {
   "cell_type": "code",
   "execution_count": 25,
   "metadata": {},
   "outputs": [
    {
     "data": {
      "image/png": "[encoded data removed]",
      "text/plain": [
       "<Figure size 640x480 with 1 Axes>"
      ]
     },
     "metadata": {},
     "output_type": "display_data"
    },
    {
     "name": "stdout",
     "output_type": "stream",
     "text": [
      "Оценка параметра beta_0: 12.658678160944975\n",
      "Оценка параметра beta_1: -0.14014655172662516\n",
      "Оценка параметра beta_2: 0.0704166666646383\n"
     ]
    }
   ],
   "source": [
    "import numpy as np\n",
    "import matplotlib.pyplot as plt\n",
    "from scipy.optimize import curve_fit\n",
    "\n",
    "# Функция для квадратичной регрессии\n",
    "def quadratic_regression(x, b0, b1, b2):\n",
    "    return b0 + b1 * x + b2 * x**2\n",
    "\n",
    "# Данные X и Y\n",
    "# Предположим, что X и Y содержат ваши данные\n",
    "\n",
    "# Применение МНК для квадратичной регрессии\n",
    "params, covariance = curve_fit(quadratic_regression, X, Y)\n",
    "\n",
    "# Полученные коэффициенты\n",
    "beta_0 = params[0]\n",
    "beta_1 = params[1]\n",
    "beta_2 = params[2]\n",
    "\n",
    "# Построение графика регрессионной зависимости\n",
    "plt.scatter(X, Y, label='Данные')\n",
    "x_range = np.linspace(min(X), max(X), 100)\n",
    "plt.plot(x_range, quadratic_regression(x_range, *params), color='red', label='Квадратичная регрессия')\n",
    "plt.xlabel('X')\n",
    "plt.ylabel('Y')\n",
    "plt.title('Квадратичная регрессия')\n",
    "plt.legend()\n",
    "plt.show()\n",
    "\n",
    "print(f\"Оценка параметра beta_0: {beta_0}\")\n",
    "print(f\"Оценка параметра beta_1: {beta_1}\")\n",
    "print(f\"Оценка параметра beta_2: {beta_2}\")"
   ]
  },
  {
   "cell_type": "markdown",
   "metadata": {},
   "source": [
    "#### Задание 6. Построить несмещённую оценку дисперсии. Провести исследование нормальности ошибок как в пункте 2."
   ]
  },
  {
   "cell_type": "code",
   "execution_count": 26,
   "metadata": {},
   "outputs": [
    {
     "data": {
      "image/png": "[encoded data removed]",
      "text/plain": [
       "<Figure size 640x480 with 1 Axes>"
      ]
     },
     "metadata": {},
     "output_type": "display_data"
    },
    {
     "name": "stdout",
     "output_type": "stream",
     "text": [
      "Статистика хи-квадрат: 26.524444444444445\n",
      "Критическое значение хи-квадрат при alpha=0.05: 15.50731305586545\n",
      "Гипотеза о нормальности отклоняется\n",
      "Значение статистики Колмогорова: 0.28188112288192524\n",
      "p-value: 0.0005238186457026117\n",
      "Гипотеза о нормальности отклоняется\n"
     ]
    }
   ],
   "source": [
    "from scipy.stats import chi2, kstest\n",
    "\n",
    "# Несмещённая оценка дисперсии\n",
    "unbiased_variance = np.var(errors, ddof=1)  # errors - остатки после квадратичной регрессии\n",
    "\n",
    "# Построение гистограммы ошибок с шагом h\n",
    "h = 1.6\n",
    "plt.hist(errors, bins=np.arange(min(errors), max(errors) + h, h), edgecolor='black')\n",
    "plt.xlabel('Ошибки')\n",
    "plt.ylabel('Частота')\n",
    "plt.title('Гистограмма ошибок с шагом 1.6')\n",
    "plt.show()\n",
    "\n",
    "# Проверка гипотезы нормальности ошибок с помощью теста хи-квадрат\n",
    "alpha = 0.05\n",
    "hist, bin_edges = np.histogram(errors, bins=np.arange(min(errors), max(errors) + h, h))\n",
    "expected = len(errors) / len(bin_edges)  # Ожидаемое количество значений в каждом бине\n",
    "chi_square_stat = np.sum(((hist - expected) ** 2) / expected)\n",
    "chi_square_critical = chi2.ppf(1 - alpha, len(bin_edges) - 1)  # Критическое значение хи-квадрат\n",
    "\n",
    "print(f\"Статистика хи-квадрат: {chi_square_stat}\")\n",
    "print(f\"Критическое значение хи-квадрат при alpha={alpha}: {chi_square_critical}\")\n",
    "if chi_square_stat > chi_square_critical:\n",
    "    print(\"Гипотеза о нормальности отклоняется\")\n",
    "else:\n",
    "    print(\"Нет оснований отклонить гипотезу о нормальности\")\n",
    "\n",
    "# Оценка расстояния до класса нормальных распределений по Колмогорову\n",
    "k_statistic, p_value = kstest(errors, 'norm')\n",
    "print(f\"Значение статистики Колмогорова: {k_statistic}\")\n",
    "print(f\"p-value: {p_value}\")\n",
    "if p_value < alpha:\n",
    "    print(\"Гипотеза о нормальности отклоняется\")\n",
    "else:\n",
    "    print(\"Нет оснований отклонить гипотезу о нормальности\")"
   ]
  },
  {
   "cell_type": "markdown",
   "metadata": {},
   "source": [
    "#### Задание 7. В предположении нормальности ошибок построить доверительные интервалы для параметров $\\beta_0$, $\\beta_1$, $\\beta_2$ уровня доверия $1-\\alpha$. Написать уравнение доверительного эллипсоида уровня доверия $1-\\alpha$."
   ]
  },
  {
   "cell_type": "code",
   "execution_count": 27,
   "metadata": {},
   "outputs": [
    {
     "name": "stdout",
     "output_type": "stream",
     "text": [
      "Доверительный интервал для beta_0: (11.766867994234866, 13.550488327655083)\n",
      "Доверительный интервал для beta_1: (-1.7172223512952094, 1.436929247841959)\n",
      "Доверительный интервал для beta_2: (-0.43694481701806653, 0.5777781503473431)\n",
      "Уравнение доверительного эллипсоида: x^2/0.48425338711511934 + y^2/1.5143733698250603 = 1\n"
     ]
    }
   ],
   "source": [
    "from scipy.stats import norm\n",
    "\n",
    "# Уровень доверия\n",
    "alpha = 0.2\n",
    "\n",
    "# Критическое значение для уровня доверия (alpha/2 для двухстороннего доверительного интервала)\n",
    "z_alpha = norm.ppf(1 - alpha / 2)\n",
    "\n",
    "# Ковариационная матрица оценок параметров регрессии\n",
    "cov_matrix = covariance  # covariance - матрица ковариаций, полученная из МНК\n",
    "\n",
    "# Доверительные интервалы для beta_0, beta_1, beta_2\n",
    "confidence_interval_beta_0 = (beta_0 - z_alpha * np.sqrt(cov_matrix[0, 0]), beta_0 + z_alpha * np.sqrt(cov_matrix[0, 0]))\n",
    "confidence_interval_beta_1 = (beta_1 - z_alpha * np.sqrt(cov_matrix[1, 1]), beta_1 + z_alpha * np.sqrt(cov_matrix[1, 1]))\n",
    "confidence_interval_beta_2 = (beta_2 - z_alpha * np.sqrt(cov_matrix[2, 2]), beta_2 + z_alpha * np.sqrt(cov_matrix[2, 2]))\n",
    "\n",
    "print(f\"Доверительный интервал для beta_0: {confidence_interval_beta_0}\")\n",
    "print(f\"Доверительный интервал для beta_1: {confidence_interval_beta_1}\")\n",
    "print(f\"Доверительный интервал для beta_2: {confidence_interval_beta_2}\")\n",
    "\n",
    "# Уравнение доверительного эллипсоида\n",
    "semi_axes = np.sqrt(np.diag(cov_matrix))\n",
    "print(f\"Уравнение доверительного эллипсоида: x^2/{semi_axes[0]**2} + y^2/{semi_axes[1]**2} = 1\")"
   ]
  },
  {
   "cell_type": "markdown",
   "metadata": {},
   "source": [
    "#### Задание 8. Сформулировать гипотезу линейной регрессионной зависимости переменной Y от переменной X и проверить её значимость на уровне $\\alpha$."
   ]
  },
  {
   "cell_type": "markdown",
   "metadata": {},
   "source": [
    "### Гипотезы\n",
    "\n",
    "$H_0$: Отсутствие линейной зависимости: $\\beta_1 = 0$\n",
    "\n",
    "$H_1$: Наличие линейной зависимости: $\\beta_1 \\neq 0$\n",
    "\n",
    "### Проверка значимости\n",
    "\n",
    "Для проверки значимости используем коэффициент наклона $\\beta_1$ и его p-value при уровне значимости $\\alpha$."
   ]
  },
  {
   "cell_type": "code",
   "execution_count": 29,
   "metadata": {},
   "outputs": [
    {
     "name": "stdout",
     "output_type": "stream",
     "text": [
      "p-value для коэффициента наклона (beta_1): 0.8244903713509002\n",
      "Нет достаточных доказательств для отклонения нулевой гипотезы: вероятно, отсутствует линейная зависимость между X и Y.\n"
     ]
    }
   ],
   "source": [
    "from scipy.stats import linregress\n",
    "\n",
    "# Выполним линейную регрессию для получения коэффициентов, в том числе коэффициента наклона (beta_1)\n",
    "slope, intercept, r_value, p_value, std_err = linregress(X, Y)\n",
    "\n",
    "alpha = 0.2\n",
    "\n",
    "print(f\"p-value для коэффициента наклона (beta_1): {p_value}\")\n",
    "\n",
    "if p_value < alpha:\n",
    "    print(\"Отклоняем нулевую гипотезу: существует линейная зависимость между X и Y.\")\n",
    "else:\n",
    "    print(\"Нет достаточных доказательств для отклонения нулевой гипотезы: вероятно, отсутствует линейная зависимость между X и Y.\")"
   ]
  },
  {
   "cell_type": "markdown",
   "metadata": {},
   "source": [
    "## Выводы\n",
    "\n"
   ]
  },
  {
   "cell_type": "markdown",
   "metadata": {},
   "source": [
    "Была исследована линейная регрессионная модель. Были построены линейная и квадратичная зависимости между X и Y.  \n",
    "Была проведена проверка нормальности ошибок отклонения данных от линейной и квадратичной регрессий.  \n",
    "Была проведена проверка значимости регрессии, которая показала отсутствие линейной зависимости между X и Y.  \n",
    "Были построены доверительные интервалы и доверительный эллипсоид для $\\beta_0$ и $\\beta_1$."
   ]
  }
 ],
 "metadata": {
  "kernelspec": {
   "display_name": "Python 3 (ipykernel)",
   "language": "python",
   "name": "python3"
  },
  "language_info": {
   "codemirror_mode": {
    "name": "ipython",
    "version": 3
   },
   "file_extension": ".py",
   "mimetype": "text/x-python",
   "name": "python",
   "nbconvert_exporter": "python",
   "pygments_lexer": "ipython3",
   "version": "3.10.12"
  }
 },
 "nbformat": 4,
 "nbformat_minor": 4
}
