{
 "cells": [
  {
   "cell_type": "markdown",
   "metadata": {},
   "source": [
    "# Практическая работа №1: Исследование двумерного нормального распределения\n",
    "Выполнил студент гр. 1374 Сабанов Петр. Вариант №20"
   ]
  },
  {
   "cell_type": "markdown",
   "metadata": {},
   "source": [
    "## Цель работы\n",
    "Научится применять методы математической статистики для решения задач статистического анализа; сформировать навыки реализации методов с помощью прикладных программных пакетов."
   ]
  },
  {
   "cell_type": "markdown",
   "metadata": {},
   "source": [
    "## Основные теоретические положения\n",
    "\n",
    "Выборка - это совокупность независимых одинаково распределённых случайных величин, полученных из изучаемого распределения.  \n",
    "$X_1, ..., X_n$\n",
    "\n",
    "Вариационный ряд - это упорядоченная последовательность уникальных значений выборки.  \n",
    "$X_{(1)}, ..., X_{(n)}$\n",
    "\n",
    "Эмпирическая функция распределения $F_n(x) = \\frac1n \\sum_{i=1}^n{\\mathbb{I}_{\\left\\{X_i < x\\right\\}}}$.\n",
    "\n",
    "Гистограмма частот - это графическое представление распределения частот значений вариационного ряда на заданные интервалы (интервалы разбиения).\n",
    "\n",
    "Полигон частот - это график, соединяющий середины верхних сторон прямоугольников гистограммы частот, представляющий распределение частот значений выборки.\n",
    "\n",
    "Математическое ожидание (expectation):\n",
    "$\\mu_X = \\mathrm{E}[X] = \\int_{-\\infty}^{\\infty} x \\cdot f_X(x) \\, dx$\n",
    "\n",
    "Дисперсия (variance):\n",
    "$\\sigma_X^2 = \\mathrm{E}[(X - \\mu_X)^2] = \\int_{-\\infty}^{\\infty} (x - \\mu_X)^2 \\cdot f_X(x) \\, dx$\n",
    "\n",
    "Среднеквадратическое отклонение (standard deviation):\n",
    "$\\sigma_X = \\sqrt{\\sigma_X^2}$\n",
    "\n",
    "Медиана (median):\n",
    "Для непрерывной случайной величины: $m: F_X(m) = \\frac{1}{2}$\n",
    "Для дискретной случайной величины: $m: F_X(m) \\geq \\frac{1}{2}$ и $F_X(m - 1) < \\frac{1}{2}$\n",
    "\n",
    "Асимметрия (skewness):\n",
    "$\\gamma_X = \\mathrm{E}\\left[\\left(\\frac{X - \\mu_X}{\\sigma_X}\\right)^3\\right]$\n",
    "\n",
    "Эксцесс (kurtosis):\n",
    "$\\kappa_X = \\mathrm{E}\\left[\\left(\\frac{X - \\mu_X}{\\sigma_X}\\right)^4\\right] - 3$\n",
    "\n",
    "Вероятность попадания случайной величины в промежуток:\n",
    "Для непрерывной случайной величины: $\\mathrm{P}(a \\leq X \\leq b) = \\int_{a}^{b} f_X(x) \\, dx$\n",
    "Для дискретной случайной величины: $\\mathrm{P}(a \\leq X \\leq b) = \\sum_{x=a}^{b} \\mathrm{P}(X = x)$\n",
    "\n",
    "##### Распределение Пуассона\n",
    "Распределение вероятностей дискретной случайной величины, представляющей собой количество событий, произошедших за фиксированное время или в фиксированном объеме пространства, если события происходят с постоянной средней интенсивностью и независимо друг от друга.\n",
    "\n",
    "$$ P(X=k) = \\frac{\\lambda^k \\cdot e^{-\\lambda}}{k!}, \\quad k = 0, 1, 2, \\ldots $$\n",
    "\n",
    "##### Геометрическое распределение\n",
    "Распределение вероятностей дискретной случайной величины, обозначающей количество испытаний до первого успеха в серии независимых испытаний Бернулли, при условии, что вероятность успеха в каждом испытании постоянна и равна \\(p\\).\n",
    "\n",
    "$$ P(X=k) = (1 - p)^{k-1} \\cdot p, \\quad k = 1, 2, 3, \\ldots $$\n",
    "\n",
    "##### Нормальное распределение\n",
    "Континуальное распределение вероятностей, характеризующееся плотностью вероятности, которая имеет колоколообразную кривую (кривая Гаусса).\n",
    "\n",
    "$$ f(x|\\mu,\\sigma^2) = \\frac{1}{\\sqrt{2\\pi\\sigma^2}} \\cdot e^{-\\frac{(x-\\mu)^2}{2\\sigma^2}} $$\n",
    "\n",
    "##### Распределение Лапласа\n",
    "Распределение вероятностей, похожее на нормальное, но с более тяжёлыми хвостами. Оно описывает различные явления, включая финансовые данные и сигналы с шумами.\n",
    "\n",
    "$$ f(x|a,b) = \\frac{1}{2b} \\cdot e^{-\\frac{|x-a|}{b}} $$\n",
    "\n",
    "##### Метод максимального правдоподобия (ММП)\n",
    "Метод оценки параметров статистической модели путём максимизации функции правдоподобия. Оценки параметров выбираются так, чтобы вероятность получить наблюдаемые данные была наибольшей.\n",
    "\n",
    "Функция правдоподобия: \n",
    "$L(\\theta | X) = \\prod_{i=1}^{n} f(x_i | \\theta)$  \n",
    ", где $( X = \\{x_1, x_2, ..., x_n\\} )$ — наблюдаемые данные, $( \\theta )$ — параметры модели, $f(x_i | \\theta)$ — функция плотности вероятности или вероятностная функция.\n",
    "\n",
    "##### Метод моментов (ММ)\n",
    "Метод оценки параметров, основанный на приравнивании теоретических моментов распределения к их выборочным аналогам.\n",
    "\n",
    "Для оценки параметров распределения находятся теоретические моменты и приравнивают их к выборочным моментам:  \n",
    "$\\text{Теоретический момент} = \\text{Выборочный момент}$.  \n",
    "Это позволяет выразить оценки параметров через выборочные моменты.\n",
    "\n",
    "Например, для распределения с двумя параметрами, метод моментов может использовать выборочное среднее для оценки математического ожидания и выборочную дисперсию для оценки дисперсии.\n",
    "\n",
    "##### Доверительное оценивание:\n",
    "\n",
    "**Точный доверительный интервал** - интервал, построенный на основе теоретических распределений и точно учитывающий вероятностные свойства оценки.\n",
    "\n",
    "$\\left[ T_1(X_1, X_2, ..., X_n), T_2(X_1, X_2, ..., X_n) \\right]$\n",
    "\n",
    "**Асимптотический доверительный интервал** - интервал, основанный на асимптотических свойствах оценки и применении центральной предельной теоремы для больших выборок.\n",
    "\n",
    "$\\left[ \\hat{\\theta} - z_{\\alpha/2} \\cdot \\text{SE}(\\hat{\\theta}), \\hat{\\theta} + z_{\\alpha/2} \\cdot \\text{SE}(\\hat{\\theta}) \\right]$  \n",
    ", где $\\hat{\\theta}$ - оценка параметра, $z_{\\alpha/2}$ - квантиль нормального распределения уровня $\\alpha/2$, $\\text{SE}(\\hat{\\theta})$ - стандартная ошибка оценки.\n",
    "\n",
    "##### Оценка математического ожидания $\\mu$ и дисперсии $\\sigma^2$ нормального распределения с известной дисперсией $\\sigma_0^2$ основана на лемме Фишера:\n",
    "\n",
    "Математическое ожидание $\\mu$ оценивается как $\\hat{\\mu} = \\bar{X}$, где $\\bar{X}$ - выборочное среднее.\n",
    "\n",
    "Доверительный интервал для $\\mu$ с уровнем доверия $1 - \\alpha$ задается как: \n",
    "$$\n",
    "\\left(\\bar{X} - z_{\\alpha/2} \\frac{\\sigma_0}{\\sqrt{n}}, \\bar{X} + z_{\\alpha/2} \\frac{\\sigma_0}{\\sqrt{n}}\\right)\n",
    "$$\n",
    "\n",
    "Дисперсия $\\sigma^2$ оценивается как $\\hat{\\sigma}^2 = \\frac{1}{n} \\sum_{i=1}^{n}(X_i - \\bar{X})^2$.\n",
    "\n",
    "Доверительный интервал для $\\sigma^2$ с уровнем доверия $1 - \\alpha$ задается как: \n",
    "$$\n",
    "\\left(\\frac{(n-1) \\hat{\\sigma}^2}{\\chi_{\\alpha/2}^2}, \\frac{(n-1) \\hat{\\sigma}^2}{\\chi_{1-\\alpha/2}^2}\\right)\n",
    "$$\n",
    "\n",
    "где $z_{\\alpha/2}$ - квантиль стандартного нормального распределения, $\\chi_{\\alpha/2}^2$ - квантиль распределения хи-квадрат с $(n-1)$ степенями свободы.\n",
    "\n",
    "##### Асимптотический доверительный интервал на базе ОМП:\n",
    "\n",
    "Метод:\n",
    "1. Найдем оценки $\\hat{\\mu}$ и $\\hat{\\sigma}^2$ методом максимального правдоподобия.\n",
    "2. Рассчитаем информацию Фишера: $I(\\theta) = -\\mathbb{E}\\left[\\frac{\\partial^2}{\\partial \\theta^2} \\ln f(X|\\theta)\\right]$.\n",
    "3. Сформируем доверительный интервал вида $\\hat{\\theta} \\pm z_{1-\\frac{\\alpha}{2}} \\frac{\\sqrt{I(\\theta)}}{n}$, где $z_{1-\\frac{\\alpha}{2}}$ - квантиль стандартного нормального распределения.\n",
    "\n",
    "##### Проверка статистических гипотез.\n",
    "\n",
    "В математической статистике гипотеза представляет собой утверждение о параметрах или законах распределения случайных величин. Основная гипотеза, обозначаемая как $H_0$, предполагает отсутствие эффекта, отличия или связи, в то время как альтернативная гипотеза, обозначаемая как $H_1$ или $H_a$, предполагает наличие эффекта, отличия или связи.\n",
    "\n",
    "Формально:\n",
    "- Основная гипотеза ($H_0$): Выражает нулевое предположение о параметрах или отсутствие эффекта. Например, $H_0: \\mu = \\mu_0$, где $\\mu$ - среднее, $\\mu_0$ - предполагаемое значение среднего.\n",
    "- Альтернативная гипотеза ($H_1$ или $H_a$): Выражает альтернативное предположение, которое может быть принято в случае отвержения основной гипотезы. Например, $H_1: \\mu > \\mu_0$ (односторонняя альтернатива) или $H_a: \\mu \\neq \\mu_0$ (двусторонняя альтернатива).\n",
    "\n",
    "Критерий в математической статистике представляет собой правило или алгоритм, используемый для принятия решения относительно основной гипотезы ($H_0$) на основе данных выборки. Он определяет, следует ли отклонить основную гипотезу в пользу альтернативы на основе статистических показателей, например, на основе значений выборочных статистик.\n",
    "\n",
    "Мощность критерия представляет собой вероятность того, что критерий правильно отклонит неверную основную гипотезу ($H_0$), когда на самом деле верна альтернативная гипотеза ($H_1$). Иными словами, это способность критерия обнаружить наличие эффекта или различия, если они существуют в генеральной совокупности.\n",
    "\n",
    "##### Критерий $\\chi^2$.\n",
    "\n",
    "Критерий $\\chi^2$ (хи-квадрат) является статистическим методом для оценки различий между наблюдаемыми и ожидаемыми частотами в категориальной переменной.\n",
    "\n",
    "Шаги критерия:\n",
    "1. Формулирование гипотезы $H_0$ о независимости между переменными.\n",
    "2. Разделение данных на категории и подсчёт наблюдаемых частот $O_i$ в каждой категории.\n",
    "3. Определение ожидаемых частот $E_i$ в каждой категории при условии справедливости $H_0$.\n",
    "4. Расчёт статистики $\\chi^2 = \\sum \\frac{(O_i - E_i)^2}{E_i}$.\n",
    "5. Сравнение полученного значения $\\chi^2$ с критическим значением $\\chi^2_{\\alpha, \\text{степени свободы}}$.\n",
    "6. Если $\\chi^2$ превышает критическое значение, отвергаем $H_0$.\n",
    "\n",
    "Формула для статистики $\\chi^2$:\n",
    "$\n",
    "\\chi^2 = \\sum \\frac{(O_i - E_i)^2}{E_i}\n",
    "$\n",
    "\n",
    "Где:\n",
    "- $O_i$ - наблюдаемые частоты в категории $i$.\n",
    "- $E_i$ - ожидаемые частоты в категории $i$ при условии справедливости $H_0$.\n",
    "\n",
    "Критическое значение $\\chi^2_{\\alpha, \\text{степени свободы}}$ определяется на основе уровня значимости $\\alpha$ и степени свободы, и используется для принятия решения об отвержении $H_0$.\n",
    "\n",
    "##### Критерий Колмогорова\n",
    "\n",
    "Для проверки соответствия эмпирической функции распределения (ЭФР) теоретической функции распределения (ТФР) используется критерий Колмогорова.\n",
    "\n",
    "**Гипотезы:**\n",
    "- $H_0$: ЭФР соответствует ТФР.\n",
    "- $H_1$: ЭФР не соответствует ТФР.\n",
    "\n",
    "**Шаги критерия:**\n",
    "1. Вычисление разности между ЭФР и ТФР.\n",
    "2. Нахождение максимальной абсолютной разности.\n",
    "3. Сравнение полученного значения с критическим значением из таблицы или вычисление p-уровня значимости.\n",
    "\n",
    "**Статистика критерия:**\n",
    "Статистика Колмогорова $D$ равна максимальной абсолютной разности между ЭФР и ТФР.\n",
    "\n",
    "Формула для $D$:\n",
    "$ D = \\max |F_n(x) - F(x)| $\n",
    "где $F_n(x)$ - эмпирическая функция распределения, $F(x)$ - теоретическая функция распределения.\n",
    "\n",
    "**Принятие решения:**\n",
    "- Если $D$ меньше критического значения, $H_0$ не отвергается.\n",
    "- Если $D$ больше критического значения, $H_0$ отвергается в пользу $H_1$.\n",
    "\n",
    "##### Построение наиболее мощного критерия.\n",
    "\n",
    "Наиболее мощный критерий - критерий отношения правдоподобия (Likelihood Ratio, LR), определяемый как отношение функций правдоподобия двух гипотез.\n",
    "\n",
    "$$ LR(\\vec{X}) = \\frac{L_1(\\vec{X})}{L_0(\\vec{X})} = \\left( \\frac{\\lambda_1}{\\lambda_0} \\right)^{\\sum{X_i}} e^{n\\lambda_0 - n\\lambda_1} $$\n",
    "\n",
    "Задача формирования критерия с использованием LR: \n",
    "\n",
    "$$\\phi(\\sum{X_i}) =\n",
    " \\begin{cases}\n",
    "   0, & \\sum{X_i} < c \\\\\n",
    "   q, & \\sum{X_i} = c \\\\\n",
    "   1, & \\sum{X_i} > c\n",
    " \\end{cases}$$\n",
    "\n",
    "Требуется найти $c$, при котором $\\mathrm{P}_0(\\sum{X_i} > c) < \\alpha_1$, но $\\mathrm{P}_0(\\sum{X_i} \\geq c) > \\alpha_1$.\n",
    "\n",
    "$q = \\frac{\\alpha_1 - \\mathrm{P}_0(\\sum{X_i} < c)}{\\mathrm{P}_0(\\sum{X_i} = c)}$"
   ]
  },
  {
   "cell_type": "markdown",
   "metadata": {},
   "source": [
    "## Постановка задачи\n",
    "Для полученных в результате эксперимента наборов данных выполнить статистическую обработку. Полученные результаты содержательно проинтерпретировать."
   ]
  },
  {
   "cell_type": "markdown",
   "metadata": {},
   "source": [
    "## Выполнение работы"
   ]
  },
  {
   "cell_type": "markdown",
   "metadata": {},
   "source": [
    "### Задание 1."
   ]
  },
  {
   "cell_type": "code",
   "execution_count": 31,
   "metadata": {},
   "outputs": [
    {
     "name": "stdout",
     "output_type": "stream",
     "text": [
      "Выборка:  [3, 2, 4, 2, 5, 6, 3, 3, 2, 5, 3, 4, 1, 1, 3, 3, 4, 0, 2, 5, 5, 4, 2, 2, 5, 4, 5, 0, 6, 0, 5, 2, 1, 3, 4, 2, 3, 2, 4, 2, 1, 0, 3, 6, 3, 3, 2, 2, 6, 3]\n",
      "Размер выборки:  50\n"
     ]
    }
   ],
   "source": [
    "import math\n",
    "import numpy as np\n",
    "import matplotlib.pyplot as plt\n",
    "from scipy import stats\n",
    "\n",
    "# Выборка\n",
    "data = [3, 2, 4, 2, 5, 6, 3, 3, 2, 5, 3, 4, 1, 1, 3, 3, 4, 0, 2, 5, 5, 4, 2, 2, 5, 4, 5, 0, 6, 0, 5, 2, 1, 3, 4, 2, 3, 2, 4, 2, 1, 0, 3, 6, 3, 3, 2, 2, 6, 3]\n",
    "N = len(data)\n",
    "\n",
    "print('Выборка: ', data)\n",
    "print('Размер выборки: ', N)"
   ]
  },
  {
   "cell_type": "markdown",
   "metadata": {},
   "source": [
    "#### 1.a) Построить вариационный ряд, эмпирическую функцию распределения и гистограмму частот."
   ]
  },
  {
   "cell_type": "code",
   "execution_count": 32,
   "metadata": {},
   "outputs": [
    {
     "name": "stdout",
     "output_type": "stream",
     "text": [
      "Вариационный ряд: [0 0 0 0 1 1 1 1 2 2 2 2 2 2 2 2 2 2 2 2 3 3 3 3 3 3 3 3 3 3 3 3 4 4 4 4 4\n",
      " 4 4 5 5 5 5 5 5 5 6 6 6 6]\n"
     ]
    },
    {
     "data": {
      "image/png": "[encoded data removed]",
      "text/plain": [
       "<Figure size 432x288 with 1 Axes>"
      ]
     },
     "metadata": {
      "needs_background": "light"
     },
     "output_type": "display_data"
    }
   ],
   "source": [
    "# Вариационный ряд\n",
    "sorted_data = np.sort(data)\n",
    "print('Вариационный ряд:', sorted_data)\n",
    "\n",
    "# Эмпирическая функция распределения\n",
    "def plot_empirical_cdf(data):\n",
    "    hist, edges = np.histogram(data, bins=len(data))\n",
    "    Y = hist.cumsum() / len(data)\n",
    "    for i in range(len(Y)-1):\n",
    "        plt.plot([edges[i], edges[i+1]],[Y[i], Y[i]], c=\"blue\")\n",
    "    plt.show()\n",
    "\n",
    "plot_empirical_cdf(sorted_data)"
   ]
  },
  {
   "cell_type": "code",
   "execution_count": 33,
   "metadata": {},
   "outputs": [
    {
     "data": {
      "image/png": "[encoded data removed]",
      "text/plain": [
       "<Figure size 432x288 with 1 Axes>"
      ]
     },
     "metadata": {
      "needs_background": "light"
     },
     "output_type": "display_data"
    }
   ],
   "source": [
    "# Гистограмма частот\n",
    "def plot_histogram(data, min, max):\n",
    "    plt.hist(data, color = 'blue', edgecolor = 'black',\n",
    "         bins=range(min, max + 2))\n",
    "\n",
    "plot_histogram(sorted_data, sorted_data[0], sorted_data[-1])"
   ]
  },
  {
   "cell_type": "markdown",
   "metadata": {},
   "source": [
    "#### 1.b) Вычислить выборочные аналоги следующих числовых характеристик: (i) математического ожидания, (ii) дисперсии, (iii) СКО, (iv) медианы, (v) асимметрии, (vi) эксцесса, (vii) вероятности $\\mathrm{P}(X \\in \\left[a, b \\right])$."
   ]
  },
  {
   "cell_type": "code",
   "execution_count": 34,
   "metadata": {},
   "outputs": [
    {
     "name": "stdout",
     "output_type": "stream",
     "text": [
      "Мат. ожидание = 3.02\n",
      "Дисперсия = 2.6996\n",
      "СКО = 1.6430459518832699\n",
      "Медиана = 3.0\n",
      "Асимметрия = 0.0491517786314598\n",
      "Эксцесс = -0.6898396300722385\n",
      "Вероятность попадания в промежуток = 0.38\n"
     ]
    }
   ],
   "source": [
    "a = 2.65\n",
    "b = 4.39\n",
    "\n",
    "mean = np.mean(data)\n",
    "variance = np.var(data)\n",
    "deviation = np.std(data)\n",
    "median = np.median(data)\n",
    "skewness = stats.skew(data)\n",
    "kurtosis = stats.kurtosis(data)\n",
    "\n",
    "print(\"Мат. ожидание =\", mean)\n",
    "print(\"Дисперсия =\", variance)\n",
    "print(\"СКО =\", deviation)\n",
    "print(\"Медиана =\", median)\n",
    "print(\"Асимметрия =\", skewness)\n",
    "print(\"Эксцесс =\", kurtosis)\n",
    "print(\"Вероятность попадания в промежуток =\", len([x for x in data if a <= x <= b]) / len(data))"
   ]
  },
  {
   "cell_type": "markdown",
   "metadata": {},
   "source": [
    "#### 1.c) В предположении, что исходные наблюдения являются выборкой из распределения Пуассона, построить оценку максимального правдоподобия параметра $\\lambda$, а также оценку $\\lambda$ по методу моментов. Найти смещение оценок.\n",
    "\n",
    "Распределение Пуассона: $q(k) = \\frac{\\lambda^k e^{-\\lambda}}{k!}$\n",
    "\n",
    "1) ОМП\n",
    "\n",
    "$\\displaystyle L(\\vec{X}; \\theta) = \\prod_{i=1}^{n}{\\frac{\\lambda^{X_i} e^{-\\lambda}}{X_i!}} = \\lambda^{\\sum{X_i}} e^{-n\\lambda} \\cdot \\left(\\prod_{i=1}^{n}{X_i!}\\right)^{-1}$  \n",
    "$\\displaystyle LL(\\vec{X}; \\theta) = \\sum{X_i} \\ln{\\lambda} - n\\lambda - \\ln{\\left(\\prod_{i=1}^{n}{X_i!}\\right)}$  \n",
    "$\\displaystyle LL'(\\vec{X}; \\theta) = \\frac{\\sum{X_i}}{\\lambda} - n = 0 \\ \\Rightarrow \\ \\widehat{\\lambda} = \\overline{X}$\n",
    "\n",
    "$\\displaystyle \\mathrm{E}_{\\theta} \\overline{X} = \\mathrm{E}_{\\theta} X_1 = \\sum_{k=0}^{\\infty}{k \\cdot \\frac{\\lambda^k e^{-\\lambda}}{k!}} = 0 + \\sum_{k=1}^{\\infty}{\\frac{\\lambda^k e^{-\\lambda}}{(k-1)!}} = \\lambda e^{-\\lambda} \\sum_{k=0}^{\\infty}{\\frac{\\lambda^k}{k!}} = \\lambda e^{-\\lambda} e^{\\lambda} = \\lambda \\ \\Rightarrow$ значит $\\overline{X}$ - несмещённая оценка.\n",
    "\n",
    "Из предыдущего пункта:  \n",
    "$\\widehat{\\lambda} = \\overline{X} = 3.02$\n",
    "\n",
    "2) ОММ\n",
    "\n",
    "Первый момент для распределения Пуассона мы уже нашли:\n",
    "$\\mathrm{E}_{\\theta} X_1 = \\lambda$\n",
    "\n",
    "Значит, ОММ:\n",
    "$\\widehat{\\lambda} = \\overline{X}$\n",
    "\n",
    "Получили ту же оценку, что и в методе максимального правдоподобия."
   ]
  },
  {
   "cell_type": "markdown",
   "metadata": {},
   "source": [
    "#### 1.d) Построить асимптотический доверительный интервал уровня значимости $\\alpha_1$ для параметра $\\lambda$ на базе оценки максимального правдоподобия.\n",
    "\n",
    "$\\alpha_1 = 0.05$\n",
    "\n",
    "$\\widehat{\\lambda} = \\overline{X}$\n",
    "\n",
    "$\\sqrt{n \\cdot I\\left( \\widehat{\\lambda}(\\vec{X}) \\right)}\\left( \\widehat{\\lambda}(\\vec{X}) - \\lambda \\right) \\sim N(0,1)$, где $I\\left( \\widehat{\\lambda}(\\vec{X}) \\right) = \\lim_{n \\rightarrow \\infty} {\\frac{I_n\\left( \\widehat{\\lambda}(\\vec{X}) \\right)}n}$, $I_n - информация Фишера$\n",
    "\n",
    "$I_n\\left( \\widehat{\\lambda}(\\vec{X}) \\right) = -\\mathrm{E}_{\\theta}{\\frac{\\partial^2 LL}{\\partial \\lambda^2}} = -\\mathrm{E}_{\\theta}{\\left(-\\frac{\\sum{X_i}}{\\lambda^2}\\right)} = \\frac{n}{\\lambda^2} \\mathrm{E}_{\\theta}{X_1} = \\frac{n}{\\lambda^2} \\cdot \\lambda = \\frac{n}{\\lambda}$\n",
    "\n",
    "$I\\left( \\widehat{\\lambda}(\\vec{X}) \\right) = \\lim_{n \\rightarrow \\infty} {\\frac{I_n\\left( \\widehat{\\lambda}(\\vec{X}) \\right)}n} = \\frac1{\\widehat{\\lambda}}$\n",
    "\n",
    "$\\sqrt{n \\cdot \\frac1{\\widehat{\\lambda}}}\\left( \\widehat{\\lambda}(\\vec{X}) - \\lambda \\right) \\sim N(0,1)$\n",
    "\n",
    "$\\sqrt{\\frac{50}{3.02}}\\left(3.02 - \\lambda\\right) \\sim N(0,1)$\n",
    "\n",
    "Квантиль нормального распределения уровня $1 - \\frac{\\alpha_1}2 = 1 - 0.025 = 0.975$ равен $1.96$.\n",
    "\n",
    "Асимптотический доверительный интервал:  \n",
    "$\\left[ 3.02 - 1.96 \\cdot \\sqrt{\\frac{50}{3.02}}; \\ 3.02 + 1.96 \\cdot \\sqrt{\\frac{50}{3.02}} \\right]$"
   ]
  },
  {
   "cell_type": "markdown",
   "metadata": {},
   "source": [
    "#### 1.e) Используя гистограмму частот, построить критерий значимости ${\\chi^2}$ проверки простой гипотезы согласия с распределением Пуассона с параметром $\\lambda_0$. Проверить гипотезу на уровень значимости $\\alpha_1$. Вычислить наибольшее значение уровня значимости, на котором ещё нет оснований отвергнуть данную гипотезу.\n",
    "\n",
    "$\\lambda_0 = 6, \\alpha_1 = 0.05$\n",
    "\n",
    "По теореме Пирсона:\n",
    "$\\displaystyle \\sum_{k=1}^{r}{\\frac{(n_k - np_k)^2}{np_k}} \\sim_{n \\rightarrow \\infty} \\chi_{r-1}^2$\n",
    "\n",
    "Вычислим сумму:"
   ]
  },
  {
   "cell_type": "code",
   "execution_count": 35,
   "metadata": {},
   "outputs": [
    {
     "name": "stdout",
     "output_type": "stream",
     "text": [
      "Сумма равна 211.43633361921331\n"
     ]
    }
   ],
   "source": [
    "lambda_0 = 6\n",
    "intervals = [[0, 1], [1, 2], [2, 3], [3, 4], [4, 5], [5, 6], [6, 1000]]\n",
    "sum = 0\n",
    "\n",
    "for i in range(len(intervals)):\n",
    "    n_k = 0\n",
    "    p_k = 0\n",
    "    for x in range(intervals[i][0], intervals[i][1]):\n",
    "        n_k += data.count(x)\n",
    "        p_k += stats.poisson.pmf(x, lambda_0)\n",
    "    sum += (n_k - N * p_k) ** 2 / (N * p_k)\n",
    "\n",
    "print(\"Сумма равна\", sum)"
   ]
  },
  {
   "cell_type": "markdown",
   "metadata": {},
   "source": [
    "Квантиль уровня 0.95 распределения $\\chi^2$ при размере выборки 50 равен 67.5048.\n",
    "\n",
    "211.4363 > 67.5048, следовательно гипотеза отвергается.\n",
    "\n",
    "Наибольшее значение уровня значимости слишком мало, чтобы его можно было вычислить."
   ]
  },
  {
   "cell_type": "markdown",
   "metadata": {},
   "source": [
    "#### 1.f) Построить критерий значимости  $\\chi^{2}$ проверки сложной гипотезы согласия с распределением Пуассона. Проверить гипотезу на уровне значимости $\\alpha_1$. Вычислить наибольшее значение уровня значимости, на котором ещё нет оснований отвергнуть данную гипотезу.\n",
    "\n",
    "$\\alpha_1 = 0.05$\n",
    "\n",
    "$\\displaystyle \\sum_{k=1}^{r}{\\frac{(n_k - np_k(\\lambda))^2}{np_k(\\lambda)}} \\sim_{n \\rightarrow \\infty} \\chi_{r-2}^2$\n",
    "\n",
    "Подставляем ОМП:  \n",
    "$\\displaystyle \\sum_{k=1}^{6}{\\frac{(n_k - 50 \\frac{\\widehat{\\lambda}^k e^{-\\widehat{\\lambda}}}{k!})^2}{50 \\frac{\\widehat{\\lambda}^k e^{-\\widehat{\\lambda}}}{k!}}} \\sim_{n \\rightarrow \\infty} \\chi_{r-2}^2$\n",
    "\n",
    "Вычислим сумму:"
   ]
  },
  {
   "cell_type": "code",
   "execution_count": 36,
   "metadata": {},
   "outputs": [
    {
     "name": "stdout",
     "output_type": "stream",
     "text": [
      "Сумма равна 3.63529524856339\n"
     ]
    }
   ],
   "source": [
    "intervals = [[0, 1], [1, 2], [2, 3], [3, 4], [4, 5], [5, 6], [6, 1000]]\n",
    "sum = 0\n",
    "\n",
    "for i in range(len(intervals)):\n",
    "    n_k = 0\n",
    "    p_k = 0\n",
    "    for x in range(intervals[i][0], intervals[i][1]):\n",
    "        n_k += data.count(x)\n",
    "        p_k += stats.poisson.pmf(x, mean)\n",
    "    sum += (n_k - N * p_k) ** 2 / (N * p_k)\n",
    "\n",
    "print(\"Сумма равна\", sum)"
   ]
  },
  {
   "cell_type": "markdown",
   "metadata": {},
   "source": [
    "Квантиль уровня 0.95 распределения $\\chi^2$ при размере выборки 50 равен 67.5048.\n",
    "\n",
    "3.6353 < 67.5048, следовательно гипотеза принимается.\n",
    "\n",
    "При уровне значимости 0.99 квантиль равен 29.7067, соответственно, наибольшее значение уровня значимости, на котором нет оснований отвергнуть данную гипотезу, находится очень близко к единице."
   ]
  },
  {
   "cell_type": "markdown",
   "metadata": {},
   "source": [
    "#### 1.g) Построить наиболее мощный критерий проверки простой гипотезы пауссоновости с параметром $\\lambda = \\lambda_0$ при альтернативе пуассоновости с параметром $\\lambda=\\lambda_1$. Проверить гипотезу на уровне значимости $\\alpha_1$. Что получится, если поменять местами основную и альтернативную гипотезы?\n",
    "\n",
    "$\\lambda_0 = 6, \\lambda_1 = 3, \\alpha_1 = 0.05$\n",
    "\n",
    "$\\displaystyle L_1(\\vec{X}) = \\lambda_1^{\\sum{X_i}} e^{-n\\lambda_1} \\cdot \\left(\\prod_{i=1}^{n}{X_i!}\\right)^{-1}$  \n",
    "$\\displaystyle L_0(\\vec{X}) = \\lambda_0^{\\sum{X_i}} e^{-n\\lambda_0} \\cdot \\left(\\prod_{i=1}^{n}{X_i!}\\right)^{-1}$\n",
    "\n",
    "$LR(\\vec{X}) = \\frac{L_1(\\vec{X})}{L_0(\\vec{X})} = \\left( \\frac{\\lambda_1}{\\lambda_0} \\right)^{\\sum{X_i}} e^{n\\lambda_0 - n\\lambda_1}$\n",
    "\n",
    "LR - монотонно убывающая функция относительно $\\sum{X_i}$, следовательно существует критерий:  \n",
    "$\\phi(\\sum{X_i}) =\n",
    " \\begin{cases}\n",
    "   1, \\sum{X_i} < c \n",
    "   \\\\\n",
    "   q, \\sum{X_i} = c\n",
    "   \\\\\n",
    "   0, \\sum{X_i} > c\n",
    " \\end{cases}$  \n",
    "$q \\cdot \\mathrm{P}_0(\\sum{X_i} = c) + \\mathrm{P}_0(\\sum{X_i} < c) = \\alpha_1$\n",
    "\n",
    "Найдём такое $c$, при котором $\\mathrm{P}_0(\\sum{X_i} < c) < \\alpha_1$, но $\\mathrm{P}_0(\\sum{X_i} \\leq c) > \\alpha_1$.\n",
    "\n",
    "$\\sum{X_i} \\sim Poisson(N \\cdot \\lambda_0)$\n",
    "\n",
    "$\\mathrm{P}_0(\\sum{X_i} < 272) = 0.0482 < \\alpha_1$  \n",
    "$\\mathrm{P}_0(\\sum{X_i} \\leq 272) = 0.0544 > \\alpha_1$\n",
    "\n",
    "Значит, $c = 272$.\n",
    "\n",
    "$q = \\frac{\\alpha_1 - \\mathrm{P}_0(\\sum{X_i} < c)}{\\mathrm{P}_0(\\sum{X_i} = c)} = \\frac{0.05 - 0.048175807997855175}{0.006273161250034211} = 0.2908$\n",
    "\n",
    "Сумма $X_i$ в данном эксперименте равна $151 < 272$, значит принимаем гипотезу.\n",
    "\n",
    "Теперь поменяем гипотезы местами.\n",
    "\n",
    "$\\lambda_0 = 3, \\lambda_1 = 6, \\alpha_1 = 0.05$\n",
    "\n",
    "$LR(\\vec{X}) = \\frac{L_1(\\vec{X})}{L_0(\\vec{X})} = \\left( \\frac{\\lambda_1}{\\lambda_0} \\right)^{\\sum{X_i}} e^{n\\lambda_0 - n\\lambda_1}$\n",
    "\n",
    "LR - монотонно возрастающая функция относительно $\\sum{X_i}$, следовательно существует критерий:  \n",
    "$\\phi(\\sum{X_i}) =\n",
    " \\begin{cases}\n",
    "   0, \\sum{X_i} < c \n",
    "   \\\\\n",
    "   q, \\sum{X_i} = c\n",
    "   \\\\\n",
    "   1, \\sum{X_i} > c\n",
    " \\end{cases}$  \n",
    "$q \\cdot \\mathrm{P}_0(\\sum{X_i} = c) + \\mathrm{P}_0(\\sum{X_i} > c) = \\alpha_1$\n",
    "\n",
    "Найдём такое $c$, при котором $\\mathrm{P}_0(\\sum{X_i} > c) < \\alpha_1$, но $\\mathrm{P}_0(\\sum{X_i} \\geq c) > \\alpha_1$.\n",
    "\n",
    "$\\sum{X_i} \\sim Poisson(N \\cdot \\lambda_0)$\n",
    "\n",
    "$\\mathrm{P}_0(\\sum{X_i} < 329) = 0.0459 < \\alpha_1$  \n",
    "$\\mathrm{P}_0(\\sum{X_i} \\geq 329) = 0.0516 > \\alpha_1$\n",
    "\n",
    "Значит, $c = 329$.\n",
    "\n",
    "$q = \\frac{\\alpha_1 - \\mathrm{P}_0(\\sum{X_i} < c)}{\\mathrm{P}_0(\\sum{X_i} = c)} = \\frac{0.05 - 0.045914300039385715}{0.005651769815269786} = 0.7229$\n",
    "\n",
    "Сумма $X_i$ в данном эксперименте равна $151 < 329$, значит отвергаем гипотезу."
   ]
  },
  {
   "cell_type": "markdown",
   "metadata": {},
   "source": [
    "#### 1.h) В пунктах (c)-(f) заменить семейство распределений Пуассона на семейство геометрических распределений:\n",
    "\n",
    "$\\mathrm{P}_{\\lambda}(X = k) = \\frac{\\lambda^k}{(\\lambda+1)^{k+1}}, k \\in \\mathbb{Z}_+$"
   ]
  },
  {
   "cell_type": "markdown",
   "metadata": {},
   "source": [
    "#### 1.h.c) В предположении, что исходные наблюдения являются выборкой из геометрического распределения, построить оценку максимального правдоподобия параметра $\\lambda$, а также оценку $\\lambda$ по методу моментов. Найти смещение оценок.\n",
    "\n",
    "1) ОМП\n",
    "\n",
    "$\\displaystyle L(\\vec{X}; \\theta) = \\prod_{i=1}^{n}{\\frac{\\lambda^{X_i}}{(\\lambda+1)^{X_i+1}}} = \\lambda^{\\sum{X_i}} \\cdot (\\lambda+1)^{-\\sum{X_i}-n}$\n",
    "$LL(\\vec{X}; \\theta) = \\sum{X_i} \\cdot \\ln{\\lambda} - (\\sum{X_i} + n) \\cdot \\ln(\\lambda+1)$  \n",
    "$\\displaystyle LL'(\\vec{X}; \\theta) = \\frac{\\sum{X_i}}{\\lambda} - \\frac{\\sum{X_i}+n}{\\lambda+1} = 0 \\ \\Rightarrow \\ \\widehat{\\lambda} = \\overline{X}$\n",
    "\n",
    "$\\displaystyle \\mathrm{E}_{\\theta} \\overline{X} = \\mathrm{E}_{\\theta} X_1 = \\sum_{k=0}^{\\infty}{k \\cdot \\frac{\\lambda^k}{(\\lambda+1)^{k+1}}} = \\frac1{\\lambda+1}\\sum_{k=1}^{\\infty}{k \\cdot \\left(\\frac{\\lambda}{\\lambda+1}\\right)^k} = \\frac{\\lambda}{(\\lambda+1)^2}\\sum_{k=1}^{\\infty}{k \\cdot \\left(\\frac{\\lambda}{\\lambda+1}\\right)^{k-1}} = \\frac{\\lambda}{(\\lambda+1)^2}\\sum_{k=1}^{\\infty}{\\left(\\left(\\frac{\\lambda}{\\lambda+1}\\right)^k\\right)'_{\\frac{\\lambda}{\\lambda+1}}} = \\frac{\\lambda}{(\\lambda+1)^2} \\left(\\sum_{k=1}^{\\infty}{\\left(\\frac{\\lambda}{\\lambda+1}\\right)^k}\\right)'_{\\frac{\\lambda}{\\lambda+1}} = \\frac{\\lambda}{(\\lambda+1)^2} \\left(\\frac{\\frac{\\lambda}{\\lambda+1}}{1-\\frac{\\lambda}{\\lambda+1}}\\right)'_{\\frac{\\lambda}{\\lambda+1}} = \\frac{\\lambda}{(\\lambda+1)^2} \\frac1{\\left(1-\\frac{\\lambda}{\\lambda+1}\\right)^2} = \\frac{\\lambda}{(\\lambda+1)^2} (\\lambda+1)^2 = \\lambda \\ \\Rightarrow$ значит $\\overline{X}$ - несмещённая оценка.\n",
    "\n",
    "Из предыдущего пункта:  \n",
    "$\\widehat{\\lambda} = \\overline{X} = 3.02$\n",
    "\n",
    "2) ОММ\n",
    "\n",
    "Первый момент для распределения мы уже нашли:\n",
    "$\\mathrm{E}_{\\theta} X_1 = \\lambda$\n",
    "\n",
    "Значит, ОММ:\n",
    "$\\widehat{\\lambda} = \\overline{X}$\n",
    "\n",
    "Получили ту же оценку, что и в методе максимального правдоподобия."
   ]
  },
  {
   "cell_type": "markdown",
   "metadata": {},
   "source": [
    "#### 1.h.d) Построить асимптотический доверительный интервал уровня значимости $\\alpha_1$ для параметра $\\lambda$ на базе оценки максимального правдоподобия.\n",
    "\n",
    "$\\alpha_1 = 0.05$\n",
    "\n",
    "$\\widehat{\\lambda} = \\overline{X}$\n",
    "\n",
    "$\\sqrt{n \\cdot I\\left( \\widehat{\\lambda}(\\vec{X}) \\right)}\\left( \\widehat{\\lambda}(\\vec{X}) - \\lambda \\right) \\sim N(0,1)$, где $I\\left( \\widehat{\\lambda}(\\vec{X}) \\right) = \\lim_{n \\rightarrow \\infty} {\\frac{I_n\\left( \\widehat{\\lambda}(\\vec{X}) \\right)}n}$, $I_n - информация Фишера$\n",
    "\n",
    "$I_n\\left( \\widehat{\\lambda}(\\vec{X}) \\right) = -\\mathrm{E}_{\\theta}{\\frac{\\partial^2 LL}{\\partial \\lambda^2}} = -\\mathrm{E}_{\\theta}{\\left(\\frac{\\sum{X_i}+n}{(\\lambda+1)^2} - \\frac{\\sum{X_i}}{\\lambda^2}\\right)} = \\frac{n}{\\lambda^2} \\mathrm{E}_{\\theta}{X_1} - \\frac{n}{(\\lambda+1)^2}(\\mathrm{E}_{\\theta}{X_1} + 1) = \\frac{n}{\\lambda} - \\frac{n}{(\\lambda+1)^2}(\\lambda+1)$\n",
    "\n",
    "$I\\left( \\widehat{\\lambda}(\\vec{X}) \\right) = \\lim_{n \\rightarrow \\infty} {\\frac{I_n\\left( \\widehat{\\lambda}(\\vec{X}) \\right)}n} = \\frac1{\\widehat{\\lambda}} - \\frac1{\\widehat{\\lambda} + 1} = \\frac1{\\widehat{\\lambda}(\\widehat{\\lambda}+1)}$\n",
    "\n",
    "$\\sqrt{n \\cdot \\left(\\frac1{\\widehat{\\lambda}(\\widehat{\\lambda}+1)}\\right)}\\left( \\widehat{\\lambda}(\\vec{X}) - \\lambda \\right) \\sim N(0,1)$\n",
    "\n",
    "$\\sqrt{\\frac{50}{3.02(3.02+1)}}\\left(3.02 - \\lambda\\right) \\sim N(0,1)$\n",
    "\n",
    "Квантиль нормального распределения уровня $1 - \\frac{\\alpha_1}2 = 1 - 0.025 = 0.975$ равен $1.96$.\n",
    "\n",
    "Асимптотический доверительный интервал:  \n",
    "$\\left[ 3.02 - 1.96 \\cdot \\sqrt{\\frac{50}{3.02(3.02+1)}}; \\ 3.02 + 1.96 \\cdot \\sqrt{\\frac{50}{3.02(3.02+1)}} \\right]$"
   ]
  },
  {
   "cell_type": "markdown",
   "metadata": {},
   "source": [
    "#### 1.h.e) Используя гистограмму частот, построить критерий значимости ${\\chi^2}$ проверки простой гипотезы согласия с геометрическим распределением с параметром $\\lambda_0$. Проверить гипотезу на уровень значимости $\\alpha_1$. Вычислить наибольшее значение уровня значимости, на котором ещё нет оснований отвергнуть данную гипотезу.\n",
    "\n",
    "$\\lambda_0 = 6, \\alpha_1 = 0.05$\n",
    "\n",
    "По теореме Пирсона:\n",
    "$\\displaystyle \\sum_{k=1}^{r}{\\frac{(n_k - np_k)^2}{np_k}} \\sim_{n \\rightarrow \\infty} \\chi_{r-1}^2$\n",
    "\n",
    "Вычислим сумму:"
   ]
  },
  {
   "cell_type": "code",
   "execution_count": 37,
   "metadata": {},
   "outputs": [
    {
     "name": "stdout",
     "output_type": "stream",
     "text": [
      "Сумма равна 42.649747085047984\n"
     ]
    }
   ],
   "source": [
    "lambda_0 = 6\n",
    "intervals = [[0, 1], [1, 2], [2, 3], [3, 4], [4, 5], [5, 6], [6, 1000]]\n",
    "sum = 0\n",
    "\n",
    "def geom(x, l):\n",
    "    return l ** x / (l+1) ** (x+1)\n",
    "\n",
    "for i in range(len(intervals)):\n",
    "    n_k = 0\n",
    "    p_k = 0\n",
    "    for x in range(intervals[i][0], intervals[i][1]):\n",
    "        n_k += data.count(x)\n",
    "        p_k += geom(x, lambda_0)\n",
    "    sum += (n_k - N * p_k) ** 2 / (N * p_k)\n",
    "\n",
    "print(\"Сумма равна\", sum)"
   ]
  },
  {
   "cell_type": "markdown",
   "metadata": {},
   "source": [
    "Квантиль уровня 0.95 распределения $\\chi^2$ при размере выборки 50 равен 67.5048.\n",
    "\n",
    "42.6497 < 67.5048, следовательно гипотеза принимается.\n",
    "\n",
    "Квантиль уровня 0.8 распределения $\\chi^2$ при размере выборки 50 равен 41.4492, значит наибольшее значение уровня значимости, на котором ещё нет оснований отвергнуть данную гипотезу, равно 0.8."
   ]
  },
  {
   "cell_type": "markdown",
   "metadata": {},
   "source": [
    "#### 1.h.f) Построить критерий значимости  $\\chi^{2}$ проверки сложной гипотезы согласия с геометрическим распределением. Проверить гипотезу на уровне значимости $\\alpha_1$. Вычислить наибольшее значение уровня значимости, на котором ещё нет оснований отвергнуть данную гипотезу.\n",
    "\n",
    "$\\alpha_1 = 0.05$\n",
    "\n",
    "$\\displaystyle \\sum_{k=1}^{r}{\\frac{(n_k - np_k(\\lambda))^2}{np_k(\\lambda)}} \\sim_{n \\rightarrow \\infty} \\chi_{r-2}^2$\n",
    "\n",
    "Подставляем ОМП:  \n",
    "$\\displaystyle \\sum_{k=1}^{6}{\\frac{(n_k - 50 \\frac{\\widehat{\\lambda}^k e^{-\\widehat{\\lambda}}}{k!})^2}{50 \\frac{\\widehat{\\lambda}^k e^{-\\widehat{\\lambda}}}{k!}}} \\sim_{n \\rightarrow \\infty} \\chi_{r-2}^2$\n",
    "\n",
    "Вычислим сумму:"
   ]
  },
  {
   "cell_type": "code",
   "execution_count": 38,
   "metadata": {},
   "outputs": [
    {
     "name": "stdout",
     "output_type": "stream",
     "text": [
      "Сумма равна 31.4336599351905\n"
     ]
    }
   ],
   "source": [
    "intervals = [[0, 1], [1, 2], [2, 3], [3, 4], [4, 5], [5, 6], [6, 100]]\n",
    "sum = 0\n",
    "\n",
    "for i in range(len(intervals)):\n",
    "    n_k = 0\n",
    "    p_k = 0\n",
    "    for x in range(intervals[i][0], intervals[i][1]):\n",
    "        n_k += data.count(x)\n",
    "        p_k += geom(x, mean)\n",
    "    sum += (n_k - N * p_k) ** 2 / (N * p_k)\n",
    "\n",
    "print(\"Сумма равна\", sum)"
   ]
  },
  {
   "cell_type": "markdown",
   "metadata": {},
   "source": [
    "Квантиль уровня 0.95 распределения $\\chi^2$ при размере выборки 50 равен 67.5048.\n",
    "\n",
    "31.4337 < 67.5048, следовательно гипотеза принимается.\n",
    "\n",
    "При уровне значимости 0.99 квантиль равен 29.7067, значит наибольшее значение уровня значимости, на котором ещё нет оснований отвергнуть данную гипотезу, равно 0.99."
   ]
  },
  {
   "cell_type": "markdown",
   "metadata": {},
   "source": [
    "### Задание 2."
   ]
  },
  {
   "cell_type": "code",
   "execution_count": 39,
   "metadata": {},
   "outputs": [
    {
     "name": "stdout",
     "output_type": "stream",
     "text": [
      "Выборка:  [-1.251, -0.601, -1.337, -1.231, -1.815, -0.806, -0.763, -1.358, -0.274, -1.629, -0.86, -0.2, -0.954, -0.161, -1.383, -1.024, -0.661, -0.513, -0.499, -0.695, -0.172, -1.078, -1.55, -1.662, -1.177, -0.295, -1.256, -1.278, -1.417, -1.36, -0.902, -0.877, -0.858, -1.045, -1.159, -1.717, -1.947, -1.501, -0.943, -0.192, -1.133, -0.214, -0.262, -0.6, -1.316, -0.037, -1.204, -0.932, -1.662, -1.641]\n",
      "Размер выборки:  50\n"
     ]
    }
   ],
   "source": [
    "# Выборка\n",
    "data = [-1.251, -0.601, -1.337, -1.231, -1.815, -0.806, -0.763, -1.358, -0.274, -1.629, -0.860, -0.200, -0.954, -0.161, -1.383, -1.024, -0.661, -0.513, -0.499, -0.695, -0.172, -1.078, -1.550, -1.662, -1.177, -0.295, -1.256, -1.278, -1.417, -1.360, -0.902, -0.877, -0.858, -1.045, -1.159, -1.717, -1.947, -1.501, -0.943, -0.192, -1.133, -0.214, -0.262, -0.600, -1.316, -0.037, -1.204, -0.932, -1.662, -1.641]\n",
    "N = len(data)\n",
    "\n",
    "print('Выборка: ', data)\n",
    "print('Размер выборки: ', N)"
   ]
  },
  {
   "cell_type": "markdown",
   "metadata": {},
   "source": [
    "#### 2.a) Построить вариационный ряд, эмпирическую функцию распределения, гистограмму частот и полигон частот с шагом h."
   ]
  },
  {
   "cell_type": "code",
   "execution_count": 40,
   "metadata": {},
   "outputs": [
    {
     "name": "stdout",
     "output_type": "stream",
     "text": [
      "Вариационный ряд: [-1.947 -1.815 -1.717 -1.662 -1.662 -1.641 -1.629 -1.55  -1.501 -1.417\n",
      " -1.383 -1.36  -1.358 -1.337 -1.316 -1.278 -1.256 -1.251 -1.231 -1.204\n",
      " -1.177 -1.159 -1.133 -1.078 -1.045 -1.024 -0.954 -0.943 -0.932 -0.902\n",
      " -0.877 -0.86  -0.858 -0.806 -0.763 -0.695 -0.661 -0.601 -0.6   -0.513\n",
      " -0.499 -0.295 -0.274 -0.262 -0.214 -0.2   -0.192 -0.172 -0.161 -0.037]\n"
     ]
    },
    {
     "data": {
      "image/png": "[encoded data removed]",
      "text/plain": [
       "<Figure size 432x288 with 1 Axes>"
      ]
     },
     "metadata": {
      "needs_background": "light"
     },
     "output_type": "display_data"
    }
   ],
   "source": [
    "# Вариационный ряд\n",
    "sorted_data = np.sort(data)\n",
    "print('Вариационный ряд:', sorted_data)\n",
    "\n",
    "# Эмпирическая функция распределения\n",
    "def plot_empirical_cdf(data):\n",
    "    hist, edges = np.histogram(data, bins=len(data))\n",
    "    Y = hist.cumsum() / len(data)\n",
    "    for i in range(len(Y)-1):\n",
    "        plt.plot([edges[i], edges[i+1]],[Y[i], Y[i]], c=\"blue\")\n",
    "    plt.show()\n",
    "\n",
    "plot_empirical_cdf(sorted_data)"
   ]
  },
  {
   "cell_type": "code",
   "execution_count": 41,
   "metadata": {},
   "outputs": [
    {
     "data": {
      "text/plain": [
       "Text(0.5, 1.0, 'Гистограмма и полигон частот')"
      ]
     },
     "execution_count": 41,
     "metadata": {},
     "output_type": "execute_result"
    },
    {
     "data": {
      "image/png": "[encoded data removed]",
      "text/plain": [
       "<Figure size 432x288 with 1 Axes>"
      ]
     },
     "metadata": {
      "needs_background": "light"
     },
     "output_type": "display_data"
    }
   ],
   "source": [
    "h = 0.1\n",
    "bins = np.arange(math.floor(sorted_data[0]), math.ceil(sorted_data[-1]) + h, h)\n",
    "counts, bins, _ = plt.hist(sorted_data, bins=bins)\n",
    "\n",
    "plt.plot(bins[:-1] + h/2, counts, 'ro-')\n",
    "plt.title(\"Гистограмма и полигон частот\")"
   ]
  },
  {
   "cell_type": "markdown",
   "metadata": {},
   "source": [
    "#### 2.b) Вычислить выборочные аналоги следующих числовых характеристик: (i) математического ожидания, (ii) дисперсии, (iii) СКО, (iv) медианы, (v) асимметрии, (vi) эксцесса, (vii) вероятности $\\mathrm{P}(X \\in \\left[c, d \\right])$."
   ]
  },
  {
   "cell_type": "code",
   "execution_count": 42,
   "metadata": {},
   "outputs": [
    {
     "name": "stdout",
     "output_type": "stream",
     "text": [
      "Мат. ожидание = -0.9880399999999999\n",
      "Дисперсия = 0.2491983584\n",
      "СКО = 0.49919771473835894\n",
      "Медиана = -1.0345\n",
      "Асимметрия = 0.19416994622644254\n",
      "Эксцесс = -0.907821795251099\n",
      "Вероятность попадания в промежуток = 0.52\n"
     ]
    }
   ],
   "source": [
    "c = -1.5\n",
    "d = -0.7\n",
    "\n",
    "mean = np.mean(data)\n",
    "variance = np.var(data)\n",
    "deviation = np.std(data)\n",
    "median = np.median(data)\n",
    "skewness = stats.skew(data)\n",
    "kurtosis = stats.kurtosis(data)\n",
    "\n",
    "print(\"Мат. ожидание =\", mean)\n",
    "print(\"Дисперсия =\", variance)\n",
    "print(\"СКО =\", deviation)\n",
    "print(\"Медиана =\", median)\n",
    "print(\"Асимметрия =\", skewness)\n",
    "print(\"Эксцесс =\", kurtosis)\n",
    "print(\"Вероятность попадания в промежуток =\", len([x for x in data if c <= x <= d]) / len(data))"
   ]
  },
  {
   "cell_type": "markdown",
   "metadata": {},
   "source": [
    "#### 2.c) В предположении, что исходные наблюдения являются выборкой из нормального распределения, построить оценку максимального правдоподобия параметров $(a, \\sigma^2)$ и соответствующие оценки по методу моментов. Найти смещение оценок.\n",
    "\n",
    "Нормальное распределение: $f(k) = \\frac1{\\sigma \\sqrt{2\\pi}} \\mathrm{exp}{\\left(-\\frac12\\frac{(x-a)^2}{\\sigma^2}\\right)}$\n",
    "\n",
    "1) ОМП\n",
    "\n",
    "$\\displaystyle L(\\vec{X}; \\theta) = \\prod_{i=1}^{n}{\\frac1{\\sigma \\sqrt{2\\pi}} \\mathrm{exp}{\\left(-\\frac12\\frac{(x-a)^2}{\\sigma^2}\\right)}} = (2\\pi)^{-\\frac{n}2} \\sigma^{-n} \\mathrm{exp}{\\left(-\\frac1{2\\sigma^2} \\sum_{i=1}^n{\\left(X_i - a\\right)^2} \\right)}$  \n",
    "$\\displaystyle LL(\\vec{X}; \\theta) = -\\frac{n}2 \\ln(2\\pi) - n \\ln\\sigma - \\frac1{2\\sigma^2} \\sum_{i=1}^n{\\left(X_i - a\\right)^2}$  \n",
    "$\\displaystyle \\frac{\\partial LL}{\\partial a} = \\frac1{\\sigma^2} \\left(\\sum_{i=1}^n{X_i} - na\\right) = 0 \\ \\Rightarrow \\ \\widehat{a} = \\overline{X}$  \n",
    "$\\displaystyle \\frac{\\partial LL}{\\partial \\sigma} = -\\frac{n}{\\sigma} + \\frac1{\\sigma^3} \\sum_{i=1}^n{\\left(X_i - a\\right)^2} = 0 \\ \\Rightarrow \\ \\widehat{\\sigma} = \\frac1n \\sum_{i=1}^n{\\left(X_i - \\overline{X}\\right)^2} = S_n^2$\n",
    "\n",
    "$\\left(\\overline{X}, S_n^2\\right)$ - ОМП-оценки для $(a, \\sigma^2)$\n",
    "\n",
    "$\\overline{X}$ - несмещённая оценка мат. ожидания  \n",
    "$\\widetilde{S}_n^2 = \\frac{n}{n-1}S_n^2$ - несмещённая оценка дисперсии\n",
    "\n",
    "Значит, $\\left(\\overline{X}, \\widetilde{S}_n^2\\right)$ - НРМД-оценки для $(a, \\sigma^2)$.\n",
    "\n",
    "2) ОММ\n",
    "\n",
    "$\\mathrm{E}X_1 = a$, $M_1 = \\overline{X}$  \n",
    "$\\mathrm{E}X_1^2 = a^2 + \\sigma^2$, $M_2 = \\frac1{n} \\sum_{i=1}^n{X_i^2} = \\overline{X^2}$\n",
    "\n",
    "$\\begin{cases}\n",
    "   a = \\overline{X} \\\\\n",
    "   a^2 + \\sigma^2 = \\overline{X^2}\n",
    " \\end{cases} \\Rightarrow\n",
    " \\begin{cases}\n",
    "   \\widehat{a} = \\overline{X} \\\\\n",
    "   \\widehat{\\sigma^2} = \\overline{X^2} - \\overline{X}^2 = S_n^2\n",
    " \\end{cases}$\n",
    "\n",
    "Значит, ОММ:  \n",
    "$\\widehat{a} = \\overline{X}$  \n",
    "$\\widehat{\\sigma} = S_n^2$\n",
    "\n",
    "Получили те же оценки, что и в методе максимального правдоподобия."
   ]
  },
  {
   "cell_type": "markdown",
   "metadata": {},
   "source": [
    "#### 2.d) Построить доверительные интервалы уровня значимости $\\alpha_2$ для параметров $(a, \\sigma^2)$.\n",
    "\n",
    "$\\alpha_2 = 0.1$\n",
    "\n",
    "1\\) $\\displaystyle \\sqrt{n-1}\\frac{\\overline{X}-a}{s} \\sim \\mathrm{Student}(n-1)$\n",
    "\n",
    "$\\sqsupset x_\\alpha: S_{n-1}(x_\\alpha) = 1 - \\frac{\\alpha}2$  \n",
    "Тогда $S_{n-1}(-x_\\alpha) = -\\frac{\\alpha}2$.\n",
    "\n",
    "$\\displaystyle \\mathrm{P}_{\\theta}\\left(\\sqrt{n-1}\\frac{\\overline{X}-a}{s} \\in [-x_\\alpha, x_\\alpha]\\right) = S_{n-1}(x_\\alpha) - S_{n-1}(-x_\\alpha) = 1 - \\alpha$\n",
    "\n",
    "$\\displaystyle \\mathrm{P}_{\\theta}\\left(\\overline{X} - \\frac{x_\\alpha s}{\\sqrt{n-1}} \\leq a \\leq \\overline{X} + \\frac{x_\\alpha s}{\\sqrt{n-1}}\\right) = 1 - \\alpha$\n",
    "\n",
    "$\\displaystyle \\left[\\overline{X} - \\frac{x_\\alpha s}{\\sqrt{n-1}}, \\overline{X} + \\frac{x_\\alpha s}{\\sqrt{n-1}}\\right] \\ni a$\n",
    "\n",
    "2\\) $\\displaystyle \\frac{n s^2}{\\sigma^2} \\sim \\chi_{n-1}^2$\n",
    "\n",
    "$\\sqsupset x_{1\\alpha}: K_{n-1}(x_{1\\alpha}) = \\frac{\\alpha}2, \\ x_{2\\alpha}: K_{n-1}(x_{2\\alpha}) = 1 -\\frac{\\alpha}2$\n",
    "\n",
    "$\\displaystyle \\mathrm{P}_{\\theta}\\left(\\frac{n s^2}{\\sigma^2} \\in [x_{1\\alpha}, x_{2\\alpha}]\\right) = K_{n-1}(x_{2\\alpha}) - K_{n-1}(x_{1\\alpha}) = 1 - \\alpha$\n",
    "\n",
    "$\\displaystyle \\mathrm{P}_{\\theta}\\left(\\frac{n s^2}{x_{2\\alpha}} \\leq \\sigma^2 \\leq \\frac{n s^2}{x_{1\\alpha}}\\right) = 1 - \\alpha$\n",
    "\n",
    "$\\displaystyle \\left[\\frac{n s^2}{x_{2\\alpha}}, \\frac{n s^2}{x_{1\\alpha}}\\right] \\ni \\sigma^2$"
   ]
  },
  {
   "cell_type": "markdown",
   "metadata": {},
   "source": [
    "#### 2.e)  С использованием теоремы Колмогорова построить критерий значимости проверки простой гипотезы согласия с нормальным распределением с параметрами $(a_0, \\sigma_0^2)$. Проверить гипотезу на уровне значимости $\\alpha_2$. Вычислить наибольшее значение уровня значимости, на котором ещё нет оснований отвергнуть данную гипотезу.\n",
    "\n",
    "$a_0 = 0, \\ \\sigma_0 = 0.5 \\ (\\sigma_0^2 = 0.25)$  \n",
    "$\\alpha_2 = 0.1$\n",
    "\n",
    "$\\sqrt{n} \\left( \\sup_{x \\in \\mathbb{R}}\\left| F_n(x) - F_0(x) \\right| \\right) \\xrightarrow[n \\rightarrow \\infty]{d} \\mathrm{K}$ (сл.в., имеющая распределение Колмогорова)\n",
    "\n",
    "$\\sup_{x \\in \\mathbb{R}}\\left| F_n(x) - F_0(x) \\right| = \\max_i\\left( \\left| F_0(X_i) - \\frac{i-1}n \\right|, \\left| F_0(X_i) - \\frac{i}n \\right| \\right), i = 1..n$"
   ]
  },
  {
   "cell_type": "code",
   "execution_count": 43,
   "metadata": {},
   "outputs": [
    {
     "name": "stdout",
     "output_type": "stream",
     "text": [
      "4.701767452028375\n"
     ]
    }
   ],
   "source": [
    "mean = 0\n",
    "scale = 0.5\n",
    "\n",
    "def F0(x):\n",
    "    return stats.norm.cdf(x, mean, scale)\n",
    "\n",
    "sup = -1\n",
    "for i in range(len(sorted_data)):\n",
    "    for x in [i/N, (i+1)/N]: # нумерация с нуля, поэтому + 1\n",
    "        cur = abs(F0(sorted_data[i]) - x)\n",
    "        if cur > sup:\n",
    "            sup = cur\n",
    "\n",
    "print(sup * math.sqrt(N))"
   ]
  },
  {
   "cell_type": "code",
   "execution_count": 44,
   "metadata": {},
   "outputs": [
    {
     "name": "stdout",
     "output_type": "stream",
     "text": [
      "Квантиль распределения Колмогорова уровня 1-α: 1.2238478702170825\n"
     ]
    }
   ],
   "source": [
    "print('Квантиль распределения Колмогорова уровня 1-α:', stats.kstwobign.ppf(1 - 0.1))"
   ]
  },
  {
   "cell_type": "markdown",
   "metadata": {},
   "source": [
    "$4.7018 > 1.2238$, поэтому отвергаем гипотезу.\n",
    "\n",
    "Нулевая гипотеза отвергается при любом уровне значимости."
   ]
  },
  {
   "cell_type": "markdown",
   "metadata": {},
   "source": [
    "#### 2.f) Используя гистограмму частот, построить критерий значимости $\\chi^2$ проверки простой гипотезы согласия с нормальным распределением с параметрами $(a_0, \\sigma_0^2)$. Проверить гипотезу на уровне значимости $\\alpha_2$. Вычислить наибольшее значение уровня значимости, на котором ещё нет оснований отвергнуть данную гипотезу.\n",
    "\n",
    "$a_0 = 0, \\ \\sigma_0 = 0.5 \\ (\\sigma_0^2 = 0.25)$  \n",
    "$\\alpha_2 = 0.1$\n",
    "\n",
    "По теореме Пирсона:\n",
    "$\\displaystyle \\sum_{k=1}^{r}{\\frac{(n_k - np_k)^2}{np_k}} \\sim_{n \\rightarrow \\infty} \\chi_{r-1}^2$\n",
    "\n",
    "Вычислим сумму:"
   ]
  },
  {
   "cell_type": "code",
   "execution_count": 45,
   "metadata": {},
   "outputs": [
    {
     "name": "stdout",
     "output_type": "stream",
     "text": [
      "Сумма равна 1627.1597490174613\n"
     ]
    }
   ],
   "source": [
    "mean = 0\n",
    "scale = 0.5\n",
    "\n",
    "intervals = [[-1000000, -1.75], [-1.75, -1.5], [-1.5, -1.25], [-1.25, -1], [-1, -0.75], [-0.75, -0.5], [-0.5, -0.25], [-0.25, 1000000]]\n",
    "sum = 0\n",
    "\n",
    "for i in range(len(intervals)):\n",
    "    n_k = len([x for x in data if intervals[i][0] <= x <= intervals[i][1]])\n",
    "    p_k = stats.norm.cdf(intervals[i][1], mean, scale) - stats.norm.cdf(intervals[i][0], mean, scale)\n",
    "    sum += (n_k - N * p_k) ** 2 / (N * p_k)\n",
    "\n",
    "print(\"Сумма равна\", sum)"
   ]
  },
  {
   "cell_type": "markdown",
   "metadata": {},
   "source": [
    "Квантиль уровня 0.9 распределения $\\chi^2$ при размере выборки 50 равен 63.1671.\n",
    "\n",
    "1627.1597 > 63.1671, следовательно гипотеза отвергается.\n",
    "\n",
    "Наибольшее значение уровня значимости, на котором ещё нет оснований отвергнуть данную гипотезу, очень близко к нулю."
   ]
  },
  {
   "cell_type": "markdown",
   "metadata": {},
   "source": [
    "#### 2.g) Построить критерий проверки значимости $\\chi^2$ сложной гипотезы согласия с нормальным распределением. Проверить гипотезу на уровне значимости $\\alpha_2$. Вычислить наибольшее значение уровня значимости, на котором ещё нет оснований отвергнуть данную гипотезу.\n",
    "\n",
    "$\\alpha_2 = 0.1$\n",
    "\n",
    "$\\displaystyle \\sum_{k=1}^{r}{\\frac{(n_k - np_k(\\lambda))^2}{np_k(\\lambda)}} \\sim_{n \\rightarrow \\infty} \\chi_{r-2}^2$\n",
    "\n",
    "Подставляем ОМП:  \n",
    "$\\displaystyle \\sum_{k=1}^{6}{\\frac{(n_k - 50 \\frac{\\widehat{\\lambda}^k e^{-\\widehat{\\lambda}}}{k!})^2}{50 \\frac{\\widehat{\\lambda}^k e^{-\\widehat{\\lambda}}}{k!}}} \\sim_{n \\rightarrow \\infty} \\chi_{r-2}^2$\n",
    "\n",
    "Вычислим сумму:"
   ]
  },
  {
   "cell_type": "code",
   "execution_count": 46,
   "metadata": {},
   "outputs": [
    {
     "name": "stdout",
     "output_type": "stream",
     "text": [
      "Сумма равна 5.3767987162242505\n"
     ]
    }
   ],
   "source": [
    "mean = np.mean(data)\n",
    "scale = np.std(data)\n",
    "\n",
    "intervals = [[-1000000, -1.75], [-1.75, -1.5], [-1.5, -1.25], [-1.25, -1], [-1, -0.75], [-0.75, -0.5], [-0.5, -0.25], [-0.25, 1000000]]\n",
    "sum = 0\n",
    "\n",
    "for i in range(len(intervals)):\n",
    "    n_k = len([x for x in data if intervals[i][0] <= x <= intervals[i][1]])\n",
    "    p_k = stats.norm.cdf(intervals[i][1], mean, scale) - stats.norm.cdf(intervals[i][0], mean, scale)\n",
    "    sum += (n_k - N * p_k) ** 2 / (N * p_k)\n",
    "\n",
    "print(\"Сумма равна\", sum)"
   ]
  },
  {
   "cell_type": "markdown",
   "metadata": {},
   "source": [
    "Квантиль уровня 0.9 распределения $\\chi^2$ при размере выборки 50 равен 63.1671.\n",
    "\n",
    "5.3768 < 63.1671, следовательно гипотеза принимается."
   ]
  },
  {
   "cell_type": "code",
   "execution_count": 47,
   "metadata": {},
   "outputs": [
    {
     "name": "stdout",
     "output_type": "stream",
     "text": [
      "Наибольший уровень значимости, на котором ещё нет оснований отвергнуть гипотезу: 0.9999999999999992\n"
     ]
    }
   ],
   "source": [
    "significance_level = stats.chi2.sf(sum, N - 1)\n",
    "\n",
    "print('Наибольший уровень значимости, на котором ещё нет оснований отвергнуть гипотезу:', significance_level)"
   ]
  },
  {
   "cell_type": "markdown",
   "metadata": {},
   "source": [
    "#### 2.h) Построить наиболее мощный критерий проверки простой гипотезы о нормальности с параметром $(a, \\sigma^2) = (a_0, \\sigma_0^2)$ при альтернативе нормальности с параметром $(a, \\sigma^2) = (a_1, \\sigma_1^2)$. Проверить гипотезу на уровне значимости $\\alpha_2$. Что получится, если поменять местами основную и альтернативную гипотезы?\n",
    "\n",
    "$a_0 = 0, \\ \\sigma_0 = 0.5 \\ (\\sigma_0^2 = 0.25)$  \n",
    "$a_1 = -1, \\ \\sigma_1 = 0.5 \\ (\\sigma_1^2 = 0.25)$  \n",
    "$\\alpha_2 = 0.1$\n",
    "\n",
    "$\\displaystyle L_1(\\vec{X}) = (2\\pi)^{-\\frac{n}2} \\sigma_1^{-n} \\mathrm{exp}{\\left(-\\frac1{2\\sigma_1^2} \\sum_{i=1}^n{\\left(X_i - a_1\\right)^2} \\right)}$  \n",
    "$\\displaystyle L_0(\\vec{X}) = (2\\pi)^{-\\frac{n}2} \\sigma_0^{-n} \\mathrm{exp}{\\left(-\\frac1{2\\sigma_0^2} \\sum_{i=1}^n{\\left(X_i - a_0\\right)^2} \\right)}$\n",
    "\n",
    "$\\displaystyle LR(\\vec{X}) = \\frac{L_1(\\vec{X})}{L_0(\\vec{X})}\n",
    "= \\left(\\frac{\\sigma_0}{\\sigma_1}\\right)^n \\exp\\left( \\frac12 \\left( \\frac{1}{\\sigma_0^2} \\sum_{i=1}^n \\left(X_i - a_0\\right)^2 - \\frac{1}{\\sigma_1^2} \\sum_{i=1}^n \\left(X_i - a_1\\right)^2 \\right) \\right)\n",
    "= \\left(\\frac{\\sigma_0}{\\sigma_1}\\right)^n \\exp\\left( \\frac12 \\left( \\left(\\frac{1}{\\sigma_0^2} - \\frac{1}{\\sigma_1^2}\\right) \\sum_{i=1}^n X_i^2 + \\left(\\frac{2a_1}{\\sigma_1^2} - \\frac{2a_0}{\\sigma_0^2}\\right) \\sum_{i=1}^n X_i + \\left(\\frac{n \\cdot a_0^2}{\\sigma_0^2} - \\frac{n \\cdot a_1^2}{\\sigma_1^2}\\right) \\right) \\right)$\n",
    "\n",
    " Упростим выражение с учётом известных коэффициентов:\n",
    "\n",
    "$\\displaystyle LR(\\vec{X}) = \\frac{L_1(\\vec{X})}{L_0(\\vec{X})} \\\\\n",
    "= \\exp\\left( 2 \\left( \\sum_{i=1}^{50} \\left(X_i\\right)^2 - \\sum_{i=1}^{50} \\left(X_i + 1\\right)^2 \\right) \\right) \\\\\n",
    "= \\exp\\left( -4 \\sum_{i=1}^{50} X_i - 100 \\right)$\n",
    "\n",
    "$\\displaystyle LR(\\vec{X}) = \\exp\\left( -8 \\overline{X} - 100 \\right)$\n",
    "\n",
    "LR - монотонно убывающая функция относительно $\\overline{X}$, следовательно существует критерий:  \n",
    "$\\phi(\\overline{X}) =\n",
    " \\begin{cases}\n",
    "   1, \\overline{X} \\leq c \\\\\n",
    "   0, \\overline{X} > c\n",
    " \\end{cases}$  \n",
    "$\\mathrm{P}_0(\\overline{X} \\leq c) = \\alpha_2$\n",
    "\n",
    "Найдём такое $c$.\n",
    "\n",
    "$\\overline{X} \\sim \\mathcal{N}(a_0, \\frac{\\sigma_0^2}n)$"
   ]
  },
  {
   "cell_type": "code",
   "execution_count": 48,
   "metadata": {},
   "outputs": [
    {
     "name": "stdout",
     "output_type": "stream",
     "text": [
      "Значение c: -0.09061938024368231\n",
      "Выборочное среднее: -0.9880399999999999\n"
     ]
    }
   ],
   "source": [
    "a0 = 0\n",
    "sigma0 = 0.5\n",
    "alpha_2 = 0.1\n",
    "\n",
    "mean = a0\n",
    "std_dev = sigma0 / math.sqrt(N)\n",
    "\n",
    "c = stats.norm.ppf(alpha_2, loc=mean, scale=std_dev)\n",
    "print(f'Значение c: {c}')\n",
    "print('Выборочное среднее:', np.mean(data))"
   ]
  },
  {
   "cell_type": "markdown",
   "metadata": {},
   "source": [
    "Выборочное среднее в данном эксперименте равно $-0.9880399999999999 < -0.09061938024368231$, значит принимаем гипотезу.\n",
    "\n",
    "Теперь поменяем гипотезы местами.\n",
    "\n",
    "$a_0 = -1, \\ \\sigma_0 = 0.5 \\ (\\sigma_0^2 = 0.25)$  \n",
    "$a_1 = 0, \\ \\sigma_1 = 0.5 \\ (\\sigma_1^2 = 0.25)$  \n",
    "$\\alpha_2 = 0.1$\n",
    "\n",
    "$\\displaystyle L_1(\\vec{X}) = (2\\pi)^{-\\frac{n}2} \\sigma_1^{-n} \\mathrm{exp}{\\left(-\\frac1{2\\sigma_1^2} \\sum_{i=1}^n{\\left(X_i - a_1\\right)^2} \\right)}$  \n",
    "$\\displaystyle L_0(\\vec{X}) = (2\\pi)^{-\\frac{n}2} \\sigma_0^{-n} \\mathrm{exp}{\\left(-\\frac1{2\\sigma_0^2} \\sum_{i=1}^n{\\left(X_i - a_0\\right)^2} \\right)}$\n",
    "\n",
    "$\\displaystyle LR(\\vec{X}) = \\frac{L_1(\\vec{X})}{L_0(\\vec{X})}\n",
    "= \\left(\\frac{\\sigma_0}{\\sigma_1}\\right)^n \\exp\\left( \\frac12 \\left( \\frac{1}{\\sigma_0^2} \\sum_{i=1}^n \\left(X_i - a_0\\right)^2 - \\frac{1}{\\sigma_1^2} \\sum_{i=1}^n \\left(X_i - a_1\\right)^2 \\right) \\right)\n",
    "= \\left(\\frac{\\sigma_0}{\\sigma_1}\\right)^n \\exp\\left( \\frac12 \\left( \\left(\\frac{1}{\\sigma_0^2} - \\frac{1}{\\sigma_1^2}\\right) \\sum_{i=1}^n X_i^2 + \\left(\\frac{2a_1}{\\sigma_1^2} - \\frac{2a_0}{\\sigma_0^2}\\right) \\sum_{i=1}^n X_i + \\left(\\frac{n \\cdot a_0^2}{\\sigma_0^2} - \\frac{n \\cdot a_1^2}{\\sigma_1^2}\\right) \\right) \\right)$\n",
    "\n",
    " Упростим выражение с учётом известных коэффициентов:\n",
    "\n",
    "$\\displaystyle LR(\\vec{X}) = \\frac{L_1(\\vec{X})}{L_0(\\vec{X})} \\\\\n",
    "= \\exp\\left( 2 \\left( \\sum_{i=1}^{50} \\left(X_i\\right)^2 - \\sum_{i=1}^{50} \\left(X_i + 1\\right)^2 \\right) \\right) \\\\\n",
    "= \\exp\\left( -4 \\sum_{i=1}^{50} X_i - 100 \\right)$\n",
    "\n",
    "$\\displaystyle LR(\\vec{X}) = \\frac{L_1(\\vec{X})}{L_0(\\vec{X})}\n",
    "= \\exp\\left( 2 \\left( \\sum_{i=1}^n \\left(X_i + 1\\right)^2 - \\sum_{i=1}^n \\left(X_i\\right)^2 \\right) \\right)\n",
    "= \\exp\\left( 4 \\sum_{i=1}^n X_i + 100 \\right)$\n",
    "\n",
    "$\\displaystyle LR(\\vec{X}) = \\exp\\left( 8 \\overline{X} + 100 \\right)$\n",
    "\n",
    "LR - монотонно возрастающая функция относительно $\\overline{X}$, следовательно существует критерий:  \n",
    "$\\phi(\\overline{X}) =\n",
    " \\begin{cases}\n",
    "   0, \\overline{X} \\leq c \\\\\n",
    "   1, \\overline{X} > c\n",
    " \\end{cases}$  \n",
    "$\\mathrm{P}_0(\\overline{X} > c) = \\alpha_2$\n",
    "\n",
    "Найдём такое $c$.\n",
    "\n",
    "$\\overline{X} \\sim \\mathcal{N}(a_0, \\frac{\\sigma_0^2}n)$"
   ]
  },
  {
   "cell_type": "code",
   "execution_count": 49,
   "metadata": {},
   "outputs": [
    {
     "name": "stdout",
     "output_type": "stream",
     "text": [
      "Значение c: 2.090619380243682\n",
      "Выборочное среднее: -0.9880399999999999\n"
     ]
    }
   ],
   "source": [
    "a0 = -1\n",
    "sigma0 = 0.5\n",
    "alpha_2 = 0.1\n",
    "\n",
    "mean = a0\n",
    "std_dev = sigma0 / math.sqrt(N)\n",
    "\n",
    "c = 1 - stats.norm.ppf(alpha_2, loc=mean, scale=std_dev)\n",
    "print(f'Значение c: {c}')\n",
    "print('Выборочное среднее:', np.mean(data))"
   ]
  },
  {
   "cell_type": "markdown",
   "metadata": {},
   "source": [
    "Выборочное среднее в данном эксперименте равно $-0.9880399999999999 < 2.090619380243682$, значит отвергаем гипотезу."
   ]
  },
  {
   "cell_type": "markdown",
   "metadata": {},
   "source": [
    "#### 2.i) В пунктах (c)-(g) заменить семейство нормальных распределений на двухпараметрическое семейство распределений Лапласа с плотностями\n",
    "\n",
    "$f(x) = \\frac1{\\sqrt2\\sigma} \\exp\\left( -\\frac{\\sqrt2}\\sigma \\left| x - a \\right| \\right)$"
   ]
  },
  {
   "cell_type": "markdown",
   "metadata": {},
   "source": [
    "#### 2.i.c) В предположении, что исходные наблюдения являются выборкой из распределения Лапласа, построить оценку максимального правдоподобия параметров $(a, \\sigma)$ и соответствующие оценки по методу моментов. Найти смещение оценок.\n",
    "\n",
    "1) ОМП\n",
    " \n",
    "$\\displaystyle L(\\vec{X}; \\theta) = \\prod_{i=1}^{n}{\\frac1{\\sqrt2\\sigma} \\exp\\left( -\\frac{\\sqrt2}\\sigma \\left| x - a \\right| \\right)} = 2^{-\\frac{n}2} \\sigma^{-n} \\exp \\left( -\\frac{\\sqrt2}\\sigma \\sum_{i=1}^n{\\left| X_i - a \\right|} \\right)$  \n",
    "$\\displaystyle LL(\\vec{X}; \\theta) = -\\frac{n}2 \\ln2 - n \\ln\\sigma - \\frac{\\sqrt2}\\sigma \\sum_{i=1}^n{\\left| X_i - a \\right|}$  \n",
    "$\\displaystyle \\frac{\\partial LL}{\\partial a} = -\\frac{\\sqrt2}{\\sigma} \\sum_{i=1}^n{\\mathrm{sign}\\left( X_i - a \\right)}, \\ a \\neq X_{(i)}, \\ i = 1..n$  \n",
    "$\\displaystyle \\frac{\\partial LL}{\\partial \\sigma} = -\\frac{n}{\\sigma} + \\frac{\\sqrt2}{\\sigma^2} \\sum_{i=1}^n{\\left| X_i - a \\right|}$\n",
    "\n",
    "$\\left(Z_{n,\\frac12}, \\frac{\\sqrt2}n \\sum_{i=1}^n{\\left|X_{(i)}-\\widehat{a}\\right|}\\right)$ - ОМП-оценки для $(a, \\sigma^2)$\n",
    "\n",
    "$Z_{n,\\frac12}$ - несмещённая оценка медианы  \n",
    "$\\mathrm{E}{\\frac{\\sqrt2}n \\sum_{i=1}^n{\\left|X_{(i)}-\\widehat{a}\\right|}} = \\sqrt2 \\mathrm{E}\\left|X_1-\\widehat{a}\\right| = \\sqrt2 \\int_{-\\infty}^{\\infty}{\\left|x-\\widehat{a}\\right|\\frac1{\\sqrt2b}e^{-\\frac{\\sqrt2}b\\left|x-a\\right|}\\mathrm{d}x} = b$ - несмещённая оценка\n",
    "\n",
    "Значит, $\\left(\\overline{X}, \\frac{\\sqrt2}n \\sum_{i=1}^n{\\left|X_{(i)}-\\widehat{a}\\right|}\\right)$ - НРМД-оценки для $(a, \\sigma^2)$.\n",
    "\n",
    "2) ОММ\n",
    "\n",
    "$\\mathrm{E}X_1 = a$, $M_1 = \\overline{X}$  \n",
    "$\\mathrm{E}X_1^2 = a^2 + \\sigma^2$, $M_2 = \\frac1{n} \\sum_{i=1}^n{X_i^2} = \\overline{X^2}$\n",
    "\n",
    "$\\begin{cases}\n",
    "   a = \\overline{X} \\\\\n",
    "   a^2 + \\sigma^2 = \\overline{X^2}\n",
    " \\end{cases} \\Rightarrow\n",
    " \\begin{cases}\n",
    "   \\widehat{a} = \\overline{X} \\\\\n",
    "   \\widehat{\\sigma^2} = \\overline{X^2} - \\overline{X}^2 = S_n^2\n",
    " \\end{cases}$\n",
    "\n",
    "Значит, ОММ:  \n",
    "$\\widehat{a} = \\overline{X}$  \n",
    "$\\widehat{\\sigma} = S_n^2$"
   ]
  },
  {
   "cell_type": "markdown",
   "metadata": {},
   "source": [
    "#### 2.i.d) Построить доверительные интервалы уровня значимости $\\alpha_2$ для параметров $(a, \\sigma)$.\n",
    "\n",
    "$\\alpha_2 = 0.1$\n",
    "\n",
    "1\\) $\\widehat{a} = \\overline{X}$\n",
    "\n",
    "$\\sqrt{n \\cdot I\\left( \\widehat{a}(\\vec{X}) \\right)}\\left( \\widehat{a}(\\vec{X}) - a \\right) \\sim N(0,1)$, где $I\\left( \\widehat{a}(\\vec{X}) \\right) = \\lim_{n \\rightarrow \\infty} {\\frac{I_n\\left( \\widehat{a}(\\vec{X}) \\right)}n}$, $I_n - информация Фишера$\n",
    "\n",
    "$I_n\\left( \\widehat{a}(\\vec{X}) \\right) = -\\mathrm{E}_{\\theta}{\\frac{\\partial^2 LL}{\\partial a^2}} = 0, \\ a \\neq X_{(i)}, \\ i = 1..n$\n",
    "\n",
    "Значит, найти доверительный интервал для $a$ не представляется возможным.\n",
    "\n",
    "2\\) $\\widehat{\\sigma} = \\frac{\\sqrt2}n \\sum_{i=1}^n{\\left|X_{(i)}-\\widehat{a}\\right|}$\n",
    "\n",
    "$\\sqrt{n \\cdot I\\left( \\widehat{\\sigma}(\\vec{X}) \\right)}\\left( \\widehat{\\sigma}(\\vec{X}) - \\sigma \\right) \\sim N(0,1)$, где $I\\left( \\widehat{\\sigma}(\\vec{X}) \\right) = \\lim_{n \\rightarrow \\infty} {\\frac{I_n\\left( \\widehat{\\sigma}(\\vec{X}) \\right)}n}$, $I_n - информация Фишера$\n",
    "\n",
    "$I_n\\left( \\widehat{\\widehat{\\sigma}}(\\vec{X}) \\right) = -\\mathrm{E}_{\\theta}{\\frac{\\partial^2 LL}{\\partial \\widehat{\\sigma}^2}} = -\\mathrm{E}_{\\theta}\\left(\\frac{n}{\\widehat{\\sigma}^2} - \\frac{2\\sqrt2}{\\widehat{\\sigma}^3} \\sum_{i=1}^n{\\left| X_i - a \\right|}\\right) = -\\frac{n}{\\widehat{\\sigma}^2} + \\frac{2\\sqrt2n}{\\widehat{\\sigma}^3} \\mathrm{E}_\\theta \\left|X_1 - a\\right| = -\\frac{n}{\\widehat{\\sigma}^2} - \\frac{2\\sqrt2n}{\\widehat{\\sigma}^3} \\cdot \\frac{\\widehat{\\sigma}}{\\sqrt2} = -\\frac{n}{\\widehat{\\sigma}^2} - \\frac{2n}{\\widehat{\\sigma}^2} = -\\frac{3n}{\\widehat{\\sigma}^2}$\n",
    "\n",
    "$I\\left( \\widehat{\\sigma}(\\vec{X}) \\right) = \\lim_{n \\rightarrow \\infty} {\\frac{I_n\\left( \\widehat{\\sigma}(\\vec{X}) \\right)}n} = -\\frac3{\\widehat{\\sigma}^2}$\n",
    "\n",
    "Получили отрицательное значение, значит доверительный интервал для $\\sigma$ не представляется возможным."
   ]
  },
  {
   "cell_type": "markdown",
   "metadata": {},
   "source": [
    "#### 2.i.e) С использованием теоремы Колмогорова построить критерий значимости проверки простой гипотезы согласия с распределением Лапласа с параметрами $(a_0, \\sigma_0)$. Проверить гипотезу на уровне значимости $\\alpha_2$. Вычислить наибольшее значение уровня значимости, на котором ещё нет оснований отвергнуть данную гипотезу.\n",
    "\n",
    "$a_0 = 0, \\ \\sigma_0 = 0.5 \\ (\\sigma_0^2 = 0.25)$  \n",
    "$\\alpha_2 = 0.1$\n",
    "\n",
    "$\\sqrt{n} \\left( \\sup_{x \\in \\mathbb{R}}\\left| F_n(x) - F_0(x) \\right| \\right) \\xrightarrow[n \\rightarrow \\infty]{d} \\mathrm{K}$ (сл.в., имеющая распределение Колмогорова)\n",
    "\n",
    "$\\sup_{x \\in \\mathbb{R}}\\left| F_n(x) - F_0(x) \\right| = \\max_i\\left( \\left| F_0(X_i) - \\frac{i-1}n \\right|, \\left| F_0(X_i) - \\frac{i}n \\right| \\right), i = 1..n$"
   ]
  },
  {
   "cell_type": "code",
   "execution_count": 50,
   "metadata": {},
   "outputs": [
    {
     "name": "stdout",
     "output_type": "stream",
     "text": [
      "4.936293539259857\n"
     ]
    }
   ],
   "source": [
    "mean = 0\n",
    "scale = 0.5\n",
    "\n",
    "def F0(x):\n",
    "    return stats.laplace.cdf(x, loc=mean, scale=scale/math.sqrt(2))\n",
    "\n",
    "sup = -1\n",
    "for i in range(len(sorted_data)):\n",
    "    for x in [i/N, (i+1)/N]: # нумерация с нуля, поэтому + 1\n",
    "        cur = abs(F0(sorted_data[i]) - x)\n",
    "        if cur > sup:\n",
    "            sup = cur\n",
    "\n",
    "print(sup * math.sqrt(N))"
   ]
  },
  {
   "cell_type": "code",
   "execution_count": 51,
   "metadata": {},
   "outputs": [
    {
     "name": "stdout",
     "output_type": "stream",
     "text": [
      "Квантиль распределения Колмогорова уровня 1-α: 1.2238478702170825\n"
     ]
    }
   ],
   "source": [
    "print('Квантиль распределения Колмогорова уровня 1-α:', stats.kstwobign.ppf(1 - 0.1))"
   ]
  },
  {
   "cell_type": "markdown",
   "metadata": {},
   "source": [
    "$4.9363 > 1.2238$, поэтому отвергаем гипотезу.\n",
    "\n",
    "Нулевая гипотеза отвергается при любом уровне значимости."
   ]
  },
  {
   "cell_type": "markdown",
   "metadata": {},
   "source": [
    "#### 2.i.f) Используя гистограмму частот, построить критерий значимости $\\chi^2$ проверки простой гипотезы согласия с распределением Лапласа с параметрами $(a_0, \\sigma_0)$. Проверить гипотезу на уровне значимости $\\alpha_2$. Вычислить наибольшее значение уровня значимости, на котором ещё нет оснований отвергнуть данную гипотезу.\n",
    "\n",
    "$a_0 = 0, \\ \\sigma_0 = 0.5 \\ (\\sigma_0^2 = 0.25)$  \n",
    "$\\alpha_2 = 0.1$\n",
    "\n",
    "По теореме Пирсона:\n",
    "$\\displaystyle \\sum_{k=1}^{r}{\\frac{(n_k - np_k)^2}{np_k}} \\sim_{n \\rightarrow \\infty} \\chi_{r-1}^2$\n",
    "\n",
    "Вычислим сумму:"
   ]
  },
  {
   "cell_type": "code",
   "execution_count": 52,
   "metadata": {},
   "outputs": [
    {
     "name": "stdout",
     "output_type": "stream",
     "text": [
      "Сумма равна 611.3487175537298\n"
     ]
    }
   ],
   "source": [
    "intervals = [[-1000000, -1.75], [-1.75, -1.5], [-1.5, -1.25], [-1.25, -1], [-1, -0.75], [-0.75, -0.5], [-0.5, -0.25], [-0.25, 1000000]]\n",
    "sum = 0\n",
    "\n",
    "for i in range(len(intervals)):\n",
    "    n_k = len([x for x in data if intervals[i][0] <= x <= intervals[i][1]])\n",
    "    p_k = F0(intervals[i][1]) - F0(intervals[i][0])\n",
    "    sum += (n_k - N * p_k) ** 2 / (N * p_k)\n",
    "\n",
    "print(\"Сумма равна\", sum)"
   ]
  },
  {
   "cell_type": "markdown",
   "metadata": {},
   "source": [
    "Квантиль уровня 0.9 распределения $\\chi^2$ при размере выборки 50 равен 63.1671.\n",
    "\n",
    "611.3487 > 63.1671, следовательно гипотеза отвергается.\n",
    "\n",
    "Наибольшее значение уровня значимости, на котором ещё нет оснований отвергнуть данную гипотезу, очень близко к нулю."
   ]
  },
  {
   "cell_type": "markdown",
   "metadata": {},
   "source": [
    "#### 2.i.g) Построить критерий проверки значимости $\\chi^2$ сложной гипотезы согласия с распределением Лапласа. Проверить гипотезу на уровне значимости $\\alpha_2$. Вычислить наибольшее значение уровня значимости, на котором ещё нет оснований отвергнуть данную гипотезу.\n",
    "\n",
    "$\\alpha_2 = 0.1$\n",
    "\n",
    "$\\displaystyle \\sum_{k=1}^{r}{\\frac{(n_k - np_k(\\lambda))^2}{np_k(\\lambda)}} \\sim_{n \\rightarrow \\infty} \\chi_{r-2}^2$\n",
    "\n",
    "Подставляем ОМП:  \n",
    "$\\displaystyle \\sum_{k=1}^{6}{\\frac{(n_k - 50 \\frac{\\widehat{\\lambda}^k e^{-\\widehat{\\lambda}}}{k!})^2}{50 \\frac{\\widehat{\\lambda}^k e^{-\\widehat{\\lambda}}}{k!}}} \\sim_{n \\rightarrow \\infty} \\chi_{r-2}^2$\n",
    "\n",
    "Вычислим сумму:"
   ]
  },
  {
   "cell_type": "code",
   "execution_count": 53,
   "metadata": {},
   "outputs": [
    {
     "name": "stdout",
     "output_type": "stream",
     "text": [
      "Сумма равна 13.214944753128343\n"
     ]
    }
   ],
   "source": [
    "mean = np.mean(data)\n",
    "scale = np.std(data)\n",
    "\n",
    "intervals = [[-1000000, -1.75], [-1.75, -1.5], [-1.5, -1.25], [-1.25, -1], [-1, -0.75], [-0.75, -0.5], [-0.5, -0.25], [-0.25, 1000000]]\n",
    "sum = 0\n",
    "\n",
    "for i in range(len(intervals)):\n",
    "    n_k = len([x for x in data if intervals[i][0] <= x <= intervals[i][1]])\n",
    "    p_k = F0(intervals[i][1]) - F0(intervals[i][0])\n",
    "    sum += (n_k - N * p_k) ** 2 / (N * p_k)\n",
    "\n",
    "print(\"Сумма равна\", sum)"
   ]
  },
  {
   "cell_type": "markdown",
   "metadata": {},
   "source": [
    "Квантиль уровня 0.9 распределения $\\chi^2$ при размере выборки 50 равен 63.1671.\n",
    "\n",
    "13.2149 < 63.1671, следовательно гипотеза принимается."
   ]
  },
  {
   "cell_type": "code",
   "execution_count": 54,
   "metadata": {},
   "outputs": [
    {
     "name": "stdout",
     "output_type": "stream",
     "text": [
      "Наибольший уровень значимости, на котором ещё нет оснований отвергнуть гипотезу: 0.9999999275344783\n"
     ]
    }
   ],
   "source": [
    "significance_level = stats.chi2.sf(sum, N - 1)\n",
    "\n",
    "print('Наибольший уровень значимости, на котором ещё нет оснований отвергнуть гипотезу:', significance_level)"
   ]
  },
  {
   "cell_type": "markdown",
   "metadata": {},
   "source": [
    "## Выводы\n",
    "\n",
    "В процессе выполнения практической работы освоены основные методы математической статистики и их применение с использованием языка программирования Python. Изучены способы анализа выборочных данных, построения доверительных интервалов и проверки статистических гипотез. Разработаны навыки работы с различными семействами распределений, проведения оценки параметров и применения прикладных программных пакетов, таких как NumPy, SciPy с модулями stats и другими. Полученные навыки позволили успешно применить методы математической статистики для решения конкретных задач статистического анализа и уверенно проводить анализ данных в контексте статистических исследований."
   ]
  }
 ],
 "metadata": {
  "kernelspec": {
   "display_name": "Python 3 (ipykernel)",
   "language": "python",
   "name": "python3"
  },
  "language_info": {
   "codemirror_mode": {
    "name": "ipython",
    "version": 3
   },
   "file_extension": ".py",
   "mimetype": "text/x-python",
   "name": "python",
   "nbconvert_exporter": "python",
   "pygments_lexer": "ipython3",
   "version": "3.10.12"
  }
 },
 "nbformat": 4,
 "nbformat_minor": 4
}
