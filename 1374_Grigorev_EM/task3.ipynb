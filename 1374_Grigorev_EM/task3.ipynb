{
  "cells": [
    {
      "cell_type": "markdown",
      "metadata": {
        "id": "nselNlrxS20p"
      },
      "source": [
        "# Практическая работа №3: Регрессионный анализ\n",
        "Выполнил студент гр. 1374 Григорьев Евгений. Вариант №4"
      ]
    },
    {
      "cell_type": "markdown",
      "metadata": {
        "id": "q0u4nR1ES20v"
      },
      "source": [
        "## Цель работы\n",
        "Ознакомление с основными положениями метода наименьших квадратов (МНК), со статистическими свойствами МНК-оценок, с понятием функции регрессии и роли МНК в регрессионном анализе."
      ]
    },
    {
      "cell_type": "markdown",
      "metadata": {
        "id": "oEd2_iR_S20v"
      },
      "source": [
        "## Основные теоретические положения\n",
        "МНК\n",
        "\n",
        "$RSS(\\beta)=\\left\\| Y-X^{\\intercal}\\beta \\right\\|=(Y-X^{\\intercal}\\beta)^{\\intercal}\\cdot(Y-X^{\\intercal}\\beta)\\to min_\\beta$\n",
        "\n",
        "Несмещённая оценка дисперсии:\n",
        "\n",
        "$S^{2} = \\frac{SS_{e}}{n-r} = \\frac{RSS(\\widehat{\\beta})}{n-r}$\n",
        "\n",
        "Элемент дисперсии оценки: $b_{\\psi}=c^{\\intercal}(XX^{\\intercal})^{-1}c$\n",
        "\n",
        "Доверительный интервал уровня доверия $1-\\alpha: \\left[ \\widehat{\\psi} - X_{\\alpha}S\\sqrt{b};\\widehat{\\psi} + X_{\\alpha}S\\sqrt{b} \\right], где X_{\\alpha}: \\mathcal{S}_{n-r}(X_{\\alpha})=1-\\frac{\\alpha}{2}$\n",
        "\n",
        "Критерий хихи квадрат.  \n",
        "$ \\chi^2 = \\sum_{i=1}^{N} \\frac{(n_{i} - p_{i} n)^{2}}{n p_{i}} \\sim \\chi^{2}_{n-1}$\n",
        "\n",
        "Теорема Колмогорова\n",
        "\n",
        "$D_{n} = {sup}_{X \\in \\mathbb R} |F_{0}(X_{i}) - F_{n}(X_{i})|$\n"
      ]
    },
    {
      "cell_type": "markdown",
      "metadata": {
        "id": "LTZXbxvOS20w"
      },
      "source": [
        "## Постановка задачи\n",
        "Результаты статистического эксперимента представлены в виде двух переменных. Требуется оценить характер (случайной) зависимости переменной Y\n",
        " от переменной X. Полученные результаты содержательно проинтерпретировать."
      ]
    },
    {
      "cell_type": "markdown",
      "metadata": {
        "id": "dAKrOWQiS20w"
      },
      "source": [
        "## Выполнение работы\n"
      ]
    },
    {
      "cell_type": "code",
      "source": [
        "import numpy as np\n",
        "from sklearn.linear_model import LinearRegression\n",
        "import matplotlib.pyplot as plt"
      ],
      "metadata": {
        "id": "LF-_eC6R78uq"
      },
      "execution_count": 584,
      "outputs": []
    },
    {
      "cell_type": "code",
      "source": [
        "import pandas as pd"
      ],
      "metadata": {
        "id": "BSG2X61xOoQh"
      },
      "execution_count": 585,
      "outputs": []
    },
    {
      "cell_type": "code",
      "source": [
        "import scipy.stats as sst"
      ],
      "metadata": {
        "id": "Ae6y7Flr8Zut"
      },
      "execution_count": 586,
      "outputs": []
    },
    {
      "cell_type": "markdown",
      "source": [
        "### #1"
      ],
      "metadata": {
        "id": "TEsUfnfIDV_b"
      }
    },
    {
      "cell_type": "code",
      "source": [
        "x = np.array('''5 3 3 1 2 3 4 5 5 4 4 3 4 6 6 4 8 4 4 4 7 3 5 3 3 4 3 5 5 4 5 1 4 4 5 5 4 6 5 4 4 2 4 6 4 3 5 4 2 4'''.split(), dtype=np.float).reshape(-1, 1)\n",
        "y = np.array('''9.53 11.80 10.93 2.39 5.18\n",
        " 2.74 17.45 14.32 8.01 14.71 11.06 6.67 6.59 7.01 22.17\n",
        "  9.65 7.77 6.49 13.64 1.53 5.68 7.61 5.71 7.00 2.77 12.34 12.39 6.73 8.65 8.34 10.39 3.87 9.08 16.03\n",
        "  10.37 2.22 11.51 9.10 5.45 11.69 10.92 8.54 13.01 17.58 8.61 7.42 8.47 10.93 4.71 17.92 '''.split(), dtype=np.float).reshape(-1, 1)"
      ],
      "metadata": {
        "colab": {
          "base_uri": "https://localhost:8080/"
        },
        "id": "iEHaMf3J7yMe",
        "outputId": "b8e629b4-bec8-4641-e39a-dbe7f7bbe965"
      },
      "execution_count": 587,
      "outputs": [
        {
          "output_type": "stream",
          "name": "stderr",
          "text": [
            "<ipython-input-587-4f87b6b03bae>:1: DeprecationWarning: `np.float` is a deprecated alias for the builtin `float`. To silence this warning, use `float` by itself. Doing this will not modify any behavior and is safe. If you specifically wanted the numpy scalar type, use `np.float64` here.\n",
            "Deprecated in NumPy 1.20; for more details and guidance: https://numpy.org/devdocs/release/1.20.0-notes.html#deprecations\n",
            "  x = np.array('''5 3 3 1 2 3 4 5 5 4 4 3 4 6 6 4 8 4 4 4 7 3 5 3 3 4 3 5 5 4 5 1 4 4 5 5 4 6 5 4 4 2 4 6 4 3 5 4 2 4'''.split(), dtype=np.float).reshape(-1, 1)\n",
            "<ipython-input-587-4f87b6b03bae>:5: DeprecationWarning: `np.float` is a deprecated alias for the builtin `float`. To silence this warning, use `float` by itself. Doing this will not modify any behavior and is safe. If you specifically wanted the numpy scalar type, use `np.float64` here.\n",
            "Deprecated in NumPy 1.20; for more details and guidance: https://numpy.org/devdocs/release/1.20.0-notes.html#deprecations\n",
            "  10.37 2.22 11.51 9.10 5.45 11.69 10.92 8.54 13.01 17.58 8.61 7.42 8.47 10.93 4.71 17.92 '''.split(), dtype=np.float).reshape(-1, 1)\n"
          ]
        }
      ]
    },
    {
      "cell_type": "code",
      "source": [
        "plt.scatter(x, y)"
      ],
      "metadata": {
        "colab": {
          "base_uri": "https://localhost:8080/",
          "height": 447
        },
        "id": "QI4d-bgH-IMR",
        "outputId": "489b40a5-e30f-4988-95e3-6c86fa6d0131"
      },
      "execution_count": 588,
      "outputs": [
        {
          "output_type": "execute_result",
          "data": {
            "text/plain": [
              "<matplotlib.collections.PathCollection at 0x7a794f735450>"
            ]
          },
          "metadata": {},
          "execution_count": 588
        },
        {
          "output_type": "display_data",
          "data": {
            "text/plain": [
              "<Figure size 640x480 with 1 Axes>"
            ],
            "image/png": "[encoded data removed]"
          },
          "metadata": {}
        }
      ]
    },
    {
      "cell_type": "code",
      "source": [
        "lr = LinearRegression()"
      ],
      "metadata": {
        "id": "ePgZMsUY7yTW"
      },
      "execution_count": 589,
      "outputs": []
    },
    {
      "cell_type": "code",
      "source": [
        "lr.fit(x, y)\n",
        "display(lr.coef_)\n",
        "lr.intercept_"
      ],
      "metadata": {
        "colab": {
          "base_uri": "https://localhost:8080/",
          "height": 52
        },
        "id": "HDWLoDLV7yWH",
        "outputId": "fa466edd-5f84-4c88-bea7-7d0e0f252ef2"
      },
      "execution_count": 590,
      "outputs": [
        {
          "output_type": "display_data",
          "data": {
            "text/plain": [
              "array([[0.86]])"
            ]
          },
          "metadata": {}
        },
        {
          "output_type": "execute_result",
          "data": {
            "text/plain": [
              "array([5.75])"
            ]
          },
          "metadata": {},
          "execution_count": 590
        }
      ]
    },
    {
      "cell_type": "code",
      "source": [
        "x = np.concatenate([x, np.ones(x.shape)], axis=1)"
      ],
      "metadata": {
        "id": "SLkWdg2t9yKi"
      },
      "execution_count": 591,
      "outputs": []
    },
    {
      "cell_type": "code",
      "source": [
        "solve = np.linalg.inv(np.dot(x.T, x)) @ x.T @ y\n",
        "solve"
      ],
      "metadata": {
        "id": "7lOKdlhK96Fi",
        "colab": {
          "base_uri": "https://localhost:8080/"
        },
        "outputId": "64e6d76f-055a-437d-ce48-8ebe571b00bf"
      },
      "execution_count": 592,
      "outputs": [
        {
          "output_type": "execute_result",
          "data": {
            "text/plain": [
              "array([[0.86],\n",
              "       [5.75]])"
            ]
          },
          "metadata": {},
          "execution_count": 592
        }
      ]
    },
    {
      "cell_type": "code",
      "source": [
        "k, b = solve[0][0], solve[1][0]"
      ],
      "metadata": {
        "id": "0ObDsWDD-tVj"
      },
      "execution_count": 593,
      "outputs": []
    },
    {
      "cell_type": "code",
      "source": [
        "plt.scatter(x[:, 0], y)\n",
        "tmp_x = np.linspace(np.min(x) - 1, np.max(x) + 1, 100)\n",
        "plt.plot(tmp_x, k * tmp_x + b, 'y')"
      ],
      "metadata": {
        "colab": {
          "base_uri": "https://localhost:8080/",
          "height": 447
        },
        "id": "dfFP9Fmr7yZR",
        "outputId": "857f1e0b-6ead-46a4-b3cd-08a1068b417a"
      },
      "execution_count": 594,
      "outputs": [
        {
          "output_type": "execute_result",
          "data": {
            "text/plain": [
              "[<matplotlib.lines.Line2D at 0x7a794f76ae30>]"
            ]
          },
          "metadata": {},
          "execution_count": 594
        },
        {
          "output_type": "display_data",
          "data": {
            "text/plain": [
              "<Figure size 640x480 with 1 Axes>"
            ],
            "image/png": "[encoded data removed]"
          },
          "metadata": {}
        }
      ]
    },
    {
      "cell_type": "markdown",
      "source": [
        "Исходные данные не лежат на одной прямой."
      ],
      "metadata": {
        "id": "xmPLuHJ7DZkb"
      }
    },
    {
      "cell_type": "markdown",
      "source": [
        "### #2"
      ],
      "metadata": {
        "id": "Hb_dQtTuNC2z"
      }
    },
    {
      "cell_type": "code",
      "source": [
        "mist = lr.predict(x[:, [0]]) - y\n",
        "S2 = np.sum((mist) ** 2) / (x.shape[0] - np.linalg.matrix_rank(x))"
      ],
      "metadata": {
        "id": "TVb2hitt7ycJ"
      },
      "execution_count": 595,
      "outputs": []
    },
    {
      "cell_type": "code",
      "source": [
        "h = 2.1\n",
        "bins = np.arange(min(mist), max(mist) + h, h)\n",
        "plt.hist(mist, bins=bins)\n",
        "hist, _ = np.histogram(mist, bins=bins)"
      ],
      "metadata": {
        "colab": {
          "base_uri": "https://localhost:8080/",
          "height": 430
        },
        "id": "kLPQGHOvFo7l",
        "outputId": "b104093a-805f-462a-8c59-56d31f51665c"
      },
      "execution_count": 596,
      "outputs": [
        {
          "output_type": "display_data",
          "data": {
            "text/plain": [
              "<Figure size 640x480 with 1 Axes>"
            ],
            "image/png": "[encoded data removed]"
          },
          "metadata": {}
        }
      ]
    },
    {
      "cell_type": "code",
      "source": [
        "f'несмещенная оценка дисперсии {S2}'"
      ],
      "metadata": {
        "colab": {
          "base_uri": "https://localhost:8080/",
          "height": 36
        },
        "id": "uirwVHfI7yej",
        "outputId": "f66e14ab-7d60-480f-de45-edebdec90ecb"
      },
      "execution_count": 597,
      "outputs": [
        {
          "output_type": "execute_result",
          "data": {
            "text/plain": [
              "'несмещенная оценка дисперсии 18.62355717127072'"
            ],
            "application/vnd.google.colaboratory.intrinsic+json": {
              "type": "string"
            }
          },
          "metadata": {},
          "execution_count": 597
        }
      ]
    },
    {
      "cell_type": "code",
      "source": [
        "intervals = [[bins[i] + 1e-5 * (i != 0), bins[i + 1]] for i in range(len(bins) - 1)]"
      ],
      "metadata": {
        "id": "u-L_CnP2F_dW"
      },
      "execution_count": 598,
      "outputs": []
    },
    {
      "cell_type": "code",
      "source": [
        "g = lambda x: np.sum((mist >= x[0]) & (mist <= x[1]))"
      ],
      "metadata": {
        "id": "bQ-remlIHrmN"
      },
      "execution_count": 599,
      "outputs": []
    },
    {
      "cell_type": "code",
      "source": [
        "frq_exp = np.array([g(i) for i in intervals]) / len(mist)\n",
        "assert frq_exp.sum() == 1"
      ],
      "metadata": {
        "id": "EtYPVO6HIAzd"
      },
      "execution_count": 600,
      "outputs": []
    },
    {
      "cell_type": "code",
      "source": [
        "N = sst.norm(0, S2)"
      ],
      "metadata": {
        "id": "keU3pn5xNCq3"
      },
      "execution_count": 601,
      "outputs": []
    },
    {
      "cell_type": "code",
      "source": [
        "frq_norm = np.array([abs(N.pdf(i[1]) - N.pdf(i[0])) * len(mist) for i in intervals])"
      ],
      "metadata": {
        "id": "mW6kzDnsIFRE"
      },
      "execution_count": 602,
      "outputs": []
    },
    {
      "cell_type": "code",
      "source": [
        "frq_norm"
      ],
      "metadata": {
        "colab": {
          "base_uri": "https://localhost:8080/"
        },
        "id": "hGeyvlD2J1mT",
        "outputId": "4c4328db-8d44-40df-879e-c02730e3c662"
      },
      "execution_count": 603,
      "outputs": [
        {
          "output_type": "execute_result",
          "data": {
            "text/plain": [
              "array([0.06, 0.05, 0.04, 0.02, 0.01, 0.  , 0.02, 0.03, 0.04, 0.05])"
            ]
          },
          "metadata": {},
          "execution_count": 603
        }
      ]
    },
    {
      "cell_type": "code",
      "source": [
        "chi_square = np.sum((frq_exp - frq_norm) ** 2 / frq_norm)\n",
        "f\"chi^2: {chi_square}\""
      ],
      "metadata": {
        "colab": {
          "base_uri": "https://localhost:8080/",
          "height": 36
        },
        "id": "CJdJTax7KAA9",
        "outputId": "53cfce26-a56a-456a-a646-76705d616199"
      },
      "execution_count": 604,
      "outputs": [
        {
          "output_type": "execute_result",
          "data": {
            "text/plain": [
              "'chi^2: 23.860207655534047'"
            ],
            "application/vnd.google.colaboratory.intrinsic+json": {
              "type": "string"
            }
          },
          "metadata": {},
          "execution_count": 604
        }
      ]
    },
    {
      "cell_type": "code",
      "source": [
        "alph = 0.1\n",
        "f'x_alph: {sst.chi2.ppf(1 - alph, df=len(frq_norm) - 1)}'"
      ],
      "metadata": {
        "colab": {
          "base_uri": "https://localhost:8080/",
          "height": 36
        },
        "id": "qnTgbbgPNvSm",
        "outputId": "1bbed4bd-68f6-4575-8f25-3b4740caa0d6"
      },
      "execution_count": 605,
      "outputs": [
        {
          "output_type": "execute_result",
          "data": {
            "text/plain": [
              "'x_alph: 14.683656573259837'"
            ],
            "application/vnd.google.colaboratory.intrinsic+json": {
              "type": "string"
            }
          },
          "metadata": {},
          "execution_count": 605
        }
      ]
    },
    {
      "cell_type": "markdown",
      "source": [
        "$\\chi^2 > x_{\\alpha}$ следовательно гипотеза о нормальности ошибок отвергается"
      ],
      "metadata": {
        "id": "VHAcX24tHEKt"
      }
    },
    {
      "cell_type": "code",
      "source": [
        "mist_tmp = mist.reshape(-1)\n",
        "emp_func = pd.Series(mist_tmp).apply(lambda x: sum(mist_tmp < x)) / mist_tmp.shape[0]"
      ],
      "metadata": {
        "id": "19h31iV_OQ9c"
      },
      "execution_count": 606,
      "outputs": []
    },
    {
      "cell_type": "code",
      "source": [
        "emp_func.index = mist_tmp"
      ],
      "metadata": {
        "id": "PfuplKXaO8AJ"
      },
      "execution_count": 607,
      "outputs": []
    },
    {
      "cell_type": "code",
      "source": [
        "Dn = np.max(np.abs(N.pdf(mist_tmp) - emp_func))\n",
        "Dn"
      ],
      "metadata": {
        "id": "sb6xM03hPUo1",
        "colab": {
          "base_uri": "https://localhost:8080/"
        },
        "outputId": "70cfc7a1-c895-4e22-abf9-30736d3b53e6"
      },
      "execution_count": 608,
      "outputs": [
        {
          "output_type": "execute_result",
          "data": {
            "text/plain": [
              "0.9604003091091647"
            ]
          },
          "metadata": {},
          "execution_count": 608
        }
      ]
    },
    {
      "cell_type": "code",
      "source": [
        "C = sst.kstwobign.ppf(1 - alph) / np.sqrt(len(x))\n",
        "C"
      ],
      "metadata": {
        "colab": {
          "base_uri": "https://localhost:8080/"
        },
        "id": "MUyv6qqk4m_s",
        "outputId": "b6fe78ca-8f1d-4ef6-8154-2d5815f34761"
      },
      "execution_count": 609,
      "outputs": [
        {
          "output_type": "execute_result",
          "data": {
            "text/plain": [
              "0.17307822563424255"
            ]
          },
          "metadata": {},
          "execution_count": 609
        }
      ]
    },
    {
      "cell_type": "markdown",
      "source": [
        "$D_n > С$ => гипотезy отвергаем"
      ],
      "metadata": {
        "id": "e3TWWoi36dhU"
      }
    },
    {
      "cell_type": "markdown",
      "source": [
        "### #3"
      ],
      "metadata": {
        "id": "ieL3FOw8WPR5"
      }
    },
    {
      "cell_type": "code",
      "source": [
        "r = np.linalg.matrix_rank(x)\n",
        "n = x.shape[0]\n",
        "x_alpha = sst.t.ppf(1 - alph/2, df = n - r)\n",
        "C = np.matrix([[1], [0]])\n",
        "psi = (C.T @ np.linalg.inv(x.T @ x) @ C)\n",
        "psi = psi[0, 0]\n",
        "print(f\"x_alpha = {x_alpha}\" )\n",
        "print(f\"left = {solve[0][0] - x_alpha * (S2 * psi) ** 0.5}\")\n",
        "print(f\"right = {solve[0][0] + x_alpha * (S2 * psi) ** 0.5}\")"
      ],
      "metadata": {
        "colab": {
          "base_uri": "https://localhost:8080/"
        },
        "id": "NxxhzUwqPo4_",
        "outputId": "4498a761-8679-4a3f-d8a7-21ab510c479b"
      },
      "execution_count": 610,
      "outputs": [
        {
          "output_type": "stream",
          "name": "stdout",
          "text": [
            "x_alpha = 1.6772241953450393\n",
            "left = 0.10381455573305787\n",
            "right = 1.6255114111177702\n"
          ]
        }
      ]
    },
    {
      "cell_type": "markdown",
      "source": [
        "$\\left[0.103, 1.625\\right] \\ni \\beta_0$"
      ],
      "metadata": {
        "id": "WxiDkEapZKXM"
      }
    },
    {
      "cell_type": "code",
      "source": [
        "r = np.linalg.matrix_rank(x)\n",
        "n = x.shape[0]\n",
        "x_alpha = sst.t.ppf(1 - alph / 2, df=n - r)\n",
        "C = np.matrix([[0], [1]])\n",
        "psi = (C.T @ np.linalg.inv(x.T @ x) @ C)\n",
        "psi = psi[0, 0]\n",
        "print(f\"x_alpha = {x_alpha}\" )\n",
        "print(f\"left = {solve[1][0] - x_alpha * (S2 * psi) ** 0.5}\")\n",
        "print(f\"right = {solve[1][0] + x_alpha * (S2 * psi) ** 0.5}\")"
      ],
      "metadata": {
        "colab": {
          "base_uri": "https://localhost:8080/"
        },
        "outputId": "0a5a015d-3725-4ce1-8c61-7c2d565ef4b2",
        "id": "XPhoNgw6Z3MP"
      },
      "execution_count": 611,
      "outputs": [
        {
          "output_type": "stream",
          "name": "stdout",
          "text": [
            "x_alpha = 1.6772241953450393\n",
            "left = 2.465352476693216\n",
            "right = 9.031611059218381\n"
          ]
        }
      ]
    },
    {
      "cell_type": "markdown",
      "source": [
        "$\\left[2.465, 9.031\\right] \\ni \\beta_1$"
      ],
      "metadata": {
        "id": "lRj9tKB6Z3Mu"
      }
    },
    {
      "cell_type": "code",
      "source": [
        "C = np.array([[1, 0],\n",
        "              [0, 1]\n",
        "              ])\n",
        "B = C.T @ np.linalg.inv(x.T @ x) @ C\n",
        "B_inv = np.linalg.inv(B)\n",
        "q = len(solve)\n",
        "x_alpha = sst.f.ppf(1-alph, dfn=q, dfd=n - r)\n",
        "cov = B_inv\n",
        "eigenvalues, _ = np.linalg.eig(cov)\n",
        "np.sqrt(1 / eigenvalues * (x_alpha * q * S2))"
      ],
      "metadata": {
        "id": "IrilTtxrfkrq"
      },
      "execution_count": 612,
      "outputs": []
    },
    {
      "cell_type": "markdown",
      "source": [
        "Первая полуось $\\approx$ 0.3  \n",
        "Вторая полуось $\\approx$ 4.41"
      ],
      "metadata": {
        "id": "iQl6DmBtpyPG"
      }
    },
    {
      "cell_type": "markdown",
      "source": [
        "### #4"
      ],
      "metadata": {
        "id": "yn5FbqsGp7kU"
      }
    },
    {
      "cell_type": "markdown",
      "source": [
        "Основная гипотеза: $H_0 : \\psi = 0$"
      ],
      "metadata": {
        "id": "BD34cprYvabO"
      }
    },
    {
      "cell_type": "code",
      "source": [
        "beta_1_h = np.mean(y) # наивный прогноз\n",
        "beta_0_h = 0\n",
        "SSH = np.sum((beta_1_h - y) ** 2) - S2 * (x.shape[0] - np.linalg.matrix_rank(x))\n",
        "\n",
        "F_stat = (SSH / q) / (S2)\n",
        "print(f\"Статистика F = {F_stat}\")\n",
        "print(f\"x_alpha = {sst.f.ppf(1 - alph, dfn=q, dfd=n - r)}\")"
      ],
      "metadata": {
        "colab": {
          "base_uri": "https://localhost:8080/"
        },
        "id": "zsZT_xYJp_s8",
        "outputId": "f7b17add-96c7-464e-cd6d-546c230a2913"
      },
      "execution_count": 619,
      "outputs": [
        {
          "output_type": "stream",
          "name": "stdout",
          "text": [
            "Статистика F = 1.8165597247818595\n",
            "x_alpha = 2.4166601100530283\n"
          ]
        }
      ]
    },
    {
      "cell_type": "markdown",
      "source": [
        "$\\mathbb{F} < x_{\\alpha}$ => гипотеза о независимости принимается"
      ],
      "metadata": {
        "id": "Zg2qmWqeu1-z"
      }
    },
    {
      "cell_type": "markdown",
      "source": [
        "### #5"
      ],
      "metadata": {
        "id": "DXlqwEtZvhya"
      }
    },
    {
      "cell_type": "code",
      "source": [
        "x = np.concatenate([(x[:, 0] ** 2).reshape(-1, 1), x], axis=1)"
      ],
      "metadata": {
        "id": "PlOwGPd7vn6V"
      },
      "execution_count": 620,
      "outputs": []
    },
    {
      "cell_type": "code",
      "source": [
        "lr = LinearRegression()\n",
        "lr.fit(x, y)"
      ],
      "metadata": {
        "colab": {
          "base_uri": "https://localhost:8080/",
          "height": 74
        },
        "id": "rR_4CRkq0lix",
        "outputId": "9340263f-9216-42a1-8f3a-535eededdca6"
      },
      "execution_count": 621,
      "outputs": [
        {
          "output_type": "execute_result",
          "data": {
            "text/plain": [
              "LinearRegression()"
            ],
            "text/html": [
              "<style>#sk-container-id-6 {color: black;background-color: white;}#sk-container-id-6 pre{padding: 0;}#sk-container-id-6 div.sk-toggleable {background-color: white;}#sk-container-id-6 label.sk-toggleable__label {cursor: pointer;display: block;width: 100%;margin-bottom: 0;padding: 0.3em;box-sizing: border-box;text-align: center;}#sk-container-id-6 label.sk-toggleable__label-arrow:before {content: \"▸\";float: left;margin-right: 0.25em;color: #696969;}#sk-container-id-6 label.sk-toggleable__label-arrow:hover:before {color: black;}#sk-container-id-6 div.sk-estimator:hover label.sk-toggleable__label-arrow:before {color: black;}#sk-container-id-6 div.sk-toggleable__content {max-height: 0;max-width: 0;overflow: hidden;text-align: left;background-color: #f0f8ff;}#sk-container-id-6 div.sk-toggleable__content pre {margin: 0.2em;color: black;border-radius: 0.25em;background-color: #f0f8ff;}#sk-container-id-6 input.sk-toggleable__control:checked~div.sk-toggleable__content {max-height: 200px;max-width: 100%;overflow: auto;}#sk-container-id-6 input.sk-toggleable__control:checked~label.sk-toggleable__label-arrow:before {content: \"▾\";}#sk-container-id-6 div.sk-estimator input.sk-toggleable__control:checked~label.sk-toggleable__label {background-color: #d4ebff;}#sk-container-id-6 div.sk-label input.sk-toggleable__control:checked~label.sk-toggleable__label {background-color: #d4ebff;}#sk-container-id-6 input.sk-hidden--visually {border: 0;clip: rect(1px 1px 1px 1px);clip: rect(1px, 1px, 1px, 1px);height: 1px;margin: -1px;overflow: hidden;padding: 0;position: absolute;width: 1px;}#sk-container-id-6 div.sk-estimator {font-family: monospace;background-color: #f0f8ff;border: 1px dotted black;border-radius: 0.25em;box-sizing: border-box;margin-bottom: 0.5em;}#sk-container-id-6 div.sk-estimator:hover {background-color: #d4ebff;}#sk-container-id-6 div.sk-parallel-item::after {content: \"\";width: 100%;border-bottom: 1px solid gray;flex-grow: 1;}#sk-container-id-6 div.sk-label:hover label.sk-toggleable__label {background-color: #d4ebff;}#sk-container-id-6 div.sk-serial::before {content: \"\";position: absolute;border-left: 1px solid gray;box-sizing: border-box;top: 0;bottom: 0;left: 50%;z-index: 0;}#sk-container-id-6 div.sk-serial {display: flex;flex-direction: column;align-items: center;background-color: white;padding-right: 0.2em;padding-left: 0.2em;position: relative;}#sk-container-id-6 div.sk-item {position: relative;z-index: 1;}#sk-container-id-6 div.sk-parallel {display: flex;align-items: stretch;justify-content: center;background-color: white;position: relative;}#sk-container-id-6 div.sk-item::before, #sk-container-id-6 div.sk-parallel-item::before {content: \"\";position: absolute;border-left: 1px solid gray;box-sizing: border-box;top: 0;bottom: 0;left: 50%;z-index: -1;}#sk-container-id-6 div.sk-parallel-item {display: flex;flex-direction: column;z-index: 1;position: relative;background-color: white;}#sk-container-id-6 div.sk-parallel-item:first-child::after {align-self: flex-end;width: 50%;}#sk-container-id-6 div.sk-parallel-item:last-child::after {align-self: flex-start;width: 50%;}#sk-container-id-6 div.sk-parallel-item:only-child::after {width: 0;}#sk-container-id-6 div.sk-dashed-wrapped {border: 1px dashed gray;margin: 0 0.4em 0.5em 0.4em;box-sizing: border-box;padding-bottom: 0.4em;background-color: white;}#sk-container-id-6 div.sk-label label {font-family: monospace;font-weight: bold;display: inline-block;line-height: 1.2em;}#sk-container-id-6 div.sk-label-container {text-align: center;}#sk-container-id-6 div.sk-container {/* jupyter's `normalize.less` sets `[hidden] { display: none; }` but bootstrap.min.css set `[hidden] { display: none !important; }` so we also need the `!important` here to be able to override the default hidden behavior on the sphinx rendered scikit-learn.org. See: https://github.com/scikit-learn/scikit-learn/issues/21755 */display: inline-block !important;position: relative;}#sk-container-id-6 div.sk-text-repr-fallback {display: none;}</style><div id=\"sk-container-id-6\" class=\"sk-top-container\"><div class=\"sk-text-repr-fallback\"><pre>LinearRegression()</pre><b>In a Jupyter environment, please rerun this cell to show the HTML representation or trust the notebook. <br />On GitHub, the HTML representation is unable to render, please try loading this page with nbviewer.org.</b></div><div class=\"sk-container\" hidden><div class=\"sk-item\"><div class=\"sk-estimator sk-toggleable\"><input class=\"sk-toggleable__control sk-hidden--visually\" id=\"sk-estimator-id-6\" type=\"checkbox\" checked><label for=\"sk-estimator-id-6\" class=\"sk-toggleable__label sk-toggleable__label-arrow\">LinearRegression</label><div class=\"sk-toggleable__content\"><pre>LinearRegression()</pre></div></div></div></div></div>"
            ]
          },
          "metadata": {},
          "execution_count": 621
        }
      ]
    },
    {
      "cell_type": "code",
      "source": [
        "display(lr.coef_)\n",
        "lr.intercept_"
      ],
      "metadata": {
        "colab": {
          "base_uri": "https://localhost:8080/",
          "height": 52
        },
        "id": "X-QnnkRi0oGU",
        "outputId": "9d43e7ca-eb2f-4d1e-cb5a-98db864fbeac"
      },
      "execution_count": 622,
      "outputs": [
        {
          "output_type": "display_data",
          "data": {
            "text/plain": [
              "array([[-0.42,  4.43,  0.  ]])"
            ]
          },
          "metadata": {}
        },
        {
          "output_type": "execute_result",
          "data": {
            "text/plain": [
              "array([-0.98])"
            ]
          },
          "metadata": {},
          "execution_count": 622
        }
      ]
    },
    {
      "cell_type": "code",
      "source": [
        "solve = np.linalg.inv(np.dot(x.T, x)) @ x.T @ y\n",
        "solve"
      ],
      "metadata": {
        "colab": {
          "base_uri": "https://localhost:8080/"
        },
        "id": "nkU4FfGMvhKv",
        "outputId": "2ef78d55-48e4-4859-afbc-80182690410c"
      },
      "execution_count": 623,
      "outputs": [
        {
          "output_type": "execute_result",
          "data": {
            "text/plain": [
              "array([[-0.42],\n",
              "       [ 4.43],\n",
              "       [-0.98]])"
            ]
          },
          "metadata": {},
          "execution_count": 623
        }
      ]
    },
    {
      "cell_type": "code",
      "source": [
        "tmp_x = np.array([[i ** 2, i, 1] for i in np.linspace(0, 10, 100)])"
      ],
      "metadata": {
        "id": "bObnuQumwHz7"
      },
      "execution_count": 624,
      "outputs": []
    },
    {
      "cell_type": "code",
      "source": [
        "plt.scatter(x[:, 1], y)\n",
        "plt.plot(tmp_x[:, 1], tmp_x @ solve, 'y')"
      ],
      "metadata": {
        "colab": {
          "base_uri": "https://localhost:8080/",
          "height": 447
        },
        "outputId": "1e0760a3-87ae-4324-97ea-f4b95d1003c8",
        "id": "oWf1OWF-wHz8"
      },
      "execution_count": 625,
      "outputs": [
        {
          "output_type": "execute_result",
          "data": {
            "text/plain": [
              "[<matplotlib.lines.Line2D at 0x7a794ff009d0>]"
            ]
          },
          "metadata": {},
          "execution_count": 625
        },
        {
          "output_type": "display_data",
          "data": {
            "text/plain": [
              "<Figure size 640x480 with 1 Axes>"
            ],
            "image/png": "[encoded data removed]"
          },
          "metadata": {}
        }
      ]
    },
    {
      "cell_type": "markdown",
      "source": [
        "### #6"
      ],
      "metadata": {
        "id": "-xH2YvSl1PvC"
      }
    },
    {
      "cell_type": "code",
      "source": [
        "mist = x @ solve - y\n",
        "S2 = np.sum((mist) ** 2) / (x.shape[0] - np.linalg.matrix_rank(x))"
      ],
      "metadata": {
        "id": "hmBaf1C8zVTd"
      },
      "execution_count": 626,
      "outputs": []
    },
    {
      "cell_type": "code",
      "source": [
        "h = 2.1\n",
        "bins = np.arange(min(mist), max(mist) + h, h)\n",
        "plt.hist(mist, bins=bins)\n",
        "hist, _ = np.histogram(mist, bins=bins)"
      ],
      "metadata": {
        "colab": {
          "base_uri": "https://localhost:8080/",
          "height": 430
        },
        "outputId": "766ab26f-5229-4743-981a-d6b96ea9c812",
        "id": "h9TUzrN4zVTe"
      },
      "execution_count": 627,
      "outputs": [
        {
          "output_type": "display_data",
          "data": {
            "text/plain": [
              "<Figure size 640x480 with 1 Axes>"
            ],
            "image/png": "[encoded data removed]"
          },
          "metadata": {}
        }
      ]
    },
    {
      "cell_type": "code",
      "source": [
        "f'несмещенная оценка дисперсии {S2}'"
      ],
      "metadata": {
        "colab": {
          "base_uri": "https://localhost:8080/",
          "height": 36
        },
        "outputId": "ea6ebf86-6568-4cf8-e975-d5decc44dc52",
        "id": "4Jgc9mSUzVTe"
      },
      "execution_count": 628,
      "outputs": [
        {
          "output_type": "execute_result",
          "data": {
            "text/plain": [
              "'несмещенная оценка дисперсии 17.30444796316552'"
            ],
            "application/vnd.google.colaboratory.intrinsic+json": {
              "type": "string"
            }
          },
          "metadata": {},
          "execution_count": 628
        }
      ]
    },
    {
      "cell_type": "code",
      "source": [
        "intervals = [[bins[i] + 1e-5 * (i != 0), bins[i + 1]] for i in range(len(bins) - 1)]"
      ],
      "metadata": {
        "id": "A56hoszezVTe"
      },
      "execution_count": 629,
      "outputs": []
    },
    {
      "cell_type": "code",
      "source": [
        "g = lambda x: np.sum((mist >= x[0]) & (mist <= x[1]))"
      ],
      "metadata": {
        "id": "Rc_YX2rAzVTe"
      },
      "execution_count": 630,
      "outputs": []
    },
    {
      "cell_type": "code",
      "source": [
        "frq_exp = np.array([g(i) for i in intervals]) / len(mist)\n",
        "assert frq_exp.sum() == 1"
      ],
      "metadata": {
        "id": "6Em8fsLSzVTe"
      },
      "execution_count": 631,
      "outputs": []
    },
    {
      "cell_type": "code",
      "source": [
        "N = sst.norm(0, S2)"
      ],
      "metadata": {
        "id": "aAl4yP45zVTf"
      },
      "execution_count": 632,
      "outputs": []
    },
    {
      "cell_type": "code",
      "source": [
        "frq_norm = np.array([abs(N.pdf(i[1]) - N.pdf(i[0])) * len(mist) for i in intervals])"
      ],
      "metadata": {
        "id": "v1IRlW5yzVTf"
      },
      "execution_count": 633,
      "outputs": []
    },
    {
      "cell_type": "code",
      "source": [
        "frq_norm"
      ],
      "metadata": {
        "colab": {
          "base_uri": "https://localhost:8080/"
        },
        "outputId": "138a8b23-83ff-45f6-8a56-2b14c4cbf25e",
        "id": "l3PhfrvNzVTf"
      },
      "execution_count": 634,
      "outputs": [
        {
          "output_type": "execute_result",
          "data": {
            "text/plain": [
              "array([0.07, 0.06, 0.05, 0.03, 0.02, 0.  , 0.01, 0.03, 0.05, 0.06])"
            ]
          },
          "metadata": {},
          "execution_count": 634
        }
      ]
    },
    {
      "cell_type": "code",
      "source": [
        "chi_square = np.sum((frq_exp - frq_norm) ** 2 / frq_norm)\n",
        "f\"chi^2: {chi_square}\""
      ],
      "metadata": {
        "colab": {
          "base_uri": "https://localhost:8080/",
          "height": 36
        },
        "outputId": "6af3492a-4f72-49ca-ef8f-2376dafe8b7c",
        "id": "WjT-WBEnzVTf"
      },
      "execution_count": 635,
      "outputs": [
        {
          "output_type": "execute_result",
          "data": {
            "text/plain": [
              "'chi^2: 20.486844814857445'"
            ],
            "application/vnd.google.colaboratory.intrinsic+json": {
              "type": "string"
            }
          },
          "metadata": {},
          "execution_count": 635
        }
      ]
    },
    {
      "cell_type": "code",
      "source": [
        "alph = 0.1\n",
        "f'x_alph: {sst.chi2.ppf(1 - alph, df=len(frq_norm) - 1)}'"
      ],
      "metadata": {
        "colab": {
          "base_uri": "https://localhost:8080/",
          "height": 36
        },
        "outputId": "24da1da2-830d-4210-867b-e817d4fed4ec",
        "id": "K8edb1nTzVTf"
      },
      "execution_count": 636,
      "outputs": [
        {
          "output_type": "execute_result",
          "data": {
            "text/plain": [
              "'x_alph: 14.683656573259837'"
            ],
            "application/vnd.google.colaboratory.intrinsic+json": {
              "type": "string"
            }
          },
          "metadata": {},
          "execution_count": 636
        }
      ]
    },
    {
      "cell_type": "markdown",
      "source": [
        "$\\chi^2 > x_{\\alpha}$ следовательно гипотеза о нормальности отвергается"
      ],
      "metadata": {
        "id": "nZrXs74Yz8V_"
      }
    },
    {
      "cell_type": "code",
      "source": [
        "mist_tmp = mist.reshape(-1)\n",
        "emp_func = pd.Series(mist_tmp).apply(lambda x: sum(mist_tmp < x)) / mist_tmp.shape[0]"
      ],
      "metadata": {
        "id": "cRIa1PR87FWK"
      },
      "execution_count": 637,
      "outputs": []
    },
    {
      "cell_type": "code",
      "source": [
        "emp_func.index = mist_tmp"
      ],
      "metadata": {
        "id": "51q5wGvn7FWK"
      },
      "execution_count": 638,
      "outputs": []
    },
    {
      "cell_type": "code",
      "source": [
        "Dn = np.max(np.abs(N.pdf(mist_tmp) - emp_func))\n",
        "Dn"
      ],
      "metadata": {
        "colab": {
          "base_uri": "https://localhost:8080/"
        },
        "outputId": "7074d2fe-d3b1-4530-ca44-113dfe7f2cdf",
        "id": "U1Zx5eKe7FWK"
      },
      "execution_count": 639,
      "outputs": [
        {
          "output_type": "execute_result",
          "data": {
            "text/plain": [
              "0.9595253650828102"
            ]
          },
          "metadata": {},
          "execution_count": 639
        }
      ]
    },
    {
      "cell_type": "code",
      "source": [
        "C = sst.kstwobign.ppf(1 - alph) / np.sqrt(len(x))\n",
        "C"
      ],
      "metadata": {
        "colab": {
          "base_uri": "https://localhost:8080/"
        },
        "outputId": "41130d3e-18bd-41ce-da1c-a930a9919e1e",
        "id": "b4QXLaXr7FWL"
      },
      "execution_count": 640,
      "outputs": [
        {
          "output_type": "execute_result",
          "data": {
            "text/plain": [
              "0.17307822563424255"
            ]
          },
          "metadata": {},
          "execution_count": 640
        }
      ]
    },
    {
      "cell_type": "markdown",
      "source": [
        "$D_n > С$ => гипотезy отвергаем"
      ],
      "metadata": {
        "id": "iSnBnK0c7N1D"
      }
    },
    {
      "cell_type": "markdown",
      "source": [
        "### #7"
      ],
      "metadata": {
        "id": "L9mqdhke7WF1"
      }
    },
    {
      "cell_type": "code",
      "source": [
        "r = np.linalg.matrix_rank(x)\n",
        "n = x.shape[0]\n",
        "x_alpha = sst.t.ppf(1 - alph/2, df = n - r)\n",
        "C = np.matrix([[1], [0], [0]])\n",
        "psi = (C.T @ np.linalg.inv(x.T @ x) @ C)\n",
        "psi = psi[0, 0]\n",
        "print(f\"x_alpha = {x_alpha}\" )\n",
        "print(f\"left = {solve[0][0] - x_alpha * (S2 * psi) ** 0.5}\")\n",
        "print(f\"right = {solve[0][0] + x_alpha * (S2 * psi) ** 0.5}\")"
      ],
      "metadata": {
        "colab": {
          "base_uri": "https://localhost:8080/"
        },
        "outputId": "74e877be-a653-41d2-9339-bf468556202b",
        "id": "WEsxuMwb8LO3"
      },
      "execution_count": 641,
      "outputs": [
        {
          "output_type": "stream",
          "name": "stdout",
          "text": [
            "x_alpha = 1.67792672077558\n",
            "left = -0.7527213523771801\n",
            "right = -0.09428603789943102\n"
          ]
        }
      ]
    },
    {
      "cell_type": "markdown",
      "source": [
        "$\\left[-0.752, -0.094\\right] \\ni \\beta_0$"
      ],
      "metadata": {
        "id": "NsKstrhT8LO4"
      }
    },
    {
      "cell_type": "code",
      "source": [
        "r = np.linalg.matrix_rank(x)\n",
        "n = x.shape[0]\n",
        "x_alpha = sst.t.ppf(1 - alph/2, df = n - r)\n",
        "C = np.matrix([[0], [1], [0]])\n",
        "psi = (C.T @ np.linalg.inv(x.T @ x) @ C)\n",
        "psi = psi[0, 0]\n",
        "print(f\"x_alpha = {x_alpha}\" )\n",
        "print(f\"left = {solve[1][0] - x_alpha * (S2 * psi) ** 0.5}\")\n",
        "print(f\"right = {solve[1][0] + x_alpha * (S2 * psi) ** 0.5}\")"
      ],
      "metadata": {
        "colab": {
          "base_uri": "https://localhost:8080/"
        },
        "outputId": "edaf9591-2054-4dd1-9ed2-07449890139a",
        "id": "bMgOd4_Z8ZNK"
      },
      "execution_count": 642,
      "outputs": [
        {
          "output_type": "stream",
          "name": "stdout",
          "text": [
            "x_alpha = 1.67792672077558\n",
            "left = 1.5629647410015788\n",
            "right = 7.297133940233152\n"
          ]
        }
      ]
    },
    {
      "cell_type": "markdown",
      "source": [
        "$\\left[1.562, 7.297\\right] \\ni \\beta_1$"
      ],
      "metadata": {
        "id": "lsQ5VkHH8ZNT"
      }
    },
    {
      "cell_type": "code",
      "source": [
        "r = np.linalg.matrix_rank(x)\n",
        "n = x.shape[0]\n",
        "x_alpha = sst.t.ppf(1 - alph/2, df = n - r)\n",
        "C = np.matrix([[0], [0], [1]])\n",
        "psi = (C.T @ np.linalg.inv(x.T @ x) @ C)\n",
        "psi = psi[0, 0]\n",
        "print(f\"x_alpha = {x_alpha}\" )\n",
        "print(f\"left = {solve[2][0] - x_alpha * (S2 * psi) ** 0.5}\")\n",
        "print(f\"right = {solve[2][0] + x_alpha * (S2 * psi) ** 0.5}\")"
      ],
      "metadata": {
        "colab": {
          "base_uri": "https://localhost:8080/"
        },
        "outputId": "5051a113-2c28-424a-9689-004fb4383724",
        "id": "04qvMwXn8i_0"
      },
      "execution_count": 643,
      "outputs": [
        {
          "output_type": "stream",
          "name": "stdout",
          "text": [
            "x_alpha = 1.67792672077558\n",
            "left = -7.100678351750929\n",
            "right = 5.132751365638878\n"
          ]
        }
      ]
    },
    {
      "cell_type": "markdown",
      "source": [
        "$\\left[-7.10, 5.132\\right] \\ni \\beta_2$"
      ],
      "metadata": {
        "id": "8lfWRNrI8i_9"
      }
    },
    {
      "cell_type": "code",
      "source": [
        "C = np.eye(3)\n",
        "B = C.T @ np.linalg.inv(x.T @ x) @ C"
      ],
      "metadata": {
        "id": "sWtge89A9Ixv"
      },
      "execution_count": 644,
      "outputs": []
    },
    {
      "cell_type": "code",
      "source": [
        "B"
      ],
      "metadata": {
        "colab": {
          "base_uri": "https://localhost:8080/"
        },
        "outputId": "2fc79e2c-a8e2-4a4b-cc27-cbd982f137c1",
        "id": "PoS8KgnO9Ixw"
      },
      "execution_count": 645,
      "outputs": [
        {
          "output_type": "execute_result",
          "data": {
            "text/plain": [
              "array([[ 0.  , -0.02,  0.04],\n",
              "       [-0.02,  0.17, -0.34],\n",
              "       [ 0.04, -0.34,  0.77]])"
            ]
          },
          "metadata": {},
          "execution_count": 645
        }
      ]
    },
    {
      "cell_type": "code",
      "source": [
        "B_inv = np.linalg.inv(B)"
      ],
      "metadata": {
        "id": "aPwESGgh9Ixw"
      },
      "execution_count": 646,
      "outputs": []
    },
    {
      "cell_type": "code",
      "source": [
        "q = len(solve)\n",
        "x_alpha = sst.f.ppf(1-alph, dfn=q, dfd=n - r)"
      ],
      "metadata": {
        "id": "b2Dc_JF59Ixw"
      },
      "execution_count": 647,
      "outputs": []
    },
    {
      "cell_type": "code",
      "source": [
        "cov = B_inv"
      ],
      "metadata": {
        "id": "w_fiTNZN9Ixw"
      },
      "execution_count": 648,
      "outputs": []
    },
    {
      "cell_type": "code",
      "source": [
        "eigenvalues, _ = np.linalg.eig(cov)"
      ],
      "metadata": {
        "id": "qURf46jF9Ixx"
      },
      "execution_count": 649,
      "outputs": []
    },
    {
      "cell_type": "code",
      "source": [
        "np.set_printoptions(suppress=True)"
      ],
      "metadata": {
        "id": "VCzOv4Lk-ZrM"
      },
      "execution_count": 650,
      "outputs": []
    },
    {
      "cell_type": "code",
      "source": [
        "np.sqrt(1 / (eigenvalues / (x_alpha * q * S2)) )"
      ],
      "metadata": {
        "colab": {
          "base_uri": "https://localhost:8080/"
        },
        "outputId": "5118c740-e82d-4630-88f0-1790f70c547b",
        "id": "qC-k6FD09Ixx"
      },
      "execution_count": 653,
      "outputs": [
        {
          "output_type": "execute_result",
          "data": {
            "text/plain": [
              "array([ 0.07,  1.24, 10.29])"
            ]
          },
          "metadata": {},
          "execution_count": 653
        }
      ]
    },
    {
      "cell_type": "markdown",
      "source": [
        "Первая полуось $\\approx$ 0.07  \n",
        "Вторая полуось $\\approx$ 1.24  \n",
        "Третья полуось $\\approx$ 10.29"
      ],
      "metadata": {
        "id": "X17rVSd89Ixx"
      }
    },
    {
      "cell_type": "markdown",
      "source": [
        "### #8"
      ],
      "metadata": {
        "id": "5uK0xzQ7P1l-"
      }
    },
    {
      "cell_type": "markdown",
      "source": [
        "Основная гипотеза: $H_0 : \\beta_2 = 0$"
      ],
      "metadata": {
        "id": "XKHBLIj5P0Mk"
      }
    },
    {
      "cell_type": "code",
      "source": [
        "x = x[:, 1:]"
      ],
      "metadata": {
        "id": "9UoQ0gwbrwi9"
      },
      "execution_count": 658,
      "outputs": []
    },
    {
      "cell_type": "code",
      "source": [
        "\n",
        "solve = np.linalg.inv(np.dot(x.T, x)) @ x.T @ y\n",
        "display(solve)\n",
        "SSH = np.sum((x @ solve - y) ** 2) - S2 * (x.shape[0] - np.linalg.matrix_rank(x))\n",
        "\n",
        "F_stat = (SSH / q) / (S2)\n",
        "print(f\"Статистика F = {F_stat}\")\n",
        "print(f\"x_alpha = {sst.f.ppf(1 - alph, dfn=q, dfd=n - r)}\")"
      ],
      "metadata": {
        "colab": {
          "base_uri": "https://localhost:8080/",
          "height": 86
        },
        "outputId": "df140605-e761-4580-9d46-4993854408f4",
        "id": "rvH2ZYwoP0Mk"
      },
      "execution_count": 660,
      "outputs": [
        {
          "output_type": "display_data",
          "data": {
            "text/plain": [
              "array([[0.86],\n",
              "       [5.75]])"
            ]
          },
          "metadata": {}
        },
        {
          "output_type": "stream",
          "name": "stdout",
          "text": [
            "Статистика F = 1.219671807769262\n",
            "x_alpha = 2.2041823911022664\n"
          ]
        }
      ]
    },
    {
      "cell_type": "markdown",
      "source": [
        "$\\mathbb{F} > x_{\\alpha}$ => гипотеза о зависимости принимается"
      ],
      "metadata": {
        "id": "OtO0TUTTP0Ml"
      }
    },
    {
      "cell_type": "markdown",
      "metadata": {
        "id": "3JCX9a53S200"
      },
      "source": [
        "## Выводы\n",
        "\n",
        "Во время выполнения практической работы был изучен регрессионный анализ, который включал в себя построение модели, оценку параметров, исследование их значимости, проверку гипотезы о независимости и линейной регрессионной зависимости, оценку нормальности ошибок и построение доверительных интервалов, эллипсов и эллипсоидов. Была сформулирована гипотеза о независимости (и зависимости) переменной Y от переменной X. Результаты противоречивые"
      ]
    },
    {
      "cell_type": "code",
      "source": [],
      "metadata": {
        "id": "XIn8Ss6FXQHM"
      },
      "execution_count": 652,
      "outputs": []
    }
  ],
  "metadata": {
    "kernelspec": {
      "display_name": "python",
      "name": "python3"
    },
    "language_info": {
      "name": "python"
    },
    "colab": {
      "provenance": []
    }
  },
  "nbformat": 4,
  "nbformat_minor": 0
}