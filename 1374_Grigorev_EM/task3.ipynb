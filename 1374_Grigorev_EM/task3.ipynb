{
  "cells": [
    {
      "cell_type": "markdown",
      "metadata": {
        "id": "nselNlrxS20p"
      },
      "source": [
        "# Практическая работа №3: Регрессионный анализ\n",
        "Выполнил студент гр. 1374 Григорьев Евгений. Вариант №4"
      ]
    },
    {
      "cell_type": "markdown",
      "metadata": {
        "id": "q0u4nR1ES20v"
      },
      "source": [
        "## Цель работы\n",
        "Ознакомление с основными положениями метода наименьших квадратов (МНК), со статистическими свойствами МНК-оценок, с понятием функции регрессии и роли МНК в регрессионном анализе."
      ]
    },
    {
      "cell_type": "markdown",
      "metadata": {
        "id": "oEd2_iR_S20v"
      },
      "source": [
        "## Основные теоретические положения\n",
        "МНК\n",
        "\n",
        "$RSS(\\beta)=\\left\\| Y-X^{\\intercal}\\beta \\right\\|=(Y-X^{\\intercal}\\beta)^{\\intercal}\\cdot(Y-X^{\\intercal}\\beta)\\to min_\\beta$\n",
        "\n",
        "Несмещённая оценка дисперсии:\n",
        "\n",
        "$S^{2} = \\frac{SS_{e}}{n-r} = \\frac{RSS(\\widehat{\\beta})}{n-r}$\n",
        "\n",
        "Элемент дисперсии оценки: $b_{\\psi}=C^{\\intercal}(XX^{\\intercal})^{-1}C$\n",
        "\n",
        "Доверительный интервал уровня доверия $1-\\alpha: \\left[ \\widehat{\\psi} - X_{\\alpha}S\\sqrt{b};\\widehat{\\psi} + X_{\\alpha}S\\sqrt{b} \\right], где X_{\\alpha}: \\mathcal{S}_{n-r}(X_{\\alpha})=1-\\frac{\\alpha}{2}$\n",
        "\n",
        "Критерий хихи квадрат.  \n",
        "$ \\chi^2 = \\sum_{i=1}^{N} \\frac{(n_{i} - p_{i} n)^{2}}{n p_{i}} \\sim \\chi^{2}_{n-1}$\n",
        "\n",
        "Теорема Колмогорова\n",
        "\n",
        "$D_{n} = {sup}_{X \\in \\mathbb R} |F_{0}(X_{i}) - F_{n}(X_{i})|$\n"
      ]
    },
    {
      "cell_type": "markdown",
      "metadata": {
        "id": "LTZXbxvOS20w"
      },
      "source": [
        "## Постановка задачи\n",
        "Результаты статистического эксперимента представлены в виде двух переменных. Требуется оценить характер (случайной) зависимости переменной Y\n",
        " от переменной X. Полученные результаты содержательно проинтерпретировать."
      ]
    },
    {
      "cell_type": "markdown",
      "metadata": {
        "id": "dAKrOWQiS20w"
      },
      "source": [
        "## Выполнение работы\n"
      ]
    },
    {
      "cell_type": "code",
      "source": [
        "import numpy as np\n",
        "from sklearn.linear_model import LinearRegression\n",
        "import matplotlib.pyplot as plt"
      ],
      "metadata": {
        "id": "LF-_eC6R78uq"
      },
      "execution_count": 87,
      "outputs": []
    },
    {
      "cell_type": "code",
      "source": [
        "import pandas as pd"
      ],
      "metadata": {
        "id": "BSG2X61xOoQh"
      },
      "execution_count": 88,
      "outputs": []
    },
    {
      "cell_type": "code",
      "source": [
        "import scipy.stats as sst"
      ],
      "metadata": {
        "id": "Ae6y7Flr8Zut"
      },
      "execution_count": 89,
      "outputs": []
    },
    {
      "cell_type": "markdown",
      "source": [
        "### #1 Построить графически результаты эксперимента. Сформулировать линейную регрессионную модель переменной Y по переменной X. Построить МНК оценки параметров сдвига $\\beta_0$ и масштаба $\\beta_1$.  Построить полученную линию регрессии. Оценить визуально соответствие полученных данных и построенной оценки."
      ],
      "metadata": {
        "id": "TEsUfnfIDV_b"
      }
    },
    {
      "cell_type": "code",
      "source": [
        "# Считаем исходные данные\n",
        "x = np.array('''5 3 3 1 2 3 4 5 5 4 4 3 4 6 6 4 8 4 4 4 7 3 5 3 3 4 3 5 5 4 5 1 4 4 5 5 4 6 5 4 4 2 4 6 4 3 5 4 2 4'''.split(), dtype=np.float).reshape(-1, 1)\n",
        "y = np.array('''9.53 11.80 10.93 2.39 5.18\n",
        " 2.74 17.45 14.32 8.01 14.71 11.06 6.67 6.59 7.01 22.17\n",
        "  9.65 7.77 6.49 13.64 1.53 5.68 7.61 5.71 7.00 2.77 12.34 12.39 6.73 8.65 8.34 10.39 3.87 9.08 16.03\n",
        "  10.37 2.22 11.51 9.10 5.45 11.69 10.92 8.54 13.01 17.58 8.61 7.42 8.47 10.93 4.71 17.92 '''.split(), dtype=np.float).reshape(-1, 1)\n",
        ""
      ],
      "metadata": {
        "colab": {
          "base_uri": "https://localhost:8080/"
        },
        "id": "iEHaMf3J7yMe",
        "outputId": "6ef9bd69-b06f-47f9-9ee3-a17f9612956e"
      },
      "execution_count": 90,
      "outputs": [
        {
          "output_type": "stream",
          "name": "stderr",
          "text": [
            "<ipython-input-90-596fca9cbc33>:2: DeprecationWarning: `np.float` is a deprecated alias for the builtin `float`. To silence this warning, use `float` by itself. Doing this will not modify any behavior and is safe. If you specifically wanted the numpy scalar type, use `np.float64` here.\n",
            "Deprecated in NumPy 1.20; for more details and guidance: https://numpy.org/devdocs/release/1.20.0-notes.html#deprecations\n",
            "  x = np.array('''5 3 3 1 2 3 4 5 5 4 4 3 4 6 6 4 8 4 4 4 7 3 5 3 3 4 3 5 5 4 5 1 4 4 5 5 4 6 5 4 4 2 4 6 4 3 5 4 2 4'''.split(), dtype=np.float).reshape(-1, 1)\n",
            "<ipython-input-90-596fca9cbc33>:6: DeprecationWarning: `np.float` is a deprecated alias for the builtin `float`. To silence this warning, use `float` by itself. Doing this will not modify any behavior and is safe. If you specifically wanted the numpy scalar type, use `np.float64` here.\n",
            "Deprecated in NumPy 1.20; for more details and guidance: https://numpy.org/devdocs/release/1.20.0-notes.html#deprecations\n",
            "  10.37 2.22 11.51 9.10 5.45 11.69 10.92 8.54 13.01 17.58 8.61 7.42 8.47 10.93 4.71 17.92 '''.split(), dtype=np.float).reshape(-1, 1)\n"
          ]
        }
      ]
    },
    {
      "cell_type": "code",
      "source": [
        "# Нарисуем поточечный график\n",
        "plt.scatter(x, y)"
      ],
      "metadata": {
        "colab": {
          "base_uri": "https://localhost:8080/",
          "height": 447
        },
        "id": "QI4d-bgH-IMR",
        "outputId": "d2a1e195-84d2-47cb-ac44-b81f5ca8a922"
      },
      "execution_count": 91,
      "outputs": [
        {
          "output_type": "execute_result",
          "data": {
            "text/plain": [
              "<matplotlib.collections.PathCollection at 0x7ef2e38fba00>"
            ]
          },
          "metadata": {},
          "execution_count": 91
        },
        {
          "output_type": "display_data",
          "data": {
            "text/plain": [
              "<Figure size 640x480 with 1 Axes>"
            ],
            "image/png": "[encoded data removed]"
          },
          "metadata": {}
        }
      ]
    },
    {
      "cell_type": "code",
      "source": [
        "lr = LinearRegression()"
      ],
      "metadata": {
        "id": "ePgZMsUY7yTW"
      },
      "execution_count": 92,
      "outputs": []
    },
    {
      "cell_type": "code",
      "source": [
        "# Обучим модель линейной регрессии для проверки\n",
        "lr.fit(x, y)\n",
        "display(lr.coef_)\n",
        "lr.intercept_"
      ],
      "metadata": {
        "colab": {
          "base_uri": "https://localhost:8080/",
          "height": 52
        },
        "id": "HDWLoDLV7yWH",
        "outputId": "105c2d1e-a49a-4e24-e8e5-d458bbee94dc"
      },
      "execution_count": 93,
      "outputs": [
        {
          "output_type": "display_data",
          "data": {
            "text/plain": [
              "array([[0.86466298]])"
            ]
          },
          "metadata": {}
        },
        {
          "output_type": "execute_result",
          "data": {
            "text/plain": [
              "array([5.74848177])"
            ]
          },
          "metadata": {},
          "execution_count": 93
        }
      ]
    },
    {
      "cell_type": "code",
      "source": [
        "x = np.concatenate([x, np.ones(x.shape)], axis=1)"
      ],
      "metadata": {
        "id": "SLkWdg2t9yKi"
      },
      "execution_count": 94,
      "outputs": []
    },
    {
      "cell_type": "code",
      "source": [
        "# Решим аналитически, коэфф. совпали.\n",
        "solve = np.linalg.inv(np.dot(x.T, x)) @ x.T @ y\n",
        "solve"
      ],
      "metadata": {
        "id": "7lOKdlhK96Fi",
        "colab": {
          "base_uri": "https://localhost:8080/"
        },
        "outputId": "6c55c068-1611-4645-aa4a-f38f0f052c49"
      },
      "execution_count": 95,
      "outputs": [
        {
          "output_type": "execute_result",
          "data": {
            "text/plain": [
              "array([[0.86466298],\n",
              "       [5.74848177]])"
            ]
          },
          "metadata": {},
          "execution_count": 95
        }
      ]
    },
    {
      "cell_type": "code",
      "source": [
        "k, b = solve[0][0], solve[1][0]"
      ],
      "metadata": {
        "id": "0ObDsWDD-tVj"
      },
      "execution_count": 96,
      "outputs": []
    },
    {
      "cell_type": "code",
      "source": [
        "# Нарисуем прямую\n",
        "plt.scatter(x[:, 0], y)\n",
        "tmp_x = np.linspace(np.min(x) - 1, np.max(x) + 1, 100)\n",
        "plt.plot(tmp_x, k * tmp_x + b, 'y')"
      ],
      "metadata": {
        "colab": {
          "base_uri": "https://localhost:8080/",
          "height": 447
        },
        "id": "dfFP9Fmr7yZR",
        "outputId": "6bf85c82-0550-45f7-f777-dda7914fe3c1"
      },
      "execution_count": 97,
      "outputs": [
        {
          "output_type": "execute_result",
          "data": {
            "text/plain": [
              "[<matplotlib.lines.Line2D at 0x7ef2e3e48880>]"
            ]
          },
          "metadata": {},
          "execution_count": 97
        },
        {
          "output_type": "display_data",
          "data": {
            "text/plain": [
              "<Figure size 640x480 with 1 Axes>"
            ],
            "image/png": "[encoded data removed]"
          },
          "metadata": {}
        }
      ]
    },
    {
      "cell_type": "markdown",
      "source": [
        "Исходные данные не лежат на одной прямой."
      ],
      "metadata": {
        "id": "xmPLuHJ7DZkb"
      }
    },
    {
      "cell_type": "markdown",
      "source": [
        "### #2 Построить и интерпретировать несмещённую оценку дисперсии. На базе ошибок построить гистограмму с шагом $h$. Проверить гипотезу нормальности ошибок на уровне значимости $\\alpha$ по $\\chi^2$. Оценить расстояние полученной оценки до класса нормальных распределений по Колмогорову. Визуально оценить данный факт."
      ],
      "metadata": {
        "id": "Hb_dQtTuNC2z"
      }
    },
    {
      "cell_type": "code",
      "source": [
        "mist = lr.predict(x[:, [0]]) - y\n",
        "S2 = np.sum((mist) ** 2) / (x.shape[0] - np.linalg.matrix_rank(x))"
      ],
      "metadata": {
        "id": "TVb2hitt7ycJ"
      },
      "execution_count": 98,
      "outputs": []
    },
    {
      "cell_type": "code",
      "source": [
        "# Строим гистограмму и плотность распределения\n",
        "h = 2.1\n",
        "bins = np.arange(min(mist), max(mist) + h, h)\n",
        "plt.hist(mist, bins=bins, density=True)\n",
        "hist, _ = np.histogram(mist, bins=bins)\n",
        "\n",
        "tmp_x = np.linspace(min(mist), max(mist), 1000)\n",
        "plt.plot(tmp_x, sst.norm(0, S2 ** 0.5).pdf(tmp_x))\n"
      ],
      "metadata": {
        "colab": {
          "base_uri": "https://localhost:8080/",
          "height": 447
        },
        "id": "kLPQGHOvFo7l",
        "outputId": "c6b4daa4-4d9a-4fd5-82a1-23edad57828e"
      },
      "execution_count": 99,
      "outputs": [
        {
          "output_type": "execute_result",
          "data": {
            "text/plain": [
              "[<matplotlib.lines.Line2D at 0x7ef2e2fdcfd0>]"
            ]
          },
          "metadata": {},
          "execution_count": 99
        },
        {
          "output_type": "display_data",
          "data": {
            "text/plain": [
              "<Figure size 640x480 with 1 Axes>"
            ],
            "image/png": "[encoded data removed]"
          },
          "metadata": {}
        }
      ]
    },
    {
      "cell_type": "code",
      "source": [
        "f'несмещенная оценка дисперсии {S2}'"
      ],
      "metadata": {
        "colab": {
          "base_uri": "https://localhost:8080/",
          "height": 36
        },
        "id": "uirwVHfI7yej",
        "outputId": "385c4485-cc46-4820-ef88-1d4f4f3ea360"
      },
      "execution_count": 100,
      "outputs": [
        {
          "output_type": "execute_result",
          "data": {
            "text/plain": [
              "'несмещенная оценка дисперсии 18.62355717127072'"
            ],
            "application/vnd.google.colaboratory.intrinsic+json": {
              "type": "string"
            }
          },
          "metadata": {},
          "execution_count": 100
        }
      ]
    },
    {
      "cell_type": "code",
      "source": [
        "# Возьмем разбиение из гистограммы\n",
        "\n",
        "intervals = [[bins[i] + 1e-5 * (i != 0), bins[i + 1]] for i in range(len(bins) - 1)]"
      ],
      "metadata": {
        "id": "u-L_CnP2F_dW"
      },
      "execution_count": 101,
      "outputs": []
    },
    {
      "cell_type": "code",
      "source": [
        "g = lambda x: np.sum((mist >= x[0]) & (mist <= x[1]))"
      ],
      "metadata": {
        "id": "bQ-remlIHrmN"
      },
      "execution_count": 102,
      "outputs": []
    },
    {
      "cell_type": "code",
      "source": [
        "# Экспериментальные частоты\n",
        "frq_exp = np.array([g(i) for i in intervals]) / len(mist)\n",
        "assert frq_exp.sum() == 1"
      ],
      "metadata": {
        "id": "EtYPVO6HIAzd"
      },
      "execution_count": 103,
      "outputs": []
    },
    {
      "cell_type": "code",
      "source": [
        "N = sst.norm(0, S2)"
      ],
      "metadata": {
        "id": "keU3pn5xNCq3"
      },
      "execution_count": 104,
      "outputs": []
    },
    {
      "cell_type": "code",
      "source": [
        "# Ожидаемые частоты\n",
        "frq_norm = np.array([abs(N.pdf(i[1]) - N.pdf(i[0])) * len(mist) for i in intervals])"
      ],
      "metadata": {
        "id": "mW6kzDnsIFRE"
      },
      "execution_count": 105,
      "outputs": []
    },
    {
      "cell_type": "code",
      "source": [
        "frq_norm"
      ],
      "metadata": {
        "colab": {
          "base_uri": "https://localhost:8080/"
        },
        "id": "hGeyvlD2J1mT",
        "outputId": "6d819894-e74d-4dd5-dd26-d3f20c7d7cca"
      },
      "execution_count": 106,
      "outputs": [
        {
          "output_type": "execute_result",
          "data": {
            "text/plain": [
              "array([0.05678866, 0.04763801, 0.03679471, 0.02460447, 0.01149506,\n",
              "       0.00204872, 0.01551485, 0.0283962 , 0.04022221, 0.05058741])"
            ]
          },
          "metadata": {},
          "execution_count": 106
        }
      ]
    },
    {
      "cell_type": "code",
      "source": [
        "chi_square = np.sum((frq_exp - frq_norm) ** 2 / frq_norm)\n",
        "f\"chi^2: {chi_square}\""
      ],
      "metadata": {
        "colab": {
          "base_uri": "https://localhost:8080/",
          "height": 36
        },
        "id": "CJdJTax7KAA9",
        "outputId": "2c652ec5-92c5-40d0-a1d6-d589d7e4d3fa"
      },
      "execution_count": 107,
      "outputs": [
        {
          "output_type": "execute_result",
          "data": {
            "text/plain": [
              "'chi^2: 23.860207655534047'"
            ],
            "application/vnd.google.colaboratory.intrinsic+json": {
              "type": "string"
            }
          },
          "metadata": {},
          "execution_count": 107
        }
      ]
    },
    {
      "cell_type": "code",
      "source": [
        "alph = 0.1\n",
        "f'x_alph: {sst.chi2.ppf(1 - alph, df=len(frq_norm) - 1)}'"
      ],
      "metadata": {
        "colab": {
          "base_uri": "https://localhost:8080/",
          "height": 36
        },
        "id": "qnTgbbgPNvSm",
        "outputId": "e3506ebe-0ddc-456b-d814-0f185efca8ec"
      },
      "execution_count": 108,
      "outputs": [
        {
          "output_type": "execute_result",
          "data": {
            "text/plain": [
              "'x_alph: 14.683656573259837'"
            ],
            "application/vnd.google.colaboratory.intrinsic+json": {
              "type": "string"
            }
          },
          "metadata": {},
          "execution_count": 108
        }
      ]
    },
    {
      "cell_type": "markdown",
      "source": [
        "$\\chi^2 > x_{\\alpha}$ следовательно гипотеза о нормальности ошибок отвергается"
      ],
      "metadata": {
        "id": "VHAcX24tHEKt"
      }
    },
    {
      "cell_type": "code",
      "source": [
        "# Строим эпмирическую функцию\n",
        "mist_tmp = mist.reshape(-1)\n",
        "emp_func = pd.Series(mist_tmp).apply(lambda x: sum(mist_tmp < x)) / mist_tmp.shape[0]"
      ],
      "metadata": {
        "id": "19h31iV_OQ9c"
      },
      "execution_count": 109,
      "outputs": []
    },
    {
      "cell_type": "code",
      "source": [
        "emp_func.index = mist_tmp"
      ],
      "metadata": {
        "id": "PfuplKXaO8AJ"
      },
      "execution_count": 110,
      "outputs": []
    },
    {
      "cell_type": "code",
      "source": [
        "Dn = np.max(np.abs(N.pdf(mist_tmp) - emp_func))\n",
        "Dn"
      ],
      "metadata": {
        "id": "sb6xM03hPUo1",
        "colab": {
          "base_uri": "https://localhost:8080/"
        },
        "outputId": "6706798c-37f5-414a-85de-07fe0a0c239d"
      },
      "execution_count": 111,
      "outputs": [
        {
          "output_type": "execute_result",
          "data": {
            "text/plain": [
              "0.9604003091091647"
            ]
          },
          "metadata": {},
          "execution_count": 111
        }
      ]
    },
    {
      "cell_type": "code",
      "source": [
        "C = sst.kstwobign.ppf(1 - alph) / np.sqrt(len(x))\n",
        "C"
      ],
      "metadata": {
        "colab": {
          "base_uri": "https://localhost:8080/"
        },
        "id": "MUyv6qqk4m_s",
        "outputId": "805fbcb2-b6b7-4e11-8cdf-72715a29fe4d"
      },
      "execution_count": 112,
      "outputs": [
        {
          "output_type": "execute_result",
          "data": {
            "text/plain": [
              "0.17307822563424255"
            ]
          },
          "metadata": {},
          "execution_count": 112
        }
      ]
    },
    {
      "cell_type": "markdown",
      "source": [
        "$D_n > С \\implies$ гипотезy отвергаем"
      ],
      "metadata": {
        "id": "e3TWWoi36dhU"
      }
    },
    {
      "cell_type": "markdown",
      "source": [
        "### #3 В предположении нормальности ошибок построить доверительные интервалы для параметров $\\beta_0$ и $\\beta_1$ уровня доверия $1 - \\alpha$. Построить доверительный эллипс уровня доверия $1 - \\alpha$ для $(\\beta_0, \\beta_1)$ (вычислить его полуоси)."
      ],
      "metadata": {
        "id": "ieL3FOw8WPR5"
      }
    },
    {
      "cell_type": "code",
      "source": [
        "# Считаем доверительные интервалы по алгоритму\n",
        "r = np.linalg.matrix_rank(x)\n",
        "n = x.shape[0]\n",
        "x_alpha = sst.t.ppf(1 - alph/2, df = n - r)\n",
        "C = np.matrix([[1], [0]])\n",
        "psi = (C.T @ np.linalg.inv(x.T @ x) @ C)\n",
        "psi = psi[0, 0]\n",
        "print(f\"x_alpha = {x_alpha}\" )\n",
        "print(f\"left = {solve[0][0] - x_alpha * (S2 * psi) ** 0.5}\")\n",
        "print(f\"right = {solve[0][0] + x_alpha * (S2 * psi) ** 0.5}\")"
      ],
      "metadata": {
        "colab": {
          "base_uri": "https://localhost:8080/"
        },
        "id": "NxxhzUwqPo4_",
        "outputId": "c7529870-4e18-4581-aacd-16ec8b57c03a"
      },
      "execution_count": 113,
      "outputs": [
        {
          "output_type": "stream",
          "name": "stdout",
          "text": [
            "x_alpha = 1.6772241953450393\n",
            "left = 0.10381455573305787\n",
            "right = 1.6255114111177702\n"
          ]
        }
      ]
    },
    {
      "cell_type": "markdown",
      "source": [
        "$\\left[0.103, 1.625\\right] \\ni \\beta_0$"
      ],
      "metadata": {
        "id": "WxiDkEapZKXM"
      }
    },
    {
      "cell_type": "code",
      "source": [
        "# Считаем доверительные интервалы по алгоритму\n",
        "r = np.linalg.matrix_rank(x)\n",
        "n = x.shape[0]\n",
        "x_alpha = sst.t.ppf(1 - alph / 2, df=n - r)\n",
        "C = np.matrix([[0], [1]])\n",
        "psi = (C.T @ np.linalg.inv(x.T @ x) @ C)\n",
        "psi = psi[0, 0]\n",
        "print(f\"x_alpha = {x_alpha}\" )\n",
        "print(f\"left = {solve[1][0] - x_alpha * (S2 * psi) ** 0.5}\")\n",
        "print(f\"right = {solve[1][0] + x_alpha * (S2 * psi) ** 0.5}\")"
      ],
      "metadata": {
        "colab": {
          "base_uri": "https://localhost:8080/"
        },
        "outputId": "32e6f7a3-9edb-4ef5-bd52-425151a35d1d",
        "id": "XPhoNgw6Z3MP"
      },
      "execution_count": 114,
      "outputs": [
        {
          "output_type": "stream",
          "name": "stdout",
          "text": [
            "x_alpha = 1.6772241953450393\n",
            "left = 2.465352476693216\n",
            "right = 9.031611059218381\n"
          ]
        }
      ]
    },
    {
      "cell_type": "markdown",
      "source": [
        "$\\left[2.465, 9.031\\right] \\ni \\beta_1$"
      ],
      "metadata": {
        "id": "lRj9tKB6Z3Mu"
      }
    },
    {
      "cell_type": "code",
      "source": [
        "# Посчитаем полуоси эллипсов через собственные числа (переход в базис из собственных векторов для достижения канон. вида квадратичной формы)\n",
        "C = np.array([[1, 0],\n",
        "              [0, 1]\n",
        "              ])\n",
        "B = C.T @ np.linalg.inv(x.T @ x) @ C\n",
        "B_inv = np.linalg.inv(B)\n",
        "q = len(solve)\n",
        "x_alpha = sst.f.ppf(1-alph, dfn=q, dfd=n - r)\n",
        "cov = B_inv\n",
        "eigenvalues, _ = np.linalg.eig(cov)\n",
        "np.sqrt(1 / eigenvalues * (x_alpha * q * S2))"
      ],
      "metadata": {
        "id": "IrilTtxrfkrq",
        "colab": {
          "base_uri": "https://localhost:8080/"
        },
        "outputId": "20a7d253-01ac-4e08-ff48-540e5f5c7a50"
      },
      "execution_count": 115,
      "outputs": [
        {
          "output_type": "execute_result",
          "data": {
            "text/plain": [
              "array([0.30363225, 4.40708083])"
            ]
          },
          "metadata": {},
          "execution_count": 115
        }
      ]
    },
    {
      "cell_type": "markdown",
      "source": [
        "Первая полуось $\\approx$ 0.3  \n",
        "Вторая полуось $\\approx$ 4.41"
      ],
      "metadata": {
        "id": "iQl6DmBtpyPG"
      }
    },
    {
      "cell_type": "markdown",
      "source": [
        "### #4 Сформулировать гипотезу независимости переменной $Y$ от переменной $X$. Провести проверку значимости."
      ],
      "metadata": {
        "id": "yn5FbqsGp7kU"
      }
    },
    {
      "cell_type": "markdown",
      "source": [
        "Основная гипотеза: $H_0 : \\psi = 0$"
      ],
      "metadata": {
        "id": "BD34cprYvabO"
      }
    },
    {
      "cell_type": "code",
      "source": [
        "beta_1_h = np.mean(y) # наивный прогноз\n",
        "beta_0_h = 0\n",
        "SSH = np.sum((beta_1_h - y) ** 2) - S2 * (x.shape[0] - np.linalg.matrix_rank(x))\n",
        "\n",
        "F_stat = (SSH / q) / (S2)\n",
        "print(f\"Статистика F = {F_stat}\")\n",
        "print(f\"x_alpha = {sst.f.ppf(1 - alph, dfn=q, dfd=n - r)}\")"
      ],
      "metadata": {
        "colab": {
          "base_uri": "https://localhost:8080/"
        },
        "id": "zsZT_xYJp_s8",
        "outputId": "8946d98d-240e-44ba-d777-2e9689ab8d93"
      },
      "execution_count": 116,
      "outputs": [
        {
          "output_type": "stream",
          "name": "stdout",
          "text": [
            "Статистика F = 1.8165597247818595\n",
            "x_alpha = 2.4166601100530283\n"
          ]
        }
      ]
    },
    {
      "cell_type": "markdown",
      "source": [
        "$\\mathbb{F} < x_{\\alpha}$ => гипотеза о независимости принимается"
      ],
      "metadata": {
        "id": "Zg2qmWqeu1-z"
      }
    },
    {
      "cell_type": "markdown",
      "source": [
        "### #5 Сформулировать модель, включающую дополнительный член с $X^2$. Построить МНК оценки параметров $\\beta_0, \\beta_1, \\beta_2$ в данной модели. Изобразить графически полученную регрессионную зависимость."
      ],
      "metadata": {
        "id": "DXlqwEtZvhya"
      }
    },
    {
      "cell_type": "code",
      "source": [
        "# Добавим х**2 в обучающ. выборку\n",
        "x = np.concatenate([(x[:, 0] ** 2).reshape(-1, 1), x], axis=1)"
      ],
      "metadata": {
        "id": "PlOwGPd7vn6V"
      },
      "execution_count": 117,
      "outputs": []
    },
    {
      "cell_type": "code",
      "source": [
        "lr = LinearRegression()\n",
        "lr.fit(x, y)"
      ],
      "metadata": {
        "colab": {
          "base_uri": "https://localhost:8080/",
          "height": 74
        },
        "id": "rR_4CRkq0lix",
        "outputId": "cce83c87-1918-4f4a-b923-89d641b7fc72"
      },
      "execution_count": 118,
      "outputs": [
        {
          "output_type": "execute_result",
          "data": {
            "text/plain": [
              "LinearRegression()"
            ],
            "text/html": [
              "<style>#sk-container-id-2 {color: black;background-color: white;}#sk-container-id-2 pre{padding: 0;}#sk-container-id-2 div.sk-toggleable {background-color: white;}#sk-container-id-2 label.sk-toggleable__label {cursor: pointer;display: block;width: 100%;margin-bottom: 0;padding: 0.3em;box-sizing: border-box;text-align: center;}#sk-container-id-2 label.sk-toggleable__label-arrow:before {content: \"▸\";float: left;margin-right: 0.25em;color: #696969;}#sk-container-id-2 label.sk-toggleable__label-arrow:hover:before {color: black;}#sk-container-id-2 div.sk-estimator:hover label.sk-toggleable__label-arrow:before {color: black;}#sk-container-id-2 div.sk-toggleable__content {max-height: 0;max-width: 0;overflow: hidden;text-align: left;background-color: #f0f8ff;}#sk-container-id-2 div.sk-toggleable__content pre {margin: 0.2em;color: black;border-radius: 0.25em;background-color: #f0f8ff;}#sk-container-id-2 input.sk-toggleable__control:checked~div.sk-toggleable__content {max-height: 200px;max-width: 100%;overflow: auto;}#sk-container-id-2 input.sk-toggleable__control:checked~label.sk-toggleable__label-arrow:before {content: \"▾\";}#sk-container-id-2 div.sk-estimator input.sk-toggleable__control:checked~label.sk-toggleable__label {background-color: #d4ebff;}#sk-container-id-2 div.sk-label input.sk-toggleable__control:checked~label.sk-toggleable__label {background-color: #d4ebff;}#sk-container-id-2 input.sk-hidden--visually {border: 0;clip: rect(1px 1px 1px 1px);clip: rect(1px, 1px, 1px, 1px);height: 1px;margin: -1px;overflow: hidden;padding: 0;position: absolute;width: 1px;}#sk-container-id-2 div.sk-estimator {font-family: monospace;background-color: #f0f8ff;border: 1px dotted black;border-radius: 0.25em;box-sizing: border-box;margin-bottom: 0.5em;}#sk-container-id-2 div.sk-estimator:hover {background-color: #d4ebff;}#sk-container-id-2 div.sk-parallel-item::after {content: \"\";width: 100%;border-bottom: 1px solid gray;flex-grow: 1;}#sk-container-id-2 div.sk-label:hover label.sk-toggleable__label {background-color: #d4ebff;}#sk-container-id-2 div.sk-serial::before {content: \"\";position: absolute;border-left: 1px solid gray;box-sizing: border-box;top: 0;bottom: 0;left: 50%;z-index: 0;}#sk-container-id-2 div.sk-serial {display: flex;flex-direction: column;align-items: center;background-color: white;padding-right: 0.2em;padding-left: 0.2em;position: relative;}#sk-container-id-2 div.sk-item {position: relative;z-index: 1;}#sk-container-id-2 div.sk-parallel {display: flex;align-items: stretch;justify-content: center;background-color: white;position: relative;}#sk-container-id-2 div.sk-item::before, #sk-container-id-2 div.sk-parallel-item::before {content: \"\";position: absolute;border-left: 1px solid gray;box-sizing: border-box;top: 0;bottom: 0;left: 50%;z-index: -1;}#sk-container-id-2 div.sk-parallel-item {display: flex;flex-direction: column;z-index: 1;position: relative;background-color: white;}#sk-container-id-2 div.sk-parallel-item:first-child::after {align-self: flex-end;width: 50%;}#sk-container-id-2 div.sk-parallel-item:last-child::after {align-self: flex-start;width: 50%;}#sk-container-id-2 div.sk-parallel-item:only-child::after {width: 0;}#sk-container-id-2 div.sk-dashed-wrapped {border: 1px dashed gray;margin: 0 0.4em 0.5em 0.4em;box-sizing: border-box;padding-bottom: 0.4em;background-color: white;}#sk-container-id-2 div.sk-label label {font-family: monospace;font-weight: bold;display: inline-block;line-height: 1.2em;}#sk-container-id-2 div.sk-label-container {text-align: center;}#sk-container-id-2 div.sk-container {/* jupyter's `normalize.less` sets `[hidden] { display: none; }` but bootstrap.min.css set `[hidden] { display: none !important; }` so we also need the `!important` here to be able to override the default hidden behavior on the sphinx rendered scikit-learn.org. See: https://github.com/scikit-learn/scikit-learn/issues/21755 */display: inline-block !important;position: relative;}#sk-container-id-2 div.sk-text-repr-fallback {display: none;}</style><div id=\"sk-container-id-2\" class=\"sk-top-container\"><div class=\"sk-text-repr-fallback\"><pre>LinearRegression()</pre><b>In a Jupyter environment, please rerun this cell to show the HTML representation or trust the notebook. <br />On GitHub, the HTML representation is unable to render, please try loading this page with nbviewer.org.</b></div><div class=\"sk-container\" hidden><div class=\"sk-item\"><div class=\"sk-estimator sk-toggleable\"><input class=\"sk-toggleable__control sk-hidden--visually\" id=\"sk-estimator-id-2\" type=\"checkbox\" checked><label for=\"sk-estimator-id-2\" class=\"sk-toggleable__label sk-toggleable__label-arrow\">LinearRegression</label><div class=\"sk-toggleable__content\"><pre>LinearRegression()</pre></div></div></div></div></div>"
            ]
          },
          "metadata": {},
          "execution_count": 118
        }
      ]
    },
    {
      "cell_type": "code",
      "source": [
        "display(lr.coef_)\n",
        "lr.intercept_"
      ],
      "metadata": {
        "colab": {
          "base_uri": "https://localhost:8080/",
          "height": 52
        },
        "id": "X-QnnkRi0oGU",
        "outputId": "8352169f-01c4-424b-e0c8-63eeef098e1e"
      },
      "execution_count": 119,
      "outputs": [
        {
          "output_type": "display_data",
          "data": {
            "text/plain": [
              "array([[-0.4235037 ,  4.43004934,  0.        ]])"
            ]
          },
          "metadata": {}
        },
        {
          "output_type": "execute_result",
          "data": {
            "text/plain": [
              "array([-0.98396349])"
            ]
          },
          "metadata": {},
          "execution_count": 119
        }
      ]
    },
    {
      "cell_type": "code",
      "source": [
        "# Аналитическое решение\n",
        "solve = np.linalg.inv(np.dot(x.T, x)) @ x.T @ y\n",
        "solve"
      ],
      "metadata": {
        "colab": {
          "base_uri": "https://localhost:8080/"
        },
        "id": "nkU4FfGMvhKv",
        "outputId": "942e54ba-d471-45ce-e48b-bbc016684003"
      },
      "execution_count": 120,
      "outputs": [
        {
          "output_type": "execute_result",
          "data": {
            "text/plain": [
              "array([[-0.4235037 ],\n",
              "       [ 4.43004934],\n",
              "       [-0.98396349]])"
            ]
          },
          "metadata": {},
          "execution_count": 120
        }
      ]
    },
    {
      "cell_type": "code",
      "source": [
        "tmp_x = np.array([[i ** 2, i, 1] for i in np.linspace(0, 10, 100)])"
      ],
      "metadata": {
        "id": "bObnuQumwHz7"
      },
      "execution_count": 121,
      "outputs": []
    },
    {
      "cell_type": "code",
      "source": [
        "# График по регресии\n",
        "plt.scatter(x[:, 1], y)\n",
        "plt.plot(tmp_x[:, 1], tmp_x @ solve, 'y')"
      ],
      "metadata": {
        "colab": {
          "base_uri": "https://localhost:8080/",
          "height": 447
        },
        "outputId": "3af290cf-c858-491f-9486-1cdc75315a0a",
        "id": "oWf1OWF-wHz8"
      },
      "execution_count": 122,
      "outputs": [
        {
          "output_type": "execute_result",
          "data": {
            "text/plain": [
              "[<matplotlib.lines.Line2D at 0x7ef2e30655d0>]"
            ]
          },
          "metadata": {},
          "execution_count": 122
        },
        {
          "output_type": "display_data",
          "data": {
            "text/plain": [
              "<Figure size 640x480 with 1 Axes>"
            ],
            "image/png": "[encoded data removed]"
          },
          "metadata": {}
        }
      ]
    },
    {
      "cell_type": "markdown",
      "source": [
        "### #6 Построить несмещённую оценку дисперсии. Провести исследование нормальности ошибок как в пункте 2."
      ],
      "metadata": {
        "id": "-xH2YvSl1PvC"
      }
    },
    {
      "cell_type": "code",
      "source": [
        "mist = x @ solve - y\n",
        "S2 = np.sum((mist) ** 2) / (x.shape[0] - np.linalg.matrix_rank(x))"
      ],
      "metadata": {
        "id": "hmBaf1C8zVTd"
      },
      "execution_count": 123,
      "outputs": []
    },
    {
      "cell_type": "code",
      "source": [
        "# Гистограмма ошибок\n",
        "h = 2.1\n",
        "bins = np.arange(min(mist), max(mist) + h, h)\n",
        "plt.hist(mist, bins=bins, density=True)\n",
        "hist, _ = np.histogram(mist, bins=bins)\n",
        "\n",
        "\n",
        "tmp_x = np.linspace(min(mist), max(mist), 1000)\n",
        "plt.plot(tmp_x, sst.norm(0, S2 ** 0.5).pdf(tmp_x))"
      ],
      "metadata": {
        "colab": {
          "base_uri": "https://localhost:8080/",
          "height": 452
        },
        "outputId": "d1e11b06-7f6a-493d-b1db-a65a9caa7775",
        "id": "h9TUzrN4zVTe"
      },
      "execution_count": 124,
      "outputs": [
        {
          "output_type": "execute_result",
          "data": {
            "text/plain": [
              "[<matplotlib.lines.Line2D at 0x7ef2e2edbd00>]"
            ]
          },
          "metadata": {},
          "execution_count": 124
        },
        {
          "output_type": "display_data",
          "data": {
            "text/plain": [
              "<Figure size 640x480 with 1 Axes>"
            ],
            "image/png": "[encoded data removed]"
          },
          "metadata": {}
        }
      ]
    },
    {
      "cell_type": "code",
      "source": [
        "f'несмещенная оценка дисперсии {S2}'"
      ],
      "metadata": {
        "colab": {
          "base_uri": "https://localhost:8080/",
          "height": 36
        },
        "outputId": "33492966-afad-4eb6-83bf-322aca1bd0d8",
        "id": "4Jgc9mSUzVTe"
      },
      "execution_count": 125,
      "outputs": [
        {
          "output_type": "execute_result",
          "data": {
            "text/plain": [
              "'несмещенная оценка дисперсии 17.30444796316552'"
            ],
            "application/vnd.google.colaboratory.intrinsic+json": {
              "type": "string"
            }
          },
          "metadata": {},
          "execution_count": 125
        }
      ]
    },
    {
      "cell_type": "code",
      "source": [
        "# Интервалы из гистограммы\n",
        "intervals = [[bins[i] + 1e-5 * (i != 0), bins[i + 1]] for i in range(len(bins) - 1)]"
      ],
      "metadata": {
        "id": "A56hoszezVTe"
      },
      "execution_count": 126,
      "outputs": []
    },
    {
      "cell_type": "code",
      "source": [
        "g = lambda x: np.sum((mist >= x[0]) & (mist <= x[1]))"
      ],
      "metadata": {
        "id": "Rc_YX2rAzVTe"
      },
      "execution_count": 127,
      "outputs": []
    },
    {
      "cell_type": "code",
      "source": [
        "frq_exp = np.array([g(i) for i in intervals]) / len(mist)\n",
        "assert frq_exp.sum() == 1"
      ],
      "metadata": {
        "id": "6Em8fsLSzVTe"
      },
      "execution_count": 128,
      "outputs": []
    },
    {
      "cell_type": "code",
      "source": [
        "N = sst.norm(0, S2)"
      ],
      "metadata": {
        "id": "aAl4yP45zVTf"
      },
      "execution_count": 129,
      "outputs": []
    },
    {
      "cell_type": "code",
      "source": [
        "frq_norm = np.array([abs(N.pdf(i[1]) - N.pdf(i[0])) * len(mist) for i in intervals])"
      ],
      "metadata": {
        "id": "v1IRlW5yzVTf"
      },
      "execution_count": 130,
      "outputs": []
    },
    {
      "cell_type": "code",
      "source": [
        "frq_norm"
      ],
      "metadata": {
        "colab": {
          "base_uri": "https://localhost:8080/"
        },
        "outputId": "4573d50f-df95-47be-99c9-3d5c5ee25a06",
        "id": "l3PhfrvNzVTf"
      },
      "execution_count": 131,
      "outputs": [
        {
          "output_type": "execute_result",
          "data": {
            "text/plain": [
              "array([0.07161867, 0.06171529, 0.04933044, 0.03488525, 0.01894384,\n",
              "       0.00217674, 0.01468582, 0.03090666, 0.04579514, 0.05875584])"
            ]
          },
          "metadata": {},
          "execution_count": 131
        }
      ]
    },
    {
      "cell_type": "code",
      "source": [
        "chi_square = np.sum((frq_exp - frq_norm) ** 2 / frq_norm)\n",
        "f\"chi^2: {chi_square}\""
      ],
      "metadata": {
        "colab": {
          "base_uri": "https://localhost:8080/",
          "height": 36
        },
        "outputId": "0f52a3ae-4576-43d1-d9ce-9b940da50590",
        "id": "WjT-WBEnzVTf"
      },
      "execution_count": 132,
      "outputs": [
        {
          "output_type": "execute_result",
          "data": {
            "text/plain": [
              "'chi^2: 20.486844814857445'"
            ],
            "application/vnd.google.colaboratory.intrinsic+json": {
              "type": "string"
            }
          },
          "metadata": {},
          "execution_count": 132
        }
      ]
    },
    {
      "cell_type": "code",
      "source": [
        "alph = 0.1\n",
        "f'x_alph: {sst.chi2.ppf(1 - alph, df=len(frq_norm) - 1)}'"
      ],
      "metadata": {
        "colab": {
          "base_uri": "https://localhost:8080/",
          "height": 36
        },
        "outputId": "6c291e6b-d92f-42e1-98ba-9601143d5bc7",
        "id": "K8edb1nTzVTf"
      },
      "execution_count": 133,
      "outputs": [
        {
          "output_type": "execute_result",
          "data": {
            "text/plain": [
              "'x_alph: 14.683656573259837'"
            ],
            "application/vnd.google.colaboratory.intrinsic+json": {
              "type": "string"
            }
          },
          "metadata": {},
          "execution_count": 133
        }
      ]
    },
    {
      "cell_type": "markdown",
      "source": [
        "$\\chi^2 > x_{\\alpha}$ следовательно гипотеза о нормальности отвергается"
      ],
      "metadata": {
        "id": "nZrXs74Yz8V_"
      }
    },
    {
      "cell_type": "code",
      "source": [
        "mist_tmp = mist.reshape(-1)\n",
        "emp_func = pd.Series(mist_tmp).apply(lambda x: sum(mist_tmp < x)) / mist_tmp.shape[0]"
      ],
      "metadata": {
        "id": "cRIa1PR87FWK"
      },
      "execution_count": 134,
      "outputs": []
    },
    {
      "cell_type": "code",
      "source": [
        "emp_func.index = mist_tmp"
      ],
      "metadata": {
        "id": "51q5wGvn7FWK"
      },
      "execution_count": 135,
      "outputs": []
    },
    {
      "cell_type": "code",
      "source": [
        "Dn = np.max(np.abs(N.pdf(mist_tmp) - emp_func))\n",
        "Dn"
      ],
      "metadata": {
        "colab": {
          "base_uri": "https://localhost:8080/"
        },
        "outputId": "67f99756-e8f3-4a26-8343-d26593f0bec7",
        "id": "U1Zx5eKe7FWK"
      },
      "execution_count": 136,
      "outputs": [
        {
          "output_type": "execute_result",
          "data": {
            "text/plain": [
              "0.9595253650828102"
            ]
          },
          "metadata": {},
          "execution_count": 136
        }
      ]
    },
    {
      "cell_type": "code",
      "source": [
        "C = sst.kstwobign.ppf(1 - alph) / np.sqrt(len(x))\n",
        "C"
      ],
      "metadata": {
        "colab": {
          "base_uri": "https://localhost:8080/"
        },
        "outputId": "3a09f239-02f9-4e69-dd82-86eeffd37276",
        "id": "b4QXLaXr7FWL"
      },
      "execution_count": 137,
      "outputs": [
        {
          "output_type": "execute_result",
          "data": {
            "text/plain": [
              "0.17307822563424255"
            ]
          },
          "metadata": {},
          "execution_count": 137
        }
      ]
    },
    {
      "cell_type": "markdown",
      "source": [
        "$D_n > С \\implies$  гипотезy отвергаем"
      ],
      "metadata": {
        "id": "iSnBnK0c7N1D"
      }
    },
    {
      "cell_type": "markdown",
      "source": [
        "### #7 В предположении нормальности ошибок построить доверительные интервалы для параметров $\\beta_0, \\beta_1, \\beta_2$ уровня доверия $1 - \\alpha$. Написать уравнение доверительного эллипсоида уровня доверия $1 - \\alpha$"
      ],
      "metadata": {
        "id": "L9mqdhke7WF1"
      }
    },
    {
      "cell_type": "code",
      "source": [
        "# Считаем доверительные интервалы\n",
        "r = np.linalg.matrix_rank(x)\n",
        "n = x.shape[0]\n",
        "x_alpha = sst.t.ppf(1 - alph/2, df = n - r)\n",
        "C = np.matrix([[1], [0], [0]])\n",
        "psi = (C.T @ np.linalg.inv(x.T @ x) @ C)\n",
        "psi = psi[0, 0]\n",
        "print(f\"x_alpha = {x_alpha}\" )\n",
        "print(f\"left = {solve[0][0] - x_alpha * (S2 * psi) ** 0.5}\")\n",
        "print(f\"right = {solve[0][0] + x_alpha * (S2 * psi) ** 0.5}\")"
      ],
      "metadata": {
        "colab": {
          "base_uri": "https://localhost:8080/"
        },
        "outputId": "f83e11a3-f1d8-49cd-9d9a-37487e450e1a",
        "id": "WEsxuMwb8LO3"
      },
      "execution_count": 138,
      "outputs": [
        {
          "output_type": "stream",
          "name": "stdout",
          "text": [
            "x_alpha = 1.67792672077558\n",
            "left = -0.7527213523771801\n",
            "right = -0.09428603789943102\n"
          ]
        }
      ]
    },
    {
      "cell_type": "markdown",
      "source": [
        "$\\left[-0.752, -0.094\\right] \\ni \\beta_0$"
      ],
      "metadata": {
        "id": "NsKstrhT8LO4"
      }
    },
    {
      "cell_type": "code",
      "source": [
        "# Считаем доверительные интервалы\n",
        "r = np.linalg.matrix_rank(x)\n",
        "n = x.shape[0]\n",
        "x_alpha = sst.t.ppf(1 - alph/2, df = n - r)\n",
        "C = np.matrix([[0], [1], [0]])\n",
        "psi = (C.T @ np.linalg.inv(x.T @ x) @ C)\n",
        "psi = psi[0, 0]\n",
        "print(f\"x_alpha = {x_alpha}\" )\n",
        "print(f\"left = {solve[1][0] - x_alpha * (S2 * psi) ** 0.5}\")\n",
        "print(f\"right = {solve[1][0] + x_alpha * (S2 * psi) ** 0.5}\")"
      ],
      "metadata": {
        "colab": {
          "base_uri": "https://localhost:8080/"
        },
        "outputId": "db2b28f4-da14-491d-ca57-f6909b3f389b",
        "id": "bMgOd4_Z8ZNK"
      },
      "execution_count": 139,
      "outputs": [
        {
          "output_type": "stream",
          "name": "stdout",
          "text": [
            "x_alpha = 1.67792672077558\n",
            "left = 1.5629647410015788\n",
            "right = 7.297133940233152\n"
          ]
        }
      ]
    },
    {
      "cell_type": "markdown",
      "source": [
        "$\\left[1.562, 7.297\\right] \\ni \\beta_1$"
      ],
      "metadata": {
        "id": "lsQ5VkHH8ZNT"
      }
    },
    {
      "cell_type": "code",
      "source": [
        "# Считаем доверительные интервалы\n",
        "r = np.linalg.matrix_rank(x)\n",
        "n = x.shape[0]\n",
        "x_alpha = sst.t.ppf(1 - alph/2, df = n - r)\n",
        "C = np.matrix([[0], [0], [1]])\n",
        "psi = (C.T @ np.linalg.inv(x.T @ x) @ C)\n",
        "psi = psi[0, 0]\n",
        "print(f\"x_alpha = {x_alpha}\" )\n",
        "print(f\"left = {solve[2][0] - x_alpha * (S2 * psi) ** 0.5}\")\n",
        "print(f\"right = {solve[2][0] + x_alpha * (S2 * psi) ** 0.5}\")"
      ],
      "metadata": {
        "colab": {
          "base_uri": "https://localhost:8080/"
        },
        "outputId": "f42de887-5c3c-4361-f812-990e8f82258c",
        "id": "04qvMwXn8i_0"
      },
      "execution_count": 140,
      "outputs": [
        {
          "output_type": "stream",
          "name": "stdout",
          "text": [
            "x_alpha = 1.67792672077558\n",
            "left = -7.100678351750929\n",
            "right = 5.132751365638878\n"
          ]
        }
      ]
    },
    {
      "cell_type": "markdown",
      "source": [
        "$\\left[-7.10, 5.132\\right] \\ni \\beta_2$"
      ],
      "metadata": {
        "id": "8lfWRNrI8i_9"
      }
    },
    {
      "cell_type": "code",
      "source": [
        "# Аналогичено посчитаем оси эллипсоида\n",
        "C = np.eye(3)\n",
        "B = C.T @ np.linalg.inv(x.T @ x) @ C"
      ],
      "metadata": {
        "id": "sWtge89A9Ixv"
      },
      "execution_count": 141,
      "outputs": []
    },
    {
      "cell_type": "code",
      "source": [
        "B"
      ],
      "metadata": {
        "colab": {
          "base_uri": "https://localhost:8080/"
        },
        "outputId": "5f0d2112-abb3-4230-e4bc-90961b67edf6",
        "id": "PoS8KgnO9Ixw"
      },
      "execution_count": 142,
      "outputs": [
        {
          "output_type": "execute_result",
          "data": {
            "text/plain": [
              "array([[ 0.00222465, -0.01872888,  0.03536536],\n",
              "       [-0.01872888,  0.16872416, -0.34303725],\n",
              "       [ 0.03536536, -0.34303725,  0.76794964]])"
            ]
          },
          "metadata": {},
          "execution_count": 142
        }
      ]
    },
    {
      "cell_type": "code",
      "source": [
        "B_inv = np.linalg.inv(B)"
      ],
      "metadata": {
        "id": "aPwESGgh9Ixw"
      },
      "execution_count": 143,
      "outputs": []
    },
    {
      "cell_type": "code",
      "source": [
        "q = len(solve)\n",
        "x_alpha = sst.f.ppf(1-alph, dfn=q, dfd=n - r)"
      ],
      "metadata": {
        "id": "b2Dc_JF59Ixw"
      },
      "execution_count": 144,
      "outputs": []
    },
    {
      "cell_type": "code",
      "source": [
        "cov = B_inv"
      ],
      "metadata": {
        "id": "w_fiTNZN9Ixw"
      },
      "execution_count": 145,
      "outputs": []
    },
    {
      "cell_type": "code",
      "source": [
        "eigenvalues, _ = np.linalg.eig(cov)"
      ],
      "metadata": {
        "id": "qURf46jF9Ixx"
      },
      "execution_count": 146,
      "outputs": []
    },
    {
      "cell_type": "code",
      "source": [
        "np.set_printoptions(suppress=True)"
      ],
      "metadata": {
        "id": "VCzOv4Lk-ZrM"
      },
      "execution_count": 147,
      "outputs": []
    },
    {
      "cell_type": "code",
      "source": [
        "np.sqrt(1 / (eigenvalues / (x_alpha * q * S2)) )"
      ],
      "metadata": {
        "colab": {
          "base_uri": "https://localhost:8080/"
        },
        "outputId": "8ead693e-6499-4d10-b182-2c32c002c6d3",
        "id": "qC-k6FD09Ixx"
      },
      "execution_count": 148,
      "outputs": [
        {
          "output_type": "execute_result",
          "data": {
            "text/plain": [
              "array([ 0.06751378,  1.23527135, 10.29098591])"
            ]
          },
          "metadata": {},
          "execution_count": 148
        }
      ]
    },
    {
      "cell_type": "markdown",
      "source": [
        "Первая полуось $\\approx$ 0.07  \n",
        "Вторая полуось $\\approx$ 1.24  \n",
        "Третья полуось $\\approx$ 10.29"
      ],
      "metadata": {
        "id": "X17rVSd89Ixx"
      }
    },
    {
      "cell_type": "markdown",
      "source": [
        "### #8 Сформулировать гипотезу линейной регрессионной зависимости переменной $Y$ от переменной $X$ и проверить её значимость на уровне $\\alpha$."
      ],
      "metadata": {
        "id": "5uK0xzQ7P1l-"
      }
    },
    {
      "cell_type": "markdown",
      "source": [
        "Основная гипотеза: $H_0 : \\beta_2 = 0$"
      ],
      "metadata": {
        "id": "XKHBLIj5P0Mk"
      }
    },
    {
      "cell_type": "code",
      "source": [
        "# Занулим х**2\n",
        "x = x[:, 1:]"
      ],
      "metadata": {
        "id": "9UoQ0gwbrwi9"
      },
      "execution_count": 149,
      "outputs": []
    },
    {
      "cell_type": "code",
      "source": [
        "\n",
        "solve = np.linalg.inv(np.dot(x.T, x)) @ x.T @ y\n",
        "display(solve)\n",
        "SSH = np.sum((x @ solve - y) ** 2) - S2 * (x.shape[0] - np.linalg.matrix_rank(x))\n",
        "\n",
        "F_stat = (SSH / q) / (S2)\n",
        "print(f\"Статистика F = {F_stat}\")\n",
        "print(f\"x_alpha = {sst.f.ppf(1 - alph, dfn=q, dfd=n - r)}\")"
      ],
      "metadata": {
        "colab": {
          "base_uri": "https://localhost:8080/",
          "height": 86
        },
        "outputId": "d9bfafd8-bde4-4c99-cabd-3ab47ffacf1e",
        "id": "rvH2ZYwoP0Mk"
      },
      "execution_count": 150,
      "outputs": [
        {
          "output_type": "display_data",
          "data": {
            "text/plain": [
              "array([[0.86466298],\n",
              "       [5.74848177]])"
            ]
          },
          "metadata": {}
        },
        {
          "output_type": "stream",
          "name": "stdout",
          "text": [
            "Статистика F = 1.219671807769262\n",
            "x_alpha = 2.2041823911022664\n"
          ]
        }
      ]
    },
    {
      "cell_type": "markdown",
      "source": [
        "$\\mathbb{F} > x_{\\alpha} \\implies$  гипотеза о зависимости принимается"
      ],
      "metadata": {
        "id": "OtO0TUTTP0Ml"
      }
    },
    {
      "cell_type": "markdown",
      "metadata": {
        "id": "3JCX9a53S200"
      },
      "source": [
        "## Выводы\n",
        "\n",
        "Во время выполнения практической работы был изучен регрессионный анализ, который включал в себя построение модели, оценку параметров, исследование их значимости, проверку гипотезы о независимости и линейной регрессионной зависимости, оценку нормальности ошибок и построение доверительных интервалов, эллипсов и эллипсоидов. Была сформулирована гипотеза о независимости (и зависимости) переменной Y от переменной X."
      ]
    },
    {
      "cell_type": "code",
      "source": [],
      "metadata": {
        "id": "XIn8Ss6FXQHM"
      },
      "execution_count": 150,
      "outputs": []
    }
  ],
  "metadata": {
    "kernelspec": {
      "display_name": "Python 3",
      "name": "python3"
    },
    "language_info": {
      "name": "python"
    },
    "colab": {
      "provenance": []
    }
  },
  "nbformat": 4,
  "nbformat_minor": 0
}