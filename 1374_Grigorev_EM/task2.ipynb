{
  "cells": [
    {
      "cell_type": "markdown",
      "metadata": {
        "id": "nselNlrxS20p"
      },
      "source": [
        "# Практическая работа №2: Классические методы математической статистики\n",
        "Выполнил студент гр. 1374 Григорьев Евгений. Вариант №4"
      ]
    },
    {
      "cell_type": "markdown",
      "metadata": {
        "id": "q0u4nR1ES20v"
      },
      "source": [
        "## Цель работы\n",
        "Научиться применять методы математической статистики для решения задач статистического анализа; сформировать навыки реализации методов с помощью прикладных программных пакетов."
      ]
    },
    {
      "cell_type": "markdown",
      "metadata": {
        "id": "oEd2_iR_S20v"
      },
      "source": [
        "## Основные теоретические положения\n",
        "Эмпирическое распределение : $F_n(x) = \\frac{1}{n}\\sum_{i=1}^{n}\\mathbb{I}_{\\{x_i < x\\}}$\n",
        "\n",
        "\n",
        "Гистограмма - функция $H: K \\to \\mathbb{R}_+: H(x) = \\frac{n_i}{nh_i}$, где $n_i$ - число элементов выборки, попавших в i-й интервал, h - размер интервала\n",
        "\n",
        "Функция правдоподобия $L : \\mathfrak{X} \\times \\Theta \\to (0; +\\infty)$\n",
        "\n",
        "$L(x,\\theta)=p_{\\theta}(x), x \\in \\mathfrak{X}, \\theta \\in \\Theta$\n",
        "\n",
        "Оценка максимального правдоподобия (ОМП):\n",
        "\n",
        "Оценка $\\widehat{\\theta}(X)$, максимизирующая функцию правдоподобия $L(\\overrightarrow{X},\\theta)$ по $\\theta$ при любом фиксированном $X$\n",
        "\n",
        "$L(\\overrightarrow{X}, \\widehat{\\theta}(X)) \\ge L(\\overrightarrow{X}, \\tilde{\\theta}(X))$ для любых $X \\in \\mathfrak{X}, \\tilde{\\theta}(x)$\n",
        "\n",
        "называется оценкой максимального правдоподобия\n",
        "\n",
        "Функция правдоподобия распадается в произведения: $L(\\overrightarrow{X},\\theta)=\\prod_{i=1}^{n}p_{\\theta}(X_{i})$\n",
        "\n",
        "Логарифмическая функция правдоподобия: $LL(\\overrightarrow{X},\\theta)=\\ln L(\\overrightarrow{X},\\theta) = \\sum_{i=1}^{n}\\ln p_{\\theta}(X_{i})$\n",
        "\n",
        "Оценка по методу моментов\n",
        "\n",
        "Если существует единственное решение $\\tilde{\\theta}(X)$ системы уравнений $\\hat{\\mu_k}(\\tilde{\\theta}) = \\mu_k(\\tilde{\\theta})$ для $k = 1,\\dots,d$\n",
        "\n",
        "где $\\theta = (\\theta_1,\\dots,\\theta_d);\\ \\mu_k(\\theta) = \\mathbb{E}_{\\theta}X_1^k;\\  \\hat{\\mu_k}(\\theta) = \\frac{1}{n}\\sum_{i=1}^{n}X_1^k$ - выборочный момент k-ого порядка, то\n",
        "\n",
        "$\\tilde{\\theta}(X)$ - оценка по методу моментов\n",
        "\n",
        "Смещение оценки: $bias_{\\hat{\\theta}}(\\theta) = \\mathbb{E}\\hat{\\theta}(X) - \\theta$\n",
        "\n",
        "Асимптотический доверительный интервал\n",
        "\n",
        "Асимптотическая нормальность в терминах сходимости: $\\sqrt{n}\\left( \\widehat{\\theta}(\\overrightarrow{X})-\\theta)\\right)\\sim \\mathcal{N}\\left(0,\\sigma^{2}(\\theta)\\right)$\n",
        "\n",
        "Статистика $\\hat{\\Theta}_n = \\left[T_{1,n}(\\overrightarrow{X}), T_{2,n}(\\overrightarrow{X})\\right]$ определенная при любом $n \\in \\mathbb{N}$ такая, что $lim_{n \\to \\infty}P_{\\theta}\\left(\\left[T_{1,n}(\\overrightarrow{X}), T_{2,n}(\\overrightarrow{X})\\right] \\ni \\theta \\right) \\ge 1 - \\alpha$, где $\\alpha \\in (0,1)$ - уровень значимости\n",
        "\n",
        "Метод построения на базе ОМП\n",
        "\n",
        "При выполнении определенных условий регулярности\n",
        "\n",
        "$\\sqrt{n}\\left( \\hat{\\theta}(\\overrightarrow{X})-\\theta)\\right)\\sim \\mathcal{N}\\left(0,\\frac{1}{I(\\theta)}\\right)$, где $I(\\theta) = \\lim_{n \\to \\infty}I_n(\\theta)/n$ - информация Фишера, а $ I_n(\\theta) = -\\mathbb{E} \\frac{\\partial^{2} LL}{\\partial \\theta^{2}}$\n",
        "\n",
        "Тогда $\\sqrt{nI\\left(\\hat{\\theta}(\\overrightarrow{X}) \\right)}\\ \\left( \\hat{\\theta}(\\overrightarrow{X})-\\theta \\right)\\sim \\mathcal{N}(0,1)$\n",
        "\n",
        "Выберем $x_{\\alpha} : \\Phi(x_{\\alpha}) = 1 - x_{\\alpha}/2$\n",
        "\n",
        "и получим асимптотический доверительный интервал $\\left[ \\hat{\\theta}(\\overrightarrow{X})-\\frac{X_{\\alpha}}{\\sqrt{n I\\left( \\hat{\\theta}(\\overrightarrow{X}) \\right)}};\\ \\hat{\\theta}(\\overrightarrow{X})+\\frac{X_{\\alpha}}{\\sqrt{n I\\left( \\hat{\\theta}(\\overrightarrow{X}) \\right)}} \\right] \\ni \\theta$\n",
        "\n",
        "Проверка статистических гипотез\n",
        "\n",
        "Статистическая гипотеза - утверждение  о параметре вида $H: \\theta \\in \\Theta^* \\subseteq \\Theta$\n",
        "\n",
        "Если гипотеза вида $H: \\theta = \\theta^*$, то такая гипотеза называется простой, в ином случае она называется сложной\n",
        "\n",
        "Классическая постановка задачи\n",
        "- основная (нулевая) гипотеза: $H_0: \\theta \\in \\Theta_0$\n",
        "- альтернативная гипотеза: $H_A: \\theta \\in \\Theta_A$\n",
        "\n",
        "Статистический критрий (тест) - статистика $\\phi : \\mathfrak{X} \\to [0,1]$, которая определяет вероятность отвергнуть основную гипотезу\n",
        "\n",
        "Статистика отношения правдоподобия\n",
        "\n",
        "$H_0 : \\theta = \\theta_0;\\  H_A : \\theta = \\theta_1$\n",
        "\n",
        "$LR\\left(\\overrightarrow{X}, \\theta_1, \\theta_0\\right) = \\frac{L\\left(\\overrightarrow{X}, \\theta_1\\right)}{L\\left(\\overrightarrow{X}, \\theta_0\\right)}$\n",
        "\n",
        "\n",
        "Статистика Колмогорова\n",
        "\n",
        "$D_{n}(\\overrightarrow{X}) = \\overset{}{\\underset{X \\in \\mathbb R}{sup}} |F_{0}(X) - F_{n}(X)|$\n",
        "\n",
        "Теорема Колмогорова\n",
        "\n",
        "Если гипотеза $H_{0}$ верна, и $F_{0}(X)$ - непрерывная, для любого $t > 0$:\n",
        "\n",
        "$P(\\sqrt{n} D_{n}(\\overrightarrow{X}) \\le t) \\xrightarrow[n \\rightarrow \\infty]{} K(t)$, где\n",
        "\n",
        "$K(t) = функция распределения Колмогорова.\n",
        "\n",
        "Если $D_{n} \\lt t$, то гипотезу принимаем\n",
        "\n",
        "Если $D_{n} \\gt t$, то гипотезу отвергаем\n",
        "\n",
        "Критерий $\\chi^2$\n",
        "\n",
        "Cтатистика критерия $\\chi^2 = \\sum \\limits_{i=1}^{r} \\frac{(n_{i} - p_{i} n)^{2}}{n p_{i}}$, где $r$ - число интервалов, $p_i = F_0(I_i)$ - гипотетическая вероятность попадания в интервал, $n_{i}$ - экспериментальная частота попадания в интервал\n",
        "\n",
        "Если $x_\\alpha \\ge \\chi^2$, то гипотезу принимаем\n",
        "\n",
        "Если $x_\\alpha \\lt \\chi^2$, то гипотезу отвергаем\n",
        "\n",
        "$x_{\\alpha} : K_{r-1}(x_{\\alpha}) = 1 - \\alpha$, где $K_{r-1}$ - функция распределения $\\chi^2$\n",
        "\n",
        "\n",
        "\n",
        "Выборочные числовые характеристики:\n",
        "\n",
        "- Математическое ожидание $\\overline{X}=\\frac{1}{n}\\sum_{i=1}^{n}X_{i}$\n",
        "\n",
        "- Дисперсия $S^{2}=\\frac{1}{n}\\sum_{i=1}^{n}\\left( X_{i}-\\overline{X} \\right)^{2}=\\overline{X^{2}}-\\overline{X}^{2}$\n",
        "\n",
        "- p-квантиль $Z_{n,p} : X_{(\\left\\lfloor np\\right\\rfloor+1)}$ если $np \\notin \\mathbb{Z}$ и $\\left[X_{(np)},X_{(np+1)}\\right)$ иначе\n",
        "- коэффициент асимметрии (скошенности) $\\widehat{Skew_{F}}(X)=\\frac{\\frac{1}{n}\\sum_{i=1}^{n}\\left( X_{i}-\\overline{X} \\right)^{3}}{S^{3}}$\n",
        "\n",
        "- коэффициент эксцесса (островершинности) $\\widehat{Kurt_{F}}(X)=\\frac{\\frac{1}{n}\\sum_{i=1}^{n}\\left( X_{i}-\\overline{X}^{4} \\right)}{S^{4}}-3$"
      ]
    },
    {
      "cell_type": "markdown",
      "metadata": {
        "id": "LTZXbxvOS20w"
      },
      "source": [
        "## Постановка задачи\n",
        "Для полученных в результате эксперимента наборов данных выполнить статистическую обработку. Полученные результаты содержательно проинтерпретировать."
      ]
    },
    {
      "cell_type": "markdown",
      "metadata": {
        "id": "dAKrOWQiS20w"
      },
      "source": [
        "## Выполнение работы\n"
      ]
    },
    {
      "cell_type": "markdown",
      "source": [
        "### №1.a построить вариционный ряд, эмпирическую функцию распределения и гистограмму частот"
      ],
      "metadata": {
        "id": "9izp_COTXAZj"
      }
    },
    {
      "cell_type": "code",
      "execution_count": null,
      "metadata": {
        "id": "yveGa2FSS20x"
      },
      "outputs": [],
      "source": [
        "import matplotlib.pyplot as plt\n",
        "import numpy as np\n",
        "from scipy.stats import kurtosis, skew\n",
        "import pandas as pd"
      ]
    },
    {
      "cell_type": "code",
      "source": [
        "import scipy.stats as sst\n",
        "from scipy.stats import expon, kstwobign"
      ],
      "metadata": {
        "id": "7jT54qOLqeuL"
      },
      "execution_count": null,
      "outputs": []
    },
    {
      "cell_type": "code",
      "source": [
        "first_table = '''3 3 4 5 3 7 4 4 5 7 5 3 8 6 4 5 1 1 6 7 5 2 5 8 6 6 3 2 2 4 6 3 7 7 2 3 2 3 7 7 2 2 1 2 1 1 2\n",
        "5 4 1'''\n"
      ],
      "metadata": {
        "id": "FYWYX_PqS33o"
      },
      "execution_count": null,
      "outputs": []
    },
    {
      "cell_type": "code",
      "source": [
        "first_table = np.array(first_table.split(), dtype='float64')"
      ],
      "metadata": {
        "id": "NFV93tpbZMNY"
      },
      "execution_count": null,
      "outputs": []
    },
    {
      "cell_type": "code",
      "source": [
        "def task_a(table, h=1):\n",
        "  print(f'''\n",
        "  variation series: {sorted(table)}\n",
        "  ''')\n",
        "  emp_func = pd.Series(table).apply(lambda x: sum(table < x)) / table.shape[0]\n",
        "  table_set = sorted(set(table))\n",
        "  emp_set = sorted(set(emp_func))\n",
        "  print(table_set, emp_set)\n",
        "  for i in range(len(table_set) - 1):\n",
        "    plt.plot([table_set[i], table_set[i + 1]], [emp_set[i], emp_set[i]])\n",
        "    plt.plot([table_set[i+1], table_set[i + 1]], [emp_set[i], emp_set[i + 1]], 'b--')\n",
        "  plt.plot([table_set[i + 1], table_set[i + 1]+1], [emp_set[i+1], emp_set[i+1]])\n",
        "  plt.title('emp_funct')\n",
        "  plt.show()\n",
        "\n",
        "  plt.bar(table_set, pd.Series(table).value_counts(normalize=True), width=h, align='edge')\n",
        "  # plt.hist(table, bins=table.shape[0])\n",
        "  print()"
      ],
      "metadata": {
        "id": "MZqJO0AgGM5u"
      },
      "execution_count": 206,
      "outputs": []
    },
    {
      "cell_type": "code",
      "source": [
        "task_a(first_table)"
      ],
      "metadata": {
        "id": "JPaoODmSHTDU",
        "colab": {
          "base_uri": "https://localhost:8080/",
          "height": 972
        },
        "outputId": "3c4cdba0-d82d-487b-bfc1-d0ff24fc9342"
      },
      "execution_count": 207,
      "outputs": [
        {
          "output_type": "stream",
          "name": "stdout",
          "text": [
            "\n",
            "  variation series: [1.0, 1.0, 1.0, 1.0, 1.0, 1.0, 2.0, 2.0, 2.0, 2.0, 2.0, 2.0, 2.0, 2.0, 2.0, 3.0, 3.0, 3.0, 3.0, 3.0, 3.0, 3.0, 3.0, 4.0, 4.0, 4.0, 4.0, 4.0, 4.0, 5.0, 5.0, 5.0, 5.0, 5.0, 5.0, 5.0, 6.0, 6.0, 6.0, 6.0, 6.0, 7.0, 7.0, 7.0, 7.0, 7.0, 7.0, 7.0, 8.0, 8.0]\n",
            "  \n",
            "[1.0, 2.0, 3.0, 4.0, 5.0, 6.0, 7.0, 8.0] [0.0, 0.12, 0.3, 0.46, 0.58, 0.72, 0.82, 0.96]\n"
          ]
        },
        {
          "output_type": "display_data",
          "data": {
            "text/plain": [
              "<Figure size 640x480 with 1 Axes>"
            ],
            "image/png": "[encoded data removed]"
          },
          "metadata": {}
        },
        {
          "output_type": "stream",
          "name": "stdout",
          "text": [
            "\n"
          ]
        },
        {
          "output_type": "display_data",
          "data": {
            "text/plain": [
              "<Figure size 640x480 with 1 Axes>"
            ],
            "image/png": "[encoded data removed]"
          },
          "metadata": {}
        }
      ]
    },
    {
      "cell_type": "markdown",
      "source": [
        "### №1.b вычислить выборочные аналоги следующих числовых характеристик: (i)математического ожидания, (ii)дисперсии, (iii)медианы, (iv)асимметрии, (v)эксцесса, (vi) вероятности $\\mathbb{P}\\left(X\\in\\left[a,b\\right]\\right)$"
      ],
      "metadata": {
        "id": "zI4tt9RmW7S1"
      }
    },
    {
      "cell_type": "code",
      "source": [
        "def task_b(table, a, b):\n",
        "  return f'''\n",
        "  E:  {table.mean()}\n",
        "  SD:  {table.std()}\n",
        "  D: {table.std() ** 2}\n",
        "  Median: {np.median(table)}\n",
        "  Skew: {skew(table)}\n",
        "  Kurt: {kurtosis(table)}\n",
        "  P(a, b): {(table[(table >= a) & (table <= b)]).shape[0] / table.shape[0]}\n",
        "  '''\n"
      ],
      "metadata": {
        "id": "6526IKh_ZTBP"
      },
      "execution_count": null,
      "outputs": []
    },
    {
      "cell_type": "code",
      "source": [
        "print(task_b(first_table, 2, 5.6))"
      ],
      "metadata": {
        "colab": {
          "base_uri": "https://localhost:8080/"
        },
        "id": "OLKibqHQazJm",
        "outputId": "9d6a3c3d-7f8e-4df6-d96e-ce741a9539d6"
      },
      "execution_count": null,
      "outputs": [
        {
          "output_type": "stream",
          "name": "stdout",
          "text": [
            "\n",
            "  E:  4.04\n",
            "  D:  2.0972362766269326\n",
            "  SD: 1.4481837855144397\n",
            "  Median: 4.0\n",
            "  Skew: 0.20728834175350397\n",
            "  Kurt: -1.153004478893149\n",
            "  P(a, b): 0.6\n",
            "  \n"
          ]
        }
      ]
    },
    {
      "cell_type": "markdown",
      "source": [
        "### №1.с в предположении, что исходные наблюдения являются выборкой из распределения Пуассона, построить оценку максимального правдоподобия параметра\n",
        "ОМП  \n",
        "$ p_{\\theta} = \\frac{\\lambda^{x}}{x!} \\exp{(-\\lambda)}\\\\\n",
        "L(\\vec{X}, \\theta) = \\prod_{i=1}^{n}(\\frac{\\lambda^{x_i}}{x_i!} \\exp{(-\\lambda)}) = \\frac{\\lambda^{\\sum_{i=1}^{n}{x_i}}}{\\prod_{i=1}^{n}x_i!}\\\\\n",
        "T = (\\sum_{i=1}^{n}x_i) - {ПДС, т.к. семейство~распределений - экспоненциальное} \\\\\n",
        "\\frac{\\partial LL(\\vec{X}, \\theta)}{\\partial{\\theta}} = \\frac{\\sum_{i=1}^{n}{x_i}}{\\lambda} - n = 0 => \\hat{\\lambda} = \\bar{X};\\\\\n",
        "\\mathbb{E}_\\theta{\\hat{\\lambda}} = \\lambda - НРМД\n",
        "$\n",
        "\n",
        "ОММ  \n",
        "Система\n",
        "\n",
        "$ \\mathbb{E}_\\theta{X_1} = \\lambda; M_1 = \\frac{\\sum_{i=1}^{n}{x_i}}{n} =>\n",
        "\\hat\\lambda = \\frac{\\sum_{i=1}^{n}{x_i}}{n} = \\bar{X} $"
      ],
      "metadata": {
        "id": "1GeSLYPNtCrg"
      }
    },
    {
      "cell_type": "markdown",
      "source": [
        "$ \\hat\\lambda = 4.04$"
      ],
      "metadata": {
        "id": "c0N1M6_VajzJ"
      }
    },
    {
      "cell_type": "markdown",
      "source": [
        "### №1.d построить асимптотический доверительный интервал уровня"
      ],
      "metadata": {
        "id": "87aR-z3qd5bf"
      }
    },
    {
      "cell_type": "markdown",
      "source": [
        "$\n",
        "\\alpha = 0.1\\\\\n",
        "\\hat{\\theta} = \\hat{\\lambda} = \\bar{X};\n",
        "\\sqrt{n}\\left(\\hat{\\lambda} - \\lambda\\right) \\sim \\mathcal{N}(0, \\frac{1}{I(\\theta)}) \\\\\n",
        "I_n(\\theta) = -\\mathbb{E}_\\theta\\frac{\\partial {LL}^2(\\vec{X}, \\theta)}{\\partial{\\theta}^2} = -\\mathbb{E}_\\theta\\frac{\\sum{x_i}}{\\lambda^2} = \\frac{n\\lambda}{\\lambda^2} = \\frac{n}{\\lambda}\\\\\n",
        "I(\\theta) = \\lim_{n \\to \\infty}\\frac{\\frac{n}{\\lambda}}{n} = \\frac{1}{\\lambda} \\\\\n",
        "\\sqrt{nI(\\theta)}(\\hat\\lambda - \\lambda) \\sim \\mathcal{N} \\left(0, 1\\right); x_\\alpha: \\Phi(x_\\alpha) = 1 - \\frac{\\alpha}{2};\\\\\n",
        "\\left[\\bar{X} - \\frac{x_\\alpha}{\\sqrt{n\\bar{X}^{-1}}}, \\bar{X} + \\frac{x_\\alpha}{\\sqrt{n\\bar{X}^{-1}}}\\right] \\ni \\lambda\n",
        "$"
      ],
      "metadata": {
        "id": "QrIbLXrYd5el"
      }
    },
    {
      "cell_type": "code",
      "source": [
        "alph = 0.1\n",
        "x_alpha = sst.norm.ppf(1 - alph / 2)\n",
        "mean = first_table.mean()\n",
        "print(\"x_alpha: \",x_alpha)\n",
        "print(f\"left:  {mean - x_alpha / np.sqrt(len(first_table) * mean ** -1)}\")\n",
        "print(f\"right: {mean + x_alpha / np.sqrt(len(first_table) * mean ** -1)}\")"
      ],
      "metadata": {
        "id": "YfoxhS8FtCDz",
        "colab": {
          "base_uri": "https://localhost:8080/"
        },
        "outputId": "a9ba0cba-8639-4949-eb3b-92ffdd8dc42c"
      },
      "execution_count": null,
      "outputs": [
        {
          "output_type": "stream",
          "name": "stdout",
          "text": [
            "x_alpha:  1.6448536269514722\n",
            "left:  3.5724447507610364\n",
            "right: 4.507555249238964\n"
          ]
        }
      ]
    },
    {
      "cell_type": "markdown",
      "source": [
        "$\\left[3.572, 4.507\\right] \\ni \\lambda$"
      ],
      "metadata": {
        "id": "MP6XY300vNuq"
      }
    },
    {
      "cell_type": "markdown",
      "source": [
        "### №1.e используя гистограмму частот, построить критерий значимости $\\chi^2$ проверки простой гипотезы согласия с распределением Пуассона с параметром $\\lambda_0$. Проверить гипотезу на уровне значимости $\\alpha_1$. Вычислить наибольшее значение уровня значимости, на котором ещё нет оснований отвергнуть данную гипотезу\n"
      ],
      "metadata": {
        "id": "61OsJ3JRwrID"
      }
    },
    {
      "cell_type": "code",
      "source": [
        "lambd = 5\n",
        "intervals = [[1, 2], [3, 4], [5, 6], [7, 8]]"
      ],
      "metadata": {
        "id": "PhfW5wvywuGp"
      },
      "execution_count": null,
      "outputs": []
    },
    {
      "cell_type": "code",
      "source": [
        "g = lambda x: np.sum(np.isin(first_table, x))"
      ],
      "metadata": {
        "id": "4wUg1Jav1Ack"
      },
      "execution_count": null,
      "outputs": []
    },
    {
      "cell_type": "code",
      "source": [
        "frq_exp = np.array([g(i) for i in intervals])\n",
        "frq_puas = np.array([(sst.poisson.cdf(i[1], lambd) - sst.poisson.cdf(i[0], lambd)) * len(first_table) for i in intervals])"
      ],
      "metadata": {
        "id": "IPyW_Z1Axqe1"
      },
      "execution_count": null,
      "outputs": []
    },
    {
      "cell_type": "code",
      "source": [
        "chi_square = np.sum((frq_exp - frq_puas) ** 2 / frq_puas)\n",
        "f\"chi^2: {chi_square}\""
      ],
      "metadata": {
        "colab": {
          "base_uri": "https://localhost:8080/",
          "height": 36
        },
        "id": "fn8itwf0x1dG",
        "outputId": "7274a14d-8e00-4520-9ba5-da9ddc36171e"
      },
      "execution_count": null,
      "outputs": [
        {
          "output_type": "execute_result",
          "data": {
            "text/plain": [
              "'chi^2: 43.84159257161524'"
            ],
            "application/vnd.google.colaboratory.intrinsic+json": {
              "type": "string"
            }
          },
          "metadata": {},
          "execution_count": 13
        }
      ]
    },
    {
      "cell_type": "code",
      "source": [
        "f'x_alph: {sst.chi2.ppf(1 - alph, df=len(frq_puas) - 1)}'"
      ],
      "metadata": {
        "colab": {
          "base_uri": "https://localhost:8080/",
          "height": 36
        },
        "id": "7auSyrz0yGw8",
        "outputId": "78ee2308-e63b-481f-a344-4eb4fe6c5f44"
      },
      "execution_count": null,
      "outputs": [
        {
          "output_type": "execute_result",
          "data": {
            "text/plain": [
              "'x_alph: 6.251388631170325'"
            ],
            "application/vnd.google.colaboratory.intrinsic+json": {
              "type": "string"
            }
          },
          "metadata": {},
          "execution_count": 14
        }
      ]
    },
    {
      "cell_type": "markdown",
      "source": [
        "$\\chi^2 > x_{\\alpha}$ следовательно гипотеза $H_0$ отвергается"
      ],
      "metadata": {
        "id": "jgxrqZGf4Hng"
      }
    },
    {
      "cell_type": "code",
      "source": [
        "for power in range(1, 20):\n",
        "  cur_x = sst.chi2.ppf(1 - 10 ** (-power), df=len(frq_puas) - 1)\n",
        "  if cur_x > chi_square:\n",
        "    print(f'max alph ~ {10 ** (-power)}, x_alph: {cur_x}')\n",
        "    break"
      ],
      "metadata": {
        "colab": {
          "base_uri": "https://localhost:8080/"
        },
        "id": "TqnthlYA4SSj",
        "outputId": "5430e6e4-b3d4-467e-9925-ac5d09763267"
      },
      "execution_count": null,
      "outputs": [
        {
          "output_type": "stream",
          "name": "stdout",
          "text": [
            "max alph ~ 1e-09, x_alph: 44.841275388361254\n"
          ]
        }
      ]
    },
    {
      "cell_type": "markdown",
      "source": [
        "### №1.f построить критерий значимости $\\chi^2$ проверки сложной гипотезы согласия с распределением Пуассона. Проверить гипотезу по уровню значимости $\\alpha_1$. Вычислить наибольшее значение уровня значимости, на котором ещё нет оснований отвергнуть данную гипотезу\n"
      ],
      "metadata": {
        "id": "uCEHRePX5a5Z"
      }
    },
    {
      "cell_type": "code",
      "source": [
        "lambd = first_table.mean()"
      ],
      "metadata": {
        "id": "699ZBTOQnz--"
      },
      "execution_count": null,
      "outputs": []
    },
    {
      "cell_type": "code",
      "source": [
        "frq_exp = np.array([g(i) for i in intervals])\n",
        "frq_puas = np.array([(sst.poisson.cdf(i[1], lambd) - sst.poisson.cdf(i[0], lambd)) * len(first_table) for i in intervals])"
      ],
      "metadata": {
        "id": "l5IyYiff8TkC"
      },
      "execution_count": null,
      "outputs": []
    },
    {
      "cell_type": "code",
      "source": [
        "chi_square = np.sum((frq_exp - frq_puas) ** 2 / frq_puas)\n",
        "f\"chi^2: {chi_square}\""
      ],
      "metadata": {
        "colab": {
          "base_uri": "https://localhost:8080/",
          "height": 36
        },
        "id": "S0TyBoq98V57",
        "outputId": "bf9890bd-aa2a-4c85-fd9d-5324d5497c9f"
      },
      "execution_count": null,
      "outputs": [
        {
          "output_type": "execute_result",
          "data": {
            "text/plain": [
              "'chi^2: 54.61775192575976'"
            ],
            "application/vnd.google.colaboratory.intrinsic+json": {
              "type": "string"
            }
          },
          "metadata": {},
          "execution_count": 18
        }
      ]
    },
    {
      "cell_type": "code",
      "source": [
        "f'x_alph: {sst.chi2.ppf(1 - alph, df=len(frq_puas) - 2)}'"
      ],
      "metadata": {
        "colab": {
          "base_uri": "https://localhost:8080/",
          "height": 36
        },
        "id": "BD-QbhEG8g6h",
        "outputId": "f4330a40-caab-4826-bc67-8900dc266b23"
      },
      "execution_count": null,
      "outputs": [
        {
          "output_type": "execute_result",
          "data": {
            "text/plain": [
              "'x_alph: 4.605170185988092'"
            ],
            "application/vnd.google.colaboratory.intrinsic+json": {
              "type": "string"
            }
          },
          "metadata": {},
          "execution_count": 19
        }
      ]
    },
    {
      "cell_type": "markdown",
      "source": [
        "$\\chi^2 > x_{\\alpha}$ следовательно гипотеза $H_0$ отвергается"
      ],
      "metadata": {
        "id": "8jOIk6-tM-0b"
      }
    },
    {
      "cell_type": "code",
      "source": [
        "for power in range(1, 20):\n",
        "  cur_x = sst.chi2.ppf(1 - 10 ** (-power), df=len(frq_puas) - 1)\n",
        "  if cur_x > chi_square:\n",
        "    print(f'max alph ~ {10 ** (-power)}, x_alph: {cur_x}')\n",
        "    break"
      ],
      "metadata": {
        "colab": {
          "base_uri": "https://localhost:8080/"
        },
        "id": "acXZtI-SNCjT",
        "outputId": "8aa7fcfe-ebb5-45b0-9aaa-b185f81843bc"
      },
      "execution_count": null,
      "outputs": [
        {
          "output_type": "stream",
          "name": "stdout",
          "text": [
            "max alph ~ 1e-12, x_alph: 58.9198006659047\n"
          ]
        }
      ]
    },
    {
      "cell_type": "markdown",
      "source": [
        "### №1.g остроить наиболее мощный критерий проверки простой гипотезы пуассоновости с параметром $\\lambda = \\lambda_0$ при альтернативе пуассоновости с параметром $\\lambda = \\lambda_1$. Проверить гипотезу на уровне значимости $\\alpha_1$. Что получится, если поменять местами основную и альтернативную гипотезы"
      ],
      "metadata": {
        "id": "GyohE-yeUwt_"
      }
    },
    {
      "cell_type": "markdown",
      "source": [
        "$LR\\left(\\vec{X}, \\lambda_0, \\lambda_1\\right) = \\frac{L\\left(\\vec{X}, \\lambda_1\\right)}{L\\left(\\vec{X}, \\lambda_0\\right)} = \\exp(-n(\\lambda_1 - \\lambda_0))\\left(\\frac{\\lambda_1}{\\lambda_0}\\right)^{\\sum_{i=1}^{n}{x_i}}$\n",
        "\n",
        "$LR\\left(\\vec{X}\\right) > c \\iff -n(\\lambda_1 - \\lambda_0) + \\sum_{i=1}^{n}{x_i} \\ln\\frac{\\lambda_1}{\\lambda_0} > \\ln c \\iff \\bar{X} > \\frac{\\ln c + n(\\lambda_1 - \\lambda_0)}{n\\ln\\frac{\\lambda_1}{\\lambda_0}} = c^*$\n",
        "\n",
        "$LR\\left(\\vec{X}\\right) < c \\iff \\bar{X} < c^*$\n",
        "\n",
        "Решим уравнение: $P_{\\lambda_0}\\left(LR(\\vec{X}) > c\\right) + pP_{\\lambda_0}\\left(LR(\\vec{X}) = c\\right) = \\alpha_1$\n",
        "\n",
        "$P_{\\lambda_0}\\left(n\\bar{X} > nc^*\\right) + pP_{\\lambda_0}\\left(n\\bar{X} = nc^*\\right) = \\alpha_1$\n",
        "\n",
        "Критерий не определен однозначно при $LR(\\overrightarrow{X}) = c$\n",
        "\n",
        "Пусть $LR(\\overrightarrow{X}) \\neq c$\n",
        "\n",
        "Тогда $P_{\\lambda_0}\\left(n\\bar{X} > nc^*\\right) = 1 - F_{Pois(n\\lambda_0)}\\left(nc^*\\right) = \\alpha_1$\n",
        "\n",
        "$F_{Pois(n\\lambda_0)}\\left(nc^*\\right) = 1 - \\alpha_1 = 0.9$"
      ],
      "metadata": {
        "id": "kNWTigGvU8go"
      }
    },
    {
      "cell_type": "code",
      "source": [
        "f\"c* =  {sst.poisson.ppf(0.9, len(first_table)*lambd) / len(first_table)}, X_mean = {first_table.mean()}\""
      ],
      "metadata": {
        "colab": {
          "base_uri": "https://localhost:8080/",
          "height": 36
        },
        "id": "yIkJYggPv61c",
        "outputId": "80903028-e771-473e-e1a6-5cda0be3345d"
      },
      "execution_count": null,
      "outputs": [
        {
          "output_type": "execute_result",
          "data": {
            "text/plain": [
              "'c* =  4.4, X_mean = 4.04'"
            ],
            "application/vnd.google.colaboratory.intrinsic+json": {
              "type": "string"
            }
          },
          "metadata": {},
          "execution_count": 23
        }
      ]
    },
    {
      "cell_type": "markdown",
      "source": [
        "Поменяем гипотезы местами\n",
        "\n",
        "Основная гипотеза: $H_0 : \\lambda = \\lambda_1$\n",
        "\n",
        "Альтернативная гипотеза: $H_A : \\lambda = \\lambda_0$\n",
        "\n",
        "Тогда статистика отношения правдоподобия имеет вид:\n",
        "\n",
        "$LR\\left(\\overrightarrow{X}, \\lambda_1, \\lambda_0\\right) = \\frac{L\\left(\\overrightarrow{X}, \\lambda_0\\right)}{L\\left(\\overrightarrow{X}, \\lambda_1\\right)} = \\exp(-n(\\lambda_0 - \\lambda_1))\\left(\\frac{\\lambda_0}{\\lambda_1}\\right)^{\\sum_{i=1}^{n}{x_i}}$\n",
        "\n",
        "Так как $LR\\left(\\overrightarrow{X}, \\lambda_1, \\lambda_0\\right)$ монотонна относительно МДС $\\bar{X}$\n",
        "\n",
        "$LR\\left(\\overrightarrow{X}\\right) > c \\iff \\bar{X} > c^*$\n",
        "\n",
        "Решим уравнение: $P_{\\lambda_1}\\left(LR(\\overrightarrow{X}) > c\\right) + pP_{\\lambda_1}\\left(LR(\\overrightarrow{X}) = c\\right) = \\alpha_1$\n",
        "\n",
        "$P_{\\lambda_1}\\left(n\\bar{X} > nc^*\\right) + pP_{\\lambda_1}\\left(n\\bar{X} = nc^*\\right) = \\alpha_1$\n",
        "\n",
        "Критерий не определен однозначно при $LR(\\overrightarrow{X}) = c$\n",
        "\n",
        "Пусть $LR(\\overrightarrow{X}) \\neq c$\n",
        "\n",
        "Тогда $P_{\\lambda_1}\\left(n\\bar{X} > nc^*\\right) = 1 - F_{Pois(n\\lambda_1)}\\left(nc^*\\right) = \\alpha_1$"
      ],
      "metadata": {
        "id": "wrBzSaF6wuyN"
      }
    },
    {
      "cell_type": "code",
      "source": [
        "lambd_2 = 5\n",
        "f\"c* =  {sst.poisson.ppf(0.9, len(first_table)*lambd_2) / len(first_table)}, X_mean = {first_table.mean()}\""
      ],
      "metadata": {
        "colab": {
          "base_uri": "https://localhost:8080/",
          "height": 36
        },
        "id": "0SyfqunGw5r0",
        "outputId": "7083641c-e1dd-46a5-bc9f-97df1c41cf32"
      },
      "execution_count": null,
      "outputs": [
        {
          "output_type": "execute_result",
          "data": {
            "text/plain": [
              "'c* =  5.4, X_mean = 4.04'"
            ],
            "application/vnd.google.colaboratory.intrinsic+json": {
              "type": "string"
            }
          },
          "metadata": {},
          "execution_count": 24
        }
      ]
    },
    {
      "cell_type": "markdown",
      "source": [
        "$c^* > \\bar{X}$ следовательно принимаем гипотезу $H_0$"
      ],
      "metadata": {
        "id": "Hvomr7AQxEZk"
      }
    },
    {
      "cell_type": "markdown",
      "source": [
        "### №1.h.c\n",
        "ОМП\n",
        "\n",
        "$L(\\vec{X}, \\theta) = \\prod_{i=1}^{n}\\frac{\\lambda^{x_i}}{(\\lambda + 1)^{x_i+1}} = \\frac{\\lambda^{\\sum_{i=1}^{n}x_i}}{(\\lambda + 1)^{n + \\sum_{i=1}^{n}x_i}}\\\\\n",
        "LL(\\vec{X}, \\theta) = \\sum_{i=1}^{n}x_i\\ \\ln\\lambda - \\left(n + \\sum_{i=1}^{n}x_i\\right)\\ln(\\lambda+1)\\\\\n",
        "\\frac{\\partial LL(\\vec{X}, \\theta)}{\\partial{\\theta}} = \\frac{\\sum_{i=1}^{n}x_i}{\\lambda} - \\frac{n + \\sum_{i=1}^{n}x_i}{\\lambda + 1} = 0;\\hat{\\lambda} = \\bar{X}$\n",
        "\n",
        "ОММ\n",
        "\n",
        "$\n",
        "\\mathbb{E}_\\theta X_1 = \\lambda; M_1 = \\bar{X};\\\\\n",
        "\\hat{\\lambda} = \\bar{X}\n",
        "$\n",
        "\n",
        "$ \\hat\\lambda = 4.04$"
      ],
      "metadata": {
        "id": "cKYjxQCaXJV9"
      }
    },
    {
      "cell_type": "markdown",
      "source": [
        "### №1.h.d\n",
        "$\n",
        "\\sqrt{n}\\left(\\hat{\\lambda} - \\lambda\\right) \\sim \\mathcal{N}(0, \\frac{1}{I(\\theta)}) \\\\\n",
        "I_n(\\theta) = -\\mathbb{E}_\\theta\\frac{\\partial {LL}^2(\\vec{X}, \\theta)}{\\partial{\\theta}^2} = -\\mathbb{E}_\\theta(\\frac{\\sum^n_{i=1}x_i}{\\lambda(\\lambda+1)}-\\frac{n}{\\lambda+1})' = \\frac{n}{(\\lambda + 1)\\lambda}\\\\\n",
        "I(\\theta) = \\lim_{n \\to \\infty}\\frac{\\frac{n}{(\\lambda + 1)\\lambda}}{n} = \\frac{1}{(\\lambda + 1)\\lambda};\\\\x_\\alpha: \\Phi(x_\\alpha) = 1 - \\frac{\\alpha}{2};\n",
        "\\left[\\bar{X} - \\frac{x_\\alpha}{\\sqrt{n\\frac{1}{(\\bar{X} + 1)\\bar{X}}}}, \\bar{X} + \\frac{x_\\alpha}{\\sqrt{n\\frac{1}{(\\bar{X} + 1)\\bar{X}}}}\\right] \\ni \\lambda\n",
        "$"
      ],
      "metadata": {
        "id": "7EeRZgKCdCOn"
      }
    },
    {
      "cell_type": "code",
      "source": [
        "alph = 0.1\n",
        "x_alpha = sst.norm.ppf(1 - alph / 2)\n",
        "mean = first_table.mean()\n",
        "print(\"x_alpha: \",x_alpha)\n",
        "print(f\"left:  {mean - x_alpha / np.sqrt(len(first_table) * 1/((mean + 1) * mean))}\")\n",
        "print(f\"right: {mean + x_alpha / np.sqrt(len(first_table) * 1/((mean + 1) * mean))}\")"
      ],
      "metadata": {
        "colab": {
          "base_uri": "https://localhost:8080/"
        },
        "id": "zvK-GPp4fsh7",
        "outputId": "a9d82254-3d17-47dd-978b-da923874a84a"
      },
      "execution_count": null,
      "outputs": [
        {
          "output_type": "stream",
          "name": "stdout",
          "text": [
            "x_alpha:  1.6448536269514722\n",
            "left:  2.9903410687760603\n",
            "right: 5.08965893122394\n"
          ]
        }
      ]
    },
    {
      "cell_type": "markdown",
      "source": [
        "$\\left[2.990, 5.089\\right] \\ni \\lambda$"
      ],
      "metadata": {
        "id": "QejfksIHgDUZ"
      }
    },
    {
      "cell_type": "markdown",
      "source": [
        "### №1.h.e"
      ],
      "metadata": {
        "id": "-DyBFHvUhE8K"
      }
    },
    {
      "cell_type": "code",
      "source": [
        "lambd = 5\n",
        "intervals = [[1, 2], [3, 4], [5, 6], [7, 8]]"
      ],
      "metadata": {
        "id": "WUVZgPVLhOq6"
      },
      "execution_count": null,
      "outputs": []
    },
    {
      "cell_type": "code",
      "source": [
        "g = lambda x: np.sum(np.isin(first_table, x))"
      ],
      "metadata": {
        "id": "rxEmwxhNhOq6"
      },
      "execution_count": null,
      "outputs": []
    },
    {
      "cell_type": "code",
      "source": [
        "frq_exp = np.array([g(i) for i in intervals])\n",
        "frq_puas = np.array([sum([lambd ** x / (lambd + 1) ** (x + 1) for x in i]) * len(first_table) for i in intervals])"
      ],
      "metadata": {
        "id": "YBn6szDKhOq6"
      },
      "execution_count": null,
      "outputs": []
    },
    {
      "cell_type": "code",
      "source": [
        "chi_square = np.sum((frq_exp - frq_puas) ** 2 / frq_puas)\n",
        "f\"chi^2: {chi_square}\""
      ],
      "metadata": {
        "colab": {
          "base_uri": "https://localhost:8080/",
          "height": 36
        },
        "outputId": "a47c3b54-a231-40c1-e135-e72faf7d2df8",
        "id": "hGFLL09thOq7"
      },
      "execution_count": null,
      "outputs": [
        {
          "output_type": "execute_result",
          "data": {
            "text/plain": [
              "'chi^2: 14.26864822563956'"
            ],
            "application/vnd.google.colaboratory.intrinsic+json": {
              "type": "string"
            }
          },
          "metadata": {},
          "execution_count": 36
        }
      ]
    },
    {
      "cell_type": "code",
      "source": [
        "f'x_alph: {sst.chi2.ppf(1 - alph, df=len(frq_puas) - 1)}'"
      ],
      "metadata": {
        "colab": {
          "base_uri": "https://localhost:8080/",
          "height": 36
        },
        "outputId": "49d7a292-531e-4d6e-f429-1895ba673608",
        "id": "OPmwKkA0hOq7"
      },
      "execution_count": null,
      "outputs": [
        {
          "output_type": "execute_result",
          "data": {
            "text/plain": [
              "'x_alph: 6.251388631170325'"
            ],
            "application/vnd.google.colaboratory.intrinsic+json": {
              "type": "string"
            }
          },
          "metadata": {},
          "execution_count": 37
        }
      ]
    },
    {
      "cell_type": "markdown",
      "source": [
        "$\\chi^2 > x_{\\alpha}$ следовательно гипотеза $H_0$ отвергается"
      ],
      "metadata": {
        "id": "cPB7tDvhhOq7"
      }
    },
    {
      "cell_type": "code",
      "source": [
        "for power in range(1, 20):\n",
        "  cur_x = sst.chi2.ppf(1 - 10 ** (-power), df=len(frq_puas) - 1)\n",
        "  if cur_x > chi_square:\n",
        "    print(f'max alph ~ {10 ** (-power)}, x_alph: {cur_x}')\n",
        "    break"
      ],
      "metadata": {
        "colab": {
          "base_uri": "https://localhost:8080/"
        },
        "outputId": "6846d0b2-c762-4c35-e46e-788db32e2e77",
        "id": "Tkfd0MaMhOq7"
      },
      "execution_count": null,
      "outputs": [
        {
          "output_type": "stream",
          "name": "stdout",
          "text": [
            "max alph ~ 0.001, x_alph: 16.26623619623813\n"
          ]
        }
      ]
    },
    {
      "cell_type": "markdown",
      "source": [
        "### №1.h.f"
      ],
      "metadata": {
        "id": "AhYTHZlemy5B"
      }
    },
    {
      "cell_type": "code",
      "source": [
        "lambd = first_table.mean()\n",
        "intervals = [[1, 2], [3, 4], [5, 6], [7, 8]]"
      ],
      "metadata": {
        "id": "En97L8ztmzyN"
      },
      "execution_count": null,
      "outputs": []
    },
    {
      "cell_type": "code",
      "source": [
        "g = lambda x: np.sum(np.isin(first_table, x))"
      ],
      "metadata": {
        "id": "wl2hvVyymzyN"
      },
      "execution_count": null,
      "outputs": []
    },
    {
      "cell_type": "code",
      "source": [
        "frq_exp = np.array([g(i) for i in intervals])\n",
        "frq_puas = np.array([sum([lambd ** x / (lambd + 1) ** (x + 1) for x in i]) * len(first_table) for i in intervals])"
      ],
      "metadata": {
        "id": "4vOjVL45mzyN"
      },
      "execution_count": null,
      "outputs": []
    },
    {
      "cell_type": "code",
      "source": [
        "chi_square = np.sum((frq_exp - frq_puas) ** 2 / frq_puas)\n",
        "f\"chi^2: {chi_square}\""
      ],
      "metadata": {
        "colab": {
          "base_uri": "https://localhost:8080/",
          "height": 36
        },
        "outputId": "5492c5fb-07eb-4f39-f2fe-f1ec268e6964",
        "id": "vcuYfLqemzyO"
      },
      "execution_count": null,
      "outputs": [
        {
          "output_type": "execute_result",
          "data": {
            "text/plain": [
              "'chi^2: 15.901987978182055'"
            ],
            "application/vnd.google.colaboratory.intrinsic+json": {
              "type": "string"
            }
          },
          "metadata": {},
          "execution_count": 50
        }
      ]
    },
    {
      "cell_type": "code",
      "source": [
        "f'x_alph: {sst.chi2.ppf(1 - alph, df=len(frq_puas) - 2)}'"
      ],
      "metadata": {
        "colab": {
          "base_uri": "https://localhost:8080/",
          "height": 36
        },
        "outputId": "4f1aaf33-d531-4467-df28-c51858d5d8e0",
        "id": "3La83jbPmzyO"
      },
      "execution_count": null,
      "outputs": [
        {
          "output_type": "execute_result",
          "data": {
            "text/plain": [
              "'x_alph: 4.605170185988092'"
            ],
            "application/vnd.google.colaboratory.intrinsic+json": {
              "type": "string"
            }
          },
          "metadata": {},
          "execution_count": 51
        }
      ]
    },
    {
      "cell_type": "markdown",
      "source": [
        "$\\chi^2 > x_{\\alpha}$ следовательно гипотеза $H_0$ отвергается"
      ],
      "metadata": {
        "id": "B7TCqK5kmzyO"
      }
    },
    {
      "cell_type": "code",
      "source": [
        "for power in range(1, 20):\n",
        "  cur_x = sst.chi2.ppf(1 - 10 ** (-power), df=len(frq_puas) - 2)\n",
        "  if cur_x > chi_square:\n",
        "    print(f'max alph ~ {10 ** (-power)}, x_alph: {cur_x}')\n",
        "    break"
      ],
      "metadata": {
        "colab": {
          "base_uri": "https://localhost:8080/"
        },
        "outputId": "dc451222-19b3-4bc6-de69-8e1458c1630d",
        "id": "O5AwIT0bmzyO"
      },
      "execution_count": null,
      "outputs": [
        {
          "output_type": "stream",
          "name": "stdout",
          "text": [
            "max alph ~ 0.0001, x_alph: 18.420680743952584\n"
          ]
        }
      ]
    },
    {
      "cell_type": "markdown",
      "source": [
        "### №2.a построить вариционный ряд, эмпирическую функцию распределения,гистограмму и полигон частотс шагом h\n"
      ],
      "metadata": {
        "id": "zxk1cc9UkfN-"
      }
    },
    {
      "cell_type": "code",
      "source": [
        "second_table = '''2.968 2.458 2.860 2.904 3.099 3.213 3.357 3.198 3.189 2.512 3.319 3.337 2.736 3.250 3.111 3.067 3.733 3.038 2.873 2.867 3.213\n",
        "2.840 3.340 2.710 2.992 2.768 3.378 2.719 3.183 3.450 2.995 3.328 2.630 3.339 2.913 2.196 3.195 2.993 2.827 3.027 3.081 3.497\n",
        "2.737 2.901 3.489 3.057 2.560 3.257 2.935 3.075'''.split()\n",
        "second_table = np.array(second_table, dtype=np.float64)"
      ],
      "metadata": {
        "id": "NkxefjuklOIg"
      },
      "execution_count": null,
      "outputs": []
    },
    {
      "cell_type": "code",
      "source": [
        "alph=0.02"
      ],
      "metadata": {
        "id": "fOKZHYtcE2H1"
      },
      "execution_count": null,
      "outputs": []
    },
    {
      "cell_type": "code",
      "source": [
        "task_a(second_table)"
      ],
      "metadata": {
        "colab": {
          "base_uri": "https://localhost:8080/",
          "height": 559
        },
        "id": "KYJddOysocPf",
        "outputId": "d6d41294-0d1f-4fc6-b257-cc3647e37ffa"
      },
      "execution_count": null,
      "outputs": [
        {
          "output_type": "stream",
          "name": "stdout",
          "text": [
            "\n",
            "  variation series: [2.196, 2.458, 2.512, 2.56, 2.63, 2.71, 2.719, 2.736, 2.737, 2.768, 2.827, 2.84, 2.86, 2.867, 2.873, 2.901, 2.904, 2.913, 2.935, 2.968, 2.992, 2.993, 2.995, 3.027, 3.038, 3.057, 3.067, 3.075, 3.081, 3.099, 3.111, 3.183, 3.189, 3.195, 3.198, 3.213, 3.213, 3.25, 3.257, 3.319, 3.328, 3.337, 3.339, 3.34, 3.357, 3.378, 3.45, 3.489, 3.497, 3.733]\n",
            "  \n",
            "[2.196, 2.458, 2.512, 2.56, 2.63, 2.71, 2.719, 2.736, 2.737, 2.768, 2.827, 2.84, 2.86, 2.867, 2.873, 2.901, 2.904, 2.913, 2.935, 2.968, 2.992, 2.993, 2.995, 3.027, 3.038, 3.057, 3.067, 3.075, 3.081, 3.099, 3.111, 3.183, 3.189, 3.195, 3.198, 3.213, 3.25, 3.257, 3.319, 3.328, 3.337, 3.339, 3.34, 3.357, 3.378, 3.45, 3.489, 3.497, 3.733] [0.0, 0.02, 0.04, 0.06, 0.08, 0.1, 0.12, 0.14, 0.16, 0.18, 0.2, 0.22, 0.24, 0.26, 0.28, 0.3, 0.32, 0.34, 0.36, 0.38, 0.4, 0.42, 0.44, 0.46, 0.48, 0.5, 0.52, 0.54, 0.56, 0.58, 0.6, 0.62, 0.64, 0.66, 0.68, 0.7, 0.74, 0.76, 0.78, 0.8, 0.82, 0.84, 0.86, 0.88, 0.9, 0.92, 0.94, 0.96, 0.98]\n"
          ]
        },
        {
          "output_type": "display_data",
          "data": {
            "text/plain": [
              "<Figure size 640x480 with 1 Axes>"
            ],
            "image/png": "[encoded data removed]"
          },
          "metadata": {}
        },
        {
          "output_type": "stream",
          "name": "stdout",
          "text": [
            "\n"
          ]
        }
      ]
    },
    {
      "cell_type": "code",
      "source": [
        "h = 0.1\n",
        "bins = np.arange(min(second_table), max(second_table) + h, h)\n",
        "plt.hist(second_table, bins=bins)\n",
        "hist, _ = np.histogram(second_table, bins=bins)\n",
        "bin_centers = 0.5 * (bins[1:] + bins[:-1])\n",
        "plt.plot(bin_centers, hist, color='yellow', marker='^', linestyle='-.')\n",
        "\n",
        "plt.legend(['hist', 'polygon'])\n",
        "plt.show()"
      ],
      "metadata": {
        "colab": {
          "base_uri": "https://localhost:8080/",
          "height": 430
        },
        "id": "aFNwSJBtpNvt",
        "outputId": "13a90779-a229-444f-b7ed-5b7dd42005af"
      },
      "execution_count": null,
      "outputs": [
        {
          "output_type": "display_data",
          "data": {
            "text/plain": [
              "<Figure size 640x480 with 1 Axes>"
            ],
            "image/png": "[encoded data removed]"
          },
          "metadata": {}
        }
      ]
    },
    {
      "cell_type": "markdown",
      "source": [
        "### №2.b"
      ],
      "metadata": {
        "id": "ABlT-nhqpw1D"
      }
    },
    {
      "cell_type": "code",
      "source": [
        "print(task_b(second_table, 2.94, 3.18))"
      ],
      "metadata": {
        "colab": {
          "base_uri": "https://localhost:8080/"
        },
        "id": "0b2ow6JlpvFx",
        "outputId": "60820e5a-ead8-4c2a-a677-6b70472c45ad"
      },
      "execution_count": null,
      "outputs": [
        {
          "output_type": "stream",
          "name": "stdout",
          "text": [
            "\n",
            "  E:  3.03428\n",
            "  D:  0.29686259717249663\n",
            "  SD: 0.5448509862086116\n",
            "  Median: 3.0475\n",
            "  Skew: -0.3124949004315696\n",
            "  Kurt: 0.17949610250182202\n",
            "  P(a, b): 0.24\n",
            "  \n"
          ]
        }
      ]
    },
    {
      "cell_type": "markdown",
      "source": [
        "### №2.c в предположении, что исходные наблюдения являются выборкой из нормального распределения, построить оценку максимального правдоподобия параметров  (a,$\\sigma^2$)  и соответствующие оценки по методу моментов. Найти смещение оценок.\n",
        "ОМП\n",
        "$L(\\vec{X},\\theta)=\\prod_{i=1}^{n}\\frac{1}{\\sqrt{2\\pi}\\sigma} exp\\left(-\\frac{(x-a)^{2}}{2\\sigma^{2}}\\right)=(2\\pi)^{-\\frac{n}{2}}  \\sigma^{-n} exp\\left(-\\frac{1}{2\\sigma^{2}}\\sum_{i=1}^{n}(x_{i}-a)^{2}\\right)$\n",
        "\n",
        "$\\frac{\\partial LL(\\vec{X},\\theta)}{\\partial a}=-\\frac{1}{2\\sigma^{2}}\\sum_{i=1}^{n}(-2)(x_{i}-a)=\\frac{1}{\\sigma^{2}}\\left(\\sum_{i=1}^{n}x_{i}-an\\right)=0;\\\\ \\sum_{i=1}^{n}x_{i}-an=0; \\hat{a}=\\bar{x}$\n",
        "\n",
        "$\\frac{\\partial LL(\\vec{X},\\theta)}{\\partial \\sigma}=-\\frac{n}{\\sigma}+\\frac{1}{\\sigma^{3}}\\sum_{i=1}^{n}(x_{i}-a)^{2}=0; \\sigma^{2}=\\frac{1}{n}\\sum_{i=1}^{n}\\left(x_{i}-a\\right)^{2};\\\\ \\hat{\\sigma^{2}}=\\frac{1}{n}\\sum_{i=1}^{n}(X_{i}-\\bar{X})^{2}=S^{2}$\n",
        "\n",
        "$\\hat{\\theta}=(\\hat{a},\\hat{\\sigma^{2}})=(\\bar{X},S^{2})$\n",
        "\n",
        "ОММ\n",
        "\n",
        "$\\mathbb{E}X_{1}=a; M_{1}=\\bar{X}$\n",
        "\n",
        "$\\mathbb{E}X_{1}^{2}=a^{2}+\\sigma^{2}; M_{2}={\\bar{X^{2}}}$\n",
        "\n",
        "Составим уравнения\n",
        "\n",
        "$ a = \\bar{X}; a^{2}+\\sigma^{2}=\\bar{X^{2}} $\n",
        "\n",
        "$\\hat{\\theta}=(\\hat{a},\\hat{\\sigma^{2}})=(\\bar{X},S^{2})$\n",
        "\n",
        "МДС:\n",
        "\n",
        "$T = \\left(\\sum_{i=1}^{n}X_{i}^{2},\\sum_{i=1}^{n}X_{i}\\right)$\n",
        "Т.к. распределение из семейства экспоненциальных $=>$ МДС является ПДС\n",
        "\n",
        "$\n",
        "\\mathbb{E}_{\\theta}\\bar{X}=\\mathbb{E}_{\\theta}\\left(\\frac{1}{n}\\sum_{i=1}^{n}X_{i}\\right)=\\mathbb{E}_{\\theta}X_{1}=a;\\hat{a}=\\bar{X}$ - НРМД оценка\n",
        "\n",
        "\n",
        "$\\mathbb{E}_{\\theta}S^{2}=\\mathbb{E}_{\\theta}\\left(\\frac{1}{n}\\sum_{i=1}^{n}(X_{i}-\\bar{X})^{2}\\right)=\\left[Y_{i}=X_{i}-\\mathbb{E}_{\\theta}X_{i};\\begin{matrix} \\mathbb{E}_{\\theta}Y_{i}=0 \\\\ \\mathbb{D}_{\\theta}Y_{i}=\\sigma^{2} \\end{matrix}\\right]=\\mathbb{E}_{\\theta}\\bar{Y^{2}}-\\mathbb{E}_{\\theta}(\\bar{Y})^{2} = \\sigma^2 - \\frac{1}{n^{2}}\\sum_{i=1}^{n}\\sum_{j=1}^{n}\\mathbb{E}_{\\theta}Y_{i}Y_{j} = \\frac{(n-1)}{n}\\sigma^{2} - смещение$\n",
        "\n",
        "\n",
        "$(S^\\prime)^{2}=\\frac{n}{n-1}S^{2}; \\mathbb{E}_{\\theta}(S^\\prime)^{2}=\\frac{n}{n-1} \\cdot \\frac{n-1}{n}\\sigma^{2}=\\sigma^{2}$\n",
        "\n",
        "$(S^\\prime)^{2}=\\frac{1}{n-1}\\sum_{i=1}^{n}(X_{i}-\\bar{X})^{2}$ НРМД оценка\n"
      ],
      "metadata": {
        "id": "i9OSIIfgIFSB"
      }
    },
    {
      "cell_type": "code",
      "source": [
        "f'a = {second_table.mean()}, S`^2 = {second_table.std() ** 2 * len(second_table) / (len(second_table) - 1)}'"
      ],
      "metadata": {
        "colab": {
          "base_uri": "https://localhost:8080/",
          "height": 36
        },
        "id": "onrwBIZq1P5L",
        "outputId": "0669ff22-df5f-4cbc-cd13-d52ce764d9f9"
      },
      "execution_count": null,
      "outputs": [
        {
          "output_type": "execute_result",
          "data": {
            "text/plain": [
              "'a = 3.03428, S`^2 = 0.08992592'"
            ],
            "application/vnd.google.colaboratory.intrinsic+json": {
              "type": "string"
            }
          },
          "metadata": {},
          "execution_count": 26
        }
      ]
    },
    {
      "cell_type": "markdown",
      "source": [
        "### 2.d построить доверительные интервалы уровня значимости $\\alpha_2$ для параметров $\\left(a,\\sigma^2\\right)$\n",
        "\n",
        "$ \\frac{\\bar{X}-a}{S} \\sim S_{n-1} \\\\\n",
        "\\mathbb{P}_{\\theta}\\left(\\sqrt{n-1}\\frac{\\bar{X}-a}{S} \\in [x_{1\\alpha},x_{2\\alpha}]\\right)=S_{n-1}(x_{2\\alpha})-S_{n-1}(x_{1\\alpha})=S_{n-1}(x_{\\alpha})-(1-S_{n-1}(x_{\\alpha}))=2S_{n-1}(x_{\\alpha})-1=1-\\alpha; x_{\\alpha}: S_{n-1}(x_{\\alpha})=1-\\frac{\\alpha}{2};\\\\\n",
        "\\left[\\bar{X}-\\frac{x_{\\alpha}S}{\\sqrt{n-1}}; \\bar{X}+\\frac{x_{\\alpha}S}{\\sqrt{n-1}}\\right] \\ni a\\\\\n",
        "$\n",
        "$\n",
        "\\frac{nS^{2}}{\\sigma^{2}} \\sim \\chi_{n-1}^{2}\\\\\n",
        "\\mathbb{P}_{\\theta}\\left(\\frac{nS^{2}}{\\sigma^{2}} \\in [x_{1\\alpha},x_{2\\alpha}]\\right)=1-\\alpha=K_{n-1}(x_{2\\alpha})-K_{n-1}(x_{1\\alpha})=1-\\alpha\\\\\n",
        "x_{1\\alpha}: K_{n-1}(x_{1\\alpha})=\\frac{\\alpha}{2} \\\\\n",
        "x_{2\\alpha}: K_{n-1}(x_{2\\alpha})=1-\\frac{\\alpha}{2}\n",
        "$\n",
        "\n",
        "$\n",
        "\\left[\\frac{nS^{2}}{x_{2\\alpha}}; \\frac{nS^{2}}{x_{1\\alpha}}\\right] \\ni \\sigma^{2}\n",
        "$"
      ],
      "metadata": {
        "id": "t_yM41D_obbX"
      }
    },
    {
      "cell_type": "code",
      "source": [
        "x_alpha_2 = sst.chi2.ppf(1-alph/2, len(second_table)-1)\n",
        "x_alpha_1 = sst.chi2.ppf(alph/2, len(second_table)-1)\n",
        "\n",
        "\n",
        "print(f'[{len(second_table) * second_table.std() ** 2 / x_alpha_2}, ' \\\n",
        "f'{len(second_table) * second_table.std() ** 2 / x_alpha_1}] - ДИ для \\sigma^2')\n",
        "\n",
        "x_alpha = sst.t.ppf(1-alph/2,len(second_table) - 1)\n",
        "\n",
        "print(f'[{second_table.mean() - second_table.std() ** 2 * x_alpha / (len(second_table) - 1)}, ' \\\n",
        "f'{second_table.mean() + second_table.std() ** 2 * x_alpha / (len(second_table) - 1)}] - ДИ для a')"
      ],
      "metadata": {
        "colab": {
          "base_uri": "https://localhost:8080/"
        },
        "id": "wIQJ1wQZ1v9G",
        "outputId": "ff5a80d5-f6aa-439f-faa2-833719290c1a"
      },
      "execution_count": null,
      "outputs": [
        {
          "output_type": "stream",
          "name": "stdout",
          "text": [
            "[0.06642236698401767, 0.12986532245067303] - ДИ для \\sigma^2\n",
            "[3.0312646923723556, 3.037295307627644] - ДИ для a\n"
          ]
        }
      ]
    },
    {
      "cell_type": "markdown",
      "source": [
        "### 2.e с использованием теоремы Колмогорова построить критерий значимости проверки простой гипотезы согласия с нормальным распределением с параметрами $\\left(a_0, \\sigma^2_0\\right)$. Проверить гипотезу на уровне значимости $\\alpha_2$. Вычислить наибольшее значение уровня значимости, на котором еще нет оснований отвергнуть данную гипотезу"
      ],
      "metadata": {
        "id": "x4NIStKDYjFx"
      }
    },
    {
      "cell_type": "code",
      "source": [
        "tmp = np.unique(second_table)"
      ],
      "metadata": {
        "id": "TjXnwc5cf-bl"
      },
      "execution_count": null,
      "outputs": []
    },
    {
      "cell_type": "code",
      "source": [
        "D = np.max(np.abs([sst.norm.cdf(i) - pd.Series(second_table).value_counts()[i] for i in tmp]))\n",
        "c_val = kstwobign.ppf(1 - 0.1/2) / np.sqrt(len(second_table))\n",
        "\n",
        "if D > c_val:\n",
        "    print(\"гипотеза отвергается\")\n",
        "else:\n",
        "    print(\"нет оснований отвергать гипотезу\")\n",
        "\n",
        "\n",
        "for power in range(1, 20):\n",
        "  cur_x = sst.kstwobign.ppf(1 - 10 ** (-power))\n",
        "  if cur_x > D:\n",
        "    print(f'max alph ~ {10 ** (-power)}, x_alph: {cur_x}')\n",
        "    break"
      ],
      "metadata": {
        "colab": {
          "base_uri": "https://localhost:8080/"
        },
        "id": "8ZFpQaYIQsl3",
        "outputId": "b61ba2f7-d5fd-494f-e687-cf423c3a54e3"
      },
      "execution_count": null,
      "outputs": [
        {
          "output_type": "stream",
          "name": "stdout",
          "text": [
            "гипотеза отвергается\n",
            "max alph ~ 1e-17, x_alph: inf\n"
          ]
        }
      ]
    },
    {
      "cell_type": "markdown",
      "source": [
        "### #2.f используя гистограмму частот, построить критерий значимости $\\chi^2$ проверки простой гипотезы согласия с нормальным распределением с параметрами $\\left(a_0, \\sigma_0^2\\right)$. Проверить гипотезу на уровне значимости $\\alpha_2$. Вычислить наибольшее значение уровня значимости, на котором ещё нет оснований отвергнуть данную гипотезу"
      ],
      "metadata": {
        "id": "NrxT3zC47Z0D"
      }
    },
    {
      "cell_type": "code",
      "source": [
        "a_0, sigm_0 = 1, 0.3"
      ],
      "metadata": {
        "id": "2OCmu2Zh8F2E"
      },
      "execution_count": null,
      "outputs": []
    },
    {
      "cell_type": "code",
      "source": [
        "_, bins = np.histogram(second_table, bins=5)"
      ],
      "metadata": {
        "id": "ISqUHMT08b9l"
      },
      "execution_count": null,
      "outputs": []
    },
    {
      "cell_type": "code",
      "source": [
        "bins"
      ],
      "metadata": {
        "colab": {
          "base_uri": "https://localhost:8080/"
        },
        "id": "ZHWLLoHC8fWh",
        "outputId": "e19bc80d-4d01-4be0-ba4a-237d3d877dc0"
      },
      "execution_count": null,
      "outputs": [
        {
          "output_type": "execute_result",
          "data": {
            "text/plain": [
              "array([2.196 , 2.5034, 2.8108, 3.1182, 3.4256, 3.733 ])"
            ]
          },
          "metadata": {},
          "execution_count": 141
        }
      ]
    },
    {
      "cell_type": "code",
      "source": [
        "bins = np.append(bins, sum([2.8108, 3.1182]) / 2)"
      ],
      "metadata": {
        "id": "CTjclH028rUU"
      },
      "execution_count": null,
      "outputs": []
    },
    {
      "cell_type": "code",
      "source": [
        "bins.sort()"
      ],
      "metadata": {
        "id": "UzSm_UVU-Aa5"
      },
      "execution_count": null,
      "outputs": []
    },
    {
      "cell_type": "code",
      "source": [
        "intervals = [[bins[i] + 1e-10 * (i != 0), bins[i + 1]] for i in range(len(bins) - 1)]"
      ],
      "metadata": {
        "id": "HU5qoCph6T0Q"
      },
      "execution_count": null,
      "outputs": []
    },
    {
      "cell_type": "code",
      "source": [
        "g = lambda x: np.sum((second_table >= x[0]) & (second_table <= x[1]))"
      ],
      "metadata": {
        "id": "Rc_YX2rAzVTe"
      },
      "execution_count": null,
      "outputs": []
    },
    {
      "cell_type": "code",
      "source": [
        "frq_exp = np.array([g(i) for i in intervals]) / len(second_table)\n"
      ],
      "metadata": {
        "id": "6Em8fsLSzVTe"
      },
      "execution_count": null,
      "outputs": []
    },
    {
      "cell_type": "code",
      "source": [
        "N = sst.norm(loc=a_0, scale=sigm_0)"
      ],
      "metadata": {
        "id": "aAl4yP45zVTf"
      },
      "execution_count": null,
      "outputs": []
    },
    {
      "cell_type": "code",
      "source": [
        "frq_norm = np.array([abs(N.pdf(i[1]) - N.pdf(i[0])) * len(second_table) for i in intervals])"
      ],
      "metadata": {
        "id": "v1IRlW5yzVTf"
      },
      "execution_count": null,
      "outputs": []
    },
    {
      "cell_type": "code",
      "source": [
        "chi_square = np.sum((frq_exp - frq_norm) ** 2 / frq_norm)\n",
        "f\"chi^2: {chi_square}\""
      ],
      "metadata": {
        "colab": {
          "base_uri": "https://localhost:8080/",
          "height": 36
        },
        "outputId": "0542df3d-f6e1-463c-d292-e65f49b90aea",
        "id": "WjT-WBEnzVTf"
      },
      "execution_count": null,
      "outputs": [
        {
          "output_type": "execute_result",
          "data": {
            "text/plain": [
              "'chi^2: 15192192573.251032'"
            ],
            "application/vnd.google.colaboratory.intrinsic+json": {
              "type": "string"
            }
          },
          "metadata": {},
          "execution_count": 152
        }
      ]
    },
    {
      "cell_type": "code",
      "source": [
        "alph = 0.1\n",
        "f'x_alph: {sst.chi2.ppf(1 - alph, df=len(frq_norm) - 1)}'"
      ],
      "metadata": {
        "colab": {
          "base_uri": "https://localhost:8080/",
          "height": 36
        },
        "outputId": "bea6c0da-42d4-4569-dcd6-a53cc73194a1",
        "id": "K8edb1nTzVTf"
      },
      "execution_count": null,
      "outputs": [
        {
          "output_type": "execute_result",
          "data": {
            "text/plain": [
              "'x_alph: 9.236356899781123'"
            ],
            "application/vnd.google.colaboratory.intrinsic+json": {
              "type": "string"
            }
          },
          "metadata": {},
          "execution_count": 153
        }
      ]
    },
    {
      "cell_type": "markdown",
      "source": [
        "$\\chi^2 > x_{\\alpha}$ следовательно гипотеза отвергается"
      ],
      "metadata": {
        "id": "mvjNDZNw-JKu"
      }
    },
    {
      "cell_type": "code",
      "source": [
        "for power in range(1, 20):\n",
        "  cur_x = sst.chi2.ppf(1 - 10 ** (-power), df=len(frq_puas) - 1)\n",
        "  if cur_x > chi_square:\n",
        "    print(f'max alph ~ {10 ** (-power)}, x_alph: {cur_x}')\n",
        "    break"
      ],
      "metadata": {
        "colab": {
          "base_uri": "https://localhost:8080/"
        },
        "id": "oh927iR7-ZJr",
        "outputId": "dde506f8-dfa1-4a0f-de04-54fb829c5890"
      },
      "execution_count": null,
      "outputs": [
        {
          "output_type": "stream",
          "name": "stdout",
          "text": [
            "max alph ~ 1e-17, x_alph: inf\n"
          ]
        }
      ]
    },
    {
      "cell_type": "markdown",
      "source": [
        "### #2.g построить критерий значимости $\\chi^2$ проверки сложной гипотезы согласия с нормальным распределением. Проверить гипотезу на уровне значимости $\\alpha_2$. Вычислить наибольшее значение уровня значимости, на котором ещё нет оснований отвергнуть данную гипотезу"
      ],
      "metadata": {
        "id": "eGKhG_2UCqc7"
      }
    },
    {
      "cell_type": "code",
      "source": [
        "_, bins = np.histogram(second_table, bins=5)"
      ],
      "metadata": {
        "id": "q7RA_Ny5Cv5z"
      },
      "execution_count": 189,
      "outputs": []
    },
    {
      "cell_type": "code",
      "source": [
        "bins = np.append(bins, sum([2.8108, 3.1182]) / 2)"
      ],
      "metadata": {
        "id": "ynJveeMBCv50"
      },
      "execution_count": 190,
      "outputs": []
    },
    {
      "cell_type": "code",
      "source": [
        "bins.sort()"
      ],
      "metadata": {
        "id": "2H7P8r8qCv50"
      },
      "execution_count": 191,
      "outputs": []
    },
    {
      "cell_type": "code",
      "source": [
        "intervals = [[bins[i] + 1e-10 * (i != 0), bins[i + 1]] for i in range(len(bins) - 1)]"
      ],
      "metadata": {
        "id": "s-jgMCcdCv50"
      },
      "execution_count": 192,
      "outputs": []
    },
    {
      "cell_type": "code",
      "source": [
        "g = lambda x: np.sum((second_table >= x[0]) & (second_table <= x[1]))"
      ],
      "metadata": {
        "id": "lHilAEs-Cv50"
      },
      "execution_count": 193,
      "outputs": []
    },
    {
      "cell_type": "code",
      "source": [
        "frq_exp = np.array([g(i) for i in intervals]) / len(second_table)\n"
      ],
      "metadata": {
        "id": "LPcLIfk9Cv51"
      },
      "execution_count": 194,
      "outputs": []
    },
    {
      "cell_type": "code",
      "source": [
        "N = sst.norm(loc=second_table.mean(), scale=second_table.std() ** 2 * len(second_table) / (len(second_table) - 1))"
      ],
      "metadata": {
        "id": "1U_nQ0O3Cv51"
      },
      "execution_count": 200,
      "outputs": []
    },
    {
      "cell_type": "code",
      "source": [
        "frq_norm = np.array([abs(N.pdf(i[1]) - N.pdf(i[0])) * len(second_table) for i in intervals])"
      ],
      "metadata": {
        "id": "CSutNih2Cv51"
      },
      "execution_count": 201,
      "outputs": []
    },
    {
      "cell_type": "code",
      "source": [
        "chi_square = np.sum((frq_exp - frq_norm) ** 2 / frq_norm)\n",
        "f\"chi^2: {chi_square}\""
      ],
      "metadata": {
        "colab": {
          "base_uri": "https://localhost:8080/",
          "height": 36
        },
        "outputId": "566b104a-705e-48e3-acbe-1555269e1ff0",
        "id": "Ujp9oqSzCv51"
      },
      "execution_count": 202,
      "outputs": [
        {
          "output_type": "execute_result",
          "data": {
            "text/plain": [
              "'chi^2: 593.4029113591278'"
            ],
            "application/vnd.google.colaboratory.intrinsic+json": {
              "type": "string"
            }
          },
          "metadata": {},
          "execution_count": 202
        }
      ]
    },
    {
      "cell_type": "code",
      "source": [
        "alph = 0.1\n",
        "f'x_alph: {sst.chi2.ppf(1 - alph, df=len(frq_norm) - 3)}'"
      ],
      "metadata": {
        "colab": {
          "base_uri": "https://localhost:8080/",
          "height": 36
        },
        "outputId": "0544be8b-b545-4729-cd56-6031bb37b1e5",
        "id": "epZW1HCuCv51"
      },
      "execution_count": 203,
      "outputs": [
        {
          "output_type": "execute_result",
          "data": {
            "text/plain": [
              "'x_alph: 6.251388631170325'"
            ],
            "application/vnd.google.colaboratory.intrinsic+json": {
              "type": "string"
            }
          },
          "metadata": {},
          "execution_count": 203
        }
      ]
    },
    {
      "cell_type": "markdown",
      "source": [
        "$\\chi^2 > x_{\\alpha}$ следовательно гипотеза отвергается"
      ],
      "metadata": {
        "id": "iygkWEKJCv52"
      }
    },
    {
      "cell_type": "code",
      "source": [
        "for power in range(1, 20):\n",
        "  cur_x = sst.chi2.ppf(1 - 10 ** (-power), df=len(frq_puas) - 1)\n",
        "  if cur_x > chi_square:\n",
        "    print(f'max alph ~ {10 ** (-power)}, x_alph: {cur_x}')\n",
        "    break"
      ],
      "metadata": {
        "colab": {
          "base_uri": "https://localhost:8080/"
        },
        "outputId": "125bc32d-2e8a-4c2e-be1f-7f44f40d8bb1",
        "id": "RXZfLOfqCv52"
      },
      "execution_count": 199,
      "outputs": [
        {
          "output_type": "stream",
          "name": "stdout",
          "text": [
            "max alph ~ 1e-17, x_alph: inf\n"
          ]
        }
      ]
    },
    {
      "cell_type": "markdown",
      "source": [
        "###  2.h: построить наиболее мощный критерий проверки простой гипотезы о нормальности с параметром $(a, \\sigma^2) = (a_0, \\sigma_0^2)$ при альтернативе нормальности с параметром$(a, \\sigma^2) = (a_1, \\sigma_1^2)$. Проверить гипотезу на уровне значимости $\\alpha_2$. Что получится, если поменять местами основновную и альтернативную гипотезы\n",
        "$H_0: \\theta=\\left(a_0,\\sigma_0^2\\right)$ - основная гипотеза<br>\n",
        "$H_1: \\theta=\\left(a_1,\\sigma_1^2\\right)$ - альтернативная гипотеза<br>\n",
        "$LR\\left(\\overrightarrow x,\\theta_0,\\theta_1\\right)=\\frac{L\\left(\\overrightarrow x,a_1,\\sigma_1^2\\right)}{L\\left(\\overrightarrow x,a_0,\\sigma_0^2\\right)}=\\exp\\left(\\frac n{2\\sigma^2}\\left(a_0^2-a_1^2\\right)+\\frac1{\\sigma^2}{\\textstyle\\overset n{\\underset{i=1}{\\sum x_i}}}\\left(a_1-a_0\\right)\\right)$\n",
        "\n",
        "$x_\\alpha=\\sqrt n\\frac{c^\\ast-a_1}\\sigma$<br>"
      ],
      "metadata": {
        "collapsed": false,
        "id": "727ffbbef3eaf1ad"
      }
    },
    {
      "cell_type": "code",
      "execution_count": 161,
      "outputs": [
        {
          "output_type": "stream",
          "name": "stdout",
          "text": [
            "х_alpha =  2.054\n",
            "c* = 1.087\n"
          ]
        }
      ],
      "source": [
        "x_alpha = sst.norm.ppf(1-alph)\n",
        "print(f'х_alpha = {round(x_alpha,3)}')\n",
        "c_star =  x_alpha*sigm_0/len(second_table) ** 0.5 + a_0\n",
        "print(f'c* = {round(c_star,3)}')"
      ],
      "metadata": {
        "ExecuteTime": {
          "end_time": "2023-12-06T18:11:45.978099800Z",
          "start_time": "2023-12-06T18:11:45.364452700Z"
        },
        "id": "b6a9b7343764557e",
        "outputId": "e5e370f8-5aa8-44be-d7d4-ecb9cf44986e",
        "colab": {
          "base_uri": "https://localhost:8080/"
        }
      }
    },
    {
      "cell_type": "code",
      "source": [
        "second_table.mean()"
      ],
      "metadata": {
        "colab": {
          "base_uri": "https://localhost:8080/"
        },
        "id": "keRWag3rHMYG",
        "outputId": "12a7e011-d5df-4f42-ebdc-772f6c42bbf1"
      },
      "execution_count": 162,
      "outputs": [
        {
          "output_type": "execute_result",
          "data": {
            "text/plain": [
              "3.03428"
            ]
          },
          "metadata": {},
          "execution_count": 162
        }
      ]
    },
    {
      "cell_type": "markdown",
      "source": [
        "Так как $\\overline x > c^\\ast$ отвергаем гипотезу $H_0$<br>\n",
        "Поменяем местами гипотезы $H_0$ и $H_1$:<br>\n",
        "$LR\\left(\\overrightarrow x,\\theta_0,\\theta_1\\right)=\\frac{L\\left(\\overrightarrow x,a_1,\\sigma_1^2\\right)}{L\\left(\\overrightarrow x,a_0,\\sigma_0^2\\right)}=\\exp\\left(\\frac n{2\\sigma^2}\\left(a_1^2-a_0^2\\right)+\\frac1{\\sigma^2}{\\textstyle\\overset n{\\underset{i=1}{\\sum x_i}}}\\left(a_0-a_1\\right)\\right)$\n",
        "\n",
        "$\\sqrt n\\frac{\\overline x-a}\\sigma\\sim N\\left(0,1\\right)$<br>\n",
        "$x_\\alpha=\\sqrt n\\frac{c^\\ast-a_0}\\sigma$<br>\n"
      ],
      "metadata": {
        "collapsed": false,
        "id": "f6543589d4cbcf5d"
      }
    },
    {
      "cell_type": "code",
      "source": [
        "sigm_1, a_1 = 0.3, 3.0"
      ],
      "metadata": {
        "id": "dyUDUPY7GjBO"
      },
      "execution_count": 160,
      "outputs": []
    },
    {
      "cell_type": "code",
      "execution_count": 164,
      "outputs": [
        {
          "output_type": "stream",
          "name": "stdout",
          "text": [
            "х_alpha = 2.054\n",
            "c* = 3.087\n"
          ]
        }
      ],
      "source": [
        "x_alpha = sst.norm.ppf(1-alph)\n",
        "print(f'х_alpha = {round(x_alpha,3)}')\n",
        "c_star =  x_alpha*sigm_1/len(second_table) ** 0.5 + a_1\n",
        "print(f'c* = {round(c_star,3)}')"
      ],
      "metadata": {
        "ExecuteTime": {
          "end_time": "2023-12-06T18:11:45.978099800Z",
          "start_time": "2023-12-06T18:11:45.368776400Z"
        },
        "id": "32294645a26a7633",
        "outputId": "772d46dd-de4d-4447-919e-4a4ba533e314",
        "colab": {
          "base_uri": "https://localhost:8080/"
        }
      }
    },
    {
      "cell_type": "markdown",
      "source": [
        "Так как $\\overline x < c^\\ast$ принимаем гипотезу $H_1$<br>"
      ],
      "metadata": {
        "collapsed": false,
        "id": "6d9f4e7473efa776"
      }
    },
    {
      "cell_type": "markdown",
      "metadata": {
        "id": "b3426bf968ddcb13"
      },
      "source": [
        "### 2.i: в пунктах (c)-(g) заменить семейство нормальных распределений на двухпараметрическое семейство распределений Лапласа\n",
        "#### Подпункт 2.i.c:\n",
        "$\\textstyle p_{a,\\sigma}\\left(x\\right)={\\displaystyle\\frac1{\\sqrt2\\sigma}}\\exp\\left(-{\\displaystyle\\frac{\\sqrt2}\\sigma}\\left|x-a\\right|\\right)$ - плотность распределения Лапласа<br>\n",
        "Логарифмическая функция правдоподобия:<br>\n",
        "$\\textstyle LL\\left(\\overrightarrow x,\\theta\\right)=-\\frac n2\\ln\\left(2\\right)-n\\ln\\left(\\sigma\\right)-\\frac{\\sqrt2}\\sigma\\overset n{\\underset{i=1}{\\sum\\left|x_i-a\\right|}}$<br>\n",
        "$\\textstyle{\\displaystyle\\frac{\\partial\\mathrm{LL}\\left(\\overrightarrow x,\\theta\\right)}{\\partial a}}=\\frac{\\sqrt2}\\sigma\\overset n{\\underset{i=1}{\\sum\\mathrm{sign}\\left(x_i-a\\right)}}=0$<br>\n",
        "ОМП параметра a - выборочная медиана: $\\textstyle\\widehat a=z_{n,0.5}$<br>\n",
        "$\\textstyle{\\displaystyle\\frac{\\partial\\mathrm{LL}\\left(\\overrightarrow x,\\theta\\right)}{\\partial\\sigma}}=-{\\displaystyle\\frac n\\sigma}+{\\displaystyle\\frac{\\sqrt2}{\\sigma^2}}\\overset n{\\underset{i=1}{\\sum\\left|x_i-a\\right|}}=0$<br>\n",
        "\n",
        "$\\widehat\\theta=\\left(\\widehat a,\\widehat{\\sigma^2}\\right)=\\left(z_{n,0.5},\\frac2{n^2}\\left({\\textstyle\\overset n{\\underset{i=1}{\\sum\\left|x_i-z_{n,0.5}\\right|}}}\\right)^2\\right)$<br>"
      ]
    },
    {
      "cell_type": "code",
      "execution_count": 167,
      "outputs": [
        {
          "output_type": "stream",
          "name": "stdout",
          "text": [
            "Оценка максимального правдоподобия a = 3.034\n",
            "Оценка максимального правдоподобия \\simga^2 = 0.111\n"
          ]
        }
      ],
      "source": [
        "omp_a = second_table.mean()\n",
        "omp_sigma = 0\n",
        "for i in second_table:\n",
        "    omp_sigma+=abs(i-omp_a)\n",
        "omp_sigma=omp_sigma/len(second_table)*(2 ** 0.5)\n",
        "print(f\"Оценка максимального правдоподобия a = {round(omp_a, 3)}\", )\n",
        "print(f\"Оценка максимального правдоподобия \\simga^2 = {round(omp_sigma**2, 3)}\")"
      ],
      "metadata": {
        "ExecuteTime": {
          "end_time": "2023-12-06T18:11:45.978099800Z",
          "start_time": "2023-12-06T18:11:45.375969400Z"
        },
        "id": "67e84dcfb9eec053",
        "outputId": "a5d1bfb1-0c9f-41d8-f67f-3cab0758075d",
        "colab": {
          "base_uri": "https://localhost:8080/"
        }
      }
    },
    {
      "cell_type": "markdown",
      "source": [
        "НРМД:<br>\n",
        "$\\mathbb{E}_\\theta a=\\mathbb{E}_\\theta z_{n,0.5}=z_{n,0.5}$ - оценка несмещенная<br>\n",
        "$\\mathbb{E}_\\theta\\sigma^2=\\mathbb{E}_\\theta\\frac2{n^2}\\left({\\textstyle\\overset n{\\underset{i=1}{\\sum\\left|x_i-a\\right|}}}\\right)^2$ - оценка смещенная<br>"
      ],
      "metadata": {
        "collapsed": false,
        "id": "b413de32156c5fd6"
      }
    },
    {
      "cell_type": "markdown",
      "source": [
        "Метод моментов:<br>\n",
        "$\\left\\{\\begin{array}{l}\\mu_1=\\frac1n\\sum_{i=1}^nx_i=\\overline x\\\\\\mu_2=\\mu_2=\\mathbb{D}x+{(\\mathbb{E}x)}^2\\end{array}\\right.$<br>\n",
        "В распределении Лапласа $\\mathbb{E}x=\\beta$, $\\mathbb{D}x=\\frac2{\\alpha^2}$ где $\\beta=a$, $\\alpha=\\frac{\\sqrt{2}}{\\sigma}$<br>\n",
        "Тогда $\\mathbb{E}x=a$, $\\mathbb{D}x=\\sigma^2$<br>\n",
        "$\\left\\{\\begin{array}{l}\\mu_1=\\overline x=a\\\\\\mu_2=\\mathbb{D}x+{(\\mathbb{E}x)}^2=\\sigma^2+{(\\mathbb{E}x)}^2\\end{array}\\right.$<br>\n",
        "$\\widehat a=\\overline x$ - ОММ параметра a<br>\n",
        "$\\widehat{\\sigma^2}=\\mathbb{E}x^2-\\left(\\mathbb{E}x\\right)^2=s^2$ - ОММ параметра $\\sigma^2$<br>"
      ],
      "metadata": {
        "collapsed": false,
        "id": "72c9bc464eab80ce"
      }
    },
    {
      "cell_type": "markdown",
      "source": [
        "### 2.i.d:\n",
        "1. Построение ДИ для параметра a<br>\n",
        "По Лемме Фишера:\n",
        "$P_\\theta\\left(-x_\\alpha\\leq\\sqrt{n-1}\\frac{\\overline x-a}s\\leq x_\\alpha\\right)=1-\\alpha$<br>\n",
        "$P_\\theta\\left(\\overline x-\\frac{x_\\alpha s}{\\sqrt{n-1}}\\leq a\\leq\\overline x+\\frac{x_\\alpha s}{\\sqrt{n-1}}\\right) = 1 -\\alpha$<br>\n",
        "2. Построение ДИ для параметра $\\sigma^2$<br>\n",
        "\n",
        "$P_\\theta\\left(x_{1\\alpha}\\leq\\frac{ns^2}{\\sigma^2}\\leq x_{2\\alpha}\\right)=1-\\alpha$<br>\n",
        "$P_\\theta\\left(\\frac{ns^2}{x_{2\\alpha}}\\leq\\sigma^2\\leq\\frac{ns^2}{x_{1\\alpha}}\\right)=1-\\alpha$"
      ],
      "metadata": {
        "collapsed": false,
        "id": "8441a5eba0587abe"
      }
    },
    {
      "cell_type": "code",
      "execution_count": 171,
      "outputs": [
        {
          "output_type": "stream",
          "name": "stdout",
          "text": [
            "[3.0040033054417004, 3.0645566945582994] - ДИ для a\n",
            "[0.05881474904451325, 0.15225541558584463] - ДИ для \\sigma^2\n"
          ]
        }
      ],
      "source": [
        "n = len(second_table)\n",
        "x_alpha = sst.t.ppf(1-alph/2,n-1)\n",
        "x1_alpha = sst.chi2.ppf(alph/2, n-1)\n",
        "x2_alpha = sst.chi2.ppf(1-alph/2, n-1)\n",
        "sigma_min = n*second_table.std() ** 2/x2_alpha\n",
        "sigma_max = n*second_table.std() ** 2/x1_alpha\n",
        "\n",
        "print(f'[{second_table.mean() - x_alpha * second_table.std() ** 2/(n-1) ** 0.5}, ' \\\n",
        "f'{second_table.mean() + x_alpha*second_table.std() ** 2/(n-1) ** 0.5}] - ДИ для a')\n",
        "print(f'[{n*second_table.std() ** 2/x2_alpha}, ' \\\n",
        "f'{n*second_table.std() ** 2/x1_alpha}] - ДИ для \\sigma^2')"
      ],
      "metadata": {
        "ExecuteTime": {
          "end_time": "2023-12-06T18:11:45.978099800Z",
          "start_time": "2023-12-06T18:11:45.389308700Z"
        },
        "id": "724cf2c42aa99f8c",
        "outputId": "65f67055-ec30-4240-b364-871766edba3a",
        "colab": {
          "base_uri": "https://localhost:8080/"
        }
      }
    },
    {
      "cell_type": "markdown",
      "source": [
        "### 2.i.e:"
      ],
      "metadata": {
        "collapsed": false,
        "id": "bcd5de8c040ebf30"
      }
    },
    {
      "cell_type": "code",
      "source": [
        "tmp = np.unique(second_table)"
      ],
      "metadata": {
        "id": "TD0egCqqLz0a"
      },
      "execution_count": 175,
      "outputs": []
    },
    {
      "cell_type": "code",
      "source": [
        "D = np.max(np.abs([sst.laplace(loc=a_0, scale=sigm_0).cdf(i)  - pd.Series(second_table).value_counts()[i] for i in tmp]))\n",
        "c_val = kstwobign.ppf(1 - alph/2) / np.sqrt(len(second_table))\n",
        "\n",
        "if D > c_val:\n",
        "    print(\"гипотеза отвергается\")\n",
        "else:\n",
        "    print(\"нет оснований отвергать гипотезу\")\n",
        "\n",
        "\n",
        "for power in range(1, 20):\n",
        "  cur_x = sst.kstwobign.ppf(1 - 10 ** (-power))\n",
        "  if cur_x > D:\n",
        "    print(f'max alph ~ {10 ** (-power)}, x_alph: {cur_x}')\n",
        "    break"
      ],
      "metadata": {
        "colab": {
          "base_uri": "https://localhost:8080/"
        },
        "outputId": "9ff86e4d-9922-4dc3-b89d-345861f5cd39",
        "id": "cJruMV_MLz0i"
      },
      "execution_count": 174,
      "outputs": [
        {
          "output_type": "stream",
          "name": "stdout",
          "text": [
            "гипотеза отвергается\n",
            "max alph ~ 0.1, x_alph: 1.2238478702170825\n"
          ]
        }
      ]
    },
    {
      "cell_type": "markdown",
      "source": [
        "### #2.i.f:"
      ],
      "metadata": {
        "collapsed": false,
        "id": "b49b7c4e12849b9b"
      }
    },
    {
      "cell_type": "code",
      "source": [
        "g = lambda x: np.sum((second_table >= x[0]) & (second_table <= x[1]))"
      ],
      "metadata": {
        "id": "hKMgzJ1zMSjo"
      },
      "execution_count": 182,
      "outputs": []
    },
    {
      "cell_type": "code",
      "source": [
        "frq_exp = np.array([g(i) for i in intervals]) / len(second_table)\n"
      ],
      "metadata": {
        "id": "T1T6TImeMSjo"
      },
      "execution_count": 177,
      "outputs": []
    },
    {
      "cell_type": "code",
      "source": [
        "N = sst.laplace(loc=a_0, scale=sigm_0)"
      ],
      "metadata": {
        "id": "1TgZGoqKMSjo"
      },
      "execution_count": 178,
      "outputs": []
    },
    {
      "cell_type": "code",
      "source": [
        "frq_norm = np.array([abs(N.pdf(i[1]) - N.pdf(i[0])) * len(second_table) for i in intervals])"
      ],
      "metadata": {
        "id": "qpSWvebDMSjo"
      },
      "execution_count": 179,
      "outputs": []
    },
    {
      "cell_type": "code",
      "source": [
        "chi_square = np.sum((frq_exp - frq_norm) ** 2 / frq_norm)\n",
        "f\"chi^2: {chi_square}\""
      ],
      "metadata": {
        "colab": {
          "base_uri": "https://localhost:8080/",
          "height": 36
        },
        "outputId": "4d017ae5-3163-4616-8cb9-cef946453d7a",
        "id": "E_eklHIpMSjp"
      },
      "execution_count": 180,
      "outputs": [
        {
          "output_type": "execute_result",
          "data": {
            "text/plain": [
              "'chi^2: 3.572180022418606'"
            ],
            "application/vnd.google.colaboratory.intrinsic+json": {
              "type": "string"
            }
          },
          "metadata": {},
          "execution_count": 180
        }
      ]
    },
    {
      "cell_type": "code",
      "source": [
        "alph = 0.1\n",
        "f'x_alph: {sst.chi2.ppf(1 - alph, df=len(frq_norm) - 3)}'"
      ],
      "metadata": {
        "colab": {
          "base_uri": "https://localhost:8080/",
          "height": 36
        },
        "outputId": "a36254af-b0aa-45f0-e45c-59f049e6aa0c",
        "id": "qJo3Tv5iMSjp"
      },
      "execution_count": 181,
      "outputs": [
        {
          "output_type": "execute_result",
          "data": {
            "text/plain": [
              "'x_alph: 6.251388631170325'"
            ],
            "application/vnd.google.colaboratory.intrinsic+json": {
              "type": "string"
            }
          },
          "metadata": {},
          "execution_count": 181
        }
      ]
    },
    {
      "cell_type": "markdown",
      "source": [
        "$\\chi^2 < x_{\\alpha}$ следовательно гипотеза принимается"
      ],
      "metadata": {
        "id": "Z_nnqJuPMSjp"
      }
    },
    {
      "cell_type": "code",
      "source": [
        "for power in range(1, 20):\n",
        "  cur_x = sst.chi2.ppf(1 - 10 ** (-power), df=len(frq_puas) - 1)\n",
        "  if cur_x > chi_square:\n",
        "    print(f'max alph ~ {10 ** (-power)}, x_alph: {cur_x}')\n",
        "    break"
      ],
      "metadata": {
        "colab": {
          "base_uri": "https://localhost:8080/"
        },
        "outputId": "dde506f8-dfa1-4a0f-de04-54fb829c5890",
        "id": "j50DPhCaMSjp"
      },
      "execution_count": null,
      "outputs": [
        {
          "output_type": "stream",
          "name": "stdout",
          "text": [
            "max alph ~ 1e-17, x_alph: inf\n"
          ]
        }
      ]
    },
    {
      "cell_type": "markdown",
      "source": [
        "Значения $\\alpha$ при котором нет оснований отвергать данную гипотезу стремится к нулю"
      ],
      "metadata": {
        "collapsed": false,
        "id": "8e3ec21adff157da"
      }
    },
    {
      "cell_type": "markdown",
      "source": [
        "### #2.i.g:"
      ],
      "metadata": {
        "collapsed": false,
        "id": "2c12ee1d4eac1e21"
      }
    },
    {
      "cell_type": "code",
      "source": [
        "g = lambda x: np.sum((second_table >= x[0]) & (second_table <= x[1]))"
      ],
      "metadata": {
        "id": "7q2wwPeVMpri"
      },
      "execution_count": 183,
      "outputs": []
    },
    {
      "cell_type": "code",
      "source": [
        "frq_exp = np.array([g(i) for i in intervals]) / len(second_table)\n"
      ],
      "metadata": {
        "id": "ndy_1Rx4Mpri"
      },
      "execution_count": 184,
      "outputs": []
    },
    {
      "cell_type": "code",
      "source": [
        "N = sst.laplace(loc=second_table.mean(), scale=omp_sigma**2)"
      ],
      "metadata": {
        "id": "1tCoN7AzMpri"
      },
      "execution_count": 185,
      "outputs": []
    },
    {
      "cell_type": "code",
      "source": [
        "frq_norm = np.array([abs(N.pdf(i[1]) - N.pdf(i[0])) * len(second_table) for i in intervals])"
      ],
      "metadata": {
        "id": "beW_WEy8Mpri"
      },
      "execution_count": 186,
      "outputs": []
    },
    {
      "cell_type": "code",
      "source": [
        "chi_square = np.sum((frq_exp - frq_norm) ** 2 / frq_norm)\n",
        "f\"chi^2: {chi_square}\""
      ],
      "metadata": {
        "colab": {
          "base_uri": "https://localhost:8080/",
          "height": 36
        },
        "outputId": "00181dcd-a314-4a92-e792-d6b13b5d482e",
        "id": "I817fI3LMpri"
      },
      "execution_count": 187,
      "outputs": [
        {
          "output_type": "execute_result",
          "data": {
            "text/plain": [
              "'chi^2: 237.32492597180263'"
            ],
            "application/vnd.google.colaboratory.intrinsic+json": {
              "type": "string"
            }
          },
          "metadata": {},
          "execution_count": 187
        }
      ]
    },
    {
      "cell_type": "code",
      "source": [
        "alph = 0.1\n",
        "f'x_alph: {sst.chi2.ppf(1 - alph, df=len(frq_norm) - 3)}'"
      ],
      "metadata": {
        "colab": {
          "base_uri": "https://localhost:8080/",
          "height": 36
        },
        "outputId": "633cb92d-f937-475c-e81a-b31ed74d9244",
        "id": "kgIKVMvuMprj"
      },
      "execution_count": 188,
      "outputs": [
        {
          "output_type": "execute_result",
          "data": {
            "text/plain": [
              "'x_alph: 6.251388631170325'"
            ],
            "application/vnd.google.colaboratory.intrinsic+json": {
              "type": "string"
            }
          },
          "metadata": {},
          "execution_count": 188
        }
      ]
    },
    {
      "cell_type": "markdown",
      "source": [
        "$\\chi^2 > x_{\\alpha}$ следовательно гипотеза отвергается"
      ],
      "metadata": {
        "id": "KWuUhBkQMprj"
      }
    },
    {
      "cell_type": "code",
      "source": [
        "for power in range(1, 20):\n",
        "  cur_x = sst.chi2.ppf(1 - 10 ** (-power), df=len(frq_puas) - 1)\n",
        "  if cur_x > chi_square:\n",
        "    print(f'max alph ~ {10 ** (-power)}, x_alph: {cur_x}')\n",
        "    break"
      ],
      "metadata": {
        "colab": {
          "base_uri": "https://localhost:8080/"
        },
        "outputId": "dde506f8-dfa1-4a0f-de04-54fb829c5890",
        "id": "c1LFTXRiMprj"
      },
      "execution_count": null,
      "outputs": [
        {
          "output_type": "stream",
          "name": "stdout",
          "text": [
            "max alph ~ 1e-17, x_alph: inf\n"
          ]
        }
      ]
    },
    {
      "cell_type": "markdown",
      "metadata": {
        "id": "3JCX9a53S200"
      },
      "source": [
        "## Выводы\n",
        "\n",
        "В процессе выполнения этой практической работы мы изучили и применили методы математической статистики для решения задач статистического анализа. Мы развили навыки использования прикладных программных пакетов для реализации этих методов. Также мы освоили навыки анализа выборочных данных, построения доверительных интервалов, и проверки различных статистических гипотез. Кроме того, мы закрепили свои знания, работая с различными семействами распределений при решении практических задач."
      ]
    }
  ],
  "metadata": {
    "kernelspec": {
      "display_name": "Python 3",
      "name": "python3"
    },
    "language_info": {
      "name": "python"
    },
    "colab": {
      "provenance": []
    }
  },
  "nbformat": 4,
  "nbformat_minor": 0
}