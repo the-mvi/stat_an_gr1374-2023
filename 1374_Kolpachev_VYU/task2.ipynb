{
  "cells": [
    {
      "cell_type": "markdown",
      "metadata": {
        "id": "r3hVy51Y3Jtm"
      },
      "source": [
        "# Практическая работа №2: Классические методы математической статистики\n",
        "Выполнил студент гр. 1374 Колпачев Владислав. Вариант №9"
      ]
    },
    {
      "cell_type": "markdown",
      "metadata": {
        "id": "SJ8JjyP53Jto"
      },
      "source": [
        "## Цель работы\n",
        "Научится применять методы математической статистики для решения задач статистического анализа; сформировать навыки реализации методов с помощью прикладных программных пакетов."
      ]
    },
    {
      "cell_type": "markdown",
      "metadata": {
        "id": "dp-SK8q23Jtp"
      },
      "source": [
        "## Основные теоретические положения\n"
      ]
    },
    {
      "cell_type": "markdown",
      "source": [
        "1.1. Эмпирическое распределение : $F_n(x) = \\frac{1}{n}\\sum_{i=1}^{n}\\mathbb{I}_{\\{x_i < x\\}}$\n",
        "\n",
        "1.2. Вариационный ряд: $X_{(1)} \\le \\dots \\le X_{(n)}$\n",
        "\n",
        "1.3. Гистограмма - функция $H: K \\to \\mathbb{R}_+: H(x) = \\frac{n_i}{nh_i}$, где $n_i$ - число элементов выборки, попавших в i-й интервал, h - размер интервала\n",
        "\n",
        "1.4. Полигон частот - кусочно-линейно непрерывная функция совпадающая с гистограммой в середине каждого интервала\n",
        "\n",
        "2\\. Выборочные числовые характеристики:\n",
        "\n",
        "- Математическое ожидание $\\overline{X}=\\frac{1}{n}\\sum_{i=1}^{n}X_{i}$\n",
        "\n",
        "- Дисперсия $S^{2}=\\frac{1}{n}\\sum_{i=1}^{n}\\left( X_{i}-\\overline{X} \\right)^{2}=\\overline{X^{2}}-\\overline{X}^{2}$\n",
        "\n",
        "- Среднеквадратичное отклонение $S = \\sqrt{S^2} = \\sqrt{\\frac{1}{n}\\sum_{i=1}^{n}\\left( X_{i}-\\overline{X} \\right)^{2}}$\n",
        "\n",
        "- Медиана - p-квантиль при p = 1/2\n",
        "\n",
        "- p-квантиль $Z_{n,p} : X_{(\\left\\lfloor np\\right\\rfloor+1)}$ если $np \\notin \\mathbb{Z}$ и $\\left[X_{(np)},X_{(np+1)}\\right)$ иначе\n",
        "- коэффициент асимметрии (скошенности) $\\widehat{Skew_{F}}(X)=\\frac{\\frac{1}{n}\\sum_{i=1}^{n}\\left( X_{i}-\\overline{X} \\right)^{3}}{S^{3}}$\n",
        "\n",
        "- коэффициент эксцесса (островершинности) $\\widehat{Kurt_{F}}(X)=\\frac{\\frac{1}{n}\\sum_{i=1}^{n}\\left( X_{i}-\\overline{X}^{4} \\right)}{S^{4}}-3$\n",
        "\n",
        "3.1 Функция правдоподобия $L : \\mathfrak{X} \\times \\Theta \\to (0; +\\infty)$\n",
        "\n",
        "$L(x,\\theta)=p_{\\theta}(x), x \\in \\mathfrak{X}, \\theta \\in \\Theta$\n",
        "\n",
        "3.2 Оценка максимального правдоподобия (ОМП):\n",
        "\n",
        "Оценка $\\widehat{\\theta}(X)$, максимизирующая функцию правдоподобия $L(\\overrightarrow{X},\\theta)$ по $\\theta$ при любом фиксированном $X$\n",
        "\n",
        "$L(\\overrightarrow{X}, \\widehat{\\theta}(X)) \\ge L(\\overrightarrow{X}, \\tilde{\\theta}(X))$ для любых $X \\in \\mathfrak{X}, \\tilde{\\theta}(x)$\n",
        "\n",
        "называется оценкой максимального правдоподобия\n",
        "\n",
        "3.3 Функция правдоподобия распадается в произведения: $L(\\overrightarrow{X},\\theta)=\\prod_{i=1}^{n}p_{\\theta}(X_{i})$\n",
        "\n",
        "3.4 Логарифмическая функция правдоподобия: $LL(\\overrightarrow{X},\\theta)=\\ln L(\\overrightarrow{X},\\theta) = \\sum_{i=1}^{n}\\ln p_{\\theta}(X_{i})$\n",
        "\n",
        "3.5 Оценка по методу моментов\n",
        "\n",
        "Если существует единственное решение $\\tilde{\\theta}(X)$ системы уравнений $\\hat{\\mu_k}(\\tilde{\\theta}) = \\mu_k(\\tilde{\\theta})$ для $k = 1,\\dots,d$\n",
        "\n",
        "где $\\theta = (\\theta_1,\\dots,\\theta_d);\\ \\mu_k(\\theta) = \\mathbb{E}_{\\theta}X_1^k;\\  \\hat{\\mu_k}(\\theta) = \\frac{1}{n}\\sum_{i=1}^{n}X_1^k$ - выборочный момент k-ого порядка, то\n",
        "\n",
        "$\\tilde{\\theta}(X)$ - оценка по методу моментов\n",
        "\n",
        "3.6 Смещение оценки: $bias_{\\hat{\\theta}}(\\theta) = \\mathbb{E}\\hat{\\theta}(X) - \\theta$\n",
        "\n",
        "4\\. Асимптотический доверительный интервал\n",
        "\n",
        "4.1 Асимптотическая нормальность в терминах сходимости: $\\sqrt{n}\\left( \\widehat{\\theta}(\\overrightarrow{X})-\\theta)\\right)\\sim \\mathcal{N}\\left(0,\\sigma^{2}(\\theta)\\right)$\n",
        "\n",
        "4.2 Статистика $\\hat{\\Theta}_n = \\left[T_{1,n}(\\overrightarrow{X}), T_{2,n}(\\overrightarrow{X})\\right]$ определенная при любом $n \\in \\mathbb{N}$ такая, что $lim_{n \\to \\infty}P_{\\theta}\\left(\\left[T_{1,n}(\\overrightarrow{X}), T_{2,n}(\\overrightarrow{X})\\right] \\ni \\theta \\right) \\ge 1 - \\alpha$, где $\\alpha \\in (0,1)$ - уровень значимости\n",
        "\n",
        "4.3 Метод построения на базе ОМП\n",
        "\n",
        "При выполнении определенных условий регулярности\n",
        "\n",
        "$\\sqrt{n}\\left( \\hat{\\theta}(\\overrightarrow{X})-\\theta)\\right)\\sim \\mathcal{N}\\left(0,\\frac{1}{I(\\theta)}\\right)$, где $I(\\theta) = \\lim_{n \\to \\infty}I_n(\\theta)/n$ - информация Фишера, а $ I_n(\\theta) = -\\mathbb{E} \\frac{\\partial^{2} LL}{\\partial \\theta^{2}}$\n",
        "\n",
        "Тогда $\\sqrt{nI\\left(\\hat{\\theta}(\\overrightarrow{X}) \\right)}\\ \\left( \\hat{\\theta}(\\overrightarrow{X})-\\theta \\right)\\sim \\mathcal{N}(0,1)$\n",
        "\n",
        "Выберем $x_{\\alpha} : \\Phi(x_{\\alpha}) = 1 - x_{\\alpha}/2$\n",
        "\n",
        "и получим асимптотический доверительный интервал $\\left[ \\hat{\\theta}(\\overrightarrow{X})-\\frac{X_{\\alpha}}{\\sqrt{n I\\left( \\hat{\\theta}(\\overrightarrow{X}) \\right)}};\\ \\hat{\\theta}(\\overrightarrow{X})+\\frac{X_{\\alpha}}{\\sqrt{n I\\left( \\hat{\\theta}(\\overrightarrow{X}) \\right)}} \\right] \\ni \\theta$\n",
        "\n",
        "5\\. Проверка статистических гипотез\n",
        "\n",
        "5.1 Статистическая гипотеза - утверждение  о параметре вида $H: \\theta \\in \\Theta^* \\subseteq \\Theta$\n",
        "\n",
        "Если гипотеза вида $H: \\theta = \\theta^*$, то такая гипотеза называется простой, в ином случае она называется сложной\n",
        "\n",
        "5.2 Классическая постановка задачи\n",
        "- основная (нулевая) гипотеза: $H_0: \\theta \\in \\Theta_0$\n",
        "- альтернативная гипотеза: $H_A: \\theta \\in \\Theta_A$\n",
        "\n",
        "5.3 Статистический критрий (тест) - статистика $\\phi : \\mathfrak{X} \\to [0,1]$, которая определяет вероятность отвергнуть основную гипотезу\n",
        "\n",
        "5.4 Статистика отношения правдоподобия\n",
        "\n",
        "$H_0 : \\theta = \\theta_0;\\  H_A : \\theta = \\theta_1$\n",
        "\n",
        "$LR\\left(\\overrightarrow{X}, \\theta_1, \\theta_0\\right) = \\frac{L\\left(\\overrightarrow{X}, \\theta_1\\right)}{L\\left(\\overrightarrow{X}, \\theta_0\\right)}$\n",
        "\n",
        "5.5 Фундаментальная лемма Неймана - Пирсона\n",
        "\n",
        "Существует наиболее мощный критерий уровня значимости $\\alpha$:\n",
        "\n",
        "$\\phi(x) = 1$, при $LR(X) > c$, $\\phi(x) = p$, при $LR(X) = c$, $\\phi(x) = 0$, при $LR(X) < c$ где $c = const$ и $p \\in [0,1)$ определяются из уровнения $\\mathbb{E}_{\\theta_0}\\phi(X) = P_{\\theta_0}(LR(X) > c) + p*P_{\\theta_0}(LR(X) = c) = \\alpha$\n",
        "\n",
        "5.6 Статистика Колмогорова\n",
        "\n",
        "$D_{n}(\\overrightarrow{X}) = \\overset{}{\\underset{X \\in \\mathbb R}{sup}} |F_{0}(X) - F_{n}(X)|$\n",
        "\n",
        "5.7 Теорема Колмогорова\n",
        "\n",
        "Если гипотеза $H_{0}$ верна, и $F_{0}(X)$ - непрерывная, для любого $t > 0$:\n",
        "\n",
        "$P(\\sqrt{n} D_{n}(\\overrightarrow{X}) \\le t) \\xrightarrow[n \\rightarrow \\infty]{} K(t)$, где\n",
        "\n",
        "$K(t) = функция распределения Колмогорова.\n",
        "\n",
        "Если $D_{n} \\lt t$, то гипотезу принимаем\n",
        "\n",
        "Если $D_{n} \\gt t$, то гипотезу отвергаем\n",
        "\n",
        "5.8 Критерий $\\chi^2$\n",
        "\n",
        "Cтатистика критерия $\\chi^2 = \\sum \\limits_{i=1}^{r} \\frac{(n_{i} - p_{i} n)^{2}}{n p_{i}}$, где $r$ - число интервалов, $p_i = F_0(I_i)$ - гипотетическая вероятность попадания в интервал, $n_{i}$ - экспериментальная частота попадания в интервал\n",
        "\n",
        "Если $x_\\alpha \\ge \\chi^2$, то гипотезу принимаем\n",
        "\n",
        "Если $x_\\alpha \\lt \\chi^2$, то гипотезу отвергаем\n",
        "\n",
        "$x_{\\alpha} : K_{r-1}(x_{\\alpha}) = 1 - \\alpha$, где $K_{r-1}$ - функция распределения $\\chi^2$\n"
      ],
      "metadata": {
        "id": "Clwnlh6Y31Ak"
      }
    },
    {
      "cell_type": "markdown",
      "metadata": {
        "id": "xb7pvj0A3Jtp"
      },
      "source": [
        "## Постановка задачи\n",
        "Для полученных в результате эксперимента наборов данных выполнить статистическую обработку. Полученные результаты содержательно проинтерпретировать."
      ]
    },
    {
      "cell_type": "markdown",
      "metadata": {
        "id": "TT-O2ko-3Jtp"
      },
      "source": [
        "## Выполнение работы"
      ]
    },
    {
      "cell_type": "markdown",
      "source": [
        "### 1. Обработка данных, полученных в первом эксперименте"
      ],
      "metadata": {
        "id": "lmfRLH2m3sh2"
      }
    },
    {
      "cell_type": "code",
      "source": [
        "#Полученные данные\n",
        "data_1 = [3, 0, 3, 2, 3, 6, 0, 1, 11, 1, 0, 4, 4, 5, 0, 7, 2, 15, 0, 0, 5, 3, 2,\n",
        "          0, 4, 10, 4, 7, 0, 0, 2, 1, 0, 8, 0, 0, 0, 2, 7, 0, 0, 3, 1, 2, 1, 0, 0, 6, 6, 8]\n",
        "alpha_1 = 0.02\n",
        "a = 2.31\n",
        "b = 3.69\n",
        "lambda_0 = 3\n",
        "lambda_1 = 6"
      ],
      "metadata": {
        "id": "yQK3OsRI5rgh"
      },
      "execution_count": 385,
      "outputs": []
    },
    {
      "cell_type": "markdown",
      "source": [
        "#### a) Построение вариационного ряда, эмпирической функции распределения и гистограммы частот"
      ],
      "metadata": {
        "id": "xPokhceC6Vwg"
      }
    },
    {
      "cell_type": "code",
      "source": [
        "import numpy as np\n",
        "import matplotlib.pyplot as plt\n",
        "#Вариационный ряд\n",
        "sort_data_1 = data_1.copy()\n",
        "sort_data_1.sort()\n",
        "print(\"Вариационный ряд:\", sort_data_1)"
      ],
      "metadata": {
        "colab": {
          "base_uri": "https://localhost:8080/"
        },
        "id": "7N8O1Ftq6pix",
        "outputId": "ab7eaadd-2f0d-46c0-ae7f-3518153fab24"
      },
      "execution_count": 386,
      "outputs": [
        {
          "output_type": "stream",
          "name": "stdout",
          "text": [
            "Вариационный ряд: [0, 0, 0, 0, 0, 0, 0, 0, 0, 0, 0, 0, 0, 0, 0, 0, 0, 1, 1, 1, 1, 1, 2, 2, 2, 2, 2, 2, 3, 3, 3, 3, 3, 4, 4, 4, 4, 5, 5, 6, 6, 6, 7, 7, 7, 8, 8, 10, 11, 15]\n"
          ]
        }
      ]
    },
    {
      "cell_type": "code",
      "source": [
        "#Эмпирическая функция распределения\n",
        "values, edges = np.histogram(data_1, bins=len(data_1))\n",
        "Y = values.cumsum() / len(data_1)\n",
        "plt.title(\"Эмпирическая функция распределения\")\n",
        "for i in range(len(Y)):\n",
        "    plt.plot([edges[i], edges[i+1]],[Y[i], Y[i]],color='green')\n",
        "plt.show()"
      ],
      "metadata": {
        "colab": {
          "base_uri": "https://localhost:8080/",
          "height": 452
        },
        "id": "W9Tb_MPEDAAd",
        "outputId": "93a7038d-6091-4e8b-a05e-3ec716ed02de"
      },
      "execution_count": 387,
      "outputs": [
        {
          "output_type": "display_data",
          "data": {
            "text/plain": [
              "<Figure size 640x480 with 1 Axes>"
            ],
            "image/png": "[encoded data removed]"
          },
          "metadata": {}
        }
      ]
    },
    {
      "cell_type": "code",
      "source": [
        "#Гистограмма частот\n",
        "fig, ax = plt.subplots()\n",
        "ax.hist(data_1, bins = range(min(data_1), max(data_1) + 1))\n",
        "plt.title(\"Гистограмма частот\")\n",
        "plt.show()"
      ],
      "metadata": {
        "colab": {
          "base_uri": "https://localhost:8080/",
          "height": 452
        },
        "id": "A4t5d2EeDCoT",
        "outputId": "fba29866-e02e-4451-b7c5-db46bb8821b2"
      },
      "execution_count": 388,
      "outputs": [
        {
          "output_type": "display_data",
          "data": {
            "text/plain": [
              "<Figure size 640x480 with 1 Axes>"
            ],
            "image/png": "[encoded data removed]"
          },
          "metadata": {}
        }
      ]
    },
    {
      "cell_type": "markdown",
      "source": [
        "#### b) Вычисление выборочных аналогов числовых характеристик"
      ],
      "metadata": {
        "id": "tWoaIZSpVQ7L"
      }
    },
    {
      "cell_type": "code",
      "source": [
        "import scipy.stats as sps\n",
        "#Мат. ожидание\n",
        "mean = np.mean(data_1)\n",
        "print(\"Математическое ожидание:\", mean)\n",
        "#Дисперсия\n",
        "var = np.var(data_1)\n",
        "print(\"Дисперсия:\", var)\n",
        "#СКО\n",
        "std = np.sqrt(var)\n",
        "print(\"СКО:\", std)\n",
        "#Медиана\n",
        "dist_1 = sps.rv_discrete(name='dist_1', values=(data_1, [1/len(data_1)] * len(data_1)))\n",
        "print(\"Медиана:\", dist_1.median())\n",
        "#Асимметрия\n",
        "print(\"Асимметрия:\", sps.skew(data_1))\n",
        "#Эксцесс\n",
        "print(\"Эксцесс:\", sps.kurtosis(data_1))\n",
        "#Вероятность попадания в отрезок\n",
        "print(\"Вероятность попадания в отрезок [a, b]:\", (np.sum(np.array(data_1) <= b) - np.sum(np.array(data_1) <= a)) / len(data_1))"
      ],
      "metadata": {
        "colab": {
          "base_uri": "https://localhost:8080/"
        },
        "id": "r5hIxAnRWJV8",
        "outputId": "58f3d828-3ad3-4e8f-8027-e7c84df0186c"
      },
      "execution_count": 389,
      "outputs": [
        {
          "output_type": "stream",
          "name": "stdout",
          "text": [
            "Математическое ожидание: 2.98\n",
            "Дисперсия: 11.4596\n",
            "СКО: 3.3852030958274866\n",
            "Медиана: 2.0\n",
            "Асимметрия: 1.3689965591688007\n",
            "Эксцесс: 1.752281032684766\n",
            "Вероятность попадания в отрезок [a, b]: 0.1\n"
          ]
        }
      ]
    },
    {
      "cell_type": "markdown",
      "source": [
        "#### c) Построение ОМП и ОММ, нахождение смещений"
      ],
      "metadata": {
        "id": "LIEcb-W2kB9v"
      }
    },
    {
      "cell_type": "markdown",
      "source": [
        "Предполагается, что исходные наблюдения $X_1, X_2, \\dots, X_n$ являются выборкой из распределения $Pois(\\lambda)$\n",
        "\n",
        "$q_{\\theta}(x) = \\frac{\\lambda^x}{x!}\\exp(-\\lambda)$\n",
        "\n",
        "Оцениваемый параметр: $\\theta = \\lambda$\n",
        "\n",
        "Оценка по методу максимального правдоподобия:\n",
        "\n",
        "$L\\left(\\overrightarrow{X}, \\theta\\right) = \\prod_{i=1}^{n}\\frac{\\lambda^{x_i}}{x_i!}\\exp(-\\lambda) = \\exp(-n\\lambda)\\lambda^{\\sum_{i=1}^{n}{x_i}}\\prod_{i=1}^{n}\\frac{1}{x_i!}$\n",
        "\n",
        "$LL\\left(\\overrightarrow{X}, \\theta\\right) = -n\\lambda + \\sum_{i=1}^{n}x_i\\ \\ln\\lambda + \\ln\\prod_{i=1}^{n}\\frac{1}{x_i!}$\n",
        "\n",
        "$\\frac{\\partial LL\\left(\\overrightarrow X,\\ \\theta\\right)}{\\partial \\theta} = -n + \\frac{\\sum_{i=1}^{n}x_i}{\\lambda} = 0 \\implies \\hat{\\theta} = \\hat{\\lambda} = \\bar{X}$\n",
        "\n",
        "Смещение:\n",
        "\n",
        "$\\mathbb{E}_\\theta\\hat{\\lambda} = \\mathbb{E}_\\theta\\bar{X} = \\frac{1}{n}\\mathbb{E}_\\theta\\sum_{i=1}^{n}x_i = \\frac{1}{n}\\sum_{i=1}^{n}\\mathbb{E}_\\theta x_i = \\frac{1}{n} n \\lambda = \\lambda \\implies $ оценка несмещенная\n",
        "\n",
        "Оценка по методу моментов:\n",
        "\n",
        "$\\mathbb{E}_\\theta X_1 = \\lambda$\n",
        "\n",
        "Выборочный момент первого порядка: $M_1 = \\frac{1}{n}\\sum_{i=1}^{n}x_i = \\bar{X}$\n",
        "\n",
        "Решаем уравнение: $\\lambda = \\bar{X} \\implies \\hat{\\lambda} = \\bar{X}$\n",
        "\n",
        "ОММ совпала с ОМП и следовательно также является несмещенной.\n",
        "\n",
        "Численное значение оценок: $\\hat{\\lambda} = \\bar{X} = 2.98$"
      ],
      "metadata": {
        "id": "y_i8P2pOkQsg"
      }
    },
    {
      "cell_type": "markdown",
      "source": [
        "#### d) Построение асимптотического доверительного интервала уровня значимости $\\alpha_1 = 0.02$ для параметра $\\lambda$ на базе ОМП"
      ],
      "metadata": {
        "id": "l7iwX7dhsjwT"
      }
    },
    {
      "cell_type": "markdown",
      "source": [
        "ОМП: $\\hat{\\theta}\\left(\\overrightarrow{X}\\right) = \\bar{X}$\n",
        "\n",
        "$\\sqrt{n}\\left(\\bar{X} - \\theta\\right) \\sim \\mathcal{N} \\left(0, \\frac{1}{I(\\theta))}\\right)$\n",
        "\n",
        "$I_n(\\theta) = -\\mathbb{E}_{\\theta}\\frac{\\partial^2 LL\\left(\\overrightarrow X,\\ \\theta\\right)}{\\partial \\theta^2} = \\mathbb{E}_{\\theta}\\frac{\\sum_{i=1}^{n}{x_i}}{\\lambda^2} = \\frac{n\\lambda}{\\lambda^2} = \\frac{n}{\\lambda}$\n",
        "\n",
        "$I(\\theta) = {\\lim_{n \\to \\infty}}\\frac{1}{\\lambda} = \\frac{1}{\\lambda}$\n",
        "\n",
        "\n",
        "$\\sqrt{\\frac{n}{\\bar{X}}}\\left(\\bar{X} - \\theta\\right) \\sim \\mathcal{N} \\left(0, 1\\right)$\n",
        "\n",
        "Возьмем такое $x_\\alpha$, что $\\Phi(x_\\alpha) = 1 - \\frac{\\alpha}{2} = 0.99$"
      ],
      "metadata": {
        "id": "1iOwe05yIbFP"
      }
    },
    {
      "cell_type": "code",
      "source": [
        "print(sps.norm.ppf(0.99))"
      ],
      "metadata": {
        "colab": {
          "base_uri": "https://localhost:8080/"
        },
        "id": "xl7bP-00f5yU",
        "outputId": "75e2a546-c710-4a1f-c79b-a21aa1845938"
      },
      "execution_count": 390,
      "outputs": [
        {
          "output_type": "stream",
          "name": "stdout",
          "text": [
            "2.3263478740408408\n"
          ]
        }
      ]
    },
    {
      "cell_type": "markdown",
      "source": [
        "$x_\\alpha \\approx 2.236$\n",
        "\n",
        "Тогда $P_\\theta\\left(-x_\\alpha \\le \\sqrt{\\frac{n}{\\bar{X}}}\\left(\\bar{X} - \\theta\\right) \\le x_\\alpha\\right) \\approx 1 - \\alpha = 0.98$\n",
        "\n",
        "$\\left[\\bar{X} - x_\\alpha\\sqrt{\\frac{\\bar{X}}{n}}, \\bar{X} + x_\\alpha\\sqrt{\\frac{\\bar{X}}{n}}\\right] \\ni \\lambda$\n",
        "\n",
        "\n",
        "$\\left[2.98 - 2.236\\sqrt{\\frac{2.98}{50}}, 2.98 + 2.236\\sqrt{\\frac{2.98}{50}}\\right] \\ni \\lambda$\n",
        "\n",
        "$\\left[2.98 - 2.236\\sqrt{\\frac{2.98}{50}}, 2.98 + 2.236\\sqrt{\\frac{2.98}{50}}\\right] \\ni \\lambda$\n",
        "\n",
        "$\\left[2.412, 3.548\\right] \\ni \\lambda$"
      ],
      "metadata": {
        "id": "ZEcILXMtf-tS"
      }
    },
    {
      "cell_type": "markdown",
      "source": [
        "#### e) Построение критерия значимости $\\chi^2$ проверки простой гипотезы согласия с распределением Пуассона с параметром  $\\lambda_0$. Проверка гипотезы на уровне значимости $\\alpha_1$. Вычисление наибольшего значения уровня значимости, на котором ещё нет оснований отвергнуть данную гипотезу"
      ],
      "metadata": {
        "id": "6s-3sAhF26Nf"
      }
    },
    {
      "cell_type": "markdown",
      "source": [
        "Пусть данная выборка $X_1, X_2, \\dots, X_n$ - выборка из распределения с функцией распределения F.\n",
        "\n",
        "Основная гипотеза: $H_0 : F \\equiv Pois(\\lambda_0)$\n",
        "\n",
        "Альтернативная гипотеза: $H_A : \\exists x : F(x) \\neq F_{Pois(\\lambda_0)}(x)$\n",
        "\n",
        "Вычисление статистики критерия $\\chi^2$ c перегруппировкой выборки:"
      ],
      "metadata": {
        "id": "GL6Wy6cr31oT"
      }
    },
    {
      "cell_type": "code",
      "source": [
        "cur_lambda = lambda_0\n",
        "intervals = [[0], [1, 2], [3, 4], [5, 6, 7], range(8, 16)]\n",
        "freq = [0] * len(intervals) #экспереметальные частоты\n",
        "freq_pois = [0] * len(intervals) #Гипотетические частоты\n",
        "print(\"x          | Частота | Гипотетическая частота\")\n",
        "for i in range(len(intervals)):\n",
        "  a = intervals[i][0]\n",
        "  b = intervals[i][-1]\n",
        "  for val in intervals[i]:\n",
        "    freq[i] += data_1.count(val)\n",
        "    freq_pois[i] += len(data_1) * sps.poisson.pmf(val, cur_lambda)\n",
        "  if (i == len(intervals) - 1):\n",
        "    freq_pois[i] += len(data_1) * sps.poisson.sf(b, cur_lambda)\n",
        "    print('[', a, \", +inf)\\t\", freq[i], \"\\t\", freq_pois[i])\n",
        "  else:\n",
        "    print('[', a, ',', b, \"]\\t\", freq[i], \"\\t\", freq_pois[i])\n",
        "freq = np.array(freq)\n",
        "freq_pois = np.array(freq_pois)\n",
        "chi_square = np.sum((freq - freq_pois) ** 2 / freq_pois)\n",
        "print(\"Статистика хи-квадрат равна:\", chi_square)"
      ],
      "metadata": {
        "colab": {
          "base_uri": "https://localhost:8080/"
        },
        "id": "tk22WKtQ9UfP",
        "outputId": "17b71d6b-fcca-4ca1-a00f-f780416d61a2"
      },
      "execution_count": 391,
      "outputs": [
        {
          "output_type": "stream",
          "name": "stdout",
          "text": [
            "x          | Частота | Гипотетическая частота\n",
            "[ 0 , 0 ]\t 17 \t 2.4893534183931973\n",
            "[ 1 , 2 ]\t 11 \t 18.67015063794898\n",
            "[ 3 , 4 ]\t 9 \t 19.60365816984643\n",
            "[ 5 , 7 ]\t 8 \t 8.641612580993531\n",
            "[ 8 , +inf)\t 5 \t 0.5952251928178697\n",
            "Статистика хи-квадрат равна: 126.11415409619627\n"
          ]
        }
      ]
    },
    {
      "cell_type": "markdown",
      "source": [
        "Для составления критерия уровня значимости $\\alpha_1$ необходимо найти $x_{\\alpha_1}$\n",
        "\n",
        "$x_{\\alpha_1} : K_{r-1}(x_{\\alpha_1}) = 1 - \\alpha_1$"
      ],
      "metadata": {
        "id": "oFQiI4JehkJU"
      }
    },
    {
      "cell_type": "code",
      "source": [
        "print(\"x_alpha_1 равен:\", sps.chi2.ppf(1 - alpha_1, df = len(freq) - 1))"
      ],
      "metadata": {
        "colab": {
          "base_uri": "https://localhost:8080/"
        },
        "id": "78b0omAgiZKQ",
        "outputId": "6335ef85-11ee-4775-b685-284f581d9742"
      },
      "execution_count": 392,
      "outputs": [
        {
          "output_type": "stream",
          "name": "stdout",
          "text": [
            "x_alpha_1 равен: 11.667843403834778\n"
          ]
        }
      ]
    },
    {
      "cell_type": "markdown",
      "source": [
        "$\\chi^2 \\approx 126.1$\n",
        "\n",
        "$x_{\\alpha_1} \\approx 11.7$\n",
        "\n",
        "$\\chi^2 > x_{\\alpha_1}$ следовательно гипотеза $H_0$ отвергается"
      ],
      "metadata": {
        "id": "xTjClUqbi9HM"
      }
    },
    {
      "cell_type": "code",
      "source": [
        "print(\"x_alpha при уровне значимости alpha = 10^(-16) равен:\", sps.chi2.ppf(1 - 10 ** (-16), df = len(freq) - 1))"
      ],
      "metadata": {
        "colab": {
          "base_uri": "https://localhost:8080/"
        },
        "id": "UkFSufDzkMb-",
        "outputId": "37fe4050-6f3e-4b5e-d7c1-c00486812e3a"
      },
      "execution_count": 393,
      "outputs": [
        {
          "output_type": "stream",
          "name": "stdout",
          "text": [
            "x_alpha при уровне значимости alpha = 10^(-16) равен: 80.92313496617493\n"
          ]
        }
      ]
    },
    {
      "cell_type": "markdown",
      "source": [
        "Наибольшее значение уровня значимости, при котором ещё нет оснований отвергнуть данную гипотезу, чрезвычайно мало, много меньше, чем $10^{-16}$."
      ],
      "metadata": {
        "id": "ApXiqv2HkuRy"
      }
    },
    {
      "cell_type": "markdown",
      "source": [
        "#### f) Построение критерия значимости $\\chi^2$ проверки сложной гипотезы согласия с распределением Пуассона. Проверка гипотезы на уровне значимости $\\alpha_1$. Вычисление наибольшего значения уровня значимости, на котором ещё нет оснований отвергнуть данную гипотезу"
      ],
      "metadata": {
        "id": "wMsQSetmmG5T"
      }
    },
    {
      "cell_type": "markdown",
      "source": [
        "Пусть данная выборка $X_1, X_2, \\dots, X_n$ - выборка из распределения с функцией распределения F.\n",
        "\n",
        "Основная гипотеза: $H_0 : F \\in \\left\\{Pois(\\theta) : \\theta \\in \\Theta_0 \\right\\}$\n",
        "\n",
        "Альтернативная гипотеза: $H_A : F \\notin \\left\\{Pois(\\theta) : \\theta \\in \\Theta_0 \\right\\}$\n",
        "\n",
        "В качестве оценки неизвестного параметра $\\theta$ возьмем ОМП: $\\hat{\\theta} = \\bar{X}$\n",
        "\n",
        "Вычисление статистики критерия $\\hat{\\chi}^2$ c перегруппировкой выборки:"
      ],
      "metadata": {
        "id": "BPfm2-RDh0Vx"
      }
    },
    {
      "cell_type": "code",
      "source": [
        "cur_lambda = mean\n",
        "intervals = [[0], [1, 2], [3, 4], [5, 6, 7], range(8, 16)]\n",
        "freq = [0] * len(intervals) #экспереметальные частоты\n",
        "freq_pois = [0] * len(intervals) #Гипотетические частоты\n",
        "print(\"x          | Частота | Гипотетическая частота\")\n",
        "for i in range(len(intervals)):\n",
        "  a = intervals[i][0]\n",
        "  b = intervals[i][-1]\n",
        "  for val in intervals[i]:\n",
        "    freq[i] += data_1.count(val)\n",
        "    freq_pois[i] += len(data_1) * sps.poisson.pmf(val, cur_lambda)\n",
        "  if (i == len(intervals) - 1):\n",
        "    freq_pois[i] += len(data_1) * sps.poisson.sf(b, cur_lambda)\n",
        "    print('[', a, \", +inf)\\t\", freq[i], \"\\t\", freq_pois[i])\n",
        "  else:\n",
        "    print('[', a, ',', b, \"]\\t\", freq[i], \"\\t\", freq_pois[i])\n",
        "freq = np.array(freq)\n",
        "freq_pois = np.array(freq_pois)\n",
        "chi_square = np.sum((freq - freq_pois) ** 2 / freq_pois)\n",
        "print(\"Статистика хи-квадрат равна:\", chi_square)"
      ],
      "metadata": {
        "colab": {
          "base_uri": "https://localhost:8080/"
        },
        "id": "PvHUeMWl1LSJ",
        "outputId": "8f3cb9ae-935c-448b-ff50-c11c79c95d4a"
      },
      "execution_count": 394,
      "outputs": [
        {
          "output_type": "stream",
          "name": "stdout",
          "text": [
            "x          | Частота | Гипотетическая частота\n",
            "[ 0 , 0 ]\t 17 \t 2.539641693244925\n",
            "[ 1 , 2 ]\t 11 \t 18.84464929221599\n",
            "[ 3 , 4 ]\t 9 \t 19.54633876423481\n",
            "[ 5 , 7 ]\t 8 \t 8.495462477024276\n",
            "[ 8 , +inf)\t 5 \t 0.5739077732799895\n",
            "Статистика хи-квадрат равна: 125.45493893706897\n"
          ]
        }
      ]
    },
    {
      "cell_type": "markdown",
      "source": [
        "Для составления критерия уровня значимости $\\alpha_1$ необходимо найти $x_{\\alpha_1}$\n",
        "\n",
        "$x_{\\alpha_1} : K_{r-d-1}(x_{\\alpha_1}) = 1 - \\alpha_1$"
      ],
      "metadata": {
        "id": "6Rv4XxY7j_Ld"
      }
    },
    {
      "cell_type": "code",
      "source": [
        "print(\"x_alpha_1 равен:\", sps.chi2.ppf(1 - alpha_1, df = len(freq) - 2))"
      ],
      "metadata": {
        "colab": {
          "base_uri": "https://localhost:8080/"
        },
        "id": "vEqJeh1Cj-m2",
        "outputId": "d77b0058-c804-4ee2-a773-f129f327af18"
      },
      "execution_count": 395,
      "outputs": [
        {
          "output_type": "stream",
          "name": "stdout",
          "text": [
            "x_alpha_1 равен: 9.837409311192593\n"
          ]
        }
      ]
    },
    {
      "cell_type": "markdown",
      "source": [
        "$\\hat{\\chi^2} \\approx 125.5$\n",
        "\n",
        "$x_{\\alpha_1} \\approx 9.8$\n",
        "\n",
        "$\\hat{\\chi^2} > x_{\\alpha_1}$ следовательно гипотеза $H_0$ отвергается"
      ],
      "metadata": {
        "id": "_alpmoawkOwK"
      }
    },
    {
      "cell_type": "code",
      "source": [
        "print(\"x_alpha при уровне значимости alpha = 10^(-16) равен:\", sps.chi2.ppf(1 - 10 ** (-16), df = len(freq) - 2))"
      ],
      "metadata": {
        "colab": {
          "base_uri": "https://localhost:8080/"
        },
        "id": "D4akZugBka-9",
        "outputId": "5198243e-b93f-41a1-d6ef-0104ac58bcc2"
      },
      "execution_count": 396,
      "outputs": [
        {
          "output_type": "stream",
          "name": "stdout",
          "text": [
            "x_alpha при уровне значимости alpha = 10^(-16) равен: 77.39631549062088\n"
          ]
        }
      ]
    },
    {
      "cell_type": "markdown",
      "source": [
        "Наибольшее значение уровня значимости, при котором ещё нет оснований отвергнуть данную гипотезу, чрезвычайно мало, много меньше, чем $10^{-16}$."
      ],
      "metadata": {
        "id": "NjQqFebGkZ-C"
      }
    },
    {
      "cell_type": "markdown",
      "source": [
        "#### g) Построение наиболее мощного критерия проверки простой гипотезы пуассоновости с параметром $\\lambda_0$ при альтернативе пуассоновости с параметром $\\lambda_1$. Проверка гипотезы на уровне значимости $\\alpha_1$\n"
      ],
      "metadata": {
        "id": "VFEPujOppqeO"
      }
    },
    {
      "cell_type": "markdown",
      "source": [
        "Основная гипотеза: $H_0 : \\lambda = \\lambda_0$\n",
        "\n",
        "Альтернативная гипотеза: $H_A : \\lambda = \\lambda_1$\n",
        "\n",
        "Функция правдоподобия имеет вид:\n",
        "\n",
        "$L\\left(\\overrightarrow{X}, \\theta\\right) = \\prod_{i=1}^{n}\\frac{\\lambda^{x_i}}{x_i!}\\exp(-\\lambda) = \\exp(-n\\lambda)\\lambda^{\\sum_{i=1}^{n}{x_i}}\\prod_{i=1}^{n}\\frac{1}{x_i!}$\n",
        "\n",
        "Тогда статистика отношения правдоподобия имеет вид:\n",
        "\n",
        "$LR\\left(\\overrightarrow{X}, \\lambda_0, \\lambda_1\\right) = \\frac{L\\left(\\overrightarrow{X}, \\lambda_1\\right)}{L\\left(\\overrightarrow{X}, \\lambda_0\\right)} = \\exp(-n(\\lambda_1 - \\lambda_0))\\left(\\frac{\\lambda_1}{\\lambda_0}\\right)^{\\sum_{i=1}^{n}{x_i}}$\n",
        "\n",
        "Так как $LR\\left(\\overrightarrow{X}, \\lambda_0, \\lambda_1\\right)$ монотонна относительно МДС $\\bar{X}$\n",
        "\n",
        "$LR\\left(\\overrightarrow{X}\\right) = \\exp(-n(\\lambda_1 - \\lambda_0))\\left(\\frac{\\lambda_1}{\\lambda_0}\\right)^{\\sum_{i=1}^{n}{x_i}} > c \\iff -n(\\lambda_1 - \\lambda_0) + \\sum_{i=1}^{n}{x_i} \\ln\\frac{\\lambda_1}{\\lambda_0} > \\ln c \\iff \\bar{X} > \\frac{\\ln c + n(\\lambda_1 - \\lambda_0)}{n\\ln\\frac{\\lambda_1}{\\lambda_0}} = c^*$\n",
        "\n",
        "$LR\\left(\\overrightarrow{X}\\right) < c \\iff \\bar{X} < c^*$\n",
        "\n",
        "Решим уравнение: $P_{\\lambda_0}\\left(LR(\\overrightarrow{X}) > c\\right) + pP_{\\lambda_0}\\left(LR(\\overrightarrow{X}) = c\\right) = \\alpha_1$\n",
        "\n",
        "$P_{\\lambda_0}\\left(n\\bar{X} > nc^*\\right) + pP_{\\lambda_0}\\left(n\\bar{X} = nc^*\\right) = \\alpha_1$\n",
        "\n",
        "Критерий не определен однозначно при $LR(\\overrightarrow{X}) = c$\n",
        "\n",
        "Пусть $LR(\\overrightarrow{X}) \\neq c$\n",
        "\n",
        "Тогда $P_{\\lambda_0}\\left(n\\bar{X} > nc^*\\right) = 1 - F_{Pois(n\\lambda_0)}\\left(nc^*\\right) = \\alpha_1$\n",
        "\n",
        "$F_{Pois(n\\lambda_0)}\\left(nc^*\\right) = 1 - \\alpha_1 = 0.98$"
      ],
      "metadata": {
        "id": "1T-PQV6xPCp4"
      }
    },
    {
      "cell_type": "code",
      "source": [
        "print(\"c^* = \", sps.poisson.ppf(0.98, len(data_1)*lambda_0) / len(data_1))"
      ],
      "metadata": {
        "colab": {
          "base_uri": "https://localhost:8080/"
        },
        "id": "IrDmJX1wK3sU",
        "outputId": "4c0b1fa2-8b6b-414f-b8c7-fa1e3a40eda4"
      },
      "execution_count": 397,
      "outputs": [
        {
          "output_type": "stream",
          "name": "stdout",
          "text": [
            "c^* =  3.52\n"
          ]
        }
      ]
    },
    {
      "cell_type": "markdown",
      "source": [
        "$c^* = 3.52$\n",
        "\n",
        "$\\bar{X} = 2.98$\n",
        "\n",
        "$c^* > \\bar{X}$ следовательно принимаем гипотезу $H_0$\n",
        "\n",
        "Поменяем гипотезы местами\n",
        "\n",
        "Основная гипотеза: $H_0 : \\lambda = \\lambda_1$\n",
        "\n",
        "Альтернативная гипотеза: $H_A : \\lambda = \\lambda_0$\n",
        "\n",
        "Тогда статистика отношения правдоподобия имеет вид:\n",
        "\n",
        "$LR\\left(\\overrightarrow{X}, \\lambda_1, \\lambda_0\\right) = \\frac{L\\left(\\overrightarrow{X}, \\lambda_0\\right)}{L\\left(\\overrightarrow{X}, \\lambda_1\\right)} = \\exp(-n(\\lambda_0 - \\lambda_1))\\left(\\frac{\\lambda_0}{\\lambda_1}\\right)^{\\sum_{i=1}^{n}{x_i}}$\n",
        "\n",
        "Так как $LR\\left(\\overrightarrow{X}, \\lambda_1, \\lambda_0\\right)$ монотонна относительно МДС $\\bar{X}$\n",
        "\n",
        "$LR\\left(\\overrightarrow{X}\\right) > c \\iff \\bar{X} > c^*$\n",
        "\n",
        "Решим уравнение: $P_{\\lambda_1}\\left(LR(\\overrightarrow{X}) > c\\right) + pP_{\\lambda_1}\\left(LR(\\overrightarrow{X}) = c\\right) = \\alpha_1$\n",
        "\n",
        "$P_{\\lambda_1}\\left(n\\bar{X} > nc^*\\right) + pP_{\\lambda_1}\\left(n\\bar{X} = nc^*\\right) = \\alpha_1$\n",
        "\n",
        "Критерий не определен однозначно при $LR(\\overrightarrow{X}) = c$\n",
        "\n",
        "Пусть $LR(\\overrightarrow{X}) \\neq c$\n",
        "\n",
        "Тогда $P_{\\lambda_1}\\left(n\\bar{X} > nc^*\\right) = 1 - F_{Pois(n\\lambda_1)}\\left(nc^*\\right) = \\alpha_1$\n",
        "\n",
        "$F_{Pois(n\\lambda_1)}\\left(nc^*\\right) = 1 - \\alpha_1 = 0.98$"
      ],
      "metadata": {
        "id": "hsbyOY8rtuWL"
      }
    },
    {
      "cell_type": "code",
      "source": [
        "print(\"c^* = \", sps.poisson.ppf(0.98, len(data_1)*lambda_1) / len(data_1))"
      ],
      "metadata": {
        "colab": {
          "base_uri": "https://localhost:8080/"
        },
        "id": "HeN1jcRovkxk",
        "outputId": "a791976b-8749-49d0-e9bd-9cf40f33dcfa"
      },
      "execution_count": 398,
      "outputs": [
        {
          "output_type": "stream",
          "name": "stdout",
          "text": [
            "c^* =  6.72\n"
          ]
        }
      ]
    },
    {
      "cell_type": "markdown",
      "source": [
        "$c^* = 6.72$\n",
        "\n",
        "$\\bar{X} = 2.98$\n",
        "\n",
        "$c^* > \\bar{X}$ следовательно принимаем гипотезу $H_0$"
      ],
      "metadata": {
        "id": "P01p3gwHvkfJ"
      }
    },
    {
      "cell_type": "markdown",
      "source": [
        "#### h) Повторение пунктов (c)-(f) с заменой распределения Пуассона на семейство геометрических"
      ],
      "metadata": {
        "id": "35X1YwTBSK-P"
      }
    },
    {
      "cell_type": "markdown",
      "source": [
        "##### i) Построение ОМП и ОММ, нахождение смещений"
      ],
      "metadata": {
        "id": "IxdF2hASorHv"
      }
    },
    {
      "cell_type": "markdown",
      "source": [
        "$q_{\\theta}(x) = \\frac{\\lambda^x}{(\\lambda + 1)^{x+1}}$, где $x \\in \\mathbb{Z}_{+}$\n",
        "\n",
        "Оцениваемый параметр: $\\theta = \\lambda$\n",
        "\n",
        "Оценка по методу максимального правдоподобия:\n",
        "\n",
        "$L\\left(\\overrightarrow{X}, \\theta\\right) = \\prod_{i=1}^{n}\\frac{\\lambda^{x_i}}{(\\lambda + 1)^{x_i+1}} = \\frac{\\lambda^{\\sum_{i=1}^{n}x_i}}{(\\lambda + 1)^{n + \\sum_{i=1}^{n}x_i}}$\n",
        "\n",
        "$LL\\left(\\overrightarrow{X}, \\theta\\right) = \\sum_{i=1}^{n}x_i\\ \\ln\\lambda - \\left(n + \\sum_{i=1}^{n}x_i\\right)\\ln(\\lambda+1)$\n",
        "\n",
        "$\\frac{\\partial LL\\left(\\overrightarrow X,\\ \\theta\\right)}{\\partial \\theta} = \\frac{\\sum_{i=1}^{n}x_i}{\\lambda} - \\frac{n + \\sum_{i=1}^{n}x_i}{\\lambda + 1} = 0 \\implies n\\lambda+\\lambda\\sum_{i=1}^{n}x_i = \\lambda\\sum_{i=1}^{n}x_i + \\sum_{i=1}^{n}x_i \\implies \\hat{\\theta} = \\hat{\\lambda} = \\bar{X}$\n",
        "\n",
        "Смещение:\n",
        "\n",
        "$\\mathbb{E}_\\theta\\hat{\\lambda} = \\mathbb{E}_\\theta\\bar{X} = \\frac{1}{n}\\mathbb{E}_\\theta\\sum_{i=1}^{n}x_i = \\frac{1}{n}\\sum_{i=1}^{n}\\mathbb{E}_\\theta x_i = \\mathbb{E}_\\theta x_1 = \\sum_{i=1}^{\\infty}x_i\\frac{\\lambda^{x_i}}{(\\lambda + 1)^{x_i + 1}} = \\lim_{n \\to \\infty} \\sum_{i=1}^{n}x_i\\frac{\\lambda^{x_i}}{(\\lambda + 1)^{x_i + 1}} = \\\\ = \\lim_{n \\to \\infty} \\sum_{x=0}^{n-1}x\\frac{\\lambda^{x}}{(\\lambda + 1)^{x + 1}} = \\lim_{n \\to \\infty} \\left(\\lambda - \\lambda\\left(\\frac{\\lambda}{\\lambda + 1}\\right)^{n} - n\\left(\\frac{\\lambda}{\\lambda + 1}\\right)^{n}\\right) = \\lambda \\implies$\n",
        "\n",
        "$\\implies$ оценка несмещенная\n",
        "\n",
        "Оценка по методу моментов:\n",
        "\n",
        "$\\mathbb{E}_\\theta X_1 = \\lambda$\n",
        "\n",
        "Выборочный момент первого порядка: $M_1 = \\frac{1}{n}\\sum_{i=1}^{n}x_i = \\bar{X}$\n",
        "\n",
        "Решаем уравнение: $\\lambda = \\bar{X} \\implies \\hat{\\lambda} = \\bar{X}$\n",
        "\n",
        "ОММ совпала с ОМП и следовательно также является несмещенной.\n",
        "\n",
        "Численное значение оценок: $\\hat{\\lambda} = \\bar{X} = 2.98$"
      ],
      "metadata": {
        "id": "jCh7SO5kpkD1"
      }
    },
    {
      "cell_type": "markdown",
      "source": [
        "##### ii) Построение асимптотического доверительного интервала уровня значимости $\\alpha_1 = 0.02$ для параметра $\\lambda$ на базе ОМП"
      ],
      "metadata": {
        "id": "lbI7jeIho3gu"
      }
    },
    {
      "cell_type": "markdown",
      "source": [
        "ОМП: $\\hat{\\theta}\\left(\\overrightarrow{X}\\right) = \\bar{X}$\n",
        "\n",
        "$\\sqrt{n}\\left(\\bar{X} - \\theta\\right) \\sim \\mathcal{N} \\left(0, \\frac{1}{I(\\theta))}\\right)$\n",
        "\n",
        "$I_n(\\theta) = -\\mathbb{E}_{\\theta}\\frac{\\partial^2 LL\\left(\\overrightarrow X,\\ \\theta\\right)}{\\partial \\theta^2} = \\mathbb{E}_{\\theta}\\left(\\frac{\\sum_{i=1}^{n}{x_i}}{\\lambda^2} - \\frac{n + \\sum_{i=1}^{n}{x_i}}{(\\lambda + 1)^2}\\right) = \\frac{1}{\\lambda^2}\\sum_{i=1}^{n}\\mathbb{E}_{\\theta}{x_i} - \\frac{1}{(\\lambda+1)^2}\\sum_{i=1}^{n}\\mathbb{E}_{\\theta}{x_i} - \\frac{n}{(\\lambda+1)^2} = \\frac{n}{\\lambda} - \\frac{n\\lambda}{(\\lambda+1)^2} - \\frac{n}{(\\lambda+1)^2}$\n",
        "\n",
        "$I(\\theta) = {\\lim_{n \\to \\infty}}\\frac{1}{\\lambda} - \\frac{\\lambda}{(\\lambda+1)^2} - \\frac{1}{(\\lambda+1)^2} = \\frac{1}{\\lambda} - \\frac{1}{\\lambda+1}$\n",
        "\n",
        "$I(\\hat{\\theta}) = \\frac{1}{\\bar{X}} - \\frac{1}{1 + \\bar{X}} = \\frac{1}{\\bar{X}(\\bar{X} + 1)}$\n",
        "\n",
        "$\\sqrt{\\frac{n}{\\bar{X}(\\bar{X} + 1)}}\\left(\\bar{X} - \\theta\\right) \\sim \\mathcal{N} \\left(0, 1\\right)$\n",
        "\n",
        "Возьмем такое $x_\\alpha$, что $\\Phi(x_\\alpha) = 1 - \\frac{\\alpha}{2} = 0.99$\n",
        "\n",
        "Тогда $P_\\theta\\left(-x_\\alpha \\le \\sqrt{\\frac{n}{\\bar{X}(\\bar{X} + 1)}}\\left(\\bar{X} - \\theta\\right) \\le x_\\alpha\\right) \\approx 1 - \\alpha = 0.98$\n",
        "\n",
        "$\\left[\\bar{X} - x_\\alpha\\sqrt{\\frac{\\bar{X}(\\bar{X}+1)}{n}}, \\bar{X} + x_\\alpha\\sqrt{\\frac{\\bar{X}(\\bar{X}+1)}{n}}\\right] \\ni \\lambda$"
      ],
      "metadata": {
        "id": "_0_PKPB7x571"
      }
    },
    {
      "cell_type": "code",
      "source": [
        "x_alpha = sps.norm.ppf(0.99)\n",
        "print(\"x_alpha = \",x_alpha)\n",
        "print(\"left = \", mean - x_alpha*np.sqrt(mean*(mean + 1)/len(data_1)))\n",
        "print(\"right = \", mean + x_alpha*np.sqrt(mean*(mean + 1)/len(data_1)))"
      ],
      "metadata": {
        "colab": {
          "base_uri": "https://localhost:8080/"
        },
        "id": "dO-lhWya0AWY",
        "outputId": "805c5002-bba9-4c6d-d32e-f4571ec9e807"
      },
      "execution_count": 399,
      "outputs": [
        {
          "output_type": "stream",
          "name": "stdout",
          "text": [
            "x_alpha =  2.3263478740408408\n",
            "left =  1.846975439718301\n",
            "right =  4.1130245602816995\n"
          ]
        }
      ]
    },
    {
      "cell_type": "markdown",
      "source": [
        "$\\left[1.847, 4.113\\right] \\ni \\lambda$"
      ],
      "metadata": {
        "id": "s1eRCXQ70Hpa"
      }
    },
    {
      "cell_type": "markdown",
      "source": [
        "##### iii) Построение критерия значимости $\\chi^2$ проверки простой гипотезы согласия с распределением"
      ],
      "metadata": {
        "id": "afXfE0GFo7Nh"
      }
    },
    {
      "cell_type": "markdown",
      "source": [
        "Пусть данная выборка $X_1, X_2, \\dots, X_n$ - выборка из распределения с функцией распределения F.\n",
        "\n",
        "Основная гипотеза: $H_0 : F \\equiv F_0(\\lambda_0)$\n",
        "\n",
        "Альтернативная гипотеза: $H_A : \\exists x : F(x) \\neq F_{\\lambda_0}(x)$\n",
        "\n",
        "Вычисление статистики критерия $\\chi^2$ c перегруппировкой выборки:"
      ],
      "metadata": {
        "id": "Ix2FtIFh1VtR"
      }
    },
    {
      "cell_type": "code",
      "source": [
        "cur_lambda = lambda_0\n",
        "intervals = [[0], [1, 2], [3, 4], [5, 6, 7], range(8, 16)]\n",
        "freq = [0] * len(intervals) #экспереметальные частоты\n",
        "freq_pois = [0] * len(intervals) #Гипотетические частоты\n",
        "print(\"x          | Частота | Гипотетическая частота\")\n",
        "for i in range(len(intervals)):\n",
        "  a = intervals[i][0]\n",
        "  b = intervals[i][-1]\n",
        "  for val in intervals[i]:\n",
        "    freq[i] += data_1.count(val)\n",
        "    freq_pois[i] += len(data_1) * cur_lambda ** val / (1 + cur_lambda) ** (val + 1)\n",
        "  if (i == len(intervals) - 1):\n",
        "    print('[', a, \", +inf)\\t\", freq[i], \"\\t\", freq_pois[i])\n",
        "  else:\n",
        "    print('[', a, ',', b, \"]\\t\", freq[i], \"\\t\", freq_pois[i])\n",
        "freq = np.array(freq)\n",
        "freq_pois = np.array(freq_pois)\n",
        "chi_square = np.sum((freq - freq_pois) ** 2 / freq_pois)\n",
        "print(\"Статистика хи-квадрат равна:\", chi_square)"
      ],
      "metadata": {
        "colab": {
          "base_uri": "https://localhost:8080/"
        },
        "id": "a5oZwlkD1rzg",
        "outputId": "7590c74c-eefb-41f5-d5e1-7cb1b74b347b"
      },
      "execution_count": 400,
      "outputs": [
        {
          "output_type": "stream",
          "name": "stdout",
          "text": [
            "x          | Частота | Гипотетическая частота\n",
            "[ 0 , 0 ]\t 17 \t 12.5\n",
            "[ 1 , 2 ]\t 11 \t 16.40625\n",
            "[ 3 , 4 ]\t 9 \t 9.228515625\n",
            "[ 5 , 7 ]\t 8 \t 6.859588623046875\n",
            "[ 8 , +inf)\t 5 \t 4.504515964072198\n",
            "Статистика хи-квадрат равна: 3.6512426063192622\n"
          ]
        }
      ]
    },
    {
      "cell_type": "markdown",
      "source": [
        "Для составления критерия уровня значимости $\\alpha_1$ необходимо найти $x_{\\alpha_1}$\n",
        "\n",
        "$x_{\\alpha_1} : K_{r-1}(x_{\\alpha_1}) = 1 - \\alpha_1$"
      ],
      "metadata": {
        "id": "XI5dDJOx24Xl"
      }
    },
    {
      "cell_type": "code",
      "source": [
        "print(\"x_alpha_1 равен:\", sps.chi2.ppf(1 - alpha_1, df = len(freq) - 1))"
      ],
      "metadata": {
        "colab": {
          "base_uri": "https://localhost:8080/"
        },
        "id": "Quf_NCMK2485",
        "outputId": "68526403-5917-4ca2-b9b3-88ffea5a873f"
      },
      "execution_count": 401,
      "outputs": [
        {
          "output_type": "stream",
          "name": "stdout",
          "text": [
            "x_alpha_1 равен: 11.667843403834778\n"
          ]
        }
      ]
    },
    {
      "cell_type": "markdown",
      "source": [
        "$\\chi^2 \\approx 3.65$\n",
        "\n",
        "$x_{\\alpha_1} \\approx 11.7$\n",
        "\n",
        "$\\chi^2 < x_{\\alpha_1}$ следовательно гипотеза $H_0$ принимается"
      ],
      "metadata": {
        "id": "o2H7J3Im3D9u"
      }
    },
    {
      "cell_type": "code",
      "source": [
        "print(\"Наибольшее значение уровня значимости, на котором ещё нет оснований отвергнуть данную гипотезу:\", 1 - sps.chi2.cdf(chi_square, df = len(freq) - 1))\n",
        "print(\"В этом случае статистика хи-квадрат равна x_alpha\")"
      ],
      "metadata": {
        "colab": {
          "base_uri": "https://localhost:8080/"
        },
        "id": "cEYWElEC3VG9",
        "outputId": "0ffab25e-f03e-41d8-bcf4-35a787097fd1"
      },
      "execution_count": 402,
      "outputs": [
        {
          "output_type": "stream",
          "name": "stdout",
          "text": [
            "Наибольшее значение уровня значимости, на котором ещё нет оснований отвергнуть данную гипотезу: 0.45525706915596964\n",
            "В этом случае статистика хи-квадрат равна x_alpha\n"
          ]
        }
      ]
    },
    {
      "cell_type": "markdown",
      "source": [
        "##### iv) Построение критерия значимости $\\chi^2$ проверки сложной гипотезы согласия с распределением"
      ],
      "metadata": {
        "id": "-bOQkK8so8YB"
      }
    },
    {
      "cell_type": "markdown",
      "source": [
        "Пусть данная выборка $X_1, X_2, \\dots, X_n$ - выборка из распределения с функцией распределения F.\n",
        "\n",
        "Основная гипотеза: $H_0 : F \\in \\left\\{F_0(\\theta) : \\theta \\in \\Theta_0 \\right\\}$\n",
        "\n",
        "Альтернативная гипотеза: $H_A : F \\notin \\left\\{F_0(\\theta) : \\theta \\in \\Theta_0 \\right\\}$\n",
        "\n",
        "В качестве оценки неизвестного параметра $\\theta$ возьмем ОМП: $\\hat{\\theta} = \\bar{X}$\n",
        "\n",
        "Вычисление статистики критерия $\\hat{\\chi}^2$ c перегруппировкой выборки:"
      ],
      "metadata": {
        "id": "8Z2K58FY_x3G"
      }
    },
    {
      "cell_type": "code",
      "source": [
        "cur_lambda = mean\n",
        "intervals = [[0], [1, 2], [3, 4], [5, 6, 7], range(8, 16)]\n",
        "freq = [0] * len(intervals) #экспереметальные частоты\n",
        "freq_pois = [0] * len(intervals) #Гипотетические частоты\n",
        "print(\"x          | Частота | Гипотетическая частота\")\n",
        "for i in range(len(intervals)):\n",
        "  a = intervals[i][0]\n",
        "  b = intervals[i][-1]\n",
        "  for val in intervals[i]:\n",
        "    freq[i] += data_1.count(val)\n",
        "    freq_pois[i] += len(data_1) * cur_lambda ** val / (1 + cur_lambda) ** (val + 1)\n",
        "  if (i == len(intervals) - 1):\n",
        "    print('[', a, \", +inf)\\t\", freq[i], \"\\t\", freq_pois[i])\n",
        "  else:\n",
        "    print('[', a, ',', b, \"]\\t\", freq[i], \"\\t\", freq_pois[i])\n",
        "freq = np.array(freq)\n",
        "freq_pois = np.array(freq_pois)\n",
        "chi_square = np.sum((freq - freq_pois) ** 2 / freq_pois)\n",
        "print(\"Статистика хи-квадрат равна:\", chi_square)"
      ],
      "metadata": {
        "colab": {
          "base_uri": "https://localhost:8080/"
        },
        "id": "yLxNqcbg_8qE",
        "outputId": "d3811aab-03ea-4cd9-9c03-4ab802dd2e2e"
      },
      "execution_count": 403,
      "outputs": [
        {
          "output_type": "stream",
          "name": "stdout",
          "text": [
            "x          | Частота | Гипотетическая частота\n",
            "[ 0 , 0 ]\t 17 \t 12.56281407035176\n",
            "[ 1 , 2 ]\t 11 \t 16.44925722016816\n",
            "[ 3 , 4 ]\t 9 \t 9.221735803261367\n",
            "[ 5 , 7 ]\t 8 \t 6.827232548264541\n",
            "[ 8 , +inf)\t 5 \t 4.451093769605316\n",
            "Статистика хи-квадрат равна: 3.6469044391040626\n"
          ]
        }
      ]
    },
    {
      "cell_type": "markdown",
      "source": [
        "Для составления критерия уровня значимости $\\alpha_1$ необходимо найти $x_{\\alpha_1}$\n",
        "\n",
        "$x_{\\alpha_1} : K_{r-d-1}(x_{\\alpha_1}) = 1 - \\alpha_1$"
      ],
      "metadata": {
        "id": "632bAiW6AH5Q"
      }
    },
    {
      "cell_type": "code",
      "source": [
        "print(\"x_alpha_1 равен:\", sps.chi2.ppf(1 - alpha_1, df = len(freq) - 2))"
      ],
      "metadata": {
        "colab": {
          "base_uri": "https://localhost:8080/"
        },
        "id": "opGfNrqCAIm-",
        "outputId": "13e606d4-89ab-433e-c133-d8a1a98506c8"
      },
      "execution_count": 404,
      "outputs": [
        {
          "output_type": "stream",
          "name": "stdout",
          "text": [
            "x_alpha_1 равен: 9.837409311192593\n"
          ]
        }
      ]
    },
    {
      "cell_type": "markdown",
      "source": [
        "$\\chi^2 \\approx 3.65$\n",
        "\n",
        "$x_{\\alpha_1} \\approx 9.8$\n",
        "\n",
        "$\\chi^2 < x_{\\alpha_1}$ следовательно гипотеза $H_0$ принимается"
      ],
      "metadata": {
        "id": "c6FoBCWKAM9x"
      }
    },
    {
      "cell_type": "code",
      "source": [
        "print(\"Наибольшее значение уровня значимости, на котором ещё нет оснований отвергнуть данную гипотезу:\", 1 - sps.chi2.cdf(chi_square, df = len(freq) - 2))\n",
        "print(\"В этом случае статистика хи-квадрат равна x_alpha\")"
      ],
      "metadata": {
        "colab": {
          "base_uri": "https://localhost:8080/"
        },
        "id": "mGAa6nPmAhb7",
        "outputId": "2545ca56-7254-4a5b-ee72-6635d89d1b73"
      },
      "execution_count": 405,
      "outputs": [
        {
          "output_type": "stream",
          "name": "stdout",
          "text": [
            "Наибольшее значение уровня значимости, на котором ещё нет оснований отвергнуть данную гипотезу: 0.3022029307265718\n",
            "В этом случае статистика хи-квадрат равна x_alpha\n"
          ]
        }
      ]
    },
    {
      "cell_type": "markdown",
      "source": [
        "### 2. Обработка данных, полученных во втором эксперименте"
      ],
      "metadata": {
        "id": "SVJQIcE4ZouR"
      }
    },
    {
      "cell_type": "code",
      "source": [
        "#Полученные данные\n",
        "data_2 = [0.228, 2.161, 0.799, 0.739, 0.027, 0.935, 1.512, 0.828, 1.558, 1.048, 0.357, 0.881, 0.392, 0.050,\n",
        "          3.006, 0.306, 1.044, 0.440, 0.079, 0.792, 2.125, 0.349, 0.165, 0.424, 0.666, 0.022, 0.497, 0.139,\n",
        "          0.101, 0.370, 3.864, 1.071, 2.755, 1.327, 0.377, 1.451, 0.953, 1.192, 0.540, 2.896, 1.589, 1.838,\n",
        "          0.468, 0.150, 0.023, 0.258, 0.637, 4.045, 1.199, 0.369]\n",
        "alpha_2 = 0.05\n",
        "c = 0\n",
        "d = 1.6\n",
        "h = 0.4\n",
        "lambda_0 = 1\n",
        "lambda_1 = 0.5"
      ],
      "metadata": {
        "id": "gkjgefrrZ496"
      },
      "execution_count": 406,
      "outputs": []
    },
    {
      "cell_type": "markdown",
      "source": [
        "#### a) Построение вариационного ряда, эмпирической функции распределения и гистограммы частот и полигона частот с шагом h"
      ],
      "metadata": {
        "id": "ul3NhROAbV6S"
      }
    },
    {
      "cell_type": "code",
      "source": [
        "sort_data_2 = data_2.copy()\n",
        "sort_data_2.sort()\n",
        "print(\"Вариационный ряд:\", sort_data_2)"
      ],
      "metadata": {
        "colab": {
          "base_uri": "https://localhost:8080/"
        },
        "id": "6WE7LdBFbpTL",
        "outputId": "478ee09e-46db-4809-e0b4-e0b381498a1c"
      },
      "execution_count": 407,
      "outputs": [
        {
          "output_type": "stream",
          "name": "stdout",
          "text": [
            "Вариационный ряд: [0.022, 0.023, 0.027, 0.05, 0.079, 0.101, 0.139, 0.15, 0.165, 0.228, 0.258, 0.306, 0.349, 0.357, 0.369, 0.37, 0.377, 0.392, 0.424, 0.44, 0.468, 0.497, 0.54, 0.637, 0.666, 0.739, 0.792, 0.799, 0.828, 0.881, 0.935, 0.953, 1.044, 1.048, 1.071, 1.192, 1.199, 1.327, 1.451, 1.512, 1.558, 1.589, 1.838, 2.125, 2.161, 2.755, 2.896, 3.006, 3.864, 4.045]\n"
          ]
        }
      ]
    },
    {
      "cell_type": "code",
      "source": [
        "values, edges = np.histogram(data_2, bins=len(data_2))\n",
        "Y = values.cumsum() / len(data_2)\n",
        "plt.title(\"Эмпирическая функция распределения\")\n",
        "for i in range(len(Y)):\n",
        "    plt.plot([edges[i], edges[i+1]],[Y[i], Y[i]],color='green')\n",
        "plt.show()"
      ],
      "metadata": {
        "colab": {
          "base_uri": "https://localhost:8080/",
          "height": 452
        },
        "id": "_a1-PNHBbuqD",
        "outputId": "2e71df80-3e46-4ef9-d8e2-76ebcd913c0f"
      },
      "execution_count": 408,
      "outputs": [
        {
          "output_type": "display_data",
          "data": {
            "text/plain": [
              "<Figure size 640x480 with 1 Axes>"
            ],
            "image/png": "[encoded data removed]"
          },
          "metadata": {}
        }
      ]
    },
    {
      "cell_type": "code",
      "source": [
        "fig, ax = plt.subplots()\n",
        "bins = [x / 10.0 for x in range(int(min(data_2)) * 10, int(max(data_2)) * 10 + 5, int(h * 10))]\n",
        "ax.hist(data_2, bins = bins)\n",
        "freq = []\n",
        "for i in range(len(bins)):\n",
        "  freq.append(np.sum(np.array(data_2) <= bins[i] + h) - np.sum(np.array(data_2) <= bins[i]))\n",
        "  bins[i] += h/2\n",
        "ax.plot(bins, freq, 'ro-')\n",
        "plt.title(\"Гистограмма и полигон частот\")\n",
        "plt.show()"
      ],
      "metadata": {
        "colab": {
          "base_uri": "https://localhost:8080/",
          "height": 452
        },
        "id": "yHOp_gyYcBY-",
        "outputId": "0a5d185c-d2e0-4e48-8da3-1eefb35c1aff"
      },
      "execution_count": 409,
      "outputs": [
        {
          "output_type": "display_data",
          "data": {
            "text/plain": [
              "<Figure size 640x480 with 1 Axes>"
            ],
            "image/png": "[encoded data removed]"
          },
          "metadata": {}
        }
      ]
    },
    {
      "cell_type": "markdown",
      "source": [
        "#### b) Вычисление выборочных аналогов числовых характеристик"
      ],
      "metadata": {
        "id": "mQDPjHP0hqMd"
      }
    },
    {
      "cell_type": "code",
      "source": [
        "#Мат. ожидание\n",
        "mean = np.mean(data_2)\n",
        "print(\"Математическое ожидание:\", mean)\n",
        "#Дисперсия\n",
        "var = np.var(data_2)\n",
        "print(\"Дисперсия:\", var)\n",
        "#СКО\n",
        "std = np.sqrt(var)\n",
        "print(\"СКО:\", std)\n",
        "#Медиана\n",
        "dist_2 = sps.rv_discrete(name='dist_2', values=(data_2, [1/len(data_2)] * len(data_2)))\n",
        "print(\"Медиана:\", dist_2.median())\n",
        "#Асимметрия\n",
        "print(\"Асимметрия:\", sps.skew(data_2))\n",
        "#Эксцесс\n",
        "print(\"Эксцесс:\", sps.kurtosis(data_2))\n",
        "#Вероятность попадания в отрезок\n",
        "print(\"Вероятность попадания в отрезок [c, d]:\", (np.sum(np.array(data_2) <= d) - np.sum(np.array(data_2) <= c)) / len(data_2))"
      ],
      "metadata": {
        "colab": {
          "base_uri": "https://localhost:8080/"
        },
        "id": "QxE9qqBmhxej",
        "outputId": "ead27af6-2a33-4a69-842a-aa2b30170172"
      },
      "execution_count": 410,
      "outputs": [
        {
          "output_type": "stream",
          "name": "stdout",
          "text": [
            "Математическое ожидание: 0.98084\n",
            "Дисперсия: 0.9244330944000001\n",
            "СКО: 0.9614744377257256\n",
            "Медиана: 0.666\n",
            "Асимметрия: 1.537707844388103\n",
            "Эксцесс: 1.9144906566358442\n",
            "Вероятность попадания в отрезок [c, d]: 0.84\n"
          ]
        }
      ]
    },
    {
      "cell_type": "markdown",
      "source": [
        "#### c) Построение ОМП и ОММ, нахождение смещений"
      ],
      "metadata": {
        "id": "yxd92wY4jstp"
      }
    },
    {
      "cell_type": "markdown",
      "source": [
        "Предполагается, что исходные наблюдения $X_1, X_2, \\dots, X_n$ являются выборкой из распределения $Exp(\\lambda)$\n",
        "\n",
        "$p_{\\theta}(x) = \\lambda\\exp(-\\lambda x)\\mathbb{I}_{\\{x \\ge 0\\}}$\n",
        "\n",
        "Оцениваемый параметр: $\\theta = \\lambda$\n",
        "\n",
        "Оценка по методу максимального правдоподобия:\n",
        "\n",
        "$L\\left(\\overrightarrow{X}, \\theta\\right) = \\prod_{i=1}^{n}\\lambda\\exp(-\\lambda x_i)\\mathbb{I}_{\\{x_i \\ge 0\\}} = \\lambda^n \\exp(-\\lambda \\sum_{i=1}^{n}x_i)\\mathbb{I}_{\\{x_{(1)} \\ge 0\\}}$\n",
        "\n",
        "$LL\\left(\\overrightarrow{X}, \\theta\\right) = n\\ln\\lambda -\\lambda \\sum_{i=1}^{n}x_i\\ + \\ln\\mathbb{I}_{\\{x_{(1)} \\ge 0\\}}$\n",
        "\n",
        "$\\frac{\\partial LL\\left(\\overrightarrow X,\\ \\theta\\right)}{\\partial \\theta} = \\frac{n}{\\lambda} - \\sum_{i=1}^{n}x_i = 0 \\implies \\hat{\\theta} = \\hat{\\lambda} = \\frac{1}{\\bar{X}}$\n",
        "\n",
        "Оценка по методу моментов:\n",
        "\n",
        "$\\mathbb{E}_\\theta X_1 = \\frac{1}{\\lambda}$\n",
        "\n",
        "Выборочный момент первого порядка: $M_1 = \\frac{1}{n}\\sum_{i=1}^{n}x_i = \\bar{X}$\n",
        "\n",
        "Решаем уравнение: $\\frac{1}{\\lambda} = \\bar{X} \\implies \\hat{\\lambda} = \\frac{1}{\\bar{X}}$\n",
        "\n",
        "Смещение:\n",
        "\n",
        "$\\mathbb{E}_\\theta\\hat{\\lambda} = \\mathbb{E}_\\theta\\frac{1}{\\bar{X}} = n\\mathbb{E}_\\theta\\frac{1}{\\sum_{i=1}^{n}x_i}$\n",
        "\n",
        "Так как $X_i \\sim Exp(\\lambda) \\implies Y = \\sum_{i=1}^{n}X_i \\sim Gamma(n, \\frac{1}{\\lambda})$ и $Y \\sim Gamma(\\alpha, \\beta), \\alpha > 0, \\beta > 0, \\gamma > - \\alpha \\implies \\mathbb{E}_\\theta Y^\\gamma = \\beta^\\gamma \\frac{\\Gamma(\\gamma + \\alpha)}{\\Gamma(\\alpha)}$:\n",
        "\n",
        "$\\mathbb{E}_\\theta\\hat{\\lambda} = n\\mathbb{E}_\\theta\\frac{1}{\\sum_{i=1}^{n}x_i} = n \\lambda \\frac{\\Gamma(n-1)}{\\Gamma(n)} = \\frac{n}{n-1} \\lambda \\implies$ оценка смещенная\n",
        "\n",
        "Несмещенная оценка: $\\tilde{\\lambda} = \\frac{n-1}{n}\\hat{\\lambda} = \\frac{n-1}{n}\\frac{1}{\\bar{X}}$\n",
        "\n",
        "Численное значение смещенной оценки: $\\hat{\\lambda} = \\frac{1}{\\bar{X}} = 1.019534276742384$\n",
        "\n",
        "Численное значение несмещенной оценки: $\\tilde{\\lambda} = 0.9991435912075365$"
      ],
      "metadata": {
        "id": "y4jjPxiUllJA"
      }
    },
    {
      "cell_type": "markdown",
      "source": [
        "#### d) Построение асимптотического доверительного интервала уровня значимости $\\alpha_2 = 0.05$ для параметра $\\lambda$ на базе ОМП"
      ],
      "metadata": {
        "id": "dZkEm3_2wNQr"
      }
    },
    {
      "cell_type": "markdown",
      "source": [
        "ОМП: $\\hat{\\theta}\\left(\\overrightarrow{X}\\right) = \\frac{1}{\\bar{X}}$\n",
        "\n",
        "$\\sqrt{n}\\left(\\frac{1}{\\bar{X}} - \\theta\\right) \\sim \\mathcal{N} \\left(0, \\frac{1}{I(\\theta))}\\right)$\n",
        "\n",
        "$I_n(\\theta) = -\\mathbb{E}_{\\theta}\\frac{\\partial^2 LL\\left(\\overrightarrow X,\\ \\theta\\right)}{\\partial \\theta^2} = \\mathbb{E}_{\\theta}\\frac{n}{\\lambda^2} = \\frac{n}{\\lambda^2} $\n",
        "\n",
        "$I(\\theta) = {\\lim_{n \\to \\infty}}\\frac{1}{\\lambda^2} = \\frac{1}{\\lambda^2}$\n",
        "\n",
        "$I(\\hat{\\theta}) = \\bar{X}^2$\n",
        "\n",
        "$\\sqrt{n\\bar{X}^{2}}\\left(\\frac{1}{\\bar{X}} - \\theta\\right) \\sim \\mathcal{N} \\left(0, 1\\right)$\n",
        "\n",
        "Возьмем такое $x_\\alpha$, что $\\Phi(x_\\alpha) = 1 - \\frac{\\alpha}{2} = 0.975$\n",
        "\n",
        "Тогда $P_\\theta\\left(-x_\\alpha \\le \\sqrt{n\\bar{X}^{2}}\\left(\\frac{1}{\\bar{X}} - \\theta\\right) \\le x_\\alpha\\right) \\approx 1 - \\alpha = 0.95$\n",
        "\n",
        "$\\left[\\frac{1}{\\bar{X}} - \\frac{x_\\alpha}{\\sqrt{n\\bar{X}^{2}}}, \\frac{1}{\\bar{X}} + \\frac{x_\\alpha}{\\sqrt{n\\bar{X}^{2}}}\\right] \\ni \\lambda$"
      ],
      "metadata": {
        "id": "5X7SkB4DU2s6"
      }
    },
    {
      "cell_type": "code",
      "source": [
        "x_alpha = sps.norm.ppf(0.975)\n",
        "print(\"x_alpha = \",x_alpha)\n",
        "print(\"left = \", 1/mean - x_alpha/np.sqrt(len(data_1)*mean**2))\n",
        "print(\"right = \", 1/mean + x_alpha/np.sqrt(len(data_1)*mean**2))"
      ],
      "metadata": {
        "colab": {
          "base_uri": "https://localhost:8080/"
        },
        "id": "QDwAePulXvWf",
        "outputId": "9818e315-a122-4fb6-e119-5ea4976f4fe4"
      },
      "execution_count": 411,
      "outputs": [
        {
          "output_type": "stream",
          "name": "stdout",
          "text": [
            "x_alpha =  1.959963984540054\n",
            "left =  0.7369389861038136\n",
            "right =  1.3021295673809545\n"
          ]
        }
      ]
    },
    {
      "cell_type": "markdown",
      "source": [
        "$\\left[0.737, 1.302\\right] \\ni \\lambda$"
      ],
      "metadata": {
        "id": "zXPjy1gKYrda"
      }
    },
    {
      "cell_type": "markdown",
      "source": [
        "#### e) Построение критерия значимости проверки простой гипотезы согласия с показательным распределением с параметром  $\\lambda_0$ с использованием теоремы Колмогорова. Проверка гипотезы на уровне значимости $\\alpha_2$. Вычисление наибольшего значения уровня значимости, на котором ещё нет оснований отвергнуть данную гипотезу"
      ],
      "metadata": {
        "id": "beFnorugazdM"
      }
    },
    {
      "cell_type": "markdown",
      "source": [
        "Пусть данная выборка $X_1, X_2, \\dots, X_n$ - выборка из распределения с функцией распределения F.\n",
        "\n",
        "Основная гипотеза: $H_0 : F \\equiv Exp(\\lambda_0)$\n",
        "\n",
        "Альтернативная гипотеза: $H_A : \\exists x : F(x) \\neq F_{Exp(\\lambda_0)}(x)$\n",
        "\n",
        "Составим критерий уровня значимости $\\alpha_2$:\n",
        "\n",
        "$\\phi(x) = 0$, при $D_n \\le x_{\\alpha_2}$\n",
        "\n",
        "$\\phi(x) = 1$, при $D_n > x_{\\alpha_2}$\n",
        "\n",
        "где $x_{\\alpha_2} : K(x_{\\alpha_2} / \\sqrt{n}) = 1 - \\alpha_2$"
      ],
      "metadata": {
        "id": "CteBX58Ri8yH"
      }
    },
    {
      "cell_type": "code",
      "source": [
        "values, edges = np.histogram(data_2, bins=len(data_2))\n",
        "Y = values.cumsum() / len(data_2)\n",
        "\n",
        "def F_n(x, Y, edges):\n",
        "  for i in range(len(Y)):\n",
        "    if (x > edges[i] and x <= edges[i+1]):\n",
        "      return Y[i]\n",
        "    elif (x > edges[-1]):\n",
        "      return 1\n",
        "    elif (x <= edges[0]):\n",
        "      return 0\n",
        "\n",
        "def F_0(x):\n",
        "  return 1 - np.exp(-x*lambda_0)\n",
        "\n",
        "D = 0\n",
        "x = 0\n",
        "while (x <= 5):\n",
        "  if (D < np.abs(F_n(x, Y, edges) - F_0(x))):\n",
        "    D = np.abs(F_n(x, Y, edges) - F_0(x))\n",
        "  x += 0.0001\n",
        "\n",
        "print(\"Статистика критерия Колмогорова Dn:\", D)\n",
        "print(\"x_alpha_2:\", sps.kstwobign.ppf(1 - alpha_2) / np.sqrt(len(data_2)))"
      ],
      "metadata": {
        "colab": {
          "base_uri": "https://localhost:8080/"
        },
        "id": "k6SGiQzWdDMZ",
        "outputId": "49109434-9b86-40f5-93c7-e5c208e9f8b6"
      },
      "execution_count": 412,
      "outputs": [
        {
          "output_type": "stream",
          "name": "stdout",
          "text": [
            "Статистика критерия Колмогорова Dn: 0.09814241591874318\n",
            "x_alpha_2: 0.19206415147703973\n"
          ]
        }
      ]
    },
    {
      "cell_type": "markdown",
      "source": [
        "$D_n \\approx 0.098$\n",
        "\n",
        "$x_{\\alpha_2} \\approx 0.192$\n",
        "\n",
        "$D_n \\le x_{\\alpha_2}$ следовательно принимаем гипотезу $H_0$"
      ],
      "metadata": {
        "id": "s-CDL2tyxljF"
      }
    },
    {
      "cell_type": "code",
      "source": [
        "print(\"Наибольшее значение уровня значимости, на котором ещё нет оснований отвергнуть данную гипотезу:\", 1 - sps.kstwobign.cdf(D*np.sqrt(len(data_2))))"
      ],
      "metadata": {
        "colab": {
          "base_uri": "https://localhost:8080/"
        },
        "id": "TPNg72WoyKC0",
        "outputId": "b2258fe9-64e0-41ce-b46e-90a456438daa"
      },
      "execution_count": 413,
      "outputs": [
        {
          "output_type": "stream",
          "name": "stdout",
          "text": [
            "Наибольшее значение уровня значимости, на котором ещё нет оснований отвергнуть данную гипотезу: 0.7212459758432671\n"
          ]
        }
      ]
    },
    {
      "cell_type": "markdown",
      "source": [
        "#### f) Построение критерия значимости $\\chi^2$ проверки простой гипотезы согласия с показательным распределением с параметром  $\\lambda_0$. Проверка гипотезы на уровне значимости $\\alpha_2$. Вычисление наибольшего значения уровня значимости, на котором ещё нет оснований отвергнуть данную гипотезу"
      ],
      "metadata": {
        "id": "X2CYowzEVGuT"
      }
    },
    {
      "cell_type": "markdown",
      "source": [
        "Пусть данная выборка $X_1, X_2, \\dots, X_n$ - выборка из распределения с функцией распределения F.\n",
        "\n",
        "Основная гипотеза: $H_0 : F \\equiv Exp(\\lambda_0)$\n",
        "\n",
        "Альтернативная гипотеза: $H_A : \\exists x : F(x) \\neq F_{Exp(\\lambda_0)}(x)$\n",
        "\n",
        "Вычисление статистики критерия $\\chi^2$ c перегруппировкой выборки:"
      ],
      "metadata": {
        "id": "OahwxwTjVdA9"
      }
    },
    {
      "cell_type": "code",
      "source": [
        "cur_lambda = lambda_0\n",
        "intervals = [[0, 0.2], [0.2, 0.4], [0.4, 0.75], [0.75, 1.1], [1.1, 2], [2, 5]]\n",
        "freq = [0] * len(intervals) #экспереметальные частоты\n",
        "freq_teor = [0] * len(intervals) #Гипотетические частоты\n",
        "print(\"x            | Частота | Гипотетическая частота\")\n",
        "for i in range(len(intervals)):\n",
        "  a = intervals[i][0]\n",
        "  b = intervals[i][-1]\n",
        "  freq[i] += len([x for x in data_2 if (x >= a and x < b)])\n",
        "  freq_teor[i] += len(data_2) * (sps.expon.cdf(b, scale = 1/cur_lambda) - sps.expon.cdf(a, scale = 1/cur_lambda))\n",
        "  if (i == len(intervals) - 1):\n",
        "    freq_teor[i] += len(data_2) * sps.expon.sf(b, scale = 1/cur_lambda)\n",
        "    print('[', a, \", +inf)\\t\", freq[i], \"\\t\", freq_teor[i])\n",
        "  else:\n",
        "    print('[', a, ',', b, \"]\\t\", freq[i], \"\\t\", freq_teor[i])\n",
        "freq = np.array(freq)\n",
        "freq_teor = np.array(freq_teor)\n",
        "chi_square = np.sum((freq - freq_teor) ** 2 / freq_teor)\n",
        "print(\"Статистика хи-квадрат равна:\", chi_square)"
      ],
      "metadata": {
        "colab": {
          "base_uri": "https://localhost:8080/"
        },
        "id": "Jd3TsJxZVrJ4",
        "outputId": "7311e1ab-e891-437f-fdc0-4957b650c850"
      },
      "execution_count": 414,
      "outputs": [
        {
          "output_type": "stream",
          "name": "stdout",
          "text": [
            "x            | Частота | Гипотетическая частота\n",
            "[ 0 , 0.2 ]\t 9 \t 9.063462346100907\n",
            "[ 0.2 , 0.4 ]\t 9 \t 7.420535352117126\n",
            "[ 0.4 , 0.75 ]\t 8 \t 9.897674664731232\n",
            "[ 0.75 , 1.1 ]\t 9 \t 6.97477345214676\n",
            "[ 1.1 , 2 ]\t 8 \t 9.87679002307334\n",
            "[ 2 , +inf)\t 7 \t 6.7667641618306344\n",
            "Статистика хи-квадрат равна: 1.653195226980443\n"
          ]
        }
      ]
    },
    {
      "cell_type": "markdown",
      "source": [
        "Для составления критерия уровня значимости $\\alpha_2$ необходимо найти $x_{\\alpha_2}$\n",
        "\n",
        "$x_{\\alpha_2} : K_{r-1}(x_{\\alpha_2}) = 1 - \\alpha_2$"
      ],
      "metadata": {
        "id": "VqkUBg-8rtrN"
      }
    },
    {
      "cell_type": "code",
      "source": [
        "print(\"x_alpha_2 равен:\", sps.chi2.ppf(1 - alpha_2, df = len(freq) - 1))"
      ],
      "metadata": {
        "colab": {
          "base_uri": "https://localhost:8080/"
        },
        "id": "3UFnWsGArse0",
        "outputId": "936cefe1-23a9-4b2c-a453-c8297aa6c2a0"
      },
      "execution_count": 415,
      "outputs": [
        {
          "output_type": "stream",
          "name": "stdout",
          "text": [
            "x_alpha_2 равен: 11.070497693516351\n"
          ]
        }
      ]
    },
    {
      "cell_type": "markdown",
      "source": [
        "$\\chi^2 \\approx 1.65$\n",
        "\n",
        "$x_{\\alpha_2} \\approx 11.07$\n",
        "\n",
        "$\\chi^2 < x_{\\alpha_2}$ следовательно гипотеза $H_0$ принимается"
      ],
      "metadata": {
        "id": "J2PVY-OwsL2_"
      }
    },
    {
      "cell_type": "code",
      "source": [
        "print(\"Наибольшее значение уровня значимости, на котором ещё нет оснований отвергнуть данную гипотезу:\", 1 - sps.chi2.cdf(chi_square, df = len(freq) - 1))\n",
        "print(\"В этом случае статистика хи-квадрат равна x_alpha\")"
      ],
      "metadata": {
        "colab": {
          "base_uri": "https://localhost:8080/"
        },
        "id": "uTt9M9zDsWcR",
        "outputId": "880126dc-d1a8-4969-e575-fb6ff307a078"
      },
      "execution_count": 416,
      "outputs": [
        {
          "output_type": "stream",
          "name": "stdout",
          "text": [
            "Наибольшее значение уровня значимости, на котором ещё нет оснований отвергнуть данную гипотезу: 0.8947427972823634\n",
            "В этом случае статистика хи-квадрат равна x_alpha\n"
          ]
        }
      ]
    },
    {
      "cell_type": "markdown",
      "source": [
        "#### g) Построение критерия значимости $\\chi^2$ проверки сложной гипотезы согласия с показательным распределением. Проверка гипотезы на уровне значимости $\\alpha_2$. Вычисление наибольшего значения уровня значимости, на котором ещё нет оснований отвергнуть данную гипотезу"
      ],
      "metadata": {
        "id": "xJot48Kjs2hd"
      }
    },
    {
      "cell_type": "markdown",
      "source": [
        "Пусть данная выборка $X_1, X_2, \\dots, X_n$ - выборка из распределения с функцией распределения F.\n",
        "\n",
        "Основная гипотеза: $H_0 : F \\in \\left\\{Exp(\\theta) : \\theta \\in \\Theta_0 \\right\\}$\n",
        "\n",
        "Альтернативная гипотеза: $H_A : F \\notin \\left\\{Exp(\\theta) : \\theta \\in \\Theta_0 \\right\\}$\n",
        "\n",
        "В качестве оценки неизвестного параметра $\\theta$ возьмем ОМП: $\\hat{\\theta} = \\frac{1}{\\bar{X}}$\n",
        "\n",
        "Вычисление статистики критерия $\\hat{\\chi}^2$ c перегруппировкой выборки:"
      ],
      "metadata": {
        "id": "oJLIdGAUtTIU"
      }
    },
    {
      "cell_type": "code",
      "source": [
        "cur_lambda = 1 / mean\n",
        "intervals = [[0, 0.2], [0.2, 0.4], [0.4, 0.75], [0.75, 1.1], [1.1, 2], [2, 5]]\n",
        "freq = [0] * len(intervals) #экспереметальные частоты\n",
        "freq_teor = [0] * len(intervals) #Гипотетические частоты\n",
        "print(\"x            | Частота | Гипотетическая частота\")\n",
        "for i in range(len(intervals)):\n",
        "  a = intervals[i][0]\n",
        "  b = intervals[i][-1]\n",
        "  freq[i] += len([x for x in data_2 if (x >= a and x < b)])\n",
        "  freq_teor[i] += len(data_2) * (sps.expon.cdf(b, scale = 1/cur_lambda) - sps.expon.cdf(a, scale = 1/cur_lambda))\n",
        "  if (i == len(intervals) - 1):\n",
        "    freq_teor[i] += len(data_2) * sps.expon.sf(b, scale = 1/cur_lambda)\n",
        "    print('[', a, \", +inf)\\t\", freq[i], \"\\t\", freq_teor[i])\n",
        "  else:\n",
        "    print('[', a, ',', b, \"]\\t\", freq[i], \"\\t\", freq_teor[i])\n",
        "freq = np.array(freq)\n",
        "freq_teor = np.array(freq_teor)\n",
        "chi_square = np.sum((freq - freq_teor) ** 2 / freq_teor)\n",
        "print(\"Статистика хи-квадрат равна:\", chi_square)"
      ],
      "metadata": {
        "colab": {
          "base_uri": "https://localhost:8080/"
        },
        "id": "KFdRVo8xtfdu",
        "outputId": "d5b47632-ac1c-4adb-f1e8-91fbadb97298"
      },
      "execution_count": 417,
      "outputs": [
        {
          "output_type": "stream",
          "name": "stdout",
          "text": [
            "x            | Частота | Гипотетическая частота\n",
            "[ 0 , 0.2 ]\t 9 \t 9.22308346583787\n",
            "[ 0.2 , 0.4 ]\t 9 \t 7.521778093481629\n",
            "[ 0.4 , 0.75 ]\t 8 \t 9.980313591187482\n",
            "[ 0.75 , 1.1 ]\t 9 \t 6.985087468279688\n",
            "[ 1.1 , 2 ]\t 8 \t 9.782243276636072\n",
            "[ 2 , +inf)\t 7 \t 6.507494104577264\n",
            "Статистика хи-квадрат равна: 1.632046164222975\n"
          ]
        }
      ]
    },
    {
      "cell_type": "markdown",
      "source": [
        "Для составления критерия уровня значимости $\\alpha_2$ необходимо найти $x_{\\alpha_2}$\n",
        "\n",
        "$x_{\\alpha_2} : K_{r-2}(x_{\\alpha_2}) = 1 - \\alpha_2$"
      ],
      "metadata": {
        "id": "sCkirL2Ptuev"
      }
    },
    {
      "cell_type": "code",
      "source": [
        "print(\"x_alpha_2 равен:\", sps.chi2.ppf(1 - alpha_2, df = len(freq) - 2))"
      ],
      "metadata": {
        "colab": {
          "base_uri": "https://localhost:8080/"
        },
        "id": "FhHk0wpttx7O",
        "outputId": "b5b9640d-7daf-40b6-9f1b-ad3e89416fc9"
      },
      "execution_count": 418,
      "outputs": [
        {
          "output_type": "stream",
          "name": "stdout",
          "text": [
            "x_alpha_2 равен: 9.487729036781154\n"
          ]
        }
      ]
    },
    {
      "cell_type": "markdown",
      "source": [
        "$\\hat{\\chi}^2 \\approx 1.63$\n",
        "\n",
        "$x_{\\alpha_2} \\approx 9.49$\n",
        "\n",
        "$\\hat{\\chi}^2 < x_{\\alpha_2}$ следовательно гипотеза $H_0$ принимается"
      ],
      "metadata": {
        "id": "Im8NMT__t0cs"
      }
    },
    {
      "cell_type": "code",
      "source": [
        "print(\"Наибольшее значение уровня значимости, на котором ещё нет оснований отвергнуть данную гипотезу:\", 1 - sps.chi2.cdf(chi_square, df = len(freq) - 2))\n",
        "print(\"В этом случае статистика хи-квадрат равна x_alpha\")"
      ],
      "metadata": {
        "colab": {
          "base_uri": "https://localhost:8080/"
        },
        "id": "h0vqxPLft4aX",
        "outputId": "46b20bb3-180f-4517-d900-4fc908d9123f"
      },
      "execution_count": 419,
      "outputs": [
        {
          "output_type": "stream",
          "name": "stdout",
          "text": [
            "Наибольшее значение уровня значимости, на котором ещё нет оснований отвергнуть данную гипотезу: 0.803021258450521\n",
            "В этом случае статистика хи-квадрат равна x_alpha\n"
          ]
        }
      ]
    },
    {
      "cell_type": "markdown",
      "source": [
        "#### h) Построение наиболее мощного критерия проверки простой гипотезы показательности с параметром $\\lambda_0$ при альтернативе показательности с параметром $\\lambda_1$. Проверка гипотезы на уровне значимости $\\alpha_2$\n"
      ],
      "metadata": {
        "id": "9OHHuzfCuQZW"
      }
    },
    {
      "cell_type": "markdown",
      "source": [
        "Основная гипотеза: $H_0 : \\lambda = \\lambda_0$\n",
        "\n",
        "Альтернативная гипотеза: $H_A : \\lambda = \\lambda_1$\n",
        "\n",
        "Функция правдоподобия имеет вид:\n",
        "\n",
        "$L\\left(\\overrightarrow{X}, \\theta\\right) = \\prod_{i=1}^{n}\\lambda\\exp(-\\lambda x_i)\\mathbb{I}_{\\{x_i \\ge 0\\}} = \\lambda^n \\exp(-\\lambda \\sum_{i=1}^{n}x_i)\\mathbb{I}_{\\{x_{(1)} \\ge 0\\}}$\n",
        "\n",
        "Тогда статистика отношения правдоподобия имеет вид:\n",
        "\n",
        "$LR\\left(\\overrightarrow{X}, \\lambda_0, \\lambda_1\\right) = \\frac{L\\left(\\overrightarrow{X}, \\lambda_1\\right)}{L\\left(\\overrightarrow{X}, \\lambda_0\\right)} = \\left(\\frac{\\lambda_1}{\\lambda_0}\\right)^n\\exp(-(\\lambda_1 - \\lambda_0) \\sum_{i=1}^{n}x_i)$\n",
        "\n",
        "Так как $LR\\left(\\overrightarrow{X}, \\lambda_0, \\lambda_1\\right)$ монотонна относительно МДС $\\bar{X}$\n",
        "\n",
        "$LR\\left(\\overrightarrow{X}\\right) = \\left(\\frac{\\lambda_1}{\\lambda_0}\\right)^n\\exp(-(\\lambda_1 - \\lambda_0) \\sum_{i=1}^{n}x_i) > c \\iff n\\ln\\frac{\\lambda_1}{\\lambda_0} - (\\lambda_1 - \\lambda_0)\\sum_{i=1}^{n}{x_i} > \\ln c \\iff \\bar{X} > -\\frac{\\ln c - n\\ln\\frac{\\lambda_1}{\\lambda_0}}{\\lambda_1 - \\lambda_0} = c^*$\n",
        "\n",
        "$LR\\left(\\overrightarrow{X}\\right) < c \\iff \\bar{X} < c^*$\n",
        "\n",
        "Решим уравнение: $P_{\\lambda_0}\\left(LR(\\overrightarrow{X}) > c\\right) + pP_{\\lambda_0}\\left(LR(\\overrightarrow{X}) = c\\right) = \\alpha_2$\n",
        "\n",
        "$P_{\\lambda_0}\\left(n\\bar{X} > nc^*\\right) + pP_{\\lambda_0}\\left(n\\bar{X} = nc^*\\right) = \\alpha_2$\n",
        "\n",
        "Критерий не определен однозначно при $LR(\\overrightarrow{X}) = c$\n",
        "\n",
        "Пусть $LR(\\overrightarrow{X}) \\neq c$\n",
        "\n",
        "Тогда $P_{\\lambda_0}\\left(n\\bar{X} > nc^*\\right) = 1 - F_{Gamma(n, 1/\\lambda_0)}\\left(nc^*\\right) = \\alpha_2$\n",
        "\n",
        "$F_{Gamma(n, 1/\\lambda_0)}\\left(nc^*\\right) = 1 - \\alpha_2 = 0.95$"
      ],
      "metadata": {
        "id": "3AJQ0K6dwQ2r"
      }
    },
    {
      "cell_type": "code",
      "source": [
        "print(\"c^* = \", sps.gamma.ppf(0.95, a = len(data_2), scale = lambda_0) / len(data_2))"
      ],
      "metadata": {
        "colab": {
          "base_uri": "https://localhost:8080/"
        },
        "id": "kggyQCVPyi1O",
        "outputId": "fa481175-b9e1-4e3a-d658-e2763f6acbfe"
      },
      "execution_count": 420,
      "outputs": [
        {
          "output_type": "stream",
          "name": "stdout",
          "text": [
            "c^* =  1.2434211340400407\n"
          ]
        }
      ]
    },
    {
      "cell_type": "markdown",
      "source": [
        "$c^* = 1.24$\n",
        "\n",
        "$\\bar{X} = 0.98$\n",
        "\n",
        "$c^* > \\bar{X}$ следовательно принимаем гипотезу $H_0$\n",
        "\n",
        "Поменяем гипотезы местами\n",
        "\n",
        "Основная гипотеза: $H_0 : \\lambda = \\lambda_1$\n",
        "\n",
        "Альтернативная гипотеза: $H_A : \\lambda = \\lambda_0$\n",
        "\n",
        "Тогда статистика отношения правдоподобия имеет вид:\n",
        "\n",
        "$LR\\left(\\overrightarrow{X}, \\lambda_1, \\lambda_0\\right) = \\frac{L\\left(\\overrightarrow{X}, \\lambda_0\\right)}{L\\left(\\overrightarrow{X}, \\lambda_1\\right)} = \\left(\\frac{\\lambda_0}{\\lambda_1}\\right)^n\\exp(-(\\lambda_0 - \\lambda_1) \\sum_{i=1}^{n}x_i)$\n",
        "\n",
        "Так как $LR\\left(\\overrightarrow{X}, \\lambda_1, \\lambda_0\\right)$ монотонна относительно МДС $\\bar{X}$\n",
        "\n",
        "$LR\\left(\\overrightarrow{X}\\right) > c \\iff \\bar{X} > c^*$\n",
        "\n",
        "Решим уравнение: $P_{\\lambda_1}\\left(LR(\\overrightarrow{X}) > c\\right) + pP_{\\lambda_1}\\left(LR(\\overrightarrow{X}) = c\\right) = \\alpha_1$\n",
        "\n",
        "$P_{\\lambda_1}\\left(n\\bar{X} > nc^*\\right) + pP_{\\lambda_1}\\left(n\\bar{X} = nc^*\\right) = \\alpha_1$\n",
        "\n",
        "Критерий не определен однозначно при $LR(\\overrightarrow{X}) = c$\n",
        "\n",
        "Пусть $LR(\\overrightarrow{X}) \\neq c$\n",
        "\n",
        "Тогда $P_{\\lambda_1}\\left(n\\bar{X} > nc^*\\right) = 1 - F_{Gamma(n, 1/\\lambda_1)}\\left(nc^*\\right) = \\alpha_1$\n",
        "\n",
        "$F_{Gamma(n, 1/\\lambda_1)}\\left(nc^*\\right) = 1 - \\alpha_1 = 0.95$"
      ],
      "metadata": {
        "id": "nqVl_SM7zg9K"
      }
    },
    {
      "cell_type": "code",
      "source": [
        "print(\"c^* = \", sps.gamma.ppf(0.95, a = len(data_2), scale = lambda_1) / len(data_2))"
      ],
      "metadata": {
        "colab": {
          "base_uri": "https://localhost:8080/"
        },
        "id": "ftCvH83A0B2q",
        "outputId": "7a2cfd07-e574-4b91-a2b5-e40d256a636e"
      },
      "execution_count": 421,
      "outputs": [
        {
          "output_type": "stream",
          "name": "stdout",
          "text": [
            "c^* =  0.6217105670200204\n"
          ]
        }
      ]
    },
    {
      "cell_type": "markdown",
      "source": [
        "$c^* = 0.62$\n",
        "\n",
        "$\\bar{X} = 0.98$\n",
        "\n",
        "$c^* < \\bar{X}$ следовательно отвергаем гипотезу $H_0$"
      ],
      "metadata": {
        "id": "SlVJ2SgX0IW8"
      }
    },
    {
      "cell_type": "markdown",
      "source": [
        "#### i) Повторение пунктов (c)-(h) c семейством гамма-распределения"
      ],
      "metadata": {
        "id": "sOLmaYm2uktj"
      }
    },
    {
      "cell_type": "markdown",
      "source": [
        "##### i) Построение ОМП и ОММ, нахождение смещений"
      ],
      "metadata": {
        "id": "q0m9GC4ove9h"
      }
    },
    {
      "cell_type": "markdown",
      "source": [
        "Предполагается, что исходные наблюдения $X_1, X_2, \\dots, X_n$ являются выборкой из распределения с плотностью\n",
        "\n",
        "$p_{\\theta}(x) = \\frac{\\sqrt{\\lambda}\\exp(-\\lambda x/2)}{\\sqrt{2\\pi x}}$\n",
        "\n",
        "Оцениваемый параметр: $\\theta = \\lambda$\n",
        "\n",
        "Оценка по методу максимального правдоподобия:\n",
        "\n",
        "$L\\left(\\overrightarrow{X}, \\theta\\right) = \\prod_{i=1}^{n}\\frac{\\sqrt{\\lambda}\\exp(-\\lambda x_i/2)}{\\sqrt{2\\pi x_i}} = \\left(\\frac{\\lambda}{2\\pi}\\right)^{n/2}\\exp\\left(-\\frac{\\lambda}{2}\\sum_{i=1}^{n}{x_i}\\right)\\prod_{i=1}^{n}\\frac{1}{\\sqrt{x_i}}$\n",
        "\n",
        "$LL\\left(\\overrightarrow{X}, \\theta\\right) = \\frac{n}{2}\\ln\\frac{\\lambda}{2\\pi}-\\frac{\\lambda}{2}\\sum_{i=1}^{n}{x_i}+\\ln\\prod_{i=1}^{n}\\frac{1}{\\sqrt{x_i}}$\n",
        "\n",
        "$\\frac{\\partial LL\\left(\\overrightarrow X,\\ \\theta\\right)}{\\partial \\theta} = \\frac{n}{2\\lambda} - \\frac{1}{2}\\sum_{i=1}^{n}x_i = 0 \\implies \\hat{\\theta} = \\hat{\\lambda} = \\frac{1}{\\bar{X}}$\n",
        "\n",
        "Оценка по методу моментов:\n",
        "\n",
        "Заметим что $X_1 \\sim Gamma(1/2,2/\\lambda)$\n",
        "\n",
        "Тогда $\\mathbb{E}_\\theta X_1 = \\frac{1}{\\lambda}$\n",
        "\n",
        "Выборочный момент первого порядка: $M_1 = \\frac{1}{n}\\sum_{i=1}^{n}x_i = \\bar{X}$\n",
        "\n",
        "Решаем уравнение: $\\frac{1}{\\lambda} = \\bar{X} \\implies \\hat{\\lambda} = \\frac{1}{\\bar{X}}$\n",
        "\n",
        "Смещение:\n",
        "\n",
        "$\\mathbb{E}_\\theta\\hat{\\lambda} = \\mathbb{E}_\\theta\\frac{1}{\\bar{X}} = n\\mathbb{E}_\\theta\\frac{1}{\\sum_{i=1}^{n}x_i}$\n",
        "\n",
        "Так как $X_i \\sim Gamma(1/2,2/\\lambda) \\implies Y = \\sum_{i=1}^{n}X_i \\sim Gamma(n/2,2/\\lambda)$ и $Y \\sim Gamma(\\alpha, \\beta), \\alpha > 0, \\beta > 0, \\gamma > - \\alpha \\implies \\mathbb{E}_\\theta Y^\\gamma = \\beta^\\gamma \\frac{\\Gamma(\\gamma + \\alpha)}{\\Gamma(\\alpha)}$:\n",
        "\n",
        "$\\mathbb{E}_\\theta\\hat{\\lambda} = n\\mathbb{E}_\\theta\\frac{1}{\\sum_{i=1}^{n}x_i} = n \\frac{\\lambda}{2} \\frac{\\Gamma(n/2-1)}{\\Gamma(n/2)} = \\frac{n}{n/2 - 1} \\frac{\\lambda}{2} = \\frac{n}{n-2}\\lambda \\implies$ оценка смещенная\n",
        "\n",
        "Несмещенная оценка: $\\tilde{\\lambda} = \\frac{n-2}{n}\\hat{\\lambda} = \\frac{n-2}{n}\\frac{1}{\\bar{X}}$\n",
        "\n",
        "Численное значение смещенной оценки: $\\hat{\\lambda} = \\frac{1}{\\bar{X}} = 1.019534276742384$\n",
        "\n",
        "Численное значение несмещенной оценки: $\\tilde{\\lambda} = 0.9787529056726888$"
      ],
      "metadata": {
        "id": "Qq7yti573hfa"
      }
    },
    {
      "cell_type": "markdown",
      "source": [
        "##### ii) Построение асимптотического доверительного интервала уровня значимости $\\alpha_2 = 0.05$ для параметра $\\lambda$ на базе ОМП"
      ],
      "metadata": {
        "id": "hTxQSij5vlmF"
      }
    },
    {
      "cell_type": "markdown",
      "source": [
        "ОМП: $\\hat{\\theta}\\left(\\overrightarrow{X}\\right) = \\frac{1}{\\bar{X}}$\n",
        "\n",
        "$\\sqrt{n}\\left(\\frac{1}{\\bar{X}} - \\theta\\right) \\sim \\mathcal{N} \\left(0, \\frac{1}{I(\\theta))}\\right)$\n",
        "\n",
        "$I_n(\\theta) = -\\mathbb{E}_{\\theta}\\frac{\\partial^2 LL\\left(\\overrightarrow X,\\ \\theta\\right)}{\\partial \\theta^2} = \\mathbb{E}_{\\theta}\\frac{n}{2\\lambda^2} = \\frac{n}{2\\lambda^2} $\n",
        "\n",
        "$I(\\theta) = {\\lim_{n \\to \\infty}}\\frac{1}{2\\lambda^2} = \\frac{1}{2\\lambda^2}$\n",
        "\n",
        "$I(\\hat{\\theta}) = \\frac{\\bar{X}^{2}}{2}$\n",
        "\n",
        "$\\sqrt{n\\frac{\\bar{X}^{2}}{2}}\\left(\\frac{1}{\\bar{X}} - \\theta\\right) \\sim \\mathcal{N} \\left(0, 1\\right)$\n",
        "\n",
        "Возьмем такое $x_\\alpha$, что $\\Phi(x_\\alpha) = 1 - \\frac{\\alpha}{2} = 0.975$\n",
        "\n",
        "Тогда $P_\\theta\\left(-x_\\alpha \\le \\sqrt{n\\frac{\\bar{X}^{2}}{2}}\\left(\\frac{1}{\\bar{X}} - \\theta\\right) \\le x_\\alpha\\right) \\approx 1 - \\alpha = 0.95$\n",
        "\n",
        "$\\left[\\frac{1}{\\bar{X}} - \\frac{\\sqrt{2}x_\\alpha}{\\sqrt{n\\bar{X}^{2}}}, \\frac{1}{\\bar{X}} + \\frac{\\sqrt{2}x_\\alpha}{\\sqrt{n\\bar{X}^{2}}}\\right] \\ni \\lambda$"
      ],
      "metadata": {
        "id": "mT6ksoti8xHU"
      }
    },
    {
      "cell_type": "code",
      "source": [
        "x_alpha = sps.norm.ppf(0.975)\n",
        "print(\"x_alpha = \",x_alpha)\n",
        "print(\"left = \", 1/mean - np.sqrt(2)*x_alpha/np.sqrt(len(data_1)*mean**2))\n",
        "print(\"right = \", 1/mean + np.sqrt(2)*x_alpha/np.sqrt(len(data_1)*mean**2))"
      ],
      "metadata": {
        "colab": {
          "base_uri": "https://localhost:8080/"
        },
        "id": "YbsYnUqO-KJY",
        "outputId": "8343b51a-bddd-4fed-f56f-9f4ccc509d09"
      },
      "execution_count": 422,
      "outputs": [
        {
          "output_type": "stream",
          "name": "stdout",
          "text": [
            "x_alpha =  1.959963984540054\n",
            "left =  0.619884184058551\n",
            "right =  1.4191843694262172\n"
          ]
        }
      ]
    },
    {
      "cell_type": "markdown",
      "source": [
        "$\\left[0.620, 1.419\\right] \\ni \\lambda$"
      ],
      "metadata": {
        "id": "WYLTQv5B-WEA"
      }
    },
    {
      "cell_type": "markdown",
      "source": [
        "##### iii) Построение критерия значимости проверки простой гипотезы согласия с распределением с параметром  $\\lambda_0$ с использованием теоремы Колмогорова. Проверка гипотезы на уровне значимости $\\alpha_2$. Вычисление наибольшего значения уровня значимости, на котором ещё нет оснований отвергнуть данную гипотезу"
      ],
      "metadata": {
        "id": "naJ-b2fKvyy5"
      }
    },
    {
      "cell_type": "markdown",
      "source": [
        "Пусть данная выборка $X_1, X_2, \\dots, X_n$ - выборка из распределения с функцией распределения F.\n",
        "\n",
        "Основная гипотеза: $H_0 : F \\equiv F_{\\lambda_0}$\n",
        "\n",
        "Альтернативная гипотеза: $H_A : \\exists x : F(x) \\neq F_{\\lambda_0}(x)$\n",
        "\n",
        "Составим критерий уровня значимости $\\alpha_2$:\n",
        "\n",
        "$\\phi(x) = 0$, при $D_n \\le x_{\\alpha_2}$\n",
        "\n",
        "$\\phi(x) = 1$, при $D_n > x_{\\alpha_2}$\n",
        "\n",
        "где $x_{\\alpha_2} : K(x_{\\alpha_2} / \\sqrt{n}) = 1 - \\alpha_2$"
      ],
      "metadata": {
        "id": "tftvW9Oq-qJm"
      }
    },
    {
      "cell_type": "code",
      "source": [
        "values, edges = np.histogram(data_2, bins=len(data_2))\n",
        "Y = values.cumsum() / len(data_2)\n",
        "\n",
        "def F_n(x, Y, edges):\n",
        "  for i in range(len(Y)):\n",
        "    if (x > edges[i] and x <= edges[i+1]):\n",
        "      return Y[i]\n",
        "    elif (x > edges[-1]):\n",
        "      return 1\n",
        "    elif (x <= edges[0]):\n",
        "      return 0\n",
        "\n",
        "def F_0(x, lbd):\n",
        "  return sps.gamma.cdf(x, a = 1/2, scale = lbd/2)\n",
        "\n",
        "D = 0\n",
        "x = 0\n",
        "while (x <= 5):\n",
        "  if (D < np.abs(F_n(x, Y, edges) - F_0(x, lambda_0))):\n",
        "    D = np.abs(F_n(x, Y, edges) - F_0(x, lambda_0))\n",
        "  x += 0.001\n",
        "\n",
        "print(\"Статистика критерия Колмогорова Dn:\", D)\n",
        "print(\"x_alpha_2:\", sps.kstwobign.ppf(1 - alpha_2) / np.sqrt(len(data_2)))"
      ],
      "metadata": {
        "colab": {
          "base_uri": "https://localhost:8080/"
        },
        "id": "ZVwhGkFX_C3n",
        "outputId": "c41325b9-2b5d-4ce7-fa89-6532e17f0faf"
      },
      "execution_count": 423,
      "outputs": [
        {
          "output_type": "stream",
          "name": "stdout",
          "text": [
            "Статистика критерия Колмогорова Dn: 0.5185314469174027\n",
            "x_alpha_2: 0.19206415147703973\n"
          ]
        }
      ]
    },
    {
      "cell_type": "markdown",
      "source": [
        "$D_n \\approx 0.519$\n",
        "\n",
        "$x_{\\alpha_2} \\approx 0.192$\n",
        "\n",
        "$D_n > x_{\\alpha_2}$ следовательно отвергаем гипотезу $H_0$"
      ],
      "metadata": {
        "id": "WT8HciDuDwfV"
      }
    },
    {
      "cell_type": "code",
      "source": [
        "print(\"Наибольшее значение уровня значимости, на котором ещё нет оснований отвергнуть данную гипотезу:\", 1 - sps.kstwobign.cdf(D*np.sqrt(len(data_2))))"
      ],
      "metadata": {
        "colab": {
          "base_uri": "https://localhost:8080/"
        },
        "id": "a3vqFtzOD-1V",
        "outputId": "fd9fd50f-e389-441b-dbed-2d2782fc4e56"
      },
      "execution_count": 424,
      "outputs": [
        {
          "output_type": "stream",
          "name": "stdout",
          "text": [
            "Наибольшее значение уровня значимости, на котором ещё нет оснований отвергнуть данную гипотезу: 4.206746062607181e-12\n"
          ]
        }
      ]
    },
    {
      "cell_type": "markdown",
      "source": [
        "##### iv) Построение критерия значимости $\\chi^2$ проверки простой гипотезы согласия с распределением с параметром  $\\lambda_0$. Проверка гипотезы на уровне значимости $\\alpha_2$. Вычисление наибольшего значения уровня значимости, на котором ещё нет оснований отвергнуть данную гипотезу"
      ],
      "metadata": {
        "id": "vbEtT4WYv7z7"
      }
    },
    {
      "cell_type": "markdown",
      "source": [
        "Пусть данная выборка $X_1, X_2, \\dots, X_n$ - выборка из распределения с функцией распределения F.\n",
        "\n",
        "Основная гипотеза: $H_0 : F \\equiv F_{\\lambda_0}$\n",
        "\n",
        "Альтернативная гипотеза: $H_A : \\exists x : F(x) \\neq F_{\\lambda_0}(x)$\n",
        "\n",
        "Вычисление статистики критерия $\\chi^2$ c перегруппировкой выборки:"
      ],
      "metadata": {
        "id": "4lLF79mdHkNJ"
      }
    },
    {
      "cell_type": "code",
      "source": [
        "cur_lambda = lambda_0\n",
        "intervals = [[0, 0.2], [0.2, 0.4], [0.4, 0.75], [0.75, 1.1], [1.1, 2], [2, 5]]\n",
        "freq = [0] * len(intervals) #экспереметальные частоты\n",
        "freq_teor = [0] * len(intervals) #Гипотетические частоты\n",
        "print(\"x            | Частота | Гипотетическая частота\")\n",
        "for i in range(len(intervals)):\n",
        "  a = intervals[i][0]\n",
        "  b = intervals[i][-1]\n",
        "  freq[i] += len([x for x in data_2 if (x >= a and x < b)])\n",
        "  freq_teor[i] += len(data_2) * (sps.gamma.cdf(b, a = 1/2, scale = cur_lambda/2) - sps.gamma.cdf(a, a = 1/2, scale = cur_lambda/2))\n",
        "  if (i == len(intervals) - 1):\n",
        "    freq_teor[i] += len(data_2) * sps.gamma.sf(b, a = 1/2, scale = cur_lambda/2)\n",
        "    print('[', a, \", +inf)\\t\", freq[i], \"\\t\", freq_teor[i])\n",
        "  else:\n",
        "    print('[', a, ',', b, \"]\\t\", freq[i], \"\\t\", freq_teor[i])\n",
        "freq = np.array(freq)\n",
        "freq_teor = np.array(freq_teor)\n",
        "chi_square = np.sum((freq - freq_teor) ** 2 / freq_teor)\n",
        "print(\"Статистика хи-квадрат равна:\", chi_square)"
      ],
      "metadata": {
        "colab": {
          "base_uri": "https://localhost:8080/"
        },
        "id": "ydRVBQ0BH0r_",
        "outputId": "e0bde8d2-4579-4642-b574-fea3715d451d"
      },
      "execution_count": 425,
      "outputs": [
        {
          "output_type": "stream",
          "name": "stdout",
          "text": [
            "x            | Частота | Гипотетическая частота\n",
            "[ 0 , 0.2 ]\t 9 \t 31.44533152386512\n",
            "[ 0.2 , 0.4 ]\t 9 \t 8.259507939531469\n",
            "[ 0.4 , 0.75 ]\t 8 \t 6.131934703425889\n",
            "[ 0.75 , 1.1 ]\t 9 \t 2.366279304476393\n",
            "[ 1.1 , 2 ]\t 8 \t 1.5630597796487622\n",
            "[ 2 , +inf)\t 7 \t 0.2338867490523658\n",
            "Статистика хи-квадрат равна: 257.49933152975996\n"
          ]
        }
      ]
    },
    {
      "cell_type": "markdown",
      "source": [
        "Для составления критерия уровня значимости $\\alpha_2$ необходимо найти $x_{\\alpha_2}$\n",
        "\n",
        "$x_{\\alpha_2} : K_{r-1}(x_{\\alpha_2}) = 1 - \\alpha_2$"
      ],
      "metadata": {
        "id": "9AR8tfIiI7pI"
      }
    },
    {
      "cell_type": "code",
      "source": [
        "print(\"x_alpha_2 равен:\", sps.chi2.ppf(1 - alpha_2, df = len(freq) - 1))"
      ],
      "metadata": {
        "colab": {
          "base_uri": "https://localhost:8080/"
        },
        "id": "KMB3l6Q1JAst",
        "outputId": "511d7623-f990-40ac-cbe7-6889190ae048"
      },
      "execution_count": 426,
      "outputs": [
        {
          "output_type": "stream",
          "name": "stdout",
          "text": [
            "x_alpha_2 равен: 11.070497693516351\n"
          ]
        }
      ]
    },
    {
      "cell_type": "markdown",
      "source": [
        "$\\chi^2 \\approx 257.5$\n",
        "\n",
        "$x_{\\alpha_2} \\approx 11.07$\n",
        "\n",
        "$\\chi^2 > x_{\\alpha_2}$ следовательно гипотеза $H_0$ отвергается"
      ],
      "metadata": {
        "id": "U3i9mPfkJJRX"
      }
    },
    {
      "cell_type": "code",
      "source": [
        "print(\"x_alpha при уровне значимости alpha = 10^(-16) равен:\", sps.chi2.ppf(1 - 10 ** (-16), df = len(freq) - 1))"
      ],
      "metadata": {
        "colab": {
          "base_uri": "https://localhost:8080/"
        },
        "id": "p-3PF-7iJMob",
        "outputId": "f7612e32-65dd-4409-cc4b-5cc562bed991"
      },
      "execution_count": 427,
      "outputs": [
        {
          "output_type": "stream",
          "name": "stdout",
          "text": [
            "x_alpha при уровне значимости alpha = 10^(-16) равен: 84.1950322365213\n"
          ]
        }
      ]
    },
    {
      "cell_type": "markdown",
      "source": [
        "Наибольшее значение уровня значимости, при котором ещё нет оснований отвергнуть данную гипотезу, чрезвычайно мало, много меньше, чем $10^{-16}$."
      ],
      "metadata": {
        "id": "E-1iAZrl4c2P"
      }
    },
    {
      "cell_type": "markdown",
      "source": [
        "##### v) Построение критерия значимости $\\chi^2$ проверки сложной гипотезы согласия с распределением. Проверка гипотезы на уровне значимости $\\alpha_2$. Вычисление наибольшего значения уровня значимости, на котором ещё нет оснований отвергнуть данную гипотезу"
      ],
      "metadata": {
        "id": "1r8XWxyuv8Id"
      }
    },
    {
      "cell_type": "markdown",
      "source": [
        "Пусть данная выборка $X_1, X_2, \\dots, X_n$ - выборка из распределения с функцией распределения F.\n",
        "\n",
        "Основная гипотеза: $H_0 : F \\in \\left\\{F_0(\\theta) : \\theta \\in \\Theta_0 \\right\\}$\n",
        "\n",
        "Альтернативная гипотеза: $H_A : F \\notin \\left\\{F_0(\\theta) : \\theta \\in \\Theta_0 \\right\\}$\n",
        "\n",
        "В качестве оценки неизвестного параметра $\\theta$ возьмем ОМП: $\\hat{\\theta} = \\frac{1}{\\bar{X}}$\n",
        "\n",
        "Вычисление статистики критерия $\\hat{\\chi}^2$ c перегруппировкой выборки:"
      ],
      "metadata": {
        "id": "aQQ8X-D1Jflx"
      }
    },
    {
      "cell_type": "code",
      "source": [
        "cur_lambda = 1 / mean\n",
        "intervals = [[0, 0.2], [0.2, 0.4], [0.4, 0.75], [0.75, 1.1], [1.1, 2], [2, 5]]\n",
        "freq = [0] * len(intervals) #экспереметальные частоты\n",
        "freq_teor = [0] * len(intervals) #Гипотетические частоты\n",
        "print(\"x            | Частота | Гипотетическая частота\")\n",
        "for i in range(len(intervals)):\n",
        "  a = intervals[i][0]\n",
        "  b = intervals[i][-1]\n",
        "  freq[i] += len([x for x in data_2 if (x >= a and x < b)])\n",
        "  freq_teor[i] += len(data_2) * (sps.gamma.cdf(b, a = 1/2, scale = cur_lambda/2) - sps.gamma.cdf(a, a = 1/2, scale = cur_lambda/2))\n",
        "  if (i == len(intervals) - 1):\n",
        "    freq_teor[i] += len(data_2) * sps.gamma.sf(b, a = 1/2, scale = cur_lambda/2)\n",
        "    print('[', a, \", +inf)\\t\", freq[i], \"\\t\", freq_teor[i])\n",
        "  else:\n",
        "    print('[', a, ',', b, \"]\\t\", freq[i], \"\\t\", freq_teor[i])\n",
        "freq = np.array(freq)\n",
        "freq_teor = np.array(freq_teor)\n",
        "chi_square = np.sum((freq - freq_teor) ** 2 / freq_teor)\n",
        "print(\"Статистика хи-квадрат равна:\", chi_square)"
      ],
      "metadata": {
        "colab": {
          "base_uri": "https://localhost:8080/"
        },
        "id": "V118bfqMJw8y",
        "outputId": "354427e5-66b0-4c5d-9587-6c1aeb174d42"
      },
      "execution_count": 428,
      "outputs": [
        {
          "output_type": "stream",
          "name": "stdout",
          "text": [
            "x            | Частота | Гипотетическая частота\n",
            "[ 0 , 0.2 ]\t 9 \t 31.214196309836645\n",
            "[ 0.2 , 0.4 ]\t 9 \t 8.270688370982986\n",
            "[ 0.4 , 0.75 ]\t 8 \t 6.201313513352613\n",
            "[ 0.75 , 1.1 ]\t 9 \t 2.4256857862724135\n",
            "[ 1.1 , 2 ]\t 8 \t 1.6335510437353484\n",
            "[ 2 , +inf)\t 7 \t 0.25456497581999127\n",
            "Статистика хи-квадрат равна: 237.76529777362873\n"
          ]
        }
      ]
    },
    {
      "cell_type": "markdown",
      "source": [
        "Для составления критерия уровня значимости $\\alpha_2$ необходимо найти $x_{\\alpha_2}$\n",
        "\n",
        "$x_{\\alpha_2} : K_{r-2}(x_{\\alpha_2}) = 1 - \\alpha_2$"
      ],
      "metadata": {
        "id": "EJWUQSKJKHY5"
      }
    },
    {
      "cell_type": "code",
      "source": [
        "print(\"x_alpha_2 равен:\", sps.chi2.ppf(1 - alpha_2, df = len(freq) - 2))"
      ],
      "metadata": {
        "colab": {
          "base_uri": "https://localhost:8080/"
        },
        "id": "AV10TEpOKKp4",
        "outputId": "488bffa2-2a93-4b12-ac95-23f0ac167721"
      },
      "execution_count": 429,
      "outputs": [
        {
          "output_type": "stream",
          "name": "stdout",
          "text": [
            "x_alpha_2 равен: 9.487729036781154\n"
          ]
        }
      ]
    },
    {
      "cell_type": "markdown",
      "source": [
        "$\\hat{\\chi}^2 \\approx 237.8$\n",
        "\n",
        "$x_{\\alpha_2} \\approx 9.49$\n",
        "\n",
        "$\\hat{\\chi}^2 > x_{\\alpha_2}$ следовательно гипотеза $H_0$ отвергается"
      ],
      "metadata": {
        "id": "jx2StxyVKWmQ"
      }
    },
    {
      "cell_type": "code",
      "source": [
        "print(\"x_alpha при уровне значимости alpha = 10^(-16) равен:\", sps.chi2.ppf(1 - 10 ** (-16), df = len(freq) - 2))"
      ],
      "metadata": {
        "colab": {
          "base_uri": "https://localhost:8080/"
        },
        "id": "BOmIuwPzKjMG",
        "outputId": "0c920649-653a-4df5-9ccd-9f5d170cf7f7"
      },
      "execution_count": 430,
      "outputs": [
        {
          "output_type": "stream",
          "name": "stdout",
          "text": [
            "x_alpha при уровне значимости alpha = 10^(-16) равен: 80.92313496617493\n"
          ]
        }
      ]
    },
    {
      "cell_type": "markdown",
      "source": [
        "Наибольшее значение уровня значимости, при котором ещё нет оснований отвергнуть данную гипотезу, чрезвычайно мало, много меньше, чем $10^{-16}$."
      ],
      "metadata": {
        "id": "uxHbE1zG4e9Z"
      }
    },
    {
      "cell_type": "markdown",
      "source": [
        "##### vi) Построение наиболее мощного критерия проверки простой гипотезы с параметром $\\lambda_0$ при альтернативе с параметром $\\lambda_1$. Проверка гипотезы на уровне значимости $\\alpha_2$\n"
      ],
      "metadata": {
        "id": "dES5VbKAwNTx"
      }
    },
    {
      "cell_type": "markdown",
      "source": [
        "Основная гипотеза: $H_0 : \\lambda = \\lambda_0$\n",
        "\n",
        "Альтернативная гипотеза: $H_A : \\lambda = \\lambda_1$\n",
        "\n",
        "Функция правдоподобия имеет вид:\n",
        "\n",
        "$L\\left(\\overrightarrow{X}, \\theta\\right) = \\left(\\frac{\\lambda}{2\\pi}\\right)^{n/2}\\exp\\left(-\\frac{\\lambda}{2}\\sum_{i=1}^{n}{x_i}\\right)\\prod_{i=1}^{n}\\frac{1}{\\sqrt{x_i}}$\n",
        "\n",
        "Тогда статистика отношения правдоподобия имеет вид:\n",
        "\n",
        "$LR\\left(\\overrightarrow{X}, \\lambda_0, \\lambda_1\\right) = \\frac{L\\left(\\overrightarrow{X}, \\lambda_1\\right)}{L\\left(\\overrightarrow{X}, \\lambda_0\\right)} = \\left(\\frac{\\lambda_1}{\\lambda_0}\\right)^{n/2}\\exp(-\\frac{1}{2}(\\lambda_1 - \\lambda_0) \\sum_{i=1}^{n}x_i)$\n",
        "\n",
        "Так как $LR\\left(\\overrightarrow{X}, \\lambda_0, \\lambda_1\\right)$ монотонна относительно МДС $\\bar{X}$\n",
        "\n",
        "$LR\\left(\\overrightarrow{X}\\right) = \\left(\\frac{\\lambda_1}{\\lambda_0}\\right)^{n/2}\\exp(-\\frac{1}{2}(\\lambda_1 - \\lambda_0) \\sum_{i=1}^{n}x_i) > c \\iff \\frac{n}{2}\\ln\\frac{\\lambda_1}{\\lambda_0} - \\frac{1}{2}(\\lambda_1 - \\lambda_0)\\sum_{i=1}^{n}{x_i} > \\ln c \\iff \\bar{X} > -\\frac{\\ln c - \\frac{n}{2}\\ln\\frac{\\lambda_1}{\\lambda_0}}{\\frac{1}{2}(\\lambda_1 - \\lambda_0)} = c^*$\n",
        "\n",
        "$LR\\left(\\overrightarrow{X}\\right) < c \\iff \\bar{X} < c^*$\n",
        "\n",
        "Решим уравнение: $P_{\\lambda_0}\\left(LR(\\overrightarrow{X}) > c\\right) + pP_{\\lambda_0}\\left(LR(\\overrightarrow{X}) = c\\right) = \\alpha_2$\n",
        "\n",
        "$P_{\\lambda_0}\\left(n\\bar{X} > nc^*\\right) + pP_{\\lambda_0}\\left(n\\bar{X} = nc^*\\right) = \\alpha_2$\n",
        "\n",
        "Критерий не определен однозначно при $LR(\\overrightarrow{X}) = c$\n",
        "\n",
        "Пусть $LR(\\overrightarrow{X}) \\neq c$\n",
        "\n",
        "Тогда $P_{\\lambda_0}\\left(n\\bar{X} > nc^*\\right) = 1 - F_{Gamma(n/2, 2/\\lambda_0)}\\left(nc^*\\right) = \\alpha_2$\n",
        "\n",
        "$F_{Gamma(n/2, 2/\\lambda_0)}\\left(nc^*\\right) = 1 - \\alpha_2 = 0.95$"
      ],
      "metadata": {
        "id": "PZ6LkbCS0pC4"
      }
    },
    {
      "cell_type": "code",
      "source": [
        "print(\"c^* = \", sps.gamma.ppf(0.95, a = len(data_2)/2, scale = lambda_0/2) / len(data_2))"
      ],
      "metadata": {
        "colab": {
          "base_uri": "https://localhost:8080/"
        },
        "id": "tiJoF-zF11yw",
        "outputId": "a74668e5-1067-400a-ac6c-4b07dfb29455"
      },
      "execution_count": 431,
      "outputs": [
        {
          "output_type": "stream",
          "name": "stdout",
          "text": [
            "c^* =  0.337524032747706\n"
          ]
        }
      ]
    },
    {
      "cell_type": "markdown",
      "source": [
        "$c^* = 0.34$\n",
        "\n",
        "$\\bar{X} = 0.98$\n",
        "\n",
        "$c^* < \\bar{X}$ следовательно отвергаем гипотезу $H_0$\n",
        "\n",
        "Поменяем гипотезы местами\n",
        "\n",
        "Основная гипотеза: $H_0 : \\lambda = \\lambda_1$\n",
        "\n",
        "Альтернативная гипотеза: $H_A : \\lambda = \\lambda_0$\n",
        "\n",
        "Тогда статистика отношения правдоподобия имеет вид:\n",
        "\n",
        "$LR\\left(\\overrightarrow{X}, \\lambda_1, \\lambda_0\\right) = \\frac{L\\left(\\overrightarrow{X}, \\lambda_0\\right)}{L\\left(\\overrightarrow{X}, \\lambda_1\\right)} = \\left(\\frac{\\lambda_0}{\\lambda_1}\\right)^{n/2}\\exp(-\\frac{1}{2}(\\lambda_0 - \\lambda_1) \\sum_{i=1}^{n}x_i)$\n",
        "\n",
        "Так как $LR\\left(\\overrightarrow{X}, \\lambda_1, \\lambda_0\\right)$ монотонна относительно МДС $\\bar{X}$\n",
        "\n",
        "$LR\\left(\\overrightarrow{X}\\right) > c \\iff \\bar{X} > c^*$\n",
        "\n",
        "Решим уравнение: $P_{\\lambda_1}\\left(LR(\\overrightarrow{X}) > c\\right) + pP_{\\lambda_1}\\left(LR(\\overrightarrow{X}) = c\\right) = \\alpha_1$\n",
        "\n",
        "$P_{\\lambda_1}\\left(n\\bar{X} > nc^*\\right) + pP_{\\lambda_1}\\left(n\\bar{X} = nc^*\\right) = \\alpha_1$\n",
        "\n",
        "Критерий не определен однозначно при $LR(\\overrightarrow{X}) = c$\n",
        "\n",
        "Пусть $LR(\\overrightarrow{X}) \\neq c$\n",
        "\n",
        "Тогда $P_{\\lambda_1}\\left(n\\bar{X} > nc^*\\right) = 1 - F_{Gamma(n/2, 2/\\lambda_1)}\\left(nc^*\\right) = \\alpha_1$\n",
        "\n",
        "$F_{Gamma(n/2, 2/\\lambda_1)}\\left(nc^*\\right) = 1 - \\alpha_1 = 0.95$"
      ],
      "metadata": {
        "id": "ehqGCF8N2Oze"
      }
    },
    {
      "cell_type": "code",
      "source": [
        "print(\"c^* = \", sps.gamma.ppf(0.95, a = len(data_2)/2, scale = lambda_1/2) / len(data_2))"
      ],
      "metadata": {
        "colab": {
          "base_uri": "https://localhost:8080/"
        },
        "id": "Yp55DW742pPK",
        "outputId": "0e1c9181-d418-43b6-b2dd-5479a9d3001c"
      },
      "execution_count": 432,
      "outputs": [
        {
          "output_type": "stream",
          "name": "stdout",
          "text": [
            "c^* =  0.168762016373853\n"
          ]
        }
      ]
    },
    {
      "cell_type": "markdown",
      "source": [
        "$c^* = 0.17$\n",
        "\n",
        "$\\bar{X} = 0.98$\n",
        "\n",
        "$c^* < \\bar{X}$ следовательно отвергаем гипотезу $H_0$"
      ],
      "metadata": {
        "id": "K1Sb_HwW2uYU"
      }
    },
    {
      "cell_type": "markdown",
      "metadata": {
        "id": "dVpsrziO3Jtr"
      },
      "source": [
        "## Выводы\n",
        "В ходе выполнения практической работы были изучены и реализованы методов математической статистики для решения задач статистического анализа.\n",
        "\n",
        "Сформировались навыки реализации методов с помощью прикладных программных пакетов.\n",
        "\n",
        "Получены навыки проведения анализа выборочных данных, построения доверительных интервалов, проверки различных статистических гипотез.\n",
        "\n",
        "Закреплена на практике работа с различными семействами распределений\n",
        "\n",
        "Изучены программные пакеты библиотеки scipy."
      ]
    }
  ],
  "metadata": {
    "kernelspec": {
      "display_name": "python",
      "language": "python",
      "name": "python3"
    },
    "language_info": {
      "codemirror_mode": {
        "name": "ipython",
        "version": 3
      },
      "file_extension": ".py",
      "mimetype": "text/x-python",
      "name": "python",
      "nbconvert_exporter": "python",
      "pygments_lexer": "ipython3",
      "version": "3.7.8"
    },
    "colab": {
      "provenance": []
    }
  },
  "nbformat": 4,
  "nbformat_minor": 0
}