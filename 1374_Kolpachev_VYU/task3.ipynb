{
  "cells": [
    {
      "cell_type": "markdown",
      "metadata": {
        "id": "TMki46uFKQy2"
      },
      "source": [
        "# Практическая работа №3: Регрессионный анализ\n",
        "Выполнил студент гр. 1374 Колпачев Владислав. Вариант №9"
      ]
    },
    {
      "cell_type": "markdown",
      "metadata": {
        "id": "IxnLjERAKQy4"
      },
      "source": [
        "## Цель работы\n",
        "Ознакомление с основными положениями метода наименьших квадратов (МНК), со статистическими свойствами МНК-оценок, с понятием функции регрессии и роли МНК в регрессионном анализе."
      ]
    },
    {
      "cell_type": "markdown",
      "metadata": {
        "id": "L8QAXQxLKQy4"
      },
      "source": [
        "## Основные теоретические положения\n"
      ]
    },
    {
      "cell_type": "markdown",
      "source": [
        "1\\. Регрессионная модель: $\\mathbb{E}_{\\theta}(Y|z)=f_{\\theta}(z)$, где $Y$ - наблюдения, а $z$ - ковариата\n",
        "\n",
        "Линейная регрессионная модель: $\\mathbb{E}_{\\theta}(Y|z)=x(z)^\\intercal\\beta$, где $\\beta$ - вектор параметров регрессии, a $x(z)$ - вектор регрессоров\n",
        "\n",
        "Статистическая модель: $\\mathbb{E}_{\\theta}(Y|z)=X^\\intercal\\beta$, $Var(Y|z) = \\sigma^2E$\n",
        "\n",
        "2\\. МНК\n",
        "\n",
        "Альтернативная форма записи модели линейной регрессии: $Y = X^\\intercal\\beta + \\varepsilon, \\mathbb{E}_{\\theta}\\varepsilon = 0, Var_{\\theta}\\varepsilon = \\sigma^2E$, где $\\varepsilon$ - вектор ошибок\n",
        "\n",
        "Метод наименьших квадратов: $RSS(\\beta)=\\left\\| Y-X^\\intercal\\beta \\right\\|^2=(Y-X^\\intercal\\beta)^\\intercal(Y-X^\\intercal\\beta)\\to \\min_\\beta$\n",
        "\n",
        "Нормальные уравнения: $XX^\\intercal\\beta=XY$\n",
        "\n",
        "Решение системы нормальных уравнений в регулярном случае: $\\hat{\\beta}=(XX^\\intercal)^{-1}XY$\n",
        "\n",
        "3\\. Оценка параметра $\\sigma^2$\n",
        "\n",
        "$S^2 =\\frac{SS_e}{n-r} =\\frac{RSS(\\hat{\\beta})}{n-r}$, где $r = rank X$\n",
        "\n",
        "4\\. Линейная функция параметра\n",
        "\n",
        "$\\psi(\\beta) = C^\\intercal\\beta$\n",
        "\n",
        "$\\psi(\\beta)$ допускает несмещенное оценивание, если $\\exists L(Y) = B Y : \\forall \\beta : \\mathbb{E}_\\beta L(Y) = C^\\intercal\\beta$, где $C$ - матрица $m \\times q$, $q$ - длина функции параметра\n",
        "\n",
        "5\\. Теорема Гаусса-Маркова\n",
        "\n",
        "В модели линейной регрессии каждая ДНО-функция параметра $\\psi(\\beta) = C^\\intercal\\beta$, $C = (c_1, \\dots, c_m)^\\intercal$ имеет НРМД - оценку $\\hat{\\psi}$. Эта оценка единственна в классе линейных несмещенных оценоки и равна $\\hat{\\psi} = \\sum_{i = 1}^{m}c_i\\hat{\\beta}_i$, где \\hat{\\beta} - произвольное решение системы нормальных уравнений.\n",
        "\n",
        "6\\. Предположения\n",
        "\n",
        "Классическое предположение: $ Y \\sim \\mathcal{N}(X^\\intercal\\beta,\\sigma^2E) $\n",
        "\n",
        "Эквивалентное предположение об остатках:  $ \\varepsilon \\sim \\mathcal{N}(0,\\sigma^2E) $\n",
        "\n",
        "7\\. Доверительный интервал\n",
        "\n",
        "ДНО - функция: $\\psi(\\beta) = C^\\intercal\\beta$\n",
        "\n",
        "МНК оценка: $\\hat{\\psi}= C^\\intercal\\hat{\\beta}$\n",
        "\n",
        "$b_\\psi = C^\\intercal(XX^\\intercal)^{-1}C$\n",
        "\n",
        "Распределение: $\\hat{\\psi} \\sim \\mathcal{N}(\\psi,\\sigma^2b_\\psi) $\n",
        "\n",
        "Тогда $\\frac{\\hat{\\psi} - {\\psi}}{S\\sqrt{b_\\psi}} \\sim S_{n-r}$\n",
        "\n",
        "Доверительный интервал: $\\left[\\hat{\\psi} - x_\\alpha S \\sqrt{b_\\psi}; \\hat{\\psi} + x_\\alpha S \\sqrt{b_\\psi}\\right]$, где $x_\\alpha: S_{n-r}(x_\\alpha) = 1 - \\frac{\\alpha}{2}$\n",
        "\n",
        "8\\. Доверительный эллипсоид\n",
        "\n",
        "$b_\\psi = C^\\intercal(XX^\\intercal)^{-1}C$\n",
        "\n",
        "Распределение: $\\frac{\\left(\\hat{\\psi} - {\\psi}\\right)^\\intercal {b_\\psi}^{-1} \\left(\\hat{\\psi} - {\\psi}\\right)}{qS^2} \\sim \\mathcal{F}_{q,n-r}$\n",
        "\n",
        "Доверительный эллипсоид: $\\left\\{\\overrightarrow{x} : \\left(\\overrightarrow{x} - \\hat{\\psi}\\right)^\\intercal b_\\psi^{-1} \\left(\\overrightarrow{x} - \\hat{\\psi}\\right) \\le q S^2 x_\\alpha\\right\\}$,где $x_\\alpha: \\mathcal{F}_{q, n-r}(x_\\alpha) = 1 - \\alpha$\n",
        "\n",
        "9\\. Проверка гипотез\n",
        "\n",
        "Основная гипотеза $H_0:\\psi=0$\n",
        "\n",
        "Статистика: $\\mathbb{F} = \\frac{SS_H/q}{SS_e/(n-r)}$, где $SS_H = RSS(\\hat{\\beta}_H) - RSS(\\hat{\\beta})$, где $\\hat{\\beta}_H$ - МНК оценка при выполнении основной гипотезы\n",
        "\n",
        "$\\mathbb{F} \\sim \\mathcal{F}_{q,n-r}$\n",
        "\n",
        "$x_\\alpha: \\mathcal{F}_{q, n-r}(x_\\alpha) = 1 - \\alpha$"
      ],
      "metadata": {
        "id": "jFPa92Ep8w97"
      }
    },
    {
      "cell_type": "markdown",
      "metadata": {
        "id": "gfzpateTKQy5"
      },
      "source": [
        "## Постановка задачи\n",
        "Результаты статистического эксперимента представлены в виде двух переменных. Требуется оценить характер (случайной) зависимости переменной $Y$ от переменной $X$. Полученные результаты содержательно проинтерпретировать."
      ]
    },
    {
      "cell_type": "markdown",
      "metadata": {
        "id": "M078kNOlKQy5"
      },
      "source": [
        "## Выполнение работы\n"
      ]
    },
    {
      "cell_type": "code",
      "source": [
        "import matplotlib.pyplot as plt\n",
        "import numpy as np\n",
        "import scipy.stats as sps\n",
        "import sympy\n",
        "from sympy.solvers.solveset import nonlinsolve\n",
        "Y = [19.39, 8.76, 8.98, 27.71, 7.16, 6.50, 10.21, 5.15, 6.02, 19.25, 3.21, 13.97, 2.05, 3.84, 17.57, 7.07, 7.17,\n",
        "     20.64, 7.83, 16.53, 26.36, 5.15, 10.63, 14.49, 12.92, 1.69, 8.32, 18.81, 9.09, 10.71, 26.66, 10.38, 1.13, 12.28,\n",
        "     19.29, 19.34, 8.57, 12.92, 15.08, 3.81, 15.23, 1.40, 7.25, 4.73, 8.02, 0.20, 15.67, 22.88, 21.70, 13.35]\n",
        "X = [0, 1, 0, 3, 0, 3, 3, 2, 1, 3, 3, 3, 0, 1, 2, 0, 2, 1, 3, 1, 1, 2, 2, 2, 2, 1,\n",
        "     3, 2, 0, 2, 3, 3, 2, 1, 3, 2, 1, 1, 2, 0, 2, 2, 2, 1, 2, 0, 0, 1, 1, 1]\n",
        "alpha = 0.1\n",
        "h = 2.6"
      ],
      "metadata": {
        "id": "cz1_29QDLLlz"
      },
      "execution_count": 122,
      "outputs": []
    },
    {
      "cell_type": "markdown",
      "source": [
        "### 1. Построить графически результаты эксперимента. Сформулировать линейную регрессионную модель переменной $Y$ по переменной $X$. Построить МНК оценки параметров сдвига $\\beta_0$ и масштаба $\\beta_1$. Построить полученную линию регрессии. Оценить визуально соответствие полученных данных и построенной оценки."
      ],
      "metadata": {
        "id": "Bh_5hh0jMDN7"
      }
    },
    {
      "cell_type": "code",
      "source": [
        "fig, ax = plt.subplots()\n",
        "ax.scatter(X, Y)\n",
        "ax.set_xlabel('X')\n",
        "ax.set_ylabel('Y')\n",
        "plt.show()"
      ],
      "metadata": {
        "colab": {
          "base_uri": "https://localhost:8080/",
          "height": 449
        },
        "id": "P57NIly3MhnJ",
        "outputId": "2f87cad0-591e-40e1-dd84-50af955d41c5"
      },
      "execution_count": 123,
      "outputs": [
        {
          "output_type": "display_data",
          "data": {
            "text/plain": [
              "<Figure size 640x480 with 1 Axes>"
            ],
            "image/png": "[encoded data removed]"
          },
          "metadata": {}
        }
      ]
    },
    {
      "cell_type": "markdown",
      "source": [
        "Линейная регрессионная модель:\n",
        "\n",
        "$\\mathbb{E}_{\\theta}(Y|z) = x(z)^{\\intercal}\\beta$\n",
        "\n",
        "$Y = \\beta_0 + \\beta_1 X + \\varepsilon$\n",
        "\n",
        "Построение МНК оценок:"
      ],
      "metadata": {
        "id": "WW2r5TmGOJWc"
      }
    },
    {
      "cell_type": "code",
      "source": [
        "Y_matrix = np.matrix(Y).T\n",
        "X_matrix = np.matrix([[1] * len(X), X])\n",
        "print(\"Определитель матрицы X*X_transpose = \", np.linalg.det(X_matrix * X_matrix.T))\n",
        "Beta_matrix = np.linalg.inv(X_matrix * X_matrix.T) * X_matrix * Y_matrix\n",
        "beta_0 = float(Beta_matrix[0])\n",
        "beta_1 = float(Beta_matrix[1])\n",
        "print(f\"Оценка вектора бета: ({beta_0}, {beta_1})\")"
      ],
      "metadata": {
        "colab": {
          "base_uri": "https://localhost:8080/"
        },
        "id": "wTF3LUQuP4aZ",
        "outputId": "442247df-770c-4546-8ede-536cc6f5d185"
      },
      "execution_count": 124,
      "outputs": [
        {
          "output_type": "stream",
          "name": "stdout",
          "text": [
            "Определитель матрицы X*X_transpose =  2609.0000000000005\n",
            "Оценка вектора бета: (9.46452663855883, 1.314476811038714)\n"
          ]
        }
      ]
    },
    {
      "cell_type": "code",
      "source": [
        "fig, ax = plt.subplots()\n",
        "ax.scatter(X, Y)\n",
        "ax.plot([0,3], [beta_0, beta_0 + beta_1 * 3], color = 'r')\n",
        "\n",
        "ax.set_xlabel('X')\n",
        "ax.set_ylabel('Y')\n",
        "plt.show()"
      ],
      "metadata": {
        "colab": {
          "base_uri": "https://localhost:8080/",
          "height": 449
        },
        "id": "VJPLqcTeV1SG",
        "outputId": "81413655-0e7d-4546-90ac-3d39dc517b3b"
      },
      "execution_count": 125,
      "outputs": [
        {
          "output_type": "display_data",
          "data": {
            "text/plain": [
              "<Figure size 640x480 with 1 Axes>"
            ],
            "image/png": "[encoded data removed]"
          },
          "metadata": {}
        }
      ]
    },
    {
      "cell_type": "markdown",
      "source": [
        "Очевидно, что модель линейной регрессии не подходит к заданным данным."
      ],
      "metadata": {
        "id": "PzqwuzCmXX-a"
      }
    },
    {
      "cell_type": "markdown",
      "source": [
        "### 2. Построить и интерпретировать несмещённую оценку дисперсии. На базе ошибок построить гистограмму с шагом $h$. Проверить гипотезу нормальности ошибок на уровне значимости $\\alpha$ по $\\chi^2$. Оценить расстояние полученной оценки до класса нормальных распределений по Колмогорову. Визуально оценить данный факт."
      ],
      "metadata": {
        "id": "Y73Qyq-cX33H"
      }
    },
    {
      "cell_type": "code",
      "source": [
        "unbias_var = np.linalg.norm(Y_matrix - X_matrix.T * Beta_matrix)**2/(len(X) - np.linalg.matrix_rank(X_matrix))\n",
        "print(\"Несмещённая оценка дисперсии =\", unbias_var)"
      ],
      "metadata": {
        "colab": {
          "base_uri": "https://localhost:8080/"
        },
        "id": "A05cb7NiYeb-",
        "outputId": "16c477ba-4c6f-4b44-c11a-63865faac3e2"
      },
      "execution_count": 126,
      "outputs": [
        {
          "output_type": "stream",
          "name": "stdout",
          "text": [
            "Несмещённая оценка дисперсии = 50.038567212852946\n"
          ]
        }
      ]
    },
    {
      "cell_type": "code",
      "source": [
        "mistakes = Y_matrix - X_matrix.T * Beta_matrix\n",
        "fig, ax = plt.subplots()\n",
        "bins = [x / 10.0 for x in range(int(min(mistakes)) * 10, int(max(mistakes)) * 10 + 5, int(h * 10))]\n",
        "ax.hist(mistakes, bins = bins, linewidth=1, edgecolor='black')\n",
        "plt.title(\"Гистограмма ошибок с шагом h\")\n",
        "plt.show()"
      ],
      "metadata": {
        "colab": {
          "base_uri": "https://localhost:8080/",
          "height": 452
        },
        "id": "DSFxTrLxarSF",
        "outputId": "6ebb996a-45aa-429b-9e0d-7e66f421bd2a"
      },
      "execution_count": 127,
      "outputs": [
        {
          "output_type": "display_data",
          "data": {
            "text/plain": [
              "<Figure size 640x480 with 1 Axes>"
            ],
            "image/png": "[encoded data removed]"
          },
          "metadata": {}
        }
      ]
    },
    {
      "cell_type": "markdown",
      "source": [
        "Пусть данная выборка $X_1, X_2, \\dots, X_n$ - выборка из распределения с функцией распределения F.\n",
        "\n",
        "Основная гипотеза: $H_0 : F \\equiv \\mathcal{N}(0, S^2)$\n",
        "\n",
        "Альтернативная гипотеза: $H_A : \\exists x : F(x) \\neq F_{\\theta}(x)$\n",
        "\n",
        "Вычисление статистики критерия $\\chi^2$ c перегруппировкой выборки:"
      ],
      "metadata": {
        "id": "L2tQ793VhjIs"
      }
    },
    {
      "cell_type": "code",
      "source": [
        "mean_mistakes = 0\n",
        "std_mistakes = np.sqrt(unbias_var)\n",
        "\n",
        "intervals = [[-10, -10+2*h], [-10+2*h, -10+4*h], [-10+4*h, -10+6*h], [-10+6*h, -10+8*h], [-10+8*h, -10+10*h]]\n",
        "freq = [0] * len(intervals) #экспереметальные частоты\n",
        "freq_teor = [0] * len(intervals) #Гипотетические частоты\n",
        "print(\"x            | Частота | Гипотетическая частота\")\n",
        "for i in range(len(intervals)):\n",
        "  a = intervals[i][0]\n",
        "  b = intervals[i][-1]\n",
        "  freq[i] += len([x for x in mistakes if (x >= a and x < b)])\n",
        "  freq_teor[i] += len(mistakes) * (sps.norm.cdf(b, loc = mean_mistakes, scale = std_mistakes) - sps.norm.cdf(a, loc = mean_mistakes, scale = std_mistakes))\n",
        "  if (i == len(intervals) - 1):\n",
        "    freq_teor[i] += len(mistakes) * sps.norm.sf(b, loc = mean_mistakes, scale = std_mistakes)\n",
        "    print('[', round(a, 1), \", +inf)\\t\", freq[i], \"\\t\", freq_teor[i])\n",
        "  else:\n",
        "    print('[', round(a, 1), ',', round(b, 1), \"]\\t\", freq[i], \"\\t\", freq_teor[i])\n",
        "freq = np.array(freq)\n",
        "freq_teor = np.array(freq_teor)\n",
        "chi_square = np.sum((freq - freq_teor) ** 2 / freq_teor)\n",
        "print(\"Статистика хи-квадрат равна:\", chi_square)\n",
        "print(\"x_alpha равен:\", sps.chi2.ppf(1 - alpha, df = len(freq) - 1))"
      ],
      "metadata": {
        "colab": {
          "base_uri": "https://localhost:8080/"
        },
        "id": "Pi80gHEtcu6Y",
        "outputId": "1b5d30da-9a41-4028-b5ba-fe6f483e3c71"
      },
      "execution_count": 128,
      "outputs": [
        {
          "output_type": "stream",
          "name": "stdout",
          "text": [
            "x            | Частота | Гипотетическая частота\n",
            "[ -10 , -4.8 ]\t 13 \t 8.498921977857457\n",
            "[ -4.8 , 0.4 ]\t 12 \t 13.691939648883292\n",
            "[ 0.4 , 5.6 ]\t 9 \t 13.158600188600616\n",
            "[ 5.6 , 10.8 ]\t 8 \t 7.543550869254761\n",
            "[ 10.8 , +inf)\t 5 \t 3.1705055262473545\n",
            "Статистика хи-квадрат равна: 4.990445730617339\n",
            "x_alpha равен: 7.779440339734858\n"
          ]
        }
      ]
    },
    {
      "cell_type": "markdown",
      "source": [
        "$\\chi^2 \\approx 4.99$\n",
        "\n",
        "$x_{\\alpha} \\approx 7.78$\n",
        "\n",
        "$\\chi^2 < x_{\\alpha_2}$ следовательно гипотеза о нормальности принимается"
      ],
      "metadata": {
        "id": "UW3kajpUgAOE"
      }
    },
    {
      "cell_type": "code",
      "source": [
        "print(\"Статистика критерия Колмогорова Dn:\", sps.kstest([element[0,0] for element in mistakes], \"norm\", args = (mean_mistakes,std_mistakes)).statistic)\n",
        "print(\"x_alpha:\", sps.kstwobign.ppf(1 - alpha) / np.sqrt(len(mistakes)))"
      ],
      "metadata": {
        "colab": {
          "base_uri": "https://localhost:8080/"
        },
        "id": "wbeO7SiizWYZ",
        "outputId": "85a59af5-5147-43bf-d4ae-f49b2d391a90"
      },
      "execution_count": 129,
      "outputs": [
        {
          "output_type": "stream",
          "name": "stdout",
          "text": [
            "Статистика критерия Колмогорова Dn: 0.09752985344223519\n",
            "x_alpha: 0.17307822563424255\n"
          ]
        }
      ]
    },
    {
      "cell_type": "markdown",
      "source": [
        "$D_n \\approx 0.10$\n",
        "\n",
        "$x_{\\alpha} \\approx 0.17$\n",
        "\n",
        "$D_n < x_{\\alpha_2}$ следовательно гипотеза о нормальности принимается"
      ],
      "metadata": {
        "id": "k79ThA5j3w3A"
      }
    },
    {
      "cell_type": "code",
      "source": [
        "mistakes = Y_matrix - X_matrix.T * Beta_matrix\n",
        "fig, ax = plt.subplots()\n",
        "bins = [x / 10.0 for x in range(int(min(mistakes)) * 10, int(max(mistakes)) * 10 + 5, int(h * 10))]\n",
        "ax.hist(mistakes, bins = bins, linewidth=1, edgecolor='black')\n",
        "plt.plot(np.arange(min(mistakes), max(mistakes) + 1, 0.01), sps.norm.pdf(np.arange(min(mistakes), max(mistakes) + 1, 0.01), mean_mistakes, std_mistakes) * len(mistakes))\n",
        "plt.show()"
      ],
      "metadata": {
        "colab": {
          "base_uri": "https://localhost:8080/",
          "height": 430
        },
        "id": "FGuljnoG33Yn",
        "outputId": "70ea8bf6-5b18-4ad5-a9f6-0200423a6c69"
      },
      "execution_count": 130,
      "outputs": [
        {
          "output_type": "display_data",
          "data": {
            "text/plain": [
              "<Figure size 640x480 with 1 Axes>"
            ],
            "image/png": "[encoded data removed]"
          },
          "metadata": {}
        }
      ]
    },
    {
      "cell_type": "markdown",
      "source": [
        "Видно, что очертания нормальности присутсвуют, но однозначно сделать вывод о нормальности по визуальной оценке не представляется возможным."
      ],
      "metadata": {
        "id": "-JHTKxUk6v9d"
      }
    },
    {
      "cell_type": "markdown",
      "source": [
        "### 3. В предположении нормальности ошибок построить доверительные интервалы для параметров $\\beta_0$ и $\\beta_1$ уровня доверия $1 - \\alpha$. Построить доверительный эллипс уровня доверия $1 - \\alpha$ для $(\\beta_0, \\beta_1)$ (вычислить его полуоси)."
      ],
      "metadata": {
        "id": "Fq66_LpOieBC"
      }
    },
    {
      "cell_type": "markdown",
      "source": [
        "Доверительный интервал для параметра $\\beta_0$:\n",
        "\n",
        "ДНО-функция: $\\psi = C^\\intercal \\beta = \\beta_0$\n",
        "\n",
        "Тогда $C = (1, 0)^\\intercal$\n",
        "\n",
        "Тогда МНК оценка равна $\\hat{\\psi} = \\hat{\\beta}_0$\n",
        "\n",
        "Найдем доверительный интервал вида: $\\left[\\hat{\\psi} - x_\\alpha S \\sqrt{b_\\psi}; \\hat{\\psi} + x_\\alpha S \\sqrt{b_\\psi}\\right]$,\n",
        "\n",
        "где $x_\\alpha: S_{n-r}(x_\\alpha) = 1 - \\frac{\\alpha}{2}$, $b_\\psi = C^\\intercal(XX^\\intercal)^{-1}C$"
      ],
      "metadata": {
        "id": "U8-DGSrooL5A"
      }
    },
    {
      "cell_type": "code",
      "source": [
        "r = np.linalg.matrix_rank(X_matrix)\n",
        "n = len(X)\n",
        "x_alpha = sps.t.ppf(1 - alpha/2, df = n - r)\n",
        "C = np.matrix([[1], [0]])\n",
        "b_psi = float(C.T * np.linalg.inv(X_matrix * X_matrix.T) * C)\n",
        "print(\"x_alpha = \", x_alpha)\n",
        "print(\"left = \", beta_0 - x_alpha * np.sqrt(unbias_var) * np.sqrt(b_psi))\n",
        "print(\"right = \", beta_0 + x_alpha * np.sqrt(unbias_var) * np.sqrt(b_psi))"
      ],
      "metadata": {
        "colab": {
          "base_uri": "https://localhost:8080/"
        },
        "id": "pXNxCVNiqOfb",
        "outputId": "f2da0e57-1ab2-4e52-91f6-4f5738390f51"
      },
      "execution_count": 131,
      "outputs": [
        {
          "output_type": "stream",
          "name": "stdout",
          "text": [
            "x_alpha =  1.6772241953450393\n",
            "left =  6.374279981114464\n",
            "right =  12.554773296003196\n"
          ]
        }
      ]
    },
    {
      "cell_type": "markdown",
      "source": [
        "$\\left[6.374, 12.555\\right] \\ni \\beta_0$"
      ],
      "metadata": {
        "id": "kKd9q97HsoIE"
      }
    },
    {
      "cell_type": "markdown",
      "source": [
        "Доверительный интервал для параметра $\\beta_1$:\n",
        "\n",
        "ДНО-функция: $\\psi = C^\\intercal \\beta = \\beta_1$\n",
        "\n",
        "Тогда $C = (0, 1)^\\intercal$\n",
        "\n",
        "Тогда МНК оценка равна $\\hat{\\psi} = \\hat{\\beta}_1$\n",
        "\n",
        "Найдем доверительный интервал вида: $\\left[\\hat{\\psi} - x_\\alpha S \\sqrt{b_\\psi}; \\hat{\\psi} + x_\\alpha S \\sqrt{b_\\psi}\\right]$,\n",
        "\n",
        "где $x_\\alpha: S_{n-r}(x_\\alpha) = 1 - \\frac{\\alpha}{2}$, $b_\\psi = C^\\intercal(XX^\\intercal)^{-1}C$"
      ],
      "metadata": {
        "id": "taNEsT4ysyRn"
      }
    },
    {
      "cell_type": "code",
      "source": [
        "r = np.linalg.matrix_rank(X_matrix)\n",
        "n = len(X)\n",
        "x_alpha = sps.t.ppf(1 - alpha/2, df = n - r)\n",
        "C = np.matrix([[0], [1]])\n",
        "b_psi = float(C.T * np.linalg.inv(X_matrix * X_matrix.T) * C)\n",
        "print(\"x_alpha = \", x_alpha)\n",
        "print(\"left = \", beta_1 - x_alpha * np.sqrt(unbias_var) * np.sqrt(b_psi))\n",
        "print(\"right = \", beta_1 + x_alpha * np.sqrt(unbias_var) * np.sqrt(b_psi))"
      ],
      "metadata": {
        "colab": {
          "base_uri": "https://localhost:8080/"
        },
        "id": "0AVLEzrHs5WJ",
        "outputId": "8192e280-5149-463f-d2b0-6c6297f9423e"
      },
      "execution_count": 132,
      "outputs": [
        {
          "output_type": "stream",
          "name": "stdout",
          "text": [
            "x_alpha =  1.6772241953450393\n",
            "left =  -0.3279707565828216\n",
            "right =  2.9569243786602497\n"
          ]
        }
      ]
    },
    {
      "cell_type": "markdown",
      "source": [
        "$\\left[-0.328, 2.957\\right] \\ni \\beta_1$"
      ],
      "metadata": {
        "id": "RoLaPIU9s_nk"
      }
    },
    {
      "cell_type": "markdown",
      "source": [
        "Доверительный эллипс для параметра $(\\beta_0, \\beta_1)$:\n",
        "\n",
        "ДНО-функция: $\\psi = C^\\intercal \\beta = (\\beta_0, \\beta_1)^\\intercal$\n",
        "\n",
        "Тогда $C = \\begin{pmatrix}1 & 0 \\\\0 & 1\\end{pmatrix}$\n",
        "\n",
        "Тогда МНК оценка равна $\\hat{\\psi} = (\\hat{\\beta}_0, \\hat{\\beta}_1)^\\intercal$\n",
        "\n",
        "Найдем доверительный эллипс вида: $\\left\\{\\overrightarrow{x} : \\left(\\overrightarrow{x} - \\hat{\\psi}\\right)^\\intercal b_\\psi^{-1} \\left(\\overrightarrow{x} - \\hat{\\psi}\\right) \\le q S^2 x_\\alpha\\right\\}$,\n",
        "\n",
        "где $x_\\alpha: \\mathcal{F}_{q, n-r}(x_\\alpha) = 1 - \\alpha$, $b_\\psi = C^\\intercal(XX^\\intercal)^{-1}C$"
      ],
      "metadata": {
        "id": "cLcfGb1btTMg"
      }
    },
    {
      "cell_type": "code",
      "source": [
        "r = np.linalg.matrix_rank(X_matrix)\n",
        "n = len(X)\n",
        "q = len(Beta_matrix)\n",
        "x_alpha = sps.f.ppf(1 - alpha, dfn = q, dfd = n - r)\n",
        "C = np.matrix([[1, 0], [0, 1]])\n",
        "b_psi = C.T * np.linalg.inv(X_matrix * X_matrix.T) * C\n",
        "print(\"Определитель матрицы b_psi = \", np.linalg.det(b_psi))\n",
        "print(\"x_alpha = \", x_alpha)\n",
        "\n",
        "x_symbol = sympy.Symbol('x', real=True)\n",
        "y_symbol = sympy.Symbol('y', real=True)\n",
        "x_vec = np.matrix([[x_symbol], [y_symbol]])\n",
        "expr = (x_vec - Beta_matrix).T * np.linalg.inv(b_psi) * (x_vec - Beta_matrix)\n",
        "print(f\"Неравенство имеет вид: {expr[0,0].as_poly().as_expr()} <= {q * unbias_var * x_alpha}\")\n",
        "expr = expr[0,0].as_poly().as_expr() - q * unbias_var * x_alpha\n",
        "print(f\"Перенесем все в левую часть: {expr} <= 0\")\n",
        "angle = np.arctan(float(expr.as_poly().coeff_monomial(x_symbol*y_symbol)\n",
        "      /(expr.as_poly().coeff_monomial(x_symbol**2) - expr.as_poly().coeff_monomial(y_symbol**2)))) / 2\n",
        "print(f\"Выполним поворот декартовой системы координат на угол {angle}\")\n",
        "x_2_symbol = sympy.Symbol(\"x'\", real=True)\n",
        "y_2_symbol = sympy.Symbol(\"y'\", real=True)\n",
        "expr = expr.subs([(x_symbol, x_2_symbol * np.cos(angle) - y_2_symbol * np.sin(angle)), (y_symbol, x_2_symbol * np.sin(angle) + y_2_symbol * np.cos(angle))])\n",
        "expr = expr.as_poly().as_expr()\n",
        "small_numbers = set([e for e in expr.atoms(sympy.Number) if abs(e) < 1e-05])\n",
        "d = {s: 0 for s in small_numbers}\n",
        "expr = expr.subs(d)\n",
        "print(f\"Полученное неравенство: {expr} <= 0\")\n",
        "A = expr.as_poly().coeff_monomial(x_2_symbol**2)\n",
        "B = expr.as_poly().coeff_monomial(x_2_symbol)\n",
        "C = expr.as_poly().coeff_monomial(y_2_symbol**2)\n",
        "D = expr.as_poly().coeff_monomial(y_2_symbol)\n",
        "E = expr.as_poly().coeff_monomial(1)\n",
        "F = E - B**2/A/4 - D**2/C/4\n",
        "x_3_symbol = sympy.Symbol(\"x''\", real=True)\n",
        "y_3_symbol = sympy.Symbol(\"y''\", real=True)\n",
        "expr = A * x_3_symbol**2 + C * y_3_symbol**2 + F\n",
        "print(f\"Неравенство после параллельного сдвига: {expr} <= 0\")\n",
        "expr = expr / (-F) + 1\n",
        "print(f\"Итоговый вид неравенства: {expr} <= 1\")\n",
        "A = expr.as_poly().coeff_monomial(x_3_symbol**2)\n",
        "C = expr.as_poly().coeff_monomial(y_3_symbol**2)\n",
        "print(f\"Длины полуосей: {np.sqrt(float(1/A))} и {np.sqrt(float(1/C))}\")"
      ],
      "metadata": {
        "colab": {
          "base_uri": "https://localhost:8080/"
        },
        "id": "KtErKgONyE46",
        "outputId": "e65be7a4-c84c-424b-d33e-0bda05f471b1"
      },
      "execution_count": 133,
      "outputs": [
        {
          "output_type": "stream",
          "name": "stdout",
          "text": [
            "Определитель матрицы b_psi =  0.0003832886163280953\n",
            "x_alpha =  2.4166601100530283\n",
            "Неравенство имеет вид: 50.0*x**2 + 158.0*x*y - 1154.14*x + 177.0*y**2 - 1960.72*y + 6750.35487378305 <= 241.85241869501812\n",
            "Перенесем все в левую часть: 50.0*x**2 + 158.0*x*y - 1154.14*x + 177.0*y**2 - 1960.72*y + 6508.50245508804 <= 0\n",
            "Выполним поворот декартовой системы координат на угол -0.44687207030641557\n",
            "Полученное неравенство: 12.1429578174264*x'**2 - 193.488165703457*x' + 214.857042182574*y'**2 - 2266.94163747828*y' + 6508.50245508804 <= 0\n",
            "Неравенство после параллельного сдвига: 12.1429578174264*x''**2 + 214.857042182574*y''**2 - 241.852418695019 <= 0\n",
            "Итоговый вид неравенства: 0.0502081305737899*x''**2 + 0.888380787514525*y''**2 <= 1\n",
            "Длины полуосей: 4.462857031164075 и 1.0609634459290347\n"
          ]
        }
      ]
    },
    {
      "cell_type": "markdown",
      "source": [
        "### 4. Сформулировать гипотезу независимости переменной $Y$ от переменной $X$. Провести проверку значимости."
      ],
      "metadata": {
        "id": "Jn4HY6EfL8pA"
      }
    },
    {
      "cell_type": "markdown",
      "source": [
        "Основная гипотеза: $H_0 : \\psi = 0$"
      ],
      "metadata": {
        "id": "hJqLm6fuMMl7"
      }
    },
    {
      "cell_type": "code",
      "source": [
        "beta_0_h = sum(Y)/len(Y)\n",
        "beta_1_h = 0\n",
        "print(f\"Оценка вектора бета при выполнении основной гипотезы: ({beta_0_h}, {beta_1_h})\")\n",
        "Beta_h_matrix = np.matrix([[beta_0_h], [beta_1_h]])\n",
        "F_stat = (np.linalg.norm(Y_matrix - X_matrix.T * Beta_h_matrix)**2 - np.linalg.norm(Y_matrix - X_matrix.T * Beta_matrix)**2)/2/unbias_var\n",
        "print(f\"Статистика F = {F_stat}\")\n",
        "print(f\"x_alpha = {sps.f.ppf(1 - alpha, dfn = 2, dfd = n - r)}\")"
      ],
      "metadata": {
        "colab": {
          "base_uri": "https://localhost:8080/"
        },
        "id": "8_uE2SL6M3v7",
        "outputId": "95e29cbc-4cff-4c83-f46f-7c02bd24ef2f"
      },
      "execution_count": 134,
      "outputs": [
        {
          "output_type": "stream",
          "name": "stdout",
          "text": [
            "Оценка вектора бета при выполнении основной гипотезы: (11.541400000000001, 0)\n",
            "Статистика F = 0.9008968562143356\n",
            "x_alpha = 2.4166601100530283\n"
          ]
        }
      ]
    },
    {
      "cell_type": "markdown",
      "source": [
        "$\\mathbb{F} \\approx 0.90$\n",
        "\n",
        "$x_{\\alpha} \\approx 2.42$\n",
        "\n",
        "$\\mathbb{F} < x_{\\alpha_2}$ следовательно гипотеза о независимости принимается"
      ],
      "metadata": {
        "id": "JhGhuZntPEKp"
      }
    },
    {
      "cell_type": "markdown",
      "source": [
        "### 5.  Сформулировать модель, включающую дополнительный член с $X^2$. Построить МНК оценки параметров $\\beta_0, \\beta_1, \\beta_2$ в данной модели. Изобразить графически полученную регрессионную зависимость."
      ],
      "metadata": {
        "id": "DwIecWUQP5Z5"
      }
    },
    {
      "cell_type": "markdown",
      "source": [
        "Линейная регрессионная модель:\n",
        "\n",
        "$\\mathbb{E}_{\\theta}(Y|z) = x(z)^{\\intercal}\\beta$\n",
        "\n",
        "$Y = \\beta_0 + \\beta_1 X + \\beta_2 X^2 + \\varepsilon$\n",
        "\n",
        "Построение МНК оценок:"
      ],
      "metadata": {
        "id": "xuGpXQF5QHkC"
      }
    },
    {
      "cell_type": "code",
      "source": [
        "Y_matrix = np.matrix(Y).T\n",
        "X_matrix = np.matrix([[1] * len(X), X, [x**2 for x in X]])\n",
        "print(\"Определитель матрицы X*X_transpose = \", np.linalg.det(X_matrix * X_matrix.T))\n",
        "Beta_matrix = np.linalg.inv(X_matrix * X_matrix.T) * X_matrix * Y_matrix\n",
        "beta_0 = float(Beta_matrix[0])\n",
        "beta_1 = float(Beta_matrix[1])\n",
        "beta_2 = float(Beta_matrix[2])\n",
        "print(f\"Оценка вектора бета: ({beta_0}, {beta_1}, {beta_2})\")"
      ],
      "metadata": {
        "colab": {
          "base_uri": "https://localhost:8080/"
        },
        "id": "gLLxo4D5QOrz",
        "outputId": "f88f43aa-849e-4eaa-cbb8-79fc40e9e116"
      },
      "execution_count": 135,
      "outputs": [
        {
          "output_type": "stream",
          "name": "stdout",
          "text": [
            "Определитель матрицы X*X_transpose =  124839.99999999965\n",
            "Оценка вектора бета: (9.146711310477501, 2.069857097084257, -0.2473687920538321)\n"
          ]
        }
      ]
    },
    {
      "cell_type": "code",
      "source": [
        "fig, ax = plt.subplots()\n",
        "ax.scatter(X, Y)\n",
        "X_for_plot = [x / 10 for x in range(31)]\n",
        "Y_for_plot = [beta_0 + beta_1 * x + beta_2 * x**2 for x in X_for_plot]\n",
        "ax.plot(X_for_plot, Y_for_plot, color = 'r')\n",
        "ax.set_xlabel('X')\n",
        "ax.set_ylabel('Y')\n",
        "plt.show()"
      ],
      "metadata": {
        "colab": {
          "base_uri": "https://localhost:8080/",
          "height": 449
        },
        "id": "zoZ0VTpOQ1hh",
        "outputId": "c793560c-4442-486f-cfde-2b84d2448596"
      },
      "execution_count": 136,
      "outputs": [
        {
          "output_type": "display_data",
          "data": {
            "text/plain": [
              "<Figure size 640x480 with 1 Axes>"
            ],
            "image/png": "[encoded data removed]"
          },
          "metadata": {}
        }
      ]
    },
    {
      "cell_type": "markdown",
      "source": [
        "Коэффицент $\\beta_2$ оказался мал и парабола очень приближена к прямой, которая совсем не отражает данные"
      ],
      "metadata": {
        "id": "bq-9UzjwRYuX"
      }
    },
    {
      "cell_type": "markdown",
      "source": [
        "### 6. Построить несмещённую оценку дисперсии. Провести исследование нормальности ошибок как в пункте 2."
      ],
      "metadata": {
        "id": "CH6hBU-kSRUH"
      }
    },
    {
      "cell_type": "code",
      "source": [
        "unbias_var = np.linalg.norm(Y_matrix - X_matrix.T * Beta_matrix)**2/(len(X) - np.linalg.matrix_rank(X_matrix))\n",
        "print(\"Несмещённая оценка дисперсии =\", unbias_var)"
      ],
      "metadata": {
        "colab": {
          "base_uri": "https://localhost:8080/"
        },
        "id": "Wk0XlWe8SaY7",
        "outputId": "983df1d3-6770-4e6d-e440-f6974a0efa34"
      },
      "execution_count": 137,
      "outputs": [
        {
          "output_type": "stream",
          "name": "stdout",
          "text": [
            "Несмещённая оценка дисперсии = 51.04091993264571\n"
          ]
        }
      ]
    },
    {
      "cell_type": "code",
      "source": [
        "mistakes = Y_matrix - X_matrix.T * Beta_matrix\n",
        "fig, ax = plt.subplots()\n",
        "bins = [x / 10.0 for x in range(int(min(mistakes)) * 10, int(max(mistakes)) * 10 + 5, int(h * 10))]\n",
        "ax.hist(mistakes, bins = bins, linewidth=1, edgecolor='black')\n",
        "plt.title(\"Гистограмма ошибок с шагом h\")\n",
        "plt.show()"
      ],
      "metadata": {
        "colab": {
          "base_uri": "https://localhost:8080/",
          "height": 452
        },
        "id": "2YDqz0ofSqK2",
        "outputId": "58f4485c-4de4-4e3a-95d5-b6f84dcbafb9"
      },
      "execution_count": 138,
      "outputs": [
        {
          "output_type": "display_data",
          "data": {
            "text/plain": [
              "<Figure size 640x480 with 1 Axes>"
            ],
            "image/png": "[encoded data removed]"
          },
          "metadata": {}
        }
      ]
    },
    {
      "cell_type": "markdown",
      "source": [
        "Пусть данная выборка $X_1, X_2, \\dots, X_n$ - выборка из распределения с функцией распределения F.\n",
        "\n",
        "Основная гипотеза: $H_0 : F \\equiv \\mathcal{N}(0, S^2)$\n",
        "\n",
        "Альтернативная гипотеза: $H_A : \\exists x : F(x) \\neq F_{\\theta}(x)$\n",
        "\n",
        "Вычисление статистики критерия $\\chi^2$ c перегруппировкой выборки:"
      ],
      "metadata": {
        "id": "ICyx-bl3SylE"
      }
    },
    {
      "cell_type": "code",
      "source": [
        "mean_mistakes = 0\n",
        "std_mistakes = np.sqrt(unbias_var)\n",
        "\n",
        "intervals = [[-10, -10+2*h], [-10+2*h, -10+4*h], [-10+4*h, -10+6*h], [-10+6*h, -10+8*h], [-10+8*h, -10+10*h]]\n",
        "freq = [0] * len(intervals) #экспереметальные частоты\n",
        "freq_teor = [0] * len(intervals) #Гипотетические частоты\n",
        "print(\"x            | Частота | Гипотетическая частота\")\n",
        "for i in range(len(intervals)):\n",
        "  a = intervals[i][0]\n",
        "  b = intervals[i][-1]\n",
        "  freq[i] += len([x for x in mistakes if (x >= a and x < b)])\n",
        "  freq_teor[i] += len(mistakes) * (sps.norm.cdf(b, loc = mean_mistakes, scale = std_mistakes) - sps.norm.cdf(a, loc = mean_mistakes, scale = std_mistakes))\n",
        "  if (i == len(intervals) - 1):\n",
        "    freq_teor[i] += len(mistakes) * sps.norm.sf(b, loc = mean_mistakes, scale = std_mistakes)\n",
        "    print('[', round(a, 1), \", +inf)\\t\", freq[i], \"\\t\", freq_teor[i])\n",
        "  else:\n",
        "    print('[', round(a, 1), ',', round(b, 1), \"]\\t\", freq[i], \"\\t\", freq_teor[i])\n",
        "freq = np.array(freq)\n",
        "freq_teor = np.array(freq_teor)\n",
        "chi_square = np.sum((freq - freq_teor) ** 2 / freq_teor)\n",
        "print(\"Статистика хи-квадрат равна:\", chi_square)\n",
        "print(\"x_alpha равен:\", sps.chi2.ppf(1 - alpha, df = len(freq) - 1))"
      ],
      "metadata": {
        "colab": {
          "base_uri": "https://localhost:8080/"
        },
        "id": "Mqa70P25S1h8",
        "outputId": "da467728-115a-44f3-be90-1a158f88819d"
      },
      "execution_count": 139,
      "outputs": [
        {
          "output_type": "stream",
          "name": "stdout",
          "text": [
            "x            | Частота | Гипотетическая частота\n",
            "[ -10 , -4.8 ]\t 15 \t 8.50180219013345\n",
            "[ -4.8 , 0.4 ]\t 11 \t 13.574488940583123\n",
            "[ 0.4 , 5.6 ]\t 10 \t 13.055455275581352\n",
            "[ 5.6 , 10.8 ]\t 8 \t 7.563034604140961\n",
            "[ 10.8 , +inf)\t 4 \t 3.2652794218874925\n",
            "Статистика хи-квадрат равна: 6.360701990051737\n",
            "x_alpha равен: 7.779440339734858\n"
          ]
        }
      ]
    },
    {
      "cell_type": "markdown",
      "source": [
        "$\\chi^2 \\approx 6.36$\n",
        "\n",
        "$x_{\\alpha} \\approx 7.78$\n",
        "\n",
        "$\\chi^2 < x_{\\alpha_2}$ следовательно гипотеза о нормальности принимается"
      ],
      "metadata": {
        "id": "sWe3Jb6TTFYJ"
      }
    },
    {
      "cell_type": "code",
      "source": [
        "print(\"Статистика критерия Колмогорова Dn:\", sps.kstest([element[0,0] for element in mistakes], \"norm\", args = (mean_mistakes,std_mistakes)).statistic)\n",
        "print(\"x_alpha:\", sps.kstwobign.ppf(1 - alpha) / np.sqrt(len(mistakes)))"
      ],
      "metadata": {
        "colab": {
          "base_uri": "https://localhost:8080/"
        },
        "id": "C8rcI0UD7kCN",
        "outputId": "9a65c703-194c-4fea-9b00-09a71d600ba7"
      },
      "execution_count": 140,
      "outputs": [
        {
          "output_type": "stream",
          "name": "stdout",
          "text": [
            "Статистика критерия Колмогорова Dn: 0.10789303511416604\n",
            "x_alpha: 0.17307822563424255\n"
          ]
        }
      ]
    },
    {
      "cell_type": "markdown",
      "source": [
        "$D_n \\approx 0.11$\n",
        "\n",
        "$x_{\\alpha} \\approx 0.17$\n",
        "\n",
        "$D_n < x_{\\alpha_2}$ следовательно гипотеза о нормальности принимается"
      ],
      "metadata": {
        "id": "aXea1ZJl7pFW"
      }
    },
    {
      "cell_type": "code",
      "source": [
        "mistakes = Y_matrix - X_matrix.T * Beta_matrix\n",
        "fig, ax = plt.subplots()\n",
        "bins = [x / 10.0 for x in range(int(min(mistakes)) * 10, int(max(mistakes)) * 10 + 5, int(h * 10))]\n",
        "ax.hist(mistakes, bins = bins, linewidth=1, edgecolor='black')\n",
        "plt.plot(np.arange(min(mistakes), max(mistakes) + 1, 0.01), sps.norm.pdf(np.arange(min(mistakes), max(mistakes) + 1, 0.01), mean_mistakes, std_mistakes) * len(mistakes))\n",
        "plt.show()"
      ],
      "metadata": {
        "colab": {
          "base_uri": "https://localhost:8080/",
          "height": 430
        },
        "id": "VVxN6uvw7u6u",
        "outputId": "8c085003-7a00-46ae-b411-6f1bf0cda51e"
      },
      "execution_count": 141,
      "outputs": [
        {
          "output_type": "display_data",
          "data": {
            "text/plain": [
              "<Figure size 640x480 with 1 Axes>"
            ],
            "image/png": "[encoded data removed]"
          },
          "metadata": {}
        }
      ]
    },
    {
      "cell_type": "markdown",
      "source": [
        "Визуально видно нормальность ошибок, хотя местами и прослеживаются отклонения от нормального распределения"
      ],
      "metadata": {
        "id": "54RhDFQe8HZC"
      }
    },
    {
      "cell_type": "markdown",
      "source": [
        "### 7. В предположении нормальности ошибок построить доверительные интервалы для параметров $\\beta_0, \\beta_1, \\beta_2$ уровня доверия $1 - \\alpha$. Написать уравнение доверительного эллипсоида уровня доверия $1 - \\alpha$"
      ],
      "metadata": {
        "id": "fyWgQBcsTkeV"
      }
    },
    {
      "cell_type": "markdown",
      "source": [
        "Доверительный интервал для параметра $\\beta_0$:\n",
        "\n",
        "ДНО-функция: $\\psi = C^\\intercal \\beta = \\beta_0$\n",
        "\n",
        "Тогда $C = (1, 0, 0)^\\intercal$\n",
        "\n",
        "Тогда МНК оценка равна $\\hat{\\psi} = \\hat{\\beta}_0$\n",
        "\n",
        "Найдем доверительный интервал вида: $\\left[\\hat{\\psi} - x_\\alpha S \\sqrt{b_\\psi}; \\hat{\\psi} + x_\\alpha S \\sqrt{b_\\psi}\\right]$,\n",
        "\n",
        "где $x_\\alpha: S_{n-r}(x_\\alpha) = 1 - \\frac{\\alpha}{2}$, $b_\\psi = C^\\intercal(XX^\\intercal)^{-1}C$"
      ],
      "metadata": {
        "id": "u_iHnLCQUBjm"
      }
    },
    {
      "cell_type": "code",
      "source": [
        "r = np.linalg.matrix_rank(X_matrix)\n",
        "n = len(X)\n",
        "x_alpha = sps.t.ppf(1 - alpha/2, df = n - r)\n",
        "C = np.matrix([[1], [0], [0]])\n",
        "b_psi = float(C.T * np.linalg.inv(X_matrix * X_matrix.T) * C)\n",
        "print(\"x_alpha = \", x_alpha)\n",
        "print(\"left = \", beta_0 - x_alpha * np.sqrt(unbias_var) * np.sqrt(b_psi))\n",
        "print(\"right = \", beta_0 + x_alpha * np.sqrt(unbias_var) * np.sqrt(b_psi))"
      ],
      "metadata": {
        "colab": {
          "base_uri": "https://localhost:8080/"
        },
        "id": "QPCnVajMUni9",
        "outputId": "60ef356b-be1c-4ace-e286-5c5d38db52d0"
      },
      "execution_count": 142,
      "outputs": [
        {
          "output_type": "stream",
          "name": "stdout",
          "text": [
            "x_alpha =  1.67792672077558\n",
            "left =  5.311822217959829\n",
            "right =  12.981600402995173\n"
          ]
        }
      ]
    },
    {
      "cell_type": "markdown",
      "source": [
        "$\\left[5.312, 12.982\\right] \\ni \\beta_0$"
      ],
      "metadata": {
        "id": "8hTHQbTaVQ_3"
      }
    },
    {
      "cell_type": "markdown",
      "source": [
        "Доверительный интервал для параметра $\\beta_1$:\n",
        "\n",
        "ДНО-функция: $\\psi = C^\\intercal \\beta = \\beta_1$\n",
        "\n",
        "Тогда $C = (0, 1, 0)^\\intercal$\n",
        "\n",
        "Тогда МНК оценка равна $\\hat{\\psi} = \\hat{\\beta}_1$\n",
        "\n",
        "Найдем доверительный интервал вида: $\\left[\\hat{\\psi} - x_\\alpha S \\sqrt{b_\\psi}; \\hat{\\psi} + x_\\alpha S \\sqrt{b_\\psi}\\right]$,\n",
        "\n",
        "где $x_\\alpha: S_{n-r}(x_\\alpha) = 1 - \\frac{\\alpha}{2}$, $b_\\psi = C^\\intercal(XX^\\intercal)^{-1}C$"
      ],
      "metadata": {
        "id": "9IkShLe5VczU"
      }
    },
    {
      "cell_type": "code",
      "source": [
        "r = np.linalg.matrix_rank(X_matrix)\n",
        "n = len(X)\n",
        "x_alpha = sps.t.ppf(1 - alpha/2, df = n - r)\n",
        "C = np.matrix([[0], [1], [0]])\n",
        "b_psi = float(C.T * np.linalg.inv(X_matrix * X_matrix.T) * C)\n",
        "print(\"x_alpha = \", x_alpha)\n",
        "print(\"left = \", beta_1 - x_alpha * np.sqrt(unbias_var) * np.sqrt(b_psi))\n",
        "print(\"right = \", beta_1 + x_alpha * np.sqrt(unbias_var) * np.sqrt(b_psi))"
      ],
      "metadata": {
        "colab": {
          "base_uri": "https://localhost:8080/"
        },
        "id": "c4MPKpnVViEC",
        "outputId": "50e596b2-2c62-4308-dae0-d2eb77dfb5f0"
      },
      "execution_count": 143,
      "outputs": [
        {
          "output_type": "stream",
          "name": "stdout",
          "text": [
            "x_alpha =  1.67792672077558\n",
            "left =  -3.4761664651309934\n",
            "right =  7.615880659299507\n"
          ]
        }
      ]
    },
    {
      "cell_type": "markdown",
      "source": [
        "$\\left[-3.476, 7.616\\right] \\ni \\beta_1$"
      ],
      "metadata": {
        "id": "Dur-wnSjV26s"
      }
    },
    {
      "cell_type": "markdown",
      "source": [
        "Доверительный интервал для параметра $\\beta_2$:\n",
        "\n",
        "ДНО-функция: $\\psi = C^\\intercal \\beta = \\beta_2$\n",
        "\n",
        "Тогда $C = (0, 0, 1)^\\intercal$\n",
        "\n",
        "Тогда МНК оценка равна $\\hat{\\psi} = \\hat{\\beta}_2$\n",
        "\n",
        "Найдем доверительный интервал вида: $\\left[\\hat{\\psi} - x_\\alpha S \\sqrt{b_\\psi}; \\hat{\\psi} + x_\\alpha S \\sqrt{b_\\psi}\\right]$,\n",
        "\n",
        "где $x_\\alpha: S_{n-r}(x_\\alpha) = 1 - \\frac{\\alpha}{2}$, $b_\\psi = C^\\intercal(XX^\\intercal)^{-1}C$"
      ],
      "metadata": {
        "id": "Si3YOUHaV_DS"
      }
    },
    {
      "cell_type": "code",
      "source": [
        "r = np.linalg.matrix_rank(X_matrix)\n",
        "n = len(X)\n",
        "x_alpha = sps.t.ppf(1 - alpha/2, df = n - r)\n",
        "C = np.matrix([[0], [0], [1]])\n",
        "b_psi = float(C.T * np.linalg.inv(X_matrix * X_matrix.T) * C)\n",
        "print(\"x_alpha = \", x_alpha)\n",
        "print(\"left = \", beta_2 - x_alpha * np.sqrt(unbias_var) * np.sqrt(b_psi))\n",
        "print(\"right = \", beta_2 + x_alpha * np.sqrt(unbias_var) * np.sqrt(b_psi))"
      ],
      "metadata": {
        "colab": {
          "base_uri": "https://localhost:8080/"
        },
        "id": "SKCKS6byWDEX",
        "outputId": "006cd301-9e7a-4cd3-b87d-ebba04901ec5"
      },
      "execution_count": 144,
      "outputs": [
        {
          "output_type": "stream",
          "name": "stdout",
          "text": [
            "x_alpha =  1.67792672077558\n",
            "left =  -1.980344186185805\n",
            "right =  1.4856066020781409\n"
          ]
        }
      ]
    },
    {
      "cell_type": "markdown",
      "source": [
        "$\\left[-1.981, 1.486\\right] \\ni \\beta_2$"
      ],
      "metadata": {
        "id": "CQIXGvaFWHhO"
      }
    },
    {
      "cell_type": "markdown",
      "source": [
        "Доверительный эллипсоид для параметра $(\\beta_0, \\beta_1, \\beta_2)$:\n",
        "\n",
        "ДНО-функция: $\\psi = C^\\intercal \\beta = (\\beta_0, \\beta_1, \\beta_2)^\\intercal$\n",
        "\n",
        "Тогда $C = \\begin{pmatrix}1 & 0 & 0\\\\0 & 1 &0 \\\\ 0&0&1 \\end{pmatrix}$\n",
        "\n",
        "Тогда МНК оценка равна $\\hat{\\psi} = (\\hat{\\beta}_0, \\hat{\\beta}_1,\\hat{\\beta}_2)^\\intercal$\n",
        "\n",
        "Найдем доверительный эллипсоид вида: $\\left\\{\\overrightarrow{x} : \\left(\\overrightarrow{x} - \\hat{\\psi}\\right)^\\intercal b_\\psi^{-1} \\left(\\overrightarrow{x} - \\hat{\\psi}\\right) \\le q S^2 x_\\alpha\\right\\}$,\n",
        "\n",
        "где $x_\\alpha: \\mathcal{F}_{q, n-r}(x_\\alpha) = 1 - \\alpha$, $b_\\psi = C^\\intercal(XX^\\intercal)^{-1}C$"
      ],
      "metadata": {
        "id": "RVmE4MBPWrld"
      }
    },
    {
      "cell_type": "code",
      "source": [
        "r = np.linalg.matrix_rank(X_matrix)\n",
        "n = len(X)\n",
        "q = len(Beta_matrix)\n",
        "x_alpha = sps.f.ppf(1 - alpha, dfn = q, dfd = n - r)\n",
        "C = np.matrix([[1, 0, 0], [0, 1, 0], [0, 0, 1]])\n",
        "b_psi = C.T * np.linalg.inv(X_matrix * X_matrix.T) * C\n",
        "print(\"Определитель матрицы b_psi = \", np.linalg.det(b_psi))\n",
        "print(\"x_alpha = \", x_alpha)\n",
        "\n",
        "x_symbol = sympy.Symbol('x', real=True)\n",
        "y_symbol = sympy.Symbol('y', real=True)\n",
        "z_symbol = sympy.Symbol('z', real=True)\n",
        "x_vec = np.matrix([[x_symbol], [y_symbol], [z_symbol]])\n",
        "expr = (x_vec - Beta_matrix).T * np.linalg.inv(b_psi) * (x_vec - Beta_matrix)\n",
        "print(f\"Неравенство имеет вид: {expr[0,0].as_poly().as_expr()} <= {q * unbias_var * x_alpha}\")\n",
        "expr = expr[0,0].as_poly().as_expr() - q * unbias_var * x_alpha\n",
        "print(f\"Перенесем все в левую часть: {expr} <= 0\")\n",
        "x_2_symbol = sympy.Symbol(\"x'\", real=True)\n",
        "y_2_symbol = sympy.Symbol(\"y'\", real=True)\n",
        "z_2_symbol = sympy.Symbol(\"z'\", real=True)\n",
        "ev, _ = np.linalg.eig(np.linalg.inv(b_psi))\n",
        "koef = ev / (x_alpha * q * unbias_var)\n",
        "expr = koef[0]*x_2_symbol**2+koef[1]*y_2_symbol**2+koef[2]*z_2_symbol**2\n",
        "print(f\"Итоговый вид неравенства: {expr} <= 1\")\n",
        "print(f\"Длины полуосей: {np.sqrt(1/koef[0])}, {np.sqrt(1/koef[1])} и {np.sqrt(1/koef[2])}\")"
      ],
      "metadata": {
        "colab": {
          "base_uri": "https://localhost:8080/"
        },
        "id": "q5uA-z3kX_M0",
        "outputId": "61355f17-303e-435f-9752-e11165196fa8"
      },
      "execution_count": 145,
      "outputs": [
        {
          "output_type": "stream",
          "name": "stdout",
          "text": [
            "Определитель матрицы b_psi =  8.010253123998798e-06\n",
            "x_alpha =  2.2041823911022664\n",
            "Неравенство имеет вид: 49.9999999999997*x**2 + 157.999999999999*x*y + 353.999999999997*x*z - 1154.14*x + 176.999999999999*y**2 + 877.999999999995*y*z - 1960.71999999999*y + 1160.99999999999*z**2 - 4480.87999999998*z + 6753.28286316568 <= 337.5104908235951\n",
            "Перенесем все в левую часть: 49.9999999999997*x**2 + 157.999999999999*x*y + 353.999999999997*x*z - 1154.14*x + 176.999999999999*y**2 + 877.999999999995*y*z - 1960.71999999999*y + 1160.99999999999*z**2 - 4480.87999999998*z + 6415.77237234208 <= 0\n",
            "Итоговый вид неравенства: 4.02073417348288*x'**2 + 0.0818658950080072*y'**2 + 0.00986469256879809*z'**2 <= 1\n",
            "Длины полуосей: 0.4987091304538458, 3.4950105651355114 и 10.068348103487947\n"
          ]
        }
      ]
    },
    {
      "cell_type": "markdown",
      "source": [
        "### 8. Сформулировать гипотезу линейной регрессионной зависимости переменной $Y$ от переменной $X$ и проверить её значимость на уровне $\\alpha$.\n"
      ],
      "metadata": {
        "id": "dJRGabAth9GU"
      }
    },
    {
      "cell_type": "code",
      "source": [
        "X_matrix_h = np.matrix([[1] * len(X), X])\n",
        "Beta_h_matrix = np.linalg.inv(X_matrix_h * X_matrix_h.T) * X_matrix_h * Y_matrix\n",
        "beta_0_h = float(Beta_h_matrix[0])\n",
        "beta_1_h = float(Beta_h_matrix[1])\n",
        "beta_2_h = 0\n",
        "Beta_h_matrix = np.matrix([[beta_0_h], [beta_1_h], [beta_2_h]])\n",
        "print(f\"Оценка вектора бета при выполнении основной гипотезы: ({beta_0_h}, {beta_1_h}, {beta_2_h})\")\n",
        "F_stat = (np.linalg.norm(Y_matrix - X_matrix.T * Beta_h_matrix)**2 - np.linalg.norm(Y_matrix - X_matrix.T * Beta_matrix)**2)/q/unbias_var\n",
        "print(f\"Статистика F = {F_stat}\")\n",
        "print(f\"x_alpha = {sps.f.ppf(1 - alpha, dfn = q, dfd = n - r)}\")"
      ],
      "metadata": {
        "colab": {
          "base_uri": "https://localhost:8080/"
        },
        "id": "92yWYmlSiVg_",
        "outputId": "e1264d16-ac75-46e8-f238-9bc0a33f66ba"
      },
      "execution_count": 146,
      "outputs": [
        {
          "output_type": "stream",
          "name": "stdout",
          "text": [
            "Оценка вектора бета при выполнении основной гипотезы: (9.46452663855883, 1.314476811038714, 0)\n",
            "Статистика F = 0.019121843065375194\n",
            "x_alpha = 2.2041823911022664\n"
          ]
        }
      ]
    },
    {
      "cell_type": "markdown",
      "source": [
        "$\\mathbb{F} \\approx 0.02$\n",
        "\n",
        "$x_{\\alpha} \\approx 2.20$\n",
        "\n",
        "$\\mathbb{F} < x_{\\alpha_2}$ следовательно гипотеза о линейной регрессионной зависимости принимается, что несколько противоречит выводу сделанному в пункте 4"
      ],
      "metadata": {
        "id": "nv3z2Sy3kDbs"
      }
    },
    {
      "cell_type": "markdown",
      "metadata": {
        "id": "AVCrYI4aKQy6"
      },
      "source": [
        "## Выводы\n",
        "В ходе выполнения практической работы были изучены основные положения метода наименьших квадратов (МНК), статистические свойства МНК-оценок, понятия функции регрессии и роль МНК в регрессионном анализе.\n",
        "\n",
        "Сформированы навыки посторения МНК оценок, доверительных эллипсов и эллипсоидов, проверки гипотез о независимости и линейной регрессионной зависимости.\n",
        "\n",
        "Были получены выводы о нормальности вектора ошибок и местами неоднозначные выводы о характере данных."
      ]
    }
  ],
  "metadata": {
    "kernelspec": {
      "display_name": "python",
      "language": "python",
      "name": "python3"
    },
    "language_info": {
      "codemirror_mode": {
        "name": "ipython",
        "version": 3
      },
      "file_extension": ".py",
      "mimetype": "text/x-python",
      "name": "python",
      "nbconvert_exporter": "python",
      "pygments_lexer": "ipython3",
      "version": "3.7.8"
    },
    "colab": {
      "provenance": [],
      "collapsed_sections": [
        "L8QAXQxLKQy4"
      ]
    }
  },
  "nbformat": 4,
  "nbformat_minor": 0
}