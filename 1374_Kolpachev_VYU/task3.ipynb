{
  "cells": [
    {
      "cell_type": "markdown",
      "metadata": {
        "id": "TMki46uFKQy2"
      },
      "source": [
        "# Практическая работа №3: Регрессионный анализ\n",
        "Выполнил студент гр. 1374 Колпачев Владислав. Вариант №9"
      ]
    },
    {
      "cell_type": "markdown",
      "metadata": {
        "id": "IxnLjERAKQy4"
      },
      "source": [
        "## Цель работы\n",
        "Ознакомление с основными положениями метода наименьших квадратов (МНК), со статистическими свойствами МНК-оценок, с понятием функции регрессии и роли МНК в регрессионном анализе."
      ]
    },
    {
      "cell_type": "markdown",
      "metadata": {
        "id": "L8QAXQxLKQy4"
      },
      "source": [
        "## Основные теоретические положения\n"
      ]
    },
    {
      "cell_type": "markdown",
      "source": [
        "1\\. Регрессионная модель: $\\mathbb{E}_{\\theta}(Y|z)=f_{\\theta}(z)$, где $Y$ - наблюдения, а $z$ - ковариата\n",
        "\n",
        "Линейная регрессионная модель: $\\mathbb{E}_{\\theta}(Y|z)=x(z)^\\intercal\\beta$, где $\\beta$ - вектор параметров регрессии, a $x(z)$ - вектор регрессоров\n",
        "\n",
        "Статистическая модель: $\\mathbb{E}_{\\theta}(Y|z)=X^\\intercal\\beta$, $Var(Y|z) = \\sigma^2E$\n",
        "\n",
        "2\\. МНК\n",
        "\n",
        "Альтернативная форма записи модели линейной регрессии: $Y = X^\\intercal\\beta + \\varepsilon, \\mathbb{E}_{\\theta}\\varepsilon = 0, Var_{\\theta}\\varepsilon = \\sigma^2E$, где $\\varepsilon$ - вектор ошибок\n",
        "\n",
        "Метод наименьших квадратов: $RSS(\\beta)=\\left\\| Y-X^\\intercal\\beta \\right\\|^2=(Y-X^\\intercal\\beta)^\\intercal(Y-X^\\intercal\\beta)\\to \\min_\\beta$\n",
        "\n",
        "Нормальные уравнения: $XX^\\intercal\\beta=XY$\n",
        "\n",
        "Решение системы нормальных уравнений в регулярном случае: $\\hat{\\beta}=(XX^\\intercal)^{-1}XY$\n",
        "\n",
        "3\\. Оценка параметра $\\sigma^2$\n",
        "\n",
        "$S^2 =\\frac{SS_e}{n-r} =\\frac{RSS(\\hat{\\beta})}{n-r}$, где $r = rank X$\n",
        "\n",
        "4\\. Линейная функция параметра\n",
        "\n",
        "$\\psi(\\beta) = C^\\intercal\\beta$\n",
        "\n",
        "$\\psi(\\beta)$ допускает несмещенное оценивание, если $\\exists L(Y) = B Y : \\forall \\beta : \\mathbb{E}_\\beta L(Y) = C^\\intercal\\beta$, где $C$ - матрица $m \\times q$, $q$ - длина функции параметра\n",
        "\n",
        "5\\. Теорема Гаусса-Маркова\n",
        "\n",
        "В модели линейной регрессии каждая ДНО-функция параметра $\\psi(\\beta) = C^\\intercal\\beta$, $C = (c_1, \\dots, c_m)^\\intercal$ имеет НРМД - оценку $\\hat{\\psi}$. Эта оценка единственна в классе линейных несмещенных оценоки и равна $\\hat{\\psi} = \\sum_{i = 1}^{m}c_i\\hat{\\beta}_i$, где \\hat{\\beta} - произвольное решение системы нормальных уравнений.\n",
        "\n",
        "6\\. Предположения\n",
        "\n",
        "Классическое предположение: $ Y \\sim \\mathcal{N}(X^\\intercal\\beta,\\sigma^2E) $\n",
        "\n",
        "Эквивалентное предположение об остатках:  $ \\varepsilon \\sim \\mathcal{N}(0,\\sigma^2E) $\n",
        "\n",
        "7\\. Доверительный интервал\n",
        "\n",
        "ДНО - функция: $\\psi(\\beta) = C^\\intercal\\beta$\n",
        "\n",
        "МНК оценка: $\\hat{\\psi}= C^\\intercal\\hat{\\beta}$\n",
        "\n",
        "$b_\\psi = C^\\intercal(XX^\\intercal)^{-1}C$\n",
        "\n",
        "Распределение: $\\hat{\\psi} \\sim \\mathcal{N}(\\psi,\\sigma^2b_\\psi) $\n",
        "\n",
        "Тогда $\\frac{\\hat{\\psi} - {\\psi}}{S\\sqrt{b_\\psi}} \\sim S_{n-r}$\n",
        "\n",
        "Доверительный интервал: $\\left[\\hat{\\psi} - x_\\alpha S \\sqrt{b_\\psi}; \\hat{\\psi} + x_\\alpha S \\sqrt{b_\\psi}\\right]$, где $x_\\alpha: S_{n-r}(x_\\alpha) = 1 - \\frac{\\alpha}{2}$\n",
        "\n",
        "8\\. Доверительный эллипсоид\n",
        "\n",
        "$b_\\psi = C^\\intercal(XX^\\intercal)^{-1}C$\n",
        "\n",
        "Распределение: $\\frac{\\left(\\hat{\\psi} - {\\psi}\\right)^\\intercal {b_\\psi}^{-1} \\left(\\hat{\\psi} - {\\psi}\\right)}{qS^2} \\sim \\mathcal{F}_{q,n-r}$\n",
        "\n",
        "Доверительный эллипсоид: $\\left\\{\\overrightarrow{x} : \\left(\\overrightarrow{x} - \\hat{\\psi}\\right)^\\intercal b_\\psi^{-1} \\left(\\overrightarrow{x} - \\hat{\\psi}\\right) \\le q S^2 x_\\alpha\\right\\}$,где $x_\\alpha: \\mathcal{F}_{q, n-r}(x_\\alpha) = 1 - \\alpha$\n",
        "\n",
        "9\\. Проверка гипотез\n",
        "\n",
        "Основная гипотеза $H_0:\\psi=0$\n",
        "\n",
        "Статистика: $\\mathbb{F} = \\frac{SS_H/q}{SS_e/(n-r)}$, где $SS_H = RSS(\\hat{\\beta}_H) - RSS(\\hat{\\beta})$, где $\\hat{\\beta}_H$ - МНК оценка при выполнении основной гипотезы\n",
        "\n",
        "$\\mathbb{F} \\sim \\mathcal{F}_{q,n-r}$\n",
        "\n",
        "$x_\\alpha: \\mathcal{F}_{q, n-r}(x_\\alpha) = 1 - \\alpha$"
      ],
      "metadata": {
        "id": "jFPa92Ep8w97"
      }
    },
    {
      "cell_type": "markdown",
      "metadata": {
        "id": "gfzpateTKQy5"
      },
      "source": [
        "## Постановка задачи\n",
        "Результаты статистического эксперимента представлены в виде двух переменных. Требуется оценить характер (случайной) зависимости переменной $Y$ от переменной $X$. Полученные результаты содержательно проинтерпретировать."
      ]
    },
    {
      "cell_type": "markdown",
      "metadata": {
        "id": "M078kNOlKQy5"
      },
      "source": [
        "## Выполнение работы\n"
      ]
    },
    {
      "cell_type": "code",
      "source": [
        "import matplotlib.pyplot as plt\n",
        "import numpy as np\n",
        "import scipy.stats as sps\n",
        "import sympy\n",
        "from sympy.solvers.solveset import nonlinsolve\n",
        "Y = [19.39, 8.76, 8.98, 27.71, 7.16, 6.50, 10.21, 5.15, 6.02, 19.25, 3.21, 13.97, 2.05, 3.84, 17.57, 7.07, 7.17,\n",
        "     20.64, 7.83, 16.53, 26.36, 5.15, 10.63, 14.49, 12.92, 1.69, 8.32, 18.81, 9.09, 10.71, 26.66, 10.38, 1.13, 12.28,\n",
        "     19.29, 19.34, 8.57, 12.92, 15.08, 3.81, 15.23, 1.40, 7.25, 4.73, 8.02, 0.20, 15.67, 22.88, 21.70, 13.35]\n",
        "X = [0, 1, 0, 3, 0, 3, 3, 2, 1, 3, 3, 3, 0, 1, 2, 0, 2, 1, 3, 1, 1, 2, 2, 2, 2, 1,\n",
        "     3, 2, 0, 2, 3, 3, 2, 1, 3, 2, 1, 1, 2, 0, 2, 2, 2, 1, 2, 0, 0, 1, 1, 1]\n",
        "alpha = 0.1\n",
        "h = 2.6"
      ],
      "metadata": {
        "id": "cz1_29QDLLlz"
      },
      "execution_count": 467,
      "outputs": []
    },
    {
      "cell_type": "markdown",
      "source": [
        "### 1. Построить графически результаты эксперимента. Сформулировать линейную регрессионную модель переменной $Y$ по переменной $X$. Построить МНК оценки параметров сдвига $\\beta_0$ и масштаба $\\beta_1$. Построить полученную линию регрессии. Оценить визуально соответствие полученных данных и построенной оценки."
      ],
      "metadata": {
        "id": "Bh_5hh0jMDN7"
      }
    },
    {
      "cell_type": "code",
      "source": [
        "fig, ax = plt.subplots()\n",
        "ax.scatter(X, Y)\n",
        "ax.set_xlabel('X')\n",
        "ax.set_ylabel('Y')\n",
        "plt.show()"
      ],
      "metadata": {
        "colab": {
          "base_uri": "https://localhost:8080/",
          "height": 449
        },
        "id": "P57NIly3MhnJ",
        "outputId": "86937ec9-e83f-4147-c829-bd0e4765db31"
      },
      "execution_count": 468,
      "outputs": [
        {
          "output_type": "display_data",
          "data": {
            "text/plain": [
              "<Figure size 640x480 with 1 Axes>"
            ],
            "image/png": "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\n"
          },
          "metadata": {}
        }
      ]
    },
    {
      "cell_type": "markdown",
      "source": [
        "Линейная регрессионная модель:\n",
        "\n",
        "$\\mathbb{E}_{\\theta}(Y|z) = x(z)^{\\intercal}\\beta$\n",
        "\n",
        "$Y = \\beta_0 + \\beta_1 X + \\varepsilon$\n",
        "\n",
        "Построение МНК оценок:"
      ],
      "metadata": {
        "id": "WW2r5TmGOJWc"
      }
    },
    {
      "cell_type": "code",
      "source": [
        "Y_matrix = np.matrix(Y).T\n",
        "X_matrix = np.matrix([[1] * len(X), X])\n",
        "print(\"Определитель матрицы X*X_transpose = \", np.linalg.det(X_matrix * X_matrix.T))\n",
        "Beta_matrix = np.linalg.inv(X_matrix * X_matrix.T) * X_matrix * Y_matrix\n",
        "beta_0 = float(Beta_matrix[0])\n",
        "beta_1 = float(Beta_matrix[1])\n",
        "print(f\"Оценка вектора бета: ({beta_0}, {beta_1})\")"
      ],
      "metadata": {
        "colab": {
          "base_uri": "https://localhost:8080/"
        },
        "id": "wTF3LUQuP4aZ",
        "outputId": "686e9129-1ae7-422d-af0e-12718a487283"
      },
      "execution_count": 469,
      "outputs": [
        {
          "output_type": "stream",
          "name": "stdout",
          "text": [
            "Определитель матрицы X*X_transpose =  2609.0000000000005\n",
            "Оценка вектора бета: (9.46452663855883, 1.314476811038714)\n"
          ]
        }
      ]
    },
    {
      "cell_type": "code",
      "source": [
        "fig, ax = plt.subplots()\n",
        "ax.scatter(X, Y)\n",
        "ax.plot([0,3], [beta_0, beta_0 + beta_1 * 3], color = 'r')\n",
        "\n",
        "ax.set_xlabel('X')\n",
        "ax.set_ylabel('Y')\n",
        "plt.show()"
      ],
      "metadata": {
        "colab": {
          "base_uri": "https://localhost:8080/",
          "height": 449
        },
        "id": "VJPLqcTeV1SG",
        "outputId": "f79569e6-22ec-4dc3-cab5-4794ac9b2c30"
      },
      "execution_count": 470,
      "outputs": [
        {
          "output_type": "display_data",
          "data": {
            "text/plain": [
              "<Figure size 640x480 with 1 Axes>"
            ],
            "image/png": "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\n"
          },
          "metadata": {}
        }
      ]
    },
    {
      "cell_type": "markdown",
      "source": [
        "Очевидно, что модель линейной регрессии не подходит к заданным данным."
      ],
      "metadata": {
        "id": "PzqwuzCmXX-a"
      }
    },
    {
      "cell_type": "markdown",
      "source": [
        "### 2. Построить и интерпретировать несмещённую оценку дисперсии. На базе ошибок построить гистограмму с шагом $h$. Проверить гипотезу нормальности ошибок на уровне значимости $\\alpha$ по $\\chi^2$. Оценить расстояние полученной оценки до класса нормальных распределений по Колмогорову. Визуально оценить данный факт."
      ],
      "metadata": {
        "id": "Y73Qyq-cX33H"
      }
    },
    {
      "cell_type": "code",
      "source": [
        "unbias_var = np.linalg.norm(Y_matrix - X_matrix.T * Beta_matrix)**2/(len(X) - np.linalg.matrix_rank(X_matrix))\n",
        "print(\"Несмещённая оценка дисперсии =\", unbias_var)"
      ],
      "metadata": {
        "colab": {
          "base_uri": "https://localhost:8080/"
        },
        "id": "A05cb7NiYeb-",
        "outputId": "0596cee9-e927-47e6-c153-6d09d176d939"
      },
      "execution_count": 471,
      "outputs": [
        {
          "output_type": "stream",
          "name": "stdout",
          "text": [
            "Несмещённая оценка дисперсии = 50.038567212852946\n"
          ]
        }
      ]
    },
    {
      "cell_type": "code",
      "source": [
        "mistakes = Y_matrix - X_matrix.T * Beta_matrix\n",
        "fig, ax = plt.subplots()\n",
        "bins = [x / 10.0 for x in range(int(min(mistakes)) * 10, int(max(mistakes)) * 10 + 5, int(h * 10))]\n",
        "ax.hist(mistakes, bins = bins, linewidth=1, edgecolor='black', density= True)\n",
        "plt.title(\"Гистограмма ошибок с шагом h\")\n",
        "plt.show()"
      ],
      "metadata": {
        "colab": {
          "base_uri": "https://localhost:8080/",
          "height": 452
        },
        "id": "DSFxTrLxarSF",
        "outputId": "88fd2b89-470f-477e-dfd0-4614d7534bdc"
      },
      "execution_count": 472,
      "outputs": [
        {
          "output_type": "display_data",
          "data": {
            "text/plain": [
              "<Figure size 640x480 with 1 Axes>"
            ],
            "image/png": "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\n"
          },
          "metadata": {}
        }
      ]
    },
    {
      "cell_type": "markdown",
      "source": [
        "Пусть данная выборка $X_1, X_2, \\dots, X_n$ - выборка из распределения с функцией распределения F.\n",
        "\n",
        "Основная гипотеза: $H_0 : F \\equiv \\mathcal{N}(0, S^2)$\n",
        "\n",
        "Альтернативная гипотеза: $H_A : \\exists x : F(x) \\neq F_{\\theta}(x)$\n",
        "\n",
        "Вычисление статистики критерия $\\chi^2$ c перегруппировкой выборки:"
      ],
      "metadata": {
        "id": "L2tQ793VhjIs"
      }
    },
    {
      "cell_type": "code",
      "source": [
        "mean_mistakes = 0\n",
        "std_mistakes = np.sqrt(unbias_var)\n",
        "\n",
        "intervals = [[-10, -10+2*h], [-10+2*h, -10+3.5*h], [-10+3.5*h, -10+5.5*h], [-10+5.5*h, -10+7*h], [-10+7*h, -10+10*h]]\n",
        "freq = [0] * len(intervals) #экспереметальные частоты\n",
        "freq_teor = [0] * len(intervals) #Гипотетические частоты\n",
        "print(\"x            | Частота | Гипотетическая частота\")\n",
        "for i in range(len(intervals)):\n",
        "  a = intervals[i][0]\n",
        "  b = intervals[i][-1]\n",
        "  freq[i] += len([x for x in mistakes if (x >= a and x < b)])\n",
        "  freq_teor[i] += len(mistakes) * (sps.norm.cdf(b, loc = mean_mistakes, scale = std_mistakes) - sps.norm.cdf(a, loc = mean_mistakes, scale = std_mistakes))\n",
        "  if (i == len(intervals) - 1):\n",
        "    freq_teor[i] += len(mistakes) * sps.norm.sf(b, loc = mean_mistakes, scale = std_mistakes)\n",
        "    print('[', round(a, 1), \", +inf)\\t\", freq[i], \"\\t\", freq_teor[i])\n",
        "  else:\n",
        "    print('[', round(a, 1), ',', round(b, 1), \"]\\t\", freq[i], \"\\t\", freq_teor[i])\n",
        "freq = np.array(freq)\n",
        "freq_teor = np.array(freq_teor)\n",
        "chi_square = np.sum((freq - freq_teor) ** 2 / freq_teor)\n",
        "print(\"Статистика хи-квадрат равна:\", chi_square)\n",
        "print(\"x_alpha равен:\", sps.chi2.ppf(1 - alpha, df = len(freq) - 2))"
      ],
      "metadata": {
        "colab": {
          "base_uri": "https://localhost:8080/"
        },
        "id": "Pi80gHEtcu6Y",
        "outputId": "45223184-0353-4f3f-c200-7a8d469ed95b"
      },
      "execution_count": 473,
      "outputs": [
        {
          "output_type": "stream",
          "name": "stdout",
          "text": [
            "x            | Частота | Гипотетическая частота\n",
            "[ -10 , -4.8 ]\t 13 \t 8.498921977857457\n",
            "[ -4.8 , -0.9 ]\t 10 \t 10.033552092314874\n",
            "[ -0.9 , 4.3 ]\t 10 \t 13.949324987847053\n",
            "[ 4.3 , 8.2 ]\t 7 \t 7.422435225463331\n",
            "[ 8.2 , +inf)\t 7 \t 6.159283927360766\n",
            "Статистика хи-квадрат равна: 3.640836041281749\n",
            "x_alpha равен: 6.251388631170325\n"
          ]
        }
      ]
    },
    {
      "cell_type": "markdown",
      "source": [
        "$\\chi^2 \\approx 3.64$\n",
        "\n",
        "$x_{\\alpha} \\approx 6.25$\n",
        "\n",
        "$\\chi^2 < x_{\\alpha_2}$ следовательно гипотеза о нормальности принимается"
      ],
      "metadata": {
        "id": "UW3kajpUgAOE"
      }
    },
    {
      "cell_type": "code",
      "source": [
        "print(\"Статистика критерия Колмогорова Dn:\", sps.kstest([element[0,0] for element in mistakes], \"norm\", args = (mean_mistakes,std_mistakes)).statistic)\n",
        "print(\"x_alpha:\", sps.kstwobign.ppf(1 - alpha) / np.sqrt(len(mistakes)))"
      ],
      "metadata": {
        "colab": {
          "base_uri": "https://localhost:8080/"
        },
        "id": "wbeO7SiizWYZ",
        "outputId": "e0359dae-dd04-4f5b-b393-85a38101d4d1"
      },
      "execution_count": 474,
      "outputs": [
        {
          "output_type": "stream",
          "name": "stdout",
          "text": [
            "Статистика критерия Колмогорова Dn: 0.09752985344223519\n",
            "x_alpha: 0.17307822563424255\n"
          ]
        }
      ]
    },
    {
      "cell_type": "markdown",
      "source": [
        "$D_n \\approx 0.10$\n",
        "\n",
        "$x_{\\alpha} \\approx 0.17$\n",
        "\n",
        "$D_n < x_{\\alpha_2}$ следовательно гипотеза о нормальности принимается"
      ],
      "metadata": {
        "id": "k79ThA5j3w3A"
      }
    },
    {
      "cell_type": "code",
      "source": [
        "mistakes = Y_matrix - X_matrix.T * Beta_matrix\n",
        "fig, ax = plt.subplots()\n",
        "bins = [x / 10.0 for x in range(int(min(mistakes)) * 10, int(max(mistakes)) * 10 + 5, int(h * 10))]\n",
        "ax.hist(mistakes, bins = bins, linewidth=1, edgecolor='black', density= True)\n",
        "plt.plot(np.arange(min(mistakes), max(mistakes) + 1, 0.01), sps.norm.pdf(np.arange(min(mistakes), max(mistakes) + 1, 0.01), mean_mistakes, std_mistakes))\n",
        "plt.show()"
      ],
      "metadata": {
        "colab": {
          "base_uri": "https://localhost:8080/",
          "height": 430
        },
        "id": "FGuljnoG33Yn",
        "outputId": "f6fd0a50-553d-42e0-b381-143dc6cdd53c"
      },
      "execution_count": 475,
      "outputs": [
        {
          "output_type": "display_data",
          "data": {
            "text/plain": [
              "<Figure size 640x480 with 1 Axes>"
            ],
            "image/png": "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\n"
          },
          "metadata": {}
        }
      ]
    },
    {
      "cell_type": "markdown",
      "source": [
        "Видно, что очертания нормальности присутсвуют, но однозначно сделать вывод о нормальности по визуальной оценке не представляется возможным."
      ],
      "metadata": {
        "id": "-JHTKxUk6v9d"
      }
    },
    {
      "cell_type": "markdown",
      "source": [
        "### 3. В предположении нормальности ошибок построить доверительные интервалы для параметров $\\beta_0$ и $\\beta_1$ уровня доверия $1 - \\alpha$. Построить доверительный эллипс уровня доверия $1 - \\alpha$ для $(\\beta_0, \\beta_1)$ (вычислить его полуоси)."
      ],
      "metadata": {
        "id": "Fq66_LpOieBC"
      }
    },
    {
      "cell_type": "markdown",
      "source": [
        "Доверительный интервал для параметра $\\beta_0$:\n",
        "\n",
        "ДНО-функция: $\\psi = C^\\intercal \\beta = \\beta_0$\n",
        "\n",
        "Тогда $C = (1, 0)^\\intercal$\n",
        "\n",
        "Тогда МНК оценка равна $\\hat{\\psi} = \\hat{\\beta}_0$\n",
        "\n",
        "Найдем доверительный интервал вида: $\\left[\\hat{\\psi} - x_\\alpha S \\sqrt{b_\\psi}; \\hat{\\psi} + x_\\alpha S \\sqrt{b_\\psi}\\right]$,\n",
        "\n",
        "где $x_\\alpha: S_{n-r}(x_\\alpha) = 1 - \\frac{\\alpha}{2}$, $b_\\psi = C^\\intercal(XX^\\intercal)^{-1}C$"
      ],
      "metadata": {
        "id": "U8-DGSrooL5A"
      }
    },
    {
      "cell_type": "code",
      "source": [
        "r = np.linalg.matrix_rank(X_matrix)\n",
        "n = len(X)\n",
        "x_alpha = sps.t.ppf(1 - alpha/2, df = n - r)\n",
        "C = np.matrix([[1], [0]])\n",
        "b_psi = float(C.T * np.linalg.inv(X_matrix * X_matrix.T) * C)\n",
        "print(\"x_alpha = \", x_alpha)\n",
        "print(\"left = \", beta_0 - x_alpha * np.sqrt(unbias_var) * np.sqrt(b_psi))\n",
        "print(\"right = \", beta_0 + x_alpha * np.sqrt(unbias_var) * np.sqrt(b_psi))"
      ],
      "metadata": {
        "colab": {
          "base_uri": "https://localhost:8080/"
        },
        "id": "pXNxCVNiqOfb",
        "outputId": "3c6f889b-1c35-448e-876d-3553a7d0598d"
      },
      "execution_count": 476,
      "outputs": [
        {
          "output_type": "stream",
          "name": "stdout",
          "text": [
            "x_alpha =  1.6772241953450393\n",
            "left =  6.374279981114464\n",
            "right =  12.554773296003196\n"
          ]
        }
      ]
    },
    {
      "cell_type": "markdown",
      "source": [
        "$\\left[6.374, 12.555\\right] \\ni \\beta_0$"
      ],
      "metadata": {
        "id": "kKd9q97HsoIE"
      }
    },
    {
      "cell_type": "markdown",
      "source": [
        "Доверительный интервал для параметра $\\beta_1$:\n",
        "\n",
        "ДНО-функция: $\\psi = C^\\intercal \\beta = \\beta_1$\n",
        "\n",
        "Тогда $C = (0, 1)^\\intercal$\n",
        "\n",
        "Тогда МНК оценка равна $\\hat{\\psi} = \\hat{\\beta}_1$\n",
        "\n",
        "Найдем доверительный интервал вида: $\\left[\\hat{\\psi} - x_\\alpha S \\sqrt{b_\\psi}; \\hat{\\psi} + x_\\alpha S \\sqrt{b_\\psi}\\right]$,\n",
        "\n",
        "где $x_\\alpha: S_{n-r}(x_\\alpha) = 1 - \\frac{\\alpha}{2}$, $b_\\psi = C^\\intercal(XX^\\intercal)^{-1}C$"
      ],
      "metadata": {
        "id": "taNEsT4ysyRn"
      }
    },
    {
      "cell_type": "code",
      "source": [
        "r = np.linalg.matrix_rank(X_matrix)\n",
        "n = len(X)\n",
        "x_alpha = sps.t.ppf(1 - alpha/2, df = n - r)\n",
        "C = np.matrix([[0], [1]])\n",
        "b_psi = float(C.T * np.linalg.inv(X_matrix * X_matrix.T) * C)\n",
        "print(\"x_alpha = \", x_alpha)\n",
        "print(\"left = \", beta_1 - x_alpha * np.sqrt(unbias_var) * np.sqrt(b_psi))\n",
        "print(\"right = \", beta_1 + x_alpha * np.sqrt(unbias_var) * np.sqrt(b_psi))"
      ],
      "metadata": {
        "colab": {
          "base_uri": "https://localhost:8080/"
        },
        "id": "0AVLEzrHs5WJ",
        "outputId": "9baf60ad-6b67-441b-9603-182d35b2d580"
      },
      "execution_count": 477,
      "outputs": [
        {
          "output_type": "stream",
          "name": "stdout",
          "text": [
            "x_alpha =  1.6772241953450393\n",
            "left =  -0.3279707565828216\n",
            "right =  2.9569243786602497\n"
          ]
        }
      ]
    },
    {
      "cell_type": "markdown",
      "source": [
        "$\\left[-0.328, 2.957\\right] \\ni \\beta_1$"
      ],
      "metadata": {
        "id": "RoLaPIU9s_nk"
      }
    },
    {
      "cell_type": "markdown",
      "source": [
        "Доверительный эллипс для параметра $(\\beta_0, \\beta_1)$:\n",
        "\n",
        "ДНО-функция: $\\psi = C^\\intercal \\beta = (\\beta_0, \\beta_1)^\\intercal$\n",
        "\n",
        "Тогда $C = \\begin{pmatrix}1 & 0 \\\\0 & 1\\end{pmatrix}$\n",
        "\n",
        "Тогда МНК оценка равна $\\hat{\\psi} = (\\hat{\\beta}_0, \\hat{\\beta}_1)^\\intercal$\n",
        "\n",
        "Найдем доверительный эллипс вида: $\\left\\{\\overrightarrow{x} : \\left(\\overrightarrow{x} - \\hat{\\psi}\\right)^\\intercal b_\\psi^{-1} \\left(\\overrightarrow{x} - \\hat{\\psi}\\right) \\le q S^2 x_\\alpha\\right\\}$,\n",
        "\n",
        "где $x_\\alpha: \\mathcal{F}_{q, n-r}(x_\\alpha) = 1 - \\alpha$, $b_\\psi = C^\\intercal(XX^\\intercal)^{-1}C$"
      ],
      "metadata": {
        "id": "cLcfGb1btTMg"
      }
    },
    {
      "cell_type": "code",
      "source": [
        "r = np.linalg.matrix_rank(X_matrix)\n",
        "n = len(X)\n",
        "q = len(Beta_matrix)\n",
        "x_alpha = sps.f.ppf(1 - alpha, dfn = q, dfd = n - r)\n",
        "C = np.matrix([[1, 0], [0, 1]])\n",
        "b_psi = C.T * np.linalg.inv(X_matrix * X_matrix.T) * C\n",
        "print(\"Определитель матрицы b_psi = \", np.linalg.det(b_psi))\n",
        "print(\"x_alpha = \", x_alpha)\n",
        "\n",
        "x_symbol = sympy.Symbol('x', real=True)\n",
        "y_symbol = sympy.Symbol('y', real=True)\n",
        "x_vec = np.matrix([[x_symbol], [y_symbol]])\n",
        "expr = (x_vec - Beta_matrix).T * np.linalg.inv(b_psi) * (x_vec - Beta_matrix)\n",
        "print(f\"Неравенство имеет вид: {expr[0,0].as_poly().as_expr()} <= {q * unbias_var * x_alpha}\")\n",
        "expr = expr[0,0].as_poly().as_expr() - q * unbias_var * x_alpha\n",
        "print(f\"Перенесем все в левую часть: {expr} <= 0\")\n",
        "angle = np.arctan(float(expr.as_poly().coeff_monomial(x_symbol*y_symbol)\n",
        "      /(expr.as_poly().coeff_monomial(x_symbol**2) - expr.as_poly().coeff_monomial(y_symbol**2)))) / 2\n",
        "print(f\"Выполним поворот декартовой системы координат на угол {angle}\")\n",
        "x_2_symbol = sympy.Symbol(\"x'\", real=True)\n",
        "y_2_symbol = sympy.Symbol(\"y'\", real=True)\n",
        "expr = expr.subs([(x_symbol, x_2_symbol * np.cos(angle) - y_2_symbol * np.sin(angle)), (y_symbol, x_2_symbol * np.sin(angle) + y_2_symbol * np.cos(angle))])\n",
        "expr = expr.as_poly().as_expr()\n",
        "small_numbers = set([e for e in expr.atoms(sympy.Number) if abs(e) < 1e-05])\n",
        "d = {s: 0 for s in small_numbers}\n",
        "expr = expr.subs(d)\n",
        "print(f\"Полученное неравенство: {expr} <= 0\")\n",
        "A = expr.as_poly().coeff_monomial(x_2_symbol**2)\n",
        "B = expr.as_poly().coeff_monomial(x_2_symbol)\n",
        "C = expr.as_poly().coeff_monomial(y_2_symbol**2)\n",
        "D = expr.as_poly().coeff_monomial(y_2_symbol)\n",
        "E = expr.as_poly().coeff_monomial(1)\n",
        "F = E - B**2/A/4 - D**2/C/4\n",
        "x_3_symbol = sympy.Symbol(\"x''\", real=True)\n",
        "y_3_symbol = sympy.Symbol(\"y''\", real=True)\n",
        "expr = A * x_3_symbol**2 + C * y_3_symbol**2 + F\n",
        "print(f\"Неравенство после параллельного сдвига: {expr} <= 0\")\n",
        "expr = expr / (-F) + 1\n",
        "print(f\"Итоговый вид неравенства: {expr} <= 1\")\n",
        "A = expr.as_poly().coeff_monomial(x_3_symbol**2)\n",
        "C = expr.as_poly().coeff_monomial(y_3_symbol**2)\n",
        "print(f\"Длины полуосей: {np.sqrt(float(1/A))} и {np.sqrt(float(1/C))}\")"
      ],
      "metadata": {
        "colab": {
          "base_uri": "https://localhost:8080/"
        },
        "id": "KtErKgONyE46",
        "outputId": "daab2a94-1cf8-454f-cbe1-ba76e884d080"
      },
      "execution_count": 478,
      "outputs": [
        {
          "output_type": "stream",
          "name": "stdout",
          "text": [
            "Определитель матрицы b_psi =  0.0003832886163280953\n",
            "x_alpha =  2.4166601100530283\n",
            "Неравенство имеет вид: 50.0*x**2 + 158.0*x*y - 1154.14*x + 177.0*y**2 - 1960.72*y + 6750.35487378305 <= 241.85241869501812\n",
            "Перенесем все в левую часть: 50.0*x**2 + 158.0*x*y - 1154.14*x + 177.0*y**2 - 1960.72*y + 6508.50245508804 <= 0\n",
            "Выполним поворот декартовой системы координат на угол -0.44687207030641557\n",
            "Полученное неравенство: 12.1429578174264*x'**2 - 193.488165703457*x' + 214.857042182574*y'**2 - 2266.94163747828*y' + 6508.50245508804 <= 0\n",
            "Неравенство после параллельного сдвига: 12.1429578174264*x''**2 + 214.857042182574*y''**2 - 241.852418695019 <= 0\n",
            "Итоговый вид неравенства: 0.0502081305737899*x''**2 + 0.888380787514525*y''**2 <= 1\n",
            "Длины полуосей: 4.462857031164075 и 1.0609634459290347\n"
          ]
        }
      ]
    },
    {
      "cell_type": "markdown",
      "source": [
        "### 4. Сформулировать гипотезу независимости переменной $Y$ от переменной $X$. Провести проверку значимости."
      ],
      "metadata": {
        "id": "Jn4HY6EfL8pA"
      }
    },
    {
      "cell_type": "markdown",
      "source": [
        "Основная гипотеза: $H_0 : \\psi = 0$"
      ],
      "metadata": {
        "id": "hJqLm6fuMMl7"
      }
    },
    {
      "cell_type": "code",
      "source": [
        "beta_0_h = sum(Y)/len(Y)\n",
        "beta_1_h = 0\n",
        "print(f\"Оценка вектора бета при выполнении основной гипотезы: ({beta_0_h}, {beta_1_h})\")\n",
        "Beta_h_matrix = np.matrix([[beta_0_h], [beta_1_h]])\n",
        "F_stat = (np.linalg.norm(Y_matrix - X_matrix.T * Beta_h_matrix)**2 - np.linalg.norm(Y_matrix - X_matrix.T * Beta_matrix)**2)/2/unbias_var\n",
        "print(f\"Статистика F = {F_stat}\")\n",
        "print(f\"x_alpha = {sps.f.ppf(1 - alpha, dfn = 2, dfd = n - r)}\")"
      ],
      "metadata": {
        "colab": {
          "base_uri": "https://localhost:8080/"
        },
        "id": "8_uE2SL6M3v7",
        "outputId": "8e9d6899-b450-4f07-ee48-9a49bf4cd9fd"
      },
      "execution_count": 479,
      "outputs": [
        {
          "output_type": "stream",
          "name": "stdout",
          "text": [
            "Оценка вектора бета при выполнении основной гипотезы: (11.541400000000001, 0)\n",
            "Статистика F = 0.9008968562143356\n",
            "x_alpha = 2.4166601100530283\n"
          ]
        }
      ]
    },
    {
      "cell_type": "markdown",
      "source": [
        "$\\mathbb{F} \\approx 0.90$\n",
        "\n",
        "$x_{\\alpha} \\approx 2.42$\n",
        "\n",
        "$\\mathbb{F} < x_{\\alpha_2}$ следовательно гипотеза о независимости принимается"
      ],
      "metadata": {
        "id": "JhGhuZntPEKp"
      }
    },
    {
      "cell_type": "markdown",
      "source": [
        "### 5.  Сформулировать модель, включающую дополнительный член с $X^2$. Построить МНК оценки параметров $\\beta_0, \\beta_1, \\beta_2$ в данной модели. Изобразить графически полученную регрессионную зависимость."
      ],
      "metadata": {
        "id": "DwIecWUQP5Z5"
      }
    },
    {
      "cell_type": "markdown",
      "source": [
        "Линейная регрессионная модель:\n",
        "\n",
        "$\\mathbb{E}_{\\theta}(Y|z) = x(z)^{\\intercal}\\beta$\n",
        "\n",
        "$Y = \\beta_0 + \\beta_1 X + \\beta_2 X^2 + \\varepsilon$\n",
        "\n",
        "Построение МНК оценок:"
      ],
      "metadata": {
        "id": "xuGpXQF5QHkC"
      }
    },
    {
      "cell_type": "code",
      "source": [
        "Y_matrix = np.matrix(Y).T\n",
        "X_matrix = np.matrix([[1] * len(X), X, [x**2 for x in X]])\n",
        "print(\"Определитель матрицы X*X_transpose = \", np.linalg.det(X_matrix * X_matrix.T))\n",
        "Beta_matrix = np.linalg.inv(X_matrix * X_matrix.T) * X_matrix * Y_matrix\n",
        "beta_0 = float(Beta_matrix[0])\n",
        "beta_1 = float(Beta_matrix[1])\n",
        "beta_2 = float(Beta_matrix[2])\n",
        "print(f\"Оценка вектора бета: ({beta_0}, {beta_1}, {beta_2})\")"
      ],
      "metadata": {
        "colab": {
          "base_uri": "https://localhost:8080/"
        },
        "id": "gLLxo4D5QOrz",
        "outputId": "b193aeff-3d85-466b-b291-1ae7b6e3e80a"
      },
      "execution_count": 480,
      "outputs": [
        {
          "output_type": "stream",
          "name": "stdout",
          "text": [
            "Определитель матрицы X*X_transpose =  124839.99999999965\n",
            "Оценка вектора бета: (9.146711310477501, 2.069857097084257, -0.2473687920538321)\n"
          ]
        }
      ]
    },
    {
      "cell_type": "code",
      "source": [
        "fig, ax = plt.subplots()\n",
        "ax.scatter(X, Y)\n",
        "X_for_plot = [x / 10 for x in range(31)]\n",
        "Y_for_plot = [beta_0 + beta_1 * x + beta_2 * x**2 for x in X_for_plot]\n",
        "ax.plot(X_for_plot, Y_for_plot, color = 'r')\n",
        "ax.set_xlabel('X')\n",
        "ax.set_ylabel('Y')\n",
        "plt.show()"
      ],
      "metadata": {
        "colab": {
          "base_uri": "https://localhost:8080/",
          "height": 0
        },
        "id": "zoZ0VTpOQ1hh",
        "outputId": "3b05aad9-5fc9-49ac-bb4c-f92dea32e39d"
      },
      "execution_count": 481,
      "outputs": [
        {
          "output_type": "display_data",
          "data": {
            "text/plain": [
              "<Figure size 640x480 with 1 Axes>"
            ],
            "image/png": "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\n"
          },
          "metadata": {}
        }
      ]
    },
    {
      "cell_type": "markdown",
      "source": [
        "Коэффицент $\\beta_2$ оказался мал и парабола очень приближена к прямой, которая совсем не отражает данные"
      ],
      "metadata": {
        "id": "bq-9UzjwRYuX"
      }
    },
    {
      "cell_type": "markdown",
      "source": [
        "### 6. Построить несмещённую оценку дисперсии. Провести исследование нормальности ошибок как в пункте 2."
      ],
      "metadata": {
        "id": "CH6hBU-kSRUH"
      }
    },
    {
      "cell_type": "code",
      "source": [
        "unbias_var = np.linalg.norm(Y_matrix - X_matrix.T * Beta_matrix)**2/(len(X) - np.linalg.matrix_rank(X_matrix))\n",
        "print(\"Несмещённая оценка дисперсии =\", unbias_var)"
      ],
      "metadata": {
        "colab": {
          "base_uri": "https://localhost:8080/"
        },
        "id": "Wk0XlWe8SaY7",
        "outputId": "90530eeb-e96d-454a-8511-05c1b8e1f86d"
      },
      "execution_count": 482,
      "outputs": [
        {
          "output_type": "stream",
          "name": "stdout",
          "text": [
            "Несмещённая оценка дисперсии = 51.04091993264571\n"
          ]
        }
      ]
    },
    {
      "cell_type": "code",
      "source": [
        "mistakes = Y_matrix - X_matrix.T * Beta_matrix\n",
        "fig, ax = plt.subplots()\n",
        "bins = [x / 10.0 for x in range(int(min(mistakes)) * 10, int(max(mistakes)) * 10 + 5, int(h * 10))]\n",
        "ax.hist(mistakes, bins = bins, linewidth=1, edgecolor='black', density= True)\n",
        "plt.title(\"Гистограмма ошибок с шагом h\")\n",
        "plt.show()"
      ],
      "metadata": {
        "colab": {
          "base_uri": "https://localhost:8080/",
          "height": 452
        },
        "id": "2YDqz0ofSqK2",
        "outputId": "bf7ebb77-cb8f-462a-a689-2c613fe01210"
      },
      "execution_count": 483,
      "outputs": [
        {
          "output_type": "display_data",
          "data": {
            "text/plain": [
              "<Figure size 640x480 with 1 Axes>"
            ],
            "image/png": "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\n"
          },
          "metadata": {}
        }
      ]
    },
    {
      "cell_type": "markdown",
      "source": [
        "Пусть данная выборка $X_1, X_2, \\dots, X_n$ - выборка из распределения с функцией распределения F.\n",
        "\n",
        "Основная гипотеза: $H_0 : F \\equiv \\mathcal{N}(0, S^2)$\n",
        "\n",
        "Альтернативная гипотеза: $H_A : \\exists x : F(x) \\neq F_{\\theta}(x)$\n",
        "\n",
        "Вычисление статистики критерия $\\chi^2$ c перегруппировкой выборки:"
      ],
      "metadata": {
        "id": "ICyx-bl3SylE"
      }
    },
    {
      "cell_type": "code",
      "source": [
        "mean_mistakes = 0\n",
        "std_mistakes = np.sqrt(unbias_var)\n",
        "\n",
        "intervals = [[-10, -10+1.5*h], [-10+1.5*h, -10+3*h], [-10+3*h, -10+4.5*h], [-10+4.5*h, -10+7*h], [-10+7*h, -10+10*h]]\n",
        "freq = [0] * len(intervals) #экспереметальные частоты\n",
        "freq_teor = [0] * len(intervals) #Гипотетические частоты\n",
        "print(\"x            | Частота | Гипотетическая частота\")\n",
        "for i in range(len(intervals)):\n",
        "  a = intervals[i][0]\n",
        "  b = intervals[i][-1]\n",
        "  freq[i] += len([x for x in mistakes if (x >= a and x < b)])\n",
        "  freq_teor[i] += len(mistakes) * (sps.norm.cdf(b, loc = mean_mistakes, scale = std_mistakes) - sps.norm.cdf(a, loc = mean_mistakes, scale = std_mistakes))\n",
        "  if (i == len(intervals) - 1):\n",
        "    freq_teor[i] += len(mistakes) * sps.norm.sf(b, loc = mean_mistakes, scale = std_mistakes)\n",
        "    print('[', round(a, 1), \", +inf)\\t\", freq[i], \"\\t\", freq_teor[i])\n",
        "  else:\n",
        "    print('[', round(a, 1), ',', round(b, 1), \"]\\t\", freq[i], \"\\t\", freq_teor[i])\n",
        "freq = np.array(freq)\n",
        "freq_teor = np.array(freq_teor)\n",
        "chi_square = np.sum((freq - freq_teor) ** 2 / freq_teor)\n",
        "print(\"Статистика хи-квадрат равна:\", chi_square)\n",
        "print(\"x_alpha равен:\", sps.chi2.ppf(1 - alpha, df = len(freq) - 2))"
      ],
      "metadata": {
        "colab": {
          "base_uri": "https://localhost:8080/"
        },
        "id": "Mqa70P25S1h8",
        "outputId": "a590c8a1-cf88-4560-d086-2a770b872d3a"
      },
      "execution_count": 484,
      "outputs": [
        {
          "output_type": "stream",
          "name": "stdout",
          "text": [
            "x            | Частота | Гипотетическая частота\n",
            "[ -10 , -6.1 ]\t 9 \t 5.790062549562594\n",
            "[ -6.1 , -2.2 ]\t 11 \t 9.123233617565626\n",
            "[ -2.2 , 1.7 ]\t 9 \t 10.7488095302241\n",
            "[ 1.7 , 8.2 ]\t 12 \t 14.02135942463828\n",
            "[ 8.2 , +inf)\t 7 \t 6.276595310335777\n",
            "Статистика хи-квадрат равна: 2.8249319421527455\n",
            "x_alpha равен: 6.251388631170325\n"
          ]
        }
      ]
    },
    {
      "cell_type": "markdown",
      "source": [
        "$\\chi^2 \\approx 2.82$\n",
        "\n",
        "$x_{\\alpha} \\approx 6.25$\n",
        "\n",
        "$\\chi^2 < x_{\\alpha_2}$ следовательно гипотеза о нормальности принимается"
      ],
      "metadata": {
        "id": "sWe3Jb6TTFYJ"
      }
    },
    {
      "cell_type": "code",
      "source": [
        "print(\"Статистика критерия Колмогорова Dn:\", sps.kstest([element[0,0] for element in mistakes], \"norm\", args = (mean_mistakes,std_mistakes)).statistic)\n",
        "print(\"x_alpha:\", sps.kstwobign.ppf(1 - alpha) / np.sqrt(len(mistakes)))"
      ],
      "metadata": {
        "colab": {
          "base_uri": "https://localhost:8080/"
        },
        "id": "C8rcI0UD7kCN",
        "outputId": "71d074c5-958d-4688-b6ca-01dc73e02ed1"
      },
      "execution_count": 485,
      "outputs": [
        {
          "output_type": "stream",
          "name": "stdout",
          "text": [
            "Статистика критерия Колмогорова Dn: 0.10789303511416604\n",
            "x_alpha: 0.17307822563424255\n"
          ]
        }
      ]
    },
    {
      "cell_type": "markdown",
      "source": [
        "$D_n \\approx 0.11$\n",
        "\n",
        "$x_{\\alpha} \\approx 0.17$\n",
        "\n",
        "$D_n < x_{\\alpha_2}$ следовательно гипотеза о нормальности принимается"
      ],
      "metadata": {
        "id": "aXea1ZJl7pFW"
      }
    },
    {
      "cell_type": "code",
      "source": [
        "mistakes = Y_matrix - X_matrix.T * Beta_matrix\n",
        "fig, ax = plt.subplots()\n",
        "bins = [x / 10.0 for x in range(int(min(mistakes)) * 10, int(max(mistakes)) * 10 + 5, int(h * 10))]\n",
        "ax.hist(mistakes, bins = bins, linewidth=1, edgecolor='black', density= True)\n",
        "plt.plot(np.arange(min(mistakes), max(mistakes) + 1, 0.01), sps.norm.pdf(np.arange(min(mistakes), max(mistakes) + 1, 0.01), mean_mistakes, std_mistakes))\n",
        "plt.show()"
      ],
      "metadata": {
        "colab": {
          "base_uri": "https://localhost:8080/",
          "height": 430
        },
        "id": "VVxN6uvw7u6u",
        "outputId": "cc22d748-4f87-4249-8e7f-d68772e5d581"
      },
      "execution_count": 486,
      "outputs": [
        {
          "output_type": "display_data",
          "data": {
            "text/plain": [
              "<Figure size 640x480 with 1 Axes>"
            ],
            "image/png": "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\n"
          },
          "metadata": {}
        }
      ]
    },
    {
      "cell_type": "markdown",
      "source": [
        "Визуально видно нормальность ошибок, хотя местами и прослеживаются отклонения от нормального распределения"
      ],
      "metadata": {
        "id": "54RhDFQe8HZC"
      }
    },
    {
      "cell_type": "markdown",
      "source": [
        "### 7. В предположении нормальности ошибок построить доверительные интервалы для параметров $\\beta_0, \\beta_1, \\beta_2$ уровня доверия $1 - \\alpha$. Написать уравнение доверительного эллипсоида уровня доверия $1 - \\alpha$"
      ],
      "metadata": {
        "id": "fyWgQBcsTkeV"
      }
    },
    {
      "cell_type": "markdown",
      "source": [
        "Доверительный интервал для параметра $\\beta_0$:\n",
        "\n",
        "ДНО-функция: $\\psi = C^\\intercal \\beta = \\beta_0$\n",
        "\n",
        "Тогда $C = (1, 0, 0)^\\intercal$\n",
        "\n",
        "Тогда МНК оценка равна $\\hat{\\psi} = \\hat{\\beta}_0$\n",
        "\n",
        "Найдем доверительный интервал вида: $\\left[\\hat{\\psi} - x_\\alpha S \\sqrt{b_\\psi}; \\hat{\\psi} + x_\\alpha S \\sqrt{b_\\psi}\\right]$,\n",
        "\n",
        "где $x_\\alpha: S_{n-r}(x_\\alpha) = 1 - \\frac{\\alpha}{2}$, $b_\\psi = C^\\intercal(XX^\\intercal)^{-1}C$"
      ],
      "metadata": {
        "id": "u_iHnLCQUBjm"
      }
    },
    {
      "cell_type": "code",
      "source": [
        "r = np.linalg.matrix_rank(X_matrix)\n",
        "n = len(X)\n",
        "x_alpha = sps.t.ppf(1 - alpha/2, df = n - r)\n",
        "C = np.matrix([[1], [0], [0]])\n",
        "b_psi = float(C.T * np.linalg.inv(X_matrix * X_matrix.T) * C)\n",
        "print(\"x_alpha = \", x_alpha)\n",
        "print(\"left = \", beta_0 - x_alpha * np.sqrt(unbias_var) * np.sqrt(b_psi))\n",
        "print(\"right = \", beta_0 + x_alpha * np.sqrt(unbias_var) * np.sqrt(b_psi))"
      ],
      "metadata": {
        "colab": {
          "base_uri": "https://localhost:8080/"
        },
        "id": "QPCnVajMUni9",
        "outputId": "52fccf26-ae2b-4376-dbd4-e61350760494"
      },
      "execution_count": 487,
      "outputs": [
        {
          "output_type": "stream",
          "name": "stdout",
          "text": [
            "x_alpha =  1.67792672077558\n",
            "left =  5.311822217959829\n",
            "right =  12.981600402995173\n"
          ]
        }
      ]
    },
    {
      "cell_type": "markdown",
      "source": [
        "$\\left[5.312, 12.982\\right] \\ni \\beta_0$"
      ],
      "metadata": {
        "id": "8hTHQbTaVQ_3"
      }
    },
    {
      "cell_type": "markdown",
      "source": [
        "Доверительный интервал для параметра $\\beta_1$:\n",
        "\n",
        "ДНО-функция: $\\psi = C^\\intercal \\beta = \\beta_1$\n",
        "\n",
        "Тогда $C = (0, 1, 0)^\\intercal$\n",
        "\n",
        "Тогда МНК оценка равна $\\hat{\\psi} = \\hat{\\beta}_1$\n",
        "\n",
        "Найдем доверительный интервал вида: $\\left[\\hat{\\psi} - x_\\alpha S \\sqrt{b_\\psi}; \\hat{\\psi} + x_\\alpha S \\sqrt{b_\\psi}\\right]$,\n",
        "\n",
        "где $x_\\alpha: S_{n-r}(x_\\alpha) = 1 - \\frac{\\alpha}{2}$, $b_\\psi = C^\\intercal(XX^\\intercal)^{-1}C$"
      ],
      "metadata": {
        "id": "9IkShLe5VczU"
      }
    },
    {
      "cell_type": "code",
      "source": [
        "r = np.linalg.matrix_rank(X_matrix)\n",
        "n = len(X)\n",
        "x_alpha = sps.t.ppf(1 - alpha/2, df = n - r)\n",
        "C = np.matrix([[0], [1], [0]])\n",
        "b_psi = float(C.T * np.linalg.inv(X_matrix * X_matrix.T) * C)\n",
        "print(\"x_alpha = \", x_alpha)\n",
        "print(\"left = \", beta_1 - x_alpha * np.sqrt(unbias_var) * np.sqrt(b_psi))\n",
        "print(\"right = \", beta_1 + x_alpha * np.sqrt(unbias_var) * np.sqrt(b_psi))"
      ],
      "metadata": {
        "colab": {
          "base_uri": "https://localhost:8080/"
        },
        "id": "c4MPKpnVViEC",
        "outputId": "49d80b4c-408f-46cb-fbed-7348754d56c6"
      },
      "execution_count": 488,
      "outputs": [
        {
          "output_type": "stream",
          "name": "stdout",
          "text": [
            "x_alpha =  1.67792672077558\n",
            "left =  -3.4761664651309934\n",
            "right =  7.615880659299507\n"
          ]
        }
      ]
    },
    {
      "cell_type": "markdown",
      "source": [
        "$\\left[-3.476, 7.616\\right] \\ni \\beta_1$"
      ],
      "metadata": {
        "id": "Dur-wnSjV26s"
      }
    },
    {
      "cell_type": "markdown",
      "source": [
        "Доверительный интервал для параметра $\\beta_2$:\n",
        "\n",
        "ДНО-функция: $\\psi = C^\\intercal \\beta = \\beta_2$\n",
        "\n",
        "Тогда $C = (0, 0, 1)^\\intercal$\n",
        "\n",
        "Тогда МНК оценка равна $\\hat{\\psi} = \\hat{\\beta}_2$\n",
        "\n",
        "Найдем доверительный интервал вида: $\\left[\\hat{\\psi} - x_\\alpha S \\sqrt{b_\\psi}; \\hat{\\psi} + x_\\alpha S \\sqrt{b_\\psi}\\right]$,\n",
        "\n",
        "где $x_\\alpha: S_{n-r}(x_\\alpha) = 1 - \\frac{\\alpha}{2}$, $b_\\psi = C^\\intercal(XX^\\intercal)^{-1}C$"
      ],
      "metadata": {
        "id": "Si3YOUHaV_DS"
      }
    },
    {
      "cell_type": "code",
      "source": [
        "r = np.linalg.matrix_rank(X_matrix)\n",
        "n = len(X)\n",
        "x_alpha = sps.t.ppf(1 - alpha/2, df = n - r)\n",
        "C = np.matrix([[0], [0], [1]])\n",
        "b_psi = float(C.T * np.linalg.inv(X_matrix * X_matrix.T) * C)\n",
        "print(\"x_alpha = \", x_alpha)\n",
        "print(\"left = \", beta_2 - x_alpha * np.sqrt(unbias_var) * np.sqrt(b_psi))\n",
        "print(\"right = \", beta_2 + x_alpha * np.sqrt(unbias_var) * np.sqrt(b_psi))"
      ],
      "metadata": {
        "colab": {
          "base_uri": "https://localhost:8080/"
        },
        "id": "SKCKS6byWDEX",
        "outputId": "045070b7-9ffa-46dc-cac2-8717ce1cbc71"
      },
      "execution_count": 489,
      "outputs": [
        {
          "output_type": "stream",
          "name": "stdout",
          "text": [
            "x_alpha =  1.67792672077558\n",
            "left =  -1.980344186185805\n",
            "right =  1.4856066020781409\n"
          ]
        }
      ]
    },
    {
      "cell_type": "markdown",
      "source": [
        "$\\left[-1.981, 1.486\\right] \\ni \\beta_2$"
      ],
      "metadata": {
        "id": "CQIXGvaFWHhO"
      }
    },
    {
      "cell_type": "markdown",
      "source": [
        "Доверительный эллипсоид для параметра $(\\beta_0, \\beta_1, \\beta_2)$:\n",
        "\n",
        "ДНО-функция: $\\psi = C^\\intercal \\beta = (\\beta_0, \\beta_1, \\beta_2)^\\intercal$\n",
        "\n",
        "Тогда $C = \\begin{pmatrix}1 & 0 & 0\\\\0 & 1 &0 \\\\ 0&0&1 \\end{pmatrix}$\n",
        "\n",
        "Тогда МНК оценка равна $\\hat{\\psi} = (\\hat{\\beta}_0, \\hat{\\beta}_1,\\hat{\\beta}_2)^\\intercal$\n",
        "\n",
        "Найдем доверительный эллипсоид вида: $\\left\\{\\overrightarrow{x} : \\left(\\overrightarrow{x} - \\hat{\\psi}\\right)^\\intercal b_\\psi^{-1} \\left(\\overrightarrow{x} - \\hat{\\psi}\\right) \\le q S^2 x_\\alpha\\right\\}$,\n",
        "\n",
        "где $x_\\alpha: \\mathcal{F}_{q, n-r}(x_\\alpha) = 1 - \\alpha$, $b_\\psi = C^\\intercal(XX^\\intercal)^{-1}C$"
      ],
      "metadata": {
        "id": "RVmE4MBPWrld"
      }
    },
    {
      "cell_type": "code",
      "source": [
        "r = np.linalg.matrix_rank(X_matrix)\n",
        "n = len(X)\n",
        "q = len(Beta_matrix)\n",
        "x_alpha = sps.f.ppf(1 - alpha, dfn = q, dfd = n - r)\n",
        "C = np.matrix([[1, 0, 0], [0, 1, 0], [0, 0, 1]])\n",
        "b_psi = C.T * np.linalg.inv(X_matrix * X_matrix.T) * C\n",
        "print(\"Определитель матрицы b_psi = \", np.linalg.det(b_psi))\n",
        "print(\"x_alpha = \", x_alpha)\n",
        "\n",
        "x_symbol = sympy.Symbol('x', real=True)\n",
        "y_symbol = sympy.Symbol('y', real=True)\n",
        "z_symbol = sympy.Symbol('z', real=True)\n",
        "x_vec = np.matrix([[x_symbol], [y_symbol], [z_symbol]])\n",
        "expr = (x_vec - Beta_matrix).T * np.linalg.inv(b_psi) * (x_vec - Beta_matrix)\n",
        "print(f\"Неравенство имеет вид: {expr[0,0].as_poly().as_expr()} <= {q * unbias_var * x_alpha}\")\n",
        "expr = expr[0,0].as_poly().as_expr() - q * unbias_var * x_alpha\n",
        "print(f\"Перенесем все в левую часть: {expr} <= 0\")\n",
        "x_2_symbol = sympy.Symbol(\"x'\", real=True)\n",
        "y_2_symbol = sympy.Symbol(\"y'\", real=True)\n",
        "z_2_symbol = sympy.Symbol(\"z'\", real=True)\n",
        "ev, _ = np.linalg.eig(np.linalg.inv(b_psi))\n",
        "koef = ev / (x_alpha * q * unbias_var)\n",
        "expr = koef[0]*x_2_symbol**2+koef[1]*y_2_symbol**2+koef[2]*z_2_symbol**2\n",
        "print(f\"Итоговый вид неравенства: {expr} <= 1\")\n",
        "print(f\"Длины полуосей: {np.sqrt(1/koef[0])}, {np.sqrt(1/koef[1])} и {np.sqrt(1/koef[2])}\")"
      ],
      "metadata": {
        "colab": {
          "base_uri": "https://localhost:8080/"
        },
        "id": "q5uA-z3kX_M0",
        "outputId": "8623aecc-0cb0-4652-eb72-49c8106904a0"
      },
      "execution_count": 490,
      "outputs": [
        {
          "output_type": "stream",
          "name": "stdout",
          "text": [
            "Определитель матрицы b_psi =  8.010253123998798e-06\n",
            "x_alpha =  2.2041823911022664\n",
            "Неравенство имеет вид: 49.9999999999997*x**2 + 157.999999999999*x*y + 353.999999999997*x*z - 1154.14*x + 176.999999999999*y**2 + 877.999999999995*y*z - 1960.71999999999*y + 1160.99999999999*z**2 - 4480.87999999998*z + 6753.28286316568 <= 337.5104908235951\n",
            "Перенесем все в левую часть: 49.9999999999997*x**2 + 157.999999999999*x*y + 353.999999999997*x*z - 1154.14*x + 176.999999999999*y**2 + 877.999999999995*y*z - 1960.71999999999*y + 1160.99999999999*z**2 - 4480.87999999998*z + 6415.77237234208 <= 0\n",
            "Итоговый вид неравенства: 4.02073417348288*x'**2 + 0.0818658950080072*y'**2 + 0.00986469256879809*z'**2 <= 1\n",
            "Длины полуосей: 0.4987091304538458, 3.4950105651355114 и 10.068348103487947\n"
          ]
        }
      ]
    },
    {
      "cell_type": "markdown",
      "source": [
        "### 8. Сформулировать гипотезу линейной регрессионной зависимости переменной $Y$ от переменной $X$ и проверить её значимость на уровне $\\alpha$.\n"
      ],
      "metadata": {
        "id": "dJRGabAth9GU"
      }
    },
    {
      "cell_type": "code",
      "source": [
        "X_matrix_h = np.matrix([[1] * len(X), X])\n",
        "Beta_h_matrix = np.linalg.inv(X_matrix_h * X_matrix_h.T) * X_matrix_h * Y_matrix\n",
        "beta_0_h = float(Beta_h_matrix[0])\n",
        "beta_1_h = float(Beta_h_matrix[1])\n",
        "beta_2_h = 0\n",
        "Beta_h_matrix = np.matrix([[beta_0_h], [beta_1_h], [beta_2_h]])\n",
        "print(f\"Оценка вектора бета при выполнении основной гипотезы: ({beta_0_h}, {beta_1_h}, {beta_2_h})\")\n",
        "F_stat = (np.linalg.norm(Y_matrix - X_matrix.T * Beta_h_matrix)**2 - np.linalg.norm(Y_matrix - X_matrix.T * Beta_matrix)**2)/q/unbias_var\n",
        "print(f\"Статистика F = {F_stat}\")\n",
        "print(f\"x_alpha = {sps.f.ppf(1 - alpha, dfn = q, dfd = n - r)}\")"
      ],
      "metadata": {
        "colab": {
          "base_uri": "https://localhost:8080/"
        },
        "id": "92yWYmlSiVg_",
        "outputId": "762b4601-03eb-4f3a-8aa2-4ff291600934"
      },
      "execution_count": 491,
      "outputs": [
        {
          "output_type": "stream",
          "name": "stdout",
          "text": [
            "Оценка вектора бета при выполнении основной гипотезы: (9.46452663855883, 1.314476811038714, 0)\n",
            "Статистика F = 0.019121843065375194\n",
            "x_alpha = 2.2041823911022664\n"
          ]
        }
      ]
    },
    {
      "cell_type": "markdown",
      "source": [
        "$\\mathbb{F} \\approx 0.02$\n",
        "\n",
        "$x_{\\alpha} \\approx 2.20$\n",
        "\n",
        "$\\mathbb{F} < x_{\\alpha_2}$ следовательно гипотеза о линейной регрессионной зависимости принимается"
      ],
      "metadata": {
        "id": "nv3z2Sy3kDbs"
      }
    },
    {
      "cell_type": "markdown",
      "metadata": {
        "id": "AVCrYI4aKQy6"
      },
      "source": [
        "## Выводы\n",
        "В ходе выполнения практической работы были изучены основные положения метода наименьших квадратов (МНК), статистические свойства МНК-оценок, понятия функции регрессии и роль МНК в регрессионном анализе.\n",
        "\n",
        "Сформированы навыки посторения МНК оценок, доверительных эллипсов и эллипсоидов, проверки гипотез о независимости и линейной регрессионной зависимости.\n",
        "\n",
        "Были получены выводы о нормальности вектора ошибок и выводы о характере данных."
      ]
    }
  ],
  "metadata": {
    "kernelspec": {
      "display_name": "python",
      "language": "python",
      "name": "python3"
    },
    "language_info": {
      "codemirror_mode": {
        "name": "ipython",
        "version": 3
      },
      "file_extension": ".py",
      "mimetype": "text/x-python",
      "name": "python",
      "nbconvert_exporter": "python",
      "pygments_lexer": "ipython3",
      "version": "3.7.8"
    },
    "colab": {
      "provenance": [],
    }
  },
  "nbformat": 4,
  "nbformat_minor": 0
}