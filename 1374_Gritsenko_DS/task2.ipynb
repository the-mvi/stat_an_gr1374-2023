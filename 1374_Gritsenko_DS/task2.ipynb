{
  "nbformat": 4,
  "nbformat_minor": 0,
  "metadata": {
    "colab": {
      "provenance": [],
      "collapsed_sections": [
        "X34wl5mkVOT3",
        "qbJ_lQ2SoKSO",
        "t-rZrmgtnnLj",
        "sxtkVbfaVydR",
        "IY0Msvc1pN0n",
        "UbAs9R-VpjlE",
        "wQPtWISuwFXf",
        "bMDsUk9pwRRi",
        "FaDkv549-VAt",
        "6xo4s2LuCqhl",
        "sSYnxlevCzld",
        "_x8A18uy9log",
        "0FhaiQFb-nZj",
        "7q_Oi6t8_ZVb",
        "bkamKcO0_eHe",
        "JOENkP70zwYG",
        "fSqherIHz-TS",
        "zkX6hZvi0Kin",
        "9-_TmvRXcRGA",
        "7hb_9jS1up5s",
        "8lGaeptbuwAS",
        "IA5dsftt1DXS",
        "FIztOG19-RH6",
        "5hkqr_Tk_R0i",
        "DnGBl7OVFkpY",
        "3EBXx0Z6Frl7",
        "zfzHEHfCJCMR"
      ]
    },
    "kernelspec": {
      "name": "python3",
      "display_name": "Python 3"
    },
    "language_info": {
      "name": "python"
    }
  },
  "cells": [
    {
      "cell_type": "markdown",
      "source": [
        "# Практическая работа №2: Классические методы математической статистики\n",
        "Выполнил студент гр. 1374 Гриценко Данил. Вариант №5"
      ],
      "metadata": {
        "id": "IeCHLTZphQJp"
      }
    },
    {
      "cell_type": "markdown",
      "source": [
        "## Цель работы\n",
        "Научится применять методы математической статистики для решения задач статистического анализа; сформировать навыки реализации методов с помощью прикладных программных пакетов"
      ],
      "metadata": {
        "id": "NUEFpbiIxNuo"
      }
    },
    {
      "cell_type": "markdown",
      "source": [
        "## Основные теоретические положения"
      ],
      "metadata": {
        "id": "9meyzOCIyMUn"
      }
    },
    {
      "cell_type": "markdown",
      "source": [
        "### Выборочные числовые характеристики:\n",
        "\n",
        "Мат.ожидание $\\overline{X}=\\frac{1}{n}\\sum_{i=1}^{n}X_{i}$\n",
        "\n",
        "Дисперсия $S^{2}=\\frac{1}{n}\\sum_{i=1}^{n}\\left( X_{i}-\\overline{X} \\right)^{2}=\\overline{X^{2}}-\\overline{X}^{2}$\n",
        "\n",
        "Коэффициент асимметрии (скошености) $\\widehat{S_{kew}}X=\\frac{\\left(\\frac{1}{n}\\sum_{i=1}^{n}\\left( X_{i}-\\overline{X} \\right)^{3} \\right)}{S^{3}}$\n",
        "\n",
        "Коэффициент эксцесса (островершинности) $\\widehat{K_{urt}}X=\\frac{\\frac{1}{n}\\sum_{i=1}^{n}\\left( X_{i}-\\overline{X}^{4} \\right)}{S^{4}}-3$\n",
        "\n",
        "### Оценка максимального правдоподобия (ОМП):\n",
        "\n",
        "Если $X_{1},...,X_{n} - $выборка из распределения с плотностью распределения $P_{\\theta}, \\theta\\in \\Theta$, то\n",
        "\n",
        "Функция правдоподобия распадается в произведения $L(\\overrightarrow{X},\\theta)=\\prod_{i=1}^{n}P_{\\theta}(X_{i})$\n",
        "\n",
        "Логарифм функции правдоподобия представляется в виде суммы $LL(\\overrightarrow{X},\\theta)=\\ln L(\\overrightarrow{X},\\theta)=\\sum_{i=1}^{n}\\ln P_{\\theta}(X_{i})$\n",
        "\n",
        "В силу монотонности логарифма задача максимизации функции правдоподобия сводится к задаче максимизации ее логарифма по всем $\\theta\\in \\Theta  LL(\\overrightarrow{X}),\\theta=\\sum_{i=1}^{n}\\ln P_{\\theta}(X_{i})$\n",
        "\n",
        "Если \\theta - d-мерный параметр и $P_{\\theta}$ дифференцируема по $\\theta$, то для нахождения максимума надо найти решения системы уравнений: U$(\\overrightarrow{X},\\theta)=\\frac{\\partial }{\\partial \\theta}LL(\\overrightarrow{X},\\theta)=0, i=\\overline{1,d}$\n",
        "\n",
        "### Оценка метода моментов (ОММ)\n",
        "\n",
        "Пусть $X_{1},...,X_{n} - $ выбока из распределения $P_{\\theta}, \\theta=(\\theta_{1},...,\\theta_{d})$\n",
        "\n",
        "$\\exists \\mu_{k}(\\theta)=\\mathbb{E}X^{k}_{1}, k=\\overline{1,d}$\n",
        "\n",
        "Если $\\exists$ ! решение $\\widetilde{\\theta}(X)$ системы уравнений: $\\widehat{\\mu^{k}}(\\widetilde{\\theta})=\\mu_{k}(\\theta), k=\\overline{1,d}$, где $\\widetilde{\\theta}(X)=\\frac{1}{n}\\sum_{i=1}^{n}X^{k}_{i} - $ выборочный момент k-го порядка, то $\\widetilde{\\theta}(X)$ называется оценкой по методу моментов\n",
        "\n",
        "### НРМД-оценки (несмещенная оценка)\n",
        "\n",
        "Оценка $\\widehat{\\theta}(X)$ параметра $\\theta$ называется несмещенной, если при любом значении параметра $\\theta\\in \\Theta: \\mathbb{E}\\widehat{\\theta}(X)=\\theta$\n",
        "\n",
        "Смещением оценки называется величина: $bias_{\\widehat{\\theta}}(\\theta)=\\mathbb{E}_{\\theta}\\widehat{\\theta}(X)-\\theta$\n",
        "\n",
        "Алгоритм несмещенного оценивания:\n",
        "\n",
        "Найти оценку $\\widehat{\\theta}(T)$, являющуюся функцией от минимальной достаточной статистики T(e.g.ОМП)\n",
        "\n",
        "Доказать полноту МДС T\n",
        "\n",
        "Скорректировать смещение:$\\widetilde{\\theta}(T)=f(\\widehat{\\theta}(T),T): \\mathbb{E}_{\\theta}\\widetilde{\\theta}(T)=\\theta,\\forall \\theta\\in \\Theta$\n",
        "\n",
        "### Асимптотический доверительный интервал (АДИ)\n",
        "\n",
        "На базе Асимптотической нормальности оценки $\\widehat{\\theta}$\n",
        "\n",
        "Асимптотическая нормальность $\\sqrt{n}\\left( \\widehat{\\theta}(\\overrightarrow{X})-\\theta)\\right)\\sim \\mathcal{N}\\left(0,\\sigma^{2}(\\theta)\\right)$\n",
        "\n",
        "Тогда $\\sqrt{n}\\frac{\\widehat{\\theta}(\\overrightarrow{X})-\\theta}{\\sigma\\left(\\widehat{\\theta}(\\overrightarrow{X})\\right)}$    \n",
        "\n",
        "Выбираем $X_{\\alpha}: \\Phi(X_{\\alpha})=1-\\frac{\\alpha}{2}$\n",
        "\n",
        "А.Д.И. $\\left[ \\widehat{\\theta}(\\overrightarrow{X})-\\frac{X_{\\alpha}\\cdot \\sigma\\left( \\widehat{\\theta}(\\overrightarrow{X}) \\right)}{\\sqrt{n}}; \\widehat{\\theta}(\\overrightarrow{X})+\\frac{X_{\\alpha}\\cdot \\sigma\\left( \\widehat{\\theta}(\\overrightarrow{X}) \\right)}{\\sqrt{n}}\\right]$\n",
        "\n",
        "на базе ОМП\n",
        "\n",
        "Пусть $\\widehat{\\theta}(\\overrightarrow{X}) - $ ОМП\n",
        "\n",
        "При выполнении опр.условий регулярности: $\\sqrt{n}\\left( \\widehat{\\theta}(\\overrightarrow{X})-\\theta)\\right)\\sim \\mathcal{N}\\left(0,\\frac{1}{I(\\theta)}\\right), I(\\theta)=-\\mathbb{E}\\left( \\frac{\\partial^{2} LL}{\\partial \\theta^{2}} \\right) - $ информация Фишера\n",
        "\n",
        "Тогда $\\sqrt{n\\cdot I\\left( \\widehat{\\theta}(\\overrightarrow{X}) \\right)}\\cdot \\left( \\widehat{\\theta}(\\overrightarrow{X})-\\theta \\right)\\sim \\mathcal{N}(0,1)$\n",
        "\n",
        "Выбираем $X_{\\alpha}: \\Phi(X_{\\alpha})=1-\\frac{\\alpha}{2}$\n",
        "\n",
        "А.Д.И $\\left[ \\widehat{\\theta}(\\overrightarrow{X})-\\frac{X_{\\alpha}}{\\sqrt{n\\cdot I\\left( \\widehat{\\theta}(\\overrightarrow{X}) \\right)}};\\widehat{\\theta}(\\overrightarrow{X})+\\frac{X_{\\alpha}}{\\sqrt{n\\cdot I\\left( \\widehat{\\theta}(\\overrightarrow{X}) \\right)}} \\right]$\n",
        "\n",
        "### Критерий $\\chi^2$ для проверки гипотез\n",
        "\n",
        "основан на справнении теоритической плотности распределения и гистограммы, либо теоритической вероятностной меры и полигона частот.\n",
        "\n",
        "Разобъем множество значений сл. вел. X на $N$ интервалов $I_{1}, ..., I_{N}:$ $I_{i} = (a_{i-1}, a_i], i = \\overline {1,N}$. данные интервалы не пересекаются и покрывают всё множество возможных значений сл. вел. X.\n",
        "\n",
        "Обозначим через $p_{i}$ теоритическую вероятность попадания сл. вел. X в интервал $I_{i}$, при условии, что справедлива $H_{0}$.\n",
        "\n",
        "$p_{i} = P(X \\in I_{i}|H_{0})$\n",
        "\n",
        "Через $n_{i}$ обозначим число наблюдений нашей выборки, попавших в соответветствующий интервал $I_{i}$.\n",
        "\n",
        "$n_{i} = num(x_{j} \\in I_{i})$\n",
        "\n",
        "Статистика критерия основана на сравнении относительной частоты и теоритической.\n",
        "\n",
        "$\\chi^{2}_{набл} = \\sum \\limits_{i=1}^{N} \\frac{n}{p_{i}} \\bigg ( \\frac{n_{i}}{n} - p_{i} \\bigg )^{2} = \\sum \\limits_{i=1}^{N} \\frac{(n_{i} - p_{i} n)^{2}}{n p_{i}} \\sim \\chi^{2}_{N-1}$\n",
        "\n",
        "Если $\\mathcal{X}^{2}_{N-1,1-\\alpha_{1}} \\lt \\chi^2_{набл}$, то гипотезу отвергаем\n",
        "\n",
        "Если $\\mathcal{X}^{2}_{N-1,1-\\alpha_{1}} \\gt \\chi^2_{набл}$, то гипотезу принимаем\n",
        "\n",
        "### Теорема Колмогорова\n",
        "\n",
        "$D_{n}(\\overrightarrow{X}) = \\overset{}{\\underset{X \\in \\mathbb R}{sup}} |F_{0}(X_{i}) - F_{n}(X_{i})|$\n",
        "\n",
        "Если гипотеза $H_{0}$ верна, и $F_{0}(X)$ - непрерывная функция на $\\mathbb R$, тогда имеет место сходимость\n",
        "\n",
        "$P(\\sqrt{n} D_{n}(\\overrightarrow{X}) < z) \\xrightarrow[n \\rightarrow \\infty]{} K(z)$, где\n",
        "\n",
        "$K(z)=1-\\alpha - $ функция распределения Колмогорова.\n",
        "\n",
        "Если $D_{n} \\lt z$, то гипотезу принимаем\n",
        "\n",
        "Если $D_{n} \\gt z$, то гипотезу отвергаем\n",
        "\n",
        "### Наиболее мощный критерий простой гипотезы\n",
        "\n",
        "Для основной гипотезы $H_{0}: \\theta=\\theta_{0}$ и альтернативной гипотезы $H_{1}: \\theta=\\theta_{1}$, где $\\theta_{0}$ и $\\theta_{1} - $ фиксированные параметры, мы можем построить статистику правдоподобия:\n",
        "\n",
        "$LR(\\overrightarrow{X},\\theta_{1},\\theta_{0})=\\frac{L(\\overrightarrow{X},\\theta_{1})}{L(\\overrightarrow{X},\\theta_{0})}=\\frac{P_{\\theta_{1}}(X)}{P_{\\theta_{0}}(X)}$ - статистика отношений правдоподобия\n",
        "\n",
        "где $L(\\overrightarrow{X},\\theta_{1})$ - функция правдоподобия для альтернативной гипотезы, а $L(\\overrightarrow{X}\\theta_{0})$ - функция правдоподобия для основной гипотезы.\n",
        "\n",
        "Наиболее мощным критерием будет критическая область, в которой наблюдаемое значение статистики правдоподобия $LR(\\overrightarrow{X},\\theta_{1},\\theta_{0})$ будет отклоняться от значения 1 в сторону более высоких значений.\n",
        "\n",
        "Чтобы построить критическую область, мы должны задать уровень значимости $\\alpha$ - вероятность ошибки первого рода. Затем мы находим критическое значение $c$ такое, что $P\\left(LR(\\overrightarrow{X},\\theta_{1},\\theta_{0}) > c | H_{0} \\right) = \\alpha$, где $P\\left(LR(\\overrightarrow{X},\\theta_{1},\\theta_{0}) > c | H_{0}\\right)$ - вероятность получить наблюдаемое значение статистики правдоподобия, большее или равное $c$, при условии, что основная гипотеза верна.\n",
        "\n",
        "$LR(\\overrightarrow{X},\\theta_{1},\\theta_{0})\\gt c$, то принимаем основную гипотезу\n",
        "\n",
        "$LR(\\overrightarrow{X},\\theta_{1},\\theta_{0})\\lt c$, то отвергаем основную гипотезу"
      ],
      "metadata": {
        "id": "TP5Eo5fQAmzp"
      }
    },
    {
      "cell_type": "markdown",
      "source": [
        "## Постановка задачи\n",
        "Для полученных в результате эксперимента наборов данных выполнить статистическую обработку. Полученные результаты содержательно проинтерпретировать"
      ],
      "metadata": {
        "id": "zdYXn0rCyIN9"
      }
    },
    {
      "cell_type": "markdown",
      "source": [
        "## Выполнение работы"
      ],
      "metadata": {
        "id": "5dqbDqrFVApV"
      }
    },
    {
      "cell_type": "markdown",
      "source": [
        "### Задание №1"
      ],
      "metadata": {
        "id": "xoJMYIFpVBtm"
      }
    },
    {
      "cell_type": "code",
      "source": [
        "import numpy as np\n",
        "import matplotlib.pyplot as plt\n",
        "from scipy import stats\n",
        "data_1 = [0, 0, 0, 0, 0, 0, 2, 0, 0, 0, 1, 0, 0, 0, 2, 1, 0, 0, 0, 2, 1, 0, 1, 0, 1, 0, 0, 0, 0, 0, 0, 0, 0, 0, 0, 0, 0, 0, 1, 0, 0, 1, 3, 3, 0, 1, 0, 3, 1, 1]\n",
        "alpha1 = 0.10\n",
        "a = 0.00\n",
        "b = 0.67\n",
        "l0 = 0.50\n",
        "l1 = 2.00"
      ],
      "metadata": {
        "id": "GWKr0ohwWKtc"
      },
      "execution_count": 1,
      "outputs": []
    },
    {
      "cell_type": "markdown",
      "source": [
        "#### a) Построить вариационный ряд, эмпирическую функцию распределения и гистограмму частот"
      ],
      "metadata": {
        "id": "X34wl5mkVOT3"
      }
    },
    {
      "cell_type": "markdown",
      "source": [
        "##### Вариационный ряд"
      ],
      "metadata": {
        "id": "qbJ_lQ2SoKSO"
      }
    },
    {
      "cell_type": "code",
      "source": [
        "sorted_data_1 = np.sort(data_1)\n",
        "n = len(data_1)\n",
        "variation_range_1 = np.unique(sorted_data_1)\n",
        "print(sorted_data_1)"
      ],
      "metadata": {
        "colab": {
          "base_uri": "https://localhost:8080/"
        },
        "id": "QXki6-xwXH-6",
        "outputId": "56a844ae-0b0a-41d5-aeab-cc982708782a"
      },
      "execution_count": 2,
      "outputs": [
        {
          "output_type": "stream",
          "name": "stdout",
          "text": [
            "[0 0 0 0 0 0 0 0 0 0 0 0 0 0 0 0 0 0 0 0 0 0 0 0 0 0 0 0 0 0 0 0 0 0 1 1 1\n",
            " 1 1 1 1 1 1 1 2 2 2 3 3 3]\n"
          ]
        }
      ]
    },
    {
      "cell_type": "markdown",
      "source": [
        "##### Эмпирическая функция"
      ],
      "metadata": {
        "id": "t-rZrmgtnnLj"
      }
    },
    {
      "cell_type": "code",
      "source": [
        "empirical_function_1 = np.cumsum(np.bincount(sorted_data_1)) / n\n",
        "\n",
        "plt.step(variation_range_1, empirical_function_1)\n",
        "plt.xlabel('Значения')\n",
        "plt.ylabel('Вероятность')\n",
        "plt.show()"
      ],
      "metadata": {
        "colab": {
          "base_uri": "https://localhost:8080/",
          "height": 449
        },
        "id": "HH9iatLiitXE",
        "outputId": "2c14c965-b175-4e0c-b6d7-4c5195a13442"
      },
      "execution_count": 3,
      "outputs": [
        {
          "output_type": "display_data",
          "data": {
            "text/plain": [
              "<Figure size 640x480 with 1 Axes>"
            ],
            "image/png": "[encoded data removed]"
          },
          "metadata": {}
        }
      ]
    },
    {
      "cell_type": "markdown",
      "source": [
        "##### Гистограмма частот"
      ],
      "metadata": {
        "id": "sxtkVbfaVydR"
      }
    },
    {
      "cell_type": "code",
      "source": [
        "plt.hist(sorted_data_1, bins=range(min(sorted_data_1), max(sorted_data_1) + 1), density=True, edgecolor='black')\n",
        "plt.xlabel('Значение')\n",
        "plt.ylabel('Относительная частота')\n",
        "plt.show()"
      ],
      "metadata": {
        "colab": {
          "base_uri": "https://localhost:8080/",
          "height": 449
        },
        "id": "5XuO9fEAo0BD",
        "outputId": "c430d200-6d12-4cc3-9af1-5ec4c6ed787c"
      },
      "execution_count": 4,
      "outputs": [
        {
          "output_type": "display_data",
          "data": {
            "text/plain": [
              "<Figure size 640x480 with 1 Axes>"
            ],
            "image/png": "[encoded data removed]"
          },
          "metadata": {}
        }
      ]
    },
    {
      "cell_type": "markdown",
      "source": [
        "#### b) Вычислить выборочные аналоги следующих числовых характеристик: (i) математическое ожидание; (ii) дисперсия; (iii) медианы; (iv) асимметрии; (v) эксцесса; (vi) вероятности $\\mathrm{P}(X\\in \\left[a, b \\right])$"
      ],
      "metadata": {
        "id": "IY0Msvc1pN0n"
      }
    },
    {
      "cell_type": "code",
      "source": [
        "mean = np.mean(data_1)\n",
        "print(\"Мат.ожидание =\", mean)\n",
        "\n",
        "variance = np.var(data_1)\n",
        "print(\"Дисперсия =\", variance)\n",
        "\n",
        "deviation = np.std(data_1)\n",
        "print(\"Выборочное стандартное отклонение =\", deviation)\n",
        "\n",
        "median = np.median(data_1)\n",
        "print(\"Медиана =\", median)\n",
        "\n",
        "skewness = stats.skew(data_1)\n",
        "print(\"Асимметрия =\", skewness)\n",
        "\n",
        "kurtosis = stats.kurtosis(data_1)\n",
        "print(\"Эксцесс =\", kurtosis)\n",
        "\n",
        "probability = len([x for x in data_1 if a <= x <= b]) / len(data_1)\n",
        "print(\"Вероятность попадания в промежуток =\", probability)"
      ],
      "metadata": {
        "colab": {
          "base_uri": "https://localhost:8080/"
        },
        "id": "O6zIf22mqE8Q",
        "outputId": "c158e21a-0c52-4555-ef7c-bdc1edc3b362"
      },
      "execution_count": null,
      "outputs": [
        {
          "output_type": "stream",
          "name": "stdout",
          "text": [
            "Мат.ожидание = 0.5\n",
            "Дисперсия = 0.73\n",
            "Выборочное стандартное отклонение = 0.8544003745317531\n",
            "Медиана = 0.0\n",
            "Асимметрия = 1.731567657148233\n",
            "Эксцесс = 2.0713079376993813\n",
            "Вероятность попадания в промежуток = 0.68\n"
          ]
        }
      ]
    },
    {
      "cell_type": "markdown",
      "source": [
        "#### c) В предположении, что исходные наблюдения являются выборкой из распределения Пуассона, построить оценку максимального правдоподобия параметра $\\lambda$, а также оценку $\\lambda$ по методу моментов. Найти смещение оценок"
      ],
      "metadata": {
        "id": "UbAs9R-VpjlE"
      }
    },
    {
      "cell_type": "markdown",
      "source": [
        "##### Построение ОМП"
      ],
      "metadata": {
        "id": "wQPtWISuwFXf"
      }
    },
    {
      "cell_type": "markdown",
      "source": [
        "Плотность распределения Пуассона: $P_{\\lambda}(X=k)=\\frac{\\lambda^{k}}{k!}\\cdot exp(-\\lambda)$\n",
        "\n",
        "Построение функции правдоподобия:\n",
        "\n",
        "$L(\\overrightarrow{X};\\theta)=\\prod_{i=1}^{n}P_{\\lambda}(X_{i})=\\prod_{i=1}^{n}\\frac{\\lambda^{X_{i}}}{X_{i}!}\\cdot exp(-\\lambda)=\\frac{\\lambda^{\\sum_{i=1}^{n}X_{i}}}{\\prod_{i=1}^{n}(X_{i}!)}\\cdot exp(-n\\cdot \\lambda)$\n",
        "\n",
        "Логарифмирование функции правдоподобия:\n",
        "\n",
        "$LL(\\overrightarrow{X};\\theta)= \\sum_{i=1}^{n}X_{i}\\cdot \\ln(\\lambda)-\\ln(\\prod_{i=1}^{n}X_{i}!)-n\\cdot \\lambda$\n",
        "\n",
        "Нахождение частной производной по параметру $\\lambda$:\n",
        "\n",
        "$\\frac{\\partial LL(\\overrightarrow{X};\\theta)}{\\partial \\lambda} = \\frac{\\sum_{i=1}^{n}X_{i}}{\\lambda}-n$\n",
        "\n",
        "Для нахождения параметра приравняем производную к нулю:\n",
        "\n",
        "$\\frac{\\sum_{i=1}^{n}X_{i}}{\\lambda}-n=0\\to \\frac{\\sum_{i=1}^{n}X_{i}}{\\lambda}=n\\to \\lambda=\\frac{1}{n}\\cdot \\sum_{i=1}^{n}X_{i}$\n",
        "\n",
        "$\\widehat{\\theta}=\\widehat{\\lambda}=\\overline{X}$\n",
        "\n",
        "Используя выборку, найдем значение параметра:\n",
        "$\\widehat{\\theta}=0.5$"
      ],
      "metadata": {
        "id": "FWyQIewvy6rH"
      }
    },
    {
      "cell_type": "markdown",
      "source": [
        "##### Построение ОММ"
      ],
      "metadata": {
        "id": "bMDsUk9pwRRi"
      }
    },
    {
      "cell_type": "markdown",
      "source": [
        "Для закона Пуассона $P_{\\lambda}(X=k)=\\frac{\\lambda^{k}}{k!}\\cdot exp(-\\lambda)$\n",
        "\n",
        "Известно, что первый момент равен параметру $\\mathbb{E}X_{1}=\\lambda;M_{1}=\\overline{X}$, так как параметр одномерный, система будет состоять из одного уравнения. В таком случае получаем: $\\widetilde{\\theta}=\\widetilde{\\lambda}=\\overline{X}=0.5$\n",
        "\n",
        "Для нахождения НРМД-оценки используем ОМП:\n",
        "\n",
        "$g\\left(T(\\overrightarrow{X})\\right)=\\lambda^{\\sum_{i=1}^{n}X_{i}}\\cdot exp(-n\\cdot \\lambda)$\n",
        "\n",
        "$h(\\overrightarrow{X})=\\frac{1}{\\prod_{i=1}^{n}X_{i}!}$\n",
        "\n",
        "Достаточная минимальная статистика: $T=\\sum_{i=1}^{n}X_{i}=25$.\n",
        "\n",
        "МДС будет являться ПДС, так как распределение Пуассона принадлежит экспоненциальному семейству распределений\n",
        "\n",
        "$\\mathbb{E}_{\\lambda}\\overline{X}=\\mathbb{E}_{\\lambda}\\frac{1}{n}\\cdot \\sum_{i=1}^{n}x_{i}=\\frac{1}{n}\\cdot \\mathbb{E_{\\lambda}}\\sum_{i=1}^{n}x_{i}=\\frac{1}{n}\\cdot \\sum_{i=1}^{n}\\mathbb{E_{\\lambda}}X_{1}=\\frac{1}{n}\\cdot n\\cdot \\mathbb{E}_{\\lambda}X_{1}=\\lambda$ - несмещенная оценка\n",
        "\n",
        "НРМД-оценка: $\\lambda=\\overline{X}=0.5$"
      ],
      "metadata": {
        "id": "4jTzSdinwLho"
      }
    },
    {
      "cell_type": "markdown",
      "source": [
        "#### d) Построить асимптотический доверительный интервал уровня значимости $\\alpha_1$ для параметра $\\lambda$ на базе оценки максимального правдоподобия"
      ],
      "metadata": {
        "id": "FaDkv549-VAt"
      }
    },
    {
      "cell_type": "markdown",
      "source": [
        "##### Построение на базе ОМП"
      ],
      "metadata": {
        "id": "6xo4s2LuCqhl"
      }
    },
    {
      "cell_type": "markdown",
      "source": [
        "ОМП: $\\widehat{\\theta}=\\widehat{\\lambda}=\\overline{X}$\n",
        "\n",
        "$\\sqrt{n}\\left( \\widehat{\\theta}(\\overrightarrow{X})-\\theta \\right)\\sim N\\left( 0, \\frac{1}{I(\\theta)} \\right)$\n",
        "\n",
        "Информация Фишера: $I(\\theta)=-\\mathbb{E}\\left( \\frac{\\partial^{2} LL}{\\partial \\lambda^{2}} \\right)=-\\mathbb{E}\\left( -\\frac{\\sum_{i=1}^{n}X_{i}}{\\lambda^{2}} \\right)=\\frac{n}{\\lambda^{2}}$\n",
        "\n",
        "Тогда $\\sqrt{n\\cdot I\\left(  \\widehat{\\theta}(\\overrightarrow{X})\\right)}\\left( \\widehat{\\theta}(\\overrightarrow{X})-\\theta \\right)\\sim N(0,1)$\n",
        "\n",
        "$X_{\\alpha}$: $\\mathrm{Ф}(X_{\\alpha})=1-\\frac{\\alpha_{1}}{2}=1-\\frac{0.1}{2}=0.95 \\to X_{0.95}=1.64$\n",
        "\n",
        "Асимптотический доверительный интервал:\n",
        "\n",
        "$\\left[ \\overline{X}-\\frac{X_{0.95}}{\\sqrt{50\\cdot \\frac{50}{\\overline{X}^2}}}; \\overline{X}+\\frac{X_{0.95}}{\\sqrt{50\\cdot \\frac{50}{\\overline{X}^2}}}\\right]$\n",
        "\n",
        "$0.5-\\frac{1.64}{100}\\le \\lambda\\le 0.5+\\frac{1.64}{100}$\n",
        "\n",
        "$0.484\\le \\lambda\\le 0.516$"
      ],
      "metadata": {
        "id": "pTl1dCFXDCYl"
      }
    },
    {
      "cell_type": "markdown",
      "source": [
        "##### Построение на базе асимптотической нормальной оценки $\\widehat{\\theta}$"
      ],
      "metadata": {
        "id": "sSYnxlevCzld"
      }
    },
    {
      "cell_type": "markdown",
      "source": [
        "$\\sqrt{n}\\left( \\widehat{\\theta}(\\overrightarrow{X})-\\theta \\right)\\sim N(0,\\sigma^{2}(\\theta))$\n",
        "\n",
        "$\\sqrt{n}\\frac{ \\widehat{\\theta}(\\overrightarrow{X})-\\theta}{\\sigma(\\widehat{\\theta})}\\sim N(0,1)$\n",
        "\n",
        "$X_{\\alpha}$: $\\mathrm{Ф}(X_{\\alpha})=1-\\frac{\\alpha_{1}}{2}=1-\\frac{0.1}{2}=0.95 \\to X_{0.95}=1.64$\n",
        "\n",
        "Асимптотический доверительный интервал:\n",
        "\n",
        "$-X_{0.95}\\le \\sqrt{n}\\cdot \\frac{\\widehat{\\lambda}-\\lambda}{\\sqrt{\\widehat{\\lambda}}}\\le X_{0.95}$\n",
        "\n",
        "$\\widehat{\\lambda}-\\frac{X_{0.95}\\cdot\\sqrt{\\widehat{\\lambda}}}{\\sqrt{n}}\\le \\lambda\\le\\widehat{\\lambda}+\\frac{X_{0.95}\\cdot\\sqrt{\\widehat{\\lambda}}}{\\sqrt{n}}$\n",
        "\n",
        "$0.5-\\frac{1.64\\cdot\\sqrt{0.5}}{\\sqrt{50}}\\le \\lambda\\le 0.5+\\frac{1.64\\cdot\\sqrt{0.5}}{\\sqrt{50}}$\n",
        "\n",
        "$0.336\\le \\lambda\\le 0.664$"
      ],
      "metadata": {
        "id": "KL-oBo3LC-AK"
      }
    },
    {
      "cell_type": "markdown",
      "source": [
        "#### e) Используя гистограмму частот, построить критерий значимости $\\mathcal{X^{2}}$ проверки простой гипотезы согласия с распределением Пуассона с параметром $\\lambda_{0}$. Проверить гипотезу на уровне значимости $\\alpha_{1}$. Вычислить наибольшее значение уровня значимости, на котором ещё нет оснований отвергнуть данную гипотезу"
      ],
      "metadata": {
        "id": "iSCeB5aX8N0N"
      }
    },
    {
      "cell_type": "markdown",
      "source": [
        "$\\alpha_{1} = 0.1; \\lambda_{0} = 0.5; n = 50$"
      ],
      "metadata": {
        "id": "u78p4caeI_5Y"
      }
    },
    {
      "cell_type": "code",
      "source": [
        "print(\"n₀ =\", len([x for x in data_1 if x == 0]))\n",
        "print(\"n₁ =\", len([x for x in data_1 if x == 1]))\n",
        "print(\"n₂ =\", len([x for x in data_1 if x == 2]))\n",
        "print(\"n₃ =\", len([x for x in data_1 if x == 3]))"
      ],
      "metadata": {
        "colab": {
          "base_uri": "https://localhost:8080/"
        },
        "id": "E4Vj_mRwyBpJ",
        "outputId": "5c34595f-9f8b-4c0a-d7bf-2fe095ec6672"
      },
      "execution_count": null,
      "outputs": [
        {
          "output_type": "stream",
          "name": "stdout",
          "text": [
            "n₀ = 34\n",
            "n₁ = 10\n",
            "n₂ = 3\n",
            "n₃ = 3\n"
          ]
        }
      ]
    },
    {
      "cell_type": "markdown",
      "source": [
        "$P_{i}=P_{H_{0}}=(X\\in \\Delta_{i})=\\sum_{k\\in \\Delta_{i}}\\frac{\\lambda_{0}^{k}}{k!}exp(-\\lambda_{0}) = exp(-\\lambda_{0}) \\sum_{k\\in I_{i}} \\frac{\\lambda_{0}^{k}}{k!} $\n",
        "\n",
        "$I_{1}=\\left[ 0\\right], n_{1}=34$\n",
        "\n",
        "$P_{1}=\\frac{0.5^{0}}{0!}exp(-0.5)=0.6\\to nP_{1}=30$\n",
        "\n",
        "$I_{2}=\\left[ 1 \\right], n_{2}=10$\n",
        "\n",
        "$P_{2}=\\frac{0.5^{1}}{1!}exp(-0.5)=0.3\\to nP_{2}=15$\n",
        "\n",
        "$I_{3}=\\left[ 2 \\right], n_{3}=3$\n",
        "\n",
        "$P_{3}=\\frac{0.5^{2}}{2!}exp(-0.5)=0.076\\to nP_{3}=3.8$\n",
        "\n",
        "$I_{4}=\\left[ 3\\right], n_{4}=3$\n",
        "\n",
        "$P_{4}=\\frac{0.5^{3}}{3!}exp(-0.5)=0.013\\to nP_{4}=0.65$\n",
        "\n",
        "Критерий $\\mathcal{X}^{2}: \\mathcal{X}^{2}_{набл}=\\sum_{i=1}^{4}\\frac{(n_{i}-np_{i})^{2}}{np_{i}} = \\frac{(34-30)^{2}}{30}+\\frac{(10-15)^{2}}{15}+\\frac{(3-3.8)^{2}}{3.8}+\\frac{(3-0.65)^{2}}{0.65} = 10.86$\n",
        "\n",
        "Вычисление значения $\\mathcal{X}^{2}_{N-1,1-\\alpha_{1}}=\\mathcal{X}^{2}_{3, 0.9}$"
      ],
      "metadata": {
        "id": "QHSdZ0dVYmxX"
      }
    },
    {
      "cell_type": "code",
      "source": [
        "stats.chi2.ppf(0.9, 3)"
      ],
      "metadata": {
        "colab": {
          "base_uri": "https://localhost:8080/"
        },
        "id": "xK6v5b3Lg6eZ",
        "outputId": "bf204eb8-b02f-4a7b-f162-3c2e57f1908f"
      },
      "execution_count": null,
      "outputs": [
        {
          "output_type": "execute_result",
          "data": {
            "text/plain": [
              "6.251388631170325"
            ]
          },
          "metadata": {},
          "execution_count": 11
        }
      ]
    },
    {
      "cell_type": "markdown",
      "source": [
        "$\\mathcal{X}^{2}_{N-1,1-\\alpha_{1}}=\\mathcal{X}^{2}_{3,0.9}\\simeq 6.251$\n",
        "\n",
        "$\\mathcal{X}^{2}\\gt \\mathcal{X}^{2}_{3,0.9}\\to$ по критерию Пирсона отвергаем гипотезу"
      ],
      "metadata": {
        "id": "RIcyGdkzgv2F"
      }
    },
    {
      "cell_type": "code",
      "source": [
        "1 - stats.chi2.cdf(10.86, 3)"
      ],
      "metadata": {
        "colab": {
          "base_uri": "https://localhost:8080/"
        },
        "id": "andAJ8f7gVnX",
        "outputId": "e7c15901-2377-42fa-9a58-14a66ad2b914"
      },
      "execution_count": null,
      "outputs": [
        {
          "output_type": "execute_result",
          "data": {
            "text/plain": [
              "0.012507504350430687"
            ]
          },
          "metadata": {},
          "execution_count": 26
        }
      ]
    },
    {
      "cell_type": "markdown",
      "source": [
        "Наибольшее значение уровня значимости, при котором нет еще оснований отвергнуть данную гипотезу $\\simeq$ 0.0125"
      ],
      "metadata": {
        "id": "A117275lg-_0"
      }
    },
    {
      "cell_type": "markdown",
      "source": [
        "#### f) Построить критерий значимости  $\\mathcal{X^{2}}$ проверки сложной гипотезы согласия с распределением Пуассона. Проверить гипотезу на уровне значимости $\\alpha_{1}$. Вычислить наибольшее значение уровня значимости, на котором ещё нет оснований отвергнуть данную гипотезу"
      ],
      "metadata": {
        "id": "a4baZf3N8Nm8"
      }
    },
    {
      "cell_type": "markdown",
      "source": [
        "$\\alpha = 0.1; \\lambda=\\bar{X}=0.5$\n",
        "\n",
        "$P_{i}=P_{H_{0}}=(X\\in I_{i})= \\sum_{k\\in \\Delta_{i}}\\frac{\\lambda^{k}}{k!}exp(-\\lambda) =\\sum_{k\\in I_{i}}^{}\\frac{\\overline{X}^{k}}{k!}exp(-\\overline{X})$\n",
        "\n",
        "$I_{1}=\\left[ 0\\right], n_{1}=34$\n",
        "\n",
        "$P_{1}=\\frac{0.5^{0}}{0!}exp(-0.5)=0.6\\to nP_{1}=30$\n",
        "\n",
        "$I_{2}=\\left[ 1 \\right], n_{2}=10$\n",
        "\n",
        "$P_{2}=\\frac{0.5^{1}}{1!}exp(-0.5)=0.3\\to nP_{2}=15$\n",
        "\n",
        "$I_{3}=\\left[ 2 \\right], n_{3}=3$\n",
        "\n",
        "$P_{3}=\\frac{0.5^{2}}{2!}exp(-0.5)=0.076\\to nP_{3}=3.8$\n",
        "\n",
        "$I_{4}=\\left[ 3\\right], n_{4}=3$\n",
        "\n",
        "$P_{4}=\\frac{0.5^{3}}{3!}exp(-0.5)=0.013\\to nP_{4}=0.65$\n",
        "\n",
        "Критерий $\\mathcal{X}^{2}: \\mathcal{X}^{2}_{набл}=\\sum_{i=1}^{4}\\frac{(n_{i}-np_{i})^{2}}{np_{i}} = \\frac{(34-30)^{2}}{30}+\\frac{(10-15)^{2}}{15}+\\frac{(3-3.8)^{2}}{3.8}+\\frac{(3-0.65)^{2}}{0.65} = 10.86$\n",
        "\n",
        "Вычисление значения $\\mathcal{X}^{2}_{N-1,1-\\alpha_{1}}=\\mathcal{X}^{2}_{3, 0.9}$"
      ],
      "metadata": {
        "id": "266ulmGft9aD"
      }
    },
    {
      "cell_type": "code",
      "source": [
        "stats.chi2.ppf(0.9, 3)"
      ],
      "metadata": {
        "colab": {
          "base_uri": "https://localhost:8080/"
        },
        "id": "fahLnkI9C26K",
        "outputId": "eeeb57b4-3319-4707-f33b-48cfe23c3054"
      },
      "execution_count": null,
      "outputs": [
        {
          "output_type": "execute_result",
          "data": {
            "text/plain": [
              "6.251388631170325"
            ]
          },
          "metadata": {},
          "execution_count": 4
        }
      ]
    },
    {
      "cell_type": "markdown",
      "source": [
        "$\\mathcal{X}^{2}_{N-1,1-\\alpha_{1}}=\\mathcal{X}^{2}_{3,0.9}\\simeq 6.251$\n",
        "\n",
        "$\\mathcal{X}^{2}\\gt \\mathcal{X}^{2}_{3,0.9}\\to$ по критерию Пирсона отвергаем гипотезу"
      ],
      "metadata": {
        "id": "nhCdNPNIDDS-"
      }
    },
    {
      "cell_type": "code",
      "source": [
        "1 - stats.chi2.cdf(10.86, 3)"
      ],
      "metadata": {
        "colab": {
          "base_uri": "https://localhost:8080/"
        },
        "id": "lKuthb66DoF2",
        "outputId": "5cd66cee-fc6f-4a7f-8130-1e8a0b5d3497"
      },
      "execution_count": null,
      "outputs": [
        {
          "output_type": "execute_result",
          "data": {
            "text/plain": [
              "0.012507504350430687"
            ]
          },
          "metadata": {},
          "execution_count": 27
        }
      ]
    },
    {
      "cell_type": "markdown",
      "source": [
        "Наибольшее значение уровня значимости, при котором нет еще оснований отвергнуть данную гипотезу $\\simeq$ 0.0125"
      ],
      "metadata": {
        "id": "ABsj1C00DqvU"
      }
    },
    {
      "cell_type": "markdown",
      "source": [
        "#### g) Построить наиболее мощный критерий проверки простой гипотезы пауссоновости с параметром $\\lambda=\\lambda_{0}$ при альтернативе пуассоновсти с параметром $\\lambda=\\lambda_{1}$. Проверить гипотезу на уровне значимости $\\alpha_{1}$. Что получится, если поменять местами основную и альтернативную гипотезы?"
      ],
      "metadata": {
        "id": "LzklYZhr8NRF"
      }
    },
    {
      "cell_type": "markdown",
      "source": [
        "$\\alpha_1 = 0.1; \\lambda_0 = 0.5; \\lambda_1 = 2$\n",
        "\n",
        "$ H_ {0} :  \\lambda  =  \\lambda _ {0} $\n",
        "\n",
        " $ H_ {1} :  \\lambda  =  \\lambda _ {1} $\n",
        "\n",
        "Cтатистическое отношение правдоподобия:\n",
        "\n",
        "$LR(\\overrightarrow{X},\\lambda_{1},\\lambda_{0}) = \\left(\\frac{\\lambda_{1}}{\\lambda_{0}}\\right)^{\\sum_{i=1}^{50}X_{i}} \\cdot exp^{-n\\cdot \\lambda_{1} + n\\cdot \\lambda_{0} }$\n",
        "\n",
        "$LR(\\overrightarrow{X},\\lambda_{0},\\lambda_{1})\\gt c\\Leftrightarrow \\overline{X}\\gt c$\n",
        "\n",
        "$\\sqrt{n}\\frac{\\overline{X}-\\lambda_{0}}{\\sqrt{\\overline{X}}}\\sim N(0,1)$\n",
        "\n",
        "$P\\left(\\sqrt{n}\\frac{\\overline{X}-\\lambda_{0}}{\\sqrt{\\overline{X}}} \\right)\\gt \\sqrt{n}\\frac{\\overline{X}-\\lambda_{0}}{\\sqrt{\\overline{X}}}=1-\\Phi\\left(\\sqrt{n}\\frac{\\overline{X}-\\lambda_{0}}{\\sqrt{\\overline{X}}} \\right)=\\alpha_{1}$\n",
        "\n",
        "$\\Phi\\left(\\sqrt{n}\\frac{\\overline{X}-\\lambda_{0}}{\\sqrt{\\overline{X}}} \\right)=1-\\alpha_{1}=0.9$\n",
        "\n",
        "$\\sqrt{n}\\frac{\\overline{X}-\\lambda_{0}}{\\sqrt{\\overline{X}}}\\gt \\sqrt{n}\\frac{c-\\lambda_{0}}{\\sqrt{\\overline{X}}} = 1.29\\to c=0.629$\n",
        "  \n",
        "$\\overline{X} = 0.5$\n",
        "  \n",
        "$\\overline{X} < c \\to$ отвергаем гипотезу\n",
        "\n",
        "**Меняем местами основную и альтернативную гипотезу:**\n",
        "\n",
        "$ H_ {0} :  \\lambda  =  \\lambda _ {0} $\n",
        "\n",
        "$ H_ {1} :  \\lambda  =  \\lambda _ {1} $\n",
        "\n",
        "Cтатистическое отношение правдоподобия:\n",
        "\n",
        "$LR(\\overrightarrow{X},\\lambda_{1},\\lambda_{0}) = \\left(\\frac{\\lambda_{1}}{\\lambda_{0}}\\right)^{\\sum_{i=1}^{50}X_{i}} \\cdot exp^{-n\\cdot \\lambda_{1} + n\\cdot \\lambda_{0} }$\n",
        "\n",
        "$LR(\\overrightarrow{X},\\lambda_{0},\\lambda_{1})\\gt c\\Leftrightarrow \\overline{X}\\gt c$\n",
        "\n",
        "$\\sqrt{n}\\frac{\\overline{X}-\\lambda_{1}}{\\sqrt{\\overline{X}}}\\sim N(0,1)$\n",
        "\n",
        "$P\\left(\\sqrt{n}\\frac{\\overline{X}-\\lambda_{1}}{\\sqrt{\\overline{X}}} \\right)\\gt \\sqrt{n}\\frac{\\overline{X}-\\lambda_{1}}{\\sqrt{\\overline{X}}}=1-\\Phi\\left(\\sqrt{n}\\frac{\\overline{X}-\\lambda_{1}}{\\sqrt{\\overline{X}}} \\right)=\\alpha_{1}$\n",
        "\n",
        "$\\Phi\\left(\\sqrt{n}\\frac{\\overline{X}-\\lambda_{1}}{\\sqrt{\\overline{X}}} \\right)=1-\\alpha_{1}=0.9$\n",
        "\n",
        "$\\sqrt{n}\\frac{\\overline{X}-\\lambda_{1}}{\\sqrt{\\overline{X}}}\\gt \\sqrt{n}\\frac{c-\\lambda_{1}}{\\sqrt{\\overline{X}}} = 1.29\\to c=2.129$\n",
        "\n",
        "$\\overline{X} = 0.5$\n",
        "  \n",
        "$\\overline{X} < c \\to$ отвергаем гипотезу"
      ],
      "metadata": {
        "id": "jMveqnUapiIG"
      }
    },
    {
      "cell_type": "markdown",
      "source": [
        "#### h) В пунктах (c) - (f) заменить семейство распределений Пуассона на семейство геометрических распределений $\\mathbb{P}_{\\lambda}(X=k)=\\frac{\\lambda^{k}}{(\\lambda+1)^{k+1}}, k\\in \\mathbb{Z_{+}}$"
      ],
      "metadata": {
        "id": "_x8A18uy9log"
      }
    },
    {
      "cell_type": "markdown",
      "source": [
        "#### h.c) В предположении, что исходные наблюдения являются выборкой из геометрического распределения, построить оценку максимального правдоподобия параметра $\\lambda$, а также оценку $\\lambda$ по методу моментов. Найти смещение оценок"
      ],
      "metadata": {
        "id": "0FhaiQFb-nZj"
      }
    },
    {
      "cell_type": "markdown",
      "source": [
        "##### Построение ОМП"
      ],
      "metadata": {
        "id": "7q_Oi6t8_ZVb"
      }
    },
    {
      "cell_type": "markdown",
      "source": [
        "Плотность геометрического распределения: $P_{\\lambda}(X=k)=\\frac{\\lambda^{k}}{(\\lambda+1)^{k+1}}$\n",
        "\n",
        "Построение функции правдоподобия:\n",
        "\n",
        "$L(\\overrightarrow{X};\\theta)=\\prod_{i=1}^{n}P_{\\lambda}(X_{i})=\\prod_{i=1}^{n}\\frac{\\lambda^{X_{i}}}{(\\lambda+1)^{X_{i}+1}}=\\frac{\\lambda^{\\sum_{i=1}^{n}X_{i}}}{(\\lambda+1)^{\\sum_{i=1}^{n}X_{i}+n}}$\n",
        "\n",
        "Логарифмирование функции правдоподобия:\n",
        "\n",
        "$LL(\\overrightarrow{X};\\theta)= \\sum_{i=1}^{n}X_{i}\\cdot \\ln(\\lambda)-(\\sum_{i=1}^{n}X_{i}+n)\\cdot\\ln(\\lambda+1)$\n",
        "\n",
        "Нахождение частной производной по параметру $\\lambda$:\n",
        "\n",
        "$\\frac{\\partial LL(\\overrightarrow{X};\\theta)}{\\partial \\lambda} = \\frac{\\sum_{i=1}^{n}X_{i}}{\\lambda}-\\frac{\\sum_{i=1}^{n}X_{i}+n}{\\lambda+1}$.\n",
        "\n",
        "Для нахождения параметра приравняем производную к нулю:\n",
        "\n",
        "$\\frac{\\sum_{i=1}^{n}X_{i}}{\\lambda}-\\frac{\\sum_{i=1}^{n}X_{i}+n}{\\lambda+1}=0\\to \\frac{\\lambda}{\\sum_{i=1}^{n}X_{i}}=\\frac{\\lambda+1}{\\sum_{i=1}^{n}X_{i}+n}\\to \\lambda\\cdot \\sum_{i=1}^{n}X_{i}+\\lambda \\cdot n = \\lambda\\cdot \\sum_{i=1}^{n}X_{i}+\\sum_{i=1}^{n}X_{i}\\to\\lambda=\\frac{1}{n}\\cdot \\sum_{i=1}^{n}X_{i}\\$\n",
        "\n",
        "$\\widehat{\\theta}=\\widehat{\\lambda}=\\overline{X}$\n",
        "\n",
        "Используя выборку, найдем значение параметра:\n",
        "$\\widehat{\\theta}=0.5$."
      ],
      "metadata": {
        "id": "YShS9zyP_mU-"
      }
    },
    {
      "cell_type": "markdown",
      "source": [
        "##### Построение ОММ"
      ],
      "metadata": {
        "id": "bkamKcO0_eHe"
      }
    },
    {
      "cell_type": "markdown",
      "source": [
        "Для геометрического распределения  $P_{\\lambda}(X=k)=\\frac{\\lambda^{k}}{(\\lambda +1)^{k+1}}$\n",
        "\n",
        "Известно, что первый момент равен единице деленной на параметр $\\mathbb{E}X_{1}=\\frac{1}{\\lambda};M_{1}=\\overline{X}$, так как параметр одномерный, система будет состоять из одного уравнения. В таком случае получаем: $\\widetilde{\\theta}=\\frac{1}{\\lambda}=\\overline{X}=0.5$\n",
        "\n",
        "Для нахождения НРМД-оценки используем ОМП:\n",
        "\n",
        "$g\\left(T(\\overrightarrow{X})\\right)=\\frac{\\lambda^{\\sum_{i=1}^{n}X_{i}}}{(\\lambda+1)^{\\sum_{i=1}^{n}X_{i}+n}}$\n",
        "\n",
        "$h(\\overrightarrow{X})=1$\n",
        "\n",
        "Достаточная минимальная статистика: $T=\\sum_{i=1}^{n}X_{i}=25$.\n",
        "\n",
        "$\\mathbb{E}_{\\lambda}\\overline{X}=\\mathbb{E}_{\\lambda}\\frac{1}{n}\\cdot \\sum_{i=1}^{n}x_{i}=\\frac{1}{n}\\cdot \\mathbb{E_{\\lambda}}\\sum_{i=1}^{n}x_{i}=\\frac{1}{n}\\cdot \\sum_{i=1}^{n}\\mathbb{E_{\\lambda}}X_{1}=\\frac{1}{n}\\cdot n\\cdot \\mathbb{E}_{\\lambda}X_{1}=\\lambda$ - несмещенная оценка\n",
        "\n",
        "НРМД-оценка: $\\lambda=\\overline{X}=0.5$"
      ],
      "metadata": {
        "id": "-Jo0aWSs-5oW"
      }
    },
    {
      "cell_type": "markdown",
      "source": [
        "#### h.d) Построить асимптотический доверительный интервал уровня значимости $\\alpha_1$ для параметра $\\lambda$ на базе оценки максимального правдоподобия"
      ],
      "metadata": {
        "id": "JOENkP70zwYG"
      }
    },
    {
      "cell_type": "markdown",
      "source": [
        "##### Построение на базе ОМП"
      ],
      "metadata": {
        "id": "fSqherIHz-TS"
      }
    },
    {
      "cell_type": "markdown",
      "source": [
        "ОМП: $\\widehat{\\theta}=\\widehat{\\lambda}=\\frac{1}{\\overline{X}}$\n",
        "\n",
        "$\\sqrt{n}\\left( \\widehat{\\theta}(\\overrightarrow{X})-\\theta \\right)\\sim N\\left( 0, \\frac{1}{I(\\theta)} \\right)$\n",
        "\n",
        "Информация Фишера:\n",
        "$I(\\theta)=-\\mathbb{E}\\left( \\frac{\\partial^{2} LL}{\\partial \\lambda^{2}} \\right)=-\\mathbb{E}\\left( -\\frac{\\sum_{i=1}^{n}X_{i}}{\\lambda^{2}}+\\frac{\\sum_{i=1}^{n}X_{i}+n}{(\\lambda +1)^{2}} \\right)=\\frac{n}{\\lambda^{2}}-\\mathbb{E}\\left( \\frac{\\sum_{i=1}^{n}X_{i}+n}{(\\lambda+1)^{2}} \\right) = \\frac{n}{\\lambda^{2}}-\\mathbb{E}\\left( \\frac{\\sum_{i=1}^{n}X_{i}}{(\\lambda+1)^{2}} \\right)-\\mathbb{E}\\left( \\frac{n}{(\\lambda+1)^{2}} \\right)=\\frac{n}{\\lambda^{2}}-\\frac{n}{(\\lambda+1)^{2}}-\\frac{n}{(\\lambda+1)^{2}}=\\frac{n(\\lambda^{2}+1)}{(\\lambda+1)^{2}\\cdot \\lambda^{2}}$\n",
        "\n",
        "Тогда $\\sqrt{n\\cdot I\\left(  \\widehat{\\theta}(\\overrightarrow{X})\\right)}\\left( \\widehat{\\theta}(\\overrightarrow{X})-\\theta \\right)\\sim N(0,1)$\n",
        "\n",
        "$X_{\\alpha}$: $\\mathrm{Ф}(X_{\\alpha})=1-\\frac{\\alpha_{1}}{2}=1-\\frac{0.1}{2}=0.95 \\to X_{0.95}=1.64$\n",
        "\n",
        "Асимптотический доверительный интервал:\n",
        "\n",
        "$\\left[ \\frac{1}{\\overline{X}}-\\frac{X_{0.95}}{\\sqrt{n\\cdot \\frac{n(\\widehat{\\lambda^{2}}+1)}{(\\widehat{\\lambda}+1)^{2}\\cdot \\widehat{\\lambda^{2}}}}};\\frac{1}{\\overline{X}}+\\frac{X_{0.95}}{\\sqrt{n\\cdot \\frac{n(\\widehat{\\lambda^{2}}+1)}{(\\widehat{\\lambda}+1)^{2}\\cdot \\widehat{\\lambda^{2}}}}} \\right]$\n",
        "\n",
        "$\\frac{1}{0.5}-\\frac{1.64}{\\sqrt{50\\cdot \\frac{50\\cdot(\\frac{1}{0.5^{2}}+1)}{(\\frac{1}{0.5}+1)^{2}\\cdot \\frac{1}{0.5^{2}}}}}\\le \\lambda\\le \\frac{1}{0.5}+\\frac{1.64}{\\sqrt{50\\cdot \\frac{50\\cdot(\\frac{1}{0.5^{2}}+1)}{(\\frac{1}{0.5}+1)^{2}\\cdot \\frac{1}{0.5^{2}}}}}$\n",
        "\n",
        "$1.912\\le \\lambda\\le 2.088$\n"
      ],
      "metadata": {
        "id": "YhJR1Yo_z_hy"
      }
    },
    {
      "cell_type": "markdown",
      "source": [
        "##### Построение на базе асимптотической нормальной оценки $\\widehat{\\theta}$"
      ],
      "metadata": {
        "id": "zkX6hZvi0Kin"
      }
    },
    {
      "cell_type": "markdown",
      "source": [
        "$\\sqrt{n}\\left( \\widehat{\\theta}(\\overrightarrow{X})-\\theta \\right)\\sim N(0,\\sigma^{2}(\\theta))$\n",
        "\n",
        "$\\sqrt{n}\\frac{ \\widehat{\\theta}(\\overrightarrow{X})-\\theta}{\\sigma(\\widehat{\\theta})}\\sim N(0,1)$\n",
        "\n",
        "$X_{\\alpha}$: $\\mathrm{Ф}(X_{\\alpha})=1-\\frac{\\alpha_{1}}{2}=1-\\frac{0.1}{2}=0.95 \\to X_{0.95}=1.64$\n",
        "\n",
        "Асимптотический доверительный интервал:\n",
        "\n",
        "$-X_{0.95}\\le \\sqrt{n}\\cdot \\frac{\\widehat{\\lambda}-\\lambda}{\\sqrt{\\widehat{\\lambda}(\\widehat{\\lambda}+1)}}\\le X_{0.95}$\n",
        "\n",
        "$\\widehat{\\lambda}-\\frac{X_{0.95}\\cdot\\sqrt{\\widehat{\\lambda}(\\widehat{\\lambda}+1)}}{\\sqrt{n}}\\le \\lambda\\le\\widehat{\\lambda}+\\frac{X_{0.95}\\cdot\\sqrt{\\widehat{\\lambda}(\\widehat{\\lambda}+1)}}{\\sqrt{n}}$\n",
        "\n",
        "$\\frac{1}{0.5}-\\frac{1.64\\cdot\\sqrt{\\frac{1}{0.5}\\cdot(\\frac{1}{0.5}+1)}}{\\sqrt{50}}\\le \\lambda\\le \\frac{1}{0.5}+\\frac{1.64\\cdot\\sqrt{\\frac{1}{0.5}\\cdot(\\frac{1}{0.5}+1)}}{\\sqrt{50}}$\n",
        "\n",
        "$1.432\\le \\lambda\\le 2.568$"
      ],
      "metadata": {
        "id": "tl3DY10w0NWq"
      }
    },
    {
      "cell_type": "markdown",
      "source": [
        "#### h.e) Используя гистограмму частот, построить критерий значимости $\\mathcal{X^{2}}$ проверки простой гипотезы согласия с геометрическим распределением с параметром $\\lambda_{0}$. Проверить гипотезу на уровне значимости $\\alpha_{1}$. Вычислить наибольшее значение уровня значимости, на котором ещё нет оснований отвергнуть данную гипотезу"
      ],
      "metadata": {
        "id": "Xt9QMcvCD5Ub"
      }
    },
    {
      "cell_type": "markdown",
      "source": [
        "$\\alpha_{1} = 0.1; \\lambda_{0} = 0.5; n = 50$\n",
        "\n",
        "$P_{i}=P_{H_{0}}=(X\\in I_{i})=\\sum_{k\\in I_{i}}^{}\\frac{\\lambda_{0}^{k}}{(\\lambda_{0}+1)^{k+1}}$\n",
        "\n",
        "$I_{1}=\\left[ 0\\right], n_{1}=34$\n",
        "\n",
        "$P_{1}=\\frac{0.5^0}{(0.5+1)^{0 + 1}}=0.667\\to nP_{1}=33.35$\n",
        "\n",
        "$I_{2}=\\left[ 1 \\right], n_{2}=10$\n",
        "\n",
        "$P_{2}=\\frac{0.5^1}{(0.5+1)^{1 + 1}}=0.222\\to nP_{2}=11.1$\n",
        "\n",
        "$I_{3}=\\left[ 2 \\right], n_{3}=3$\n",
        "\n",
        "$P_{3}=\\frac{0.5^2}{(0.5+1)^{2 + 1}}=0.074\\to nP_{3}=3.7$\n",
        "\n",
        "$I_{4}=\\left[ 3\\right], n_{4}=3$\n",
        "\n",
        "$P_{4}=\\frac{0.5^3}{(0.5+1)^{3 + 1}}=0.025\\to nP_{4}=1.25$\n",
        "\n",
        "Критерий $\\mathcal{X}^{2}: \\mathcal{X}^{2}_{набл}=\\sum_{i=1}^{4}\\frac{(n_{i}-np_{i})^{2}}{np_{i}} = \\frac{(34-33.35)^{2}}{33.35}+\\frac{(10-11.1)^{2}}{11.1}+\\frac{(3-3.7)^{2}}{3.7}+\\frac{(3-1.25)^{2}}{1.25} = 2.7$\n",
        "\n",
        "Вычисление значения $\\mathcal{X}^{2}_{N-1,1-\\alpha_{1}}=\\mathcal{X}^{2}_{3, 0.9}$"
      ],
      "metadata": {
        "id": "PQDlh9uUEUhL"
      }
    },
    {
      "cell_type": "code",
      "source": [
        "stats.chi2.ppf(0.9, 3)"
      ],
      "metadata": {
        "colab": {
          "base_uri": "https://localhost:8080/"
        },
        "id": "KMFX2oeEMQxz",
        "outputId": "6e6e1200-3b0e-41d3-dc75-66a35fa8167f"
      },
      "execution_count": null,
      "outputs": [
        {
          "output_type": "execute_result",
          "data": {
            "text/plain": [
              "6.251388631170325"
            ]
          },
          "metadata": {},
          "execution_count": 6
        }
      ]
    },
    {
      "cell_type": "markdown",
      "source": [
        "$\\mathcal{X}^{2}_{3, 0.9}\\simeq 6.251$\n",
        "\n",
        "$\\mathcal{X}^{2}\\lt \\mathcal{X}^{2}_{2,0.9}\\to$ по критерию Пирсона принимаем гипотезу"
      ],
      "metadata": {
        "id": "_inHWpbwMUiW"
      }
    },
    {
      "cell_type": "code",
      "source": [
        "1 - stats.chi2.cdf(2.7, 3)"
      ],
      "metadata": {
        "colab": {
          "base_uri": "https://localhost:8080/"
        },
        "id": "ASEQnq0VkIrI",
        "outputId": "6dcbcb37-076c-48b0-a26c-e167cc795ff4"
      },
      "execution_count": null,
      "outputs": [
        {
          "output_type": "execute_result",
          "data": {
            "text/plain": [
              "0.4402272943602312"
            ]
          },
          "metadata": {},
          "execution_count": 25
        }
      ]
    },
    {
      "cell_type": "markdown",
      "source": [
        "Наибольшее значение уровня значимости, при котором нет еще оснований отвергнуть данную гипотезу $\\simeq$ 0.4402"
      ],
      "metadata": {
        "id": "7OHASgaVknIf"
      }
    },
    {
      "cell_type": "markdown",
      "source": [
        "#### h.f) Построить критерий значимости  $\\mathcal{X^{2}}$ проверки сложной гипотезы согласия с геометрическим распределением. Проверить гипотезу на уровне значимости $\\alpha_{1}$. Вычислить наибольшее значение уровня значимости, на котором ещё нет оснований отвергнуть данную гипотезу"
      ],
      "metadata": {
        "id": "xoOfCJJci69t"
      }
    },
    {
      "cell_type": "markdown",
      "source": [
        "$P_{i}=P_{H_{0}}=(X\\in I_{i})=\\sum_{k\\in I_{i}}^{}\\frac{{\\overline{X}^{k}}}{\\left( {\\overline{X}} +1\\right)^{k+1}}$\n",
        "\n",
        "$I_{1}=\\left[ 0\\right], n_{1}=34$\n",
        "\n",
        "$P_{1}=\\frac{0.5^0}{(0.5+1)^{0 + 1}}=0.667\\to nP_{1}=33.35$\n",
        "\n",
        "$I_{2}=\\left[ 1 \\right], n_{2}=10$\n",
        "\n",
        "$P_{2}=\\frac{0.5^1}{(0.5+1)^{1 + 1}}=0.222\\to nP_{2}=11.1$\n",
        "\n",
        "$I_{3}=\\left[ 2 \\right], n_{3}=3$\n",
        "\n",
        "$P_{3}=\\frac{0.5^2}{(0.5+1)^{2 + 1}}=0.074\\to nP_{3}=3.7$\n",
        "\n",
        "$I_{4}=\\left[ 3\\right], n_{4}=3$\n",
        "\n",
        "$P_{4}=\\frac{0.5^3}{(0.5+1)^{3 + 1}}=0.025\\to nP_{4}=1.25$\n",
        "\n",
        "Критерий $\\mathcal{X}^{2}: \\mathcal{X}^{2}_{набл}=\\sum_{i=1}^{4}\\frac{(n_{i}-np_{i})^{2}}{np_{i}} = \\frac{(34-33.35)^{2}}{33.35}+\\frac{(10-11.1)^{2}}{11.1}+\\frac{(3-3.7)^{2}}{3.7}+\\frac{(3-1.25)^{2}}{1.25} = 2.7$\n",
        "\n",
        "Вычисление значения $\\mathcal{X}^{2}_{N-1,1-\\alpha_{1}}=\\mathcal{X}^{2}_{3, 0.9}$"
      ],
      "metadata": {
        "id": "MDpgse-IjHMQ"
      }
    },
    {
      "cell_type": "code",
      "source": [
        "stats.chi2.ppf(0.9, 3)"
      ],
      "metadata": {
        "colab": {
          "base_uri": "https://localhost:8080/"
        },
        "id": "atJ-QUZtoqGc",
        "outputId": "279c3311-5917-4548-832a-ec10d2f352fd"
      },
      "execution_count": null,
      "outputs": [
        {
          "output_type": "execute_result",
          "data": {
            "text/plain": [
              "6.251388631170325"
            ]
          },
          "metadata": {},
          "execution_count": 8
        }
      ]
    },
    {
      "cell_type": "markdown",
      "source": [
        "$\\mathcal{X}^{2}_{3, 0.9}\\simeq 6.251$\n",
        "\n",
        "$\\mathcal{X}^{2}\\lt \\mathcal{X}^{2}_{2,0.9}\\to$ по критерию Пирсона принимаем гипотезу"
      ],
      "metadata": {
        "id": "sDpr_MYMotBZ"
      }
    },
    {
      "cell_type": "code",
      "source": [
        "1 - stats.chi2.cdf(2.7, 3)"
      ],
      "metadata": {
        "colab": {
          "base_uri": "https://localhost:8080/"
        },
        "id": "Vs1EUnnZ-ade",
        "outputId": "de5fcf40-3fab-453b-ddbe-e273bd22067b"
      },
      "execution_count": null,
      "outputs": [
        {
          "output_type": "execute_result",
          "data": {
            "text/plain": [
              "0.4402272943602312"
            ]
          },
          "metadata": {},
          "execution_count": 24
        }
      ]
    },
    {
      "cell_type": "markdown",
      "source": [
        "Наибольшее значение уровня значимости, при котором нет еще оснований отвергнуть данную гипотезу $\\simeq$ 0.4402"
      ],
      "metadata": {
        "id": "2LeiMhYQowRW"
      }
    },
    {
      "cell_type": "markdown",
      "source": [
        "### Задание №2"
      ],
      "metadata": {
        "id": "DWucwUh3cC5g"
      }
    },
    {
      "cell_type": "code",
      "source": [
        "data_2 = [2.822, 0.064, 1.243, 0.256, 0.093, 0.539, 1.269, 0.295, 0.386, 0.988, 0.219, 0.699, 0.877, 1.404, 0.282, 1.349, 0.412, 0.391, 3.635, 0.129, 1.028, 0.487, 0.863, 1.023, 1.575, 0.241, 1.144, 2.199, 0.459, 0.130, 0.212, 0.521, 0.416, 0.847, 1.189, 1.325, 1.016, 0.818, 0.185, 4.182, 0.361, 3.012, 0.671, 0.704, 0.138, 0.281, 0.042, 3.490, 0.553, 2.976]\n",
        "alpha2 = 0.05\n",
        "c = 0.00\n",
        "d = 1.20\n",
        "h = 0.40\n",
        "l0 = 0.25\n",
        "l1 = 1.00\n",
        "sum = np.sum(data_2)\n",
        "print(sum)\n",
        "print(max(data_2))\n",
        "print(min(data_2))"
      ],
      "metadata": {
        "id": "w_ukUbtecYPH",
        "colab": {
          "base_uri": "https://localhost:8080/"
        },
        "outputId": "b4edd1f5-a266-43a0-b47a-4b4153a22a90"
      },
      "execution_count": 5,
      "outputs": [
        {
          "output_type": "stream",
          "name": "stdout",
          "text": [
            "49.43999999999999\n",
            "4.182\n",
            "0.042\n"
          ]
        }
      ]
    },
    {
      "cell_type": "markdown",
      "source": [
        "#### a) Построить вариационный ряд, эмпирическую функцию распределения, гистограмму и полигон частот с шагом h"
      ],
      "metadata": {
        "id": "9-_TmvRXcRGA"
      }
    },
    {
      "cell_type": "markdown",
      "source": [
        "##### Вариационный ряд"
      ],
      "metadata": {
        "id": "7hb_9jS1up5s"
      }
    },
    {
      "cell_type": "code",
      "source": [
        "sorted_data_2 = np.sort(data_2)\n",
        "n = len(data_2)\n",
        "variation_range = np.unique(sorted_data_2)\n",
        "print(sorted_data_2)"
      ],
      "metadata": {
        "colab": {
          "base_uri": "https://localhost:8080/"
        },
        "id": "d83bJwzNnCn1",
        "outputId": "d9fc0242-c29b-441e-eefc-8138beb3f692"
      },
      "execution_count": 6,
      "outputs": [
        {
          "output_type": "stream",
          "name": "stdout",
          "text": [
            "[0.042 0.064 0.093 0.129 0.13  0.138 0.185 0.212 0.219 0.241 0.256 0.281\n",
            " 0.282 0.295 0.361 0.386 0.391 0.412 0.416 0.459 0.487 0.521 0.539 0.553\n",
            " 0.671 0.699 0.704 0.818 0.847 0.863 0.877 0.988 1.016 1.023 1.028 1.144\n",
            " 1.189 1.243 1.269 1.325 1.349 1.404 1.575 2.199 2.822 2.976 3.012 3.49\n",
            " 3.635 4.182]\n"
          ]
        }
      ]
    },
    {
      "cell_type": "markdown",
      "source": [
        "##### Эмпирическая функция"
      ],
      "metadata": {
        "id": "8lGaeptbuwAS"
      }
    },
    {
      "cell_type": "code",
      "source": [
        "empirical_function_2 = np.arange(1, n + 1) / n\n",
        "\n",
        "x = np.concatenate(([sorted_data_2[0]], sorted_data_2))\n",
        "y = np.concatenate(([0], empirical_function_2))\n",
        "\n",
        "plt.step(x, y, where='post')\n",
        "plt.xlabel('Значение')\n",
        "plt.ylabel('Вероятность')\n",
        "plt.show()"
      ],
      "metadata": {
        "colab": {
          "base_uri": "https://localhost:8080/",
          "height": 449
        },
        "id": "a5OBYYyCuzE_",
        "outputId": "e684eb76-5cb3-4fc6-ade0-965c88beb5e0"
      },
      "execution_count": 7,
      "outputs": [
        {
          "output_type": "display_data",
          "data": {
            "text/plain": [
              "<Figure size 640x480 with 1 Axes>"
            ],
            "image/png": "[encoded data removed]"
          },
          "metadata": {}
        }
      ]
    },
    {
      "cell_type": "markdown",
      "source": [
        "##### Гистограмма и полигон частот"
      ],
      "metadata": {
        "id": "IA5dsftt1DXS"
      }
    },
    {
      "cell_type": "code",
      "source": [
        "bins = np.arange(min(data_2), max(data_2) + h, h)\n",
        "plt.hist(data_2, bins = bins, density=True, edgecolor='black', label='Гистограмма')\n",
        "plt.xlabel(\"Интервалы\")\n",
        "plt.ylabel(\"Частота\")\n",
        "\n",
        "hist, _ = np.histogram(data_2, bins = bins, density=True)\n",
        "bin_centers = 0.5 * (bins[1:] + bins[:-1])\n",
        "plt.plot(bin_centers, hist, color='red', marker='o', linestyle='-', label='Полигон')\n",
        "\n",
        "plt.legend()\n",
        "plt.show()"
      ],
      "metadata": {
        "colab": {
          "base_uri": "https://localhost:8080/",
          "height": 449
        },
        "id": "EJzyoD4N1VMO",
        "outputId": "225a39dd-69de-48cf-88e2-d3105eb0deb4"
      },
      "execution_count": 9,
      "outputs": [
        {
          "output_type": "display_data",
          "data": {
            "text/plain": [
              "<Figure size 640x480 with 1 Axes>"
            ],
            "image/png": "[encoded data removed]"
          },
          "metadata": {}
        }
      ]
    },
    {
      "cell_type": "markdown",
      "source": [
        "#### b) Вычислить выборочные аналоги следующих числовых характеристик: (i) математическое ожидание; (ii) дисперсия; (iii) медианы; (iv) асимметрии; (v) эксцесса; (vi) вероятности $\\mathrm{P}(X\\in \\left[c ,d \\right])$"
      ],
      "metadata": {
        "id": "FIztOG19-RH6"
      }
    },
    {
      "cell_type": "code",
      "source": [
        "mean = np.mean(data_2)\n",
        "print(\"Мат.ожидание =\", mean)\n",
        "\n",
        "variance = np.var(data_2)\n",
        "print(\"Дисперсия =\", variance)\n",
        "\n",
        "deviation = np.std(data_2)\n",
        "print(\"Выборочное стандартное отклонение =\", deviation)\n",
        "\n",
        "median = np.median(data_2)\n",
        "print(\"Медиана =\", median)\n",
        "\n",
        "skewness = stats.skew(data_2)\n",
        "print(\"Асимметрия =\", skewness)\n",
        "\n",
        "kurtosis = stats.kurtosis(data_2)\n",
        "print(\"Эксцесс =\", kurtosis)\n",
        "\n",
        "probability = len([x for x in data_2 if c <= x <= d]) / len(data_2)\n",
        "print(\"Вероятность попадания в промежуток =\", probability)"
      ],
      "metadata": {
        "colab": {
          "base_uri": "https://localhost:8080/"
        },
        "id": "2k0OgwH8-uUm",
        "outputId": "45c591c2-2f85-475a-f10a-a39d98fc62b2"
      },
      "execution_count": null,
      "outputs": [
        {
          "output_type": "stream",
          "name": "stdout",
          "text": [
            "Мат.ожидание = 0.9887999999999998\n",
            "Дисперсия = 0.99459776\n",
            "Выборочное стандартное отклонение = 0.997295222088224\n",
            "Медиана = 0.685\n",
            "Асимметрия = 1.6526553745393717\n",
            "Эксцесс = 1.9595178997600247\n",
            "Вероятность попадания в промежуток = 0.74\n"
          ]
        }
      ]
    },
    {
      "cell_type": "markdown",
      "source": [
        "#### c) В предположении, что исходные наблюдения являются выборкой из показательного распределения, построить оценку максимального правдоподобия параметра $\\lambda$ и соответствующую оценку по методу моментов. Найти смещение оценки"
      ],
      "metadata": {
        "id": "5hkqr_Tk_R0i"
      }
    },
    {
      "cell_type": "markdown",
      "source": [
        "##### Построение ОМП"
      ],
      "metadata": {
        "id": "DnGBl7OVFkpY"
      }
    },
    {
      "cell_type": "markdown",
      "source": [
        "Так как для данной выборки $X\\ge 0$ - достоверное событие и выполняется всегда, то индикатор у плотности распределения не записывается. Следовательно, плостность показательного распределения выглядит следующим образом:\n",
        "\n",
        "$P(X)=\\lambda\\cdot exp(-\\lambda X)$\n",
        "\n",
        "Построение функции правдоподобия:\n",
        "\n",
        "$L(\\overrightarrow{X},\\theta)=\\prod_{i=1}^{n}\\lambda\\cdot exp(-\\lambda\\cdot X_{i})=\\lambda^{n}\\cdot exp(-\\lambda\\cdot \\sum_{i=1}^{n}X_{i})$\n",
        "\n",
        "Логарифмирование функции правдоподобия:\n",
        "\n",
        "$LL(\\overrightarrow{X},\\theta)=n\\ln(\\lambda)-\\lambda\\cdot \\sum_{i=1}^{n}X_{i}$\n",
        "\n",
        "Нахождение частной производной по параметру $\\lambda$:\n",
        "\n",
        "$\\frac{\\partial LL}{\\partial \\lambda}=\\frac{n}{\\lambda}-\\sum_{i=1}^{n}X_{i}$\n",
        "\n",
        "Для нахождения параметра приравняем производную к нулю:\n",
        "\n",
        "$\\frac{n}{\\lambda}-\\sum_{i=1}^{n}X_{i}=0\\to \\lambda=\\frac{n}{\\sum_{i=1}^{n}X_{i}}=\\frac{1}{\\overline{X}}$\n",
        "\n",
        "$\\widehat{\\theta}=\\widehat{\\lambda}=\\frac{1}{\\overline{X}}$\n",
        "\n",
        "Используя выборку, найдем значение параметра:\n",
        "$\\widehat{\\theta}=1.011$"
      ],
      "metadata": {
        "id": "w-CUuEyq_vZ9"
      }
    },
    {
      "cell_type": "markdown",
      "source": [
        "##### Построение ОММ"
      ],
      "metadata": {
        "id": "3EBXx0Z6Frl7"
      }
    },
    {
      "cell_type": "markdown",
      "source": [
        "Для показательного распределения $P(X)=\\lambda\\cdot exp(-\\lambda X)$\n",
        "\n",
        "Известно, что первый момент равен единице деленной на параметр $\\mathbb{E}X_{1}=\\frac{1}{\\lambda};M_{1}=\\overline{X}$, так как параметр одномерный, система будет состоять из одного уравнения. В таком случае получаем: $\\widetilde{\\theta}=\\widetilde{\\lambda}=\\frac{1}{\\overline{X}}=1.011$\n",
        "\n",
        "Для нахождения НРМД-оценки используем ОМП:\n",
        "\n",
        "$g\\left(T(\\overrightarrow{X})\\right)=\\lambda\\cdot exp(-\\lambda X)$\n",
        "\n",
        "$h(\\overrightarrow{X})=1$\n",
        "\n",
        "Достаточная минимальная статистика: $T=\\sum_{i=1}^{n}X_{i}=49.44$\n",
        "\n",
        "МДС будет являться ПДС, так как показательное распределение принадлежит экспоненциальному семейству распределений\n",
        "\n",
        "$\\mathbb{E}_{\\lambda}\\frac{1}{\\overline{X}}=\\mathbb{E}_{\\lambda}\\frac{n}{\\sum_{i=1}^{n}x_{i}}=n\\cdot \\mathbb{E_{\\lambda}}\\frac{1}{\\sum_{i=1}^{n}x_{i}}=n\\cdot \\mathbb{E}_{\\lambda}(\\sum_{i=1}^{n}X_{i})^{-1}=n\\cdot \\left(\\frac{1}{\\lambda}\\right)^{-1}\\frac{\\Gamma (-1+n)}{\\Gamma (n)}=n\\cdot \\lambda\\frac{\\Gamma (-1+n)}{\\Gamma(-1+n)\\cdot (n-1)}=\\frac{n\\cdot \\lambda}{n-1}$ - смещенная оценка\n",
        "\n",
        "$X_{i}\\sim Exp(\\lambda) \\to X_{i}\\sim Gamma(1,\\frac{1}{\\lambda})\\Rightarrow \\sum_{i=1}^{n}X_{i}\\sim Gamma(n,\\frac{1}{\\lambda})$\n",
        "\n",
        "Если $X_{i}\\sim Gamma(\\alpha,\\beta)$, где $\\alpha\\gt 0$ и $\\beta\\gt 0$, $\\gamma\\gt -\\alpha$, то $\\mathbb{E}X_{i}^{\\gamma}=\\beta^{\\gamma}\\frac{Г(\\gamma+\\alpha)}{Г(\\alpha)}$\n",
        "\n",
        "$\\widetilde{\\lambda}=\\widehat{\\lambda}\\frac{n-1}{n}$\n",
        "\n",
        "НРМД-оценка: $\\mathbb{E}_{\\lambda}\\widetilde{\\lambda}=\\mathbb{E}_{\\lambda}\\widehat{\\lambda}\\frac{n-1}{n}=\\frac{n-1}{n}\\mathbb{E}_{\\lambda}\\widehat{\\lambda}=\\frac{n-1}{n}\\cdot \\frac{n\\cdot \\lambda}{n-1}=\\lambda$"
      ],
      "metadata": {
        "id": "ijQh54xcF11s"
      }
    },
    {
      "cell_type": "markdown",
      "source": [
        "#### d) Построить асимптотический доверительный интервал уровня значимости $\\alpha_2$ для параметра $\\lambda$ на базе оценки максимального правдоподобия"
      ],
      "metadata": {
        "id": "EIxA6Yd4I6_T"
      }
    },
    {
      "cell_type": "markdown",
      "source": [
        "##### Построение на базе ОМП"
      ],
      "metadata": {
        "id": "zfzHEHfCJCMR"
      }
    },
    {
      "cell_type": "markdown",
      "source": [
        "ОМП: $\\widehat{\\theta}=\\widehat{\\lambda}=\\frac{1}{\\overline{X}}$\n",
        "\n",
        "$\\sqrt{n}\\left( \\widehat{\\theta}(\\overrightarrow{X})-\\theta \\right)\\sim N\\left( 0, \\frac{1}{I(\\theta)} \\right)$\n",
        "\n",
        "Информация Фишера: $I(\\theta)=-\\mathbb{E}\\left( \\frac{\\partial^{2} LL}{\\partial \\lambda^{2}} \\right)=-\\mathbb{E}\\left( -\\frac{n}{\\lambda^{2}} \\right)=\\frac{n}{\\lambda^{2}}$\n",
        "\n",
        "Тогда $\\sqrt{n\\cdot I\\left(  \\widehat{\\theta}(\\overrightarrow{X})\\right)}\\left( \\widehat{\\theta}(\\overrightarrow{X})-\\theta \\right)\\sim N(0,1)$\n",
        "\n",
        "$X_{\\alpha}$: $\\mathrm{Ф}(X_{\\alpha})=1-\\frac{\\alpha_{2}}{2}=1-\\frac{0.05}{2}=0.975 \\to X_{0.975}=1.96$\n",
        "\n",
        "Асимптотический доверительный интервал:\n",
        "\n",
        "$\\left[ \\frac{1}{\\overline{X}}-\\frac{X_{0.975}}{\\sqrt{50\\cdot \\frac{50}{\\frac{1}{\\overline{X}^{2}}}}}; \\frac{1}{\\overline{X}}+\\frac{X_{0.975}}{\\sqrt{50\\cdot \\frac{50}{\\frac{1}{\\overline{X}^{2}}}}}\\right]$\n",
        "\n",
        "$1.011-\\frac{1.96\\cdot 1.011}{50}\\le \\lambda\\le 1.011+\\frac{1.96\\cdot 1.011}{50}$\n",
        "\n",
        "$0.971\\le \\lambda\\le 1.050$"
      ],
      "metadata": {
        "id": "6Uczm9IZLOEI"
      }
    },
    {
      "cell_type": "markdown",
      "source": [
        "##### Построение на базе асимптотической нормальной оценки $\\widehat{\\theta}$"
      ],
      "metadata": {
        "id": "VT0tETICRY0Z"
      }
    },
    {
      "cell_type": "markdown",
      "source": [
        "$\\sqrt{n}\\left( \\widehat{\\theta}(\\overrightarrow{X})-\\theta \\right)\\sim N(0,\\sigma^{2}(\\theta))$\n",
        "\n",
        "$\\sqrt{n}\\frac{ \\widehat{\\theta}(\\overrightarrow{X})-\\theta}{\\sigma(\\widehat{\\theta})}\\sim N(0,1)$\n",
        "\n",
        "$X_{\\alpha}$: $\\mathrm{Ф}(X_{\\alpha})=1-\\frac{\\alpha_{2}}{2}=1-\\frac{0.05}{2}=0.975 \\to X_{0.975}=1.96$\n",
        "\n",
        "Асимптотический доверительный интервал:\n",
        "\n",
        "$-X_{0.975}\\le \\sqrt{n}\\cdot \\frac{\\widehat{\\lambda}-\\lambda}{\\sqrt{\\widehat{\\lambda}}}\\le X_{0.975}$\n",
        "\n",
        "$\\widehat{\\lambda}-\\frac{X_{0.975}\\cdot\\sqrt{\\widehat{\\lambda}}}{\\sqrt{n}}\\le \\lambda\\le\\widehat{\\lambda}+\\frac{X_{0.975}\\cdot\\sqrt{\\widehat{\\lambda}}}{\\sqrt{n}}$\n",
        "\n",
        "$1.011-\\frac{1.96\\cdot\\sqrt{1.011}}{\\sqrt{50}}\\le \\lambda\\le 1.011+\\frac{1.96\\cdot\\sqrt{1.011}}{\\sqrt{50}}$\n",
        "\n",
        "$0.732\\le \\lambda\\le 1.289$"
      ],
      "metadata": {
        "id": "0b_1gpgSRjkQ"
      }
    },
    {
      "cell_type": "markdown",
      "source": [
        "#### e) С использованием теоремы Колмогорова построить критерий значимости проверки простой гипотезы согласия с показательным распределением с параметром $\\lambda_0$. Проверить гипотезу на уровне значимости $\\alpha_2$. Вычислить наибольшее значение уровня значимости, на котором еще нет оснований отвергнуть данную гипотезу\n"
      ],
      "metadata": {
        "id": "HH7HXd3FYztQ"
      }
    },
    {
      "cell_type": "markdown",
      "source": [
        "$\\lambda_0 = 0.25; \\alpha_2 = 0.05; n = 50$"
      ],
      "metadata": {
        "id": "hdWxy2LCsUSr"
      }
    },
    {
      "cell_type": "code",
      "source": [
        "from scipy.stats import expon, kstest\n",
        "\n",
        "# Проведение теста Колмогорова\n",
        "ks_statistic, p_value = kstest(data_2, 'expon', args=(0, 1/l0), alternative='two-sided')\n",
        "\n",
        "print(\"Статистика Колмогорова:\", ks_statistic)\n",
        "print(\"p-значение:\", p_value)\n",
        "\n",
        "# Определение отвергаемости гипотезы на заданном уровне значимости\n",
        "if p_value > alpha2:\n",
        "    print(f\"На уровне значимости {alpha2}, гипотеза не отвергается\")\n",
        "else:\n",
        "    print(f\"На уровне значимости {alpha2}, гипотеза отвергается\")\n",
        "\n",
        "# Вычисление наименьшего значения уровня значимости, при котором гипотеза не отвергается\n",
        "min_alpha = kstest(data_2, 'expon', args=(0, 1/l0), alternative='two-sided')[1]  # Повторное вычисление p-значения\n",
        "print(f\"Наименьшее значение уровня значимости, на котором гипотеза не отвергается: {min_alpha}\")"
      ],
      "metadata": {
        "id": "O28LH8BPaJAI",
        "colab": {
          "base_uri": "https://localhost:8080/"
        },
        "outputId": "1ddcc7b1-7056-4c1c-f159-afe9f288a577"
      },
      "execution_count": 13,
      "outputs": [
        {
          "output_type": "stream",
          "name": "stdout",
          "text": [
            "Статистика Колмогорова: 0.5439837538556209\n",
            "p-значение: 2.1443617780431652e-14\n",
            "На уровне значимости 0.05, гипотеза отвергается\n",
            "Наименьшее значение уровня значимости, на котором гипотеза не отвергается: 2.1443617780431652e-14\n"
          ]
        }
      ]
    },
    {
      "cell_type": "markdown",
      "source": [
        "#### f) Используя гистограмму частот, построить критерий значимости $\\mathcal{X^{2}}$ проверки простой гипотезы согласия с показательным распределением с параметром $\\lambda_{0}$. Проверить гипотезу на урокень значимости $\\alpha_{2}$. Вычислить наибольшее значение уровня значимости, на котором ещё нет оснований отвергнуть данную гипотезу"
      ],
      "metadata": {
        "id": "QGrUmpo4snPz"
      }
    },
    {
      "cell_type": "code",
      "source": [
        "print(\"n₀ =\", len([x for x in data_2 if 0 <= x <= 1]))\n",
        "print(\"n₁ =\", len([x for x in data_2 if 1 < x <= 2]))\n",
        "print(\"n₂ =\", len([x for x in data_2 if 2 < x <= 3]))\n",
        "print(\"n₃ =\", len([x for x in data_2 if 3 < x <= 5]))"
      ],
      "metadata": {
        "colab": {
          "base_uri": "https://localhost:8080/"
        },
        "id": "fW2zzlO65fw0",
        "outputId": "ea04f15b-44ae-46f2-c895-8c07ecec52a7"
      },
      "execution_count": null,
      "outputs": [
        {
          "output_type": "stream",
          "name": "stdout",
          "text": [
            "n₀ = 32\n",
            "n₁ = 11\n",
            "n₂ = 3\n",
            "n₃ = 4\n"
          ]
        }
      ]
    },
    {
      "cell_type": "markdown",
      "source": [
        "$P_{i}=P_{H_{0}}=(X\\in I_{i})=\\sum_{k\\in I_{i}}^{}\\lambda_{0}\\cdot exp(-\\lambda_{0}\\cdot k)$\n",
        "\n",
        "$I_{1}=\\left[ 0,1 \\right], n_{1}=32$\n",
        "\n",
        "$P_{1}=0.25\\cdot exp(-0.25\\cdot 0)+0.25\\cdot exp(-0.25\\cdot 1)=0.445\\to nP_{1}=22.25$\n",
        "\n",
        "$I_{2}=\\left[ 1,2 \\right], n_{2}=11$\n",
        "\n",
        "$P_{2}=0.25\\cdot exp(-0.25\\cdot 1)+0.25\\cdot exp(-0.25\\cdot 2)=0.346\\to nP_{2}=17.3$\n",
        "\n",
        "$I_{3}=\\left[ 2,3 \\right], n_{3}=3$\n",
        "\n",
        "$P_{3}=0.25\\cdot exp(-0.25\\cdot 2)+0.25\\cdot exp(-0.25\\cdot 3)=0.27\\to nP_{3}=13.5$\n",
        "\n",
        "$I_{4}=\\left[ 3,5 \\right], n_{4}=4$\n",
        "\n",
        "$P_{4}=0.25\\cdot exp(-0.25\\cdot 3)+0.25\\cdot exp(-0.25\\cdot 5)=0.19\\to nP_{3}=9.5$\n",
        "\n",
        "Критерий $\\mathcal{X}^{2}: \\mathcal{X}^{2}_{набл}=\\sum_{i=1}^{4}\\frac{(n_{i}-np_{i})^{2}}{np_{i}} = \\frac{(32-22.25)^{2}}{22.25}+\\frac{(11-17.3)^{2}}{17.3}+\\frac{(3-13.5)^{2}}{13.5}+\\frac{(4-9.5)^{2}}{9.5} = 17.92$\n",
        "\n",
        "Вычисление значения $\\mathcal{X}^{2}_{N-1,1-\\alpha_{2}}=\\mathcal{X}^{2}_{3, 0.95}$"
      ],
      "metadata": {
        "id": "L8zbPronsy7m"
      }
    },
    {
      "cell_type": "code",
      "source": [
        "stats.chi2.ppf(0.95, 3)"
      ],
      "metadata": {
        "colab": {
          "base_uri": "https://localhost:8080/"
        },
        "id": "deMz5LKp8801",
        "outputId": "6bb8aa5c-4bef-4de5-a6ff-23a1c2d59849"
      },
      "execution_count": null,
      "outputs": [
        {
          "output_type": "execute_result",
          "data": {
            "text/plain": [
              "7.814727903251179"
            ]
          },
          "metadata": {},
          "execution_count": 22
        }
      ]
    },
    {
      "cell_type": "markdown",
      "source": [
        "$\\mathcal{X}^{2}_{3, 0.95}\\simeq 7.815$\n",
        "\n",
        "$\\mathcal{X}^{2}\\gt \\mathcal{X}^{2}_{3,0.95}\\to$ по критерию Пирсона отвергаем гипотезу"
      ],
      "metadata": {
        "id": "i5CBU2zb9IJR"
      }
    },
    {
      "cell_type": "code",
      "source": [
        "1 - stats.chi2.cdf(17.92, 3)"
      ],
      "metadata": {
        "colab": {
          "base_uri": "https://localhost:8080/"
        },
        "id": "QmczRc6i9uXS",
        "outputId": "2f24f990-100f-401b-88ee-c9de8d7f4abf"
      },
      "execution_count": null,
      "outputs": [
        {
          "output_type": "execute_result",
          "data": {
            "text/plain": [
              "0.00045687964351592836"
            ]
          },
          "metadata": {},
          "execution_count": 23
        }
      ]
    },
    {
      "cell_type": "markdown",
      "source": [
        "Наибольшее значение уровня значимости, при котором нет еще оснований отвергнуть данную гипотезу $\\simeq$ 0.000457"
      ],
      "metadata": {
        "id": "soDT6PX09mD1"
      }
    },
    {
      "cell_type": "markdown",
      "source": [
        "#### g) Построить критерий значимости  $\\mathcal{X^{2}}$ проверки сложной гипотезы согласия с показательным распределением. Проверить гипотезу по уровню значимости $\\alpha_{2}$. Вычислить наибольшее значение уровня значимости, на котором ещё нет оснований отвергнуть данную гипотезу"
      ],
      "metadata": {
        "id": "9Q8JU3SG_QJD"
      }
    },
    {
      "cell_type": "markdown",
      "source": [
        "$P_{i}=P_{H_{0}}=(X\\in I_{i})=\\sum_{k\\in I_{i}}{\\frac{1}{\\overline{X}}}\\cdot exp(-{\\frac{1}{\\overline{X}}}\\cdot k)$\n",
        "\n",
        "$I_{1}=\\left[ 0,1 \\right], n_{1}=32$\n",
        "\n",
        "$P_{1}=1.011\\cdot exp(-1.011\\cdot 0)+1.011\\cdot exp(-1.011\\cdot 1)=1.38\\to nP_{1}=69$\n",
        "\n",
        "$I_{2}=\\left[ 1,2 \\right], n_{2}=11$\n",
        "\n",
        "$P_{2}=1.011\\cdot exp(-1.011\\cdot 1)+1.011\\cdot exp(-1.011\\cdot 2)=0.5\\to nP_{2}=25$\n",
        "\n",
        "$I_{3}=\\left[ 2,3 \\right], n_{3}=3$\n",
        "\n",
        "$P_{3}=1.011\\cdot exp(-1.011\\cdot 2)+1.011\\cdot exp(-1.011\\cdot 3)=0.18\\to nP_{3}=9$\n",
        "\n",
        "$I_{4}=\\left[ 3,5 \\right], n_{4}=4$\n",
        "\n",
        "$P_{4}=1.011\\cdot exp(-1.011\\cdot 3)+1.011\\cdot exp(-1.011\\cdot 5)=0.055\\to nP_{3}=2.75$\n",
        "\n",
        "Критерий $\\mathcal{X}^{2}: \\mathcal{X}^{2}_{набл}=\\sum_{i=1}^{4}\\frac{(n_{i}-np_{i})^{2}}{np_{i}} = \\frac{(32-69)^{2}}{69}+\\frac{(11-25)^{2}}{25}+\\frac{(3-9)^{2}}{9}+\\frac{(4-2.75)^{2}}{2.75} = 32.25$\n",
        "\n",
        "Вычисление значения $\\mathcal{X}^{2}_{N-1,1-\\alpha_{1}}=\\mathcal{X}^{2}_{3, 0.95}$"
      ],
      "metadata": {
        "id": "0cnl0XaO_Y8M"
      }
    },
    {
      "cell_type": "code",
      "source": [
        "stats.chi2.ppf(0.95, 3)"
      ],
      "metadata": {
        "colab": {
          "base_uri": "https://localhost:8080/"
        },
        "id": "3kl7cPaFFL1T",
        "outputId": "b6d87ab5-f1e6-45e7-8e66-ba066fd1d128"
      },
      "execution_count": null,
      "outputs": [
        {
          "output_type": "execute_result",
          "data": {
            "text/plain": [
              "7.814727903251179"
            ]
          },
          "metadata": {},
          "execution_count": 28
        }
      ]
    },
    {
      "cell_type": "markdown",
      "source": [
        "$\\mathcal{X}^{2}_{3, 0.95}\\simeq 7.815$\n",
        "\n",
        "$\\mathcal{X}^{2}\\gt \\mathcal{X}^{2}_{3,0.95}\\to$ по критерию Пирсона отвергаем гипотезу"
      ],
      "metadata": {
        "id": "7AXW9wKzFQvR"
      }
    },
    {
      "cell_type": "code",
      "source": [
        "1 - stats.chi2.cdf(32.25, 3)"
      ],
      "metadata": {
        "colab": {
          "base_uri": "https://localhost:8080/"
        },
        "id": "tUbZdB-1GBj5",
        "outputId": "929b8046-fcf5-4cfd-ab95-22d4048120ee"
      },
      "execution_count": null,
      "outputs": [
        {
          "output_type": "execute_result",
          "data": {
            "text/plain": [
              "4.6354937421888565e-07"
            ]
          },
          "metadata": {},
          "execution_count": 29
        }
      ]
    },
    {
      "cell_type": "markdown",
      "source": [
        "Наибольшее значение уровня значимости, при котором нет еще оснований отвергнуть данную гипотезу $\\simeq$ 0.000000464"
      ],
      "metadata": {
        "id": "U5X_czsJGPPv"
      }
    },
    {
      "cell_type": "markdown",
      "source": [
        "#### h) Построение наиболее мощного критерия проверки простой гипотезы показательности с параметром $\\lambda_0$ при альтернативе показательности с параметром $\\lambda_1$. Проверка гипотезы на уровне значимости $\\alpha_2$. Что получится, если поменять местами основную и альтернативную гипотезу?\n"
      ],
      "metadata": {
        "id": "8TVhECBaScbO"
      }
    },
    {
      "cell_type": "markdown",
      "source": [
        "$\\lambda_0 = 0.25; \\lambda_1 = 1; \\alpha_2 = 0.05$\n",
        "\n",
        "$ H_ {0} :  \\lambda  =  \\lambda _ {0} $\n",
        "\n",
        " $ H_ {1} :  \\lambda  =  \\lambda _ {1} $\n",
        "\n",
        "Cтатистическое отношение правдоподобия:\n",
        "\n",
        "$LR(\\overrightarrow{X},\\lambda_{1},\\lambda_{0}) = \\left(\\frac{\\lambda_{1}}{\\lambda_{0}}\\right)^n \\cdot exp^{-\\lambda_{1} \\cdot {\\sum_{i=1}^{50}X_{i}} + \\lambda_{0} \\cdot {\\sum_{i=1}^{50}X_{i}} }$\n",
        "\n",
        "$LR(\\overrightarrow{X},\\lambda_{1},\\lambda_{0})>  c\\Leftrightarrow \\overline{X} < c^*$\n",
        "\n",
        "$LR(\\overrightarrow{X},\\lambda_{1},\\lambda_{0})<  c\\Leftrightarrow \\overline{X} > c^*$\n",
        "\n",
        "${exp}^{{\\sum_{i=1}^{50}X_{i}}\\cdot (-\\lambda_{1} + \\lambda_{0})}=\\left(\\frac{\\lambda_{0}}{\\lambda_{1}}\\right)^n c$\n",
        "\n",
        "Логарифмируем:\n",
        "\n",
        "$c* = {\\sum_{i=1}^{50}X_{i}}=n \\cdot ln\\left(\\left(\\frac{\\lambda_{0}}{\\lambda_{1}}\\right) c\\right)$\n",
        "\n",
        "$\\sum_{i=1}^{50}X_{i}\\sim \\Gamma \\left(n,\\frac{1}{\\lambda}\\right)$\n",
        "\n",
        "$1-\\Phi_{\\Gamma \\left(n,\\frac{1}{\\lambda}\\right)}(c)=\\alpha_{2}$\n",
        "\n",
        "$ c = \\Phi^{-1}_{\\Gamma \\left(n,\\frac{1}{\\lambda}\\right)}(1-\\alpha_{2})$"
      ],
      "metadata": {
        "id": "46XeoofvSldl"
      }
    },
    {
      "cell_type": "code",
      "source": [
        "c = stats.gamma.ppf(0.95, a = 50, scale = 1/0.25)\n",
        "print('c  = ', c)"
      ],
      "metadata": {
        "id": "f_eb7-7X7Rl9",
        "colab": {
          "base_uri": "https://localhost:8080/"
        },
        "outputId": "91156ade-aad8-43e3-ba0f-1a4885ffb3b7"
      },
      "execution_count": 14,
      "outputs": [
        {
          "output_type": "stream",
          "name": "stdout",
          "text": [
            "c  =  248.68422680800813\n"
          ]
        }
      ]
    },
    {
      "cell_type": "markdown",
      "source": [
        "$ c = 248.68$\n",
        "\n",
        "Найдем $c* = {\\sum_{i=1}^{50}X_{i}}=n \\cdot ln\\left(\\left(\\frac{\\lambda_{0}}{\\lambda_{1}}\\right) c\\right)$:"
      ],
      "metadata": {
        "id": "rUNGhq0BiA6r"
      }
    },
    {
      "cell_type": "code",
      "source": [
        "c_ = 50*np.log(0.25*c)\n",
        "print('c* = ', c_)"
      ],
      "metadata": {
        "colab": {
          "base_uri": "https://localhost:8080/"
        },
        "id": "Oop7WUQNilhv",
        "outputId": "5294cb25-8892-4c56-9e89-c159d7735c96"
      },
      "execution_count": null,
      "outputs": [
        {
          "output_type": "stream",
          "name": "stdout",
          "text": [
            "c* =  206.49447825564326\n"
          ]
        }
      ]
    },
    {
      "cell_type": "markdown",
      "source": [
        "$ с* = 206.49$\n",
        "\n",
        "$LR(\\overrightarrow{X}, \\lambda_{0}, \\lambda_{1}) = \\left(\\frac{1}{0.25}\\right)^{50} \\cdot e^{(0.25-1) \\cdot 206.49} = 6.99679082\\cdot 10^{-38}$\n",
        "\n",
        "$LR < c \\to$ отвергаем гипотезу $H_0$"
      ],
      "metadata": {
        "id": "50Ar6Cp3irdv"
      }
    },
    {
      "cell_type": "markdown",
      "source": [
        "**Меняем местами основную и альтернативную гипотезу:**\n",
        "\n",
        "$H_{0}=\\lambda_{1}$\n",
        "\n",
        "$H_{1}=\\lambda_{0}$\n",
        "\n",
        "Cтатистическое отношение правдоподобия:\n",
        "\n",
        "$LR(\\overrightarrow{X},\\lambda_{0},\\lambda_{1}) = \\left(\\frac{\\lambda_{0}}{\\lambda_{1}}\\right)^n \\cdot exp^{-\\lambda_{0} \\cdot {\\sum_{i=1}^{50}X_{i}} + \\lambda_{1} \\cdot {\\sum_{i=1}^{50}X_{i}} }$\n",
        "\n",
        "$LR(\\overrightarrow{X},\\lambda_{0},\\lambda_{1})>  c\\Leftrightarrow \\overline{X} < c^*$\n",
        "\n",
        "$LR(\\overrightarrow{X},\\lambda_{0},\\lambda_{1})<  c\\Leftrightarrow \\overline{X} > c^*$\n",
        "\n",
        "${exp}^{{\\sum_{i=1}^{50}X_{i}}\\cdot (-\\lambda_{0} + \\lambda_{1})}=\\left(\\frac{\\lambda_{1}}{\\lambda_{0}}\\right)^n c$\n",
        "\n",
        "$ c = \\Phi^{-1}_{\\Gamma \\left(n,\\frac{1}{\\lambda}\\right)}(1-\\alpha_{2})$"
      ],
      "metadata": {
        "id": "JONM8BeainUg"
      }
    },
    {
      "cell_type": "code",
      "source": [
        "c = stats.gamma.ppf(0.95, a = 50, scale = 1)\n",
        "print('c  =', c)\n",
        "c_ = 50*np.log(1/0.25*c)\n",
        "print('c* =',c_)"
      ],
      "metadata": {
        "colab": {
          "base_uri": "https://localhost:8080/"
        },
        "id": "oUJfhIGlvyZl",
        "outputId": "ca9b2934-bedf-4e7e-a89f-4a050eb79a15"
      },
      "execution_count": 15,
      "outputs": [
        {
          "output_type": "stream",
          "name": "stdout",
          "text": [
            "c  = 62.17105670200203\n",
            "c* = 275.80919631163783\n"
          ]
        }
      ]
    },
    {
      "cell_type": "markdown",
      "source": [
        "$ c = 62.17$\n",
        "\n",
        "$ с* = 275.81$\n",
        "\n",
        "\n",
        "$LR(\\overrightarrow{X}, \\lambda_{0}, \\lambda_{1}) = \\left(\\frac{0.25}{1}\\right)^{50} \\cdot e^{(1-0.25) \\cdot 275.81} = 5.42089785\\cdot10^{59}$\n",
        "\n",
        "$LR > c \\to$ принимаем гипотезу $H_1$"
      ],
      "metadata": {
        "id": "Zw6BUTu1wm_H"
      }
    },
    {
      "cell_type": "markdown",
      "source": [
        "#### i) В пунктах (c)-(h) заменить семейство показательных распределений на гамма-распределений с плотностями $P_{\\lambda}(X)=\\frac{\\sqrt{\\lambda}\\cdot exp\\left( \\frac{-\\lambda\\cdot X}{2} \\right)}{\\sqrt{2\\cdot \\pi\\cdot X}}$"
      ],
      "metadata": {
        "id": "TuCKuP8j7S1h"
      }
    },
    {
      "cell_type": "markdown",
      "source": [
        "#### i.c) В предположении, что исходные наблюдения являются выборкой из гамма-распределения, построить оценку максимального правдоподобия параметра $\\lambda$ и соответствующую оценку по методу моментов. Найти смещение оценки"
      ],
      "metadata": {
        "id": "wFtHfEYf9BeL"
      }
    },
    {
      "cell_type": "markdown",
      "source": [
        "##### Построение ОМП"
      ],
      "metadata": {
        "id": "2NMR8jVU9rHx"
      }
    },
    {
      "cell_type": "markdown",
      "source": [
        "Плотность показательного распределения: $P_{\\lambda}(X)=\\frac{\\sqrt{\\lambda}\\cdot exp\\left( \\frac{-\\lambda\\cdot X}{2} \\right)}{\\sqrt{2\\cdot \\pi\\cdot X}}$\n",
        "\n",
        "Построение функции правдоподобия:\n",
        "\n",
        "$L(\\overrightarrow{X},\\theta)=\\prod_{i=1}^{n}\\frac{\\sqrt{\\lambda}\\cdot exp\\left( \\frac{-\\lambda\\cdot X}{2} \\right)}{\\sqrt{2\\cdot \\pi\\cdot X}}=\\frac{\\lambda^{\\frac{n}{2}}\\cdot exp\\left( \\frac{-\\lambda}{2} \\cdot \\sum_{i=1}^{n}X_{i}\\right)}{(2\\pi)^{\\frac{n}{2}}\\cdot (\\prod_{i=1}^{n}X_{i})^{\\frac{n}{2}}}$\n",
        "\n",
        "Логарифмирование функции правдоподобия:\n",
        "\n",
        "$LL(\\overrightarrow{X},\\theta)=\\frac{n}{2}\\ln(\\lambda)-\\frac{-\\lambda\\cdot \\sum_{i=1}^{n}X_{i}}{2}-\\frac{n}{2}\\ln(2\\pi)-\\frac{n}{2}\\ln(\\prod_{i=1}^{n}X_{i})$\n",
        "\n",
        "Нахождение частной производной по параметру $\\lambda$:\n",
        "\n",
        "$\\frac{\\partial LL}{\\partial \\lambda}=\\frac{n}{2\\lambda}-\\frac{\\sum_{i=1}^{n}X_{i}}{2}$\n",
        "\n",
        "Для нахождения параметра приравняем производную к нулю:\n",
        "\n",
        "$\\frac{n}{2\\lambda}-\\frac{\\sum_{i=1}^{n}X_{i}}{2}=0\\to \\frac{n}{2\\lambda}=\\frac{\\sum_{i=1}^{n}X_{i}}{2}\\to \\frac{\\lambda}{n}=\\frac{1}{\\sum_{i=1}^{n}X_{i}}$\n",
        "\n",
        "$\\widehat{\\theta}=\\widehat{\\lambda}=\\frac{1}{\\overline{X}}$\n",
        "\n",
        "Используя выборку, найдем значение параметра:\n",
        "$\\widehat{\\theta}=1.011$"
      ],
      "metadata": {
        "id": "CeAzy4sG9c7K"
      }
    },
    {
      "cell_type": "markdown",
      "source": [
        "##### Построение ОММ"
      ],
      "metadata": {
        "id": "Coa6kd7EAFBb"
      }
    },
    {
      "cell_type": "markdown",
      "source": [
        "Для показательного распределения $P_{\\lambda}(X)=\\frac{\\sqrt{\\lambda}\\cdot exp\\left( \\frac{-\\lambda\\cdot X}{2} \\right)}{\\sqrt{2\\cdot \\pi\\cdot X}}$\n",
        "\n",
        "Известно, что первый момент равен $\\mathbb{E}X_{1}=a \\cdot b=\\frac{1}{\\lambda};M_{1}=\\overline{X}$, где $a-1=\\frac{-1}{2} \\to a=\\frac{1}{2}$, а параметр $b=\\frac{2}{\\lambda}$\n",
        "\n",
        "Было найдено из $\\left(P(X)=\\frac{1}{\\Gamma(a)\\cdot b^{a}}X^{a-1} \\cdot exp \\left(-\\frac{X}{b}\\right)\\right)$\n",
        "\n",
        "Так как параметр одномерный, система будет состоять из одного уравнения. В таком случае получаем: $\\widetilde{\\theta}=\\widetilde{\\lambda}=\\frac{1}{\\overline{X}}=1.011$\n",
        "\n",
        "Для нахождения НРМД-оценки используем ОМП:\n",
        "\n",
        "$g\\left(T(\\overrightarrow{X})\\right)=\\frac{\\lambda^{\\frac{n}{2}}\\cdot exp\\left( \\frac{-\\lambda}{2} \\cdot \\sum_{i=1}^{n}X_{i}\\right)}{(\\prod_{i=1}^{n}X_{i})^{\\frac{n}{2}}}$\n",
        "\n",
        "$h(\\overrightarrow{X})=\\frac{1}{(2\\pi)^{\\frac{n}{2}}}$\n",
        "\n",
        "Достаточная минимальная статистика: $T=\\sum_{i=1}^{n}X_{i}=49.44$\n",
        "\n",
        "МДС будет являться ПДС, так как показательное распределение принадлежит экспоненциальному семейству распределений\n",
        "\n",
        "$X_{i}\\sim Exp(\\lambda) \\to X_{i}\\sim Gamma(1,\\frac{1}{\\lambda})\\Rightarrow \\sum_{i=1}^{n}X_{i}\\sim Gamma(n,\\frac{1}{\\lambda})$\n",
        "\n",
        "Если $X_{i}\\sim Gamma(\\alpha,\\beta)$, где $\\alpha\\gt 0$ и $\\beta\\gt 0$, $\\gamma\\gt -\\alpha$, то $\\mathbb{E}X_{i}^{\\gamma}=\\beta^{\\gamma}\\frac{Г(\\gamma+\\alpha)}{Г(\\alpha)}$\n",
        "\n",
        "$\\mathbb{E}_{\\lambda}\\frac{1}{\\overline{X}}=\\mathbb{E}_{\\lambda}\\frac{n}{\\sum_{i=1}^{n}x_{i}}=n\\cdot \\mathbb{E_{\\lambda}}\\frac{1}{\\sum_{i=1}^{n}x_{i}}=n\\cdot \\mathbb{E}_{\\lambda}(\\sum_{i=1}^{n}X_{i})^{-1}=n\\cdot \\left(\\frac{1}{\\lambda}\\right)^{-1}\\frac{\\Gamma (-1+n)}{\\Gamma (n)}=n\\cdot \\lambda\\frac{\\Gamma (-1+n)}{\\Gamma(-1+n)\\cdot (n-1)}=\\frac{n\\cdot \\lambda}{n-1}$ - смещенная оценка\n",
        "\n",
        "$\\widetilde{\\lambda}=\\widehat{\\lambda}\\frac{n-1}{n}$\n",
        "\n",
        "НРМД-оценка: $\\mathbb{E}_{\\lambda}\\widetilde{\\lambda}=\\mathbb{E}_{\\lambda}\\widehat{\\lambda}\\frac{n-1}{n}=\\frac{n-1}{n}\\mathbb{E}_{\\lambda}\\widehat{\\lambda}=\\frac{n-1}{n}\\cdot \\frac{n\\cdot \\lambda}{n-1}=\\lambda$\n",
        "\n"
      ],
      "metadata": {
        "id": "Re5yb2Fu9drp"
      }
    },
    {
      "cell_type": "markdown",
      "source": [
        "#### i.d) Построить асимптотический доверительный интервал уровня значимости $\\alpha_2$ для параметра $\\lambda$ на базе оценки максимального правдоподобия"
      ],
      "metadata": {
        "id": "a3gEUIJ0GSsd"
      }
    },
    {
      "cell_type": "markdown",
      "source": [
        "##### Построение на базе ОМП"
      ],
      "metadata": {
        "id": "pEIYaLNLGcDK"
      }
    },
    {
      "cell_type": "markdown",
      "source": [
        "ОМП: $\\widehat{\\theta}=\\widehat{\\lambda}=\\frac{1}{\\overline{X}}$\n",
        "\n",
        "$\\sqrt{n}\\left( \\widehat{\\theta}(\\overrightarrow{X})-\\theta \\right)\\sim N\\left( 0, \\frac{1}{I(\\theta)} \\right)$\n",
        "\n",
        "Информация Фишера: $I(\\theta)=-\\mathbb{E}\\left( \\frac{\\partial^{2} LL}{\\partial \\lambda^{2}} \\right)=-\\mathbb{E}\\left( -\\frac{n}{2\\cdot \\lambda^{2}} \\right)=\\frac{n}{2\\cdot \\lambda^{2}}$\n",
        "\n",
        "Тогда $\\sqrt{n\\cdot I\\left(  \\widehat{\\theta}(\\overrightarrow{X})\\right)}\\left( \\widehat{\\theta}(\\overrightarrow{X})-\\theta \\right)\\sim N(0,1)$\n",
        "\n",
        "$X_{\\alpha}$: $\\mathrm{Ф}(X_{\\alpha})=1-\\frac{\\alpha_{2}}{2}=1-\\frac{0.05}{2}=0.975 \\to X_{0.975}=1.96$\n",
        "\n",
        "Асимптотический доверительный интервал:\n",
        "\n",
        "$\\left[ \\frac{1}{\\overline{X}}-\\frac{X_{0.975}}{\\sqrt{50\\cdot \\frac{50}{\\frac{2}{\\overline{X}^{2}}}}}; \\frac{1}{\\overline{X}}+\\frac{X_{0.975}}{\\sqrt{50\\cdot \\frac{50}{\\frac{2}{\\overline{X}^{2}}}}}\\right]$\n",
        "\n",
        "$1.011-\\frac{1.96}{\\sqrt{50\\cdot 25\\cdot 1.011^{2}}}\\le \\lambda\\le 1.011+\\frac{1.96}{\\sqrt{50\\cdot 25\\cdot 1.011^{2}}}$\n",
        "\n",
        "$0.956\\le \\lambda\\le 1.066$"
      ],
      "metadata": {
        "id": "R6T63swqG7OT"
      }
    },
    {
      "cell_type": "markdown",
      "source": [
        "##### Построение на базе асимптотической нормальной оценки $\\widehat{\\theta}$"
      ],
      "metadata": {
        "id": "EFImSdQOpwzS"
      }
    },
    {
      "cell_type": "markdown",
      "source": [
        "$\\sqrt{n}\\left( \\widehat{\\theta}(\\overrightarrow{X})-\\theta \\right)\\sim N(0,\\sigma^{2}(\\theta))$\n",
        "\n",
        "$\\sqrt{n}\\frac{ \\widehat{\\theta}(\\overrightarrow{X})-\\theta}{\\sigma(\\widehat{\\theta})}\\sim N(0,1)$\n",
        "\n",
        "$X_{\\alpha}$: $\\mathrm{Ф}(X_{\\alpha})=1-\\frac{\\alpha_{2}}{2}=1-\\frac{0.05}{2}=0.975 \\to X_{0.975}=1.96$\n",
        "\n",
        "Асимптотический доверительный интервал:\n",
        "\n",
        "$-X_{0.975}\\le \\sqrt{n}\\cdot \\frac{\\widehat{\\lambda}-\\lambda}{\\sqrt{\\widehat{\\lambda}}}\\le X_{0.975}$\n",
        "\n",
        "$\\widehat{\\lambda}-\\frac{X_{0.975}\\cdot\\sqrt{\\widehat{\\lambda}}}{\\sqrt{n}}\\le \\lambda\\le\\widehat{\\lambda}+\\frac{X_{0.975}\\cdot\\sqrt{\\widehat{\\lambda}}}{\\sqrt{n}}$\n",
        "\n",
        "$1.011-\\frac{1.96\\cdot\\sqrt{1.011}}{\\sqrt{50}}\\le \\lambda\\le 1.011+\\frac{1.96\\cdot\\sqrt{1.011}}{\\sqrt{50}}$\n",
        "\n",
        "$0.732\\le \\lambda\\le 1.289$"
      ],
      "metadata": {
        "id": "FRxlJLc5p0-S"
      }
    },
    {
      "cell_type": "markdown",
      "source": [
        "#### i.e) С использованием теоремы Колмогорова построить критерий значимости проверки простой гипотезы согласия с гамма-распределением с параметром $\\lambda_0$. Проверить гипотезу на уровне значимости $\\alpha_2$. Вычислить наибольшее значение уровня значимости, на котором еще нет оснований отвергнуть данную гипотезу"
      ],
      "metadata": {
        "id": "TDgf6dsVsTbs"
      }
    },
    {
      "cell_type": "markdown",
      "source": [
        "$\\lambda_0 = 0.25; \\alpha_2 = 0.05; n = 50$"
      ],
      "metadata": {
        "id": "p00t62nqslq6"
      }
    },
    {
      "cell_type": "code",
      "source": [
        "from scipy.stats import gamma, kstest\n",
        "import numpy as np\n",
        "\n",
        "# Заданный параметр гамма-распределения\n",
        "lambda_0 = 0.25\n",
        "\n",
        "# Проведение теста Колмогорова\n",
        "ks_statistic, p_value = kstest(data_2, 'gamma', args=(2,), alternative='two-sided')\n",
        "\n",
        "print(\"Статистика Колмогорова:\", ks_statistic)\n",
        "print(\"p-значение:\", p_value)\n",
        "\n",
        "# Определение отвергаемости гипотезы на заданном уровне значимости\n",
        "if p_value > alpha2:\n",
        "    print(f\"На уровне значимости {alpha2}, гипотеза не отвергается\")\n",
        "else:\n",
        "    print(f\"На уровне значимости {alpha2}, гипотеза отвергается\")\n",
        "\n",
        "# Вычисление наибольшего значения уровня значимости, при котором гипотеза не отвергается\n",
        "max_alpha = kstest(data_2, 'gamma', args=(2,), alternative='two-sided')[1]  # Повторное вычисление p-значения\n",
        "print(f\"Наибольшее значение уровня значимости, на котором гипотеза не отвергается: {max_alpha}\")"
      ],
      "metadata": {
        "colab": {
          "base_uri": "https://localhost:8080/"
        },
        "id": "Vlxeus3xsmoV",
        "outputId": "8dbe0909-26ce-4d68-f089-821f526cc3bb"
      },
      "execution_count": null,
      "outputs": [
        {
          "output_type": "stream",
          "name": "stdout",
          "text": [
            "Статистика Колмогорова: 0.43045256114608466\n",
            "p-значение: 6.2125416416125625e-09\n",
            "На уровне значимости 0.05, гипотеза отвергается\n",
            "Наибольшее значение уровня значимости, на котором гипотеза не отвергается: 6.2125416416125625e-09\n"
          ]
        }
      ]
    },
    {
      "cell_type": "markdown",
      "source": [
        "#### i.f) Используя гистограмму частот, построить критерий значимости $\\mathcal{X^{2}}$ проверки простой гипотезы согласия с гамма-распределением с параметром $\\lambda_{0}$. Проверить гипотезу на урокень значимости $\\alpha_{2}$. Вычислить наибольшее значение уровня значимости, на котором ещё нет оснований отвергнуть данную гипотезу"
      ],
      "metadata": {
        "id": "vjnV-m3g9U7i"
      }
    },
    {
      "cell_type": "markdown",
      "source": [
        "$P_{i}=P_{H_{0}}=(X\\in I_{i})=\\sum_{k\\in I_{i}}^{}\\frac{\\sqrt{\\lambda_{0}}\\cdot exp\\left( -\\frac{\\lambda_{0}\\cdot k}{2} \\right)}{\\sqrt{2\\pi\\cdot k}}$\n",
        "\n",
        "$I_{1}=\\left[ 0.042,1 \\right], n_{1}=32$\n",
        "\n",
        "$P_{1}=\\frac{\\sqrt{0.25}\\cdot exp\\left( -\\frac{0.25\\cdot 0.042}{2} \\right)}{\\sqrt{2\\pi\\cdot 0.042}}+\\frac{\\sqrt{0.25}\\cdot exp\\left( -\\frac{0.25\\cdot 1}{2} \\right)}{\\sqrt{2\\pi\\cdot 1}}=1.144\\to nP_{1}=57.2$\n",
        "\n",
        "$I_{2}=\\left[ 1,2 \\right], n_{2}=11$\n",
        "\n",
        "$P_{2}=\\frac{\\sqrt{0.25}\\cdot exp\\left( -\\frac{0.25\\cdot 1}{2} \\right)}{\\sqrt{2\\pi\\cdot 1}}+\\frac{\\sqrt{0.25}\\cdot exp\\left( -\\frac{0.25\\cdot 2}{2} \\right)}{\\sqrt{2\\pi\\cdot 2}}=0.286\\to nP_{1}=14.3$\n",
        "\n",
        "$I_{3}=\\left[ 2,3 \\right], n_{3}=3$\n",
        "\n",
        "$P_{3}=\\frac{\\sqrt{0.25}\\cdot exp\\left( -\\frac{0.25\\cdot 2}{2} \\right)}{\\sqrt{2\\pi\\cdot 2}}+\\frac{\\sqrt{0.25}\\cdot exp\\left( -\\frac{0.25\\cdot 3}{2} \\right)}{\\sqrt{2\\pi\\cdot 3}}=0.189\\to nP_{1}=9.45$\n",
        "\n",
        "$I_{4}=\\left[ 3,5 \\right], n_{4}=4$\n",
        "\n",
        "$P_{4}=\\frac{\\sqrt{0.25}\\cdot exp\\left( -\\frac{0.25\\cdot 3}{2} \\right)}{\\sqrt{2\\pi\\cdot 3}}+\\frac{\\sqrt{0.25}\\cdot exp\\left( -\\frac{0.25\\cdot 5}{2} \\right)}{\\sqrt{2\\pi\\cdot 5}}=0.127\\to nP_{1}=6.35$\n",
        "\n",
        "Критерий $\\mathcal{X}^{2}: \\mathcal{X}^{2}_{набл}=\\sum_{i=1}^{4}\\frac{(n_{i}-np_{i})^{2}}{np_{i}} = \\frac{(32-57.2)^{2}}{57.2}+\\frac{(11-14.3)^{2}}{14.3}+\\frac{(3-9.45)^{2}}{9.45}+\\frac{(4-6.35)^{2}}{6.35} = 17.14$\n",
        "\n",
        "Вычисление значения $\\mathcal{X}^{2}_{N-1,1-\\alpha_{2}}=\\mathcal{X}^{2}_{3, 0.95}$"
      ],
      "metadata": {
        "id": "ZbpIyPGB97Ip"
      }
    },
    {
      "cell_type": "code",
      "source": [
        "stats.chi2.ppf(0.95, 3)"
      ],
      "metadata": {
        "colab": {
          "base_uri": "https://localhost:8080/"
        },
        "id": "dAYC4PPAWdtY",
        "outputId": "3b4f6ac3-03e8-49eb-8eb5-7194dd2f3666"
      },
      "execution_count": null,
      "outputs": [
        {
          "output_type": "execute_result",
          "data": {
            "text/plain": [
              "7.814727903251179"
            ]
          },
          "metadata": {},
          "execution_count": 4
        }
      ]
    },
    {
      "cell_type": "markdown",
      "source": [
        "$\\mathcal{X}^{2}_{3, 0.95}\\simeq 7.815$\n",
        "\n",
        "$\\mathcal{X}^{2}\\gt \\mathcal{X}^{2}_{3,0.95}\\to$ по критерию Пирсона отвергаем гипотезу"
      ],
      "metadata": {
        "id": "rU_hvrxhWiO3"
      }
    },
    {
      "cell_type": "code",
      "source": [
        "1 - stats.chi2.cdf(17.14, 3)"
      ],
      "metadata": {
        "colab": {
          "base_uri": "https://localhost:8080/"
        },
        "id": "SEL26ovyWi1N",
        "outputId": "7fe50497-fa68-4b60-9d44-57f79fcaded2"
      },
      "execution_count": null,
      "outputs": [
        {
          "output_type": "execute_result",
          "data": {
            "text/plain": [
              "0.000661397389709828"
            ]
          },
          "metadata": {},
          "execution_count": 6
        }
      ]
    },
    {
      "cell_type": "markdown",
      "source": [
        "Наибольшее значение уровня значимости, при котором нет еще оснований отвергнуть данную гипотезу  ≃  0.000661"
      ],
      "metadata": {
        "id": "COeaLs8ZWn74"
      }
    },
    {
      "cell_type": "markdown",
      "source": [
        "#### i.g) Построить критерий значимости  $\\mathcal{X^{2}}$ проверки сложной гипотезы согласия с гамма-распределением. Проверить гипотезу по уровню значимости $\\alpha_{2}$. Вычислить наибольшее значение уровня значимости, на котором ещё нет оснований отвергнуть данную гипотезу"
      ],
      "metadata": {
        "id": "C78zC9Offf7Z"
      }
    },
    {
      "cell_type": "markdown",
      "source": [
        "$P_{i}=P_{H_{0}}=(X\\in I_{i})=\\sum_{k\\in I_{i}}^{}\\frac{\\sqrt{\\frac{1}{\\overline{X}}}\\cdot exp\\left( -\\frac{\\frac{1}{\\overline{X}}\\cdot k}{2} \\right)}{\\sqrt{2\\pi\\cdot k}}$\n",
        "\n",
        "$I_{1}=\\left[ 0.042,1 \\right], n_{1}=32$\n",
        "\n",
        "$P_{1}=\\frac{\\sqrt{1.011}\\cdot exp\\left( -\\frac{1.011\\cdot 0.042}{2} \\right)}{\\sqrt{2\\pi\\cdot 0.042}}+\\frac{\\sqrt{1.011}\\cdot exp\\left( -\\frac{1.011\\cdot 1}{2} \\right)}{\\sqrt{2\\pi\\cdot 1}}=2.158\\to nP_{1}=107.9$\n",
        "\n",
        "$I_{2}=\\left[ 1,2 \\right], n_{2}=11$\n",
        "\n",
        "$P_{2}=\\frac{\\sqrt{1.011}\\cdot exp\\left( -\\frac{1.011\\cdot 1}{2} \\right)}{\\sqrt{2\\pi\\cdot 1}}+\\frac{\\sqrt{1.011}\\cdot exp\\left( -\\frac{1.011\\cdot 2}{2} \\right)}{\\sqrt{2\\pi\\cdot 2}}=0.345\\to nP_{1}=17.25$\n",
        "\n",
        "$I_{3}=\\left[ 2,3 \\right], n_{3}=3$\n",
        "\n",
        "$P_{3}=\\frac{\\sqrt{1.011}\\cdot exp\\left( -\\frac{1.011\\cdot 2}{2} \\right)}{\\sqrt{2\\pi\\cdot 2}}+\\frac{\\sqrt{1.011}\\cdot exp\\left( -\\frac{1.011\\cdot 3}{2} \\right)}{\\sqrt{2\\pi\\cdot 3}}=0.154\\to nP_{1}=7.7$\n",
        "\n",
        "$I_{4}=\\left[ 3,5 \\right], n_{4}=4$\n",
        "\n",
        "$P_{4}=\\frac{\\sqrt{1.011}\\cdot exp\\left( -\\frac{1.011\\cdot 3}{2} \\right)}{\\sqrt{2\\pi\\cdot 3}}+\\frac{\\sqrt{1.011}\\cdot exp\\left( -\\frac{1.011\\cdot 5}{2} \\right)}{\\sqrt{2\\pi\\cdot 5}}=0.065\\to nP_{1}=3.25$\n",
        "\n",
        "Критерий $\\mathcal{X}^{2}: \\mathcal{X}^{2}_{набл}=\\sum_{i=1}^{4}\\frac{(n_{i}-np_{i})^{2}}{np_{i}} = \\frac{(32-107.9)^{2}}{107.9}+\\frac{(11-17.25)^{2}}{17.25}+\\frac{(3-7.7)^{2}}{7.7}+\\frac{(4-3.25)^{2}}{3.25} = 58.697$\n",
        "\n",
        "Вычисление значения $\\mathcal{X}^{2}_{N-1,1-\\alpha_{2}}=\\mathcal{X}^{2}_{3, 0.95}$"
      ],
      "metadata": {
        "id": "C6MuJSXafjny"
      }
    },
    {
      "cell_type": "code",
      "source": [
        "stats.chi2.ppf(0.95, 3)"
      ],
      "metadata": {
        "colab": {
          "base_uri": "https://localhost:8080/"
        },
        "id": "iICFY6RYizbj",
        "outputId": "8fa951b0-f08d-4300-9bb6-73dcf57942c1"
      },
      "execution_count": null,
      "outputs": [
        {
          "output_type": "execute_result",
          "data": {
            "text/plain": [
              "7.814727903251179"
            ]
          },
          "metadata": {},
          "execution_count": 7
        }
      ]
    },
    {
      "cell_type": "markdown",
      "source": [
        "$\\mathcal{X}^{2}_{3, 0.95}\\simeq 7.815$\n",
        "\n",
        "$\\mathcal{X}^{2}\\gt \\mathcal{X}^{2}_{3,0.95}\\to$ по критерию Пирсона отвергаем гипотезу"
      ],
      "metadata": {
        "id": "zWX1smREi2oR"
      }
    },
    {
      "cell_type": "code",
      "source": [
        "1 - stats.chi2.cdf(58.697, 3)"
      ],
      "metadata": {
        "colab": {
          "base_uri": "https://localhost:8080/"
        },
        "id": "gHZfsfMli3_v",
        "outputId": "08c028c2-3fea-4ee8-b202-dfe35411a765"
      },
      "execution_count": null,
      "outputs": [
        {
          "output_type": "execute_result",
          "data": {
            "text/plain": [
              "1.1157741397482823e-12"
            ]
          },
          "metadata": {},
          "execution_count": 8
        }
      ]
    },
    {
      "cell_type": "markdown",
      "source": [
        "Наибольшее значение уровня значимости, при котором нет еще оснований отвергнуть данную гипотезу  ≃  0.000000000001"
      ],
      "metadata": {
        "id": "X8QPhVkZi_bA"
      }
    },
    {
      "cell_type": "markdown",
      "source": [
        "#### i.h) Для гамма-распределения $P_{\\lambda}(X)=\\frac{\\sqrt{\\lambda}\\cdot exp\\left( \\frac{-\\lambda\\cdot X}{2} \\right)}{\\sqrt{2\\cdot \\pi\\cdot X}}$ построить наиболее мощный критерий проверки гипотезы о показательности с параметром $\\lambda=\\lambda_{0}$ при альтернативе показательности с параметром $\\lambda=\\lambda_{1}$."
      ],
      "metadata": {
        "id": "l4xXH7WhyD8k"
      }
    },
    {
      "cell_type": "markdown",
      "source": [
        "$\\lambda_0 = 0.25; \\lambda_1 = 1; \\alpha_2 = 0.05$\n",
        "\n",
        "$ H_ {0} :  \\lambda  =  \\lambda _ {0} $\n",
        "\n",
        "$ H_ {1} :  \\lambda  =  \\lambda _ {1} $\n",
        "\n",
        "Cтатистическое отношение правдоподобия:\n",
        "\n",
        "$LR(\\overrightarrow{X},\\lambda_{1},\\lambda_{0}) =\\left(\\frac{\\lambda_{1}}{\\lambda_{0}}\\right)^{\\frac{n}{2}}\\cdot exp \\left(\\frac{(\\lambda_{0}-\\lambda_{1})\\cdot \\sum_{i=1}^{50}X_{i}}{2} \\right)$\n",
        "\n",
        "$LR(\\overrightarrow{X},\\lambda_{1},\\lambda_{0})>  c\\Leftrightarrow \\overline{X} < c^*$\n",
        "\n",
        "$LR(\\overrightarrow{X},\\lambda_{1},\\lambda_{0})<  c\\Leftrightarrow \\overline{X} > c^*$\n",
        "\n",
        "${exp}^{{\\sum_{i=1}^{50}X_{i}}\\cdot (-\\lambda_{1} + \\lambda_{0})}=\\left(\\frac{\\lambda_{0}}{\\lambda_{1}}\\right)^n c$\n",
        "\n",
        "Логарифмируем:\n",
        "\n",
        "$c* = {\\sum_{i=1}^{50}X_{i}}=n \\cdot ln\\left(\\left(\\frac{\\lambda_{0}}{\\lambda_{1}}\\right) c\\right)$\n",
        "\n",
        "$\\sum_{i=1}^{50}X_{i}\\sim \\Gamma \\left(n,\\frac{1}{\\lambda}\\right)$\n",
        "\n",
        "$1-\\Phi_{\\Gamma \\left(n,\\frac{1}{\\lambda}\\right)}(c)=\\alpha_{2}$\n",
        "\n",
        "$ c = \\Phi^{-1}_{\\Gamma \\left(n,\\frac{1}{\\lambda}\\right)}(1-\\alpha_{2})$"
      ],
      "metadata": {
        "id": "WbzhihjmyeZM"
      }
    },
    {
      "cell_type": "code",
      "source": [
        "c = stats.gamma.ppf(0.95, a = 25, scale = 1/0.25)\n",
        "print('c  =', c)\n",
        "c_ = 50*np.log(0.25*c)\n",
        "print('c* =',c_)"
      ],
      "metadata": {
        "colab": {
          "base_uri": "https://localhost:8080/"
        },
        "id": "Wciw9_2b5HuX",
        "outputId": "a58b7314-0122-446e-830e-169ac7c8b3f3"
      },
      "execution_count": 17,
      "outputs": [
        {
          "output_type": "stream",
          "name": "stdout",
          "text": [
            "c  = 135.0096130990824\n",
            "c* = 175.95258114623553\n"
          ]
        }
      ]
    },
    {
      "cell_type": "markdown",
      "source": [
        "$ c = 135.01$\n",
        "\n",
        "$ с* = 175.95$\n",
        "\n",
        "$LR(\\overrightarrow{X}, \\lambda_{0}, \\lambda_{1}) = \\left(\\frac{0.25}{1}\\right)^{25} \\cdot exp \\left(\\frac{(1-0.25)\\cdot 175.95}{2} \\right) = 4.0159935\\cdot10^{13}$\n",
        "\n",
        "$LR > c \\to $ принимаем гипотезу $H_1$\n",
        "\n"
      ],
      "metadata": {
        "id": "na1WwYgx5MSu"
      }
    },
    {
      "cell_type": "markdown",
      "source": [
        "**Меняем местами основную и альтернативную гипотезу:**\n",
        "\n",
        "$H_{0}=\\lambda_{1}$\n",
        "\n",
        "$H_{1}=\\lambda_{0}$\n",
        "\n",
        "Cтатистическое отношение правдоподобия:\n",
        "\n",
        "$LR(\\overrightarrow{X},\\lambda_{0},\\lambda_{1}) = \\left(\\frac{\\lambda_{0}}{\\lambda_{1}}\\right)^n \\cdot exp \\left(\\frac{(\\lambda_{0}-\\lambda_{1})\\cdot \\sum_{i=1}^{50}X_{i}}{2} \\right)$\n",
        "\n",
        "$LR(\\overrightarrow{X},\\lambda_{0},\\lambda_{1})>  c\\Leftrightarrow \\overline{X} < c^*$\n",
        "\n",
        "$LR(\\overrightarrow{X},\\lambda_{0},\\lambda_{1})<  c\\Leftrightarrow \\overline{X} > c^*$\n",
        "\n",
        "${exp}^{{\\sum_{i=1}^{50}X_{i}}\\cdot (-\\lambda_{0} + \\lambda_{1})}=\\left(\\frac{\\lambda_{0}}{\\lambda_{1}}\\right)^n c$\n",
        "\n",
        "$ c = \\Phi^{-1}_{\\Gamma \\left(n,\\frac{1}{\\lambda}\\right)}(1-\\alpha_{2})$"
      ],
      "metadata": {
        "id": "zbtVlTju6auA"
      }
    },
    {
      "cell_type": "code",
      "source": [
        "c = stats.gamma.ppf(0.95, a = 25, scale = 1)\n",
        "print('c  =', c)\n",
        "c_ = 50*np.log(1/0.25*c)\n",
        "print('c* =',c_)"
      ],
      "metadata": {
        "colab": {
          "base_uri": "https://localhost:8080/"
        },
        "id": "Hf8y5ZmO_ZtD",
        "outputId": "fabd3831-8ee9-4914-f79d-ecd2bb7ca74d"
      },
      "execution_count": 18,
      "outputs": [
        {
          "output_type": "stream",
          "name": "stdout",
          "text": [
            "c  = 33.7524032747706\n",
            "c* = 245.26729920223005\n"
          ]
        }
      ]
    },
    {
      "cell_type": "markdown",
      "source": [
        "$ c = 33.75$\n",
        "\n",
        "$ с* = 245.27$\n",
        "\n",
        "\n",
        "$LR(\\overrightarrow{X}, \\lambda_{0}, \\lambda_{1}) = \\left(\\frac{1}{0.25}\\right)^{25} \\cdot exp \\left(\\frac{(0.25-1)\\cdot 245.27}{2} \\right) = 1.27856244 \\cdot10^{-25}$\n",
        "\n",
        "$ LR < c \\to$ отвергаем гипотезу $H_0$"
      ],
      "metadata": {
        "id": "nwuyFtc5_oq2"
      }
    },
    {
      "cell_type": "markdown",
      "source": [
        "## Выводы"
      ],
      "metadata": {
        "id": "VXN4L7mRAgLX"
      }
    },
    {
      "cell_type": "markdown",
      "source": [
        "В ходе практической работы были освоены и применены методы математической статистики для решения различных задач статистического анализа. Это привело к формированию навыков использования прикладных программных пакетов для реализации этих методов. Изучив основные концепции и методы, был получен опыт в проведении статистических тестов, анализе выборочных данных, построении доверительных интервалов, проверке гипотез и других аспектах статистического анализа\n",
        "\n",
        "В работе успешно были применены программные инструменты, такие как Python с библиотеками NumPy и Scipy, используя пакеты stats, expon и другие. Эти прикладные программные пакеты стали неотъемлемыми помощниками при реализации методов математической статистики, предоставляя возможность проводить анализ данных, вычислять статистические характеристики выборок и создавать тестовые модели\n",
        "\n",
        "Особое внимание уделялось применению различных статистических критериев, таких как критерий хи-квадрат, который используется для проверки гипотезы о соответствии выборки определенному распределению. Этот критерий позволяет оценить степень соответствия выборочных данных ожидаемым значениям из предложенного теоретического распределения\n",
        "\n",
        "Также была проведена работа с различными семействами распределений, разрабатывая оценки параметров, асимптотические интервалы и проверяя гипотезы о соответствии данных этим распределениям. Это позволило более глубоко понять особенности данных и выбрать наиболее подходящие статистические модели для анализа"
      ],
      "metadata": {
        "id": "uUceHbDQCDFT"
      }
    }
  ]
}