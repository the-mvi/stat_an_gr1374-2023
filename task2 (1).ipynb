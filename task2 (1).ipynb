{
  "nbformat": 4,
  "nbformat_minor": 0,
  "metadata": {
    "colab": {
      "provenance": [],
      "collapsed_sections": [
        "-QqPUvvMYkES",
        "UdkIol9Ohq9f",
        "G1N2RQdXbi44",
        "x5yc_Sl_p6Ie"
      ]
    },
    "kernelspec": {
      "name": "python3",
      "display_name": "Python 3"
    },
    "language_info": {
      "name": "python"
    }
  },
  "cells": [
    {
      "cell_type": "markdown",
      "source": [
        "# Практическая работа №2: Классические методы математической статистики. Вариант 15\n",
        "Выполнил студент гр. 1374 Мухамедрахимов Тимур"
      ],
      "metadata": {
        "id": "wy31-s5bp5wh"
      }
    },
    {
      "cell_type": "markdown",
      "source": [
        "## Цель работы"
      ],
      "metadata": {
        "id": "flrlr_iAqCGu"
      }
    },
    {
      "cell_type": "markdown",
      "source": [
        "Научится применять методы математической статистики для решения задач статистического анализа; сформировать навыки реализации методов с помощью прикладных программных пакетов."
      ],
      "metadata": {
        "id": "ufl0P2OlqEhZ"
      }
    },
    {
      "cell_type": "markdown",
      "source": [
        "## Основные теоретические положения"
      ],
      "metadata": {
        "id": "-O0fYtEMsNNq"
      }
    },
    {
      "cell_type": "markdown",
      "source": [
        "1. Характеристики с.в.\n",
        "\n",
        "$\\mathbb{E}(X)=\\sum P_{i}x_{i}$ - матожидание с.в.\n",
        "\n",
        "$\\mathbb{D}(X)=\\mathbb{E}[(X-\\mathbb{E}(X))^2]$ - дисперсия с.в.\n",
        "\n",
        "$\\widehat{S_{kew}}X=\\frac{\\left(\\frac{1}{n}\\sum_{i=1}^{n}\\left( X_{i}-\\overline{X} \\right)^{3} \\right)}{S^{3}}$ - ассиметрия\n",
        "\n",
        "$\\widehat{K_{urt}}X=\\frac{\\frac{1}{n}\\sum_{i=1}^{n}\\left( X_{i}-\\overline{X}^{4} \\right)}{S^{4}}-3$ - эксцесс\n",
        "\n",
        "2. ОМП:\n",
        "\n",
        "$X_{1},...,X_{n} \\sim P_{\\theta}(x), \\theta \\in \\Theta$\n",
        "\n",
        "Функция правдоподобия:\n",
        "\n",
        "$L(\\bar{X}, \\theta) = \\prod_{i =1}^{n}P_{\\theta}(X_{i})$\n",
        "\n",
        "Логарифм правдоподобия:\n",
        "\n",
        "$LL(\\bar{X}, \\theta) = \\sum_{i = 1}^{n}\\ln P_{\\theta}(X_{i})$\n",
        "\n",
        "Для нахождения оценки максимума правдоподобия нужно приравнять производную функции правдоподобия по тета к нулю и решить уравнение:\n",
        "\n",
        "$\\frac{LL(\\bar{X}, \\theta)}{d\\theta} = 0$\n",
        "\n",
        "3. ОММ:\n",
        "\n",
        "$X_{1},...,X_{n} \\sim P_{\\theta}(x), \\theta \\in \\Theta$\n",
        "\n",
        "Если существует решение $\\widetilde{\\theta}(X)$ системы уравнений: $\\widehat{\\mu^{k}}(\\widetilde{\\theta})=\\mu_{k}(\\theta), k=\\overline{1,d}$, где $\\widetilde{\\theta}(X)=\\frac{1}{n}\\sum_{i=1}^{n}X^{k}_{i}$ - выборочный момент k-го порядка, то $\\widetilde{\\theta}(X)$ называется оценкой по методу моментов\n",
        "\n",
        "4. Несмещенная оценка:\n",
        "\n",
        "Оценка $\\hat{\\theta} (X)$ - несмещенная, если:\n",
        "\n",
        "$\\forall \\theta \\in \\Theta: $\n",
        "$\\mathbb{E_{\\theta}}\\hat{\\theta}(X) = 0$\n",
        "\n",
        "Смещение оценки:\n",
        "\n",
        "$bias_{\\hat\\theta}(\\theta) = \\mathbb{E_{\\theta}}\\hat\\theta(X) - \\theta$\n",
        "\n",
        "5. Асимптотический доверительный интервал:\n",
        "\n",
        "Статистика $\\hat\\theta_{n}$ вида $\\hat\\theta_{n} = [I_{1n}(\\bar{X}), I_{2n}(\\bar{X})]$ определенная при каждом $n \\in\\mathbb{N}$ и удовлетворяющая условию:\n",
        "\n",
        "$\\lim_{n\\to\\infty}\\mathbb{P}(\\theta \\in [I_{1n}(\\bar{X}), I_{2n}(\\bar{X})]) ≥ 1 - α$\n",
        "\n",
        "$\\forall \\theta \\in \\Theta $ - асимптотический доверительный интервал для /theta уровня доверия $ 1- \\alpha$\n",
        "\n",
        "6. Критерий $\\chi^2$ для проверки гипотез\n",
        "\n",
        "Рассчет статистики критерия производится по формуле:\n",
        "\n",
        "$\\chi^{2}_{набл} = \\sum \\limits_{i=1}^{N} \\frac{(v_{i} - p_{i} n)^{2}}{n p_{i}} \\sim \\chi^{2}_{N-1}$\n",
        "\n",
        "где $p_{i}$ - теоретические частоты, $v_{i}$ - абсолютные частоты\n",
        "\n",
        "Если $\\mathcal{X}^{2}_{N-1,1-\\alpha_{1}} \\lt \\chi^2_{набл}$, то нулеая гипотеза отвергается\n",
        "\n",
        "Если $\\mathcal{X}^{2}_{N-1,1-\\alpha_{1}} \\gt \\chi^2_{набл}$, то нулевая гипотеза не отвергается\n",
        "\n",
        "7. Критерий Колмогорова:\n",
        "\n",
        "Статистика Колмогорова:\n",
        "\n",
        "$D_{n}(\\overrightarrow{X}) = \\overset{}{\\underset{X \\in \\mathbb R}{sup}} |F_{0}(X_{i}) - F_{n}(X_{i})|$\n",
        "\n",
        "При верности гипотезы $H_{0}$ и непрерывности $F_{0}(X)$ на $\\mathbb R$ имеет место сходимость\n",
        "$P(\\sqrt{n} D_{n}(\\overrightarrow{X}) < z) \\xrightarrow[n \\rightarrow \\infty]{} K(z)$\n",
        "\n",
        "где $K(z)=1-\\alpha$ - ф-я распределения Колмогорова.\n",
        "\n",
        "Если $D_{n} \\lt z$, то нулеая гипотеза не отвергается\n",
        "\n",
        "Если $D_{n} \\gt z$, то нулеая гипотеза отвергается\n",
        "\n",
        "8. Наиболее мощный критерий простой гипотезы\n",
        "\n",
        "Для основной гипотезы $H_{0}: \\theta=\\theta_{0}$ и альтернативной гипотезы $H_{1}: \\theta=\\theta_{1}$, где $\\theta_{0}$ и $\\theta_{1}$ - фиксированные параметры, мы можем построить статистику правдоподобия:\n",
        "\n",
        "$LR(\\overrightarrow{X},\\theta_{1},\\theta_{0})=\\frac{L(\\overrightarrow{X},\\theta_{1})}{L(\\overrightarrow{X},\\theta_{0})}=\\frac{P_{\\theta_{1}}(X)}{P_{\\theta_{0}}(X)}$ - статистика отношений правдоподобия\n",
        "\n",
        "где $L(\\overrightarrow{X},\\theta_{1})$ - функция правдоподобия для альтернативной гипотезы, а $L(\\overrightarrow{X}\\theta_{0})$ - функция правдоподобия для основной гипотезы.\n",
        "\n",
        "Наиболее мощным критерием будет критическая область, в которой наблюдаемое значение статистики правдоподобия $LR(\\overrightarrow{X},\\theta_{1},\\theta_{0})$ будет отклоняться от значения 1 в сторону более высоких значений.\n",
        "\n",
        "Чтобы построить критическую область, мы должны задать уровень значимости $\\alpha$ - вероятность ошибки первого рода. Затем мы находим критическое значение $c$ такое, что $P\\left(LR(\\overrightarrow{X},\\theta_{1},\\theta_{0}) > c | H_{0} \\right) = \\alpha$, где $P\\left(LR(\\overrightarrow{X},\\theta_{1},\\theta_{0}) > c | H_{0}\\right)$ - вероятность получить наблюдаемое значение статистики правдоподобия, большее или равное $c$, при условии, что основная гипотеза верна.\n",
        "\n",
        "$LR(\\overrightarrow{X},\\theta_{1},\\theta_{0})\\gt c$, то принимаем основную гипотезу\n",
        "\n",
        "$LR(\\overrightarrow{X},\\theta_{1},\\theta_{0})\\lt c$, то отвергаем основную гипотезу\n"
      ],
      "metadata": {
        "id": "A_qJlNqMuLZE"
      }
    },
    {
      "cell_type": "markdown",
      "source": [
        "## Постановка задачи"
      ],
      "metadata": {
        "id": "iGOUJvibqIS3"
      }
    },
    {
      "cell_type": "markdown",
      "source": [
        "Для полученных в результате эксперимента наборов данных выполнить статистическую обработку. Полученные результаты содержательно проинтерпретировать."
      ],
      "metadata": {
        "id": "lcHj4VsfqMJc"
      }
    },
    {
      "cell_type": "markdown",
      "source": [
        "## Выполнение работы"
      ],
      "metadata": {
        "id": "bhaxRNN5qO44"
      }
    },
    {
      "cell_type": "code",
      "execution_count": 163,
      "metadata": {
        "id": "vQvv8bHRBVwa"
      },
      "outputs": [],
      "source": [
        "import numpy as np\n",
        "import matplotlib.pyplot as plt\n",
        "from statsmodels.distributions.empirical_distribution import ECDF\n",
        "import pandas as pd\n",
        "import scipy.stats as sps\n",
        "import scipy"
      ]
    },
    {
      "cell_type": "markdown",
      "source": [
        "###1"
      ],
      "metadata": {
        "id": "j1t3zG3bRV6P"
      }
    },
    {
      "cell_type": "markdown",
      "source": [
        "Данные:"
      ],
      "metadata": {
        "id": "o2Id47GlRj31"
      }
    },
    {
      "cell_type": "code",
      "source": [
        "table_data = '0 2 0 0 0 0 1 0 0 1 1 1 0 1 0 0 0 0 0 2 0 0 0 0 0 0 0 0 2 0 0 1 0 2 0 1 0 2 0 0 0 0 2 1 1 1 3 0 0 0'\n",
        "data = np.array(table_data.split()).astype(int)\n",
        "data"
      ],
      "metadata": {
        "colab": {
          "base_uri": "https://localhost:8080/"
        },
        "id": "gdJyZSUVRleV",
        "outputId": "95ff2e10-965b-438d-b7ab-858fe880c897"
      },
      "execution_count": 164,
      "outputs": [
        {
          "output_type": "execute_result",
          "data": {
            "text/plain": [
              "array([0, 2, 0, 0, 0, 0, 1, 0, 0, 1, 1, 1, 0, 1, 0, 0, 0, 0, 0, 2, 0, 0,\n",
              "       0, 0, 0, 0, 0, 0, 2, 0, 0, 1, 0, 2, 0, 1, 0, 2, 0, 0, 0, 0, 2, 1,\n",
              "       1, 1, 3, 0, 0, 0])"
            ]
          },
          "metadata": {},
          "execution_count": 164
        }
      ]
    },
    {
      "cell_type": "code",
      "source": [
        "alpha_1 = 0.2\n",
        "a = 0\n",
        "b = 1.19\n",
        "lambda_0 = 0.5\n",
        "lambda_1 = 1.50"
      ],
      "metadata": {
        "id": "m_DrSKrzctox"
      },
      "execution_count": 165,
      "outputs": []
    },
    {
      "cell_type": "markdown",
      "source": [
        "####a) Вариационный ряд, эмпирическая функция распределения и гистограмма частот:"
      ],
      "metadata": {
        "id": "vqYim4z7RXfC"
      }
    },
    {
      "cell_type": "code",
      "source": [
        "print('Вариационный ряд:', np.sort(data))"
      ],
      "metadata": {
        "colab": {
          "base_uri": "https://localhost:8080/"
        },
        "id": "0lciERwwRiu6",
        "outputId": "dfe783e9-b2b8-4d56-9dd6-bdd4824f246b"
      },
      "execution_count": 166,
      "outputs": [
        {
          "output_type": "stream",
          "name": "stdout",
          "text": [
            "Вариационный ряд: [0 0 0 0 0 0 0 0 0 0 0 0 0 0 0 0 0 0 0 0 0 0 0 0 0 0 0 0 0 0 0 0 0 1 1 1 1\n",
            " 1 1 1 1 1 1 2 2 2 2 2 2 3]\n"
          ]
        }
      ]
    },
    {
      "cell_type": "code",
      "source": [
        "ecdf = ECDF(data)\n",
        "plt.step(ecdf.x, ecdf.y)\n",
        "plt.xlabel('x')\n",
        "plt.ylabel('F(x)')\n",
        "plt.title('Эмпирическая функция распределения')\n",
        "plt.grid()\n",
        "plt.show()\n"
      ],
      "metadata": {
        "colab": {
          "base_uri": "https://localhost:8080/",
          "height": 0
        },
        "id": "2tiSPkC4SQSf",
        "outputId": "78385714-0e35-498f-d412-cfad9439d154"
      },
      "execution_count": 167,
      "outputs": [
        {
          "output_type": "display_data",
          "data": {
            "text/plain": [
              "<Figure size 640x480 with 1 Axes>"
            ],
            "image/png": "[encoded data removed]"
          },
          "metadata": {}
        }
      ]
    },
    {
      "cell_type": "code",
      "source": [
        "plt.hist(data)\n",
        "plt.title('Гистограмма частот')\n",
        "plt.grid()\n",
        "plt.show()"
      ],
      "metadata": {
        "colab": {
          "base_uri": "https://localhost:8080/",
          "height": 0
        },
        "id": "bxK9rYGbSlcV",
        "outputId": "6c8daba3-761d-4769-b3cb-5079b489b609"
      },
      "execution_count": 168,
      "outputs": [
        {
          "output_type": "display_data",
          "data": {
            "text/plain": [
              "<Figure size 640x480 with 1 Axes>"
            ],
            "image/png": "[encoded data removed]"
          },
          "metadata": {}
        }
      ]
    },
    {
      "cell_type": "markdown",
      "source": [
        "#### b) Выборочные аналоги"
      ],
      "metadata": {
        "id": "-QqPUvvMYkES"
      }
    },
    {
      "cell_type": "code",
      "source": [
        "print('Выблорочное среднее:',np.mean(data))\n",
        "print('Выборочная дисперсия:', np.var(data))\n",
        "print('СКО:', np.sqrt(np.var(data)))\n",
        "print('Медиана:', np.median(data))\n",
        "print('Асимметрия:', sps.skew(data))\n",
        "print('Эксцесс:',sps.kurtosis(data))\n",
        "print('Вероятность попадания в интервал [a:b]:',(np.sum(data <= b) - np.sum(data <= a))/len(data))"
      ],
      "metadata": {
        "colab": {
          "base_uri": "https://localhost:8080/"
        },
        "id": "tlhhMkS7Yn2u",
        "outputId": "20ec4807-df46-4fc7-f40b-c7c086d6edcf"
      },
      "execution_count": 169,
      "outputs": [
        {
          "output_type": "stream",
          "name": "stdout",
          "text": [
            "Выблорочное среднее: 0.5\n",
            "Выборочная дисперсия: 0.61\n",
            "СКО: 0.7810249675906654\n",
            "Медиана: 0.0\n",
            "Асимметрия: 1.3853170615690384\n",
            "Эксцесс: 0.8766460628863206\n",
            "Вероятность попадания в интервал [a:b]: 0.2\n"
          ]
        }
      ]
    },
    {
      "cell_type": "markdown",
      "source": [
        "#### c) ОМП и ОММ\n"
      ],
      "metadata": {
        "id": "SMYvpjmyYqvh"
      }
    },
    {
      "cell_type": "markdown",
      "source": [
        "Оценка методом максимального правдоподобия:\n",
        "\n",
        "$X_1, X_2, \\dots, X_n \\sim Pois(\\lambda)$\n",
        "\n",
        "$p_{\\theta}(x) = \\frac{\\lambda^x}{x!}\\exp(-\\lambda)$\n",
        "\n",
        "$\\theta = \\lambda$\n",
        "\n",
        "$L(\\theta, \\bar{X}) = \\prod_{i =1}^{n}\\frac{\\lambda^{X_{i}}}{X_{i}!}\\exp(-\\lambda)$\n",
        "\n",
        "$LL(\\theta, \\bar{X}) = \\sum_{i=1}^{n}X_{i}\\ln\\lambda - n\\lambda - \\ln \\prod_{i =1}^{n}X_{i}!$\n",
        "\n",
        "$\\frac{LL(\\hat\\theta, \\bar{X})}{d\\theta} = \\frac{\\sum_{i=1}^{n}X_{i}}{\\lambda} - n = 0$\n",
        "\n",
        "$\\hat\\theta = \\hat\\lambda = \\bar{X}$ - ОМП оценка\n",
        "\n",
        "Находим смещение:\n",
        "\n",
        "$\n",
        "\\mathbb{E}_\\theta\\hat{\\lambda} = \\mathbb{E}_\\theta\\bar{X} = \\frac{1}{n}\\mathbb{E}_\\theta\\sum_{i=1}^{n}x_i = \\frac{1}{n}\\sum_{i=1}^{n}\\mathbb{E}_\\theta x_i = \\frac{1}{n} n \\lambda = \\lambda \\implies $ оценка несмещенная\n",
        "\n",
        "Оценка методом моментов:\n",
        "\n",
        "$\\mathbb{E}_\\theta X_1 = \\lambda$\n",
        "\n",
        "$M_1 = \\frac{1}{n}\\sum_{i=1}^{n}x_i = \\bar{X}$\n",
        "\n",
        "Решаем уравнение:\n",
        "\n",
        "$\\lambda = \\bar{X} \\implies \\hat{\\lambda} = \\bar{X}$\n",
        "\n",
        "Так как ОМП = ОММ,\n",
        " то ОММ тоже несмещенная.\n"
      ],
      "metadata": {
        "id": "HTklBIsNAF1S"
      }
    },
    {
      "cell_type": "markdown",
      "source": [
        "ОМП и ОММ оценка:"
      ],
      "metadata": {
        "id": "VyuPioV2DNcO"
      }
    },
    {
      "cell_type": "code",
      "source": [
        "ML_est = np.mean(data)\n",
        "ML_est"
      ],
      "metadata": {
        "colab": {
          "base_uri": "https://localhost:8080/"
        },
        "id": "SbX6odlIHMc1",
        "outputId": "1d477bc6-86c4-482b-9b6b-2a14c69181f8"
      },
      "execution_count": 170,
      "outputs": [
        {
          "output_type": "execute_result",
          "data": {
            "text/plain": [
              "0.5"
            ]
          },
          "metadata": {},
          "execution_count": 170
        }
      ]
    },
    {
      "cell_type": "markdown",
      "source": [
        "#### d) Асимптотический доверительный интервал\n",
        "\n",
        "\n"
      ],
      "metadata": {
        "id": "UdkIol9Ohq9f"
      }
    },
    {
      "cell_type": "markdown",
      "source": [
        "$\\sqrt{n}\\left(\\bar{X} - \\theta\\right) \\sim \\mathcal{N} \\left(0, \\frac{1}{I(\\theta))}\\right)$\n",
        "\n",
        "$I_n(\\theta) = -\\mathbb{E}_{\\theta}\\frac{\\partial^2 LL\\left(\\overrightarrow X,\\ \\theta\\right)}{\\partial \\theta^2} = \\mathbb{E}_{\\theta}\\frac{\\sum_{i=1}^{n}{x_i}}{\\lambda^2} = \\frac{n\\lambda}{\\lambda^2} = \\frac{n}{\\lambda}$\n",
        "\n",
        "$I(\\theta) = {\\lim_{n \\to \\infty}}\\frac{1}{\\lambda} = \\frac{1}{\\lambda}$\n",
        "\n",
        "$\\sqrt{n}\\left(\\bar{X} - \\theta\\right) \\sim \\mathcal{N} \\left(0, \\bar{X}\\right)$\n",
        "\n",
        "$\\sqrt{\\frac{n}{\\bar{X}}}\\left(\\bar{X} - \\theta\\right) \\sim \\mathcal{N} \\left(0, 1\\right)$\n",
        "\n",
        "$\\alpha_{1} = 0.2$\n",
        "\n",
        "$x_\\alpha:$ $\\Phi(x_\\alpha) = 1 - \\frac{\\alpha}{2} = 0.9$"
      ],
      "metadata": {
        "id": "DC8cPA6OEOIc"
      }
    },
    {
      "cell_type": "code",
      "source": [
        "print(sps.norm.ppf(0.9))"
      ],
      "metadata": {
        "colab": {
          "base_uri": "https://localhost:8080/"
        },
        "id": "F1FYzhCpFvjo",
        "outputId": "a96bc34b-ff3a-457e-e6f5-4071bb6d21ce"
      },
      "execution_count": 171,
      "outputs": [
        {
          "output_type": "stream",
          "name": "stdout",
          "text": [
            "1.2815515655446004\n"
          ]
        }
      ]
    },
    {
      "cell_type": "markdown",
      "source": [
        "$x_{\\alpha} = 1.28$"
      ],
      "metadata": {
        "id": "TcwMGJjmF4Ux"
      }
    },
    {
      "cell_type": "markdown",
      "source": [
        "\n",
        "$P_\\theta\\left(-x_\\alpha \\le \\sqrt{\\frac{n}{\\bar{X}}}\\left(\\bar{X} - \\theta\\right) \\le x_\\alpha\\right) = 1 - \\alpha = 0.98$\n",
        "\n",
        "$P_\\theta\\left(\\bar{X} - x_\\alpha\\sqrt{\\frac{\\bar{X}}{n}} \\le \\theta \\le \\bar{X} + x_\\alpha\\sqrt{\\frac{\\bar{X}}{n}}\\right) = 1 - \\alpha = 0.98$\n",
        "\n",
        "$\\left[\\bar{X} - x_\\alpha\\sqrt{\\frac{\\bar{X}}{n}}, \\bar{X} + x_\\alpha\\sqrt{\\frac{\\bar{X}}{n}}\\right] \\ni \\lambda$\n",
        "\n",
        "$\\left[0.5 - 1.28\\sqrt\\frac{0.5}{50},0.5 + 1.28\\sqrt\\frac{0.5}{50}\\right] \\ni \\lambda$\n",
        "\n",
        "$\\left[0.372, 0,628\\right] \\ni \\lambda$"
      ],
      "metadata": {
        "id": "11qR5gG-GEi-"
      }
    },
    {
      "cell_type": "markdown",
      "source": [
        "#### e) Построение критерия значимости $\\chi^2$ проверки простой гипотезы согласия с распределением Пуассона с параметром  $\\lambda_0$. Проверка гипотезы на уровне значимости $\\alpha_1$. Вычисление наибольшего значения уровня значимости, на котором ещё нет оснований отвергнуть данную гипотезу"
      ],
      "metadata": {
        "id": "G1N2RQdXbi44"
      }
    },
    {
      "cell_type": "markdown",
      "source": [
        "$X_1, X_2, \\dots, X_n \\sim \\mathbb{p_{\\theta}(x)}$.\n",
        "\n",
        "$H_0 : p \\equiv Pois(\\lambda_0)$\n",
        "\n",
        "$H_A : \\exists x : \\mathbb{p_{\\theta}(x)} \\neq p_{Pois(\\lambda_0)}(x)$\n",
        "\n",
        " Оценка параметра - ОМП: $\\hat{\\theta} = \\bar{X}$"
      ],
      "metadata": {
        "id": "p69f2KtUIWPG"
      }
    },
    {
      "cell_type": "code",
      "source": [
        "n = len(data)"
      ],
      "metadata": {
        "id": "yGFwtw--cSQP"
      },
      "execution_count": 172,
      "outputs": []
    },
    {
      "cell_type": "markdown",
      "source": [
        "Вычисление абсолютных частот:"
      ],
      "metadata": {
        "id": "79ZbkMkaI4Qz"
      }
    },
    {
      "cell_type": "code",
      "source": [
        "v = []\n",
        "for i in set(data):\n",
        "    v.append(list(data).count(i))\n",
        "\n",
        "v #абсолютные частоты"
      ],
      "metadata": {
        "colab": {
          "base_uri": "https://localhost:8080/"
        },
        "id": "mHw4fFUCN7UH",
        "outputId": "b23ba33a-a098-4bc7-859c-94ad226c48d4"
      },
      "execution_count": 173,
      "outputs": [
        {
          "output_type": "execute_result",
          "data": {
            "text/plain": [
              "[33, 10, 6, 1]"
            ]
          },
          "metadata": {},
          "execution_count": 173
        }
      ]
    },
    {
      "cell_type": "markdown",
      "source": [
        "Вычисление теоретических частот:"
      ],
      "metadata": {
        "id": "BlWweT00I80J"
      }
    },
    {
      "cell_type": "code",
      "source": [
        "x = [0, 1, 2, 3]\n",
        "p = sps.poisson(lambda_0).pmf(x)\n",
        "p #теоретические частоты"
      ],
      "metadata": {
        "colab": {
          "base_uri": "https://localhost:8080/"
        },
        "id": "hTvE-hkFSQSs",
        "outputId": "98d72e09-0d44-4518-9a43-fb7ae0774903"
      },
      "execution_count": 174,
      "outputs": [
        {
          "output_type": "execute_result",
          "data": {
            "text/plain": [
              "array([0.60653066, 0.30326533, 0.07581633, 0.01263606])"
            ]
          },
          "metadata": {},
          "execution_count": 174
        }
      ]
    },
    {
      "cell_type": "code",
      "source": [
        "intervals = ['[0, 1)', '[1, 2)', '[2, 3)', '[3, 3]']"
      ],
      "metadata": {
        "id": "0rBl3vIAccWl"
      },
      "execution_count": 175,
      "outputs": []
    },
    {
      "cell_type": "code",
      "source": [
        "pd.DataFrame({'interval':intervals, 'absolute frequences':v, 'theoretical frequences':p * n})"
      ],
      "metadata": {
        "colab": {
          "base_uri": "https://localhost:8080/",
          "height": 0
        },
        "id": "Qp8v3VKugxrw",
        "outputId": "3ddb3faa-28b7-49df-c62d-0c9099768743"
      },
      "execution_count": 176,
      "outputs": [
        {
          "output_type": "execute_result",
          "data": {
            "text/plain": [
              "  interval  absolute frequences  theoretical frequences\n",
              "0   [0, 1)                   33               30.326533\n",
              "1   [1, 2)                   10               15.163266\n",
              "2   [2, 3)                    6                3.790817\n",
              "3   [3, 3]                    1                0.631803"
            ],
            "text/html": [
              "\n",
              "  <div id=\"df-0ca475af-d672-4368-913e-3cd43edc5aea\" class=\"colab-df-container\">\n",
              "    <div>\n",
              "<style scoped>\n",
              "    .dataframe tbody tr th:only-of-type {\n",
              "        vertical-align: middle;\n",
              "    }\n",
              "\n",
              "    .dataframe tbody tr th {\n",
              "        vertical-align: top;\n",
              "    }\n",
              "\n",
              "    .dataframe thead th {\n",
              "        text-align: right;\n",
              "    }\n",
              "</style>\n",
              "<table border=\"1\" class=\"dataframe\">\n",
              "  <thead>\n",
              "    <tr style=\"text-align: right;\">\n",
              "      <th></th>\n",
              "      <th>interval</th>\n",
              "      <th>absolute frequences</th>\n",
              "      <th>theoretical frequences</th>\n",
              "    </tr>\n",
              "  </thead>\n",
              "  <tbody>\n",
              "    <tr>\n",
              "      <th>0</th>\n",
              "      <td>[0, 1)</td>\n",
              "      <td>33</td>\n",
              "      <td>30.326533</td>\n",
              "    </tr>\n",
              "    <tr>\n",
              "      <th>1</th>\n",
              "      <td>[1, 2)</td>\n",
              "      <td>10</td>\n",
              "      <td>15.163266</td>\n",
              "    </tr>\n",
              "    <tr>\n",
              "      <th>2</th>\n",
              "      <td>[2, 3)</td>\n",
              "      <td>6</td>\n",
              "      <td>3.790817</td>\n",
              "    </tr>\n",
              "    <tr>\n",
              "      <th>3</th>\n",
              "      <td>[3, 3]</td>\n",
              "      <td>1</td>\n",
              "      <td>0.631803</td>\n",
              "    </tr>\n",
              "  </tbody>\n",
              "</table>\n",
              "</div>\n",
              "    <div class=\"colab-df-buttons\">\n",
              "\n",
              "  <div class=\"colab-df-container\">\n",
              "    <button class=\"colab-df-convert\" onclick=\"convertToInteractive('df-0ca475af-d672-4368-913e-3cd43edc5aea')\"\n",
              "            title=\"Convert this dataframe to an interactive table.\"\n",
              "            style=\"display:none;\">\n",
              "\n",
              "  <svg xmlns=\"http://www.w3.org/2000/svg\" height=\"24px\" viewBox=\"0 -960 960 960\">\n",
              "    <path d=\"M120-120v-720h720v720H120Zm60-500h600v-160H180v160Zm220 220h160v-160H400v160Zm0 220h160v-160H400v160ZM180-400h160v-160H180v160Zm440 0h160v-160H620v160ZM180-180h160v-160H180v160Zm440 0h160v-160H620v160Z\"/>\n",
              "  </svg>\n",
              "    </button>\n",
              "\n",
              "  <style>\n",
              "    .colab-df-container {\n",
              "      display:flex;\n",
              "      gap: 12px;\n",
              "    }\n",
              "\n",
              "    .colab-df-convert {\n",
              "      background-color: #E8F0FE;\n",
              "      border: none;\n",
              "      border-radius: 50%;\n",
              "      cursor: pointer;\n",
              "      display: none;\n",
              "      fill: #1967D2;\n",
              "      height: 32px;\n",
              "      padding: 0 0 0 0;\n",
              "      width: 32px;\n",
              "    }\n",
              "\n",
              "    .colab-df-convert:hover {\n",
              "      background-color: #E2EBFA;\n",
              "      box-shadow: 0px 1px 2px rgba(60, 64, 67, 0.3), 0px 1px 3px 1px rgba(60, 64, 67, 0.15);\n",
              "      fill: #174EA6;\n",
              "    }\n",
              "\n",
              "    .colab-df-buttons div {\n",
              "      margin-bottom: 4px;\n",
              "    }\n",
              "\n",
              "    [theme=dark] .colab-df-convert {\n",
              "      background-color: #3B4455;\n",
              "      fill: #D2E3FC;\n",
              "    }\n",
              "\n",
              "    [theme=dark] .colab-df-convert:hover {\n",
              "      background-color: #434B5C;\n",
              "      box-shadow: 0px 1px 3px 1px rgba(0, 0, 0, 0.15);\n",
              "      filter: drop-shadow(0px 1px 2px rgba(0, 0, 0, 0.3));\n",
              "      fill: #FFFFFF;\n",
              "    }\n",
              "  </style>\n",
              "\n",
              "    <script>\n",
              "      const buttonEl =\n",
              "        document.querySelector('#df-0ca475af-d672-4368-913e-3cd43edc5aea button.colab-df-convert');\n",
              "      buttonEl.style.display =\n",
              "        google.colab.kernel.accessAllowed ? 'block' : 'none';\n",
              "\n",
              "      async function convertToInteractive(key) {\n",
              "        const element = document.querySelector('#df-0ca475af-d672-4368-913e-3cd43edc5aea');\n",
              "        const dataTable =\n",
              "          await google.colab.kernel.invokeFunction('convertToInteractive',\n",
              "                                                    [key], {});\n",
              "        if (!dataTable) return;\n",
              "\n",
              "        const docLinkHtml = 'Like what you see? Visit the ' +\n",
              "          '<a target=\"_blank\" href=https://colab.research.google.com/notebooks/data_table.ipynb>data table notebook</a>'\n",
              "          + ' to learn more about interactive tables.';\n",
              "        element.innerHTML = '';\n",
              "        dataTable['output_type'] = 'display_data';\n",
              "        await google.colab.output.renderOutput(dataTable, element);\n",
              "        const docLink = document.createElement('div');\n",
              "        docLink.innerHTML = docLinkHtml;\n",
              "        element.appendChild(docLink);\n",
              "      }\n",
              "    </script>\n",
              "  </div>\n",
              "\n",
              "\n",
              "<div id=\"df-f2d88aa3-2ae3-47cf-a53a-cfb30ff9ad1c\">\n",
              "  <button class=\"colab-df-quickchart\" onclick=\"quickchart('df-f2d88aa3-2ae3-47cf-a53a-cfb30ff9ad1c')\"\n",
              "            title=\"Suggest charts\"\n",
              "            style=\"display:none;\">\n",
              "\n",
              "<svg xmlns=\"http://www.w3.org/2000/svg\" height=\"24px\"viewBox=\"0 0 24 24\"\n",
              "     width=\"24px\">\n",
              "    <g>\n",
              "        <path d=\"M19 3H5c-1.1 0-2 .9-2 2v14c0 1.1.9 2 2 2h14c1.1 0 2-.9 2-2V5c0-1.1-.9-2-2-2zM9 17H7v-7h2v7zm4 0h-2V7h2v10zm4 0h-2v-4h2v4z\"/>\n",
              "    </g>\n",
              "</svg>\n",
              "  </button>\n",
              "\n",
              "<style>\n",
              "  .colab-df-quickchart {\n",
              "      --bg-color: #E8F0FE;\n",
              "      --fill-color: #1967D2;\n",
              "      --hover-bg-color: #E2EBFA;\n",
              "      --hover-fill-color: #174EA6;\n",
              "      --disabled-fill-color: #AAA;\n",
              "      --disabled-bg-color: #DDD;\n",
              "  }\n",
              "\n",
              "  [theme=dark] .colab-df-quickchart {\n",
              "      --bg-color: #3B4455;\n",
              "      --fill-color: #D2E3FC;\n",
              "      --hover-bg-color: #434B5C;\n",
              "      --hover-fill-color: #FFFFFF;\n",
              "      --disabled-bg-color: #3B4455;\n",
              "      --disabled-fill-color: #666;\n",
              "  }\n",
              "\n",
              "  .colab-df-quickchart {\n",
              "    background-color: var(--bg-color);\n",
              "    border: none;\n",
              "    border-radius: 50%;\n",
              "    cursor: pointer;\n",
              "    display: none;\n",
              "    fill: var(--fill-color);\n",
              "    height: 32px;\n",
              "    padding: 0;\n",
              "    width: 32px;\n",
              "  }\n",
              "\n",
              "  .colab-df-quickchart:hover {\n",
              "    background-color: var(--hover-bg-color);\n",
              "    box-shadow: 0 1px 2px rgba(60, 64, 67, 0.3), 0 1px 3px 1px rgba(60, 64, 67, 0.15);\n",
              "    fill: var(--button-hover-fill-color);\n",
              "  }\n",
              "\n",
              "  .colab-df-quickchart-complete:disabled,\n",
              "  .colab-df-quickchart-complete:disabled:hover {\n",
              "    background-color: var(--disabled-bg-color);\n",
              "    fill: var(--disabled-fill-color);\n",
              "    box-shadow: none;\n",
              "  }\n",
              "\n",
              "  .colab-df-spinner {\n",
              "    border: 2px solid var(--fill-color);\n",
              "    border-color: transparent;\n",
              "    border-bottom-color: var(--fill-color);\n",
              "    animation:\n",
              "      spin 1s steps(1) infinite;\n",
              "  }\n",
              "\n",
              "  @keyframes spin {\n",
              "    0% {\n",
              "      border-color: transparent;\n",
              "      border-bottom-color: var(--fill-color);\n",
              "      border-left-color: var(--fill-color);\n",
              "    }\n",
              "    20% {\n",
              "      border-color: transparent;\n",
              "      border-left-color: var(--fill-color);\n",
              "      border-top-color: var(--fill-color);\n",
              "    }\n",
              "    30% {\n",
              "      border-color: transparent;\n",
              "      border-left-color: var(--fill-color);\n",
              "      border-top-color: var(--fill-color);\n",
              "      border-right-color: var(--fill-color);\n",
              "    }\n",
              "    40% {\n",
              "      border-color: transparent;\n",
              "      border-right-color: var(--fill-color);\n",
              "      border-top-color: var(--fill-color);\n",
              "    }\n",
              "    60% {\n",
              "      border-color: transparent;\n",
              "      border-right-color: var(--fill-color);\n",
              "    }\n",
              "    80% {\n",
              "      border-color: transparent;\n",
              "      border-right-color: var(--fill-color);\n",
              "      border-bottom-color: var(--fill-color);\n",
              "    }\n",
              "    90% {\n",
              "      border-color: transparent;\n",
              "      border-bottom-color: var(--fill-color);\n",
              "    }\n",
              "  }\n",
              "</style>\n",
              "\n",
              "  <script>\n",
              "    async function quickchart(key) {\n",
              "      const quickchartButtonEl =\n",
              "        document.querySelector('#' + key + ' button');\n",
              "      quickchartButtonEl.disabled = true;  // To prevent multiple clicks.\n",
              "      quickchartButtonEl.classList.add('colab-df-spinner');\n",
              "      try {\n",
              "        const charts = await google.colab.kernel.invokeFunction(\n",
              "            'suggestCharts', [key], {});\n",
              "      } catch (error) {\n",
              "        console.error('Error during call to suggestCharts:', error);\n",
              "      }\n",
              "      quickchartButtonEl.classList.remove('colab-df-spinner');\n",
              "      quickchartButtonEl.classList.add('colab-df-quickchart-complete');\n",
              "    }\n",
              "    (() => {\n",
              "      let quickchartButtonEl =\n",
              "        document.querySelector('#df-f2d88aa3-2ae3-47cf-a53a-cfb30ff9ad1c button');\n",
              "      quickchartButtonEl.style.display =\n",
              "        google.colab.kernel.accessAllowed ? 'block' : 'none';\n",
              "    })();\n",
              "  </script>\n",
              "</div>\n",
              "    </div>\n",
              "  </div>\n"
            ]
          },
          "metadata": {},
          "execution_count": 176
        }
      ]
    },
    {
      "cell_type": "markdown",
      "source": [
        "Вычисление статистики  $\\hat{\\chi}^2$:"
      ],
      "metadata": {
        "id": "yORqsNFkIvvq"
      }
    },
    {
      "cell_type": "code",
      "source": [
        "np.sum(np.square(v - n * p)/(n * p))"
      ],
      "metadata": {
        "colab": {
          "base_uri": "https://localhost:8080/"
        },
        "id": "KezwhTQBg0nJ",
        "outputId": "9ab80eb6-835e-4c5f-bdaa-7054a7df5bda"
      },
      "execution_count": 177,
      "outputs": [
        {
          "output_type": "execute_result",
          "data": {
            "text/plain": [
              "3.4958601699396223"
            ]
          },
          "metadata": {},
          "execution_count": 177
        }
      ]
    },
    {
      "cell_type": "markdown",
      "source": [
        "$\\hat{\\chi}^2 ≈ 3.495$"
      ],
      "metadata": {
        "id": "xy9JbPhtLm3H"
      }
    },
    {
      "cell_type": "markdown",
      "source": [
        "Вычисление критического значения на уровне значимости $\\alpha_{1}$:"
      ],
      "metadata": {
        "id": "SAu6YwZiJD0x"
      }
    },
    {
      "cell_type": "code",
      "source": [
        "sps.chi2.ppf(1 - alpha_1, df = 3)"
      ],
      "metadata": {
        "colab": {
          "base_uri": "https://localhost:8080/"
        },
        "id": "710KIyddlAyD",
        "outputId": "a79fc83a-9955-4568-cb98-a137f73e3b90"
      },
      "execution_count": 178,
      "outputs": [
        {
          "output_type": "execute_result",
          "data": {
            "text/plain": [
              "4.64162767608745"
            ]
          },
          "metadata": {},
          "execution_count": 178
        }
      ]
    },
    {
      "cell_type": "markdown",
      "source": [
        "$x_{\\alpha1} = 4.6416$"
      ],
      "metadata": {
        "id": "kRsnXuWvL0Yo"
      }
    },
    {
      "cell_type": "markdown",
      "source": [
        "$\\hat{\\chi}^2 < x_{\\alpha1} ⇒ $ нулевая гипотеза не отвергается"
      ],
      "metadata": {
        "id": "ceNLAKSvL_gN"
      }
    },
    {
      "cell_type": "markdown",
      "source": [
        "Вычисление предельного уровня значимости, при котором ещё нет оснований отвергнуть нулевую гипотезу:"
      ],
      "metadata": {
        "id": "PavQf-CKMYqN"
      }
    },
    {
      "cell_type": "code",
      "source": [
        "1 - sps.chi2(3).cdf(3.4958601699396223)"
      ],
      "metadata": {
        "colab": {
          "base_uri": "https://localhost:8080/"
        },
        "id": "a3oeY4aOx0et",
        "outputId": "b5a9cf4b-d4e5-40cb-eeea-197861753117"
      },
      "execution_count": 179,
      "outputs": [
        {
          "output_type": "execute_result",
          "data": {
            "text/plain": [
              "0.3212994399342993"
            ]
          },
          "metadata": {},
          "execution_count": 179
        }
      ]
    },
    {
      "cell_type": "markdown",
      "source": [
        "$pvalue = 0.321$"
      ],
      "metadata": {
        "id": "yYVA2mTMMhav"
      }
    },
    {
      "cell_type": "markdown",
      "source": [
        "#### f) Построение критерия значимости $\\chi^2$ проверки сложной гипотезы согласия с распределением Пуассона. Проверка гипотезы на уровне значимости $\\alpha_1$. Вычисление наибольшего значения уровня значимости, на котором ещё нет оснований отвергнуть данную гипотезу"
      ],
      "metadata": {
        "id": "x5yc_Sl_p6Ie"
      }
    },
    {
      "cell_type": "markdown",
      "source": [
        "$X_1, X_2, \\dots, X_n \\sim \\mathbb{p_{\\theta}(x)}$.\n",
        "\n",
        "$H_0 : F \\in \\left\\{Pois(\\theta) : \\theta \\in \\Theta_0 \\right\\}$\n",
        "\n",
        " $H_A : F \\notin \\left\\{Pois(\\theta) : \\theta \\in \\Theta_0 \\right\\}$"
      ],
      "metadata": {
        "id": "hxg7H5ReN7K3"
      }
    },
    {
      "cell_type": "markdown",
      "source": [
        "Вычисление теоретических частот:"
      ],
      "metadata": {
        "id": "35VcgrvSNXoD"
      }
    },
    {
      "cell_type": "code",
      "source": [
        "x = [0, 1, 2, 3]\n",
        "p_1 = sps.poisson(ML_est).pmf(x)\n",
        "p_1"
      ],
      "metadata": {
        "colab": {
          "base_uri": "https://localhost:8080/"
        },
        "id": "DHtegRtip8Xy",
        "outputId": "e33a0a6b-1ee2-4858-fddc-6ae9f635003f"
      },
      "execution_count": 180,
      "outputs": [
        {
          "output_type": "execute_result",
          "data": {
            "text/plain": [
              "array([0.60653066, 0.30326533, 0.07581633, 0.01263606])"
            ]
          },
          "metadata": {},
          "execution_count": 180
        }
      ]
    },
    {
      "cell_type": "code",
      "source": [
        "pd.DataFrame({'interval':intervals, 'absolute frequences':v, 'theoretical frequences':p_1 * n})"
      ],
      "metadata": {
        "colab": {
          "base_uri": "https://localhost:8080/",
          "height": 0
        },
        "id": "Rt_DxUoayCnt",
        "outputId": "f4dfd260-2a33-4316-a46c-e818026ceb8c"
      },
      "execution_count": 181,
      "outputs": [
        {
          "output_type": "execute_result",
          "data": {
            "text/plain": [
              "  interval  absolute frequences  theoretical frequences\n",
              "0   [0, 1)                   33               30.326533\n",
              "1   [1, 2)                   10               15.163266\n",
              "2   [2, 3)                    6                3.790817\n",
              "3   [3, 3]                    1                0.631803"
            ],
            "text/html": [
              "\n",
              "  <div id=\"df-8c80c9dc-384f-4c98-bed6-6c5f20fcf11f\" class=\"colab-df-container\">\n",
              "    <div>\n",
              "<style scoped>\n",
              "    .dataframe tbody tr th:only-of-type {\n",
              "        vertical-align: middle;\n",
              "    }\n",
              "\n",
              "    .dataframe tbody tr th {\n",
              "        vertical-align: top;\n",
              "    }\n",
              "\n",
              "    .dataframe thead th {\n",
              "        text-align: right;\n",
              "    }\n",
              "</style>\n",
              "<table border=\"1\" class=\"dataframe\">\n",
              "  <thead>\n",
              "    <tr style=\"text-align: right;\">\n",
              "      <th></th>\n",
              "      <th>interval</th>\n",
              "      <th>absolute frequences</th>\n",
              "      <th>theoretical frequences</th>\n",
              "    </tr>\n",
              "  </thead>\n",
              "  <tbody>\n",
              "    <tr>\n",
              "      <th>0</th>\n",
              "      <td>[0, 1)</td>\n",
              "      <td>33</td>\n",
              "      <td>30.326533</td>\n",
              "    </tr>\n",
              "    <tr>\n",
              "      <th>1</th>\n",
              "      <td>[1, 2)</td>\n",
              "      <td>10</td>\n",
              "      <td>15.163266</td>\n",
              "    </tr>\n",
              "    <tr>\n",
              "      <th>2</th>\n",
              "      <td>[2, 3)</td>\n",
              "      <td>6</td>\n",
              "      <td>3.790817</td>\n",
              "    </tr>\n",
              "    <tr>\n",
              "      <th>3</th>\n",
              "      <td>[3, 3]</td>\n",
              "      <td>1</td>\n",
              "      <td>0.631803</td>\n",
              "    </tr>\n",
              "  </tbody>\n",
              "</table>\n",
              "</div>\n",
              "    <div class=\"colab-df-buttons\">\n",
              "\n",
              "  <div class=\"colab-df-container\">\n",
              "    <button class=\"colab-df-convert\" onclick=\"convertToInteractive('df-8c80c9dc-384f-4c98-bed6-6c5f20fcf11f')\"\n",
              "            title=\"Convert this dataframe to an interactive table.\"\n",
              "            style=\"display:none;\">\n",
              "\n",
              "  <svg xmlns=\"http://www.w3.org/2000/svg\" height=\"24px\" viewBox=\"0 -960 960 960\">\n",
              "    <path d=\"M120-120v-720h720v720H120Zm60-500h600v-160H180v160Zm220 220h160v-160H400v160Zm0 220h160v-160H400v160ZM180-400h160v-160H180v160Zm440 0h160v-160H620v160ZM180-180h160v-160H180v160Zm440 0h160v-160H620v160Z\"/>\n",
              "  </svg>\n",
              "    </button>\n",
              "\n",
              "  <style>\n",
              "    .colab-df-container {\n",
              "      display:flex;\n",
              "      gap: 12px;\n",
              "    }\n",
              "\n",
              "    .colab-df-convert {\n",
              "      background-color: #E8F0FE;\n",
              "      border: none;\n",
              "      border-radius: 50%;\n",
              "      cursor: pointer;\n",
              "      display: none;\n",
              "      fill: #1967D2;\n",
              "      height: 32px;\n",
              "      padding: 0 0 0 0;\n",
              "      width: 32px;\n",
              "    }\n",
              "\n",
              "    .colab-df-convert:hover {\n",
              "      background-color: #E2EBFA;\n",
              "      box-shadow: 0px 1px 2px rgba(60, 64, 67, 0.3), 0px 1px 3px 1px rgba(60, 64, 67, 0.15);\n",
              "      fill: #174EA6;\n",
              "    }\n",
              "\n",
              "    .colab-df-buttons div {\n",
              "      margin-bottom: 4px;\n",
              "    }\n",
              "\n",
              "    [theme=dark] .colab-df-convert {\n",
              "      background-color: #3B4455;\n",
              "      fill: #D2E3FC;\n",
              "    }\n",
              "\n",
              "    [theme=dark] .colab-df-convert:hover {\n",
              "      background-color: #434B5C;\n",
              "      box-shadow: 0px 1px 3px 1px rgba(0, 0, 0, 0.15);\n",
              "      filter: drop-shadow(0px 1px 2px rgba(0, 0, 0, 0.3));\n",
              "      fill: #FFFFFF;\n",
              "    }\n",
              "  </style>\n",
              "\n",
              "    <script>\n",
              "      const buttonEl =\n",
              "        document.querySelector('#df-8c80c9dc-384f-4c98-bed6-6c5f20fcf11f button.colab-df-convert');\n",
              "      buttonEl.style.display =\n",
              "        google.colab.kernel.accessAllowed ? 'block' : 'none';\n",
              "\n",
              "      async function convertToInteractive(key) {\n",
              "        const element = document.querySelector('#df-8c80c9dc-384f-4c98-bed6-6c5f20fcf11f');\n",
              "        const dataTable =\n",
              "          await google.colab.kernel.invokeFunction('convertToInteractive',\n",
              "                                                    [key], {});\n",
              "        if (!dataTable) return;\n",
              "\n",
              "        const docLinkHtml = 'Like what you see? Visit the ' +\n",
              "          '<a target=\"_blank\" href=https://colab.research.google.com/notebooks/data_table.ipynb>data table notebook</a>'\n",
              "          + ' to learn more about interactive tables.';\n",
              "        element.innerHTML = '';\n",
              "        dataTable['output_type'] = 'display_data';\n",
              "        await google.colab.output.renderOutput(dataTable, element);\n",
              "        const docLink = document.createElement('div');\n",
              "        docLink.innerHTML = docLinkHtml;\n",
              "        element.appendChild(docLink);\n",
              "      }\n",
              "    </script>\n",
              "  </div>\n",
              "\n",
              "\n",
              "<div id=\"df-741c3020-fa26-49a9-bbda-5eb5e909aea1\">\n",
              "  <button class=\"colab-df-quickchart\" onclick=\"quickchart('df-741c3020-fa26-49a9-bbda-5eb5e909aea1')\"\n",
              "            title=\"Suggest charts\"\n",
              "            style=\"display:none;\">\n",
              "\n",
              "<svg xmlns=\"http://www.w3.org/2000/svg\" height=\"24px\"viewBox=\"0 0 24 24\"\n",
              "     width=\"24px\">\n",
              "    <g>\n",
              "        <path d=\"M19 3H5c-1.1 0-2 .9-2 2v14c0 1.1.9 2 2 2h14c1.1 0 2-.9 2-2V5c0-1.1-.9-2-2-2zM9 17H7v-7h2v7zm4 0h-2V7h2v10zm4 0h-2v-4h2v4z\"/>\n",
              "    </g>\n",
              "</svg>\n",
              "  </button>\n",
              "\n",
              "<style>\n",
              "  .colab-df-quickchart {\n",
              "      --bg-color: #E8F0FE;\n",
              "      --fill-color: #1967D2;\n",
              "      --hover-bg-color: #E2EBFA;\n",
              "      --hover-fill-color: #174EA6;\n",
              "      --disabled-fill-color: #AAA;\n",
              "      --disabled-bg-color: #DDD;\n",
              "  }\n",
              "\n",
              "  [theme=dark] .colab-df-quickchart {\n",
              "      --bg-color: #3B4455;\n",
              "      --fill-color: #D2E3FC;\n",
              "      --hover-bg-color: #434B5C;\n",
              "      --hover-fill-color: #FFFFFF;\n",
              "      --disabled-bg-color: #3B4455;\n",
              "      --disabled-fill-color: #666;\n",
              "  }\n",
              "\n",
              "  .colab-df-quickchart {\n",
              "    background-color: var(--bg-color);\n",
              "    border: none;\n",
              "    border-radius: 50%;\n",
              "    cursor: pointer;\n",
              "    display: none;\n",
              "    fill: var(--fill-color);\n",
              "    height: 32px;\n",
              "    padding: 0;\n",
              "    width: 32px;\n",
              "  }\n",
              "\n",
              "  .colab-df-quickchart:hover {\n",
              "    background-color: var(--hover-bg-color);\n",
              "    box-shadow: 0 1px 2px rgba(60, 64, 67, 0.3), 0 1px 3px 1px rgba(60, 64, 67, 0.15);\n",
              "    fill: var(--button-hover-fill-color);\n",
              "  }\n",
              "\n",
              "  .colab-df-quickchart-complete:disabled,\n",
              "  .colab-df-quickchart-complete:disabled:hover {\n",
              "    background-color: var(--disabled-bg-color);\n",
              "    fill: var(--disabled-fill-color);\n",
              "    box-shadow: none;\n",
              "  }\n",
              "\n",
              "  .colab-df-spinner {\n",
              "    border: 2px solid var(--fill-color);\n",
              "    border-color: transparent;\n",
              "    border-bottom-color: var(--fill-color);\n",
              "    animation:\n",
              "      spin 1s steps(1) infinite;\n",
              "  }\n",
              "\n",
              "  @keyframes spin {\n",
              "    0% {\n",
              "      border-color: transparent;\n",
              "      border-bottom-color: var(--fill-color);\n",
              "      border-left-color: var(--fill-color);\n",
              "    }\n",
              "    20% {\n",
              "      border-color: transparent;\n",
              "      border-left-color: var(--fill-color);\n",
              "      border-top-color: var(--fill-color);\n",
              "    }\n",
              "    30% {\n",
              "      border-color: transparent;\n",
              "      border-left-color: var(--fill-color);\n",
              "      border-top-color: var(--fill-color);\n",
              "      border-right-color: var(--fill-color);\n",
              "    }\n",
              "    40% {\n",
              "      border-color: transparent;\n",
              "      border-right-color: var(--fill-color);\n",
              "      border-top-color: var(--fill-color);\n",
              "    }\n",
              "    60% {\n",
              "      border-color: transparent;\n",
              "      border-right-color: var(--fill-color);\n",
              "    }\n",
              "    80% {\n",
              "      border-color: transparent;\n",
              "      border-right-color: var(--fill-color);\n",
              "      border-bottom-color: var(--fill-color);\n",
              "    }\n",
              "    90% {\n",
              "      border-color: transparent;\n",
              "      border-bottom-color: var(--fill-color);\n",
              "    }\n",
              "  }\n",
              "</style>\n",
              "\n",
              "  <script>\n",
              "    async function quickchart(key) {\n",
              "      const quickchartButtonEl =\n",
              "        document.querySelector('#' + key + ' button');\n",
              "      quickchartButtonEl.disabled = true;  // To prevent multiple clicks.\n",
              "      quickchartButtonEl.classList.add('colab-df-spinner');\n",
              "      try {\n",
              "        const charts = await google.colab.kernel.invokeFunction(\n",
              "            'suggestCharts', [key], {});\n",
              "      } catch (error) {\n",
              "        console.error('Error during call to suggestCharts:', error);\n",
              "      }\n",
              "      quickchartButtonEl.classList.remove('colab-df-spinner');\n",
              "      quickchartButtonEl.classList.add('colab-df-quickchart-complete');\n",
              "    }\n",
              "    (() => {\n",
              "      let quickchartButtonEl =\n",
              "        document.querySelector('#df-741c3020-fa26-49a9-bbda-5eb5e909aea1 button');\n",
              "      quickchartButtonEl.style.display =\n",
              "        google.colab.kernel.accessAllowed ? 'block' : 'none';\n",
              "    })();\n",
              "  </script>\n",
              "</div>\n",
              "    </div>\n",
              "  </div>\n"
            ]
          },
          "metadata": {},
          "execution_count": 181
        }
      ]
    },
    {
      "cell_type": "markdown",
      "source": [
        "Вычисление статистики  $\\hat{\\chi}^2$:"
      ],
      "metadata": {
        "id": "TYr-F-yYOmYI"
      }
    },
    {
      "cell_type": "code",
      "source": [
        "np.sum(np.square(v - n * p_1)/(n * p_1))"
      ],
      "metadata": {
        "colab": {
          "base_uri": "https://localhost:8080/"
        },
        "id": "1i0BA4P9yIEt",
        "outputId": "f0fdcae3-4d4f-4255-e250-a95c3316ef58"
      },
      "execution_count": 182,
      "outputs": [
        {
          "output_type": "execute_result",
          "data": {
            "text/plain": [
              "3.4958601699396223"
            ]
          },
          "metadata": {},
          "execution_count": 182
        }
      ]
    },
    {
      "cell_type": "markdown",
      "source": [
        "$\\hat{\\chi}^2 ≈ 3.495$"
      ],
      "metadata": {
        "id": "xVZNEc-SOrmU"
      }
    },
    {
      "cell_type": "code",
      "source": [
        "sps.chi2.ppf(1 - alpha_1, df = 3)"
      ],
      "metadata": {
        "colab": {
          "base_uri": "https://localhost:8080/"
        },
        "id": "cSKYaPApyMXR",
        "outputId": "b22eced3-1c0f-4daa-c2c7-7164381ada68"
      },
      "execution_count": 183,
      "outputs": [
        {
          "output_type": "execute_result",
          "data": {
            "text/plain": [
              "4.64162767608745"
            ]
          },
          "metadata": {},
          "execution_count": 183
        }
      ]
    },
    {
      "cell_type": "markdown",
      "source": [
        "$x_{\\alpha1} = 4.6416$"
      ],
      "metadata": {
        "id": "8p_r5H6qOwou"
      }
    },
    {
      "cell_type": "markdown",
      "source": [
        "$\\hat{\\chi}^2 < x_{\\alpha1} ⇒ $ нулевая гипотеза не отвергается"
      ],
      "metadata": {
        "id": "qZubR2DXa6vg"
      }
    },
    {
      "cell_type": "markdown",
      "source": [
        "Критический уровень значимости, когда гипотеза еще не отвергается:"
      ],
      "metadata": {
        "id": "CPw34_jkbKC0"
      }
    },
    {
      "cell_type": "code",
      "source": [
        "1 - sps.chi2(3).cdf(53.33228060989745)"
      ],
      "metadata": {
        "colab": {
          "base_uri": "https://localhost:8080/"
        },
        "id": "wvdRZ_vOyQVb",
        "outputId": "6bda1a1e-2d3e-4ce2-99db-f5c96e1f74f9"
      },
      "execution_count": 184,
      "outputs": [
        {
          "output_type": "execute_result",
          "data": {
            "text/plain": [
              "1.5574097567139233e-11"
            ]
          },
          "metadata": {},
          "execution_count": 184
        }
      ]
    },
    {
      "cell_type": "markdown",
      "source": [
        "$pvalue = 1.5574097567139233e-11$"
      ],
      "metadata": {
        "id": "K1d95N35a9Xm"
      }
    },
    {
      "cell_type": "markdown",
      "source": [
        "#### g)Построение наиболее мощного критерия проверки простой гипотезы пуассоновости с параметром $\\lambda = \\lambda_{0}$  при альтернативе пуассоновости с параметром $\\lambda = \\lambda_{1}$. Проверка гипотезы на уровне значимости $\\alpha_{1}$."
      ],
      "metadata": {
        "id": "h1zJ480SHVvx"
      }
    },
    {
      "cell_type": "markdown",
      "source": [
        " $H_0 : \\lambda = \\lambda_0$\n",
        "\n",
        " $H_A : \\lambda = \\lambda_1$\n",
        "\n",
        "Функция правдоподобия имеет вид:\n",
        "\n",
        "$L\\left(\\overrightarrow{X}, \\theta\\right) = \\prod_{i=1}^{n}\\frac{\\lambda^{x_i}}{x_i!}\\exp(-\\lambda) = \\exp(-n\\lambda)\\lambda^{\\sum_{i=1}^{n}{x_i}}\\prod_{i=1}^{n}\\frac{1}{x_i!}$\n",
        "\n",
        "Статистика отношения правдоподобия:\n",
        "\n",
        "$LR\\left(\\overrightarrow{X}, \\lambda_0, \\lambda_1\\right) = \\frac{L\\left(\\overrightarrow{X}, \\lambda_1\\right)}{L\\left(\\overrightarrow{X}, \\lambda_0\\right)} = \\exp(-n(\\lambda_1 - \\lambda_0))\\left(\\frac{\\lambda_1}{\\lambda_0}\\right)^{\\sum_{i=1}^{n}{x_i}}$\n",
        "\n",
        "\n",
        "$LR\\left(\\overrightarrow{X}\\right) = \\exp(-n(\\lambda_1 - \\lambda_0))\\left(\\frac{\\lambda_1}{\\lambda_0}\\right)^{\\sum_{i=1}^{n}{x_i}} > c \\iff -n(\\lambda_1 - \\lambda_0) + \\sum_{i=1}^{n}{x_i} \\ln\\frac{\\lambda_1}{\\lambda_0} > \\ln c \\iff \\bar{X} > \\frac{\\ln c + n(\\lambda_1 - \\lambda_0)}{n\\ln\\frac{\\lambda_1}{\\lambda_0}} = c^*$\n",
        "\n",
        "$LR\\left(\\overrightarrow{X}\\right) < c \\iff \\bar{X} < c^*$\n",
        "\n",
        "$P_{\\lambda_0}\\left(LR(\\overrightarrow{X}) > c\\right) + pP_{\\lambda_0}\\left(LR(\\overrightarrow{X}) = c\\right) = \\alpha_1$\n",
        "\n",
        "$P_{\\lambda_0}\\left(n\\bar{X} > nc^*\\right) + pP_{\\lambda_0}\\left(n\\bar{X} = nc^*\\right) = \\alpha_1$\n",
        "\n",
        "Критерий не определен однозначно при $LR(\\overrightarrow{X}) = c$\n",
        "\n",
        "Пусть $LR(\\overrightarrow{X}) \\neq c$\n",
        "\n",
        "Тогда $P_{\\lambda_0}\\left(n\\bar{X} > nc^*\\right) = 1 - F_{Pois(n\\lambda_0)}\\left(nc^*\\right) = \\alpha_1$\n",
        "\n",
        "$F_{Pois(n\\lambda_0)}\\left(nc^*\\right) = 1 - \\alpha_1 = 0.8$"
      ],
      "metadata": {
        "id": "rD_l80Wl-NcS"
      }
    },
    {
      "cell_type": "code",
      "source": [
        "print(\"c* = \", sps.poisson.ppf(0.8, 50*lambda_0) / 50)"
      ],
      "metadata": {
        "colab": {
          "base_uri": "https://localhost:8080/"
        },
        "id": "VP-rZoQQ-96b",
        "outputId": "fbfbd4f9-2193-4d13-bada-c47d16b858e6"
      },
      "execution_count": 185,
      "outputs": [
        {
          "output_type": "stream",
          "name": "stdout",
          "text": [
            "c* =  0.58\n"
          ]
        }
      ]
    },
    {
      "cell_type": "markdown",
      "source": [
        "$c^* = 0.58$\n",
        "\n",
        "$\\bar{X} = 0.5$\n",
        "\n",
        "$c^* > \\bar{X}$ $⇒$ гипотеза $H_0$ не отвергается."
      ],
      "metadata": {
        "id": "9DZmoclR_GZ2"
      }
    },
    {
      "cell_type": "markdown",
      "source": [
        "#### h)Замена распределения пуассона на семейство геометрических распределений\n",
        "\n",
        "$q_{\\theta}(x) = \\frac{\\lambda^k}{(\\lambda + 1)^{k+1}}$, где $x \\in \\mathbb{Z}_{+}$"
      ],
      "metadata": {
        "id": "egnGvizRzXwb"
      }
    },
    {
      "cell_type": "markdown",
      "source": [
        "##### h.c) ОМП и ОММ"
      ],
      "metadata": {
        "id": "QQ5-EeHwGikI"
      }
    },
    {
      "cell_type": "markdown",
      "source": [
        "\n",
        "\n",
        "\n",
        "\n",
        "Оценка методом максимального правдоподобия:\n",
        "\n",
        "$L\\left(\\overrightarrow{X}, \\theta\\right) = \\prod_{i=1}^{n}\\frac{\\lambda^{x_i}}{(\\lambda + 1)^{x_i+1}} = \\frac{\\lambda^{\\sum_{i=1}^{n}x_i}}{(\\lambda + 1)^{n + \\sum_{i=1}^{n}x_i}}$\n",
        "\n",
        "$LL\\left(\\overrightarrow{X}, \\theta\\right) = \\sum_{i=1}^{n}x_i\\ \\ln\\lambda - \\left(n + \\sum_{i=1}^{n}x_i\\right)\\ln(\\lambda+1)$\n",
        "\n",
        "$\\frac{\\partial LL\\left(\\overrightarrow X,\\ \\theta\\right)}{\\partial \\theta} = \\frac{\\sum_{i=1}^{n}x_i}{\\lambda} - \\frac{n + \\sum_{i=1}^{n}x_i}{\\lambda + 1} = 0 \\implies n\\lambda+\\lambda\\sum_{i=1}^{n}x_i = \\lambda\\sum_{i=1}^{n}x_i + \\sum_{i=1}^{n}x_i \\implies \\hat{\\theta} = \\hat{\\lambda} = \\bar{X}$\n",
        "\n",
        "Смещение:\n",
        "\n",
        "$\\mathbb{E}_\\theta\\hat{\\lambda} = \\mathbb{E}_\\theta\\bar{X} = \\frac{1}{n}\\mathbb{E}_\\theta\\sum_{i=1}^{n}x_i = \\frac{1}{n}\\sum_{i=1}^{n}\\mathbb{E}_\\theta x_i = \\mathbb{E}_\\theta x_1 = \\sum_{i=1}^{\\infty}x_i\\frac{\\lambda^{x_i}}{(\\lambda + 1)^{x_i + 1}} = \\lim_{n \\to \\infty} \\sum_{i=1}^{n}x_i\\frac{\\lambda^{x_i}}{(\\lambda + 1)^{x_i + 1}} = \\\\ = \\lim_{n \\to \\infty} \\sum_{x=0}^{n-1}x\\frac{\\lambda^{x}}{(\\lambda + 1)^{x + 1}} = \\lim_{n \\to \\infty} \\left(\\lambda - \\lambda\\left(\\frac{\\lambda}{\\lambda + 1}\\right)^{n} - n\\left(\\frac{\\lambda}{\\lambda + 1}\\right)^{n}\\right) = \\lambda \\implies$\n",
        "\n",
        "$\\implies$ оценка несмещенная\n",
        "\n",
        "Оценка по методу моментов:\n",
        "\n",
        "$\\mathbb{E}_\\theta X_1 = \\lambda$\n",
        "\n",
        "$M_1 = \\frac{1}{n}\\sum_{i=1}^{n}x_i = \\bar{X}$\n",
        "\n",
        "Решаем уравнение: $\\lambda = \\bar{X} \\implies \\hat{\\lambda} = \\bar{X}$\n",
        "\n",
        "Так как ОМП = ОММ, то ОММ тоже несмещенная."
      ],
      "metadata": {
        "id": "t9wQNMUNekwO"
      }
    },
    {
      "cell_type": "markdown",
      "source": [
        "ОМП и ОММ оценка:"
      ],
      "metadata": {
        "id": "oJSMXUJvhqba"
      }
    },
    {
      "cell_type": "code",
      "source": [
        "ML_est = np.mean(data)\n",
        "ML_est"
      ],
      "metadata": {
        "colab": {
          "base_uri": "https://localhost:8080/"
        },
        "id": "0j9y-yOFhtpO",
        "outputId": "bc8685e0-499b-435f-c86c-00a761dd619d"
      },
      "execution_count": 186,
      "outputs": [
        {
          "output_type": "execute_result",
          "data": {
            "text/plain": [
              "0.5"
            ]
          },
          "metadata": {},
          "execution_count": 186
        }
      ]
    },
    {
      "cell_type": "markdown",
      "source": [
        "##### h.d) Асимптотический доверительный интервал"
      ],
      "metadata": {
        "id": "d0qZj0zuGloh"
      }
    },
    {
      "cell_type": "markdown",
      "source": [
        "\n",
        "$\\sqrt{n}\\left(\\bar{X} - \\theta\\right) \\sim \\mathcal{N} \\left(0, \\frac{1}{I(\\theta))}\\right)$\n",
        "\n",
        "$I_n(\\theta) = -\\mathbb{E}_{\\theta}\\frac{\\partial^2 LL\\left(\\overrightarrow X,\\ \\theta\\right)}{\\partial \\theta^2} = \\mathbb{E}_{\\theta}\\left(\\frac{\\sum_{i=1}^{n}{x_i}}{\\lambda^2} - \\frac{n + \\sum_{i=1}^{n}{x_i}}{(\\lambda + 1)^2}\\right) = \\frac{1}{\\lambda^2}\\sum_{i=1}^{n}\\mathbb{E}_{\\theta}{x_i} - \\frac{1}{(\\lambda+1)^2}\\sum_{i=1}^{n}\\mathbb{E}_{\\theta}{x_i} - \\frac{n}{(\\lambda+1)^2} = \\frac{n}{\\lambda} - \\frac{n\\lambda}{(\\lambda+1)^2} - \\frac{n}{(\\lambda+1)^2}$\n",
        "\n",
        "$I(\\theta) = {\\lim_{n \\to \\infty}}\\frac{1}{\\lambda} - \\frac{\\lambda}{(\\lambda+1)^2} - \\frac{1}{(\\lambda+1)^2} = \\frac{1}{\\lambda} - \\frac{1}{\\lambda+1}$\n",
        "\n",
        "$I(\\hat{\\theta}) = \\frac{1}{\\bar{X}} - \\frac{1}{1 + \\bar{X}} = \\frac{1}{\\bar{X}(\\bar{X} + 1)}$\n",
        "\n",
        "$\\sqrt{\\frac{n}{\\bar{X}(\\bar{X} + 1)}}\\left(\\bar{X} - \\theta\\right) \\sim \\mathcal{N} \\left(0, 1\\right)$\n",
        "\n",
        "$\\alpha_{1} = 0.2$\n",
        "\n",
        "$x_\\alpha:$ $\\Phi(x_\\alpha) = 1 - \\frac{\\alpha}{2} = 0.9$"
      ],
      "metadata": {
        "id": "CIRDbyGbjwgM"
      }
    },
    {
      "cell_type": "code",
      "source": [
        "print(sps.norm.ppf(0.9))"
      ],
      "metadata": {
        "colab": {
          "base_uri": "https://localhost:8080/"
        },
        "id": "9-bOVvF_lLDB",
        "outputId": "341e5fce-d747-4af5-f8a9-23d02dd80523"
      },
      "execution_count": 187,
      "outputs": [
        {
          "output_type": "stream",
          "name": "stdout",
          "text": [
            "1.2815515655446004\n"
          ]
        }
      ]
    },
    {
      "cell_type": "markdown",
      "source": [
        "$x_{\\alpha} = 1.28$"
      ],
      "metadata": {
        "id": "U_KVCnitlTUs"
      }
    },
    {
      "cell_type": "markdown",
      "source": [
        "Тогда $P_\\theta\\left(-x_\\alpha \\le \\sqrt{\\frac{n}{\\bar{X}(\\bar{X} + 1)}}\\left(\\bar{X} - \\theta\\right) \\le x_\\alpha\\right) \\approx 1 - \\alpha = 0.9$\n",
        "\n",
        "$\\left[\\bar{X} - x_\\alpha\\sqrt{\\frac{\\bar{X}(\\bar{X}+1)}{n}}, \\bar{X} + x_\\alpha\\sqrt{\\frac{\\bar{X}(\\bar{X}+1)}{n}}\\right] \\ni \\lambda$\n",
        "\n",
        "$\\left[0.5 - 1.28\\sqrt{\\frac{0.5(0.5+1)}{50}}, 0.5 + 1.28\\sqrt{\\frac{0.5(0.5+1)}{50}}\\right] \\ni \\lambda$\n",
        "\n",
        "$\\left[0.34,0.65 \\right] \\ni \\lambda$\n",
        "\n"
      ],
      "metadata": {
        "id": "IWoTbLkVlSNp"
      }
    },
    {
      "cell_type": "markdown",
      "source": [
        "##### h.e) Построение критерия значимости $\\chi^2$ проверки простой гипотезы согласия с распределением Пуассона с параметром  $\\lambda_0$. Проверка гипотезы на уровне значимости $\\alpha_1$. Вычисление наибольшего значения уровня значимости, на котором ещё нет оснований отвергнуть данную гипотезу"
      ],
      "metadata": {
        "id": "ggBH2t1RGoEn"
      }
    },
    {
      "cell_type": "markdown",
      "source": [
        "$X_1, X_2, \\dots, X_n \\sim \\mathbb{p_{\\theta}(x)}$.\n",
        "\n",
        "$H_0 : p \\equiv Pois(\\lambda_0)$\n",
        "\n",
        "$H_A : \\exists x : \\mathbb{p_{\\theta}(x)} \\neq p_{Pois(\\lambda_0)}(x)$\n",
        "\n",
        " Оценка параметра - ОМП: $\\hat{\\theta} = \\bar{X}$"
      ],
      "metadata": {
        "id": "8p7x9845nAjF"
      }
    },
    {
      "cell_type": "code",
      "source": [
        "class Geom(): #класс распределения\n",
        "    def __init__(self, p):\n",
        "        self.p = p\n",
        "    def pmf(self, x):\n",
        "        return self.p**x/(self.p + 1)**(x+1)"
      ],
      "metadata": {
        "id": "RqZuXmVnzc4f"
      },
      "execution_count": 188,
      "outputs": []
    },
    {
      "cell_type": "code",
      "source": [
        "geom = Geom(lambda_0)\n",
        "x = np.arange(0,10)\n",
        "plt.plot(x, geom.pmf(x))\n",
        "plt.title('график распределения из геометрического семейства')\n",
        "plt.show()"
      ],
      "metadata": {
        "colab": {
          "base_uri": "https://localhost:8080/",
          "height": 452
        },
        "id": "7r1nAbGLBSG1",
        "outputId": "619cb99e-13fb-4da8-ba97-07ec4bad6964"
      },
      "execution_count": 189,
      "outputs": [
        {
          "output_type": "display_data",
          "data": {
            "text/plain": [
              "<Figure size 640x480 with 1 Axes>"
            ],
            "image/png": "[encoded data removed]"
          },
          "metadata": {}
        }
      ]
    },
    {
      "cell_type": "markdown",
      "source": [
        "Теоретические ччастоты:"
      ],
      "metadata": {
        "id": "ya_LnnZEnGL6"
      }
    },
    {
      "cell_type": "code",
      "source": [
        "x = np.array([0, 1, 2, 3])\n",
        "p = geom.pmf(x)\n",
        "p"
      ],
      "metadata": {
        "colab": {
          "base_uri": "https://localhost:8080/"
        },
        "id": "d5MxmIWtBY-S",
        "outputId": "244c3e62-f895-40a4-af16-767acdf76715"
      },
      "execution_count": 190,
      "outputs": [
        {
          "output_type": "execute_result",
          "data": {
            "text/plain": [
              "array([0.66666667, 0.22222222, 0.07407407, 0.02469136])"
            ]
          },
          "metadata": {},
          "execution_count": 190
        }
      ]
    },
    {
      "cell_type": "code",
      "source": [
        "pd.DataFrame({'interval':intervals, 'absolute frequences':v, 'theoretical frequences':p * n})"
      ],
      "metadata": {
        "colab": {
          "base_uri": "https://localhost:8080/",
          "height": 175
        },
        "id": "nJa76VtaDOXR",
        "outputId": "e79c937f-7f94-4c86-bbe0-c188ac5405b6"
      },
      "execution_count": 191,
      "outputs": [
        {
          "output_type": "execute_result",
          "data": {
            "text/plain": [
              "  interval  absolute frequences  theoretical frequences\n",
              "0   [0, 1)                   33               33.333333\n",
              "1   [1, 2)                   10               11.111111\n",
              "2   [2, 3)                    6                3.703704\n",
              "3   [3, 3]                    1                1.234568"
            ],
            "text/html": [
              "\n",
              "  <div id=\"df-b6626b51-0a1e-4d75-a305-afe621484c6a\" class=\"colab-df-container\">\n",
              "    <div>\n",
              "<style scoped>\n",
              "    .dataframe tbody tr th:only-of-type {\n",
              "        vertical-align: middle;\n",
              "    }\n",
              "\n",
              "    .dataframe tbody tr th {\n",
              "        vertical-align: top;\n",
              "    }\n",
              "\n",
              "    .dataframe thead th {\n",
              "        text-align: right;\n",
              "    }\n",
              "</style>\n",
              "<table border=\"1\" class=\"dataframe\">\n",
              "  <thead>\n",
              "    <tr style=\"text-align: right;\">\n",
              "      <th></th>\n",
              "      <th>interval</th>\n",
              "      <th>absolute frequences</th>\n",
              "      <th>theoretical frequences</th>\n",
              "    </tr>\n",
              "  </thead>\n",
              "  <tbody>\n",
              "    <tr>\n",
              "      <th>0</th>\n",
              "      <td>[0, 1)</td>\n",
              "      <td>33</td>\n",
              "      <td>33.333333</td>\n",
              "    </tr>\n",
              "    <tr>\n",
              "      <th>1</th>\n",
              "      <td>[1, 2)</td>\n",
              "      <td>10</td>\n",
              "      <td>11.111111</td>\n",
              "    </tr>\n",
              "    <tr>\n",
              "      <th>2</th>\n",
              "      <td>[2, 3)</td>\n",
              "      <td>6</td>\n",
              "      <td>3.703704</td>\n",
              "    </tr>\n",
              "    <tr>\n",
              "      <th>3</th>\n",
              "      <td>[3, 3]</td>\n",
              "      <td>1</td>\n",
              "      <td>1.234568</td>\n",
              "    </tr>\n",
              "  </tbody>\n",
              "</table>\n",
              "</div>\n",
              "    <div class=\"colab-df-buttons\">\n",
              "\n",
              "  <div class=\"colab-df-container\">\n",
              "    <button class=\"colab-df-convert\" onclick=\"convertToInteractive('df-b6626b51-0a1e-4d75-a305-afe621484c6a')\"\n",
              "            title=\"Convert this dataframe to an interactive table.\"\n",
              "            style=\"display:none;\">\n",
              "\n",
              "  <svg xmlns=\"http://www.w3.org/2000/svg\" height=\"24px\" viewBox=\"0 -960 960 960\">\n",
              "    <path d=\"M120-120v-720h720v720H120Zm60-500h600v-160H180v160Zm220 220h160v-160H400v160Zm0 220h160v-160H400v160ZM180-400h160v-160H180v160Zm440 0h160v-160H620v160ZM180-180h160v-160H180v160Zm440 0h160v-160H620v160Z\"/>\n",
              "  </svg>\n",
              "    </button>\n",
              "\n",
              "  <style>\n",
              "    .colab-df-container {\n",
              "      display:flex;\n",
              "      gap: 12px;\n",
              "    }\n",
              "\n",
              "    .colab-df-convert {\n",
              "      background-color: #E8F0FE;\n",
              "      border: none;\n",
              "      border-radius: 50%;\n",
              "      cursor: pointer;\n",
              "      display: none;\n",
              "      fill: #1967D2;\n",
              "      height: 32px;\n",
              "      padding: 0 0 0 0;\n",
              "      width: 32px;\n",
              "    }\n",
              "\n",
              "    .colab-df-convert:hover {\n",
              "      background-color: #E2EBFA;\n",
              "      box-shadow: 0px 1px 2px rgba(60, 64, 67, 0.3), 0px 1px 3px 1px rgba(60, 64, 67, 0.15);\n",
              "      fill: #174EA6;\n",
              "    }\n",
              "\n",
              "    .colab-df-buttons div {\n",
              "      margin-bottom: 4px;\n",
              "    }\n",
              "\n",
              "    [theme=dark] .colab-df-convert {\n",
              "      background-color: #3B4455;\n",
              "      fill: #D2E3FC;\n",
              "    }\n",
              "\n",
              "    [theme=dark] .colab-df-convert:hover {\n",
              "      background-color: #434B5C;\n",
              "      box-shadow: 0px 1px 3px 1px rgba(0, 0, 0, 0.15);\n",
              "      filter: drop-shadow(0px 1px 2px rgba(0, 0, 0, 0.3));\n",
              "      fill: #FFFFFF;\n",
              "    }\n",
              "  </style>\n",
              "\n",
              "    <script>\n",
              "      const buttonEl =\n",
              "        document.querySelector('#df-b6626b51-0a1e-4d75-a305-afe621484c6a button.colab-df-convert');\n",
              "      buttonEl.style.display =\n",
              "        google.colab.kernel.accessAllowed ? 'block' : 'none';\n",
              "\n",
              "      async function convertToInteractive(key) {\n",
              "        const element = document.querySelector('#df-b6626b51-0a1e-4d75-a305-afe621484c6a');\n",
              "        const dataTable =\n",
              "          await google.colab.kernel.invokeFunction('convertToInteractive',\n",
              "                                                    [key], {});\n",
              "        if (!dataTable) return;\n",
              "\n",
              "        const docLinkHtml = 'Like what you see? Visit the ' +\n",
              "          '<a target=\"_blank\" href=https://colab.research.google.com/notebooks/data_table.ipynb>data table notebook</a>'\n",
              "          + ' to learn more about interactive tables.';\n",
              "        element.innerHTML = '';\n",
              "        dataTable['output_type'] = 'display_data';\n",
              "        await google.colab.output.renderOutput(dataTable, element);\n",
              "        const docLink = document.createElement('div');\n",
              "        docLink.innerHTML = docLinkHtml;\n",
              "        element.appendChild(docLink);\n",
              "      }\n",
              "    </script>\n",
              "  </div>\n",
              "\n",
              "\n",
              "<div id=\"df-d9567b68-e212-4007-9463-3498ebdab032\">\n",
              "  <button class=\"colab-df-quickchart\" onclick=\"quickchart('df-d9567b68-e212-4007-9463-3498ebdab032')\"\n",
              "            title=\"Suggest charts\"\n",
              "            style=\"display:none;\">\n",
              "\n",
              "<svg xmlns=\"http://www.w3.org/2000/svg\" height=\"24px\"viewBox=\"0 0 24 24\"\n",
              "     width=\"24px\">\n",
              "    <g>\n",
              "        <path d=\"M19 3H5c-1.1 0-2 .9-2 2v14c0 1.1.9 2 2 2h14c1.1 0 2-.9 2-2V5c0-1.1-.9-2-2-2zM9 17H7v-7h2v7zm4 0h-2V7h2v10zm4 0h-2v-4h2v4z\"/>\n",
              "    </g>\n",
              "</svg>\n",
              "  </button>\n",
              "\n",
              "<style>\n",
              "  .colab-df-quickchart {\n",
              "      --bg-color: #E8F0FE;\n",
              "      --fill-color: #1967D2;\n",
              "      --hover-bg-color: #E2EBFA;\n",
              "      --hover-fill-color: #174EA6;\n",
              "      --disabled-fill-color: #AAA;\n",
              "      --disabled-bg-color: #DDD;\n",
              "  }\n",
              "\n",
              "  [theme=dark] .colab-df-quickchart {\n",
              "      --bg-color: #3B4455;\n",
              "      --fill-color: #D2E3FC;\n",
              "      --hover-bg-color: #434B5C;\n",
              "      --hover-fill-color: #FFFFFF;\n",
              "      --disabled-bg-color: #3B4455;\n",
              "      --disabled-fill-color: #666;\n",
              "  }\n",
              "\n",
              "  .colab-df-quickchart {\n",
              "    background-color: var(--bg-color);\n",
              "    border: none;\n",
              "    border-radius: 50%;\n",
              "    cursor: pointer;\n",
              "    display: none;\n",
              "    fill: var(--fill-color);\n",
              "    height: 32px;\n",
              "    padding: 0;\n",
              "    width: 32px;\n",
              "  }\n",
              "\n",
              "  .colab-df-quickchart:hover {\n",
              "    background-color: var(--hover-bg-color);\n",
              "    box-shadow: 0 1px 2px rgba(60, 64, 67, 0.3), 0 1px 3px 1px rgba(60, 64, 67, 0.15);\n",
              "    fill: var(--button-hover-fill-color);\n",
              "  }\n",
              "\n",
              "  .colab-df-quickchart-complete:disabled,\n",
              "  .colab-df-quickchart-complete:disabled:hover {\n",
              "    background-color: var(--disabled-bg-color);\n",
              "    fill: var(--disabled-fill-color);\n",
              "    box-shadow: none;\n",
              "  }\n",
              "\n",
              "  .colab-df-spinner {\n",
              "    border: 2px solid var(--fill-color);\n",
              "    border-color: transparent;\n",
              "    border-bottom-color: var(--fill-color);\n",
              "    animation:\n",
              "      spin 1s steps(1) infinite;\n",
              "  }\n",
              "\n",
              "  @keyframes spin {\n",
              "    0% {\n",
              "      border-color: transparent;\n",
              "      border-bottom-color: var(--fill-color);\n",
              "      border-left-color: var(--fill-color);\n",
              "    }\n",
              "    20% {\n",
              "      border-color: transparent;\n",
              "      border-left-color: var(--fill-color);\n",
              "      border-top-color: var(--fill-color);\n",
              "    }\n",
              "    30% {\n",
              "      border-color: transparent;\n",
              "      border-left-color: var(--fill-color);\n",
              "      border-top-color: var(--fill-color);\n",
              "      border-right-color: var(--fill-color);\n",
              "    }\n",
              "    40% {\n",
              "      border-color: transparent;\n",
              "      border-right-color: var(--fill-color);\n",
              "      border-top-color: var(--fill-color);\n",
              "    }\n",
              "    60% {\n",
              "      border-color: transparent;\n",
              "      border-right-color: var(--fill-color);\n",
              "    }\n",
              "    80% {\n",
              "      border-color: transparent;\n",
              "      border-right-color: var(--fill-color);\n",
              "      border-bottom-color: var(--fill-color);\n",
              "    }\n",
              "    90% {\n",
              "      border-color: transparent;\n",
              "      border-bottom-color: var(--fill-color);\n",
              "    }\n",
              "  }\n",
              "</style>\n",
              "\n",
              "  <script>\n",
              "    async function quickchart(key) {\n",
              "      const quickchartButtonEl =\n",
              "        document.querySelector('#' + key + ' button');\n",
              "      quickchartButtonEl.disabled = true;  // To prevent multiple clicks.\n",
              "      quickchartButtonEl.classList.add('colab-df-spinner');\n",
              "      try {\n",
              "        const charts = await google.colab.kernel.invokeFunction(\n",
              "            'suggestCharts', [key], {});\n",
              "      } catch (error) {\n",
              "        console.error('Error during call to suggestCharts:', error);\n",
              "      }\n",
              "      quickchartButtonEl.classList.remove('colab-df-spinner');\n",
              "      quickchartButtonEl.classList.add('colab-df-quickchart-complete');\n",
              "    }\n",
              "    (() => {\n",
              "      let quickchartButtonEl =\n",
              "        document.querySelector('#df-d9567b68-e212-4007-9463-3498ebdab032 button');\n",
              "      quickchartButtonEl.style.display =\n",
              "        google.colab.kernel.accessAllowed ? 'block' : 'none';\n",
              "    })();\n",
              "  </script>\n",
              "</div>\n",
              "    </div>\n",
              "  </div>\n"
            ]
          },
          "metadata": {},
          "execution_count": 191
        }
      ]
    },
    {
      "cell_type": "markdown",
      "source": [
        "Вычисление статистики  $\\hat{\\chi}^2$:"
      ],
      "metadata": {
        "id": "ebYEwiM5nMVN"
      }
    },
    {
      "cell_type": "code",
      "source": [
        "np.sum(np.square(v - n * p)/(n * p))"
      ],
      "metadata": {
        "colab": {
          "base_uri": "https://localhost:8080/"
        },
        "id": "HDFoZ0LbDri3",
        "outputId": "973ca757-bd95-4ce6-d07e-ae63ae380fd8"
      },
      "execution_count": 192,
      "outputs": [
        {
          "output_type": "execute_result",
          "data": {
            "text/plain": [
              "1.5827160493827166"
            ]
          },
          "metadata": {},
          "execution_count": 192
        }
      ]
    },
    {
      "cell_type": "markdown",
      "source": [
        "$\\hat{\\chi}^2 ≈ 1.58271$"
      ],
      "metadata": {
        "id": "AqdJF6FKnRPD"
      }
    },
    {
      "cell_type": "markdown",
      "source": [
        "Вычисление критического значения на уровне значимости $\\alpha_{1}$:"
      ],
      "metadata": {
        "id": "KefuGOH4nXaP"
      }
    },
    {
      "cell_type": "code",
      "source": [
        "sps.chi2.ppf(1 - alpha_1, df = 3)"
      ],
      "metadata": {
        "colab": {
          "base_uri": "https://localhost:8080/"
        },
        "id": "T_5qrG4tDxTK",
        "outputId": "2d905967-be49-4c55-ffcf-e1c9f560406d"
      },
      "execution_count": 193,
      "outputs": [
        {
          "output_type": "execute_result",
          "data": {
            "text/plain": [
              "4.64162767608745"
            ]
          },
          "metadata": {},
          "execution_count": 193
        }
      ]
    },
    {
      "cell_type": "markdown",
      "source": [
        "$x_{\\alpha1} = 4.6416$"
      ],
      "metadata": {
        "id": "TnvzyDrWoVQy"
      }
    },
    {
      "cell_type": "markdown",
      "source": [
        "$\\hat{\\chi}^2 < x_{\\alpha1} ⇒ $ нулевая гипотеза не отвергается"
      ],
      "metadata": {
        "id": "Uef4zzVkoiBI"
      }
    },
    {
      "cell_type": "code",
      "source": [
        "1 - sps.chi2(3).cdf(1.5827160493827166)"
      ],
      "metadata": {
        "colab": {
          "base_uri": "https://localhost:8080/"
        },
        "id": "CcIZFbffIMBv",
        "outputId": "ddf357d2-d711-458e-aba3-ea05fddef3bf"
      },
      "execution_count": 194,
      "outputs": [
        {
          "output_type": "execute_result",
          "data": {
            "text/plain": [
              "0.6633151585085877"
            ]
          },
          "metadata": {},
          "execution_count": 194
        }
      ]
    },
    {
      "cell_type": "markdown",
      "source": [
        "Вычисление предельного уровня значимости, при котором ещё нет оснований отвергнуть нулевую гипотезу:"
      ],
      "metadata": {
        "id": "NhvXxIEZolvn"
      }
    },
    {
      "cell_type": "markdown",
      "source": [
        "$pvalue = 0.6633151$"
      ],
      "metadata": {
        "id": "1fTVrc2yoZD2"
      }
    },
    {
      "cell_type": "markdown",
      "source": [
        "##### h.f) Построение критерия значимости $\\chi^2$ проверки сложной гипотезы согласия с распределением Пуассона. Проверка гипотезы на уровне значимости $\\alpha_1$. Вычисление наибольшего значения уровня значимости, на котором ещё нет оснований отвергнуть данную гипотезу"
      ],
      "metadata": {
        "id": "BFwZPzMWHCQp"
      }
    },
    {
      "cell_type": "markdown",
      "source": [
        "$X_1, X_2, \\dots, X_n \\sim \\mathbb{p_{\\theta}(x)}$.\n",
        "\n",
        "$H_0 : F \\in \\left\\{Pois(\\theta) : \\theta \\in \\Theta_0 \\right\\}$\n",
        "\n",
        " $H_A : F \\notin \\left\\{Pois(\\theta) : \\theta \\in \\Theta_0 \\right\\}$"
      ],
      "metadata": {
        "id": "LkiUFIraqIJF"
      }
    },
    {
      "cell_type": "code",
      "source": [
        "geom = Geom(ML_est)\n",
        "x = np.array([0, 1, 2, 3])\n",
        "p = geom.pmf(x)\n",
        "p #теоретические частоты"
      ],
      "metadata": {
        "colab": {
          "base_uri": "https://localhost:8080/"
        },
        "id": "kAQ29ZB2D5DC",
        "outputId": "8dac66f9-c33b-4c44-ff50-a9a951c911ff"
      },
      "execution_count": 195,
      "outputs": [
        {
          "output_type": "execute_result",
          "data": {
            "text/plain": [
              "array([0.66666667, 0.22222222, 0.07407407, 0.02469136])"
            ]
          },
          "metadata": {},
          "execution_count": 195
        }
      ]
    },
    {
      "cell_type": "code",
      "source": [
        "pd.DataFrame({'interval':intervals, 'absolute frequences':v, 'theoretical frequences':p * n})"
      ],
      "metadata": {
        "colab": {
          "base_uri": "https://localhost:8080/",
          "height": 175
        },
        "id": "ltwIZ2ALIuxZ",
        "outputId": "ca6eb632-8b4e-4891-ec2d-130d72d18fc1"
      },
      "execution_count": 196,
      "outputs": [
        {
          "output_type": "execute_result",
          "data": {
            "text/plain": [
              "  interval  absolute frequences  theoretical frequences\n",
              "0   [0, 1)                   33               33.333333\n",
              "1   [1, 2)                   10               11.111111\n",
              "2   [2, 3)                    6                3.703704\n",
              "3   [3, 3]                    1                1.234568"
            ],
            "text/html": [
              "\n",
              "  <div id=\"df-25480596-80e0-44b0-8de6-d6056c5eadf8\" class=\"colab-df-container\">\n",
              "    <div>\n",
              "<style scoped>\n",
              "    .dataframe tbody tr th:only-of-type {\n",
              "        vertical-align: middle;\n",
              "    }\n",
              "\n",
              "    .dataframe tbody tr th {\n",
              "        vertical-align: top;\n",
              "    }\n",
              "\n",
              "    .dataframe thead th {\n",
              "        text-align: right;\n",
              "    }\n",
              "</style>\n",
              "<table border=\"1\" class=\"dataframe\">\n",
              "  <thead>\n",
              "    <tr style=\"text-align: right;\">\n",
              "      <th></th>\n",
              "      <th>interval</th>\n",
              "      <th>absolute frequences</th>\n",
              "      <th>theoretical frequences</th>\n",
              "    </tr>\n",
              "  </thead>\n",
              "  <tbody>\n",
              "    <tr>\n",
              "      <th>0</th>\n",
              "      <td>[0, 1)</td>\n",
              "      <td>33</td>\n",
              "      <td>33.333333</td>\n",
              "    </tr>\n",
              "    <tr>\n",
              "      <th>1</th>\n",
              "      <td>[1, 2)</td>\n",
              "      <td>10</td>\n",
              "      <td>11.111111</td>\n",
              "    </tr>\n",
              "    <tr>\n",
              "      <th>2</th>\n",
              "      <td>[2, 3)</td>\n",
              "      <td>6</td>\n",
              "      <td>3.703704</td>\n",
              "    </tr>\n",
              "    <tr>\n",
              "      <th>3</th>\n",
              "      <td>[3, 3]</td>\n",
              "      <td>1</td>\n",
              "      <td>1.234568</td>\n",
              "    </tr>\n",
              "  </tbody>\n",
              "</table>\n",
              "</div>\n",
              "    <div class=\"colab-df-buttons\">\n",
              "\n",
              "  <div class=\"colab-df-container\">\n",
              "    <button class=\"colab-df-convert\" onclick=\"convertToInteractive('df-25480596-80e0-44b0-8de6-d6056c5eadf8')\"\n",
              "            title=\"Convert this dataframe to an interactive table.\"\n",
              "            style=\"display:none;\">\n",
              "\n",
              "  <svg xmlns=\"http://www.w3.org/2000/svg\" height=\"24px\" viewBox=\"0 -960 960 960\">\n",
              "    <path d=\"M120-120v-720h720v720H120Zm60-500h600v-160H180v160Zm220 220h160v-160H400v160Zm0 220h160v-160H400v160ZM180-400h160v-160H180v160Zm440 0h160v-160H620v160ZM180-180h160v-160H180v160Zm440 0h160v-160H620v160Z\"/>\n",
              "  </svg>\n",
              "    </button>\n",
              "\n",
              "  <style>\n",
              "    .colab-df-container {\n",
              "      display:flex;\n",
              "      gap: 12px;\n",
              "    }\n",
              "\n",
              "    .colab-df-convert {\n",
              "      background-color: #E8F0FE;\n",
              "      border: none;\n",
              "      border-radius: 50%;\n",
              "      cursor: pointer;\n",
              "      display: none;\n",
              "      fill: #1967D2;\n",
              "      height: 32px;\n",
              "      padding: 0 0 0 0;\n",
              "      width: 32px;\n",
              "    }\n",
              "\n",
              "    .colab-df-convert:hover {\n",
              "      background-color: #E2EBFA;\n",
              "      box-shadow: 0px 1px 2px rgba(60, 64, 67, 0.3), 0px 1px 3px 1px rgba(60, 64, 67, 0.15);\n",
              "      fill: #174EA6;\n",
              "    }\n",
              "\n",
              "    .colab-df-buttons div {\n",
              "      margin-bottom: 4px;\n",
              "    }\n",
              "\n",
              "    [theme=dark] .colab-df-convert {\n",
              "      background-color: #3B4455;\n",
              "      fill: #D2E3FC;\n",
              "    }\n",
              "\n",
              "    [theme=dark] .colab-df-convert:hover {\n",
              "      background-color: #434B5C;\n",
              "      box-shadow: 0px 1px 3px 1px rgba(0, 0, 0, 0.15);\n",
              "      filter: drop-shadow(0px 1px 2px rgba(0, 0, 0, 0.3));\n",
              "      fill: #FFFFFF;\n",
              "    }\n",
              "  </style>\n",
              "\n",
              "    <script>\n",
              "      const buttonEl =\n",
              "        document.querySelector('#df-25480596-80e0-44b0-8de6-d6056c5eadf8 button.colab-df-convert');\n",
              "      buttonEl.style.display =\n",
              "        google.colab.kernel.accessAllowed ? 'block' : 'none';\n",
              "\n",
              "      async function convertToInteractive(key) {\n",
              "        const element = document.querySelector('#df-25480596-80e0-44b0-8de6-d6056c5eadf8');\n",
              "        const dataTable =\n",
              "          await google.colab.kernel.invokeFunction('convertToInteractive',\n",
              "                                                    [key], {});\n",
              "        if (!dataTable) return;\n",
              "\n",
              "        const docLinkHtml = 'Like what you see? Visit the ' +\n",
              "          '<a target=\"_blank\" href=https://colab.research.google.com/notebooks/data_table.ipynb>data table notebook</a>'\n",
              "          + ' to learn more about interactive tables.';\n",
              "        element.innerHTML = '';\n",
              "        dataTable['output_type'] = 'display_data';\n",
              "        await google.colab.output.renderOutput(dataTable, element);\n",
              "        const docLink = document.createElement('div');\n",
              "        docLink.innerHTML = docLinkHtml;\n",
              "        element.appendChild(docLink);\n",
              "      }\n",
              "    </script>\n",
              "  </div>\n",
              "\n",
              "\n",
              "<div id=\"df-2a6d9232-f796-4fce-8c1b-a2304c0f4cf5\">\n",
              "  <button class=\"colab-df-quickchart\" onclick=\"quickchart('df-2a6d9232-f796-4fce-8c1b-a2304c0f4cf5')\"\n",
              "            title=\"Suggest charts\"\n",
              "            style=\"display:none;\">\n",
              "\n",
              "<svg xmlns=\"http://www.w3.org/2000/svg\" height=\"24px\"viewBox=\"0 0 24 24\"\n",
              "     width=\"24px\">\n",
              "    <g>\n",
              "        <path d=\"M19 3H5c-1.1 0-2 .9-2 2v14c0 1.1.9 2 2 2h14c1.1 0 2-.9 2-2V5c0-1.1-.9-2-2-2zM9 17H7v-7h2v7zm4 0h-2V7h2v10zm4 0h-2v-4h2v4z\"/>\n",
              "    </g>\n",
              "</svg>\n",
              "  </button>\n",
              "\n",
              "<style>\n",
              "  .colab-df-quickchart {\n",
              "      --bg-color: #E8F0FE;\n",
              "      --fill-color: #1967D2;\n",
              "      --hover-bg-color: #E2EBFA;\n",
              "      --hover-fill-color: #174EA6;\n",
              "      --disabled-fill-color: #AAA;\n",
              "      --disabled-bg-color: #DDD;\n",
              "  }\n",
              "\n",
              "  [theme=dark] .colab-df-quickchart {\n",
              "      --bg-color: #3B4455;\n",
              "      --fill-color: #D2E3FC;\n",
              "      --hover-bg-color: #434B5C;\n",
              "      --hover-fill-color: #FFFFFF;\n",
              "      --disabled-bg-color: #3B4455;\n",
              "      --disabled-fill-color: #666;\n",
              "  }\n",
              "\n",
              "  .colab-df-quickchart {\n",
              "    background-color: var(--bg-color);\n",
              "    border: none;\n",
              "    border-radius: 50%;\n",
              "    cursor: pointer;\n",
              "    display: none;\n",
              "    fill: var(--fill-color);\n",
              "    height: 32px;\n",
              "    padding: 0;\n",
              "    width: 32px;\n",
              "  }\n",
              "\n",
              "  .colab-df-quickchart:hover {\n",
              "    background-color: var(--hover-bg-color);\n",
              "    box-shadow: 0 1px 2px rgba(60, 64, 67, 0.3), 0 1px 3px 1px rgba(60, 64, 67, 0.15);\n",
              "    fill: var(--button-hover-fill-color);\n",
              "  }\n",
              "\n",
              "  .colab-df-quickchart-complete:disabled,\n",
              "  .colab-df-quickchart-complete:disabled:hover {\n",
              "    background-color: var(--disabled-bg-color);\n",
              "    fill: var(--disabled-fill-color);\n",
              "    box-shadow: none;\n",
              "  }\n",
              "\n",
              "  .colab-df-spinner {\n",
              "    border: 2px solid var(--fill-color);\n",
              "    border-color: transparent;\n",
              "    border-bottom-color: var(--fill-color);\n",
              "    animation:\n",
              "      spin 1s steps(1) infinite;\n",
              "  }\n",
              "\n",
              "  @keyframes spin {\n",
              "    0% {\n",
              "      border-color: transparent;\n",
              "      border-bottom-color: var(--fill-color);\n",
              "      border-left-color: var(--fill-color);\n",
              "    }\n",
              "    20% {\n",
              "      border-color: transparent;\n",
              "      border-left-color: var(--fill-color);\n",
              "      border-top-color: var(--fill-color);\n",
              "    }\n",
              "    30% {\n",
              "      border-color: transparent;\n",
              "      border-left-color: var(--fill-color);\n",
              "      border-top-color: var(--fill-color);\n",
              "      border-right-color: var(--fill-color);\n",
              "    }\n",
              "    40% {\n",
              "      border-color: transparent;\n",
              "      border-right-color: var(--fill-color);\n",
              "      border-top-color: var(--fill-color);\n",
              "    }\n",
              "    60% {\n",
              "      border-color: transparent;\n",
              "      border-right-color: var(--fill-color);\n",
              "    }\n",
              "    80% {\n",
              "      border-color: transparent;\n",
              "      border-right-color: var(--fill-color);\n",
              "      border-bottom-color: var(--fill-color);\n",
              "    }\n",
              "    90% {\n",
              "      border-color: transparent;\n",
              "      border-bottom-color: var(--fill-color);\n",
              "    }\n",
              "  }\n",
              "</style>\n",
              "\n",
              "  <script>\n",
              "    async function quickchart(key) {\n",
              "      const quickchartButtonEl =\n",
              "        document.querySelector('#' + key + ' button');\n",
              "      quickchartButtonEl.disabled = true;  // To prevent multiple clicks.\n",
              "      quickchartButtonEl.classList.add('colab-df-spinner');\n",
              "      try {\n",
              "        const charts = await google.colab.kernel.invokeFunction(\n",
              "            'suggestCharts', [key], {});\n",
              "      } catch (error) {\n",
              "        console.error('Error during call to suggestCharts:', error);\n",
              "      }\n",
              "      quickchartButtonEl.classList.remove('colab-df-spinner');\n",
              "      quickchartButtonEl.classList.add('colab-df-quickchart-complete');\n",
              "    }\n",
              "    (() => {\n",
              "      let quickchartButtonEl =\n",
              "        document.querySelector('#df-2a6d9232-f796-4fce-8c1b-a2304c0f4cf5 button');\n",
              "      quickchartButtonEl.style.display =\n",
              "        google.colab.kernel.accessAllowed ? 'block' : 'none';\n",
              "    })();\n",
              "  </script>\n",
              "</div>\n",
              "    </div>\n",
              "  </div>\n"
            ]
          },
          "metadata": {},
          "execution_count": 196
        }
      ]
    },
    {
      "cell_type": "markdown",
      "source": [
        "Вычисление статистики  $\\hat{\\chi}^2$:"
      ],
      "metadata": {
        "id": "VM4k3cA6qN0S"
      }
    },
    {
      "cell_type": "code",
      "source": [
        "np.sum(np.square(v - n * p)/(n * p))"
      ],
      "metadata": {
        "colab": {
          "base_uri": "https://localhost:8080/"
        },
        "id": "d9NnlKJJIw9t",
        "outputId": "9448ce69-8de8-42c7-bc1a-c06264804a68"
      },
      "execution_count": 197,
      "outputs": [
        {
          "output_type": "execute_result",
          "data": {
            "text/plain": [
              "1.5827160493827166"
            ]
          },
          "metadata": {},
          "execution_count": 197
        }
      ]
    },
    {
      "cell_type": "markdown",
      "source": [
        "$\\hat{\\chi}^2 ≈ 1.583$"
      ],
      "metadata": {
        "id": "X8dOuuHAqQ21"
      }
    },
    {
      "cell_type": "code",
      "source": [
        "sps.chi2.ppf(1 - alpha_1, df = 3)"
      ],
      "metadata": {
        "colab": {
          "base_uri": "https://localhost:8080/"
        },
        "id": "GI1cs8x7IyIt",
        "outputId": "234f4fac-0c5b-44fe-b7d0-80d7d077374b"
      },
      "execution_count": 198,
      "outputs": [
        {
          "output_type": "execute_result",
          "data": {
            "text/plain": [
              "4.64162767608745"
            ]
          },
          "metadata": {},
          "execution_count": 198
        }
      ]
    },
    {
      "cell_type": "markdown",
      "source": [
        "$x_{\\alpha1} = 4.6416$"
      ],
      "metadata": {
        "id": "ptPJYXkTqbTV"
      }
    },
    {
      "cell_type": "markdown",
      "source": [
        "$\\hat{\\chi}^2 < x_{\\alpha1} ⇒ $ нулевая гипотеза не отвергается"
      ],
      "metadata": {
        "id": "DPirrp3pqi5D"
      }
    },
    {
      "cell_type": "markdown",
      "source": [
        "Критический уровень значимости, когда гипотеза еще не отвергается:"
      ],
      "metadata": {
        "id": "433xNcQvqrlD"
      }
    },
    {
      "cell_type": "code",
      "source": [
        "1 - sps.chi2(3).cdf(1.5827160493827166)"
      ],
      "metadata": {
        "colab": {
          "base_uri": "https://localhost:8080/"
        },
        "id": "1SPsgrwDIzqD",
        "outputId": "f11f9ac4-becb-43f0-bf82-aab908b8bf7a"
      },
      "execution_count": 199,
      "outputs": [
        {
          "output_type": "execute_result",
          "data": {
            "text/plain": [
              "0.6633151585085877"
            ]
          },
          "metadata": {},
          "execution_count": 199
        }
      ]
    },
    {
      "cell_type": "markdown",
      "source": [
        "$pvalue = 0.663$"
      ],
      "metadata": {
        "id": "lLUi3e9PqtRK"
      }
    },
    {
      "cell_type": "markdown",
      "source": [
        "##2"
      ],
      "metadata": {
        "id": "Pw9OxRgvKK08"
      }
    },
    {
      "cell_type": "markdown",
      "source": [
        "#### a)Вариационный ряд, эмпирическая функция распределения и гистограмма частот:"
      ],
      "metadata": {
        "id": "7ZGSpXbWpw16"
      }
    },
    {
      "cell_type": "markdown",
      "source": [
        "Табличные данные:"
      ],
      "metadata": {
        "id": "tNpcaCedohgr"
      }
    },
    {
      "cell_type": "code",
      "source": [
        "table_data_2 = '0.864 0.129 0.058 0.140 0.038 0.017 0.663 0.024 0.016 0.007 0.268 0.345 0.375 0.328 1.123 0.001 0.285 2.441 0.050 1.550 0.688 0.002 0.005 0.294 0.179 0.553 2.826 0.249 3.504 0.848 0.111 0.281 0.170 0.205 0.597 0.008 1.111 0.119 0.145 0.003 0.050 0.345 0.096 1.611 0.002 0.607 0.694 0.298 1.078 0.254'\n",
        "data_2 = np.array(table_data_2.split()).astype(float)\n",
        "data_2"
      ],
      "metadata": {
        "colab": {
          "base_uri": "https://localhost:8080/"
        },
        "id": "5Y5qUSCC5OWX",
        "outputId": "094aff2e-c76e-49f8-aa92-4923ad7d4c47"
      },
      "execution_count": 200,
      "outputs": [
        {
          "output_type": "execute_result",
          "data": {
            "text/plain": [
              "array([8.640e-01, 1.290e-01, 5.800e-02, 1.400e-01, 3.800e-02, 1.700e-02,\n",
              "       6.630e-01, 2.400e-02, 1.600e-02, 7.000e-03, 2.680e-01, 3.450e-01,\n",
              "       3.750e-01, 3.280e-01, 1.123e+00, 1.000e-03, 2.850e-01, 2.441e+00,\n",
              "       5.000e-02, 1.550e+00, 6.880e-01, 2.000e-03, 5.000e-03, 2.940e-01,\n",
              "       1.790e-01, 5.530e-01, 2.826e+00, 2.490e-01, 3.504e+00, 8.480e-01,\n",
              "       1.110e-01, 2.810e-01, 1.700e-01, 2.050e-01, 5.970e-01, 8.000e-03,\n",
              "       1.111e+00, 1.190e-01, 1.450e-01, 3.000e-03, 5.000e-02, 3.450e-01,\n",
              "       9.600e-02, 1.611e+00, 2.000e-03, 6.070e-01, 6.940e-01, 2.980e-01,\n",
              "       1.078e+00, 2.540e-01])"
            ]
          },
          "metadata": {},
          "execution_count": 200
        }
      ]
    },
    {
      "cell_type": "code",
      "source": [
        "alpha_2 = 0.1\n",
        "c = 0\n",
        "d = 0.64\n",
        "h = 0.2\n",
        "lambda_0 = 1.43\n",
        "lambda_1 = 0.36"
      ],
      "metadata": {
        "id": "xwk8WcYnn0eZ"
      },
      "execution_count": 201,
      "outputs": []
    },
    {
      "cell_type": "code",
      "source": [
        "print('Вариационный ряд:', np.sort(data_2))"
      ],
      "metadata": {
        "colab": {
          "base_uri": "https://localhost:8080/"
        },
        "id": "RcbEp8SHpvI8",
        "outputId": "45cf9b14-90d9-4e87-dbca-212ffdab5958"
      },
      "execution_count": 202,
      "outputs": [
        {
          "output_type": "stream",
          "name": "stdout",
          "text": [
            "Вариационный ряд: [1.000e-03 2.000e-03 2.000e-03 3.000e-03 5.000e-03 7.000e-03 8.000e-03\n",
            " 1.600e-02 1.700e-02 2.400e-02 3.800e-02 5.000e-02 5.000e-02 5.800e-02\n",
            " 9.600e-02 1.110e-01 1.190e-01 1.290e-01 1.400e-01 1.450e-01 1.700e-01\n",
            " 1.790e-01 2.050e-01 2.490e-01 2.540e-01 2.680e-01 2.810e-01 2.850e-01\n",
            " 2.940e-01 2.980e-01 3.280e-01 3.450e-01 3.450e-01 3.750e-01 5.530e-01\n",
            " 5.970e-01 6.070e-01 6.630e-01 6.880e-01 6.940e-01 8.480e-01 8.640e-01\n",
            " 1.078e+00 1.111e+00 1.123e+00 1.550e+00 1.611e+00 2.441e+00 2.826e+00\n",
            " 3.504e+00]\n"
          ]
        }
      ]
    },
    {
      "cell_type": "code",
      "source": [
        "ecdf = ECDF(data_2)\n",
        "plt.step(ecdf.x, ecdf.y)\n",
        "plt.xlabel('x')\n",
        "plt.ylabel('F(x)')\n",
        "plt.title('Эмпирическая функция распределения')\n",
        "plt.grid()\n",
        "plt.show()"
      ],
      "metadata": {
        "colab": {
          "base_uri": "https://localhost:8080/",
          "height": 472
        },
        "id": "bwnpYUDSpv_G",
        "outputId": "5bc00479-4ca0-44e1-b86b-ff1b7b3ef16e"
      },
      "execution_count": 203,
      "outputs": [
        {
          "output_type": "display_data",
          "data": {
            "text/plain": [
              "<Figure size 640x480 with 1 Axes>"
            ],
            "image/png": "[encoded data removed]"
          },
          "metadata": {}
        }
      ]
    },
    {
      "cell_type": "code",
      "source": [
        "bins = np.arange(0, max(data_2) + h, h)\n",
        "plt.title('Гистограмма и полигон частот частот')\n",
        "y, edges, _ = plt.hist(data_2, bins = bins)\n",
        "midpoints = 0.5 * (edges[1:] + edges[:-1])\n",
        "plt.plot(midpoints, y, 'r-*')\n",
        "plt.grid()\n",
        "plt.show()"
      ],
      "metadata": {
        "colab": {
          "base_uri": "https://localhost:8080/",
          "height": 452
        },
        "id": "gPi7bd5Tp3sL",
        "outputId": "03788e33-36ac-4439-ae52-743369fe6eff"
      },
      "execution_count": 204,
      "outputs": [
        {
          "output_type": "display_data",
          "data": {
            "text/plain": [
              "<Figure size 640x480 with 1 Axes>"
            ],
            "image/png": "[encoded data removed]"
          },
          "metadata": {}
        }
      ]
    },
    {
      "cell_type": "markdown",
      "source": [
        "#### b)"
      ],
      "metadata": {
        "id": "yWBuDcmftK8h"
      }
    },
    {
      "cell_type": "code",
      "source": [
        "print('Выблорочное среднее:',np.mean(data_2))\n",
        "print('Выборочная дисперсия:', np.var(data_2))\n",
        "print('СКО:', np.sqrt(np.var(data_2)))\n",
        "print('Медиана:', np.median(data_2))\n",
        "print('Асимметрия:', sps.skew(data_2))\n",
        "print('Эксцесс:',sps.kurtosis(data_2))\n",
        "print('Вероятность попадания в интервал [c:d]:',(np.sum(data_2 <= d) - np.sum(data_2 <= c))/len(data))"
      ],
      "metadata": {
        "colab": {
          "base_uri": "https://localhost:8080/"
        },
        "id": "ffUscWckp_eH",
        "outputId": "f2bfe8c1-5088-47d3-920f-3f69e5b793b7"
      },
      "execution_count": 205,
      "outputs": [
        {
          "output_type": "stream",
          "name": "stdout",
          "text": [
            "Выблорочное среднее: 0.5131\n",
            "Выборочная дисперсия: 0.53664809\n",
            "СКО: 0.732562686737456\n",
            "Медиана: 0.261\n",
            "Асимметрия: 2.4005230599123077\n",
            "Эксцесс: 5.784803865102873\n",
            "Вероятность попадания в интервал [c:d]: 0.74\n"
          ]
        }
      ]
    },
    {
      "cell_type": "markdown",
      "source": [
        "#### c)ОМП и ОММ:\n",
        "\n",
        "$X_1, X_2, \\dots, X_n ∼ Exp(\\lambda)$\n",
        "\n",
        "$p_{\\theta}(x) = \\lambda\\exp(-\\lambda x)\\mathbb{I}_{\\{x \\ge 0\\}}$\n",
        "\n",
        "\n",
        "Оценка методом максимального правдоподобия:\n",
        "\n",
        "$L\\left(\\overrightarrow{X}, \\theta\\right) = \\prod_{i=1}^{n}\\lambda\\exp(-\\lambda x_i)\\mathbb{I}_{\\{x_i \\ge 0\\}} = \\lambda^n \\exp(-\\lambda \\sum_{i=1}^{n}x_i)\\mathbb{I}_{\\{x_{(1)} \\ge 0\\}}$\n",
        "\n",
        "$LL\\left(\\overrightarrow{X}, \\theta\\right) = n\\ln\\lambda -\\lambda \\sum_{i=1}^{n}x_i\\ + \\ln\\mathbb{I}_{\\{x_{(1)} \\ge 0\\}}$\n",
        "\n",
        "$\\frac{\\partial LL\\left(\\overrightarrow X,\\ \\theta\\right)}{\\partial \\theta} = \\frac{n}{\\lambda} - \\sum_{i=1}^{n}x_i = 0 \\implies \\hat{\\theta} = \\hat{\\lambda} = \\frac{1}{\\bar{X}}$\n",
        "\n",
        "Оценка по методу моментов:\n",
        "\n",
        "$\\mathbb{E}_\\theta X_1 = \\frac{1}{\\lambda}$\n",
        "\n",
        "$M_1 = \\frac{1}{n}\\sum_{i=1}^{n}x_i = \\bar{X}$\n",
        "\n",
        "Решаем уравнение: $\\frac{1}{\\lambda} = \\bar{X} \\implies \\hat{\\lambda} = \\frac{1}{\\bar{X}}$\n",
        "\n",
        "Смещение:\n",
        "\n",
        "$\\mathbb{E}_\\theta\\hat{\\lambda} = \\mathbb{E}_\\theta\\frac{1}{\\bar{X}} = n\\mathbb{E}_\\theta\\frac{1}{\\sum_{i=1}^{n}x_i}$\n",
        "\n",
        "Так как $X_i \\sim Exp(\\lambda) \\implies Y = \\sum_{i=1}^{n}X_i \\sim Gamma(n, \\frac{1}{\\lambda})$ и $Y \\sim Gamma(\\alpha, \\beta), \\alpha > 0, \\beta > 0, \\gamma > - \\alpha \\implies \\mathbb{E}_\\theta Y^\\gamma = \\beta^\\gamma \\frac{\\Gamma(\\gamma + \\alpha)}{\\Gamma(\\alpha)}$:\n",
        "\n",
        "$\\mathbb{E}_\\theta\\hat{\\lambda} = n\\mathbb{E}_\\theta\\frac{1}{\\sum_{i=1}^{n}x_i} = n \\lambda \\frac{\\Gamma(n-1)}{\\Gamma(n)} = \\frac{n}{n-1} \\lambda \\implies$ оценка смещенная\n",
        "\n",
        "Несмещенная оценка: $\\tilde{\\lambda} = \\frac{n-1}{n}\\hat{\\lambda} = \\frac{n-1}{n}\\frac{1}{\\bar{X}}$"
      ],
      "metadata": {
        "id": "cpnxklq3RF2E"
      }
    },
    {
      "cell_type": "markdown",
      "source": [
        "ОМП:"
      ],
      "metadata": {
        "id": "_ZWDXGlntwsO"
      }
    },
    {
      "cell_type": "code",
      "source": [
        "ML_est = (50 - 1)/50 * 1/np.mean(data_2)\n",
        "ML_est"
      ],
      "metadata": {
        "colab": {
          "base_uri": "https://localhost:8080/"
        },
        "id": "kFGf6_Pat2SJ",
        "outputId": "836f410d-53d7-49d9-db51-6d47c8de9db3"
      },
      "execution_count": 206,
      "outputs": [
        {
          "output_type": "execute_result",
          "data": {
            "text/plain": [
              "1.9099590723055935"
            ]
          },
          "metadata": {},
          "execution_count": 206
        }
      ]
    },
    {
      "cell_type": "markdown",
      "source": [
        "#### d) Асимптотический доверительный интервал"
      ],
      "metadata": {
        "id": "PFaho9G_sS3y"
      }
    },
    {
      "cell_type": "markdown",
      "source": [
        "$\\sqrt{n}\\left(\\frac{1}{\\bar{X}} - \\theta\\right) \\sim \\mathcal{N} \\left(0, \\frac{1}{I(\\theta))}\\right)$\n",
        "\n",
        "$I_n(\\theta) = -\\mathbb{E}_{\\theta}\\frac{\\partial^2 LL\\left(\\overrightarrow X,\\ \\theta\\right)}{\\partial \\theta^2} = \\mathbb{E}_{\\theta}\\frac{n}{\\lambda^2} = \\frac{n}{\\lambda^2} $\n",
        "\n",
        "$I(\\theta) = {\\lim_{n \\to \\infty}}\\frac{1}{\\lambda^2} = \\frac{1}{\\lambda^2}$\n",
        "\n",
        "$I(\\hat{\\theta}) = \\bar{X}^2$\n",
        "\n",
        "$\\sqrt{n\\bar{X}^{2}}\\left(\\frac{1}{\\bar{X}} - \\theta\\right) \\sim \\mathcal{N} \\left(0, 1\\right)$\n",
        "\n",
        "$x_\\alpha$: $\\Phi(x_\\alpha) = 1 - \\frac{\\alpha}{2} = 0.95$"
      ],
      "metadata": {
        "id": "uCYfUqDFugAV"
      }
    },
    {
      "cell_type": "code",
      "source": [
        "print(sps.norm.ppf(0.95))"
      ],
      "metadata": {
        "colab": {
          "base_uri": "https://localhost:8080/"
        },
        "id": "uq6ZlDXludd7",
        "outputId": "a0a8b68f-6bcc-4850-ea12-30e05aae1aa3"
      },
      "execution_count": 207,
      "outputs": [
        {
          "output_type": "stream",
          "name": "stdout",
          "text": [
            "1.6448536269514722\n"
          ]
        }
      ]
    },
    {
      "cell_type": "markdown",
      "source": [
        "$x_\\alpha = 1.6448$"
      ],
      "metadata": {
        "id": "8-0N-Rr4vURQ"
      }
    },
    {
      "cell_type": "markdown",
      "source": [
        " $P_\\theta\\left(-x_\\alpha \\le \\sqrt{n\\bar{X}^{2}}\\left(\\frac{1}{\\bar{X}} - \\theta\\right) \\le x_\\alpha\\right) \\approx 1 - \\alpha = 0.9$\n",
        "\n",
        "$\\left[\\frac{1}{\\bar{X}} - \\frac{x_\\alpha}{\\sqrt{n\\bar{X}^{2}}}, \\frac{1}{\\bar{X}} + \\frac{x_\\alpha}{\\sqrt{n\\bar{X}^{2}}}\\right] \\ni \\lambda$\n",
        "\n",
        "$\\left[\\frac{1}{0.502838} - \\frac{x_\\alpha}{\\sqrt{50 \\cdot 0.502838^{2}}}, \\frac{1}{0.502838} + \\frac{x_\\alpha}{\\sqrt{50 \\cdot 0.502838^{2}}}\\right] \\ni \\lambda$\n",
        "\n",
        "$\\left[1.43, 2.35\\right] \\ni \\lambda$"
      ],
      "metadata": {
        "id": "kgCDtAG4vhLy"
      }
    },
    {
      "cell_type": "markdown",
      "source": [
        "#### e) Построение критерия значимости проверки простой гипотезы согласия с показательным распределением с параметром  $\\lambda_0$ с использованием теоремы Колмогорова. Проверка гипотезы на уровне значимости $\\alpha_2$. Вычисление наибольшего значения уровня значимости, на котором ещё нет оснований отвергнуть данную гипотезу"
      ],
      "metadata": {
        "id": "oAIbigYLsXDb"
      }
    },
    {
      "cell_type": "markdown",
      "source": [
        "$X_1, X_2, \\dots, X_n \\sim $ F.\n",
        "\n",
        "$H_0 : F \\equiv Exp(\\lambda_0)$\n",
        "\n",
        "$H_A : \\exists x : F(x) \\neq F_{Exp(\\lambda_0)}(x)$\n",
        "\n",
        "Критерий уровня значимости $\\alpha_2$:\n",
        "\n",
        "$\\phi(x) = 0$, при $D_n \\le x_{\\alpha_2}$\n",
        "\n",
        "$\\phi(x) = 1$, при $D_n > x_{\\alpha_2}$\n",
        "\n",
        "$x_{\\alpha_2} : K(x_{\\alpha_2} / \\sqrt{n}) = 1 - \\alpha_2$"
      ],
      "metadata": {
        "id": "NBpyb7VQxaTn"
      }
    },
    {
      "cell_type": "code",
      "source": [
        "D, _  = sps.kstest(data_2, 'expon', args = [lambda_0])\n",
        "eta = np.sqrt(len(data_2)) * D\n",
        "eta"
      ],
      "metadata": {
        "colab": {
          "base_uri": "https://localhost:8080/"
        },
        "id": "II0ym4jPzqNq",
        "outputId": "8dcb5581-ec2b-49db-9041-52b794fa1236"
      },
      "execution_count": 208,
      "outputs": [
        {
          "output_type": "execute_result",
          "data": {
            "text/plain": [
              "6.3639610306789285"
            ]
          },
          "metadata": {},
          "execution_count": 208
        }
      ]
    },
    {
      "cell_type": "markdown",
      "source": [
        "$D_n \\approx 6.36$"
      ],
      "metadata": {
        "id": "XzsDporOxvH7"
      }
    },
    {
      "cell_type": "code",
      "source": [
        "sps.kstwobign.ppf(1 - alpha_2)"
      ],
      "metadata": {
        "colab": {
          "base_uri": "https://localhost:8080/"
        },
        "id": "zz0Kw_ZOz2k6",
        "outputId": "de829278-6fe3-477a-bd2e-9d9603302ade"
      },
      "execution_count": 209,
      "outputs": [
        {
          "output_type": "execute_result",
          "data": {
            "text/plain": [
              "1.2238478702170825"
            ]
          },
          "metadata": {},
          "execution_count": 209
        }
      ]
    },
    {
      "cell_type": "markdown",
      "source": [
        "$x_{\\alpha_2} \\approx 1.22384$"
      ],
      "metadata": {
        "id": "p9cQ9qQHx0yB"
      }
    },
    {
      "cell_type": "markdown",
      "source": [
        "\n",
        "$D_n \\ge  x_{\\alpha_2}$, гипотеза $H_0$ отвергается."
      ],
      "metadata": {
        "id": "Wu4Y-S4axtkd"
      }
    },
    {
      "cell_type": "markdown",
      "source": [
        "гипотеза отвергается"
      ],
      "metadata": {
        "id": "pwot7vWw5uWf"
      }
    },
    {
      "cell_type": "code",
      "source": [
        "sps.kstwobign.ppf(1 - 10**(-16))"
      ],
      "metadata": {
        "colab": {
          "base_uri": "https://localhost:8080/"
        },
        "id": "UDsIEwgo76Ns",
        "outputId": "670aec0f-8005-48a2-d83a-77f4940c6df6"
      },
      "execution_count": 210,
      "outputs": [
        {
          "output_type": "execute_result",
          "data": {
            "text/plain": [
              "4.326080659802649"
            ]
          },
          "metadata": {},
          "execution_count": 210
        }
      ]
    },
    {
      "cell_type": "markdown",
      "source": [
        "Наибольшее значение уровня значимости, на котором ещё нет оснований отвергнуть данную гипотезу крайне мало."
      ],
      "metadata": {
        "id": "tEHfTUNMyNke"
      }
    },
    {
      "cell_type": "markdown",
      "source": [
        "#### f) Построение критерия значимости $\\chi^2$ проверки простой гипотезы согласия с показательным распределением с параметром  $\\lambda_0$. Проверка гипотезы на уровне значимости $\\alpha_2$. Вычисление наибольшего значения уровня значимости, на котором ещё нет оснований отвергнуть данную гипотезу"
      ],
      "metadata": {
        "id": "v7kN2QDR76sj"
      }
    },
    {
      "cell_type": "markdown",
      "source": [
        "$X_1, X_2, \\dots, X_n \\sim \\mathbb{p_{\\theta}(x)}$.\n",
        "\n",
        "$H_0 : p \\equiv Exp(\\lambda_0)$\n",
        "\n",
        "$H_A : \\exists x : \\mathbb{p_{\\theta}(x)} \\neq p_{Exp(\\lambda_0)}(x)$\n",
        "\n",
        " Оценка параметра - ОМП: $\\hat{\\theta} = \\bar{X}$"
      ],
      "metadata": {
        "id": "ot8Z-_JR6eCK"
      }
    },
    {
      "cell_type": "markdown",
      "source": [
        "Рассчет эмпирических частот:"
      ],
      "metadata": {
        "id": "hv-elZNsIjzv"
      }
    },
    {
      "cell_type": "code",
      "source": [
        "n = len(data_2)\n",
        "\n",
        "intervals = [0, 1, 2, 3]\n",
        "v = []\n",
        "for i in range(0,3):\n",
        "    v.append(len([j for j in data_2 if  intervals[i]<= j < intervals[i+1]]))\n",
        "\n",
        "v.append(len([j for j in data_2 if  intervals[-1]<= j]))"
      ],
      "metadata": {
        "id": "6zo7PYhs9jJr"
      },
      "execution_count": 211,
      "outputs": []
    },
    {
      "cell_type": "code",
      "source": [
        "v = np.array(v) #эмпирические частоты\n",
        "v"
      ],
      "metadata": {
        "id": "vF3XwzEV_yqp",
        "colab": {
          "base_uri": "https://localhost:8080/"
        },
        "outputId": "11939c5c-4f2b-443c-a3d6-cad1713e2ecd"
      },
      "execution_count": 212,
      "outputs": [
        {
          "output_type": "execute_result",
          "data": {
            "text/plain": [
              "array([42,  5,  2,  1])"
            ]
          },
          "metadata": {},
          "execution_count": 212
        }
      ]
    },
    {
      "cell_type": "markdown",
      "source": [
        "Рассчет теоретических частот"
      ],
      "metadata": {
        "id": "2nMcRNVjImoo"
      }
    },
    {
      "cell_type": "code",
      "source": [
        "x = [0, 1, 2, 3]\n",
        "p = []\n",
        "for i in range(1,4):\n",
        "    p.append(sps.expon.cdf(i, loc = 0, scale = 1/lambda_0) - sps.expon.cdf(i-1, loc = 0, scale = 1/lambda_0))\n",
        "p.append(1 - sps.expon.cdf(x[-1], loc = 0, scale = 1/lambda_0))"
      ],
      "metadata": {
        "id": "TLYFwBDD90Yy"
      },
      "execution_count": 213,
      "outputs": []
    },
    {
      "cell_type": "code",
      "source": [
        "p = np.array(p)#теоретические частоты\n",
        "p"
      ],
      "metadata": {
        "id": "VKrpiBIgIc2q",
        "colab": {
          "base_uri": "https://localhost:8080/"
        },
        "outputId": "e67b034a-c3fa-458c-9fc2-c011381f22a0"
      },
      "execution_count": 214,
      "outputs": [
        {
          "output_type": "execute_result",
          "data": {
            "text/plain": [
              "array([0.76069108, 0.18204016, 0.04356383, 0.01370493])"
            ]
          },
          "metadata": {},
          "execution_count": 214
        }
      ]
    },
    {
      "cell_type": "markdown",
      "source": [
        "Таблица абсолютных и теоретических частот:"
      ],
      "metadata": {
        "id": "picfYtmTKyhZ"
      }
    },
    {
      "cell_type": "code",
      "source": [
        "intervals = ['[0, 1)', '[1, 2)', '[2, 3)', '[3, 3]']"
      ],
      "metadata": {
        "id": "1xX23AX2_cj9"
      },
      "execution_count": 215,
      "outputs": []
    },
    {
      "cell_type": "code",
      "source": [
        "pd.DataFrame({'interval':intervals, 'absolute frequences':v, 'theoretical frequences':p * n })"
      ],
      "metadata": {
        "id": "38v75mqZDbbb",
        "colab": {
          "base_uri": "https://localhost:8080/",
          "height": 175
        },
        "outputId": "4b3c2949-64a7-46d0-84af-724c98cd7437"
      },
      "execution_count": 216,
      "outputs": [
        {
          "output_type": "execute_result",
          "data": {
            "text/plain": [
              "  interval  absolute frequences  theoretical frequences\n",
              "0   [0, 1)                   42               38.034554\n",
              "1   [1, 2)                    5                9.102008\n",
              "2   [2, 3)                    2                2.178192\n",
              "3   [3, 3]                    1                0.685246"
            ],
            "text/html": [
              "\n",
              "  <div id=\"df-61037aa3-b5ea-47bd-9ae4-2aa9d4c38ee8\" class=\"colab-df-container\">\n",
              "    <div>\n",
              "<style scoped>\n",
              "    .dataframe tbody tr th:only-of-type {\n",
              "        vertical-align: middle;\n",
              "    }\n",
              "\n",
              "    .dataframe tbody tr th {\n",
              "        vertical-align: top;\n",
              "    }\n",
              "\n",
              "    .dataframe thead th {\n",
              "        text-align: right;\n",
              "    }\n",
              "</style>\n",
              "<table border=\"1\" class=\"dataframe\">\n",
              "  <thead>\n",
              "    <tr style=\"text-align: right;\">\n",
              "      <th></th>\n",
              "      <th>interval</th>\n",
              "      <th>absolute frequences</th>\n",
              "      <th>theoretical frequences</th>\n",
              "    </tr>\n",
              "  </thead>\n",
              "  <tbody>\n",
              "    <tr>\n",
              "      <th>0</th>\n",
              "      <td>[0, 1)</td>\n",
              "      <td>42</td>\n",
              "      <td>38.034554</td>\n",
              "    </tr>\n",
              "    <tr>\n",
              "      <th>1</th>\n",
              "      <td>[1, 2)</td>\n",
              "      <td>5</td>\n",
              "      <td>9.102008</td>\n",
              "    </tr>\n",
              "    <tr>\n",
              "      <th>2</th>\n",
              "      <td>[2, 3)</td>\n",
              "      <td>2</td>\n",
              "      <td>2.178192</td>\n",
              "    </tr>\n",
              "    <tr>\n",
              "      <th>3</th>\n",
              "      <td>[3, 3]</td>\n",
              "      <td>1</td>\n",
              "      <td>0.685246</td>\n",
              "    </tr>\n",
              "  </tbody>\n",
              "</table>\n",
              "</div>\n",
              "    <div class=\"colab-df-buttons\">\n",
              "\n",
              "  <div class=\"colab-df-container\">\n",
              "    <button class=\"colab-df-convert\" onclick=\"convertToInteractive('df-61037aa3-b5ea-47bd-9ae4-2aa9d4c38ee8')\"\n",
              "            title=\"Convert this dataframe to an interactive table.\"\n",
              "            style=\"display:none;\">\n",
              "\n",
              "  <svg xmlns=\"http://www.w3.org/2000/svg\" height=\"24px\" viewBox=\"0 -960 960 960\">\n",
              "    <path d=\"M120-120v-720h720v720H120Zm60-500h600v-160H180v160Zm220 220h160v-160H400v160Zm0 220h160v-160H400v160ZM180-400h160v-160H180v160Zm440 0h160v-160H620v160ZM180-180h160v-160H180v160Zm440 0h160v-160H620v160Z\"/>\n",
              "  </svg>\n",
              "    </button>\n",
              "\n",
              "  <style>\n",
              "    .colab-df-container {\n",
              "      display:flex;\n",
              "      gap: 12px;\n",
              "    }\n",
              "\n",
              "    .colab-df-convert {\n",
              "      background-color: #E8F0FE;\n",
              "      border: none;\n",
              "      border-radius: 50%;\n",
              "      cursor: pointer;\n",
              "      display: none;\n",
              "      fill: #1967D2;\n",
              "      height: 32px;\n",
              "      padding: 0 0 0 0;\n",
              "      width: 32px;\n",
              "    }\n",
              "\n",
              "    .colab-df-convert:hover {\n",
              "      background-color: #E2EBFA;\n",
              "      box-shadow: 0px 1px 2px rgba(60, 64, 67, 0.3), 0px 1px 3px 1px rgba(60, 64, 67, 0.15);\n",
              "      fill: #174EA6;\n",
              "    }\n",
              "\n",
              "    .colab-df-buttons div {\n",
              "      margin-bottom: 4px;\n",
              "    }\n",
              "\n",
              "    [theme=dark] .colab-df-convert {\n",
              "      background-color: #3B4455;\n",
              "      fill: #D2E3FC;\n",
              "    }\n",
              "\n",
              "    [theme=dark] .colab-df-convert:hover {\n",
              "      background-color: #434B5C;\n",
              "      box-shadow: 0px 1px 3px 1px rgba(0, 0, 0, 0.15);\n",
              "      filter: drop-shadow(0px 1px 2px rgba(0, 0, 0, 0.3));\n",
              "      fill: #FFFFFF;\n",
              "    }\n",
              "  </style>\n",
              "\n",
              "    <script>\n",
              "      const buttonEl =\n",
              "        document.querySelector('#df-61037aa3-b5ea-47bd-9ae4-2aa9d4c38ee8 button.colab-df-convert');\n",
              "      buttonEl.style.display =\n",
              "        google.colab.kernel.accessAllowed ? 'block' : 'none';\n",
              "\n",
              "      async function convertToInteractive(key) {\n",
              "        const element = document.querySelector('#df-61037aa3-b5ea-47bd-9ae4-2aa9d4c38ee8');\n",
              "        const dataTable =\n",
              "          await google.colab.kernel.invokeFunction('convertToInteractive',\n",
              "                                                    [key], {});\n",
              "        if (!dataTable) return;\n",
              "\n",
              "        const docLinkHtml = 'Like what you see? Visit the ' +\n",
              "          '<a target=\"_blank\" href=https://colab.research.google.com/notebooks/data_table.ipynb>data table notebook</a>'\n",
              "          + ' to learn more about interactive tables.';\n",
              "        element.innerHTML = '';\n",
              "        dataTable['output_type'] = 'display_data';\n",
              "        await google.colab.output.renderOutput(dataTable, element);\n",
              "        const docLink = document.createElement('div');\n",
              "        docLink.innerHTML = docLinkHtml;\n",
              "        element.appendChild(docLink);\n",
              "      }\n",
              "    </script>\n",
              "  </div>\n",
              "\n",
              "\n",
              "<div id=\"df-74745a4c-ea29-4f31-a19e-beb8566b328c\">\n",
              "  <button class=\"colab-df-quickchart\" onclick=\"quickchart('df-74745a4c-ea29-4f31-a19e-beb8566b328c')\"\n",
              "            title=\"Suggest charts\"\n",
              "            style=\"display:none;\">\n",
              "\n",
              "<svg xmlns=\"http://www.w3.org/2000/svg\" height=\"24px\"viewBox=\"0 0 24 24\"\n",
              "     width=\"24px\">\n",
              "    <g>\n",
              "        <path d=\"M19 3H5c-1.1 0-2 .9-2 2v14c0 1.1.9 2 2 2h14c1.1 0 2-.9 2-2V5c0-1.1-.9-2-2-2zM9 17H7v-7h2v7zm4 0h-2V7h2v10zm4 0h-2v-4h2v4z\"/>\n",
              "    </g>\n",
              "</svg>\n",
              "  </button>\n",
              "\n",
              "<style>\n",
              "  .colab-df-quickchart {\n",
              "      --bg-color: #E8F0FE;\n",
              "      --fill-color: #1967D2;\n",
              "      --hover-bg-color: #E2EBFA;\n",
              "      --hover-fill-color: #174EA6;\n",
              "      --disabled-fill-color: #AAA;\n",
              "      --disabled-bg-color: #DDD;\n",
              "  }\n",
              "\n",
              "  [theme=dark] .colab-df-quickchart {\n",
              "      --bg-color: #3B4455;\n",
              "      --fill-color: #D2E3FC;\n",
              "      --hover-bg-color: #434B5C;\n",
              "      --hover-fill-color: #FFFFFF;\n",
              "      --disabled-bg-color: #3B4455;\n",
              "      --disabled-fill-color: #666;\n",
              "  }\n",
              "\n",
              "  .colab-df-quickchart {\n",
              "    background-color: var(--bg-color);\n",
              "    border: none;\n",
              "    border-radius: 50%;\n",
              "    cursor: pointer;\n",
              "    display: none;\n",
              "    fill: var(--fill-color);\n",
              "    height: 32px;\n",
              "    padding: 0;\n",
              "    width: 32px;\n",
              "  }\n",
              "\n",
              "  .colab-df-quickchart:hover {\n",
              "    background-color: var(--hover-bg-color);\n",
              "    box-shadow: 0 1px 2px rgba(60, 64, 67, 0.3), 0 1px 3px 1px rgba(60, 64, 67, 0.15);\n",
              "    fill: var(--button-hover-fill-color);\n",
              "  }\n",
              "\n",
              "  .colab-df-quickchart-complete:disabled,\n",
              "  .colab-df-quickchart-complete:disabled:hover {\n",
              "    background-color: var(--disabled-bg-color);\n",
              "    fill: var(--disabled-fill-color);\n",
              "    box-shadow: none;\n",
              "  }\n",
              "\n",
              "  .colab-df-spinner {\n",
              "    border: 2px solid var(--fill-color);\n",
              "    border-color: transparent;\n",
              "    border-bottom-color: var(--fill-color);\n",
              "    animation:\n",
              "      spin 1s steps(1) infinite;\n",
              "  }\n",
              "\n",
              "  @keyframes spin {\n",
              "    0% {\n",
              "      border-color: transparent;\n",
              "      border-bottom-color: var(--fill-color);\n",
              "      border-left-color: var(--fill-color);\n",
              "    }\n",
              "    20% {\n",
              "      border-color: transparent;\n",
              "      border-left-color: var(--fill-color);\n",
              "      border-top-color: var(--fill-color);\n",
              "    }\n",
              "    30% {\n",
              "      border-color: transparent;\n",
              "      border-left-color: var(--fill-color);\n",
              "      border-top-color: var(--fill-color);\n",
              "      border-right-color: var(--fill-color);\n",
              "    }\n",
              "    40% {\n",
              "      border-color: transparent;\n",
              "      border-right-color: var(--fill-color);\n",
              "      border-top-color: var(--fill-color);\n",
              "    }\n",
              "    60% {\n",
              "      border-color: transparent;\n",
              "      border-right-color: var(--fill-color);\n",
              "    }\n",
              "    80% {\n",
              "      border-color: transparent;\n",
              "      border-right-color: var(--fill-color);\n",
              "      border-bottom-color: var(--fill-color);\n",
              "    }\n",
              "    90% {\n",
              "      border-color: transparent;\n",
              "      border-bottom-color: var(--fill-color);\n",
              "    }\n",
              "  }\n",
              "</style>\n",
              "\n",
              "  <script>\n",
              "    async function quickchart(key) {\n",
              "      const quickchartButtonEl =\n",
              "        document.querySelector('#' + key + ' button');\n",
              "      quickchartButtonEl.disabled = true;  // To prevent multiple clicks.\n",
              "      quickchartButtonEl.classList.add('colab-df-spinner');\n",
              "      try {\n",
              "        const charts = await google.colab.kernel.invokeFunction(\n",
              "            'suggestCharts', [key], {});\n",
              "      } catch (error) {\n",
              "        console.error('Error during call to suggestCharts:', error);\n",
              "      }\n",
              "      quickchartButtonEl.classList.remove('colab-df-spinner');\n",
              "      quickchartButtonEl.classList.add('colab-df-quickchart-complete');\n",
              "    }\n",
              "    (() => {\n",
              "      let quickchartButtonEl =\n",
              "        document.querySelector('#df-74745a4c-ea29-4f31-a19e-beb8566b328c button');\n",
              "      quickchartButtonEl.style.display =\n",
              "        google.colab.kernel.accessAllowed ? 'block' : 'none';\n",
              "    })();\n",
              "  </script>\n",
              "</div>\n",
              "    </div>\n",
              "  </div>\n"
            ]
          },
          "metadata": {},
          "execution_count": 216
        }
      ]
    },
    {
      "cell_type": "markdown",
      "source": [
        "Вычисление статистики  $\\hat{\\chi}^2$:"
      ],
      "metadata": {
        "id": "hkKOCQTm8Re2"
      }
    },
    {
      "cell_type": "code",
      "source": [
        "np.sum(np.square(v - n * p)/(n * p))"
      ],
      "metadata": {
        "id": "YoRVy3o_Jorc",
        "colab": {
          "base_uri": "https://localhost:8080/"
        },
        "outputId": "1cabdbcb-6c6a-4199-b8e6-96f00be2dced"
      },
      "execution_count": 217,
      "outputs": [
        {
          "output_type": "execute_result",
          "data": {
            "text/plain": [
              "2.421241353020039"
            ]
          },
          "metadata": {},
          "execution_count": 217
        }
      ]
    },
    {
      "cell_type": "markdown",
      "source": [
        "$\\hat{\\chi}^2 ≈ 2.42$"
      ],
      "metadata": {
        "id": "qZux3zq_8PKz"
      }
    },
    {
      "cell_type": "markdown",
      "source": [
        "Вычисление критического значения на уровне значимости $\\alpha_{1}$:"
      ],
      "metadata": {
        "id": "OW6ER2-U8asE"
      }
    },
    {
      "cell_type": "code",
      "source": [
        "sps.chi2.ppf(1 - alpha_2, df = 3) #критическое значение на уровне значимости альфа"
      ],
      "metadata": {
        "id": "XdPbrQ-ILG8L",
        "colab": {
          "base_uri": "https://localhost:8080/"
        },
        "outputId": "0188671c-41a5-4678-bbc2-3e628da6c11d"
      },
      "execution_count": 218,
      "outputs": [
        {
          "output_type": "execute_result",
          "data": {
            "text/plain": [
              "6.251388631170325"
            ]
          },
          "metadata": {},
          "execution_count": 218
        }
      ]
    },
    {
      "cell_type": "markdown",
      "source": [
        "$x_{\\alpha1} = 6.2513$"
      ],
      "metadata": {
        "id": "JKHUCw6q8eka"
      }
    },
    {
      "cell_type": "markdown",
      "source": [
        "$\\hat{\\chi}^2 < x_{\\alpha1}$"
      ],
      "metadata": {
        "id": "fLnn0d6PLnqQ"
      }
    },
    {
      "cell_type": "markdown",
      "source": [
        "Гипотеза $H_{0}$ не отвергается."
      ],
      "metadata": {
        "id": "qPlYQ--i8o6L"
      }
    },
    {
      "cell_type": "markdown",
      "source": [
        "Находим критический уровень, когда гипотеза еще не отвергается"
      ],
      "metadata": {
        "id": "o--Qk7H3LqMO"
      }
    },
    {
      "cell_type": "code",
      "source": [
        "1 - sps.chi2(3).cdf(6.25)"
      ],
      "metadata": {
        "id": "CzwQzY5rLIpP",
        "colab": {
          "base_uri": "https://localhost:8080/"
        },
        "outputId": "4be08e22-ee99-498e-be15-742521c2c1d1"
      },
      "execution_count": 243,
      "outputs": [
        {
          "output_type": "execute_result",
          "data": {
            "text/plain": [
              "0.10006083311939495"
            ]
          },
          "metadata": {},
          "execution_count": 243
        }
      ]
    },
    {
      "cell_type": "markdown",
      "source": [
        "#### g)Построение критерия значимости $\\chi^2$ проверки сложной гипотезы согласия с показательным распределением. Проверка гипотезы на уровне значимости $\\alpha_2$. Вычисление наибольшего значения уровня значимости, на котором ещё нет оснований отвергнуть данную гипотезу"
      ],
      "metadata": {
        "id": "Q5wbxF7FL77-"
      }
    },
    {
      "cell_type": "markdown",
      "source": [
        "$X_1, X_2, \\dots, X_n \\sim \\mathbb{p_{\\theta}(x)}$.\n",
        "\n",
        "$H_0 : F \\in \\left\\{Exp(\\theta) : \\theta \\in \\Theta_0 \\right\\}$\n",
        "\n",
        " $H_A : F \\notin \\left\\{Exp(\\theta) : \\theta \\in \\Theta_0 \\right\\}$"
      ],
      "metadata": {
        "id": "f8bVhkFO-zBG"
      }
    },
    {
      "cell_type": "markdown",
      "source": [
        "Рассчет теоретических частот"
      ],
      "metadata": {
        "id": "wMPdBJXfMZWE"
      }
    },
    {
      "cell_type": "code",
      "source": [
        "ML_est = 1/np.mean(data_2)#ОМП-оценка\n",
        "\n",
        "x = [0, 1, 2, 3]\n",
        "p = []\n",
        "for i in range(1,4):\n",
        "    p.append(sps.expon.cdf(i, loc = 0, scale = 1/ML_est) - sps.expon.cdf(i-1, loc = 0, scale = 1/ML_est))\n",
        "p.append(1 - sps.expon.cdf(x[-1], loc = 0, scale = 1/ML_est))"
      ],
      "metadata": {
        "id": "TenSeYfqMTzM"
      },
      "execution_count": 220,
      "outputs": []
    },
    {
      "cell_type": "code",
      "source": [
        "p = np.array(p)#теоретические частоты\n",
        "p"
      ],
      "metadata": {
        "colab": {
          "base_uri": "https://localhost:8080/"
        },
        "id": "mvrJGQz6MYjH",
        "outputId": "6766efe5-b962-4362-cfe0-208d5dfcc525"
      },
      "execution_count": 221,
      "outputs": [
        {
          "output_type": "execute_result",
          "data": {
            "text/plain": [
              "array([0.85757473, 0.12214031, 0.01739587, 0.00288909])"
            ]
          },
          "metadata": {},
          "execution_count": 221
        }
      ]
    },
    {
      "cell_type": "markdown",
      "source": [
        "Таблица абсолютных и теоретических частот"
      ],
      "metadata": {
        "id": "8DxaFwGAMhvQ"
      }
    },
    {
      "cell_type": "code",
      "source": [
        "intervals = ['[0, 1)', '[1, 2)', '[2, 3)', '[3, 3]']\n",
        "pd.DataFrame({'interval':intervals, 'absolute frequences':v, 'theoretical frequences':p * n })"
      ],
      "metadata": {
        "colab": {
          "base_uri": "https://localhost:8080/",
          "height": 175
        },
        "id": "RlJQ9eweMeSt",
        "outputId": "524ee6f6-0730-4341-b6e0-8738461775ef"
      },
      "execution_count": 222,
      "outputs": [
        {
          "output_type": "execute_result",
          "data": {
            "text/plain": [
              "  interval  absolute frequences  theoretical frequences\n",
              "0   [0, 1)                   42               42.878736\n",
              "1   [1, 2)                    5                6.107016\n",
              "2   [2, 3)                    2                0.869793\n",
              "3   [3, 3]                    1                0.144455"
            ],
            "text/html": [
              "\n",
              "  <div id=\"df-4557acf7-d4eb-45d4-af9b-9be0ec0272f7\" class=\"colab-df-container\">\n",
              "    <div>\n",
              "<style scoped>\n",
              "    .dataframe tbody tr th:only-of-type {\n",
              "        vertical-align: middle;\n",
              "    }\n",
              "\n",
              "    .dataframe tbody tr th {\n",
              "        vertical-align: top;\n",
              "    }\n",
              "\n",
              "    .dataframe thead th {\n",
              "        text-align: right;\n",
              "    }\n",
              "</style>\n",
              "<table border=\"1\" class=\"dataframe\">\n",
              "  <thead>\n",
              "    <tr style=\"text-align: right;\">\n",
              "      <th></th>\n",
              "      <th>interval</th>\n",
              "      <th>absolute frequences</th>\n",
              "      <th>theoretical frequences</th>\n",
              "    </tr>\n",
              "  </thead>\n",
              "  <tbody>\n",
              "    <tr>\n",
              "      <th>0</th>\n",
              "      <td>[0, 1)</td>\n",
              "      <td>42</td>\n",
              "      <td>42.878736</td>\n",
              "    </tr>\n",
              "    <tr>\n",
              "      <th>1</th>\n",
              "      <td>[1, 2)</td>\n",
              "      <td>5</td>\n",
              "      <td>6.107016</td>\n",
              "    </tr>\n",
              "    <tr>\n",
              "      <th>2</th>\n",
              "      <td>[2, 3)</td>\n",
              "      <td>2</td>\n",
              "      <td>0.869793</td>\n",
              "    </tr>\n",
              "    <tr>\n",
              "      <th>3</th>\n",
              "      <td>[3, 3]</td>\n",
              "      <td>1</td>\n",
              "      <td>0.144455</td>\n",
              "    </tr>\n",
              "  </tbody>\n",
              "</table>\n",
              "</div>\n",
              "    <div class=\"colab-df-buttons\">\n",
              "\n",
              "  <div class=\"colab-df-container\">\n",
              "    <button class=\"colab-df-convert\" onclick=\"convertToInteractive('df-4557acf7-d4eb-45d4-af9b-9be0ec0272f7')\"\n",
              "            title=\"Convert this dataframe to an interactive table.\"\n",
              "            style=\"display:none;\">\n",
              "\n",
              "  <svg xmlns=\"http://www.w3.org/2000/svg\" height=\"24px\" viewBox=\"0 -960 960 960\">\n",
              "    <path d=\"M120-120v-720h720v720H120Zm60-500h600v-160H180v160Zm220 220h160v-160H400v160Zm0 220h160v-160H400v160ZM180-400h160v-160H180v160Zm440 0h160v-160H620v160ZM180-180h160v-160H180v160Zm440 0h160v-160H620v160Z\"/>\n",
              "  </svg>\n",
              "    </button>\n",
              "\n",
              "  <style>\n",
              "    .colab-df-container {\n",
              "      display:flex;\n",
              "      gap: 12px;\n",
              "    }\n",
              "\n",
              "    .colab-df-convert {\n",
              "      background-color: #E8F0FE;\n",
              "      border: none;\n",
              "      border-radius: 50%;\n",
              "      cursor: pointer;\n",
              "      display: none;\n",
              "      fill: #1967D2;\n",
              "      height: 32px;\n",
              "      padding: 0 0 0 0;\n",
              "      width: 32px;\n",
              "    }\n",
              "\n",
              "    .colab-df-convert:hover {\n",
              "      background-color: #E2EBFA;\n",
              "      box-shadow: 0px 1px 2px rgba(60, 64, 67, 0.3), 0px 1px 3px 1px rgba(60, 64, 67, 0.15);\n",
              "      fill: #174EA6;\n",
              "    }\n",
              "\n",
              "    .colab-df-buttons div {\n",
              "      margin-bottom: 4px;\n",
              "    }\n",
              "\n",
              "    [theme=dark] .colab-df-convert {\n",
              "      background-color: #3B4455;\n",
              "      fill: #D2E3FC;\n",
              "    }\n",
              "\n",
              "    [theme=dark] .colab-df-convert:hover {\n",
              "      background-color: #434B5C;\n",
              "      box-shadow: 0px 1px 3px 1px rgba(0, 0, 0, 0.15);\n",
              "      filter: drop-shadow(0px 1px 2px rgba(0, 0, 0, 0.3));\n",
              "      fill: #FFFFFF;\n",
              "    }\n",
              "  </style>\n",
              "\n",
              "    <script>\n",
              "      const buttonEl =\n",
              "        document.querySelector('#df-4557acf7-d4eb-45d4-af9b-9be0ec0272f7 button.colab-df-convert');\n",
              "      buttonEl.style.display =\n",
              "        google.colab.kernel.accessAllowed ? 'block' : 'none';\n",
              "\n",
              "      async function convertToInteractive(key) {\n",
              "        const element = document.querySelector('#df-4557acf7-d4eb-45d4-af9b-9be0ec0272f7');\n",
              "        const dataTable =\n",
              "          await google.colab.kernel.invokeFunction('convertToInteractive',\n",
              "                                                    [key], {});\n",
              "        if (!dataTable) return;\n",
              "\n",
              "        const docLinkHtml = 'Like what you see? Visit the ' +\n",
              "          '<a target=\"_blank\" href=https://colab.research.google.com/notebooks/data_table.ipynb>data table notebook</a>'\n",
              "          + ' to learn more about interactive tables.';\n",
              "        element.innerHTML = '';\n",
              "        dataTable['output_type'] = 'display_data';\n",
              "        await google.colab.output.renderOutput(dataTable, element);\n",
              "        const docLink = document.createElement('div');\n",
              "        docLink.innerHTML = docLinkHtml;\n",
              "        element.appendChild(docLink);\n",
              "      }\n",
              "    </script>\n",
              "  </div>\n",
              "\n",
              "\n",
              "<div id=\"df-615f9aaa-4288-4b00-9a9d-ac02e675d6f9\">\n",
              "  <button class=\"colab-df-quickchart\" onclick=\"quickchart('df-615f9aaa-4288-4b00-9a9d-ac02e675d6f9')\"\n",
              "            title=\"Suggest charts\"\n",
              "            style=\"display:none;\">\n",
              "\n",
              "<svg xmlns=\"http://www.w3.org/2000/svg\" height=\"24px\"viewBox=\"0 0 24 24\"\n",
              "     width=\"24px\">\n",
              "    <g>\n",
              "        <path d=\"M19 3H5c-1.1 0-2 .9-2 2v14c0 1.1.9 2 2 2h14c1.1 0 2-.9 2-2V5c0-1.1-.9-2-2-2zM9 17H7v-7h2v7zm4 0h-2V7h2v10zm4 0h-2v-4h2v4z\"/>\n",
              "    </g>\n",
              "</svg>\n",
              "  </button>\n",
              "\n",
              "<style>\n",
              "  .colab-df-quickchart {\n",
              "      --bg-color: #E8F0FE;\n",
              "      --fill-color: #1967D2;\n",
              "      --hover-bg-color: #E2EBFA;\n",
              "      --hover-fill-color: #174EA6;\n",
              "      --disabled-fill-color: #AAA;\n",
              "      --disabled-bg-color: #DDD;\n",
              "  }\n",
              "\n",
              "  [theme=dark] .colab-df-quickchart {\n",
              "      --bg-color: #3B4455;\n",
              "      --fill-color: #D2E3FC;\n",
              "      --hover-bg-color: #434B5C;\n",
              "      --hover-fill-color: #FFFFFF;\n",
              "      --disabled-bg-color: #3B4455;\n",
              "      --disabled-fill-color: #666;\n",
              "  }\n",
              "\n",
              "  .colab-df-quickchart {\n",
              "    background-color: var(--bg-color);\n",
              "    border: none;\n",
              "    border-radius: 50%;\n",
              "    cursor: pointer;\n",
              "    display: none;\n",
              "    fill: var(--fill-color);\n",
              "    height: 32px;\n",
              "    padding: 0;\n",
              "    width: 32px;\n",
              "  }\n",
              "\n",
              "  .colab-df-quickchart:hover {\n",
              "    background-color: var(--hover-bg-color);\n",
              "    box-shadow: 0 1px 2px rgba(60, 64, 67, 0.3), 0 1px 3px 1px rgba(60, 64, 67, 0.15);\n",
              "    fill: var(--button-hover-fill-color);\n",
              "  }\n",
              "\n",
              "  .colab-df-quickchart-complete:disabled,\n",
              "  .colab-df-quickchart-complete:disabled:hover {\n",
              "    background-color: var(--disabled-bg-color);\n",
              "    fill: var(--disabled-fill-color);\n",
              "    box-shadow: none;\n",
              "  }\n",
              "\n",
              "  .colab-df-spinner {\n",
              "    border: 2px solid var(--fill-color);\n",
              "    border-color: transparent;\n",
              "    border-bottom-color: var(--fill-color);\n",
              "    animation:\n",
              "      spin 1s steps(1) infinite;\n",
              "  }\n",
              "\n",
              "  @keyframes spin {\n",
              "    0% {\n",
              "      border-color: transparent;\n",
              "      border-bottom-color: var(--fill-color);\n",
              "      border-left-color: var(--fill-color);\n",
              "    }\n",
              "    20% {\n",
              "      border-color: transparent;\n",
              "      border-left-color: var(--fill-color);\n",
              "      border-top-color: var(--fill-color);\n",
              "    }\n",
              "    30% {\n",
              "      border-color: transparent;\n",
              "      border-left-color: var(--fill-color);\n",
              "      border-top-color: var(--fill-color);\n",
              "      border-right-color: var(--fill-color);\n",
              "    }\n",
              "    40% {\n",
              "      border-color: transparent;\n",
              "      border-right-color: var(--fill-color);\n",
              "      border-top-color: var(--fill-color);\n",
              "    }\n",
              "    60% {\n",
              "      border-color: transparent;\n",
              "      border-right-color: var(--fill-color);\n",
              "    }\n",
              "    80% {\n",
              "      border-color: transparent;\n",
              "      border-right-color: var(--fill-color);\n",
              "      border-bottom-color: var(--fill-color);\n",
              "    }\n",
              "    90% {\n",
              "      border-color: transparent;\n",
              "      border-bottom-color: var(--fill-color);\n",
              "    }\n",
              "  }\n",
              "</style>\n",
              "\n",
              "  <script>\n",
              "    async function quickchart(key) {\n",
              "      const quickchartButtonEl =\n",
              "        document.querySelector('#' + key + ' button');\n",
              "      quickchartButtonEl.disabled = true;  // To prevent multiple clicks.\n",
              "      quickchartButtonEl.classList.add('colab-df-spinner');\n",
              "      try {\n",
              "        const charts = await google.colab.kernel.invokeFunction(\n",
              "            'suggestCharts', [key], {});\n",
              "      } catch (error) {\n",
              "        console.error('Error during call to suggestCharts:', error);\n",
              "      }\n",
              "      quickchartButtonEl.classList.remove('colab-df-spinner');\n",
              "      quickchartButtonEl.classList.add('colab-df-quickchart-complete');\n",
              "    }\n",
              "    (() => {\n",
              "      let quickchartButtonEl =\n",
              "        document.querySelector('#df-615f9aaa-4288-4b00-9a9d-ac02e675d6f9 button');\n",
              "      quickchartButtonEl.style.display =\n",
              "        google.colab.kernel.accessAllowed ? 'block' : 'none';\n",
              "    })();\n",
              "  </script>\n",
              "</div>\n",
              "    </div>\n",
              "  </div>\n"
            ]
          },
          "metadata": {},
          "execution_count": 222
        }
      ]
    },
    {
      "cell_type": "markdown",
      "source": [
        "Вычисление статистики  $\\hat{\\chi}^2$:"
      ],
      "metadata": {
        "id": "8sVhicPd-5Px"
      }
    },
    {
      "cell_type": "code",
      "source": [
        "np.sum(np.square(v - n * p)/(n * p))"
      ],
      "metadata": {
        "colab": {
          "base_uri": "https://localhost:8080/"
        },
        "id": "Eh-PyaqQMpPx",
        "outputId": "d1779c8d-c6aa-4ed9-8f0c-b6a4e7f48241"
      },
      "execution_count": 223,
      "outputs": [
        {
          "output_type": "execute_result",
          "data": {
            "text/plain": [
              "6.754311391401067"
            ]
          },
          "metadata": {},
          "execution_count": 223
        }
      ]
    },
    {
      "cell_type": "markdown",
      "source": [
        "$\\hat{\\chi}^2 ≈ 6.754$"
      ],
      "metadata": {
        "id": "oosVKczq-878"
      }
    },
    {
      "cell_type": "code",
      "source": [
        "sps.chi2.ppf(1 - alpha_2, df = 3)"
      ],
      "metadata": {
        "colab": {
          "base_uri": "https://localhost:8080/"
        },
        "id": "RQyEjNIJMxLy",
        "outputId": "31543a1e-59e1-4680-dd2c-279770878911"
      },
      "execution_count": 224,
      "outputs": [
        {
          "output_type": "execute_result",
          "data": {
            "text/plain": [
              "6.251388631170325"
            ]
          },
          "metadata": {},
          "execution_count": 224
        }
      ]
    },
    {
      "cell_type": "markdown",
      "source": [
        "$x_{\\alpha1} = 6.25$"
      ],
      "metadata": {
        "id": "wbsPLA2a_pDe"
      }
    },
    {
      "cell_type": "markdown",
      "source": [
        "$\\hat{\\chi}^2 > x_{\\alpha1} ⇒ $ нулевая гипотеза  отвергается"
      ],
      "metadata": {
        "id": "Yp7-Mh2XNzp_"
      }
    },
    {
      "cell_type": "code",
      "source": [
        "1 - sps.chi2(3).cdf(6.754) #критический уровень значимости, когда гипотеза еще не отвергается"
      ],
      "metadata": {
        "colab": {
          "base_uri": "https://localhost:8080/"
        },
        "id": "YEXCiN_FMxts",
        "outputId": "fd1a1a75-a197-4c08-89ab-86959937bca0"
      },
      "execution_count": 244,
      "outputs": [
        {
          "output_type": "execute_result",
          "data": {
            "text/plain": [
              "0.0801659814231227"
            ]
          },
          "metadata": {},
          "execution_count": 244
        }
      ]
    },
    {
      "cell_type": "markdown",
      "source": [
        "#### h)Построение наиболее мощного критерия проверки простой гипотезы показательности с параметром $\\lambda_0$ при альтернативе показательности с параметром $\\lambda_1$. Проверка гипотезы на уровне значимости $\\alpha_2$"
      ],
      "metadata": {
        "id": "qtkj34MINxHj"
      }
    },
    {
      "cell_type": "markdown",
      "source": [
        " $H_0 : \\lambda = \\lambda_0$\n",
        "\n",
        "$H_A : \\lambda = \\lambda_1$\n",
        "\n",
        "Функция правдоподобия:\n",
        "\n",
        "$L\\left(\\overrightarrow{X}, \\theta\\right) = \\left(\\frac{\\lambda}{2\\pi}\\right)^{n/2}\\exp\\left(-\\frac{\\lambda}{2}\\sum_{i=1}^{n}{x_i}\\right)\\prod_{i=1}^{n}\\frac{1}{\\sqrt{x_i}}$\n",
        "\n",
        "Статистика отношения правдоподобия:\n",
        "\n",
        "$LR\\left(\\overrightarrow{X}, \\lambda_0, \\lambda_1\\right) = \\frac{L\\left(\\overrightarrow{X}, \\lambda_1\\right)}{L\\left(\\overrightarrow{X}, \\lambda_0\\right)} = \\left(\\frac{\\lambda_1}{\\lambda_0}\\right)^{n/2}\\exp(-\\frac{1}{2}(\\lambda_1 - \\lambda_0) \\sum_{i=1}^{n}x_i)$\n",
        "\n",
        "Так как $LR\\left(\\overrightarrow{X}, \\lambda_0, \\lambda_1\\right)$ монотонна относительно МДС $\\bar{X}$\n",
        "\n",
        "$LR\\left(\\overrightarrow{X}\\right) = \\left(\\frac{\\lambda_1}{\\lambda_0}\\right)^{n/2}\\exp(-\\frac{1}{2}(\\lambda_1 - \\lambda_0) \\sum_{i=1}^{n}x_i) > c \\iff \\frac{n}{2}\\ln\\frac{\\lambda_1}{\\lambda_0} - \\frac{1}{2}(\\lambda_1 - \\lambda_0)\\sum_{i=1}^{n}{x_i} > \\ln c \\iff \\bar{X} > -\\frac{\\ln c - \\frac{n}{2}\\ln\\frac{\\lambda_1}{\\lambda_0}}{\\frac{1}{2}(\\lambda_1 - \\lambda_0)} = c^*$\n",
        "\n",
        "$LR\\left(\\overrightarrow{X}\\right) < c \\iff \\bar{X} < c^*$\n",
        "\n",
        "$P_{\\lambda_0}\\left(LR(\\overrightarrow{X}) > c\\right) + pP_{\\lambda_0}\\left(LR(\\overrightarrow{X}) = c\\right) = \\alpha_2$\n",
        "\n",
        "$P_{\\lambda_0}\\left(n\\bar{X} > nc^*\\right) + pP_{\\lambda_0}\\left(n\\bar{X} = nc^*\\right) = \\alpha_2$\n",
        "\n",
        "Критерий не определен однозначно при $LR(\\overrightarrow{X}) = c$\n",
        "\n",
        "Пусть $LR(\\overrightarrow{X}) \\neq c$\n",
        "\n",
        "Тогда $P_{\\lambda_0}\\left(n\\bar{X} > nc^*\\right) = 1 - F_{Gamma(n/2, 2/\\lambda_0)}\\left(nc^*\\right) = \\alpha_2$\n",
        "\n",
        "$F_{Gamma(n/2, 2/\\lambda_0)}\\left(nc^*\\right) = 1 - \\alpha_2 = 0.9$"
      ],
      "metadata": {
        "id": "gGSgqWOZ_4qq"
      }
    },
    {
      "cell_type": "code",
      "source": [
        "print(\"c* = \", sps.gamma.ppf(0.9, a = 50/2, scale = lambda_0/2) / 50)"
      ],
      "metadata": {
        "colab": {
          "base_uri": "https://localhost:8080/"
        },
        "id": "2FiCLC1L8ppm",
        "outputId": "e16d27f9-20aa-407b-9e21-fbf459c218dd"
      },
      "execution_count": 226,
      "outputs": [
        {
          "output_type": "stream",
          "name": "stdout",
          "text": [
            "c* =  0.45164491519094313\n"
          ]
        }
      ]
    },
    {
      "cell_type": "markdown",
      "source": [
        "$c^* = 0.45$\n",
        "\n",
        "$\\bar{X} = 1.90$\n",
        "\n",
        "$c^* < \\bar{X}$ $⇒$ гипотеза $H_0$ отвергается"
      ],
      "metadata": {
        "id": "gQg-yBP188PL"
      }
    },
    {
      "cell_type": "markdown",
      "source": [
        "####i) Повторение пунктов (c)-(h) c семейством гамма-распределения"
      ],
      "metadata": {
        "id": "nUYls3LoPzrR"
      }
    },
    {
      "cell_type": "markdown",
      "source": [
        "####i.c) ОМП и ОММ\n",
        "$X_1, X_2, \\dots, X_n \\sim p_{\\theta}(x)$\n",
        "\n",
        "$p_{\\theta}(x) = \\frac{\\sqrt{\\lambda}\\exp(-\\lambda x/2)}{\\sqrt{2\\pi x}}$\n",
        "\n",
        "Оценка методом максимального правдоподобия:\n",
        "\n",
        "$L\\left(\\overrightarrow{X}, \\theta\\right) = \\prod_{i=1}^{n}\\frac{\\sqrt{\\lambda}\\exp(-\\lambda x_i/2)}{\\sqrt{2\\pi x_i}} = \\left(\\frac{\\lambda}{2\\pi}\\right)^{n/2}\\exp\\left(-\\frac{\\lambda}{2}\\sum_{i=1}^{n}{x_i}\\right)\\prod_{i=1}^{n}\\frac{1}{\\sqrt{x_i}}$\n",
        "\n",
        "$LL\\left(\\overrightarrow{X}, \\theta\\right) = \\frac{n}{2}\\ln\\frac{\\lambda}{2\\pi}-\\frac{\\lambda}{2}\\sum_{i=1}^{n}{x_i}+\\ln\\prod_{i=1}^{n}\\frac{1}{\\sqrt{x_i}}$\n",
        "\n",
        "$\\frac{\\partial LL\\left(\\overrightarrow X,\\ \\theta\\right)}{\\partial \\theta} = \\frac{n}{2\\lambda} - \\frac{1}{2}\\sum_{i=1}^{n}x_i = 0 \\implies \\hat{\\theta} = \\hat{\\lambda} = \\frac{1}{\\bar{X}}$\n",
        "\n",
        "Оценка по методу моментов:\n",
        "\n",
        " $X_1 \\sim Gamma(1/2,2/\\lambda)$\n",
        "\n",
        " $\\mathbb{E}_\\theta X_1 = \\frac{1}{\\lambda}$\n",
        "\n",
        " $M_1 = \\frac{1}{n}\\sum_{i=1}^{n}x_i = \\bar{X}$\n",
        "\n",
        "Решаем уравнение: $\\frac{1}{\\lambda} = \\bar{X} \\implies \\hat{\\lambda} = \\frac{1}{\\bar{X}}$\n",
        "\n",
        "Смещение:\n",
        "\n",
        "$\\mathbb{E}_\\theta\\hat{\\lambda} = \\mathbb{E}_\\theta\\frac{1}{\\bar{X}} = n\\mathbb{E}_\\theta\\frac{1}{\\sum_{i=1}^{n}x_i}$\n",
        "\n",
        " $X_i \\sim Gamma(1/2,2/\\lambda) \\implies Y = \\sum_{i=1}^{n}X_i \\sim Gamma(n/2,2/\\lambda)$ и $Y \\sim Gamma(\\alpha, \\beta), \\alpha > 0, \\beta > 0, \\gamma > - \\alpha \\implies \\mathbb{E}_\\theta Y^\\gamma = \\beta^\\gamma \\frac{\\Gamma(\\gamma + \\alpha)}{\\Gamma(\\alpha)}$:\n",
        "\n",
        "$\\mathbb{E}_\\theta\\hat{\\lambda} = n\\mathbb{E}_\\theta\\frac{1}{\\sum_{i=1}^{n}x_i} = n \\frac{\\lambda}{2} \\frac{\\Gamma(n/2-1)}{\\Gamma(n/2)} = \\frac{n}{n/2 - 1} \\frac{\\lambda}{2} = \\frac{n}{n-2}\\lambda \\implies$ оценка смещенная\n",
        "\n",
        "Несмещенная оценка: $\\tilde{\\lambda} = \\frac{n-2}{n}\\hat{\\lambda} = \\frac{n-2}{n}\\frac{1}{\\bar{X}}$"
      ],
      "metadata": {
        "id": "Pda0y4riP1ic"
      }
    },
    {
      "cell_type": "markdown",
      "source": [
        "####i.d)Асимптотический доверительный интервал"
      ],
      "metadata": {
        "id": "Q6KOttInQmRe"
      }
    },
    {
      "cell_type": "markdown",
      "source": [
        "$\\sqrt{n}\\left(\\frac{1}{\\bar{X}} - \\theta\\right) \\sim \\mathcal{N} \\left(0, \\frac{1}{I(\\theta))}\\right)$\n",
        "\n",
        "$I_n(\\theta) = -\\mathbb{E}_{\\theta}\\frac{\\partial^2 LL\\left(\\overrightarrow X,\\ \\theta\\right)}{\\partial \\theta^2} = \\mathbb{E}_{\\theta}\\frac{n}{2\\lambda^2} = \\frac{n}{2\\lambda^2} $\n",
        "\n",
        "$I(\\theta) = {\\lim_{n \\to \\infty}}\\frac{1}{2\\lambda^2} = \\frac{1}{2\\lambda^2}$\n",
        "\n",
        "$I(\\hat{\\theta}) = \\frac{\\bar{X}^{2}}{2}$\n",
        "\n",
        "$\\sqrt{n\\frac{\\bar{X}^{2}}{2}}\\left(\\frac{1}{\\bar{X}} - \\theta\\right) \\sim \\mathcal{N} \\left(0, 1\\right)$\n",
        "\n",
        "$x_\\alpha$: $\\Phi(x_\\alpha) = 1 - \\frac{\\alpha}{2} = 0.95$\n",
        "\n",
        "Тогда $P_\\theta\\left(-x_\\alpha \\le \\sqrt{n\\frac{\\bar{X}^{2}}{2}}\\left(\\frac{1}{\\bar{X}} - \\theta\\right) \\le x_\\alpha\\right) \\approx 1 - \\alpha = 0.9$\n",
        "\n",
        "$\\left[\\frac{1}{\\bar{X}} - \\frac{\\sqrt{2}x_\\alpha}{\\sqrt{n\\bar{X}^{2}}}, \\frac{1}{\\bar{X}} + \\frac{\\sqrt{2}x_\\alpha}{\\sqrt{n\\bar{X}^{2}}}\\right] \\ni \\lambda$\n",
        "\n",
        "$\\left[1.23, 2.54\\right] \\ni \\lambda$"
      ],
      "metadata": {
        "id": "rn2Hb9FdCzlL"
      }
    },
    {
      "cell_type": "markdown",
      "source": [
        "#### i.e)Построение критерия значимости проверки простой гипотезы согласия с распределением с параметром  $\\lambda_0$ с использованием теоремы Колмогорова. Проверка гипотезы на уровне значимости $\\alpha_2$. Вычисление наибольшего значения уровня значимости, на котором ещё нет оснований отвергнуть данную гипотезу"
      ],
      "metadata": {
        "id": "wDopdY7eQqym"
      }
    },
    {
      "cell_type": "markdown",
      "source": [
        " $X_1, X_2, \\dots, X_n \\sim$ F.\n",
        "\n",
        " $H_0 : F \\equiv F_{\\lambda_0}$\n",
        "\n",
        " $H_A : \\exists x : F(x) \\neq F_{\\lambda_0}(x)$\n",
        "\n",
        "Критерий уровня значимости $\\alpha_2$:\n",
        "\n",
        "$\\phi(x) = 0$, при $D_n \\le x_{\\alpha_2}$\n",
        "\n",
        "$\\phi(x) = 1$, при $D_n > x_{\\alpha_2}$\n",
        "\n",
        "$x_{\\alpha_2} : K(x_{\\alpha_2} / \\sqrt{n}) = 1 - \\alpha_2$"
      ],
      "metadata": {
        "id": "-KUzo8xNDojI"
      }
    },
    {
      "cell_type": "code",
      "source": [
        "class Gamma():\n",
        "    def __init__(self, lam):\n",
        "        self.lam = lam\n",
        "    def pdf(self, x):\n",
        "        return np.sqrt(self.lam) * np.exp(-self.lam * x/2)/np.sqrt(2 * np.pi * x)"
      ],
      "metadata": {
        "id": "SFIvGNbgP3yV"
      },
      "execution_count": 227,
      "outputs": []
    },
    {
      "cell_type": "markdown",
      "source": [
        "Рассчет статистики Колмогорова:"
      ],
      "metadata": {
        "id": "m4hQBpIXD8OS"
      }
    },
    {
      "cell_type": "code",
      "source": [
        "D, _  = sps.kstest(data_2, 'gamma', ( 2/lambda_0, 1/2))\n",
        "eta = np.sqrt(len(data_2)) * D\n",
        "eta #критерий колмогорова"
      ],
      "metadata": {
        "colab": {
          "base_uri": "https://localhost:8080/"
        },
        "id": "3bb3r83pV8H-",
        "outputId": "c6505c25-e982-4db7-b4a7-ff680dc10d04"
      },
      "execution_count": 228,
      "outputs": [
        {
          "output_type": "execute_result",
          "data": {
            "text/plain": [
              "5.142716898450736"
            ]
          },
          "metadata": {},
          "execution_count": 228
        }
      ]
    },
    {
      "cell_type": "markdown",
      "source": [
        "$D_n \\approx 5.142$"
      ],
      "metadata": {
        "id": "_3dnyAlhD5LA"
      }
    },
    {
      "cell_type": "code",
      "source": [
        "sps.kstwobign.ppf(1 - alpha_2)"
      ],
      "metadata": {
        "colab": {
          "base_uri": "https://localhost:8080/"
        },
        "id": "jToDU66UXCfJ",
        "outputId": "a2fd6d43-c7d0-46fc-fe3c-188814ad29ae"
      },
      "execution_count": 229,
      "outputs": [
        {
          "output_type": "execute_result",
          "data": {
            "text/plain": [
              "1.2238478702170825"
            ]
          },
          "metadata": {},
          "execution_count": 229
        }
      ]
    },
    {
      "cell_type": "markdown",
      "source": [
        "$x_{\\alpha_2} \\approx 1.223$"
      ],
      "metadata": {
        "id": "adeCIdQwEAqQ"
      }
    },
    {
      "cell_type": "markdown",
      "source": [
        "$D_n > x_{\\alpha_2}$ следовательно гипотеза $H_0$  отвергается."
      ],
      "metadata": {
        "id": "KfoEfFINEGxN"
      }
    },
    {
      "cell_type": "markdown",
      "source": [
        "Наибольшее значение уровня значимости, на котором ещё нет оснований отвергнуть данную гипотезу крайне мало."
      ],
      "metadata": {
        "id": "_LExtlRREPF0"
      }
    },
    {
      "cell_type": "code",
      "source": [
        "sps.kstwobign.ppf(1 - 10**(-16))"
      ],
      "metadata": {
        "colab": {
          "base_uri": "https://localhost:8080/"
        },
        "id": "o1AtJ9z8XFaD",
        "outputId": "167893fe-9264-4128-aac0-12501fe94dfe"
      },
      "execution_count": 230,
      "outputs": [
        {
          "output_type": "execute_result",
          "data": {
            "text/plain": [
              "4.326080659802649"
            ]
          },
          "metadata": {},
          "execution_count": 230
        }
      ]
    },
    {
      "cell_type": "markdown",
      "source": [
        "####i.f)Построение критерия значимости $\\chi^2$ проверки простой гипотезы согласия с распределением с параметром  $\\lambda_0$. Проверка гипотезы на уровне значимости $\\alpha_2$. Вычисление наибольшего значения уровня значимости, на котором ещё нет оснований отвергнуть данную гипотезу"
      ],
      "metadata": {
        "id": "qOUzsnk5hP61"
      }
    },
    {
      "cell_type": "markdown",
      "source": [
        "$X_1, X_2, \\dots, X_n \\sim F$.\n",
        "\n",
        "$H_0 : p \\equiv F$\n",
        "\n",
        "$H_A : \\exists x : \\mathbb{p_{\\theta}(x)} \\neq p_{F}(x)$\n",
        "\n",
        " Оценка параметра - ОМП: $\\hat{\\theta} = \\bar{X}$"
      ],
      "metadata": {
        "id": "ZgDmwg8DFYC7"
      }
    },
    {
      "cell_type": "code",
      "source": [
        "x = [0, 1, 2, 3]\n",
        "p = []\n",
        "for i in range(1,4):\n",
        "    p.append(sps.gamma(2/lambda_0, 1/2).cdf(i) - sps.gamma(2/lambda_0, 1/2).cdf(i - 1))\n",
        "p.append(1 - sps.gamma(2/lambda_0, 1/2).cdf(x[-1]))"
      ],
      "metadata": {
        "id": "3pks4cNyfjYh"
      },
      "execution_count": 231,
      "outputs": []
    },
    {
      "cell_type": "code",
      "source": [
        "p = np.array(p)"
      ],
      "metadata": {
        "id": "VPy-hDA1jAgL"
      },
      "execution_count": 232,
      "outputs": []
    },
    {
      "cell_type": "code",
      "source": [
        "intervals = ['[0, 1)', '[1, 2)', '[2, 3)', '[3, 3]']\n",
        "pd.DataFrame({'interval':intervals, 'absolute frequences':v, 'theoretical frequences':p * n })"
      ],
      "metadata": {
        "colab": {
          "base_uri": "https://localhost:8080/",
          "height": 175
        },
        "id": "F2UPIZrOhpuU",
        "outputId": "4fc103f5-3065-4eff-b7f9-6dbcf8f5d27d"
      },
      "execution_count": 233,
      "outputs": [
        {
          "output_type": "execute_result",
          "data": {
            "text/plain": [
              "  interval  absolute frequences  theoretical frequences\n",
              "0   [0, 1)                   42               11.520570\n",
              "1   [1, 2)                    5               20.643345\n",
              "2   [2, 3)                    2               10.277194\n",
              "3   [3, 3]                    1                7.558891"
            ],
            "text/html": [
              "\n",
              "  <div id=\"df-f0ac8914-fe82-404e-817f-7ba728c03f4f\" class=\"colab-df-container\">\n",
              "    <div>\n",
              "<style scoped>\n",
              "    .dataframe tbody tr th:only-of-type {\n",
              "        vertical-align: middle;\n",
              "    }\n",
              "\n",
              "    .dataframe tbody tr th {\n",
              "        vertical-align: top;\n",
              "    }\n",
              "\n",
              "    .dataframe thead th {\n",
              "        text-align: right;\n",
              "    }\n",
              "</style>\n",
              "<table border=\"1\" class=\"dataframe\">\n",
              "  <thead>\n",
              "    <tr style=\"text-align: right;\">\n",
              "      <th></th>\n",
              "      <th>interval</th>\n",
              "      <th>absolute frequences</th>\n",
              "      <th>theoretical frequences</th>\n",
              "    </tr>\n",
              "  </thead>\n",
              "  <tbody>\n",
              "    <tr>\n",
              "      <th>0</th>\n",
              "      <td>[0, 1)</td>\n",
              "      <td>42</td>\n",
              "      <td>11.520570</td>\n",
              "    </tr>\n",
              "    <tr>\n",
              "      <th>1</th>\n",
              "      <td>[1, 2)</td>\n",
              "      <td>5</td>\n",
              "      <td>20.643345</td>\n",
              "    </tr>\n",
              "    <tr>\n",
              "      <th>2</th>\n",
              "      <td>[2, 3)</td>\n",
              "      <td>2</td>\n",
              "      <td>10.277194</td>\n",
              "    </tr>\n",
              "    <tr>\n",
              "      <th>3</th>\n",
              "      <td>[3, 3]</td>\n",
              "      <td>1</td>\n",
              "      <td>7.558891</td>\n",
              "    </tr>\n",
              "  </tbody>\n",
              "</table>\n",
              "</div>\n",
              "    <div class=\"colab-df-buttons\">\n",
              "\n",
              "  <div class=\"colab-df-container\">\n",
              "    <button class=\"colab-df-convert\" onclick=\"convertToInteractive('df-f0ac8914-fe82-404e-817f-7ba728c03f4f')\"\n",
              "            title=\"Convert this dataframe to an interactive table.\"\n",
              "            style=\"display:none;\">\n",
              "\n",
              "  <svg xmlns=\"http://www.w3.org/2000/svg\" height=\"24px\" viewBox=\"0 -960 960 960\">\n",
              "    <path d=\"M120-120v-720h720v720H120Zm60-500h600v-160H180v160Zm220 220h160v-160H400v160Zm0 220h160v-160H400v160ZM180-400h160v-160H180v160Zm440 0h160v-160H620v160ZM180-180h160v-160H180v160Zm440 0h160v-160H620v160Z\"/>\n",
              "  </svg>\n",
              "    </button>\n",
              "\n",
              "  <style>\n",
              "    .colab-df-container {\n",
              "      display:flex;\n",
              "      gap: 12px;\n",
              "    }\n",
              "\n",
              "    .colab-df-convert {\n",
              "      background-color: #E8F0FE;\n",
              "      border: none;\n",
              "      border-radius: 50%;\n",
              "      cursor: pointer;\n",
              "      display: none;\n",
              "      fill: #1967D2;\n",
              "      height: 32px;\n",
              "      padding: 0 0 0 0;\n",
              "      width: 32px;\n",
              "    }\n",
              "\n",
              "    .colab-df-convert:hover {\n",
              "      background-color: #E2EBFA;\n",
              "      box-shadow: 0px 1px 2px rgba(60, 64, 67, 0.3), 0px 1px 3px 1px rgba(60, 64, 67, 0.15);\n",
              "      fill: #174EA6;\n",
              "    }\n",
              "\n",
              "    .colab-df-buttons div {\n",
              "      margin-bottom: 4px;\n",
              "    }\n",
              "\n",
              "    [theme=dark] .colab-df-convert {\n",
              "      background-color: #3B4455;\n",
              "      fill: #D2E3FC;\n",
              "    }\n",
              "\n",
              "    [theme=dark] .colab-df-convert:hover {\n",
              "      background-color: #434B5C;\n",
              "      box-shadow: 0px 1px 3px 1px rgba(0, 0, 0, 0.15);\n",
              "      filter: drop-shadow(0px 1px 2px rgba(0, 0, 0, 0.3));\n",
              "      fill: #FFFFFF;\n",
              "    }\n",
              "  </style>\n",
              "\n",
              "    <script>\n",
              "      const buttonEl =\n",
              "        document.querySelector('#df-f0ac8914-fe82-404e-817f-7ba728c03f4f button.colab-df-convert');\n",
              "      buttonEl.style.display =\n",
              "        google.colab.kernel.accessAllowed ? 'block' : 'none';\n",
              "\n",
              "      async function convertToInteractive(key) {\n",
              "        const element = document.querySelector('#df-f0ac8914-fe82-404e-817f-7ba728c03f4f');\n",
              "        const dataTable =\n",
              "          await google.colab.kernel.invokeFunction('convertToInteractive',\n",
              "                                                    [key], {});\n",
              "        if (!dataTable) return;\n",
              "\n",
              "        const docLinkHtml = 'Like what you see? Visit the ' +\n",
              "          '<a target=\"_blank\" href=https://colab.research.google.com/notebooks/data_table.ipynb>data table notebook</a>'\n",
              "          + ' to learn more about interactive tables.';\n",
              "        element.innerHTML = '';\n",
              "        dataTable['output_type'] = 'display_data';\n",
              "        await google.colab.output.renderOutput(dataTable, element);\n",
              "        const docLink = document.createElement('div');\n",
              "        docLink.innerHTML = docLinkHtml;\n",
              "        element.appendChild(docLink);\n",
              "      }\n",
              "    </script>\n",
              "  </div>\n",
              "\n",
              "\n",
              "<div id=\"df-c0cea32d-c944-4a88-8a76-e2e2499cd85b\">\n",
              "  <button class=\"colab-df-quickchart\" onclick=\"quickchart('df-c0cea32d-c944-4a88-8a76-e2e2499cd85b')\"\n",
              "            title=\"Suggest charts\"\n",
              "            style=\"display:none;\">\n",
              "\n",
              "<svg xmlns=\"http://www.w3.org/2000/svg\" height=\"24px\"viewBox=\"0 0 24 24\"\n",
              "     width=\"24px\">\n",
              "    <g>\n",
              "        <path d=\"M19 3H5c-1.1 0-2 .9-2 2v14c0 1.1.9 2 2 2h14c1.1 0 2-.9 2-2V5c0-1.1-.9-2-2-2zM9 17H7v-7h2v7zm4 0h-2V7h2v10zm4 0h-2v-4h2v4z\"/>\n",
              "    </g>\n",
              "</svg>\n",
              "  </button>\n",
              "\n",
              "<style>\n",
              "  .colab-df-quickchart {\n",
              "      --bg-color: #E8F0FE;\n",
              "      --fill-color: #1967D2;\n",
              "      --hover-bg-color: #E2EBFA;\n",
              "      --hover-fill-color: #174EA6;\n",
              "      --disabled-fill-color: #AAA;\n",
              "      --disabled-bg-color: #DDD;\n",
              "  }\n",
              "\n",
              "  [theme=dark] .colab-df-quickchart {\n",
              "      --bg-color: #3B4455;\n",
              "      --fill-color: #D2E3FC;\n",
              "      --hover-bg-color: #434B5C;\n",
              "      --hover-fill-color: #FFFFFF;\n",
              "      --disabled-bg-color: #3B4455;\n",
              "      --disabled-fill-color: #666;\n",
              "  }\n",
              "\n",
              "  .colab-df-quickchart {\n",
              "    background-color: var(--bg-color);\n",
              "    border: none;\n",
              "    border-radius: 50%;\n",
              "    cursor: pointer;\n",
              "    display: none;\n",
              "    fill: var(--fill-color);\n",
              "    height: 32px;\n",
              "    padding: 0;\n",
              "    width: 32px;\n",
              "  }\n",
              "\n",
              "  .colab-df-quickchart:hover {\n",
              "    background-color: var(--hover-bg-color);\n",
              "    box-shadow: 0 1px 2px rgba(60, 64, 67, 0.3), 0 1px 3px 1px rgba(60, 64, 67, 0.15);\n",
              "    fill: var(--button-hover-fill-color);\n",
              "  }\n",
              "\n",
              "  .colab-df-quickchart-complete:disabled,\n",
              "  .colab-df-quickchart-complete:disabled:hover {\n",
              "    background-color: var(--disabled-bg-color);\n",
              "    fill: var(--disabled-fill-color);\n",
              "    box-shadow: none;\n",
              "  }\n",
              "\n",
              "  .colab-df-spinner {\n",
              "    border: 2px solid var(--fill-color);\n",
              "    border-color: transparent;\n",
              "    border-bottom-color: var(--fill-color);\n",
              "    animation:\n",
              "      spin 1s steps(1) infinite;\n",
              "  }\n",
              "\n",
              "  @keyframes spin {\n",
              "    0% {\n",
              "      border-color: transparent;\n",
              "      border-bottom-color: var(--fill-color);\n",
              "      border-left-color: var(--fill-color);\n",
              "    }\n",
              "    20% {\n",
              "      border-color: transparent;\n",
              "      border-left-color: var(--fill-color);\n",
              "      border-top-color: var(--fill-color);\n",
              "    }\n",
              "    30% {\n",
              "      border-color: transparent;\n",
              "      border-left-color: var(--fill-color);\n",
              "      border-top-color: var(--fill-color);\n",
              "      border-right-color: var(--fill-color);\n",
              "    }\n",
              "    40% {\n",
              "      border-color: transparent;\n",
              "      border-right-color: var(--fill-color);\n",
              "      border-top-color: var(--fill-color);\n",
              "    }\n",
              "    60% {\n",
              "      border-color: transparent;\n",
              "      border-right-color: var(--fill-color);\n",
              "    }\n",
              "    80% {\n",
              "      border-color: transparent;\n",
              "      border-right-color: var(--fill-color);\n",
              "      border-bottom-color: var(--fill-color);\n",
              "    }\n",
              "    90% {\n",
              "      border-color: transparent;\n",
              "      border-bottom-color: var(--fill-color);\n",
              "    }\n",
              "  }\n",
              "</style>\n",
              "\n",
              "  <script>\n",
              "    async function quickchart(key) {\n",
              "      const quickchartButtonEl =\n",
              "        document.querySelector('#' + key + ' button');\n",
              "      quickchartButtonEl.disabled = true;  // To prevent multiple clicks.\n",
              "      quickchartButtonEl.classList.add('colab-df-spinner');\n",
              "      try {\n",
              "        const charts = await google.colab.kernel.invokeFunction(\n",
              "            'suggestCharts', [key], {});\n",
              "      } catch (error) {\n",
              "        console.error('Error during call to suggestCharts:', error);\n",
              "      }\n",
              "      quickchartButtonEl.classList.remove('colab-df-spinner');\n",
              "      quickchartButtonEl.classList.add('colab-df-quickchart-complete');\n",
              "    }\n",
              "    (() => {\n",
              "      let quickchartButtonEl =\n",
              "        document.querySelector('#df-c0cea32d-c944-4a88-8a76-e2e2499cd85b button');\n",
              "      quickchartButtonEl.style.display =\n",
              "        google.colab.kernel.accessAllowed ? 'block' : 'none';\n",
              "    })();\n",
              "  </script>\n",
              "</div>\n",
              "    </div>\n",
              "  </div>\n"
            ]
          },
          "metadata": {},
          "execution_count": 233
        }
      ]
    },
    {
      "cell_type": "markdown",
      "source": [
        "Вычисление статистики  $\\hat{\\chi}^2$:"
      ],
      "metadata": {
        "id": "945P8qx0GYej"
      }
    },
    {
      "cell_type": "code",
      "source": [
        "np.sum(np.square(v - n * p)/(n * p))"
      ],
      "metadata": {
        "colab": {
          "base_uri": "https://localhost:8080/"
        },
        "id": "1WR_kygSjNx2",
        "outputId": "00e1af8f-187f-4fc4-f679-3b461b8e6605"
      },
      "execution_count": 234,
      "outputs": [
        {
          "output_type": "execute_result",
          "data": {
            "text/plain": [
              "104.8499691808619"
            ]
          },
          "metadata": {},
          "execution_count": 234
        }
      ]
    },
    {
      "cell_type": "markdown",
      "source": [
        "$\\hat{\\chi}^2 ≈ 104.84$"
      ],
      "metadata": {
        "id": "kMwhKv3yGcE1"
      }
    },
    {
      "cell_type": "markdown",
      "source": [
        "Вычисление критического значения на уровне значимости $\\alpha_{2}$:"
      ],
      "metadata": {
        "id": "Ox7jkJ3DGlHR"
      }
    },
    {
      "cell_type": "code",
      "source": [
        "sps.chi2.ppf(1 - alpha_2, df = 3)"
      ],
      "metadata": {
        "colab": {
          "base_uri": "https://localhost:8080/"
        },
        "id": "k5xXDnJujSgX",
        "outputId": "d3f84bfe-5170-4aca-b101-e36821feec76"
      },
      "execution_count": 235,
      "outputs": [
        {
          "output_type": "execute_result",
          "data": {
            "text/plain": [
              "6.251388631170325"
            ]
          },
          "metadata": {},
          "execution_count": 235
        }
      ]
    },
    {
      "cell_type": "markdown",
      "source": [
        "$x_{\\alpha2} = 6.251388631$"
      ],
      "metadata": {
        "id": "J_yDhbB7Gr3V"
      }
    },
    {
      "cell_type": "markdown",
      "source": [
        "$\\hat{\\chi}^2 > x_{\\alpha2} ⇒ $ нулевая гипотеза отвергается"
      ],
      "metadata": {
        "id": "Srx4tXCmGxTZ"
      }
    },
    {
      "cell_type": "markdown",
      "source": [
        "Вычисление критического значения на уровне значимости $\\alpha_{2}$:"
      ],
      "metadata": {
        "id": "2-N_sU3SGjC7"
      }
    },
    {
      "cell_type": "code",
      "source": [
        "1 - sps.chi2(3).cdf(104.84)"
      ],
      "metadata": {
        "colab": {
          "base_uri": "https://localhost:8080/"
        },
        "id": "kFdHAGcEjUlZ",
        "outputId": "dd8899c4-01a5-485a-8265-532b3a8751ec"
      },
      "execution_count": 245,
      "outputs": [
        {
          "output_type": "execute_result",
          "data": {
            "text/plain": [
              "0.0"
            ]
          },
          "metadata": {},
          "execution_count": 245
        }
      ]
    },
    {
      "cell_type": "markdown",
      "source": [
        "####i.g)Построение критерия значимости $\\chi^2$ проверки сложной гипотезы согласия с распределением Пуассона. Проверка гипотезы на уровне значимости $\\alpha_2$. Вычисление наибольшего значения уровня значимости, на котором ещё нет оснований отвергнуть данную гипотезу"
      ],
      "metadata": {
        "id": "XxoEkUIdjcf0"
      }
    },
    {
      "cell_type": "markdown",
      "source": [
        " $X_1, X_2, \\dots, X_n \\sim $ F.\n",
        "\n",
        " $H_0 : F \\in \\left\\{F_0(\\theta) : \\theta \\in \\Theta_0 \\right\\}$\n",
        "\n",
        " $H_A : F \\notin \\left\\{F_0(\\theta) : \\theta \\in \\Theta_0 \\right\\}$"
      ],
      "metadata": {
        "id": "t8k408qIH8qp"
      }
    },
    {
      "cell_type": "code",
      "source": [
        "x = [0, 1, 2, 3]\n",
        "p = []\n",
        "for i in range(1,4):\n",
        "    p.append(sps.gamma(2/ML_est, 1/2).cdf(i) - sps.gamma(2/ML_est, 1/2).cdf(i - 1))\n",
        "p.append(1 - sps.gamma(2/ML_est, 1/2).cdf(x[-1]))"
      ],
      "metadata": {
        "id": "1gr6FWi-jg6B"
      },
      "execution_count": 237,
      "outputs": []
    },
    {
      "cell_type": "code",
      "source": [
        "p = np.array(p)"
      ],
      "metadata": {
        "id": "VOis2nB8kdT6"
      },
      "execution_count": 238,
      "outputs": []
    },
    {
      "cell_type": "code",
      "source": [
        "intervals = ['[0, 1)', '[1, 2)', '[2, 3)', '[3, 3]']\n",
        "pd.DataFrame({'interval':intervals, 'absolute frequences':v, 'theoretical frequences':p * n })"
      ],
      "metadata": {
        "colab": {
          "base_uri": "https://localhost:8080/",
          "height": 175
        },
        "id": "DihUztLokd35",
        "outputId": "6e92f12d-d31a-44cf-b45d-0aec6fd73a12"
      },
      "execution_count": 239,
      "outputs": [
        {
          "output_type": "execute_result",
          "data": {
            "text/plain": [
              "  interval  absolute frequences  theoretical frequences\n",
              "0   [0, 1)                   42               19.039204\n",
              "1   [1, 2)                    5               19.384088\n",
              "2   [2, 3)                    2                7.276908\n",
              "3   [3, 3]                    1                4.299800"
            ],
            "text/html": [
              "\n",
              "  <div id=\"df-0aad500e-b420-4345-81b8-df0913c2c1ec\" class=\"colab-df-container\">\n",
              "    <div>\n",
              "<style scoped>\n",
              "    .dataframe tbody tr th:only-of-type {\n",
              "        vertical-align: middle;\n",
              "    }\n",
              "\n",
              "    .dataframe tbody tr th {\n",
              "        vertical-align: top;\n",
              "    }\n",
              "\n",
              "    .dataframe thead th {\n",
              "        text-align: right;\n",
              "    }\n",
              "</style>\n",
              "<table border=\"1\" class=\"dataframe\">\n",
              "  <thead>\n",
              "    <tr style=\"text-align: right;\">\n",
              "      <th></th>\n",
              "      <th>interval</th>\n",
              "      <th>absolute frequences</th>\n",
              "      <th>theoretical frequences</th>\n",
              "    </tr>\n",
              "  </thead>\n",
              "  <tbody>\n",
              "    <tr>\n",
              "      <th>0</th>\n",
              "      <td>[0, 1)</td>\n",
              "      <td>42</td>\n",
              "      <td>19.039204</td>\n",
              "    </tr>\n",
              "    <tr>\n",
              "      <th>1</th>\n",
              "      <td>[1, 2)</td>\n",
              "      <td>5</td>\n",
              "      <td>19.384088</td>\n",
              "    </tr>\n",
              "    <tr>\n",
              "      <th>2</th>\n",
              "      <td>[2, 3)</td>\n",
              "      <td>2</td>\n",
              "      <td>7.276908</td>\n",
              "    </tr>\n",
              "    <tr>\n",
              "      <th>3</th>\n",
              "      <td>[3, 3]</td>\n",
              "      <td>1</td>\n",
              "      <td>4.299800</td>\n",
              "    </tr>\n",
              "  </tbody>\n",
              "</table>\n",
              "</div>\n",
              "    <div class=\"colab-df-buttons\">\n",
              "\n",
              "  <div class=\"colab-df-container\">\n",
              "    <button class=\"colab-df-convert\" onclick=\"convertToInteractive('df-0aad500e-b420-4345-81b8-df0913c2c1ec')\"\n",
              "            title=\"Convert this dataframe to an interactive table.\"\n",
              "            style=\"display:none;\">\n",
              "\n",
              "  <svg xmlns=\"http://www.w3.org/2000/svg\" height=\"24px\" viewBox=\"0 -960 960 960\">\n",
              "    <path d=\"M120-120v-720h720v720H120Zm60-500h600v-160H180v160Zm220 220h160v-160H400v160Zm0 220h160v-160H400v160ZM180-400h160v-160H180v160Zm440 0h160v-160H620v160ZM180-180h160v-160H180v160Zm440 0h160v-160H620v160Z\"/>\n",
              "  </svg>\n",
              "    </button>\n",
              "\n",
              "  <style>\n",
              "    .colab-df-container {\n",
              "      display:flex;\n",
              "      gap: 12px;\n",
              "    }\n",
              "\n",
              "    .colab-df-convert {\n",
              "      background-color: #E8F0FE;\n",
              "      border: none;\n",
              "      border-radius: 50%;\n",
              "      cursor: pointer;\n",
              "      display: none;\n",
              "      fill: #1967D2;\n",
              "      height: 32px;\n",
              "      padding: 0 0 0 0;\n",
              "      width: 32px;\n",
              "    }\n",
              "\n",
              "    .colab-df-convert:hover {\n",
              "      background-color: #E2EBFA;\n",
              "      box-shadow: 0px 1px 2px rgba(60, 64, 67, 0.3), 0px 1px 3px 1px rgba(60, 64, 67, 0.15);\n",
              "      fill: #174EA6;\n",
              "    }\n",
              "\n",
              "    .colab-df-buttons div {\n",
              "      margin-bottom: 4px;\n",
              "    }\n",
              "\n",
              "    [theme=dark] .colab-df-convert {\n",
              "      background-color: #3B4455;\n",
              "      fill: #D2E3FC;\n",
              "    }\n",
              "\n",
              "    [theme=dark] .colab-df-convert:hover {\n",
              "      background-color: #434B5C;\n",
              "      box-shadow: 0px 1px 3px 1px rgba(0, 0, 0, 0.15);\n",
              "      filter: drop-shadow(0px 1px 2px rgba(0, 0, 0, 0.3));\n",
              "      fill: #FFFFFF;\n",
              "    }\n",
              "  </style>\n",
              "\n",
              "    <script>\n",
              "      const buttonEl =\n",
              "        document.querySelector('#df-0aad500e-b420-4345-81b8-df0913c2c1ec button.colab-df-convert');\n",
              "      buttonEl.style.display =\n",
              "        google.colab.kernel.accessAllowed ? 'block' : 'none';\n",
              "\n",
              "      async function convertToInteractive(key) {\n",
              "        const element = document.querySelector('#df-0aad500e-b420-4345-81b8-df0913c2c1ec');\n",
              "        const dataTable =\n",
              "          await google.colab.kernel.invokeFunction('convertToInteractive',\n",
              "                                                    [key], {});\n",
              "        if (!dataTable) return;\n",
              "\n",
              "        const docLinkHtml = 'Like what you see? Visit the ' +\n",
              "          '<a target=\"_blank\" href=https://colab.research.google.com/notebooks/data_table.ipynb>data table notebook</a>'\n",
              "          + ' to learn more about interactive tables.';\n",
              "        element.innerHTML = '';\n",
              "        dataTable['output_type'] = 'display_data';\n",
              "        await google.colab.output.renderOutput(dataTable, element);\n",
              "        const docLink = document.createElement('div');\n",
              "        docLink.innerHTML = docLinkHtml;\n",
              "        element.appendChild(docLink);\n",
              "      }\n",
              "    </script>\n",
              "  </div>\n",
              "\n",
              "\n",
              "<div id=\"df-fdeaae84-83ae-468d-8c6c-f04168836530\">\n",
              "  <button class=\"colab-df-quickchart\" onclick=\"quickchart('df-fdeaae84-83ae-468d-8c6c-f04168836530')\"\n",
              "            title=\"Suggest charts\"\n",
              "            style=\"display:none;\">\n",
              "\n",
              "<svg xmlns=\"http://www.w3.org/2000/svg\" height=\"24px\"viewBox=\"0 0 24 24\"\n",
              "     width=\"24px\">\n",
              "    <g>\n",
              "        <path d=\"M19 3H5c-1.1 0-2 .9-2 2v14c0 1.1.9 2 2 2h14c1.1 0 2-.9 2-2V5c0-1.1-.9-2-2-2zM9 17H7v-7h2v7zm4 0h-2V7h2v10zm4 0h-2v-4h2v4z\"/>\n",
              "    </g>\n",
              "</svg>\n",
              "  </button>\n",
              "\n",
              "<style>\n",
              "  .colab-df-quickchart {\n",
              "      --bg-color: #E8F0FE;\n",
              "      --fill-color: #1967D2;\n",
              "      --hover-bg-color: #E2EBFA;\n",
              "      --hover-fill-color: #174EA6;\n",
              "      --disabled-fill-color: #AAA;\n",
              "      --disabled-bg-color: #DDD;\n",
              "  }\n",
              "\n",
              "  [theme=dark] .colab-df-quickchart {\n",
              "      --bg-color: #3B4455;\n",
              "      --fill-color: #D2E3FC;\n",
              "      --hover-bg-color: #434B5C;\n",
              "      --hover-fill-color: #FFFFFF;\n",
              "      --disabled-bg-color: #3B4455;\n",
              "      --disabled-fill-color: #666;\n",
              "  }\n",
              "\n",
              "  .colab-df-quickchart {\n",
              "    background-color: var(--bg-color);\n",
              "    border: none;\n",
              "    border-radius: 50%;\n",
              "    cursor: pointer;\n",
              "    display: none;\n",
              "    fill: var(--fill-color);\n",
              "    height: 32px;\n",
              "    padding: 0;\n",
              "    width: 32px;\n",
              "  }\n",
              "\n",
              "  .colab-df-quickchart:hover {\n",
              "    background-color: var(--hover-bg-color);\n",
              "    box-shadow: 0 1px 2px rgba(60, 64, 67, 0.3), 0 1px 3px 1px rgba(60, 64, 67, 0.15);\n",
              "    fill: var(--button-hover-fill-color);\n",
              "  }\n",
              "\n",
              "  .colab-df-quickchart-complete:disabled,\n",
              "  .colab-df-quickchart-complete:disabled:hover {\n",
              "    background-color: var(--disabled-bg-color);\n",
              "    fill: var(--disabled-fill-color);\n",
              "    box-shadow: none;\n",
              "  }\n",
              "\n",
              "  .colab-df-spinner {\n",
              "    border: 2px solid var(--fill-color);\n",
              "    border-color: transparent;\n",
              "    border-bottom-color: var(--fill-color);\n",
              "    animation:\n",
              "      spin 1s steps(1) infinite;\n",
              "  }\n",
              "\n",
              "  @keyframes spin {\n",
              "    0% {\n",
              "      border-color: transparent;\n",
              "      border-bottom-color: var(--fill-color);\n",
              "      border-left-color: var(--fill-color);\n",
              "    }\n",
              "    20% {\n",
              "      border-color: transparent;\n",
              "      border-left-color: var(--fill-color);\n",
              "      border-top-color: var(--fill-color);\n",
              "    }\n",
              "    30% {\n",
              "      border-color: transparent;\n",
              "      border-left-color: var(--fill-color);\n",
              "      border-top-color: var(--fill-color);\n",
              "      border-right-color: var(--fill-color);\n",
              "    }\n",
              "    40% {\n",
              "      border-color: transparent;\n",
              "      border-right-color: var(--fill-color);\n",
              "      border-top-color: var(--fill-color);\n",
              "    }\n",
              "    60% {\n",
              "      border-color: transparent;\n",
              "      border-right-color: var(--fill-color);\n",
              "    }\n",
              "    80% {\n",
              "      border-color: transparent;\n",
              "      border-right-color: var(--fill-color);\n",
              "      border-bottom-color: var(--fill-color);\n",
              "    }\n",
              "    90% {\n",
              "      border-color: transparent;\n",
              "      border-bottom-color: var(--fill-color);\n",
              "    }\n",
              "  }\n",
              "</style>\n",
              "\n",
              "  <script>\n",
              "    async function quickchart(key) {\n",
              "      const quickchartButtonEl =\n",
              "        document.querySelector('#' + key + ' button');\n",
              "      quickchartButtonEl.disabled = true;  // To prevent multiple clicks.\n",
              "      quickchartButtonEl.classList.add('colab-df-spinner');\n",
              "      try {\n",
              "        const charts = await google.colab.kernel.invokeFunction(\n",
              "            'suggestCharts', [key], {});\n",
              "      } catch (error) {\n",
              "        console.error('Error during call to suggestCharts:', error);\n",
              "      }\n",
              "      quickchartButtonEl.classList.remove('colab-df-spinner');\n",
              "      quickchartButtonEl.classList.add('colab-df-quickchart-complete');\n",
              "    }\n",
              "    (() => {\n",
              "      let quickchartButtonEl =\n",
              "        document.querySelector('#df-fdeaae84-83ae-468d-8c6c-f04168836530 button');\n",
              "      quickchartButtonEl.style.display =\n",
              "        google.colab.kernel.accessAllowed ? 'block' : 'none';\n",
              "    })();\n",
              "  </script>\n",
              "</div>\n",
              "    </div>\n",
              "  </div>\n"
            ]
          },
          "metadata": {},
          "execution_count": 239
        }
      ]
    },
    {
      "cell_type": "markdown",
      "source": [
        "Вычисление статистики  $\\hat{\\chi}^2$:"
      ],
      "metadata": {
        "id": "m4oOwVSFIIkk"
      }
    },
    {
      "cell_type": "code",
      "source": [
        "np.sum(np.square(v - n * p)/(n * p))"
      ],
      "metadata": {
        "colab": {
          "base_uri": "https://localhost:8080/"
        },
        "id": "yhOeWSlWkgMQ",
        "outputId": "d6d094ef-ee5d-477a-989b-72617ce5cbd3"
      },
      "execution_count": 240,
      "outputs": [
        {
          "output_type": "execute_result",
          "data": {
            "text/plain": [
              "44.72290082959657"
            ]
          },
          "metadata": {},
          "execution_count": 240
        }
      ]
    },
    {
      "cell_type": "markdown",
      "source": [
        "$\\hat{\\chi}^2 ≈ 44.722$"
      ],
      "metadata": {
        "id": "QCCPxxq2IUZJ"
      }
    },
    {
      "cell_type": "code",
      "source": [
        "sps.chi2.ppf(1 - alpha_2, df = 3)"
      ],
      "metadata": {
        "colab": {
          "base_uri": "https://localhost:8080/"
        },
        "id": "Tv2s-3yCkhgr",
        "outputId": "2f4caa56-8190-45c4-b1fb-e6f7a0b4f680"
      },
      "execution_count": 241,
      "outputs": [
        {
          "output_type": "execute_result",
          "data": {
            "text/plain": [
              "6.251388631170325"
            ]
          },
          "metadata": {},
          "execution_count": 241
        }
      ]
    },
    {
      "cell_type": "markdown",
      "source": [
        "$x_{\\alpha_2} \\approx 6.251$"
      ],
      "metadata": {
        "id": "BXID1nupIeZ-"
      }
    },
    {
      "cell_type": "markdown",
      "source": [
        "$\\hat{\\chi}^2 > x_{\\alpha_2}$, гипотеза $H_0$ отвергается"
      ],
      "metadata": {
        "id": "RvIc9ArHIilr"
      }
    },
    {
      "cell_type": "code",
      "source": [
        "1 - sps.chi2(3).cdf(44.72)"
      ],
      "metadata": {
        "colab": {
          "base_uri": "https://localhost:8080/"
        },
        "id": "5PSc7svskiya",
        "outputId": "637786e6-4aa5-4b26-fe28-16cbd58c222f"
      },
      "execution_count": 246,
      "outputs": [
        {
          "output_type": "execute_result",
          "data": {
            "text/plain": [
              "1.0611362899481946e-09"
            ]
          },
          "metadata": {},
          "execution_count": 246
        }
      ]
    },
    {
      "cell_type": "markdown",
      "source": [
        "Наибольшее значение уровня значимости, при котором ещё нет оснований отвергнуть данную гипотезу, чрезвычайно мало."
      ],
      "metadata": {
        "id": "yw3jQ_lQIs_J"
      }
    },
    {
      "cell_type": "markdown",
      "source": [
        "## Выводы"
      ],
      "metadata": {
        "id": "ijfRM3gwlMsz"
      }
    },
    {
      "cell_type": "markdown",
      "source": [
        "В ходе данной работы были изучены методы математической статистики для решения задач статистического анализа с помощью прикладных программных пакетов. Для двух наборов данных были построены вариационные ряды, эмпирические функции распределения и гистограммы частот, вычислены выборочные аналоги числовых характеристик. Была найдена оценка параметров распределения методом максимального правдоподобия и оценка методом моментов, на базе ОМП были построены доверительные интервалы для параметров. Были построены критерии значимости Хи-квадрат для проверки гипотез. Был построен наиболее мощный критерий для проверки гипотезы."
      ],
      "metadata": {
        "id": "koh66Ez5lOR0"
      }
    }
  ]
}