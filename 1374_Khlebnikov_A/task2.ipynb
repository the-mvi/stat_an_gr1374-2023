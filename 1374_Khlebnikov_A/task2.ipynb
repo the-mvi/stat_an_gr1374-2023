{
 "cells": [
  {
   "cell_type": "markdown",
   "id": "7c039af3-a0a8-4cfe-abb1-1fd0eb1e9c06",
   "metadata": {
    "id": "7c039af3-a0a8-4cfe-abb1-1fd0eb1e9c06"
   },
   "source": [
    "# Практическая работа №2: Классические методы математической статистики\n",
    "\n",
    "Выполнил студент гр.1374 Хлебников Александр. Вариант 24"
   ]
  },
  {
   "cell_type": "markdown",
   "id": "79deb13b-183a-4e4a-bcc8-f4ea923c399f",
   "metadata": {
    "id": "79deb13b-183a-4e4a-bcc8-f4ea923c399f"
   },
   "source": [
    "## Цель работы\n",
    "\n",
    "Научится применять методы математической статистики для решения задач статистического анализа; сформировать навыки реализации методов с помощью прикладных программных пакетов."
   ]
  },
  {
   "cell_type": "markdown",
   "id": "839d47df-c31a-4e5a-9066-e42b34f62bb5",
   "metadata": {},
   "source": [
    "## Основные теоретические положения\n",
    "\n",
    "**Выборочный аналог математического ожидания - выборочное среднее:**\n",
    "$$\\overline{X} =\\frac{1}{n}\\sum_{i=1}^{n}x_i$$\n",
    "\n",
    "**Выборочный аналог дисперсии и СКО - выборочную дисперсию и выборочное СКО:**\n",
    "$$S^2 =\\frac{1}{n}\\sum_{i=1}^{n}\\left(x_i-\\overline{X}\\right)$$\n",
    "\n",
    "$$S=\\sqrt{S^2}$$\n",
    "\n",
    "\n",
    "\n",
    "**Выборочный коэффициент асимметрии:**\n",
    "$$\\widehat{\\mathrm{Skew}}X=\\frac{1}{n}\\frac{\\sum \\limits_{i=1}^{n}\\left(x_i-\\overline{X}\\right)^3}{S^3}$$\n",
    "\n",
    "**Выборочный коэффициент эксцесса:**\n",
    "$$\\widehat{\\mathrm{Kurt}}X=\\frac{1}{n}\\frac{\\sum \\limits_{i=1}^{n}\\left(x_i-\\overline{X}\\right)^4}{S^4}-3$$\n",
    "\n",
    "**Метод максимального правдоподобия** - это метод оценивания неизвестного параметра путём максимизации функции правдоподобия\n",
    " $$L(\\overrightarrow{X},\\theta)=\\prod_{i=1}^{n}P_{\\theta}(X_{i})$$\n",
    "\n",
    "**Метод моментов** — метод оценки неизвестных параметров распределений, идея метода заключается в замене истинных соотношений выборочными аналогами.\n",
    "\n",
    "**Статистика критерия Колмагорова:**\n",
    "$$D_n = sup_{x \\in \\mathbb{R}}|F_n(x) - F_0(x)|$$\n",
    "\n",
    "\n",
    "**Наиболее мощный критерий:**\n",
    "\n",
    "$$ \\phi(x) =\\left\\{\n",
    "  \\begin{array}{l}\n",
    "    1, LR(x) > с \\\\\n",
    "    p, LR(x) = с \\\\\n",
    "    0, LR(x) < с \\\\\n",
    "  \\end{array}\\right.$$\n",
    "\n",
    "  **Теорема Колмогорова**\n",
    "\n",
    "$D_{n}(\\overrightarrow{X}) = \\overset{}{\\underset{X \\in \\mathbb R}{sup}} |F_{0}(X_{i}) - F_{n}(X_{i})|$\n",
    "\n",
    "Если гипотеза $H_{0}$ верна, и $F_{0}(X)$ - непрерывна на R, тогда $P(\\sqrt{n} D_{n}(\\overrightarrow{X}) < у) \\xrightarrow[n \\rightarrow \\infty]{} K(у)$\n",
    "\n",
    "где $K(у)=1-\\alpha$ - функция распределения Колмогорова.\n",
    "\n",
    "$D_{n} < у$ - гипотезу не отвергаем\n",
    "\n",
    " $D_{n} > y$ - гипотезу отвергаем\n",
    "\n",
    "  **Асимптотический доверительный интервал (АДИ)**\n",
    "\n",
    "**На базе Асимптотической нормальности оценки $\\widehat{\\theta}$**\n",
    "\n",
    "- Асимптотическая нормальность $\\sqrt{n}\\left( \\widehat{\\theta}(\\overrightarrow{X})-\\theta)\\right)\\sim \\mathcal{N}\\left(0,\\sigma^{2}(\\theta)\\right)$\n",
    "\n",
    "- Тогда $\\sqrt{n}\\frac{\\widehat{\\theta}(\\overrightarrow{X})-\\theta}{\\sigma\\left(\\widehat{\\theta}(\\overrightarrow{X})\\right)}$    \n",
    "\n",
    "- Выбираем $X_{\\alpha}: \\Phi(X_{\\alpha})=1-\\frac{\\alpha}{2}$\n",
    "\n",
    "- А.Д.И. $\\left[ \\widehat{\\theta}(\\overrightarrow{X})-\\frac{X_{\\alpha}\\cdot \\sigma\\left( \\widehat{\\theta}(\\overrightarrow{X}) \\right)}{\\sqrt{n}}; \\widehat{\\theta}(\\overrightarrow{X})+\\frac{X_{\\alpha}\\cdot \\sigma\\left( \\widehat{\\theta}(\\overrightarrow{X}) \\right)}{\\sqrt{n}}\\right]$\n",
    "\n",
    "**на базе ОМП**\n",
    "\n",
    "- Пусть $\\widehat{\\theta}(\\overrightarrow{X})$-ОМП\n",
    "\n",
    "- При выполнении опр.условий регулярности: $\\sqrt{n}\\left( \\widehat{\\theta}(\\overrightarrow{X})-\\theta)\\right)\\sim \\mathcal{N}\\left(0,\\frac{1}{I(\\theta)}\\right), I(\\theta)=-\\mathbb{E}\\left( \\frac{\\partial^{2} LL}{\\partial \\theta^{2}} \\right)$-информация Фишера\n",
    "\n",
    "- Тогда $\\sqrt{n\\cdot I\\left( \\widehat{\\theta}(\\overrightarrow{X}) \\right)}\\cdot \\left( \\widehat{\\theta}(\\overrightarrow{X})-\\theta \\right)\\sim \\mathcal{N}(0,1)$\n",
    "\n",
    "- Выбираем $X_{\\alpha}: \\Phi(X_{\\alpha})=1-\\frac{\\alpha}{2}$\n",
    "\n",
    "- А.Д.И $\\left[ \\widehat{\\theta}(\\overrightarrow{X})-\\frac{X_{\\alpha}}{\\sqrt{n\\cdot I\\left( \\widehat{\\theta}(\\overrightarrow{X}) \\right)}};\\widehat{\\theta}(\\overrightarrow{X})+\\frac{X_{\\alpha}}{\\sqrt{n\\cdot I\\left( \\widehat{\\theta}(\\overrightarrow{X}) \\right)}} \\right]$"
   ]
  },
  {
   "cell_type": "markdown",
   "id": "7957bafb-2de0-4234-8fb4-0b8c49c07152",
   "metadata": {
    "id": "7957bafb-2de0-4234-8fb4-0b8c49c07152"
   },
   "source": [
    "## Постановка задачи\n",
    "Для полученных в результате эксперимента наборов данных выполнить статистическую обработку. Полученные результаты содержательно проинтерпретировать.\n"
   ]
  },
  {
   "cell_type": "markdown",
   "id": "94575326-a5f1-4692-8e05-c8eeebe711e3",
   "metadata": {
    "id": "94575326-a5f1-4692-8e05-c8eeebe711e3"
   },
   "source": [
    "## Выполнение работы\n",
    "1. Данные эксперемента из таблицы 1: $\\alpha_{1} = 0.10; a = 0.00; b = 1.21; \\lambda_0 = 2.00; \\lambda_1 = 0.50.$  \n",
    "Выборка:  \n",
    "2 0 0 1 3 0 0 0 0 0 0 0 0 0 1 0 0 1 0 0 1 1 2 1 0 0 0 2 0 0 1 0 0 0 0 2 0 0 1 0 0 0 0 0 3 0 0\n",
    "2 1 0\n",
    "### а) Построить вариационный ряд, эмпирическую функцию распределения и гистограмму частот."
   ]
  },
  {
   "cell_type": "code",
   "execution_count": null,
   "id": "40fe14cc-4db3-4290-b051-2ed3e203e929",
   "metadata": {
    "colab": {
     "base_uri": "https://localhost:8080/",
     "height": 1000
    },
    "id": "40fe14cc-4db3-4290-b051-2ed3e203e929",
    "outputId": "6d0bbdfa-232c-481e-9836-9cba9c0bc6af",
    "scrolled": true
   },
   "outputs": [
    {
     "name": "stdout",
     "output_type": "stream",
     "text": [
      "\n",
      "\n",
      "\n",
      "Вариационный ряд:\n",
      "[0, 0, 0, 0, 0, 0, 0, 0, 0, 0, 0, 0, 0, 0, 0, 0, 0, 0, 0, 0, 0, 0, 0, 0, 0, 0, 0, 0, 0, 0, 0, 0, 0, 0, 1, 1, 1, 1, 1, 1, 1, 1, 1, 2, 2, 2, 2, 2, 3, 3] \n",
      "\n",
      "\n",
      "\n"
     ]
    },
    {
     "data": {
      "image/png": "[encoded data removed]",
      "text/plain": [
       "<Figure size 640x480 with 1 Axes>"
      ]
     },
     "metadata": {},
     "output_type": "display_data"
    },
    {
     "data": {
      "image/png": "[encoded data removed]",
      "text/plain": [
       "<Figure size 640x480 with 1 Axes>"
      ]
     },
     "metadata": {},
     "output_type": "display_data"
    }
   ],
   "source": [
    "import numpy as np\n",
    "import matplotlib.pyplot as plt\n",
    "from scipy import stats\n",
    "data = [2,0,0,1,3,0,0,0,0,0,0,0,0,0,1,0,0,1,0,0,1,1,2,1,0,0,0,2,0,0,1,0,0,0,0,2,0,0,1,0,0,0,0,0,3,0,0,2,1,0]\n",
    "sort_data = sorted(data)\n",
    "\n",
    "print(\"\\n\\n\\nВариационный ряд:\")\n",
    "print(sort_data, \"\\n\\n\\n\")\n",
    "\n",
    "n = len(sort_data)\n",
    "ecdf = np.cumsum(np.ones(n)) / n\n",
    "\n",
    "plt.step(sort_data, ecdf)\n",
    "plt.xlabel('Значения')\n",
    "plt.ylabel('Эмпирическая функция распределения')\n",
    "plt.title('Империческая функция распределения')\n",
    "plt.grid(True)\n",
    "plt.show()\n",
    "\n",
    "unique_values, counts = np.unique(data, return_counts=True)\n",
    "\n",
    "plt.bar(unique_values, counts)\n",
    "plt.xlabel('Значения')\n",
    "plt.ylabel('Частота')\n",
    "plt.title('Гистограмма распределения данных')\n",
    "plt.xticks(unique_values)\n",
    "plt.grid(axis='y')\n",
    "plt.show()"
   ]
  },
  {
   "cell_type": "markdown",
   "id": "e30c240f-9596-4fa0-a14e-d96cd8e053e9",
   "metadata": {
    "id": "e30c240f-9596-4fa0-a14e-d96cd8e053e9"
   },
   "source": [
    "### b) Вычислить выборочные аналоги следующих числовых характеристик:  \n",
    "(I) Мат. ожидание; (II) Дисперсия; (III) СКО; (IV) Медианы; (V) Асимметрии; (VI) Эксцесса; (VII)Вероятности $\\mathbb{P}(X\\in [a,b])$;"
   ]
  },
  {
   "cell_type": "code",
   "execution_count": null,
   "id": "8f48cb5f-9af1-4149-9efc-fbc9188e1cce",
   "metadata": {
    "colab": {
     "base_uri": "https://localhost:8080/"
    },
    "id": "8f48cb5f-9af1-4149-9efc-fbc9188e1cce",
    "outputId": "69f1ce57-7d6c-46fe-9e65-24fdce353ed9"
   },
   "outputs": [
    {
     "name": "stdout",
     "output_type": "stream",
     "text": [
      "Мат. Ожидание:  0.5\n",
      "Дисперсия:  0.69\n",
      "СКО:  0.8306623862918074\n",
      "Медианы  0.0\n",
      "Асимметрии  1.570250257640468\n",
      "Эксцесса  1.4580970384373044\n",
      "Вероятности  0.86\n"
     ]
    }
   ],
   "source": [
    "from scipy import stats\n",
    "\n",
    "data = [2,0,0,1,3,0,0,0,0,0,0,0,0,0,1,0,0,1,0,0,1,1,2,1,0,0,0,2,0,0,1,0,0,0,0,2,0,0,1,0,0,0,0,0,3,0,0,2,1,0]\n",
    "a = 0.00\n",
    "b = 1.21\n",
    "\n",
    "print(\"Мат. Ожидание: \", np.mean(data))\n",
    "print(\"Дисперсия: \", np.var(data))\n",
    "print(\"СКО: \", np.sqrt(np.var(data)))\n",
    "print(\"Медианы \", np.median(data))\n",
    "print(\"Асимметрии \", stats.skew(data))\n",
    "print(\"Эксцесса \", stats.kurtosis(data))\n",
    "print(\"Вероятности \", len([x for x in data if a<=x<=b])/len(data))"
   ]
  },
  {
   "cell_type": "markdown",
   "id": "cd821ba0-2521-467b-8193-390ed5b56003",
   "metadata": {
    "id": "cd821ba0-2521-467b-8193-390ed5b56003"
   },
   "source": [
    "### c) В предположении, что исходные наблюдения являются выборкой из распределения Пуассона, построить оценку максимального правдоподобия параментра $\\lambda$, а так же оценку $\\lambda$ по методу моментов. Найти смещение оценок.\n",
    "\n",
    "#### ОМП:\n",
    "$P_{n}(x)=\\frac{\\lambda^{x}exp(-\\lambda)}{x!}$\n",
    "\n",
    "$L(\\lambda) = \\prod_{i=1}^{n}\\frac{\\lambda^{x_i}exp(-\\lambda)}{x_i!} = exp(-n\\lambda)\\prod_{i=1}^{n}\\frac{\\lambda^{x_i}}{x_i!}$\n",
    "\n",
    "$LL(\\lambda)= ln(L(\\lambda))=ln(exp(-n\\lambda)\\prod_{i=1}^{n}\\frac{\\lambda^{x_i}}{x_i!}) = ln(exp(-n\\lambda)\\prod_{i=1}^{n}\\frac{\\lambda^{x_i}}{x_i!}) = -n\\lambda + ln\\lambda\\sum_{i=1}^{n}x_i-ln\\sum_{i=1}^{n}x_i$  \n",
    "$\\frac{\\partial LL}{\\partial \\lambda}=-n +\\frac{1}{\\lambda}\\sum_{i=1}^{n}x_i-0$  \n",
    "$\\frac{\\partial LL}{\\partial \\lambda}=0 \\implies -n +\\frac{1}{\\lambda}\\sum_{i=1}^{n}x_i=0$   \n",
    "$\\frac{1}{\\lambda}\\sum_{i=1}^{n}x_i=n$  \n",
    "$\\sum_{i=1}^{n}x_i=n\\lambda$  \n",
    "$\\lambda=\\frac{1}{n}\\sum_{i=1}^{n}x_i \\implies \\lambda=\\overline{x}$=0.5\n",
    "\n",
    "#### ОММ: Для закона Пуассона $P_{\\lambda}(x=k)=\\frac{\\lambda^{k}}{k!}\\cdot exp(-\\lambda)$\n",
    "\n",
    "первый момент $\\mathbb{E}x_{1}=\\lambda;M_{1}=\\overline{x}$\n",
    "\n",
    "получим $\\widetilde{\\theta}=\\widetilde{\\lambda}=\\overline{x}=0.5$\n",
    "\n",
    "Найдем смещение оценки.\n",
    "\n",
    "Для нахождения НРМД-оценки нам понадобится ОМП.\n",
    "\n",
    "$g\\left(T(\\overrightarrow{х})\\right)=\\lambda^{\\sum_{i=1}^{n}x_{i}}\\cdot exp(-n\\cdot \\lambda)$\n",
    "\n",
    "$h(\\overrightarrow{x})=\\frac{1}{\\prod_{i=1}^{n}X_{i}!}$\n",
    "\n",
    "ДМС: $T=\\sum_{i=1}^{n}x_{i}=25$.\n",
    "\n",
    "Распределение Пуассона принадлежит экспоненциальному семейству распределения, следовательно, МДС будет являться ПДС.\n",
    "\n",
    "$\\mathbb{E}_{\\lambda}\\overline{x}=\\mathbb{E}_{\\lambda}\\frac{1}{n}\\cdot \\sum_{i=1}^{n}x_{i}=\\frac{1}{n}\\cdot \\mathbb{E_{\\lambda}}\\sum_{i=1}^{n}x_{i}=\\frac{1}{n}\\cdot \\sum_{i=1}^{n}\\mathbb{E_{\\lambda}}X_{1}=\\frac{1}{n}\\cdot n\\cdot \\mathbb{E}_{\\lambda}X_{1}=\\lambda=0.5$-НРМД-оценка"
   ]
  },
  {
   "cell_type": "markdown",
   "id": "UjYK5gcxvJNL",
   "metadata": {
    "id": "UjYK5gcxvJNL"
   },
   "source": [
    "#### d)Построить А.Д.И. уровня значимости $\\alpha_1$ для параметра $\\lambda$ на базе ОМП\n",
    "Построим на базе ОМП.\n",
    "\n",
    "$\\sqrt{n}\\left( \\widehat{\\theta}(\\overrightarrow{x})-\\theta \\right)\\sim N\\left( 0, \\frac{1}{I(\\theta)} \\right)$\n",
    "\n",
    "ОМП $\\widehat{\\theta}=\\widehat{\\lambda}=\\overline{x}$\n",
    "\n",
    "Найдем информацию Фишера: $I(\\theta)=-\\mathbb{E}\\left( \\frac{\\partial^{2} LL}{\\partial \\lambda^{2}} \\right)=-\\mathbb{E}\\left( -\\frac{\\sum_{i=1}^{n}x_{i}}{\\lambda^{2}} \\right)=\\frac{n}{\\lambda}$\n",
    "\n",
    "$\\sqrt{n\\cdot I\\left(  \\widehat{\\theta}(\\overrightarrow{x})\\right)}\\left( \\widehat{\\theta}(\\overrightarrow{x})-\\theta \\right)\\sim N(0,1)$\n",
    "\n",
    "$x_{\\alpha}$: $\\mathrm{Ф}(x_{\\alpha})=1-\\frac{\\alpha_{1}}{2}=1-\\frac{0.1}{2}=0.95 \\to X_{0.95}=1.65$\n",
    "\n",
    "$А.Д.И. \\left[ \\overline{x}-\\frac{x_{0.95}}{\\sqrt{50\\cdot \\frac{50}{\\overline{x}}}}; \\overline{x}+\\frac{x_{0.95}}{\\sqrt{50\\cdot \\frac{50}{\\overline{X}}}}\\right] \\to 1-\\frac{1.65 \\cdot 0.71}{50}\\le \\lambda\\le 1+\\frac{1.67 \\cdot 0.71}{50}$\n",
    "\n",
    "$0,977\\le \\lambda\\le 1.023$\n",
    "\n",
    "на безе асимтотической нормальной оценки $\\widehat{\\theta}$\n",
    "\n",
    "$\\sqrt{n}\\left( \\widehat{\\theta}(\\overrightarrow{x})-\\theta \\right)\\sim N(0,\\sigma^{2}(\\theta))$\n",
    "\n",
    "$\\sqrt{n}\\frac{ \\widehat{\\theta}(\\overrightarrow{x})-\\theta}{\\sigma(\\widehat{\\theta})}\\sim N(0,1)$\n",
    "\n",
    "$x_{\\alpha}: \\mathrm{Ф(_{\\alpha})}=0.95\\to x_{0.95}=1.65$\n",
    "\n",
    "$-x_{0.99}\\le \\sqrt{n}\\cdot \\frac{\\widehat{\\lambda}-\\lambda}{\\sqrt{\\widehat{\\lambda}}}\\le x_{0.95}$\n",
    "\n",
    "$1-\\frac{1.65\\cdot 0.71}{\\sqrt{50}\\cdot 0.5}\\le \\lambda\\le 1+\\frac{1.65\\cdot 0.71}{\\sqrt{50}\\cdot 0.5}\\to 0.669\\le \\lambda\\le 1.331$"
   ]
  },
  {
   "cell_type": "markdown",
   "id": "smKOtqXQxk10",
   "metadata": {
    "id": "smKOtqXQxk10"
   },
   "source": [
    "#### e)Используя гистограмму частот, построить критерий значимости $\\mathcal{X^{2}}$ проверки простой гипотезы согласия с распределением Пуассона с параметром $\\lambda_{0}$. Проверить гипотезу на уровень значимости $\\alpha_{1}$. Вычислить наибольшее значение уровня значимости, на котором ещё нет оснований отвергнуть данную гипотезу.\n",
    "\n",
    "$P_{i}=P_{H_{0}}(x\\in \\Delta_{i})=\\sum_{k\\in \\Delta_{i}}^{}\\frac{\\lambda_{0}^{k}}{k!}exp(-\\lambda_{0})$\n",
    "\n",
    "$\\Delta_{1}=\\left[ 0,1 \\right), n_{1}=34$\n",
    "\n",
    "$P_{1}=\\frac{2^{0}}{0!}exp(-2)+\\frac{2^{1}}{1!}exp(-2)=0.406\\to nP_{1}=20.3$\n",
    "\n",
    "$\\Delta_{2}=\\left[ 1,2 \\right), n_{2}=9$\n",
    "\n",
    "$P_{2}=\\frac{2^{1}}{1}exp(-2)+\\frac{2^{2}}{2!}exp(-2)=0.541\\to nP_{2}=27.07$\n",
    "\n",
    "$\\Delta_{3}=\\left[ 2,3 \\right], n_{3}=7$\n",
    "\n",
    "$P_{3}=\\frac{2^{2}}{2!}exp(-2)+\\frac{2^{3}}{3!}exp(-2)=0.451\\to nP_{3}=22.56$\n",
    "\n",
    "Критерий $\\mathcal{X}^{2}: \\mathcal{X}^{2}=\\sum_{i=1}^{3}\\frac{(n_{i}-np_{i})^{2}}{np_{i}} =32.04$\n",
    "\n",
    "$\\mathcal{X}^{2}_{N-1,1-\\alpha_{1}}=\\mathcal{X}^{2}_{2,0.9}\\simeq 63.17$ (смотрим по таблице критический значений распределений $\\mathcal{X}^{2}$)\n",
    "\n",
    "$\\mathcal{X}^{2}\\lt \\mathcal{X}^{2}_{2,0.9}\\to$ по критерию Пирсона мы принимаем гипотезу\n",
    "\n",
    "Наиб. значение уровня значимости, при котором нет еще оснований отвергнуть данную гипотезу  будет маленьким $\\simeq$ 0.01"
   ]
  },
  {
   "cell_type": "markdown",
   "id": "YHrDEmj-39GS",
   "metadata": {
    "id": "YHrDEmj-39GS"
   },
   "source": [
    "#### f)Построить критерий значимости  $\\mathcal{X^{2}}$ проверки сложной гипотезы согласия с распределением Пуассона. Проверить гипотезу по уровню значимости $\\alpha_{1}$.Вычислить наибольшее значение уровня значимости, на котором ещё нет оснований отвергнуть данную гипотезу.\n",
    "\n",
    "$P_{i}=P_{H_{0}}(x\\in \\Delta_{i})=\\sum_{k\\in \\Delta_{i}}^{}\\frac{\\overline{x}^{k}}{k!}exp(-\\overline{x})$\n",
    "\n",
    "$\\Delta_{1}=\\left[ 0,1 \\right), n_{1}=34$\n",
    "\n",
    "$P_{1}=\\frac{0.5^{0}}{0!}exp(-0.5)+\\frac{0.5^{1}}{1!}exp(-0.5)=0.91\\to nP_{1}=45.49$\n",
    "\n",
    "$\\Delta_{2}=\\left[ 1,3 \\right), n_{2}=9$\n",
    "\n",
    "$P_{2}=\\frac{0.5^{1}}{1!}exp(-0.5)+\\frac{0.5^{3}}{3!}exp(-0.5)=0.316\\to nP_{2}=15.79$\n",
    "\n",
    "Критерий $\\mathcal{X}^{2}: \\mathcal{X}^{2}=\\sum_{i=1}^{2}\\frac{(n_{i}-np_{i})^{2}}{np_{i}} =5.82$\n",
    "\n",
    "$\\mathcal{X}^{2}_{N-1,1-\\alpha_{1}}=\\mathcal{X}^{2}_{1,0.9}\\simeq 2.7$ (смотрим по таблице критических значений распределения $\\mathcal{X}^{2}$)\n",
    "\n",
    "$\\mathcal{X}^{2}\\gt \\mathcal{X}^{2}_{1,0.9}\\to$ по критерию Пирсона мы отвергаем гипотезу\n",
    "\n",
    "Наибольшее значение уровня значимости, при котором нет еще оснований отвергнуть данную гипотезу $\\simeq$ 0.01"
   ]
  },
  {
   "cell_type": "markdown",
   "id": "mUTKsWQ00p7y",
   "metadata": {
    "id": "mUTKsWQ00p7y"
   },
   "source": [
    "#### g)Построить наиболее мощный критерий проверки простой гипотезы пауссоновости с параметром $\\lambda=\\lambda_{0}$ при альтернативе пуассоновсти с параметром $\\lambda=\\lambda_{1}$. Проверить гипотезу на уровне значимости $\\alpha_{1}$. Что получится, если поменять местами основную и альтернативную гипотезы?\n",
    "\n",
    "Основная гипотеза: $H_{0}=\\lambda_{0}$\n",
    "\n",
    "Альтернативная гипотеза: $H_{A}=\\lambda_{1}$\n",
    "\n",
    "$LR(\\overrightarrow{X},\\lambda_{1},\\lambda_{0}) = \\frac{L\\left( \\overrightarrow{х},\\lambda_{1} \\right)}{L\\left( \\overrightarrow{х},\\lambda_{0} \\right)}= \\frac{\\lambda_{1}^{\\sum_{i=1}^{50}х_{i}}\\cdot exp(-n\\cdot \\lambda_{1})}{\\lambda_{0}^{\\sum_{i=1}^{50}х_{i}}\\cdot exp(-n\\cdot \\lambda_{0})}$\n",
    "\n",
    "В силу монотонности статистики $LR(\\overrightarrow{х})$ относительно МДС $T(\\overrightarrow{х})=\\sum_{i=1}^{50}х_{i}=25$\n",
    "\n",
    "$LR(\\overrightarrow{х},\\lambda_{0},\\lambda_{1})\\gt c\\Leftrightarrow \\overline{х}\\gt c$\n",
    "\n",
    "По ЦПТ (центральной предельной теореме):\n",
    "\n",
    "$\\sqrt{n}\\frac{\\overline{х}-\\lambda_{0}}{\\sqrt{\\overline{х}}}\\sim N(0,1)$\n",
    "\n",
    "$\\Phi\\left(\\sqrt{n}\\frac{\\overline{х}-\\lambda_{0}}{\\sqrt{\\overline{х}}} \\right)=1-\\alpha_{1}=0.9$\n",
    "\n",
    "$\\sqrt{n}\\frac{\\overline{х}-\\lambda_{0}}{\\sqrt{\\overline{х}}}\\gt \\sqrt{n}\\frac{c-\\lambda_{0}}{\\sqrt{\\overline{х}}}=1.29$\n",
    "\n",
    "$ c=\\frac{1.29 \\cdot \\sqrt{\\overline{х}}}{\\sqrt {n}}+2=\\frac{1.29 \\cdot 0.71}{\\sqrt {50}}+2=2.13\\gt \\overline{х}=0.5\\to$ гипотезу отвергаем\n",
    "\n",
    "Построим нерандомизированный критерий\n",
    "\n",
    "$$\\phi(\\overrightarrow{х})= \\begin{cases}\n",
    "1, LR(\\overrightarrow{х}) \\gt 2.13\\\\\n",
    "p, LR(\\overrightarrow{х}) = 2.13\\\\\n",
    "0, LR(\\overrightarrow{х}) \\lt 2.13\n",
    "\\end{cases} $$\n",
    "\n",
    "Основная гипотеза: $H_{0}=\\lambda_{1}$\n",
    "\n",
    "Альтернативная гипотеза: $H_{A}=\\lambda_{0}$\n",
    "\n",
    "$LR(\\overrightarrow{х},\\lambda_{0},\\lambda_{1}) = \\frac{L\\left( \\overrightarrow{х},\\lambda_{0} \\right)}{L\\left( \\overrightarrow{х},\\lambda_{1} \\right)}= \\frac{\\lambda_{0}^{\\sum_{i=1}^{50}х_{i}}\\cdot exp(-n\\cdot \\lambda_{0})}{\\lambda_{1}^{\\sum_{i=1}^{50}х_{i}}\\cdot exp(-n\\cdot \\lambda_{1})}$\n",
    "\n",
    "В силу монотонности статистики $LR(\\overrightarrow{х})$ относительно МДС $T(\\overrightarrow{х})=\\sum_{i=1}^{50}х_{i}=25$\n",
    "\n",
    "$LR(\\overrightarrow{х},\\lambda_{0},\\lambda_{1})\\gt c\\Leftrightarrow \\overline{х}\\gt c$\n",
    "\n",
    "По Центральной Предельной Теореме :\n",
    "\n",
    "$\\sqrt{n}\\frac{\\overline{х}-\\lambda_{1}}{\\sqrt{\\overline{х}}}\\sim N(0,1)$\n",
    "\n",
    "$\\Phi\\left(\\sqrt{n}\\frac{\\overline{х}-\\lambda_{1}}{\\sqrt{\\overline{X}}} \\right)=1-\\alpha_{1}=0.9$\n",
    "\n",
    "$\\sqrt{n}\\frac{\\overline{х}-\\lambda_{1}}{\\sqrt{\\overline{х}}}\\gt \\sqrt{n}\\frac{c-\\lambda_{1}}{\\sqrt{\\overline{х}}}=1.29$\n",
    "\n",
    "$c=\\frac{1.29 \\cdot \\sqrt{\\overline{x}}}{\\sqrt {n}}+4=\\frac{1.29 \\cdot 0.71}{\\sqrt {50}}+0.5=0.63\\gt \\overline{х}=0.5\\to$ гипотезу отвергаем\n",
    "\n",
    "Построим нерандомизированный критерий:\n",
    "\n",
    "$$\\phi(\\overrightarrow{X})= \\begin{cases}\n",
    "1, LR(\\overrightarrow{X}) \\gt 0.63\\\\\n",
    "p, LR(\\overrightarrow{X}) = 0.63\\\\\n",
    "0, LR(\\overrightarrow{X}) \\lt 0.63\n",
    "\\end{cases} $$"
   ]
  },
  {
   "cell_type": "markdown",
   "id": "25wqJmXt52H6",
   "metadata": {
    "id": "25wqJmXt52H6"
   },
   "source": [
    "#### h)В пунктах (c)-(f) заменить семейство распределение Пуассона на семейство геометрических распредленией $\\mathbb{P}_{\\lambda}(X=k)=\\frac{\\lambda^{k}}{(\\lambda+1)^{k+1}}, k\\in \\mathbb{Z_{+}}$"
   ]
  },
  {
   "cell_type": "markdown",
   "id": "HagkG7nQ6-1Q",
   "metadata": {
    "id": "HagkG7nQ6-1Q"
   },
   "source": [
    "#### h.c)В предположении, что исходные наблюдения являются выборкой из геометрического распределения, построить ОМП и ОММ параметра $\\lambda$.Найти смещение оценки.\n",
    "\n",
    "ОМП.\n",
    "Плотность распределения Пуассона: $P_{\\lambda}(x=k)=\\frac{\\lambda^{k}}{(\\lambda+1)^{k+1}}$\n",
    "\n",
    "$L(\\overrightarrow{x};\\theta)=\\prod_{i=1}^{n}P_{\\lambda}(x_{i})=\\frac{\\lambda^{\\sum_{i=1}^{n}x_{i}}}{(\\lambda+1)^{\\sum_{i=1}^{n}x_{i}+n}}$\n",
    "\n",
    "$LL(\\overrightarrow{x};\\theta)= \\sum_{i=1}^{n}x_{i}\\cdot \\ln(\\lambda)-(\\sum_{i=1}^{n}x_{i}+n)\\ln(\\lambda+1)$\n",
    "\n",
    "$\\frac{\\partial LL(\\overrightarrow{x};\\theta)}{\\partial \\lambda} = \\frac{\\sum_{i=1}^{n}x_{i}}{\\lambda}-\\frac{\\sum_{i=1}^{50}x_{i}+n}{\\lambda+1}=0\\to  \\lambda\\cdot \\sum_{i=1}^{n}x_{i}+\\lambda \\cdot n = \\lambda\\cdot \\sum_{i=1}^{n}x_{i}+\\sum_{i=1}^{n}x_{i}\\to \\lambda=\\overline{x}\\to \\widehat{\\theta}=\\widehat{\\lambda}=\\overline{x}=0.5$.\n",
    "\n",
    "\n",
    "\n",
    "Построим по ОММ.\n",
    "$P_{\\lambda}(X=k)=\\frac{\\lambda^{k}}{(\\lambda +1)^{k+1}}$\n",
    "\n",
    "первый момент $\\mathbb{E}X_{1}=\\lambda;M_{1}=\\overline{x}=0.5$\n",
    "\n",
    "$\\widetilde{\\theta}=\\widetilde{\\lambda}=\\overline{x}=0.5$\n",
    "\n",
    "Найдем смещение оценки.\n",
    "\n",
    "Для нахождения НРМД-оценки нам понадобится ОМП.\n",
    "\n",
    "$g\\left(T(\\overrightarrow{x})\\right)=\\frac{\\lambda^{\\sum_{i=1}^{n}x_{i}}}{(\\lambda+1)^{\\sum_{i=1}^{n}x_{i}+n}}$\n",
    "\n",
    "$h(\\overrightarrow{x})=1$\n",
    "\n",
    "Достаточная минимальная статистика: $T=\\sum_{i=1}^{n}X_{i}=50$.\n",
    "\n",
    "\n",
    "$\\mathbb{E}_{\\lambda}\\widehat{\\lambda}=\\mathbb{E}_{\\lambda}\\overline{x}=\\mathbb{E}_{\\lambda}\\frac{1}{n}\\cdot \\sum_{i=1}^{n}x_{i}=\\frac{1}{n}\\cdot \\mathbb{E_{\\lambda}}\\sum_{i=1}^{n}x_{i}=\\frac{1}{n}\\cdot \\sum_{i=1}^{n}\\mathbb{E_{\\lambda}}X_{1}=\\frac{1}{n}\\cdot n\\cdot \\mathbb{E}_{\\lambda}X_{1}=\\lambda=0.5$-НРМД-оценка"
   ]
  },
  {
   "cell_type": "markdown",
   "id": "UThJ3ae68FeB",
   "metadata": {
    "id": "UThJ3ae68FeB"
   },
   "source": [
    "#### h.d)Построить А.Д.И. уровня значимости $\\alpha_1$ для параметра $\\lambda$ на базе ОМП\n",
    "\n",
    "$\\sqrt{n}\\left( \\widehat{\\theta}(\\overrightarrow{x})-\\theta \\right)\\sim N\\left( 0, \\frac{1}{I(\\theta)} \\right)$\n",
    "\n",
    "ОМП $\\widehat{\\theta}=\\widehat{\\lambda}=\\overline{x}=0.5$\n",
    "\n",
    "информация Фишера: $I(\\theta)=-\\mathbb{E}\\left( \\frac{\\partial^{2} LL}{\\partial \\lambda^{2}} \\right)=-\\mathbb{E}\\left( -\\frac{\\sum_{i=1}^{n}X_{i}}{\\lambda^{2}}+\\frac{\\sum_{i=1}^{n}X_{i}+n}{(\\lambda +1)^{2}} \\right)=\\frac{n}{\\lambda}-\\mathbb{E}\\left( \\frac{\\sum_{i=1}^{n}X_{i}+n}{(\\lambda+1)^{2}} \\right) = \\frac{n}{\\lambda}-\\mathbb{E}\\left( \\frac{\\sum_{i=1}^{n}X_{i}}{(\\lambda+1)^{2}} \\right)-\\mathbb{E}\\left( \\frac{n}{(\\lambda+1)^{2}} \\right)=\\frac{n}{\\lambda}-\\frac{n}{(\\lambda+1)^{2}}-\\frac{n}{(\\lambda+1)^{2}}=\\frac{n(\\lambda^{2}+1)}{(\\lambda+1)^{2}\\cdot \\lambda}$\n",
    "\n",
    "$\\sqrt{n\\cdot I\\left(  \\widehat{\\theta}(\\overrightarrow{X})\\right)}\\left( \\widehat{\\theta}(\\overrightarrow{X})-\\theta \\right)\\sim N(0,1)$\n",
    "\n",
    "$x_{\\alpha}$: $\\mathrm{Ф}(x_{\\alpha})=1-\\frac{\\alpha_{1}}{2}=1-\\frac{0.1}{2}=0.95 \\to x_{0.95}=1.65$\n",
    "\n",
    "Построим доверительный интервал\n",
    "\n",
    "$\\left[ \\overline{x}-\\frac{x_{0.95}}{\\sqrt{n\\cdot \\frac{n(\\widehat{\\lambda^{2}}+1)}{(\\widehat{\\lambda}+1)^{2}\\cdot \\widehat{\\lambda}}}};\\overline{x}+\\frac{x_{0.95}}{\\sqrt{n\\cdot \\frac{n(\\widehat{\\lambda^{2}}+1)}{(\\widehat{\\lambda}+1)^{2}\\cdot \\widehat{\\lambda}}}} \\right]$\n",
    "\n",
    "$0.469\\le \\lambda\\le 0.531$\n",
    "\n",
    "на безе асимтотической нормальной оценки $\\widehat{\\theta}$\n",
    "\n",
    "$\\sqrt{n}\\left( \\widehat{\\theta}(\\overrightarrow{x})-\\theta \\right)\\sim N(0,\\sigma^{2}(\\theta))$\n",
    "\n",
    "$\\sqrt{n}\\frac{ \\widehat{\\theta}(\\overrightarrow{x})-\\theta}{\\sigma(\\widehat{\\theta})}\\sim N(0,1)$\n",
    "\n",
    "$x_{\\alpha}: \\mathrm{Ф(x_{\\alpha})}=0.9\\to x_{0.95}=1.65$\n",
    "\n",
    "$-x_{0.95}\\le \\sqrt{n}\\cdot \\frac{\\widehat{\\lambda}-\\lambda}{\\sqrt{\\widehat{\\lambda}(\\widehat{\\lambda}+1)}}\\le x_{0.95}$\n",
    "\n",
    "$0.5-\\frac{1.65\\cdot 0.87}{\\sqrt{50}}\\le \\lambda\\le 0.5+\\frac{1.65\\cdot 0.87}{\\sqrt{50}}\\to 0.297\\le \\lambda\\le 0.703$ - А.Д.И. параметра $\\lambda$"
   ]
  },
  {
   "cell_type": "markdown",
   "id": "L3ms0uohBEBo",
   "metadata": {
    "id": "L3ms0uohBEBo"
   },
   "source": [
    "#### h.e)Используя гистограмму частот, построить критерий значимости $\\mathcal{X^{2}}$ проверки простой гипотезы согласия с геометрическим распределением с параметром $\\lambda_{0}$. Проверить гипотезу на уровень значимости $\\alpha_{1}$. Вычислить наибольшее значение уровня значимости, на котором ещё нет оснований отвергнуть данную гипотезу.\n",
    "$P_{i}=P_{H_{0}}(x\\in \\Delta_{i})=\\sum_{k\\in \\Delta_{i}}^{}\\frac{\\lambda_{0}^{k}}{(\\lambda_{0}+1)^{k+1}}$\n",
    "\n",
    "$\\Delta_{1}=\\left[ 0,1 \\right), n_{1}=34$\n",
    "\n",
    "$P_{1}=\\frac{2^{0}}{(2+1)^{0+1}}+\\frac{2^{1}}{(2+1)^{1+1}}=0.5\\to nP_{1}=27.8$\n",
    "\n",
    "$\\Delta_{2}=\\left[ 1,2 \\right), n_{2}=9$\n",
    "\n",
    "$P_{2}=\\frac{2^{1}}{(2+1)^{1+1}}+\\frac{2^{2}}{(2+1)^{2+1}}=0.37\\to nP_{2}=18.52$\n",
    "\n",
    "$\\Delta_{3}=\\left[ 2,3 \\right], n_{3}=7$\n",
    "\n",
    "$P_{3}=\\frac{2^{2}}{(2+1)^{2+1}}+\\frac{2^{3}}{(2+1)^{3+1}}=0.25\\to nP_{3}=12.35$\n",
    "\n",
    "Критерий $\\mathcal{X}^{2}: \\mathcal{X}^{2}=\\sum_{i=1}^{3}\\frac{(n_{i}-np_{i})^{2}}{np_{i}} =8.59$\n",
    "\n",
    "$\\mathcal{X}^{2}_{N-1,1-\\alpha_{1}}=\\mathcal{X}^{2}_{2,0.9}\\simeq 63.17$ (смотрим по таблице критических значений распределения $\\mathcal{X}^{2}$)\n",
    "\n",
    "$\\mathcal{X}^{2}\\lt \\mathcal{X}^{2}_{2,0.9}\\to$ по критерию Пирсона мы принимаем гипотезу\n",
    "\n",
    "Наиб. значение уровня значимости, при котором нет еще оснований отвергнуть данную гипотезу будет слишком мала $\\simeq$ 0.01"
   ]
  },
  {
   "cell_type": "markdown",
   "id": "rC1tOBReDB4v",
   "metadata": {
    "id": "rC1tOBReDB4v"
   },
   "source": [
    "#### h.f)Построить критерий значимости  $\\mathcal{X^{2}}$ проверки сложной гипотезы согласия с геометрическим распределением. Проверить гипотезу по уровню значимости $\\alpha_{1}$.Вычислить наибольшее значение уровня значимости, на котором ещё нет оснований отвергнуть данную гипотезу.\n",
    "$P_{i}=P_{H_{0}}(x\\in \\Delta_{i})=\\sum_{k\\in \\Delta_{i}}^{}\\frac{\\frac{1}{\\overline{x}^{k}}}{\\left( \\frac{1}{\\overline{x}} +1\\right)^{k+1}}$\n",
    "\n",
    "$\\Delta_{1}=\\left[ 0,1 \\right), n_{1}=34$\n",
    "\n",
    "$P_{1}=\\frac{0.5^{-0}}{(2+1)^{0+1}}+\\frac{0.5^{-1}}{(2+1)^{1+1}}=0.55\\to nP_{1}=27.7$\n",
    "\n",
    "$\\Delta_{2}=\\left[ 1,2 \\right), n_{2}=9$\n",
    "\n",
    "$P_{2}=\\frac{0.5^{-1}}{(2+1)^{1+1}}+\\frac{0.5^{-2}}{(2+1)^{2+1}}=0.37\\to nP_{2}=18.52$\n",
    "\n",
    "$\\Delta_{3}=\\left[ 2,3 \\right], n_{3}=7$\n",
    "\n",
    "$P_{3}=\\frac{0.5^{-2}}{(2+1)^{2+1}}+\\frac{0.5^{-3}}{(2+1)^{3+1}}=0.257\\to nP_{3}=12.35$\n",
    "\n",
    "Критерий $\\mathcal{X}^{2}: \\mathcal{X}^{2}_{набл}=\\sum_{i=1}^{3}\\frac{(n_{i}-np_{i})^{2}}{np_{i}} =8.64$\n",
    "\n",
    "$\\mathcal{X}^{2}_{N-1,\\alpha_{1}}=\\mathcal{X}^{2}_{2,0.98}\\simeq 9.4$ (смотрим по таблице критических значений распределения $\\mathcal{X}^{2}$)\n",
    "\n",
    "$\\mathcal{X}^{2}\\lt \\mathcal{X}^{2}_{2,0.98}\\to$ по критерию Пирсона мы принимвем гипотезу\n",
    "\n",
    "Наибольшее значение уровня значимости, при котором нет еще оснований отвергнуть данную гипотезу будет слишком мала $\\simeq$ 0.01"
   ]
  },
  {
   "cell_type": "markdown",
   "id": "8f196fe1-5e71-4df8-9b19-d6b1d5d80b67",
   "metadata": {
    "id": "8f196fe1-5e71-4df8-9b19-d6b1d5d80b67"
   },
   "source": [
    "2. Данные эксперемента из таблицы 2: $\\alpha_{2} = 0.02; c = 0.00; d = 12.00; h = 4.00; a_0 = 35.00; \\sigma_0 = 10.00; a_1 = 2.00; \\sigma_1 = 10.00$  \n",
    "Выборка:  \n",
    "11.06 20.46 17.69 −19.54 −10.00 4.74 −2.40 −14.65 −0.67 2.00 6.54 −2.06 −1.49 6.21 3.94 1.14 −0.55 21.42 7.34 9.22 12.56\n",
    "19.15 2.49 −5.43 4.59 20.16 −6.29 −13.47 14.60 −3.19 −11.93 −6.70 10.64 2.30 7.00 −12.42 3.61 −19.27 3.88 5.61 10.23\n",
    "−3.32 8.37 3.35 −8.43 3.82 −5.48 9.55 −6.39 0.03\n",
    "### а) Построить вариационный ряд, эмпирическую функцию распределения, гистограмму и полигон частот с шагом h."
   ]
  },
  {
   "cell_type": "code",
   "execution_count": null,
   "id": "1e2a5e3e-965f-414b-840b-64dc8e1ecbcd",
   "metadata": {
    "colab": {
     "base_uri": "https://localhost:8080/",
     "height": 1000
    },
    "id": "1e2a5e3e-965f-414b-840b-64dc8e1ecbcd",
    "outputId": "e79e83a1-eae4-4d61-aa15-dae3f0f440e3"
   },
   "outputs": [
    {
     "name": "stdout",
     "output_type": "stream",
     "text": [
      "\n",
      "\n",
      "\n",
      "Вариационный ряд:\n",
      "[-19.54, -19.27, -14.65, -13.47, -12.42, -11.93, -10.0, -8.43, -6.7, -6.39, -6.29, -5.48, -5.43, -3.32, -3.19, -2.4, -2.06, -1.49, -0.67, -0.55, 0.03, 1.14, 2.0, 2.3, 2.49, 3.35, 3.61, 3.82, 3.88, 3.94, 4.59, 4.74, 5.61, 6.21, 6.54, 7.0, 7.34, 8.37, 9.22, 9.55, 10.23, 10.64, 11.06, 12.56, 14.6, 17.69, 19.15, 20.16, 20.46, 21.42] \n",
      "\n",
      "\n",
      "\n"
     ]
    },
    {
     "data": {
      "image/png": "[encoded data removed]",
      "text/plain": [
       "<Figure size 640x480 with 1 Axes>"
      ]
     },
     "metadata": {},
     "output_type": "display_data"
    },
    {
     "data": {
      "image/png": "[encoded data removed]",
      "text/plain": [
       "<Figure size 640x480 with 1 Axes>"
      ]
     },
     "metadata": {},
     "output_type": "display_data"
    }
   ],
   "source": [
    "data = [11.06,20.46,17.69,-19.54,-10.00,4.74,-2.40,-14.65,-0.67,2.00,6.54,-2.06,-1.49,6.21,3.94,1.14,-0.55,21.42,7.34,9.22,12.56,19.15,2.49,-5.43,\n",
    "        4.59,20.16,-6.29,-13.47,14.60,-3.19,-11.93,-6.70,10.64,2.30,7.00,-12.42,3.61,-19.27,3.88,5.61,10.23,-3.32,8.37,3.35,-8.43,3.82,-5.48,9.55,\n",
    "        -6.39,0.03]\n",
    "sort_data = sorted(data)\n",
    "h = 4.00\n",
    "\n",
    "print(\"\\n\\n\\nВариационный ряд:\")\n",
    "print(sort_data, \"\\n\\n\\n\")\n",
    "\n",
    "n = len(sort_data)\n",
    "ecdf = np.cumsum(np.ones(n)) / n\n",
    "\n",
    "plt.step(sort_data, ecdf)\n",
    "plt.title('Империческая функция распределения')\n",
    "plt.grid(True)\n",
    "plt.show()\n",
    "\n",
    "bins = np.arange(min(data), max(data) + h, h)\n",
    "plt.hist(data, bins=bins, edgecolor='black')\n",
    "plt.title('Гистограмма и полигон частот с шагом h = 4')\n",
    "plt.grid(axis='y')\n",
    "hist, _ = np.histogram(data, bins=bins)\n",
    "bin_centers = 0.5 * (bins[1:] + bins[:-1])\n",
    "plt.plot(bin_centers, hist, color='red', marker='o', linestyle='-')\n",
    "plt.show()"
   ]
  },
  {
   "cell_type": "markdown",
   "id": "732f246f-39a6-40d5-9dc4-2a794482c039",
   "metadata": {
    "id": "732f246f-39a6-40d5-9dc4-2a794482c039"
   },
   "source": [
    "### b) Вычислить выборочные аналоги следующих числовых характеристик:  \n",
    "(I) Мат. ожидание; (II) Дисперсия; (III) СКО; (IV) Медианы; (V) Асимметрии; (VI) Эксцесса; (VII)Вероятности $\\mathbb{P}(X\\in [c,d])$;"
   ]
  },
  {
   "cell_type": "code",
   "execution_count": null,
   "id": "807ce5f7-6748-4d42-a750-f95ed48f24e5",
   "metadata": {
    "colab": {
     "base_uri": "https://localhost:8080/"
    },
    "id": "807ce5f7-6748-4d42-a750-f95ed48f24e5",
    "outputId": "23ed8f2f-d6d3-47f8-c83f-9d609384c82a"
   },
   "outputs": [
    {
     "name": "stdout",
     "output_type": "stream",
     "text": [
      "Мат. Ожидание:  2.0004\n",
      "Дисперсия:  98.04127184\n",
      "СКО:  9.901579259895867\n",
      "Медианы  2.92\n",
      "Асимметрии  -0.09115458237392342\n",
      "Эксцесса  -0.35659815829428165\n",
      "Вероятности  0.46\n"
     ]
    }
   ],
   "source": [
    "from scipy import stats\n",
    "\n",
    "data = [11.06,20.46,17.69,-19.54,-10.00,4.74,-2.40,-14.65,-0.67,2.00,6.54,-2.06,-1.49,6.21,3.94,1.14,-0.55,21.42,7.34,9.22,12.56,19.15,2.49,-5.43,\n",
    "        4.59,20.16,-6.29,-13.47,14.60,-3.19,-11.93,-6.70,10.64,2.30,7.00,-12.42,3.61,-19.27,3.88,5.61,10.23,-3.32,8.37,3.35,-8.43,3.82,-5.48,9.55,\n",
    "        -6.39,0.03]\n",
    "c = 0.00\n",
    "d = 12.00\n",
    "\n",
    "print(\"Мат. Ожидание: \", np.mean(data))\n",
    "print(\"Дисперсия: \", np.var(data))\n",
    "print(\"СКО: \", np.sqrt(np.var(data)))\n",
    "print(\"Медианы \", np.median(data))\n",
    "print(\"Асимметрии \", stats.skew(data))\n",
    "print(\"Эксцесса \", stats.kurtosis(data))\n",
    "print(\"Вероятности \", len([x for x in data if c<=x<=d])/len(data))"
   ]
  },
  {
   "cell_type": "markdown",
   "id": "4xhSXdTYGfpe",
   "metadata": {
    "id": "4xhSXdTYGfpe"
   },
   "source": [
    "#### c) В предположении, что исходные наблюдения являются выборкой из нормального распределения, построить оценку максимального правдоподобия параметров  (𝑎,𝜎2) и соответствующие оценки по методу моментов. Найти смещение оценок.\n",
    "ОМП\n",
    "Плотность распределения:$p_\\theta\\left(x\\right)=\\frac1{\\sigma\\sqrt{2\\pi}}exp\\left(-\\frac{\\left(x-\\alpha\\right)^2}{2\\sigma^2}\\right)$\n",
    "\n",
    "Функция правдоподобия:$L\\left(\\overrightarrow{x;}\\theta\\right)=\\prod_{i=1}^n\\frac1{\\sigma\\sqrt{2\\pi}}exp\\left(-\\frac{\\left(x-\\alpha\\right)^2}{2\\sigma^2}\\right)=\\left(\\frac1{\\sigma\\sqrt{2\\pi}}\\right)^nexp\\left(-\\frac{{\\displaystyle\\sum_{i=1}^n}\\left(x_i-\\alpha\\right)^2}{2\\sigma^2}\\right)$\n",
    "\n",
    "МДС:$Т=\\left(\\sum_{i=1}^nx_i^2,\\sum_{i=1}^nx_i\\right)$\n",
    "\n",
    "ПДС:Т.к.данное распределение принадлежит к семейству экспоненц. распределению,следовательно, это ПДС$\n",
    "\n",
    "$LL\\left(\\overrightarrow{x;}\\theta\\right)=\\left(\\frac1{\\sigma\\sqrt{2\\pi}}\\right)^nexp\\left(-\\frac{\\displaystyle\\sum_{i=1}^n\\left(x_i-\\alpha\\right)^2}{2\\sigma^2}\\right)=-n\\ln\\;\\left(\\sigma\\right)-\\frac n2\\ln2\\pi-\\frac{\\displaystyle\\sum_{i=1}^n\\left(x_i-\\alpha\\right)^2}{2\\sigma^2}$\n",
    "\n",
    "$\\frac{\\partial LL\\left(\\overrightarrow{x;}\\alpha\\right)}{\\partial\\alpha}=-\\frac{\\displaystyle\\sum_{i=1}^nx_i-2\\alpha\\sum_{i=1}^nx_i+n\\alpha^2}{2\\sigma^2}=\\frac{\\sum_{i=1}^nx_i-n\\alpha}{\\sigma^2}\\\\\\frac{\\sum_{i=1}^nx_i-n\\alpha}{\\sigma^2}=0\\\\\\sum_{i=1}^nx_i=n\\alpha\\rightarrow\\widehat\\alpha=\\overline x=2$\n",
    "\n",
    "$\\frac{\\partial LL\\left(\\overrightarrow{x;}\\sigma\\right)}{\\partial\\sigma}=-\\frac n\\sigma+\\frac{\\displaystyle\\sum_{i=1}^n\\left(x_i-\\alpha\\right)^2}{\\sigma^3}\\\\-\\frac n\\sigma+\\frac{\\displaystyle\\sum_{i=1}^n\\left(x_i-\\alpha\\right)^2}{\\sigma^3}=0\\\\\\sigma^2n=\\sum_{i=1}^n\\left(x_i-\\alpha\\right)^2=\\frac{\\sum_{i=1}^n\\left(x_i-\\alpha\\right)^2}n\\\\\\widehat\\sigma^2=\\frac{\\sum_{i=1}^n\\left(x_i-\\alpha\\right)^2}n=S^2=98.04$\n",
    "\n",
    "НРМД-оценка:\n",
    "\n",
    "Оценка параметра $\\alpha\\\\E\\widehat\\alpha=E\\left(\\frac{{\\displaystyle\\sum_{i=1}^n}x_i}n\\right)=\\frac{\\displaystyle1}nE\\left(\\sum_{i=1}^nx_i\\right)=\\frac{\\displaystyle1}nn\\alpha=\\alpha$-оценка несмещенная\n",
    "\n",
    "$\\widetilde\\theta=\\widehat\\alpha$ - НРМД-оценка\n",
    "\n",
    "Оценка параметра $\\sigma:\\\\E\\widehat\\sigma=E\\left(S^2\\right)=E\\left(\\frac{{\\displaystyle\\sum_{i=1}^n}\\left(x_i-\\overline X\\right)^2}n\\right)=\\begin{bmatrix}Y_i=x_i-Ex_i\\\\EY_i=0;DY_i=\\sigma^2\\end{bmatrix}=\\\\E\\left(\\frac{\\displaystyle\\sum_{i=1}^n\\left(y_i-\\overline Y\\right)^2}n\\right)=E\\left(\\overline Y^2\\right)-E\\left(\\overline Y\\right)^2\\boxed=\\\\\\begin{bmatrix}E\\left(\\overline Y^2\\right)=E\\left(\\frac1n\\sum_{i=1}^n\\left({y^2}_i\\right)\\right)=\\frac1n\\sum_{i=1}^nE\\left({y^2}_i\\right)=\\sigma^2\\\\E\\left(\\overline Y\\right)^2=E\\left(\\frac1n\\sum_{i=1}^n\\left(y_i\\right)\\right)^2=\\frac1{n^2}E\\left(\\frac1n\\sum_{i=1}^n\\left(y_i\\right)\\right)^2=\\frac1{n^2}\\sum_{i=1}^n\\overset n{\\underset{i=j}{\\sum E}}\\left(y_iy_j\\right)\\end{bmatrix}$\n",
    "\n",
    "Двойная сумма:$\\begin{bmatrix}i=j:Ey^2\\\\i\\neq j:E\\left(y_i\\right)+E\\left(y_j\\right)\\end{bmatrix}=\\begin{bmatrix}\\sigma^2\\\\i\\neq j:E\\left(y_i\\right)E\\left(y_j\\right)=0\\end{bmatrix}$\n",
    "\n",
    "Получим:$=\\frac1{n^2}\\left(n\\sigma^2+\\left(n^2-n\\right)\\cdot 0\\right)=\\frac1{n^2}n\\sigma^2=\\frac{\\sigma^2}n\\\\\\boxed=\\sigma^2-\\frac{\\sigma^2}n=\\frac1n\\left(\\sigma^2n-\\sigma^2\\right)=\\frac1n\\sigma^2\\left(n-1\\right)=S^2\\;\\\\E\\widetilde\\sigma=\\frac n{n-1}ES^2\\;=\\frac n{n-1}\\cdot\\frac1n\\sigma^2\\left(n-1\\right)=\\sigma^2$ - НРМД-оценка\n",
    "\n",
    "$ОММ:$\n",
    "$\\widetilde\\theta=\\left(\\widetilde\\alpha,\\widetilde{\\sigma^2}\\right)=\\left(\\overline x,S^2\\right)=(2;98.04)$"
   ]
  },
  {
   "cell_type": "markdown",
   "id": "tsXRW_KOKHhA",
   "metadata": {
    "id": "tsXRW_KOKHhA"
   },
   "source": [
    "#### d) Построить доверительные интервалы уровня значимости  𝛼2  для параметров  (𝑎,𝜎2).\n",
    "$\\sqrt{n-1}\\frac{\\overline x-\\alpha}{\\sqrt{S^2}}\\sim S_{n-1}$\n",
    "\n",
    "$𝑥_{\\alpha_2}:Ф({𝑥_{\\alpha_2}}_2)=1-\\frac{\\alpha_2}2=1-\\frac{0,02}2=0,99 \\to 𝑥_{\\alpha_2}=2.33$\n",
    "\n",
    "$P\\left(-x_{\\alpha_2}\\leq\\sqrt{n-1}\\frac{\\overline x-\\alpha}S\\leq x_{\\alpha_2}\\right)$\n",
    "\n",
    "Д.И.:$\\left[\\overline x-\\frac{x_{\\alpha_2S}}{\\sqrt{n-1}};\\overline x+\\frac{x_{\\alpha_2S}}{\\sqrt{n-1}}\\right]\\ni\\alpha$\n",
    "\n",
    "$\\left[2-\\frac{2.33\\cdot 98,04}{\\sqrt{50-1}};\\overline x+\\frac{2.33\\cdot 98,04}{\\sqrt{50-1}}\\right]\\ni\\alpha\\\\\\left[-30.63;34.63\\right]\\ni\\alpha$\n",
    "\n",
    "$\\frac{nS^2}{\\sigma^2}\\sim X_{n-1}^2$\n",
    "\n",
    "$𝑥_{\\alpha_1}=76.154:K_{n-1}(𝑥_{\\alpha_1})=\\frac{\\alpha_2}2=\\frac{0,02}{2}=0.01;𝑥_{\\alpha_2}=29.707:K_{n-1}(𝑥_{\\alpha_2})=1-\\frac{0,02}{2}=0.99$\n",
    "\n",
    "$P\\left(-x_{\\alpha_1}\\leq\\frac{nS^2}{\\sigma^2}\\leq x_{\\alpha_2}\\right)\\approx1-\\alpha$\n",
    "\n",
    "$P\\left(\\frac{-x_{\\alpha_1}}{nS^2}\\leq\\frac1{\\sigma^2}\\leq\\frac{x_{\\alpha_2}}{nS^2}\\right)\\approx1-\\alpha$\n",
    "\n",
    "$P\\left(\\frac{nS^2}{-x_{\\alpha_1}}\\leq\\sigma^2\\leq\\frac{nS^2}{x_{\\alpha_2}}\\right)\\approx1-\\alpha$\n",
    "\n",
    "Д.И. :$\\left[\\frac{nS^2}{x_{\\alpha_2}};\\frac{nS^2}{x_{\\alpha_1}}\\right]\\ni\\sigma^2 \\to\\left[\\frac{50\\left(98.04\\right)^2}{76.154};\\frac{50\\left(98.04\\right)^2}{29.707}\\right]\\ni\\sigma^2 \\to \\left[6310.8;16177.7\\right]\\ni\\sigma^2$"
   ]
  },
  {
   "cell_type": "markdown",
   "id": "6L_VEl5kUlX4",
   "metadata": {
    "id": "6L_VEl5kUlX4"
   },
   "source": [
    "#### e) использованием теоремы Колмогорова построить критерий значимости проверки простой гипотезы согласия с нормальным распределением с параметрами  $(𝑎_0,𝜎_0^2)$.Проверить гипотезу на уровне значимости  $𝛼_2$. Вычислить наибольшее значение уровня значимости, при котором еще нельзя отвергнуть гипотезу."
   ]
  },
  {
   "cell_type": "code",
   "execution_count": null,
   "id": "4FiZ85S1UhEx",
   "metadata": {
    "colab": {
     "base_uri": "https://localhost:8080/"
    },
    "id": "4FiZ85S1UhEx",
    "outputId": "47401bfa-07e3-4646-e4e0-9a1c82d5d3dc"
   },
   "outputs": [
    {
     "name": "stdout",
     "output_type": "stream",
     "text": [
      "Cтатистика критерия Колмогорова: 4.1012193308819755\n",
      " Ks_p_value: 4.047604718242212e-08\n",
      "Квантиль: 1.5174269646320033\n",
      "\n",
      "Гипотеза отвергается\n",
      "Наибольшее значение, при  котором еще нет оснований отвергнуть гипотезу: 0.0000000000e+00\n"
     ]
    }
   ],
   "source": [
    "from scipy.stats import kstest,  norm,kstwobign\n",
    "import numpy as np\n",
    "from numpy import sqrt\n",
    "\n",
    "def KolmogorovCriteria(data:list,cdf:any,n:int,alpha2:float)->None:\n",
    "    ks_statistics,ks_p_value = kstest(data,cdf)\n",
    "\n",
    "    kvantil:float = kstwobign.ppf(1-alpha2)\n",
    "    temp:float = sqrt(n)*ks_statistics\n",
    "\n",
    "    print(f\"Cтатистика критерия Колмогорова: {temp}\\n\",\n",
    "          f\"Ks_p_value: {ks_p_value}\\n\"\n",
    "          f\"Квантиль: {kvantil}\\n\")\n",
    "    if temp>kvantil:\n",
    "        print(\"Гипотеза отвергается\")\n",
    "    else:\n",
    "        print(\"Гипотеза не отвaергается\")\n",
    "\n",
    "def Cdf_func(data:list,alpha0:int,sigma0:int)->any:\n",
    "    return norm.cdf(data,loc=alpha0,scale=sigma0)\n",
    "\n",
    "alpha0:int = 35\n",
    "sigma0_2:int = 100\n",
    "alpha2:float = 0.02\n",
    "\n",
    "sigma0:int = sqrt(sigma0_2)\n",
    "\n",
    "My_cdf = Cdf_func(data,alpha0,sigma0_2)\n",
    "KolmogorovCriteria(data,My_cdf,n,alpha2)\n",
    "\n",
    "sigma0 = sqrt(sigma0_2)\n",
    "\n",
    "\n",
    "My_cdf = Cdf_func(data, alpha0, sigma0_2)\n",
    "\n",
    "max_significance_level = 0.0\n",
    "significance_levels = np.linspace(0.01, 0.99, num=100)\n",
    "\n",
    "for alpha in significance_levels:\n",
    "    ks_statistics, ks_p_value = kstest(data, My_cdf)\n",
    "\n",
    "    kvantil = kstwobign.ppf(1 - alpha)\n",
    "    temp = sqrt(n) * ks_statistics\n",
    "\n",
    "    if temp > kvantil:\n",
    "        break\n",
    "    else:\n",
    "        max_significance_level = alpha\n",
    "\n",
    "print(f\"Наибольшее значение, при  котором еще нет оснований отвергнуть гипотезу: {max_significance_level:.10e}\")\n"
   ]
  },
  {
   "cell_type": "markdown",
   "id": "wgqzUe3jSi93",
   "metadata": {
    "id": "wgqzUe3jSi93"
   },
   "source": [
    "#### f)  Используя гистограмму частот, построить критерии значимости  $𝜒2$ проверки простой гипотезы согласия с нормальным распределением с параметрами  $(𝑎_0,𝜎_0^2)$. Проверить гипотезу на уровне значимости  $𝛼_2$. Вычислить наибольшее значение уровня значимости, на котором ещё нет оснований отвергнуть данную гипотезу."
   ]
  },
  {
   "cell_type": "code",
   "execution_count": null,
   "id": "tXojEZHsWqlT",
   "metadata": {
    "colab": {
     "base_uri": "https://localhost:8080/"
    },
    "id": "tXojEZHsWqlT",
    "outputId": "ff432707-f669-4bca-9566-26774634d883"
   },
   "outputs": [
    {
     "name": "stdout",
     "output_type": "stream",
     "text": [
      "Статистика: 15.600000000000001\n",
      "Критическое значение: 0.07571926316863382\n",
      "Гипотеза не отвергается на уровне значимости 0.02\n",
      "Наибольшее значение уровня значимости: 15.6\n"
     ]
    }
   ],
   "source": [
    "a0 = 35\n",
    "sigma02 = 100\n",
    "\n",
    "# критерии значимости Хи-квадрат проверки\n",
    "observed_frequencies, _ = np.histogram(data, bins=10)\n",
    "expected_frequencies = np.array([len(data)/10] * 10)  # ожидаемые частоты для нормального распределения\n",
    "chi2, p_value = stats.chisquare(observed_frequencies, f_exp=expected_frequencies)\n",
    "print(\"Статистика:\",chi2)\n",
    "print(\"Критическое значение:\",p_value)\n",
    "alpha = 0.02\n",
    "if p_value < alpha:\n",
    "    print(\"Гипотеза отвергается на уровне значимости 0.02\")\n",
    "else:\n",
    "    print(\"Гипотеза не отвергается на уровне значимости 0.02\")\n",
    "\n",
    "max_significance_level = stats.chi2.ppf(1 - p, df=9)\n",
    "print(\"Наибольшее значение уровня значимости:\", max_significance_level)"
   ]
  },
  {
   "cell_type": "markdown",
   "id": "YzIjBeCHZzMP",
   "metadata": {
    "id": "YzIjBeCHZzMP"
   },
   "source": [
    "#### g)Построить критерий проверки значимости  $𝜒2$ сложной гипотезы согласия с нормальным распределением. Проверить гипотезу на уровне значимости  $𝛼_2$. Вычислить наибольшее значение уровня значимости, на которос ещё нет оснований отвергнуть данную"
   ]
  },
  {
   "cell_type": "code",
   "execution_count": null,
   "id": "LT42VXYUaDC1",
   "metadata": {
    "colab": {
     "base_uri": "https://localhost:8080/"
    },
    "id": "LT42VXYUaDC1",
    "outputId": "2ae8f813-49ec-405b-fa8b-167c034aa023"
   },
   "outputs": [
    {
     "name": "stdout",
     "output_type": "stream",
     "text": [
      "Критическое значение: 70.19676273627758\n",
      "Статистика: -119.29354241876057\n",
      "Нет оснований отвергать гипотезу H0 на уровне значимости 0.02\n",
      "Наибольший уровень значимости, при котором гипотеза не отвергается: -0.01\n"
     ]
    }
   ],
   "source": [
    "import numpy as np\n",
    "from scipy.stats import norm, chi2\n",
    "\n",
    "alpha = np.mean(data)\n",
    "sigma_sq = np.var(data)\n",
    "\n",
    "expected_freq = []\n",
    "for i in range(len(data)-1):\n",
    "    lower = norm.cdf(data[i], loc=alpha, scale=np.sqrt(sigma_sq))\n",
    "    upper = norm.cdf(data[i+1], loc=alpha, scale=np.sqrt(sigma_sq))\n",
    "    expected_freq.append((upper-lower) * len(data))\n",
    "\n",
    "observed_freq, _ = np.histogram(data, bins=len(data)-1)\n",
    "\n",
    "chi_square_statistic = sum((observed_freq - expected_freq)**2 / expected_freq)\n",
    "\n",
    "df = len(data) - 2\n",
    "p_value = chi2.ppf(1 - 0.02, df)\n",
    "print(\"Критическое значение:\",p_value)\n",
    "print(\"Статистика:\",chi_square_statistic)\n",
    "if chi_square_statistic > p_value:\n",
    "    print(\"Гипотеза H0 отклоняется на уровне значимости 0.02\")\n",
    "else:\n",
    "    print(\"Нет оснований отвергать гипотезу H0 на уровне значимости 0.02\")\n",
    "\n",
    "significance_level = 0.02\n",
    "\n",
    "while chi_square_statistic <= p_value:\n",
    "    significance_level -= 0.01\n",
    "    p_value = chi2.ppf(1 - significance_level, df)\n",
    "\n",
    "print(\"Наибольший уровень значимости, при котором гипотеза не отвергается:\", significance_level)"
   ]
  },
  {
   "cell_type": "markdown",
   "id": "xeQnbc03cM0W",
   "metadata": {
    "id": "xeQnbc03cM0W"
   },
   "source": [
    "#### h)Построить наиболее мощный критерий проверки простой гипотезы о нормальности с параметром $(a,\\sigma^{2})=(a_{0},\\sigma_{0}^{2})$ при альтернативе нормальности с параметром $(a,\\sigma^{2})=(a_{1},\\sigma_{1}^{2})$. Проверить гипотезу на уровне значимости $\\alpha_2$. Что получится, если поменять местами основную и альтернативную гипотезы?\n",
    "\n",
    "Основная гипотеза: $H_{0}=(a,\\sigma^{2})=(a_{0},\\sigma_{0}^{2})=(35,100)$\n",
    "\n",
    "Альтернативная гипотеза: $H_{A}=(a,\\sigma^{2})=(a_{1},\\sigma_{1}^{2})=(2,100)$\n",
    "\n",
    "$\\mathrm{L}\\left(\\overrightarrow{x}, \\overrightarrow{\\theta}\\right) = \\left(2\\pi \\right)^{-\\frac{n}{2}} \\cdot \\sigma^{-n} \\cdot \\exp{\\left(-\\frac{1}{2\\sigma^2} \\sum \\limits_{i = 1}^n (x_i - a)^2\\right)}$\n",
    "\n",
    "$\\mathrm{LR}\\left(\\overrightarrow{x}, \\overrightarrow{\\theta_0}, \\overrightarrow{\\theta_1}\\right) = \\frac{\\mathrm{L}\\left(\\overrightarrow{x}, \\overrightarrow{\\theta_1}\\right)}{\\mathrm{L}\\left(\\overrightarrow{x}, \\overrightarrow{\\theta_0}\\right)} = \\exp{\\left(\\frac{n}{2\\sigma^2}\\left(a_0^2 - a_1^2\\right) + \\frac{1}{\\sigma^2}\\sum \\limits_{i = 1}^n x_i \\cdot \\left(a_1 - a_0\\right)\\right)}$\n",
    "\n",
    "$\\frac{n}{2\\sigma^2}\\left(a_0^2 - a_1^2\\right) + \\frac{1}{\\sigma^2}\\sum \\limits_{i = 1}^n x_i \\cdot \\left(a_1 - a_0\\right) > \\ln{c}$\n",
    "\n",
    "$\\overline{x} > \\large \\frac{2\\sigma^2\\ln{c} - n\\left(a_0^2 - a_1^2\\right)}{2n\\left(a_1 - a_0\\right)}$\n",
    "\n",
    "В силу монотонности статистики LR относительно $\\overline{x}$:\n",
    "\n",
    "$\\mathrm{LR} > c \\iff \\overline{X} > c^*$\n",
    "\n",
    "$\\mathrm{LR} < c \\iff \\overline{X} < c^*$\n",
    "  \n",
    "Используя Центральную Предельную Теорему, получается эквивалентный критерий:\n",
    "\n",
    "$\\sqrt{n} \\frac{\\overline{x} - a_0}{\\sigma} \\sim \\mathcal{N}(0, 1)$\n",
    "\n",
    "$\\sqrt{50} \\frac{2+35}{10} = 26.17$\n",
    "\n",
    "$c^* : \\Phi(c^*) = 1 - \\alpha_2 = 1 - 0.02 = 0.98 \\Rightarrow c^* = 2,06$\n",
    "\n",
    "Тогда построим следующий нерандомизированный критерий:\n",
    "$$ \\phi(x) =\\left\\{\\begin{array}{l} 1, \\overline{x} > 2,06 \\\\ p, \\overline{x} = 2,06 \\\\ 0, \\overline{x} < 2,06\\\\ \\end{array}\\right.$$\n",
    "\n",
    "$\\sqrt{n} \\frac{\\overline{X} - a_0}{\\sigma} =26.17> c^*=2.06 \\implies$ гипотезу отвергаем.\n",
    "\n",
    "\n",
    "\n",
    "Нулевая гипотеза:\n",
    "\n",
    "$H_0 = \\left( a_1, \\sigma^2_1\\right) = (2, 100)$\n",
    "\n",
    "Альтернативная гипотеза:\n",
    "$H_A = \\left( a_0, \\sigma^2_0\\right) = (35, 100)$\n",
    "\n",
    "$\\mathrm{LR}\\left(\\overrightarrow{x}, \\overrightarrow{\\theta_0}, \\overrightarrow{\\theta_1}\\right) = \\frac{\\mathrm{L}\\left(\\overrightarrow{x}, \\overrightarrow{\\theta_1}\\right)}{\\mathrm{L}\\left(\\overrightarrow{x}, \\overrightarrow{\\theta_0}\\right)} = \\exp{\\left(\\frac{n}{2\\sigma^2}\\left(a_1^2 - a_0^2\\right) + \\frac{1}{\\sigma^2}\\sum \\limits_{i = 1}^n x_i \\cdot \\left(a_0 - a_1\\right)\\right)}$\n",
    "\n",
    "$\\frac{n}{2\\sigma^2}\\left(a_1^2 - a_0^2\\right) + \\frac{1}{\\sigma^2}\\sum \\limits_{i = 1}^n x_i \\cdot \\left(a_0 - a_1\\right) > \\ln{c}$\n",
    "\n",
    "Т.к. $a_0 < a_1$, то меняем знак неравенства:\n",
    "\n",
    "$\\overline{x} > \\large \\frac{2\\sigma^2\\ln{c} - n\\left(a_1^2 - a_0^2\\right)}{2n\\left(a_0 - a_1\\right)}$\n",
    "\n",
    "В силу монотонности статистики LR относительно $\\overline{x}$:\n",
    "\n",
    "$\\mathrm{LR} > c \\iff \\overline{x} < c^*$\n",
    "\n",
    "$\\mathrm{LR} < c \\iff \\overline{x} > c^*$\n",
    "  \n",
    "Используя Центральную Предельную Теорему, получаем эквивалентный критерий:\n",
    "\n",
    "$\\sqrt{n} \\frac{\\overline{X} - a_1}{\\sigma} \\sim \\mathcal{N}(0, 1)$ при $H_A$\n",
    "\n",
    "$\\mathbb{P}\\left(\\sqrt{n}\\frac{\\overline{X} - a_1}{\\sigma} \\geq \\sqrt{n}\\frac{c^* - a_1}{\\sigma}\\right) = 1 - \\Phi\\left(\\sqrt{n}\\frac{c^* - a_1}{\\sigma}\\right) = \\alpha_2$\n",
    "\n",
    "$\\sqrt{n}\\frac{c^* - a_1}{\\sigma} = x_{\\alpha}$\n",
    "\n",
    "$x_{\\alpha} : \\Phi(x_{\\alpha}) = 1 - \\alpha_2 =  0.98 \\to x_{\\alpha} = 2.06 \\to c^* = 37.91$\n",
    "\n",
    "Получаем следующий нерандомизированный критерий:\n",
    "\n",
    "$$ \\phi(x) =\\left\\{\\begin{array}{l} 1, \\overline{X} < 37.91 \\\\ p, \\overline{X} = 37.91 \\\\ 0, \\overline{X} > 37.91\\\\ \\end{array}\\right.$$\n",
    "\n",
    "Так как $\\overline{x} \\lt c^*$, то гипотезу отвергаем."
   ]
  },
  {
   "cell_type": "code",
   "execution_count": null,
   "id": "g-NwocbEebMl",
   "metadata": {
    "colab": {
     "base_uri": "https://localhost:8080/"
    },
    "id": "g-NwocbEebMl",
    "outputId": "1c4101e1-a403-44af-f963-22eb551e0586"
   },
   "outputs": [
    {
     "name": "stdout",
     "output_type": "stream",
     "text": [
      "c* = 2.0600000000000014\n",
      "c** = 37.91327993848858\n"
     ]
    }
   ],
   "source": [
    "c_alpha = 0\n",
    "while norm.cdf(c_alpha) <= 0.98:\n",
    "    c_alpha += 0.02\n",
    "print('c* =', c_alpha)\n",
    "\n",
    "sigma = 10\n",
    "a_1 = 35\n",
    "x_alpha = 2.06\n",
    "c_star = (x_alpha * sigma)/n**0.5 + a_1\n",
    "print('c** =', c_star)"
   ]
  },
  {
   "cell_type": "markdown",
   "id": "Bx84jS_se5Zj",
   "metadata": {
    "id": "Bx84jS_se5Zj"
   },
   "source": [
    "#### i)В пунктах (c)-(g) заменить семейство нормальных распределений на двухпараметрическое семейство распределений Лапласа с плотностями $p_{a,\\sigma}(x)=\\frac{1}{\\sqrt{2}\\sigma}exp\\left(-\\frac{\\sqrt{2}}{\\sigma}|x-a|\\right)$."
   ]
  },
  {
   "cell_type": "markdown",
   "id": "IKsqh93_h0VE",
   "metadata": {
    "id": "IKsqh93_h0VE"
   },
   "source": [
    "#### i.c)В предположении, что исходные наблюдения являются выборкой из двухпараметрического распределения Лапласа, построить ОМП и ОММ параметров $(a,\\sigma^{2})$.Найти смещение оценки.\n",
    " ОМП.\n",
    "\n",
    "$L(\\overrightarrow{x},\\theta)=\\prod_{i=1}^{n}\\frac{1}{\\sqrt{2}\\sigma}exp\\left(-\\frac{\\sqrt{2}}{\\sigma}|x-a|\\right)=2^{-\\frac{n}{2}} \\cdot \\sigma^{-n} \\cdot exp\\left(-\\frac{\\sqrt{2}}{\\sigma}\\sum_{i=1}^{n}|x_{i}-a|\\right)$\n",
    "\n",
    "\n",
    "$LL(\\overrightarrow{x},\\theta)=-\\frac{n}{2}\\ln2-n\\ln\\sigma-\\frac{\\sqrt{2}}{\\sigma}\\sum_{i=1}^{n}|x_{i}-a|$\n",
    "\n",
    "$\\frac{\\partial LL}{\\partial \\sigma}=-\\frac{n}{\\sigma}+\\frac{\\sqrt{2}}{\\sigma^{2}}\\sum_{i=1}^{n}|x_{i}-\\widehat{a}|=0 \\implies \\frac{n}{\\sigma}=\\frac{\\sqrt{2}}{\\sigma^{2}}\\sum_{i=1}^{n}|x_{i}-\\widehat{a}|$\n",
    "\n",
    "$\\frac{\\sigma}{n}=\\frac{\\sigma^{2}}{\\sqrt{2}\\sum_{i=1}^{n}|x_{i}-\\widehat{a}|} \\implies \\sigma^{2}=\\left(\\frac{\\sqrt{2}\\sum_{i=1}^{n}|x_{i}-\\widehat{a}|}{n}\\right)^{2}$\n",
    "\n",
    "$\\frac{\\partial LL}{\\partial a}=\\frac{\\sqrt{2}}{\\sigma^{2}}\\sum_{i=1}^{n}sign|x_{i}-a|=0$\n",
    "\n",
    "Т.к. $\\frac{\\partial\\mathrm{LL}}{\\partial a}$ - монотонно убывающая функция, то ОМП параметра $а$ - выборочная медиана.\n",
    "\n",
    "$\\widehat{a} = z_{n, \\frac{1}{2}} = \\begin{cases} x_{\\lfloor \\frac{n}{2} \\rfloor + 1} , np \\in \\mathbb{Z} \\\\ \\\\ \\left[x_{\\left(\\frac{n}{2}\\right)}, x_{\\left(\\frac{n}{2} + 1\\right)}\\right), np \\notin \\mathbb{Z} \\end{cases}$\n",
    "\n",
    "Таким образом $\\widehat{\\theta} = \\left(\\widehat{a}, \\widehat{\\sigma}^2 \\right)$\n",
    "\n",
    "Оценка методом моментов:\n",
    "\n",
    "$\\mathbb{E}x = a$ , $\\mathrm{M}_1 = \\overline{X}$\n",
    "\n",
    "$\\mathbb{E}x^2 = \\sigma^2 + a^2$, $\\mathrm{M}_2 = \\overline{X^2}$\n",
    "\n",
    "Система уравнений метода моментов:\n",
    " $\\begin{equation} \\begin{cases} \\overline{X} = a \\\\ \\overline{X^2} = a^2 + \\sigma^2 \\end{cases}\\end{equation}$\n",
    "\n",
    "Следовательно, $\\widetilde{\\theta} = \\left(\\widetilde{a}, \\widetilde{\\sigma^2}\\right) = \\left(\\overline{X}, S^2\\right)$ - ОММ\n",
    "\n",
    "НРМД-оценка:\n",
    "\n",
    "$\\mathbb{E}_{\\theta} \\widehat{a} = \\mathbb{E}_{\\theta}z_{n, \\frac{1}{2}} = \\mathbb{E} \\frac{X_{\\frac{n}{2}} + X_{\\frac{n}{2} + 1}}{2} = a \\to$ НРМД-оценка.\n",
    "\n",
    "$\\mathbb{E}_{\\theta} \\widehat{\\sigma^2} \\neq \\sigma^2 \\implies$ смещённая оценка.\n",
    "\n",
    "$\\mathbb{E}_{\\theta} \\widetilde{a} = \\mathbb{E}_{\\theta} \\overline{X} = a \\to$ НРМД-оценка.\n",
    "\n",
    "$\\widetilde{\\sigma^2}=\\frac{n}{n-1}\\widehat{\\sigma^2}$\n",
    "\n",
    "$\\mathbb{E}_{\\theta}\\widetilde{\\sigma^2} = \\mathbb{E}_{\\theta} S^2 =\\sigma^2 \\to$ НРМД-оценка.\n",
    "\n",
    "$ОММ:\\widetilde\\theta=\\left(\\widetilde\\alpha,\\widetilde{\\sigma^2}\\right)$"
   ]
  },
  {
   "cell_type": "markdown",
   "id": "_wk9ieihj2P9",
   "metadata": {
    "id": "_wk9ieihj2P9"
   },
   "source": [
    "#### i.d)Построить доверительные интервалы уровня значимости $\\alpha_2$ для параметров $(a,\\sigma^{2})$.\n",
    "\n",
    "По пункту 4 леммы Фишера:\n",
    "\n",
    "$\\mathrm{G}\\left(\\vec{x}, a\\right) = \\sqrt{n - 1} \\cdot \\frac{\\overline{X} - a}{S} \\sim \\mathrm{Student}(n - 1)$ - генератор.\n",
    "\n",
    "$x_{\\alpha}: \\mathrm{S}_{n-1}(x_{\\alpha}) = 1 - \\frac{\\alpha}{2}  = 1 - \\frac{0,02}{2} = 0.99 \\Rightarrow x_{\\alpha} = 2,68 \\Rightarrow x_{2\\alpha} = x_{\\alpha} = 2.68, x_{1\\alpha} = -x_{\\alpha} = -2.68$\n",
    "\n",
    "(т.к. распределение Стьюдента симметричное).\n",
    "\n",
    "$\\mathbb{P}_{\\theta}\\left(-x_{\\alpha} \\le \\sqrt{n - 1} \\cdot \\frac{\\overline{X} - a}{S} \\le x_{\\alpha}\\right) = 1 - \\alpha$\n",
    "\n",
    "$\\mathbb{P}_{\\theta}\\left(-\\frac{x_{\\alpha} \\cdot S}{\\sqrt{n - 1}} + \\overline{x} \\le a \\le \\frac{x_{\\alpha} \\cdot S}{\\sqrt{n - 1}} + \\overline{x}\\right) = 1 - \\alpha$\n",
    "\n",
    "Д.И.\n",
    "\n",
    "$\\left[-\\frac{x_{\\alpha} \\cdot S}{\\sqrt{n - 1}} + \\overline{x}, \\frac{x_{\\alpha} \\cdot S}{\\sqrt{n - 1}} + \\overline{x}\\right] \\ni a$\n",
    "\n",
    "$[-1.79; 5.79] \\ni a$\n",
    "\n",
    "$\\mathrm{G}\\left(\\vec{X}, \\sigma^2\\right) = \\frac{nS^2}{\\sigma^2} \\sim \\chi^2_{n-1}$ - генератор.\n",
    "\n",
    "Выбор квантилей:\n",
    "\n",
    "$x_{1\\alpha}: \\mathrm{K}_{n-1}(x_{1\\alpha}) = \\frac{\\alpha}{2} = \\frac{0,02}{2} = 0,01 \\Rightarrow x_{1\\alpha} = 76.154$\n",
    "\n",
    "$x_{2\\alpha}: \\mathrm{K}_{n-1}(x_{2\\alpha}) = 1 - \\frac{\\alpha}{2} = 1 - 0,01 = 0,99 \\Rightarrow x_{2\\alpha} = 29.707$\n",
    "\n",
    "$\\mathbb{P}_{\\theta}\\left(x_{1\\alpha} \\le \\frac{nS^2}{\\sigma^2} \\le x_{2\\alpha}\\right) = 1 - \\alpha$\n",
    "\n",
    "$\\mathbb{P}_{\\theta}\\left(\\frac{nS^2}{x_{2\\alpha}} \\le \\sigma^2 \\le \\frac{nS^2}{x_{1\\alpha}}\\right) = 1 - \\alpha$\n",
    "\n",
    "Таким образом, доверительный интервал:\n",
    "\n",
    "$\\left[\\frac{nS^2}{x_{2\\alpha}}, \\frac{nS^2}{x_{1\\alpha}}\\right] \\ni \\sigma^2$\n",
    "\n",
    "$\\left[165.01, 64.37\\right] \\ni \\sigma^2$"
   ]
  },
  {
   "cell_type": "markdown",
   "id": "bLukTVM3mNNf",
   "metadata": {
    "id": "bLukTVM3mNNf"
   },
   "source": [
    "#### i.e)С использованием теоремы Колмогорова построить критерий значимости проверки простой гипотезы согласия с двухпараметрическим распределением Лапласа с параметрами  $(a_{0},\\sigma_{0}^{2})$. Проверить гипотезу на уровне значимости  $α_2$ . Вычислить наибольшее значение уровня значимости, на котором еще нет оснований отвергнуть данную гипотезу."
   ]
  },
  {
   "cell_type": "code",
   "execution_count": null,
   "id": "vdypFnh-oVFN",
   "metadata": {
    "colab": {
     "base_uri": "https://localhost:8080/"
    },
    "id": "vdypFnh-oVFN",
    "outputId": "ee653b60-2863-4e4a-ebd8-865ef0b1b9d4"
   },
   "outputs": [
    {
     "name": "stdout",
     "output_type": "stream",
     "text": [
      "Статистика: 0.8714126939142988\n",
      "p-value: 6.266225133083352e-45\n",
      "На уровне значимости 0.02 отвергаем гипотезу\n",
      "Наибольший уровень значимости без отвержения гипотезы: 0.03\n"
     ]
    }
   ],
   "source": [
    "import numpy as np\n",
    "from scipy.stats import laplace, kstest\n",
    "\n",
    "# Заданные параметры распределения Лапласа\n",
    "a0 = 35\n",
    "sigma0 = 10\n",
    "laplace_params = {'loc': a0, 'scale': sigma0}\n",
    "laplace_cdf = laplace.cdf(sort_data, **laplace_params)\n",
    "\n",
    "ks_statistic, p_value = kstest(sort_data, 'laplace', args=(a0, sigma0))\n",
    "\n",
    "alpha = 0.02\n",
    "\n",
    "print(f'Статистика: {ks_statistic}')\n",
    "print(f'p-value: {p_value}')\n",
    "\n",
    "if p_value < alpha:\n",
    "    print(f'На уровне значимости {alpha} отвергаем гипотезу')\n",
    "else:\n",
    "    print(f'На уровне значимости {alpha} нет оснований отвергнуть гипотезу')\n",
    "\n",
    "while p_value >= alpha:\n",
    "    alpha -= 0.01\n",
    "    if alpha < 0:\n",
    "        break\n",
    "\n",
    "print(f'Наибольший уровень значимости без отвержения гипотезы: {alpha+0.01}')"
   ]
  },
  {
   "cell_type": "markdown",
   "id": "M3NXDiD4pioG",
   "metadata": {
    "id": "M3NXDiD4pioG"
   },
   "source": [
    "#### i.f)Используя гистограмму частот, построить критерий значимости $\\mathcal{X^{2}}$ проверки простой гипотезы согласия с семейством двухпараметрических распределений Лапласа $(a_{0},\\sigma_{0}^{2})$. Проверить гипотезу на уровень значимости $\\alpha_{2}$. Вычислить наибольшее значение уровня значимости, на котором ещё нет оснований отвергнуть данную гипотезу."
   ]
  },
  {
   "cell_type": "code",
   "execution_count": null,
   "id": "W50LM1Wrpv1Z",
   "metadata": {
    "colab": {
     "base_uri": "https://localhost:8080/"
    },
    "id": "W50LM1Wrpv1Z",
    "outputId": "03f1bd61-3178-4a08-ce7d-2c4e65dfef1e"
   },
   "outputs": [
    {
     "name": "stdout",
     "output_type": "stream",
     "text": [
      "Статистика: 15.600000000000001\n",
      "Критическое значение: 0.07571926316863382\n",
      "Гипотеза не отвергается на уровне значимости 0.02\n",
      "Наибольшее значение уровня значимости: 15.6\n"
     ]
    }
   ],
   "source": [
    "a0 = 35\n",
    "sigma02 = 100\n",
    "\n",
    "# критерии значимости Хи-квадрат проверки\n",
    "observed_frequencies, _ = np.histogram(data, bins=10)\n",
    "expected_frequencies = np.array([len(data)/10] * 10)  # ожидаемые частоты для нормального распределения\n",
    "chi2, p_value = stats.chisquare(observed_frequencies, f_exp=expected_frequencies)\n",
    "print(\"Статистика:\",chi2)\n",
    "print(\"Критическое значение:\",p_value)\n",
    "alpha = 0.02\n",
    "if p_value < alpha:\n",
    "    print(\"Гипотеза отвергается на уровне значимости 0.02\")\n",
    "else:\n",
    "    print(\"Гипотеза не отвергается на уровне значимости 0.02\")\n",
    "\n",
    "max_significance_level = stats.chi2.ppf(1 - p, df=9)\n",
    "print(\"Наибольшее значение уровня значимости:\", max_significance_level)"
   ]
  },
  {
   "cell_type": "markdown",
   "id": "6QgAcDZ7tTWb",
   "metadata": {
    "id": "6QgAcDZ7tTWb"
   },
   "source": [
    "#### i.g)Построить критерий значимости  $\\mathcal{X^{2}}$ проверки сложной гипотезы согласия с двухпараметрическим семейством распределени1 Лапласа. Проверить гипотезу по уровню значимости $\\alpha_{2}$.Вычислить наибольшее значение уровня значимости, на котором ещё нет оснований отвергнуть данную гипотезу."
   ]
  },
  {
   "cell_type": "code",
   "execution_count": null,
   "id": "4jh6N4RUtjju",
   "metadata": {
    "colab": {
     "base_uri": "https://localhost:8080/"
    },
    "id": "4jh6N4RUtjju",
    "outputId": "e7c7d505-9e60-498c-ef31-ee6de24045e5"
   },
   "outputs": [
    {
     "name": "stdout",
     "output_type": "stream",
     "text": [
      "Критическое значение: 70.19676273627758\n",
      "Статистика: -118.00973729365049\n",
      "Нет оснований отвергать гипотезу H0 на уровне значимости 0.02\n",
      "Наибольший уровень значимости, при котором гипотеза не отвергается: -0.01\n"
     ]
    }
   ],
   "source": [
    "import numpy as np\n",
    "from scipy.stats import laplace, chi2\n",
    "\n",
    "alpha = np.mean(data)\n",
    "sigma_sq = np.var(data)\n",
    "\n",
    "expected_freq = []\n",
    "for i in range(len(data)-1):\n",
    "    lower = laplace.cdf(data[i], loc=alpha, scale=np.sqrt(sigma_sq))\n",
    "    upper = laplace.cdf(data[i+1], loc=alpha, scale=np.sqrt(sigma_sq))\n",
    "    expected_freq.append((upper-lower) * len(data))\n",
    "\n",
    "observed_freq, _ = np.histogram(data, bins=len(data)-1)\n",
    "\n",
    "chi_square_statistic = sum((observed_freq - expected_freq)**2 / expected_freq)\n",
    "\n",
    "df = len(data) - 2\n",
    "p_value = chi2.ppf(1 - 0.02, df)\n",
    "print(\"Критическое значение:\",p_value)\n",
    "print(\"Статистика:\",chi_square_statistic)\n",
    "if chi_square_statistic > p_value:\n",
    "    print(\"Гипотеза H0 отклоняется на уровне значимости 0.02\")\n",
    "else:\n",
    "    print(\"Нет оснований отвергать гипотезу H0 на уровне значимости 0.02\")\n",
    "\n",
    "significance_level = 0.02\n",
    "\n",
    "while chi_square_statistic <= p_value:\n",
    "    significance_level -= 0.01\n",
    "    p_value = chi2.ppf(1 - significance_level, df)\n",
    "\n",
    "print(\"Наибольший уровень значимости, при котором гипотеза не отвергается:\", significance_level)"
   ]
  },
  {
   "cell_type": "markdown",
   "id": "00d5e07d-86d7-4d23-8428-eb2cc8d1eead",
   "metadata": {
    "id": "00d5e07d-86d7-4d23-8428-eb2cc8d1eead"
   },
   "source": [
    "## Выводы\n",
    "\n",
    "В ходе практической работы по классическим методам математической статистике были изучены и применены различные методы статистического анализа, а также овладены навыки использования программных пакетов для реализации этих методов. При помощи языка программирования Python с библиотеками NumPy и SciPy была проведена обработка выборочных данных, расчет статистических характеристик, построение доверительных интервалов и проверка гипотез. Были получены оценки параметров и асимптотические интервалы для различных семейств распределений. Эти прикладные программные пакеты существенно упростили и ускорили процесс анализа данных, а также позволили проводить развитие моделей и тестирование гипотез. Таким образом, результатом выполненной работы стало формирование навыков по применению методов математической статистики с использованием программных пакетов."
   ]
  }
 ],
 "metadata": {
  "colab": {
   "provenance": []
  },
  "kernelspec": {
   "display_name": "Python 3 (ipykernel)",
   "language": "python",
   "name": "python3"
  },
  "language_info": {
   "codemirror_mode": {
    "name": "ipython",
    "version": 3
   },
   "file_extension": ".py",
   "mimetype": "text/x-python",
   "name": "python",
   "nbconvert_exporter": "python",
   "pygments_lexer": "ipython3",
   "version": "3.11.3"
  }
 },
 "nbformat": 4,
 "nbformat_minor": 5
}
