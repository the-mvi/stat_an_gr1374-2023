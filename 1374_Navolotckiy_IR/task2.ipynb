{
  "nbformat": 4,
  "nbformat_minor": 0,
  "metadata": {
    "colab": {
      "provenance": []
    },
    "kernelspec": {
      "name": "python3",
      "display_name": "Python 3"
    },
    "language_info": {
      "name": "python"
    }
  },
  "cells": [
    {
      "cell_type": "markdown",
      "source": [
        "# Практическая работа №2: \"Классические методы математической статистики\",\n",
        "Выполнил студент гр. 1374 Наволоцкий Илья. Вариант №16\n",
        "\n"
      ],
      "metadata": {
        "id": "jp0RbrhF_COk"
      }
    },
    {
      "cell_type": "markdown",
      "source": [
        "# Цель работы\n",
        "Научится применять методы математической статистики для решения задач статистического анализа; сформировать навыки реализации методов с помощью прикладных программных пакетов.\n",
        "\n"
      ],
      "metadata": {
        "id": "y74ZLqR44Nyi"
      }
    },
    {
      "cell_type": "markdown",
      "source": [
        "## Основные теоретические положения\n",
        "\n",
        "Вариационный ряд – ранжированный в порядке возрастания ряд\n",
        "\n",
        "Эмпирическая функция распределения - это функция, которая определяет для каждого значения x частоту событий X<x и предназначена для оценке теоретической функции распределения генеральной совокупности.\n",
        "\n",
        "Гистограмма частот – это фигура, состоящая из прямоугольников, ширина которых равна длинам частичных интервалов, а высота – соответствующим плотностям частот.\n",
        "\n",
        "- Выборочные числовые характеристики:\n",
        "\n",
        "\n",
        "Мат.ожидание $\\overline{X}=\\frac{1}{n}\\sum_{i=1}^{n}X_{i}$\n",
        "\n",
        "Дисперсия $S^{2}=\\frac{1}{n}\\sum_{i=1}^{n}\\left( X_{i}-\\overline{X} \\right)^{2}=\\overline{X^{2}}-\\overline{X}^{2}$\n",
        "\n",
        "- Оценка максимального правдоподобия (ОМП):\n",
        "\n",
        "$Пусть\\ X_1,\\ X_2,\\ ...,\\ X_n\\ -\\ набор\\ независимых\\ наблюдений\\ с\\ плотностями\\ f_{\\theta,1},\\ f_{\\theta,2},\\ ...,\\ f_{\\theta,n}\\ соответственно.\n",
        "Функцией\\ правдоподобия,\\ построенной\\ по\\ исходным\\ наблюдениям,\\ будем\\ называть$\n",
        "\n",
        "$L\\left(\\vec{x},\\lambda\\right) = \\prod_{i=1}^{n} f_{\\theta,i}\\left(X_i\\right), \\ \\theta \\in \\mathbb{\\Theta}$\n",
        "\n",
        "$Идея\\ состоит\\ в\\ том,\\ чтобы\\ по\\ результам\\ наблюдений\\ остыскать\\ значение\\ максимизирующее\\ правдоподобие $\n",
        "\n",
        "$В\\ силу\\ монотонности\\ логарифма,\\ задача\\ максимизации\\ правдоподобия\\ сводится\\ к\\ задаче\\ максимизации\\ его\\ логарифма $\n",
        "\n",
        "$\\ln\\left(L\\left(\\vec{x},\\theta\\right)\\right) = \\sum_{i=1}^{n} \\ln\\left(f_{\\theta,i}\\left(X_i\\right)\\right) $\n",
        "\n",
        "$Если\\ \\theta = \\left(\\theta_1, ..., \\theta_n\\right) - n-мерный\\ параметр\\ дифференцируемый\\ по\\ \\theta, то\\ Для\\ нахождения\\ максимума\\ надо\\ найти\\ решения$\n",
        "\n",
        "$системы\\ уравнений $\n",
        "\n",
        "$U\\left(\\vec{X}; \\theta\\right) = \\frac{\\partial }{\\partial \\theta_i} \\ln L\\left(\\vec{X}; \\theta\\right) = 0 $\n",
        "\n",
        "$Ясно, что\\ если\\ \\hat\\theta - оценка\\ максимального\\ правдободобия\\ параметра\\ \\theta, g\\ -\\ параметрическая\\ функция,$\n",
        "\n",
        "$то\\ g\\left(\\hat\\theta\\right) является\\ оценкой\\ максимального\\ правдоподобия\\ для\\ g\\left(\\theta\\right)$\n",
        "\n",
        "- Оценка метода моментов (ОММ)\n",
        "\n",
        "Пусть $X_{1},...,X_{n}$-выбока из распределения $P_{\\theta}, \\theta=(\\theta_{1},...,\\theta_{d})$\n",
        "\n",
        "$\\exists \\mu_{k}(\\theta)=\\mathbb{E}X^{k}_{1}, k=\\overline{1,d}$\n",
        "\n",
        "Если $\\exists$ ! решение $\\widetilde{\\theta}(X)$ системы уравнений: $\\widehat{\\mu^{k}}(\\widetilde{\\theta})=\\mu_{k}(\\theta), k=\\overline{1,d}$, где $\\widetilde{\\theta}(X)=\\frac{1}{n}\\sum_{i=1}^{n}X^{k}_{i}$-выборочный момент k-го порядка, то $\\widetilde{\\theta}(X)$ называется оценкой по методу моментов\n",
        "\n",
        "- НРМД-оценки (несмещенная оценка)\n",
        "\n",
        "Оценка $\\widehat{\\theta}(X)$ параметра $\\theta$ называется несмещенной, если при любом значении параметра $\\theta\\in \\Theta: \\mathbb{E}\\widehat{\\theta}(X)=\\theta$\n",
        "\n",
        "Алгоритм несмещенного оценивания:\n",
        "\n",
        "1) Найти оценку $\\widehat{\\theta}(T)$, являющуюся функцией от минимальной достаточной статистики T(e.g.ОМП)\n",
        "\n",
        "2) Доказать полноту МДС\n",
        "\n",
        "3) Скорректировать смещение:$\\widetilde{\\theta}(T)=f(\\widehat{\\theta}(T),T): \\mathbb{E}_{\\theta}\\widetilde{\\theta}(T)=\\theta,\\forall \\theta\\in \\Theta$\n",
        "\n",
        "-  Асимптотический доверительный интервал (АДИ)\n",
        "\n",
        "1) На базе Асимптотической нормальности оценки $\\widehat{\\theta}$\n",
        "\n",
        "1.1) Асимптотическая нормальность $\\sqrt{n}\\left( \\widehat{\\theta}(\\overrightarrow{X})-\\theta)\\right)\\sim \\mathcal{N}\\left(0,\\sigma^{2}(\\theta)\\right)$\n",
        "\n",
        "1.2) Тогда $\\sqrt{n}\\frac{\\widehat{\\theta}(\\overrightarrow{X})-\\theta}{\\sigma\\left(\\widehat{\\theta}(\\overrightarrow{X})\\right)}$    \n",
        "\n",
        "1.3) Выбираем $X_{\\alpha}: \\Phi(X_{\\alpha})=1-\\frac{\\alpha}{2}$\n",
        "\n",
        "1.4) АДИ: $\\left[ \\widehat{\\theta}(\\overrightarrow{X})-\\frac{X_{\\alpha}\\cdot \\sigma\\left( \\widehat{\\theta}(\\overrightarrow{X}) \\right)}{\\sqrt{n}}; \\widehat{\\theta}(\\overrightarrow{X})+\\frac{X_{\\alpha}\\cdot \\sigma\\left( \\widehat{\\theta}(\\overrightarrow{X}) \\right)}{\\sqrt{n}}\\right]$\n",
        "\n",
        "2) на базе ОМП\n",
        "\n",
        "2.1) Пусть $\\widehat{\\theta}(\\overrightarrow{X})$-ОМП\n",
        "\n",
        "2.2) При выполнении опр.условий регулярности: $\\sqrt{n}\\left( \\widehat{\\theta}(\\overrightarrow{X})-\\theta)\\right)\\sim \\mathcal{N}\\left(0,\\frac{1}{I(\\theta)}\\right), I(\\theta)=-\\mathbb{E}\\left( \\frac{\\partial^{2} LL}{\\partial \\theta^{2}} \\right)$-информация Фишера\n",
        "\n",
        "2.3) Тогда $\\sqrt{n\\cdot I\\left( \\widehat{\\theta}(\\overrightarrow{X}) \\right)}\\cdot \\left( \\widehat{\\theta}(\\overrightarrow{X})-\\theta \\right)\\sim \\mathcal{N}(0,1)$\n",
        "\n",
        "2.4) Выбираем $X_{\\alpha}: \\Phi(X_{\\alpha})=1-\\frac{\\alpha}{2}$\n",
        "\n",
        "2.5) АДИ: $\\left[ \\widehat{\\theta}(\\overrightarrow{X})-\\frac{X_{\\alpha}}{\\sqrt{n\\cdot I\\left( \\widehat{\\theta}(\\overrightarrow{X}) \\right)}};\\widehat{\\theta}(\\overrightarrow{X})+\\frac{X_{\\alpha}}{\\sqrt{n\\cdot I\\left( \\widehat{\\theta}(\\overrightarrow{X}) \\right)}} \\right]$\n",
        "\n",
        "-  Критерий $\\chi^2$ для проверки гипотез\n",
        "\n",
        "Основан на справнении теоритической плотности распределения и гистограммы, либо теоритической вероятностной меры и полигона частот.\n",
        "\n",
        "Разобъем множество значений сл. вел. X на $N$ интервалов $I_{1}, ..., I_{N}:$ $I_{i} = (a_{i-1}, a_i], i = \\overline {1,N}$. данные интервалы не пересекаются и покрывают всё множество возможных значений случайных величин X.\n",
        "\n",
        "Обозначим через $p_{i}$ теоритическую вероятность попадания сл. вел. X в интервал $I_{i}$, при условии, что справедлива $H_{0}$.\n",
        "\n",
        "$p_{i} = P(X \\in I_{i}|H_{0})$\n",
        "\n",
        "Через $n_{i}$ обозначим число наблюдений нашей выборки, попавших в соответветствующий интервал $I_{i}$.\n",
        "\n",
        "$n_{i} = num(x_{j} \\in I_{i})$\n",
        "\n",
        "Статистика критерия основана на сравнении относительной частоты и теоритической.\n",
        "\n",
        "$\\chi^{2}_{набл} = \\sum \\limits_{i=1}^{N} \\frac{n}{p_{i}} \\bigg ( \\frac{n_{i}}{n} - p_{i} \\bigg )^{2} = \\sum \\limits_{i=1}^{N} \\frac{(n_{i} - p_{i} n)^{2}}{n p_{i}} \\sim \\chi^{2}_{N-1}$\n",
        "\n",
        "Если $\\mathcal{X}^{2}_{N-1,1-\\alpha_{1}} \\lt \\chi^2_{набл}$, то гипотезу отвергаем\n",
        "\n",
        "Если $\\mathcal{X}^{2}_{N-1,1-\\alpha_{1}} \\gt \\chi^2_{набл}$, то гипотезу принимаем\n",
        "\n",
        "-  Теорема Колмогорова\n",
        "\n",
        "Статистика Колмогорова:\n",
        "\n",
        "$D_{n}(\\overrightarrow{X}) = \\overset{}{\\underset{-\\infty \\lt X\\lt \\infty}{sup}} |F_{n}(X) - F(X)|$\n",
        "\n",
        "Если гипотеза $H_{0}$ верна, и $F_{0}(X)$ - непрерывная ф-я на $\\mathbb R$, тогда имеет место сходимость\n",
        "\n",
        "$\\lim\\limits_{n\\to \\infty}P(\\sqrt{n} D_{n} \\leq t) = K(t)$, где\n",
        "\n",
        "$K(t) - ф-я распределения Колмогорова.\n",
        "\n",
        "Если $D_{n} \\lt t$, то гипотезу принимаем\n",
        "\n",
        "Если $D_{n} \\gt t$, то гипотезу отвергаем\n",
        "\n",
        "-  Наиболее мощный критерий простой гипотезы\n",
        "\n",
        "Для основной гипотезы $H_{0}: \\theta=\\theta_{0}$ и альтернативной гипотезы $H_{1}: \\theta=\\theta_{1}$, где $\\theta_{0}$ и $\\theta_{1}$ - фиксированные параметры, мы можем построить статистику правдоподобия:\n",
        "\n",
        "$LR(\\overrightarrow{X},\\theta_{1},\\theta_{0})=\\frac{L(\\overrightarrow{X},\\theta_{1})}{L(\\overrightarrow{X},\\theta_{0})}=\\frac{P_{\\theta_{1}}(X)}{P_{\\theta_{0}}(X)}$ - статистика отношений правдоподобия\n",
        "\n",
        "где $L(\\overrightarrow{X},\\theta_{1})$ - функция правдоподобия для альтернативной гипотезы, а $L(\\overrightarrow{X}\\theta_{0})$ - функция правдоподобия для основной гипотезы.\n",
        "\n",
        "Наиболее мощным критерием будет критическая область, в которой наблюдаемое значение статистики правдоподобия $LR(\\overrightarrow{X},\\theta_{1},\\theta_{0})$ будет отклоняться от значения 1 в сторону более высоких значений.\n",
        "\n",
        "Чтобы построить критическую область, мы должны задать уровень значимости $\\alpha$ - вероятность ошибки первого рода. Затем мы находим критическое значение $c$ такое, что $P\\left(LR(\\overrightarrow{X},\\theta_{1},\\theta_{0}) > c | H_{0} \\right) = \\alpha$, где $P\\left(LR(\\overrightarrow{X},\\theta_{1},\\theta_{0}) > c | H_{0}\\right)$ - вероятность получить наблюдаемое значение статистики правдоподобия, большее или равное $c$, при условии, что основная гипотеза верна.\n",
        "\n",
        "$LR(\\overrightarrow{X},\\theta_{1},\\theta_{0})\\gt c$, то принимаем основную гипотезу\n",
        "\n",
        "$LR(\\overrightarrow{X},\\theta_{1},\\theta_{0})\\lt c$, то отвергаем основную гипотезу\n"
      ],
      "metadata": {
        "id": "_o41nkkW4PaU"
      }
    },
    {
      "cell_type": "markdown",
      "source": [
        "# Постановка задачи\n",
        "Для полученных в результате эксперимента наборов данных выполнить статистическую обработку. Полученные результаты содержательно проинтерпретировать.\n",
        "\n"
      ],
      "metadata": {
        "id": "bdNvjw_L4SYT"
      }
    },
    {
      "cell_type": "markdown",
      "source": [
        "# Выполнение работы\n",
        "#1. В результате эксперимента получены данные, приведенные в таблице 1\n"
      ],
      "metadata": {
        "id": "kXc1fHHC4Tj_"
      }
    },
    {
      "cell_type": "markdown",
      "source": [
        "## a) Построить вариационный ряд, эмпирическую функцию распределения и гистограмму частот."
      ],
      "metadata": {
        "id": "UbgY1XPN4WxZ"
      }
    },
    {
      "cell_type": "code",
      "execution_count": null,
      "metadata": {
        "id": "PCxWa8F01Xj2",
        "outputId": "e7bfc1f3-7aa7-407a-d872-5e26f7232f99",
        "colab": {
          "base_uri": "https://localhost:8080/",
          "height": 489
        }
      },
      "outputs": [
        {
          "output_type": "stream",
          "name": "stdout",
          "text": [
            "вариационный ряд = [1, 0, 0, 1, 0, 0, 0, 0, 0, 1, 1, 1, 3, 0, 0, 0, 1, 1, 0, 0, 2, 1, 1, 0, 1, 0, 0, 1, 0, 1, 0, 0, 0, 0, 0, 0, 0, 1, 2, 0, 0, 1, 0, 2, 1, 1, 0, 0, 0, 0]\n"
          ]
        },
        {
          "output_type": "display_data",
          "data": {
            "text/plain": [
              "<Figure size 640x480 with 1 Axes>"
            ],
            "image/png": "[encoded data removed]"
          },
          "metadata": {}
        }
      ],
      "source": [
        "import matplotlib.pyplot as plt\n",
        "import numpy as np\n",
        "\n",
        "selection = [1, 0, 0, 1, 0, 0, 0, 0, 0, 1, 1, 1, 3, 0, 0, 0, 1, 1, 0, 0, 2, 1, 1, 0, 1, 0, 0, 1, 0, 1, 0, 0, 0, 0, 0, 0, 0, 1, 2, 0, 0, 1, 0, 2, 1, 1, 0, 0, 0, 0]\n",
        "selectionSorted = np.sort(selection)\n",
        "\n",
        "print('вариационный ряд =', selection)\n",
        "\n",
        "bins = [0, 1, 2, 3, 4]\n",
        "\n",
        "plt.hist(selection, color='lightgreen', bins=bins, edgecolor='black')\n",
        "\n",
        "plt.xlabel('Значение')\n",
        "plt.ylabel('Частота')\n",
        "plt.title('Гистограмма частот')\n",
        "\n",
        "plt.show()"
      ]
    },
    {
      "cell_type": "code",
      "source": [
        "unique, counts = np.unique(selectionSorted, return_counts=True)\n",
        "\n",
        "relative_frequencies = counts / len(selection)\n",
        "\n",
        "cumulative_sum = np.cumsum(relative_frequencies)\n",
        "\n",
        "plt.step(unique, cumulative_sum, where='post', linestyle='dashed')\n",
        "plt.xlabel('Значение')\n",
        "plt.ylabel('Эмпирическая функция распределения')\n",
        "plt.title('Эмпирическая функция распределения')\n",
        "\n",
        "for i in range(len(unique) - 1):\n",
        "    plt.arrow(unique[i + 1], cumulative_sum[i], unique[i] - unique[i + 1], 0, head_width=0.02, head_length=0.03, ec='blue', linewidth=2)\n",
        "\n",
        "plt.arrow(unique[-1], cumulative_sum[-1], -0.01, 0, head_width=0.02, head_length=0.03, ec='blue', linewidth=2)\n",
        "\n",
        "plt.show()"
      ],
      "metadata": {
        "colab": {
          "base_uri": "https://localhost:8080/",
          "height": 472
        },
        "id": "a-aJ0vtO7d2t",
        "outputId": "06a6f22d-dced-4205-aec7-e74f6334b99f"
      },
      "execution_count": null,
      "outputs": [
        {
          "output_type": "display_data",
          "data": {
            "text/plain": [
              "<Figure size 640x480 with 1 Axes>"
            ],
            "image/png": "[encoded data removed]"
          },
          "metadata": {}
        }
      ]
    },
    {
      "cell_type": "markdown",
      "source": [
        "## b) Вычислить выборочные аналоги следующих числовых характеристик:"
      ],
      "metadata": {
        "id": "3EgEYQUXTM1W"
      }
    },
    {
      "cell_type": "markdown",
      "source": [
        "## 1. Математического ожидания\n",
        "## 2. Дисперсии\n",
        "## 3. СКО\n",
        "## 4. Медианы\n",
        "## 5. Асимметрии\n",
        "## 6. Эксцесса\n",
        "## 7. Вероятности $\\mathbb{P}\\left(X\\in[a, b]\\right)$"
      ],
      "metadata": {
        "id": "A_sErEp4TZJB"
      }
    },
    {
      "cell_type": "code",
      "source": [
        "from scipy.stats import skew, kurtosis\n",
        "\n",
        "mean_value = np.mean(selection)\n",
        "\n",
        "variance_value = np.var(selection, ddof=1)\n",
        "\n",
        "std_deviation = np.std(selection, ddof=1)\n",
        "\n",
        "median_value = np.median(selection)\n",
        "\n",
        "skewness = skew(selection)\n",
        "\n",
        "kurtosis_value = kurtosis(selection)\n",
        "\n",
        "\n",
        "a = 0\n",
        "b = 1.21\n",
        "\n",
        "P = len([x for x in selection if(a <= x <= b)]) / len(selection)\n",
        "\n",
        "print(\"1. Математическое ожидание:\", mean_value)\n",
        "print(\"2. Дисперсия:\", variance_value)\n",
        "print(\"3. Стандартное отклонение (СКО):\", std_deviation)\n",
        "print(\"4. Медиана:\", median_value)\n",
        "print(\"5. Асимметрия:\", skewness)\n",
        "print(\"6. Эксцесс:\", kurtosis_value)\n",
        "print(\"7. Вероятность попадания элемента выборки в промежуток [a, b]:\", P)"
      ],
      "metadata": {
        "colab": {
          "base_uri": "https://localhost:8080/"
        },
        "id": "ok_RXNNv0KiZ",
        "outputId": "205add89-3182-4ad1-a85d-c1fa6d30acc2"
      },
      "execution_count": null,
      "outputs": [
        {
          "output_type": "stream",
          "name": "stdout",
          "text": [
            "1. Математическое ожидание: 0.5\n",
            "2. Дисперсия: 0.5\n",
            "3. Стандартное отклонение (СКО): 0.7071067811865476\n",
            "4. Медиана: 0.0\n",
            "5. Асимметрия: 1.3994169096209914\n",
            "6. Эксцесс: 1.7584339858392344\n",
            "7. Вероятность попадания элемента выборки в промежуток [a, b]: 0.92\n"
          ]
        }
      ]
    },
    {
      "cell_type": "markdown",
      "source": [
        "## c) В предположении, что исходные наблюдения являются выборкой из распределения Пуассона, построить оценку максимального правдоподобия параметра $\\lambda$, а также оценку $\\lambda$ по методу моментов. Найти смещение оценок."
      ],
      "metadata": {
        "id": "9eFMOcHG3M_L"
      }
    },
    {
      "cell_type": "markdown",
      "source": [
        "$\\begin{split}\n",
        "  ОМП: \\\\\n",
        "  & \\mathbb{P}_{\\lambda}\\left(X = k\\right) = \\frac{\\lambda^x}{x!}\\cdot\\exp(-{\\lambda}) \\\\\n",
        "  & L\\left(\\vec{x},\\lambda\\right) = \\prod_{i=1}^{n} \\frac{\\lambda^x}{x!}\\cdot\\exp(-{\\lambda}) = \\exp(-n\\cdot\\lambda) \\cdot \\lambda^{\\sum_{i=1}^{n} x_i} \\cdot \\prod_{i=1}^{n} \\frac{1}{x_i!} \\\\\n",
        "  & LL\\left(\\vec{x},\\lambda\\right) = -n\\cdot\\lambda\\cdot\\ln\\left(\\exp\\right) + \\sum_{i=1}^{n}x_i\\cdot\\ln\\left(\\lambda\\right)+\\ln\\left(\\prod_{i=1}^{n} \\frac{1}{x_i!}\\right) \\\\\n",
        "  & \\frac{\\partial LL\\left(\\vec{x},\\lambda\\right)}{\\partial \\lambda} = -n + \\sum_{i=1}^{n} x_i \\cdot \\frac{1}{\\lambda} + 0 = 0 \\\\\n",
        "  & n = \\sum_{i=1}^{n} x_i \\cdot \\frac{1}{\\lambda} \\\\\n",
        "  & \\lambda  = \\frac{1}{n} \\cdot \\sum_{i=1}^{n} x_i \\\\\n",
        "  & \\lambda  = \\bar{x} - ОМП\n",
        "\\end{split}$"
      ],
      "metadata": {
        "id": "IX-p_2CVTJYe"
      }
    },
    {
      "cell_type": "markdown",
      "source": [
        "$\\begin{split}\n",
        "  ОММ: \\\\\n",
        "  & Для\\ \\mathbb{P}_{\\lambda}\\left(X = k\\right) = \\frac{\\lambda^x}{x!}\\cdot\\exp(-{\\lambda}) \\ известно,\\ что\\ первый\\ момент\\ \\mathbb{E}X_1 = \\lambda; M_1 = \\bar{X} \\\\\n",
        "  & т.к. имеем\\ одномерный\\ параметр,\\ то\\ получаем\\ систему\\ из\\ одного\\ уравнения: \\\\\n",
        "  & \\tilde{\\theta} = \\tilde{\\lambda} = \\bar{x} = 0.52\\ (из\\ пункта\\ b) \\\\\n",
        "  & найдем\\ смещение\\ оценки: \\\\\n",
        "  & g\\left(T\\left(\\vec{x}\\right)\\right) = \\frac{\\lambda^{\\sum_{i=1}^{n} x_i}}{\\sum_{i=1}^{n} x_i!} \\cdot \\exp(-\\lambda) \\\\\n",
        "  & h\\left(\\vec{x}\\right) = 1 \\\\\n",
        "  & Достаточная\\ минимальная\\ статистика: T = \\sum_{i=1}^{n} x_i = 25 \\\\\n",
        "  & \\mathbb{E}_\\lambda\\hat{\\lambda} = \\mathbb{E}_\\lambda\\vec{x} = \\mathbb{E}_\\lambda\\frac{1}{n} \\cdot \\sum_{i=1}^{n} x_i = \\frac{1}{n}\\mathbb{E}_\\lambda \\sum_{i=1}^{n} x_i = \\frac{1}{n}\\mathbb{E}_\\lambda \\sum_{i=1}^{n} X_1 = \\frac{1}{n} \\cdot n \\cdot \\mathbb{E}_\\lambda X_1 = 0.52 - НРМД\n",
        "\\end{split}$"
      ],
      "metadata": {
        "id": "eqhCSRImrttI"
      }
    },
    {
      "cell_type": "markdown",
      "source": [
        "## d) Построить асимптотический доверительный интервал уровня значимости $\\alpha_1$ для параметра $\\lambda$ на базе оценки максимального правдоподобия"
      ],
      "metadata": {
        "id": "_tKp96m6ZCv0"
      }
    },
    {
      "cell_type": "markdown",
      "source": [
        "\n",
        "1. Построим на базе ОМП.\n",
        "\n",
        "$\\sqrt{n}\\left( \\widehat{\\theta}(\\overrightarrow{X})-\\theta \\right)\\sim N\\left( 0, \\frac{1}{I(\\theta)} \\right)$\n",
        "\n",
        "ОМП: $\\widehat{\\theta}=\\widehat{\\lambda}=\\overline{X}$\n",
        "\n",
        "Найдем информацию Фишера: $I(\\theta)=-\\mathbb{E}\\left( \\frac{\\partial^{2} LL}{\\partial \\lambda^{2}} \\right)=-\\mathbb{E}\\left( -\\frac{\\sum_{i=1}^{n}X_{i}}{\\lambda^{2}} \\right)=\\frac{n}{\\lambda^{2}}$\n",
        "\n",
        "Тогда $\\sqrt{n\\cdot I\\left(  \\widehat{\\theta}(\\overrightarrow{X})\\right)}\\left( \\widehat{\\theta}(\\overrightarrow{X})-\\theta \\right)\\sim N(0,1)$\n",
        "\n",
        "Выбираем $X_{\\alpha}$: $\\mathrm{Ф}(X_{\\alpha})=1-\\frac{\\alpha_{1}}{2}=1-\\frac{0,05}{2}=0,99 \\implies X_{0,99}=2,33$\n",
        "\n",
        "$\\left[ \\overline{X}-\\frac{X_{0.99}}{\\sqrt{50\\cdot \\frac{50}{\\overline{X}}}}; \\overline{X}+\\frac{X_{0.99}}{\\sqrt{50\\cdot \\frac{50}{\\overline{X}}}}\\right] \\implies 0.51-\\frac{2,33\\sqrt{0.51}}{50}\\le \\lambda\\le 0.51+\\frac{2,33\\sqrt{0.51}}{50}$\n",
        "\n",
        "$0.48\\le \\lambda\\le 0.54$ - АДИ параметра $\\lambda$.\n",
        "\n",
        "2. Построим на безе асимтотической нормальной оценки $\\widehat{\\theta}$\n",
        "\n",
        "$\\sqrt{n}\\left( \\widehat{\\theta}(\\overrightarrow{X})-\\theta \\right)\\sim N(0,\\sigma^{2}(\\theta))$\n",
        "\n",
        "$\\sqrt{n}\\frac{ \\widehat{\\theta}(\\overrightarrow{X})-\\theta}{\\sigma(\\widehat{\\theta})}\\sim N(0,1)$\n",
        "\n",
        "$X_{\\alpha}: \\mathrm{Ф(X_{\\alpha})}=0.99 \\implies X_{0.99}=2.33$\n",
        "\n",
        "$-X_{0.99}\\le \\sqrt{n}\\cdot \\frac{\\widehat{\\lambda}-\\lambda}{\\sqrt{\\widehat{\\lambda}}}\\le X_{0.99}$\n",
        "\n",
        "$0.51-\\frac{2.33\\cdot \\sqrt{0.51}}{\\sqrt{50}}\\le \\lambda\\le 0.51+\\frac{2.33\\cdot \\sqrt{0.51}}{\\sqrt{50}}\\implies 0.28\\le \\lambda\\le 0.75$ - АДИ параметра $\\lambda$"
      ],
      "metadata": {
        "id": "DUlfb0wrWSzA"
      }
    },
    {
      "cell_type": "markdown",
      "source": [
        "##e) Используя гистограмму частот, построить критерий значимости $\\mathcal{X^{2}}$ проверки простой гипотезы согласия с распределением Пуассона с параметром $\\lambda_{0}$. Проверить гипотезу на уровень значимости $\\alpha_{1}$. Вычислить наибольшее значение уровня значимости, на котором ещё нет оснований отвергнуть данную гипотезу."
      ],
      "metadata": {
        "id": "bQ8qO7cw-67i"
      }
    },
    {
      "cell_type": "markdown",
      "source": [
        "Условия на формирование интервалов: \\\\\n",
        "$n_i > 5\\ или\\ n_i \\cdot P_i > 5$\n",
        "\\begin{split}\n",
        "& P_i=P_{\\mu_0}=\\left(X_{\\in} I_i\\right)=\\sum_{k \\in I_i}^I \\frac{\\lambda^k}{k !} \\exp \\left(-\\lambda_0\\right) \\\\\n",
        "& I_1=[0] ; n_1=29 \\\\\n",
        "& P_1=\\frac{1^0}{0 !} \\exp (-1)=0,37 \\Rightarrow n_1 P_1=29 \\cdot 0,37=10,73 \\\\\n",
        "& I_2=[1,3] ; n_2=20 \\\\\n",
        "& P_2=\\frac{1}{1 !} \\exp (-1)+\\frac{1^3}{3} \\exp (-1)=0,43 \\Rightarrow \\\\\n",
        "& n_2 P_2=20 \\cdot 0,43=8,6 \\\\\n",
        "& \\text { Критерий } \\mathcal{X^{2}} : \\mathcal{X^{2}} \\text { набл }=\\sum_{i=1}^2 \\frac{\\left(n_i-n p_i\\right)^2}{n P_i} = 6.06\n",
        "\\end{split}"
      ],
      "metadata": {
        "id": "paWzsh2r_K6i"
      }
    },
    {
      "cell_type": "code",
      "source": [
        "import numpy as np\n",
        "\n",
        "n = 50\n",
        "n_i = [29, 20]\n",
        "P_i = [0.37, 0.43]\n",
        "Summ = []\n",
        "for i in range(2):\n",
        "  Summ.append( ((n_i[i] - n*P_i[i])**2) / (n*P_i[i]) )\n",
        "\n",
        "print('X^2 набл = ', np.sum(Summ))"
      ],
      "metadata": {
        "colab": {
          "base_uri": "https://localhost:8080/"
        },
        "id": "7rCp7i5iBzI6",
        "outputId": "d9c503c7-569a-4ed7-bfaa-5d43da64379d"
      },
      "execution_count": null,
      "outputs": [
        {
          "output_type": "stream",
          "name": "stdout",
          "text": [
            "X^2 набл =  6.0641106222501575\n"
          ]
        }
      ]
    },
    {
      "cell_type": "markdown",
      "source": [
        "\\begin{split}\n",
        "& \\text { Из таблицы: }  : \\mathcal{X^{2}_{k-1,\\alpha_1}} = \\mathcal{X^{2}_{1,0.05}} \\approx 6.31 \\\\\n",
        "& \\mathcal{X^{2}_{набл}} < \\mathcal{X^{2}_{1,0.05}} \\Rightarrow \\text { по критерию Пирсона принимаем гипотезу }\n",
        "\\end{split}"
      ],
      "metadata": {
        "id": "RRE1mqXuIChq"
      }
    },
    {
      "cell_type": "markdown",
      "source": [
        "## f)Построить критерий значимости  $\\mathcal{X^{2}}$ проверки сложной гипотезы согласия с распределением Пуассона. Проверить гипотезу по уровню значимости $\\alpha_{1}$.Вычислить наибольшее значение уровня значимости, на котором ещё нет оснований отвергнуть данную гипотезу."
      ],
      "metadata": {
        "id": "B_1NwwBmKHmG"
      }
    },
    {
      "cell_type": "markdown",
      "source": [
        "Условия на формирование интервалов: \\\\\n",
        "$n_i > 5\\ или\\ n_i \\cdot P_i > 5$\n",
        "$$\n",
        "\\begin{split}\n",
        "& P_1=P_{n_0}=\\left(X \\in I_i\\right)=\\sum_{k \\in I_i} \\frac{\\bar{x}^k}{k !} \\exp (-\\bar{X}), \\quad \\bar{X}=0,51 \\\\\n",
        "& I_1=[0] ; n_1=30 \\\\\n",
        "& P_1=\\frac{1}{0 !} \\exp (-0,51)=0,6 \\Rightarrow n_1 \\cdot P_1=30 \\\\\n",
        "& I_2=[1,3] ; n_2=20 \\\\\n",
        "& P_2=\\frac{1^1}{1 !} \\exp (-0,52)+\\frac{1^3}{3 !} \\exp (-0,52)=0,7 \\Rightarrow n_2 \\cdot P_2=35\n",
        "\\end{split}\n",
        "$$\n",
        "\n",
        "Kpитерий $\\mathcal{X}^2: \\mathcal{X}_{\\text { набл }}^2=\\sum_{i=1}^2 \\frac{\\left(n_i-n p_i\\right)^2}{n p_i} = 6.43$"
      ],
      "metadata": {
        "id": "f5iX_VaX2B5y"
      }
    },
    {
      "cell_type": "code",
      "source": [
        "import numpy as np\n",
        "\n",
        "n = 50\n",
        "n_i = [30, 20]\n",
        "P_i = [0.6, 0.7]\n",
        "Summ = []\n",
        "for i in range(len(n_i)):\n",
        "  Summ.append( ((n_i[i] - n*P_i[i])**2) / (n*P_i[i]) )\n",
        "\n",
        "print('X^2 набл = ', np.sum(Summ))"
      ],
      "metadata": {
        "colab": {
          "base_uri": "https://localhost:8080/"
        },
        "id": "yYPpias13UvQ",
        "outputId": "cb110f3c-551f-4acd-fe00-29eec56af6b1"
      },
      "execution_count": null,
      "outputs": [
        {
          "output_type": "stream",
          "name": "stdout",
          "text": [
            "X^2 набл =  6.428571428571429\n"
          ]
        }
      ]
    },
    {
      "cell_type": "markdown",
      "source": [
        "\\begin{split}\n",
        "& \\text { Из таблицы: }  : \\mathcal{X^{2}_{k-1,\\alpha_1}} = \\mathcal{X^{2}_{1,0.05}} \\approx 6.31 \\\\\n",
        "& \\mathcal{X^{2}_{набл}} > \\mathcal{X^{2}_{1,0.05}} \\Rightarrow \\text { по критерию Пирсона отвергам гипотезу } \\\\\n",
        "& \\text { Наибольшее значение уровня значимости, при котором нет еще оснований отвергнуть данную гипотезу } \\approx 0.025\n",
        "\\end{split}"
      ],
      "metadata": {
        "id": "odMv6uYc3qNj"
      }
    },
    {
      "cell_type": "markdown",
      "source": [
        "## g)Построить наиболее мощный критерий проверки простой гипотезы пауссоновости с параметром $\\lambda=\\lambda_{0}$ при альтернативе пуассоновсти с параметром $\\lambda=\\lambda_{1}$. Проверить гипотезу на уровне значимости $\\alpha_{1}$. Что получится, если поменять местами основную и альтернативную гипотезы?"
      ],
      "metadata": {
        "id": "-ZxU0Icd4SaN"
      }
    },
    {
      "cell_type": "markdown",
      "source": [
        "Основная гипотеза: $H_{0}=\\lambda_{0} = 1$\n",
        "\n",
        "Альтернативная гипотеза: $H_{A}=\\lambda_{1} = 0.5$\n",
        "\n",
        "$LR(\\overrightarrow{X},\\lambda_{1},\\lambda_{0}) = \\frac{L\\left( \\overrightarrow{X},\\lambda_{1} \\right)}{L\\left( \\overrightarrow{X},\\lambda_{0} \\right)}= \\frac{\\lambda_{1}^{\\sum_{i=1}^{n}X_{i}}\\cdot exp(-n\\cdot \\lambda_{1})}{\\lambda_{0}^{\\sum_{i=1}^{n}X_{i}}\\cdot exp(-n\\cdot \\lambda_{0})}$\n",
        "\n",
        "В силу монотонности статистики $LR(\\overrightarrow{X})$ относительно МДС $T(\\overrightarrow{X})=\\sum_{i=1}^{50}X_{i}$\n",
        "\n",
        "$LR(\\overrightarrow{X},\\lambda_{0},\\lambda_{1})\\gt c\\Leftrightarrow \\overline{X}\\gt c^{*}$\n",
        "\n",
        "$\\sqrt{n}\\frac{\\overline{X}-\\lambda_{0}}{\\sqrt{\\overline{X}}}\\sim N(0,1)$\n",
        "\n",
        "$P\\left(\\sqrt{n}\\frac{\\overline{X}-\\lambda_{0}}{\\sqrt{\\overline{X}}} \\right)\\gt \\sqrt{n}\\frac{\\overline{X}-\\lambda_{0}}{\\sqrt{\\overline{X}}}=1-\\Phi\\left(\\sqrt{n}\\frac{\\overline{X}-\\lambda_{0}}{\\sqrt{\\overline{X}}} \\right)=\\alpha_{1}$\n",
        "\n",
        "$\\Phi\\left(\\sqrt{n}\\frac{\\overline{X}-\\lambda_{0}}{\\sqrt{\\overline{X}}} \\right)=1-\\alpha_{1}=0.9$\n",
        "\n",
        "$\\sqrt{n}\\frac{\\overline{X}-\\lambda_{0}}{\\sqrt{\\overline{X}}}\\gt \\sqrt{n}\\frac{c-\\lambda_{0}}{\\sqrt{\\overline{X}}}=1.19 \\rightarrow c = 1.19 \\cdot \\frac{\\sqrt{\\bar{x}}}{\\sqrt{n}} + \\lambda_0 \\rightarrow c = 1.12 > \\overline{X} = 0.51 \\rightarrow \\text { Гипотезу отвергаем }$\n",
        "\n",
        "\n",
        "$\\text { Меняем местами основную и альтернативную гипотезу: }$\n",
        "\n",
        "\\begin{split}\n",
        "H_{0}=\\lambda_{1} = 0.5 \\\\\n",
        "H_{1}=\\lambda_{0} = 1\n",
        "\\end{split}\n",
        "\n",
        "$ \\text { Из статистического отношения правдоподобия: } $\n",
        "\n",
        "$LR(\\overrightarrow{X},\\lambda_{0},\\lambda_{1}) = \\frac{L\\left( \\overrightarrow{X},\\lambda_{0} \\right)}{L\\left( \\overrightarrow{X},\\lambda_{1} \\right)}= \\frac{\\lambda_{0}^{\\sum_{i=1}^{n}X_{i}}\\cdot exp(-n\\cdot \\lambda_{0})}{\\lambda_{1}^{\\sum_{i=1}^{n}X_{i}}\\cdot exp(-n\\cdot \\lambda_{1})}$\n",
        "\n",
        "В силу монотонности статистики $LR(\\overrightarrow{X})$ относительно МДС $T(\\overrightarrow{X})=\\sum_{i=1}^{50}X_{i}$\n",
        "\n",
        "$LR(\\overrightarrow{X},\\lambda_{0},\\lambda_{1})\\gt c\\Leftrightarrow \\overline{X}\\gt c$\n",
        "\n",
        "$\\sqrt{n}\\frac{\\overline{X}-\\lambda_{1}}{\\sqrt{\\overline{X}}}\\sim N(0,1)$\n",
        "\n",
        "$P\\left(\\sqrt{n}\\frac{\\overline{X}-\\lambda_{1}}{\\sqrt{\\overline{X}}} \\right)\\gt \\sqrt{n}\\frac{\\overline{X}-\\lambda_{1}}{\\sqrt{\\overline{X}}}=1-\\Phi\\left(\\sqrt{n}\\frac{\\overline{X}-\\lambda_{1}}{\\sqrt{\\overline{X}}} \\right)=\\alpha_{1}$\n",
        "\n",
        "$\\Phi\\left(\\sqrt{n}\\frac{\\overline{X}-\\lambda_{1}}{\\sqrt{\\overline{X}}} \\right)=1-\\alpha_{1}=0.9$\n",
        "\n",
        "$\\sqrt{n}\\frac{\\overline{X}-\\lambda_{1}}{\\sqrt{\\overline{X}}}\\gt \\sqrt{n}\\frac{c-\\lambda_{1}}{\\sqrt{\\overline{X}}}=1.19 \\rightarrow c = 1.19 \\cdot \\frac{\\sqrt{\\bar{x}}}{\\sqrt{n}} + \\lambda_1 \\rightarrow c = 0.62 > \\overline{X} = 0.51\\rightarrow \\text { Гипотезу отвергаем }$\n"
      ],
      "metadata": {
        "id": "3H29I3R043E4"
      }
    },
    {
      "cell_type": "markdown",
      "source": [
        "## h) В пунктах (c) - (f) заменить семейство распределение Пуассона на семейство геометрических распредленией $\\mathbb{P}_{\\lambda}(X=k)=\\frac{\\lambda^{k}}{(\\lambda+1)^{k+1}}, k\\in \\mathbb{Z_{+}}$"
      ],
      "metadata": {
        "id": "-r7tFnzuHkPV"
      }
    },
    {
      "cell_type": "markdown",
      "source": [
        "## h.c) В предположении, что исходные наблюдения являются выборкой из геометрического распределения, построить ОМП и ОММ параметра $\\lambda$. Найти смещение оценки."
      ],
      "metadata": {
        "id": "qjbY5EI2Hlqj"
      }
    },
    {
      "cell_type": "markdown",
      "source": [
        "ОМП:\n",
        "Плотность распределения Пуассона: $P_{\\lambda}(X=k)=\\frac{\\lambda^{k}}{(\\lambda+1)^{k+1}}$\n",
        "\n",
        "Функция правдоподобия:\n",
        "\n",
        "$L(\\overrightarrow{X};\\theta)=\\prod_{i=1}^{n}P_{\\lambda}(X_{i})=\\prod_{i=1}^{n}\\frac{\\lambda^{X_{i}}}{(\\lambda+1)^{X_{i}}}=\\frac{\\lambda^{\\sum_{i=1}^{n}X_{i}}}{(\\lambda+1)^{\\sum_{i=1}^{n}X_{i}+n}}$\n",
        "\n",
        "Прологарифмируем функцию правдоподобия:\n",
        "\n",
        "$LL(\\overrightarrow{X};\\theta)= \\sum_{i=1}^{n}X_{i}\\cdot \\ln(\\lambda)-(\\sum_{i=1}^{n}X_{i}+n)\\ln(\\lambda+1)$\n",
        "\n",
        "Частная производная по $\\lambda$ и приравняем ее к нулю $\\rightarrow$:\n",
        "\n",
        "$\\frac{\\partial LL(\\overrightarrow{X};\\theta)}{\\partial \\lambda} = \\frac{\\sum_{i=1}^{n}X_{i}}{\\lambda}-\\frac{\\sum_{i=1}^{50}X_{i}+n}{\\lambda+1}=0\\implies \\frac{\\lambda}{\\sum_{i=1}^{50}X_{i}}=\\frac{\\lambda+1}{\\sum_{i=1}^{50}X_{i}+n}\\implies \\lambda\\cdot \\sum_{i=1}^{n}X_{i}+\\lambda \\cdot n = \\lambda\\cdot \\sum_{i=1}^{n}X_{i}+\\sum_{i=1}^{n}X_{i}\\implies \\lambda=\\overline{X}\\to \\widehat{\\theta}=\\widehat{\\lambda}=\\overline{X}=0.51$.\n",
        "\n",
        "ОММ:\n",
        "\n",
        "$P_{\\lambda}(X=k)=\\frac{\\lambda^{k}}{(\\lambda +1)^{k+1}}$\n",
        "\n",
        "Первый момент $\\mathbb{E}X_{1}=\\frac{1}{\\lambda};M_{1}=\\frac{1}{\\overline{X}}$\n",
        "\n",
        "Т.к. нас 1-но мерный параметр, то решим систему из одного уравнения.\n",
        "\n",
        "$\\widetilde{\\theta}=\\frac{1}{\\widetilde{\\lambda}}=\\frac{1}{\\overline{X}}=1.96$\n",
        "\n",
        "\n",
        "Cмещение оценки:\n",
        "\n",
        "Для нахождения НРМД-оценки воспользуемся ОМП, которое уже найдено.\n",
        "\n",
        "$g\\left(T(\\overrightarrow{X})\\right)=\\frac{\\lambda^{\\sum_{i=1}^{n}X_{i}}}{(\\lambda+1)^{\\sum_{i=1}^{n}X_{i}+n}}$\n",
        "\n",
        "$h(\\overrightarrow{X})=1$\n",
        "\n",
        "Минимальная достаточная статистика: $T=\\sum_{i=1}^{n}X_{i}=25$."
      ],
      "metadata": {
        "id": "k2gBzAEdlD0t"
      }
    },
    {
      "cell_type": "code",
      "source": [
        "import numpy as np\n",
        "\n",
        "selection = [1, 0, 0, 1, 0, 0, 0, 0, 0, 1, 1, 1, 3, 0, 0, 0, 1, 1, 0, 0, 2, 1, 1, 0, 1, 0, 0, 1, 0, 1, 0, 0, 0, 0, 0, 0, 0, 1, 2, 0, 0, 1, 0, 2, 1, 1, 0, 0, 0, 0]\n",
        "selectionSummed = np.sum(selection)\n",
        "print(selectionSummed)"
      ],
      "metadata": {
        "colab": {
          "base_uri": "https://localhost:8080/"
        },
        "id": "MU6Zacp_mYhO",
        "outputId": "b0968ab1-7a37-4d33-aa0c-60241ec9509c"
      },
      "execution_count": null,
      "outputs": [
        {
          "output_type": "stream",
          "name": "stdout",
          "text": [
            "25\n"
          ]
        }
      ]
    },
    {
      "cell_type": "markdown",
      "source": [
        "$\\mathbb{E}_{\\lambda}\\widehat{\\lambda}=\\mathbb{E}_{\\lambda}\\overline{X}=\\mathbb{E}_{\\lambda}\\frac{1}{n}\\cdot \\sum_{i=1}^{n}x_{i}=\\frac{1}{n}\\cdot \\mathbb{E_{\\lambda}}\\sum_{i=1}^{n}x_{i}=\\frac{1}{n}\\cdot \\sum_{i=1}^{n}\\mathbb{E_{\\lambda}}X_{1}=\\frac{1}{n}\\cdot n\\cdot \\mathbb{E}_{\\lambda}X_{1}=\\lambda=1.96$ - НРМД-оценка"
      ],
      "metadata": {
        "id": "SP6DUcE2mZDU"
      }
    },
    {
      "cell_type": "markdown",
      "source": [
        "## h.d) Построить АДИ уровня значимости $\\alpha_1$ для параметра $\\lambda$ на базе ОМП"
      ],
      "metadata": {
        "id": "0pxHs0H0nviH"
      }
    },
    {
      "cell_type": "markdown",
      "source": [
        "Построим на базе ОМП.\n",
        "\n",
        "$\\sqrt{n}\\left( \\widehat{\\theta}(\\overrightarrow{X})-\\theta \\right)\\sim N\\left( 0, \\frac{1}{I(\\theta)} \\right)$\n",
        "\n",
        "ОМП:\n",
        "\n",
        "$\\widehat{\\theta}=\\widehat{\\lambda}=\\frac{1}{\\overline{X}}$\n",
        "\n",
        "Найдем информацию Фишера:\n",
        "\n",
        "$I(\\theta)=-\\mathbb{E}\\left( \\frac{\\partial^{2} LL}{\\partial \\lambda^{2}} \\right)=-\\mathbb{E}\\left( -\\frac{\\sum_{i=1}^{n}X_{i}}{\\lambda^{2}}+\\frac{\\sum_{i=1}^{n}X_{i}+n}{(\\lambda +1)^{2}} \\right)=\\frac{n}{\\lambda^{2}}-\\mathbb{E}\\left( \\frac{\\sum_{i=1}^{n}X_{i}+n}{(\\lambda+1)^{2}} \\right) = \\frac{n}{\\lambda^{2}}-\\mathbb{E}\\left( \\frac{\\sum_{i=1}^{n}X_{i}}{(\\lambda+1)^{2}} \\right)-\\mathbb{E}\\left( \\frac{n}{(\\lambda+1)^{2}} \\right)=\\frac{n}{\\lambda^{2}}-\\frac{n}{(\\lambda+1)^{2}}-\\frac{n}{(\\lambda+1)^{2}}=\\frac{n(\\lambda^{2}+1)}{(\\lambda+1)^{2}\\cdot \\lambda^{2}}$\n",
        "\n",
        "Тогда $\\sqrt{n\\cdot I\\left(  \\widehat{\\theta}(\\overrightarrow{X})\\right)}\\left( \\widehat{\\theta}(\\overrightarrow{X})-\\theta \\right)\\sim N(0,1)$\n",
        "\n",
        "Подберем $X_{\\alpha}$: $\\mathrm{Ф}(X_{\\alpha})=1-\\frac{\\alpha_{1}}{2}=1-\\frac{0.05}{2}=0.975 \\implies X_{0.975}=1.96$\n",
        "\n",
        "$\\left[ \\frac{1}{\\overline{X}}-\\frac{X_{0.975}}{\\sqrt{n\\cdot \\frac{n(\\widehat{\\lambda^{2}}+1)}{(\\widehat{\\lambda}+1)^{2}\\cdot \\widehat{\\lambda^{2}}}}};\\frac{1}{\\overline{X}}+\\frac{X_{0.975}}{\\sqrt{n\\cdot \\frac{n(\\widehat{\\lambda^{2}}+1)}{(\\widehat{\\lambda}+1)^{2}\\cdot \\widehat{\\lambda^{2}}}}} \\right] \\implies 1.86 \\leq \\lambda \\leq 2.06$ - АДИ параметра $\\lambda$\n",
        "\n"
      ],
      "metadata": {
        "id": "CS1csL90nOZo"
      }
    },
    {
      "cell_type": "code",
      "source": [
        "x_mean = 0.51 # считали ранее\n",
        "x_0_975 = 1.96\n",
        "lambda_OMP = 1 / x_mean\n",
        "n = 50\n",
        "\n",
        "left_range = (1 / x_mean) - (x_0_975 / (np.sqrt( n * (n*(lambda_OMP**2 + 1))/((lambda_OMP + 1)**2 * lambda_OMP**2) )))\n",
        "\n",
        "right_range = (1 / x_mean) + (x_0_975 / (np.sqrt( n * (n*(lambda_OMP**2 + 1))/((lambda_OMP + 1)**2 * lambda_OMP**2) )))\n",
        "\n",
        "print('левая граница АДИ -', left_range)\n",
        "print('правая граница АДИ -', right_range)"
      ],
      "metadata": {
        "colab": {
          "base_uri": "https://localhost:8080/"
        },
        "id": "9Xs13Czs0kJQ",
        "outputId": "5952d539-78df-4ea6-e9c5-9e5d3119b6f9"
      },
      "execution_count": null,
      "outputs": [
        {
          "output_type": "stream",
          "name": "stdout",
          "text": [
            "левая граница АДИ - 1.8573915052177563\n",
            "правая граница АДИ - 2.064177122233224\n"
          ]
        }
      ]
    },
    {
      "cell_type": "markdown",
      "source": [
        "## h.e) Используя гистограмму частот, построить критерий значимости $\\mathcal{X^{2}}$ проверки простой гипотезы согласия с геометрическим распределением с параметром $\\lambda_{0}$. Проверить гипотезу на урокень значимости $\\alpha_{1}$. Вычислить наибольшее значение уровня значимости, на котором ещё нет оснований отвергнуть данную гипотезу."
      ],
      "metadata": {
        "id": "YtNgxFjCA-zH"
      }
    },
    {
      "cell_type": "markdown",
      "source": [
        "\\begin{aligned}\n",
        "& P_i=P_{H_0}=\\left(X \\in I_i\\right)=\\sum_{k \\in I_i} \\frac{\\lambda_0^k}{\\left(\\lambda_0+1\\right)^{k+1}} \\\\\n",
        "& I_1=[0] ; n_1=30 \\\\\n",
        "& P_{i=} \\frac{1^0}{(1+1)^{0+1}}=0,5 \\rightarrow n P_1=25 \\\\\n",
        "& I_2=[1 ; 3] ; n_2=20 \\\\\n",
        "& P_2=\\frac{1^1}{1 !} \\exp (-1)+\\frac{1^3}{3 !} \\exp (-1)=0,43 \\Rightarrow n \\cdot P_2=21,5 \\\\\n",
        "& \\text { Критерий } X^2: X_{\\text {набл }}^2=\\sum_{i=1}^2 \\frac{\\left(n_i-n \\cdot P_i\\right)^2}{n \\cdot P_i} = 7.25\n",
        "\\end{aligned}\n",
        "\n"
      ],
      "metadata": {
        "id": "jVG-y5xvJXSV"
      }
    },
    {
      "cell_type": "code",
      "source": [
        "import numpy as np\n",
        "\n",
        "n = 50\n",
        "n_i = [30, 20]\n",
        "P_i = [0.37, 0.43]\n",
        "Summ = []\n",
        "for i in range(len(n_i)):\n",
        "  Summ.append( ((n_i[i] - n*P_i[i])**2) / (n*P_i[i]) )\n",
        "\n",
        "print('X^2 набл = ', np.sum(Summ))"
      ],
      "metadata": {
        "colab": {
          "base_uri": "https://localhost:8080/"
        },
        "id": "smW1O4ZaJ6GQ",
        "outputId": "e5c86125-c691-4411-ab29-9a26fe73b809"
      },
      "execution_count": null,
      "outputs": [
        {
          "output_type": "stream",
          "name": "stdout",
          "text": [
            "X^2 набл =  7.253299811439346\n"
          ]
        }
      ]
    },
    {
      "cell_type": "markdown",
      "source": [
        "\\begin{split}\n",
        "& \\text { Из таблицы: }  : \\mathcal{X^{2}_{k-1,\\alpha_1}} = \\mathcal{X^{2}_{1,0.05}} \\approx 6.31 \\\\\n",
        "& \\mathcal{X^{2}_{набл}} > \\mathcal{X^{2}_{1,0.05}} \\Rightarrow \\text { по критерию Пирсона отвергам гипотезу } \\\\\n",
        "& \\text { Наибольшее значение уровня значимости, при котором нет еще оснований отвергнуть данную гипотезу } \\approx 0.025\n",
        "\\end{split}"
      ],
      "metadata": {
        "id": "Mclv13JiQuN5"
      }
    },
    {
      "cell_type": "markdown",
      "source": [
        "## h.f) Построить критерий значимости  $\\mathcal{X^{2}}$ проверки сложной гипотезы согласия с геометрическим распределением. Проверить гипотезу по уровню значимости $\\alpha_{1}$.Вычислить наибольшее значение уровня значимости, на котором ещё нет оснований отвергнуть данную гипотезу."
      ],
      "metadata": {
        "id": "Zgo9gp7eRPuz"
      }
    },
    {
      "cell_type": "markdown",
      "source": [
        "\\begin{aligned}\n",
        "& P_{i}=P_{H_{0}}=(X\\in I_{i})=\\sum_{k\\in I_{i}}^{}\\frac{\\overline{X}^{k}}{\\left(\\overline{X} +1\\right)^{k+1}}\\\\\n",
        "& I_1=[0] ; n_1=30 \\\\\n",
        "& P_{i=} \\frac{\\frac{1}{0.56^0}}{(1.96+1)^{0+1}}=0.34 \\rightarrow n P_1=17 \\\\\n",
        "& I_2=[1 ; 3] ; n_2=20 \\\\\n",
        "& P_2=\\frac{\\frac{1}{0.56^1}}{(1.96+1)^{1+1}} + \\frac{\\frac{1}{0.56^3}}{(1.96+1)^{3+1}}=0.28 \\Rightarrow n \\cdot P_2=14 \\\\\n",
        "& \\text { Критерий } X^2: X_{\\text {набл }}^2=\\sum_{i=1}^2 \\frac{\\left(n_i-n \\cdot P_i\\right)^2}{n \\cdot P_i} = 12.51\\\\\n",
        "\\end{aligned}"
      ],
      "metadata": {
        "id": "N1xpfeSzRSjo"
      }
    },
    {
      "cell_type": "code",
      "source": [
        "import numpy as np\n",
        "\n",
        "n = 50\n",
        "n_i = [30, 20]\n",
        "P_i = [0.34, 0.28]\n",
        "Summ = []\n",
        "for i in range(len(n_i)):\n",
        "  Summ.append( ((n_i[i] - n*P_i[i])**2) / (n*P_i[i]) )\n",
        "\n",
        "print('X^2 набл = ', np.sum(Summ))"
      ],
      "metadata": {
        "colab": {
          "base_uri": "https://localhost:8080/"
        },
        "id": "ZPyXzGx7aNvx",
        "outputId": "2cde0985-69a1-4844-86be-419a39a6e3dd"
      },
      "execution_count": null,
      "outputs": [
        {
          "output_type": "stream",
          "name": "stdout",
          "text": [
            "X^2 набл =  12.512605042016805\n"
          ]
        }
      ]
    },
    {
      "cell_type": "markdown",
      "source": [
        "\\begin{split}\n",
        "& \\text { Из таблицы: }  : \\mathcal{X^{2}_{k-1,\\alpha_1}} = \\mathcal{X^{2}_{1,0.05}} \\approx 6.31 \\\\\n",
        "& \\mathcal{X^{2}_{набл}} > \\mathcal{X^{2}_{1,0.05}} \\Rightarrow \\text { по критерию Пирсона отвергам гипотезу } \\\\\n",
        "& \\text { Наибольшее значение уровня значимости, при котором нет еще оснований отвергнуть данную гипотезу } \\approx 0.025\n",
        "\\end{split}"
      ],
      "metadata": {
        "id": "Av25qyfXan2r"
      }
    },
    {
      "cell_type": "markdown",
      "source": [
        "# 2. В результате эксперемента получены данные, приведенные в таблице 2"
      ],
      "metadata": {
        "id": "M0WGPJpvk7P7"
      }
    },
    {
      "cell_type": "markdown",
      "source": [
        "##a) Построить вариационный ряд, эмпирическую функцию распределения, гистограмму и полигон частот с шагом һ.\n"
      ],
      "metadata": {
        "id": "Tzm9uv0clGTG"
      }
    },
    {
      "cell_type": "code",
      "source": [
        "import matplotlib.pyplot as plt\n",
        "\n",
        "selection2 = [0.92, 3.42, -11.46, -2.47, -8.11, -2.73, 1.04, -4.40, 4.11, -8.00, -3.18, -1.62, -11.15, -2.35, 10.33, -2.01, -2.12, -2.26, 7.52, 2.22, -9.68, 8.20, -1.85, -2.13, 1.25, 0.94, 1.39, -1.06, -4.01, 1.80, 1.07, -0.05, 2.97, -0.45, 1.94, -10.57, -3.68, 4.10, 2.45, 5.02, -1.02, 6.32, -5.29, -2.80, 2.68, -1.44, 4.18, -9.33, -2.97, -6.53]\n",
        "selectionSorted2 = np.sort(selection2)\n",
        "\n",
        "min_value = min(selection2)\n",
        "max_value = max(selection2)\n",
        "\n",
        "value_range = max_value - min_value\n",
        "\n",
        "bins = int(value_range)\n",
        "\n",
        "plt.hist(selection2, bins=bins, color='lightgreen', edgecolor='black')\n",
        "plt.title('Гистограмма частот')\n",
        "plt.xlabel('Значение')\n",
        "plt.ylabel('Частота')\n",
        "plt.show()\n",
        "\n"
      ],
      "metadata": {
        "colab": {
          "base_uri": "https://localhost:8080/",
          "height": 787
        },
        "id": "YQpSXO05lZwH",
        "outputId": "d118f8e3-1874-4963-b2aa-684e973d67e2"
      },
      "execution_count": null,
      "outputs": [
        {
          "output_type": "display_data",
          "data": {
            "text/plain": [
              "<Figure size 640x480 with 1 Axes>"
            ],
            "image/png": "[encoded data removed]"
          },
          "metadata": {}
        },
        {
          "output_type": "stream",
          "name": "stdout",
          "text": [
            "len(binsToCalc) - 10\n",
            "\n",
            "binsToCalc exactly bins:\n",
            " [[-10, -8], [-8, -6], [-6, -4], [-4, -2], [-2, 0], [0, 2], [2, 4], [4, 6], [6, 8], [8, 10]]\n",
            "\n",
            "VALUES_in_binsToCalc:\n",
            " [[-9.68, -9.33, -8.11], [-6.53], [-5.29, -4.4, -4.01], [-3.68, -3.18, -2.97, -2.8, -2.73, -2.47, -2.35, -2.26, -2.13, -2.12, -2.01], [-1.85, -1.62, -1.44, -1.06, -1.02, -0.45, -0.05], [0.92, 0.94, 1.04, 1.07, 1.25, 1.39, 1.8, 1.94], [2.22, 2.45, 2.68, 2.97, 3.42], [4.1, 4.11, 4.18, 5.02], [6.32, 7.52], [8.2]]\n",
            "binsToCalc[0] - [-10, -8] has 3 in itself: [-9.68, -9.33, -8.11]\n",
            "binsToCalc[1] - [-8, -6] has 1 in itself: [-6.53]\n",
            "binsToCalc[2] - [-6, -4] has 3 in itself: [-5.29, -4.4, -4.01]\n",
            "binsToCalc[3] - [-4, -2] has 11 in itself: [-3.68, -3.18, -2.97, -2.8, -2.73, -2.47, -2.35, -2.26, -2.13, -2.12, -2.01]\n",
            "binsToCalc[4] - [-2, 0] has 7 in itself: [-1.85, -1.62, -1.44, -1.06, -1.02, -0.45, -0.05]\n",
            "binsToCalc[5] - [0, 2] has 8 in itself: [0.92, 0.94, 1.04, 1.07, 1.25, 1.39, 1.8, 1.94]\n",
            "binsToCalc[6] - [2, 4] has 5 in itself: [2.22, 2.45, 2.68, 2.97, 3.42]\n",
            "binsToCalc[7] - [4, 6] has 4 in itself: [4.1, 4.11, 4.18, 5.02]\n",
            "binsToCalc[8] - [6, 8] has 2 in itself: [6.32, 7.52]\n",
            "binsToCalc[9] - [8, 10] has 1 in itself: [8.2]\n"
          ]
        }
      ]
    },
    {
      "cell_type": "code",
      "source": [
        "import numpy as np\n",
        "import matplotlib.pyplot as plt\n",
        "\n",
        "selection2 = [0.92, 3.42, -11.46, -2.47, -8.11, -2.73, 1.04, -4.40, 4.11, -8.00, -3.18, -1.62, -11.15, -2.35, 10.33, -2.01, -2.12, -2.26, 7.52, 2.22, -9.68, 8.20, -1.85, -2.13, 1.25, 0.94, 1.39, -1.06, -4.01, 1.80, 1.07, -0.05, 2.97, -0.45, 1.94, -10.57, -3.68, 4.10, 2.45, 5.02, -1.02, 6.32, -5.29, -2.80, 2.68, -1.44, 4.18, -9.33, -2.97, -6.53]\n",
        "\n",
        "unique, counts = np.unique(selection2, return_counts=True)\n",
        "\n",
        "relative_frequencies = counts / len(selection2)\n",
        "\n",
        "cumulative_sum = np.cumsum(relative_frequencies)\n",
        "\n",
        "plt.step(unique, cumulative_sum, where='post', linestyle='dashed')\n",
        "plt.xlabel('Значение')\n",
        "plt.ylabel('Эмпирическая функция распределения')\n",
        "plt.title('Эмпирическая функция распределения')\n",
        "\n",
        "for i in range(len(unique) - 1):\n",
        "    plt.arrow(unique[i + 1], cumulative_sum[i], unique[i] - unique[i + 1], 0, head_width=0.01, head_length=0.05, ec='blue', linewidth=1)\n",
        "\n",
        "plt.arrow(unique[-1], cumulative_sum[-1], -0.01, 0, head_width=0.03, head_length=0.01, ec='blue', linewidth=1)\n",
        "\n",
        "plt.show()\n"
      ],
      "metadata": {
        "colab": {
          "base_uri": "https://localhost:8080/",
          "height": 472
        },
        "id": "QqVa3koeqyRW",
        "outputId": "2225396c-a786-4415-e0fe-f5396f9e562f"
      },
      "execution_count": null,
      "outputs": [
        {
          "output_type": "display_data",
          "data": {
            "text/plain": [
              "<Figure size 640x480 with 1 Axes>"
            ],
            "image/png": "[encoded data removed]"
          },
          "metadata": {}
        }
      ]
    },
    {
      "cell_type": "code",
      "source": [
        "import matplotlib.pyplot as plt\n",
        "import numpy as np\n",
        "\n",
        "selection2 = [0.92, 3.42, -11.46, -2.47, -8.11, -2.73, 1.04, -4.40, 4.11, -8.00, -3.18, -1.62, -11.15, -2.35, 10.33, -2.01, -2.12, -2.26, 7.52, 2.22, -9.68, 8.20, -1.85, -2.13, 1.25, 0.94, 1.39, -1.06, -4.01, 1.80, 1.07, -0.05, 2.97, -0.45, 1.94, -10.57, -3.68, 4.10, 2.45, 5.02, -1.02, 6.32, -5.29, -2.80, 2.68, -1.44, 4.18, -9.33, -2.97, -6.53]\n",
        "\n",
        "counts, bins = np.histogram(selection2, bins=np.arange(min(selection2), max(selection2) + 2, 2))\n",
        "\n",
        "plt.plot(bins[:-1], counts, marker='o', linestyle='-', color='b')\n",
        "plt.title('Полигон частот для выборки с шагом h = 2')\n",
        "plt.xlabel('Значение')\n",
        "plt.ylabel('Частота')\n",
        "plt.grid(True)\n",
        "plt.show()\n"
      ],
      "metadata": {
        "colab": {
          "base_uri": "https://localhost:8080/",
          "height": 472
        },
        "id": "nTzCh5lowQ3b",
        "outputId": "f10b0bd5-d1d5-481d-9695-117c57122423"
      },
      "execution_count": null,
      "outputs": [
        {
          "output_type": "display_data",
          "data": {
            "text/plain": [
              "<Figure size 640x480 with 1 Axes>"
            ],
            "image/png": "[encoded data removed]"
          },
          "metadata": {}
        }
      ]
    },
    {
      "cell_type": "markdown",
      "source": [
        "\n",
        "## b) Вычислить выборочные аналоги следующих числовых характеристик:"
      ],
      "metadata": {
        "id": "frA-3G3KNwxC"
      }
    },
    {
      "cell_type": "markdown",
      "source": [
        "## 1. Математического ожидания\n",
        "## 2. Дисперсии\n",
        "## 3. СКО\n",
        "## 4. Медианы\n",
        "## 5. Асимметрии\n",
        "## 6. Эксцесса\n",
        "## 7. Вероятности $\\mathbb{P}\\left(X\\in[c, d]\\right)$"
      ],
      "metadata": {
        "id": "g4T6b-olN49p"
      }
    },
    {
      "cell_type": "code",
      "source": [
        "from scipy.stats import skew, kurtosis\n",
        "\n",
        "selection2 = [0.92, 3.42, -11.46, -2.47, -8.11, -2.73, 1.04, -4.40, 4.11, -8.00, -3.18, -1.62, -11.15, -2.35, 10.33, -2.01, -2.12, -2.26, 7.52, 2.22, -9.68, 8.20, -1.85, -2.13, 1.25, 0.94, 1.39, -1.06, -4.01, 1.80, 1.07, -0.05, 2.97, -0.45, 1.94, -10.57, -3.68, 4.10, 2.45, 5.02, -1.02, 6.32, -5.29, -2.80, 2.68, -1.44, 4.18, -9.33, -2.97, -6.53]\n",
        "\n",
        "mean_value2 = np.mean(selection2)\n",
        "\n",
        "variance_value2 = np.var(selection2, ddof=1)\n",
        "\n",
        "std_deviation2 = np.std(selection2, ddof=1)\n",
        "\n",
        "median_value2 = np.median(selection2)\n",
        "\n",
        "skewness2 = skew(selection2)\n",
        "\n",
        "kurtosis_value2 = kurtosis(selection2)\n",
        "\n",
        "\n",
        "c = -4\n",
        "d = 2\n",
        "\n",
        "P2 = len([x for x in selection2 if(c <= x <= d)]) / len(selection2)\n",
        "\n",
        "print(\"1. Математическое ожидание:\", mean_value2)\n",
        "print(\"2. Дисперсия:\", variance_value2)\n",
        "print(\"3. Стандартное отклонение (СКО):\", std_deviation2)\n",
        "print(\"4. Медиана:\", median_value2)\n",
        "print(\"5. Асимметрия:\", skewness2)\n",
        "print(\"6. Эксцесс:\", kurtosis_value2)\n",
        "print(\"7. Вероятность попадания элемента выборки в промежуток [c, d]:\", P2)"
      ],
      "metadata": {
        "colab": {
          "base_uri": "https://localhost:8080/"
        },
        "id": "Pjnt31xvOdbI",
        "outputId": "e0113a1b-7637-4027-b8dd-52918aa4651d"
      },
      "execution_count": null,
      "outputs": [
        {
          "output_type": "stream",
          "name": "stdout",
          "text": [
            "1. Математическое ожидание: -1.017\n",
            "2. Дисперсия: 24.902356122448975\n",
            "3. Стандартное отклонение (СКО): 4.990226059253125\n",
            "4. Медиана: -1.25\n",
            "5. Асимметрия: -0.1772915022446943\n",
            "6. Эксцесс: -0.1638882726892139\n",
            "7. Вероятность попадания элемента выборки в промежуток [c, d]: 0.52\n"
          ]
        }
      ]
    },
    {
      "cell_type": "markdown",
      "source": [
        "##c) В предположении, что исходные наблюдения являются выборкой из нормального распределения, построить оценку максимального правдоподобия параметров $\\left(a,\\sigma^2\\right)$ и соответствующие оценки по методу моментов. Найти смещение оценок."
      ],
      "metadata": {
        "id": "r6c5QYBMPN_y"
      }
    },
    {
      "cell_type": "markdown",
      "source": [
        "$\\begin{split}\n",
        "ОМП:\\\\\n",
        "& P_\\theta(x)=\\frac{1}{\\sqrt{2 \\pi \\sigma}} \\exp \\left(-\\frac{(x-a)^2}{2 \\sigma^2}\\right) \\\\\n",
        "& \\begin{split}\n",
        "& L(\\vec{X}, \\theta)= \\prod_{i=1}^n \\frac{1}{\\sqrt{2 \\pi \\sigma^2}} \\exp \\left(-\\frac{(x-a)^2}{2 \\sigma^2}\\right)=(2 \\pi)^{-\\frac{n}{2}} \\sigma^{-n} \\exp \\left(-\\frac{1}{2 \\sigma^2} \\sum_{i=1}^n\\left(x_i-a\\right)^2\\right) \\\\\n",
        "& L L(\\vec{X}, \\theta)=-\\frac{n}{2} \\ln (2 \\pi)-n \\ln (\\sigma)-\\frac{1}{2 \\sigma^2} \\sum_{i=1}^n\\left(x_i-a\\right)^2 \\\\\n",
        "& \\frac{\\partial L L}{\\partial a}=- \\frac{1}{\\sigma^2}\\left(\\sum_{i=1}^n x_i-n a\\right)=0 \\\\\n",
        "& \\sum_{i=1}^n x_i-n a=0 \\\\\n",
        "& a=\\sum_{i=1}^n x_i \\Rightarrow \\hat{\\theta}=\\hat{a}=\\bar{x} \\\\\n",
        "& \\frac{\\partial L L}{\\partial \\sigma}=-\\frac{n}{\\sigma}+\\frac{1}{\\sigma^3} \\sum_{i=1}^n\\left(x_i-a\\right)^2=0 \\\\\n",
        "& \\sigma^2=\\frac{1}{n} \\sum_{i=1}^n\\left(x_i-a\\right)^2 \\\\\n",
        "& \\hat{\\theta}= \\widehat{\\sigma}^2=S^2\n",
        "\\end{split}\n",
        "\\end{split}\n",
        "$"
      ],
      "metadata": {
        "id": "Szd0aIHiPzJV"
      }
    },
    {
      "cell_type": "markdown",
      "source": [
        "$\\begin{split}\n",
        "ОММ:\\\\\n",
        "  & \\hat{\\theta}=\\left(\\hat{a}, \\widehat{\\sigma^2}\\right)=\\left(\\bar{X}, S^2\\right) \\\\\n",
        "  & \\mathbb{E} X_1=a \\quad M_1=\\bar{x} \\\\\n",
        "  & \\mathbb{E} X_2=a^2+\\sigma^2 \\quad M_2=\\frac{1}{n} \\sum_{i=1}^n x_i^2=\\overline{x^2} \\\\\n",
        "  & D X_1=\\sigma^2=\\mathbb{E} X_1^2-\\left(\\mathbb{E} X_1^2\\right) \\\\\n",
        "  & \\left\\{\\begin{array} { l }\n",
        "  { \\mathbb { E } X _ { 1 } = M _ { 1 } } \\\\\n",
        "  { \\mathbb { E } X _ { 1 } ^ { 2 } = M _ { 2 } }\n",
        "  \\end{array} \\Rightarrow \\left\\{\\begin{array}{l}\n",
        "  a=\\bar{X} \\\\\n",
        "  a^2+\\sigma^2=\\bar{x}^2\n",
        "  \\end{array} \\quad \\Rightarrow \\quad \\tilde{a}=\\bar{X}\\right.\\right. \\\\\n",
        "  & \\tilde{\\theta}=\\left(\\tilde{a}, \\tilde{\\sigma}^2\\right)=\\left(\\overline{X^2},S^2\\right).\n",
        "\\end{split}$\n",
        "\n",
        "Находим смещение каждой оценки\n",
        "\n",
        "$\\begin{split}\n",
        "\\mathbb{E}_\\theta \\bar{X}=\\mathbb{E}_\\theta\\left(\\frac{1}{n} \\sum_{i=1}^n x_i\\right)=\\frac{1}{n} \\sum_{i=1}^n \\mathbb{E}_\\theta x_1=a\n",
        "\\end{split}$\n",
        "\n",
        "Выборочное среднее несмещенная оценка, $\\hat{a}=\\overline{X} - НРМД\\ оценка\\\\\n",
        "$\n",
        "\\begin{split}\n",
        "& \\mathbb{E}_\\theta S^2=\\mathbb{E}\\left(\\frac{1}{n} \\sum_{i=1}^n\\left(x_i-\\bar{x}\\right)^2\\right)=\\left[\\begin{array}{ll}\n",
        "Y_i=X_i-\\mathbb{E}_{x_i} ; & \\mathbb{E}_\\theta Y_i=0 \\\\\n",
        "\\mathbb{D}_\\theta Y_i=\\sigma^2\n",
        "\\end{array}\\right]= \\\\\n",
        "& =\\mathbb{E}_\\theta\\left(\\bar{Y}^2-(\\bar{Y})^2\\right)=\\mathbb{E}_\\theta \\bar{Y}^2-\\mathbb{E}_\\theta\\left(\\overline{Y^2}\\right) \\\\\n",
        "& \\mathbb{E}_\\theta \\overline{Y^2}=\\mathbb{E}_\\theta\\left(\\frac{1}{n} \\sum_{i=1}^n Y_i^2\\right)=\\frac{1}{n} \\sum \\mathbb{E}_i^2=\\frac{1}{n} \\sum_{i=1}^n \\sigma^2=\\sigma^2 \\\\\n",
        "& \\mathbb{E}_\\theta(\\bar{Y})^2=\\mathbb{E}_\\theta\\left(\\frac{1}{n} \\sum_{i=1}^n Y_i\\right)^2=\\frac{1}{n^2} \\mathbb{E}_\\theta\\left(\\sum_{i=1}^n \\sum_{j=1}^n Y_i Y_j\\right)=\\frac{1}{n^2} \\sum_{i=1}^n \\sum_{j=1}^n \\mathbb{E}_\\theta Y_i Y_j \\\\\n",
        "& \\mathbb{E}_\\theta Y_i Y_i=\\left\\{\\begin{array}{l}\n",
        "i=j ; \\quad \\mathbb{E}_\\theta Y_i^2=\\sigma^2 \\\\\n",
        "i \\neq j ; \\quad \\mathbb{E}_\\theta Y_i \\mathbb{E}_\\theta Y_i=0\n",
        "\\end{array}\\right.\n",
        "\\end{split}\n",
        "$\n",
        "\\frac{1}{n^2}\\left(n \\sigma^2\\right)=\\frac{\\sigma^2}{n}=\\mathbb{E}_\\theta(\\bar{Y})^2$ смещенная оценка\n",
        "\n",
        "$\\mathbb{E}_\\theta S^2=\\sigma^2-\\frac{\\sigma^2}{n}=\\frac{(n-1)}{n} \\sigma^2$ смещенная оценка\n",
        "$\n",
        "\\left(S^{\\prime 2}\\right)=\\frac{n}{n-1} S^2 ; \\quad \\mathbb{E}_\\theta\\left(S^{\\prime}\\right)^2=\\mathbb{E}_0\\left(\\frac{n}{n-1} S^2\\right)=\\frac{n}{n-1} \\sigma^2=\\sigma^2\n",
        "$\n",
        "$\\left(S^{\\prime}\\right)^2=\\frac{1}{n-1} \\sum_{i=1}^n\\left(X_i-\\bar{X}\\right)^2$ НРМД оценка"
      ],
      "metadata": {
        "id": "FwVV-u_fRSL3"
      }
    },
    {
      "cell_type": "markdown",
      "source": [
        "## d) Построить доверительные интервалы уровня значимости $\\alpha_2$ для параметров $(a,\\sigma^{2})$."
      ],
      "metadata": {
        "id": "yhs15tuSg1Qq"
      }
    },
    {
      "cell_type": "markdown",
      "source": [
        "1. Для параметра $a$:\n",
        "\n",
        "$G(\\overrightarrow{X},a)=\\sqrt{n-1}\\frac{\\overline{X}-a}{S} \\sim S_{n-1}$\n",
        "\n",
        "$\\mathbb{P}_{\\theta}\\left(\\sqrt{n-1}\\frac{\\overline{X}-a}{S} \\in [x_{1\\alpha},x_{2\\alpha}]\\right)=1-\\alpha=0.95$\n",
        "\n",
        "$x_{\\alpha}: S_{n-1}(x_{\\alpha})=1-\\frac{\\alpha}{2}$\n",
        "\n",
        "$\\mathbb{P}_{\\theta}\\left(-x_{\\alpha} \\leq \\sqrt{n-1}\\frac{\\overline{X}-a}{S} \\leq x_{\\alpha}\\right)=1-\\alpha=0.95$\n",
        "\n",
        "$\\mathbb{P}_{\\theta}\\left(\\overline{X}-\\frac{x_{\\alpha}S}{\\sqrt{n-1}} \\leq a \\leq \\overline{X}+\\frac{x_{\\alpha}S}{\\sqrt{n-1}}\\right)$\n",
        "\n",
        "$\\left[\\overline{X}-\\frac{x_{\\alpha}S}{\\sqrt{n-1}}; \\overline{X}+\\frac{x_{\\alpha}S}{\\sqrt{n-1}}\\right] \\ni a$\n",
        "\n",
        "Подставим значения:\n",
        "\n",
        "$\\left[-1.01-\\frac{2\\cdot\\sqrt{24.9}}{\\sqrt{49}}; -1.01+\\frac{2\\cdot\\sqrt{24.9}}{\\sqrt{49}}\\right] \\implies [-1.346\\ ;\\ -0.674] \\ni a$\n",
        "\n",
        "2. Теперь для параметра $\\sigma^{2}$:\n",
        "\n",
        "$G(\\overrightarrow{X},\\sigma^{2})=\\frac{nS^{2}}{\\sigma^{2}} \\sim \\chi_{n-1}^{2}$\n",
        "\n",
        "$\\mathbb{P}_{\\theta}\\left(\\frac{nS^{2}}{\\sigma^{2}} \\in [x_{1\\alpha},x_{2\\alpha}]\\right)=1-\\alpha=K_{n-1}(x_{2\\alpha})-K_{n-1}(x_{1\\alpha})=1-\\frac{\\alpha}{2}-\\frac{\\alpha}{2}=1-\\alpha$\n",
        "\n",
        "$\\begin{equation*} \\begin{cases}\n",
        "x_{1\\alpha}: K_{n-1}(x_{1\\alpha})=\\frac{\\alpha}{2} \\\\\n",
        "x_{2\\alpha}: K_{n-1}(x_{2\\alpha})=1-\\frac{\\alpha}{2}\n",
        "\\end{cases} \\end{equation*}$\n",
        "\n",
        "$\\mathbb{P}_{\\theta}\\left(x_{1\\alpha} \\leq \\frac{nS^{2}}{\\sigma^{2}} \\leq x_{2\\alpha}\\right)=1-\\alpha$\n",
        "\n",
        "$\\mathbb{P}_{\\theta}\\left(\\frac{nS^{2}}{x_{2\\alpha}} \\leq \\sigma^{2} \\leq \\frac{nS^{2}}{x_{1\\alpha}}\\right)$\n",
        "\n",
        "$\\left[\\frac{nS^{2}}{x_{2\\alpha}}; \\frac{nS^{2}}{x_{1\\alpha}}\\right] \\ni \\sigma^{2}$\n",
        "\n",
        "Подставим значения и посчитаем:\n",
        "\n",
        "$\\left[\\frac{50\\cdot24.9}{70.22};\\frac{50\\cdot24.9}{31.55}\\right] \\rightarrow [17.73\\ ;\\ 39.46] \\ni \\sigma^{2}$"
      ],
      "metadata": {
        "id": "jVURj5Y6g4tE"
      }
    },
    {
      "cell_type": "markdown",
      "source": [
        "## e) С использованием теоремы Колмогорова построить критерий значимости проверки простой гипотезы согласия с нормальным распределением с параметрами $(a_{0},\\sigma_{0}^{2})$. Проверить гипотезу на уровне значимости $\\alpha_{2}$. Вычислить наибольшее значение уровня значимости, на котором еще нет оснований отвергнуть данную гипотезу."
      ],
      "metadata": {
        "id": "JuIQeril5R84"
      }
    },
    {
      "cell_type": "code",
      "source": [
        "import scipy.stats as sp\n",
        "\n",
        "selection2 = [0.92, 3.42, -11.46, -2.47, -8.11, -2.73, 1.04, -4.40, 4.11, -8.00, -3.18, -1.62, -11.15, -2.35, 10.33, -2.01, -2.12, -2.26, 7.52, 2.22, -9.68, 8.20, -1.85, -2.13, 1.25, 0.94, 1.39, -1.06, -4.01, 1.80, 1.07, -0.05, 2.97, -0.45, 1.94, -10.57, -3.68, 4.10, 2.45, 5.02, -1.02, 6.32, -5.29, -2.80, 2.68, -1.44, 4.18, -9.33, -2.97, -6.53]\n",
        "alpha_2 = 0.05\n",
        "a0 = -1.0\n",
        "sigma0 = 5.0\n",
        "sp.kstest(selection2, 'norm', args=(a0, sigma0))\n",
        "\n",
        "# https://www.codecamp.ru/blog/kolmogorov-smirnov-test-python/ - по этому материалу"
      ],
      "metadata": {
        "colab": {
          "base_uri": "https://localhost:8080/"
        },
        "id": "hm9kQ_KP5wMa",
        "outputId": "afb3fbaa-b363-4850-ca9a-7de31ef60fa2"
      },
      "execution_count": null,
      "outputs": [
        {
          "output_type": "execute_result",
          "data": {
            "text/plain": [
              "KstestResult(statistic=0.09141836478532872, pvalue=0.7632597591698614, statistic_location=-3.18, statistic_sign=-1)"
            ]
          },
          "metadata": {},
          "execution_count": 12
        }
      ]
    },
    {
      "cell_type": "markdown",
      "source": [
        "Функция kstest позволяет выполнить выполнить тест Колмогорова-Смирнова для проверки того, является ли распределение нормальным.\n",
        "Т.к. значене p-value > $\\alpha_2$, то делаем вывод о принятии гипотезы."
      ],
      "metadata": {
        "id": "iVA7SP1ioMMd"
      }
    },
    {
      "cell_type": "code",
      "source": [
        "import numpy as np\n",
        "from scipy.stats import kstest\n",
        "import matplotlib.pyplot as plt\n",
        "\n",
        "selection2 = [0.92, 3.42, -11.46, -2.47, -8.11, -2.73, 1.04, -4.40, 4.11, -8.00, -3.18, -1.62, -11.15, -2.35, 10.33, -2.01, -2.12, -2.26, 7.52, 2.22, -9.68, 8.20, -1.85, -2.13, 1.25, 0.94, 1.39, -1.06, -4.01, 1.80, 1.07, -0.05, 2.97, -0.45, 1.94, -10.57, -3.68, 4.10, 2.45, 5.02, -1.02, 6.32, -5.29, -2.80, 2.68, -1.44, 4.18, -9.33, -2.97, -6.53]\n",
        "\n",
        "alpha_2 = 0.05\n",
        "a0 = -1.0\n",
        "sigma0 = 5.0\n",
        "\n",
        "alpha_tests = []\n",
        "\n",
        "ks_statistic, ks_p_value = kstest(selection2, 'norm', args=(a0, sigma0))\n",
        "alpha_2 = 0.05\n",
        "while ks_p_value >= alpha_2:\n",
        "    alpha_2 += 0.01\n",
        "    ks_statistic, ks_p_value = kstest(selection2, 'norm', alternative='less')\n",
        "alpha_test1 = alpha_2\n",
        "alpha_tests.append(alpha_test1)\n",
        "print(\"первый тест:\", alpha_test1)\n",
        "\n",
        "ks_statistic, ks_p_value = kstest(selection2, 'norm', args=(a0, sigma0))\n",
        "alpha_2 = 0.05\n",
        "while ks_p_value >= alpha_2:\n",
        "    alpha_2 += 0.001\n",
        "    ks_statistic, ks_p_value = kstest(selection2, 'norm', alternative='less')\n",
        "alpha_test2 = alpha_2\n",
        "alpha_tests.append(alpha_test2)\n",
        "print(\"второй тест:\", alpha_test2)\n",
        "\n",
        "ks_statistic, ks_p_value = kstest(selection2, 'norm', args=(a0, sigma0))\n",
        "alpha_2 = 0.05\n",
        "while ks_p_value >= alpha_2:\n",
        "    alpha_2 += 0.0001\n",
        "    ks_statistic, ks_p_value = kstest(selection2, 'norm', alternative='less')\n",
        "alpha_test3 = alpha_2\n",
        "alpha_tests.append(alpha_test3)\n",
        "print(\"третий тест:\", alpha_test3)\n",
        "\n",
        "\n",
        "print(\"Наибольший уровень значимости без отвержения гипотезы:\", round(np.min(alpha_tests), 3))\n"
      ],
      "metadata": {
        "colab": {
          "base_uri": "https://localhost:8080/"
        },
        "id": "Q64-L9znpFP4",
        "outputId": "ad40203a-bbdf-4eda-ff9f-d1869f7a3d64"
      },
      "execution_count": null,
      "outputs": [
        {
          "output_type": "stream",
          "name": "stdout",
          "text": [
            "первый тест: 0.060000000000000005\n",
            "второй тест: 0.051000000000000004\n",
            "третий тест: 0.050100000000000006\n",
            "Наибольший уровень значимости без отвержения гипотезы: 0.05\n"
          ]
        }
      ]
    },
    {
      "cell_type": "markdown",
      "source": [
        "## f) Используя гистограмму частот, построить критерий значимости $\\mathcal{X^{2}}$ проверки простой гипотезы согласия с нормальным распределением с параметрами $(a_{0},\\sigma_{0}^{2})$. Проверить гипотезу на уровне значимости $\\alpha_{2}$. Вычислить наибольшее значение уровня значимости, на котором ещё нет оснований отвергнуть данную гипотезу."
      ],
      "metadata": {
        "id": "Ol3QLHZarkUF"
      }
    },
    {
      "cell_type": "markdown",
      "source": [
        "$P_{i}=P_{H_{0}}=(X\\in I_{i})=\\sum_{k\\in I_{i}}\\frac{1}{\\sqrt{2\\pi}\\sigma}\\cdot exp\\left(-\\frac{(x-a)^{2}}{2\\sigma^{2}}\\right)$"
      ],
      "metadata": {
        "id": "Qngt0vg1tK-N"
      }
    },
    {
      "cell_type": "code",
      "source": [
        "import scipy.stats as sps\n",
        "import numpy as np\n",
        "\n",
        "################################### Подготовка и разбитие на интервалы\n",
        "\n",
        "selection2 = [0.92, 3.42, -11.46, -2.47, -8.11, -2.73, 1.04, -4.40, 4.11, -8.00, -3.18, -1.62, -11.15, -2.35, 10.33, -2.01, -2.12, -2.26, 7.52, 2.22, -9.68, 8.20, -1.85, -2.13, 1.25, 0.94, 1.39, -1.06, -4.01, 1.80, 1.07, -0.05, 2.97, -0.45, 1.94, -10.57, -3.68, 4.10, 2.45, 5.02, -1.02, 6.32, -5.29, -2.80, 2.68, -1.44, 4.18, -9.33, -2.97, -6.53]\n",
        "selection2_sorted = np.sort(selection2)\n",
        "\n",
        "arr = [x for x in range(-12, 14, 2)] # массив интервалов\n",
        "binsToCalc = [[] for i in range(len(arr) - 1)]\n",
        "VALUES_in_binsToCalc = [[] for i in range(len(arr) - 1)]\n",
        "\n",
        "print('len(binsToCalc) -', len(binsToCalc))\n",
        "\n",
        "for i in range(len(arr) - 1):\n",
        "  binsToCalc[i] = [arr[i], arr[i + 1]]\n",
        "\n",
        "print('\\nbinsToCalc конкретно интервалы:\\n', binsToCalc)\n",
        "\n",
        "for i in range(len(selectionSorted2)):\n",
        "  for j in range(len(binsToCalc)):\n",
        "    if (binsToCalc[j][0] < selectionSorted2[i] < binsToCalc[j][1]):\n",
        "      VALUES_in_binsToCalc[j].append(selectionSorted2[i])\n",
        "\n",
        "print('\\nVALUES_in_binsToCalc:\\n', VALUES_in_binsToCalc, '\\n')\n",
        "\n",
        "for i in range(len(binsToCalc)):\n",
        "  print(f'интервал[{i}] - {binsToCalc[i]} имеет {len(VALUES_in_binsToCalc[i])} значений: {VALUES_in_binsToCalc[i]}')\n",
        "\n",
        "\n",
        "################################### Рассчет вероятностей и ХИ-квадрат\n",
        "\n",
        "def CuclSum(a0, sigma2):\n",
        "  n = 50\n",
        "  P_array = [0] * (len(arr) + 1)\n",
        "\n",
        "  #Вычисление P_i\n",
        "  P_array[0] = sps.norm.cdf(arr[0], a0, sigma2)\n",
        "\n",
        "  for i in range(1, len(arr)):\n",
        "    P_array[i] = sps.norm.cdf(arr[i], a0, sigma2) - sps.norm.cdf(arr[i - 1], a0, sigma2)\n",
        "  P_array[len(arr)] = 1 - sps.norm.cdf(arr[-1], a0, sigma2)\n",
        "  P_array = [round(elem, 5) for elem in P_array]\n",
        "\n",
        "  print()\n",
        "  for i in range(len(P_array)):\n",
        "    print(f'P_{i+1} = {P_array[i]}')\n",
        "  print()\n",
        "  print(\"Проверка результата. Сумма P_i =\", np.sum(P_array))\n",
        "\n",
        "  #Вычисление X^2\n",
        "  Summ = []\n",
        "\n",
        "  n_array = [len(VALUES_in_binsToCalc[i]) for i in range(len(VALUES_in_binsToCalc))]\n",
        "  print('\\n значений в каждом интервале соответственно -', n_array) #\n",
        "\n",
        "  for i in range(len(n_array)):\n",
        "    Summ.append( ((n_array[i] - n*P_array[i])**2) / (n*P_array[i]) )\n",
        "  print('\\nX^2 набл = ', np.sum(Summ))\n",
        "\n",
        "CuclSum(-1, 5)"
      ],
      "metadata": {
        "colab": {
          "base_uri": "https://localhost:8080/"
        },
        "id": "JlQNgozLt0uu",
        "outputId": "200ade20-78a8-47d3-abe5-1a0644cb9cf1"
      },
      "execution_count": null,
      "outputs": [
        {
          "output_type": "stream",
          "name": "stdout",
          "text": [
            "len(binsToCalc) - 12\n",
            "\n",
            "binsToCalc конкретно интервалы:\n",
            " [[-12, -10], [-10, -8], [-8, -6], [-6, -4], [-4, -2], [-2, 0], [0, 2], [2, 4], [4, 6], [6, 8], [8, 10], [10, 12]]\n",
            "\n",
            "VALUES_in_binsToCalc:\n",
            " [[-11.46, -11.15, -10.57], [-9.68, -9.33, -8.11], [-6.53], [-5.29, -4.4, -4.01], [-3.68, -3.18, -2.97, -2.8, -2.73, -2.47, -2.35, -2.26, -2.13, -2.12, -2.01], [-1.85, -1.62, -1.44, -1.06, -1.02, -0.45, -0.05], [0.92, 0.94, 1.04, 1.07, 1.25, 1.39, 1.8, 1.94], [2.22, 2.45, 2.68, 2.97, 3.42], [4.1, 4.11, 4.18, 5.02], [6.32, 7.52], [8.2], [10.33]] \n",
            "\n",
            "интервал[0] - [-12, -10] имеет 3 значений: [-11.46, -11.15, -10.57]\n",
            "интервал[1] - [-10, -8] имеет 3 значений: [-9.68, -9.33, -8.11]\n",
            "интервал[2] - [-8, -6] имеет 1 значений: [-6.53]\n",
            "интервал[3] - [-6, -4] имеет 3 значений: [-5.29, -4.4, -4.01]\n",
            "интервал[4] - [-4, -2] имеет 11 значений: [-3.68, -3.18, -2.97, -2.8, -2.73, -2.47, -2.35, -2.26, -2.13, -2.12, -2.01]\n",
            "интервал[5] - [-2, 0] имеет 7 значений: [-1.85, -1.62, -1.44, -1.06, -1.02, -0.45, -0.05]\n",
            "интервал[6] - [0, 2] имеет 8 значений: [0.92, 0.94, 1.04, 1.07, 1.25, 1.39, 1.8, 1.94]\n",
            "интервал[7] - [2, 4] имеет 5 значений: [2.22, 2.45, 2.68, 2.97, 3.42]\n",
            "интервал[8] - [4, 6] имеет 4 значений: [4.1, 4.11, 4.18, 5.02]\n",
            "интервал[9] - [6, 8] имеет 2 значений: [6.32, 7.52]\n",
            "интервал[10] - [8, 10] имеет 1 значений: [8.2]\n",
            "интервал[11] - [10, 12] имеет 1 значений: [10.33]\n",
            "\n",
            "P_1 = 0.0139\n",
            "P_2 = 0.02203\n",
            "P_3 = 0.04483\n",
            "P_4 = 0.0779\n",
            "P_5 = 0.1156\n",
            "P_6 = 0.14649\n",
            "P_7 = 0.15852\n",
            "P_8 = 0.14649\n",
            "P_9 = 0.1156\n",
            "P_10 = 0.0779\n",
            "P_11 = 0.04483\n",
            "P_12 = 0.02203\n",
            "P_13 = 0.00924\n",
            "P_14 = 0.00466\n",
            "\n",
            "Проверка результата. Сумма P_i = 1.0000200000000001\n",
            "\n",
            " значений в каждом интервале соответственно - [3, 3, 1, 3, 11, 7, 8, 5, 4, 2, 1, 1]\n",
            "\n",
            "X^2 набл =  19.44423328158813\n"
          ]
        }
      ]
    },
    {
      "cell_type": "markdown",
      "source": [
        "Критерий $\\mathcal{X}^{2}: \\mathcal{X}^{2}_{набл}=\\sum_{i=1}^{12}\\frac{(n_{i}-np_{i})^{2}}{np_{i}} = 19.44$\n",
        "\n",
        "$\\mathcal{X}^{2}_{N-1,1-\\alpha_{2}}=\\mathcal{X}^{2}_{11,0.95}\\sim 19.68$\n",
        "\n",
        "$\\mathcal{X}^{2} < \\mathcal{X}^{2}_{11.0.95}\\implies$ по критерию Пирсона мы принимаем гипотезу \\\\\n",
        "\n",
        "Из таблицы видим, что наибольшее значения уровня значимости $\\alpha_2$ при котором еще нет оснований отвергнуть данную гипотезу = все те же 0.95\n"
      ],
      "metadata": {
        "id": "cn9qFYiyHG0y"
      }
    },
    {
      "cell_type": "markdown",
      "source": [
        "## g) Построить критерий значимости  $\\mathcal{X^{2}}$ проверки сложной гипотезы согласия с нормальным распределением. Проверить гипотезу по уровню значимости $\\alpha_{2}$. Вычислить наибольшее значение уровня значимости, на котором ещё нет оснований отвергнуть данную гипотезу.\n"
      ],
      "metadata": {
        "id": "t88OI_ClDyER"
      }
    },
    {
      "cell_type": "markdown",
      "source": [
        "$P_{i}=P_{H_{0}}=(X\\in I_{i})=\\sum_{k\\in I_{i}}\\frac{1}{\\sqrt{2\\pi\\cdot S^{2}}}\\cdot exp\\left(-\\frac{(x-\\overline{X})^{2}}{2S^{2}}\\right)$\n",
        "\n",
        "$S^{2} = 24.9$\n",
        "\n",
        "$\\bar{X} = -1.01$"
      ],
      "metadata": {
        "id": "5JPzkeKJD9dj"
      }
    },
    {
      "cell_type": "code",
      "source": [
        "import scipy.stats as sps\n",
        "import numpy as np\n",
        "\n",
        "################################### Подготовка и разбитие на интервалы\n",
        "\n",
        "selection2 = [0.92, 3.42, -11.46, -2.47, -8.11, -2.73, 1.04, -4.40, 4.11, -8.00, -3.18, -1.62, -11.15, -2.35, 10.33, -2.01, -2.12, -2.26, 7.52, 2.22, -9.68, 8.20, -1.85, -2.13, 1.25, 0.94, 1.39, -1.06, -4.01, 1.80, 1.07, -0.05, 2.97, -0.45, 1.94, -10.57, -3.68, 4.10, 2.45, 5.02, -1.02, 6.32, -5.29, -2.80, 2.68, -1.44, 4.18, -9.33, -2.97, -6.53]\n",
        "selection2_sorted = np.sort(selection2)\n",
        "\n",
        "arr = [x for x in range(-12, 14, 2)] # массив интервалов\n",
        "binsToCalc = [[] for i in range(len(arr) - 1)]\n",
        "VALUES_in_binsToCalc = [[] for i in range(len(arr) - 1)]\n",
        "\n",
        "print('len(binsToCalc) -', len(binsToCalc))\n",
        "\n",
        "for i in range(len(arr) - 1):\n",
        "  binsToCalc[i] = [arr[i], arr[i + 1]]\n",
        "\n",
        "print('\\nbinsToCalc конкретно интервалы:\\n', binsToCalc)\n",
        "\n",
        "for i in range(len(selectionSorted2)):\n",
        "  for j in range(len(binsToCalc)):\n",
        "    if (binsToCalc[j][0] < selectionSorted2[i] < binsToCalc[j][1]):\n",
        "      VALUES_in_binsToCalc[j].append(selectionSorted2[i])\n",
        "\n",
        "print('\\nVALUES_in_binsToCalc:\\n', VALUES_in_binsToCalc, '\\n')\n",
        "\n",
        "for i in range(len(binsToCalc)):\n",
        "  print(f'интервал[{i}] - {binsToCalc[i]} имеет {len(VALUES_in_binsToCalc[i])} значений: {VALUES_in_binsToCalc[i]}')\n",
        "\n",
        "\n",
        "################################### Рассчет вероятностей и ХИ-квадрат\n",
        "\n",
        "def CuclSum(a0, sigma2):\n",
        "  n = 50\n",
        "  P_array = [0] * (len(arr) + 1)\n",
        "\n",
        "  #Вычисление P_i\n",
        "  P_array[0] = sps.norm.cdf(arr[0], a0, sigma2)\n",
        "\n",
        "  for i in range(1, len(arr)):\n",
        "    P_array[i] = sps.norm.cdf(arr[i], a0, sigma2) - sps.norm.cdf(arr[i - 1], a0, sigma2)\n",
        "  P_array[len(arr)] = 1 - sps.norm.cdf(arr[-1], a0, sigma2)\n",
        "  P_array = [round(elem, 5) for elem in P_array]\n",
        "\n",
        "  print()\n",
        "  for i in range(len(P_array)):\n",
        "    print(f'P_{i+1} = {P_array[i]}')\n",
        "  print()\n",
        "  print(\"Проверка результата. Сумма P_i =\", np.sum(P_array))\n",
        "\n",
        "  #Вычисление X^2\n",
        "  Summ = []\n",
        "\n",
        "  n_array = [len(VALUES_in_binsToCalc[i]) for i in range(len(VALUES_in_binsToCalc))]\n",
        "  print('\\n значений в каждом интервале соответственно -', n_array) #\n",
        "\n",
        "  for i in range(len(n_array)):\n",
        "    Summ.append( ((n_array[i] - n*P_array[i])**2) / (n*P_array[i]) )\n",
        "  print('\\nX^2 набл = ', np.sum(Summ))\n",
        "\n",
        "CuclSum(-1.01, 24.9)"
      ],
      "metadata": {
        "colab": {
          "base_uri": "https://localhost:8080/"
        },
        "id": "wUtfaT4cEpp0",
        "outputId": "d39e0306-5808-415f-834f-88010dbcce05"
      },
      "execution_count": null,
      "outputs": [
        {
          "output_type": "stream",
          "name": "stdout",
          "text": [
            "len(binsToCalc) - 12\n",
            "\n",
            "binsToCalc конкретно интервалы:\n",
            " [[-12, -10], [-10, -8], [-8, -6], [-6, -4], [-4, -2], [-2, 0], [0, 2], [2, 4], [4, 6], [6, 8], [8, 10], [10, 12]]\n",
            "\n",
            "VALUES_in_binsToCalc:\n",
            " [[-11.46, -11.15, -10.57], [-9.68, -9.33, -8.11], [-6.53], [-5.29, -4.4, -4.01], [-3.68, -3.18, -2.97, -2.8, -2.73, -2.47, -2.35, -2.26, -2.13, -2.12, -2.01], [-1.85, -1.62, -1.44, -1.06, -1.02, -0.45, -0.05], [0.92, 0.94, 1.04, 1.07, 1.25, 1.39, 1.8, 1.94], [2.22, 2.45, 2.68, 2.97, 3.42], [4.1, 4.11, 4.18, 5.02], [6.32, 7.52], [8.2], [10.33]] \n",
            "\n",
            "интервал[0] - [-12, -10] имеет 3 значений: [-11.46, -11.15, -10.57]\n",
            "интервал[1] - [-10, -8] имеет 3 значений: [-9.68, -9.33, -8.11]\n",
            "интервал[2] - [-8, -6] имеет 1 значений: [-6.53]\n",
            "интервал[3] - [-6, -4] имеет 3 значений: [-5.29, -4.4, -4.01]\n",
            "интервал[4] - [-4, -2] имеет 11 значений: [-3.68, -3.18, -2.97, -2.8, -2.73, -2.47, -2.35, -2.26, -2.13, -2.12, -2.01]\n",
            "интервал[5] - [-2, 0] имеет 7 значений: [-1.85, -1.62, -1.44, -1.06, -1.02, -0.45, -0.05]\n",
            "интервал[6] - [0, 2] имеет 8 значений: [0.92, 0.94, 1.04, 1.07, 1.25, 1.39, 1.8, 1.94]\n",
            "интервал[7] - [2, 4] имеет 5 значений: [2.22, 2.45, 2.68, 2.97, 3.42]\n",
            "интервал[8] - [4, 6] имеет 4 значений: [4.1, 4.11, 4.18, 5.02]\n",
            "интервал[9] - [6, 8] имеет 2 значений: [6.32, 7.52]\n",
            "интервал[10] - [8, 10] имеет 1 значений: [8.2]\n",
            "интервал[11] - [10, 12] имеет 1 значений: [10.33]\n",
            "\n",
            "P_1 = 0.32947\n",
            "P_2 = 0.02956\n",
            "P_3 = 0.03043\n",
            "P_4 = 0.03112\n",
            "P_5 = 0.03163\n",
            "P_6 = 0.03193\n",
            "P_7 = 0.03203\n",
            "P_8 = 0.03193\n",
            "P_9 = 0.03162\n",
            "P_10 = 0.03112\n",
            "P_11 = 0.03042\n",
            "P_12 = 0.02955\n",
            "P_13 = 0.02852\n",
            "P_14 = 0.30066\n",
            "\n",
            "Проверка результата. Сумма P_i = 0.9999899999999999\n",
            "\n",
            " значений в каждом интервале соответственно - [3, 3, 1, 3, 11, 7, 8, 5, 4, 2, 1, 1]\n",
            "\n",
            "X^2 набл =  125.46617357985915\n"
          ]
        }
      ]
    },
    {
      "cell_type": "markdown",
      "source": [
        "Критерий $\\mathcal{X}^{2}: \\mathcal{X}^{2}_{набл}=\\sum_{i=1}^{12}\\frac{(n_{i}-np_{i})^{2}}{np_{i}} = 125.47$\n",
        "\n",
        "$\\mathcal{X}^{2}_{N-1,1-\\alpha_{2}}=\\mathcal{X}^{2}_{11,0.95}\\sim 19.68$\n",
        "\n",
        "$\\mathcal{X}^{2} > \\mathcal{X}^{2}_{11,0.95}\\implies$ по критерию Пирсона мы отвергаем гипотезу \\\\\n",
        "\n"
      ],
      "metadata": {
        "id": "3FelIg34FXiw"
      }
    },
    {
      "cell_type": "markdown",
      "source": [
        "Найдем максимальный уровень значимости при котором еще можно принять гипотезу"
      ],
      "metadata": {
        "id": "Qu5Zh7jxHLXB"
      }
    },
    {
      "cell_type": "code",
      "source": [
        "import numpy as np\n",
        "from scipy.stats import kstest\n",
        "import matplotlib.pyplot as plt\n",
        "\n",
        "selection2 = [0.92, 3.42, -11.46, -2.47, -8.11, -2.73, 1.04, -4.40, 4.11, -8.00, -3.18, -1.62, -11.15, -2.35, 10.33, -2.01, -2.12, -2.26, 7.52, 2.22, -9.68, 8.20, -1.85, -2.13, 1.25, 0.94, 1.39, -1.06, -4.01, 1.80, 1.07, -0.05, 2.97, -0.45, 1.94, -10.57, -3.68, 4.10, 2.45, 5.02, -1.02, 6.32, -5.29, -2.80, 2.68, -1.44, 4.18, -9.33, -2.97, -6.53]\n",
        "\n",
        "alpha_2 = 0.05\n",
        "x_mean = np.mean(selection2) # подставили матожидание\n",
        "a0 = x_mean\n",
        "sigma0 = np.var(selection2, ddof=1) # подставили выборочную дисперсию\n",
        "\n",
        "alpha_tests = []\n",
        "\n",
        "ks_statistic, ks_p_value = kstest(selection2, 'norm', args=(a0, sigma0))\n",
        "alpha_2 = 0.05\n",
        "while ks_p_value >= alpha_2:\n",
        "    alpha_2 += 0.01\n",
        "    ks_statistic, ks_p_value = kstest(selection2, 'norm', alternative='less')\n",
        "alpha_test1 = alpha_2\n",
        "alpha_tests.append(alpha_test1)\n",
        "print(\"первый тест:\", alpha_test1)\n",
        "\n",
        "ks_statistic, ks_p_value = kstest(selection2, 'norm', args=(a0, sigma0))\n",
        "alpha_2 = 0.05\n",
        "while ks_p_value >= alpha_2:\n",
        "    alpha_2 += 0.001\n",
        "    ks_statistic, ks_p_value = kstest(selection2, 'norm', alternative='less')\n",
        "alpha_test2 = alpha_2\n",
        "alpha_tests.append(alpha_test2)\n",
        "print(\"второй тест:\", alpha_test2)\n",
        "\n",
        "ks_statistic, ks_p_value = kstest(selection2, 'norm', args=(a0, sigma0))\n",
        "alpha_2 = 0.05\n",
        "while ks_p_value >= alpha_2:\n",
        "    alpha_2 += 0.0001\n",
        "    ks_statistic, ks_p_value = kstest(selection2, 'norm', alternative='less')\n",
        "alpha_test3 = alpha_2\n",
        "alpha_tests.append(alpha_test3)\n",
        "print(\"третий тест:\", alpha_test3)\n",
        "\n",
        "\n",
        "print(\"Наибольший уровень значимости без отвержения гипотезы:\", round(np.min(alpha_tests), 3))"
      ],
      "metadata": {
        "colab": {
          "base_uri": "https://localhost:8080/"
        },
        "id": "vMHcY6P6HPwN",
        "outputId": "22d70ceb-4b85-4f31-b1d0-fe1d88da3210"
      },
      "execution_count": null,
      "outputs": [
        {
          "output_type": "stream",
          "name": "stdout",
          "text": [
            "первый тест: 0.05\n",
            "второй тест: 0.05\n",
            "третий тест: 0.05\n",
            "Наибольший уровень значимости без отвержения гипотезы: 0.05\n"
          ]
        }
      ]
    },
    {
      "cell_type": "markdown",
      "source": [
        "## h) Построить наиболее мощный критерий проверки простой гипотезы о нормальности с параметром $(a,\\sigma^{2})=(a_{0},\\sigma_{0}^{2})$ при альтернативе нормальности с параметром $(a,\\sigma^{2})=(a_{1},\\sigma_{1}^{2})$. Проверить гипотезу на уровне значимости $\\alpha_2$. Что получится, если поменять местами основную и альтернативную гипотезы?"
      ],
      "metadata": {
        "id": "xUL83aWbOSCy"
      }
    },
    {
      "cell_type": "markdown",
      "source": [
        "$\\alpha_2 = 0.05$ \\\\\n",
        "$\\mathcal{a}_0 = -1$ \\\\\n",
        "$\\mathcal{a}_1 = 15$ \\\\\n",
        "$\\sigma = \\sigma_0 = \\sigma_1 = 5$ \\\\\n",
        "\n",
        "Рассмотрим две гипотезы: \\\n",
        "$$\\begin{split}\n",
        "  & H_0: F(x)\\in N(a_0,\\sigma^2); - основная \\\\\n",
        "\\end{split}$$\n",
        "\n",
        "\n",
        "Функция правдоподобия \\\\\n",
        "$L(\\bar X,a)=(\\cfrac{1}{\\sqrt{2\\pi\\sigma^2}})^n\\cdot exp\\Biggl(-\\cfrac{1}{2\\sigma^2}\\sum_{i=1}^n(x_{(i)}-a)^2\\Biggr)$\n",
        "$LR(\\bar X)=\\cfrac{L(\\bar X,a_1)}{L(\\bar X,a_0)}=exp\\Biggl(\\cfrac{a_1-a_0}{\\sigma^2}(\\sum_{i=1}^n x_{(i)}-n\\cfrac{a_0+a_1}{2})\\Biggr)>c^{*}$ - $H_0$ принимается  \n",
        "$\\cfrac{a_1-a_0}{\\sigma^2}(\\sum_{i=1}^n x_{(i)}-n\\cfrac{a_0+a_1}{2})>\\ln c^{*}$  \n",
        "$\\sum_{i=1}^n x_{(i)}<\\cfrac{\\sigma^2}{a_1-a_0}+n\\cfrac{a_0+a_1}{2}=c^{*}$  \n",
        "$T(X_n)=\\sum_{i=1}^n x_{(i)}<c^{*}$  \n",
        "$\\alpha=P(T(X_n)<c^{*}|H_0)=1-\\Phi(c^{*};na_0,n\\sigma^2)=1-\\Phi\\Biggl(\\cfrac{c^{*}-na+0}{\\sqrt{n\\sigma^2}}\\Biggr) = 0.1$  \n",
        "$c^{*}=na_0+\\sqrt{n\\sigma^2}\\Phi^{-1}(1-\\alpha)$\n",
        "\n",
        "$$\\begin{split}\n",
        "  H_A:F(x)\\in N(a_1,\\sigma^2) - альтернативная \\\n",
        "\\end{split}$$\n",
        "\n",
        "Функция правдоподобия \\\\\n",
        "$L(\\bar X,a)=(\\cfrac{1}{\\sqrt{2\\pi\\sigma^2}})^n\\cdot exp\\Biggl(-\\cfrac{1}{2\\sigma^2}\\sum_{i=1}^n(x_{(i)}-a)^2\\Biggr)$\n",
        "$LR(\\bar X)=\\cfrac{L(\\bar X,a_1)}{L(\\bar X,a_0)}=exp\\Biggl(\\cfrac{a_1-a_0}{\\sigma^2}(\\sum_{i=1}^n x_{(i)}-n\\cfrac{a_0+a_1}{2})\\Biggr)<c$ - $H_A$ принимается  \n",
        "$\\cfrac{a_1-a_0}{\\sigma^2}(\\sum_{i=1}^n x_{(i)}-n\\cfrac{a_0+a_1}{2})<\\ln c$  \n",
        "$\\sum_{i=1}^n x_{(i)}<\\cfrac{\\sigma^2}{a_1-a_0}+n\\cfrac{a_0+a_1}{2}=c^{*}$  \n",
        "$T(X_n)=\\sum_{i=1}^n x_{(i)}>c^{*}$  \n",
        "$\\alpha=P(T(X_n)<c^{*}|H_A)=1-\\Phi(c^{*};na_0,n\\sigma^2)=1-\\Phi\\Biggl(\\cfrac{c^{*}-na+0}{\\sqrt{n\\sigma^2}}\\Biggr) = 0.1$  \n",
        "$c^{*}=na_0+\\sqrt{n\\sigma^2}\\Phi^{-1}(1-\\alpha)$\n",
        "\n",
        "Если поменять местами основную и альтернативную гипотезы, то вместо статистики отношения правдоподобия мы будем рассчитывать ее обратное значение. То есть, рассчитаем $LR(\\overrightarrow{X}, a_{1}, a_{0})$ и сравним его с критическим значением. В данном случае, так как $LR(\\overrightarrow{X}, a_{1}, a_{0})=1.0 < c = 2.28$, мы отвергаем гипотезу $H_{A}$"
      ],
      "metadata": {
        "id": "e9GBA2k_Pem8"
      }
    },
    {
      "cell_type": "code",
      "source": [
        "from scipy.stats import norm\n",
        "import numpy as np\n",
        "import math\n",
        "\n",
        "selection2 = [0.92, 3.42, -11.46, -2.47, -8.11, -2.73, 1.04, -4.40, 4.11, -8.00, -3.18, -1.62, -11.15, -2.35, 10.33, -2.01, -2.12, -2.26, 7.52, 2.22, -9.68, 8.20, -1.85, -2.13, 1.25, 0.94, 1.39, -1.06, -4.01, 1.80, 1.07, -0.05, 2.97, -0.45, 1.94, -10.57, -3.68, 4.10, 2.45, 5.02, -1.02, 6.32, -5.29, -2.80, 2.68, -1.44, 4.18, -9.33, -2.97, -6.53]\n",
        "selection2_sorted = np.sort(selection2)\n",
        "Summ = np.sum(selection2)\n",
        "print('Summ =', Summ)\n",
        "\n",
        "n = 50\n",
        "a0 = 3\n",
        "s0 = 1\n",
        "s1 = 1\n",
        "a1 = 1\n",
        "\n",
        "######## H_0\n",
        "\n",
        "print('\\n\\n######## H_0\\n')\n",
        "\n",
        "c = norm.ppf(0.90, loc=a0, scale=s0)\n",
        "c_1 = norm.ppf(0.90, loc=a1, scale=s1)\n",
        "\n",
        "print('c =', c)\n",
        "\n",
        "\n",
        "F__0_9 = 0.8159\n",
        "с_star = n * a0 + (n * s0**2)**0.5 * F__0_9\n",
        "print('c* =', с_star)\n",
        "\n",
        "\n",
        "LR = math.exp( (a1 - a0)/(s0**2) * (Summ - n*(a0 + a1)/2) )\n",
        "print('LR =', LR)\n",
        "\n",
        "######## H_1\n",
        "\n",
        "a0 = 1\n",
        "s0 = 3\n",
        "s1 = 1\n",
        "a1 = 1\n",
        "\n",
        "print('\\n\\n######## H_1\\n')\n",
        "\n",
        "\n",
        "print('c_1 =', c_1)\n",
        "\n",
        "\n",
        "F__0_9 = 0.8159\n",
        "с_star = n * a0 + (n * s0**2)**0.5 * F__0_9\n",
        "print('c* =', с_star)\n",
        "\n",
        "LR = math.exp( (a1 - a0)/(s0**2) * (Summ - n*(a0 + a1)/2) )\n",
        "print('LR =', LR)\n"
      ],
      "metadata": {
        "colab": {
          "base_uri": "https://localhost:8080/"
        },
        "id": "yBBE1dSS6by4",
        "outputId": "9b446661-1595-488c-b01f-7aaea9e93d92"
      },
      "execution_count": null,
      "outputs": [
        {
          "output_type": "stream",
          "name": "stdout",
          "text": [
            "Summ = -50.849999999999994\n",
            "\n",
            "\n",
            "######## H_0\n",
            "\n",
            "c = 4.2815515655446\n",
            "c* = 155.76928422770104\n",
            "LR = 1.0632739899852819e+131\n",
            "\n",
            "\n",
            "######## H_1\n",
            "\n",
            "c_1 = 2.2815515655446004\n",
            "c* = 67.30785268310312\n",
            "LR = 1.0\n"
          ]
        }
      ]
    },
    {
      "cell_type": "markdown",
      "source": [
        "## i) В пунктах (c)-(h) заменить семейство нормальных распределений на двухпараметрическое семейство распределений Лапласа с плотностями $p_{a,\\sigma}(x)=\\frac{1}{\\sqrt{2}\\sigma}exp\\left(-\\frac{\\sqrt{2}}{\\sigma}|x-a|\\right)$.\n"
      ],
      "metadata": {
        "id": "_MZk1NDARCqe"
      }
    },
    {
      "cell_type": "markdown",
      "source": [
        "## i.c) В предположении, что исходные наблюдения являются выборкой из двухпараметрического распределения Лапласа, построить ОМП и ОММ параметров $(a,\\sigma^{2})$. Найти смещение оценки."
      ],
      "metadata": {
        "id": "33B12uO5RK6X"
      }
    },
    {
      "cell_type": "markdown",
      "source": [
        "Расчёт ОМП\\\n",
        "$L(\\vec{X}, \\theta) = \\displaystyle \\prod_{i=1}^{n} \\frac{1}{\\sigma \\sqrt{2}} e^{(-\\frac{\\sqrt{2}}{\\sigma} |x-a|)} = (2 \\sigma^2)^{-\\frac{n}{2}} e^{(-\\frac{\\sqrt{2}}{\\sigma} \\displaystyle \\sum_{i=1}^{n} |x_i-a|)} $\n",
        "\n",
        "$LL(\\vec{X}, \\theta) = \\displaystyle -\\frac{n}{2} ln(2) - nln(\\sigma) -\\frac{\\sqrt{2}}{\\sigma} \\sum_{i=1}^{n} |x_i-a|$\n",
        "\n",
        "$ \\cfrac{\\partial LL(\\vec{X}, \\theta)}{\\partial a} = \\displaystyle  -\\frac{\\sqrt{2}}{\\sigma} \\sum_{i=1}^{n} sign(X_{(i)} - a) = 0$\n",
        "\n",
        "$ \\widehat{a} = z_{n, 0.5} = -1.25 $\n",
        "\n",
        "$ \\cfrac{ \\partial LL(\\vec{X}, \\theta)}{ \\partial \\sigma} = -\\frac{n}{\\sigma} + \\frac{\\sqrt{2}}{\\sigma^2} \\displaystyle \\sum_{i=1}^{n} |x_i-a| = 0$\n",
        "\n",
        "$\\widehat \\sigma = \\sqrt{2} \\cfrac{\\sum_{i=1}^{n} |x_i- z_{n, 0.5}|}{n} = 5.47$\n",
        "\n",
        "\n",
        "Расчёт ОММ для параметров а и $\\sigma^2$:   \n",
        "\n",
        "Теоретический момент первого порядка распределения: $\\mathbb{E}(X_1)=a$   \n",
        "\n",
        "Эмпирический момент первого порядка: $M_1=\\bar{x}=Z_{n,1/2}$  \n",
        "\n",
        "Теоретический момент второго порядка распределения: $\\mathbb{E}(X_2)=\\sigma^2$\n",
        "\n",
        "Эмпирический момент второго порядка: $M_2=\\bar {x^2}-\\bar x^2=\\cfrac{1}{n^2}\\sum_{i=1}^n|x_i-a|^2$  \n",
        "\n",
        "$\\widehat a=Z_{n,1/2}=-1.25$    \n",
        "\n",
        "$\\widehat\\sigma^2=(\\cfrac{1}{n}\\sum_{i=1}^n|x_{(i)}-Z_{n,1/2}|)^2=5.47$     \n",
        "\n",
        "$T=(\\sum_{i=1}^nx_i)$ - МДС и ПДС, так как распределение из семейства Лапласа относится к экспоненциальному семейству.  \n",
        "\n",
        "$\\mathbb{E}_\\theta(Z_{n,1/2})= a = -1.25 $ - НРМД    \n",
        "\n",
        "$\\mathbb{E}_\\theta(\\cfrac{1}{n}\\sum_{i=1}^n|x_{(i)}-Z_{n,1/2}|)^2)=\\sigma^2$ = 5.47 - НРМД   \n",
        "\n",
        "\\\n",
        "Расчёт смещенной оценки\\\n",
        "$ E \\hat{\\sigma^2} = E S^2 = E \\displaystyle \\sum_{i = 1}^{n} (X_i - \\bar{X})^2 = [ X_i - E_\\theta X_i = Y_i ] = $ \\\n",
        "\n",
        "$[ E_\\theta Y_i = 0 \\quad D_\\theta Y_i = \\sigma^2 ]$ \\\n",
        "\n",
        "$\\displaystyle = \\frac{1}{n} E_\\theta \\sum_{i = 1}^{n} (Y_i - \\bar{Y}) = \\frac{1}{n} $\n",
        "\n",
        "$ E\\bar {Y^2} = \\cfrac{1}{n} E_\\theta \\sum_{i=1}^{n} {(Y_i)^2} = \\sigma^2 $\n",
        "\n",
        "\n",
        "$E_\\theta (\\bar{Y} - (\\bar{Y})^2) = E \\bar{Y^2} - E(\\bar{Y})^2 $\\\n",
        "\n",
        "$ \\displaystyle E(\\bar{Y^2}) = \\frac{1}{n} E \\sum_{i=1}^{n} Y_i^2  = \\frac{1}{n} \\sum_{i=1}^{n} EY_i^2 = \\sigma^2 $\\\n",
        "\n",
        "$ \\displaystyle E(\\bar{Y})^2 = \\frac{1}{n^2} E( \\sum_{i=1}^{n} Y_i )^2 = \\frac{1}{n} \\sum_{i=1}^{n} \\sum_{j=1}^{n}EY_i Y_j$\\\n",
        "\n",
        "$ EY_i Y_j = \\begin{cases} \\sigma^2 \\quad i=j \\\\ 0 \\quad i \\neq j \\end{cases} $\\\n",
        "$ \\displaystyle E_\\theta S^2 = \\sigma^2 - \\frac{\\sigma^2}{n} = \\frac{n - 1}{n} \\sigma^2$\\\n",
        "\n",
        "Смещённая оценка\n",
        "\n",
        "$ S' = \\sqrt{\\frac{n}{n - 1} S^2 }$\n"
      ],
      "metadata": {
        "id": "V5CYzjBvfYLq"
      }
    },
    {
      "cell_type": "code",
      "source": [
        "import scipy.stats as sps\n",
        "import numpy as np\n",
        "import math\n",
        "\n",
        "n=50\n",
        "selection2 = [0.92, 3.42, -11.46, -2.47, -8.11, -2.73, 1.04, -4.40, 4.11, -8.00, -3.18, -1.62, -11.15, -2.35, 10.33, -2.01, -2.12, -2.26, 7.52, 2.22, -9.68, 8.20, -1.85, -2.13, 1.25, 0.94, 1.39, -1.06, -4.01, 1.80, 1.07, -0.05, 2.97, -0.45, 1.94, -10.57, -3.68, 4.10, 2.45, 5.02, -1.02, 6.32, -5.29, -2.80, 2.68, -1.44, 4.18, -9.33, -2.97, -6.53]\n",
        "z_n = -1.25\n",
        "\n",
        "def SummDifference():\n",
        "  sum = 0\n",
        "  for i in range(n):\n",
        "    sum += abs(selection2[i] - z_n)\n",
        "  return sum\n",
        "\n",
        "def result():\n",
        "  return (2**0.5 * ((SummDifference())/n))\n",
        "\n",
        "res = result()\n",
        "\n",
        "print('sigma_kolpak', res)"
      ],
      "metadata": {
        "colab": {
          "base_uri": "https://localhost:8080/"
        },
        "id": "tQ7vqPjVIQsS",
        "outputId": "462847bf-8461-4876-a522-8c05f9010469"
      },
      "execution_count": null,
      "outputs": [
        {
          "output_type": "stream",
          "name": "stdout",
          "text": [
            "sigma_kolpak 5.471026587396555\n"
          ]
        }
      ]
    },
    {
      "cell_type": "markdown",
      "source": [
        "## i.d) Построить доверительные интервалы уровня значимости $\\alpha_2$ для параметров $(a,\\sigma^{2})$."
      ],
      "metadata": {
        "id": "0O4h3-79x8Ch"
      }
    },
    {
      "cell_type": "markdown",
      "source": [
        "Для $a:$\n",
        "\n",
        "$ G(\\vec{X}, a) = \\sqrt{n - 1} \\frac{\\bar{X} - a}{S} \\sim S_{n - 1} $\\\n",
        "$ \\mathbb{P}_a \\left( \\sqrt{n - 1} \\frac{\\bar{X} - a}{S} \\in [-x_\\alpha; x_\\alpha] \\right) = 1 - \\alpha_2 $\\\n",
        "$ x_\\alpha : S_{n - 1}(x_\\alpha) = S_{49}(x_\\alpha) = 1 - \\frac{\\alpha_2}{2} = 0.975  $\n",
        "\n",
        "$ \\displaystyle a \\in \\left[  \\bar{X} - \\frac{x_\\alpha S}{\\sqrt{n-  1}}; \\bar{X} + \\frac{x_\\alpha S}{\\sqrt{n-  1}} \\right] = [-8.166; 6.132]$\n"
      ],
      "metadata": {
        "id": "ORRkjymryFXj"
      }
    },
    {
      "cell_type": "code",
      "source": [
        "import scipy.stats as sps\n",
        "import numpy as np\n",
        "\n",
        "selection2 = [0.92, 3.42, -11.46, -2.47, -8.11, -2.73, 1.04, -4.40, 4.11, -8.00, -3.18, -1.62, -11.15, -2.35, 10.33, -2.01, -2.12, -2.26, 7.52, 2.22, -9.68, 8.20, -1.85, -2.13, 1.25, 0.94, 1.39, -1.06, -4.01, 1.80, 1.07, -0.05, 2.97, -0.45, 1.94, -10.57, -3.68, 4.10, 2.45, 5.02, -1.02, 6.32, -5.29, -2.80, 2.68, -1.44, 4.18, -9.33, -2.97, -6.53]\n",
        "n = len(selection2)\n",
        "fx = 0.975\n",
        "x_mean = np.mean(selection2)\n",
        "x_a = sps.t.ppf(fx, 49)\n",
        "S = np.var(selection2, ddof=1)\n",
        "\n",
        "print(\"Квантиль x_a =\", round(x_a, 4))\n",
        "\n",
        "left_edge = x_mean - (x_a*S)/(((n - 1))**0.5)\n",
        "right_edge = x_mean + (x_a*S)/(((n - 1))**0.5)\n",
        "\n",
        "print(f'доаверительный интервал для a: [{left_edge}; {right_edge}]' )"
      ],
      "metadata": {
        "colab": {
          "base_uri": "https://localhost:8080/"
        },
        "id": "zSArPOuSydEB",
        "outputId": "490f8f93-f8c3-4fdf-f01d-1b839038aeb4"
      },
      "execution_count": null,
      "outputs": [
        {
          "output_type": "stream",
          "name": "stdout",
          "text": [
            "Квантиль x_a = 2.0096\n",
            "доаверительный интервал: [-8.166022592014883; 6.1320225920148825]\n"
          ]
        }
      ]
    },
    {
      "cell_type": "markdown",
      "source": [
        "Для $\\sigma^{2}:$\n",
        "\n",
        "$ \\displaystyle G(\\vec{X}, \\sigma^2) = \\frac{nS^2}{\\sigma^2} \\sim \\chi^2_{n - 1}$\n",
        "\n",
        "$ \\mathbb{P}_{\\sigma^2} \\left( \\frac{nS^2}{\\sigma^2} \\in [-x_\\alpha; x_\\alpha] \\right) = 1 - \\alpha_2 $\n",
        "\n",
        "$ x_{1\\alpha} : \\mathcal{K}_{n - 1}(x_{1\\alpha}) = \\mathcal{K}_{49}(x_{1\\alpha}) = \\frac{\\alpha_2}{2} = 0.025 $\n",
        "\n",
        "$ x_{2\\alpha} : \\mathcal{K}_{n - 1}(x_{2\\alpha}) = \\mathcal{K}_{49}(x_{2\\alpha}) = 1 - \\frac{\\alpha_2}{2} = 0.975 $\n",
        "\n",
        "$ \\displaystyle \\sigma^2 \\in \\left[  \\frac{n S^2}{x_{2\\alpha}}; \\frac{n S^2}{x_{1\\alpha}} \\right] = [441.545; 982.616]$\n"
      ],
      "metadata": {
        "id": "CIKAZwx4M_pO"
      }
    },
    {
      "cell_type": "code",
      "source": [
        "import scipy.stats as sps\n",
        "import numpy as np\n",
        "\n",
        "selection2 = [0.92, 3.42, -11.46, -2.47, -8.11, -2.73, 1.04, -4.40, 4.11, -8.00, -3.18, -1.62, -11.15, -2.35, 10.33, -2.01, -2.12, -2.26, 7.52, 2.22, -9.68, 8.20, -1.85, -2.13, 1.25, 0.94, 1.39, -1.06, -4.01, 1.80, 1.07, -0.05, 2.97, -0.45, 1.94, -10.57, -3.68, 4.10, 2.45, 5.02, -1.02, 6.32, -5.29, -2.80, 2.68, -1.44, 4.18, -9.33, -2.97, -6.53]\n",
        "n = len(selection2)\n",
        "S = np.var(selection2, ddof=1)\n",
        "\n",
        "x_1a = sps.chi2.ppf(0.025, 49)\n",
        "x_2a = sps.chi2.ppf(0.975, 49)\n",
        "\n",
        "\n",
        "print(\"Квантиль x_1a =\", round(x_1a, 3), \"Квантиль x_2a =\", round(x_2a, 3))\n",
        "\n",
        "left_edge = n * S**2 / x_2a\n",
        "right_edge = n * S**2 / x_1a\n",
        "\n",
        "print(f'доаверительный интервал для sigma: [{left_edge}; {right_edge}]' )"
      ],
      "metadata": {
        "colab": {
          "base_uri": "https://localhost:8080/"
        },
        "id": "nzI3UjseOB57",
        "outputId": "a83edae7-ea6c-45ee-ed7a-c3fe346097c4"
      },
      "execution_count": null,
      "outputs": [
        {
          "output_type": "stream",
          "name": "stdout",
          "text": [
            "Квантиль x_1a = 31.555 Квантиль x_2a = 70.222\n",
            "доаверительный интервал для sigma: [441.5451626869783; 982.6160389030812]\n"
          ]
        }
      ]
    },
    {
      "cell_type": "markdown",
      "source": [
        "## i.e) С использованием теоремы Колмогорова построить критерий значимости проверки простой гипотезы согласия с двухпараметрическим распределением Лапласа с параметрами  $(a_{0},\\sigma_{0}^{2})$. Проверить гипотезу на уровне значимости  α2 . Вычислить наибольшее значение уровня значимости, на котором еще нет оснований отвергнуть данную гипотезу."
      ],
      "metadata": {
        "id": "3sarFXXiSdiC"
      }
    },
    {
      "cell_type": "code",
      "source": [
        "import numpy as np\n",
        "import scipy.stats as sp\n",
        "\n",
        "selection2 = [0.92, 3.42, -11.46, -2.47, -8.11, -2.73, 1.04, -4.40, 4.11, -8.00, -3.18, -1.62, -11.15, -2.35, 10.33, -2.01, -2.12, -2.26, 7.52, 2.22, -9.68, 8.20, -1.85, -2.13, 1.25, 0.94, 1.39, -1.06, -4.01, 1.80, 1.07, -0.05, 2.97, -0.45, 1.94, -10.57, -3.68, 4.10, 2.45, 5.02, -1.02, 6.32, -5.29, -2.80, 2.68, -1.44, 4.18, -9.33, -2.97, -6.53]\n",
        "selection2_sorted = np.sort(selection2)\n",
        "alpha_2 = 0.05\n",
        "a0 = -1.0\n",
        "sigma0 = 5.0\n",
        "\n",
        "sp.kstest(selection2_sorted, 'laplace', args = (a0, sigma0))"
      ],
      "metadata": {
        "colab": {
          "base_uri": "https://localhost:8080/"
        },
        "id": "DdN86x1yFfCn",
        "outputId": "9859c03a-0864-431a-fe43-9631cae22efd"
      },
      "execution_count": 6,
      "outputs": [
        {
          "output_type": "execute_result",
          "data": {
            "text/plain": [
              "KstestResult(statistic=0.08330886296771983, pvalue=0.8498843267508585, statistic_location=-3.18, statistic_sign=-1)"
            ]
          },
          "metadata": {},
          "execution_count": 6
        }
      ]
    },
    {
      "cell_type": "markdown",
      "source": [
        "Функция kstest позволяет выполнить выполнить тест Колмогорова-Смирнова для проверки того, является ли распределение нормальным.\n",
        "Т.к. значене p-value > $\\alpha_2$, то делаем вывод о принятии гипотезы."
      ],
      "metadata": {
        "id": "WZMauTu2J-tF"
      }
    },
    {
      "cell_type": "code",
      "source": [
        "import numpy as np\n",
        "from scipy.stats import kstest\n",
        "import matplotlib.pyplot as plt\n",
        "\n",
        "selection2 = [0.92, 3.42, -11.46, -2.47, -8.11, -2.73, 1.04, -4.40, 4.11, -8.00, -3.18, -1.62, -11.15, -2.35, 10.33, -2.01, -2.12, -2.26, 7.52, 2.22, -9.68, 8.20, -1.85, -2.13, 1.25, 0.94, 1.39, -1.06, -4.01, 1.80, 1.07, -0.05, 2.97, -0.45, 1.94, -10.57, -3.68, 4.10, 2.45, 5.02, -1.02, 6.32, -5.29, -2.80, 2.68, -1.44, 4.18, -9.33, -2.97, -6.53]\n",
        "\n",
        "alpha_2 = 0.05\n",
        "a0 = -1.0\n",
        "sigma0 = 5.0\n",
        "\n",
        "alpha_tests = []\n",
        "\n",
        "ks_statistic, ks_p_value = kstest(selection2_sorted, 'laplace', args = (a0, sigma0))\n",
        "alpha_2 = 0.05\n",
        "while ks_p_value >= alpha_2:\n",
        "    alpha_2 += 0.01\n",
        "    ks_statistic, ks_p_value = kstest(selection2_sorted, 'laplace', args = (a0, sigma0))\n",
        "alpha_test1 = alpha_2\n",
        "alpha_tests.append(alpha_test1)\n",
        "print(\"первый тест:\", alpha_test1)\n",
        "\n",
        "ks_statistic, ks_p_value = kstest(selection2_sorted, 'laplace', args = (a0, sigma0))\n",
        "alpha_2 = 0.05\n",
        "while ks_p_value >= alpha_2:\n",
        "    alpha_2 += 0.001\n",
        "    ks_statistic, ks_p_value = kstest(selection2_sorted, 'laplace', args = (a0, sigma0))\n",
        "alpha_test2 = alpha_2\n",
        "alpha_tests.append(alpha_test2)\n",
        "print(\"второй тест:\", alpha_test2)\n",
        "\n",
        "ks_statistic, ks_p_value = kstest(selection2_sorted, 'laplace', args = (a0, sigma0))\n",
        "alpha_2 = 0.05\n",
        "while ks_p_value >= alpha_2:\n",
        "    alpha_2 += 0.0001\n",
        "    ks_statistic, ks_p_value = kstest(selection2_sorted, 'laplace', args = (a0, sigma0))\n",
        "alpha_test3 = alpha_2\n",
        "alpha_tests.append(alpha_test3)\n",
        "print(\"третий тест:\", alpha_test3)\n",
        "\n",
        "\n",
        "print(\"Наибольший уровень значимости без отвержения гипотезы:\", round(np.min(alpha_tests), 3))"
      ],
      "metadata": {
        "colab": {
          "base_uri": "https://localhost:8080/"
        },
        "id": "nF9KfikmKKnK",
        "outputId": "58bf6aed-29cc-4634-8a01-b6ae04271178"
      },
      "execution_count": 7,
      "outputs": [
        {
          "output_type": "stream",
          "name": "stdout",
          "text": [
            "первый тест: 0.8500000000000005\n",
            "второй тест: 0.8500000000000006\n",
            "третий тест: 0.8498999999999224\n",
            "Наибольший уровень значимости без отвержения гипотезы: 0.85\n"
          ]
        }
      ]
    },
    {
      "cell_type": "markdown",
      "source": [
        "## i.f) Используя гистограмму частот, построить критерий значимости $\\mathcal{X^{2}}$ проверки простой гипотезы согласия с семейством двухпараметрических распределений Лапласа $(a_{0},\\sigma_{0}^{2})$. Проверить гипотезу на урокень значимости $\\alpha_{2}$. Вычислить наибольшее значение уровня значимости, на котором ещё нет оснований отвергнуть данную гипотезу."
      ],
      "metadata": {
        "id": "6lePN61OMP-l"
      }
    },
    {
      "cell_type": "markdown",
      "source": [
        "$P_{i}=P_{H_{0}}=(X\\in I_{i})=\\sum_{k\\in I_{i}}\\frac{1}{\\sqrt{2}\\sigma}exp\\left(-\\frac{\\sqrt{2}}{\\sigma}|x-a|\\right)$"
      ],
      "metadata": {
        "id": "0G2BIbopMVvb"
      }
    },
    {
      "cell_type": "code",
      "source": [
        "import scipy.stats as sps\n",
        "import numpy as np\n",
        "\n",
        "################################### Подготовка и разбитие на интервалы\n",
        "\n",
        "selection2 = [0.92, 3.42, -11.46, -2.47, -8.11, -2.73, 1.04, -4.40, 4.11, -8.00, -3.18, -1.62, -11.15, -2.35, 10.33, -2.01, -2.12, -2.26, 7.52, 2.22, -9.68, 8.20, -1.85, -2.13, 1.25, 0.94, 1.39, -1.06, -4.01, 1.80, 1.07, -0.05, 2.97, -0.45, 1.94, -10.57, -3.68, 4.10, 2.45, 5.02, -1.02, 6.32, -5.29, -2.80, 2.68, -1.44, 4.18, -9.33, -2.97, -6.53]\n",
        "selection2_sorted = np.sort(selection2)\n",
        "\n",
        "arr = [x for x in range(-12, 14, 2)]  # массив интервалов\n",
        "binsToCalc = [[] for i in range(len(arr) - 1)]\n",
        "VALUES_in_binsToCalc = [[] for i in range(len(arr) - 1)]\n",
        "\n",
        "print('len(binsToCalc) -', len(binsToCalc))\n",
        "\n",
        "for i in range(len(arr) - 1):\n",
        "    binsToCalc[i] = [arr[i], arr[i + 1]]\n",
        "\n",
        "print('\\nbinsToCalc конкретно интервалы:\\n', binsToCalc)\n",
        "\n",
        "for i in range(len(selection2_sorted)):\n",
        "    for j in range(len(binsToCalc)):\n",
        "        if binsToCalc[j][0] < selection2_sorted[i] < binsToCalc[j][1]:\n",
        "            VALUES_in_binsToCalc[j].append(selection2_sorted[i])\n",
        "\n",
        "print('\\nVALUES_in_binsToCalc:\\n', VALUES_in_binsToCalc, '\\n')\n",
        "\n",
        "for i in range(len(binsToCalc)):\n",
        "    print(f'интервал[{i}] - {binsToCalc[i]} имеет {len(VALUES_in_binsToCalc[i])} значений: {VALUES_in_binsToCalc[i]}')\n",
        "\n",
        "\n",
        "################################### Рассчет вероятностей и ХИ-квадрат\n",
        "\n",
        "def CuclSum(a0, sigma2):\n",
        "    n = 50\n",
        "    P_array = [0] * (len(arr) + 1)\n",
        "\n",
        "    # Вычисление P_i\n",
        "    P_array[0] = sps.laplace.cdf(arr[0], a0, sigma2)\n",
        "\n",
        "    for i in range(1, len(arr)):\n",
        "        P_array[i] = sps.laplace.cdf(arr[i], a0, sigma2) - sps.laplace.cdf(arr[i - 1], a0, sigma2)\n",
        "    P_array[len(arr)] = 1 - sps.laplace.cdf(arr[-1], a0, sigma2)\n",
        "    P_array = [round(elem, 5) for elem in P_array]\n",
        "\n",
        "    print()\n",
        "    for i in range(len(P_array)):\n",
        "        print(f'P_{i+1} = {P_array[i]}')\n",
        "    print()\n",
        "    print(\"Проверка результата. Сумма P_i =\", np.sum(P_array))\n",
        "\n",
        "    # Вычисление X^2\n",
        "    Summ = []\n",
        "\n",
        "    n_array = [len(VALUES_in_binsToCalc[i]) for i in range(len(VALUES_in_binsToCalc))]\n",
        "    print('\\n значений в каждом интервале соответственно -', n_array)  #\n",
        "\n",
        "    for i in range(len(n_array)):\n",
        "        Summ.append(((n_array[i] - n * P_array[i]) ** 2) / (n * P_array[i]))\n",
        "    print('\\nX^2 набл = ', np.sum(Summ))\n",
        "\n",
        "\n",
        "CuclSum(-1, 5)\n"
      ],
      "metadata": {
        "colab": {
          "base_uri": "https://localhost:8080/"
        },
        "id": "f2m2spIyMWV9",
        "outputId": "78080c97-1789-48f8-b8b2-1f5b21737201"
      },
      "execution_count": 8,
      "outputs": [
        {
          "output_type": "stream",
          "name": "stdout",
          "text": [
            "len(binsToCalc) - 12\n",
            "\n",
            "binsToCalc конкретно интервалы:\n",
            " [[-12, -10], [-10, -8], [-8, -6], [-6, -4], [-4, -2], [-2, 0], [0, 2], [2, 4], [4, 6], [6, 8], [8, 10], [10, 12]]\n",
            "\n",
            "VALUES_in_binsToCalc:\n",
            " [[-11.46, -11.15, -10.57], [-9.68, -9.33, -8.11], [-6.53], [-5.29, -4.4, -4.01], [-3.68, -3.18, -2.97, -2.8, -2.73, -2.47, -2.35, -2.26, -2.13, -2.12, -2.01], [-1.85, -1.62, -1.44, -1.06, -1.02, -0.45, -0.05], [0.92, 0.94, 1.04, 1.07, 1.25, 1.39, 1.8, 1.94], [2.22, 2.45, 2.68, 2.97, 3.42], [4.1, 4.11, 4.18, 5.02], [6.32, 7.52], [8.2], [10.33]] \n",
            "\n",
            "интервал[0] - [-12, -10] имеет 3 значений: [-11.46, -11.15, -10.57]\n",
            "интервал[1] - [-10, -8] имеет 3 значений: [-9.68, -9.33, -8.11]\n",
            "интервал[2] - [-8, -6] имеет 1 значений: [-6.53]\n",
            "интервал[3] - [-6, -4] имеет 3 значений: [-5.29, -4.4, -4.01]\n",
            "интервал[4] - [-4, -2] имеет 11 значений: [-3.68, -3.18, -2.97, -2.8, -2.73, -2.47, -2.35, -2.26, -2.13, -2.12, -2.01]\n",
            "интервал[5] - [-2, 0] имеет 7 значений: [-1.85, -1.62, -1.44, -1.06, -1.02, -0.45, -0.05]\n",
            "интервал[6] - [0, 2] имеет 8 значений: [0.92, 0.94, 1.04, 1.07, 1.25, 1.39, 1.8, 1.94]\n",
            "интервал[7] - [2, 4] имеет 5 значений: [2.22, 2.45, 2.68, 2.97, 3.42]\n",
            "интервал[8] - [4, 6] имеет 4 значений: [4.1, 4.11, 4.18, 5.02]\n",
            "интервал[9] - [6, 8] имеет 2 значений: [6.32, 7.52]\n",
            "интервал[10] - [8, 10] имеет 1 значений: [8.2]\n",
            "интервал[11] - [10, 12] имеет 1 значений: [10.33]\n",
            "\n",
            "P_1 = 0.0554\n",
            "P_2 = 0.02725\n",
            "P_3 = 0.04065\n",
            "P_4 = 0.06064\n",
            "P_5 = 0.09047\n",
            "P_6 = 0.13496\n",
            "P_7 = 0.18127\n",
            "P_8 = 0.13496\n",
            "P_9 = 0.09047\n",
            "P_10 = 0.06064\n",
            "P_11 = 0.04065\n",
            "P_12 = 0.02725\n",
            "P_13 = 0.01826\n",
            "P_14 = 0.03714\n",
            "\n",
            "Проверка результата. Сумма P_i = 1.00001\n",
            "\n",
            " значений в каждом интервале соответственно - [3, 3, 1, 3, 11, 7, 8, 5, 4, 2, 1, 1]\n",
            "\n",
            "X^2 набл =  13.404440544298028\n"
          ]
        }
      ]
    },
    {
      "cell_type": "markdown",
      "source": [
        "Критерий $\\mathcal{X}^{2}: \\mathcal{X}^{2}_{набл}=\\sum_{i=1}^{12}\\frac{(n_{i}-np_{i})^{2}}{np_{i}} = 13.4$\n",
        "\n",
        "$\\mathcal{X}^{2}_{N-1,1-\\alpha_{2}}=\\mathcal{X}^{2}_{11,0.95}\\sim 19.68$\n",
        "\n",
        "$\\mathcal{X}^{2} < \\mathcal{X}^{2}_{11.0.95}\\implies$ по критерию Пирсона мы принимаем гипотезу \\\\\n",
        "\n",
        "Из таблицы видим, что наибольшее значения уровня значимости $\\alpha_2$ при котором еще нет оснований отвергнуть данную гипотезу = 0.8\n"
      ],
      "metadata": {
        "id": "ltl2GNCzNuGl"
      }
    },
    {
      "cell_type": "markdown",
      "source": [
        "## i.g) Построить критерий значимости  $\\mathcal{X^{2}}$ проверки сложной гипотезы согласия с двухпараметрическим семейством распределений Лапласа. Проверить гипотезу по уровню значимости $\\alpha_{2}$.Вычислить наибольшее значение уровня значимости, на котором ещё нет оснований отвергнуть данную гипотезу."
      ],
      "metadata": {
        "id": "BGHNRwEkOUdP"
      }
    },
    {
      "cell_type": "markdown",
      "source": [
        "$P_{i}=P_{H_{0}}=(X\\in I_{i})=\\sum_{k\\in I_{i}}\\frac{1}{\\sqrt{2}S^{2}}exp\\left(-\\frac{\\sqrt{2}}{\\sqrt{S^{2}}}|x-\\overline{X}|\\right)$"
      ],
      "metadata": {
        "id": "NF6avHouOdqW"
      }
    },
    {
      "cell_type": "code",
      "source": [
        "import scipy.stats as sps\n",
        "import numpy as np\n",
        "\n",
        "################################### Подготовка и разбитие на интервалы\n",
        "\n",
        "selection2 = [0.92, 3.42, -11.46, -2.47, -8.11, -2.73, 1.04, -4.40, 4.11, -8.00, -3.18, -1.62, -11.15, -2.35, 10.33, -2.01, -2.12, -2.26, 7.52, 2.22, -9.68, 8.20, -1.85, -2.13, 1.25, 0.94, 1.39, -1.06, -4.01, 1.80, 1.07, -0.05, 2.97, -0.45, 1.94, -10.57, -3.68, 4.10, 2.45, 5.02, -1.02, 6.32, -5.29, -2.80, 2.68, -1.44, 4.18, -9.33, -2.97, -6.53]\n",
        "selection2_sorted = np.sort(selection2)\n",
        "\n",
        "arr = [x for x in range(-12, 14, 2)]  # массив интервалов\n",
        "binsToCalc = [[] for i in range(len(arr) - 1)]\n",
        "VALUES_in_binsToCalc = [[] for i in range(len(arr) - 1)]\n",
        "\n",
        "print('len(binsToCalc) -', len(binsToCalc))\n",
        "\n",
        "for i in range(len(arr) - 1):\n",
        "    binsToCalc[i] = [arr[i], arr[i + 1]]\n",
        "\n",
        "print('\\nbinsToCalc конкретно интервалы:\\n', binsToCalc)\n",
        "\n",
        "for i in range(len(selection2_sorted)):\n",
        "    for j in range(len(binsToCalc)):\n",
        "        if binsToCalc[j][0] < selection2_sorted[i] < binsToCalc[j][1]:\n",
        "            VALUES_in_binsToCalc[j].append(selection2_sorted[i])\n",
        "\n",
        "print('\\nVALUES_in_binsToCalc:\\n', VALUES_in_binsToCalc, '\\n')\n",
        "\n",
        "for i in range(len(binsToCalc)):\n",
        "    print(f'интервал[{i}] - {binsToCalc[i]} имеет {len(VALUES_in_binsToCalc[i])} значений: {VALUES_in_binsToCalc[i]}')\n",
        "\n",
        "\n",
        "################################### Рассчет вероятностей и ХИ-квадрат\n",
        "\n",
        "def CuclSum(a0, scale):\n",
        "    n = 50\n",
        "    P_array = [0] * (len(arr) + 1)\n",
        "\n",
        "    # Вычисление P_i\n",
        "    P_array[0] = sps.laplace.cdf(arr[0], loc=a0, scale=scale)\n",
        "\n",
        "    for i in range(1, len(arr)):\n",
        "        P_array[i] = sps.laplace.cdf(arr[i], loc=a0, scale=scale) - sps.laplace.cdf(arr[i - 1], loc=a0, scale=scale)\n",
        "    P_array[len(arr)] = 1 - sps.laplace.cdf(arr[-1], loc=a0, scale=scale)\n",
        "    P_array = [round(elem, 5) for elem in P_array]\n",
        "\n",
        "    print()\n",
        "    for i in range(len(P_array)):\n",
        "        print(f'P_{i + 1} = {P_array[i]}')\n",
        "    print()\n",
        "    print(\"Проверка результата. Сумма P_i =\", np.sum(P_array))\n",
        "\n",
        "    # Вычисление X^2\n",
        "    Summ = []\n",
        "\n",
        "    n_array = [len(VALUES_in_binsToCalc[i]) for i in range(len(VALUES_in_binsToCalc))]\n",
        "    print('\\n значений в каждом интервале соответственно -', n_array)  #\n",
        "\n",
        "    for i in range(len(n_array)):\n",
        "        Summ.append(((n_array[i] - n * P_array[i]) ** 2) / (n * P_array[i]))\n",
        "    print('\\nX^2 набл = ', np.sum(Summ))\n",
        "\n",
        "\n",
        "CuclSum(-1.01, 24.9)\n"
      ],
      "metadata": {
        "colab": {
          "base_uri": "https://localhost:8080/"
        },
        "id": "mCoL_nnlOw6c",
        "outputId": "3d9139c0-379c-4c09-a928-46fdfb6aaa8a"
      },
      "execution_count": 9,
      "outputs": [
        {
          "output_type": "stream",
          "name": "stdout",
          "text": [
            "len(binsToCalc) - 12\n",
            "\n",
            "binsToCalc конкретно интервалы:\n",
            " [[-12, -10], [-10, -8], [-8, -6], [-6, -4], [-4, -2], [-2, 0], [0, 2], [2, 4], [4, 6], [6, 8], [8, 10], [10, 12]]\n",
            "\n",
            "VALUES_in_binsToCalc:\n",
            " [[-11.46, -11.15, -10.57], [-9.68, -9.33, -8.11], [-6.53], [-5.29, -4.4, -4.01], [-3.68, -3.18, -2.97, -2.8, -2.73, -2.47, -2.35, -2.26, -2.13, -2.12, -2.01], [-1.85, -1.62, -1.44, -1.06, -1.02, -0.45, -0.05], [0.92, 0.94, 1.04, 1.07, 1.25, 1.39, 1.8, 1.94], [2.22, 2.45, 2.68, 2.97, 3.42], [4.1, 4.11, 4.18, 5.02], [6.32, 7.52], [8.2], [10.33]] \n",
            "\n",
            "интервал[0] - [-12, -10] имеет 3 значений: [-11.46, -11.15, -10.57]\n",
            "интервал[1] - [-10, -8] имеет 3 значений: [-9.68, -9.33, -8.11]\n",
            "интервал[2] - [-8, -6] имеет 1 значений: [-6.53]\n",
            "интервал[3] - [-6, -4] имеет 3 значений: [-5.29, -4.4, -4.01]\n",
            "интервал[4] - [-4, -2] имеет 11 значений: [-3.68, -3.18, -2.97, -2.8, -2.73, -2.47, -2.35, -2.26, -2.13, -2.12, -2.01]\n",
            "интервал[5] - [-2, 0] имеет 7 значений: [-1.85, -1.62, -1.44, -1.06, -1.02, -0.45, -0.05]\n",
            "интервал[6] - [0, 2] имеет 8 значений: [0.92, 0.94, 1.04, 1.07, 1.25, 1.39, 1.8, 1.94]\n",
            "интервал[7] - [2, 4] имеет 5 значений: [2.22, 2.45, 2.68, 2.97, 3.42]\n",
            "интервал[8] - [4, 6] имеет 4 значений: [4.1, 4.11, 4.18, 5.02]\n",
            "интервал[9] - [6, 8] имеет 2 значений: [6.32, 7.52]\n",
            "интервал[10] - [8, 10] имеет 1 значений: [8.2]\n",
            "интервал[11] - [10, 12] имеет 1 значений: [10.33]\n",
            "\n",
            "P_1 = 0.32158\n",
            "P_2 = 0.0269\n",
            "P_3 = 0.02914\n",
            "P_4 = 0.03158\n",
            "P_5 = 0.03422\n",
            "P_6 = 0.03709\n",
            "P_7 = 0.03936\n",
            "P_8 = 0.03706\n",
            "P_9 = 0.0342\n",
            "P_10 = 0.03156\n",
            "P_11 = 0.02912\n",
            "P_12 = 0.02687\n",
            "P_13 = 0.0248\n",
            "P_14 = 0.29652\n",
            "\n",
            "Проверка результата. Сумма P_i = 1.0\n",
            "\n",
            " значений в каждом интервале соответственно - [3, 3, 1, 3, 11, 7, 8, 5, 4, 2, 1, 1]\n",
            "\n",
            "X^2 набл =  106.04710949450741\n"
          ]
        }
      ]
    },
    {
      "cell_type": "markdown",
      "source": [
        "Критерий $\\mathcal{X}^{2}: \\mathcal{X}^{2}_{набл}=\\sum_{i=1}^{12}\\frac{(n_{i}-np_{i})^{2}}{np_{i}} = 106.05$\n",
        "\n",
        "$\\mathcal{X}^{2}_{N-1,1-\\alpha_{2}}=\\mathcal{X}^{2}_{11,0.95}\\sim 19.68$\n",
        "\n",
        "$\\mathcal{X}^{2} > \\mathcal{X}^{2}_{11,0.95}\\implies$ по критерию Пирсона мы отвергаем гипотезу \\\\\n",
        "\n"
      ],
      "metadata": {
        "id": "Q3KxJfgPPJA0"
      }
    },
    {
      "cell_type": "markdown",
      "source": [
        "##**Вывод**\n",
        "В ходе практической работы успешно применили методы математической статистики для статистического анализа, используя программные пакеты. Овладели навыками проведения тестов, анализа данных, построения доверительных интервалов и проверки гипотез. В лабораторной работе глубоко изучены выборочные числовые характеристики, оценки максимального правдоподобия и метода моментов. Построены доверительные интервалы, используя генераторы по лемме Фишера, и асимптотические доверительные интервалы. Рассмотрены критерии Колмогорова и Хи-квадрат для проверки гипотез о распределении данных. Усвоены принципы построения наиболее мощных критериев на основе статистики отношения правдоподобия. Все это было реализовано с использованием Python с библиотеками NumPy, SciPy и другими, облегчающими анализ данных и моделирование."
      ],
      "metadata": {
        "id": "Mc1_M-wtQ6As"
      }
    }
  ]
}
