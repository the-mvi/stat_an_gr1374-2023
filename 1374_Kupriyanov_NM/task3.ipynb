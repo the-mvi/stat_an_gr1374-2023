{
 "cells": [
  {
   "cell_type": "markdown",
   "metadata": {
    "id": "TMki46uFKQy2"
   },
   "source": [
    "# Практическая работа №3: Регрессионный анализ\n",
    "Выполнил студент гр. 1374 Куприянов Никита. Вариант №11"
   ]
  },
  {
   "cell_type": "markdown",
   "metadata": {
    "id": "IxnLjERAKQy4"
   },
   "source": [
    "## Цель работы\n",
    "Ознакомление с основными положениями метода наименьших квадратов (МНК), со статистическими свойствами МНК-оценок, с понятием функции регрессии и роли МНК в регрессионном анализе."
   ]
  },
  {
   "cell_type": "markdown",
   "metadata": {
    "id": "L8QAXQxLKQy4"
   },
   "source": [
    "## Основные теоретические положения\n"
   ]
  },
  {
   "cell_type": "markdown",
   "metadata": {
    "id": "jFPa92Ep8w97"
   },
   "source": [
    "1\\. Регрессионная модель: $\\mathbb{E}_{\\theta}(Y|z)=f_{\\theta}(z)$, где $Y$ - наблюдения, а $z$ - ковариата\n",
    "\n",
    "Линейная регрессионная модель: $\\mathbb{E}_{\\theta}(Y|z)=x(z)^\\intercal\\beta$, где $\\beta$ - вектор параметров регрессии, a $x(z)$ - вектор регрессоров\n",
    "\n",
    "Статистическая модель: $\\mathbb{E}_{\\theta}(Y|z)=X^\\intercal\\beta$, $Var(Y|z) = \\sigma^2E$\n",
    "\n",
    "2\\. МНК\n",
    "\n",
    "Альтернативная форма записи модели линейной регрессии: $Y = X^\\intercal\\beta + \\varepsilon, \\mathbb{E}_{\\theta}\\varepsilon = 0, Var_{\\theta}\\varepsilon = \\sigma^2E$, где $\\varepsilon$ - вектор ошибок\n",
    "\n",
    "Метод наименьших квадратов:\n",
    "\n",
    "$RSS(\\beta)=\\left\\| Y-X^\\intercal\\beta \\right\\|^2=(Y-X^\\intercal\\beta)^\\intercal(Y-X^\\intercal\\beta)\\to \\min_\\beta$\n",
    "\n",
    "Нормальные уравнения: $XX^\\intercal\\beta=XY$\n",
    "\n",
    "Решение системы нормальных уравнений в регулярном случае: $\\hat{\\beta}=(XX^\\intercal)^{-1}XY$\n",
    "\n",
    "3\\. Несмещённая оценка дисперсии $(S^{2})$\n",
    "\n",
    "$S^{2} = \\frac{SS_{e}}{n-r} = \\frac{RSS(\\widehat{\\beta})}{n-r}$\n",
    "\n",
    "$SS_{e}=RSS(\\widehat{\\beta})$, а r-ранг матрицы X\n",
    "\n",
    "\n",
    "4\\. Доверительный интервал\n",
    "\n",
    "ДНО функции:$\\psi=с^{\\intercal}\\beta$\n",
    "\n",
    "МНК-оценка: $\\widehat{\\psi}=с^{\\intercal}\\widehat\\beta$\n",
    "\n",
    "Элемент дисперсии оценки: $b_{\\psi}=c^{\\intercal}(XX^{\\intercal})^{-1}c$\n",
    "\n",
    "Распределение $\\widehat{\\psi}\\sim \\mathcal{N}(\\psi,\\sigma^{2}b)$\n",
    "\n",
    "$\\frac{\\widehat{\\psi}-\\psi}{S\\sqrt{b}}\\sim \\mathcal{S}_{n-r}$\n",
    "\n",
    "Д.И. уровня доверия $1-\\alpha: \\left[ \\widehat{\\psi} - X_{\\alpha}S\\sqrt{b};\\widehat{\\psi} + X_{\\alpha}S\\sqrt{b} \\right], где X_{\\alpha}: \\mathcal{S}_{n-r}(X_{\\alpha})=1-\\frac{\\alpha}{2}$\n",
    "\n",
    "\n",
    "5\\. Предположения\n",
    "\n",
    "Классическое предположение: $ Y \\sim \\mathcal{N}(X^\\intercal\\beta,\\sigma^2E) $\n",
    "\n",
    "Эквивалентное предположение об остатках:  $ \\varepsilon \\sim \\mathcal{N}(0,\\sigma^2E) $\n",
    "\n",
    "\n",
    "\n",
    "6\\.  Доверительный  эллипсоид \n",
    "\n",
    "$A_{\\alpha}=\\left\\{ \\overrightarrow{X}:(\\overrightarrow{X}-\\widehat{\\psi})^{\\intercal}B^{-1}(\\overrightarrow{X}-\\widehat{\\psi})\\le qS^{2}X_{\\alpha} \\right\\}$ . где:\n",
    "\n",
    "$\\widehat{\\psi}$ - вектор оценок параметров, $B$ - матрица оценок ковариации, $S^{2}$ - оценка дисперсии,q - пороговая точка, связанная с распределением хи-квадрат с \\(n-r\\) степенями свободы, $X_{\\alpha}$ - значение функции распределения хи-квадрат с (n-r) степенями свободы и уровнем доверия $1-\\alpha$.\n",
    "\n",
    "7\\. Проверка гипотез\n",
    "\n",
    "Основная гипотеза $H_0:\\psi=0$\n",
    "\n",
    "$\\mathbb{F}$ - статистика: $\\mathbb{F} = \\frac{SS_H/q}{SS_e/(n-r)}$,\n",
    "\n",
    "где $SS_H = RSS(\\hat{\\beta}_H) - RSS(\\hat{\\beta})$, $SS_e=RSS(\\hat{\\beta})$\n",
    "\n",
    "$\\hat{\\beta}_H$ - МНК оценка при выполнении основной гипотезы\n",
    "\n",
    "$\\mathbb{F} \\sim \\mathcal{F}_{q,n-r}$\n",
    "\n",
    "$x_\\alpha: \\mathcal{F}_{q, n-r}(x_\\alpha) = 1 - \\alpha$"
   ]
  },
  {
   "cell_type": "markdown",
   "metadata": {
    "id": "gfzpateTKQy5"
   },
   "source": [
    "## Постановка задачи\n",
    "Результаты статистического эксперимента представлены в виде двух переменных. Требуется оценить характер (случайной) зависимости переменной $Y$ от переменной $X$. Полученные результаты содержательно проинтерпретировать."
   ]
  },
  {
   "cell_type": "markdown",
   "metadata": {
    "id": "M078kNOlKQy5"
   },
   "source": [
    "## Выполнение работы\n"
   ]
  },
  {
   "cell_type": "code",
   "execution_count": 2,
   "metadata": {
    "id": "cz1_29QDLLlz"
   },
   "outputs": [],
   "source": [
    "import matplotlib.pyplot as plt\n",
    "import numpy as np\n",
    "import scipy.stats as sps\n",
    "import sympy\n",
    "from sympy.solvers.solveset import nonlinsolve\n",
    "Y = [11.45, 5.60, 11.20, 6.13, 14.08, 12.11, 7.73, 17.98, 7.86, 4.85, 6.88, 8.59, 17.44, 13.90, 17.75, 15.45, 11.85,\n",
    "     7.08, 0.79, 11.39, 17.13, 13.79, 11.28, 20.74, 7.49, 12.29, 9.53, 8.00, 10.35, 6.79, 9.30, 6.91, 3.85, 6.31,\n",
    "     7.85, 8.01, 6.41, 18.28, 4.46, 9.94, 10.81, 5.26, 13.28, 7.04, 12.63, 12.44, 4.84, 4.35, 18.14, 9.65]\n",
    "X = [6, 1, 5, 7, 3, 8, 7, 4, 4, 3, 6, 7, 6, 5, 5, 4, 5, 5, 4, 3, 4, 3, 3, 6, 4, 6, 6, 6, 3, 5, 8, 6,\n",
    "     5, 5, 7, 4, 4, 5, 1, 2, 5, 7, 6, 6, 3, 8, 5, 6, 3, 7]\n",
    "alpha = 0.01\n",
    "h = 2.20"
   ]
  },
  {
   "cell_type": "markdown",
   "metadata": {
    "id": "Bh_5hh0jMDN7"
   },
   "source": [
    "### 1. Построить графически результаты эксперимента. Сформулировать линейную регрессионную модель переменной $Y$ по переменной $X$. Построить МНК оценки параметров сдвига $\\beta_0$ и масштаба $\\beta_1$. Построить полученную линию регрессии. Оценить визуально соответствие полученных данных и построенной оценки."
   ]
  },
  {
   "cell_type": "code",
   "execution_count": 3,
   "metadata": {
    "colab": {
     "base_uri": "https://localhost:8080/",
     "height": 472
    },
    "id": "P57NIly3MhnJ",
    "outputId": "662d7881-ed92-4f0f-fbf1-720fd636383c"
   },
   "outputs": [
    {
     "data": {
      "image/png": "[encoded data removed]",
      "text/plain": [
       "<Figure size 640x480 with 1 Axes>"
      ]
     },
     "metadata": {},
     "output_type": "display_data"
    }
   ],
   "source": [
    "fig, ax = plt.subplots()\n",
    "ax.scatter(X, Y)\n",
    "ax.set_xlabel('X')\n",
    "ax.set_ylabel('Y')\n",
    "ax.set_title('Результаты эксперимента')\n",
    "plt.show()"
   ]
  },
  {
   "cell_type": "markdown",
   "metadata": {
    "id": "WW2r5TmGOJWc"
   },
   "source": [
    "Линейная регрессионная модель:\n",
    "\n",
    "$\\mathbb{E}_{\\theta}(Y|z) = x(z)^{\\intercal}\\beta$\n",
    "\n",
    "$Y = \\beta_0 + \\beta_1 X + \\varepsilon$\n",
    "\n",
    "Построение МНК оценок:"
   ]
  },
  {
   "cell_type": "code",
   "execution_count": 4,
   "metadata": {
    "colab": {
     "base_uri": "https://localhost:8080/"
    },
    "id": "wTF3LUQuP4aZ",
    "outputId": "45ae0c96-0754-49ae-b297-b484b71591cd"
   },
   "outputs": [
    {
     "name": "stdout",
     "output_type": "stream",
     "text": [
      "Определитель матрицы X*X^T =  7140.999999999996\n",
      "Оценки параметров:\n",
      "beta_0: 10.27955748494608\n",
      "beta_1: -0.027197871446575872\n"
     ]
    }
   ],
   "source": [
    "Y_matrix = np.matrix(Y).T\n",
    "X_matrix = np.matrix([[1] * len(X), X])\n",
    "print(\"Определитель матрицы X*X^T = \", np.linalg.det(X_matrix * X_matrix.T))\n",
    "Beta_matrix = np.linalg.inv(X_matrix * X_matrix.T) * X_matrix * Y_matrix\n",
    "beta_0 = float(Beta_matrix[0])\n",
    "beta_1 = float(Beta_matrix[1])\n",
    "\n",
    "print(f\"Оценки параметров:\")\n",
    "print('beta_0:' , beta_0)\n",
    "print('beta_1:' , beta_1)\n"
   ]
  },
  {
   "cell_type": "code",
   "execution_count": 12,
   "metadata": {
    "colab": {
     "base_uri": "https://localhost:8080/",
     "height": 472
    },
    "id": "VJPLqcTeV1SG",
    "outputId": "6376fbe8-5ff0-4be2-9cb7-c304503aaae5"
   },
   "outputs": [
    {
     "data": {
      "image/png": "[encoded data removed]",
      "text/plain": [
       "<Figure size 640x480 with 1 Axes>"
      ]
     },
     "metadata": {},
     "output_type": "display_data"
    }
   ],
   "source": [
    "fig, ax = plt.subplots()\n",
    "ax.scatter(X, Y)\n",
    "ax.plot([0,8], [beta_0, beta_0 + beta_1 * 8], color = 'g')\n",
    "ax.set_xlabel('X')\n",
    "ax.set_ylabel('Y')\n",
    "ax.set_title('Линия регрессии и результаты эксперимента')\n",
    "plt.show()"
   ]
  },
  {
   "cell_type": "markdown",
   "metadata": {
    "id": "PzqwuzCmXX-a"
   },
   "source": [
    "Визуально видно, что отклонение данных от линии регресии достаточно большое."
   ]
  },
  {
   "cell_type": "markdown",
   "metadata": {
    "id": "Y73Qyq-cX33H"
   },
   "source": [
    "### 2. Построить и интерпретировать несмещённую оценку дисперсии. На базе ошибок построить гистограмму с шагом $h$. Проверить гипотезу нормальности ошибок на уровне значимости $\\alpha$ по $\\chi^2$. Оценить расстояние полученной оценки до класса нормальных распределений по Колмогорову. Визуально оценить данный факт."
   ]
  },
  {
   "cell_type": "code",
   "execution_count": 6,
   "metadata": {
    "colab": {
     "base_uri": "https://localhost:8080/"
    },
    "id": "A05cb7NiYeb-",
    "outputId": "0849bc47-47a9-42c6-cd29-e5362c2f3eef"
   },
   "outputs": [
    {
     "name": "stdout",
     "output_type": "stream",
     "text": [
      "Несмещённая оценка дисперсии = 20.823620845586518\n"
     ]
    }
   ],
   "source": [
    "unbias_var = np.linalg.norm(Y_matrix - X_matrix.T * Beta_matrix)**2/(len(X) - np.linalg.matrix_rank(X_matrix))\n",
    "print(\"Несмещённая оценка дисперсии =\", unbias_var)"
   ]
  },
  {
   "cell_type": "code",
   "execution_count": 7,
   "metadata": {
    "colab": {
     "base_uri": "https://localhost:8080/",
     "height": 452
    },
    "id": "DSFxTrLxarSF",
    "outputId": "8f3a4146-5dae-4cc1-eedb-409891596ce0"
   },
   "outputs": [
    {
     "data": {
      "image/png": "[encoded data removed]",
      "text/plain": [
       "<Figure size 640x480 with 1 Axes>"
      ]
     },
     "metadata": {},
     "output_type": "display_data"
    }
   ],
   "source": [
    "mistakes = Y_matrix - X_matrix.T * Beta_matrix\n",
    "fig, ax = plt.subplots()\n",
    "bins = [x / 10.0 for x in range(int(min(mistakes)) * 10, int(max(mistakes)) * 10 + 5, int(h * 10))]\n",
    "ax.hist(mistakes, bins = bins, linewidth=1, edgecolor='black', density= True)\n",
    "plt.title(\"Гистограмма ошибок с шагом h\")\n",
    "plt.show()"
   ]
  },
  {
   "cell_type": "markdown",
   "metadata": {
    "id": "L2tQ793VhjIs"
   },
   "source": [
    "Пусть данная выборка $X_1, X_2, \\dots, X_n$ - выборка из распределения с функцией распределения $F$.\n",
    "\n",
    "\n",
    "\n",
    "Основная гипотеза: $H_0 : F \\equiv \\mathcal{N}(0, S^2)$\n",
    "\n",
    "Альтернативная гипотеза: $H_A : \\exists x : F(x) \\neq F_{\\theta}(x)$\n",
    "\n",
    "В качестве оценки неизвестного параметра $\\theta$ возьмем: $\\hat{\\theta} = (0, S^2)$\n"
   ]
  },
  {
   "cell_type": "markdown",
   "metadata": {
    "colab": {
     "base_uri": "https://localhost:8080/"
    },
    "id": "Pi80gHEtcu6Y",
    "outputId": "c68a24d0-13cd-4077-8364-7e140c1aeb98"
   },
   "source": [
    "$I_{1}=\\left(- \\infty;-4.4\\right], n_{1}=8$\n",
    "\n",
    "\n",
    "$p_{1}= 0.167$ $ np_{1}=8.373$\n",
    "\n",
    "$I_{2}=\\left( -4.4; -2.2 \\right], n_{2}=12$\n",
    "\n",
    "$p_{2}=0.147$  $np_{2}=7.369$\n",
    "\n",
    "$I_{3}=\\left( -2.2; 0\\right], n_{3}=7$\n",
    "\n",
    "$p_{3}=0.185$  $np_{3}=9.257$\n",
    "\n",
    "$I_{4}=\\left( 0; 2.2 \\right], n_{4}=9$\n",
    "\n",
    "$p_{4}=0.185$  $np_{4}=9.257$\n",
    "\n",
    "\n",
    "$I_{5}=\\left( 2.2; 4.4 \\right], n_{5}=6$\n",
    "\n",
    "$p_{5}=0.147$  $np_{5}=7.369$\n",
    "\n",
    "\n",
    "\n",
    "$I_{6}=\\left(4.4; + \\infty\\right), n_{6}=8$\n",
    "\n",
    "$p_{6}=0.167$  $np_{6}=8.373$\n",
    "\n",
    "\n",
    "Критерий $\\mathcal{X}^{2}: \\mathcal{X}^{2}_{набл}=\\sum_{i=1}^{6}\\frac{(n_{i}-np_{i})^{2}}{np_{i}} =3.75$\n",
    "\n",
    "$\\mathcal{X}^{2}_{k-d-1,1-\\alpha_{1}}=\\mathcal{X}^{2}_{4,0.99}\\simeq 13.3$\n"
   ]
  },
  {
   "cell_type": "markdown",
   "metadata": {
    "id": "UW3kajpUgAOE"
   },
   "source": [
    "где k - число интервалов"
   ]
  },
  {
   "cell_type": "markdown",
   "metadata": {},
   "source": [
    " Так как $\\mathcal{X}^{2}\\lt \\mathcal{X}^{2}_{4,0.99}$, то принимаем основную гипотезу"
   ]
  },
  {
   "cell_type": "code",
   "execution_count": 8,
   "metadata": {
    "colab": {
     "base_uri": "https://localhost:8080/"
    },
    "id": "wbeO7SiizWYZ",
    "outputId": "ce9b89bc-e0b1-4ac7-f7ec-627c5b846956"
   },
   "outputs": [
    {
     "name": "stdout",
     "output_type": "stream",
     "text": [
      "Статистика критерия Колмогорова Dn: 0.11859789049407599\n",
      "x_alpha: 0.2301807385848777\n"
     ]
    }
   ],
   "source": [
    "mean_mistakes = 0\n",
    "std_mistakes = np.sqrt(unbias_var)\n",
    "print(\"Статистика критерия Колмогорова Dn:\", sps.kstest([element[0,0] for element in mistakes], \"norm\", args = (mean_mistakes,std_mistakes)).statistic)\n",
    "print(\"x_alpha:\", sps.kstwobign.ppf(1 - alpha) / np.sqrt(len(mistakes))) # *\n"
   ]
  },
  {
   "cell_type": "markdown",
   "metadata": {
    "id": "k79ThA5j3w3A"
   },
   "source": [
    "$D_n \\approx0.118$\n",
    "\n",
    "$x_{\\alpha} \\approx 0.230$\n",
    "\n",
    "Так как $D_n < x_{\\alpha}$ , то гипотеза о нормальности принимается"
   ]
  },
  {
   "cell_type": "code",
   "execution_count": 9,
   "metadata": {
    "colab": {
     "base_uri": "https://localhost:8080/",
     "height": 452
    },
    "id": "FGuljnoG33Yn",
    "outputId": "aa1f6822-ea62-4e14-aed6-d5260c3438b4"
   },
   "outputs": [
    {
     "data": {
      "image/png": "[encoded data removed]",
      "text/plain": [
       "<Figure size 640x480 with 1 Axes>"
      ]
     },
     "metadata": {},
     "output_type": "display_data"
    }
   ],
   "source": [
    "mistakes = Y_matrix - X_matrix.T * Beta_matrix\n",
    "fig, ax = plt.subplots()\n",
    "bins = [x / 10.0 for x in range(int(min(mistakes)) * 10, int(max(mistakes)) * 10 + 5, int(h * 10))]\n",
    "ax.hist(mistakes, bins = bins, linewidth=1, edgecolor='black', density= True)\n",
    "plt.plot(np.arange(min(mistakes), max(mistakes) + 1, 0.01), sps.norm.pdf(np.arange(min(mistakes), max(mistakes) + 1, 0.01), mean_mistakes, std_mistakes))\n",
    "ax.set_title(\"Сравнение гистограммы и функции плотности нормального распределения\")\n",
    "plt.show()"
   ]
  },
  {
   "cell_type": "markdown",
   "metadata": {
    "id": "-JHTKxUk6v9d"
   },
   "source": [
    "Визуально видно, что в целом очертания нормальности присутсвуют, но однозначно сделать вывод о нормальности по визуальной оценке не представляется возможным."
   ]
  },
  {
   "cell_type": "markdown",
   "metadata": {
    "id": "Fq66_LpOieBC"
   },
   "source": [
    "### 3. В предположении нормальности ошибок построить доверительные интервалы для параметров $\\beta_0$ и $\\beta_1$ уровня доверия $1 - \\alpha$. Построить доверительный эллипс уровня доверия $1 - \\alpha$ для $(\\beta_0, \\beta_1)$ (вычислить его полуоси)."
   ]
  },
  {
   "cell_type": "markdown",
   "metadata": {
    "id": "U8-DGSrooL5A"
   },
   "source": [
    "Доверительный интервал для параметра $\\beta_0$:\n",
    "\n",
    "ДНО-функция: $\\psi = C^\\intercal \\beta = \\beta_0$\n",
    "\n",
    "Тогда $C = (1, 0)^\\intercal$\n",
    "\n",
    "Тогда МНК оценка равна $\\hat{\\psi} = \\hat{\\beta}_0$\n",
    "\n",
    "Найдем доверительный интервал вида: $\\left[\\hat{\\psi} - x_\\alpha S \\sqrt{b_\\psi}; \\hat{\\psi} + x_\\alpha S \\sqrt{b_\\psi}\\right]$,\n",
    "\n",
    "где $x_\\alpha: S_{n-r}(x_\\alpha) = 1 - \\frac{\\alpha}{2}$, $b_\\psi = C^\\intercal(XX^\\intercal)^{-1}C$"
   ]
  },
  {
   "cell_type": "code",
   "execution_count": 10,
   "metadata": {
    "colab": {
     "base_uri": "https://localhost:8080/"
    },
    "id": "pXNxCVNiqOfb",
    "outputId": "692199f0-0d74-45a6-c55b-d130032b3446"
   },
   "outputs": [
    {
     "name": "stdout",
     "output_type": "stream",
     "text": [
      "x_alpha =  2.6822040269502136\n",
      "left =  4.932210754224471\n",
      "right =  15.62690421566769\n"
     ]
    }
   ],
   "source": [
    "r = np.linalg.matrix_rank(X_matrix)\n",
    "n = len(X)\n",
    "x_alpha = sps.t.ppf(1 - alpha/2, df = n - r)\n",
    "C = np.matrix([[1], [0]])\n",
    "b_psi = float(C.T * np.linalg.inv(X_matrix * X_matrix.T) * C)\n",
    "print(\"x_alpha = \", x_alpha)\n",
    "print(\"left = \", beta_0 - x_alpha * np.sqrt(unbias_var) * np.sqrt(b_psi))\n",
    "print(\"right = \", beta_0 + x_alpha * np.sqrt(unbias_var) * np.sqrt(b_psi))"
   ]
  },
  {
   "cell_type": "markdown",
   "metadata": {
    "id": "kKd9q97HsoIE"
   },
   "source": [
    " Следовательно, доверительный интервал для параметра $\\beta_0$\n",
    " \n",
    " $$\\left[4.932, 15.627\\right] \\ni \\beta_0$$"
   ]
  },
  {
   "cell_type": "markdown",
   "metadata": {
    "id": "taNEsT4ysyRn"
   },
   "source": [
    "Доверительный интервал для параметра $\\beta_1$:\n",
    "\n",
    "ДНО-функция: $\\psi = C^\\intercal \\beta = \\beta_1$\n",
    "\n",
    "Тогда $C = (0, 1)^\\intercal$\n",
    "\n",
    "Тогда МНК оценка равна $\\hat{\\psi} = \\hat{\\beta}_1$\n",
    "\n",
    "Найдем доверительный интервал вида: $\\left[\\hat{\\psi} - x_\\alpha S \\sqrt{b_\\psi}; \\hat{\\psi} + x_\\alpha S \\sqrt{b_\\psi}\\right]$,\n",
    "\n",
    "где $x_\\alpha: S_{n-r}(x_\\alpha) = 1 - \\frac{\\alpha}{2}$, $b_\\psi = C^\\intercal(XX^\\intercal)^{-1}C$"
   ]
  },
  {
   "cell_type": "code",
   "execution_count": 11,
   "metadata": {
    "colab": {
     "base_uri": "https://localhost:8080/"
    },
    "id": "0AVLEzrHs5WJ",
    "outputId": "6c3e5d64-25ba-4af5-944f-2a9c2308ec72"
   },
   "outputs": [
    {
     "name": "stdout",
     "output_type": "stream",
     "text": [
      "x_alpha =  2.6822040269502136\n",
      "left =  -1.051375817100489\n",
      "right =  0.9969800742073371\n"
     ]
    }
   ],
   "source": [
    "r = np.linalg.matrix_rank(X_matrix)\n",
    "n = len(X)\n",
    "x_alpha = sps.t.ppf(1 - alpha/2, df = n - r)\n",
    "C = np.matrix([[0], [1]])\n",
    "b_psi = float(C.T * np.linalg.inv(X_matrix * X_matrix.T) * C)\n",
    "print(\"x_alpha = \", x_alpha)\n",
    "print(\"left = \", beta_1 - x_alpha * np.sqrt(unbias_var) * np.sqrt(b_psi))\n",
    "print(\"right = \", beta_1 + x_alpha * np.sqrt(unbias_var) * np.sqrt(b_psi))\n",
    "\n"
   ]
  },
  {
   "cell_type": "markdown",
   "metadata": {
    "id": "RoLaPIU9s_nk"
   },
   "source": [
    "Следовательно, доверительный интервал для параметра $\\beta_1$\n",
    "\n",
    "$$\\left[-1.051, 0.997\\right] \\ni \\beta_1$$"
   ]
  },
  {
   "cell_type": "markdown",
   "metadata": {
    "id": "cLcfGb1btTMg"
   },
   "source": [
    "Доверительный эллипс для параметра $(\\beta_0, \\beta_1)$:\n",
    "\n",
    "ДНО-функция: $\\psi = C^\\intercal \\beta = (\\beta_0, \\beta_1)^\\intercal$\n",
    "\n",
    "Тогда $C = \\begin{pmatrix}1 & 0 \\\\0 & 1\\end{pmatrix}$\n",
    "\n",
    "Тогда МНК оценка равна $\\hat{\\psi} = (\\hat{\\beta}_0, \\hat{\\beta}_1)^\\intercal$\n",
    "\n",
    "Найдем доверительный эллипс вида: $\\left\\{\\overrightarrow{x} : \\left(\\overrightarrow{x} - \\hat{\\psi}\\right)^\\intercal b_\\psi^{-1} \\left(\\overrightarrow{x} - \\hat{\\psi}\\right) \\le q S^2 x_\\alpha\\right\\}$,\n",
    "\n",
    "где $x_\\alpha: \\mathcal{F}_{q, n-r}(x_\\alpha) = 1 - \\alpha$, $b_\\psi = C^\\intercal(XX^\\intercal)^{-1}C$\n",
    "\n"
   ]
  },
  {
   "cell_type": "code",
   "execution_count": 14,
   "metadata": {
    "colab": {
     "base_uri": "https://localhost:8080/"
    },
    "id": "KtErKgONyE46",
    "outputId": "fed7bc69-42c2-4e06-b4cd-8ce10f63ad27"
   },
   "outputs": [
    {
     "name": "stdout",
     "output_type": "stream",
     "text": [
      "Неравенство имеет вид: 50.0*x**2 + 494.0*x*y - 1014.52*x + 1363.0*y**2 - 5003.96*y + 5146.35979941184 <= 211.42904455854628\n",
      "Доверительный эллипс имеет следующие полуоси : 6.456438688856946 и 0.3875181957477213\n"
     ]
    }
   ],
   "source": [
    "r = np.linalg.matrix_rank(X_matrix)\n",
    "n = len(X)\n",
    "q = len(Beta_matrix)\n",
    "x_alpha = sps.f.ppf(1 - alpha, dfn = q, dfd = n - r)\n",
    "C = np.matrix([[1, 0], [0, 1]])\n",
    "b_psi = C.T * np.linalg.inv(X_matrix * X_matrix.T) * C\n",
    "#print(\"Определитель матрицы b_psi = \", np.linalg.det(b_psi))\n",
    "#print(\"x_alpha = \", x_alpha)\n",
    "x_symbol = sympy.Symbol('x', real=True)\n",
    "y_symbol = sympy.Symbol('y', real=True)\n",
    "x_vec = np.matrix([[x_symbol], [y_symbol]])\n",
    "expr = (x_vec - Beta_matrix).T * np.linalg.inv(b_psi) * (x_vec - Beta_matrix)\n",
    "print(f\"Неравенство имеет вид: {expr[0,0].as_poly().as_expr()} <= {q * unbias_var * x_alpha}\")\n",
    "\n",
    "cov = np.linalg.inv(b_psi) #полуоси\n",
    "eigenvalues, _ = np.linalg.eig(cov)\n",
    "semi_axes = np.sqrt(1 / eigenvalues * (x_alpha * q * unbias_var))\n",
    "print(f'Доверительный эллипс имеет следующие полуоси : {semi_axes[0]} и {semi_axes[1]}')"
   ]
  },
  {
   "cell_type": "code",
   "execution_count": 15,
   "metadata": {},
   "outputs": [
    {
     "data": {
      "image/png": "[encoded data removed]",
      "text/plain": [
       "<Figure size 640x480 with 1 Axes>"
      ]
     },
     "metadata": {},
     "output_type": "display_data"
    }
   ],
   "source": [
    "def plot_ellipse(a, b, c, d, f, g, boundary):\n",
    "    x = np.linspace(-10, 30, 100) \n",
    "    y = np.linspace(-10, 10, 100)  \n",
    "    X, Y = np.meshgrid(x, y)\n",
    "    Z = a*X**2 + b*X*Y + c*X + d*Y**2 + f*Y + g  \n",
    "    plt.contour(X, Y, Z, levels=[boundary], colors='g') \n",
    "    plt.xlabel('X')\n",
    "    plt.ylabel('Y')\n",
    "    plt.title('Эллипс')\n",
    "    plt.show()\n",
    "    \n",
    "plot_ellipse(50.0, 494.0, -1014.52, 1363.0, -5003.96, 5146.35979941184, 211.42904455854628)\n"
   ]
  },
  {
   "cell_type": "markdown",
   "metadata": {
    "id": "Jn4HY6EfL8pA"
   },
   "source": [
    "### 4. Сформулировать гипотезу независимости переменной $Y$ от переменной $X$. Провести проверку значимости."
   ]
  },
  {
   "cell_type": "markdown",
   "metadata": {
    "id": "hJqLm6fuMMl7"
   },
   "source": [
    "Основная гипотеза: $H_0 : \\psi = 0$"
   ]
  },
  {
   "cell_type": "markdown",
   "metadata": {},
   "source": [
    "$RSS(\\beta_H)=\\sum_{i=1}^{n}(Y_i-\\beta_0^H)^2\\to min_{\\beta_H}$"
   ]
  },
  {
   "cell_type": "markdown",
   "metadata": {},
   "source": [
    "$\\sum_{i=1}^{n}(Y_i-\\beta_0^H)=0$"
   ]
  },
  {
   "cell_type": "markdown",
   "metadata": {},
   "source": [
    "$\\widehat{\\beta_0^H}=\\sum_{i=1}^{n}(Y_i)/n$"
   ]
  },
  {
   "cell_type": "code",
   "execution_count": 17,
   "metadata": {},
   "outputs": [
    {
     "name": "stdout",
     "output_type": "stream",
     "text": [
      "Статистика F = 0.0025367205019402148\n",
      "x_alpha = 5.07666380708612\n"
     ]
    }
   ],
   "source": [
    "beta_0_h = sum(Y)/len(Y)\n",
    "beta_1_h = 0\n",
    "#print(f\"Оценка вектора бета при выполнении основной гипотезы: ({beta_0_h}, {beta_1_h})\")\n",
    "Beta_h_matrix = np.matrix([[beta_0_h], [beta_1_h]])\n",
    "F_statist = (np.linalg.norm(Y_matrix - X_matrix.T * Beta_h_matrix)**2 - np.linalg.norm(Y_matrix - X_matrix.T * Beta_matrix)**2)/2/unbias_var\n",
    "print(f\"Статистика F = {F_statist}\")\n",
    "print(f\"x_alpha = {sps.f.ppf(1 - alpha, 2,  n - r)}\")"
   ]
  },
  {
   "cell_type": "markdown",
   "metadata": {
    "colab": {
     "base_uri": "https://localhost:8080/"
    },
    "id": "8_uE2SL6M3v7",
    "outputId": "cb7ad220-b6cb-41ea-f206-bff7678c164a"
   },
   "source": [
    "$\\mathbb{F}_{статистика} \\approx 0.0025$"
   ]
  },
  {
   "cell_type": "markdown",
   "metadata": {
    "id": "JhGhuZntPEKp"
   },
   "source": [
    "\n",
    "Граница критической области $x_{\\alpha} \\approx  5.076$\n",
    "\n",
    "Так как $\\mathbb{F}_{статистика} < x_{\\alpha}$ , то принимаем гипотезу "
   ]
  },
  {
   "cell_type": "markdown",
   "metadata": {
    "id": "DwIecWUQP5Z5"
   },
   "source": [
    "### 5.  Сформулировать модель, включающую дополнительный член с $X^2$. Построить МНК оценки параметров $\\beta_0, \\beta_1, \\beta_2$ в данной модели. Изобразить графически полученную регрессионную зависимость."
   ]
  },
  {
   "cell_type": "markdown",
   "metadata": {
    "id": "xuGpXQF5QHkC"
   },
   "source": [
    "Линейная регрессионная модель:\n",
    "\n",
    "$\\mathbb{E}_{\\theta}(Y|z) = x(z)^{\\intercal}\\beta$\n",
    "\n",
    "$Y = \\beta_0 + \\beta_1 X + \\beta_2 X^2 + \\varepsilon$\n",
    "\n",
    "Построение МНК оценок параметров:"
   ]
  },
  {
   "cell_type": "code",
   "execution_count": 21,
   "metadata": {
    "colab": {
     "base_uri": "https://localhost:8080/"
    },
    "id": "gLLxo4D5QOrz",
    "outputId": "69bf3420-2595-482c-eb59-7a7a44eac040"
   },
   "outputs": [
    {
     "name": "stdout",
     "output_type": "stream",
     "text": [
      "Определитель матрицы X*X^T =  4477127.999999936\n",
      "Оценки параметров:\n",
      "beta_0: 6.191884779707152\n",
      "beta_1: 1.9613335647316725\n",
      "beta_2: -0.2104061845004212\n"
     ]
    }
   ],
   "source": [
    "Y_matrix = np.matrix(Y).T\n",
    "X_matrix = np.matrix([[1] * len(X), X, [x**2 for x in X]])\n",
    "print(\"Определитель матрицы X*X^T = \", np.linalg.det(X_matrix * X_matrix.T))\n",
    "Beta_matrix = np.linalg.inv(X_matrix * X_matrix.T) * X_matrix * Y_matrix #МНК\n",
    "beta_0 = float(Beta_matrix[0])\n",
    "beta_1 = float(Beta_matrix[1])\n",
    "beta_2 = float(Beta_matrix[2])\n",
    "print(f\"Оценки параметров:\")\n",
    "print('beta_0:' , beta_0)\n",
    "print('beta_1:' , beta_1)\n",
    "print('beta_2:' , beta_2)"
   ]
  },
  {
   "cell_type": "code",
   "execution_count": 23,
   "metadata": {
    "colab": {
     "base_uri": "https://localhost:8080/",
     "height": 472
    },
    "id": "zoZ0VTpOQ1hh",
    "outputId": "2d8ea5c6-f08b-415c-8cb5-e398ab9f5e88"
   },
   "outputs": [
    {
     "data": {
      "image/png": "[encoded data removed]",
      "text/plain": [
       "<Figure size 640x480 with 1 Axes>"
      ]
     },
     "metadata": {},
     "output_type": "display_data"
    }
   ],
   "source": [
    "fig, ax = plt.subplots()\n",
    "ax.scatter(X, Y)\n",
    "X_for_plot = [x / 10 for x in range(81)]\n",
    "Y_for_plot = [beta_0 + beta_1 * x + beta_2 * x**2 for x in X_for_plot]\n",
    "ax.plot(X_for_plot, Y_for_plot, color = 'g')\n",
    "ax.set_xlabel('X')\n",
    "ax.set_ylabel('Y')\n",
    "ax.set_title('Результаты эксперимента и регрессионная зависимость')\n",
    "plt.show()"
   ]
  },
  {
   "cell_type": "markdown",
   "metadata": {
    "id": "CH6hBU-kSRUH"
   },
   "source": [
    "### 6. Построить несмещённую оценку дисперсии. Провести исследование нормальности ошибок как в пункте 2."
   ]
  },
  {
   "cell_type": "code",
   "execution_count": 24,
   "metadata": {
    "colab": {
     "base_uri": "https://localhost:8080/"
    },
    "id": "Wk0XlWe8SaY7",
    "outputId": "6514d757-cb50-4391-b424-d56a03f85fab"
   },
   "outputs": [
    {
     "name": "stdout",
     "output_type": "stream",
     "text": [
      "Несмещённая оценка дисперсии = 20.676122599603843\n"
     ]
    }
   ],
   "source": [
    "unbias_var = np.linalg.norm(Y_matrix - X_matrix.T * Beta_matrix)**2/(len(X) - np.linalg.matrix_rank(X_matrix))\n",
    "print(\"Несмещённая оценка дисперсии =\", unbias_var)"
   ]
  },
  {
   "cell_type": "code",
   "execution_count": 25,
   "metadata": {
    "colab": {
     "base_uri": "https://localhost:8080/",
     "height": 452
    },
    "id": "2YDqz0ofSqK2",
    "outputId": "a4c73e63-311a-4e7b-cb29-68adba6d5eae"
   },
   "outputs": [
    {
     "data": {
      "image/png": "[encoded data removed]",
      "text/plain": [
       "<Figure size 640x480 with 1 Axes>"
      ]
     },
     "metadata": {},
     "output_type": "display_data"
    }
   ],
   "source": [
    "mistakes = Y_matrix - X_matrix.T * Beta_matrix\n",
    "fig, ax = plt.subplots()\n",
    "bins = [x / 10.0 for x in range(int(min(mistakes)) * 10, int(max(mistakes)) * 10 + 5, int(h * 10))]\n",
    "ax.hist(mistakes, bins = bins, linewidth=1, edgecolor='black', density= True)\n",
    "plt.title(\"Гистограмма ошибок с шагом h\")\n",
    "plt.show()"
   ]
  },
  {
   "cell_type": "markdown",
   "metadata": {
    "id": "ICyx-bl3SylE"
   },
   "source": [
    "Пусть данная выборка $X_1, X_2, \\dots, X_n$ - выборка из распределения с функцией распределения $F$.\n",
    "\n",
    "Основная гипотеза: $H_0 : F \\equiv \\mathcal{N}(0, S^2)$\n",
    "\n",
    "Альтернативная гипотеза: $H_A : \\exists x : F(x) \\neq F_{\\theta}(x)$\n",
    "\n",
    "В качестве оценки неизвестного параметра $\\theta$ возьмем: $\\hat{\\theta} = (0, S^2)$\n",
    "\n"
   ]
  },
  {
   "cell_type": "markdown",
   "metadata": {
    "colab": {
     "base_uri": "https://localhost:8080/"
    },
    "id": "Mqa70P25S1h8",
    "outputId": "3dfe70cc-58a4-4fa8-f00d-63b00e7758e9"
   },
   "source": [
    "$I_{1}=\\left(- \\infty;-4.4\\right], n_{1}=6$\n",
    "\n",
    "\n",
    "$p_{1}= 0.166$ $ np_{1}=8.330$\n",
    "\n",
    "$I_{2}=\\left( -4.4; -2.2 \\right], n_{2}=14$\n",
    "\n",
    "$p_{2}=0.148$  $np_{2}=7.382$\n",
    "\n",
    "$I_{3}=\\left( -2.2; 0\\right], n_{3}=4$\n",
    "\n",
    "$p_{3}=0.186$  $np_{3}=9.287$\n",
    "\n",
    "$I_{4}=\\left( 0; 2.2 \\right], n_{4}=11$\n",
    "\n",
    "$p_{4}=0.186$  $np_{4}=9.287$\n",
    "\n",
    "\n",
    "$I_{5}=\\left( 2.2; 4.4 \\right], n_{5}=7$\n",
    "\n",
    "$p_{5}=0.148$  $np_{5}=7.382$\n",
    "\n",
    "\n",
    "$I_{6}=\\left(4.4; + \\infty\\right), n_{6}=8$\n",
    "\n",
    "$p_{6}=0.166$  $np_{6}=8.330$\n",
    "\n",
    "\n",
    "Критерий $\\mathcal{X}^{2}: \\mathcal{X}^{2}_{набл}=\\sum_{i=1}^{6}\\frac{(n_{i}-np_{i})^{2}}{np_{i}} =9.94$\n",
    "\n",
    "$\\mathcal{X}^{2}_{k-d-1,1-\\alpha_{1}}=\\mathcal{X}^{2}_{4,0.99}\\simeq 13.3$"
   ]
  },
  {
   "cell_type": "markdown",
   "metadata": {
    "id": "sWe3Jb6TTFYJ"
   },
   "source": [
    "где k - число интервалов"
   ]
  },
  {
   "cell_type": "markdown",
   "metadata": {},
   "source": [
    " Так как $\\mathcal{X}^{2}\\lt \\mathcal{X}^{2}_{4,0.99}$, то принимаем основную гипотезу"
   ]
  },
  {
   "cell_type": "code",
   "execution_count": 29,
   "metadata": {
    "colab": {
     "base_uri": "https://localhost:8080/"
    },
    "id": "C8rcI0UD7kCN",
    "outputId": "e1d111f8-3038-4870-d055-6bbc7d5ba90c"
   },
   "outputs": [
    {
     "name": "stdout",
     "output_type": "stream",
     "text": [
      "Статистика критерия Колмогорова Dn: 0.09680458294847605\n",
      "x_alpha: 0.2301807385848777\n"
     ]
    }
   ],
   "source": [
    "mean_mistakes = 0\n",
    "std_mistakes = np.sqrt(unbias_var)\n",
    "print(\"Статистика критерия Колмогорова Dn:\", sps.kstest([element[0,0] for element in mistakes], \"norm\", args = (mean_mistakes,std_mistakes)).statistic)\n",
    "print(\"x_alpha:\", sps.kstwobign.ppf(1 - alpha) / np.sqrt(len(mistakes)))"
   ]
  },
  {
   "cell_type": "markdown",
   "metadata": {
    "id": "aXea1ZJl7pFW"
   },
   "source": [
    "$D_n \\approx 0.097$\n",
    "\n",
    "$x_{\\alpha} \\approx 0.230$\n",
    "\n",
    "Так как $D_n < x_{\\alpha}$ , то  гипотеза о нормальности принимается"
   ]
  },
  {
   "cell_type": "code",
   "execution_count": 30,
   "metadata": {
    "colab": {
     "base_uri": "https://localhost:8080/",
     "height": 452
    },
    "id": "VVxN6uvw7u6u",
    "outputId": "7dd649f9-42f8-490d-a6ec-0ac3ce3f6296"
   },
   "outputs": [
    {
     "data": {
      "image/png": "[encoded data removed]",
      "text/plain": [
       "<Figure size 640x480 with 1 Axes>"
      ]
     },
     "metadata": {},
     "output_type": "display_data"
    }
   ],
   "source": [
    "mistakes = Y_matrix - X_matrix.T * Beta_matrix\n",
    "fig, ax = plt.subplots()\n",
    "bins = [x / 10.0 for x in range(int(min(mistakes)) * 10, int(max(mistakes)) * 10 + 5, int(h * 10))]\n",
    "ax.hist(mistakes, bins = bins, linewidth=1, edgecolor='black', density= True)\n",
    "plt.plot(np.arange(min(mistakes), max(mistakes) + 1, 0.01), sps.norm.pdf(np.arange(min(mistakes), max(mistakes) + 1, 0.01), mean_mistakes, std_mistakes))\n",
    "ax.set_title(\"Сравнение гистограммы и функции плотности нормального распределения\")\n",
    "plt.show()"
   ]
  },
  {
   "cell_type": "markdown",
   "metadata": {
    "id": "54RhDFQe8HZC"
   },
   "source": [
    "Визуально видно нормальность ошибок, однако в некоторых местах заметны отклонения от нормального распределения"
   ]
  },
  {
   "cell_type": "markdown",
   "metadata": {
    "id": "fyWgQBcsTkeV"
   },
   "source": [
    "### 7. В предположении нормальности ошибок построить доверительные интервалы для параметров $\\beta_0, \\beta_1, \\beta_2$ уровня доверия $1 - \\alpha$. Написать уравнение доверительного эллипсоида уровня доверия $1 - \\alpha$"
   ]
  },
  {
   "cell_type": "markdown",
   "metadata": {
    "id": "u_iHnLCQUBjm"
   },
   "source": [
    "Доверительный интервал для параметра $\\beta_0$:\n",
    "\n",
    "ДНО-функция: $\\psi = C^\\intercal \\beta = \\beta_0$\n",
    "\n",
    "Тогда $C = (1, 0, 0)^\\intercal$\n",
    "\n",
    "Тогда МНК оценка равна $\\hat{\\psi} = \\hat{\\beta}_0$\n",
    "\n",
    "Найдем доверительный интервал вида: $\\left[\\hat{\\psi} - x_\\alpha S \\sqrt{b_\\psi}; \\hat{\\psi} + x_\\alpha S \\sqrt{b_\\psi}\\right]$,\n",
    "\n",
    "где $x_\\alpha: S_{n-r}(x_\\alpha) = 1 - \\frac{\\alpha}{2}$, $b_\\psi = C^\\intercal(XX^\\intercal)^{-1}C$"
   ]
  },
  {
   "cell_type": "code",
   "execution_count": 33,
   "metadata": {
    "colab": {
     "base_uri": "https://localhost:8080/"
    },
    "id": "QPCnVajMUni9",
    "outputId": "b2626d82-6ccb-42aa-cd7f-67656c915321"
   },
   "outputs": [
    {
     "name": "stdout",
     "output_type": "stream",
     "text": [
      "x_alpha =  2.6845556178665215\n",
      "left =  -4.677555603903217\n",
      "right =  17.06132516331752\n"
     ]
    }
   ],
   "source": [
    "r = np.linalg.matrix_rank(X_matrix)\n",
    "n = len(X)\n",
    "x_alpha = sps.t.ppf(1 - alpha/2, df = n - r)\n",
    "C = np.matrix([[1], [0], [0]])\n",
    "b_psi = float(C.T * np.linalg.inv(X_matrix * X_matrix.T) * C)\n",
    "print(\"x_alpha = \", x_alpha)\n",
    "print(\"left = \", beta_0 - x_alpha * np.sqrt(unbias_var) * np.sqrt(b_psi))\n",
    "print(\"right = \", beta_0 + x_alpha * np.sqrt(unbias_var) * np.sqrt(b_psi))"
   ]
  },
  {
   "cell_type": "markdown",
   "metadata": {
    "id": "8hTHQbTaVQ_3"
   },
   "source": [
    "$$\\left[-4.677,  17.061\\right] \\ni \\beta_0$$"
   ]
  },
  {
   "cell_type": "markdown",
   "metadata": {
    "id": "9IkShLe5VczU"
   },
   "source": [
    "Доверительный интервал для параметра $\\beta_1$:\n",
    "\n",
    "ДНО-функция: $\\psi = C^\\intercal \\beta = \\beta_1$\n",
    "\n",
    "Тогда $C = (0, 1, 0)^\\intercal$\n",
    "\n",
    "Тогда МНК оценка равна $\\hat{\\psi} = \\hat{\\beta}_1$\n",
    "\n",
    "Найдем доверительный интервал вида: $\\left[\\hat{\\psi} - x_\\alpha S \\sqrt{b_\\psi}; \\hat{\\psi} + x_\\alpha S \\sqrt{b_\\psi}\\right]$,\n",
    "\n",
    "где $x_\\alpha: S_{n-r}(x_\\alpha) = 1 - \\frac{\\alpha}{2}$, $b_\\psi = C^\\intercal(XX^\\intercal)^{-1}C$"
   ]
  },
  {
   "cell_type": "code",
   "execution_count": 35,
   "metadata": {
    "colab": {
     "base_uri": "https://localhost:8080/"
    },
    "id": "c4MPKpnVViEC",
    "outputId": "14a850f2-1c62-49f7-a452-b6b9047625d6"
   },
   "outputs": [
    {
     "name": "stdout",
     "output_type": "stream",
     "text": [
      "x_alpha =  2.6845556178665215\n",
      "left =  -2.7579818099896487\n",
      "right =  6.680648939452994\n"
     ]
    }
   ],
   "source": [
    "r = np.linalg.matrix_rank(X_matrix)\n",
    "n = len(X)\n",
    "x_alpha = sps.t.ppf(1 - alpha/2, df = n - r)\n",
    "C = np.matrix([[0], [1], [0]])\n",
    "b_psi = float(C.T * np.linalg.inv(X_matrix * X_matrix.T) * C)\n",
    "print(\"x_alpha = \", x_alpha)\n",
    "print(\"left = \", beta_1 - x_alpha * np.sqrt(unbias_var) * np.sqrt(b_psi))\n",
    "print(\"right = \", beta_1 + x_alpha * np.sqrt(unbias_var) * np.sqrt(b_psi))"
   ]
  },
  {
   "cell_type": "markdown",
   "metadata": {
    "id": "Dur-wnSjV26s"
   },
   "source": [
    "$$\\left[ -2.757, 6.680\\right] \\ni \\beta_1$$"
   ]
  },
  {
   "cell_type": "markdown",
   "metadata": {
    "id": "Si3YOUHaV_DS"
   },
   "source": [
    "Доверительный интервал для параметра $\\beta_2$:\n",
    "\n",
    "ДНО-функция: $\\psi = C^\\intercal \\beta = \\beta_2$\n",
    "\n",
    "Тогда $C = (0, 0, 1)^\\intercal$\n",
    "\n",
    "Тогда МНК оценка равна $\\hat{\\psi} = \\hat{\\beta}_2$\n",
    "\n",
    "Найдем доверительный интервал вида: $\\left[\\hat{\\psi} - x_\\alpha S \\sqrt{b_\\psi}; \\hat{\\psi} + x_\\alpha S \\sqrt{b_\\psi}\\right]$,\n",
    "\n",
    "где $x_\\alpha: S_{n-r}(x_\\alpha) = 1 - \\frac{\\alpha}{2}$, $b_\\psi = C^\\intercal(XX^\\intercal)^{-1}C$"
   ]
  },
  {
   "cell_type": "code",
   "execution_count": 40,
   "metadata": {
    "colab": {
     "base_uri": "https://localhost:8080/"
    },
    "id": "SKCKS6byWDEX",
    "outputId": "7621d58b-84ef-4d53-83ff-f010b8559fd3"
   },
   "outputs": [
    {
     "name": "stdout",
     "output_type": "stream",
     "text": [
      "x_alpha =  2.6845556178665215\n",
      "left =  -0.6979197629667653\n",
      "right =  0.27710739396592293\n"
     ]
    }
   ],
   "source": [
    "r = np.linalg.matrix_rank(X_matrix)\n",
    "n = len(X)\n",
    "x_alpha = sps.t.ppf(1 - alpha/2, df = n - r)\n",
    "C = np.matrix([[0], [0], [1]])\n",
    "b_psi = float(C.T * np.linalg.inv(X_matrix * X_matrix.T) * C)\n",
    "print(\"x_alpha = \", x_alpha)\n",
    "print(\"left = \", beta_2 - x_alpha * np.sqrt(unbias_var) * np.sqrt(b_psi))\n",
    "print(\"right = \", beta_2 + x_alpha * np.sqrt(unbias_var) * np.sqrt(b_psi))"
   ]
  },
  {
   "cell_type": "markdown",
   "metadata": {
    "id": "CQIXGvaFWHhO"
   },
   "source": [
    "$$\\left[-0.697, 0.277\\right] \\ni \\beta_2$$"
   ]
  },
  {
   "cell_type": "markdown",
   "metadata": {
    "id": "RVmE4MBPWrld"
   },
   "source": [
    "Доверительный эллипсоид для параметра $(\\beta_0, \\beta_1, \\beta_2)$:\n",
    "\n",
    "ДНО-функция: $\\psi = C^\\intercal \\beta = (\\beta_0, \\beta_1, \\beta_2)^\\intercal$\n",
    "\n",
    "Тогда $C = \\begin{pmatrix}1 & 0 & 0\\\\0 & 1 &0 \\\\ 0&0&1 \\end{pmatrix}$\n",
    "\n",
    "Тогда МНК оценка равна $\\hat{\\psi} = (\\hat{\\beta}_0, \\hat{\\beta}_1,\\hat{\\beta}_2)^\\intercal$\n",
    "\n",
    "Найдем доверительный эллипсоид вида: $\\left\\{\\overrightarrow{x} : \\left(\\overrightarrow{x} - \\hat{\\psi}\\right)^\\intercal b_\\psi^{-1} \\left(\\overrightarrow{x} - \\hat{\\psi}\\right) \\le q S^2 x_\\alpha\\right\\}$,\n",
    "\n",
    "где $x_\\alpha: \\mathcal{F}_{q, n-r}(x_\\alpha) = 1 - \\alpha$, $b_\\psi = C^\\intercal(XX^\\intercal)^{-1}C$"
   ]
  },
  {
   "cell_type": "code",
   "execution_count": 47,
   "metadata": {
    "colab": {
     "base_uri": "https://localhost:8080/"
    },
    "id": "q5uA-z3kX_M0",
    "outputId": "fd7b59c4-6672-4482-e02e-042c1b44a893"
   },
   "outputs": [
    {
     "name": "stdout",
     "output_type": "stream",
     "text": [
      "Определитель матрицы b_psi =  2.2335747380910506e-07\n",
      "x_alpha =  4.227900552121905\n",
      "Неравенство имеет вид: 50.0000000000002*x**2 + 494.000000000003*x*y + 2726.00000000002*x*z - 1014.52000000002*x + 1363.00000000001*y**2 + 16166.0000000001*y*z - 5003.9600000001*y + 50539.0000000004*z**2 - 27318.5600000006*z + 5174.11583781878 <= 262.2497704638158\n",
      "Перенесем все в левую часть: 50.0000000000002*x**2 + 494.000000000003*x*y + 2726.00000000002*x*z - 1014.52000000002*x + 1363.00000000001*y**2 + 16166.0000000001*y*z - 5003.9600000001*y + 50539.0000000004*z**2 - 27318.5600000006*z + 4911.86606735496 <= 0\n",
      "Итоговый вид неравенства: 197.79055574853*x'**2 + 0.00409369348847835*y'**2 + 0.306572565222446*z'**2 <= 1\n",
      "Длины полуосей: 0.07110452255764989, 15.629401180456616 , 1.806064915346118\n"
     ]
    }
   ],
   "source": [
    "r = np.linalg.matrix_rank(X_matrix)\n",
    "n = len(X)\n",
    "q = len(Beta_matrix)\n",
    "x_alpha = sps.f.ppf(1 - alpha, dfn = q, dfd = n - r)\n",
    "C = np.matrix([[1, 0, 0], [0, 1, 0], [0, 0, 1]])\n",
    "b_psi = C.T * np.linalg.inv(X_matrix * X_matrix.T) * C\n",
    "print(\"Определитель матрицы b_psi = \", np.linalg.det(b_psi))\n",
    "print(\"x_alpha = \", x_alpha)\n",
    "\n",
    "x_symbol = sympy.Symbol('x', real=True)\n",
    "y_symbol = sympy.Symbol('y', real=True)\n",
    "z_symbol = sympy.Symbol('z', real=True)\n",
    "x_vec = np.matrix([[x_symbol], [y_symbol], [z_symbol]])\n",
    "expr = (x_vec - Beta_matrix).T * np.linalg.inv(b_psi) * (x_vec - Beta_matrix)\n",
    "print(f\"Неравенство имеет вид: {expr[0,0].as_poly().as_expr()} <= {q * unbias_var * x_alpha}\")\n",
    "expr = expr[0,0].as_poly().as_expr() - q * unbias_var * x_alpha\n",
    "print(f\"Перенесем все в левую часть: {expr} <= 0\")\n",
    "x_2_symbol = sympy.Symbol(\"x'\", real=True)\n",
    "y_2_symbol = sympy.Symbol(\"y'\", real=True)\n",
    "z_2_symbol = sympy.Symbol(\"z'\", real=True)\n",
    "ev, _ = np.linalg.eig(np.linalg.inv(b_psi))\n",
    "koef = ev / (x_alpha * q * unbias_var)\n",
    "expr = koef[0]*x_2_symbol**2+koef[1]*y_2_symbol**2+koef[2]*z_2_symbol**2\n",
    "print(f\"Итоговый вид неравенства: {expr} <= 1\")\n",
    "print(f\"Длины полуосей: {np.sqrt(1/koef[0])}, {np.sqrt(1/koef[1])} , {np.sqrt(1/koef[2])}\")"
   ]
  },
  {
   "cell_type": "markdown",
   "metadata": {},
   "source": [
    "\n",
    "**Уравнение доверительного эллипсоида:**\n",
    "\n",
    "$$ \\frac{x^2}{0.0711^2} + \\frac{y^2}{15.629^2} + \\frac{z^2}{ 1.806^2} = 1$$"
   ]
  },
  {
   "cell_type": "markdown",
   "metadata": {
    "id": "dJRGabAth9GU"
   },
   "source": [
    "### 8. Сформулировать гипотезу линейной регрессионной зависимости переменной $Y$ от переменной $X$ и проверить её значимость на уровне $\\alpha$.\n"
   ]
  },
  {
   "cell_type": "markdown",
   "metadata": {
    "id": "wfNYLbZzXCK9"
   },
   "source": [
    "Основная гипотеза: $H_0 : \\psi = 0$\n",
    "\n",
    "$\\mathbb{F}_{статистика}$: $\\mathbb{F} = \\frac{SS_H/q}{SS_e/(n-r)}$,\n",
    "\n",
    "где $SS_H = RSS(\\hat{\\beta}_H) - RSS(\\hat{\\beta})$, $\\hat{\\beta}_H$ - МНК оценка при выполнении основной гипотезы\n",
    "\n",
    "$SS_e=RSS(\\hat{\\beta})$\n"
   ]
  },
  {
   "cell_type": "code",
   "execution_count": 57,
   "metadata": {
    "colab": {
     "base_uri": "https://localhost:8080/"
    },
    "id": "92yWYmlSiVg_",
    "outputId": "08e637fe-4750-4796-f9d7-499ed3032d88"
   },
   "outputs": [
    {
     "name": "stdout",
     "output_type": "stream",
     "text": [
      "F_статистика = 0.44747329958445403\n",
      "x_alpha = 4.227900552121905\n"
     ]
    }
   ],
   "source": [
    "X_matrix_h = np.matrix([[1] * len(X), X])\n",
    "Beta_h_matrix = np.linalg.inv(X_matrix_h * X_matrix_h.T) * X_matrix_h * Y_matrix\n",
    "beta_0_h = float(Beta_h_matrix[0])\n",
    "beta_1_h = float(Beta_h_matrix[1])\n",
    "beta_2_h = 0\n",
    "Beta_h_matrix = np.matrix([[beta_0_h], [beta_1_h], [beta_2_h]])\n",
    "#print(f\"Оценка вектора бета при выполнении основной гипотезы: ({beta_0_h}, {beta_1_h}, {beta_2_h})\")\n",
    "F_statist = (np.linalg.norm(Y_matrix - X_matrix.T * Beta_h_matrix)**2 - np.linalg.norm(Y_matrix - X_matrix.T * Beta_matrix)**2)/q/unbias_var\n",
    "print(f\"F_статистика = {F_statist}\")\n",
    "print(f\"x_alpha = {sps.f.ppf(1 - alpha, q, n - r)}\")"
   ]
  },
  {
   "cell_type": "markdown",
   "metadata": {
    "id": "nv3z2Sy3kDbs"
   },
   "source": [
    "$\\mathbb{F}_{статистика} \\approx 0.447$\n",
    "\n",
    "Граница критической области $x_{\\alpha} \\approx 4.228$\n",
    "\n",
    "Так как $\\mathbb{F}_{статистика} < x_{\\alpha}$ , то принимаем гипотезу "
   ]
  },
  {
   "cell_type": "markdown",
   "metadata": {
    "id": "AVCrYI4aKQy6"
   },
   "source": [
    "## Выводы\n",
    "В ходе выполнения практической работы был проведен регрессионный анализ. \n",
    "Были изучены основные положения метода наименьших квадратов (МНК), статистические свойства МНК-оценок,  понятие функции регрессии и роль МНК в регрессионном анализе.\n",
    "Были сформулированы линейные регрессионные модели, построены несмещённые оценки дисперсии, построены МНК оценки параметров,произведено исследование нормальности ошибок,построены доверительные интервалы, доверительный эллипс, написано уравнение доверительного эллипсоида, проверены гипотезы о независимости и линейной регрессионной зависимости. "
   ]
  }
 ],
 "metadata": {
  "colab": {
   "provenance": []
  },
  "kernelspec": {
   "display_name": "python  (ipykernel)",
   "language": "python",
   "name": "python3"
  },
  "language_info": {
   "codemirror_mode": {
    "name": "ipython",
    "version": 3
   },
   "file_extension": ".py",
   "mimetype": "text/x-python",
   "name": "python",
   "nbconvert_exporter": "python",
   "pygments_lexer": "ipython3",
   "version": "3.11.4"
  }
 },
 "nbformat": 4,
 "nbformat_minor": 1
}
