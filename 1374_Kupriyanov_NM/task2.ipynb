{
 "cells": [
  {
   "cell_type": "markdown",
   "metadata": {
    "id": "Dgizzcch0Oa_"
   },
   "source": [
    "# Практическая работа №2: Классические методы математической статистики\n",
    "Выполнил студент гр.1374 Куприянов Никита. Вариант 11"
   ]
  },
  {
   "cell_type": "markdown",
   "metadata": {
    "id": "tfao5oPNBTku"
   },
   "source": [
    "## Цель работы\n",
    "Научится применять методы математической статистики для решения задач статистического анализа; сформировать навыки реализации методов с помощью прикладных программных пакетов."
   ]
  },
  {
   "cell_type": "markdown",
   "metadata": {
    "id": "lGfbEBIpBu9M"
   },
   "source": [
    "## Основные теоретические положения\n",
    "\n",
    "1)Выборочные числовые характеристики:\n",
    "\n",
    "Мат.ожидание \n",
    "\n",
    "$$\\overline{X}=\\frac{1}{n}\\sum_{i=1}^{n}X_{i}$$\n",
    "\n",
    "Дисперсия \n",
    "\n",
    "$$S^{2}=\\frac{1}{n}\\sum_{i=1}^{n}\\left( X_{i}-\\overline{X} \\right)^{2}=\\overline{X^{2}}-\\overline{X}^{2}$$\n",
    "\n",
    "Коэффициент асимметрии \n",
    "\n",
    "$$\\widehat{S_{kew}}X=\\frac{\\left(\\frac{1}{n}\\sum_{i=1}^{n}\\left( X_{i}-\\overline{X} \\right)^{3} \\right)}{S^{3}}$$\n",
    "\n",
    "Коэффициент эксцесса \n",
    "\n",
    "$$\\widehat{K_{urt}}X=\\frac{\\frac{1}{n}\\sum_{i=1}^{n}\\left( X_{i}-\\overline{X}^{4} \\right)}{S^{4}}-3$$\n",
    "\n",
    "2)Оценка Максимального Правдоподобия (ОМП):\n",
    "\n",
    "Если $X_{1},...,X_{n}$-выборка из распределения с плотностью распределения $P_{\\theta}, \\theta\\in \\Theta$, то\n",
    "\n",
    " Функция правдоподобия распадается в произведения $L(\\overrightarrow{X},\\theta)=\\prod_{i=1}^{n}P_{\\theta}(X_{i})$\n",
    "\n",
    "Логарифм функции правдоподобия представляется в виде суммы $LL(\\overrightarrow{X},\\theta)=\\ln L(\\overrightarrow{X},\\theta)=\\sum_{i=1}^{n}\\ln P_{\\theta}(X_{i})$\n",
    "\n",
    " \n",
    "\n",
    "3)Оценка метода моментов (ОММ)}\n",
    "\n",
    "Пусть $X_{1},...,X_{n}$-выбока из распределения $P_{\\theta}, \\theta=(\\theta_{1},...,\\theta_{d})$\n",
    "\n",
    "$\\exists \\mu_{k}(\\theta)=\\mathbb{E}X^{k}_{1}, k=\\overline{1,d}$\n",
    "\n",
    "Если $\\exists$ ! решение $\\widetilde{\\theta}(X)$ системы уравнений: $\\widehat{\\mu^{k}}(\\widetilde{\\theta})=\\mu_{k}(\\theta), k=\\overline{1,d}$, где $\\widetilde{\\theta}(X)=\\frac{1}{n}\\sum_{i=1}^{n}X^{k}_{i}$-выборочный момент k-го порядка, то $\\widetilde{\\theta}(X)$ называется оценкой по методу моментов\n",
    "\n",
    "4)НРМД-оценка\n",
    "\n",
    "Оценка $\\widehat{\\theta}(X)$ параметра $\\theta$ называется несмещенной, если при любом значении параметра $\\theta\\in \\Theta: \\mathbb{E}\\widehat{\\theta}(X)=\\theta$\n",
    "\n",
    "Смещением оценки называется величина: $bias_{\\widehat{\\theta}}(\\theta)=\\mathbb{E}_{\\theta}\\widehat{\\theta}(X)-\\theta$\n",
    "\n",
    "Алгоритм несмещенного оценивания:\n",
    "\n",
    "1. Найти оценку $\\widehat{\\theta}(T)$, являющуюся функцией от минимальной достаточной статистики T(e.g.ОМП)\n",
    "\n",
    "2. Доказать полноту МДС T\n",
    "\n",
    "3. Скорректировать смещение:$\\widetilde{\\theta}(T)=f(\\widehat{\\theta}(T),T): \\mathbb{E}_{\\theta}\\widetilde{\\theta}(T)=\\theta,\\forall \\theta\\in \\Theta$\n",
    "\n",
    "5)Асимптотический доверительный интервал (АДИ)\n",
    "\n",
    "5.1 На базе Асимптотической нормальности оценки $\\widehat{\\theta}$\n",
    "\n",
    "Асимптотическая нормальность $\\sqrt{n}\\left( \\widehat{\\theta}(\\overrightarrow{X})-\\theta)\\right)\\sim \\mathcal{N}\\left(0,\\sigma^{2}(\\theta)\\right)$\n",
    "\n",
    " Тогда $\\sqrt{n}\\frac{\\widehat{\\theta}(\\overrightarrow{X})-\\theta}{\\sigma\\left(\\widehat{\\theta}(\\overrightarrow{X})\\right)}$    \n",
    "\n",
    " Выбираем $X_{\\alpha}: \\Phi(X_{\\alpha})=1-\\frac{\\alpha}{2}$\n",
    "\n",
    " А.Д.И. $\\left[ \\widehat{\\theta}(\\overrightarrow{X})-\\frac{X_{\\alpha}\\cdot \\sigma\\left( \\widehat{\\theta}(\\overrightarrow{X}) \\right)}{\\sqrt{n}}; \\widehat{\\theta}(\\overrightarrow{X})+\\frac{X_{\\alpha}\\cdot \\sigma\\left( \\widehat{\\theta}(\\overrightarrow{X}) \\right)}{\\sqrt{n}}\\right]$\n",
    "\n",
    "5.2 на базе ОМП\n",
    "\n",
    " Пусть $\\widehat{\\theta}(\\overrightarrow{X})$-ОМП\n",
    "\n",
    "При выполнении опр.условий регулярности: $\\sqrt{n}\\left( \\widehat{\\theta}(\\overrightarrow{X})-\\theta)\\right)\\sim \\mathcal{N}\\left(0,\\frac{1}{I(\\theta)}\\right), I(\\theta)=-\\mathbb{E}\\left( \\frac{\\partial^{2} LL}{\\partial \\theta^{2}} \\right)$-информация Фишера\n",
    "\n",
    " Тогда $\\sqrt{n\\cdot I\\left( \\widehat{\\theta}(\\overrightarrow{X}) \\right)}\\cdot \\left( \\widehat{\\theta}(\\overrightarrow{X})-\\theta \\right)\\sim \\mathcal{N}(0,1)$\n",
    "\n",
    " Выбираем $X_{\\alpha}: \\Phi(X_{\\alpha})=1-\\frac{\\alpha}{2}$\n",
    "\n",
    " А.Д.И $\\left[ \\widehat{\\theta}(\\overrightarrow{X})-\\frac{X_{\\alpha}}{\\sqrt{n\\cdot I\\left( \\widehat{\\theta}(\\overrightarrow{X}) \\right)}};\\widehat{\\theta}(\\overrightarrow{X})+\\frac{X_{\\alpha}}{\\sqrt{n\\cdot I\\left( \\widehat{\\theta}(\\overrightarrow{X}) \\right)}} \\right]$\n",
    "\n",
    "6) Критерий $\\chi^2$ для проверки гипотез\n",
    "\n",
    "основан на сравнении теоретической плотности распределения и гистограммы, либо теоритической вероятностной меры и полигона частот.\n",
    "\n",
    "Разобъем множество значений сл. вел. X на $N$ интервалов $I_{1}, ..., I_{N}:$ $I_{i} = (a_{i-1}, a_i], i = \\overline {1,N}$. данные интервалы не пересекаются и покрывают всё множество возможных значений сл. вел. X.\n",
    "\n",
    "Обозначим через $p_{i}$ теоритическую вероятность попадания сл. вел. X в интервал $I_{i}$, при условии, что справедлива $H_{0}$.\n",
    "\n",
    "$p_{i} = P(X \\in I_{i}|H_{0})$\n",
    "\n",
    "Через $n_{i}$ обозначим число наблюдений нашей выборки, попавших в соответветствующий интервал $I_{i}$.\n",
    "\n",
    "$n_{i} = num(x_{j} \\in I_{i})$\n",
    "\n",
    "Статистика критерия основана на сравнении относительной частоты и теоритической.\n",
    "\n",
    "$\\chi^{2}_{набл} = \\sum \\limits_{i=1}^{N} \\frac{n}{p_{i}} \\bigg ( \\frac{n_{i}}{n} - p_{i} \\bigg )^{2} = \\sum \\limits_{i=1}^{N} \\frac{(n_{i} - p_{i} n)^{2}}{n p_{i}} \\sim \\chi^{2}_{N-1}$\n",
    "\n",
    "Если $\\mathcal{X}^{2}_{N-1,1-\\alpha_{1}} \\gt \\chi^2_{набл}$, то гипотезу принимаем\n",
    "\n",
    "Если $\\mathcal{X}^{2}_{N-1,1-\\alpha_{1}} \\lt \\chi^2_{набл}$, то гипотезу отвергаем\n",
    "\n",
    "7)теорема Колмогорова\n",
    "\n",
    "$D_{n} = \\overset{}{\\underset{X \\in \\mathbb R}{sup}} |F_{n}(x) - F_{0}(x)|$\n",
    "\n",
    "Если гипотеза $H_{0}$ верна, и $F_{0}(X)$ - непрерывная ф-я на $\\mathbb R$, тогда имеет место сходимость\n",
    "\n",
    "$\\sqrt{n}D_{n} \\to K $ , при основной гипотезе\n",
    "\n",
    "8)Наиболее мощный критерий простой гипотезы\n",
    "\n",
    "Для основной гипотезы $H_{0}: \\theta=\\theta_{0}$ и альтернативной гипотезы $H_{1}: \\theta=\\theta_{1}$, где $\\theta_{0}$ и $\\theta_{1}$ - фиксированные параметры, мы можем построить статистику правдоподобия:\n",
    "\n",
    "$LR(\\overrightarrow{X},\\theta_{1},\\theta_{0})=\\frac{L(\\overrightarrow{X},\\theta_{1})}{L(\\overrightarrow{X},\\theta_{0})}=\\frac{P_{\\theta_{1}}(X)}{P_{\\theta_{0}}(X)}$ - статистика отношений правдоподобия\n",
    "\n",
    "где $L(\\overrightarrow{X},\\theta_{1})$ - функция правдоподобия для альтернативной гипотезы, а $L(\\overrightarrow{X}\\theta_{0})$ - функция правдоподобия для основной гипотезы.\n",
    "\n",
    "Наиболее мощным критерием будет критическая область, в которой наблюдаемое значение статистики правдоподобия $LR(\\overrightarrow{X},\\theta_{1},\\theta_{0})$ будет отклоняться от значения 1 в сторону более высоких значений.\n",
    "\n",
    "\n",
    "$LR(\\overrightarrow{X},\\theta_{1},\\theta_{0})\\gt c$, то принимаем основную гипотезу  \n",
    " \n",
    "$LR(\\overrightarrow{X},\\theta_{1},\\theta_{0})\\lt c$, то отвергаем основную гипотезу"
   ]
  },
  {
   "cell_type": "markdown",
   "metadata": {
    "id": "X-OSbbFMB4aM"
   },
   "source": [
    "## Постановка задачи\n",
    "Для полученных в результате эксперимента наборов данных выполнить статистическую обработку. Полученные результаты содержательно проинтерпретировать."
   ]
  },
  {
   "cell_type": "markdown",
   "metadata": {
    "id": "FFEysGy7CDvZ"
   },
   "source": [
    "## Выполнение работы"
   ]
  },
  {
   "cell_type": "markdown",
   "metadata": {
    "id": "f__gimKYKZZ5"
   },
   "source": [
    "### Задание 1"
   ]
  },
  {
   "cell_type": "code",
   "execution_count": 81,
   "metadata": {
    "id": "13Ei00PCAbqI"
   },
   "outputs": [],
   "source": [
    "import numpy as np\n",
    "import matplotlib.pyplot as plt\n",
    "from scipy import stats\n",
    "\n",
    "# Входные данные\n",
    "data = [0, 10, 1, 0, 1, 5, 4, 1, 1, 4, 0, 0, 2, 3, 1, 0, 1, 8, 1, 5, 2, 1, 0, 1, 0, 3, 2, 0, 4, 0, 1, 1, 6, 8, 0, 2, 0, 2, 1, 2, 1, 0, 0, 1, 1, 4, 2, 7, 1, 2]"
   ]
  },
  {
   "cell_type": "markdown",
   "metadata": {
    "id": "DzRE7SrPCOoY"
   },
   "source": [
    "#### a)Построить вариционный ряд, эмпирическую функцию распределения и гистограмму частот"
   ]
  },
  {
   "cell_type": "code",
   "execution_count": 82,
   "metadata": {
    "colab": {
     "base_uri": "https://localhost:8080/",
     "height": 246
    },
    "id": "rkIoTsqIqwg2",
    "outputId": "c05f884b-a65d-4818-8d98-007e10514b88"
   },
   "outputs": [
    {
     "name": "stdout",
     "output_type": "stream",
     "text": [
      "Вариационный ряд: [ 0  0  0  0  0  0  0  0  0  0  0  0  0  1  1  1  1  1  1  1  1  1  1  1\n",
      "  1  1  1  1  1  2  2  2  2  2  2  2  2  3  3  4  4  4  4  5  5  6  7  8\n",
      "  8 10]\n"
     ]
    }
   ],
   "source": [
    "# Вариационный ряд\n",
    "variation = np.sort(data)\n",
    "print(\"Вариационный ряд:\", variation)"
   ]
  },
  {
   "cell_type": "code",
   "execution_count": 83,
   "metadata": {
    "colab": {
     "base_uri": "https://localhost:8080/",
     "height": 211
    },
    "id": "iI4_MXCEv4WR",
    "outputId": "a3a4553b-33fd-4ad7-cd22-f192c863b703"
   },
   "outputs": [
    {
     "data": {
      "image/png": "[encoded data removed]",
      "text/plain": [
       "<Figure size 640x480 with 1 Axes>"
      ]
     },
     "metadata": {},
     "output_type": "display_data"
    }
   ],
   "source": [
    "# Эмпирическая функция распределения\n",
    "ecdf = np.arange(1, len(variation) + 1) / len(variation)\n",
    "plt.step(variation, ecdf, label='Эмпирическая функция распределения')\n",
    "plt.xlabel('Значение')\n",
    "plt.ylabel('Вероятность')\n",
    "plt.show()"
   ]
  },
  {
   "cell_type": "code",
   "execution_count": 84,
   "metadata": {
    "colab": {
     "base_uri": "https://localhost:8080/",
     "height": 211
    },
    "id": "aQFzsyuFvlVj",
    "outputId": "f8d9fcdc-e3ea-47d7-eee6-3dce5897aa09"
   },
   "outputs": [
    {
     "data": {
      "image/png": "[encoded data removed]",
      "text/plain": [
       "<Figure size 640x480 with 1 Axes>"
      ]
     },
     "metadata": {},
     "output_type": "display_data"
    }
   ],
   "source": [
    "\n",
    "# Гистограмма частот\n",
    "plt.figure()\n",
    "plt.hist(data, bins='auto', alpha=0.7, rwidth=0.85)\n",
    "plt.xlabel('Значение')\n",
    "plt.ylabel('Частота')\n",
    "\n",
    "plt.show()"
   ]
  },
  {
   "cell_type": "markdown",
   "metadata": {
    "id": "L6smtvKiCptl"
   },
   "source": [
    "#### b) Вычислить выборочные аналоги следующих числовых характеристик: (i)математическое ожидание, (ii)дисперсия, (iii)СКО, (iv)медианы (v)асимметрии, (vi)эксцесса (vi) вероятности $\\mathrm{P}(X\\in \\left[ a,b \\right])$"
   ]
  },
  {
   "cell_type": "code",
   "execution_count": 85,
   "metadata": {
    "colab": {
     "base_uri": "https://localhost:8080/"
    },
    "id": "oYiXySOcEDpE",
    "outputId": "3362f5de-f396-4ec5-f59b-979bbe24d70b"
   },
   "outputs": [
    {
     "name": "stdout",
     "output_type": "stream",
     "text": [
      "Мат.ожидание= 2.06\n",
      "Дисперсия= 5.616399999999999\n",
      "Выборочное стандартное отклонение= 2.369894512420331\n",
      "Медиана= 1.0\n",
      "Асимметрия= 1.5783919677367075\n",
      "Эксцесс= 1.921912386964502\n",
      "Вероятность P(X ∈ [1.51, 3.96]) равна 0.2000\n"
     ]
    }
   ],
   "source": [
    "a = 1.51   # Нижняя граница интервала\n",
    "b = 3.96    # Верхняя граница интервала\n",
    "\n",
    "mean = np.mean(data)  # Выборочное математическое ожидание\n",
    "variance = np.var(data)  # Дисперсия\n",
    "deviation=np.std(data) #СКО\n",
    "median = np.median(data)  # Медиана\n",
    "skewness = stats.skew(data)  # Асимметрия\n",
    "kurtosis = stats.kurtosis(data)  # Эксцесс\n",
    "probability = len([x for x in data if a <= x <= b]) / len(data)  # Вероятность\n",
    "print(\"Мат.ожидание=\",mean)\n",
    "print(\"Дисперсия=\",variance)\n",
    "print(\"Выборочное стандартное отклонение=\",deviation)\n",
    "print(\"Медиана=\",median)\n",
    "print(\"Асимметрия=\",skewness)\n",
    "print(\"Эксцесс=\",kurtosis)\n",
    "print(\"Вероятность P(X ∈ [{}, {}]) равна {:.4f}\".format(a, b, probability))"
   ]
  },
  {
   "cell_type": "markdown",
   "metadata": {
    "id": "Qt3oFzjjJfXn"
   },
   "source": [
    "#### c)В предположении, что исходные наблюдения являются выборкой из распределения Пуассона, построить ОМП и ОММ параметра $\\lambda$.Найти смещение оценки. \n",
    "\n",
    "ОМП.\n",
    "Плотность распределения Пуассона: $P_{\\lambda}(X=k)=\\frac{\\lambda^{k}}{k!}\\cdot exp(-\\lambda)$\n",
    "\n",
    "Функция правдоподобия:\n",
    "\n",
    "$L(\\overrightarrow{X};\\theta)=\\prod_{i=1}^{n}P_{\\lambda}(X_{i})=\\prod_{i=1}^{n}\\frac{\\lambda^{X_{i}}}{X_{i}!}\\cdot exp(-\\lambda)=\\frac{\\lambda^{\\sum_{i=1}^{n}X_{i}}}{\\prod_{i=1}^{n}(X_{i}!)}\\cdot exp(-n\\cdot \\lambda)$\n",
    "\n",
    "\n",
    "$LL(\\overrightarrow{X};\\theta)= \\sum_{i=1}^{n}X_{i}\\cdot \\ln(\\lambda)-\\ln(\\prod_{i=1}^{n}X_{i}!)-n\\cdot \\lambda$\n",
    "\n",
    "Частная производная по параметру $\\lambda$ \n",
    "\n",
    "$\\frac{\\partial LL(\\overrightarrow{X};\\theta)}{\\partial \\lambda} = \\frac{\\sum_{i=1}^{n}X_{i}}{\\lambda}-n=0$\n",
    "\n",
    "$\\frac{\\sum_{i=1}^{n}X_{i}}{\\lambda}=n $\n",
    "\n",
    "$\\lambda=\\frac{\\sum_{i=1}^{n}X_{i}}{n}$\n",
    "\n",
    "$\\widehat{\\lambda}=\\overline{X}$.\n",
    "\n",
    "Значение параметра: $\\widehat{\\lambda}=\\overline{X}=2$\n",
    "\n",
    "\n",
    "ОММ.\n",
    "Для закона Пуассона $P_{\\lambda}(X=k)=\\frac{\\lambda^{k}}{k!}\\cdot exp(-\\lambda)$\n",
    "\n",
    "\n",
    "\n",
    "$\\mathbb{E}X_{1} = \\sum_{k=o}^\\infty \\cdot P(X=k) =  \\sum_{k=o}^\\infty  k \\frac{\\lambda^k} {k!}\\cdot e^{-\\lambda} = e^{-\\lambda}(0+ \\lambda+ \\frac{2\\lambda^{2}} {2!} + \\frac{3\\lambda^{3}} {3!}+ ...) = e^{-\\lambda}(\\lambda+ \\frac{\\lambda^{2}} {1!} + \\frac{\\lambda^{3}} {2!}+  \\frac{\\lambda^{4}} {3!}+ ..) = e^{-\\lambda} \\lambda( 1+ \\lambda + \\frac{\\lambda^{2}} {2!} +\\frac{\\lambda^{3}} {3!} +...) = e^{-\\lambda} \\lambda e^{\\lambda} = \\lambda $\n",
    "\n",
    "\n",
    "$\\mathbb{E}X_{1}=\\lambda;M_{1}=\\overline{X}$ параметр 1-но мерный, система будет из одного уравнения.\n",
    "\n",
    "Тогда  $\\widetilde{\\lambda}=\\overline{X}=2$\n",
    "\n",
    "\n",
    "Смещение оценки.\n",
    "\n",
    "Для нахождения НРМД-оценки \n",
    "\n",
    "$g\\left(T(\\overrightarrow{X})\\right)=\\lambda^{\\sum_{i=1}^{n}X_{i}}\\cdot exp(-n\\cdot \\lambda)$\n",
    "\n",
    "$h(\\overrightarrow{X})=\\frac{1}{\\prod_{i=1}^{n}X_{i}!}$\n",
    "\n",
    "МДС: $T=\\sum_{i=1}^{n}X_{i} = 109$.\n",
    "\n",
    "Распределение Пуассона принадлежит экспоненциальному семейству, следовательно, МДС является ПДС.\n",
    "\n",
    "$ \\mathbb{E}\\widehat{\\lambda}= \\mathbb{E}_{\\lambda}\\overline{X}=\\mathbb{E}_{\\lambda}\\frac{1}{n}\\cdot \\sum_{i=1}^{n}x_{i}=\\frac{1}{n}\\cdot \\mathbb{E_{\\lambda}}\\sum_{i=1}^{n}x_{i}=\\frac{1}{n}\\cdot \\sum_{i=1}^{n}\\mathbb{E_{\\lambda}}X_{1}=\\frac{1}{n}\\cdot n\\cdot \\mathbb{E}_{\\lambda}X_{1}=\\lambda=2$-НРМД-оценка"
   ]
  },
  {
   "cell_type": "markdown",
   "metadata": {
    "id": "FyUqDbBYWYYL"
   },
   "source": [
    "#### d)Построить А.Д.И. уровня значимости $\\alpha_1$ для параметра $\\lambda$ на базе ОМП\n",
    "1. Построим на базе ОМП.\n",
    "\n",
    "$\\sqrt{n}\\left( \\widehat{\\theta}(\\overrightarrow{X})-\\theta \\right)\\sim N\\left( 0, \\frac{1}{I(\\theta)} \\right)$\n",
    "\n",
    "ОМП $\\widehat{\\theta}=\\widehat{\\lambda}=\\overline{X}$\n",
    "\n",
    "Найдем информацию Фишера: $I(\\theta)=-\\mathbb{E}\\left( \\frac{\\partial^{2} LL}{\\partial \\lambda^{2}} \\right)=-\\mathbb{E}\\left( -\\frac{\\sum_{i=1}^{n}X_{i}}{\\lambda^{2}} \\right)=\\frac{n}{\\lambda^{2}}$\n",
    "\n",
    "Тогда $\\sqrt{n\\cdot I\\left(  \\widehat{\\theta}(\\overrightarrow{X})\\right)}\\left( \\widehat{\\theta}(\\overrightarrow{X})-\\theta \\right)\\sim N(0,1)$\n",
    "\n",
    "Выбираем $X_{\\alpha}$: $\\mathrm{Ф}(X_{\\alpha})=1-\\frac{\\alpha_{1}}{2}=1-\\frac{0.1}{2}=0.95 \\to X_{0.95}=1.645$\n",
    "\n",
    "$А.Д.И. \\left[ \\overline{X}-\\frac{X_{0.95}}{\\sqrt{50\\cdot \\frac{50}{\\overline{X}}}}; \\overline{X}+\\frac{X_{0.95}}{\\sqrt{50\\cdot \\frac{50}{\\overline{X}}}}\\right] \\to 2-\\frac{1.645}{35.36}\\le \\lambda\\le 2+\\frac{1.645}{35.36}$\n",
    "\n",
    "$1.95\\le \\lambda\\le 2.05$ - А.Д.И $\\lambda$.\n",
    "\n",
    "2. Построим на безе асимтотической нормальной оценки $\\widehat{\\theta}$\n",
    "\n",
    "$\\sqrt{n}\\left( \\widehat{\\theta}(\\overrightarrow{X})-\\theta \\right)\\sim N(0,\\sigma^{2}(\\theta))$\n",
    "\n",
    "$\\sqrt{n}\\frac{ \\widehat{\\theta}(\\overrightarrow{X})-\\theta}{\\sigma(\\widehat{\\theta})}\\sim N(0,1)$\n",
    "\n",
    "$X_{\\alpha}: \\mathrm{Ф(X_{\\alpha})}=0.95\\to X_{0.95}=1.645$\n",
    "\n",
    "$-X_{0.95}\\le \\sqrt{n}\\cdot \\frac{\\widehat{\\lambda}-\\lambda}{\\sqrt{\\widehat{\\lambda}}}\\le X_{0.95}$\n",
    "\n",
    "$2-\\frac{1.645\\cdot \\sqrt{2}}{\\sqrt{50}}\\le \\lambda\\le 2+\\frac{1.645\\cdot \\sqrt{2}}{\\sqrt{50}}\\to 1.671\\le \\lambda\\le 2.329$ - А.Д.И. параметра $\\lambda$"
   ]
  },
  {
   "cell_type": "markdown",
   "metadata": {
    "id": "3noN0hiiWsqi"
   },
   "source": [
    "#### e)Используя гистограмму частот, построить критерий значимости $\\mathcal{X^{2}}$ проверки простой гипотезы согласия с распределением Пуассона с параметром $\\lambda_{0}$. Проверить гипотезу на урокень значимости $\\alpha_{1}$. Вычислить наибольшее значение уровня значимости, на котором ещё нет оснований отвергнуть данную гипотезу.   \n",
    "\n",
    "$P_{i}=P_{H_{0}}=(X\\in I_{i})=\\sum_{k\\in I_{i}}^{}\\frac{\\lambda_{0}^{k}}{k!}exp(-\\lambda_{0})$\n",
    "\n",
    "$I_{1}=\\left[ 0,1,2 \\right], n_{1}=37$\n",
    "\n",
    "\n",
    "$P_{1}=\\frac{2^{0}}{0!}exp(-2)+\\frac{2^{1}}{1!}exp(-2) + \\frac{2^{2}}{2!}exp(-2)=0.677$\n",
    "\n",
    "$ nP_{1}=33.83$\n",
    "\n",
    "$I_{2}=\\left[ 3,4,5 \\right], n_{2}=6$\n",
    "\n",
    "$P_{2}=\\frac{2^{3}}{3!}exp(-2)+\\frac{2^{4}}{4!}exp(-2) + \\frac{2^{5}}{5!}exp(-2)=0.306$\n",
    "\n",
    "$nP_{2}=15.3$\n",
    "\n",
    "$I_{3}=\\left[ 6,7 \\right], n_{3}=4$\n",
    "\n",
    "$P_{3}=\\frac{2^{6}}{6!}exp(-2)+\\frac{2^{7}}{7!}exp(-2)=0.015$\n",
    "\n",
    "$nP_{3}=0.77$\n",
    "\n",
    "$I_{4}=\\left[ 8,9,10,11....... \\right), n_{4}=3$\n",
    "\n",
    "$P_{4}=1-(P1+P2+P3) =0.002$\n",
    "\n",
    "$nP_{4}=0.1$\n",
    "\n",
    "Критерий $\\mathcal{X}^{2}: \\mathcal{X}^{2}_{набл}=\\sum_{i=1}^{4}\\frac{(n_{i}-np_{i})^{2}}{np_{i}} =194.17$\n",
    "\n",
    "$\\mathcal{X}^{2}_{N-1,1-\\alpha_{1}}=\\mathcal{X}^{2}_{3,0.9}\\simeq 0.584$\n",
    "\n",
    "$\\mathcal{X}^{2}\\gt \\mathcal{X}^{2}_{3,0.9}\\to$ по критерию Пирсона отвергаем гипотезу\n",
    "\n",
    "\n",
    "\n",
    "$p-value= 1 - F_{T}(T) = 1 -\\mathcal{X_3^{2}}(\\mathcal{X}^{2}_{набл}) = 1-\\mathcal{X^{2}}(194.17 )$ < 0.0001  \n"
   ]
  },
  {
   "cell_type": "markdown",
   "metadata": {
    "id": "VGtzcCuPe6lw"
   },
   "source": [
    "#### f)Построить критерий значимости  $\\mathcal{X^{2}}$ проверки сложной гипотезы согласия с распределением Пуассона. Проверить гипотезу по уровню значимости $\\alpha_{1}$.Вычислить наибольшее значение уровня значимости, на котором ещё нет оснований отвергнуть данную гипотезу. \n",
    "\n",
    "$P_{i}=P_{H_{0}}=(X\\in I_{i})=\\sum_{k\\in I_{i}}^{}\\frac{\\overline{X}^{k}}{k!}exp(-\\overline{X})$\n",
    "\n",
    "$I_{1}=\\left[ 0,1,2 \\right], n_{1}=37$\n",
    "\n",
    "\n",
    "$P_{1}=\\frac{2^{0}}{0!}exp(-2)+\\frac{2^{1}}{1!}exp(-2) + \\frac{2^{2}}{2!}exp(-2)=0.677$\n",
    "\n",
    "$ nP_{1}=33.83$\n",
    "\n",
    "$I_{2}=\\left[ 3,4,5 \\right], n_{2}=6$\n",
    "\n",
    "$P_{2}=\\frac{2^{3}}{3!}exp(-2)+\\frac{2^{4}}{4!}exp(-2) + \\frac{2^{5}}{5!}exp(-2)=0.306$\n",
    "\n",
    "$nP_{2}=15.34$\n",
    "\n",
    "$I_{3}=\\left[ 6,7 \\right], n_{3}=4$\n",
    "\n",
    "$P_{3}=\\frac{2^{6}}{6!}exp(-2)+\\frac{2^{7}}{7!}exp(-2)=0.015$\n",
    "\n",
    "$nP_{3}=0.77$\n",
    "\n",
    "$I_{4}=\\left[ 8,9,10,11....... \\right), n_{4}=3$\n",
    "\n",
    "$P_{4}=1-(P1+P2+P3) =0.002$\n",
    "\n",
    "$nP_{4}=0.1$\n",
    "\n",
    "Критерий $\\mathcal{X}^{2}: \\mathcal{X}^{2}_{набл}=\\sum_{i=1}^{4}\\frac{(n_{i}-np_{i})^{2}}{np_{i}} =194.17$\n",
    "\n",
    "$\\mathcal{X}^{2}_{N-d-1,1-\\alpha_{1}}=\\mathcal{X}^{2}_{2,0.9}\\simeq 0.211$\n",
    "\n",
    "$\\mathcal{X}^{2}\\gt \\mathcal{X}^{2}_{2,0.9}\\to$ по критерию Пирсона мы отвергаем гипотезу\n",
    "\n",
    "\n",
    "\n",
    "$p-value= 1 - F_{T}(T) = 1 -\\mathcal{X_2^{2}}(\\mathcal{X}^{2}_{набл}) = 1-\\mathcal{X^{2}}(194.17 )$ < 0.0001"
   ]
  },
  {
   "cell_type": "markdown",
   "metadata": {
    "id": "aPuxOjR5KPnE"
   },
   "source": [
    "#### g)Построить наиболее мощный критерий проверки простой гипотезы пауссоновости с параметром $\\lambda=\\lambda_{0}$ при альтернативе пуассоновости с параметром $\\lambda=\\lambda_{1}$. Проверить гипотезу на уровне значимости $\\alpha_{1}$. Что получится, если поменять местами основную и альтернативную гипотезы? \n",
    "\n",
    "Основная гипотеза: $H_{0} : \\lambda=\\lambda_{0}$\n",
    "\n",
    "Альтернативная гипотеза: $H_{A}: \\lambda =\\lambda_{1}$\n",
    "\n",
    "\n",
    "$L(\\overrightarrow{X};\\lambda)=\\prod_{i=1}^{n}\\frac{\\lambda^{X_{i}}}{X_{i}!}\\cdot exp(-\\lambda)=\\frac{\\lambda^{\\sum_{i=1}^{n}X_{i}}}{\\prod_{i=1}^{n}(X_{i}!)}\\cdot exp(-n\\cdot \\lambda)$\n",
    "\n",
    "Статистика  отношения правдоподобия:\n",
    "\n",
    "$LR(\\overrightarrow{X},\\lambda_{1},\\lambda_{0}) = \\frac{L\\left( \\overrightarrow{X},\\lambda_{1} \\right)}{L\\left( \\overrightarrow{X},\\lambda_{0} \\right)}= \\frac{\\lambda_{1}^{\\sum_{i=1}^{50}X_{i}}\\cdot exp(-n\\cdot \\lambda_{1})}{\\lambda_{0}^{\\sum_{i=1}^{50}X_{i}}\\cdot exp(-n\\cdot \\lambda_{0})}$\n",
    "\n",
    "В силу монотонности статистики $LR(\\overrightarrow{X})$ относительно МДС $T(\\overrightarrow{X})=\\sum_{i=1}^{50}X_{i}$\n",
    "\n",
    "$LR(\\overrightarrow{X},\\lambda_{0},\\lambda_{1})\\gt c\\Leftrightarrow \\overline{X}\\gt c$\n",
    "\n",
    "$\\sqrt{n}\\frac{\\overline{X}-\\lambda_{0}}{\\sqrt{\\overline{X}}}\\sim N(0,1)$\n",
    "\n",
    "$P\\left(\\sqrt{n}\\frac{\\overline{X}-\\lambda_{0}}{\\sqrt{\\overline{X}}} \\right)\\gt \\sqrt{n}\\frac{\\overline{X}-\\lambda_{0}}{\\sqrt{\\overline{X}}}=1-\\Phi\\left(\\sqrt{n}\\frac{\\overline{X}-\\lambda_{0}}{\\sqrt{\\overline{X}}} \\right)=\\alpha_{1}$\n",
    "\n",
    "$\\Phi\\left(\\sqrt{n}\\frac{\\overline{X}-\\lambda_{0}}{\\sqrt{\\overline{X}}} \\right)=1-\\alpha_{1}=0.9$\n",
    "\n",
    "$\\sqrt{n}\\frac{\\overline{X}-\\lambda_{0}}{\\sqrt{\\overline{X}}}\\gt \\sqrt{n}\\frac{c-\\lambda_{0}}{\\sqrt{\\overline{X}}}=1.282  $\n",
    "\n",
    "\n",
    "c=2.27.\n",
    "\n",
    "Наиболее мощный критерий будет иметь следующий вид:\n",
    "\n",
    "$ \\varphi(x) = \\left[ \n",
    "      \\begin{gathered} \n",
    "        0; \\overline{X} < 2.27; \\\\ \n",
    "        0.9; \\overline{X} = 2.27,\\\\\n",
    "        1; \\overline{X}>2.27\\\\ \n",
    "      \\end{gathered} \n",
    "\\right.$\n",
    "\n",
    "\n",
    "\n",
    "\n",
    "$ \\overline{X} \\lt c \\to$  принимаем основную гипотезу  \n",
    "\n",
    "Поменяем местами основную и альтернативную гипотезу :\n",
    "\n",
    "Основная гипотеза: $H_{0}= \\lambda = \\lambda_{1}$\n",
    "\n",
    "Альтернативная гипотеза: $H_{A}=\\lambda = \\lambda_{0}$\n",
    "\n",
    "Статистика  отношения правдоподобия:\n",
    "\n",
    "$LR(\\overrightarrow{X},\\lambda_{0},\\lambda_{1}) = \\frac{L\\left( \\overrightarrow{X},\\lambda_{0} \\right)}{L\\left( \\overrightarrow{X},\\lambda_{1} \\right)}= \\frac{\\lambda_{0}^{\\sum_{i=1}^{50}X_{i}}\\cdot exp(-n\\cdot \\lambda_{0})}{\\lambda_{1}^{\\sum_{i=1}^{50}X_{i}}\\cdot exp(-n\\cdot \\lambda_{1})}$\n",
    "\n",
    "В силу монотонности статистики $LR(\\overrightarrow{X})$ относительно МДС $T(\\overrightarrow{X})=\\sum_{i=1}^{50}X_{i}$\n",
    "\n",
    "$LR(\\overrightarrow{X},\\lambda_{0},\\lambda_{1})\\gt c\\Leftrightarrow \\overline{X}\\gt c$\n",
    "\n",
    "$\\sqrt{n}\\frac{\\overline{X}-\\lambda_{1}}{\\sqrt{\\overline{X}}}\\sim N(0,1)$\n",
    "\n",
    "$P\\left(\\sqrt{n}\\frac{\\overline{X}-\\lambda_{1}}{\\sqrt{\\overline{X}}} \\right)\\gt \\sqrt{n}\\frac{\\overline{X}-\\lambda_{1}}{\\sqrt{\\overline{X}}}=1-\\Phi\\left(\\sqrt{n}\\frac{\\overline{X}-\\lambda_{1}}{\\sqrt{\\overline{X}}} \\right)=\\alpha_{1}$\n",
    "\n",
    "$\\Phi\\left(\\sqrt{n}\\frac{\\overline{X}-\\lambda_{1}}{\\sqrt{\\overline{X}}} \\right)=1-\\alpha_{1}=0.9$\n",
    "\n",
    "$\\sqrt{n}\\frac{\\overline{X}-\\lambda_{1}}{\\sqrt{\\overline{X}}}\\gt \\sqrt{n}\\frac{c-\\lambda_{1}}{\\sqrt{\\overline{X}}}=1.282$\n",
    "\n",
    "Наиболее мощный критерий будет иметь следующий вид:\n",
    "\n",
    "$ \\varphi(x) = \\left[ \n",
    "      \\begin{gathered} \n",
    "        0; \\overline{X} < 3.26; \\\\ \n",
    "        0.9; \\overline{X} = 3.26,\\\\\n",
    "        1; \\overline{X}>3.26\\\\ \n",
    "      \\end{gathered} \n",
    "\\right.$\n",
    "\n",
    "\n",
    "$ \\overline{X} \\lt c \\to$  принимаем основную гипотезу  \n"
   ]
  },
  {
   "cell_type": "markdown",
   "metadata": {
    "id": "RIpL4fkwbRvM"
   },
   "source": [
    "#### h)В пунктах (c)-(f) заменить семейство распределение Пуассона на семейство геометрических распредленией $\\mathbb{P}_{\\lambda}(X=k)=\\frac{\\lambda^{k}}{(\\lambda+1)^{k+1}}, k\\in \\mathbb{Z_{+}}$"
   ]
  },
  {
   "cell_type": "markdown",
   "metadata": {
    "id": "jYocGnu_b8lS"
   },
   "source": [
    "#### h.c)В предположении, что исходные наблюдения являются выборкой из геометрического распределения, построить ОМП и ОММ параметра $\\lambda$.Найти смещение оценки. \n",
    "\n",
    "ОМП.\n",
    "Плотность распределения: $P_{\\lambda}(X=k)=\\frac{\\lambda^{k}}{(\\lambda+1)^{k+1}}$\n",
    "\n",
    "Функция правдоподобия:\n",
    "\n",
    "$L(\\overrightarrow{X};\\theta)=\\prod_{i=1}^{n}P_{\\lambda}(X_{i})=\\prod_{i=1}^{n}\\frac{\\lambda^{X_{i}}}{(\\lambda+1)^{X_{i} + 1}}=\\frac{\\lambda^{\\sum_{i=1}^{n}X_{i}}}{(\\lambda+1)^{\\sum_{i=1}^{n}(X_{i}+1)}}$\n",
    "\n",
    "\n",
    "\n",
    "$LL(\\overrightarrow{X};\\theta)= \\sum_{i=1}^{n}x_{i}\\cdot \\ln(\\lambda)-\\sum_{i=1}^{n}(x_{i}+1)\\ln(\\lambda+1)$\n",
    "\n",
    "Частная производная по параметру $\\lambda$:\n",
    "\n",
    "$\\frac{\\partial LL}{\\partial \\lambda} = \\frac{\\sum_{i=1}^n x_i } {\\lambda}  - \\frac{\\sum_{i=1}^n (x_i+1) }{\\lambda + 1}= 0$\n",
    "\n",
    "$ \\frac{(\\lambda +1 )\\sum_{i=1}^n x_i  - \\lambda  \\sum_{i=1}^n (x_i+1)}{\\lambda(\\lambda+1)}  = 0$\n",
    "\n",
    "$(\\lambda +1 )\\sum_{i=1}^n x_i  - \\lambda  \\sum_{i=1}^n (x_i+1) =0 $\n",
    "\n",
    "\n",
    "$\\lambda \\sum_{i=1}^n x_i + \\sum_{i=1}^n x_i  - \\lambda  \\sum_{i=1}^n (x_i+1) =0 $\n",
    "\n",
    "\n",
    "$ \\lambda (\\sum_{i=1}^n x_i - \\sum_{i=1}^n (x_i+1)) = - \\sum_{i=1}^n x_i $\n",
    "\n",
    "\n",
    "$-\\lambda n = - \\sum_{i=1}^n x_i $\n",
    "\n",
    "\n",
    "$\\frac{\\sum_{i=1}^n x_i } {n}   = \\lambda $\n",
    "\n",
    "$\\hat{\\lambda} = \\overline{X} - ОМП$\n",
    "\n",
    "\n",
    " $\\widehat{\\lambda}=\\overline{X}=2$\n",
    "\n",
    "\n",
    "\n",
    "ОММ.\n",
    "\n",
    "$P_{\\lambda}(X=k)=\\frac{\\lambda^{k}}{(\\lambda +1)^{k+1}}$\n",
    "\n",
    "нам известно, что первый момент $\\mathbb{E}X_{1}=\\lambda;M_{1}=\\overline{X}$\n",
    "параметр 1-но мерный, система будет из одного уравнения.\n",
    "\n",
    "Тогда $\\widetilde{\\lambda}=\\overline{X}=2$\n",
    "\n",
    "\n",
    "Cмещение \n",
    "\n",
    "Для нахождения НРМД-оценки \n",
    "\n",
    "$g\\left(T(\\overrightarrow{X})\\right)=\\frac{\\lambda^{\\sum_{i=1}^{n}X_{i}}}{(\\lambda+1)^{\\sum_{i=1}^{n}X_{i}+n}}$\n",
    "\n",
    "$h(\\overrightarrow{X})=1$\n",
    "\n",
    "Достаточная минимальная статистика: $T=\\sum_{i=1}^{n}X_{i} = 109$.\n",
    "\n",
    "\n",
    "$\\mathbb{E}_{\\lambda}\\widehat{\\lambda}=\\mathbb{E}_{\\lambda}\\overline{X}=\\mathbb{E}_{\\lambda}\\frac{1}{n}\\cdot \\sum_{i=1}^{n}x_{i}=\\frac{1}{n}\\cdot \\mathbb{E_{\\lambda}}\\sum_{i=1}^{n}x_{i}=\\frac{1}{n}\\cdot \\sum_{i=1}^{n}\\mathbb{E_{\\lambda}}X_{1}=\\frac{1}{n}\\cdot n\\cdot \\mathbb{E}_{\\lambda}X_{1}=\\lambda=2$-НРМД-оценка"
   ]
  },
  {
   "cell_type": "markdown",
   "metadata": {
    "id": "thiyFmFFjD2I"
   },
   "source": [
    "#### h.d)Построить А.Д.И. уровня значимости $\\alpha_1$ для параметра $\\lambda$ на базе ОМП \n",
    "1. Построим на базе ОМП.\n",
    "\n",
    "$\\sqrt{n}\\left( \\widehat{\\theta}(\\overrightarrow{X})-\\theta \\right)\\sim N\\left( 0, \\frac{1}{I(\\theta)} \\right)$\n",
    "\n",
    "ОМП $\\widehat{\\theta}=\\widehat{\\lambda}=\\overline{X}$ \n",
    "\n",
    "Найдем информацию Фишера: $I(\\theta)=-\\mathbb{E}\\left( \\frac{\\partial^{2} LL}{\\partial \\lambda^{2}} \\right)=-\\mathbb{E}\\left( -\\frac{\\sum_{i=1}^{n}X_{i}}{\\lambda^{2}}+\\frac{\\sum_{i=1}^{n}X_{i}+n}{(\\lambda +1)^{2}} \\right)=\\frac{n}{\\lambda^{2}}-\\mathbb{E}\\left( \\frac{\\sum_{i=1}^{n}X_{i}+n}{(\\lambda+1)^{2}} \\right) = \\frac{n}{\\lambda^{2}}-\\mathbb{E}\\left( \\frac{\\sum_{i=1}^{n}X_{i}}{(\\lambda+1)^{2}} \\right)-\\mathbb{E}\\left( \\frac{n}{(\\lambda+1)^{2}} \\right)=\\frac{n}{\\lambda^{2}}-\\frac{n}{(\\lambda+1)^{2}}-\\frac{n}{(\\lambda+1)^{2}}=\\frac{n(\\lambda^{2}+1)}{(\\lambda+1)^{2}\\cdot \\lambda^{2}}$\n",
    "\n",
    "Тогда $\\sqrt{n\\cdot I\\left(  \\widehat{\\theta}(\\overrightarrow{X})\\right)}\\left( \\widehat{\\theta}(\\overrightarrow{X})-\\theta \\right)\\sim N(0,1)$\n",
    "\n",
    "Выбираем $X_{\\alpha}$: $\\mathrm{Ф}(X_{\\alpha})=1-\\frac{\\alpha_{1}}{2}=1-\\frac{0.1}{2}=0.95 \\to X_{0.95}=1.645$\n",
    "\n",
    "$А.Д.И. \\left[ \\overline{X}-\\frac{X_{0.95}}{\\sqrt{n\\cdot \\frac{n(\\widehat{\\lambda^{2}}+1)}{(\\widehat{\\lambda}+1)^{2}\\cdot \\widehat{\\lambda^{2}}}}};\\overline{X}+\\frac{X_{0.95}}{\\sqrt{n\\cdot \\frac{n(\\widehat{\\lambda^{2}}+1)}{(\\widehat{\\lambda}+1)^{2}\\cdot \\widehat{\\lambda^{2}}}}} \\right]\\to 1.912\\le \\lambda\\le 2.088$\n",
    "\n",
    "$1.912\\le \\lambda\\le 2.088$ - А.Д.И. параметра $\\lambda$.\n",
    "\n",
    "2. Построим на безе асимтотической нормальной оценки $\\widehat{\\theta}$\n",
    "\n",
    "$\\sqrt{n}\\left( \\widehat{\\theta}(\\overrightarrow{X})-\\theta \\right)\\sim N(0,\\sigma^{2}(\\theta))$\n",
    "\n",
    "$\\sqrt{n}\\frac{ \\widehat{\\theta}(\\overrightarrow{X})-\\theta}{\\sigma(\\widehat{\\theta})}\\sim N(0,1)$\n",
    "\n",
    "$X_{\\alpha}: \\mathrm{Ф(X_{\\alpha})}=0.95\\to X_{0.95}=1.645$\n",
    "\n",
    "$-X_{0.95}\\le \\sqrt{n}\\cdot \\frac{\\widehat{\\lambda}-\\lambda}{\\sqrt{\\widehat{\\lambda}(\\widehat{\\lambda}+1)}}\\le X_{0.95}$\n",
    "\n",
    "$2-\\frac{1.645\\cdot 2.45}{\\sqrt{50}}\\le \\lambda\\le 2+\\frac{1.645\\cdot 2.45}{\\sqrt{50}}\\to 1.43\\le \\lambda\\le 2.57$ - А.Д.И. параметра $\\lambda$"
   ]
  },
  {
   "cell_type": "markdown",
   "metadata": {
    "id": "dZrG9ltptGMs"
   },
   "source": [
    "#### h.e)Используя гистограмму частот, построить критерий значимости $\\mathcal{X^{2}}$ проверки простой гипотезы согласия с геометрическим распределением с параметром $\\lambda_{0}$. Проверить гипотезу на урокень значимости $\\alpha_{1}$. Вычислить наибольшее значение уровня значимости, на котором ещё нет оснований отвергнуть данную гипотезу. \n",
    "\n",
    "$P_{i}=P_{H_{0}}=(X\\in I_{i})=\\sum_{k\\in I_{i}}^{}\\frac{\\lambda_{0}^{k}}{(\\lambda_{0}+1)^{k+1}}$\n",
    "\n",
    "$I_{1}=\\left[ 0,1,2 \\right], n_{1}=37$\n",
    "\n",
    "$P_{1}=\\frac{2^{0}}{(2+1)^{0+1}}+\\frac{2^{1}}{(2+1)^{1+1}} + \\frac{2^{2}}{(2+1)^{2+1}}=0.7$\n",
    "\n",
    "$nP_{1}=35$\n",
    "\n",
    "$I_{2}=\\left[ 3,4,5 \\right], n_{2}=6$\n",
    "\n",
    "$P_{2}=\\frac{2^{3}}{(2+1)^{3+1}}+\\frac{2^{4}}{(2+1)^{4+1}} + \\frac{2^{5}}{(2+1)^{5+1}}=0.2$\n",
    "\n",
    "$nP_{2}=10$\n",
    "\n",
    "$I_{3}=\\left[ 6,7 \\right], n_{3}=4$\n",
    "\n",
    "$P_{3}=\\frac{2^{6}}{(2+1)^{6+1}}+\\frac{2^{7}}{(2+1)^{7+1}}=0.048$\n",
    "\n",
    "$nP_{3}=2.4$\n",
    "\n",
    "$I_{4}=\\left[ 8,9,10,11....... \\right), n_{4}=3$\n",
    "\n",
    "$P_{4}=1-(P1+P2+P3) =0.052$\n",
    "\n",
    "$nP_{4}=2.6$\n",
    "\n",
    "Критерий $\\mathcal{X}^{2}: \\mathcal{X}^{2}_{набл}=\\sum_{i=1}^{4}\\frac{(n_{i}-np_{i})^{2}}{np_{i}} =114.79$\n",
    "\n",
    "$\\mathcal{X}^{2}_{N-1,\\alpha_{1}}=\\mathcal{X}^{2}_{3,0.1}\\simeq 6.25$ \n",
    "\n",
    "$\\mathcal{X}^{2}\\gt \\mathcal{X}^{2}_{3,0.1}\\to$ по критерию Пирсона отвергаем гипотезу\n",
    "\n",
    "$p-value= 1 - F_{T}(T) = 1 -\\mathcal{X_3^{2}}(\\mathcal{X}^{2}_{набл}) = 1-\\mathcal{X^{2}}(114.79 )$ < 0.0001"
   ]
  },
  {
   "cell_type": "markdown",
   "metadata": {
    "id": "hcEIyMkuxAR4"
   },
   "source": [
    "#### h.f)Построить критерий значимости  $\\mathcal{X^{2}}$ проверки сложной гипотезы согласия с геометрическим распределением. Проверить гипотезу по уровню значимости $\\alpha_{1}$.Вычислить наибольшее значение уровня значимости, на котором ещё нет оснований отвергнуть данную гипотезу. \n",
    "\n",
    "$P_{i}=P_{H_{0}}=(X\\in I_{i})=\\sum_{k\\in I_{i}}^{}\\frac{\\frac{1}{\\overline{X}^{k}}}{\\left( \\frac{1}{\\overline{X}} +1\\right)^{k+1}}$\n",
    "\n",
    "$I_{1}=\\left[ 0,1,2 \\right], n_{1}=37$\n",
    "\n",
    "$P_{1}=\\frac{\\frac{1}{2^{0}}}{\\left( \\frac{1}{2} +1\\right)^{0+1}} + \\frac{\\frac{1}{2^{1}}}{\\left( \\frac{1}{2} +1\\right)^{1+1}} + \\frac{\\frac{1}{2^{2}}}{\\left( \\frac{1}{2} +1\\right)^{2+1}} =0.94\\to nP_{1}=47$\n",
    "\n",
    "$I_{2}=\\left[ 3,4,5 \\right], n_{2}=6$\n",
    "\n",
    "$P_{2}=\\frac{\\frac{1}{2^{3}}}{\\left( \\frac{1}{2} +1\\right)^{3+1}} + \\frac{\\frac{1}{2^{4}}}{\\left( \\frac{1}{2} +1\\right)^{4+1}} + \\frac{\\frac{1}{2^{5}}}{\\left( \\frac{1}{2} +1\\right)^{5+1}}=0.04\\to nP_{2}=2$\n",
    "\n",
    "$I_{3}=\\left[ 6,7 \\right], n_{3}=4$\n",
    "\n",
    "$P_{3}=\\frac{\\frac{1}{2^{6}}}{\\left( \\frac{1}{2} +1\\right)^{6+1}} + \\frac{\\frac{1}{2^{7}}}{\\left( \\frac{1}{2} +1\\right)^{7+1}}=0.0012\\to nP_{3}=0.06$\n",
    "\n",
    "$I_{4}=\\left[ 8,9,10,11....... \\right), n_{4}=3$\n",
    "\n",
    "$P_{4}=1-(P1+P2+P3) =0.0188$\n",
    "\n",
    "$nP_{4}=0.94$\n",
    "\n",
    "Критерий $\\mathcal{X}^{2}: \\mathcal{X}^{2}_{набл}=\\sum_{i=1}^{4}\\frac{(n_{i}-np_{i})^{2}}{np_{i}} = 273.37$\n",
    "\n",
    "$\\mathcal{X}^{2}_{N-d-1,\\alpha_{1}}=\\mathcal{X}^{2}_{2,0.1}\\simeq 4.6$ \n",
    "\n",
    "$\\mathcal{X}^{2}\\gt \\mathcal{X}^{2}_{2,0.1}\\to$ по критерию Пирсона  отвергаем гипотезу\n",
    "\n",
    "$p-value= 1 - F_{T}(T) = 1 -\\mathcal{X_2^{2}}(\\mathcal{X}^{2}_{набл}) = 1-\\mathcal{X^{2}}(273.37 )$ < 0.0001"
   ]
  },
  {
   "cell_type": "markdown",
   "metadata": {
    "id": "OMnpHk2fyi-a"
   },
   "source": [
    "### Задание 2"
   ]
  },
  {
   "cell_type": "markdown",
   "metadata": {
    "id": "VbmN05n61mEq"
   },
   "source": [
    "#### a)Построить вариционный ряд, эмпирическую функцию распределения,гистограмму и полигон частот с шагом h."
   ]
  },
  {
   "cell_type": "code",
   "execution_count": 72,
   "metadata": {},
   "outputs": [],
   "source": [
    "import numpy as np\n",
    "import matplotlib.pyplot as plt\n",
    "from scipy import stats\n",
    "\n",
    "data = np.array([0.234, 0.046, 0.711, 0.011, 0.237, 0.035, 0.004, 0.764, 0.976, 0.666, 0.349, 0.504, 1.869, 0.006, 1.125, 0.006, 0.247, 0.192, 0.028, 0.920, 0.062, 0.316, 3.622, 0.211, 0.071, 1.037, 1.335, 0.087, 0.038, 0.092, 2.030, 0.311, 0.392, 0.139, 0.011, 0.328, 1.049, 0.043, 0.007, 0.002, 0.086, 0.175, 1.131, 0.156, 0.631, 0.225, 0.013, 0.030, 0.194, 0.123])  # Входные данные"
   ]
  },
  {
   "cell_type": "code",
   "execution_count": 73,
   "metadata": {
    "colab": {
     "base_uri": "https://localhost:8080/",
     "height": 367
    },
    "id": "9CBjjWHPy0we",
    "outputId": "48862946-3cbd-49ca-ada9-3b9ba5e21afe"
   },
   "outputs": [
    {
     "name": "stdout",
     "output_type": "stream",
     "text": [
      "Вариационный ряд: [2.000e-03 4.000e-03 6.000e-03 6.000e-03 7.000e-03 1.100e-02 1.100e-02\n",
      " 1.300e-02 2.800e-02 3.000e-02 3.500e-02 3.800e-02 4.300e-02 4.600e-02\n",
      " 6.200e-02 7.100e-02 8.600e-02 8.700e-02 9.200e-02 1.230e-01 1.390e-01\n",
      " 1.560e-01 1.750e-01 1.920e-01 1.940e-01 2.110e-01 2.250e-01 2.340e-01\n",
      " 2.370e-01 2.470e-01 3.110e-01 3.160e-01 3.280e-01 3.490e-01 3.920e-01\n",
      " 5.040e-01 6.310e-01 6.660e-01 7.110e-01 7.640e-01 9.200e-01 9.760e-01\n",
      " 1.037e+00 1.049e+00 1.125e+00 1.131e+00 1.335e+00 1.869e+00 2.030e+00\n",
      " 3.622e+00]\n"
     ]
    }
   ],
   "source": [
    "# Вариационный ряд\n",
    "variation = np.sort(data)\n",
    "print(\"Вариационный ряд:\", variation)"
   ]
  },
  {
   "cell_type": "code",
   "execution_count": 74,
   "metadata": {
    "colab": {
     "base_uri": "https://localhost:8080/",
     "height": 211
    },
    "id": "NFbSKTiy1hkZ",
    "outputId": "ab28d07b-33a0-492b-acb4-e1ea9c294330"
   },
   "outputs": [
    {
     "data": {
      "image/png": "[encoded data removed]",
      "text/plain": [
       "<Figure size 640x480 with 1 Axes>"
      ]
     },
     "metadata": {},
     "output_type": "display_data"
    }
   ],
   "source": [
    "\n",
    "# Эмпирическая функция распределения\n",
    "ecdf = np.arange(1, len(variation) + 1) / len(variation)\n",
    "plt.step(variation, ecdf, label='Эмпирическая функция распределения')\n",
    "plt.xlabel('Значение')\n",
    "plt.ylabel('Вероятность')\n",
    "plt.show()"
   ]
  },
  {
   "cell_type": "code",
   "execution_count": 75,
   "metadata": {
    "colab": {
     "base_uri": "https://localhost:8080/",
     "height": 472
    },
    "id": "fuhc7FHO2j05",
    "outputId": "36f6c26e-ce73-4b21-c35b-dd2ca957efa1"
   },
   "outputs": [
    {
     "data": {
      "image/png": "[encoded data removed]",
      "text/plain": [
       "<Figure size 640x480 with 1 Axes>"
      ]
     },
     "metadata": {},
     "output_type": "display_data"
    }
   ],
   "source": [
    "\n",
    "def histogram(data, h):\n",
    "    plt.hist(data, bins='auto', color='#0504aa', alpha=0.7, rwidth=0.85)\n",
    "    plt.xlabel('Значение')\n",
    "    plt.ylabel('Частота')\n",
    "    plt.title('Гистограмма')\n",
    "    plt.grid(True)\n",
    "    plt.show()\n",
    "h = 0.2  # Шаг\n",
    "histogram(data, h)"
   ]
  },
  {
   "cell_type": "code",
   "execution_count": 59,
   "metadata": {},
   "outputs": [
    {
     "data": {
      "image/png": "[encoded data removed]",
      "text/plain": [
       "<Figure size 640x480 with 1 Axes>"
      ]
     },
     "metadata": {},
     "output_type": "display_data"
    }
   ],
   "source": [
    "import numpy as np\n",
    "import matplotlib.pyplot as plt\n",
    "\n",
    "def plot_frequency_polygon(data, h):\n",
    "    # Вычисляем границы интервалов\n",
    "    min_value = min(data)\n",
    "    max_value = max(data)\n",
    "    intervals = np.arange(min_value, max_value + h, h)\n",
    "\n",
    "    # Вычисляем частоты в интервалах\n",
    "    frequencies = np.zeros(len(intervals) - 1)\n",
    "    for i in range(len(intervals) - 1):\n",
    "        lower_bound = intervals[i]\n",
    "        upper_bound = intervals[i + 1]\n",
    "        frequencies[i] = len([x for x in data if lower_bound <= x < upper_bound])\n",
    "\n",
    "    # Рисуем полигон частот\n",
    "    x = np.linspace(min_value, max_value, len(intervals) - 1)\n",
    "    plt.plot(x, frequencies, marker = 'o')\n",
    "    plt.xlabel('Значение')\n",
    "    plt.ylabel('Частота')\n",
    "    plt.title('Полигон частот')\n",
    "    plt.show()\n",
    "\n",
    "# Пример использования\n",
    "data = [0.234, 0.046, 0.711, 0.011, 0.237, 0.035, 0.004, 0.764, 0.976, 0.666, 0.349, 0.504, 1.869, 0.006, 1.125, 0.006, 0.247, 0.192, 0.028, 0.920, 0.062, 0.316, 3.622, 0.211, 0.071, 1.037, 1.335, 0.087, 0.038, 0.092, 2.030, 0.311, 0.392, 0.139, 0.011, 0.328, 1.049, 0.043, 0.007, 0.002, 0.086, 0.175, 1.131, 0.156, 0.631, 0.225, 0.013, 0.030, 0.194, 0.123]\n",
    "\n",
    "h = 0.2\n",
    "plot_frequency_polygon(data, h)"
   ]
  },
  {
   "cell_type": "markdown",
   "metadata": {
    "id": "RyBb32GD22wp"
   },
   "source": [
    "#### b) Вычислить выборочные аналоги следующих числовых характеристик: (i)математическое ожидание, (ii)дисперсия, (iii)СКО, (iv)медианы (v)асимметрии, (vi)эксцесса (vi) вероятности $\\mathrm{P}(X\\in \\left[ c,d \\right])$"
   ]
  },
  {
   "cell_type": "code",
   "execution_count": 86,
   "metadata": {
    "colab": {
     "base_uri": "https://localhost:8080/"
    },
    "id": "ubdrSTdT26la",
    "outputId": "a2aeca9c-4ea2-4591-f742-f7f613d7fce2"
   },
   "outputs": [
    {
     "name": "stdout",
     "output_type": "stream",
     "text": [
      "Мат.ожидание= 3.7178000000000004\n",
      "Дисперсия= 27.798093159999997\n",
      "Выборочное стандартное отклонение= 5.272389701074836\n",
      "Медиана= 1.935\n",
      "Асимметрия= 2.82686636230619\n",
      "Эксцесс= 9.643013444211036\n",
      "Вероятность P(X ∈ [0.0, 0.78]) равна 0.2600\n"
     ]
    }
   ],
   "source": [
    "c = 0.00\n",
    "d = 0.78\n",
    "mean = np.mean(data_1)  # Выборочное математическое ожидание\n",
    "variance = np.var(data_1)  # Дисперсия\n",
    "deviation=np.std(data_1) #СКО\n",
    "median = np.median(data_1)  # Медиана\n",
    "skewness = stats.skew(data_1)  # Асимметрия\n",
    "kurtosis = stats.kurtosis(data_1)  # Эксцесс\n",
    "probability = len([x for x in data_1 if c <= x <= d]) / len(data_1)  # Вероятность\n",
    "print(\"Мат.ожидание=\",mean)\n",
    "print(\"Дисперсия=\",variance)\n",
    "print(\"Выборочное стандартное отклонение=\",deviation)\n",
    "print(\"Медиана=\",median)\n",
    "print(\"Асимметрия=\",skewness)\n",
    "print(\"Эксцесс=\",kurtosis)\n",
    "print(\"Вероятность P(X ∈ [{}, {}]) равна {:.4f}\".format(c, d, probability))"
   ]
  },
  {
   "cell_type": "markdown",
   "metadata": {
    "id": "Hs9QJNAT7Hwg"
   },
   "source": [
    "#### c)В предположении, что исходные наблюдения являются выборкой из показательного распределения, построить ОМП и ОММ параметра $\\lambda$.Найти смещение оценки. \n",
    "\n",
    "\n",
    "ОМП.\n",
    "Плотность показательного распределения: $P(X)=\\lambda\\cdot exp(-\\lambda X)$\n",
    "\n",
    "Функция правдоподобия:\n",
    "\n",
    "$L(\\overrightarrow{X},\\theta)=\\prod_{i=1}^{n}\\lambda\\cdot exp(-\\lambda\\cdot X_{i})=\\lambda^{n}\\cdot exp(-\\lambda\\cdot \\sum_{i=1}^{n}X_{i})$\n",
    "\n",
    "\n",
    "\n",
    "$LL(\\overrightarrow{X},\\theta)=n\\ln(\\lambda)-\\lambda\\cdot \\sum_{i=1}^{n}X_{i}$\n",
    "\n",
    "Частная производная по параметру $\\lambda$ :\n",
    "\n",
    "$\\frac{\\partial LL}{\\partial \\lambda}=\\frac{n}{\\lambda}-\\sum_{i=1}^{n}X_{i}=0$\n",
    "\n",
    "$\\lambda=\\frac{n}{\\sum_{i=1}^{n}X_{i}}=\\frac{1}{\\overline{X}}$.\n",
    "\n",
    "Значение параметра:$\\widehat{\\lambda}=\\frac{1}{\\overline{X}}=2.7$\n",
    "\n",
    "\n",
    "ОММ.\n",
    "\n",
    "$P(X)=\\lambda\\cdot exp(-\\lambda X)$\n",
    "\n",
    "первый момент $\\mathbb{E}X_{1}=\\frac{1}{\\lambda};M_{1}=\\overline{X}$\n",
    "параметр одномерный, система будет из одного уравнения.\n",
    "\n",
    "\n",
    "\n",
    "Тогда  $\\widetilde{\\theta}=\\widetilde{\\lambda}=\\frac{1}{\\overline{X}}=2.7$\n",
    "\n",
    "\n",
    "Смещение\n",
    "\n",
    "Для нахождения НРМД-оценки воспользуемся ОМП.\n",
    "\n",
    "$g\\left(T(\\overrightarrow{X})\\right)=\\lambda\\cdot exp(-\\lambda X)$\n",
    "\n",
    "$h(\\overrightarrow{X})=1$\n",
    "\n",
    "Достаточная минимальная статистика: $T=\\sum_{i=1}^{n}X_{i}=18.525$.\n",
    "\n",
    "Показательное распределение принадлежит экспоненциальному семейству, следовательно, МДС является ПДС.\n",
    "\n",
    "$\\mathbb{E}_{\\lambda}\\frac{1}{\\overline{X}}=\\mathbb{E}_{\\lambda}\\frac{n}{\\sum_{i=1}^{n}x_{i}}=n\\cdot \\mathbb{E_{\\lambda}}\\frac{1}{\\sum_{i=1}^{n}x_{i}}=n\\cdot \\mathbb{E}_{\\lambda}(\\sum_{i=1}^{n}X_{i})^{-1}=n\\cdot \\left(\\frac{1}{\\lambda}\\right)^{-1}\\frac{\\Gamma (-1+n)}{\\Gamma (n)}=n\\cdot \\lambda\\frac{\\Gamma (-1+n)}{\\Gamma(-1+n)\\cdot (n-1)}=\\frac{n\\cdot \\lambda}{n-1}\\to смещенная-оценка$\n",
    "\n",
    "$\\widetilde{\\lambda}=\\widehat{\\lambda}\\frac{n-1}{n}$\n",
    "\n",
    "$\\mathbb{E}_{\\lambda}\\widetilde{\\lambda}=\\mathbb{E}_{\\lambda}\\widehat{\\lambda}\\frac{n-1}{n}=\\frac{n-1}{n}\\mathbb{E}_{\\lambda}\\widehat{\\lambda}=\\frac{n-1}{n}\\cdot \\frac{n\\cdot \\lambda}{n-1}=\\lambda$-НРМД-оценка\n",
    "\n",
    "$X_{i}\\sim Exp(\\lambda) \\to X_{i}\\sim Gamma(1,\\frac{1}{\\lambda})\\Rightarrow \\sum_{i=1}^{n}X_{i}\\sim Gamma(n,\\frac{1}{\\lambda})$\n",
    "\n",
    "Если $X_{i}\\sim Gamma(\\alpha,\\beta)$, где $\\alpha\\gt 0$ и $\\beta\\gt 0$, $\\gamma\\gt -\\alpha$, то $\\mathbb{E}X_{i}^{\\gamma}=\\beta^{\\gamma}\\frac{Г(\\gamma+\\alpha)}{Г(\\alpha)}$"
   ]
  },
  {
   "cell_type": "markdown",
   "metadata": {
    "id": "bBzTdeiMXIZN"
   },
   "source": [
    "#### d)Построить А.Д.И. уровня значимости $\\alpha_2$ для параметра $\\lambda$ на базе ОМП \n",
    "1. Построим на базе ОМП.\n",
    "\n",
    "$\\sqrt{n}\\left( \\widehat{\\theta}(\\overrightarrow{X})-\\theta \\right)\\sim N\\left( 0, \\frac{1}{I(\\theta)} \\right)$\n",
    "\n",
    "ОМП $\\widehat{\\theta}=\\widehat{\\lambda}=\\frac{1}{\\overline{X}}$\n",
    "\n",
    "Найдем информацию Фишера: $I(\\theta)=-\\mathbb{E}\\left( \\frac{\\partial^{2} LL}{\\partial \\lambda^{2}} \\right)=-\\mathbb{E}\\left( -\\frac{n}{\\lambda^{2}} \\right)=\\frac{n}{\\lambda^{2}}$\n",
    "\n",
    "Тогда $\\sqrt{n\\cdot I\\left(  \\widehat{\\theta}(\\overrightarrow{X})\\right)}\\left( \\widehat{\\theta}(\\overrightarrow{X})-\\theta \\right)\\sim N(0,1)$\n",
    "\n",
    "Выбираем $X_{\\alpha}$: $\\mathrm{Ф}(X_{\\alpha})=1-\\frac{\\alpha_{2}}{2}=1-\\frac{0.05}{2}=0.975\\to X_{0.975}=1.960$\n",
    "\n",
    "$А.Д.И. \\left[ \\frac{1}{\\overline{X}}-\\frac{X_{0.975}}{\\sqrt{50\\cdot \\frac{50}{\\overline{X}^{2}}}}; \\frac{1}{\\overline{X}}+\\frac{X_{0.975}}{\\sqrt{50\\cdot \\frac{50}{\\overline{X}^{2}}}}\\right] \\to 2.7-\\frac{1.960}{135.14}\\le \\lambda\\le 2.7+\\frac{1.960}{135.14}$\n",
    "\n",
    "$2.685\\le \\lambda\\le 2.715$- Асимп. довер. интервал параметра $\\lambda$.\n",
    "\n",
    "2. На базе асимтотической нормальной оценки $\\widehat{\\theta}$\n",
    "\n",
    "$\\sqrt{n}\\left( \\widehat{\\theta}(\\overrightarrow{X})-\\theta \\right)\\sim N(0,\\sigma^{2}(\\theta))$\n",
    "\n",
    "$\\sqrt{n}\\frac{ \\widehat{\\theta}(\\overrightarrow{X})-\\theta}{\\sigma(\\widehat{\\theta})}\\sim N(0,1)$\n",
    "\n",
    "$X_{\\alpha}: \\mathrm{Ф(X_{\\alpha})}=0.975\\to X_{0.975}=1.960$\n",
    "\n",
    "$-X_{0.975}\\le \\sqrt{n}\\cdot \\frac{\\widehat{\\lambda}-\\lambda}{\\sqrt{\\widehat{\\lambda}}}\\le X_{0.975}$\n",
    "\n",
    "$2.7-\\frac{1.960\\cdot 1.73}{\\sqrt{50}}\\le \\lambda\\le 2.7+\\frac{1.960\\cdot 1.73}{\\sqrt{50}}\\to 2.220\\le \\lambda\\le 3.179$ - А.Д.И. параметра $\\lambda$"
   ]
  },
  {
   "cell_type": "markdown",
   "metadata": {
    "id": "8Dyc_1xzewiv"
   },
   "source": [
    "#### e)С использованием  теоремы Колмогорова построить критерий значимости проверки простой гипотезы согласия с показательным распределением с параметром λ0 с использованием теоремы Колмогорова. Проверка гипотезы на уровне значимости α2 . Вычислить наибольшее значения уровня значимости, на котором ещё нет оснований отвергнуть данную гипотезу.\n",
    "\n"
   ]
  },
  {
   "cell_type": "markdown",
   "metadata": {},
   "source": [
    "\n",
    "$\\overline{X}\\in F $\n",
    "\n",
    "$F_{0} = E_{\\lambda0} ,  где  \\lambda_{0} = 0.36 $\n",
    "\n",
    "$H_{0}: F = F_{0} $\n",
    "\n",
    "$H_{1}: F \\neq F_{0} $\n",
    "\n",
    "$F_{0}(x)  = \\begin{equation*}\n",
    "E_{\\lambda0}(x)= \n",
    " \\begin{cases}\n",
    "   1 - e^{-\\lambda_{0}x};&\\text{$x \\geqslant0$}\\\\\n",
    "   0; &\\text{$x <0$}\n",
    " \\end{cases}\n",
    "\\end{equation*}$\n",
    "\n",
    "$D_{n} = \\overset{}{\\underset{X \\in \\mathbb R}{sup}} |F_{n}(x) - F_{0}(x)|$\n",
    "\n",
    "\n",
    "$\\sqrt{n}D_{n} \\Rightarrow K $- распределение  Колмогорова\n",
    "\n",
    "n = 50 \n",
    "\n",
    "$\\alpha_{2} = 0.05$\n",
    " \n",
    " $1 - \\alpha_{2} = 0.95$\n",
    "\n",
    "\n",
    "$ K(\\frac{x_{\\alpha}}{\\sqrt{n}}) = 0.95$ \n",
    "\n",
    "\n",
    "\n",
    "\n",
    "$ x_{\\alpha} = K^{-1}(0.95) \\sqrt{n}  = 1.355 \\cdot \\sqrt{50}= 9.581 $\n",
    "\n",
    "\n",
    "\n",
    "$ \\varphi(x) = \\left[ \n",
    "      \\begin{gathered} \n",
    "        0; \\sqrt{n}D_{n}  \\leq x_{\\alpha}; \\\\ \n",
    "        1;\\sqrt{n}D_{n} > x_{\\alpha}\\\\\n",
    "      \\end{gathered} \n",
    "\\right.$ \n",
    "\n",
    "\n",
    "$D_{n} = 0.5855$\n",
    "\n",
    "$\\sqrt{n}D_{n} = 4.14 < 9.581 \\Rightarrow $ принимаем основную гипотезу $H_{0}$\n",
    "\n",
    "\n"
   ]
  },
  {
   "cell_type": "markdown",
   "metadata": {
    "colab": {
     "base_uri": "https://localhost:8080/"
    },
    "id": "eJwZknrnh8N6",
    "outputId": "2bac59e2-0b59-4ba6-80a2-580376e3cde6"
   },
   "source": [
    "$p-value= 1 - F_{T}(T) = 1 -K(\\sqrt{n}D_{n})$ = 1-K(4.14 ) < 0.0001"
   ]
  },
  {
   "cell_type": "markdown",
   "metadata": {
    "id": "R2tggMyZju0o"
   },
   "source": [
    "#### f)Используя гистограмму частот, построить критерий значимости $\\mathcal{X^{2}}$ проверки простой гипотезы согласия с показательным распределением с параметром $\\lambda_{0}$. Проверить гипотезу на уровень значимости $\\alpha_{2}$. Вычислить наибольшее значение уровня значимости, на котором ещё нет оснований отвергнуть данную гипотезу. \n",
    "\n",
    "$P_{i}=P_{H_{0}}(X\\in I_{i})={}\\lambda_{0}\\cdot exp(-\\lambda_{0}\\cdot k)$ \n",
    "\n",
    "$I_{1}=\\left[ 0,1 \\right], n_{1} = 43$\n",
    "\n",
    "$P_{1}=F_{0}(1) - F_{0}(0) = 1 - e^{-0.36\\cdot 1} - 1 + e^{-0.36\\cdot 0}  = 0.3$\n",
    "\n",
    "$nP_{1}=15$\n",
    "\n",
    "$I_{2}=\\left( 1,2 \\right], n_{2}=6$\n",
    "\n",
    "$P_{2}=F_{0}(2) - F_{0}(1) = 1 - e^{-0.36\\cdot 2} - 1 + e^{-0.36\\cdot 1}  = 0.21$\n",
    "\n",
    "$nP_{2}=10.5$\n",
    "\n",
    "$I_{3}=\\left( 2,3\\right], n_{3}=1$\n",
    "\n",
    "$P_{3}=F_{0}(3) - F_{0}(2) = 1 - e^{-0.36\\cdot 3} - 1 + e^{-0.36\\cdot 2}  = 0.147$\n",
    "\n",
    "$nP_{3}=7.35$\n",
    "\n",
    "$I_{4}=\\left( 3,4.....\\right), n_{4}=0$\n",
    "\n",
    "$P_{4}=1-(P1+P2+P3) =0.343$\n",
    "\n",
    "$nP_{4}=17.5$\n",
    "\n",
    "Критерий $\\mathcal{X}^{2}: \\mathcal{X}^{2}_{набл}=\\sum_{i=1}^{3}\\frac{(n_{i}-np_{i})^{2}}{np_{i}} =32.79$\n",
    "\n",
    "$\\mathcal{X}^{2}_{N-1,1-\\alpha_{2}}=\\mathcal{X}^{2}_{3,0.95}\\simeq 0.352$\n",
    "\n",
    "$\\mathcal{X}^{2}\\gt \\mathcal{X}^{2}_{3,0.95}\\to$ по критерию Пирсона  отвергаем гипотезу\n",
    "\n",
    "$p-value= 1 - F_{T}(T) = 1 -\\mathcal{X_3^{2}}(\\mathcal{X}^{2}_{набл}) = 1-\\mathcal{X^{2}}(32.79 )$ < 0.0001"
   ]
  },
  {
   "cell_type": "markdown",
   "metadata": {
    "id": "VCXT-_ZEqy1r"
   },
   "source": [
    "#### g)Построить критерий значимости  $\\mathcal{X^{2}}$ проверки сложной гипотезы согласия с показательным распределением. Проверить гипотезу по уровню значимости $\\alpha_{2}$.Вычислить наибольшее значение уровня значимости, на котором ещё нет оснований отвергнуть данную гипотезу. \n",
    "\n",
    "$P_{i}=P_{H_{0}}=(X\\in I_{i})=\\frac{1}{\\overline{X}}\\cdot exp(-\\frac{1}{\\overline{X}}\\cdot k)$\n",
    "\n",
    "$I_{1}=\\left[ 0,1 \\right], n_{1} = 43$\n",
    "\n",
    "$P_{1}=F_{0}(1) - F_{0}(0) = 1 - e^{-2.7\\cdot 1} - 1 + e^{-2.7\\cdot 0}  = 0.93$\n",
    "\n",
    "$nP_{1}=46.5$\n",
    "\n",
    "$I_{2}=\\left( 1,2 \\right], n_{2}=6$\n",
    "\n",
    "$P_{2}=F_{0}(2) - F_{0}(1) = 1 - e^{-2.7\\cdot 2} - 1 + e^{-2.7\\cdot 1}  = 0.06$\n",
    "\n",
    "$nP_{2}=3$\n",
    "\n",
    "$I_{3}=\\left( 2,3\\right], n_{3}=1$\n",
    "\n",
    "$P_{3}=F_{0}(3) - F_{0}(2) = 1 - e^{-2.7\\cdot 3} - 1 + e^{-2.7\\cdot 2}  = 0.0004$\n",
    "\n",
    "$nP_{3}=0.02$\n",
    "\n",
    "$I_{4}=\\left( 3,4.....\\right), n_{4}=0$\n",
    "\n",
    "$P_{4}=1-(P1+P2+P3) =0.0096$\n",
    "\n",
    "$nP_{4}=0.48$\n",
    "\n",
    "Критерий $\\mathcal{X}^{2}: \\mathcal{X}^{2}_{набл}=\\sum_{i=1}^{3}\\frac{(n_{i}-np_{i})^{2}}{np_{i}} =454.78$\n",
    "\n",
    "$\\mathcal{X}^{2}_{N-1,1-\\alpha_{2}}=\\mathcal{X}^{2}_{2,0.95}\\simeq 5.99$\n",
    "\n",
    "$\\mathcal{X}^{2}\\gt \\mathcal{X}^{2}_{2,0.95}\\to$ по критерию Пирсона отвергаем  гипотезу\n",
    "\n",
    "$p-value= 1 - F_{T}(T) = 1 -\\mathcal{X_2^{2}}(\\mathcal{X}^{2}_{набл}) = 1-\\mathcal{X^{2}}(454.78)$ < 0.0001"
   ]
  },
  {
   "cell_type": "markdown",
   "metadata": {
    "id": "QpF673nMt-Os"
   },
   "source": [
    "#### h)Построить наиболее мощный критерий проверки простой гипотезы о показательности с параметром $\\lambda=\\lambda_{0}$ при альтернативе показательности с параметром $\\lambda=\\lambda_{1}$. Проверить гипотезу на уровне значимости $\\alpha_2$. Что получится, если поменять местами основную и альтернативную гипотезы? \n",
    "\n",
    "Основная гипотеза: $H_{0}=\\lambda_{0}=0.36$\n",
    "\n",
    "Альтернативная гипотеза: $H_{A}=\\lambda_{1}=1.43$\n",
    "\n",
    "Статистическое отношение правдоподобия:\n",
    "\n",
    "$LR(\\overrightarrow{X},\\lambda_{1},\\lambda_{0}) = \\frac{L\\left( \\overrightarrow{X},\\lambda_{1} \\right)}{L\\left( \\overrightarrow{X},\\lambda_{0} \\right)}= \\frac{\\lambda_{1}^{n}\\cdot exp(-\\lambda_{1}\\cdot \\sum_{i=1}^{50}X_{i})}{\\lambda_{0}^{n}\\cdot exp(-\\lambda_{0}\\cdot \\sum_{i=1}^{50}X_{i})}$.\n",
    "\n",
    "$\\left(\\frac{\\lambda_{1}}{\\lambda_{0}}\\right)^{n} \\cdot exp \\left((\\lambda_{0}-\\lambda_{1}) \\cdot \\sum_{i=1}^{50}X_{i} \\right) > c$\n",
    "\n",
    "$LR(\\overrightarrow{X},\\lambda_{0},\\lambda_{1})\\gt c\\Leftrightarrow \\overrightarrow{X}\\gt c$\n",
    "\n",
    "$exp\\left( (\\lambda_{0}-\\lambda_{1})\\sum_{i=1}^{50}X_{i} \\right)=\\left( \\frac{\\lambda_{0}}{\\lambda_{1}} \\right)^{n}\\cdot c$\n",
    "\n",
    "$\\sum_{i=1}^{50}X_{i}=n\\cdot \\ln\\left(\\left( \\frac{\\lambda_{0}}{\\lambda_{1}} \\right)c \\right)=c^{*}$\n",
    "\n",
    "$P\\left\\{ H_{1}|H_{0} \\right\\}=P\\left\\{ \\sum_{i=1}^{50}X_{i}\\gt c^{*}|\\lambda=\\lambda_{0} \\right\\}=\\alpha_{2}$\n",
    "\n",
    "$X_{i}\\sim Exp(\\lambda)\\to X_{i}\\sim \\Gamma \\left(1,\\frac{1}{\\lambda} \\right)\\to \\sum_{i=1}^{50}X_{i}\\sim \\Gamma \\left(n,\\frac{1}{\\lambda}\\right)$\n",
    "\n",
    "$\\alpha_{2}=1-F_{\\Gamma \\left(n,\\frac{1}{\\lambda} \\right)}(c)\\Rightarrow c=F_{\\Gamma \\left(n,\\frac{1}{\\lambda} \\right)}^{-1}(1-\\alpha_{2})$\n",
    "\n",
    "Критическое значение $c$. \n",
    "\n",
    "$n=50$ и $\\lambda=\\lambda_{0}=0.36$, вычислим $c = F_{\\Gamma(50, 2.78)}^{-1}(1-0.05) = 172.69$.\n",
    "\n",
    "Статистика отношения правдоподобия $LR(\\overrightarrow{X}, \\lambda_{0}, \\lambda_{1})$. В данном случае, так как $\\lambda_{0}=0.36$, $\\lambda_{1}=1.43$, $n=50$ и $\\sum_{i=1}^{50}X_i=c^*=18.525$, получаем $LR(\\overrightarrow{X}, \\lambda_{0}, \\lambda_{1}) = \\left(\\frac{0.36}{1.43}\\right)^{50} \\cdot e^{(1.43-0.36) \\cdot 18.525} = 4.5\\cdot10^{-22}$.\n",
    "\n",
    "Так как $LR(\\overrightarrow{X}, \\lambda_0, \\lambda_1) = 4.5\\cdot10^{-22} \\lt 172.69$, то мы отвергаем основную гипотезу $H_0$.\n",
    "\n",
    "Поменяем основную и альтернативную гипотезу местами:\n",
    "\n",
    "Основная гипотеза: $H_{0}=\\lambda_{1}$\n",
    "\n",
    "Альтернативная гипотеза: $H_{A}=\\lambda_{0}$\n",
    "\n",
    "Статистическое отношение правдоподобия:\n",
    "\n",
    "$LR(\\overrightarrow{X},\\lambda_{0},\\lambda_{1}) = \\frac{L\\left( \\overrightarrow{X},\\lambda_{0} \\right)}{L\\left( \\overrightarrow{X},\\lambda_{1} \\right)}= \\frac{\\lambda_{0}^{n}\\cdot exp(-\\lambda_{0}\\cdot \\sum_{i=1}^{50}X_{i})}{\\lambda_{1}^{n}\\cdot exp(-\\lambda_{1}\\cdot \\sum_{i=1}^{50}X_{i})}$\n",
    "\n",
    "$LR(\\overrightarrow{X},\\lambda_{0},\\lambda_{1})\\gt c\\Leftrightarrow \\overline{X}\\gt c^{*}$\n",
    "\n",
    "$c = F_{\\Gamma(50, 0.69)}^{-1}(1-0.05) = 43.47$.\n",
    "\n",
    "$LR(\\overrightarrow{X}, \\lambda_{0}, \\lambda_{1}) = \\left(\\frac{1.43}{0.36}\\right)^{50} \\cdot e^{(0.36-1.43) \\cdot 18.525} = 2.2\\cdot10^{21}$.\n",
    "\n",
    "Если поменять местами основную и альтернативную гипотезы, то вместо статистики отношения правдоподобия будем рассчитывать ее обратное значение. То есть, рассчитаем $LR(\\overrightarrow{X}, \\lambda_{1}, \\lambda_{0})$ и сравним его с критическим значением. В данном случае,  не можем отвергнуть основную гипотезу, так как $LR(\\overrightarrow{X}, \\lambda_{1}, \\lambda_{0})=2.2\\cdot10^{21} \\gt c = 43.47$. И  принимаем гипотезу $H_{0}$\n"
   ]
  },
  {
   "cell_type": "code",
   "execution_count": 13,
   "metadata": {
    "colab": {
     "base_uri": "https://localhost:8080/"
    },
    "id": "AVmv7GlymoP2",
    "outputId": "84a9c49e-3e67-4085-cedf-575403c6cc9d"
   },
   "outputs": [
    {
     "name": "stdout",
     "output_type": "stream",
     "text": [
      "172.6973797277834\n",
      "43.47626342797346\n"
     ]
    }
   ],
   "source": [
    "#Код для нахождения с\n",
    "from scipy import stats\n",
    "shape = 50\n",
    "scale = 1/0.36\n",
    "c = sps.gamma.ppf(0.95, a=shape, scale=scale)\n",
    "\n",
    "shape_1 = 50\n",
    "scale_1 = 1/1.43\n",
    "c_1 = stats.gamma.ppf(0.95, a=shape_1, scale=scale_1)\n",
    "print(c)\n",
    "print(c_1)"
   ]
  },
  {
   "cell_type": "markdown",
   "metadata": {
    "id": "sEnQ-Q3l5JZy"
   },
   "source": [
    "#### i)В пунктах (c)-(h) заменить семейство показательных распределений на гамма-распределений с плотностями $P_{\\lambda}(X)=\\frac{\\sqrt{\\lambda}\\cdot exp\\left( \\frac{-\\lambda\\cdot X}{2} \\right)}{\\sqrt{2\\cdot \\pi\\cdot X}}$"
   ]
  },
  {
   "cell_type": "markdown",
   "metadata": {
    "id": "Z4Yi-KhH65P9"
   },
   "source": [
    "#### i.c)В предположении, что исходные наблюдения являются выборкой из гамма-распределения, построить ОМП и ОММ параметра $\\lambda$.Найти смещение оценки.\n",
    "\n",
    "ОМП.\n",
    "$P_{\\lambda}(X)=\\frac{\\sqrt{\\lambda}\\cdot exp\\left( \\frac{-\\lambda\\cdot X}{2} \\right)}{\\sqrt{2\\cdot \\pi\\cdot X}}$\n",
    "\n",
    "Функция правдоподобия:\n",
    "\n",
    "$L(\\overrightarrow{X},\\theta)=\\prod_{i=1}^{n}\\frac{\\sqrt{\\lambda}\\cdot exp\\left( \\frac{-\\lambda\\cdot X_i}{2} \\right)}{\\sqrt{2\\cdot \\pi\\cdot X_i}}=\\frac{\\lambda^{\\frac{n}{2}}\\cdot exp\\left( \\frac{-\\lambda}{2} \\cdot \\sum_{i=1}^{n}X_{i}\\right)}{(2\\pi)^{\\frac{n}{2}}\\cdot (\\prod_{i=1}^{n}X_{i})^{\\frac{n}{2}}}$\n",
    "\n",
    "\n",
    "\n",
    "$LL(\\overrightarrow{X},\\theta)=\\frac{n}{2}\\ln(\\lambda)-\\frac{\\lambda\\cdot \\sum_{i=1}^{n}X_{i}}{2}-\\frac{n}{2}\\ln(2\\pi)-\\frac{n}{2}\\ln(\\prod_{i=1}^{n}X_{i})$\n",
    "\n",
    "Частная производная по параметру $\\lambda$:\n",
    "\n",
    "$\\frac{\\partial LL}{\\partial \\lambda}=\\frac{n}{2\\lambda}-\\frac{\\sum_{i=1}^{n}X_{i}}{2}=0$\n",
    "\n",
    "$\\frac{n}{2\\lambda}=\\frac{\\sum_{i=1}^{n}X_{i}}{2}$\n",
    "\n",
    "$\\frac{\\lambda}{n}=\\frac{1}{\\sum_{i=1}^{n}X_{i}}$\n",
    "\n",
    "$\\widehat{\\lambda}=\\frac{1}{\\overline{X}}$.\n",
    "\n",
    "Значение параметра:$\\widehat{\\lambda}=\\frac{1}{\\overline{X}}=2.7$\n",
    "\n",
    "\n",
    "ОММ.\n",
    "\n",
    "$P_{\\lambda}(X)=\\frac{\\sqrt{\\lambda}\\cdot exp\\left( \\frac{-\\lambda\\cdot X}{2} \\right)}{\\sqrt{2\\cdot \\pi\\cdot X}}$\n",
    "\n",
    "известно, что первый момент $\\mathbb{E}X_{1}=a \\cdot b=\\frac{1}{\\lambda};M_{1}=\\overline{X}$,где $a-1=\\frac{-1}{2} \\to a=\\frac{1}{2}$, а параметр $b=\\frac{2}{\\lambda}$\n",
    "\n",
    "Нашли из $\\left(P(X)=\\frac{1}{\\Gamma(a)\\cdot b^{a}}X^{a-1} \\cdot exp \\left(-\\frac{X}{b}\\right)\\right)$\n",
    "\n",
    "равен нашему параметру,параметр одномерный, система будет из одного уравнения.\n",
    "\n",
    "Тогда  $\\widetilde{\\lambda}=\\frac{1}{\\overline{X}}=2.7$\n",
    "\n",
    "\n",
    "Смещение .\n",
    "\n",
    "Для нахождения НРМД-оценки воспользуемся ОМП\n",
    "\n",
    "$g\\left(T(\\overrightarrow{X})\\right)=\\frac{\\lambda^{\\frac{n}{2}}\\cdot exp\\left( \\frac{-\\lambda}{2} \\cdot \\sum_{i=1}^{n}X_{i}\\right)}{(\\prod_{i=1}^{n}X_{i})^{\\frac{n}{2}}}$\n",
    "\n",
    "$h(\\overrightarrow{X})=\\frac{1}{(2\\pi)^{\\frac{n}{2}}}$\n",
    "\n",
    "Достаточная минимальная статистика: $T=\\sum_{i=1}^{n}X_{i}=18.525$.\n",
    "\n",
    "Показательное распределение принадлежит экспоненциальному семейству распределения, следовательно, МДС будет являться ПДС.\n",
    "\n",
    "$\\mathbb{E}_{\\lambda}\\frac{1}{\\overline{X}}=\\mathbb{E}_{\\lambda}\\frac{n}{\\sum_{i=1}^{n}x_{i}}=n\\cdot \\mathbb{E_{\\lambda}}\\frac{1}{\\sum_{i=1}^{n}x_{i}}=n\\cdot \\mathbb{E}_{\\lambda}(\\sum_{i=1}^{n}X_{i})^{-1}=n\\cdot \\left(\\frac{1}{\\lambda}\\right)^{-1}\\frac{\\Gamma (-1+n)}{\\Gamma (n)}=n\\cdot \\lambda\\frac{\\Gamma (-1+n)}{\\Gamma(-1+n)\\cdot (n-1)}=\\frac{n\\cdot \\lambda}{n-1}\\to смещенная-оценка$\n",
    "\n",
    "$\\widetilde{\\lambda}=\\widehat{\\lambda}\\frac{n-1}{n}$\n",
    "\n",
    "$\\mathbb{E}_{\\lambda}\\widetilde{\\lambda}=\\mathbb{E}_{\\lambda}\\widehat{\\lambda}\\frac{n-1}{n}=\\frac{n-1}{n}\\mathbb{E}_{\\lambda}\\widehat{\\lambda}=\\frac{n-1}{n}\\cdot \\frac{n\\cdot \\lambda}{n-1}=\\lambda$-НРМД-оценка\n",
    "\n",
    "$X_{i}\\sim Exp(\\lambda) \\to X_{i}\\sim Gamma(1,\\frac{1}{\\lambda})\\Rightarrow \\sum_{i=1}^{n}X_{i}\\sim Gamma(n,\\frac{1}{\\lambda})$\n",
    "\n",
    "Если $X_{i}\\sim Gamma(\\alpha,\\beta)$, где $\\alpha\\gt 0$ и $\\beta\\gt 0$, $\\gamma\\gt -\\alpha$, то $\\mathbb{E}X_{i}^{\\gamma}=\\beta^{\\gamma}\\frac{Г(\\gamma+\\alpha)}{Г(\\alpha)}$"
   ]
  },
  {
   "cell_type": "markdown",
   "metadata": {
    "id": "x9LN6byjCf91"
   },
   "source": [
    "#### i.d)Построить А.Д.И. уровня значимости $\\alpha_2$ для параметра $\\lambda$ на базе ОМП \n",
    "1. Построим на базе ОМП.\n",
    "\n",
    "$\\sqrt{n}\\left( \\widehat{\\theta}(\\overrightarrow{X})-\\theta \\right)\\sim N\\left( 0, \\frac{1}{I(\\theta)} \\right)$\n",
    "\n",
    "ОМП $\\widehat{\\theta}=\\widehat{\\lambda}=\\frac{1}{\\overline{X}}$\n",
    "\n",
    "Найдем информацию Фишера: $I(\\theta)=-\\mathbb{E}\\left( \\frac{\\partial^{2} LL}{\\partial \\lambda^{2}} \\right)=-\\mathbb{E}\\left( -\\frac{n}{2\\cdot \\lambda^{2}} \\right)=\\frac{n}{2\\cdot \\lambda^{2}}$\n",
    "\n",
    "Тогда $\\sqrt{n\\cdot I\\left(  \\widehat{\\theta}(\\overrightarrow{X})\\right)}\\left( \\widehat{\\theta}(\\overrightarrow{X})-\\theta \\right)\\sim N(0,1)$\n",
    "\n",
    "Выбираем $X_{\\alpha}$: $\\mathrm{Ф}(X_{\\alpha})=1-\\frac{\\alpha_{2}}{2}=1-\\frac{0.05}{2}=0.975 \\to X_{0.975}=1.960$\n",
    "\n",
    "$А.Д.И. \\left[ \\frac{1}{\\overline{X}}-\\frac{X_{0.975}}{\\sqrt{50\\cdot \\frac{50}{2\\cdot \\overline{X}^{2}}}}; \\frac{1}{\\overline{X}}+\\frac{X_{0.975}}{\\sqrt{50\\cdot \\frac{50}{2\\cdot \\overline{X}^{2}}}}\\right] \\to 2.7-\\frac{1.960\\cdot 2.7}{\\sqrt{50\\cdot 25 \\cdot 2.7}}\\le \\lambda\\le 2.7+\\frac{1.960\\cdot 2.7}{\\sqrt{50\\cdot 25\\cdot 2.7}}$\n",
    "\n",
    "$2.608\\le \\lambda\\le 2.801$- А.Д.И. параметра $\\lambda$.\n",
    "\n",
    "2. На базе асимтотической нормальной оценки $\\widehat{\\theta}$\n",
    "\n",
    "$\\sqrt{n}\\left( \\widehat{\\theta}(\\overrightarrow{X})-\\theta \\right)\\sim N(0,\\sigma^{2}(\\theta))$\n",
    "\n",
    "$\\sqrt{n}\\frac{ \\widehat{\\theta}(\\overrightarrow{X})-\\theta}{\\sigma(\\widehat{\\theta})}\\sim N(0,1)$\n",
    "\n",
    "$X_{\\alpha}: \\mathrm{Ф(X_{\\alpha})}=0.975\\to X_{0.975}=1.960$\n",
    "\n",
    "$-X_{0.975}\\le \\sqrt{n}\\cdot \\frac{\\widehat{\\lambda}-\\lambda}{\\sqrt{\\widehat{\\lambda}}}\\le X_{0.975}$\n",
    "\n",
    "$2.7-\\frac{1.960\\cdot 2.7}{\\sqrt{50}}\\le \\lambda\\le 2.7+\\frac{1.960\\cdot 2.7}{\\sqrt{50}}\\to 2.487\\le \\lambda\\le 3.112$ - А.Д.И. параметра $\\lambda$"
   ]
  },
  {
   "cell_type": "markdown",
   "metadata": {
    "id": "SBoUEuZEF91O"
   },
   "source": [
    "#### i.e)Построение критерия значимости проверки простой гипотезы согласия с гамма-распределением с параметром λ0 с использованием теоремы Колмогорова. Проверка гипотезы на уровне значимости α2 . Вычисление наибольшего значения уровня значимости, на котором ещё нет оснований отвергнуть гипотезу.\n"
   ]
  },
  {
   "cell_type": "markdown",
   "metadata": {},
   "source": [
    "\n",
    "$\\overline{X}\\in F $\n",
    "\n",
    "$F_{0}$, такое что $P_{0\\lambda}(x) = \\frac{\\sqrt{\\lambda_{0}}\\cdot exp\\left( -\\frac{\\lambda_{0}\\cdot x}{2} \\right)}{\\sqrt{2\\pi\\cdot x}}$ ,  где  $\\lambda_{0} = 0.36 $\n",
    "\n",
    "$H_{0}: F = F_{0} $\n",
    "\n",
    "$H_{1}: F \\neq F_{0} $\n",
    "\n",
    " Вместо $F_{0}(x)$   По заданию используем $\\mathcal{X_1}^{2}(x)$\n",
    "\n",
    "$D_{n} = \\overset{}{\\underset{X \\in \\mathbb R}{sup}} |F_{n}(x) - F_{0}(x)|$\n",
    "\n",
    "\n",
    "$\\sqrt{n}D_{n} \\Rightarrow K $- распределение  Колмогорова\n",
    "\n",
    "n = 50 \n",
    "\n",
    "$\\alpha_{2} = 0.05$\n",
    " \n",
    " $1 - \\alpha_{2} = 0.95$\n",
    "\n",
    "\n",
    "$ K(\\frac{x_{\\alpha}}{\\sqrt{n}}) = 0.95$ \n",
    "\n",
    "\n",
    "\n",
    "\n",
    "$ x_{\\alpha} = K^{-1}(0.95) \\sqrt{n}  = 1.355 \\cdot \\sqrt{50}= 9.581 $\n",
    "\n",
    "\n",
    "\n",
    "$ \\varphi(x) = \\left[ \n",
    "      \\begin{gathered} \n",
    "        0; \\sqrt{n}D_{n}  \\leq x_{\\alpha}; \\\\ \n",
    "        1;\\sqrt{n}D_{n} > x_{\\alpha}\\\\\n",
    "      \\end{gathered} \n",
    "\\right.$ \n",
    "\n",
    "\n",
    "$D_{n} = 0.235$\n",
    "\n",
    "$\\sqrt{n}D_{n} = 1.659 < 9.581 \\Rightarrow $ принимаем основную гипотезу $H_{0}$\n",
    "\n",
    "\n",
    "\n",
    "\n"
   ]
  },
  {
   "cell_type": "markdown",
   "metadata": {
    "colab": {
     "base_uri": "https://localhost:8080/"
    },
    "id": "aNWXrWsaH2m1",
    "outputId": "7c0bbd63-4b05-4dc0-da1f-793e1513557a"
   },
   "source": [
    "$p-value= 1 - F_{T}(T) = 1 -K(\\sqrt{n}D_{n})$ = 1-K(1.659 ) = 1 - 0.9916 =0.0084  "
   ]
  },
  {
   "cell_type": "markdown",
   "metadata": {
    "id": "kjxgkG4BH9zi"
   },
   "source": [
    "#### i.f)Используя гистограмму частот, построить критерий значимости $\\mathcal{X^{2}}$ проверки простой гипотезы согласия с гамма-распределением с параметром $\\lambda_{0}$. Проверить гипотезу на урокень значимости $\\alpha_{2}$. Вычислить наибольшее значение уровня значимости, на котором ещё нет оснований отвергнуть данную гипотезу. \n",
    "\n",
    "$P_{i}=P_{H_{0}}=(X\\in I_{i})=\\sum_{k\\in I_{i}}^{}\\frac{\\sqrt{\\lambda_{0}}\\cdot exp\\left( -\\frac{\\lambda_{0}\\cdot k}{2} \\right)}{\\sqrt{2\\pi\\cdot k}}$\n",
    "\n",
    "$I_{1}=\\left[ 0.001,1.22 \\right], n_{1}=46$\n",
    "\n",
    "$P_{1}=\\frac{\\sqrt{0.36}\\cdot exp\\left( -\\frac{0.36\\cdot 0.001}{2} \\right)}{\\sqrt{2\\pi\\cdot 0.001}}+\\frac{\\sqrt{0.36}\\cdot exp\\left( -\\frac{0.36\\cdot 1.22 }{2} \\right)}{\\sqrt{2\\pi\\cdot 1.22 }}=0.8\\to nP_{1}=39$\n",
    "\n",
    "$I_{2}=\\left( 1.22,2.44 \\right], n_{2}=3$\n",
    "\n",
    "$P_{2}=\\frac{\\sqrt{0.36}\\cdot exp\\left( -\\frac{0.36\\cdot 1.22}{2} \\right)}{\\sqrt{2\\pi\\cdot 1.22}}+\\frac{\\sqrt{0.36}\\cdot exp\\left( -\\frac{0.36\\cdot 2.44}{2} \\right)}{\\sqrt{2\\pi\\cdot 2.44}}=0.13\\to nP_{2}=6.5$\n",
    "\n",
    "$I_{3}=\\left( 2.44,3.66 \\right), n_{3}=1$\n",
    "\n",
    "$P_{3}=\\frac{\\sqrt{0.36}\\cdot exp\\left( -\\frac{0.36\\cdot 2.44}{2} \\right)}{\\sqrt{2\\pi\\cdot 2.44}}+\\frac{\\sqrt{0.36}\\cdot exp\\left( -\\frac{0.36\\cdot 3.66}{2} \\right)}{\\sqrt{2\\pi\\cdot 3.66}}=0.09\\to nP_{3}=4.5$\n",
    "\n",
    "Критерий $\\mathcal{X}^{2}: \\mathcal{X}^{2}_{набл}=\\sum_{i=1}^{3}\\frac{(n_{i}-np_{i})^{2}}{np_{i}} =27.5$\n",
    "\n",
    "$\\mathcal{X}^{2}_{N-1,1-\\alpha_{2}}=\\mathcal{X}^{2}_{2,0.95}\\simeq 9.21$\n",
    "\n",
    "$\\mathcal{X}^{2}\\gt \\mathcal{X}^{2}_{2,0.95}\\to$ по критерию Пирсона мы отвергаем гипотезу\n",
    "\n",
    "$p-value= 1 - F_{T}(T) = 1 -\\mathcal{X_2^{2}}(\\mathcal{X}^{2}_{набл}) = 1-\\mathcal{X^{2}}(27.5 )$ < 0.0001\n",
    "\n"
   ]
  },
  {
   "cell_type": "markdown",
   "metadata": {
    "id": "HfW68W_wPoQQ"
   },
   "source": [
    "#### i.g)Построить критерий значимости  $\\mathcal{X^{2}}$ проверки сложной гипотезы согласия гамма-распределением. Проверить гипотезу по уровню значимости $\\alpha_{2}$.Вычислить наибольшее значение уровня значимости, на котором ещё нет оснований отвергнуть данную гипотезу.\n",
    "\n",
    "$P_{i}=P_{H_{0}}=(X\\in I_{i})=\\sum_{k\\in I_{i}}^{}\\frac{\\sqrt{\\frac{1}{\\overline{X}}}\\cdot exp\\left( -\\frac{\\frac{1}{\\overline{X}}\\cdot k}{2} \\right)}{\\sqrt{2\\pi\\cdot k}}$\n",
    "\n",
    "$I_{1}=\\left[ 0.001,1.22 \\right], n_{1}=46$\n",
    "\n",
    "$P_{1}=\\frac{\\sqrt{2.7}\\cdot exp\\left( -\\frac{2.7\\cdot 0.001}{2} \\right)}{\\sqrt{2\\pi\\cdot 0.001}}+\\frac{\\sqrt{2.7}\\cdot exp\\left( -\\frac{2.7\\cdot 1.22}{2} \\right)}{\\sqrt{2\\pi\\cdot 1.22}}=8.72\\to nP_{1}=37.5$\n",
    "\n",
    "$I_{2}=\\left( 1.22,2.44 \\right], n_{2}=3$\n",
    "\n",
    "$P_{2}=\\frac{\\sqrt{2.7}\\cdot exp\\left( -\\frac{2.7\\cdot 1.22}{2} \\right)}{\\sqrt{2\\pi\\cdot 1.22}}+\\frac{\\sqrt{2.7}\\cdot exp\\left( -\\frac{2.7\\cdot 2.44}{2} \\right)}{\\sqrt{2\\pi\\cdot 2.44}}=0.16\\to nP_{2}=8$\n",
    "\n",
    "$I_{3}=\\left( 2.44,3.66 \\right), n_{3}=1$\n",
    "\n",
    "$P_{3}=\\frac{\\sqrt{2.7}\\cdot exp\\left( -\\frac{2.7\\cdot 2.44}{2} \\right)}{\\sqrt{2\\pi\\cdot 2.44}}+\\frac{\\sqrt{2.7}\\cdot exp\\left( -\\frac{2.7\\cdot 3.66}{2} \\right)}{\\sqrt{2\\pi\\cdot 3.66}}=0.09\\to nP_{3}=4.5$\n",
    "\n",
    "Критерий $\\mathcal{X}^{2}: \\mathcal{X}^{2}_{набл}=\\sum_{i=1}^{3}\\frac{(n_{i}-np_{i})^{2}}{np_{i}} =348.45$\n",
    "\n",
    "$\\mathcal{X}^{2}_{N-1,1-\\alpha_{1}}=\\mathcal{X}^{2}_{2,0.95}\\simeq 9.21$\n",
    "\n",
    "$\\mathcal{X}^{2}\\gt \\mathcal{X}^{2}_{2,0.95}\\to$ по критерию Пирсона мы отвергаем гипотезу\n",
    "\n",
    "$p-value= 1 - F_{T}(T) = 1 -\\mathcal{X_2^{2}}(\\mathcal{X}^{2}_{набл}) = 1-\\mathcal{X^{2}}(348.45)$ < 0.0001"
   ]
  },
  {
   "cell_type": "markdown",
   "metadata": {
    "id": "mTogAwWXW6Ko"
   },
   "source": [
    "#### i.h)Для гамма-распределения $P_{\\lambda}(X)=\\frac{\\sqrt{\\lambda}\\cdot exp\\left( \\frac{-\\lambda\\cdot X}{2} \\right)}{\\sqrt{2\\cdot \\pi\\cdot X}}$ построить наиболее мощный критерий проверки гипотезы о показательности с параметром $\\lambda=\\lambda_{0}$ при альтернативе показательности с параметром $\\lambda=\\lambda_{1}$. \n",
    "\n",
    "Основная гипотеза: $H_{0}=\\lambda_{0}=0.36$\n",
    "\n",
    "Альтернативная гипотеза: $H_{A}=\\lambda_{1}=1.43$\n",
    "\n",
    "Мы можем использовать статистическое отношение правдоподобия для этой задачи.\n",
    "\n",
    "$LR(\\overrightarrow{X},\\lambda_{0},\\lambda_{1}) = \\frac{L\\left( \\overrightarrow{X},\\lambda_{0} \\right)}{L\\left( \\overrightarrow{X},\\lambda_{1} \\right)}= \\frac{\\lambda_{0}^{\\frac{n}{2}} \\cdot exp \\left(-\\frac{\\lambda_{0}\\cdot \\sum_{i=1}^{50}X_{i}}{2} \\right)}{\\lambda_{1}^{\\frac{n}{2}}\\cdot exp \\left(-\\frac{\\lambda_{1}\\cdot \\sum_{i=1}^{50}X_{i}}{2} \\right)}=\\left(\\frac{\\lambda_{0}}{\\lambda_{1}}\\right)^{\\frac{n}{2}}\\cdot exp \\left((\\lambda_{1}-\\lambda_{0})\\cdot \\sum_{i=1}^{50}X_{i} \\right)$\n",
    "\n",
    "Затем мы можем найти критическую область, используя неравенство: $LR(\\overrightarrow{X},\\lambda_{0},\\lambda_{1}) \\gt c$, где $c$ является критической точкой.\n",
    "\n",
    "Таким образом, наша критическая область будет иметь вид ${\\overrightarrow{X} : \\sum_{i=1}^{50}X_{i} \\gt c^{*}}$.\n",
    "\n",
    "Решим  задачу, используя значения $\\lambda_{0}=0.36$ и $\\lambda_{1}=1.43$, а также уровень значимости $\\alpha_{2}=0.05$. Рассчитаем критическую точку $c^{*}$.\n",
    "\n",
    "Используя формулу $c=F_{\\Gamma \\left(n,\\frac{1}{\\lambda} \\right)}^{-1}(1-\\alpha_{2})$, где $F$ - функция распределения гамма-распределения, а $\\Gamma \\left(n,\\frac{1}{\\lambda} \\right)$ - гамма-распределение с параметрами $n$ и $\\frac{1}{\\lambda}$, мы можем найти значение $c^{*}$.\n",
    "\n",
    "Вычислим $c$:\n",
    "$c=F_{\\Gamma \\left(50,\\frac{1}{0.36} \\right)}^{-1}(1-0.05)$\n",
    "\n",
    "Найдем критическое значение $c$. В данном случае, так как $n=50$ и $\\lambda=\\lambda_0=0.36$, вычислим $c = F_{\\Gamma(50, 2.78)}^{-1}(1-0.05) = 172.69$.\n",
    "\n",
    "Рассчитаем статистику отношения правдоподобия $LR(\\overrightarrow{X}, \\lambda_0, \\lambda_1)$. В данном случае, так как $\\lambda_0=0.36$, $\\lambda_1=1.43$, $n=50$ и $\\sum_{i=1}^{50}X_i=c^*=18.525$, получаем $LR(\\overrightarrow{X}, \\lambda_0, \\lambda_1) = \\left(\\frac{0.36}{1.43}\\right)^{25} \\cdot e^{(1.43-0.36) \\cdot 18.525} = 4.29\\cdot10^{-7}$.\n",
    "\n",
    "\n",
    "Так как $LR(\\overrightarrow{X}, \\lambda_{0}, \\lambda_{1}) = 4.29\\cdot10^{-7} \\lt 172.69$, то мы отвергаем основную гипотезу $ H_{0} $.\n",
    "\n",
    "\n",
    "После вычислений мы получаем значение $c^{*}$, которое будет использовано для определения критической области и проверки гипотезы.\n",
    "\n",
    "Теперь давайте рассмотрим ситуацию, если мы поменяем местами основную и альтернативную гипотезы:\n",
    "\n",
    "Основная гипотеза: $H_{0}=\\lambda_{1}=1.43$\n",
    "\n",
    "Альтернативная гипотеза: $H_{A}=\\lambda_{0}=0.36$\n",
    "\n",
    "Вычислим $c$:\n",
    "$c=F_{\\Gamma \\left(50,\\frac{1}{1.43} \\right)}^{-1}(1-0.05)=43.47$\n",
    "\n",
    "Если поменять местами основную и альтернативную гипотезы, то вместо статистики отношения правдоподобия мы будем рассчитывать ее обратное значение. То есть, рассчитаем $LR(\\overrightarrow{X}, \\lambda_{1}, \\lambda_{0})$ и сравним его с критическим значением.\n",
    "\n",
    "$LR(\\overrightarrow{X}, \\lambda_{0}, \\lambda_{1}) = \\left(\\frac{1.43}{0.36}\\right)^{25} \\cdot e^{(0.36-1.43) \\cdot 18.525} = 2.3 \\cdot10^{6}$\n",
    "\n",
    "В данном случае, мы придем к выводу, что не можем отвергнуть основную гипотезу, так как $LR(\\overrightarrow{X}, \\lambda_{1}, \\lambda_{0})=2.3 \\cdot10^{6} \\gt c = 43.47$. И мы отвергаем гипотезу $H_{0}$"
   ]
  },
  {
   "cell_type": "code",
   "execution_count": 16,
   "metadata": {
    "colab": {
     "base_uri": "https://localhost:8080/"
    },
    "id": "NvkvWxc-jA5H",
    "outputId": "51556f06-19fe-4810-b7de-635b8143feef"
   },
   "outputs": [
    {
     "name": "stdout",
     "output_type": "stream",
     "text": [
      "172.6973797277834\n",
      "43.47626342797346\n"
     ]
    }
   ],
   "source": [
    "#Код для нахождения с\n",
    "shape = 50\n",
    "scale = 1/0.36\n",
    "c = stats.gamma.ppf(0.95, a=shape, scale=scale)\n",
    "\n",
    "shape_1 = 50\n",
    "scale_1 = 1/1.43\n",
    "c_1 = stats.gamma.ppf(0.95, a=shape_1, scale=scale_1)\n",
    "print(c)\n",
    "print(c_1)"
   ]
  },
  {
   "cell_type": "markdown",
   "metadata": {
    "id": "QX7-VGUuZf9G"
   },
   "source": [
    "## Выводы\n",
    "\n",
    "В ходе выполнения практической работы были изучены методы математической статистики для решения задач статистического анализа, сформированы навыки реализации методов с помощью прикладных программных пакетов. \n",
    "Были изучены основные методы проведения статистических тестов, вычисления выборочных аналогов числовых характеристик, построения доверительных интервалов,построения критериев, проверки гипотез и др."
   ]
  },
  {
   "cell_type": "markdown",
   "metadata": {},
   "source": []
  },
  {
   "cell_type": "markdown",
   "metadata": {},
   "source": []
  }
 ],
 "metadata": {
  "colab": {
   "provenance": []
  },
  "kernelspec": {
   "display_name": "python  (ipykernel)",
   "language": "python",
   "name": "python3"
  },
  "language_info": {
   "codemirror_mode": {
    "name": "ipython",
    "version": 3
   },
   "file_extension": ".py",
   "mimetype": "text/x-python",
   "name": "python",
   "nbconvert_exporter": "python",
   "pygments_lexer": "ipython3",
   "version": "3.11.4"
  }
 },
 "nbformat": 4,
 "nbformat_minor": 1
}
