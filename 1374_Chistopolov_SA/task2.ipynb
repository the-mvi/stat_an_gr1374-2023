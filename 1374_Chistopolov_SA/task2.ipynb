{
  "nbformat": 4,
  "nbformat_minor": 0,
  "metadata": {
    "colab": {
      "provenance": []
    },
    "kernelspec": {
      "name": "python3",
      "display_name": "Python 3"
    },
    "language_info": {
      "name": "python"
    }
  },
  "cells": [
    {
      "cell_type": "markdown",
      "source": [
        "# Практическая работа №2: Классические методы математической статистики\n",
        "Выполнил студент гр.1374 Чистополов Савва. Вариант 26"
      ],
      "metadata": {
        "id": "Dgizzcch0Oa_"
      }
    },
    {
      "cell_type": "markdown",
      "source": [
        "## Цель работы\n",
        "Научится применять методы математической статистики для решения задач статистического анализа; сформировать навыки реализации методов с помощью прикладных программных пакетов."
      ],
      "metadata": {
        "id": "tfao5oPNBTku"
      }
    },
    {
      "cell_type": "markdown",
      "source": [
        "## Основные теоретические положения\n",
        "\n",
        "1.Выборочные числовые характеристики:\n",
        "\n",
        "\n",
        "Мат.ожидание $\\overline{X}=\\frac{1}{n}\\sum_{i=1}^{n}X_{i}$\n",
        "\n",
        "Дисперсия $S^{2}=\\frac{1}{n}\\sum_{i=1}^{n}\\left( X_{i}-\\overline{X} \\right)^{2}=\\overline{X^{2}}-\\overline{X}^{2}$\n",
        "\n",
        "2.Оценка максимального правдоподобия (ОМП):\n",
        "\n",
        "Если $X_{1},...,X_{n}$-выборка из распределения с плотностью распределения $P_{\\theta}, \\theta\\in \\Theta$, то\n",
        "\n",
        "2.1 Функция правдоподобия распадается в произведения $L(\\overrightarrow{X},\\theta)=\\prod_{i=1}^{n}P_{\\theta}(X_{i})$\n",
        "\n",
        "2.2 Логарифм функции правдоподобия представляется в виде суммы $LL(\\overrightarrow{X},\\theta)=\\ln L(\\overrightarrow{X},\\theta)=\\sum_{i=1}^{n}\\ln P_{\\theta}(X_{i})$\n",
        "\n",
        "2.3 В силу монотонности логарифма задача максимизации функции правдоподобия сводится к задаче максимизации ее логарифма по всем $\\theta\\in \\Theta  LL(\\overrightarrow{X}),\\theta=\\sum_{i=1}^{n}\\ln P_{\\theta}(X_{i})$\n",
        "\n",
        "2.4 Если $\\theta$ - d-мерный параметр и $P_{\\theta}$ дифференцируема по $\\theta$, то для нахождения максимума надо найти решения системы уравнений: U$(\\overrightarrow{X},\\theta)=\\frac{\\partial }{\\partial \\theta}LL(\\overrightarrow{X},\\theta)=0, i=\\overline{1,d}$\n",
        "\n",
        "3. Оценка метода моментов (ОММ)\n",
        "\n",
        "Пусть $X_{1},...,X_{n}$-выбока из распределения $P_{\\theta}, \\theta=(\\theta_{1},...,\\theta_{d})$\n",
        "\n",
        "$\\exists \\mu_{k}(\\theta)=\\mathbb{E}X^{k}_{1}, k=\\overline{1,d}$\n",
        "\n",
        "Если $\\exists$ ! решение $\\widetilde{\\theta}(X)$ системы уравнений: $\\widehat{\\mu^{k}}(\\widetilde{\\theta})=\\mu_{k}(\\theta), k=\\overline{1,d}$, где $\\widetilde{\\theta}(X)=\\frac{1}{n}\\sum_{i=1}^{n}X^{k}_{i}$-выборочный момент k-го порядка, то $\\widetilde{\\theta}(X)$ называется оценкой по методу моментов\n",
        "\n",
        "4. НРМД-оценки (несмещенная оценка)\n",
        "\n",
        "Оценка $\\widehat{\\theta}(X)$ параметра $\\theta$ называется несмещенной, если при любом значении параметра $\\theta\\in \\Theta: \\mathbb{E}\\widehat{\\theta}(X)=\\theta$\n",
        "\n",
        "Алгоритм несмещенного оценивания:\n",
        "\n",
        "4.1 Найти оценку $\\widehat{\\theta}(T)$, являющуюся функцией от минимальной достаточной статистики T(e.g.ОМП)\n",
        "\n",
        "4.2 Доказать полноту МДС\n",
        "\n",
        "4.3 Скорректировать смещение:$\\widetilde{\\theta}(T)=f(\\widehat{\\theta}(T),T): \\mathbb{E}_{\\theta}\\widetilde{\\theta}(T)=\\theta,\\forall \\theta\\in \\Theta$\n",
        "\n",
        "5. Асимптотический доверительный интервал (АДИ)\n",
        "\n",
        "5.1 На базе Асимптотической нормальности оценки $\\widehat{\\theta}$\n",
        "\n",
        "5.1.1 Асимптотическая нормальность $\\sqrt{n}\\left( \\widehat{\\theta}(\\overrightarrow{X})-\\theta)\\right)\\sim \\mathcal{N}\\left(0,\\sigma^{2}(\\theta)\\right)$\n",
        "\n",
        "5.1.2 Тогда $\\sqrt{n}\\frac{\\widehat{\\theta}(\\overrightarrow{X})-\\theta}{\\sigma\\left(\\widehat{\\theta}(\\overrightarrow{X})\\right)}$    \n",
        "\n",
        "5.1.3 Выбираем $X_{\\alpha}: \\Phi(X_{\\alpha})=1-\\frac{\\alpha}{2}$\n",
        "\n",
        "5.1.4 АДИ: $\\left[ \\widehat{\\theta}(\\overrightarrow{X})-\\frac{X_{\\alpha}\\cdot \\sigma\\left( \\widehat{\\theta}(\\overrightarrow{X}) \\right)}{\\sqrt{n}}; \\widehat{\\theta}(\\overrightarrow{X})+\\frac{X_{\\alpha}\\cdot \\sigma\\left( \\widehat{\\theta}(\\overrightarrow{X}) \\right)}{\\sqrt{n}}\\right]$\n",
        "\n",
        "5.2 на базе ОМП\n",
        "\n",
        "5.2.1 Пусть $\\widehat{\\theta}(\\overrightarrow{X})$-ОМП\n",
        "\n",
        "5.2.2 При выполнении опр.условий регулярности: $\\sqrt{n}\\left( \\widehat{\\theta}(\\overrightarrow{X})-\\theta)\\right)\\sim \\mathcal{N}\\left(0,\\frac{1}{I(\\theta)}\\right), I(\\theta)=-\\mathbb{E}\\left( \\frac{\\partial^{2} LL}{\\partial \\theta^{2}} \\right)$-информация Фишера\n",
        "\n",
        "5.2.3 Тогда $\\sqrt{n\\cdot I\\left( \\widehat{\\theta}(\\overrightarrow{X}) \\right)}\\cdot \\left( \\widehat{\\theta}(\\overrightarrow{X})-\\theta \\right)\\sim \\mathcal{N}(0,1)$\n",
        "\n",
        "5.2.4 Выбираем $X_{\\alpha}: \\Phi(X_{\\alpha})=1-\\frac{\\alpha}{2}$\n",
        "\n",
        "5.2.5 АДИ: $\\left[ \\widehat{\\theta}(\\overrightarrow{X})-\\frac{X_{\\alpha}}{\\sqrt{n\\cdot I\\left( \\widehat{\\theta}(\\overrightarrow{X}) \\right)}};\\widehat{\\theta}(\\overrightarrow{X})+\\frac{X_{\\alpha}}{\\sqrt{n\\cdot I\\left( \\widehat{\\theta}(\\overrightarrow{X}) \\right)}} \\right]$\n",
        "\n",
        "6. Критерий $\\chi^2$ для проверки гипотез\n",
        "\n",
        "Основан на справнении теоритической плотности распределения и гистограммы, либо теоритической вероятностной меры и полигона частот.\n",
        "\n",
        "Разобъем множество значений сл. вел. X на $N$ интервалов $I_{1}, ..., I_{N}:$ $I_{i} = (a_{i-1}, a_i], i = \\overline {1,N}$. данные интервалы не пересекаются и покрывают всё множество возможных значений случайных величин X.\n",
        "\n",
        "Обозначим через $p_{i}$ теоритическую вероятность попадания сл. вел. X в интервал $I_{i}$, при условии, что справедлива $H_{0}$.\n",
        "\n",
        "$p_{i} = P(X \\in I_{i}|H_{0})$\n",
        "\n",
        "Через $n_{i}$ обозначим число наблюдений нашей выборки, попавших в соответветствующий интервал $I_{i}$.\n",
        "\n",
        "$n_{i} = num(x_{j} \\in I_{i})$\n",
        "\n",
        "Статистика критерия основана на сравнении относительной частоты и теоритической.\n",
        "\n",
        "$\\chi^{2}_{набл} = \\sum \\limits_{i=1}^{N} \\frac{n}{p_{i}} \\bigg ( \\frac{n_{i}}{n} - p_{i} \\bigg )^{2} = \\sum \\limits_{i=1}^{N} \\frac{(n_{i} - p_{i} n)^{2}}{n p_{i}} \\sim \\chi^{2}_{N-1}$\n",
        "\n",
        "Если $\\mathcal{X}^{2}_{N-1,1-\\alpha_{1}} \\lt \\chi^2_{набл}$, то гипотезу отвергаем\n",
        "\n",
        "Если $\\mathcal{X}^{2}_{N-1,1-\\alpha_{1}} \\gt \\chi^2_{набл}$, то гипотезу принимаем\n",
        "\n",
        "7. Теорема Колмогорова\n",
        "\n",
        "Статистика Колмогорова:\n",
        "\n",
        "$D_{n}(\\overrightarrow{X}) = \\overset{}{\\underset{-\\infty \\lt X\\lt \\infty}{sup}} |F_{n}(X) - F(X)|$\n",
        "\n",
        "Если гипотеза $H_{0}$ верна, и $F_{0}(X)$ - непрерывная ф-я на $\\mathbb R$, тогда имеет место сходимость\n",
        "\n",
        "$\\lim\\limits_{n\\to \\infty}P(\\sqrt{n} D_{n} \\leq t) = K(t)$, где\n",
        "\n",
        "$K(t) - ф-я распределения Колмогорова.\n",
        "\n",
        "Если $D_{n} \\lt t$, то гипотезу принимаем\n",
        "\n",
        "Если $D_{n} \\gt t$, то гипотезу отвергаем\n",
        "\n",
        "8. Наиболее мощный критерий простой гипотезы\n",
        "\n",
        "Для основной гипотезы $H_{0}: \\theta=\\theta_{0}$ и альтернативной гипотезы $H_{1}: \\theta=\\theta_{1}$, где $\\theta_{0}$ и $\\theta_{1}$ - фиксированные параметры, мы можем построить статистику правдоподобия:\n",
        "\n",
        "$LR(\\overrightarrow{X},\\theta_{1},\\theta_{0})=\\frac{L(\\overrightarrow{X},\\theta_{1})}{L(\\overrightarrow{X},\\theta_{0})}=\\frac{P_{\\theta_{1}}(X)}{P_{\\theta_{0}}(X)}$ - статистика отношений правдоподобия\n",
        "\n",
        "где $L(\\overrightarrow{X},\\theta_{1})$ - функция правдоподобия для альтернативной гипотезы, а $L(\\overrightarrow{X}\\theta_{0})$ - функция правдоподобия для основной гипотезы.\n",
        "\n",
        "Наиболее мощным критерием будет критическая область, в которой наблюдаемое значение статистики правдоподобия $LR(\\overrightarrow{X},\\theta_{1},\\theta_{0})$ будет отклоняться от значения 1 в сторону более высоких значений.\n",
        "\n",
        "Чтобы построить критическую область, мы должны задать уровень значимости $\\alpha$ - вероятность ошибки первого рода. Затем мы находим критическое значение $c$ такое, что $P\\left(LR(\\overrightarrow{X},\\theta_{1},\\theta_{0}) > c | H_{0} \\right) = \\alpha$, где $P\\left(LR(\\overrightarrow{X},\\theta_{1},\\theta_{0}) > c | H_{0}\\right)$ - вероятность получить наблюдаемое значение статистики правдоподобия, большее или равное $c$, при условии, что основная гипотеза верна.\n",
        "\n",
        "$LR(\\overrightarrow{X},\\theta_{1},\\theta_{0})\\gt c$, то принимаем основную гипотезу\n",
        "\n",
        "$LR(\\overrightarrow{X},\\theta_{1},\\theta_{0})\\lt c$, то отвергаем основную гипотезу"
      ],
      "metadata": {
        "id": "lGfbEBIpBu9M"
      }
    },
    {
      "cell_type": "markdown",
      "source": [
        "## Постановка задачи\n",
        "Для полученных в результате эксперимента наборов данных выполнить статистическую обработку. Полученные результаты содержательно проинтерпретировать."
      ],
      "metadata": {
        "id": "X-OSbbFMB4aM"
      }
    },
    {
      "cell_type": "markdown",
      "source": [
        "## Выполнение работы"
      ],
      "metadata": {
        "id": "FFEysGy7CDvZ"
      }
    },
    {
      "cell_type": "markdown",
      "source": [
        "### Задание-1"
      ],
      "metadata": {
        "id": "f__gimKYKZZ5"
      }
    },
    {
      "cell_type": "code",
      "source": [
        "import numpy as np\n",
        "import matplotlib.pyplot as plt\n",
        "from scipy import stats"
      ],
      "metadata": {
        "id": "13Ei00PCAbqI"
      },
      "execution_count": null,
      "outputs": []
    },
    {
      "cell_type": "markdown",
      "source": [
        "#### a)Построить вариционный ряд, эмпирическую функцию распределения и гистограмму частот"
      ],
      "metadata": {
        "id": "DzRE7SrPCOoY"
      }
    },
    {
      "cell_type": "code",
      "source": [
        "data = [8, 5, 5, 5, 3, 7, 4, 5, 5, 4, 7, 6, 8, 4, 6, 7, 7, 4, 8, 2, 4, 7, 6, 5, 5, 4, 3, 4, 3, 5, 3, 5, 3, 3, 8, 6, 10, 0, 6, 5, 7, 3, 7, 3, 6, 4, 0, 6, 4, 5]\n",
        "sorted_data = np.sort(data)\n",
        "n = len(data)\n",
        "sum=np.sum(data)\n",
        "variation_range = np.unique(sorted_data)\n",
        "empirical_function = np.cumsum(sorted_data) / n\n",
        "print(sorted_data)\n",
        "print(sum)\n",
        "# Нанесение на график вариационного ряда\n",
        "plt.subplot(311)\n",
        "plt.plot(range(len(sorted_data)), sorted_data, marker='.', linestyle='-', color='r')\n",
        "plt.xlabel('Наблюдения')\n",
        "plt.ylabel('Значения')\n",
        "plt.title('Вариационный ряд')\n",
        "plt.show()"
      ],
      "metadata": {
        "colab": {
          "base_uri": "https://localhost:8080/",
          "height": 280
        },
        "id": "rkIoTsqIqwg2",
        "outputId": "9773e0b4-545d-4e6e-daf7-b159802fd168"
      },
      "execution_count": null,
      "outputs": [
        {
          "output_type": "stream",
          "name": "stdout",
          "text": [
            "[ 0  0  2  3  3  3  3  3  3  3  3  4  4  4  4  4  4  4  4  4  5  5  5  5\n",
            "  5  5  5  5  5  5  5  6  6  6  6  6  6  6  7  7  7  7  7  7  7  8  8  8\n",
            "  8 10]\n",
            "250\n"
          ]
        },
        {
          "output_type": "display_data",
          "data": {
            "text/plain": [
              "<Figure size 640x480 with 1 Axes>"
            ],
            "image/png": "[encoded data removed]"
          },
          "metadata": {}
        }
      ]
    },
    {
      "cell_type": "code",
      "source": [
        "plt.subplot(312)\n",
        "unique_values, frequencies = np.unique(sorted_data, return_counts=True)\n",
        "plt.plot(sorted_data, empirical_function, marker='.', linestyle='-')\n",
        "plt.xlabel('Значения')\n",
        "plt.ylabel('Вероятность')\n",
        "plt.title('Эмпирическая функция')\n",
        "plt.show()"
      ],
      "metadata": {
        "colab": {
          "base_uri": "https://localhost:8080/",
          "height": 211
        },
        "id": "iI4_MXCEv4WR",
        "outputId": "891e7d6b-0eee-4aae-959a-439e9e2ec189"
      },
      "execution_count": null,
      "outputs": [
        {
          "output_type": "display_data",
          "data": {
            "text/plain": [
              "<Figure size 640x480 with 1 Axes>"
            ],
            "image/png": "[encoded data removed]"
          },
          "metadata": {}
        }
      ]
    },
    {
      "cell_type": "code",
      "source": [
        "plt.subplot(313)\n",
        "plt.hist(sorted_data, bins=range(min(sorted_data), max(sorted_data) + 1), density=True, edgecolor='black')\n",
        "plt.xlabel('Значение')\n",
        "plt.ylabel('Относительная частота')\n",
        "plt.title('Гистограмма частот')\n",
        "plt.show()"
      ],
      "metadata": {
        "colab": {
          "base_uri": "https://localhost:8080/",
          "height": 211
        },
        "id": "aQFzsyuFvlVj",
        "outputId": "efd1cdde-9a8c-4379-d25e-ab924b5ba971"
      },
      "execution_count": null,
      "outputs": [
        {
          "output_type": "display_data",
          "data": {
            "text/plain": [
              "<Figure size 640x480 with 1 Axes>"
            ],
            "image/png": "[encoded data removed]"
          },
          "metadata": {}
        }
      ]
    },
    {
      "cell_type": "markdown",
      "source": [
        "#### b) Вычислить выборочные аналоги следующих числовых характеристик: (i)математическое ожидание, (ii)дисперсия, (iii)медианы, (iv)асимметрии, (v)эксцесса (vi) вероятности $\\mathrm{P}(X\\in \\left[ a,b \\right])$"
      ],
      "metadata": {
        "id": "L6smtvKiCptl"
      }
    },
    {
      "cell_type": "code",
      "source": [
        "a = 3.66\n",
        "b = 7.24\n",
        "mean = np.mean(data)\n",
        "variance = np.var(data)\n",
        "deviation=np.std(data)\n",
        "median = np.median(data)\n",
        "skewness = stats.skew(data)\n",
        "kurtosis = stats.kurtosis(data)\n",
        "probability = len([x for x in data if a <= x <= b]) / len(data)\n",
        "print(\"Мат.ожидание=\",mean)\n",
        "print(\"Дисперсия=\",variance)\n",
        "print(\"СКО=\",deviation)\n",
        "print(\"Медиана=\",median)\n",
        "print(\"Асимметрия=\",skewness)\n",
        "print(\"Эксцесс=\",kurtosis)\n",
        "print(\"Вероятность попадания в промежуток=\",probability)"
      ],
      "metadata": {
        "colab": {
          "base_uri": "https://localhost:8080/"
        },
        "id": "oYiXySOcEDpE",
        "outputId": "326c8fda-2583-4f5d-82c9-373aa3edb72a"
      },
      "execution_count": null,
      "outputs": [
        {
          "output_type": "stream",
          "name": "stdout",
          "text": [
            "Мат.ожидание= 5.0\n",
            "Дисперсия= 3.92\n",
            "СКО= 1.9798989873223332\n",
            "Медиана= 5.0\n",
            "Асимметрия= -0.13915366685158007\n",
            "Эксцесс= 0.30070803831736814\n",
            "Вероятность попадания в промежуток= 0.68\n"
          ]
        }
      ]
    },
    {
      "cell_type": "markdown",
      "source": [
        "#### c)В предположении, что исходные наблюдения являются выборкой из распределения Пуассона, построить ОМП и ОММ параметра $\\lambda$.Найти смещение оценки.\n",
        "\n",
        "Построим ОМП.\n",
        "Плотность распределения Пуассона: $P_{\\lambda}(X=k)=\\frac{\\lambda^{k}}{k!}\\cdot exp(-\\lambda)$\n",
        "\n",
        "Построим функцию правдоподобия:\n",
        "\n",
        "$L(\\overrightarrow{X};\\theta)=\\prod_{i=1}^{n}P_{\\lambda}(X_{i})=\\prod_{i=1}^{n}\\frac{\\lambda^{X_{i}}}{X_{i}!}\\cdot exp(-\\lambda)=\\frac{\\lambda^{\\sum_{i=1}^{n}X_{i}}}{\\prod_{i=1}^{n}(X_{i}!)}\\cdot exp(-n\\cdot \\lambda)$\n",
        "\n",
        "Прологарифмируем функцию правдоподобия:\n",
        "\n",
        "$LL(\\overrightarrow{X};\\theta)= \\sum_{i=1}^{n}X_{i}\\cdot \\ln(\\lambda)-\\ln(\\prod_{i=1}^{n}X_{i}!)-n\\cdot \\lambda$\n",
        "\n",
        "Найдем частную производную по параметру $\\lambda$ и приравняем производную к нулю и тем самым найдем наш параметр:\n",
        "\n",
        "$\\frac{\\partial LL(\\overrightarrow{X};\\theta)}{\\partial \\lambda} = \\frac{\\sum_{i=1}^{n}X_{i}}{\\lambda}-n=0\\implies \\frac{\\sum_{i=1}^{n}X_{i}}{\\lambda}=n\\implies \\lambda=\\frac{1}{n}\\cdot \\sum_{i=1}^{n}X_{i}\\implies \\widehat{\\theta}=\\widehat{\\lambda}=\\overline{X}$.\n",
        "\n",
        "Выборка нам известна, и мы можем посчитать, чему равен параметр: $\\widehat{\\lambda}=\\overline{X}=5$\n",
        "\n",
        "\n",
        "Построим по ОММ.\n",
        "Для закона Пуассона $P_{\\lambda}(X=k)=\\frac{\\lambda^{k}}{k!}\\cdot exp(-\\lambda)$\n",
        "\n",
        "Нам известно, что первый момент $\\mathbb{E}X_{1}=\\lambda;M_{1}=\\overline{X}$\n",
        "равен нашему параметру, и поскольку у нас 1-но мерный параметр, то у нас будет система из одного уравнения.\n",
        "\n",
        "Тогда мы получим $\\widetilde{\\theta}=\\widetilde{\\lambda}=\\overline{X}=5$\n",
        "\n",
        "Для нахождения НРМД-оценки нам понадобится ОМП, которое мы нашли.\n",
        "\n",
        "$g\\left(T(\\overrightarrow{X})\\right)=\\lambda^{\\sum_{i=1}^{n}X_{i}}\\cdot exp(-n\\cdot \\lambda)$\n",
        "\n",
        "$h(\\overrightarrow{X})=\\frac{1}{\\prod_{i=1}^{n}X_{i}!}$\n",
        "\n",
        "Достаточная минимальная статистика: $T=\\sum_{i=1}^{n}X_{i}=250$.\n",
        "\n",
        "Распределение Пуассона принадлежит экспоненциальному семейству распределения, следовательно, МДС будет являться ПДС.\n",
        "\n",
        "$\\mathbb{E}_{\\lambda}\\overline{X}=\\mathbb{E}_{\\lambda}\\frac{1}{n}\\cdot \\sum_{i=1}^{n}x_{i}=\\frac{1}{n}\\cdot \\mathbb{E_{\\lambda}}\\sum_{i=1}^{n}x_{i}=\\frac{1}{n}\\cdot \\sum_{i=1}^{n}\\mathbb{E_{\\lambda}}X_{1}=\\frac{1}{n}\\cdot n\\cdot \\mathbb{E}_{\\lambda}X_{1}=\\lambda=5$ - НРМД-оценка"
      ],
      "metadata": {
        "id": "Qt3oFzjjJfXn"
      }
    },
    {
      "cell_type": "markdown",
      "source": [
        "#### d)Построить АДИ уровня значимости $\\alpha_1$ для параметра $\\lambda$ на базе ОМП\n",
        "1. Построим на базе ОМП.\n",
        "\n",
        "$\\sqrt{n}\\left( \\widehat{\\theta}(\\overrightarrow{X})-\\theta \\right)\\sim N\\left( 0, \\frac{1}{I(\\theta)} \\right)$\n",
        "\n",
        "ОМП: $\\widehat{\\theta}=\\widehat{\\lambda}=\\overline{X}$\n",
        "\n",
        "Найдем информацию Фишера: $I(\\theta)=-\\mathbb{E}\\left( \\frac{\\partial^{2} LL}{\\partial \\lambda^{2}} \\right)=-\\mathbb{E}\\left( -\\frac{\\sum_{i=1}^{n}X_{i}}{\\lambda^{2}} \\right)=\\frac{n}{\\lambda^{2}}$\n",
        "\n",
        "Тогда $\\sqrt{n\\cdot I\\left(  \\widehat{\\theta}(\\overrightarrow{X})\\right)}\\left( \\widehat{\\theta}(\\overrightarrow{X})-\\theta \\right)\\sim N(0,1)$\n",
        "\n",
        "Выбираем $X_{\\alpha}$: $\\mathrm{Ф}(X_{\\alpha})=1-\\frac{\\alpha_{1}}{2}=1-\\frac{0,2}{2}=0,9 \\implies X_{0,9}=1,28$\n",
        "\n",
        "$\\left[ \\overline{X}-\\frac{X_{0.9}}{\\sqrt{50\\cdot \\frac{50}{\\overline{X}}}}; \\overline{X}+\\frac{X_{0.9}}{\\sqrt{50\\cdot \\frac{50}{\\overline{X}}}}\\right] \\implies 5-\\frac{1,28\\sqrt{5}}{50}\\le \\lambda\\le 5+\\frac{1,28\\sqrt{5}}{50}$\n",
        "\n",
        "$4,94\\le \\lambda\\le 5,057$ - АДИ параметра $\\lambda$.\n",
        "\n",
        "2. Построим на безе асимтотической нормальной оценки $\\widehat{\\theta}$\n",
        "\n",
        "$\\sqrt{n}\\left( \\widehat{\\theta}(\\overrightarrow{X})-\\theta \\right)\\sim N(0,\\sigma^{2}(\\theta))$\n",
        "\n",
        "$\\sqrt{n}\\frac{ \\widehat{\\theta}(\\overrightarrow{X})-\\theta}{\\sigma(\\widehat{\\theta})}\\sim N(0,1)$\n",
        "\n",
        "$X_{\\alpha}: \\mathrm{Ф(X_{\\alpha})}=0.9 \\implies X_{0.9}=1.28$\n",
        "\n",
        "$-X_{0.9}\\le \\sqrt{n}\\cdot \\frac{\\widehat{\\lambda}-\\lambda}{\\sqrt{\\widehat{\\lambda}}}\\le X_{0.9}$\n",
        "\n",
        "$1-\\frac{1.28\\cdot 5}{\\sqrt{50}}\\le \\lambda\\le 1+\\frac{1.28\\cdot 5}{\\sqrt{50}}\\implies 0.09\\le \\lambda\\le 1.9$ - АДИ параметра $\\lambda$"
      ],
      "metadata": {
        "id": "FyUqDbBYWYYL"
      }
    },
    {
      "cell_type": "markdown",
      "source": [
        "#### e)Используя гистограмму частот, построить критерий значимости $\\mathcal{X^{2}}$ проверки простой гипотезы согласия с распределением Пуассона с параметром $\\lambda_{0}$. Проверить гипотезу на уровень значимости $\\alpha_{1}$. Вычислить наибольшее значение уровня значимости, на котором ещё нет оснований отвергнуть данную гипотезу.\n",
        "\n",
        "$P_{i}=P_{H_{0}}=(X\\in I_{i})=\\sum_{k\\in I_{i}}^{}\\frac{\\lambda_{0}^{k}}{k!}exp(-\\lambda_{0})$\n",
        "\n",
        "$I_{1}=[0,2], n_{1}=3$\n",
        "\n",
        "$P_{1}=\\frac{7^{0}}{0!}exp(-7)+\\frac{7^{2}}{2!}exp(-7)=0,02 \\implies nP_{1}=1$\n",
        "\n",
        "$I_{2}=[2,4], n_{2}=18$\n",
        "\n",
        "$P_{2}=\\frac{7^{2}}{2!}exp(-7)+\\frac{7^{4}}{4!}exp(-7)=0,113 \\implies nP_{2}=5,65$\n",
        "\n",
        "$I_{3}=[4,6], n_{3}=27$\n",
        "\n",
        "$P_{3}=\\frac{7^{4}}{4!}exp(-7)+\\frac{7^{6}}{6!}exp(-7)=0,24 \\implies nP_{3}=12$\n",
        "\n",
        "$I_{4}=[6,8], n_{4}=18$\n",
        "\n",
        "$P_{4}=\\frac{7^{6}}{6!}exp(-7)+\\frac{7^{8}}{8!}exp(-7)=0,279 \\implies nP_{4}=13,95$\n",
        "\n",
        "$I_{5}=[8,10], n_{5}=5$\n",
        "\n",
        "$P_{5}=\\frac{7^{8}}{8!}exp(-7)+\\frac{7^{10}}{10!}exp(-7)=0,07 \\implies nP_{5}=3,5$\n",
        "\n",
        "Критерий $\\mathcal{X}^{2}: \\mathcal{X}^{2}_{набл}=\\sum_{i=1}^{5}\\frac{(n_{i}-np_{i})^{2}}{np_{i}} =51,56$\n",
        "\n",
        "$\\mathcal{X}^{2}_{N-1,1-\\alpha_{1}}=\\mathcal{X}^{2}_{4, 0.8} \\sim 5,989$\n",
        "\n",
        "$\\mathcal{X}^{2}\\gt \\mathcal{X}^{2}_{4,0.8}\\implies$ по критерию Пирсона мы отвергаем гипотезу\n"
      ],
      "metadata": {
        "id": "3noN0hiiWsqi"
      }
    },
    {
      "cell_type": "markdown",
      "source": [
        "#### f)Построить критерий значимости  $\\mathcal{X^{2}}$ проверки сложной гипотезы согласия с распределением Пуассона. Проверить гипотезу по уровню значимости $\\alpha_{1}$.Вычислить наибольшее значение уровня значимости, на котором ещё нет оснований отвергнуть данную гипотезу.\n",
        "\n",
        "$P_{i}=P_{H_{0}}=(X\\in I_{i})=\\sum_{k\\in I_{i}}^{}\\frac{\\overline{X}^{k}}{k!}exp(-\\overline{X})$\n",
        "\n",
        "$I_{1}=[0,2], n_{1}=3$\n",
        "\n",
        "$P_{1}=\\frac{5^{0}}{0!}exp(-5)+\\frac{5^{2}}{2!}exp(-5)=0,09 \\implies nP_{1}=4,5$\n",
        "\n",
        "$I_{2}=[2,4], n_{2}=18$\n",
        "\n",
        "$P_{2}=\\frac{5^{2}}{2!}exp(-5)+\\frac{5^{4}}{4!}exp(-5)=0,26 \\implies nP_{2}=13$\n",
        "\n",
        "$I_{3}=[4,6], n_{3}=27$\n",
        "\n",
        "$P_{3}=\\frac{5^{4}}{4!}exp(-5)+\\frac{5^{6}}{6!}exp(-5)=0,32 \\implies nP_{3}=16$\n",
        "\n",
        "$I_{4}=[6,8], n_{4}=18$\n",
        "\n",
        "$P_{4}=\\frac{5^{6}}{6!}exp(-5)+\\frac{5^{8}}{8!}exp(-5)=0,21 \\implies nP_{4}=10,5$\n",
        "\n",
        "$I_{5}=[8,10], n_{5}=5$\n",
        "\n",
        "$P_{5}=\\frac{5^{8}}{8!}exp(-5)+\\frac{5^{10}}{10!}exp(-5)=0,08 \\implies nP_{5}=4$\n",
        "\n",
        "Критерий $\\mathcal{X}^{2}: \\mathcal{X}^{2}_{набл}=\\sum_{i=1}^{5}\\frac{(n_{i}-np_{i})^{2}}{np_{i}} =15,59$\n",
        "\n",
        "$\\mathcal{X}^{2}_{N-1,1-\\alpha_{1}}=\\mathcal{X}^{2}_{4,0.8}\\sim 5,989$\n",
        "\n",
        "$\\mathcal{X}^{2}\\gt \\mathcal{X}^{2}_{4,0.8}\\implies$ по критерию Пирсона мы отвергаем гипотезу\n"
      ],
      "metadata": {
        "id": "VGtzcCuPe6lw"
      }
    },
    {
      "cell_type": "markdown",
      "source": [
        "#### g)Построить наиболее мощный критерий проверки простой гипотезы пауссоновости с параметром $\\lambda=\\lambda_{0}$ при альтернативе пуассоновсти с параметром $\\lambda=\\lambda_{1}$. Проверить гипотезу на уровне значимости $\\alpha_{1}$. Что получится, если поменять местами основную и альтернативную гипотезы?\n",
        "\n",
        "Основная гипотеза: $H_{0}=\\lambda_{0}=7$\n",
        "\n",
        "Альтернативная гипотеза: $H_{A}=\\lambda_{1}=5$\n",
        "\n",
        "$LR(\\overrightarrow{X},\\lambda_{1},\\lambda_{0}) = \\frac{L\\left( \\overrightarrow{X},\\lambda_{1} \\right)}{L\\left( \\overrightarrow{X},\\lambda_{0} \\right)}= \\frac{\\lambda_{1}^{\\sum_{i=1}^{n}X_{i}}\\cdot exp(-n\\cdot \\lambda_{1})}{\\lambda_{0}^{\\sum_{i=1}^{n}X_{i}}\\cdot exp(-n\\cdot \\lambda_{0})}$\n",
        "\n",
        "В силу монотонности статистики $LR(\\overrightarrow{X})$ относительно МДС $T(\\overrightarrow{X})=\\sum_{i=1}^{50}X_{i}$\n",
        "\n",
        "$LR(\\overrightarrow{X},\\lambda_{0},\\lambda_{1})\\gt c\\Leftrightarrow \\overline{X}\\gt c^{*}$\n",
        "\n",
        "$\\sqrt{n}\\frac{\\overline{X}-\\lambda_{0}}{\\sqrt{\\overline{X}}}\\sim N(0,1)$\n",
        "\n",
        "$P\\left(\\sqrt{n}\\frac{\\overline{X}-\\lambda_{0}}{\\sqrt{\\overline{X}}} \\right)\\gt \\sqrt{n}\\frac{\\overline{X}-\\lambda_{0}}{\\sqrt{\\overline{X}}}=1-\\Phi\\left(\\sqrt{n}\\frac{\\overline{X}-\\lambda_{0}}{\\sqrt{\\overline{X}}} \\right)=\\alpha_{1}$\n",
        "\n",
        "$\\Phi\\left(\\sqrt{n}\\frac{\\overline{X}-\\lambda_{0}}{\\sqrt{\\overline{X}}} \\right)=1-\\alpha_{1}=0.8$\n",
        "\n",
        "$\\sqrt{n}\\frac{\\overline{X}-\\lambda_{0}}{\\sqrt{\\overline{X}}}\\gt \\sqrt{n}\\frac{c-\\lambda_{0}}{\\sqrt{\\overline{X}}}=0,84 \\implies c=0,84 \\cdot \\frac{\\sqrt{\\overline{X}}}{\\sqrt{n}}+\\lambda_{0}=0,84 \\cdot \\frac{\\sqrt{5}}{\\sqrt{50}}+7=7,266\\gt \\overline{X} \\implies гипотезу \\quad отвергаем. $\n",
        "\n",
        "Поменяем теперь основную и альтернативную гипотезу местами:\n",
        "\n",
        "Основная гипотеза: $H_{0}=\\lambda_{1}=5$\n",
        "\n",
        "Альтернативная гипотеза: $H_{A}=\\lambda_{0}=7$\n",
        "\n",
        "Воспользуемся статистическим отношением правдоподобия:\n",
        "\n",
        "$LR(\\overrightarrow{X},\\lambda_{0},\\lambda_{1}) = \\frac{L\\left( \\overrightarrow{X},\\lambda_{0} \\right)}{L\\left( \\overrightarrow{X},\\lambda_{1} \\right)}= \\frac{\\lambda_{0}^{\\sum_{i=1}^{n}X_{i}}\\cdot exp(-n\\cdot \\lambda_{0})}{\\lambda_{1}^{\\sum_{i=1}^{n}X_{i}}\\cdot exp(-n\\cdot \\lambda_{1})}$\n",
        "\n",
        "В силу монотонности статистики $LR(\\overrightarrow{X})$ относительно МДС $T(\\overrightarrow{X})=\\sum_{i=1}^{50}X_{i}$\n",
        "\n",
        "$LR(\\overrightarrow{X},\\lambda_{0},\\lambda_{1})\\gt c\\Leftrightarrow \\overline{X}\\gt c$\n",
        "\n",
        "$\\sqrt{n}\\frac{\\overline{X}-\\lambda_{1}}{\\sqrt{\\overline{X}}}\\sim N(0,1)$\n",
        "\n",
        "$P\\left(\\sqrt{n}\\frac{\\overline{X}-\\lambda_{1}}{\\sqrt{\\overline{X}}} \\right)\\gt \\sqrt{n}\\frac{\\overline{X}-\\lambda_{1}}{\\sqrt{\\overline{X}}}=1-\\Phi\\left(\\sqrt{n}\\frac{\\overline{X}-\\lambda_{1}}{\\sqrt{\\overline{X}}} \\right)=\\alpha_{1}$\n",
        "\n",
        "$\\Phi\\left(\\sqrt{n}\\frac{\\overline{X}-\\lambda_{1}}{\\sqrt{\\overline{X}}} \\right)=1-\\alpha_{1}=0,8$\n",
        "\n",
        "$\\sqrt{n}\\frac{\\overline{X}-\\lambda_{1}}{\\sqrt{\\overline{X}}}\\gt \\sqrt{n}\\frac{c-\\lambda_{1}}{\\sqrt{\\overline{X}}}=0,84 \\implies c=0,84 \\cdot \\frac{\\sqrt{\\overline{X}}}{\\sqrt{n}}+\\lambda_{1}=0,84 \\cdot \\frac{\\sqrt{5}}{\\sqrt{50}}+5=5,266 \\gt \\overline{X} \\implies гипотезу \\quad отвергаем.$\n"
      ],
      "metadata": {
        "id": "aPuxOjR5KPnE"
      }
    },
    {
      "cell_type": "markdown",
      "source": [
        "#### h)В пунктах (c)-(f) заменить семейство распределение Пуассона на семейство геометрических распредленией $\\mathbb{P}_{\\lambda}(X=k)=\\frac{\\lambda^{k}}{(\\lambda+1)^{k+1}}, k\\in \\mathbb{Z_{+}}$"
      ],
      "metadata": {
        "id": "RIpL4fkwbRvM"
      }
    },
    {
      "cell_type": "markdown",
      "source": [
        "#### h.c)В предположении, что исходные наблюдения являются выборкой из геометрического распределения, построить ОМП и ОММ параметра $\\lambda$.Найти смещение оценки.\n",
        "\n",
        "Построим ОМП.\n",
        "Плотность распределения Пуассона: $P_{\\lambda}(X=k)=\\frac{\\lambda^{k}}{(\\lambda+1)^{k+1}}$\n",
        "\n",
        "Построим функцию правдоподобия:\n",
        "\n",
        "$L(\\overrightarrow{X};\\theta)=\\prod_{i=1}^{n}P_{\\lambda}(X_{i})=\\prod_{i=1}^{n}\\frac{\\lambda^{X_{i}}}{(\\lambda+1)^{X_{i}}}=\\frac{\\lambda^{\\sum_{i=1}^{n}X_{i}}}{(\\lambda+1)^{\\sum_{i=1}^{n}X_{i}+n}}$\n",
        "\n",
        "Прологарифмируем функцию правдоподобия:\n",
        "\n",
        "$LL(\\overrightarrow{X};\\theta)= \\sum_{i=1}^{n}X_{i}\\cdot \\ln(\\lambda)-(\\sum_{i=1}^{n}X_{i}+n)\\ln(\\lambda+1)$\n",
        "\n",
        "Найдем частную производную по параметру $\\lambda$ и приравняем производную к нулю и тем самым найдем наш параметр:\n",
        "\n",
        "$\\frac{\\partial LL(\\overrightarrow{X};\\theta)}{\\partial \\lambda} = \\frac{\\sum_{i=1}^{n}X_{i}}{\\lambda}-\\frac{\\sum_{i=1}^{50}X_{i}+n}{\\lambda+1}=0\\implies \\frac{\\lambda}{\\sum_{i=1}^{50}X_{i}}=\\frac{\\lambda+1}{\\sum_{i=1}^{50}X_{i}+n}\\implies \\lambda\\cdot \\sum_{i=1}^{n}X_{i}+\\lambda \\cdot n = \\lambda\\cdot \\sum_{i=1}^{n}X_{i}+\\sum_{i=1}^{n}X_{i}\\implies \\lambda=\\overline{X}\\to \\widehat{\\theta}=\\widehat{\\lambda}=\\overline{X}=5$.\n",
        "\n",
        "Построим по ОММ.\n",
        "Для геометрического распределения  $P_{\\lambda}(X=k)=\\frac{\\lambda^{k}}{(\\lambda +1)^{k+1}}$\n",
        "\n",
        "Нам известно, что первый момент $\\mathbb{E}X_{1}=\\frac{1}{\\lambda};M_{1}=\\frac{1}{\\overline{X}}$\n",
        "равен 1 делить на параметр, и поскольку у нас 1-но мерный параметр, то у нас будет система из одного уравнения.\n",
        "\n",
        "Тогда мы получим $\\widetilde{\\theta}=\\frac{1}{\\widetilde{\\lambda}}=\\frac{1}{\\overline{X}}=0,2$\n",
        "\n",
        "\n",
        "Осталось найти смещение оценки.\n",
        "\n",
        "Для нахождения НРМД-оценки нам понадобится ОМП, которое мы нашли.\n",
        "\n",
        "$g\\left(T(\\overrightarrow{X})\\right)=\\frac{\\lambda^{\\sum_{i=1}^{n}X_{i}}}{(\\lambda+1)^{\\sum_{i=1}^{n}X_{i}+n}}$\n",
        "\n",
        "$h(\\overrightarrow{X})=1$\n",
        "\n",
        "Достаточная минимальная статистика: $T=\\sum_{i=1}^{n}X_{i}=250$.\n",
        "\n",
        "\n",
        "$\\mathbb{E}_{\\lambda}\\widehat{\\lambda}=\\mathbb{E}_{\\lambda}\\overline{X}=\\mathbb{E}_{\\lambda}\\frac{1}{n}\\cdot \\sum_{i=1}^{n}x_{i}=\\frac{1}{n}\\cdot \\mathbb{E_{\\lambda}}\\sum_{i=1}^{n}x_{i}=\\frac{1}{n}\\cdot \\sum_{i=1}^{n}\\mathbb{E_{\\lambda}}X_{1}=\\frac{1}{n}\\cdot n\\cdot \\mathbb{E}_{\\lambda}X_{1}=\\lambda=5$-НРМД-оценка"
      ],
      "metadata": {
        "id": "jYocGnu_b8lS"
      }
    },
    {
      "cell_type": "markdown",
      "source": [
        "#### h.d)Построить АДИ уровня значимости $\\alpha_1$ для параметра $\\lambda$ на базе ОМП\n",
        "1. Построим на базе ОМП.\n",
        "\n",
        "$\\sqrt{n}\\left( \\widehat{\\theta}(\\overrightarrow{X})-\\theta \\right)\\sim N\\left( 0, \\frac{1}{I(\\theta)} \\right)$\n",
        "\n",
        "ОМП $\\widehat{\\theta}=\\widehat{\\lambda}=\\frac{1}{\\overline{X}}$\n",
        "\n",
        "Найдем информацию Фишера: $I(\\theta)=-\\mathbb{E}\\left( \\frac{\\partial^{2} LL}{\\partial \\lambda^{2}} \\right)=-\\mathbb{E}\\left( -\\frac{\\sum_{i=1}^{n}X_{i}}{\\lambda^{2}}+\\frac{\\sum_{i=1}^{n}X_{i}+n}{(\\lambda +1)^{2}} \\right)=\\frac{n}{\\lambda^{2}}-\\mathbb{E}\\left( \\frac{\\sum_{i=1}^{n}X_{i}+n}{(\\lambda+1)^{2}} \\right) = \\frac{n}{\\lambda^{2}}-\\mathbb{E}\\left( \\frac{\\sum_{i=1}^{n}X_{i}}{(\\lambda+1)^{2}} \\right)-\\mathbb{E}\\left( \\frac{n}{(\\lambda+1)^{2}} \\right)=\\frac{n}{\\lambda^{2}}-\\frac{n}{(\\lambda+1)^{2}}-\\frac{n}{(\\lambda+1)^{2}}=\\frac{n(\\lambda^{2}+1)}{(\\lambda+1)^{2}\\cdot \\lambda^{2}}$\n",
        "\n",
        "Тогда $\\sqrt{n\\cdot I\\left(  \\widehat{\\theta}(\\overrightarrow{X})\\right)}\\left( \\widehat{\\theta}(\\overrightarrow{X})-\\theta \\right)\\sim N(0,1)$\n",
        "\n",
        "Выбираем $X_{\\alpha}$: $\\mathrm{Ф}(X_{\\alpha})=1-\\frac{\\alpha_{1}}{2}=1-\\frac{0,2}{2}=0,9 \\implies X_{0,9}=1,28$\n",
        "\n",
        "$\\left[ \\frac{1}{\\overline{X}}-\\frac{X_{0,9}}{\\sqrt{n\\cdot \\frac{n(\\widehat{\\lambda^{2}}+1)}{(\\widehat{\\lambda}+1)^{2}\\cdot \\widehat{\\lambda^{2}}}}};\\frac{1}{\\overline{X}}+\\frac{X_{0,9}}{\\sqrt{n\\cdot \\frac{n(\\widehat{\\lambda^{2}}+1)}{(\\widehat{\\lambda}+1)^{2}\\cdot \\widehat{\\lambda^{2}}}}} \\right] \\implies 0,194 \\leq \\lambda \\leq 0,206$ - АДИ параметра $\\lambda$\n",
        "\n",
        "2. Построим на безе асимтотической нормальной оценки $\\widehat{\\theta}$\n",
        "\n",
        "$\\sqrt{n}\\left( \\widehat{\\theta}(\\overrightarrow{X})-\\theta \\right)\\sim N(0,\\sigma^{2}(\\theta))$\n",
        "\n",
        "$\\sqrt{n}\\frac{ \\widehat{\\theta}(\\overrightarrow{X})-\\theta}{\\sigma(\\widehat{\\theta})}\\sim N(0,1)$\n",
        "\n",
        "$X_{\\alpha}: \\mathrm{Ф(X_{\\alpha})}=0,9\\implies X_{0,9}=1,28$\n",
        "\n",
        "$-X_{0,9}\\le \\sqrt{n}\\cdot \\frac{\\widehat{\\lambda}-\\lambda}{\\sqrt{\\widehat{\\lambda}(\\widehat{\\lambda}+1)}}\\le X_{0,9}$\n",
        "\n",
        "$1-\\frac{1,28 \\cdot 0,49}{\\sqrt{50}} \\leq \\lambda \\leq 1+\\frac{1,28\\cdot 0,49}{\\sqrt{50}} \\implies 0,91 \\leq \\lambda \\leq 1,09$ - АДИ параметра $\\lambda$"
      ],
      "metadata": {
        "id": "thiyFmFFjD2I"
      }
    },
    {
      "cell_type": "markdown",
      "source": [
        "#### h.e)Используя гистограмму частот, построить критерий значимости $\\mathcal{X^{2}}$ проверки простой гипотезы согласия с геометрическим распределением с параметром $\\lambda_{0}$. Проверить гипотезу на урокень значимости $\\alpha_{1}$. Вычислить наибольшее значение уровня значимости, на котором ещё нет оснований отвергнуть данную гипотезу.\n",
        "\n",
        "$P_{i}=P_{H_{0}}=(X\\in I_{i})=\\sum_{k\\in I_{i}}^{}\\frac{\\lambda_{0}^{k}}{(\\lambda_{0}+1)^{k+1}}$\n",
        "\n",
        "$I_{1}=[0,2], n_{1}=3$\n",
        "\n",
        "$P_{1}=\\frac{7^{0}}{(7+1)^{0+1}}+\\frac{7^{2}}{(7+1)^{2+1}}=0,22\\implies nP_{1}=11$\n",
        "\n",
        "$I_{2}=[2,4], n_{2}=18$\n",
        "\n",
        "$P_{2}=\\frac{7^{2}}{(7+1)^{2+1}}+\\frac{7^{4}}{(7+1)^{4+1}}=0,169\\implies nP_{2}=8,45$\n",
        "\n",
        "$I_{3}=[4,6], n_{3}=27$\n",
        "\n",
        "$P_{3}=\\frac{7^{4}}{(7+1)^{4+1}}+\\frac{7^{6}}{(7+1)^{6+1}}=0,129\\implies nP_{3}=6,45$\n",
        "\n",
        "$I_{4}=[6,8], n_{4}=18$\n",
        "\n",
        "$P_{4}=\\frac{7^{6}}{(7+1)^{6+1}}+\\frac{7^{6}}{(7+1)^{8+1}}=0,099\\implies nP_{4}=4,95$\n",
        "\n",
        "$I_{5}=[8,10], n_{5}=5$\n",
        "\n",
        "$P_{5}=\\frac{7^{8}}{(7+1)^{8+1}}+\\frac{7^{10}}{(7+1)^{10+1}}=0,076\\implies nP_{5}=3,8$\n",
        "\n",
        "Критерий $\\mathcal{X}^{2}: \\mathcal{X}^{2}_{набл}=\\sum_{i=1}^{5}\\frac{(n_{i}-np_{i})^{2}}{np_{i}} =116,87$\n",
        "\n",
        "$\\mathcal{X}^{2}_{N-1,1-\\alpha_{1}}=\\mathcal{X}^{2}_{4,0.8}\\sim 5,989$\n",
        "\n",
        "$\\mathcal{X}^{2}\\gt \\mathcal{X}^{2}_{4,0.8}\\to$ по критерию Пирсона мы отвергаем гипотезу\n"
      ],
      "metadata": {
        "id": "dZrG9ltptGMs"
      }
    },
    {
      "cell_type": "markdown",
      "source": [
        "#### h.f)Построить критерий значимости  $\\mathcal{X^{2}}$ проверки сложной гипотезы согласия с геометрическим распределением. Проверить гипотезу по уровню значимости $\\alpha_{1}$.Вычислить наибольшее значение уровня значимости, на котором ещё нет оснований отвергнуть данную гипотезу.\n",
        "\n",
        "$P_{i}=P_{H_{0}}=(X\\in I_{i})=\\sum_{k\\in I_{i}}^{}\\frac{\\overline{X}^{k}}{\\left(\\overline{X} +1\\right)^{k+1}}$\n",
        "\n",
        "$I_{1}=[0,2], n_{1}=3$\n",
        "\n",
        "$P_{1}=\\frac{5^{0}}{(5+1)^{0+1}}+\\frac{5^{2}}{(5+1)^{2+1}}=0,282\\implies nP_{1}=14,1$\n",
        "\n",
        "$I_{2}=[2,4], n_{2}=18$\n",
        "\n",
        "$P_{2}=\\frac{5^{2}}{(5+1)^{2+1}}+\\frac{5^{4}}{(5+1)^{4+1}}=0,196\\implies nP_{2}=9,8$\n",
        "\n",
        "$I_{3}=[4,6], n_{3}=27$\n",
        "\n",
        "$P_{3}=\\frac{5^{4}}{(5+1)^{4+1}}+\\frac{5^{6}}{(5+1)^{6+1}}=0,136\\implies nP_{3}=6,8$\n",
        "\n",
        "$I_{4}=[6,8], n_{4}=18$\n",
        "\n",
        "$P_{4}=\\frac{5^{6}}{(5+1)^{6+1}}+\\frac{5^{6}}{(5+1)^{8+1}}=0,094\\implies nP_{4}=4,7$\n",
        "\n",
        "$I_{5}=[8,10], n_{5}=5$\n",
        "\n",
        "$P_{5}=\\frac{5^{8}}{(5+1)^{8+1}}+\\frac{5^{10}}{(5+1)^{10+1}}=0,066\\implies nP_{5}=3,3$\n",
        "\n",
        "Критерий $\\mathcal{X}^{2}: \\mathcal{X}^{2}_{набл}=\\sum_{i=1}^{4}\\frac{(n_{i}-np_{i})^{2}}{np_{i}} =114,12$\n",
        "\n",
        "$\\mathcal{X}^{2}_{N-1,1-\\alpha_{1}}=\\mathcal{X}^{2}_{4,0.8}\\sim 5,989$\n",
        "\n",
        "$\\mathcal{X}^{2}\\gt \\mathcal{X}^{2}_{4,0.8}\\implies$ по критерию Пирсона мы отвергаем гипотезу\n"
      ],
      "metadata": {
        "id": "hcEIyMkuxAR4"
      }
    },
    {
      "cell_type": "markdown",
      "source": [
        "### Задание-2"
      ],
      "metadata": {
        "id": "OMnpHk2fyi-a"
      }
    },
    {
      "cell_type": "markdown",
      "source": [
        "#### a)Построить вариционный ряд, эмпирическую функцию распределения,гистограмму и полигон частот с шагом h."
      ],
      "metadata": {
        "id": "VbmN05n61mEq"
      }
    },
    {
      "cell_type": "code",
      "source": [
        "data_1 = [2.40, 9.07, 0.15, -9.64, 3.32, 5.83, 11.28, 10.24, -12.95, 6.47, 6.60, 16.82, 8.19, 8.44, -24.24, -0.91, 10.85, -6.91, -7.14, -2.11, 1.19, 14.52, 2.94, -10.32, -19.83, -29.97, -7.20, 5.13, 1.88, -2.26, -0.87, 19.74, 4.56, 7.74, 10.72, -5.08, 8.00, 19.65, 12.95, 2.51, 5.56, -0.19, 6.35, 8.23, 2.30, -3.81, -3.06, 2.60, 7.08, 2.48]\n",
        "sorted_data_1 = np.sort(data_1)\n",
        "sum=np.sum(data_1)\n",
        "variation_range_1 = np.unique(sorted_data_1)\n",
        "print(sorted_data_1)\n",
        "print(sum)\n",
        "\n",
        "plt.subplot(311)\n",
        "plt.plot(range(len(sorted_data_1)), sorted_data_1, marker='o', linestyle='-', color='r')\n",
        "plt.xlabel('Наблюдения')\n",
        "plt.ylabel('Значения')\n",
        "plt.title('Вариационный ряд')\n",
        "plt.show()"
      ],
      "metadata": {
        "colab": {
          "base_uri": "https://localhost:8080/",
          "height": 315
        },
        "id": "9CBjjWHPy0we",
        "outputId": "9bd64a7b-3e1b-4cbe-da20-82fef0bda4e7"
      },
      "execution_count": null,
      "outputs": [
        {
          "output_type": "stream",
          "name": "stdout",
          "text": [
            "[-29.97 -24.24 -19.83 -12.95 -10.32  -9.64  -7.2   -7.14  -6.91  -5.08\n",
            "  -3.81  -3.06  -2.26  -2.11  -0.91  -0.87  -0.19   0.15   1.19   1.88\n",
            "   2.3    2.4    2.48   2.51   2.6    2.94   3.32   4.56   5.13   5.56\n",
            "   5.83   6.35   6.47   6.6    7.08   7.74   8.     8.19   8.23   8.44\n",
            "   9.07  10.24  10.72  10.85  11.28  12.95  14.52  16.82  19.65  19.74]\n",
            "99.3\n"
          ]
        },
        {
          "output_type": "display_data",
          "data": {
            "text/plain": [
              "<Figure size 640x480 with 1 Axes>"
            ],
            "image/png": "[encoded data removed]"
          },
          "metadata": {}
        }
      ]
    },
    {
      "cell_type": "code",
      "source": [
        "empirical_function = np.arange(1, n + 1) / n\n",
        "plt.subplot(312)\n",
        "x = np.concatenate(([sorted_data_1[0]], sorted_data_1))\n",
        "y = np.concatenate(([0], empirical_function))\n",
        "\n",
        "plt.step(x, y, where='post')\n",
        "plt.xlabel('Значение')\n",
        "plt.ylabel('Вероятность')\n",
        "plt.title('Эмпирическая функция')\n",
        "plt.show()"
      ],
      "metadata": {
        "colab": {
          "base_uri": "https://localhost:8080/",
          "height": 211
        },
        "id": "NFbSKTiy1hkZ",
        "outputId": "432be4eb-3f0c-4b72-9fd3-77de2694a004"
      },
      "execution_count": null,
      "outputs": [
        {
          "output_type": "display_data",
          "data": {
            "text/plain": [
              "<Figure size 640x480 with 1 Axes>"
            ],
            "image/png": "[encoded data removed]"
          },
          "metadata": {}
        }
      ]
    },
    {
      "cell_type": "code",
      "source": [
        "h=4\n",
        "bins = np.arange(min(data_1), max(data_1) + h, h)\n",
        "plt.hist(data_1, bins=bins, edgecolor='black', alpha=0.5, label='Гистограмма')\n",
        "plt.title(\"Гистограмма и полигон частот\")\n",
        "plt.xlabel(\"Интервалы\")\n",
        "plt.ylabel(\"Частота\")\n",
        "\n",
        "hist, _ = np.histogram(data_1, bins=bins)\n",
        "bin_centers = 0.5 * (bins[1:] + bins[:-1])\n",
        "plt.plot(bin_centers, hist, color='red', marker='o', linestyle='-', label='Полигон')\n",
        "\n",
        "plt.legend()\n",
        "plt.show()"
      ],
      "metadata": {
        "colab": {
          "base_uri": "https://localhost:8080/",
          "height": 472
        },
        "id": "fuhc7FHO2j05",
        "outputId": "01fd2fbf-c4b5-4384-9478-c5693b8a0702"
      },
      "execution_count": null,
      "outputs": [
        {
          "output_type": "display_data",
          "data": {
            "text/plain": [
              "<Figure size 640x480 with 1 Axes>"
            ],
            "image/png": "[encoded data removed]"
          },
          "metadata": {}
        }
      ]
    },
    {
      "cell_type": "markdown",
      "source": [
        "#### b) Вычислить выборочные аналоги следующих числовых характеристик: (i)математическое ожидание, (ii)дисперсия, (iii)медианы, (iv)асимметрии, (v)эксцесса (vi) вероятности $\\mathrm{P}(X\\in \\left[c,d\\right])$"
      ],
      "metadata": {
        "id": "RyBb32GD22wp"
      }
    },
    {
      "cell_type": "code",
      "source": [
        "c = -6\n",
        "d = 6\n",
        "mean = np.mean(data_1)\n",
        "variance = np.var(data_1)\n",
        "deviation=np.std(data_1)\n",
        "median = np.median(data_1)\n",
        "skewness = stats.skew(data_1)\n",
        "kurtosis = stats.kurtosis(data_1)\n",
        "probability = len([x for x in data_1 if c <= x <= d]) / len(data_1)\n",
        "print(\"Мат.ожидание=\",mean)\n",
        "print(\"Дисперсия=\",variance)\n",
        "print(\"СКО=\",deviation)\n",
        "print(\"Медиана=\",median)\n",
        "print(\"Асимметрия=\",skewness)\n",
        "print(\"Эксцесс=\",kurtosis)\n",
        "print(\"Вероятность попадания в промежуток=\",probability)"
      ],
      "metadata": {
        "colab": {
          "base_uri": "https://localhost:8080/"
        },
        "id": "ubdrSTdT26la",
        "outputId": "73399582-3f58-4aa7-d68b-3184885e836e"
      },
      "execution_count": null,
      "outputs": [
        {
          "output_type": "stream",
          "name": "stdout",
          "text": [
            "Мат.ожидание= 1.986\n",
            "Дисперсия= 98.34672799999997\n",
            "СКО= 9.91699188262247\n",
            "Медиана= 2.77\n",
            "Асимметрия= -0.9942962179679067\n",
            "Эксцесс= 1.5061300061826532\n",
            "Вероятность попадания в промежуток= 0.44\n"
          ]
        }
      ]
    },
    {
      "cell_type": "markdown",
      "source": [
        "#### c)В предположении, что исходные наблюдения являются выборкой из нормального распределения, построить ОМП и ОММ параметра $(a,\\sigma^{2})$.Найти смещение оценкок.\n",
        "\n",
        "Построим ОМП.\n",
        "Плотность показательного распределения: $P(x)=\\frac{1}{\\sqrt{2\\pi}\\sigma}\\cdot exp\\left(-\\frac{(x-a)^{2}}{2\\sigma^{2}}\\right)$.\n",
        "\n",
        "Построим функцию правдоподобия:\n",
        "\n",
        "$L(\\overrightarrow{X},\\theta)=\\prod_{i=1}^{n}\\frac{1}{\\sqrt{2\\pi}\\sigma}\\cdot exp\\left(-\\frac{(x-a)^{2}}{2\\sigma^{2}}\\right)=(2\\pi)^{-\\frac{n}{2}} \\cdot \\sigma^{-n} \\cdot exp\\left(-\\frac{1}{2\\sigma^{2}}\\sum_{i=1}^{n}(x_{i}-a)^{2}\\right)$\n",
        "\n",
        "Прологарифмируем функцию правдоподобия:\n",
        "\n",
        "$LL(\\overrightarrow{X},\\theta)=-\\frac{n}{2}\\ln(2\\pi)-n\\ln\\sigma-\\frac{1}{2\\sigma^{2}}\\sum_{i=1}^{n}(x_{i}-a)^{2}$\n",
        "\n",
        "Найдем частные производные по параметрам $a$ и $\\sigma$, и приравняем производные к нулю и тем самым найдем наши параметры:\n",
        "\n",
        "$\\frac{\\partial LL}{\\partial a}=-\\frac{1}{2\\sigma^{2}}\\sum_{i=1}^{n}(-2)(x_{i}-a)=\\frac{1}{\\sigma^{2}}\\left(\\sum_{i=1}^{n}x_{i}-an\\right)=0 \\implies \\sum_{i=1}^{n}x_{i}-an=0 \\implies \\widehat{a}=\\overline{x}$\n",
        "\n",
        "$\\frac{\\partial LL}{\\partial \\sigma}=-\\frac{n}{\\sigma}+\\frac{1}{\\sigma^{3}}\\sum_{i=1}^{n}(x_{i}-a)^{2}=0 \\implies \\sigma^{2}=\\frac{1}{n}\\sum_{i=1}^{n}\\left(x_{i}-a\\right)^{2} \\implies \\widehat{\\sigma^{2}}=\\frac{1}{n}\\sum_{i=1}^{n}(X_{i}-\\overline{X})^{2}=S^{2}$\n",
        "\n",
        "Выборка нам известна, и мы можем посчитать, чему равны параметры $a$ и $\\sigma$:\n",
        "$\\widehat{a}=1,986; \\widehat{\\sigma^{2}}=98,35$\n",
        "\n",
        "$\\widehat{\\theta}=(\\widehat{a},\\widehat{\\sigma^{2}})=(\\overline{X},S^{2})$\n",
        "\n",
        "Построим по ОММ.\n",
        "\n",
        "$\\mathbb{E}X_{1}=a; M_{1}=\\overline{X}$\n",
        "\n",
        "$\\mathbb{E}X_{1}^{2}=a^{2}+\\sigma^{2}; M_{2}=\\frac{1}{n}\\sum_{i=1}^{n}X_{i}^{2}={\\overline{X^{2}}}$\n",
        "\n",
        "$\\begin{equation*}\n",
        " \\begin{cases}\n",
        "   a = \\overline{X}\\\\\n",
        "   a^{2}+\\sigma^{2}=\\overline{X^{2}}\n",
        " \\end{cases}\n",
        "\\end{equation*}$\n",
        "\n",
        "$\\begin{equation*}\n",
        " \\begin{cases}\n",
        "   \\widetilde{a} = \\overline{X}\\\\\n",
        "   \\widetilde{\\sigma^{2}}=\\overline{X^{2}}-(\\overline{X})^{2}=S^{2}\n",
        " \\end{cases}\n",
        "\\end{equation*}$\n",
        "\n",
        "$\\widetilde{\\theta}=(\\widetilde{a},\\widetilde{\\sigma^{2}})=(\\overline{X},S^{2})$\n",
        "\n",
        "Для нахождения НРМД-оценки нам понадобится ОМП, которое мы нашли.\n",
        "\n",
        "$g\\left(T(\\overrightarrow{X})\\right)=\\sigma^{-n}\\left(-\\frac{1}{2\\sigma^{2}}\\sum_{i=1}^{n}X_{i}^{2}+\\frac{a}{\\sigma^{2}}\\sum_{i=1}^{n}X_{i}-\\frac{na^{2}}{2\\sigma^{2}}\\right)$\n",
        "\n",
        "$h(\\overrightarrow{X})=(2\\pi)^{-\\frac{n}{2}}$\n",
        "\n",
        "Минимальная достаточная статистика: $T=(T_{1},T_{2})=\\left(\\sum_{i=1}^{n}X_{i}^{2},\\sum_{i=1}^{n}X_{i}\\right)$.\n",
        "\n",
        "$\\left(\\sum_{i=1}^{n}X_{i}^{2},\\sum_{i=1}^{n}X_{i}\\right) \\leftrightarrow (S^{2},\\overline{X})$\n",
        "\n",
        "Т.к. $P_{\\theta}$ является плотностью из exp-семейства $\\implies$ МДС является ПДС\n",
        "\n",
        "$\\mathbb{E}_{\\theta}\\overline{X}=\\mathbb{E}_{\\theta}\\left(\\frac{1}{n}\\sum_{i=1}^{n}X_{i}\\right)=\\frac{1}{n}\\sum_{i=1}^{n}\\mathbb{E}_{\\theta}X_{i}=\\frac{1}{n}\\sum_{i=1}^{n}\\mathbb{E}_{\\theta}X_{1}=\\mathbb{E}_{\\theta}X_{1}\\frac{1}{n} \\cdot n=\\mathbb{E}_{\\theta}X_{1}=a \\implies \\overline{X} - несмещенная\\quad оценка \\implies \\widehat{a}=\\overline{X} - НРМД-оценка$  \n",
        "\n",
        "$\\mathbb{E}_{\\theta}S^{2}=\\mathbb{E}_{\\theta}\\left(\\frac{1}{n}\\sum_{i=1}^{n}(X_{i}-\\overline{X})^{2}\\right)=\\left[Y_{i}=X_{i}-\\mathbb{E}_{\\theta}X_{i};\\begin{matrix} \\mathbb{E}_{\\theta}Y_{i}=0 \\\\ \\mathbb{D}_{\\theta}Y_{i}=\\sigma^{2} \\end{matrix}\\right]=\\mathbb{E}_{\\theta}\\left(\\frac{1}{n}\\sum_{i=1}^{n}(Y_{i}-\\overline{Y})^{2}\\right)=\\mathbb{E}_{\\theta}\\left(\\overline{Y^{2}}-(\\overline{Y})^{2}\\right)=\\mathbb{E}_{\\theta}\\overline{Y^{2}}-\\mathbb{E}_{\\theta}(\\overline{Y})^{2}$\n",
        "\n",
        "$\\mathbb{E}_{\\theta}\\overline{Y^{2}}=\\mathbb{E}_{\\theta}\\left(\\frac{1}{n}\\sum_{i=1}^{n}Y_{i}^{2}\\right)=\\frac{1}{n}\\sum_{i=1}^{n}\\mathbb{E}_{\\theta}Y_{i}^{2}=\\frac{1}{n}\\sum_{i=1}^{n}\\sigma^{2}=\\sigma^{2}$\n",
        "\n",
        "$\\mathbb{E}_{\\theta}(\\overline{Y})^{2}=\\mathbb{E}_{\\theta}\\left(\\frac{1}{n}\\sum_{i=1}^{n}Y_{i}\\right)^{2}=\\frac{1}{n^{2}}\\mathbb{E}_{\\theta}\\left(\\sum_{i=1}^{n}\\sum_{j=1}^{n}Y_{i}Y_{j}\\right)=\\frac{1}{n^{2}}\\sum_{i=1}^{n}\\sum_{j=1}^{n}\\mathbb{E}_{\\theta}Y_{i}Y_{j} \\implies$\n",
        "\n",
        "$\\mathbb{E}_{\\theta}Y_{i}Y_{j}=\\begin{equation*} \\begin{cases} i=j; \\mathbb{E}_{\\theta}Y_{i}^{2}=\\sigma^{2} \\\\ i\\neq j; \\mathbb{E}_{\\theta}Y_{i}\\mathbb{E}_{\\theta}Y_{j}=0 \\end{cases} \\end{equation*}$\n",
        "\n",
        "$\\implies \\frac{1}{n^{2}}(n\\sigma^{2})=\\frac{\\sigma^{2}}{n}=\\mathbb{E}_{\\theta}(\\overline{Y})^{2}$\n",
        "\n",
        "$\\mathbb{E}_{\\theta}S^{2}=\\sigma^{2}-\\frac{\\sigma^{2}}{n}=\\frac{(n-1)}{n}\\sigma^{2} - смещение$\n",
        "\n",
        "$(S^\\prime)^{2}=\\frac{n}{n-1}S^{2}; \\mathbb{E}_{\\theta}(S^\\prime)^{2}=\\mathbb{E}_{\\theta}\\left(\\frac{n}{n-1}S^{2}\\right)=\\frac{n}{n-1} \\cdot \\frac{n-1}{n}\\sigma^{2}=\\sigma^{2}$\n",
        "\n",
        "$(S^\\prime)^{2}=\\frac{1}{n-1}\\sum_{i=1}^{n}(X_{i}-\\overline{X})^{2} - НРМД-оценка$"
      ],
      "metadata": {
        "id": "Hs9QJNAT7Hwg"
      }
    },
    {
      "cell_type": "markdown",
      "source": [
        "#### d)Построить доверительные интервалы уровня значимости $\\alpha_2$ для параметров $(a,\\sigma^{2})$.\n",
        "1. Для параметра $a$:\n",
        "\n",
        "$G(\\overrightarrow{X},a)=\\sqrt{n-1}\\frac{\\overline{X}-a}{S} \\sim S_{n-1}$\n",
        "\n",
        "$\\mathbb{P}_{\\theta}\\left(\\sqrt{n-1}\\frac{\\overline{X}-a}{S} \\in [x_{1\\alpha},x_{2\\alpha}]\\right)=1-\\alpha=S_{n-1}(x_{2\\alpha})-S_{n-1}(x_{1\\alpha})=S_{n-1}(x_{\\alpha})-(1-S_{n-1}(x_{\\alpha}))=2S_{n-1}(x_{\\alpha})-1=1-\\alpha$\n",
        "\n",
        "$x_{\\alpha}: S_{n-1}(x_{\\alpha})=1-\\frac{\\alpha}{2}$\n",
        "\n",
        "$\\mathbb{P}_{\\theta}\\left(-x_{\\alpha} \\leq \\sqrt{n-1}\\frac{\\overline{X}-a}{S} \\leq x_{\\alpha}\\right)=1-\\alpha$\n",
        "\n",
        "$\\mathbb{P}_{\\theta}\\left(\\overline{X}-\\frac{x_{\\alpha}S}{\\sqrt{n-1}} \\leq a \\leq \\overline{X}+\\frac{x_{\\alpha}S}{\\sqrt{n-1}}\\right)$\n",
        "\n",
        "$\\left[\\overline{X}-\\frac{x_{\\alpha}S}{\\sqrt{n-1}}; \\overline{X}+\\frac{x_{\\alpha}S}{\\sqrt{n-1}}\\right] \\ni a$\n",
        "\n",
        "Подставим значения:\n",
        "\n",
        "$\\left[1,986-\\frac{1,68\\cdot\\sqrt{98,35}}{\\sqrt{49}}; 1,986+\\frac{1,68\\cdot\\sqrt{98,35}}{\\sqrt{49}}\\right] \\implies [-0,394;4,366] \\ni a$\n",
        "\n",
        "2. Теперь для параметра $\\sigma^{2}$:\n",
        "\n",
        "$G(\\overrightarrow{X},\\sigma^{2})=\\frac{nS^{2}}{\\sigma^{2}} \\sim \\chi_{n-1}^{2}$\n",
        "\n",
        "$\\mathbb{P}_{\\theta}\\left(\\frac{nS^{2}}{\\sigma^{2}} \\in [x_{1\\alpha},x_{2\\alpha}]\\right)=1-\\alpha=K_{n-1}(x_{2\\alpha})-K_{n-1}(x_{1\\alpha})=1-\\frac{\\alpha}{2}-\\frac{\\alpha}{2}=1-\\alpha$\n",
        "\n",
        "$\\begin{equation*} \\begin{cases}\n",
        "x_{1\\alpha}: K_{n-1}(x_{1\\alpha})=\\frac{\\alpha}{2} \\\\\n",
        "x_{2\\alpha}: K_{n-1}(x_{2\\alpha})=1-\\frac{\\alpha}{2}\n",
        "\\end{cases} \\end{equation*}$\n",
        "\n",
        "$\\mathbb{P}_{\\theta}\\left(x_{1\\alpha} \\leq \\frac{nS^{2}}{\\sigma^{2}} \\leq x_{2\\alpha}\\right)=1-\\alpha$\n",
        "\n",
        "$\\mathbb{P}_{\\theta}\\left(\\frac{nS^{2}}{x_{2\\alpha}} \\leq \\sigma^{2} \\leq \\frac{nS^{2}}{x_{1\\alpha}}\\right)$\n",
        "\n",
        "$\\left[\\frac{nS^{2}}{x_{2\\alpha}}; \\frac{nS^{2}}{x_{1\\alpha}}\\right] \\ni \\sigma^{2}$\n",
        "\n",
        "Подставим значения\n",
        "\n",
        "$\\left[\\frac{50\\cdot98,35}{78,23};\\frac{50\\cdot98,35}{28,94}\\right] \\implies [62,88;169,97] \\ni \\sigma^{2}$\n"
      ],
      "metadata": {
        "id": "bBzTdeiMXIZN"
      }
    },
    {
      "cell_type": "markdown",
      "source": [
        "#### e)С использованием теоремы Колмогорова построить критерий значимости проверки простой гипотезы согласия с нормальным распределением с параметрами $(a_{0},\\sigma_{0}^{2})$. Проверить гипотезу на уровне значимости $\\alpha_{2}$. Вычислить наибольшее значение уровня значимости, на котором еще нет оснований отвергнуть данную гипотезу.\n",
        "\n"
      ],
      "metadata": {
        "id": "8Dyc_1xzewiv"
      }
    },
    {
      "cell_type": "code",
      "source": [
        "import numpy as np\n",
        "from scipy.stats import norm\n",
        "\n",
        "def kolmogorov_test(data, a0, sigma0, alpha):\n",
        "n = len(data_1)\n",
        "a0 = -31\n",
        "sigma0 = 100\n",
        "alpha2 = 0.01\n",
        "D_plus = np.max([(i+1)/n - norm.cdf((sorted_data_1[i] - a0) / np.sqrt(sigma0)) for i in range(n)])\n",
        "D_minus = np.max([norm.cdf((sorted_data_1[i] - a0) /  np.sqrt(sigma0)) - i/n for i in range(n)])\n",
        "D = max(D_plus, D_minus)\n",
        "\n",
        "critical_value = np.sqrt(-0.5 * np.log(alpha2 / 2) / n)\n",
        "\n",
        "if D <= critical_value:\n",
        "return True  # Гипотезу нельзя отвергнуть\n",
        "else:\n",
        "return False  # Гипотезу следует отвергнуть\n",
        "\n",
        "\n",
        "# Вычисление наибольшего значения уровня значимости\n",
        "max_alpha = alpha2\n",
        "while True:\n",
        "    rejected = kolmogorov_test(data, a0, sigma0, max_alpha)\n",
        "    if rejected:\n",
        "        break\n",
        "    max_alpha -= 0.001\n",
        "\n",
        "print(\"Наибольшее значение уровня значимости, на котором гипотеза не отвергается:\", max_alpha)\n",
        "\n"
      ],
      "metadata": {
        "colab": {
          "base_uri": "https://localhost:8080/",
          "height": 140
        },
        "id": "eJwZknrnh8N6",
        "outputId": "29d27108-b3fa-4fd0-aaea-a29a5aa1219e"
      },
      "execution_count": null,
      "outputs": [
        {
          "output_type": "error",
          "ename": "IndentationError",
          "evalue": "ignored",
          "traceback": [
            "\u001b[0;36m  File \u001b[0;32m\"<ipython-input-29-db8b34c8af8f>\"\u001b[0;36m, line \u001b[0;32m5\u001b[0m\n\u001b[0;31m    n = len(data_1)\u001b[0m\n\u001b[0m    ^\u001b[0m\n\u001b[0;31mIndentationError\u001b[0m\u001b[0;31m:\u001b[0m expected an indented block after function definition on line 4\n"
          ]
        }
      ]
    },
    {
      "cell_type": "markdown",
      "source": [
        "#### f)Используя гистограмму частот, построить критерий значимости $\\mathcal{X^{2}}$ проверки простой гипотезы согласия с нормальным распределением с параметрами $(a_{0},\\sigma_{0}^{2})$. Проверить гипотезу на уровне значимости $\\alpha_{2}$. Вычислить наибольшее значение уровня значимости, на котором ещё нет оснований отвергнуть данную гипотезу.\n",
        "\n",
        "$P_{i}=P_{H_{0}}=(X\\in I_{i})=\\sum_{k\\in I_{i}}\\frac{1}{\\sqrt{2\\pi}\\sigma}\\cdot exp\\left(-\\frac{(x-a)^{2}}{2\\sigma^{2}}\\right)$\n",
        "\n",
        "$I_{1}=[-30,-26], n_{1}=1$\n",
        "\n",
        "$P_{1}=\\frac{1}{\\sqrt{2\\pi}\\cdot10}\\cdot exp\\left(-\\frac{(-30+31)^{2}}{2\\cdot10^{2}}\\right)+\\frac{1}{\\sqrt{2\\pi}\\cdot10}\\cdot exp\\left(-\\frac{(-26+31)^{2}}{2\\cdot10^{2}}\\right)=-0,014 \\implies nP_{1}=-0,7$\n",
        "\n",
        "$I_{2}=[-26,-22], n_{2}=1$\n",
        "\n",
        "$P_{2}=\\frac{1}{\\sqrt{2\\pi}\\cdot10}\\cdot exp\\left(-\\frac{(-26+31)^{2}}{2\\cdot10^{2}}\\right)+\\frac{1}{\\sqrt{2\\pi}\\cdot10}\\cdot exp\\left(-\\frac{(-22+31)^{2}}{2\\cdot10^{2}}\\right)=-0,057\\implies nP_{2}=-2,85$\n",
        "\n",
        "$I_{3}=[-22,-18], n_{3}=1$\n",
        "\n",
        "$P_{3}=\\frac{1}{\\sqrt{2\\pi}\\cdot10}\\cdot exp\\left(-\\frac{(-22+31)^{2}}{2\\cdot10^{2}}\\right)+\\frac{1}{\\sqrt{2\\pi}\\cdot10}\\cdot exp\\left(-\\frac{(-18+31)^{2}}{2\\cdot10^{2}}\\right)=-0,135\\implies nP_{3}=-6,75$\n",
        "\n",
        "$I_{4}=[-18,-14], n_{4}=0$\n",
        "\n",
        "$P_{4}=\\frac{1}{\\sqrt{2\\pi}\\cdot10}\\cdot exp\\left(-\\frac{(-18+31)^{2}}{2\\cdot10^{2}}\\right)+\\frac{1}{\\sqrt{2\\pi}\\cdot10}\\cdot exp\\left(-\\frac{(-14+31)^{2}}{2\\cdot10^{2}}\\right)=-0,248\\implies nP_{4}=-12,4$\n",
        "\n",
        "$I_{5}=[-14,-10], n_{5}=2$\n",
        "\n",
        "$P_{5}=\\frac{1}{\\sqrt{2\\pi}\\cdot10}\\cdot exp\\left(-\\frac{(-14+31)^{2}}{2\\cdot10^{2}}\\right)+\\frac{1}{\\sqrt{2\\pi}\\cdot10}\\cdot exp\\left(-\\frac{(-10+31)^{2}}{2\\cdot10^{2}}\\right)=-0,396\\implies nP_{5}=-19,8$\n",
        "\n",
        "$I_{6}=[-10,-6], n_{6}=4$\n",
        "\n",
        "$P_{6}=\\frac{1}{\\sqrt{2\\pi}\\cdot10}\\cdot exp\\left(-\\frac{(-10+31)^{2}}{2\\cdot10^{2}}\\right)+\\frac{1}{\\sqrt{2\\pi}\\cdot10}\\cdot exp\\left(-\\frac{(-6+31)^{2}}{2\\cdot10^{2}}\\right)=-0,578\\implies nP_{6}=-28,9$\n",
        "\n",
        "$I_{7}=[-6,-2], n_{7}=5$\n",
        "\n",
        "$P_{7}=\\frac{1}{\\sqrt{2\\pi}\\cdot10}\\cdot exp\\left(-\\frac{(-6+31)^{2}}{2\\cdot10^{2}}\\right)+\\frac{1}{\\sqrt{2\\pi}\\cdot10}\\cdot exp\\left(-\\frac{(-2+31)^{2}}{2\\cdot10^{2}}\\right)=-0,794\\implies nP_{7}=-39,7$\n",
        "\n",
        "$I_{8}=[-2,2], n_{8}=6$\n",
        "\n",
        "$P_{8}=\\frac{1}{\\sqrt{2\\pi}\\cdot10}\\cdot exp\\left(-\\frac{(-2+31)^{2}}{2\\cdot10^{2}}\\right)+\\frac{1}{\\sqrt{2\\pi}\\cdot10}\\cdot exp\\left(-\\frac{(2+31)^{2}}{2\\cdot10^{2}}\\right)=-1,046\\implies nP_{8}=-52,3$\n",
        "\n",
        "$I_{9}=[2,6], n_{9}=11$\n",
        "\n",
        "$P_{9}=\\frac{1}{\\sqrt{2\\pi}\\cdot10}\\cdot exp\\left(-\\frac{(2+31)^{2}}{2\\cdot10^{2}}\\right)+\\frac{1}{\\sqrt{2\\pi}\\cdot10}\\cdot exp\\left(-\\frac{(6+31)^{2}}{2\\cdot10^{2}}\\right)=-1,333\\implies nP_{9}=-66,65$\n",
        "\n",
        "$I_{10}=[6,10], n_{10}=10$\n",
        "\n",
        "$P_{10}=\\frac{1}{\\sqrt{2\\pi}\\cdot10}\\cdot exp\\left(-\\frac{(6+31)^{2}}{2\\cdot10^{2}}\\right)+\\frac{1}{\\sqrt{2\\pi}\\cdot10}\\cdot exp\\left(-\\frac{(10+31)^{2}}{2\\cdot10^{2}}\\right)=-1,654\\implies nP_{10}=-82,7$\n",
        "\n",
        "$I_{11}=[10,14], n_{11}=5$\n",
        "\n",
        "$P_{11}=\\frac{1}{\\sqrt{2\\pi}\\cdot10}\\cdot exp\\left(-\\frac{(10+31)^{2}}{2\\cdot10^{2}}\\right)+\\frac{1}{\\sqrt{2\\pi}\\cdot10}\\cdot exp\\left(-\\frac{(14+31)^{2}}{2\\cdot10^{2}}\\right)=-2,009\\implies nP_{11}=-100,45$\n",
        "\n",
        "$I_{12}=[14,18], n_{12}=2$\n",
        "\n",
        "$P_{12}=\\frac{1}{\\sqrt{2\\pi}\\cdot10}\\cdot exp\\left(-\\frac{(14+31)^{2}}{2\\cdot10^{2}}\\right)+\\frac{1}{\\sqrt{2\\pi}\\cdot10}\\cdot exp\\left(-\\frac{(18+31)^{2}}{2\\cdot10^{2}}\\right)=-2,4\\implies nP_{12}=-120$\n",
        "\n",
        "$I_{13}=[18,22], n_{13}=2$\n",
        "\n",
        "$P_{13}=\\frac{1}{\\sqrt{2\\pi}\\cdot10}\\cdot exp\\left(-\\frac{(18+31)^{2}}{2\\cdot10^{2}}\\right)+\\frac{1}{\\sqrt{2\\pi}\\cdot10}\\cdot exp\\left(-\\frac{(22+31)^{2}}{2\\cdot10^{2}}\\right)=-2,825\\implies nP_{13}=-141,25$\n",
        "\n",
        "Критерий $\\mathcal{X}^{2}: \\mathcal{X}^{2}_{набл}=\\sum_{i=1}^{13}\\frac{(n_{i}-np_{i})^{2}}{np_{i}} =-781,79$\n",
        "\n",
        "$\\mathcal{X}^{2}_{N-1,1-\\alpha_{2}}=\\mathcal{X}^{2}_{12,0.99}\\sim 32,909$\n",
        "\n",
        "$\\mathcal{X}^{2}\\lt \\mathcal{X}^{2}_{2,0.99}\\implies$ по критерию Пирсона мы принимаем гипотезу\n"
      ],
      "metadata": {
        "id": "R2tggMyZju0o"
      }
    },
    {
      "cell_type": "markdown",
      "source": [
        "#### g)Построить критерий значимости  $\\mathcal{X^{2}}$ проверки сложной гипотезы согласия с нормальным распределением. Проверить гипотезу по уровню значимости $\\alpha_{2}$. Вычислить наибольшее значение уровня значимости, на котором ещё нет оснований отвергнуть данную гипотезу.\n",
        "\n",
        "$P_{i}=P_{H_{0}}=(X\\in I_{i})=\\sum_{k\\in I_{i}}\\frac{1}{\\sqrt{2\\pi\\cdot S^{2}}}\\cdot exp\\left(-\\frac{(x-\\overline{X})^{2}}{2S^{2}}\\right)$\n",
        "\n",
        "$I_{1}=[-30,-26], n_{1}=1$\n",
        "\n",
        "$P_{1}=\\frac{1}{\\sqrt{2\\pi\\cdot 98,35}}\\cdot exp\\left(-\\frac{(-30-1,986)^{2}}{2\\cdot 98,35}\\right)+\\frac{1}{\\sqrt{2\\pi\\cdot 98,35}}\\cdot exp\\left(-\\frac{(-26-1,986)^{2}}{2\\cdot 98,35}\\right)=-1,004 \\implies nP_{1}=-50,2$\n",
        "\n",
        "$I_{2}=[-26,-22], n_{2}=1$\n",
        "\n",
        "$P_{2}=\\frac{1}{\\sqrt{2\\pi\\cdot 98,35}}\\cdot exp\\left(-\\frac{(-26-1,986)^{2}}{2\\cdot 98,35}\\right)+\\frac{1}{\\sqrt{2\\pi\\cdot 98,35}}\\cdot exp\\left(-\\frac{(-22-1,986)^{2}}{2\\cdot 98,35}\\right)=-0,755\\implies nP_{2}=-37,75$\n",
        "\n",
        "$I_{3}=[-22,-18], n_{3}=1$\n",
        "\n",
        "$P_{3}=\\frac{1}{\\sqrt{2\\pi\\cdot 98,35}}\\cdot exp\\left(-\\frac{(-22-1,986)^{2}}{2\\cdot 98,35}\\right)+\\frac{1}{\\sqrt{2\\pi\\cdot 98,35}}\\cdot exp\\left(-\\frac{(-18-1,986)^{2}}{2\\cdot 98,35}\\right)=-0,542\\implies nP_{3}=-27,1$\n",
        "\n",
        "$I_{4}=[-18,-14], n_{4}=0$\n",
        "\n",
        "$P_{4}=\\frac{1}{\\sqrt{2\\pi\\cdot 98,35}}\\cdot exp\\left(-\\frac{(-18-1,986)^{2}}{2\\cdot 98,35}\\right)+\\frac{1}{\\sqrt{2\\pi\\cdot 98,35}}\\cdot exp\\left(-\\frac{(-14-1,986)^{2}}{2\\cdot 98,35}\\right)=-0,364\\implies nP_{4}=-18,2$\n",
        "\n",
        "$I_{5}=[-14,-10], n_{5}=2$\n",
        "\n",
        "$P_{5}=\\frac{1}{\\sqrt{2\\pi\\cdot 98,35}}\\cdot exp\\left(-\\frac{(-14-1,986)^{2}}{2\\cdot 98,35}\\right)+\\frac{1}{\\sqrt{2\\pi\\cdot 98,35}}\\cdot exp\\left(-\\frac{(-10-1,986)^{2}}{2\\cdot 98,35}\\right)=-0,222\\implies nP_{5}=-11,1$\n",
        "\n",
        "$I_{6}=[-10,-6], n_{6}=4$\n",
        "\n",
        "$P_{6}=\\frac{1}{\\sqrt{2\\pi\\cdot 98,35}}\\cdot exp\\left(-\\frac{(-10-1,986)^{2}}{2\\cdot 98,35}\\right)+\\frac{1}{\\sqrt{2\\pi\\cdot 98,35}}\\cdot exp\\left(-\\frac{(-6-1,986)^{2}}{2\\cdot 98,35}\\right)=-0,115\\implies nP_{6}=-5,75$\n",
        "\n",
        "$I_{7}=[-6,-2], n_{7}=5$\n",
        "\n",
        "$P_{7}=\\frac{1}{\\sqrt{2\\pi\\cdot 98,35}}\\cdot exp\\left(-\\frac{(-6-1,986)^{2}}{2\\cdot 98,35}\\right)+\\frac{1}{\\sqrt{2\\pi\\cdot 98,35}}\\cdot exp\\left(-\\frac{(-2-1,986)^{2}}{2\\cdot 98,35}\\right)=-0,044\\implies nP_{7}=-2,2$\n",
        "\n",
        "$I_{8}=[-2,2], n_{8}=6$\n",
        "\n",
        "$P_{8}=\\frac{1}{\\sqrt{2\\pi\\cdot 98,35}}\\cdot exp\\left(-\\frac{(-2-1,986)^{2}}{2\\cdot 98,35}\\right)+\\frac{1}{\\sqrt{2\\pi\\cdot 98,35}}\\cdot exp\\left(-\\frac{(2-1,986)^{2}}{2\\cdot 98,35}\\right)=-0,009\\implies nP_{8}=-0,45$\n",
        "\n",
        "$I_{9}=[2,6], n_{9}=11$\n",
        "\n",
        "$P_{9}=\\frac{1}{\\sqrt{2\\pi\\cdot 98,35}}\\cdot exp\\left(-\\frac{(2-1,986)^{2}}{2\\cdot 98,35}\\right)+\\frac{1}{\\sqrt{2\\pi\\cdot 98,35}}\\cdot exp\\left(-\\frac{(6-1,986)^{2}}{2\\cdot 98,35}\\right)=-0,009\\implies nP_{9}=-0,45$\n",
        "\n",
        "$I_{10}=[6,10], n_{10}=10$\n",
        "\n",
        "$P_{10}=\\frac{1}{\\sqrt{2\\pi\\cdot 98,35}}\\cdot exp\\left(-\\frac{(6-1,986)^{2}}{2\\cdot 98,35}\\right)+\\frac{1}{\\sqrt{2\\pi\\cdot 98,35}}\\cdot exp\\left(-\\frac{(10-1,986)^{2}}{2\\cdot 98,35}\\right)=-0,044\\implies nP_{10}=-2,2$\n",
        "\n",
        "$I_{11}=[10,14], n_{11}=5$\n",
        "\n",
        "$P_{11}=\\frac{1}{\\sqrt{2\\pi\\cdot 98,35}}\\cdot exp\\left(-\\frac{(10-1,986)^{2}}{2\\cdot 98,35}\\right)+\\frac{1}{\\sqrt{2\\pi\\cdot 98,35}}\\cdot exp\\left(-\\frac{(14-1,986)^{2}}{2\\cdot 98,35}\\right)=-0,116\\implies nP_{11}=-5,8$\n",
        "\n",
        "$I_{12}=[14,18), n_{12}=2$\n",
        "\n",
        "$P_{12}=\\frac{1}{\\sqrt{2\\pi\\cdot 98,35}}\\cdot exp\\left(-\\frac{(14-1,986)^{2}}{2\\cdot 98,35}\\right)+\\frac{1}{\\sqrt{2\\pi\\cdot 98,35}}\\cdot exp\\left(-\\frac{(18-1,986)^{2}}{2\\cdot 98,35}\\right)=-0,223\\implies nP_{12}=-11,15$\n",
        "\n",
        "$I_{13}=[18,22], n_{13}=2$\n",
        "\n",
        "$P_{13}=\\frac{1}{\\sqrt{2\\pi\\cdot 98,35}}\\cdot exp\\left(-\\frac{(18-1,986)^{2}}{2\\cdot 98,35}\\right)+\\frac{1}{\\sqrt{2\\pi\\cdot 98,35}}\\cdot exp\\left(-\\frac{(22-1,986)^{2}}{2\\cdot 98,35}\\right)=-0,365\\implies nP_{13}=-18,25$\n",
        "\n",
        "Критерий $\\mathcal{X}^{2}: \\mathcal{X}^{2}_{набл}=\\sum_{i=1}^{13}\\frac{(n_{i}-np_{i})^{2}}{np_{i}} =-704,42$\n",
        "\n",
        "$\\mathcal{X}^{2}_{N-1,1-\\alpha_{2}}=\\mathcal{X}^{2}_{12,0.99}\\sim 32,909$\n",
        "\n",
        "$\\mathcal{X}^{2}\\lt \\mathcal{X}^{2}_{12,0.99}\\implies$ по критерию Пирсона мы принимаем гипотезу"
      ],
      "metadata": {
        "id": "VCXT-_ZEqy1r"
      }
    },
    {
      "cell_type": "markdown",
      "source": [
        "#### h)Построить наиболее мощный критерий проверки простой гипотезы о нормальности с параметром $(a,\\sigma^{2})=(a_{0},\\sigma_{0}^{2})$ при альтернативе нормальности с параметром $(a,\\sigma^{2})=(a_{1},\\sigma_{1}^{2})$. Проверить гипотезу на уровне значимости $\\alpha_2$. Что получится, если поменять местами основную и альтернативную гипотезы?\n",
        "\n",
        "Основная гипотеза: $H_{0}=(a,\\sigma^{2})=(a_{0},\\sigma_{0}^{2})=(-31,100)$\n",
        "\n",
        "Альтернативная гипотеза: $H_{A}=(a,\\sigma^{2})=(a_{1},\\sigma_{1}^{2})=(2,100)$\n",
        "\n",
        "Воспользуемся статистическим отношением правдоподобия:\n",
        "\n",
        "$\\mathrm{L}\\left(\\vec{X}, \\vec{\\theta}\\right) = \\left(2\\pi \\right)^{-\\frac{n}{2}} \\cdot \\sigma^{-n} \\cdot \\exp{\\left(-\\frac{1}{2\\sigma^2} \\sum \\limits_{i = 1}^n (x_i - a)^2\\right)}$\n",
        "\n",
        "Статистика отношения правдоподобия:\n",
        "\n",
        "$\\mathrm{LR}\\left(\\vec{X}, \\vec{\\theta_0}, \\vec{\\theta_1}\\right) = \\frac{\\mathrm{L}\\left(\\vec{X}, \\vec{\\theta_1}\\right)}{\\mathrm{L}\\left(\\vec{X}, \\vec{\\theta_0}\\right)} = \\exp{\\left(\\frac{n}{2\\sigma^2}\\left(a_0^2 - a_1^2\\right) + \\frac{1}{\\sigma^2}\\sum \\limits_{i = 1}^n x_i \\cdot \\left(a_1 - a_0\\right)\\right)}$\n",
        "\n",
        "$\\frac{n}{2\\sigma^2}\\left(a_0^2 - a_1^2\\right) + \\frac{1}{\\sigma^2}\\sum \\limits_{i = 1}^n x_i \\cdot \\left(a_1 - a_0\\right) > \\ln{c}$\n",
        "\n",
        "$\\overline{X} > \\large \\frac{2\\sigma^2\\ln{c} - n\\left(a_0^2 - a_1^2\\right)}{2n\\left(a_1 - a_0\\right)}$\n",
        "\n",
        "В силу монотонности статистики LR относительно $\\overline{X}$:\n",
        "\n",
        "$\\mathrm{LR} > c \\iff \\overline{X} > c^*$\n",
        "\n",
        "$\\mathrm{LR} < c \\iff \\overline{X} < c^*$\n",
        "\n",
        "Тогда:\n",
        "\n",
        "$$ \\phi(x) =\\left\\{\\begin{array}{l} 1, \\overline{X} > c^* \\\\ p, \\overline{X} = c^* \\\\ 0, \\overline{X} < c^*\\\\ \\end{array}\\right.$$\n",
        "  \n",
        "Используя ЦПТ, получается эквивалентный критерий:\n",
        "\n",
        "$\\sqrt{n} \\frac{\\overline{X} - a_0}{\\sigma} \\sim \\mathcal{N}(0, 1)$ при $H_0$\n",
        "\n",
        "$\\sqrt{50} \\frac{1,986+31}{\\sqrt{100}} = 23,32$\n",
        "\n",
        "Квантиль:\n",
        "\n",
        "$c^* : \\Phi(c^*) = 1 - \\alpha_2 = 1 - 0.01 = 0.99 \\Rightarrow c^* = 2,33$\n",
        "\n",
        "Тогда:\n",
        "$$ \\phi(x) =\\left\\{\\begin{array}{l} 1, \\overline{X} > 2,33 \\\\ p, \\overline{X} = 2,33 \\\\ 0, \\overline{X} < 2,33\\\\ \\end{array}\\right.$$\n",
        "$\\sqrt{n} \\frac{\\overline{X} - a_0}{\\sigma} > c^* \\implies$ гипотезу отвергаем.\n"
      ],
      "metadata": {
        "id": "QpF673nMt-Os"
      }
    },
    {
      "cell_type": "code",
      "source": [
        "c_alpha = 0\n",
        "while norm.cdf(c_alpha) <= 0.99:\n",
        "    c_alpha += 0.01\n",
        "print('c* =', c_alpha)"
      ],
      "metadata": {
        "colab": {
          "base_uri": "https://localhost:8080/"
        },
        "id": "RhAawV1WS6a4",
        "outputId": "c74fbebb-04c7-425a-e3f6-05f640bb2fd6"
      },
      "execution_count": null,
      "outputs": [
        {
          "output_type": "stream",
          "name": "stdout",
          "text": [
            "c* = 2.3299999999999943\n"
          ]
        }
      ]
    },
    {
      "cell_type": "markdown",
      "source": [
        "Поменяем местамим основную и альтернативную гипотезы:\n",
        "\n",
        "Нулевая гипотеза:\n",
        "\n",
        "$H_0 = \\left( a_1, \\sigma^2_1\\right) = (2, 100)$\n",
        "\n",
        "Альтернативная гипотеза:\n",
        "$H_A = \\left( a_0, \\sigma^2_0\\right) = (-31, 100)$\n",
        "\n",
        "Статистика отношения правдоподобия:\n",
        "\n",
        "$\\mathrm{LR}\\left(\\vec{X}, \\vec{\\theta_0}, \\vec{\\theta_1}\\right) = \\frac{\\mathrm{L}\\left(\\vec{X}, \\vec{\\theta_1}\\right)}{\\mathrm{L}\\left(\\vec{X}, \\vec{\\theta_0}\\right)} = \\exp{\\left(\\frac{n}{2\\sigma^2}\\left(a_1^2 - a_0^2\\right) + \\frac{1}{\\sigma^2}\\sum \\limits_{i = 1}^n x_i \\cdot \\left(a_0 - a_1\\right)\\right)}$\n",
        "\n",
        "$\\frac{n}{2\\sigma^2}\\left(a_1^2 - a_0^2\\right) + \\frac{1}{\\sigma^2}\\sum \\limits_{i = 1}^n x_i \\cdot \\left(a_0 - a_1\\right) > \\ln{c}$\n",
        "\n",
        "Т.к. $a_0 < a_1$, то меняем знак неравенства:\n",
        "\n",
        "$\\overline{X} > \\large \\frac{2\\sigma^2\\ln{c} - n\\left(a_1^2 - a_0^2\\right)}{2n\\left(a_0 - a_1\\right)}$\n",
        "\n",
        "В силу монотонности статистики LR относительно $\\overline{X}$:\n",
        "\n",
        "$\\mathrm{LR} > c \\iff \\overline{X} < c^*$\n",
        "\n",
        "$\\mathrm{LR} < c \\iff \\overline{X} > c^*$\n",
        "\n",
        "Тогда получим:\n",
        "$$ \\phi(x) =\\left\\{\\begin{array}{l} 1, \\overline{X} < c^* \\\\ p, \\overline{X} = c^* \\\\ 0, \\overline{X} > c^*\\\\ \\end{array}\\right.$$\n",
        "  \n",
        "Используя ЦПТ, получаем эквивалентный критерий:\n",
        "\n",
        "$\\sqrt{n} \\frac{\\overline{X} - a_1}{\\sigma} \\sim \\mathcal{N}(0, 1)$ при $H_A$\n",
        "\n",
        "$\\mathbb{P}\\left(\\sqrt{n}\\frac{\\overline{X} - a_1}{\\sigma} \\geq \\sqrt{n}\\frac{c^* - a_1}{\\sigma}\\right) = 1 - \\Phi\\left(\\sqrt{n}\\frac{c^* - a_1}{\\sigma}\\right) = \\alpha_2$\n",
        "\n",
        "$\\sqrt{n}\\frac{c^* - a_1}{\\sigma} = x_{\\alpha}$\n",
        "\n",
        "$x_{\\alpha} : \\Phi(x_{\\alpha}) = 1 - \\alpha_2 = 1 - 0.01 = 0.99 \\Rightarrow x_{\\alpha} = 2,33 \\Rightarrow c^* = -27,7$\n",
        "\n",
        "$$ \\phi(x) =\\left\\{\\begin{array}{l} 1, \\overline{X} < -27,7 \\\\ p, \\overline{X} = -27,7 \\\\ 0, \\overline{X} > -27,7\\\\ \\end{array}\\right.$$\n",
        "\n",
        "Так как $\\overline{X} > c^*$, то гипотезу принимаем."
      ],
      "metadata": {
        "id": "BP-eULQ5V_RK"
      }
    },
    {
      "cell_type": "code",
      "source": [
        "sigma = 10\n",
        "a_1 = -31\n",
        "x_alpha = 2.33\n",
        "c_star = (x_alpha * sigma)/n**0.5 + a_1\n",
        "print('c* =', c_star)"
      ],
      "metadata": {
        "colab": {
          "base_uri": "https://localhost:8080/"
        },
        "id": "hHHqnOlxWBgZ",
        "outputId": "8ffe37d2-64dc-4247-ca7e-c036573875c9"
      },
      "execution_count": null,
      "outputs": [
        {
          "output_type": "stream",
          "name": "stdout",
          "text": [
            "c* = -27.704882399670687\n"
          ]
        }
      ]
    },
    {
      "cell_type": "markdown",
      "source": [
        "#### i)В пунктах (c)-(g) заменить семейство нормальных распределений на двухпараметрическое семейство распределений Лапласа с плотностями $p_{a,\\sigma}(x)=\\frac{1}{\\sqrt{2}\\sigma}exp\\left(-\\frac{\\sqrt{2}}{\\sigma}|x-a|\\right)$."
      ],
      "metadata": {
        "id": "sEnQ-Q3l5JZy"
      }
    },
    {
      "cell_type": "markdown",
      "source": [
        "#### i.c)В предположении, что исходные наблюдения являются выборкой из двухпараметрического распределения Лапласа, построить ОМП и ОММ параметров $(a,\\sigma^{2})$.Найти смещение оценки.\n",
        "\n",
        "Построим ОМП.\n",
        "\n",
        "Построим функцию правдоподобия:\n",
        "\n",
        "$L(\\overrightarrow{X},\\theta)=\\prod_{i=1}^{n}\\frac{1}{\\sqrt{2}\\sigma}exp\\left(-\\frac{\\sqrt{2}}{\\sigma}|x-a|\\right)=2^{-\\frac{n}{2}} \\cdot \\sigma^{-n} \\cdot exp\\left(-\\frac{\\sqrt{2}}{\\sigma}\\sum_{i=1}^{n}|x_{i}-a|\\right)$\n",
        "\n",
        "Прологарифмируем функцию правдоподобия:\n",
        "\n",
        "$LL(\\overrightarrow{X},\\theta)=-\\frac{n}{2}\\ln2-n\\ln\\sigma-\\frac{\\sqrt{2}}{\\sigma}\\sum_{i=1}^{n}|x_{i}-a|$\n",
        "\n",
        "Найдем частную производную по параметру $\\lambda$ и приравняем производную к нулю и тем самым найдем наш параметр:\n",
        "\n",
        "$\\frac{\\partial LL}{\\partial \\sigma}=-\\frac{n}{\\sigma}+\\frac{\\sqrt{2}}{\\sigma^{2}}\\sum_{i=1}^{n}|x_{i}-\\widehat{a}|=0 \\implies \\frac{n}{\\sigma}=\\frac{\\sqrt{2}}{\\sigma^{2}}\\sum_{i=1}^{n}|x_{i}-\\widehat{a}|$\n",
        "\n",
        "$\\frac{\\sigma}{n}=\\frac{\\sigma^{2}}{\\sqrt{2}\\sum_{i=1}^{n}|x_{i}-\\widehat{a}|} \\implies \\sigma^{2}=\\left(\\frac{\\sqrt{2}\\sum_{i=1}^{n}|x_{i}-\\widehat{a}|}{n}\\right)^{2}$\n",
        "\n",
        "$\\frac{\\partial LL}{\\partial a}=\\frac{\\sqrt{2}}{\\sigma^{2}}\\sum_{i=1}^{n}sign|x_{i}-a|=0$\n",
        "\n",
        "Т.к. $\\frac{\\partial\\mathrm{LL}}{\\partial a}$ - монотонно убывающая функция, то ОМП параметра $а$ - выборочная медиана.\n",
        "\n",
        "$\\widehat{a} = z_{n, \\frac{1}{2}} = \\begin{cases} X_{\\lfloor \\frac{n}{2} \\rfloor + 1} , np \\in \\mathbb{Z} \\\\ \\\\ \\left[X_{\\left(\\frac{n}{2}\\right)}, X_{\\left(\\frac{n}{2} + 1\\right)}\\right), np \\notin \\mathbb{Z} \\end{cases}$\n",
        "\n",
        "Таким образом $\\widehat{\\theta} = \\left(\\widehat{a}, \\widehat{\\sigma}^2 \\right)$\n",
        "\n",
        "Оценка методом моментов:\n",
        "\n",
        "$\\mathbb{E}x = a$ , $\\mathrm{M}_1 = \\overline{X}$\n",
        "\n",
        "$\\mathbb{E}x^2 = \\sigma^2 + a^2$, $\\mathrm{M}_2 = \\overline{X^2}$\n",
        "\n",
        "Система уравнений метода моментов:\n",
        " $\\begin{equation} \\begin{cases} \\overline{X} = a \\\\ \\overline{X^2} = a^2 + \\sigma^2 \\end{cases}\\end{equation}$\n",
        "\n",
        "Следовательно, $\\widetilde{\\theta} = \\left(\\widetilde{a}, \\widetilde{\\sigma^2}\\right) = \\left(\\overline{X}, S^2\\right)$ - ОММ\n",
        "\n",
        "Смещение оценок:\n",
        "\n",
        "$\\mathbb{E}_{\\theta} \\widehat{a} = \\mathbb{E}_{\\theta}z_{n, \\frac{1}{2}} = \\mathbb{E} \\frac{X_{\\frac{n}{2}} + X_{\\frac{n}{2} + 1}}{2} = a \\implies$ несмещённая оценка.\n",
        "\n",
        "$\\mathbb{E}_{\\theta} \\widehat{\\sigma^2} \\neq \\sigma^2 \\implies$ смещённая оценка.\n",
        "\n",
        "$\\mathbb{E}_{\\theta} \\widetilde{a} = \\mathbb{E}_{\\theta} \\overline{X} = a \\implies$ несмещённая оценка.\n",
        "\n",
        "$\\mathbb{E}_{\\theta}\\widetilde{\\sigma^2} = \\mathbb{E}_{\\theta} S^2 = \\frac{n -1}{n} \\sigma^2 \\implies$ смещённая оценка."
      ],
      "metadata": {
        "id": "Z4Yi-KhH65P9"
      }
    },
    {
      "cell_type": "markdown",
      "source": [
        "#### i.d)Построить доверительные интервалы уровня значимости $\\alpha_2$ для параметров $(a,\\sigma^{2})$.\n",
        "\n",
        "По пункту 4 леммы Фишера:\n",
        "\n",
        "$\\mathrm{G}\\left(\\vec{X}, a\\right) = \\sqrt{n - 1} \\cdot \\frac{\\overline{X} - a}{S} \\sim \\mathrm{Student}(n - 1)$ - генератор.\n",
        "\n",
        "Выбор квантилей:\n",
        "\n",
        "$x_{\\alpha}: \\mathrm{S}_{n-1}(x_{\\alpha}) = 1 - \\frac{\\alpha}{2}  = 1 - \\frac{0,01}{2} = 0,995 \\Rightarrow x_{\\alpha} = 2,94 \\Rightarrow x_{2\\alpha} = x_{\\alpha} = 2,94, x_{1\\alpha} = -x_{\\alpha} = -2,94$ т.к. распределение Стьюдента симметричное.\n",
        "\n",
        "$\\mathbb{P}_{\\theta}\\left(-x_{\\alpha} \\le \\sqrt{n - 1} \\cdot \\frac{\\overline{X} - a}{S} \\le x_{\\alpha}\\right) = 1 - \\alpha$\n",
        "\n",
        "$\\mathbb{P}_{\\theta}\\left(-\\frac{x_{\\alpha} \\cdot S}{\\sqrt{n - 1}} + \\overline{X} \\le a \\le \\frac{x_{\\alpha} \\cdot S}{\\sqrt{n - 1}} + \\overline{X}\\right) = 1 - \\alpha$\n",
        "\n",
        "Таким образом, доверительный интервал:\n",
        "\n",
        "$\\left[-\\frac{x_{\\alpha} \\cdot S}{\\sqrt{n - 1}} + \\overline{X}, \\frac{x_{\\alpha} \\cdot S}{\\sqrt{n - 1}} + \\overline{X}\\right] \\ni a$\n",
        "\n",
        "$\\left[-\\frac{2,94 \\cdot 98,35}{\\sqrt{50 - 1}} + 1,986, \\frac{2,94 \\cdot 98,35}{\\sqrt{50 - 1}} + 1,986\\right] \\implies [-39,32, 43,29] \\ni a$\n",
        "\n",
        "По пункту 3 леммы Фишера:\n",
        "\n",
        "$\\mathrm{G}\\left(\\vec{X}, \\sigma^2\\right) = \\frac{nS^2}{\\sigma^2} \\sim \\chi^2_{n-1}$ - генератор.\n",
        "\n",
        "Выбор квантилей:\n",
        "\n",
        "$x_{1\\alpha}: \\mathrm{K}_{n-1}(x_{1\\alpha}) = \\frac{\\alpha}{2} = \\frac{0,01}{2} = 0,005 \\Rightarrow x_{1\\alpha} = 31.56$\n",
        "\n",
        "$x_{2\\alpha}: \\mathrm{K}_{n-1}(x_{2\\alpha}) = 1 - \\frac{\\alpha}{2} = 1 - 0,005 = 0,995 \\Rightarrow x_{2\\alpha} = 70.22$ , так как распределение несимметричное.\n",
        "\n",
        "$\\mathbb{P}_{\\theta}\\left(x_{1\\alpha} \\le \\frac{nS^2}{\\sigma^2} \\le x_{2\\alpha}\\right) = 1 - \\alpha$\n",
        "\n",
        "$\\mathbb{P}_{\\theta}\\left(\\frac{nS^2}{x_{2\\alpha}} \\le \\sigma^2 \\le \\frac{nS^2}{x_{1\\alpha}}\\right) = 1 - \\alpha$\n",
        "\n",
        "Таким образом, доверительный интервал:\n",
        "\n",
        "$\\left[\\frac{nS^2}{x_{2\\alpha}}, \\frac{nS^2}{x_{1\\alpha}}\\right] \\ni \\sigma^2$\n",
        "\n",
        "$\\left[17.42, 38.77\\right] \\ni \\sigma^2$\n",
        "\n",
        "\n"
      ],
      "metadata": {
        "id": "x9LN6byjCf91"
      }
    },
    {
      "cell_type": "markdown",
      "source": [
        "#### i.e)С использованием теоремы Колмогорова построить критерий значимости проверки простой гипотезы согласия с двухпараметрическим распределением Лапласа с параметрами  $(a_{0},\\sigma_{0}^{2})$. Проверить гипотезу на уровне значимости  α2 . Вычислить наибольшее значение уровня значимости, на котором еще нет оснований отвергнуть данную гипотезу."
      ],
      "metadata": {
        "id": "SBoUEuZEF91O"
      }
    },
    {
      "cell_type": "code",
      "source": [
        "import numpy as np\n",
        "from scipy.stats import laplace\n",
        "\n",
        "def kolmogorov_test(data_1, a0, sigma0, alpha):\n",
        "    n = len(data_1)\n",
        "    a0 = -31\n",
        "    sigma0 = 100\n",
        "    alpha2 = 0.01\n",
        "    D_plus = np.max([empirical_function[i] - laplace.cdf(x[i], loc=a0, data_1=sigma0) for i in range(n)])\n",
        "    D_minus = np.max([laplace.cdf(x[i], loc=a0, data_1=sigma0) - (i+1)/n for i in range(n)])\n",
        "    D = max(D_plus, D_minus)\n",
        "\n",
        "    critical_value = np.sqrt(-0.5 * np.log(alpha / 2) / n)\n",
        "\n",
        "    if D <= critical_value:\n",
        "        return True  # Гипотезу нельзя отвергнуть\n",
        "    else:\n",
        "        return False  # Гипотезу следует отвергнуть\n",
        "\n",
        "\n",
        "# Вычисление наибольшего значения уровня значимости\n",
        "max_alpha = alpha2\n",
        "while True:\n",
        "    rejected = kolmogorov_test(data_1, a0, sigma0, max_alpha)\n",
        "    if rejected:\n",
        "        break\n",
        "    max_alpha -= 0.001\n",
        "\n",
        "print(\"Наибольшее значение уровня значимости, на котором гипотеза не отвергается:\", max_alpha)\n"
      ],
      "metadata": {
        "colab": {
          "base_uri": "https://localhost:8080/",
          "height": 390
        },
        "id": "aNWXrWsaH2m1",
        "outputId": "d99fe20f-e983-4b97-ea4e-dfb853c93256"
      },
      "execution_count": null,
      "outputs": [
        {
          "output_type": "error",
          "ename": "TypeError",
          "evalue": "ignored",
          "traceback": [
            "\u001b[0;31m---------------------------------------------------------------------------\u001b[0m",
            "\u001b[0;31mTypeError\u001b[0m                                 Traceback (most recent call last)",
            "\u001b[0;32m<ipython-input-47-d5851cdeac8a>\u001b[0m in \u001b[0;36m<cell line: 23>\u001b[0;34m()\u001b[0m\n\u001b[1;32m     22\u001b[0m \u001b[0mmax_alpha\u001b[0m \u001b[0;34m=\u001b[0m \u001b[0malpha2\u001b[0m\u001b[0;34m\u001b[0m\u001b[0;34m\u001b[0m\u001b[0m\n\u001b[1;32m     23\u001b[0m \u001b[0;32mwhile\u001b[0m \u001b[0;32mTrue\u001b[0m\u001b[0;34m:\u001b[0m\u001b[0;34m\u001b[0m\u001b[0;34m\u001b[0m\u001b[0m\n\u001b[0;32m---> 24\u001b[0;31m     \u001b[0mrejected\u001b[0m \u001b[0;34m=\u001b[0m \u001b[0mkolmogorov_test\u001b[0m\u001b[0;34m(\u001b[0m\u001b[0mdata_1\u001b[0m\u001b[0;34m,\u001b[0m \u001b[0ma0\u001b[0m\u001b[0;34m,\u001b[0m \u001b[0msigma0\u001b[0m\u001b[0;34m,\u001b[0m \u001b[0mmax_alpha\u001b[0m\u001b[0;34m)\u001b[0m\u001b[0;34m\u001b[0m\u001b[0;34m\u001b[0m\u001b[0m\n\u001b[0m\u001b[1;32m     25\u001b[0m     \u001b[0;32mif\u001b[0m \u001b[0mrejected\u001b[0m\u001b[0;34m:\u001b[0m\u001b[0;34m\u001b[0m\u001b[0;34m\u001b[0m\u001b[0m\n\u001b[1;32m     26\u001b[0m         \u001b[0;32mbreak\u001b[0m\u001b[0;34m\u001b[0m\u001b[0;34m\u001b[0m\u001b[0m\n",
            "\u001b[0;32m<ipython-input-47-d5851cdeac8a>\u001b[0m in \u001b[0;36mkolmogorov_test\u001b[0;34m(data_1, a0, sigma0, alpha)\u001b[0m\n\u001b[1;32m      7\u001b[0m     \u001b[0msigma0\u001b[0m \u001b[0;34m=\u001b[0m \u001b[0;36m100\u001b[0m\u001b[0;34m\u001b[0m\u001b[0;34m\u001b[0m\u001b[0m\n\u001b[1;32m      8\u001b[0m     \u001b[0malpha2\u001b[0m \u001b[0;34m=\u001b[0m \u001b[0;36m0.01\u001b[0m\u001b[0;34m\u001b[0m\u001b[0;34m\u001b[0m\u001b[0m\n\u001b[0;32m----> 9\u001b[0;31m     \u001b[0mD_plus\u001b[0m \u001b[0;34m=\u001b[0m \u001b[0mnp\u001b[0m\u001b[0;34m.\u001b[0m\u001b[0mmax\u001b[0m\u001b[0;34m(\u001b[0m\u001b[0;34m[\u001b[0m\u001b[0mempirical_function\u001b[0m\u001b[0;34m[\u001b[0m\u001b[0mi\u001b[0m\u001b[0;34m]\u001b[0m \u001b[0;34m-\u001b[0m \u001b[0mlaplace\u001b[0m\u001b[0;34m.\u001b[0m\u001b[0mcdf\u001b[0m\u001b[0;34m(\u001b[0m\u001b[0mx\u001b[0m\u001b[0;34m[\u001b[0m\u001b[0mi\u001b[0m\u001b[0;34m]\u001b[0m\u001b[0;34m,\u001b[0m \u001b[0mloc\u001b[0m\u001b[0;34m=\u001b[0m\u001b[0ma0\u001b[0m\u001b[0;34m,\u001b[0m \u001b[0mdata_1\u001b[0m\u001b[0;34m=\u001b[0m\u001b[0msigma0\u001b[0m\u001b[0;34m)\u001b[0m \u001b[0;32mfor\u001b[0m \u001b[0mi\u001b[0m \u001b[0;32min\u001b[0m \u001b[0mrange\u001b[0m\u001b[0;34m(\u001b[0m\u001b[0mn\u001b[0m\u001b[0;34m)\u001b[0m\u001b[0;34m]\u001b[0m\u001b[0;34m)\u001b[0m\u001b[0;34m\u001b[0m\u001b[0;34m\u001b[0m\u001b[0m\n\u001b[0m\u001b[1;32m     10\u001b[0m     \u001b[0mD_minus\u001b[0m \u001b[0;34m=\u001b[0m \u001b[0mnp\u001b[0m\u001b[0;34m.\u001b[0m\u001b[0mmax\u001b[0m\u001b[0;34m(\u001b[0m\u001b[0;34m[\u001b[0m\u001b[0mlaplace\u001b[0m\u001b[0;34m.\u001b[0m\u001b[0mcdf\u001b[0m\u001b[0;34m(\u001b[0m\u001b[0mx\u001b[0m\u001b[0;34m[\u001b[0m\u001b[0mi\u001b[0m\u001b[0;34m]\u001b[0m\u001b[0;34m,\u001b[0m \u001b[0mloc\u001b[0m\u001b[0;34m=\u001b[0m\u001b[0ma0\u001b[0m\u001b[0;34m,\u001b[0m \u001b[0mdata_1\u001b[0m\u001b[0;34m=\u001b[0m\u001b[0msigma0\u001b[0m\u001b[0;34m)\u001b[0m \u001b[0;34m-\u001b[0m \u001b[0;34m(\u001b[0m\u001b[0mi\u001b[0m\u001b[0;34m+\u001b[0m\u001b[0;36m1\u001b[0m\u001b[0;34m)\u001b[0m\u001b[0;34m/\u001b[0m\u001b[0mn\u001b[0m \u001b[0;32mfor\u001b[0m \u001b[0mi\u001b[0m \u001b[0;32min\u001b[0m \u001b[0mrange\u001b[0m\u001b[0;34m(\u001b[0m\u001b[0mn\u001b[0m\u001b[0;34m)\u001b[0m\u001b[0;34m]\u001b[0m\u001b[0;34m)\u001b[0m\u001b[0;34m\u001b[0m\u001b[0;34m\u001b[0m\u001b[0m\n\u001b[1;32m     11\u001b[0m     \u001b[0mD\u001b[0m \u001b[0;34m=\u001b[0m \u001b[0mmax\u001b[0m\u001b[0;34m(\u001b[0m\u001b[0mD_plus\u001b[0m\u001b[0;34m,\u001b[0m \u001b[0mD_minus\u001b[0m\u001b[0;34m)\u001b[0m\u001b[0;34m\u001b[0m\u001b[0;34m\u001b[0m\u001b[0m\n",
            "\u001b[0;32m<ipython-input-47-d5851cdeac8a>\u001b[0m in \u001b[0;36m<listcomp>\u001b[0;34m(.0)\u001b[0m\n\u001b[1;32m      7\u001b[0m     \u001b[0msigma0\u001b[0m \u001b[0;34m=\u001b[0m \u001b[0;36m100\u001b[0m\u001b[0;34m\u001b[0m\u001b[0;34m\u001b[0m\u001b[0m\n\u001b[1;32m      8\u001b[0m     \u001b[0malpha2\u001b[0m \u001b[0;34m=\u001b[0m \u001b[0;36m0.01\u001b[0m\u001b[0;34m\u001b[0m\u001b[0;34m\u001b[0m\u001b[0m\n\u001b[0;32m----> 9\u001b[0;31m     \u001b[0mD_plus\u001b[0m \u001b[0;34m=\u001b[0m \u001b[0mnp\u001b[0m\u001b[0;34m.\u001b[0m\u001b[0mmax\u001b[0m\u001b[0;34m(\u001b[0m\u001b[0;34m[\u001b[0m\u001b[0mempirical_function\u001b[0m\u001b[0;34m[\u001b[0m\u001b[0mi\u001b[0m\u001b[0;34m]\u001b[0m \u001b[0;34m-\u001b[0m \u001b[0mlaplace\u001b[0m\u001b[0;34m.\u001b[0m\u001b[0mcdf\u001b[0m\u001b[0;34m(\u001b[0m\u001b[0mx\u001b[0m\u001b[0;34m[\u001b[0m\u001b[0mi\u001b[0m\u001b[0;34m]\u001b[0m\u001b[0;34m,\u001b[0m \u001b[0mloc\u001b[0m\u001b[0;34m=\u001b[0m\u001b[0ma0\u001b[0m\u001b[0;34m,\u001b[0m \u001b[0mdata_1\u001b[0m\u001b[0;34m=\u001b[0m\u001b[0msigma0\u001b[0m\u001b[0;34m)\u001b[0m \u001b[0;32mfor\u001b[0m \u001b[0mi\u001b[0m \u001b[0;32min\u001b[0m \u001b[0mrange\u001b[0m\u001b[0;34m(\u001b[0m\u001b[0mn\u001b[0m\u001b[0;34m)\u001b[0m\u001b[0;34m]\u001b[0m\u001b[0;34m)\u001b[0m\u001b[0;34m\u001b[0m\u001b[0;34m\u001b[0m\u001b[0m\n\u001b[0m\u001b[1;32m     10\u001b[0m     \u001b[0mD_minus\u001b[0m \u001b[0;34m=\u001b[0m \u001b[0mnp\u001b[0m\u001b[0;34m.\u001b[0m\u001b[0mmax\u001b[0m\u001b[0;34m(\u001b[0m\u001b[0;34m[\u001b[0m\u001b[0mlaplace\u001b[0m\u001b[0;34m.\u001b[0m\u001b[0mcdf\u001b[0m\u001b[0;34m(\u001b[0m\u001b[0mx\u001b[0m\u001b[0;34m[\u001b[0m\u001b[0mi\u001b[0m\u001b[0;34m]\u001b[0m\u001b[0;34m,\u001b[0m \u001b[0mloc\u001b[0m\u001b[0;34m=\u001b[0m\u001b[0ma0\u001b[0m\u001b[0;34m,\u001b[0m \u001b[0mdata_1\u001b[0m\u001b[0;34m=\u001b[0m\u001b[0msigma0\u001b[0m\u001b[0;34m)\u001b[0m \u001b[0;34m-\u001b[0m \u001b[0;34m(\u001b[0m\u001b[0mi\u001b[0m\u001b[0;34m+\u001b[0m\u001b[0;36m1\u001b[0m\u001b[0;34m)\u001b[0m\u001b[0;34m/\u001b[0m\u001b[0mn\u001b[0m \u001b[0;32mfor\u001b[0m \u001b[0mi\u001b[0m \u001b[0;32min\u001b[0m \u001b[0mrange\u001b[0m\u001b[0;34m(\u001b[0m\u001b[0mn\u001b[0m\u001b[0;34m)\u001b[0m\u001b[0;34m]\u001b[0m\u001b[0;34m)\u001b[0m\u001b[0;34m\u001b[0m\u001b[0;34m\u001b[0m\u001b[0m\n\u001b[1;32m     11\u001b[0m     \u001b[0mD\u001b[0m \u001b[0;34m=\u001b[0m \u001b[0mmax\u001b[0m\u001b[0;34m(\u001b[0m\u001b[0mD_plus\u001b[0m\u001b[0;34m,\u001b[0m \u001b[0mD_minus\u001b[0m\u001b[0;34m)\u001b[0m\u001b[0;34m\u001b[0m\u001b[0;34m\u001b[0m\u001b[0m\n",
            "\u001b[0;32m/usr/local/lib/python3.10/dist-packages/scipy/stats/_distn_infrastructure.py\u001b[0m in \u001b[0;36mcdf\u001b[0;34m(self, x, *args, **kwds)\u001b[0m\n\u001b[1;32m   2059\u001b[0m \u001b[0;34m\u001b[0m\u001b[0m\n\u001b[1;32m   2060\u001b[0m         \"\"\"\n\u001b[0;32m-> 2061\u001b[0;31m         \u001b[0margs\u001b[0m\u001b[0;34m,\u001b[0m \u001b[0mloc\u001b[0m\u001b[0;34m,\u001b[0m \u001b[0mscale\u001b[0m \u001b[0;34m=\u001b[0m \u001b[0mself\u001b[0m\u001b[0;34m.\u001b[0m\u001b[0m_parse_args\u001b[0m\u001b[0;34m(\u001b[0m\u001b[0;34m*\u001b[0m\u001b[0margs\u001b[0m\u001b[0;34m,\u001b[0m \u001b[0;34m**\u001b[0m\u001b[0mkwds\u001b[0m\u001b[0;34m)\u001b[0m\u001b[0;34m\u001b[0m\u001b[0;34m\u001b[0m\u001b[0m\n\u001b[0m\u001b[1;32m   2062\u001b[0m         \u001b[0mx\u001b[0m\u001b[0;34m,\u001b[0m \u001b[0mloc\u001b[0m\u001b[0;34m,\u001b[0m \u001b[0mscale\u001b[0m \u001b[0;34m=\u001b[0m \u001b[0mmap\u001b[0m\u001b[0;34m(\u001b[0m\u001b[0masarray\u001b[0m\u001b[0;34m,\u001b[0m \u001b[0;34m(\u001b[0m\u001b[0mx\u001b[0m\u001b[0;34m,\u001b[0m \u001b[0mloc\u001b[0m\u001b[0;34m,\u001b[0m \u001b[0mscale\u001b[0m\u001b[0;34m)\u001b[0m\u001b[0;34m)\u001b[0m\u001b[0;34m\u001b[0m\u001b[0;34m\u001b[0m\u001b[0m\n\u001b[1;32m   2063\u001b[0m         \u001b[0margs\u001b[0m \u001b[0;34m=\u001b[0m \u001b[0mtuple\u001b[0m\u001b[0;34m(\u001b[0m\u001b[0mmap\u001b[0m\u001b[0;34m(\u001b[0m\u001b[0masarray\u001b[0m\u001b[0;34m,\u001b[0m \u001b[0margs\u001b[0m\u001b[0;34m)\u001b[0m\u001b[0;34m)\u001b[0m\u001b[0;34m\u001b[0m\u001b[0;34m\u001b[0m\u001b[0m\n",
            "\u001b[0;31mTypeError\u001b[0m: _parse_args() got an unexpected keyword argument 'data_1'"
          ]
        }
      ]
    },
    {
      "cell_type": "markdown",
      "source": [
        "#### i.f)Используя гистограмму частот, построить критерий значимости $\\mathcal{X^{2}}$ проверки простой гипотезы согласия с семейством двухпараметрических распределений Лапласа $(a_{0},\\sigma_{0}^{2})$. Проверить гипотезу на урокень значимости $\\alpha_{2}$. Вычислить наибольшее значение уровня значимости, на котором ещё нет оснований отвергнуть данную гипотезу.\n",
        "\n",
        "$P_{i}=P_{H_{0}}=(X\\in I_{i})=\\sum_{k\\in I_{i}}\\frac{1}{\\sqrt{2}\\sigma}exp\\left(-\\frac{\\sqrt{2}}{\\sigma}|x-a|\\right)$\n",
        "\n",
        "$I_{1}=[-30,-26], n_{1}=1$\n",
        "\n",
        "$P_{1}=\\frac{1}{\\sqrt{2}\\cdot10}exp\\left(-\\frac{\\sqrt{2}}{10}|-30+31|\\right)+\\frac{1}{\\sqrt{2}\\cdot10}exp\\left(-\\frac{\\sqrt{2}}{10}|-26+31|\\right)=-0,163\\implies nP_{1}=-0,15$\n",
        "\n",
        "$I_{2}=[-26,-22], n_{2}=1$\n",
        "\n",
        "$P_{2}=\\frac{1}{\\sqrt{2}\\cdot10}exp\\left(-\\frac{\\sqrt{2}}{10}|-26+31|\\right)+\\frac{1}{\\sqrt{2}\\cdot10}exp\\left(-\\frac{\\sqrt{2}}{10}|-22+31|\\right)=-0,38\\implies nP_{2}=-19$\n",
        "\n",
        "$I_{3}=[-22,-18], n_{3}=1$\n",
        "\n",
        "$P_{3}=\\frac{1}{\\sqrt{2}\\cdot10}exp\\left(-\\frac{\\sqrt{2}}{10}|-22+31|\\right)+\\frac{1}{\\sqrt{2}\\cdot10}exp\\left(-\\frac{\\sqrt{2}}{10}|-18+31|\\right)=-0,598\\implies nP_{3}=-29,9$\n",
        "\n",
        "$I_{4}=[-18,-14], n_{4}=0$\n",
        "\n",
        "$P_{4}=\\frac{1}{\\sqrt{2}\\cdot10}exp\\left(-\\frac{\\sqrt{2}}{10}|-18+31|\\right)+\\frac{1}{\\sqrt{2}\\cdot10}exp\\left(-\\frac{\\sqrt{2}}{10}|-14+31|\\right)=-0,815\\implies nP_{4}=-40,75$\n",
        "\n",
        "$I_{5}=[-14,-10], n_{5}=2$\n",
        "\n",
        "$P_{5}=\\frac{1}{\\sqrt{2}\\cdot10}exp\\left(-\\frac{\\sqrt{2}}{10}|-14+31|\\right)+\\frac{1}{\\sqrt{2}\\cdot10}exp\\left(-\\frac{\\sqrt{2}}{10}|-10+31|\\right)=-1,033\\implies nP_{5}=-51,65$\n",
        "\n",
        "$I_{6}=[-10,-6], n_{6}=4$\n",
        "\n",
        "$P_{6}=\\frac{1}{\\sqrt{2}\\cdot10}exp\\left(-\\frac{\\sqrt{2}}{10}|-30+31|\\right)+\\frac{1}{\\sqrt{2}\\cdot10}exp\\left(-\\frac{\\sqrt{2}}{10}|-26+31|\\right)=-1,25\\implies nP_{6}=-62,5$\n",
        "\n",
        "$I_{7}=[-6,-2], n_{7}=5$\n",
        "\n",
        "$P_{7}=\\frac{1}{\\sqrt{2}\\cdot10}exp\\left(-\\frac{\\sqrt{2}}{10}|-6+31|\\right)+\\frac{1}{\\sqrt{2}\\cdot10}exp\\left(-\\frac{\\sqrt{2}}{10}|-2+31|\\right)=-1,468\\implies nP_{7}=-73,4$\n",
        "\n",
        "$I_{8}=[-2,2], n_{8}=6$\n",
        "\n",
        "$P_{8}=\\frac{1}{\\sqrt{2}\\cdot10}exp\\left(-\\frac{\\sqrt{2}}{10}|-2+31|\\right)+\\frac{1}{\\sqrt{2}\\cdot10}exp\\left(-\\frac{\\sqrt{2}}{10}|2+31|\\right)=-1,685\\implies nP_{8}=-84,25$\n",
        "\n",
        "$I_{9}=[2,6], n_{9}=11$\n",
        "\n",
        "$P_{9}=\\frac{1}{\\sqrt{2}\\cdot10}exp\\left(-\\frac{\\sqrt{2}}{10}|2+31|\\right)+\\frac{1}{\\sqrt{2}\\cdot10}exp\\left(-\\frac{\\sqrt{2}}{10}|6+31|\\right)=-1,903\\implies nP_{9}=-95,15$\n",
        "\n",
        "$I_{10}=[6,10], n_{10}=10$\n",
        "\n",
        "$P_{10}=\\frac{1}{\\sqrt{2}\\cdot10}exp\\left(-\\frac{\\sqrt{2}}{10}|6+31|\\right)+\\frac{1}{\\sqrt{2}\\cdot10}exp\\left(-\\frac{\\sqrt{2}}{10}|10+31|\\right)=-2,12\\implies nP_{10}=-106$\n",
        "\n",
        "$I_{11}=[10,14], n_{11}=5$\n",
        "\n",
        "$P_{11}=\\frac{1}{\\sqrt{2}\\cdot10}exp\\left(-\\frac{\\sqrt{2}}{10}|10+31|\\right)+\\frac{1}{\\sqrt{2}\\cdot10}exp\\left(-\\frac{\\sqrt{2}}{10}|14+31|\\right)=-2,338\\implies nP_{11}=-116,9$\n",
        "\n",
        "$I_{12}=[14,18], n_{12}=2$\n",
        "\n",
        "$P_{12}=\\frac{1}{\\sqrt{2}\\cdot10}exp\\left(-\\frac{\\sqrt{2}}{10}|14+31|\\right)+\\frac{1}{\\sqrt{2}\\cdot10}exp\\left(-\\frac{\\sqrt{2}}{10}|18+31|\\right)=-2,555\\implies nP_{12}=-127,75$\n",
        "\n",
        "$I_{13}=[18,22], n_{13}=2$\n",
        "\n",
        "$P_{13}=\\frac{1}{\\sqrt{2}\\cdot10}exp\\left(-\\frac{\\sqrt{2}}{10}|18+31|\\right)+\\frac{1}{\\sqrt{2}\\cdot10}exp\\left(-\\frac{\\sqrt{2}}{10}|22+31|\\right)=-2,773\\implies nP_{13}=-138,65$\n",
        "\n",
        "Критерий $\\mathcal{X}^{2}: \\mathcal{X}^{2}_{набл}=\\sum_{i=1}^{13}\\frac{(n_{i}-np_{i})^{2}}{np_{i}}=-1040,35$\n",
        "\n",
        "$\\mathcal{X}^{2}_{N-1,1-\\alpha_{1}}=\\mathcal{X}^{2}_{12,0.99}\\sim 32,909$\n",
        "\n",
        "$\\mathcal{X}^{2}\\lt \\mathcal{X}^{2}_{12,0.99}\\implies$ по критерию Пирсона мы принимаем гипотезу\n",
        "\n"
      ],
      "metadata": {
        "id": "kjxgkG4BH9zi"
      }
    },
    {
      "cell_type": "markdown",
      "source": [
        "#### i.g)Построить критерий значимости  $\\mathcal{X^{2}}$ проверки сложной гипотезы согласия с двухпараметрическим семейством распределени1 Лапласа. Проверить гипотезу по уровню значимости $\\alpha_{2}$.Вычислить наибольшее значение уровня значимости, на котором ещё нет оснований отвергнуть данную гипотезу.\n",
        "\n",
        "$P_{i}=P_{H_{0}}=(X\\in I_{i})=\\sum_{k\\in I_{i}}\\frac{1}{\\sqrt{2}S^{2}}exp\\left(-\\frac{\\sqrt{2}}{\\sqrt{S^{2}}}|x-\\overline{X}|\\right)$\n",
        "\n",
        "$I_{1}=[-30,-26], n_{1}=1$\n",
        "\n",
        "$P_{1}=\\frac{1}{\\sqrt{2}\\cdot98,347}exp\\left(-\\frac{\\sqrt{2}}{98,347}|-30-1,986|\\right)+\\frac{1}{\\sqrt{2}\\cdot98,347}exp\\left(-\\frac{\\sqrt{2}}{98,347}|-26-1,986|\\right)=-0,017\\implies nP_{1}=-0,85$\n",
        "\n",
        "$I_{2}=[-26,-22], n_{2}=1$\n",
        "\n",
        "$P_{2}=\\frac{1}{\\sqrt{2}\\cdot98,347}exp\\left(-\\frac{\\sqrt{2}}{98,347}|-26-1,986|\\right)+\\frac{1}{\\sqrt{2}\\cdot98,347}exp\\left(-\\frac{\\sqrt{2}}{98,347}|-22-1,986|\\right)=-0,015\\implies nP_{2}=-0,75$\n",
        "\n",
        "$I_{3}=[-22,-18], n_{3}=1$\n",
        "\n",
        "$P_{3}=\\frac{1}{\\sqrt{2}\\cdot98,347}exp\\left(-\\frac{\\sqrt{2}}{98,347}|-22-1,986|\\right)+\\frac{1}{\\sqrt{2}\\cdot98,347}exp\\left(-\\frac{\\sqrt{2}}{98,347}|-18-1,986|\\right)=-0,012\\implies nP_{3}=-0,6$\n",
        "\n",
        "$I_{4}=[-18,-14], n_{4}=0$\n",
        "\n",
        "$P_{4}=\\frac{1}{\\sqrt{2}\\cdot98,347}exp\\left(-\\frac{\\sqrt{2}}{98,347}|-18-1,986|\\right)+\\frac{1}{\\sqrt{2}\\cdot98,347}exp\\left(-\\frac{\\sqrt{2}}{98,347}|-14-1,986|\\right)=-0,01\\implies nP_{4}=-0,5$\n",
        "\n",
        "$I_{5}=[-14,-10], n_{5}=2$\n",
        "\n",
        "$P_{5}=\\frac{1}{\\sqrt{2}\\cdot98,347}exp\\left(-\\frac{\\sqrt{2}}{98,347}|-14-1,986|\\right)+\\frac{1}{\\sqrt{2}\\cdot98,347}exp\\left(-\\frac{\\sqrt{2}}{98,347}|-10-1,986|\\right)=-0,008\\implies nP_{5}=-0,4$\n",
        "\n",
        "$I_{6}=[-10,-6], n_{6}=4$\n",
        "\n",
        "$P_{6}=\\frac{1}{\\sqrt{2}\\cdot98,347}exp\\left(-\\frac{\\sqrt{2}}{98,347}|-10-1,986|\\right)+\\frac{1}{\\sqrt{2}\\cdot98,347}exp\\left(-\\frac{\\sqrt{2}}{98,347}|-6-1,986|\\right)=-0,006\\implies nP_{6}=-0,3$\n",
        "\n",
        "$I_{7}=[-6,-2], n_{7}=5$\n",
        "\n",
        "$P_{7}=\\frac{1}{\\sqrt{2}\\cdot98,347}exp\\left(-\\frac{\\sqrt{2}}{98,347}|-6-1,986|\\right)+\\frac{1}{\\sqrt{2}\\cdot98,347}exp\\left(-\\frac{\\sqrt{2}}{98,347}|-2-1,986|\\right)=-0,003\\implies nP_{7}=-0,15$\n",
        "\n",
        "$I_{8}=[-2,2], n_{8}=6$\n",
        "\n",
        "$P_{8}=\\frac{1}{\\sqrt{2}\\cdot98,347}exp\\left(-\\frac{\\sqrt{2}}{98,347}|-2-1,986|\\right)+\\frac{1}{\\sqrt{2}\\cdot98,347}exp\\left(-\\frac{\\sqrt{2}}{98,347}|2-1,986|\\right)=-0,001\\implies nP_{8}=-0,05$\n",
        "\n",
        "$I_{9}=[2,6], n_{9}=11$\n",
        "\n",
        "$P_{9}=\\frac{1}{\\sqrt{2}\\cdot98,347}exp\\left(-\\frac{\\sqrt{2}}{98,347}|2-1,986|\\right)+\\frac{1}{\\sqrt{2}\\cdot98,347}exp\\left(-\\frac{\\sqrt{2}}{98,347}|6-1,986|\\right)=-0,001\\implies nP_{9}=-0,05$\n",
        "\n",
        "$I_{10}=[6,10], n_{10}=10$\n",
        "\n",
        "$P_{10}=\\frac{1}{\\sqrt{2}\\cdot98,347}exp\\left(-\\frac{\\sqrt{2}}{98,347}|6-1,986|\\right)+\\frac{1}{\\sqrt{2}\\cdot98,347}exp\\left(-\\frac{\\sqrt{2}}{98,347}|10-1,986|\\right)=-0,003\\implies nP_{10}=-0,15$\n",
        "\n",
        "$I_{11}=[10,14], n_{11}=5$\n",
        "\n",
        "$P_{11}=\\frac{1}{\\sqrt{2}\\cdot98,347}exp\\left(-\\frac{\\sqrt{2}}{98,347}|10-1,986|\\right)+\\frac{1}{\\sqrt{2}\\cdot98,347}exp\\left(-\\frac{\\sqrt{2}}{98,347}|14-1,986|\\right)=-0,006\\implies nP_{11}=-0,3$\n",
        "\n",
        "$I_{12}=[14,18], n_{12}=2$\n",
        "\n",
        "$P_{12}=\\frac{1}{\\sqrt{2}\\cdot98,347}exp\\left(-\\frac{\\sqrt{2}}{98,347}|14-1,986|\\right)+\\frac{1}{\\sqrt{2}\\cdot98,347}exp\\left(-\\frac{\\sqrt{2}}{98,347}|18-1,986|\\right)=-0,008\\implies nP_{12}=-0,4$\n",
        "\n",
        "$I_{13}=[18,22], n_{13}=2$\n",
        "\n",
        "$P_{13}=\\frac{1}{\\sqrt{2}\\cdot98,347}exp\\left(-\\frac{\\sqrt{2}}{98,347}|18-1,986|\\right)+\\frac{1}{\\sqrt{2}\\cdot98,347}exp\\left(-\\frac{\\sqrt{2}}{98,347}|22-1,986|\\right)=-0,01\\implies nP_{13}=-0,5$\n",
        "\n",
        "Критерий $\\mathcal{X}^{2}: \\mathcal{X}^{2}_{набл}=\\sum_{i=1}^{13}\\frac{(n_{i}-np_{i})^{2}}{np_{i}}=-4247,18$\n",
        "\n",
        "$\\mathcal{X}^{2}_{N-1,1-\\alpha_{1}}=\\mathcal{X}^{2}_{12,0.99}\\sim 32,909$\n",
        "\n",
        "$\\mathcal{X}^{2}\\lt \\mathcal{X}^{2}_{12,0.99}\\implies$ по критерию Пирсона мы принимаем гипотезу\n"
      ],
      "metadata": {
        "id": "HfW68W_wPoQQ"
      }
    },
    {
      "cell_type": "markdown",
      "source": [
        "## Вывод\n",
        "\n",
        "В ходе проведения практической работы были изучены и применены методы математической статистики для решения задач статистического анализа. Были приобретены навыки реализации данных методов с использованием прикладных программных пакетов языка Phyton. В процессе изучения основных концепций и методов статистики были освоены навыки проведения статистических тестов, анализа выборочных данных, построения доверительных интервалов, проверки гипотез и прочих аналогичных навыков. Для различных семейств распределений были построены оценки, асимптотические интервалы и гипотезы. С помощью программных пакетов Phyton нам удалось реализовать методы математической статистики, позволяющие проводить анализ данных, вычислять статистические выборочные характеристики, разрабатывать модели и прочие сходные задачи."
      ],
      "metadata": {
        "id": "QX7-VGUuZf9G"
      }
    }
  ]
}
