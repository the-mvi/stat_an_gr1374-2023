{
  "nbformat": 4,
  "nbformat_minor": 0,
  "metadata": {
    "colab": {
      "provenance": []
    },
    "kernelspec": {
      "name": "python3",
      "display_name": "Python 3"
    },
    "language_info": {
      "name": "python"
    }
  },
  "cells": [
    {
      "cell_type": "markdown",
      "source": [
        "# Практическая работа №2: Классические методы математической статистики\n",
        "Выполнил студент гр. 1374 Курицина Полина. Вариант 12"
      ],
      "metadata": {
        "id": "Dgizzcch0Oa_"
      }
    },
    {
      "cell_type": "markdown",
      "source": [
        "## Цель работы\n",
        "Научится применять методы математической статистики для решения задач статистического анализа; сформировать навыки реализации методов с помощью прикладных программных пакетов."
      ],
      "metadata": {
        "id": "tfao5oPNBTku"
      }
    },
    {
      "cell_type": "markdown",
      "source": [
        "## Основные теоретические положения\n",
        "\n",
        "\n",
        "Основные теоретические положения\n",
        "\n",
        "Оценка максимального правдоподобия (ОМП):\n",
        "Метод заключается в максимизации функции правдоподобия путем поиска экстремума этой функции (с помощью взятия частных производных и приравнивания их к нулю)\n",
        "\n",
        "Оценка метода моментов (ОММ)\n",
        "\n",
        "$\\exists \\mu_{k}(\\theta)=EX^{k}_{1}, k=\\overline{1,d}$\n",
        "\n",
        "Если $\\exists$ ! решение $\\widetilde{\\theta}(X)$ системы уравнений: $\\widehat{\\mu^{k}}(\\widetilde{\\theta})=\\mu_{k}(\\theta), k=\\overline{1,d}$, где $\\widetilde{\\theta}(X)=\\frac{1}{n}\\sum_{i=1}^{n}X^{k}_{i}$-выборочный момент k-го порядка, то $\\widetilde{\\theta}(X)$ называется оценкой по методу моментов\n",
        "\n",
        "НРМД-оценки (несмещенная оценка)\n",
        "\n",
        "Оценка $\\widehat{\\theta}(X)$ параметра $\\theta$ называется несмещенной, если при любом значении параметра $\\theta\\in \\Theta: \\mathbb{E}\\widehat{\\theta}(X)=\\theta$\n",
        "\n",
        "Смещением оценки называется величина: $bias_{\\widehat{\\theta}}(\\theta)=\\mathbb{E}_{\\theta}\\widehat{\\theta}(X)-\\theta$\n",
        "\n",
        "Алгоритм несмещенного оценивания:\n",
        "\n",
        "а) Найти оценку $\\widehat{\\theta}(T)$, являющуюся функцией от минимальной достаточной статистики T(e.g.ОМП)\n",
        "\n",
        "б) Доказать полноту МДС\n",
        "\n",
        "в) Скорректировать смещение:$\\widetilde{\\theta}(T)=f(\\widehat{\\theta}(T),T): \\mathbb{E}_{\\theta}\\widetilde{\\theta}(T)=\\theta,\\forall \\theta\\in \\Theta$\n",
        "\n",
        "Асимптотический доверительный интервал (АДИ)\n",
        "\n",
        "а) На базе Асимптотической нормальности оценки $\\widehat{\\theta}$\n",
        "\n",
        "Асимптотическая нормальность $\\sqrt{n}\\left( \\widehat{\\theta}(\\overrightarrow{X})-\\theta)\\right)\\sim \\mathcal{N}\\left(0,\\sigma^{2}(\\theta)\\right)$\n",
        "\n",
        "$\\sqrt{n}\\frac{\\widehat{\\theta}(\\overrightarrow{X})-\\theta}{\\sigma\\left(\\widehat{\\theta}(\\overrightarrow{X})\\right)}$    \n",
        "\n",
        "Выбираем $X_{\\alpha}: \\Phi(X_{\\alpha})=1-\\frac{\\alpha}{2}$\n",
        "\n",
        "Искомый интервал: $[ \\widehat{\\theta}(\\overrightarrow{X})-\\frac{X_{\\alpha}\\cdot \\sigma( \\widehat{\\theta}(\\overrightarrow{X}) )}{\\sqrt{n}}; \\widehat{\\theta}(\\overrightarrow{X})+\\frac{X_{\\alpha}\\cdot \\sigma( \\widehat{\\theta}(\\overrightarrow{X}) )}{\\sqrt{n}}]$\n",
        "\n",
        "б) и на базе ОМП:  \n",
        "\n",
        "Критерий $\\chi^2$ для проверки гипотез\n",
        "\n",
        "\n",
        "Статистика критерия основана на сравнении относительной частоты и теоритической.\n",
        "\n",
        "$\\chi^{2}_{набл} = \\sum \\limits_{i=1}^{N} \\frac{n}{p_{i}} \\bigg ( \\frac{n_{i}}{n} - p_{i} \\bigg )^{2} = \\sum \\limits_{i=1}^{N} \\frac{(n_{i} - p_{i} n)^{2}}{n p_{i}} \\sim \\chi^{2}_{N-1}$\n",
        "\n",
        "Если $\\mathcal{X}^{2}_{N-1,1-\\alpha_{1}} \\lt \\chi^2_{набл}$, то гипотезу отвергаем\n",
        "\n",
        "Если $\\mathcal{X}^{2}_{N-1,1-\\alpha_{1}} \\gt \\chi^2_{набл}$, то гипотезу принимаем\n",
        "\n",
        "\n",
        "Теорема Колмогорова\n",
        "\n",
        "$D_{n}(\\overrightarrow{X}) = \\overset{}{\\underset{X \\in \\mathbb R}{sup}} |F_{0}(X_{i}) - F_{n}(X_{i})|$\n",
        "\n",
        "Если гипотеза $H_{0}$ верна, и $F_{0}(X)$ - непрерывная ф-я на $\\mathbb R$, тогда имеет место сходимость\n",
        "\n",
        "$P(\\sqrt{n} D_{n}(\\overrightarrow{X}) < z) \\xrightarrow[n \\rightarrow \\infty]{} K(z)$, где $K(z)=1-\\alpha$ - фукнцияя распределения Колмогорова.\n",
        "\n",
        "Если $D_{n} \\lt z$, то гипотезу принимаем\n",
        "\n",
        "Если $D_{n} \\gt z$, то гипотезу отвергаем\n",
        "\n",
        "Наиболее мощный критерий простой гипотезы.\n",
        "\n",
        "Для основной гипотезы $H_{0}: \\theta=\\theta_{0}$ и альтернативной гипотезы $H_{1}: \\theta=\\theta_{1}$, где $\\theta_{0}$ и $\\theta_{1}$ - фиксированные параметры, мы можем построить статистику правдоподобия:\n",
        "\n",
        "$LR(\\overrightarrow{X},\\theta_{1},\\theta_{0})=\\frac{L(\\overrightarrow{X},\\theta_{1})}{L(\\overrightarrow{X},\\theta_{0})} $- статистика отношений правдоподобия\n",
        "\n"
      ],
      "metadata": {
        "id": "lGfbEBIpBu9M"
      }
    },
    {
      "cell_type": "markdown",
      "source": [
        "## Постановка задачи\n",
        "Для полученных в результате эксперимента наборов данных выполнить статистическую обработку. Полученные результаты содержательно проинтерпретировать."
      ],
      "metadata": {
        "id": "X-OSbbFMB4aM"
      }
    },
    {
      "cell_type": "markdown",
      "source": [
        "## Выполнение работы"
      ],
      "metadata": {
        "id": "FFEysGy7CDvZ"
      }
    },
    {
      "cell_type": "markdown",
      "source": [
        "### Задание 1\n",
        "Путем эксперимента получены данные:\n",
        "4 4 3 4 3 6 3 7 3 7 5 3 2 1 4 5 4 1 3 5 5 3 5 2 2 3 7 5 6 4 2 5 4 6 2 4 9 4 0 2 7 3 8 2 4 2 3 4 7 3\n"
      ],
      "metadata": {
        "id": "f__gimKYKZZ5"
      }
    },
    {
      "cell_type": "code",
      "source": [
        "import numpy as np\n",
        "import matplotlib.pyplot as plt\n",
        "from scipy import stats as scistat\n",
        "\n",
        "data = [4, 4, 3, 4, 3, 6, 3, 7, 3, 7, 5, 3, 2, 1, 4, 5, 4, 1, 3, 5, 5, 3, 5, 2, 2, 3, 7, 5, 6, 4, 2, 5, 4, 6, 2, 4, 9, 4, 0, 2, 7, 3, 8, 2, 4, 2, 3, 4, 7, 3]"
      ],
      "metadata": {
        "id": "13Ei00PCAbqI"
      },
      "execution_count": 11,
      "outputs": []
    },
    {
      "cell_type": "markdown",
      "source": [
        "#### a) Построить вариционный ряд, эмпирическую функцию распределения и гистограмму частот"
      ],
      "metadata": {
        "id": "DzRE7SrPCOoY"
      }
    },
    {
      "cell_type": "code",
      "source": [
        "var_ser = np.sort(data)\n",
        "n = len(data)\n",
        "variation_range = np.unique(var_ser)\n",
        "emp_distr_func = np.cumsum(np.bincount(var_ser)) / n\n",
        "print(\"Вариационный ряд\",var_ser)"
      ],
      "metadata": {
        "colab": {
          "base_uri": "https://localhost:8080/"
        },
        "id": "rkIoTsqIqwg2",
        "outputId": "7d42e2fa-a1f6-4d93-b261-e5bf10714e66"
      },
      "execution_count": 23,
      "outputs": [
        {
          "output_type": "stream",
          "name": "stdout",
          "text": [
            "Вариационный ряд [0 1 1 2 2 2 2 2 2 2 2 3 3 3 3 3 3 3 3 3 3 3 4 4 4 4 4 4 4 4 4 4 4 5 5 5 5\n",
            " 5 5 5 6 6 6 7 7 7 7 7 8 9] 50\n"
          ]
        }
      ]
    },
    {
      "cell_type": "code",
      "source": [
        "plt.subplot(312)\n",
        "plt.step(variation_range, emp_distr_func, color='r')\n",
        "plt.title('Эмпирическая функция')\n",
        "plt.show()"
      ],
      "metadata": {
        "colab": {
          "base_uri": "https://localhost:8080/",
          "height": 191
        },
        "id": "iI4_MXCEv4WR",
        "outputId": "fb6e6a19-00b3-4744-cc16-6c82926ce287"
      },
      "execution_count": 14,
      "outputs": [
        {
          "output_type": "display_data",
          "data": {
            "text/plain": [
              "<Figure size 640x480 with 1 Axes>"
            ],
            "image/png": "[encoded data removed]"
          },
          "metadata": {}
        }
      ]
    },
    {
      "cell_type": "code",
      "source": [
        "plt.subplot(313)\n",
        "plt.hist(var_ser, bins=range(min(var_ser), max(var_ser) + 1), density=True, edgecolor='black')\n",
        "plt.xlabel('Значение')\n",
        "plt.ylabel('Относительная частота')\n",
        "plt.title('Гистограмма частот')\n",
        "plt.show()"
      ],
      "metadata": {
        "colab": {
          "base_uri": "https://localhost:8080/",
          "height": 211
        },
        "id": "aQFzsyuFvlVj",
        "outputId": "36b2697c-18b2-4316-8d17-4853d400e022"
      },
      "execution_count": 15,
      "outputs": [
        {
          "output_type": "display_data",
          "data": {
            "text/plain": [
              "<Figure size 640x480 with 1 Axes>"
            ],
            "image/png": "[encoded data removed]"
          },
          "metadata": {}
        }
      ]
    },
    {
      "cell_type": "markdown",
      "source": [
        "#### b) Вычислить выборочные аналоги следующих числовых характеристик: (i)математическое ожидание, (ii)дисперсия, (iii)медианы, (iv)асимметрии, (v)эксцесса (vi) вероятности $\\mathrm{P}(X\\in \\left[ a,b \\right])$"
      ],
      "metadata": {
        "id": "L6smtvKiCptl"
      }
    },
    {
      "cell_type": "code",
      "source": [
        "a = 2.4\n",
        "b = 4.4\n",
        "mean = np.mean(data)  # Выборочное математическое ожидание\n",
        "variance = np.var(data)  # Дисперсия\n",
        "deviation=np.std(data) #СКО\n",
        "median = np.median(data)  # Медиана\n",
        "skewness = stats.skew(data)  # Асимметрия\n",
        "kurtosis = stats.kurtosis(data)  # Эксцесс\n",
        "prob = len([x for x in data if a <= x <= b]) / len(data)  # Вероятность\n",
        "summ = sum(data)\n",
        "print(\"Мат.ожидание =\",mean)\n",
        "print(\"Дисперсия =\",variance)\n",
        "print(\"Выборочное стандартное отклонение =\",deviation)\n",
        "print(\"Медиана =\",median)\n",
        "print(\"Асимметрия =\",skewness)\n",
        "print(\"Эксцесс =\",kurtosis)\n",
        "print(\"Вероятность попадания в промежуток =\",prob)\n",
        "print(\"Сумма элементов выборки =\", summ)"
      ],
      "metadata": {
        "colab": {
          "base_uri": "https://localhost:8080/"
        },
        "id": "oYiXySOcEDpE",
        "outputId": "bde5cc53-51d9-4644-fdf1-74dc4e2062ed"
      },
      "execution_count": 16,
      "outputs": [
        {
          "output_type": "stream",
          "name": "stdout",
          "text": [
            "Мат.ожидание = 4.0\n",
            "Дисперсия = 3.64\n",
            "Выборочное стандартное отклонение = 1.9078784028338913\n",
            "Медиана = 4.0\n",
            "Асимметрия = 0.4665443504092054\n",
            "Эксцесс = -0.1350078492935638\n",
            "Вероятность попадания в промежуток = 0.44\n",
            "Сумма элементов выборки = 200\n"
          ]
        }
      ]
    },
    {
      "cell_type": "markdown",
      "source": [
        "#### c) В предположении, что исходные наблюдения являются выборкой из распределения Пуассона, построить оценку максимального правдоподобия парамаетра  $\\lambda$, а также оценку  $\\lambda$ по методу моментов. Найти смещение оценок.\n",
        "\n",
        "Функция правдоподобия:\n",
        "$\n",
        "L(\\overrightarrow{X};\\lambda)=\n",
        "\\prod_{i=1}^{n}P_{\\lambda}(x_{i})=\n",
        "\\prod_{i=1}^{n}[\\frac{\\lambda^{x_{i}}}{x_{i}!}\\cdot exp(-\\lambda)]\n",
        "=exp(-n \\lambda) \\frac{\\lambda^{\\sum_{i=1}^{n}x_{i}}} {\\prod_{i=1}^{n}(x_{i}!)}\n",
        "$\n",
        "\n",
        "Логарифмическая функция правдоподобия\n",
        "$\n",
        "LL(\\overrightarrow{X};\\lambda)\n",
        "=-n \\lambda  + \\ln(\\lambda)\\sum_{i=1}^{n}x_{i} -\\ln[\\prod_{i=1}^{n}(x_{i}!)]\n",
        "$\n",
        "\n",
        "Чтобы найти максимум функции правдоподобия (логарифмической) найдем ее экстремум путем решения уравнения $\\frac{\\partial LL(\\overrightarrow{X};\\lambda)}{\\partial \\lambda} = 0 $.\n",
        "\n",
        " $\n",
        " \\frac{\\partial LL(\\overrightarrow{X};\\lambda)}{\\partial \\lambda}\n",
        " = -n + \\frac{\\sum_{i=1}^{n}x_{i}}{\\lambda} = 0 \\\\\n",
        " \\widehat{\\lambda} = \\frac{\\sum_{i=1}^{n}x_{i}}{n} = \\widehat{x} = 4\n",
        " $\n",
        "\n",
        " Убедимся, что найденная ОМП является максимальной, для этого найдем вторую производную по параметру:\n",
        " $-\\frac{\\sum_{i=1}^{n}x_{i}}{\\lambda^2} < 0 \\\\ $ =>   Найденная точка - экстремум функции правдоподобия\n",
        "\n",
        "Поскольку $\\lambda$ одномерный параметр $\\widetilde{\\lambda}=\\overline{X}=4$\n",
        "\n",
        "Найдем смещение оценки:\n",
        "\n",
        "$g(T(\\overrightarrow{X}))=\\lambda^{\\sum_{i=1}^{n}x_{i}}\\cdot exp(-n \\lambda)$\n",
        "\n",
        "МДС: $T=\\sum_{i=1}^{n}x_{i}=200$.\n",
        "\n",
        "$h(\\overrightarrow{X})=\\frac{1}{\\prod_{i=1}^{n}x_{i}!}$\n",
        "\n",
        "Распределение Пуассона принадлежит семейству экспоненциальных, поэтому, МДС будет являться ПДС.\n",
        "\n",
        "$E_{\\lambda}\\overline{X} =\n",
        "\\frac{1}{n} E_{\\lambda}\\sum_{i=1}^{n}x_{i}=\n",
        "\\frac{n}{n} E_{\\lambda}x_{i}=\\lambda=4 \\ (\\forall{i} \\in \\mathbb{N} : i < n) \\\\ $\n",
        "\n",
        "=> оценка является несмещенной"
      ],
      "metadata": {
        "id": "Qt3oFzjjJfXn"
      }
    },
    {
      "cell_type": "markdown",
      "source": [
        "#### d) Построить асимптотический доверительный интервал уровня значимости $\\alpha_1 ( = 0.02)$ для параметра $\\lambda$ на базе оценки максимального правдоподобия.\n",
        "$\\sqrt{n}( \\widehat{\\lambda}(\\overrightarrow{X})-\\lambda )\\sim N (0, \\frac{1}{I(\\lambda)} )$\n",
        "\n",
        "$\\widehat{\\lambda}=\\overline{X}$\n",
        "\n",
        "Информация Фишера: $\n",
        "I(\\lambda)\n",
        "=-E(\\frac{\\partial^{2} LL}{\\partial \\lambda^{2}} )\n",
        "=\\frac{n}{\\lambda^{2}}\n",
        "$\n",
        "\n",
        "\n",
        "$\n",
        "\\sqrt{n I (\\widehat{\\lambda}(\\overrightarrow{X}))}\n",
        "(\\widehat{\\lambda}(\\overrightarrow{X})-\\lambda) \\sim N(0,1)\n",
        "$\n",
        "\n",
        "Пусть $X_{\\alpha}$ такое, что: $\\mathrm{Ф}(X_{\\alpha})=1-\\frac{\\alpha_{1}}{2}=1-\\frac{0.02}{2} = 0.99 ;\\ X_{\\alpha}=2.33$\n",
        "\n",
        "Вычислим доверительный интервал:\n",
        "\n",
        "$[ \\overline{X}-\\frac{X_{\\alpha}}{\\sqrt{200\\frac{200}{4}}};\n",
        " \\overline{X}+\\frac{X_{\\alpha}}{\\sqrt{200\\frac{200}{4}}}]\n",
        " \\\\ 4 - \\frac{2.33}{100}\\le \\lambda\\le 4 + \\frac{2.33}{100}$\n",
        "\n",
        "$3.9767\\le \\lambda\\le 4.0233$ - Асимптотический доверительный интервал параметра $\\lambda$.\n"
      ],
      "metadata": {
        "id": "FyUqDbBYWYYL"
      }
    },
    {
      "cell_type": "markdown",
      "source": [
        "#### e)Используя гистограмму частот, построить критерий значимости $\\mathcal{X^{2}}$ проверки простой гипотезы согласия с распределением Пуассона с параметром $\\lambda_{0}$. Проверить гипотезу на уровень значимости $\\alpha_{1}$. Вычислить наибольшее значение уровня значимости, на котором ещё нет оснований отвергнуть данную гипотезу.\n"
      ],
      "metadata": {
        "id": "3noN0hiiWsqi"
      }
    },
    {
      "cell_type": "code",
      "source": [
        "bins =  [[0, 1], [2, 3], [4, 5], [6, 7], [8, 9]]\n",
        "obs_freq = [0] * len(bins)\n",
        "lam = 4\n",
        "a_1 = 0.02\n",
        "exp_freq = [0] * len(bins)\n",
        "for i in range(len(bins)):\n",
        "  for elem in bins[i]:\n",
        "    obs_freq[i] += data.count(elem)\n",
        "    exp_freq[i] += n * scistat.poisson.pmf(elem, lam)\n",
        "    print(obs_freq[i], 'from', elem, 'pois:', exp_freq[i])\n",
        "\n",
        "chi_list = (np.array(obs_freq) - np.array(exp_freq)) ** 2 / np.array(exp_freq)\n",
        "chi_stat = np.sum(chi_list)\n",
        "print(\"Статистика Xи квадрат:\", chi_stat)\n",
        "hip = scistat.chi2.ppf(1 - a_1, df=(len(obs_freq) - 1))\n",
        "print(\"H_a =\", hip)\n",
        "\n",
        "if hip < chi_stat:\n",
        "  print(\"Отвергаем гипотезу\",  hip, '<' , chi_stat)\n",
        "else:\n",
        "  print(\"Принимаем гипотезу\",  hip ,'>', chi_stat)\n",
        "\n",
        "\n",
        "p_value = scistat.chi2.sf(chi_stat, (len(obs_freq) - 1))\n",
        "print(\"p_value = \", p_value)"
      ],
      "metadata": {
        "colab": {
          "base_uri": "https://localhost:8080/"
        },
        "id": "tVt5N1XoG3us",
        "outputId": "d65e0ef6-4fd2-410a-d1d7-6b3e6bf41b2c"
      },
      "execution_count": 21,
      "outputs": [
        {
          "output_type": "stream",
          "name": "stdout",
          "text": [
            "1 from 0 pois: 0.9157819444367089\n",
            "3 from 1 pois: 4.578909722183545\n",
            "8 from 2 pois: 7.326255555493671\n",
            "19 from 3 pois: 17.0945962961519\n",
            "11 from 4 pois: 9.768340740658227\n",
            "18 from 5 pois: 17.583013333184812\n",
            "3 from 6 pois: 5.209781728351051\n",
            "8 from 7 pois: 8.186799858837366\n",
            "1 from 8 pois: 1.4885090652431572\n",
            "2 from 9 pois: 2.1500686497956725\n",
            "Статистика Xи квадрат: 0.781449461159056\n",
            "H_a = 11.667843403834778\n",
            "Принимаем гипотезу 11.667843403834778 > 0.781449461159056\n",
            "p_value =  0.9409175804692447\n"
          ]
        }
      ]
    },
    {
      "cell_type": "markdown",
      "source": [
        "#### f)Построить критерий значимости  $\\mathcal{X^{2}}$ проверки сложной гипотезы согласия с распределением Пуассона. Проверить гипотезу по уровню значимости $\\alpha_{1}$.Вычислить наибольшее значение уровня значимости, на котором ещё нет оснований отвергнуть данную гипотезу.\n"
      ],
      "metadata": {
        "id": "VGtzcCuPe6lw"
      }
    },
    {
      "cell_type": "code",
      "source": [
        "bins =  [[0, 1], [2, 3], [4, 5], [6, 7], [8, 9]]\n",
        "obs_freq = [0] * len(bins)\n",
        "lam = mean\n",
        "a_1 = 0.02\n",
        "exp_freq = [0] * len(bins)\n",
        "for i in range(len(bins)):\n",
        "  for elem in bins[i]:\n",
        "    obs_freq[i] += data.count(elem)\n",
        "    exp_freq[i] += n * scistat.poisson.pmf(elem, lam)\n",
        "    print(obs_freq[i], 'from', elem, 'pois:', exp_freq[i])\n",
        "\n",
        "chi_list = (np.array(obs_freq) - np.array(exp_freq)) ** 2 / np.array(exp_freq)\n",
        "chi_stat = np.sum(chi_list)\n",
        "print(\"Статистика Xи квадрат:\", chi_stat)\n",
        "hip = scistat.chi2.ppf(1 - a_1, df=(len(obs_freq) - 1))\n",
        "print(\"H_a =\", hip)\n",
        "\n",
        "if hip < chi_stat:\n",
        "  print(\"Отвергаем гипотезу\",  hip, '<' , chi_stat)\n",
        "else:\n",
        "  print(\"Принимаем гипотезу\",  hip ,'>', chi_stat)\n",
        "\n",
        "\n",
        "p_value = scistat.chi2.sf(chi_stat, (len(obs_freq) - 1))\n",
        "print(\"p_value = \", p_value)"
      ],
      "metadata": {
        "colab": {
          "base_uri": "https://localhost:8080/"
        },
        "id": "KaQvqQo5Ng3R",
        "outputId": "445453cf-7c50-42b0-ef85-835ad438e2fb"
      },
      "execution_count": 22,
      "outputs": [
        {
          "output_type": "stream",
          "name": "stdout",
          "text": [
            "1 from 0 pois: 0.9157819444367089\n",
            "3 from 1 pois: 4.578909722183545\n",
            "8 from 2 pois: 7.326255555493671\n",
            "19 from 3 pois: 17.0945962961519\n",
            "11 from 4 pois: 9.768340740658227\n",
            "18 from 5 pois: 17.583013333184812\n",
            "3 from 6 pois: 5.209781728351051\n",
            "8 from 7 pois: 8.186799858837366\n",
            "1 from 8 pois: 1.4885090652431572\n",
            "2 from 9 pois: 2.1500686497956725\n",
            "Статистика Xи квадрат: 0.781449461159056\n",
            "H_a = 11.667843403834778\n",
            "Принимаем гипотезу 11.667843403834778 > 0.781449461159056\n",
            "p_value =  0.9409175804692447\n"
          ]
        }
      ]
    },
    {
      "cell_type": "markdown",
      "source": [
        "#### g) Построить наиболее мощный критерий проверки простой гипотезы пауссоновости с параметром $\\lambda=\\lambda_{0}$ = 4 при альтернативе пуассоновсти с параметром $\\lambda=\\lambda_{1} = 7$. Проверить гипотезу на уровне значимости $\\alpha_{1} = 0.02$. Что получится, если поменять местами основную и альтернативную гипотезы?\n",
        "\n",
        "Основная гипотеза: $H_{0}=\\lambda_{0}$\n",
        "\n",
        "Альтернативная гипотеза: $H_{A}=\\lambda_{1}$\n",
        "\n",
        "Воспользуемся статистическим отношением правдоподобия:\n",
        "\n",
        "$LR(\\overrightarrow{X},\\lambda_{1},\\lambda_{0}) = \\frac{L\\left( \\overrightarrow{X},\\lambda_{1} \\right)}{L\\left( \\overrightarrow{X},\\lambda_{0} \\right)}= \\frac{\\lambda_{1}^{\\sum_{i=1}^{n}X_{i}}\\cdot exp(-n\\cdot \\lambda_{1})}{\\lambda_{0}^{\\sum_{i=1}^{n}X_{i}}\\cdot exp(-n\\cdot \\lambda_{0})}$\n",
        "\n",
        "В силу монотонности статистики $LR(\\overrightarrow{X})$ относительно МДС $T(\\overrightarrow{X})=\\sum_{i=1}^{n}X_{i}$\n",
        "\n",
        "$LR(\\overrightarrow{X},\\lambda_{0},\\lambda_{1})\\gt c\\Leftrightarrow \\overline{X}\\gt c$\n",
        "\n",
        "По ЦПТ (центральной предельной теореме):\n",
        "\n",
        "$\\sqrt{n}\\frac{\\overline{X}-\\lambda_{0}}{\\sqrt{\\overline{X}}}\\sim N(0,1)$\n",
        "\n",
        "$P\\left(\\sqrt{n}\\frac{\\overline{X}-\\lambda_{0}}{\\sqrt{\\overline{X}}} \\right)\\gt \\sqrt{n}\\frac{\\overline{X}-\\lambda_{0}}{\\sqrt{\\overline{X}}}=1-\\Phi\\left(\\sqrt{n}\\frac{\\overline{X}-\\lambda_{0}}{\\sqrt{\\overline{X}}} \\right)=\\alpha_{1}$\n",
        "\n",
        "$\\Phi\\left(\\sqrt{n}\\frac{\\overline{X}-\\lambda_{0}}{\\sqrt{\\overline{X}}} \\right)=1-\\alpha_{1}=0.98$\n",
        "\n",
        "$\\sqrt{n}\\frac{\\overline{X}-\\lambda_{0}}{\\sqrt{\\overline{X}}}\\gt \\sqrt{n}\\frac{c-\\lambda_{0}}{\\sqrt{\\overline{X}}}=0\\to c=4$ гипотезу отвергаем\n",
        "\n",
        "\n",
        "Поменяем теперь основную и альтернативную гипотезу местами:\n",
        "\n",
        "Основная гипотеза: $H_{0}=\\lambda_{1}$\n",
        "\n",
        "Альтернативная гипотеза: $H_{A}=\\lambda_{0}$\n",
        "\n",
        "Воспользуемся статистическим отношением правдоподобия:\n",
        "\n",
        "$LR(\\overrightarrow{X},\\lambda_{0},\\lambda_{1}) = \\frac{L\\left( \\overrightarrow{X},\\lambda_{0} \\right)}{L\\left( \\overrightarrow{X},\\lambda_{1} \\right)}= \\frac{\\lambda_{0}^{\\sum_{i=1}^{50}X_{i}}\\cdot exp(-n\\cdot \\lambda_{0})}{\\lambda_{1}^{\\sum_{i=1}^{50}X_{i}}\\cdot exp(-n\\cdot \\lambda_{1})}$\n",
        "\n",
        "В силу монотонности статистики $LR(\\overrightarrow{X})$ относительно МДС $T(\\overrightarrow{X})=\\sum_{i=1}^{50}X_{i}$\n",
        "\n",
        "$LR(\\overrightarrow{X},\\lambda_{0},\\lambda_{1})\\gt c\\Leftrightarrow \\overline{X}\\gt c$\n",
        "\n",
        "По ЦПТ (центральной предельной теореме):\n",
        "\n",
        "$\\sqrt{n}\\frac{\\overline{X}-\\lambda_{1}}{\\sqrt{\\overline{X}}}\\sim N(0,1)$\n",
        "\n",
        "$P\\left(\\sqrt{n}\\frac{\\overline{X}-\\lambda_{1}}{\\sqrt{\\overline{X}}} \\right)\\gt \\sqrt{n}\\frac{\\overline{X}-\\lambda_{1}}{\\sqrt{\\overline{X}}}=1-\\Phi\\left(\\sqrt{n}\\frac{\\overline{X}-\\lambda_{1}}{\\sqrt{\\overline{X}}} \\right)=\\alpha_{1}$\n",
        "\n",
        "$\\Phi\\left(\\sqrt{n}\\frac{\\overline{X}-\\lambda_{1}}{\\sqrt{\\overline{X}}} \\right)=1-\\alpha_{1}=0.98$\n",
        "\n",
        "$\\sqrt{n}\\frac{\\overline{X}-\\lambda_{1}}{\\sqrt{\\overline{X}}}\\gt \\sqrt{n}\\frac{c-\\lambda_{1}}{\\sqrt{\\overline{X}}}= -10.6\\to c=\\frac{-10.6 \\cdot \\sqrt{\\overline{X}}}{\\sqrt {n}}+7=\\frac{-10.6 \\cdot \\sqrt{4}}{\\sqrt {50}}+7=4.001\\gt \\overline{X}\\to$ гипотезу отвергаем\n",
        "\n"
      ],
      "metadata": {
        "id": "aPuxOjR5KPnE"
      }
    },
    {
      "cell_type": "markdown",
      "source": [
        "#### h) В пунктах (c)-(f) заменить семейство распределение Пуассона на семейство геометрических распределенией $\\mathbb{P}_{\\lambda}(X=k)=\\frac{\\lambda^{k}}{(\\lambda+1)^{k+1}}, k\\in \\mathbb{Z_{+}}$"
      ],
      "metadata": {
        "id": "RIpL4fkwbRvM"
      }
    },
    {
      "cell_type": "markdown",
      "source": [
        "#### h.c)В предположении, что исходные наблюдения являются выборкой из геометрического распределения, построить ОМП и ОММ параметра $\\lambda$.Найти смещение оценки.\n",
        "\n",
        "Построим ОМП.\n",
        "Плотность распределения Пуассона: $P_{\\lambda}(X=k)=\\frac{\\lambda^{k}}{(\\lambda+1)^{k+1}}$\n",
        "\n",
        "Построим функцию правдоподобия:\n",
        "\n",
        "$L(\\overrightarrow{X};\\theta)=\\prod_{i=1}^{n}P_{\\lambda}(X_{i})=\\prod_{i=1}^{n}\\frac{\\lambda^{X_{i}}}{(\\lambda+1)^{X_{i}}}=\\frac{\\lambda^{\\sum_{i=1}^{n}X_{i}}}{(\\lambda+1)^{\\sum_{i=1}^{n}X_{i}+n}}$\n",
        "\n",
        "Прологарифмируем функцию правдоподобия:\n",
        "\n",
        "$LL(\\overrightarrow{X};\\theta)= \\sum_{i=1}^{n}X_{i}\\cdot \\ln(\\lambda)-(\\sum_{i=1}^{n}X_{i}+n)\\ln(\\lambda+1)$\n",
        "\n",
        "Найдем частную производную по параметру $\\lambda$ и приравняем производную к нулю и тем самым найдем наш параметр:\n",
        "\n",
        "$\\frac{\\partial LL(\\overrightarrow{X};\\theta)}{\\partial \\lambda} = \\frac{\\sum_{i=1}^{n}X_{i}}{\\lambda}-\\frac{\\sum_{i=1}^{50}X_{i}+n}{\\lambda+1}=0\\to \\frac{\\lambda}{\\sum_{i=1}^{50}X_{i}}=\\frac{\\lambda+1}{\\sum_{i=1}^{50}X_{i}+n}\\to \\lambda\\cdot \\sum_{i=1}^{n}X_{i}+\\lambda \\cdot n = \\lambda\\cdot \\sum_{i=1}^{n}X_{i}+\\sum_{i=1}^{n}X_{i}\\to \\lambda=\\overline{X}\\to \\widehat{\\theta}=\\widehat{\\lambda}=\\overline{X}=4$.\n",
        "\n",
        "\n",
        "\n",
        "Построим по ОММ.\n",
        "Для геометрического распределения  $P_{\\lambda}(X=k)=\\frac{\\lambda^{k}}{(\\lambda +1)^{k+1}}$\n",
        "\n",
        "нам известно, что первый момент $\\mathbb{E}X_{1}=\\lambda;M_{1}=\\overline{X}=4$\n",
        "равен 1 делить на параметр, и поскольку у нас 1-но мерный параметр, то у нас будет система из одного уравнения.\n",
        "\n",
        "Тогда мы получим $\\widetilde{\\theta}=\\widetilde{\\lambda}=\\overline{X}=4$\n",
        "\n",
        "\n",
        "Осталось найти смещение оценки.\n",
        "\n",
        "Для нахождения НРМД-оценки нам понадобится ОМП, которое мы нашли.\n",
        "\n",
        "$g\\left(T(\\overrightarrow{X})\\right)=\\frac{\\lambda^{\\sum_{i=1}^{n}X_{i}}}{(\\lambda+1)^{\\sum_{i=1}^{n}X_{i}+n}}$\n",
        "\n",
        "$h(\\overrightarrow{X})=1$\n",
        "\n",
        "Достаточная минимальная статистика: $T=\\sum_{i=1}^{n}X_{i}=200$.\n",
        "\n",
        "\n",
        "$\\mathbb{E}_{\\lambda}\\widehat{\\lambda}=\\mathbb{E}_{\\lambda}\\overline{X}=\\mathbb{E}_{\\lambda}\\frac{1}{n}\\cdot \\sum_{i=1}^{n}x_{i}=\\frac{1}{n}\\cdot \\mathbb{E_{\\lambda}}\\sum_{i=1}^{n}x_{i}=\\frac{1}{n}\\cdot \\sum_{i=1}^{n}\\mathbb{E_{\\lambda}}X_{1}=\\frac{1}{n}\\cdot n\\cdot \\mathbb{E}_{\\lambda}X_{1}=\\lambda=4$-НРМД-оценка"
      ],
      "metadata": {
        "id": "jYocGnu_b8lS"
      }
    },
    {
      "cell_type": "markdown",
      "source": [
        "#### h.d)Построить А.Д.И. уровня значимости $\\alpha_1$ для параметра $\\lambda$ на базе ОМП\n",
        "1. Построим на базе ОМП.\n",
        "\n",
        "$\\sqrt{n}\\left( \\widehat{\\theta}(\\overrightarrow{X})-\\theta \\right)\\sim N\\left( 0, \\frac{1}{I(\\theta)} \\right)$\n",
        "\n",
        "ОМП $\\widehat{\\theta}=\\widehat{\\lambda}=\\overline{X}$\n",
        "\n",
        "Найдем информацию Фишера: $I(\\theta)=-\\mathbb{E}\\left( \\frac{\\partial^{2} LL}{\\partial \\lambda^{2}} \\right)=-\\mathbb{E}\\left( -\\frac{\\sum_{i=1}^{n}X_{i}}{\\lambda^{2}}+\\frac{\\sum_{i=1}^{n}X_{i}+n}{(\\lambda +1)^{2}} \\right)=\\frac{n}{\\lambda^{2}}-\\mathbb{E}\\left( \\frac{\\sum_{i=1}^{n}X_{i}+n}{(\\lambda+1)^{2}} \\right) = \\frac{n}{\\lambda^{2}}-\\mathbb{E}\\left( \\frac{\\sum_{i=1}^{n}X_{i}}{(\\lambda+1)^{2}} \\right)-\\mathbb{E}\\left( \\frac{n}{(\\lambda+1)^{2}} \\right)=\\frac{n}{\\lambda^{2}}-\\frac{n}{(\\lambda+1)^{2}}-\\frac{n}{(\\lambda+1)^{2}}=\\frac{n(\\lambda^{2}+1)}{(\\lambda+1)^{2}\\cdot \\lambda^{2}}$\n",
        "\n",
        "Тогда $\\sqrt{n\\cdot I\\left(  \\widehat{\\theta}(\\overrightarrow{X})\\right)}\\left( \\widehat{\\theta}(\\overrightarrow{X})-\\theta \\right)\\sim N(0,1)$\n",
        "\n",
        "Выбираем $X_{\\alpha}$: $\\mathrm{Ф}(X_{\\alpha})=1-\\frac{\\alpha_{1}}{2}=1-\\frac{0.02}{2}=0.99 \\to X_{0.99}=2.33$\n",
        "\n",
        "$А.Д.И. \\left[ \\overline{X}-\\frac{X_{0.99}}{\\sqrt{n\\cdot \\frac{n(\\widehat{\\lambda^{2}}+1)}{(\\widehat{\\lambda}+1)^{2}\\cdot \\widehat{\\lambda^{2}}}}};\\overline{X}+\\frac{X_{0.99}}{\\sqrt{n\\cdot \\frac{n(\\widehat{\\lambda^{2}}+1)}{(\\widehat{\\lambda}+1)^{2}\\cdot \\widehat{\\lambda^{2}}}}} \\right]\\to 3.58\\le \\lambda\\le 4.42$\n",
        "\n",
        "$3.58\\le \\lambda\\le 4.42$ - Асимп. довер. интервал параметра $\\lambda$.\n"
      ],
      "metadata": {
        "id": "thiyFmFFjD2I"
      }
    },
    {
      "cell_type": "markdown",
      "source": [
        "#### h.e) Используя гистограмму частот, построить критерий значимости $\\mathcal{X^{2}}$ проверки простой гипотезы согласия с геометрическим распределением с параметром $\\lambda_{0}$. Проверить гипотезу на уровень значимости $\\alpha_{1}$. Вычислить наибольшее значение уровня значимости, на котором ещё нет оснований отвергнуть данную гипотезу.\n"
      ],
      "metadata": {
        "id": "dZrG9ltptGMs"
      }
    },
    {
      "cell_type": "code",
      "source": [
        "bins =  [[0, 1], [2, 3], [4, 5], [6, 7], [8, 9]]\n",
        "obs_freq = [0] * len(bins)\n",
        "lam = 4\n",
        "a_1 = 0.02\n",
        "exp_freq = [0] * len(bins)\n",
        "for i in range(len(bins)):\n",
        "  for elem in bins[i]:\n",
        "    obs_freq[i] += data.count(elem)\n",
        "    exp_freq[i] += n * lam ** elem / (1 + lam) ** (elem + 1)\n",
        "    print(obs_freq[i], 'from', elem, 'geom:', exp_freq[i])\n",
        "\n",
        "chi_list = (np.array(obs_freq) - np.array(exp_freq)) ** 2 / np.array(exp_freq)\n",
        "chi_stat = np.sum(chi_list)\n",
        "print(\"Статистика Xи квадрат:\", chi_stat)\n",
        "hip = scistat.chi2.ppf(1 - a_1, df=(len(obs_freq) - 1))\n",
        "print(\"H_a =\", hip)\n",
        "\n",
        "if hip < chi_stat:\n",
        "  print(\"Отвергаем гипотезу\",  hip, '<' , chi_stat)\n",
        "else:\n",
        "  print(\"Принимаем гипотезу\",  hip ,'>', chi_stat)\n",
        "\n",
        "\n",
        "p_value = scistat.chi2.sf(chi_stat, (len(obs_freq) - 1))\n",
        "print(\"p_value = \", p_value)"
      ],
      "metadata": {
        "colab": {
          "base_uri": "https://localhost:8080/"
        },
        "id": "ygFVou36YXVc",
        "outputId": "da62c1c0-e36d-4387-a84f-9c3e2c7d57d7"
      },
      "execution_count": 31,
      "outputs": [
        {
          "output_type": "stream",
          "name": "stdout",
          "text": [
            "1 from 0 geom: 10.0\n",
            "3 from 1 geom: 18.0\n",
            "8 from 2 geom: 6.4\n",
            "19 from 3 geom: 11.52\n",
            "11 from 4 geom: 4.096\n",
            "18 from 5 geom: 7.3728\n",
            "3 from 6 geom: 2.62144\n",
            "8 from 7 geom: 4.718592\n",
            "1 from 8 geom: 1.6777216\n",
            "2 from 9 geom: 3.01989888\n",
            "Статистика Xи квадрат: 35.30132465278646\n",
            "H_a = 11.667843403834778\n",
            "Отвергаем гипотезу 11.667843403834778 < 35.30132465278646\n",
            "p_value =  4.0281812989122667e-07\n"
          ]
        }
      ]
    },
    {
      "cell_type": "markdown",
      "source": [
        "#### h.f)Построить критерий значимости  $\\mathcal{X^{2}}$ проверки сложной гипотезы согласия с геометрическим распределением. Проверить гипотезу по уровню значимости $\\alpha_{1}$.Вычислить наибольшее значение уровня значимости, на котором ещё нет оснований отвергнуть данную гипотезу.\n"
      ],
      "metadata": {
        "id": "hcEIyMkuxAR4"
      }
    },
    {
      "cell_type": "code",
      "source": [
        "bins =  [[0, 1], [2, 3], [4, 5], [6, 7], [8, 9]]\n",
        "obs_freq = [0] * len(bins)\n",
        "lam = mean\n",
        "a_1 = 0.02\n",
        "exp_freq = [0] * len(bins)\n",
        "for i in range(len(bins)):\n",
        "  for elem in bins[i]:\n",
        "    obs_freq[i] += data.count(elem)\n",
        "    exp_freq[i] += n * lam ** elem / (1 + lam) ** (elem + 1)\n",
        "    print(obs_freq[i], 'from', elem, 'geom:', exp_freq[i])\n",
        "\n",
        "chi_list = (np.array(obs_freq) - np.array(exp_freq)) ** 2 / np.array(exp_freq)\n",
        "chi_stat = np.sum(chi_list)\n",
        "print(\"Статистика Xи квадрат:\", chi_stat)\n",
        "hip = scistat.chi2.ppf(1 - a_1, df=(len(obs_freq) - 1))\n",
        "print(\"H_a =\", hip)\n",
        "\n",
        "if hip < chi_stat:\n",
        "  print(\"Отвергаем гипотезу\",  hip, '<' , chi_stat)\n",
        "else:\n",
        "  print(\"Принимаем гипотезу\",  hip ,'>', chi_stat)\n",
        "\n",
        "\n",
        "p_value = scistat.chi2.sf(chi_stat, (len(obs_freq) - 1))\n",
        "print(\"p_value = \", p_value)"
      ],
      "metadata": {
        "colab": {
          "base_uri": "https://localhost:8080/"
        },
        "id": "0nuvbiDFZW_6",
        "outputId": "4defdc06-e216-4005-e168-e334fc0d00eb"
      },
      "execution_count": 32,
      "outputs": [
        {
          "output_type": "stream",
          "name": "stdout",
          "text": [
            "1 from 0 geom: 10.0\n",
            "3 from 1 geom: 18.0\n",
            "8 from 2 geom: 6.4\n",
            "19 from 3 geom: 11.52\n",
            "11 from 4 geom: 4.096\n",
            "18 from 5 geom: 7.3728\n",
            "3 from 6 geom: 2.62144\n",
            "8 from 7 geom: 4.718592\n",
            "1 from 8 geom: 1.6777216\n",
            "2 from 9 geom: 3.01989888\n",
            "Статистика Xи квадрат: 35.30132465278646\n",
            "H_a = 11.667843403834778\n",
            "Отвергаем гипотезу 11.667843403834778 < 35.30132465278646\n",
            "p_value =  4.0281812989122667e-07\n"
          ]
        }
      ]
    },
    {
      "cell_type": "markdown",
      "source": [
        "### Задание 2\n",
        "В результате эксперимента получены данные:\n",
        "3.46, 3.94, 1.10, 6.68, 7.89, 1.74, 3.66, 6.75, 7.52, 0.57, 6.37, 4.33, 1.93, 4.56, 7.05, -0.61, 8.75, 8.68, 6.37, 5.35, 5.38, 8.04, 2.99, 6.74, 4.58, -0.33, 6.32, 7.94, 1.65, 5.94, 4.07, 3.46, 7.22, 4.71, 9.06, 12.22, 2.41, 8.47, -1.17, 6.76, 3.03, 6.14, 5.29, 5.64, 2.04, 2.82, 11.03, -0.98, 4.25, 7.38"
      ],
      "metadata": {
        "id": "OMnpHk2fyi-a"
      }
    },
    {
      "cell_type": "markdown",
      "source": [
        "#### a) Построить вариационный ряд, эмпирическую функцию распределения,гистограмму и полигон частот с шагом h."
      ],
      "metadata": {
        "id": "VbmN05n61mEq"
      }
    },
    {
      "cell_type": "code",
      "source": [
        "data1 = [3.46, 3.94, 1.10, 6.68, 7.89, 1.74, 3.66, 6.75, 7.52, 0.57, 6.37, 4.33, 1.93, 4.56, 7.05, -0.61, 8.75, 8.68, 6.37, 5.35, 5.38, 8.04, 2.99, 6.74, 4.58, -0.33, 6.32, 7.94, 1.65, 5.94, 4.07, 3.46, 7.22, 4.71, 9.06, 12.22, 2.41, 8.47, -1.17, 6.76, 3.03, 6.14, 5.29, 5.64, 2.04, 2.82, 11.03, -0.98, 4.25, 7.38]\n",
        "sorted_data_1 = np.sort(data)\n",
        "summ=np.sum(data)\n",
        "variation_range_1 = np.unique(sorted_data_1)\n",
        "print(sorted_data_1)\n",
        "print(summ)"
      ],
      "metadata": {
        "colab": {
          "base_uri": "https://localhost:8080/"
        },
        "id": "9CBjjWHPy0we",
        "outputId": "b0f160ef-8ace-4268-ed67-c426c569a084"
      },
      "execution_count": 43,
      "outputs": [
        {
          "output_type": "stream",
          "name": "stdout",
          "text": [
            "[0.000e+00 1.000e-02 1.000e-02 3.000e-02 1.000e-01 1.200e-01 1.300e-01\n",
            " 1.400e-01 1.600e-01 2.200e-01 2.400e-01 6.500e-01 6.600e-01 8.100e-01\n",
            " 8.300e-01 9.900e-01 1.060e+00 1.080e+00 1.340e+00 1.340e+00 1.480e+00\n",
            " 1.680e+00 1.760e+00 1.820e+00 1.830e+00 2.040e+00 2.060e+00 2.140e+00\n",
            " 2.160e+00 2.260e+00 2.320e+00 2.410e+00 2.860e+00 3.130e+00 3.200e+00\n",
            " 3.220e+00 4.060e+00 4.380e+00 4.790e+00 5.640e+00 6.180e+00 6.330e+00\n",
            " 6.970e+00 7.090e+00 1.098e+01 1.189e+01 1.334e+01 1.368e+01 1.472e+01\n",
            " 2.955e+01]\n",
            "185.89000000000001\n"
          ]
        }
      ]
    },
    {
      "cell_type": "code",
      "source": [
        "emp_distr_func = np.arange(1, n + 1) / n\n",
        "plt.subplot(312)\n",
        "\n",
        "x = np.concatenate(([sorted_data_1[0]], sorted_data_1))\n",
        "y = np.concatenate(([0], emp_distr_func))\n",
        "\n",
        "\n",
        "plt.step(x, y, where='post')\n",
        "plt.xlabel('Значение')\n",
        "plt.ylabel('Вероятность')\n",
        "plt.title('Эмпирическая функция')\n",
        "plt.show()"
      ],
      "metadata": {
        "colab": {
          "base_uri": "https://localhost:8080/",
          "height": 211
        },
        "id": "NFbSKTiy1hkZ",
        "outputId": "10984fa5-d44d-4254-aadf-83a19a315c9a"
      },
      "execution_count": 44,
      "outputs": [
        {
          "output_type": "display_data",
          "data": {
            "text/plain": [
              "<Figure size 640x480 with 1 Axes>"
            ],
            "image/png": "[encoded data removed]"
          },
          "metadata": {}
        }
      ]
    },
    {
      "cell_type": "code",
      "source": [
        "h=1.2\n",
        "bins = np.arange(min(data), max(data) + h, h)\n",
        "plt.hist(data, bins=bins, edgecolor='black', alpha=0.5, label='Гистограмма')\n",
        "plt.title(\"Гистограмма и полигон частот\")\n",
        "plt.xlabel(\"Интервалы\")\n",
        "plt.ylabel(\"Частота\")\n",
        "\n",
        "hist, _ = np.histogram(data, bins=bins)\n",
        "bin_centers = 0.5 * (bins[1:] + bins[:-1])\n",
        "plt.plot(bin_centers, hist, color='red', marker='o', linestyle='-', label='Полигон')\n",
        "\n",
        "plt.legend()\n",
        "plt.show()"
      ],
      "metadata": {
        "colab": {
          "base_uri": "https://localhost:8080/",
          "height": 472
        },
        "id": "fuhc7FHO2j05",
        "outputId": "da0daa8d-9615-4cf7-b3ce-6f0375289a15"
      },
      "execution_count": 46,
      "outputs": [
        {
          "output_type": "display_data",
          "data": {
            "text/plain": [
              "<Figure size 640x480 with 1 Axes>"
            ],
            "image/png": "[encoded data removed]"
          },
          "metadata": {}
        }
      ]
    },
    {
      "cell_type": "markdown",
      "source": [
        "#### b) Вычислить выборочные аналоги следующих числовых характеристик: (i)математическое ожидание, (ii)дисперсия, (iii)медианы, (iv)асимметрии, (v)эксцесса (vi) вероятности $\\mathrm{P}(X\\in \\left[ a,b \\right])$"
      ],
      "metadata": {
        "id": "RyBb32GD22wp"
      }
    },
    {
      "cell_type": "code",
      "source": [
        "c = 3.8\n",
        "d = 6.8\n",
        "mean = np.mean(data)  # Выборочное математическое ожидание\n",
        "variance = np.var(data)  # Дисперсия\n",
        "deviation=np.std(data) #СКО\n",
        "median = np.median(data1)  # Медиана\n",
        "skewness = stats.skew(data)  # Асимметрия\n",
        "kurtosis = stats.kurtosis(data)  # Эксцесс\n",
        "probability = len([x for x in data if c <= x <= d]) / len(data)  # Вероятность\n",
        "print(\"Мат.ожидание=\",mean)\n",
        "print(\"Дисперсия=\",variance)\n",
        "print(\"Выборочное стандартное отклонение=\",deviation)\n",
        "print(\"Медиана=\",median)\n",
        "print(\"Асимметрия=\",skewness)\n",
        "print(\"Эксцесс=\",kurtosis)\n",
        "print(\"Вероятность попадания в промежуток=\",probability)\n"
      ],
      "metadata": {
        "colab": {
          "base_uri": "https://localhost:8080/"
        },
        "id": "ubdrSTdT26la",
        "outputId": "e1074501-72c8-4c1b-de28-8c4fc985b5b8"
      },
      "execution_count": 48,
      "outputs": [
        {
          "output_type": "stream",
          "name": "stdout",
          "text": [
            "Мат.ожидание= 3.7178000000000004\n",
            "Дисперсия= 27.798093159999997\n",
            "Выборочное стандартное отклонение= 5.272389701074836\n",
            "Медиана= 5.32\n",
            "Асимметрия= 2.82686636230619\n",
            "Эксцесс= 9.643013444211036\n",
            "Вероятность попадания в промежуток= 0.12\n",
            "3.7178000000000004\n"
          ]
        }
      ]
    },
    {
      "cell_type": "markdown",
      "source": [
        "#### c)В предположении, что исходные наблюдения являются выборкой из нормального распределения, построить ОМП и ОММ параметра $(a,\\sigma^{2})$.Найти смещение оценкок.\n",
        "\n",
        "\n",
        "$$\n",
        "\\begin{aligned}\n",
        "& P_\\theta(x)=\\frac{1}{\\sqrt{2 \\pi \\sigma}} \\exp \\left(-\\frac{(x-a)^2}{2 \\sigma^2}\\right) \\\\\n",
        "& L(\\vec{X}, \\theta)= \\prod_{i=1}^n \\frac{1}{\\sqrt{2 \\pi \\sigma^2}} \\exp \\left(-\\frac{(x-a)^2}{2 \\sigma^2}\\right)=(2 \\pi)^{-\\frac{n}{2}} \\sigma^{-n} \\exp \\left(-\\frac{1}{2 \\sigma^2} \\sum_{i=1}^n\\left(x_i-a\\right)^2\\right) \\\\\n",
        "& L L(\\vec{X}, \\theta)=-\\frac{n}{2} \\ln (2 \\pi)-n \\ln (\\sigma)-\\frac{1}{2 \\sigma^2} \\sum_{i=1}^n\\left(x_i-a\\right)^2 \\\\\n",
        "& \\frac{\\partial L L}{\\partial a}=- \\frac{1}{\\sigma^2}\\left(\\sum_{i=1}^n x_i-n a\\right)=0 \\\\\n",
        "& \\sum_{i=1}^n x_i-n a=0 \\\\\n",
        "& na=\\sum_{i=1}^n x_i \\Rightarrow \\hat{\\theta}=\\hat{a}=\\bar{X}=3.7178 \\\\\n",
        "& \\frac{\\partial L L}{\\partial \\sigma}=-\\frac{n}{\\sigma}+\\frac{1}{\\sigma^3} \\sum_{i=1}^n\\left(x_i-a\\right)^2=0 \\\\\n",
        "& \\sigma^2=\\frac{1}{n} \\sum_{i=1}^n\\left(x_i-a\\right)^2 \\\\\n",
        "& \\hat{\\theta}= \\widehat{\\sigma}^2=S^2=5.272\n",
        "\\end{aligned}\n",
        "$$\n",
        "\n",
        "$\\hat{\\theta}=\\left(\\hat{a}, \\widehat{\\sigma^2}\\right)=\\left(\\bar{X}, S^2\\right)=( 3.7178,5.272)$\n",
        "\n",
        "ОММ: \\\\\n",
        "$$\n",
        "\\begin{aligned}\n",
        "& \\mathbb{E} X_1=a \\quad M_1=\\bar{X} \\\\\n",
        "& \\mathbb{E} X_2=a^2+\\sigma^2 \\quad M_2=\\frac{1}{n} \\sum_{i=1}^n x_i^2=\\overline{x^2} \\\\\n",
        "& D X_1=\\sigma^2=\\mathbb{E} X_1^2-\\left(\\mathbb{E} X_1^2\\right) \\\\\n",
        "& \\left\\{\\begin{array} { l }\n",
        "{ \\mathbb { E } X _ { 1 } = M _ { 1 } } \\\\\n",
        "{ \\mathbb { E } X _ { 1 } ^ { 2 } = M _ { 2 } }\n",
        "\\end{array} \\Rightarrow \\left\\{\\begin{array}{l}\n",
        "a=\\bar{X} \\\\\n",
        "a^2+\\sigma^2=\\bar{x}^2\n",
        "\\end{array} \\quad \\Rightarrow \\quad \\tilde{a}=\\bar{X}\\right.\\right. \\\\\n",
        "& \\tilde{\\theta}=\\left(\\tilde{a}, \\tilde{\\sigma}^2\\right)=\\left(\\overline{X^2},S^2\\right)=( 3.7178,5.272).\n",
        "\\end{aligned}\n",
        "$$\n",
        "Находим смещение каждой оценки\n",
        "$$\n",
        "\\mathbb{E}_\\theta \\bar{X}=\\mathbb{E}_\\theta\\left(\\frac{1}{n} \\sum_{i=1}^n x_i\\right)=\\frac{1}{n} \\sum_{i=1}^n \\mathbb{E}_\\theta x_1=a=3.7178\n",
        "$$\n",
        "Выборочное среднее несмещенная оценка, $\\hat{a}=\\overline{X}$ - НРМД оценка\n",
        "\n",
        "\n",
        "$T=(\\sum_{i=1}^nx_i,\\sum_{i=1}^nx_i^2)$ - МДС и ПДС, так как нормальное распределение относится к экспоненциальному семейству.\n",
        "\\begin{aligned}\n",
        "& \\mathbb{E}_\\theta S^2=\\mathbb{E}\\left(\\frac{1}{n} \\sum_{i=1}^n\\left(x_i-\\bar{x}\\right)^2\\right)=\\left[\\begin{array}{ll}\n",
        "Y_i=X_i-\\mathbb{E}_{x_i} ; & \\mathbb{E}_\\theta Y_i=0 \\\\\n",
        "\\mathbb{D}_\\theta Y_i=\\sigma^2\n",
        "\\end{array}\\right]= \\\\\n",
        "& =\\mathbb{E}_\\theta\\left(\\bar{Y}^2-(\\bar{Y})^2\\right)=\\mathbb{E}_\\theta \\bar{Y}^2-\\mathbb{E}_\\theta\\left(\\overline{Y^2}\\right) \\\\\n",
        "& \\mathbb{E}_\\theta \\overline{Y^2}=\\mathbb{E}_\\theta\\left(\\frac{1}{n} \\sum_{i=1}^n Y_i^2\\right)=\\frac{1}{n} \\sum \\mathbb{E}_i^2=\\frac{1}{n} \\sum_{i=1}^n \\sigma^2=\\sigma^2 \\\\\n",
        "& \\mathbb{E}_\\theta(\\bar{Y})^2=\\mathbb{E}_\\theta\\left(\\frac{1}{n} \\sum_{i=1}^n Y_i\\right)^2=\\frac{1}{n^2} \\mathbb{E}_\\theta\\left(\\sum_{i=1}^n \\sum_{j=1}^n Y_i Y_j\\right)=\\frac{1}{n^2} \\sum_{i=1}^n \\sum_{j=1}^n \\mathbb{E}_\\theta Y_i Y_j \\\\\n",
        "& \\mathbb{E}_\\theta Y_i Y_i=\\left\\{\\begin{array}{l}\n",
        "i=j ; \\quad \\mathbb{E}_\\theta Y_i^2=\\sigma^2 \\\\\n",
        "i \\neq j ; \\quad \\mathbb{E}_\\theta Y_i \\mathbb{E}_\\theta Y_i=0\n",
        "\\end{array}\\right.\n",
        "\\end{aligned}\n",
        "$\n",
        "\\frac{1}{n^2}\\left(n \\sigma^2\\right)=\\frac{\\sigma^2}{n}=\\mathbb{E}_\\theta(\\bar{Y})^2$ смещенная оценка\n",
        "\n",
        "$\\mathbb{E}_\\theta S^2=\\sigma^2-\\frac{\\sigma^2}{n}=\\frac{(n-1)}{n} \\sigma^2$ смещенная оценка\n",
        "$$\n",
        "\\left(S^{\\prime 2}\\right)=\\frac{n}{n-1} S^2 ; \\quad \\mathbb{E}_\\theta\\left(S^{\\prime}\\right)^2=\\mathbb{E}_0\\left(\\frac{n}{n-1} S^2\\right)=\\frac{n}{n-1} \\sigma^2=\\sigma^2\n",
        "$$\n",
        "$\\mathbb{E}_\\Theta(S^2)-\\sigma^2=\\cfrac{(n-1)\\sigma^2}{n}-\\sigma^2=-\\cfrac{\\sigma^2}{n}$\n",
        "\n",
        "$\\hat{\\theta}=\\left(\\bar{X},\\frac{1}{n-1} S^2\\right)=( 3.7178, -0.10)$"
      ],
      "metadata": {
        "id": "Hs9QJNAT7Hwg"
      }
    },
    {
      "cell_type": "markdown",
      "source": [
        "#### d)Построить доверительные интервалы уровня значимости $\\alpha_2$ для параметров $(a,\\sigma^{2})$.\n",
        "1. Для параметра $a$:\n",
        "\n",
        "$G(\\overrightarrow{X},a)=\\sqrt{n-1}\\frac{\\overline{X}-a}{S} \\sim S_{n-1}$\n",
        "\n",
        "$\\mathbb{P}_{\\theta}\\left(\\sqrt{n-1}\\frac{\\overline{X}-a}{S} \\in [x_{1\\alpha},x_{2\\alpha}]\\right)=1-\\alpha=S_{n-1}(x_{2\\alpha})-S_{n-1}(x_{1\\alpha})=S_{n-1}(x_{\\alpha})-(1-S_{n-1}(x_{\\alpha}))=2S_{n-1}(x_{\\alpha})-1=1-\\alpha$\n",
        "\n",
        "$x_{\\alpha}: S_{n-1}(x_{\\alpha})=1-\\frac{\\alpha}{2}$\n",
        "\n",
        "$\\mathbb{P}_{\\theta}\\left(-x_{\\alpha} \\leq \\sqrt{n-1}\\frac{\\overline{X}-a}{S} \\leq x_{\\alpha}\\right)=1-\\alpha$\n",
        "\n",
        "$\\mathbb{P}_{\\theta}\\left(\\overline{X}-\\frac{x_{\\alpha}S}{\\sqrt{n-1}} \\leq a \\leq \\overline{X}+\\frac{x_{\\alpha}S}{\\sqrt{n-1}}\\right)$\n",
        "\n",
        "$\\left[\\overline{X}-\\frac{x_{\\alpha}S}{\\sqrt{n-1}}; \\overline{X}+\\frac{x_{\\alpha}S}{\\sqrt{n-1}}\\right] \\ni a$\n",
        "\n",
        "Подставим значения:\n",
        "\n",
        "$\\left[3.7178-\\frac{2.00}{\\sqrt{49}}; 3.7178+\\frac{2.00}{\\sqrt{49}}\\right] \\implies [3.432;4] \\ni a$\n",
        "\n",
        "2. Теперь для параметра $\\sigma^{2}$:\n",
        "\n",
        "$G(\\overrightarrow{X},\\sigma^{2})=\\frac{nS^{2}}{\\sigma^{2}} \\sim \\chi_{n-1}^{2}$\n",
        "\n",
        "$\\mathbb{P}_{\\theta}\\left(\\frac{nS^{2}}{\\sigma^{2}} \\in [x_{1\\alpha},x_{2\\alpha}]\\right)=1-\\alpha=K_{n-1}(x_{2\\alpha})-K_{n-1}(x_{1\\alpha})=1-\\frac{\\alpha}{2}-\\frac{\\alpha}{2}=1-\\alpha$\n",
        "\n",
        "$\\begin{equation*} \\begin{cases}\n",
        "x_{1\\alpha}: K_{n-1}(x_{1\\alpha})=\\frac{\\alpha}{2} \\\\\n",
        "x_{2\\alpha}: K_{n-1}(x_{2\\alpha})=1-\\frac{\\alpha}{2}\n",
        "\\end{cases} \\end{equation*}$\n",
        "\n",
        "$\\mathbb{P}_{\\theta}\\left(x_{1\\alpha} \\leq \\frac{nS^{2}}{\\sigma^{2}} \\leq x_{2\\alpha}\\right)=1-\\alpha$\n",
        "\n",
        "$\\mathbb{P}_{\\theta}\\left(\\frac{nS^{2}}{x_{2\\alpha}} \\leq \\sigma^{2} \\leq \\frac{nS^{2}}{x_{1\\alpha}}\\right)$\n",
        "\n",
        "$\\left[\\frac{nS^{2}}{x_{2\\alpha}}; \\frac{nS^{2}}{x_{1\\alpha}}\\right] \\ni \\sigma^{2}$\n",
        "\n",
        "Подставим значения\n",
        "\n",
        "$\\left[\\frac{50\\cdot5.272}{66.33};\\frac{50\\cdot5.272}{33.92}\\right] \\implies [3.974;7.771] \\ni \\sigma^{2}$"
      ],
      "metadata": {
        "id": "bBzTdeiMXIZN"
      }
    },
    {
      "cell_type": "markdown",
      "source": [
        "#### e)С использованием теоремы Колмогорова построить критерий значимости проверки простой гипотезы согласия с нормальным распределением с параметрами $(a_{0},\\sigma_{0}^{2})$. Проверить гипотезу на уровне значимости $\\alpha_{2}$. Вычислить наибольшее значение уровня значимости, на котором еще нет оснований отвергнуть данную гипотезу.\n"
      ],
      "metadata": {
        "id": "8Dyc_1xzewiv"
      }
    },
    {
      "cell_type": "code",
      "source": [
        "from scipy.stats import kstest, norm\n",
        "\n",
        "a0 = 5\n",
        "sigma0 = 3\n",
        "\n",
        "\n",
        "ks_statistic, ks_p_value = kstest(data, 'norm', args=(a0, sigma0))\n",
        "\n",
        "alpha_2 = 0.05\n",
        "\n",
        "# Проверка гипотезы на уровне значимости alpha_2\n",
        "if ks_p_value < alpha_2:\n",
        "    print(\"Отвергаем нулевую гипотезу\")\n",
        "else:\n",
        "    print(\"Принимаем нулевую гипотезу\")\n",
        "\n",
        "# Нахождение наибольшего уровня значимости, на котором гипотеза принимается\n",
        "max_alpha_accept = 1.0\n",
        "while ks_p_value >= alpha_2:\n",
        "    max_alpha_accept = alpha_2\n",
        "    alpha_2 += 0.01\n",
        "    ks_statistic, ks_p_value = kstest(data, 'norm', args=(a0, sigma0))\n",
        "\n",
        "print(f\"Наибольший уровень значимости, на котором еще нет оснований отвергнуть гипотезу: {max_alpha_accept}\")\n"
      ],
      "metadata": {
        "colab": {
          "base_uri": "https://localhost:8080/"
        },
        "id": "l4mkRkSdbFQa",
        "outputId": "717c21cb-f050-460a-d6b3-feb9102c05d8"
      },
      "execution_count": 49,
      "outputs": [
        {
          "output_type": "stream",
          "name": "stdout",
          "text": [
            "Отвергаем нулевую гипотезу\n",
            "Наибольший уровень значимости, на котором еще нет оснований отвергнуть гипотезу: 1.0\n"
          ]
        }
      ]
    },
    {
      "cell_type": "markdown",
      "source": [
        "#### f)Используя гистограмму частот, построить критерий значимости $\\mathcal{X^{2}}$ проверки простой гипотезы согласия с нормальным распределением с параметрами $(a_{0},\\sigma_{0}^{2})$. Проверить гипотезу на уровне значимости $\\alpha_{2}$. Вычислить наибольшее значение уровня значимости, на котором ещё нет оснований отвергнуть данную гипотезу.\n",
        "\n",
        "$P_{i}=P_{H_{0}}=(X\\in I_{i})=\\sum_{k\\in I_{i}}\\frac{1}{\\sqrt{2\\pi}\\sigma}\\cdot exp\\left(-\\frac{(x-a)^{2}}{2\\sigma^{2}}\\right)$\n",
        "\n",
        "$a_0=5 \\:\\sigma_0=3\\:\\alpha_2=0.05$  \n",
        "$I_{1}=\\left(0, 0.99 \\right], n_{1}=16$  \n",
        "$P_{1}=\\frac{1}{\\sqrt{2\\pi}}exp\\Biggl(-\\frac{(0-1)^2}{50}\\Biggr)-\\frac{1}{\\sqrt{2\\pi}}exp\\Biggl(-\\frac{(0.99-1)^2}{50}\\Biggr)=1.3646178577723924e-05\n",
        "\\:nP_{1}=0.00021833$  \n",
        "\n",
        "\n",
        "$I_{2}=\\left(1.06,11.89\\right], n_{2}=30$  \n",
        "$P_{2}=\\frac{1}{\\sqrt{2\\pi}}exp\\Biggl(-\\frac{(1.06-1)^2}{50}\\Biggr)-\\frac{1}{\\sqrt{2\\pi}}exp\\Biggl(-\\frac{(11.89-1)^2}{50}\\Biggr)=-1.364\\: nP_{2}=-0.00040937$  \n",
        "  \n",
        "Критерий $\\mathcal{X}^{2}: \\mathcal{X}^{2}_{набл}=\\sum_{i=1}^{2}\\frac{(n_{i}-np_{i})^{2}}{np_{i}} =-94.215$  \n",
        "$\\mathcal{X}^{2}_{N-1,1-\\alpha_{1}}=\\mathcal{X}^{2}_{1,0.95}\\simeq 34.76$  \n",
        "$\\mathcal{X}^{2}\\lt \\mathcal{X}^{2}_{1,0.95}\\implies$ по критерию Пирсона мы принимаем гипотезу"
      ],
      "metadata": {
        "id": "R2tggMyZju0o"
      }
    },
    {
      "cell_type": "markdown",
      "source": [
        "#### g)Построить критерий значимости  $\\mathcal{X^{2}}$ проверки сложной гипотезы согласия с показательным распределением. Проверить гипотезу по уровню значимости $\\alpha_{2}$.Вычислить наибольшее значение уровня значимости, на котором ещё нет оснований отвергнуть данную гипотезу.\n"
      ],
      "metadata": {
        "id": "VCXT-_ZEqy1r"
      }
    },
    {
      "cell_type": "code",
      "source": [
        "import matplotlib.pyplot as plt\n",
        "import math\n",
        "import numpy as np\n",
        "\n",
        "n = 50\n",
        "\n",
        "\n",
        "intervals = [[] for _ in range(2)]\n",
        "\n",
        "for i in range(len(sorted_data_1)):\n",
        "  if (-11 < sorted_data_1[i] < 1):\n",
        "    intervals[0].append(sorted_data_1[i])\n",
        "  elif (1 < sorted_data_1[i] < 12):\n",
        "    intervals[1].append(sorted_data_1[i])\n",
        "\n",
        "print('\\nПолучившиеся интервалы:\\n')\n",
        "for j in range(len(intervals)):\n",
        "  print(intervals[j])\n",
        "print()\n",
        "\n",
        "def P_intervals(a, b):\n",
        "  a0 = 3.7178\n",
        "  return (1/( math.sqrt(2*math.pi*5.272) ) * math.exp(-( ((b - a0))**2 )/2*5.272) - 1/( math.sqrt(2*math.pi*5.272) ) * math.exp(-( ((a - a0))**2 )/2*5.272))\n",
        "\n",
        "P_array = [P_intervals(-10.56, 0.465), P_intervals(0.465, 11.49)]\n",
        "n_array = [len(intervals[0]), len(intervals[1])]\n",
        "\n",
        "\n",
        "\n",
        "print(f\"interval = {intervals[0]}:\\n  \\t P_1 = {P_array[0]}, \\t n_1 = {n_array[0]} \\t n_1 * P_1 = {n_array[0] * P_array[0]}\\n\")\n",
        "print(f\"interval = {intervals[1]}:\\n  \\t P_2 = {P_array[1]}, \\t n_2 = {n_array[1]} \\t n_2 * P_2 = {n_array[1] * P_array[1]}\\n\")\n",
        "\n",
        "\n",
        "print('\\n\\n\\n')\n",
        "\n",
        "Summ = []\n",
        "for i in range(len(n_array)):\n",
        "  Summ.append( ((n_array[i] - n*P_array[i])**2) / (n*P_array[i]) )\n",
        "\n",
        "print('X^2 набл = ', np.sum(Summ))"
      ],
      "metadata": {
        "colab": {
          "base_uri": "https://localhost:8080/"
        },
        "id": "CNEBwoXunvbB",
        "outputId": "df43f092-8bd8-4915-aed0-ab0824e34f1c"
      },
      "execution_count": 54,
      "outputs": [
        {
          "output_type": "stream",
          "name": "stdout",
          "text": [
            "\n",
            "Получившиеся интервалы:\n",
            "\n",
            "[0.0, 0.01, 0.01, 0.03, 0.1, 0.12, 0.13, 0.14, 0.16, 0.22, 0.24, 0.65, 0.66, 0.81, 0.83, 0.99]\n",
            "[1.06, 1.08, 1.34, 1.34, 1.48, 1.68, 1.76, 1.82, 1.83, 2.04, 2.06, 2.14, 2.16, 2.26, 2.32, 2.41, 2.86, 3.13, 3.2, 3.22, 4.06, 4.38, 4.79, 5.64, 6.18, 6.33, 6.97, 7.09, 10.98, 11.89]\n",
            "\n",
            "interval = [0.0, 0.01, 0.01, 0.03, 0.1, 0.12, 0.13, 0.14, 0.16, 0.22, 0.24, 0.65, 0.66, 0.81, 0.83, 0.99]:\n",
            "  \t P_1 = 1.3400633793649058e-13, \t n_1 = 16 \t n_1 * P_1 = 2.1441014069838493e-12\n",
            "\n",
            "interval = [1.06, 1.08, 1.34, 1.34, 1.48, 1.68, 1.76, 1.82, 1.83, 2.04, 2.06, 2.14, 2.16, 2.26, 2.32, 2.41, 2.86, 3.13, 3.2, 3.22, 4.06, 4.38, 4.79, 5.64, 6.18, 6.33, 6.97, 7.09, 10.98, 11.89]:\n",
            "  \t P_2 = -1.3400633793649058e-13, \t n_2 = 30 \t n_2 * P_2 = -4.0201901380947176e-12\n",
            "\n",
            "\n",
            "\n",
            "\n",
            "\n",
            "X^2 набл =  -96114856941442.03\n"
          ]
        }
      ]
    },
    {
      "cell_type": "markdown",
      "source": [
        "$\\mathcal{X}^{2}_{N-1,1-\\alpha_{1}}=\\mathcal{X}^{2}_{1,0.95}\\simeq 0.00393$  \n",
        "$\\mathcal{X}^{2}> \\mathcal{X}^{2}_{1,0.95}$ - отвергаем гипотезу (критерий Пирсона)   \n",
        "$F^{-1}_{\\mathcal{X}^2_1}(1-\\alpha)=\\mathcal{X}^2$    \n",
        "$\\alpha=1-F_{\\mathcal{X}^2_1}(\\mathcal{X}^2)=5.9\\cdot 10^{-6}$\n",
        "\n"
      ],
      "metadata": {
        "id": "PxSZhmy2oqru"
      }
    },
    {
      "cell_type": "markdown",
      "source": [
        "#### h) Построить наиболее мощный критерий проверки простой гипотезы о нормальности с параметром $(a,\\sigma^{2})=(a_{0},\\sigma_{0}^{2})$ при альтернативе нормальности с параметром $(a,\\sigma^{2})=(a_{1},\\sigma_{1}^{2})$. Проверить гипотезу на уровне значимости $\\alpha_2$. Что получится, если поменять местами основную и альтернативную гипотезы?\n",
        "\n",
        "\n",
        "$\\alpha_2 = 0.05$ \\\\\n",
        "$\\mathcal{a}_0 = 5$ \\\\\n",
        "$\\mathcal{a}_1 = -5$ \\\\\n",
        "$\\sigma = \\sigma_0 = \\sigma_1 = 3$ \\\\\n",
        "\n",
        "$H_0: \\theta_0 = (a_0, \\sigma_0^2)$\n",
        "\n",
        "$H_1: \\theta_1 = (a_1, \\sigma_1^2)$\n",
        "\n",
        "\n",
        "$LR\\left(X, \\theta_0, \\theta_1\\right) = \\frac{(2\\pi)^{-\\frac n2}\\sigma_1^{-n} \\exp\\left(-\\frac{1}{2\\sigma_1^2}\\sum\\limits_{i=1}^n(x_i - a_1)^2\\right)}{(2\\pi)^{-\\frac n2}\\sigma_0^{-n} \\exp\\left(-\\frac{1}{2\\sigma_0^2}\\sum\\limits_{i=1}^n(x_i - a_0)^2\\right)} = \\exp\\left(\\frac{n}{2\\sigma^2}(a_0^2 - a_1^2) + \\frac{1}{\\sigma^2}\\sum\\limits_{i=1}^n x_i (a_1 - a_0)\\right)$\n",
        "\n",
        "$T(X_n)=\\sum_{i=1}^n x_{(i)}$ - МДС. Статистика $LR(X)$ монотонна относительно МДС\n",
        "\n",
        "$LR\\left(X\\right) > c \\Leftrightarrow \\overline X < c^*$\n",
        "\n",
        "$LR\\left(X\\right) < c \\Leftrightarrow \\overline X > c^*$\n",
        "\n",
        "по Лемме Неймана-Пирсона:\n",
        "\n",
        "$\\phi\\left(x\\right) = \\left\\{\\begin{array}{l}1, \\overline X < c^*\\\\p, \\overline X = c^*\\\\0, \\overline X > c^*\\end{array}\\right.$\n",
        "\n",
        "по ЦПТ:\n",
        "\n",
        "$\\sqrt n \\frac{\\overline X - \\mathbb{E}x}{S} \\sim \\mathcal N\\left(0, 1\\right)$\n",
        "\n",
        "$\\sqrt n \\frac{\\overline X - a_0}{\\sigma} \\sim \\mathcal N\\left(0, 1\\right)$\n",
        "\n",
        "$\\overline X = 3.7178$\n",
        "\n",
        "$\\mathbb{P}\\left(\\sqrt n \\frac{\\overline X - a_0}{\\sigma}\\geq \\sqrt n \\frac{c^*- a_0}{\\sigma}\\right) = 1 - \\Phi\\left(\\sqrt n \\frac{c^*- a_0}{\\sigma}\\right) = \\alpha_2$\n",
        "\n",
        "Квантиль $x_{\\alpha_2}: \\Phi\\left(x_{\\alpha_2}\\right) = 1 - \\alpha_2 = 0.95$\n",
        "\n",
        "$x_{\\alpha_2} = \\sqrt n \\frac{c^*- a_0}{\\sigma}$\n",
        "\n",
        "$x_{\\alpha_2} = 1.64$\n",
        "\n",
        "$c^* = \\frac{x_{\\alpha_2} \\sigma}{\\sqrt n} + a_0 = 5.7$\n",
        "\n",
        "$\\overline X \\lt c^*  \\Rightarrow$ принимаем гипотезу $H_0$\n",
        "\n",
        "Меняем местами гипотезы:\n",
        "\n",
        "$H_0: \\theta_0 = (a_1, \\sigma_1^2)$\n",
        "\n",
        "$H_1: \\theta_1 = (a_0, \\sigma_0^2)$\n",
        "\n",
        "$LR\\left(X, \\theta_0, \\theta_1\\right) = \\frac{(2\\pi)^{-\\frac n2}\\sigma_1^{-n} \\exp\\left(-\\frac{1}{2\\sigma_1^2}\\sum\\limits_{i=1}^n(x_i - a_1)^2\\right)}{(2\\pi)^{-\\frac n2}\\sigma_0^{-n} \\exp\\left(-\\frac{1}{2\\sigma_0^2}\\sum\\limits_{i=1}^n(x_i - a_0)^2\\right)} = \\exp\\left(\\frac{n}{2\\sigma^2}(a_0^2 - a_1^2) + \\frac{1}{\\sigma^2}\\sum\\limits_{i=1}^n x_i (a_1 - a_0)\\right)$\n",
        "\n",
        "$T(X_n)=\\sum_{i=1}^n x_{(i)}$ - МДС. Статистика $LR(X)$ монотонна относительно МДС\n",
        "\n",
        "$LR\\left(X\\right) > c \\Leftrightarrow \\overline X < c^*$\n",
        "\n",
        "$LR\\left(X\\right) < c \\Leftrightarrow \\overline X > c^*$\n",
        "\n",
        "по Лемме Неймана-Пирсона:\n",
        "\n",
        "$\\phi\\left(x\\right) = \\left\\{\\begin{array}{l}1, \\overline X < c^*\\\\p, \\overline X = c^*\\\\0, \\overline X > c^*\\end{array}\\right.$\n",
        "\n",
        "по ЦПТ:\n",
        "\n",
        "$\\sqrt n \\frac{\\overline X - \\mathbb{E}x}{S} \\sim \\mathcal N\\left(0, 1\\right)$\n",
        "\n",
        "$\\sqrt n \\frac{\\overline X - a_1}{\\sigma} \\sim \\mathcal N\\left(0, 1\\right)$\n",
        "\n",
        "$ \\overline X = 3.7178$\n",
        "\n",
        "$\\mathbb{P}\\left(\\sqrt n \\frac{\\overline X - a_1}{\\sigma}\\geq \\sqrt n \\frac{c^*- a_1}{\\sigma}\\right) = 1 - \\Phi\\left(\\sqrt n \\frac{c^*- a_1}{\\sigma}\\right) = \\alpha_2$\n",
        "\n",
        "Квантиль $x_{\\alpha_2}: \\Phi\\left(x_{\\alpha_2}\\right) = 1 - \\alpha_2 = 0.95$\n",
        "\n",
        "$x_{\\alpha_2} = \\sqrt n \\frac{c^*- a_1}{\\sigma}$\n",
        "\n",
        "$x_{\\alpha_2} = 1.64$\n",
        "\n",
        "$c^* = \\frac{x_{\\alpha_2} \\sigma}{\\sqrt n} + a_1 = -4.3$\n",
        "\n",
        "$\\overline X \\gt c^*  \\Rightarrow$ отвергаем гипотезу $H_0$\n"
      ],
      "metadata": {
        "id": "QpF673nMt-Os"
      }
    },
    {
      "cell_type": "markdown",
      "source": [
        "#### i) В пунктах с-g заменить семейство нормальных распределений на двухпараметрическое семейство распределений Лапласса с плотностью:\n",
        "\n",
        "$p_{\\alpha, \\ \\sigma}(x) = \\frac{1}{\\sigma\\sqrt{2}}\\exp(-\\frac{\\sqrt{2}}{\\sigma}|x-a|) $"
      ],
      "metadata": {
        "id": "sEnQ-Q3l5JZy"
      }
    },
    {
      "cell_type": "markdown",
      "source": [
        "#### i.c) В предположении, что исходные наблюдения являются выборкой из двухпараметрического распределения Лапласа, построить ОМП и ОММ параметров $(a,\\sigma^{2})$. Найти смещение оценки.\n",
        "\n",
        "OMП:\n",
        "\n",
        "$L(\\vec{x}, \\theta) = \\prod_{i=1}^n \\frac{1}{\\sqrt{2}σ} exp\\left(-\\frac{\\sqrt{2}}{σ}\\left|x_i - a\\right|\\right) =  \\frac{1}{(\\sqrt{2}σ)^n} exp\\left(-\\frac{\\sqrt{2}}{σ} \\sum_{i=1}^n \\left|x_i - a\\right|\\right)$\n",
        "\n",
        "$LL(\\vec{x}, \\theta) = -n\\ln\\left(2\\sigma\\right) - \\frac{\\sqrt 2}{\\sigma}\\sum\\limits_{i=1}^{n}\\left|x_i - a\\right| $\n",
        "\n",
        "\n",
        "$\\frac{\\partial LL}{\\partial\\sigma} = -\\frac{n}{\\sigma} + \\frac{\\sqrt2}{\\sigma^2}\\sum\\limits_{i=1}^{n}\\left|x_i - a\\right| = 0 \\Rightarrow -n\\sigma + \\sqrt2\\cdot\\sum\\limits_{i=1}^{n}\\left|x_i - a\\right| = 0 \\Rightarrow \\widehat \\sigma = \\frac{\\sqrt 2}{n} \\sum\\limits_{i=1}^{n}\\left|x_i - a\\right|$\n",
        "\n",
        "$\\frac{\\partial LL}{\\partial a} = -\\frac{\\sqrt2}{\\sigma}\\sum\\limits_{i=1}^{n} sign(x_i - a) = 0 \\Rightarrow \\sum\\limits_{i=1}^{n} sign(x_i - a) = 0 $\n",
        "$\\widehat a = z_{n, \\frac12}=-0.25$\n",
        "$ \\widehat{\\sigma^2} = \\left( \\frac{\\sqrt 2}{n} \\sum\\limits_{i=1}^{n}\\left|x_i - z_{n, \\frac12}\\right| \\right)^2= 5.988$\n",
        "\n",
        "ОММ:\n",
        "\n",
        "$\\mathbb{E}(X_1)=a$   \n",
        "\n",
        "$M_1=\\bar{X}=Z_{n,1/2}$  \n",
        "\n",
        "$\\mathbb{E}(X_2)=\\sigma^2$\n",
        "\n",
        "$M_2=\\bar {X^2}-\\bar X^2=\\cfrac{1}{n^2}\\sum_{i=1}^n|X_i-a|^2$  \n",
        "\n",
        "$\\widehat a=Z_{n,1/2}=-0.25$    \n",
        "\n",
        "$\\widehat\\sigma^2=(\\cfrac{1}{n}\\sum_{i=1}^n|X_{(i)}-Z_{n,1/2}|)^2=5.988$   \n",
        "\n",
        "НРМД:\n",
        "\n",
        "$\\mathbb{E}_{\\theta} \\widehat{a} = \\mathbb{E}_{\\theta}z_{n, \\frac{1}{2}} = a$ $\\Rightarrow несмещенная$.\n",
        "\n",
        "$\\mathbb{E}_{\\theta} \\widehat{\\sigma^2} = \\mathbb{E}_{\\theta} S^2 = \\frac{n -1}{n} \\sigma^2$\n",
        "\n",
        " $-\\frac{\\sigma^2}{n}смещение$\n"
      ],
      "metadata": {
        "id": "Z4Yi-KhH65P9"
      }
    },
    {
      "cell_type": "markdown",
      "source": [
        "#### i.d) Построить доверительные интервалы уровня значимости $\\alpha_2$ для параметров $(a,\\sigma^{2})$.\n",
        "$\\theta = a$\n",
        "\n",
        "п.4 Леммы Фишера:\n",
        "\n",
        "$ G(\\vec{X}, a) = \\sqrt{n - 1} \\frac{\\bar{X} - a}{S} \\sim S_{n - 1} $\\\n",
        "$ \\mathbb{P}_a \\left( \\sqrt{n - 1} \\frac{\\bar{X} - a}{S} \\in [-x_\\alpha; x_\\alpha] \\right) = 1 - \\alpha_2 $\\\n",
        "$ x_\\alpha : S_{n - 1}(x_\\alpha) = S_{49}(x_\\alpha) = 1 - \\frac{\\alpha_2}{2} = 0.975  $\n",
        "\n",
        "$\\left[\\overline X - \\frac{x_{\\alpha_2}S}{\\sqrt{n-1}}; \\overline X + \\frac{x_{\\alpha_2}S}{\\sqrt{n-1}}\\right]\\in a$\n",
        "\n",
        "$[2.084;3.584]$\n",
        "\n",
        "\n",
        "$\\theta = \\sigma^2$\n",
        "\n",
        "п.3 Леммы Фишера:\n",
        "\n",
        "\n",
        "$ \\displaystyle G(\\vec{X}, \\sigma^2) = \\frac{nS^2}{\\sigma^2} \\sim \\chi^2_{n - 1}$\n",
        "\n",
        "$ \\mathbb{P}_{\\sigma^2} \\left( \\frac{nS^2}{\\sigma^2} \\in [-x_\\alpha; x_\\alpha] \\right) = 1 - \\alpha_2 $\n",
        "\n",
        "$ x_{1\\alpha} : \\mathcal{K}_{n - 1}(x_{1\\alpha}) = \\mathcal{K}_{49}(x_{1\\alpha}) = \\frac{\\alpha_2}{2} = 0.025 $\n",
        "\n",
        "$ x_{2\\alpha} : \\mathcal{K}_{n - 1}(x_{2\\alpha}) = \\mathcal{K}_{49}(x_{2\\alpha}) = 1 - \\frac{\\alpha_2}{2} = 0.975 $\n",
        "\n",
        "$  \\left[  \\frac{n S^2}{x_{2\\alpha}}; \\frac{n S^2}{x_{1\\alpha}} \\right] \\in \\sigma^2 $\n",
        "\n",
        "$[1838.776;71712.288]$"
      ],
      "metadata": {
        "id": "x9LN6byjCf91"
      }
    },
    {
      "cell_type": "markdown",
      "source": [
        "#### i.e) С использованием теоремы Колмогорова построить критерий значимости проверки простой гипотезы согласия с двухпараметрическим распределением Лапласа с параметрами  $(a_{0},\\sigma_{0}^{2})$. Проверить гипотезу на уровне значимости  α2 . Вычислить наибольшее значение уровня значимости, на котором еще нет оснований отвергнуть данную гипотезу.\n"
      ],
      "metadata": {
        "id": "SBoUEuZEF91O"
      }
    },
    {
      "cell_type": "code",
      "source": [
        "statistic, p_value = scistat.kstest(data, 'laplace', args=(5, 3))\n",
        "print(f\"Статистика: {statistic}, p_value: {p_value}\")\n",
        "print(\"Гипотезу принимаем\") if p_value > 0.05 else print(\"Гипотезу отклоняем\")\n",
        "print(f\"Наибольшее значение: {1 - p_value}\")"
      ],
      "metadata": {
        "colab": {
          "base_uri": "https://localhost:8080/"
        },
        "id": "aNWXrWsaH2m1",
        "outputId": "d88c4028-8f11-4401-9040-5b07404153d4"
      },
      "execution_count": 56,
      "outputs": [
        {
          "output_type": "stream",
          "name": "stdout",
          "text": [
            "Статистика: 0.44375869835208603, p_value: 1.7196591980803977e-09\n",
            "Гипотезу отклоняем\n",
            "Наибольшее значение: 0.9999999982803408\n"
          ]
        }
      ]
    },
    {
      "cell_type": "markdown",
      "source": [
        "#### i.f) Используя гистограмму частот, построить критерий значимости $\\mathcal{X^{2}}$ проверки простой гипотезы согласия с семейством двухпараметрических распределений Лапласа $(a_{0},\\sigma_{0}^{2})$. Проверить гипотезу на уровень значимости $\\alpha_{2}$. Вычислить наибольшее значение уровня значимости, на котором ещё нет оснований отвергнуть данную гипотезу.\n"
      ],
      "metadata": {
        "id": "kjxgkG4BH9zi"
      }
    },
    {
      "cell_type": "code",
      "source": [
        "bins_l = np.sqrt(len(data)).astype(int)\n",
        "obs_freq, bin_edges = np.histogram(data, bins=bins_l)\n",
        "# print(obs_freq)\n",
        "exp_freq = len(data) * (scistat.laplace.cdf(bin_edges[1:], 5, 3) - scistat.laplace.cdf(bin_edges[:-1], 5, 3))\n",
        "chi_list = (np.array(obs_freq) - np.array(exp_freq)) ** 2 / np.array(exp_freq)\n",
        "chi_stat = np.sum(chi_list)\n",
        "p_value = scistat.chi2.sf(chi_stat, bins_l - 3)\n",
        "print(f\"p_value : {p_value}\")\n",
        "print(\"Гипотезу принимаем\") if p_value > 0.02 else print(\"Гипотезу отклоняем\")\n",
        "print(f\"Наибольшее значение: {1 - p_value}\")"
      ],
      "metadata": {
        "colab": {
          "base_uri": "https://localhost:8080/"
        },
        "id": "NgmDKC8_toG1",
        "outputId": "7ce25c9d-0622-4513-d152-18eafdf37d9e"
      },
      "execution_count": 58,
      "outputs": [
        {
          "output_type": "stream",
          "name": "stdout",
          "text": [
            "p_value : 1.3427328965424434e-19\n",
            "Гипотезу отклоняем\n",
            "Наибольшее значение: 1.0\n"
          ]
        }
      ]
    },
    {
      "cell_type": "markdown",
      "source": [
        "#### i.g)  Построить критерий значимости  $\\mathcal{X^{2}}$ проверки сложной гипотезы согласия с двухпараметрическим семейством распределений Лапласа. Проверить гипотезу по уровню значимости $\\alpha_{2}$.Вычислить наибольшее значение уровня значимости, на котором ещё нет оснований отвергнуть данную гипотезу.\n",
        "\n"
      ],
      "metadata": {
        "id": "HfW68W_wPoQQ"
      }
    },
    {
      "cell_type": "code",
      "source": [
        "bins_l = np.sqrt(len(data)).astype(int)\n",
        "obs_freq, bin_edges = np.histogram(data, bins=bins_l)\n",
        "# print(obs_freq)\n",
        "exp_freq = len(data) * (scistat.laplace.cdf(bin_edges[1:], mean, 3) - scistat.laplace.cdf(bin_edges[:-1], mean, 3))\n",
        "chi_list = (np.array(obs_freq) - np.array(exp_freq)) ** 2 / np.array(exp_freq)\n",
        "chi_stat = np.sum(chi_list)\n",
        "p_value = scistat.chi2.sf(chi_stat, bins_l - 3)\n",
        "print(f\"p_value : {p_value}\")\n",
        "print(\"Гипотезу принимаем\") if p_value > 0.05 else print(\"Гипотезу отклоняем\")\n",
        "print(f\"Наибольшее значение: {1 - p_value}\")\n"
      ],
      "metadata": {
        "colab": {
          "base_uri": "https://localhost:8080/"
        },
        "id": "YzrVmK1muKY9",
        "outputId": "5810c124-3c0d-41a3-cf5f-611d14fddb6e"
      },
      "execution_count": 59,
      "outputs": [
        {
          "output_type": "stream",
          "name": "stdout",
          "text": [
            "p_value : 9.040030229510549e-19\n",
            "Гипотезу отклоняем\n",
            "Наибольшее значение: 1.0\n"
          ]
        }
      ]
    },
    {
      "cell_type": "markdown",
      "source": [
        "## Выводы\n",
        "\n",
        "В процессе выполнения практической работы мы успешно применили методы математической статистики для анализа данных с использованием программных пакетов. Мы приобрели навыки в проведении тестов, анализе данных, построении доверительных интервалов и проверке гипотез. В рамках лабораторной работы мы тщательно изучили числовые характеристики выборок и применили методы оценки максимального правдоподобия и метода моментов. Также мы построили доверительные интервалы с использованием генераторов по лемме Фишера и асимптотических доверительных интервалов. Мы также рассмотрели критерии Колмогорова и Хи-квадрат для проверки гипотез о распределении данных. В результате усвоили принципы построения наиболее мощных критериев на основе статистики отношения правдоподобия."
      ],
      "metadata": {
        "id": "QX7-VGUuZf9G"
      }
    }
  ]
}