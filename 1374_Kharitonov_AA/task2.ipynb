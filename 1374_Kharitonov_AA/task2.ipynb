{
  "nbformat": 4,
  "nbformat_minor": 0,
  "metadata": {
    "colab": {
      "provenance": []
    },
    "kernelspec": {
      "name": "python3",
      "display_name": "Python 3"
    },
    "language_info": {
      "name": "python"
    }
  },
  "cells": [
    {
      "cell_type": "markdown",
      "source": [
        "# Практическая работа №2: Классические методы математической статистики\n",
        "Выполнил студент гр. 1374 Харитонов Алексей. Вариант №23\n"
      ],
      "metadata": {
        "id": "Dgizzcch0Oa_"
      }
    },
    {
      "cell_type": "markdown",
      "source": [
        "## Цель работы\n",
        "Научится применять методы математической статистики для решения задач статистического анализа; сформировать навыки реализации методов с помощью прикладных программных пакетов."
      ],
      "metadata": {
        "id": "tfao5oPNBTku"
      }
    },
    {
      "cell_type": "markdown",
      "source": [
        "## Основные теоретические положения\n",
        "\n",
        "*1\\. Выборочные числовые характеристики:*\n",
        "\n",
        "> Математическое ожидание $\\overline{X}=\\frac{1}{n}\\sum_{i=1}^{n}X_{i}$\n",
        "\n",
        "> Дисперсия: $S^{2}=\\frac{1}{n}\\sum_{i=1}^{n}\\left( X_{i}-\\overline{X} \\right)^{2}=\\overline{X^{2}}-\\overline{X}^{2}$\n",
        "\n",
        "> Среднеквадратичное отклонение: $S = \\sqrt{S^2} = \\sqrt{\\frac{1}{n}\\sum_{i=1}^{n}\\left( X_{i}-\\overline{X} \\right)^{2}}$\n",
        "\n",
        "> p-квантиль: $Z_{n,p} : X_{(\\left\\lfloor np\\right\\rfloor+1)}$ (если $np \\notin \\mathbb{Z}$), $\\left[X_{(np)},X_{(np+1)}\\right)$ (в противном случае)\n",
        "\n",
        "> коэффициент асимметрии (скошенности) $\\widehat{Skew_{F}}(X)=\\frac{\\frac{1}{n}\\sum_{i=1}^{n}\\left( X_{i}-\\overline{X} \\right)^{3}}{S^{3}}$\n",
        "\n",
        "> Коэффициент эксцесса (островершинности): $\\widehat{Kurt_{F}}(X)=\\frac{\\frac{1}{n}\\sum_{i=1}^{n}\\left( X_{i}-\\overline{X}^{4} \\right)}{S^{4}} - 3$\n",
        "\n",
        "2.1 Эмпирическое распределение : $F_n(x) = \\frac{1}{n}\\sum_{i=1}^{n}\\mathbb{1}_{\\{x_i < x\\}}$\n",
        "\n",
        "2.2 Вариационный ряд: $X_{(1)} \\le \\dots \\le X_{(n)}$\n",
        "\n",
        "2.3 Гистограмма - функция $H: K \\to \\mathbb{R}_+: H(x) = \\frac{n_i}{nh_i}$, где $n_i$ - число элементов выборки, попавших в i-й интервал, h - размер интервала\n",
        "\n",
        "2.4 Полигон частот - кусочно-линейно непрерывная функция совпадающая с гистограммой в середине каждого интервала\n",
        "\n",
        "3\\. *Оценка по методу моментов (ОММ)*\n",
        "\n",
        "Пусть $X_{1},...,X_{n}$ - выбока из распределения $P_{\\theta}, \\theta = \\left(\\theta_{1},...,\\theta_{d}\\right)$\n",
        "\n",
        "$\\exists \\mu_{k}(\\theta) = \\mathbb{E}X^{k}_{1}, k = \\overline{1, d}$\n",
        "\n",
        "Если $\\exists$ ! решение $\\widetilde{\\theta}\\left(X\\right)$ системы уравнений: $\\widehat{\\mu^{k}}\\left(\\widetilde{\\theta}\\right) = \\mu_{k}\\left(\\theta\\right), k = \\overline{1,d}$, где $\\widetilde{\\theta}(X) = \\frac{1}{n}\\sum_{i=1}^{n}X^{k}_{i}$ - выборочный момент k-го порядка, то $\\widetilde{\\theta}(X)$ называется оценкой по методу моментов\n",
        "\n",
        "*Смещение оценки:* $bias_{\\hat{\\theta}}(\\theta) = \\mathbb{E}\\hat{\\theta}(X) - \\theta$\n",
        "\n",
        "4\\. *Функция правдоподобия $L:* \\mathfrak{X} \\times \\Theta \\to (0; +\\infty)$\n",
        "\n",
        "$L\\left(x,\\theta\\right)=p_{\\theta}(x), x \\in \\mathfrak{X}, \\theta \\in \\Theta$\n",
        "\n",
        "4.1 Оценка максимального правдоподобия (ОМП):\n",
        "\n",
        "Оценка $\\widehat{\\theta}\\left(X\\right)$, максимизирующая функцию правдоподобия $L\\left(\\overrightarrow{X},\\theta\\right)$ по $\\theta$ при любом фиксированном $X$\n",
        "\n",
        "$L\\left(\\overrightarrow{X}, \\widehat{\\theta}(X)\\right) \\ge L\\left(\\overrightarrow{X}, \\tilde{\\theta}(X)\\right)$ для любых $X \\in \\mathfrak{X}, \\tilde{\\theta}(X)$\n",
        "\n",
        "называется оценкой максимального правдоподобия\n",
        "\n",
        "4.2 Функция правдоподобия распадается в произведения: $L\\left(\\overrightarrow{X},\\theta\\right) = \\prod_{i=1}^{n}p_{\\theta}(X_{i})$\n",
        "\n",
        "4.3 Логарифмическая функция правдоподобия: $LL\\left(\\overrightarrow{X},\\theta\\right)=\\ln L\\left(\\overrightarrow{X},\\theta\\right) = \\sum_{i=1}^{n}\\ln p_{\\theta}(X_{i})$\n",
        "\n",
        "5\\. *Асимптотический доверительный интервал (АДИ):*\n",
        "\n",
        "5.1.1 На базе асимптотической нормальности оценки $\\widehat{\\theta}$\n",
        "\n",
        "5.1.2 Асимптотическая нормальность $\\sqrt{n}\\left( \\widehat{\\theta}\\left(\\overrightarrow{X}\\right)-\\theta)\\right)\\sim \\mathcal{N}\\left(0,\\sigma^{2}(\\theta)\\right)$\n",
        "\n",
        "5.1.3 Тогда $\\sqrt{n}\\frac{\\widehat{\\theta}\\left(\\overrightarrow{X}\\right) - \\theta}{\\sigma\\left(\\widehat{\\theta}\\left(\\overrightarrow{X}\\right)\\right)}$    \n",
        "\n",
        "5.1.4 Выбираем $X_{\\alpha}: \\Phi(X_{\\alpha}) = 1 - \\frac{\\alpha}{2}$\n",
        "\n",
        "5.1.5 АДИ: $\\left[ \\widehat{\\theta}\\left(\\overrightarrow{X}\\right) - \\frac{X_{\\alpha}\\cdot \\sigma\\left( \\widehat{\\theta}\\left(\\overrightarrow{X}\\right) \\right)}{\\sqrt{n}}; \\widehat{\\theta}\\left(\\overrightarrow{X}\\right) + \\frac{X_{\\alpha}\\cdot \\sigma\\left( \\widehat{\\theta}\\left(\\overrightarrow{X}\\right) \\right)}{\\sqrt{n}}\\right]$\n",
        "\n",
        "5.2.1 на базе ОМП\n",
        "\n",
        "5.2.2 Пусть $\\widehat{\\theta}\\left(\\overrightarrow{X}\\right)$ - ОМП\n",
        "\n",
        "5.2.3 При выполнении опр.условий регулярности: $\\sqrt{n}\\left( \\widehat{\\theta} \\left(\\overrightarrow{X}\\right) -\\theta)\\right)\\sim \\mathcal{N}\\left(0,\\frac{1}{I(\\theta)}\\right), I(\\theta)=-\\mathbb{E}\\left( \\frac{\\partial^{2} LL}{\\partial \\theta^{2}} \\right)$-информация Фишера\n",
        "\n",
        "5.2.4 Тогда $\\sqrt{n\\cdot I\\left( \\widehat{\\theta} \\left(\\overrightarrow{X}\\right) \\right)}\\cdot \\left( \\widehat{\\theta} \\left(\\overrightarrow{X}\\right) -\\theta \\right)\\sim \\mathcal{N}(0,1)$\n",
        "\n",
        "5.2.5 Выбираем $X_{\\alpha}: \\Phi(X_{\\alpha})=1-\\frac{\\alpha}{2}$\n",
        "\n",
        "5.2.6 АДИ: $\\left[ \\widehat{\\theta} \\left(\\overrightarrow{X}\\right) -\\frac{X_{\\alpha}}{\\sqrt{n\\cdot I\\left( \\widehat{\\theta} \\left(\\overrightarrow{X}\\right) \\right)}};\\widehat{\\theta} \\left(\\overrightarrow{X}\\right)+\\frac{X_{\\alpha}}{\\sqrt{n\\cdot I\\left( \\widehat{\\theta} \\left(\\overrightarrow{X}\\right) \\right)}} \\right]$\n",
        "\n",
        "6\\. *Критерий $\\chi^2$ для проверки гипотез*\n",
        "\n",
        "> Основан на справнении теоритической плотности распределения и гистограммы, либо теоритической вероятностной меры и полигона частот.\n",
        "\n",
        "> Разобъем множество значений сл. вел. X на $N$ интервалов $I_{1}, ..., I_{N}:$ $I_{i} = (a_{i-1}, a_i], i = \\overline {1,N}$. данные интервалы не пересекаются и покрывают всё множество возможных значений сл. вел. X.\n",
        "\n",
        "> Обозначим через $p_{i}$ теоритическую вероятность попадания сл. вел. X в интервал $I_{i}$, при условии, что справедлива $H_{0}$.\n",
        "$p_{i} = P(X \\in I_{i}|H_{0})$\n",
        "\n",
        "> Через $n_{i}$ обозначим число наблюдений нашей выборки, попавших в соответветствующий интервал $I_{i}$.\n",
        "$n_{i} = num(x_{j} \\in I_{i})$\n",
        "\n",
        "> Статистика критерия основана на сравнении относительной частоты и теоритической:\n",
        "$\\chi^{2}_{набл} = \\sum \\limits_{i=1}^{N} \\frac{n}{p_{i}} \\bigg ( \\frac{n_{i}}{n} - p_{i} \\bigg )^{2} = \\sum \\limits_{i=1}^{N} \\frac{(n_{i} - p_{i} n)^{2}}{n p_{i}} \\sim \\chi^{2}_{N-1}$\n",
        "\n",
        "> Если $\\mathcal{X}^{2}_{N-1,1-\\alpha_{1}} \\lt \\chi^2_{набл}$, то гипотезу отвергаем\n",
        "Если $\\mathcal{X}^{2}_{N-1,1-\\alpha_{1}} \\gt \\chi^2_{набл}$, то гипотезу принимаем\n",
        "\n",
        "\n",
        "7\\. *Наиболее мощный критерий уровня значимости $\\alpha$:*\n",
        "\n",
        "Для нулевой гипотезы $H_{0}: \\theta=\\theta_{0}$ и альтернативной гипотезы $H_{А}: \\theta=\\theta_{A}$, где $\\theta_{0}$ и $\\theta_{A}$ - фиксированные параметры, строим статистику правдоподобия:\n",
        "\n",
        "$LR(\\overrightarrow{X},\\theta_{A},\\theta_{0})=\\frac{L(\\overrightarrow{X},\\theta_{A})}{L(\\overrightarrow{X},\\theta_{0})}$ - статистика отношений правдоподобия,$L(\\overrightarrow{X},\\theta)$ - соответствующие функции максимального правдоподобия.\n",
        "\n",
        "Наиболее мощный критерий представляется в виде\n",
        "\n",
        "\n",
        "$ \\phi(x) = \\left\\{\n",
        "  \\begin{array}{l}\n",
        "    1, \\overline{X} < c^{*} \\\\\n",
        "    p, \\overline{X} = c^{*} \\\\\n",
        "    0, \\overline{X} > c^{*} \\\\\n",
        "  \\end{array}\\right.$\n",
        "\n",
        "где константа с и вероятность $ p \\in [0,1) $ находятся из уравнения\n",
        "\n",
        "$  E_{θ_0}\\phi(x)=P_{θ_0}(LR(X)>c) + pP_{θ_0}(LR(X)=c) = \\alpha$\n",
        "\n",
        "Причем:\n",
        "\n",
        "- константа с находится однозначно\n",
        "\n",
        "- если $ P_{θ_0}(LR(X)=c) > 0 $, то $ p \\in [0,1) $ находится однозначно\n",
        "\n",
        "- в области $ LR(X) \\neq c $ критерий $\\phi$ определен однозначно\n",
        "\n",
        "8\\. Теорема Колмогорова\n",
        "> *Статистика Колмогорова:*\n",
        "$D_{n}\\left(\\overrightarrow{X}\\right) = \\overset{}{\\underset{X \\in \\mathbb R}{sup}} |F_{0}(X) - F_{n}(X)|$\n",
        "\n",
        "> *Теорема Колмогорова:*\n",
        "Если гипотеза $H_{0}$ верна, и $\\mathrm{F}_{0}(X)$ - непрерывная, для любого $t > 0$:\n",
        "\n",
        "> $P(\\sqrt{n} D_{n}\\left(\\overrightarrow{X}\\right) \\le t) \\xrightarrow[n \\rightarrow \\infty]{} K(t)$, где\n",
        "$K(t) = функция распределения Колмогорова\n",
        "\n",
        "> Если $D_{n} \\lt t$, то гипотеза принимается\n",
        "Если $D_{n} \\gt t$, то гипотеза отвергается"
      ],
      "metadata": {
        "id": "lGfbEBIpBu9M"
      }
    },
    {
      "cell_type": "markdown",
      "source": [
        "## Постановка задачи\n",
        "Для полученных в результате эксперимента наборов данных выполнить статистическую обработку. Полученные результаты содержательно проинтерпретировать."
      ],
      "metadata": {
        "id": "X-OSbbFMB4aM"
      }
    },
    {
      "cell_type": "markdown",
      "source": [
        "## Выполнение работы"
      ],
      "metadata": {
        "id": "FFEysGy7CDvZ"
      }
    },
    {
      "cell_type": "markdown",
      "source": [
        "### Задание 1"
      ],
      "metadata": {
        "id": "-DAaxF3uRJvj"
      }
    },
    {
      "cell_type": "code",
      "source": [
        "import numpy as np\n",
        "import matplotlib.pyplot as plt\n",
        "from scipy import stats\n",
        "from scipy.stats import chi2"
      ],
      "metadata": {
        "id": "henUZD9LRMBJ"
      },
      "execution_count": 3,
      "outputs": []
    },
    {
      "cell_type": "code",
      "source": [
        "# Входные данные\n",
        "data_1 = [0, 0, 0, 0, 5, 0, 0, 0, 1, 0, 0, 0, 6, 1, 2, 0, 0, 4, 1, 1, 0, 0, 4, 0, 2, 2, 0, 3, 0, 2, 1, 5, 1, 2, 0, 0, 4, 2, 0, 0, 0, 0, 0, 0, 0, 0, 0, 1, 0, 0]\n",
        "alpha_1 = 0.1\n",
        "a = 0\n",
        "b = 1.28\n",
        "lambda_0 = 1\n",
        "lambda_1 = 2"
      ],
      "metadata": {
        "id": "Y3UJP0yxRNsq"
      },
      "execution_count": null,
      "outputs": []
    },
    {
      "cell_type": "markdown",
      "source": [
        "#### a) Построить вариционный ряд, эмпирическую функцию распределения и гистограмму частот"
      ],
      "metadata": {
        "id": "1NAyCsc_RQGs"
      }
    },
    {
      "cell_type": "code",
      "source": [
        "# Вариационный ряд\n",
        "data_sorted = sorted(data_1)\n",
        "n = len(data_1)\n",
        "print(\"Вариационный ряд:\", data_sorted)"
      ],
      "metadata": {
        "colab": {
          "base_uri": "https://localhost:8080/"
        },
        "id": "jXGW0lEKRbLz",
        "outputId": "f9e17162-9ddd-4d88-a75f-59187960a745"
      },
      "execution_count": null,
      "outputs": [
        {
          "output_type": "stream",
          "name": "stdout",
          "text": [
            "Вариационный ряд: [0, 0, 0, 0, 0, 0, 0, 0, 0, 0, 0, 0, 0, 0, 0, 0, 0, 0, 0, 0, 0, 0, 0, 0, 0, 0, 0, 0, 0, 0, 1, 1, 1, 1, 1, 1, 1, 2, 2, 2, 2, 2, 2, 3, 4, 4, 4, 5, 5, 6]\n"
          ]
        }
      ]
    },
    {
      "cell_type": "code",
      "source": [
        "# Эмпирическая функция распределения\n",
        "def empirical_distribution_function(data):\n",
        "    x_values = data_sorted\n",
        "    y_values = np.arange(1, n + 1) / n\n",
        "\n",
        "    return x_values, y_values\n",
        "\n",
        "x_values, y_values = empirical_distribution_function(data_1)\n",
        "\n",
        "plt.step(x_values, y_values, drawstyle='steps-post')\n",
        "plt.title('Эмпирическая функция распределения')\n",
        "plt.show()"
      ],
      "metadata": {
        "colab": {
          "base_uri": "https://localhost:8080/"
        },
        "id": "eEmFMsD9S7Lb",
        "outputId": "42abf0ff-1efb-4738-b6e1-d3c4ddbe50da"
      },
      "execution_count": null,
      "outputs": [
        {
          "output_type": "display_data",
          "data": {
            "text/plain": [
              "<Figure size 640x480 with 1 Axes>"
            ],
            "image/png": "[encoded data removed]"
          },
          "metadata": {}
        }
      ]
    },
    {
      "cell_type": "code",
      "source": [
        "# Гистограмма частот\n",
        "def frequency_histogram(data):\n",
        "    bins = range(min(data), max(data) + 1)\n",
        "    plt.hist(data, bins=bins, color='lightblue', edgecolor='black', alpha=0.7, density=True)\n",
        "    plt.title('Гистограмма частот')\n",
        "    plt.grid(axis='y', linestyle='--', alpha=0.7)\n",
        "    plt.show()\n",
        "\n",
        "frequency_histogram(data_1)"
      ],
      "metadata": {
        "colab": {
          "base_uri": "https://localhost:8080/"
        },
        "id": "Z3D9egKiwrPw",
        "outputId": "bcb8a6d2-b9e0-4ced-c750-6763ea9e3687"
      },
      "execution_count": null,
      "outputs": [
        {
          "output_type": "display_data",
          "data": {
            "text/plain": [
              "<Figure size 640x480 with 1 Axes>"
            ],
            "image/png": "[encoded data removed]"
          },
          "metadata": {}
        }
      ]
    },
    {
      "cell_type": "markdown",
      "source": [
        "#### b) Вычислить выборочные аналоги следующих числовых характеристик: (i) математическое ожидание, (ii) дисперсия, (iii) СКО, (iv) медианы, (v) асимметрии, (vi) эксцесса, (vii)  вероятности $\\mathbb{P}(X\\in \\left[ a,b \\right])$"
      ],
      "metadata": {
        "id": "gVMDXPF51UpH"
      }
    },
    {
      "cell_type": "code",
      "source": [
        "# Мат. ожидание\n",
        "mean_value = np.mean(data_1)\n",
        "\n",
        "# Дисперсия\n",
        "variance_value = np.var(data_1)\n",
        "\n",
        "# СКО\n",
        "std_deviation_value = np.std(data_1)\n",
        "\n",
        "# Медиана\n",
        "median_value = np.median(data_1)\n",
        "\n",
        "# Асимметрия\n",
        "skewness_value = stats.skew(data_1)\n",
        "\n",
        "# Эксцесс\n",
        "kurtosis_value = stats.kurtosis(data_1)\n",
        "\n",
        "# Вероятность попадания в отрезок [a; b]\n",
        "probability_ab = len([x for x in data_1 if(a <= x <= b)]) / len(data_1)\n",
        "\n",
        "print(f\"Мат. ожидание: {mean_value}\")\n",
        "print(f\"Дисперсия: {variance_value}\")\n",
        "print(f\"СКО: {std_deviation_value}\")\n",
        "print(f\"Медиана: {median_value}\")\n",
        "print(f\"Асимметрия: {skewness_value}\")\n",
        "print(f\"Эксцесс: {kurtosis_value}\")\n",
        "print(f\"Вероятность попадания в отрезок [{a}; {b}]: {probability_ab}\")"
      ],
      "metadata": {
        "colab": {
          "base_uri": "https://localhost:8080/"
        },
        "id": "JKBU3WqHm3Zp",
        "outputId": "41ce3054-e2ef-4a16-cb80-542b902b6a35"
      },
      "execution_count": null,
      "outputs": [
        {
          "output_type": "stream",
          "name": "stdout",
          "text": [
            "Мат. ожидание: 1.0\n",
            "Дисперсия: 2.48\n",
            "СКО: 1.5748015748023623\n",
            "Медиана: 0.0\n",
            "Асимметрия: 1.6284693704056685\n",
            "Эксцесс: 1.6566077003121746\n",
            "Вероятность попадания в отрезок [0; 1.28]: 0.74\n"
          ]
        }
      ]
    },
    {
      "cell_type": "markdown",
      "source": [
        "#### c) В предположении, что исходные наблюдения являются выборкой из распределения Пуассона, построить ОМП и ОММ параметра $\\lambda$. Найти смещение оценки."
      ],
      "metadata": {
        "id": "jmGwmdYM25cI"
      }
    },
    {
      "cell_type": "markdown",
      "source": [
        "**Оценка по методу максимального правдоподобия:**\n",
        "\n",
        "> *Плотность распределения Пуассона:*\n",
        "$P_{\\lambda}\\left(X = k\\right) = \\frac{\\lambda^{k}}{k!} \\cdot exp(-\\lambda)$\n",
        "\n",
        "> *Оцениваемый параметр:* $\\theta = \\lambda$\n",
        "\n",
        "> *Функция правдоподобия:*\n",
        "$L\\left(\\overrightarrow{X}; \\theta\\right) = \\prod_{i=1}^{n}\\frac{\\lambda^{x_i}}{x_i!}\\exp(-\\lambda) = \\lambda^{\\sum_{i=1}^{n}{x_i}} \\cdot \\exp(-n\\lambda) \\cdot \\prod_{i=1}^{n}\\frac{1}{x_i!}$\n",
        "\n",
        "> *Логарифм от функции правдоподобия*:\n",
        "$LL\\left(\\overrightarrow{X}; \\theta\\right) = \\sum_{i=1}^{n}x_i\\cdot \\ln\\lambda -n\\lambda + \\ln\\prod_{i=1}^{n}\\frac{1}{x_i!}$\n",
        "\n",
        "> *Частная производная по параметру $\\theta$:*\n",
        "$\\frac{\\partial LL\\left(\\overrightarrow X;\\ \\theta\\right)}{\\partial \\theta} = \\frac{\\sum_{i=1}^{n}x_i}{\\lambda} - n = 0 \\Leftrightarrow \\hat{\\theta} = \\hat{\\lambda} = \\overline{X}$\n",
        "\n",
        "> *Смещение:*\n",
        "$\\mathbb{E}_\\theta\\hat{\\lambda} = \\mathbb{E}_\\theta\\overline{X} = \\frac{1}{n}\\mathbb{E}_\\theta\\sum_{i=1}^{n}x_i = \\frac{1}{n}\\sum_{i=1}^{n}\\mathbb{E}_\\theta x_i = \\frac{1}{n} n \\lambda = \\lambda \\implies $ оценка несмещенная\n",
        "\n",
        "**Оценка по методу моментов:**\n",
        "\n",
        "> Для $\\mathbb{P}_{\\lambda}\\left(X = k\\right) = \\frac{\\lambda^x}{x!}\\cdot\\exp(-{\\lambda})$ известно, что: $\\mathbb{E}X_1 = \\lambda$\n",
        "\n",
        "> *Выборочный момент первого порядка:* $M_1 = \\frac{1}{n}\\sum_{i=1}^{n}x_i = \\overline{X}$\n",
        "\n",
        "> Решаем уравнение $\\lambda = \\overline{X} \\Leftrightarrow \\hat{\\lambda} = \\overline{X}$\n",
        "\n",
        "> ОММ совпала с ОМП, поэтому оценка также является несмещенной.\n",
        "\n",
        "\n",
        "*Численное значение оценки:* $\\widehat{\\lambda} = \\overline{X} = 1$\n",
        "\n",
        "*Достаточная минимальная статистика:* $T = \\sum_{i=1}^{n}X_{i} = 50$.\n",
        "\n",
        "Распределение Пуассона принадлежит экспоненциальному семейству распределения, следовательно, МДС будет являться ПДС.\n",
        "\n",
        "$\\mathbb{E}_{\\lambda}\\overline{X} = \\mathbb{E}_{\\lambda} \\frac{1}{n}\\cdot \\sum_{i=1}^{n}x_{i} = \\frac{1}{n}\\cdot \\mathbb{E_{\\lambda}}\\sum_{i=1}^{n}x_{i} = \\frac{1}{n}\\cdot \\sum_{i=1}^{n}\\mathbb{E_{\\lambda}}X_{1} = \\frac{1}{n}\\cdot n\\cdot \\mathbb{E}_{\\lambda}X_{1} = \\lambda = 1$ - НРМД-оценка"
      ],
      "metadata": {
        "id": "YcP3QK8Y3uiT"
      }
    },
    {
      "cell_type": "markdown",
      "source": [
        "#### d) Построить асимптотический доверительный интервал уровня значимости $\\alpha_1$ для параметра $\\lambda$ на базе оценки максимального правдоподобия\n"
      ],
      "metadata": {
        "id": "ZN5wyWeR_C23"
      }
    },
    {
      "cell_type": "markdown",
      "source": [
        "**1. Построение на базе ОМП:**\n",
        "\n",
        "*ОМП:* $\\widehat{\\theta} = \\widehat{\\lambda} = \\overline{X}$\n",
        "\n",
        "$\\sqrt{n}\\left( \\widehat{\\theta}\\left(\\overrightarrow{X}\\right) - \\theta \\right)\\sim \\mathcal{N}\\left( 0, \\frac{1}{I(\\theta)} \\right)$\n",
        "\n",
        "*Информация Фишера:* $I_{n}\\left(\\theta\\right) = -\\mathbb{E_{\\theta}}\\left( \\frac{\\partial^{2} LL}{\\partial \\lambda^{2}} \\right) = -\\mathbb{E_{\\theta}}\\left( -\\frac{\\sum_{i=1}^{n}X_{i}}{\\lambda^{2}} \\right) = \\frac{n}{\\lambda}$\n",
        "\n",
        "$I(\\theta) = {\\lim_{n \\to \\infty}}\\frac{1}{\\lambda} = \\frac{1}{\\lambda}$\n",
        "\n",
        "$\\sqrt{n\\cdot I\\left( \\widehat{\\theta}\\left(\\overrightarrow{X}\\right)\\right)}\\left( \\widehat{\\theta}\\left(\\overrightarrow{X}\\right) - \\theta \\right)\\sim \\mathcal{N}(0,1)$\n",
        "\n",
        "$X_{\\alpha}$: $\\mathrm{Ф}(X_{\\alpha}) = 1 - \\frac{\\alpha_{1}}{2} = 1 - \\frac{0.1}{2} = 0.95$"
      ],
      "metadata": {
        "id": "w_bYuWJVAGVX"
      }
    },
    {
      "cell_type": "code",
      "source": [
        "print(stats.norm.ppf(0.95))"
      ],
      "metadata": {
        "colab": {
          "base_uri": "https://localhost:8080/"
        },
        "id": "kE9MpZLFS0Pw",
        "outputId": "708582a5-fc88-4784-a1e5-af5dd102b58d"
      },
      "execution_count": null,
      "outputs": [
        {
          "output_type": "stream",
          "name": "stdout",
          "text": [
            "1.6448536269514722\n"
          ]
        }
      ]
    },
    {
      "cell_type": "markdown",
      "source": [
        "$X_{0.95} \\approx 1.645$\n",
        "\n",
        "$P_\\theta\\left(-x_\\alpha \\le \\sqrt{\\frac{n}{\\overline{X}}}\\left(\\overline{X} - \\theta\\right) \\le x_\\alpha\\right) \\approx 1 - \\alpha = 0.9$\n",
        "\n",
        "$\\left[\\overline{X} - x_{0.95}\\sqrt{\\frac{\\overline{X}}{n}}, \\overline{X} + x_{0.95}\\sqrt{\\frac{\\overline{X}}{n}}\\right] \\ni \\lambda$\n",
        "\n",
        "$\\left[1 - 1.645\\sqrt{\\frac{1}{50}}, 1 + 1.645\\sqrt{\\frac{1}{50}}\\right] \\ni \\lambda$\n",
        "\n",
        "$0.77\\le \\lambda\\le 1.23$ - АДИ параметра $\\lambda$."
      ],
      "metadata": {
        "id": "HdeVzuCxUhae"
      }
    },
    {
      "cell_type": "markdown",
      "source": [
        "**2. Построение на безе асимтотической нормальной оценки $\\widehat{\\theta}$:**\n",
        "\n",
        "$\\sqrt{n}\\left( \\widehat{\\theta}(\\overrightarrow{X})-\\theta \\right)\\sim \\mathcal{N}(0,\\sigma^{2}\\left(\\theta\\right))$\n",
        "\n",
        "$\\sqrt{n}\\frac{ \\widehat{\\theta}(\\overrightarrow{X})-\\theta}{\\sigma(\\widehat{\\theta})}\\sim \\mathcal{N}(0,1)$\n",
        "\n",
        "$-X_{0.95}\\le \\sqrt{n}\\cdot \\frac{\\widehat{\\lambda}-\\lambda}{\\sqrt{\\widehat{\\lambda}}}\\le X_{0.95}$\n",
        "\n",
        "$1 - \\frac{1.645}{\\sqrt{50}}\\le \\lambda\\le 1+\\frac{1.645}{\\sqrt{50}}$\n",
        "\n",
        "$0.77\\le \\lambda\\le 1.23$ - АДИ параметра $\\lambda$"
      ],
      "metadata": {
        "id": "3pkbZIG-A_cB"
      }
    },
    {
      "cell_type": "markdown",
      "source": [
        "#### e)Используя гистограмму частот, построить критерий значимости $\\mathcal{\\chi^{2}}$ проверки простой гипотезы согласия с распределением Пуассона с параметром $\\lambda_{0}$. Проверить гипотезу на урокень значимости $\\alpha_{1}$. Вычислить наибольшее значение уровня значимости, на котором ещё нет оснований отвергнуть данную гипотезу."
      ],
      "metadata": {
        "id": "PNXlHHVbjU4J"
      }
    },
    {
      "cell_type": "markdown",
      "source": [
        "*Условия на формирование интервалов:* $n_i > 5\\ или\\ n_i \\cdot P_i > 5$\n",
        "\n",
        "$P_{i}=P_{H_{0}} = \\left(X\\in I_{i}\\right) = \\sum_{k\\in I_{i}}^{} \\frac{\\lambda_{0}^{k}}{k!}exp\\left(-\\lambda_{0}\\right)$\n",
        "\n",
        "$I_{1} = \\left[0\\right]; n_{1} = 30$\n",
        "\n",
        "$P_{1} = \\frac{1^{0}}{0!} exp\\left(-1\\right) = 0.368 \\Rightarrow nP_{1} = 18.4$\n",
        "\n",
        "$I_{2} = \\left[1 \\right]; n_{2} = 7$\n",
        "\n",
        "$P_{2} = \\frac{1^{1}}{1!} exp\\left(-1\\right) = 0.368 \\Rightarrow nP_{2} = 18.4$\n",
        "\n",
        "$I_{3} = \\left[2 \\right]; n_{3} = 6$\n",
        "\n",
        "$P_{3} = \\frac{1^{2}}{2!} exp\\left(-1\\right) = 0.184 \\Rightarrow nP_{3} = 9.2$\n",
        "\n",
        "$I_{4} = \\left[3, 6 \\right]; n_{4} = 7$\n",
        "\n",
        "$P_{4} = \\frac{1^{3}}{3!} exp(-1) + \\frac{1^{6}}{6!} exp(-1) + \\frac{1^{6}}{6!} exp(-1) + \\frac{1^{6}}{6!} exp(-1) = 0.08 \\Rightarrow nP_{4} = 4$\n",
        "\n",
        "Критерий ${\\chi}^{2}: {\\chi}^{2}_{набл} = \\sum_{i = 1}^{4} \\frac{(n_{i} - np_{i})^{2}}{np_{i}} = 17.74$"
      ],
      "metadata": {
        "id": "uoWceNyDjnG1"
      }
    },
    {
      "cell_type": "code",
      "source": [
        "n_i = [30, 7, 6, 7]\n",
        "P_i = [0.368, 0.368, 0.184, 0.08]\n",
        "sum = 0\n",
        "for i in range(len(n_i)):\n",
        "    sum += ((n_i[i] - n * P_i[i]) ** 2) / (n * P_i[i])\n",
        "\n",
        "print('X^2 набл. = ', sum)"
      ],
      "metadata": {
        "colab": {
          "base_uri": "https://localhost:8080/"
        },
        "id": "I1jNATQwdcR2",
        "outputId": "d8344685-d350-4466-9fe4-3597d62c25e7"
      },
      "execution_count": null,
      "outputs": [
        {
          "output_type": "stream",
          "name": "stdout",
          "text": [
            "X^2 набл. =  17.73913043478261\n"
          ]
        }
      ]
    },
    {
      "cell_type": "markdown",
      "source": [
        "${\\chi}^{2}_{N - 1, 1 - \\alpha_{1}} = {\\chi}^{2}_{3, 0.9} \\approx 6.251$\n",
        "\n",
        "${\\chi}^{2}\\gt {\\chi}^{2}_{3, 0.9} \\Rightarrow $ гипотеза отвергается (по критерию Пирсона)\n",
        "\n",
        "Для нахождения наибольшего значения уровня значимости, на котором ещё нет оснований отвергнуть данную гипотезу, вычисляем функцию распределения в точке\n",
        "$\\mathbb{\\chi^2}$ и вычитаем полученное значение из единицы:"
      ],
      "metadata": {
        "id": "9t17KCHTdfHC"
      }
    },
    {
      "cell_type": "code",
      "source": [
        "chi_2 = sum\n",
        "max = 1 - chi2.cdf(chi_2, len(n_i))\n",
        "print(\"Максимальный уровень значимости:\", max)"
      ],
      "metadata": {
        "colab": {
          "base_uri": "https://localhost:8080/"
        },
        "id": "6GNXe4cYfj5u",
        "outputId": "4e4b9a14-c96c-4e40-83f0-4b488b74834d"
      },
      "execution_count": null,
      "outputs": [
        {
          "output_type": "stream",
          "name": "stdout",
          "text": [
            "Максимальный уровень значимости: 0.0013876974504480888\n"
          ]
        }
      ]
    },
    {
      "cell_type": "markdown",
      "source": [
        "Наибольшее значение уровня значимости, при котором нет еще оснований отвергнуть данную гипотезу $\\approx$ 0.0014"
      ],
      "metadata": {
        "id": "CvqojyZfgONz"
      }
    },
    {
      "cell_type": "markdown",
      "source": [
        "#### f)Построить критерий значимости  $\\mathcal{\\chi^{2}}$ проверки сложной гипотезы согласия с распределением Пуассона. Проверить гипотезу по уровню значимости $\\alpha_{1}$.Вычислить наибольшее значение уровня значимости, на котором ещё нет оснований отвергнуть данную гипотезу."
      ],
      "metadata": {
        "id": "VpT6NIncWkhv"
      }
    },
    {
      "cell_type": "markdown",
      "source": [
        "*Условия на формирование интервалов:* $n_i > 5\\ или\\ n_i \\cdot P_i > 5$\n",
        "\n",
        "$P_{i} = P_{H_{0}} = (X\\in I_{i}) = \\sum_{k\\in I_{i}}^{} \\frac{\\overline{X}^{k}}{k!}exp\\left(-\\overline{X}\\right)$\n",
        "\n",
        "$I_{1} = \\left[0\\right]; n_{1} = 30$\n",
        "\n",
        "$P_{1} = \\frac{1^{0}}{0!} exp\\left(-1\\right) = 0.368 \\Rightarrow nP_{1} = 18.4$\n",
        "\n",
        "$I_{2} = \\left[1 \\right]; n_{2} = 7$\n",
        "\n",
        "$P_{2} = \\frac{1^{1}}{1!} exp\\left(-1\\right) = 0.368 \\Rightarrow nP_{2} = 18.4$\n",
        "\n",
        "$I_{3} = \\left[2 \\right]; n_{3} = 6$\n",
        "\n",
        "$P_{3} = \\frac{1^{2}}{2!} exp\\left(-1\\right) = 0.184 \\Rightarrow nP_{3} = 9.2$\n",
        "\n",
        "$I_{4} = \\left[3, 6 \\right]; n_{4} = 7$\n",
        "\n",
        "$P_{4} = \\frac{1^{3}}{3!} exp(-1) + \\frac{1^{6}}{6!}exp(-1) = 0.062 \\Rightarrow nP_{4} = 3.1$\n",
        "\n",
        "Критерий ${\\chi}^{2}: {\\chi}^{2}_{набл} = \\sum_{i = 1}^{4} \\frac{(n_{i} - np_{i})^{2}}{np_{i}} = 20.39$"
      ],
      "metadata": {
        "id": "thk-38vXWu6t"
      }
    },
    {
      "cell_type": "code",
      "source": [
        "n_i = [30, 7, 6, 7]\n",
        "P_i = [0.368, 0.368, 0.184, 0.08]\n",
        "sum = 0\n",
        "for i in range(len(n_i)):\n",
        "    sum += ((n_i[i] - n * P_i[i]) ** 2) / (n * P_i[i])\n",
        "\n",
        "print('X^2 набл. = ', sum)"
      ],
      "metadata": {
        "colab": {
          "base_uri": "https://localhost:8080/"
        },
        "id": "k4slUwFEeGvj",
        "outputId": "7a328be2-63c1-4502-9585-8d648abba185"
      },
      "execution_count": null,
      "outputs": [
        {
          "output_type": "stream",
          "name": "stdout",
          "text": [
            "X^2 набл. =  17.73913043478261\n"
          ]
        }
      ]
    },
    {
      "cell_type": "markdown",
      "source": [
        "${\\chi}^{2}_{N - 1, 1 - \\alpha_{1}} = {\\chi}^{2}_{3, 0.9} \\approx 6.251$\n",
        "\n",
        "${\\chi}^{2}\\gt {\\chi}^{2}_{3, 0.9} \\Rightarrow $ гипотеза отвергается (по критерию Пирсона)\n",
        "\n",
        "Для нахождения наибольшего значения уровня значимости, на котором ещё нет оснований отвергнуть данную гипотезу, вычисляем функцию распределения в точке\n",
        "$\\mathbb{\\chi^2}$ и вычитаем полученное значение из единицы:"
      ],
      "metadata": {
        "id": "O7wCGVZzeMqF"
      }
    },
    {
      "cell_type": "code",
      "source": [
        "chi_2 = sum\n",
        "max = 1 - chi2.cdf(chi_2, len(n_i))\n",
        "print(\"Максимальный уровень значимости:\", max)"
      ],
      "metadata": {
        "colab": {
          "base_uri": "https://localhost:8080/"
        },
        "id": "s9IdjGo_jCKH",
        "outputId": "a5726e82-5761-4a34-80d9-fe420ff5848c"
      },
      "execution_count": null,
      "outputs": [
        {
          "output_type": "stream",
          "name": "stdout",
          "text": [
            "Максимальный уровень значимости: 0.0013876974504480888\n"
          ]
        }
      ]
    },
    {
      "cell_type": "markdown",
      "source": [
        "Наибольшее значение уровня значимости, при котором нет еще оснований отвергнуть данную гипотезу $\\approx$ 0.0014"
      ],
      "metadata": {
        "id": "juOqK0I7jH88"
      }
    },
    {
      "cell_type": "markdown",
      "source": [
        "#### g)Построить наиболее мощный критерий проверки простой гипотезы пуассоновости с параметром $\\lambda=\\lambda_{0}$ при альтернативе пуассоновсти с параметром $\\lambda=\\lambda_{1}$. Проверить гипотезу на уровне значимости $\\alpha_{1}$. Что получится, если поменять местами основную и альтернативную гипотезы?"
      ],
      "metadata": {
        "id": "UtFG2gCz7e-q"
      }
    },
    {
      "cell_type": "markdown",
      "source": [
        "Основная гипотеза: $H_{0} = \\lambda_{0} = 1$\n",
        "\n",
        "Альтернативная гипотеза: $H_{A} = \\lambda_{1} = 2$\n",
        "\n",
        "*Статистическое отношение правдоподобия:*\n",
        "$LR\\left(\\overrightarrow{X}, \\lambda_{1}, \\lambda_{0}\\right) = \\frac{L\\left( \\overrightarrow{X},\\lambda_{1} \\right)}{L\\left( \\overrightarrow{X},\\lambda_{0} \\right)} = \\frac{\\lambda_{1}^{\\sum_{i=1}^{50}X_{i}}\\cdot exp(-n\\cdot \\lambda_{1})}{\\lambda_{0}^{\\sum_{i=1}^{50}X_{i}}\\cdot exp(-n\\cdot \\lambda_{0})}$\n",
        "\n",
        "$ LR\\left(\\overrightarrow{X}\\right) > c \\Leftrightarrow \\overline{X} < c^{*}$\n",
        "\n",
        "$ LR\\left(\\overrightarrow{X}\\right) < c \\Leftrightarrow \\overline{X} > c^{*}$\n",
        "\n",
        "$ \\phi(x) = \\left\\{\n",
        "  \\begin{array}{l}\n",
        "    1, \\overline{X} < c^{*} \\\\\n",
        "    p, \\overline{X} = c^{*} \\\\\n",
        "    0, \\overline{X} > c^{*} \\\\\n",
        "  \\end{array}\\right.$\n",
        "  \n",
        "*По ЦПТ:*\n",
        "\n",
        "$ \\sqrt{n} \\frac{ \\overline{X} - \\mu}{\\sigma} \\sim \\mathcal{N}(0, 1)$\n",
        "\n",
        "$ \\mu = \\lambda_{0}, \\sigma^{2} = \\lambda_{0}$\n",
        "\n",
        "$ \\sqrt{n} \\frac{ \\overline{X} - \\lambda_{0}}{\\sqrt{\\lambda_{0}}} \\sim \\mathcal{N}(0,1)$\n",
        "\n",
        "$ P\\left(\\sqrt{n} \\frac{ \\overline{X} - \\lambda_{0}}{\\sqrt{\\lambda_{0}}} \\ge \\sqrt{n} \\frac{ c^* - \\lambda_{0}}{\\sqrt{\\lambda_{0}}} \\right) = 1 - \\Phi \\left(\\sqrt{n} \\frac{ c^* -\\lambda_{0}}{\\sqrt{\\lambda_{0}}} \\right) = \\alpha$\n",
        "\n",
        "$\\sqrt{n} \\frac{ c^* -\\lambda_{0}}{\\sqrt{\\lambda_{0}}} = x_{\\alpha}$\n",
        "\n",
        "$x_{\\alpha}: \\Phi(x_{\\alpha}) = 1 - \\alpha$\n",
        "\n",
        "*Найдем $c^{*}:$*\n",
        "$\\sqrt{50} \\cdot \\frac{c^{*} - 1}{1} = 1.645$\n",
        "\n",
        "$c^{*} = 1.23 \\gt \\overline{X} = 1 \\Rightarrow H_{0}$ отвергаем, $H_{1}$ принимаем\n",
        "\n",
        "**Поменяем гипотезы местами:**\n",
        "\n",
        "Основная гипотеза: $H_{0} = \\lambda_{1} = 2$\n",
        "\n",
        "Альтернативная гипотеза: $H_{A} = \\lambda_{0} = 1$\n",
        "\n",
        "$LR\\left(\\overrightarrow{X}\\right) > c \\Leftrightarrow \\overline{X} < c^{*}$\n",
        "\n",
        "$LR\\left(\\overrightarrow{X}\\right) < c \\Leftrightarrow \\overline{X} > c^{*}$\n",
        "\n",
        "$ \\phi(x) = \\left\\{\n",
        "  \\begin{array}{l}\n",
        "    1, \\overline{X} < c^{*} \\\\\n",
        "    p, \\overline{X} = c^{*} \\\\\n",
        "    0, \\overline{X} > c^{*} \\\\\n",
        "  \\end{array}\\right.$\n",
        "  \n",
        "(По ЦПТ:*\n",
        "\n",
        "$ \\sqrt{n} \\frac{ \\overline{X} - \\mu}{\\sigma} \\sim \\mathcal{N}(0, 1)$\n",
        "\n",
        "$ \\mu = \\lambda_{1}, \\sigma^{2} = \\lambda_{1}$\n",
        "\n",
        "$ \\sqrt{n} \\frac{ \\overline{X} - \\lambda_{1}}{\\sqrt{\\lambda_{1}}} \\sim \\mathcal{N}(0,1)$\n",
        "\n",
        "$ P\\left(\\sqrt{n} \\frac{ \\overline{X} - \\lambda_{1}}{\\sqrt{\\lambda_{1}}} \\ge \\sqrt{n} \\frac{ c^* - \\lambda_{1}}{\\sqrt{\\lambda_{1}}} \\right) = 1 - \\Phi \\left(\\sqrt{n} \\frac{ c^* -\\lambda_{1}}{\\sqrt{\\lambda_{1}}} \\right) = \\alpha$\n",
        "\n",
        "$\\sqrt{n} \\frac{ c^* -\\lambda_{1}}{\\sqrt{\\lambda_{1}}} = x_{\\alpha}$\n",
        "\n",
        "$x_{\\alpha}: \\Phi(x_{\\alpha}) = 1 - \\alpha$\n",
        "\n",
        "*Найдем $c^{*}:$*\n",
        "$\\sqrt{50} \\cdot \\frac{c^{*} - 2}{\\sqrt{2}} = 1.645$\n",
        "\n",
        "$c^{*} = 2.33 \\gt \\overline{X} = 1 \\Rightarrow H_{0}$ отвергаем, $H_{1}$ принимаем"
      ],
      "metadata": {
        "id": "5ZzGrlBH8J9c"
      }
    },
    {
      "cell_type": "markdown",
      "source": [
        "#### h) В пунктах (c) - (f) заменить семейство распределение Пуассона на семейство геометрических распредленией $\\mathbb{P}_{\\lambda}(X=k) = \\frac{\\lambda^{k}}{(\\lambda+1)^{k+1}}, k\\in \\mathbb{Z_{+}}$"
      ],
      "metadata": {
        "id": "5D2bt5j2DCk8"
      }
    },
    {
      "cell_type": "markdown",
      "source": [
        "##### h.c) Построить ОМП и ОММ параметра $\\lambda$. Найти смещение оценки."
      ],
      "metadata": {
        "id": "ZZStnBFIDR_G"
      }
    },
    {
      "cell_type": "markdown",
      "source": [
        "**Оценка по методу максимального правдоподобия:**\n",
        "\n",
        "> *Плотность геометрического распределения:*\n",
        "$\\mathbb{P}_{\\lambda}(X=k) = \\frac{\\lambda^{k}}{(\\lambda+1)^{k+1}}$\n",
        "\n",
        "> *Оцениваемый параметр:* $\\theta = \\lambda$\n",
        "\n",
        "> *Функция правдоподобия:*\n",
        "$L\\left(\\overrightarrow{X}, \\theta\\right) = \\prod_{i=1}^{n}P_{\\lambda}(X_{i}) = \\prod_{i=1}^{n}\\frac{\\lambda^{X_{i}}}{(\\lambda+1)^{X_{i}}} = \\frac{\\lambda^{\\sum_{i=1}^{n}X_{i}}}{(\\lambda + 1)^{\\sum_{i=1}^{n}X_{i} + n}}$\n",
        "\n",
        "> *Логарифм от функции правдоподобия*:\n",
        "$LL\\left(\\overrightarrow{X}, \\theta\\right) = \\sum_{i=1}^{n}X_{i}\\cdot \\ln\\left(\\lambda\\right) - \\left(\\sum_{i=1}^{n}X_{i} + n\\right)\\ln(\\lambda + 1)$\n",
        "\n",
        "> *Частная производная по параметру $\\lambda$:*\n",
        "$\\frac{\\partial LL\\left(\\overrightarrow{X}, \\theta\\right)}{\\partial \\lambda} = \\frac{\\sum_{i=1}^{n} X_{i}}{\\lambda} - \\frac{\\sum_{i=1}^{50}X_{i} + n}{\\lambda + 1} = 0 \\Leftrightarrow \\frac{\\lambda}{\\sum_{i=1}^{50} X_{i}} = \\frac{\\lambda + 1}{\\sum_{i=1}^{50} X_{i} + n}\\Leftrightarrow \\lambda\\cdot \\sum_{i=1}^{n} X_{i} + \\lambda \\cdot n = \\lambda\\cdot \\sum_{i=1}^{n} X_{i} + \\sum_{i=1}^{n} X_{i}\\Leftrightarrow \\lambda = \\overline{X}\\Leftrightarrow \\widehat{\\theta} = \\widehat{\\lambda} = \\overline{X} = 1$.\n",
        "\n",
        "**Оценка по методу моментов:**\n",
        "\n",
        "> Для $\\mathbb{P}_{\\lambda}\\left(X = k\\right) = \\frac{\\lambda^x}{x!}\\cdot\\exp(-{\\lambda})$ известно, что: $\\mathbb{E}X_1 = \\frac{1}{\\lambda}$\n",
        "\n",
        "> *Выборочный момент первого порядка:* $M_1 = \\frac{1}{\\overline{X}}$\n",
        "\n",
        "> Решаем уравнение $\\lambda = \\overline{X} \\Leftrightarrow \\hat{\\lambda} = \\overline{X}$\n",
        "\n",
        "*Численное значение оценки:* $\\widehat{\\lambda} = \\overline{X} = 1$\n",
        "\n",
        "*Достаточная минимальная статистика:* $T = \\sum_{i=1}^{n}X_{i} = 50$.\n",
        "\n",
        "*Смещение:*\n",
        "$\\mathbb{E}_\\theta\\hat{\\lambda} = \\mathbb{E}_\\theta\\overline{X} = \\frac{1}{n}\\mathbb{E}_\\theta\\sum_{i=1}^{n}x_i = \\frac{1}{n}\\sum_{i=1}^{n}\\mathbb{E}_\\theta x_i =  \\frac{1}{n}\\sum_{i=1}^{n}\\lambda = \\frac{\\lambda n}{n} = \\lambda \\Rightarrow$\n",
        "\n",
        "$\\Rightarrow$ оценка является несмещённой."
      ],
      "metadata": {
        "id": "tU_FvkLNxk84"
      }
    },
    {
      "cell_type": "markdown",
      "source": [
        "##### h.d) Построить асимптотический доверительный интервал уровня значимости $\\alpha_1$ для параметра $\\lambda$ на базе оценки максимального правдоподобия"
      ],
      "metadata": {
        "id": "0LRfNpeLjcLg"
      }
    },
    {
      "cell_type": "markdown",
      "source": [
        "**1. Построение на базе ОМП:**\n",
        "\n",
        "*ОМП:* $\\widehat{\\theta} = \\widehat{\\lambda} = \\overline{X}$\n",
        "\n",
        "$\\sqrt{n}\\left( \\widehat{\\theta}\\left(\\overrightarrow{X}\\right) - \\theta \\right)\\sim \\mathcal{N}\\left( 0, \\frac{1}{I(\\theta)} \\right)$\n",
        "\n",
        "*Информация Фишера:*\n",
        "\n",
        "$I_n(\\theta) = -\\mathbb{E}_{\\theta}\\frac{\\partial^2 LL\\left(\\overrightarrow X,\\ \\theta\\right)}{\\partial \\theta^2} = \\mathbb{E}_{\\theta}\\left(\\frac{\\sum_{i=1}^{n}{x_i}}{\\lambda^2} - \\frac{n + \\sum_{i=1}^{n}{x_i}}{(\\lambda + 1)^2}\\right) = \\frac{1}{\\lambda^2}\\sum_{i=1}^{n}\\mathbb{E}_{\\theta}{x_i} - \\frac{1}{(\\lambda+1)^2}\\sum_{i=1}^{n}\\mathbb{E}_{\\theta}{x_i} - \\frac{n}{(\\lambda+1)^2} = \\frac{n}{\\lambda} - \\frac{n\\lambda}{(\\lambda+1)^2} - \\frac{n}{(\\lambda+1)^2}$\n",
        "\n",
        "$I(\\theta) = {\\lim_{n \\to \\infty}}\\frac{1}{\\lambda} - \\frac{\\lambda}{(\\lambda+1)^2} - \\frac{1}{(\\lambda+1)^2} = \\frac{1}{\\lambda} - \\frac{1}{\\lambda+1}$\n",
        "\n",
        "$I(\\hat{\\theta}) = \\frac{1}{\\bar{X}} - \\frac{1}{1 + \\bar{X}} = \\frac{1}{\\bar{X}(\\bar{X} + 1)}$\n",
        "\n",
        "$\\sqrt{\\frac{n}{\\bar{X}(\\bar{X} + 1)}}\\left(\\bar{X} - \\theta\\right) \\sim \\mathcal{N} \\left(0, 1\\right)$\n",
        "\n",
        "$X_{\\alpha}$: $\\mathrm{Ф}(X_{\\alpha}) = 1 - \\frac{\\alpha_{1}}{2} = 1 - \\frac{0,1}{2} = 0.95$"
      ],
      "metadata": {
        "id": "u5rg4tYUViOU"
      }
    },
    {
      "cell_type": "code",
      "source": [
        "print(stats.norm.ppf(0.95))"
      ],
      "metadata": {
        "id": "JXotNfQgVqay"
      },
      "execution_count": null,
      "outputs": []
    },
    {
      "cell_type": "markdown",
      "source": [
        "$X_{0.95} \\approx 1.645$\n",
        "\n",
        "$P_\\theta\\left(-x_\\alpha \\le \\sqrt{\\frac{n}{\\overline{X}(\\overline{X} + 1)}}\\left(\\overline{X} - \\theta\\right) \\le x_\\alpha\\right) \\approx 1 - \\alpha = 0.9$\n",
        "\n",
        "$\\left[\\overline{X} - x_\\alpha\\sqrt{\\frac{\\overline{X}(\\overline{X}+1)}{n}}, \\overline{X} + x_\\alpha\\sqrt{\\frac{\\overline{X}(\\overline{X}+1)}{n}}\\right] \\ni \\lambda$\n",
        "\n",
        "$\\left[1 - 1.645\\sqrt{\\frac{2}{50}}, 1 + 1.645\\sqrt{\\frac{2}{50}}\\right] \\ni \\lambda$\n",
        "\n",
        "$0.671\\le \\lambda\\le 1.329$ - АДИ параметра $\\lambda$."
      ],
      "metadata": {
        "id": "r7HAoEMhVr_i"
      }
    },
    {
      "cell_type": "markdown",
      "source": [
        "**2. Построение на безе асимтотической нормальной оценки $\\widehat{\\theta}$:**\n",
        "\n",
        "$\\sqrt{n}\\left( \\widehat{\\theta}(\\overrightarrow{X})-\\theta \\right)\\sim \\mathcal{N}(0,\\sigma^{2}\\left(\\theta\\right))$\n",
        "\n",
        "$\\sqrt{n}\\frac{ \\widehat{\\theta}\\left(\\overrightarrow{X}\\right)-\\theta}{\\sigma\\left(\\widehat{\\theta}\\right)}\\sim \\mathcal{N}(0, 1)$\n",
        "\n",
        "$X_{\\alpha}$: $\\mathrm{Ф}(X_{\\alpha}) = 0.95$\n",
        "\n",
        "$-X_{0.95}\\le \\sqrt{n}\\cdot \\frac{\\widehat{\\lambda}-\\lambda}{\\sqrt{\\widehat{\\lambda}\\left(\\widehat{\\lambda} + 1\\right)}}\\le X_{0.95}$\n",
        "\n",
        "$-1.645 \\le \\sqrt{50}\\cdot \\frac{1 - \\lambda}{\\sqrt{2}} \\le 1.645$\n",
        "\n",
        "$0.671 \\le \\lambda\\le 1.329$ - АДИ параметра $\\lambda$"
      ],
      "metadata": {
        "id": "3vhmRPaAV0HW"
      }
    },
    {
      "cell_type": "markdown",
      "source": [
        "##### h.e) Используя гистограмму частот, построить критерий значимости $\\mathcal{\\chi^{2}}$ проверки простой гипотезы согласия с геометрическим распределением с параметром $\\lambda_{0}$. Проверить гипотезу на урокень значимости $\\alpha_{1}$. Вычислить наибольшее значение уровня значимости, на котором ещё нет оснований отвергнуть данную гипотезу."
      ],
      "metadata": {
        "id": "JNFkYHB5jcs1"
      }
    },
    {
      "cell_type": "markdown",
      "source": [
        "*Условия на формирование интервалов:* $n_i > 5\\ или\\ n_i \\cdot P_i > 5$\n",
        "\n",
        "$P_{i}=P_{H_{0}} = \\left(X\\in I_{i}\\right) = \\sum_{k\\in I_{i}}^{} \\frac{\\lambda_{0}^{k}}{(\\lambda_{0} + 1)^{k + 1}}$\n",
        "\n",
        "$I_{1} = \\left[0\\right]; n_{1} = 30$\n",
        "\n",
        "$P_{1} = \\frac{1^{0}}{(1 + 1)^{0 + 1}} = 0.5 \\Rightarrow nP_{1} = 25$\n",
        "\n",
        "$I_{2} = \\left[1 \\right]; n_{2} = 7$\n",
        "\n",
        "$P_{2} = \\frac{1^{1}}{(1 + 1)^{1 + 1}} = 0.25 \\Rightarrow nP_{2} = 12.5$\n",
        "\n",
        "$I_{3} = \\left[2 \\right]; n_{3} = 6$\n",
        "\n",
        "$P_{3} = \\frac{1^{2}}{(1 + 1)^{2 + 1}} = 0.125 \\Rightarrow nP_{3} = 6.25$\n",
        "\n",
        "$I_{4} = \\left[3, 6 \\right]; n_{4} = 7$\n",
        "\n",
        "$P_{4} = \\frac{1^{3}}{(1 + 1)^{3 + 1}} + \\frac{1^{4}}{(1 + 1)^{4 + 1}} + \\frac{1^{5}}{(1 + 1)^{5 + 1}} + \\frac{1^{6}}{(1 + 1)^{6 + 1}} = 0.117 \\Rightarrow nP_{4} = 5.85$\n",
        "\n",
        "Критерий ${\\chi}^{2}: {\\chi}^{2}_{набл} = \\sum_{i = 1}^{4} \\frac{(n_{i} - np_{i})^{2}}{np_{i}} = 3.656$"
      ],
      "metadata": {
        "id": "_Rj2frm4kPNH"
      }
    },
    {
      "cell_type": "code",
      "source": [
        "n_i = [30, 7, 6, 7]\n",
        "P_i = [0.5, 0.25, 0.125, 0.117]\n",
        "sum = 0\n",
        "for i in range(len(n_i)):\n",
        "    sum += ((n_i[i] - n * P_i[i]) ** 2) / (n * P_i[i])\n",
        "\n",
        "print('X^2 набл. = ', sum)"
      ],
      "metadata": {
        "colab": {
          "base_uri": "https://localhost:8080/"
        },
        "id": "9NJ1lTAXkQg9",
        "outputId": "ae0a0b22-f1e7-4052-db80-28263c254982"
      },
      "execution_count": null,
      "outputs": [
        {
          "output_type": "stream",
          "name": "stdout",
          "text": [
            "X^2 набл. =  3.6560683760683754\n"
          ]
        }
      ]
    },
    {
      "cell_type": "markdown",
      "source": [
        "${\\chi}^{2}_{N - 1, 1 - \\alpha_{1}} = {\\chi}^{2}_{3, 0.9} \\approx 6.251$\n",
        "\n",
        "${\\chi}^{2} \\lt {\\chi}^{2}_{3, 0.9} \\Rightarrow $ гипотеза подтверждается (по критерию Пирсона)"
      ],
      "metadata": {
        "id": "c8BraXM5mOy_"
      }
    },
    {
      "cell_type": "markdown",
      "source": [
        "##### h.f) Построить критерий значимости  $\\mathcal{\\chi^{2}}$ проверки сложной гипотезы согласия с геометрическим распределением. Проверить гипотезу по уровню значимости $\\alpha_{1}$.Вычислить наибольшее значение уровня значимости, на котором ещё нет оснований отвергнуть данную гипотезу."
      ],
      "metadata": {
        "id": "AKS50hEGjrWW"
      }
    },
    {
      "cell_type": "markdown",
      "source": [
        "*Условия на формирование интервалов:* $n_i > 5\\ или\\ n_i \\cdot P_i > 5$\n",
        "\n",
        "$P_{i}=P_{H_{0}} = \\left(X\\in I_{i}\\right) = \\sum_{k\\in I_{i}}^{} \\frac{\\frac{1}{\\overline{x}^{k}}}{(\\frac{1}{\\overline{x}} + 1)^{k + 1}}$\n",
        "\n",
        "$I_{1} = \\left[0\\right]; n_{1} = 30$\n",
        "\n",
        "$P_{1} = \\frac{1^{0}}{(1 + 1)^{0 + 1}} = 0.5 \\Rightarrow nP_{1} = 25$\n",
        "\n",
        "$I_{2} = \\left[1 \\right]; n_{2} = 7$\n",
        "\n",
        "$P_{2} = \\frac{1^{1}}{(1 + 1)^{1 + 1}} = 0.25 \\Rightarrow nP_{2} = 12.5$\n",
        "\n",
        "$I_{3} = \\left[2 \\right]; n_{3} = 6$\n",
        "\n",
        "$P_{3} = \\frac{1^{2}}{(1 + 1)^{2 + 1}} = 0.125 \\Rightarrow nP_{3} = 6.25$\n",
        "\n",
        "$I_{4} = \\left[3, 6 \\right]; n_{4} = 7$\n",
        "\n",
        "$P_{4} = \\frac{1^{3}}{(1 + 1)^{3 + 1}} + \\frac{1^{4}}{(1 + 1)^{4 + 1}} + \\frac{1^{5}}{(1 + 1)^{5 + 1}} + \\frac{1^{6}}{(1 + 1)^{6 + 1}} = 0.117 \\Rightarrow nP_{4} = 5.85$\n",
        "\n",
        "Критерий ${\\chi}^{2}: {\\chi}^{2}_{набл} = \\sum_{i = 1}^{4} \\frac{(n_{i} - np_{i})^{2}}{np_{i}} = 3.656$"
      ],
      "metadata": {
        "id": "ej5bCi62Dsrs"
      }
    },
    {
      "cell_type": "code",
      "source": [
        "n_i = [30, 7, 6, 7]\n",
        "P_i = [0.5, 0.25, 0.125, 0.117]\n",
        "sum = 0\n",
        "for i in range(len(n_i)):\n",
        "    sum += ((n_i[i] - n * P_i[i]) ** 2) / (n * P_i[i])\n",
        "\n",
        "print('X^2 набл. = ', sum)"
      ],
      "metadata": {
        "id": "bKUcOPU7pTUM"
      },
      "execution_count": null,
      "outputs": []
    },
    {
      "cell_type": "markdown",
      "source": [
        "${\\chi}^{2}_{N - 1, 1 - \\alpha_{1}} = {\\chi}^{2}_{3, 0.9} \\approx 6.251$\n",
        "\n",
        "${\\chi}^{2} \\lt {\\chi}^{2}_{3, 0.9} \\Rightarrow $ гипотеза подтверждается (по критерию Пирсона)"
      ],
      "metadata": {
        "id": "1Zjfbxm4pVnA"
      }
    },
    {
      "cell_type": "markdown",
      "source": [
        "### Задание 2"
      ],
      "metadata": {
        "id": "e0YtQcuDJ9tT"
      }
    },
    {
      "cell_type": "code",
      "source": [
        "# Входные данные\n",
        "data_2 = [0.82, 0.16, 0.07, 0.17, 0.00, 0.04, 1.58, 7.55, 25.12, 3.37, 0.21, 0.43, 8.57, 0.00, 0.01, 0.56, 4.92, 7.11, 2.14, 3.91, 1.74, 6.12, 0.21, 4.59, 24.16, 3.26, 3.07, 0.01, 2.70, 0.07, 1.18, 7.54, 1.51, 0.40, 5.88, 5.26, 4.17, 7.10, 0.02, 6.08, 0.00, 4.30, 5.24, 0.56, 2.08, 1.20, 7.93, 0.05, 1.61, 0.77]\n",
        "alpha_2 = 0.01\n",
        "c = 2.51\n",
        "d = 8.45\n",
        "h = 1.9\n",
        "lambda_0 = 0.25\n",
        "lambda_1 = 0.14"
      ],
      "metadata": {
        "id": "2ZNEcqLpmmF0"
      },
      "execution_count": 12,
      "outputs": []
    },
    {
      "cell_type": "markdown",
      "source": [
        "#### a) Построить вариционный ряд, эмпирическую функцию распределения, гистограмму и полигон частот с шагом h."
      ],
      "metadata": {
        "id": "fodHLMb8oOyk"
      }
    },
    {
      "cell_type": "code",
      "source": [
        "# Вариационный ряд\n",
        "data_sorted = sorted(data_2)\n",
        "n = len(data_2)\n",
        "print(\"Вариационный ряд:\", data_sorted)"
      ],
      "metadata": {
        "colab": {
          "base_uri": "https://localhost:8080/"
        },
        "id": "k6KfsxKJpbgJ",
        "outputId": "1c3b06ec-b6c6-4bc3-86a0-c4f80c002152"
      },
      "execution_count": 13,
      "outputs": [
        {
          "output_type": "stream",
          "name": "stdout",
          "text": [
            "Вариационный ряд: [0.0, 0.0, 0.0, 0.01, 0.01, 0.02, 0.04, 0.05, 0.07, 0.07, 0.16, 0.17, 0.21, 0.21, 0.4, 0.43, 0.56, 0.56, 0.77, 0.82, 1.18, 1.2, 1.51, 1.58, 1.61, 1.74, 2.08, 2.14, 2.7, 3.07, 3.26, 3.37, 3.91, 4.17, 4.3, 4.59, 4.92, 5.24, 5.26, 5.88, 6.08, 6.12, 7.1, 7.11, 7.54, 7.55, 7.93, 8.57, 24.16, 25.12]\n"
          ]
        }
      ]
    },
    {
      "cell_type": "code",
      "source": [
        "# Эмпирическая функция распределения\n",
        "def empirical_distribution_function(data_2):\n",
        "    x_values = data_sorted\n",
        "    y_values = np.arange(1, n + 1) / n\n",
        "\n",
        "    return x_values, y_values\n",
        "\n",
        "x_values, y_values = empirical_distribution_function(data_2)\n",
        "\n",
        "plt.step(x_values, y_values, drawstyle='steps-post')\n",
        "plt.title('Эмпирическая функция распределения')\n",
        "plt.show()"
      ],
      "metadata": {
        "colab": {
          "base_uri": "https://localhost:8080/",
          "height": 452
        },
        "id": "gF8pIIxVpv4j",
        "outputId": "b76e5964-ddee-4c6f-e7bd-bf326a95c0f7"
      },
      "execution_count": 14,
      "outputs": [
        {
          "output_type": "display_data",
          "data": {
            "text/plain": [
              "<Figure size 640x480 with 1 Axes>"
            ],
            "image/png": "[encoded data removed]"
          },
          "metadata": {}
        }
      ]
    },
    {
      "cell_type": "code",
      "source": [
        "# Гистограмма и полигон частот\n",
        "def histogram_and_polygon(data_2):\n",
        "    bins = np.arange(min(data_2), max(data_2) + h, h)\n",
        "    histogram, bin_edges = np.histogram(data_2, bins=bins, density=True)\n",
        "\n",
        "    midpoints = (bin_edges[1:] + bin_edges[:-1]) / 2\n",
        "\n",
        "    # Гистограмма\n",
        "    plt.bar(midpoints, histogram, width=h, alpha=0.7, color='lightblue', edgecolor='black', align='center')\n",
        "\n",
        "    # Полигон частот\n",
        "    plt.plot(midpoints, histogram, marker='o', linestyle='-', color='r')\n",
        "\n",
        "    plt.title('Гистограмма и полигон частот')\n",
        "    plt.show()\n",
        "\n",
        "\n",
        "histogram_and_polygon(data_2)\n"
      ],
      "metadata": {
        "colab": {
          "base_uri": "https://localhost:8080/",
          "height": 452
        },
        "id": "2FqgS92dqSbA",
        "outputId": "aa6ba60c-a97a-405c-b2a5-cbed3fa0448e"
      },
      "execution_count": 7,
      "outputs": [
        {
          "output_type": "display_data",
          "data": {
            "text/plain": [
              "<Figure size 640x480 with 1 Axes>"
            ],
            "image/png": "[encoded data removed]"
          },
          "metadata": {}
        }
      ]
    },
    {
      "cell_type": "markdown",
      "source": [
        "#### b) Вычислить выборочные аналоги следующих числовых характеристик: (i) математическое ожидание, (ii) дисперсия, (iii) СКО, (iv) медианы, (v) асимметрии, (vi) эксцесса, (vii)  вероятности $\\mathbb{P}(X\\in \\left[ c, d \\right])$"
      ],
      "metadata": {
        "id": "ThJnlprP0Mp1"
      }
    },
    {
      "cell_type": "code",
      "source": [
        "# Мат. ожидание\n",
        "mean_value = np.mean(data_2)\n",
        "\n",
        "# Дисперсия\n",
        "variance_value = np.var(data_2)\n",
        "\n",
        "# СКО\n",
        "std_deviation_value = np.std(data_2)\n",
        "\n",
        "# Медиана\n",
        "median_value = np.median(data_2)\n",
        "\n",
        "# Асимметрия\n",
        "skewness_value = stats.skew(data_2)\n",
        "\n",
        "# Эксцесс\n",
        "kurtosis_value = stats.kurtosis(data_2)\n",
        "\n",
        "# Вероятность попадания в отрезок [c; d]\n",
        "probability_cd = len([x for x in data_2 if(c <= x <= d)]) / len(data_2)\n",
        "\n",
        "print(f\"Мат. ожидание: {mean_value}\")\n",
        "print(f\"Дисперсия: {variance_value}\")\n",
        "print(f\"СКО: {std_deviation_value}\")\n",
        "print(f\"Медиана: {median_value}\")\n",
        "print(f\"Асимметрия: {skewness_value}\")\n",
        "print(f\"Эксцесс: {kurtosis_value}\")\n",
        "print(f\"Вероятность попадания в отрезок [{c}; {d}]: {probability_cd}\")"
      ],
      "metadata": {
        "colab": {
          "base_uri": "https://localhost:8080/"
        },
        "id": "3-0lafUK0QTu",
        "outputId": "929189d0-ceab-46d9-a7aa-5863c77fdb9e"
      },
      "execution_count": 8,
      "outputs": [
        {
          "output_type": "stream",
          "name": "stdout",
          "text": [
            "Мат. ожидание: 3.511000000000001\n",
            "Дисперсия: 25.466009000000007\n",
            "СКО: 5.046385736346362\n",
            "Медиана: 1.675\n",
            "Асимметрия: 2.8975689913902887\n",
            "Эксцесс: 9.471917931646585\n",
            "Вероятность попадания в отрезок [2.51; 8.45]: 0.38\n"
          ]
        }
      ]
    },
    {
      "cell_type": "markdown",
      "source": [
        "#### c) В предположении, что исходные наблюдения являются выборкой из показательного распределения, построить ОМП и ОММ параметра $\\lambda$. Найти смещение оценки."
      ],
      "metadata": {
        "id": "Moyfa5vr1RDI"
      }
    },
    {
      "cell_type": "markdown",
      "source": [
        "**Оценка по методу максимального правдоподобия:**\n",
        "\n",
        "> *Плотность показательного распределения:*\n",
        "$p_{\\theta}(x) = \\lambda\\exp(-\\lambda x)\\mathbb{1}_{\\{x \\ge 0\\}}$\n",
        "\n",
        "> *Оцениваемый параметр:* $\\theta = \\lambda$\n",
        "\n",
        "> *Функция правдоподобия:*\n",
        "$L\\left(\\overrightarrow{X}, \\theta\\right) = \\prod_{i=1}^{n}\\lambda\\exp(-\\lambda x_i)\\mathbb{1}_{\\{x_i \\ge 0\\}} = \\lambda^n \\exp(-\\lambda \\sum_{i=1}^{n}x_i)\\mathbb{1}_{\\{x_{(1)} \\ge 0\\}}$\n",
        "\n",
        "> *Логарифм от функции правдоподобия*:\n",
        "$LL\\left(\\overrightarrow{X}, \\theta\\right) = n\\ln\\lambda -\\lambda \\sum_{i=1}^{n}x_i\\ + \\ln\\mathbb{1}_{\\{x_{(1)} \\ge 0\\}}$\n",
        "\n",
        "> *Частная производная по параметру $\\theta$:*\n",
        "$\\frac{\\partial LL\\left(\\overrightarrow X,\\ \\theta\\right)}{\\partial \\theta} = \\frac{n}{\\lambda} - \\sum_{i=1}^{n}x_i = 0 \\implies \\hat{\\theta} = \\hat{\\lambda} = \\frac{1}{\\overline{X}}$\n",
        "\n",
        "> При условии, что  $𝑋 \\ge 0$  для данной выборки - событие достоверное и всегда выполняется, индикаторную функцию можно не писать.\n",
        "\n",
        "> *Смещение:*\n",
        "$\\mathbb{E}_\\theta\\hat{\\lambda} = \\mathbb{E}_\\theta\\frac{1}{\\overline{X}} = n\\mathbb{E}_\\theta\\frac{1}{\\sum_{i=1}^{n}x_i} = n \\mathbb{E}_{\\lambda}(\\sum_{i=1}^{n}X_{i})^{-1}=n \\left(\\frac{1}{\\lambda}\\right)^{-1}\\frac{\\Gamma (-1+n)}{\\Gamma (n)}=n \\lambda\\frac{\\Gamma (-1+n)}{\\Gamma(-1+n) (n-1)} = n \\lambda \\frac{\\Gamma(n-1)}{\\Gamma(n)} = \\frac{n}{n-1} \\lambda \\implies$ оценка смещенная\n",
        "\n",
        "> Несмещенная оценка: $\\tilde{\\lambda} = \\frac{n-1}{n}\\hat{\\lambda} = \\frac{n-1}{n}\\frac{1}{\\overline{X}}$\n",
        "\n",
        "> Численное значение смещенной оценки: $\\hat{\\lambda} = \\frac{1}{\\overline{X}} = 0.285$\n",
        "\n",
        "> Численное значение несмещенной оценки: $\\tilde{\\lambda} = 0.279$\n",
        "\n",
        "Достаточная минимальная статистика: $T = \\sum_{i=1}^{n}X_{i} = 175.55$.\n",
        "\n",
        "Показательное распределение принадлежит экспоненциальному семейству распределения, следовательно, МДС будет являться ПДС."
      ],
      "metadata": {
        "id": "WUAPug-R1l1G"
      }
    },
    {
      "cell_type": "markdown",
      "source": [
        "#### d) Построить асимптотический  доверительный  интервал  уровня  значимости  $\\alpha_{2}$ для  параметра  $\\lambda$  на  базе  оценки максимального правдоподобия."
      ],
      "metadata": {
        "id": "qT-SbL5xAQXD"
      }
    },
    {
      "cell_type": "markdown",
      "source": [
        "**1. Построение на базе ОМП:**\n",
        "\n",
        "Из пункта c), ОМП: $\\hat{\\theta} = \\frac{1}{\\overline{X}}$\n",
        "\n",
        "$\\sqrt{n}\\left( \\widehat{\\theta}\\left(\\overrightarrow{X}\\right) - \\theta \\right)\\sim N\\left( 0, \\frac{1}{I(\\theta)} \\right)$\n",
        "\n",
        "*Информация Фишера:*\n",
        "$I_{n}(\\theta) = -\\mathbb{E_{\\theta}}\\left( \\frac{\\partial^{2} LL}{\\partial \\lambda^{2}} \\right) = -\\mathbb{E_{\\theta}}\\left(-\\frac{n}{\\lambda^{2}}\\right) = \\frac{n}{\\lambda^{2}}$\n",
        "\n",
        "$I(\\theta) = \\lim_{n \\to \\infty} \\left(\\frac{I_{n}(\\theta)}{n}\\right) = \\frac{1}{\\lambda^{2}}$\n",
        "\n",
        "$\\sqrt{n\\cdot I\\left(  \\widehat{\\theta}\\left(\\overrightarrow{X}\\right)\\right)}\\left( \\widehat{\\theta}\\left(\\overrightarrow{X}\\right) - \\theta \\right)\\sim \\mathcal{N}(0, 1)$\n",
        "\n",
        "$X_{\\alpha}$: $\\mathrm{Ф}(X_{\\alpha}) = 1 - \\frac{\\alpha_{2}}{2} = 1 - \\frac{0.01}{2} = 0.995$"
      ],
      "metadata": {
        "id": "V-eBmTZlDUgp"
      }
    },
    {
      "cell_type": "code",
      "source": [
        "print(stats.norm.ppf(0.995))"
      ],
      "metadata": {
        "colab": {
          "base_uri": "https://localhost:8080/"
        },
        "id": "8_5g-Q0fE0C3",
        "outputId": "d7f76566-d6e1-4a78-f6a2-7315ae24f19e"
      },
      "execution_count": 127,
      "outputs": [
        {
          "output_type": "stream",
          "name": "stdout",
          "text": [
            "2.5758293035489004\n"
          ]
        }
      ]
    },
    {
      "cell_type": "markdown",
      "source": [
        "$X_{0.99} \\approx 2.576$\n",
        "\n",
        "$P_\\theta\\left(-x_\\alpha \\le \\sqrt{n\\overline{X}^{2}}\\left(\\frac{1}{\\overline{X}} - \\theta\\right) \\le x_\\alpha\\right) \\approx 1 - \\alpha = 0.99$\n",
        "\n",
        "$\\left[\\frac{1}{\\overline{X}} - \\frac{x_\\alpha}{\\sqrt{n\\overline{X}^{2}}}, \\frac{1}{\\overline{X}} + \\frac{x_\\alpha}{\\sqrt{n\\overline{X}^{2}}}\\right] \\ni \\lambda$\n",
        "\n",
        "$\\left[0.285 - \\frac{2.576}{\\sqrt{50 \\cdot 3.511^2}}, 0.285 + \\frac{2.576}{\\sqrt{50 \\cdot 3.511^2}}\\right] \\ni \\lambda$\n",
        "\n",
        "$0.181 \\le \\lambda\\le 0.389$ - АДИ параметра $\\lambda$."
      ],
      "metadata": {
        "id": "WyaN0pOaFefU"
      }
    },
    {
      "cell_type": "markdown",
      "source": [
        "**2. Построение на базе асимптотической нормальной оценки:**\n",
        "\n",
        "$\\sqrt{n}\\left( \\widehat{\\theta}\\left(\\overrightarrow{X}\\right) - \\theta \\right)\\sim \\mathcal{N}\\left(0,\\sigma^{2}\\left(\\theta\\right)\\right)$\n",
        "\n",
        "$\\sqrt{n}\\frac{ \\widehat{\\theta} \\left(\\overrightarrow{X}\\right) - \\theta}{\\sigma(\\widehat{\\theta})}\\sim \\mathcal{N}(0, 1)$\n",
        "\n",
        "$-X_{0.99}\\le \\sqrt{n}\\cdot \\frac{\\widehat{\\lambda}-\\lambda}{\\sqrt{\\widehat{\\lambda}}}\\le X_{0.99}$\n",
        "\n",
        "$0.285 - \\frac{2.576 \\cdot \\sqrt{0.285}}{\\sqrt{50}} \\le \\lambda\\le 0.285 + \\frac{2.576 \\cdot \\sqrt{0.285}}{\\sqrt{50}}$\n",
        "\n",
        "$0.09\\le \\lambda\\le 0.48$ - АДИ параметра $\\lambda$"
      ],
      "metadata": {
        "id": "EHeJU0z5JdXd"
      }
    },
    {
      "cell_type": "markdown",
      "source": [
        "#### e) С использованием теоремы Колмогорова построить критерий значимости проверки простой гипотезы согласия с показательным распределением с параметром $\\lambda_{0}$. Проверить гипотезу на уровне значимости $\\alpha_{2}$. Вычислить наибольшее значение уровня значимости, на котором еще нет оснований отвергнуть данную гипотезу."
      ],
      "metadata": {
        "id": "FmZ10z6XNcNA"
      }
    },
    {
      "cell_type": "markdown",
      "source": [
        "Статистика критерия Колмогорова $D_{n} = \\sup_{x \\in \\mathbb{R}} | F_n(x) - F_0(x)|$\n",
        "\n",
        "Теорема Колмогорова $\\sqrt{n}D_n \\rightarrow K$ при основной гипотезе"
      ],
      "metadata": {
        "id": "aucwqd4vVoFo"
      }
    },
    {
      "cell_type": "code",
      "source": [
        "D, p_value = stats.kstest(sorted(data_2), 'expon', args=(0, 1 / lambda_0), alternative='two-sided')\n",
        "\n",
        "\n",
        "print(f\"D: {D}\")\n",
        "print(f\"sqrt(n) * D: {np.sqrt(len(data_2)) * D}\")\n",
        "print(f\"p-value: {p_value}\")\n",
        "print(f\"Квантиль Колмгорова {1 - alpha_2}: {stats.kstwobign.ppf(1 - alpha_2)}\")"
      ],
      "metadata": {
        "colab": {
          "base_uri": "https://localhost:8080/"
        },
        "id": "1HRcWEgDS52q",
        "outputId": "efecc03f-9e71-40f0-f88d-afe1320bbda0"
      },
      "execution_count": 16,
      "outputs": [
        {
          "output_type": "stream",
          "name": "stdout",
          "text": [
            "D: 0.22935823539880582\n",
            "sqrt(n) * D: 1.6218076357147604\n",
            "p-value: 0.008551434521333556\n",
            "Квантиль Колмгорова 0.99: 1.6276236115189502\n"
          ]
        }
      ]
    },
    {
      "cell_type": "markdown",
      "source": [
        "$\\sqrt{n}D_n < d_{0.99} \\Rightarrow$ гипотеза принимается\n",
        "\n",
        "Наибольший уровень значимости, при котором нет основания отвергнуть гипотезу: 0.008551434521333556"
      ],
      "metadata": {
        "id": "EZa_5AHPWFBs"
      }
    },
    {
      "cell_type": "markdown",
      "source": [
        "#### f) Используя гистограмму частот, построить критерий значимости $\\mathcal{\\chi^{2}}$ проверки простой гипотезы согласия с показательным распределением с параметром $\\lambda_{0}$. Проверить гипотезу на урокень значимости $\\alpha_{2}$. Вычислить наибольшее значение уровня значимости, на котором ещё нет оснований отвергнуть данную гипотезу."
      ],
      "metadata": {
        "id": "kIygl2I1Ofyo"
      }
    },
    {
      "cell_type": "markdown",
      "source": [
        "*Условия на формирование интервалов:* $n_i > 5\\ или\\ n_i \\cdot P_i > 5$\n",
        "\n",
        "$P_{i}=P_{H_{0}}=(X\\in I_{i})=\\sum_{k\\in I_{i}}^{}\\lambda_{0}\\cdot exp(-\\lambda_{0}\\cdot k)$\n",
        "\n",
        "$I_{1} = \\left[0; 1\\right]; n_{1} = 20$\n",
        "\n",
        "$P_{1} = 0.25\\cdot exp(-0.25\\cdot 0) + 0.25\\cdot exp(-0.25\\cdot 1) = 0.507 \\Rightarrow nP_{1} = 25.35$\n",
        "\n",
        "$I_{2} = \\left[1.01; 3 \\right]; n_{2} = 9$\n",
        "\n",
        "$P_{2} = 0.25\\cdot exp(-0.25\\cdot 1.01) + 0.25\\cdot exp(-0.25\\cdot 3) = 0.35 \\Rightarrow nP_{2} = 17.5$\n",
        "\n",
        "$I_{3} = \\left[3.01; 26 \\right]; n_{3} = 21$\n",
        "\n",
        "$P_{3} = 0.25\\cdot exp(-0.25\\cdot 3.01) + 0.25\\cdot exp(-0.25\\cdot 26) = 0.135 \\Rightarrow nP_{2} = 6.75$\n",
        "\n",
        "\n",
        "Критерий ${\\chi}^{2}: {\\chi}^{2}_{набл} = \\sum_{i = 1}^{3} \\frac{(n_{i} - np_{i})^{2}}{np_{i}} = 35.34$"
      ],
      "metadata": {
        "id": "D6L9eihqOkBd"
      }
    },
    {
      "cell_type": "code",
      "source": [
        "n_i = [20, 9, 21]\n",
        "P_i = [0.507, 0.35, 0.135]\n",
        "sum = 0\n",
        "for i in range(len(n_i)):\n",
        "    sum += ((n_i[i] - n * P_i[i]) ** 2) / (n * P_i[i])\n",
        "\n",
        "print('X^2 набл. = ', sum)"
      ],
      "metadata": {
        "colab": {
          "base_uri": "https://localhost:8080/"
        },
        "id": "bSPYnxMvZGhE",
        "outputId": "69251e97-3a7c-4cf1-de5d-dd39edfde00f"
      },
      "execution_count": 23,
      "outputs": [
        {
          "output_type": "stream",
          "name": "stdout",
          "text": [
            "X^2 набл. =  35.340997464074384\n"
          ]
        }
      ]
    },
    {
      "cell_type": "markdown",
      "source": [
        "${\\chi}^{2}_{N - 1, 1 - \\alpha_{1}} = {\\chi}^{2}_{2, 0.99} \\approx 9.21$\n",
        "\n",
        "${\\chi}^{2}\\gt {\\chi}^{2}_{2, 0.99} \\Rightarrow $ гипотеза отвергается (по критерию Пирсона)\n",
        "\n",
        "Для нахождения наибольшего значения уровня значимости, на котором ещё нет оснований отвергнуть данную гипотезу, вычисляем функцию распределения в точке\n",
        "$\\mathbb{\\chi^2}$ и вычитаем полученное значение из единицы:"
      ],
      "metadata": {
        "id": "Zpr_mGGEZHcS"
      }
    },
    {
      "cell_type": "code",
      "source": [
        "chi_2 = sum\n",
        "max = 1 - chi2.cdf(chi_2, len(n_i))\n",
        "print(\"Максимальный уровень значимости:\", max)"
      ],
      "metadata": {
        "colab": {
          "base_uri": "https://localhost:8080/"
        },
        "id": "Lj3z1zzQZIED",
        "outputId": "2d36cca7-10ff-4884-874c-97abd41a28b0"
      },
      "execution_count": 24,
      "outputs": [
        {
          "output_type": "stream",
          "name": "stdout",
          "text": [
            "Максимальный уровень значимости: 1.0320112686645899e-07\n"
          ]
        }
      ]
    },
    {
      "cell_type": "markdown",
      "source": [
        "#### g) Построить критерий проверки значимости  $\\mathcal{\\chi^{2}}$ сложной гипотезы согласия с показательным распределением. Проверить гипотезу по уровню значимости $\\alpha_{2}$. Вычислить наибольшее значение уровня значимости, на котором ещё нет оснований отвергнуть данную гипотезу."
      ],
      "metadata": {
        "id": "ByzOV3N-ZRgv"
      }
    },
    {
      "cell_type": "markdown",
      "source": [
        "*Условия на формирование интервалов:* $n_i > 5\\ или\\ n_i \\cdot P_i > 5$\n",
        "\n",
        "$P_{i}=P_{H_{0}}=(X\\in I_{i})=\\sum_{k\\in I_{i}}^{}\\frac{1}{\\overline{X}}\\cdot exp(-\\frac{1}{\\overline{X}}\\cdot k)$\n",
        "\n",
        "$I_{1} = \\left[0; 1\\right]; n_{1} = 20$\n",
        "\n",
        "$P_{1} = 0.285\\cdot exp(-0.285\\cdot 0) + 0.285\\cdot exp(-0.285\\cdot 1) = 0.499 \\Rightarrow nP_{1} = 24.97$\n",
        "\n",
        "$I_{2} = \\left[1.01; 3 \\right]; n_{2} = 9$\n",
        "\n",
        "$P_{2} = 0.285\\cdot exp(-0.285\\cdot 1.01) + 0.285\\cdot exp(-0.285\\cdot 3) = 0.335 \\Rightarrow nP_{2} = 16.75$\n",
        "\n",
        "$I_{3} = \\left[3.01; 26 \\right]; n_{3} = 21$\n",
        "\n",
        "$P_{3} = 0.285\\cdot exp(-0.285\\cdot 3.01) + 0.285\\cdot exp(-0.285\\cdot 26) = 0.121 \\Rightarrow nP_{2} = 6.05$\n",
        "\n",
        "\n",
        "Критерий ${\\chi}^{2}: {\\chi}^{2}_{набл} = \\sum_{i = 1}^{3} \\frac{(n_{i} - np_{i})^{2}}{np_{i}} = 41.51$"
      ],
      "metadata": {
        "id": "7cgaijUmZahO"
      }
    },
    {
      "cell_type": "code",
      "source": [
        "n_i = [20, 9, 21]\n",
        "P_i = [0.499, 0.335, 0.121]\n",
        "sum = 0\n",
        "for i in range(len(n_i)):\n",
        "    sum += ((n_i[i] - n * P_i[i]) ** 2) / (n * P_i[i])\n",
        "\n",
        "print('X^2 набл. = ', sum)"
      ],
      "metadata": {
        "id": "9RQQX7wGZdPM"
      },
      "execution_count": null,
      "outputs": []
    },
    {
      "cell_type": "markdown",
      "source": [
        "${\\chi}^{2}_{N - 1, 1 - \\alpha_{1}} = {\\chi}^{2}_{2, 0.99} \\approx 9.21$\n",
        "\n",
        "${\\chi}^{2}\\gt {\\chi}^{2}_{2, 0.99} \\Rightarrow $ гипотеза отвергается (по критерию Пирсона)\n",
        "\n",
        "Для нахождения наибольшего значения уровня значимости, на котором ещё нет оснований отвергнуть данную гипотезу, вычисляем функцию распределения в точке\n",
        "$\\mathbb{\\chi^2}$ и вычитаем полученное значение из единицы:"
      ],
      "metadata": {
        "id": "0gvWkv5OZfUj"
      }
    },
    {
      "cell_type": "code",
      "source": [
        "chi_2 = sum\n",
        "max = 1 - chi2.cdf(chi_2, len(n_i))\n",
        "print(\"Максимальный уровень значимости:\", max)"
      ],
      "metadata": {
        "colab": {
          "base_uri": "https://localhost:8080/"
        },
        "id": "MnlOUuDEZk87",
        "outputId": "c90075b9-6b1c-4904-f165-d6680cced27b"
      },
      "execution_count": 21,
      "outputs": [
        {
          "output_type": "stream",
          "name": "stdout",
          "text": [
            "Максимальный уровень значимости: 5.096215227595735e-09\n"
          ]
        }
      ]
    },
    {
      "cell_type": "markdown",
      "source": [
        "#### h) Построить наиболее мощный критерий проверки простой гипотезы о показательности с параметром $\\lambda = \\lambda_{0}$ при альтернативе показательности с параметром $\\lambda = \\lambda_{1}$. Проверить гипотезу на уровне значимости $\\alpha_2$. Что получится, если поменять местами основную и альтернативную гипотезы?"
      ],
      "metadata": {
        "id": "V3C76uQkbEsd"
      }
    },
    {
      "cell_type": "markdown",
      "source": [
        "*Основная гипотеза:* $H_{0}=\\lambda_{0}=0.25$\n",
        "\n",
        "*Альтернативная гипотеза:* $H_{A}=\\lambda_{1}=0.14$\n",
        "\n",
        "*Функция правдоподобия:*\n",
        "$L\\left(\\overrightarrow{X}, \\theta\\right) = \\prod_{i=1}^{n}\\lambda\\exp(-\\lambda x_i)\\mathbb{1}_{\\{x_i \\ge 0\\}} = \\lambda^n \\exp(-\\lambda \\sum_{i=1}^{n}x_i)\\mathbb{1}_{\\{x_{(1)} \\ge 0\\}}$\n",
        "\n",
        "*Статистическое отношение правдоподобия:*\n",
        "$LR\\left(\\overrightarrow{X}, \\lambda_0, \\lambda_1\\right) = \\left(\\frac{\\lambda_1}{\\lambda_0}\\right)^{n} \\cdot exp(\\sum_{i=1}^{n}X_i\\left(\\lambda_0 - \\lambda_1 \\right) > c$\n",
        "\n",
        "*В силу монотонности статистики LR относительно МДС:*\n",
        "\n",
        "$ LR\\left(\\overrightarrow{X}\\right) > c \\Leftrightarrow \\overline{X} < c^{*}$\n",
        "\n",
        "$ LR\\left(\\overrightarrow{X}\\right) < c \\Leftrightarrow \\overline{X} > c^{*}$\n",
        "\n",
        "$ \\phi(x) = \\left\\{\n",
        "  \\begin{array}{l}\n",
        "    1, \\overline{X} < c^{*} \\\\\n",
        "    p, \\overline{X} = c^{*} \\\\\n",
        "    0, \\overline{X} > c^{*} \\\\\n",
        "  \\end{array}\\right.$\n",
        "  \n",
        "*По ЦПТ:*\n",
        "\n",
        "$ \\sqrt{n} \\frac{ \\overline{X} - \\mu}{\\sigma} \\sim \\mathcal{N}(0, 1)$\n",
        "\n",
        "$ \\mu = \\frac{1}{\\lambda_0}, \\sigma^{2} = \\frac{1}{\\lambda_0}$\n",
        "\n",
        "$ \\sqrt{n} \\frac{ \\overline{X} - \\frac{1}{\\lambda_0}}{\\sqrt{\\frac{1}{\\lambda_0}}} \\sim \\mathcal{N}(0, 1)$\n",
        "\n",
        "$ P\\left(\\sqrt{n} \\frac{ \\overline{X} - \\frac{1}{\\lambda_0}}{\\sqrt{\\frac{1}{\\lambda_0}}} \\ge \\sqrt{n} \\frac{ c^* -\\frac{1}{\\lambda_0}}{\\sqrt{\\frac{1}{\\lambda_0}}}\\right) = 1 - \\Phi \\left(\\sqrt{n} \\frac{ c^* -\\frac{1}{\\lambda_0}}{\\sqrt{\\frac{1}{\\lambda_0}}}\\right) = \\alpha$\n",
        "\n",
        "$\\sqrt{n} \\frac{ c^* -\\frac{1}{\\lambda_0}}{\\sqrt{\\frac{1}{\\lambda_0}}} = x_{\\alpha}$\n",
        "\n",
        "$x_{\\alpha}: \\Phi(x_{\\alpha}) = 1 - \\alpha$\n",
        "\n",
        "*Найдем $c^{*}:$*\n",
        "$\\sqrt{50} \\cdot \\frac{c^{*} - \\frac{1}{0.25}}{\\sqrt{\\frac{1}{0.25}}} = 2.576$\n",
        "\n",
        "$c^{*} = 4.73 \\gt \\overline{X} = 3.511 \\Rightarrow H_{0}$ отвергаем, $H_{1}$ принимаем\n",
        "\n",
        "**Поменяем гипотезы местами:**\n",
        "\n",
        "Основная гипотеза: $H_{0} = \\lambda_{1} = 0.14$\n",
        "\n",
        "Альтернативная гипотеза: $H_{A} = \\lambda_{0} = 0.25$\n",
        "\n",
        "$LR\\left(\\overrightarrow{X}\\right) > c \\Leftrightarrow \\overline{X} < c^{*}$\n",
        "\n",
        "$LR\\left(\\overrightarrow{X}\\right) < c \\Leftrightarrow \\overline{X} > c^{*}$\n",
        "\n",
        "$ \\phi(x) = \\left\\{\n",
        "  \\begin{array}{l}\n",
        "    1, \\overline{X} < c^{*} \\\\\n",
        "    p, \\overline{X} = c^{*} \\\\\n",
        "    0, \\overline{X} > c^{*} \\\\\n",
        "  \\end{array}\\right.$\n",
        "  \n",
        "По ЦПТ:*\n",
        "\n",
        "$ \\sqrt{n} \\frac{ \\overline{X} - \\mu}{\\sigma} \\sim \\mathcal{N}(0, 1)$\n",
        "\n",
        "$ \\mu = \\frac{1}{\\lambda_0}, \\sigma^{2} = \\frac{1}{\\lambda_0}$\n",
        "\n",
        "$ \\sqrt{n} \\frac{ \\overline{X} - \\frac{1}{\\lambda_0}}{\\sqrt{\\frac{1}{\\lambda_0}}} \\sim \\mathcal{N}(0, 1)$\n",
        "\n",
        "$ P\\left(\\sqrt{n} \\frac{ \\overline{X} - \\frac{1}{\\lambda_0}}{\\sqrt{\\frac{1}{\\lambda_0}}} \\ge \\sqrt{n} \\frac{ c^* -\\frac{1}{\\lambda_0}}{\\sqrt{\\frac{1}{\\lambda_0}}}\\right) = 1 - \\Phi \\left(\\sqrt{n} \\frac{ c^* -\\frac{1}{\\lambda_0}}{\\sqrt{\\frac{1}{\\lambda_0}}}\\right) = \\alpha$\n",
        "\n",
        "$\\sqrt{n} \\frac{ c^* -\\frac{1}{\\lambda_0}}{\\sqrt{\\frac{1}{\\lambda_0}}} = x_{\\alpha}$\n",
        "\n",
        "$x_{\\alpha}: \\Phi(x_{\\alpha}) = 1 - \\alpha$\n",
        "\n",
        "*Найдем $c^{*}:$*\n",
        "$\\sqrt{50} \\cdot \\frac{c^{*} - \\frac{1}{0.14}}{\\sqrt{\\frac{1}{0.14}}} = 2.576$\n",
        "\n",
        "$c^{*} = 8.12 \\gt \\overline{X} = 3.511 \\Rightarrow H_{0}$ отвергаем, $H_{1}$ принимаем"
      ],
      "metadata": {
        "id": "4a-c026pbHfL"
      }
    },
    {
      "cell_type": "markdown",
      "source": [
        "#### i) В пунктах (c)-(h) заменить семейство показательных распределений на семейство гамма-распределений с плотностями $p_{\\lambda}(x) = \\frac{\\sqrt{\\lambda}\\cdot exp\\left( \\frac{-\\lambda x}{2} \\right)}{\\sqrt{2\\pi x}}$"
      ],
      "metadata": {
        "id": "gxpqCe0SgYpT"
      }
    },
    {
      "cell_type": "markdown",
      "source": [
        "##### i.c) В предположении, что исходные наблюдения являются выборкой из гамма-распределения, построить ОМП и ОММ параметра $\\lambda$. Найти смещение оценки."
      ],
      "metadata": {
        "id": "X3Xt76bygry2"
      }
    },
    {
      "cell_type": "markdown",
      "source": [
        "**Оценка по методу максимального правдоподобия:**\n",
        "\n",
        "> *Плотность показательного распределения:*\n",
        "$p_{\\theta}(x) = \\frac{\\sqrt{\\lambda}\\exp(-\\frac{\\lambda x}{2})}{\\sqrt{2\\pi x}}$\n",
        "\n",
        "> *Оцениваемый параметр:* $\\theta = \\lambda$\n",
        "\n",
        "> *Функция правдоподобия:*\n",
        "$L\\left(\\overrightarrow{X}, \\theta\\right) = \\prod_{i=1}^{n}\\frac{\\sqrt{\\lambda}\\exp(-\\lambda x_i/2)}{\\sqrt{2\\pi x_i}} = \\left(\\frac{\\lambda}{2\\pi}\\right)^{n/2}\\exp\\left(-\\frac{\\lambda}{2}\\sum_{i=1}^{n}{x_i}\\right)\\prod_{i=1}^{n}\\frac{1}{\\sqrt{x_i}}$\n",
        "\n",
        "> *Логарифм от функции правдоподобия*:\n",
        "$LL\\left(\\overrightarrow{X}, \\theta\\right) = \\frac{n}{2}\\ln\\frac{\\lambda}{2\\pi}-\\frac{\\lambda}{2}\\sum_{i=1}^{n}{x_i}+\\ln\\prod_{i=1}^{n}\\frac{1}{\\sqrt{x_i}}$\n",
        "\n",
        "> *Частная производная по параметру $\\theta$:*\n",
        "$\\frac{\\partial LL\\left(\\overrightarrow X,\\ \\theta\\right)}{\\partial \\theta} = \\frac{n}{2\\lambda} - \\frac{1}{2}\\sum_{i=1}^{n}x_i = 0 \\implies \\hat{\\theta} = \\hat{\\lambda} = \\frac{1}{\\overline{X}}$\n",
        "\n",
        "**Оценка по методу моментов:**\n",
        "\n",
        "> $X_1 \\sim Gamma(\\frac{1}{2}, \\frac{2}{\\lambda})$\n",
        "\n",
        "> Тогда $\\mathbb{E}_\\theta X_1 = \\frac{1}{\\lambda}$\n",
        "\n",
        "> *Выборочный момент первого порядка:* $M_1 = \\frac{1}{n}\\sum_{i=1}^{n}x_i = \\overline{X}$\n",
        "\n",
        "> Решаем уравнение: $\\frac{1}{\\lambda} = \\overline{X} \\implies \\hat{\\lambda} = \\frac{1}{\\bar{X}}$\n",
        "\n",
        "> *Смещение:*\n",
        "$\\mathbb{E}_\\theta\\hat{\\lambda} = \\mathbb{E}_\\theta\\frac{1}{\\overline{X}} = n\\mathbb{E}_\\theta\\frac{1}{\\sum_{i=1}^{n}x_i} = n \\mathbb{E}_{\\lambda}(\\sum_{i=1}^{n}X_{i})^{-1}=n \\left(\\frac{1}{\\lambda}\\right)^{-1}\\frac{\\Gamma (-1+n)}{\\Gamma (n)}=n \\lambda\\frac{\\Gamma (-1+n)}{\\Gamma(-1+n) (n-1)} = n \\lambda \\frac{\\Gamma(n-1)}{\\Gamma(n)} = \\frac{n}{n-1} \\lambda \\implies$ оценка смещенная\n",
        "\n",
        "> Несмещенная оценка: $\\tilde{\\lambda} = \\frac{n-1}{n}\\hat{\\lambda} = \\frac{n-1}{n}\\frac{1}{\\overline{X}}$\n",
        "\n",
        "> Численное значение смещенной оценки: $\\hat{\\lambda} = \\frac{1}{\\overline{X}} = 0.285$\n",
        "\n",
        "> Численное значение несмещенной оценки: $\\tilde{\\lambda} = 0.279$\n",
        "\n",
        "Достаточная минимальная статистика: $T = \\sum_{i=1}^{n}X_{i} = 175.55$.\n",
        "\n",
        "Показательное распределение принадлежит экспоненциальному семейству распределения, следовательно, МДС будет являться ПДС."
      ],
      "metadata": {
        "id": "310YMN4lg-oB"
      }
    },
    {
      "cell_type": "markdown",
      "source": [
        "##### i.d) Построить асимптотический  доверительный  интервал  уровня  значимости  $\\alpha_{2}$ для  параметра  $\\lambda$  на  базе  оценки максимального правдоподобия.\n",
        "\n"
      ],
      "metadata": {
        "id": "iMrq5nzDjOn1"
      }
    },
    {
      "cell_type": "markdown",
      "source": [
        "**1. Построение на базе ОМП:**\n",
        "\n",
        "Из пункта c), ОМП: $\\hat{\\theta} = \\frac{1}{\\overline{X}}$\n",
        "\n",
        "$\\sqrt{n}\\left( \\widehat{\\theta}\\left(\\overrightarrow{X}\\right) - \\theta \\right)\\sim N\\left( 0, \\frac{1}{I(\\theta)} \\right)$\n",
        "\n",
        "*Информация Фишера:*\n",
        "$I_n(\\theta) = -\\mathbb{E}_{\\theta}\\frac{\\partial^2 LL\\left(\\overrightarrow X,\\ \\theta\\right)}{\\partial \\theta^2} = \\mathbb{E}_{\\theta}\\frac{n}{2\\lambda^2} = \\frac{n}{2\\lambda^2} $\n",
        "\n",
        "$I(\\theta) = {\\lim_{n \\to \\infty}}\\frac{1}{2\\lambda^2} = \\frac{1}{2\\lambda^2}$\n",
        "\n",
        "$I(\\hat{\\theta}) = \\frac{\\bar{X}^{2}}{2}$\n",
        "\n",
        "$\\sqrt{n\\frac{\\bar{X}^{2}}{2}}\\left(\\frac{1}{\\bar{X}} - \\theta\\right) \\sim \\mathcal{N} \\left(0, 1\\right)$\n",
        "\n",
        "$X_{\\alpha}$: $\\mathrm{Ф}(X_{\\alpha}) = 1 - \\frac{\\alpha_{2}}{2} = 1 - \\frac{0.01}{2} = 0.995$"
      ],
      "metadata": {
        "id": "Ol6gcrUzjYbI"
      }
    },
    {
      "cell_type": "code",
      "source": [
        "print(stats.norm.ppf(0.995))"
      ],
      "metadata": {
        "id": "9AcBxXsYjnur"
      },
      "execution_count": null,
      "outputs": []
    },
    {
      "cell_type": "markdown",
      "source": [
        "$X_{0.99} \\approx 2.576$\n",
        "\n",
        "$P_\\theta\\left(-x_\\alpha \\le \\sqrt{n\\frac{\\bar{X}^{2}}{2}}\\left(\\frac{1}{\\bar{X}} - \\theta\\right) \\le x_\\alpha\\right) \\approx 1 - \\alpha = 0.99$\n",
        "\n",
        "$\\left[\\frac{1}{\\bar{X}} - \\frac{\\sqrt{2}x_\\alpha}{\\sqrt{n\\bar{X}^{2}}}, \\frac{1}{\\bar{X}} + \\frac{\\sqrt{2}x_\\alpha}{\\sqrt{n\\bar{X}^{2}}}\\right] \\ni \\lambda$\n",
        "\n",
        "$\\left[0.285 - \\frac{\\sqrt{2} \\cdot 2.576}{\\sqrt{50 \\cdot 3.511^2}}, 0.285 + \\frac{\\sqrt{2} \\cdot 2.576}{\\sqrt{50 \\cdot 3.511^2}}\\right] \\ni \\lambda$\n",
        "\n",
        "$0.138 \\le \\lambda\\le 0.432$ - АДИ параметра $\\lambda$."
      ],
      "metadata": {
        "id": "gCg7n7nyjmsH"
      }
    },
    {
      "cell_type": "markdown",
      "source": [
        "**2. Построение на базе асимптотической нормальной оценки:**\n",
        "\n",
        "$\\sqrt{n}\\left( \\widehat{\\theta}\\left(\\overrightarrow{X}\\right) - \\theta \\right)\\sim \\mathcal{N}\\left(0,\\sigma^{2}\\left(\\theta\\right)\\right)$\n",
        "\n",
        "$\\sqrt{n}\\frac{ \\widehat{\\theta} \\left(\\overrightarrow{X}\\right) - \\theta}{\\sigma(\\widehat{\\theta})}\\sim \\mathcal{N}(0, 1)$\n",
        "\n",
        "$-X_{0.99}\\le \\sqrt{n}\\cdot \\frac{\\widehat{\\lambda}-\\lambda}{\\sqrt{\\widehat{\\lambda}}}\\le X_{0.99}$\n",
        "\n",
        "$0.285 - \\frac{2.576 \\cdot \\sqrt{0.285}}{\\sqrt{50}} \\le \\lambda\\le 0.285 + \\frac{2.576 \\cdot \\sqrt{0.285}}{\\sqrt{50}}$\n",
        "\n",
        "$0.09\\le \\lambda\\le 0.48$ - АДИ параметра $\\lambda$"
      ],
      "metadata": {
        "id": "7SsFO5x7jr9X"
      }
    },
    {
      "cell_type": "markdown",
      "source": [
        "##### i.e) С использованием теоремы Колмогорова построить критерий значимости проверки простой гипотезы согласия с показательным распределением с параметром $\\lambda_{0}$. Проверить гипотезу на уровне значимости $\\alpha_{2}$. Вычислить наибольшее значение уровня значимости, на котором еще нет оснований отвергнуть данную гипотезу."
      ],
      "metadata": {
        "id": "A6QoXmfImCjc"
      }
    },
    {
      "cell_type": "markdown",
      "source": [
        "Статистика критерия Колмогорова $D_{n} = \\sup_{x \\in \\mathbb{R}} | F_n(x) - F_0(x)|$\n",
        "\n",
        "Теорема Колмогорова $\\sqrt{n}D_n \\rightarrow K$ при основной гипотезе"
      ],
      "metadata": {
        "id": "UVHloMptmDFA"
      }
    },
    {
      "cell_type": "code",
      "source": [
        "df = 1\n",
        "\n",
        "D, p_value = stats.kstest(sorted(data_2), 'chi2', args=(df, ), alternative='two-sided')\n",
        "\n",
        "print(f\"D: {D}\")\n",
        "print(f\"sqrt(n) * D: {np.sqrt(len(data_2)) * D}\")\n",
        "print(f\"p-value: {p_value}\")\n",
        "print(f\"Квантиль Колмогорова {1 - alpha_2}: {stats.kstwobign.ppf(1 - alpha_2)}\")"
      ],
      "metadata": {
        "colab": {
          "base_uri": "https://localhost:8080/"
        },
        "id": "XWJ98cRwmPyt",
        "outputId": "53621e9f-b7f4-43ca-b220-69449ca984f8"
      },
      "execution_count": 29,
      "outputs": [
        {
          "output_type": "stream",
          "name": "stdout",
          "text": [
            "D: 0.34086091362746535\n",
            "sqrt(n) * D: 2.4102506346742283\n",
            "p-value: 1.091394756060616e-05\n",
            "Квантиль Колмогорова 0.99: 1.6276236115189502\n"
          ]
        }
      ]
    },
    {
      "cell_type": "markdown",
      "source": [
        "$\\sqrt{n}D_n > d_{0.99} \\Rightarrow$ гипотеза отвергается\n",
        "\n",
        "Наибольший уровень значимости, при котором нет основания отвергнуть гипотезу: 1.091394756060616e-05"
      ],
      "metadata": {
        "id": "mkVn3ttTmQEs"
      }
    },
    {
      "cell_type": "markdown",
      "source": [
        "##### i.f) Используя гистограмму частот, построить критерий значимости $\\mathcal{\\chi^{2}}$ проверки простой гипотезы согласия с гамма-распределением с параметром $\\lambda_{0}$. Проверить гипотезу на урокень значимости $\\alpha_{2}$. Вычислить наибольшее значение уровня значимости, на котором ещё нет оснований отвергнуть данную гипотезу."
      ],
      "metadata": {
        "id": "201JesxH3-M1"
      }
    },
    {
      "cell_type": "markdown",
      "source": [
        "*Условия на формирование интервалов:* $n_i > 5\\ или\\ n_i \\cdot P_i > 5$\n",
        "\n",
        "$P_{i}=P_{H_{0}}=(X\\in I_{i})=\\sum_{k\\in I_{i}}^{}\\frac{\\sqrt{\\lambda_{0}}\\cdot exp\\left( -\\frac{\\lambda_{0}\\cdot k}{2} \\right)}{\\sqrt{2\\pi\\cdot k}}$\n",
        "\n",
        "$I_{1} = \\left[0; 1\\right]; n_{1} = 20$\n",
        "\n",
        "$P_{1} = \\frac{\\sqrt{0.25}\\cdot exp\\left( - \\frac{0.25\\cdot 0.01}{2} \\right)}{\\sqrt{2\\pi\\cdot 0.01}} + \\frac{\\sqrt{0.25}\\cdot exp\\left( -\\frac{0.25\\cdot 1}{2} \\right)}{\\sqrt{2\\pi\\cdot 1}} = 2.168 \\Rightarrow nP_{1} = 108.4$\n",
        "\n",
        "$I_{2} = \\left[1.01; 3 \\right]; n_{2} = 9$\n",
        "\n",
        "$P_{1} = \\frac{\\sqrt{0.25}\\cdot exp\\left( - \\frac{0.25\\cdot 1.01}{2} \\right)}{\\sqrt{2\\pi\\cdot 1.01}} + \\frac{\\sqrt{0.25}\\cdot exp\\left( -\\frac{0.25\\cdot 3}{2} \\right)}{\\sqrt{2\\pi\\cdot 3}} = 0.254 \\Rightarrow nP_{1} = 12.7$\n",
        "\n",
        "$I_{3} = \\left[3.01; 26 \\right]; n_{3} = 21$\n",
        "\n",
        "$P_{1} = \\frac{\\sqrt{0.25}\\cdot exp\\left( - \\frac{0.25\\cdot 3.01}{2} \\right)}{\\sqrt{2\\pi\\cdot 3.01}} + \\frac{\\sqrt{0.25}\\cdot exp\\left( -\\frac{0.25\\cdot 26}{2} \\right)}{\\sqrt{2\\pi\\cdot 26}} = 0.08 \\Rightarrow nP_{1} = 4.02$\n",
        "\n",
        "\n",
        "Критерий ${\\chi}^{2}: {\\chi}^{2}_{набл} = \\sum_{i = 1}^{3} \\frac{(n_{i} - np_{i})^{2}}{np_{i}} = 145.42$"
      ],
      "metadata": {
        "id": "QCd8akf44t3G"
      }
    },
    {
      "cell_type": "code",
      "source": [
        "n_i = [20, 9, 21]\n",
        "P_i = [2.168, 0.254, 0.08]\n",
        "sum = 0\n",
        "for i in range(len(n_i)):\n",
        "    sum += ((n_i[i] - n * P_i[i]) ** 2) / (n * P_i[i])\n",
        "\n",
        "print('X^2 набл. = ', sum)"
      ],
      "metadata": {
        "colab": {
          "base_uri": "https://localhost:8080/"
        },
        "id": "aCr0Tf9H4yhK",
        "outputId": "34028a9f-69c0-44ad-d2b1-9ea8c5e85b2c"
      },
      "execution_count": 31,
      "outputs": [
        {
          "output_type": "stream",
          "name": "stdout",
          "text": [
            "X^2 набл. =  145.41798965627453\n"
          ]
        }
      ]
    },
    {
      "cell_type": "markdown",
      "source": [
        "${\\chi}^{2}_{N - 1, 1 - \\alpha_{1}} = {\\chi}^{2}_{2, 0.99} \\approx 9.21$\n",
        "\n",
        "${\\chi}^{2}\\gt {\\chi}^{2}_{2, 0.99} \\Rightarrow $ гипотеза отвергается (по критерию Пирсона)\n",
        "\n",
        "Для нахождения наибольшего значения уровня значимости, на котором ещё нет оснований отвергнуть данную гипотезу, вычисляем функцию распределения в точке\n",
        "$\\mathbb{\\chi^2}$ и вычитаем полученное значение из единицы:"
      ],
      "metadata": {
        "id": "tLiYMqvp41vy"
      }
    },
    {
      "cell_type": "code",
      "source": [
        "chi_2 = sum\n",
        "max = 1 - chi2.cdf(chi_2, len(n_i))\n",
        "print(\"Максимальный уровень значимости:\", max)"
      ],
      "metadata": {
        "colab": {
          "base_uri": "https://localhost:8080/"
        },
        "id": "Z7e8WpVr45O9",
        "outputId": "3f1d41ac-6732-4580-c0bb-74fa97804946"
      },
      "execution_count": 32,
      "outputs": [
        {
          "output_type": "stream",
          "name": "stdout",
          "text": [
            "Максимальный уровень значимости: 0.0\n"
          ]
        }
      ]
    },
    {
      "cell_type": "markdown",
      "source": [
        "##### i.g) Построить критерий проверки значимости  $\\mathcal{X^{2}}$ сложной гипотезы согласия с гамма-распределением. Проверить гипотезу по уровню значимости $\\alpha_{2}$. Вычислить наибольшее значение уровня значимости, на котором ещё нет оснований отвергнуть данную гипотезу."
      ],
      "metadata": {
        "id": "C7orC3R_-5_L"
      }
    },
    {
      "cell_type": "markdown",
      "source": [
        "*Условия на формирование интервалов:* $n_i > 5\\ или\\ n_i \\cdot P_i > 5$\n",
        "\n",
        "$P_{i}=P_{H_{0}}=(X\\in I_{i})=\\sum_{k\\in I_{i}}^{}\\frac{\\sqrt{\\frac{1}{\\overline{X}}}\\cdot exp\\left( -\\frac{\\frac{1}{\\overline{X}}\\cdot k}{2} \\right)}{\\sqrt{2\\pi\\cdot k}}$\n",
        "\n",
        "$I_{1} = \\left[0; 1\\right]; n_{1} = 20$\n",
        "\n",
        "$P_{1} = \\frac{\\sqrt{0.285}\\cdot exp\\left( - \\frac{0.285\\cdot 0.01}{2} \\right)}{\\sqrt{2\\pi\\cdot 0.01}} + \\frac{\\sqrt{0.285}\\cdot exp\\left( -\\frac{0.285\\cdot 1}{2} \\right)}{\\sqrt{2\\pi\\cdot 1}} = 2.31 \\Rightarrow nP_{1} = 115.5$\n",
        "\n",
        "$I_{2} = \\left[1.01; 3 \\right]; n_{2} = 9$\n",
        "\n",
        "$P_{1} = \\frac{\\sqrt{0.285}\\cdot exp\\left( - \\frac{0.285\\cdot 1.01}{2} \\right)}{\\sqrt{2\\pi\\cdot 1.01}} + \\frac{\\sqrt{0.285}\\cdot exp\\left( -\\frac{0.285\\cdot 3}{2} \\right)}{\\sqrt{2\\pi\\cdot 3}} = 0.264 \\Rightarrow nP_{1} = 13.2$\n",
        "\n",
        "$I_{3} = \\left[3.01; 26 \\right]; n_{3} = 21$\n",
        "\n",
        "$P_{1} = \\frac{\\sqrt{0.285}\\cdot exp\\left( - \\frac{0.285\\cdot 3.01}{2} \\right)}{\\sqrt{2\\pi\\cdot 3.01}} + \\frac{\\sqrt{0.285}\\cdot exp\\left( -\\frac{0.285\\cdot 26}{2} \\right)}{\\sqrt{2\\pi\\cdot 26}} = 0.08 \\Rightarrow nP_{1} = 4$\n",
        "\n",
        "\n",
        "Критерий ${\\chi}^{2}: {\\chi}^{2}_{набл} = \\sum_{i = 1}^{3} \\frac{(n_{i} - np_{i})^{2}}{np_{i}} = 152.55$"
      ],
      "metadata": {
        "id": "DHZSYzm8_HpC"
      }
    },
    {
      "cell_type": "code",
      "source": [
        "n_i = [20, 9, 21]\n",
        "P_i = [2.31, 0.264, 0.08]\n",
        "sum = 0\n",
        "for i in range(len(n_i)):\n",
        "    sum += ((n_i[i] - n * P_i[i]) ** 2) / (n * P_i[i])\n",
        "\n",
        "print('X^2 набл. = ', sum)"
      ],
      "metadata": {
        "colab": {
          "base_uri": "https://localhost:8080/"
        },
        "id": "2nW0MHRF_XZH",
        "outputId": "16ad5ea4-da6e-44c4-862e-4ef497fc1710"
      },
      "execution_count": 33,
      "outputs": [
        {
          "output_type": "stream",
          "name": "stdout",
          "text": [
            "X^2 набл. =  152.54956709956713\n"
          ]
        }
      ]
    },
    {
      "cell_type": "markdown",
      "source": [
        "${\\chi}^{2}_{N - 1, 1 - \\alpha_{1}} = {\\chi}^{2}_{2, 0.99} \\approx 9.21$\n",
        "\n",
        "${\\chi}^{2}\\gt {\\chi}^{2}_{2, 0.99} \\Rightarrow $ гипотеза отвергается (по критерию Пирсона)\n",
        "\n",
        "Для нахождения наибольшего значения уровня значимости, на котором ещё нет оснований отвергнуть данную гипотезу, вычисляем функцию распределения в точке\n",
        "$\\mathbb{\\chi^2}$ и вычитаем полученное значение из единицы:"
      ],
      "metadata": {
        "id": "2uMx-kzX_ZJm"
      }
    },
    {
      "cell_type": "code",
      "source": [
        "chi_2 = sum\n",
        "max = 1 - chi2.cdf(chi_2, len(n_i))\n",
        "print(\"Максимальный уровень значимости:\", max)"
      ],
      "metadata": {
        "colab": {
          "base_uri": "https://localhost:8080/"
        },
        "id": "5gOzhBOV_b7-",
        "outputId": "84337973-e121-4e57-aafe-683105aaaab1"
      },
      "execution_count": 34,
      "outputs": [
        {
          "output_type": "stream",
          "name": "stdout",
          "text": [
            "Максимальный уровень значимости: 0.0\n"
          ]
        }
      ]
    },
    {
      "cell_type": "markdown",
      "source": [
        "##### i.h) Построить наиболее мощный критерий проверки простой гипотезы с параметром $\\lambda = \\lambda_{0}$ при альтернативе с параметром $\\lambda = \\lambda_{1}$. Проверить гипотезу на уровне значимости $\\alpha_2$. Что получится, если поменять местами основную и альтернативную гипотезы?"
      ],
      "metadata": {
        "id": "6lZnrS0uBtnn"
      }
    },
    {
      "cell_type": "markdown",
      "source": [
        "*Основная гипотеза:* $H_{0}=\\lambda_{0}=0.25$\n",
        "\n",
        "*Альтернативная гипотеза:* $H_{A}=\\lambda_{1}=0.14$\n",
        "\n",
        "*Функция правдоподобия:*\n",
        "$L(\\overrightarrow{X};\\theta)=\\prod_{i=1}^{n}p(X_{i})= \\frac{\\lambda^{\\frac{n}{2}} \\cdot \\exp\\left(-\\frac{\\lambda}{2} \\sum_{i = 1}^{n} X_i\\right)}{(2 \\pi )^{\\frac{n}{2}} \\prod_{i=1}^{n} \\sqrt{X_i}}$\n",
        "\n",
        "*Статистическое отношение правдоподобия:*\n",
        "$LR(\\overrightarrow{X};\\lambda_0, \\lambda_1) = \\left(\\frac{\\lambda_1}{\\lambda_0}\\right)^{\\frac{n}{n}} \\cdot exp\\left(\\frac{\\sum_{i=1}^{n}X_i}{2}\\left(\\lambda_0 - \\lambda_1 \\right)\\right) > c$\n",
        "\n",
        "*В силу монотонности статистики LR относительно МДС:*\n",
        "\n",
        "$ LR\\left(\\overrightarrow{X}\\right) > c \\Leftrightarrow \\overline{X} < c^{*}$\n",
        "\n",
        "$ LR\\left(\\overrightarrow{X}\\right) < c \\Leftrightarrow \\overline{X} > c^{*}$\n",
        "\n",
        "$ \\phi(x) = \\left\\{\n",
        "  \\begin{array}{l}\n",
        "    1, \\overline{X} < c^{*} \\\\\n",
        "    p, \\overline{X} = c^{*} \\\\\n",
        "    0, \\overline{X} > c^{*} \\\\\n",
        "  \\end{array}\\right.$\n",
        "  \n",
        "*По ЦПТ:*\n",
        "\n",
        "$ \\sqrt{n} \\frac{ \\overline{X}-\\mu}{\\sigma} \\sim \\mathcal{N}(0,1)$\n",
        "\n",
        "$ \\mu = ab, \\sigma^{2} = ab^{2}$\n",
        "\n",
        "В данном случае $a = \\frac{1}{2}, b = \\frac{2}{\\lambda}$\n",
        "\n",
        "$ \\sqrt{n} \\frac{ \\overline{X}-\\frac{1}{\\lambda_0}}{\\sqrt{\\frac{2}{\\lambda_0^{2}}}} \\sim \\mathcal{N}(0,1)$\n",
        "\n",
        "$ \\mathrm{P}\\left(\\sqrt{n} \\frac{ \\overline{X}-\\frac{1}{\\lambda_0}}{\\sqrt{\\frac{2}{\\lambda_0^{2}}}} \\ge \\sqrt{n} \\frac{ c^* - \\frac{1}{\\lambda_0}} {\\sqrt{\\frac{2}{\\lambda_0^{2}}}}\\right) = 1 - \\Phi\\left(\\sqrt{n} \\frac{ c^* - \\frac{1}{\\lambda_0}}{\\sqrt{\\frac{2}{\\lambda_0^{2}}}}\\right)= \\alpha$\n",
        "\n",
        "$\\sqrt{n} \\frac{ c^*-\\frac{1}{\\lambda_0}}{\\sqrt{\\frac{2}{\\lambda_0^{2}}}} = x_{\\alpha}$\n",
        "\n",
        "$x_{\\alpha}: \\Phi(x_{\\alpha}) = 1 - \\alpha$\n",
        "\n",
        "*Найдем $c^{*}:$*\n",
        "$\\sqrt{50} \\cdot \\frac{c^{*} - \\frac{1}{0.25}}{\\sqrt{\\frac{2}{0.25^2}}} = 2.576$\n",
        "\n",
        "$c^{*} = 6.06 \\gt \\overline{X} = 3.511 \\Rightarrow H_{0}$ отвергаем, $H_{1}$ принимаем\n",
        "\n",
        "**Поменяем гипотезы местами:**\n",
        "\n",
        "*Основная гипотеза:* $H_{0}=\\lambda_{0}=0.14$\n",
        "\n",
        "*Альтернативная гипотеза:* $H_{A}=\\lambda_{1}=0.25$\n",
        "\n",
        "*Функция правдоподобия:*\n",
        "$L(\\overrightarrow{X};\\theta)=\\prod_{i=1}^{n}p(X_{i})= \\frac{\\lambda^{\\frac{n}{2}} \\cdot \\exp\\left(-\\frac{\\lambda}{2} \\sum_{i = 1}^{n} X_i\\right)}{(2 \\pi )^{\\frac{n}{2}} \\prod_{i=1}^{n} \\sqrt{X_i}}$\n",
        "\n",
        "*Статистическое отношение правдоподобия:*\n",
        "$LR(\\overrightarrow{X};\\lambda_0, \\lambda_1) = \\left(\\frac{\\lambda_1}{\\lambda_0}\\right)^{\\frac{n}{n}} \\cdot exp\\left(\\frac{\\sum_{i=1}^{n}X_i}{2}\\left(\\lambda_0 - \\lambda_1 \\right)\\right) > c$\n",
        "\n",
        "*В силу монотонности статистики LR относительно МДС:*\n",
        "\n",
        "$ LR\\left(\\overrightarrow{X}\\right) > c \\Leftrightarrow \\overline{X} < c^{*}$\n",
        "\n",
        "$ LR\\left(\\overrightarrow{X}\\right) < c \\Leftrightarrow \\overline{X} > c^{*}$\n",
        "\n",
        "$ \\phi(x) = \\left\\{\n",
        "  \\begin{array}{l}\n",
        "    1, \\overline{X} < c^{*} \\\\\n",
        "    p, \\overline{X} = c^{*} \\\\\n",
        "    0, \\overline{X} > c^{*} \\\\\n",
        "  \\end{array}\\right.$\n",
        "  \n",
        "*По ЦПТ:*\n",
        "\n",
        "$ \\sqrt{n} \\frac{ \\overline{X}-\\mu}{\\sigma} \\sim \\mathcal{N}(0, 1)$\n",
        "\n",
        "$ \\mu = ab, \\sigma^{2} = ab^{2}$\n",
        "\n",
        "В данном случае $a = \\frac{1}{2}, b = \\frac{2}{\\lambda}$\n",
        "\n",
        "$ \\sqrt{n} \\frac{ \\overline{X}-\\frac{1}{\\lambda_0}}{\\sqrt{\\frac{2}{\\lambda_0^{2}}}} \\sim \\mathcal{N}(0, 1)$\n",
        "\n",
        "$ \\mathrm{P}\\left(\\sqrt{n} \\frac{ \\overline{X}-\\frac{1}{\\lambda_0}}{\\sqrt{\\frac{2}{\\lambda_0^{2}}}} \\ge \\sqrt{n} \\frac{ c^* - \\frac{1}{\\lambda_0}} {\\sqrt{\\frac{2}{\\lambda_0^{2}}}}\\right) = 1 - \\Phi\\left(\\sqrt{n} \\frac{ c^* - \\frac{1}{\\lambda_0}}{\\sqrt{\\frac{2}{\\lambda_0^{2}}}}\\right) = \\alpha$\n",
        "\n",
        "$\\sqrt{n} \\frac{ c^*-\\frac{1}{\\lambda_0}}{\\sqrt{\\frac{2}{\\lambda_0^{2}}}} = x_{\\alpha}$\n",
        "\n",
        "$x_{\\alpha}: \\Phi(x_{\\alpha}) = 1 - \\alpha$\n",
        "\n",
        "*Найдем $c^{*}:$*\n",
        "$\\sqrt{50} \\cdot \\frac{c^{*} - \\frac{1}{0.14}}{\\sqrt{\\frac{2}{0.14^2}}} = 2.576$\n",
        "\n",
        "$c^{*} = 10.82 \\gt \\overline{X} = 3.511 \\Rightarrow H_{0}$ отвергаем, $H_{1}$ принимаем"
      ],
      "metadata": {
        "id": "anLzs4zRB9UC"
      }
    },
    {
      "cell_type": "markdown",
      "source": [
        "## Выводы"
      ],
      "metadata": {
        "id": "QX7-VGUuZf9G"
      }
    },
    {
      "cell_type": "markdown",
      "source": [
        "В ходе выполнения практической работы были изучены и реализованы методов математической статистики для решения задач статистического анализа. Также были изучены выборочные числовые характеристики, оценки максимального правдоподобия и метода моментов, построены доверительные интервалы, используя генераторы по лемме Фишера, и асимптотические доверительные интервалы. Были рассмотрены критерии Колмогорова и Хи-квадрат для проверки гипотез о распределении данных.\n",
        "\n",
        "На практике были применены библиотек языка Python: NumPy, SciPy с пакетами stats, expon и пр."
      ],
      "metadata": {
        "id": "bdOJMo1YG5R1"
      }
    }
  ]
}