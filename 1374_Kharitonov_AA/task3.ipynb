{
  "cells": [
    {
      "cell_type": "markdown",
      "id": "1fb2d95d",
      "metadata": {
        "id": "1fb2d95d"
      },
      "source": [
        "# Практическая работа №3: Регрессионный анализ\n",
        "Выполнил студент гр. 1374 Харитонов Алексей. Вариант №23"
      ]
    },
    {
      "cell_type": "markdown",
      "id": "a42a9952",
      "metadata": {
        "id": "a42a9952"
      },
      "source": [
        "## Цель работы\n",
        "Ознакомление с основными положениями метода наименьших квадратов (МНК), со статистическими свойствами МНК-оценок, с понятием функции регрессии и роли МНК в регрессионном анализе."
      ]
    },
    {
      "cell_type": "markdown",
      "id": "4a95dd5d",
      "metadata": {
        "id": "4a95dd5d"
      },
      "source": [
        "## Основные теоретические положения"
      ]
    },
    {
      "cell_type": "markdown",
      "id": "f5cbeb51",
      "metadata": {
        "id": "f5cbeb51"
      },
      "source": [
        "*Линейная регрессионная модель:*\n",
        "\n",
        "> $Y = X^T\\beta + \\varepsilon$ , $\\mathbb{E_{\\theta}\\varepsilon} = 0$ , $Var_{\\theta} \\varepsilon = \\sigma^{2}\\mathbb{E}$\n",
        "    \n",
        "> $X^T$ - регрессоры (факторы модели)\n",
        "   \n",
        "> $\\beta$ - параметры регрессии\n",
        "    \n",
        "> $\\varepsilon$ - случайная ошибка\n",
        "\n",
        "*МНК:*\n",
        "    \n",
        "> $RSS(\\beta) = || Y - X^T\\beta ||^2 \\rightarrow min_{\\beta}$\n",
        "\n",
        "> Нормальные уравнения:\n",
        "$XX^T\\beta = XY$\n",
        "    \n",
        "> Решение системы нормальных уравнений в регулярном случае:\n",
        "$\\widehat\\beta = (XX^T)^{-1}XY$ , $\\beta = (\\beta_{0}, \\beta_{1})$\n",
        "\n",
        "> *МНК оценка* $\\hat{\\psi} = (\\hat{\\beta}_0, \\hat{\\beta}_1)^\\intercal$\n",
        "\n",
        "\n",
        "*Оценка параметра $\\sigma^2:$*\n",
        "$s^2 \\frac{RSS(\\widehat\\beta)}{n-r}=\\frac{SSe}{n-r}$\n",
        "\n",
        "*Несмещенная оценка дисперсии:*\n",
        "$s^2 = \\frac{RSS(\\widehat\\beta)}{n-r} = \\frac{(Y-X^T\\widehat\\beta)^T(Y-X^T\\widehat\\beta)}{n-r}$\n",
        "    \n",
        "$r - rankX$\n",
        "\n",
        "*ДНО-функция:* $\\psi = C^\\intercal \\beta = (\\beta_0, \\beta_1)^\\intercal$\n",
        "\n",
        "\n",
        "*Доверительный эллипсоид уровня доверия $1 - \\alpha$:*\n",
        "\n",
        "> $A_{\\alpha} = \\{ \\vec{x}: (\\vec{x} - \\widehat{\\Psi})^{T} b_{\\Psi}^{-1} (\\vec{x} - \\widehat{\\Psi})  \\le qs^{2}x_{\\alpha}\\}$\n",
        "$\\widehat{\\Psi}$ - вектор оценок\n",
        "\n",
        "> $b_{\\Psi}$ - матрица оценок ковариации\n",
        "\n",
        "> $s^2$ - оценка дисперсии\n",
        "\n",
        "> $q$ - пороговая точка, связанная с распределением $\\mathcal{X}_{n-r}^2$\n",
        "   \n",
        "> $x_{\\alpha}$ - значение функции распредления $\\mathcal{X}_{n-r}^2$ с уровнем доверия $1 - \\alpha$\n",
        "\n",
        "*F - статистика:*  $\\mathbb{F} = \\frac{{SS_H}}{S^2*rank(X)} $"
      ]
    },
    {
      "cell_type": "markdown",
      "id": "d66c8c84",
      "metadata": {
        "id": "d66c8c84"
      },
      "source": [
        "## Постановка задачи\n",
        "Результаты статистического эксперимента представлены в виде двух переменных. Требуется оценить характер (случайной) зависимости переменной $Y$ от переменной $X$. Полученные результаты содержательно проинтерпретировать."
      ]
    },
    {
      "cell_type": "markdown",
      "id": "d0ec4c27",
      "metadata": {
        "id": "d0ec4c27"
      },
      "source": [
        "## Выполнение работы"
      ]
    },
    {
      "cell_type": "code",
      "source": [
        "import numpy as np\n",
        "import matplotlib.pyplot as plt\n",
        "from scipy import stats\n",
        "from scipy.stats import f\n",
        "from scipy.stats import pearsonr"
      ],
      "metadata": {
        "id": "JeYiYL_6uJWK"
      },
      "id": "JeYiYL_6uJWK",
      "execution_count": null,
      "outputs": []
    },
    {
      "cell_type": "code",
      "source": [
        "# Входные данные\n",
        "X = np.array([0, 8, 4, 4, 2, 4, 7, 4, 3, 2, 6, 6, 0, 7, 0, 8, 6, 3, 3, 3, 2, 2, 5, 6, 6,\n",
        "     8, 3, 2, 3, 0, 8, 4, 1, 7, 8, 6, 2, 6, 3, 6, 3, 0, 8, 6, 3, 2, 6, 5, 5, 7])\n",
        "Y = np.array([8.50, 8.56, 9.57, 15.70, 10.60, 3.19, 12.63, 7.09, 10.09, 6.75, 12.26, 11.02, 6.16, 18.61, 1.32, 8.77, 14.14,\n",
        "     12.57, 2.95, 12.91, 8.74, 11.72, 4.28, 7.11, 13.46, 20.43, 8.86, 12.78, 11.23, 4.70, 2.26, 3.83, 6.42, 4.35,\n",
        "     13.33, 7.98, 1.95, 1.26, 12.11, 13.40, 6.99, 1.83, 8.19, 6.07, 14.51, 2.60, 1.41, 8.92, 21.97, 7.71])\n",
        "\n",
        "alpha = 0.2\n",
        "h = 2.4\n"
      ],
      "metadata": {
        "id": "kM_Kt7Llsoj0"
      },
      "id": "kM_Kt7Llsoj0",
      "execution_count": null,
      "outputs": []
    },
    {
      "cell_type": "markdown",
      "id": "1ea80f5b",
      "metadata": {
        "id": "1ea80f5b"
      },
      "source": [
        "### 1. Построить графически результаты эксперимента. Сформулировать линейную регрессионную модель переменной $Y$ по переменной $X$. Построить МНК оценки параметров сдвига $\\beta_0$ и масштаба $\\beta_1$. Построить полученную линию регрессии. Оценить визуально соответствие полученных данных и построенной оценки."
      ]
    },
    {
      "cell_type": "code",
      "source": [
        "# Результаты эксперимента\n",
        "plt.scatter(X, Y, label='Результаты эксперимента')\n",
        "plt.xlabel('X')\n",
        "plt.ylabel('Y')\n",
        "plt.title('Данные эксперимента')\n",
        "plt.grid(True)\n",
        "\n",
        "\n",
        "# Линейная регрессия\n",
        "coefficients = np.polyfit(X, Y, 1)\n",
        "regression_line = np.polyval(coefficients, X)\n",
        "\n",
        "plt.plot(X, regression_line, color='red', label='Линейная регрессия')\n",
        "plt.legend()\n",
        "plt.show()"
      ],
      "metadata": {
        "colab": {
          "base_uri": "https://localhost:8080/",
          "height": 472
        },
        "id": "5L_5aNBqwnbs",
        "outputId": "78da5baa-2df6-4153-a34f-d8be49314ae4"
      },
      "id": "5L_5aNBqwnbs",
      "execution_count": null,
      "outputs": [
        {
          "output_type": "display_data",
          "data": {
            "text/plain": [
              "<Figure size 640x480 with 1 Axes>"
            ],
            "image/png": "[encoded data removed]"
          },
          "metadata": {}
        }
      ]
    },
    {
      "cell_type": "markdown",
      "source": [
        "На графике видно, что данная модель не подходит к входным данным."
      ],
      "metadata": {
        "id": "m6aorKBIzIZc"
      },
      "id": "m6aorKBIzIZc"
    },
    {
      "cell_type": "code",
      "source": [
        "X_matrix = np.array([[1 for i in range(len(X))], X])\n",
        "Y_matrix = Y\n",
        "\n",
        "XXT = np.dot(X_matrix, X_matrix.T)\n",
        "XXT_inv = np.linalg.inv(XXT)\n",
        "\n",
        "beta = np.dot(XXT_inv, np.dot(X_matrix, Y_matrix))\n",
        "\n",
        "print(f'beta_0 = {beta[0]}, beta_1 = {beta[1]}')"
      ],
      "metadata": {
        "colab": {
          "base_uri": "https://localhost:8080/"
        },
        "id": "n-qDHyGUyqWh",
        "outputId": "1b5ced4d-37ec-4625-918a-61df74b2ac7c"
      },
      "id": "n-qDHyGUyqWh",
      "execution_count": 236,
      "outputs": [
        {
          "output_type": "stream",
          "name": "stdout",
          "text": [
            "beta_0 = 6.581843962099318, beta_1 = 0.5384873328405361\n"
          ]
        }
      ]
    },
    {
      "cell_type": "markdown",
      "source": [
        "### 2. Построить и интерпретировать несмещённую оценку дисперсии. На базе ошибок построить гистограмму с шагом $h$. Проверить гипотезу нормальности ошибок на уровне значимости $\\alpha$ по $\\chi^2$. Оценить расстояние полученной оценки до класса нормальных распределений по Колмогорову. Визуально оценить данный факт."
      ],
      "metadata": {
        "id": "0KdBK7n30lb2"
      },
      "id": "0KdBK7n30lb2"
    },
    {
      "cell_type": "markdown",
      "source": [
        "Несмещенная оценка дисперсии\n",
        "\n",
        "$s^2 = \\frac{RSS(\\widehat\\beta)}{n-r} = \\frac{(Y-X^T\\widehat\\beta)^T(Y-X^T\\widehat\\beta)}{n-r}$\n",
        "\n",
        "$r = rank(X) = 2$"
      ],
      "metadata": {
        "id": "WEMwVI3k2T9r"
      },
      "id": "WEMwVI3k2T9r"
    },
    {
      "cell_type": "code",
      "source": [
        "s = np.dot((Y_matrix - np.dot(X_matrix.T, beta)).T, (Y - np.dot(X_matrix.T, beta))) / (len(X) - 2)\n",
        "print(f'Оценка дисперсии s^2 = {s}')"
      ],
      "metadata": {
        "colab": {
          "base_uri": "https://localhost:8080/"
        },
        "id": "2WZDxSb12ir3",
        "outputId": "e15e10e0-3bdb-4eae-baf1-0db9f440c96a"
      },
      "id": "2WZDxSb12ir3",
      "execution_count": 237,
      "outputs": [
        {
          "output_type": "stream",
          "name": "stdout",
          "text": [
            "Оценка дисперсии s^2 = 23.483228354109258\n"
          ]
        }
      ]
    },
    {
      "cell_type": "code",
      "source": [
        "from scipy.stats import norm\n",
        "\n",
        "X_matrix = np.column_stack([np.ones(len(X)), X])\n",
        "beta = np.linalg.inv(X_matrix.T @ X_matrix) @ X_matrix.T @ Y\n",
        "\n",
        "errors = Y - np.dot(X_matrix, beta)\n",
        "\n",
        "plt.title(f'Гистограмма ошибок с шагом h = {h}')\n",
        "plt.ylabel('Количество чисел')\n",
        "plt.xlabel('Интервалы')\n",
        "\n",
        "hist, bins, _ = plt.hist(errors, bins=np.arange(min(errors), max(errors) + h, h), edgecolor='black', color='lightblue')\n",
        "\n",
        "mu, sigma = np.mean(errors), np.std(errors)\n",
        "x_axis = np.linspace(min(errors), max(errors), 100)\n",
        "pdf_values = norm.pdf(x_axis, mu, sigma) * len(errors) * h\n",
        "\n",
        "plt.plot(x_axis, pdf_values, color='red', linestyle='--', label='Нормальное распределение')\n",
        "\n",
        "plt.legend()\n",
        "plt.grid(True)\n",
        "plt.show()"
      ],
      "metadata": {
        "colab": {
          "base_uri": "https://localhost:8080/",
          "height": 472
        },
        "id": "j-kakzMn6o6u",
        "outputId": "e1e0ca2a-7149-497a-911c-a1735578f54d"
      },
      "id": "j-kakzMn6o6u",
      "execution_count": null,
      "outputs": [
        {
          "output_type": "display_data",
          "data": {
            "text/plain": [
              "<Figure size 640x480 with 1 Axes>"
            ],
            "image/png": "[encoded data removed]"
          },
          "metadata": {}
        }
      ]
    },
    {
      "cell_type": "code",
      "source": [
        "# Проверка количества элементов в интервале\n",
        "num = 0\n",
        "for val in errors:\n",
        "    if 4.8 < val <= max(errors):\n",
        "        num += 1\n",
        "print(num)"
      ],
      "metadata": {
        "colab": {
          "base_uri": "https://localhost:8080/"
        },
        "id": "Vht_GxEh8Mks",
        "outputId": "7b4fa9af-3214-474c-fd6f-335af8449185"
      },
      "id": "Vht_GxEh8Mks",
      "execution_count": 238,
      "outputs": [
        {
          "output_type": "stream",
          "name": "stdout",
          "text": [
            "6\n"
          ]
        }
      ]
    },
    {
      "cell_type": "markdown",
      "source": [
        "Проверим гипотезу нормальности ошибок на уровне значимости $\\alpha = 0.1$ по $\\chi^2$ с помощью критерия согласия Пирсона\n",
        "\n",
        "$H_0: \\vec{\\varepsilon} \\sim \\mathcal{N}(0, \\sigma^{2})$\n",
        "\n",
        "Разобъем ошибки на интервалы\n",
        "\n",
        "$I_1 = (-\\infty, -4.8], n_1 = 11$\n",
        "\n",
        "$I_2 = (-4.8, -2.4], n_2 = 5$\n",
        "\n",
        "$I_3 = (-2.4, 0], n_3 = 10$\n",
        "\n",
        "$I_4 = (0, 2.4], n_4 = 7$\n",
        "\n",
        "$I_5 = (2.4, 4.8], n_5 = 11$\n",
        "\n",
        "$I_6 = (4.8, +\\infty], n_6 = 6$"
      ],
      "metadata": {
        "id": "5bRu4rR_635l"
      },
      "id": "5bRu4rR_635l"
    },
    {
      "cell_type": "code",
      "source": [
        "right_endpoints = [-4.8, -2.4, 0, 2.4, 4.8]\n",
        "n_i = [11, 5, 10, 7, 11, 6]\n",
        "\n",
        "p = [0] * (len(right_endpoints) + 1)\n",
        "\n",
        "p[0] = stats.norm.cdf(right_endpoints[0], 0, s)\n",
        "\n",
        "for i in range(1, len(right_endpoints)):\n",
        "    p[i] = stats.norm.cdf(right_endpoints[i], 0, s) - stats.norm.cdf(right_endpoints[i - 1], 0, s)\n",
        "\n",
        "p[len(right_endpoints)] = 1 - stats.norm.cdf(right_endpoints[-1], 0, s)\n",
        "\n",
        "\n",
        "X2 = 0\n",
        "\n",
        "for i in range(len(p)):\n",
        "    X2 += (n_i[i] - len(X) * p[i])**2 / (len(X) * p[i])\n",
        "\n",
        "\n",
        "x_a = stats.chi2(6 - 1).ppf(1 - alpha)\n",
        "print(f'X^2 = {X2}')\n",
        "print(f'x_a = {x_a}')\n",
        "\n",
        "print(f'p-value = {1 - stats.chi2.cdf(X2, 5)}')"
      ],
      "metadata": {
        "colab": {
          "base_uri": "https://localhost:8080/"
        },
        "id": "uNCa5qif9ut2",
        "outputId": "a44984d0-527c-4acc-9b17-b70f69203f3a"
      },
      "id": "uNCa5qif9ut2",
      "execution_count": 239,
      "outputs": [
        {
          "output_type": "stream",
          "name": "stdout",
          "text": [
            "X^2 = 103.20489712526233\n",
            "x_a = 7.289276126648961\n",
            "p-value = 0.0\n"
          ]
        }
      ]
    },
    {
      "cell_type": "markdown",
      "source": [
        "$\\mathcal{\\chi^2} > x_\\alpha \\rightarrow$ отвергаем гипотезу $H_0$\n",
        "\n",
        "Наибольшие уровень значимости, при котором нет основания отвергнуть гипотезу, близок к 0\n",
        "\n",
        "*Расстояние полученной оценки до класса нормальных распределений по Колмогорову:*\n"
      ],
      "metadata": {
        "id": "CBf1fZyr-GI2"
      },
      "id": "CBf1fZyr-GI2"
    },
    {
      "cell_type": "code",
      "source": [
        "D, p_value = stats.kstest(errors, 'norm', args=(np.mean(errors), np.sqrt(s)))\n",
        "\n",
        "print(f'D = {D}')\n",
        "print(f'p-value = { p_value}')"
      ],
      "metadata": {
        "colab": {
          "base_uri": "https://localhost:8080/"
        },
        "id": "JJgOZFNC-LnS",
        "outputId": "beb93c7d-c63d-4bea-dbe0-038fdf53f924"
      },
      "id": "JJgOZFNC-LnS",
      "execution_count": 240,
      "outputs": [
        {
          "output_type": "stream",
          "name": "stdout",
          "text": [
            "D = 0.07660018283261233\n",
            "p-value = 0.9091820597019341\n"
          ]
        }
      ]
    },
    {
      "cell_type": "markdown",
      "source": [
        "$p-value=0.91$ больше уровня значимости $\\alpha = 0.1 \\Rightarrow $ принимаем гипотезу $H_0$\n",
        "\n",
        "Визуально можно  отметить, что график широкий и низкий, а его левая и правая части сильно отличаются от центральных. Критерий согласия Пирсона отклонил гипотезу о нормальности распределения ошибок на уровне $\\alpha$, а тест Колмогорова принял гипотезу."
      ],
      "metadata": {
        "id": "K1WLD4tR-mH7"
      },
      "id": "K1WLD4tR-mH7"
    },
    {
      "cell_type": "markdown",
      "source": [
        "### 3. В предположении нормальности ошибок построить доверительный интервал для параметров $\\beta_0,\\beta_1$ уровня доверия $1-\\alpha$. Построить доверительный эллипс уровня доверия $1-\\alpha$ для ($\\beta_0,\\beta_1$) (вычислить его полуоси)."
      ],
      "metadata": {
        "id": "5eCFX8_E_sm2"
      },
      "id": "5eCFX8_E_sm2"
    },
    {
      "cell_type": "markdown",
      "source": [
        "Доверительный интервал уровня доверия 1 - $\\alpha$\n",
        "\n",
        "$ \\Psi \\in \\left[ \\widehat{\\Psi} - x_{\\alpha}s\\sqrt{b}, \\widehat{\\Psi} + x_{\\alpha}s\\sqrt{b} \\right]$\n",
        "\n",
        "где $x_{\\alpha}: S_{n-r}(x_{\\alpha}) = 1 - \\frac{\\alpha}{2}$\n",
        "\n",
        "Построим доверительные интервалы для параметров $\\beta_0$ и $\\beta_1$ уровня доверия 1 − $\\alpha:$"
      ],
      "metadata": {
        "id": "8POPm4dm_zzQ"
      },
      "id": "8POPm4dm_zzQ"
    },
    {
      "cell_type": "code",
      "source": [
        "C_0 = np.array([1, 0])\n",
        "C_1 = np.array([0, 1])\n",
        "\n",
        "X_matrix = np.array([[1 for i in range(len(X))], X])\n",
        "\n",
        "XXT_inv = np.linalg.inv(np.dot(X_matrix, X_matrix.T))\n",
        "\n",
        "b_0 = np.dot(np.dot(C_0.T, XXT_inv), C_0)\n",
        "b_1 = np.dot(np.dot(C_1.T, XXT_inv), C_1)\n",
        "\n",
        "x_alpha = stats.t(len(X) - 2).ppf(1 - alpha / 2)\n",
        "\n",
        "product_0 = x_alpha * np.sqrt(s) * np.sqrt(b_0)\n",
        "product_1 = x_alpha * np.sqrt(s) * np.sqrt(b_1)\n",
        "print(f'Доверительный интервал для beta_0 [{beta[0] - product_0}, {beta[0] + product_0}]')\n",
        "print(f'Доверительный интервал для beta_1 [{beta[1] - product_1}, {beta[1] + product_1}]')"
      ],
      "metadata": {
        "colab": {
          "base_uri": "https://localhost:8080/"
        },
        "id": "jw3B_kiN_85F",
        "outputId": "532d11e1-e3ff-4d74-b52a-a5d7f444259c"
      },
      "id": "jw3B_kiN_85F",
      "execution_count": 241,
      "outputs": [
        {
          "output_type": "stream",
          "name": "stdout",
          "text": [
            "Доверительный интервал для beta_0 [4.789950346155748, 8.373737578042887]\n",
            "Доверительный интервал для beta_1 [0.1734782253057044, 0.9034964403753678]\n"
          ]
        }
      ]
    },
    {
      "cell_type": "markdown",
      "source": [
        "Построим доверительный эллипс уровня доверия 1 − $\\alpha$ для $(\\beta_0, \\beta_1)$ и вычислим его полуоси\n",
        "\n",
        "$A_{\\alpha} = \\{ \\vec{x}: (\\vec{x} - \\widehat{\\Psi})^{T} b_{\\Psi}^{-1} (\\vec{x} - \\widehat{\\Psi})  \\le qs^{2}x_{\\alpha}\\}$\n",
        "\n",
        "где $x_{\\alpha}: F_{q, n - r} (x_{\\alpha}) = 1 - \\alpha$\n",
        "\n",
        "$C = \\begin{pmatrix}\n",
        "    1 & 0\\\\\n",
        "    0 & 1\n",
        "\\end{pmatrix} $\n",
        "\n",
        "Пусть $ \\begin{pmatrix}\n",
        "    x\\\\\n",
        "    y\n",
        "\\end{pmatrix}  = P(\\widehat \\psi - \\psi)$, где P - матрица собственных векторов.\n",
        "\n",
        "Тогда уравнение доверительного эллипсоида:\n",
        "\n",
        "$(\\widehat \\psi -  \\psi)^T (C^T (XX^T)^{-1}C)^{-1}(\\widehat \\psi -  \\psi) = \\lambda_1 x^2 + \\lambda_2 y^2 \\le qs^2x_\\alpha$\n",
        "\n",
        "$\\frac{\\lambda_1}{qs^2x_\\alpha}x^2 + \\frac{\\lambda_2}{qs^2x_\\alpha}y^2 \\le 1$, где $\\lambda_1$ и $\\lambda_2$ - собственные числа матрицы $XX^T$\n",
        "\n",
        "Cобственные числа, собственные векторы и полуоси эллипса:"
      ],
      "metadata": {
        "id": "dAITTOxJANum"
      },
      "id": "dAITTOxJANum"
    },
    {
      "cell_type": "code",
      "source": [
        "eigenvalues, eigenvectors = np.linalg.eig(XXT)\n",
        "q = 2\n",
        "print(\"Собственные числа: \", *eigenvalues)\n",
        "print(\"Собственные векторы: \", *eigenvectors)\n",
        "print(\"beta: \", *beta)\n",
        "\n",
        "x_alpha = stats.f(2, len(X) - 2).ppf(1 - alpha)\n",
        "\n",
        "a = np.sqrt((q * s * x_alpha) / eigenvalues[0])\n",
        "b = np.sqrt((q * s * x_alpha) / eigenvalues[1])\n",
        "\n",
        "print(f'Большая полуось: {a}')\n",
        "print(f'Малая полуось: {b}')"
      ],
      "metadata": {
        "colab": {
          "base_uri": "https://localhost:8080/"
        },
        "id": "7czM-4tiAgGq",
        "outputId": "a68cd0fa-c5a2-48f7-fea9-546d320e4c46"
      },
      "id": "7czM-4tiAgGq",
      "execution_count": 242,
      "outputs": [
        {
          "output_type": "stream",
          "name": "stdout",
          "text": [
            "Собственные числа:  11.97156848769373 1243.0284315123063\n",
            "Собственные векторы:  [-0.9844334  -0.17575802] [ 0.17575802 -0.9844334 ]\n",
            "beta:  6.581843962099318 0.5384873328405361\n",
            "Большая полуось: 2.5555072022617793\n",
            "Малая полуось: 0.2507910913531829\n"
          ]
        }
      ]
    },
    {
      "cell_type": "markdown",
      "source": [
        "$\n",
        "\\begin{pmatrix} x\\\\ y \\end{pmatrix} = \\begin{pmatrix} -0.9844334  && -0.17575802 \\\\ 0.17575802 && -0.9844334 \\end{pmatrix} \\cdot \\begin{pmatrix} 6.581843962099318 - \\beta_0 \\\\  0.5384873328405361 - \\beta_1 \\end{pmatrix} = \\begin{pmatrix} -6.57403 + 0.984433\\beta_0 + 0.175758\\beta_1 \\\\ 0.626707 - 0.175758\\beta_0 + 0.984433\\beta_1 \\end{pmatrix}\n",
        "$"
      ],
      "metadata": {
        "id": "8vRwbyUhBP6_"
      },
      "id": "8vRwbyUhBP6_"
    },
    {
      "cell_type": "code",
      "source": [
        "def ellipse_equation(beta_0, beta_1):\n",
        "    return ((-6.57403 + 0.984433 * beta_0 + 0.175758 * beta_1)**2 / a**2) + ((0.626707 - 0.175758 * beta_0 - 0.984433 * beta_1)**2 / b**2)\n",
        "\n",
        "\n",
        "x = np.linspace(2.5, 10, 100)\n",
        "y = np.linspace(-2.5, 2.5, 100)\n",
        "beta_0_grid, beta_1_grid = np.meshgrid(x, y)\n",
        "\n",
        "ellipse_values = ellipse_equation(beta_0_grid, beta_1_grid)\n",
        "\n",
        "plt.contour(beta_0_grid, beta_1_grid, ellipse_values, levels=[1], colors='blue', linewidths=2)\n",
        "plt.title('Элипс')\n",
        "plt.legend()\n",
        "plt.grid(True)\n",
        "plt.show()"
      ],
      "metadata": {
        "colab": {
          "base_uri": "https://localhost:8080/",
          "height": 469
        },
        "id": "lxO9FuzSDhWL",
        "outputId": "5f327dfd-6c10-480f-9f90-2127819a8ad2"
      },
      "id": "lxO9FuzSDhWL",
      "execution_count": 244,
      "outputs": [
        {
          "output_type": "stream",
          "name": "stderr",
          "text": [
            "WARNING:matplotlib.legend:No artists with labels found to put in legend.  Note that artists whose label start with an underscore are ignored when legend() is called with no argument.\n"
          ]
        },
        {
          "output_type": "display_data",
          "data": {
            "text/plain": [
              "<Figure size 640x480 with 1 Axes>"
            ],
            "image/png": "[encoded data removed]"
          },
          "metadata": {}
        }
      ]
    },
    {
      "cell_type": "markdown",
      "source": [
        "### 4. Сформулировать гипотезу независимости переменной $Y$ от переменной $X$. Провести проверку значимости."
      ],
      "metadata": {
        "id": "OkffeAgoFdYC"
      },
      "id": "OkffeAgoFdYC"
    },
    {
      "cell_type": "code",
      "source": [
        "def simple_linear_regression(X, Y):\n",
        "    X_mean = np.mean(X)\n",
        "    Y_mean = np.mean(Y)\n",
        "\n",
        "    beta_1 = np.sum((X - X_mean) * (Y - Y_mean)) / np.sum((X - X_mean) ** 2)\n",
        "    beta_0 = Y_mean - beta_1 * X_mean\n",
        "\n",
        "    # Ковариация и дисперсия\n",
        "    covariance = np.sum((X - X_mean) * (Y - Y_mean))\n",
        "    std_dev_X, std_dev_Y = np.sqrt(np.sum((X - X_mean) ** 2)), np.sqrt(np.sum((Y - Y_mean) ** 2))\n",
        "\n",
        "    # Коэффициент корреляции Пирсона\n",
        "    correlation_coefficient = covariance / (std_dev_X * std_dev_Y)\n",
        "\n",
        "    return beta_0, beta_1, correlation_coefficient\n",
        "\n",
        "def f_test(X, Y, beta_0, beta_1):\n",
        "    n, p = len(X), 2  # Количество параметров и наблюдений\n",
        "\n",
        "    SSE = np.sum((Y - (beta_0 + beta_1 * X)) ** 2)\n",
        "    SSR = np.sum((beta_0 + beta_1 * X - np.mean(Y)) ** 2)\n",
        "    SST = SSE + SSR\n",
        "\n",
        "    MSE, MSR = SSE / (n - p), SSR / p # СКО остатков и объясненных отклонений\n",
        "\n",
        "    F = MSR / MSE\n",
        "\n",
        "    F_critical = f.ppf(1 - alpha, p, n - p)\n",
        "\n",
        "    return F, F_critical\n",
        "\n",
        "def hypothesis_result(F, F_critical):\n",
        "    if F > F_critical:\n",
        "        return \"Отвергаем нулевую гипотезу\"\n",
        "    else:\n",
        "        return \"Не отвергаем нулевую гипотезу\"\n",
        "\n",
        "\n",
        "beta_0, beta_1, correlation_coefficient = simple_linear_regression(X, Y)\n",
        "\n",
        "# F-тест\n",
        "F, F_critical = f_test(X, Y, beta_0, beta_1)\n",
        "print(\"Коэффициент корреляции Пирсона:\", correlation_coefficient)\n",
        "print(\"F-статистика:\", F)\n",
        "print(\"Кртическое значение F:\", F_critical)\n",
        "print(hypothesis_result(F, F_critical))\n"
      ],
      "metadata": {
        "colab": {
          "base_uri": "https://localhost:8080/"
        },
        "id": "Wyt0i_UCG4q-",
        "outputId": "328ed49e-0c8b-4ff8-b139-883474e6ddc1"
      },
      "id": "Wyt0i_UCG4q-",
      "execution_count": 243,
      "outputs": [
        {
          "output_type": "stream",
          "name": "stdout",
          "text": [
            "Коэффициент корреляции Пирсона: 0.26667817681483197\n",
            "F-статистика: 1.837491330012419\n",
            "Кртическое значение F: 1.6646290755148478\n",
            "Отвергаем нулевую гипотезу\n"
          ]
        }
      ]
    },
    {
      "cell_type": "markdown",
      "source": [
        "### 5. Сформулировать модель, включающую дополнительный член с $X^2$. Построить МНК оценки параметров $\\beta_0$, $\\beta_1$, $\\beta_2$ в данной модели. Изобразить графически полученную регрессионную зависимость."
      ],
      "metadata": {
        "id": "GKk2CZ8d20lq"
      },
      "id": "GKk2CZ8d20lq"
    },
    {
      "cell_type": "code",
      "source": [
        "def estimate_quadratic_regression(X, Y):\n",
        "    # Матрица признаков с X и X^2\n",
        "    X_squared = X ** 2\n",
        "    X_extended = np.column_stack((X, X_squared))\n",
        "\n",
        "    X_extended = np.column_stack([np.ones(len(X)), X_extended])\n",
        "\n",
        "    # МНК-оценка\n",
        "    beta = np.linalg.inv(X_extended.T.dot(X_extended)).dot(X_extended.T).dot(Y)\n",
        "\n",
        "    beta_0, beta_1, beta_2 = beta[0], beta[1], beta[2]\n",
        "\n",
        "    return beta_0, beta_1, beta_2\n",
        "\n",
        "def visualize_quadratic_regression(X, Y, beta_0, beta_1, beta_2):\n",
        "    # Регрессионная модель\n",
        "    X_plot = np.linspace(min(X), max(X), 100)\n",
        "    Y_pred = beta_0 + beta_1 * X_plot + beta_2 * X_plot ** 2\n",
        "\n",
        "    plt.scatter(X, Y, label='Данные', color='blue', marker='o')\n",
        "    plt.plot(X_plot, Y_pred, color='red', linestyle='--', linewidth=2, label='Регрессионная модель')\n",
        "    plt.xlabel('X')\n",
        "    plt.ylabel('Y')\n",
        "    plt.title('Квадратичная регрессионная модель')\n",
        "    plt.legend()\n",
        "    plt.grid(True)\n",
        "    plt.show()\n",
        "\n",
        "# Линейная квадратичная регрессия\n",
        "beta_0, beta_1, beta_2 = estimate_quadratic_regression(X, Y)\n",
        "\n",
        "visualize_quadratic_regression(X, Y, beta_0, beta_1, beta_2)\n"
      ],
      "metadata": {
        "colab": {
          "base_uri": "https://localhost:8080/",
          "height": 472
        },
        "id": "CB9X-tfqIoSu",
        "outputId": "3758c7b6-3900-49ae-abb7-ea9c3e62db46"
      },
      "id": "CB9X-tfqIoSu",
      "execution_count": 245,
      "outputs": [
        {
          "output_type": "display_data",
          "data": {
            "text/plain": [
              "<Figure size 640x480 with 1 Axes>"
            ],
            "image/png": "[encoded data removed]"
          },
          "metadata": {}
        }
      ]
    },
    {
      "cell_type": "markdown",
      "source": [
        "### 6. Построить несмещённую оценку дисперсии. Провести исследование нормальности ошибок как в пункте 2."
      ],
      "metadata": {
        "id": "z0qTw4DaK1gi"
      },
      "id": "z0qTw4DaK1gi"
    },
    {
      "cell_type": "markdown",
      "source": [
        "Несмещенная оценка дисперсии\n",
        "\n",
        "$s^2 = \\frac{RSS(\\widehat\\beta)}{n-r} = \\frac{(Y-X^T\\widehat\\beta)^T(Y-X^T\\widehat\\beta)}{n-r}$\n",
        "\n",
        "$r = rank X = 3$"
      ],
      "metadata": {
        "id": "C06s6mvbL_9N"
      },
      "id": "C06s6mvbL_9N"
    },
    {
      "cell_type": "code",
      "source": [
        "s = np.dot((Y_matrix - np.dot(X_matrix.T, beta)).T, (Y - np.dot(X_matrix.T, beta))) / (len(X) - 3)\n",
        "print(f'Оценка дисперсии s^2 = {s}')"
      ],
      "metadata": {
        "colab": {
          "base_uri": "https://localhost:8080/"
        },
        "id": "6tS5zwKgMCGa",
        "outputId": "07e60952-27b1-428d-b32f-7c97caaa000a"
      },
      "id": "6tS5zwKgMCGa",
      "execution_count": 246,
      "outputs": [
        {
          "output_type": "stream",
          "name": "stdout",
          "text": [
            "Оценка дисперсии s^2 = 23.982871510579667\n"
          ]
        }
      ]
    },
    {
      "cell_type": "code",
      "source": [
        "from scipy.stats import normaltest, kstest\n",
        "\n",
        "def calculate_regression_residuals(X, Y):\n",
        "    linregress = beta_0 + beta_1 * X + beta_2 * X ** 2\n",
        "    return Y - linregress\n",
        "\n",
        "# Несмещенная оценка дисперсии\n",
        "def estimate_unbiased_variance(Y):\n",
        "    n = len(Y)\n",
        "    return np.sum((Y - np.mean(Y))**2) / (n - 1)\n",
        "\n",
        "# Проверка гипотезы о нормальности с использованием критерия Хи-квадрат\n",
        "def hypothesis_testing_chi2(residuals, alpha):\n",
        "    chi2_statistic, p_value_chi2 = normaltest(residuals)\n",
        "    print(f\"Статистика критерия Хи-квадрат: {chi2_statistic}\")\n",
        "    print(f\"p-value критерия Хи-квадрат: {p_value_chi2}\")\n",
        "\n",
        "    if p_value_chi2 < alpha:\n",
        "        print(\"Отвергаем гипотезу о нормальности ошибок\")\n",
        "    else:\n",
        "        print(\"Нет оснований отвергать гипотезу о нормальности ошибок\")\n",
        "\n",
        "# Проверка гипотезы о нормальности с использованием критерия Колмогорова\n",
        "def hypothesis_testing_ks(residuals, alpha):\n",
        "    ks_statistic, p_value_ks = kstest(residuals, 'norm')\n",
        "    print(f\"Статистика Колмогорова: {ks_statistic}\")\n",
        "    print(f\"p-value Колмогорова: {p_value_ks}\")\n",
        "\n",
        "    if p_value_ks < alpha:\n",
        "        print(\"Распределение ошибок значимо отличается от нормального\")\n",
        "    else:\n",
        "        print(\"Распределение ошибок не значимо отличается от нормального\")\n",
        "\n",
        "def visualize_errors(residuals, h):\n",
        "    plt.hist(residuals, bins=np.arange(min(residuals), max(residuals) + h, h),\n",
        "             edgecolor='black', color='lightblue', density=True, label='Гистограмма ошибок')\n",
        "    x = np.linspace(min(residuals), max(residuals), 1000)\n",
        "    plt.plot(x, norm.pdf(x, np.mean(residuals), np.std(residuals)), 'r--', label='Нормальное распределение')\n",
        "    plt.xlabel('Значение ошибок')\n",
        "    plt.ylabel('Частота')\n",
        "    plt.title('Гистограмма ошибок и нормальное распределение')\n",
        "    plt.legend()\n",
        "    plt.grid(True)\n",
        "    plt.show()\n",
        "\n",
        "\n",
        "residuals = calculate_regression_residuals(X, Y)\n",
        "\n",
        "unbiased_variance = estimate_unbiased_variance(Y)\n",
        "print(f\"Несмещенная оценка дисперсии: {unbiased_variance}\")\n",
        "\n",
        "hypothesis_testing_chi2(residuals, alpha)\n",
        "\n",
        "hypothesis_testing_ks(residuals, alpha)\n",
        "\n",
        "visualize_errors(residuals, h)\n"
      ],
      "metadata": {
        "colab": {
          "base_uri": "https://localhost:8080/",
          "height": 594
        },
        "id": "T3eKi_AGMIrO",
        "outputId": "9871977b-5120-451f-d049-597851d39ae7"
      },
      "id": "T3eKi_AGMIrO",
      "execution_count": null,
      "outputs": [
        {
          "output_type": "stream",
          "name": "stdout",
          "text": [
            "Несмещенная оценка дисперсии: 24.765212612244902\n",
            "Статистика критерия Хи-квадрат: 0.6157305884095974\n",
            "p-value критерия Хи-квадрат: 0.7350143220294447\n",
            "Нет оснований отвергать гипотезу о нормальности ошибок\n",
            "Статистика Колмогорова: 0.3625161405775944\n",
            "p-value Колмогорова: 2.149809154386084e-06\n",
            "Распределение ошибок значимо отличается от нормального\n"
          ]
        },
        {
          "output_type": "display_data",
          "data": {
            "text/plain": [
              "<Figure size 640x480 with 1 Axes>"
            ],
            "image/png": "[encoded data removed]"
          },
          "metadata": {}
        }
      ]
    },
    {
      "cell_type": "markdown",
      "source": [
        "### 7.В предположении нормальности ошибок построить доверительные интервалы для параметров $\\beta_0,\\beta_1,\\beta_2$ уровня доверия $1-\\alpha$. Написать уравнение доверительного эллипсоида уровня доверия $1-\\alpha$."
      ],
      "metadata": {
        "id": "p6FjEeGBOYSZ"
      },
      "id": "p6FjEeGBOYSZ"
    },
    {
      "cell_type": "code",
      "source": [
        "# Расширение признаков для X_extended\n",
        "n = len(X)\n",
        "Y_mean = np.mean(Y)\n",
        "X_squared = X ** 2\n",
        "X_extended = np.column_stack((X, X_squared))\n",
        "unbiased_variance = np.sum((Y - Y_mean) ** 2) / (n - 1)\n",
        "X_extended = np.column_stack([np.ones(len(X)), X_extended])\n",
        "\n",
        "# Вычисление стандартных ошибок параметров beta_0, beta_1, beta_2\n",
        "cov_matrix = unbiased_variance * np.linalg.inv(X_extended.T @ X_extended)\n",
        "se_beta_0, se_beta_1, se_beta_2 = np.sqrt(np.diag(cov_matrix))\n",
        "\n",
        "# Вычисление критического значения для уровня доверия (1 - alpha)\n",
        "critical_value = norm.ppf(1 - alpha / 2)  # Двусторонний доверительный интервал\n",
        "print(f\"Критическое значение: {critical_value}\")\n",
        "\n",
        "# Оценка параметров beta методом наименьших квадратов\n",
        "beta = np.linalg.inv(X_extended.T @ X_extended) @ X_extended.T @ Y\n",
        "beta_0, beta_1, beta_2 = beta\n",
        "\n",
        "# Доверительные интервалы для параметров beta_0, beta_1, beta_2\n",
        "confidence_interval_beta_0 = (beta_0 - critical_value * se_beta_0, beta_0 + critical_value * se_beta_0)\n",
        "confidence_interval_beta_1 = (beta_1 - critical_value * se_beta_1, beta_1 + critical_value * se_beta_1)\n",
        "confidence_interval_beta_2 = (beta_2 - critical_value * se_beta_2, beta_2 + critical_value * se_beta_2)\n",
        "\n",
        "print(f\"Доверительный интервал для beta_0: {confidence_interval_beta_0}\\n\"\n",
        "      f\"Доверительный интервал для beta_1: {confidence_interval_beta_1}\\n\"\n",
        "      f\"Доверительный интервал для beta_2: {confidence_interval_beta_2}\")\n",
        "\n",
        "# Вычисление критического значения F-распределения\n",
        "alpha_level = 1 - alpha\n",
        "df1, df2 = 3, len(Y) - 4  # Число параметров и степеней свободы\n",
        "f_critical = f.ppf(alpha_level, df1, df2)\n",
        "print(f\"Критическое значение F-распределения: {f_critical}\")\n",
        "\n",
        "# Уравнение доверительного эллипсоида\n",
        "ellipsoid_equation = f_critical * np.sqrt(np.diag(cov_matrix))\n",
        "print(f\"Уравнение доверительного эллипсоида: \"\n",
        "      f\"((beta_1 - x1) / {ellipsoid_equation[1]}) ** 2 + \"\n",
        "      f\"((beta_2 - x2) / {ellipsoid_equation[2]}) ** 2 <= 1\")\n"
      ],
      "metadata": {
        "colab": {
          "base_uri": "https://localhost:8080/"
        },
        "id": "LpxGwLvmOZSV",
        "outputId": "a6224fcf-b46d-4109-b41e-82de2e65fc2b"
      },
      "id": "LpxGwLvmOZSV",
      "execution_count": null,
      "outputs": [
        {
          "output_type": "stream",
          "name": "stdout",
          "text": [
            "Критическое значение: 1.2815515655446004\n",
            "Доверительный интервал для beta_0: (2.5562898564441205, 7.594936027611251)\n",
            "Доверительный интервал для beta_1: (0.3081864428891523, 2.9985368006131754)\n",
            "Доверительный интервал для beta_2: (-0.29068611936169486, 0.02154641391043602)\n",
            "Критическое значение F-распределения: 1.6098841423169505\n",
            "Уравнение доверительного эллипсоида: ((beta_1 - x1) / 1.6898080789812389) ** 2 + ((beta_2 - x2) / 0.19611314033105123) ** 2 <= 1\n"
          ]
        }
      ]
    },
    {
      "cell_type": "markdown",
      "source": [
        "### 8.Сформулировать гипотезу линейной регрессионной зависимости переменной Y от переменной X и проверить её значимость на уровне $\\alpha$.\n"
      ],
      "metadata": {
        "id": "JeohGomwMtLK"
      },
      "id": "JeohGomwMtLK"
    },
    {
      "cell_type": "code",
      "source": [
        "# Сумма квадратов остатков\n",
        "SSR = np.sum((beta_0 + beta_1 * X + beta_2 * X ** 2 - np.mean(Y)) ** 2)\n",
        "# Сумму квадратов отклонений\n",
        "SSE = np.sum((Y - (beta_0 + beta_1 * X + beta_2 * X ** 2)) ** 2)\n",
        "p = 3\n",
        "\n",
        "n = len(X)\n",
        "SST = SSE + SSR\n",
        "MSE = SSE / (n - p)  # СКО остатков\n",
        "MSR = SSR / p  # СКО отклонений\n",
        "F = MSR / MSE  # Значение F-критерия\n",
        "\n",
        "alpha = 0.2\n",
        "\n",
        "F_critical = f.ppf(1 - alpha, p, n - p)  # Критическое значение F-критерия\n",
        "\n",
        "print(\"F =\",F)\n",
        "print(\"Критическое значение =\", F_critical)\n",
        "\n",
        "if F_critical < alpha:\n",
        "    print(f\"Гипотеза линейной регрессионной зависимости переменной Y от переменной X значима на уровне {alpha}\")\n",
        "else:\n",
        "    print(f\"Гипотеза линейной регрессионной зависимости переменной Y от переменной X не значима на уровне {alpha}\")"
      ],
      "metadata": {
        "colab": {
          "base_uri": "https://localhost:8080/"
        },
        "id": "le5b20tAMuUt",
        "outputId": "ec720e14-c621-4bd5-a0b9-27bbc6db4a59"
      },
      "id": "le5b20tAMuUt",
      "execution_count": null,
      "outputs": [
        {
          "output_type": "stream",
          "name": "stdout",
          "text": [
            "F = 1.6641310445463504\n",
            "Критическое значение = 1.6085202639061869\n",
            "Гипотеза линейной регрессионной зависимости переменной Y от переменной X не значима на уровне 0.2.\n"
          ]
        }
      ]
    },
    {
      "cell_type": "markdown",
      "id": "0bf7e0bd",
      "metadata": {
        "id": "0bf7e0bd"
      },
      "source": [
        "## Выводы"
      ]
    },
    {
      "cell_type": "markdown",
      "id": "5bdb0500",
      "metadata": {
        "id": "5bdb0500"
      },
      "source": [
        "В ходе работы были освоены основные положения метода наименьших квадратов (МНК), статистические свойства МНК-оценок, понятия функции регрессии и роли МНК в регрессионном анализе. Также был проведен регрессионный анализ, построены линейные модели, произведена оценка параметров и исследование их значимости, проверены гипотезы о независимости и линейной регрессионной зависимости, построены оценки нормальности ошибок, доверительные интервалы и доверительный эллипс и эллипсоид.\n"
      ]
    }
  ],
  "metadata": {
    "kernelspec": {
      "display_name": "Python 3 (ipykernel)",
      "language": "python",
      "name": "python3"
    },
    "language_info": {
      "codemirror_mode": {
        "name": "ipython",
        "version": 3
      },
      "file_extension": ".py",
      "mimetype": "text/x-python",
      "name": "python",
      "nbconvert_exporter": "python",
      "pygments_lexer": "ipython3",
      "version": "3.11.4"
    },
    "colab": {
      "provenance": []
    }
  },
  "nbformat": 4,
  "nbformat_minor": 5
}