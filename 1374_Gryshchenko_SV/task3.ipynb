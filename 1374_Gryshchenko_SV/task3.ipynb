{
 "cells": [
  {
   "cell_type": "markdown",
   "id": "da8345aa-864c-4fd7-865d-ba3c1840a9c8",
   "metadata": {},
   "source": [
    "# Практическая работа №3: Регрессионный анализ\n",
    "Выполнил студент гр. 1374 Грыщенко Сергей Вячеславович. Вариант №6"
   ]
  },
  {
   "cell_type": "markdown",
   "id": "28160935-947d-4cdd-9575-10aff80307b0",
   "metadata": {},
   "source": [
    "## Цель работы\n",
    "Ознакомление с основными положениями метода наименьших квадратов (МНК), со статистическими свойствами МНК-оценок, с понятием функции регрессии и роли МНК в регрессионном анализе."
   ]
  },
  {
   "cell_type": "markdown",
   "id": "8b3c949f-ce3c-4e45-b7da-53e58f28a9f6",
   "metadata": {},
   "source": [
    "## Основные теоретические положения"
   ]
  },
  {
   "cell_type": "markdown",
   "id": "f8e8edfd-19ea-407e-96fe-aa4a198503ee",
   "metadata": {},
   "source": [
    "Статистические данные: $(Y,z), Y-наблюдение,z-ковариата$\n",
    "\n",
    "Линейная регрессионная модель: $\\mathbb{E}_{\\theta}(Y\\mid z)=x(z)^\\intercal\\beta$\n",
    "\n",
    "Линейная регрессионная модель: $\\mathbb{E}_{\\theta}(Y\\mid z)=x(z)^\\intercal\\beta$\n",
    "\n",
    "Статистическая модель: $\\mathbb{E}_{\\theta}(Y\\mid z)=X^\\intercal\\beta,\\space Var(Y|z) = \\sigma^2E$\n",
    "\n",
    "Альтернативная форма записи модели линейной регрессии: $Y = X^\\intercal\\beta + \\varepsilon=\\beta_0+\\beta_1 x+\\varepsilon, \\space\\mathbb{E}_{\\theta}\\varepsilon = 0,\\space Var_{\\theta}\\varepsilon = \\sigma^2E$\n",
    "\n",
    "Метод наименьших квадратов: $RSS(\\beta)=\\left\\| Y-X^\\intercal\\beta \\right\\|^2=(Y-X^\\intercal\\beta)^\\intercal(Y-X^\\intercal\\beta)\\to \\min_\\beta$\n",
    "\n",
    "Нормальные уравнения: $XX^\\intercal\\beta=XY$\n",
    "\n",
    "Решение системы нормальных уравнений в регулярном случае: $\\hat{\\beta}=(XX^\\intercal)^{-1}XY$\n",
    "\n",
    "    Оценивание параметра дисперсии, ДНО функции параметра\n",
    "\n",
    "Оценка параметра $\\sigma^2$: $S^2 =\\frac{SS_e}{n-r} =\\frac{RSS(\\hat{\\beta})}{n-r}$, $\\space S^2$-несмещенная оценка дисперсии\n",
    "\n",
    "Линейная функция параметра: $\\psi(\\beta) = C^\\intercal\\beta$\n",
    "\n",
    "Будем говорить, что $\\psi(\\beta)$ допускает несмещенное оценивание, если $\\exists L(Y) = B Y : \\forall \\beta : \\mathbb{E}_\\beta L(Y) = C^\\intercal\\beta$\n",
    "\n",
    "Теорема Гаусса-Маркова: В модели линейной регрессии любая ДНО-функция параметра $\\psi(\\beta) = C^\\intercal\\beta$, $C = (c_1, \\dots, c_m)^\\intercal$ имеет НРМД - оценку $\\hat{\\psi}$. Эта оценка единственна в классе линейных несмещенных оценок и равна $\\hat{\\psi} = \\sum_{i = 1}^{m}c_i\\hat{\\beta}_i$, где $\\hat{\\beta}$ - произвольное решение системы нормальных уравнений.\n",
    "\n",
    "    Доверительное оценивание\n",
    "\n",
    "Доверительный интервал: $\\left[\\hat{\\psi} - x_\\alpha S \\sqrt{b_\\psi}; \\hat{\\psi} + x_\\alpha S \\sqrt{b_\\psi}\\right]$, где $x_\\alpha: S_{n-r}(x_\\alpha) = 1 - \\frac{\\alpha}{2}$\n",
    "\n",
    "Доверительный эллипсоид: $\\left\\{\\overrightarrow{x} : \\left(\\overrightarrow{x} - \\hat{\\psi}\\right)^\\intercal b_\\psi^{-1} \\left(\\overrightarrow{x} - \\hat{\\psi}\\right) \\le q S^2 x_\\alpha\\right\\}$,где $x_\\alpha: \\mathcal{F}_{q, n-r}(x_\\alpha) = 1 - \\alpha$\n",
    "\n",
    "    Проверка гипотез\n",
    "\n",
    "Основная гипотеза $H_0:\\psi=0$\n",
    "\n",
    "F-cтатистика: $\\mathbb{F} = \\frac{SS_H/q}{SS_e/(n-r)}$, где $SS_H = RSS(\\hat{\\beta}_H) - RSS(\\hat{\\beta})$, где $\\hat{\\beta}_H$ - МНК оценка при выполнении основной гипотезы, $SS_e=RSS(\\hat{\\beta})$\n"
   ]
  },
  {
   "cell_type": "markdown",
   "id": "a84502b6-1792-40d8-aa81-9eba3d23c122",
   "metadata": {},
   "source": [
    "## Постановка задачи\n",
    "Результаты статистического эксперимента представлены в виде двух переменных. Требуется оценить характер (случайной) зависимости переменной Y\r\n",
    " от переменной X\r\n",
    ". Полученные результаты содержательно проинтерпретировать."
   ]
  },
  {
   "cell_type": "markdown",
   "id": "cc79427e-9675-4ab5-b0b1-d89e568080bb",
   "metadata": {},
   "source": [
    "## Выполнение работы"
   ]
  },
  {
   "cell_type": "markdown",
   "id": "aa7d43f7-114b-4565-b29b-9aa5d761d63c",
   "metadata": {},
   "source": [
    "Результаты статистического эксперимента:"
   ]
  },
  {
   "cell_type": "code",
   "execution_count": 130,
   "id": "c8dd97a1-4493-42ac-92e2-901408431b53",
   "metadata": {},
   "outputs": [],
   "source": [
    "import matplotlib.pyplot as plt\n",
    "import numpy as np\n",
    "import scipy.stats as ss\n",
    "from sklearn.linear_model import LinearRegression\n",
    "from scipy.stats import t,f,norm,kstest\n",
    "y=np.array([23.98,3.17,21.94,1.22,4.96,14.75,10.86,5.76,2.70,0.86,3.72,3.89,4.56,0.33,14.25,3.00,5.40,6.35,11.10,2.83,9.80,10.05,8.22,16.99,1.39,0.25,17.00,20.80,\n",
    "   10.23,7.35,3.95,19.49,3.56,12.93,9.36,7.48,14.66,15.44,20.44,20.24,20.80,1.09,10.58,10.94,5.87,1.20,9.15,7.99,0.30,14.85])\n",
    "x=np.array([6,1,0,2,1,0,3,4,3,8,8,3,3,6,8,7,4,2,8,0,1,8,6,5,3,4,7,4,4,4,4,4,7,0,3,0,5,7,1,5,4,6,0,7,6,7,4,0,1,1])\n",
    "alpha=0.2"
   ]
  },
  {
   "cell_type": "markdown",
   "id": "65d32b12-5cad-4e9e-9c85-10d047224a6d",
   "metadata": {},
   "source": [
    "$\\alpha=0.20; h=2.80.$ "
   ]
  },
  {
   "cell_type": "markdown",
   "id": "cc23b882-a016-4e03-8bc7-023cdad751cd",
   "metadata": {},
   "source": [
    "### 1. Построить графически результаты эксперимента. Сформулировать линейную регерессионную модель переменной $Y$ по переменной $X$. Построить МНК оценки параметров сдвига $\\beta_0$ и масштаба $\\beta_1$. Построить полученную линию регрессии. Оценить визуально соответствие полученных данных и построенной оценки."
   ]
  },
  {
   "cell_type": "code",
   "execution_count": 131,
   "id": "7eccfe8f-ea79-4265-8d99-d708784a0d18",
   "metadata": {},
   "outputs": [
    {
     "data": {
      "image/png": "[encoded data removed]",
      "text/plain": [
       "<Figure size 640x480 with 1 Axes>"
      ]
     },
     "metadata": {},
     "output_type": "display_data"
    }
   ],
   "source": [
    "plt.scatter(x, y)\n",
    "plt.xlabel('Переменная X')\n",
    "plt.ylabel('Переменная Y')\n",
    "plt.title('Результаты статистического эксперимента')\n",
    "plt.show()"
   ]
  },
  {
   "cell_type": "markdown",
   "id": "46089cfb-061c-49f3-a5f7-df3f08c02801",
   "metadata": {},
   "source": [
    "Линейную регрессионную модель переменной Y по переменной X можно сформулировать в следующем виде:\n",
    "\n",
    "$Y=X^T\\beta+\\varepsilon=\\beta_0+\\beta_1x+\\varepsilon$"
   ]
  },
  {
   "cell_type": "code",
   "execution_count": 132,
   "id": "a14104ee-32a3-4054-a050-6f5d7df6632c",
   "metadata": {},
   "outputs": [
    {
     "name": "stdout",
     "output_type": "stream",
     "text": [
      "Определитель X*X^T: 16824.99999999999\n",
      "beta_0: [9.53665736]\n",
      "beta_1: [-0.09642496]\n"
     ]
    }
   ],
   "source": [
    "X = np.vstack([np.ones_like(x),x]) #приведем матрицу к виду [[1,1,...,1][x1,x2,...,x50]\n",
    "transposed_X = X.T\n",
    "result = np.dot(X, transposed_X)\n",
    "determinant = np.linalg.det(result)\n",
    "print('Определитель X*X^T:',determinant)#найдем определитель, чтобы убедиться,что у матрицы есть обратная\n",
    "Y = y.reshape(50, 1)\n",
    "beta=np.dot(np.dot(np.linalg.inv(result),X),Y)#(X*X^T)^(-1)*X*Y\n",
    "beta_0=beta[0];\n",
    "beta_1=beta[1];\n",
    "print('beta_0:',beta_0)\n",
    "print('beta_1:',beta_1)"
   ]
  },
  {
   "cell_type": "markdown",
   "id": "86278f57-7be1-4295-999d-44b5569ea345",
   "metadata": {},
   "source": [
    "$\\widehat{\\beta_0}=9.53665736;\\widehat{\\beta_1}=-0.09642496$"
   ]
  },
  {
   "cell_type": "code",
   "execution_count": 133,
   "id": "41394cd2-bb6c-4171-992a-bfd1c5c64c3c",
   "metadata": {},
   "outputs": [
    {
     "data": {
      "image/png": "[encoded data removed]",
      "text/plain": [
       "<Figure size 640x480 with 1 Axes>"
      ]
     },
     "metadata": {},
     "output_type": "display_data"
    }
   ],
   "source": [
    "x_values = np.linspace(min(x), max(x), 100)\n",
    "\n",
    "y_values = beta_0 + beta_1 * x_values\n",
    "\n",
    "plt.scatter(x, y, label='Данные')\n",
    "plt.plot(x_values, y_values, color='red', label='Линия регрессии')\n",
    "plt.xlabel('Переменная X')\n",
    "plt.ylabel('Переменная Y')\n",
    "plt.title('Линейная регрессия')\n",
    "plt.legend()\n",
    "plt.show()"
   ]
  },
  {
   "cell_type": "markdown",
   "id": "66fa18cb-9bfd-435e-9afd-2c004fbff4eb",
   "metadata": {},
   "source": [
    "Построенная оценка не соответствует полученным данным"
   ]
  },
  {
   "cell_type": "markdown",
   "id": "18911f8c-ca12-49de-947f-f06395bb1500",
   "metadata": {},
   "source": [
    "### 2. Построить и интерпретировать несмещенную оценку дисперсии. На базе ошибок построить гистограмму с шагом $h$. Проверить гипотезу нормальности ошибок на уровне значимости $\\alpha$ по $\\chi^2$. Оценить расстояние полученной оценки до класса нормальных распределений по Колмогорову. Визуально оценить данный факт."
   ]
  },
  {
   "cell_type": "markdown",
   "id": "38446c20-3d0d-40b5-a017-bccd27b7e691",
   "metadata": {},
   "source": [
    "Найдем несмещенную оценку дисперсии по формуле: $ s^2=\\frac{RSS(β)}{n-r} $\n",
    "\n",
    ",где $RSS(β)=\\sum_{i=1}^{50}\\left( Y_i -\\beta_0-\\beta_1X_i\\right)^2$ "
   ]
  },
  {
   "cell_type": "code",
   "execution_count": 134,
   "id": "407e8366-2106-450a-a1f3-37e8f16e0929",
   "metadata": {},
   "outputs": [
    {
     "name": "stdout",
     "output_type": "stream",
     "text": [
      "s: 46.61819544229817\n"
     ]
    }
   ],
   "source": [
    "mistakes=y - beta_0 - beta_1*x\n",
    "RSS = np.sum((mistakes)**2)\n",
    "r=np.linalg.matrix_rank(X);\n",
    "n=len(x)\n",
    "s=RSS/(n-r)\n",
    "print('s:',s)"
   ]
  },
  {
   "cell_type": "code",
   "execution_count": 135,
   "id": "614059d2-950b-445a-844c-c7e4c0251f72",
   "metadata": {},
   "outputs": [
    {
     "name": "stdout",
     "output_type": "stream",
     "text": [
      "[-9.14023239 -6.34023239 -3.54023239 -0.74023239  2.05976761  4.85976761\n",
      "  7.65976761 10.45976761 13.25976761 16.05976761]\n"
     ]
    },
    {
     "data": {
      "image/png": "[encoded data removed]",
      "text/plain": [
       "<Figure size 640x480 with 1 Axes>"
      ]
     },
     "metadata": {},
     "output_type": "display_data"
    }
   ],
   "source": [
    "h = 2.8\n",
    "bin=np.arange(np.min(mistakes), np.max(mistakes) + h, h)\n",
    "print(bin)\n",
    "weights = [1/(len(mistakes)) for _ in mistakes]\n",
    "plt.hist(mistakes, bins=bin, edgecolor='black',weights =weights)\n",
    "plt.xlabel('Ошибки')\n",
    "plt.ylabel('Частота')\n",
    "plt.title('Гистограмма ошибок ')\n",
    "plt.show()"
   ]
  },
  {
   "cell_type": "markdown",
   "id": "b0cf05f8-04d1-4df2-a1ae-784e160e8a8e",
   "metadata": {},
   "source": [
    "Выделим новые интервалы,чтобы в каждый попадало не менее 5 ошибок:\n",
    "\n",
    "$I_1=(-\\infty ;-6.34023239];I_2=(-6.34023239 ;-3.54023239 ];I_3=(-3.54023239  ;-0.74023239];$\n",
    "\n",
    "$I_4=(-0.74023239;2.05976761 ];I_5=(2.05976761;7.65976761];I_6=(7.65976761;\\infty)$"
   ]
  },
  {
   "cell_type": "markdown",
   "id": "fa2c4252-c898-44ec-9d51-633a7709bb57",
   "metadata": {},
   "source": [
    "Абсолютные частоты:\n",
    "$\\nu_1=10;\\nu_2=9;\\nu_3=6;\\nu_4=8;\\nu_5=8;\\nu_6=9$\n"
   ]
  },
  {
   "cell_type": "markdown",
   "id": "a77a9804-43d1-4bb7-a4ef-5a436bc32848",
   "metadata": {},
   "source": [
    "Ожидаемые частоты $np_0i$: $np_{01}=22.295;np_{02}=1.191;np_{03}=1.196;np_{04}=1.197;np_{05}=2.381;np_{06}=21.737$"
   ]
  },
  {
   "cell_type": "markdown",
   "id": "84cc15ee-1fc0-4d13-ae4f-1efa90f4a406",
   "metadata": {},
   "source": [
    "$\\chi^2 \\approx 136.67$"
   ]
  },
  {
   "cell_type": "markdown",
   "id": "91b27c95-7f5f-4e1f-a1ef-4df0e95b5414",
   "metadata": {},
   "source": [
    "$x_{\\alpha} \\approx 5.99$"
   ]
  },
  {
   "cell_type": "markdown",
   "id": "772045fb-5d8b-4fe0-8b6f-5f1e4ea1acec",
   "metadata": {},
   "source": [
    "$\\chi^2 > x_{\\alpha_2}$ значит гипотеза отвергается"
   ]
  },
  {
   "cell_type": "code",
   "execution_count": 136,
   "id": "ae00f5f6-41c1-4085-ab66-1ba9f88e351a",
   "metadata": {},
   "outputs": [
    {
     "name": "stdout",
     "output_type": "stream",
     "text": [
      "Статистика Колмогорова: 0.44414521083849356\n",
      "x_alpha: 0.1517096432224198\n"
     ]
    }
   ],
   "source": [
    "k_statistic, p_value = kstest(mistakes, 'norm')\n",
    "x_alpha=ss.kstwobign.ppf(1 - alpha) / np.sqrt(len(mistakes))\n",
    "print('Статистика Колмогорова:',k_statistic)\n",
    "print('x_alpha:',x_alpha)"
   ]
  },
  {
   "cell_type": "markdown",
   "id": "fb9261ba-c6bd-4a5d-b3d0-18d59e97a0db",
   "metadata": {},
   "source": [
    "$\\widehat{D_n} > x_{\\alpha}$ значит гипотеза отвергается"
   ]
  },
  {
   "cell_type": "code",
   "execution_count": 137,
   "id": "71e68899-719c-4aef-abb9-99cfbad885f5",
   "metadata": {},
   "outputs": [
    {
     "name": "stdout",
     "output_type": "stream",
     "text": [
      "[-9.14023239 -6.34023239 -3.54023239 -0.74023239  2.05976761  4.85976761\n",
      "  7.65976761 10.45976761 13.25976761 16.05976761]\n"
     ]
    },
    {
     "data": {
      "image/png": "[encoded data removed]",
      "text/plain": [
       "<Figure size 640x480 with 1 Axes>"
      ]
     },
     "metadata": {},
     "output_type": "display_data"
    }
   ],
   "source": [
    "h = 2.8\n",
    "bin=np.arange(np.min(mistakes), np.max(mistakes) + h, h)\n",
    "print(bin)\n",
    "weights = [1/(len(mistakes)) for _ in mistakes]\n",
    "plt.hist(mistakes, bins=bin, edgecolor='black',weights =weights)\n",
    "plt.plot(np.arange(min(mistakes), max(mistakes) + 1, 0.01), norm.pdf(np.arange(min(mistakes), max(mistakes) + 1, 0.01), 0, s) * len(mistakes))\n",
    "plt.xlabel('Ошибки')\n",
    "plt.ylabel('Частота')\n",
    "plt.title('Гистограмма ошибок ')\n",
    "plt.show()"
   ]
  },
  {
   "cell_type": "markdown",
   "id": "23ed4cd6-21b5-4fa3-9e6b-9cef389238da",
   "metadata": {},
   "source": [
    "Видно, что выдвинутая гипотеза не соответствует действительности"
   ]
  },
  {
   "cell_type": "markdown",
   "id": "921e696c-27fa-4cab-8714-6de961814499",
   "metadata": {},
   "source": [
    "### 3. В предположении нормальности ошибок построить доверительные интервалы для параметров $\\beta_0$ и $\\beta_1$ уровня доверия $1-\\alpha$. Построить доверительный эллипс уровня доверия $1-\\alpha$ для $\\left( \\beta_0,\\beta_1 \\right)$ (вычислить его полуоси)."
   ]
  },
  {
   "cell_type": "markdown",
   "id": "2885da48-e829-4a54-b04e-1f6c860a7176",
   "metadata": {},
   "source": [
    "$\\psi=C^T\\beta$"
   ]
  },
  {
   "cell_type": "markdown",
   "id": "4497349b-0aa6-4479-a079-79568d3ded16",
   "metadata": {},
   "source": [
    "Возьмем $C_1=(1\\space0),C_2=(0\\space1)$ и $C_3=\\begin{pmatrix}\n",
    " 1& 0 \\\\\n",
    " 0& 1\n",
    "\\end{pmatrix}$\n",
    "\n",
    "Тогда $\\psi_1=C_1^T\\beta=\\beta_0,\\psi_2=C_2^T\\beta=\\beta_1$ и $\\psi_3=C_3^T\\beta=\\begin{pmatrix}\n",
    " \\beta_0\\\\\n",
    "\\beta_1\n",
    "\\end{pmatrix}$\n",
    "\n",
    "$\\widehat{\\psi_1}=C_1^T\\widehat{\\beta}=\\widehat{\\beta_0},\\widehat{\\psi_2}=C_2^T\\widehat{\\beta}=\\widehat{\\beta_1}$ и $\\widehat{\\psi_3}=C_3^T\\widehat{\\beta}=\\begin{pmatrix}\n",
    " \\widehat{\\beta_0}\\\\\n",
    "\\widehat{\\beta_1}\n",
    "\\end{pmatrix}$"
   ]
  },
  {
   "cell_type": "code",
   "execution_count": 138,
   "id": "c55f61ea-148d-42f9-99a3-30424455bed5",
   "metadata": {},
   "outputs": [
    {
     "name": "stdout",
     "output_type": "stream",
     "text": [
      "[[ 0.06520059 -0.0115899 ]\n",
      " [-0.0115899   0.00297177]]\n",
      "Интервал для beta_0: [7.27118189] [11.80213282]\n",
      "Интервал для beta_1: [-0.58008594] [0.38723602]\n"
     ]
    }
   ],
   "source": [
    "psi_1=beta_0;\n",
    "psi_2=beta_1;\n",
    "psi_3=np.array([[beta_0], [beta_1]])\n",
    "x_alpha1=t.ppf(1-alpha/2,n-r)\n",
    "x_alpha2=x_alpha1\n",
    "x_alpha3=f.ppf(1-alpha/2,2,n-r)\n",
    "C1=np.array([1,0])\n",
    "transposed_C1 = C1.T\n",
    "b1=np.dot(np.dot(transposed_C1,(np.linalg.inv(result))),C1)\n",
    "C2=np.array([0,1])\n",
    "transposed_C2 = C2.T\n",
    "b2=np.dot(np.dot(transposed_C2,(np.linalg.inv(result))),C2)\n",
    "C3=np.array([[1,0],[0,1]])\n",
    "transposed_C3 = C3.T\n",
    "b3=np.dot(np.dot(transposed_C3,(np.linalg.inv(result))),C3)\n",
    "print(b3)\n",
    "dif=x-psi_3;\n",
    "transposed_dif = dif.T\n",
    "print('Интервал для beta_0:',psi_1-x_alpha1*np.sqrt(b1)*np.sqrt(s),psi_1+x_alpha1*np.sqrt(b1)*np.sqrt(s))\n",
    "print('Интервал для beta_1:',psi_2-x_alpha2*np.sqrt(b2)*np.sqrt(s),psi_2+x_alpha2*np.sqrt(b2)*np.sqrt(s))\n"
   ]
  },
  {
   "cell_type": "markdown",
   "id": "8aedda38-4505-4477-aca5-9b44bd0c7b12",
   "metadata": {},
   "source": [
    "$\\left[7.27118189, 11.80213282\\right] \\ni \\beta_0$\n",
    "\n",
    "$\\left[-0.58008594, 0.38723602\\right] \\ni \\beta_1$"
   ]
  },
  {
   "cell_type": "code",
   "execution_count": 139,
   "id": "3c041aff-9b92-478a-8e3c-513cb34d8fd9",
   "metadata": {},
   "outputs": [
    {
     "name": "stdout",
     "output_type": "stream",
     "text": [
      "1.6646290755148485\n"
     ]
    }
   ],
   "source": [
    "x_alp=ss.f.ppf(1-alpha,2, n-r)\n",
    "print(x_alp)"
   ]
  },
  {
   "cell_type": "markdown",
   "id": "d6eaa58d-899e-4522-9df4-530178297aa1",
   "metadata": {},
   "source": [
    "$ \\left(\\begin{pmatrix} x \\\\ y  \\end{pmatrix}-\\begin{pmatrix} β_0 \\\\ β_1  \\end{pmatrix}\\right)^\\intercal B^{-1}\\left(\\begin{pmatrix} x \\\\ y  \\end{pmatrix}-\\begin{pmatrix} β_0 \\\\ β_1  \\end{pmatrix}\\right) \\leq qs^2x_α $\n",
    "\n",
    "$ \\left(\\begin{pmatrix} x \\\\ y  \\end{pmatrix}-\\begin{pmatrix} 9.53665736 \\\\ -0.09642496  \\end{pmatrix}\\right)^\\intercal \\begin{pmatrix} 0.06520059 & -0.0115899 \\\\ -0.0115899 &  0.00297177  \\end{pmatrix}\\left(\\begin{pmatrix} x \\\\ y  \\end{pmatrix}-\\begin{pmatrix} 9.53665736 \\\\ -0.09642496  \\end{pmatrix}\\right) \\leq 2 \\cdot 46.61819544229817\\cdot 1.6646290755148485 $"
   ]
  },
  {
   "cell_type": "markdown",
   "id": "97b65a49-95be-4e64-b05f-4adf3ab6cbdd",
   "metadata": {},
   "source": [
    "$0.065x^2-1.245x+5.95+0.023xy-0.219y+0.0029y^2 \\leq 155.203 $"
   ]
  },
  {
   "cell_type": "markdown",
   "id": "01fdca23-c0bf-4283-830b-d1eef317d814",
   "metadata": {},
   "source": [
    "### 4. Сформулировать гипотезу независимости переменной $Y$ от переменной $X$. Провести проверку значимости."
   ]
  },
  {
   "cell_type": "markdown",
   "id": "1457cec3-a978-4abc-b24c-8f0f2c586ed7",
   "metadata": {},
   "source": [
    "Основная гипотеза: $H_0 : \\psi = 0$"
   ]
  },
  {
   "cell_type": "markdown",
   "id": "3ca59fae-ce2f-4fee-8707-d949d6a3da05",
   "metadata": {},
   "source": [
    "$RSS(\\beta_H)=\\sum_{i=1}^{n}(Y_i-\\beta_0^H)^2\\to min_{\\beta_H}$"
   ]
  },
  {
   "cell_type": "markdown",
   "id": "978cb257-c371-4cdc-aad9-f5b34e132fcb",
   "metadata": {},
   "source": [
    "$\\sum_{i=1}^{n}(Y_i-\\beta_0^H)=0$"
   ]
  },
  {
   "cell_type": "markdown",
   "id": "9fc1e2ce-14b3-4e02-bfdf-9c201fccb8fd",
   "metadata": {},
   "source": [
    "$\\widehat{\\beta_0^H}=\\sum_{i=1}^{n}(Y_i)/n$"
   ]
  },
  {
   "cell_type": "code",
   "execution_count": 140,
   "id": "b27ae7e2-0191-4965-94f9-40a1aa5f5373",
   "metadata": {},
   "outputs": [
    {
     "name": "stdout",
     "output_type": "stream",
     "text": [
      "F: 0.2187913408090166\n",
      "x_a: 1.6646290755148485\n"
     ]
    }
   ],
   "source": [
    "beta_0s = sum(Y)/len(Y)\n",
    "mistakes_s=y - beta_0\n",
    "RSS_s = np.sum((mistakes_s)**2)\n",
    "F=(RSS_s-RSS)/(RSS/(n-2))\n",
    "x_a=ss.f.ppf(1-alpha,2, n-r)\n",
    "print('F:',F)\n",
    "print('x_a:',x_a)"
   ]
  },
  {
   "cell_type": "markdown",
   "id": "3d595fee-3339-442f-ab37-70c9d2926730",
   "metadata": {},
   "source": [
    "$\\mathbb{F} < x_{\\alpha}$ значит гипотеза принимается"
   ]
  },
  {
   "cell_type": "markdown",
   "id": "01533392-dc6d-4b77-8385-9ddd28128758",
   "metadata": {},
   "source": [
    "### 5. Сформулировать модель, включающую дополнительный член с $X^2$. Построить МНК оценки параметров $\\beta_0,\\beta_1,\\beta_2$ в данной модели. Изобразить графически полученную регрессионную зависимость."
   ]
  },
  {
   "cell_type": "markdown",
   "id": "a3ef683d-22ef-4811-8ded-2e155606812f",
   "metadata": {
    "jp-MarkdownHeadingCollapsed": true
   },
   "source": [
    "Регрессионную модель переменной Y по переменной X можно сформулировать в следующем виде:\n",
    "\n",
    "$Y=X^T\\beta+\\varepsilon=\\beta_0+\\beta_1x+\\beta_2x^2+\\varepsilon$"
   ]
  },
  {
   "cell_type": "code",
   "execution_count": 145,
   "id": "2a2882e7-2121-4845-9cdf-c6d2e9e79cf6",
   "metadata": {},
   "outputs": [
    {
     "name": "stdout",
     "output_type": "stream",
     "text": [
      "Определитель X*X^T: 31591511.9999999\n",
      "beta_0: [9.6097579]\n",
      "beta_1: [-0.16406464]\n",
      "beta_2: [0.00869162]\n"
     ]
    }
   ],
   "source": [
    "X2 = np.vstack([np.ones_like(x),x,x**2]) #приведем матрицу к виду [[1,1,...,1][x1,x2,...,x50][x1^2,x2^2,...,x50^2]\n",
    "transposed_X2 = X2.T\n",
    "result = np.dot(X2, transposed_X2)\n",
    "determinant = np.linalg.det(result)\n",
    "print('Определитель X*X^T:',determinant)#найдем определитель, чтобы убедиться,что у матрицы есть обратная\n",
    "Y2 = y.reshape(50, 1)\n",
    "beta=np.dot(np.dot(np.linalg.inv(result),X2),Y2)#(X*X^T)^(-1)*X*Y\n",
    "beta_0=beta[0];\n",
    "beta_1=beta[1];\n",
    "beta_2=beta[2];\n",
    "print('beta_0:',beta_0)\n",
    "print('beta_1:',beta_1)\n",
    "print('beta_2:',beta_2)"
   ]
  },
  {
   "cell_type": "code",
   "execution_count": 146,
   "id": "c183bef6-b02d-4a92-b8bf-4d34a8f63a59",
   "metadata": {},
   "outputs": [
    {
     "data": {
      "image/png": "[encoded data removed]",
      "text/plain": [
       "<Figure size 640x480 with 1 Axes>"
      ]
     },
     "metadata": {},
     "output_type": "display_data"
    }
   ],
   "source": [
    "y_values2 = beta_0 + beta_1 * x_values + beta_2 * x_values* x_values\n",
    "\n",
    "plt.scatter(x, y, label='Данные')\n",
    "plt.plot(x_values, y_values2, color='red', label='Линия регрессии')\n",
    "plt.xlabel('Переменная X')\n",
    "plt.ylabel('Переменная Y')\n",
    "plt.title('Линейная регрессия')\n",
    "plt.legend()\n",
    "plt.show()"
   ]
  },
  {
   "cell_type": "markdown",
   "id": "37761587-9df1-44d7-ad92-ee22890587a7",
   "metadata": {},
   "source": [
    "### 6. Построить несмещенную оценку дисперсии. Провести исследование нормальности ошибок как в пункте 2."
   ]
  },
  {
   "cell_type": "markdown",
   "id": "1a143cae-8540-4e49-9f0d-c0915eec50b3",
   "metadata": {},
   "source": [
    "Найдем несмещенную оценку дисперсии по формуле: $ s^2=\\frac{RSS(β)}{n-r} $\n",
    "\n",
    ",где $RSS(β)=\\sum_{i=1}^{50}\\left( Y_i -\\beta_0-\\beta_1X_i-\\beta_2(X_i)^2\\right)^2$ "
   ]
  },
  {
   "cell_type": "code",
   "execution_count": 147,
   "id": "71ffc34d-d5b2-4aeb-82be-6c8aa20efaee",
   "metadata": {},
   "outputs": [
    {
     "name": "stdout",
     "output_type": "stream",
     "text": [
      "s: 46.615240317946785\n"
     ]
    }
   ],
   "source": [
    "mistakes2=y - beta_0 - beta_1*x- beta_2*(x**2)\n",
    "RSS2 = np.sum((mistakes2)**2)\n",
    "r=np.linalg.matrix_rank(X);\n",
    "n=len(x)\n",
    "s=RSS2/(n-r)\n",
    "print('s:',s)"
   ]
  },
  {
   "cell_type": "code",
   "execution_count": 148,
   "id": "b92e116b-0c0c-49ad-a91c-37416f6382d0",
   "metadata": {},
   "outputs": [
    {
     "name": "stdout",
     "output_type": "stream",
     "text": [
      "[-9.15438488 -6.35438488 -3.55438488 -0.75438488  2.04561512  4.84561512\n",
      "  7.64561512 10.44561512 13.24561512 16.04561512]\n"
     ]
    },
    {
     "data": {
      "image/png": "[encoded data removed]",
      "text/plain": [
       "<Figure size 640x480 with 1 Axes>"
      ]
     },
     "metadata": {},
     "output_type": "display_data"
    }
   ],
   "source": [
    "h = 2.8\n",
    "bin=np.arange(np.min(mistakes2), np.max(mistakes2) + h, h)\n",
    "print(bin)\n",
    "weights = [1/(len(mistakes2)) for _ in mistakes]\n",
    "plt.hist(mistakes2, bins=bin, edgecolor='black',weights =weights)\n",
    "plt.xlabel('Ошибки')\n",
    "plt.ylabel('Частота')\n",
    "plt.title('Гистограмма ошибок ')\n",
    "plt.show()"
   ]
  },
  {
   "cell_type": "markdown",
   "id": "56a7b56f-599e-405b-97ef-82423182b877",
   "metadata": {},
   "source": [
    "Выделим новые интервалы,чтобы в каждый попадало не менее 5 ошибок:\n",
    "\n",
    "$I_1=(-\\infty ;-6.34023239];I_2=(-6.34023239 ;-3.54023239 ];I_3=(-3.54023239  ;-0.74023239];$\n",
    "\n",
    "$I_4=(-0.74023239;2.05976761 ];I_5=(2.05976761;7.65976761];I_6=(7.65976761;\\infty)$"
   ]
  },
  {
   "cell_type": "markdown",
   "id": "91539cb3-6b5b-416a-88ed-decad52d5006",
   "metadata": {},
   "source": [
    "Абсолютные частоты:\n",
    "$\\nu_1=0.2;\\nu_2=0.18;\\nu_3=0.12;\\nu_4=0.16;\\nu_5=0.16;\\nu_6=0.18$\n"
   ]
  },
  {
   "cell_type": "markdown",
   "id": "d2755fcc-4ebf-4351-8f2c-d00c4551dc33",
   "metadata": {},
   "source": [
    "Абсолютные частоты:\n",
    "$\\nu_1=10;\\nu_2=9;\\nu_3=6;\\nu_4=8;\\nu_5=8;\\nu_6=9$\n"
   ]
  },
  {
   "cell_type": "markdown",
   "id": "c4600f9b-6e4b-40cd-a463-1d260957f7c1",
   "metadata": {},
   "source": [
    "Ожидаемые частоты $np_0i$: $np_{01}=22.295;np_{02}=1.191;np_{03}=1.196;np_{04}=1.197;np_{05}=2.381;np_{06}=21.737$"
   ]
  },
  {
   "cell_type": "markdown",
   "id": "673119fe-f99d-43c0-990e-8a31da877474",
   "metadata": {},
   "source": [
    "$\\chi^2 \\approx 136.67$"
   ]
  },
  {
   "cell_type": "markdown",
   "id": "212a3bd1-415c-4bb1-9505-aa1f5e758dc4",
   "metadata": {},
   "source": [
    "$x_{\\alpha} \\approx 5.99$"
   ]
  },
  {
   "cell_type": "markdown",
   "id": "a1c564b9-a510-4eca-b95e-d4bba0dcfeaa",
   "metadata": {},
   "source": [
    "$\\chi^2 > x_{\\alpha_2}$ значит гипотеза отвергается"
   ]
  },
  {
   "cell_type": "code",
   "execution_count": 149,
   "id": "f3bccb9d-0542-4517-9983-2bbca0724489",
   "metadata": {},
   "outputs": [
    {
     "name": "stdout",
     "output_type": "stream",
     "text": [
      "Статистика Колмогорова: 0.4473578533845024\n",
      "x_al: 0.1517096432224198\n"
     ]
    }
   ],
   "source": [
    "k_statistic, p_value = kstest(mistakes2, 'norm')\n",
    "x_al=ss.kstwobign.ppf(1 - alpha) / np.sqrt(len(mistakes2))\n",
    "print('Статистика Колмогорова:',k_statistic)\n",
    "print('x_al:',x_al)"
   ]
  },
  {
   "cell_type": "markdown",
   "id": "8a8f230c-e597-4cf0-ab89-a50a6cc6dacc",
   "metadata": {},
   "source": [
    "$\\widehat{D_n} > x_{\\alpha}$ значит гипотеза отвергается"
   ]
  },
  {
   "cell_type": "code",
   "execution_count": 150,
   "id": "7cb897ae-136b-4dc9-8b63-eb79e1da3f7f",
   "metadata": {},
   "outputs": [
    {
     "name": "stdout",
     "output_type": "stream",
     "text": [
      "[-9.14023239 -6.34023239 -3.54023239 -0.74023239  2.05976761  4.85976761\n",
      "  7.65976761 10.45976761 13.25976761 16.05976761]\n"
     ]
    },
    {
     "data": {
      "image/png": "[encoded data removed]",
      "text/plain": [
       "<Figure size 640x480 with 1 Axes>"
      ]
     },
     "metadata": {},
     "output_type": "display_data"
    }
   ],
   "source": [
    "h = 2.8\n",
    "bin=np.arange(np.min(mistakes), np.max(mistakes) + h, h)\n",
    "print(bin)\n",
    "weights = [1/(len(mistakes)) for _ in mistakes]\n",
    "plt.hist(mistakes, bins=bin, edgecolor='black',weights =weights)\n",
    "plt.plot(np.arange(min(mistakes), max(mistakes) + 1, 0.01), norm.pdf(np.arange(min(mistakes), max(mistakes) + 1, 0.01), 0, s) * len(mistakes))\n",
    "plt.xlabel('Ошибки')\n",
    "plt.ylabel('Частота')\n",
    "plt.title('Гистограмма ошибок ')\n",
    "plt.show()"
   ]
  },
  {
   "cell_type": "markdown",
   "id": "8d780d11-1123-4925-9211-5a9c6e964faa",
   "metadata": {},
   "source": [
    "Видно, что выдвинутая гипотеза не соответствует действительности"
   ]
  },
  {
   "cell_type": "markdown",
   "id": "4d62770c-04c3-461d-b069-2f7447c63f79",
   "metadata": {},
   "source": [
    "### 7. В предположении нормальности ошибок построить доверительные интервалы для параметров $\\beta_0,\\beta_1,\\beta_2$ уровня доверия $1-\\alpha$. Написать уравнение доверительного эллипсоида уровня доверия $1-\\alpha$. "
   ]
  },
  {
   "cell_type": "markdown",
   "id": "e61011c5-7320-4c14-b825-c95c696d54a9",
   "metadata": {},
   "source": [
    "$\\psi=C^T\\beta$"
   ]
  },
  {
   "cell_type": "markdown",
   "id": "37e149dd-9125-4a53-93cd-0ba72ab31e73",
   "metadata": {},
   "source": [
    "Возьмем $C_1=(1\\space0\\space0),C_2=(0\\space1\\space0)$ и $C_2=(0\\space0\\space1)$\n",
    "\n",
    "Тогда $\\psi_1=C_1^T\\beta=\\beta_0,\\psi_2=C_2^T\\beta=\\beta_1$ и $\\psi_3=C_3^T\\beta=\\beta_2$\n",
    "\n",
    "$\\widehat{\\psi_1}=C_1^T\\widehat{\\beta}=\\widehat{\\beta_0},\\widehat{\\psi_2}=C_2^T\\widehat{\\beta}=\\widehat{\\beta_1}$ и $\\widehat{\\psi_3}=C_3^T\\widehat{\\beta}=\\widehat{\\beta_1}$"
   ]
  },
  {
   "cell_type": "code",
   "execution_count": 151,
   "id": "fbd4fddf-a375-4a17-a17f-61dad8f806af",
   "metadata": {},
   "outputs": [
    {
     "name": "stdout",
     "output_type": "stream",
     "text": [
      "Интервал для beta_0: [6.76417867] [12.45533713]\n",
      "Интервал для beta_1: [-1.82920625] [1.50107697]\n",
      "Интервал для beta_2: [-0.19605283] [0.21343608]\n"
     ]
    }
   ],
   "source": [
    "psi_1=beta_0;\n",
    "psi_2=beta_1;\n",
    "psi_3=beta_2;\n",
    "x_alpha1=t.ppf(1-alpha/2,n-r)\n",
    "x_alpha2=x_alpha1\n",
    "x_alpha3=x_alpha1\n",
    "C1=np.array([1,0,0])\n",
    "transposed_C1 = C1.T\n",
    "b1=np.dot(np.dot(transposed_C1,(np.linalg.inv(result))),C1)\n",
    "C2=np.array([0,1,0])\n",
    "transposed_C2 = C2.T\n",
    "b2=np.dot(np.dot(transposed_C2,(np.linalg.inv(result))),C2)\n",
    "C3=np.array([0,0,1])\n",
    "transposed_C3 = C3.T\n",
    "b3=np.dot(np.dot(transposed_C3,(np.linalg.inv(result))),C3)\n",
    "print\n",
    "print('Интервал для beta_0:',psi_1-x_alpha1*np.sqrt(b1)*np.sqrt(s),psi_1+x_alpha1*np.sqrt(b1)*np.sqrt(s))\n",
    "print('Интервал для beta_1:',psi_2-x_alpha2*np.sqrt(b2)*np.sqrt(s),psi_2+x_alpha2*np.sqrt(b2)*np.sqrt(s))\n",
    "print('Интервал для beta_2:',psi_3-x_alpha3*np.sqrt(b3)*np.sqrt(s),psi_3+x_alpha3*np.sqrt(b3)*np.sqrt(s))"
   ]
  },
  {
   "cell_type": "markdown",
   "id": "ec01f460-92cc-45a1-b2ea-a28cf0efbb9d",
   "metadata": {},
   "source": [
    "$\\left[6.76417867, 12.45533713\\right] \\ni \\beta_0$\n",
    "\n",
    "$\\left[-1.82920625, 1.50107697\\right] \\ni \\beta_1$\n",
    "\n",
    "$\\left[-0.19605283, 0.21343608\\right] \\ni \\beta_2$"
   ]
  },
  {
   "cell_type": "markdown",
   "id": "69822e7b-8501-4d24-95db-1185446c7cf9",
   "metadata": {},
   "source": [
    "### 8. Сформулировать гипотезу линейной регрессионной зависимости переменной $Y$ от переменной $X$ и проверить ее значимость на уровне $\\alpha$."
   ]
  },
  {
   "cell_type": "markdown",
   "id": "b6b2a205-aeb5-428e-b120-572cd26a650b",
   "metadata": {},
   "source": [
    "Основная гипотеза: $H_0 : \\psi = 0$"
   ]
  },
  {
   "cell_type": "markdown",
   "id": "7669d50c-b785-404f-b704-011fdfbf164d",
   "metadata": {},
   "source": [
    "$RSS(\\beta_H)=\\sum_{i=1}^{n}(Y_i-\\beta_0^H-\\beta_1^Hx)^2\\to min_{\\beta_H}$"
   ]
  },
  {
   "cell_type": "markdown",
   "id": "aeb119d0-41b6-4f7c-a096-a3777dc3522f",
   "metadata": {},
   "source": [
    "$\\sum_{i=1}^{n}(Y_i-\\beta_0^H)=0$"
   ]
  },
  {
   "cell_type": "markdown",
   "id": "eaf2c41a-c59f-4721-8302-b5cfd4eb5a4c",
   "metadata": {},
   "source": [
    "$\\widehat{\\beta^H}=\\begin{pmatrix}\\beta_0 \\\\ \\beta_1\\end{pmatrix}$"
   ]
  },
  {
   "cell_type": "code",
   "execution_count": 91,
   "id": "b524117b-940b-46ad-b750-e8da93cb9fac",
   "metadata": {},
   "outputs": [
    {
     "name": "stdout",
     "output_type": "stream",
     "text": [
      "F: 0.2834910613693215\n",
      "x_a: 1.607214475158665\n"
     ]
    }
   ],
   "source": [
    "F2=(RSS-RSS2)/(RSS2/(n-2))\n",
    "x_a=ss.f.ppf(1 - alpha,3, n-r)\n",
    "print('F:',F)\n",
    "print('x_a:',x_a)"
   ]
  },
  {
   "cell_type": "markdown",
   "id": "130429d6-5e1f-4d1a-9b89-ed7731e7d72b",
   "metadata": {},
   "source": [
    "$\\mathbb{F} < x_{\\alpha}$ значит гипотеза принимается"
   ]
  },
  {
   "cell_type": "markdown",
   "id": "5e5e29e9-03ea-47b5-b909-605c69ab19eb",
   "metadata": {},
   "source": [
    "## Выводы"
   ]
  },
  {
   "cell_type": "markdown",
   "id": "57231426-b9f2-4098-9937-064a6a7c20ff",
   "metadata": {},
   "source": [
    "В ходе данной практической работы удалось ознакомиться с основными положениями метода наименьших квадратов (МНК), со статистическими свойствами МНК-оценок, с понятием функции регрессии и роли МНК в регрессионном анализе."
   ]
  }
 ],
 "metadata": {
  "kernelspec": {
   "display_name": "Python 3 (ipykernel)",
   "language": "python",
   "name": "python3"
  },
  "language_info": {
   "codemirror_mode": {
    "name": "ipython",
    "version": 3
   },
   "file_extension": ".py",
   "mimetype": "text/x-python",
   "name": "python",
   "nbconvert_exporter": "python",
   "pygments_lexer": "ipython3",
   "version": "3.11.5"
  }
 },
 "nbformat": 4,
 "nbformat_minor": 5
}
