{
 "cells": [
  {
   "cell_type": "markdown",
   "id": "da8345aa-864c-4fd7-865d-ba3c1840a9c8",
   "metadata": {},
   "source": [
    "# Практическая работа №2: Классические методы математической статистики\n",
    "Выполнил студент гр. 1374 Грыщенко Сергей Вячеславович. Вариант №6"
   ]
  },
  {
   "cell_type": "markdown",
   "id": "28160935-947d-4cdd-9575-10aff80307b0",
   "metadata": {},
   "source": [
    "## Цель работы\n",
    "Научится применять методы математической статистики для решения задач статистического анализа; сформировать навыки реализации методов с помощью прикладных программных пакетов."
   ]
  },
  {
   "cell_type": "markdown",
   "id": "8b3c949f-ce3c-4e45-b7da-53e58f28a9f6",
   "metadata": {},
   "source": [
    "## Основные теоретические положения"
   ]
  },
  {
   "cell_type": "markdown",
   "id": "85f616a6-b600-4b3a-8545-337527dc9f17",
   "metadata": {},
   "source": [
    "    A\n",
    "\n",
    "Вариационный ряд - упорядоченный набор наблюдений $X_{(1)} \\le \\dots \\le X_{(n)}$\n",
    "\n",
    "  Выборочные числовые характеристики:\n",
    "\n",
    "Математическое ожидание: $\\overline{x}=\\frac{1}{n}\\sum_{i=1}^{n}x_i$\n",
    "\n",
    "Дисперсия: $s^{2}=\\frac{1}{n}\\sum_{i=1}^{n}\\left( x_i-\\overline{x} \\right)^{2}$\n",
    "\n",
    "Среднеквадратичное отклонение: $s = \\sqrt{s^2} = \\sqrt{\\frac{1}{n}\\sum_{i=1}^{n}\\left( x_i-\\overline{x} \\right)^{2}}$\n",
    "\n",
    "Медиана: $x_{(\\left\\lfloor \\frac{n}{2}\\right\\rfloor+1)}$ если $np \\notin \\mathbb{Z}$ и $\\left[x_{(\\frac{n}{2})},x_{(\\frac{n}{2}+1)}\\right)$если $np \\in \\mathbb{Z}$\n",
    "\n",
    "Коэффициент асимметрии:  $\\widehat{Skew}(=\\frac{1}{n}\\frac{\\sum_{i=1}^{n}\\left( x_i-\\overline{x} \\right)^{3}}{S^{3}}$\n",
    "\n",
    "Коэффициент эксцесса:  $\\widehat{Kurt}=\\frac{1}{n}\\frac{\\sum_{i=1}^{n}\\left(x_i-\\overline{x}^{4} \\right)}{S^{4}}-3$\n",
    "\n",
    "    B\n",
    "\n",
    "Оценка максимального прадоподобия:\n",
    "\n",
    "Оценка $\\widehat{\\theta}(x)$, максимизирующая функцию правдоподобия $L(\\overrightarrow{x},\\theta)$ по $\\theta$ при каждом фиксированном $x: L(x, \\widehat{\\theta}(x)) \\ge L(x, \\overline{\\theta}(x)), \\forall {x} \\in \\mathfrak{X}, \\forall {\\overline{\\theta}(x)}$ называется оценкой максимального правдоподобия\n",
    "\n",
    "Функция правдоподобия: $L(\\overline{x},\\theta)=\\prod_{i=1}^{n}p_\\theta(x_i)$\n",
    "\n",
    "Оценка по методу моментов:\n",
    "\n",
    "Если существует единственное решение $\\tilde{\\theta}(x)$ системы уравнений $\\hat{\\mu_k}(\\tilde{\\theta}) = \\mu_k(\\tilde{\\theta})$ для $k = 1,\\dots,d$ где $\\ \\mu_k(\\theta) = \\mathbb{E}_\\theta x_1^k;\\  \\hat{\\mu_k}(\\theta) = \\frac{1}{n}\\sum_{i=1}^{n}X_1^k$ - выборочный момент k-ого порядка, то $\\tilde{\\theta}(X)$ - называется оценкой по методу моментов\n",
    "\n",
    "Смещение оценки: $b_g(\\theta) = \\mathbb{E}\\hat{\\theta}(X) - \\theta$\n",
    "\n",
    "    С\n",
    "\n",
    "Метод построения на базе ОМП:\n",
    "\n",
    "При выполнении определенных условий регулярности: $\\sqrt{n}\\left( \\hat{\\theta}(\\overline{x})-\\theta)\\right)\\sim \\mathcal{N}\\left(0,\\frac{1}{I(\\theta)}\\right)$, где $I(\\theta) = \\lim_{n \\to \\infty}I_n(\\theta)/n$, где $ I_n(\\theta) = -\\mathbb{E} \\frac{\\partial^{2} LL}{\\partial \\theta^{2}}$- информация Фишера\n",
    "\n",
    "Тогда $\\sqrt{nI\\left(\\hat{\\theta}(\\overline{x}) \\right)}\\ \\left( \\hat{\\theta}(\\overline{x})-\\theta \\right)\\sim \\mathcal{N}(0,1)$\n",
    "\n",
    "Выберем $x_{\\alpha} : \\Phi(x_{\\alpha}) = 1 - \\frac{\\alpha}{2}$\n",
    "\n",
    "АДИ: $\\left[ \\hat{\\theta}(\\overline{x})-\\frac{x_\\alpha}{\\sqrt{n I\\left( \\hat{\\theta}(\\overline{x}) \\right)}};\\ \\hat{\\theta}(\\overline{x})+\\frac{x_\\alpha}{\\sqrt{n I\\left( \\hat{\\theta}(\\overline{x}) \\right)}} \\right] \\ni \\theta$\n",
    "\n",
    "    E...\n",
    "\n",
    "Статистика отношения правдоподобия:\n",
    "\n",
    "Критерий $\\chi^2$:\n",
    "\n",
    "Критерий $\\chi^2 = \\sum \\limits_{i=1}^{r} \\frac{(n_{i} - p_{i} n)^{2}}{n p_{i}}$, где $r$ - число интервалов, $p_i = F_0(I_i)$ - гипотетическая вероятность попадания в интервал\n",
    "\n",
    "Если $\\chi^2 \\le x_\\alpha$, то гипотезу принимаем\n",
    "\n",
    "Если $\\chi^2 \\gt x_\\alpha$, то гипотезу отвергаем\n",
    "\n",
    "$x_\\alpha : K_{r-1}(x_\\alpha) = 1 - \\alpha$, где $K_{r-1}$ - функция распределения $\\chi^2$\n",
    "\n",
    "$x_\\alpha : K_{r-d-1}(x_\\alpha) = 1 - \\alpha$ в случае проверки сложной гипотезы.\n",
    "\n",
    "$H_0 : \\theta = \\theta_0;\\  H_A : \\theta = \\theta_1$\n",
    "\n",
    "$LR\\left(\\overrightarrow{X}, \\theta_1, \\theta_0\\right) = \\frac{L\\left(\\overrightarrow{X}, \\theta_1\\right)}{L\\left(\\overrightarrow{X}, \\theta_0\\right)}=\\frac{p_{\\theta_1}(x)}{p_{\\theta_0}(x)}$"
   ]
  },
  {
   "cell_type": "markdown",
   "id": "b20b14a7-e63f-4581-8e3a-3c75948274fa",
   "metadata": {},
   "source": [
    "Лемма Неймана - Пирсона:\n",
    "\n",
    "Существует наиболее мощный критерий уровня значимости $\\alpha$ вида:\n",
    "\n",
    "$\\varphi = \\begin{equation}\n",
    "\\left\\{ \n",
    "\\begin{array}{lll} \n",
    "1,LR(x)\\gt c\\\\\n",
    "p,LR(x)= c\\\\\n",
    "0,LR(x)\\lt  c\n",
    "\\end{array}\\right.\n",
    "\\end{equation}$\n",
    "\n",
    ",где константа с и вероятность $p$ определяются из уровнения $\\mathbb{E}_{\\theta_0}\\varphi(X) = P_{\\theta_0}(LR(X) > c) + p*P_{\\theta_0}(LR(X) = c) = \\alpha$\n"
   ]
  },
  {
   "cell_type": "markdown",
   "id": "b4576098-5466-443a-bd0d-6aaf640972e4",
   "metadata": {},
   "source": [
    "Критерий Колмогорова:\n",
    "\n",
    "$D_{n}(\\overrightarrow{X}) = \\overset{}{\\underset{X \\in \\mathbb R}{sup}} |F_0(X) - F_n(X)|$, где $F_n(X)$-выборочная функция распределения\n",
    "\n",
    "Если $\\widehat{D_{n}} \\le x_\\alpha$, то гипотезу принимаем\n",
    "\n",
    "Если $\\widehat{D_{n}} \\gt x_\\alpha$, то гипотезу отвергаем\n",
    "\n"
   ]
  },
  {
   "cell_type": "markdown",
   "id": "a84502b6-1792-40d8-aa81-9eba3d23c122",
   "metadata": {},
   "source": [
    "## Постановка задачи\n",
    "Для полученных в результате эксперимента наборов данных выполнить статистическую обработку. Полученные результаты содержательно проинтерпретировать."
   ]
  },
  {
   "cell_type": "markdown",
   "id": "cc79427e-9675-4ab5-b0b1-d89e568080bb",
   "metadata": {},
   "source": [
    "## Выполнение работы"
   ]
  },
  {
   "cell_type": "markdown",
   "id": "9241a516-c92e-4ab2-810d-ba5b0b3210ad",
   "metadata": {},
   "source": [
    "### Пункт 1\n",
    "В результате эксперимента получены данные, приведенные в Таблице 1"
   ]
  },
  {
   "cell_type": "markdown",
   "id": "4d93c7c9-6b5f-449d-9b47-4ff9a16f69e4",
   "metadata": {},
   "source": [
    "Таблица 1:\n",
    "$\\alpha_1=0.05; a=3.21; b=7.24; \\lambda_0=8.00; \\lambda_1=5.00.$ <br>\n",
    "6 6 4 6 6 2 5 5 4 9 5 7 4 4 5 6 4 7 3 4 4 3 6 4 4 7 4 6 9 3 5 7 6 3 2 7 5 2 5 3 7 2 7 1 7 3 8\r\n",
    "7 5 5\r\n"
   ]
  },
  {
   "cell_type": "markdown",
   "id": "6fd47052-5e86-4d92-a12a-7ae209b18df0",
   "metadata": {},
   "source": [
    "### a) Построить вариационный ряд, эмпирическую функцию распределения и гистограмму частот. "
   ]
  },
  {
   "cell_type": "code",
   "execution_count": 42,
   "id": "38190725-2348-4ce4-84b1-5230573ad469",
   "metadata": {},
   "outputs": [
    {
     "name": "stdout",
     "output_type": "stream",
     "text": [
      "Вариационный ряд: 1 2 2 2 2 3 3 3 3 3 3 4 4 4 4 4 4 4 4 4 4 5 5 5 5 5 5 5 5 5 6 6 6 6 6 6 6 6 7 7 7 7 7 7 7 7 7 8 9 9\n"
     ]
    }
   ],
   "source": [
    "import numpy as np\n",
    "import matplotlib.pyplot as plt\n",
    "from statsmodels.distributions.empirical_distribution import ECDF\n",
    "from scipy.stats import skew, kurtosis,poisson,chi2,norm,kstwobign\n",
    "\n",
    "selection=[6,6,4,6,6,2,5,5,4,9,5,7,4,4,5,6,4,7,3,4,4,3,6,4,4,7,4,6,9,3,5,7,6,3,2,7,5,2,5,3,7,2,7,1,7,3,8,7,5,5]\n",
    "variational_series = sorted(selection)\n",
    "print(\"Вариационный ряд:\",*variational_series)"
   ]
  },
  {
   "cell_type": "code",
   "execution_count": 43,
   "id": "5b128270-7eb3-428b-ac2d-2c15743765a0",
   "metadata": {},
   "outputs": [
    {
     "data": {
      "image/png": "[encoded data removed]",
      "text/plain": [
       "<Figure size 640x480 with 1 Axes>"
      ]
     },
     "metadata": {},
     "output_type": "display_data"
    }
   ],
   "source": [
    "ecdf = ECDF(variational_series)\n",
    "plt.step(ecdf.x,ecdf.y);\n",
    "plt.xlabel('Значение');\n",
    "plt.ylabel('Частота');"
   ]
  },
  {
   "cell_type": "code",
   "execution_count": 44,
   "id": "f34a7d6c-679b-488f-a552-68dd407084a0",
   "metadata": {},
   "outputs": [
    {
     "data": {
      "image/png": "[encoded data removed]",
      "text/plain": [
       "<Figure size 640x480 with 1 Axes>"
      ]
     },
     "metadata": {},
     "output_type": "display_data"
    }
   ],
   "source": [
    "plt.hist(variational_series,bins='auto',edgecolor='black',density='True')\n",
    "plt.title('Гистограмма частот')\n",
    "plt.xlabel('Значение')\n",
    "plt.ylabel('Частота')\n",
    "plt.show()"
   ]
  },
  {
   "cell_type": "markdown",
   "id": "d2870a72-b23e-4a8f-843b-2822b636d3e9",
   "metadata": {},
   "source": [
    "### b) Вычислить выборочные аналоги следующих характеристик:\n",
    "(i) матемматического ожидания; (ii) дисперсии; (iii) СКО; (iv) медианы; (v) асимметрии; (vi) эксцесса; (vii) вероятности $\\mathbb{P}(X \\in [3.21,7.24])$"
   ]
  },
  {
   "cell_type": "code",
   "execution_count": 45,
   "id": "e88c35f8-70a6-468c-8bce-755edffd5db8",
   "metadata": {},
   "outputs": [
    {
     "name": "stdout",
     "output_type": "stream",
     "text": [
      "Матожидание:  4.98\n",
      "Дисперсия:  3.419599999999999\n",
      "СКО:  1.8492160501142096\n",
      "Медиана:  5.0\n",
      "Асимметрия:  0.04826127579142371\n",
      "Эксцесс:  -0.551134774508522\n",
      "Вероятность:  0.72\n"
     ]
    }
   ],
   "source": [
    "mean=np.mean(variational_series)\n",
    "variance=np.var(variational_series)\n",
    "std_dev=np.std(variational_series)\n",
    "median=np.median(variational_series)\n",
    "skewn=skew(variational_series)\n",
    "kurt=kurtosis(variational_series)\n",
    "a=3.21\n",
    "b=7.24\n",
    "prob=sum(1 for i in variational_series if (i>=a)&(i<=b))/len(variational_series)\n",
    "\n",
    "\n",
    "print(\"Матожидание: \",mean)\n",
    "print(\"Дисперсия: \",variance)\n",
    "print(\"СКО: \",std_dev)\n",
    "print(\"Медиана: \",median)\n",
    "print(\"Асимметрия: \",skewn)\n",
    "print(\"Эксцесс: \",kurt)\n",
    "print(\"Вероятность: \",prob)"
   ]
  },
  {
   "cell_type": "markdown",
   "id": "a1925ccc-7164-48b5-83a7-5f8e35124d88",
   "metadata": {},
   "source": [
    "### c) В предположении, что исходные наблюдения являются выборкой из распределения Пуассона, построить оценку максимального правдоподобия параметра $\\lambda$, а также оценку $\\lambda$ по методу моментов. Найти смещение оценок."
   ]
  },
  {
   "attachments": {},
   "cell_type": "markdown",
   "id": "4c8e91a2-b503-4262-a751-7794fa1fcdf7",
   "metadata": {},
   "source": [
    "Функция вероятности распределения Пуассона имеет вид:  $\\mathbb{P_\\lambda}(\\xi=x)=\\frac{\\lambda^x}{x!}\\exp(-\\lambda)$\n",
    "\n",
    "#### Построим оценку максимального правдоподобия параметра $\\lambda$:\n",
    "\n",
    "Функция правдоподобия: $L(\\overrightarrow{X},\\theta)=\\prod_{i=1}^{n}\\frac{\\lambda^{x_i}}{x_i!}\\exp(-\\lambda)=\\frac{\\lambda^{\\sum_{i=1}^{n}x_i}}{\\prod_{i=1}^{n}x_i!}\\exp(-n\\lambda)$\n",
    "\n",
    "Логарифмическая функция правдоподобия: $LL(\\overrightarrow{X},\\theta)=\\ln{L(\\overrightarrow{X},\\theta)}=\\frac{\\sum_{i=1}^{n}x_i \\ln{\\lambda}}{\\sum_{i=1}^{n}\\ln{x_i!}}\\ln{\\exp(-n\\lambda)}=\\sum_{i=1}^{n}x_i \\ln{\\lambda}-\\sum_{i=1}^{n}\\ln{x_i!}-n\\lambda$\n",
    "\n",
    "Продифференциируем $LL(\\overrightarrow{X},\\theta)$ : $\\frac{\\partial LL(\\overline{x},\\theta)}{\\partial \\lambda}=\\frac{\\sum_{i=1}^{n}x_i}{\\lambda}-n$\n",
    "\n",
    "Для нахождения максимума найдем решение уравнения $\\frac{\\partial LL(\\overrightarrow{X},\\theta)}{\\partial \\lambda}=0$:\n",
    "\n",
    "$\\frac{\\sum_{i=1}^{n}x_i}{\\widehat{\\lambda}}-n= 0 \\Rightarrow \\widehat{\\lambda}=\\frac{\\sum_{i=1}^{n}x_i}{n}=\\overline{x} $\n",
    "\n",
    "Найдем смешение оценки максимального правдоподобия: \n",
    "\n",
    "$E_\\lambda(\\widehat{\\lambda})=E_\\lambda(\\overline{x})=E_\\lambda\\left(\\frac{\\sum_{i=1}^{n}x_i}{n}\\right)=\\frac{\\sum_{i=1}^{n}Ex_i}{n}=\\frac{\\sum_{i=1}^{n}Ex_1}{n}=\\frac{nEx_1}{n}=Ex_1=\\lambda$\n",
    "\n",
    "Смещение $b_g(\\lambda)=E_\\lambda(\\widehat{\\lambda})-\\lambda=\\lambda-\\lambda=0$, значит оценка несмещенная\n",
    "\n",
    "В полученной выборке $\\widehat{\\lambda}=\\overline{x}=4.98$\n",
    "\n",
    "#### Построим оценку $\\lambda$ по методу моментов: \n",
    "\n",
    "Составим и решим уравнение: $Ex_1=\\frac{\\sum_{i=1}^{n}x_i}{n}$\n",
    "\n",
    "$\\lambda=\\overline{x}$\n",
    "\n",
    "Значит $\\widehat{\\lambda}=\\overline{x}$\n",
    "\n",
    "Найдем смешение оценки по методу моментов: \n",
    "\n",
    "$E_\\lambda(\\widehat{\\lambda})=E_\\lambda(\\overline{x})=E_\\lambda\\left(\\frac{\\sum_{i=1}^{n}x_i}{n}\\right)=\\frac{\\sum_{i=1}^{n}Ex_i}{n}=\\frac{\\sum_{i=1}^{n}Ex_1}{n}=\\frac{nEx_1}{n}=Ex_1=\\lambda$\n",
    "\n",
    "Смещение $b_g(\\lambda)=E_\\lambda(\\widehat{\\lambda})-\\lambda=\\lambda-\\lambda=0$, значит оценка несмещенная\n",
    "\n",
    "В полученной выборке $\\widehat{\\lambda}=\\overline{x}=4.98$"
   ]
  },
  {
   "cell_type": "markdown",
   "id": "d941d035-e7ad-4cc2-a2dd-c00c173269af",
   "metadata": {},
   "source": [
    "### d) Построить асимптотический доверительный интервал уровня значимости $\\alpha_1=0.05$ для параметра $\\lambda$ на базе оценки максимального правдоподобия."
   ]
  },
  {
   "attachments": {},
   "cell_type": "markdown",
   "id": "9a5b3525-70a5-4aa6-8b66-5071888295b5",
   "metadata": {},
   "source": [
    "Оценка максимального правдоподобия: $\\widehat{\\lambda}=\\frac{\\sum_{i=1}^{n}x_i}{n}=\\overline{x} $\n",
    "\n",
    "Выбираем $x_{\\alpha_1}:\\Phi(x_{\\alpha_1})=1-\\frac{\\alpha_1}{2}=1-\\frac{0.05}{2}=0.975$\n",
    "\n",
    "$x_{\\alpha_1}\\approx 1.96$\n",
    "\n",
    "Найдем информацию Фишера: $\\mathbb{I}(\\lambda)=-E_\\lambda\\left( \\frac{\\partial^2 LL(\\overrightarrow{X},\\theta) }{\\partial \\lambda^2} \\right)=-E\\left(-\\frac{\\sum_{i=1}^{n}x_i}{\\lambda^2} \\right)=E\\left(\\frac{\\sum_{i=1}^{n}x_i}{\\lambda^2} \\right)=\\frac{\\sum_{i=1}^{n}Ex_i}{\\lambda^2}=\\frac{\\sum_{i=1}^{n}Ex_1}{\\lambda^2}=\\frac{nEx_1}{\\lambda^2}=\\frac{n\\lambda}{\\lambda^2}=\\frac{n}{\\lambda}$\n",
    "\n",
    "$I(\\lambda)=\\frac{\\mathbb{I}(\\lambda)}{n}=\\frac{\\frac{n}{\\lambda}}{n}=\\frac{1}{\\lambda}$\n",
    "\n",
    "Тогда $\\sqrt{\\frac{n}{\\overline{x}}}(\\overline{x}-\\lambda)\\sim \\mathcal{N}(0,1)$\n",
    "\n",
    "Получаем асимптотический доверителльный интервал для параметра $\\lambda$ :\n",
    "\n",
    "$\\left[ \\overline{x}- x_{\\alpha_1}\\sqrt{\\frac{\\overline{x}}{n}};\\overline{x}+x_{\\alpha_1}\\sqrt{\\frac{\\overline{x}}{n}}\\right] \\ni \\lambda$\n",
    "\n",
    "$\\left[ 4.98- 1.96\\sqrt{\\frac{4.98}{50}};4.98+ 1.96\\sqrt{\\frac{4.98}{50}}\\right] \\ni \\lambda$\n",
    "\n",
    "$\\left[ 4.361;5.599\\right] \\ni \\lambda$"
   ]
  },
  {
   "cell_type": "markdown",
   "id": "86447f17-6bed-4b87-972d-52b5c626a389",
   "metadata": {},
   "source": [
    "### e) Используя гистограмму частот, построить критерий значимости $\\chi^2$ проверки простой гипотезы согласия с распределением Пуассона с параметром $\\lambda_0$. Проверить гипотезу на уровне значимости $\\alpha_1$. Вычислить наибольшее значение уровня значимости, на котором еще нет оснований отвергнуть данную гипотезу. "
   ]
  },
  {
   "cell_type": "code",
   "execution_count": 46,
   "id": "e8e28d92-d62e-426c-8a85-22271d31bbb8",
   "metadata": {},
   "outputs": [
    {
     "data": {
      "image/png": "[encoded data removed]",
      "text/plain": [
       "<Figure size 640x480 with 1 Axes>"
      ]
     },
     "metadata": {},
     "output_type": "display_data"
    }
   ],
   "source": [
    "plt.hist(variational_series,bins='auto',edgecolor='black',density='True')\n",
    "plt.title('Гистограмма частот')\n",
    "plt.xlabel('Значение')\n",
    "plt.ylabel('Частота')\n",
    "plt.show()"
   ]
  },
  {
   "attachments": {},
   "cell_type": "markdown",
   "id": "8e730d9c-5b1d-4de7-9c6b-74fbe67ee27b",
   "metadata": {},
   "source": [
    "Основная гипотеза $H_0 : p_1=p_{10},...,p_6=p_{60}$, где $p_{i0}$-вероятность попадания СВ, имеющей распределение Пуассона с параметром $\\lambda_0=8.00$, в i-ый интервал  \n",
    "\n",
    "Альтернативная гипотеза $H_A : p_1\\neq p_{10},...p_6\\neq p_{60}$\n",
    "\n",
    "Выделим новые интервалы,чтобы в каждый попадало не менее 5 значений:\n",
    "\n",
    "$I_1=[0;2];\\space I_2=(2;3];\\space I_3=(3;4];\\space I_4=(4;5];\\space I_5=(5;6];\\space I_6=(6;\\infty)$\n",
    "\n",
    "Абсолютные частоты:\n",
    "$\\nu_1=5;\\space \\nu_2=6;\\space \\nu_3=10;\\space \\nu_4=9;\\space \\nu_5=8;\\space \\nu_6=12$\n"
   ]
  },
  {
   "cell_type": "code",
   "execution_count": 47,
   "id": "9ac19bf1-3658-4ab4-98f1-6cfb7f67136c",
   "metadata": {},
   "outputs": [
    {
     "name": "stdout",
     "output_type": "stream",
     "text": [
      "Ожидаемые частоты:  0.6876983872001485 1.4313072123840498 2.8626144247681 4.58018307962896 6.106910772838602 34.331286123180114\n",
      "Статистика критерия хи-квадрат : 78.79731848234516\n",
      "X_alpha : 11.070497693516351\n"
     ]
    }
   ],
   "source": [
    "lambda_0=8.0;\n",
    "alpha=0.05;\n",
    "observed=np.array([5,6,10,9,8,12])\n",
    "borders=np.array([3,4,5,6])\n",
    "expected=np.array([0.0,0.0,0.0,0.0,0.0,0.0])\n",
    "for i in range(len(borders)):\n",
    "    expected[i+1]= 50*(poisson.pmf(borders[i], lambda_0))\n",
    "expected[len(expected)-1]=50*(1-poisson.cdf(borders[len(borders)-1], lambda_0))\n",
    "expected[0]= 50*(poisson.cdf(2,lambda_0))\n",
    "# Вычисление статистики критерия хи-квадрат\n",
    "chi_squared_stat = np.sum((observed - expected)**2 / expected)\n",
    "\n",
    "# Критическое значение для выбранного уровня значимости\n",
    "critical_value = chi2.ppf(1 - alpha, 6-1)\n",
    "\n",
    "print('Ожидаемые частоты: ',*expected)\n",
    "print(\"Статистика критерия хи-квадрат :\", chi_squared_stat)\n",
    "print(\"X_alpha :\", critical_value)"
   ]
  },
  {
   "attachments": {},
   "cell_type": "markdown",
   "id": "7af261b1-f990-47fb-b5b5-effbcefc9fbb",
   "metadata": {},
   "source": [
    "Ожидаемые частоты $np_{0i}$: $\\space np_{01}=0.688;\\space np_{02}=1.431;\\space np_{03}=2.863;\\space np_{04}=4.580;\\space np_{05}=6.107;\\space np_{06}=34.331$\n",
    "\n",
    "$\\chi^2 \\approx 78.8$\n",
    "\n",
    "$x_{\\alpha} \\approx 11.07$\n",
    "\n",
    "$\\chi^2 > x_{\\alpha}$ значит гипотеза отвергается"
   ]
  },
  {
   "cell_type": "code",
   "execution_count": 48,
   "id": "ed6a4af3-220e-463b-b6f6-13600e74d10c",
   "metadata": {},
   "outputs": [
    {
     "name": "stdout",
     "output_type": "stream",
     "text": [
      "Наибольшее значение уровня значимости, на котором еще нет оснований отвергнуть данную гипотезу: 1.4975899325131398e-15\n"
     ]
    }
   ],
   "source": [
    "print(\"Наибольшее значение уровня значимости, на котором еще нет оснований отвергнуть данную гипотезу:\",chi2.sf(chi_squared_stat, 6-1))"
   ]
  },
  {
   "cell_type": "markdown",
   "id": "8f2b8d65-de1e-4d1c-9089-d57daf7c5b0e",
   "metadata": {},
   "source": [
    "### f) Построить критерий значимости $\\chi^2$ проверки сложной гипотезы согласия с распределением Пуассона. Проверить гипотезу на уровне значимости $\\alpha_1$. Вычислить наибольшее значение уровня значимости, на котором еще нет оснований отвергнуть данную гипотезу. "
   ]
  },
  {
   "cell_type": "markdown",
   "id": "d8e9b7fa-d14c-456f-a2d8-e1c7eab4e98b",
   "metadata": {},
   "source": [
    "Основная гипотеза $H_0 : p_1=p_{10},...,p_6=p_{60}$, где $p_{i0}$-вероятность попадания СВ, имеющей распределение Пуассона с неизвестным параметром $\\lambda$, в i-ый интервал  \n",
    "\n",
    "Альтернативная гипотеза $H_A : p_1\\neq p_{10},...p_6\\neq p_{60}$\n",
    "\n",
    "Возьмем ОМП в качестве оценки параметра $\\lambda$: $\\widehat{\\lambda}=\\overline{x}=4.98$\n",
    "\n",
    "Выделим новые интервалы,чтобы в каждый попадало не менее 5 значений:\n",
    "\n",
    "$I_1=[0;2];\\space I_2=(2;3];\\space I_3=(3;4];\\space I_4=(4;5];\\space I_5=(5;6];\\space I_6=(6;\\infty)$\n",
    "\n",
    "Абсолютные частоты:\n",
    "$\\nu_1=5;\\space \\nu_2=6;\\space \\nu_3=10;\\space \\nu_4=9;\\space \\nu_5=8;\\space \\nu_6=12$\n"
   ]
  },
  {
   "cell_type": "code",
   "execution_count": 49,
   "id": "209ecb01-e0b6-4fa3-822e-89decf1c9eb7",
   "metadata": {},
   "outputs": [
    {
     "name": "stdout",
     "output_type": "stream",
     "text": [
      "Ожидаемые частоты:  6.317332230964627 7.074899293613594 8.808249620548926 8.773016622066736 7.281603796315384 11.744898436490725\n",
      "Статистика критерия хи-квадрат : 0.6815427578840066\n",
      "X_alpha : 9.487729036781154\n"
     ]
    }
   ],
   "source": [
    "lambda_est=4.98;\n",
    "alpha=0.05;\n",
    "observed=np.array([5,6,10,9,8,12])\n",
    "borders=np.array([3,4,5,6])\n",
    "expected=np.array([0.0,0.0,0.0,0.0,0.0,0.0])\n",
    "for i in range(len(borders)):\n",
    "    expected[i+1]= 50*(poisson.pmf(borders[i], lambda_est))\n",
    "expected[len(expected)-1]=50*(1-poisson.cdf(borders[len(borders)-1], lambda_est))\n",
    "expected[0]= 50*(poisson.cdf(2,lambda_est))\n",
    "# Вычисление статистики критерия хи-квадрат\n",
    "chi_squared_stat = np.sum((observed - expected)**2 / expected)\n",
    "\n",
    "# Значение X_alpha для выбранного уровня значимости\n",
    "critical_value = chi2.ppf(1 - alpha, 6-1-1)\n",
    "\n",
    "print('Ожидаемые частоты: ',*expected)\n",
    "print(\"Статистика критерия хи-квадрат :\", chi_squared_stat)\n",
    "print(\"X_alpha :\", critical_value)"
   ]
  },
  {
   "attachments": {},
   "cell_type": "markdown",
   "id": "dc087224-23fb-4e92-9b36-81dd7791cbfc",
   "metadata": {},
   "source": [
    "Ожидаемые частоты $np_{0i}$: $\\space np_{01}=6.317;\\space np_{02}=7.075;\\space np_{03}=8.808;\\space np_{04}=8.773;\\space np_{05}=7.282;\\space np_{06}=11.745$\n",
    "\n",
    "$\\chi^2 \\approx 0.682$\n",
    "\n",
    "$x_{\\alpha} \\approx 9.49$\n",
    "\n",
    "$\\chi^2 \\le x_{\\alpha}$ значит гипотеза принимается"
   ]
  },
  {
   "cell_type": "code",
   "execution_count": 50,
   "id": "469e1a4f-fa09-497c-9e26-00be372b97b1",
   "metadata": {},
   "outputs": [
    {
     "name": "stdout",
     "output_type": "stream",
     "text": [
      "Наибольшее значение уровня значимости, на котором еще нет оснований отвергнуть данную гипотезу: 0.9535854176530715\n"
     ]
    }
   ],
   "source": [
    "print(\"Наибольшее значение уровня значимости, на котором еще нет оснований отвергнуть данную гипотезу:\",chi2.sf(chi_squared_stat, 6-1-1))"
   ]
  },
  {
   "cell_type": "markdown",
   "id": "ade785b0-0790-4c1d-a17a-2ea38a6843da",
   "metadata": {},
   "source": [
    "### g) Построить наиболее мощный критерий проверки простой гипотезы пуассоновости с параметром $\\lambda=\\lambda_0$ при альтернативе пуассоновости с параметром $\\lambda=\\lambda_1$. Проверить гипотезу на уровне значимости $\\alpha_1$. Что получится, если поменять местами основную и альтернативную гипотезы? "
   ]
  },
  {
   "attachments": {},
   "cell_type": "markdown",
   "id": "f40c125a-fd12-43b4-9a1b-73adb801621f",
   "metadata": {},
   "source": [
    "Основная гипотеза: $H_{0}:\\lambda=\\lambda_0$\n",
    "\n",
    "Альтернативная гипотеза: $H_{A}:\\lambda=\\lambda_1$\n",
    "\n",
    "Функция правдоподобия имеет вид: $L(X,\\theta)=\\frac{\\lambda^{\\sum_{i=1}^{50}x_i}}{\\prod_{i=1}^{50}x_i!}\\exp(-n\\lambda)$\n",
    "\n",
    "Тогда статистика отношения правдоподобия равна:$LR(X) = \\frac{L\\left( X,\\lambda_1 \\right)}{L\\left( X,\\lambda_0 \\right)}= \\frac{\\lambda_1^{\\sum_{i=1}^{50}x_{i}}\\cdot \\exp(-n\\cdot \\lambda_1)}{\\lambda_0^{\\sum_{i=1}^{50}x_{i}}\\cdot \\exp(-n\\cdot \\lambda_0)}=\\frac{\\lambda_1^{\\sum_{i=1}^{50}x_{i}}}{\\lambda_0^{\\sum_{i=1}^{50}x_{i}}}\\cdot \\exp(-n( \\lambda_1-\\lambda_0)) $\n",
    "\n",
    "В силу монотонности статистики $LR(X)$ относительно МДС $\\bar{X}$\n",
    "\n",
    "$LR(X)\\lt c\\Leftrightarrow \\overline{X}\\gt c^*$\n",
    "\n",
    "$LR(X)\\gt c\\Leftrightarrow \\overline{X}\\lt c^*$\n",
    "\n",
    "\n",
    "\n",
    "\n",
    "Решим уравнение: $P_{\\lambda_0}\\left(LR(\\overrightarrow{X}) > c\\right) + pP_{\\lambda_0}\\left(LR(\\overrightarrow{X}) = c\\right) = \\alpha_1$\n",
    "\n",
    "$P_{\\lambda_0}\\left(n\\bar{X} > nc^*\\right) + pP_{\\lambda_0}\\left(n\\bar{X} = nc^*\\right) = \\alpha_1$\n",
    "\n",
    "В области $LR(X) \\neq c$ наиболее мощный критерий определен однозначно\n",
    "\n",
    "$P_{\\lambda_0}\\left(n\\bar{X} > nc^*\\right) = 1 - F_{Pois(n\\lambda_0)}\\left(nc^*\\right) = \\alpha_1$\n",
    "\n",
    "$F_{Pois(n\\lambda_0)}\\left(nc^*\\right) = 1 - \\alpha_1 = 0.995$\n",
    "\n",
    "$c^* = 9.04$\n",
    "\n",
    "$\\bar{X} = 4.98$\n",
    "\n",
    "$c^* > \\bar{X}$ значит гипотеза принимается\n",
    "\n",
    "Поменяем гипотезы \n",
    "\n",
    "Основная гипотеза: $H_{0}:\\lambda=\\lambda_0$\n",
    "\n",
    "Альтернативная гипотеза: $H_{A}:\\lambda=\\lambda_1$\n",
    "\n",
    "Функция правдоподобия имеет вид: $L(X,\\theta)=\\frac{\\lambda^{\\sum_{i=1}^{50}x_i}}{\\prod_{i=1}^{50}x_i!}\\exp(-n\\lambda)$\n",
    "\n",
    "Тогда статистика отношения правдоподобия равна:$LR(X) = \\frac{L\\left( X,\\lambda_0 \\right)}{L\\left( X,\\lambda_1 \\right)}= \\frac{\\lambda_0^{\\sum_{i=1}^{50}x_{i}}\\cdot \\exp(-n\\cdot \\lambda_0)}{\\lambda_1^{\\sum_{i=1}^{50}x_{i}}\\cdot \\exp(-n\\cdot \\lambda_1)}=\\frac{\\lambda_0^{\\sum_{i=1}^{50}x_{i}}}{\\lambda_1^{\\sum_{i=1}^{50}x_{i}}}\\cdot \\exp(-n( \\lambda_0-\\lambda_1)) $\n",
    "\n",
    "В силу монотонности статистики $LR(X)$ относительно МДС $\\bar{X}$\n",
    "\n",
    "$LR(X)\\lt c\\Leftrightarrow \\overline{X}\\gt c^*$\n",
    "\n",
    "$LR(X)\\gt c\\Leftrightarrow \\overline{X}\\lt c^*$\n",
    "\n",
    "Решим уравнение: $P_{\\lambda_1}\\left(LR(\\overrightarrow{X}) > c\\right) + pP_{\\lambda_1}\\left(LR(\\overrightarrow{X}) = c\\right) = \\alpha_1$\n",
    "\n",
    "$P_{\\lambda_1}\\left(n\\bar{X} > nc^*\\right) + pP_{\\lambda_1}\\left(n\\bar{X} = nc^*\\right) = \\alpha_1$\n",
    "\n",
    "В области $LR(X) \\neq c$ наиболее мощный критерий определен однозначно\n",
    "\n",
    "$P_{\\lambda_1}\\left(n\\bar{X} > nc^*\\right) = 1 - F_{Pois(n\\lambda_1)}\\left(nc^*\\right) = \\alpha_1$\n",
    "\n",
    "$F_{Pois(n\\lambda_1)}\\left(nc^*\\right) = 1 - \\alpha_1 = 0.98$\n",
    "\n",
    "$c^* = 5.84$\n",
    "\n",
    "$\\bar{X} = 4.98$\n",
    "\n",
    "$c^* > \\bar{X}$ значит гипотеза принимается"
   ]
  },
  {
   "cell_type": "markdown",
   "id": "013e603f-36ff-430c-b866-1b582de986a4",
   "metadata": {},
   "source": [
    "### h) В пунктах (c)-(f) заменить семейство распределений Пуассона на семейство геометрических распределений: $\\mathbb{P}_\\lambda(X=k)=\\frac{\\lambda^k}{(\\lambda+1)^{k+1}},k\\in \\mathbb{Z_+}$"
   ]
  },
  {
   "cell_type": "markdown",
   "id": "86db2b59-b4d2-4ca1-9baa-6633a2e6c375",
   "metadata": {},
   "source": [
    "### ch) В предположении, что исходные наблюдения являются выборкой из заданного геометрического распределения , построить оценку максимального правдоподобия параметра $\\lambda$, а также оценку $\\lambda$ по методу моментов. Найти смещение оценок."
   ]
  },
  {
   "attachments": {},
   "cell_type": "markdown",
   "id": "4a554a6e-0b39-4bd9-bde2-294084a7662a",
   "metadata": {},
   "source": [
    "Функция вероятности распределения Пуассона имеет вид:  $\\mathbb{P_\\lambda}(\\xi=x)=\\frac{\\lambda^x}{(\\lambda+1)^{x+1}}$\n",
    "\n",
    "#### Построим оценку максимального правдоподобия параметра $\\lambda$:\n",
    "\n",
    "Функция правдоподобия: $L(\\overrightarrow{X},\\theta)=\\prod_{i=1}^{n}\\frac{\\lambda^x}{(\\lambda+1)^{x+1}}=\\frac{\\lambda^{\\sum_{i=1}^{n}x_i}}{(\\lambda+1)^{\\sum_{i=1}^{n}x_i+n}}=\\frac{\\lambda^{\\sum_{i=1}^{n}x_i}}{(\\lambda+1)^{\\sum_{i=1}^{n}x_i}(\\lambda+1)^{n}}$\n",
    "\n",
    "Логарифмическая функция правдоподобия: $LL(\\overrightarrow{X},\\theta)=\\ln{L(\\overrightarrow{X},\\theta)}=\\frac{\\sum_{i=1}^{n}x_i \\ln{\\lambda}}{\\sum_{i=1}^{n}x_i\\ln{(\\lambda+1)}\\cdot n\\cdot ln{(\\lambda+1)}}=\\sum_{i=1}^{n}x_i \\ln{\\lambda}-\\sum_{i=1}^{n}x_i\\ln{(\\lambda+1)}-n\\cdot ln{(\\lambda+1)}$\n",
    "\n",
    "Продифференциируем $LL(\\overrightarrow{X},\\theta)$ : $\\frac{\\partial LL(\\overline{x},\\theta)}{\\partial \\lambda}=\\frac{\\sum_{i=1}^{n}x_i}{\\lambda}-\\frac{\\sum_{i=1}^{n}x_i}{\\lambda+1}-\\frac{n}{\\lambda+1}$\n",
    "\n",
    "Для нахождения максимума найдем решение уравнения $\\frac{\\partial LL(\\overrightarrow{X},\\theta)}{\\partial \\lambda}=0$:\n",
    "\n",
    "$\\frac{\\sum_{i=1}^{n}x_i}{\\lambda}-\\frac{\\sum_{i=1}^{n}x_i}{\\lambda+1}-\\frac{n}{\\lambda+1}= 0 \\Rightarrow \\widehat{\\lambda}=\\frac{\\sum_{i=1}^{n}x_i}{n}=\\overline{x} $\n",
    "\n",
    "Найдем смешение оценки максимального правдоподобия: \n",
    "\n",
    "$E_\\lambda(\\widehat{\\lambda})=E_\\lambda(\\overline{x})=E_\\lambda\\left(\\frac{\\sum_{i=1}^{n}x_i}{n}\\right)=\\frac{\\sum_{i=1}^{n}Ex_i}{n}=\\frac{\\sum_{i=1}^{n}Ex_1}{n}=\\frac{nEx_1}{n}=Ex_1=\\lambda$\n",
    "\n",
    "Смещение $b_g(\\lambda)=E_\\lambda(\\widehat{\\lambda})-\\lambda=\\lambda-\\lambda=0$, значит оценка несмещенная\n",
    "\n",
    "В полученной выборке $\\widehat{\\lambda}=\\overline{x}=4.98$\n",
    "\n",
    "#### Построим оценку $\\lambda$ по методу моментов: \n",
    "\n",
    "Составим и решим уравнение: $Ex_1=\\frac{\\sum_{i=1}^{n}x_i}{n}$\n",
    "\n",
    "$\\lambda=\\overline{x}$\n",
    "\n",
    "Значит $\\widehat{\\lambda}=\\overline{x}$\n",
    "\n",
    "Найдем смешение оценки по методу моментов: \n",
    "\n",
    "$E_\\lambda(\\widehat{\\lambda})=E_\\lambda(\\overline{x})=E_\\lambda\\left(\\frac{\\sum_{i=1}^{n}x_i}{n}\\right)=\\frac{\\sum_{i=1}^{n}Ex_i}{n}=\\frac{\\sum_{i=1}^{n}Ex_1}{n}=\\frac{nEx_1}{n}=Ex_1=\\lambda$\n",
    "\n",
    "Смещение $b_g(\\lambda)=E_\\lambda(\\widehat{\\lambda})-\\lambda=\\lambda-\\lambda=0$, значит оценка несмещенная\n",
    "\n",
    "В полученной выборке $\\widehat{\\lambda}=\\overline{x}=4.98$"
   ]
  },
  {
   "cell_type": "markdown",
   "id": "f6e4c520-4901-4e43-8adc-91effd081b90",
   "metadata": {},
   "source": [
    "### dh) Построить асимптотический доверительный интервал уровня значимости $\\alpha_1=0.05$ для параметра $\\lambda$ на базе оценки максимального правдоподобия."
   ]
  },
  {
   "attachments": {},
   "cell_type": "markdown",
   "id": "07414113-c8ed-4871-87f2-4140762f1e43",
   "metadata": {},
   "source": [
    "Оценка максимального правдоподобия: $\\widehat{\\lambda}=\\frac{\\sum_{i=1}^{n}x_i}{n}=\\overline{x} $\n",
    "\n",
    "Выбираем $x_{\\alpha_1}:\\Phi(x_{\\alpha_1})=1-\\frac{\\alpha_1}{2}=1-\\frac{0.05}{2}=0.975$\n",
    "\n",
    "$x_{\\alpha_1}\\approx 1.96$\n",
    "\n",
    "Найдем информацию Фишера: $\\mathbb{I}(\\lambda)=-E_\\lambda\\left( \\frac{\\partial^2 LL(\\overrightarrow{X},\\theta) }{\\partial \\lambda^2} \\right)=-E\\left(-\\frac{\\sum_{i=1}^{n}x_i}{\\lambda^2}+\\frac{\\sum_{i=1}^{n}x_i}{(\\lambda+1)^2}+\\frac{n}{(\\lambda+1)^2} \\right)=E\\left(\\frac{\\sum_{i=1}^{n}x_i}{\\lambda^2}-\\frac{\\sum_{i=1}^{n}x_i}{(\\lambda+1)^2}-\\frac{n}{(\\lambda+1)^2} \\right)=\\frac{\\sum_{i=1}^{n}Ex_i}{\\lambda^2}-\\frac{\\sum_{i=1}^{n}Ex_i}{(\\lambda+1)^2}-\\frac{n}{(\\lambda+1)^2}=\\frac{n\\lambda}{\\lambda^2}-\\frac{n\\lambda}{(\\lambda+1)^2}-\\frac{n}{(\\lambda+1)^2}=\\frac{n}{\\lambda}-\\frac{n\\lambda}{(\\lambda+1)^2}-\\frac{n}{(\\lambda+1)^2}$\n",
    "\n",
    "$I(\\lambda)=\\frac{\\mathbb{I}(\\lambda)}{n}=\\frac{1}{\\lambda}-\\frac{\\lambda}{(\\lambda+1)^2}-\\frac{1}{(\\lambda+1)^2}=\\frac{1}{\\lambda(\\lambda+1)}$\n",
    "\n",
    "Тогда $\\sqrt{\\frac{n}{\\overline{x}(\\overline{x}+1)}}(\\overline{x}-\\lambda)\\sim \\mathcal{N}(0,1)$\n",
    "\n",
    "Получаем асимптотический доверителльный интервал для параметра $\\lambda$ :\n",
    "\n",
    "$\\left[ \\overline{x}- x_{\\alpha_1}\\sqrt{\\frac{\\overline{x}(\\overline{x}+1)}{n}};\\overline{x}+x_{\\alpha_1}\\sqrt{\\frac{\\overline{x}(\\overline{x}+1)}{n}}\\right] \\ni \\lambda$\n",
    "\n",
    "$\\left[ 4.98- 1.96\\sqrt{\\frac{4.98\\cdot 5.98}{50}};4.98+ 1.96\\sqrt{\\frac{4.98\\cdot 5.98}{50}}\\right] \\ni \\lambda$\n",
    "\n",
    "$\\left[ 3.467;6.492\\right] \\ni \\lambda$"
   ]
  },
  {
   "cell_type": "markdown",
   "id": "9ac514fc-b413-4cb4-ab7c-7a780a7574b8",
   "metadata": {},
   "source": [
    "### eh) Используя гистограмму частот, построить критерий значимости $\\chi^2$ проверки простой гипотезы согласия с заданным геометрическим распределением  с параметром $\\lambda_0$. Проверить гипотезу на уровне значимости $\\alpha_1$. Вычислить наибольшее значение уровня значимости, на котором еще нет оснований отвергнуть данную гипотезу. "
   ]
  },
  {
   "cell_type": "code",
   "execution_count": 51,
   "id": "c3e6809e-c9cd-4572-a0c6-a2609326880c",
   "metadata": {},
   "outputs": [
    {
     "data": {
      "image/png": "[encoded data removed]",
      "text/plain": [
       "<Figure size 640x480 with 1 Axes>"
      ]
     },
     "metadata": {},
     "output_type": "display_data"
    }
   ],
   "source": [
    "plt.hist(variational_series,bins='auto',edgecolor='black',density='True')\n",
    "plt.title('Гистограмма частот')\n",
    "plt.xlabel('Значение')\n",
    "plt.ylabel('Частота')\n",
    "plt.show()"
   ]
  },
  {
   "attachments": {},
   "cell_type": "markdown",
   "id": "677be644-f939-4bdb-8f2c-1a6274a3e03b",
   "metadata": {},
   "source": [
    "Основная гипотеза $H_0 : p_1=p_{10},...,p_6=p_{60}$, где $p_{i0}$-вероятность попадания СВ, имеющей заданное геометрическое распределение с параметром $\\lambda_0=8.00$, в i-ый интервал  \n",
    "\n",
    "Альтернативная гипотеза $H_A : p_1\\neq p_{10},...p_6\\neq p_{60}$\n",
    "\n",
    "Выделим новые интервалы,чтобы в каждый попадало не менее 5 значений:\n",
    "\n",
    "$I_1=[0;2];\\space I_2=(2;3];\\space I_3=(3;4];\\space I_4=(4;5];\\space I_5=(5;6];\\space I_6=(6;\\infty)$\n",
    "\n",
    "Абсолютные частоты:\n",
    "$\\nu_1=5;\\space \\nu_2=6;\\space \\nu_3=10;\\space \\nu_4=9;\\space \\nu_5=8;\\space \\nu_6=12$\n"
   ]
  },
  {
   "cell_type": "code",
   "execution_count": 52,
   "id": "062b1472-c802-436c-b3e9-e01963ec267a",
   "metadata": {},
   "outputs": [
    {
     "name": "stdout",
     "output_type": "stream",
     "text": [
      "Ожидаемые частоты:  14.883401920438958 3.9018442310623382 3.4683059831665224 3.082938651703576 2.7403899126254005 21.9231193010032\n",
      "Статистика критерия хи-квадрат : 45.9350318824311\n",
      "X_alpha : 11.070497693516351\n"
     ]
    }
   ],
   "source": [
    "def geom_distribution_probability(k, lambda_param):\n",
    "    probability = lambda_param**k / (lambda_param + 1)**(k + 1)\n",
    "    return probability\n",
    "lambda_0=8.0;\n",
    "alpha=0.05;\n",
    "observed=np.array([5,6,10,9,8,12])\n",
    "borders=np.array([3,4,5,6])\n",
    "expected=np.array([0.0,0.0,0.0,0.0,0.0,0.0])\n",
    "for i in range(len(borders)):\n",
    "    expected[i+1]= 50*(geom_distribution_probability(borders[i], lambda_0))\n",
    "expected[len(expected)-1]=50*(1-geom_distribution_probability(0, lambda_0)-geom_distribution_probability(1, lambda_0)-geom_distribution_probability(2, lambda_0)-geom_distribution_probability(3, lambda_0)-geom_distribution_probability(4, lambda_0)-geom_distribution_probability(5, lambda_0)-geom_distribution_probability(6, lambda_0))\n",
    "expected[0]= 50*(geom_distribution_probability(2,lambda_0)+geom_distribution_probability(1,lambda_0)+geom_distribution_probability(0,lambda_0))\n",
    "# Вычисление статистики критерия хи-квадрат\n",
    "chi_squared_stat = np.sum((observed - expected)**2 / expected)\n",
    "\n",
    "# Критическое значение для выбранного уровня значимости\n",
    "critical_value = chi2.ppf(1 - alpha, 6-1)\n",
    "\n",
    "print('Ожидаемые частоты: ',*expected)\n",
    "print(\"Статистика критерия хи-квадрат :\", chi_squared_stat)\n",
    "print(\"X_alpha :\", critical_value)"
   ]
  },
  {
   "attachments": {},
   "cell_type": "markdown",
   "id": "20fdff0c-2c7b-4dbb-8e27-e8cf5805beea",
   "metadata": {},
   "source": [
    "Ожидаемые частоты $np_{0i}$: $\\space np_{01}=14.883;\\space np_{02}=3.902;\\space np_{03}=3.468;\\space np_{04}=3.083;\\space np_{05}=2.740;\\space np_{06}=21.923$\n",
    "\n",
    "$\\chi^2 \\approx 45.935$\n",
    "\n",
    "$x_{\\alpha} \\approx 11.07$\n",
    "\n",
    "$\\chi^2 > x_{\\alpha}$ значит гипотеза отвергается"
   ]
  },
  {
   "cell_type": "code",
   "execution_count": 53,
   "id": "0f0e495a-3500-48b4-bb8c-3506643f8bbe",
   "metadata": {},
   "outputs": [
    {
     "name": "stdout",
     "output_type": "stream",
     "text": [
      "Наибольшее значение уровня значимости, на котором еще нет оснований отвергнуть данную гипотезу: 9.36294843946515e-09\n"
     ]
    }
   ],
   "source": [
    "print(\"Наибольшее значение уровня значимости, на котором еще нет оснований отвергнуть данную гипотезу:\",chi2.sf(chi_squared_stat, 6-1))"
   ]
  },
  {
   "cell_type": "markdown",
   "id": "4d6ae9d8-5e87-4a12-8082-e0cd76076f46",
   "metadata": {},
   "source": [
    "### fh) Построить критерий значимости $\\chi^2$ проверки сложной гипотезы согласия с распределением Пуассона. Проверить гипотезу на уровне значимости $\\alpha_1$. Вычислить наибольшее значение уровня значимости, на котором еще нет оснований отвергнуть данную гипотезу. "
   ]
  },
  {
   "cell_type": "markdown",
   "id": "6f2797d9-5b68-460f-9393-e2de58cdf6d0",
   "metadata": {},
   "source": [
    "Основная гипотеза $H_0 : p_1=p_{10},...,p_6=p_{60}$, где $p_{i0}$-вероятность попадания СВ, имеющей заданное геометрическое распределение с неизвестным параметром $\\lambda$, в i-ый интервал  \n",
    "\n",
    "Альтернативная гипотеза $H_A : p_1\\neq p_{10},...p_6\\neq p_{60}$\n",
    "\n",
    "Возьмем ОМП в качестве оценки параметра $\\lambda$: $\\widehat{\\lambda}=\\overline{x}=4.98$\n",
    "\n",
    "Выделим новые интервалы,чтобы в каждый попадало не менее 5 значений:\n",
    "\n",
    "$I_1=[0;2];\\space I_2=(2;3];\\space I_3=(3;4];\\space I_4=(4;5];\\space I_5=(5;6];\\space I_6=(6;\\infty)$\n",
    "\n",
    "Абсолютные частоты:\n",
    "$\\nu_1=5;\\space \\nu_2=6;\\space \\nu_3=10;\\space \\nu_4=9;\\space \\nu_5=8;\\space \\nu_6=12$\n"
   ]
  },
  {
   "cell_type": "code",
   "execution_count": 54,
   "id": "484c4857-9029-4f12-b8b5-57e7b98ca167",
   "metadata": {
    "scrolled": true
   },
   "outputs": [
    {
     "name": "stdout",
     "output_type": "stream",
     "text": [
      "Ожидаемые частоты:  21.122839901493773 4.828956538211743 4.021438722457272 3.3489573307420084 2.7889310212533784 13.888876485841827\n",
      "Статистика критерия хи-квадрат : 41.00780418760917\n",
      "X_alpha : 9.487729036781154\n"
     ]
    }
   ],
   "source": [
    "lambda_est=4.98;\n",
    "alpha=0.05;\n",
    "observed=np.array([5,6,10,9,8,12])\n",
    "borders=np.array([3,4,5,6])\n",
    "expected=np.array([0.0,0.0,0.0,0.0,0.0,0.0])\n",
    "for i in range(len(borders)):\n",
    "    expected[i+1]= 50*(geom_distribution_probability(borders[i], lambda_est))\n",
    "expected[len(expected)-1]=50*(1-geom_distribution_probability(0, lambda_est)-geom_distribution_probability(1, lambda_est)-geom_distribution_probability(2, lambda_est)-geom_distribution_probability(3, lambda_est)-geom_distribution_probability(4, lambda_est)-geom_distribution_probability(5, lambda_est)-geom_distribution_probability(6, lambda_est))\n",
    "expected[0]= 50*(geom_distribution_probability(2,lambda_est)+geom_distribution_probability(1,lambda_est)+geom_distribution_probability(0,lambda_est))\n",
    "# Вычисление статистики критерия хи-квадрат\n",
    "chi_squared_stat = np.sum((observed - expected)**2 / expected)\n",
    "\n",
    "# Значение X_alpha для выбранного уровня значимости\n",
    "critical_value = chi2.ppf(1 - alpha, 6-1-1)\n",
    "\n",
    "print('Ожидаемые частоты: ',*expected)\n",
    "print(\"Статистика критерия хи-квадрат :\", chi_squared_stat)\n",
    "print(\"X_alpha :\", critical_value)"
   ]
  },
  {
   "attachments": {},
   "cell_type": "markdown",
   "id": "b1468894-9b92-4bbe-b62d-f741aeef8106",
   "metadata": {},
   "source": [
    "Ожидаемые частоты $np_{0i}$: $\\space np_{01}=21.123;\\space np_{02}=4.829;\\space np_{03}=4.021;\\space np_{04}= 3.349;\\space np_{05}=2.789;\\space np_{06}=13.889$\n",
    "\n",
    "$\\chi^2 \\approx 41.007$\n",
    "\n",
    "$x_{\\alpha} \\approx 9.49$\n",
    "\n",
    "$\\chi^2 \\gt x_{\\alpha}$ значит гипотеза отвергается"
   ]
  },
  {
   "cell_type": "code",
   "execution_count": 55,
   "id": "f6d338d6-b701-47d6-8962-3c7f43aaa6e1",
   "metadata": {},
   "outputs": [
    {
     "name": "stdout",
     "output_type": "stream",
     "text": [
      "Наибольшее значение уровня значимости, на котором еще нет оснований отвергнуть данную гипотезу: 2.6778468610197612e-08\n"
     ]
    }
   ],
   "source": [
    "print(\"Наибольшее значение уровня значимости, на котором еще нет оснований отвергнуть данную гипотезу:\",chi2.sf(chi_squared_stat, 6-1-1))"
   ]
  },
  {
   "cell_type": "markdown",
   "id": "fa59a954-73d0-4ceb-a629-77192b032072",
   "metadata": {},
   "source": [
    "### Пункт 2\n",
    "В результате эксперимента получены данные, приведенные в Таблице 2"
   ]
  },
  {
   "cell_type": "markdown",
   "id": "11d404a0-5311-49e7-ac24-7cf04e0aad81",
   "metadata": {},
   "source": [
    "Таблица 2:\n",
    "$\\alpha_2=0.2; c=-3.20; d=-2.88; h=0.05; a_0=-3.00; \\sigma_0=0.20;a_1=-2.30; \\sigma_1=0.20.$ <br>\n",
    "−3.147 −2.740 −3.189 −2.760 −3.073 −2.802 −3.178 −2.968 −2.946 −3.256 −3.135 −3.409 −3.273 −3.362 −3.002 −3.282\r\n",
    "−2.876 −3.039 −3.033 −3.086 −2.790 −2.510 −2.966 −2.977 −2.810 −2.852 −2.976 −2.989 −3.080 −2.874 −3.128 −2.962\r\n",
    "−3.155 −2.971 −2.937 −2.867 −2.916 −2.802 −3.044 −2.759 −3.214 −3.174 −2.791 −3.046 −3.043 −3.024 −3.459 −2.527\r\n",
    "−3.038 −3.60\r\n",
    "5\r\n"
   ]
  },
  {
   "cell_type": "markdown",
   "id": "2f03f127-3ed6-4734-94ec-d510ec8bc624",
   "metadata": {},
   "source": [
    "### a) Построить вариационный ряд, эмпирическую функцию распределения, гистограмму частот и полигон частот с шагом h. "
   ]
  },
  {
   "cell_type": "code",
   "execution_count": 56,
   "id": "75c3a7a8-66a7-48f6-a814-c63f250e88d4",
   "metadata": {},
   "outputs": [
    {
     "name": "stdout",
     "output_type": "stream",
     "text": [
      "Вариационный ряд: -3.459 -3.409 -3.362 -3.282 -3.273 -3.256 -3.214 -3.189 -3.178 -3.174 -3.155 -3.147 -3.135 -3.128 -3.086 -3.08 -3.073 -3.06 -3.046 -3.044 -3.043 -3.039 -3.038 -3.033 -3.024 -3.002 -2.989 -2.977 -2.976 -2.971 -2.968 -2.966 -2.962 -2.946 -2.937 -2.916 -2.876 -2.874 -2.867 -2.852 -2.81 -2.802 -2.802 -2.791 -2.79 -2.76 -2.759 -2.74 -2.527 -2.51\n"
     ]
    }
   ],
   "source": [
    "selection2=[-3.147, -2.740, -3.189, -2.760, -3.073, -2.802, -3.178, -2.968, -2.946, -3.256, -3.135, -3.409, -3.273, -3.362, -3.002, -3.282,\n",
    "-2.876, -3.039, -3.033, -3.086, -2.790, -2.510, -2.966, -2.977, -2.810, -2.852, -2.976, -2.989, -3.080, -2.874, -3.128, -2.962,\n",
    "-3.155, -2.971, -2.937, -2.867, -2.916, -2.802, -3.044, -2.759, -3.214, -3.174, -2.791, -3.046, -3.043, -3.024, -3.459, -2.527,\n",
    "-3.038, -3.060]\n",
    "variational_series2 = sorted(selection2)\n",
    "print(\"Вариационный ряд:\",*variational_series2)"
   ]
  },
  {
   "cell_type": "code",
   "execution_count": 57,
   "id": "0e5b085b-6a15-4cf0-91eb-6553db2cc6fb",
   "metadata": {},
   "outputs": [
    {
     "data": {
      "image/png": "[encoded data removed]",
      "text/plain": [
       "<Figure size 640x480 with 1 Axes>"
      ]
     },
     "metadata": {},
     "output_type": "display_data"
    }
   ],
   "source": [
    "ecdf = ECDF(variational_series2)\n",
    "plt.step(ecdf.x,ecdf.y);\n",
    "plt.xlabel('Значение');\n",
    "plt.ylabel('Частота');"
   ]
  },
  {
   "cell_type": "code",
   "execution_count": 58,
   "id": "95846f4d-9836-4839-aa31-386cedfe2186",
   "metadata": {},
   "outputs": [
    {
     "data": {
      "image/png": "[encoded data removed]",
      "text/plain": [
       "<Figure size 640x480 with 1 Axes>"
      ]
     },
     "metadata": {},
     "output_type": "display_data"
    }
   ],
   "source": [
    "h = 0.05\n",
    "bins = np.arange(min(variational_series2), max(variational_series2) + h, h)\n",
    "weights = [1/(len(variational_series2)) for _ in variational_series2]\n",
    "\n",
    "plt.hist(variational_series2, bins=bins, edgecolor='black',weights =weights, alpha=0.7, label='Гистограмма частот')\n",
    "\n",
    "plt.plot(bins[:-1] + h / 2, np.histogram(variational_series2,weights =weights, bins=bins)[0],color='red', marker='.', linestyle='-', label='Полигон частот')\n",
    "plt.title('Гистограмма частот и полигон частот')\n",
    "plt.xlabel('Значения')\n",
    "plt.ylabel('Частота')\n",
    "plt.legend()\n",
    "plt.show()"
   ]
  },
  {
   "cell_type": "markdown",
   "id": "21d001fd-ff00-4c5c-bd43-75f2ccecb663",
   "metadata": {},
   "source": [
    "### b) Вычислить выборочные аналоги следующих характеристик:\n",
    "(i) матемматического ожидания; (ii) дисперсии; (iii) СКО; (iv) медианы; (v) асимметрии; (vi) эксцесса; (vii) вероятности $\\mathbb{P}(X \\in [-3.20,-2.88])$"
   ]
  },
  {
   "cell_type": "code",
   "execution_count": 59,
   "id": "c661d4c9-3c85-4914-9dcf-606ef7210870",
   "metadata": {},
   "outputs": [
    {
     "name": "stdout",
     "output_type": "stream",
     "text": [
      "Матожидание:  -3.0059399999999994\n",
      "Дисперсия:  0.0384737364\n",
      "СКО:  0.19614723143598026\n",
      "Медиана:  -3.013\n",
      "Асимметрия:  0.10974895579469604\n",
      "Эксцесс:  0.2689525360886251\n",
      "Вероятность:  0.72\n"
     ]
    }
   ],
   "source": [
    "mean2=np.mean(variational_series2)\n",
    "variance2=np.var(variational_series2)\n",
    "std_dev2=np.std(variational_series2)\n",
    "median2=np.median(variational_series2)\n",
    "skew2=skew(variational_series2)\n",
    "kurt2=kurtosis(variational_series2)\n",
    "c=-3.20\n",
    "d=-2.88\n",
    "prob2=sum(1 for i in variational_series if (i>=a)&(i<=b))/len(variational_series)\n",
    "\n",
    "print(\"Матожидание: \",mean2)\n",
    "print(\"Дисперсия: \",variance2)\n",
    "print(\"СКО: \",std_dev2)\n",
    "print(\"Медиана: \",median2)\n",
    "print(\"Асимметрия: \",skew2)\n",
    "print(\"Эксцесс: \",kurt2)\n",
    "print(\"Вероятность: \",prob2)"
   ]
  },
  {
   "cell_type": "markdown",
   "id": "cec5d9b9-dad3-4727-8d2b-7ce4637ee933",
   "metadata": {},
   "source": [
    "### c) В предположении, что исходные наблюдения являются выборкой из нормального распределения, построить оценку максимального правдоподобия параметров $(a,\\sigma^2)$ и соответствующие оценки по методу моментов. Найти смещение оценок."
   ]
  },
  {
   "attachments": {},
   "cell_type": "markdown",
   "id": "1710259a-9447-4dc2-a126-a7d7ad568116",
   "metadata": {
    "jp-MarkdownHeadingCollapsed": true
   },
   "source": [
    "Плотность нормального распределения имеет вид:  $\\mathbb{P_\\theta}(x)=\\frac{1}{\\sqrt{2\\pi}\\sigma}\\exp\\left(-\\frac{(x-a)^2}{2\\sigma^2}\\right)$\n",
    "\n",
    "#### Построим оценку максимального правдоподобия параметров $(a,\\sigma^2)$:\n",
    "\n",
    "Функция правдоподобия: $L(\\overline{x},\\theta)=\\prod_{i=1}^{n}\\frac{1}{\\sqrt{2\\pi}\\sigma}\\exp\\left(-\\frac{(x_i-a)^2}{2\\sigma^2}\\right)=(2\\pi)^{-\\frac{n}{2}}\\sigma^{-n}\\exp\\left( -\\frac{\\sum_{i=1}^{n}(x_i-a)^2}{2\\sigma^2} \\right)$\n",
    "\n",
    "Логарифмическая функция правдоподобия: $LL(\\overline{x},\\theta)=\\ln{L(\\overline{x},\\theta)}=-\\frac{n}{2}\\ln{2\\pi}-n\\ln{\\sigma}-\\frac{\\sum_{i=1}^{n}(x_i-a)^2}{2\\sigma^2}$\n",
    "\n",
    "Продифференциируем $LL(\\overline{x},\\theta)$ : $\\frac{\\partial LL(\\overline{x},\\theta)}{\\partial a}=\\frac{-2\\sum_{i=1}^{n}(x_i-a)}{-2\\sigma^2}=\\frac{\\sum_{i=1}^{n}(x_i-a)}{\\sigma^2}=\\frac{\\sum_{i=1}^{n}x_i-na}{\\sigma^2}$\n",
    "\n",
    "Для нахождения максимума найдем решение уравнения $\\frac{\\partial LL(\\overline{x},\\theta)}{\\partial a}=0$:\n",
    "\n",
    "$\\frac{\\sum_{i=1}^{n}x_i-na}{\\sigma^2}= 0 \\Rightarrow \\widehat{a}=\\frac{\\sum_{i=1}^{n}x_i}{n}=\\overline{x} $\n",
    "\n",
    "Продифференциируем $LL(\\overline{x},\\theta)$ : $\\frac{\\partial LL(\\overline{x},\\theta)}{\\partial \\sigma}=-\\frac{n}{\\sigma}+\\frac{\\sum_{i=1}^{n}(x_i-a)^2}{\\sigma^3}$\n",
    "\n",
    "Для нахождения максимума найдем решение уравнения $\\frac{\\partial LL(\\overline{x},\\theta)}{\\partial \\sigma}=0$:\n",
    "\n",
    "$-\\frac{n}{\\sigma}+\\frac{\\sum_{i=1}^{n}(x_i-a)^2}{\\sigma^3}=0 \\Rightarrow {\\sigma^2}=\\frac{\\sum_{i=1}^{n}(x_i-a)^2}{n}\\Rightarrow \\widehat{\\sigma^2}=\\frac{\\sum_{i=1}^{n}(x_i-\\overline{x})^2}{n}=s^2 $\n",
    "\n",
    "$(\\widehat{a},\\widehat{\\sigma^2})=(\\overline{x},s^2)$\n",
    "\n",
    "Найдем смешение оценки максимального правдоподобия: \n",
    "\n",
    "$E(\\widehat{a})=E(\\overline{x})=E\\left(\\frac{\\sum_{i=1}^{n}x_i}{n}\\right)=\\frac{\\sum_{i=1}^{n}Ex_i}{n}=\\frac{\\sum_{i=1}^{n}Ex_1}{n}=\\frac{nEx_1}{n}=Ex_1=a$\n",
    "\n",
    "Смещение $b_g(a)=E(\\widehat{a})-a=a-a=0$, значит оценка несмещенная\n",
    "\n",
    "$E(\\widehat{\\sigma^2})=E(s^2)=E\\left(\\frac{\\sum_{i=1}^{n}(x_i-\\overline{x})^2}{n}\\right)=\\\\\r\n",
    "\\frac{E\\left(\\sum_{i=1}^{n}(x_i-\\overline{x})^2\\right)}{n}=\\frac{E\\left(\\sum_{i=1}^{n}x_i^2-n\\overline{x}^2)\\right)}{n}=\\frac{\\sum_{i=1}^{n}Ex_i^2-nE(\\overline{x}^2))}{n}=\\frac{n(a^2+\\sigma^2)-n(\\frac{\\sigma^2}{n}+a^2)}{n}=\\\\\r\n",
    "\\frac{na^2+n\\sigma^2-\\sigma^2-na^2}{n}=\\frac{\\sigma^2(n-1)}{n}$\n",
    "\n",
    "Смещение $b_g(\\sigma^2)=E(\\widehat{\\sigma^2})-\\sigma^2=\\frac{\\sigma^2(n-1)}{n}-\\sigma^2=\\frac{-\\sigma^2}{n}$, значит оценка смещенная\n",
    "\n",
    "Чтобы убрать смещение домножим на $\\frac{n}{n-1}$: $\\frac{n}{n-1}\\widehat{\\sigma^2}=\\frac{n}{n-1}s^2=\\frac{\\sum_{i=1}^{n}(x_i-\\overline{x})^2}{n-1}$\n",
    "\n",
    "#### Построим оценку $\\lambda$ по методу моментов: \n",
    "\n",
    "Составим и решим систему уравнений: $\\begin{equation}\r\n",
    "\\left\\{ \r\n",
    "\\begin{array}{ll} \r\n",
    "Ex_1=\\frac{\\sum_{i=1}^{n}x_i}{n}\\\\\r\n",
    "Ex_1^2=\\frac{\\sum_{i=1}^{n}x_i^2}{n}\\end{array}\\right.\r\n",
    "\\end{equation}\r\n",
    "$\n",
    "\n",
    "$\\begin{equation}\r\n",
    "\\left\\{ \r\n",
    "\\begin{array}{ll} \r\n",
    "a=\\overline{x}\\\\\r\n",
    "a^2+\\sigma^2=\\overline{x^2}\\end{array}\\right.\r\n",
    "\\end{equation}\r\n",
    "$\n",
    "\n",
    "$\\begin{equation}\n",
    "\\left\\{ \n",
    "\\begin{array}{ll} \n",
    "\\widehat{a}=\\overline{x}\\\\\n",
    "\\widehat{\\sigma^2}=\\overline{x^2}-(\\overline{x})^2=s^2\\end{array}\\right.\n",
    "\\end{equation}$\n",
    "\n",
    "Найдем смешение оценки по методу моментов: \n",
    "\n",
    "$E(\\widehat{a})=E(\\overline{x})=E\\left(\\frac{\\sum_{i=1}^{n}x_i}{n}\\right)=\\frac{\\sum_{i=1}^{n}Ex_i}{n}=\\frac{\\sum_{i=1}^{n}Ex_1}{n}=\\frac{nEx_1}{n}=Ex_1=a$\n",
    "\n",
    "Смещение $b_g(a)=E(\\widehat{a})-a=a-a=0$, значит оценка несмещенная\n",
    "\n",
    "$E(\\widehat{\\sigma^2})=E(s^2)=E\\left(\\frac{\\sum_{i=1}^{n}(x_i-\\overline{x})^2}{n}\\right)=\\\\\r\n",
    "\\frac{E\\left(\\sum_{i=1}^{n}(x_i-\\overline{x})^2\\right)}{n}=\\frac{E\\left(\\sum_{i=1}^{n}x_i^2-n\\overline{x}^2)\\right)}{n}=\\frac{\\sum_{i=1}^{n}Ex_i^2-nE(\\overline{x}^2))}{n}=\\frac{n(a^2+\\sigma^2)-n(\\frac{\\sigma^2}{n}+a^2)}{n}=\\\\\r\n",
    "\\frac{na^2+n\\sigma^2-\\sigma^2-na^2}{n}=\\frac{\\sigma^2(n-1)}{n}$\n",
    "\n",
    "Смещение $b_g(\\sigma^2)=E(\\widehat{\\sigma^2})-\\sigma^2=\\frac{\\sigma^2(n-1)}{n}-\\sigma^2=\\frac{-\\sigma^2}{n}$, значит оценка смещенная\n",
    "\n",
    "Чтобы убрать смещение домножим на $\\frac{n}{n-1}$: $\\frac{n}{n-1}\\widehat{\\sigma^2}=\\frac{n}{n-1}s^2=\\frac{\\sum_{i=1}^{n}(x_i-\\overline{x})^2}{n-1}$"
   ]
  },
  {
   "cell_type": "markdown",
   "id": "2577a3e0-1e9d-42bf-8a6a-6e6e6a2954c6",
   "metadata": {},
   "source": [
    "### d) Построить доверительные интервалы уровня значимости $\\alpha_2=0.20$ для параметров $(a,\\sigma^2)$."
   ]
  },
  {
   "attachments": {},
   "cell_type": "markdown",
   "id": "df6ecd84-0c88-49eb-8a11-59b6a6b3007e",
   "metadata": {},
   "source": [
    "$\\sqrt{n-1}\\frac{\\overline{x}-a}{s}\\sim S_{n-1}$\n",
    "\n",
    "$P_\\theta\\left(  \\sqrt{n-1}\\frac{\\overline{x}-a}{s}\\in\\left[ x_{1\\alpha};x_{2\\alpha} \\right]\\right)=1-\\alpha$\n",
    "\n",
    "$P_\\theta\\left(  \\sqrt{n-1}\\frac{\\overline{x}-a}{s}\\in\\left[ -x_{\\alpha};x_{\\alpha} \\right]\\right)=1-\\alpha$\n",
    "\n",
    "$x_\\alpha:S_{n-1}(x_\\alpha)=1-\\frac{\\alpha}{2}=0.9$\n",
    "\n",
    "$x_\\alpha \\approx 1.299$\n",
    "\n",
    "$P_\\theta\\left(  -x_{\\alpha}\\le \\sqrt{n-1}\\frac{\\overline{x}-a}{s}\\le x_{\\alpha}\\right)=1-\\alpha$\n",
    "\n",
    "$a \\in\\left[\\overline{x}-\\frac{x_\\alpha s}{\\sqrt{n-1}}; \\overline{x}+\\frac{x_\\alpha s}{\\sqrt{n-1}} \\right]$\n",
    "\n",
    "$a \\in\\left[-3.006-\\frac{1.299 \\cdot 0.1961}{\\sqrt{49}}; -3.006+\\frac{1.299 \\cdot 0.1961}{\\sqrt{49}} \\right]$\n",
    "\n",
    "$a \\in\\left[-3.042; -2.970\\right]$\n",
    "\n",
    "$\\frac{ns^2}{\\sigma^2}\\sim \\chi_{n-1}^2$\n",
    "\n",
    "$P_\\theta\\left(  \\frac{ns^2}{\\sigma^2}\\in\\left[ x_{1\\alpha};x_{2\\alpha} \\right]\\right)=1-\\alpha$\n",
    "\n",
    "$x_{1\\alpha}:K_{n-1}(x_{1\\alpha})=\\frac{\\alpha}{2}=0.1$\n",
    "\n",
    "$x_{2\\alpha}:K_{n-1}(x_{2\\alpha})=1-\\frac{\\alpha}{2}=0.9$\n",
    "\n",
    "$x_{1\\alpha} \\approx 36.818;\\space x_{2\\alpha}\\approx 62.038$\n",
    "\n",
    "$P_\\theta\\left(  x_{1\\alpha}\\le \\frac{ns^2}{\\sigma^2}\\le x_{2\\alpha}\\right)=1-\\alpha$\n",
    "\n",
    "$\\sigma^2 \\in\\left[\\frac{ns^2}{x_{2\\alpha}}; \\frac{ns^2}{x_{1\\alpha}} \\right]$\n",
    "\n",
    "$\\sigma^2 \\in\\left[\\frac{50\\cdot 0.038}{62.038}; \\frac{50\\cdot 0.038}{36.818} \\right]$\n",
    "\n",
    "$\\sigma^2 \\in\\left[0.0306; 0.0516 \\right]$"
   ]
  },
  {
   "cell_type": "markdown",
   "id": "3dc9336c-5173-4b90-a64c-b9b4d87c6f3e",
   "metadata": {},
   "source": [
    "### e) С использованием теоремы Колмогорова построить критерий значимости проверки простой гипотезы согласия с нормальным распределением с параметрами $(a_0,\\sigma^2_0)$. Проверить гипотезу на уровне значимости $\\alpha_2.$ Вычислить наибольшее значение уровня значимости, на котором еще нет оснований отвергнуть данную гипотезу."
   ]
  },
  {
   "cell_type": "markdown",
   "id": "707ff6cf-fe0c-45da-b78b-4eca3e1968c7",
   "metadata": {},
   "source": [
    "Пусть $X_1,\\dots, X_n$ - выборка из распределения с функцией распределения F.\n",
    "\n",
    "Основная гипотеза согласия $H_0 : F \\equiv \\mathcal{N}(a_0,\\sigma^2_0)$\n",
    "\n",
    "Альтернатива $H_A :  F(x) \\neq \\mathcal{N}(a_0,\\sigma^2_0)$ при некотором $x\\in \\mathbb{R}$\n",
    "\n",
    "Критерий уровня значимости $\\alpha_2$:\n",
    "\n",
    "$\\phi(x) = 0$, при $\\widehat{D_n} \\le x_{\\alpha_2}$\n",
    "\n",
    "$\\phi(x) = 1$, при $\\widehat{D_n} > x_{\\alpha_2}$\n",
    "\n",
    "где $x_{\\alpha_2} : K(x_{\\alpha_2} / \\sqrt{n}) = 1 - \\alpha_2$"
   ]
  },
  {
   "cell_type": "code",
   "execution_count": 60,
   "id": "45458010-7c93-4513-b182-a07ca7face02",
   "metadata": {},
   "outputs": [
    {
     "name": "stdout",
     "output_type": "stream",
     "text": [
      "Статистика критерия Колмогорова: 0.06465456526520497\n",
      "X_alpha_2 : 7.585482161120991\n"
     ]
    }
   ],
   "source": [
    "def F(arr, x):\n",
    "    return (np.sum(np.array(arr) < x))/50\n",
    "    \n",
    "a_0=-3.00\n",
    "sigma_0=0.20\n",
    "alpha_2=0.20\n",
    "\n",
    "D = 0\n",
    "for x in variational_series2:\n",
    "  if (D < np.abs(F(variational_series2,x,) -norm.cdf(x, a_0,sigma_0) )):\n",
    "    D = np.abs(F(variational_series2,x,) -norm.cdf(x, a_0,sigma_0) )\n",
    "x_alpha_2=kstwobign.ppf(1 - alpha_2) * np.sqrt(len(variational_series2))\n",
    "print(\"Статистика критерия Колмогорова:\", D)\n",
    "print(\"X_alpha_2 :\", x_alpha_2)"
   ]
  },
  {
   "cell_type": "markdown",
   "id": "ec89eada-b098-4e35-b1f0-154266008809",
   "metadata": {},
   "source": [
    "$\\widehat{D_n} \\approx 0.0646$\n",
    "\n",
    "$x_{\\alpha_2} \\approx 7.5855$\n",
    "\n",
    "$\\widehat{D_n} \\le x_{\\alpha_2}$ значит гипотеза принимается"
   ]
  },
  {
   "cell_type": "markdown",
   "id": "6dab5d2e-822b-4930-8637-0b696740554e",
   "metadata": {},
   "source": [
    "### f) Используя гистограмму частот, построить критерий значимости $\\chi^2$ проверки простой гипотезы согласия с нормальным распределением с параметрами $(a_0,\\sigma^2_0)$. Проверить гипотезу на уровне значимости $\\alpha_2$. Вычислить наибольшее значение уровня значимости, на котором еще нет оснований отвергнуть данную гипотезу."
   ]
  },
  {
   "attachments": {},
   "cell_type": "markdown",
   "id": "2d4dea54-1db5-486d-b1a9-d4ae39c2e902",
   "metadata": {},
   "source": [
    "Пусть $X_1,\\dots, X_n$ - выборка из распределения с функцией распределения F.\n",
    "\n",
    "Основная гипотеза согласия $H_0 : F \\equiv \\mathcal{N}(a_0,\\sigma^2_0)$\n",
    "\n",
    "Альтернатива $H_A :  F(x) \\neq \\mathcal{N}(a_0,\\sigma^2_0)$ при некотором $x\\in \\mathbb{R}$\n",
    "\n",
    "Выделим новые интервалы,чтобы в каждый попадало не менее 5 значений:\n",
    "\n",
    "$I_1=(-\\infty;-3.189];\\space I_2=(-3.189;-3.06];\\space I_3=(-3.06;-2.946 ];\\space I_4=(-2.946 ;-2.791];\\space I_5=(-2.791;\\infty)$\n",
    "\n",
    "Абсолютные частоты:\n",
    "$\\nu_1=8;\\space \\nu_2=10;\\space \\nu_3=16;\\space \\nu_4=10;\\space \\nu_5=6$\n"
   ]
  },
  {
   "cell_type": "code",
   "execution_count": 72,
   "id": "c08880a4-5fed-4bee-9ce9-35efa7b2befc",
   "metadata": {},
   "outputs": [
    {
     "data": {
      "image/png": "[encoded data removed]",
      "text/plain": [
       "<Figure size 640x480 with 1 Axes>"
      ]
     },
     "metadata": {},
     "output_type": "display_data"
    }
   ],
   "source": [
    "plt.hist(variational_series2,bins='auto',edgecolor='black')\n",
    "plt.title('Гистограмма частот')\n",
    "plt.xlabel('Значение')\n",
    "plt.ylabel('Частота')\n",
    "plt.show()"
   ]
  },
  {
   "cell_type": "code",
   "execution_count": 73,
   "id": "ef02baca-68b9-431e-b2ef-e3763c2dc0bc",
   "metadata": {},
   "outputs": [
    {
     "name": "stdout",
     "output_type": "stream",
     "text": [
      "Ожидаемые частоты:  8.61647190064359 10.487956989908772 11.2165647693496 12.27843210202974 7.400574238068297\n",
      "Статистика критерия хи-квадрат : 2.794616324113923\n",
      "X_alpha : 5.988616694004245\n"
     ]
    }
   ],
   "source": [
    "observed=np.array([8,10,16,10,6])\n",
    "borders=np.array([-3.189,-3.06,-2.946,-2.791])\n",
    "expected=np.array([0.0,0.0,0.0,0.0,0.0])\n",
    "expected2=np.array([0.0,0.0,0.0,0.0,0.0])\n",
    "for i in range(len(borders)-1):\n",
    "    expected[i+1]= 50*(norm.cdf(borders[i+1], a_0,sigma_0) - norm.cdf(borders[i],a_0,sigma_0))\n",
    "expected[len(expected)-1] = 50 * (norm.cdf(float('inf'), a_0, sigma_0) - norm.cdf(borders[len(borders)-1], a_0, sigma_0))\n",
    "expected[0]= 50*(norm.cdf(borders[0], a_0,sigma_0) - norm.cdf(-float('inf'),a_0,sigma_0))\n",
    "# Вычисление статистики критерия хи-квадрат\n",
    "chi_squared_stat = np.sum((observed - expected)**2 / expected)\n",
    "\n",
    "# Критическое значение для выбранного уровня значимости\n",
    "critical_value = chi2.ppf(1 - alpha_2, len(observed)-1)\n",
    "\n",
    "print('Ожидаемые частоты: ',*expected)\n",
    "print(\"Статистика критерия хи-квадрат :\", chi_squared_stat)\n",
    "print(\"X_alpha :\", critical_value)"
   ]
  },
  {
   "attachments": {},
   "cell_type": "markdown",
   "id": "f137dbad-8d65-4546-8451-80b4ac5b621f",
   "metadata": {},
   "source": [
    "Ожидаемые частоты $np_{0i}$: $\\space np_{01}=8.616;\\space np_{02}=10.488;\\space np_{03}=11.217;\\space np_{04}=12.278;\\space np_{05}=7.400$\n",
    "\n",
    "$\\chi^2 \\approx 2.7946$\n",
    "\n",
    "$x_{\\alpha_2} \\approx 5.9886$\n",
    "\n",
    "$\\chi^2 < x_{\\alpha_2}$ значит гипотеза принимается"
   ]
  },
  {
   "cell_type": "code",
   "execution_count": 74,
   "id": "c40d4ec0-5590-48b0-b9f4-fb77aaf75761",
   "metadata": {
    "scrolled": true
   },
   "outputs": [
    {
     "name": "stdout",
     "output_type": "stream",
     "text": [
      "Наибольшее значение уровня значимости, на котором еще нет оснований отвергнуть данную гипотезу: 0.5927623890357514\n"
     ]
    }
   ],
   "source": [
    "print(\"Наибольшее значение уровня значимости, на котором еще нет оснований отвергнуть данную гипотезу:\",chi2.sf(chi_squared_stat, len(observed)-1))"
   ]
  },
  {
   "cell_type": "markdown",
   "id": "bb23779d-239d-479f-b1a0-316e2abd95b0",
   "metadata": {},
   "source": [
    "### g) Построить критерий проверки значимости $\\chi^2$ сложной гипотезы согласия с нормальным распределением. Проверить гипотезу на уровне значимости $\\alpha_2$. Вычислить наибольшее значение уровня значимости, на котором еще нет оснований отвергнуть данную гипотезу."
   ]
  },
  {
   "attachments": {},
   "cell_type": "markdown",
   "id": "9ca110e2-aefb-48d3-8290-0175444cff43",
   "metadata": {},
   "source": [
    "Пусть $X_1,\\dots, X_n$ - выборка из распределения с функцией распределения F.\n",
    "\n",
    "Основная гипотеза согласия $H_0 : F \\equiv \\mathcal{N}(a,\\sigma^2)$\n",
    "\n",
    "Альтернатива $H_A :  F(x) \\neq \\mathcal{N}(a,\\sigma^2)$ при некотором $x\\in \\mathbb{R}$\n",
    "\n",
    "Возьмем ОМП в качестве оценки неизвестных параметров : $(\\widehat{a},\\widehat{\\sigma^2})=(\\overline{x},s^2)$\n",
    "\n",
    "Выделим новые интервалы,чтобы в каждый попадало не менее 5 значений:\n",
    "\n",
    "$I_1=(-\\infty;-3.189];\\space I_2=(-3.189;-3.06];\\space I_3=(-3.06;-2.946 ];\\space I_4=(-2.946 ;-2.791];\\space I_5=(-2.791;\\infty)$\n",
    "\n",
    "Абсолютные частоты:\n",
    "$\\nu_1=8;\\space \\nu_2=10;\\space \\nu_3=16;\\space \\nu_4=10;\\space \\nu_5=6$\n"
   ]
  },
  {
   "cell_type": "code",
   "execution_count": 75,
   "id": "a525ff27-56cc-4051-ad5a-0100a1fe2146",
   "metadata": {},
   "outputs": [
    {
     "name": "stdout",
     "output_type": "stream",
     "text": [
      "Ожидаемые частоты:  4.886777927756706e-05 3.99963290147652 43.01916641872799 2.981151233347845 5.78668368778068e-07\n",
      "Статистика критерия хи-квадрат : 63521469.47432855\n",
      "X_alpha : 3.218875824868201\n"
     ]
    }
   ],
   "source": [
    "observed=np.array([8,10,16,10,6])\n",
    "borders=np.array([-3.189,-3.06,-2.946,-2.791])\n",
    "expected=np.array([0.0,0.0,0.0,0.0,0.0])\n",
    "expected2=np.array([0.0,0.0,0.0,0.0,0.0])\n",
    "for i in range(len(borders)-1):\n",
    "    expected[i+1]= 50*(norm.cdf(borders[i+1], mean2,variance2) - norm.cdf(borders[i],mean2,variance2))\n",
    "expected[len(expected)-1] = 50 * (norm.cdf(float('inf'), mean2, variance2) - norm.cdf(borders[len(borders)-1], mean2, variance2))\n",
    "expected[0]= 50*(norm.cdf(borders[0], mean2,variance2) - norm.cdf(-float('inf'),mean2,variance2))\n",
    "# Вычисление статистики критерия хи-квадрат\n",
    "chi_squared_stat = np.sum((observed - expected)**2 / expected)\n",
    "\n",
    "# Критическое значение для выбранного уровня значимости\n",
    "critical_value = chi2.ppf(1 - alpha_2, len(observed)-1-2)\n",
    "\n",
    "print('Ожидаемые частоты: ',*expected)\n",
    "print(\"Статистика критерия хи-квадрат :\", chi_squared_stat)\n",
    "print(\"X_alpha :\", critical_value)"
   ]
  },
  {
   "attachments": {},
   "cell_type": "markdown",
   "id": "a1b9f039-8967-4bb5-8b75-c72504aeff6d",
   "metadata": {},
   "source": [
    "Ожидаемые частоты $np_{0i}$: $\\space np_{01}=4.887e-07;\\space np_{02}=3.999;\\space np_{03}=43.019;\\space np_{04}=2.981;\\space np_{05}=5.786e-07$\n",
    "\n",
    "$\\chi^2 \\approx 63521469.474$\n",
    "\n",
    "$x_{\\alpha_2} \\approx 3.219$\n",
    "\n",
    "$\\chi^2 > x_{\\alpha_2}$ значит гипотеза отвергается"
   ]
  },
  {
   "cell_type": "code",
   "execution_count": 76,
   "id": "2547707d-1da8-4b3e-8a62-6a990e850f58",
   "metadata": {},
   "outputs": [
    {
     "name": "stdout",
     "output_type": "stream",
     "text": [
      "Наибольшее значение уровня значимости, на котором еще нет оснований отвергнуть данную гипотезу: 0.0\n"
     ]
    }
   ],
   "source": [
    "print(\"Наибольшее значение уровня значимости, на котором еще нет оснований отвергнуть данную гипотезу:\",chi2.sf(chi_squared_stat, len(observed)-1-2))"
   ]
  },
  {
   "cell_type": "markdown",
   "id": "3996aaaf-0782-4934-809e-628c1df02b66",
   "metadata": {},
   "source": [
    "### h) Построить наиболее мощный критерий проверки простой гипотезы о нормальности с параметром $(a,\\sigma^2)=(a_0,\\sigma^2_0)$ при альтернативе нормальности с параметром $(a,\\sigma^2)=(a_1,\\sigma^2_1)$. Проверить гипотезу на уровне значимости $\\alpha_2$. Что получится, если поменять местами основную и альтернативную гипотезы?"
   ]
  },
  {
   "cell_type": "code",
   "execution_count": 77,
   "id": "8a55bd79-bfc9-42c9-b81e-c3cc31b32eda",
   "metadata": {},
   "outputs": [
    {
     "name": "stdout",
     "output_type": "stream",
     "text": [
      "c^* =  -0.042633515065708345\n"
     ]
    }
   ],
   "source": [
    "print(\"c^* = \", norm.ppf(0.8, -2.3, 0.2) / 50)"
   ]
  },
  {
   "attachments": {},
   "cell_type": "markdown",
   "id": "c37ea1a4-3157-4ab1-a595-6b203670cf97",
   "metadata": {},
   "source": [
    "Основная гипотеза: $H_{0}:(a,\\sigma^2)=(a_0,\\sigma^2_0)$\n",
    "\n",
    "Альтернативная гипотеза: $H_{A}:(a,\\sigma^2)=(a_1,\\sigma^2_1)$\n",
    "\n",
    "Функция правдоподобия: $L(X,\\theta)=(2\\pi\\sigma^2)^{-\\frac{n}{2}} \\exp\\left( -\\frac{\\sum_{i=1}^{n}(x_i-a)^2}{2\\sigma^2} \\right)$\n",
    "\n",
    "Статистика отношения правдоподобия равна:$LR(X) = \\frac{L\\left( X,a_1,\\sigma^2_1 \\right)}{L\\left( X,a_0,\\sigma^2_0\\right)}= \\left(\\frac{\\sigma^2_1}{\\sigma^2_0}\\right)^{-\\frac{n}{2}}\\exp\\left( -\\frac{\\sum_{i=1}^{n}(x_i-a_1)^2}{2\\sigma^2_1}+\\frac{\\sum_{i=1}^{n}(x_i-a_0)^2}{2\\sigma^2_0}\\right) $\n",
    "\n",
    "Решим уравнение: $P_{(a_0,\\sigma^2_0)}\\left(LR(\\overrightarrow{X}) > c\\right) + pP_{(a_0,\\sigma^2_0)}\\left(LR(\\overrightarrow{X}) = c\\right) = \\alpha_2$\n",
    "\n",
    "$P_{(a_0,\\sigma^2_0)}\\left(n\\bar{X} > nc^*\\right) + pP_{(a_0,\\sigma^2_0)}\\left(n\\bar{X} = nc^*\\right) = \\alpha_2$\n",
    "\n",
    "$P_{(a_0,\\sigma^2_0)}\\left(n\\bar{X} > nc^*\\right) = 1 - F_{\\mathcal{N}(n a_0,n \\sigma^2_0)}\\left(nc^*\\right) = \\alpha_2$\n",
    "\n",
    "$F_{\\mathcal{N}(n a_0,n\\sigma^2_0)}\\left(nc^*\\right) = 1 - \\alpha_2 = 0.8$\n",
    "\n",
    "$c^* = -2.832$\n",
    "\n",
    "$\\bar{X} = 4.98$\n",
    "\n",
    "$c^* < \\bar{X}$ значит гипотеза отвергается\n",
    "\n",
    "Поменяем гипотезы \n",
    "\n",
    "Основная гипотеза: $H_{0}:(a,\\sigma^2)=(a_1,\\sigma^2_1)$\n",
    "\n",
    "Альтернативная гипотеза: $H_{A}:(a,\\sigma^2)=(a_0,\\sigma^2_0)$\n",
    "\n",
    "Функция правдоподобия: $L(X,\\theta)=(2\\pi\\sigma^2)^{-\\frac{n}{2}} \\exp\\left( -\\frac{\\sum_{i=1}^{n}(x_i-a)^2}{2\\sigma^2} \\right)$\n",
    "\n",
    "Статистика отношения правдоподобия равна:$LR(X) = \\frac{L\\left( X,a_0,\\sigma^2_0 \\right)}{L\\left( X,a_1,\\sigma^2_1\\right)}= \\left(\\frac{\\sigma^2_0}{\\sigma^2_1}\\right)^{-\\frac{n}{2}}\\exp\\left( -\\frac{\\sum_{i=1}^{n}(x_i-a_0)^2}{2\\sigma^2_0}+\\frac{\\sum_{i=1}^{n}(x_i-a_1)^2}{2\\sigma^2_1}\\right) $\n",
    "\n",
    "Решим уравнение: $P_{(a_1,\\sigma^2_1)}\\left(LR(\\overrightarrow{X}) > c\\right) + pP_{(a_1,\\sigma^2_1)}\\left(LR(\\overrightarrow{X}) = c\\right) = \\alpha_2$\n",
    "\n",
    "$P_{(a_1,\\sigma^2_1)}\\left(n\\bar{X} > nc^*\\right) + pP_{(a_1,\\sigma^2_1)}\\left(n\\bar{X} = nc^*\\right) = \\alpha_2$\n",
    "\n",
    "$P_{(a_1,\\sigma^2_1)}\\left(n\\bar{X} > nc^*\\right) = 1 - F_{\\mathcal{N}(n a_1,n\\sigma^2_1)}\\left(nc^*\\right) = \\alpha_2$\n",
    "\n",
    "$F_{\\mathcal{N}(n a_1,n\\sigma^2_1)}\\left(nc^*\\right) = 1 - \\alpha_2 = 0.8$\n",
    "\n",
    "$c^* = -2.132$\n",
    "\n",
    "$\\bar{X} = 4.98$\n",
    "\n",
    "$c^* < \\bar{X}$ значит гипотеза отвергается"
   ]
  },
  {
   "cell_type": "markdown",
   "id": "04db1ef2-5066-4776-a4fa-fe14d9e19906",
   "metadata": {
    "jp-MarkdownHeadingCollapsed": true
   },
   "source": [
    "### i) В пунктах (c)-(g) заменить семейство нормальных распределений на двухпараметрическое семейство распределений Лапласа с плотностями: $p_{a,\\sigma}(x)=\\frac{1}{\\sqrt 2\\sigma}\\exp\\left(-\\cfrac{\\sqrt 2}{\\sigma}|x-a|\\right)$"
   ]
  },
  {
   "cell_type": "markdown",
   "id": "8474180e-1c29-4984-a361-5dfa514e674f",
   "metadata": {},
   "source": [
    "### ci) В предположении, что исходные наблюдения являются выборкой из распределения Лапласа, построить оценку максимального правдоподобия параметров $(a,\\sigma)$ и соответствующие оценки по методу моментов. Найти смещение оценок."
   ]
  },
  {
   "cell_type": "markdown",
   "id": "afdf6483-42ef-426f-a043-9f684c8a60c1",
   "metadata": {},
   "source": [
    "Плотность распределения Лапласа имеет вид:  $p_{a,\\sigma}(x)=\\frac{1}{\\sqrt 2\\sigma}\\exp\\left(-\\cfrac{\\sqrt 2}{\\sigma}|x-a|\\right)$\n",
    "\n",
    "#### Построим оценку максимального правдоподобия параметров $(a,\\sigma^2)$:\n",
    "\n",
    "Функция правдоподобия: $L(\\overline{x},\\theta)=\\prod_{i=1}^{n}\\frac{1}{\\sqrt{2}\\sigma}\\exp\\left(-\\frac{\\sqrt{2}}{\\sigma}|x-a|\\right)=(2)^{-\\frac{n}{2}}\\sigma^{-n}\\exp\\left(-\\frac{\\sqrt{2}}{\\sigma}\\sum_{i=1}^{n}|x_i-a|\\right)=(2)^{-\\frac{n}{2}}\\sigma^{-n}\\exp\\left(-\\frac{\\sqrt{2}}{\\sigma}\\sum_{i=1}^{n}|x_{(i)}-a|\\right)$\n",
    "\n",
    "Логарифмическая функция правдоподобия: $LL(\\overline{x},\\theta)=\\ln{L(\\overline{x},\\theta)}=-\\frac{n}{2}\\ln{2}-n\\ln{\\sigma}-\\frac{\\sqrt{2}}{\\sigma}\\sum_{i=1}^{n}|x_{(i)}-a|$\n",
    "\n",
    "Продифференциируем $LL(\\overline{x},a,\\widehat{\\sigma})$ : $\\frac{\\partial LL(\\overline{x},a,\\widehat{\\sigma})}{\\partial a}=-\\frac{\\sqrt{2}}{\\sigma}\\sum_{i=1}^n sgn(x_{(i)}-a)$\n",
    "\n",
    "Для нахождения максимума найдем решение уравнения $\\frac{\\partial LL(\\overline{x},a,\\widehat{\\sigma})}{\\partial a}=0$:\n",
    "\n",
    "$-\\frac{\\sqrt{2}}{\\sigma}\\sum_{i=1}^n sgn(x_{(i)}-a)= 0 \\Rightarrow \\widehat{a}=z_{n,\\frac{1}{2}} $\n",
    "\n",
    "Продифференциируем $LL(\\overline{x},\\widehat{a},\\sigma)$ : $\\frac{\\partial LL(\\overline{x},\\theta)}{\\partial \\sigma}=-\\frac{n}{\\sigma}+\\frac{\\sqrt{2}}{\\sigma^2}\\sum_{i=1}^{n}|x_{(i)}-\\widehat{a}|$\n",
    "\n",
    "Для нахождения максимума найдем решение уравнения $\\frac{\\partial LL(\\overline{x},\\widehat{a},\\sigma)}{\\partial \\sigma}=0$:\n",
    "\n",
    "$-\\frac{n}{\\sigma}+\\frac{\\sqrt{2}}{\\sigma^2}\\sum_{i=1}^{n}|x_{(i)}-\\widehat{a}|=0 \\Rightarrow \\widehat{\\sigma}=\\frac{\\sqrt{2}}{n}\\sum_{i=1}^{n}|x_{(i)}-\\widehat{a}| $"
   ]
  },
  {
   "cell_type": "code",
   "execution_count": 78,
   "id": "daff6aa0-360a-4303-b71b-c26adf4700d3",
   "metadata": {},
   "outputs": [
    {
     "name": "stdout",
     "output_type": "stream",
     "text": [
      "a: -3.013\n",
      "sigma: 0.21374423781706958\n"
     ]
    }
   ],
   "source": [
    "aest=(variational_series2[24]+variational_series2[25])/2\n",
    "sigm= (np.sqrt(2) / len(variational_series2)) * np.sum(np.abs(np.array(variational_series2) - aest))\n",
    "print('a:',aest)\n",
    "print('sigma:',sigm)"
   ]
  },
  {
   "attachments": {},
   "cell_type": "markdown",
   "id": "41031184-51bb-4c6a-baca-d86f3dc9e540",
   "metadata": {},
   "source": [
    "$(\\widehat{a},\\widehat{\\sigma})=(z_{n,\\frac{1}{2}},\\frac{\\sqrt{2}}{n}\\sum_{i=1}^{n}|x_{(i)}-\\widehat{a}|)$\n",
    "\n",
    "$(\\widehat{a},\\widehat{\\sigma})=(-3.013,0.2137)$\n",
    "\n",
    "Найдем смешение оценки максимального правдоподобия: \n",
    "\n",
    "$E(\\widehat{a})=E\\left(\\frac{x_{(\\frac{n}{2})}+x_{(\\frac{n}{2})+1}}{2}\\right)=\\frac{a+a}{2}=\\frac{2a}{2}=a$\n",
    "\n",
    "Смещение $b_g(a)=E(\\widehat{a})-a=a-a=0$, значит оценка несмещенная\n",
    "\n",
    "$E(\\widehat{\\sigma})=E\\left(\\frac{\\sqrt{2}}{n}\\sum_{i=1}^{n}|x_{(i)}-\\widehat{a}|\\right)=\\sigma$\n",
    "\n",
    "Смещение $\\space b_g(\\sigma)=E(\\widehat{\\sigma})-\\sigma=\\sigma-\\sigma=0$, значит оценка несмещенная\n",
    "\n",
    "#### Построим оценку $\\lambda$ по методу моментов: \n",
    "\n",
    "Составим и решим систему уравнений: $\\begin{equation}\n",
    "\\left\\{ \n",
    "\\begin{array}{ll} \n",
    "Ex_1=\\frac{\\sum_{i=1}^{n}x_i}{n}\\\\\n",
    "Ex_1^2=\\frac{\\sum_{i=1}^{n}x_i^2}{n}\\end{array}\\right.\n",
    "\\end{equation}\n",
    "$\n",
    "\n",
    "$\\begin{equation}\n",
    "\\left\\{ \n",
    "\\begin{array}{ll} \n",
    "a=\\overline{x}\\\\\n",
    "a^2+\\sigma^2=\\overline{x^2}\\end{array}\\right.\n",
    "\\end{equation}\n",
    "$\n",
    "\n",
    "$\\begin{equation}\n",
    "\\left\\{ \n",
    "\\begin{array}{ll} \n",
    "\\widehat{a}=\\overline{x}\\\\\n",
    "\\widehat{\\sigma}=\\sqrt {\\overline{x^2}-(\\overline{x})^2}=s\\end{array}\\right.\n",
    "\\end{equation}$\n",
    "\n",
    "Найдем смешение оценки по методу моментов: \n",
    "\n",
    "$E(\\widehat{a})=E(\\overline{x})=E\\left(\\frac{\\sum_{i=1}^{n}x_i}{n}\\right)=\\frac{\\sum_{i=1}^{n}Ex_i}{n}=\\frac{\\sum_{i=1}^{n}Ex_1}{n}=\\frac{nEx_1}{n}=Ex_1=a$\n",
    "\n",
    "Смещение $b_g(a)=E(\\widehat{a})-a=a-a=0$, значит оценка несмещенная\n",
    "\n",
    "$E(\\widehat{\\sigma})=E(s)=E\\left(\\sqrt{\\frac{\\sum_{i=1}^{n}(x_i-\\overline{x})^2}{n}}\\right)=\\\\\n",
    "\\sqrt{\\frac{E\\left(\\sum_{i=1}^{n}(x_i-\\overline{x})^2\\right)}{n}}=\\sqrt{\\frac{E\\left(\\sum_{i=1}^{n}x_i^2-n\\overline{x}^2)\\right)}{n}}=\\sqrt{\\frac{\\sum_{i=1}^{n}Ex_i^2-nE(\\overline{x}^2))}{n}}=\\sqrt{\\frac{n(a^2+\\sigma^2)-n(\\frac{\\sigma^2}{n}+a^2)}{n}}=\\\\\n",
    "\\sqrt{\\frac{na^2+n\\sigma^2-\\sigma^2-na^2}{n}}=\\sqrt{\\frac{\\sigma^2(n-1)}{n}}=\\frac{\\sigma\\sqrt{(n-1)}}{\\sqrt{{n}}}$\n",
    "\n",
    "Смещение $b_g(\\sigma)=E(\\widehat{\\sigma})-\\sigma=\\frac{\\sigma\\sqrt{(n-1)}}{\\sqrt{n}}-\\sigma$, значит оценка смещенная\n",
    "\n",
    "Чтобы убрать смещение домножим на $\\frac{\\sqrt{n}}{\\sqrt{n-1}}$: $\\frac{\\sqrt{n}}{\\sqrt{n-1}}\\widehat{\\sigma}=\\frac{\\sqrt{n}}{\\sqrt{n-1}}s=\\frac{\\sqrt{\\sum_{i=1}^{n}(x_i-\\overline{x})^2}}{\\sqrt{n-1}}$"
   ]
  },
  {
   "cell_type": "markdown",
   "id": "38640527-3c25-450c-9d2c-16703bd2f0c0",
   "metadata": {},
   "source": [
    "### di) Построить доверительные интервалы уровня значимости $\\alpha_2=0.20$ для параметров $(a,\\sigma)$."
   ]
  },
  {
   "attachments": {},
   "cell_type": "markdown",
   "id": "cac21513-db03-4845-9569-04cda2e55fad",
   "metadata": {},
   "source": [
    "$\\sqrt{n-1}\\frac{\\overline{x}-a}{s}\\sim S_{n-1}$\n",
    "\n",
    "$P_\\theta\\left(  \\sqrt{n-1}\\frac{\\overline{x}-a}{s}\\in\\left[ x_{1\\alpha};x_{2\\alpha} \\right]\\right)=1-\\alpha$\n",
    "\n",
    "$P_\\theta\\left(  \\sqrt{n-1}\\frac{\\overline{x}-a}{s}\\in\\left[ -x_{\\alpha};x_{\\alpha} \\right]\\right)=1-\\alpha$\n",
    "\n",
    "$x_\\alpha:S_{n-1}(x_\\alpha)=1-\\frac{\\alpha}{2}=0.9$\n",
    "\n",
    "$x_\\alpha \\approx 1.299$\n",
    "\n",
    "$P_\\theta\\left(  -x_{\\alpha}\\le \\sqrt{n-1}\\frac{\\overline{x}-a}{s}\\le x_{\\alpha}\\right)=1-\\alpha$\n",
    "\n",
    "$a \\in\\left[\\overline{x}-\\frac{x_\\alpha s}{\\sqrt{n-1}}; \\overline{x}+\\frac{x_\\alpha s}{\\sqrt{n-1}} \\right]$\n",
    "\n",
    "$a \\in\\left[-3.006-\\frac{1.299 \\cdot 0.1961}{\\sqrt{49}}; -3.006+\\frac{1.299 \\cdot 0.1961}{\\sqrt{49}} \\right]$\n",
    "\n",
    "$a \\in\\left[-3.042; -2.970\\right]$\n",
    "\n",
    "$\\frac{ns^2}{\\sigma^2}\\sim \\chi_{n-1}^2$\n",
    "\n",
    "$P_\\theta\\left(  \\frac{ns^2}{\\sigma^2}\\in\\left[ x_{1\\alpha};x_{2\\alpha} \\right]\\right)=1-\\alpha$\n",
    "\n",
    "$x_{1\\alpha}:K_{n-1}(x_{1\\alpha})=\\frac{\\alpha}{2}=0.1$\n",
    "\n",
    "$x_{2\\alpha}:K_{n-1}(x_{2\\alpha})=1-\\frac{\\alpha}{2}=0.9$\n",
    "\n",
    "$x_{1\\alpha} \\approx 36.818;\\space x_{2\\alpha}\\approx 62.038$\n",
    "\n",
    "$P_\\theta\\left(  x_{1\\alpha}\\le \\frac{ns^2}{\\sigma^2}\\le x_{2\\alpha}\\right)=1-\\alpha$\n",
    "\n",
    "$\\sigma^2 \\in\\left[\\frac{ns^2}{x_{2\\alpha}}; \\frac{ns^2}{x_{1\\alpha}} \\right]$\n",
    "\n",
    "$\\sigma^2 \\in\\left[\\frac{50\\cdot 0.038}{62.038}; \\frac{50\\cdot 0.038}{36.818} \\right]$\n",
    "\n",
    "$\\sigma^2 \\in\\left[0.0306; 0.0516 \\right]$\n",
    "\n",
    "$\\sigma \\in\\left[0.1749; 0.2272 \\right]$"
   ]
  },
  {
   "cell_type": "markdown",
   "id": "c85f2f14-880d-4004-b4bd-7c70c874917b",
   "metadata": {},
   "source": [
    "### ei) С использованием теоремы Колмогорова построить критерий значимости проверки простой гипотезы согласия с распределением Лапласа с параметрами $(a_0,\\sigma_0)$. Проверить гипотезу на уровне значимости $\\alpha_2.$ Вычислить наибольшее значение уровня значимости, на котором еще нет оснований отвергнуть данную гипотезу."
   ]
  },
  {
   "cell_type": "markdown",
   "id": "c2cb7b8c-913f-494d-a25f-46345087bfa9",
   "metadata": {},
   "source": [
    "Пусть $X_1,\\dots, X_n$ - выборка из распределения с функцией распределения F.\n",
    "\n",
    "Основная гипотеза согласия $H_0 : F \\equiv \\mathcal{L}(a_0,\\sigma_0)$\n",
    "\n",
    "Альтернатива $H_A :  F(x) \\neq \\mathcal{L}(a_0,\\sigma_0)$ при некотором $x\\in \\mathbb{R}$\n",
    "\n",
    "Критерий уровня значимости $\\alpha_2$:\n",
    "\n",
    "$\\phi(x) = 0$, при $\\widehat{D_n} \\le x_{\\alpha_2}$\n",
    "\n",
    "$\\phi(x) = 1$, при $\\widehat{D_n} > x_{\\alpha_2}$\n",
    "\n",
    "где $x_{\\alpha_2} : K(x_{\\alpha_2} / \\sqrt{n}) = 1 - \\alpha_2$"
   ]
  },
  {
   "cell_type": "code",
   "execution_count": 79,
   "id": "7afb3c57-abf5-41ad-8041-65b32d9c08e5",
   "metadata": {},
   "outputs": [
    {
     "name": "stdout",
     "output_type": "stream",
     "text": [
      "Статистика критерия Колмогорова: 0.9605277967788094\n",
      "X_alpha_2 : 7.585482161120991\n"
     ]
    }
   ],
   "source": [
    "from scipy.integrate import quad\n",
    "\n",
    "def F(arr, x):\n",
    "    return (np.sum(np.array(arr) < x))/50\n",
    "\n",
    "\n",
    "def laplace(x, a, sigma):\n",
    "    return (1 / (np.sqrt(2) * sigma)) * np.exp(-np.sqrt(2) / sigma * np.abs(x - a))\n",
    "\n",
    "integ_function = lambda x: laplace_pdf(x, a_0, sigma_0)\n",
    "\n",
    "def compute_probabilities(x_values, a, sigma):\n",
    "    probabilities = []\n",
    "\n",
    "    for x in x_values:\n",
    "        # Вычисление интеграла для каждого значения в диапазоне\n",
    "        probability, _ = quad(laplace, -np.inf, x, args=(a, sigma))\n",
    "        probabilities.append(probability)\n",
    "\n",
    "    return probabilities\n",
    "\n",
    "# Вычисление массива вероятностей\n",
    "probabilities = compute_probabilities(variational_series2, a_0, sigma_0)\n",
    "\n",
    "D = 0\n",
    "for x in variational_series2:\n",
    "    i=0;\n",
    "    if (D < np.abs(F(variational_series2,x,) -probabilities[i] )):\n",
    "        D = np.abs(F(variational_series2,x,) -probabilities[i] )\n",
    "    i+=1\n",
    "    \n",
    "x_alpha_2=kstwobign.ppf(1 - alpha_2) * np.sqrt(len(variational_series2))\n",
    "print(\"Статистика критерия Колмогорова:\", D)\n",
    "print(\"X_alpha_2 :\", x_alpha_2)"
   ]
  },
  {
   "cell_type": "markdown",
   "id": "6a22fca7-b7f8-4985-9c87-3f8d59661f51",
   "metadata": {},
   "source": [
    "$\\widehat{D_n} \\approx 0.9605$\n",
    "\n",
    "$x_{\\alpha_2} \\approx 7.5855$\n",
    "\n",
    "$\\widehat{D_n} \\le x_{\\alpha_2}$ значит гипотеза принимается"
   ]
  },
  {
   "cell_type": "markdown",
   "id": "588f7d7c-ceae-4a22-ae4c-877b1e153ba0",
   "metadata": {},
   "source": [
    "### fi) Используя гистограмму частот, построить критерий значимости $\\chi^2$ проверки простой гипотезы согласия с распределением Лапласа с параметрами $(a_0,\\sigma_0)$. Проверить гипотезу на уровне значимости $\\alpha_2$. Вычислить наибольшее значение уровня значимости, на котором еще нет оснований отвергнуть данную гипотезу."
   ]
  },
  {
   "cell_type": "code",
   "execution_count": 80,
   "id": "5fdf13be-fbf7-40c2-91d6-9d0c5bfe03a2",
   "metadata": {},
   "outputs": [
    {
     "data": {
      "image/png": "[encoded data removed]",
      "text/plain": [
       "<Figure size 640x480 with 1 Axes>"
      ]
     },
     "metadata": {},
     "output_type": "display_data"
    }
   ],
   "source": [
    "plt.hist(variational_series2,bins='auto',edgecolor='black')\n",
    "plt.title('Гистограмма частот')\n",
    "plt.xlabel('Значение')\n",
    "plt.ylabel('Частота')\n",
    "plt.show()"
   ]
  },
  {
   "attachments": {},
   "cell_type": "markdown",
   "id": "b873de48-388a-4cea-81b4-dba182ca6e37",
   "metadata": {},
   "source": [
    "Пусть $X_1,\\dots, X_n$ - выборка из распределения с функцией распределения F.\n",
    "\n",
    "Основная гипотеза согласия $H_0 : F \\equiv \\mathcal{L}(a_0,\\sigma_0)$\n",
    "\n",
    "Альтернатива $H_A :  F(x) \\neq \\mathcal{L}(a_0,\\sigma_0)$ при некотором $x\\in \\mathbb{R}$\n",
    "\n",
    "Выделим новые интервалы,чтобы в каждый попадало не менее 5 значений:\n",
    "\n",
    "$I_1=(-\\infty;-3.189];\\space I_2=(-3.189;-3.06];\\space I_3=(-3.06;-2.946 ];\\space I_4=(-2.946 ;-2.791];\\space I_5=(-2.791;\\infty)$\n",
    "\n",
    "Абсолютные частоты:\n",
    "$\\nu_1=8;\\space \\nu_2=10;\\space \\nu_3=16;\\space \\nu_4=10;\\space \\nu_5=6$\n"
   ]
  },
  {
   "cell_type": "code",
   "execution_count": 81,
   "id": "1786d1b0-daab-4a9c-8cc0-df6a8777d2e6",
   "metadata": {},
   "outputs": [
    {
     "name": "stdout",
     "output_type": "stream",
     "text": [
      "Ожидаемые частоты:  6.569541271869545 9.786736024443815 16.57857627272791 11.361973626143918 5.70317280359731\n",
      "Статистика критерия хи-квадрат : 0.5150186801819752\n",
      "X_alpha : 5.988616694004245\n"
     ]
    }
   ],
   "source": [
    "observed=np.array([8,10,16,10,6])\n",
    "borders=np.array([-3.189,-3.06,-2.946,-2.791])\n",
    "expected=np.array([0.0,0.0,0.0,0.0,0.0])\n",
    "probabilities2=np.array([0.1313908254373909,0.1957347204888763,0.3315715254545582,0.22723947252287835,0.1140634560719462])\n",
    "\n",
    "for i in range(len(probabilities2)):\n",
    "    expected[i]= 50*(probabilities2[i])\n",
    "# Вычисление статистики критерия хи-квадрат\n",
    "chi_squared_stat = np.sum((observed - expected)**2 / expected)\n",
    "\n",
    "# Критическое значение для выбранного уровня значимости\n",
    "critical_value = chi2.ppf(1 - alpha_2, len(observed)-1)\n",
    "\n",
    "print('Ожидаемые частоты: ',*expected)\n",
    "print(\"Статистика критерия хи-квадрат :\", chi_squared_stat)\n",
    "print(\"X_alpha :\", critical_value)"
   ]
  },
  {
   "attachments": {},
   "cell_type": "markdown",
   "id": "e01a84a8-3371-414f-b026-2088810b7d00",
   "metadata": {},
   "source": [
    "Ожидаемые частоты $np_{0i}$: $\\space np_{01}=6.570;\\space np_{02}=9.787;\\space np_{03}=16.579;\\space np_{04}=11.362;\\space np_{05}=5.703$\n",
    "\n",
    "$\\chi^2 \\approx 0.515$\n",
    "\n",
    "$x_{\\alpha_2} \\approx 5.9886$\n",
    "\n",
    "$\\chi^2 < x_{\\alpha_2}$ значит гипотеза принимается"
   ]
  },
  {
   "cell_type": "code",
   "execution_count": 82,
   "id": "f9ddd13b-1074-44cd-aeb8-329007c5e2eb",
   "metadata": {
    "scrolled": true
   },
   "outputs": [
    {
     "name": "stdout",
     "output_type": "stream",
     "text": [
      "Наибольшее значение уровня значимости, на котором еще нет оснований отвергнуть данную гипотезу: 0.9720225359866002\n"
     ]
    }
   ],
   "source": [
    "print(\"Наибольшее значение уровня значимости, на котором еще нет оснований отвергнуть данную гипотезу:\",chi2.sf(chi_squared_stat, len(observed)-1))"
   ]
  },
  {
   "cell_type": "markdown",
   "id": "fe0ccae7-bc83-4c8a-a1d4-beaa7bb73cc1",
   "metadata": {},
   "source": [
    "### gi) Построить критерий проверки значимости $\\chi^2$ сложной гипотезы согласия с распределения Лапласа. Проверить гипотезу на уровне значимости $\\alpha_2$. Вычислить наибольшее значение уровня значимости, на котором еще нет оснований отвергнуть данную гипотезу."
   ]
  },
  {
   "attachments": {},
   "cell_type": "markdown",
   "id": "8a67977d-071b-4cea-b852-50919a8c31b3",
   "metadata": {},
   "source": [
    "Пусть $X_1,\\dots, X_n$ - выборка из распределения с функцией распределения F.\n",
    "\n",
    "Основная гипотеза согласия $H_0 : F \\equiv \\mathcal{L}(a,\\sigma)$\n",
    "\n",
    "Альтернатива $H_A :  F(x) \\neq \\mathcal{L}(a,\\sigma)$ при некотором $x\\in \\mathbb{R}$\n",
    "\n",
    "Возьмем ОМП в качестве оценки неизвестных параметров : $(\\widehat{a},\\widehat{\\sigma})=(-3.013,0.2137)$\n",
    "\n",
    "Выделим новые интервалы,чтобы в каждый попадало не менее 5 значений:\n",
    "\n",
    "$I_1=(-\\infty;-3.189];\\space I_2=(-3.189;-3.06];\\space I_3=(-3.06;-2.946 ];\\space I_4=(-2.946 ;-2.791];\\space I_5=(-2.791;\\infty)$\n",
    "\n",
    "Абсолютные частоты:\n",
    "$\\nu_1=8;\\space \\nu_2=10;\\space \\nu_3=16;\\space \\nu_4=10;\\space \\nu_5=6$\n"
   ]
  },
  {
   "cell_type": "code",
   "execution_count": 83,
   "id": "91a517cd-0181-4c82-9c8d-cc49454ece72",
   "metadata": {},
   "outputs": [
    {
     "name": "stdout",
     "output_type": "stream",
     "text": [
      "Ожидаемые частоты:  7.800216625685949 10.517001334968327 15.636351092789152 10.293353476359995 5.753077462184501\n",
      "Статистика критерия хи-квадрат : 0.05794759168058966\n",
      "X_alpha : 3.218875824868201\n"
     ]
    }
   ],
   "source": [
    "observed=np.array([8,10,16,10,6])\n",
    "borders=np.array([-3.189,-3.06,-2.946,-2.791])\n",
    "expected=np.array([0.0,0.0,0.0,0.0,0.0])\n",
    "probabilities3=np.array([0.15600433251371898,0.21034002669936655,0.31272702185578305,0.20586706952719988,0.11506154924369001])\n",
    "integ_function2 = lambda x: laplace_pdf(x, -3.013, 0.2137)\n",
    "\n",
    "for i in range(len(probabilities3)):\n",
    "    expected[i]= 50*(probabilities3[i])\n",
    "# Вычисление статистики критерия хи-квадрат\n",
    "chi_squared_stat = np.sum((observed - expected)**2 / expected)\n",
    "\n",
    "# Критическое значение для выбранного уровня значимости\n",
    "critical_value = chi2.ppf(1 - alpha_2, len(observed)-1-2)\n",
    "\n",
    "print('Ожидаемые частоты: ',*expected)\n",
    "print(\"Статистика критерия хи-квадрат :\", chi_squared_stat)\n",
    "print(\"X_alpha :\", critical_value)"
   ]
  },
  {
   "attachments": {},
   "cell_type": "markdown",
   "id": "7bb5a862-0953-4a8f-953a-693cb31a1ddc",
   "metadata": {},
   "source": [
    "Ожидаемые частоты $np_{0i}$: $\\space np_{01}=7.800;\\space np_{02}=10.517;\\space np_{03}=15.636;\\space np_{04}=10.293;\\space np_{05}=5.753$\n",
    "\n",
    "$\\chi^2 \\approx 0.058$\n",
    "\n",
    "$x_{\\alpha_2} \\approx 3.219$\n",
    "\n",
    "$\\chi^2 < x_{\\alpha_2}$ значит гипотеза принимается"
   ]
  },
  {
   "cell_type": "code",
   "execution_count": 84,
   "id": "8072d8bc-412f-4c91-ae4c-234dc5eba4dc",
   "metadata": {},
   "outputs": [
    {
     "name": "stdout",
     "output_type": "stream",
     "text": [
      "Наибольшее значение уровня значимости, на котором еще нет оснований отвергнуть данную гипотезу: 0.9714419199522982\n"
     ]
    }
   ],
   "source": [
    "print(\"Наибольшее значение уровня значимости, на котором еще нет оснований отвергнуть данную гипотезу:\",chi2.sf(chi_squared_stat, len(observed)-1-2))"
   ]
  },
  {
   "cell_type": "markdown",
   "id": "baafbde8-9304-4175-a292-2cff4d5fb5a0",
   "metadata": {},
   "source": [
    "## Выводы"
   ]
  },
  {
   "cell_type": "markdown",
   "id": "dd96022f-c9b7-4220-87b8-12b4b05c440b",
   "metadata": {},
   "source": [
    "В ходе выполнения данной практической работы были изучены методы математической статистики для решения задач статистического анализа и их реализация в языке Python. Были вычислены выборочные числовые характеристики выборок, изучены различные способы проверки гипотез и выполнено оценивание параметров. "
   ]
  }
 ],
 "metadata": {
  "kernelspec": {
   "display_name": "Python 3 (ipykernel)",
   "language": "python",
   "name": "python3"
  },
  "language_info": {
   "codemirror_mode": {
    "name": "ipython",
    "version": 3
   },
   "file_extension": ".py",
   "mimetype": "text/x-python",
   "name": "python",
   "nbconvert_exporter": "python",
   "pygments_lexer": "ipython3",
   "version": "3.11.5"
  }
 },
 "nbformat": 4,
 "nbformat_minor": 5
}
