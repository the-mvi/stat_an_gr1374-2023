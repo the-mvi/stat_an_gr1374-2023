{
  "nbformat": 4,
  "nbformat_minor": 0,
  "metadata": {
    "colab": {
      "provenance": []
    },
    "kernelspec": {
      "name": "python3",
      "display_name": "Python 3"
    },
    "language_info": {
      "name": "python"
    }
  },
  "cells": [
    {
      "cell_type": "markdown",
      "source": [
        "# Практическая работа №3: Регрессионный анализ. Вариант 15\n",
        "\n",
        "Выполнил студент гр. 1374 Мухамедрахимов Тимур"
      ],
      "metadata": {
        "id": "D4iZJ4dQO4v8"
      }
    },
    {
      "cell_type": "markdown",
      "source": [
        "##Цель работы\n",
        "\n",
        "Ознакомление с основными положениями метода наименьших квадратов (МНК), со статистическими свойствами МНК-оценок, с понятием функции регрессии и роли МНК в регрессионном анализе."
      ],
      "metadata": {
        "id": "TBtmx-W-lxyX"
      }
    },
    {
      "cell_type": "markdown",
      "source": [
        "## Постановка задачи\n",
        "\n",
        "Результаты статистического эксперимента представлены в виде двух переменных. Требуется оценить характер (случайной) зависимости переменной Y от переменной X. Полученные результаты содержательно проинтерпретировать."
      ],
      "metadata": {
        "id": "RrAONuI-l4nl"
      }
    },
    {
      "cell_type": "markdown",
      "source": [
        "## Основные теоретические положения"
      ],
      "metadata": {
        "id": "-HyJsTCSmEOB"
      }
    },
    {
      "cell_type": "markdown",
      "source": [
        "1. Регрессионная модель здается соотношением:\n",
        "\n",
        "$\\mathbb{E}(Y|z) = X^{T}\\beta$\n",
        "\n",
        "$Y$ - вектор $n \\times 1$ наблюдений\n",
        "\n",
        "$z$ - соответствующие значения ковариат, определяющие $m \\times n$ матрицу регрессоров $X = X(z)$\n",
        "\n",
        "$\\beta - (m \\times 1)$ вектор параметров модели\n",
        "\n",
        "Альтернативная форма записи модели:\n",
        "\n",
        "$Y = X^{T}\\beta + ϵ$\n",
        "\n",
        "$ϵ - (n \\times 1) - вектор ошибок, \\mathbb{E}ϵ = 0$\n",
        "\n",
        "\\\\\n",
        "\n",
        "2. Метод наименьших квадратов:\n",
        "\n",
        "$RSS(\\beta) = ||Y - X^{T}\\beta||^{2} =  (Y - X^{T}\\beta)^{T}(Y - X^{T}\\beta) → min$\n",
        "\n",
        "Нормальные уравнения:\n",
        "XX^{T}\\beta = XY\n",
        "\n",
        "Решение в регулярном случае:\n",
        "\n",
        "$\\beta = (XX^{T})^{-1}XY$\n",
        "\n",
        "Оценка параметра $σ^{2}$:\n",
        "\n",
        "$s^{2} = SS_{e}/(n-r) = RSS(\\hat\\beta)/(n-r)$\n",
        "\n",
        "где $r = rank(X)$\n",
        "\n",
        "\\\\\n",
        "\n",
        "3. ДНО-функция:\n",
        "\n",
        "$\\psi(\\beta) = C^{T}\\beta$\n",
        "\n",
        "\\\\\n",
        "\n",
        "4. Доверительоне оценивание:\n",
        "\n",
        "Классическое предположение:\n",
        "\n",
        "$Y \\sim N(X^{T}\\beta, \\sigma^{2}E)$\n",
        "\n",
        "$\\epsilon \\sim N(0, \\sigma^{2}E)$\n",
        "\n",
        "Доверительный элипсоид уровня доверия 1 - $\\alpha$ параметра &\\psi&:\n",
        "\n",
        "$[A_{\\alpha} = \\{\\bar x: (\\bar x - \\hat \\psi)^{T} B^{-1} (\\bar x - \\hat \\psi)\\le qs^{2}x_{\\alpha} \\}]$\n",
        "\n",
        "где $x_{\\alpha}: F_{q, n-r}(x_{\\alpha}) = 1 - \\alpha$\n",
        "\n",
        "Доверительный интервал уровня доверия 1 - $\\alpha$:\n",
        "\n",
        "$[\\hat\\psi - x_{\\alpha}s\\sqrt b,\\hat\\psi + x_{\\alpha}s\\sqrt b] \\ni \\hat\\psi$\n",
        "\n",
        "где $x_{\\alpha}: S_{n-r}(x_{\\alpha}) = 1 - \\frac{\\alpha}{2}$\n",
        "\n",
        "\\\\\n",
        "\n",
        "5. Проверка гипотез:\n",
        "\n",
        "$H_{0}: \\psi = 0$\n",
        "\n",
        "$\\mathbb{F}$ - статистика:\n",
        "\n",
        "$\\mathbb{F} = \\frac{SS_{H}/q}{SS_{e}/(n-r)}$\n",
        "\n",
        "где:\n",
        "\n",
        "$SS_{H} = RSS(\\hat\\beta_{H}) - RSS(\\hat\\beta)$\n",
        "\n",
        "$SS_{H} = RSS(\\hat\\beta)$\n",
        "\n",
        "Граница критической области:\n",
        "\n",
        "$x_{\\alpha}: F_{q, n-r}(x_{\\alpha}) = 1-\\alpha$\n",
        "\n",
        "$p-value = 1 - F_{q, n-r}(\\mathbb{F})$"
      ],
      "metadata": {
        "id": "lZ2gBe09mXHZ"
      }
    },
    {
      "cell_type": "markdown",
      "source": [
        "## Выполнение работы"
      ],
      "metadata": {
        "id": "qMU2i2atUS5O"
      }
    },
    {
      "cell_type": "markdown",
      "source": [
        "###1. График результатов эксперимента. Линейная модель переменной Y относительно переменной X. МНК оценки параметров $β_{0}$ и $β_{1}$. Построение линии регрессии."
      ],
      "metadata": {
        "id": "wgJ_sjTjcM76"
      }
    },
    {
      "cell_type": "code",
      "source": [
        "import pandas as pd\n",
        "import matplotlib.pyplot as plt\n",
        "import numpy as np\n",
        "from numpy.linalg import inv\n",
        "from IPython.display import Markdown as md\n",
        "import scipy.stats as sps\n",
        "import scipy\n",
        "import sympy\n",
        "import random"
      ],
      "metadata": {
        "id": "UohhzyZUT4vA"
      },
      "execution_count": null,
      "outputs": []
    },
    {
      "cell_type": "code",
      "execution_count": null,
      "metadata": {
        "id": "lf8FC5YMP8JV"
      },
      "outputs": [],
      "source": [
        "Y = '13.12 16.58 13.15 9.80 8.98 17.31 20.60 17.22 7.46 12.59 13.50 13.11 16.93 12.69 17.53 10.82 10.76 14.25 13.52 15.47 10.21 23.26 15.66 14.89 12.16 9.77 9.71 18.13 13.98 17.37 16.83 18.70 15.10 10.21 17.45 15.46 17.10 16.41 8.34 17.54 15.09 15.84 12.93 12.30 15.87 15.98 12.53 11.56 13.28 17.78'\n",
        "X = '0 1 8 4 5 2 4 6 6 0 3 1 5 4 0 8 1 6 5 6 3 3 1 8 5 7 3 5 1 1 4 6 3 3 2 1 5 4 0 3 4 3 4 2 6 4 1 0 3 1'"
      ]
    },
    {
      "cell_type": "code",
      "source": [
        "X = np.array(X.split()).astype(float)\n",
        "Y = np.array(Y.split()).astype(float)"
      ],
      "metadata": {
        "id": "jdMprLdGTuh_"
      },
      "execution_count": null,
      "outputs": []
    },
    {
      "cell_type": "code",
      "source": [
        "df = pd.DataFrame({'X':X, 'Y':Y})"
      ],
      "metadata": {
        "id": "O0QSq7AtTzmp"
      },
      "execution_count": null,
      "outputs": []
    },
    {
      "cell_type": "markdown",
      "source": [
        "Табличные данные:"
      ],
      "metadata": {
        "id": "MeN_oALyGDOO"
      }
    },
    {
      "cell_type": "code",
      "source": [
        "df"
      ],
      "metadata": {
        "id": "CigP2Oq_T0LL",
        "colab": {
          "base_uri": "https://localhost:8080/",
          "height": 1000
        },
        "outputId": "7a8ae747-5561-4676-9dec-8b5b007ea190"
      },
      "execution_count": null,
      "outputs": [
        {
          "output_type": "execute_result",
          "data": {
            "text/plain": [
              "      X      Y\n",
              "0   0.0  13.12\n",
              "1   1.0  16.58\n",
              "2   8.0  13.15\n",
              "3   4.0   9.80\n",
              "4   5.0   8.98\n",
              "5   2.0  17.31\n",
              "6   4.0  20.60\n",
              "7   6.0  17.22\n",
              "8   6.0   7.46\n",
              "9   0.0  12.59\n",
              "10  3.0  13.50\n",
              "11  1.0  13.11\n",
              "12  5.0  16.93\n",
              "13  4.0  12.69\n",
              "14  0.0  17.53\n",
              "15  8.0  10.82\n",
              "16  1.0  10.76\n",
              "17  6.0  14.25\n",
              "18  5.0  13.52\n",
              "19  6.0  15.47\n",
              "20  3.0  10.21\n",
              "21  3.0  23.26\n",
              "22  1.0  15.66\n",
              "23  8.0  14.89\n",
              "24  5.0  12.16\n",
              "25  7.0   9.77\n",
              "26  3.0   9.71\n",
              "27  5.0  18.13\n",
              "28  1.0  13.98\n",
              "29  1.0  17.37\n",
              "30  4.0  16.83\n",
              "31  6.0  18.70\n",
              "32  3.0  15.10\n",
              "33  3.0  10.21\n",
              "34  2.0  17.45\n",
              "35  1.0  15.46\n",
              "36  5.0  17.10\n",
              "37  4.0  16.41\n",
              "38  0.0   8.34\n",
              "39  3.0  17.54\n",
              "40  4.0  15.09\n",
              "41  3.0  15.84\n",
              "42  4.0  12.93\n",
              "43  2.0  12.30\n",
              "44  6.0  15.87\n",
              "45  4.0  15.98\n",
              "46  1.0  12.53\n",
              "47  0.0  11.56\n",
              "48  3.0  13.28\n",
              "49  1.0  17.78"
            ],
            "text/html": [
              "\n",
              "  <div id=\"df-96ace4e4-5e8b-4911-bd56-a4b68d282507\" class=\"colab-df-container\">\n",
              "    <div>\n",
              "<style scoped>\n",
              "    .dataframe tbody tr th:only-of-type {\n",
              "        vertical-align: middle;\n",
              "    }\n",
              "\n",
              "    .dataframe tbody tr th {\n",
              "        vertical-align: top;\n",
              "    }\n",
              "\n",
              "    .dataframe thead th {\n",
              "        text-align: right;\n",
              "    }\n",
              "</style>\n",
              "<table border=\"1\" class=\"dataframe\">\n",
              "  <thead>\n",
              "    <tr style=\"text-align: right;\">\n",
              "      <th></th>\n",
              "      <th>X</th>\n",
              "      <th>Y</th>\n",
              "    </tr>\n",
              "  </thead>\n",
              "  <tbody>\n",
              "    <tr>\n",
              "      <th>0</th>\n",
              "      <td>0.0</td>\n",
              "      <td>13.12</td>\n",
              "    </tr>\n",
              "    <tr>\n",
              "      <th>1</th>\n",
              "      <td>1.0</td>\n",
              "      <td>16.58</td>\n",
              "    </tr>\n",
              "    <tr>\n",
              "      <th>2</th>\n",
              "      <td>8.0</td>\n",
              "      <td>13.15</td>\n",
              "    </tr>\n",
              "    <tr>\n",
              "      <th>3</th>\n",
              "      <td>4.0</td>\n",
              "      <td>9.80</td>\n",
              "    </tr>\n",
              "    <tr>\n",
              "      <th>4</th>\n",
              "      <td>5.0</td>\n",
              "      <td>8.98</td>\n",
              "    </tr>\n",
              "    <tr>\n",
              "      <th>5</th>\n",
              "      <td>2.0</td>\n",
              "      <td>17.31</td>\n",
              "    </tr>\n",
              "    <tr>\n",
              "      <th>6</th>\n",
              "      <td>4.0</td>\n",
              "      <td>20.60</td>\n",
              "    </tr>\n",
              "    <tr>\n",
              "      <th>7</th>\n",
              "      <td>6.0</td>\n",
              "      <td>17.22</td>\n",
              "    </tr>\n",
              "    <tr>\n",
              "      <th>8</th>\n",
              "      <td>6.0</td>\n",
              "      <td>7.46</td>\n",
              "    </tr>\n",
              "    <tr>\n",
              "      <th>9</th>\n",
              "      <td>0.0</td>\n",
              "      <td>12.59</td>\n",
              "    </tr>\n",
              "    <tr>\n",
              "      <th>10</th>\n",
              "      <td>3.0</td>\n",
              "      <td>13.50</td>\n",
              "    </tr>\n",
              "    <tr>\n",
              "      <th>11</th>\n",
              "      <td>1.0</td>\n",
              "      <td>13.11</td>\n",
              "    </tr>\n",
              "    <tr>\n",
              "      <th>12</th>\n",
              "      <td>5.0</td>\n",
              "      <td>16.93</td>\n",
              "    </tr>\n",
              "    <tr>\n",
              "      <th>13</th>\n",
              "      <td>4.0</td>\n",
              "      <td>12.69</td>\n",
              "    </tr>\n",
              "    <tr>\n",
              "      <th>14</th>\n",
              "      <td>0.0</td>\n",
              "      <td>17.53</td>\n",
              "    </tr>\n",
              "    <tr>\n",
              "      <th>15</th>\n",
              "      <td>8.0</td>\n",
              "      <td>10.82</td>\n",
              "    </tr>\n",
              "    <tr>\n",
              "      <th>16</th>\n",
              "      <td>1.0</td>\n",
              "      <td>10.76</td>\n",
              "    </tr>\n",
              "    <tr>\n",
              "      <th>17</th>\n",
              "      <td>6.0</td>\n",
              "      <td>14.25</td>\n",
              "    </tr>\n",
              "    <tr>\n",
              "      <th>18</th>\n",
              "      <td>5.0</td>\n",
              "      <td>13.52</td>\n",
              "    </tr>\n",
              "    <tr>\n",
              "      <th>19</th>\n",
              "      <td>6.0</td>\n",
              "      <td>15.47</td>\n",
              "    </tr>\n",
              "    <tr>\n",
              "      <th>20</th>\n",
              "      <td>3.0</td>\n",
              "      <td>10.21</td>\n",
              "    </tr>\n",
              "    <tr>\n",
              "      <th>21</th>\n",
              "      <td>3.0</td>\n",
              "      <td>23.26</td>\n",
              "    </tr>\n",
              "    <tr>\n",
              "      <th>22</th>\n",
              "      <td>1.0</td>\n",
              "      <td>15.66</td>\n",
              "    </tr>\n",
              "    <tr>\n",
              "      <th>23</th>\n",
              "      <td>8.0</td>\n",
              "      <td>14.89</td>\n",
              "    </tr>\n",
              "    <tr>\n",
              "      <th>24</th>\n",
              "      <td>5.0</td>\n",
              "      <td>12.16</td>\n",
              "    </tr>\n",
              "    <tr>\n",
              "      <th>25</th>\n",
              "      <td>7.0</td>\n",
              "      <td>9.77</td>\n",
              "    </tr>\n",
              "    <tr>\n",
              "      <th>26</th>\n",
              "      <td>3.0</td>\n",
              "      <td>9.71</td>\n",
              "    </tr>\n",
              "    <tr>\n",
              "      <th>27</th>\n",
              "      <td>5.0</td>\n",
              "      <td>18.13</td>\n",
              "    </tr>\n",
              "    <tr>\n",
              "      <th>28</th>\n",
              "      <td>1.0</td>\n",
              "      <td>13.98</td>\n",
              "    </tr>\n",
              "    <tr>\n",
              "      <th>29</th>\n",
              "      <td>1.0</td>\n",
              "      <td>17.37</td>\n",
              "    </tr>\n",
              "    <tr>\n",
              "      <th>30</th>\n",
              "      <td>4.0</td>\n",
              "      <td>16.83</td>\n",
              "    </tr>\n",
              "    <tr>\n",
              "      <th>31</th>\n",
              "      <td>6.0</td>\n",
              "      <td>18.70</td>\n",
              "    </tr>\n",
              "    <tr>\n",
              "      <th>32</th>\n",
              "      <td>3.0</td>\n",
              "      <td>15.10</td>\n",
              "    </tr>\n",
              "    <tr>\n",
              "      <th>33</th>\n",
              "      <td>3.0</td>\n",
              "      <td>10.21</td>\n",
              "    </tr>\n",
              "    <tr>\n",
              "      <th>34</th>\n",
              "      <td>2.0</td>\n",
              "      <td>17.45</td>\n",
              "    </tr>\n",
              "    <tr>\n",
              "      <th>35</th>\n",
              "      <td>1.0</td>\n",
              "      <td>15.46</td>\n",
              "    </tr>\n",
              "    <tr>\n",
              "      <th>36</th>\n",
              "      <td>5.0</td>\n",
              "      <td>17.10</td>\n",
              "    </tr>\n",
              "    <tr>\n",
              "      <th>37</th>\n",
              "      <td>4.0</td>\n",
              "      <td>16.41</td>\n",
              "    </tr>\n",
              "    <tr>\n",
              "      <th>38</th>\n",
              "      <td>0.0</td>\n",
              "      <td>8.34</td>\n",
              "    </tr>\n",
              "    <tr>\n",
              "      <th>39</th>\n",
              "      <td>3.0</td>\n",
              "      <td>17.54</td>\n",
              "    </tr>\n",
              "    <tr>\n",
              "      <th>40</th>\n",
              "      <td>4.0</td>\n",
              "      <td>15.09</td>\n",
              "    </tr>\n",
              "    <tr>\n",
              "      <th>41</th>\n",
              "      <td>3.0</td>\n",
              "      <td>15.84</td>\n",
              "    </tr>\n",
              "    <tr>\n",
              "      <th>42</th>\n",
              "      <td>4.0</td>\n",
              "      <td>12.93</td>\n",
              "    </tr>\n",
              "    <tr>\n",
              "      <th>43</th>\n",
              "      <td>2.0</td>\n",
              "      <td>12.30</td>\n",
              "    </tr>\n",
              "    <tr>\n",
              "      <th>44</th>\n",
              "      <td>6.0</td>\n",
              "      <td>15.87</td>\n",
              "    </tr>\n",
              "    <tr>\n",
              "      <th>45</th>\n",
              "      <td>4.0</td>\n",
              "      <td>15.98</td>\n",
              "    </tr>\n",
              "    <tr>\n",
              "      <th>46</th>\n",
              "      <td>1.0</td>\n",
              "      <td>12.53</td>\n",
              "    </tr>\n",
              "    <tr>\n",
              "      <th>47</th>\n",
              "      <td>0.0</td>\n",
              "      <td>11.56</td>\n",
              "    </tr>\n",
              "    <tr>\n",
              "      <th>48</th>\n",
              "      <td>3.0</td>\n",
              "      <td>13.28</td>\n",
              "    </tr>\n",
              "    <tr>\n",
              "      <th>49</th>\n",
              "      <td>1.0</td>\n",
              "      <td>17.78</td>\n",
              "    </tr>\n",
              "  </tbody>\n",
              "</table>\n",
              "</div>\n",
              "    <div class=\"colab-df-buttons\">\n",
              "\n",
              "  <div class=\"colab-df-container\">\n",
              "    <button class=\"colab-df-convert\" onclick=\"convertToInteractive('df-96ace4e4-5e8b-4911-bd56-a4b68d282507')\"\n",
              "            title=\"Convert this dataframe to an interactive table.\"\n",
              "            style=\"display:none;\">\n",
              "\n",
              "  <svg xmlns=\"http://www.w3.org/2000/svg\" height=\"24px\" viewBox=\"0 -960 960 960\">\n",
              "    <path d=\"M120-120v-720h720v720H120Zm60-500h600v-160H180v160Zm220 220h160v-160H400v160Zm0 220h160v-160H400v160ZM180-400h160v-160H180v160Zm440 0h160v-160H620v160ZM180-180h160v-160H180v160Zm440 0h160v-160H620v160Z\"/>\n",
              "  </svg>\n",
              "    </button>\n",
              "\n",
              "  <style>\n",
              "    .colab-df-container {\n",
              "      display:flex;\n",
              "      gap: 12px;\n",
              "    }\n",
              "\n",
              "    .colab-df-convert {\n",
              "      background-color: #E8F0FE;\n",
              "      border: none;\n",
              "      border-radius: 50%;\n",
              "      cursor: pointer;\n",
              "      display: none;\n",
              "      fill: #1967D2;\n",
              "      height: 32px;\n",
              "      padding: 0 0 0 0;\n",
              "      width: 32px;\n",
              "    }\n",
              "\n",
              "    .colab-df-convert:hover {\n",
              "      background-color: #E2EBFA;\n",
              "      box-shadow: 0px 1px 2px rgba(60, 64, 67, 0.3), 0px 1px 3px 1px rgba(60, 64, 67, 0.15);\n",
              "      fill: #174EA6;\n",
              "    }\n",
              "\n",
              "    .colab-df-buttons div {\n",
              "      margin-bottom: 4px;\n",
              "    }\n",
              "\n",
              "    [theme=dark] .colab-df-convert {\n",
              "      background-color: #3B4455;\n",
              "      fill: #D2E3FC;\n",
              "    }\n",
              "\n",
              "    [theme=dark] .colab-df-convert:hover {\n",
              "      background-color: #434B5C;\n",
              "      box-shadow: 0px 1px 3px 1px rgba(0, 0, 0, 0.15);\n",
              "      filter: drop-shadow(0px 1px 2px rgba(0, 0, 0, 0.3));\n",
              "      fill: #FFFFFF;\n",
              "    }\n",
              "  </style>\n",
              "\n",
              "    <script>\n",
              "      const buttonEl =\n",
              "        document.querySelector('#df-96ace4e4-5e8b-4911-bd56-a4b68d282507 button.colab-df-convert');\n",
              "      buttonEl.style.display =\n",
              "        google.colab.kernel.accessAllowed ? 'block' : 'none';\n",
              "\n",
              "      async function convertToInteractive(key) {\n",
              "        const element = document.querySelector('#df-96ace4e4-5e8b-4911-bd56-a4b68d282507');\n",
              "        const dataTable =\n",
              "          await google.colab.kernel.invokeFunction('convertToInteractive',\n",
              "                                                    [key], {});\n",
              "        if (!dataTable) return;\n",
              "\n",
              "        const docLinkHtml = 'Like what you see? Visit the ' +\n",
              "          '<a target=\"_blank\" href=https://colab.research.google.com/notebooks/data_table.ipynb>data table notebook</a>'\n",
              "          + ' to learn more about interactive tables.';\n",
              "        element.innerHTML = '';\n",
              "        dataTable['output_type'] = 'display_data';\n",
              "        await google.colab.output.renderOutput(dataTable, element);\n",
              "        const docLink = document.createElement('div');\n",
              "        docLink.innerHTML = docLinkHtml;\n",
              "        element.appendChild(docLink);\n",
              "      }\n",
              "    </script>\n",
              "  </div>\n",
              "\n",
              "\n",
              "<div id=\"df-8de315f4-b252-40ab-875c-d94374f9a1b1\">\n",
              "  <button class=\"colab-df-quickchart\" onclick=\"quickchart('df-8de315f4-b252-40ab-875c-d94374f9a1b1')\"\n",
              "            title=\"Suggest charts\"\n",
              "            style=\"display:none;\">\n",
              "\n",
              "<svg xmlns=\"http://www.w3.org/2000/svg\" height=\"24px\"viewBox=\"0 0 24 24\"\n",
              "     width=\"24px\">\n",
              "    <g>\n",
              "        <path d=\"M19 3H5c-1.1 0-2 .9-2 2v14c0 1.1.9 2 2 2h14c1.1 0 2-.9 2-2V5c0-1.1-.9-2-2-2zM9 17H7v-7h2v7zm4 0h-2V7h2v10zm4 0h-2v-4h2v4z\"/>\n",
              "    </g>\n",
              "</svg>\n",
              "  </button>\n",
              "\n",
              "<style>\n",
              "  .colab-df-quickchart {\n",
              "      --bg-color: #E8F0FE;\n",
              "      --fill-color: #1967D2;\n",
              "      --hover-bg-color: #E2EBFA;\n",
              "      --hover-fill-color: #174EA6;\n",
              "      --disabled-fill-color: #AAA;\n",
              "      --disabled-bg-color: #DDD;\n",
              "  }\n",
              "\n",
              "  [theme=dark] .colab-df-quickchart {\n",
              "      --bg-color: #3B4455;\n",
              "      --fill-color: #D2E3FC;\n",
              "      --hover-bg-color: #434B5C;\n",
              "      --hover-fill-color: #FFFFFF;\n",
              "      --disabled-bg-color: #3B4455;\n",
              "      --disabled-fill-color: #666;\n",
              "  }\n",
              "\n",
              "  .colab-df-quickchart {\n",
              "    background-color: var(--bg-color);\n",
              "    border: none;\n",
              "    border-radius: 50%;\n",
              "    cursor: pointer;\n",
              "    display: none;\n",
              "    fill: var(--fill-color);\n",
              "    height: 32px;\n",
              "    padding: 0;\n",
              "    width: 32px;\n",
              "  }\n",
              "\n",
              "  .colab-df-quickchart:hover {\n",
              "    background-color: var(--hover-bg-color);\n",
              "    box-shadow: 0 1px 2px rgba(60, 64, 67, 0.3), 0 1px 3px 1px rgba(60, 64, 67, 0.15);\n",
              "    fill: var(--button-hover-fill-color);\n",
              "  }\n",
              "\n",
              "  .colab-df-quickchart-complete:disabled,\n",
              "  .colab-df-quickchart-complete:disabled:hover {\n",
              "    background-color: var(--disabled-bg-color);\n",
              "    fill: var(--disabled-fill-color);\n",
              "    box-shadow: none;\n",
              "  }\n",
              "\n",
              "  .colab-df-spinner {\n",
              "    border: 2px solid var(--fill-color);\n",
              "    border-color: transparent;\n",
              "    border-bottom-color: var(--fill-color);\n",
              "    animation:\n",
              "      spin 1s steps(1) infinite;\n",
              "  }\n",
              "\n",
              "  @keyframes spin {\n",
              "    0% {\n",
              "      border-color: transparent;\n",
              "      border-bottom-color: var(--fill-color);\n",
              "      border-left-color: var(--fill-color);\n",
              "    }\n",
              "    20% {\n",
              "      border-color: transparent;\n",
              "      border-left-color: var(--fill-color);\n",
              "      border-top-color: var(--fill-color);\n",
              "    }\n",
              "    30% {\n",
              "      border-color: transparent;\n",
              "      border-left-color: var(--fill-color);\n",
              "      border-top-color: var(--fill-color);\n",
              "      border-right-color: var(--fill-color);\n",
              "    }\n",
              "    40% {\n",
              "      border-color: transparent;\n",
              "      border-right-color: var(--fill-color);\n",
              "      border-top-color: var(--fill-color);\n",
              "    }\n",
              "    60% {\n",
              "      border-color: transparent;\n",
              "      border-right-color: var(--fill-color);\n",
              "    }\n",
              "    80% {\n",
              "      border-color: transparent;\n",
              "      border-right-color: var(--fill-color);\n",
              "      border-bottom-color: var(--fill-color);\n",
              "    }\n",
              "    90% {\n",
              "      border-color: transparent;\n",
              "      border-bottom-color: var(--fill-color);\n",
              "    }\n",
              "  }\n",
              "</style>\n",
              "\n",
              "  <script>\n",
              "    async function quickchart(key) {\n",
              "      const quickchartButtonEl =\n",
              "        document.querySelector('#' + key + ' button');\n",
              "      quickchartButtonEl.disabled = true;  // To prevent multiple clicks.\n",
              "      quickchartButtonEl.classList.add('colab-df-spinner');\n",
              "      try {\n",
              "        const charts = await google.colab.kernel.invokeFunction(\n",
              "            'suggestCharts', [key], {});\n",
              "      } catch (error) {\n",
              "        console.error('Error during call to suggestCharts:', error);\n",
              "      }\n",
              "      quickchartButtonEl.classList.remove('colab-df-spinner');\n",
              "      quickchartButtonEl.classList.add('colab-df-quickchart-complete');\n",
              "    }\n",
              "    (() => {\n",
              "      let quickchartButtonEl =\n",
              "        document.querySelector('#df-8de315f4-b252-40ab-875c-d94374f9a1b1 button');\n",
              "      quickchartButtonEl.style.display =\n",
              "        google.colab.kernel.accessAllowed ? 'block' : 'none';\n",
              "    })();\n",
              "  </script>\n",
              "</div>\n",
              "    </div>\n",
              "  </div>\n"
            ]
          },
          "metadata": {},
          "execution_count": 121
        }
      ]
    },
    {
      "cell_type": "code",
      "source": [
        "plt.figure(figsize = (10, 5))\n",
        "plt.scatter(X,Y)\n",
        "plt.title('График наблюдений:')\n",
        "plt.ylabel('Y')\n",
        "plt.xlabel('X')\n",
        "plt.show()"
      ],
      "metadata": {
        "colab": {
          "base_uri": "https://localhost:8080/",
          "height": 487
        },
        "id": "ELfpXXTmUgBH",
        "outputId": "3c4a2625-c53c-440a-b06c-087f494e18ee"
      },
      "execution_count": null,
      "outputs": [
        {
          "output_type": "display_data",
          "data": {
            "text/plain": [
              "<Figure size 1000x500 with 1 Axes>"
            ],
            "image/png": "[encoded data removed]"
          },
          "metadata": {}
        }
      ]
    },
    {
      "cell_type": "markdown",
      "source": [
        "Линейная модель Y относительно X имеет вид:\n",
        "\n",
        "$ Y = X^{T}\\beta + ϵ$\n",
        "\n",
        "Оценка вектора параметров $\\beta$ по МНК:\n",
        "\n",
        "$\\beta = (XX^{T})^{-1}XY$"
      ],
      "metadata": {
        "id": "sI1oiMQrdBNz"
      }
    },
    {
      "cell_type": "code",
      "source": [
        "X_bias = np.insert(X.reshape(50, -1), 0, 1, axis = 1)#добавление свободного члена в матрицу Х"
      ],
      "metadata": {
        "id": "4slt4nH9UtET"
      },
      "execution_count": null,
      "outputs": []
    },
    {
      "cell_type": "code",
      "source": [
        "beta = (inv(X_bias.T.dot(X_bias)).dot(X_bias.T).dot(Y))"
      ],
      "metadata": {
        "id": "W9ZGUDG-jO0N"
      },
      "execution_count": null,
      "outputs": []
    },
    {
      "cell_type": "code",
      "source": [
        "print(beta.reshape(2,1))"
      ],
      "metadata": {
        "colab": {
          "base_uri": "https://localhost:8080/"
        },
        "id": "vR7sOTgvTgVW",
        "outputId": "5de4fb97-4dca-4335-9b93-36fedd29ecdd"
      },
      "execution_count": null,
      "outputs": [
        {
          "output_type": "stream",
          "name": "stdout",
          "text": [
            "[[14.46880799]\n",
            " [-0.03865731]]\n"
          ]
        }
      ]
    },
    {
      "cell_type": "markdown",
      "source": [
        "Оценки параметров $\\beta_{0}$ и $\\beta_{1}$:"
      ],
      "metadata": {
        "id": "VjMlpKnzGTGm"
      }
    },
    {
      "cell_type": "code",
      "source": [
        "beta_1 = beta[1]\n",
        "beta_0 = beta[0]"
      ],
      "metadata": {
        "id": "3bmlwf9jqYQF"
      },
      "execution_count": null,
      "outputs": []
    },
    {
      "cell_type": "code",
      "source": [
        "beta_0, beta_1"
      ],
      "metadata": {
        "colab": {
          "base_uri": "https://localhost:8080/"
        },
        "id": "2fXfiTXaU6z8",
        "outputId": "32deb9fd-1aac-482c-e9e2-4aafc4b838c2"
      },
      "execution_count": null,
      "outputs": [
        {
          "output_type": "execute_result",
          "data": {
            "text/plain": [
              "(14.468807994289802, -0.038657308271869945)"
            ]
          },
          "metadata": {},
          "execution_count": 127
        }
      ]
    },
    {
      "cell_type": "markdown",
      "source": [
        "$\\hat\\beta_{0} = 14.46880799$\n",
        "\n",
        "$\\hat\\beta_{1} = -0.03865731$:\n"
      ],
      "metadata": {
        "id": "qUhpPr7MGlQF"
      }
    },
    {
      "cell_type": "code",
      "source": [
        "plt.figure(figsize = (10, 5))\n",
        "plt.scatter(X,Y)\n",
        "plt.plot(X, X * beta_1 + beta_0, c = 'r')\n",
        "plt.title('График наблюдений и линия регрессии:')\n",
        "plt.ylabel('Y')\n",
        "plt.xlabel('X')\n",
        "plt.show()"
      ],
      "metadata": {
        "colab": {
          "base_uri": "https://localhost:8080/",
          "height": 487
        },
        "id": "T2I3RDgLvgUL",
        "outputId": "7396f6e9-78f6-4308-8520-f2c7e25c9c8c"
      },
      "execution_count": null,
      "outputs": [
        {
          "output_type": "display_data",
          "data": {
            "text/plain": [
              "<Figure size 1000x500 with 1 Axes>"
            ],
            "image/png": "[encoded data removed]"
          },
          "metadata": {}
        }
      ]
    },
    {
      "cell_type": "markdown",
      "source": [
        "Линия регрессии имеет небольшой коэффициент наклона, и это говорит о том, что зависимость очень близка к константной."
      ],
      "metadata": {
        "id": "t8LxtCi2wKW-"
      }
    },
    {
      "cell_type": "markdown",
      "source": [
        "###2. Построение несмещенной оценки дисперсии. Построение гистограммы на базе ошибок. Проверка гипотезы нормальности ошибок на уровне значимости $α$ по $χ^{2}$. Оценка расстояния полученной оценки до класса нормальных распределений по Колмогорову."
      ],
      "metadata": {
        "id": "i2VBS4GAzaA1"
      }
    },
    {
      "cell_type": "code",
      "source": [
        "np.linalg.matrix_rank(X_bias)#ранг матрицы X"
      ],
      "metadata": {
        "colab": {
          "base_uri": "https://localhost:8080/"
        },
        "id": "-04qENWkyyVM",
        "outputId": "d9358f68-20ff-4ea6-fdaf-3d35176d2fcf"
      },
      "execution_count": null,
      "outputs": [
        {
          "output_type": "execute_result",
          "data": {
            "text/plain": [
              "2"
            ]
          },
          "metadata": {},
          "execution_count": 129
        }
      ]
    },
    {
      "cell_type": "code",
      "source": [
        "beta = np.array([beta_0, beta_1])#вектор оценок параметров регрессии"
      ],
      "metadata": {
        "id": "OcrpqZZHCv-o"
      },
      "execution_count": null,
      "outputs": []
    },
    {
      "cell_type": "code",
      "source": [
        "beta"
      ],
      "metadata": {
        "colab": {
          "base_uri": "https://localhost:8080/"
        },
        "id": "du6sAHZaGLJP",
        "outputId": "79b8bea9-f388-4804-d479-ad611e22cbde"
      },
      "execution_count": null,
      "outputs": [
        {
          "output_type": "execute_result",
          "data": {
            "text/plain": [
              "array([14.46880799, -0.03865731])"
            ]
          },
          "metadata": {},
          "execution_count": 131
        }
      ]
    },
    {
      "cell_type": "code",
      "source": [
        "Y = np.array(Y)\n",
        "beta = np.array([beta_0, beta_1])\n",
        "def RSS(beta):\n",
        "    return (Y - X_bias.dot(beta)).T.dot(Y - X_bias.dot(beta))\n",
        "\n",
        "\n",
        "var_est = RSS(beta)/48\n",
        "print('Несмещенная оценка дисперсии:', var_est)"
      ],
      "metadata": {
        "colab": {
          "base_uri": "https://localhost:8080/"
        },
        "id": "7JKb6CzvzQxP",
        "outputId": "9f29964f-84fc-40b0-f6c9-a88473027ca7"
      },
      "execution_count": null,
      "outputs": [
        {
          "output_type": "stream",
          "name": "stdout",
          "text": [
            "Несмещенная оценка дисперсии: 11.0804097367621\n"
          ]
        }
      ]
    },
    {
      "cell_type": "code",
      "source": [
        "h = 1.8\n",
        "errors = Y - X_bias.dot(beta)\n",
        "bins = np.arange(errors.min(), errors.max() + h, h)\n",
        "plt.figure(figsize = (10,5))\n",
        "plt.hist(errors, bins = bins)\n",
        "plt.xlabel('errors')\n",
        "plt.ylabel('frequency')\n",
        "plt.title('Гистограмма ошибок')\n",
        "plt.grid()\n",
        "plt.show()"
      ],
      "metadata": {
        "colab": {
          "base_uri": "https://localhost:8080/",
          "height": 487
        },
        "id": "o2k8pFr5Fiay",
        "outputId": "fc0fdead-f752-48da-cbec-371716cf0ccb"
      },
      "execution_count": null,
      "outputs": [
        {
          "output_type": "display_data",
          "data": {
            "text/plain": [
              "<Figure size 1000x500 with 1 Axes>"
            ],
            "image/png": "[encoded data removed]"
          },
          "metadata": {}
        }
      ]
    },
    {
      "cell_type": "markdown",
      "source": [
        "Проверка гипотезы нормальности ошибок:"
      ],
      "metadata": {
        "id": "FZPSsjziHPAP"
      }
    },
    {
      "cell_type": "markdown",
      "source": [
        "$X_1, X_2, \\dots, X_n \\sim \\mathbb{p_{\\theta}(x)}$.\n",
        "\n",
        "$H_0 : p \\equiv N(0,s^{2})$\n",
        "\n",
        "$H_A : \\exists x : \\mathbb{p_{\\theta}(x)} \\neq p_{N(0,s^{2})}(x)$\n"
      ],
      "metadata": {
        "id": "VDSp7GcwGa5B"
      }
    },
    {
      "cell_type": "code",
      "source": [
        "X = np.array(X)\n",
        "Y = np.array(Y)"
      ],
      "metadata": {
        "id": "UoFCjeUYyXOQ"
      },
      "execution_count": null,
      "outputs": []
    },
    {
      "cell_type": "code",
      "source": [
        "n = 50\n",
        "alpha =  0.05\n",
        "borders = np.arange(-10, 10, 4)\n",
        "errors.sort()"
      ],
      "metadata": {
        "id": "09-vJzIXMXSe"
      },
      "execution_count": null,
      "outputs": []
    },
    {
      "cell_type": "code",
      "source": [
        "borders"
      ],
      "metadata": {
        "colab": {
          "base_uri": "https://localhost:8080/"
        },
        "id": "hoa-_WEzHW8L",
        "outputId": "084a0284-5b17-4aff-e046-29efa36e01eb"
      },
      "execution_count": null,
      "outputs": [
        {
          "output_type": "execute_result",
          "data": {
            "text/plain": [
              "array([-10,  -6,  -2,   2,   6])"
            ]
          },
          "metadata": {},
          "execution_count": 136
        }
      ]
    },
    {
      "cell_type": "code",
      "source": [
        "#абсолютные частоты\n",
        "v = []\n",
        "for i in range(1,len(borders)):\n",
        "    v.append(np.sum((errors < borders[i]) & (errors >= borders[i-1])))\n",
        "v.append(np.sum(errors >= borders[-1] ))\n",
        "v = np.array(v)"
      ],
      "metadata": {
        "id": "3o5DeU8BMcvd"
      },
      "execution_count": null,
      "outputs": []
    },
    {
      "cell_type": "code",
      "source": [
        "#теоретические частоты\n",
        "p = []\n",
        "for i in range(1,len(borders)):\n",
        "    p.append(sps.norm(0,np.sqrt(var_est)).cdf(borders[i]) - sps.norm(0,np.sqrt(var_est)).cdf(borders[i - 1]))\n",
        "p.append(1 - sps.norm(0,np.sqrt(var_est)).cdf(borders[-1]))\n",
        "p = np.array(p)"
      ],
      "metadata": {
        "id": "0LggKl5UR2AA"
      },
      "execution_count": null,
      "outputs": []
    },
    {
      "cell_type": "code",
      "source": [
        "intervals = ['[-10,-6)', '[-6,-2)', '[-2, 2)','[2,6)', '[6, +inf)']"
      ],
      "metadata": {
        "id": "lfqdP6t-4DLN"
      },
      "execution_count": null,
      "outputs": []
    },
    {
      "cell_type": "markdown",
      "source": [
        "Таблица абсолютных и относительных частот:"
      ],
      "metadata": {
        "id": "XvSK9GmjHVcx"
      }
    },
    {
      "cell_type": "code",
      "source": [
        "pd.DataFrame({'interval':intervals, 'absolute frequences':v, 'theoretical frequences':np.array(p) * n})"
      ],
      "metadata": {
        "colab": {
          "base_uri": "https://localhost:8080/",
          "height": 206
        },
        "id": "NCrwewzbSeDa",
        "outputId": "253d1989-88ce-41fb-82ba-2c5206197625"
      },
      "execution_count": null,
      "outputs": [
        {
          "output_type": "execute_result",
          "data": {
            "text/plain": [
              "    interval  absolute frequences  theoretical frequences\n",
              "0   [-10,-6)                    2                1.720121\n",
              "1    [-6,-2)                   11               11.912119\n",
              "2    [-2, 2)                   21               22.602361\n",
              "3      [2,6)                   14               11.912119\n",
              "4  [6, +inf)                    2                1.786701"
            ],
            "text/html": [
              "\n",
              "  <div id=\"df-e1b4d26a-fcd7-437a-a3f2-47014e586937\" class=\"colab-df-container\">\n",
              "    <div>\n",
              "<style scoped>\n",
              "    .dataframe tbody tr th:only-of-type {\n",
              "        vertical-align: middle;\n",
              "    }\n",
              "\n",
              "    .dataframe tbody tr th {\n",
              "        vertical-align: top;\n",
              "    }\n",
              "\n",
              "    .dataframe thead th {\n",
              "        text-align: right;\n",
              "    }\n",
              "</style>\n",
              "<table border=\"1\" class=\"dataframe\">\n",
              "  <thead>\n",
              "    <tr style=\"text-align: right;\">\n",
              "      <th></th>\n",
              "      <th>interval</th>\n",
              "      <th>absolute frequences</th>\n",
              "      <th>theoretical frequences</th>\n",
              "    </tr>\n",
              "  </thead>\n",
              "  <tbody>\n",
              "    <tr>\n",
              "      <th>0</th>\n",
              "      <td>[-10,-6)</td>\n",
              "      <td>2</td>\n",
              "      <td>1.720121</td>\n",
              "    </tr>\n",
              "    <tr>\n",
              "      <th>1</th>\n",
              "      <td>[-6,-2)</td>\n",
              "      <td>11</td>\n",
              "      <td>11.912119</td>\n",
              "    </tr>\n",
              "    <tr>\n",
              "      <th>2</th>\n",
              "      <td>[-2, 2)</td>\n",
              "      <td>21</td>\n",
              "      <td>22.602361</td>\n",
              "    </tr>\n",
              "    <tr>\n",
              "      <th>3</th>\n",
              "      <td>[2,6)</td>\n",
              "      <td>14</td>\n",
              "      <td>11.912119</td>\n",
              "    </tr>\n",
              "    <tr>\n",
              "      <th>4</th>\n",
              "      <td>[6, +inf)</td>\n",
              "      <td>2</td>\n",
              "      <td>1.786701</td>\n",
              "    </tr>\n",
              "  </tbody>\n",
              "</table>\n",
              "</div>\n",
              "    <div class=\"colab-df-buttons\">\n",
              "\n",
              "  <div class=\"colab-df-container\">\n",
              "    <button class=\"colab-df-convert\" onclick=\"convertToInteractive('df-e1b4d26a-fcd7-437a-a3f2-47014e586937')\"\n",
              "            title=\"Convert this dataframe to an interactive table.\"\n",
              "            style=\"display:none;\">\n",
              "\n",
              "  <svg xmlns=\"http://www.w3.org/2000/svg\" height=\"24px\" viewBox=\"0 -960 960 960\">\n",
              "    <path d=\"M120-120v-720h720v720H120Zm60-500h600v-160H180v160Zm220 220h160v-160H400v160Zm0 220h160v-160H400v160ZM180-400h160v-160H180v160Zm440 0h160v-160H620v160ZM180-180h160v-160H180v160Zm440 0h160v-160H620v160Z\"/>\n",
              "  </svg>\n",
              "    </button>\n",
              "\n",
              "  <style>\n",
              "    .colab-df-container {\n",
              "      display:flex;\n",
              "      gap: 12px;\n",
              "    }\n",
              "\n",
              "    .colab-df-convert {\n",
              "      background-color: #E8F0FE;\n",
              "      border: none;\n",
              "      border-radius: 50%;\n",
              "      cursor: pointer;\n",
              "      display: none;\n",
              "      fill: #1967D2;\n",
              "      height: 32px;\n",
              "      padding: 0 0 0 0;\n",
              "      width: 32px;\n",
              "    }\n",
              "\n",
              "    .colab-df-convert:hover {\n",
              "      background-color: #E2EBFA;\n",
              "      box-shadow: 0px 1px 2px rgba(60, 64, 67, 0.3), 0px 1px 3px 1px rgba(60, 64, 67, 0.15);\n",
              "      fill: #174EA6;\n",
              "    }\n",
              "\n",
              "    .colab-df-buttons div {\n",
              "      margin-bottom: 4px;\n",
              "    }\n",
              "\n",
              "    [theme=dark] .colab-df-convert {\n",
              "      background-color: #3B4455;\n",
              "      fill: #D2E3FC;\n",
              "    }\n",
              "\n",
              "    [theme=dark] .colab-df-convert:hover {\n",
              "      background-color: #434B5C;\n",
              "      box-shadow: 0px 1px 3px 1px rgba(0, 0, 0, 0.15);\n",
              "      filter: drop-shadow(0px 1px 2px rgba(0, 0, 0, 0.3));\n",
              "      fill: #FFFFFF;\n",
              "    }\n",
              "  </style>\n",
              "\n",
              "    <script>\n",
              "      const buttonEl =\n",
              "        document.querySelector('#df-e1b4d26a-fcd7-437a-a3f2-47014e586937 button.colab-df-convert');\n",
              "      buttonEl.style.display =\n",
              "        google.colab.kernel.accessAllowed ? 'block' : 'none';\n",
              "\n",
              "      async function convertToInteractive(key) {\n",
              "        const element = document.querySelector('#df-e1b4d26a-fcd7-437a-a3f2-47014e586937');\n",
              "        const dataTable =\n",
              "          await google.colab.kernel.invokeFunction('convertToInteractive',\n",
              "                                                    [key], {});\n",
              "        if (!dataTable) return;\n",
              "\n",
              "        const docLinkHtml = 'Like what you see? Visit the ' +\n",
              "          '<a target=\"_blank\" href=https://colab.research.google.com/notebooks/data_table.ipynb>data table notebook</a>'\n",
              "          + ' to learn more about interactive tables.';\n",
              "        element.innerHTML = '';\n",
              "        dataTable['output_type'] = 'display_data';\n",
              "        await google.colab.output.renderOutput(dataTable, element);\n",
              "        const docLink = document.createElement('div');\n",
              "        docLink.innerHTML = docLinkHtml;\n",
              "        element.appendChild(docLink);\n",
              "      }\n",
              "    </script>\n",
              "  </div>\n",
              "\n",
              "\n",
              "<div id=\"df-bcc0c991-a815-47bb-a160-ec720f2747c0\">\n",
              "  <button class=\"colab-df-quickchart\" onclick=\"quickchart('df-bcc0c991-a815-47bb-a160-ec720f2747c0')\"\n",
              "            title=\"Suggest charts\"\n",
              "            style=\"display:none;\">\n",
              "\n",
              "<svg xmlns=\"http://www.w3.org/2000/svg\" height=\"24px\"viewBox=\"0 0 24 24\"\n",
              "     width=\"24px\">\n",
              "    <g>\n",
              "        <path d=\"M19 3H5c-1.1 0-2 .9-2 2v14c0 1.1.9 2 2 2h14c1.1 0 2-.9 2-2V5c0-1.1-.9-2-2-2zM9 17H7v-7h2v7zm4 0h-2V7h2v10zm4 0h-2v-4h2v4z\"/>\n",
              "    </g>\n",
              "</svg>\n",
              "  </button>\n",
              "\n",
              "<style>\n",
              "  .colab-df-quickchart {\n",
              "      --bg-color: #E8F0FE;\n",
              "      --fill-color: #1967D2;\n",
              "      --hover-bg-color: #E2EBFA;\n",
              "      --hover-fill-color: #174EA6;\n",
              "      --disabled-fill-color: #AAA;\n",
              "      --disabled-bg-color: #DDD;\n",
              "  }\n",
              "\n",
              "  [theme=dark] .colab-df-quickchart {\n",
              "      --bg-color: #3B4455;\n",
              "      --fill-color: #D2E3FC;\n",
              "      --hover-bg-color: #434B5C;\n",
              "      --hover-fill-color: #FFFFFF;\n",
              "      --disabled-bg-color: #3B4455;\n",
              "      --disabled-fill-color: #666;\n",
              "  }\n",
              "\n",
              "  .colab-df-quickchart {\n",
              "    background-color: var(--bg-color);\n",
              "    border: none;\n",
              "    border-radius: 50%;\n",
              "    cursor: pointer;\n",
              "    display: none;\n",
              "    fill: var(--fill-color);\n",
              "    height: 32px;\n",
              "    padding: 0;\n",
              "    width: 32px;\n",
              "  }\n",
              "\n",
              "  .colab-df-quickchart:hover {\n",
              "    background-color: var(--hover-bg-color);\n",
              "    box-shadow: 0 1px 2px rgba(60, 64, 67, 0.3), 0 1px 3px 1px rgba(60, 64, 67, 0.15);\n",
              "    fill: var(--button-hover-fill-color);\n",
              "  }\n",
              "\n",
              "  .colab-df-quickchart-complete:disabled,\n",
              "  .colab-df-quickchart-complete:disabled:hover {\n",
              "    background-color: var(--disabled-bg-color);\n",
              "    fill: var(--disabled-fill-color);\n",
              "    box-shadow: none;\n",
              "  }\n",
              "\n",
              "  .colab-df-spinner {\n",
              "    border: 2px solid var(--fill-color);\n",
              "    border-color: transparent;\n",
              "    border-bottom-color: var(--fill-color);\n",
              "    animation:\n",
              "      spin 1s steps(1) infinite;\n",
              "  }\n",
              "\n",
              "  @keyframes spin {\n",
              "    0% {\n",
              "      border-color: transparent;\n",
              "      border-bottom-color: var(--fill-color);\n",
              "      border-left-color: var(--fill-color);\n",
              "    }\n",
              "    20% {\n",
              "      border-color: transparent;\n",
              "      border-left-color: var(--fill-color);\n",
              "      border-top-color: var(--fill-color);\n",
              "    }\n",
              "    30% {\n",
              "      border-color: transparent;\n",
              "      border-left-color: var(--fill-color);\n",
              "      border-top-color: var(--fill-color);\n",
              "      border-right-color: var(--fill-color);\n",
              "    }\n",
              "    40% {\n",
              "      border-color: transparent;\n",
              "      border-right-color: var(--fill-color);\n",
              "      border-top-color: var(--fill-color);\n",
              "    }\n",
              "    60% {\n",
              "      border-color: transparent;\n",
              "      border-right-color: var(--fill-color);\n",
              "    }\n",
              "    80% {\n",
              "      border-color: transparent;\n",
              "      border-right-color: var(--fill-color);\n",
              "      border-bottom-color: var(--fill-color);\n",
              "    }\n",
              "    90% {\n",
              "      border-color: transparent;\n",
              "      border-bottom-color: var(--fill-color);\n",
              "    }\n",
              "  }\n",
              "</style>\n",
              "\n",
              "  <script>\n",
              "    async function quickchart(key) {\n",
              "      const quickchartButtonEl =\n",
              "        document.querySelector('#' + key + ' button');\n",
              "      quickchartButtonEl.disabled = true;  // To prevent multiple clicks.\n",
              "      quickchartButtonEl.classList.add('colab-df-spinner');\n",
              "      try {\n",
              "        const charts = await google.colab.kernel.invokeFunction(\n",
              "            'suggestCharts', [key], {});\n",
              "      } catch (error) {\n",
              "        console.error('Error during call to suggestCharts:', error);\n",
              "      }\n",
              "      quickchartButtonEl.classList.remove('colab-df-spinner');\n",
              "      quickchartButtonEl.classList.add('colab-df-quickchart-complete');\n",
              "    }\n",
              "    (() => {\n",
              "      let quickchartButtonEl =\n",
              "        document.querySelector('#df-bcc0c991-a815-47bb-a160-ec720f2747c0 button');\n",
              "      quickchartButtonEl.style.display =\n",
              "        google.colab.kernel.accessAllowed ? 'block' : 'none';\n",
              "    })();\n",
              "  </script>\n",
              "</div>\n",
              "    </div>\n",
              "  </div>\n"
            ]
          },
          "metadata": {},
          "execution_count": 140
        }
      ]
    },
    {
      "cell_type": "markdown",
      "source": [
        "Рассчет статистики $𝜒^{2}$:"
      ],
      "metadata": {
        "id": "f0cy7kf6gYrC"
      }
    },
    {
      "cell_type": "code",
      "source": [
        "np.sum(np.square(v - n * p)/(n * p))"
      ],
      "metadata": {
        "colab": {
          "base_uri": "https://localhost:8080/"
        },
        "id": "tF6Cd6jb4fm2",
        "outputId": "402d426b-2d92-42f4-cdc1-2c950ac189e6"
      },
      "execution_count": null,
      "outputs": [
        {
          "output_type": "execute_result",
          "data": {
            "text/plain": [
              "0.6203921691975429"
            ]
          },
          "metadata": {},
          "execution_count": 141
        }
      ]
    },
    {
      "cell_type": "markdown",
      "source": [
        "Рассчет критического значения на уровне значимости $\\alpha$:"
      ],
      "metadata": {
        "id": "Ck_Xdka2gbdX"
      }
    },
    {
      "cell_type": "code",
      "source": [
        "sps.chi2.ppf(1 - alpha, df = len(v)- 1)"
      ],
      "metadata": {
        "colab": {
          "base_uri": "https://localhost:8080/"
        },
        "id": "1s4zZbOU312o",
        "outputId": "eca49b79-8903-4773-ca60-88e33a264688"
      },
      "execution_count": null,
      "outputs": [
        {
          "output_type": "execute_result",
          "data": {
            "text/plain": [
              "9.487729036781154"
            ]
          },
          "metadata": {},
          "execution_count": 142
        }
      ]
    },
    {
      "cell_type": "markdown",
      "source": [
        "$\\chi^2 \\approx 0.78281$\n",
        "\n",
        "$x_{\\alpha} \\approx 9.48$\n",
        "\n",
        "$\\chi^2 < x_{\\alpha_2}$"
      ],
      "metadata": {
        "id": "WXB23QwKH2wN"
      }
    },
    {
      "cell_type": "markdown",
      "source": [
        "Статистика $𝜒^{2}$ в пределах критического значения уровня значимости $\\alpha$. Гипотеза $H_{0}$ не отвергается."
      ],
      "metadata": {
        "id": "vDjpjJGa4Lrs"
      }
    },
    {
      "cell_type": "markdown",
      "source": [
        "Рассчет статистики Колмогорова:"
      ],
      "metadata": {
        "id": "-D6QEGs3xYYt"
      }
    },
    {
      "cell_type": "code",
      "source": [
        "D, _  = sps.kstest(errors, 'norm', args = [0, np.sqrt(var_est)])\n",
        "eta = np.sqrt(n) * D\n",
        "eta"
      ],
      "metadata": {
        "colab": {
          "base_uri": "https://localhost:8080/"
        },
        "id": "C8R2T879w8eQ",
        "outputId": "204cff01-13d6-4efa-9fea-15b2dda5de7e"
      },
      "execution_count": null,
      "outputs": [
        {
          "output_type": "execute_result",
          "data": {
            "text/plain": [
              "0.6140923034366375"
            ]
          },
          "metadata": {},
          "execution_count": 143
        }
      ]
    },
    {
      "cell_type": "markdown",
      "source": [
        "Рассчет критического значения на уровне значимости 1 - $\\alpha$"
      ],
      "metadata": {
        "id": "NCXnCI6pxh-L"
      }
    },
    {
      "cell_type": "code",
      "source": [
        "sps.kstwobign.ppf(1 - alpha)"
      ],
      "metadata": {
        "colab": {
          "base_uri": "https://localhost:8080/"
        },
        "id": "Af3nzws2xeYC",
        "outputId": "f7e23ead-a5e3-40be-a7e3-5d575d8c216e"
      },
      "execution_count": null,
      "outputs": [
        {
          "output_type": "execute_result",
          "data": {
            "text/plain": [
              "1.3580986393225505"
            ]
          },
          "metadata": {},
          "execution_count": 144
        }
      ]
    },
    {
      "cell_type": "markdown",
      "source": [
        "Статистика Колмогорова оказалась в пределах критического значения уровня значимости $\\alpha$. Гипотеза $H_{0}$ не отвергается."
      ],
      "metadata": {
        "id": "qh9W_H0lx7mg"
      }
    },
    {
      "cell_type": "markdown",
      "source": [],
      "metadata": {
        "id": "7j2rnjm_w2-h"
      }
    },
    {
      "cell_type": "markdown",
      "source": [
        "###3. Построение доверительных интервалов в предполложении нормальности ошибок для параметров $\\beta_{0}$ и $\\beta_{1}$ уровня доверия $1 - \\alpha$. Построение доверительного эллипса уровня доверия $1 - \\alpha$ для $(\\beta_{0},\\beta_{1})$"
      ],
      "metadata": {
        "id": "LtqsZGHN6QoR"
      }
    },
    {
      "cell_type": "markdown",
      "source": [
        "####Доверительный интервал для $\\beta_{0}$:\n",
        "\n"
      ],
      "metadata": {
        "id": "h99gKTnEbL2q"
      }
    },
    {
      "cell_type": "markdown",
      "source": [
        "МНК-оценка: $ψ = C^{T}\\hat{\\beta}$"
      ],
      "metadata": {
        "id": "HkaATnhy-6JB"
      }
    },
    {
      "cell_type": "code",
      "source": [
        "C = np.array([1, 0])"
      ],
      "metadata": {
        "id": "8FmoOlnqaosv"
      },
      "execution_count": null,
      "outputs": []
    },
    {
      "cell_type": "code",
      "source": [
        "psi_est = C.T.dot(beta)"
      ],
      "metadata": {
        "id": "yJiKNLXda_YF"
      },
      "execution_count": null,
      "outputs": []
    },
    {
      "cell_type": "code",
      "source": [
        "X = np.array(X)\n",
        "X = X.reshape(50, 1)"
      ],
      "metadata": {
        "id": "4QUHksikdXFS"
      },
      "execution_count": null,
      "outputs": []
    },
    {
      "cell_type": "code",
      "source": [
        "X_matrix = np.concatenate([np.ones(n).reshape(n,1), X], axis = 1)"
      ],
      "metadata": {
        "id": "SuR4fGgcfxIU"
      },
      "execution_count": null,
      "outputs": []
    },
    {
      "cell_type": "markdown",
      "source": [
        "Элемент диcперсии оценки: $b_{\\psi} = C^{T}(X^{T}X)C$"
      ],
      "metadata": {
        "id": "fb_2UE1K_Om3"
      }
    },
    {
      "cell_type": "code",
      "source": [
        "b = C.T.dot(np.linalg.inv(X_matrix.T.dot(X_matrix))).dot(C)\n",
        "b"
      ],
      "metadata": {
        "colab": {
          "base_uri": "https://localhost:8080/"
        },
        "id": "KEIfRORWggQU",
        "outputId": "9470057f-03cf-4094-e305-9f8fd29d347f"
      },
      "execution_count": null,
      "outputs": [
        {
          "output_type": "execute_result",
          "data": {
            "text/plain": [
              "0.06638115631691649"
            ]
          },
          "metadata": {},
          "execution_count": 149
        }
      ]
    },
    {
      "cell_type": "markdown",
      "source": [
        "$x_{\\alpha}: S_{n - r}(x_{\\alpha}) = 1 - \\frac{\\alpha}{2}$"
      ],
      "metadata": {
        "id": "zHRlWF5B9_cw"
      }
    },
    {
      "cell_type": "code",
      "source": [
        "x_alpha = sps.t(df = n - 2).ppf(1- alpha/2)\n",
        "x_alpha"
      ],
      "metadata": {
        "colab": {
          "base_uri": "https://localhost:8080/"
        },
        "id": "WumTLcWp9yD_",
        "outputId": "549c30d9-705b-4846-ef94-8414f4f65c18"
      },
      "execution_count": null,
      "outputs": [
        {
          "output_type": "execute_result",
          "data": {
            "text/plain": [
              "2.0106347546964454"
            ]
          },
          "metadata": {},
          "execution_count": 150
        }
      ]
    },
    {
      "cell_type": "markdown",
      "source": [
        "Доверительный интервал уровня доверия $1 - \\alpha$:"
      ],
      "metadata": {
        "id": "GiE4T0SvAQlw"
      }
    },
    {
      "cell_type": "code",
      "source": [
        "left = psi_est - x_alpha * np.sqrt(var_est) * np.sqrt(b)\n",
        "right = psi_est + x_alpha * np.sqrt(var_est) * np.sqrt(b)\n",
        "\n",
        "print(f' Доверительный интервал:[{left}, {right}]')"
      ],
      "metadata": {
        "colab": {
          "base_uri": "https://localhost:8080/"
        },
        "id": "fd7AEM-S-rhP",
        "outputId": "824a2f73-d5c0-43eb-dec8-5dce6fb621f3"
      },
      "execution_count": null,
      "outputs": [
        {
          "output_type": "stream",
          "name": "stdout",
          "text": [
            " Доверительный интервал:[12.744425910135595, 16.19319007844401]\n"
          ]
        }
      ]
    },
    {
      "cell_type": "markdown",
      "source": [
        "[12.744425910135595, 16.19319007844401] $\\ni \\hat{\\psi_{\\beta_{0}}}$\n",
        "\n",
        "\n"
      ],
      "metadata": {
        "id": "BOfkoQg5CAHj"
      }
    },
    {
      "cell_type": "markdown",
      "source": [
        "#### Доверительный интервал для $\\beta_{1}$:"
      ],
      "metadata": {
        "id": "kxHIAU_WIMl2"
      }
    },
    {
      "cell_type": "code",
      "source": [
        "C = np.array([0, 1])"
      ],
      "metadata": {
        "id": "J2LMzD9DIiCa"
      },
      "execution_count": null,
      "outputs": []
    },
    {
      "cell_type": "code",
      "source": [
        "psi_est = C.T.dot(beta)"
      ],
      "metadata": {
        "id": "kOJ3zVAWIiCa"
      },
      "execution_count": null,
      "outputs": []
    },
    {
      "cell_type": "markdown",
      "source": [
        "Элемент диcперсии оценки: $b_{\\psi} = C^{T}(X^{T}X)C$"
      ],
      "metadata": {
        "id": "FJQxYWryIiCb"
      }
    },
    {
      "cell_type": "code",
      "source": [
        "b = C.T.dot(np.linalg.inv(X_matrix.T.dot(X_matrix))).dot(C)\n",
        "b"
      ],
      "metadata": {
        "colab": {
          "base_uri": "https://localhost:8080/"
        },
        "outputId": "f42da347-d25d-4bd3-ef4a-09d1adce8646",
        "id": "mcVUMkVsIiCb"
      },
      "execution_count": null,
      "outputs": [
        {
          "output_type": "execute_result",
          "data": {
            "text/plain": [
              "0.003965421524308034"
            ]
          },
          "metadata": {},
          "execution_count": 154
        }
      ]
    },
    {
      "cell_type": "markdown",
      "source": [
        "$x_{\\alpha}: S_{n - r}(x_{\\alpha}) = 1 - \\frac{\\alpha}{2}$"
      ],
      "metadata": {
        "id": "6GhjB6vxIiCb"
      }
    },
    {
      "cell_type": "code",
      "source": [
        "x_alpha = sps.t(df = n - 2).ppf(1 - alpha/2)\n",
        "x_alpha"
      ],
      "metadata": {
        "colab": {
          "base_uri": "https://localhost:8080/"
        },
        "outputId": "60335873-fcae-4d6c-e80a-fe38157506bf",
        "id": "OerTnKvCIiCb"
      },
      "execution_count": null,
      "outputs": [
        {
          "output_type": "execute_result",
          "data": {
            "text/plain": [
              "2.0106347546964454"
            ]
          },
          "metadata": {},
          "execution_count": 155
        }
      ]
    },
    {
      "cell_type": "markdown",
      "source": [
        "Доверительный интервал уровня доверия $1 - \\alpha$:"
      ],
      "metadata": {
        "id": "1fdDhxxgIiCb"
      }
    },
    {
      "cell_type": "code",
      "source": [
        "left = psi_est - x_alpha * np.sqrt(var_est) * np.sqrt(b)\n",
        "right = psi_est + x_alpha * np.sqrt(var_est) * np.sqrt(b)\n",
        "\n",
        "print(f' Доверительный интервал:[{left}, {right}]')"
      ],
      "metadata": {
        "colab": {
          "base_uri": "https://localhost:8080/"
        },
        "outputId": "39ea18b1-47c0-440e-adfc-8bb7b34d292d",
        "id": "kwW5CRIoIiCc"
      },
      "execution_count": null,
      "outputs": [
        {
          "output_type": "stream",
          "name": "stdout",
          "text": [
            " Доверительный интервал:[-0.46011673799807484, 0.382802121454335]\n"
          ]
        }
      ]
    },
    {
      "cell_type": "markdown",
      "source": [
        "[-0.46011673799807484, 0.382802121454335]$\\ni \\hat{\\psi_{\\beta_{1}}}$\n",
        "\n"
      ],
      "metadata": {
        "id": "9lDJCm3OIiCc"
      }
    },
    {
      "cell_type": "markdown",
      "source": [
        "####Построение доверительного эллипса:"
      ],
      "metadata": {
        "id": "FxHavs3KJhVe"
      }
    },
    {
      "cell_type": "code",
      "source": [
        "C = np.array([[1, 0],[0, 1]])\n",
        "psi_est = C.T.dot(beta)\n",
        "\n",
        "B = C.T.dot(np.linalg.inv(X_matrix.T.dot(X_matrix))).dot(C)"
      ],
      "metadata": {
        "id": "xtRzN2YsThKP"
      },
      "execution_count": null,
      "outputs": []
    },
    {
      "cell_type": "code",
      "source": [
        "x_symbol = sympy.Symbol('x')\n",
        "y_symbol = sympy.Symbol('y')\n",
        "x_vec = np.matrix([[x_symbol], [y_symbol]])\n",
        "expr = (x_vec - psi_est).T * inv(B) * (x_vec - psi_est)\n",
        "print(f\"Неравенство эллипса: {expr[0,0].as_poly().as_expr()} <= {2 * var_est * sps.f(2, n - 2).ppf(1 - alpha)}\")"
      ],
      "metadata": {
        "id": "ORhbQ8VlpzW6",
        "colab": {
          "base_uri": "https://localhost:8080/"
        },
        "outputId": "e30f26f3-a25d-469c-bd5c-c7ec2d098977"
      },
      "execution_count": null,
      "outputs": [
        {
          "output_type": "stream",
          "name": "stdout",
          "text": [
            "Неравенство эллипса: 50.0*x**2 + 342.0*x*y - 6395.21313347609*x + 837.0*y**2 - 29169.1169164882*y + 257286.731469242 <= 70.70913248075027\n"
          ]
        }
      ]
    },
    {
      "cell_type": "markdown",
      "source": [
        "Определение функция для построения эллипса:"
      ],
      "metadata": {
        "id": "K-R6EMBXAMjX"
      }
    },
    {
      "cell_type": "code",
      "source": [
        "def f(x,y):\n",
        "    return 50.0*x**2 + 342.0*x*y - 6158.19572067261*x + 837.0*y**2 - 28088.0601196289*y + 238569.169869688 - 2 * var_est * sps.f(2, n - 2).ppf(1 - alpha)"
      ],
      "metadata": {
        "id": "etBI-T-3APmF"
      },
      "execution_count": null,
      "outputs": []
    },
    {
      "cell_type": "code",
      "source": [
        "x_lin = np.linspace(10, 18, 200)\n",
        "y_lin = np.linspace(12, 16, 200)\n",
        "\n",
        "x_lin, y_lin = np.meshgrid(x_lin, y_lin)\n",
        "\n",
        "z = f(x_lin, y_lin)\n",
        "\n",
        "fig, ax = plt.subplots(figsize = (10,5))\n",
        "ax.contour(x_lin,y_lin,z, [0])\n",
        "plt.title('Доверительный эллипс')\n",
        "plt.xlabel('beta_0')\n",
        "plt.ylabel('beta_1')\n",
        "plt.grid()"
      ],
      "metadata": {
        "colab": {
          "base_uri": "https://localhost:8080/",
          "height": 487
        },
        "id": "r8rSwMFjsaSy",
        "outputId": "4b671429-6483-42de-856a-c5c30fe97ea6"
      },
      "execution_count": null,
      "outputs": [
        {
          "output_type": "display_data",
          "data": {
            "text/plain": [
              "<Figure size 1000x500 with 1 Axes>"
            ],
            "image/png": "[encoded data removed]"
          },
          "metadata": {}
        }
      ]
    },
    {
      "cell_type": "markdown",
      "source": [
        "Рассчет полуосей:"
      ],
      "metadata": {
        "id": "oAahUy2Vd8Bl"
      }
    },
    {
      "cell_type": "code",
      "source": [
        "cov = inv(B)\n",
        "eigenvalues, _ = np.linalg.eig(cov)\n",
        "np.sqrt(1/eigenvalues * (alpha * 2 * var_est))"
      ],
      "metadata": {
        "colab": {
          "base_uri": "https://localhost:8080/"
        },
        "id": "lTaMognBctTE",
        "outputId": "bdde91b9-47a5-4288-e710-2dd92fc5c2d3"
      },
      "execution_count": null,
      "outputs": [
        {
          "output_type": "execute_result",
          "data": {
            "text/plain": [
              "array([0.27690612, 0.03563551])"
            ]
          },
          "metadata": {},
          "execution_count": 161
        }
      ]
    },
    {
      "cell_type": "markdown",
      "source": [
        "Первая полуось $≈$ 0.27690612\n",
        "\n",
        "Вторая полуось $≈$ 0.03563551"
      ],
      "metadata": {
        "id": "vXxCU2L_d58y"
      }
    },
    {
      "cell_type": "markdown",
      "source": [
        "###4. Сформулировать гипотезу независимости Y от X. Провести проверку значимости."
      ],
      "metadata": {
        "id": "QUCQCwCLbD93"
      }
    },
    {
      "cell_type": "markdown",
      "source": [
        "$H_{0}: \\beta_{1} = 0$\n",
        "\n",
        "$H_{A}: \\beta_{1} \\not= 0$\n"
      ],
      "metadata": {
        "id": "woGDXDLBEjO2"
      }
    },
    {
      "cell_type": "markdown",
      "source": [
        "Рассчет F - статистики:"
      ],
      "metadata": {
        "id": "0XFuBomcKPdm"
      }
    },
    {
      "cell_type": "code",
      "source": [
        "beta_H0 = np.array([beta[0], 0])"
      ],
      "metadata": {
        "id": "rnbZVCY7KNx5"
      },
      "execution_count": null,
      "outputs": []
    },
    {
      "cell_type": "code",
      "source": [
        "F = (RSS(beta_H0) - RSS(beta)) * (n - 2)/2/RSS(beta)"
      ],
      "metadata": {
        "id": "gXoC9wNqKdet"
      },
      "execution_count": null,
      "outputs": []
    },
    {
      "cell_type": "code",
      "source": [
        "print(f'F-статистика равна {F}')"
      ],
      "metadata": {
        "colab": {
          "base_uri": "https://localhost:8080/"
        },
        "id": "ixF1btKwK_Gq",
        "outputId": "7205a0ba-b329-4aba-9d3c-6a96661fc4b1"
      },
      "execution_count": null,
      "outputs": [
        {
          "output_type": "stream",
          "name": "stdout",
          "text": [
            "F-статистика равна 0.056442060936424426\n"
          ]
        }
      ]
    },
    {
      "cell_type": "code",
      "source": [
        "print('Граница критической области:', sps.f(2, n-2).ppf(1-alpha))"
      ],
      "metadata": {
        "colab": {
          "base_uri": "https://localhost:8080/"
        },
        "id": "xFqIuZJhK_fn",
        "outputId": "113b6053-3e8f-4bd3-ba71-808dd6ffc2eb"
      },
      "execution_count": null,
      "outputs": [
        {
          "output_type": "stream",
          "name": "stdout",
          "text": [
            "Граница критической области: 3.1907273359284987\n"
          ]
        }
      ]
    },
    {
      "cell_type": "code",
      "source": [
        "print('p-value:', 1 - sps.f(2, n -2).cdf(F))"
      ],
      "metadata": {
        "colab": {
          "base_uri": "https://localhost:8080/"
        },
        "id": "HUXvbDX3LF8u",
        "outputId": "ab7864ce-7b90-4c55-8a60-eab544fb48ee"
      },
      "execution_count": null,
      "outputs": [
        {
          "output_type": "stream",
          "name": "stdout",
          "text": [
            "p-value: 0.9451838728901419\n"
          ]
        }
      ]
    },
    {
      "cell_type": "markdown",
      "source": [
        "F-статистика попала в доверительный интервал. Гипотеза $H_{0}$ не отвергается."
      ],
      "metadata": {
        "id": "b2yARv9jLefY"
      }
    },
    {
      "cell_type": "markdown",
      "source": [
        "###5. Сформулировать можель, включающую дполнительный член с X^{2}. Построить МНК оценки параметров $\\beta_{0}, \\beta_{1}, \\beta_{2}$ в данной модели. Изобразить графически полученную регрессионную зависимость."
      ],
      "metadata": {
        "id": "T_fzTnM-Lrqd"
      }
    },
    {
      "cell_type": "code",
      "source": [
        "X_matrix = np.concatenate([np.ones(n).reshape(50,1), X.reshape(50,1), (X**2).reshape(50,1)], axis = 1)"
      ],
      "metadata": {
        "id": "xBFQMfztXazp"
      },
      "execution_count": null,
      "outputs": []
    },
    {
      "cell_type": "code",
      "source": [
        "beta = (inv(X_matrix.T.dot(X_matrix)).dot(X_matrix.T).dot(Y))\n",
        "\n",
        "beta_0 = beta[0]\n",
        "beta_1 = beta[1]\n",
        "beta_2 = beta[2]"
      ],
      "metadata": {
        "id": "Nq0qsCxCXvY7"
      },
      "execution_count": null,
      "outputs": []
    },
    {
      "cell_type": "markdown",
      "source": [
        "МНК-оценка параметров $\\beta_{0}, \\beta_{1}, \\beta_{2}:$"
      ],
      "metadata": {
        "id": "2OY7s2oIfrd8"
      }
    },
    {
      "cell_type": "code",
      "source": [
        "print('beta_0:', beta_0)\n",
        "print('beta_1:', beta_1)\n",
        "print('beta_2:', beta_2)"
      ],
      "metadata": {
        "id": "Gb8xTh25fmQl",
        "colab": {
          "base_uri": "https://localhost:8080/"
        },
        "outputId": "e8a260fb-8f88-4c0a-c1c7-6b835dbb680c"
      },
      "execution_count": null,
      "outputs": [
        {
          "output_type": "stream",
          "name": "stdout",
          "text": [
            "beta_0: 13.412874542644055\n",
            "beta_1: 0.8886746463441008\n",
            "beta_2: -0.12637645359264973\n"
          ]
        }
      ]
    },
    {
      "cell_type": "code",
      "source": [
        "X = np.array(X).reshape(50,1).astype(int)\n",
        "Y_est = (X**2 * beta_2 + X * beta_1 + beta_0).reshape(50,1)"
      ],
      "metadata": {
        "id": "_QjzM0ADR_u0"
      },
      "execution_count": null,
      "outputs": []
    },
    {
      "cell_type": "code",
      "source": [
        "coords = np.concatenate([X, Y_est], axis = 1)\n",
        "sorted_coords = coords[np.argsort(coords[:,0])]"
      ],
      "metadata": {
        "id": "hbCWQeZlSLgJ"
      },
      "execution_count": null,
      "outputs": []
    },
    {
      "cell_type": "code",
      "source": [
        "plt.figure(figsize = (10, 5))\n",
        "plt.scatter(X,Y)\n",
        "plt.plot(sorted_coords[:, 0],sorted_coords[:, 1], c = 'r')\n",
        "plt.title('График наблюдений и линия регрессии:')\n",
        "plt.ylabel('Y')\n",
        "plt.xlabel('X')\n",
        "plt.show()"
      ],
      "metadata": {
        "id": "DaihXC02L71q",
        "colab": {
          "base_uri": "https://localhost:8080/",
          "height": 487
        },
        "outputId": "3dfeb134-a2c2-44aa-a385-b30866fd8607"
      },
      "execution_count": null,
      "outputs": [
        {
          "output_type": "display_data",
          "data": {
            "text/plain": [
              "<Figure size 1000x500 with 1 Axes>"
            ],
            "image/png": "[encoded data removed]"
          },
          "metadata": {}
        }
      ]
    },
    {
      "cell_type": "markdown",
      "source": [
        "###6. Построить несмещенную оценку дисперсии. Провести исследование нормальности ошибок."
      ],
      "metadata": {
        "id": "-SOr0-wqg1yA"
      }
    },
    {
      "cell_type": "code",
      "source": [
        "Y = np.array(Y)\n",
        "X = np.array(X)\n",
        "\n",
        "X_matrix = np.concatenate([np.ones(n).reshape(50,1), X.reshape(50,1), (X**2).reshape(50,1)], axis = 1)\n",
        "beta = np.array([beta_0, beta_1, beta_2])\n",
        "\n",
        "def RSS(beta):\n",
        "    return (Y - X_matrix.dot(beta)).T.dot(Y - X_matrix.dot(beta))\n",
        "\n",
        "var_est = RSS(beta)/48\n",
        "print('Несмещенная оценка дисперсии:', var_est)"
      ],
      "metadata": {
        "id": "WPKmaH4ECLI3",
        "colab": {
          "base_uri": "https://localhost:8080/"
        },
        "outputId": "ece39252-a294-4702-c992-725f539b7cda"
      },
      "execution_count": null,
      "outputs": [
        {
          "output_type": "stream",
          "name": "stdout",
          "text": [
            "Несмещенная оценка дисперсии: 10.594886152994636\n"
          ]
        }
      ]
    },
    {
      "cell_type": "code",
      "source": [
        "h = 1.8\n",
        "errors = Y - X_matrix.dot(beta)\n",
        "bins = np.arange(errors.min(), errors.max() + h, h)\n",
        "plt.figure(figsize = (10,5))\n",
        "plt.hist(errors, bins = bins)\n",
        "plt.xlabel('errors')\n",
        "plt.ylabel('frequency')\n",
        "plt.title('Гистограмма ошибок')\n",
        "plt.grid()\n",
        "plt.show()"
      ],
      "metadata": {
        "id": "2PduoLI1gnnS",
        "colab": {
          "base_uri": "https://localhost:8080/",
          "height": 487
        },
        "outputId": "f92291ac-66ab-40ab-93e3-f67d5a9a35b0"
      },
      "execution_count": null,
      "outputs": [
        {
          "output_type": "display_data",
          "data": {
            "text/plain": [
              "<Figure size 1000x500 with 1 Axes>"
            ],
            "image/png": "[encoded data removed]"
          },
          "metadata": {}
        }
      ]
    },
    {
      "cell_type": "markdown",
      "source": [
        "$X_1, X_2, \\dots, X_n \\sim \\mathbb{p_{\\theta}(x)}$.\n",
        "\n",
        "$H_0 : p \\equiv N(\\bar{X},s^{2})$\n",
        "\n",
        "$H_A : \\exists x : \\mathbb{p_{\\theta}(x)} \\neq p_{N(\\bar{X},s^{2})}(x)$\n",
        "\n",
        " Оценка параметра - ОМП: $\\hat{\\theta} = (\\bar{X},s^{2})$"
      ],
      "metadata": {
        "id": "GtoeXoXeEIhY"
      }
    },
    {
      "cell_type": "code",
      "source": [
        "n = 50\n",
        "alpha =  0.05\n",
        "borders = np.arange(-8, 6, 2)\n",
        "errors.sort()"
      ],
      "metadata": {
        "id": "2DOLvT3VEIhY"
      },
      "execution_count": null,
      "outputs": []
    },
    {
      "cell_type": "code",
      "source": [
        "borders"
      ],
      "metadata": {
        "id": "kwFTthXDOXTV",
        "colab": {
          "base_uri": "https://localhost:8080/"
        },
        "outputId": "f3ba1a0d-d677-4cb0-e894-d99fb473deae"
      },
      "execution_count": null,
      "outputs": [
        {
          "output_type": "execute_result",
          "data": {
            "text/plain": [
              "array([-8, -6, -4, -2,  0,  2,  4])"
            ]
          },
          "metadata": {},
          "execution_count": 176
        }
      ]
    },
    {
      "cell_type": "code",
      "source": [
        "mu = np.mean(errors)\n",
        "s_2 = (1/n)*(np.sum((errors - mu)**2))\n",
        "mu, s_2"
      ],
      "metadata": {
        "id": "GEPJHNoJEIhY",
        "colab": {
          "base_uri": "https://localhost:8080/"
        },
        "outputId": "ab6d304b-c559-4c23-dd63-cc18aa6e0d73"
      },
      "execution_count": null,
      "outputs": [
        {
          "output_type": "execute_result",
          "data": {
            "text/plain": [
              "(7.752021247142693e-14, 10.171090706874848)"
            ]
          },
          "metadata": {},
          "execution_count": 177
        }
      ]
    },
    {
      "cell_type": "code",
      "source": [
        "#абсолютные частоты\n",
        "v = []\n",
        "for i in range(1,len(borders)):\n",
        "    v.append(np.sum((errors < borders[i]) & (errors >= borders[i-1])))\n",
        "v.append(np.sum(errors >= borders[-1] ))\n",
        "v = np.array(v)"
      ],
      "metadata": {
        "id": "U8sehBuVEIhZ"
      },
      "execution_count": null,
      "outputs": []
    },
    {
      "cell_type": "code",
      "source": [
        "#теоретические частоты\n",
        "p = []\n",
        "for i in range(1,len(borders)):\n",
        "    p.append(sps.norm(0,np.sqrt(var_est)).cdf(borders[i]) - sps.norm(0,np.sqrt(var_est)).cdf(borders[i - 1]))\n",
        "p.append(1 - sps.norm(0,np.sqrt(var_est)).cdf(borders[-1]))\n",
        "p = np.array(p)"
      ],
      "metadata": {
        "id": "_KzPvBwrEIhZ"
      },
      "execution_count": null,
      "outputs": []
    },
    {
      "cell_type": "code",
      "source": [
        "intervals = ['[-8,-6)', '[-6,-4)', '[-4, -2)','[-2,0)', '[0, 2)', '[2, 4)', '[4, +inf)']"
      ],
      "metadata": {
        "id": "IS50WfFnEIhZ"
      },
      "execution_count": null,
      "outputs": []
    },
    {
      "cell_type": "code",
      "source": [
        "pd.DataFrame({'interval':intervals, 'absolute frequences':v, 'theoretical frequences':p * n})"
      ],
      "metadata": {
        "id": "RF4Pd7s-EIhZ",
        "colab": {
          "base_uri": "https://localhost:8080/",
          "height": 269
        },
        "outputId": "ef96cb37-e266-45a3-9f3f-89da88aa2f80"
      },
      "execution_count": null,
      "outputs": [
        {
          "output_type": "execute_result",
          "data": {
            "text/plain": [
              "    interval  absolute frequences  theoretical frequences\n",
              "0    [-8,-6)                    1                1.282518\n",
              "1    [-6,-4)                    6                3.845836\n",
              "2   [-4, -2)                    6                7.995203\n",
              "3     [-2,0)                   10               11.526940\n",
              "4     [0, 2)                   12               11.526940\n",
              "5     [2, 4)                   11                7.995203\n",
              "6  [4, +inf)                    4                5.477857"
            ],
            "text/html": [
              "\n",
              "  <div id=\"df-c11b0bea-3ca5-4d32-91fb-06592c1a5e22\" class=\"colab-df-container\">\n",
              "    <div>\n",
              "<style scoped>\n",
              "    .dataframe tbody tr th:only-of-type {\n",
              "        vertical-align: middle;\n",
              "    }\n",
              "\n",
              "    .dataframe tbody tr th {\n",
              "        vertical-align: top;\n",
              "    }\n",
              "\n",
              "    .dataframe thead th {\n",
              "        text-align: right;\n",
              "    }\n",
              "</style>\n",
              "<table border=\"1\" class=\"dataframe\">\n",
              "  <thead>\n",
              "    <tr style=\"text-align: right;\">\n",
              "      <th></th>\n",
              "      <th>interval</th>\n",
              "      <th>absolute frequences</th>\n",
              "      <th>theoretical frequences</th>\n",
              "    </tr>\n",
              "  </thead>\n",
              "  <tbody>\n",
              "    <tr>\n",
              "      <th>0</th>\n",
              "      <td>[-8,-6)</td>\n",
              "      <td>1</td>\n",
              "      <td>1.282518</td>\n",
              "    </tr>\n",
              "    <tr>\n",
              "      <th>1</th>\n",
              "      <td>[-6,-4)</td>\n",
              "      <td>6</td>\n",
              "      <td>3.845836</td>\n",
              "    </tr>\n",
              "    <tr>\n",
              "      <th>2</th>\n",
              "      <td>[-4, -2)</td>\n",
              "      <td>6</td>\n",
              "      <td>7.995203</td>\n",
              "    </tr>\n",
              "    <tr>\n",
              "      <th>3</th>\n",
              "      <td>[-2,0)</td>\n",
              "      <td>10</td>\n",
              "      <td>11.526940</td>\n",
              "    </tr>\n",
              "    <tr>\n",
              "      <th>4</th>\n",
              "      <td>[0, 2)</td>\n",
              "      <td>12</td>\n",
              "      <td>11.526940</td>\n",
              "    </tr>\n",
              "    <tr>\n",
              "      <th>5</th>\n",
              "      <td>[2, 4)</td>\n",
              "      <td>11</td>\n",
              "      <td>7.995203</td>\n",
              "    </tr>\n",
              "    <tr>\n",
              "      <th>6</th>\n",
              "      <td>[4, +inf)</td>\n",
              "      <td>4</td>\n",
              "      <td>5.477857</td>\n",
              "    </tr>\n",
              "  </tbody>\n",
              "</table>\n",
              "</div>\n",
              "    <div class=\"colab-df-buttons\">\n",
              "\n",
              "  <div class=\"colab-df-container\">\n",
              "    <button class=\"colab-df-convert\" onclick=\"convertToInteractive('df-c11b0bea-3ca5-4d32-91fb-06592c1a5e22')\"\n",
              "            title=\"Convert this dataframe to an interactive table.\"\n",
              "            style=\"display:none;\">\n",
              "\n",
              "  <svg xmlns=\"http://www.w3.org/2000/svg\" height=\"24px\" viewBox=\"0 -960 960 960\">\n",
              "    <path d=\"M120-120v-720h720v720H120Zm60-500h600v-160H180v160Zm220 220h160v-160H400v160Zm0 220h160v-160H400v160ZM180-400h160v-160H180v160Zm440 0h160v-160H620v160ZM180-180h160v-160H180v160Zm440 0h160v-160H620v160Z\"/>\n",
              "  </svg>\n",
              "    </button>\n",
              "\n",
              "  <style>\n",
              "    .colab-df-container {\n",
              "      display:flex;\n",
              "      gap: 12px;\n",
              "    }\n",
              "\n",
              "    .colab-df-convert {\n",
              "      background-color: #E8F0FE;\n",
              "      border: none;\n",
              "      border-radius: 50%;\n",
              "      cursor: pointer;\n",
              "      display: none;\n",
              "      fill: #1967D2;\n",
              "      height: 32px;\n",
              "      padding: 0 0 0 0;\n",
              "      width: 32px;\n",
              "    }\n",
              "\n",
              "    .colab-df-convert:hover {\n",
              "      background-color: #E2EBFA;\n",
              "      box-shadow: 0px 1px 2px rgba(60, 64, 67, 0.3), 0px 1px 3px 1px rgba(60, 64, 67, 0.15);\n",
              "      fill: #174EA6;\n",
              "    }\n",
              "\n",
              "    .colab-df-buttons div {\n",
              "      margin-bottom: 4px;\n",
              "    }\n",
              "\n",
              "    [theme=dark] .colab-df-convert {\n",
              "      background-color: #3B4455;\n",
              "      fill: #D2E3FC;\n",
              "    }\n",
              "\n",
              "    [theme=dark] .colab-df-convert:hover {\n",
              "      background-color: #434B5C;\n",
              "      box-shadow: 0px 1px 3px 1px rgba(0, 0, 0, 0.15);\n",
              "      filter: drop-shadow(0px 1px 2px rgba(0, 0, 0, 0.3));\n",
              "      fill: #FFFFFF;\n",
              "    }\n",
              "  </style>\n",
              "\n",
              "    <script>\n",
              "      const buttonEl =\n",
              "        document.querySelector('#df-c11b0bea-3ca5-4d32-91fb-06592c1a5e22 button.colab-df-convert');\n",
              "      buttonEl.style.display =\n",
              "        google.colab.kernel.accessAllowed ? 'block' : 'none';\n",
              "\n",
              "      async function convertToInteractive(key) {\n",
              "        const element = document.querySelector('#df-c11b0bea-3ca5-4d32-91fb-06592c1a5e22');\n",
              "        const dataTable =\n",
              "          await google.colab.kernel.invokeFunction('convertToInteractive',\n",
              "                                                    [key], {});\n",
              "        if (!dataTable) return;\n",
              "\n",
              "        const docLinkHtml = 'Like what you see? Visit the ' +\n",
              "          '<a target=\"_blank\" href=https://colab.research.google.com/notebooks/data_table.ipynb>data table notebook</a>'\n",
              "          + ' to learn more about interactive tables.';\n",
              "        element.innerHTML = '';\n",
              "        dataTable['output_type'] = 'display_data';\n",
              "        await google.colab.output.renderOutput(dataTable, element);\n",
              "        const docLink = document.createElement('div');\n",
              "        docLink.innerHTML = docLinkHtml;\n",
              "        element.appendChild(docLink);\n",
              "      }\n",
              "    </script>\n",
              "  </div>\n",
              "\n",
              "\n",
              "<div id=\"df-fc28bbec-2f71-4b62-b8e4-e7ce30ac72e8\">\n",
              "  <button class=\"colab-df-quickchart\" onclick=\"quickchart('df-fc28bbec-2f71-4b62-b8e4-e7ce30ac72e8')\"\n",
              "            title=\"Suggest charts\"\n",
              "            style=\"display:none;\">\n",
              "\n",
              "<svg xmlns=\"http://www.w3.org/2000/svg\" height=\"24px\"viewBox=\"0 0 24 24\"\n",
              "     width=\"24px\">\n",
              "    <g>\n",
              "        <path d=\"M19 3H5c-1.1 0-2 .9-2 2v14c0 1.1.9 2 2 2h14c1.1 0 2-.9 2-2V5c0-1.1-.9-2-2-2zM9 17H7v-7h2v7zm4 0h-2V7h2v10zm4 0h-2v-4h2v4z\"/>\n",
              "    </g>\n",
              "</svg>\n",
              "  </button>\n",
              "\n",
              "<style>\n",
              "  .colab-df-quickchart {\n",
              "      --bg-color: #E8F0FE;\n",
              "      --fill-color: #1967D2;\n",
              "      --hover-bg-color: #E2EBFA;\n",
              "      --hover-fill-color: #174EA6;\n",
              "      --disabled-fill-color: #AAA;\n",
              "      --disabled-bg-color: #DDD;\n",
              "  }\n",
              "\n",
              "  [theme=dark] .colab-df-quickchart {\n",
              "      --bg-color: #3B4455;\n",
              "      --fill-color: #D2E3FC;\n",
              "      --hover-bg-color: #434B5C;\n",
              "      --hover-fill-color: #FFFFFF;\n",
              "      --disabled-bg-color: #3B4455;\n",
              "      --disabled-fill-color: #666;\n",
              "  }\n",
              "\n",
              "  .colab-df-quickchart {\n",
              "    background-color: var(--bg-color);\n",
              "    border: none;\n",
              "    border-radius: 50%;\n",
              "    cursor: pointer;\n",
              "    display: none;\n",
              "    fill: var(--fill-color);\n",
              "    height: 32px;\n",
              "    padding: 0;\n",
              "    width: 32px;\n",
              "  }\n",
              "\n",
              "  .colab-df-quickchart:hover {\n",
              "    background-color: var(--hover-bg-color);\n",
              "    box-shadow: 0 1px 2px rgba(60, 64, 67, 0.3), 0 1px 3px 1px rgba(60, 64, 67, 0.15);\n",
              "    fill: var(--button-hover-fill-color);\n",
              "  }\n",
              "\n",
              "  .colab-df-quickchart-complete:disabled,\n",
              "  .colab-df-quickchart-complete:disabled:hover {\n",
              "    background-color: var(--disabled-bg-color);\n",
              "    fill: var(--disabled-fill-color);\n",
              "    box-shadow: none;\n",
              "  }\n",
              "\n",
              "  .colab-df-spinner {\n",
              "    border: 2px solid var(--fill-color);\n",
              "    border-color: transparent;\n",
              "    border-bottom-color: var(--fill-color);\n",
              "    animation:\n",
              "      spin 1s steps(1) infinite;\n",
              "  }\n",
              "\n",
              "  @keyframes spin {\n",
              "    0% {\n",
              "      border-color: transparent;\n",
              "      border-bottom-color: var(--fill-color);\n",
              "      border-left-color: var(--fill-color);\n",
              "    }\n",
              "    20% {\n",
              "      border-color: transparent;\n",
              "      border-left-color: var(--fill-color);\n",
              "      border-top-color: var(--fill-color);\n",
              "    }\n",
              "    30% {\n",
              "      border-color: transparent;\n",
              "      border-left-color: var(--fill-color);\n",
              "      border-top-color: var(--fill-color);\n",
              "      border-right-color: var(--fill-color);\n",
              "    }\n",
              "    40% {\n",
              "      border-color: transparent;\n",
              "      border-right-color: var(--fill-color);\n",
              "      border-top-color: var(--fill-color);\n",
              "    }\n",
              "    60% {\n",
              "      border-color: transparent;\n",
              "      border-right-color: var(--fill-color);\n",
              "    }\n",
              "    80% {\n",
              "      border-color: transparent;\n",
              "      border-right-color: var(--fill-color);\n",
              "      border-bottom-color: var(--fill-color);\n",
              "    }\n",
              "    90% {\n",
              "      border-color: transparent;\n",
              "      border-bottom-color: var(--fill-color);\n",
              "    }\n",
              "  }\n",
              "</style>\n",
              "\n",
              "  <script>\n",
              "    async function quickchart(key) {\n",
              "      const quickchartButtonEl =\n",
              "        document.querySelector('#' + key + ' button');\n",
              "      quickchartButtonEl.disabled = true;  // To prevent multiple clicks.\n",
              "      quickchartButtonEl.classList.add('colab-df-spinner');\n",
              "      try {\n",
              "        const charts = await google.colab.kernel.invokeFunction(\n",
              "            'suggestCharts', [key], {});\n",
              "      } catch (error) {\n",
              "        console.error('Error during call to suggestCharts:', error);\n",
              "      }\n",
              "      quickchartButtonEl.classList.remove('colab-df-spinner');\n",
              "      quickchartButtonEl.classList.add('colab-df-quickchart-complete');\n",
              "    }\n",
              "    (() => {\n",
              "      let quickchartButtonEl =\n",
              "        document.querySelector('#df-fc28bbec-2f71-4b62-b8e4-e7ce30ac72e8 button');\n",
              "      quickchartButtonEl.style.display =\n",
              "        google.colab.kernel.accessAllowed ? 'block' : 'none';\n",
              "    })();\n",
              "  </script>\n",
              "</div>\n",
              "    </div>\n",
              "  </div>\n"
            ]
          },
          "metadata": {},
          "execution_count": 181
        }
      ]
    },
    {
      "cell_type": "markdown",
      "source": [
        "Рассчет статистики $𝜒^{2}$:"
      ],
      "metadata": {
        "id": "KUu2i5QKeak4"
      }
    },
    {
      "cell_type": "code",
      "source": [
        "np.sum(np.square(v - n * p)/(n * p))"
      ],
      "metadata": {
        "id": "xKYYkGVwEIhZ",
        "colab": {
          "base_uri": "https://localhost:8080/"
        },
        "outputId": "e3d4b067-7791-485f-9a07-0a86282a4b54"
      },
      "execution_count": null,
      "outputs": [
        {
          "output_type": "execute_result",
          "data": {
            "text/plain": [
              "3.516414715941767"
            ]
          },
          "metadata": {},
          "execution_count": 182
        }
      ]
    },
    {
      "cell_type": "markdown",
      "source": [
        "Рассчет критического значения на уровне значимости $\\alpha$"
      ],
      "metadata": {
        "id": "XxSGkrIWgAUx"
      }
    },
    {
      "cell_type": "code",
      "source": [
        "sps.chi2.ppf(1 - alpha, df = len(v)- 1)"
      ],
      "metadata": {
        "id": "1ujegOL3EIhZ",
        "colab": {
          "base_uri": "https://localhost:8080/"
        },
        "outputId": "da1d80c3-cde6-482f-cd23-9e0e7a4824d7"
      },
      "execution_count": null,
      "outputs": [
        {
          "output_type": "execute_result",
          "data": {
            "text/plain": [
              "12.591587243743977"
            ]
          },
          "metadata": {},
          "execution_count": 183
        }
      ]
    },
    {
      "cell_type": "markdown",
      "source": [
        "$\\chi^2 \\approx 7.4953635014996370.78281$\n",
        "\n",
        "$x_{\\alpha} \\approx 12.591587243743977$\n",
        "\n",
        "$\\chi^2 < x_{\\alpha_2}$"
      ],
      "metadata": {
        "id": "4cHN5LssK2bN"
      }
    },
    {
      "cell_type": "markdown",
      "source": [
        "Статистика $𝜒^{2}$ в пределах критического значения уровня значимости $\\alpha$. Гипотеза $H_{0}$ не отвергается."
      ],
      "metadata": {
        "id": "xc7q1RcfEyZM"
      }
    },
    {
      "cell_type": "markdown",
      "source": [
        "Рассчет статистики колмогорова:"
      ],
      "metadata": {
        "id": "V10SJ8xeycov"
      }
    },
    {
      "cell_type": "code",
      "source": [
        "D, _  = sps.kstest(errors, 'norm', args = [0, np.sqrt(var_est)])\n",
        "eta = np.sqrt(n) * D\n",
        "eta"
      ],
      "metadata": {
        "colab": {
          "base_uri": "https://localhost:8080/"
        },
        "outputId": "d7e60011-9608-44f8-cb0d-7db24fcdf3d8",
        "id": "4aeav8DAycov"
      },
      "execution_count": null,
      "outputs": [
        {
          "output_type": "execute_result",
          "data": {
            "text/plain": [
              "0.5113857427805584"
            ]
          },
          "metadata": {},
          "execution_count": 209
        }
      ]
    },
    {
      "cell_type": "markdown",
      "source": [
        "Рассчет критического значения на уровне значимости 1 - $\\alpha$"
      ],
      "metadata": {
        "id": "hiqMgPVcycow"
      }
    },
    {
      "cell_type": "code",
      "source": [
        "sps.kstwobign.ppf(1 - alpha)"
      ],
      "metadata": {
        "colab": {
          "base_uri": "https://localhost:8080/"
        },
        "outputId": "1cb743b1-59af-4985-e558-dab8d25c6dad",
        "id": "RtM7BffWycow"
      },
      "execution_count": null,
      "outputs": [
        {
          "output_type": "execute_result",
          "data": {
            "text/plain": [
              "1.3580986393225505"
            ]
          },
          "metadata": {},
          "execution_count": 210
        }
      ]
    },
    {
      "cell_type": "markdown",
      "source": [
        "Статистика Колмогорова оказалась в пределах критического значения уровня значимости $\\alpha$. Гипотеза $H_{0}$ не отвергается."
      ],
      "metadata": {
        "id": "JP2aDOjkycow"
      }
    },
    {
      "cell_type": "markdown",
      "source": [
        "###7. В предположении нормальности ошибок построить доверительные интервалы для параметров $\\beta_{0}, \\beta_{1}, \\beta_{2}$ уровня доверия 1 -$\\alpha$. Написать уравнение доверительного эллимсоида уровня доверия 1 - $\\alpha.$"
      ],
      "metadata": {
        "id": "X3OJ7fijPtC3"
      }
    },
    {
      "cell_type": "markdown",
      "source": [
        "####Доверительный интервал для $\\beta_{0}$:\n",
        "\n"
      ],
      "metadata": {
        "id": "yd2_vPwwY2sX"
      }
    },
    {
      "cell_type": "code",
      "source": [
        "beta = [beta_0, beta_1, beta_2]"
      ],
      "metadata": {
        "id": "xP_dMKk8bdN6"
      },
      "execution_count": null,
      "outputs": []
    },
    {
      "cell_type": "code",
      "source": [
        "C = np.array([1,0, 0])"
      ],
      "metadata": {
        "id": "7YxB7p7kY2sY"
      },
      "execution_count": null,
      "outputs": []
    },
    {
      "cell_type": "code",
      "source": [
        "psi_est = C.T.dot(beta)"
      ],
      "metadata": {
        "id": "Qxo3G9IGY2sY"
      },
      "execution_count": null,
      "outputs": []
    },
    {
      "cell_type": "markdown",
      "source": [
        "Элемент диcперсии оценки: $b_{\\psi} = C^{T}(X^{T}X)C$"
      ],
      "metadata": {
        "id": "pD8D0oYFY2sY"
      }
    },
    {
      "cell_type": "code",
      "source": [
        "b = C.T.dot(np.linalg.inv(X_matrix.T.dot(X_matrix))).dot(C)\n",
        "b"
      ],
      "metadata": {
        "id": "iFFRR3yOY2sY",
        "colab": {
          "base_uri": "https://localhost:8080/"
        },
        "outputId": "a320d52a-0583-4f34-8fc7-c9deb9b76dc8"
      },
      "execution_count": null,
      "outputs": [
        {
          "output_type": "execute_result",
          "data": {
            "text/plain": [
              "0.11422450057719775"
            ]
          },
          "metadata": {},
          "execution_count": 187
        }
      ]
    },
    {
      "cell_type": "markdown",
      "source": [
        "$x_{\\alpha}: S_{n - r}(x_{\\alpha}) = 1 - \\frac{\\alpha}{2}$"
      ],
      "metadata": {
        "id": "1ysqtQAmY2sY"
      }
    },
    {
      "cell_type": "code",
      "source": [
        "x_alpha = sps.t(df = n - 2).ppf(1 - alpha/2)\n",
        "x_alpha"
      ],
      "metadata": {
        "id": "N6vpZNuuY2sZ",
        "colab": {
          "base_uri": "https://localhost:8080/"
        },
        "outputId": "c8f5fe39-b8ac-4246-da73-cb7110479109"
      },
      "execution_count": null,
      "outputs": [
        {
          "output_type": "execute_result",
          "data": {
            "text/plain": [
              "2.0106347546964454"
            ]
          },
          "metadata": {},
          "execution_count": 188
        }
      ]
    },
    {
      "cell_type": "markdown",
      "source": [
        "Доверительный интервал уровня доверия $1 - \\alpha$:"
      ],
      "metadata": {
        "id": "r4e56wG8Y2sZ"
      }
    },
    {
      "cell_type": "code",
      "source": [
        "left = psi_est - x_alpha * np.sqrt(var_est) * np.sqrt(b)\n",
        "right = psi_est + x_alpha * np.sqrt(var_est) * np.sqrt(b)\n",
        "\n",
        "print(f' Доверительный интервал:[{left}, {right}]')"
      ],
      "metadata": {
        "id": "3TRXz0n2Y2sZ",
        "colab": {
          "base_uri": "https://localhost:8080/"
        },
        "outputId": "3b50ddf1-5d89-4285-e8ff-0c2fbb2ce6f0"
      },
      "execution_count": null,
      "outputs": [
        {
          "output_type": "stream",
          "name": "stdout",
          "text": [
            " Доверительный интервал:[11.200997574729309, 15.6247515105588]\n"
          ]
        }
      ]
    },
    {
      "cell_type": "markdown",
      "source": [
        "[11.200997574729309, 15.6247515105588] $\\ni \\hat{\\psi_{\\beta_{0}}}$"
      ],
      "metadata": {
        "id": "si7kpBVcY2sZ"
      }
    },
    {
      "cell_type": "markdown",
      "source": [
        "#### Доверительный интервал для $\\beta_{1}$:"
      ],
      "metadata": {
        "id": "8bpx4T-uY2sZ"
      }
    },
    {
      "cell_type": "code",
      "source": [
        "C = np.array([0, 1, 0])"
      ],
      "metadata": {
        "id": "l4z3oRn_Y2sZ"
      },
      "execution_count": null,
      "outputs": []
    },
    {
      "cell_type": "code",
      "source": [
        "psi_est = C.T.dot(beta)"
      ],
      "metadata": {
        "id": "06Pu-19hY2sZ"
      },
      "execution_count": null,
      "outputs": []
    },
    {
      "cell_type": "code",
      "source": [
        "b = C.T.dot(np.linalg.inv(X_matrix.T.dot(X_matrix))).dot(C)\n",
        "b"
      ],
      "metadata": {
        "id": "gLIJohwTY2sZ",
        "colab": {
          "base_uri": "https://localhost:8080/"
        },
        "outputId": "05dc4b7e-860d-445d-a105-77e9720180b3"
      },
      "execution_count": null,
      "outputs": [
        {
          "output_type": "execute_result",
          "data": {
            "text/plain": [
              "0.04086478571941016"
            ]
          },
          "metadata": {},
          "execution_count": 192
        }
      ]
    },
    {
      "cell_type": "code",
      "source": [
        "x_alpha = sps.t(df = n - 2).ppf(1 - alpha/2)\n",
        "x_alpha"
      ],
      "metadata": {
        "id": "Pm7eZzYkY2sa",
        "colab": {
          "base_uri": "https://localhost:8080/"
        },
        "outputId": "22dfd831-4f85-4de1-9d85-76a784dd8e80"
      },
      "execution_count": null,
      "outputs": [
        {
          "output_type": "execute_result",
          "data": {
            "text/plain": [
              "2.0106347546964454"
            ]
          },
          "metadata": {},
          "execution_count": 193
        }
      ]
    },
    {
      "cell_type": "markdown",
      "source": [
        "Доверительный интервал уровня доверия $1 - \\alpha$:"
      ],
      "metadata": {
        "id": "Mxd80UI9Y2sa"
      }
    },
    {
      "cell_type": "code",
      "source": [
        "left = psi_est - x_alpha * np.sqrt(var_est) * np.sqrt(b)\n",
        "right = psi_est + x_alpha * np.sqrt(var_est) * np.sqrt(b)\n",
        "\n",
        "print(f' Доверительный интервал:[{left}, {right}]')"
      ],
      "metadata": {
        "id": "lFZTXBveY2sa",
        "colab": {
          "base_uri": "https://localhost:8080/"
        },
        "outputId": "144b6ed4-aaa9-49be-899b-70143d2157a0"
      },
      "execution_count": null,
      "outputs": [
        {
          "output_type": "stream",
          "name": "stdout",
          "text": [
            " Доверительный интервал:[-0.4343134768357858, 2.211662769523987]\n"
          ]
        }
      ]
    },
    {
      "cell_type": "markdown",
      "source": [
        "[-0.4343134768357858, 2.211662769523987]$\\ni \\hat{\\psi_{\\beta_{1}}}$\n",
        "\n",
        "\n"
      ],
      "metadata": {
        "id": "FBUajXMAY2sa"
      }
    },
    {
      "cell_type": "markdown",
      "source": [
        "#### Доверительный интервал для $\\beta_{2}$:"
      ],
      "metadata": {
        "id": "vubbaSSZe14M"
      }
    },
    {
      "cell_type": "code",
      "source": [
        "C = np.array([0, 0, 1])"
      ],
      "metadata": {
        "id": "c8s3RYySe14M"
      },
      "execution_count": null,
      "outputs": []
    },
    {
      "cell_type": "code",
      "source": [
        "psi_est = C.T.dot(beta)"
      ],
      "metadata": {
        "id": "Q6JsUy8ve14M"
      },
      "execution_count": null,
      "outputs": []
    },
    {
      "cell_type": "markdown",
      "source": [
        "Элемент диcперсии оценки: $b_{\\psi} = C^{T}(X^{T}X)C$"
      ],
      "metadata": {
        "id": "GcfzuqB2e14M"
      }
    },
    {
      "cell_type": "code",
      "source": [
        "b = C.T.dot(np.linalg.inv(X_matrix.T.dot(X_matrix))).dot(C)\n",
        "b"
      ],
      "metadata": {
        "id": "jpKJhCuge14N",
        "colab": {
          "base_uri": "https://localhost:8080/"
        },
        "outputId": "0fe82ee4-bee5-4460-dc77-323cb8037190"
      },
      "execution_count": null,
      "outputs": [
        {
          "output_type": "execute_result",
          "data": {
            "text/plain": [
              "0.0006853000450018588"
            ]
          },
          "metadata": {},
          "execution_count": 197
        }
      ]
    },
    {
      "cell_type": "markdown",
      "source": [
        "$x_{\\alpha}: S_{n - r}(x_{\\alpha}) = 1 - \\frac{\\alpha}{2}$"
      ],
      "metadata": {
        "id": "YXg_Y2Zfe14N"
      }
    },
    {
      "cell_type": "code",
      "source": [
        "x_alpha = sps.t(df = n - 2).ppf(1 - alpha/2)\n",
        "x_alpha"
      ],
      "metadata": {
        "id": "uRR59ujve14N",
        "colab": {
          "base_uri": "https://localhost:8080/"
        },
        "outputId": "d68481a1-5a59-4461-d4f1-121277f6cdfc"
      },
      "execution_count": null,
      "outputs": [
        {
          "output_type": "execute_result",
          "data": {
            "text/plain": [
              "2.0106347546964454"
            ]
          },
          "metadata": {},
          "execution_count": 198
        }
      ]
    },
    {
      "cell_type": "markdown",
      "source": [
        "Доверительный интервал уровня доверия $1 - \\alpha$:"
      ],
      "metadata": {
        "id": "yBfkMOO2e14N"
      }
    },
    {
      "cell_type": "code",
      "source": [
        "left = psi_est - x_alpha * np.sqrt(var_est) * np.sqrt(b)\n",
        "right = psi_est + x_alpha * np.sqrt(var_est) * np.sqrt(b)\n",
        "\n",
        "print(f' Доверительный интервал:[{left}, {right}]')"
      ],
      "metadata": {
        "id": "8W9amjhne14N",
        "colab": {
          "base_uri": "https://localhost:8080/"
        },
        "outputId": "fb2ad742-8661-4acf-d1cf-30da1ba05aa5"
      },
      "execution_count": null,
      "outputs": [
        {
          "output_type": "stream",
          "name": "stdout",
          "text": [
            " Доверительный интервал:[-0.2977018370846519, 0.044948929899352424]\n"
          ]
        }
      ]
    },
    {
      "cell_type": "markdown",
      "source": [
        "[-0.2977018370846519, 0.044948929899352424]$\\ni \\hat{\\psi_{\\beta_{2}}}$\n",
        "\n",
        "\n",
        "\n"
      ],
      "metadata": {
        "id": "OPu0cMyce14N"
      }
    },
    {
      "cell_type": "markdown",
      "source": [
        "#### Уравнение доверительного эллипсоида:"
      ],
      "metadata": {
        "id": "yPXNDGL2gqkr"
      }
    },
    {
      "cell_type": "code",
      "source": [
        "C = np.diag(np.full(3,1))\n",
        "C"
      ],
      "metadata": {
        "id": "jqDzaaWpgueS",
        "colab": {
          "base_uri": "https://localhost:8080/"
        },
        "outputId": "b35962cc-17ab-4dcb-a860-41ab756af5e3"
      },
      "execution_count": null,
      "outputs": [
        {
          "output_type": "execute_result",
          "data": {
            "text/plain": [
              "array([[1, 0, 0],\n",
              "       [0, 1, 0],\n",
              "       [0, 0, 1]])"
            ]
          },
          "metadata": {},
          "execution_count": 200
        }
      ]
    },
    {
      "cell_type": "code",
      "source": [
        "psi_est = C.T.dot(beta)\n",
        "B = C.T.dot(np.linalg.inv(X_matrix.T.dot(X_matrix))).dot(C)"
      ],
      "metadata": {
        "id": "G1cTL8AghHrP"
      },
      "execution_count": null,
      "outputs": []
    },
    {
      "cell_type": "code",
      "source": [
        "x_symbol = sympy.Symbol('x')\n",
        "y_symbol = sympy.Symbol('y')\n",
        "z_symbol = sympy.Symbol('z')\n",
        "\n",
        "x_vec = np.matrix([[x_symbol], [y_symbol], [z_symbol]])\n",
        "expr = (x_vec - psi_est).T * inv(B) * (x_vec - psi_est)\n",
        "print(f\"Неравенство эллипса: {expr[0,0].as_poly().as_expr()} <= {2 * var_est * sps.f(2, n - 2).ppf(1 - alpha)}\")"
      ],
      "metadata": {
        "id": "lpsih3SnhHrQ",
        "colab": {
          "base_uri": "https://localhost:8080/"
        },
        "outputId": "62e24e68-09f0-4d8e-e13a-6c67127414bc"
      },
      "execution_count": null,
      "outputs": [
        {
          "output_type": "stream",
          "name": "stdout",
          "text": [
            "Неравенство эллипса: 50.0000000000003*x**2 + 342.000000000003*x*y + 1674.00000000001*x*z - 28381.6425322351*x + 837.000000000006*y**2 + 9426.00000000006*y*z - 153470.110516934*y + 29049.0000000002*z**2 - 928144.092601889*z + 7444117.51028687 <= 67.61078573882064\n"
          ]
        }
      ]
    },
    {
      "cell_type": "markdown",
      "source": [
        "Рассчет полуосей:"
      ],
      "metadata": {
        "id": "MFzTzgRQeV_9"
      }
    },
    {
      "cell_type": "code",
      "source": [
        "cov = inv(B)\n",
        "eigenvalues, _ = np.linalg.eig(cov)\n",
        "np.sqrt(1/eigenvalues * (alpha * 2 * var_est))"
      ],
      "metadata": {
        "colab": {
          "base_uri": "https://localhost:8080/"
        },
        "id": "jKpp6Cv4b0yM",
        "outputId": "5d100096-7a15-4c0d-840a-72a351c3ee78"
      },
      "execution_count": null,
      "outputs": [
        {
          "output_type": "execute_result",
          "data": {
            "text/plain": [
              "array([0.00595866, 0.39130068, 0.10903977])"
            ]
          },
          "metadata": {},
          "execution_count": 203
        }
      ]
    },
    {
      "cell_type": "markdown",
      "source": [
        "Первая полуось $≈$ 0.00595\n",
        "\n",
        "Вторая полуось $≈$ 0.39130\n",
        "\n",
        "Третья полуось $≈$ 0.10903"
      ],
      "metadata": {
        "id": "IdErXVl4cPpq"
      }
    },
    {
      "cell_type": "markdown",
      "source": [
        "###8.Сформулировать гипотезу линейной регрессионной зависимости переменной Y от X и проверить ее значимость на уровне $\\alpha$"
      ],
      "metadata": {
        "id": "bb3X2UaOCsVj"
      }
    },
    {
      "cell_type": "markdown",
      "source": [
        "$H_{0}: \\bar\\beta = (0, \\hat\\beta_{1}, 0)^{T}$\n",
        "\n",
        "$H_{A}: \\beta_{1} \\not= (0, \\hat\\beta_{1}, 0)^{T}$"
      ],
      "metadata": {
        "id": "ZUpTegNFb8aU"
      }
    },
    {
      "cell_type": "markdown",
      "source": [
        "Рассчет F - статистики:"
      ],
      "metadata": {
        "id": "NnenAwpQkDEf"
      }
    },
    {
      "cell_type": "code",
      "source": [
        "beta_H0 = np.array([0, beta[1], 0])"
      ],
      "metadata": {
        "id": "NQGZMESYkDEf"
      },
      "execution_count": null,
      "outputs": []
    },
    {
      "cell_type": "code",
      "source": [
        "F = (RSS(beta_H0) - RSS(beta)) * (n - 2)/2/RSS(beta)"
      ],
      "metadata": {
        "id": "FwrLdquokDEf"
      },
      "execution_count": null,
      "outputs": []
    },
    {
      "cell_type": "code",
      "source": [
        "print(f'F-статистика равна {F}')"
      ],
      "metadata": {
        "colab": {
          "base_uri": "https://localhost:8080/"
        },
        "outputId": "ca193f6d-6399-4e3b-86a2-cf193aff02e2",
        "id": "w6gXSNFJkDEg"
      },
      "execution_count": null,
      "outputs": [
        {
          "output_type": "stream",
          "name": "stdout",
          "text": [
            "F-статистика равна 312.4928466197135\n"
          ]
        }
      ]
    },
    {
      "cell_type": "code",
      "source": [
        "print('Граница критической области:', sps.f(2, n-2).ppf(1-alpha))"
      ],
      "metadata": {
        "colab": {
          "base_uri": "https://localhost:8080/"
        },
        "outputId": "8e1640e6-a2a6-43c2-83a5-327fb7d582f2",
        "id": "p-O0z6wGkDEg"
      },
      "execution_count": null,
      "outputs": [
        {
          "output_type": "stream",
          "name": "stdout",
          "text": [
            "Граница критической области: 3.1907273359284987\n"
          ]
        }
      ]
    },
    {
      "cell_type": "code",
      "source": [
        "print('p-value:', 1 - sps.f(2, n -2).cdf(F))"
      ],
      "metadata": {
        "colab": {
          "base_uri": "https://localhost:8080/"
        },
        "outputId": "143d0b43-c69e-4122-fdeb-29e078f976ab",
        "id": "nWTfauL-kDEg"
      },
      "execution_count": null,
      "outputs": [
        {
          "output_type": "stream",
          "name": "stdout",
          "text": [
            "p-value: 1.1102230246251565e-16\n"
          ]
        }
      ]
    },
    {
      "cell_type": "markdown",
      "source": [
        "F-статистика попала далеко за пределы доверительного интервала. Гипотеза $H_{0}$ отвергается."
      ],
      "metadata": {
        "id": "cRKavl_skDEg"
      }
    },
    {
      "cell_type": "markdown",
      "source": [
        "##Выводы"
      ],
      "metadata": {
        "id": "lCPF7OH4L_0I"
      }
    },
    {
      "cell_type": "markdown",
      "source": [
        "В ходе данной работы были изучены две модели регрессии: линейная и полиномиальная. Были рассчитаны коэффициенты моделей методом МНК, построены гистограммы ошибок, распределение ошибок было проверено на нормальность тестами Колмогорова и $𝛘^{2}$. Для параметров было проведено доверительное оценивание. Были проверены гипотезы о независимости переменных X и Y, X^2 и Y."
      ],
      "metadata": {
        "id": "_EWUXzVROoxS"
      }
    }
  ]
}