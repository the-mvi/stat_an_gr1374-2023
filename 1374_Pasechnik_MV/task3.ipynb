{
  "cells": [
    {
      "cell_type": "markdown",
      "id": "8fb28d82",
      "metadata": {
        "id": "8fb28d82"
      },
      "source": [
        "# Практическая работа №3: Регрессионный анализ\n",
        "Выполнил студент гр. 1374 Пасечник М.В. Вариант №17"
      ]
    },
    {
      "cell_type": "markdown",
      "id": "8f294f98",
      "metadata": {
        "id": "8f294f98"
      },
      "source": [
        "## Цель работы\n",
        "Ознакомление с основными положениями метода наименьших квадратов (МНК), со статистическими свойствами МНК-оценок, с понятием функции регрессии и роли МНК в регрессионном анализе.\n",
        "\n"
      ]
    },
    {
      "cell_type": "markdown",
      "id": "7d631288",
      "metadata": {
        "id": "7d631288"
      },
      "source": [
        "## Основные теоретические положения\n",
        "\n",
        "**Линейная регриессионная модель:**\n",
        "\n",
        "$$\\mathbb{E}_{\\theta}(Y|z) = x(z)^{\\intercal}\\beta $$\n",
        "\n",
        "**Статистическая модель**\n",
        "$$\\mathbb{E}_{\\theta}(Y|z) = X^{\\intercal}\\beta , \\mathrm{Var}(Y|z) = \\sigma^2 \\mathrm{E}$$\n",
        "\n",
        "**Регрессионная модель:**\n",
        "\n",
        "$$\\mathbb{E}_{\\theta}(Y|z)=f_{\\theta}(z)$$\n",
        "\n",
        "**Метод наименьших квадратов:**\n",
        "$$RSS(\\beta)=\\left\\| Y-X^\\intercal\\beta \\right\\|^2=(Y-X^\\intercal\\beta)^\\intercal(Y-X^\\intercal\\beta)\\to \\min_\\beta$$\n",
        "\n",
        "**Нормальные уравнения:** $$XX^\\intercal\\beta=XY$$\n",
        "\n",
        "**Решение системы нормальных уравнений в регулярном случае:** $$\\hat{\\beta}=(XX^\\intercal)^{-1}XY$$\n",
        "\n",
        "\n",
        "**Оценка параметра $\\sigma^2$** $$s^2 \\frac{RSS(\\widehat\\beta)}{n-r}=\\frac{SSe}{n-r}$$\n",
        "\n",
        "**Доверительный эллипс для параметра $(\\beta_0, \\beta_1)$:**\n",
        "\n",
        "**ДНО-функция:** $$\\psi = C^\\intercal \\beta = (\\beta_0, \\beta_1)^\\intercal$$\n",
        "\n",
        "**МНК оценка** $$\\hat{\\psi} = (\\hat{\\beta}_0, \\hat{\\beta}_1)^\\intercal$$\n",
        "\n",
        "**Доверительный эллипс:** $$\\left\\{\\overrightarrow{x} : \\left(\\overrightarrow{x} - \\hat{\\psi}\\right)^\\intercal b_\\psi^{-1} \\left(\\overrightarrow{x} - \\hat{\\psi}\\right) \\le q S^2 x_\\alpha\\right\\}$$\n",
        "\n",
        "$x_\\alpha: \\mathcal{F}_{q, n-r}(x_\\alpha) = 1 - \\alpha$, $b_\\psi = C^\\intercal(XX^\\intercal)^{-1}C$\n",
        "\n",
        "**F - статистика:**  $$\\mathbb{F} = \\frac{{SS_H}}{S^2*rank(X)} $$\n",
        "\n"
      ]
    },
    {
      "cell_type": "markdown",
      "id": "10a95486",
      "metadata": {
        "id": "10a95486"
      },
      "source": [
        "## Постановка задачи\n",
        "\n",
        "Результаты статистического эксперимента представлены в виде двух переменных. Требуется оценить характер (случайной) зависимости переменной $Y$\n",
        " от переменной $X$\n",
        ". Полученные результаты содержательно проинтерпретировать."
      ]
    },
    {
      "cell_type": "markdown",
      "id": "7d575418",
      "metadata": {
        "id": "7d575418"
      },
      "source": [
        "## Выполнение работы"
      ]
    },
    {
      "cell_type": "markdown",
      "source": [
        "### 1. Построить графически результаты эксперимента. Сформулировать линейную регрессионную модель переменной $Y$ по переменной $X$. Построить МНК оценки параметров сдвига $\\beta_0$ и масштаба $\\beta_1$. Построить полученную линию регрессии. Оценить визуально соответствие полученных данных и построенной оценки."
      ],
      "metadata": {
        "id": "-UAELXSs9ri4"
      },
      "id": "-UAELXSs9ri4"
    },
    {
      "cell_type": "code",
      "source": [
        "import numpy as np\n",
        "import scipy as sp\n",
        "import scipy.stats as sps\n",
        "import pandas as pd\n",
        "import matplotlib.pyplot as plt\n",
        "import seaborn as sns\n",
        "from sklearn.linear_model import LinearRegression\n",
        "import sympy"
      ],
      "metadata": {
        "id": "qCosgLT3EFZW"
      },
      "id": "qCosgLT3EFZW",
      "execution_count": 45,
      "outputs": []
    },
    {
      "cell_type": "code",
      "source": [
        "alpha = 0.02\n",
        "h = 2.30\n",
        "\n",
        "X = [3, 6, 6, 4, 5, 4, 5, 5, 5, 3, 3, 3, 3, 3, 3, 4, 3, 3, 2, 2, 1, 1, 3, 3, 4,\n",
        "     4, 2, 3, 2, 3, 3, 2, 4, 1, 5, 3, 5, 1, 4, 5, 5, 5, 4, 4, 4, 4, 4, 2, 2, 2]\n",
        "\n",
        "Y = [20.85, 15.67, 15.43, 15.52, 8.33, 13.00, 17.05, 5.52, 7.98, 22.25, 16.68,\n",
        "     17.77,13.06, 12.86, 11.24, 6.62, 8.70, 17.94, 25.22, 16.08, 12.05, 15.63,\n",
        "     6.96, 15.17, 15.54, 0.88, 10.77, 18.33, 4.06, 14.51, 14.06, 14.38, 14.71,\n",
        "     12.42, 9.81, 13.82, 11.85, 10.65, 8.18, 10.09, 5.00, 5.79, 14.90, 9.00,\n",
        "     3.81, 10.21, 11.97, 14.15, 16.79, 26.29]\n",
        "\n",
        "n = len(X)"
      ],
      "metadata": {
        "id": "LH6r8jYEEF6a"
      },
      "id": "LH6r8jYEEF6a",
      "execution_count": 46,
      "outputs": []
    },
    {
      "cell_type": "code",
      "source": [
        "data = {'X': X, 'Y': Y}\n",
        "data = pd.DataFrame(data)"
      ],
      "metadata": {
        "id": "fiXBkVg8FgDb"
      },
      "id": "fiXBkVg8FgDb",
      "execution_count": 47,
      "outputs": []
    },
    {
      "cell_type": "code",
      "source": [
        "sns.set_theme(style='whitegrid')\n",
        "p = sns.jointplot(x = 'X', y = 'Y', data = data, kind=\"reg\")\n",
        "p.fig.suptitle(\"Результаты эксперимента\")\n",
        "p.fig.tight_layout()"
      ],
      "metadata": {
        "colab": {
          "base_uri": "https://localhost:8080/",
          "height": 607
        },
        "id": "UDPUkSpFep4A",
        "outputId": "31f67437-ec2c-466a-b2df-17763ccea2b1"
      },
      "id": "UDPUkSpFep4A",
      "execution_count": 48,
      "outputs": [
        {
          "output_type": "display_data",
          "data": {
            "text/plain": [
              "<Figure size 600x600 with 3 Axes>"
            ],
            "image/png": "[encoded data removed]"
          },
          "metadata": {}
        }
      ]
    },
    {
      "cell_type": "markdown",
      "source": [
        "**Линейная регрессионная модель имеет вид:**\n",
        "\n",
        "$\\mathbb{E}_{\\theta}(Y|z) = x(z)^{\\intercal}\\beta$\n",
        "\n",
        "$Y = \\beta_0 + \\beta_1 X + \\varepsilon$"
      ],
      "metadata": {
        "id": "gRiGB_RgTheG"
      },
      "id": "gRiGB_RgTheG"
    },
    {
      "cell_type": "markdown",
      "source": [
        "**Построение МНК оценок:**\n",
        "\n",
        "$RSS(\\beta) = \\left(Y-X^{\\intercal}\\beta\\right)^{\\intercal} \\left(Y-X^{\\intercal}\\beta\\right) \\to \\min_\\beta $"
      ],
      "metadata": {
        "id": "j5U7OjwRTn-s"
      },
      "id": "j5U7OjwRTn-s"
    },
    {
      "cell_type": "code",
      "source": [
        "X = np.array(data['X']).reshape(-1,1)\n",
        "Y = np.array(data['Y'])\n",
        "\n",
        "model = LinearRegression().fit(X, Y)\n",
        "\n",
        "b0 = model.intercept_\n",
        "b1 = model.coef_\n",
        "\n",
        "print('betta_0 =',b0 ,'betta_1 =', b1[0])"
      ],
      "metadata": {
        "colab": {
          "base_uri": "https://localhost:8080/"
        },
        "id": "UMctmthMT4aj",
        "outputId": "de472fa8-ec72-4a19-8879-e3cd42f056c9"
      },
      "id": "UMctmthMT4aj",
      "execution_count": 49,
      "outputs": [
        {
          "output_type": "stream",
          "name": "stdout",
          "text": [
            "betta_0 = 17.127243902439023 betta_1 = -1.2753658536585366\n"
          ]
        }
      ]
    },
    {
      "cell_type": "code",
      "source": [
        "y_pred1 = model.predict(X)\n",
        "\n",
        "y_pred1"
      ],
      "metadata": {
        "colab": {
          "base_uri": "https://localhost:8080/"
        },
        "id": "-z5gzhzqysmt",
        "outputId": "b093c67c-ca89-4bab-937d-041432d0f3f0"
      },
      "id": "-z5gzhzqysmt",
      "execution_count": 50,
      "outputs": [
        {
          "output_type": "execute_result",
          "data": {
            "text/plain": [
              "array([13.30114634,  9.47504878,  9.47504878, 12.02578049, 10.75041463,\n",
              "       12.02578049, 10.75041463, 10.75041463, 10.75041463, 13.30114634,\n",
              "       13.30114634, 13.30114634, 13.30114634, 13.30114634, 13.30114634,\n",
              "       12.02578049, 13.30114634, 13.30114634, 14.5765122 , 14.5765122 ,\n",
              "       15.85187805, 15.85187805, 13.30114634, 13.30114634, 12.02578049,\n",
              "       12.02578049, 14.5765122 , 13.30114634, 14.5765122 , 13.30114634,\n",
              "       13.30114634, 14.5765122 , 12.02578049, 15.85187805, 10.75041463,\n",
              "       13.30114634, 10.75041463, 15.85187805, 12.02578049, 10.75041463,\n",
              "       10.75041463, 10.75041463, 12.02578049, 12.02578049, 12.02578049,\n",
              "       12.02578049, 12.02578049, 14.5765122 , 14.5765122 , 14.5765122 ])"
            ]
          },
          "metadata": {},
          "execution_count": 50
        }
      ]
    },
    {
      "cell_type": "code",
      "source": [
        "betta = np.array([b0, b1[0]]).reshape(-1,1)\n",
        "X_1 = np.vstack([np.ones(n),X.T])"
      ],
      "metadata": {
        "id": "LgMnSahGCtQN"
      },
      "id": "LgMnSahGCtQN",
      "execution_count": 51,
      "outputs": []
    },
    {
      "cell_type": "markdown",
      "source": [
        "**МНК**"
      ],
      "metadata": {
        "id": "EqYqt3t4Emwj"
      },
      "id": "EqYqt3t4Emwj"
    },
    {
      "cell_type": "code",
      "source": [
        "RSS = np.sum((Y - y_pred1)**2)"
      ],
      "metadata": {
        "id": "rWreSjegDG1w"
      },
      "id": "rWreSjegDG1w",
      "execution_count": 52,
      "outputs": []
    },
    {
      "cell_type": "markdown",
      "source": [
        "**Нормальные уравнения**\n",
        "\n",
        "$$XX^{\\intercal}\\beta = XY$$"
      ],
      "metadata": {
        "id": "ToIaQvAsEpMz"
      },
      "id": "ToIaQvAsEpMz"
    },
    {
      "cell_type": "code",
      "source": [
        "XY = np.matmul(X_1, Y)\n",
        "XXT = np.matmul(X_1, X_1.T)\n",
        "XXT1 = np.linalg.inv(XXT)"
      ],
      "metadata": {
        "id": "2olveK3KFISc"
      },
      "id": "2olveK3KFISc",
      "execution_count": 53,
      "outputs": []
    },
    {
      "cell_type": "markdown",
      "source": [
        "**Решение системы нормальных уравнений в регулярном случае**\n",
        "\n",
        "$$\\widehat\\beta = \\left(X X^{\\intercal} \\right)^{-1} XY$$"
      ],
      "metadata": {
        "id": "7CwfexfXFWk-"
      },
      "id": "7CwfexfXFWk-"
    },
    {
      "cell_type": "code",
      "source": [
        "XXT1XY = np.matmul(XXT1, XY)\n",
        "print('betta с крышкой = ', XXT1XY)"
      ],
      "metadata": {
        "colab": {
          "base_uri": "https://localhost:8080/"
        },
        "id": "34Ve62M3FXAU",
        "outputId": "19f2f29a-a4e8-4b03-c8a5-10bc372bc5fa"
      },
      "id": "34Ve62M3FXAU",
      "execution_count": 54,
      "outputs": [
        {
          "output_type": "stream",
          "name": "stdout",
          "text": [
            "betta с крышкой =  [17.1272439  -1.27536585]\n"
          ]
        }
      ]
    },
    {
      "cell_type": "code",
      "source": [
        "y_pred = model.predict(X)\n",
        "plt.plot(X, y_pred)\n",
        "plt.suptitle('Линейная регрессия')\n",
        "plt.tight_layout()"
      ],
      "metadata": {
        "colab": {
          "base_uri": "https://localhost:8080/",
          "height": 489
        },
        "id": "URwti2WMGOdl",
        "outputId": "804bab8a-ba48-4995-e7b0-e59d37a360d4"
      },
      "id": "URwti2WMGOdl",
      "execution_count": 55,
      "outputs": [
        {
          "output_type": "display_data",
          "data": {
            "text/plain": [
              "<Figure size 640x480 with 1 Axes>"
            ],
            "image/png": "[encoded data removed]"
          },
          "metadata": {}
        }
      ]
    },
    {
      "cell_type": "markdown",
      "source": [
        "**Модель хорошо описывает зависимость данных.**"
      ],
      "metadata": {
        "id": "tCot1M7FHGg1"
      },
      "id": "tCot1M7FHGg1"
    },
    {
      "cell_type": "markdown",
      "source": [
        "### 2. Построить и интерпретировать несмещённую оценку дисперсии. На базе ошибок построить гистограмму с шагом $h$. Проверить гипотезу нормальности ошибок на уровне значимости $\\alpha$ по $\\chi^2$. Оценить растояние полученной оценки до класса нормальных распределений по Колмогорову. Визуально оценить этот факт."
      ],
      "metadata": {
        "id": "FnbruQ0f-_Hi"
      },
      "id": "FnbruQ0f-_Hi"
    },
    {
      "cell_type": "markdown",
      "source": [
        "Оценка параметра $\\sigma^2$:\n",
        "\n",
        "$$s^2 = \\frac{SS_{e}}{n-r} = \\frac{RSS(\\widehat\\beta)}{n-r}$$"
      ],
      "metadata": {
        "id": "RN18UrpGIX6k"
      },
      "id": "RN18UrpGIX6k"
    },
    {
      "cell_type": "code",
      "source": [
        "S2 = RSS/(n-np.linalg.matrix_rank(X_1))\n",
        "div = Y - y_pred\n",
        "div = np.sort(div)\n",
        "print(\"Несмещенная оценка дисперсии\", S2)"
      ],
      "metadata": {
        "colab": {
          "base_uri": "https://localhost:8080/"
        },
        "id": "DvVygOUtHgiT",
        "outputId": "6c57cf20-92b3-4f13-dc2f-4497b04e5ce1"
      },
      "id": "DvVygOUtHgiT",
      "execution_count": 56,
      "outputs": [
        {
          "output_type": "stream",
          "name": "stdout",
          "text": [
            "Несмещенная оценка дисперсии 25.563089354674798\n"
          ]
        }
      ]
    },
    {
      "cell_type": "code",
      "source": [
        "sns.histplot(div, binwidth=h)\n",
        "plt.suptitle('Гистограмма с шагом 2.3')\n",
        "plt.tight_layout()"
      ],
      "metadata": {
        "colab": {
          "base_uri": "https://localhost:8080/",
          "height": 489
        },
        "id": "rXtvIPawH3g4",
        "outputId": "948403bf-b225-4a03-ad2c-b8a7e2f53fb4"
      },
      "id": "rXtvIPawH3g4",
      "execution_count": 57,
      "outputs": [
        {
          "output_type": "display_data",
          "data": {
            "text/plain": [
              "<Figure size 640x480 with 1 Axes>"
            ],
            "image/png": "[encoded data removed]"
          },
          "metadata": {}
        }
      ]
    },
    {
      "cell_type": "markdown",
      "source": [
        "Проверка гипотезы нормальности ошибок на уровне значимости $\\alpha$ по $\\chi^2$"
      ],
      "metadata": {
        "id": "9iMRNoI3KvWG"
      },
      "id": "9iMRNoI3KvWG"
    },
    {
      "cell_type": "code",
      "source": [
        "n_i = n/4\n",
        "intervals = [[-12,-4.60114634], [-4.60114634,-0.94041463], [-0.94041463,0.97421951], [0.97421951,12]]\n",
        "x_mean = [(intervals[0][0]+intervals[0][1])/2, (intervals[1][0]+intervals[1][1])/2, (intervals[2][0]+intervals[2][1])/2,\n",
        "         (intervals[3][0]+intervals[3][1])/2] # середины интервалов\n",
        "xn = np.multiply(x_mean,n_i)\n",
        "x2n = np.multiply(np.square(x_mean),n_i)\n",
        "xn_mean = np.sum(xn)/n\n",
        "x2n_mean = np.sum(x2n)/n\n",
        "var = x2n_mean - xn_mean**2\n",
        "s = np.sqrt(var*(n/(n-1)))\n",
        "\n",
        "Lapl_intervals =  [[-np.inf,(intervals[0][1]-xn_mean)/s],\n",
        "                  [(intervals[1][0]-xn_mean)/s,(intervals[1][1]-xn_mean)/s],\n",
        "                  [(intervals[2][0]-xn_mean)/s,(intervals[2][1]-xn_mean)/s],\n",
        "                  [(intervals[3][0]-xn_mean)/s,(intervals[3][1]-xn_mean)/s]]"
      ],
      "metadata": {
        "id": "Nlj1HCvENdU8"
      },
      "id": "Nlj1HCvENdU8",
      "execution_count": 58,
      "outputs": []
    },
    {
      "cell_type": "code",
      "source": [
        "Lapl_intervals"
      ],
      "metadata": {
        "colab": {
          "base_uri": "https://localhost:8080/"
        },
        "id": "UeEEqFUWO5gE",
        "outputId": "43490f27-279b-44f3-f724-00631b7c95b0"
      },
      "id": "UeEEqFUWO5gE",
      "execution_count": 59,
      "outputs": [
        {
          "output_type": "execute_result",
          "data": {
            "text/plain": [
              "[[-inf, -0.6430444294974352],\n",
              " [-0.6430444294974352, 0.03744169939131574],\n",
              " [0.03744169939131574, 0.3933492275523574],\n",
              " [0.3933492275523574, 2.4429096100085785]]"
            ]
          },
          "metadata": {},
          "execution_count": 59
        }
      ]
    },
    {
      "cell_type": "code",
      "source": [
        "z_i = [[sp.stats.norm.cdf(-np.inf), sp.stats.norm.cdf((intervals[0][1]-xn_mean)/s)],\n",
        "      [sp.stats.norm.cdf((intervals[1][0]-xn_mean)/s), sp.stats.norm.cdf((intervals[1][1]-xn_mean)/s)],\n",
        "      [sp.stats.norm.cdf((intervals[2][0]-xn_mean)/s), sp.stats.norm.cdf((intervals[2][1]-xn_mean)/s)],\n",
        "      [sp.stats.norm.cdf((intervals[3][0]-xn_mean)/s), sp.stats.norm.cdf((intervals[3][1]-xn_mean)/s)]]\n",
        "\n",
        "p_i = ([z_i[0][1] - z_i[0][0], z_i[1][1] -z_i [1][0], z_i[2][1] - z_i[2][0], z_i[3][1] - z_i[3][0]])\n",
        "p_i"
      ],
      "metadata": {
        "colab": {
          "base_uri": "https://localhost:8080/"
        },
        "id": "ejhwnOkPQI5B",
        "outputId": "06677e8b-7f5a-4f5c-fae3-b8bb5cadaa13"
      },
      "id": "ejhwnOkPQI5B",
      "execution_count": 60,
      "outputs": [
        {
          "output_type": "execute_result",
          "data": {
            "text/plain": [
              "[0.26009763556219,\n",
              " 0.2548359521084882,\n",
              " 0.13803563031664967,\n",
              " 0.33974608909998316]"
            ]
          },
          "metadata": {},
          "execution_count": 60
        }
      ]
    },
    {
      "cell_type": "code",
      "source": [
        "p_i = np.round(np.multiply(p_i,n),3)\n",
        "p_i"
      ],
      "metadata": {
        "colab": {
          "base_uri": "https://localhost:8080/"
        },
        "id": "bM8yF95kUFrT",
        "outputId": "7395b062-aa93-4d9c-c14a-abfbd7405303"
      },
      "id": "bM8yF95kUFrT",
      "execution_count": 61,
      "outputs": [
        {
          "output_type": "execute_result",
          "data": {
            "text/plain": [
              "array([13.005, 12.742,  6.902, 16.987])"
            ]
          },
          "metadata": {},
          "execution_count": 61
        }
      ]
    },
    {
      "cell_type": "code",
      "source": [
        "chi = 0\n",
        "for i in range(len(p_i)):\n",
        "    chi += (n_i-p_i[i])**2/p_i[i]\n",
        "print('хи практический:', chi)\n",
        "print(\"хи теоретический:\", sp.stats.chi2.ppf(1 - alpha, df = 4-2))"
      ],
      "metadata": {
        "colab": {
          "base_uri": "https://localhost:8080/"
        },
        "id": "arTHOlLcUHJR",
        "outputId": "d6afd79c-65b2-4739-c600-2adccbdde3d5"
      },
      "id": "arTHOlLcUHJR",
      "execution_count": 62,
      "outputs": [
        {
          "output_type": "stream",
          "name": "stdout",
          "text": [
            "хи практический: 5.7497819915178905\n",
            "хи теоретический: 7.824046010856292\n"
          ]
        }
      ]
    },
    {
      "cell_type": "markdown",
      "source": [
        "### 3. В предположении нормальности ошибок построить доверительные интервалы для параметров $\\beta_0$ и $\\beta_1$ уровня доверия $1-\\alpha$. Построить доверительный эллипс уровня доверия $1-\\alpha$ для $\\left(\\beta_0, \\beta_1\\right)$ (вычислить его полуоси)."
      ],
      "metadata": {
        "id": "0N21N5IlANDJ"
      },
      "id": "0N21N5IlANDJ"
    },
    {
      "cell_type": "markdown",
      "source": [
        "**Доверительный  интервал для  параметра $\\beta_0$:**\n",
        "\n",
        "**Линейная функция параметра: $\\psi(\\beta) = C^\\intercal \\beta = \\beta_0$**\n",
        "\n",
        "Тогда $C = (1, 0)^\\intercal$\n",
        "\n",
        "**ДНО функция:**\n",
        "\n",
        "$\\psi(\\beta) = C^\\intercal \\beta$\n",
        "\n",
        "**МНК функция:**\n",
        "\n",
        "$\\psi(\\beta) = C^\\intercal \\widehat\\beta$\n",
        "\n",
        "Тогда **МНК оценка** равна $\\widehat{\\psi} = \\widehat{\\beta}_0$\n",
        "\n",
        "**Доверительный интервал** имеет вид: $\\left[\\widehat{\\psi} - x_\\alpha S \\sqrt{b_\\psi}; \\widehat{\\psi} + x_\\alpha S \\sqrt{b_\\psi}\\right]$,\n",
        "\n",
        "$x_\\alpha: S_{n-r}(x_\\alpha) = 1 - \\frac{\\alpha}{2}$, $b_\\psi = C^\\intercal(XX^\\intercal)^{-1}C$"
      ],
      "metadata": {
        "id": "4wjawkKSaI6B"
      },
      "id": "4wjawkKSaI6B"
    },
    {
      "cell_type": "code",
      "source": [
        "r = np.linalg.matrix_rank(X_1)\n",
        "x_alpha = sp.stats.t.ppf(1 - alpha/2, df = 50 - r)\n",
        "C = np.matrix([[1], [0]])\n",
        "b_psi = float(np.matmul(np.matmul(C.T, np.linalg.inv(np.matmul(X_1, X_1.T))), C))\n",
        "print(\"x_alpha = \", x_alpha)\n",
        "print(\"left = \", betta[0] - x_alpha * np.sqrt(S2) * np.sqrt(b_psi))\n",
        "print(\"right = \", betta[0] + x_alpha * np.sqrt(S2) * np.sqrt(b_psi))"
      ],
      "metadata": {
        "colab": {
          "base_uri": "https://localhost:8080/"
        },
        "id": "DZEcQCVnZq-K",
        "outputId": "9a180d96-70da-4013-b05d-55c63dee1764"
      },
      "id": "DZEcQCVnZq-K",
      "execution_count": 63,
      "outputs": [
        {
          "output_type": "stream",
          "name": "stdout",
          "text": [
            "x_alpha =  2.4065812732756067\n",
            "left =  [12.24536231]\n",
            "right =  [22.00912549]\n"
          ]
        }
      ]
    },
    {
      "cell_type": "markdown",
      "source": [
        "**Таким образом, ДИ уровня значимости $\\alpha = 0.02$ для $\\beta_0 = 17.127$:**\n",
        "\n",
        "$$\\left[12.245, 22.009\\right] \\ni \\beta_0$$"
      ],
      "metadata": {
        "id": "Yp4yINxdc2U_"
      },
      "id": "Yp4yINxdc2U_"
    },
    {
      "cell_type": "markdown",
      "source": [
        "**Доверительный  интервал для  параметра $\\beta_1$:**\n",
        "\n",
        "**Линейная функция параметра: $\\psi(\\beta) = C^\\intercal \\beta = \\beta_1$**\n",
        "\n",
        "Тогда $C = (0, 1)^\\intercal$\n",
        "\n",
        "**ДНО функция:**\n",
        "\n",
        "$\\psi(\\beta) = C^\\intercal \\beta$\n",
        "\n",
        "**МНК функция:**\n",
        "\n",
        "$\\psi(\\beta) = C^\\intercal \\widehat\\beta$\n",
        "\n",
        "Тогда **МНК оценка** равна $\\widehat{\\psi} = \\widehat{\\beta}_1$\n",
        "\n",
        "**Доверительный интервал** имеет вид: $\\left[\\widehat{\\psi} - x_\\alpha S \\sqrt{b_\\psi}; \\widehat{\\psi} + x_\\alpha S \\sqrt{b_\\psi}\\right]$,\n",
        "\n",
        "$x_\\alpha: S_{n-r}(x_\\alpha) = 1 - \\frac{\\alpha}{2}$, $b_\\psi = C^\\intercal(XX^\\intercal)^{-1}C$"
      ],
      "metadata": {
        "id": "ko8YdH_ndN4x"
      },
      "id": "ko8YdH_ndN4x"
    },
    {
      "cell_type": "code",
      "source": [
        "C = np.matrix([[0], [1]])\n",
        "b_psi = float(np.matmul(np.matmul(C.T, np.linalg.inv(np.matmul(X_1, X_1.T))), C))\n",
        "print(\"x_alpha = \", x_alpha)\n",
        "print(\"left = \", betta[1] - x_alpha * np.sqrt(S2) * np.sqrt(b_psi))\n",
        "print(\"right = \", betta[1] + x_alpha * np.sqrt(S2) * np.sqrt(b_psi))\n"
      ],
      "metadata": {
        "colab": {
          "base_uri": "https://localhost:8080/"
        },
        "id": "xd-vf03rdT46",
        "outputId": "6e467fa6-4b97-4a7d-ec7d-10b33a7d22a3"
      },
      "id": "xd-vf03rdT46",
      "execution_count": 64,
      "outputs": [
        {
          "output_type": "stream",
          "name": "stdout",
          "text": [
            "x_alpha =  2.4065812732756067\n",
            "left =  [-2.61905954]\n",
            "right =  [0.06832783]\n"
          ]
        }
      ]
    },
    {
      "cell_type": "markdown",
      "source": [
        "**Таким образом, ДИ уровня значимости $\\alpha = 0.02$ для $\\beta_1 = -1.275$:**\n",
        "\n",
        "$$\\left[-2.619, 0.068\\right] \\ni \\beta_1$$"
      ],
      "metadata": {
        "id": "jidje6tTdhRE"
      },
      "id": "jidje6tTdhRE"
    },
    {
      "cell_type": "markdown",
      "source": [
        "**Доверительный эллипс для параметра $(\\beta_0, \\beta_1)$:**\n",
        "\n",
        "**Линейная функция параметра:** $\\psi = C^\\intercal \\beta = (\\beta_0, \\beta_1)^\\intercal$\n",
        "\n",
        "Тогда $C = \\begin{pmatrix}1 & 0 \\\\0 & 1\\end{pmatrix}$\n",
        "\n",
        "Тогда **МНК оценка** равна $\\widehat{\\psi} = (\\widehat{\\beta}_0, \\widehat{\\beta}_1)^\\intercal$\n",
        "\n",
        "**Доверительный эллипс** имеет вид: $\\left\\{\\overrightarrow{x} : \\left(\\overrightarrow{x} - \\hat{\\psi}\\right)^\\intercal b_\\psi^{-1} \\left(\\overrightarrow{x} - \\hat{\\psi}\\right) \\le q S^2 x_\\alpha\\right\\}$,\n",
        "\n",
        "$x_\\alpha: \\mathcal{F}_{q, n-r}(x_\\alpha) = 1 - \\alpha$, $b_\\psi = C^\\intercal(XX^\\intercal)^{-1}C$"
      ],
      "metadata": {
        "id": "Ev5P9K-ydvak"
      },
      "id": "Ev5P9K-ydvak"
    },
    {
      "cell_type": "code",
      "source": [
        "C = np.matrix([[1, 0], [0, 1]])\n",
        "\n",
        "b_psi = np.matmul(np.matmul(C.T, np.linalg.inv(np.matmul(X_1, X_1.T))), C)\n",
        "print(\"Определитель матрицы b_psi = \", np.linalg.det(b_psi))\n",
        "print(\"x_alpha = \", x_alpha)\n",
        "\n",
        "x_sym = sympy.Symbol('x')\n",
        "y_sym = sympy.Symbol('y')\n",
        "\n",
        "axis_vec = np.matrix([[x_sym], [y_sym]])\n",
        "expr = (axis_vec - betta).T * np.linalg.inv(b_psi) * (axis_vec - betta)\n",
        "print(f\"Неравенство имеет вид: {expr[0,0].as_poly().as_expr()} <= {2 * S2 * x_alpha}\")"
      ],
      "metadata": {
        "colab": {
          "base_uri": "https://localhost:8080/"
        },
        "id": "sH80RFBveFOj",
        "outputId": "e965ada5-7b4a-4cc9-fa79-d06ffb31b861"
      },
      "id": "sH80RFBveFOj",
      "execution_count": 65,
      "outputs": [
        {
          "output_type": "stream",
          "name": "stdout",
          "text": [
            "Определитель матрицы b_psi =  0.00024390243902439033\n",
            "x_alpha =  2.4065812732756067\n",
            "Неравенство имеет вид: 50.0*x**2 + 340.0*x*y - 1279.1*x + 660.0*y**2 - 4139.78*y + 8313.8618109756 <= 123.03930425606276\n"
          ]
        }
      ]
    },
    {
      "cell_type": "code",
      "source": [
        "b_1_arr = np.arange(n)\n",
        "b_1_arr = np.full_like(b_1_arr, betta[1])\n",
        "cov = np.cov(np.column_stack((div, b_1_arr)))\n",
        "\n",
        "e_val, e_vec = np.linalg.eig(cov)\n",
        "\n",
        "ax_0 = np.sqrt(e_val[0] * sps.chi2.ppf(1 - alpha/2, 2))\n",
        "ax_1 = np.sqrt(e_val[1] * sps.chi2.ppf(1 -  alpha/2, 2))\n",
        "\n",
        "print(ax_0, ax_1)"
      ],
      "metadata": {
        "colab": {
          "base_uri": "https://localhost:8080/"
        },
        "id": "GI2wKBaBed-c",
        "outputId": "11f8796d-a6c4-447d-b70e-2b455c341449"
      },
      "id": "GI2wKBaBed-c",
      "execution_count": 66,
      "outputs": [
        {
          "output_type": "stream",
          "name": "stdout",
          "text": [
            "0j (76.68723885548694+0j)\n"
          ]
        }
      ]
    },
    {
      "cell_type": "markdown",
      "source": [
        "### 4. Сформулировать гипотезу независимости переменной  $Y$ от переменной $X$. Провести проверку значимости."
      ],
      "metadata": {
        "id": "fu9Y1JbPBD9B"
      },
      "id": "fu9Y1JbPBD9B"
    },
    {
      "cell_type": "markdown",
      "source": [
        "Основная гипотеза:$ H_0 : \\psi = 0$\n",
        "\n",
        "$ F - статистика: \\mathbb{F} = \\frac{\\frac{SS_H}{q}}{\\frac{SSe}{n-r}}$\n",
        "\n",
        "$s^2 = \\frac{SSe}{n-r}$\n",
        "\n",
        "В итоге: $\\mathbb{F} = \\frac{{SS_H}}{S^2 \\cdot \\mathrm{rank(X)}} $"
      ],
      "metadata": {
        "id": "mwCyJgRqyVAB"
      },
      "id": "mwCyJgRqyVAB"
    },
    {
      "cell_type": "code",
      "source": [
        "b_h = np.array([Y.mean(),0])\n",
        "F = (np.sum((Y - np.matmul(X_1.T, b_h))**2) -RSS )/(S2 * 2)\n",
        "F_crit = sps.f.ppf(1 - alpha, r, 50 - r)\n",
        "print(\"F = \",F)\n",
        "print(\"x_alpha = \", F_crit)"
      ],
      "metadata": {
        "colab": {
          "base_uri": "https://localhost:8080/"
        },
        "id": "Y-Zq49TEyS5y",
        "outputId": "40678c50-c873-4c68-a016-7c3f9cb34394"
      },
      "id": "Y-Zq49TEyS5y",
      "execution_count": 67,
      "outputs": [
        {
          "output_type": "stream",
          "name": "stdout",
          "text": [
            "F =  2.6087958134688174\n",
            "x_alpha =  4.248907630769176\n"
          ]
        }
      ]
    },
    {
      "cell_type": "markdown",
      "source": [
        "$F < x_{\\alpha}$, значит линейная зависимость отсутсвует."
      ],
      "metadata": {
        "id": "G7N3un_i2kOT"
      },
      "id": "G7N3un_i2kOT"
    },
    {
      "cell_type": "markdown",
      "source": [
        "### 5. Сформулировать модель, включающую дополнительный член $X^2$. Построить МНК оценки параметров $\\beta_0$,$\\beta_1$,$\\beta_2$ в данной модели. Изобразить графически полученную регрессионную зависимость."
      ],
      "metadata": {
        "id": "1CyHfRyqBYln"
      },
      "id": "1CyHfRyqBYln"
    },
    {
      "cell_type": "code",
      "source": [
        "X_1_1 = np.vstack([np.ones(n), X.transpose(),X.transpose()**2]).astype('int')\n",
        "\n",
        "model_1 = LinearRegression()\n",
        "model_1.fit(X_1_1.T, Y)\n",
        "y_pred_1 = model_1.predict(X_1_1.T)\n",
        "betta0_1= model_1.intercept_\n",
        "betta1_1 = model_1.coef_\n",
        "\n",
        "betta1 = [betta0_1, betta1_1[1], betta1_1[2]]"
      ],
      "metadata": {
        "id": "PtyEI9RsiVZ0"
      },
      "id": "PtyEI9RsiVZ0",
      "execution_count": 68,
      "outputs": []
    },
    {
      "cell_type": "markdown",
      "source": [
        "**Решение системы нормальных уравнений в регулярном случае**\n",
        "\n",
        "$$\\widehat\\beta = \\left(X X^{\\intercal} \\right)^{-1} XY$$"
      ],
      "metadata": {
        "id": "N5TnHiOik6RA"
      },
      "id": "N5TnHiOik6RA"
    },
    {
      "cell_type": "code",
      "source": [
        "XY_1 = np.matmul(X_1_1, Y)\n",
        "XXT_1 = np.matmul(X_1_1, X_1_1.T)\n",
        "XXT1_1 = np.linalg.inv(XXT_1)\n",
        "XXT1XY_1 = np.matmul(XXT1_1, XY_1)\n",
        "print('betta с крышкой = ', XXT1XY_1)"
      ],
      "metadata": {
        "colab": {
          "base_uri": "https://localhost:8080/"
        },
        "id": "cTvahKyikICH",
        "outputId": "8a13ad89-3cbd-4820-e9d9-3e8f76b966b1"
      },
      "id": "cTvahKyikICH",
      "execution_count": 69,
      "outputs": [
        {
          "output_type": "stream",
          "name": "stdout",
          "text": [
            "betta с крышкой =  [16.5091721  -0.84799219 -0.06325747]\n"
          ]
        }
      ]
    },
    {
      "cell_type": "code",
      "source": [
        "x = np.arange(0,6,0.1)\n",
        "y = XXT1XY_1[0] + XXT1XY_1[1]*x + XXT1XY_1[2]*x**2\n",
        "\n",
        "plt.plot(x,y)\n",
        "plt.scatter(X, Y, color = \"red\")\n",
        "plt.suptitle('Регрессионная зависимость')\n",
        "plt.tight_layout()"
      ],
      "metadata": {
        "colab": {
          "base_uri": "https://localhost:8080/",
          "height": 489
        },
        "id": "-YOaGnNLlCIH",
        "outputId": "3abb434a-5d6c-4dcc-b1e2-6502625df595"
      },
      "id": "-YOaGnNLlCIH",
      "execution_count": 70,
      "outputs": [
        {
          "output_type": "display_data",
          "data": {
            "text/plain": [
              "<Figure size 640x480 with 1 Axes>"
            ],
            "image/png": "[encoded data removed]"
          },
          "metadata": {}
        }
      ]
    },
    {
      "cell_type": "markdown",
      "source": [
        "### 6. Построить несмещённую оценку дисперсии. Провести исследование нормальности ошибок как в пункте 2."
      ],
      "metadata": {
        "id": "MIMFNxNjCHBT"
      },
      "id": "MIMFNxNjCHBT"
    },
    {
      "cell_type": "code",
      "source": [
        "RSS_1 = np.sum((Y - y_pred_1)**2)\n",
        "S2_1 = RSS/(n-np.linalg.matrix_rank(X_1_1))\n",
        "div_1 = Y - y_pred_1\n",
        "sns.histplot(div_1, binwidth=h)\n",
        "plt.suptitle('Гистограмма ошибок с шагом 2.3')\n",
        "plt.tight_layout()"
      ],
      "metadata": {
        "colab": {
          "base_uri": "https://localhost:8080/",
          "height": 489
        },
        "id": "fGy5R3d7mWKo",
        "outputId": "bc47bde5-7258-49b9-d8b3-2d7743c1f4e2"
      },
      "id": "fGy5R3d7mWKo",
      "execution_count": 71,
      "outputs": [
        {
          "output_type": "display_data",
          "data": {
            "text/plain": [
              "<Figure size 640x480 with 1 Axes>"
            ],
            "image/png": "[encoded data removed]"
          },
          "metadata": {}
        }
      ]
    },
    {
      "cell_type": "code",
      "source": [
        "div_1 = np.sort(div_1)"
      ],
      "metadata": {
        "id": "xHBlvJA-mwTS"
      },
      "id": "xHBlvJA-mwTS",
      "execution_count": 72,
      "outputs": []
    },
    {
      "cell_type": "code",
      "source": [
        "intervals = [[-12,-4.69587827], [-4.69587827,-0.87777431], [-0.87777431,0.89491624], [0.89491624,12]]\n",
        "x_mean = [(intervals[0][0]+intervals[0][1])/2, (intervals[1][0]+intervals[1][1])/2, (intervals[2][0]+intervals[2][1])/2,\n",
        "         (intervals[3][0]+intervals[3][1])/2] # середины интервалов\n",
        "xn = np.multiply(x_mean,n_i)\n",
        "x2n = np.multiply(np.square(x_mean),n_i)\n",
        "xn_mean = np.sum(xn)/n\n",
        "x2n_mean = np.sum(x2n)/n\n",
        "var = x2n_mean - xn_mean**2\n",
        "s = np.sqrt(var*(n/(n-1)))\n",
        "\n",
        "Lapl_intervals =  [[-np.inf,(intervals[0][1]-xn_mean)/s],\n",
        "                  [(intervals[1][0]-xn_mean)/s,(intervals[1][1]-xn_mean)/s],\n",
        "                  [(intervals[2][0]-xn_mean)/s,(intervals[2][1]-xn_mean)/s],\n",
        "                  [(intervals[3][0]-xn_mean)/s,(intervals[3][1]-xn_mean)/s]]"
      ],
      "metadata": {
        "id": "6zdJUa8Gmy8k"
      },
      "id": "6zdJUa8Gmy8k",
      "execution_count": 73,
      "outputs": []
    },
    {
      "cell_type": "code",
      "source": [
        "z_i_1 = [[sp.stats.norm.cdf(-np.inf), sp.stats.norm.cdf((intervals[0][1]-xn_mean)/s)],\n",
        "      [sp.stats.norm.cdf((intervals[1][0]-xn_mean)/s), sp.stats.norm.cdf((intervals[1][1]-xn_mean)/s)],\n",
        "      [sp.stats.norm.cdf((intervals[2][0]-xn_mean)/s), sp.stats.norm.cdf((intervals[2][1]-xn_mean)/s)],\n",
        "      [sp.stats.norm.cdf((intervals[3][0]-xn_mean)/s), sp.stats.norm.cdf((intervals[3][1]-xn_mean)/s)]]\n",
        "\n",
        "p_i_1 = ([z_i_1[0][1] - z_i_1[0][0], z_i_1[1][1] -z_i_1 [1][0], z_i_1[2][1] - z_i_1[2][0], z_i_1[3][1] - z_i_1[3][0]])\n",
        "p_i_1"
      ],
      "metadata": {
        "colab": {
          "base_uri": "https://localhost:8080/"
        },
        "id": "kFhtD8xOm_Oy",
        "outputId": "5da9db08-de49-4e2c-8ce1-df73a31b051a"
      },
      "id": "kFhtD8xOm_Oy",
      "execution_count": 74,
      "outputs": [
        {
          "output_type": "execute_result",
          "data": {
            "text/plain": [
              "[0.2561798529477346,\n",
              " 0.2654469418967128,\n",
              " 0.1277369565417118,\n",
              " 0.3434323245353238]"
            ]
          },
          "metadata": {},
          "execution_count": 74
        }
      ]
    },
    {
      "cell_type": "code",
      "source": [
        "p_i_1 = np.round(np.multiply(p_i_1,n),3)\n",
        "p_i_1"
      ],
      "metadata": {
        "colab": {
          "base_uri": "https://localhost:8080/"
        },
        "id": "8ZEK3nGhnHAt",
        "outputId": "6877011e-38d8-4051-ea54-9a2f29da4773"
      },
      "id": "8ZEK3nGhnHAt",
      "execution_count": 75,
      "outputs": [
        {
          "output_type": "execute_result",
          "data": {
            "text/plain": [
              "array([12.809, 13.272,  6.387, 17.172])"
            ]
          },
          "metadata": {},
          "execution_count": 75
        }
      ]
    },
    {
      "cell_type": "code",
      "source": [
        "chi = 0\n",
        "for i in range(len(p_i_1)):\n",
        "    chi += (n_i-p_i_1[i])**2/p_i_1[i]\n",
        "print('хи практический:', chi)\n",
        "print(\"хи теоретический:\", sp.stats.chi2.ppf(1 - alpha, df = 4-3))"
      ],
      "metadata": {
        "colab": {
          "base_uri": "https://localhost:8080/"
        },
        "id": "pz5YbjhgnDrq",
        "outputId": "a185c42a-8140-4b4b-fbf0-102a7feba09b"
      },
      "id": "pz5YbjhgnDrq",
      "execution_count": 76,
      "outputs": [
        {
          "output_type": "stream",
          "name": "stdout",
          "text": [
            "хи практический: 7.174228915999166\n",
            "хи теоретический: 5.411894431054342\n"
          ]
        }
      ]
    },
    {
      "cell_type": "markdown",
      "source": [
        "**Гипотезу отвергаем**"
      ],
      "metadata": {
        "id": "_E7slEwwqsBM"
      },
      "id": "_E7slEwwqsBM"
    },
    {
      "cell_type": "markdown",
      "source": [
        "### 7. В предположении нормальности ошибок построить доверительные интервалы для параметров $\\beta_0$,$\\beta_1$,$\\beta_2$ уровня доверия $1-\\alpha$. Написать уравнение доверительного эллипсоида уровня доверия $1-\\alpha$."
      ],
      "metadata": {
        "id": "DyH-ueEwCj6E"
      },
      "id": "DyH-ueEwCj6E"
    },
    {
      "cell_type": "markdown",
      "source": [
        "**Доверительный  интервал для  параметра $\\beta_0$:**\n",
        "\n",
        "**Линейная функция параметра: $\\psi = C^\\intercal \\beta = \\beta_0$**\n",
        "\n",
        "Тогда $C = (1, 0, 0)^\\intercal$\n",
        "\n",
        "Тогда **МНК оценка** равна $\\widehat{\\psi} = \\widehat{\\beta}_0$\n",
        "\n",
        "**Доверительный интервал** имеет вид: $\\left[\\widehat{\\psi} - x_\\alpha S \\sqrt{b_\\psi}; \\widehat{\\psi} + x_\\alpha S \\sqrt{b_\\psi}\\right]$,\n",
        "\n",
        "$x_\\alpha: S_{n-r}(x_\\alpha) = 1 - \\frac{\\alpha}{2}$, $b_\\psi = C^\\intercal(XX^\\intercal)^{-1}C$"
      ],
      "metadata": {
        "id": "sRnYTWiArp0X"
      },
      "id": "sRnYTWiArp0X"
    },
    {
      "cell_type": "code",
      "source": [
        "r = np.linalg.matrix_rank(X_1_1)\n",
        "x_alpha = sp.stats.t.ppf(1 - alpha/2, df = n - r)\n",
        "C = np.matrix([[1], [0], [0]])\n",
        "b_psi = float(np.matmul(np.matmul(C.T, np.linalg.inv(np.matmul(X_1_1, X_1_1.T))), C))\n",
        "print(\"x_alpha = \", x_alpha)\n",
        "print(\"left = \", XXT1XY_1[0] - x_alpha * np.sqrt(S2_1) * np.sqrt(b_psi))\n",
        "print(\"right = \", XXT1XY_1[0] + x_alpha * np.sqrt(S2_1) * np.sqrt(b_psi))\n",
        "XXT1XY_1"
      ],
      "metadata": {
        "colab": {
          "base_uri": "https://localhost:8080/"
        },
        "id": "rL1QnayVrwkA",
        "outputId": "aadccf2c-151e-4154-fda9-57d7b5b40a71"
      },
      "id": "rL1QnayVrwkA",
      "execution_count": 77,
      "outputs": [
        {
          "output_type": "stream",
          "name": "stdout",
          "text": [
            "x_alpha =  2.408345050443425\n",
            "left =  6.301861088458807\n",
            "right =  26.71648310760935\n"
          ]
        },
        {
          "output_type": "execute_result",
          "data": {
            "text/plain": [
              "array([16.5091721 , -0.84799219, -0.06325747])"
            ]
          },
          "metadata": {},
          "execution_count": 77
        }
      ]
    },
    {
      "cell_type": "markdown",
      "source": [
        "**Таким образом, ДИ уровня значимости $\\alpha = 0.02$ для $\\beta_0 = 16.509$:**\n",
        "\n",
        "$$\\left[6.301, 26.716\\right] \\ni \\beta_0$$"
      ],
      "metadata": {
        "id": "CGTdNP6Sr4FF"
      },
      "id": "CGTdNP6Sr4FF"
    },
    {
      "cell_type": "markdown",
      "source": [
        "**Доверительный  интервал для  параметра $\\beta_1$:**\n",
        "\n",
        "**Линейная функция параметра: $\\psi = C^\\intercal \\beta = \\beta_1$**\n",
        "\n",
        "Тогда $C = (0, 1, 0)^\\intercal$\n",
        "\n",
        "Тогда **МНК оценка** равна $\\widehat{\\psi} = \\widehat{\\beta}_1$\n",
        "\n",
        "**Доверительный интервал** имеет вид: $\\left[\\widehat{\\psi} - x_\\alpha S \\sqrt{b_\\psi}; \\widehat{\\psi} + x_\\alpha S \\sqrt{b_\\psi}\\right]$,\n",
        "\n",
        "$x_\\alpha: S_{n-r}(x_\\alpha) = 1 - \\frac{\\alpha}{2}$, $b_\\psi = C^\\intercal(XX^\\intercal)^{-1}C$"
      ],
      "metadata": {
        "id": "pe4a5EmosFTq"
      },
      "id": "pe4a5EmosFTq"
    },
    {
      "cell_type": "code",
      "source": [
        "C = np.matrix([[0], [1], [0]])\n",
        "b_psi = float(np.matmul(np.matmul(C.T, np.linalg.inv(np.matmul(X_1_1, X_1_1.T))), C))\n",
        "print(\"x_alpha = \", x_alpha)\n",
        "print(\"left = \", XXT1XY_1[1] - x_alpha * np.sqrt(S2_1) * np.sqrt(b_psi))\n",
        "print(\"right = \", XXT1XY_1[1] + x_alpha * np.sqrt(S2_1) * np.sqrt(b_psi))"
      ],
      "metadata": {
        "colab": {
          "base_uri": "https://localhost:8080/"
        },
        "id": "fE7KrBe0sbCK",
        "outputId": "9d4f626a-a0a4-420a-84bf-36055fe7bd2c"
      },
      "id": "fE7KrBe0sbCK",
      "execution_count": 78,
      "outputs": [
        {
          "output_type": "stream",
          "name": "stdout",
          "text": [
            "x_alpha =  2.408345050443425\n",
            "left =  -7.173116968679434\n",
            "right =  5.477132589471379\n"
          ]
        }
      ]
    },
    {
      "cell_type": "markdown",
      "source": [
        "**Таким образом, ДИ уровня значимости $\\alpha = 0.02$ для $\\beta_1 = -0.848$:**\n",
        "\n",
        "$$\\left[-7.173, 5.477\\right] \\ni \\beta_1$$"
      ],
      "metadata": {
        "id": "pw_sXaGXshrF"
      },
      "id": "pw_sXaGXshrF"
    },
    {
      "cell_type": "markdown",
      "source": [
        "**Доверительный  интервал для  параметра $\\beta_2$:**\n",
        "\n",
        "**Линейная функция параметра: $\\psi = C^\\intercal \\beta = \\beta_2$**\n",
        "\n",
        "Тогда $C = (0, 0, 1)^\\intercal$\n",
        "\n",
        "Тогда **МНК оценка** равна $\\widehat{\\psi} = \\widehat{\\beta}_2$\n",
        "\n",
        "**Доверительный интервал** имеет вид: $\\left[\\widehat{\\psi} - x_\\alpha S \\sqrt{b_\\psi}; \\widehat{\\psi} + x_\\alpha S \\sqrt{b_\\psi}\\right]$,\n",
        "\n",
        "$x_\\alpha: S_{n-r}(x_\\alpha) = 1 - \\frac{\\alpha}{2}$, $b_\\psi = C^\\intercal(XX^\\intercal)^{-1}C$"
      ],
      "metadata": {
        "id": "QZAiKdQ5srr-"
      },
      "id": "QZAiKdQ5srr-"
    },
    {
      "cell_type": "code",
      "source": [
        "C = np.matrix([[0], [0], [1]])\n",
        "b_psi = float(np.matmul(np.matmul(C.T, np.linalg.inv(np.matmul(X_1_1, X_1_1.T))), C))\n",
        "print(\"x_alpha = \", x_alpha)\n",
        "print(\"left = \", XXT1XY_1[2] - x_alpha * np.sqrt(S2_1) * np.sqrt(b_psi))\n",
        "print(\"right = \", XXT1XY_1[2] + x_alpha * np.sqrt(S2_1) * np.sqrt(b_psi))"
      ],
      "metadata": {
        "colab": {
          "base_uri": "https://localhost:8080/"
        },
        "id": "g3SNzrtFs1MR",
        "outputId": "028192b4-b761-484a-dfd1-c19a0d11e630"
      },
      "id": "g3SNzrtFs1MR",
      "execution_count": 79,
      "outputs": [
        {
          "output_type": "stream",
          "name": "stdout",
          "text": [
            "x_alpha =  2.408345050443425\n",
            "left =  -0.9776054843799452\n",
            "right =  0.8510905368981053\n"
          ]
        }
      ]
    },
    {
      "cell_type": "markdown",
      "source": [
        "**Таким образом, ДИ уровня значимости $\\alpha = 0.02$ для $\\beta_2 = -0.063$:**\n",
        "\n",
        "$$\\left[-0.978,  0.851\\right] \\ni \\beta_2$$"
      ],
      "metadata": {
        "id": "Cb9sWwZSs4ii"
      },
      "id": "Cb9sWwZSs4ii"
    },
    {
      "cell_type": "markdown",
      "source": [
        "**Доверительный эллипс для параметра $(\\beta_0, \\beta_1, \\beta_2)$:**\n",
        "\n",
        "**Линейная функция параметра:** $\\psi = C^\\intercal \\beta = (\\beta_0, \\beta_1, \\beta_2)^\\intercal$\n",
        "\n",
        "Тогда $C = \\begin{pmatrix}1 & 0 & 0\\\\0 & 1 & 0\\\\ 0 & 0 & 1 \\end{pmatrix}$\n",
        "\n",
        "Тогда **МНК оценка** равна $\\hat{\\psi} = (\\widehat{\\beta}_0, \\widehat{\\beta}_1)^\\intercal$\n",
        "\n",
        "**Доверительный эллипс** имеет вид: $\\left\\{\\overrightarrow{x} : \\left(\\overrightarrow{x} - \\widehat{\\psi}\\right)^\\intercal b_\\psi^{-1} \\left(\\overrightarrow{x} - \\widehat{\\psi}\\right) \\le q S^2 x_\\alpha\\right\\}$,\n",
        "\n",
        "$x_\\alpha: \\mathcal{F}_{q, n-r}(x_\\alpha) = 1 - \\alpha$, $b_\\psi = C^\\intercal(XX^\\intercal)^{-1}C$"
      ],
      "metadata": {
        "id": "M8vv4_6HtR9m"
      },
      "id": "M8vv4_6HtR9m"
    },
    {
      "cell_type": "code",
      "source": [
        "C = np.matrix([[1, 0, 0], [0, 1, 0], [0, 0, 1]])\n",
        "\n",
        "b_psi = np.matmul(np.matmul(C.T, np.linalg.inv(np.matmul(X_1_1, X_1_1.T))), C)\n",
        "print(\"Определитель матрицы b_psi = \", np.linalg.det(b_psi))\n",
        "print(\"x_alpha = \", x_alpha)\n",
        "\n",
        "x_sym = sympy.Symbol('x')\n",
        "y_sym = sympy.Symbol('y')\n",
        "z_sym = sympy.Symbol('z')\n",
        "axis_vec = np.matrix([[x_sym], [y_sym], [z_sym]])\n",
        "expr = (axis_vec - betta1).T * np.linalg.inv(b_psi) * (axis_vec - betta1)\n",
        "print(f\"Неравенство имеет вид: {expr[0,0].as_poly().as_expr()} <= {2 * S2_1 * x_alpha}\")"
      ],
      "metadata": {
        "colab": {
          "base_uri": "https://localhost:8080/"
        },
        "id": "ENVVfaP8tde_",
        "outputId": "6eed3cc8-40ac-4e6c-b688-7347b0274b26"
      },
      "id": "ENVVfaP8tde_",
      "execution_count": 80,
      "outputs": [
        {
          "output_type": "stream",
          "name": "stdout",
          "text": [
            "Определитель матрицы b_psi =  1.3466199838405478e-06\n",
            "x_alpha =  2.408345050443425\n",
            "Неравенство имеет вид: 49.9999999999998*x**2 + 339.999999999999*x*y + 1320.0*x*z - 29056.1428925396*x + 659.999999999999*y**2 + 5595.99999999999*y*z - 119790.552743334*y + 12636.0*z**2 - 531397.231491516*z + 5615132.03079426 <= 125.74925560110447\n"
          ]
        }
      ]
    },
    {
      "cell_type": "code",
      "source": [
        "b_1_arr_1 = np.arange(n)\n",
        "b_1_arr_1 = np.full_like(b_1_arr_1, betta1[1])\n",
        "\n",
        "cov = b_psi\n",
        "e_val, e_vec = np.linalg.eig(cov)\n",
        "\n",
        "ax_0 = np.sqrt(e_val[0] * sps.chi2.ppf(1 - alpha/2, 2))\n",
        "ax_1 = np.sqrt(e_val[1] * sps.chi2.ppf(1 -  alpha/2, 2))\n",
        "ax_2 = np.sqrt(e_val[2] * sps.chi2.ppf(1 -  alpha/2, 2))\n",
        "\n",
        "print(ax_0, ax_1, ax_2)"
      ],
      "metadata": {
        "colab": {
          "base_uri": "https://localhost:8080/"
        },
        "id": "gsL0CoGYt9he",
        "outputId": "5975cda3-70cf-4148-de75-d2fcec7dcab5"
      },
      "id": "gsL0CoGYt9he",
      "execution_count": 81,
      "outputs": [
        {
          "output_type": "stream",
          "name": "stdout",
          "text": [
            "2.94028101945419 0.41909515318703106 0.026322950611420873\n"
          ]
        }
      ]
    },
    {
      "cell_type": "markdown",
      "source": [
        "### 8. Сформулировать гипотезу линейной регрессионной зависимости переменной $Y$ от переменной $X$ и проверить её значимость на уровне $\\alpha$."
      ],
      "metadata": {
        "id": "icDlLreqDO7g"
      },
      "id": "icDlLreqDO7g"
    },
    {
      "cell_type": "markdown",
      "source": [
        "Основная гипотеза:$ H_0 : \\psi = 0$\n",
        "\n",
        "$ F - статистика: \\mathbb{F} = \\frac{\\frac{SS_H}{q}}{\\frac{SSe}{n-r}}$\n",
        "\n",
        "$s^2 = \\frac{SSe}{n-r}$\n",
        "\n",
        "В итоге: $\\mathbb{F} = \\frac{{SS_H}}{S^2 \\cdot \\mathrm{rank(X)}} $"
      ],
      "metadata": {
        "id": "qWbBdRfjysRq"
      },
      "id": "qWbBdRfjysRq"
    },
    {
      "cell_type": "code",
      "source": [
        "b_h = np.array([ betta0_1, betta1_1[1], betta1_1[2]])\n",
        "F = np.sum((betta1[0] + betta1[1] * X + betta1[2] * X ** 2 - np.mean(Y)) ** 2)/(S2_1 * 3)\n",
        "F_crit = sps.f.ppf(1 - alpha, r, n - r)\n",
        "print(\"F = \",F)\n",
        "print(\"x_alpha = \", F_crit)"
      ],
      "metadata": {
        "colab": {
          "base_uri": "https://localhost:8080/"
        },
        "id": "UbPe1MrJyvuK",
        "outputId": "eee3758b-2397-458e-d8e5-79d1a9f960bb"
      },
      "id": "UbPe1MrJyvuK",
      "execution_count": 82,
      "outputs": [
        {
          "output_type": "stream",
          "name": "stdout",
          "text": [
            "F =  1.7122176633646058\n",
            "x_alpha =  3.6061455215960643\n"
          ]
        }
      ]
    },
    {
      "cell_type": "markdown",
      "source": [
        "$F < x_{\\alpha}$, значит квадратичная зависимость отсутсвует."
      ],
      "metadata": {
        "id": "doSa_fj14CtL"
      },
      "id": "doSa_fj14CtL"
    },
    {
      "cell_type": "markdown",
      "source": [
        "## Выводы\n",
        "\n",
        "При выполнении практической работы был проведен регрессионный анализ. Построены линейные модели, произведена оценка параметров и исследование их значимости, проверены гипотезы о независимости и линейной регрессионной зависимости, построены оценки нормальности ошибок, доверительные интервалы. Было оценено расстояние полученных оценок до класса нормальных распределений по Колмогорову. Сформулирована гипотеза о независимости переменной Y от переменной X."
      ],
      "metadata": {
        "id": "OduGMwxW9Uif"
      },
      "id": "OduGMwxW9Uif"
    }
  ],
  "metadata": {
    "kernelspec": {
      "display_name": "Python (ipykernel)",
      "language": "python",
      "name": "python"
    },
    "language_info": {
      "codemirror_mode": {
        "name": "ipython",
        "version": 3
      },
      "file_extension": ".py",
      "mimetype": "text/x-python",
      "name": "python",
      "nbconvert_exporter": "python",
      "pygments_lexer": "ipython3",
      "version": "3.11.4"
    },
    "colab": {
      "provenance": []
    }
  },
  "nbformat": 4,
  "nbformat_minor": 5
}