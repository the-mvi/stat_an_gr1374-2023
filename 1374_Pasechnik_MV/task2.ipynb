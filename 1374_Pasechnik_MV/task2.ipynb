{
  "cells": [
    {
      "cell_type": "markdown",
      "metadata": {
        "id": "pQ0xZkR2XmAL"
      },
      "source": [
        "# Практическая работа №2: Классические методы математической статистики\n",
        "Выполнил студент гр. 1374 Пасечник Матвей. Вариант №17"
      ]
    },
    {
      "cell_type": "markdown",
      "metadata": {
        "id": "jA_uNxNqXmAM"
      },
      "source": [
        "## Цель работы\n",
        "Научится применять методы математической статистики для решения задач статистического анализа;\n",
        "сформировать навыки реализации методов с помощью прикладных программных пакетов."
      ]
    },
    {
      "cell_type": "markdown",
      "metadata": {
        "id": "g4O-kuKwXmAN"
      },
      "source": [
        "## Основные теоретические положения\n",
        "\n",
        "**Выборочный аналог математического ожидания - выборочное среднее:**\n",
        "$$\\overline{X} =\\frac{1}{n}\\sum_{i=1}^{n}x_i$$\n",
        "\n",
        "**Выборочный аналог дисперсии и СКО - выборочную дисперсию и выборочное СКО:**\n",
        "$$S^2 =\\frac{1}{n}\\sum_{i=1}^{n}\\left(x_i-\\overline{X}\\right)$$\n",
        "\n",
        "$$S=\\sqrt{S^2}$$\n",
        "\n",
        "\n",
        "\n",
        "**Выборочный коэффициент асимметрии:**\n",
        "$$\\widehat{\\mathrm{Skew}}X=\\frac{1}{n}\\frac{\\sum \\limits_{i=1}^{n}\\left(x_i-\\overline{X}\\right)^3}{S^3}$$\n",
        "\n",
        "**Выборочный коэффициент эксцесса:**\n",
        "$$\\widehat{\\mathrm{Kurt}}X=\\frac{1}{n}\\frac{\\sum \\limits_{i=1}^{n}\\left(x_i-\\overline{X}\\right)^4}{S^4}-3$$\n",
        "\n",
        "**Метод максимального правдоподобия** - это метод оценивания неизвестного параметра путём максимизации функции правдоподобия\n",
        " $$L(\\overrightarrow{X},\\theta)=\\prod_{i=1}^{n}P_{\\theta}(X_{i})$$\n",
        "\n",
        "**Метод моментов** — метод оценки неизвестных параметров распределений, идея метода заключается в замене истинных соотношений выборочными аналогами.\n",
        "\n",
        "**Статистика критерия Колмагорова:**\n",
        "$$D_n = sup_{x \\in \\mathbb{R}}|F_n(x) - F_0(x)|$$\n",
        "\n",
        "**Теорема Колмагорова:**\n",
        "\n",
        "$\\sqrt{n}D_n \\rightarrow K$, при основной гипотезе\n",
        "\n",
        "**Наиболее мощный критерий:**\n",
        "\n",
        "$$ \\phi(x) =\\left\\{\n",
        "  \\begin{array}{l}\n",
        "    1, LR(x) > с \\\\\n",
        "    p, LR(x) = с \\\\\n",
        "    0, LR(x) < с \\\\\n",
        "  \\end{array}\\right.$$\n",
        "\n",
        "\n"
      ]
    },
    {
      "cell_type": "markdown",
      "metadata": {
        "id": "enQgjW8OXmAN"
      },
      "source": [
        "## Постановка задачи\n",
        "Для полученных в результате эксперимента наборов данных выполнить статистическую обработку. Полученные результаты содержательно проинтерпретировать."
      ]
    },
    {
      "cell_type": "markdown",
      "metadata": {
        "id": "5z6wQqfjXmAN"
      },
      "source": [
        "## Выполнение работы"
      ]
    },
    {
      "cell_type": "markdown",
      "metadata": {
        "id": "quolqV-hXmAN"
      },
      "source": [
        "### 1.a Построить вариационный ряд, эмпирическую функцию распределения и гистограмму частот."
      ]
    },
    {
      "cell_type": "code",
      "execution_count": 96,
      "metadata": {
        "id": "91Lj-MDvXmAN"
      },
      "outputs": [],
      "source": [
        "import matplotlib.pyplot as plt\n",
        "import seaborn as sns\n",
        "import numpy as np\n",
        "from scipy import stats as sp\n",
        "from scipy.stats import expon, kstwobign,gamma\n",
        "\n",
        "import statistics as stat\n",
        "import math\n",
        "import collections"
      ]
    },
    {
      "cell_type": "code",
      "execution_count": 97,
      "metadata": {
        "colab": {
          "base_uri": "https://localhost:8080/"
        },
        "id": "p67PELcOXmAO",
        "outputId": "3d0f76cb-2887-4d0a-909d-8586d9479f02"
      },
      "outputs": [
        {
          "output_type": "stream",
          "name": "stdout",
          "text": [
            "Вариационный ряд: [0, 0, 0, 0, 0, 0, 0, 0, 0, 0, 0, 0, 0, 0, 0, 0, 0, 0, 0, 0, 0, 0, 0, 0, 0, 1, 1, 1, 1, 1, 1, 1, 1, 1, 1, 1, 1, 1, 1, 1, 1, 1, 1, 2, 2, 2, 2, 3, 3, 3]\n"
          ]
        }
      ],
      "source": [
        "data = [0, 1, 3, 0, 3, 0, 2, 0, 1, 0, 1, 0, 1, 0, 0, 1, 0, 1, 0, 1, 0, 2, 2, 1, 0, 1, 0, 1, 0, 0, 0, 2, 1, 0, 3, 1, 0, 1, 0, 1, 0, 1, 0, 0, 1, 0, 1, 1, 0, 0]\n",
        "n = len(data)\n",
        "#вариационный ряд\n",
        "\n",
        "def variation(data):\n",
        "    data.sort()\n",
        "    return data\n",
        "\n",
        "print( \"Вариационный ряд:\", variation(data))"
      ]
    },
    {
      "cell_type": "markdown",
      "metadata": {
        "id": "S8odooRjXmAP"
      },
      "source": [
        "Таким образом, вариационный ряд:\n",
        " $\\vec{X}^\\prime = \\left(0,0,0,0,0,0,0,0,0,0,0,0,0,0,0,0,0,0,0,0,0,0,0,0,0,1,1,1,1,1,1,1,1,1,1,1,1,1,1,1,1,1,1,2,2,2,2,3,3,3 \\right)$"
      ]
    },
    {
      "cell_type": "code",
      "execution_count": 98,
      "metadata": {
        "colab": {
          "base_uri": "https://localhost:8080/",
          "height": 472
        },
        "id": "2PB9NPVVXmAP",
        "outputId": "0657ed30-a3d1-4001-b1af-95bcc04dfc1e"
      },
      "outputs": [
        {
          "output_type": "display_data",
          "data": {
            "text/plain": [
              "<Figure size 640x480 with 1 Axes>"
            ],
            "image/png": "[encoded data removed]"
          },
          "metadata": {}
        }
      ],
      "source": [
        "sns.ecdfplot(data) #построение эмпирической функции распределения\n",
        "\n",
        "plt.title(\"Эмпирическая функция распределения\")\n",
        "plt.xlabel(\"x\")\n",
        "plt.ylabel(\"F(x)\")\n",
        "plt.show()"
      ]
    },
    {
      "cell_type": "code",
      "execution_count": 99,
      "metadata": {
        "colab": {
          "base_uri": "https://localhost:8080/",
          "height": 452
        },
        "id": "dMWf6hE0XmAP",
        "outputId": "e5cb8bed-b258-4e1d-8aa2-73d3d92eab2e"
      },
      "outputs": [
        {
          "output_type": "display_data",
          "data": {
            "text/plain": [
              "<Figure size 640x480 with 1 Axes>"
            ],
            "image/png": "[encoded data removed]"
          },
          "metadata": {}
        }
      ],
      "source": [
        "#гистограмма частот\n",
        "hist = plt.hist(data, edgecolor='black', bins=4, weights=np.ones_like (data) / n, range=(min(data)-0.5, max(data)+0.5))\n",
        "plt.title('Гистограмма частот');"
      ]
    },
    {
      "cell_type": "markdown",
      "metadata": {
        "id": "AhCXeqNoXmAP"
      },
      "source": [
        "### 1.b Вычислить выборочные аналоги следующих числовых характеристик:"
      ]
    },
    {
      "cell_type": "code",
      "execution_count": 100,
      "metadata": {
        "id": "QPdmZvaXXmAQ",
        "outputId": "d8ccae91-495c-4d24-c449-8414e0326d93",
        "colab": {
          "base_uri": "https://localhost:8080/"
        }
      },
      "outputs": [
        {
          "output_type": "stream",
          "name": "stdout",
          "text": [
            "Выборочный математического ожидания 0.7\n"
          ]
        }
      ],
      "source": [
        "#Выборочный математического ожидания\n",
        "print('Выборочный математического ожидания', np.mean(data))\n"
      ]
    },
    {
      "cell_type": "markdown",
      "metadata": {
        "id": "c2QWJWpgXmAQ"
      },
      "source": [
        "Получаем выборочный аналог математического ожидания - выборочное среднее:\n",
        "\n",
        "$\\overline{X} =\\frac{1}{n}\\sum_{i=1}^{n}x_i= 0,7$"
      ]
    },
    {
      "cell_type": "code",
      "execution_count": 101,
      "metadata": {
        "id": "E7bsnwh9XmAQ",
        "outputId": "681aeada-951b-4bf3-b13d-483981bac47f",
        "colab": {
          "base_uri": "https://localhost:8080/"
        }
      },
      "outputs": [
        {
          "output_type": "stream",
          "name": "stdout",
          "text": [
            "Выборочная дисперсия:  0.73\n",
            "Выборочное СКО:  0.8544003745317531\n"
          ]
        }
      ],
      "source": [
        "#Выборочный аналог дисперсии и СКО\n",
        "print(\"Выборочная дисперсия: \", np.var(data))\n",
        "print(\"Выборочное СКО: \",  np.std(data))"
      ]
    },
    {
      "cell_type": "markdown",
      "metadata": {
        "id": "-9VIeB2dXmAQ"
      },
      "source": [
        "Получаем выборочный аналог дисперсии и СКО - выборочную дисперсию и выборочное СКО:\n",
        "\n",
        "$S^2 =\\frac{1}{n}\\sum_{i=1}^{n}\\left(x_i-\\overline{X}\\right)=0.73$\n",
        "\n",
        "$S=\\sqrt{S^2}=0.8544003745317531$"
      ]
    },
    {
      "cell_type": "code",
      "execution_count": 102,
      "metadata": {
        "id": "Ja0blWa6XmAQ",
        "outputId": "a69bf86e-0f60-400b-ea30-2b1d00d29c94",
        "colab": {
          "base_uri": "https://localhost:8080/"
        }
      },
      "outputs": [
        {
          "output_type": "stream",
          "name": "stdout",
          "text": [
            "Выборочная медиана:  0.5\n"
          ]
        }
      ],
      "source": [
        "#Выборочная медиана\n",
        "print(\"Выборочная медиана: \",  np.median(data))"
      ]
    },
    {
      "cell_type": "markdown",
      "metadata": {
        "id": "JoMfzHY-XmAQ"
      },
      "source": [
        "Выборочная медиана:\n",
        "\n",
        "$np = 50\\cdot\\frac{1}{2}=25\\in \\mathbb{Z} \\Rightarrow z_{50,\\frac{1}{2}} =  \\left[ X_{(25)},X_{(26)} \\right) = \\left[0,1\\right) \\Rightarrow z_{50,\\frac{1}{2}} = 0.5$\n"
      ]
    },
    {
      "cell_type": "code",
      "execution_count": 103,
      "metadata": {
        "id": "-nEzcXKZXmAQ",
        "outputId": "247a47ec-3041-45ea-bcca-b28495594e59",
        "colab": {
          "base_uri": "https://localhost:8080/"
        }
      },
      "outputs": [
        {
          "output_type": "stream",
          "name": "stdout",
          "text": [
            "Выборочная асимметрия:  1.1928577193687824\n"
          ]
        }
      ],
      "source": [
        "#Выборочная асимметрия\n",
        "print(\"Выборочная асимметрия: \", sp.skew(data))"
      ]
    },
    {
      "cell_type": "markdown",
      "metadata": {
        "id": "sD9vLrdnXmAQ"
      },
      "source": [
        "Выборочный коэффициент асимметрии:\n",
        "\n",
        "$\\widehat{\\mathrm{Skew}}X=\\frac{1}{n}\\frac{\\sum \\limits_{i=1}^{n}\\left(x_i-\\overline{X}\\right)^3}{S^3} = 1.1928577193687826$"
      ]
    },
    {
      "cell_type": "code",
      "execution_count": 104,
      "metadata": {
        "id": "vZE9KBFFXmAQ",
        "outputId": "617df4f6-6656-42a2-ee68-9ca90ca22046",
        "colab": {
          "base_uri": "https://localhost:8080/"
        }
      },
      "outputs": [
        {
          "output_type": "stream",
          "name": "stdout",
          "text": [
            "Выборочный эксцесс:  0.810283355226121\n"
          ]
        }
      ],
      "source": [
        "#Выборочный эксцесс\n",
        "print(\"Выборочный эксцесс: \", sp.kurtosis(data))"
      ]
    },
    {
      "cell_type": "markdown",
      "metadata": {
        "id": "XZi5xRIQXmAQ"
      },
      "source": [
        "Выборочный коэффициент эксцесса:\n",
        "\n",
        "$\\widehat{\\mathrm{Kurt}}X=\\frac{1}{n}\\frac{\\sum \\limits_{i=1}^{n}\\left(x_i-\\overline{X}\\right)^4}{S^4}-3 = 0.810283355226121$"
      ]
    },
    {
      "cell_type": "code",
      "execution_count": 105,
      "metadata": {
        "id": "E-QCe9y1XmAR",
        "outputId": "65d0c0b3-c7c9-49c0-fd93-6b39117d761c",
        "colab": {
          "base_uri": "https://localhost:8080/"
        }
      },
      "outputs": [
        {
          "output_type": "stream",
          "name": "stdout",
          "text": [
            "Вероятность Р(х = a) =  0.0\n",
            "Вероятность Р(х = b) =  0.5\n",
            "Вероятность:  0.5\n"
          ]
        }
      ],
      "source": [
        "def F(x): #эмпирическая функция распределения\n",
        "    sum_i = 0\n",
        "    for item in data:\n",
        "        if item < x:\n",
        "            sum_i += 1\n",
        "    return sum_i/n\n",
        "\n",
        "a, b = 0, 0.92\n",
        "print(\"Вероятность Р(х = a) = \" , F(a))\n",
        "print(\"Вероятность Р(х = b) = \" , F(b))\n",
        "print(\"Вероятность: \", F(b) - F(a))"
      ]
    },
    {
      "cell_type": "markdown",
      "metadata": {
        "id": "BE1D-RW2XmAR"
      },
      "source": [
        "Выборочный аналог $\\mathbb{P}\\left(x \\in \\left[a, b\\right]\\right)$, a = 0.00, b = 0.92:\n",
        "\n",
        "$\\mathbb{P}\\left(x \\in \\left[a, b\\right]\\right) = \\mathrm{F}(b) - \\mathrm{F}(a) = 0.5 - 0 = 0.5$, где $\\mathrm{F}(x)$ -- эмпирическая функция распределения"
      ]
    },
    {
      "cell_type": "markdown",
      "metadata": {
        "id": "wF1OQT1yXmAR"
      },
      "source": [
        "### 1.c В предположении, что исходные наблюдения являются выборкой из распределения Пуассона, построить оценку максимального правдоподобия параметра $\\lambda$, а также оценку $\\lambda$ по методу моментов. Найти смещение оценок."
      ]
    },
    {
      "cell_type": "markdown",
      "source": [
        "*Плотность распределения пуассона*:\n",
        "$q_{\\theta} = \\frac{\\lambda^x}{x!}e^{-\\lambda}$\n",
        "\n",
        "*Оценка максимального правдоподобия:*\n",
        "\n",
        "$ L\\left(\\vec{X}, \\theta \\right) =\\prod\\limits_{i = 1}^nq_{\\theta}\\left(x_i\\right)=\\prod\\limits_{i = 1}^n\\frac{\\lambda^x_i}{x_i!}e^{-\\lambda} =  \\lambda^{\\sum \\limits_{i=1}^{n}x_i} \\cdot e^{-n\\lambda} \\cdot \\prod\\limits_{i = 1}^n\\frac{1}{x_i!}$\n",
        "\n",
        "$LL\\left(\\vec{X}, \\theta \\right) = \\sum \\limits_{i=1}^{n}x_i \\cdot \\ln{\\lambda} - n\\lambda + \\ln{\\prod\\limits_{i = 1}^n\\frac{1}{\\large x_i!}}$\n",
        "\n",
        "$ \\frac{\\partial LL}{\\partial \\lambda} = \\frac{\\sum \\limits_{i=1}^{n}x_i}{\\lambda} - n = 0 \\Rightarrow \\widehat{\\theta} = \\widehat{\\lambda} = \\overline{X}$ - ОМП\n",
        "\n",
        "$ \\mathbb{E}_{\\theta}\\widehat{\\theta} = \\mathbb{E}_{\\theta}\\overline{X} = \\mathbb{E}_{\\theta}\\frac{1}{n}\\sum \\limits_{i=1}^{n}x_i = \\frac{1}{n} \\cdot n \\cdot \\lambda = \\lambda \\Rightarrow$ несмещённая оценка.\n",
        "\n",
        "*Оценка методом моментов:*\n",
        "\n",
        "$\\mathbb{E}X_1 = \\lambda$ - математическое ожидание (теоретическая величина)\n",
        "\n",
        "$\\mathrm{M_1} = \\overline{X}$ - выборочное среднее (выборочная величина),\n",
        "Следовательно, $\\widetilde{\\theta} = \\widetilde{\\lambda} = \\overline{X}$\n",
        "\n",
        "$\\mathbb{E}_{\\theta}\\widetilde{\\theta} = \\mathbb{E}_{\\theta}\\overline{X} = \\mathbb{E}_{\\theta}\\frac{1}{n}\\sum \\limits_{i=1}^{n}x_i = \\frac{1}{n} \\cdot n \\cdot \\lambda = \\lambda \\Rightarrow$ несмещённая оценка."
      ],
      "metadata": {
        "id": "VbKU-g2JAYTm"
      }
    },
    {
      "cell_type": "markdown",
      "metadata": {
        "id": "dqd3BfFKXmAR"
      },
      "source": [
        "### 1.d Построить асимптотичексий доверительный интервал уровня значимости $\\alpha_1$ для параметра $\\lambda$ на базе оценки максимального правдоподобия.\n"
      ]
    },
    {
      "cell_type": "markdown",
      "source": [
        "$\\alpha_1 = 0.05$\n",
        "\n",
        "*Плотность распределения Пуассона*:\n",
        "\n",
        "$ q_{\\theta} = \\frac{\\lambda^x}{x!}e^{-\\lambda}$\n",
        "\n",
        "$\\widehat{\\theta} = \\widehat{\\lambda} = \\overline{X}$\n",
        "\n",
        "Из пункта 1.с:\n",
        "\n",
        "$ \\frac{\\partial LL}{\\partial \\lambda} = \\frac{\\sum \\limits_{i=1}^{n}x_i}{\\lambda} - n$\n",
        "\n",
        "$\\frac{\\partial^2 LL}{\\partial \\lambda^2} =  - \\frac{\\sum \\limits_{i=1}^{n}x_i}{\\lambda^2}$\n",
        "\n",
        "$\\mathrm{I}_n(\\lambda) = - \\mathbb{E}_{\\theta}\\frac{\\partial^2 LL}{\\partial \\lambda^2} = \\frac{n}{\\lambda}$\n",
        "\n",
        "$\\mathrm{I}(\\lambda) = \\lim \\limits_{n \\to \\infty} \\frac{1}{\\lambda} = \\frac{1}{\\lambda}$\n",
        "\n",
        "*Квантили.*\n",
        "\n",
        "Так как распределение симметричное:\n",
        "\n",
        "$x_{\\alpha} : \\mathrm{\\Phi}(x_{\\alpha}) = 1 - \\frac{\\alpha}{2} = 1 - \\frac{0.05}{2} = 0.975$, где $\\alpha = \\alpha_1 = 0.05$\n",
        "\n",
        "$\\mathrm{\\Phi}(x_{\\alpha}) = 0.975 \\Rightarrow x_{\\alpha} = 1.96 $ из таблицы значений функции Лапласа\n",
        "\n",
        "*Асимптотический доверительный интервал:*\n",
        "\n",
        "$\\left[\\overline{X} - \\sqrt{\\frac{\\overline{X}}{n}} \\cdot x_{\\alpha} , \\overline{X} + \\sqrt{\\frac{\\overline{X}}{n}} \\cdot x_{\\alpha}\\right] \\ni \\lambda$\n",
        "\n",
        "Таким образом, АДИ уровня значимости $\\alpha_1$ для параметра $\\lambda$:\n",
        "$\\left[0.47, 0.93\\right] \\ni \\lambda$"
      ],
      "metadata": {
        "id": "9S9GN1dGAd0Z"
      }
    },
    {
      "cell_type": "code",
      "execution_count": 106,
      "metadata": {
        "id": "0swl-ma1XmAR",
        "outputId": "16193e13-590a-43c8-be05-20f4cf8a1dee",
        "colab": {
          "base_uri": "https://localhost:8080/"
        }
      },
      "outputs": [
        {
          "output_type": "stream",
          "name": "stdout",
          "text": [
            "Асимптотический доверительный интервал:  [0.468089672502495, 0.9319103274975049]\n"
          ]
        }
      ],
      "source": [
        "x_alpha = 1.96\n",
        "xMean = np.mean(data)\n",
        "\n",
        "adi = []\n",
        "\n",
        "left = xMean - x_alpha * ((xMean) / n)**0.5 #подсчёт левой границы АДИ\n",
        "adi.append(left)\n",
        "\n",
        "right = xMean + x_alpha * (xMean / n)**0.5 #подсчёт правой границы АДИ\n",
        "adi.append(right)\n",
        "\n",
        "print(\"Асимптотический доверительный интервал: \", adi)"
      ]
    },
    {
      "cell_type": "markdown",
      "metadata": {
        "id": "1cA9aSEhXmAR"
      },
      "source": [
        "### 1.е Используя гистограмму частот, построить критерий значимости $\\chi^2$ проверки простой гипотезы согласия с распределением Пуассона с параметром $\\lambda_0 = 1.40$. Проверить гипотезу на уровне значимости $\\alpha_1 = 0.05$. Вычислить наибольшее значение уровня значимости, на котором ещё нет оснований отвергнуть данную гипотезу.\n"
      ]
    },
    {
      "cell_type": "markdown",
      "source": [
        "\n",
        "Расммотрим $\\mathbb{P}_{k} = \\mathbb{P}_{\\theta}\\left(x_i \\in G_k\\right) = \\sum \\limits_{x \\in G_k} q_{\\theta}(x)$\n",
        "\n",
        "$\\mathbb{P}_{1} = \\frac{1.4^0}{0!}e^{-1.4} = 0.25$\n",
        "\n",
        "$\\mathbb{P}_{2} = \\frac{1.4^1}{1!}e^{-1.4} = 0.35$\n",
        "\n",
        "$\\mathbb{P}_{3} = \\frac{1.4^2}{2!}e^{-1.4} = 0.24$\n",
        "\n",
        "$\\mathbb{P}_{4} = \\frac{1.4^3}{3!}e^{-1.4} = 0.11$\n",
        "\n",
        "Из таблицы: $\\chi_{k-1, \\alpha_1}^2 = \\chi_{3, 0.05}^2 = 7.815$\n",
        "\n",
        "Получили: $\\chi^2 = 19.69$\n",
        "\n",
        "Так как $\\chi^2 > \\chi_{3, 0.05}^2$, то гипотезу отвергаем\n",
        "\n",
        "Наибольшее значение уровня значимости, при котором ещё нет оснований отвергнуть данную гипотезу 0.05, исходя из значений таблицы $\\chi^2$."
      ],
      "metadata": {
        "id": "w8fPYiROAkxh"
      }
    },
    {
      "cell_type": "code",
      "execution_count": 107,
      "metadata": {
        "id": "mcdrKzjVXmAR",
        "colab": {
          "base_uri": "https://localhost:8080/"
        },
        "outputId": "105b0afe-c57a-48c3-a8a6-1f931af17bd7"
      },
      "outputs": [
        {
          "output_type": "stream",
          "name": "stdout",
          "text": [
            "12.33 17.26 12.08 5.64\n",
            "19.69\n",
            "x_alpha_1 равен: 7.814727903251179\n",
            "p-value =  0.04999999999999993\n"
          ]
        }
      ],
      "source": [
        "lambda_0 = 1.4\n",
        "x_0, x_1, x_2, x_3 = 0, 1, 2, 3\n",
        "exp_lambda = math.exp(-lambda_0)\n",
        "\n",
        "n_1 = data.count(0)\n",
        "n_2 = data.count(1)\n",
        "n_3 = data.count(2)\n",
        "n_4 = data.count(3)\n",
        "\n",
        "#вычисление значений вероятностей\n",
        "P1 = (lambda_0**x_0 / math.factorial(x_0)) * exp_lambda\n",
        "P2 = (lambda_0**x_1 / math.factorial(x_1)) * exp_lambda\n",
        "P3 = (lambda_0**x_2 / math.factorial(x_2)) * exp_lambda\n",
        "P4 = (lambda_0**x_3 / math.factorial(x_3)) * exp_lambda\n",
        "\n",
        "print(round(n*P1,2), round(n*P2,2), round(n*P3,2), round(n*P4,2))\n",
        "\n",
        "#вычисление критерия хи квадрат\n",
        "chi = ((n_1 - n*P1)**2) / (n*P1) + ((n_2 - n*P2)**2) / (n*P2) + ((n_3 - n*P3)**2) / (n*P3)+ ((n_4 - n*P4)**2) / (n*P4)\n",
        "print(round(chi, 2))\n",
        "print(\"x_alpha_1 равен:\", sp.chi2.ppf(1 - 0.05, df = 4-1))\n",
        "print('p-value = ', 1 - sp.chi2.cdf(sp.chi2.ppf(1 - 0.05, df = 4-1), 3))\n"
      ]
    },
    {
      "cell_type": "markdown",
      "metadata": {
        "id": "ONEARXxHXmAS"
      },
      "source": [
        "### 1.f Построить критерий значимости $\\chi^2$ проверки сложной гипотезы согласия с распределением Пуассона. Проверить гипотезу на уровне значимости $\\alpha_1 = 0.05$. Вычислить наибольшее значение значение уровня значимости, на котором ещё нет оснований отвергнуть данную гипотезу.\n"
      ]
    },
    {
      "cell_type": "markdown",
      "source": [
        "Проведём группировку, как в пункте 1.е. В качестев параметра $\\lambda$ возьмём его ОМП, то есть $\\lambda = \\overline{X}$\n",
        "\n",
        "$\\mathbb{P}_{1} = \\frac{\\overline{X}^0}{0!}e^{-\\overline{X}} = \\frac{0.7^0}{0!}e^{-0.7} = 0.5$\n",
        "\n",
        "$\\mathbb{P}_{2} = \\frac{\\overline{X}^1}{1!}e^{-\\overline{X}}= 0.35$\n",
        "\n",
        "$\\mathbb{P}_{3} = \\frac{\\overline{X}^2}{2!}e^{-\\overline{X}} + \\frac{\\overline{X}^3}{3!}e^{-\\overline{X}} = 0.15$\n",
        "\n",
        "Получили: $\\chi^2 = \\sum \\limits_{i=1}^3 \\large \\frac{\\left(n_i - n\\mathbb{P}_i\\right)^2}{n\\mathbb{P}_i}  \\normalsize = 1.66$\n",
        "\n",
        "Из таблицы: $\\chi_{k-1, \\alpha_1}^2 = \\chi_{2, 0.05}^2 = 5.991$\n",
        "\n",
        "Так как $\\chi^2 < \\chi_{2, 0.05}^2$ , то гипотезу принимаем\n",
        "\n",
        "Наибольшее значение уровня значимости, при котором ещё нет оснований отвергнуть данную гипотезу, равняется 0.112, исходя из таблицы значений $\\chi^2$."
      ],
      "metadata": {
        "id": "RTRaknGgAqF0"
      }
    },
    {
      "cell_type": "code",
      "source": [
        "exp_mn = math.exp(-xMean)\n",
        "\n",
        "#вычисление значений вероятностей\n",
        "P1 = ((xMean)**x_0 / math.factorial(x_0)) * exp_mn\n",
        "P2 = (xMean**x_1 / math.factorial(x_1)) * exp_mn\n",
        "P3 = (xMean**x_2 / math.factorial(x_2)) * exp_mn + ((xMean)**x_3 / math.factorial(x_3)) * exp_mn\n",
        "\n",
        "print(round(n*P1,2), round(n*P2,2), round(n*P3,2))\n",
        "\n",
        "#вычисление критерия хи квадрат\n",
        "chi = ((n_1 - n*P1)**2) / (n*P1) + ((n_2 - n*P2)**2) / (n*P2) + ((n_3 - n*P3)**2) / (n*P3)\n",
        "print(\"Критерий значимости: \", round(chi, 2))\n",
        "print(\"x_alpha_1 равен:\", sp.chi2.ppf(1 - 0.05, df = 3-1))\n",
        "print('p-value = ', 1 - sp.chi2.cdf(sp.chi2.ppf(1 - 0.05, df = 3-1), 3))"
      ],
      "metadata": {
        "colab": {
          "base_uri": "https://localhost:8080/"
        },
        "id": "Up3_WaZttDEZ",
        "outputId": "98793117-2854-411c-eabc-77efa807c46a"
      },
      "execution_count": 108,
      "outputs": [
        {
          "output_type": "stream",
          "name": "stdout",
          "text": [
            "24.83 17.38 7.5\n",
            "Критерий значимости:  1.66\n",
            "x_alpha_1 равен: 5.991464547107979\n",
            "p-value =  0.11202623267236245\n"
          ]
        }
      ]
    },
    {
      "cell_type": "markdown",
      "source": [
        "### 1.g Построить наиболее мощный критерий проверки простой гипотезы пуассоновости с параметром $\\lambda = \\lambda_0 = 1.40$ при альтернативе пуассоновости с параметром $\\lambda = \\lambda_1 = 0.60$. Проверить гипотезу на уровне значимости $\\alpha_1 = 0.05$. Что получится, если поменять местами основную и альтернативную гипотезы?\n",
        "\n"
      ],
      "metadata": {
        "id": "IilIqYTZtPpw"
      }
    },
    {
      "cell_type": "markdown",
      "source": [
        "$ H_{0}:\\lambda = \\lambda_{0}$\n",
        "\n",
        "$ H_{1}:\\lambda = \\lambda_{1}$\n",
        "\n",
        "Cтатистическое отношение правдоподобия:\n",
        "\n",
        "$LR(\\overrightarrow{X},\\lambda_{1},\\lambda_{0}) = \\left(\\frac{\\lambda_{1}}{\\lambda_{0}}\\right)^{\\sum_{i=1}^{50}X_{i}} \\cdot e^{-n\\cdot \\lambda_{1} + n\\cdot \\lambda_{0} }$\n",
        "\n",
        "$LR(\\overrightarrow{X},\\lambda_{0},\\lambda_{1}) > c\\Leftrightarrow \\overline{X}> c$\n",
        "\n",
        "$\\sqrt{n}\\frac{\\overline{X}-\\lambda_{0}}{\\sqrt{\\overline{X}}}\\sim N(0,1)$\n",
        "\n",
        "$P\\left(\\sqrt{n}\\frac{\\overline{X}-\\lambda_{0}}{\\sqrt{\\overline{X}}} \\right)\\gt \\sqrt{n}\\frac{\\overline{X}-\\lambda_{0}}{\\sqrt{\\overline{X}}}=1-\\Phi\\left(\\sqrt{n}\\frac{\\overline{X}-\\lambda_{0}}{\\sqrt{\\overline{X}}} \\right)=\\alpha_{1}$\n",
        "\n",
        "$\\Phi\\left(\\sqrt{n}\\frac{\\overline{X}-\\lambda_{0}}{\\sqrt{\\overline{X}}} \\right)=1-\\alpha_{1}=0.95$\n",
        "\n",
        "$\\sqrt{n}\\frac{\\overline{X}-\\lambda_{0}}{\\sqrt{\\overline{X}}}\\gt \\sqrt{n}\\frac{c-\\lambda_{0}}{\\sqrt{\\overline{X}}} = 1.65\\to c=1.595$\n",
        "\n",
        "$ \\phi(x) =\\left\\{\n",
        "  \\begin{array}{l}\n",
        "    1, LR(x) > 1.595 \\\\\n",
        "    p, LR(x) = 1.595 \\\\\n",
        "    0, LR(x) < 1.595 \\\\\n",
        "  \\end{array}\\right.$\n",
        "\n",
        "   $ c=1.595 > \\overline{X} = 0.7 \\to$ отвергаем гипотезу\n",
        "\n",
        "*Меняем местами основную и альтернативную гипотезу:*\n",
        "\n",
        "$H_{0}=\\lambda_{1}$\n",
        "\n",
        "$H_{1}=\\lambda_{0}$\n",
        "\n",
        "Cтатистическое отношение правдоподобия:\n",
        "\n",
        "$LR(\\overrightarrow{X},\\lambda_{0},\\lambda_{1}) = \\left(\\frac{\\lambda_{0}}{\\lambda_{1}}\\right)^{\\sum_{i=1}^{50}X_{i}} \\cdot e^{-n\\cdot \\lambda_{0} + n\\cdot \\lambda_{1} }$\n",
        "\n",
        "$LR(\\overrightarrow{X},\\lambda_{1},\\lambda_{0})\\gt c\\Leftrightarrow \\overline{X}\\gt c$\n",
        "\n",
        "$\\sqrt{n}\\frac{\\overline{X}-\\lambda_{1}}{\\sqrt{\\overline{X}}}\\sim N(0,1)$\n",
        "\n",
        "$P\\left(\\sqrt{n}\\frac{\\overline{X}-\\lambda_{1}}{\\sqrt{\\overline{X}}} \\right)\\gt \\sqrt{n}\\frac{\\overline{X}-\\lambda_{1}}{\\sqrt{\\overline{X}}}=1-\\Phi\\left(\\sqrt{n}\\frac{\\overline{X}-\\lambda_{1}}{\\sqrt{\\overline{X}}} \\right)=\\alpha_{1}$\n",
        "\n",
        "$\\Phi\\left(\\sqrt{n}\\frac{\\overline{X}-\\lambda_{1}}{\\sqrt{\\overline{X}}} \\right)=1-\\alpha_{1}=0.95$\n",
        "\n",
        "$\\sqrt{n}\\frac{\\overline{X}-\\lambda_{1}}{\\sqrt{\\overline{X}}}\\gt \\sqrt{n}\\frac{c-\\lambda_{1}}{\\sqrt{\\overline{X}}} = 1.65\\to c=0.795$\n",
        "\n",
        "$ \\phi(x) =\\left\\{\n",
        "  \\begin{array}{l}\n",
        "    1, LR(x) > 0.795 \\\\\n",
        "    p, LR(x) = 0.795 \\\\\n",
        "    0, LR(x) < 0.795 \\\\\n",
        "  \\end{array}\\right.$\n",
        "\n",
        "  $ c = 0.795 > \\overline{X} = 0.7 \\to $ отвергаем гипотезу"
      ],
      "metadata": {
        "id": "KSpBVveKzSDB"
      }
    },
    {
      "cell_type": "markdown",
      "source": [
        "### 1.h В пунктах (c) - (f) заменить семейство распределений Пуассона на семейство геометрических распределений:\n",
        "$$\\mathbb{P}_{\\lambda}\\left(X = k\\right) = \\frac{\\lambda^k}{(\\lambda + 1)^{k+1}}, k \\in \\mathbb{Z}_+$$\n",
        "\n"
      ],
      "metadata": {
        "id": "NGub1yHatURG"
      }
    },
    {
      "cell_type": "markdown",
      "source": [
        "**1.h.c**\n",
        "\n",
        "Преобразуем плотность:\n",
        "\n",
        "$\\mathbb{P}_{\\lambda}\\left(X = k\\right) = \\frac{\\lambda^k}{(\\lambda + 1)^{k+1}} = \\frac{1}{\\lambda + 1} \\cdot \\left(\\frac{\\lambda}{\\lambda + 1}\\right)^k = \\frac{1}{\\lambda + 1} \\cdot \\left(\\frac{\\lambda + 1 - 1}{\\lambda + 1}\\right)^k = \\frac{1}{\\lambda + 1} \\cdot \\left(1 - \\frac{1}{\\lambda + 1}\\right)^k$\n",
        "\n",
        "Пусть $\\lambda + 1 = p$ , тогда $\\mathbb{E}x = \\frac{1-p}{p} = \\lambda$\n",
        "\n",
        "**Оценка максимального правдоподобия:**\n",
        "\n",
        "$\\mathrm{L}\\left(\\vec{X}, \\theta \\right) = \\lambda^{\\sum \\limits_{i = 1}^n x_i} + (\\lambda + 1)^{-\\sum \\limits_{i = 1}^n x_i - n}$\n",
        "\n",
        "$\\mathrm{LL}\\left(\\vec{X}, \\theta \\right) = \\sum \\limits_{i = 1}^n x_i \\ln{\\lambda} - \\left(\\sum \\limits_{i = 1}^n x_i + n\\right) \\ln{(\\lambda + 1)}$\n",
        "\n",
        "$\\frac{\\partial LL}{\\partial \\lambda} = \\frac{\\sum \\limits_{i = 1}^n x_i}{\\lambda} - e \\frac{\\sum \\limits_{i = 1}^n x_i + n}{\\lambda + 1}  = 0$, $\\Rightarrow \\widehat{\\theta} = \\widehat{\\lambda} = \\overline{X}$ - ОМП\n",
        "\n",
        "$\\mathbb{E}_{\\theta}\\widehat{\\theta} = \\frac{1}{n}\\sum \\limits_{i = 1}^n\\mathbb{E}_{\\theta}x_i = \\frac{1}{n} \\cdot n \\cdot \\lambda = \\lambda$, $\\Rightarrow$ несмещённая оценка\n",
        "\n",
        "**Оценка методом моментов:**\n",
        "\n",
        "$\\mathbb{E}X_1 = \\lambda$ - математическое ожидание (теоретическая величина)\n",
        "\n",
        "$\\mathrm{M_1} = \\overline{X}$ - выборочное среднее (выборочная величина)\n",
        "\n",
        "Следовательно, $\\widetilde{\\theta} = \\widetilde{\\lambda} = \\overline{X}$ - ОММ\n",
        "\n",
        "$ \\mathbb{E}_{\\theta}\\widetilde{\\theta} = \\mathbb{E}_{\\theta}\\overline{X} = \\mathbb{E}_{\\theta}\\frac{1}{n}\\sum \\limits_{i=1}^{n}x_i = \\frac{1}{n} \\cdot  n \\cdot \\lambda = \\lambda \\Rightarrow$ несмещённая оценка.\n"
      ],
      "metadata": {
        "id": "u9mx4sLrBDn-"
      }
    },
    {
      "cell_type": "markdown",
      "source": [
        "**1.h.d**\n",
        "\n",
        " Из предыдущего пункта: $\\widehat{\\lambda} = \\overline{X}$\n",
        "\n",
        " $ \\frac{\\partial LL}{\\partial \\lambda} = \\frac{\\sum \\limits_{i = 1}^n x_i}{\\lambda} - \\frac{\\sum \\limits_{i = 1}^n x_i + n}{\\lambda + 1}$\n",
        "\n",
        " $ \\frac{\\partial^2 LL}{\\partial \\lambda^2} = - \\frac{\\sum \\limits_{i = 1}^n x_i}{\\lambda^2} + \\frac{\\sum \\limits_{i = 1}^n x_i + n}{(\\lambda + 1)^2}$\n",
        "\n",
        " $\\mathrm{I}_n(\\lambda) = - \\mathbb{E}_{\\theta}\\frac{\\partial^2 LL}{\\partial \\lambda^2} = \\mathbb{E}_{\\theta}\\left(\\frac{\\sum \\limits_{i = 1}^n x_i}{\\lambda^2} - \\frac{\\sum \\limits_{i = 1}^n x_i + n}{(\\lambda + 1)^2}\\right) =  \\frac{n}{\\lambda} - \\frac{n(\\lambda - 1)}{(\\lambda + 1)^2}$\n",
        "\n",
        " $\\mathrm{I}(\\lambda) = \\lim \\limits_{n \\to \\infty}\\left(\\frac{1}{\\lambda} - \\frac{\\lambda - 1}{(\\lambda + 1)^2}\\right) = \\frac{3\\lambda + 1}{\\lambda(\\lambda + 1)^2}$\n",
        "\n",
        " **Квантили.** Так как распределение симметричное:\n",
        "\n",
        "$x_{\\alpha} : \\mathrm{\\Phi}(x_{\\alpha}) = 1 - \\frac{\\alpha}{2} = 1 - \\frac{0.05}{2} = 0.975$, где $\\alpha = \\alpha_1 = 0.05$\n",
        "\n",
        "$\\mathrm{\\Phi}(x_{\\alpha}) = 0.975 \\Rightarrow x_{\\alpha} = 1.96$ из таблицы значений функции Лапласа.\n",
        "\n",
        "\n",
        "*Асимптотический доверительный интервал:*\n",
        "\n",
        "$\\left[\\overline{X} - \\sqrt{\\frac{\\overline{X}}{n\\left(3\\overline{X}+1\\right)}} \\cdot x_{\\alpha} , \\overline{X} + \\sqrt{\\frac{\\overline{X}}{n\\left(3\\overline{X}+1\\right)}} \\cdot x_{\\alpha}\\right] \\ni \\lambda$\n",
        "\n",
        "Таким образом, АДИ уровня значимости $\\alpha_1$ для параметра $\\lambda$:\n",
        "$$\\left[0.57,0.83\\right] \\ni \\lambda$$\n"
      ],
      "metadata": {
        "id": "uwNr8tSnBNK4"
      }
    },
    {
      "cell_type": "code",
      "source": [
        "adi_2 = []\n",
        "\n",
        "left_2 = xMean - x_alpha * (xMean / (n*(3*xMean+1)))**0.5 #подсчёт левой границы АДИ\n",
        "adi_2.append(round(left_2, 2))\n",
        "\n",
        "right_2 = xMean + x_alpha * (xMean / (n*(3*xMean+1)))**0.5 #подсчёт правой границы АДИ\n",
        "adi_2.append(round(right_2, 2))\n",
        "\n",
        "print(\"Асимптотический доверительный интервал: \", adi_2)"
      ],
      "metadata": {
        "colab": {
          "base_uri": "https://localhost:8080/"
        },
        "id": "MSzv1x8uta3r",
        "outputId": "96d693c3-acdb-4ab0-8bdb-ecb1487a3403"
      },
      "execution_count": 109,
      "outputs": [
        {
          "output_type": "stream",
          "name": "stdout",
          "text": [
            "Асимптотический доверительный интервал:  [0.57, 0.83]\n"
          ]
        }
      ]
    },
    {
      "cell_type": "markdown",
      "source": [
        "**1.h.e**\n",
        "\n",
        "\n",
        "Рассмотрим $\\mathbb{P}_{k} = \\mathbb{P}_{\\theta}\\left(x_i \\in G_k\\right) = \\sum \\limits_{x \\in G_k} q_{\\theta}(x)$, где $q_{\\theta}(x)$ - плотность, данная по условию.\n",
        "\n",
        "$\\mathbb{P}_{1} = 0.42$\n",
        "\n",
        "$\\mathbb{P}_{2} = 0.24$\n",
        "\n",
        "$\\mathbb{P}_{3} = 0.14$\n",
        "\n",
        "$\\mathbb{P}_{4} = 0.08$\n",
        "\n",
        "Получили: $\\chi^2 = 4.99$\n",
        "\n",
        "Из таблицы: $\\chi_{k-1, \\alpha_1}^2 = \\chi_{3, 0.05}^2 = 7.815$\n",
        "\n",
        "Так как $\\chi^2 < \\chi_{3, 0.05}^2$ , то гипотезу принимаем.\n",
        "\n",
        "Наибольшее значение уровня значимости, при котором ещё нет оснований отвергнуть данную гипотезу $\\alpha = 0.05$, исходя из таблицы значений $\\chi^2$."
      ],
      "metadata": {
        "id": "TG5Xj5FQtdjx"
      }
    },
    {
      "cell_type": "code",
      "source": [
        "#вычисление значений вероятностей\n",
        "P1 = (lambda_0 ** x_0) / ((lambda_0 + 1)**(x_0 + 1))\n",
        "P2 = (lambda_0 ** x_1) / ((lambda_0 + 1)**(x_1 + 1))\n",
        "P3 = (lambda_0 ** x_2) / ((lambda_0 + 1)**(x_2 + 1))\n",
        "P4 = (lambda_0 ** x_3) / ((lambda_0 + 1)**(x_3 + 1))\n",
        "\n",
        "print(round(n*P1,2), round(n*P2,2), round(n*P3,2), round(n*P4,2))\n",
        "\n",
        "#вычисление критерия хи квадрат\n",
        "chi = ((n_1 - n*P1)**2) / (n*P1) + ((n_2 - n*P2)**2) / (n*P2) + ((n_3 - n*P3)**2) / (n*P3)\n",
        "print(\"Критерий значимости: \", round(chi, 2))\n",
        "print('p-value = ', 1 - sp.chi2.cdf(sp.chi2.ppf(1 - 0.05, df = 4-1), 3))"
      ],
      "metadata": {
        "colab": {
          "base_uri": "https://localhost:8080/"
        },
        "id": "Jm2rkx5Vthn0",
        "outputId": "8013dc13-0f63-4c87-c1bc-ae737c682c5d"
      },
      "execution_count": 134,
      "outputs": [
        {
          "output_type": "stream",
          "name": "stdout",
          "text": [
            "20.83 12.15 7.09 4.14\n",
            "Критерий значимости:  23.42\n",
            "p-value =  0.04999999999999993\n"
          ]
        }
      ]
    },
    {
      "cell_type": "markdown",
      "source": [
        "**1.h.f**\n",
        "\n",
        "Проведём группировку, как в пункте 1.h.е. В качестев параметра $\\lambda$ возьмём его ОМП, то есть $\\lambda = \\overline{X}$:\n",
        "\n",
        "$\\mathbb{P}_{1} = 0.59$\n",
        "\n",
        "$\\mathbb{P}_{2} = 0.24$\n",
        "\n",
        "$\\mathbb{P}_{3} = 0.14$\n",
        "\n",
        "Получили: $\\chi^2 = \\sum \\limits_{i=1}^3 \\frac{\\left(n_i - n\\mathbb{P}_i\\right)^2}{n\\mathbb{P}_i}  = 4.84$\n",
        "\n",
        "Из таблицы: $\\chi_{k-1, \\alpha_1}^2 = \\chi_{3, 0.05}^2 = 5.99$\n",
        "\n",
        "Так как $\\chi^2 < \\chi_{3, 0.05}^2$ , то гипотезу принимаем.\n",
        "\n",
        "Наибольшее значение уровня значимости, при котором ещё нет оснований отвергнуть данную гипотезу, равняется 0.11, исходя из таблицы значений $\\chi^2$."
      ],
      "metadata": {
        "id": "gDqmakGVtmvJ"
      }
    },
    {
      "cell_type": "code",
      "source": [
        "#вычисление значений вероятностей\n",
        "P1 = (xMean ** x_0) / ((xMean + 1)**(x_0 + 1))\n",
        "P2 = (xMean ** x_1) / ((xMean + 1)**(x_1 + 1))\n",
        "P3 = (xMean ** x_2) / ((xMean + 1)**(x_2 + 1)) + (xMean ** x_3) / ((xMean + 1)**(x_3 + 1))\n",
        "\n",
        "print(round(n*P1,2), round(n*P2,2), round(n*P3,2))\n",
        "\n",
        "#вычисление критерия хи квадрат\n",
        "chi = ((n_1 - n*P1)**2) / (n*P1) + ((n_2 - n*P2)**2) / (n*P2) + ((n_3 - n*P3)**2) / (n*P3)\n",
        "print(\"Критерий значимости: \", round(chi, 2))\n",
        "print('p-value = ', 1 - sp.chi2.cdf(sp.chi2.ppf(1 - 0.05, df = 3-1), 3))"
      ],
      "metadata": {
        "colab": {
          "base_uri": "https://localhost:8080/"
        },
        "id": "kC6O4tRWtngl",
        "outputId": "c16496c0-7cb3-4b98-ab65-f423459606af"
      },
      "execution_count": 133,
      "outputs": [
        {
          "output_type": "stream",
          "name": "stdout",
          "text": [
            "29.41 12.11 7.04\n",
            "Критерий значимости:  31.54\n",
            "p-value =  0.11202623267236245\n"
          ]
        }
      ]
    },
    {
      "cell_type": "markdown",
      "source": [
        "### 2.а Построить вариационный ряд, эмпирическую функцию распределения и гистограмму и полигон частот."
      ],
      "metadata": {
        "id": "ga9kAKXotp7u"
      }
    },
    {
      "cell_type": "code",
      "source": [
        "data2 = [6.73, 1.50, 0.33, 6.59, 2.84, 0.14, 0.90, 0.03, 1.56, 1.28, 1.49, 2.02, 1.34, 0.59, 1.47, 1.54, 0.93, 10.18, 13.20, 4.41, 0.43, 1.13, 0.99, 2.85, 0.43,4.62, 7.49, 2.38, 1.97, 1.57, 7.59, 1.78, 2.36, 0.73, 4.29, 1.29, 0.52, 8.47, 0.19, 2.38, 8.89, 3.00, 0.28, 2.76, 0.44, 5.50, 7.14, 3.50, 0.49, 3.06]\n",
        "n = len(data2)\n",
        "#вариационный ряд\n",
        "\n",
        "def variation(data2):\n",
        "    data2.sort()\n",
        "    return data2\n",
        "\n",
        "print( \"Вариационный ряд:\", variation(data2))"
      ],
      "metadata": {
        "colab": {
          "base_uri": "https://localhost:8080/"
        },
        "id": "obuoww5qLbWC",
        "outputId": "f1a37f14-4730-4818-f04c-391ef04f7ea5"
      },
      "execution_count": 112,
      "outputs": [
        {
          "output_type": "stream",
          "name": "stdout",
          "text": [
            "Вариационный ряд: [0.03, 0.14, 0.19, 0.28, 0.33, 0.43, 0.43, 0.44, 0.49, 0.52, 0.59, 0.73, 0.9, 0.93, 0.99, 1.13, 1.28, 1.29, 1.34, 1.47, 1.49, 1.5, 1.54, 1.56, 1.57, 1.78, 1.97, 2.02, 2.36, 2.38, 2.38, 2.76, 2.84, 2.85, 3.0, 3.06, 3.5, 4.29, 4.41, 4.62, 5.5, 6.59, 6.73, 7.14, 7.49, 7.59, 8.47, 8.89, 10.18, 13.2]\n"
          ]
        }
      ]
    },
    {
      "cell_type": "markdown",
      "source": [
        "Таким образом, вариационный ряд:\n",
        " $$\\vec{X}^\\prime = \\left(0.03, 0.14, 0.19, 0.28, 0.33, 0.43, 0.43, 0.44, 0.49, 0.52, 0.59, 0.73, 0.9, 0.93, 0.99, 1.13, 1.28, 1.29, 1.34, 1.47, 1.49, 1.5, 1.54, 1.56, 1.57, 1.78, 1.97, 2.02, 2.36, 2.38, 2.38, 2.76, 2.84, 2.85, 3.0, 3.06, 3.5, 4.29, 4.41, 4.62, 5.5, 6.59, 6.73, 7.14, 7.49, 7.59, 8.47, 8.89, 10.18, 13.2 \\right)$$"
      ],
      "metadata": {
        "id": "1iE3620HMNf7"
      }
    },
    {
      "cell_type": "code",
      "source": [
        "sns.ecdfplot(data2) #построение эмпирической функции распределения\n",
        "\n",
        "plt.title(\"Эмпирическая функция распределения\")\n",
        "plt.xlabel(\"x\")\n",
        "plt.ylabel(\"F(x)\")\n",
        "plt.show()"
      ],
      "metadata": {
        "colab": {
          "base_uri": "https://localhost:8080/",
          "height": 472
        },
        "id": "xyxqNXO-MqeB",
        "outputId": "cae62801-bd3f-4c19-f33f-7367004b6b63"
      },
      "execution_count": 113,
      "outputs": [
        {
          "output_type": "display_data",
          "data": {
            "text/plain": [
              "<Figure size 640x480 with 1 Axes>"
            ],
            "image/png": "[encoded data removed]"
          },
          "metadata": {}
        }
      ]
    },
    {
      "cell_type": "code",
      "source": [
        "#гистограмма частот\n",
        "\n",
        "sns.histplot(x=data2,binwidth=1.2)\n",
        "bins = np.arange(min(data2), max(data2) + 1.2, 1.2)\n",
        "\n",
        "hist, _ = np.histogram(data2, bins=bins)\n",
        "bin_centers = 0.5 * (bins[1:] + bins[:-1])\n",
        "plt.plot(bin_centers, hist,'-r', marker='.')\n",
        "\n",
        "plt.title(\"Гистограмма и полигон частот с шагом h = 1.2\")\n",
        "plt.xlabel(\"x\")\n",
        "plt.ylabel(\"Частота\");"
      ],
      "metadata": {
        "colab": {
          "base_uri": "https://localhost:8080/",
          "height": 472
        },
        "id": "8P3Uvw3zNJ-K",
        "outputId": "44e70de1-e458-41ab-84e0-0f7df56faa4e"
      },
      "execution_count": 114,
      "outputs": [
        {
          "output_type": "display_data",
          "data": {
            "text/plain": [
              "<Figure size 640x480 with 1 Axes>"
            ],
            "image/png": "[encoded data removed]"
          },
          "metadata": {}
        }
      ]
    },
    {
      "cell_type": "markdown",
      "source": [
        "### 2.b Вычислить выборочные аналоги следующих числовых характеристик:"
      ],
      "metadata": {
        "id": "YEMVylGtOA9o"
      }
    },
    {
      "cell_type": "code",
      "source": [
        "#Выборочный математического ожидания\n",
        "print('Выборочный математического ожидания', np.mean(data2))"
      ],
      "metadata": {
        "colab": {
          "base_uri": "https://localhost:8080/"
        },
        "id": "xguDB8NmOQwj",
        "outputId": "aecc342c-70b4-42cc-808b-6a5d4b9b6409"
      },
      "execution_count": 115,
      "outputs": [
        {
          "output_type": "stream",
          "name": "stdout",
          "text": [
            "Выборочный математического ожидания 2.9518\n"
          ]
        }
      ]
    },
    {
      "cell_type": "markdown",
      "source": [
        "Получаем выборочный аналог математического ожидания -- выборочное среднее:\n",
        "\n",
        "$\\overline{X} =\\frac{1}{n}\\sum_{i=1}^{n}x_i = 2.9518$"
      ],
      "metadata": {
        "id": "gxVS-rKgOVT_"
      }
    },
    {
      "cell_type": "code",
      "source": [
        "#Выборочный аналог дисперсии и СКО\n",
        "print(\"Выборочная дисперсия: \", round(np.var(data2),2))\n",
        "print(\"Выборочное СКО: \",  round(np.std(data2),2))"
      ],
      "metadata": {
        "colab": {
          "base_uri": "https://localhost:8080/"
        },
        "id": "gT97RekoOdyq",
        "outputId": "7cc8385a-3555-497b-b4cd-8bef4dceca12"
      },
      "execution_count": 116,
      "outputs": [
        {
          "output_type": "stream",
          "name": "stdout",
          "text": [
            "Выборочная дисперсия:  8.87\n",
            "Выборочное СКО:  2.98\n"
          ]
        }
      ]
    },
    {
      "cell_type": "markdown",
      "source": [
        "Получаем выборочный аналог дисперсии и СКО - выборочную дисперсию и выборочное СКО:\n",
        "\n",
        "$S^2 =\\frac{1}{n}\\sum_{i=1}^{n}\\left(x_i-\\overline{X}\\right)=8.87$\n",
        "\n",
        "$S=\\sqrt{S^2}=2.98$"
      ],
      "metadata": {
        "id": "C3aaHGYpOgYz"
      }
    },
    {
      "cell_type": "code",
      "source": [
        "#Выборочная медиана\n",
        "print(\"Выборочная медиана: \",  np.median(data2))"
      ],
      "metadata": {
        "colab": {
          "base_uri": "https://localhost:8080/"
        },
        "id": "Bu_v3IKeO8a0",
        "outputId": "687f440e-7e15-4600-e4e5-07a6c990f555"
      },
      "execution_count": 117,
      "outputs": [
        {
          "output_type": "stream",
          "name": "stdout",
          "text": [
            "Выборочная медиана:  1.675\n"
          ]
        }
      ]
    },
    {
      "cell_type": "markdown",
      "source": [
        "Выборочная медиана:\n",
        "\n",
        "$np = 50\\cdot\\frac{1}{2}=25\\in \\mathbb{Z} \\Rightarrow z_{50,\\frac{1}{2}} =  \\left[ X_{(25)},X_{(26)} \\right) = \\left[1.57,1.78\\right) \\Rightarrow z_{50,\\frac{1}{2}} = 1.675$"
      ],
      "metadata": {
        "id": "Mbgx4mQPPAer"
      }
    },
    {
      "cell_type": "code",
      "source": [
        "#Выборочная асимметрия\n",
        "print(\"Выборочная асимметрия: \", round(sp.skew(data2),2))"
      ],
      "metadata": {
        "colab": {
          "base_uri": "https://localhost:8080/"
        },
        "id": "m6TYWYWxRQe_",
        "outputId": "d6b690f3-c043-4612-c1a0-b775a45c5eba"
      },
      "execution_count": 118,
      "outputs": [
        {
          "output_type": "stream",
          "name": "stdout",
          "text": [
            "Выборочная асимметрия:  1.48\n"
          ]
        }
      ]
    },
    {
      "cell_type": "markdown",
      "source": [
        "Выборочный коэффициент асимметрии:\n",
        "\n",
        "$\\widehat{\\mathrm{Skew}}X=\\frac{1}{n}\\frac{\\sum \\limits_{i=1}^{n}\\left(x_i-\\overline{X}\\right)^3}{S^3} = 1.48$\n"
      ],
      "metadata": {
        "id": "CFDESh4qRUA5"
      }
    },
    {
      "cell_type": "code",
      "source": [
        "#Выборочный эксцесс\n",
        "print(\"Выборочный эксцесс: \", sp.kurtosis(data2))"
      ],
      "metadata": {
        "colab": {
          "base_uri": "https://localhost:8080/"
        },
        "id": "rUDt-KhpRiiD",
        "outputId": "eea5474d-048f-41f0-b429-57d62faa4429"
      },
      "execution_count": 119,
      "outputs": [
        {
          "output_type": "stream",
          "name": "stdout",
          "text": [
            "Выборочный эксцесс:  1.6315365643118138\n"
          ]
        }
      ]
    },
    {
      "cell_type": "markdown",
      "source": [
        "Выборочный коэффициент эксцесса:\n",
        "\n",
        "$\\widehat{\\mathrm{Kurt}}X=\\frac{1}{n}\\frac{\\sum \\limits_{i=1}^{n}\\left(x_i-\\overline{X}\\right)^4}{S^4}-3 = 1.6315365643118138$"
      ],
      "metadata": {
        "id": "5oMA5jdgRmbk"
      }
    },
    {
      "cell_type": "code",
      "source": [
        "#эмпирическая функция распределения\n",
        "def F(x):\n",
        "    sum_i = 0\n",
        "    for i in data2:\n",
        "        if i < x:\n",
        "            sum_i += 1\n",
        "    return sum_i/len(data2)\n",
        "\n",
        "c = 2.40\n",
        "d = 4.80\n",
        "\n",
        "print(\"Вероятность Р(х = c) = \" , F(c))\n",
        "print(\"Вероятность Р(х = d) = \" , F(d))\n",
        "print(\"Вероятность: \", round(F(d) - F(c),2))"
      ],
      "metadata": {
        "colab": {
          "base_uri": "https://localhost:8080/"
        },
        "id": "PmpMIiiERxNY",
        "outputId": "0ead5fd3-badc-475e-ea47-41648bbad9a6"
      },
      "execution_count": 120,
      "outputs": [
        {
          "output_type": "stream",
          "name": "stdout",
          "text": [
            "Вероятность Р(х = c) =  0.62\n",
            "Вероятность Р(х = d) =  0.8\n",
            "Вероятность:  0.18\n"
          ]
        }
      ]
    },
    {
      "cell_type": "markdown",
      "source": [
        "Выборочный аналог $\\mathbb{P}\\left(x \\in \\left[c, d\\right]\\right)$, c = 2.40, b = 4.80:\n",
        "\n",
        "$\\mathbb{P}\\left(x \\in \\left[c, d\\right]\\right) = \\mathrm{F}(d) - \\mathrm{F}(c) = 0.8 - 0.62 = 0.18$, где $\\mathrm{F}(x)$ -- эмпирическая функция распределения"
      ],
      "metadata": {
        "id": "lFgfDdU_R1hb"
      }
    },
    {
      "cell_type": "markdown",
      "source": [
        "### 2.c В предположении, что исходные наблюдения являются выборкой из показательного распределения, построить оценку максимального правдоподобия параметра"
      ],
      "metadata": {
        "id": "y1AS6XzVSrm3"
      }
    },
    {
      "cell_type": "markdown",
      "source": [
        "*Плотность показательного распределения*:\n",
        "$q_{\\theta} = \\frac{\\lambda^x}{x!}e^{-\\lambda}$\n",
        "\n",
        "*Оценка максимального правдоподобия:*\n",
        "\n",
        "$ L\\left(\\vec{X}, \\theta \\right) =\\prod\\limits_{i = 1}^n q_{\\theta}\\left( x_i\\right)=\\prod\\limits_{i = 1}^n \\lambda \\cdot e^{-\\lambda \\cdot x_i}  =  \\lambda^{n} \\cdot e^{-\\lambda \\cdot \\sum \\limits_{i=1}^{n}x_i} $\n",
        "\n",
        "$LL\\left(\\vec{X}, \\theta \\right) = n \\cdot \\ln{\\lambda} - \\lambda \\cdot \\sum \\limits_{i=1}^{n}x_i $\n",
        "\n",
        "$ \\frac{\\partial LL}{\\partial \\lambda} = \\frac{n}{\\lambda} - \\sum \\limits_{i=1}^{n}x_i = 0 \\Rightarrow \\widehat{\\theta} = \\widehat{\\lambda} = \\frac{1}{\\overline{X}}$ - ОМП\n",
        "\n",
        "$ \\mathbb{E}_{\\theta}\\widehat{\\theta} = \\mathbb{E}_{\\theta}\\overline{X} = \\mathbb{E}_{\\theta} n\\cdot \\sum \\limits_{i=1}^{n}\\frac{1}{x_i} =  n \\cdot\\frac{1}{n-1}   \\cdot \\lambda = \\frac{n\\cdot\\lambda}{n+1} \\Rightarrow$ смещённая оценка.\n",
        "\n",
        "МДС:\n",
        "\n",
        "$T=\\sum_{i=1}^{n}X_{i}$.\n",
        "\n",
        "т.к. $q_{\\theta}$ из сем-ва экспоненциальных распределений $\\Rightarrow$ МДС =  ПДС.\n",
        "$\\mathbb{E}\\widetilde{\\theta} = \\mathbb{E} \\widehat{\\theta} \\cdot \\frac{n-1}{n} = \\frac{n\\cdot\\lambda}{n+1}\\cdot \\frac{n-1}{n} = \\lambda$\n",
        "\n",
        "$ \\widetilde{\\theta} = \\widehat{\\theta} \\cdot \\frac{n-1}{n} - несмещенная \\, оценка$\n",
        "\n",
        "*Оценка методом моментов:*\n",
        "\n",
        "$\\mathbb{E}X = \\frac{1}{\\lambda}$ - математическое ожидание (теоретическая величина)\n",
        "\n",
        "$\\mathrm{M} = \\overline{X}$ - выборочное среднее (выборочная величина)\n",
        "\n",
        "Следовательно, $\\widetilde{\\theta} = \\widetilde{\\lambda} = \\frac{1}{\\overline{X}}$"
      ],
      "metadata": {
        "id": "UDowQTQzUw6W"
      }
    },
    {
      "cell_type": "markdown",
      "source": [
        "### 2.d Построить асимптотичексий доверительный интервал уровня значимости $\\alpha_1$ для параметра $\\lambda$ на базе оценки максимального правдоподобия."
      ],
      "metadata": {
        "id": "z2nLujTjYDRP"
      }
    },
    {
      "cell_type": "markdown",
      "source": [
        " $\\alpha_2 = 0.20$\n",
        "\n",
        "*Плотность показательного распределения:*:\n",
        "\n",
        "$ q_{\\theta} = \\lambda \\cdot e^{-\\lambda\\cdot x}$\n",
        "\n",
        "$\\widehat{\\theta} = \\widehat{\\lambda} = \\frac{1}{\\overline{X}}$\n",
        "\n",
        "Из пункта 2.с:\n",
        "\n",
        "$ \\frac{\\partial LL}{\\partial \\lambda} = \\frac{\\sum \\limits_{i=1}^{n}x_i}{\\lambda} - n$\n",
        "\n",
        "$\\frac{\\partial^2 LL}{\\partial \\lambda^2} = -\\frac{n}{\\lambda^2}$\n",
        "\n",
        "$\\mathrm{I}_n(\\lambda) = - \\mathbb{E}_{\\theta}\\frac{\\partial^2 LL}{\\partial \\lambda^2} = \\mathbb{E}_{\\theta} \\left(\\frac{n}{\\lambda^2}\\right) = \\frac{n}{\\lambda^2}$\n",
        "\n",
        "$\\mathrm{I}(\\lambda) = \\lim \\limits_{n \\to \\infty} \\large \\frac{1}{\\lambda^2} = \\frac{1}{\\lambda^2}$\n",
        "\n",
        "**Квантили:**\n",
        "\n",
        "Так как распределение симметричное:\n",
        "$x_{\\alpha} : \\mathrm{\\Phi}(x_{\\alpha}) = 1 - \\frac{\\alpha}{2} = 1 - \\frac{0.2}{2} = 0.9$, где $\\alpha = \\alpha_2 = 0.2$\n",
        "$\\mathrm{\\Phi}(x_{\\alpha}) = 0.9 \\Rightarrow x_{\\alpha} = 1.28\n",
        "$\n",
        "\n",
        "*Асимптотический доверительный интервал:*\n",
        "$\\left[\\overline{X} - \\sqrt{\\frac{\\overline{X}}{n}} \\cdot x_{\\alpha} , \\overline{X} + \\sqrt{\\frac{\\overline{X}}{n}} \\cdot x_{\\alpha}\\right] \\ni \\lambda$\n",
        "\n",
        "Таким образом, АДИ уровня значимости $\\alpha_1$ для параметра $\\lambda$:\n",
        "\n",
        "$$\\left[2.64, 3.26\\right] \\ni \\lambda$$"
      ],
      "metadata": {
        "id": "hoVeMxYBYHHV"
      }
    },
    {
      "cell_type": "code",
      "source": [
        "x_alpha_2 = 1.28\n",
        "xMean2 = np.mean(data2)\n",
        "adi = []\n",
        "\n",
        "left_2 = xMean2 - x_alpha_2*(xMean2 / (n))**0.5 #подсчёт левой границы АДИ\n",
        "adi.append(round(left_2, 2))\n",
        "\n",
        "right_2 = xMean2 + x_alpha_2 * (xMean2 / (n))**0.5 #подсчёт правой границы АДИ\n",
        "adi.append(round(right_2, 2))\n",
        "\n",
        "print(\"Асимптотический доверительный интервал: \", adi)"
      ],
      "metadata": {
        "colab": {
          "base_uri": "https://localhost:8080/"
        },
        "id": "sAoENQ4ccZys",
        "outputId": "f327df86-94f8-4f6f-9c6b-d4c869c7b3cc"
      },
      "execution_count": 121,
      "outputs": [
        {
          "output_type": "stream",
          "name": "stdout",
          "text": [
            "Асимптотический доверительный интервал:  [2.64, 3.26]\n"
          ]
        }
      ]
    },
    {
      "cell_type": "markdown",
      "source": [
        "### 2.e C использованием теоремы Колмогорова построить критерий значимости проверки простой гипотезы согласия с показательным распределением с параметром $λ_{0}=0.25$. Проверить гипотезу на уровне значимости $\\alpha_2 = 0,2$. Вычислить наименьшее значения уровня значимости, на котором ещё нет оснований отвергнуть гипотезу."
      ],
      "metadata": {
        "id": "sYqFBpCAemEl"
      }
    },
    {
      "cell_type": "markdown",
      "source": [
        "Статистика критерия Колмагорова: $D_n = sup_{x \\in \\mathbb{R}}|F_n(x) - F_0(x)|$\n",
        "\n",
        "Теорема Колмагорова: $\\sqrt{n}D_n \\rightarrow K, при \\, основной \\, гипотезе$\n",
        "\n",
        "$D_n = 49.037 $\n",
        "\n",
        "$Критическое значение: C =  0.173$\n",
        "\n",
        "Т.к. $D_n > c $ , то гипотезу отвергаем."
      ],
      "metadata": {
        "id": "cChkP7QXfs6F"
      }
    },
    {
      "cell_type": "code",
      "source": [
        "lambda0 = 0.25\n",
        "\n",
        "D = np.max(np.abs(expon.cdf(data2, scale=1/lambda0) - np.arange(1, n+1 / n)))\n",
        "critical_value = kstwobign.ppf(1 - 0.2/2) / np.sqrt(n)\n",
        "\n",
        "print(D, critical_value)"
      ],
      "metadata": {
        "colab": {
          "base_uri": "https://localhost:8080/"
        },
        "id": "mZAIcWEKft0n",
        "outputId": "5b7daf46-905d-4258-d347-4fad7370fa30"
      },
      "execution_count": 122,
      "outputs": [
        {
          "output_type": "stream",
          "name": "stdout",
          "text": [
            "49.03688316740124 0.17307822563424255\n"
          ]
        }
      ]
    },
    {
      "cell_type": "markdown",
      "source": [
        "### 2.f Используя гистограмму частот, построить критерий значимости $\\chi^2$ проверки простой гипотезы согласия с распределением Пуассона с параметром $\\lambda_0 = 0.25$. Проверить гипотезу на уровне значимости $\\alpha_2 = 0.2$. Вычислить наибольшее значение уровня значимости, на котором ещё нет оснований отвергнуть данную гипотезу."
      ],
      "metadata": {
        "id": "KmhsXsFofID6"
      }
    },
    {
      "cell_type": "markdown",
      "source": [
        "\n",
        "Расммотрим $\\mathbb{P}_{k} = \\mathbb{P}_{\\theta}\\left(x_i \\in G_k\\right) = \\sum \\limits_{x \\in G_k} q_{\\theta}(x)$\n",
        "\n",
        "\n",
        "Из таблицы: $\\chi_{k-1, \\alpha_1}^2 = \\chi_{3, 0.2}^2 = 4.64$\n",
        "\n",
        "Получили: $\\chi^2 = 29.58$\n",
        "\n",
        "Так как $\\chi^2 > \\chi_{3, 0.2}^2$ , то гипотезу отвергаем\n",
        "\n",
        "Наибольшее значение уровня значимости, при котором ещё нет оснований отвергнуть данную гипотезу, равняется 0.2, исходя из таблицы значений $\\chi^2$."
      ],
      "metadata": {
        "id": "GMosbFe8gnNi"
      }
    },
    {
      "cell_type": "code",
      "source": [
        "intervals = [[0.03, 0.43], [0.44,1.28], [1.29, 3], [3.05, 13.2]]\n",
        "\n",
        "def n_counter(start:float, end:float):\n",
        "    counter = 0\n",
        "    for i in data2:\n",
        "        if i >=start and i <=end:\n",
        "            counter += 1\n",
        "    return counter\n",
        "\n",
        "n_1 = n_counter(intervals[0][0],intervals[0][1])\n",
        "n_2 = n_counter(intervals[1][0],intervals[1][1])\n",
        "n_3 = n_counter(intervals[2][0],intervals[2][1])\n",
        "n_4 = n_counter(intervals[3][0],intervals[3][1])\n",
        "\n",
        "#вычисление значений вероятностей\n",
        "P1 = lambda_0*math.exp(-lambda_0*intervals[0][0]) + lambda_0*math.exp(-lambda_0*intervals[0][1])\n",
        "P2 = lambda_0*math.exp(-lambda_0*intervals[1][0]) + lambda_0*math.exp(-lambda_0*intervals[1][1])\n",
        "P3 = lambda_0*math.exp(-lambda_0*intervals[2][0]) + lambda_0*math.exp(-lambda_0*intervals[2][1])\n",
        "P4 = lambda_0*math.exp(-lambda_0*intervals[3][0]) + lambda_0*math.exp(-lambda_0*intervals[3][1])\n",
        "\n",
        "#вычисление критерия хи квадрат\n",
        "chi = ((n_1 - n*P1)**2) / (n*P1) + ((n_2 - n*P2)**2) / (n*P2) + ((n_3 - n*P3)**2) / (n*P3) + ((n_4 - n*P4)**2) / (n*P4)\n",
        "\n",
        "print(\"Критерий значимости: \", round(chi, 2))\n",
        "print(round(n*P1,2), round(n*P2,2), round(n*P3,2),round(n*P4,2))\n",
        "print('p-value = ', 1 - sp.chi2.cdf(sp.chi2.ppf(1 - 0.2, df = 4-1), 3))"
      ],
      "metadata": {
        "colab": {
          "base_uri": "https://localhost:8080/"
        },
        "id": "WUBD3LxKgun2",
        "outputId": "ea383330-4867-4800-ec76-2b00dc8d2893"
      },
      "execution_count": 123,
      "outputs": [
        {
          "output_type": "stream",
          "name": "stdout",
          "text": [
            "Критерий значимости:  326.65\n",
            "105.46 49.47 12.55 0.98\n",
            "p-value =  0.20000000000000007\n"
          ]
        }
      ]
    },
    {
      "cell_type": "markdown",
      "source": [
        "### 2.g Построить критерий значимости $\\chi^2$ проверки сложной гипотезы согласия с распределением Пуассона. Проверить гипотезу на уровне значимости $\\alpha_1 = 0.2$. Вычислить наибольшее значение уровня значимости, на котором ещё нет оснований отвергнуть данную гипотезу.\n"
      ],
      "metadata": {
        "id": "4ugqLf8STpLc"
      }
    },
    {
      "cell_type": "markdown",
      "source": [
        "Расммотрим:\n",
        "\n",
        "$\\mathbb{P}_{k} = \\mathbb{P}_{\\theta}\\left(x_i \\in G_k\\right) = \\sum \\limits_{x \\in G_k} q_{\\theta}(x)$\n",
        "\n",
        "$\\widehat{\\lambda} = \\frac{1}{\\overline{X}} = \\frac{1}{2.9518} = 0.339 $\n",
        "\n",
        "Из таблицы: $\\chi_{k-1-1, \\alpha_1}^2 = \\chi_{2, 0.2}^2 = 3.22$\n",
        "\n",
        "Получty: $\\chi^2 =  38.25$\n",
        "\n",
        "Так как $\\chi^2 > \\chi_{4, 0.1}^2$ , то гипотезу отвергаем\n",
        "\n",
        "Наибольшее значение уровня значимости, при котором ещё нет оснований отвергнуть данную гипотезу, равняется 0.2, исходя из таблицы значений $\\chi^2$."
      ],
      "metadata": {
        "id": "01vaMjMjUBnO"
      }
    },
    {
      "cell_type": "code",
      "source": [
        "omp = 1/xMean2\n",
        "\n",
        "n_1 = n_counter(intervals[0][0],intervals[0][1])\n",
        "n_2 = n_counter(intervals[1][0],intervals[1][1])\n",
        "n_3 = n_counter(intervals[2][0],intervals[2][1])\n",
        "n_4 = n_counter(intervals[3][0],intervals[3][1])\n",
        "\n",
        "#вычисление значений вероятностей\n",
        "P1 = lambda_0*math.exp(-omp*intervals[0][0]) + omp*math.exp(-omp*intervals[0][1])\n",
        "P2 = lambda_0*math.exp(-omp*intervals[1][0]) + omp*math.exp(-omp*intervals[1][1])\n",
        "P3 = lambda_0*math.exp(-omp*intervals[2][0]) + omp*math.exp(-omp*intervals[2][1])\n",
        "P4 = lambda_0*math.exp(-omp*intervals[3][0]) + omp*math.exp(-omp*intervals[3][1])\n",
        "\n",
        "#вычисление критерия хи квадрат\n",
        "chi = ((n_1 - n*P1)**2) / (n*P1) + ((n_2 - n*P2)**2) / (n*P2) + ((n_3 - n*P3)**2) / (n*P3) + ((n_4 - n*P4)**2) / (n*P4)\n",
        "\n",
        "print(\"Критерий значимости: \", round(chi, 2))\n",
        "print(round(n*P1,2), round(n*P2,2), round(n*P3,2),round(n*P4,2))\n",
        "print('p-value = ', 1 - sp.chi2.cdf(sp.chi2.ppf(1 - 0.2, df = 4-1-1), 3-1))"
      ],
      "metadata": {
        "colab": {
          "base_uri": "https://localhost:8080/"
        },
        "id": "XtnoMX70UN8y",
        "outputId": "0067fad5-49d4-4385-fdc8-5bcda59d20a7"
      },
      "execution_count": 124,
      "outputs": [
        {
          "output_type": "stream",
          "name": "stdout",
          "text": [
            "Критерий значимости:  148.93\n",
            "83.93 71.29 51.35 25.1\n",
            "p-value =  0.19999999999999996\n"
          ]
        }
      ]
    },
    {
      "cell_type": "markdown",
      "source": [
        "### 2.h Построить наиболее мощный критерий проверки простой гипотезы показательности с параметром $\\lambda_0 = 0.25$ при альтернативе показательности с параметром $\\lambda_1 = 0.33$.  Проверить гипотезу на уровне значимости $\\alpha_2 = 0.2$. Что получится, если поменять местами  основную и альтернативную гипотезы?"
      ],
      "metadata": {
        "id": "_dNtd5xuYzCz"
      }
    },
    {
      "cell_type": "markdown",
      "source": [
        "$ H_ {0} :  \\lambda  =  \\lambda _ {0} $\n",
        "\n",
        "$ H_ {1} :  \\lambda  =  \\lambda _ {1} $\n",
        "\n",
        "Cтатистическое отношение правдоподобия:\n",
        "\n",
        "$LR(\\overrightarrow{X},\\lambda_{1},\\lambda_{0}) = \\left(\\frac{\\lambda_{1}}{\\lambda_{0}}\\right)^n \\cdot e^{-\\lambda_{1} \\cdot {\\sum_{i=1}^{50}X_{i}} + \\lambda_{0} \\cdot {\\sum_{i=1}^{50}X_{i}} }$\n",
        "\n",
        "$LR(\\overrightarrow{X},\\lambda_{1},\\lambda_{0})>  c\\Leftrightarrow \\overline{X} < c^*$\n",
        "\n",
        "$LR(\\overrightarrow{X},\\lambda_{1},\\lambda_{0})<  c\\Leftrightarrow \\overline{X} > c^*$\n",
        "\n",
        "$e^{{\\sum_{i=1}^{50}X_{i}}\\cdot (-\\lambda_{1} + \\lambda_{0})}=\\left(\\frac{\\lambda_{0}}{\\lambda_{1}}\\right)^n c$\n",
        "\n",
        "Логарифмируем:\n",
        "\n",
        "(1)    $c* = {\\sum_{i=1}^{50}X_{i}}=n \\cdot ln\\left(\\left(\\frac{\\lambda_{0}}{\\lambda_{1}}\\right) c\\right)$\n",
        "\n",
        "$\\sum_{i=1}^{50}X_{i}\\sim \\Gamma \\left(n,\\frac{1}{\\lambda}\\right)$\n",
        "\n",
        "$1-\\Phi_{\\Gamma \\left(n,\\frac{1}{\\lambda}\\right)}(c)=\\alpha_{2}$\n",
        "\n",
        "$ c = \\Phi^{-1}_{\\Gamma \\left(n,\\frac{1}{\\lambda}\\right)}(1-\\alpha_{2})$\n",
        "\n",
        "$ c = 236.996$\n",
        "\n",
        "Найдем с* подставив значени в выражение (1):\n",
        "\n",
        "$ с* = 259.521$\n",
        "\n",
        "$LR(\\overrightarrow{X}, \\lambda_{0}, \\lambda_{1})  = 972.684$\n",
        "\n",
        "$ \\phi(x) =\\left\\{\n",
        "  \\begin{array}{l}\n",
        "    1, LR(x) > 236.996 \\\\\n",
        "    p, LR(x) = 236.996 \\\\\n",
        "    0, LR(x) < 236.996 \\\\\n",
        "\\end{array}\\right.$\n",
        "\n",
        "$c < LR  \\to$ принимаем гипотезу"
      ],
      "metadata": {
        "id": "Oy6SsgvSY3e9"
      }
    },
    {
      "cell_type": "code",
      "source": [
        "lambda_1 = 0.33\n",
        "c1 = sp.gamma.ppf(0.9, a =50, scale = 1/lambda_0)\n",
        "print('c =', c1)\n",
        "cSt1 = 50*np.log(lambda_0/lambda_1*c1)\n",
        "print('c* = ',cSt1)\n",
        "LR1 = ((lambda_0/lambda_1)**50)*np.exp(lambda_1*cSt1 - lambda_0*cSt1)\n",
        "print('LR =', LR1,'\\n')"
      ],
      "metadata": {
        "colab": {
          "base_uri": "https://localhost:8080/"
        },
        "id": "jXKe60HmZXIc",
        "outputId": "09743f87-e4e1-4293-bdf4-285da0c4f1ec"
      },
      "execution_count": 125,
      "outputs": [
        {
          "output_type": "stream",
          "name": "stdout",
          "text": [
            "c = 42.3207156468079\n",
            "c* =  259.5205779459348\n",
            "LR = 6.064081113304008e-90 \n",
            "\n"
          ]
        }
      ]
    },
    {
      "cell_type": "markdown",
      "source": [
        "*Меняем местами основную и альтернативную гипотезу:*\n",
        "\n",
        "$H_{0}=\\lambda_{1}$\n",
        "\n",
        "$H_{1}=\\lambda_{0}$\n",
        "\n",
        "Cтатистическое отношение правдоподобия:\n",
        "\n",
        "$LR(\\overrightarrow{X},\\lambda_{0},\\lambda_{1}) = \\left(\\frac{\\lambda_{0}}{\\lambda_{1}}\\right)^n \\cdot exp^{-\\lambda_{0} \\cdot {\\sum_{i=1}^{50}X_{i}} + \\lambda_{1} \\cdot {\\sum_{i=1}^{50}X_{i}} }$\n",
        "\n",
        "$LR(\\overrightarrow{X},\\lambda_{0},\\lambda_{1})>  c\\Leftrightarrow \\overline{X} < c^*$\n",
        "\n",
        "$LR(\\overrightarrow{X},\\lambda_{0},\\lambda_{1})<  c\\Leftrightarrow \\overline{X} > c^*$\n",
        "\n",
        "${exp}^{{\\sum_{i=1}^{50}X_{i}}\\cdot (-\\lambda_{0} + \\lambda_{1})}=\\left(\\frac{\\lambda_{1}}{\\lambda_{0}}\\right)^n c$\n",
        "\n",
        "$ c = \\Phi^{-1}_{\\Gamma \\left(n,\\frac{1}{\\lambda}\\right)}(1-\\alpha_{2})$\n",
        "\n",
        "$ c = 179.542$\n",
        "\n",
        "$ с* = 282.12$\n",
        "\n",
        "\n",
        "$LR(\\overrightarrow{X}, \\lambda_{0}, \\lambda_{1}) = 0.00312$\n",
        "\n",
        "$ \\phi(x) =\\left\\{\n",
        "  \\begin{array}{l}\n",
        "    1, LR(x) > 179.542 \\\\\n",
        "    p, LR(x) = 179.542 \\\\\n",
        "    0, LR(x) < 179.542 \\\\\n",
        "  \\end{array}\\right.$\n",
        "\n",
        "$ c > LR \\to $ отвергаем гипотезу"
      ],
      "metadata": {
        "id": "U1ghf7y6ZJUn"
      }
    },
    {
      "cell_type": "code",
      "source": [
        "c2 = sp.gamma.ppf(0.9, a =50, scale=1/lambda_1)\n",
        "print('c =', c2)\n",
        "cSt2 = 50*np.log(lambda_0/lambda_1*c2)\n",
        "print('c* = ',cSt2)\n",
        "LR2 = ((lambda_1/lambda_0)**50)*np.exp(lambda_0*cSt2 - lambda_1*cSt2)\n",
        "print('LR =', LR2)"
      ],
      "metadata": {
        "colab": {
          "base_uri": "https://localhost:8080/"
        },
        "id": "AwuCPMN2ZP0N",
        "outputId": "c88d6716-fb65-4148-f378-4818e5f82950"
      },
      "execution_count": 126,
      "outputs": [
        {
          "output_type": "stream",
          "name": "stdout",
          "text": [
            "c = 179.5424300167608\n",
            "c* =  331.777321003076\n",
            "LR = 6.2314501269642325e+122\n"
          ]
        }
      ]
    },
    {
      "cell_type": "markdown",
      "source": [
        "### 2.i В пунктах (c)-(h) заменить семейство показательных распределений на семейство гамма-распределений с плотностями $$p_{\\lambda} = \\frac{\\sqrt{\\lambda}\\cdot exp\\left( \\frac{-\\lambda\\cdot x}{2} \\right)}{\\sqrt{2\\cdot \\pi\\cdot x}}$$"
      ],
      "metadata": {
        "id": "uxZWbWbscbOF"
      }
    },
    {
      "cell_type": "markdown",
      "source": [
        "**2.i.d Построить асимптотичексий доверительный интервал уровня значимости $\\alpha_1$ для параметра $\\lambda$ на базе оценки максимального правдоподобия.**\n",
        "\n",
        "$\\alpha_2 = 0.20$\n",
        "\n",
        "$\\widehat{\\theta} = \\widehat{\\lambda} = \\frac{1}{\\overline{X}}$\n",
        "\n",
        "Из пункта 2.с:\n",
        "\n",
        "$\\frac{\\partial LL}{\\partial \\lambda} = \\frac{n}{2\\lambda}-\\frac{\\sum_{i=1}^{n}X_{i}}{2}$\n",
        "\n",
        "$\\frac{\\partial^2 LL}{\\partial \\lambda^2} = -\\frac{n}{2 \\cdot \\lambda^2}$\n",
        "\n",
        "$\\mathrm{I}_n(\\lambda) = - \\large \\mathbb{E}_{\\theta}\\frac{\\partial^2 LL}{\\partial \\lambda^2} = \\mathbb{E}_{\\theta} \\left(\\frac{n}{2 \\cdot \\lambda^2}\\right) = \\frac{n}{2\\cdot\\lambda^2}$\n",
        "\n",
        "**Квантили:**\n",
        "\n",
        "$x_{\\alpha} : \\mathrm{\\Phi}(x_{\\alpha}) = 1 - \\frac{\\alpha}{2} = 1 - \\frac{0.2}{2} = 0.9$, где $\\alpha = \\alpha_2 = 0.2$\n",
        "$\\mathrm{\\Phi}(x_{\\alpha}) = 0.9 \\Rightarrow x_{\\alpha} = 1.28\n",
        "$\n",
        "\n",
        "*Асимптотический доверительный интервал:*\n",
        "$\\left[\\frac{1}{\\overline{X}} - \\frac{x_{\\alpha}}{\\sqrt{n\\cdot \\frac{n}{2\\cdot\\lambda^2}}} , \\frac{1}{\\overline{X}} + \\frac{x_{\\alpha}}{\\sqrt{n\\cdot \\frac{n}{2\\cdot\\lambda^2}}} \\right] \\ni \\lambda$\n",
        "\n",
        "Таким образом, АДИ уровня значимости $\\alpha_1$ для параметра $\\lambda$:\n",
        "\n",
        "$$\\left[0.277, 0.401\\right] \\ni \\lambda$$"
      ],
      "metadata": {
        "id": "9U0UpHZceH6D"
      }
    },
    {
      "cell_type": "code",
      "source": [
        "adi_2 = []\n",
        "\n",
        "left_2 = 1/xMean2 - x_alpha_2 *xMean2/(n * n / 2 * xMean2)**0.5 #подсчёт левой границы АДИ\n",
        "adi_2.append(round(left_2, 3))\n",
        "\n",
        "right_2 = 1/xMean2+ x_alpha_2 * xMean2/(n * n / 2 *xMean2)**0.5 #подсчёт правой границы АДИ\n",
        "adi_2.append(round(right_2, 3))\n",
        "\n",
        "print(\"Асимптотический доверительный интервал: \", adi_2)\n"
      ],
      "metadata": {
        "colab": {
          "base_uri": "https://localhost:8080/"
        },
        "id": "Ae2vhr7xejbe",
        "outputId": "11407b89-c813-4a4e-e98b-6fa221bc754d"
      },
      "execution_count": 127,
      "outputs": [
        {
          "output_type": "stream",
          "name": "stdout",
          "text": [
            "Асимптотический доверительный интервал:  [0.277, 0.401]\n"
          ]
        }
      ]
    },
    {
      "cell_type": "markdown",
      "source": [
        "**2.i.e C использованием теоремы Колмогорова построить критерий значимости проверки простой гипотезы согласия с показательным распределением с параметром λ0=0.25. Проверить гипотезу на уровне значимости α2 = 0,2. Вычислить наименьшее значения уровня значимости, на котором ещё нет оснований отвергнуть гипотезу.**"
      ],
      "metadata": {
        "id": "RtminK8FfiyZ"
      }
    },
    {
      "cell_type": "markdown",
      "source": [
        "Статистика критерия Колмагорова: $D_n = sup_{x \\in \\mathbb{R}}|F_n(x) - F_0(x)|$\n",
        "\n",
        "Теорема Колмагорова: $\\sqrt{n}D_n \\rightarrow K, при \\, основной \\, гипотезе$\n",
        "\n",
        "$D_n = 49.037 $\n",
        "\n",
        "Критическое  значение: $C =  0.173$\n",
        "\n",
        "Т.к. $D_n > c $, то гипотезу отвергаем\n"
      ],
      "metadata": {
        "id": "WPNVLyiVfo2q"
      }
    },
    {
      "cell_type": "code",
      "source": [
        "D = np.max(np.abs(gamma.cdf(data2,1, scale=1/lambda_0) - np.arange(1, n+1 / n)))\n",
        "critical_value = kstwobign.ppf(1 - 0.2/2) / np.sqrt(n)\n",
        "\n",
        "print(D, critical_value)"
      ],
      "metadata": {
        "colab": {
          "base_uri": "https://localhost:8080/"
        },
        "id": "Ka8LKBYTfumn",
        "outputId": "04425d0c-8a33-483d-95b5-8e3953e75ad8"
      },
      "execution_count": 128,
      "outputs": [
        {
          "output_type": "stream",
          "name": "stdout",
          "text": [
            "49.000000009424056 0.17307822563424255\n"
          ]
        }
      ]
    },
    {
      "cell_type": "markdown",
      "source": [
        "**2.i.f Используя гистограмму частот, построить критерий значимости $\\chi^2$ проверки простой гипотезы согласия с распределением Пуассона с параметром $\\lambda_0 = 0.25$. Проверить гипотезу на уровне значимости $\\alpha_1 = 0.2$. Вычислить наибольшее значение уровня значимости, на котором ещё нет оснований отвергнуть данную гипотезу.**"
      ],
      "metadata": {
        "id": "HCRNOjvBgLK_"
      }
    },
    {
      "cell_type": "markdown",
      "source": [
        "Расммотрим $\\mathbb{P}_{k} = \\mathbb{P}_{\\theta}\\left(x_i \\in G_k\\right) = \\sum \\limits_{x \\in G_k} q_{\\theta}(x)$\n",
        "\n",
        "\n",
        "Из таблицы: $\\chi_{k-1, \\alpha_1}^2 = \\chi_{4, 0.1}^2 = 4.64$\n",
        "\n",
        "Получили: $\\chi^2 = 93.82$\n",
        "\n",
        "**Так как** $\\chi^2 > \\chi_{4, 0.1}^2$ **, то гипотезу отвергаем**\n",
        "\n",
        "Наибольшее значение уровня значимости, при котором ещё нет оснований отвергнуть данную гипотезу, очень мало $(\\ll 0.01)$"
      ],
      "metadata": {
        "id": "2hjCIJvBgRTf"
      }
    },
    {
      "cell_type": "code",
      "source": [
        "#вычисление значений вероятностей\n",
        "P1 = math.sqrt(lambda_0)*math.exp(-lambda_0*intervals[0][0]/2)/math.sqrt(2* math.pi * intervals[0][0]) + math.sqrt(lambda_0)*math.exp(-lambda_0*intervals[0][1]/2)/math.sqrt(2* math.pi * intervals[0][1])\n",
        "P2 = math.sqrt(lambda_0)*math.exp(-lambda_0*intervals[1][0]/2)/math.sqrt(2* math.pi * intervals[1][0]) + math.sqrt(lambda_0)*math.exp(-lambda_0*intervals[1][1]/2)/math.sqrt(2* math.pi * intervals[1][1])\n",
        "P3 = math.sqrt(lambda_0)*math.exp(-lambda_0*intervals[2][0]/2)/math.sqrt(2* math.pi * intervals[2][0]) + math.sqrt(lambda_0)*math.exp(-lambda_0*intervals[2][1]/2)/math.sqrt(2* math.pi * intervals[2][1])\n",
        "P4 = math.sqrt(lambda_0)*math.exp(-lambda_0*intervals[3][0]/2)/math.sqrt(2* math.pi * intervals[3][0]) + math.sqrt(lambda_0)*math.exp(-lambda_0*intervals[3][1]/2)/math.sqrt(2* math.pi * intervals[3][1])\n",
        "\n",
        "#вычисление критерия хи квадрат\n",
        "chi = ((n_1 - n*P1)**2) / (n*P1) + ((n_2 - n*P2)**2) / (n*P2) + ((n_3 - n*P3)**2) / (n*P3) + ((n_4 - n*P4)**2) / (n*P4)\n",
        "print(\"Критерий значимости: \", round(chi, 2))\n",
        "print(round(n*P1,2), round(n*P2,2), round(n*P3,2),round(n*P4,2))\n",
        "print('p-value = ', 1 - sp.chi2.cdf(sp.chi2.ppf(1 - 0.2, df = 4-1), 3))"
      ],
      "metadata": {
        "colab": {
          "base_uri": "https://localhost:8080/"
        },
        "id": "aPOMxvthgVRA",
        "outputId": "6cb83006-912a-4b79-deeb-d07e68784e2d"
      },
      "execution_count": 129,
      "outputs": [
        {
          "output_type": "stream",
          "name": "stdout",
          "text": [
            "Критерий значимости:  282.47\n",
            "160.07 34.66 10.09 1.6\n",
            "p-value =  0.20000000000000007\n"
          ]
        }
      ]
    },
    {
      "cell_type": "markdown",
      "source": [
        "**2.i.g Построить критерий значимости $\\chi^2$ проверки сложной гипотезы согласия с распределением Пуассона. Проверить гипотезу на уровне значимости $\\alpha_1 = 0.2$. Вычислить наибольшее значение уровня значимости, на котором ещё нет оснований отвергнуть данную гипотезу.**"
      ],
      "metadata": {
        "id": "ahXzFUSlhDql"
      }
    },
    {
      "cell_type": "markdown",
      "source": [
        "Расммотрим $\\mathbb{P}_{k} = \\mathbb{P}_{\\theta}\\left(x_i \\in G_k\\right) = \\sum \\limits_{x \\in G_k} q_{\\theta}(x)$\n",
        "\n",
        "$\\widehat{\\lambda} = \\frac{1}{\\overline{X}} = \\frac{1}{2.9518} = 0.339 $\n",
        "\n",
        "Из таблицы: $\\chi_{k-1, \\alpha_1}^2 = \\chi_{3, 0.2}^2 =  4.64$\n",
        "\n",
        "$\\chi^2 = 98.18$\n",
        "\n",
        "**Так как** $\\chi^2 > \\chi_{3, 0.2}^2$ **, то гипотезу отвергаем**\n",
        "\n",
        "Наибольшее значение уровня значимости, при котором ещё нет оснований отвергнуть данную гипотезу, очень мало $(\\ll 0.01)$"
      ],
      "metadata": {
        "id": "Z7d0qcRzhJuF"
      }
    },
    {
      "cell_type": "code",
      "source": [
        "intervals = [[0.03, 0.43], [0.44,1.28], [1.29, 2.85], [3, 13.2]]\n",
        "\n",
        "def n_counter(start:float, end:float):\n",
        "    counter = 0\n",
        "    for i in data2:\n",
        "        if i >=start and i <=end:\n",
        "            counter += 1\n",
        "    return counter\n",
        "\n",
        "\n",
        "n_1 = n_counter(intervals[0][0],intervals[0][1])\n",
        "n_2 = n_counter(intervals[1][0],intervals[1][1])\n",
        "n_3 = n_counter(intervals[2][0],intervals[2][1])\n",
        "n_4 = n_counter(intervals[3][0],intervals[3][1])\n",
        "\n",
        "#вычисление значений вероятностей\n",
        "P1 = math.sqrt(omp)*math.exp(-omp*intervals[0][0]/2)/math.sqrt(2* math.pi * intervals[0][0])\n",
        "+ math.sqrt(omp)*math.exp(-omp*intervals[0][1]/2)/math.sqrt(2* math.pi * intervals[0][1])\n",
        "P2 = math.sqrt(omp)*math.exp(-omp*intervals[1][0]/2)/math.sqrt(2* math.pi * intervals[1][0])\n",
        "+ math.sqrt(omp)*math.exp(-omp*intervals[1][1]/2)/math.sqrt(2* math.pi * intervals[1][1])\n",
        "P3 = math.sqrt(omp)*math.exp(-omp*intervals[2][0]/2)/math.sqrt(2* math.pi * intervals[2][0])\n",
        "+ math.sqrt(omp)*math.exp(-omp*intervals[2][1]/2)/math.sqrt(2* math.pi * intervals[2][1])\n",
        "P4 = math.sqrt(omp)*math.exp(-omp*intervals[3][0]/2)/math.sqrt(2* math.pi * intervals[3][0])\n",
        "+ math.sqrt(omp)*math.exp(-omp*intervals[3][1]/2)/math.sqrt(2* math.pi * intervals[3][1])\n",
        "\n",
        "#вычисление критерия хи квадрат\n",
        "chi = ((n_1 - n*P1)**2) / (n*P1) + ((n_2 - n*P2)**2) / (n*P2) + ((n_3 - n*P3)**2) / (n*P3) + ((n_4 - n*P4)**2) / (n*P4)\n",
        "print(\"Критерий значимости: \", round(chi, 2))\n",
        "print(round(n*P1,2), round(n*P2,2), round(n*P3,2),round(n*P4,2))\n",
        "print('p-value = ', 1 - sp.chi2.cdf(sp.chi2.ppf(1 - 0.2, df = 4-1), 3))\n"
      ],
      "metadata": {
        "colab": {
          "base_uri": "https://localhost:8080/"
        },
        "id": "8o-lFwHUha1p",
        "outputId": "57e0db57-1d05-4b92-dedb-9af9f8fc9c26"
      },
      "execution_count": 130,
      "outputs": [
        {
          "output_type": "stream",
          "name": "stdout",
          "text": [
            "Критерий значимости:  100.74\n",
            "66.69 16.25 8.22 4.03\n",
            "p-value =  0.20000000000000007\n"
          ]
        }
      ]
    },
    {
      "cell_type": "markdown",
      "source": [
        "**2.h Построить наиболее мощный критерий проверки простой гипотезы гамма-распределенности с параметром $\\lambda_0 = 0.25$ при альтернативе амма-распределенности с параметром $\\lambda_1 = 0.33$.  Проверить гипотезу на уровне значимости $\\alpha_2 = 0.2$. Что получится, если поменять местами  основную и альтернативную гипотезы?**"
      ],
      "metadata": {
        "id": "PirZ828Hi2D7"
      }
    },
    {
      "cell_type": "markdown",
      "source": [
        "$ H_ {0} :  \\lambda  =  \\lambda _ {0}$\n",
        "\n",
        "$ H_ {1} :  \\lambda  =  \\lambda _ {1}$\n",
        "\n",
        "Cтатистическое отношение правдоподобия:\n",
        "\n",
        "$LR(\\overrightarrow{X},\\lambda_{1},\\lambda_{0}) = =\\left(\\frac{\\lambda_{0}}{\\lambda_{1}}\\right)^{\\frac{n}{2}}\\cdot e^ \\left((\\lambda_{1}-\\lambda_{0})\\cdot \\sum_{i=1}^{50}X_{i} \\right)$\n",
        "\n",
        "$LR(\\overrightarrow{X},\\lambda_{1},\\lambda_{0})>  c\\Leftrightarrow \\overline{X} < c^*$\n",
        "\n",
        "$LR(\\overrightarrow{X},\\lambda_{1},\\lambda_{0})<  c\\Leftrightarrow \\overline{X} > c^*$\n",
        "\n",
        "$e^{{\\sum_{i=1}^{50}X_{i}}\\cdot (-\\lambda_{1} + \\lambda_{0})}=\\left(\\frac{\\lambda_{0}}{\\lambda_{1}}\\right)^n c$\n",
        "\n",
        "Логарифмируем:\n",
        "\n",
        "(1) $c* = {\\sum_{i=1}^{50}X_{i}}=n \\cdot ln\\left(\\left(\\frac{\\lambda_{0}}{\\lambda_{1}}\\right) c\\right)$\n",
        "\n",
        "$\\sum_{i=1}^{50}X_{i}\\sim \\Gamma \\left(n,\\frac{1}{\\lambda}\\right)$\n",
        "\n",
        "$1-\\Phi_{\\Gamma \\left(n,\\frac{1}{\\lambda}\\right)}(c)=\\alpha_{2}$\n",
        "\n",
        "$ c = \\Phi^{-1}_{\\Gamma \\left(n,\\frac{1}{\\lambda}\\right)}(1-\\alpha_{2})$\n",
        "\n",
        "$ c = 236.996$\n",
        "\n",
        "Найдем с* подставив значени в выражение (1):\n",
        "\n",
        "$ с* = 259.52$\n",
        "\n",
        "$LR(\\overrightarrow{X}, \\lambda_{0}, \\lambda_{1}) = 1005356.56$\n",
        "\n",
        "$ \\phi(x) =\\left\\{\n",
        "  \\begin{array}{l}\n",
        "    1, LR(x) > 236.996 \\\\\n",
        "    p, LR(x) = 236.996\\\\\n",
        "    0, LR(x) < 236.996\\\\\n",
        "  \\end{array}\\right.$\n",
        "\n",
        "  $c < LR  \\to$ принимаем гипотезу"
      ],
      "metadata": {
        "id": "nnkD6Se6i_y3"
      }
    },
    {
      "cell_type": "code",
      "source": [
        "c1 = sp.gamma.ppf(0.9, a =50, scale = 1/lambda_0)\n",
        "print('c =', c1)\n",
        "cSt1 = 50*np.log(lambda_0/lambda_1*c1)\n",
        "print('c* = ',cSt1)\n",
        "LR1 = ((lambda_0/lambda_1)**25)*np.exp(lambda_1*cSt1 - lambda_0*cSt1)\n",
        "print('LR =', LR1,'\\n')"
      ],
      "metadata": {
        "colab": {
          "base_uri": "https://localhost:8080/"
        },
        "id": "ZzDZsKgZjMZ1",
        "outputId": "35664763-cef9-4f6f-9d91-9d2a75a706dd"
      },
      "execution_count": 131,
      "outputs": [
        {
          "output_type": "stream",
          "name": "stdout",
          "text": [
            "c = 42.3207156468079\n",
            "c* =  259.5205779459348\n",
            "LR = 1.2371222184023656e-105 \n",
            "\n"
          ]
        }
      ]
    },
    {
      "cell_type": "markdown",
      "source": [
        "**Меняем местами основную и альтернативную гипотезу:**\n",
        "\n",
        "$H_{0}=\\lambda_{1}$\n",
        "\n",
        "$H_{1}=\\lambda_{0}$\n",
        "\n",
        "Cтатистическое отношение правдоподобия:\n",
        "\n",
        "$LR(\\overrightarrow{X},\\lambda_{0},\\lambda_{1}) = \\left(\\frac{\\lambda_{0}}{\\lambda_{1}}\\right)^n \\cdot e^{-\\lambda_{0} \\cdot {\\sum_{i=1}^{50}X_{i}} + \\lambda_{1} \\cdot {\\sum_{i=1}^{50}X_{i}} }$\n",
        "\n",
        "$LR(\\overrightarrow{X},\\lambda_{0},\\lambda_{1})>  c\\Leftrightarrow \\overline{X} < c^*$\n",
        "\n",
        "$LR(\\overrightarrow{X},\\lambda_{0},\\lambda_{1})<  c\\Leftrightarrow \\overline{X} > c^*$\n",
        "\n",
        "$e^{{\\sum_{i=1}^{50}X_{i}}\\cdot (-\\lambda_{0} + \\lambda_{1})}=\\left(\\frac{\\lambda_{1}}{\\lambda_{0}}\\right)^n c$\n",
        "\n",
        "$ c = \\Phi^{-1}_{\\Gamma \\left(n,\\frac{1}{\\lambda}\\right)}(1-\\alpha_{2})$\n",
        "\n",
        "$ c = 179.54$\n",
        "\n",
        "$ с* = 259.52$\n",
        "\n",
        "\n",
        "$LR(\\overrightarrow{X}, \\lambda_{0}, \\lambda_{1})  = 0.00000302$\n",
        "\n",
        "$ \\phi(x) =\\left\\{\n",
        "  \\begin{array}{l}\n",
        "    1, LR(x) > 179.54 \\\\\n",
        "    p, LR(x) = 179.54\\\\\n",
        "    0, LR(x) < 179.54\\\\\n",
        "  \\end{array}\\right.$\n",
        "\n",
        "  $ c > LR \\to$ принимаем гипотезу"
      ],
      "metadata": {
        "id": "7WBgEbQsjanf"
      }
    },
    {
      "cell_type": "code",
      "source": [
        "c2 = sp.gamma.ppf(0.9, a =50, scale=1/lambda_1)\n",
        "print('c =', c2)\n",
        "cSt2 = 50*np.log(lambda_0/lambda_1*c2)\n",
        "print('c* = ',cSt2)\n",
        "LR2 = ((lambda_1/lambda_0)**25)*np.exp(lambda_0*cSt2 - lambda_1*cSt2)\n",
        "print('LR =', LR2)"
      ],
      "metadata": {
        "colab": {
          "base_uri": "https://localhost:8080/"
        },
        "id": "C3k-25xzjgAj",
        "outputId": "22052e82-8c8d-410d-fb79-9fff0120bd28"
      },
      "execution_count": 132,
      "outputs": [
        {
          "output_type": "stream",
          "name": "stdout",
          "text": [
            "c = 179.5424300167608\n",
            "c* =  331.777321003076\n",
            "LR = 3.0545097696345245e+138\n"
          ]
        }
      ]
    },
    {
      "cell_type": "markdown",
      "metadata": {
        "id": "6pmWUfDLXmAS"
      },
      "source": [
        "## Выводы\n",
        "В процессе выполнения практической работы были изучены и применены методы математической статистики для анализа данных, приобретены навыки использования программных пакетов для реализации этих методов. Были изучены основные методы статистического анализа, приобретены навыки проведения статистических тестов, анализа выборочных данных, построения доверительных интервалов и проверки гипотез. Кроме того, были построены оценки, асимптотические интервалы и проверены гипотезы."
      ]
    }
  ],
  "metadata": {
    "kernelspec": {
      "display_name": "Python 3",
      "language": "python",
      "name": "python3"
    },
    "language_info": {
      "codemirror_mode": {
        "name": "ipython",
        "version": 3
      },
      "file_extension": ".py",
      "mimetype": "text/x-python",
      "name": "python",
      "nbconvert_exporter": "python",
      "pygments_lexer": "ipython3",
      "version": "3.11.5"
    },
    "colab": {
      "provenance": []
    }
  },
  "nbformat": 4,
  "nbformat_minor": 0
}