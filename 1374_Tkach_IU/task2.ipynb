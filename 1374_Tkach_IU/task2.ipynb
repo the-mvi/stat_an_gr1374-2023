{
  "nbformat": 4,
  "nbformat_minor": 0,
  "metadata": {
    "colab": {
      "provenance": []
    },
    "kernelspec": {
      "name": "python3",
      "display_name": "Python 3"
    },
    "language_info": {
      "name": "python"
    }
  },
  "cells": [
    {
      "cell_type": "markdown",
      "source": [
        "# Практическая работа №2: \"Классические методы математической статистики\",\n",
        "Выполнила студентка гр. 1374 Ткач Ирина. Вариант №22\n",
        "\n"
      ],
      "metadata": {
        "id": "GQyVc8YrTMKC"
      }
    },
    {
      "cell_type": "markdown",
      "source": [
        "## Цель работы\n",
        "Научится применять методы математической статистики для решения задач статистического анализа; сформировать навыки реализации методов с помощью прикладных программных пакетов.\n"
      ],
      "metadata": {
        "id": "bKinbE6_TaAA"
      }
    },
    {
      "cell_type": "markdown",
      "source": [
        "## Основные теоретические положения\n",
        "\n",
        "\n",
        "Основные теоретические положения\n",
        "\n",
        "1. Выборочные числовые характеристики:\n",
        "\\begin{align*}\n",
        "\\text{Мат.ожидание } \\overline{X} &= \\frac{1}{n}\\sum_{i=1}^{n}X_{i} \\\\\n",
        "\\text{Дисперсия } S^{2} &= \\frac{1}{n}\\sum_{i=1}^{n}\\left( X_{i}-\\overline{X} \\right)^{2}=\\overline{X^{2}}-\\overline{X}^{2} \\\\\n",
        "\\text{Коэф.асимметрии (скошености) } \\widehat{S_{\\text{skew}}}X &= \\frac{\\left(\\frac{1}{n}\\sum_{i=1}^{n}\\left( X_{i}-\\overline{X} \\right)^{3} \\right)}{S^{3}} \\\\\n",
        "\\text{Коэф.эксцесса (островершинности) } \\widehat{K_{\\text{kurt}}}X &= \\frac{\\frac{1}{n}\\sum_{i=1}^{n}\\left( X_{i}-\\overline{X}^{4} \\right)}{S^{4}}-3\n",
        "\\end{align*}\n",
        "\n",
        "2. Функция правдоподобия $\\mathrm{L} : \\mathcal{X} \\times \\Theta \\rightarrow (0, +\\infty):$\n",
        "\n",
        " $$\\mathrm{L}\\left(\\vec{X}, \\theta \\right) = \\prod \\limits_{i = 1}^n p_{\\theta}(x_i)$$\n",
        "где $p_{\\theta}(x)$ - плотность распределения <br>\n",
        "\n",
        "Оценка $\\widehat{\\theta}\\left(\\vec{X}\\right)$, максимизирующая функцию правдоподобия $\\mathrm{L}\\left(\\vec{X}, \\theta \\right)$ по $\\theta$ при каждом фиксированном $x$:\n",
        "$$\\mathrm{L}\\left(\\vec{X}, \\widehat{\\theta}\\left(\\vec{X}\\right)\\right) \\geq \\mathrm{L}\\left(\\vec{X}, \\widetilde{\\theta}\\left(\\vec{X}\\right)\\right), \\forall x \\in \\mathcal{X}, \\forall  \\widetilde{\\theta}\\left(\\vec{X}\\right)$$\n",
        "называется оценкой максимального прадоподобия\n",
        "\n",
        "Пусть $X_{1},...,X_{n}$-выбока из распределения $P_{\\theta}, \\theta=(\\theta_{1},...,\\theta_{d})$\n",
        "\n",
        "$\\exists \\mu_{k}(\\theta)=\\mathbb{E}X^{k}_{1}, k=\\overline{1,d}$\n",
        "\n",
        "Если $\\exists$ ! решение $\\widetilde{\\theta}(X)$ системы уравнений: $\\widehat{\\mu^{k}}(\\widetilde{\\theta})=\\mu_{k}(\\theta), k=\\overline{1,d}$, где $\\widetilde{\\theta}(X)=\\frac{1}{n}\\sum_{i=1}^{n}X^{k}_{i}$-выборочный момент k-го порядка, то $\\widetilde{\\theta}(X)$ называется оценкой по методу моментов\n",
        "\n",
        "\n",
        "3. \\\\\n",
        " Асимптотический доверительный интервал на базе асимптотически нормальной оценки:\n",
        "\n",
        "$\\left[\\hat\\theta(\\vec{x}) - \\frac{x_{\\alpha} \\cdot \\sigma(\\hat\\theta(\\vec{x})) }{\\sqrt{n}}, \\hat\\theta(\\vec{x}) + \\frac{x_{\\alpha} \\cdot \\sigma(\\hat\\theta(\\vec{x})) }{\\sqrt{n}} \\right] \\ni \\theta$\n",
        "\n",
        "Асимптотический доверительный интервал на базе ОМП:</b>\n",
        "\n",
        "$\\left[\\hat\\theta(\\vec{x}) - \\frac{x_{\\alpha}}{\\sqrt{nI(\\hat\\theta)}}, \\hat\\theta(\\vec{x}) + \\frac{x_{\\alpha}}{\\sqrt{nI(\\hat\\theta)}}\\right] \\ni \\theta$\n",
        "\n",
        "4. \\\\\n",
        "Простая гипотеза - одноточечная гипотеза, определяющая точное значение параметра:\n",
        "$$H: \\theta = \\theta^*$$\n",
        "\n",
        "Сложная гипотеза - гипотеза, состоящая из конечного или бесконечного числа простых гипотез.\n",
        "\n",
        "Доверительная область: $\\{x \\in \\mathcal{X}| \\phi\\left(x\\right) = 0\\}$\n",
        "\n",
        "Критическая область: $\\{x \\in \\mathcal{X}| \\phi\\left(x\\right) = 1\\}$\n",
        "\n",
        "Область сомнения: $\\{x \\in \\mathcal{X}| \\phi(x) \\in (0, 1)\\}$\n",
        "\n",
        "\n",
        "Лемма Неймана-Пирсона: $\\exists$ более мощный критерий уровня значимости $\\alpha$ вида:\n",
        "$$\\phi(x) =\\left\\{\\begin{array}{l} 1, \\mathrm{LR} > c \\\\ \\mathrm{LR} = c  \\\\ 0, \\mathrm{LR} < c \\\\ \\end{array}\\right.$$\n",
        "\n",
        "5.  Теорема Колмогорова:\n",
        "$ \\lim\\limits_{n \\to \\infty} \\mathbb{P}(\\sqrt{n}D_n \\leq t) = K(t)$, где $K(t)$ - функция распределения Колмогорова\n",
        "\n",
        "$D_n=\\sup\\limits_{-\\infty < x < +\\infty}\\left|F_n(x)-F(x)\\right|$ - Статистика Колмогорова"
      ],
      "metadata": {
        "id": "-Bm4mahyTjj6"
      }
    },
    {
      "cell_type": "markdown",
      "source": [
        "## Постановка задачи\n",
        "Для полученных в результате эксперимента наборов данных выполнить статистическую обработку. Полученные результаты содержательно проинтерпретировать."
      ],
      "metadata": {
        "id": "4rUJzRV1TkzA"
      }
    },
    {
      "cell_type": "markdown",
      "source": [
        "## Выполнение работы\n",
        "### 1. В результате эксперемента получены данные, приведенные в таблице 1\n",
        "$ \\alpha_1 = 0.01; \\quad a = 3.21; \\quad b = 6.34; \\quad \\lambda_0 = 6.00; \\quad \\lambda_1 = 5.00.$ \\\\\n",
        "Таблица 1 \\\\\n",
        "7 2 5 5 3 4 5 5 6 3 5 10 3 5 6 3 6 5 5 3 8 4 5 4 4 3 5 6 3 5 5 4 4 8 4 9 8 6 5 1 1 3 12 5 6 9\n",
        "7 3 5 4 \\\\\n",
        "\n",
        "###a) Постороить варицационный ряд, эмпирическую функцию распределения и гистаграмму частот"
      ],
      "metadata": {
        "id": "GrDtvr_LqP5V"
      }
    },
    {
      "cell_type": "code",
      "source": [
        "import numpy as np\n",
        "import matplotlib.pyplot as plt\n",
        "from collections import Counter\n",
        "\n",
        "# Исходные данные\n",
        "data = '7 2 5 5 3 4 5 5 6 3 5 10 3 5 6 3 6 5 5 3 8 4 5 4 4 3 5 6 3 5 5 4 4 8 4 9 8 6 5 1 1 3 12 5 6 9 7 3 5 4'\n",
        "data = list(map(int, data.split()))\n",
        "\n",
        "# Количество наблюдений\n",
        "n = len(data)\n",
        "\n",
        "# Вариационный ряд\n",
        "variation_series = sorted(data)\n",
        "print('Вариационный ряд:', variation_series)\n",
        "# Эмпирическая функция распределения\n",
        "def empirical_cdf(x):\n",
        "    count = 0\n",
        "    for value in variation_series:\n",
        "        if value <= x:\n",
        "            count += 1\n",
        "    return count / n\n",
        "\n",
        "plt.figure(figsize=(12, 7))\n",
        "\n",
        "# Гистограмма\n",
        "plt.subplot(1, 2, 1)\n",
        "plt.hist(variation_series, bins=max(variation_series) - min(variation_series) + 1, alpha=0.7, color='skyblue', edgecolor='black', density=True)\n",
        "plt.xlabel('Значение')\n",
        "plt.ylabel('Частота')\n",
        "plt.title('Гистограмма')\n",
        "plt.grid(True)\n",
        "plt.show\n",
        "\n",
        "# Построение эмпирической функции распределения\n",
        "x_values_cdf = np.linspace(min(variation_series), max(variation_series), 100)\n",
        "y_values_cdf = [empirical_cdf(x) for x in x_values_cdf]\n",
        "plt.subplot(1, 2, 2)\n",
        "plt.plot(x_values_cdf, y_values_cdf, label='Эмпирическая функция распределения')\n",
        "plt.xlabel('Значение')\n",
        "plt.ylabel('Вероятность')\n",
        "plt.title('Эмпирическая функция распределения')\n",
        "plt.grid(True)\n",
        "\n",
        "plt.tight_layout()\n",
        "\n",
        "plt.show()"
      ],
      "metadata": {
        "colab": {
          "base_uri": "https://localhost:8080/",
          "height": 724
        },
        "id": "36eklNFsxrUo",
        "outputId": "b98a4e87-5f28-477e-feb3-9eed67d3c06d"
      },
      "execution_count": null,
      "outputs": [
        {
          "output_type": "stream",
          "name": "stdout",
          "text": [
            "Вариационный ряд: [1, 1, 2, 3, 3, 3, 3, 3, 3, 3, 3, 3, 4, 4, 4, 4, 4, 4, 4, 4, 5, 5, 5, 5, 5, 5, 5, 5, 5, 5, 5, 5, 5, 5, 5, 6, 6, 6, 6, 6, 6, 7, 7, 8, 8, 8, 9, 9, 10, 12]\n"
          ]
        },
        {
          "output_type": "display_data",
          "data": {
            "text/plain": [
              "<Figure size 1200x700 with 2 Axes>"
            ],
            "image/png": "[encoded data removed]"
          },
          "metadata": {}
        }
      ]
    },
    {
      "cell_type": "markdown",
      "source": [
        "### b) Вычислить выборочные аналоги следующих числовых характеристик:\n",
        "\n",
        "(i) математического ожидания; (іі) дисперсии; (ii) СКО; (iv) медианы; (v) асимметрии; (vi) эксцесса; (vii) вероятности $\\mathbb{P}\\left(X\\in[a, b]\\right)$."
      ],
      "metadata": {
        "id": "e1HcbguZropA"
      }
    },
    {
      "cell_type": "code",
      "source": [
        "from scipy import stats\n",
        "\n",
        "mean = np.round(np.mean(data), 3)\n",
        "var = np.round(np.var(data), 3)\n",
        "std = np.round(np.std(data), 3)\n",
        "median = np.round(np.median(data), 3)\n",
        "skew = np.round(stats.skew(data), 3)\n",
        "kurt = np.round(stats.kurtosis(data), 3)\n",
        "\n",
        "a = 3.21\n",
        "b = 6.34\n",
        "P = len([x for x in data if a<=x<=b])/len(data)\n",
        "print(f'Математическое ожидание - {mean}\\nДисперсия - {var}\\nСКО - {std}\\nМедиана - {median}\\nКоэффициент асимметрии - {skew}\\nКоэффициент эксцесса - {kurt}\\nВеротяность - {P}')"
      ],
      "metadata": {
        "colab": {
          "base_uri": "https://localhost:8080/"
        },
        "id": "Wp-_UNgUuA9-",
        "outputId": "79cd4047-a761-49de-d8d9-b7c0e4bf7a14"
      },
      "execution_count": null,
      "outputs": [
        {
          "output_type": "stream",
          "name": "stdout",
          "text": [
            "Математическое ожидание - 5.04\n",
            "Дисперсия - 4.638\n",
            "СКО - 2.154\n",
            "Медиана - 5.0\n",
            "Коэффициент асимметрии - 0.873\n",
            "Коэффициент эксцесса - 1.176\n",
            "Веротяность - 0.58\n"
          ]
        }
      ]
    },
    {
      "cell_type": "markdown",
      "source": [
        "### c) В предположении, что исходные наблюдения являются выборкой из распределения Пуассона, построить ОМП и ОММ параметра $\\lambda$.Найти смещение оценки.\n",
        "\n",
        "\n",
        "\n",
        "$P_{\\lambda}(X=k)=\\frac{\\lambda^{k}}{k!}\\cdot exp(-\\lambda)$\n",
        "\n",
        "Построим ОМП.\n",
        "\n",
        "$L(\\overrightarrow{X};\\theta)=\\prod_{i=1}^{n}P_{\\lambda}(X_{i})=\\prod_{i=1}^{n}\\frac{\\lambda^{X_{i}}}{X_{i}!}\\cdot exp(-\\lambda)=\\frac{\\lambda^{\\sum_{i=1}^{n}X_{i}}}{\\prod_{i=1}^{n}(X_{i}!)}\\cdot exp(-n\\cdot \\lambda)$\n",
        "$LL(\\overrightarrow{X};\\theta)= \\sum_{i=1}^{n}X_{i}\\cdot \\ln(\\lambda)-\\ln(\\prod_{i=1}^{n}X_{i}!)-n\\cdot \\lambda$\n",
        "$\\frac{\\partial LL(\\overrightarrow{X};\\theta)}{\\partial \\lambda} = \\frac{\\sum_{i=1}^{n}X_{i}}{\\lambda}-n=0\\to \\frac{\\sum_{i=1}^{n}X_{i}}{\\lambda}=n\\to \\lambda=\\frac{1}{n}\\cdot \\sum_{i=1}^{n}X_{i}\\\\\n",
        "\\widehat{\\theta}=\\widehat{\\lambda}=\\overline{X}=5.04$.\n",
        "\n",
        "ОММ\n",
        "\n",
        "$\\widehat{\\lambda}=\\overline{X}=5.04$\n",
        "\n",
        "$L(\\overrightarrow{X};\\theta)=\\prod_{i=1}^{n}P_{\\lambda}(X_{i})=\\prod_{i=1}^{n}\\frac{\\lambda^{X_{i}}}{X_{i}!}\\cdot exp(-\\lambda)=\\frac{\\lambda^{\\sum_{i=1}^{n}X_{i}}}{\\prod_{i=1}^{n}(X_{i}!)}\\cdot exp(-n\\cdot \\lambda)$\n",
        "$g\\left(T(\\overrightarrow{X})\\right)=\\lambda^{\\sum_{i=1}^{n}X_{i}}\\cdot exp(-n\\cdot \\lambda)$\n",
        "\n",
        "$h(\\overrightarrow{X})=\\frac{1}{\\prod_{i=1}^{n}X_{i}!}$\n",
        "\n",
        " $T=\\sum_{i=1}^{n}X_{i}=257$ - МДС.\n",
        "\n",
        "Распределение Пуассона принадлежит экспоненциальному семейству распределения, МДС будет ПДС.\n",
        "\n",
        "$\\mathbb{E}_{\\lambda}\\overline{X}=\\mathbb{E}_{\\lambda}\\frac{1}{n}\\cdot \\sum_{i=1}^{n}x_{i}=\\frac{1}{n}\\cdot \\mathbb{E_{\\lambda}}\\sum_{i=1}^{n}x_{i}=\\frac{1}{n}\\cdot \\sum_{i=1}^{n}\\mathbb{E_{\\lambda}}X_{1}=\\frac{1}{n}\\cdot n\\cdot \\mathbb{E}_{\\lambda}X_{1}=\\lambda=5.04$-НРМД-оценка\n",
        "\n",
        "\n",
        "\n"
      ],
      "metadata": {
        "id": "a9GB4hUgy9n0"
      }
    },
    {
      "cell_type": "code",
      "source": [
        "theta_hat = np.round(mean, 3)\n",
        "theta_tilde = np.round(theta_hat, 3)\n",
        "print(f'ОМП - {theta_hat}\\nНРМД оценка - {theta_tilde}')"
      ],
      "metadata": {
        "colab": {
          "base_uri": "https://localhost:8080/"
        },
        "id": "n4i074ZWkb7m",
        "outputId": "655e820d-0d3d-467c-8bf7-6c72af3521e8"
      },
      "execution_count": null,
      "outputs": [
        {
          "output_type": "stream",
          "name": "stdout",
          "text": [
            "ОМП - 5.04\n",
            "НРМД оценка - 5.04\n"
          ]
        }
      ]
    },
    {
      "cell_type": "markdown",
      "source": [
        "#### d)Построить А.Д.И. уровня значимости $\\alpha_1$ для параметра $\\lambda$ на базе ОМП\n",
        "1. Построим на базе ОМП.\n",
        "\n",
        "$\\sqrt{n}\\left( \\widehat{\\theta}(\\overrightarrow{X})-\\theta \\right)\\sim N\\left( 0, \\frac{1}{I(\\theta)} \\right)$\n",
        "\n",
        "ОМП $\\widehat{\\theta}=\\widehat{\\lambda}=\\overline{X}$\n",
        "\n",
        "Информация Фишера: $I(\\theta)=-\\mathbb{E}\\left( \\frac{\\partial^{2} LL}{\\partial \\lambda^{2}} \\right)=-\\mathbb{E}\\left( -\\frac{\\sum_{i=1}^{n}X_{i}}{\\lambda^{2}} \\right)=\\frac{n}{\\lambda^{2}}$\n",
        "\n",
        "$\\sqrt{n\\cdot I\\left(  \\widehat{\\theta}(\\overrightarrow{X})\\right)}\\left( \\widehat{\\theta}(\\overrightarrow{X})-\\theta \\right)\\sim N(0,1)$\n",
        "\n",
        "$X_{\\alpha}$: $\\mathrm{Ф}(X_{\\alpha})=1-\\frac{\\alpha_{1}}{2}=1-\\frac{0.01}{2}=0.995 \\to X_{0.995}=2.575$\n",
        "\n",
        "$А.Д.И. \\left[ \\overline{X}-\\frac{X_{0.995}}{\\sqrt{50\\cdot \\frac{50}{\\overline{X}}}}; \\overline{X}^2+\\frac{X_{0.995}}{\\sqrt{50\\cdot \\frac{50}{\\overline{X}^2}}}\\right] \\to 5.04-\\frac{2.575}{9.92}\\le \\lambda\\le 5.04+\\frac{2.575}{9.92}$\n",
        "\n",
        "$4.78\\le \\lambda\\le 5.3$ - Асимп. довер. интервал параметра $\\lambda$.\n",
        "\n",
        "2. Построим на безе асимтотической нормальной оценки $\\widehat{\\theta}$\n",
        "\n",
        "$\\sqrt{n}\\left( \\widehat{\\theta}(\\overrightarrow{X})-\\theta \\right)\\sim N(0,\\sigma^{2}(\\theta))$\n",
        "\n",
        "$\\sqrt{n}\\frac{ \\widehat{\\theta}(\\overrightarrow{X})-\\theta}{\\sigma(\\widehat{\\theta})}\\sim N(0,1)$\n",
        "\n",
        "$X_{\\alpha}: \\mathrm{Ф(X_{\\alpha})}=0.995\\to X_{0.995}=2.575$\n",
        "\n",
        "$-X_{0.995}\\le \\sqrt{n}\\cdot \\frac{\\widehat{\\lambda}-\\lambda}{\\sqrt{\\widehat{\\lambda}}}\\le X_{0.995}$\n",
        "\n",
        "$5.04-\\frac{2.575\\cdot \\sqrt{5.04}}{\\sqrt{50}}\\le \\lambda\\le 5.04+\\frac{2.575\\cdot \\sqrt{5.04}}{\\sqrt{50}}\\to 4.22\\le \\lambda\\le 5.86$ - А.Д.И. параметра $\\lambda$"
      ],
      "metadata": {
        "id": "60mg2WdVVW9R"
      }
    },
    {
      "cell_type": "markdown",
      "source": [
        "#### e) Используя гистограмму частот, построить критерий значимости $\\mathcal{X^{2}}$ проверки простой гипотезы согласия с распределением Пуассона с параметром $\\lambda_{0}$. Проверить гипотезу на урокень значимости $\\alpha_{1}$. Вычислить наибольшее значение уровня значимости, на котором ещё нет оснований отвергнуть данную гипотезу.\n",
        "\n",
        "$\\lambda_0 = 6\\\\ \\alpha = 0.01$\n",
        "\n",
        "$P_{i}=P_{H_{0}}=(X\\in \\Delta_{i})=\\sum_{k\\in \\Delta_{i}}\\frac{\\lambda_{0}^{k}}{k!}exp(-\\lambda_{0}) = exp(-\\lambda_{0}) \\sum_{k\\in I_{i}} \\frac{\\lambda_{0}^{k}}{k!} $\n",
        "\n",
        "$I_{1}=\\left[ 1,7 \\right], n_{1}=41$\n",
        "\n",
        "$P_{1}=exp(-6)\\left(\\frac{6^{1}}{1!}+\\frac{6^{7}}{7!}\\right)=0.15\\to nP_{1}=7.5$\n",
        "\n",
        "$I_{2}=\\left[ 7,12 \\right], n_{3}=9$\n",
        "\n",
        "$P_{2}=exp(-6)\\left(\\frac{6^{7}}{7!}+\\frac{6^{12}}{12!}\\right)=0.14\\to nP_{2}=7$\n",
        "\n",
        "\n",
        "Критерий $\\mathcal{X}^{2}: \\mathcal{X}^{2}_{набл}=\\sum_{i=1}^{2}\\frac{(n_{i}-np_{i})^{2}}{np_{i}} = \\frac{(41 - 7.5 )^2}{7.5} + \\frac{(9 - 7 )^2}{7} = 150.2$\n",
        "\n",
        "$\\mathcal{X}^{2}_{N-1,1-\\alpha_{1}}=\\mathcal{X}^{2}_{1,0.99}\\simeq 10.828$\n",
        "\n",
        "$\\mathcal{X}^{2}\\gt \\mathcal{X}^{2}_{1,0.99}\\to$ по критерию Пирсона мы отвергаем гипотезу\n",
        "\n",
        "Наибольшее значение уровня значимости, при котором нет еще оснований отвергнуть данную гипотезу $\\simeq$ 0.01"
      ],
      "metadata": {
        "id": "37TmSvp_6aHk"
      }
    },
    {
      "cell_type": "code",
      "source": [
        "# Задаем интервалы\n",
        "bins = np.linspace(min(data), max(data), 3)\n",
        "bins[1] = 7\n",
        "\n",
        "# Получаем гистограмму значений и количество элементов в каждом интервале\n",
        "hist, bin_edges = np.histogram(data, bins)\n",
        "\n",
        "# Выводим результаты\n",
        "print(\"Гистограмма значений:\", hist)\n",
        "print(\"Интервалы:\", bin_edges)"
      ],
      "metadata": {
        "colab": {
          "base_uri": "https://localhost:8080/"
        },
        "id": "H6YR6b6m60gh",
        "outputId": "5287f728-b59b-4777-dcd7-05560fb496d5"
      },
      "execution_count": null,
      "outputs": [
        {
          "output_type": "stream",
          "name": "stdout",
          "text": [
            "Гистограмма значений: [41  9]\n",
            "Интервалы: [ 1.  7. 12.]\n"
          ]
        }
      ]
    },
    {
      "cell_type": "markdown",
      "source": [
        "#### f)Построить критерий значимости  $\\mathcal{X^{2}}$ проверки сложной гипотезы согласия с распределением Пуассона. Проверить гипотезу по уровню значимости $\\alpha_{1}$.Вычислить наибольшее значение уровня значимости, на котором ещё нет оснований отвергнуть данную гипотезу.\n",
        "\n",
        "\n",
        "$P_{i}=P_{H_{0}}=(X\\in I_{i})=\\sum_{k\\in I_{i}}^{}\\frac{\\lambda_{0}^{k}}{k!}exp(-\\lambda_{0})$\n",
        "\n",
        "$I_{1}=\\left[ 1,3 \\right], n_{1}=12$\n",
        "\n",
        "$P_{1}=exp(-5.04)\\left(\\frac{5.04^{1}}{1!}+\\frac{5.04^{3}}{3!}\\right)=0.170\\to nP_{1}=8.53$\n",
        "\n",
        "$I_{2}=\\left[ 4,12 \\right], n_{2}=38$\n",
        "\n",
        "$P_{2}=exp(-5.04)\\left(\\frac{5.04^{4}}{4!}+\\frac{5.04^{12}}{12!}\\right)=0.177\\to nP_{1}=8.883$\n",
        "\n",
        "\n",
        "\n",
        "Критерий $\\mathcal{X}^{2}: \\mathcal{X}^{2}_{набл}=\\sum_{i=1}^{2}\\frac{(n_{i}-np_{i})^{2}}{np_{i}} = 4.68$\n",
        "\n",
        "$\\mathcal{X}^{2}_{N-1,1-\\alpha_{1}}=\\mathcal{X}^{2}_{1,0.99}\\simeq 0.00016$\n",
        "\n",
        "$\\mathcal{X}^{2}\\gt \\mathcal{X}^{2}_{1,0.99}\\to$ по критерию Пирсона мы отвергаем гипотезу\n",
        "\n",
        "Наибольшее значение уровня значимости, при котором нет еще оснований отвергнуть данную гипотезу меньше  0.01"
      ],
      "metadata": {
        "id": "lIwWn63RpR5g"
      }
    },
    {
      "cell_type": "code",
      "source": [
        "import math\n",
        "np.exp(-5.04)*(math.pow(5.04, 4)/math.factorial(4) + math.pow(5.04, 12)/math.factorial(12))*50"
      ],
      "metadata": {
        "colab": {
          "base_uri": "https://localhost:8080/"
        },
        "id": "jwJAfuG3wYKY",
        "outputId": "be29b9b7-0c59-4252-8af5-f4f4fdeaaa58"
      },
      "execution_count": null,
      "outputs": [
        {
          "output_type": "execute_result",
          "data": {
            "text/plain": [
              "8.883886350980996"
            ]
          },
          "metadata": {},
          "execution_count": 5
        }
      ]
    },
    {
      "cell_type": "markdown",
      "source": [
        "#### g)Построить наиболее мощный критерий проверки простой гипотезы пауссоновости с параметром $\\lambda=\\lambda_{0}$ при альтернативе пуассоновсти с параметром $\\lambda=\\lambda_{1}$. Проверить гипотезу на уровне значимости $\\alpha_{1}$. Что получится, если поменять местами основную и альтернативную гипотезы?\n",
        "\n",
        "$H_{0}=\\lambda_{0} = 6$\n",
        "\n",
        "$H_{A}=\\lambda_{1} = 5$\n",
        "\n",
        "\n",
        "$LR(\\overrightarrow{X},\\lambda_{1},\\lambda_{0}) = \\frac{L\\left( \\overrightarrow{X},\\lambda_{1} \\right)}{L\\left( \\overrightarrow{X},\\lambda_{0} \\right)}= \\frac{\\lambda_{1}^{\\sum_{i=1}^{n}X_{i}}\\cdot exp(-n\\cdot \\lambda_{1})}{\\lambda_{0}^{\\sum_{i=1}^{n}X_{i}}\\cdot exp(-n\\cdot \\lambda_{0})} = \\left(\\frac{\\lambda_1}{\\lambda_0}\\right)^n \\exp(-n(\\lambda_1 - \\lambda_0))$\n",
        "\n",
        "В силу монотонности статистики $LR(\\overrightarrow{X})$ относительно МДС $T(\\overrightarrow{X})=\\sum_{i=1}^{n}X_{i}$\n",
        "\n",
        "$LR(\\overrightarrow{X},\\lambda_{1},\\lambda_{0})\\gt c\\Leftrightarrow \\overline{X}\\gt c$\n",
        "\n",
        "$\\sqrt{n}\\frac{\\overline{X}-\\lambda_{0}}{\\sqrt{\\overline{X}}}\\sim N(0,1)$\n",
        "\n",
        "$P\\left(\\sqrt{n}\\frac{\\overline{X}-\\lambda_{0}}{\\sqrt{\\overline{X}}} \\right)\\gt \\sqrt{n}\\frac{\\overline{X}-\\lambda_{0}}{\\sqrt{\\overline{X}}}=1-\\Phi\\left(\\sqrt{n}\\frac{\\overline{X}-\\lambda_{0}}{\\sqrt{\\overline{X}}} \\right)=\\alpha_{1}$\n",
        "\n",
        "$\\Phi\\left(\\sqrt{n}\\frac{\\overline{X}-\\lambda_{0}}{\\sqrt{\\overline{X}}} \\right)=1-\\alpha_{1}=0.99$\n",
        "\n",
        "$\\sqrt{n}\\frac{\\overline{X}-\\lambda_{0}}{\\sqrt{\\overline{X}}}\\gt \\sqrt{n}\\frac{c-\\lambda_{0}}{\\sqrt{\\overline{X}}}=2.575\\to c=6.81\\gt \\overline{X}\\to$ гипотезу отвергаем\n",
        "\n",
        "$H_{0}=\\lambda_{1} = 5$\n",
        "\n",
        "$H_{A}=\\lambda_{0} = 6$\n",
        "\n",
        "$LR(\\overrightarrow{X},\\lambda_{0},\\lambda_{1}) = \\frac{L\\left( \\overrightarrow{X},\\lambda_{0} \\right)}{L\\left( \\overrightarrow{X},\\lambda_{1} \\right)}= \\frac{\\lambda_{0}^{\\sum_{i=1}^{n}X_{i}}\\cdot exp(-n\\cdot \\lambda_{0})}{\\lambda_{1}^{\\sum_{i=1}^{n}X_{i}}\\cdot exp(-n\\cdot \\lambda_{1})} = \\left(\\frac{\\lambda_0}{\\lambda_1}\\right)^n \\exp(-n(\\lambda_0 - \\lambda_1))$\n",
        "\n",
        "В силу монотонности статистики $LR(\\overrightarrow{X})$ относительно МДС $T(\\overrightarrow{X})=\\sum_{i=1}^{n}X_{i}$\n",
        "\n",
        "$LR(\\overrightarrow{X},\\lambda_{0},\\lambda_{1})\\gt c\\Leftrightarrow \\overline{X}\\gt c$\n",
        "\n",
        "$\\sqrt{n}\\frac{\\overline{X}-\\lambda_{1}}{\\sqrt{\\overline{X}}}\\sim N(0,1)$\n",
        "\n",
        "$P\\left(\\sqrt{n}\\frac{\\overline{X}-\\lambda_{1}}{\\sqrt{\\overline{X}}} \\right)\\gt \\sqrt{n}\\frac{\\overline{X}-\\lambda_{1}}{\\sqrt{\\overline{X}}}=1-\\Phi\\left(\\sqrt{n}\\frac{\\overline{X}-\\lambda_{1}}{\\sqrt{\\overline{X}}} \\right)=\\alpha_{1}$\n",
        "\n",
        "$\\Phi\\left(\\sqrt{n}\\frac{\\overline{X}-\\lambda_{1}}{\\sqrt{\\overline{X}}} \\right)=1-\\alpha_{1}=0.99$\n",
        "\n",
        "$\\sqrt{n}\\frac{\\overline{X}-\\lambda_{1}}{\\sqrt{\\overline{X}}}\\gt \\sqrt{n}\\frac{c-\\lambda_{1}}{\\sqrt{\\overline{X}}}=2.575\\to c=5.81\\gt \\overline{X}\\to$ гипотезу отвергаем"
      ],
      "metadata": {
        "id": "d-YPswpAwodF"
      }
    },
    {
      "cell_type": "markdown",
      "source": [
        "#### h)В пунктах (c)-(f) заменить семейство распределение Пуассона на семейство геометрических распредленией $\\mathbb{P}_{\\lambda}(X=k)=\\frac{\\lambda^{k}}{(\\lambda+1)^{k+1}}, k\\in \\mathbb{Z_{+}}$"
      ],
      "metadata": {
        "id": "0P6en7S8xX7U"
      }
    },
    {
      "cell_type": "markdown",
      "source": [
        "#### h.c)В предположении, что исходные наблюдения являются выборкой из геометрического распределения, построить ОМП и ОММ параметра $\\lambda$.Найти смещение оценки.\n",
        "\n",
        "\n",
        "$P_{\\lambda}(X=k)=\\frac{\\lambda^{k}}{(\\lambda+1)^{k+1}}$\n",
        "\n",
        "ОМП: \\\\\n",
        "$L(\\overrightarrow{X};\\theta)=\\prod_{i=1}^{n}P_{\\lambda}(X_{i})=\\prod_{i=1}^{n}\\frac{\\lambda^{X_{i}}}{(\\lambda+1)^{X_{i}}}=\\frac{\\lambda^{\\sum_{i=1}^{n}X_{i}}}{(\\lambda+1)^{\\sum_{i=1}^{n}X_{i}+n}}$\n",
        "\n",
        "$LL(\\overrightarrow{X};\\theta)= \\sum_{i=1}^{n}X_{i}\\cdot \\ln(\\lambda)-(\\sum_{i=1}^{n}X_{i}+n)\\ln(\\lambda+1)$\n",
        "\n",
        "$\\frac{\\partial LL(\\overrightarrow{X};\\theta)}{\\partial \\lambda} = \\frac{\\sum_{i=1}^{n}X_{i}}{\\lambda}-\\frac{\\sum_{i=1}^{50}X_{i}+n}{\\lambda+1}=0\\to \\frac{\\lambda}{\\sum_{i=1}^{50}X_{i}}=\\frac{\\lambda+1}{\\sum_{i=1}^{50}X_{i}+n}\\to \\lambda\\cdot \\sum_{i=1}^{n}X_{i}+\\lambda \\cdot n = \\lambda\\cdot \\sum_{i=1}^{n}X_{i}+\\sum_{i=1}^{n}X_{i}\\to \\lambda=\\overline{X}\\to \\widehat{\\theta}=\\widehat{\\lambda}=\\overline{X}=5.04 $.\n",
        "\n",
        "\n",
        "\n",
        "ОММ: \\\\\n",
        "$\n",
        "\\begin{aligned}\n",
        "& \\hat{\\theta}=\\hat{\\lambda}= \\bar{X}\\\\\n",
        "& \\mathbb{E} X_1=\\frac{1}{\\lambda} \\quad M_1={\\bar{X}} \\\\\n",
        "& \\frac{1}{\\lambda} \\approx {\\bar{X}} \\quad \\tilde\\lambda=\\bar{X} \\rightarrow \\tilde\\theta =  \\tilde{\\lambda}=\\frac{1}{\\bar{X}} = 0.198 \\\\\n",
        "&\n",
        "\\end{aligned}\n",
        "$\n",
        "\n",
        "НРМД:\n",
        "\n",
        "$L(\\overrightarrow{X};\\theta)=\\prod_{i=1}^{n}P_{\\lambda}(X_{i})=\\prod_{i=1}^{n}\\frac{\\lambda^{X_{i}}}{(\\lambda+1)^{X_{i}}}=\\frac{\\lambda^{\\sum_{i=1}^{n}X_{i}}}{(\\lambda+1)^{\\sum_{i=1}^{n}X_{i}+n}}$\n",
        "\n",
        "$g\\left(T(\\overrightarrow{X})\\right)=\\frac{\\lambda^{\\sum_{i=1}^{n}X_{i}}}{(\\lambda+1)^{\\sum_{i=1}^{n}X_{i}+n}}$\n",
        "\n",
        "$h(\\overrightarrow{X})=1$\n",
        "\n",
        " $T=\\sum_{i=1}^{n}X_{i}=257 - МДС$.\n",
        "  Геометрическое распределение принадлежит exp семейству распределения, МДС будет являться ПДС \\\\\n",
        "\n",
        "$\\mathbb{E}_{\\lambda}\\widehat{\\lambda}=\\mathbb{E}_{\\lambda}\\overline{X}=\\mathbb{E}_{\\lambda}\\frac{1}{n}\\cdot \\sum_{i=1}^{n}x_{i}=\\frac{1}{n}\\cdot \\mathbb{E_{\\lambda}}\\sum_{i=1}^{n}x_{i}=\\frac{1}{n}\\cdot \\sum_{i=1}^{n}\\mathbb{E_{\\lambda}}X_{1}=\\frac{1}{n}\\cdot n\\cdot \\mathbb{E}_{\\lambda}X_{1}=\\lambda=5.04$-НРМД-оценка"
      ],
      "metadata": {
        "id": "t73NUdOJxzun"
      }
    },
    {
      "cell_type": "markdown",
      "source": [
        "#### h.d)Построить А.Д.И. уровня значимости $\\alpha_1$ для параметра $\\lambda$ на базе ОМП\n",
        "1. Построим на базе ОМП.\n",
        "\n",
        "$\\sqrt{n}\\left( \\widehat{\\theta}(\\overrightarrow{X})-\\theta \\right)\\sim N\\left( 0, \\frac{1}{I(\\theta)} \\right)$\n",
        "\n",
        "ОМП $\\widehat{\\theta}=\\widehat{\\lambda}=\\frac{1}{\\overline{X}}$\n",
        "\n",
        "Найдем информацию Фишера: $I(\\theta)=-\\mathbb{E}\\left( \\frac{\\partial^{2} LL}{\\partial \\lambda^{2}} \\right)=-\\mathbb{E}\\left( -\\frac{\\sum_{i=1}^{n}X_{i}}{\\lambda^{2}}+\\frac{\\sum_{i=1}^{n}X_{i}+n}{(\\lambda +1)^{2}} \\right)=\\frac{n}{\\lambda^{2}}-\\mathbb{E}\\left( \\frac{\\sum_{i=1}^{n}X_{i}+n}{(\\lambda+1)^{2}} \\right) = \\frac{n}{\\lambda^{2}}-\\mathbb{E}\\left( \\frac{\\sum_{i=1}^{n}X_{i}}{(\\lambda+1)^{2}} \\right)-\\mathbb{E}\\left( \\frac{n}{(\\lambda+1)^{2}} \\right)=\\frac{n}{\\lambda^{2}}-\\frac{n}{(\\lambda+1)^{2}}-\\frac{n}{(\\lambda+1)^{2}}=\\frac{n(\\lambda^{2}+1)}{(\\lambda+1)^{2}\\cdot \\lambda^{2}}$\n",
        "\n",
        "Тогда $\\sqrt{n\\cdot I\\left(  \\widehat{\\theta}(\\overrightarrow{X})\\right)}\\left( \\widehat{\\theta}(\\overrightarrow{X})-\\theta \\right)\\sim N(0,1)$\n",
        "\n",
        "Выбираем $X_{\\alpha}$: $\\mathrm{Ф}(X_{\\alpha})=1-\\frac{\\alpha_{1}}{2}=1-\\frac{0.01}{2}=0.995 \\to X_{0.995}=2.575$\n",
        "\n",
        "$А.Д.И. \\left[ \\frac{1}{\\overline{X}}-\\frac{X_{0.995}}{\\sqrt{n\\cdot \\frac{n(\\widehat{\\lambda^{2}}+1)}{(\\widehat{\\lambda}+1)^{2}\\cdot \\widehat{\\lambda^{2}}}}};\\frac{1}{\\overline{X}}+\\frac{X_{0.995}}{\\sqrt{n\\cdot \\frac{n(\\widehat{\\lambda^{2}}+1)}{(\\widehat{\\lambda}+1)^{2}\\cdot \\widehat{\\lambda^{2}}}}} \\right]\\to 0.186\\le \\lambda\\le 0.21$\n",
        "\n",
        "$0.186\\le \\lambda\\le 0.21$ - АДИ параметра $\\lambda$.\n",
        "\n",
        "2. Построим на безе асимтотической нормальной оценки $\\widehat{\\theta}$\n",
        "\n",
        "$\\sqrt{n}\\left( \\widehat{\\theta}(\\overrightarrow{X})-\\theta \\right)\\sim N(0,\\sigma^{2}(\\theta))$\n",
        "\n",
        "$\\sqrt{n}\\frac{ \\widehat{\\theta}(\\overrightarrow{X})-\\theta}{\\sigma(\\widehat{\\theta})}\\sim N(0,1)$\n",
        "\n",
        "$X_{\\alpha}: \\mathrm{Ф(X_{\\alpha})}=0.995\\to X_{0.995}=2.575$\n",
        "\n",
        "$-X_{0.995}\\le \\sqrt{n}\\cdot \\frac{\\widehat{\\lambda}-\\lambda}{\\sqrt{\\widehat{\\lambda}(\\widehat{\\lambda}+1)}}\\le X_{0.995}$\n",
        "\n",
        "$0.198-\\frac{2.575\\cdot 0.487}{\\sqrt{50}}\\le \\lambda\\le 0.198+\\frac{2.575\\cdot 0.487}{\\sqrt{50}}\\to 0.020\\le \\lambda\\le 0.375$ - АДИ параметра $\\lambda$"
      ],
      "metadata": {
        "id": "9lYByqaLk0a_"
      }
    },
    {
      "cell_type": "markdown",
      "source": [
        "$\\lambda_0 = 6 \\\\ \\alpha = 0.01$\n",
        "\n",
        "$P_{i}=P_{H_{0}}=(X\\in \\Delta_{i})=\\sum_{k\\in \\Delta_{i}}^{}\\frac{\\lambda_{0}^{k}}{(\\lambda_{0}+1)^{k+1}} $\n",
        "\n",
        "$\\Delta_{1}=\\left[ 1,7 \\right], n_{1}=41$\n",
        "\n",
        "$P_{1}=\\frac{6^{1}}{(6+1)^{1+1}}+\\frac{6^{7}}{(6+1)^{7+1}}=0.17\\to nP_{1}=8.5$\n",
        "\n",
        "$\\Delta_{2}=\\left[ 7,12 \\right], n_{3}=9$\n",
        "\n",
        "$P_{2}=\\frac{6^{7}}{(4+1)^{7+1}}+\\frac{6^{12}}{(6+1)^{12+1}}=0.07 \\to nP_{2}=3.5$\n",
        "\n",
        "\n",
        "Критерий $\\mathcal{X}^{2}: \\mathcal{X}^{2}_{набл}=\\sum_{i=1}^{2}\\frac{(n_{i}-np_{i})^{2}}{np_{i}} = \\frac{(41 - 8.5 )^2}{ 8.5} + \\frac{(9 - 3.5)^2}{3.5} = 132.90$\n",
        "\n",
        "$\\mathcal{X}^{2}_{N-1,1-\\alpha_{1}}=\\mathcal{X}^{2}_{1,0.99}\\simeq 10.828$\n",
        "\n",
        "$\\mathcal{X}^{2}\\gt \\mathcal{X}^{2}_{1,0.99}\\to$ по критерию Пирсона мы отвергаем гипотезу\n",
        "\n",
        "Наибольшее значение уровня значимости, при котором нет еще оснований отвергнуть данную гипотезу $\\simeq$ 0.01"
      ],
      "metadata": {
        "id": "bLvoP87Q-oCW"
      }
    },
    {
      "cell_type": "markdown",
      "source": [
        "#### h.f)Построить критерий значимости  $\\mathcal{X^{2}}$ проверки сложной гипотезы согласия с геометрическим распределением. Проверить гипотезу по уровню значимости $\\alpha_{1}$.Вычислить наибольшее значение уровня значимости, на котором ещё нет оснований отвергнуть данную гипотезу.\n",
        "\n",
        "$P_{i}=P_{H_{0}}=(X\\in I_{i})=\\sum_{k\\in I_{i}}^{}\\frac{\\frac{1}{\\overline{X}^{k}}}{\\left( \\frac{1}{\\overline{X}} +1\\right)^{k+1}}$\n",
        "\n",
        "$I_{1}=\\left[ 1,3 \\right], n_{1}=12$\n",
        "\n",
        "$P_{1}=\\frac{0.198^{1}}{(0.198+1)^{1+1}}+\\frac{0.198^{3}}{(0.198+1)^{3+1}}=0.141\\to nP_{1}=7.086$\n",
        "\n",
        "$I_{2}=\\left[ 4,12 \\right], n_{2}=38$\n",
        "\n",
        "$P_{2}=\\frac{0.198^{4}}{(0.198+1)^{4+1}}+\\frac{0.198^{12}}{(0.198+1)^{12+1}}=0.0006\\to nP_{1}=0.031$\n",
        "\n",
        "\n",
        "\n",
        "Критерий $\\mathcal{X}^{2}: \\mathcal{X}^{2}_{набл}=\\sum_{i=1}^{2}\\frac{(n_{i}-np_{i})^{2}}{np_{i}} =4650,10$\n",
        "\n",
        "$\\mathcal{X}^{2}_{N-1,\\alpha_{1}}=\\mathcal{X}^{2}_{1,0.01}\\simeq 6.63490$\n",
        "\n",
        "$\\mathcal{X}^{2}\\gt \\mathcal{X}^{2}_{1,0.01}\\to$ по критерию Пирсона мы отвергаем гипотезу\n",
        "\n",
        "Наибольшее значение уровня значимости, при котором нет еще оснований отвергнуть данную гипотезу $\\simeq$ 0.01"
      ],
      "metadata": {
        "id": "e3WPyKm87cyv"
      }
    },
    {
      "cell_type": "markdown",
      "source": [
        "### 2. В результате эксперемента получены данные, приведенные в таблице 2\n",
        "\n",
        "$\\alpha_2 = 0.05; \\quad c = -2.00; \\quad d = 2.00; \\quad h = 2.00; \\alpha0 = 1.00; σ0 = 5.00; a1 =-4.00; \\sigma_1 = 5$\n",
        "Таблица 2.  \n",
        "−1.09 −0.42 −2.41 −2.97 4.58 −5.24 −6.80 5.19 7.31 −4.24 7.27 −0.35 −2.67 7.46 4.51 −2.14 3.13 −3.64 7.12 2.70 −1.59\n",
        "−3.49 3.15 1.89 1.57 9.22 −1.14 −5.18 −1.69 5.02 5.40 −5.92 8.47 −4.24 1.07 4.95 −2.34 −1.53 5.56 −10.56 −4.45 4.56\n",
        "−0.32 7.12 −4.11 −2.19 −0.18 11.15 11.49 1.30\n",
        "a) Построить вариационный ряд, эмпирическую функцию распределения, гистограмму и полигон частот с шагом һ."
      ],
      "metadata": {
        "id": "rWLGyH55xW3n"
      }
    },
    {
      "cell_type": "code",
      "source": [
        "import numpy as np\n",
        "import matplotlib.pyplot as plt\n",
        "from collections import Counter\n",
        "\n",
        "# Исходные данные\n",
        "data = '-1.09 -0.42 -2.41 -2.97 4.58 -5.24 -6.80 5.19 7.31 -4.24 7.27 -0.35 -2.67 7.46 4.51 -2.14 3.13 -3.64 7.12 2.70 -1.59 -3.49 3.15 1.89 1.57 9.22 -1.14 -5.18 -1.69 5.02 5.40 -5.92 8.47 -4.24 1.07 4.95 -2.34 -1.53 5.56 -10.56 -4.45 4.56 -0.32 7.12 -4.11 -2.19 -0.18 11.15 11.49 1.30'\n",
        "data = list(map(float, data.split()))\n",
        "\n",
        "# Количество наблюдений\n",
        "n = len(data)\n",
        "\n",
        "# Вариационный ряд\n",
        "variation_series = sorted(data)\n",
        "print('Вариационный ряд:', variation_series)\n",
        "# Эмпирическая функция распределения\n",
        "def empirical_cdf(x):\n",
        "    count = 0\n",
        "    for value in variation_series:\n",
        "        if value <= x:\n",
        "            count += 1\n",
        "    return count / n\n",
        "\n",
        "plt.figure(figsize=(12, 7))\n",
        "\n",
        "# Полигон частот\n",
        "h = 2\n",
        "# Разделение данных на интервалы\n",
        "bins = np.arange(min(data), max(data) + h, h)\n",
        "plt.subplot(2, 2, 2)\n",
        "hist, _ = np.histogram(data, bins=bins)\n",
        "bin_centers = 0.5 * (bins[1:] + bins[:-1])\n",
        "plt.plot(bin_centers, hist, marker='o')\n",
        "plt.xlabel('Значение')\n",
        "plt.ylabel('Частота')\n",
        "plt.title('Полигон частот с шагом 2')\n",
        "plt.grid(True)\n",
        "\n",
        "# Гистограмма\n",
        "\n",
        "plt.subplot(2, 2, 1)\n",
        "plt.hist(variation_series, bins=bins, alpha=0.7, color='skyblue', edgecolor='black')\n",
        "plt.xlabel('Значение')\n",
        "plt.ylabel('Частота')\n",
        "plt.title('Гистограмма')\n",
        "plt.grid(True)\n",
        "plt.show\n",
        "\n",
        "# Построение эмпирической функции распределения\n",
        "x_values_cdf = np.linspace(min(variation_series), max(variation_series), 100)\n",
        "y_values_cdf = [empirical_cdf(x) for x in x_values_cdf]\n",
        "plt.subplot(2, 2, 3)\n",
        "plt.plot(x_values_cdf, y_values_cdf, label='Эмпирическая функция распределения')\n",
        "plt.xlabel('Значение')\n",
        "plt.ylabel('Вероятность')\n",
        "plt.title('Эмпирическая функция распределения')\n",
        "plt.grid(True)\n",
        "\n",
        "plt.subplot(2, 2, 4)\n",
        "plt.plot(bin_centers, hist, marker='o')\n",
        "plt.hist(variation_series, bins=bins, alpha=0.7, color='skyblue', edgecolor='black',  density=True)\n",
        "plt.xlabel('Значение')\n",
        "plt.ylabel('Частота')\n",
        "plt.title('Гистограмма и полигон частот')\n",
        "plt.grid(True)\n",
        "\n",
        "plt.tight_layout()\n",
        "plt.show()"
      ],
      "metadata": {
        "colab": {
          "base_uri": "https://localhost:8080/",
          "height": 744
        },
        "id": "06lez9IwxBlR",
        "outputId": "0280ec5b-259f-44fc-ede6-9c4efe30519d"
      },
      "execution_count": null,
      "outputs": [
        {
          "output_type": "stream",
          "name": "stdout",
          "text": [
            "Вариационный ряд: [-10.56, -6.8, -5.92, -5.24, -5.18, -4.45, -4.24, -4.24, -4.11, -3.64, -3.49, -2.97, -2.67, -2.41, -2.34, -2.19, -2.14, -1.69, -1.59, -1.53, -1.14, -1.09, -0.42, -0.35, -0.32, -0.18, 1.07, 1.3, 1.57, 1.89, 2.7, 3.13, 3.15, 4.51, 4.56, 4.58, 4.95, 5.02, 5.19, 5.4, 5.56, 7.12, 7.12, 7.27, 7.31, 7.46, 8.47, 9.22, 11.15, 11.49]\n"
          ]
        },
        {
          "output_type": "display_data",
          "data": {
            "text/plain": [
              "<Figure size 1200x700 with 4 Axes>"
            ],
            "image/png": "[encoded data removed]"
          },
          "metadata": {}
        }
      ]
    },
    {
      "cell_type": "markdown",
      "source": [
        "#### b) Вычислить выборочные аналоги следующих числовых характеристик: (i)математическое ожидание, (ii)дисперсия, (iii)медианы, (iv)асимметрии, (v)эксцесса (vi) вероятности $\\mathrm{P}(X\\in \\left[ a,b \\right])$"
      ],
      "metadata": {
        "id": "mVsekA6l_gwr"
      }
    },
    {
      "cell_type": "code",
      "source": [
        "from scipy import stats\n",
        "\n",
        "mean = np.round(np.mean(data), 3)\n",
        "var = np.round(np.var(data), 3)\n",
        "std = np.round(np.std(data), 3)\n",
        "median = np.round(np.median(data), 3)\n",
        "skew = np.round(stats.skew(data), 3)\n",
        "kurt = np.round(stats.kurtosis(data), 3)\n",
        "\n",
        "\n",
        "c = -2.00\n",
        "d= 2.00\n",
        "P = len([x for x in data if c<=x<=d])/len(data)\n",
        "print(f'Математическое ожидание - {mean}\\nДисперсия - {var}\\nСКО - {std}\\nМедиана - {median}\\nКоэффициент асимметрии - {skew}\\nКоэффициент эксцесса - {kurt}\\nВеротяность - {P}')"
      ],
      "metadata": {
        "colab": {
          "base_uri": "https://localhost:8080/"
        },
        "id": "zhTT6Yiq_xjQ",
        "outputId": "25180e93-73fe-4cea-a78e-6956871b2fcb"
      },
      "execution_count": null,
      "outputs": [
        {
          "output_type": "stream",
          "name": "stdout",
          "text": [
            "Математическое ожидание - 1.006\n",
            "Дисперсия - 25.059\n",
            "СКО - 5.006\n",
            "Медиана - -0.25\n",
            "Коэффициент асимметрии - 0.156\n",
            "Коэффициент эксцесса - -0.705\n",
            "Веротяность - 0.26\n"
          ]
        }
      ]
    },
    {
      "cell_type": "markdown",
      "source": [
        "#### c)В предположении, что исходные наблюдения являются выборкой из нормального распределения, построить ОМП и ОММ параметра $(a,\\sigma^{2})$.Найти смещение оценкок.\n",
        "\n",
        "\n",
        "\n",
        "\n",
        "$$\n",
        "\\begin{aligned}\n",
        "& P_\\theta(x)=\\frac{1}{\\sqrt{2 \\pi \\sigma}} \\exp \\left(-\\frac{(x-a)^2}{2 \\sigma^2}\\right) \\\\\n",
        "& L(\\vec{X}, \\theta)= \\prod_{i=1}^n \\frac{1}{\\sqrt{2 \\pi \\sigma^2}} \\exp \\left(-\\frac{(x-a)^2}{2 \\sigma^2}\\right)=(2 \\pi)^{-\\frac{n}{2}} \\sigma^{-n} \\exp \\left(-\\frac{1}{2 \\sigma^2} \\sum_{i=1}^n\\left(x_i-a\\right)^2\\right) \\\\\n",
        "& L L(\\vec{X}, \\theta)=-\\frac{n}{2} \\ln (2 \\pi)-n \\ln (\\sigma)-\\frac{1}{2 \\sigma^2} \\sum_{i=1}^n\\left(x_i-a\\right)^2 \\\\\n",
        "& \\frac{\\partial L L}{\\partial a}=- \\frac{1}{\\sigma^2}\\left(\\sum_{i=1}^n x_i-n a\\right)=0 \\\\\n",
        "& \\sum_{i=1}^n x_i-n a=0 \\\\\n",
        "& na=\\sum_{i=1}^n x_i \\Rightarrow \\hat{\\theta}=\\hat{a}=\\bar{X}=1.006 \\\\\n",
        "& \\frac{\\partial L L}{\\partial \\sigma}=-\\frac{n}{\\sigma}+\\frac{1}{\\sigma^3} \\sum_{i=1}^n\\left(x_i-a\\right)^2=0 \\\\\n",
        "& \\sigma^2=\\frac{1}{n} \\sum_{i=1}^n\\left(x_i-a\\right)^2 \\\\\n",
        "& \\hat{\\theta}= \\widehat{\\sigma}^2=S^2=5.056\n",
        "\\end{aligned}\n",
        "$$\n",
        "\n",
        "$\\hat{\\theta}=\\left(\\hat{a}, \\widehat{\\sigma^2}\\right)=\\left(\\bar{X}, S^2\\right)=( 1.006,5.056)$\n",
        "\n",
        "ОММ: \\\\\n",
        "$$\n",
        "\\begin{aligned}\n",
        "& \\mathbb{E} X_1=a \\quad M_1=\\bar{X} \\\\\n",
        "& \\mathbb{E} X_2=a^2+\\sigma^2 \\quad M_2=\\frac{1}{n} \\sum_{i=1}^n x_i^2=\\overline{x^2} \\\\\n",
        "& D X_1=\\sigma^2=\\mathbb{E} X_1^2-\\left(\\mathbb{E} X_1^2\\right) \\\\\n",
        "& \\left\\{\\begin{array} { l }\n",
        "{ \\mathbb { E } X _ { 1 } = M _ { 1 } } \\\\\n",
        "{ \\mathbb { E } X _ { 1 } ^ { 2 } = M _ { 2 } }\n",
        "\\end{array} \\Rightarrow \\left\\{\\begin{array}{l}\n",
        "a=\\bar{X} \\\\\n",
        "a^2+\\sigma^2=\\bar{x}^2\n",
        "\\end{array} \\quad \\Rightarrow \\quad \\tilde{a}=\\bar{X}\\right.\\right. \\\\\n",
        "& \\tilde{\\theta}=\\left(\\tilde{a}, \\tilde{\\sigma}^2\\right)=\\left(\\overline{X^2},S^2\\right)=(1.006, 5.056).\n",
        "\\end{aligned}\n",
        "$$\n",
        "Находим смещение каждой оценки\n",
        "$$\n",
        "\\mathbb{E}_\\theta \\bar{X}=\\mathbb{E}_\\theta\\left(\\frac{1}{n} \\sum_{i=1}^n x_i\\right)=\\frac{1}{n} \\sum_{i=1}^n \\mathbb{E}_\\theta x_1=a=1.006\n",
        "$$\n",
        "Выборочное среднее несмещенная оценка, $\\hat{a}=\\overline{X}$ - НРМД оценка\n",
        "\n",
        "\n",
        "$T=(\\sum_{i=1}^nx_i,\\sum_{i=1}^nx_i^2)$ - МДС и ПДС, так как нормальное распределение относится к экспоненциальному семейству.\n",
        "\\begin{aligned}\n",
        "& \\mathbb{E}_\\theta S^2=\\mathbb{E}\\left(\\frac{1}{n} \\sum_{i=1}^n\\left(x_i-\\bar{x}\\right)^2\\right)=\\left[\\begin{array}{ll}\n",
        "Y_i=X_i-\\mathbb{E}_{x_i} ; & \\mathbb{E}_\\theta Y_i=0 \\\\\n",
        "\\mathbb{D}_\\theta Y_i=\\sigma^2\n",
        "\\end{array}\\right]= \\\\\n",
        "& =\\mathbb{E}_\\theta\\left(\\bar{Y}^2-(\\bar{Y})^2\\right)=\\mathbb{E}_\\theta \\bar{Y}^2-\\mathbb{E}_\\theta\\left(\\overline{Y^2}\\right) \\\\\n",
        "& \\mathbb{E}_\\theta \\overline{Y^2}=\\mathbb{E}_\\theta\\left(\\frac{1}{n} \\sum_{i=1}^n Y_i^2\\right)=\\frac{1}{n} \\sum \\mathbb{E}_i^2=\\frac{1}{n} \\sum_{i=1}^n \\sigma^2=\\sigma^2 \\\\\n",
        "& \\mathbb{E}_\\theta(\\bar{Y})^2=\\mathbb{E}_\\theta\\left(\\frac{1}{n} \\sum_{i=1}^n Y_i\\right)^2=\\frac{1}{n^2} \\mathbb{E}_\\theta\\left(\\sum_{i=1}^n \\sum_{j=1}^n Y_i Y_j\\right)=\\frac{1}{n^2} \\sum_{i=1}^n \\sum_{j=1}^n \\mathbb{E}_\\theta Y_i Y_j \\\\\n",
        "& \\mathbb{E}_\\theta Y_i Y_i=\\left\\{\\begin{array}{l}\n",
        "i=j ; \\quad \\mathbb{E}_\\theta Y_i^2=\\sigma^2 \\\\\n",
        "i \\neq j ; \\quad \\mathbb{E}_\\theta Y_i \\mathbb{E}_\\theta Y_i=0\n",
        "\\end{array}\\right.\n",
        "\\end{aligned}\n",
        "$\n",
        "\\frac{1}{n^2}\\left(n \\sigma^2\\right)=\\frac{\\sigma^2}{n}=\\mathbb{E}_\\theta(\\bar{Y})^2$ смещенная оценка\n",
        "\n",
        "$\\mathbb{E}_\\theta S^2=\\sigma^2-\\frac{\\sigma^2}{n}=\\frac{(n-1)}{n} \\sigma^2$ смещенная оценка\n",
        "$$\n",
        "\\left(S^{\\prime 2}\\right)=\\frac{n}{n-1} S^2 ; \\quad \\mathbb{E}_\\theta\\left(S^{\\prime}\\right)^2=\\mathbb{E}_0\\left(\\frac{n}{n-1} S^2\\right)=\\frac{n}{n-1} \\sigma^2=\\sigma^2\n",
        "$$\n",
        "$\\mathbb{E}_\\Theta(S^2)-\\sigma^2=\\cfrac{(n-1)\\sigma^2}{n}-\\sigma^2=-\\cfrac{\\sigma^2}{n}$\n",
        "\n",
        "$\\hat{\\theta}=\\left(\\bar{X},\\frac{1}{n-1} S^2\\right)=( 1.006, -0.10)$"
      ],
      "metadata": {
        "id": "MTxQJamxCWbs"
      }
    },
    {
      "cell_type": "markdown",
      "source": [
        "#### d)Построить доверительные интервалы уровня значимости $\\alpha_2$ для параметров $(a,\\sigma^{2})$.\n",
        "1. Для параметра $a$:\n",
        "\n",
        "$G(\\overrightarrow{X},a)=\\sqrt{n-1}\\frac{\\overline{X}-a}{S} \\sim S_{n-1}$\n",
        "\n",
        "$\\mathbb{P}_{\\theta}\\left(\\sqrt{n-1}\\frac{\\overline{X}-a}{S} \\in [x_{1\\alpha},x_{2\\alpha}]\\right)=1-\\alpha=S_{n-1}(x_{2\\alpha})-S_{n-1}(x_{1\\alpha})=S_{n-1}(x_{\\alpha})-(1-S_{n-1}(x_{\\alpha}))=2S_{n-1}(x_{\\alpha})-1=1-\\alpha$\n",
        "\n",
        "$x_{\\alpha}: S_{n-1}(x_{\\alpha})=1-\\frac{\\alpha}{2}$\n",
        "\n",
        "$\\mathbb{P}_{\\theta}\\left(-x_{\\alpha} \\leq \\sqrt{n-1}\\frac{\\overline{X}-a}{S} \\leq x_{\\alpha}\\right)=1-\\alpha$\n",
        "\n",
        "$\\mathbb{P}_{\\theta}\\left(\\overline{X}-\\frac{x_{\\alpha}S}{\\sqrt{n-1}} \\leq a \\leq \\overline{X}+\\frac{x_{\\alpha}S}{\\sqrt{n-1}}\\right)$\n",
        "\n",
        "$\\left[\\overline{X}-\\frac{x_{\\alpha}S}{\\sqrt{n-1}}; \\overline{X}+\\frac{x_{\\alpha}S}{\\sqrt{n-1}}\\right] \\ni a$\n",
        "\n",
        "Подставим значения:\n",
        "\n",
        "$\\left[1.006-\\frac{2.00}{\\sqrt{49}}; 1.006+\\frac{2.00}{\\sqrt{49}}\\right] \\implies [0,72;1.29] \\ni a$\n",
        "\n",
        "2. Теперь для параметра $\\sigma^{2}$:\n",
        "\n",
        "$G(\\overrightarrow{X},\\sigma^{2})=\\frac{nS^{2}}{\\sigma^{2}} \\sim \\chi_{n-1}^{2}$\n",
        "\n",
        "$\\mathbb{P}_{\\theta}\\left(\\frac{nS^{2}}{\\sigma^{2}} \\in [x_{1\\alpha},x_{2\\alpha}]\\right)=1-\\alpha=K_{n-1}(x_{2\\alpha})-K_{n-1}(x_{1\\alpha})=1-\\frac{\\alpha}{2}-\\frac{\\alpha}{2}=1-\\alpha$\n",
        "\n",
        "$\\begin{equation*} \\begin{cases}\n",
        "x_{1\\alpha}: K_{n-1}(x_{1\\alpha})=\\frac{\\alpha}{2} \\\\\n",
        "x_{2\\alpha}: K_{n-1}(x_{2\\alpha})=1-\\frac{\\alpha}{2}\n",
        "\\end{cases} \\end{equation*}$\n",
        "\n",
        "$\\mathbb{P}_{\\theta}\\left(x_{1\\alpha} \\leq \\frac{nS^{2}}{\\sigma^{2}} \\leq x_{2\\alpha}\\right)=1-\\alpha$\n",
        "\n",
        "$\\mathbb{P}_{\\theta}\\left(\\frac{nS^{2}}{x_{2\\alpha}} \\leq \\sigma^{2} \\leq \\frac{nS^{2}}{x_{1\\alpha}}\\right)$\n",
        "\n",
        "$\\left[\\frac{nS^{2}}{x_{2\\alpha}}; \\frac{nS^{2}}{x_{1\\alpha}}\\right] \\ni \\sigma^{2}$\n",
        "\n",
        "Подставим значения\n",
        "\n",
        "$\\left[\\frac{50\\cdot5.056}{66.33};\\frac{50\\cdot5.056}{33.92}\\right] \\implies [3.81;7.45] \\ni \\sigma^{2}$\n"
      ],
      "metadata": {
        "id": "Ol8G80dRaFkm"
      }
    },
    {
      "cell_type": "markdown",
      "source": [],
      "metadata": {
        "id": "wZHA1XC6KNie"
      }
    },
    {
      "cell_type": "markdown",
      "source": [
        "#### e)С использованием теоремы Колмогорова построить критерий значимости проверки простой гипотезы согласия с нормальным распределением с параметрами $(a_{0},\\sigma_{0}^{2})$. Проверить гипотезу на уровне значимости $\\alpha_{2}$. Вычислить наибольшее значение уровня значимости, на котором еще нет оснований отвергнуть данную гипотезу."
      ],
      "metadata": {
        "id": "tycG004HUo7O"
      }
    },
    {
      "cell_type": "code",
      "source": [
        "import numpy as np\n",
        "from scipy.stats import kstest, norm\n",
        "\n",
        "\n",
        "a0 = 1.006\n",
        "sigma0 = 5.056\n",
        "\n",
        "\n",
        "ks_statistic, ks_p_value = kstest(data, 'norm', args=(a0, sigma0))\n",
        "\n",
        "alpha_2 = 0.05\n",
        "\n",
        "# Проверка гипотезы на уровне значимости alpha_2\n",
        "if ks_p_value < alpha_2:\n",
        "    print(\"Отвергаем нулевую гипотезу\")\n",
        "else:\n",
        "    print(\"Принимаем нулевую гипотезу\")\n",
        "\n",
        "# Нахождение наибольшего уровня значимости, на котором гипотеза принимается\n",
        "max_alpha_accept = 1.0\n",
        "while ks_p_value >= alpha_2:\n",
        "    max_alpha_accept = alpha_2\n",
        "    alpha_2 += 0.01\n",
        "    ks_statistic, ks_p_value = kstest(data, 'norm', args=(a0, sigma0))\n",
        "\n",
        "print(f\"Наибольший уровень значимости, на котором еще нет оснований отвергнуть гипотезу: {max_alpha_accept}\")\n"
      ],
      "metadata": {
        "colab": {
          "base_uri": "https://localhost:8080/"
        },
        "id": "uZVzcLqGUsaD",
        "outputId": "05effa0c-fe25-47c9-bb8a-ef5914b93c56"
      },
      "execution_count": null,
      "outputs": [
        {
          "output_type": "stream",
          "name": "stdout",
          "text": [
            "Принимаем нулевую гипотезу\n",
            "Наибольший уровень значимости, на котором еще нет оснований отвергнуть гипотезу: 0.5100000000000002\n"
          ]
        }
      ]
    },
    {
      "cell_type": "markdown",
      "source": [
        "#### f)Используя гистограмму частот, построить критерий значимости $\\mathcal{X^{2}}$ проверки простой гипотезы согласия с нормальным распределением с параметрами $(a_{0},\\sigma_{0}^{2})$. Проверить гипотезу на уровне значимости $\\alpha_{2}$. Вычислить наибольшее значение уровня значимости, на котором ещё нет оснований отвергнуть данную гипотезу.\n",
        "\n",
        "$P_{i}=P_{H_{0}}=(X\\in I_{i})=\\sum_{k\\in I_{i}}\\frac{1}{\\sqrt{2\\pi}\\sigma}\\cdot exp\\left(-\\frac{(x-a)^{2}}{2\\sigma^{2}}\\right)$\n",
        "\n",
        "$a_0=1.00 \\:\\sigma_0=5.00\\:\\alpha_2=0.05$  \n",
        "$I_{1}=\\left(-10.56, -0.18 \\right], n_{1}=26$  \n",
        "$P_{1}=\\frac{1}{\\sqrt{2\\pi}}exp\\Biggl(-\\frac{(-10.56-1)^2}{50}\\Biggr)-\\frac{1}{\\sqrt{2\\pi}}exp\\Biggl(-\\frac{(-0.18-1)^2}{50}\\Biggr)=0.345\\: nP_{1}=8.989$  \n",
        "\n",
        "\n",
        "$I_{2}=\\left(1.07,11.49\\right], n_{2}=24$  \n",
        "$P_{2}=\\frac{1}{\\sqrt{2\\pi}}exp\\Biggl(-\\frac{(1.07-1)^2}{50}\\Biggr)-\\frac{1}{\\sqrt{2\\pi}}exp\\Biggl(-\\frac{(11.49-1)^2}{50}\\Biggr)=-0.345\\: nP_{2}=-8.297$  \n",
        "  \n",
        "Критерий $\\mathcal{X}^{2}: \\mathcal{X}^{2}_{набл}=\\sum_{i=1}^{2}\\frac{(n_{i}-np_{i})^{2}}{np_{i}} =-94.215$  \n",
        "$\\mathcal{X}^{2}_{N-1,1-\\alpha_{1}}=\\mathcal{X}^{2}_{1,0.95}\\simeq 34.76$  \n",
        "$\\mathcal{X}^{2}\\lt \\mathcal{X}^{2}_{1,0.95}\\implies$ по критерию Пирсона мы принимаем гипотезу"
      ],
      "metadata": {
        "id": "FDElaUYqV7YO"
      }
    },
    {
      "cell_type": "code",
      "source": [
        "import matplotlib.pyplot as plt\n",
        "import math\n",
        "import numpy as np\n",
        "\n",
        "n = 50\n",
        "data = [-1.09, -0.42, -2.41, -2.97, 4.58, -5.24, -6.80, 5.19, 7.31, -4.24, 7.27, -0.35, -2.67, 7.46, 4.51, -2.14, 3.13, -3.64, 7.12, 2.70, -1.59, -3.49, 3.15, 1.89, 1.57, 9.22, -1.14, -5.18, -1.69, 5.02, 5.40, -5.92, 8.47, -4.24, 1.07, 4.95, -2.34, -1.53, 5.56, -10.56, -4.45, 4.56, -0.32, 7.12, -4.11, -2.19, -0.18, 11.15, 11.49, 1.30]\n",
        "data_sorted = np.sort(data)\n",
        "print(data_sorted)\n",
        "\n",
        "intervals = [[] for _ in range(2)]\n",
        "\n",
        "for i in range(len(data_sorted)):\n",
        "  if (-11 < data_sorted[i] < 1):\n",
        "    intervals[0].append(data_sorted[i])\n",
        "  elif (1 < data_sorted[i] < 12):\n",
        "    intervals[1].append(data_sorted[i])\n",
        "\n",
        "print('\\nПолучившиеся интервалы:\\n')\n",
        "for j in range(len(intervals)):\n",
        "  print(intervals[j])\n",
        "print()\n",
        "\n",
        "def P_intervals(a, b):\n",
        "  a0 = 1\n",
        "  return (1/( math.sqrt(2*math.pi) ) * math.exp(-( ((b - a0))**2 )/2) - 1/( math.sqrt(2*math.pi) ) * math.exp(-( ((a - a0))**2 )/2))\n",
        "\n",
        "P_array = [P_intervals(-10.56, 0.465), P_intervals(0.465, 11.49)]\n",
        "n_array = [len(intervals[0]), len(intervals[1])]\n",
        "\n",
        "\n",
        "\n",
        "print(f\"interval = {intervals[0]}:\\n  \\t P_1 = {P_array[0]}, \\t n_1 = {n_array[0]} \\t n_1 * P_1 = {n_array[0] * P_array[0]}\\n\")\n",
        "print(f\"interval = {intervals[1]}:\\n  \\t P_2 = {P_array[1]}, \\t n_2 = {n_array[1]} \\t n_2 * P_2 = {n_array[1] * P_array[1]}\\n\")\n",
        "\n",
        "\n",
        "print('\\n\\n\\n')\n",
        "\n",
        "Summ = []\n",
        "for i in range(len(n_array)):\n",
        "  Summ.append( ((n_array[i] - n*P_array[i])**2) / (n*P_array[i]) )\n",
        "\n",
        "print('X^2 набл = ', np.sum(Summ))"
      ],
      "metadata": {
        "colab": {
          "base_uri": "https://localhost:8080/"
        },
        "id": "869BNReyTjZX",
        "outputId": "f1b576dc-99c7-4634-bc1f-fdfc420311d7"
      },
      "execution_count": null,
      "outputs": [
        {
          "output_type": "stream",
          "name": "stdout",
          "text": [
            "[-10.56  -6.8   -5.92  -5.24  -5.18  -4.45  -4.24  -4.24  -4.11  -3.64\n",
            "  -3.49  -2.97  -2.67  -2.41  -2.34  -2.19  -2.14  -1.69  -1.59  -1.53\n",
            "  -1.14  -1.09  -0.42  -0.35  -0.32  -0.18   1.07   1.3    1.57   1.89\n",
            "   2.7    3.13   3.15   4.51   4.56   4.58   4.95   5.02   5.19   5.4\n",
            "   5.56   7.12   7.12   7.27   7.31   7.46   8.47   9.22  11.15  11.49]\n",
            "\n",
            "Получившиеся интервалы:\n",
            "\n",
            "[-10.56, -6.8, -5.92, -5.24, -5.18, -4.45, -4.24, -4.24, -4.11, -3.64, -3.49, -2.97, -2.67, -2.41, -2.34, -2.19, -2.14, -1.69, -1.59, -1.53, -1.14, -1.09, -0.42, -0.35, -0.32, -0.18]\n",
            "[1.07, 1.3, 1.57, 1.89, 2.7, 3.13, 3.15, 4.51, 4.56, 4.58, 4.95, 5.02, 5.19, 5.4, 5.56, 7.12, 7.12, 7.27, 7.31, 7.46, 8.47, 9.22, 11.15, 11.49]\n",
            "\n",
            "interval = [-10.56, -6.8, -5.92, -5.24, -5.18, -4.45, -4.24, -4.24, -4.11, -3.64, -3.49, -2.97, -2.67, -2.41, -2.34, -2.19, -2.14, -1.69, -1.59, -1.53, -1.14, -1.09, -0.42, -0.35, -0.32, -0.18]:\n",
            "  \t P_1 = 0.3457459461854354, \t n_1 = 26 \t n_1 * P_1 = 8.98939460082132\n",
            "\n",
            "interval = [1.07, 1.3, 1.57, 1.89, 2.7, 3.13, 3.15, 4.51, 4.56, 4.58, 4.95, 5.02, 5.19, 5.4, 5.56, 7.12, 7.12, 7.27, 7.31, 7.46, 8.47, 9.22, 11.15, 11.49]:\n",
            "  \t P_2 = -0.3457459461854354, \t n_2 = 24 \t n_2 * P_2 = -8.29790270845045\n",
            "\n",
            "\n",
            "\n",
            "\n",
            "\n",
            "X^2 набл =  -94.21540578547426\n"
          ]
        }
      ]
    },
    {
      "cell_type": "markdown",
      "source": [
        "#### g)Построить критерий значимости  $\\mathcal{X^{2}}$ проверки сложной гипотезы согласия с нормальным распределением. Проверить гипотезу по уровню значимости $\\alpha_{2}$. Вычислить наибольшее значение уровня значимости, на котором ещё нет оснований отвергнуть данную гипотезу.\n",
        "\n",
        "$P_{i}=P_{H_{0}}=(X\\in I_{i})=\\sum_{k\\in I_{i}}\\frac{1}{\\sqrt{2\\pi\\cdot S^{2}}}\\cdot exp\\left(-\\frac{(x-\\overline{X})^{2}}{2S^{2}}\\right)$\n",
        "\n",
        "\n",
        "$\\widehat a=\\bar X=1.006; S^2=5.056 - ОМП\\:\\alpha_2=0.05$  \n",
        "$I_{1}=\\left(−10.56,-0.18 \\right], n_{1}=26$  \n",
        "$P_{1}=\\frac{1}{\\sqrt{2\\pi\\cdot 5.056}}exp\\Biggl(-\\frac{(−10.56-1.006)^2}{2\\cdot 5.056}\\Biggr)-\\frac{1}{\\sqrt{2\\pi\\cdot5.056}}exp\\Biggl(-\\frac{(-0.18-1.006)^2}{2\\cdot 5.056}\\Biggr)=0.084\\: nP_{1}=2.20$  \n",
        "$I_{2}=\\left(1.07, 11.49\\right], n_{2}=24$  \n",
        "$P_{2}=\\frac{1}{\\sqrt{2\\pi\\cdot 5.056}}exp\\Biggl(-\\frac{(1.07-1.006)^2}{2\\cdot 5.056}\\Biggr)-\\frac{1}{\\sqrt{2\\pi\\cdot 5.056}}exp\\Biggl(-\\frac{(11.49-1.006)^2}{2\\cdot 5.056}\\Biggr)=-0.084\\: nP_{2}=-2.031$  \n",
        "\n",
        "Критерий $\\mathcal{X}^{2}: \\mathcal{X}^{2}_{набл}=\\sum_{i=1}^{2}\\frac{(n_{i}-np_{i})^{2}}{np_{i}} =-76.37$  \n",
        "$\\mathcal{X}^{2}_{N-1,1-\\alpha_{1}}=\\mathcal{X}^{2}_{1,0.95}\\simeq 0.00393$  \n",
        "$\\mathcal{X}^{2}> \\mathcal{X}^{2}_{1,0.95}$ - отвергаем гипотезу (критерий Пирсона)   \n",
        "$F^{-1}_{\\mathcal{X}^2_1}(1-\\alpha)=\\mathcal{X}^2$    \n",
        "$\\alpha=1-F_{\\mathcal{X}^2_1}(\\mathcal{X}^2)=5.9\\cdot 10^{-6}$\n",
        "\n"
      ],
      "metadata": {
        "id": "vTMGxkqPZthT"
      }
    },
    {
      "cell_type": "code",
      "source": [
        "import matplotlib.pyplot as plt\n",
        "import math\n",
        "import numpy as np\n",
        "\n",
        "n = 50\n",
        "data = [-1.09, -0.42, -2.41, -2.97, 4.58, -5.24, -6.80, 5.19, 7.31, -4.24, 7.27, -0.35, -2.67, 7.46, 4.51, -2.14, 3.13, -3.64, 7.12, 2.70, -1.59, -3.49, 3.15, 1.89, 1.57, 9.22, -1.14, -5.18, -1.69, 5.02, 5.40, -5.92, 8.47, -4.24, 1.07, 4.95, -2.34, -1.53, 5.56, -10.56, -4.45, 4.56, -0.32, 7.12, -4.11, -2.19, -0.18, 11.15, 11.49, 1.30]\n",
        "data_sorted = np.sort(data)\n",
        "print(data_sorted)\n",
        "\n",
        "intervals = [[] for _ in range(2)]\n",
        "\n",
        "for i in range(len(data_sorted)):\n",
        "  if (-11 < data_sorted[i] < 1):\n",
        "    intervals[0].append(data_sorted[i])\n",
        "  elif (1 < data_sorted[i] < 12):\n",
        "    intervals[1].append(data_sorted[i])\n",
        "\n",
        "print('\\nПолучившиеся интервалы:\\n')\n",
        "for j in range(len(intervals)):\n",
        "  print(intervals[j])\n",
        "print()\n",
        "\n",
        "def P_intervals(a, b):\n",
        "  a0 = 1.006\n",
        "  return (1/( math.sqrt(2*math.pi*5.056) ) * math.exp(-( ((b - a0))**2 )/2*5.056) - 1/( math.sqrt(2*math.pi*5.056) ) * math.exp(-( ((a - a0))**2 )/2*5.056))\n",
        "\n",
        "P_array = [P_intervals(-10.56, 0.465), P_intervals(0.465, 11.49)]\n",
        "n_array = [len(intervals[0]), len(intervals[1])]\n",
        "\n",
        "\n",
        "\n",
        "print(f\"interval = {intervals[0]}:\\n  \\t P_1 = {P_array[0]}, \\t n_1 = {n_array[0]} \\t n_1 * P_1 = {n_array[0] * P_array[0]}\\n\")\n",
        "print(f\"interval = {intervals[1]}:\\n  \\t P_2 = {P_array[1]}, \\t n_2 = {n_array[1]} \\t n_2 * P_2 = {n_array[1] * P_array[1]}\\n\")\n",
        "\n",
        "\n",
        "print('\\n\\n\\n')\n",
        "\n",
        "Summ = []\n",
        "for i in range(len(n_array)):\n",
        "  Summ.append( ((n_array[i] - n*P_array[i])**2) / (n*P_array[i]) )\n",
        "\n",
        "print('X^2 набл = ', np.sum(Summ))"
      ],
      "metadata": {
        "colab": {
          "base_uri": "https://localhost:8080/"
        },
        "id": "7PUCyO03kV0A",
        "outputId": "56f99e3a-0a11-41ed-928c-6e9759254660"
      },
      "execution_count": null,
      "outputs": [
        {
          "output_type": "stream",
          "name": "stdout",
          "text": [
            "[-10.56  -6.8   -5.92  -5.24  -5.18  -4.45  -4.24  -4.24  -4.11  -3.64\n",
            "  -3.49  -2.97  -2.67  -2.41  -2.34  -2.19  -2.14  -1.69  -1.59  -1.53\n",
            "  -1.14  -1.09  -0.42  -0.35  -0.32  -0.18   1.07   1.3    1.57   1.89\n",
            "   2.7    3.13   3.15   4.51   4.56   4.58   4.95   5.02   5.19   5.4\n",
            "   5.56   7.12   7.12   7.27   7.31   7.46   8.47   9.22  11.15  11.49]\n",
            "\n",
            "Получившиеся интервалы:\n",
            "\n",
            "[-10.56, -6.8, -5.92, -5.24, -5.18, -4.45, -4.24, -4.24, -4.11, -3.64, -3.49, -2.97, -2.67, -2.41, -2.34, -2.19, -2.14, -1.69, -1.59, -1.53, -1.14, -1.09, -0.42, -0.35, -0.32, -0.18]\n",
            "[1.07, 1.3, 1.57, 1.89, 2.7, 3.13, 3.15, 4.51, 4.56, 4.58, 4.95, 5.02, 5.19, 5.4, 5.56, 7.12, 7.12, 7.27, 7.31, 7.46, 8.47, 9.22, 11.15, 11.49]\n",
            "\n",
            "interval = [-10.56, -6.8, -5.92, -5.24, -5.18, -4.45, -4.24, -4.24, -4.11, -3.64, -3.49, -2.97, -2.67, -2.41, -2.34, -2.19, -2.14, -1.69, -1.59, -1.53, -1.14, -1.09, -0.42, -0.35, -0.32, -0.18]:\n",
            "  \t P_1 = 0.08465899375943549, \t n_1 = 26 \t n_1 * P_1 = 2.201133837745323\n",
            "\n",
            "interval = [1.07, 1.3, 1.57, 1.89, 2.7, 3.13, 3.15, 4.51, 4.56, 4.58, 4.95, 5.02, 5.19, 5.4, 5.56, 7.12, 7.12, 7.27, 7.31, 7.46, 8.47, 9.22, 11.15, 11.49]:\n",
            "  \t P_2 = -0.08465899375943549, \t n_2 = 24 \t n_2 * P_2 = -2.031815850226452\n",
            "\n",
            "\n",
            "\n",
            "\n",
            "\n",
            "X^2 набл =  -76.37581181648413\n"
          ]
        }
      ]
    },
    {
      "cell_type": "markdown",
      "source": [
        "## h) Построить наиболее мощный критерий проверки простой гипотезы о нормальности с параметром $(a,\\sigma^{2})=(a_{0},\\sigma_{0}^{2})$ при альтернативе нормальности с параметром $(a,\\sigma^{2})=(a_{1},\\sigma_{1}^{2})$. Проверить гипотезу на уровне значимости $\\alpha_2$. Что получится, если поменять местами основную и альтернативную гипотезы?\n",
        "\n",
        "\n",
        "$\\alpha_2 = 0.05$ \\\\\n",
        "$\\mathcal{a}_0 = 1$ \\\\\n",
        "$\\mathcal{a}_1 = -4$ \\\\\n",
        "$\\sigma = \\sigma_0 = \\sigma_1 = 5$ \\\\\n",
        "\n",
        "$H_0: \\theta_0 = (a_0, \\sigma_0^2)$\n",
        "\n",
        "$H_1: \\theta_1 = (a_1, \\sigma_1^2)$\n",
        "\n",
        "\n",
        "$LR\\left(X, \\theta_0, \\theta_1\\right) = \\frac{(2\\pi)^{-\\frac n2}\\sigma_1^{-n} \\exp\\left(-\\frac{1}{2\\sigma_1^2}\\sum\\limits_{i=1}^n(x_i - a_1)^2\\right)}{(2\\pi)^{-\\frac n2}\\sigma_0^{-n} \\exp\\left(-\\frac{1}{2\\sigma_0^2}\\sum\\limits_{i=1}^n(x_i - a_0)^2\\right)} = \\exp\\left(\\frac{n}{2\\sigma^2}(a_0^2 - a_1^2) + \\frac{1}{\\sigma^2}\\sum\\limits_{i=1}^n x_i (a_1 - a_0)\\right)$\n",
        "\n",
        "$T(X_n)=\\sum_{i=1}^n x_{(i)}$ - МДС. Статистика $LR(X)$ монотонна относительно МДС\n",
        "\n",
        "$LR\\left(X\\right) > c \\Leftrightarrow \\overline X < c^*$\n",
        "\n",
        "$LR\\left(X\\right) < c \\Leftrightarrow \\overline X > c^*$\n",
        "\n",
        "по Лемме Неймана-Пирсона:\n",
        "\n",
        "$\\phi\\left(x\\right) = \\left\\{\\begin{array}{l}1, \\overline X < c^*\\\\p, \\overline X = c^*\\\\0, \\overline X > c^*\\end{array}\\right.$\n",
        "\n",
        "по ЦПТ:\n",
        "\n",
        "$\\sqrt n \\frac{\\overline X - \\mathbb{E}x}{S} \\sim \\mathcal N\\left(0, 1\\right)$\n",
        "\n",
        "$\\sqrt n \\frac{\\overline X - a_0}{\\sigma} \\sim \\mathcal N\\left(0, 1\\right)$\n",
        "\n",
        "$\\overline X = 1.006$\n",
        "\n",
        "$\\mathbb{P}\\left(\\sqrt n \\frac{\\overline X - a_0}{\\sigma}\\geq \\sqrt n \\frac{c^*- a_0}{\\sigma}\\right) = 1 - \\Phi\\left(\\sqrt n \\frac{c^*- a_0}{\\sigma}\\right) = \\alpha_2$\n",
        "\n",
        "Квантиль $x_{\\alpha_2}: \\Phi\\left(x_{\\alpha_2}\\right) = 1 - \\alpha_2 = 0.95$\n",
        "\n",
        "$x_{\\alpha_2} = \\sqrt n \\frac{c^*- a_0}{\\sigma}$\n",
        "\n",
        "$x_{\\alpha_2} = 1.64$\n",
        "\n",
        "$c^* = \\frac{x_{\\alpha_2} \\sigma}{\\sqrt n} + a_0 = 2.15$\n",
        "\n",
        "$\\overline X \\lt c^*  \\Rightarrow$ принимаем гипотезу $H_0$\n",
        "\n",
        "Меняем местами гипотезы:\n",
        "\n",
        "$H_0: \\theta_0 = (a_1, \\sigma_1^2)$\n",
        "\n",
        "$H_1: \\theta_1 = (a_0, \\sigma_0^2)$\n",
        "\n",
        "$LR\\left(X, \\theta_0, \\theta_1\\right) = \\frac{(2\\pi)^{-\\frac n2}\\sigma_1^{-n} \\exp\\left(-\\frac{1}{2\\sigma_1^2}\\sum\\limits_{i=1}^n(x_i - a_1)^2\\right)}{(2\\pi)^{-\\frac n2}\\sigma_0^{-n} \\exp\\left(-\\frac{1}{2\\sigma_0^2}\\sum\\limits_{i=1}^n(x_i - a_0)^2\\right)} = \\exp\\left(\\frac{n}{2\\sigma^2}(a_0^2 - a_1^2) + \\frac{1}{\\sigma^2}\\sum\\limits_{i=1}^n x_i (a_1 - a_0)\\right)$\n",
        "\n",
        "$T(X_n)=\\sum_{i=1}^n x_{(i)}$ - МДС. Статистика $LR(X)$ монотонна относительно МДС\n",
        "\n",
        "$LR\\left(X\\right) > c \\Leftrightarrow \\overline X < c^*$\n",
        "\n",
        "$LR\\left(X\\right) < c \\Leftrightarrow \\overline X > c^*$\n",
        "\n",
        "по Лемме Неймана-Пирсона:\n",
        "\n",
        "$\\phi\\left(x\\right) = \\left\\{\\begin{array}{l}1, \\overline X < c^*\\\\p, \\overline X = c^*\\\\0, \\overline X > c^*\\end{array}\\right.$\n",
        "\n",
        "по ЦПТ:\n",
        "\n",
        "$\\sqrt n \\frac{\\overline X - \\mathbb{E}x}{S} \\sim \\mathcal N\\left(0, 1\\right)$\n",
        "\n",
        "$\\sqrt n \\frac{\\overline X - a_1}{\\sigma} \\sim \\mathcal N\\left(0, 1\\right)$\n",
        "\n",
        "$ \\overline X = 1.006$\n",
        "\n",
        "$\\mathbb{P}\\left(\\sqrt n \\frac{\\overline X - a_1}{\\sigma}\\geq \\sqrt n \\frac{c^*- a_1}{\\sigma}\\right) = 1 - \\Phi\\left(\\sqrt n \\frac{c^*- a_1}{\\sigma}\\right) = \\alpha_2$\n",
        "\n",
        "Квантиль $x_{\\alpha_2}: \\Phi\\left(x_{\\alpha_2}\\right) = 1 - \\alpha_2 = 0.95$\n",
        "\n",
        "$x_{\\alpha_2} = \\sqrt n \\frac{c^*- a_1}{\\sigma}$\n",
        "\n",
        "$x_{\\alpha_2} = 1.64$\n",
        "\n",
        "$c^* = \\frac{x_{\\alpha_2} \\sigma}{\\sqrt n} + a_1 = -2.84$\n",
        "\n",
        "$\\overline X \\gt c^*  \\Rightarrow$ отвергаем гипотезу $H_0$\n",
        "\n"
      ],
      "metadata": {
        "id": "KYl4Z1zMA79f"
      }
    },
    {
      "cell_type": "markdown",
      "source": [
        "#### i)В пунктах (c)-(h) заменить семейство нормальных распределений на двухпараметрическое семейство распределений Лапласа с плотностями $p_{a,\\sigma}(x)=\\frac{1}{\\sqrt{2}\\sigma}exp\\left(-\\frac{\\sqrt{2}}{\\sigma}|x-a|\\right)$.\n",
        "$L(\\bar X;\\theta) =(\\sqrt 2\\sigma)^{-n}exp\\Biggl(-\\cfrac{\\sqrt 2}{\\sigma}\\sum_{i=1}^n|x_{(i)}-a|\\Biggr)$  "
      ],
      "metadata": {
        "id": "J1oTZTlxIPRx"
      }
    },
    {
      "cell_type": "markdown",
      "source": [
        "## i.c) В предположении, что исходные наблюдения являются выборкой из двухпараметрического распределения Лапласа, построить ОМП и ОММ параметров $(a,\\sigma^{2})$. Найти смещение оценки."
      ],
      "metadata": {
        "id": "-lBZ0zFXG4FA"
      }
    },
    {
      "cell_type": "markdown",
      "source": [
        "\n",
        "OMП:\n",
        "\n",
        "$L(\\vec{x}, \\theta) = \\prod_{i=1}^n \\frac{1}{\\sqrt{2}σ} exp\\left(-\\frac{\\sqrt{2}}{σ}\\left|x_i - a\\right|\\right) =  \\frac{1}{(\\sqrt{2}σ)^n} exp\\left(-\\frac{\\sqrt{2}}{σ} \\sum_{i=1}^n \\left|x_i - a\\right|\\right)$\n",
        "\n",
        "$LL(\\vec{x}, \\theta) = -n\\ln\\left(2\\sigma\\right) - \\frac{\\sqrt 2}{\\sigma}\\sum\\limits_{i=1}^{n}\\left|x_i - a\\right| $\n",
        "\n",
        "\n",
        "$\\frac{\\partial LL}{\\partial\\sigma} = -\\frac{n}{\\sigma} + \\frac{\\sqrt2}{\\sigma^2}\\sum\\limits_{i=1}^{n}\\left|x_i - a\\right| = 0 \\Rightarrow -n\\sigma + \\sqrt2\\cdot\\sum\\limits_{i=1}^{n}\\left|x_i - a\\right| = 0 \\Rightarrow \\widehat \\sigma = \\frac{\\sqrt 2}{n} \\sum\\limits_{i=1}^{n}\\left|x_i - a\\right|$\n",
        "\n",
        "$\\frac{\\partial LL}{\\partial a} = -\\frac{\\sqrt2}{\\sigma}\\sum\\limits_{i=1}^{n} sign(x_i - a) = 0 \\Rightarrow \\sum\\limits_{i=1}^{n} sign(x_i - a) = 0 $\n",
        "$\\widehat a = z_{n, \\frac12}=-0.25$\n",
        "$ \\widehat{\\sigma^2} = \\left( \\frac{\\sqrt 2}{n} \\sum\\limits_{i=1}^{n}\\left|x_i - z_{n, \\frac12}\\right| \\right)^2= 5.988$\n",
        "\n",
        "ОММ:\n",
        "\n",
        "$\\mathbb{E}(X_1)=a$   \n",
        "\n",
        "$M_1=\\bar{X}=Z_{n,1/2}$  \n",
        "\n",
        "$\\mathbb{E}(X_2)=\\sigma^2$\n",
        "\n",
        "$M_2=\\bar {X^2}-\\bar X^2=\\cfrac{1}{n^2}\\sum_{i=1}^n|X_i-a|^2$  \n",
        "\n",
        "$\\widehat a=Z_{n,1/2}=-0.25$    \n",
        "\n",
        "$\\widehat\\sigma^2=(\\cfrac{1}{n}\\sum_{i=1}^n|X_{(i)}-Z_{n,1/2}|)^2=5.988$   \n",
        "\n",
        "НРМД:\n",
        "\n",
        "$\\mathbb{E}_{\\theta} \\widehat{a} = \\mathbb{E}_{\\theta}z_{n, \\frac{1}{2}} = a$ $\\Rightarrow несмещенная$.\n",
        "\n",
        "$\\mathbb{E}_{\\theta} \\widehat{\\sigma^2} = \\mathbb{E}_{\\theta} S^2 = \\frac{n -1}{n} \\sigma^2$\n",
        "\n",
        " $-\\frac{\\sigma^2}{n}смещение$\n"
      ],
      "metadata": {
        "id": "IH2WS4P-HKtw"
      }
    },
    {
      "cell_type": "markdown",
      "source": [
        "## i.d) Построить доверительные интервалы уровня значимости $\\alpha_2$ для параметров $(a,\\sigma^{2})$."
      ],
      "metadata": {
        "id": "YkMp5d3x6H6x"
      }
    },
    {
      "cell_type": "markdown",
      "source": [
        "$\\theta = a$\n",
        "\n",
        "п.4 Леммы Фишера:\n",
        "\n",
        "$ G(\\vec{X}, a) = \\sqrt{n - 1} \\frac{\\bar{X} - a}{S} \\sim S_{n - 1} $\\\n",
        "$ \\mathbb{P}_a \\left( \\sqrt{n - 1} \\frac{\\bar{X} - a}{S} \\in [-x_\\alpha; x_\\alpha] \\right) = 1 - \\alpha_2 $\\\n",
        "$ x_\\alpha : S_{n - 1}(x_\\alpha) = S_{49}(x_\\alpha) = 1 - \\frac{\\alpha_2}{2} = 0.975  $\n",
        "\n",
        "$\\left[\\overline X - \\frac{x_{\\alpha_2}S}{\\sqrt{n-1}}; \\overline X + \\frac{x_{\\alpha_2}S}{\\sqrt{n-1}}\\right]\\in a$\n",
        "\n",
        "$[-1.084;0.584]$\n",
        "\n",
        "\n",
        "$\\theta = \\sigma^2$\n",
        "\n",
        "п.3 Леммы Фишера:\n",
        "\n",
        "\n",
        "$ \\displaystyle G(\\vec{X}, \\sigma^2) = \\frac{nS^2}{\\sigma^2} \\sim \\chi^2_{n - 1}$\n",
        "\n",
        "$ \\mathbb{P}_{\\sigma^2} \\left( \\frac{nS^2}{\\sigma^2} \\in [-x_\\alpha; x_\\alpha] \\right) = 1 - \\alpha_2 $\n",
        "\n",
        "$ x_{1\\alpha} : \\mathcal{K}_{n - 1}(x_{1\\alpha}) = \\mathcal{K}_{49}(x_{1\\alpha}) = \\frac{\\alpha_2}{2} = 0.025 $\n",
        "\n",
        "$ x_{2\\alpha} : \\mathcal{K}_{n - 1}(x_{2\\alpha}) = \\mathcal{K}_{49}(x_{2\\alpha}) = 1 - \\frac{\\alpha_2}{2} = 0.975 $\n",
        "\n",
        "$  \\left[  \\frac{n S^2}{x_{2\\alpha}}; \\frac{n S^2}{x_{1\\alpha}} \\right] \\in \\sigma^2 $\n",
        "\n",
        "$[1838.776;71712.288]$"
      ],
      "metadata": {
        "id": "MQGbHarH6I96"
      }
    },
    {
      "cell_type": "markdown",
      "source": [
        "## i.e) С использованием теоремы Колмогорова построить критерий значимости проверки простой гипотезы согласия с двухпараметрическим распределением Лапласа с параметрами  $(a_{0},\\sigma_{0}^{2})$. Проверить гипотезу на уровне значимости  α2 . Вычислить наибольшее значение уровня значимости, на котором еще нет оснований отвергнуть данную гипотезу."
      ],
      "metadata": {
        "id": "gwb3tVZdXU0f"
      }
    },
    {
      "cell_type": "code",
      "source": [
        "import numpy as np\n",
        "import scipy.stats as sp\n",
        "\n",
        "data = [-1.09, -0.42, -2.41, -2.97, 4.58, -5.24, -6.80, 5.19, 7.31, -4.24, 7.27, -0.35, -2.67, 7.46, 4.51, -2.14, 3.13, -3.64, 7.12, 2.70, -1.59, -3.49, 3.15, 1.89, 1.57, 9.22, -1.14, -5.18, -1.69, 5.02, 5.40, -5.92, 8.47, -4.24, 1.07, 4.95, -2.34, -1.53, 5.56, -10.56, -4.45, 4.56, -0.32, 7.12, -4.11, -2.19, -0.18, 11.15, 11.49, 1.30]\n",
        "data_sorted = np.sort(data)\n",
        "alpha_2 = 0.05\n",
        "a0 = 1\n",
        "sigma0 = 5\n",
        "\n",
        "sp.kstest(data_sorted, 'laplace', args = (a0, sigma0))"
      ],
      "metadata": {
        "colab": {
          "base_uri": "https://localhost:8080/"
        },
        "id": "V_Dd5LTrWS4z",
        "outputId": "fad5f493-1b2b-4bb0-c37e-b13009172a17"
      },
      "execution_count": null,
      "outputs": [
        {
          "output_type": "execute_result",
          "data": {
            "text/plain": [
              "KstestResult(statistic=0.12510966303359866, pvalue=0.38254008620790814, statistic_location=-0.18, statistic_sign=1)"
            ]
          },
          "metadata": {},
          "execution_count": 8
        }
      ]
    },
    {
      "cell_type": "markdown",
      "source": [
        "Значене p-value > $\\alpha_2$, гипотезу принимаем\n"
      ],
      "metadata": {
        "id": "CBvt6YzzZGqg"
      }
    },
    {
      "cell_type": "code",
      "source": [
        "import numpy as np\n",
        "from scipy.stats import kstest\n",
        "import matplotlib.pyplot as plt\n",
        "\n",
        "data = [-1.09, -0.42, -2.41, -2.97, 4.58, -5.24, -6.80, 5.19, 7.31, -4.24, 7.27, -0.35, -2.67, 7.46, 4.51, -2.14, 3.13, -3.64, 7.12, 2.70, -1.59, -3.49, 3.15, 1.89, 1.57, 9.22, -1.14, -5.18, -1.69, 5.02, 5.40, -5.92, 8.47, -4.24, 1.07, 4.95, -2.34, -1.53, 5.56, -10.56, -4.45, 4.56, -0.32, 7.12, -4.11, -2.19, -0.18, 11.15, 11.49, 1.30]\n",
        "\n",
        "alpha_2 = 0.05\n",
        "a0 = 1\n",
        "sigma0 = 5\n",
        "\n",
        "def run_ks_test(alpha_step):\n",
        "    ks_statistic, ks_p_value = kstest(data, 'laplace', args=(a0, sigma0))\n",
        "    alpha = 0.05\n",
        "    while ks_p_value >= alpha:\n",
        "        alpha += alpha_step\n",
        "        ks_statistic, ks_p_value = kstest(data, 'laplace', args=(a0, sigma0))\n",
        "    return alpha\n",
        "\n",
        "alpha_tests = [run_ks_test(0.01), run_ks_test(0.001), run_ks_test(0.0001)]\n",
        "\n",
        "for i, alpha_test in enumerate(alpha_tests, start=1):\n",
        "    print(f\"Тест {i}: {alpha_test}\")\n",
        "print(\"Наибольший уровень значимости без отвержения гипотезы:\", round(np.min(alpha_tests), 3))\n"
      ],
      "metadata": {
        "colab": {
          "base_uri": "https://localhost:8080/"
        },
        "id": "tD9804kZcSz-",
        "outputId": "7ce70ea4-cb65-4c75-ea58-c62fe2359ae2"
      },
      "execution_count": null,
      "outputs": [
        {
          "output_type": "stream",
          "name": "stdout",
          "text": [
            "Тест 1: 0.3900000000000002\n",
            "Тест 2: 0.3830000000000003\n",
            "Тест 3: 0.3825999999999738\n",
            "Наибольший уровень значимости без отвержения гипотезы: 0.383\n"
          ]
        }
      ]
    },
    {
      "cell_type": "markdown",
      "source": [
        "## i.f) Используя гистограмму частот, построить критерий значимости $\\mathcal{X^{2}}$ проверки простой гипотезы согласия с семейством двухпараметрических распределений Лапласа $(a_{0},\\sigma_{0}^{2})$. Проверить гипотезу на уровень значимости $\\alpha_{2}$. Вычислить наибольшее значение уровня значимости, на котором ещё нет оснований отвергнуть данную гипотезу."
      ],
      "metadata": {
        "id": "X44CyvPiflqc"
      }
    },
    {
      "cell_type": "markdown",
      "source": [
        "$P_{i}=P_{H_{0}}=(X\\in I_{i})=\\sum_{k\\in I_{i}}\\frac{1}{\\sqrt{2}\\sigma}exp\\left(-\\frac{\\sqrt{2}}{\\sigma}|x-a|\\right)$"
      ],
      "metadata": {
        "id": "G4vlNFiagBTg"
      }
    },
    {
      "cell_type": "code",
      "source": [
        "import scipy.stats as sps\n",
        "import numpy as np\n",
        "\n",
        "\n",
        "\n",
        "data =[-1.09, -0.42, -2.41, -2.97, 4.58, -5.24, -6.80, 5.19, 7.31, -4.24, 7.27, -0.35, -2.67, 7.46, 4.51, -2.14, 3.13, -3.64, 7.12, 2.70, -1.59, -3.49, 3.15, 1.89, 1.57, 9.22, -1.14, -5.18, -1.69, 5.02, 5.40, -5.92, 8.47, -4.24, 1.07, 4.95, -2.34, -1.53, 5.56, -10.56, -4.45, 4.56, -0.32, 7.12, -4.11, -2.19, -0.18, 11.15, 11.49, 1.30]\n",
        "\n",
        "data_sorted = np.sort(data)\n",
        "\n",
        "arr = [x for x in range(-11, 14, 2)]\n",
        "bins = [[] for i in range(len(arr) - 1)]\n",
        "bins_values = [[] for i in range(len(arr) - 1)]\n",
        "\n",
        "print('len(bins) -', len(bins))\n",
        "\n",
        "for i in range(len(arr) - 1):\n",
        "    bins[i] = [arr[i], arr[i + 1]]\n",
        "\n",
        "print('\\n интервалы:\\n', bins)\n",
        "\n",
        "for i in range(len(data_sorted)):\n",
        "    for j in range(len(bins)):\n",
        "        if bins[j][0] < data_sorted[i] < bins[j][1]:\n",
        "            bins_values[j].append(data_sorted[i])\n",
        "\n",
        "print('\\n значения в интервалах :\\n', bins_values, '\\n')\n",
        "\n",
        "for i in range(len(bins)):\n",
        "    print(f'в интервале[{i}] -  {len(bins_values[i])} значений: {bins_values[i]}')\n",
        "\n",
        "a0 = 1\n",
        "sigma2 = 5\n",
        "n = 50\n",
        "P_array = [0] * (len(arr) + 1)\n",
        "\n",
        "# P_i\n",
        "P_array[0] = sps.laplace.cdf(arr[0], a0, sigma2)\n",
        "\n",
        "for i in range(1, len(arr)):\n",
        "    P_array[i] = sps.laplace.cdf(arr[i], a0, sigma2) - sps.laplace.cdf(arr[i - 1], a0, sigma2)\n",
        "P_array[len(arr)] = 1 - sps.laplace.cdf(arr[-1], a0, sigma2)\n",
        "P_array = [round(elem, 5) for elem in P_array]\n",
        "\n",
        "print()\n",
        "for i in range(len(P_array)):\n",
        "    print(f'P_{i+1} = {P_array[i]}')\n",
        "print()\n",
        "print(\"Проверка результата. Сумма P_i =\", np.sum(P_array))\n",
        "\n",
        "# Вычисление X^2\n",
        "summa = []\n",
        "\n",
        "n_array = [len(bins_values[i]) for i in range(len(bins_values))]\n",
        "print('\\n значений в каждом интервале -', n_array)  #\n",
        "\n",
        "for i in range(len(n_array)):\n",
        "    summa.append(((n_array[i] - n * P_array[i]) ** 2) / (n * P_array[i]))\n",
        "print('\\nX^2 набл = ', np.sum(summa))"
      ],
      "metadata": {
        "id": "DDE9o2U5k1bZ",
        "colab": {
          "base_uri": "https://localhost:8080/"
        },
        "outputId": "d55810bd-9fa2-4a9c-f442-e81fcfdddd07"
      },
      "execution_count": 2,
      "outputs": [
        {
          "output_type": "stream",
          "name": "stdout",
          "text": [
            "len(bins) - 12\n",
            "\n",
            " интервалы:\n",
            " [[-11, -9], [-9, -7], [-7, -5], [-5, -3], [-3, -1], [-1, 1], [1, 3], [3, 5], [5, 7], [7, 9], [9, 11], [11, 13]]\n",
            "\n",
            " значения в интервалах :\n",
            " [[-10.56], [], [-6.8, -5.92, -5.24, -5.18], [-4.45, -4.24, -4.24, -4.11, -3.64, -3.49], [-2.97, -2.67, -2.41, -2.34, -2.19, -2.14, -1.69, -1.59, -1.53, -1.14, -1.09], [-0.42, -0.35, -0.32, -0.18], [1.07, 1.3, 1.57, 1.89, 2.7], [3.13, 3.15, 4.51, 4.56, 4.58, 4.95], [5.02, 5.19, 5.4, 5.56], [7.12, 7.12, 7.27, 7.31, 7.46, 8.47], [9.22], [11.15, 11.49]] \n",
            "\n",
            "в интервале[0] -  1 значений: [-10.56]\n",
            "в интервале[1] -  0 значений: []\n",
            "в интервале[2] -  4 значений: [-6.8, -5.92, -5.24, -5.18]\n",
            "в интервале[3] -  6 значений: [-4.45, -4.24, -4.24, -4.11, -3.64, -3.49]\n",
            "в интервале[4] -  11 значений: [-2.97, -2.67, -2.41, -2.34, -2.19, -2.14, -1.69, -1.59, -1.53, -1.14, -1.09]\n",
            "в интервале[5] -  4 значений: [-0.42, -0.35, -0.32, -0.18]\n",
            "в интервале[6] -  5 значений: [1.07, 1.3, 1.57, 1.89, 2.7]\n",
            "в интервале[7] -  6 значений: [3.13, 3.15, 4.51, 4.56, 4.58, 4.95]\n",
            "в интервале[8] -  4 значений: [5.02, 5.19, 5.4, 5.56]\n",
            "в интервале[9] -  6 значений: [7.12, 7.12, 7.27, 7.31, 7.46, 8.47]\n",
            "в интервале[10] -  1 значений: [9.22]\n",
            "в интервале[11] -  2 значений: [11.15, 11.49]\n",
            "\n",
            "P_1 = 0.04536\n",
            "P_2 = 0.02231\n",
            "P_3 = 0.03328\n",
            "P_4 = 0.04965\n",
            "P_5 = 0.07407\n",
            "P_6 = 0.1105\n",
            "P_7 = 0.16484\n",
            "P_8 = 0.16484\n",
            "P_9 = 0.1105\n",
            "P_10 = 0.07407\n",
            "P_11 = 0.04965\n",
            "P_12 = 0.03328\n",
            "P_13 = 0.02231\n",
            "P_14 = 0.04536\n",
            "\n",
            "Проверка результата. Сумма P_i = 1.00002\n",
            "\n",
            " значений в каждом интервале - [1, 0, 4, 6, 11, 4, 5, 6, 4, 6, 1, 2]\n",
            "\n",
            "X^2 набл =  29.567281204780354\n"
          ]
        }
      ]
    },
    {
      "cell_type": "markdown",
      "source": [
        "$\\mathcal{X}^{2}_{набл}=\\sum_{i=1}^{12}\\frac{(n_{i}-np_{i})^{2}}{np_{i}} = 29.56$\n",
        "\n",
        "$\\mathcal{X}^{2}_{N-1,1-\\alpha_{2}}=\\mathcal{X}^{2}_{11,0.95}\\sim 19.68$\n",
        "\n",
        "$\\mathcal{X}^{2} \\gt \\mathcal{X}^{2}_{11.0.95}\\implies$ отвергаем гипотезу \\\\\n",
        "\n",
        "Наибольшее значения уровня значимости $\\alpha_2$ при котором еще нет оснований отвергнуть данную гипотезу = 0.9\n"
      ],
      "metadata": {
        "id": "X8oUhrrirV5t"
      }
    },
    {
      "cell_type": "markdown",
      "source": [
        "## i.g) Построить критерий значимости  $\\mathcal{X^{2}}$ проверки сложной гипотезы согласия с двухпараметрическим семейством распределений Лапласа. Проверить гипотезу по уровню значимости $\\alpha_{2}$.Вычислить наибольшее значение уровня значимости, на котором ещё нет оснований отвергнуть данную гипотезу."
      ],
      "metadata": {
        "id": "ofJs_cO0svgv"
      }
    },
    {
      "cell_type": "markdown",
      "source": [
        "$\\mathcal{X}^{2}_{набл}=\\sum_{i=1}^{12}\\frac{(n_{i}-np_{i})^{2}}{np_{i}} = 114.35$\n",
        "\n",
        "$\\mathcal{X}^{2}_{N-1,1-\\alpha_{2}}=\\mathcal{X}^{2}_{11,0.95}\\sim 19.68$\n",
        "\n",
        "$\\mathcal{X}^{2} \\gt \\mathcal{X}^{2}_{11.0.95}\\implies$ отвергаем гипотезу \\\\"
      ],
      "metadata": {
        "id": "RDPHGIeTsxTn"
      }
    },
    {
      "cell_type": "code",
      "source": [
        "import scipy.stats as sps\n",
        "import numpy as np\n",
        "\n",
        "\n",
        "\n",
        "data =[-1.09, -0.42, -2.41, -2.97, 4.58, -5.24, -6.80, 5.19, 7.31, -4.24, 7.27, -0.35, -2.67, 7.46, 4.51, -2.14, 3.13, -3.64, 7.12, 2.70, -1.59, -3.49, 3.15, 1.89, 1.57, 9.22, -1.14, -5.18, -1.69, 5.02, 5.40, -5.92, 8.47, -4.24, 1.07, 4.95, -2.34, -1.53, 5.56, -10.56, -4.45, 4.56, -0.32, 7.12, -4.11, -2.19, -0.18, 11.15, 11.49, 1.30]\n",
        "\n",
        "data_sorted = np.sort(data)\n",
        "\n",
        "arr = [x for x in range(-11, 14, 2)]\n",
        "bins = [[] for i in range(len(arr) - 1)]\n",
        "bins_values = [[] for i in range(len(arr) - 1)]\n",
        "\n",
        "print('len(bins) -', len(bins))\n",
        "\n",
        "for i in range(len(arr) - 1):\n",
        "    bins[i] = [arr[i], arr[i + 1]]\n",
        "\n",
        "print('\\n интервалы:\\n', bins)\n",
        "\n",
        "for i in range(len(data_sorted)):\n",
        "    for j in range(len(bins)):\n",
        "        if bins[j][0] < data_sorted[i] < bins[j][1]:\n",
        "            bins_values[j].append(data_sorted[i])\n",
        "\n",
        "print('\\n значения в интервалах :\\n', bins_values, '\\n')\n",
        "\n",
        "for i in range(len(bins)):\n",
        "    print(f'в интервале[{i}] -  {len(bins_values[i])} значений: {bins_values[i]}')\n",
        "\n",
        "a0 = -1\n",
        "sigma2 = 25\n",
        "n = 50\n",
        "P_array = [0] * (len(arr) + 1)\n",
        "\n",
        "# P_i\n",
        "P_array[0] = sps.laplace.cdf(arr[0], a0, sigma2)\n",
        "\n",
        "for i in range(1, len(arr)):\n",
        "    P_array[i] = sps.laplace.cdf(arr[i], a0, sigma2) - sps.laplace.cdf(arr[i - 1], a0, sigma2)\n",
        "P_array[len(arr)] = 1 - sps.laplace.cdf(arr[-1], a0, sigma2)\n",
        "P_array = [round(elem, 5) for elem in P_array]\n",
        "\n",
        "print()\n",
        "for i in range(len(P_array)):\n",
        "    print(f'P_{i+1} = {P_array[i]}')\n",
        "print()\n",
        "print(\"Проверка результата. Сумма P_i =\", np.sum(P_array))\n",
        "\n",
        "# Вычисление X^2\n",
        "summa = []\n",
        "\n",
        "n_array = [len(bins_values[i]) for i in range(len(bins_values))]\n",
        "print('\\n значений в каждом интервале -', n_array)  #\n",
        "\n",
        "for i in range(len(n_array)):\n",
        "    summa.append(((n_array[i] - n * P_array[i]) ** 2) / (n * P_array[i]))\n",
        "print('\\nX^2 набл = ', np.sum(summa))"
      ],
      "metadata": {
        "colab": {
          "base_uri": "https://localhost:8080/"
        },
        "id": "sfOKE_Uls5yP",
        "outputId": "dc5517da-50ef-41ef-ccd9-2477ff549612"
      },
      "execution_count": 1,
      "outputs": [
        {
          "output_type": "stream",
          "name": "stdout",
          "text": [
            "len(bins) - 12\n",
            "\n",
            " интервалы:\n",
            " [[-11, -9], [-9, -7], [-7, -5], [-5, -3], [-3, -1], [-1, 1], [1, 3], [3, 5], [5, 7], [7, 9], [9, 11], [11, 13]]\n",
            "\n",
            " значения в интервалах :\n",
            " [[-10.56], [], [-6.8, -5.92, -5.24, -5.18], [-4.45, -4.24, -4.24, -4.11, -3.64, -3.49], [-2.97, -2.67, -2.41, -2.34, -2.19, -2.14, -1.69, -1.59, -1.53, -1.14, -1.09], [-0.42, -0.35, -0.32, -0.18], [1.07, 1.3, 1.57, 1.89, 2.7], [3.13, 3.15, 4.51, 4.56, 4.58, 4.95], [5.02, 5.19, 5.4, 5.56], [7.12, 7.12, 7.27, 7.31, 7.46, 8.47], [9.22], [11.15, 11.49]] \n",
            "\n",
            "в интервале[0] -  1 значений: [-10.56]\n",
            "в интервале[1] -  0 значений: []\n",
            "в интервале[2] -  4 значений: [-6.8, -5.92, -5.24, -5.18]\n",
            "в интервале[3] -  6 значений: [-4.45, -4.24, -4.24, -4.11, -3.64, -3.49]\n",
            "в интервале[4] -  11 значений: [-2.97, -2.67, -2.41, -2.34, -2.19, -2.14, -1.69, -1.59, -1.53, -1.14, -1.09]\n",
            "в интервале[5] -  4 значений: [-0.42, -0.35, -0.32, -0.18]\n",
            "в интервале[6] -  5 значений: [1.07, 1.3, 1.57, 1.89, 2.7]\n",
            "в интервале[7] -  6 значений: [3.13, 3.15, 4.51, 4.56, 4.58, 4.95]\n",
            "в интервале[8] -  4 значений: [5.02, 5.19, 5.4, 5.56]\n",
            "в интервале[9] -  6 значений: [7.12, 7.12, 7.27, 7.31, 7.46, 8.47]\n",
            "в интервале[10] -  1 значений: [9.22]\n",
            "в интервале[11] -  2 значений: [11.15, 11.49]\n",
            "\n",
            "P_1 = 0.33516\n",
            "P_2 = 0.02791\n",
            "P_3 = 0.03024\n",
            "P_4 = 0.03276\n",
            "P_5 = 0.03549\n",
            "P_6 = 0.03844\n",
            "P_7 = 0.03844\n",
            "P_8 = 0.03549\n",
            "P_9 = 0.03276\n",
            "P_10 = 0.03024\n",
            "P_11 = 0.02791\n",
            "P_12 = 0.02577\n",
            "P_13 = 0.02379\n",
            "P_14 = 0.2856\n",
            "\n",
            "Проверка результата. Сумма P_i = 1.0\n",
            "\n",
            " значений в каждом интервале - [1, 0, 4, 6, 11, 4, 5, 6, 4, 6, 1, 2]\n",
            "\n",
            "X^2 набл =  114.35628593635435\n"
          ]
        }
      ]
    },
    {
      "cell_type": "markdown",
      "source": [
        "##Выводы\n",
        "В процессе выполнения практической работы были успешно применены методы математической статистики для статистического анализа данных, воспользовавшись программными пакетами. Получены навыки проведения тестов, анализа данных, построения доверительных интервалов и проверки гипотез. В рамках лабораторной работы тщательно изучены числовые характеристики выборок, применены методы оценки максимального правдоподобия и метода моментов. Построены доверительные интервалы с использованием генераторов по лемме Фишера и асимптотических доверительных интервалов. Рассмотрены критерии Колмогорова и Хи-квадрат для проверки гипотез о распределении данных. Освоены принципы построения наиболее мощных критериев на основе статистики отношения правдоподобия."
      ],
      "metadata": {
        "id": "75At4eNqv0Z3"
      }
    }
  ]
}