{
 "cells": [
  {
   "cell_type": "markdown",
   "id": "1b950f7c-cdf8-4dd6-93f7-0f9b27278b01",
   "metadata": {},
   "source": [
    "# Практическая работа №3: Регрессионный анализ\n",
    "Выполнил студент гр. 1374 Москвин Сергей. Вариант №14"
   ]
  },
  {
   "cell_type": "markdown",
   "id": "fc1cb266-f22f-4963-821d-a87341a48893",
   "metadata": {},
   "source": [
    "## Цель работы\n",
    "Ознакомление с основными положениями метода наименьших квадратов (МНК), со статистическими свойствами МНК-оценок, с понятием функции регрессии и роли МНК в регрессионном анализе."
   ]
  },
  {
   "cell_type": "markdown",
   "id": "51582cf6-0780-4a56-af76-2cdcce402adb",
   "metadata": {},
   "source": [
    "## Основные теоретические положения\n",
    "Регрессионная модель: \n",
    "$\\mathbb{E}_{\\theta}(Y|z)=f_{\\theta}(z)$  \n",
    "$Y$ - наблюдения  \n",
    "$z$ - ковариата\n",
    "\n",
    "Линейная регрессионная модель:\n",
    "$\\mathbb{E}_{\\theta}(Y|z)=x(z)^\\intercal\\beta$  \n",
    "$\\beta$ - вектор параметров  \n",
    "$x(z)$ - вектор регрессоров\n",
    "\n",
    "Альтернативная форма записи модели линейной регрессии:  \n",
    "$Y=X^\\intercal\\beta + \\epsilon$  \n",
    "$\\epsilon$ - вектор ошибок   \n",
    "\n",
    "Метод наименьщих квадратов(МНК):  \n",
    "$RSS(\\beta)=\\left\\| Y-X^{\\intercal}\\beta \\right\\|=(Y-X^{\\intercal}\\beta)^{\\intercal}\\cdot(Y-X^{\\intercal}\\beta)\\to min_\\beta$\n",
    "\n",
    "Нормальные уравнения:  \n",
    "$XX^{\\intercal}\\beta = XY$  \n",
    "\n",
    "Решение системы нормальных уравнений в регулярном случае:  \n",
    "$\\hat{\\beta}=(XX^{\\intercal})^{-1}XY$  \n",
    "\n",
    "Несмещённая оценка дисперсии:  \n",
    "$s^2 = \\frac{SS_e}{n-r} = \\frac{RSS(\\hat{\\beta})}{n-r}$  \n",
    "$r$-ранг матрицы X  \n",
    "\n",
    "Дно функции:  \n",
    "$\\psi(\\beta)=C^{\\intercal}\\beta$\n",
    "\n",
    "Предположения:  \n",
    "Классическое предположение:  \n",
    "$Y\\sim\\mathcal{N}(X^\\intercal\\beta,\\sigma^2E)$  \n",
    "Эквивалентное предположение об остатках:  \n",
    "$\\varepsilon \\sim \\mathcal{N}(0,\\sigma^2E)$ \n",
    "\n",
    "Доверительный интервал:  \n",
    "ДНО функции:  \n",
    "$\\psi=C^{\\intercal}\\beta$  \n",
    "МНК-оценка:  \n",
    "$\\widehat{\\psi}=C^{\\intercal}\\beta$  \n",
    "Элемент дисперсии оценки:  \n",
    "$b_{\\psi}=C^{\\intercal}(XX^{\\intercal})^{-1}C$  \n",
    "Распределение  \n",
    "$\\widehat{\\psi}\\sim \\mathcal{N}(\\psi,\\sigma^{2}b)$  \n",
    "\n",
    "$\\frac{\\widehat{\\psi}-\\psi}{s\\sqrt{b}}\\sim \\mathcal{S}_{n-r}$\n",
    "\n",
    "Доверительный интервал уровня доверия $1-\\alpha$:  \n",
    "$\\left[ \\widehat{\\psi} - x_{\\alpha}s\\sqrt{b};\\widehat{\\psi} + x_{\\alpha}s\\sqrt{b} \\right]$  \n",
    "$x_{\\alpha}: \\mathcal{S}_{n-r}(X_{\\alpha})=1-\\frac{\\alpha}{2}$\n",
    "\n",
    "Доверительный эллипсоид:  \n",
    "$b_\\psi = C^\\intercal(XX^\\intercal)^{-1}C$  \n",
    "Распределение:  \n",
    "$\\frac{\\left(\\hat{\\psi} - {\\psi}\\right)^\\intercal {b_\\psi}^{-1} \\left(\\hat{\\psi} - {\\psi}\\right)}{qS^2} \\sim \\mathcal{F}_{q,n-r}$  \n",
    "Доверительный эллипсоид:    \n",
    "$\\left\\{\\overrightarrow{x} : \\left(\\overrightarrow{x} - \\hat{\\psi}\\right)^\\intercal b_\\psi^{-1} \\left(\\overrightarrow{x} - \\hat{\\psi}\\right) \\le q S^2 x_\\alpha\\right\\}$  \n",
    "$x_\\alpha: \\mathcal{F}_{q, n-r}(x_\\alpha) = 1 - \\alpha$\n",
    "\n",
    "Проверка гипотез:  \n",
    "Основная гипотеза $H_0:\\psi=0$   \n",
    "Статистика:  \n",
    "$\\mathbb{F} = \\frac{SS_H/q}{SS_e/(n-r)}$  \n",
    "$SS_H = RSS(\\hat{\\beta}_H) - RSS(\\hat{\\beta})$  \n",
    "$\\hat{\\beta}_H$ - МНК оценка при выполнении основной гипотезы  \n",
    "$\\mathbb{F} \\sim \\mathcal{F}_{q,n-r}$  \n",
    "$x_\\alpha: \\mathcal{F}_{q, n-r}(x_\\alpha) = 1 - \\alpha$"
   ]
  },
  {
   "cell_type": "markdown",
   "id": "dfc6418a-32f5-4e6d-a83f-302e7f2a7215",
   "metadata": {
    "jp-MarkdownHeadingCollapsed": true
   },
   "source": [
    "## Постановка задачи\n",
    "Результаты статистического эксперимента представлены в виде двух переменных. Требуется оценить характер (случайной) зависимости переменной Y от переменной X. Полученные результаты содержательно проинтерпретировать."
   ]
  },
  {
   "cell_type": "markdown",
   "id": "09c562de-9253-4b6d-bb15-2dd645f5ff20",
   "metadata": {},
   "source": [
    "## Выполнение работы"
   ]
  },
  {
   "cell_type": "markdown",
   "id": "139e8b18-40eb-4d4f-9c06-fc9422b7ce0c",
   "metadata": {},
   "source": [
    "### 1.Построить графически результаты эксперимента. Сформулировать линейную регрессионную модель переменной $Y$ по переменной $X$. Построить МНК оценки параметров сдвига $\\beta_0$ и масштаба $\\beta_1$. Построить полученную линию регрессии. Оценить визуально соответствие полученных данных и построенной оценки."
   ]
  },
  {
   "cell_type": "code",
   "execution_count": 44,
   "id": "d4f3d996-04eb-4bdf-947b-f63d7f3b56aa",
   "metadata": {},
   "outputs": [
    {
     "data": {
      "image/png": "[encoded data removed]",
      "text/plain": [
       "<Figure size 640x480 with 1 Axes>"
      ]
     },
     "metadata": {},
     "output_type": "display_data"
    }
   ],
   "source": [
    "import numpy as np\n",
    "import matplotlib.pyplot as plt\n",
    "from scipy import stats \n",
    "#входные данные \n",
    "Y = np.array([6.19, 11.32, 0.68, 12.82, 9.26, 9.89, 4.08, 4.60, 7.30, 0.85, 2.77, 11.93, 8.91, 6.97, 8.21, 14.08, 0.97, 8.13, 13.48, 11.93, 4.79, 3.33, 10.07, 14.39, 2.41, 12.69, 14.76, 16.89, 2.20, 4.44, 8.47, 8.44, 11.00, 12.60, 1.75, 8.32, 9.49, 1.85, 15.57, 19.93, 16.95, 13.64, 6.96, 3.87, 9.10, 21.48, 27.39, 4.07, 15.71, 11.51])\n",
    "X = np.array([4, 1, 6, 3, 4, 3, 5, 5, 5, 3, 5, 5, 5, 3, 7, 3, 4, 3, 2, 5, 5, 4, 3, 2, 4, 3, 2, 5, 3, 5, 4, 3, 4, 3, 4, 3, 2, 3, 5, 6, 3, 4, 6, 4, 5, 4, 4, 3, 5, 4])\n",
    "alpha = 0.1\n",
    "h = 3.10\n",
    "plt.scatter(X,Y) #график результатов эксперемента  \n",
    "\n",
    "#построение МНК\n",
    "X_2 = np.array([np.ones(len(X)), X])\n",
    "inv_XX = np.linalg.inv(np.matmul(X_2,X_2.T))\n",
    "b = np.matmul(np.matmul(inv_XX, X_2), Y) \n",
    "\n",
    "temp = list(set(X))\n",
    "values = []\n",
    "for i in temp:\n",
    "    values.append(b[0]+b[1]*i)\n",
    "\n",
    "plt.plot(temp,values,color='g')#построение линии регрессии \n",
    "plt.show()"
   ]
  },
  {
   "cell_type": "markdown",
   "id": "e05bfedc-3e0d-4113-8294-a19bf74be887",
   "metadata": {},
   "source": [
    "Модель линейной регрессии не подходит для имеющихся данных"
   ]
  },
  {
   "cell_type": "markdown",
   "id": "5a94580b-f23e-4452-9da5-d15eb3e09554",
   "metadata": {},
   "source": [
    "### 2.Построить и интерпретировать несмещённую оценку дисперсии. На базе ошибок построить гистограмму с шагом h. Проверить гипотезу нормальности ошибок на уровне значимости $\\alpha $ по $\\chi^{2}$. Оценить расстояние полученной оценки до класса нормальных распределений по Колмогорову. Визуально оценить данный факт."
   ]
  },
  {
   "cell_type": "code",
   "execution_count": 45,
   "id": "a05fa770-4781-4be4-8f68-49ec8312e2c9",
   "metadata": {},
   "outputs": [
    {
     "name": "stdout",
     "output_type": "stream",
     "text": [
      "Несмещённая оценка дисперсии =33.961747023163234\n",
      "Реальные частоты:  [9, 8, 13, 9, 11]\n",
      "Ожидаемые частоты:  [4.792843169870801, 8.059386896696562, 10.279401710655737, 9.94512881669014, 13.75810149701035]\n",
      "Статистика хи-квадрат:  5.056265626548612\n",
      "x_alpha: 6.251388631170325\n",
      "Принимаем гипотезу\n",
      "Статистика Колмогорова: 0.34974134760407544\n",
      "x_alpha: 0.17307822563424255\n",
      "Оценка не соответствует нормальному распределению.\n"
     ]
    },
    {
     "data": {
      "image/png": "[encoded data removed]",
      "text/plain": [
       "<Figure size 640x480 with 1 Axes>"
      ]
     },
     "metadata": {},
     "output_type": "display_data"
    }
   ],
   "source": [
    "s2 = np.sum((Y - np.matmul(X_2.T,b))**2)/(len(X) - np.linalg.matrix_rank(X_2))\n",
    "print(f\"Несмещённая оценка дисперсии ={s2}\")\n",
    "mis = Y - np.matmul(X_2.T,b) # вычисление ошибок\n",
    "bins = np.arange(min(mis), max(mis) + h, h)\n",
    "plt.hist(mis, bins=bins,density= True) #гистограмма ошибок\n",
    "intervals = [[bins[0],bins[1]],[bins[1],bins[2]],[bins[2],bins[3]],[bins[3],bins[4]],[bins[i] for i in range(4,10)]]\n",
    "real_fr = []\n",
    "theor_fr = []\n",
    "def Count_frec(a,b,c,fr):#рассчёт реальных частот \n",
    "    counter = 0\n",
    "    for i in c:\n",
    "        if (i>=a) and (i<b):\n",
    "            counter+=1\n",
    "    fr.append(counter)\n",
    "def Exp_frec(a,b,i,fr):#рассчёт гипотетических частот \n",
    "    counter = 0\n",
    "    counter = len(mis)*(stats.norm.cdf(intervals[i][-1],0,np.sqrt(s2))-stats.norm.cdf(intervals[i][0],0,np.sqrt(s2)))\n",
    "    fr.append(counter)\n",
    "for i in range(len(intervals)):\n",
    "    Count_frec(intervals[i][0],intervals[i][-1],mis,real_fr)\n",
    "    Exp_frec(intervals[i][0],intervals[i][-1],i,theor_fr)\n",
    "\n",
    "print('Реальные частоты: ',real_fr)\n",
    "print('Ожидаемые частоты: ',theor_fr)\n",
    "\n",
    "for_chi = []\n",
    "for i in range(len(real_fr)):\n",
    "    number = (real_fr[i]-theor_fr[i])**2 / theor_fr[i]\n",
    "    for_chi.append(number)\n",
    "chi_square = np.sum(for_chi)\n",
    "print(\"Статистика хи-квадрат: \", chi_square)\n",
    "x_alpha_1 = stats.chi2.ppf(1 - alpha, df = len(real_fr) - 2)\n",
    "print(\"x_alpha:\", x_alpha_1)\n",
    "if chi_square > x_alpha_1:\n",
    "    result = \"Отвергаем гипотезу\"\n",
    "else:\n",
    "    result = \"Принимаем гипотезу\"\n",
    "print(result)\n",
    "\n",
    "#Нахождение статистики критерия Колмогорова  \n",
    "ks, _ = stats.kstest(mis, 'norm')\n",
    "print(\"Статистика Колмогорова:\", ks)\n",
    "x_alpha_0 = stats.kstwobign.ppf(1 - alpha) / np.sqrt(len(mis))\n",
    "print(\"x_alpha:\", x_alpha_0)\n",
    "if x_alpha_0 < ks:\n",
    "    print(\"Оценка не соответствует нормальному распределению.\")\n",
    "else:\n",
    "    print(\"Оценка соответствует нормальному распределению.\")\n",
    "\n",
    "#визуализация\n",
    "x_for_visual = np.linspace(min(mis), max(mis), 100)\n",
    "def y1(x,d):\n",
    "    return stats.norm.pdf(x,0, np.sqrt(d))\n",
    "y_for_visual = y1(x_for_visual,s2)    \n",
    "plt.plot(x_for_visual, y_for_visual,color='g') \n",
    "plt.show()"
   ]
  },
  {
   "cell_type": "markdown",
   "id": "df92f6a2-5a22-411c-a8b7-25e05717826a",
   "metadata": {},
   "source": [
    "### 3.В предположении нормальности ошибок построить доверительный интервал для параметров $\\beta_0,\\beta_1$ уровня доверия $1-\\alpha$. Построить доверительный эллипс уровня доверия $1-\\alpha$ для ($\\beta_0,\\beta_1$) (вычислить его полуоси)."
   ]
  },
  {
   "cell_type": "markdown",
   "id": "81129183-d764-46df-9ab4-7e09a2e44515",
   "metadata": {},
   "source": [
    "Доверительный интервал уровня доверия $1-\\alpha$ имеет вид:  \n",
    "$\\left[ \\widehat{\\psi} - x_{\\alpha}s\\sqrt{b};\\widehat{\\psi} + x_{\\alpha}s\\sqrt{b} \\right]$  \n",
    "$x_{\\alpha}: \\mathcal{S}_{n-r}(x_{\\alpha})=1-\\frac{\\alpha}{2}$"
   ]
  },
  {
   "cell_type": "code",
   "execution_count": 46,
   "id": "4d0bf356-ccf3-46c4-9e7d-d05e68cbe3a4",
   "metadata": {},
   "outputs": [
    {
     "name": "stdout",
     "output_type": "stream",
     "text": [
      "[6.444451627057873,15.790162922344948]\n"
     ]
    }
   ],
   "source": [
    "c = np.array([1 , 0])\n",
    "x_a = stats.t.ppf(1 - alpha/2, df = len(X) - np.linalg.matrix_rank(X_2))\n",
    "b_psi = np.matmul(np.matmul(c.T, inv_XX), c)\n",
    "left = b[0]-x_a * np.sqrt(s2)*np.sqrt(b_psi)\n",
    "right = b[0]+x_a * np.sqrt(s2)*np.sqrt(b_psi)\n",
    "print(f'[{left},{right}]')"
   ]
  },
  {
   "cell_type": "markdown",
   "id": "96517eec-9335-471f-9b53-ae9cb664ccb0",
   "metadata": {},
   "source": [
    "$\\left[6.444, 15.790\\right] \\ni \\beta_0$"
   ]
  },
  {
   "cell_type": "code",
   "execution_count": 47,
   "id": "e3a871bc-7e2d-4149-b440-8fabf2cc25d7",
   "metadata": {},
   "outputs": [
    {
     "name": "stdout",
     "output_type": "stream",
     "text": [
      "[-1.584753020474606,0.6926574721575617]\n"
     ]
    }
   ],
   "source": [
    "c = np.array([0 , 1])\n",
    "x_a = stats.t.ppf(1 - alpha/2, df = len(X) - np.linalg.matrix_rank(X_2))\n",
    "b_psi = np.matmul(np.matmul(c.T, inv_XX), c)\n",
    "left = b[1]-x_a * np.sqrt(s2)*np.sqrt(b_psi)\n",
    "right = b[1]+x_a * np.sqrt(s2)*np.sqrt(b_psi)\n",
    "print(f'[{left},{right}]')"
   ]
  },
  {
   "cell_type": "markdown",
   "id": "52397d13-90ac-4ff0-ba77-1dd81829c977",
   "metadata": {},
   "source": [
    "$\\left[-1.585, 0.693\\right] \\ni \\beta_1$"
   ]
  },
  {
   "cell_type": "code",
   "execution_count": 48,
   "id": "099233fb-7b79-4e6e-ae20-2fe3ea7ad78c",
   "metadata": {},
   "outputs": [
    {
     "name": "stdout",
     "output_type": "stream",
     "text": [
      "Доверительный эллипс имеет следующие полуоси : 6.289671225272528 и 0.4299795853926564\n"
     ]
    }
   ],
   "source": [
    "C = np.eye(2)\n",
    "B = np.matmul(C.T, inv_XX)\n",
    "B = np.matmul(B,C)\n",
    "B_inv = np.linalg.inv(B)\n",
    "q = len(b)\n",
    "x_alpha = stats.f.ppf(1-alpha, dfn=2, dfd=len(X) - np.linalg.matrix_rank(X_2))\n",
    "eigenvalues, _ = np.linalg.eig(B_inv)\n",
    "semi_axes = np.sqrt(1 / eigenvalues * (x_alpha * q * s2))\n",
    "print(f'Доверительный эллипс имеет следующие полуоси : {semi_axes[0]} и {semi_axes[1]}')"
   ]
  },
  {
   "cell_type": "markdown",
   "id": "96a3dfa5-e0ea-4c21-9292-da89af07e38a",
   "metadata": {},
   "source": [
    "### 4.Сформулировать гипотезу независимой переменной Y от переменной X. Провести проверку зависимости."
   ]
  },
  {
   "cell_type": "markdown",
   "id": "8ff3c34d-be57-4101-9da3-12b2c4a7f677",
   "metadata": {},
   "source": [
    "Основная гипотеза: $H_0 : \\psi = 0$"
   ]
  },
  {
   "cell_type": "code",
   "execution_count": 49,
   "id": "81109c3f-ed21-4050-b6d7-894fe2980e55",
   "metadata": {},
   "outputs": [
    {
     "name": "stdout",
     "output_type": "stream",
     "text": [
      "Статистика F = 655.4090612153341\n",
      "x_alpha = 2.416660110053031\n",
      "Отвергаем нулевую гипотезу\n"
     ]
    }
   ],
   "source": [
    "b_1_h = np.mean(Y)\n",
    "b_0_h = 0\n",
    "b_h = np.array([b_0_h,b_1_h]) \n",
    "q = 2\n",
    "RSSbh = np.sum((Y - np.matmul(X_2.T,b_h))**2)\n",
    "RSSb = np.sum((Y - np.matmul(X_2.T,b))**2)\n",
    "SS_H = RSSbh - RSSb\n",
    "F = SS_H / q / s2\n",
    "x_a = stats.f.ppf(1 - alpha, dfn=q, dfd=len(X) - np.linalg.matrix_rank(X_2))\n",
    "print(f\"Статистика F = {F}\")\n",
    "print(f\"x_alpha = {x_a}\")\n",
    "if F > x_a:\n",
    "    print(\"Отвергаем нулевую гипотезу\")\n",
    "else:\n",
    "    print(\"Не отвергаем нулевую гипотезу\") "
   ]
  },
  {
   "cell_type": "markdown",
   "id": "af2543c3-8717-49fc-a819-1c4c5f60231c",
   "metadata": {},
   "source": [
    "### 5.Сформулировать модель включающую доплнительный член с $X^2$.Построить МНК оценки параметров $\\beta_0,\\beta_1,\\beta_2$ в данной модели. Изобразить графически полученную регрессионную модель."
   ]
  },
  {
   "cell_type": "code",
   "execution_count": 50,
   "id": "7aa2bcb3-fa90-411b-af93-c9ddff34b3a3",
   "metadata": {},
   "outputs": [
    {
     "data": {
      "image/png": "[encoded data removed]",
      "text/plain": [
       "<Figure size 640x480 with 1 Axes>"
      ]
     },
     "metadata": {},
     "output_type": "display_data"
    }
   ],
   "source": [
    "X_3 = np.array([np.ones(len(X)), X, np.square(X)])\n",
    "inv_XX2 = np.linalg.inv(np.dot(X_3, X_3.T))\n",
    "b_2 = np.dot(np.dot(inv_XX2, X_3), Y)\n",
    "plt.scatter(X, Y)\n",
    "values_2 = []\n",
    "for i in temp:\n",
    "    values_2.append(b_2[0]+b_2[1]*i+b_2[2]*i**2)\n",
    "plt.plot(temp,values_2,color='g')\n",
    "plt.show()"
   ]
  },
  {
   "cell_type": "markdown",
   "id": "60109f2e-4485-4883-84ce-5d326d68c856",
   "metadata": {},
   "source": [
    "### 6.Построить несмещенную оценку дисперсии. Провести исследование нормальности ошибок как в пункте 2."
   ]
  },
  {
   "cell_type": "code",
   "execution_count": 51,
   "id": "1f9339ab-f7e2-43da-a0f8-6f32ca57d1c6",
   "metadata": {},
   "outputs": [
    {
     "name": "stdout",
     "output_type": "stream",
     "text": [
      "Несмещённая оценка дисперсии = 34.436016267284394\n",
      "Реальные частоты:  [8, 9, 14, 12, 7]\n",
      "Ожидаемые частоты:  [4.792843169870801, 8.059386896696562, 10.279401710655737, 9.94512881669014, 13.75810149701035]\n",
      "Статистика хи-квадрат:  7.346743418663172\n",
      "x_alpha_2 равен: 6.251388631170325\n",
      "Отвергаем гипотезу\n",
      "Статистика Колмогорова: 0.3778389061436861\n",
      "x_alpha: 0.17307822563424255\n",
      "Оценка не соответствует нормальному распределению.\n"
     ]
    },
    {
     "data": {
      "image/png": "[encoded data removed]",
      "text/plain": [
       "<Figure size 640x480 with 1 Axes>"
      ]
     },
     "metadata": {},
     "output_type": "display_data"
    }
   ],
   "source": [
    "s2_2 = np.sum((Y - np.matmul(X_3.T,b_2))**2)/(len(X) - np.linalg.matrix_rank(X_3))\n",
    "print(\"Несмещённая оценка дисперсии =\", s2_2)\n",
    "mis_2 = Y - np.matmul(X_3.T,b_2)#ошибки \n",
    "bins_2 = np.arange(min(mis_2), max(mis_2) + h, h)\n",
    "plt.hist(mis_2, bins=bins_2,density= True)#гистограмма ошибок\n",
    "intervals_2 = [[bins_2[0],bins_2[1]],[bins_2[1],bins_2[2]],[bins_2[2],bins_2[3]],[bins_2[3],bins_2[4],bins_2[5]],[bins_2[i] for i in range(5,10)]]\n",
    "real_fr_2 = []\n",
    "theor_fr_2 = []\n",
    "def Count_frec(a,b,c,fr):\n",
    "    counter = 0\n",
    "    for i in c:\n",
    "        if (i>=a) and (i<b):\n",
    "            counter+=1\n",
    "    fr.append(counter)\n",
    "def Exp_frec(a,b,i,fr):\n",
    "    counter = 0\n",
    "    counter = len(mis)*(stats.norm.cdf(intervals[i][-1],0,np.sqrt(s2))-stats.norm.cdf(intervals[i][0],0,np.sqrt(s2)))\n",
    "    fr.append(counter)\n",
    "for i in range(len(intervals_2)):\n",
    "    Count_frec(intervals_2[i][0],intervals_2[i][-1],mis_2,real_fr_2)\n",
    "    Exp_frec(intervals_2[i][0],intervals_2[i][-1],i,theor_fr_2)\n",
    "\n",
    "print('Реальные частоты: ',real_fr_2)\n",
    "print('Ожидаемые частоты: ',theor_fr_2)\n",
    "\n",
    "for_chi_2 = []\n",
    "for i in range(len(real_fr_2)):\n",
    "    number = (real_fr_2[i]-theor_fr_2[i])**2 / theor_fr_2[i]\n",
    "    for_chi_2.append(number)\n",
    "chi_square_2 = np.sum(for_chi_2)\n",
    "print(\"Статистика хи-квадрат: \", chi_square_2)\n",
    "\n",
    "x_alpha_2 = stats.chi2.ppf(1 - alpha, df = len(real_fr_2) - 2)\n",
    "print(\"x_alpha_2 равен:\", x_alpha_2)\n",
    "if chi_square_2 > x_alpha_2:\n",
    "    result = \"Отвергаем гипотезу\"\n",
    "else:\n",
    "    result = \"Принимаем гипотезу\"\n",
    "print(result)    \n",
    "\n",
    "ks, _ = stats.kstest(mis_2, 'norm')\n",
    "print(\"Статистика Колмогорова:\", ks)\n",
    "x_alpha_0 = stats.kstwobign.ppf(1 - alpha) / np.sqrt(len(mis))\n",
    "print(\"x_alpha:\", x_alpha_0)\n",
    "if x_alpha_0 < ks:\n",
    "    print(\"Оценка не соответствует нормальному распределению.\")\n",
    "else:\n",
    "    print(\"Оценка соответствует нормальному распределению.\")\n",
    "\n",
    "x_for_visual_2 = np.linspace(min(mis_2), max(mis_2), 100)\n",
    "y_for_visual_2 = y1(x_for_visual_2 ,s2_2)    \n",
    "plt.plot(x_for_visual_2, y_for_visual_2,color='g') \n",
    "plt.show()"
   ]
  },
  {
   "cell_type": "markdown",
   "id": "1d22955e-0360-48b5-af79-a1b3f407e52a",
   "metadata": {},
   "source": [
    "### 7.В предположении нормальности ошибок построить доверительные интервалы для параметров $\\beta_0,\\beta_1,\\beta_2$ уровня доверия $1-\\alpha$. Написать уравнение доверительного эллипсоида уровня доверия $1-\\alpha$."
   ]
  },
  {
   "cell_type": "markdown",
   "id": "2f80f428-efe4-4a18-8c6d-06ff134adb2e",
   "metadata": {},
   "source": [
    "Доверительный интервал уровня доверия $1-\\alpha$ имеет вид:  \n",
    "$\\left[ \\widehat{\\psi} - x_{\\alpha}s\\sqrt{b};\\widehat{\\psi} + x_{\\alpha}s\\sqrt{b} \\right]$  \n",
    "$x_{\\alpha}: \\mathcal{S}_{n-r}(x_{\\alpha})=1-\\frac{\\alpha}{2}$"
   ]
  },
  {
   "cell_type": "code",
   "execution_count": 52,
   "id": "493f171c-b25e-4347-bfb1-647b791fd925",
   "metadata": {},
   "outputs": [
    {
     "name": "stdout",
     "output_type": "stream",
     "text": [
      "[3.4465308454925374,25.836199661775076]\n"
     ]
    }
   ],
   "source": [
    "c = np.array([1 , 0, 0])\n",
    "x_a = stats.t.ppf(1 - alpha/2, df = len(X) - np.linalg.matrix_rank(X_3))\n",
    "b_psi = np.matmul(np.matmul(c.T, inv_XX2), c)\n",
    "left = b_2[0]-x_a * np.sqrt(s2_2)*np.sqrt(b_psi)\n",
    "right = b_2[0]+x_a * np.sqrt(s2_2)*np.sqrt(b_psi)\n",
    "print(f'[{left},{right}]')"
   ]
  },
  {
   "cell_type": "markdown",
   "id": "44d510ed-6073-4dc8-bc2f-0268252e74cc",
   "metadata": {},
   "source": [
    "$\\left[3.447, 25.836\\right] \\ni \\beta_0$"
   ]
  },
  {
   "cell_type": "code",
   "execution_count": 53,
   "id": "335a9926-4c4b-4ee7-b453-9db25435c29e",
   "metadata": {},
   "outputs": [
    {
     "name": "stdout",
     "output_type": "stream",
     "text": [
      "[-8.160704031308052,3.3537018965111507]\n"
     ]
    }
   ],
   "source": [
    "c = np.array([0 , 1, 0])\n",
    "x_a = stats.t.ppf(1 - alpha/2, df = len(X) - np.linalg.matrix_rank(X_3))\n",
    "b_psi = np.matmul(np.matmul(c.T, inv_XX2), c)\n",
    "left = b_2[1]-x_a * np.sqrt(s2_2)*np.sqrt(b_psi)\n",
    "right = b_2[1]+x_a * np.sqrt(s2_2)*np.sqrt(b_psi)\n",
    "print(f'[{left},{right}]')"
   ]
  },
  {
   "cell_type": "markdown",
   "id": "f49c434d-274a-4e11-9db0-89c1cb175dd5",
   "metadata": {},
   "source": [
    "$\\left[-8.161, 3.354\\right] \\ni \\beta_1$"
   ]
  },
  {
   "cell_type": "code",
   "execution_count": 54,
   "id": "097648f3-0ecd-4a52-a3b2-13788542f397",
   "metadata": {},
   "outputs": [
    {
     "name": "stdout",
     "output_type": "stream",
     "text": [
      "[-0.4637491184372908,0.9565233382197216]\n"
     ]
    }
   ],
   "source": [
    "c = np.array([0 , 0, 1])\n",
    "x_a = stats.t.ppf(1 - alpha/2, df = len(X) - np.linalg.matrix_rank(X_3))\n",
    "b_psi = np.matmul(np.matmul(c.T, inv_XX2), c)\n",
    "left = b_2[2]-x_a * np.sqrt(s2_2)*np.sqrt(b_psi)\n",
    "right = b_2[2]+x_a * np.sqrt(s2_2)*np.sqrt(b_psi)\n",
    "print(f'[{left},{right}]')"
   ]
  },
  {
   "cell_type": "markdown",
   "id": "eb1ee386-25bc-44c3-aa97-89bdcf510cf7",
   "metadata": {},
   "source": [
    "$\\left[-0.464, 0.957\\right] \\ni \\beta_2$"
   ]
  },
  {
   "cell_type": "code",
   "execution_count": 55,
   "id": "155ec19f-165d-4815-a51c-6df5618b2f04",
   "metadata": {},
   "outputs": [
    {
     "name": "stdout",
     "output_type": "stream",
     "text": [
      "Доверительный эллипс имеет следующие полуоси : 0.10709034072090569, 19.220612621784035, 1.983615171201907\n"
     ]
    }
   ],
   "source": [
    "C = np.eye(3)\n",
    "B = np.matmul(C.T, inv_XX2)\n",
    "B = np.matmul(B,C)\n",
    "B_inv = np.linalg.inv(B)\n",
    "q = len(b_2)\n",
    "x_alpha = stats.f.ppf(1-alpha, dfn=3, dfd=len(X) - np.linalg.matrix_rank(X_3))\n",
    "eigenvalues, _ = np.linalg.eig(B_inv)\n",
    "semi_axes = np.sqrt(1 / (eigenvalues / (x_alpha * q * s2_2)) )\n",
    "print(f'Доверительный эллипс имеет следующие полуоси : {semi_axes[0]}, {semi_axes[1]}, {semi_axes[2]}')"
   ]
  },
  {
   "cell_type": "markdown",
   "id": "04e4e39e-d1ff-453d-9d62-fe72e46852cd",
   "metadata": {},
   "source": [
    "### 8.Сформулировать гипотезу линейной регрессионной зависимости переменной Y от переменной X и проверить её значимость на уровне $\\alpha$."
   ]
  },
  {
   "cell_type": "markdown",
   "id": "b867676b-7720-4125-bb29-4d1bffe88063",
   "metadata": {},
   "source": [
    "Основная гипотеза: $H_0 : \\psi = 0$"
   ]
  },
  {
   "cell_type": "code",
   "execution_count": 56,
   "id": "f0e17e79-6af1-4e82-b528-edcccc9d5999",
   "metadata": {},
   "outputs": [
    {
     "name": "stdout",
     "output_type": "stream",
     "text": [
      "Статистика F = 0.1129737003537248\n",
      "x_alpha = 2.2041823911022664\n",
      "Не отвергаем нулевую гипотезу\n"
     ]
    }
   ],
   "source": [
    "b_0_h = b[0]\n",
    "b_1_h = b[1]\n",
    "b_2_h = 0\n",
    "b_h_2 = np.array([b_0_h,b_1_h,b_2_h])\n",
    "q = 3\n",
    "RSSbh = np.sum((Y - np.matmul(X_3.T,b_h_2))**2)\n",
    "RSSb = np.sum((Y - np.matmul(X_3.T,b_2))**2)\n",
    "SS_H = RSSbh - RSSb\n",
    "F = SS_H / q / s2_2\n",
    "x_a = stats.f.ppf(1 - alpha, dfn=q, dfd=len(X) - np.linalg.matrix_rank(X_3))\n",
    "print(f\"Статистика F = {F}\")\n",
    "print(f\"x_alpha = {x_a}\")\n",
    "if F > x_a:\n",
    "    print(\"Отвергаем нулевую гипотезу\")\n",
    "else:\n",
    "    print(\"Не отвергаем нулевую гипотезу\") "
   ]
  },
  {
   "cell_type": "markdown",
   "id": "5dbd9321-410f-475e-a441-270ffb7b0e38",
   "metadata": {},
   "source": [
    "## Выводы\n",
    "В ходе выполнения практической работы были изучены основы метода наименьших квадратов (МНК), который является стандартным методом для оценки параметров в линейной регрессии. Были получены знания о статистических свойствах МНК-оценок, а также о роли МНК в регрессионном анализе.оделей.\r\n",
    "\r\n",
    "В результате работы были сделаны выводы о характере зависимости в данных и о нормальности вектора ошибок. Эти выводыволяют нам лучше понять природу данных и применять соответствующие методы регрессионног анализа.\r\n",
    "\r\n",
    "В целом, выполнение этой практической рабоозволило нам понять и применить основные концепции МНК, доверительных эллипсов и эллипсоидов, а также проверки гипотез в регрессионном анализе."
   ]
  },
  {
   "cell_type": "code",
   "execution_count": null,
   "id": "08d7f9c5-d164-4873-8000-e699ae3b9ada",
   "metadata": {},
   "outputs": [],
   "source": []
  }
 ],
 "metadata": {
  "kernelspec": {
   "display_name": "Python 3 (ipykernel)",
   "language": "python",
   "name": "python3"
  },
  "language_info": {
   "codemirror_mode": {
    "name": "ipython",
    "version": 3
   },
   "file_extension": ".py",
   "mimetype": "text/x-python",
   "name": "python",
   "nbconvert_exporter": "python",
   "pygments_lexer": "ipython3",
   "version": "3.11.5"
  }
 },
 "nbformat": 4,
 "nbformat_minor": 5
}
