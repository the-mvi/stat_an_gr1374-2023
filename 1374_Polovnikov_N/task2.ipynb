{
 "cells": [
  {
   "cell_type": "markdown",
   "id": "8fb28d82",
   "metadata": {},
   "source": [
    "# Практическая работа №2: Классические методы математической статистики\n",
    "Выполнил студент гр. 1374 Половников Никита. Вариант №19"
   ]
  },
  {
   "cell_type": "markdown",
   "id": "8f294f98",
   "metadata": {},
   "source": [
    "## Цель работы\n",
    "Научится применять методы математической статистики для решения задач статистического анализа; сформировать навыки реализации методов с помощью прикладных программных пакетов."
   ]
  },
  {
   "cell_type": "markdown",
   "id": "7d631288",
   "metadata": {},
   "source": [
    "## Основные теоретические положения\n",
    "**Вариационный ряд** – ранжированный в порядке возрастания ряд.\n",
    "\n",
    "**Эмпирическая функция распределения** - это функция, которая определяет для каждого значения x частоту событий X<x и предназначена для оценке теоретической функции распределения генеральной совокупности.\n",
    "\n",
    "**Гистограмма частот** – это фигура, состоящая из прямоугольников, ширина которых равна длинам частичных интервалов, а высота – соответствующим плотностям частот.\n",
    "\n",
    "\n",
    "**Выборочный аналог математического ожидания - выборочное среднее:**\n",
    "$$\\overline{X} =\\frac{1}{n}\\sum_{i=1}^{n}x_i$$\n",
    "\n",
    "**Выборочный аналог дисперсии и СКО - выборочную дисперсию и выборочное СКО:**\n",
    "$$S^2 =\\frac{1}{n}\\sum_{i=1}^{n}\\left(x_i-\\overline{X}\\right)$$ \n",
    "\n",
    "$$S=\\sqrt{S^2}$$\n",
    "\n",
    "\n",
    "\n",
    "**Выборочный коэффициент асимметрии:**\n",
    "$$\\widehat{\\mathrm{Skew}}X=\\frac{1}{n}\\frac{\\sum \\limits_{i=1}^{n}\\left(x_i-\\overline{X}\\right)^3}{S^3}$$\n",
    "\n",
    "**Выборочный коэффициент эксцесса:**\n",
    "$$\\widehat{\\mathrm{Kurt}}X=\\frac{1}{n}\\frac{\\sum \\limits_{i=1}^{n}\\left(x_i-\\overline{X}\\right)^4}{S^4}-3$$\n",
    "\n",
    "**Метод максимального правдоподобия** - это метод оценивания неизвестного параметра путём максимизации функции правдоподобия $L(\\overrightarrow{X},\\theta)=\\prod_{i=1}^{n}P_{\\theta}(X_{i})$\n",
    "\n",
    "**Метод моментов** — метод оценки неизвестных параметров распределений, идея метода заключается в замене истинных соотношений выборочными аналогами.\n",
    "\n",
    "**Асиптотический доверительный интервал:** \n",
    "\n",
    "$\\left[ \\widehat{\\theta}(\\overrightarrow{X})-\\frac{X_{\\alpha}}{\\sqrt{n\\cdot I\\left( \\widehat{\\theta}(\\overrightarrow{X}) \\right)}};\\widehat{\\theta}(\\overrightarrow{X})+\\frac{X_{\\alpha}}{\\sqrt{n\\cdot I\\left( \\widehat{\\theta}(\\overrightarrow{X}) \\right)}} \\right]$\n",
    "\n",
    "**Статисктика Хи-квадрат:**  $\\chi^{2} = \\sum \\limits_{i=1}^{N} \\frac{(n_{i} - p_{i} n)^{2}}{n p_{i}} $\n",
    "\n",
    "**Статистика критерия Колмагорова:** $D_n = sup_{x \\in \\mathbb{R}}|F_n(x) - F_0(x)|$\n",
    "\n",
    "**Теорема Колмагорова:** $\\sqrt{n}D_n \\rightarrow K, при \\, основной \\, гипотезе$\n",
    "\n",
    "\n",
    "**Статистика отношений правдоподобия:**\n",
    "$LR(\\overrightarrow{X},\\theta_{1},\\theta_{0})=\\frac{L(\\overrightarrow{X},\\theta_{1})}{L(\\overrightarrow{X},\\theta_{0})}$\n",
    "\n",
    "$LR(\\overrightarrow{X},\\theta_{1},\\theta_{0}) > c=> принимаем\\, основную\\, гипотезу$\n",
    "\n",
    "$LR(\\overrightarrow{X},\\theta_{1},\\theta_{0}) < c => отвергаем\\, основную\\, гипотезу$"
   ]
  },
  {
   "cell_type": "markdown",
   "id": "10a95486",
   "metadata": {},
   "source": [
    "## Постановка задачи\n",
    "Для полученных в результате эксперимента наборов данных выполнить статистическую обработку. Полученные результаты содержательно проинтерпретировать."
   ]
  },
  {
   "cell_type": "markdown",
   "id": "7d575418",
   "metadata": {},
   "source": [
    "## Выполнение работы"
   ]
  },
  {
   "cell_type": "markdown",
   "id": "cded3b5d",
   "metadata": {},
   "source": [
    "### 1.a Построить вариационный ряд, эмпирическую функцию распределения и гистограмму частот."
   ]
  },
  {
   "cell_type": "code",
   "execution_count": 1,
   "id": "5df75894",
   "metadata": {},
   "outputs": [],
   "source": [
    "import pandas as pd\n",
    "import numpy as np\n",
    "import matplotlib.pyplot as plt\n",
    "import seaborn as sns"
   ]
  },
  {
   "cell_type": "code",
   "execution_count": 2,
   "id": "618fc0f4",
   "metadata": {},
   "outputs": [],
   "source": [
    "data = [7, 2, 2, 13, 4, 2, 1, 5, 2, 1, 5, 1, 0, 3, 18, 5, 9, 1, 1, 9, 4, 8, 6, 8, 2, 0, 6, 0, 5, 2, 1, 0, 2, 6, 5, 4, 8, 1, 11, 2, 1, 9, 3, 1, 5,\n",
    "0, 7, 10, 1, 16]"
   ]
  },
  {
   "cell_type": "code",
   "execution_count": 3,
   "id": "da6118f6",
   "metadata": {},
   "outputs": [
    {
     "data": {
      "text/plain": [
       "array([ 0,  0,  0,  0,  0,  1,  1,  1,  1,  1,  1,  1,  1,  1,  1,  2,  2,\n",
       "        2,  2,  2,  2,  2,  2,  3,  3,  4,  4,  4,  5,  5,  5,  5,  5,  5,\n",
       "        6,  6,  6,  7,  7,  8,  8,  8,  9,  9,  9, 10, 11, 13, 16, 18],\n",
       "      dtype=int64)"
      ]
     },
     "execution_count": 3,
     "metadata": {},
     "output_type": "execute_result"
    }
   ],
   "source": [
    "data.sort()\n",
    "var_ryad = np.array(data)\n",
    "var_ryad = var_ryad.astype('int64')\n",
    "var_ryad"
   ]
  },
  {
   "cell_type": "markdown",
   "id": "948380f2",
   "metadata": {},
   "source": [
    "Вариационный ряд:\n",
    " $$\\vec{X} = \\left(0,  0,  0,  0,  0,  1,  1,  1,  1,  1,  1,  1,  1,  1,  1,  2,  2,\n",
    "        2,  2,  2,  2,  2,  2,  3,  3,  4,  4,  4,  5,  5,  5,  5,  5,  5,\n",
    "        6,  6,  6,  7,  7,  8,  8,  8,  9,  9,  9, 10, 11, 13, 16, 18\\right)$$"
   ]
  },
  {
   "cell_type": "code",
   "execution_count": 4,
   "id": "f4d7c9a3",
   "metadata": {},
   "outputs": [
    {
     "data": {
      "image/png": "[encoded data removed]",
      "text/plain": [
       "<Figure size 640x480 with 1 Axes>"
      ]
     },
     "metadata": {},
     "output_type": "display_data"
    }
   ],
   "source": [
    "sns.ecdfplot(var_ryad)\n",
    "plt.title(\"Эмпирическая функция распределения\")\n",
    "plt.xlabel(\"x\")\n",
    "plt.ylabel(\"P\");"
   ]
  },
  {
   "cell_type": "code",
   "execution_count": 5,
   "id": "25d44f14",
   "metadata": {},
   "outputs": [
    {
     "data": {
      "text/plain": [
       "dict_values([0.1, 0.2, 0.16, 0.04, 0.06, 0.12, 0.06, 0.04, 0.06, 0.06, 0.02, 0.02, 0.02, 0.02, 0.02])"
      ]
     },
     "execution_count": 5,
     "metadata": {},
     "output_type": "execute_result"
    }
   ],
   "source": [
    "import collections\n",
    "\n",
    "result = collections.Counter(var_ryad)\n",
    "for i in result: result[i] = result[i]/50\n",
    "    \n",
    "result.values()"
   ]
  },
  {
   "cell_type": "code",
   "execution_count": 6,
   "id": "e1e91901",
   "metadata": {},
   "outputs": [
    {
     "data": {
      "image/png": "[encoded data removed]",
      "text/plain": [
       "<Figure size 640x480 with 1 Axes>"
      ]
     },
     "metadata": {},
     "output_type": "display_data"
    }
   ],
   "source": [
    "fig, ax = plt.subplots()\n",
    "bins = [x for x in range(int(min(var_ryad)), int(max(var_ryad)),2)]\n",
    "ax.hist(var_ryad, bins = bins, density= True)\n",
    "plt.title(\"Гистограмма ошибок\")\n",
    "plt.show()"
   ]
  },
  {
   "cell_type": "markdown",
   "id": "af3e22c2",
   "metadata": {},
   "source": [
    "### 1.b Вычислить выборочные аналоги следующих числовых характеристик:"
   ]
  },
  {
   "cell_type": "code",
   "execution_count": 7,
   "id": "2dda26ea",
   "metadata": {},
   "outputs": [
    {
     "name": "stdout",
     "output_type": "stream",
     "text": [
      "E 4.5 \n",
      " D 17.13 \n",
      " std 4.1388404173149755 \n",
      " medain 3.5 \t 3 4 \n",
      " skew 1.2592679123105548 \n",
      " kurt 1.3807118327654093 \n",
      "\n",
      "P dict_items([(0, 0.1), (1, 0.2), (2, 0.16), (3, 0.04), (4, 0.06), (5, 0.12), (6, 0.06), (7, 0.04), (8, 0.06), (9, 0.06), (10, 0.02), (11, 0.02), (13, 0.02), (16, 0.02), (18, 0.02)])\n"
     ]
    }
   ],
   "source": [
    "from scipy import stats as sp\n",
    "print('E', np.mean(var_ryad),'\\n',\n",
    "      'D', np.var(var_ryad),'\\n',\n",
    "      'std', np.std(var_ryad), '\\n',\n",
    "      'medain', np.median(var_ryad), '\\t', var_ryad[24], var_ryad[25], '\\n',\n",
    "      'skew', sp.skew(var_ryad), '\\n',\n",
    "      'kurt', sp.kurtosis(var_ryad), '\\n')\n",
    "print('P', result.items())"
   ]
  },
  {
   "cell_type": "markdown",
   "id": "afd2d749",
   "metadata": {},
   "source": [
    "Выборочный аналог математического ожидания - выборочное среднее:\n",
    "$$\\overline{X} =\\frac{1}{n}\\sum_{i=1}^{n}x_i= 4.5$$\n",
    "\n",
    "Выборочный аналог дисперсии и СКО - выборочную дисперсию и выборочное СКО: \n",
    "$$S^2 =\\frac{1}{n}\\sum_{i=1}^{n}\\left(x_i-\\overline{X}\\right)=17.13$$ \n",
    "$$S=\\sqrt{S^2}=4.14$$\n",
    "\n",
    "Выборочная медиана: <br><br>\n",
    "$$np = 50\\cdot\\frac{1}{2}=25\\in \\mathbb Z \\Rightarrow \\large z_{50,\\frac{1}{2}} = \\normalsize \\left[ X_{(25)},X_{(26)} \\right) = 3.5$$\n",
    "\n",
    "Выборочный коэффициент асимметрии: \n",
    "$$\\mathrm{Skew}=\\frac{1}{n}\\frac{\\sum \\limits_{i=1}^{n}\\left(x_i-\\overline{X}\\right)^3}{S^3} = 1.26$$\n",
    "\n",
    "Выборочный коэффициент эксцесса:\n",
    "$$\\mathrm{Kurt}=\\frac{1}{n}\\frac{\\sum \\limits_{i=1}^{n}\\left(x_i-\\overline{X}\\right)^4}{S^4}-3 = 1.38$$"
   ]
  },
  {
   "cell_type": "code",
   "execution_count": 8,
   "id": "7ac41e62",
   "metadata": {},
   "outputs": [
    {
     "name": "stdout",
     "output_type": "stream",
     "text": [
      "Вероятность Р(х = a) =  0.46\n",
      "Вероятность Р(х = b) =  0.78\n",
      "Вероятность:  0.32\n"
     ]
    }
   ],
   "source": [
    "def F(x):\n",
    "    sum_i = 0\n",
    "    for i in var_ryad:\n",
    "        if i < x:\n",
    "            sum_i += 1\n",
    "    return sum_i/len(var_ryad)\n",
    "\n",
    "\n",
    "a = 2.81\n",
    "b = 7.19\n",
    "\n",
    "print(\"Вероятность Р(х = a) = \" , F(a))\n",
    "print(\"Вероятность Р(х = b) = \" , F(b))\n",
    "print(\"Вероятность: \", F(b) - F(a))"
   ]
  },
  {
   "cell_type": "markdown",
   "id": "2c58c908",
   "metadata": {},
   "source": [
    "\n",
    "Выборочный аналог $\\mathbb{P}\\left(x \\in \\left[a, b\\right]\\right)$, a = 2.81, b = 7.19:\n",
    "\n",
    "$$\\mathbb{P}\\left(x \\in \\left[a, b\\right]\\right) = \\mathrm{F}(b) - \\mathrm{F}(a) = 0.78 - 0.46 = 0.32$$\n"
   ]
  },
  {
   "cell_type": "markdown",
   "id": "bbe5e8a9",
   "metadata": {},
   "source": [
    "### 1.c В предположении, что исходные наблюдения являются выборкой из распределения Пуассона, построить оценку максимального правдоподобия параметра $\\lambda$, а также оценку $\\lambda$ по методу моментов. Найти смещение оценок.\n",
    "\n",
    "**Плотность распределения пуассона**: \n",
    "$$\\large q_{\\theta} = \\frac{\\lambda^x}{x!}e^{-\\lambda}$$\n",
    "\n",
    "***Оценка максимального правдоподобия:***\n",
    "$ L\\left(\\vec{X}, \\theta \\right) =\\prod\\limits_{i = 1}^n q_{\\theta}\\left(\\normalsize x_i\\right)=\\prod\\limits_{i = 1}^n\\frac{\\lambda^{x_i}}{x_i!}e^{-\\lambda} = \\large \\lambda^{\\sum \\limits_{i=1}^{n}x_i} \\cdot e^{-n\\lambda} \\cdot \\prod\\limits_{i = 1}^n\\frac{1}{x_i!}$ \n",
    "\n",
    "$LL\\left(\\vec{X}, \\theta \\right) = \\sum \\limits_{i=1}^{n}x_i \\cdot \\ln{\\lambda} - n\\lambda + \\ln{\\prod\\limits_{i = 1}^n\\frac{1}{\\large x_i!}}$ \n",
    "\n",
    "$\\Large \\frac{\\partial LL}{\\partial \\lambda} = \\frac{\\sum \\limits_{i=1}^{n}x_i}{\\lambda} \\normalsize - n = 0 \\Rightarrow \\widehat{\\theta} = \\widehat{\\lambda} = \\overline{X}$ - ОМП\n",
    "\n",
    "$\\large \\mathbb{E}_{\\theta}\\widehat{\\theta} = \\mathbb{E}_{\\theta}\\overline{X} = \\mathbb{E}_{\\theta}\\frac{1}{n}\\sum \\limits_{i=1}^{n}x_i = \\frac{1}{n} \\cdot \\normalsize n \\cdot \\lambda = \\lambda \\Rightarrow$ несмещённая оценка. \n",
    "\n",
    "***Оценка методом моментов:***<br><br>\n",
    "$\\mathbb{E}X = \\lambda$ - математическое ожидание (теоретическая величина)\n",
    "$\\mathrm{M} = \\overline{X}$ - выборочное среднее (выборочная величина)\n",
    "Следовательно, $\\widetilde{\\theta} = \\widetilde{\\lambda} = \\overline{X}$\n",
    "\n",
    "$\\large \\mathbb{E}_{\\theta}\\widetilde{\\theta} = \\mathbb{E}_{\\theta}\\overline{X} = \\mathbb{E}_{\\theta}\\frac{1}{n}\\sum \\limits_{i=1}^{n}x_i = \\frac{1}{n} \\cdot \\normalsize n \\cdot \\lambda = \\lambda \\Rightarrow$ несмещённая оценка.\n"
   ]
  },
  {
   "cell_type": "markdown",
   "id": "4b34dc8e",
   "metadata": {},
   "source": [
    "### 1.d Построить асимптотичексий доверительный интервал уровня значимости $\\alpha_1$ для параметра $\\lambda$ на базе оценки максимального правдоподобия. <br>\n",
    " $\\alpha_1 = 0.10$ \n",
    " \n",
    " **Плотность распределения пуассона:**:\n",
    " \n",
    "$$\\large q_{\\theta} = \\frac{\\lambda^x}{x!}e^{-\\lambda}$$\n",
    "$\\widehat{\\theta} = \\widehat{\\lambda} = \\overline{X}$\n",
    "\n",
    "Из пункта 1.с:\n",
    "\n",
    "$\\Large \\frac{\\partial LL}{\\partial \\lambda} = \\frac{\\sum \\limits_{i=1}^{n}x_i}{\\lambda} \\normalsize - n$\n",
    "\n",
    "$\\Large \\frac{\\partial^2 LL}{\\partial \\lambda^2} = \\normalsize - \\Large \\frac{\\sum \\limits_{i=1}^{n}x_i}{\\lambda^2}$\n",
    "\n",
    "$\\mathrm{I}_n(\\lambda) = - \\large \\mathbb{E}_{\\theta}\\frac{\\partial^2 LL}{\\partial \\lambda^2} = \\mathbb{E}_{\\theta} \\left(\\frac{\\sum \\limits_{i=1}^{n}x_i}{\\lambda^2}\\right) = \\frac{1}{\\lambda^2}\\sum \\limits_{i=1}^{n}\\mathbb{E}_{\\theta}x_i = \\frac{1}{\\lambda^2} \\cdot n \\cdot \\lambda = \\Large \\frac{n}{\\lambda}$  \n",
    "\n",
    "**Квантили:** \n",
    "\n",
    "Так как распределение симметричное: <br><br>\n",
    "$x_{\\alpha} : \\mathrm{\\Phi}(x_{\\alpha}) = 1 - \\frac{\\alpha}{2} = 1 - \\frac{0.1}{2} = 0.95$, где $\\alpha = \\alpha_1 = 0.1$\n",
    "\n",
    "\n",
    "$\\mathrm{\\Phi}(x_{\\alpha}) = 0.95 \\Rightarrow x_{\\alpha} = 1.65$ \n",
    "\n",
    "*Асимптотический доверительный интервал:* \n",
    "$\\left[\\overline{X} - \\sqrt{\\frac{\\overline{X}}{n}} \\cdot x_{\\alpha} , \\overline{X} + \\sqrt{\\frac{\\overline{X}}{n}} \\cdot x_{\\alpha}\\right] \\ni \\lambda$"
   ]
  },
  {
   "cell_type": "code",
   "execution_count": 9,
   "id": "2aa4af09",
   "metadata": {},
   "outputs": [
    {
     "name": "stdout",
     "output_type": "stream",
     "text": [
      "4.005 4.995\n"
     ]
    }
   ],
   "source": [
    "x_alpha = 1.65\n",
    "\n",
    "left = var_ryad.mean() - x_alpha * (var_ryad.mean() / len(var_ryad))**0.5\n",
    "right = var_ryad.mean() + x_alpha * (var_ryad.mean() / len(var_ryad))**0.5 \n",
    "\n",
    "print(left, right)"
   ]
  },
  {
   "cell_type": "markdown",
   "id": "3676b6a8",
   "metadata": {},
   "source": [
    "Таким образом, АДИ уровня значимости $\\alpha_1$ для параметра $\\lambda$: \n",
    "\n",
    "$$\\left[4.005, 4.995\\right] \\ni \\lambda$$"
   ]
  },
  {
   "cell_type": "markdown",
   "id": "311b1c21",
   "metadata": {},
   "source": [
    "### 1.е Используя гистограмму частот, построить критерий значимости $\\chi^2$ проверки простой гипотезы согласия с распределением Пуассона с параметром $\\lambda_0 = 7$. Проверить гипотезу на уровне значимости $\\alpha_1 = 0.1$. Вычислить наибольшее значение уровня значимости, на котором ещё нет оснований отвергнуть данную гипотезу.\n",
    "\n",
    "\n",
    "Расммотрим $\\mathbb{P}_{k} = \\mathbb{P}_{\\theta}\\left(x_i \\in G_k\\right) = \\sum \\limits_{x \\in G_k} q_{\\theta}(x)$ <br><br>\n",
    "\n",
    "\n",
    "Из таблицы: $\\chi_{k-1, \\alpha_1}^2 = \\chi_{3, 0.1}^2 =  6.25$ \n",
    "\n",
    "Получили: $\\chi^2 = 116.73$\n",
    "\n",
    "Так как $\\chi^2 > \\chi_{3, 0.1}^2$ , то гипотезу отвергаем \n",
    "\n",
    "Наибольшее значение уровня значимости, при котором ещё нет оснований отвергнуть данную гипотезу, близко к нулю."
   ]
  },
  {
   "cell_type": "code",
   "execution_count": 10,
   "id": "583fdf34",
   "metadata": {},
   "outputs": [
    {
     "name": "stdout",
     "output_type": "stream",
     "text": [
      "25 9 5 11\n",
      "0.962519087541893\n",
      "0.08 4.088270812236081\n",
      "0.22 10.947142996481968\n",
      "0.3 14.900277967433789\n",
      "0.36 18.19026260094281\n",
      "116.73\n",
      "x_alpha_1 равен: 6.251388631170325\n",
      "p-value =  0.0\n"
     ]
    }
   ],
   "source": [
    "import math\n",
    "import scipy.stats as sp\n",
    "\n",
    "lambda_0 = 7\n",
    "intervals = [[0,1,2,3], [4,5], [6,7], [8,9,10,11, 13, 16, 18]]\n",
    "var_freq = [5, 10, 8, 2, 3, 6, 3, 2, 3, 3, 1, 1, 1, 1, 1]\n",
    "var_uniq = [0, 1, 2, 3, 4, 5, 6, 7, 8, 9, 10, 11, 13, 16, 18]\n",
    "\n",
    "\n",
    "exp_lambda = math.exp(-lambda_0)\n",
    "\n",
    "n = len(var_ryad)\n",
    "\n",
    "n_1 = var_freq[0] + var_freq[1] + var_freq[2] + var_freq[3]\n",
    "n_2 = var_freq[4] + var_freq[5] \n",
    "n_3 = var_freq[6] + var_freq[7]\n",
    "n_4 = var_freq[8] + var_freq[9] + var_freq[10] + var_freq[11] + var_freq[12] + var_freq[13] + var_freq[14]\n",
    "\n",
    "print(n_1, n_2, n_3, n_4)\n",
    "#вычисление значений вероятностей\n",
    "\n",
    "P1 = (lambda_0**var_uniq[0] / math.factorial(var_uniq[0]) + lambda_0**var_uniq[1] / math.factorial(var_uniq[1]) +\n",
    "      lambda_0**var_uniq[2] / math.factorial(var_uniq[2]) + lambda_0**var_uniq[3] / math.factorial(var_uniq[3]))*exp_lambda \n",
    "P2 = (lambda_0**var_uniq[4] / math.factorial(var_uniq[4]) + lambda_0**var_uniq[5] / math.factorial(var_uniq[5]))*exp_lambda \n",
    "P3 = (lambda_0**var_uniq[6] / math.factorial(var_uniq[6]) + lambda_0**var_uniq[7] / math.factorial(var_uniq[7]))*exp_lambda \n",
    "P4 = (lambda_0**var_uniq[8] / math.factorial(var_uniq[8]) + lambda_0**var_uniq[9] / math.factorial(var_uniq[9]) + lambda_0**var_uniq[10] / math.factorial(var_uniq[10]) + lambda_0**var_uniq[11] / math.factorial(var_uniq[11]) + lambda_0**var_uniq[12] / math.factorial(var_uniq[12]) +\n",
    "      lambda_0**var_uniq[13] / math.factorial(var_uniq[13])+ lambda_0**var_uniq[14] / math.factorial(var_uniq[14]))*exp_lambda \n",
    "\n",
    "print(P1+P2+P3+P4)\n",
    "print(round(P1, 2), 50*P1)\n",
    "print(round(P2, 2), 50*P2)\n",
    "print(round(P3, 2), 50*P3)\n",
    "print(round(P4, 2), 50*P4)\n",
    "\n",
    "    \n",
    "#вычисление критерия хи квадрат\n",
    "chi = ((n_1 - n*P1)**2) / (n*P1) + ((n_2 - n*P2)**2) / (n*P2) + ((n_3 - n*P3)**2) / (n*P3) + ((n_4 - n*P4)**2) / (n*P4)\n",
    "print(round(chi, 2))\n",
    "\n",
    "print(\"x_alpha_1 равен:\", sp.chi2.ppf(1 - 0.1, df = 4-1))\n",
    "\n",
    "print('p-value = ', 1 - sp.chi2.cdf(116.73, 3))"
   ]
  },
  {
   "cell_type": "markdown",
   "id": "53d0480b",
   "metadata": {},
   "source": [
    "### 1.f Построить критерий значимости $\\chi^2$ проверки сложной гипотезы согласия с распределением Пуассона. Проверить гипотезу на уровне значимости $\\alpha_1 = 0.1$. Вычислить наибольшее значение уровня значимости, на котором ещё нет оснований отвергнуть данную гипотезу.\n",
    "\n",
    "\n",
    "Расммотрим $\\mathbb{P}_{k} = \\mathbb{P}_{\\theta}\\left(x_i \\in G_k\\right) = \\sum \\limits_{x \\in G_k} q_{\\theta}(x)$ \n",
    "\n",
    "\n",
    "Из таблицы: $\\chi_{k-1-1, \\alpha_1}^2 = \\chi_{2, 0.1}^2 =  4.61 $\n",
    "\n",
    "Получим: $\\chi^2 = 21.85$\n",
    "\n",
    "Так как $\\chi^2 > \\chi_{2, 0.1}^2$ , то гипотезу отвергаем \n",
    "\n",
    "Наибольшее значение уровня значимости, при котором ещё нет оснований отвергнуть данную гипотезу близко к нулю."
   ]
  },
  {
   "cell_type": "code",
   "execution_count": 11,
   "id": "0ac7c0be",
   "metadata": {},
   "outputs": [
    {
     "name": "stdout",
     "output_type": "stream",
     "text": [
      "25 9 5 11\n",
      "0.9981652729231195\n",
      "0.34 17.11479779172955\n",
      "0.36 18.031723951311818\n",
      "0.21 10.524154674590825\n",
      "0.08 4.23758722852378\n",
      "21.85\n",
      "x_alpha_1 равен: 4.605170185988092\n",
      "p-value =  1.8002498574642978e-05\n"
     ]
    }
   ],
   "source": [
    "import math\n",
    "lambda_0 = 7\n",
    "intervals = [[0,1,2,3], [4,5], [6,7], [8,9,10,11, 13, 16, 18]]\n",
    "\n",
    "\n",
    "E = np.mean(var_ryad)\n",
    "exp_E = math.exp(-E)\n",
    "\n",
    "n = len(var_ryad)\n",
    "\n",
    "n_1 = var_freq[0] + var_freq[1] + var_freq[2] + var_freq[3]\n",
    "n_2 = var_freq[4] + var_freq[5] \n",
    "n_3 = var_freq[6] + var_freq[7]\n",
    "n_4 = var_freq[8] + var_freq[9] + var_freq[10] + var_freq[11] + var_freq[12] + var_freq[13] + var_freq[14]\n",
    "\n",
    "print(n_1, n_2, n_3, n_4)\n",
    "#вычисление значений вероятностей\n",
    "\n",
    "P1 = (E**var_uniq[0] / math.factorial(var_uniq[0]) + E**var_uniq[1] / math.factorial(var_uniq[1]) +\n",
    "      E**var_uniq[2] / math.factorial(var_uniq[2]) + E**var_uniq[3] / math.factorial(var_uniq[3]))*exp_E \n",
    "P2 = (E**var_uniq[4] / math.factorial(var_uniq[4]) + E**var_uniq[5] / math.factorial(var_uniq[5]))*exp_E \n",
    "P3 = (E**var_uniq[6] / math.factorial(var_uniq[6]) + E**var_uniq[7] / math.factorial(var_uniq[7]))*exp_E \n",
    "P4 = (E**var_uniq[8] / math.factorial(var_uniq[8]) + E**var_uniq[9] / math.factorial(var_uniq[9]) + E**var_uniq[10] / math.factorial(var_uniq[10]) + E**var_uniq[11] / math.factorial(var_uniq[11]) + E**var_uniq[12] / math.factorial(var_uniq[12]) +\n",
    "      E**var_uniq[13] / math.factorial(var_uniq[13])+ E**var_uniq[14] / math.factorial(var_uniq[14]))*exp_E \n",
    "\n",
    "print(P1+P2+P3+P4)\n",
    "print(round(P1, 2), 50*P1)\n",
    "print(round(P2, 2), 50*P2)\n",
    "print(round(P3, 2), 50*P3)\n",
    "print(round(P4, 2), 50*P4)\n",
    "    \n",
    "#вычисление критерия хи квадрат\n",
    "chi = ((n_1 - n*P1)**2) / (n*P1) + ((n_2 - n*P2)**2) / (n*P2) + ((n_3 - n*P3)**2) / (n*P3) + ((n_4 - n*P4)**2) / (n*P4)\n",
    "print(round(chi, 2))\n",
    "\n",
    "print(\"x_alpha_1 равен:\", sp.chi2.ppf(1 - 0.1, df = 4-1-1))\n",
    "print('p-value = ', 1 - sp.chi2.cdf(21.85, 2))"
   ]
  },
  {
   "cell_type": "markdown",
   "id": "ae4b714e",
   "metadata": {},
   "source": [
    "### 1.g Построить наиболее мощный критерий проверки простой гипотезы пуассоновости с параметром $\\lambda_0 = 7$ при альтернативе пуассоновости с параметром $\\lambda_1 = 4$.  Проверить гипотезу на уровне значимости $\\alpha_1 = 0.1$. Что получится, если поменять местами  основную и альтернативную гипотезы? "
   ]
  },
  {
   "cell_type": "markdown",
   "id": "4485375e",
   "metadata": {},
   "source": [
    " $ H_ {0} :  \\lambda  =  \\lambda _ {0} $ \n",
    " \n",
    " $ H_ {1} :  \\lambda  =  \\lambda _ {1} $ \n",
    " \n",
    "Cтатистическое отношение правдоподобия:\n",
    "\n",
    "$$LR(\\overrightarrow{X},\\lambda_{1},\\lambda_{0}) = \\left(\\frac{\\lambda_{1}}{\\lambda_{0}}\\right)^{\\sum_{i=1}^{50}X_{i}} \\cdot exp^{-n\\cdot \\lambda_{1} + n\\cdot \\lambda_{0} }$$\n",
    "\n",
    "$LR(\\overrightarrow{X},\\lambda_{0},\\lambda_{1})\\gt c\\Leftrightarrow \\overline{X}\\gt c$\n",
    "\n",
    "$\\sqrt{n}\\frac{\\overline{X}-\\lambda_{0}}{\\sqrt{\\overline{X}}}\\sim N(0,1)$\n",
    "\n",
    "$P\\left(\\sqrt{n}\\frac{\\overline{X}-\\lambda_{0}}{\\sqrt{\\overline{X}}} \\right)\\gt \\sqrt{n}\\frac{\\overline{X}-\\lambda_{0}}{\\sqrt{\\overline{X}}}=1-\\Phi\\left(\\sqrt{n}\\frac{\\overline{X}-\\lambda_{0}}{\\sqrt{\\overline{X}}} \\right)=\\alpha_{1}$\n",
    "\n",
    "$\\Phi\\left(\\sqrt{n}\\frac{\\overline{X}-\\lambda_{0}}{\\sqrt{\\overline{X}}} \\right)=1-\\alpha_{1}=0.9$\n",
    "\n",
    "$\\sqrt{n}\\frac{\\overline{X}-\\lambda_{0}}{\\sqrt{\\overline{X}}}\\gt \\sqrt{n}\\frac{c-\\lambda_{0}}{\\sqrt{\\overline{X}}} = 1.29\\to c=7.387$\n",
    "\n",
    "$$ \\phi(x) =\\left\\{\n",
    "  \\begin{array}{l}\n",
    "    1, LR(x) > 7.387 \\\\\n",
    "    p, LR(x) = 7.387\\\\\n",
    "    0, LR(x) < 7.387\\\\\n",
    "  \\end{array}\\right.$$\n",
    "\n",
    "   $$ c=7.387\\gt \\overline{X} = 4.5 \\to отвергаем\\,гипотезу$$"
   ]
  },
  {
   "cell_type": "code",
   "execution_count": 12,
   "id": "936bf637",
   "metadata": {},
   "outputs": [
    {
     "name": "stdout",
     "output_type": "stream",
     "text": [
      "с_1 = 7.3870000000000005\n",
      "с_2 = 4.3870000000000005\n"
     ]
    }
   ],
   "source": [
    "print('с_1 =', 1.29*np.sqrt(np.mean(var_ryad))/np.sqrt(50)+7)\n",
    "print('с_2 =', 1.29*np.sqrt(np.mean(var_ryad))/np.sqrt(50)+4)"
   ]
  },
  {
   "cell_type": "markdown",
   "id": "61d41f6b",
   "metadata": {},
   "source": [
    "**Меняем местами основную и альтернативную гипотезу:**\n",
    "\n",
    "$H_{0}=\\lambda_{1}$\n",
    "\n",
    "$H_{1}=\\lambda_{0}$\n",
    "\n",
    "Cтатистическое отношение правдоподобия:\n",
    "\n",
    "$$LR(\\overrightarrow{X},\\lambda_{0},\\lambda_{1}) = \\left(\\frac{\\lambda_{0}}{\\lambda_{1}}\\right)^{\\sum_{i=1}^{50}X_{i}} \\cdot exp^{-n\\cdot \\lambda_{0} + n\\cdot \\lambda_{1} }$$\n",
    "\n",
    "$LR(\\overrightarrow{X},\\lambda_{1},\\lambda_{0})\\gt c\\Leftrightarrow \\overline{X}\\gt c$\n",
    "\n",
    "$\\sqrt{n}\\frac{\\overline{X}-\\lambda_{1}}{\\sqrt{\\overline{X}}}\\sim N(0,1)$\n",
    "\n",
    "$P\\left(\\sqrt{n}\\frac{\\overline{X}-\\lambda_{1}}{\\sqrt{\\overline{X}}} \\right)\\gt \\sqrt{n}\\frac{\\overline{X}-\\lambda_{1}}{\\sqrt{\\overline{X}}}=1-\\Phi\\left(\\sqrt{n}\\frac{\\overline{X}-\\lambda_{1}}{\\sqrt{\\overline{X}}} \\right)=\\alpha_{1}$\n",
    "\n",
    "$\\Phi\\left(\\sqrt{n}\\frac{\\overline{X}-\\lambda_{1}}{\\sqrt{\\overline{X}}} \\right)=1-\\alpha_{1}=0.9$\n",
    "\n",
    "$\\sqrt{n}\\frac{\\overline{X}-\\lambda_{1}}{\\sqrt{\\overline{X}}}\\gt \\sqrt{n}\\frac{c-\\lambda_{1}}{\\sqrt{\\overline{X}}} = 1.29\\to c=4.387$\n",
    "\n",
    "$$ \\phi(x) =\\left\\{\n",
    "  \\begin{array}{l}\n",
    "    1, LR(x) > 4.387 \\\\\n",
    "    p, LR(x) = 4.387\\\\\n",
    "    0, LR(x) < 4.387\\\\\n",
    "  \\end{array}\\right.$$\n",
    "\n",
    "   $$ c=4.387 < \\overline{X} = 4.5 \\to принимаем\\,гипотезу$$"
   ]
  },
  {
   "cell_type": "markdown",
   "id": "4106c9b3",
   "metadata": {},
   "source": [
    "### 1h.c В предположении, что исходные наблюдения являются выборкой из геометрического распределения , построить оценку максимального правдоподобия параметра $\\lambda$, а также оценку $\\lambda$ по методу моментов. Найти смещение оценок.\n",
    "\n",
    "**Плотность геометрического распределения**: \n",
    "$$\\large q_{\\theta} = \\frac{\\lambda^x}{({\\lambda+1})^{x+1}}$$\n",
    "\n",
    "***Оценка максимального правдоподобия:***\n",
    "$ L\\left(\\vec{X}, \\theta \\right) =\\prod\\limits_{i = 1}^n q_{\\theta}\\left(\\normalsize x_i\\right)=\\prod\\limits_{i = 1}^n\\frac{\\lambda^{x_i}}{x_i!}e^{-\\lambda} = \\large \\frac{\\lambda^{\\sum \\limits_{i=1}^{n}x_i}}{(\\lambda+1)^{\\sum \\limits_{i=1}^{n}x_i + n}} $\n",
    "\n",
    "$LL\\left(\\vec{X}, \\theta \\right) = \\sum \\limits_{i=1}^{n}x_i \\cdot \\ln{\\lambda} - (\\sum \\limits_{i=1}^{n}x_i + n)\\cdot \\ln{(\\lambda + 1)}$ \n",
    "\n",
    "$\\Large \\frac{\\partial LL}{\\partial \\lambda} = \\normalsize \\sum \\limits_{i=1}^{n}x_i- n \\cdot \\lambda = 0 \\Rightarrow \\widehat{\\theta} = \\widehat{\\lambda} = \\overline{X}$ - ОМП \n",
    "\n",
    "$\\large \\mathbb{E}_{\\theta}\\widehat{\\theta} = \\mathbb{E}_{\\theta}\\overline{X} = \\mathbb{E}_{\\theta}\\frac{1}{n}\\sum \\limits_{i=1}^{n}x_i = \\frac{1}{n} \\cdot \\normalsize n \\cdot \\lambda = \\lambda \\Rightarrow$ несмещённая оценка.\n",
    "\n",
    "\n",
    "***Оценка методом моментов:***\n",
    "\n",
    "$\\mathbb{E}X = \\lambda$ - математическое ожидание (теоретическая величина)\n",
    "\n",
    "$\\mathrm{M} = \\overline{X}$ - выборочное среднее (выборочная величина)\n",
    "\n",
    "Следовательно, $\\widetilde{\\theta} = \\widetilde{\\lambda} = \\overline{X}$\n",
    "\n",
    "$\\large \\mathbb{E}_{\\theta}\\widetilde{\\theta} = \\mathbb{E}_{\\theta}\\overline{X} = \\mathbb{E}_{\\theta}\\frac{1}{n}\\sum \\limits_{i=1}^{n}x_i = \\frac{1}{n} \\cdot \\normalsize n \\cdot \\lambda = \\lambda \\Rightarrow$ несмещённая оценка.\n"
   ]
  },
  {
   "cell_type": "markdown",
   "id": "f6225815",
   "metadata": {},
   "source": [
    "### 1.h.d Построить асимптотичексий доверительный интервал уровня значимости $\\alpha_1$ для параметра $\\lambda$ на базе оценки максимального правдоподобия. \n",
    " $\\alpha_1 = 0.10$ \n",
    " \n",
    " **Плотность геометрического распределения**: \n",
    " \n",
    "$$\\large q_{\\theta} = \\frac{\\lambda^x}{({\\lambda+1})^{x+1}}$$\n",
    "\n",
    "Из пункта 1.с:<br><br>\n",
    "$\\Large \\frac{\\partial LL}{\\partial \\lambda} = \\normalsize \\frac{\\sum \\limits_{i=1}^{n}x_i}{\\lambda}- \\frac{\\sum \\limits_{i=1}^{n}x_i + n}{\\lambda + 1}$\n",
    "\n",
    "$\\Large \\frac{\\partial^2 LL}{\\partial \\lambda^2} = \\normalsize -\\frac{\\sum \\limits_{i=1}^{n}x_i}{\\lambda^2}+ \\frac{\\sum \\limits_{i=1}^{n}x_i + n}{(\\lambda + 1)^2}$\n",
    "\n",
    "$\\mathrm{I}_n(\\lambda) = - \\large \\mathbb{E}_{\\theta}\\frac{\\partial^2 LL}{\\partial \\lambda^2} = \\mathbb{E}_{\\theta} \\left(\\normalsize \\frac{\\sum \\limits_{i=1}^{n}x_i}{\\lambda^2} - \\frac{\\sum \\limits_{i=1}^{n}x_i + n}{(\\lambda + 1)^2}\\right) = \\frac{n\\cdot \\lambda}{\\lambda^2} + \\frac{n \\cdot \\lambda + n}{(\\lambda + 1)^2} = \\frac{n}{\\lambda} + \\frac{n}{\\lambda+1}$ \n",
    "\n",
    "$\\mathrm{I}(\\lambda) = \\lim \\limits_{n \\to \\infty} \\large (\\frac{1}{\\lambda} + \\frac{1}{\\lambda+1}) = \\frac{1}{\\lambda} + \\frac{1}{\\lambda+1}$ \n",
    "\n",
    "**Квантили:** \n",
    "\n",
    "Так как распределение симметричное: <br><br>\n",
    "$x_{\\alpha} : \\mathrm{\\Phi}(x_{\\alpha}) = 1 - \\frac{\\alpha}{2} = 1 - \\frac{0.1}{2} = 0.95$, где $\\alpha = \\alpha_1 = 0.1$\n",
    "\n",
    "$\\mathrm{\\Phi}(x_{\\alpha}) = 0.95 \\Rightarrow x_{\\alpha} = 1.65$ \n",
    "\n",
    "*Асимптотический доверительный интервал:* \n",
    "$\\left[\\overline{X} - \\sqrt{\\frac{\\overline{X}}{n}} \\cdot x_{\\alpha} , \\overline{X} + \\sqrt{\\frac{\\overline{X}}{n}} \\cdot x_{\\alpha}\\right] \\ni \\lambda$"
   ]
  },
  {
   "cell_type": "code",
   "execution_count": 13,
   "id": "0bf0a099",
   "metadata": {},
   "outputs": [
    {
     "name": "stdout",
     "output_type": "stream",
     "text": [
      "4.005 4.995\n"
     ]
    }
   ],
   "source": [
    "x_alpha_h = 1.65\n",
    "\n",
    "left_h = var_ryad.mean() - x_alpha_h * (var_ryad.mean() / len(var_ryad))**0.5\n",
    "right_h = var_ryad.mean() + x_alpha_h * (var_ryad.mean() / len(var_ryad))**0.5 \n",
    "\n",
    "print(left_h, right_h)"
   ]
  },
  {
   "cell_type": "markdown",
   "id": "025544c7",
   "metadata": {},
   "source": [
    "Таким образом, АДИ уровня значимости $\\alpha_1$ для параметра $\\lambda$: \n",
    "\n",
    "$$\\left[4.005, 4.995\\right] \\ni \\lambda$$"
   ]
  },
  {
   "cell_type": "markdown",
   "id": "858919e2",
   "metadata": {},
   "source": [
    "### 1.h.е Используя гистограмму частот, построить критерий значимости $\\chi^2$ проверки простой гипотезы согласия с геометрическим распределением с параметром $\\lambda_0 = 7$. Проверить гипотезу на уровне значимости $\\alpha_1 = 0.1$. Вычислить наибольшее значение уровня значимости, на котором ещё нет оснований отвергнуть данную гипотезу.\n",
    "\n",
    "\n",
    "Расммотрим $\\mathbb{P}_{k} = \\mathbb{P}_{\\theta}\\left(x_i \\in G_k\\right) = \\sum \\limits_{x \\in G_k} q_{\\theta}(x)$ <br><br>\n",
    "\n",
    "\n",
    "Из таблицы: $\\chi_{k-1, \\alpha_1}^2 = \\chi_{3, 0.1}^2 =  6.25$ <br><br>\n",
    "Получили: $\\chi^2 = 20.24$<br><br>\n",
    "Так как $\\chi^2 > \\chi_{3, 0.1}^2$ , то гипотезу отвергаем <br><br>\n",
    "\n",
    "Наибольшее значение уровня значимости, при котором ещё нет оснований отвергнуть данную гипотезу, близко к нулю. (p-value = 0.00015)"
   ]
  },
  {
   "cell_type": "code",
   "execution_count": 14,
   "id": "bd8f8897",
   "metadata": {},
   "outputs": [
    {
     "name": "stdout",
     "output_type": "stream",
     "text": [
      "25 9 5 11\n",
      "0.6099921289132908\n",
      "0.23 11.71875\n",
      "0.16 7.85064697265625\n",
      "0.11 5.259320139884949\n",
      "0.11 5.670889333123341\n",
      "20.24\n",
      "x_alpha_1 равен: 6.251388631170325\n",
      "p-value =  0.00015136999663056816\n"
     ]
    }
   ],
   "source": [
    "import math\n",
    "import scipy.stats as sp\n",
    "\n",
    "lambda_0 = 7\n",
    "intervals = [[0,1,2,3], [4,5], [6,7], [8,9,10,11, 13, 16, 18]]\n",
    "var_freq = [5, 10, 8, 2, 3, 6, 3, 2, 3, 3, 1, 1, 1, 1, 1]\n",
    "var_uniq = [0, 1, 2, 3, 4, 5, 6, 7, 8, 9, 10, 11, 13, 16, 18]\n",
    "\n",
    "n = len(var_ryad)\n",
    "\n",
    "n_1 = var_freq[0] + var_freq[1] + var_freq[2] + var_freq[3]\n",
    "n_2 = var_freq[4] + var_freq[5] \n",
    "n_3 = var_freq[6] + var_freq[7]\n",
    "n_4 = var_freq[8] + var_freq[9] + var_freq[10] + var_freq[11] + var_freq[12] + var_freq[13] + var_freq[14]\n",
    "\n",
    "print(n_1, n_2, n_3, n_4)\n",
    "#вычисление значений вероятностей\n",
    "\n",
    "P1 = lambda_0**var_uniq[0] / (lambda_0+1)**(var_uniq[0]+1) + lambda_0**var_uniq[1] / (lambda_0+1)**(var_uniq[1]+1) \n",
    "+ lambda_0**(var_uniq[2]) / (lambda_0+1)**(var_uniq[2]+1)\n",
    "P2 = lambda_0**var_uniq[3] / (lambda_0+1)**(var_uniq[3]+1) + lambda_0**var_uniq[4] / (lambda_0+1)**(var_uniq[4]+1)\n",
    "+ lambda_0**var_uniq[5] / (lambda_0+1)**(var_uniq[5]+1)\n",
    "P3 = lambda_0**var_uniq[6] / (lambda_0+1)**(var_uniq[6]+1) + lambda_0**var_uniq[7] / (lambda_0+1)**(var_uniq[7]+1) \n",
    "P4 = lambda_0**var_uniq[8] / (lambda_0+1)**(var_uniq[8]+1) + lambda_0**var_uniq[9] / (lambda_0+1)**(var_uniq[9]+1) + lambda_0**var_uniq[10] / (lambda_0+1)**(var_uniq[10]+1)\n",
    "+ lambda_0**var_uniq[11] / (lambda_0+1)**(var_uniq[11]+1) + lambda_0**var_uniq[12] / (lambda_0+1)**(var_uniq[12]+1)\n",
    "+ lambda_0**var_uniq[13] / (lambda_0+1)**(var_uniq[13]+1)+ lambda_0**var_uniq[14] / (lambda_0+1)**(var_uniq[14]+1)\n",
    "\n",
    "print(P1+P2+P3+P4)\n",
    "print(round(P1, 2), 50*P1)\n",
    "print(round(P2, 2), 50*P2)\n",
    "print(round(P3, 2), 50*P3)\n",
    "print(round(P4, 2), 50*P4)\n",
    "\n",
    "    \n",
    "#вычисление критерия хи квадрат\n",
    "chi = ((n_1 - n*P1)**2) / (n*P1) + ((n_2 - n*P2)**2) / (n*P2) + ((n_3 - n*P3)**2) / (n*P3) + ((n_4 - n*P4)**2) / (n*P4)\n",
    "print(round(chi, 2))\n",
    "\n",
    "print(\"x_alpha_1 равен:\", sp.chi2.ppf(1 - 0.1, df = 4-1))\n",
    "print('p-value = ', 1 - sp.chi2.cdf(20.24, 3))"
   ]
  },
  {
   "cell_type": "markdown",
   "id": "ccf668c2",
   "metadata": {},
   "source": [
    "### 1.h.f Построить критерий значимости $\\chi^2$ проверки сложной гипотезы согласия с геометрическим распределением. Проверить гипотезу на уровне значимости $\\alpha_1 = 0.1$. Вычислить наибольшее значение уровня значимости, на котором ещё нет оснований отвергнуть данную гипотезу.\n",
    "\n",
    "\n",
    "Расммотрим $\\mathbb{P}_{k} = \\mathbb{P}_{\\theta}\\left(x_i \\in G_k\\right) = \\sum \\limits_{x \\in G_k} q_{\\theta}(x)$ <br><br>\n",
    "\n",
    "\n",
    "Из таблицы: $\\chi_{k-1-1, \\alpha_1}^2 = \\chi_{2, 0.1}^2 =  4.06$ <br><br>\n",
    "Получty: $\\chi^2 = 106.53$<br><br>\n",
    "Так как $\\chi^2 > \\chi_{2, 0.1}^2$ , то гипотезу отвергаем <br><br>\n",
    "\n",
    "Наибольшее значение уровня значимости, при котором ещё нет оснований отвергнуть данную гипотезу близко к нулю."
   ]
  },
  {
   "cell_type": "code",
   "execution_count": 15,
   "id": "4f30e810",
   "metadata": {},
   "outputs": [
    {
     "name": "stdout",
     "output_type": "stream",
     "text": [
      "25 9 5 11\n",
      "3.8417942009441415\n",
      "1.82 | 90.90909090909092\n",
      "1.0 | 49.791680896113654\n",
      "0.55 | 27.271326351064502\n",
      "0.48 | 24.117611890937997\n",
      "106.53\n",
      "x_alpha_1 равен: 4.605170185988092\n",
      "p-value =  0.0\n"
     ]
    }
   ],
   "source": [
    "import math\n",
    "\n",
    "intervals = [[0,1,2,3], [4,5], [6,7], [8,9,10,11, 13, 16, 18]]\n",
    "var_freq = [5, 10, 8, 2, 3, 6, 3, 2, 3, 3, 1, 1, 1, 1, 1]\n",
    "var_uniq = [0, 1, 2, 3, 4, 5, 6, 7, 8, 9, 10, 11, 13, 16, 18]\n",
    "\n",
    "E = np.mean(var_ryad)\n",
    "exp_E = math.exp(-E)\n",
    "\n",
    "n = len(var_ryad)\n",
    "\n",
    "n_1 = var_freq[0] + var_freq[1] + var_freq[2] + var_freq[3]\n",
    "n_2 = var_freq[4] + var_freq[5] \n",
    "n_3 = var_freq[6] + var_freq[7]\n",
    "n_4 = var_freq[8] + var_freq[9] + var_freq[10] + var_freq[11] + var_freq[12] + var_freq[13] + var_freq[14]\n",
    "\n",
    "print(n_1, n_2, n_3, n_4)\n",
    "#вычисление значений вероятностей\n",
    "\n",
    "P1 = E**var_uniq[0] / (E+1)**var_uniq[0] + E**var_uniq[1] / (E+1)**(var_uniq[1]) \n",
    "+ E**var_uniq[2] / (E+1)**(var_uniq[2])\n",
    "P2 = E**var_uniq[3] / (E+1)**(var_uniq[3]) + E**var_uniq[4] / (E+1)**(var_uniq[4])\n",
    "+ E**var_uniq[5] / (E+1)**(var_uniq[5])\n",
    "P3 = E**var_uniq[6] / (E+1)**(var_uniq[6]) + E**var_uniq[7] / (E+1)**(var_uniq[7]) \n",
    "+E**var_uniq[8] / (E+1)**(var_uniq[8])\n",
    "P4 = E**var_uniq[9] / (E+1)**(var_uniq[9]) + E**var_uniq[10] / (E+1)**(var_uniq[10]) + E**var_uniq[11] / (E+1)**(var_uniq[11]) + E**var_uniq[12] / (E+1)**(var_uniq[12])\n",
    "+ E**var_uniq[13] / (E+1)**(var_uniq[13])+ E**var_uniq[14] / (E+1)**(var_uniq[14])\n",
    "\n",
    "print(P1+P2+P3+P4)\n",
    "print(round(P1, 2), '|', 50*P1)\n",
    "print(round(P2, 2), '|', 50*P2)\n",
    "print(round(P3, 2), '|', 50*P3)\n",
    "print(round(P4, 2), '|', 50*P4)\n",
    "    \n",
    "#вычисление критерия хи квадрат\n",
    "chi = ((n_1 - n*P1)**2) / (n*P1) + ((n_2 - n*P2)**2) / (n*P2) + ((n_3 - n*P3)**2) / (n*P3) + ((n_4 - n*P4)**2) / (n*P4)\n",
    "print(round(chi, 2))\n",
    "\n",
    "print(\"x_alpha_1 равен:\", sp.chi2.ppf(1 - 0.1, df = 4-1-1))\n",
    "print('p-value = ', 1 - sp.chi2.cdf(106.53, 2))"
   ]
  },
  {
   "cell_type": "markdown",
   "id": "3ea09ed1",
   "metadata": {},
   "source": [
    "### 2.a Построить вариационный ряд, эмпирическую функцию распределения и гистограмму и полигон частот с шагом  $h$."
   ]
  },
  {
   "cell_type": "code",
   "execution_count": 16,
   "id": "bf902111",
   "metadata": {},
   "outputs": [],
   "source": [
    "data_2 = [0.95, 0.11, 1.39, 0.67, 0.79, 5.14, 1.27, 1.32, 0.65, 1.48, 0.90, 0.28, 0.69, 0.03, 0.78, 4.50, 0.01, 0.75, 0.36, 0.23, 3.40, 1.64, 2.19, 6.09, 0.67, 8.70,\n",
    "11.22, 0.04, 0.76, 0.27, 1.82, 0.36, 0.73, 0.96, 0.90, 0.04, 0.00, 10.52, 0.64, 0.01, 2.03, 0.97, 0.32, 1.02, 0.02, 1.05, 2.51, 0.04, 4.72, 0.79]"
   ]
  },
  {
   "cell_type": "code",
   "execution_count": 17,
   "id": "454d5edc",
   "metadata": {},
   "outputs": [
    {
     "data": {
      "text/plain": [
       "'[0.0, 0.01, 0.01, 0.02, 0.03, 0.04, 0.04, 0.04, 0.11, 0.23, 0.27, 0.28, 0.32, 0.36, 0.36, 0.64, 0.65, 0.67, 0.67, 0.69, 0.73, 0.75, 0.76, 0.78, 0.79, 0.79, 0.9, 0.9, 0.95, 0.96, 0.97, 1.02, 1.05, 1.27, 1.32, 1.39, 1.48, 1.64, 1.82, 2.03, 2.19, 2.51, 3.4, 4.5, 4.72, 5.14, 6.09, 8.7, 10.52, 11.22]'"
      ]
     },
     "execution_count": 17,
     "metadata": {},
     "output_type": "execute_result"
    }
   ],
   "source": [
    "data_2.sort()\n",
    "var_ryad_2 = np.array(data_2)\n",
    "str(data_2)"
   ]
  },
  {
   "cell_type": "markdown",
   "id": "679a95b8",
   "metadata": {},
   "source": [
    "Вариационный ряд:\n",
    " $$\\vec{X} = \\left(0.0, 0.01, 0.01, 0.02, 0.03, 0.04, 0.04, 0.04, 0.11, 0.23, 0.27, 0.28, 0.32, 0.36, 0.36, 0.64, 0.65, 0.67, 0.67, 0.69, 0.73, 0.75, 0.76, 0.78, 0.79, 0.79, 0.9, 0.9, 0.95, 0.96, 0.97, 1.02, 1.05, 1.27, 1.32, 1.39, 1.48, 1.64, 1.82, 2.03, 2.19, 2.51, 3.4, 4.5, 4.72, 5.14, 6.09, 8.7, 10.52, 11.22\\right)$$"
   ]
  },
  {
   "cell_type": "code",
   "execution_count": 18,
   "id": "1d095ee6",
   "metadata": {},
   "outputs": [
    {
     "data": {
      "image/png": "[encoded data removed]",
      "text/plain": [
       "<Figure size 640x480 with 1 Axes>"
      ]
     },
     "metadata": {},
     "output_type": "display_data"
    }
   ],
   "source": [
    "sns.ecdfplot(var_ryad_2)\n",
    "plt.title(\"Эмпирическая функция распределения\")\n",
    "plt.xlabel(\"x\")\n",
    "plt.ylabel(\"P\");"
   ]
  },
  {
   "cell_type": "code",
   "execution_count": 19,
   "id": "068d6e19",
   "metadata": {},
   "outputs": [
    {
     "data": {
      "image/png": "[encoded data removed]",
      "text/plain": [
       "<Figure size 640x480 with 1 Axes>"
      ]
     },
     "metadata": {},
     "output_type": "display_data"
    },
    {
     "name": "stdout",
     "output_type": "stream",
     "text": [
      "[ 0.55  1.65  2.75  3.85  4.95  6.05  7.15  8.25  9.35 10.45 11.55]\n",
      "[0.6        0.14545455 0.01818182 0.01818182 0.05454545 0.01818182\n",
      " 0.         0.01818182 0.         0.01818182 0.01818182]\n"
     ]
    }
   ],
   "source": [
    "fig, ax = plt.subplots()\n",
    "bins = np.arange(min(data_2), max(data_2) + 1.1, 1.1)\n",
    "plt.hist(var_ryad_2, bins = bins, density= True)\n",
    "\n",
    "hist, _ = np.histogram(var_ryad_2, bins=bins)\n",
    "hist = hist/(len(data_2)+5) \n",
    "\n",
    "bin_centers = 0.5 * (bins[1:] + bins[:-1])\n",
    "plt.plot(bin_centers, hist,'-r', marker='.')\n",
    "\n",
    "plt.title(\"Гистограмма и полигон частот с шагом h = 1.1\")\n",
    "plt.xlabel(\"x\")\n",
    "plt.ylabel(\"Частота\")\n",
    "\n",
    "plt.show()\n",
    "print(bin_centers)\n",
    "print(hist)"
   ]
  },
  {
   "cell_type": "markdown",
   "id": "7863df8c",
   "metadata": {},
   "source": [
    "### 2.b Вычислить выборочные аналоги следующих числовых характеристик:"
   ]
  },
  {
   "cell_type": "code",
   "execution_count": 20,
   "id": "623b31e5",
   "metadata": {},
   "outputs": [
    {
     "name": "stdout",
     "output_type": "stream",
     "text": [
      "E 1.7346000000000001 \n",
      " D 6.418952839999999 \n",
      " std 2.5335652428938946 \n",
      " medain 0.79 \t 0.79 0.79 \n",
      " skew 2.41957034494409 \n",
      " kurt 5.330452789668151 \n",
      "\n"
     ]
    }
   ],
   "source": [
    "print('E', np.mean(var_ryad_2),'\\n',\n",
    "      'D', np.var(var_ryad_2),'\\n',\n",
    "      'std', np.std(var_ryad_2), '\\n',\n",
    "      'medain', np.median(var_ryad_2), '\\t', var_ryad_2[24], var_ryad_2[25], '\\n',\n",
    "      'skew', sp.skew(var_ryad_2), '\\n',\n",
    "      'kurt', sp.kurtosis(var_ryad_2), '\\n')\n"
   ]
  },
  {
   "cell_type": "markdown",
   "id": "d2bcc616",
   "metadata": {},
   "source": [
    "Выборочный аналог математического ожидания - выборочное среднее:\n",
    "$$\\overline{X} =\\frac{1}{n}\\sum_{i=1}^{n}x_i= 1.73$$\n",
    "\n",
    "Выборочный аналог дисперсии и СКО - выборочную дисперсию и выборочное СКО: \n",
    "$$S^2 =\\frac{1}{n}\\sum_{i=1}^{n}\\left(x_i-\\overline{X}\\right)=6.42$$ \n",
    "$$S=\\sqrt{S^2}=2.53$$\n",
    "\n",
    "Выборочная медиана: <br><br>\n",
    "$$np = 50\\cdot\\frac{1}{2}=25\\in \\mathbb Z \\Rightarrow \\large z_{50,\\frac{1}{2}} = \\normalsize \\left[ X_{(25)},X_{(26)} \\right) = 0.79$$\n",
    "\n",
    "Выборочный коэффициент асимметрии: \n",
    "$$\\mathrm{Skew}=\\frac{1}{n}\\frac{\\sum \\limits_{i=1}^{n}\\left(x_i-\\overline{X}\\right)^3}{S^3} = 2.42$$\n",
    "\n",
    "Выборочный коэффициент эксцесса:\n",
    "$$\\mathrm{Kurt}=\\frac{1}{n}\\frac{\\sum \\limits_{i=1}^{n}\\left(x_i-\\overline{X}\\right)^4}{S^4}-3 = 5.33$$"
   ]
  },
  {
   "cell_type": "code",
   "execution_count": 21,
   "id": "e966971e",
   "metadata": {},
   "outputs": [
    {
     "name": "stdout",
     "output_type": "stream",
     "text": [
      "Вероятность Р(х = a) =  0.0\n",
      "Вероятность Р(х = b) =  0.9\n",
      "Вероятность:  0.9\n"
     ]
    }
   ],
   "source": [
    "def F(x):\n",
    "    sum_i = 0\n",
    "    for i in var_ryad_2:\n",
    "        if i < x:\n",
    "            sum_i += 1\n",
    "    return sum_i/len(var_ryad_2)\n",
    "\n",
    "c = 0.00\n",
    "d = 4.83\n",
    "\n",
    "print(\"Вероятность Р(х = a) = \" , F(c))\n",
    "print(\"Вероятность Р(х = b) = \" , F(d))\n",
    "print(\"Вероятность: \", F(d) - F(c))\n"
   ]
  },
  {
   "cell_type": "markdown",
   "id": "cff6b1e8",
   "metadata": {},
   "source": [
    "Выборочный аналог $\\mathbb{P}\\left(x \\in \\left[a, b\\right]\\right)$, c = 0.00, b = 4.83: <br><br>\n",
    "\n",
    "$$\\mathbb{P}\\left(x \\in \\left[a, b\\right]\\right) = \\mathrm{F}(b) - \\mathrm{F}(a) = 0.9 - 0 = 0.9$$"
   ]
  },
  {
   "cell_type": "markdown",
   "id": "e398109a",
   "metadata": {},
   "source": [
    "### 2.c В предположении, что исходные наблюдения являются выборкой из распределения Пуассона, построить оценку максимального правдоподобия параметра $\\lambda$, а также оценку $\\lambda$ по методу моментов. Найти смещение оценок. \n",
    "\n",
    "**Плотность распределения пуассона**: \n",
    "$$\\large q_{\\theta} = \\lambda \\cdot e^{-\\lambda\\cdot x}$$\n",
    "\n",
    "***Оценка максимального правдоподобия:***\n",
    "$ L\\left(\\vec{X}, \\theta \\right) =\\prod\\limits_{i = 1}^n q_{\\theta}\\left(\\normalsize x_i\\right)=\\prod\\limits_{i = 1}^n \\lambda \\cdot e^{-\\lambda \\cdot x_i}  = \\large \\lambda^{n} \\cdot e^{-\\lambda \\cdot \\sum \\limits_{i=1}^{n}x_i} $ <br><br>\n",
    "\n",
    "$LL\\left(\\vec{X}, \\theta \\right) = n \\cdot \\ln{\\lambda} - \\lambda \\cdot \\sum \\limits_{i=1}^{n}x_i $\n",
    "\n",
    "$\\Large \\frac{\\partial LL}{\\partial \\lambda} = \\frac{n}{\\lambda} \\normalsize - \\sum \\limits_{i=1}^{n}x_i = 0 \\Rightarrow \\widehat{\\theta} = \\widehat{\\lambda} = \\frac{1}{\\overline{X}}$ - ОМП \n",
    "\n",
    "$\\large \\mathbb{E}_{\\theta}\\widehat{\\theta} = \\mathbb{E}_{\\theta}\\overline{X} = \\mathbb{E}_{\\theta} n\\cdot \\sum \\limits_{i=1}^{n}\\frac{1}{x_i} = \\normalsize n \\cdot\\frac{1}{n-1}   \\cdot \\lambda = \\frac{n\\cdot\\lambda}{n+1} \\Rightarrow$ смещённая оценка. \n",
    "\n",
    "МДС: $T=\\sum_{i=1}^{n}X_{i}$.\n",
    "\n",
    "Т.к. $q_{\\theta}$ из сем-ва экспоненциальных распределений $=>$ МДС =  ПДС.\n",
    "\n",
    "$\\mathbb{E}\\widetilde{\\theta} = \\mathbb{E} \\widehat{\\theta} \\cdot \\frac{n-1}{n} = \\frac{n\\cdot\\lambda}{n+1}\\cdot \\frac{n-1}{n} = \\lambda$\n",
    "\n",
    "$$ \\widetilde{\\theta} = \\widehat{\\theta} \\cdot \\frac{n-1}{n} - несмещенная \\, оценка$$\n",
    "\n",
    "***Оценка методом моментов:***<br><br>\n",
    "$\\mathbb{E}X = \\frac{1}{\\lambda}$ - математическое ожидание (теоретическая величина) \n",
    "\n",
    "$\\mathrm{M} = \\overline{X}$ - выборочное среднее (выборочная величина)\n",
    "\n",
    "Следовательно, $\\widetilde{\\theta} = \\widetilde{\\lambda} = \\frac{1}{\\overline{X}}$\n",
    "\n",
    "\n"
   ]
  },
  {
   "cell_type": "markdown",
   "id": "ee847c40",
   "metadata": {},
   "source": [
    "### 2.d Построить асимптотичексий доверительный интервал уровня значимости $\\alpha_1$ для параметра $\\lambda$ на базе оценки максимального правдоподобия.\n",
    " $\\alpha_2 = 0.10$ \n",
    " \n",
    " **Плотность распределения пуассона:**:\n",
    " \n",
    "$$\\large q_{\\theta} = \\lambda \\cdot e^{-\\lambda\\cdot x}$$\n",
    "$\\large \\widehat{\\theta} = \\widehat{\\lambda} = \\frac{1}{\\overline{X}}$<br><br>\n",
    "\n",
    "Из пункта 2.с\n",
    "\n",
    "$\\Large \\frac{\\partial LL}{\\partial \\lambda} = \\frac{\\sum \\limits_{i=1}^{n}x_i}{\\lambda} \\normalsize - n$\n",
    "\n",
    "$\\Large \\frac{\\partial^2 LL}{\\partial \\lambda^2} = -\\frac{n}{\\lambda^2}$\n",
    "\n",
    "$\\mathrm{I}_n(\\lambda) = - \\large \\mathbb{E}_{\\theta}\\frac{\\partial^2 LL}{\\partial \\lambda^2} = \\mathbb{E}_{\\theta} \\left(\\frac{n}{\\lambda^2}\\right) = \\frac{n}{\\lambda^2}$ \n",
    "\n",
    "$\\mathrm{I}(\\lambda) = \\lim \\limits_{n \\to \\infty} \\large \\frac{1}{\\lambda^2} = \\frac{1}{\\lambda^2}$ \n",
    "\n",
    "**Квантили:** \n",
    "\n",
    "Так как распределение симметричное: <br><br>\n",
    "$x_{\\alpha} : \\mathrm{\\Phi}(x_{\\alpha}) = 1 - \\frac{\\alpha}{2} = 1 - \\frac{0.1}{2} = 0.95$, где $\\alpha = \\alpha_1 = 0.1$<br><br>\n",
    "$\\mathrm{\\Phi}(x_{\\alpha}) = 0.95 \\Rightarrow x_{\\alpha} = 1.65\n",
    "$ \n",
    "\n",
    "*Асимптотический доверительный интервал:* <br><br>\n",
    "$\\left[\\overline{X} - \\sqrt{\\frac{\\overline{X}}{n}} \\cdot x_{\\alpha} , \\overline{X} + \\sqrt{\\frac{\\overline{X}}{n}} \\cdot x_{\\alpha}\\right] \\ni \\lambda$"
   ]
  },
  {
   "cell_type": "code",
   "execution_count": 22,
   "id": "a6fb6c42",
   "metadata": {},
   "outputs": [
    {
     "name": "stdout",
     "output_type": "stream",
     "text": [
      "1.4272744885304836 2.0419255114695165\n"
     ]
    }
   ],
   "source": [
    "x_alpha_2 = 1.65\n",
    "\n",
    "left_2 = var_ryad_2.mean() - x_alpha_2 * (var_ryad_2.mean() / len(var_ryad_2))**0.5\n",
    "right_2 = var_ryad_2.mean() + x_alpha_2 * (var_ryad_2.mean() / len(var_ryad_2))**0.5 \n",
    "\n",
    "print(left_2, right_2)\n"
   ]
  },
  {
   "cell_type": "markdown",
   "id": "a215d207",
   "metadata": {},
   "source": [
    "Таким образом, АДИ уровня значимости $\\alpha_1$ для параметра $\\lambda$: \n",
    "\n",
    "$$\\left[1.427, 2.042\\right] \\ni \\lambda$$"
   ]
  },
  {
   "cell_type": "markdown",
   "id": "ff7e3490",
   "metadata": {},
   "source": [
    "### 2.e C использованием теоремы Колмогорова построить критерий значимости проверки простой гипотезы согласия с показательным распределением с параметром $λ_{0}=0.36$. Проверить гипотезу на уровне значимости  $\\alpha_2 = 0,1$. Вычислить наименьшее значения уровня значимости, на котором ещё нет оснований отвергнуть гипотезу.\n"
   ]
  },
  {
   "cell_type": "markdown",
   "id": "a444d159",
   "metadata": {},
   "source": [
    "Статистика критерия Колмагорова: $D_n = sup_{x \\in \\mathbb{R}}|F_n(x) - F_0(x)|$\n",
    "\n",
    "Теорема Колмагорова: $\\sqrt{n}D_n \\rightarrow K, при \\, основной \\, гипотезе$\n",
    "\n",
    "$$D_n = 49.017 $$\n",
    "$$Критическое \\, значение: C =  0.192$$\n",
    "\n",
    "Так как $D_n > c $ , то гипотезу отвергаем\n",
    "\n",
    "Наибольшее значение уровня значимости, при котором ещё нет оснований отвергнуть данную гипотезу, очень мало $(\\ll 0.01)$\n"
   ]
  },
  {
   "cell_type": "code",
   "execution_count": 23,
   "id": "e1505b7c",
   "metadata": {},
   "outputs": [
    {
     "name": "stdout",
     "output_type": "stream",
     "text": [
      "49.017611556026246 0.19206415147703973\n"
     ]
    }
   ],
   "source": [
    "from scipy.stats import expon, kstwobign\n",
    "\n",
    "D = np.max(np.abs(expon.cdf(var_ryad_2, scale=1/0.36) - np.arange(1, len(var_ryad_2)+1 / len(var_ryad_2))))\n",
    "c_val = kstwobign.ppf(1 - 0.1/2) / np.sqrt(len(var_ryad_2))\n",
    "\n",
    "print(D, c_val)"
   ]
  },
  {
   "cell_type": "markdown",
   "id": "e7db4780",
   "metadata": {},
   "source": [
    "### 2.f Используя гистограмму частот, построить критерий значимости $\\chi^2$ проверки простой гипотезы согласия с распределением Пуассона с параметром $\\lambda_0 = 0.36$. Проверить гипотезу на уровне значимости $\\alpha_1 = 0.1$. Вычислить наибольшее значение уровня значимости, на котором ещё нет оснований отвергнуть данную гипотезу.\n",
    "\n",
    "\n",
    "Расммотрим $\\mathbb{P}_{k} = \\mathbb{P}_{\\theta}\\left(x_i \\in G_k\\right) = \\sum \\limits_{x \\in G_k} q_{\\theta}(x)$ <br><br>\n",
    "\n",
    "\n",
    "Из таблицы: $\\chi_{k-1, \\alpha_1}^2 = \\chi_{3, 0.1}^2 = 6.25$ <br><br>\n",
    "Получили: $\\chi^2 = 26.33$<br><br>\n",
    "Так как $\\chi^2 > \\chi_{4, 0.1}^2$ , то гипотезу отвергаем <br><br>\n",
    "\n",
    "Наибольшее значение уровня значимости, при котором ещё нет оснований отвергнуть данную гипотезу близко к нулю."
   ]
  },
  {
   "cell_type": "code",
   "execution_count": 24,
   "id": "9e1819e9",
   "metadata": {},
   "outputs": [
    {
     "data": {
      "text/plain": [
       "'[0.0, 0.01, 0.01, 0.02, 0.03, 0.04, 0.04, 0.04, 0.11, 0.23, 0.27, 0.28, 0.32, 0.36, 0.36, 0.64, 0.65, 0.67, 0.67, 0.69, 0.73, 0.75, 0.76, 0.78, 0.79, 0.79, 0.9, 0.9, 0.95, 0.96, 0.97, 1.02, 1.05, 1.27, 1.32, 1.39, 1.48, 1.64, 1.82, 2.03, 2.19, 2.51, 3.4, 4.5, 4.72, 5.14, 6.09, 8.7, 10.52, 11.22]'"
      ]
     },
     "execution_count": 24,
     "metadata": {},
     "output_type": "execute_result"
    }
   ],
   "source": [
    "str(data_2)"
   ]
  },
  {
   "cell_type": "code",
   "execution_count": 25,
   "id": "8f0264a2",
   "metadata": {},
   "outputs": [
    {
     "name": "stdout",
     "output_type": "stream",
     "text": [
      "15 11 13 11\n",
      "1.9117388215486617\n",
      "0.68 33.81204130829876\n",
      "0.59 29.299601067481813\n",
      "0.46 22.84379598243097\n",
      "0.19 9.631502719221544\n",
      "Ci^2: 26.332135100508168\n",
      "x_alpha_1 равен: 6.251388631170325\n",
      "p-value =  8.134331593745436e-06\n"
     ]
    }
   ],
   "source": [
    "import math\n",
    "import scipy.stats as sp\n",
    "\n",
    "lambda_0 = 0.36\n",
    "intervals = [[0, 0.36], [0.37,0.79], [0.80, 1.82], [1.83, 11.22]]\n",
    "var_freq = [5, 10, 8, 2, 3, 6, 3, 2, 3, 3, 1, 1, 1, 1, 1]\n",
    "var_uniq = [0, 1, 2, 3, 4, 5, 6, 7, 8, 9, 10, 11, 13, 16, 18]\n",
    "\n",
    "n = len(var_ryad)\n",
    "\n",
    "def n_counter(left:float, right:float):\n",
    "    counter = 0\n",
    "    for i in var_ryad_2:\n",
    "        if i >=left and i <=right:\n",
    "            counter += 1\n",
    "    return counter\n",
    "            \n",
    "    \n",
    "n_1 = n_counter(*intervals[0])\n",
    "n_2 = n_counter(*intervals[1])\n",
    "n_3 = n_counter(*intervals[2])\n",
    "n_4 = n_counter(*intervals[3])\n",
    "\n",
    "\n",
    "print(n_1, n_2, n_3, n_4)\n",
    "\n",
    "\n",
    "P1 = lambda_0*math.exp(-lambda_0*intervals[0][0]) + lambda_0*math.exp(-lambda_0*intervals[0][1])\n",
    "P2 = lambda_0*math.exp(-lambda_0*intervals[1][0]) + lambda_0*math.exp(-lambda_0*intervals[1][1])\n",
    "P3 = lambda_0*math.exp(-lambda_0*intervals[2][0]) + lambda_0*math.exp(-lambda_0*intervals[2][1])\n",
    "P4 = lambda_0*math.exp(-lambda_0*intervals[3][0]) + lambda_0*math.exp(-lambda_0*intervals[3][1])\n",
    "\n",
    "print(P1 + P2 + P3 + P4)\n",
    "print(round(P1, 2), 50*P1)\n",
    "print(round(P2, 2), 50*P2)\n",
    "print(round(P3, 2), 50*P3)\n",
    "print(round(P4, 2), 50*P4)\n",
    "    \n",
    "#вычисление критерия хи квадрат\n",
    "chi = ((n_1 - n*P1)**2) / (n*P1) + ((n_2 - n*P2)**2) / (n*P2) + ((n_3 - n*P3)**2) / (n*P3) + ((n_4 - n*P4)**2) / (n*P4)\n",
    "\n",
    "print('Ci^2:', chi)\n",
    "\n",
    "print(\"x_alpha_1 равен:\", sp.chi2.ppf(1 - 0.1, df = 4-1))\n",
    "\n",
    "print('p-value = ', 1 - sp.chi2.cdf(26.33, 3))"
   ]
  },
  {
   "cell_type": "markdown",
   "id": "59c8b4ee",
   "metadata": {},
   "source": [
    "### 2.g Построить критерий значимости $\\chi^2$ проверки сложной гипотезы согласия с распределением Пуассона. Проверить гипотезу на уровне значимости $\\alpha_1 = 0.1$. Вычислить наибольшее значение уровня значимости, на котором ещё нет оснований отвергнуть данную гипотезу.\n",
    "\n",
    "\n",
    "Расммотрим $\\mathbb{P}_{k} = \\mathbb{P}_{\\theta}\\left(x_i \\in G_k\\right) = \\sum \\limits_{x \\in G_k} q_{\\theta}(x)$ <br><br>\n",
    "\n",
    "$\\widehat{\\lambda} = \\frac{1}{\\overline{X}} = \\frac{1}{1.73} = 0.578 $\n",
    "\n",
    "Из таблицы: $\\chi_{k-1-1, \\alpha_1}^2 = \\chi_{2, 0.1}^2 = 4.6$ <br><br>\n",
    "Получty: $\\chi^2 =  38.25$<br><br>\n",
    "Так как $\\chi^2 > \\chi_{4, 0.1}^2$ , то гипотезу отвергаем <br><br>\n",
    "\n",
    "Наибольшее значение уровня значимости, при котором ещё нет оснований отвергнуть данную гипотезу близко к нулю."
   ]
  },
  {
   "cell_type": "code",
   "execution_count": 26,
   "id": "7b8613cd",
   "metadata": {},
   "outputs": [
    {
     "name": "stdout",
     "output_type": "stream",
     "text": [
      "15 11 13 11\n",
      "2.0406951325867775\n",
      "0.83 41.47090561341707\n",
      "0.66 32.840172326418546\n",
      "0.43 21.42926535342111\n",
      "0.13 6.294413336082151\n",
      "Ci^2: 38.254566004210396\n",
      "x_alpha_1 равен: 4.605170185988092\n",
      "p-value =  4.944450515687038e-09\n"
     ]
    }
   ],
   "source": [
    "import math\n",
    "import scipy.stats as sp\n",
    "\n",
    "lambda_0 = 0.36\n",
    "intervals = [[0, 0.36], [0.37,0.79], [0.80, 1.82], [1.83, 11.22]]\n",
    "var_freq = [5, 10, 8, 2, 3, 6, 3, 2, 3, 3, 1, 1, 1, 1, 1]\n",
    "var_uniq = [0, 1, 2, 3, 4, 5, 6, 7, 8, 9, 10, 11, 13, 16, 18]\n",
    "\n",
    "n = len(var_ryad)\n",
    "\n",
    "def n_counter(left:float, right:float):\n",
    "    counter = 0\n",
    "    for i in var_ryad_2:\n",
    "        if i >=left and i <=right:\n",
    "            counter += 1\n",
    "    return counter\n",
    "    \n",
    "n_1 = n_counter(*intervals[0])\n",
    "n_2 = n_counter(*intervals[1])\n",
    "n_3 = n_counter(*intervals[2])\n",
    "n_4 = n_counter(*intervals[3])\n",
    "\n",
    "print(n_1, n_2, n_3, n_4)\n",
    "\n",
    "P1 = lambda_0*math.exp(-0.578*intervals[0][0]) + 0.578*math.exp(-0.578*intervals[0][1])\n",
    "P2 = lambda_0*math.exp(-0.578*intervals[1][0]) + 0.578*math.exp(-0.578*intervals[1][1])\n",
    "P3 = lambda_0*math.exp(-0.578*intervals[2][0]) + 0.578*math.exp(-0.578*intervals[2][1])\n",
    "P4 = lambda_0*math.exp(-0.578*intervals[3][0]) + 0.578*math.exp(-0.578*intervals[3][1])\n",
    "\n",
    "\n",
    "print(P1 + P2 + P3 + P4)\n",
    "print(round(P1, 2), 50*P1)\n",
    "print(round(P2, 2), 50*P2)\n",
    "print(round(P3, 2), 50*P3)\n",
    "print(round(P4, 2), 50*P4)\n",
    "    \n",
    "#вычисление критерия хи квадрат\n",
    "chi = ((n_1 - n*P1)**2) / (n*P1) + ((n_2 - n*P2)**2) / (n*P2) + ((n_3 - n*P3)**2) / (n*P3) + ((n_4 - n*P4)**2) / (n*P4)\n",
    "print('Ci^2:', chi)\n",
    "\n",
    "print(\"x_alpha_1 равен:\", sp.chi2.ppf(1 - 0.1, df = 4-1-1))\n",
    "\n",
    "print('p-value = ', 1 - sp.chi2.cdf(38.25, 2))"
   ]
  },
  {
   "cell_type": "markdown",
   "id": "005d9e07",
   "metadata": {},
   "source": [
    "### 2.h Построить наиболее мощный критерий проверки простой гипотезы показательности с параметром $\\lambda_0 = 0.36$ при альтернативе показательности с параметром $\\lambda_1 = 0.21$.  Проверить гипотезу на уровне значимости $\\alpha_2 = 0.1$. Что получится, если поменять местами  основную и альтернативную гипотезы? "
   ]
  },
  {
   "cell_type": "markdown",
   "id": "025b581b",
   "metadata": {},
   "source": [
    " $ H_ {0} :  \\lambda  =  \\lambda _ {0} $ \n",
    " \n",
    " $ H_ {1} :  \\lambda  =  \\lambda _ {1} $ \n",
    " \n",
    "Cтатистическое отношение правдоподобия:\n",
    "\n",
    "\n",
    "\n",
    "$$LR(\\overrightarrow{X},\\lambda_{1},\\lambda_{0}) = \\left(\\frac{\\lambda_{1}}{\\lambda_{0}}\\right)^n \\cdot exp^{-\\lambda_{1} \\cdot {\\sum_{i=1}^{50}X_{i}} + \\lambda_{0} \\cdot {\\sum_{i=1}^{50}X_{i}} }$$\n",
    "\n",
    "$LR(\\overrightarrow{X},\\lambda_{1},\\lambda_{0})>  c\\Leftrightarrow \\overline{X} < c^*$\n",
    "\n",
    "$LR(\\overrightarrow{X},\\lambda_{1},\\lambda_{0})<  c\\Leftrightarrow \\overline{X} > c^*$\n",
    "\n",
    "${exp}^{{\\sum_{i=1}^{50}X_{i}}\\cdot (-\\lambda_{1} + \\lambda_{0})}=\\left(\\frac{\\lambda_{0}}{\\lambda_{1}}\\right)^n c$\n",
    "\n",
    "Логарифмируем:\n",
    "\n",
    "(1)    $c* = {\\sum_{i=1}^{50}X_{i}}=n \\cdot ln\\left(\\left(\\frac{\\lambda_{0}}{\\lambda_{1}}\\right) c\\right)$\n",
    "\n",
    "$\\sum_{i=1}^{50}X_{i}\\sim \\Gamma \\left(n,\\frac{1}{\\lambda}\\right)$\n",
    "\n",
    "$1-\\Phi_{\\Gamma \\left(n,\\frac{1}{\\lambda}\\right)}(c)=\\alpha_{2}$\n",
    "\n",
    "$ c = \\Phi^{-1}_{\\Gamma \\left(n,\\frac{1}{\\lambda}\\right)}(1-\\alpha_{2})$\n",
    "\n",
    "$ c = 164.58$\n",
    "\n",
    "Найдем с* подставив значени в выражение (1):\n",
    "\n",
    "$ с* = 282.12$\n",
    "\n",
    "$LR(\\overrightarrow{X}, \\lambda_{0}, \\lambda_{1}) = \\left(\\frac{0.36}{0.21}\\right)^{50} \\cdot e^{(0.21-0.36) \\cdot 282.11} = 0.00000021$\n",
    "\n",
    "$$ \\phi(x) =\\left\\{\n",
    "  \\begin{array}{l}\n",
    "    1, LR(x) > 164.58 \\\\\n",
    "    p, LR(x) = 164.58\\\\\n",
    "    0, LR(x) < 164.58\\\\\n",
    "  \\end{array}\\right.$$\n",
    "\n",
    "<br><br>\n",
    "\n",
    "  $$c > LR  \\to отвергаем\\,гипотезу$$"
   ]
  },
  {
   "cell_type": "code",
   "execution_count": 27,
   "id": "2bee7ba1",
   "metadata": {},
   "outputs": [
    {
     "name": "stdout",
     "output_type": "stream",
     "text": [
      "c = 164.5805608486974\n",
      "c* =  282.1198341330877\n",
      "LR = 2.116884786419611e-07 \n",
      "\n",
      "c = 282.1381043120527\n",
      "c* =  282.1198341330877\n",
      "LR = 269108133.16633195\n"
     ]
    }
   ],
   "source": [
    "c_H0_H1 = sp.gamma.ppf(0.9, a =50, scale = 1/0.36)\n",
    "print('c =', c_H0_H1)\n",
    "c_zv_1 = 50*np.log(0.36/0.21*c_H0_H1)\n",
    "print('c* = ',c_zv_1)\n",
    "LR1 = ((0.36/0.21)**50)*np.exp(0.21*c_zv_1 - 0.36*c_zv_1)\n",
    "print('LR =', LR1,'\\n')\n",
    "\n",
    "c_H1_H0 = sp.gamma.ppf(0.9, a =50, scale=1/0.21)\n",
    "print('c =', c_H1_H0)\n",
    "c_zv_2 = 50*np.log(0.36/0.21*c_H1_H0)\n",
    "print('c* = ',c_zv_1)\n",
    "LR2 = ((0.21/0.36)**50)*np.exp(0.36*c_zv_2 - 0.21*c_zv_2)\n",
    "print('LR =', LR2)"
   ]
  },
  {
   "cell_type": "markdown",
   "id": "472f42e9",
   "metadata": {},
   "source": [
    "**Меняем местами основную и альтернативную гипотезу:**\n",
    "\n",
    "$H_{0}=\\lambda_{1}$\n",
    "\n",
    "$H_{1}=\\lambda_{0}$\n",
    "\n",
    "Cтатистическое отношение правдоподобия:\n",
    "\n",
    "$$LR(\\overrightarrow{X},\\lambda_{0},\\lambda_{1}) = \\left(\\frac{\\lambda_{0}}{\\lambda_{1}}\\right)^n \\cdot exp^{-\\lambda_{0} \\cdot {\\sum_{i=1}^{50}X_{i}} + \\lambda_{1} \\cdot {\\sum_{i=1}^{50}X_{i}} }$$\n",
    "\n",
    "$LR(\\overrightarrow{X},\\lambda_{0},\\lambda_{1})>  c\\Leftrightarrow \\overline{X} < c^*$\n",
    "\n",
    "$LR(\\overrightarrow{X},\\lambda_{0},\\lambda_{1})<  c\\Leftrightarrow \\overline{X} > c^*$\n",
    "\n",
    "${exp}^{{\\sum_{i=1}^{50}X_{i}}\\cdot (-\\lambda_{0} + \\lambda_{1})}=\\left(\\frac{\\lambda_{1}}{\\lambda_{0}}\\right)^n c$\n",
    "\n",
    "$ c = \\Phi^{-1}_{\\Gamma \\left(n,\\frac{1}{\\lambda}\\right)}(1-\\alpha_{2})$\n",
    "\n",
    "$ c = 164.58$\n",
    "\n",
    "$ с* = 282.12$\n",
    "\n",
    "\n",
    "$LR(\\overrightarrow{X}, \\lambda_{0}, \\lambda_{1}) = \\left(\\frac{0.21}{0.36}\\right)^{50} \\cdot e^{(0.36-0.21) \\cdot 282.11} = 269108133.16$\n",
    "\n",
    "$$ \\phi(x) =\\left\\{\n",
    "  \\begin{array}{l}\n",
    "    1, LR(x) > 164.58 \\\\\n",
    "    p, LR(x) = 164.58\\\\\n",
    "    0, LR(x) < 164.587\\\\\n",
    "  \\end{array}\\right.$$\n",
    "\n",
    "<br><br>\n",
    "\n",
    "   $$ c < LR \\to принимаем\\,гипотезу$$"
   ]
  },
  {
   "cell_type": "markdown",
   "id": "cbc26e18",
   "metadata": {},
   "source": [
    "### 2.i.c В предположении, что исходные наблюдения являются выборкой из гамма-распределения, построить оценку максимального правдоподобия параметра $\\lambda$, а также оценку $\\lambda$ по методу моментов. Найти смещение оценок."
   ]
  },
  {
   "cell_type": "markdown",
   "id": "d876a0f2",
   "metadata": {},
   "source": [
    "**Плотность показательного распределения**: \n",
    "$$\\large q_{\\theta} = \\frac{\\sqrt{\\lambda}\\cdot exp\\left( \\frac{-\\lambda\\cdot x}{2} \\right)}{\\sqrt{2\\cdot \\pi\\cdot x}}$$\n",
    "\n",
    "***Оценка максимального правдоподобия:***<br><br>\n",
    "$ L\\left(\\vec{X}, \\theta \\right) =\\prod_{i=1}^{n}\\frac{\\sqrt{\\lambda}\\cdot exp\\left( \\frac{-\\lambda\\cdot x}{2} \\right)}{\\sqrt{2\\cdot \\pi\\cdot x}}=\\lambda^{\\frac{n}{2}}\\cdot exp\\left( \\frac{-\\lambda}{2} \\cdot \\sum_{i=1}^{n}x_{i}\\right) \\cdot (2\\pi)^{-\\frac{n}{2}}\\cdot (\\prod_{i=1}^{n}x_{i})^{-\\frac{n}{2}}$ <br><br>\n",
    "\n",
    "\n",
    "$LL\\left(\\vec{X}, \\theta \\right) = \\frac{n}{2}\\ln(\\lambda)+\\frac{\\lambda\\cdot \\sum_{i=1}^{n}x_{i}}{2}-\\frac{n}{2}\\ln(2\\pi)-\\frac{n}{2}\\ln(\\prod_{i=1}^{n}x_{i})$ <br><br>\n",
    "\n",
    "$\\normalsize \\frac{\\partial LL}{\\partial \\lambda} = \\frac{n}{2\\lambda}-\\frac{\\sum_{i=1}^{n}X_{i}}{2}=0 => \\widehat{\\theta} = \\widehat{\\lambda}=\\frac{1}{\\overline{X}} - ОМП$\n",
    "\n",
    "$\\mathbb{E}_{\\theta}\\widehat{\\theta} = \\mathbb{E}_{\\theta}\\overline{X} = \\mathbb{E}_{\\theta} n\\cdot \\sum \\limits_{i=1}^{n}\\frac{1}{x_i} = \\normalsize n \\cdot\\frac{1}{n-1}   \\cdot \\lambda = \\frac{n\\cdot\\lambda}{n+1} \\Rightarrow$ смещённая оценка.\n",
    "\n",
    "МДС: $T=\\sum_{i=1}^{n}X_{i}$.\n",
    "\n",
    "Т.к. $q_{\\theta}$ из сем-ва экспоненциальных распределений $=>$ МДС =  ПДС.\n",
    "\n",
    "$\\mathbb{E}\\widetilde{\\theta} = \\mathbb{E} \\widehat{\\theta} \\cdot \\frac{n-1}{n} = \\frac{n\\cdot\\lambda}{n+1}\\cdot \\frac{n-1}{n} = \\lambda$\n",
    "\n",
    "$$ \\widetilde{\\theta} = \\widehat{\\theta} \\cdot \\frac{n-1}{n} - несмещенная \\, оценка$$\n",
    "***Оценка методом моментов:***<br><br>\n",
    "$\\mathbb{E}X = \\frac{1}{\\lambda}$ - математическое ожидание (теоретическая величина)<br><br> \n",
    "$\\mathrm{M} = \\overline{X}$ - выборочное среднее (выборочная величина)<br><br>\n",
    "Следовательно, $\\widetilde{\\theta} = \\widetilde{\\lambda} = \\frac{1}{\\overline{X}}$<br><br>"
   ]
  },
  {
   "cell_type": "markdown",
   "id": "9429a71d",
   "metadata": {},
   "source": [
    "### 2.i.d Построить асимптотичексий доверительный интервал уровня значимости $\\alpha_1$ для параметра $\\lambda$ на базе оценки максимального правдоподобия. <br>\n",
    " $\\alpha_2 = 0.10$ <br><br>\n",
    " **Плотность распределения пуассона:**:\n",
    " \n",
    "$$\\Large q_{\\theta} = \\frac{\\sqrt{\\lambda}\\cdot exp\\left( \\frac{-\\lambda\\cdot x}{2} \\right)}{\\sqrt{2\\cdot \\pi\\cdot x}}$$\n",
    "\n",
    "$\\large \\widehat{\\theta} = \\widehat{\\lambda} = \\frac{1}{\\overline{X}}$<br><br>\n",
    "\n",
    "Из пункта 2.с:\n",
    "\n",
    "$\\frac{\\partial LL}{\\partial \\lambda} = \\frac{n}{2\\lambda}-\\frac{\\sum_{i=1}^{n}X_{i}}{2}$ \n",
    "\n",
    "$\\frac{\\partial^2 LL}{\\partial \\lambda^2} = -\\frac{n}{2 \\cdot \\lambda^2}$\n",
    "\n",
    "$\\mathrm{I}_n(\\lambda) = - \\large \\mathbb{E}_{\\theta}\\frac{\\partial^2 LL}{\\partial \\lambda^2} = \\mathbb{E}_{\\theta} \\left(\\frac{n}{2 \\cdot \\lambda^2}\\right) = \\frac{n}{2\\cdot\\lambda^2}$\n",
    "\n",
    "**Квантили:** \n",
    "\n",
    "Так как распределение симметричное: \n",
    "$x_{\\alpha} : \\mathrm{\\Phi}(x_{\\alpha}) = 1 - \\frac{\\alpha}{2} = 1 - \\frac{0.1}{2} = 0.95$, где $\\alpha = \\alpha_1 = 0.1$\n",
    "\n",
    "\n",
    "$\\mathrm{\\Phi}(x_{\\alpha}) = 0.95 \\Rightarrow x_{\\alpha} = 1.65$ \n",
    "\n",
    "*Асимптотический доверительный интервал:* \n",
    "\n",
    "$\\left[\\frac{1}{\\overline{X}} - \\frac{x_{\\alpha}}{\\sqrt{n\\cdot \\frac{n}{2\\cdot\\lambda^2}}} , \\frac{1}{\\overline{X}} + \\frac{x_{\\alpha}}{\\sqrt{n\\cdot \\frac{n}{2\\cdot\\lambda^2}}} \\right] \\ni \\lambda$"
   ]
  },
  {
   "cell_type": "code",
   "execution_count": 28,
   "id": "5e764503",
   "metadata": {},
   "outputs": [
    {
     "name": "stdout",
     "output_type": "stream",
     "text": [
      "0.5765017871555401\n",
      "0.5150366848616368 0.6379668894494435\n"
     ]
    }
   ],
   "source": [
    "x_alpha_2 = 1.65\n",
    "\n",
    "print(1/var_ryad_2.mean())\n",
    "\n",
    "left_2 = 1/var_ryad_2.mean() - x_alpha_2 * var_ryad_2.mean()/(len(var_ryad_2) * len(var_ryad_2) / 2 * var_ryad_2.mean())**0.5\n",
    "right_2 = 1/var_ryad_2.mean() + x_alpha_2 * var_ryad_2.mean()/(len(var_ryad_2) * len(var_ryad_2) / 2 * var_ryad_2.mean())**0.5\n",
    "\n",
    "print(left_2, right_2)"
   ]
  },
  {
   "cell_type": "markdown",
   "id": "bb95a9eb",
   "metadata": {},
   "source": [
    "Таким образом, АДИ уровня значимости $\\alpha_1$ для параметра $\\lambda$: \n",
    "\n",
    "$$\\left[0.515, 0.638\\right] \\ni \\lambda$$"
   ]
  },
  {
   "cell_type": "markdown",
   "id": "a4064fab",
   "metadata": {},
   "source": [
    "### 2.i.e C использованием теоремы Колмогорова построить критерий значимости проверки простой гипотезы согласия с показательным распределением с параметром  $\\lambda_0 = 0,36$. Проверить гипотезу на уровне значимости  $\\alpha_2 = 0,1$. Вычислить наименьшее значения уровня значимости, на котором ещё нет оснований отвергнуть гипотезу.\n"
   ]
  },
  {
   "cell_type": "markdown",
   "id": "f742267d",
   "metadata": {},
   "source": [
    "Статистика критерия Колмагорова: $D_n = sup_{x \\in \\mathbb{R}}|F_n(x) - F_0(x)|$\n",
    "\n",
    "Теорема Колмагорова: $\\sqrt{n}D_n \\rightarrow K, при \\, основной \\, гипотезе$\n",
    "\n",
    "$$D_n = 49.017 $$\n",
    "$$Критическое \\, значение: C =  0.192$$\n",
    "\n",
    "**Так как** $D_n > c $ **, то гипотезу отвергаем**\n",
    "\n",
    "Наибольшее значение уровня значимости, при котором ещё нет оснований отвергнуть данную гипотезу, очень мало $(\\ll 0.01)$\n"
   ]
  },
  {
   "cell_type": "code",
   "execution_count": 29,
   "id": "b022d75a",
   "metadata": {},
   "outputs": [
    {
     "name": "stdout",
     "output_type": "stream",
     "text": [
      "49.017611556026246 0.19206415147703973\n"
     ]
    }
   ],
   "source": [
    "from scipy.stats import gamma\n",
    "\n",
    "D = np.max(np.abs(gamma.cdf(var_ryad_2,1, scale=1/0.36) - np.arange(1, len(var_ryad_2)+1 / len(var_ryad_2))))\n",
    "critical_value = kstwobign.ppf(1 - 0.1/2) / np.sqrt(len(var_ryad_2))\n",
    "\n",
    "print(D, critical_value)"
   ]
  },
  {
   "cell_type": "markdown",
   "id": "44d15c01",
   "metadata": {},
   "source": [
    "### 2.i.f Используя гистограмму частот, построить критерий значимости $\\chi^2$ проверки простой гипотезы согласия с распределением Пуассона с параметром $\\lambda_0 = 0.36$. Проверить гипотезу на уровне значимости $\\alpha_1 = 0.1$. Вычислить наибольшее значение уровня значимости, на котором ещё нет оснований отвергнуть данную гипотезу.\n"
   ]
  },
  {
   "cell_type": "markdown",
   "id": "2db742f7",
   "metadata": {},
   "source": [
    "\n",
    "\n",
    "Расммотрим $\\mathbb{P}_{k} = \\mathbb{P}_{\\theta}\\left(x_i \\in G_k\\right) = \\sum \\limits_{x \\in G_k} q_{\\theta}(x)$ \n",
    "\n",
    "\n",
    "Из таблицы: $\\chi_{k-1, \\alpha_1}^2 = \\chi_{4, 0.1}^2 = 7.779$ \n",
    "\n",
    "Получили: $\\chi^2 = 125.919$\n",
    "\n",
    "**Так как** $\\chi^2 > \\chi_{4, 0.1}^2$ **, то гипотезу отвергаем**\n",
    "\n",
    "Наибольшее значение уровня значимости, при котором ещё нет оснований отвергнуть данную гипотезу, очень мало $(\\ll 0.01)$"
   ]
  },
  {
   "cell_type": "code",
   "execution_count": 30,
   "id": "2fd84bc1",
   "metadata": {},
   "outputs": [
    {
     "name": "stdout",
     "output_type": "stream",
     "text": [
      "14 11 13 6 5\n",
      "2.76\n",
      "0.6\n",
      "0.36\n",
      "0.17\n",
      "0.06\n",
      "Chi^2: 125.919\n",
      "x_alpha_1 равен: 7.779440339734858\n"
     ]
    }
   ],
   "source": [
    "lambda_0 = 0.36\n",
    "intervals = [[0.01, 0.36], [0.37,0.79], [0.80, 1.82], [1.83, 4.72], [4.73,11.22]]\n",
    "var_freq = [5, 10, 8, 2, 3, 6, 3, 2, 3, 3, 1, 1, 1, 1, 1]\n",
    "var_uniq = [0, 1, 2, 3, 4, 5, 6, 7, 8, 9, 10, 11, 13, 16, 18]\n",
    "\n",
    "\n",
    "exp_lambda = math.exp(-lambda_0)\n",
    "\n",
    "n = len(var_ryad)\n",
    "\n",
    "def n_counter(left:float, right:float):\n",
    "    counter = 0\n",
    "    for i in var_ryad_2:\n",
    "        if i >=left and i <=right:\n",
    "            counter += 1\n",
    "    return counter\n",
    "            \n",
    "    \n",
    "n_1 = n_counter(*intervals[0])\n",
    "n_2 = n_counter(*intervals[1])\n",
    "n_3 = n_counter(*intervals[2])\n",
    "n_4 = n_counter(*intervals[3])\n",
    "n_5 = n_counter(*intervals[4])\n",
    "\n",
    "print(n_1, n_2, n_3, n_4, n_5)\n",
    "#вычисление значений вероятностей\n",
    "\n",
    "P1 = math.sqrt(lambda_0)*math.exp(-lambda_0*intervals[0][0]/2)/math.sqrt(2* math.pi * intervals[0][0]) + math.sqrt(lambda_0)*math.exp(-lambda_0*intervals[0][1]/2)/math.sqrt(2* math.pi * intervals[0][1])\n",
    "P2 = math.sqrt(lambda_0)*math.exp(-lambda_0*intervals[1][0]/2)/math.sqrt(2* math.pi * intervals[1][0]) + math.sqrt(lambda_0)*math.exp(-lambda_0*intervals[1][1]/2)/math.sqrt(2* math.pi * intervals[1][1])\n",
    "P3 = math.sqrt(lambda_0)*math.exp(-lambda_0*intervals[2][0]/2)/math.sqrt(2* math.pi * intervals[2][0]) + math.sqrt(lambda_0)*math.exp(-lambda_0*intervals[2][1]/2)/math.sqrt(2* math.pi * intervals[2][1])\n",
    "P4 = math.sqrt(lambda_0)*math.exp(-lambda_0*intervals[3][0]/2)/math.sqrt(2* math.pi * intervals[3][0]) + math.sqrt(lambda_0)*math.exp(-lambda_0*intervals[3][1]/2)/math.sqrt(2* math.pi * intervals[3][1])\n",
    "P5 = math.sqrt(lambda_0)*math.exp(-lambda_0*intervals[4][0]/2)/math.sqrt(2* math.pi * intervals[4][0]) + math.sqrt(lambda_0)*math.exp(-lambda_0*intervals[4][1]/2)/math.sqrt(2* math.pi * intervals[4][1])\n",
    "\n",
    "\n",
    "print(round(P1, 2))\n",
    "print(round(P2, 2))\n",
    "print(round(P3, 2))\n",
    "print(round(P4, 2))\n",
    "print(round(P5, 2))\n",
    "    \n",
    "#вычисление критерия хи квадрат\n",
    "chi = ((n_1 - n*P1)**2) / (n*P1) + ((n_2 - n*P2)**2) / (n*P2) + ((n_3 - n*P3)**2) / (n*P3) + ((n_4 - n*P4)**2) / (n*P4)\n",
    "+ ((n_5 - n*P5)**2) / (n*P5)\n",
    "print('Chi^2:',round(chi, 3))\n",
    "\n",
    "print(\"x_alpha_1 равен:\", sp.chi2.ppf(1 - 0.1, df = 5-1))"
   ]
  },
  {
   "cell_type": "markdown",
   "id": "53b85059",
   "metadata": {},
   "source": [
    "### 2.i.g Построить критерий значимости $\\chi^2$ проверки сложной гипотезы согласия с распределением Пуассона. Проверить гипотезу на уровне значимости $\\alpha_1 = 0.1$. Вычислить наибольшее значение уровня значимости, на котором ещё нет оснований отвергнуть данную гипотезу.\n",
    "\n",
    "\n",
    "Расммотрим $\\mathbb{P}_{k} = \\mathbb{P}_{\\theta}\\left(x_i \\in G_k\\right) = \\sum \\limits_{x \\in G_k} q_{\\theta}(x)$ \n",
    "\n",
    "$\\widehat{\\lambda} = \\frac{1}{\\overline{X}} = \\frac{1}{1.73} = 0.578 $\n",
    "\n",
    "Из таблицы: $\\chi_{k-1, \\alpha_1}^2 = \\chi_{4, 0.1}^2 =  7.779$ \n",
    "Получty: $\\chi^2 = 130.173$\n",
    "\n",
    "**Так как** $\\chi^2 > \\chi_{4, 0.1}^2$ **, то гипотезу отвергаем**\n",
    "\n",
    "Наибольшее значение уровня значимости, при котором ещё нет оснований отвергнуть данную гипотезу, очень мало $(\\ll 0.01)$"
   ]
  },
  {
   "cell_type": "code",
   "execution_count": 31,
   "id": "a8b76e19",
   "metadata": {},
   "outputs": [
    {
     "name": "stdout",
     "output_type": "stream",
     "text": [
      "14 11 13 6 5\n",
      "3.02\n",
      "0.45\n",
      "0.27\n",
      "0.13\n",
      "0.04\n",
      "Chi^2: 130.173\n",
      "x_alpha_1 равен: 7.779440339734858\n"
     ]
    }
   ],
   "source": [
    "lambda_0 = 0.36\n",
    "intervals = [[0.01, 0.36], [0.37,0.79], [0.80, 1.82], [1.83, 4.72], [4.73,11.22]]\n",
    "var_freq = [5, 10, 8, 2, 3, 6, 3, 2, 3, 3, 1, 1, 1, 1, 1]\n",
    "var_uniq = [0, 1, 2, 3, 4, 5, 6, 7, 8, 9, 10, 11, 13, 16, 18]\n",
    "\n",
    "\n",
    "exp_lambda = math.exp(-lambda_0)\n",
    "\n",
    "n = len(var_ryad)\n",
    "\n",
    "def n_counter(left:float, right:float):\n",
    "    counter = 0\n",
    "    for i in var_ryad_2:\n",
    "        if i >=left and i <=right:\n",
    "            counter += 1\n",
    "    return counter\n",
    "            \n",
    "    \n",
    "n_1 = n_counter(*intervals[0])\n",
    "n_2 = n_counter(*intervals[1])\n",
    "n_3 = n_counter(*intervals[2])\n",
    "n_4 = n_counter(*intervals[3])\n",
    "n_5 = n_counter(*intervals[4])\n",
    "\n",
    "print(n_1, n_2, n_3, n_4, n_5)\n",
    "#вычисление значений вероятностей\n",
    "\n",
    "P1 = math.sqrt(1/var_ryad_2.mean())*math.exp(-1/var_ryad_2.mean()*intervals[0][0]/2)/math.sqrt(2* math.pi * intervals[0][0]) \n",
    "+ math.sqrt(1/var_ryad_2.mean())*math.exp(-1/var_ryad_2.mean()*intervals[0][1]/2)/math.sqrt(2* math.pi * intervals[0][1])\n",
    "P2 = math.sqrt(1/var_ryad_2.mean())*math.exp(-1/var_ryad_2.mean()*intervals[1][0]/2)/math.sqrt(2* math.pi * intervals[1][0])\n",
    "+ math.sqrt(1/var_ryad_2.mean())*math.exp(-1/var_ryad_2.mean()*intervals[1][1]/2)/math.sqrt(2* math.pi * intervals[1][1])\n",
    "P3 = math.sqrt(1/var_ryad_2.mean())*math.exp(-1/var_ryad_2.mean()*intervals[2][0]/2)/math.sqrt(2* math.pi * intervals[2][0]) \n",
    "+ math.sqrt(1/var_ryad_2.mean())*math.exp(-1/var_ryad_2.mean()*intervals[2][1]/2)/math.sqrt(2* math.pi * intervals[2][1])\n",
    "P4 = math.sqrt(1/var_ryad_2.mean())*math.exp(-1/var_ryad_2.mean()*intervals[3][0]/2)/math.sqrt(2* math.pi * intervals[3][0]) \n",
    "+ math.sqrt(1/var_ryad_2.mean())*math.exp(-1/var_ryad_2.mean()*intervals[3][1]/2)/math.sqrt(2* math.pi * intervals[3][1])\n",
    "P5 = math.sqrt(1/var_ryad_2.mean())*math.exp(-1/var_ryad_2.mean()*intervals[4][0]/2)/math.sqrt(2* math.pi * intervals[4][0]) \n",
    "+ math.sqrt(1/var_ryad_2.mean())*math.exp(-1/var_ryad_2.mean()*intervals[4][1]/2)/math.sqrt(2* math.pi * intervals[4][1])\n",
    "\n",
    "\n",
    "print(round(P1, 2))\n",
    "print(round(P2, 2))\n",
    "print(round(P3, 2))\n",
    "print(round(P4, 2))\n",
    "print(round(P5, 2))\n",
    "    \n",
    "#вычисление критерия хи квадрат\n",
    "chi = ((n_1 - n*P1)**2) / (n*P1) + ((n_2 - n*P2)**2) / (n*P2) + ((n_3 - n*P3)**2) / (n*P3) + ((n_4 - n*P4)**2) / (n*P4)\n",
    "+ ((n_5 - n*P5)**2) / (n*P5)\n",
    "print('Chi^2:',round(chi, 3))\n",
    "\n",
    "print(\"x_alpha_1 равен:\", sp.chi2.ppf(1 - 0.1, df = 5-1))"
   ]
  },
  {
   "cell_type": "markdown",
   "id": "8fdde7aa",
   "metadata": {},
   "source": [
    "### 2.h Построить наиболее мощный критерий проверки простой гипотезы гамма-распределенности с параметром $\\lambda_0 = 0.36$ при альтернативе амма-распределенности с параметром $\\lambda_1 = 0.21$.  Проверить гипотезу на уровне значимости $\\alpha_2 = 0.1$. Что получится, если поменять местами  основную и альтернативную гипотезы? "
   ]
  },
  {
   "cell_type": "markdown",
   "id": "1b0e0e1e",
   "metadata": {},
   "source": [
    " $ H_ {0} :  \\lambda  =  \\lambda _ {0} $ \n",
    " \n",
    " $ H_ {1} :  \\lambda  =  \\lambda _ {1} $ \n",
    " \n",
    "Cтатистическое отношение правдоподобия:\n",
    "\n",
    "\n",
    "\n",
    "$$LR(\\overrightarrow{X},\\lambda_{1},\\lambda_{0}) = =\\left(\\frac{\\lambda_{0}}{\\lambda_{1}}\\right)^{\\frac{n}{2}}\\cdot exp \\left((\\lambda_{1}-\\lambda_{0})\\cdot \\sum_{i=1}^{50}X_{i} \\right)$$\n",
    "\n",
    "$LR(\\overrightarrow{X},\\lambda_{1},\\lambda_{0})>  c\\Leftrightarrow \\overline{X} < c^*$\n",
    "\n",
    "$LR(\\overrightarrow{X},\\lambda_{1},\\lambda_{0})<  c\\Leftrightarrow \\overline{X} > c^*$\n",
    "\n",
    "${exp}^{{\\sum_{i=1}^{50}X_{i}}\\cdot (-\\lambda_{1} + \\lambda_{0})}=\\left(\\frac{\\lambda_{0}}{\\lambda_{1}}\\right)^n c$\n",
    "\n",
    "Логарифмируем:\n",
    "\n",
    "(1)    $c* = {\\sum_{i=1}^{50}X_{i}}=n \\cdot ln\\left(\\left(\\frac{\\lambda_{0}}{\\lambda_{1}}\\right) c\\right)$\n",
    "\n",
    "$\\sum_{i=1}^{50}X_{i}\\sim \\Gamma \\left(n,\\frac{1}{\\lambda}\\right)$\n",
    "\n",
    "$1-\\Phi_{\\Gamma \\left(n,\\frac{1}{\\lambda}\\right)}(c)=\\alpha_{2}$\n",
    "\n",
    "$ c = \\Phi^{-1}_{\\Gamma \\left(n,\\frac{1}{\\lambda}\\right)}(1-\\alpha_{2})$\n",
    "\n",
    "$ c = 164.58$\n",
    "\n",
    "Найдем с* подставив значени в выражение (1):\n",
    "\n",
    "$ с* = 282.12$\n",
    "\n",
    "$LR(\\overrightarrow{X}, \\lambda_{0}, \\lambda_{1}) = \\left(\\frac{0.36}{0.21}\\right)^{25} \\cdot e^{(0.21-0.36) \\cdot 233.328} = 0.00000021$\n",
    "\n",
    "$$ \\phi(x) =\\left\\{\n",
    "  \\begin{array}{l}\n",
    "    1, LR(x) > 164.58 \\\\\n",
    "    p, LR(x) = 164.58\\\\\n",
    "    0, LR(x) < 164.58\\\\\n",
    "  \\end{array}\\right.$$\n",
    "\n",
    "<br><br>\n",
    "\n",
    "  $$c > LR  \\to отвергаем\\,гипотезу$$"
   ]
  },
  {
   "cell_type": "code",
   "execution_count": 32,
   "id": "d1466ff7",
   "metadata": {},
   "outputs": [
    {
     "name": "stdout",
     "output_type": "stream",
     "text": [
      "c = 164.5805608486974\n",
      "c* =  282.1198341330877\n",
      "LR = 2.975891349133392e-13 \n",
      "\n",
      "c = 282.1381043120527\n",
      "c* =  282.1198341330877\n",
      "LR = 191428666630414.6\n"
     ]
    }
   ],
   "source": [
    "c_H0_H1 = sp.gamma.ppf(0.9, a =50, scale = 1/0.36)\n",
    "print('c =', c_H0_H1)\n",
    "c_zv_1 = 50*np.log(0.36/0.21*c_H0_H1)\n",
    "print('c* = ',c_zv_1)\n",
    "LR1 = ((0.36/0.21)**25)*np.exp(0.21*c_zv_1 - 0.36*c_zv_1)\n",
    "print('LR =', LR1,'\\n')\n",
    "\n",
    "c_H1_H0 = sp.gamma.ppf(0.9, a =50, scale=1/0.21)\n",
    "print('c =', c_H1_H0)\n",
    "c_zv_2 = 50*np.log(0.36/0.21*c_H1_H0)\n",
    "print('c* = ',c_zv_1)\n",
    "LR2 = ((0.21/0.36)**25)*np.exp(0.36*c_zv_2 - 0.21*c_zv_2)\n",
    "print('LR =', LR2)"
   ]
  },
  {
   "cell_type": "markdown",
   "id": "dfdd7284",
   "metadata": {},
   "source": [
    "**Меняем местами основную и альтернативную гипотезу:**\n",
    "\n",
    "$H_{0}=\\lambda_{1}$\n",
    "\n",
    "$H_{1}=\\lambda_{0}$\n",
    "\n",
    "Cтатистическое отношение правдоподобия:\n",
    "\n",
    "$$LR(\\overrightarrow{X},\\lambda_{0},\\lambda_{1}) = \\left(\\frac{\\lambda_{0}}{\\lambda_{1}}\\right)^n \\cdot exp^{-\\lambda_{0} \\cdot {\\sum_{i=1}^{50}X_{i}} + \\lambda_{1} \\cdot {\\sum_{i=1}^{50}X_{i}} }$$\n",
    "\n",
    "$LR(\\overrightarrow{X},\\lambda_{0},\\lambda_{1})>  c\\Leftrightarrow \\overline{X} < c^*$\n",
    "\n",
    "$LR(\\overrightarrow{X},\\lambda_{0},\\lambda_{1})<  c\\Leftrightarrow \\overline{X} > c^*$\n",
    "\n",
    "${exp}^{{\\sum_{i=1}^{50}X_{i}}\\cdot (-\\lambda_{0} + \\lambda_{1})}=\\left(\\frac{\\lambda_{1}}{\\lambda_{0}}\\right)^n c$\n",
    "\n",
    "$ c = \\Phi^{-1}_{\\Gamma \\left(n,\\frac{1}{\\lambda}\\right)}(1-\\alpha_{2})$\n",
    "\n",
    "$ c = 282.13$\n",
    "\n",
    "$ с* = 282.12$\n",
    "\n",
    "\n",
    "$LR(\\overrightarrow{X}, \\lambda_{0}, \\lambda_{1}) = \\left(\\frac{0.21}{0.36}\\right)^{50} \\cdot e^{(0.36-0.21) \\cdot 282.12} = 191428666630414.6$\n",
    "\n",
    "$$ \\phi(x) =\\left\\{\n",
    "  \\begin{array}{l}\n",
    "    1, LR(x) > 282.13 \\\\\n",
    "    p, LR(x) = 282.13\\\\\n",
    "    0, LR(x) < 282.13\\\\\n",
    "  \\end{array}\\right.$$\n",
    "\n",
    "\n",
    "\n",
    "   $$ c < LR \\to принимаем\\,гипотезу$$"
   ]
  },
  {
   "cell_type": "markdown",
   "id": "9710934f",
   "metadata": {},
   "source": [
    "## Выводы\n",
    "В ходе практической работы было изучено и реализовано применение методов математической статистики для решения задач статистического анализа,сформировались навыки реализации методов с помощью прикладных программных пакетов. Были изучены основные методы и приобретены навыками проведения статистических тестов, анализа выборочных данных, построения доверительных интервалов, проверки гипотез и т.д. Были построены оценки, асимптотические интервалы, проверены гипотезы. "
   ]
  }
 ],
 "metadata": {
  "kernelspec": {
   "display_name": "Python 3 (ipykernel)",
   "language": "python",
   "name": "python3"
  },
  "language_info": {
   "codemirror_mode": {
    "name": "ipython",
    "version": 3
   },
   "file_extension": ".py",
   "mimetype": "text/x-python",
   "name": "python",
   "nbconvert_exporter": "python",
   "pygments_lexer": "ipython3",
   "version": "3.11.4"
  }
 },
 "nbformat": 4,
 "nbformat_minor": 5
}
