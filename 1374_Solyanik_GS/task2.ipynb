{
  "cells": [
    {
      "cell_type": "markdown",
      "id": "7d4e8ed0-f158-4398-a88d-5e55973c7b05",
      "metadata": {
        "id": "7d4e8ed0-f158-4398-a88d-5e55973c7b05"
      },
      "source": [
        "# Практическая работа №2: Классические методы математической статистики\n",
        "Выполнил студент гр.1374 Соляник Глеб. Вариант 21"
      ]
    },
    {
      "cell_type": "markdown",
      "id": "1059a17c-d4e0-4b5e-b78e-985dec459be7",
      "metadata": {
        "id": "1059a17c-d4e0-4b5e-b78e-985dec459be7"
      },
      "source": [
        "## Цель работы\n",
        "\n",
        "Научится применять методы математической статистики для решения задач статистического анализа; сформировать навыки реализации методов с помощью прикладных программных пакетов."
      ]
    },
    {
      "cell_type": "markdown",
      "id": "e64cd078-e187-4164-afc6-c71907559416",
      "metadata": {
        "id": "e64cd078-e187-4164-afc6-c71907559416"
      },
      "source": [
        "## Основные теоретические положения\n",
        "\n",
        "Выборочные числовые xарактеристики:\n",
        "- Математическое ожидание\n",
        "\n",
        "  Teopетичская характерситика $E_F X=\\int_n d F(x)$  \n",
        "  \n",
        "  Выброчная характерситика $\\bar{X}=\\frac{1}{n} \\sum_{i=1}^n x_i$\n",
        "- К-ый момент\n",
        "\n",
        "  Teopетичская характерситика $E_F X^k=\\int x^K d F(x)$\n",
        "  \n",
        "  Выброчная характерситика $\\bar{x^k}=\\frac{1}{n} \\sum_{i=1}^n x_i^k$\n",
        "- Дисперсия\n",
        "\n",
        "  Teopетичская характерситика $D_f(x)=\\int\\left(x-E_f x\\right)^2 d F(x)=\\int x^2 d F(x)=\\left(E_F\\right.$\n",
        "\n",
        "  Выброчная характерситика $S^2=\\frac{1}{n} \\frac{n}{2}\\left(x_i-\\bar{x}\\right)^2=\\overline{x^2}-(\\bar{x})^2$\n",
        "- p-квантиль (p oт 0 дo 1 )\n",
        "\n",
        "  Teopетичская характерситика $\\{p(x \\leqslant z p) \\geqslant p$\n",
        "$\\{P(k \\geq z p) \\geqslant 1-p$\n",
        "\n",
        "  Выброчная характерситика $Z_{n,p}=\\left\\{x(n, p)+1)\\right.$, если $np\\notin z \\{(x(n p), x(n p+1))$, если $np \\in z$\n",
        "- Коэффцициент асимметри (скошенности)\n",
        "\n",
        "  Teopетичская характерситика $S_{\\text {kew }} X=\\frac{F_F\\left(X-E_F X\\right)^3}{\\left(D_F X\\right)^{3 / 2}}$.\n",
        "\n",
        "   Выброчная характерситика $\\hat{S_{kew}}X=\\left(\\frac{1}{n} \\sum_{i=1}^n\\left(x_i-\\bar{x}\\right)^3\\right) / s^3$\n",
        "- Коэффициент эксцесса (островершинности)\n",
        "\n",
        "   Teopетичская характерситика. $Kurt_F=\\frac{E_F\\left(X-F_F X\\right)^4}{\\left(D_F X\\right)^2}-3$\n",
        "\n",
        "   Выброчная характерситика  $Kurt_X=\\frac{1}{n} \\frac{\\sum_{i=1}^n\\left(x_i-\\bar{x}^4\\right)}{s^4}-3$\n",
        "  \n",
        "Если $X_{1},...,X_{n}$-выборка из распределения с плотностью распределения $P_{\\theta}, \\theta\\in \\Theta$, то\n",
        "\n",
        "Функция правдоподобия распадается в произведения $L(\\overrightarrow{X},\\theta)=\\prod_{i=1}^{n}P_{\\theta}(X_{i})$\n",
        "\n",
        "Логарифм функции правдоподобия представляется в виде суммы $LL(\\overrightarrow{X},\\theta)=\\ln L(\\overrightarrow{X},\\theta)=\\sum_{i=1}^{n}\\ln P_{\\theta}(X_{i})$\n",
        "\n",
        "В силу монотонности логарифма задача максимизации функции правдоподобия сводится к задаче максимизации ее логарифма по всем $\\theta\\in \\Theta  LL(\\overrightarrow{X}),\\theta=\\sum_{i=1}^{n}\\ln P_{\\theta}(X_{i})$\n",
        "\n",
        "Если $\\theta$ - d-мерный параметр и $P_{\\theta}$ дифференцируема по $\\theta$, то для нахождения максимума надо найти решения системы уравнений: U$(\\overrightarrow{X},\\theta)=\\frac{\\partial }{\\partial \\theta}LL(\\overrightarrow{X},\\theta)=0, i=\\overline{1,d}$\n",
        "\n",
        "Оценка метода моментов (ОММ)\n",
        "\n",
        "Пусть $X_{1},...,X_{n}$-выбока из распределения $P_{\\theta}, \\theta=(\\theta_{1},...,\\theta_{d})$\n",
        "\n",
        "$\\exists \\mu_{k}(\\theta)=\\mathbb{E}X^{k}_{1}, k=\\overline{1,d}$\n",
        "\n",
        "Если $\\exists$ ! решение $\\widetilde{\\theta}(X)$ системы уравнений: $\\widehat{\\mu^{k}}(\\widetilde{\\theta})=\\mu_{k}(\\theta), k=\\overline{1,d}$, где $\\widetilde{\\theta}(X)=\\frac{1}{n}\\sum_{i=1}^{n}X^{k}_{i}$-выборочный момент k-го порядка, то $\\widetilde{\\theta}(X)$ называется оценкой по методу моментов\n",
        "\n",
        "НРМД-оценки (несмещенная оценка)\n",
        "\n",
        "Оценка $\\widehat{\\theta}(X)$ параметра $\\theta$ называется несмещенной, если при любом значении параметра $\\theta\\in \\Theta: \\mathbb{E}\\widehat{\\theta}(X)=\\theta$\n",
        "\n",
        "Смещением оценки называется величина: $bias_{\\widehat{\\theta}}(\\theta)=\\mathbb{E}_{\\theta}\\widehat{\\theta}(X)-\\theta$\n",
        "\n",
        "Алгоритм несмещенного оценивания:\n",
        "\n",
        "Найти оценку $\\widehat{\\theta}(T)$, являющуюся функцией от минимальной достаточной статистики T(e.g.ОМП)\n",
        "\n",
        "Доказать полноту МДС T\n",
        "\n",
        "Скорректировать смещение:$\\widetilde{\\theta}(T)=f(\\widehat{\\theta}(T),T): \\mathbb{E}_{\\theta}\\widetilde{\\theta}(T)=\\theta,\\forall \\theta\\in \\Theta$\n",
        "\n",
        "Асимптотический доверительный интервал (АДИ)\n",
        "\n",
        "На базе Асимптотической нормальности оценки $\\widehat{\\theta}$\n",
        "\n",
        "Асимптотическая нормальность $\\sqrt{n}\\left( \\widehat{\\theta}(\\overrightarrow{X})-\\theta)\\right)\\sim \\mathcal{N}\\left(0,\\sigma^{2}(\\theta)\\right)$\n",
        "\n",
        "Тогда $\\sqrt{n}\\frac{\\widehat{\\theta}(\\overrightarrow{X})-\\theta}{\\sigma\\left(\\widehat{\\theta}(\\overrightarrow{X})\\right)}$    \n",
        "\n",
        "Выбираем $X_{\\alpha}: \\Phi(X_{\\alpha})=1-\\frac{\\alpha}{2}$\n",
        "\n",
        "А.Д.И. $\\left[ \\widehat{\\theta}(\\overrightarrow{X})-\\frac{X_{\\alpha}\\cdot \\sigma\\left( \\widehat{\\theta}(\\overrightarrow{X}) \\right)}{\\sqrt{n}}; \\widehat{\\theta}(\\overrightarrow{X})+\\frac{X_{\\alpha}\\cdot \\sigma\\left( \\widehat{\\theta}(\\overrightarrow{X}) \\right)}{\\sqrt{n}}\\right]$\n",
        "\n",
        "на базе ОМП\n",
        "\n",
        "Пусть $\\widehat{\\theta}(\\overrightarrow{X})$\n",
        "\n"
      ]
    },
    {
      "cell_type": "markdown",
      "id": "9954546e-87a6-4751-90bb-1a6d10cf3c01",
      "metadata": {
        "id": "9954546e-87a6-4751-90bb-1a6d10cf3c01"
      },
      "source": [
        "## Постановка задачи\n",
        "\n"
      ]
    },
    {
      "cell_type": "markdown",
      "id": "85eb574d-26c4-47ea-a709-9060360e4896",
      "metadata": {
        "id": "85eb574d-26c4-47ea-a709-9060360e4896"
      },
      "source": [
        "## Выполнение работы"
      ]
    },
    {
      "cell_type": "markdown",
      "id": "9b48bdb2-ffe0-4dd7-8ccb-11326ca8d45a",
      "metadata": {
        "id": "9b48bdb2-ffe0-4dd7-8ccb-11326ca8d45a"
      },
      "source": [
        "### 1. В результате эксперемента получены данные, приведенные в таблице 1\n",
        "\n",
        "\n",
        "$ \\alpha_1 = 0.10; \\quad a = 0.00; \\quad b = 10.48; \\quad \\lambda_0 = 4.00; \\quad \\lambda_1 = 6.00.$ \\\\\n",
        "Таблица 1 \\\\\n",
        "10 18 1 4 7 3 3 6 2 0 2 3 0 6 14 2 0 9 9 3 7 4 0 8 2 3 2 1 12 0 2 3 2 4 6 2 5 2 23 0 0 1 1 7 22 8 1 2 0 6"
      ]
    },
    {
      "cell_type": "markdown",
      "source": [
        "####a) Построить вариационный ряд, эмпирическую функцию распределения и гистограмму частот."
      ],
      "metadata": {
        "id": "ha0W7Q5-FtjZ"
      },
      "id": "ha0W7Q5-FtjZ"
    },
    {
      "cell_type": "code",
      "source": [
        "import numpy as np\n",
        "import matplotlib.pyplot as plt\n",
        "from collections import Counter\n",
        "\n",
        "# Исходные данные\n",
        "data = '10 18 1 4 7 3 3 6 2 0 2 3 0 6 14 2 0 9 9 3 7 4 0 8 2 3 2 1 12 0 2 3 2 4 6 2 5 2 23 0 0 1 1 7 22 8 1 2 0 6'\n",
        "data = list(map(int, data.split()))\n",
        "\n",
        "# Количество наблюдений\n",
        "n = len(data)\n",
        "\n",
        "# Вариационный ряд\n",
        "variation_series = sorted(data)\n",
        "print('Вариационный ряд:', variation_series)\n",
        "# Эмпирическая функция распределения\n",
        "def empirical_cdf(x):\n",
        "    count = 0\n",
        "    for value in variation_series:\n",
        "        if value <= x:\n",
        "            count += 1\n",
        "    return count / n\n",
        "\n",
        "plt.figure(figsize=(12, 7))\n",
        "\n",
        "# Гистограмма\n",
        "plt.subplot(1, 2, 1)\n",
        "plt.hist(variation_series, bins=max(variation_series) - min(variation_series) + 1, alpha=0.7, color='skyblue', edgecolor='black', density=True)\n",
        "plt.xlabel('Значение')\n",
        "plt.ylabel('Частота')\n",
        "plt.title('Гистограмма')\n",
        "plt.grid(True)\n",
        "plt.show\n",
        "\n",
        "# Построение эмпирической функции распределения\n",
        "x_values_cdf = np.linspace(min(variation_series), max(variation_series), 100)\n",
        "y_values_cdf = [empirical_cdf(x) for x in x_values_cdf]\n",
        "plt.subplot(1, 2, 2)\n",
        "plt.plot(x_values_cdf, y_values_cdf, label='Эмпирическая функция распределения')\n",
        "plt.xlabel('Значение')\n",
        "plt.ylabel('Вероятность')\n",
        "plt.title('Эмпирическая функция распределения')\n",
        "plt.grid(True)\n",
        "\n",
        "plt.tight_layout()\n",
        "\n",
        "plt.show()"
      ],
      "metadata": {
        "colab": {
          "base_uri": "https://localhost:8080/",
          "height": 745
        },
        "id": "kqc7gx2bG5oC",
        "outputId": "38274419-86a6-43e6-af37-bd19adf5734a"
      },
      "id": "kqc7gx2bG5oC",
      "execution_count": 1,
      "outputs": [
        {
          "output_type": "stream",
          "name": "stdout",
          "text": [
            "Вариационный ряд: [0, 0, 0, 0, 0, 0, 0, 0, 1, 1, 1, 1, 1, 2, 2, 2, 2, 2, 2, 2, 2, 2, 2, 3, 3, 3, 3, 3, 3, 4, 4, 4, 5, 6, 6, 6, 6, 7, 7, 7, 8, 8, 9, 9, 10, 12, 14, 18, 22, 23]\n"
          ]
        },
        {
          "output_type": "display_data",
          "data": {
            "text/plain": [
              "<Figure size 1200x700 with 2 Axes>"
            ],
            "image/png": "[encoded data removed]"
          },
          "metadata": {}
        }
      ]
    },
    {
      "cell_type": "markdown",
      "source": [
        "####b) Вычислить выборочные аналоги следующих числовых характеристик:\n",
        "(i)математического ожидания; (ii) дисперсии; (iii) СКО; (iv) медианы; (v) асимметрии; (vi) эксцесса; (vіi) вероятности $ \\mathbb{P}\\left(X \\in [a, b]\\right)$."
      ],
      "metadata": {
        "id": "DrLYFAj2Iu0y"
      },
      "id": "DrLYFAj2Iu0y"
    },
    {
      "cell_type": "code",
      "source": [
        "from scipy import stats\n",
        "\n",
        "mean = np.round(np.mean(data), 3)\n",
        "var = np.round(np.var(data), 3)\n",
        "std = np.round(np.std(data), 3)\n",
        "median = np.round(np.median(data), 3)\n",
        "skew = np.round(stats.skew(data), 3)\n",
        "kurt = np.round(stats.kurtosis(data), 3)\n",
        "\n",
        "a = 0\n",
        "b = 10.48\n",
        "P = len([x for x in data if a<=x<=b])/len(data)\n",
        "print(f'Математическое ожидание - {mean}\\nДисперсия - {var}\\nСКО - {std}\\nМедиана - {median}\\nКоэффициент асимметрии - {skew}\\nКоэффициент эксцесса - {kurt}\\nВеротяность - {P}')"
      ],
      "metadata": {
        "colab": {
          "base_uri": "https://localhost:8080/"
        },
        "id": "gUvEhRcuJErL",
        "outputId": "a083aa74-d83b-4223-ebca-34151eed97ef"
      },
      "id": "gUvEhRcuJErL",
      "execution_count": null,
      "outputs": [
        {
          "output_type": "stream",
          "name": "stdout",
          "text": [
            "Математическое ожидание - 4.76\n",
            "Дисперсия - 27.942\n",
            "СКО - 5.286\n",
            "Медиана - 3.0\n",
            "Коэффициент асимметрии - 1.857\n",
            "Коэффициент эксцесса - 3.333\n",
            "Веротяность - 0.9\n"
          ]
        }
      ]
    },
    {
      "cell_type": "markdown",
      "source": [
        "#### c) В предположении, что исходные наблюдения являются выборкой из распределения Пуассона, построить оценку максимального правдоподобия параметра $\\lambda$, а также оценку $\\lambda$ по методу моментов. Найти смещение оценок."
      ],
      "metadata": {
        "id": "MdJ5Je3QJoYy"
      },
      "id": "MdJ5Je3QJoYy"
    },
    {
      "cell_type": "markdown",
      "source": [
        "$\\begin{split}\n",
        "  ОМП: \\\\\n",
        "  & \\mathbb{P}_{\\lambda}\\left(X = k\\right) = \\frac{\\lambda^k}{k!}\\exp(-{\\lambda}) \\\\\n",
        "  & L\\left(\\vec{X},\\lambda\\right) = \\prod_{i=1}^{n} \\frac{\\lambda^{x_{i}}}{x_i!}\\exp(-{\\lambda}) = \\exp(-n\\lambda) \\lambda^{\\sum_{i=1}^{n} x_i} \\prod_{i=1}^{n} \\frac{1}{x_i!} \\\\\n",
        "  & LL\\left(\\vec{X},\\lambda\\right) = -n\\lambda + \\sum_{i=1}^{n}x_i\\ln\\left(\\lambda\\right)+\\ln\\left(\\prod_{i=1}^{n} \\frac{1}{x_i!}\\right) \\\\\n",
        "  & \\frac{\\partial LL\\left(\\vec{X},\\lambda\\right)}{\\partial \\lambda} = -n + \\sum_{i=1}^{n} x_i  \\frac{1}{\\lambda} \\\\\n",
        "  & -n + \\sum_{i=1}^{n} x_i  \\frac{1}{\\lambda}  = 0\\\\\n",
        "  & n = \\sum_{i=1}^{n} x_i  \\frac{1}{\\lambda} \\\\\n",
        "  & \\lambda  = \\frac{1}{n}  \\sum_{i=1}^{n} x_i \\\\\n",
        "  & \\hat\\theta = \\hat\\lambda  = \\bar{X} = 4.76 - ОМП\n",
        "\\end{split}$\n",
        "\n",
        "\n",
        "$\n",
        "\\begin{aligned}\n",
        "ОММ: \\\\\n",
        "& \\hat{\\theta}=\\hat{\\lambda}= \\bar{X}\\\\\n",
        "& \\mathbb{E} X_1=\\lambda \\quad M_1=\\bar{X} \\\\\n",
        "& \\lambda \\approx \\bar{X} \\quad \\tilde\\lambda=\\bar{X} \\rightarrow \\tilde\\theta =  \\tilde{\\lambda}=\\bar{X} = 4.76 \\\\\n",
        "&\n",
        "\\end{aligned}\n",
        "$\n",
        "\n",
        "$\n",
        "\\begin{aligned}\n",
        "НРМД: \\\\\n",
        "& g\\left(T(\\overrightarrow{X})\\right)=\\lambda^{\\sum_{i=1}^{n}x_{i}} exp(-n \\lambda) \\\\\n",
        "& h(\\overrightarrow{X})=\\frac{1}{\\prod_{i=1}^{n}x_{i}!} \\\\\n",
        "& T=\\sum_{i=1}^{n}x_{i}=238  - \\text{МДС}\\\\\n",
        "& \\text{ Распределение Пуассона принадлежит exp семейству распределения, следовательно, МДС будет являться ПДС.} \\\\\n",
        "& \\mathbb{E}_{\\lambda}\\overline{X}=\\mathbb{E}_{\\lambda}\\frac{1}{n} \\sum_{i=1}^{n}x_{i}=\\frac{1}{n} \\mathbb{E_{\\lambda}}\\sum_{i=1}^{n}x_{i}=\\frac{1}{n}\\sum_{i=1}^{n}\\mathbb{E_{\\lambda}}X_{1}=\\frac{1}{n} n \\mathbb{E}_{\\lambda}X_{1}=\\lambda=4.76- \\text{НРМД-оценка}\n",
        "\\end{aligned}\n",
        "$"
      ],
      "metadata": {
        "id": "CfMZ6kghJwqm"
      },
      "id": "CfMZ6kghJwqm"
    },
    {
      "cell_type": "code",
      "source": [
        "# Вычисление полученных характеристик для пункта c):\n",
        "\n",
        "theta_hat = mean\n",
        "theta_tilde = mean\n",
        "T = sum(data)\n",
        "print(f'ОМП - {theta_hat}\\nОММ - {theta_tilde}\\nДостаточная статистика T - {T}')"
      ],
      "metadata": {
        "colab": {
          "base_uri": "https://localhost:8080/"
        },
        "id": "ovaealDsKMrO",
        "outputId": "0ab3b16f-f2b2-45f3-96bb-277e4aba17bd"
      },
      "id": "ovaealDsKMrO",
      "execution_count": null,
      "outputs": [
        {
          "output_type": "stream",
          "name": "stdout",
          "text": [
            "ОМП - 4.76\n",
            "ОММ - 4.76\n",
            "Достаточная статистика T - 238\n"
          ]
        }
      ]
    },
    {
      "cell_type": "code",
      "source": [
        "from scipy.stats import norm\n",
        "\n",
        "# Уровень доверия\n",
        "confidence_level = 0.995\n",
        "\n",
        "# Нахождение значения X_0.8 для стандартного нормального распределения\n",
        "X_08 = norm.ppf(confidence_level)\n",
        "\n",
        "print(f\"X_0.8 для стандартного нормального распределения: {X_08:.2f}\")"
      ],
      "metadata": {
        "colab": {
          "base_uri": "https://localhost:8080/"
        },
        "id": "KHR86APq_ztl",
        "outputId": "d4817a55-ec42-4827-af65-7a6c4c6ccc6d"
      },
      "id": "KHR86APq_ztl",
      "execution_count": null,
      "outputs": [
        {
          "output_type": "stream",
          "name": "stdout",
          "text": [
            "X_0.8 для стандартного нормального распределения: 2.58\n"
          ]
        }
      ]
    },
    {
      "cell_type": "markdown",
      "source": [
        "#### d)Построить асимитотический доверительный интервал уровня значимости $\\alpha_1 $ для параметра $\\lambda$ на базе оценки максимального правдоподобия.\n"
      ],
      "metadata": {
        "id": "smnxrdaB40tp"
      },
      "id": "smnxrdaB40tp"
    },
    {
      "cell_type": "markdown",
      "source": [
        "- Метод построения на базе ОМП\n",
        "\n",
        "$\\sqrt{n}\\left( \\widehat{\\theta}(\\overrightarrow{X})-\\theta \\right)\\sim N\\left( 0, \\frac{1}{I(\\theta)} \\right)$\n",
        "\n",
        "$\\widehat{\\theta}=\\widehat{\\lambda}=\\overline{X}$\n",
        "\n",
        "$I(\\theta)=-\\mathbb{E}\\left( \\frac{\\partial^{2} LL}{\\partial \\lambda^{2}} \\right)=-\\mathbb{E}\\left( -\\frac{\\sum_{i=1}^{n}X_{i}}{\\lambda^{2}} \\right)=\\frac{n}{\\lambda^{2}}$\n",
        "\n",
        "$\\sqrt{n I\\left(  \\widehat{\\theta}(\\overrightarrow{X})\\right)}\\left( \\widehat{\\theta}(\\overrightarrow{X})-\\theta \\right)\\sim N(0,1)$\n",
        "\n",
        "$X_{\\alpha}$: $\\mathrm{Ф}(X_{\\alpha})=1-\\frac{\\alpha_{1}}{2}=1-\\frac{0.1}{2}=0.95 \\to X_{0.95}=1.64$\n",
        "\n",
        "$А.Д.И. \\left[ \\overline{X}-\\frac{X_{0.95}}{\\sqrt{50 \\frac{50}{\\overline{X}^2}}}; \\overline{X}+\\frac{X_{0.95}}{\\sqrt{50 \\frac{50}{\\overline{X}^2}}}\\right] \\to 4.76-\\frac{1.64}{11.73}\\le \\lambda\\le 4.76+\\frac{1.64}{11.73}$\n",
        "\n",
        "$4.62\\le \\lambda\\le 4.9$ - Асимп. довер. интервал параметра $\\lambda$.\n",
        "\n",
        "- Метод построения АДИ на базе АНО $\\hat\\theta$\n",
        "\n",
        "$\\sqrt{n}\\left( \\widehat{\\theta}(\\overrightarrow{X})-\\theta \\right)\\sim N(0,\\sigma^{2}(\\theta))$\n",
        "\n",
        "$\\sqrt{n}\\frac{ \\widehat{\\theta}(\\overrightarrow{X})-\\theta}{\\sigma(\\widehat{\\theta})}\\sim N(0,1)$\n",
        "\n",
        "$X_{\\alpha}: \\mathrm{Ф(X_{\\alpha})}=0.95\\to X_{0.95}=1.64$\n",
        "\n",
        "$-X_{0.95}\\le \\sqrt{n} \\frac{\\widehat{\\lambda}-\\lambda}{\\sqrt{\\widehat{\\lambda}}}\\le X_{0.95}$\n",
        "\n",
        "$4.76-\\frac{1.64\\cdot 2.18}{\\sqrt{50}}\\le \\lambda\\le 4.76+\\frac{1.64\\cdot 2.18}{\\sqrt{50}}\\to 4.6\\le \\lambda\\le 4.9$ - А.Д.И. параметра $\\lambda$"
      ],
      "metadata": {
        "id": "3QEhBe9t56Vu"
      },
      "id": "3QEhBe9t56Vu"
    },
    {
      "cell_type": "markdown",
      "source": [
        "#### e) Используя гистограмму частот, построить критерий значимости $\\mathcal{X^{2}}$ проверки простой гипотезы согласия с распределением Пуассона с параметром $\\lambda_{0}$. Проверить гипотезу на урокень значимости $\\alpha_{1}$. Вычислить наибольшее значение уровня значимости, на котором ещё нет оснований отвергнуть данную гипотезу.\n",
        "\n",
        "$\\lambda_0 = 4 \\\\ \\alpha = 0.1$\n",
        "\n",
        "$P_{i}=P_{H_{0}}=(X\\in \\Delta_{i})=\\sum_{k\\in \\Delta_{i}}\\frac{\\lambda_{0}^{k}}{k!}exp(-\\lambda_{0}) = exp(-\\lambda_{0}) \\sum_{k\\in I_{i}} \\frac{\\lambda_{0}^{k}}{k!} $\n",
        "\n",
        "$\\Delta_{1}=\\left[ 0,12 \\right], n_{1}=45$\n",
        "\n",
        "$P_{1}=exp(-4)\\left(\\frac{4^{0}}{0!}+\\frac{4^{12}}{12!}\\right)=0.02\\to nP_{1}=0.95$\n",
        "\n",
        "$\\Delta_{2}=\\left[ 12,23 \\right], n_{3}=5$\n",
        "\n",
        "$P_{2}=exp(-4)\\left(\\frac{4^{12}}{12!}+\\frac{4^{23}}{23!}\\right)=0.0006\\to nP_{2}=0.03$\n",
        "\n",
        "\n",
        "Критерий $\\mathcal{X}^{2}: \\mathcal{X}^{2}_{набл}=\\sum_{i=1}^{4}\\frac{(n_{i}-np_{i})^{2}}{np_{i}} = \\frac{(45 - 0.95)^2}{0.95} + \\frac{(5 -  0.03)^2}{0.03} = 2865$\n",
        "\n",
        "$\\mathcal{X}^{2}_{N-1,1-\\alpha_{1}}=\\mathcal{X}^{2}_{1,0.8}\\simeq 2.706$\n",
        "\n",
        "$\\mathcal{X}^{2}\\gt \\mathcal{X}^{2}_{1,0.8}\\to$ по критерию Пирсона мы отвергаем гипотезу\n",
        "\n",
        "Наибольшее значение уровня значимости, при котором нет еще оснований отвергнуть данную гипотезу $\\simeq$ 0.1"
      ],
      "metadata": {
        "id": "ArhndcvPzUVM"
      },
      "id": "ArhndcvPzUVM"
    },
    {
      "cell_type": "code",
      "source": [
        "# Задаем интервалы\n",
        "bins = np.linspace(min(data), max(data), 3)\n",
        "bins[1] = 12\n",
        "\n",
        "# Получаем гистограмму значений и количество элементов в каждом интервале\n",
        "hist, bin_edges = np.histogram(data, bins)\n",
        "\n",
        "# Выводим результаты\n",
        "print(\"Гистограмма значений:\", hist)\n",
        "print(\"Интервалы:\", bin_edges)"
      ],
      "metadata": {
        "colab": {
          "base_uri": "https://localhost:8080/"
        },
        "id": "aCj9aQmrzptH",
        "outputId": "82310270-5e1a-4f06-bc46-934ed7fc3980"
      },
      "id": "aCj9aQmrzptH",
      "execution_count": null,
      "outputs": [
        {
          "output_type": "stream",
          "name": "stdout",
          "text": [
            "Гистограмма значений: [45  5]\n",
            "Интервалы: [ 0. 12. 23.]\n"
          ]
        }
      ]
    },
    {
      "cell_type": "code",
      "source": [
        "import math\n",
        "np.exp(-4)*(math.pow(4, 12)/math.factorial(12) + math.pow(4, 23)/math.factorial(23))*50"
      ],
      "metadata": {
        "colab": {
          "base_uri": "https://localhost:8080/"
        },
        "id": "-zTWBQqt3_uO",
        "outputId": "2675c002-c910-4f4a-86c5-9816126d23a6"
      },
      "id": "-zTWBQqt3_uO",
      "execution_count": null,
      "outputs": [
        {
          "output_type": "execute_result",
          "data": {
            "text/plain": [
              "0.03207561871347068"
            ]
          },
          "metadata": {},
          "execution_count": 18
        }
      ]
    },
    {
      "cell_type": "markdown",
      "source": [
        "#### f)Построить критерий значимости  $\\mathcal{X^{2}}$ проверки сложной гипотезы согласия с распределением Пуассона. Проверить гипотезу по уровню значимости $\\alpha_{1}$.Вычислить наибольшее значение уровня значимости, на котором ещё нет оснований отвергнуть данную гипотезу.\n",
        "\n",
        "$\\alpha = 0.1 \\\\ \\lambda=\\bar{X}$\n",
        "\n",
        "$P_{i}=P_{H_{0}}=(X\\in I_{i})= \\sum_{k\\in \\Delta_{i}}\\frac{\\lambda^{k}}{k!}exp(-\\lambda) =\\sum_{k\\in I_{i}}^{}\\frac{\\overline{X}^{k}}{k!}exp(-\\overline{X})$\n",
        "\n",
        "$\\Delta_{1}=\\left[ 0,12 \\right], n_{1}=45$\n",
        "\n",
        "$P_{1}=exp(-4.76)\\left(\\frac{4.76^{0}}{0!}+\\frac{4.76^{12}}{12!}\\right)=0.01\\to nP_{1}=0.55$\n",
        "\n",
        "$\\Delta_{2}=\\left[ 12,23 \\right], n_{3}=5$\n",
        "\n",
        "$P_{2}=exp(-4.76)\\left(\\frac{4.76^{12}}{12!}+\\frac{4.76^{23}}{23!}\\right)=0.002\\to nP_{2}=0.12$\n",
        "\n",
        "\n",
        "Критерий $\\mathcal{X}^{2}: \\mathcal{X}^{2}_{набл}=\\sum_{i=1}^{4}\\frac{(n_{i}-np_{i})^{2}}{np_{i}} = \\frac{(45 - 0.55)^2}{0.55} + \\frac{(5 - 0.12)^2}{0.12} = 3790$\n",
        "\n",
        "$\\mathcal{X}^{2}_{N-1,1-\\alpha_{1}}=\\mathcal{X}^{2}_{1,0.8}\\simeq 2.706$\n",
        "\n",
        "$\\mathcal{X}^{2}\\gt \\mathcal{X}^{2}_{1,0.8}\\to$ по критерию Пирсона мы отвергаем гипотезу\n",
        "\n",
        "Наибольшее значение уровня значимости, при котором нет еще оснований отвергнуть данную гипотезу $\\simeq$ 0.1"
      ],
      "metadata": {
        "id": "kr0AX3Th7-Wt"
      },
      "id": "kr0AX3Th7-Wt"
    },
    {
      "cell_type": "code",
      "source": [
        "import math\n",
        "np.exp(-4.76)*(math.pow(4.76, 23)/math.factorial(23) + math.pow(4.76, 12)/math.factorial(12))*50"
      ],
      "metadata": {
        "colab": {
          "base_uri": "https://localhost:8080/"
        },
        "id": "7BmBglxw9F_K",
        "outputId": "324681de-02ed-449e-9d48-95c5f3b3dcef"
      },
      "id": "7BmBglxw9F_K",
      "execution_count": null,
      "outputs": [
        {
          "output_type": "execute_result",
          "data": {
            "text/plain": [
              "0.12096924434422879"
            ]
          },
          "metadata": {},
          "execution_count": 24
        }
      ]
    },
    {
      "cell_type": "markdown",
      "source": [
        "#### g)Построить наиболее мощный критерий проверки простой гипотезы пауссоновости с параметром $\\lambda=\\lambda_{0}$ при альтернативе пуассоновсти с параметром $\\lambda=\\lambda_{1}$. Проверить гипотезу на уровне значимости $\\alpha_{1}$. Что получится, если поменять местами основную и альтернативную гипотезы?\n",
        "\n",
        "$H_{0}=\\lambda_{0} = 4$\n",
        "\n",
        "$H_{A}=\\lambda_{1} = 6$\n",
        "\n",
        "\n",
        "$LR(\\overrightarrow{X},\\lambda_{1},\\lambda_{0}) = \\frac{L\\left( \\overrightarrow{X},\\lambda_{1} \\right)}{L\\left( \\overrightarrow{X},\\lambda_{0} \\right)}= \\frac{\\lambda_{1}^{\\sum_{i=1}^{n}X_{i}}\\cdot exp(-n\\cdot \\lambda_{1})}{\\lambda_{0}^{\\sum_{i=1}^{n}X_{i}}\\cdot exp(-n\\cdot \\lambda_{0})} = \\left(\\frac{\\lambda_1}{\\lambda_0}\\right)^n \\exp(-n(\\lambda_1 - \\lambda_0))$\n",
        "\n",
        "В силу монотонности статистики $LR(\\overrightarrow{X})$ относительно МДС $T(\\overrightarrow{X})=\\sum_{i=1}^{n}X_{i}$\n",
        "\n",
        "$LR(\\overrightarrow{X},\\lambda_{1},\\lambda_{0})\\gt c\\Leftrightarrow \\overline{X}\\gt c$\n",
        "\n",
        "$\\sqrt{n}\\frac{\\overline{X}-\\lambda_{0}}{\\sqrt{\\overline{X}}}\\sim N(0,1)$\n",
        "\n",
        "$P\\left(\\sqrt{n}\\frac{\\overline{X}-\\lambda_{0}}{\\sqrt{\\overline{X}}} \\right)\\gt \\sqrt{n}\\frac{\\overline{X}-\\lambda_{0}}{\\sqrt{\\overline{X}}}=1-\\Phi\\left(\\sqrt{n}\\frac{\\overline{X}-\\lambda_{0}}{\\sqrt{\\overline{X}}} \\right)=\\alpha_{1}$\n",
        "\n",
        "$\\Phi\\left(\\sqrt{n}\\frac{\\overline{X}-\\lambda_{0}}{\\sqrt{\\overline{X}}} \\right)=1-\\alpha_{1}=0.8$\n",
        "\n",
        "$\\sqrt{n}\\frac{\\overline{X}-\\lambda_{0}}{\\sqrt{\\overline{X}}}\\gt \\sqrt{n}\\frac{c-\\lambda_{0}}{\\sqrt{\\overline{X}}}=0.85\\to c=4.24\\lt \\overline{X}\\to$ гипотезу принимаем\n",
        "\n",
        "$H_{0}=\\lambda_{1} = 6$\n",
        "\n",
        "$H_{A}=\\lambda_{0} = 4$\n",
        "\n",
        "$LR(\\overrightarrow{X},\\lambda_{0},\\lambda_{1}) = \\frac{L\\left( \\overrightarrow{X},\\lambda_{0} \\right)}{L\\left( \\overrightarrow{X},\\lambda_{1} \\right)}= \\frac{\\lambda_{0}^{\\sum_{i=1}^{n}X_{i}}\\cdot exp(-n\\cdot \\lambda_{0})}{\\lambda_{1}^{\\sum_{i=1}^{n}X_{i}}\\cdot exp(-n\\cdot \\lambda_{1})} = \\left(\\frac{\\lambda_0}{\\lambda_1}\\right)^n \\exp(-n(\\lambda_0 - \\lambda_1))$\n",
        "\n",
        "В силу монотонности статистики $LR(\\overrightarrow{X})$ относительно МДС $T(\\overrightarrow{X})=\\sum_{i=1}^{n}X_{i}$\n",
        "\n",
        "$LR(\\overrightarrow{X},\\lambda_{0},\\lambda_{1})\\gt c\\Leftrightarrow \\overline{X}\\gt c$\n",
        "\n",
        "$\\sqrt{n}\\frac{\\overline{X}-\\lambda_{1}}{\\sqrt{\\overline{X}}}\\sim N(0,1)$\n",
        "\n",
        "$P\\left(\\sqrt{n}\\frac{\\overline{X}-\\lambda_{1}}{\\sqrt{\\overline{X}}} \\right)\\gt \\sqrt{n}\\frac{\\overline{X}-\\lambda_{1}}{\\sqrt{\\overline{X}}}=1-\\Phi\\left(\\sqrt{n}\\frac{\\overline{X}-\\lambda_{1}}{\\sqrt{\\overline{X}}} \\right)=\\alpha_{1}$\n",
        "\n",
        "$\\Phi\\left(\\sqrt{n}\\frac{\\overline{X}-\\lambda_{1}}{\\sqrt{\\overline{X}}} \\right)=1-\\alpha_{1}=0.8$\n",
        "\n",
        "$\\sqrt{n}\\frac{\\overline{X}-\\lambda_{1}}{\\sqrt{\\overline{X}}}\\gt \\sqrt{n}\\frac{c-\\lambda_{1}}{\\sqrt{\\overline{X}}}=0.85\\to c=6.29\\gt \\overline{X}\\to$ гипотезу отвергаем\n"
      ],
      "metadata": {
        "id": "NV4LH0m1-9NW"
      },
      "id": "NV4LH0m1-9NW"
    },
    {
      "cell_type": "markdown",
      "source": [
        "#### h) В пунктах (c)-(f) заменить семейство распределение Пуассона на семейство геометрических распредленией $\\mathbb{P}_{\\lambda}(X=k)=\\frac{\\lambda^{k}}{(\\lambda+1)^{k+1}}, k\\in \\mathbb{Z_{+}}$"
      ],
      "metadata": {
        "id": "7tKmW3HdwRe7"
      },
      "id": "7tKmW3HdwRe7"
    },
    {
      "cell_type": "markdown",
      "source": [
        "##### h.c) В предположении, что исходные наблюдения являются выборкой из геометрического распределения, построить ОМП и ОММ параметра $\\lambda$. Найти смещение оценки.\n",
        "\n",
        "$\\begin{split}\n",
        "  ОМП: \\\\\n",
        "  & P_{\\lambda}(X=k)=\\frac{\\lambda^{k}}{(\\lambda+1)^{k+1}} \\\\\n",
        "  & L(\\overrightarrow{X};\\theta)=\\prod_{i=1}^{n}P_{\\lambda}(X_{i})=\\prod_{i=1}^{n}\\frac{\\lambda^{X_{i}}}{(\\lambda+1)^{X_{i}}}=\\frac{\\lambda^{\\sum_{i=1}^{n}X_{i}}}{(\\lambda+1)^{\\sum_{i=1}^{n}X_{i}+n}} \\\\\n",
        "  & LL(\\overrightarrow{X};\\theta)= \\sum_{i=1}^{n}X_{i} \\ln(\\lambda)-(\\sum_{i=1}^{n}X_{i}+n)\\ln(\\lambda+1) \\\\\n",
        "  & \\frac{\\partial LL(\\overrightarrow{X};\\theta)}{\\partial \\lambda} = \\frac{\\sum_{i=1}^{n}X_{i}}{\\lambda}-\\frac{\\sum_{i=1}^{n}X_{i}+n}{\\lambda+1} \\\\\n",
        "  & \\frac{\\sum_{i=1}^{n}X_{i}}{\\lambda}-\\frac{\\sum_{i=1}^{n}X_{i}+n}{\\lambda+1} =0 \\\\\n",
        "  & \\frac{\\lambda}{\\sum_{i=1}^{n}X_{i}}=\\frac{\\lambda+1}{\\sum_{i=1}^{n}X_{i}+n} \\\\\n",
        "  & \\lambda \\sum_{i=1}^{n}X_{i}+\\lambda  n = \\lambda \\sum_{i=1}^{n}X_{i}+\\sum_{i=1}^{n}X_{i}\\to \\lambda=\\overline{X}\\to \\widehat{\\theta}=\\widehat{\\lambda}=\\overline{X}=4.76\n",
        "\\end{split}$\n",
        "\n",
        "\n",
        "$\n",
        "\\begin{aligned}\n",
        "ОММ: \\\\\n",
        "& \\hat{\\theta}=\\hat{\\lambda}= \\bar{X}\\\\\n",
        "& \\mathbb{E} X_1=\\frac{1}{\\lambda} \\quad M_1={\\bar{X}} \\\\\n",
        "& \\frac{1}{\\lambda} \\approx {\\bar{X}} \\quad \\tilde\\lambda=\\bar{X} \\rightarrow \\tilde\\theta =  \\tilde{\\lambda}=\\frac{1}{\\bar{X}} = 0.21 \\\\\n",
        "&\n",
        "\\end{aligned}\n",
        "$\n",
        "\n",
        "$\n",
        "\\begin{aligned}\n",
        "НРМД: \\\\\n",
        "& g\\left(T(\\overrightarrow{X})\\right)=\\frac{\\lambda^{\\sum_{i=1}^{n}X_{i}}}{(\\lambda+1)^{\\sum_{i=1}^{n}X_{i}+n}} \\\\\n",
        "&h(\\overrightarrow{X})=1 \\\\\n",
        "& T=\\sum_{i=1}^{n}x_{i}=238  - \\text{МДС}\\\\\n",
        "& \\text{ Геометрическое распределение принадлежит exp семейству распределения, следовательно, МДС будет являться ПДС.} \\\\\n",
        "& \\mathbb{E}_{\\lambda}\\overline{X}=\\mathbb{E}_{\\lambda}\\frac{1}{n} \\sum_{i=1}^{n}x_{i}=\\frac{1}{n} \\mathbb{E_{\\lambda}}\\sum_{i=1}^{n}x_{i}=\\frac{1}{n}\\sum_{i=1}^{n}\\mathbb{E_{\\lambda}}X_{1}=\\frac{1}{n} n \\mathbb{E}_{\\lambda}X_{1}=\\lambda=4.76- \\text{НРМД-оценка}\n",
        "\\end{aligned}\n",
        "$"
      ],
      "metadata": {
        "id": "QSbAuzuFr7-5"
      },
      "id": "QSbAuzuFr7-5"
    },
    {
      "cell_type": "markdown",
      "source": [
        "#### h.d)Построить асимитотический доверительный интервал уровня значимости $\\alpha_1 $ для параметра $\\lambda$ на базе оценки максимального правдоподобия.\n",
        "\n",
        "- Метод построения на базе ОМП\n",
        "\n",
        "$\\sqrt{n}\\left( \\widehat{\\theta}(\\overrightarrow{X})-\\theta \\right)\\sim N\\left( 0, \\frac{1}{I(\\theta)} \\right)$\n",
        "\n",
        "$\\widehat{\\theta}=\\widehat{\\lambda}=\\frac{1}{\\overline{X}}$\n",
        "\n",
        "$I(\\theta)=-\\mathbb{E}\\left( \\frac{\\partial^{2} LL}{\\partial \\lambda^{2}} \\right)=-\\mathbb{E}\\left( -\\frac{\\sum_{i=1}^{n}X_{i}}{\\lambda^{2}}+\\frac{\\sum_{i=1}^{n}X_{i}+n}{(\\lambda +1)^{2}} \\right)=\\frac{n}{\\lambda^{2}}-\\mathbb{E}\\left( \\frac{\\sum_{i=1}^{n}X_{i}+n}{(\\lambda+1)^{2}} \\right) = \\frac{n}{\\lambda^{2}}-\\mathbb{E}\\left( \\frac{\\sum_{i=1}^{n}X_{i}}{(\\lambda+1)^{2}} \\right)-\\mathbb{E}\\left( \\frac{n}{(\\lambda+1)^{2}} \\right)=\\frac{n}{\\lambda^{2}}-\\frac{n}{(\\lambda+1)^{2}}-\\frac{n}{(\\lambda+1)^{2}}=\\frac{n(\\lambda^{2}+1)}{(\\lambda+1)^{2}\\cdot \\lambda^{2}}$\n",
        "\n",
        "$\\sqrt{n I\\left(  \\widehat{\\theta}(\\overrightarrow{X})\\right)}\\left( \\widehat{\\theta}(\\overrightarrow{X})-\\theta \\right)\\sim N(0,1)$\n",
        "\n",
        "$X_{\\alpha}$: $\\mathrm{Ф}(X_{\\alpha})=1-\\frac{\\alpha_{1}}{2}=1-\\frac{0.1}{2}=0.95 \\to X_{0.95}=1.64$\n",
        "\n",
        "$А.Д.И. \\left[ \\frac{1}{\\overline{X}}-\\frac{X_{0.95}}{\\sqrt{n\\cdot \\frac{n(\\widehat{\\lambda^{2}}+1)}{(\\widehat{\\lambda}+1)^{2}\\cdot \\widehat{\\lambda^{2}}}}};\\frac{1}{\\overline{X}}+\\frac{X_{0.95}}{\\sqrt{n\\cdot \\frac{n(\\widehat{\\lambda^{2}}+1)}{(\\widehat{\\lambda}+1)^{2}\\cdot \\widehat{\\lambda^{2}}}}} \\right]\\to 0.025\\le \\lambda\\le 0.39$\n",
        "\n",
        "$4.58\\le \\lambda\\le 4.94$ - Асимп. довер. интервал параметра $\\lambda$.\n",
        "\n",
        "- Метод построения АДИ на базе АНО $\\hat\\theta$\n",
        "\n",
        "$\\sqrt{n}\\left( \\widehat{\\theta}(\\overrightarrow{X})-\\theta \\right)\\sim N(0,\\sigma^{2}(\\theta))$\n",
        "\n",
        "$\\sqrt{n}\\frac{ \\widehat{\\theta}(\\overrightarrow{X})-\\theta}{\\sigma(\\widehat{\\theta})}\\sim N(0,1)$\n",
        "\n",
        "$X_{\\alpha}: \\mathrm{Ф(X_{\\alpha})}=0.95\\to X_{0.95}=1.64$\n",
        "\n",
        "$-X_{0.95}\\le \\sqrt{n}\\cdot \\frac{\\widehat{\\lambda}-\\lambda}{\\sqrt{\\widehat{\\lambda}(\\widehat{\\lambda}+1)}}\\le X_{0.95}$\n",
        "\n",
        "$0.21-\\frac{1.64\\cdot 0.504}{\\sqrt{50}}\\le \\lambda\\le 0.21\n",
        "+\\frac{1.64\\cdot 0.504}{\\sqrt{50}}\\to 0.093\\le \\lambda\\le 0.33$ - А.Д.И. параметра $\\lambda$"
      ],
      "metadata": {
        "id": "cNavUEZt0qVo"
      },
      "id": "cNavUEZt0qVo"
    },
    {
      "cell_type": "markdown",
      "source": [
        "#### h.e)Используя гистограмму частот, построить критерий значимости $\\mathcal{X^{2}}$ проверки простой гипотезы согласия с геометрическим распределением с параметром $\\lambda_{0}$. Проверить гипотезу на урокень значимости $\\alpha_{1}$. Вычислить наибольшее значение уровня значимости, на котором ещё нет оснований отвергнуть данную гипотезу."
      ],
      "metadata": {
        "id": "JbqgV_RN_LWv"
      },
      "id": "JbqgV_RN_LWv"
    },
    {
      "cell_type": "markdown",
      "source": [
        "$\\lambda_0 = 4 \\\\ \\alpha = 0.1$\n",
        "\n",
        "$P_{i}=P_{H_{0}}=(X\\in \\Delta_{i})=\\sum_{k\\in \\Delta_{i}}^{}\\frac{\\lambda_{0}^{k}}{(\\lambda_{0}+1)^{k+1}} $\n",
        "\n",
        "$\\Delta_{1}=\\left[ 0,12 \\right], n_{1}=45$\n",
        "\n",
        "$P_{1}=\\frac{4^{0}}{(4+1)^{0+1}}+\\frac{4^{12}}{(4+1)^{12+1}}=0.21\\to nP_{1}=10.5$\n",
        "\n",
        "$\\Delta_{2}=\\left[ 12,23 \\right], n_{3}=5$\n",
        "\n",
        "$P_{2}=\\frac{4^{12}}{(4+1)^{12+1}}+\\frac{4^{23}}{(4+1)^{23+1}}=0.015\\to nP_{2}=0.75$\n",
        "\n",
        "\n",
        "Критерий $\\mathcal{X}^{2}: \\mathcal{X}^{2}_{набл}=\\sum_{i=1}^{2}\\frac{(n_{i}-np_{i})^{2}}{np_{i}} = \\frac{(45 - 10.5)^2}{10.5} + \\frac{(5 - 0.75)^2}{0.75} = 137.44$\n",
        "\n",
        "$\\mathcal{X}^{2}_{N-1,1-\\alpha_{1}}=\\mathcal{X}^{2}_{1,0.8}\\simeq 2.706$\n",
        "\n",
        "$\\mathcal{X}^{2}\\gt \\mathcal{X}^{2}_{1,0.8}\\to$ по критерию Пирсона мы отвергаем гипотезу\n",
        "\n",
        "Наибольшее значение уровня значимости, при котором нет еще оснований отвергнуть данную гипотезу $\\simeq$ 0.1"
      ],
      "metadata": {
        "id": "ltNe0LvW_aRI"
      },
      "id": "ltNe0LvW_aRI"
    },
    {
      "cell_type": "markdown",
      "source": [
        "#### h.f) Построить критерий значимости  $\\mathcal{X^{2}}$ проверки сложной гипотезы согласия с геометрическим распределением. Проверить гипотезу по уровню значимости $\\alpha_{1}$.Вычислить наибольшее значение уровня значимости, на котором ещё нет оснований отвергнуть данную гипотезу.\n"
      ],
      "metadata": {
        "id": "RnyNCDiLCaZk"
      },
      "id": "RnyNCDiLCaZk"
    },
    {
      "cell_type": "markdown",
      "source": [
        "$\\lambda = \\frac{1}{\\bar{X}} \\\\ \\alpha = 0.1$\n",
        "\n",
        "$P_{i}=P_{H_{0}}=(X\\in \\Delta_{i})=\\sum_{k\\in \\Delta_{i}}^{}\\frac{\\lambda_{0}^{k}}{(\\lambda_{0}+1)^{k+1}} = \\sum_{k\\in \\Delta_{i}}^{}\\frac{\\frac{1}{\\overline{X}^{k}}}{\\left( \\frac{1}{\\overline{X}} +1\\right)^{k+1}} $\n",
        "\n",
        "$\\Delta_{1}=\\left[ 0,12 \\right], n_{1}=45$\n",
        "\n",
        "$P_{1}=\\frac{0.21^{0}}{(0.21+1)^{0+1}}+\\frac{0.21^{12}}{(0.21+1)^{12+1}}=0.83\\to nP_{1}=41.5$\n",
        "\n",
        "$\\Delta_{2}=\\left[ 12,23 \\right], n_{3}=5$\n",
        "\n",
        "$P_{2}=\\frac{0.21^{12}}{(0.21+1)^{12+1}}+\\frac{0.21^{23}}{(0.21+1)^{23+1}}=6.17 \\cdot 10^{-10}\\to nP_{2}=3.085 \\cdot 10^{-8}$\n",
        "\n",
        "\n",
        "Критерий $\\mathcal{X}^{2}: \\mathcal{X}^{2}_{набл}=\\sum_{i=1}^{2}\\frac{(n_{i}-np_{i})^{2}}{np_{i}} = \\frac{(45 - 41.5)^2}{41.5} + \\frac{(5 - 3.085 \\cdot 10^{-8})^2}{3.085 \\cdot 10^{-8}} = 8\\cdot 10^{8}$\n",
        "\n",
        "$\\mathcal{X}^{2}_{N-1,1-\\alpha_{1}}=\\mathcal{X}^{2}_{1,0.8}\\simeq 2.706$\n",
        "\n",
        "$\\mathcal{X}^{2}\\gt \\mathcal{X}^{2}_{1,0.8}\\to$ по критерию Пирсона мы отвергаем гипотезу\n",
        "\n",
        "Наибольшее значение уровня значимости, при котором нет еще оснований отвергнуть данную гипотезу $\\simeq$ 0.1"
      ],
      "metadata": {
        "id": "BkFiaxxiJgPO"
      },
      "id": "BkFiaxxiJgPO"
    },
    {
      "cell_type": "markdown",
      "id": "152f3b3e-12db-452d-be13-6caffb69aaa6",
      "metadata": {
        "id": "152f3b3e-12db-452d-be13-6caffb69aaa6"
      },
      "source": [
        "### 2. В результате эксперемента получены данные, приведенные в таблице 2\n"
      ]
    },
    {
      "cell_type": "markdown",
      "source": [
        "$\\alpha_2 = 0.10; \\quad c = 0.00; \\quad d = 8.00; \\quad h = 1.60; \\quad λ0 = 0.25; \\quad λ1 = 0.20.$ \\\\\n",
        "Таблица 2.  \n",
        "9.66 10.58 8.68 1.52 0.13 8.16 1.05 0.47 4.75 1.56 5.03 1.1 8.36 17.52 0.6 2.35 1.23 2.27 1.24 2.04 5.37 7.16 0.29 5.32 3.18\n",
        "0.67 1.06 1.83 0.03 11.07 3.8 4.03 1.3 3.28 0.57 3.08 3.58 3.93 1.3 0.25 13.91 8.12 0.74 1.93 1.22 4.94 10.67 2.33 0.51 1.78"
      ],
      "metadata": {
        "id": "rut9LEWywHG4"
      },
      "id": "rut9LEWywHG4"
    },
    {
      "cell_type": "markdown",
      "source": [
        "####a) Построить вариационный ряд, эмпирическую функцию распределения, гистограмму и полигон частот с шагом һ."
      ],
      "metadata": {
        "id": "ZU3BGtaVY1VX"
      },
      "id": "ZU3BGtaVY1VX"
    },
    {
      "cell_type": "code",
      "source": [
        "import numpy as np\n",
        "import matplotlib.pyplot as plt\n",
        "from collections import Counter\n",
        "\n",
        "# Исходные данные\n",
        "data = '9.66 10.58 8.68 1.52 0.13 8.16 1.05 0.47 4.75 1.56 5.03 1.1 8.36 17.52 0.6 2.35 1.23 2.27 1.24 2.04 5.37 7.16 0.29 5.32 3.18 0.67 1.06 1.83 0.03 11.07 3.8 4.03 1.3 3.28 0.57 3.08 3.58 3.93 1.3 0.25 13.91 8.12 0.74 1.93 1.22 4.94 10.67 2.33 0.51 1.78'\n",
        "data = list(map(float, data.split()))\n",
        "\n",
        "# Количество наблюдений\n",
        "n = len(data)\n",
        "\n",
        "# Вариационный ряд\n",
        "variation_series = sorted(data)\n",
        "print('Вариационный ряд:', variation_series)\n",
        "# Эмпирическая функция распределения\n",
        "def empirical_cdf(x):\n",
        "    count = 0\n",
        "    for value in variation_series:\n",
        "        if value <= x:\n",
        "            count += 1\n",
        "    return count / n\n",
        "\n",
        "plt.figure(figsize=(12, 7))\n",
        "\n",
        "# Полигон частот\n",
        "h = 1.60\n",
        "# Разделение данных на интервалы\n",
        "num_intervals = int(max(data) // h + 1)\n",
        "intervals = [i * h for i in range(num_intervals)]\n",
        "# Подсчет частот в интервалах\n",
        "frequency = Counter((value // h) * h for value in data)\n",
        "x_values = [interval + h / 2 for interval in intervals]\n",
        "y_values = [frequency.get(interval, 0) for interval in intervals]\n",
        "plt.subplot(2, 2, 2)\n",
        "plt.plot(x_values, y_values, marker='o')\n",
        "plt.xlabel('Значение')\n",
        "plt.ylabel('Частота')\n",
        "plt.title('Полигон частот с шагом 1.60')\n",
        "plt.grid(True)\n",
        "\n",
        "# Гистограмма\n",
        "bins = np.arange(min(data), max(data) + h, h)\n",
        "plt.subplot(2, 2, 1)\n",
        "plt.hist(variation_series, bins=bins, alpha=0.7, color='skyblue', edgecolor='black', density=True)\n",
        "plt.xlabel('Значение')\n",
        "plt.ylabel('Частота')\n",
        "plt.title('Гистограмма')\n",
        "plt.grid(True)\n",
        "plt.show\n",
        "\n",
        "# Построение эмпирической функции распределения\n",
        "x_values_cdf = np.linspace(min(variation_series), max(variation_series), 100)\n",
        "y_values_cdf = [empirical_cdf(x) for x in x_values_cdf]\n",
        "plt.subplot(2, 2, 3)\n",
        "plt.plot(x_values_cdf, y_values_cdf, label='Эмпирическая функция распределения')\n",
        "plt.xlabel('Значение')\n",
        "plt.ylabel('Вероятность')\n",
        "plt.title('Эмпирическая функция распределения')\n",
        "plt.grid(True)\n",
        "\n",
        "plt.subplot(2, 2, 4)\n",
        "plt.plot(x_values, y_values, marker='o')\n",
        "plt.hist(variation_series, bins=bins, alpha=0.7, color='skyblue', edgecolor='black')\n",
        "plt.xlabel('Значение')\n",
        "plt.ylabel('Частота')\n",
        "plt.title('Гистограмма и полигон частот')\n",
        "plt.grid(True)\n",
        "\n",
        "plt.tight_layout()\n",
        "plt.show()"
      ],
      "metadata": {
        "colab": {
          "base_uri": "https://localhost:8080/",
          "height": 745
        },
        "id": "M282pGtBfyF_",
        "outputId": "97a30cb1-75e8-4ac2-842a-a32ead44b474"
      },
      "id": "M282pGtBfyF_",
      "execution_count": 4,
      "outputs": [
        {
          "output_type": "stream",
          "name": "stdout",
          "text": [
            "Вариационный ряд: [0.03, 0.13, 0.25, 0.29, 0.47, 0.51, 0.57, 0.6, 0.67, 0.74, 1.05, 1.06, 1.1, 1.22, 1.23, 1.24, 1.3, 1.3, 1.52, 1.56, 1.78, 1.83, 1.93, 2.04, 2.27, 2.33, 2.35, 3.08, 3.18, 3.28, 3.58, 3.8, 3.93, 4.03, 4.75, 4.94, 5.03, 5.32, 5.37, 7.16, 8.12, 8.16, 8.36, 8.68, 9.66, 10.58, 10.67, 11.07, 13.91, 17.52]\n"
          ]
        },
        {
          "output_type": "display_data",
          "data": {
            "text/plain": [
              "<Figure size 1200x700 with 4 Axes>"
            ],
            "image/png": "[encoded data removed]"
          },
          "metadata": {}
        }
      ]
    },
    {
      "cell_type": "markdown",
      "source": [
        "####b)  Вычислить выборочные аналоги следующих числовых характеристик:\n",
        "(i)математического ожидания; (ii) дисперсии; (iii) СКО; (iv) медианы; (v) асимметрии; (vi) эксцесса; (vіi) вероятности $ \\mathbb{P}\\left(X \\in [c, d]\\right)$."
      ],
      "metadata": {
        "id": "N3cEKxGKmRS1"
      },
      "id": "N3cEKxGKmRS1"
    },
    {
      "cell_type": "code",
      "source": [
        "from scipy import stats\n",
        "\n",
        "mean = np.round(np.mean(data), 3)\n",
        "var = np.round(np.var(data), 3)\n",
        "std = np.round(np.std(data), 3)\n",
        "median = np.round(np.median(data), 3)\n",
        "skew = np.round(stats.skew(data), 3)\n",
        "kurt = np.round(stats.kurtosis(data), 3)\n",
        "\n",
        "c = 0\n",
        "d = 8\n",
        "P = len([x for x in data if c<=x<=d])/len(data)\n",
        "print(f'Математическое ожидание - {mean}\\nДисперсия - {var}\\nСКО - {std}\\nМедиана - {median}\\nКоэффициент асимметрии - {skew}\\nКоэффициент эксцесса - {kurt}\\nВеротяность - {P}')"
      ],
      "metadata": {
        "colab": {
          "base_uri": "https://localhost:8080/"
        },
        "id": "u1xEGbFLnISQ",
        "outputId": "3b286eab-9092-4004-b98b-897283fc9420"
      },
      "id": "u1xEGbFLnISQ",
      "execution_count": null,
      "outputs": [
        {
          "output_type": "stream",
          "name": "stdout",
          "text": [
            "Математическое ожидание - 3.911\n",
            "Дисперсия - 15.479\n",
            "СКО - 3.934\n",
            "Медиана - 2.3\n",
            "Коэффициент асимметрии - 1.448\n",
            "Коэффициент эксцесса - 1.663\n",
            "Веротяность - 0.8\n"
          ]
        }
      ]
    },
    {
      "cell_type": "markdown",
      "id": "9db9d0f7-67be-446b-8a4a-6cfe9380e5fc",
      "metadata": {
        "id": "9db9d0f7-67be-446b-8a4a-6cfe9380e5fc"
      },
      "source": [
        "####с) В предположении, что исходные наблюдения являются выборкой из показательного распределения, построить оценку максимального правдоподобия параметра $\\lambda$ и соответствующую оценку по методу моментов. Найти смещение оценок.\n",
        "\n",
        "$\n",
        "\\begin{aligned}\n",
        "ОМП: \\\\\n",
        "& \\theta=\\lambda \\\\\n",
        "& p_\\theta(x)=\\lambda e^{-\\lambda x} \\\\\n",
        "& L\\left(\\overrightarrow{X}_i ; \\theta\\right)= \\prod_{i=1}^n \\lambda e^{-\\lambda x_i}=\\lambda^n e^{-\\lambda \\sum_{i=1}^n x_i} \\\\\n",
        "& LL(\\overrightarrow{X}_i; \\theta)=n \\ln \\lambda+(-\\lambda) \\sum_{i=1}^n x_i \\\\\n",
        "& \\frac{\\partial LL}{\\partial \\lambda}=\\frac{n}{\\lambda}-\\sum_{i=1}^n x_i \\\\\n",
        "& \\frac{n}{\\lambda}-\\sum_{i=1}^n x_i=0 \\\\\n",
        "& \\hat{\\lambda}=\\frac{x}{n} \\sum_{i=1}^n x_i \\frac{n}{\\sum_{i=1}^n x_i} \\\\\n",
        "& \\hat{\\theta}=\\hat{\\lambda}=\\frac{n}{\\sum_{i=1}^n x_i} = \\frac{1}{\\bar{X}} = 0.256 - ОМП\n",
        "\\end{aligned}\n",
        "$\n",
        "\n",
        "\n",
        "$\n",
        "\\begin{aligned}\n",
        "ОММ: \\\\\n",
        "& \\hat{\\theta}=\\hat{\\lambda}=\\frac{n}{\\sum_{i=1}^n x_i} \\\\\n",
        "& \\mathbb{E} X_1=\\frac{1}{\\lambda} \\quad M_1=\\bar{X} \\\\\n",
        "& \\frac{1}{\\lambda} \\approx \\bar{X} \\quad \\frac{1}{\\tilde\\lambda}=\\bar{X} \\rightarrow \\tilde{\\lambda}=\\frac{1}{\\bar{X}} = 0.256 \\\\\n",
        "&\n",
        "\\end{aligned}\n",
        "$\n",
        "\n",
        "$\n",
        "\\begin{aligned}\n",
        "НРМД: \\\\\n",
        "& \\hat{\\theta}=\\hat{\\lambda}=\\frac{1}{\\bar{X}} \\\\\n",
        "& \\mathbb{E} \\hat{\\theta}=\\mathbb{E} \\frac{1}{\\bar{X}}=\\mathbb{E} \\frac{1}{\\frac{1}{n} \\sum_{i=1}^n x_i}=\\frac{n}{\\sum_{i=1}^n \\mathbb{E} x_i}=\n",
        "n \\left(\\mathbb{E}\\left(\\sum_{i=1}^n x_i\\right)^{-1}\\right)=n\\left(\\frac{1}{\\lambda}\\right)^{-1} \\frac{\\Gamma(-1+n)}{\\Gamma(n)}\n",
        "=n \\lambda \\frac{\\Gamma(n-1)}{(n-1) \\Gamma(n-1)}=\\frac{n}{n-1}\\lambda - \\text{смещенная НРМД оценка} \\\\\n",
        "& \\tilde{\\theta}=\\frac{n-1}{n} \\hat{\\theta} = 0.251 - \\text{несмещенная НРМД оценка} \\\\\n",
        "\\end{aligned}\n",
        "$\n",
        "\n",
        "\n",
        "\n"
      ]
    },
    {
      "cell_type": "code",
      "source": [
        "# Вычисление полученных характеристик для пункта c):\n",
        "\n",
        "theta_hat = np.round(1/mean, 3)\n",
        "theta_tilde = np.round((n-1)*theta_hat/n, 3)\n",
        "print(f'ОМП - {theta_hat}\\nНесмещенная НРМД оценка - {theta_tilde}')"
      ],
      "metadata": {
        "colab": {
          "base_uri": "https://localhost:8080/"
        },
        "id": "UHMCm-x4qaUT",
        "outputId": "84a41940-60c0-4555-9c32-64d826cc5e2d"
      },
      "id": "UHMCm-x4qaUT",
      "execution_count": null,
      "outputs": [
        {
          "output_type": "stream",
          "name": "stdout",
          "text": [
            "ОМП - 0.256\n",
            "Несмещенная НРМД оценка - 0.251\n"
          ]
        }
      ]
    },
    {
      "cell_type": "markdown",
      "source": [
        "####d) Построить асимптотический доверительный интервал уровня значимости $\\alpha_2$ для параметра $\\lambda$ на базе оценки максимального правдоподобия."
      ],
      "metadata": {
        "id": "9eqx6Rj0uVtQ"
      },
      "id": "9eqx6Rj0uVtQ"
    },
    {
      "cell_type": "markdown",
      "source": [
        "- Метод построения на базе ОМП\n",
        "\n",
        "$\\sqrt{n}\\left( \\widehat{\\theta}(\\overrightarrow{X})-\\theta \\right)\\sim N\\left( 0, \\frac{1}{I(\\theta)} \\right)$\n",
        "\n",
        "$\\widehat{\\theta}=\\widehat{\\lambda}=\\frac{1}{\\overline{X}}$\n",
        "\n",
        "$I(\\theta)=-\\mathbb{E}\\left( \\frac{\\partial^{2} LL}{\\partial \\lambda^{2}} \\right)=-\\mathbb{E}\\left( -\\frac{n}{\\lambda^{2}} \\right)=\\frac{n}{\\lambda^{2}}$\n",
        "\n",
        "$\\sqrt{n I\\left(  \\widehat{\\theta}(\\overrightarrow{X})\\right)}\\left( \\widehat{\\theta}(\\overrightarrow{X})-\\theta \\right)\\sim N(0,1)$\n",
        "\n",
        "$X_{\\alpha}$: $\\mathrm{Ф}(X_{\\alpha})=1-\\frac{\\alpha_{1}}{2}=1-\\frac{0.1}{2}=0.95 \\to X_{0.95}=1.64$\n",
        "\n",
        "$А.Д.И. \\left[ \\frac{1}{\\overline{X}}-\\frac{X_{0.95}}{\\sqrt{50 \\frac{50}{\\overline{X}^2}}}; \\frac{1}{\\overline{X}}+\\frac{X_{0.95}}{\\sqrt{50 \\frac{50}{\\overline{X}^2}}}\\right] \\to 0.21-\\frac{1.64}{238}\\le \\lambda\\le 0.21+\\frac{1.64}{238}$\n",
        "\n",
        "$0.203\\le \\lambda\\le 0.22$ - Асимп. довер. интервал параметра $\\lambda$.\n",
        "\n",
        "- Метод построения АДИ на базе АНО $\\hat\\theta$\n",
        "\n",
        "$\\sqrt{n}\\left( \\widehat{\\theta}(\\overrightarrow{X})-\\theta \\right)\\sim N(0,\\sigma^{2}(\\theta))$\n",
        "\n",
        "$\\sqrt{n}\\frac{ \\widehat{\\theta}(\\overrightarrow{X})-\\theta}{\\sigma(\\widehat{\\theta})}\\sim N(0,1)$\n",
        "\n",
        "$X_{\\alpha}: \\mathrm{Ф(X_{\\alpha})}=0.95\\to X_{0.95}=1.64$\n",
        "\n",
        "$-X_{0.95}\\le \\sqrt{n} \\frac{\\widehat{\\lambda}-\\lambda}{\\sqrt{\\widehat{\\lambda}}}\\le X_{0.95}$\n",
        "\n",
        "$0.21-\\frac{1.64\\cdot 2.18}{\\sqrt{50}}\\le \\lambda\\le 0.21+\\frac{1.64\\cdot 2.18}{\\sqrt{50}}\\to 0.067\\le \\lambda\\le 0.35$ - А.Д.И. параметра $\\lambda$"
      ],
      "metadata": {
        "id": "4qfQNuvfvdz-"
      },
      "id": "4qfQNuvfvdz-"
    },
    {
      "cell_type": "markdown",
      "source": [
        "#### e)Построить критерий значимости проверки простой гипотезы согласия с показательным распределением с параметром λ0=0.25 с использованием теоремы Колмогорова. Проверить гипотезы на уровне значимости α2 = 0,1. Вычислить наименьшее значение уровня значимости, на котором ещё нет оснований отвергнуть гипотезу.\n",
        "\n"
      ],
      "metadata": {
        "id": "NlP2g0R4PUjM"
      },
      "id": "NlP2g0R4PUjM"
    },
    {
      "cell_type": "code",
      "source": [
        "from scipy.stats import expon, kstest\n",
        "import numpy as np\n",
        "\n",
        "# Заданный параметр показательного распределения\n",
        "lambda_0 = 0.25\n",
        "\n",
        "# Уровень значимости\n",
        "alpha = 0.1\n",
        "\n",
        "# Проведение теста Колмогорова\n",
        "ks_statistic, p_value = kstest(data, 'expon', args=(0, 1/lambda_0), alternative='two-sided')\n",
        "\n",
        "print(\"Статистика Колмогорова:\", ks_statistic)\n",
        "print(\"p-значение:\", p_value)\n",
        "\n",
        "# Определение отвергаемости гипотезы на заданном уровне значимости\n",
        "if p_value > alpha:\n",
        "    print(f\"На уровне значимости {alpha}, гипотеза не отвергается\")\n",
        "else:\n",
        "    print(f\"На уровне значимости {alpha}, гипотеза отвергается\")\n",
        "\n",
        "# Вычисление наименьшего значения уровня значимости, при котором гипотеза не отвергается\n",
        "min_alpha = kstest(data, 'expon', args=(0, 1/lambda_0), alternative='two-sided')[1]  # Повторное вычисление p-значения\n",
        "print(f\"Наименьшее значение уровня значимости, на котором гипотеза не отвергается: {min_alpha}\")\n",
        "\n"
      ],
      "metadata": {
        "colab": {
          "base_uri": "https://localhost:8080/"
        },
        "id": "HIfg45MFRaPy",
        "outputId": "91009887-99f5-4e1e-e9be-dfd8c29c6baf"
      },
      "id": "HIfg45MFRaPy",
      "execution_count": 5,
      "outputs": [
        {
          "output_type": "stream",
          "name": "stdout",
          "text": [
            "Статистика Колмогорова: 0.09571483666357139\n",
            "p-значение: 0.7133436456612883\n",
            "На уровне значимости 0.1, гипотеза не отвергается\n",
            "Наименьшее значение уровня значимости, на котором гипотеза не отвергается: 0.7133436456612883\n"
          ]
        }
      ]
    },
    {
      "cell_type": "markdown",
      "source": [
        "#### f) Используя гистограмму частот, построить критерий значимости $\\mathcal{X^{2}}$ проверки простой гипотезы согласия с показательным распределением с параметром $\\lambda_{0}$. Проверить гипотезу на урокень значимости $\\alpha_{2}$. Вычислить наибольшее значение уровня значимости, на котором ещё нет оснований отвергнуть данную гипотезу.\n",
        "\n",
        "$\\lambda_0 = 0.25$\n",
        "\n",
        "$P_{i}=P_{H_{0}}=(X\\in \\Delta_{i})=\\sum_{k\\in I_{i}}^{}\\lambda_{0}\\cdot exp(-\\lambda_{0}\\cdot k)$\n",
        "\n",
        "$\\Delta_{1}=\\left[ 0.03,8.775 \\right], n_{1}=44$\n",
        "\n",
        "$P_{1}=0.25\\cdot exp(-0.25\\cdot 0.03)+0.25\\cdot exp(-0.25\\cdot 8.775)=0.276\\to nP_{1}=13.8$\n",
        "\n",
        "$\\Delta_{2}=\\left[ 8.775,17.52 \\right], n_{2}=6$\n",
        "\n",
        "$P_{2}=0.25\\cdot exp(-0.25\\cdot 8.775)+0.25\\cdot exp(-0.25\\cdot 17.52)=0.03\\to nP_{2}=1.5$\n",
        "\n",
        "$\\mathcal{X}^{2}: \\mathcal{X}^{2}_{набл}=\\sum_{i=1}^{2}\\frac{(n_{i}-np_{i})^{2}}{np_{i}} = \\frac{(44 - 50 \\cdot 13.8)^2}{50 \\cdot 13.8} + \\frac{(6 - 50 \\cdot 1.5)^2}{50 \\cdot 1.5}= 64$\n",
        "\n",
        "$\\mathcal{X}^{2}_{N-1,1-\\alpha_{1}}=\\mathcal{X}^{2}_{1,0.8}\\simeq 2.706$\n",
        "\n",
        "$\\mathcal{X}^{2}\\gt \\mathcal{X}^{2}_{1,0.8}\\to$ по критерию Пирсона мы отвергаем гипотезу\n",
        "\n",
        "Наибольшее значение уровня значимости, при котором нет еще оснований отвергнуть данную гипотезу очень мала << 0.1"
      ],
      "metadata": {
        "id": "enDFTqCyVjPr"
      },
      "id": "enDFTqCyVjPr"
    },
    {
      "cell_type": "code",
      "source": [
        "# Задаем интервалы\n",
        "bins = np.linspace(min(data), max(data), 3)\n",
        "\n",
        "# Получаем гистограмму значений и количество элементов в каждом интервале\n",
        "hist, bin_edges = np.histogram(data, bins)\n",
        "\n",
        "# Выводим результаты\n",
        "print(\"Гистограмма значений:\", hist)\n",
        "print(\"Интервалы:\", bin_edges)"
      ],
      "metadata": {
        "colab": {
          "base_uri": "https://localhost:8080/"
        },
        "id": "MA1nCHTmZyLH",
        "outputId": "b3bd9bbb-4135-4e3d-d6fd-dc6f48b795da"
      },
      "id": "MA1nCHTmZyLH",
      "execution_count": null,
      "outputs": [
        {
          "output_type": "stream",
          "name": "stdout",
          "text": [
            "Гистограмма значений: [45  5]\n",
            "Интервалы: [ 0.  11.5 23. ]\n"
          ]
        }
      ]
    },
    {
      "cell_type": "markdown",
      "source": [
        "#### g) Построить критерий значимости  $\\mathcal{X^{2}}$ проверки сложной гипотезы согласия с показательным распределением. Проверить гипотезу по уровню значимости $\\alpha_{2}$.Вычислить наибольшее значение уровня значимости, на котором ещё нет оснований отвергнуть данную гипотезу.\n",
        "\n",
        "$P_{i}=P_{H_{0}}=(X\\in \\Delta_{i})= \\sum_{k\\in \\Delta_{i}}\\lambda \\cdot exp(-\\lambda) = exp(-\\frac{1}{\\overline{X}}k) \\sum_{k\\in \\Delta_{i}}\\frac{1}{\\overline{X}}$\n",
        "\n",
        "$\\Delta_{1}=\\left[ 0.03,8.775 \\right], n_{1}=44$\n",
        "\n",
        "$P_{1}=0.256\\cdot exp(-0.256\\cdot 0.03)+0.256\\cdot exp(-0.256\\cdot 8.775)=0.281\\to nP_{1}=14.05$\n",
        "\n",
        "$\\Delta_{2}=\\left[ 8.775,17.52 \\right], n_{2}=6$\n",
        "\n",
        "$P_{2}=0.256\\cdot exp(-0.256\\cdot 8.775)+0.256\\cdot exp(-0.256\\cdot 17.52)=0.03\\to nP_{2}=1.5$\n",
        "\n",
        "$\\mathcal{X}^{2}: \\mathcal{X}^{2}_{набл}=\\sum_{i=1}^{2}\\frac{(n_{i}-np_{i})^{2}}{np_{i}} = \\frac{(44 - 50 \\cdot 14.05)^2}{50 \\cdot 14.05} + \\frac{(6 - 50 \\cdot 1.5)^2}{50 \\cdot 1.5}= 64$\n",
        "\n",
        "$\\mathcal{X}^{2}_{N-1,1-\\alpha_{1}}=\\mathcal{X}^{2}_{1,0.8}\\simeq 2.706$\n",
        "\n",
        "$\\mathcal{X}^{2}\\gt \\mathcal{X}^{2}_{1,0.8}\\to$ по критерию Пирсона мы отвергаем гипотезу\n",
        "\n",
        "Наибольшее значение уровня значимости, при котором нет еще оснований отвергнуть данную гипотезу очень мала << 0.1"
      ],
      "metadata": {
        "id": "1EvWEFMLPLZq"
      },
      "id": "1EvWEFMLPLZq"
    },
    {
      "cell_type": "code",
      "source": [
        "# Задаем интервалы\n",
        "bins = np.linspace(min(data), max(data), 3)\n",
        "\n",
        "# Получаем гистограмму значений и количество элементов в каждом интервале\n",
        "hist, bin_edges = np.histogram(data, bins)\n",
        "\n",
        "# Выводим результаты\n",
        "print(\"Гистограмма значений:\", hist)\n",
        "print(\"Интервалы:\", bin_edges)"
      ],
      "metadata": {
        "colab": {
          "base_uri": "https://localhost:8080/"
        },
        "id": "xUTAvM3dnh1M",
        "outputId": "0b1db159-163a-48fd-880a-dd5e3d3e14f9"
      },
      "id": "xUTAvM3dnh1M",
      "execution_count": null,
      "outputs": [
        {
          "output_type": "stream",
          "name": "stdout",
          "text": [
            "Гистограмма значений: [44  6]\n",
            "Интервалы: [ 0.03   8.775 17.52 ]\n"
          ]
        }
      ]
    },
    {
      "cell_type": "markdown",
      "source": [
        "#### i)В пунктах (c)-(h) заменить семейство показательных распределений на гамма-распределений с плотностями $P_{\\lambda}(X)=\\frac{\\sqrt{\\lambda}\\cdot exp\\left( \\frac{-\\lambda\\cdot X}{2} \\right)}{\\sqrt{2\\cdot \\pi\\cdot X}}$"
      ],
      "metadata": {
        "id": "mzzqYZfJ3Pvw"
      },
      "id": "mzzqYZfJ3Pvw"
    },
    {
      "cell_type": "markdown",
      "source": [
        "#### i.c) В предположении, что исходные наблюдения являются выборкой из гамма-распределения, построить ОМП и ОММ параметра $\\lambda$.Найти смещение оценки.\n",
        "\n",
        "$\n",
        "\\begin{aligned}\n",
        "ОМП: \\\\\n",
        "& \\theta=\\lambda \\\\\n",
        "& p_\\lambda(x)=\\frac{\\sqrt{\\lambda} exp\\left( \\frac{-\\lambda X}{2} \\right)}{\\sqrt{2 \\pi X}}\\\\\n",
        "& L\\left(\\overrightarrow{X}_i ; \\theta\\right)= \\prod_{i=1}^{n}\\frac{\\sqrt{\\lambda} exp\\left( \\frac{-\\lambda X}{2} \\right)}{\\sqrt{2 \\pi X}}=\\frac{\\lambda^{\\frac{n}{2}} exp\\left( \\frac{-\\lambda}{2}  \\sum_{i=1}^{n}X_{i}\\right)}{(2\\pi)^{\\frac{n}{2}} (\\prod_{i=1}^{n}X_{i})^{\\frac{n}{2}}} \\\\\n",
        "& LL(\\overrightarrow{X}_i; \\theta)=\\frac{n}{2}\\ln(\\lambda)-\\frac{-\\lambda\\cdot \\sum_{i=1}^{n}X_{i}}{2}-\\frac{n}{2}\\ln(2\\pi)-\\frac{n}{2}\\ln(\\prod_{i=1}^{n}X_{i}) \\\\\n",
        "& \\frac{\\partial LL}{\\partial \\lambda}=\\frac{n}{2\\lambda}-\\frac{\\sum_{i=1}^{n}X_{i}}{2} \\\\\n",
        "& \\frac{n}{2\\lambda}-\\frac{\\sum_{i=1}^{n}X_{i}}{2}=0 \\\\\n",
        "& \\frac{n}{2\\lambda}=\\frac{\\sum_{i=1}^{n}X_{i}}{2} \\\\\n",
        "& \\frac{\\lambda}{n}=\\frac{1}{\\sum_{i=1}^{n}X_{i}} \\\\\n",
        "& \\hat\\theta = \\hat\\lambda=\\frac{1}{\\overline{X}} = 0.256- ОМП\n",
        "\\end{aligned}\n",
        "$\n",
        "\n",
        "$\n",
        "\\begin{aligned}\n",
        "ОММ: \\\\\n",
        "& \\hat{\\theta}=\\hat{\\lambda}=\\frac{n}{\\sum_{i=1}^n x_i} \\\\\n",
        "& \\mathbb{E} X_1= ab = \\frac{1}{\\lambda} \\quad M_1=\\bar{X} \\\\\n",
        "& P(X)=\\frac{1}{\\Gamma(a)\\cdot b^{a}}X^{a-1} \\cdot exp \\left(-\\frac{X}{b}\\right) \\to a = \\frac{1}{2}, b = \\frac{2}{\\lambda}\\\\\n",
        "& \\frac{1}{\\lambda} \\approx \\bar{X} \\quad \\frac{1}{\\tilde\\lambda}=\\bar{X} \\rightarrow \\tilde{\\lambda}=\\frac{1}{\\bar{X}} = 0.256 \\\\\n",
        "&\n",
        "\\end{aligned}\n",
        "$\n",
        "\n",
        "$\n",
        "\\begin{aligned}\n",
        "НРМД: \\\\\n",
        "& \\hat{\\theta}=\\hat{\\lambda}=\\frac{1}{\\bar{X}} \\\\\n",
        "& g\\left(T(\\overrightarrow{X})\\right)=\\frac{\\lambda^{\\frac{n}{2}} exp\\left( \\frac{-\\lambda}{2}  \\sum_{i=1}^{n}X_{i}\\right)}{(\\prod_{i=1}^{n}X_{i})^{\\frac{n}{2}}} \\\\\n",
        "& h(\\overrightarrow{X})=\\frac{1}{(2\\pi)^{\\frac{n}{2}}} \\\\\n",
        "& T=\\sum_{i=1}^{n}X_{i}=195.5 \\\\\n",
        "& \\mathbb{E}_{\\lambda}\\frac{1}{\\overline{X}}=\\mathbb{E}_{\\lambda}\\frac{n}{\\sum_{i=1}^{n}x_{i}}=n \\mathbb{E_{\\lambda}}\\frac{1}{\\sum_{i=1}^{n}x_{i}}=n \\mathbb{E}_{\\lambda}(\\sum_{i=1}^{n}X_{i})^{-1}=n \\left(\\frac{1}{\\lambda}\\right)^{-1}\\frac{\\Gamma (-1+n)}{\\Gamma (n)}=n \\lambda\\frac{\\Gamma (-1+n)}{\\Gamma(-1+n) (n-1)}=\\frac{n}{n-1} \\lambda - \\text{смещенная НРМД оценка} \\\\\n",
        "& \\tilde{\\theta}=\\frac{n-1}{n} \\hat{\\theta} = 0.251 - \\text{несмещенная НРМД оценка} \\\\\n",
        "\\end{aligned}\n",
        "$"
      ],
      "metadata": {
        "id": "UwBEENW9wve2"
      },
      "id": "UwBEENW9wve2"
    },
    {
      "cell_type": "markdown",
      "source": [
        "#### i.d)Построить А.Д.И. уровня значимости $\\alpha_2$ для параметра $\\lambda$ на базе ОМП\n",
        "- Метод построения на базе ОМП\n",
        "\n",
        "$\\sqrt{n}\\left( \\widehat{\\theta}(\\overrightarrow{X})-\\theta \\right)\\sim N\\left( 0, \\frac{1}{I(\\theta)} \\right)$\n",
        "\n",
        "$\\widehat{\\theta}=\\widehat{\\lambda}=\\frac{1}{\\overline{X}}$\n",
        "\n",
        "$I(\\theta)=-\\mathbb{E}\\left( \\frac{\\partial^{2} LL}{\\partial \\lambda^{2}} \\right)=-\\mathbb{E}\\left( -\\frac{n}{2 \\lambda^{2}} \\right)=\\frac{n}{2 \\lambda^{2}}$\n",
        "\n",
        "$\\sqrt{n I\\left(  \\widehat{\\theta}(\\overrightarrow{X})\\right)}\\left( \\widehat{\\theta}(\\overrightarrow{X})-\\theta \\right)\\sim N(0,1)$\n",
        "\n",
        "$X_{\\alpha}$: $\\mathrm{Ф}(X_{\\alpha})=1-\\frac{\\alpha_{2}}{2}=1-\\frac{0.1}{2}=0.95 \\to X_{0.95}=1.64$\n",
        "\n",
        "$А.Д.И. \\left[ \\frac{1}{\\overline{X}}-\\frac{X_{0.95}}{\\sqrt{50 \\frac{50}{2\\frac{1}{\\overline{X}^2}}}}; \\frac{1}{\\overline{X}}+\\frac{X_{0.95}}{\\sqrt{50 \\frac{50}{2\\frac{1}{\\overline{X}^2}}}}\\right]$\n",
        "\n",
        "$0.24\\le \\lambda\\le 0.28$ - Асимп. довер. интервал параметра $\\lambda$.\n",
        "\n",
        "- Метод построения АДИ на базе АНО $\\hat\\theta$\n",
        "\n",
        "$\\sqrt{n}\\left( \\widehat{\\theta}(\\overrightarrow{X})-\\theta \\right)\\sim N(0,\\sigma^{2}(\\theta))$\n",
        "\n",
        "$\\sqrt{n}\\frac{ \\widehat{\\theta}(\\overrightarrow{X})-\\theta}{\\sigma(\\widehat{\\theta})}\\sim N(0,1)$\n",
        "\n",
        "$X_{\\alpha}: \\mathrm{Ф(X_{\\alpha})}=0.95\\to X_{0.95}=1.64$\n",
        "\n",
        "$-X_{0.95}\\le \\sqrt{n} \\frac{\\widehat{\\lambda}-\\lambda}{\\sqrt{\\widehat{\\lambda}}}\\le X_{0.95}$\n",
        "\n",
        "$0.256-\\frac{1.64\\cdot \\sqrt{0.256}}{\\sqrt{50}}\\le \\lambda\\le 0.256+\\frac{1.64\\cdot \\sqrt{0.256}}{\\sqrt{50}}\\to 0.14\\le \\lambda\\le 0.37$ - А.Д.И. параметра $\\lambda$"
      ],
      "metadata": {
        "id": "qvP4MZnt3I1P"
      },
      "id": "qvP4MZnt3I1P"
    },
    {
      "cell_type": "markdown",
      "source": [
        "#### i.e) Построить критерий значимости проверки простой гипотезы согласия с гамма-распределением с параметром λ0=0.25 с использованием теоремы Колмогорова. Проверить гипотезы на уровне значимости α2 = 0,1. Вычислить наибольшее значения уровня значимости, на котором ещё нет оснований отвергнуть гипотезу."
      ],
      "metadata": {
        "id": "vs6boyHZZ5nC"
      },
      "id": "vs6boyHZZ5nC"
    },
    {
      "cell_type": "code",
      "source": [
        "from scipy.stats import gamma, kstest\n",
        "import numpy as np\n",
        "\n",
        "# Заданный параметр гамма-распределения\n",
        "lambda_0 = 0.25\n",
        "\n",
        "# Уровень значимости\n",
        "alpha = 0.1\n",
        "\n",
        "# Проведение теста Колмогорова\n",
        "ks_statistic, p_value = kstest(data, 'gamma', args=(2,), alternative='two-sided')\n",
        "\n",
        "print(\"Статистика Колмогорова:\", ks_statistic)\n",
        "print(\"p-значение:\", p_value)\n",
        "\n",
        "# Определение отвергаемости гипотезы на заданном уровне значимости\n",
        "if p_value > alpha:\n",
        "    print(f\"На уровне значимости {alpha}, гипотеза не отвергается\")\n",
        "else:\n",
        "    print(f\"На уровне значимости {alpha}, гипотеза отвергается\")\n",
        "\n",
        "# Вычисление наибольшего значения уровня значимости, при котором гипотеза не отвергается\n",
        "max_alpha = kstest(data, 'gamma', args=(2,), alternative='two-sided')[1]  # Повторное вычисление p-значения\n",
        "print(f\"Наибольшее значение уровня значимости, на котором гипотеза не отвергается: {max_alpha}\")\n"
      ],
      "metadata": {
        "colab": {
          "base_uri": "https://localhost:8080/"
        },
        "id": "A6MvsbF9acik",
        "outputId": "478f5eb5-e02b-41a0-f6ac-50f1888d429f"
      },
      "id": "A6MvsbF9acik",
      "execution_count": null,
      "outputs": [
        {
          "output_type": "stream",
          "name": "stdout",
          "text": [
            "Статистика Колмогорова: 0.2733255344563704\n",
            "p-значение: 4.304999764531559e-07\n",
            "На уровне значимости 0.1, гипотеза отвергается\n",
            "Наибольшее значение уровня значимости, на котором гипотеза не отвергается: 4.304999764531559e-07\n"
          ]
        }
      ]
    },
    {
      "cell_type": "markdown",
      "source": [
        "#### i.f) Используя гистограмму частот, построить критерий значимости $\\mathcal{X^{2}}$ проверки простой гипотезы согласия с гамма-распределением с параметром $\\lambda_{0}$. Проверить гипотезу на урокень значимости $\\alpha_{2}$. Вычислить наибольшее значение уровня значимости, на котором ещё нет оснований отвергнуть данную гипотезу."
      ],
      "metadata": {
        "id": "h2H51NlubpHA"
      },
      "id": "h2H51NlubpHA"
    },
    {
      "cell_type": "markdown",
      "source": [
        "$\\lambda_0 = 0.25$\n",
        "\n",
        "$P_{i}=P_{H_{0}}=(X\\in \\Delta_{i})=\\sum_{k\\in \\Delta_{i}}^{}\\frac{\\sqrt{\\lambda_{0}}\\cdot exp\\left( -\\frac{\\lambda_{0}\\cdot k}{2} \\right)}{\\sqrt{2\\pi\\cdot k}})$\n",
        "\n",
        "$\\Delta_{1}=\\left[ 0.03,8.775 \\right], n_{1}=44$\n",
        "\n",
        "$P_{1}=\\frac{\\sqrt{0.25}\\cdot exp\\left( -\\frac{0.25\\cdot 0.03}{2} \\right)}{\\sqrt{2\\pi\\cdot 0.03}}+\\frac{\\sqrt{0.25}\\cdot exp\\left( -\\frac{0.25\\cdot 8.775}{2} \\right)}{\\sqrt{2\\pi\\cdot 8.775}}=1.2\\to nP_{1}=60$\n",
        "\n",
        "$\\Delta_{2}=\\left[ 8.775,17.52 \\right], n_{2}=6$\n",
        "\n",
        "$P_{2}=\\frac{\\sqrt{0.25}\\cdot exp\\left( -\\frac{0.25\\cdot 17.52}{2} \\right)}{\\sqrt{2\\pi\\cdot 17.52}}+\\frac{\\sqrt{0.25}\\cdot exp\\left( -\\frac{0.25\\cdot 8.775}{2} \\right)}{\\sqrt{2\\pi\\cdot 8.775}}=0.03\\to nP_{2}=1.5$\n",
        "\n",
        "$\\mathcal{X}^{2}: \\mathcal{X}^{2}_{набл}=\\sum_{i=1}^{2}\\frac{(n_{i}-np_{i})^{2}}{np_{i}} = \\frac{(44 - 50 \\cdot 60)^2}{50 \\cdot 60} + \\frac{(6 - 50 \\cdot 1.5)^2}{50 \\cdot 1.5}= 2940$\n",
        "\n",
        "$\\mathcal{X}^{2}_{N-1,1-\\alpha_{1}}=\\mathcal{X}^{2}_{1,0.8}\\simeq 2.706$\n",
        "\n",
        "$\\mathcal{X}^{2}\\gt \\mathcal{X}^{2}_{1,0.8}\\to$ по критерию Пирсона мы отвергаем гипотезу\n",
        "\n",
        "Наибольшее значение уровня значимости, при котором нет еще оснований отвергнуть данную гипотезу очень мала << 0.1"
      ],
      "metadata": {
        "id": "Oa0kXal0b04C"
      },
      "id": "Oa0kXal0b04C"
    },
    {
      "cell_type": "code",
      "source": [
        "np.sqrt(0.25)*np.exp(-0.25*17.52/2)/(np.sqrt(2*np.pi*17.52)) + np.sqrt(0.25)*np.exp(-0.25*8.775/2)/(np.sqrt(2*np.pi*8.775))"
      ],
      "metadata": {
        "colab": {
          "base_uri": "https://localhost:8080/"
        },
        "id": "Bh3W8oB5d6Wz",
        "outputId": "593b7ac8-1f41-4996-b147-79497cb7b881"
      },
      "id": "Bh3W8oB5d6Wz",
      "execution_count": null,
      "outputs": [
        {
          "output_type": "execute_result",
          "data": {
            "text/plain": [
              "0.027818285691691435"
            ]
          },
          "metadata": {},
          "execution_count": 50
        }
      ]
    },
    {
      "cell_type": "markdown",
      "source": [
        "#### i.g) Построить критерий значимости  $\\mathcal{X^{2}}$ проверки сложной гипотезы согласия с показательным распределением. Проверить гипотезу по уровню значимости $\\alpha_{2}$.Вычислить наибольшее значение уровня значимости, на котором ещё нет оснований отвергнуть данную гипотезу."
      ],
      "metadata": {
        "id": "7bmjhwJXfHN9"
      },
      "id": "7bmjhwJXfHN9"
    },
    {
      "cell_type": "markdown",
      "source": [
        "$\\lambda_0 = 0.256$\n",
        "\n",
        "$P_{i}=P_{H_{0}}=(X\\in \\Delta_{i})=\\sum_{k\\in \\Delta_{i}}^{}\\frac{\\sqrt{\\frac{1}{\\overline{X}}}\\cdot exp\\left( -\\frac{\\frac{1}{\\overline{X}}\\cdot k}{2} \\right)}{\\sqrt{2\\pi\\cdot k}}$\n",
        "\n",
        "$\\Delta_{1}=\\left[ 0.03,8.775 \\right], n_{1}=44$\n",
        "\n",
        "$P_{1}=\\frac{\\sqrt{0.256}\\cdot exp\\left( -\\frac{0.256\\cdot 0.03}{2} \\right)}{\\sqrt{2\\pi\\cdot 0.03}}+\\frac{\\sqrt{0.256}\\cdot exp\\left( -\\frac{0.256\\cdot 8.775}{2} \\right)}{\\sqrt{2\\pi\\cdot 8.775}}=1.2\\to nP_{1}=60$\n",
        "\n",
        "$\\Delta_{2}=\\left[ 8.775,17.52 \\right], n_{2}=6$\n",
        "\n",
        "$P_{2}=\\frac{\\sqrt{0.256}\\cdot exp\\left( -\\frac{0.256\\cdot 17.52}{2} \\right)}{\\sqrt{2\\pi\\cdot 17.52}}+\\frac{\\sqrt{0.256}\\cdot exp\\left( -\\frac{0.256\\cdot 8.775}{2} \\right)}{\\sqrt{2\\pi\\cdot 8.775}}=0.03\\to nP_{2}=1.5$\n",
        "\n",
        "$\\mathcal{X}^{2}: \\mathcal{X}^{2}_{набл}=\\sum_{i=1}^{2}\\frac{(n_{i}-np_{i})^{2}}{np_{i}} = \\frac{(44 - 50 \\cdot 60)^2}{50 \\cdot 60} + \\frac{(6 - 50 \\cdot 1.5)^2}{50 \\cdot 1.5}= 2940$\n",
        "\n",
        "$\\mathcal{X}^{2}_{N-1,1-\\alpha_{1}}=\\mathcal{X}^{2}_{1,0.8}\\simeq 2.706$\n",
        "\n",
        "$\\mathcal{X}^{2}\\gt \\mathcal{X}^{2}_{1,0.8}\\to$ по критерию Пирсона мы отвергаем гипотезу\n",
        "\n",
        "Наибольшее значение уровня значимости, при котором нет еще оснований отвергнуть данную гипотезу очень мала << 0.1"
      ],
      "metadata": {
        "id": "bEMiaK5LfQy7"
      },
      "id": "bEMiaK5LfQy7"
    },
    {
      "cell_type": "markdown",
      "source": [
        "#### i.h)Для гамма-распределения $P_{\\lambda}(X)=\\frac{\\sqrt{\\lambda}\\cdot exp\\left( \\frac{-\\lambda\\cdot X}{2} \\right)}{\\sqrt{2\\cdot \\pi\\cdot X}}$ построить наиболее мощный критерий проверки гипотезы о показательности с параметром $\\lambda=\\lambda_{0}$ при альтернативе показательности с параметром $\\lambda=\\lambda_{1}$."
      ],
      "metadata": {
        "id": "g251ja4zh8r_"
      },
      "id": "g251ja4zh8r_"
    },
    {
      "cell_type": "markdown",
      "source": [
        "$H_{0}=\\lambda_{0} = 0.25$\n",
        "\n",
        "$H_{A}=\\lambda_{1} = 0.2$\n",
        "\n",
        "$\\alpha_1 = 0.1$\n",
        "\n",
        "\n",
        "$LR(\\overrightarrow{X},\\lambda_{0},\\lambda_{1}) = \\frac{L\\left( \\overrightarrow{X},\\lambda_{0} \\right)}{L\\left( \\overrightarrow{X},\\lambda_{1} \\right)}= \\frac{\\lambda_{0}^{\\frac{n}{2}} \\cdot exp \\left(-\\frac{\\lambda_{0}\\cdot \\sum_{i=1}^{n}X_{i}}{2} \\right)}{\\lambda_{1}^{\\frac{n}{2}}\\cdot exp \\left(-\\frac{\\lambda_{1}\\cdot \\sum_{i=1}^{n}X_{i}}{2} \\right)}=\\left(\\frac{\\lambda_{0}}{\\lambda_{1}}\\right)^{\\frac{n}{2}}\\cdot exp \\left((\\lambda_{1}-\\lambda_{0})\\cdot \\sum_{i=1}^{n}X_{i} \\right)$\n",
        "\n",
        "В силу монотонности статистики $LR(\\overrightarrow{X})$ относительно МДС $T(\\overrightarrow{X})=\\sum_{i=1}^{n}X_{i}$\n",
        "\n",
        "$LR(\\overrightarrow{X},\\lambda_{1},\\lambda_{0})\\gt c \\\\ {\\overrightarrow{X} : \\sum_{i=1}^{50}X_{i} \\gt c^{*}}$\n",
        "\n",
        "$c=F_{\\Gamma \\left(n,\\frac{1}{\\lambda} \\right)}^{-1}(1-\\alpha_{2}) = F_{\\Gamma \\left(50,\\frac{1}{0.25} \\right)}^{-1}(1-0.1) = F_{\\Gamma \\left(50,\\frac{1}{4} \\right)}^{-1}\\cdot0.9 = 237 $\n",
        "\n",
        "$LR(\\overrightarrow{X}, \\lambda_0, \\lambda_1) = \\left(\\frac{0.25}{0.2}\\right)^{25} \\cdot e^{(0.2-0.25) \\cdot 237} = 0.002 < 237$ отвергаем гипотезу $H_0$\n",
        "\n",
        "$H_{0}=\\lambda_{0} = 0.2$\n",
        "\n",
        "$H_{A}=\\lambda_{1} = 0.25$\n",
        "\n",
        "$c = F_{\\Gamma \\left(50,\\frac{1}{0.2} \\right)}^{-1}(1-0.1) = F_{\\Gamma \\left(50,\\frac{1}{5} \\right)}^{-1}\\cdot0.9 = 296.2$\n",
        "\n",
        "$LR(\\overrightarrow{X}, \\lambda_0, \\lambda_1) = \\left(\\frac{0.2}{0.25}\\right)^{25} \\cdot e^{(0.25-0.2) \\cdot 296.2} = 10213 > 237$ принимаем $H_0$"
      ],
      "metadata": {
        "id": "fbT1Kmbbh9Km"
      },
      "id": "fbT1Kmbbh9Km"
    },
    {
      "cell_type": "markdown",
      "id": "51fab020-6e42-471a-a84d-d3340557a3ab",
      "metadata": {
        "id": "51fab020-6e42-471a-a84d-d3340557a3ab"
      },
      "source": [
        "## Выводы\n"
      ]
    },
    {
      "cell_type": "markdown",
      "source": [
        "В ходе практической работы были использованы различные библиотеки Python, такие как NumPy для работы с массивами данных и вычислений, Matplotlib для визуализации графиков, а также использовались функции из библиотеки Math для математических расчетов.\n",
        "\n",
        "**Построение вариационного ряда, эмпирической функции распределения, гистограммы и полигона частот:** В данном задании изучены методы построения основных статистических характеристик данных. Matplotlib использовался для построения графиков, представляющих распределение данных.\n",
        "\n",
        "**Вычисление выборочных характеристик:** Были вычислены числовые характеристики данных, такие как математическое ожидание, дисперсия, стандартное отклонение, медиана, асимметрия, эксцесс и вероятности на основе полученных данных.\n",
        "\n",
        "**Построение оценок параметра распределения:** Были исследованы способы оценивания параметров распределений: метод максимального правдоподобия и метод моментов. Эти методы позволяют получить приближенные значения параметров распределения по имеющейся выборке данных.\n",
        "\n",
        "**Построение доверительного интервала:** Используя оценку максимального правдоподобия, был построен асимптотический доверительный интервал. Этот метод помогает оценить неизвестный параметр распределения с некоторой вероятностью.\n",
        "\n",
        "**Построение критерия Колмогорова для проверки гипотезы согласия с показательным распределением:** Был разработан критерий значимости на основе теоремы Колмогорова для проверки гипотезы о соответствии данных показательному распределению.\n",
        "**Построение критерия $\\chi^2$ для проверки гипотезы согласия с показательным распределением:** Разработан критерий значимости на основе распределения $chi^2$, используемый для проверки соответствия данных показательному распределению.\n",
        "\n",
        "**Построение критерия проверки гипотезы согласия с показательным распределением:** Это включает в себя разработку критерия значимости для проверки гипотезы о соответствии данных показательному распределению.\n",
        "\n",
        "**Наиболее мощный критерий проверки гипотезы о показательности:** Был изучен наиболее мощный критерий проверки гипотезы о показательности с различными параметрами.\n",
        "\n",
        "В ходе выполнения практических заданий были изучены и применены различные методы статистического анализа, оценки параметров распределений, а также способы проверки гипотез. Полученные навыки позволили проводить анализ данных и делать выводы о их соответствии определенным распределениям с использованием вычислительных инструментов."
      ],
      "metadata": {
        "id": "A4t6gvFnxDDL"
      },
      "id": "A4t6gvFnxDDL"
    },
    {
      "cell_type": "code",
      "source": [],
      "metadata": {
        "id": "BBqQ6v-Wxjzv"
      },
      "id": "BBqQ6v-Wxjzv",
      "execution_count": null,
      "outputs": []
    }
  ],
  "metadata": {
    "colab": {
      "provenance": []
    },
    "kernelspec": {
      "display_name": "Python 3 (ipykernel)",
      "language": "python",
      "name": "python"
    },
    "language_info": {
      "codemirror_mode": {
        "name": "ipython",
        "version": 3
      },
      "file_extension": ".py",
      "mimetype": "text/x-python",
      "name": "python",
      "nbconvert_exporter": "python",
      "pygments_lexer": "ipython3",
      "version": "3.8.12"
    }
  },
  "nbformat": 4,
  "nbformat_minor": 5
}
