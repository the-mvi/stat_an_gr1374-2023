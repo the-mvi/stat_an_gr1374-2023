{
  "nbformat": 4,
  "nbformat_minor": 0,
  "metadata": {
    "colab": {
      "provenance": []
    },
    "kernelspec": {
      "name": "python3",
      "display_name": "Python 3"
    },
    "language_info": {
      "name": "python"
    }
  },
  "cells": [
    {
      "cell_type": "markdown",
      "source": [
        "# Практическая работа №2: Классические методы математической статистики\n",
        "Выполнил студент гр.1374 Дюков Николай. Вариант 7"
      ],
      "metadata": {
        "id": "Dgizzcch0Oa_"
      }
    },
    {
      "cell_type": "markdown",
      "source": [
        "## Цель работы\n",
        "Научится применять методы математической статистики для решения задач статистического анализа; сформировать навыки реализации методов с помощью прикладных программных пакетов."
      ],
      "metadata": {
        "id": "tfao5oPNBTku"
      }
    },
    {
      "cell_type": "markdown",
      "source": [
        "## Основные теоретические положения\n",
        "\n",
        "1.Выборочные числовые характеристики:\n",
        "Мат.ожидание $\\overline{X}=\\frac{1}{n}\\sum_{i=1}^{n}X_{i}$\n",
        "\n",
        "Дисперсия $S^{2}=\\frac{1}{n}\\sum_{i=1}^{n}\\left( X_{i}-\\overline{X} \\right)^{2}=\\overline{X^{2}}-\\overline{X}^{2}$\n",
        "\n",
        "Коэф.асимметрии (скошености) $\\widehat{S_{kew}}X=\\frac{\\left(\\frac{1}{n}\\sum_{i=1}^{n}\\left( X_{i}-\\overline{X} \\right)^{3} \\right)}{S^{3}}$\n",
        "\n",
        "Коэф.эксцесса (островершинности) $\\widehat{K_{urt}}X=\\frac{\\frac{1}{n}\\sum_{i=1}^{n}\\left( X_{i}-\\overline{X}^{4} \\right)}{S^{4}}-3$\n",
        "\n",
        "2.Оценка Максимального Правдоподобия (ОМП):\n",
        "\n",
        "Если $X_{1},...,X_{n}$-выборка из распределения с плотностью распределения $P_{\\theta}, \\theta\\in \\Theta$, то\n",
        "\n",
        "2.1 Функция правдоподобия распадается в произведения $L(\\overrightarrow{X},\\theta)=\\prod_{i=1}^{n}P_{\\theta}(X_{i})$\n",
        "\n",
        "2.2 Логарифм функции правдоподобия представляется в виде суммы $LL(\\overrightarrow{X},\\theta)=\\ln L(\\overrightarrow{X},\\theta)=\\sum_{i=1}^{n}\\ln P_{\\theta}(X_{i})$\n",
        "\n",
        "2.3 В силу монотонности логарифма задача максимизации функции правдоподобия сводится к задаче максимизации ее логарифма по всем $\\theta\\in \\Theta  LL(\\overrightarrow{X}),\\theta=\\sum_{i=1}^{n}\\ln P_{\\theta}(X_{i})$\n",
        "\n",
        "2.4 Если \\theta - d-мерный параметр и $P_{\\theta}$ дифференцируема по $\\theta$, то для нахождения максимума надо найти решения системы уравнений: U$(\\overrightarrow{X},\\theta)=\\frac{\\partial }{\\partial \\theta}LL(\\overrightarrow{X},\\theta)=0, i=\\overline{1,d}$\n",
        "\n",
        "3. Оценка метода моментов (ОММ)\n",
        "\n",
        "Пусть $X_{1},...,X_{n}$-выбока из распределения $P_{\\theta}, \\theta=(\\theta_{1},...,\\theta_{d})$\n",
        "\n",
        "$\\exists \\mu_{k}(\\theta)=\\mathbb{E}X^{k}_{1}, k=\\overline{1,d}$\n",
        "\n",
        "Если $\\exists$ ! решение $\\widetilde{\\theta}(X)$ системы уравнений: $\\widehat{\\mu^{k}}(\\widetilde{\\theta})=\\mu_{k}(\\theta), k=\\overline{1,d}$, где $\\widetilde{\\theta}(X)=\\frac{1}{n}\\sum_{i=1}^{n}X^{k}_{i}$-выборочный момент k-го порядка, то $\\widetilde{\\theta}(X)$ называется оценкой по методу моментов\n",
        "\n",
        "4. НРМД-оценки (несмещенная оценка)\n",
        "\n",
        "Оценка $\\widehat{\\theta}(X)$ параметра $\\theta$ называется несмещенной, если при любом значении параметра $\\theta\\in \\Theta: \\mathbb{E}\\widehat{\\theta}(X)=\\theta$\n",
        "\n",
        "Смещением оценки называется величина: $bias_{\\widehat{\\theta}}(\\theta)=\\mathbb{E}_{\\theta}\\widehat{\\theta}(X)-\\theta$\n",
        "\n",
        "Алгоритм несмещенного оценивания:\n",
        "\n",
        "4.1 Найти оценку $\\widehat{\\theta}(T)$, являющуюся функцией от минимальной достаточной статистики T(e.g.ОМП)\n",
        "\n",
        "4.2 Доказать полноту МДС T\n",
        "\n",
        "4.3 Скорректировать смещение:$\\widetilde{\\theta}(T)=f(\\widehat{\\theta}(T),T): \\mathbb{E}_{\\theta}\\widetilde{\\theta}(T)=\\theta,\\forall \\theta\\in \\Theta$\n",
        "\n",
        "5. Асимптотический доверительный интервал (АДИ)\n",
        "\n",
        "5.1 На базе Асимптотической нормальности оценки $\\widehat{\\theta}$\n",
        "\n",
        "5.1.1 Асимптотическая нормальность $\\sqrt{n}\\left( \\widehat{\\theta}(\\overrightarrow{X})-\\theta)\\right)\\sim \\mathcal{N}\\left(0,\\sigma^{2}(\\theta)\\right)$\n",
        "\n",
        "5.1.2 Тогда $\\sqrt{n}\\frac{\\widehat{\\theta}(\\overrightarrow{X})-\\theta}{\\sigma\\left(\\widehat{\\theta}(\\overrightarrow{X})\\right)}$    \n",
        "\n",
        "5.1.3 Выбираем $X_{\\alpha}: \\Phi(X_{\\alpha})=1-\\frac{\\alpha}{2}$\n",
        "\n",
        "5.1.4 А.Д.И. $\\left[ \\widehat{\\theta}(\\overrightarrow{X})-\\frac{X_{\\alpha}\\cdot \\sigma\\left( \\widehat{\\theta}(\\overrightarrow{X}) \\right)}{\\sqrt{n}}; \\widehat{\\theta}(\\overrightarrow{X})+\\frac{X_{\\alpha}\\cdot \\sigma\\left( \\widehat{\\theta}(\\overrightarrow{X}) \\right)}{\\sqrt{n}}\\right]$\n",
        "\n",
        "5.2 на базе ОМП\n",
        "\n",
        "5.2.1 Пусть $\\widehat{\\theta}(\\overrightarrow{X})$-ОМП\n",
        "\n",
        "5.2.2 При выполнении опр.условий регулярности: $\\sqrt{n}\\left( \\widehat{\\theta}(\\overrightarrow{X})-\\theta)\\right)\\sim \\mathcal{N}\\left(0,\\frac{1}{I(\\theta)}\\right), I(\\theta)=-\\mathbb{E}\\left( \\frac{\\partial^{2} LL}{\\partial \\theta^{2}} \\right)$-информация Фишера\n",
        "\n",
        "5.2.3 Тогда $\\sqrt{n\\cdot I\\left( \\widehat{\\theta}(\\overrightarrow{X}) \\right)}\\cdot \\left( \\widehat{\\theta}(\\overrightarrow{X})-\\theta \\right)\\sim \\mathcal{N}(0,1)$\n",
        "\n",
        "5.2.4 Выбираем $X_{\\alpha}: \\Phi(X_{\\alpha})=1-\\frac{\\alpha}{2}$\n",
        "\n",
        "5.2.5 А.Д.И $\\left[ \\widehat{\\theta}(\\overrightarrow{X})-\\frac{X_{\\alpha}}{\\sqrt{n\\cdot I\\left( \\widehat{\\theta}(\\overrightarrow{X}) \\right)}};\\widehat{\\theta}(\\overrightarrow{X})+\\frac{X_{\\alpha}}{\\sqrt{n\\cdot I\\left( \\widehat{\\theta}(\\overrightarrow{X}) \\right)}} \\right]$\n",
        "\n",
        "6. Критерий $\\chi^2$ для проверки гипотез\n",
        "\n",
        "основан на справнении теоритической плотности распределения и гистограммы, либо теоритической вероятностной меры и полигона частот.\n",
        "\n",
        "Разобъем множество значений сл. вел. X на $N$ интервалов $I_{1}, ..., I_{N}:$ $I_{i} = (a_{i-1}, a_i], i = \\overline {1,N}$. данные интервалы не пересекаются и покрывают всё множество возможных значений сл. вел. X.\n",
        "\n",
        "Обозначим через $p_{i}$ теоритическую вероятность попадания сл. вел. X в интервал $I_{i}$, при условии, что справедлива $H_{0}$.\n",
        "\n",
        "$p_{i} = P(X \\in I_{i}|H_{0})$\n",
        "\n",
        "Через $n_{i}$ обозначим число наблюдений нашей выборки, попавших в соответветствующий интервал $I_{i}$.\n",
        "\n",
        "$n_{i} = num(x_{j} \\in I_{i})$\n",
        "\n",
        "Статистика критерия основана на сравнении относительной частоты и теоритической.\n",
        "\n",
        "$\\chi^{2}_{набл} = \\sum \\limits_{i=1}^{N} \\frac{n}{p_{i}} \\bigg ( \\frac{n_{i}}{n} - p_{i} \\bigg )^{2} = \\sum \\limits_{i=1}^{N} \\frac{(n_{i} - p_{i} n)^{2}}{n p_{i}} \\sim \\chi^{2}_{N-1}$\n",
        "\n",
        "Если $\\mathcal{X}^{2}_{N-1,1-\\alpha_{1}} \\lt \\chi^2_{набл}$, то гипотезу отвергаем\n",
        "\n",
        "Если $\\mathcal{X}^{2}_{N-1,1-\\alpha_{1}} \\gt \\chi^2_{набл}$, то гипотезу принимаем\n",
        "\n",
        "7. теорема Колмогорова\n",
        "\n",
        "$D_{n}(\\overrightarrow{X}) = \\overset{}{\\underset{X \\in \\mathbb R}{sup}} |F_{0}(X_{i}) - F_{n}(X_{i})|$\n",
        "\n",
        "Если гипотеза $H_{0}$ верна, и $F_{0}(X)$ - непрерывная ф-я на $\\mathbb R$, тогда имеет место сходимость\n",
        "\n",
        "$P(\\sqrt{n} D_{n}(\\overrightarrow{X}) < z) \\xrightarrow[n \\rightarrow \\infty]{} K(z)$, где\n",
        "\n",
        "$K(z)=1-\\alpha$ - ф-я распределения Колмогорова.\n",
        "\n",
        "Если $D_{n} \\lt z$, то гипотезу принимаем\n",
        "\n",
        "Если $D_{n} \\gt z$, то гипотезу отвергаем\n",
        "\n",
        "8. Наиболее мощный критерий простой гипотезы\n",
        "\n",
        "Для основной гипотезы $H_{0}: \\theta=\\theta_{0}$ и альтернативной гипотезы $H_{1}: \\theta=\\theta_{1}$, где $\\theta_{0}$ и $\\theta_{1}$ - фиксированные параметры, мы можем построить статистику правдоподобия:\n",
        "\n",
        "$LR(\\overrightarrow{X},\\theta_{1},\\theta_{0})=\\frac{L(\\overrightarrow{X},\\theta_{1})}{L(\\overrightarrow{X},\\theta_{0})}=\\frac{P_{\\theta_{1}}(X)}{P_{\\theta_{0}}(X)}$ - статистика отношений правдоподобия\n",
        "\n",
        "где $L(\\overrightarrow{X},\\theta_{1})$ - функция правдоподобия для альтернативной гипотезы, а $L(\\overrightarrow{X}\\theta_{0})$ - функция правдоподобия для основной гипотезы.\n",
        "\n",
        "Наиболее мощным критерием будет критическая область, в которой наблюдаемое значение статистики правдоподобия $LR(\\overrightarrow{X},\\theta_{1},\\theta_{0})$ будет отклоняться от значения 1 в сторону более высоких значений.\n",
        "\n",
        "Чтобы построить критическую область, мы должны задать уровень значимости $\\alpha$ - вероятность ошибки первого рода. Затем мы находим критическое значение $c$ такое, что $P\\left(LR(\\overrightarrow{X},\\theta_{1},\\theta_{0}) > c | H_{0} \\right) = \\alpha$, где $P\\left(LR(\\overrightarrow{X},\\theta_{1},\\theta_{0}) > c | H_{0}\\right)$ - вероятность получить наблюдаемое значение статистики правдоподобия, большее или равное $c$, при условии, что основная гипотеза верна.\n",
        "\n",
        "$LR(\\overrightarrow{X},\\theta_{1},\\theta_{0})\\gt c$, то принимаем основную гипотезу\n",
        "\n",
        "$LR(\\overrightarrow{X},\\theta_{1},\\theta_{0})\\lt c$, то отвергаем основную гипотезу"
      ],
      "metadata": {
        "id": "lGfbEBIpBu9M"
      }
    },
    {
      "cell_type": "markdown",
      "source": [
        "## Постановка задачи\n",
        "Для полученных в результате эксперимента наборов данных выполнить статистическую обработку. Полученные результаты содержательно проинтерпретировать."
      ],
      "metadata": {
        "id": "X-OSbbFMB4aM"
      }
    },
    {
      "cell_type": "markdown",
      "source": [
        "## Выполнение работы"
      ],
      "metadata": {
        "id": "FFEysGy7CDvZ"
      }
    },
    {
      "cell_type": "markdown",
      "source": [
        "### Задание-1"
      ],
      "metadata": {
        "id": "f__gimKYKZZ5"
      }
    },
    {
      "cell_type": "code",
      "source": [
        "import numpy as np\n",
        "import matplotlib.pyplot as plt\n",
        "from scipy import stats\n",
        "data = [0, 6, 1, 0, 1, 0, 0, 0, 0, 0, 0, 1, 0, 1, 0, 1, 0, 1, 2, 2, 0, 0, 2, 0, 2, 1, 0, 0, 5, 2, 0, 3, 0, 1, 4, 0, 0, 0, 3, 0, 1, 0, 4, 3, 1, 0, 1, 1, 0, 0] #выборка"
      ],
      "metadata": {
        "id": "13Ei00PCAbqI"
      },
      "execution_count": null,
      "outputs": []
    },
    {
      "cell_type": "markdown",
      "source": [
        "#### a)Построить вариционный ряд, эмпирическую функцию распределения и гистограмму частот"
      ],
      "metadata": {
        "id": "DzRE7SrPCOoY"
      }
    },
    {
      "cell_type": "code",
      "source": [
        "sorted_data = np.sort(data)\n",
        "n = len(data)\n",
        "variation_range = np.unique(sorted_data)\n",
        "empirical_function = np.cumsum(np.bincount(sorted_data)) / n\n",
        "print(sorted_data)\n",
        "# Нанесение на график вариационного ряда\n",
        "plt.subplot(311)\n",
        "plt.plot(range(len(sorted_data)), sorted_data, marker='o', linestyle='-', color='b')\n",
        "plt.xlabel('Наблюдения')\n",
        "plt.ylabel('Значения')\n",
        "plt.title('Вариационный ряд')\n",
        "plt.show()"
      ],
      "metadata": {
        "colab": {
          "base_uri": "https://localhost:8080/",
          "height": 246
        },
        "id": "rkIoTsqIqwg2",
        "outputId": "c05f884b-a65d-4818-8d98-007e10514b88"
      },
      "execution_count": null,
      "outputs": [
        {
          "output_type": "stream",
          "name": "stdout",
          "text": [
            "[0 0 0 0 0 0 0 0 0 0 0 0 0 0 0 0 0 0 0 0 0 0 0 0 0 0 1 1 1 1 1 1 1 1 1 1 1\n",
            " 1 2 2 2 2 2 3 3 3 4 4 5 6]\n"
          ]
        },
        {
          "output_type": "display_data",
          "data": {
            "text/plain": [
              "<Figure size 640x480 with 1 Axes>"
            ],
            "image/png": "[encoded data removed]"
          },
          "metadata": {}
        }
      ]
    },
    {
      "cell_type": "code",
      "source": [
        "plt.subplot(312)\n",
        "plt.step(variation_range, empirical_function, color='r')\n",
        "plt.xlabel('Значения')\n",
        "plt.ylabel('Вероятность')\n",
        "plt.title('Эмпирическая функция')\n",
        "plt.show()"
      ],
      "metadata": {
        "colab": {
          "base_uri": "https://localhost:8080/",
          "height": 211
        },
        "id": "iI4_MXCEv4WR",
        "outputId": "a3a4553b-33fd-4ad7-cd22-f192c863b703"
      },
      "execution_count": null,
      "outputs": [
        {
          "output_type": "display_data",
          "data": {
            "text/plain": [
              "<Figure size 640x480 with 1 Axes>"
            ],
            "image/png": "[encoded data removed]"
          },
          "metadata": {}
        }
      ]
    },
    {
      "cell_type": "code",
      "source": [
        "plt.subplot(313)\n",
        "plt.hist(sorted_data, bins=range(min(sorted_data), max(sorted_data) + 1), density=True, edgecolor='black')\n",
        "plt.xlabel('Значение')\n",
        "plt.ylabel('Относительная частота')\n",
        "plt.title('Гистограмма частот')\n",
        "plt.show()"
      ],
      "metadata": {
        "colab": {
          "base_uri": "https://localhost:8080/",
          "height": 211
        },
        "id": "aQFzsyuFvlVj",
        "outputId": "f8d9fcdc-e3ea-47d7-eee6-3dce5897aa09"
      },
      "execution_count": null,
      "outputs": [
        {
          "output_type": "display_data",
          "data": {
            "text/plain": [
              "<Figure size 640x480 with 1 Axes>"
            ],
            "image/png": "[encoded data removed]"
          },
          "metadata": {}
        }
      ]
    },
    {
      "cell_type": "markdown",
      "source": [
        "#### b) Вычислить выборочные аналоги следующих числовых характеристик: (i)математическое ожидание, (ii)дисперсия, (iii)медианы, (iv)асимметрии, (v)эксцесса (vi) вероятности $\\mathrm{P}(X\\in \\left[ a,b \\right])$"
      ],
      "metadata": {
        "id": "L6smtvKiCptl"
      }
    },
    {
      "cell_type": "code",
      "source": [
        "a = 0.00\n",
        "b = 1.85\n",
        "mean = np.mean(data)  # Выборочное математическое ожидание\n",
        "variance = np.var(data)  # Дисперсия\n",
        "deviation=np.std(data) #СКО\n",
        "median = np.median(data)  # Медиана\n",
        "skewness = stats.skew(data)  # Асимметрия\n",
        "kurtosis = stats.kurtosis(data)  # Эксцесс\n",
        "probability = len([x for x in data if a <= x <= b]) / len(data)  # Вероятность\n",
        "print(\"Мат.ожидание=\",mean)\n",
        "print(\"Дисперсия=\",variance)\n",
        "print(\"Выборочное стандартное отклонение=\",deviation)\n",
        "print(\"Медиана=\",median)\n",
        "print(\"Асимметрия=\",skewness)\n",
        "print(\"Эксцесс=\",kurtosis)\n",
        "print(\"Вероятность попадания в промежуток=\",probability)"
      ],
      "metadata": {
        "colab": {
          "base_uri": "https://localhost:8080/"
        },
        "id": "oYiXySOcEDpE",
        "outputId": "3362f5de-f396-4ec5-f59b-979bbe24d70b"
      },
      "execution_count": null,
      "outputs": [
        {
          "output_type": "stream",
          "name": "stdout",
          "text": [
            "Мат.ожидание= 1.0\n",
            "Дисперсия= 2.04\n",
            "Выборочное стандартное отклонение= 1.42828568570857\n",
            "Медиана= 0.0\n",
            "Асимметрия= 1.6885730425043648\n",
            "Эксцесс= 2.3921568627450984\n",
            "Вероятность попадания в промежуток= 0.76\n"
          ]
        }
      ]
    },
    {
      "cell_type": "markdown",
      "source": [
        "#### c)В предположении, что исходные наблюдения являются выборкой из распределения Пуассона, построить ОМП и ОММ параметра $\\lambda$.Найти смещение оценки.\n",
        "\n",
        "Построим ОМП.\n",
        "Плотность распределения Пуассона: $P_{\\lambda}(X=k)=\\frac{\\lambda^{k}}{k!}\\cdot exp(-\\lambda)$\n",
        "\n",
        "Построим функцию правдоподобия:\n",
        "\n",
        "$L(\\overrightarrow{X};\\theta)=\\prod_{i=1}^{n}P_{\\lambda}(X_{i})=\\prod_{i=1}^{n}\\frac{\\lambda^{X_{i}}}{X_{i}!}\\cdot exp(-\\lambda)=\\frac{\\lambda^{\\sum_{i=1}^{n}X_{i}}}{\\prod_{i=1}^{n}(X_{i}!)}\\cdot exp(-n\\cdot \\lambda)$\n",
        "\n",
        "Прологарифмируем функцию правдоподобия:\n",
        "\n",
        "$LL(\\overrightarrow{X};\\theta)= \\sum_{i=1}^{n}X_{i}\\cdot \\ln(\\lambda)-\\ln(\\prod_{i=1}^{n}X_{i}!)-n\\cdot \\lambda$\n",
        "\n",
        "Найдем частную производную по параметру $\\lambda$ и приравняем производную к нулю и тем самым найдем наш параметр:\n",
        "\n",
        "$\\frac{\\partial LL(\\overrightarrow{X};\\theta)}{\\partial \\lambda} = \\frac{\\sum_{i=1}^{n}X_{i}}{\\lambda}-n=0\\to \\frac{\\sum_{i=1}^{n}X_{i}}{\\lambda}=n\\to \\lambda=\\frac{1}{n}\\cdot \\sum_{i=1}^{n}X_{i}\\to \\widehat{\\theta}=\\widehat{\\lambda}=\\overline{X}$.\n",
        "\n",
        "Выборка нам известна, и мы можем посчитать, чему равен параметр:$\\widehat{\\lambda}=\\overline{X}=1$\n",
        "\n",
        "\n",
        "Построим по ОММ.\n",
        "Для закона Пуассона $P_{\\lambda}(X=k)=\\frac{\\lambda^{k}}{k!}\\cdot exp(-\\lambda)$\n",
        "\n",
        "нам известно, что первый момент $\\mathbb{E}X_{1}=\\lambda;M_{1}=\\overline{X}$\n",
        "равен нашему параметру, и поскольку у нас 1-но мерный параметр, то у нас будет система из одного уравнения.\n",
        "\n",
        "Тогда мы получим $\\widetilde{\\theta}=\\widetilde{\\lambda}=\\overline{X}=1$\n",
        "\n",
        "\n",
        "Осталось найти смещение оценки.\n",
        "\n",
        "Для нахождения НРМД-оценки нам понадобится ОМП, которое мы нашли.\n",
        "\n",
        "$g\\left(T(\\overrightarrow{X})\\right)=\\lambda^{\\sum_{i=1}^{n}X_{i}}\\cdot exp(-n\\cdot \\lambda)$\n",
        "\n",
        "$h(\\overrightarrow{X})=\\frac{1}{\\prod_{i=1}^{n}X_{i}!}$\n",
        "\n",
        "Достаточная минимальная статистика: $T=\\sum_{i=1}^{n}X_{i}=50$.\n",
        "\n",
        "Распределение Пуассона принадлежит экспоненциальному семейству распределения, следовательно, МДС будет являться ПДС.\n",
        "\n",
        "$\\mathbb{E}_{\\lambda}\\overline{X}=\\mathbb{E}_{\\lambda}\\frac{1}{n}\\cdot \\sum_{i=1}^{n}x_{i}=\\frac{1}{n}\\cdot \\mathbb{E_{\\lambda}}\\sum_{i=1}^{n}x_{i}=\\frac{1}{n}\\cdot \\sum_{i=1}^{n}\\mathbb{E_{\\lambda}}X_{1}=\\frac{1}{n}\\cdot n\\cdot \\mathbb{E}_{\\lambda}X_{1}=\\lambda=1$-НРМД-оценка"
      ],
      "metadata": {
        "id": "Qt3oFzjjJfXn"
      }
    },
    {
      "cell_type": "markdown",
      "source": [
        "#### d)Построить А.Д.И. уровня значимости $\\alpha_1$ для параметра $\\lambda$ на базе ОМП\n",
        "1. Построим на базе ОМП.\n",
        "\n",
        "$\\sqrt{n}\\left( \\widehat{\\theta}(\\overrightarrow{X})-\\theta \\right)\\sim N\\left( 0, \\frac{1}{I(\\theta)} \\right)$\n",
        "\n",
        "ОМП $\\widehat{\\theta}=\\widehat{\\lambda}=\\overline{X}$\n",
        "\n",
        "Найдем информацию Фишера: $I(\\theta)=-\\mathbb{E}\\left( \\frac{\\partial^{2} LL}{\\partial \\lambda^{2}} \\right)=-\\mathbb{E}\\left( -\\frac{\\sum_{i=1}^{n}X_{i}}{\\lambda^{2}} \\right)=\\frac{n}{\\lambda^{2}}$\n",
        "\n",
        "Тогда $\\sqrt{n\\cdot I\\left(  \\widehat{\\theta}(\\overrightarrow{X})\\right)}\\left( \\widehat{\\theta}(\\overrightarrow{X})-\\theta \\right)\\sim N(0,1)$\n",
        "\n",
        "Выбираем $X_{\\alpha}$: $\\mathrm{Ф}(X_{\\alpha})=1-\\frac{\\alpha_{1}}{2}=1-\\frac{0.02}{2}=0.99 \\to X_{0.99}=2.33$\n",
        "\n",
        "$А.Д.И. \\left[ \\overline{X}-\\frac{X_{0.99}}{\\sqrt{50\\cdot \\frac{50}{\\overline{X}}}}; \\overline{X}+\\frac{X_{0.99}}{\\sqrt{50\\cdot \\frac{50}{\\overline{X}}}}\\right] \\to 1-\\frac{2.33}{50}\\le \\lambda\\le 1+\\frac{2.33}{50}$\n",
        "\n",
        "$0,953\\le \\lambda\\le 1.047$ - Асимп. довер. интервал параметра $\\lambda$.\n",
        "\n",
        "2. Построим на безе асимтотической нормальной оценки $\\widehat{\\theta}$\n",
        "\n",
        "$\\sqrt{n}\\left( \\widehat{\\theta}(\\overrightarrow{X})-\\theta \\right)\\sim N(0,\\sigma^{2}(\\theta))$\n",
        "\n",
        "$\\sqrt{n}\\frac{ \\widehat{\\theta}(\\overrightarrow{X})-\\theta}{\\sigma(\\widehat{\\theta})}\\sim N(0,1)$\n",
        "\n",
        "$X_{\\alpha}: \\mathrm{Ф(X_{\\alpha})}=0.99\\to X_{0.99}=2.33$\n",
        "\n",
        "$-X_{0.99}\\le \\sqrt{n}\\cdot \\frac{\\widehat{\\lambda}-\\lambda}{\\sqrt{\\widehat{\\lambda}}}\\le X_{0.99}$\n",
        "\n",
        "$1-\\frac{2.33\\cdot 1}{\\sqrt{50}}\\le \\lambda\\le 1+\\frac{2.33\\cdot 1}{\\sqrt{50}}\\to 0.67\\le \\lambda\\le 1.329$ - А.Д.И. параметра $\\lambda$"
      ],
      "metadata": {
        "id": "FyUqDbBYWYYL"
      }
    },
    {
      "cell_type": "markdown",
      "source": [
        "#### e)Используя гистограмму частот, построить критерий значимости $\\mathcal{X^{2}}$ проверки простой гипотезы согласия с распределением Пуассона с параметром $\\lambda_{0}$. Проверить гипотезу на урокень значимости $\\alpha_{1}$. Вычислить наибольшее значение уровня значимости, на котором ещё нет оснований отвергнуть данную гипотезу.\n",
        "\n",
        "$P_{i}=P_{H_{0}}=(X\\in I_{i})=\\sum_{k\\in I_{i}}^{}\\frac{\\lambda_{0}^{k}}{k!}exp(-\\lambda_{0})$\n",
        "\n",
        "$I_{1}=\\left[ 0,1 \\right], n_{1}=38$\n",
        "\n",
        "$P_{1}=\\frac{1^{0}}{0!}exp(-1)+\\frac{1^{1}}{1!}exp(-1)=0.736\\to nP_{1}=36.788$\n",
        "\n",
        "$I_{2}=\\left[ 2 \\right], n_{2}=5$\n",
        "\n",
        "$P_{2}=\\frac{1^{2}}{2!}exp(-1)=0.183\\to nP_{2}=9.197$\n",
        "\n",
        "$I_{3}=\\left[ 3,4 \\right], n_{3}=5$\n",
        "\n",
        "$P_{3}=\\frac{1^{3}}{3!}exp(-1)+\\frac{1^{4}}{4!}exp(-1)=0.077\\to nP_{3}=3.832$\n",
        "\n",
        "$I_{4}=\\left[ 5,6 \\right], n_{4}=2$\n",
        "\n",
        "$P_{4}=\\frac{1^{5}}{5!}exp(-1)+\\frac{1^{6}}{6!}exp(-1)=0.004\\to nP_{4}=0.179$\n",
        "\n",
        "Критерий $\\mathcal{X}^{2}: \\mathcal{X}^{2}_{набл}=\\sum_{i=1}^{4}\\frac{(n_{i}-np_{i})^{2}}{np_{i}} =20.84$\n",
        "\n",
        "$\\mathcal{X}^{2}_{N-1,1-\\alpha_{1}}=\\mathcal{X}^{2}_{3,0.98}\\simeq 9.4$\n",
        "\n",
        "$\\mathcal{X}^{2}\\gt \\mathcal{X}^{2}_{3,0.98}\\to$ по критерию Пирсона мы отвергаем гипотезу\n",
        "\n",
        "Наибольшее значение уровня значимости, при котором нет еще оснований отвергнуть данную гипотезу $\\simeq$ 0.01"
      ],
      "metadata": {
        "id": "3noN0hiiWsqi"
      }
    },
    {
      "cell_type": "markdown",
      "source": [
        "#### f)Построить критерий значимости  $\\mathcal{X^{2}}$ проверки сложной гипотезы согласия с распределением Пуассона. Проверить гипотезу по уровню значимости $\\alpha_{1}$.Вычислить наибольшее значение уровня значимости, на котором ещё нет оснований отвергнуть данную гипотезу.\n",
        "\n",
        "$P_{i}=P_{H_{0}}=(X\\in I_{i})=\\sum_{k\\in I_{i}}^{}\\frac{\\overline{X}^{k}}{k!}exp(-\\overline{X})$\n",
        "\n",
        "$I_{1}=\\left[ 0,1 \\right], n_{1}=38$\n",
        "\n",
        "$P_{1}=\\frac{1^{0}}{0!}exp(-1)+\\frac{1^{1}}{1!}exp(-1)=0.736\\to nP_{1}=36.788$\n",
        "\n",
        "$I_{2}=\\left[ 2 \\right], n_{2}=5$\n",
        "\n",
        "$P_{2}=\\frac{1^{2}}{2!}exp(-1)=0.183\\to nP_{2}=9.197$\n",
        "\n",
        "$I_{3}=\\left[ 3,4 \\right], n_{3}=5$\n",
        "\n",
        "$P_{3}=\\frac{1^{3}}{3!}exp(-1)+\\frac{1^{4}}{4!}exp(-1)=0.077\\to nP_{3}=3.832$\n",
        "\n",
        "$I_{4}=\\left[ 5,6 \\right], n_{4}=2$\n",
        "\n",
        "$P_{4}=\\frac{1^{5}}{5!}exp(-1)+\\frac{1^{6}}{6!}exp(-1)=0.004\\to nP_{4}=0.179$\n",
        "\n",
        "Критерий $\\mathcal{X}^{2}: \\mathcal{X}^{2}_{набл}=\\sum_{i=1}^{4}\\frac{(n_{i}-np_{i})^{2}}{np_{i}} =20.84$\n",
        "\n",
        "$\\mathcal{X}^{2}_{N-1,1-\\alpha_{1}}=\\mathcal{X}^{2}_{3,0.98}\\simeq 9.4$\n",
        "\n",
        "$\\mathcal{X}^{2}\\gt \\mathcal{X}^{2}_{3,0.98}\\to$ по критерию Пирсона мы отвергаем гипотезу\n",
        "\n",
        "Наибольшее значение уровня значимости, при котором нет еще оснований отвергнуть данную гипотезу $\\simeq$ 0.01"
      ],
      "metadata": {
        "id": "VGtzcCuPe6lw"
      }
    },
    {
      "cell_type": "markdown",
      "source": [
        "#### g)Построить наиболее мощный критерий проверки простой гипотезы пауссоновости с параметром $\\lambda=\\lambda_{0}$ при альтернативе пуассоновсти с параметром $\\lambda=\\lambda_{1}$. Проверить гипотезу на уровне значимости $\\alpha_{1}$. Что получится, если поменять местами основную и альтернативную гипотезы?\n",
        "\n",
        "Основная гипотеза: $H_{0}=\\lambda_{0}$\n",
        "\n",
        "Альтернативная гипотеза: $H_{A}=\\lambda_{1}$\n",
        "\n",
        "Воспользуемся статистическим отношением правдоподобия:\n",
        "\n",
        "$LR(\\overrightarrow{X},\\lambda_{1},\\lambda_{0}) = \\frac{L\\left( \\overrightarrow{X},\\lambda_{1} \\right)}{L\\left( \\overrightarrow{X},\\lambda_{0} \\right)}= \\frac{\\lambda_{1}^{\\sum_{i=1}^{50}X_{i}}\\cdot exp(-n\\cdot \\lambda_{1})}{\\lambda_{0}^{\\sum_{i=1}^{50}X_{i}}\\cdot exp(-n\\cdot \\lambda_{0})}$\n",
        "\n",
        "В силу монотонности статистики $LR(\\overrightarrow{X})$ относительно МДС $T(\\overrightarrow{X})=\\sum_{i=1}^{50}X_{i}$\n",
        "\n",
        "$LR(\\overrightarrow{X},\\lambda_{0},\\lambda_{1})\\gt c\\Leftrightarrow \\overline{X}\\gt c$\n",
        "\n",
        "$\\sqrt{n}\\frac{\\overline{X}-\\lambda_{0}}{\\sqrt{\\overline{X}}}\\sim N(0,1)$\n",
        "\n",
        "$P\\left(\\sqrt{n}\\frac{\\overline{X}-\\lambda_{0}}{\\sqrt{\\overline{X}}} \\right)\\gt \\sqrt{n}\\frac{\\overline{X}-\\lambda_{0}}{\\sqrt{\\overline{X}}}=1-\\Phi\\left(\\sqrt{n}\\frac{\\overline{X}-\\lambda_{0}}{\\sqrt{\\overline{X}}} \\right)=\\alpha_{1}$\n",
        "\n",
        "$\\Phi\\left(\\sqrt{n}\\frac{\\overline{X}-\\lambda_{0}}{\\sqrt{\\overline{X}}} \\right)=1-\\alpha_{1}=0.98$\n",
        "\n",
        "$\\sqrt{n}\\frac{\\overline{X}-\\lambda_{0}}{\\sqrt{\\overline{X}}}\\gt \\sqrt{n}\\frac{c-\\lambda_{0}}{\\sqrt{\\overline{X}}}=2.06\\to c=1.29\\gt \\overline{X}\\to$ гипотезу отвергаем\n",
        "\n",
        "Поменяем теперь основную и альтернативную гипотезу местами:\n",
        "\n",
        "Основная гипотеза: $H_{0}=\\lambda_{1}$\n",
        "\n",
        "Альтернативная гипотеза: $H_{A}=\\lambda_{0}$\n",
        "\n",
        "Воспользуемся статистическим отношением правдоподобия:\n",
        "\n",
        "$LR(\\overrightarrow{X},\\lambda_{0},\\lambda_{1}) = \\frac{L\\left( \\overrightarrow{X},\\lambda_{0} \\right)}{L\\left( \\overrightarrow{X},\\lambda_{1} \\right)}= \\frac{\\lambda_{0}^{\\sum_{i=1}^{50}X_{i}}\\cdot exp(-n\\cdot \\lambda_{0})}{\\lambda_{1}^{\\sum_{i=1}^{50}X_{i}}\\cdot exp(-n\\cdot \\lambda_{1})}$\n",
        "\n",
        "В силу монотонности статистики $LR(\\overrightarrow{X})$ относительно МДС $T(\\overrightarrow{X})=\\sum_{i=1}^{50}X_{i}$\n",
        "\n",
        "$LR(\\overrightarrow{X},\\lambda_{0},\\lambda_{1})\\gt c\\Leftrightarrow \\overline{X}\\gt c$\n",
        "\n",
        "$\\sqrt{n}\\frac{\\overline{X}-\\lambda_{1}}{\\sqrt{\\overline{X}}}\\sim N(0,1)$\n",
        "\n",
        "$P\\left(\\sqrt{n}\\frac{\\overline{X}-\\lambda_{1}}{\\sqrt{\\overline{X}}} \\right)\\gt \\sqrt{n}\\frac{\\overline{X}-\\lambda_{1}}{\\sqrt{\\overline{X}}}=1-\\Phi\\left(\\sqrt{n}\\frac{\\overline{X}-\\lambda_{1}}{\\sqrt{\\overline{X}}} \\right)=\\alpha_{1}$\n",
        "\n",
        "$\\Phi\\left(\\sqrt{n}\\frac{\\overline{X}-\\lambda_{1}}{\\sqrt{\\overline{X}}} \\right)=1-\\alpha_{1}=0.98$\n",
        "\n",
        "$\\sqrt{n}\\frac{\\overline{X}-\\lambda_{1}}{\\sqrt{\\overline{X}}}\\gt \\sqrt{n}\\frac{c-\\lambda_{1}}{\\sqrt{\\overline{X}}}=2.06\\to c=4.29\\gt \\overline{X}\\to$ гипотезу отвергаем\n"
      ],
      "metadata": {
        "id": "aPuxOjR5KPnE"
      }
    },
    {
      "cell_type": "markdown",
      "source": [
        "#### h)В пунктах (c)-(f) заменить семейство распределение Пуассона на семейство геометрических распредленией $\\mathbb{P}_{\\lambda}(X=k)=\\frac{\\lambda^{k}}{(\\lambda+1)^{k+1}}, k\\in \\mathbb{Z_{+}}$"
      ],
      "metadata": {
        "id": "RIpL4fkwbRvM"
      }
    },
    {
      "cell_type": "markdown",
      "source": [
        "#### h.c)В предположении, что исходные наблюдения являются выборкой из геометрического распределения, построить ОМП и ОММ параметра $\\lambda$.Найти смещение оценки.\n",
        "\n",
        "Построим ОМП.\n",
        "Плотность распределения Пуассона: $P_{\\lambda}(X=k)=\\frac{\\lambda^{k}}{(\\lambda+1)^{k+1}}$\n",
        "\n",
        "Построим функцию правдоподобия:\n",
        "\n",
        "$L(\\overrightarrow{X};\\theta)=\\prod_{i=1}^{n}P_{\\lambda}(X_{i})=\\prod_{i=1}^{n}\\frac{\\lambda^{X_{i}}}{(\\lambda+1)^{X_{i}}}=\\frac{\\lambda^{\\sum_{i=1}^{n}X_{i}}}{(\\lambda+1)^{\\sum_{i=1}^{n}X_{i}+n}}$\n",
        "\n",
        "Прологарифмируем функцию правдоподобия:\n",
        "\n",
        "$LL(\\overrightarrow{X};\\theta)= \\sum_{i=1}^{n}X_{i}\\cdot \\ln(\\lambda)-(\\sum_{i=1}^{n}X_{i}+n)\\ln(\\lambda+1)$\n",
        "\n",
        "Найдем частную производную по параметру $\\lambda$ и приравняем производную к нулю и тем самым найдем наш параметр:\n",
        "\n",
        "$\\frac{\\partial LL(\\overrightarrow{X};\\theta)}{\\partial \\lambda} = \\frac{\\sum_{i=1}^{n}X_{i}}{\\lambda}-\\frac{\\sum_{i=1}^{50}X_{i}+n}{\\lambda+1}=0\\to \\frac{\\lambda}{\\sum_{i=1}^{50}X_{i}}=\\frac{\\lambda+1}{\\sum_{i=1}^{50}X_{i}+n}\\to \\lambda\\cdot \\sum_{i=1}^{n}X_{i}+\\lambda \\cdot n = \\lambda\\cdot \\sum_{i=1}^{n}X_{i}+\\sum_{i=1}^{n}X_{i}\\to \\lambda=\\overline{X}\\to \\widehat{\\theta}=\\widehat{\\lambda}=\\overline{X}=1$.\n",
        "\n",
        "\n",
        "\n",
        "Построим по ОММ.\n",
        "Для геометрического распределения  $P_{\\lambda}(X=k)=\\frac{\\lambda^{k}}{(\\lambda +1)^{k+1}}$\n",
        "\n",
        "нам известно, что первый момент $\\mathbb{E}X_{1}=\\frac{1}{\\lambda};M_{1}=\\frac{1}{\\overline{X}}$\n",
        "равен 1 делить на параметр, и поскольку у нас 1-но мерный параметр, то у нас будет система из одного уравнения.\n",
        "\n",
        "Тогда мы получим $\\widetilde{\\theta}=\\widetilde{\\lambda}=\\frac{1}{\\overline{X}}=1$\n",
        "\n",
        "\n",
        "Осталось найти смещение оценки.\n",
        "\n",
        "Для нахождения НРМД-оценки нам понадобится ОМП, которое мы нашли.\n",
        "\n",
        "$g\\left(T(\\overrightarrow{X})\\right)=\\frac{\\lambda^{\\sum_{i=1}^{n}X_{i}}}{(\\lambda+1)^{\\sum_{i=1}^{n}X_{i}+n}}$\n",
        "\n",
        "$h(\\overrightarrow{X})=1$\n",
        "\n",
        "Достаточная минимальная статистика: $T=\\sum_{i=1}^{n}X_{i}=50$.\n",
        "\n",
        "\n",
        "$\\mathbb{E}_{\\lambda}\\widehat{\\lambda}=\\mathbb{E}_{\\lambda}\\overline{X}=\\mathbb{E}_{\\lambda}\\frac{1}{n}\\cdot \\sum_{i=1}^{n}x_{i}=\\frac{1}{n}\\cdot \\mathbb{E_{\\lambda}}\\sum_{i=1}^{n}x_{i}=\\frac{1}{n}\\cdot \\sum_{i=1}^{n}\\mathbb{E_{\\lambda}}X_{1}=\\frac{1}{n}\\cdot n\\cdot \\mathbb{E}_{\\lambda}X_{1}=\\lambda=1$-НРМД-оценка"
      ],
      "metadata": {
        "id": "jYocGnu_b8lS"
      }
    },
    {
      "cell_type": "markdown",
      "source": [
        "#### h.d)Построить А.Д.И. уровня значимости $\\alpha_1$ для параметра $\\lambda$ на базе ОМП\n",
        "1. Построим на базе ОМП.\n",
        "\n",
        "$\\sqrt{n}\\left( \\widehat{\\theta}(\\overrightarrow{X})-\\theta \\right)\\sim N\\left( 0, \\frac{1}{I(\\theta)} \\right)$\n",
        "\n",
        "ОМП $\\widehat{\\theta}=\\widehat{\\lambda}=\\frac{1}{\\overline{X}}$\n",
        "\n",
        "Найдем информацию Фишера: $I(\\theta)=-\\mathbb{E}\\left( \\frac{\\partial^{2} LL}{\\partial \\lambda^{2}} \\right)=-\\mathbb{E}\\left( -\\frac{\\sum_{i=1}^{n}X_{i}}{\\lambda^{2}}+\\frac{\\sum_{i=1}^{n}X_{i}+n}{(\\lambda +1)^{2}} \\right)=\\frac{n}{\\lambda^{2}}-\\mathbb{E}\\left( \\frac{\\sum_{i=1}^{n}X_{i}+n}{(\\lambda+1)^{2}} \\right) = \\frac{n}{\\lambda^{2}}-\\mathbb{E}\\left( \\frac{\\sum_{i=1}^{n}X_{i}}{(\\lambda+1)^{2}} \\right)-\\mathbb{E}\\left( \\frac{n}{(\\lambda+1)^{2}} \\right)=\\frac{n}{\\lambda^{2}}-\\frac{n}{(\\lambda+1)^{2}}-\\frac{n}{(\\lambda+1)^{2}}=\\frac{n(\\lambda^{2}+1)}{(\\lambda+1)^{2}\\cdot \\lambda^{2}}$\n",
        "\n",
        "Тогда $\\sqrt{n\\cdot I\\left(  \\widehat{\\theta}(\\overrightarrow{X})\\right)}\\left( \\widehat{\\theta}(\\overrightarrow{X})-\\theta \\right)\\sim N(0,1)$\n",
        "\n",
        "Выбираем $X_{\\alpha}$: $\\mathrm{Ф}(X_{\\alpha})=1-\\frac{\\alpha_{1}}{2}=1-\\frac{0.02}{2}=0.99 \\to X_{0.99}=2.33$\n",
        "\n",
        "$А.Д.И. \\left[ \\frac{1}{\\overline{X}}-\\frac{X_{0.99}}{\\sqrt{n\\cdot \\frac{n(\\widehat{\\lambda^{2}}+1)}{(\\widehat{\\lambda}+1)^{2}\\cdot \\widehat{\\lambda^{2}}}}};\\frac{1}{\\overline{X}}+\\frac{X_{0.99}}{\\sqrt{n\\cdot \\frac{n(\\widehat{\\lambda^{2}}+1)}{(\\widehat{\\lambda}+1)^{2}\\cdot \\widehat{\\lambda^{2}}}}} \\right]\\to 0.934\\le \\lambda\\le 1.066$\n",
        "\n",
        "$0.934\\le \\lambda\\le 1.066$ - Асимп. довер. интервал параметра $\\lambda$.\n",
        "\n",
        "2. Построим на безе асимтотической нормальной оценки $\\widehat{\\theta}$\n",
        "\n",
        "$\\sqrt{n}\\left( \\widehat{\\theta}(\\overrightarrow{X})-\\theta \\right)\\sim N(0,\\sigma^{2}(\\theta))$\n",
        "\n",
        "$\\sqrt{n}\\frac{ \\widehat{\\theta}(\\overrightarrow{X})-\\theta}{\\sigma(\\widehat{\\theta})}\\sim N(0,1)$\n",
        "\n",
        "$X_{\\alpha}: \\mathrm{Ф(X_{\\alpha})}=0.99\\to X_{0.99}=2.33$\n",
        "\n",
        "$-X_{0.99}\\le \\sqrt{n}\\cdot \\frac{\\widehat{\\lambda}-\\lambda}{\\sqrt{\\widehat{\\lambda}(\\widehat{\\lambda}+1)}}\\le X_{0.99}$\n",
        "\n",
        "$1-\\frac{2.33\\cdot 1.41}{\\sqrt{50}}\\le \\lambda\\le 1+\\frac{2.33\\cdot 1.41}{\\sqrt{50}}\\to 0.535\\le \\lambda\\le 1.465$ - А.Д.И. параметра $\\lambda$"
      ],
      "metadata": {
        "id": "thiyFmFFjD2I"
      }
    },
    {
      "cell_type": "markdown",
      "source": [
        "#### h.e)Используя гистограмму частот, построить критерий значимости $\\mathcal{X^{2}}$ проверки простой гипотезы согласия с геометрическим распределением с параметром $\\lambda_{0}$. Проверить гипотезу на урокень значимости $\\alpha_{1}$. Вычислить наибольшее значение уровня значимости, на котором ещё нет оснований отвергнуть данную гипотезу.\n",
        "\n",
        "$P_{i}=P_{H_{0}}=(X\\in I_{i})=\\sum_{k\\in I_{i}}^{}\\frac{\\lambda_{0}^{k}}{(\\lambda_{0}+1)^{k+1}}$\n",
        "\n",
        "$I_{1}=\\left[ 0,1 \\right], n_{1}=38$\n",
        "\n",
        "$P_{1}=\\frac{1^{0}}{(1+1)^{0+1}}+\\frac{1^{1}}{(1+1)^{1+1}}=1.25\\to nP_{1}=62.5$\n",
        "\n",
        "$I_{2}=\\left[ 2 \\right], n_{2}=5$\n",
        "\n",
        "$P_{2}=\\frac{1^{2}}{(1+1)^{2+1}}=0.125\\to nP_{2}=6.25$\n",
        "\n",
        "$I_{3}=\\left[ 3,4 \\right], n_{3}=5$\n",
        "\n",
        "$P_{3}=\\frac{1^{3}}{(1+1)^{3+1}}+\\frac{1^{4}}{(1+1)^{4+1}}=0.094\\to nP_{3}=4.69$\n",
        "\n",
        "$I_{4}=\\left[ 5,6 \\right], n_{4}=2$\n",
        "\n",
        "$P_{4}=\\frac{1^{5}}{(1+1)^{5+1}}+\\frac{1^{6}}{(1+1)^{6+1}}=0.023\\to nP_{4}=1.17$\n",
        "\n",
        "Критерий $\\mathcal{X}^{2}: \\mathcal{X}^{2}_{набл}=\\sum_{i=1}^{4}\\frac{(n_{i}-np_{i})^{2}}{np_{1}} =10.46$\n",
        "\n",
        "$\\mathcal{X}^{2}_{N-1,\\alpha_{1}}=\\mathcal{X}^{2}_{3,0.02}\\simeq 9.4$\n",
        "\n",
        "$\\mathcal{X}^{2}\\gt \\mathcal{X}^{2}_{3,0.02}\\to$ по критерию Пирсона мы отвергаем гипотезу\n",
        "\n",
        "Наибольшее значение уровня значимости, при котором нет еще оснований отвергнуть данную гипотезу $\\simeq$ 0.01"
      ],
      "metadata": {
        "id": "dZrG9ltptGMs"
      }
    },
    {
      "cell_type": "markdown",
      "source": [
        "#### h.f)Построить критерий значимости  $\\mathcal{X^{2}}$ проверки сложной гипотезы согласия с геометрическим распределением. Проверить гипотезу по уровню значимости $\\alpha_{1}$.Вычислить наибольшее значение уровня значимости, на котором ещё нет оснований отвергнуть данную гипотезу.\n",
        "\n",
        "$P_{i}=P_{H_{0}}=(X\\in I_{i})=\\sum_{k\\in I_{i}}^{}\\frac{\\frac{1}{\\overline{X}^{k}}}{\\left( \\frac{1}{\\overline{X}} +1\\right)^{k+1}}$\n",
        "\n",
        "$I_{1}=\\left[ 0,1 \\right], n_{1}=38$\n",
        "\n",
        "$P_{1}=\\frac{1^{0}}{(1+1)^{0+1}}+\\frac{1^{1}}{(1+1)^{1+1}}=1.25\\to nP_{1}=62.5$\n",
        "\n",
        "$I_{2}=\\left[ 2 \\right], n_{2}=5$\n",
        "\n",
        "$P_{2}=\\frac{1^{2}}{(1+1)^{2+1}}=0.125\\to nP_{2}=6.25$\n",
        "\n",
        "$I_{3}=\\left[ 3,4 \\right], n_{3}=5$\n",
        "\n",
        "$P_{3}=\\frac{1^{3}}{(1+1)^{3+1}}+\\frac{1^{4}}{(1+1)^{4+1}}=0.094\\to nP_{3}=4.69$\n",
        "\n",
        "$I_{4}=\\left[ 5,6 \\right], n_{4}=2$\n",
        "\n",
        "$P_{4}=\\frac{1^{5}}{(1+1)^{5+1}}+\\frac{1^{6}}{(1+1)^{6+1}}=0.023\\to nP_{4}=1.17$\n",
        "\n",
        "Критерий $\\mathcal{X}^{2}: \\mathcal{X}^{2}_{набл}=\\sum_{i=1}^{4}\\frac{(n_{i}-np_{i})^{2}}{np_{i}} =10.46$\n",
        "\n",
        "$\\mathcal{X}^{2}_{N-1,\\alpha_{1}}=\\mathcal{X}^{2}_{3,0.02}\\simeq 9.4$\n",
        "\n",
        "$\\mathcal{X}^{2}\\gt \\mathcal{X}^{2}_{3,0.02}\\to$ по критерию Пирсона мы отвергаем гипотезу\n",
        "\n",
        "Наибольшее значение уровня значимости, при котором нет еще оснований отвергнуть данную гипотезу $\\simeq$ 0.01"
      ],
      "metadata": {
        "id": "hcEIyMkuxAR4"
      }
    },
    {
      "cell_type": "markdown",
      "source": [
        "### Задание-2"
      ],
      "metadata": {
        "id": "OMnpHk2fyi-a"
      }
    },
    {
      "cell_type": "markdown",
      "source": [
        "#### a)Построить вариционный ряд, эмпирическую функцию распределения,гистограмму и полигон частот с шагом h."
      ],
      "metadata": {
        "id": "VbmN05n61mEq"
      }
    },
    {
      "cell_type": "code",
      "source": [
        "data_1 = [1.34, 0.01, 11.89, 2.14, 2.32, 4.06, 10.98, 2.16, 3.22, 1.06, 0.99, 0.66, 6.18, 2.41, 0, 0.65, 1.82, 1.76, 0.22, 0.16, 0.03, 0.24, 1.83, 0.01, 1.34, 7.09, 0.14, 2.26, 1.68, 0.13, 29.55, 4.79, 13.68, 5.64, 0.12, 1.48, 3.2, 3.13, 0.83, 2.06, 1.08, 2.04, 14.72, 13.34, 4.38, 0.1, 0.81, 6.33, 2.86, 6.97] #выборка\n",
        "sorted_data_1 = np.sort(data_1)\n",
        "summ=np.sum(data_1)\n",
        "variation_range_1 = np.unique(sorted_data_1)\n",
        "print(sorted_data_1)\n",
        "print(summ)\n",
        "# Нанесение на график вариационного ряда\n",
        "plt.subplot(311)\n",
        "plt.plot(range(len(sorted_data_1)), sorted_data_1, marker='o', linestyle='-', color='b')\n",
        "plt.xlabel('Наблюдения')\n",
        "plt.ylabel('Значения')\n",
        "plt.title('Вариационный ряд')\n",
        "plt.show()"
      ],
      "metadata": {
        "colab": {
          "base_uri": "https://localhost:8080/",
          "height": 367
        },
        "id": "9CBjjWHPy0we",
        "outputId": "48862946-3cbd-49ca-ada9-3b9ba5e21afe"
      },
      "execution_count": null,
      "outputs": [
        {
          "output_type": "stream",
          "name": "stdout",
          "text": [
            "[0.000e+00 1.000e-02 1.000e-02 3.000e-02 1.000e-01 1.200e-01 1.300e-01\n",
            " 1.400e-01 1.600e-01 2.200e-01 2.400e-01 6.500e-01 6.600e-01 8.100e-01\n",
            " 8.300e-01 9.900e-01 1.060e+00 1.080e+00 1.340e+00 1.340e+00 1.480e+00\n",
            " 1.680e+00 1.760e+00 1.820e+00 1.830e+00 2.040e+00 2.060e+00 2.140e+00\n",
            " 2.160e+00 2.260e+00 2.320e+00 2.410e+00 2.860e+00 3.130e+00 3.200e+00\n",
            " 3.220e+00 4.060e+00 4.380e+00 4.790e+00 5.640e+00 6.180e+00 6.330e+00\n",
            " 6.970e+00 7.090e+00 1.098e+01 1.189e+01 1.334e+01 1.368e+01 1.472e+01\n",
            " 2.955e+01]\n",
            "185.89000000000001\n"
          ]
        },
        {
          "output_type": "display_data",
          "data": {
            "text/plain": [
              "<Figure size 640x480 with 1 Axes>"
            ],
            "image/png": "[encoded data removed]"
          },
          "metadata": {}
        }
      ]
    },
    {
      "cell_type": "code",
      "source": [
        "empirical_function = np.arange(1, n + 1) / n\n",
        "plt.subplot(312)\n",
        "# Добавим нулевое значение в начало\n",
        "x = np.concatenate(([sorted_data_1[0]], sorted_data_1))\n",
        "y = np.concatenate(([0], empirical_function))\n",
        "\n",
        "# Построим эмпирическую функцию\n",
        "plt.step(x, y, where='post')\n",
        "plt.xlabel('Значение')\n",
        "plt.ylabel('Вероятность')\n",
        "plt.title('Эмпирическая функция')\n",
        "plt.show()"
      ],
      "metadata": {
        "colab": {
          "base_uri": "https://localhost:8080/",
          "height": 211
        },
        "id": "NFbSKTiy1hkZ",
        "outputId": "ab28d07b-33a0-492b-acb4-e1ea9c294330"
      },
      "execution_count": null,
      "outputs": [
        {
          "output_type": "display_data",
          "data": {
            "text/plain": [
              "<Figure size 640x480 with 1 Axes>"
            ],
            "image/png": "[encoded data removed]"
          },
          "metadata": {}
        }
      ]
    },
    {
      "cell_type": "code",
      "source": [
        "h=1.9\n",
        "bins = np.arange(min(data_1), max(data_1) + h, h)\n",
        "plt.hist(data_1, bins=bins, edgecolor='black', alpha=0.5, label='Гистограмма')\n",
        "plt.title(\"Гистограмма и полигон частот\")\n",
        "plt.xlabel(\"Интервалы\")\n",
        "plt.ylabel(\"Частота\")\n",
        "\n",
        "hist, _ = np.histogram(data_1, bins=bins)\n",
        "bin_centers = 0.5 * (bins[1:] + bins[:-1])\n",
        "plt.plot(bin_centers, hist, color='red', marker='o', linestyle='-', label='Полигон')\n",
        "\n",
        "plt.legend()\n",
        "plt.show()"
      ],
      "metadata": {
        "colab": {
          "base_uri": "https://localhost:8080/",
          "height": 472
        },
        "id": "fuhc7FHO2j05",
        "outputId": "36f6c26e-ce73-4b21-c35b-dd2ca957efa1"
      },
      "execution_count": null,
      "outputs": [
        {
          "output_type": "display_data",
          "data": {
            "text/plain": [
              "<Figure size 640x480 with 1 Axes>"
            ],
            "image/png": "[encoded data removed]"
          },
          "metadata": {}
        }
      ]
    },
    {
      "cell_type": "markdown",
      "source": [
        "#### b) Вычислить выборочные аналоги следующих числовых характеристик: (i)математическое ожидание, (ii)дисперсия, (iii)медианы, (iv)асимметрии, (v)эксцесса (vi) вероятности $\\mathrm{P}(X\\in \\left[ a,b \\right])$"
      ],
      "metadata": {
        "id": "RyBb32GD22wp"
      }
    },
    {
      "cell_type": "code",
      "source": [
        "c = 1.52\n",
        "d = 4.49\n",
        "mean = np.mean(data_1)  # Выборочное математическое ожидание\n",
        "variance = np.var(data_1)  # Дисперсия\n",
        "deviation=np.std(data_1) #СКО\n",
        "median = np.median(data_1)  # Медиана\n",
        "skewness = stats.skew(data_1)  # Асимметрия\n",
        "kurtosis = stats.kurtosis(data_1)  # Эксцесс\n",
        "probability = len([x for x in data_1 if c <= x <= d]) / len(data_1)  # Вероятность\n",
        "print(\"Мат.ожидание=\",mean)\n",
        "print(\"Дисперсия=\",variance)\n",
        "print(\"Выборочное стандартное отклонение=\",deviation)\n",
        "print(\"Медиана=\",median)\n",
        "print(\"Асимметрия=\",skewness)\n",
        "print(\"Эксцесс=\",kurtosis)\n",
        "print(\"Вероятность попадания в промежуток=\",probability)"
      ],
      "metadata": {
        "colab": {
          "base_uri": "https://localhost:8080/"
        },
        "id": "ubdrSTdT26la",
        "outputId": "a2aeca9c-4ea2-4591-f742-f7f613d7fce2"
      },
      "execution_count": null,
      "outputs": [
        {
          "output_type": "stream",
          "name": "stdout",
          "text": [
            "Мат.ожидание= 3.7178000000000004\n",
            "Дисперсия= 27.798093159999997\n",
            "Выборочное стандартное отклонение= 5.272389701074836\n",
            "Медиана= 1.935\n",
            "Асимметрия= 2.82686636230619\n",
            "Эксцесс= 9.643013444211036\n",
            "Вероятность попадания в промежуток= 0.34\n"
          ]
        }
      ]
    },
    {
      "cell_type": "markdown",
      "source": [
        "#### c)В предположении, что исходные наблюдения являются выборкой из показательного распределения, построить ОМП и ОММ параметра $\\lambda$.Найти смещение оценки.\n",
        "\n",
        "Построим ОМП.\n",
        "Плотность показательного распределения: $P(X)=\\lambda\\cdot exp(-\\lambda X)$, при условии, что $X\\ge 0$ для данной выборки это событие достоверное и всегда выполняется, так что можем индикатор у плотности распределения не писать\n",
        "\n",
        "Построим функцию правдоподобия:\n",
        "\n",
        "$L(\\overrightarrow{X},\\theta)=\\prod_{i=1}^{n}\\lambda\\cdot exp(-\\lambda\\cdot X_{i})=\\lambda^{n}\\cdot exp(-\\lambda\\cdot \\sum_{i=1}^{n}X_{i})$\n",
        "\n",
        "Прологарифмируем функцию правдоподобия:\n",
        "\n",
        "$LL(\\overrightarrow{X},\\theta)=n\\ln(\\lambda)-\\lambda\\cdot \\sum_{i=1}^{n}X_{i}$\n",
        "\n",
        "Найдем частную производную по параметру $\\lambda$ и приравняем производную к нулю и тем самым найдем наш параметр:\n",
        "\n",
        "$\\frac{\\partial LL}{\\partial \\lambda}=\\frac{n}{\\lambda}-\\sum_{i=1}^{n}X_{i}=0\\to \\lambda=\\frac{n}{\\sum_{i=1}^{n}X_{i}}=\\frac{1}{\\overline{X}}$.\n",
        "\n",
        "Выборка нам известна, и мы можем посчитать, чему равен параметр:$\\widehat{\\lambda}=\\frac{1}{\\overline{X}}=0.269$\n",
        "\n",
        "\n",
        "Построим по ОММ.\n",
        "Для показательного распределения $P(X)=\\lambda\\cdot exp(-\\lambda X)$\n",
        "\n",
        "нам известно, что первый момент $\\mathbb{E}X_{1}=\\frac{1}{\\lambda};M_{1}=\\overline{X}$\n",
        "равен нашему параметру, и поскольку у нас 1-но мерный параметр, то у нас будет система из одного уравнения.\n",
        "\n",
        "Тогда мы получим $\\widetilde{\\theta}=\\widetilde{\\lambda}=\\frac{1}{\\overline{X}}=0.269$\n",
        "\n",
        "\n",
        "Осталось найти смещение оценки.\n",
        "\n",
        "Для нахождения НРМД-оценки нам понадобится ОМП, которое мы нашли.\n",
        "\n",
        "$g\\left(T(\\overrightarrow{X})\\right)=\\lambda\\cdot exp(-\\lambda X)$\n",
        "\n",
        "$h(\\overrightarrow{X})=1$\n",
        "\n",
        "Достаточная минимальная статистика: $T=\\sum_{i=1}^{n}X_{i}=185.89$.\n",
        "\n",
        "Показательное распределение принадлежит экспоненциальному семейству распределения, следовательно, МДС будет являться ПДС.\n",
        "\n",
        "$\\mathbb{E}_{\\lambda}\\frac{1}{\\overline{X}}=\\mathbb{E}_{\\lambda}\\frac{n}{\\sum_{i=1}^{n}x_{i}}=n\\cdot \\mathbb{E_{\\lambda}}\\frac{1}{\\sum_{i=1}^{n}x_{i}}=n\\cdot \\mathbb{E}_{\\lambda}(\\sum_{i=1}^{n}X_{i})^{-1}=n\\cdot \\left(\\frac{1}{\\lambda}\\right)^{-1}\\frac{\\Gamma (-1+n)}{\\Gamma (n)}=n\\cdot \\lambda\\frac{\\Gamma (-1+n)}{\\Gamma(-1+n)\\cdot (n-1)}=\\frac{n\\cdot \\lambda}{n-1}\\to смещенная-оценка$\n",
        "\n",
        "$\\widetilde{\\lambda}=\\widehat{\\lambda}\\frac{n-1}{n}$\n",
        "\n",
        "$\\mathbb{E}_{\\lambda}\\widetilde{\\lambda}=\\mathbb{E}_{\\lambda}\\widehat{\\lambda}\\frac{n-1}{n}=\\frac{n-1}{n}\\mathbb{E}_{\\lambda}\\widehat{\\lambda}=\\frac{n-1}{n}\\cdot \\frac{n\\cdot \\lambda}{n-1}=\\lambda$-НРМД-оценка\n",
        "\n",
        "$X_{i}\\sim Exp(\\lambda) \\to X_{i}\\sim Gamma(1,\\frac{1}{\\lambda})\\Rightarrow \\sum_{i=1}^{n}X_{i}\\sim Gamma(n,\\frac{1}{\\lambda})$\n",
        "\n",
        "Если $X_{i}\\sim Gamma(\\alpha,\\beta)$, где $\\alpha\\gt 0$ и $\\beta\\gt 0$, $\\gamma\\gt -\\alpha$, то $\\mathbb{E}X_{i}^{\\gamma}=\\beta^{\\gamma}\\frac{Г(\\gamma+\\alpha)}{Г(\\alpha)}$"
      ],
      "metadata": {
        "id": "Hs9QJNAT7Hwg"
      }
    },
    {
      "cell_type": "markdown",
      "source": [
        "#### d)Построить А.Д.И. уровня значимости $\\alpha_2$ для параметра $\\lambda$ на базе ОМП\n",
        "1. Построим на базе ОМП.\n",
        "\n",
        "$\\sqrt{n}\\left( \\widehat{\\theta}(\\overrightarrow{X})-\\theta \\right)\\sim N\\left( 0, \\frac{1}{I(\\theta)} \\right)$\n",
        "\n",
        "ОМП $\\widehat{\\theta}=\\widehat{\\lambda}=\\frac{1}{\\overline{X}}$\n",
        "\n",
        "Найдем информацию Фишера: $I(\\theta)=-\\mathbb{E}\\left( \\frac{\\partial^{2} LL}{\\partial \\lambda^{2}} \\right)=-\\mathbb{E}\\left( -\\frac{n}{\\lambda^{2}} \\right)=\\frac{n}{\\lambda^{2}}$\n",
        "\n",
        "Тогда $\\sqrt{n\\cdot I\\left(  \\widehat{\\theta}(\\overrightarrow{X})\\right)}\\left( \\widehat{\\theta}(\\overrightarrow{X})-\\theta \\right)\\sim N(0,1)$\n",
        "\n",
        "Выбираем $X_{\\alpha}$: $\\mathrm{Ф}(X_{\\alpha})=1-\\frac{\\alpha_{2}}{2}=1-\\frac{0.01}{2}=0.995 \\to X_{0.995}=2.5$\n",
        "\n",
        "$А.Д.И. \\left[ \\frac{1}{\\overline{X}}-\\frac{X_{0.995}}{\\sqrt{50\\cdot \\frac{50}{\\overline{X}^{2}}}}; \\frac{1}{\\overline{X}}+\\frac{X_{0.995}}{\\sqrt{50\\cdot \\frac{50}{\\overline{X}^{2}}}}\\right] \\to 0.269-\\frac{2.5\\cdot 0.269}{50}\\le \\lambda\\le 0.269+\\frac{2.5\\cdot 0.269}{50}$\n",
        "\n",
        "$0.083\\le \\lambda\\le 0.455$- Асимп. довер. интервал параметра $\\lambda$.\n",
        "\n",
        "2. Построим на безе асимтотической нормальной оценки $\\widehat{\\theta}$\n",
        "\n",
        "$\\sqrt{n}\\left( \\widehat{\\theta}(\\overrightarrow{X})-\\theta \\right)\\sim N(0,\\sigma^{2}(\\theta))$\n",
        "\n",
        "$\\sqrt{n}\\frac{ \\widehat{\\theta}(\\overrightarrow{X})-\\theta}{\\sigma(\\widehat{\\theta})}\\sim N(0,1)$\n",
        "\n",
        "$X_{\\alpha}: \\mathrm{Ф(X_{\\alpha})}=0.995\\to X_{0.99}=2.5$\n",
        "\n",
        "$-X_{0.995}\\le \\sqrt{n}\\cdot \\frac{\\widehat{\\lambda}-\\lambda}{\\sqrt{\\widehat{\\lambda}}}\\le X_{0.995}$\n",
        "\n",
        "$0.269-\\frac{2.5\\cdot 0.269}{\\sqrt{50}}\\le \\lambda\\le 0.269+\\frac{2.5\\cdot 0.269}{\\sqrt{50}}\\to 0.174\\le \\lambda\\le 0.364$ - А.Д.И. параметра $\\lambda$"
      ],
      "metadata": {
        "id": "bBzTdeiMXIZN"
      }
    },
    {
      "cell_type": "markdown",
      "source": [
        "#### e)Построение критерия значимости проверки простой гипотезы согласия с показательным распределением с параметром λ0=0.25 с использованием теоремы Колмогорова. Проверка гипотезы на уровне значимости α2 = 0,01. Вычисление наименьшее значения уровня значимости, на котором ещё нет оснований отвергнуть гипотезу.\n",
        "\n"
      ],
      "metadata": {
        "id": "8Dyc_1xzewiv"
      }
    },
    {
      "cell_type": "code",
      "source": [
        "from scipy.stats import expon\n",
        "from scipy.stats import kstwobign\n",
        "# Вычисление статистики Колмогорова D\n",
        "D = np.max(np.abs(expon.cdf(sorted_data_1, scale=1/0.25) - np.arange(1, len(data_1)+1 / len(data_1))))\n",
        "\n",
        "# Расчёт критического значения\n",
        "alpha_2 = 0.01\n",
        "critical_value = kstwobign.ppf(1 - alpha_2/2) / np.sqrt(len(data_1))\n",
        "\n",
        "# Проверка гипотезы\n",
        "if D <= critical_value:\n",
        "    print(\"Гипотеза принимается\")\n",
        "    print(\"Наименьшее значение уровня значимости, на котором нет оснований отвергать гипотезу (D <= critical_value):\", alpha_2)\n",
        "else:\n",
        "    print(\"Гипотеза отвергается (D > critical_value)\")\n",
        "\n",
        "print(\"Вычисленное значение статистики Колмогорова D:\",D)\n",
        "print(\"Вычисленное критическое значение статичтики Колмогорова:\",critical_value)\n",
        "\n",
        "# Найдем наибольший уровень значимости\n",
        "max_alpha = 0.01\n",
        "while D <= kstwobign.ppf(1 - max_alpha/2) / np.sqrt(len(data_1)):\n",
        "    max_alpha += 0.01\n",
        "\n",
        "print(\"Наибольший уровень значимости без отвергания гипотезы:\", round(max_alpha, 2))"
      ],
      "metadata": {
        "colab": {
          "base_uri": "https://localhost:8080/"
        },
        "id": "eJwZknrnh8N6",
        "outputId": "2bac59e2-0b59-4ba6-80a2-580376e3cde6"
      },
      "execution_count": null,
      "outputs": [
        {
          "output_type": "stream",
          "name": "stdout",
          "text": [
            "Гипотеза отвергается (D > critical_value)\n",
            "Вычисленное значение статистики Колмогорова D: 49.00061894137436\n",
            "Вычисленное критическое значение статичтики Колмогорова: 0.2447746827489105\n",
            "Наибольший уровень значимости без отвергания гипотезы: 0.01\n"
          ]
        }
      ]
    },
    {
      "cell_type": "markdown",
      "source": [
        "#### f)Используя гистограмму частот, построить критерий значимости $\\mathcal{X^{2}}$ проверки простой гипотезы согласия с показательным распределением с параметром $\\lambda_{0}$. Проверить гипотезу на урокень значимости $\\alpha_{2}$. Вычислить наибольшее значение уровня значимости, на котором ещё нет оснований отвергнуть данную гипотезу.\n",
        "\n",
        "$P_{i}=P_{H_{0}}=(X\\in I_{i})=\\sum_{k\\in I_{i}}^{}\\lambda_{0}\\cdot exp(-\\lambda_{0}\\cdot k)$\n",
        "\n",
        "$I_{1}=\\left[ 0,10 \\right], n_{1}=44$\n",
        "\n",
        "$P_{1}=0.25\\cdot exp(-0.25\\cdot 0)+0.25\\cdot exp(-0.25\\cdot 10)=0.27\\to nP_{1}=13.53$\n",
        "\n",
        "$I_{2}=\\left[ 10.1,20 \\right], n_{2}=5$\n",
        "\n",
        "$P_{2}=0.25\\cdot exp(-0.25\\cdot 10.1)+0.25\\cdot exp(-0.25\\cdot 20)=0.02\\to nP_{2}=1.08$\n",
        "\n",
        "$I_{3}=\\left[ 21,30 \\right], n_{3}=1$\n",
        "\n",
        "$P_{3}=0.25\\cdot exp(-0.25\\cdot 21)+0.25\\cdot exp(-0.25\\cdot 30)=0.001\\to nP_{3}=0.07$\n",
        "\n",
        "Критерий $\\mathcal{X}^{2}: \\mathcal{X}^{2}_{набл}=\\sum_{i=1}^{3}\\frac{(n_{i}-np_{i})^{2}}{np_{i}} =95.2$\n",
        "\n",
        "$\\mathcal{X}^{2}_{N-1,1-\\alpha_{1}}=\\mathcal{X}^{2}_{2,0.99}\\simeq 9.21$\n",
        "\n",
        "$\\mathcal{X}^{2}\\gt \\mathcal{X}^{2}_{2,0.99}\\to$ по критерию Пирсона мы отвергаем гипотезу\n",
        "\n",
        "Наибольшее значение уровня значимости, при котором нет еще оснований отвергнуть данную гипотезу очень мала << 0.01"
      ],
      "metadata": {
        "id": "R2tggMyZju0o"
      }
    },
    {
      "cell_type": "markdown",
      "source": [
        "#### g)Построить критерий значимости  $\\mathcal{X^{2}}$ проверки сложной гипотезы согласия с показательным распределением. Проверить гипотезу по уровню значимости $\\alpha_{2}$.Вычислить наибольшее значение уровня значимости, на котором ещё нет оснований отвергнуть данную гипотезу.\n",
        "\n",
        "$P_{i}=P_{H_{0}}=(X\\in I_{i})=\\sum_{k\\in I_{i}}^{}\\frac{1}{\\overline{X}}\\cdot exp(-\\frac{1}{\\overline{X}}\\cdot k)$\n",
        "\n",
        "$I_{1}=\\left[ 0,10 \\right], n_{1}=44$\n",
        "\n",
        "$P_{1}=0.269\\cdot exp(-0.269\\cdot 0)+0.269\\cdot exp(-0.269\\cdot 10)=0.29\\to nP_{1}=14.36$\n",
        "\n",
        "$I_{2}=\\left[ 10.1,20 \\right], n_{2}=5$\n",
        "\n",
        "$P_{2}=0.269\\cdot exp(-0.269\\cdot 10.1)+0.269\\cdot exp(-0.269\\cdot 20)=0.02\\to nP_{2}=0.95$\n",
        "\n",
        "$I_{3}=\\left[ 21,30 \\right], n_{3}=1$\n",
        "\n",
        "$P_{3}=0.269\\cdot exp(-0.269\\cdot 21)+0.269\\cdot exp(-0.269\\cdot 30)=0.001\\to nP_{3}=0.07$\n",
        "\n",
        "Критерий $\\mathcal{X}^{2}: \\mathcal{X}^{2}_{набл}=\\sum_{i=1}^{3}\\frac{(n_{i}-np_{i})^{2}}{np_{i}} =90.8$\n",
        "\n",
        "$\\mathcal{X}^{2}_{N-1,1-\\alpha_{1}}=\\mathcal{X}^{2}_{2,0.99}\\simeq 9.21$\n",
        "\n",
        "$\\mathcal{X}^{2}\\gt \\mathcal{X}^{2}_{2,0.99}\\to$ по критерию Пирсона мы отвергаем гипотезу\n",
        "\n",
        "Наибольшее значение уровня значимости, при котором нет еще оснований отвергнуть данную гипотезу очень мала << 0.01"
      ],
      "metadata": {
        "id": "VCXT-_ZEqy1r"
      }
    },
    {
      "cell_type": "markdown",
      "source": [
        "#### h)Построить наиболее мощный критерий проверки простой гипотезы о показательности с параметром $\\lambda=\\lambda_{0}$ при альтернативе показательности с параметром $\\lambda=\\lambda_{1}$. Проверить гипотезу на уровне значимости $\\alpha_2$. Что получится, если поменять местами основную и альтернативную гипотезы?\n",
        "\n",
        "Основная гипотеза: $H_{0}=\\lambda_{0}=0.25$\n",
        "\n",
        "Альтернативная гипотеза: $H_{A}=\\lambda_{1}=0.17$\n",
        "\n",
        "Воспользуемся статистическим отношением правдоподобия:\n",
        "\n",
        "$LR(\\overrightarrow{X},\\lambda_{1},\\lambda_{0}) = \\frac{L\\left( \\overrightarrow{X},\\lambda_{1} \\right)}{L\\left( \\overrightarrow{X},\\lambda_{0} \\right)}= \\frac{\\lambda_{1}^{n}\\cdot exp(-\\lambda_{1}\\cdot \\sum_{i=1}^{50}X_{i})}{\\lambda_{0}^{n}\\cdot exp(-\\lambda_{0}\\cdot \\sum_{i=1}^{50}X_{i})}$.\n",
        "\n",
        "$\\left(\\frac{\\lambda_{1}}{\\lambda_{0}}\\right)^{n} \\cdot exp \\left((\\lambda_{0}-\\lambda_{1}) \\cdot \\sum_{i=1}^{50}X_{i} \\right) > c$\n",
        "\n",
        "$LR(\\overrightarrow{X},\\lambda_{0},\\lambda_{1})\\gt c\\Leftrightarrow \\overrightarrow{X}\\gt c$\n",
        "\n",
        "$exp\\left( (\\lambda_{0}-\\lambda_{1})\\sum_{i=1}^{50}X_{i} \\right)=\\left( \\frac{\\lambda_{0}}{\\lambda_{1}} \\right)^{n}\\cdot c$\n",
        "\n",
        "$\\sum_{i=1}^{50}X_{i}=n\\cdot \\ln\\left(\\left( \\frac{\\lambda_{0}}{\\lambda_{1}} \\right)c \\right)=c^{*}$\n",
        "\n",
        "$P\\left\\{ H_{1}|H_{0} \\right\\}=P\\left\\{ \\sum_{i=1}^{50}X_{i}\\gt c^{*}|\\lambda=\\lambda_{0} \\right\\}=\\alpha_{2}$\n",
        "\n",
        "$X_{i}\\sim Exp(\\lambda)\\to X_{i}\\sim \\Gamma \\left(1,\\frac{1}{\\lambda} \\right)\\to \\sum_{i=1}^{50}X_{i}\\sim \\Gamma \\left(n,\\frac{1}{\\lambda}\\right)$\n",
        "\n",
        "$\\alpha_{2}=1-F_{\\Gamma \\left(n,\\frac{1}{\\lambda} \\right)}(c)\\Rightarrow c=F_{\\Gamma \\left(n,\\frac{1}{\\lambda} \\right)}^{-1}(1-\\alpha_{2})$\n",
        "\n",
        "Найдем критическое значение $c$. В данном случае, так как $n=50$ и $\\lambda=\\lambda_{0}=0.25$, вычислим $c = F_{\\Gamma(50, 4)}^{-1}(1-0.01) = 271.6$.\n",
        "\n",
        "Рассчитаем статистику отношения правдоподобия $LR(\\overrightarrow{X}, \\lambda_{0}, \\lambda_{1})$. В данном случае, так как $\\lambda_{0}=0.25$, $\\lambda_{1}=0.17$, $n=50$ и $\\sum_{i=1}^{50}X_i=c^*=185.89$, получаем $LR(\\overrightarrow{X}, \\lambda_{0}, \\lambda_{1}) = \\left(\\frac{0.25}{0.17}\\right)^{50} \\cdot e^{(0.17-0.25) \\cdot 185.89} = 82.43$.\n",
        "\n",
        "Так как $LR(\\overrightarrow{X}, \\lambda_0, \\lambda_1) = 82.43 \\lt 271.6$, то мы отвергаем основную гипотезу $H_0$.\n",
        "\n",
        "Поменяем теперь основную и альтернативную гипотезу местами:\n",
        "\n",
        "Основная гипотеза: $H_{0}=\\lambda_{1}$\n",
        "\n",
        "Альтернативная гипотеза: $H_{A}=\\lambda_{0}$\n",
        "\n",
        "Воспользуемся статистическим отношением правдоподобия:\n",
        "\n",
        "$LR(\\overrightarrow{X},\\lambda_{0},\\lambda_{1}) = \\frac{L\\left( \\overrightarrow{X},\\lambda_{0} \\right)}{L\\left( \\overrightarrow{X},\\lambda_{1} \\right)}= \\frac{\\lambda_{0}^{n}\\cdot exp(-\\lambda_{0}\\cdot \\sum_{i=1}^{50}X_{i})}{\\lambda_{1}^{n}\\cdot exp(-\\lambda_{1}\\cdot \\sum_{i=1}^{50}X_{i})}$\n",
        "\n",
        "$LR(\\overrightarrow{X},\\lambda_{0},\\lambda_{1})\\gt c\\Leftrightarrow \\overline{X}\\gt c^{*}$\n",
        "\n",
        "$c = F_{\\Gamma(50, \\frac{1}{0.17})}^{-1}(1-0.01) = 399.4$.\n",
        "\n",
        "$LR(\\overrightarrow{X}, \\lambda_{0}, \\lambda_{1}) = \\left(\\frac{0.17}{0.25}\\right)^{50} \\cdot e^{(0.25-0.17) \\cdot 185.89} = 0.012$.\n",
        "\n",
        "Если поменять местами основную и альтернативную гипотезы, то вместо статистики отношения правдоподобия мы будем рассчитывать ее обратное значение. То есть, рассчитаем $LR(\\overrightarrow{X}, \\lambda_{1}, \\lambda_{0})$ и сравним его с критическим значением. В данном случае, мы придем к выводу, что не можем отвергнуть основную гипотезу, так как $LR(\\overrightarrow{X}, \\lambda_{1}, \\lambda_{0})=0.012 \\gt c = 399.4$. И мы принимаем гипотезу $H_{0}$\n"
      ],
      "metadata": {
        "id": "QpF673nMt-Os"
      }
    },
    {
      "cell_type": "code",
      "source": [
        "#Код для нахождения с\n",
        "shape = 50\n",
        "scale = 1/0.25\n",
        "c = stats.gamma.ppf(0.99, a=shape, scale=scale)\n",
        "\n",
        "shape_1 = 50\n",
        "scale_1 = 1/0.17\n",
        "c_1 = stats.gamma.ppf(0.99, a=shape_1, scale=scale_1)\n",
        "print(c)\n",
        "print(c_1)"
      ],
      "metadata": {
        "colab": {
          "base_uri": "https://localhost:8080/"
        },
        "id": "AVmv7GlymoP2",
        "outputId": "84a9c49e-3e67-4085-cedf-575403c6cc9d"
      },
      "execution_count": null,
      "outputs": [
        {
          "output_type": "stream",
          "name": "stdout",
          "text": [
            "271.6134463420535\n",
            "399.431538738314\n"
          ]
        }
      ]
    },
    {
      "cell_type": "markdown",
      "source": [
        "#### i)В пунктах (c)-(h) заменить семейство показательных распределений на гамма-распределений с плотностями $P_{\\lambda}(X)=\\frac{\\sqrt{\\lambda}\\cdot exp\\left( \\frac{-\\lambda\\cdot X}{2} \\right)}{\\sqrt{2\\cdot \\pi\\cdot X}}$"
      ],
      "metadata": {
        "id": "sEnQ-Q3l5JZy"
      }
    },
    {
      "cell_type": "markdown",
      "source": [
        "#### i.c)В предположении, что исходные наблюдения являются выборкой из гамма-распределения, построить ОМП и ОММ параметра $\\lambda$.Найти смещение оценки.\n",
        "\n",
        "Построим ОМП.\n",
        "Плотность показательного распределения: $P_{\\lambda}(X)=\\frac{\\sqrt{\\lambda}\\cdot exp\\left( \\frac{-\\lambda\\cdot X}{2} \\right)}{\\sqrt{2\\cdot \\pi\\cdot X}}$\n",
        "\n",
        "Построим функцию правдоподобия:\n",
        "\n",
        "$L(\\overrightarrow{X},\\theta)=\\prod_{i=1}^{n}\\frac{\\sqrt{\\lambda}\\cdot exp\\left( \\frac{-\\lambda\\cdot X}{2} \\right)}{\\sqrt{2\\cdot \\pi\\cdot X}}=\\frac{\\lambda^{\\frac{n}{2}}\\cdot exp\\left( \\frac{-\\lambda}{2} \\cdot \\sum_{i=1}^{n}X_{i}\\right)}{(2\\pi)^{\\frac{n}{2}}\\cdot (\\prod_{i=1}^{n}X_{i})^{\\frac{n}{2}}}$\n",
        "\n",
        "Прологарифмируем функцию правдоподобия:\n",
        "\n",
        "$LL(\\overrightarrow{X},\\theta)=\\frac{n}{2}\\ln(\\lambda)-\\frac{-\\lambda\\cdot \\sum_{i=1}^{n}X_{i}}{2}-\\frac{n}{2}\\ln(2\\pi)-\\frac{n}{2}\\ln(\\prod_{i=1}^{n}X_{i})$\n",
        "\n",
        "Найдем частную производную по параметру $\\lambda$ и приравняем производную к нулю и тем самым найдем наш параметр:\n",
        "\n",
        "$\\frac{\\partial LL}{\\partial \\lambda}=\\frac{n}{2\\lambda}-\\frac{\\sum_{i=1}^{n}X_{i}}{2}=0\\to \\frac{n}{2\\lambda}=\\frac{\\sum_{i=1}^{n}X_{i}}{2}\\to \\frac{\\lambda}{n}=\\frac{1}{\\sum_{i=1}^{n}X_{i}}\\to \\lambda=\\frac{1}{\\overline{X}}$.\n",
        "\n",
        "Выборка нам известна, и мы можем посчитать, чему равен параметр:$\\widehat{\\lambda}=\\frac{1}{\\overline{X}}=0.269$\n",
        "\n",
        "\n",
        "Построим по ОММ.\n",
        "Для показательного распределения $P_{\\lambda}(X)=\\frac{\\sqrt{\\lambda}\\cdot exp\\left( \\frac{-\\lambda\\cdot X}{2} \\right)}{\\sqrt{2\\cdot \\pi\\cdot X}}$\n",
        "\n",
        "нам известно, что первый момент $\\mathbb{E}X_{1}=a \\cdot b=\\frac{1}{\\lambda};M_{1}=\\overline{X}$,где $a-1=\\frac{-1}{2} \\to a=\\frac{1}{2}$, а параметр $b=\\frac{2}{\\lambda}$\n",
        "\n",
        "Нашли из $\\left(P(X)=\\frac{1}{\\Gamma(a)\\cdot b^{a}}X^{a-1} \\cdot exp \\left(-\\frac{X}{b}\\right)\\right)$\n",
        "\n",
        "равен нашему параметру, и поскольку у нас 1-но мерный параметр, то у нас будет система из одного уравнения.\n",
        "\n",
        "Тогда мы получим $\\widetilde{\\theta}=\\widetilde{\\lambda}=\\frac{1}{\\overline{X}}=0.269$\n",
        "\n",
        "\n",
        "Осталось найти смещение оценки.\n",
        "\n",
        "Для нахождения НРМД-оценки нам понадобится ОМП, которое мы нашли.\n",
        "\n",
        "$g\\left(T(\\overrightarrow{X})\\right)=\\frac{\\lambda^{\\frac{n}{2}}\\cdot exp\\left( \\frac{-\\lambda}{2} \\cdot \\sum_{i=1}^{n}X_{i}\\right)}{(\\prod_{i=1}^{n}X_{i})^{\\frac{n}{2}}}$\n",
        "\n",
        "$h(\\overrightarrow{X})=\\frac{1}{(2\\pi)^{\\frac{n}{2}}}$\n",
        "\n",
        "Достаточная минимальная статистика: $T=\\sum_{i=1}^{n}X_{i}=185.89$.\n",
        "\n",
        "Показательное распределение принадлежит экспоненциальному семейству распределения, следовательно, МДС будет являться ПДС.\n",
        "\n",
        "$\\mathbb{E}_{\\lambda}\\frac{1}{\\overline{X}}=\\mathbb{E}_{\\lambda}\\frac{n}{\\sum_{i=1}^{n}x_{i}}=n\\cdot \\mathbb{E_{\\lambda}}\\frac{1}{\\sum_{i=1}^{n}x_{i}}=n\\cdot \\mathbb{E}_{\\lambda}(\\sum_{i=1}^{n}X_{i})^{-1}=n\\cdot \\left(\\frac{1}{\\lambda}\\right)^{-1}\\frac{\\Gamma (-1+n)}{\\Gamma (n)}=n\\cdot \\lambda\\frac{\\Gamma (-1+n)}{\\Gamma(-1+n)\\cdot (n-1)}=\\frac{n\\cdot \\lambda}{n-1}\\to смещенная-оценка$\n",
        "\n",
        "$\\widetilde{\\lambda}=\\widehat{\\lambda}\\frac{n-1}{n}$\n",
        "\n",
        "$\\mathbb{E}_{\\lambda}\\widetilde{\\lambda}=\\mathbb{E}_{\\lambda}\\widehat{\\lambda}\\frac{n-1}{n}=\\frac{n-1}{n}\\mathbb{E}_{\\lambda}\\widehat{\\lambda}=\\frac{n-1}{n}\\cdot \\frac{n\\cdot \\lambda}{n-1}=\\lambda$-НРМД-оценка\n",
        "\n",
        "$X_{i}\\sim Exp(\\lambda) \\to X_{i}\\sim Gamma(1,\\frac{1}{\\lambda})\\Rightarrow \\sum_{i=1}^{n}X_{i}\\sim Gamma(n,\\frac{1}{\\lambda})$\n",
        "\n",
        "Если $X_{i}\\sim Gamma(\\alpha,\\beta)$, где $\\alpha\\gt 0$ и $\\beta\\gt 0$, $\\gamma\\gt -\\alpha$, то $\\mathbb{E}X_{i}^{\\gamma}=\\beta^{\\gamma}\\frac{Г(\\gamma+\\alpha)}{Г(\\alpha)}$"
      ],
      "metadata": {
        "id": "Z4Yi-KhH65P9"
      }
    },
    {
      "cell_type": "markdown",
      "source": [
        "#### i.d)Построить А.Д.И. уровня значимости $\\alpha_2$ для параметра $\\lambda$ на базе ОМП\n",
        "1. Построим на базе ОМП.\n",
        "\n",
        "$\\sqrt{n}\\left( \\widehat{\\theta}(\\overrightarrow{X})-\\theta \\right)\\sim N\\left( 0, \\frac{1}{I(\\theta)} \\right)$\n",
        "\n",
        "ОМП $\\widehat{\\theta}=\\widehat{\\lambda}=\\frac{1}{\\overline{X}}$\n",
        "\n",
        "Найдем информацию Фишера: $I(\\theta)=-\\mathbb{E}\\left( \\frac{\\partial^{2} LL}{\\partial \\lambda^{2}} \\right)=-\\mathbb{E}\\left( -\\frac{n}{2\\cdot \\lambda^{2}} \\right)=\\frac{n}{2\\cdot \\lambda^{2}}$\n",
        "\n",
        "Тогда $\\sqrt{n\\cdot I\\left(  \\widehat{\\theta}(\\overrightarrow{X})\\right)}\\left( \\widehat{\\theta}(\\overrightarrow{X})-\\theta \\right)\\sim N(0,1)$\n",
        "\n",
        "Выбираем $X_{\\alpha}$: $\\mathrm{Ф}(X_{\\alpha})=1-\\frac{\\alpha_{2}}{2}=1-\\frac{0.01}{2}=0.995 \\to X_{0.995}=2.5$\n",
        "\n",
        "$А.Д.И. \\left[ \\frac{1}{\\overline{X}}-\\frac{X_{0.995}}{\\sqrt{50\\cdot \\frac{50}{2\\cdot \\overline{X}^{2}}}}; \\frac{1}{\\overline{X}}+\\frac{X_{0.995}}{\\sqrt{50\\cdot \\frac{50}{2\\cdot \\overline{X}^{2}}}}\\right] \\to 0.269-\\frac{2.5\\cdot 0.269}{\\sqrt{50\\cdot 25 \\cdot 0.269}}\\le \\lambda\\le 0.269+\\frac{2.5\\cdot 0.269}{\\sqrt{50\\cdot 25\\cdot 0.269}}$\n",
        "\n",
        "$0.133\\le \\lambda\\le 0.405$- Асимп. довер. интервал параметра $\\lambda$.\n",
        "\n",
        "2. Построим на безе асимтотической нормальной оценки $\\widehat{\\theta}$\n",
        "\n",
        "$\\sqrt{n}\\left( \\widehat{\\theta}(\\overrightarrow{X})-\\theta \\right)\\sim N(0,\\sigma^{2}(\\theta))$\n",
        "\n",
        "$\\sqrt{n}\\frac{ \\widehat{\\theta}(\\overrightarrow{X})-\\theta}{\\sigma(\\widehat{\\theta})}\\sim N(0,1)$\n",
        "\n",
        "$X_{\\alpha}: \\mathrm{Ф(X_{\\alpha})}=0.995\\to X_{0.99}=2.5$\n",
        "\n",
        "$-X_{0.995}\\le \\sqrt{n}\\cdot \\frac{\\widehat{\\lambda}-\\lambda}{\\sqrt{\\widehat{\\lambda}}}\\le X_{0.995}$\n",
        "\n",
        "$0.269-\\frac{2.5\\cdot 0.269}{\\sqrt{50}}\\le \\lambda\\le 0.269+\\frac{2.5\\cdot 0.269}{\\sqrt{50}}\\to 0.174\\le \\lambda\\le 0.364$ - А.Д.И. параметра $\\lambda$"
      ],
      "metadata": {
        "id": "x9LN6byjCf91"
      }
    },
    {
      "cell_type": "markdown",
      "source": [
        "#### i.e)Построение критерия значимости проверки простой гипотезы согласия с гамма-распределением с параметром λ0=0.25 с использованием теоремы Колмогорова. Проверка гипотезы на уровне значимости α2 = 0,01. Вычисление наибольшее значения уровня значимости, на котором ещё нет оснований отвергнуть гипотезу."
      ],
      "metadata": {
        "id": "SBoUEuZEF91O"
      }
    },
    {
      "cell_type": "code",
      "source": [
        "from scipy.stats import gamma\n",
        "# Вычисление статистики Колмогорова D\n",
        "D = np.max(np.abs(gamma.cdf(sorted_data_1, 1, scale=1/0.25) - np.arange(1, len(data_1)+1 / len(data_1))))\n",
        "\n",
        "# Расчёт критического значения\n",
        "alpha_2 = 0.01\n",
        "critical_value = kstwobign.ppf(1 - alpha_2/2) / np.sqrt(len(data_1))\n",
        "\n",
        "# Проверка гипотезы\n",
        "if D <= critical_value:\n",
        "    print(\"Наименьшее значение уровня значимости, на котором нет оснований отвергать гипотезу (D <= critical_value):\", alpha_2)\n",
        "else:\n",
        "    print(\"Гипотеза отвергается (D > critical_value)\")\n",
        "print(\"Вычисленное значение статистики Колмогорова D:\",D)\n",
        "print(\"Вычисленное критическое значение статичтики Колмогорова:\",critical_value)\n",
        "\n",
        "# Найдем наибольший уровень значимости\n",
        "max_alpha = 0.01\n",
        "while D <= kstwobign.ppf(1 - max_alpha/2) / np.sqrt(len(data_1)):\n",
        "    max_alpha += 0.01\n",
        "\n",
        "print(\"Наибольший уровень значимости без отвергания гипотезы:\", round(max_alpha, 2))"
      ],
      "metadata": {
        "colab": {
          "base_uri": "https://localhost:8080/"
        },
        "id": "aNWXrWsaH2m1",
        "outputId": "7c0bbd63-4b05-4dc0-da1f-793e1513557a"
      },
      "execution_count": null,
      "outputs": [
        {
          "output_type": "stream",
          "name": "stdout",
          "text": [
            "Гипотеза отвергается (D > critical_value)\n",
            "Вычисленное значение статистики Колмогорова D: 49.00061894137436\n",
            "Вычисленное критическое значение статичтики Колмогорова: 0.2447746827489105\n",
            "Наибольший уровень значимости без отвергания гипотезы: 0.01\n"
          ]
        }
      ]
    },
    {
      "cell_type": "markdown",
      "source": [
        "#### i.f)Используя гистограмму частот, построить критерий значимости $\\mathcal{X^{2}}$ проверки простой гипотезы согласия с гамма-распределением с параметром $\\lambda_{0}$. Проверить гипотезу на урокень значимости $\\alpha_{2}$. Вычислить наибольшее значение уровня значимости, на котором ещё нет оснований отвергнуть данную гипотезу.\n",
        "\n",
        "$P_{i}=P_{H_{0}}=(X\\in I_{i})=\\sum_{k\\in I_{i}}^{}\\frac{\\sqrt{\\lambda_{0}}\\cdot exp\\left( -\\frac{\\lambda_{0}\\cdot k}{2} \\right)}{\\sqrt{2\\pi\\cdot k}}$\n",
        "\n",
        "$I_{1}=\\left[ 0.01,10 \\right], n_{1}=43$\n",
        "\n",
        "$P_{1}=\\frac{\\sqrt{0.25}\\cdot exp\\left( -\\frac{0.25\\cdot 0.01}{2} \\right)}{\\sqrt{2\\pi\\cdot 0.01}}+\\frac{\\sqrt{0.25}\\cdot exp\\left( -\\frac{0.25\\cdot 10}{2} \\right)}{\\sqrt{2\\pi\\cdot 10}}=2.01\\to nP_{1}=100.5$\n",
        "\n",
        "$I_{2}=\\left[ 10.1,20 \\right], n_{2}=5$\n",
        "\n",
        "$P_{2}=\\frac{\\sqrt{0.25}\\cdot exp\\left( -\\frac{0.25\\cdot 10.1}{2} \\right)}{\\sqrt{2\\pi\\cdot 10.1}}+\\frac{\\sqrt{0.25}\\cdot exp\\left( -\\frac{0.25\\cdot 20}{2} \\right)}{\\sqrt{2\\pi\\cdot 20}}=0.02\\to nP_{2}=1$\n",
        "\n",
        "$I_{3}=\\left[ 21,30 \\right], n_{3}=1$\n",
        "\n",
        "$P_{3}=\\frac{\\sqrt{0.25}\\cdot exp\\left( -\\frac{0.25\\cdot 21}{2} \\right)}{\\sqrt{2\\pi\\cdot 21}}+\\frac{\\sqrt{0.25}\\cdot exp\\left( -\\frac{0.25\\cdot 30}{2} \\right)}{\\sqrt{2\\pi\\cdot 30}}=0.004\\to nP_{3}=0.2$\n",
        "\n",
        "Критерий $\\mathcal{X}^{2}: \\mathcal{X}^{2}_{набл}=\\sum_{i=1}^{3}\\frac{(n_{i}-np_{i})^{2}}{np_{i}} =52.1$\n",
        "\n",
        "$\\mathcal{X}^{2}_{N-1,1-\\alpha_{1}}=\\mathcal{X}^{2}_{2,0.99}\\simeq 9.21$\n",
        "\n",
        "$\\mathcal{X}^{2}\\gt \\mathcal{X}^{2}_{2,0.99}\\to$ по критерию Пирсона мы отвергаем гипотезу\n",
        "\n",
        "Наибольшее значение уровня значимости, при котором нет еще оснований отвергнуть данную гипотезу очень мала << 0.01\n",
        "\n"
      ],
      "metadata": {
        "id": "kjxgkG4BH9zi"
      }
    },
    {
      "cell_type": "markdown",
      "source": [
        "#### i.g)Построить критерий значимости  $\\mathcal{X^{2}}$ проверки сложной гипотезы согласия с показательным распределением. Проверить гипотезу по уровню значимости $\\alpha_{2}$.Вычислить наибольшее значение уровня значимости, на котором ещё нет оснований отвергнуть данную гипотезу.\n",
        "\n",
        "$P_{i}=P_{H_{0}}=(X\\in I_{i})=\\sum_{k\\in I_{i}}^{}\\frac{\\sqrt{\\frac{1}{\\overline{X}}}\\cdot exp\\left( -\\frac{\\frac{1}{\\overline{X}}\\cdot k}{2} \\right)}{\\sqrt{2\\pi\\cdot k}}$\n",
        "\n",
        "$I_{1}=\\left[ 0.01,10 \\right], n_{1}=43$\n",
        "\n",
        "$P_{1}=\\frac{\\sqrt{0.269}\\cdot exp\\left( -\\frac{0.269\\cdot 0.01}{2} \\right)}{\\sqrt{2\\pi\\cdot 0.01}}+\\frac{\\sqrt{0.269}\\cdot exp\\left( -\\frac{0.269\\cdot 10}{2} \\right)}{\\sqrt{2\\pi\\cdot 10}}=2.08\\to nP_{1}=104$\n",
        "\n",
        "$I_{2}=\\left[ 10.1,20 \\right], n_{2}=5$\n",
        "\n",
        "$P_{2}=\\frac{\\sqrt{0.269}\\cdot exp\\left( -\\frac{0.269\\cdot 10.1}{2} \\right)}{\\sqrt{2\\pi\\cdot 10.1}}+\\frac{\\sqrt{0.269}\\cdot exp\\left( -\\frac{0.269\\cdot 20}{2} \\right)}{\\sqrt{2\\pi\\cdot 20}}=0.02\\to nP_{2}=1$\n",
        "\n",
        "$I_{3}=\\left[ 21,30 \\right], n_{3}=1$\n",
        "\n",
        "$P_{3}=\\frac{\\sqrt{0.25}\\cdot exp\\left( -\\frac{0.269\\cdot 21}{2} \\right)}{\\sqrt{2\\pi\\cdot 21}}+\\frac{\\sqrt{0.269}\\cdot exp\\left( -\\frac{0.269\\cdot 30}{2} \\right)}{\\sqrt{2\\pi\\cdot 30}}=0.003\\to nP_{3}=0.15$\n",
        "\n",
        "Критерий $\\mathcal{X}^{2}: \\mathcal{X}^{2}_{набл}=\\sum_{i=1}^{3}\\frac{(n_{i}-np_{i})^{2}}{np_{i}} =56.6$\n",
        "\n",
        "$\\mathcal{X}^{2}_{N-1,1-\\alpha_{1}}=\\mathcal{X}^{2}_{2,0.99}\\simeq 9.21$\n",
        "\n",
        "$\\mathcal{X}^{2}\\gt \\mathcal{X}^{2}_{2,0.99}\\to$ по критерию Пирсона мы отвергаем гипотезу\n",
        "\n",
        "Наибольшее значение уровня значимости, при котором нет еще оснований отвергнуть данную гипотезу очень мала << 0.01"
      ],
      "metadata": {
        "id": "HfW68W_wPoQQ"
      }
    },
    {
      "cell_type": "markdown",
      "source": [
        "#### i.h)Для гамма-распределения $P_{\\lambda}(X)=\\frac{\\sqrt{\\lambda}\\cdot exp\\left( \\frac{-\\lambda\\cdot X}{2} \\right)}{\\sqrt{2\\cdot \\pi\\cdot X}}$ построить наиболее мощный критерий проверки гипотезы о показательности с параметром $\\lambda=\\lambda_{0}$ при альтернативе показательности с параметром $\\lambda=\\lambda_{1}$.\n",
        "\n",
        "Основная гипотеза: $H_{0}=\\lambda_{0}=0.25$\n",
        "\n",
        "Альтернативная гипотеза: $H_{A}=\\lambda_{1}=0.17$\n",
        "\n",
        "Мы можем использовать статистическое отношение правдоподобия для этой задачи.\n",
        "\n",
        "$LR(\\overrightarrow{X},\\lambda_{0},\\lambda_{1}) = \\frac{L\\left( \\overrightarrow{X},\\lambda_{0} \\right)}{L\\left( \\overrightarrow{X},\\lambda_{1} \\right)}= \\frac{\\lambda_{0}^{\\frac{n}{2}} \\cdot exp \\left(-\\frac{\\lambda_{0}\\cdot \\sum_{i=1}^{50}X_{i}}{2} \\right)}{\\lambda_{1}^{\\frac{n}{2}}\\cdot exp \\left(-\\frac{\\lambda_{1}\\cdot \\sum_{i=1}^{50}X_{i}}{2} \\right)}=\\left(\\frac{\\lambda_{0}}{\\lambda_{1}}\\right)^{\\frac{n}{2}}\\cdot exp \\left((\\lambda_{1}-\\lambda_{0})\\cdot \\sum_{i=1}^{50}X_{i} \\right)$\n",
        "\n",
        "Затем мы можем найти критическую область, используя неравенство: $LR(\\overrightarrow{X},\\lambda_{0},\\lambda_{1}) \\gt c$, где $c$ является критической точкой.\n",
        "\n",
        "Таким образом, наша критическая область будет иметь вид ${\\overrightarrow{X} : \\sum_{i=1}^{50}X_{i} \\gt c^{*}}$.\n",
        "\n",
        "Теперь давайте численно решим эту задачу, используя значения $\\lambda_{0}=0.25$ и $\\lambda_{1}=0.17$, а также уровень значимости $\\alpha_{2}=0.01$. Для этого нам понадобится рассчитать критическую точку $c^{*}$.\n",
        "\n",
        "Используя формулу $c=F_{\\Gamma \\left(n,\\frac{1}{\\lambda} \\right)}^{-1}(1-\\alpha_{2})$, где $F$ - функция распределения гамма-распределения, а $\\Gamma \\left(n,\\frac{1}{\\lambda} \\right)$ - гамма-распределение с параметрами $n$ и $\\frac{1}{\\lambda}$, мы можем найти значение $c^{*}$.\n",
        "\n",
        "Вычислим $c$:\n",
        "$c=F_{\\Gamma \\left(50,\\frac{1}{0.25} \\right)}^{-1}(1-0.01)$\n",
        "\n",
        "Найдем критическое значение $c$. В данном случае, так как $n=50$ и $\\lambda=\\lambda_0=0.25$, вычислим $c = F_{\\Gamma(50, 4)}^{-1}(1-0.01) = 271.6$.\n",
        "\n",
        "Рассчитаем статистику отношения правдоподобия $LR(\\overrightarrow{X}, \\lambda_0, \\lambda_1)$. В данном случае, так как $\\lambda_0=0.25$, $\\lambda_1=0.17$, $n=50$ и $\\sum_{i=1}^{50}X_i=c^*=185.89$, получаем $LR(\\overrightarrow{X}, \\lambda_0, \\lambda_1) = \\left(\\frac{0.25}{0.17}\\right)^{25} \\cdot e^{(0.17-0.25) \\cdot 185.89} = 0.005$.\n",
        "\n",
        "Так как $LR(\\overrightarrow{X}, \\lambda_{0}, \\lambda_{1}) = 0.005 \\lt 271.6$, то мы отвергаем основную гипотезу $H_{0}$.\n",
        "\n",
        "\n",
        "После вычислений мы получаем значение $c^{*}$, которое будет использовано для определения критической области и проверки гипотезы.\n",
        "\n",
        "Теперь давайте рассмотрим ситуацию, если мы поменяем местами основную и альтернативную гипотезы:\n",
        "\n",
        "Основная гипотеза: $H_{0}=\\lambda_{1}=0.17$\n",
        "\n",
        "Альтернативная гипотеза: $H_{A}=\\lambda_{0}=0.25$\n",
        "\n",
        "Вычислим $c$:\n",
        "$c=F_{\\Gamma \\left(50,\\frac{1}{0.17} \\right)}^{-1}(1-0.01)=399.4$\n",
        "\n",
        "Если поменять местами основную и альтернативную гипотезы, то вместо статистики отношения правдоподобия мы будем рассчитывать ее обратное значение. То есть, рассчитаем $LR(\\overrightarrow{X}, \\lambda_{1}, \\lambda_{0})$ и сравним его с критическим значением.\n",
        "\n",
        "$LR(\\overrightarrow{X}, \\lambda_{0}, \\lambda_{1}) = \\left(\\frac{0.17}{0.25}\\right)^{25} \\cdot e^{(0.25-0.17) \\cdot 185.89} = 186.7$\n",
        "\n",
        "В данном случае, мы придем к выводу, что не можем отвергнуть основную гипотезу, так как $LR(\\overrightarrow{X}, \\lambda_{1}, \\lambda_{0})=186.7 \\lt c = 339.4$. И мы отвергаем гипотезу $H_{0}$"
      ],
      "metadata": {
        "id": "mTogAwWXW6Ko"
      }
    },
    {
      "cell_type": "code",
      "source": [
        "#Код для нахождения с\n",
        "shape = 50\n",
        "scale = 1/0.25\n",
        "c = stats.gamma.ppf(0.99, a=shape, scale=scale)\n",
        "\n",
        "shape_1 = 50\n",
        "scale_1 = 1/0.17\n",
        "c_1 = stats.gamma.ppf(0.99, a=shape_1, scale=scale_1)\n",
        "print(c)\n",
        "print(c_1)"
      ],
      "metadata": {
        "colab": {
          "base_uri": "https://localhost:8080/"
        },
        "id": "NvkvWxc-jA5H",
        "outputId": "51556f06-19fe-4810-b7de-635b8143feef"
      },
      "execution_count": null,
      "outputs": [
        {
          "output_type": "stream",
          "name": "stdout",
          "text": [
            "271.6134463420535\n",
            "399.431538738314\n"
          ]
        }
      ]
    },
    {
      "cell_type": "markdown",
      "source": [
        "## Выводы\n",
        "\n",
        "В ходе практической работы было изучено и реализовано применение методов математической статистики для решения задач статистического анализа,сформировались навыки реализации методов с помощью прикладных программных пакетов. Изучив основные концепции и методы,овладели навыками проведения статистических тестов, анализа выборочных данных, построения доверительных интервалов, проверки гипотез и многого другого.Для разных семейств распределений строили оценки, асимптотические интервалы, гипотезы. Одновременно с этим, на практике применяли программные пакеты, такие как Python с библиотеками NumPy, Scipy с пакетами stats,expon и так далее. Эти прикладные программные пакеты стали надежными помощниками при реализации методов математической статистики, позволяя проводить анализ данных, вычислять статистические выборочные характеристики, разрабатывать модели и многое другое."
      ],
      "metadata": {
        "id": "QX7-VGUuZf9G"
      }
    }
  ]
}
